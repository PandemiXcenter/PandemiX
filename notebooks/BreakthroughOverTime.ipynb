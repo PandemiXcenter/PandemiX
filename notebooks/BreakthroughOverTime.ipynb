{
 "cells": [
  {
   "cell_type": "code",
   "execution_count": 1,
   "metadata": {},
   "outputs": [
    {
     "name": "stdout",
     "output_type": "stream",
     "text": [
      "saveFigures is set to: True\n",
      "Done loading packages\n"
     ]
    }
   ],
   "source": [
    "# Load packages and settings\n",
    "import numpy as np\n",
    "import pandas as pd\n",
    "pd.set_option('display.max_rows', 500)\n",
    "pd.set_option('display.min_rows', 50)\n",
    "import seaborn as sns\n",
    "\n",
    "\n",
    "import matplotlib.pyplot as plt\n",
    "%matplotlib widget\n",
    "plt.rcParams['figure.figsize'] = (12,8)\n",
    "plt.rcParams[\"image.cmap\"] = \"tab10\"\n",
    "plt.rcParams['axes.prop_cycle'] = plt.cycler(color=plt.cm.tab10.colors)\n",
    "fs_label = 15\n",
    "parameters = {\n",
    "                'axes.labelsize': fs_label,\n",
    "                'axes.titlesize': fs_label+4,\n",
    "                'xtick.labelsize': fs_label,\n",
    "                'ytick.labelsize': fs_label, \n",
    "                'legend.fontsize': fs_label, \n",
    "                'lines.markersize': 10,\n",
    "                'lines.linewidth': 3\n",
    "             }\n",
    "plt.rcParams.update(parameters)\n",
    "%matplotlib widget\n",
    "from matplotlib import cm # Colormaps\n",
    "import matplotlib.colors as colors\n",
    "# cmap = plt.cm.get_cmap('Dark2',len(ageGroups))\n",
    "\n",
    "import locale\n",
    "import matplotlib.dates as mdates\n",
    "locale.setlocale(locale.LC_TIME,\"Danish\")\n",
    "# ax1.xaxis.set_major_formatter(mdates.DateFormatter('%b\\n%Y'))\n",
    "\n",
    "from matplotlib.colors import LinearSegmentedColormap\n",
    "\n",
    "\n",
    "import os\n",
    "# import csv\n",
    "import math\n",
    "\n",
    "from datetime import date\n",
    "\n",
    "\n",
    "saveFigures = True\n",
    "# saveFigures = False\n",
    "print('saveFigures is set to: '+str(saveFigures))\n",
    "\n",
    "print('Done loading packages')\n",
    "\n",
    "# Define running mean functions\n",
    "def rnMean(data,meanWidth):\n",
    "    return np.convolve(data, np.ones(meanWidth)/meanWidth, mode='valid')\n",
    "def rnTime(t,meanWidth):\n",
    "    return t[math.floor(meanWidth/2):-math.ceil(meanWidth/2)+1]\n",
    "    \n",
    "    \n",
    "# Define paths\n",
    "rootdir_data = os.getcwd() +\"\\\\..\\\\DanskeData\\\\\" \n",
    "\n",
    "path_data = rootdir_data + \"ssi_data\\\\\"\n",
    "path_dash = rootdir_data + \"ssi_dashboard\\\\\"\n",
    "path_vacc = rootdir_data + \"ssi_vacc\\\\\"\n",
    "\n",
    "path_figs = os.getcwd() +\"\\\\..\\\\Figures\\\\\" "
   ]
  },
  {
   "cell_type": "code",
   "execution_count": 2,
   "metadata": {},
   "outputs": [],
   "source": [
    "\n",
    "latestsubdir = list(os.walk(path_dash))[0][1][-1]\n",
    "latestdir = path_dash + latestsubdir\n",
    "latestdir\n",
    "\n",
    "# dfAge = pd.read_csv(latestdir+'\\\\Regionalt_DB\\\\18_fnkt_alder_uge_testede_positive_nyindlagte.csv',delimiter=';',encoding='latin1')\n",
    "\n",
    "dfCurAdmitted = pd.read_csv(latestdir+'\\\\Gennembruds_DB\\\\01_indlagte_pr_vaccinationsstatus.csv',delimiter=';',encoding='latin1')\n",
    "df = pd.read_csv(latestdir+'\\\\Gennembruds_DB\\\\06_nyindlagte_pr_vaccinationsstatus_pr_aldersgrp_pr_uge.csv',delimiter=';',encoding='latin1')\n",
    "\n",
    "df['Nyindlagte pr. 100.000'] = pd.to_numeric(df['Nyindlagte pr. 100.000'].str.replace(',','.'))"
   ]
  },
  {
   "cell_type": "code",
   "execution_count": 3,
   "metadata": {},
   "outputs": [],
   "source": [
    "\n",
    "firstWeek = 20\n",
    "firstIndexToUse = df[df.Uge == '2021-W20'].index[0]\n",
    "dfShort = df.loc[firstIndexToUse:]\n",
    "\n",
    "dfVacc = dfShort[dfShort.Vaccinationsstatus == 'Forventet fuld effekt']\n",
    "dfUnvacc = dfShort[dfShort.Vaccinationsstatus == 'Ikke vaccineret']\n",
    "\n",
    "lastWeek = int(df.iloc[-1]['Uge'][-2:])\n",
    "\n",
    "totNumWeeks = int(lastWeek-firstWeek)\n",
    "weekRange = np.arange(firstWeek,lastWeek+1)\n",
    "\n",
    "weekLabels = ['Uge\\n'+str(x) for x in weekRange]\n",
    "weekLabels = ['Uge '+str(x) for x in weekRange]\n",
    "\n",
    "allAgeGroups = df.Aldersgruppe.unique()\n",
    "\n",
    "fullMatVaccInci = np.zeros((totNumWeeks+1,len(allAgeGroups)))\n",
    "fullMatVaccCount = np.zeros((totNumWeeks+1,len(allAgeGroups)))\n",
    "\n",
    "for ageIndex in range(len(allAgeGroups)):\n",
    "    curAgeGroup = allAgeGroups[ageIndex]\n",
    "\n",
    "    agedf = dfVacc[(dfVacc.Aldersgruppe == curAgeGroup)]\n",
    "\n",
    "\n",
    "    ageInci = []\n",
    "    ageCount = []\n",
    "    \n",
    "    # for weekNum in np.arange(firstWeek,lastWeek+1):\n",
    "    for weekIndex in range(totNumWeeks+1):\n",
    "        weekNum = weekRange[weekIndex]\n",
    "        thisdf = agedf[agedf.Uge == str('2021-W'+str(weekNum))]\n",
    "        \n",
    "        curInci = thisdf['Nyindlagte pr. 100.000']\n",
    "        curCount = thisdf['Antal nyindlagte']\n",
    "        \n",
    "        if len(curInci) == 0:\n",
    "            ageInci.append(0)\n",
    "            ageCount.append(0)\n",
    "        else:\n",
    "            ageInci.append(curInci.values[0])\n",
    "            ageCount.append(curCount.values[0])\n",
    "            \n",
    "    fullMatVaccInci[:,ageIndex] = ageInci\n",
    "    fullMatVaccCount[:,ageIndex] = ageCount\n",
    "# pd.DataFrame(fullMatVaccInci,columns=allAgeGroups)\n",
    "\n",
    "dfPlotVacc = pd.DataFrame(fullMatVaccInci,columns=allAgeGroups) \n",
    "\n",
    "\n",
    "\n",
    "fullMatUnvaccInci = np.zeros((totNumWeeks+1,len(allAgeGroups)))\n",
    "fullMatUnvaccCount = np.zeros((totNumWeeks+1,len(allAgeGroups)))\n",
    "\n",
    "for ageIndex in range(len(allAgeGroups)):\n",
    "    curAgeGroup = allAgeGroups[ageIndex]\n",
    "\n",
    "    agedf = dfUnvacc[(dfUnvacc.Aldersgruppe == curAgeGroup)]\n",
    "\n",
    "\n",
    "    ageInci = []\n",
    "    ageCount = []\n",
    "    \n",
    "    # for weekNum in np.arange(firstWeek,lastWeek+1):\n",
    "    for weekIndex in range(totNumWeeks+1):\n",
    "        weekNum = weekRange[weekIndex]\n",
    "        thisdf = agedf[agedf.Uge == str('2021-W'+str(weekNum))]\n",
    "        \n",
    "        curInci = thisdf['Nyindlagte pr. 100.000']\n",
    "        curCount = thisdf['Antal nyindlagte']\n",
    "        \n",
    "        if len(curInci) == 0:\n",
    "            ageInci.append(0)\n",
    "            ageCount.append(0)\n",
    "        else:\n",
    "            ageInci.append(curInci.values[0])\n",
    "            ageCount.append(curCount.values[0])\n",
    "            \n",
    "    fullMatUnvaccInci[:,ageIndex] = ageInci\n",
    "    fullMatUnvaccCount[:,ageIndex] = ageCount\n",
    "\n",
    "\n",
    "dfPlotUnva = pd.DataFrame(fullMatUnvaccInci,columns=allAgeGroups)"
   ]
  },
  {
   "cell_type": "code",
   "execution_count": 4,
   "metadata": {},
   "outputs": [
    {
     "data": {
      "application/vnd.jupyter.widget-view+json": {
       "model_id": "7e7b4527917e43a388e885652df64911",
       "version_major": 2,
       "version_minor": 0
      },
      "text/plain": [
       "Canvas(toolbar=Toolbar(toolitems=[('Home', 'Reset original view', 'home', 'home'), ('Back', 'Back to previous …"
      ]
     },
     "metadata": {},
     "output_type": "display_data"
    },
    {
     "data": {
      "application/vnd.jupyter.widget-view+json": {
       "model_id": "ceed3a182f0d49dcac8729e78d5b0ca4",
       "version_major": 2,
       "version_minor": 0
      },
      "text/plain": [
       "Canvas(toolbar=Toolbar(toolitems=[('Home', 'Reset original view', 'home', 'home'), ('Back', 'Back to previous …"
      ]
     },
     "metadata": {},
     "output_type": "display_data"
    },
    {
     "data": {
      "application/vnd.jupyter.widget-view+json": {
       "model_id": "8005bac6b54f4465958cb51ae0d68ee8",
       "version_major": 2,
       "version_minor": 0
      },
      "text/plain": [
       "Canvas(toolbar=Toolbar(toolitems=[('Home', 'Reset original view', 'home', 'home'), ('Back', 'Back to previous …"
      ]
     },
     "metadata": {},
     "output_type": "display_data"
    },
    {
     "data": {
      "application/vnd.jupyter.widget-view+json": {
       "model_id": "375228c9cbf4483b95a8d307a368cb88",
       "version_major": 2,
       "version_minor": 0
      },
      "text/plain": [
       "Canvas(toolbar=Toolbar(toolitems=[('Home', 'Reset original view', 'home', 'home'), ('Back', 'Back to previous …"
      ]
     },
     "metadata": {},
     "output_type": "display_data"
    },
    {
     "data": {
      "application/vnd.jupyter.widget-view+json": {
       "model_id": "159a7bc28ad14a0eb007bf9da205464a",
       "version_major": 2,
       "version_minor": 0
      },
      "text/plain": [
       "Canvas(toolbar=Toolbar(toolitems=[('Home', 'Reset original view', 'home', 'home'), ('Back', 'Back to previous …"
      ]
     },
     "metadata": {},
     "output_type": "display_data"
    },
    {
     "data": {
      "application/vnd.jupyter.widget-view+json": {
       "model_id": "c02de36d31ac484fb9d65a7e429ff3dd",
       "version_major": 2,
       "version_minor": 0
      },
      "text/plain": [
       "Canvas(toolbar=Toolbar(toolitems=[('Home', 'Reset original view', 'home', 'home'), ('Back', 'Back to previous …"
      ]
     },
     "metadata": {},
     "output_type": "display_data"
    }
   ],
   "source": [
    "\n",
    "\n",
    "curAge = '80+'\n",
    "\n",
    "# agedf = dfShort[dfShort.Aldersgruppe == curAge]\n",
    "\n",
    "# Meanwidth\n",
    "wi = 5\n",
    "\n",
    "clrVacc = '#004488'\n",
    "clrUnva = '#884400'\n",
    "\n",
    "\n",
    "for curAge in allAgeGroups:\n",
    "    fig,ax1 = plt.subplots()\n",
    "\n",
    "    ax1.plot(weekRange,dfPlotUnva[curAge],'.:',linewidth=1,color=clrUnva,label='Uvaccinerede, data')\n",
    "    ax1.plot(rnTime(weekRange,wi),rnMean(dfPlotUnva[curAge],wi),color=clrUnva,label=f'Uvaccinerede, {wi} ugers gennemsnit')\n",
    "    ax1.plot(weekRange,dfPlotVacc[curAge],'.:',linewidth=1,color=clrVacc,label='Vaccinerede, data')\n",
    "    ax1.plot(rnTime(weekRange,wi),rnMean(dfPlotVacc[curAge],wi),color=clrVacc,label=f'Vaccinerede, {wi} ugers gennemsnit')\n",
    "\n",
    "    ax1.legend(loc='upper left')\n",
    "\n",
    "    ax1.set_ylim(bottom=0)\n",
    "    ax1.set_xticks(weekRange)\n",
    "    ax1.set_xticklabels(weekLabels,rotation=90)\n",
    "\n",
    "    ax1.set_ylabel('Antal nyindlæggelser\\nper 100.000 borgere i befolkningsgruppen')\n",
    "    ax1.set_title('Aldersgruppe: '+curAge)\n",
    "\n",
    "    # ax1.set_xlim([weekLabels[int(wi/2)],weekLabels[-1]])\n",
    "    ax1.set_xlim([weekRange[int(wi/2)]+5,weekRange[-1]+0.5])\n",
    "    # ax1.set_xlim(left=weekRange[int(wi/2)+5])\n",
    "\n",
    "    ax1.spines['top'].set_visible(False)\n",
    "    ax1.spines['right'].set_visible(False)\n",
    "\n",
    "    ax1.grid(axis='y')\n",
    "\n",
    "    SourceText = 'Rasmus K. Pedersen, PandemiX center, RUC - Datakilde: covid19.ssi.dk/overvagningsdata \\n Fra dashboard-fil \"Gennembruds_DB\\\\06_nyindlagte_pr_vaccinationsstatus_pr_aldersgrp_pr_uge.csv\"'\n",
    "\n",
    "    # ax1.text(weekRange[-1]+0.5,-30,SourceText,ha='right',fontsize=7)\n",
    "    ax1.text(1,-0.2,SourceText,ha='right',fontsize=7,transform = ax1.transAxes)\n",
    "    fig.tight_layout()\n",
    "\n",
    "    if saveFigures:\n",
    "        plt.savefig(path_figs+f'Breakthrough/HospOverTime_{curAge}.png')"
   ]
  },
  {
   "cell_type": "code",
   "execution_count": 5,
   "metadata": {},
   "outputs": [
    {
     "data": {
      "application/vnd.jupyter.widget-view+json": {
       "model_id": "464b817b921044ea95a7fa6704ba9f66",
       "version_major": 2,
       "version_minor": 0
      },
      "text/plain": [
       "Canvas(toolbar=Toolbar(toolitems=[('Home', 'Reset original view', 'home', 'home'), ('Back', 'Back to previous …"
      ]
     },
     "metadata": {},
     "output_type": "display_data"
    }
   ],
   "source": [
    "# And in one figure, but multiple panels \n",
    "\n",
    "\n",
    "curAge = '80+'\n",
    "\n",
    "# agedf = dfShort[dfShort.Aldersgruppe == curAge]\n",
    "\n",
    "# Meanwidth\n",
    "wi = 5\n",
    "\n",
    "clrVacc = '#004488'\n",
    "clrUnva = '#884400'\n",
    "\n",
    "\n",
    "fig,curAxes = plt.subplots(len(allAgeGroups),1,sharex=True,figsize=(12,30))\n",
    "# for curAge in allAgeGroups:\n",
    "for k in range(len(allAgeGroups)):\n",
    "    curAge = allAgeGroups[k]\n",
    "    \n",
    "    ax1 = curAxes[k]\n",
    "    ax1.plot(weekRange,dfPlotUnva[curAge],'.:',linewidth=1,color=clrUnva,label='Uvaccinerede, data')\n",
    "    ax1.plot(rnTime(weekRange,wi),rnMean(dfPlotUnva[curAge],wi),color=clrUnva,label=f'Uvaccinerede, {wi} ugers gennemsnit')\n",
    "    ax1.plot(weekRange,dfPlotVacc[curAge],'.:',linewidth=1,color=clrVacc,label='Vaccinerede, data')\n",
    "    ax1.plot(rnTime(weekRange,wi),rnMean(dfPlotVacc[curAge],wi),color=clrVacc,label=f'Vaccinerede, {wi} ugers gennemsnit')\n",
    "\n",
    "    ax1.legend(loc='upper left')\n",
    "\n",
    "    ax1.set_ylim(bottom=0)\n",
    "    ax1.set_xticks(weekRange)\n",
    "    ax1.set_xticklabels(weekLabels,rotation=90)\n",
    "\n",
    "    ax1.set_ylabel('Antal nyindlæggelser\\nper 100.000 borgere')\n",
    "    ax1.set_title('Aldersgruppe: '+curAge)\n",
    "\n",
    "    # ax1.set_xlim([weekLabels[int(wi/2)],weekLabels[-1]])\n",
    "    ax1.set_xlim([weekRange[int(wi/2)]+5,weekRange[-1]+0.5])\n",
    "    # ax1.set_xlim(left=weekRange[int(wi/2)+5])\n",
    "\n",
    "    ax1.spines['top'].set_visible(False)\n",
    "    ax1.spines['right'].set_visible(False)\n",
    "\n",
    "    ax1.grid(axis='y')\n",
    "\n",
    "# ax1.text(1,-0.2,SourceText,ha='right',fontsize=7,transform = ax1.transAxes)\n",
    "fig.tight_layout()\n",
    "\n",
    "if saveFigures:\n",
    "    plt.savefig(path_figs+f'Breakthrough/HospOverTime_AllInOne.png')"
   ]
  },
  {
   "cell_type": "code",
   "execution_count": 6,
   "metadata": {},
   "outputs": [
    {
     "data": {
      "application/vnd.jupyter.widget-view+json": {
       "model_id": "9b655176ec9c41f29569be9ab198f9c5",
       "version_major": 2,
       "version_minor": 0
      },
      "text/plain": [
       "Canvas(toolbar=Toolbar(toolitems=[('Home', 'Reset original view', 'home', 'home'), ('Back', 'Back to previous …"
      ]
     },
     "metadata": {},
     "output_type": "display_data"
    }
   ],
   "source": [
    "# Effectivity over time\n",
    "wi = 5\n",
    "rnTi = rnTime(weekRange,wi)\n",
    "\n",
    "fig,ax1 = plt.subplots()\n",
    "\n",
    "\n",
    "cmap = plt.cm.get_cmap('Dark2',len(allAgeGroups))\n",
    "\n",
    "counter = 0\n",
    "for curAge in allAgeGroups:\n",
    "    rnUn = rnMean(dfPlotUnva[curAge],wi)\n",
    "    rnVa = rnMean(dfPlotVacc[curAge],wi)\n",
    "    # ax1.plot(rnTi,1-(rnVa/rnUn),label=curAge)\n",
    "    ax1.plot(rnTi,100*(1-(rnVa/rnUn)),label=curAge,color=cmap(counter))\n",
    "\n",
    "    counter = counter + 1 \n",
    "\n",
    "# ax1.set_ylim(bottom=0,top=1)\n",
    "ax1.set_ylim(bottom=60,top=101)\n",
    "ax1.set_xticks(weekRange)\n",
    "ax1.set_xticklabels(weekLabels,rotation=90)\n",
    "\n",
    "ax1.spines['top'].set_visible(False)\n",
    "ax1.spines['right'].set_visible(False)\n",
    "\n",
    "ax1.grid(axis='y')\n",
    "\n",
    "ax1.set_ylabel(f'Vaccineeffektivitet i forhold til indlæggelse [%]\\n {wi} ugers rullende gennemsnit')\n",
    "ax1.legend(loc='lower left')\n",
    "\n",
    "\n",
    "SourceText = 'Rasmus K. Pedersen, PandemiX center, RUC - Datakilde: covid19.ssi.dk/overvagningsdata \\n Fra dashboard-fil \"Gennembruds_DB\\\\06_nyindlagte_pr_vaccinationsstatus_pr_aldersgrp_pr_uge.csv\"'\n",
    "ax1.text(1,-0.2,SourceText,ha='right',fontsize=7,transform = ax1.transAxes)\n",
    "\n",
    "plt.tight_layout()\n",
    "\n",
    "if saveFigures:\n",
    "    plt.savefig(path_figs+f'Breakthrough/Effektivitet.png')"
   ]
  },
  {
   "cell_type": "code",
   "execution_count": 7,
   "metadata": {},
   "outputs": [],
   "source": [
    "# # Quick'n'dirty omikron figure\n",
    "# omdf = pd.read_excel(rootdir_data+'Omikron.xlsx')\n",
    "# omdf['Dato'] = pd.to_datetime(omdf['Dato'])\n",
    "# display(omdf.head(4))"
   ]
  },
  {
   "cell_type": "code",
   "execution_count": 8,
   "metadata": {},
   "outputs": [],
   "source": [
    "# fig,ax1 = plt.subplots()\n",
    "\n",
    "# omratio = 100*omdf.AntalOmikron/omdf.AntalTest\n",
    "# ax1.plot(omdf.Dato,omratio,'*',label='Data, Denmark')\n",
    "\n",
    "# xRange = np.arange(0,len(omdf))\n",
    "\n",
    "# x0 = 0.1\n",
    "# a = 0.2\n",
    "# expVals = x0 * np.exp(a*xRange)\n",
    "# ax1.plot(omdf.Dato,expVals,label=f'{x0}e^({a}t)')\n",
    "# # x0 = 0.1\n",
    "# a = 0.4\n",
    "# expVals = x0 * np.exp(a*xRange)\n",
    "# ax1.plot(omdf.Dato,expVals,label=f'{x0}e^({a}t)')\n",
    "# # x0 = 0.1\n",
    "# a = 0.3\n",
    "# expVals = x0 * np.exp(a*xRange)\n",
    "# ax1.plot(omdf.Dato,expVals,label=f'{x0}e^({a}t)')\n",
    "\n",
    "# ax1.set_ylim(bottom=0,top=5)\n",
    "# ax1.legend()\n",
    "\n",
    "# ax1.set_xlim(right=np.datetime64('2021-12-10'))\n",
    "# # ax1.set_ylim(bottom=0,top=100)\n",
    "# # ax1.set_xlim(right=np.datetime64('2022-01-10'))"
   ]
  }
 ],
 "metadata": {
  "interpreter": {
   "hash": "21f3b0d12f894296bb30a6af4e8e71985cf3698b7e8be5c82bc107b96556e251"
  },
  "kernelspec": {
   "display_name": "Python 3.8.2 64-bit",
   "language": "python",
   "name": "python3"
  },
  "language_info": {
   "codemirror_mode": {
    "name": "ipython",
    "version": 3
   },
   "file_extension": ".py",
   "mimetype": "text/x-python",
   "name": "python",
   "nbconvert_exporter": "python",
   "pygments_lexer": "ipython3",
   "version": "3.8.5"
  },
  "orig_nbformat": 4
 },
 "nbformat": 4,
 "nbformat_minor": 2
}
