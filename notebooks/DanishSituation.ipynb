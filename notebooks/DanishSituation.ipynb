{
 "cells": [
  {
   "cell_type": "code",
   "execution_count": 1,
   "metadata": {},
   "outputs": [
    {
     "name": "stdout",
     "output_type": "stream",
     "text": [
      "saveFigures is set to: True\n",
      "Done loading packages\n"
     ]
    }
   ],
   "source": [
    "# Load packages and settings\n",
    "import numpy as np\n",
    "import pandas as pd\n",
    "pd.set_option('display.max_rows', 500)\n",
    "pd.set_option('display.min_rows', 50)\n",
    "import seaborn as sns\n",
    "\n",
    "\n",
    "import matplotlib.pyplot as plt\n",
    "%matplotlib widget\n",
    "plt.rcParams['figure.figsize'] = (12,8)\n",
    "plt.rcParams[\"image.cmap\"] = \"tab10\"\n",
    "plt.rcParams['axes.prop_cycle'] = plt.cycler(color=plt.cm.tab10.colors)\n",
    "fs_label = 16\n",
    "parameters = {\n",
    "                'axes.labelsize': fs_label,\n",
    "                'axes.titlesize': fs_label+4,\n",
    "                'xtick.labelsize': fs_label,\n",
    "                'ytick.labelsize': fs_label, \n",
    "                'legend.fontsize': fs_label, \n",
    "                'lines.markersize': 10,\n",
    "                'lines.linewidth': 3\n",
    "             }\n",
    "plt.rcParams.update(parameters)\n",
    "%matplotlib widget\n",
    "from matplotlib import cm # Colormaps\n",
    "import matplotlib.colors as colors\n",
    "# cmap = plt.cm.get_cmap('Dark2',len(ageGroups))\n",
    "\n",
    "import locale\n",
    "import matplotlib.dates as mdates\n",
    "locale.setlocale(locale.LC_TIME,\"Danish\")\n",
    "# ax1.xaxis.set_major_formatter(mdates.DateFormatter('%b\\n%Y'))\n",
    "\n",
    "import os\n",
    "# import csv\n",
    "import math\n",
    "\n",
    "from datetime import date\n",
    "\n",
    "\n",
    "saveFigures = True\n",
    "# saveFigures = False\n",
    "print('saveFigures is set to: '+str(saveFigures))\n",
    "\n",
    "print('Done loading packages')\n",
    "\n",
    "# Define running mean functions\n",
    "def rnMean(data,meanWidth):\n",
    "    return np.convolve(data, np.ones(meanWidth)/meanWidth, mode='valid')\n",
    "def rnTime(t,meanWidth):\n",
    "    return t[math.floor(meanWidth/2):-math.ceil(meanWidth/2)+1]"
   ]
  },
  {
   "cell_type": "code",
   "execution_count": 2,
   "metadata": {},
   "outputs": [],
   "source": [
    "# Define paths\n",
    "rootdir_data = os.getcwd() +\"\\\\..\\\\DanskeData\\\\\" \n",
    "\n",
    "path_data = rootdir_data + \"ssi_data\\\\\"\n",
    "path_dash = rootdir_data + \"ssi_dashboard\\\\\"\n",
    "path_vacc = rootdir_data + \"ssi_vacc\\\\\"\n",
    "\n",
    "path_figs = os.getcwd() +\"\\\\..\\\\Figures\\\\\" "
   ]
  },
  {
   "cell_type": "code",
   "execution_count": 3,
   "metadata": {},
   "outputs": [],
   "source": [
    "# dfAdm = pd.read_excel('Admitted\\Admitted.xlsx')\n",
    "# dfAdm = dfAdm.transpose()\n",
    "# dfAdm.columns = dfAdm.iloc[0]\n",
    "# dfAdm = dfAdm.drop(['Aldersgruppe']) \n",
    "# curDates =  pd.to_datetime(dfAdm.index,format='%d_%m_%Y')"
   ]
  },
  {
   "cell_type": "code",
   "execution_count": 4,
   "metadata": {},
   "outputs": [],
   "source": [
    "# # Collect the cases, tests and positive percentage from all the \"cases by age\" files\n",
    "\n",
    "# # Load most recent\n",
    "# latestsubdir = list(os.walk(path_data))[0][1][-1]\n",
    "# df_recentCasesByAge = pd.read_csv(path_data+latestsubdir+'/Cases_by_age.csv',delimiter = ';',dtype=str)\n",
    "\n",
    "\n",
    "# ageGroups = df_recentCasesByAge.transpose().iloc[0]\n",
    "\n",
    "# dfCase = pd.DataFrame(columns=ageGroups.values)\n",
    "# dfTest = pd.DataFrame(columns=ageGroups.values)\n",
    "# dfPosP = pd.DataFrame(columns=ageGroups.values)\n",
    "\n",
    "# for subdir, dirs, files in os.walk(path_data):\n",
    "#     if not len(files) == 0:\n",
    "#         latestdir = subdir\n",
    "#         latestDate = pd.to_datetime(subdir[-10:])\n",
    "#         curdf = pd.read_csv(latestdir+'/Cases_by_age.csv',delimiter = ';',dtype=str)\n",
    "        \n",
    "#         curdf['Antal_bekræftede_COVID-19'] = pd.to_numeric(curdf['Antal_bekræftede_COVID-19'].astype(str).apply(lambda x: x.replace('.','')))\n",
    "#         curdf['Antal_testede'] = pd.to_numeric(curdf['Antal_testede'].astype(str).apply(lambda x: x.replace('.','')))\n",
    "#         curdf['Procent_positive'] = pd.to_numeric(curdf['Procent_positive'].astype(str).apply(lambda x: x.replace(',','.')))\n",
    "        \n",
    "#         dfCase.loc[latestDate] = curdf['Antal_bekræftede_COVID-19'].values\n",
    "#         dfTest.loc[latestDate] = curdf['Antal_testede'].values\n",
    "#         dfPosP.loc[latestDate] = curdf['Procent_positive'].values\n",
    "\n",
    "# allDates = dfCase.index\n",
    "\n",
    "# dfCaseDiff = dfCase.diff().iloc[1:]\n",
    "# dfTestDiff = dfTest.diff().iloc[1:]\n",
    "# dfPosPDiff = dfPosP.diff().iloc[1:]\n",
    "# plotDatesCase = allDates[1:]\n",
    "\n",
    "# # plt.figure()\n",
    "# # meanWidth = 7\n",
    "# # plt.plot(plotDatesCase,dfCaseDiff['I alt'],'k.')\n",
    "# # plt.plot(rnTime(plotDatesCase,meanWidth),rnMean(dfCaseDiff['I alt'],meanWidth),'k')\n",
    "\n",
    "# # plt.ylim(bottom=0)\n",
    "# # plt.xlim(left=np.datetime64('2021-07-01'))\n",
    "# # plt.show()"
   ]
  },
  {
   "cell_type": "code",
   "execution_count": 5,
   "metadata": {},
   "outputs": [
    {
     "data": {
      "text/html": [
       "<div>\n",
       "<style scoped>\n",
       "    .dataframe tbody tr th:only-of-type {\n",
       "        vertical-align: middle;\n",
       "    }\n",
       "\n",
       "    .dataframe tbody tr th {\n",
       "        vertical-align: top;\n",
       "    }\n",
       "\n",
       "    .dataframe thead th {\n",
       "        text-align: right;\n",
       "    }\n",
       "</style>\n",
       "<table border=\"1\" class=\"dataframe\">\n",
       "  <thead>\n",
       "    <tr style=\"text-align: right;\">\n",
       "      <th></th>\n",
       "      <th>Dato</th>\n",
       "      <th>Antal_døde</th>\n",
       "    </tr>\n",
       "  </thead>\n",
       "  <tbody>\n",
       "    <tr>\n",
       "      <th>597</th>\n",
       "      <td>2021-10-29</td>\n",
       "      <td>3</td>\n",
       "    </tr>\n",
       "    <tr>\n",
       "      <th>598</th>\n",
       "      <td>2021-10-30</td>\n",
       "      <td>1</td>\n",
       "    </tr>\n",
       "    <tr>\n",
       "      <th>599</th>\n",
       "      <td>2021-10-31</td>\n",
       "      <td>1</td>\n",
       "    </tr>\n",
       "    <tr>\n",
       "      <th>600</th>\n",
       "      <td>2021-11-01</td>\n",
       "      <td>0</td>\n",
       "    </tr>\n",
       "    <tr>\n",
       "      <th>601</th>\n",
       "      <td>2021-11-02</td>\n",
       "      <td>0</td>\n",
       "    </tr>\n",
       "  </tbody>\n",
       "</table>\n",
       "</div>"
      ],
      "text/plain": [
       "          Dato  Antal_døde\n",
       "597 2021-10-29           3\n",
       "598 2021-10-30           1\n",
       "599 2021-10-31           1\n",
       "600 2021-11-01           0\n",
       "601 2021-11-02           0"
      ]
     },
     "execution_count": 5,
     "metadata": {},
     "output_type": "execute_result"
    }
   ],
   "source": [
    "\n",
    "latestsubdir = list(os.walk(path_data))[0][1][-1]\n",
    "latestdir = path_data + latestsubdir\n",
    "\n",
    "dfCase = pd.read_csv(latestdir+'/Test_pos_over_time.csv',delimiter = ';',dtype=str)\n",
    "dfCase = dfCase.iloc[:-2]\n",
    "dfCase['NewPositive'] = pd.to_numeric(dfCase['NewPositive'].astype(str).apply(lambda x: x.replace('.','')))\n",
    "dfCase['Tested'] = pd.to_numeric(dfCase['Tested'].astype(str).apply(lambda x: x.replace('.','')))\n",
    "dfCase['PosPct'] = pd.to_numeric(dfCase['PosPct'].astype(str).apply(lambda x: x.replace(',','.')))\n",
    "dfCase['Date'] =  pd.to_datetime(dfCase.Date,format='%Y-%m-%d')\n",
    "testDates = dfCase['Date']\n",
    "\n",
    "dfAdm = pd.read_csv(latestdir+'/Newly_admitted_over_time.csv',delimiter = ';',dtype=str)\n",
    "dfAdm['Dato'] = pd.to_datetime(dfAdm['Dato'])\n",
    "dfAdm['Total'] = pd.to_numeric(dfAdm['Total'])\n",
    "dfAdm.tail()\n",
    "\n",
    "\n",
    "dfDea = pd.read_csv(latestdir+'/Deaths_over_time.csv',delimiter = ';',dtype=str)\n",
    "dfDea = dfDea.iloc[:-1,:]\n",
    "dfDea['Dato'] = pd.to_datetime(dfDea['Dato'])\n",
    "dfDea['Antal_døde'] = pd.to_numeric(dfDea['Antal_døde'])\n",
    "dfDea.tail()"
   ]
  },
  {
   "cell_type": "code",
   "execution_count": 6,
   "metadata": {},
   "outputs": [
    {
     "data": {
      "application/vnd.jupyter.widget-view+json": {
       "model_id": "3957dc8c1aba4cdfbdae0e4484c2ed62",
       "version_major": 2,
       "version_minor": 0
      },
      "text/plain": [
       "Canvas(toolbar=Toolbar(toolitems=[('Home', 'Reset original view', 'home', 'home'), ('Back', 'Back to previous …"
      ]
     },
     "metadata": {},
     "output_type": "display_data"
    }
   ],
   "source": [
    "\n",
    "meanWidth = 7\n",
    "\n",
    "fig,ax1 = plt.subplots()\n",
    "ax1.plot(dfCase.Date,dfCase.NewPositive,'k.')\n",
    "ax1.plot(rnTime(dfCase.Date,meanWidth),rnMean(dfCase.NewPositive,meanWidth),'k')\n",
    "\n",
    "ax1.xaxis.set_major_formatter(mdates.DateFormatter('%b\\n%Y'))\n",
    "\n",
    "ax1.set_ylim(bottom=0)\n",
    "ax1.set_xlim(left=np.datetime64('2021-07-01'))\n",
    "\n",
    "plt.tight_layout() "
   ]
  },
  {
   "cell_type": "code",
   "execution_count": 7,
   "metadata": {},
   "outputs": [
    {
     "data": {
      "application/vnd.jupyter.widget-view+json": {
       "model_id": "6e3d56a2f0074479aab9f8aa7c9674df",
       "version_major": 2,
       "version_minor": 0
      },
      "text/plain": [
       "Canvas(toolbar=Toolbar(toolitems=[('Home', 'Reset original view', 'home', 'home'), ('Back', 'Back to previous …"
      ]
     },
     "metadata": {},
     "output_type": "display_data"
    }
   ],
   "source": [
    "\n",
    "fig,ax1 = plt.subplots(1,1)\n",
    "\n",
    "meanWidth = 7\n",
    "\n",
    "allDates = dfCase.Date \n",
    "# prevYearIndex = (allDates < np.datetime64('2021-01-01'))\n",
    "prevYearIndex = (allDates < (np.datetime64('2021-01-01') + np.timedelta64(meanWidth,'D')))\n",
    "prevYearDates = allDates[prevYearIndex].values\n",
    "prevYearSum = dfCase[prevYearIndex]['NewPositive'].values\n",
    "\n",
    "# thisYearIndex = (allDates >= np.datetime64('2021-01-01'))\n",
    "thisYearIndex = (allDates >=  (np.datetime64('2021-01-01') - np.timedelta64(meanWidth,'D')))\n",
    "thisYearDates = allDates[thisYearIndex].values\n",
    "thisYearSum = dfCase[thisYearIndex]['NewPositive'].values\n",
    "\n",
    "ax1.plot(prevYearDates+np.timedelta64(365,'D'),prevYearSum,'k.',label='2020')\n",
    "ax1.plot(rnTime(prevYearDates+np.timedelta64(365,'D'),meanWidth),rnMean(prevYearSum,meanWidth),'k',label=f'2020, {meanWidth} dages gennemsnit')\n",
    "# ax1.plot(thisYearDates,thisYearSum,'b.',label='2021')\n",
    "# ax1.plot(rnTime(thisYearDates,meanWidth),rnMean(thisYearSum,meanWidth),'b',label=f'2021, {meanWidth} dages gennemsnit')\n",
    "ax1.plot(thisYearDates[:-1],thisYearSum[:-1],'b.',label='2021')\n",
    "ax1.plot(rnTime(thisYearDates[:-1],meanWidth),rnMean(thisYearSum[:-1],meanWidth),'b',label=f'2021, {meanWidth} dages gennemsnit')\n",
    "\n",
    "ax1.legend()\n",
    "ax1.grid()\n",
    "ax1.set_ylabel('Antal tilfælde')\n",
    "ax1.set_ylim(bottom=0)\n",
    "ax1.set_xlim([np.datetime64('2021-01-01'),np.datetime64('2022-01-01')])\n",
    "ax1.xaxis.set_major_formatter(mdates.DateFormatter('%B'))\n",
    "\n",
    "plt.tight_layout()\n",
    "plt.savefig(path_figs+'Cases_2020and2021')\n",
    "\n",
    "\n",
    "ax1.set_ylim(top=2500)\n",
    "ax1.set_xlim([np.datetime64('2021-06-01'),np.datetime64('2022-01-01')])\n",
    "ax1.xaxis.set_major_formatter(mdates.DateFormatter('%d\\n%B'))\n",
    "plt.tight_layout()\n",
    "plt.savefig(path_figs+'Cases_2020and2021_zoom')\n",
    "\n",
    "ax1.set_ylim(top=4500)\n",
    "ax1.set_xlim([np.datetime64('2021-09-01'),np.datetime64('2022-01-01')])\n",
    "ax1.xaxis.set_major_formatter(mdates.DateFormatter('%d\\n%B'))\n",
    "plt.tight_layout()\n",
    "plt.savefig(path_figs+'Cases_2020and2021_zoom2')"
   ]
  },
  {
   "cell_type": "code",
   "execution_count": 8,
   "metadata": {},
   "outputs": [
    {
     "data": {
      "application/vnd.jupyter.widget-view+json": {
       "model_id": "9d5365fb2f9145a0983dfb23bd445cb9",
       "version_major": 2,
       "version_minor": 0
      },
      "text/plain": [
       "Canvas(toolbar=Toolbar(toolitems=[('Home', 'Reset original view', 'home', 'home'), ('Back', 'Back to previous …"
      ]
     },
     "metadata": {},
     "output_type": "display_data"
    }
   ],
   "source": [
    "\n",
    "fig,ax1 = plt.subplots(1,1)\n",
    "\n",
    "meanWidth = 7\n",
    "\n",
    "allDates = dfAdm.Dato\n",
    "# prevYearIndex = (allDates < np.datetime64('2021-01-01'))\n",
    "prevYearIndex = (allDates < (np.datetime64('2021-01-01') + np.timedelta64(meanWidth,'D')))\n",
    "prevYearDates = allDates[prevYearIndex].values\n",
    "prevYearSum = dfAdm[prevYearIndex]['Total'].values\n",
    "\n",
    "# thisYearIndex = (allDates >= np.datetime64('2021-01-01'))\n",
    "thisYearIndex = (allDates >=  (np.datetime64('2021-01-01') - np.timedelta64(meanWidth,'D')))\n",
    "thisYearDates = allDates[thisYearIndex].values\n",
    "thisYearSum = dfAdm[thisYearIndex]['Total'].values\n",
    "\n",
    "ax1.plot(prevYearDates+np.timedelta64(365,'D'),prevYearSum,'k.',label='2020')\n",
    "ax1.plot(rnTime(prevYearDates+np.timedelta64(365,'D'),meanWidth),rnMean(prevYearSum,meanWidth),'k',label=f'2020, {meanWidth} dages gennemsnit')\n",
    "# ax1.plot(thisYearDates,thisYearSum,'b.',label='2021')\n",
    "# ax1.plot(rnTime(thisYearDates,meanWidth),rnMean(thisYearSum,meanWidth),'b',label=f'2021, {meanWidth} dages gennemsnit')\n",
    "ax1.plot(thisYearDates[:-1],thisYearSum[:-1],'b.',label='2021')\n",
    "ax1.plot(rnTime(thisYearDates[:-1],meanWidth),rnMean(thisYearSum[:-1],meanWidth),'b',label=f'2021, {meanWidth} dages gennemsnit')\n",
    "\n",
    "ax1.legend()\n",
    "ax1.grid()\n",
    "ax1.set_ylabel('Antal nyindlæggelser')\n",
    "ax1.set_ylim(bottom=0)\n",
    "ax1.set_xlim([np.datetime64('2021-01-01'),np.datetime64('2022-01-01')])\n",
    "ax1.xaxis.set_major_formatter(mdates.DateFormatter('%B'))\n",
    "\n",
    "plt.tight_layout()\n",
    "plt.savefig(path_figs+'Admissions_2020and2021')\n",
    "\n",
    "\n",
    "ax1.set_ylim(top=75)\n",
    "ax1.set_xlim([np.datetime64('2021-06-01'),np.datetime64('2022-01-01')])\n",
    "ax1.xaxis.set_major_formatter(mdates.DateFormatter('%d\\n%B'))\n",
    "plt.tight_layout()\n",
    "plt.savefig(path_figs+'Admissions_2020and2021_zoom')\n",
    "\n",
    "ax1.set_ylim(top=120)\n",
    "ax1.set_xlim([np.datetime64('2021-09-01'),np.datetime64('2022-01-01')])\n",
    "ax1.xaxis.set_major_formatter(mdates.DateFormatter('%d\\n%B'))\n",
    "plt.tight_layout()\n",
    "plt.savefig(path_figs+'Admissions_2020and2021_zoom2')"
   ]
  },
  {
   "cell_type": "code",
   "execution_count": 9,
   "metadata": {},
   "outputs": [
    {
     "data": {
      "application/vnd.jupyter.widget-view+json": {
       "model_id": "4d8dba8f33384adfb49e3b895774746c",
       "version_major": 2,
       "version_minor": 0
      },
      "text/plain": [
       "Canvas(toolbar=Toolbar(toolitems=[('Home', 'Reset original view', 'home', 'home'), ('Back', 'Back to previous …"
      ]
     },
     "metadata": {},
     "output_type": "display_data"
    }
   ],
   "source": [
    "\n",
    "fig,ax1 = plt.subplots(1,1)\n",
    "\n",
    "meanWidth = 14\n",
    "\n",
    "allDates = dfDea.Dato\n",
    "# prevYearIndex = (allDates < np.datetime64('2021-01-01'))\n",
    "prevYearIndex = (allDates < (np.datetime64('2021-01-01') + np.timedelta64(meanWidth,'D')))\n",
    "prevYearDates = allDates[prevYearIndex].values\n",
    "prevYearSum = dfDea[prevYearIndex]['Antal_døde'].values\n",
    "\n",
    "# thisYearIndex = (allDates >= np.datetime64('2021-01-01'))\n",
    "thisYearIndex = (allDates >=  (np.datetime64('2021-01-01') - np.timedelta64(meanWidth,'D')))\n",
    "thisYearDates = allDates[thisYearIndex].values\n",
    "thisYearSum = dfDea[thisYearIndex]['Antal_døde'].values\n",
    "\n",
    "ax1.plot(prevYearDates+np.timedelta64(365,'D'),prevYearSum,'k.',markersize=3,label='2020')\n",
    "ax1.plot(rnTime(prevYearDates+np.timedelta64(365,'D'),meanWidth),rnMean(prevYearSum,meanWidth),'k',label=f'2020, {meanWidth} dages gennemsnit')\n",
    "# ax1.plot(thisYearDates,thisYearSum,'b.',markersize=3,label='2021')\n",
    "# ax1.plot(rnTime(thisYearDates,meanWidth),rnMean(thisYearSum,meanWidth),'b',label=f'2021, {meanWidth} dages gennemsnit')\n",
    "ax1.plot(thisYearDates[:-1],thisYearSum[:-1],'b.',markersize=3,label='2021')\n",
    "ax1.plot(rnTime(thisYearDates[:-1],meanWidth),rnMean(thisYearSum[:-1],meanWidth),'b',label=f'2021, {meanWidth} dages gennemsnit')\n",
    "\n",
    "ax1.legend()\n",
    "ax1.grid()\n",
    "ax1.set_ylabel('Antal dødsfald')\n",
    "ax1.set_ylim(bottom=0)\n",
    "ax1.set_xlim([np.datetime64('2021-01-01'),np.datetime64('2022-01-01')])\n",
    "ax1.xaxis.set_major_formatter(mdates.DateFormatter('%B'))\n",
    "\n",
    "plt.tight_layout()\n",
    "plt.savefig(path_figs+'Deaths_2020and2021')\n",
    "\n",
    "\n",
    "ax1.set_ylim(top=10)\n",
    "ax1.set_xlim([np.datetime64('2021-06-01'),np.datetime64('2022-01-01')])\n",
    "ax1.xaxis.set_major_formatter(mdates.DateFormatter('%d\\n%B'))\n",
    "plt.tight_layout()\n",
    "plt.savefig(path_figs+'Deaths_2020and2021_zoom')\n",
    "\n",
    "ax1.set_ylim(top=20)\n",
    "ax1.set_xlim([np.datetime64('2021-09-01'),np.datetime64('2022-01-01')])\n",
    "ax1.xaxis.set_major_formatter(mdates.DateFormatter('%d\\n%B'))\n",
    "plt.tight_layout()\n",
    "plt.savefig(path_figs+'Deaths_2020and2021_zoom2')"
   ]
  },
  {
   "cell_type": "markdown",
   "metadata": {},
   "source": [
    "# Hospitalbelægning"
   ]
  },
  {
   "cell_type": "code",
   "execution_count": 10,
   "metadata": {},
   "outputs": [],
   "source": [
    "# Collect the cases, tests and positive percentage from all the \"02_hospitalsbelaegning\" files\n",
    "\n",
    "# Load most recent\n",
    "latestsubdir = list(os.walk(path_dash))[0][1][-1]\n",
    "\n",
    "latestsubdir\n",
    "df_recentHosps = pd.read_csv(path_dash+latestsubdir+'\\\\Regionalt_DB\\\\02_hospitalsbelaegning.csv',delimiter = ';',dtype=str,encoding='latin1')\n",
    "df_recentHosps\n",
    "\n",
    "# ageGroups = df_recentCasesByAge.transpose().iloc[0]\n",
    "\n",
    "# dfCase = pd.DataFrame(columns=ageGroups.values)\n",
    "# dfTest = pd.DataFrame(columns=ageGroups.values)\n",
    "# dfPosP = pd.DataFrame(columns=ageGroups.values)\n",
    "\n",
    "allDates = []\n",
    "allHosps = []\n",
    "\n",
    "for subdir, dirs, files in os.walk(path_dash):\n",
    "    if not len(files) == 0:\n",
    "        latestdir = subdir\n",
    "        if (latestdir[-12:] == 'Regionalt_DB'): # To ensure it's only once per date\n",
    "            thisdir = latestdir  \n",
    "            latestDate = pd.to_datetime(latestdir[-23:-13])\n",
    "            curdf =  pd.read_csv(latestdir+'\\\\02_hospitalsbelaegning.csv',delimiter = ';',dtype=str,encoding='latin1')\n",
    "            \n",
    "            curSum = curdf.Indlagte.astype(int).sum()\n",
    "            \n",
    "            allDates.append(latestDate)\n",
    "            allHosps.append(curSum)\n"
   ]
  },
  {
   "cell_type": "code",
   "execution_count": 15,
   "metadata": {},
   "outputs": [
    {
     "data": {
      "application/vnd.jupyter.widget-view+json": {
       "model_id": "ec485ae1ce3a415da9eb2bc222f8c9ac",
       "version_major": 2,
       "version_minor": 0
      },
      "text/plain": [
       "Canvas(toolbar=Toolbar(toolitems=[('Home', 'Reset original view', 'home', 'home'), ('Back', 'Back to previous …"
      ]
     },
     "metadata": {},
     "output_type": "display_data"
    }
   ],
   "source": [
    "fig,ax1 = plt.subplots()\n",
    "\n",
    "ax1.plot(allDates,allHosps,'k.-')\n",
    "\n",
    "ax1.set_ylim(bottom=0)\n",
    "ax1.set_ylabel('Hospitalsbelægning (Antal indlagte)')\n",
    "\n",
    "ax1.xaxis.set_major_formatter(mdates.DateFormatter('%d\\n%B'))\n",
    "\n",
    "ax1.grid()\n",
    "plt.tight_layout()\n",
    "\n",
    "plt.savefig(path_figs+'Hospitalbelaegning')\n",
    "\n",
    "ax1.set_ylim(top=350)\n",
    "ax1.set_xlim([np.datetime64('2021-09-01'),np.datetime64('2022-01-01')])\n",
    "plt.savefig(path_figs+'Hospitalbelaegning_zoom')\n",
    "\n",
    "ax1.set_ylim(top=1000)\n",
    "ax1.set_xlim([np.datetime64('2021-09-01'),np.datetime64('2022-01-01')])\n",
    "plt.savefig(path_figs+'Hospitalbelaegning_zoom2')\n",
    "\n"
   ]
  }
 ],
 "metadata": {
  "interpreter": {
   "hash": "c72cdf52cb3d31f207bca538e9396da8706c0ecf4a3038fb1c2b317934170431"
  },
  "kernelspec": {
   "display_name": "Python 3.8.5 64-bit ('main': conda)",
   "name": "python3"
  },
  "language_info": {
   "codemirror_mode": {
    "name": "ipython",
    "version": 3
   },
   "file_extension": ".py",
   "mimetype": "text/x-python",
   "name": "python",
   "nbconvert_exporter": "python",
   "pygments_lexer": "ipython3",
   "version": "3.8.5"
  },
  "orig_nbformat": 4
 },
 "nbformat": 4,
 "nbformat_minor": 2
}
