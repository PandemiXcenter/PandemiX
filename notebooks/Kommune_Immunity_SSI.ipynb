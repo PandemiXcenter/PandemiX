{
 "cells": [
  {
   "cell_type": "markdown",
   "metadata": {},
   "source": [
    "# Notebook for making a number of figures of the current status of herd immunity in Denmark\n",
    "Both distributed by age and municipality\n",
    "\n",
    "Main figures to be made here:\n",
    "* Cumulative incidence since December 15th, curve on national level, by age\n",
    "* Cumulative incidence since December 15th, map on municipality level\n",
    "* Explanation of measure of epidemic progression (growing vs falling)\n",
    "* Map on municipality level of the above-mentioned measure\n",
    "\n",
    "Questions about data that should be checked:\n",
    "In Kommune_DB/07_bekraeftede_tilfaelde_pr_dag_pr_kommune.csv, the readme does not accurately specify what the date is.\n",
    "Kommune_DB/17_tilfaelde_fnkt_alder_kommuner.csv appears to be based on testing date.\n",
    "\n",
    "If 07_bekraeftede_tilfaelde_pr_dag_pr_kommune is based on opgørelsesdato, then there is no problem. If both are testing date, something is wrong with data or my method of collecting it... \n"
   ]
  },
  {
   "cell_type": "markdown",
   "metadata": {},
   "source": [
    "# First, load various packages and set figure preferences"
   ]
  },
  {
   "cell_type": "code",
   "execution_count": 172,
   "metadata": {},
   "outputs": [
    {
     "name": "stdout",
     "output_type": "stream",
     "text": [
      "saveFigures is set to: True\n",
      "Done loading packages\n"
     ]
    }
   ],
   "source": [
    "\n",
    "%matplotlib widget\n",
    "# Load packages and settings\n",
    "import numpy as np\n",
    "import pandas as pd\n",
    "pd.set_option('display.max_rows', 500)\n",
    "pd.set_option('display.min_rows', 50)\n",
    "import seaborn as sns\n",
    "\n",
    "import geopandas as gpd\n",
    "\n",
    "import matplotlib.pyplot as plt\n",
    "from mpl_toolkits.axes_grid1 import make_axes_locatable\n",
    "\n",
    "plt.rcParams['figure.figsize'] = (12,8)\n",
    "plt.rcParams[\"image.cmap\"] = \"tab10\"\n",
    "plt.rcParams['axes.prop_cycle'] = plt.cycler(color=plt.cm.tab10.colors)\n",
    "fs_label = 16\n",
    "parameters = {\n",
    "                'axes.labelsize': fs_label,\n",
    "                'axes.titlesize': fs_label+4,\n",
    "                'xtick.labelsize': fs_label,\n",
    "                'ytick.labelsize': fs_label, \n",
    "                'legend.fontsize': fs_label, \n",
    "                'lines.markersize': 10,\n",
    "                'lines.linewidth': 3\n",
    "             }\n",
    "plt.rcParams.update(parameters)\n",
    "\n",
    "from matplotlib import cm # Colormaps\n",
    "import matplotlib.colors as colors\n",
    "# cmap = plt.cm.get_cmap('Dark2',len(ageGroups))\n",
    "# cmap = colors.LinearSegmentedColormap.from_list(\"\", [\"xkcd:dark yellow\",\"gray\",\"xkcd:green\"],N=len(curRangeToShow))\n",
    "\n",
    "import locale\n",
    "import matplotlib.dates as mdates\n",
    "locale.setlocale(locale.LC_TIME,\"Danish\")\n",
    "# ax1.xaxis.set_major_formatter(mdates.DateFormatter('%b\\n%Y'))\n",
    "# ax1.spines['top'].set_visible(False) \n",
    "\n",
    "import os\n",
    "import math\n",
    "\n",
    "from datetime import date\n",
    "\n",
    "\n",
    "saveFigures = True\n",
    "# saveFigures = False\n",
    "print('saveFigures is set to: '+str(saveFigures))\n",
    "\n",
    "print('Done loading packages')\n",
    "\n",
    "# Define running mean functions\n",
    "def rnMean(data,meanWidth):\n",
    "    return np.convolve(data, np.ones(meanWidth)/meanWidth, mode='valid')\n",
    "def rnTime(t,meanWidth):\n",
    "    return t[math.floor(meanWidth/2):-math.ceil(meanWidth/2)+1]"
   ]
  },
  {
   "cell_type": "code",
   "execution_count": 173,
   "metadata": {},
   "outputs": [],
   "source": [
    "# Define paths\n",
    "rootdir_data = os.getcwd() +\"\\\\..\\\\DanskeData\\\\\" \n",
    "\n",
    "path_data = rootdir_data + \"ssi_data\\\\\"\n",
    "path_dash = rootdir_data + \"ssi_dashboard\\\\\"\n",
    "path_vacc = rootdir_data + \"ssi_vacc\\\\\"\n",
    "path_figs = os.getcwd() +\"\\\\..\\\\Figures\\\\\" \n",
    "\n",
    "path_figs = path_figs + \"Immunity_SSI\\\\\""
   ]
  },
  {
   "cell_type": "markdown",
   "metadata": {},
   "source": [
    "# Get latest data files "
   ]
  },
  {
   "cell_type": "code",
   "execution_count": 174,
   "metadata": {},
   "outputs": [],
   "source": [
    "# Municipality maps\n",
    "gdf = gpd.read_file(rootdir_data+'Kommune\\\\Kommune.shp')\n",
    "\n",
    "# Only use most recent mapdata\n",
    "gdf = gdf[gdf.til == np.max(gdf.til.unique())]"
   ]
  },
  {
   "cell_type": "code",
   "execution_count": 175,
   "metadata": {},
   "outputs": [],
   "source": [
    "# Municipality data, cumulative sums\n",
    "latestsubdir = list(os.walk(path_dash))[0][1][-1]\n",
    "latestdir = path_dash + latestsubdir\n",
    "df_07 = pd.read_csv(latestdir+'/Kommunalt_DB/07_bekraeftede_tilfaelde_pr_dag_pr_kommune.csv',encoding='latin1',delimiter = ';')\n",
    "\n",
    "df_07['Dato'] = pd.to_datetime(df_07['Dato'])"
   ]
  },
  {
   "cell_type": "code",
   "execution_count": 176,
   "metadata": {},
   "outputs": [],
   "source": [
    "# Get file to relate kommunekode to names\n",
    "latestsubdir = list(os.walk(path_dash))[0][1][-1]\n",
    "latestdir = path_dash + latestsubdir\n",
    "df_kommunekort = pd.read_csv(latestdir+'/Kommunalt_DB/10_Kommune_kort.csv',encoding='latin1',\n",
    "                                delimiter = ';')\n",
    "df_kommunekort = df_kommunekort.set_index(\"Kommunenavn\")"
   ]
  },
  {
   "cell_type": "code",
   "execution_count": 177,
   "metadata": {},
   "outputs": [],
   "source": [
    "# Population counts, from Danmark Statistik. For 2021\n",
    "popdf1 = pd.read_csv(rootdir_data+'/DKfolketal2021_Statistikbanken_Del1.csv',header=None,encoding='latin1',delimiter=';')\n",
    "popdf2 = pd.read_csv(rootdir_data+'/DKfolketal2021_Statistikbanken_Del2.csv',header=None,encoding='latin1',delimiter=';')\n",
    "\n",
    "popdf = pd.concat([popdf1,popdf2])\n",
    "\n",
    "popdf = popdf.rename(columns={0:\"Kommune\",1:'Alder',2:'Antal'})\n",
    "popdf['AlderKort'] = popdf.Alder.apply(lambda x: int(str(x).split(' ')[0]))\n",
    "totCounts = popdf.groupby('Kommune').sum()\n",
    "\n",
    "# Also collect national numbers\n",
    "popdf_nat = popdf.groupby('Alder').sum()\n",
    "popdf_nat['AlderKort'] =[int(str(x).split(' ')[0]) for x in popdf_nat.index]\n",
    "popdf_nat = popdf_nat.sort_values('AlderKort')"
   ]
  },
  {
   "cell_type": "code",
   "execution_count": 178,
   "metadata": {},
   "outputs": [],
   "source": [
    "# Collect age-specific cases for all municipalities\n",
    "allSubDirs = list(os.walk(path_dash))[0][1]\n",
    "\n",
    "df = pd.DataFrame()\n",
    "\n",
    "for curSubDir in allSubDirs:\n",
    "    curdir = path_dash + curSubDir\n",
    "    curfilepath = curdir+'/Kommunalt_DB/17_tilfaelde_fnkt_alder_kommuner.csv'\n",
    "\n",
    "    # Check if file was included at the time. The \"Kommune/17\" file wasn't included until 2021-09-22 \n",
    "    if os.path.isfile(curfilepath):\n",
    "        curdf = pd.read_csv(curfilepath,encoding='latin1',delimiter = ';')\n",
    "        \n",
    "        df = pd.concat([df,curdf])\n",
    "\n",
    "# Set dtypes\n",
    "df.Kommune = df.Kommune.fillna(0)  # All NaN kommuner is set to zero\n",
    "df['Kommune'] = df['Kommune'].astype(int)\n",
    "df['Dagsdato'] = pd.to_datetime(df['Dagsdato'])\n",
    "df['Bekræftede tilfælde'] = pd.to_numeric(df['Bekræftede tilfælde'])\n",
    "df['Aldersgruppe'] = df.Aldersgruppe.replace('00-02','0-2')\n",
    "df['Aldersgruppe'] = df.Aldersgruppe.replace('03-05','3-5')\n",
    "df['Aldersgruppe'] = df.Aldersgruppe.replace('06-11','6-11')\n",
    "\n",
    "# df['Forskel'] = df['Bekræftede tilfælde'].diff().fillna(0).astype(int,errors='ignore')"
   ]
  },
  {
   "cell_type": "code",
   "execution_count": 179,
   "metadata": {},
   "outputs": [],
   "source": [
    "# Age-specific number can be found in Regionalt_DB\\\\18_fnkt_alder_... file \n",
    "# However, using the sum of the data in dataframe df gives it on a weekday resolution rather \n",
    "# than just weekly. However, this is only reasonable when looking at the cumulative sum of cases\n",
    "df_total = df.groupby(['Aldersgruppe','Dagsdato']).sum()"
   ]
  },
  {
   "cell_type": "markdown",
   "metadata": {},
   "source": [
    "# Define helper functions"
   ]
  },
  {
   "cell_type": "code",
   "execution_count": 180,
   "metadata": {},
   "outputs": [],
   "source": [
    "def getPopSize(kommuneNavn,minAlder=0,maxAlder=125):\n",
    "\n",
    "    # Some names differ between SSI and Danmark Statistik\n",
    "    if (kommuneNavn == 'Høje Tåstrup'):\n",
    "        kommuneNavn = 'Høje-Taastrup'\n",
    "    if (kommuneNavn == 'Århus'):\n",
    "        kommuneNavn = 'Aarhus'\n",
    "    if (kommuneNavn == 'Nordfyn'):\n",
    "        kommuneNavn = 'Nordfyns' \n",
    "    if (kommuneNavn == 'Vesthimmerland'):\n",
    "        kommuneNavn = 'Vesthimmerlands'\n",
    "\n",
    "        \n",
    "    return popdf[(popdf.Kommune == kommuneNavn) & (popdf.AlderKort >= minAlder) & (popdf.AlderKort <= maxAlder)].Antal.sum()\n",
    "    "
   ]
  },
  {
   "cell_type": "code",
   "execution_count": 181,
   "metadata": {},
   "outputs": [],
   "source": [
    "\n",
    "def getPopSizeNational(minAlder=0,maxAlder=125):\n",
    "    popdf_nat\n",
    "    return popdf_nat[(popdf_nat.AlderKort >= minAlder) & (popdf_nat.AlderKort <= maxAlder)].Antal.sum()\n",
    "\n",
    "# print(getPopSizeNational(1,2))\n",
    "# popdf_nat\n",
    "    "
   ]
  },
  {
   "cell_type": "code",
   "execution_count": 182,
   "metadata": {},
   "outputs": [],
   "source": [
    "def getKommuneCount(curKommune):\n",
    "    kommune_df = df_07.loc[df_07[\"Kommunenavn\"] == curKommune]\n",
    "    \n",
    "    curDays = kommune_df['Dato'].values\n",
    "    antal_borgere = df_kommunekort[\"Antal borgere\"][curKommune]\n",
    "    curPerc = ((kommune_df['Bekræftede tilfælde']/antal_borgere)*100).values\n",
    "    curCount = kommune_df['Bekræftede tilfælde'].values \n",
    "    \n",
    "    # Cut out most recent data, since it has not yet been counted entirely\n",
    "    indexToUse = curDays <= (np.datetime64(latestsubdir[-10:])-np.timedelta64(2,'D'))\n",
    "    curCount = curCount[indexToUse]\n",
    "    curPerc = curPerc[indexToUse]\n",
    "    curDays = curDays[indexToUse]\n",
    "\n",
    "    return curDays,curCount,curPerc\n",
    "\n",
    "# curDays,curCount,curPerc = getKommuneCount('København')"
   ]
  },
  {
   "cell_type": "code",
   "execution_count": 183,
   "metadata": {},
   "outputs": [],
   "source": [
    "\n",
    "def getProgressionMeasure(curDays,curCount):\n",
    "\n",
    "    # Difference between dates and the corresponding week-day the week before\n",
    "    weekDiff = curCount[7:] - curCount[:-7]\n",
    "\n",
    "    # Measure 1: Weekly difference, relative to week before\n",
    "    measure1 =  (weekDiff)/curCount[:-7]\n",
    "\n",
    "    # Measure 2: Sign of relative difference, currently unused\n",
    "    measure2 = np.sign(weekDiff)\n",
    "\n",
    "    # Right-adjusted days\n",
    "    measureDays = curDays[7:]\n",
    "\n",
    "    return rnTime(measureDays,7),rnMean(measure1,7)\n",
    "\n",
    "# getProgressionMeasure(curDays,curCount)"
   ]
  },
  {
   "cell_type": "markdown",
   "metadata": {},
   "source": [
    "# Make figures\n",
    "## First: Age-distribution, national level, curve"
   ]
  },
  {
   "cell_type": "code",
   "execution_count": 184,
   "metadata": {},
   "outputs": [
    {
     "data": {
      "application/vnd.jupyter.widget-view+json": {
       "model_id": "d39c437cc12342b788d129bc71539973",
       "version_major": 2,
       "version_minor": 0
      },
      "text/plain": [
       "Canvas(toolbar=Toolbar(toolitems=[('Home', 'Reset original view', 'home', 'home'), ('Back', 'Back to previous …"
      ]
     },
     "metadata": {},
     "output_type": "display_data"
    }
   ],
   "source": [
    "allAges = df.Aldersgruppe.unique()[:-1] # An agegroup called \".\" was sometimes included?\n",
    "# firstDateToCount = np.datetime64('2021-10-01') # For comparison with older figures\n",
    "firstDateToCount = np.datetime64('2021-12-15')\n",
    "textFirstDate = pd.to_datetime(firstDateToCount).strftime('%#d. %B %Y')\n",
    "\n",
    "fig,ax1 = plt.subplots(figsize=(13,6.5),tight_layout=True)\n",
    "\n",
    "fig.patch.set_facecolor('xkcd:off white')\n",
    "ax1.set_facecolor('xkcd:off white')\n",
    "\n",
    "curMax = 0\n",
    "\n",
    "for curAge in allAges:\n",
    "    curDates = df_total.loc[curAge].index\n",
    "    curCounts = df_total.loc[curAge,'Bekræftede tilfælde']\n",
    "    \n",
    "    # Count cumulative sum on firstDate\n",
    "    initialCount = curCounts[curDates >= firstDateToCount].iloc[0]\n",
    "\n",
    "    curCounts = curCounts-initialCount\n",
    "\n",
    "    if (curAge == '80+'):\n",
    "        curMinAge,curMaxAge = 80,125\n",
    "    else:\n",
    "        curMinAge,curMaxAge = [int(x) for x in curAge.split('-')]\n",
    "    curPopSize = getPopSizeNational(curMinAge,curMaxAge)\n",
    "\n",
    "    # ax1.plot(curDates,curCounts,'.-',label=curAge)\n",
    "    ax1.plot(curDates,100*curCounts/curPopSize,label=curAge)\n",
    "\n",
    "    curMax = np.max([curMax,np.max(100*curCounts/curPopSize)])\n",
    "\n",
    "ax1.legend()\n",
    "ax1.set_xlim(left=np.datetime64('2021-10-01'))\n",
    "\n",
    "# Draw weekends\n",
    "firstSunday = np.datetime64('2021-10-03')\n",
    "numWeeks = 52\n",
    "for k in range(0,numWeeks):\n",
    "    curSunday = firstSunday + np.timedelta64(7*k,'D')\n",
    "    ax1.axvspan(curSunday-np.timedelta64(1,'D')-np.timedelta64(12,'h'),curSunday+np.timedelta64(12,'h'),zorder=-1,facecolor='lightgrey',label=int(k==0)*'Weekend')\n",
    "\n",
    "\n",
    "ax1.set_ylabel(f'Kumulerede smittetilfælde siden {textFirstDate}\\nAndel af borgere i aldersgruppen [%]')\n",
    "\n",
    "curXticks = [np.datetime64(x) for x in [\n",
    "    '2021-12-01',\n",
    "    '2021-12-15',\n",
    "    '2022-01-01',\n",
    "    '2022-01-15',\n",
    "    '2022-02-01',\n",
    "    '2022-02-15',\n",
    "    '2022-03-01',\n",
    "    '2022-03-15',\n",
    "    '2022-04-01',\n",
    "    '2022-04-15',\n",
    "]]\n",
    "ax1.set_xticks(curXticks)\n",
    "\n",
    "\n",
    "# ax1.xaxis.set_major_formatter(mdates.DateFormatter('%d\\n%b'))\n",
    "ax1.set_xlim(left=firstDateToCount,right=np.datetime64('today')+np.timedelta64(5,'D'))\n",
    "ax1.set_ylim(bottom=0)\n",
    "ax1.set_ylim(top=np.round(curMax/5)*5+5)\n",
    "# ax1.set_ylim(top=np.round(curMax/5)*5)\n",
    "ax1.legend(loc='upper left')\n",
    "ax1.grid(axis='y')\n",
    "\n",
    "# ax1.spines['right'].set_visible(False)\n",
    "# ax1.spines['left'].set_visible(False)\n",
    "ax1.spines['top'].set_visible(False)\n",
    "ax1.xaxis.set_major_formatter(mdates.DateFormatter('%d\\n%b'))\n",
    "ax1.yaxis.set_label_position(\"right\")\n",
    "ax1.yaxis.tick_right()\n",
    "\n",
    "if saveFigures:\n",
    "    plt.savefig(path_figs+'NationaltKumuleret')"
   ]
  },
  {
   "cell_type": "markdown",
   "metadata": {},
   "source": [
    "# Second figure: Map of measure"
   ]
  },
  {
   "cell_type": "code",
   "execution_count": 185,
   "metadata": {},
   "outputs": [],
   "source": [
    "kommunenavne = df_07.Kommunenavn.unique()\n",
    "\n",
    "\n",
    "gdf_meas = gdf.copy()\n",
    "# curDays,curCount,curPerc = getKommuneCount('København')\n",
    "\n",
    "\n",
    "for kommunenavn in kommunenavne:\n",
    "    curDays,curCount,curPerc = getKommuneCount(kommunenavn)\n",
    "\n",
    "    measureDay,curMeasure = getProgressionMeasure(curDays,curCount)\n",
    "\n",
    "\n",
    "    kommunenavnGdf = kommunenavn\n",
    "    if (kommunenavn == 'Aabenraa'):\n",
    "        kommunenavnGdf = 'Åbenrå'\n",
    "    if (kommunenavn == 'Nordfyn'):\n",
    "        kommunenavnGdf = 'Nordfyns'\n",
    "    if (kommunenavn == 'København'):\n",
    "        kommunenavnGdf = 'Københavns'\n",
    "    if (kommunenavn == 'Bornholm'):\n",
    "        kommunenavnGdf = 'Bornholms'\n",
    "    if (kommunenavn == 'Faaborg-Midtfyn'):\n",
    "        kommunenavnGdf = 'Fåborg-Midtfyn'\n",
    "    if (kommunenavn == 'Lyngby-Taarbæk'):\n",
    "        kommunenavnGdf = 'Lyngby-Tårbæk'\n",
    "\n",
    "    curMeasureValue = curMeasure[-1]\n",
    "    gdf_meas.loc[gdf_meas.navn == (kommunenavnGdf+' Kommune'),'CurrentMeasure'] = curMeasureValue\n",
    "    # curPerc[curDays >= firstDateToCount]\n",
    "    immuOnFirstDate = np.cumsum(curPerc)[curDays >= firstDateToCount][0]\n",
    "    curTotImmu = np.cumsum(curPerc)[-1] - immuOnFirstDate\n",
    "    gdf_meas.loc[gdf_meas.navn == (kommunenavnGdf+' Kommune'),'TotalImmunity'] = curTotImmu\n",
    "# gdf_meas\n",
    "\n",
    "\n",
    "# Clip measure outside -1 and 1\n",
    "gdf_meas['CurrentMeasure'] = np.clip(gdf_meas.CurrentMeasure.values,-1,1)"
   ]
  },
  {
   "cell_type": "code",
   "execution_count": 186,
   "metadata": {},
   "outputs": [],
   "source": [
    "# # # gdf_meas.CurrentMeasure.values\n",
    "# # # np.clip(gdf_meas.CurrentMeasure.values,-1,1)\n",
    "\n",
    "# # gdf_meas[\"CurrentMeasure_Removed\"] = gdf_meas.CurrentMeasure\n",
    "# # gdf_meas.loc[gdf_meas.navn=='Samsø Kommune',\"CurrentMeasure_Removed\"] = np.nan\n",
    "# # gdf_meas.loc[gdf_meas.navn=='Læsø Kommune',\"CurrentMeasure_Removed\"] = np.nan\n",
    "\n",
    "# # gdf_meas_noNaN = gdf_meas.dropna()\n",
    "# # # gdf_meas_noNaN\n",
    "# # gdf_meas[gdf_meas.CurrentMeasure.isna()]\n",
    "# # np.array(curPerc)[curDates >= firstDateToCount]\n",
    "# # curPerc\n",
    "# # curPerc[np.array(curDates) >= firstDateToCount]\n",
    "# curDays,curCount,curPerc = getKommuneCount(kommunenavn)\n",
    "# len(curPerc)\n",
    "# # len(curDates)\n",
    "\n",
    "# # curPerc\n",
    "# # curDates >= firstDateToCount\n",
    "# # curTotImmu\n",
    "\n",
    "# immuOnFirstDate = curPerc[curDays >= firstDateToCount][0]\n",
    "# immuOnFirstDate\n",
    "# curTotImmu = np.cumsum(curPerc)[-1] - immuOnFirstDate\n",
    "# curTotImmu\n",
    "# gdf_meas"
   ]
  },
  {
   "cell_type": "code",
   "execution_count": 187,
   "metadata": {},
   "outputs": [
    {
     "data": {
      "application/vnd.jupyter.widget-view+json": {
       "model_id": "e9709f4d37c44394b2e6dfd92f6aee3f",
       "version_major": 2,
       "version_minor": 0
      },
      "text/plain": [
       "Canvas(toolbar=Toolbar(toolitems=[('Home', 'Reset original view', 'home', 'home'), ('Back', 'Back to previous …"
      ]
     },
     "metadata": {},
     "output_type": "display_data"
    }
   ],
   "source": [
    "\n",
    "fig,ax1 = plt.subplots(figsize=(15,15),tight_layout=True) \n",
    "\n",
    "divider = make_axes_locatable(ax1)\n",
    "cax = divider.append_axes(\"left\", size=\"5%\", pad=0.01)\n",
    "# from mpl_toolkits.axes_grid1.inset_locator import inset_axes\n",
    "# cax = inset_axes(ax1, width=\"30%\", height=\"30%\", loc=3) \n",
    "\n",
    "fig.patch.set_facecolor('xkcd:beige')\n",
    "ax1.set_facecolor('xkcd:beige')\n",
    "\n",
    "\n",
    "cmap = plt.cm.get_cmap('seismic')\n",
    "cmap = colors.LinearSegmentedColormap.from_list(\"\", [\"xkcd:blue\",\"xkcd:light gray\",\"xkcd:dark red\"],N=13)\n",
    "cmap = colors.LinearSegmentedColormap.from_list(\"\", [\"xkcd:blue\",\"xkcd:light blue\",\"xkcd:light gray\",\"xkcd:red\",\"xkcd:dark red\"],N=11)\n",
    "# gdf_meas.plot(ax=ax1,column = 'CurrentMeasure',cmap=cmap,legend=True, cax=cax)\n",
    "gdf_meas.plot(  ax=ax1,\n",
    "                column = 'CurrentMeasure',\n",
    "                cmap=cmap,\n",
    "                vmin=-1,\n",
    "                vmax=1,\n",
    "                edgecolor=\"black\",\n",
    "                linewidth=0.2,\n",
    "                legend=True,\n",
    "                # legend_kwds={'loc': 'lower right'},\n",
    "                # legend_kwds={'loc': 'lower right'},\n",
    "                cax=cax\n",
    "                )\n",
    "\n",
    "                \n",
    "\n",
    "# Remove axes\n",
    "ax1.set_xticks([])\n",
    "ax1.set_yticks([])\n",
    "ax1.spines['right'].set_visible(False)\n",
    "ax1.spines['top'].set_visible(False)\n",
    "ax1.spines['left'].set_visible(False)\n",
    "ax1.spines['bottom'].set_visible(False)\n",
    "\n",
    "cax.yaxis.set_label_position(\"left\")\n",
    "cax.yaxis.tick_left()\n",
    "# cax.set_yticks([])\n",
    "\n",
    "curYticks = [-1,-5/11,0,5/11,1]\n",
    "# curYtickLabels = ['Stort fald','Fald','Uændret','Stigning','Stor stigning']\n",
    "curYtickLabels = ['Stort\\nfald','Fald','Uændret','Stigning','Stor\\nstigning']\n",
    "cax.set_yticks(curYticks)\n",
    "cax.set_yticklabels(curYtickLabels)\n",
    "\n",
    "if saveFigures:\n",
    "    plt.savefig(path_figs+'KortSmitteudvikling')\n"
   ]
  },
  {
   "cell_type": "markdown",
   "metadata": {},
   "source": [
    "# Cumulative incidence"
   ]
  },
  {
   "cell_type": "code",
   "execution_count": 188,
   "metadata": {},
   "outputs": [
    {
     "data": {
      "application/vnd.jupyter.widget-view+json": {
       "model_id": "3650df071a4248d3afd5f44f55fd469c",
       "version_major": 2,
       "version_minor": 0
      },
      "text/plain": [
       "Canvas(toolbar=Toolbar(toolitems=[('Home', 'Reset original view', 'home', 'home'), ('Back', 'Back to previous …"
      ]
     },
     "metadata": {},
     "output_type": "display_data"
    }
   ],
   "source": [
    "\n",
    "fig,ax1 = plt.subplots(figsize=(15,15),tight_layout=True) \n",
    "\n",
    "divider = make_axes_locatable(ax1)\n",
    "cax = divider.append_axes(\"left\", size=\"5%\", pad=0.01)\n",
    "# from mpl_toolkits.axes_grid1.inset_locator import inset_axes\n",
    "# cax = inset_axes(ax1, width=\"30%\", height=\"30%\", loc=3) \n",
    "\n",
    "fig.patch.set_facecolor('xkcd:beige')\n",
    "ax1.set_facecolor('xkcd:beige')\n",
    "\n",
    "vmin = 10\n",
    "vmax= 30\n",
    "dY = 2.5\n",
    "curYticks = np.arange(vmin,vmax+dY,dY)\n",
    "\n",
    "# cmap = plt.cm.get_cmap('seismic')\n",
    "# cmap = colors.LinearSegmentedColormap.from_list(\"\", [\"xkcd:blue\",\"xkcd:light gray\",\"xkcd:dark red\"],N=13)\n",
    "# cmap = colors.LinearSegmentedColormap.from_list(\"\", [\"xkcd:blue\",\"xkcd:light blue\",\"xkcd:light gray\",\"xkcd:red\",\"xkcd:dark red\"],N=11)\n",
    "cmap = colors.LinearSegmentedColormap.from_list(\"\", [\"xkcd:purple\",\"xkcd:light gray\",\"xkcd:orange\"],N=len(curYticks)-1)\n",
    "# gdf_meas.plot(ax=ax1,column = 'CurrentMeasure',cmap=cmap,legend=True, cax=cax)\n",
    "gdf_meas.plot(  ax=ax1,\n",
    "                column = 'TotalImmunity',\n",
    "                cmap=cmap,\n",
    "                vmin=vmin,\n",
    "                vmax=vmax,\n",
    "                edgecolor=\"black\",\n",
    "                linewidth=0.2,\n",
    "                legend=True,\n",
    "                # legend_kwds={'loc': 'lower right'},\n",
    "                # legend_kwds={'loc': 'lower right'},\n",
    "                cax=cax\n",
    "                )\n",
    "\n",
    "                \n",
    "\n",
    "# Remove axes\n",
    "ax1.set_xticks([])\n",
    "ax1.set_yticks([])\n",
    "ax1.spines['right'].set_visible(False)\n",
    "ax1.spines['top'].set_visible(False)\n",
    "ax1.spines['left'].set_visible(False)\n",
    "ax1.spines['bottom'].set_visible(False)\n",
    "\n",
    "cax.yaxis.set_label_position(\"left\")\n",
    "cax.yaxis.tick_left()\n",
    "# cax.set_yticks([])\n",
    "\n",
    "# curYticks = [-1,-5/11,0,5/11,1]\n",
    "# curYtickLabels = ['Stort fald','Fald','Uændret','Stigning','Stor stigning']\n",
    "# cax.set_yticks(curYticks)\n",
    "# cax.set_yticklabels(curYtickLabels)\n",
    "\n",
    "cax.set_yticks(curYticks)\n",
    "plt.show()\n",
    "newYticksLabels = [str(np.round(x,1)).replace('.',',') for x in curYticks]\n",
    "# print(newYticksLabels)\n",
    "cax.set_yticklabels(newYticksLabels)\n",
    "# cax.set_yticklabels(asdf)\n",
    "\n",
    "ax1.set_title('Naturlig immunitet fra Omikron smitte, samlet befolkning')\n",
    "cax.yaxis.set_label_position(\"left\")\n",
    "cax.yaxis.tick_left()\n",
    "textFirstDate = pd.to_datetime(firstDateToCount).strftime('%#d. %B %Y')\n",
    "textLastDate = pd.to_datetime(np.datetime64('today')).strftime('%#d. %B %Y')\n",
    "cax.set_ylabel(f'Andel af befolkning smittet siden {textFirstDate} [%]')\n",
    "ax1.set_title(f'Andel af befolkning smittet mellem {textFirstDate} og {textLastDate}\\nBaseret på PCR-positive, ikke justeret for test-intensitet')\n",
    "\n",
    "\n",
    "\n",
    "if saveFigures:\n",
    "    plt.savefig(path_figs+'KortImmunitet')\n"
   ]
  },
  {
   "cell_type": "markdown",
   "metadata": {},
   "source": [
    "# Various tests, not used"
   ]
  },
  {
   "cell_type": "code",
   "execution_count": 189,
   "metadata": {},
   "outputs": [],
   "source": [
    "\n",
    "# latestsubdir = list(os.walk(path_dash))[0][1][-1]\n",
    "# latestdir = path_dash + latestsubdir\n",
    "# latestdir\n",
    "\n",
    "# dfAge = pd.read_csv(latestdir+'\\\\Regionalt_DB\\\\18_fnkt_alder_uge_testede_positive_nyindlagte.csv',delimiter=';',encoding='latin1',dtype=str)\n",
    "# dfAge['Nyindlagte pr. 100.000 borgere'] = pd.to_numeric(dfAge['Nyindlagte pr. 100.000 borgere'].str.replace(',','.'))\n",
    "# dfAge['Positive pr. 100.000 borgere'] = pd.to_numeric(dfAge['Positive pr. 100.000 borgere'].str.replace(',','.'))\n",
    "# dfAge['Testede pr. 100.000 borgere'] = pd.to_numeric(dfAge['Testede pr. 100.000 borgere'].str.replace(',','.'))\n",
    "# dfAge['Antal testede'] = pd.to_numeric(dfAge['Antal testede'])\n",
    "# dfAge['Antal positive'] = pd.to_numeric(dfAge['Antal positive'])\n",
    "\n",
    "# # dfAge.tail(18)"
   ]
  },
  {
   "cell_type": "code",
   "execution_count": 190,
   "metadata": {},
   "outputs": [],
   "source": [
    "# # Calculate dates\n",
    "# import datetime\n",
    "# weekDTs = [np.datetime64(datetime.datetime.strptime(d[:4] + '-W'+d[6:8]+'-1', \"%Y-W%W-%w\")) for d in dfAge.Uge]\n",
    "# dfAge['Dato'] = weekDTs\n",
    "\n",
    "# # # Remove everything before 2021-01-01\n",
    "# # dfAge = dfAge[dfAge.Dato > np.datetime64('2020-12-31')]\n",
    "# dfAge.columns\n",
    "# dfAge.Aldersgruppe.unique()"
   ]
  },
  {
   "cell_type": "code",
   "execution_count": 191,
   "metadata": {},
   "outputs": [],
   "source": [
    "# dfAge.columns\n",
    "# # dfAge"
   ]
  },
  {
   "cell_type": "code",
   "execution_count": 192,
   "metadata": {},
   "outputs": [],
   "source": [
    "# df_total = df.groupby(['Aldersgruppe','Dagsdato']).sum()\n",
    "\n",
    "# plt.figure()\n",
    "# plt.plot(df_total.loc['0-2'].index,df_total.loc['0-2','Bekræftede tilfælde'],'*:')\n",
    "# # plt.plot(df_total.loc['0-2'].index,df_total.loc['0-2','Bekræftede tilfælde'].diff())\n",
    "# # plt.plot(rnTime(df_total.loc['0-2'].index,7),rnMean(df_total.loc['0-2','Bekræftede tilfælde'].diff(),7))\n",
    "# plt.plot(df_total.loc['20-39'].index,df_total.loc['20-39','Bekræftede tilfælde'],'*:')\n",
    "\n",
    "# curdfAge = dfAge[dfAge.Aldersgruppe == '00-02']\n",
    "# plt.plot(curdfAge.Dato,np.cumsum(curdfAge['Antal positive']),'o-')\n",
    "# # plt.plot(curdfAge.Dato,curdfAge['Antal positive'],'.')\n",
    "\n",
    "# curdfAge = dfAge[dfAge.Aldersgruppe == '20-39']\n",
    "# plt.plot(curdfAge.Dato,np.cumsum(curdfAge['Antal positive']),'o-')\n",
    "\n",
    "# plt.xlim(left=np.datetime64('2021-10-01'))\n",
    "\n",
    "# allAges = df.Aldersgruppe.unique()[:-1] # An agegroup called \".\" was sometimes included?\n",
    "# allAges\n",
    "# # df_07"
   ]
  },
  {
   "cell_type": "code",
   "execution_count": 193,
   "metadata": {},
   "outputs": [],
   "source": [
    "# # Get data of age-specific cases\n",
    "# latestsubdir = list(os.walk(path_dash))[0][1][-1]\n",
    "# latestdir = path_dash + latestsubdir\n",
    "# latestdir\n",
    "\n",
    "# dfAge = pd.read_csv(latestdir+'\\\\Regionalt_DB\\\\18_fnkt_alder_uge_testede_positive_nyindlagte.csv',delimiter=';',encoding='latin1',dtype=str)\n",
    "# dfAge['Nyindlagte pr. 100.000 borgere'] = pd.to_numeric(dfAge['Nyindlagte pr. 100.000 borgere'].str.replace(',','.'))\n",
    "# dfAge['Positive pr. 100.000 borgere'] = pd.to_numeric(dfAge['Positive pr. 100.000 borgere'].str.replace(',','.'))\n",
    "# dfAge['Testede pr. 100.000 borgere'] = pd.to_numeric(dfAge['Testede pr. 100.000 borgere'].str.replace(',','.'))\n",
    "# dfAge['Antal testede'] = pd.to_numeric(dfAge['Antal testede'])\n",
    "# dfAge['Antal positive'] = pd.to_numeric(dfAge['Antal positive'])\n",
    "\n",
    "# dfAge.tail(18)\n"
   ]
  },
  {
   "cell_type": "code",
   "execution_count": 194,
   "metadata": {},
   "outputs": [],
   "source": [
    "# # df_07.tail()\n",
    "# # # df_07[df_07.Kommune == 101]\n",
    "# # Municipality data, totals\n",
    "# latestsubdir = list(os.walk(path_dash))[0][1][-1]\n",
    "# latestdir = path_dash + latestsubdir\n",
    "# df_07 = pd.read_csv(latestdir+'/Kommunalt_DB/07_bekraeftede_tilfaelde_pr_dag_pr_kommune.csv',encoding='latin1',delimiter = ';')\n",
    "\n",
    "# df_07['Dato'] = pd.to_datetime(df_07['Dato'])"
   ]
  },
  {
   "cell_type": "code",
   "execution_count": 195,
   "metadata": {},
   "outputs": [],
   "source": [
    "\n",
    "# plt.figure()\n",
    "# curdf = asdf.loc[101]\n",
    "# plt.plot(curdf.index,curdf['Bekræftede tilfælde'])\n",
    "\n",
    "# curdf1 = df_07[df_07.Kommune == 101]\n",
    "\n",
    "# plt.plot(curdf1.Dato,np.cumsum(curdf1['Bekræftede tilfælde']))\n",
    "# # plt.plot(rnTime(curdf1.Dato,7),rnMean(curdf1['Bekræftede tilfælde'],7))\n",
    "# # df[df.Kommune == 101]\n",
    "\n",
    "# plt.xlim(left=np.datetime64('2021-10-01'))"
   ]
  },
  {
   "cell_type": "code",
   "execution_count": 196,
   "metadata": {},
   "outputs": [],
   "source": [
    "# df_07\n",
    "# asdf = df.groupby(['Kommune','Dagsdato']).sum()\n",
    "\n",
    "# asdf.loc[101]\n",
    "\n",
    "# plt.figure()\n",
    "# curdf = asdf.loc[101]\n",
    "# plt.plot(curdf.index,curdf['Bekræftede tilfælde'].diff(),'b.:',linewidth=1)\n",
    "# plt.plot(rnTime(curdf.index,7),rnMean(curdf['Bekræftede tilfælde'].diff(),7),'b')\n",
    "\n",
    "# curdf1 = df_07[df_07.Kommune == 101]\n",
    "\n",
    "# plt.plot(curdf1.Dato,curdf1['Bekræftede tilfælde'],'r.:',linewidth=1)\n",
    "# plt.plot(rnTime(curdf1.Dato,7),rnMean(curdf1['Bekræftede tilfælde'],7),'r')\n",
    "# # df[df.Kommune == 101]\n",
    "\n",
    "# plt.xlim(left=np.datetime64('2021-10-01'))"
   ]
  },
  {
   "cell_type": "code",
   "execution_count": 197,
   "metadata": {},
   "outputs": [],
   "source": [
    "# df.tail()\n",
    "# df.groupby('Dagsdato').sum()"
   ]
  },
  {
   "cell_type": "code",
   "execution_count": 198,
   "metadata": {},
   "outputs": [],
   "source": [
    "# plt.figure()\n",
    "# curdf = df_07.groupby('Dato').sum()\n",
    "\n",
    "# # plt.plot(curdf.index,curdf['Bekræftede tilfælde'])\n",
    "# plt.plot(curdf.index,np.cumsum(curdf['Bekræftede tilfælde']))\n",
    "\n",
    "# curdf1 = df.groupby('Dagsdato').sum()\n",
    "# plt.plot(curdf1.index,curdf1['Bekræftede tilfælde'],':')\n",
    "\n",
    "# plt.xlim(left=np.datetime64('2021-10-01'))"
   ]
  },
  {
   "cell_type": "code",
   "execution_count": null,
   "metadata": {},
   "outputs": [],
   "source": []
  }
 ],
 "metadata": {
  "interpreter": {
   "hash": "c031fd63bd977d199cd6020c30a19695eacbb638d100e0b8a5ea53080ed74a9a"
  },
  "kernelspec": {
   "display_name": "Python 3.8.12 64-bit ('main': conda)",
   "language": "python",
   "name": "python3"
  },
  "language_info": {
   "codemirror_mode": {
    "name": "ipython",
    "version": 3
   },
   "file_extension": ".py",
   "mimetype": "text/x-python",
   "name": "python",
   "nbconvert_exporter": "python",
   "pygments_lexer": "ipython3",
   "version": "3.8.12"
  },
  "orig_nbformat": 4
 },
 "nbformat": 4,
 "nbformat_minor": 2
}
