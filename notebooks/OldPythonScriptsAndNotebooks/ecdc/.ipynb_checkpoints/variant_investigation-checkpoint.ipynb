{
 "cells": [
  {
   "cell_type": "code",
   "execution_count": 1,
   "metadata": {},
   "outputs": [
    {
     "name": "stdout",
     "output_type": "stream",
     "text": [
      "saveFigures is set to: True\n",
      "Done loading packages\n"
     ]
    }
   ],
   "source": [
    "# Main notebook for playing around and looking at different things in data\n",
    "import numpy as np\n",
    "import pandas as pd\n",
    "pd.set_option('display.max_rows', 500)\n",
    "pd.set_option('display.min_rows', 50)\n",
    "import seaborn as sns\n",
    "\n",
    "\n",
    "import matplotlib.pyplot as plt\n",
    "%matplotlib widget\n",
    "plt.rcParams['figure.figsize'] = (12,8)\n",
    "# plt.rcParams[\"image.cmap\"] = \"Dark2\"\n",
    "# plt.rcParams['axes.prop_cycle'] = plt.cycler(color=plt.cm.Dark2.colors)\n",
    "plt.rcParams[\"image.cmap\"] = \"tab10\"\n",
    "plt.rcParams['axes.prop_cycle'] = plt.cycler(color=plt.cm.tab10.colors)\n",
    "fs_label = 16\n",
    "parameters = {\n",
    "                'axes.labelsize': fs_label,\n",
    "                'axes.titlesize': fs_label+4,\n",
    "                'xtick.labelsize': fs_label,\n",
    "                'ytick.labelsize': fs_label, \n",
    "                'legend.fontsize': fs_label, \n",
    "                'lines.markersize': 10,\n",
    "                'lines.linewidth': 3\n",
    "             }\n",
    "plt.rcParams.update(parameters)\n",
    "%matplotlib widget  \n",
    "# plt.style.use('ggplot')\n",
    "import matplotlib.colors as colors\n",
    "# cmap = plt.cm.get_cmap('Dark2',len(ageGroups))\n",
    "from matplotlib import cm # Colormaps\n",
    "\n",
    "import locale\n",
    "import matplotlib.dates as mdates\n",
    "locale.setlocale(locale.LC_TIME,\"Danish\")\n",
    "# ax = plt.gca()\n",
    "# ax1.xaxis.set_major_formatter(mdates.DateFormatter('%b\\n%Y'))\n",
    "# # ax.xaxis.set_major_formatter(mdates.DateFormatter('%Y \\n %B'))\n",
    "\n",
    "\n",
    "import os\n",
    "# import csv\n",
    "import math\n",
    "\n",
    "\n",
    "from datetime import date,datetime\n",
    "\n",
    "\n",
    "saveFigures = True\n",
    "# saveFigures = False\n",
    "print('saveFigures is set to: '+str(saveFigures))\n",
    "\n",
    "print('Done loading packages')\n",
    "\n",
    "def rnMean(data,meanWidth):\n",
    "    return np.convolve(data, np.ones(meanWidth)/meanWidth, mode='valid')\n",
    "def rnTime(t,meanWidth):\n",
    "    return t[math.floor(meanWidth/2):-math.ceil(meanWidth/2)+1]"
   ]
  },
  {
   "cell_type": "code",
   "execution_count": 2,
   "metadata": {
    "tags": []
   },
   "outputs": [],
   "source": [
    "df = pd.read_csv('variants_data.csv')\n",
    "\n",
    "# Recalculate percent_variant since it's rounded off (and sometimes incorrect)\n",
    "df['percent_variant2'] = np.divide(df.number_detections_variant,df.number_sequenced)\n",
    "\n",
    "# Get dates from year+week info.\n",
    "allYears = df.year_week.apply(lambda x: x[:4])\n",
    "allWeeks = df.year_week.apply(lambda x: x[5:])\n",
    "\n",
    "df['Dates'] = df.apply(lambda x: date.fromisocalendar(int(x['year_week'][:4]),int(x['year_week'][5:]),1),axis=1)\n",
    "\n",
    "# # df['Dates'] = pd.to_datetime(df.year_week + '1',format='%Y-%W%w') # For monday\n",
    "# # df['Dates'] = pd.to_datetime(df.year_week + '0',format='%Y-%W%w') # For sunday\n",
    "\n",
    "# # Since datetimes are stupid, week 53 and week 01 are the same, so instead 1 must be subtracted, to have week 52 and 00 \n",
    "\n",
    "# # Nope, easy hack: Subtract 7 days from all 2020 dates:\n",
    "# # df.loc[df['Dates'] < np.datetime64('2021-01-01'),'Dates'] = df[df['Dates'] < np.datetime64('2021-01-01')].Dates - np.timedelta64(7,'D')\n",
    "\n",
    "# # Actually no, since 2020-53 gave a 2021 date. I could hack my way out of it and manually fix it, but... yeah...\n",
    "# # Long way:\n",
    "# allYears = df.year_week.apply(lambda x: x[:5]) \n",
    "# allWeeks = (pd.to_numeric(df.year_week.apply(lambda x: x[5:]))-1).apply(lambda x: '{0:0>2}'.format(x))\n",
    "# fullYearWeek = allYears + allWeeks\n",
    "# # df['Dates']  = pd.to_datetime(fullYearWeek + '1',format='%Y-%W%w')"
   ]
  },
  {
   "cell_type": "code",
   "execution_count": 3,
   "metadata": {},
   "outputs": [
    {
     "data": {
      "text/plain": [
       "Timestamp('2021-01-04 00:00:00')"
      ]
     },
     "execution_count": 3,
     "metadata": {},
     "output_type": "execute_result"
    }
   ],
   "source": [
    "pd.to_datetime('2020-53'+ '1',format='%Y-%W%w') \n",
    "\n",
    "# df.year_week.unique()\n",
    "# fullYearWeek.unique()"
   ]
  },
  {
   "cell_type": "code",
   "execution_count": 4,
   "metadata": {},
   "outputs": [
    {
     "name": "stdout",
     "output_type": "stream",
     "text": [
      "['Austria' 'Belgium' 'Bulgaria' 'Croatia' 'Cyprus' 'Czechia' 'Denmark'\n",
      " 'Estonia' 'Finland' 'France' 'Germany' 'Greece' 'Hungary' 'Iceland'\n",
      " 'Ireland' 'Italy' 'Latvia' 'Liechtenstein' 'Lithuania' 'Luxembourg'\n",
      " 'Malta' 'Netherlands' 'Norway' 'Poland' 'Portugal' 'Romania' 'Slovakia'\n",
      " 'Slovenia' 'Spain' 'Sweden']\n",
      "['AT' 'BE' 'BG' 'HR' 'CY' 'CZ' 'DK' 'EE' 'FI' 'FR' 'DE' 'EL' 'HU' 'IS'\n",
      " 'IE' 'IT' 'LV' 'LI' 'LT' 'LU' 'MT' 'NL' 'NO' 'PL' 'PT' 'RO' 'SK' 'SI'\n",
      " 'ES' 'SE']\n"
     ]
    }
   ],
   "source": [
    "print(df.country.unique())\n",
    "print(df.country_code.unique())"
   ]
  },
  {
   "cell_type": "code",
   "execution_count": 5,
   "metadata": {},
   "outputs": [],
   "source": [
    "# curdf"
   ]
  },
  {
   "cell_type": "code",
   "execution_count": 6,
   "metadata": {},
   "outputs": [
    {
     "data": {
      "text/plain": [
       "Index(['country', 'country_code', 'year_week', 'source', 'new_cases',\n",
       "       'number_sequenced', 'percent_cases_sequenced', 'valid_denominator',\n",
       "       'variant', 'number_detections_variant', 'percent_variant',\n",
       "       'percent_variant2', 'Dates'],\n",
       "      dtype='object')"
      ]
     },
     "execution_count": 6,
     "metadata": {},
     "output_type": "execute_result"
    }
   ],
   "source": [
    "curCountry = 'Denmark'\n",
    "# curCountry = 'Sweden'\n",
    "# curCountry = 'Norway'\n",
    "# curCountry = 'Netherlands'\n",
    "# curCountry = 'France'\n",
    "# curCountry = 'Germany'\n",
    "# curCountry = 'Belgium'\n",
    "# curCountry = 'Italy'\n",
    "curdf = df[df.country == curCountry]\n",
    "# curdf.tail()\n",
    "curVar = 'B.1.617.2'\n",
    "# curVar = 'B.1.1.7'\n",
    "# curVar = 'B.1.351'\n",
    "# vardf = curdf[curdf.variant == 'B.1.617.2']\n",
    "vardf = curdf[curdf.variant == curVar]\n",
    "# vardf = curdf[curdf.variant == 'B.1.617']\n",
    "# vardf = curdf[curdf.variant == 'B.1.1.7']\n",
    "vardf.tail()\n",
    "\n",
    "gisdf = vardf[vardf.source == 'GISAID']\n",
    "tesdf = vardf[vardf.source == 'TESSy']\n",
    "gisdf.columns"
   ]
  },
  {
   "cell_type": "code",
   "execution_count": 7,
   "metadata": {},
   "outputs": [
    {
     "data": {
      "application/vnd.jupyter.widget-view+json": {
       "model_id": "9a64d347087e4af291454a9343f8149a",
       "version_major": 2,
       "version_minor": 0
      },
      "text/plain": [
       "Canvas(toolbar=Toolbar(toolitems=[('Home', 'Reset original view', 'home', 'home'), ('Back', 'Back to previous …"
      ]
     },
     "metadata": {},
     "output_type": "display_data"
    }
   ],
   "source": [
    "fig,(ax1,ax2) = plt.subplots(2,1,sharex=True)\n",
    "# fig,ax1 = plt.subplots()\n",
    "\n",
    "ax1.fill_between(gisdf.Dates,gisdf.number_sequenced,gisdf.number_detections_variant,color='k')\n",
    "ax1.fill_between(gisdf.Dates,gisdf.number_detections_variant,label=curVar+' (GISAID)',alpha=0.5 )\n",
    "ax1.fill_between(tesdf.Dates,tesdf.number_sequenced,tesdf.number_detections_variant,color='k')\n",
    "ax1.fill_between(tesdf.Dates,tesdf.number_detections_variant,label=curVar+' (TESSy)',alpha=0.5 )\n",
    "\n",
    "# ax1.fill_between(gisdf.year_week,gisdf.number_sequenced,gisdf.number_detections_variant,color='k')\n",
    "# ax1.fill_between(gisdf.year_week,gisdf.number_detections_variant,label=curVar+' (GISAID)',alpha=0.5 )\n",
    "# ax1.fill_between(tesdf.year_week,tesdf.number_sequenced,tesdf.number_detections_variant,color='k')\n",
    "# ax1.fill_between(tesdf.year_week,tesdf.number_detections_variant,label=curVar+' (TESSy)',alpha=0.5 )\n",
    "\n",
    "# ax1.plot(gisdf.Dates,gisdf.number_detections_variant,'*:',label='GISAID, B.1.1.7')\n",
    "# ax1.plot(gisdf.Dates,gisdf.number_sequenced,'-',label='GISAID, Sequenced')\n",
    "# ax1.plot(tesdf.Dates,tesdf.number_detections_variant,'*:',label='TESSy, B.1.1.7')\n",
    "# ax1.plot(tesdf.Dates,tesdf.number_sequenced,'-',label='TESSy, Seqeuenced')\n",
    "ax1.legend(loc='upper left')\n",
    "\n",
    "ax1.plot(gisdf.Dates,gisdf.number_sequenced,'*-')\n",
    "ax1.plot(gisdf.Dates,gisdf.number_detections_variant,'*-')\n",
    "ax1.plot(tesdf.Dates,tesdf.number_detections_variant,'*-')\n",
    "\n",
    "ax2.plot(gisdf.Dates,gisdf.percent_variant,'*-')\n",
    "ax2.plot(tesdf.Dates,tesdf.percent_variant,'*-')\n",
    "ax1.xaxis.set_major_formatter(mdates.DateFormatter('%b\\n%Y'))\n",
    "plt.tight_layout()"
   ]
  },
  {
   "cell_type": "code",
   "execution_count": 8,
   "metadata": {},
   "outputs": [],
   "source": [
    "# curdf"
   ]
  },
  {
   "cell_type": "markdown",
   "metadata": {},
   "source": [
    "# Use GISAID or TESSy, depending on which has the largest number of sequenced"
   ]
  },
  {
   "cell_type": "code",
   "execution_count": 9,
   "metadata": {},
   "outputs": [],
   "source": [
    "\n",
    "\n",
    "def getBestDatabase(df,country_code,variant):\n",
    "    curdf = df[(df.country_code == country_code) & (df.variant == variant)]\n",
    "\n",
    "    # Find the dates which are repeated\n",
    "    datesWithMultipleDatabases = curdf.Dates[curdf.Dates.duplicated()]\n",
    "\n",
    "    # Make a dataframe of just the dates with only one entry\n",
    "    newdf = curdf[~curdf.Dates.isin(datesWithMultipleDatabases)].copy()\n",
    "\n",
    "    # Loop thorugh repeated dates\n",
    "    for repDate in datesWithMultipleDatabases:\n",
    "        curRows = curdf[curdf.Dates == repDate]\n",
    "        rowToAdd = curRows.loc[curRows.number_sequenced.idxmax()]\n",
    "        newdf = newdf.append(rowToAdd,ignore_index=True)\n",
    "\n",
    "    # newdf['percent_variant2'] = np.divide(newdf.number_detections_variant,newdf.number_sequenced)\n",
    "\n",
    "    return newdf\n",
    "\n",
    "# curCC = 'DK'\n",
    "# curVar = 'B.1.1.7'\n",
    "# getBestDatabase(df,'SE',curVar)\n",
    "\n",
    "def getPercVar(df,country_code,variant):\n",
    "    curDF = getBestDatabase(df,country_code,variant)\n",
    "\n",
    "    return (curDF.Dates,curDF.percent_variant2)"
   ]
  },
  {
   "cell_type": "code",
   "execution_count": 10,
   "metadata": {},
   "outputs": [
    {
     "data": {
      "application/vnd.jupyter.widget-view+json": {
       "model_id": "7b330a024c7445db9cb8a7c16a5e76d3",
       "version_major": 2,
       "version_minor": 0
      },
      "text/plain": [
       "Canvas(toolbar=Toolbar(toolitems=[('Home', 'Reset original view', 'home', 'home'), ('Back', 'Back to previous …"
      ]
     },
     "metadata": {},
     "output_type": "display_data"
    }
   ],
   "source": [
    "fig,ax = plt.subplots(1,1)\n",
    "\n",
    "curVar = 'B.1.1.7'\n",
    "\n",
    "countriesToShow = ['DK','SE','NO','FI','DE','FR','ES','PT']\n",
    "\n",
    "for curCC in countriesToShow:\n",
    "    curDF = getBestDatabase(df,curCC,curVar)\n",
    "\n",
    "    curLabel = curDF.iloc[0,0]\n",
    "    ax.plot(curDF.Dates,curDF.percent_variant2,'o-',linewidth=2,label=curLabel)\n",
    "\n",
    "\n",
    "# curDates,curPerc = getPercVar(df,'DK',curVar)\n",
    "# ax.plot(curDates,curPerc,label='Denmark')\n",
    "# curDates,curPerc = getPercVar(df,'SE',curVar)\n",
    "# ax.plot(curDates,curPerc,label='Sweden')\n",
    "# curDates,curPerc = getPercVar(df,'DE',curVar)\n",
    "# ax.plot(curDates,curPerc,label='Germany')\n",
    "\n",
    "ax.legend()\n",
    "\n",
    "ax.set_ylim([0,1])\n",
    "ax.set_ylabel(curVar)\n",
    "\n",
    "# Scale data to %\n",
    "for line in ax.lines:\n",
    "    line.set_ydata(line.get_ydata() * 100)\n",
    "ax.set_ylim([0,100])\n",
    "\n",
    "ax.set_ylabel(curVar + ' [%]')\n",
    "ax.xaxis.set_major_formatter(mdates.DateFormatter('%b\\n%Y'))\n",
    "\n",
    "plt.tight_layout()"
   ]
  },
  {
   "cell_type": "code",
   "execution_count": 11,
   "metadata": {},
   "outputs": [],
   "source": [
    "# Model tests\n",
    "def logiModel(x,alpha,y0):\n",
    "    parenthesis = (1-y0)/y0\n",
    "    return 1/(1+parenthesis*np.exp(-alpha*x))"
   ]
  },
  {
   "cell_type": "code",
   "execution_count": 36,
   "metadata": {},
   "outputs": [
    {
     "data": {
      "application/vnd.jupyter.widget-view+json": {
       "model_id": "38d47bf693d04a4aa49b89403ea5a482",
       "version_major": 2,
       "version_minor": 0
      },
      "text/plain": [
       "Canvas(toolbar=Toolbar(toolitems=[('Home', 'Reset original view', 'home', 'home'), ('Back', 'Back to previous …"
      ]
     },
     "metadata": {},
     "output_type": "display_data"
    },
    {
     "name": "stderr",
     "output_type": "stream",
     "text": [
      "<ipython-input-11-0cacd376073c>:3: RuntimeWarning: divide by zero encountered in double_scalars\n",
      "  parenthesis = (1-y0)/y0\n"
     ]
    }
   ],
   "source": [
    "\n",
    "fig,ax = plt.subplots(1,1)\n",
    "\n",
    "curVar = 'B.1.1.7'\n",
    "# curDF = getBestDatabase(df,'DK',curVar)\n",
    "\n",
    "# countriesToShow = ['DK','SE','NO']#,'FI','DE','FR','ES','PT']\n",
    "countriesToShow = ['DK','NO','DE','ES','FI','FR']\n",
    "\n",
    "cmap = plt.cm.get_cmap('Dark2',len(countriesToShow))\n",
    "k = 0\n",
    "# curCC = countriesToShow[k]\n",
    "\n",
    "curCC = 'DK'\n",
    "firstPoint = 9\n",
    "lastPoint = -10\n",
    "\n",
    "\n",
    "# curCC = 'NO'\n",
    "# firstPoint = 6\n",
    "# lastPoint = -10\n",
    "\n",
    "\n",
    "\n",
    "curCC = 'SE'\n",
    "firstPoint = 16\n",
    "lastPoint = -11\n",
    "\n",
    "\n",
    "# curCC = 'DE'\n",
    "# firstPoint = 6\n",
    "# lastPoint = -8\n",
    "\n",
    "curCC = 'ES'\n",
    "firstPoint = 6\n",
    "lastPoint = -8 \n",
    "\n",
    "\n",
    "curCC = 'FI'\n",
    "firstPoint = 9\n",
    "lastPoint = -4\n",
    "\n",
    "\n",
    "curCC = 'FR'\n",
    "firstPoint = 6\n",
    "lastPoint = -8 \n",
    "\n",
    "curDF = getBestDatabase(df,curCC,curVar)\n",
    "\n",
    "curLabel = curDF.iloc[0,0]\n",
    "# ax.plot(curDF.Dates,curDF.percent_variant2,'o-',linewidth=2,label=curLabel)\n",
    "\n",
    "# Remove NaNs\n",
    "curDF.dropna(inplace=True)\n",
    "\n",
    "\n",
    "\n",
    "Y_data = curDF.percent_variant2.values[firstPoint:lastPoint]\n",
    "X_data_object = curDF.Dates.values[firstPoint:lastPoint]\n",
    "\n",
    "\n",
    "newOrder = np.argsort(X_data_object)\n",
    "Y_data = Y_data[newOrder]\n",
    "X_data_object = X_data_object[newOrder]\n",
    "\n",
    "\n",
    "# np.datetime64(X_data_object) - np.datetime64(X_data_object[0])\n",
    "X_data = (pd.to_datetime(X_data_object) - pd.to_datetime(X_data_object[0])) / np.timedelta64(1,'D')\n",
    "\n",
    "\n",
    "\n",
    "ax.plot(curDF.Dates,curDF.percent_variant2,'.',color=cmap(k),label = 'Data')\n",
    "ax.plot(X_data_object,Y_data,'*',color=cmap(k),label = 'Data, used for fit')\n",
    "# ax.plot(X_data,logiModel(X_data,0.086,Y_data[0]))\n",
    "\n",
    "from scipy.optimize import curve_fit\n",
    "# popt, pcov = curve_fit(logiModel, X_data, Y_data)\n",
    "popt, pcov = curve_fit(logiModel, X_data, Y_data,p0=[0.1,Y_data[0]])\n",
    "# print(popt)\n",
    "\n",
    "thisLabel = f'Best fit: {popt[0]:.4f}'\n",
    "ax.plot(X_data_object,logiModel(X_data,popt[0],popt[1]),color=cmap(k),label=thisLabel)\n",
    "\n",
    "\n",
    "ax.legend()\n",
    "\n",
    "ax.set_ylim([0,1]) \n",
    "# ax.set_ylabel(curVar)\n",
    "\n",
    "# Scale data to %\n",
    "for line in ax.lines:\n",
    "    line.set_ydata(line.get_ydata() * 100)\n",
    "ax.set_ylim([0,100])\n",
    "\n",
    "ax.set_ylabel(curVar + ' [%]')\n",
    "ax.xaxis.set_major_formatter(mdates.DateFormatter('%b\\n%Y'))\n",
    "\n",
    "curLabel = curDF.iloc[0,0]\n",
    "plt.title(curLabel)\n",
    "\n",
    "plt.tight_layout()\n",
    "plt.savefig('figs/FitExample_B117_'+curCC)"
   ]
  },
  {
   "cell_type": "code",
   "execution_count": 13,
   "metadata": {},
   "outputs": [
    {
     "data": {
      "application/vnd.jupyter.widget-view+json": {
       "model_id": "6696af1035cb46f4b1e32e16daf1c4ca",
       "version_major": 2,
       "version_minor": 0
      },
      "text/plain": [
       "Canvas(toolbar=Toolbar(toolitems=[('Home', 'Reset original view', 'home', 'home'), ('Back', 'Back to previous …"
      ]
     },
     "metadata": {},
     "output_type": "display_data"
    }
   ],
   "source": [
    "\n",
    "fig,ax = plt.subplots(1,1)\n",
    "\n",
    "curVar = 'B.1.1.7'\n",
    "# curDF = getBestDatabase(df,'DK',curVar)\n",
    "\n",
    "# countriesToShow = ['DK','SE','NO']#,'FI','DE','FR','ES','PT']\n",
    "countriesToShow = ['DK','NO','DE','ES','FI','FR']\n",
    "\n",
    "cmap = plt.cm.get_cmap('Dark2',len(countriesToShow))\n",
    "\n",
    "# for curCC in countriesToShow:\n",
    "for k in range(len(countriesToShow)):\n",
    "    curCC = countriesToShow[k]\n",
    "    curDF = getBestDatabase(df,curCC,curVar)\n",
    "\n",
    "    curLabel = curDF.iloc[0,0]\n",
    "    # ax.plot(curDF.Dates,curDF.percent_variant2,'o-',linewidth=2,label=curLabel)\n",
    "\n",
    "    # Remove NaNs\n",
    "    curDF.dropna(inplace=True)\n",
    "    \n",
    "\n",
    "\n",
    "    firstPoint = 9\n",
    "    lastPoint = -4\n",
    "    Y_data = curDF.percent_variant2.values[firstPoint:lastPoint]\n",
    "    X_data_object = curDF.Dates.values[firstPoint:lastPoint]\n",
    "\n",
    "    \n",
    "    newOrder = np.argsort(X_data_object)\n",
    "    Y_data = Y_data[newOrder]\n",
    "    X_data_object = X_data_object[newOrder]\n",
    "\n",
    "\n",
    "    # np.datetime64(X_data_object) - np.datetime64(X_data_object[0])\n",
    "    X_data = (pd.to_datetime(X_data_object) - pd.to_datetime(X_data_object[0])) / np.timedelta64(1,'D')\n",
    "\n",
    "\n",
    "\n",
    "    ax.plot(X_data,Y_data,'*',color=cmap(k),label = curLabel)\n",
    "    # ax.plot(X_data,logiModel(X_data,0.086,Y_data[0]))\n",
    "\n",
    "    from scipy.optimize import curve_fit\n",
    "    popt, pcov = curve_fit(logiModel, X_data, Y_data)\n",
    "    # print(popt)\n",
    "\n",
    "    thisLabel = f'{curLabel}, best fit: {popt[0]:.2f}'\n",
    "    ax.plot(X_data,logiModel(X_data,popt[0],popt[1]),color=cmap(k),label=thisLabel)\n",
    "\n",
    "# curLabel = curDF.iloc[0,0]\n",
    "# ax.plot(curDF.Dates,curDF.percent_variant2,'o-',linewidth=2,label=curLabel)\n",
    "\n",
    "# ax.plot(X_data,Y_data,'o-',linewidth=2,label=curLabel)\n",
    "\n",
    "ax.legend()\n",
    "\n",
    "ax.set_ylim([0,1]) \n",
    "# ax.set_ylabel(curVar)\n",
    "\n",
    "# # Scale data to %\n",
    "# for line in ax.lines:\n",
    "#     line.set_ydata(line.get_ydata() * 100)\n",
    "# ax.set_ylim([0,100])\n",
    "\n",
    "# ax.set_ylabel(curVar + ' [%]')\n",
    "# ax.xaxis.set_major_formatter(mdates.DateFormatter('%b\\n%Y'))\n",
    "\n",
    "plt.tight_layout()"
   ]
  },
  {
   "cell_type": "code",
   "execution_count": 14,
   "metadata": {},
   "outputs": [
    {
     "data": {
      "application/vnd.jupyter.widget-view+json": {
       "model_id": "883fbce4ee454001b37c979dd4795dd9",
       "version_major": 2,
       "version_minor": 0
      },
      "text/plain": [
       "Canvas(toolbar=Toolbar(toolitems=[('Home', 'Reset original view', 'home', 'home'), ('Back', 'Back to previous …"
      ]
     },
     "metadata": {},
     "output_type": "display_data"
    },
    {
     "data": {
      "text/plain": [
       "Float64Index([  0.0,   7.0,  14.0,  21.0,  28.0,  35.0,  42.0,  49.0,  56.0,\n",
       "               63.0,  70.0,  77.0,  84.0,  91.0,  98.0, 105.0, 112.0, 119.0,\n",
       "              126.0, 133.0, 140.0, 147.0, 154.0, 189.0],\n",
       "             dtype='float64')"
      ]
     },
     "execution_count": 14,
     "metadata": {},
     "output_type": "execute_result"
    }
   ],
   "source": [
    "\n",
    "plt.figure()\n",
    "plt.plot(X_data,Y_data)\n",
    "# curDF\n",
    "# pd.dropna(curDF.percent_variant2)\n",
    "# curDF.dropna()\n",
    "# curDF.percent_variant2\n",
    "# \n",
    "X_data"
   ]
  },
  {
   "cell_type": "code",
   "execution_count": 15,
   "metadata": {
    "tags": []
   },
   "outputs": [],
   "source": [
    "# newdf = pd.DataFrame(columns=df.columns)\n",
    "\n",
    "# curCC = 'DK'\n",
    "# dfCC = df[df.country_code == curCC]\n",
    "# # for curCC in df.country_code.unique():\n",
    "# for curVar in dfCC.variant.unique():\n",
    "#     dfVar = dfCC[dfCC.variant == curVar]\n",
    "#     for curDate in dfVar.Dates.unique():\n",
    "#         dfDate = dfVar[dfVar.Dates == curDate]\n",
    "#         allRows = dfDate\n",
    "\n",
    "\n",
    "#         # allRows = df[(df.country_code == curCC) & (df.variant == curVar) & (df.Dates == curDate)]\n",
    "\n",
    "#         if len(allRows) == 1:\n",
    "#             newdf = newdf.append(newRow,ignore_index=True)\n",
    "#         elif len(allRows) == 2: \n",
    "#             rowToAdd = allRows.loc[allRows.number_sequenced.idxmax()]\n",
    "#             newdf = newdf.append(rowToAdd,ignore_index=True)\n",
    "#             # print(allRows)\n",
    "\n",
    "#         # # print(allRows)\n",
    "#         # if len(allRows) > 0:\n",
    "#         #     firstRow = allRows.iloc[0]\n",
    "#         #     newRow = firstRow.copy()\n",
    "#         #     newRow.number_sequenced = allRows.number_sequenced.sum()\n",
    "#         #     newRow.number_detections_variant = allRows.number_detections_variant.sum() \n",
    "\n",
    "#         #     newRow.percent_cases_sequenced = np.divide(newRow.number_sequenced,newRow.new_cases)\n",
    "#         #     newRow.percent_variant = np.divide(newRow.number_detections_variant,newRow.number_sequenced)\n",
    "\n",
    "#         #     newdf = newdf.append(newRow,ignore_index=True)"
   ]
  },
  {
   "cell_type": "code",
   "execution_count": 16,
   "metadata": {},
   "outputs": [],
   "source": [
    "# # rowToAdd = testRow.loc[testRow.number_sequenced.idxmax()]\n",
    "# # rowToAdd\n",
    "# # newdf['percent_variant2'] = np.divide(newdf.number_detections_variant,newdf.number_sequenced)\n",
    "# df[df.country_code == 'DK'].variant.value_counts()\n",
    "# # newdf.variant.value_counts()\n",
    "# dfVar\n"
   ]
  },
  {
   "cell_type": "markdown",
   "metadata": {},
   "source": [
    "# Add counts from GISAID and TESSy\n",
    "NOTE: THIS IS A BAD IDEA! APPARENTLY THE DATA FROM THE TWO SOURCES OVERLAP!"
   ]
  },
  {
   "cell_type": "code",
   "execution_count": 17,
   "metadata": {},
   "outputs": [],
   "source": [
    "# newdf = pd.DataFrame(columns=df.columns)\n",
    "# newdf"
   ]
  },
  {
   "cell_type": "code",
   "execution_count": 18,
   "metadata": {},
   "outputs": [],
   "source": [
    "# # curCC = 'DK'\n",
    "# # curVar = 'B.1.1.7'\n",
    "# # curDate = df.Dates.iloc[-1]\n",
    "\n",
    "# for curCC in df.country_code.unique():\n",
    "#     for curVar in df.variant.unique():\n",
    "#         for curDate in df.Dates.unique():\n",
    "\n",
    "\n",
    "#             allRows = df[(df.country_code == curCC) & (df.variant == curVar) & (df.Dates == curDate)]\n",
    "\n",
    "#             # print(allRows)\n",
    "#             if len(allRows) > 0:\n",
    "#                 firstRow = allRows.iloc[0]\n",
    "#                 newRow = firstRow.copy()\n",
    "#                 newRow.number_sequenced = allRows.number_sequenced.sum()\n",
    "#                 newRow.number_detections_variant = allRows.number_detections_variant.sum() \n",
    "\n",
    "#                 newRow.percent_cases_sequenced = np.divide(newRow.number_sequenced,newRow.new_cases)\n",
    "#                 newRow.percent_variant = np.divide(newRow.number_detections_variant,newRow.number_sequenced)\n",
    "\n",
    "#                 newdf = newdf.append(newRow,ignore_index=True)"
   ]
  },
  {
   "cell_type": "code",
   "execution_count": 19,
   "metadata": {},
   "outputs": [
    {
     "ename": "NameError",
     "evalue": "name 'newdf' is not defined",
     "output_type": "error",
     "traceback": [
      "\u001b[1;31m---------------------------------------------------------------------------\u001b[0m",
      "\u001b[1;31mNameError\u001b[0m                                 Traceback (most recent call last)",
      "\u001b[1;32m<ipython-input-19-48a595bf301b>\u001b[0m in \u001b[0;36m<module>\u001b[1;34m\u001b[0m\n\u001b[1;32m----> 1\u001b[1;33m \u001b[0mcurdf\u001b[0m \u001b[1;33m=\u001b[0m \u001b[0mnewdf\u001b[0m\u001b[1;33m[\u001b[0m\u001b[0mnewdf\u001b[0m\u001b[1;33m.\u001b[0m\u001b[0mcountry\u001b[0m \u001b[1;33m==\u001b[0m \u001b[1;34m'Denmark'\u001b[0m\u001b[1;33m]\u001b[0m\u001b[1;33m\u001b[0m\u001b[1;33m\u001b[0m\u001b[0m\n\u001b[0m\u001b[0;32m      2\u001b[0m \u001b[1;31m# curdf = df[df.country == 'Sweden']\u001b[0m\u001b[1;33m\u001b[0m\u001b[1;33m\u001b[0m\u001b[1;33m\u001b[0m\u001b[0m\n\u001b[0;32m      3\u001b[0m \u001b[1;31m# curdf.tail()\u001b[0m\u001b[1;33m\u001b[0m\u001b[1;33m\u001b[0m\u001b[1;33m\u001b[0m\u001b[0m\n\u001b[0;32m      4\u001b[0m \u001b[1;31m# vardf = curdf[curdf.variant == 'B.1.617.2']\u001b[0m\u001b[1;33m\u001b[0m\u001b[1;33m\u001b[0m\u001b[1;33m\u001b[0m\u001b[0m\n\u001b[0;32m      5\u001b[0m \u001b[0mvardf\u001b[0m \u001b[1;33m=\u001b[0m \u001b[0mcurdf\u001b[0m\u001b[1;33m[\u001b[0m\u001b[0mcurdf\u001b[0m\u001b[1;33m.\u001b[0m\u001b[0mvariant\u001b[0m \u001b[1;33m==\u001b[0m \u001b[1;34m'B.1.1.7'\u001b[0m\u001b[1;33m]\u001b[0m\u001b[1;33m\u001b[0m\u001b[1;33m\u001b[0m\u001b[0m\n",
      "\u001b[1;31mNameError\u001b[0m: name 'newdf' is not defined"
     ]
    }
   ],
   "source": [
    "curdf = newdf[newdf.country == 'Denmark']\n",
    "# curdf = df[df.country == 'Sweden']\n",
    "# curdf.tail()\n",
    "# vardf = curdf[curdf.variant == 'B.1.617.2']\n",
    "vardf = curdf[curdf.variant == 'B.1.1.7']\n",
    "vardf.tail()\n"
   ]
  },
  {
   "cell_type": "code",
   "execution_count": 15,
   "metadata": {},
   "outputs": [
    {
     "data": {
      "application/vnd.jupyter.widget-view+json": {
       "model_id": "6d1d2eccf486495b83d29b585cdce377",
       "version_major": 2,
       "version_minor": 0
      },
      "text/plain": [
       "Canvas(toolbar=Toolbar(toolitems=[('Home', 'Reset original view', 'home', 'home'), ('Back', 'Back to previous …"
      ]
     },
     "metadata": {},
     "output_type": "display_data"
    }
   ],
   "source": [
    "fig,(ax1,ax2) = plt.subplots(2,1,sharex=True)\n",
    "\n",
    "ax1.plot(gisdf.Dates,gisdf.number_detections_variant,'*-')\n",
    "ax1.plot(tesdf.Dates,tesdf.number_detections_variant,'*-')\n",
    "# ax1.plot(tesdf.Dates,tesdf.number_detections_variant+gisdf.number_detections_variant,'k')\n",
    "ax1.plot(vardf.Dates,vardf.number_detections_variant,'*-')\n",
    "\n",
    "ax2.plot(gisdf.Dates,gisdf.percent_variant,'*-')\n",
    "ax2.plot(tesdf.Dates,tesdf.percent_variant,'*-')\n",
    "ax2.plot(vardf.Dates,100*vardf.percent_variant,'*-')\n",
    "ax2.xaxis.set_major_formatter(mdates.DateFormatter('%b\\n%Y'))\n",
    "plt.tight_layout()"
   ]
  },
  {
   "cell_type": "code",
   "execution_count": null,
   "metadata": {},
   "outputs": [],
   "source": []
  }
 ],
 "metadata": {
  "interpreter": {
   "hash": "c031fd63bd977d199cd6020c30a19695eacbb638d100e0b8a5ea53080ed74a9a"
  },
  "kernelspec": {
   "display_name": "Python 3",
   "language": "python",
   "name": "python3"
  },
  "language_info": {
   "codemirror_mode": {
    "name": "ipython",
    "version": 3
   },
   "file_extension": ".py",
   "mimetype": "text/x-python",
   "name": "python",
   "nbconvert_exporter": "python",
   "pygments_lexer": "ipython3",
   "version": "3.7.3"
  }
 },
 "nbformat": 4,
 "nbformat_minor": 2
}
