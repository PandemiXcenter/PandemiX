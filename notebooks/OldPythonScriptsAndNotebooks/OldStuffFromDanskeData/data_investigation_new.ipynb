{
 "metadata": {
  "language_info": {
   "codemirror_mode": {
    "name": "ipython",
    "version": 3
   },
   "file_extension": ".py",
   "mimetype": "text/x-python",
   "name": "python",
   "nbconvert_exporter": "python",
   "pygments_lexer": "ipython3",
   "version": "3.8.8"
  },
  "orig_nbformat": 2,
  "kernelspec": {
   "name": "python388jvsc74a57bd0c031fd63bd977d199cd6020c30a19695eacbb638d100e0b8a5ea53080ed74a9a",
   "display_name": "Python 3.8.8 64-bit ('main': conda)"
  }
 },
 "nbformat": 4,
 "nbformat_minor": 2,
 "cells": [
  {
   "cell_type": "code",
   "execution_count": 5,
   "metadata": {},
   "outputs": [
    {
     "output_type": "stream",
     "name": "stdout",
     "text": [
      "saveFigures is set to: True\nDone loading packages\n"
     ]
    }
   ],
   "source": [
    "# Notebook for more data investigation\n",
    "import numpy as np\n",
    "import pandas as pd\n",
    "pd.set_option('display.max_rows', 500)\n",
    "pd.set_option('display.min_rows', 50)\n",
    "\n",
    "\n",
    "import matplotlib.pyplot as plt\n",
    "%matplotlib widget\n",
    "plt.rcParams['figure.figsize'] = (12,8)\n",
    "# plt.rcParams[\"image.cmap\"] = \"Dark2\"\n",
    "# plt.rcParams['axes.prop_cycle'] = plt.cycler(color=plt.cm.Dark2.colors)\n",
    "plt.rcParams[\"image.cmap\"] = \"tab10\"\n",
    "plt.rcParams['axes.prop_cycle'] = plt.cycler(color=plt.cm.tab10.colors)\n",
    "fs_label = 16\n",
    "parameters = {\n",
    "                'axes.labelsize': fs_label,\n",
    "                'axes.titlesize': fs_label+4,\n",
    "                'xtick.labelsize': fs_label,\n",
    "                'ytick.labelsize': fs_label, \n",
    "                'legend.fontsize': fs_label, \n",
    "                'lines.markersize': 10,\n",
    "                'lines.linewidth': 3\n",
    "             }\n",
    "plt.rcParams.update(parameters)\n",
    "%matplotlib widget\n",
    "# plt.style.use('ggplot')\n",
    "import matplotlib.colors as colors\n",
    "# cmap = plt.cm.get_cmap('Dark2',len(ageGroups))\n",
    "cmap = plt.cm.get_cmap('Dark2',7)\n",
    "from matplotlib import cm # Colormaps\n",
    "\n",
    "import locale\n",
    "import matplotlib.dates as mdates\n",
    "locale.setlocale(locale.LC_TIME,\"Danish\")\n",
    "# ax = plt.gca()\n",
    "# ax1.xaxis.set_major_formatter(mdates.DateFormatter('%d. %b'))\n",
    "# ax1.xaxis.set_major_formatter(mdates.DateFormatter('%b\\n%Y'))\n",
    "# # ax.xaxis.set_major_formatter(mdates.DateFormatter('%Y \\n %B'))\n",
    "\n",
    "import os\n",
    "# import csv\n",
    "import math\n",
    "\n",
    "\n",
    "from datetime import date\n",
    "\n",
    "\n",
    "saveFigures = True\n",
    "print('saveFigures is set to: '+str(saveFigures))\n",
    "\n",
    "print('Done loading packages')\n",
    "\n",
    "def rnMean(data,meanWidth):\n",
    "    return np.convolve(data, np.ones(meanWidth)/meanWidth, mode='valid')\n",
    "def rnTime(t,meanWidth):\n",
    "    return t[math.floor(meanWidth/2):-math.ceil(meanWidth/2)+1]\n",
    "def rnTime2(t,meanWidth):\n",
    "    return t[meanWidth-1:]\n"
   ]
  },
  {
   "cell_type": "code",
   "execution_count": 6,
   "metadata": {},
   "outputs": [
    {
     "output_type": "stream",
     "name": "stdout",
     "text": [
      "d:\\Pandemix\\Github\\DanskeData/ssi_data\\SSI_data_2021-05-21\n2021-05-21 00:00:00\n"
     ]
    }
   ],
   "source": [
    "ssidatapath = \"ssi_data\"\n",
    "rootdir = os.getcwd() +\"/\" + ssidatapath\n",
    "\n",
    "\n",
    "for subdir, dirs, files in os.walk(rootdir):\n",
    "    if not len(files) == 0:\n",
    "        latestdir = subdir\n",
    "        latestDate = pd.to_datetime(subdir[-10:])\n",
    "\n",
    "print(latestdir)\n",
    "print(latestDate)\n",
    "\n",
    "# latestdir = rootdir+ '/SSI_data_2021-04-29'\n",
    "# latestDate = pd.to_datetime(latestdir[-10:])\n",
    "\n",
    "# print(latestdir)\n",
    "# print(latestDate)"
   ]
  },
  {
   "cell_type": "code",
   "execution_count": 7,
   "metadata": {},
   "outputs": [],
   "source": [
    "# Load the data\n",
    "fulldfPCR = pd.read_csv(latestdir+'/Test_pos_over_time.csv',delimiter = ';',dtype=str)\n",
    "fulldfAG = pd.read_csv(latestdir+'/Test_pos_over_time_antigen.csv',delimiter = ';',dtype=str)\n",
    "\n",
    "# # Cut out the last two rows of summary numbers\n",
    "dfPCR = fulldfPCR.iloc[:-2,:].copy()\n",
    "dfAG = fulldfAG.iloc[:-2,:].copy()"
   ]
  },
  {
   "cell_type": "code",
   "execution_count": 8,
   "metadata": {},
   "outputs": [],
   "source": [
    "dfPCR[\"PosPct\"] = pd.to_numeric(dfPCR[\"PosPct\"].astype(str).apply(lambda x: x.replace(',','.')))\n",
    "dfPCR[\"Date\"] = dfPCR[\"Date\"].astype('datetime64[D]')\n",
    "dfAG[\"PosPct\"] = pd.to_numeric(dfAG[\"PosPct\"].astype(str).apply(lambda x: x.replace(',','.')))\n",
    "dfAG[\"Date\"] = dfAG[\"Date\"].astype('datetime64[D]')\n",
    "\n",
    "rows_to_fix_period_in = [\"NewPositive\",\"NotPrevPos\",\"PrevPos\",\"Tested\",\"Tested_kumulativ\"]\n",
    "for name in rows_to_fix_period_in:\n",
    "    dfAG[name] = pd.to_numeric(dfAG[name].astype(str).apply(lambda x: x.replace('.','')))\n",
    "    dfPCR[name] = pd.to_numeric(dfPCR[name].astype(str).apply(lambda x: x.replace('.','')))\n"
   ]
  },
  {
   "cell_type": "code",
   "execution_count": 9,
   "metadata": {},
   "outputs": [],
   "source": [
    "# Load the data\n",
    "\n",
    "dfAG2 = pd.read_csv(latestdir+'/Antigentests_pr_dag.csv',delimiter = ';')\n",
    "\n",
    "dfAG2[\"Dato\"] = dfAG2[\"Dato\"].astype('datetime64[D]')\n",
    "dfAG2[\"Andel_AGpos_PCRkonf_pct\"] = pd.to_numeric(dfAG2[\"Andel_AGpos_PCRkonf_pct\"].astype(str).apply(lambda x: x.replace(',','.')))\n",
    "dfAG2[\"Andel_AGminusPCRkonf_pct\"] = pd.to_numeric(dfAG2[\"Andel_AGminusPCRkonf_pct\"].astype(str).apply(lambda x: x.replace(',','.')))"
   ]
  },
  {
   "cell_type": "code",
   "execution_count": 10,
   "metadata": {},
   "outputs": [],
   "source": [
    "# Cut off early data in pcr dataframe\n",
    "dfPCR = dfPCR[dfPCR.Date >= dfAG.iloc[0].Date]"
   ]
  },
  {
   "cell_type": "code",
   "execution_count": 11,
   "metadata": {},
   "outputs": [],
   "source": [
    "# Also cutoff everything before first of January\n",
    "firstDate = np.datetime64('2021-02-01')\n",
    "dfPCR = dfPCR[dfPCR.Date >= firstDate]\n",
    "dfAG = dfAG[dfAG.Date >= firstDate]"
   ]
  },
  {
   "cell_type": "code",
   "execution_count": 12,
   "metadata": {},
   "outputs": [],
   "source": [
    "# Cut off last date (since it is not fully done)\n",
    "dfPCR = dfPCR.iloc[:-1]\n",
    "dfAG = dfAG.iloc[:-1]"
   ]
  },
  {
   "cell_type": "code",
   "execution_count": 13,
   "metadata": {},
   "outputs": [],
   "source": [
    "# Get dates\n",
    "curDates = dfPCR.Date.values.astype('datetime64[D]')\n",
    "confDates = dfAG2.Dato.values.astype('datetime64[D]')"
   ]
  },
  {
   "cell_type": "code",
   "execution_count": 14,
   "metadata": {},
   "outputs": [
    {
     "output_type": "execute_result",
     "data": {
      "text/plain": [
       "          Date  NewPositive  NotPrevPos  PosPct  PrevPos  Tested  \\\n",
       "474 2021-05-15          941      135868     0.7     3983  139851   \n",
       "475 2021-05-16          922      163930     0.6     4366  168296   \n",
       "476 2021-05-17         1147      196526     0.6     6602  203128   \n",
       "477 2021-05-18         1160      173301     0.7     5706  179007   \n",
       "478 2021-05-19         1130      170322     0.7     5199  175521   \n",
       "\n",
       "     Tested_kumulativ  \n",
       "474          29898129  \n",
       "475          30066425  \n",
       "476          30269553  \n",
       "477          30448560  \n",
       "478          30624081  "
      ],
      "text/html": "<div>\n<style scoped>\n    .dataframe tbody tr th:only-of-type {\n        vertical-align: middle;\n    }\n\n    .dataframe tbody tr th {\n        vertical-align: top;\n    }\n\n    .dataframe thead th {\n        text-align: right;\n    }\n</style>\n<table border=\"1\" class=\"dataframe\">\n  <thead>\n    <tr style=\"text-align: right;\">\n      <th></th>\n      <th>Date</th>\n      <th>NewPositive</th>\n      <th>NotPrevPos</th>\n      <th>PosPct</th>\n      <th>PrevPos</th>\n      <th>Tested</th>\n      <th>Tested_kumulativ</th>\n    </tr>\n  </thead>\n  <tbody>\n    <tr>\n      <th>474</th>\n      <td>2021-05-15</td>\n      <td>941</td>\n      <td>135868</td>\n      <td>0.7</td>\n      <td>3983</td>\n      <td>139851</td>\n      <td>29898129</td>\n    </tr>\n    <tr>\n      <th>475</th>\n      <td>2021-05-16</td>\n      <td>922</td>\n      <td>163930</td>\n      <td>0.6</td>\n      <td>4366</td>\n      <td>168296</td>\n      <td>30066425</td>\n    </tr>\n    <tr>\n      <th>476</th>\n      <td>2021-05-17</td>\n      <td>1147</td>\n      <td>196526</td>\n      <td>0.6</td>\n      <td>6602</td>\n      <td>203128</td>\n      <td>30269553</td>\n    </tr>\n    <tr>\n      <th>477</th>\n      <td>2021-05-18</td>\n      <td>1160</td>\n      <td>173301</td>\n      <td>0.7</td>\n      <td>5706</td>\n      <td>179007</td>\n      <td>30448560</td>\n    </tr>\n    <tr>\n      <th>478</th>\n      <td>2021-05-19</td>\n      <td>1130</td>\n      <td>170322</td>\n      <td>0.7</td>\n      <td>5199</td>\n      <td>175521</td>\n      <td>30624081</td>\n    </tr>\n  </tbody>\n</table>\n</div>"
     },
     "metadata": {},
     "execution_count": 14
    }
   ],
   "source": [
    "dfPCR.tail()"
   ]
  },
  {
   "cell_type": "code",
   "execution_count": 15,
   "metadata": {},
   "outputs": [
    {
     "output_type": "execute_result",
     "data": {
      "text/plain": [
       "          Date  NewPositive  NotPrevPos  PosPct  PrevPos  Tested  \\\n",
       "402 2021-05-15          309      262938     0.1      789  263727   \n",
       "403 2021-05-16          379      304545     0.1      909  305454   \n",
       "404 2021-05-17          454      493180     0.1     1502  494682   \n",
       "405 2021-05-18          383      391221     0.1     1153  392374   \n",
       "406 2021-05-19          352      388997     0.1     1160  390157   \n",
       "\n",
       "     Tested_kumulativ  \n",
       "402          14403715  \n",
       "403          14709169  \n",
       "404          15203851  \n",
       "405          15596225  \n",
       "406          15986382  "
      ],
      "text/html": "<div>\n<style scoped>\n    .dataframe tbody tr th:only-of-type {\n        vertical-align: middle;\n    }\n\n    .dataframe tbody tr th {\n        vertical-align: top;\n    }\n\n    .dataframe thead th {\n        text-align: right;\n    }\n</style>\n<table border=\"1\" class=\"dataframe\">\n  <thead>\n    <tr style=\"text-align: right;\">\n      <th></th>\n      <th>Date</th>\n      <th>NewPositive</th>\n      <th>NotPrevPos</th>\n      <th>PosPct</th>\n      <th>PrevPos</th>\n      <th>Tested</th>\n      <th>Tested_kumulativ</th>\n    </tr>\n  </thead>\n  <tbody>\n    <tr>\n      <th>402</th>\n      <td>2021-05-15</td>\n      <td>309</td>\n      <td>262938</td>\n      <td>0.1</td>\n      <td>789</td>\n      <td>263727</td>\n      <td>14403715</td>\n    </tr>\n    <tr>\n      <th>403</th>\n      <td>2021-05-16</td>\n      <td>379</td>\n      <td>304545</td>\n      <td>0.1</td>\n      <td>909</td>\n      <td>305454</td>\n      <td>14709169</td>\n    </tr>\n    <tr>\n      <th>404</th>\n      <td>2021-05-17</td>\n      <td>454</td>\n      <td>493180</td>\n      <td>0.1</td>\n      <td>1502</td>\n      <td>494682</td>\n      <td>15203851</td>\n    </tr>\n    <tr>\n      <th>405</th>\n      <td>2021-05-18</td>\n      <td>383</td>\n      <td>391221</td>\n      <td>0.1</td>\n      <td>1153</td>\n      <td>392374</td>\n      <td>15596225</td>\n    </tr>\n    <tr>\n      <th>406</th>\n      <td>2021-05-19</td>\n      <td>352</td>\n      <td>388997</td>\n      <td>0.1</td>\n      <td>1160</td>\n      <td>390157</td>\n      <td>15986382</td>\n    </tr>\n  </tbody>\n</table>\n</div>"
     },
     "metadata": {},
     "execution_count": 15
    }
   ],
   "source": [
    "dfAG.tail()"
   ]
  },
  {
   "cell_type": "code",
   "execution_count": 16,
   "metadata": {},
   "outputs": [
    {
     "output_type": "execute_result",
     "data": {
      "text/plain": [
       "          Dato  AG_testede  AG_pos  AGpos_PCRkonf  Andel_AGpos_PCRkonf_pct  \\\n",
       "101 2021-05-13      295174     399            364                91.228070   \n",
       "102 2021-05-14      323429     406            371                91.379310   \n",
       "103 2021-05-15      263817     346            305                88.150289   \n",
       "104 2021-05-16      305579     421            383                90.973872   \n",
       "105 2021-05-17      494948     499            473                94.789579   \n",
       "\n",
       "     AGpos_minusPCRkonf  Andel_AGminusPCRkonf_pct  AGpos_PCRpos  AGposPCRneg  \\\n",
       "101                  35                  8.771930           210          147   \n",
       "102                  35                  8.620690           219          148   \n",
       "103                  41                 11.849711           187          115   \n",
       "104                  38                  9.026128           262          115   \n",
       "105                  26                  5.210421           283          178   \n",
       "\n",
       "     AGnegPCRpos  AGnegPCRneg  \n",
       "101          189        17237  \n",
       "102          244        18794  \n",
       "103          232        18264  \n",
       "104          276        19956  \n",
       "105          413        27276  "
      ],
      "text/html": "<div>\n<style scoped>\n    .dataframe tbody tr th:only-of-type {\n        vertical-align: middle;\n    }\n\n    .dataframe tbody tr th {\n        vertical-align: top;\n    }\n\n    .dataframe thead th {\n        text-align: right;\n    }\n</style>\n<table border=\"1\" class=\"dataframe\">\n  <thead>\n    <tr style=\"text-align: right;\">\n      <th></th>\n      <th>Dato</th>\n      <th>AG_testede</th>\n      <th>AG_pos</th>\n      <th>AGpos_PCRkonf</th>\n      <th>Andel_AGpos_PCRkonf_pct</th>\n      <th>AGpos_minusPCRkonf</th>\n      <th>Andel_AGminusPCRkonf_pct</th>\n      <th>AGpos_PCRpos</th>\n      <th>AGposPCRneg</th>\n      <th>AGnegPCRpos</th>\n      <th>AGnegPCRneg</th>\n    </tr>\n  </thead>\n  <tbody>\n    <tr>\n      <th>101</th>\n      <td>2021-05-13</td>\n      <td>295174</td>\n      <td>399</td>\n      <td>364</td>\n      <td>91.228070</td>\n      <td>35</td>\n      <td>8.771930</td>\n      <td>210</td>\n      <td>147</td>\n      <td>189</td>\n      <td>17237</td>\n    </tr>\n    <tr>\n      <th>102</th>\n      <td>2021-05-14</td>\n      <td>323429</td>\n      <td>406</td>\n      <td>371</td>\n      <td>91.379310</td>\n      <td>35</td>\n      <td>8.620690</td>\n      <td>219</td>\n      <td>148</td>\n      <td>244</td>\n      <td>18794</td>\n    </tr>\n    <tr>\n      <th>103</th>\n      <td>2021-05-15</td>\n      <td>263817</td>\n      <td>346</td>\n      <td>305</td>\n      <td>88.150289</td>\n      <td>41</td>\n      <td>11.849711</td>\n      <td>187</td>\n      <td>115</td>\n      <td>232</td>\n      <td>18264</td>\n    </tr>\n    <tr>\n      <th>104</th>\n      <td>2021-05-16</td>\n      <td>305579</td>\n      <td>421</td>\n      <td>383</td>\n      <td>90.973872</td>\n      <td>38</td>\n      <td>9.026128</td>\n      <td>262</td>\n      <td>115</td>\n      <td>276</td>\n      <td>19956</td>\n    </tr>\n    <tr>\n      <th>105</th>\n      <td>2021-05-17</td>\n      <td>494948</td>\n      <td>499</td>\n      <td>473</td>\n      <td>94.789579</td>\n      <td>26</td>\n      <td>5.210421</td>\n      <td>283</td>\n      <td>178</td>\n      <td>413</td>\n      <td>27276</td>\n    </tr>\n  </tbody>\n</table>\n</div>"
     },
     "metadata": {},
     "execution_count": 16
    }
   ],
   "source": [
    "dfAG2.tail()"
   ]
  },
  {
   "cell_type": "code",
   "execution_count": 13,
   "metadata": {},
   "outputs": [
    {
     "output_type": "execute_result",
     "data": {
      "text/plain": [
       "2842.410460629746"
      ]
     },
     "metadata": {},
     "execution_count": 13
    }
   ],
   "source": [
    "# 754 * ((30000/139851)**0.7)\n",
    "\n",
    "# agpospct2 = np.divide(dfAG2['AGpos_PCRpos'],dfAG2['AG_testede']).iloc[-14:].mean()\n",
    "AGpospct2 = np.divide(dfAG2['AGpos_PCRpos'],dfAG2['AG_testede']).iloc[-14:].mean()\n",
    "\n",
    "confPCRpos = dfAG2.AGpos_PCRpos + dfAG2.AGnegPCRpos\n",
    "AG_TPR = np.divide(dfAG2.AGpos_PCRpos,confPCRpos).iloc[-14:].mean()\n",
    "(AGpospct2 / AG_TPR) * 5800000 / 3\n",
    "# AGpospct2 * 100\n",
    "# AG_TPR\n",
    "# (AGpospct2 / AG_TPR)\n",
    "# (AGpospct2 / AG_TPR) * 5800000"
   ]
  },
  {
   "cell_type": "code",
   "execution_count": 17,
   "metadata": {},
   "outputs": [
    {
     "output_type": "display_data",
     "data": {
      "text/plain": "Canvas(toolbar=Toolbar(toolitems=[('Home', 'Reset original view', 'home', 'home'), ('Back', 'Back to previous …",
      "application/vnd.jupyter.widget-view+json": {
       "version_major": 2,
       "version_minor": 0,
       "model_id": "03ed9dc022e94407b7c65a126ca05a8b"
      }
     },
     "metadata": {}
    }
   ],
   "source": [
    "# Overblik over antal tests og antal positive\n",
    "\n",
    "# fig,ax1 = plt.subplots(1,1)\n",
    "fig,(ax1,ax2) = plt.subplots(2,1)\n",
    "\n",
    "PCRpos = dfPCR.NewPositive\n",
    "AGpos = dfAG.NewPositive\n",
    "PCRtest = dfPCR.Tested\n",
    "AGtest = dfAG.Tested\n",
    "ax1.plot(curDates,PCRtest,label='PCR')\n",
    "ax1.plot(curDates,AGtest,label='AG')\n",
    "ax2.plot(curDates,PCRpos,label='PCR')\n",
    "ax2.plot(curDates,AGpos,label='AG')\n",
    "# ax2.plot(curDates,np.multiply(PCRpos,PCRtest),label='PCR')\n",
    "# ax2.plot(curDates,np.multiply(AGpos,AGtest),label='AG')\n",
    "\n",
    "ax1.xaxis.set_major_formatter(mdates.DateFormatter('%d. %b'))\n",
    "ax2.xaxis.set_major_formatter(mdates.DateFormatter('%d. %b'))\n",
    "\n",
    "\n",
    "ax1.legend()\n",
    "ax2.legend()\n",
    "# ax1.legend(loc='center left',bbox_to_anchor = (1.0, 0.5))\n",
    "# ax2.legend(loc='center left',bbox_to_anchor = (1.0, 0.5))\n",
    "\n",
    "plt.tight_layout()"
   ]
  },
  {
   "cell_type": "code",
   "execution_count": 18,
   "metadata": {},
   "outputs": [
    {
     "output_type": "display_data",
     "data": {
      "text/plain": "Canvas(toolbar=Toolbar(toolitems=[('Home', 'Reset original view', 'home', 'home'), ('Back', 'Back to previous …",
      "application/vnd.jupyter.widget-view+json": {
       "version_major": 2,
       "version_minor": 0,
       "model_id": "fb97f91539844fe4a57d065bb4840c2a"
      }
     },
     "metadata": {}
    }
   ],
   "source": [
    "# Overblik over hvor mange AG-tests der er positive\n",
    "AGposConfRate = np.divide(dfAG2['AGpos_PCRpos'],dfAG2['AG_testede'])\n",
    "AGposConfPerConf = np.divide(AGposConfRate,0.01*dfAG2['Andel_AGpos_PCRkonf_pct'])\n",
    "\n",
    "# testArray = np.divide(np.divide(dfAG2['AGpos_PCRpos'],dfAG2['AG_testede']),0.01*dfAG2['Andel_AGpos_PCRkonf_pct'])*100\n",
    "\n",
    "agPosPCT = np.divide(dfAG.NewPositive,dfAG.Tested)\n",
    "fig,ax1 = plt.subplots()\n",
    "\n",
    "ax1.plot(confDates,100 * AGposConfPerConf,'*-',label='PCR-konfirmeret andel af sande positive AG tests')\n",
    "# plt.plot(curDates,dfAG.PosPct)\n",
    "ax1.plot(curDates,100 * agPosPCT,'*-',label='AG test, positiv procent')\n",
    "ax1.set_ylim([0,0.4])\n",
    "ax1.set_xlim(left = np.datetime64('2021-03-01'))\n",
    "ax1.legend()\n",
    "plt.show()"
   ]
  },
  {
   "source": [
    "# Method 1"
   ],
   "cell_type": "markdown",
   "metadata": {}
  },
  {
   "cell_type": "code",
   "execution_count": 19,
   "metadata": {},
   "outputs": [],
   "source": [
    "# curDates.iloc[-10:]\n",
    "\n",
    "# PCRpos = dfPCR.NewPositive\n",
    "# posAG  = df[df.Date.isin(curDates)].NewPositive \n",
    "PCRpos = dfPCR.NewPositive.values\n",
    "numPCR = dfPCR.Tested.values\n",
    "AGpos = dfAG.NewPositive.values\n",
    "numAG = dfAG.Tested.values\n",
    "AGposPCRpos = dfAG2.AGpos_PCRpos.values\n",
    "\n",
    "PCRposPct = np.divide(PCRpos,numPCR)\n",
    "AGposPct = np.divide(AGpos,numAG)"
   ]
  },
  {
   "cell_type": "code",
   "execution_count": 20,
   "metadata": {},
   "outputs": [],
   "source": [
    "# Calculate the true positive rate\n",
    "AGtruePos = np.divide(dfAG2.AGpos_PCRpos,dfAG2.AG_pos)\n",
    "avgTruePos = AGtruePos.iloc[-14:].mean()\n",
    "avgConf = 0.01*dfAG2['Andel_AGpos_PCRkonf_pct'].iloc[-14:].mean()\n",
    "# avgTruePos\n",
    "\n",
    "\n",
    "# AGproj = np.divide(avgTruePos*dfAG2['AG_pos'],0.01*dfAG2['Andel_AGpos_PCRkonf_pct'].values)\n",
    "AGproj = np.divide(avgTruePos*AGpos,avgConf)\n",
    "\n",
    "confDatesProj = np.concatenate([confDates[:],curDates[-2:]])\n",
    "confDatesProj = np.append(confDates[:],curDates[-2:]).astype('datetime64[D]')\n",
    "AGposPCRposProj = np.append(AGposPCRpos,AGproj[-2:])"
   ]
  },
  {
   "cell_type": "code",
   "execution_count": 21,
   "metadata": {},
   "outputs": [
    {
     "output_type": "execute_result",
     "data": {
      "text/plain": [
       "numpy.datetime64('2021-05-19')"
      ]
     },
     "metadata": {},
     "execution_count": 21
    }
   ],
   "source": [
    "\n",
    "# fig,ax1 = plt.subplots(1,1,sharex=True)\n",
    "# ax1.plot(confDates,AGtruePos)\n",
    "\n",
    "confDatesProj[0]\n",
    "curDates[-1]"
   ]
  },
  {
   "cell_type": "code",
   "execution_count": 22,
   "metadata": {},
   "outputs": [
    {
     "output_type": "display_data",
     "data": {
      "text/plain": "Canvas(toolbar=Toolbar(toolitems=[('Home', 'Reset original view', 'home', 'home'), ('Back', 'Back to previous …",
      "application/vnd.jupyter.widget-view+json": {
       "version_major": 2,
       "version_minor": 0,
       "model_id": "86a4c6f5e4704101976ad3f36642d621"
      }
     },
     "metadata": {}
    }
   ],
   "source": [
    "firstDate = np.datetime64('2021-03-01')\n",
    "lastDate = curDates[-1]\n",
    "\n",
    "fig,ax1 = plt.subplots(1,1,sharex=True)\n",
    "\n",
    "meanWidth = 7\n",
    "\n",
    "ax1.plot(curDates,AGpos,'.-',color='xkcd:green',linewidth=0.5,markersize=2)\n",
    "ax1.plot(rnTime(curDates,meanWidth),rnMean(AGpos,meanWidth),color='xkcd:green',label='AG positive, total')\n",
    "\n",
    "ax1.plot(confDatesProj,AGposPCRposProj,'.-',color='xkcd:dark green',linewidth=0.5,markersize=2)\n",
    "ax1.plot(confDatesProj[-2:],AGposPCRposProj[-2:],'*',color='xkcd:dark green',markersize=5)\n",
    "ax1.plot(rnTime(confDatesProj,meanWidth),rnMean(AGposPCRposProj,meanWidth),color='xkcd:dark green',label='AG positive, PCR bekræftede')\n",
    "\n",
    "\n",
    "ax1.legend(loc='upper left')\n",
    "# ax1.legend(loc='center left',bbox_to_anchor = (1.0, 0.5))\n",
    "ax1.grid()\n",
    "ax1.set_ylim(bottom=0,top=500)\n",
    "ax1.set_ylabel('Antal')\n",
    "\n",
    "# ax1.set_xlim([firstDate,lastDate-np.timedelta64(1,'D')])\n",
    "ax1.set_xlim([firstDate,lastDate])\n",
    "plt.tight_layout()\n",
    "\n",
    "if saveFigures:\n",
    "    plt.savefig('figs/Screening_AGconfirmed')"
   ]
  },
  {
   "cell_type": "code",
   "execution_count": 23,
   "metadata": {},
   "outputs": [
    {
     "output_type": "display_data",
     "data": {
      "text/plain": "Canvas(toolbar=Toolbar(toolitems=[('Home', 'Reset original view', 'home', 'home'), ('Back', 'Back to previous …",
      "application/vnd.jupyter.widget-view+json": {
       "version_major": 2,
       "version_minor": 0,
       "model_id": "135513582cdd4460bb34941d1d74e510"
      }
     },
     "metadata": {}
    }
   ],
   "source": [
    "fig,ax1 = plt.subplots(1,1,sharex=True)\n",
    "\n",
    "PCRpos_nonAG = PCRpos - AGposPCRposProj\n",
    "\n",
    "ax1.plot(curDates,PCRpos,'.-',color='xkcd:brown',linewidth=0.5,markersize=2)\n",
    "ax1.plot(rnTime(curDates,meanWidth),rnMean(PCRpos,meanWidth),color='xkcd:brown',label='PCR positive, alle')\n",
    "\n",
    "ax1.plot(curDates,AGposPCRposProj,'.-',color='xkcd:dark green',linewidth=0.5,markersize=2)\n",
    "ax1.plot(curDates[-2:],AGposPCRposProj[-2:],'*',color='xkcd:dark green',markersize=5)\n",
    "ax1.plot(rnTime(curDates,meanWidth),rnMean(AGposPCRposProj,meanWidth),color='xkcd:dark green',label='AG positive, PCR bekræftede')\n",
    "\n",
    "\n",
    "ax1.plot(curDates,PCRpos_nonAG,'.-',color='xkcd:dark blue',linewidth=0.5,markersize=2)\n",
    "ax1.plot(rnTime(curDates,meanWidth),rnMean(PCRpos_nonAG,meanWidth),color='xkcd:dark blue',label='PCR positive, uden AG bekræftning')\n",
    "\n",
    "ax1.legend(loc='upper left')\n",
    "ax1.grid()\n",
    "ax1.set_ylim(bottom=0,top=1500)\n",
    "ax1.set_ylabel('Antal')\n",
    "\n",
    "ax1.set_xlim([firstDate,lastDate])\n",
    "plt.tight_layout()\n",
    "\n",
    "if saveFigures:\n",
    "    plt.savefig('figs/Screening_PCRnonAG')\n",
    "\n",
    "# ax1.plot(curDates,(1/0.9)*avgTruePos*AGpos,':',color='xkcd:dark green',label='AG positive, projekteret')\n",
    "# ax1.plot(confDates,0.9*dfAG2['AG_pos'],'.-',color='xkcd:dark green',linewidth=0.5,markersize=2,label='AG positive, to be confirmed')\n",
    "# ax1.plot(confDates,AGproj,'.-',color='xkcd:dark red',linewidth=0.5,markersize=2,label='AG positive, to be asdf')\n",
    "# ax1.plot(curDates[-3:],AGproj[-3:],'*-',color='xkcd:dark green',linewidth=0.5,markersize=4)\n",
    "# ax1.plot(rnTime(curDates,meanWidth)[-3:],rnMean(AGproj,meanWidth)[-3:],':',color='xkcd:dark green',label='AG positive, projektion')\n",
    "# ax1.plot(confDates,AGposPCRpos,'.-',color='xkcd:dark green',linewidth=0.5,markersize=2,label='AG positive, PCR bekræftede')\n",
    "# ax1.plot(rnTime(confDates,meanWidth),rnMean(AGposPCRpos,meanWidth),color='xkcd:dark green')"
   ]
  },
  {
   "cell_type": "code",
   "execution_count": 24,
   "metadata": {},
   "outputs": [
    {
     "output_type": "display_data",
     "data": {
      "text/plain": "Canvas(toolbar=Toolbar(toolitems=[('Home', 'Reset original view', 'home', 'home'), ('Back', 'Back to previous …",
      "application/vnd.jupyter.widget-view+json": {
       "version_major": 2,
       "version_minor": 0,
       "model_id": "a9672c70e5824b7f8d9a01292288f237"
      }
     },
     "metadata": {}
    }
   ],
   "source": [
    "fig,ax1 = plt.subplots(1,1,sharex=True)\n",
    "\n",
    "PCRpos_nonAG = PCRpos - AGposPCRposProj\n",
    "\n",
    "# ax1.plot(curDates,PCRpos,'.-',color='xkcd:brown',linewidth=0.5,markersize=2)\n",
    "# ax1.plot(rnTime(curDates,meanWidth),rnMean(PCRpos,meanWidth),color='xkcd:brown',label='PCR positive, alle')\n",
    "\n",
    "# ax1.plot(curDates,AGposPCRposProj,'.-',color='xkcd:dark green',linewidth=0.5,markersize=2)\n",
    "# ax1.plot(curDates[-2:],AGposPCRposProj[-2:],'*',color='xkcd:dark green',markersize=5)\n",
    "# ax1.plot(rnTime(curDates,meanWidth),rnMean(AGposPCRposProj,meanWidth),color='xkcd:dark green',label='AG positive, PCR bekræftede')\n",
    "\n",
    "\n",
    "ax1.plot(curDates,PCRpos_nonAG,'.-',color='xkcd:dark blue',linewidth=0.5,markersize=2)\n",
    "ax1.plot(rnTime(curDates,meanWidth),rnMean(PCRpos_nonAG,meanWidth),color='xkcd:dark blue',label='PCR positive, uden AG bekræftning')\n",
    "\n",
    "PCRnoscreen = PCRpos_nonAG * ( (30000/dfPCR.Tested)**0.7)\n",
    "PCRscreen = PCRpos_nonAG - PCRnoscreen\n",
    "\n",
    "ax1.plot(curDates,PCRnoscreen,'.-',color='m',linewidth=0.5,markersize=2)\n",
    "ax1.plot(rnTime(curDates,meanWidth),rnMean(PCRnoscreen,meanWidth),color='m',label='PCR positive, uden screening')\n",
    "ax1.plot(curDates,PCRscreen,'.-',color='r',linewidth=0.5,markersize=2)\n",
    "ax1.plot(rnTime(curDates,meanWidth),rnMean(PCRscreen,meanWidth),color='r',label='PCR positive, ren screening')\n",
    "\n",
    "ax1.legend(loc='upper left')\n",
    "ax1.grid()\n",
    "ax1.set_ylim(bottom=0,top=1500)\n",
    "ax1.set_ylabel('Antal')\n",
    "\n",
    "ax1.set_xlim([firstDate,lastDate])\n",
    "plt.tight_layout()\n",
    "\n",
    "# if saveFigures:\n",
    "#     plt.savefig('figs/Screening_PCRnonAG')"
   ]
  },
  {
   "cell_type": "code",
   "execution_count": 25,
   "metadata": {},
   "outputs": [
    {
     "output_type": "display_data",
     "data": {
      "text/plain": "Canvas(toolbar=Toolbar(toolitems=[('Home', 'Reset original view', 'home', 'home'), ('Back', 'Back to previous …",
      "application/vnd.jupyter.widget-view+json": {
       "version_major": 2,
       "version_minor": 0,
       "model_id": "b7c9409f2b84421689cd3e0b0f4b5070"
      }
     },
     "metadata": {}
    }
   ],
   "source": [
    "fig,ax1 = plt.subplots(1,1,sharex=True)\n",
    "PCRpos_nonAG = PCRpos - AGposPCRposProj\n",
    "\n",
    "\n",
    "cmap = plt.cm.get_cmap('tab20',7)\n",
    "\n",
    "# ax1.plot(curDates,PCRpos,'.-',color='xkcd:brown',linewidth=0.5,markersize=2)\n",
    "# ax1.plot(rnTime(curDates,meanWidth),rnMean(PCRpos,meanWidth),color='xkcd:brown',label='PCR positive, alle')\n",
    "\n",
    "# ax1.plot(curDates,AGposPCRposProj,'.-',color='xkcd:dark green',linewidth=0.5,markersize=2)\n",
    "# ax1.plot(curDates[-2:],AGposPCRposProj[-2:],'*',color='xkcd:dark green',markersize=5)\n",
    "# ax1.plot(rnTime(curDates,meanWidth),rnMean(AGposPCRposProj,meanWidth),color='xkcd:dark green',label='AG positive, PCR bekræftede')\n",
    "\n",
    "\n",
    "# ax1.fill(rnTime(curDates,meanWidth),rnMean(PCRpos_nonAG,meanWidth),color='xkcd:dark blue',label='PCR positive, uden AG bekræftning')\n",
    "\n",
    "PCRnoscreen = PCRpos_nonAG * ( (30000/dfPCR.Tested)**0.7)\n",
    "PCRscreen = PCRpos_nonAG - PCRnoscreen\n",
    "\n",
    "ax1.fill_between(rnTime2(curDates,meanWidth),rnMean(PCRnoscreen,meanWidth),color=cmap(0),label='PCR positive, ved 30.000 tests')\n",
    "# ax1.plot(curDates,PCRscreen,'.-',color='r',linewidth=0.5,markersize=2)\n",
    "ax1.fill_between(rnTime2(curDates,meanWidth),rnMean(PCRpos_nonAG,meanWidth),rnMean(PCRnoscreen,meanWidth),color=cmap(1),label='PCR positive, kun screening')\n",
    "\n",
    "\n",
    "# ax1.fill_between(rnTime(curDates,meanWidth),rnMean(PCRpos_nonAG+AGposPCRposProj,meanWidth),rnMean(PCRpos_nonAG,meanWidth),color='g',label='PCR positive + AG screening')\n",
    "ax1.fill_between(rnTime2(curDates,meanWidth),rnMean(PCRpos,meanWidth),rnMean(PCRpos_nonAG,meanWidth),color=cmap(2),label='PCR positive, efter AG positive')\n",
    "# ax1.plot(rnTime(curDates,meanWidth),rnMean(PCRpos,meanWidth))\n",
    "# ax1.plot(curDates,PCRpos)\n",
    "\n",
    "# ax1.plot(curDates,PCRpos_nonAG,'.-',color='k',linewidth=0.5,markersize=2)\n",
    "# ax1.plot(curDates,PCRnoscreen,'.-',color='k',linewidth=0.5,markersize=2)\n",
    "# ax1.plot(curDates,PCRpos,'.-',color='k',linewidth=0.5,markersize=2)\n",
    "\n",
    "ax1.legend(loc='upper left')\n",
    "ax1.grid(color='k')\n",
    "ax1.set_ylim(bottom=0,top=1100)\n",
    "# ax1.set_ylim(bottom=0)\n",
    "ax1.set_ylabel('Antal')\n",
    "\n",
    "ax1.xaxis.set_major_formatter(mdates.DateFormatter('%d.\\n%B'))\n",
    "\n",
    "curLastDate = rnTime2(curDates,meanWidth)[-1]\n",
    "ax1.set_xlim([firstDate,curLastDate])\n",
    "plt.tight_layout()\n",
    "\n",
    "if saveFigures:\n",
    "    plt.savefig('figs/Screening_PCRstacked')"
   ]
  },
  {
   "cell_type": "code",
   "execution_count": 26,
   "metadata": {},
   "outputs": [
    {
     "output_type": "display_data",
     "data": {
      "text/plain": "Canvas(toolbar=Toolbar(toolitems=[('Home', 'Reset original view', 'home', 'home'), ('Back', 'Back to previous …",
      "application/vnd.jupyter.widget-view+json": {
       "version_major": 2,
       "version_minor": 0,
       "model_id": "81aa1c2eec4a4f4893b6962ce861dd8d"
      }
     },
     "metadata": {}
    },
    {
     "output_type": "stream",
     "name": "stderr",
     "text": [
      "No handles with labels found to put in legend.\n"
     ]
    }
   ],
   "source": [
    "# Estimat af faktiske ny-smittede per dag\n",
    "fig,ax1 = plt.subplots()\n",
    "\n",
    "dkbefolk = 5800000\n",
    "# AGpospct = np.divide(dfAG.NewPositive,dfAG.Tested)\n",
    "# ax1.plot(curDates,AGpospct*dkbefolk)\n",
    "\n",
    "AGpospct2 = np.divide(dfAG2['AGpos_PCRpos'],dfAG2['AG_testede'])\n",
    "\n",
    "PCRpospct = np.divide(dfPCR.NewPositive,dfPCR.Tested)\n",
    "# AGtruePos\n",
    "# AGtruePos = np.divide(dfAG2.AGpos_PCRpos,dfAG2.AG_pos)\n",
    "confPCRpos = dfAG2.AGpos_PCRpos + dfAG2.AGnegPCRpos\n",
    "AG_TPR = np.divide(dfAG2.AGpos_PCRpos,confPCRpos)\n",
    "\n",
    "disPeriod = 3\n",
    "disPeriodPCR = 6\n",
    "\n",
    "numInfected = (AGpospct2/AG_TPR)*dkbefolk\n",
    "numInfectedPCR = PCRpospct*dkbefolk\n",
    "\n",
    "SSI_incidens = np.divide( np.multiply(dfPCR.NewPositive,100000) , dkbefolk )\n",
    "# SSI_incidens = dkbefolk * dfPCR.NewPositive / (100000)\n",
    "# SSI_incidens = dkbefolk * dfPCR.NewPositive / (100000)\n",
    "\n",
    "ax1.plot(curDates,numInfectedPCR/disPeriodPCR,'.-',color='b',linewidth=0.5,markersize=2)\n",
    "ax1.plot(rnTime2(curDates,meanWidth),rnMean(numInfectedPCR/disPeriodPCR,meanWidth),'b')\n",
    "ax1.plot(confDates,numInfected/disPeriod,'.-',color='r',linewidth=0.5,markersize=2)\n",
    "ax1.plot(rnTime2(confDates,meanWidth),rnMean(numInfected/disPeriod,meanWidth),'r')\n",
    "# ax1.plot(rnTime2(curDates,meanWidth),rnMean(SSI_incidens/disPeriod,meanWidth),'g')\n",
    "\n",
    "ax1.legend(loc='upper left')\n",
    "ax1.grid(color='k')\n",
    "# ax1.set_ylim(bottom=0,top=7000)\n",
    "ax1.set_ylim(bottom=0) \n",
    "ax1.set_ylabel('Antal')\n",
    "\n",
    "ax1.xaxis.set_major_formatter(mdates.DateFormatter('%d.\\n%B'))\n",
    "\n",
    "curLastDate = rnTime2(curDates,meanWidth)[-1]\n",
    "firstDate = np.datetime64('2021-02-01')\n",
    "ax1.set_xlim([firstDate,curLastDate])\n",
    "plt.tight_layout()"
   ]
  },
  {
   "source": [
    "# Metode 2"
   ],
   "cell_type": "markdown",
   "metadata": {}
  },
  {
   "cell_type": "code",
   "execution_count": 27,
   "metadata": {},
   "outputs": [
    {
     "output_type": "execute_result",
     "data": {
      "text/plain": [
       "          Dato  AG_testede  AG_pos  AGpos_PCRkonf  Andel_AGpos_PCRkonf_pct  \\\n",
       "101 2021-05-13      295174     399            364                91.228070   \n",
       "102 2021-05-14      323429     406            371                91.379310   \n",
       "103 2021-05-15      263817     346            305                88.150289   \n",
       "104 2021-05-16      305579     421            383                90.973872   \n",
       "105 2021-05-17      494948     499            473                94.789579   \n",
       "\n",
       "     AGpos_minusPCRkonf  Andel_AGminusPCRkonf_pct  AGpos_PCRpos  AGposPCRneg  \\\n",
       "101                  35                  8.771930           210          147   \n",
       "102                  35                  8.620690           219          148   \n",
       "103                  41                 11.849711           187          115   \n",
       "104                  38                  9.026128           262          115   \n",
       "105                  26                  5.210421           283          178   \n",
       "\n",
       "     AGnegPCRpos  AGnegPCRneg  \n",
       "101          189        17237  \n",
       "102          244        18794  \n",
       "103          232        18264  \n",
       "104          276        19956  \n",
       "105          413        27276  "
      ],
      "text/html": "<div>\n<style scoped>\n    .dataframe tbody tr th:only-of-type {\n        vertical-align: middle;\n    }\n\n    .dataframe tbody tr th {\n        vertical-align: top;\n    }\n\n    .dataframe thead th {\n        text-align: right;\n    }\n</style>\n<table border=\"1\" class=\"dataframe\">\n  <thead>\n    <tr style=\"text-align: right;\">\n      <th></th>\n      <th>Dato</th>\n      <th>AG_testede</th>\n      <th>AG_pos</th>\n      <th>AGpos_PCRkonf</th>\n      <th>Andel_AGpos_PCRkonf_pct</th>\n      <th>AGpos_minusPCRkonf</th>\n      <th>Andel_AGminusPCRkonf_pct</th>\n      <th>AGpos_PCRpos</th>\n      <th>AGposPCRneg</th>\n      <th>AGnegPCRpos</th>\n      <th>AGnegPCRneg</th>\n    </tr>\n  </thead>\n  <tbody>\n    <tr>\n      <th>101</th>\n      <td>2021-05-13</td>\n      <td>295174</td>\n      <td>399</td>\n      <td>364</td>\n      <td>91.228070</td>\n      <td>35</td>\n      <td>8.771930</td>\n      <td>210</td>\n      <td>147</td>\n      <td>189</td>\n      <td>17237</td>\n    </tr>\n    <tr>\n      <th>102</th>\n      <td>2021-05-14</td>\n      <td>323429</td>\n      <td>406</td>\n      <td>371</td>\n      <td>91.379310</td>\n      <td>35</td>\n      <td>8.620690</td>\n      <td>219</td>\n      <td>148</td>\n      <td>244</td>\n      <td>18794</td>\n    </tr>\n    <tr>\n      <th>103</th>\n      <td>2021-05-15</td>\n      <td>263817</td>\n      <td>346</td>\n      <td>305</td>\n      <td>88.150289</td>\n      <td>41</td>\n      <td>11.849711</td>\n      <td>187</td>\n      <td>115</td>\n      <td>232</td>\n      <td>18264</td>\n    </tr>\n    <tr>\n      <th>104</th>\n      <td>2021-05-16</td>\n      <td>305579</td>\n      <td>421</td>\n      <td>383</td>\n      <td>90.973872</td>\n      <td>38</td>\n      <td>9.026128</td>\n      <td>262</td>\n      <td>115</td>\n      <td>276</td>\n      <td>19956</td>\n    </tr>\n    <tr>\n      <th>105</th>\n      <td>2021-05-17</td>\n      <td>494948</td>\n      <td>499</td>\n      <td>473</td>\n      <td>94.789579</td>\n      <td>26</td>\n      <td>5.210421</td>\n      <td>283</td>\n      <td>178</td>\n      <td>413</td>\n      <td>27276</td>\n    </tr>\n  </tbody>\n</table>\n</div>"
     },
     "metadata": {},
     "execution_count": 27
    }
   ],
   "source": [
    "dfAG2.tail()"
   ]
  },
  {
   "cell_type": "code",
   "execution_count": 28,
   "metadata": {},
   "outputs": [],
   "source": [
    "AGpospct2 = np.divide(dfAG2['AGpos_PCRpos'],dfAG2['AG_testede'])\n",
    "AGpospct2Mean = AGpospct2.values[-14:].mean()\n",
    "AGpospct2 = np.append(AGpospct2,AGpospct2Mean)\n",
    "AGpospct2 = np.append(AGpospct2,AGpospct2Mean)"
   ]
  },
  {
   "cell_type": "code",
   "execution_count": 29,
   "metadata": {},
   "outputs": [],
   "source": [
    "AGsens = np.divide(dfAG2['AGpos_PCRpos'], dfAG2['AGpos_PCRpos'] + dfAG2['AGnegPCRpos'])\n",
    "\n",
    "AGsensmean = AGsens.values[-14:].mean()\n",
    "AGsens = np.append(AGsens,AGsensmean)\n",
    "AGsens = np.append(AGsens,AGsensmean)"
   ]
  },
  {
   "cell_type": "code",
   "execution_count": 30,
   "metadata": {},
   "outputs": [],
   "source": [
    "\n",
    "\n",
    "\n",
    "# AGpospct2\n",
    "# dfAG.tail()\n",
    "# AGpospct2 = np.divide(dfAG2['AGpos_PCRpos'],dfAG2['AG_testede']).values[-14:].mean()\n",
    "# AGposProj = np.multiply(dfAG.Tested,AGpospct2)\n",
    "# AGpospct2Proj = np.divide(AGposProj,dfAG.Tested)\n",
    "\n",
    "\n",
    "# fig,ax1 = plt.subplots()\n",
    "\n",
    "# ax1.plot(curDates,AGpospct2Proj)\n",
    "# ax1.plot(dfAG2['Dato'],np.divide(dfAG2['AGpos_PCRpos'],dfAG2['AG_testede']))\n",
    "\n",
    "# len(AGpospct2Proj)"
   ]
  },
  {
   "cell_type": "code",
   "execution_count": 31,
   "metadata": {},
   "outputs": [],
   "source": [
    "# len(curEstimate)\n",
    "# curEstimate"
   ]
  },
  {
   "cell_type": "code",
   "execution_count": 39,
   "metadata": {},
   "outputs": [
    {
     "output_type": "display_data",
     "data": {
      "text/plain": "Canvas(toolbar=Toolbar(toolitems=[('Home', 'Reset original view', 'home', 'home'), ('Back', 'Back to previous …",
      "application/vnd.jupyter.widget-view+json": {
       "version_major": 2,
       "version_minor": 0,
       "model_id": "5a40f232cb3c49d5b0713ed17050dc04"
      }
     },
     "metadata": {}
    }
   ],
   "source": [
    "fig,ax1 = plt.subplots()\n",
    "\n",
    "\n",
    "# PCRfirst30000 = dfPCR.NewPositive * ( (30000/dfPCR.Tested)**0.7)\n",
    "# PCRrest = dfPCR.NewPositive - PCRfirst30000\n",
    "\n",
    "pcrScreenSimple = dfPCR.Tested - 30000\n",
    "\n",
    "# avgPosRate = AG_TPR.values[-14:].mean()\n",
    "\n",
    "# AGpospct2 = (np.divide(dfAG.NewPositive,dfAG.Tested)/avgPosRate).values\n",
    "\n",
    "# AGpospct2 = np.divide(dfAG2['AGpos_PCRpos'],dfAG2['AG_testede']).values[-14:].mean()\n",
    " \n",
    "# curEstimate = np.multiply(pcrScreenSimple,AGpospct2 * 2)\n",
    "\n",
    "# curEstimate = np.multiply(pcrScreenSimple.values,AGpospct2 * 2)\n",
    "# curEstimate = np.multiply(pcrScreenSimple.values,np.divide(AGpospct2,AGsens))\n",
    "\n",
    "hardCodedSens = 0.618\n",
    "# hardCodedSens = 0.492\n",
    "curEstimate = np.multiply(pcrScreenSimple.values,np.divide(AGpospct2,hardCodedSens))\n",
    "\n",
    "\n",
    "# ax1.plot(curDates,curEstimate,'.-',color='b',linewidth=0.5,markersize=2)\n",
    "# ax1.plot(rnTime2(curDates,meanWidth),rnMean(curEstimate,meanWidth),'b')\n",
    "\n",
    "# ax1.plot(curDates,AGposPCRposProj,'.-',color='r',linewidth=0.5,markersize=2)\n",
    "# ax1.plot(rnTime2(curDates,meanWidth),rnMean(AGposPCRposProj,meanWidth),'r')\n",
    "\n",
    "# ax1.plot(curDates,AGposPCRposProj+curEstimate,'.-',color='k',linewidth=0.5,markersize=2)\n",
    "# ax1.plot(rnTime2(curDates,meanWidth),rnMean(AGposPCRposProj+curEstimate,meanWidth),'k')\n",
    "\n",
    "meanDays = rnTime2(curDates,meanWidth)\n",
    "\n",
    "# ax1.fill_between(meanDays,rnMean(curEstimate,meanWidth),label='Fundet ved PCR screening')\n",
    "# ax1.fill_between(meanDays,rnMean(AGposPCRposProj+curEstimate,meanWidth),rnMean(curEstimate,meanWidth),label='Fundet ved AG screening')\n",
    "# ax1.fill_between(meanDays,rnMean(PCRpos,meanWidth),rnMean(AGposPCRposProj+curEstimate,meanWidth),label='Fundet ved opsporende PCR tests')\n",
    "\n",
    "ax1.stackplot(meanDays,\n",
    "    rnMean(PCRpos-AGposPCRposProj - curEstimate,meanWidth),\n",
    "    rnMean(curEstimate,meanWidth),\n",
    "    rnMean(AGposPCRposProj,meanWidth),\n",
    "    labels=['PCR positive, ved 30.000 tests','PCR positive, kun screening','PCR positive, efter AG positive'],\n",
    "    colors=[cmap(0),cmap(1),cmap(2)]\n",
    "    )\n",
    "\n",
    "# ax1.fill_between(meanDays,rnMean(curEstimate,meanWidth),label='Fundet ved PCR screening')\n",
    "# ax1.fill_between(meanDays,rnMean(AGposPCRposProj+curEstimate,meanWidth),rnMean(curEstimate,meanWidth),label='Fundet ved AG screening')\n",
    "# ax1.fill_between(meanDays,rnMean(PCRpos,meanWidth),rnMean(AGposPCRposProj+curEstimate,meanWidth),label='Fundet ved opsporende PCR tests')\n",
    "# # ax1.fill_between(meanDays,rnMean(AGposPCRposProj+curEstimate+PCRnoscreen,meanWidth),rnMean(AGposPCRposProj+curEstimate,meanWidth),label='Fundet ved opsporende PCR tests')\n",
    "\n",
    "ax1.legend(loc='upper left')\n",
    "ax1.grid(color='k')\n",
    "# ax1.set_ylim(bottom=0,top=7000)\n",
    "ax1.set_ylim(bottom=0) \n",
    "ax1.set_ylim(bottom=0,top=1100)\n",
    "ax1.set_ylabel('Antal')\n",
    "\n",
    "ax1.xaxis.set_major_formatter(mdates.DateFormatter('%d.\\n%B'))\n",
    "\n",
    "curLastDate = rnTime2(curDates,meanWidth)[-1]\n",
    "firstDate = np.datetime64('2021-03-01')\n",
    "ax1.set_xlim([firstDate,curLastDate])\n",
    "plt.tight_layout()\n",
    "\n",
    "if saveFigures:\n",
    "    plt.savefig('figs/Screening_Metode2')"
   ]
  },
  {
   "cell_type": "code",
   "execution_count": 121,
   "metadata": {},
   "outputs": [
    {
     "output_type": "stream",
     "name": "stdout",
     "text": [
      "450 / 3000 = 0.15\n800 / 1500 = 0.5333333333333333\n575 / 2250 = 0.25555555555555554\n"
     ]
    },
    {
     "output_type": "execute_result",
     "data": {
      "text/plain": [
       "1.2941176470588236"
      ]
     },
     "metadata": {},
     "execution_count": 121
    }
   ],
   "source": [
    "print(f'450 / 3000 = {450 / 3000}')\n",
    "print(f'800 / 1500 = {800 / 1500}')\n",
    "print(f'575 / 2250 = {575 / 2250}')\n",
    "\n",
    "# # 2.3 * 1.5 * 0.5\n",
    "# 1.7 * 0.8\n",
    "# (1.7 * 0.8) * (1-0.15)\n",
    "\n",
    "1.1 * (1 / (1-0.15))\n",
    "# 1.2 * (1 / (1-0.15))\n",
    "# 1.3 * (1 / (1-0.15))"
   ]
  },
  {
   "cell_type": "code",
   "execution_count": 28,
   "metadata": {},
   "outputs": [],
   "source": [
    "\n",
    "# # PCRnoscreen = PCRpos_nonAG * ( (30000/dfPCR.Tested)**0.7)\n",
    "# # PCRscreen = PCRpos_nonAG - PCRnoscreen \n",
    "\n",
    "# # ax1.fill_between(rnTime2(curDates,meanWidth),rnMean(PCRnoscreen,meanWidth),color=cmap(0),label='PCR positive, ved 30.000 tests')\n",
    "# # ax1.plot(curDates,PCRscreen,'.-',color='r',linewidth=0.5,markersize=2)\n",
    "# # ax1.fill_between(rnTime2(curDates,meanWidth),rnMean(PCRpos_nonAG,meanWidth),rnMean(PCRnoscreen,meanWidth),color=cmap(1),label='PCR positive, kun screening')\n",
    "\n",
    "# # ax1.plot(curDates,PCRfirst30000,'.-',color='r',linewidth=0.5,markersize=2) \n",
    "# # ax1.plot(curDates,PCRrest,'.-',color='g',linewidth=0.5,markersize=2) \n",
    "\n",
    "# ax1.plot(curDates,dfPCR.NewPositive,'.-',color='k',linewidth=0.5,markersize=2) \n",
    "\n",
    "# ax1.legend(loc='upper left')\n",
    "# ax1.grid(color='k')\n",
    "# # ax1.set_ylim(bottom=0,top=1100)\n",
    "# ax1.set_ylabel('Antal')\n",
    "\n",
    "# ax1.xaxis.set_major_formatter(mdates.DateFormatter('%d.\\n%B'))\n",
    "\n",
    "# curLastDate = rnTime2(curDates,meanWidth)[-1]\n",
    "# ax1.set_xlim([firstDate,curLastDate])\n",
    "# plt.tight_layout()"
   ]
  },
  {
   "cell_type": "code",
   "execution_count": 29,
   "metadata": {},
   "outputs": [],
   "source": [
    "# firstDate = np.datetime64('2021-03-01')\n",
    "# lastDate = curDates.iloc[-1]\n",
    "\n",
    "# fig,ax1 = plt.subplots(1,1,sharex=True)\n",
    "\n",
    "# meanWidth = 7\n",
    "\n",
    "\n",
    "# ax1.plot(curDates,PCRpos,'.-',color='xkcd:rust',linewidth=0.5,markersize=2,label='PCR positive, total')\n",
    "# ax1.plot(rnTime(curDates,meanWidth),rnMean(PCRpos,meanWidth),color='xkcd:rust')\n",
    "# ax1.plot(curDates,AGpos,'.-',color='xkcd:green',linewidth=0.5,markersize=2,label='AG positive, total')\n",
    "# ax1.plot(rnTime(curDates,meanWidth),rnMean(AGpos,meanWidth),color='xkcd:green')\n",
    "# ax1.plot(confDates,AGposPCRpos,'.-',color='xkcd:dark green',linewidth=0.5,markersize=2,label='AG positive, PCR bekræftede')\n",
    "# ax1.plot(rnTime(confDates,meanWidth),rnMean(AGposPCRpos,meanWidth),color='xkcd:dark green')\n",
    "\n",
    "# # ax1.plot(curDates,PCRpos_nonAG,'g.-',linewidth=0.5,markersize=2,label='PCR positive, due to only PCR')\n",
    "# # ax1.plot(rnTime(curDates,meanWidth),rnMean(PCRpos_nonAG,meanWidth),'g')\n",
    "# # ax1.plot(curDates,AGposPCRpos,'.-',color='xkcd:hot pink',linewidth=0.5,markersize=2,label='PCR positive, due to AG')\n",
    "# # ax1.plot(rnTime(curDates,meanWidth),rnMean(AGposPCRpos,meanWidth),color='xkcd:hot pink')\n",
    "\n",
    "\n",
    "# ax1.legend(loc='upper left')\n",
    "# # ax1.legend(loc='center left',bbox_to_anchor = (1.0, 0.5))\n",
    "# ax1.grid()\n",
    "# ax1.set_ylim(bottom=0,top=1400)\n",
    "# ax1.set_ylabel('Count')\n",
    "\n",
    "# # ax1.set_xlim([firstDate,lastDate-np.timedelta64(1,'D')])\n",
    "# ax1.set_xlim([firstDate,lastDate])\n",
    "# plt.tight_layout()\n",
    "\n",
    "\n",
    "# # if saveFigures:\n",
    "# #     plt.savefig('figs/Viggo_Screening')"
   ]
  },
  {
   "source": [
    "# OLD below"
   ],
   "cell_type": "markdown",
   "metadata": {}
  },
  {
   "cell_type": "code",
   "execution_count": 30,
   "metadata": {},
   "outputs": [
    {
     "output_type": "display_data",
     "data": {
      "text/plain": "Canvas(toolbar=Toolbar(toolitems=[('Home', 'Reset original view', 'home', 'home'), ('Back', 'Back to previous …",
      "application/vnd.jupyter.widget-view+json": {
       "version_major": 2,
       "version_minor": 0,
       "model_id": "74f774a1e64345c3b8cf093bcea43d4e"
      }
     },
     "metadata": {}
    },
    {
     "output_type": "execute_result",
     "data": {
      "text/plain": [
       "[<matplotlib.lines.Line2D at 0x1b06b96e520>]"
      ]
     },
     "metadata": {},
     "execution_count": 30
    }
   ],
   "source": [
    "fig,ax1 = plt.subplots(1,1)\n",
    "\n",
    "# ax1.plot(dfAG2.Dato,dfAG2.AG_testede) \n",
    "ax1.plot(dfAG2.Dato,np.divide(dfAG2.AGpos_PCRpos,dfAG2.AG_pos),'.-')\n",
    "ax1.plot(rnTime(dfAG2.Dato,7),rnMean(np.divide(dfAG2.AGpos_PCRpos,dfAG2.AG_pos),7),'--')\n",
    "\n",
    "truePosRate = np.divide(dfAG2.AGpos_PCRpos,dfAG2.AG_pos)\n",
    "avgTruePosRate = np.mean(truePosRate[-30:])\n",
    "\n",
    "ax1.plot(dfAG2.Dato,avgTruePosRate * np.ones(dfAG2.Dato.shape),'k:')\n"
   ]
  },
  {
   "cell_type": "code",
   "execution_count": 31,
   "metadata": {},
   "outputs": [
    {
     "output_type": "display_data",
     "data": {
      "text/plain": "Canvas(toolbar=Toolbar(toolitems=[('Home', 'Reset original view', 'home', 'home'), ('Back', 'Back to previous …",
      "application/vnd.jupyter.widget-view+json": {
       "version_major": 2,
       "version_minor": 0,
       "model_id": "13ecb4228a044ba1be119aca73ba7530"
      }
     },
     "metadata": {}
    }
   ],
   "source": [
    "\n",
    "fig,ax1 = plt.subplots(1,1)\n",
    "\n",
    "# PCRpos = dfPCR.NewPositive\n",
    "# AGpos = dfAG.NewPositive\n",
    "# ax1.plot(curDates,PCRpos)\n",
    "ax1.plot(curDates,AGpos,label='AG+')\n",
    "ax1.plot(curDates,AGpos*avgTruePosRate,label='AG+, times true-positive rate')\n",
    "ax1.plot(dfAG2.Dato,dfAG2['AGpos_PCRpos'],label='AG+, PCR+ confirmed')\n",
    "\n",
    "ax1.legend()\n",
    "ax1.grid()\n",
    "ax1.set_ylim(bottom=0)\n",
    "ax1.set_xlim(left=np.datetime64('2021-03-01'))\n",
    "plt.tight_layout()"
   ]
  },
  {
   "cell_type": "code",
   "execution_count": 32,
   "metadata": {},
   "outputs": [
    {
     "output_type": "display_data",
     "data": {
      "text/plain": "Canvas(toolbar=Toolbar(toolitems=[('Home', 'Reset original view', 'home', 'home'), ('Back', 'Back to previous …",
      "application/vnd.jupyter.widget-view+json": {
       "version_major": 2,
       "version_minor": 0,
       "model_id": "e41b7a0d450e436daa953026684b25e7"
      }
     },
     "metadata": {}
    },
    {
     "output_type": "error",
     "ename": "AttributeError",
     "evalue": "'numpy.ndarray' object has no attribute 'values'",
     "traceback": [
      "\u001b[1;31m---------------------------------------------------------------------------\u001b[0m",
      "\u001b[1;31mAttributeError\u001b[0m                            Traceback (most recent call last)",
      "\u001b[1;32m<ipython-input-32-80b6a882509d>\u001b[0m in \u001b[0;36m<module>\u001b[1;34m\u001b[0m\n\u001b[0;32m      1\u001b[0m \u001b[0mfig\u001b[0m\u001b[1;33m,\u001b[0m\u001b[0max1\u001b[0m \u001b[1;33m=\u001b[0m \u001b[0mplt\u001b[0m\u001b[1;33m.\u001b[0m\u001b[0msubplots\u001b[0m\u001b[1;33m(\u001b[0m\u001b[1;36m1\u001b[0m\u001b[1;33m,\u001b[0m\u001b[1;36m1\u001b[0m\u001b[1;33m)\u001b[0m\u001b[1;33m\u001b[0m\u001b[1;33m\u001b[0m\u001b[0m\n\u001b[0;32m      2\u001b[0m \u001b[1;33m\u001b[0m\u001b[0m\n\u001b[1;32m----> 3\u001b[1;33m \u001b[0mPCRpos_nonAG\u001b[0m \u001b[1;33m=\u001b[0m \u001b[0mPCRpos\u001b[0m\u001b[1;33m.\u001b[0m\u001b[0mvalues\u001b[0m \u001b[1;33m-\u001b[0m\u001b[1;33m(\u001b[0m\u001b[0mAGpos\u001b[0m\u001b[1;33m.\u001b[0m\u001b[0mvalues\u001b[0m\u001b[1;33m*\u001b[0m\u001b[0mavgTruePosRate\u001b[0m\u001b[1;33m)\u001b[0m\u001b[1;33m\u001b[0m\u001b[1;33m\u001b[0m\u001b[0m\n\u001b[0m\u001b[0;32m      4\u001b[0m \u001b[1;33m\u001b[0m\u001b[0m\n\u001b[0;32m      5\u001b[0m \u001b[0mnormFactor\u001b[0m \u001b[1;33m=\u001b[0m \u001b[1;33m(\u001b[0m\u001b[0mnp\u001b[0m\u001b[1;33m.\u001b[0m\u001b[0mdivide\u001b[0m\u001b[1;33m(\u001b[0m\u001b[1;36m100000\u001b[0m\u001b[1;33m,\u001b[0m\u001b[0mdfPCR\u001b[0m\u001b[1;33m[\u001b[0m\u001b[1;34m'Tested'\u001b[0m\u001b[1;33m]\u001b[0m\u001b[1;33m)\u001b[0m\u001b[1;33m)\u001b[0m\u001b[1;33m**\u001b[0m\u001b[1;36m0.7\u001b[0m\u001b[1;33m\u001b[0m\u001b[1;33m\u001b[0m\u001b[0m\n",
      "\u001b[1;31mAttributeError\u001b[0m: 'numpy.ndarray' object has no attribute 'values'"
     ]
    }
   ],
   "source": [
    "\n",
    "fig,ax1 = plt.subplots(1,1)\n",
    "\n",
    "PCRpos_nonAG = PCRpos.values -(AGpos.values*avgTruePosRate)\n",
    "\n",
    "normFactor = (np.divide(100000,dfPCR['Tested']))**0.7\n",
    "\n",
    "PCRpos_nonAG_corr = PCRpos_nonAG*normFactor\n",
    "\n",
    "ax1.plot(curDates,PCRpos,'b.-',linewidth=0.5,markersize=2)\n",
    "ax1.plot(curDates,PCRpos_nonAG,'m.-',linewidth=0.5,markersize=2)\n",
    "ax1.plot(curDates,PCRpos_nonAG_corr,'g.-',linewidth=0.5,markersize=2)\n",
    "meanWidth = 7\n",
    "ax1.plot(rnTime(curDates,meanWidth),rnMean(PCRpos,meanWidth),'b',label='PCR positiv')\n",
    "ax1.plot(rnTime(curDates,meanWidth),rnMean(PCRpos_nonAG,meanWidth),'m',label='PCR positiv, uden AG konf.')\n",
    "ax1.plot(rnTime(curDates,meanWidth),rnMean(PCRpos_nonAG_corr,meanWidth),'g',label='PCR positiv, uden AG konf., korrigeret')\n",
    "# ax1.plot(curDates,AGpos,label='AG+')\n",
    "# ax1.plot(curDates,AGpos*avgTruePosRate,label='AG+, times true-positive rate')\n",
    "# ax1.plot(dfAG2.Dato,dfAG2['AGpos_PCRpos'],label='AG+, PCR+ confirmed')\n",
    "\n",
    "curFont = 18\n",
    "ax1.legend(fontsize=curFont)\n",
    "ax1.grid()\n",
    "ax1.set_ylim(bottom=0,top=1400)\n",
    "ax1.set_xlim(left=np.datetime64('2021-03-01'))\n",
    "\n",
    "ax1.xaxis.set_major_formatter(mdates.DateFormatter('%d\\n%b'))\n",
    "\n",
    "# plt.xticks(fontsize=curFont,rotation=90)\n",
    "plt.xticks(fontsize=curFont)\n",
    "plt.yticks(fontsize=curFont)\n",
    "ax1.set_ylabel('Antal',fontsize=curFont)\n",
    "plt.tight_layout()\n",
    "\n",
    "if saveFigures:\n",
    "    plt.savefig('figs/PCRKorrigering')"
   ]
  },
  {
   "cell_type": "code",
   "execution_count": null,
   "metadata": {},
   "outputs": [],
   "source": []
  }
 ]
}