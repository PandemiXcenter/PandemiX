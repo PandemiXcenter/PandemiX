{
    "cells": [
        {
            "cell_type": "code",
            "execution_count": null,
            "source": [
                "import requests\r\n",
                "import string\r\n",
                "\r\n",
                "# import requests\r\n",
                "# # import tqdm\r\n",
                "# import concurrent.futures\r\n",
                "# from functools import partial\r\n",
                "# from string import ascii_lowercase, digits\r\n",
                "# from itertools import product\r\n",
                "# from itertools import islice"
            ],
            "outputs": [],
            "metadata": {}
        },
        {
            "cell_type": "code",
            "execution_count": null,
            "source": [
                "# Script for scraping for the last part of the URLs"
            ],
            "outputs": [],
            "metadata": {}
        },
        {
            "cell_type": "code",
            "execution_count": null,
            "source": [
                "pathIni = 'https://covid19.ssi.dk/-/media/arkiv/dk/sygdomme-beredskab-og-forskning/sygdomsovervaagning/covid19/13_07_2021_'\r\n",
                "pathEnd = '/fig_12_1.png'\r\n",
                "\r\n",
                "pathIniTest = 'https://covid19.ssi.dk/-/media/arkiv/dk/sygdomme-beredskab-og-forskning/sygdomsovervaagning/covid19/20_07_2021_'\r\n",
                "\r\n",
                "testFound = 'dr1k'\r\n",
                "\r\n",
                "\r\n",
                "curMid = testFound\r\n",
                "curLink = pathIniTest + curMid + pathEnd\r\n",
                "testLink = pathIniTest + curMid + pathEnd\r\n",
                "# print(curLink)\r\n",
                "r = requests.get(curLink)\r\n",
                "if r.status_code == 200:\r\n",
                "    print('Found!')\r\n",
                "    correctLink = curLink\r\n",
                "r"
            ],
            "outputs": [],
            "metadata": {}
        },
        {
            "cell_type": "code",
            "execution_count": null,
            "source": [
                "correctLink = 'none'\r\n",
                "\r\n",
                "curMid = 'asdf'\r\n",
                "# curMid = testFound\r\n",
                "\r\n",
                "posSymbols = string.ascii_lowercase+string.digits\r\n",
                "\r\n",
                "# Generate list of urls\r\n",
                "\r\n",
                "allURLs = []\r\n",
                "for t1 in posSymbols:\r\n",
                "    for t2 in posSymbols:\r\n",
                "        for t3 in posSymbols:\r\n",
                "            for t4 in posSymbols:\r\n",
                "                curMid = t1+t2+t3+t4\r\n",
                "                curLink = pathIni + curMid + pathEnd\r\n",
                "\r\n",
                "                allURLs.append(curLink)\r\n",
                "                # # print(curLink)\r\n",
                "                # r = requests.get(curLink)\r\n",
                "                # if r.status_code == 200:\r\n",
                "                #     print('Found!')\r\n",
                "                #     correctLink = curLink\r\n",
                "\r\n"
            ],
            "outputs": [],
            "metadata": {}
        },
        {
            "cell_type": "code",
            "execution_count": null,
            "source": [
                "numURLs = len(allURLs)\r\n",
                "import math\r\n",
                "# allURLs[1:math.floor(numURLs/4)]\r\n",
                "# allURLs[:100]\r\n",
                "# allURLs"
            ],
            "outputs": [],
            "metadata": {}
        },
        {
            "cell_type": "code",
            "execution_count": null,
            "source": [
                "# counter = 0\r\n",
                "# printInterval = 100\r\n",
                "\r\n",
                "\r\n",
                "# for curURL in allURLs: \r\n",
                "\r\n",
                "#     counter +=1\r\n",
                "#     if ((counter % printInterval)==1):\r\n",
                "#         print(curURL)\r\n",
                "#     r = requests.get(curURL)\r\n",
                "#     if r.ok:\r\n",
                "#         print('Found!')\r\n",
                "#         correctLink = curURL"
            ],
            "outputs": [],
            "metadata": {}
        },
        {
            "cell_type": "code",
            "execution_count": null,
            "source": [
                "print(correctLink)\r\n",
                "print(t2)\r\n",
                "\r\n",
                "print(len(posSymbols)**4)"
            ],
            "outputs": [],
            "metadata": {}
        },
        {
            "cell_type": "code",
            "execution_count": null,
            "source": [
                "# ''.join(random.choice(string.ascii_uppercase + string.digits) for _ in range(4))\r\n",
                "string.ascii_lowercase+string.digits"
            ],
            "outputs": [],
            "metadata": {}
        },
        {
            "cell_type": "code",
            "execution_count": null,
            "source": [
                "curMid"
            ],
            "outputs": [],
            "metadata": {}
        },
        {
            "cell_type": "code",
            "execution_count": null,
            "source": [
                "# # Stefans løsning\r\n",
                "\r\n",
                "# import requests\r\n",
                "# import tqdm\r\n",
                "# import concurrent.futures\r\n",
                "# from functools import partial\r\n",
                "# from string import ascii_lowercase, digits\r\n",
                "# from itertools import product\r\n",
                "# from itertools import islice\r\n",
                "\r\n",
                "# base_url = \"https://covid19.ssi.dk/-/media/arkiv/dk/sygdomme-beredskab-og-forskning/sygdomsovervaagning/covid19/{date}_{code}/fig_12_1.png\"\r\n",
                "# characters = ascii_lowercase + digits\r\n",
                "\r\n",
                "\r\n",
                "# def download_image(code, date):\r\n",
                "#     code = \"\".join(code)\r\n",
                "#     url = base_url.format(date=date, code=code)\r\n",
                "#     if make_header_request(url):\r\n",
                "#         print(f\"Header request with code {code} succeeded\")\r\n",
                "#         response = requests.get(url=url)\r\n",
                "#         return code, response\r\n",
                "\r\n",
                "\r\n",
                "# def make_header_request(url):\r\n",
                "#     response = requests.head(url=url)\r\n",
                "#     return response.ok\r\n",
                "\r\n",
                "\r\n",
                "# if __name__ == \"__main__\":\r\n",
                "#     date = \"20_07_2021\"\r\n",
                "#     codes = product(characters, repeat=4)\r\n",
                "\r\n",
                "#     # Try with 10000 first codes, plus the one that works\r\n",
                "#     codes = (*islice(codes, 10000), (\"d\", \"r\", \"1\", \"k\"))\r\n",
                "\r\n",
                "#     with concurrent.futures.ThreadPoolExecutor(max_workers=200) as executor:\r\n",
                "#         # func in executor.map can only take one argument, so this needs to be a partial with the date already supplied\r\n",
                "#         func = partial(download_image, date=date)\r\n",
                "#         results = executor.map(func, tqdm.tqdm(codes))\r\n",
                "\r\n",
                "#     results = [result for result in results if result is not None]\r\n",
                "\r\n",
                "#     # Do stuff with results\r\n",
                "#     print(list(results))"
            ],
            "outputs": [],
            "metadata": {}
        },
        {
            "cell_type": "code",
            "execution_count": null,
            "source": [
                "import requests\r\n",
                "import tqdm\r\n",
                "import concurrent.futures\r\n",
                "from functools import partial\r\n",
                "from string import ascii_lowercase, digits\r\n",
                "from itertools import product\r\n",
                "from itertools import islice\r\n",
                "\r\n",
                "def make_header_request(url):\r\n",
                "    response = requests.head(url=url)\r\n",
                "    return response.ok\r\n",
                "\r\n",
                "def download_image_RP(url):\r\n",
                "    if make_header_request(url):\r\n",
                "        print(f\"Header request with url {url} succeeded\")\r\n",
                "        response = requests.get(url=url)\r\n",
                "        return response\r\n",
                "\r\n",
                "# testURLs = allURLs[0:10000]\r\n",
                "# testURLs.append(testLink)\r\n",
                "    # results = executor.map(download_image_RP,tqdm.tqdm(testURLs))\r\n",
                "\r\n",
                "    \r\n",
                "# allURLs[1:math.floor(numURLs/4)]\r\n",
                "\r\n",
                "# for k in range(2,500):\r\n",
                "\r\n",
                "with concurrent.futures.ThreadPoolExecutor(max_workers=200) as executor:\r\n",
                "    \r\n",
                "    # results = executor.map(download_image_RP,tqdm.tqdm(allURLs[1:math.floor(numURLs/500)]))\r\n",
                "    # results = executor.map(download_image_RP,tqdm.tqdm(allURLs[math.floor((k-1)*numURLs/500):math.floor(k*numURLs/500)]))\r\n",
                "    results = executor.map(download_image_RP,tqdm.tqdm(allURLs[math.floor(numURLs*8/10):]))\r\n",
                "    \r\n",
                "results = [result for result in results if result is not None]\r\n",
                "\r\n"
            ],
            "outputs": [],
            "metadata": {}
        },
        {
            "cell_type": "code",
            "execution_count": null,
            "source": [
                "results\r\n",
                "\r\n",
                "# results = [result for result in results if result is not None]"
            ],
            "outputs": [],
            "metadata": {}
        },
        {
            "cell_type": "code",
            "execution_count": null,
            "source": [],
            "outputs": [],
            "metadata": {}
        },
        {
            "cell_type": "code",
            "execution_count": null,
            "source": [
                "(40*(36**4)/10000)/60/60"
            ],
            "outputs": [],
            "metadata": {}
        },
        {
            "cell_type": "code",
            "execution_count": 6,
            "source": [
                "import requests\r\n",
                "import tqdm\r\n",
                "import concurrent.futures\r\n",
                "from functools import partial\r\n",
                "from string import ascii_lowercase, digits\r\n",
                "from itertools import product\r\n",
                "from itertools import islice\r\n",
                "\r\n",
                "base_url = \"https://covid19.ssi.dk/-/media/arkiv/dk/sygdomme-beredskab-og-forskning/sygdomsovervaagning/covid19/{date}_{code}/fig_12_1.png\"\r\n",
                "characters = ascii_lowercase + digits\r\n",
                "\r\n",
                "\r\n",
                "def download_image(code, date):\r\n",
                "    code = \"\".join(code)\r\n",
                "    url = base_url.format(date=date, code=code)\r\n",
                "    if make_header_request(url):\r\n",
                "        print(f\"Header request with code {code} succeeded\")\r\n",
                "        return code\r\n",
                "        # response = requests.get(url=url)\r\n",
                "        # return code, response\r\n",
                "\r\n",
                "\r\n",
                "def make_header_request(url):\r\n",
                "    response = requests.head(url=url)\r\n",
                "    return response.ok\r\n",
                "\r\n",
                "\r\n",
                "if __name__ == \"__main__\":\r\n",
                "    date = \"26_01_2021\"\r\n",
                "    codes = product(characters, repeat=4)\r\n",
                "    start = 0\r\n",
                "    # N = len(characters) ** 4 - start\r\n",
                "    N = 40_000\r\n",
                "    results = []\r\n",
                "    exceptions = []\r\n",
                "\r\n",
                "    # Try with 10000 first codes, plus the one that works\r\n",
                "    codes = islice(codes, start, start + N)\r\n",
                "    # codes = islice(codes, 1_400_000,1_400_000)\r\n",
                "\r\n",
                "    with concurrent.futures.ThreadPoolExecutor(max_workers=1000) as executor, tqdm.tqdm(total=N) as progress_bar:\r\n",
                "        # func in executor.map can only take one argument, so this needs to be a partial with the date already supplied\r\n",
                "        func = partial(download_image, date=date)\r\n",
                "        futures = {executor.submit(func, code): \"\".join(code) for code in codes}\r\n",
                "        for future in concurrent.futures.as_completed(futures):\r\n",
                "            code = futures[future]\r\n",
                "            try:\r\n",
                "                if (result := future.result()) is not None:\r\n",
                "                    # print(code, result)\r\n",
                "                    results.append(result)\r\n",
                "            except Exception as exc:\r\n",
                "                exceptions.append(code)\r\n",
                "                # print(code, exc)\r\n",
                "\r\n",
                "            progress_bar.update(1)\r\n",
                "\r\n",
                "    for code in exceptions:\r\n",
                "        print(code)\r\n",
                "        result = download_image(code=code, date=date)\r\n",
                "        if result is not None:\r\n",
                "            results.append(result)\r\n",
                "\r\n",
                "    # results = [result for result in results if result is not None]\r\n",
                "\r\n",
                "    # Do stuff with results\r\n",
                "    print(list(results))\r\n"
            ],
            "outputs": [
                {
                    "output_type": "stream",
                    "name": "stderr",
                    "text": [
                        " 20%|██        | 8015/40000 [01:49<07:02, 75.73it/s]"
                    ]
                },
                {
                    "output_type": "stream",
                    "name": "stdout",
                    "text": [
                        "Header request with code aggp succeeded\n"
                    ]
                },
                {
                    "output_type": "stream",
                    "name": "stderr",
                    "text": [
                        " 30%|██▉       | 11829/40000 [02:40<06:15, 74.99it/s]"
                    ]
                }
            ],
            "metadata": {}
        },
        {
            "cell_type": "code",
            "execution_count": 1,
            "source": [
                "results"
            ],
            "outputs": [
                {
                    "output_type": "error",
                    "ename": "NameError",
                    "evalue": "name 'results' is not defined",
                    "traceback": [
                        "\u001b[1;31m---------------------------------------------------------------------------\u001b[0m",
                        "\u001b[1;31mNameError\u001b[0m                                 Traceback (most recent call last)",
                        "\u001b[1;32m<ipython-input-1-100f62972f2f>\u001b[0m in \u001b[0;36m<module>\u001b[1;34m\u001b[0m\n\u001b[1;32m----> 1\u001b[1;33m \u001b[0mresults\u001b[0m\u001b[1;33m\u001b[0m\u001b[1;33m\u001b[0m\u001b[0m\n\u001b[0m",
                        "\u001b[1;31mNameError\u001b[0m: name 'results' is not defined"
                    ]
                }
            ],
            "metadata": {}
        },
        {
            "cell_type": "code",
            "execution_count": 5,
            "source": [],
            "outputs": [
                {
                    "output_type": "error",
                    "ename": "StopIteration",
                    "evalue": "",
                    "traceback": [
                        "\u001b[1;31m---------------------------------------------------------------------------\u001b[0m",
                        "\u001b[1;31mStopIteration\u001b[0m                             Traceback (most recent call last)",
                        "\u001b[1;32m<ipython-input-5-9bf346ba0a5a>\u001b[0m in \u001b[0;36m<module>\u001b[1;34m\u001b[0m\n\u001b[1;32m----> 1\u001b[1;33m \u001b[0mnext\u001b[0m\u001b[1;33m(\u001b[0m\u001b[0mcodes\u001b[0m\u001b[1;33m)\u001b[0m\u001b[1;33m\u001b[0m\u001b[1;33m\u001b[0m\u001b[0m\n\u001b[0m",
                        "\u001b[1;31mStopIteration\u001b[0m: "
                    ]
                }
            ],
            "metadata": {}
        },
        {
            "cell_type": "code",
            "execution_count": null,
            "source": [
                "testurl = base_url.format(date='06_07_2021', code='por1')\r\n",
                "make_header_request(testurl)\r\n",
                "\r\n",
                "\r\n",
                "date = \"13_07_2021\"\r\n",
                "codes = product(characters, repeat=4)\r\n"
            ],
            "outputs": [],
            "metadata": {}
        },
        {
            "cell_type": "code",
            "execution_count": null,
            "source": [
                "# \"\".join(code) for code in codes\r\n",
                "curCode = next(codes)\r\n",
                "actualCode = \"\".join(curCode)\r\n",
                "testurl = base_url.format(date=date,code=actualCode)\r\n",
                "testurl"
            ],
            "outputs": [],
            "metadata": {}
        }
    ],
    "metadata": {
        "orig_nbformat": 4,
        "language_info": {
            "name": "python",
            "version": "3.8.8",
            "mimetype": "text/x-python",
            "codemirror_mode": {
                "name": "ipython",
                "version": 3
            },
            "pygments_lexer": "ipython3",
            "nbconvert_exporter": "python",
            "file_extension": ".py"
        },
        "kernelspec": {
            "name": "python3",
            "display_name": "Python 3.8.8 64-bit ('main': conda)"
        },
        "interpreter": {
            "hash": "c031fd63bd977d199cd6020c30a19695eacbb638d100e0b8a5ea53080ed74a9a"
        }
    },
    "nbformat": 4,
    "nbformat_minor": 2
}