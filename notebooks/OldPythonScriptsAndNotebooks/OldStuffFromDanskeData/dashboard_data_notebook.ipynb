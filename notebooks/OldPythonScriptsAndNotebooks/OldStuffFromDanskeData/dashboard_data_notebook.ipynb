{
 "metadata": {
  "language_info": {
   "codemirror_mode": {
    "name": "ipython",
    "version": 3
   },
   "file_extension": ".py",
   "mimetype": "text/x-python",
   "name": "python",
   "nbconvert_exporter": "python",
   "pygments_lexer": "ipython3",
   "version": "3.8.8"
  },
  "orig_nbformat": 2,
  "kernelspec": {
   "name": "python388jvsc74a57bd0c031fd63bd977d199cd6020c30a19695eacbb638d100e0b8a5ea53080ed74a9a",
   "display_name": "Python 3.8.8 64-bit ('main': conda)"
  }
 },
 "nbformat": 4,
 "nbformat_minor": 2,
 "cells": [
  {
   "cell_type": "code",
   "execution_count": 1,
   "metadata": {},
   "outputs": [
    {
     "output_type": "stream",
     "name": "stdout",
     "text": [
      "saveFigures is set to: True\nDone loading packages\n"
     ]
    }
   ],
   "source": [
    "# Notebook for investigating dashboard data\n",
    "import numpy as np\n",
    "import pandas as pd\n",
    "pd.set_option('display.max_rows', 500)\n",
    "pd.set_option('display.min_rows', 50)\n",
    "\n",
    "\n",
    "import matplotlib.pyplot as plt\n",
    "%matplotlib widget\n",
    "plt.rcParams['figure.figsize'] = (12,8)\n",
    "plt.rcParams[\"image.cmap\"] = \"tab10\"\n",
    "plt.rcParams['axes.prop_cycle'] = plt.cycler(color=plt.cm.tab10.colors)\n",
    "#Settings for plotting\n",
    "fs_label = 16\n",
    "parameters = {\n",
    "                'axes.labelsize': fs_label,\n",
    "                'axes.titlesize': fs_label+4,\n",
    "                'xtick.labelsize': fs_label,\n",
    "                'ytick.labelsize': fs_label, \n",
    "                'legend.fontsize': fs_label, \n",
    "                'lines.markersize': 10,\n",
    "                'lines.linewidth': 3\n",
    "             }\n",
    "plt.rcParams.update(parameters)\n",
    "\n",
    "%matplotlib widget\n",
    "import matplotlib.colors as colors\n",
    "from matplotlib import cm # Colormaps\n",
    "\n",
    "import locale\n",
    "import matplotlib.dates as mdates\n",
    "locale.setlocale(locale.LC_TIME,\"Danish\")\n",
    "locale.setlocale(locale.LC_ALL,\"Danish\")\n",
    "\n",
    "## Useful commands to copy:\n",
    "# cmap = plt.cm.get_cmap('Dark2',len(ageGroups))\n",
    "# ax1.xaxis.set_major_formatter(mdates.DateFormatter('%b\\n%Y'))\n",
    "# ax1.xaxis.set_major_formatter(mdates.DateFormatter('%d\\n%b'))\n",
    "# plt.rcParams[\"image.cmap\"] = \"Dark2\"\n",
    "# plt.rcParams['axes.prop_cycle'] = plt.cycler(color=plt.cm.Dark2.colors)\n",
    "\n",
    "import os\n",
    "import math\n",
    "\n",
    "from datetime import date\n",
    "\n",
    "\n",
    "saveFigures = True\n",
    "print('saveFigures is set to: '+str(saveFigures))\n",
    "\n",
    "print('Done loading packages')\n",
    "\n",
    "def rnMean(data,meanWidth):\n",
    "    return np.convolve(data, np.ones(meanWidth)/meanWidth, mode='valid')\n",
    "def rnTime(t,meanWidth):\n",
    "    return t[math.floor(meanWidth/2):-math.ceil(meanWidth/2)+1]"
   ]
  },
  {
   "cell_type": "code",
   "execution_count": 2,
   "metadata": {},
   "outputs": [
    {
     "output_type": "stream",
     "name": "stdout",
     "text": [
      "d:\\Pandemix\\Github\\DanskeData/ssi_dashboard\\SSI_dashboard_2021-05-25\\Regionalt_DB\n2021-05-25\n"
     ]
    }
   ],
   "source": [
    "# Get the most recent file\n",
    "ssidatapath = \"ssi_dashboard\"\n",
    "rootdir = os.getcwd() +\"/\" + ssidatapath\n",
    "\n",
    "\n",
    "for subdir, dirs, files in os.walk(rootdir):\n",
    "    if not len(files) == 0:\n",
    "        latestdir = subdir\n",
    "        linkIni = latestdir.find('SSI_dashboard_')\n",
    "        latestDate = latestdir[linkIni+14:linkIni+24]\n",
    "\n",
    "print(latestdir)\n",
    "print(latestDate)"
   ]
  },
  {
   "cell_type": "code",
   "execution_count": 3,
   "metadata": {},
   "outputs": [],
   "source": [
    "\n",
    "maindf = pd.read_csv(latestdir+'/01_noegle_tal.csv',delimiter = ';',dtype=str,encoding='latin-1') "
   ]
  },
  {
   "cell_type": "code",
   "execution_count": 4,
   "metadata": {},
   "outputs": [],
   "source": [
    "# Load the data\n",
    "# fulldf = pd.read_csv(latestdir+'/01_noegle_tal.csv',delimiter = ';',dtype=str,encoding='latin-1') \n",
    "# fulldf = pd.read_csv(latestdir+'/05_bekraeftede_tilfaelde_doede_pr_region_pr_alders_grp.csv',delimiter = ';',dtype=str,encoding='latin-1') \n",
    "# fulldf = pd.read_csv(latestdir+'/11_noegletal_pr_region_pr_aldersgruppe.csv',delimiter = ';',encoding='latin-1') \n",
    "\n",
    "fulldf = pd.read_csv(latestdir+'/03_bekraeftede_tilfaelde_doede_indlagte_pr_dag_pr_koen.csv',delimiter = ';',encoding='latin-1') "
   ]
  },
  {
   "cell_type": "code",
   "execution_count": 5,
   "metadata": {},
   "outputs": [],
   "source": [
    "# fulldf[fulldf.Aldersgruppe == '20-29']['Bekræftede tilfælde'].sum()\n",
    "# fulldf['Bekræftede tilfælde'].sum()"
   ]
  },
  {
   "cell_type": "code",
   "execution_count": 6,
   "metadata": {},
   "outputs": [],
   "source": [
    "df = pd.read_csv(latestdir+'/03_bekraeftede_tilfaelde_doede_indlagte_pr_dag_pr_koen.csv',delimiter = ';',encoding='latin-1') \n",
    "df[\"Prøvetagningsdato\"] = df[\"Prøvetagningsdato\"].astype('datetime64[D]')"
   ]
  },
  {
   "cell_type": "code",
   "execution_count": 7,
   "metadata": {
    "tags": []
   },
   "outputs": [],
   "source": [
    "# curDates = pd.to_datetime(df[df.Region == 'Hovedstaden']['Prøvetagningsdato'])\n",
    "# curCases = df[df.Region == 'Hovedstaden']['Bekræftede tilfælde']\n",
    "\n",
    "allDates = df['Prøvetagningsdato'].unique()\n",
    "\n",
    "curDates = []\n",
    "curCases = []\n",
    "\n",
    "for da in allDates:\n",
    "\n",
    "    # curDate = da\n",
    "    curCount = df[df['Prøvetagningsdato']==da]['Bekræftede tilfælde'].sum()\n",
    "\n",
    "    curDates.append(da)\n",
    "    curCases.append(curCount)\n",
    "\n",
    "\n",
    "# df[df['Prøvetagningsdato']==da]['Bekræftede tilfælde'].sum()"
   ]
  },
  {
   "cell_type": "code",
   "execution_count": 8,
   "metadata": {},
   "outputs": [
    {
     "output_type": "display_data",
     "data": {
      "text/plain": "Canvas(toolbar=Toolbar(toolitems=[('Home', 'Reset original view', 'home', 'home'), ('Back', 'Back to previous …",
      "application/vnd.jupyter.widget-view+json": {
       "version_major": 2,
       "version_minor": 0,
       "model_id": "6f9bd59232924da1886b9d12a74f1ab6"
      }
     },
     "metadata": {}
    }
   ],
   "source": [
    "fig,ax1 = plt.subplots()\n",
    "\n",
    "# # Show mondays\n",
    "# testMonday = np.datetime64('2021-05-17')\n",
    "# numMondays = 30\n",
    "# for m in range(0,numMondays):\n",
    "#     # ax1.bar(testMonday-np.timedelta64(m*7,'D'),curMax,color='grey',width=0.1)\n",
    "#     ax1.axvline(x=testMonday-np.timedelta64(m*7,'D'),color='lightgrey')\n",
    "    \n",
    "curMax = max(curCases[-100:])*1.1\n",
    "\n",
    "# Show weekend\n",
    "testSat = np.datetime64('2021-01-02')\n",
    "numWeeks = 30\n",
    "for m in range(0,numWeeks):\n",
    "    ax1.bar(testSat+np.timedelta64(m*7,'D') + np.timedelta64(12,'h'),curMax,color='grey',width=np.timedelta64(48,'h'))\n",
    "    # ax1.axvline(x=testMonday-np.timedelta64(m*7,'D'),color='lightgrey')\n",
    "\n",
    "ax1.bar(testSat+np.timedelta64(m*7,'D') + np.timedelta64(12,'h'),curMax,color='grey',width=np.timedelta64(48,'h'),label='Weekend')\n",
    "\n",
    "ax1.plot(curDates,curCases,'k.:',linewidth=0.5,label='Data')\n",
    "meanWidth = 7\n",
    "ax1.plot(rnTime(curDates,meanWidth),rnMean(curCases,meanWidth),'k',label='7 dages løbende gennemsnit')\n",
    "\n",
    "\n",
    "\n",
    "ax1.xaxis.set_major_formatter(mdates.DateFormatter('%d\\n%b'))\n",
    "\n",
    "ax1.set_xlim(left=np.datetime64('2021-02-01'), right=np.datetime64(date.today())+np.timedelta64(1,'D'))\n",
    "ax1.set_ylim([0,curMax])\n",
    "\n",
    "ax1.set_ylabel('Antal bekræftede tilfælde')\n",
    "\n",
    "\n",
    "ax1.legend()\n",
    "\n",
    "plt.tight_layout()\n",
    "\n",
    "if saveFigures:\n",
    "    plt.savefig('figs/CasesFromDashboard_Total')"
   ]
  },
  {
   "cell_type": "code",
   "execution_count": 9,
   "metadata": {},
   "outputs": [
    {
     "output_type": "execute_result",
     "data": {
      "text/plain": [
       "272421"
      ]
     },
     "metadata": {},
     "execution_count": 9
    }
   ],
   "source": [
    "sum(curCases)"
   ]
  },
  {
   "cell_type": "code",
   "execution_count": 10,
   "metadata": {},
   "outputs": [
    {
     "output_type": "execute_result",
     "data": {
      "text/plain": [
       "[numpy.datetime64('2021-05-20T00:00:00.000000000'),\n",
       " numpy.datetime64('2021-05-21T00:00:00.000000000'),\n",
       " numpy.datetime64('2021-05-22T00:00:00.000000000'),\n",
       " numpy.datetime64('2021-05-23T00:00:00.000000000'),\n",
       " numpy.datetime64('2021-05-24T00:00:00.000000000'),\n",
       " numpy.datetime64('2021-05-25T00:00:00.000000000')]"
      ]
     },
     "metadata": {},
     "execution_count": 10
    }
   ],
   "source": [
    "curDates[-6:]"
   ]
  },
  {
   "cell_type": "code",
   "execution_count": 11,
   "metadata": {},
   "outputs": [
    {
     "output_type": "execute_result",
     "data": {
      "text/plain": [
       "[1009, 822, 781, 793, 276, 2]"
      ]
     },
     "metadata": {},
     "execution_count": 11
    }
   ],
   "source": [
    "curCases[-6:]"
   ]
  },
  {
   "cell_type": "code",
   "execution_count": 12,
   "metadata": {},
   "outputs": [
    {
     "output_type": "execute_result",
     "data": {
      "text/plain": [
       "           Region Prøvetagningsdato Køn  Bekræftede tilfælde  Døde  \\\n",
       "0        Sjælland        2020-02-26   M                    1     0   \n",
       "1     Hovedstaden        2020-02-27   M                    1     0   \n",
       "2     Midtjylland        2020-02-28   M                    1     0   \n",
       "3     Hovedstaden        2020-03-01   M                    1     0   \n",
       "4     Hovedstaden        2020-03-02   M                    2     0   \n",
       "5        Sjælland        2020-03-02   M                    1     0   \n",
       "6      Syddanmark        2020-03-02   M                    1     0   \n",
       "7     Hovedstaden        2020-03-03   F                    1     0   \n",
       "8     Hovedstaden        2020-03-03   M                    3     0   \n",
       "9     Hovedstaden        2020-03-04   M                    2     0   \n",
       "10       Sjælland        2020-03-04   M                    1     0   \n",
       "11    Hovedstaden        2020-03-05   F                    4     1   \n",
       "12    Hovedstaden        2020-03-05   M                    6     1   \n",
       "13    Nordjylland        2020-03-06   M                    1     0   \n",
       "14       Sjælland        2020-03-06   M                    1     0   \n",
       "15    Hovedstaden        2020-03-07   F                    5     0   \n",
       "16    Hovedstaden        2020-03-07   M                    3     0   \n",
       "17    Midtjylland        2020-03-07   M                    1     0   \n",
       "18    Hovedstaden        2020-03-08   F                    8     0   \n",
       "19    Midtjylland        2020-03-08   F                    6     0   \n",
       "20       Sjælland        2020-03-08   F                    2     0   \n",
       "21     Syddanmark        2020-03-08   F                    1     0   \n",
       "22    Hovedstaden        2020-03-08   M                    4     0   \n",
       "23    Midtjylland        2020-03-08   M                   16     0   \n",
       "24    Nordjylland        2020-03-08   M                    1     0   \n",
       "...           ...               ...  ..                  ...   ...   \n",
       "4157  Midtjylland        2021-05-22   M                   83     0   \n",
       "4158  Nordjylland        2021-05-22   M                   49     0   \n",
       "4159     Sjælland        2021-05-22   M                   36     0   \n",
       "4160   Syddanmark        2021-05-22   M                   51     0   \n",
       "4161  Hovedstaden        2021-05-23   F                  156     0   \n",
       "4162  Midtjylland        2021-05-23   F                   85     0   \n",
       "4163  Nordjylland        2021-05-23   F                   60     0   \n",
       "4164     Sjælland        2021-05-23   F                   41     0   \n",
       "4165   Syddanmark        2021-05-23   F                   50     0   \n",
       "4166  Hovedstaden        2021-05-23   M                  148     0   \n",
       "4167  Midtjylland        2021-05-23   M                   92     0   \n",
       "4168  Nordjylland        2021-05-23   M                   53     0   \n",
       "4169     Sjælland        2021-05-23   M                   57     0   \n",
       "4170   Syddanmark        2021-05-23   M                   51     0   \n",
       "4171  Hovedstaden        2021-05-24   F                   70     0   \n",
       "4172  Midtjylland        2021-05-24   F                   20     0   \n",
       "4173  Nordjylland        2021-05-24   F                   11     0   \n",
       "4174     Sjælland        2021-05-24   F                   21     0   \n",
       "4175   Syddanmark        2021-05-24   F                   12     0   \n",
       "4176  Hovedstaden        2021-05-24   M                   59     0   \n",
       "4177  Midtjylland        2021-05-24   M                   22     0   \n",
       "4178  Nordjylland        2021-05-24   M                   21     0   \n",
       "4179     Sjælland        2021-05-24   M                   19     0   \n",
       "4180   Syddanmark        2021-05-24   M                   21     0   \n",
       "4181  Hovedstaden        2021-05-25   M                    2     0   \n",
       "\n",
       "      Indlæggelser  Kummuleret antal døde  \\\n",
       "0                0                      0   \n",
       "1                0                      0   \n",
       "2                0                      0   \n",
       "3                1                      0   \n",
       "4                1                      0   \n",
       "5                0                      0   \n",
       "6                0                      0   \n",
       "7                0                      0   \n",
       "8                1                      0   \n",
       "9                0                      0   \n",
       "10               1                      0   \n",
       "11               1                      1   \n",
       "12               2                      2   \n",
       "13               0                      2   \n",
       "14               1                      2   \n",
       "15               1                      2   \n",
       "16               1                      2   \n",
       "17               0                      2   \n",
       "18               0                      2   \n",
       "19               0                      2   \n",
       "20               1                      2   \n",
       "21               0                      2   \n",
       "22               1                      2   \n",
       "23               0                      2   \n",
       "24               0                      2   \n",
       "...            ...                    ...   \n",
       "4157             0                   2498   \n",
       "4158             0                   2498   \n",
       "4159             1                   2498   \n",
       "4160             0                   2498   \n",
       "4161             2                   2498   \n",
       "4162             1                   2498   \n",
       "4163             0                   2498   \n",
       "4164             1                   2498   \n",
       "4165             1                   2498   \n",
       "4166             3                   2498   \n",
       "4167             0                   2498   \n",
       "4168             0                   2498   \n",
       "4169             1                   2498   \n",
       "4170             1                   2498   \n",
       "4171             2                   2498   \n",
       "4172             0                   2498   \n",
       "4173             0                   2498   \n",
       "4174             0                   2498   \n",
       "4175             0                   2498   \n",
       "4176             1                   2498   \n",
       "4177             1                   2498   \n",
       "4178             1                   2498   \n",
       "4179             0                   2498   \n",
       "4180             1                   2498   \n",
       "4181             2                   2498   \n",
       "\n",
       "      Kummuleret antal bekræftede tilfælde  Kummuleret antal indlæggelser  \n",
       "0                                        1                              0  \n",
       "1                                        2                              0  \n",
       "2                                        3                              0  \n",
       "3                                        4                              1  \n",
       "4                                        6                              2  \n",
       "5                                        7                              2  \n",
       "6                                        8                              2  \n",
       "7                                        9                              2  \n",
       "8                                       12                              3  \n",
       "9                                       14                              3  \n",
       "10                                      15                              4  \n",
       "11                                      19                              5  \n",
       "12                                      25                              7  \n",
       "13                                      26                              7  \n",
       "14                                      27                              8  \n",
       "15                                      32                              9  \n",
       "16                                      35                             10  \n",
       "17                                      36                             10  \n",
       "18                                      44                             10  \n",
       "19                                      50                             10  \n",
       "20                                      52                             11  \n",
       "21                                      53                             11  \n",
       "22                                      57                             12  \n",
       "23                                      73                             12  \n",
       "24                                      74                             12  \n",
       "...                                    ...                            ...  \n",
       "4157                                271214                          14888  \n",
       "4158                                271263                          14888  \n",
       "4159                                271299                          14889  \n",
       "4160                                271350                          14889  \n",
       "4161                                271506                          14891  \n",
       "4162                                271591                          14892  \n",
       "4163                                271651                          14892  \n",
       "4164                                271692                          14893  \n",
       "4165                                271742                          14894  \n",
       "4166                                271890                          14897  \n",
       "4167                                271982                          14897  \n",
       "4168                                272035                          14897  \n",
       "4169                                272092                          14898  \n",
       "4170                                272143                          14899  \n",
       "4171                                272213                          14901  \n",
       "4172                                272233                          14901  \n",
       "4173                                272244                          14901  \n",
       "4174                                272265                          14901  \n",
       "4175                                272277                          14901  \n",
       "4176                                272336                          14902  \n",
       "4177                                272358                          14903  \n",
       "4178                                272379                          14904  \n",
       "4179                                272398                          14904  \n",
       "4180                                272419                          14905  \n",
       "4181                                272421                          14907  \n",
       "\n",
       "[4182 rows x 9 columns]"
      ],
      "text/html": "<div>\n<style scoped>\n    .dataframe tbody tr th:only-of-type {\n        vertical-align: middle;\n    }\n\n    .dataframe tbody tr th {\n        vertical-align: top;\n    }\n\n    .dataframe thead th {\n        text-align: right;\n    }\n</style>\n<table border=\"1\" class=\"dataframe\">\n  <thead>\n    <tr style=\"text-align: right;\">\n      <th></th>\n      <th>Region</th>\n      <th>Prøvetagningsdato</th>\n      <th>Køn</th>\n      <th>Bekræftede tilfælde</th>\n      <th>Døde</th>\n      <th>Indlæggelser</th>\n      <th>Kummuleret antal døde</th>\n      <th>Kummuleret antal bekræftede tilfælde</th>\n      <th>Kummuleret antal indlæggelser</th>\n    </tr>\n  </thead>\n  <tbody>\n    <tr>\n      <th>0</th>\n      <td>Sjælland</td>\n      <td>2020-02-26</td>\n      <td>M</td>\n      <td>1</td>\n      <td>0</td>\n      <td>0</td>\n      <td>0</td>\n      <td>1</td>\n      <td>0</td>\n    </tr>\n    <tr>\n      <th>1</th>\n      <td>Hovedstaden</td>\n      <td>2020-02-27</td>\n      <td>M</td>\n      <td>1</td>\n      <td>0</td>\n      <td>0</td>\n      <td>0</td>\n      <td>2</td>\n      <td>0</td>\n    </tr>\n    <tr>\n      <th>2</th>\n      <td>Midtjylland</td>\n      <td>2020-02-28</td>\n      <td>M</td>\n      <td>1</td>\n      <td>0</td>\n      <td>0</td>\n      <td>0</td>\n      <td>3</td>\n      <td>0</td>\n    </tr>\n    <tr>\n      <th>3</th>\n      <td>Hovedstaden</td>\n      <td>2020-03-01</td>\n      <td>M</td>\n      <td>1</td>\n      <td>0</td>\n      <td>1</td>\n      <td>0</td>\n      <td>4</td>\n      <td>1</td>\n    </tr>\n    <tr>\n      <th>4</th>\n      <td>Hovedstaden</td>\n      <td>2020-03-02</td>\n      <td>M</td>\n      <td>2</td>\n      <td>0</td>\n      <td>1</td>\n      <td>0</td>\n      <td>6</td>\n      <td>2</td>\n    </tr>\n    <tr>\n      <th>5</th>\n      <td>Sjælland</td>\n      <td>2020-03-02</td>\n      <td>M</td>\n      <td>1</td>\n      <td>0</td>\n      <td>0</td>\n      <td>0</td>\n      <td>7</td>\n      <td>2</td>\n    </tr>\n    <tr>\n      <th>6</th>\n      <td>Syddanmark</td>\n      <td>2020-03-02</td>\n      <td>M</td>\n      <td>1</td>\n      <td>0</td>\n      <td>0</td>\n      <td>0</td>\n      <td>8</td>\n      <td>2</td>\n    </tr>\n    <tr>\n      <th>7</th>\n      <td>Hovedstaden</td>\n      <td>2020-03-03</td>\n      <td>F</td>\n      <td>1</td>\n      <td>0</td>\n      <td>0</td>\n      <td>0</td>\n      <td>9</td>\n      <td>2</td>\n    </tr>\n    <tr>\n      <th>8</th>\n      <td>Hovedstaden</td>\n      <td>2020-03-03</td>\n      <td>M</td>\n      <td>3</td>\n      <td>0</td>\n      <td>1</td>\n      <td>0</td>\n      <td>12</td>\n      <td>3</td>\n    </tr>\n    <tr>\n      <th>9</th>\n      <td>Hovedstaden</td>\n      <td>2020-03-04</td>\n      <td>M</td>\n      <td>2</td>\n      <td>0</td>\n      <td>0</td>\n      <td>0</td>\n      <td>14</td>\n      <td>3</td>\n    </tr>\n    <tr>\n      <th>10</th>\n      <td>Sjælland</td>\n      <td>2020-03-04</td>\n      <td>M</td>\n      <td>1</td>\n      <td>0</td>\n      <td>1</td>\n      <td>0</td>\n      <td>15</td>\n      <td>4</td>\n    </tr>\n    <tr>\n      <th>11</th>\n      <td>Hovedstaden</td>\n      <td>2020-03-05</td>\n      <td>F</td>\n      <td>4</td>\n      <td>1</td>\n      <td>1</td>\n      <td>1</td>\n      <td>19</td>\n      <td>5</td>\n    </tr>\n    <tr>\n      <th>12</th>\n      <td>Hovedstaden</td>\n      <td>2020-03-05</td>\n      <td>M</td>\n      <td>6</td>\n      <td>1</td>\n      <td>2</td>\n      <td>2</td>\n      <td>25</td>\n      <td>7</td>\n    </tr>\n    <tr>\n      <th>13</th>\n      <td>Nordjylland</td>\n      <td>2020-03-06</td>\n      <td>M</td>\n      <td>1</td>\n      <td>0</td>\n      <td>0</td>\n      <td>2</td>\n      <td>26</td>\n      <td>7</td>\n    </tr>\n    <tr>\n      <th>14</th>\n      <td>Sjælland</td>\n      <td>2020-03-06</td>\n      <td>M</td>\n      <td>1</td>\n      <td>0</td>\n      <td>1</td>\n      <td>2</td>\n      <td>27</td>\n      <td>8</td>\n    </tr>\n    <tr>\n      <th>15</th>\n      <td>Hovedstaden</td>\n      <td>2020-03-07</td>\n      <td>F</td>\n      <td>5</td>\n      <td>0</td>\n      <td>1</td>\n      <td>2</td>\n      <td>32</td>\n      <td>9</td>\n    </tr>\n    <tr>\n      <th>16</th>\n      <td>Hovedstaden</td>\n      <td>2020-03-07</td>\n      <td>M</td>\n      <td>3</td>\n      <td>0</td>\n      <td>1</td>\n      <td>2</td>\n      <td>35</td>\n      <td>10</td>\n    </tr>\n    <tr>\n      <th>17</th>\n      <td>Midtjylland</td>\n      <td>2020-03-07</td>\n      <td>M</td>\n      <td>1</td>\n      <td>0</td>\n      <td>0</td>\n      <td>2</td>\n      <td>36</td>\n      <td>10</td>\n    </tr>\n    <tr>\n      <th>18</th>\n      <td>Hovedstaden</td>\n      <td>2020-03-08</td>\n      <td>F</td>\n      <td>8</td>\n      <td>0</td>\n      <td>0</td>\n      <td>2</td>\n      <td>44</td>\n      <td>10</td>\n    </tr>\n    <tr>\n      <th>19</th>\n      <td>Midtjylland</td>\n      <td>2020-03-08</td>\n      <td>F</td>\n      <td>6</td>\n      <td>0</td>\n      <td>0</td>\n      <td>2</td>\n      <td>50</td>\n      <td>10</td>\n    </tr>\n    <tr>\n      <th>20</th>\n      <td>Sjælland</td>\n      <td>2020-03-08</td>\n      <td>F</td>\n      <td>2</td>\n      <td>0</td>\n      <td>1</td>\n      <td>2</td>\n      <td>52</td>\n      <td>11</td>\n    </tr>\n    <tr>\n      <th>21</th>\n      <td>Syddanmark</td>\n      <td>2020-03-08</td>\n      <td>F</td>\n      <td>1</td>\n      <td>0</td>\n      <td>0</td>\n      <td>2</td>\n      <td>53</td>\n      <td>11</td>\n    </tr>\n    <tr>\n      <th>22</th>\n      <td>Hovedstaden</td>\n      <td>2020-03-08</td>\n      <td>M</td>\n      <td>4</td>\n      <td>0</td>\n      <td>1</td>\n      <td>2</td>\n      <td>57</td>\n      <td>12</td>\n    </tr>\n    <tr>\n      <th>23</th>\n      <td>Midtjylland</td>\n      <td>2020-03-08</td>\n      <td>M</td>\n      <td>16</td>\n      <td>0</td>\n      <td>0</td>\n      <td>2</td>\n      <td>73</td>\n      <td>12</td>\n    </tr>\n    <tr>\n      <th>24</th>\n      <td>Nordjylland</td>\n      <td>2020-03-08</td>\n      <td>M</td>\n      <td>1</td>\n      <td>0</td>\n      <td>0</td>\n      <td>2</td>\n      <td>74</td>\n      <td>12</td>\n    </tr>\n    <tr>\n      <th>...</th>\n      <td>...</td>\n      <td>...</td>\n      <td>...</td>\n      <td>...</td>\n      <td>...</td>\n      <td>...</td>\n      <td>...</td>\n      <td>...</td>\n      <td>...</td>\n    </tr>\n    <tr>\n      <th>4157</th>\n      <td>Midtjylland</td>\n      <td>2021-05-22</td>\n      <td>M</td>\n      <td>83</td>\n      <td>0</td>\n      <td>0</td>\n      <td>2498</td>\n      <td>271214</td>\n      <td>14888</td>\n    </tr>\n    <tr>\n      <th>4158</th>\n      <td>Nordjylland</td>\n      <td>2021-05-22</td>\n      <td>M</td>\n      <td>49</td>\n      <td>0</td>\n      <td>0</td>\n      <td>2498</td>\n      <td>271263</td>\n      <td>14888</td>\n    </tr>\n    <tr>\n      <th>4159</th>\n      <td>Sjælland</td>\n      <td>2021-05-22</td>\n      <td>M</td>\n      <td>36</td>\n      <td>0</td>\n      <td>1</td>\n      <td>2498</td>\n      <td>271299</td>\n      <td>14889</td>\n    </tr>\n    <tr>\n      <th>4160</th>\n      <td>Syddanmark</td>\n      <td>2021-05-22</td>\n      <td>M</td>\n      <td>51</td>\n      <td>0</td>\n      <td>0</td>\n      <td>2498</td>\n      <td>271350</td>\n      <td>14889</td>\n    </tr>\n    <tr>\n      <th>4161</th>\n      <td>Hovedstaden</td>\n      <td>2021-05-23</td>\n      <td>F</td>\n      <td>156</td>\n      <td>0</td>\n      <td>2</td>\n      <td>2498</td>\n      <td>271506</td>\n      <td>14891</td>\n    </tr>\n    <tr>\n      <th>4162</th>\n      <td>Midtjylland</td>\n      <td>2021-05-23</td>\n      <td>F</td>\n      <td>85</td>\n      <td>0</td>\n      <td>1</td>\n      <td>2498</td>\n      <td>271591</td>\n      <td>14892</td>\n    </tr>\n    <tr>\n      <th>4163</th>\n      <td>Nordjylland</td>\n      <td>2021-05-23</td>\n      <td>F</td>\n      <td>60</td>\n      <td>0</td>\n      <td>0</td>\n      <td>2498</td>\n      <td>271651</td>\n      <td>14892</td>\n    </tr>\n    <tr>\n      <th>4164</th>\n      <td>Sjælland</td>\n      <td>2021-05-23</td>\n      <td>F</td>\n      <td>41</td>\n      <td>0</td>\n      <td>1</td>\n      <td>2498</td>\n      <td>271692</td>\n      <td>14893</td>\n    </tr>\n    <tr>\n      <th>4165</th>\n      <td>Syddanmark</td>\n      <td>2021-05-23</td>\n      <td>F</td>\n      <td>50</td>\n      <td>0</td>\n      <td>1</td>\n      <td>2498</td>\n      <td>271742</td>\n      <td>14894</td>\n    </tr>\n    <tr>\n      <th>4166</th>\n      <td>Hovedstaden</td>\n      <td>2021-05-23</td>\n      <td>M</td>\n      <td>148</td>\n      <td>0</td>\n      <td>3</td>\n      <td>2498</td>\n      <td>271890</td>\n      <td>14897</td>\n    </tr>\n    <tr>\n      <th>4167</th>\n      <td>Midtjylland</td>\n      <td>2021-05-23</td>\n      <td>M</td>\n      <td>92</td>\n      <td>0</td>\n      <td>0</td>\n      <td>2498</td>\n      <td>271982</td>\n      <td>14897</td>\n    </tr>\n    <tr>\n      <th>4168</th>\n      <td>Nordjylland</td>\n      <td>2021-05-23</td>\n      <td>M</td>\n      <td>53</td>\n      <td>0</td>\n      <td>0</td>\n      <td>2498</td>\n      <td>272035</td>\n      <td>14897</td>\n    </tr>\n    <tr>\n      <th>4169</th>\n      <td>Sjælland</td>\n      <td>2021-05-23</td>\n      <td>M</td>\n      <td>57</td>\n      <td>0</td>\n      <td>1</td>\n      <td>2498</td>\n      <td>272092</td>\n      <td>14898</td>\n    </tr>\n    <tr>\n      <th>4170</th>\n      <td>Syddanmark</td>\n      <td>2021-05-23</td>\n      <td>M</td>\n      <td>51</td>\n      <td>0</td>\n      <td>1</td>\n      <td>2498</td>\n      <td>272143</td>\n      <td>14899</td>\n    </tr>\n    <tr>\n      <th>4171</th>\n      <td>Hovedstaden</td>\n      <td>2021-05-24</td>\n      <td>F</td>\n      <td>70</td>\n      <td>0</td>\n      <td>2</td>\n      <td>2498</td>\n      <td>272213</td>\n      <td>14901</td>\n    </tr>\n    <tr>\n      <th>4172</th>\n      <td>Midtjylland</td>\n      <td>2021-05-24</td>\n      <td>F</td>\n      <td>20</td>\n      <td>0</td>\n      <td>0</td>\n      <td>2498</td>\n      <td>272233</td>\n      <td>14901</td>\n    </tr>\n    <tr>\n      <th>4173</th>\n      <td>Nordjylland</td>\n      <td>2021-05-24</td>\n      <td>F</td>\n      <td>11</td>\n      <td>0</td>\n      <td>0</td>\n      <td>2498</td>\n      <td>272244</td>\n      <td>14901</td>\n    </tr>\n    <tr>\n      <th>4174</th>\n      <td>Sjælland</td>\n      <td>2021-05-24</td>\n      <td>F</td>\n      <td>21</td>\n      <td>0</td>\n      <td>0</td>\n      <td>2498</td>\n      <td>272265</td>\n      <td>14901</td>\n    </tr>\n    <tr>\n      <th>4175</th>\n      <td>Syddanmark</td>\n      <td>2021-05-24</td>\n      <td>F</td>\n      <td>12</td>\n      <td>0</td>\n      <td>0</td>\n      <td>2498</td>\n      <td>272277</td>\n      <td>14901</td>\n    </tr>\n    <tr>\n      <th>4176</th>\n      <td>Hovedstaden</td>\n      <td>2021-05-24</td>\n      <td>M</td>\n      <td>59</td>\n      <td>0</td>\n      <td>1</td>\n      <td>2498</td>\n      <td>272336</td>\n      <td>14902</td>\n    </tr>\n    <tr>\n      <th>4177</th>\n      <td>Midtjylland</td>\n      <td>2021-05-24</td>\n      <td>M</td>\n      <td>22</td>\n      <td>0</td>\n      <td>1</td>\n      <td>2498</td>\n      <td>272358</td>\n      <td>14903</td>\n    </tr>\n    <tr>\n      <th>4178</th>\n      <td>Nordjylland</td>\n      <td>2021-05-24</td>\n      <td>M</td>\n      <td>21</td>\n      <td>0</td>\n      <td>1</td>\n      <td>2498</td>\n      <td>272379</td>\n      <td>14904</td>\n    </tr>\n    <tr>\n      <th>4179</th>\n      <td>Sjælland</td>\n      <td>2021-05-24</td>\n      <td>M</td>\n      <td>19</td>\n      <td>0</td>\n      <td>0</td>\n      <td>2498</td>\n      <td>272398</td>\n      <td>14904</td>\n    </tr>\n    <tr>\n      <th>4180</th>\n      <td>Syddanmark</td>\n      <td>2021-05-24</td>\n      <td>M</td>\n      <td>21</td>\n      <td>0</td>\n      <td>1</td>\n      <td>2498</td>\n      <td>272419</td>\n      <td>14905</td>\n    </tr>\n    <tr>\n      <th>4181</th>\n      <td>Hovedstaden</td>\n      <td>2021-05-25</td>\n      <td>M</td>\n      <td>2</td>\n      <td>0</td>\n      <td>2</td>\n      <td>2498</td>\n      <td>272421</td>\n      <td>14907</td>\n    </tr>\n  </tbody>\n</table>\n<p>4182 rows × 9 columns</p>\n</div>"
     },
     "metadata": {},
     "execution_count": 12
    }
   ],
   "source": [
    "df"
   ]
  },
  {
   "source": [
    "# Nye indlæggelser"
   ],
   "cell_type": "markdown",
   "metadata": {}
  },
  {
   "cell_type": "code",
   "execution_count": 13,
   "metadata": {},
   "outputs": [],
   "source": [
    "admdf = pd.read_csv(latestdir+'/06_nye_indlaeggelser_pr_region_pr_dag.csv',delimiter = ';',encoding='latin-1') "
   ]
  },
  {
   "cell_type": "code",
   "execution_count": 14,
   "metadata": {},
   "outputs": [],
   "source": [
    "admdf[\"Dato\"] = admdf[\"Dato\"].astype('datetime64[D]')"
   ]
  },
  {
   "cell_type": "code",
   "execution_count": 15,
   "metadata": {},
   "outputs": [
    {
     "output_type": "execute_result",
     "data": {
      "text/plain": [
       "           Region       Dato  Indlæggelser\n",
       "1779  Midtjylland 2021-05-24             2\n",
       "1780  Nordjylland 2021-05-24             2\n",
       "1781     Sjælland 2021-05-24             3\n",
       "1782   Syddanmark 2021-05-24             3\n",
       "1783  Hovedstaden 2021-05-25             2"
      ],
      "text/html": "<div>\n<style scoped>\n    .dataframe tbody tr th:only-of-type {\n        vertical-align: middle;\n    }\n\n    .dataframe tbody tr th {\n        vertical-align: top;\n    }\n\n    .dataframe thead th {\n        text-align: right;\n    }\n</style>\n<table border=\"1\" class=\"dataframe\">\n  <thead>\n    <tr style=\"text-align: right;\">\n      <th></th>\n      <th>Region</th>\n      <th>Dato</th>\n      <th>Indlæggelser</th>\n    </tr>\n  </thead>\n  <tbody>\n    <tr>\n      <th>1779</th>\n      <td>Midtjylland</td>\n      <td>2021-05-24</td>\n      <td>2</td>\n    </tr>\n    <tr>\n      <th>1780</th>\n      <td>Nordjylland</td>\n      <td>2021-05-24</td>\n      <td>2</td>\n    </tr>\n    <tr>\n      <th>1781</th>\n      <td>Sjælland</td>\n      <td>2021-05-24</td>\n      <td>3</td>\n    </tr>\n    <tr>\n      <th>1782</th>\n      <td>Syddanmark</td>\n      <td>2021-05-24</td>\n      <td>3</td>\n    </tr>\n    <tr>\n      <th>1783</th>\n      <td>Hovedstaden</td>\n      <td>2021-05-25</td>\n      <td>2</td>\n    </tr>\n  </tbody>\n</table>\n</div>"
     },
     "metadata": {},
     "execution_count": 15
    }
   ],
   "source": [
    "admdf.tail()"
   ]
  },
  {
   "cell_type": "code",
   "execution_count": 16,
   "metadata": {},
   "outputs": [],
   "source": [
    "\n",
    "allAdmDates = admdf['Dato'].unique()\n",
    "\n",
    "admDates = []\n",
    "curAdm = []\n",
    "\n",
    "for da in allAdmDates:\n",
    "\n",
    "    curCount = admdf[admdf['Dato']==da]['Indlæggelser'].sum()\n",
    "\n",
    "    admDates.append(da)\n",
    "    curAdm.append(curCount)\n",
    "\n"
   ]
  },
  {
   "cell_type": "code",
   "execution_count": 17,
   "metadata": {},
   "outputs": [],
   "source": [
    "admDates = np.array(admDates).astype('datetime64[D]')"
   ]
  },
  {
   "cell_type": "code",
   "execution_count": 18,
   "metadata": {},
   "outputs": [
    {
     "output_type": "display_data",
     "data": {
      "text/plain": "Canvas(toolbar=Toolbar(toolitems=[('Home', 'Reset original view', 'home', 'home'), ('Back', 'Back to previous …",
      "application/vnd.jupyter.widget-view+json": {
       "version_major": 2,
       "version_minor": 0,
       "model_id": "50c417c62d75424d954f20e2086b8bc0"
      }
     },
     "metadata": {}
    }
   ],
   "source": [
    "fig,ax1 = plt.subplots()\n",
    "\n",
    "ax1.plot(admDates,curAdm,'k.:',linewidth=0.5)\n",
    "meanWidth = 7\n",
    "ax1.plot(rnTime(admDates,meanWidth),rnMean(curAdm,meanWidth),'k')\n",
    "\n",
    "ax1.xaxis.set_major_formatter(mdates.DateFormatter('%b\\n%Y'))\n",
    "\n",
    "ax1.set_ylim(bottom=0,top=70)\n",
    "ax1.set_xlim(left=np.datetime64('2021-02-01'))\n",
    "plt.show()"
   ]
  },
  {
   "cell_type": "code",
   "execution_count": 19,
   "metadata": {},
   "outputs": [],
   "source": [
    "dfAdm = pd.read_excel('Admitted\\Admitted.xlsx')\n",
    "dfAdm = dfAdm.transpose()\n",
    "dfAdm.columns = dfAdm.iloc[0]\n",
    "dfAdm = dfAdm.drop(['Aldersgruppe']) \n",
    "curDates =  pd.to_datetime(dfAdm.index,format='%d_%m_%Y')\n",
    "dfAdmDiff = dfAdm.diff().iloc[1:]\n",
    "plotDates = curDates[1:]"
   ]
  },
  {
   "cell_type": "code",
   "execution_count": 20,
   "metadata": {},
   "outputs": [],
   "source": [
    "# sumUp = []\n",
    "# sumDates = []\n",
    "\n",
    "# for k in np.arange(0,len(curAdm),7):\n",
    "\n",
    "#     # print(np.sum(curAdm[k:k+7]))\n",
    "#     curSum = np.sum(curAdm[k-6:k+1])\n",
    "#     sumUp.append(curSum)\n",
    "#     sumDates.append(admDates[k])"
   ]
  },
  {
   "cell_type": "code",
   "execution_count": 21,
   "metadata": {},
   "outputs": [],
   "source": [
    "res = np.cumsum(curAdm)\n",
    "toPlot = res[7:] - res[:-7]\n",
    "toPlotDays = admDates[7:]"
   ]
  },
  {
   "cell_type": "code",
   "execution_count": 22,
   "metadata": {},
   "outputs": [
    {
     "output_type": "display_data",
     "data": {
      "text/plain": "Canvas(toolbar=Toolbar(toolitems=[('Home', 'Reset original view', 'home', 'home'), ('Back', 'Back to previous …",
      "application/vnd.jupyter.widget-view+json": {
       "version_major": 2,
       "version_minor": 0,
       "model_id": "5e9808031ada4699afa1e7f4ff2ff9b7"
      }
     },
     "metadata": {}
    }
   ],
   "source": [
    "fig,ax1 = plt.subplots()\n",
    "\n",
    "ax1.plot(admDates,curAdm,'k.:',linewidth=0.5)\n",
    "meanWidth = 7\n",
    "ax1.plot(rnTime(admDates,meanWidth),rnMean(curAdm,meanWidth),'k')\n",
    "\n",
    "# ax1.plot(sumDates,np.divide(sumUp,7),'rs')\n",
    "# ax1.plot(toPlotDays,np.divide(toPlot,7),'m')\n",
    "ax1.plot(plotDates,np.divide(dfAdmDiff['I alt'],7),'*')\n",
    "\n",
    "# ax1.plot(toPlotDays,toPlot,'m')\n",
    "# ax1.plot(plotDates,dfAdmDiff['I alt'],'*')\n",
    "\n",
    "\n",
    "ax1.xaxis.set_major_formatter(mdates.DateFormatter('%b\\n%Y'))\n",
    "\n",
    "ax1.set_ylim(bottom=0,top=70)\n",
    "# ax1.set_ylim(bottom=0,top=70*7)\n",
    "ax1.set_xlim(left=np.datetime64('2021-02-01'))\n",
    "plt.show()"
   ]
  },
  {
   "cell_type": "code",
   "execution_count": 23,
   "metadata": {},
   "outputs": [
    {
     "output_type": "display_data",
     "data": {
      "text/plain": "Canvas(toolbar=Toolbar(toolitems=[('Home', 'Reset original view', 'home', 'home'), ('Back', 'Back to previous …",
      "application/vnd.jupyter.widget-view+json": {
       "version_major": 2,
       "version_minor": 0,
       "model_id": "f94b03bc118b48fabacab0eecbc2e0b6"
      }
     },
     "metadata": {}
    }
   ],
   "source": [
    "fig,ax1 = plt.subplots()\n",
    "\n",
    "ax1.plot(admDates,np.cumsum(curAdm))\n",
    "ax1.plot(admDates-np.datetime64(3,'D'),np.cumsum(curAdm))\n",
    "ax1.plot(admDates-np.datetime64(4,'D'),np.cumsum(curAdm))\n",
    "ax1.plot(admDates-np.datetime64(7,'D'),np.cumsum(curAdm))\n",
    "ax1.plot(curDates,dfAdm['I alt'],'k*')\n",
    "\n",
    "\n",
    "ax1.xaxis.set_major_formatter(mdates.DateFormatter('%b\\n%Y'))\n",
    "\n",
    "# ax1.set_ylim(bottom=0,top=70*7)\n",
    "# ax1.set_xlim(left=np.datetime64('2021-01-01'))\n",
    "plt.show()"
   ]
  },
  {
   "cell_type": "code",
   "execution_count": 24,
   "metadata": {},
   "outputs": [
    {
     "output_type": "execute_result",
     "data": {
      "text/plain": [
       "           Region        Dato  Bekræftede tilfælde\n",
       "2150  Midtjylland  2021-05-24                   42\n",
       "2151  Nordjylland  2021-05-24                   32\n",
       "2152     Sjælland  2021-05-24                   40\n",
       "2153   Syddanmark  2021-05-24                   33\n",
       "2154  Hovedstaden  2021-05-25                    2"
      ],
      "text/html": "<div>\n<style scoped>\n    .dataframe tbody tr th:only-of-type {\n        vertical-align: middle;\n    }\n\n    .dataframe tbody tr th {\n        vertical-align: top;\n    }\n\n    .dataframe thead th {\n        text-align: right;\n    }\n</style>\n<table border=\"1\" class=\"dataframe\">\n  <thead>\n    <tr style=\"text-align: right;\">\n      <th></th>\n      <th>Region</th>\n      <th>Dato</th>\n      <th>Bekræftede tilfælde</th>\n    </tr>\n  </thead>\n  <tbody>\n    <tr>\n      <th>2150</th>\n      <td>Midtjylland</td>\n      <td>2021-05-24</td>\n      <td>42</td>\n    </tr>\n    <tr>\n      <th>2151</th>\n      <td>Nordjylland</td>\n      <td>2021-05-24</td>\n      <td>32</td>\n    </tr>\n    <tr>\n      <th>2152</th>\n      <td>Sjælland</td>\n      <td>2021-05-24</td>\n      <td>40</td>\n    </tr>\n    <tr>\n      <th>2153</th>\n      <td>Syddanmark</td>\n      <td>2021-05-24</td>\n      <td>33</td>\n    </tr>\n    <tr>\n      <th>2154</th>\n      <td>Hovedstaden</td>\n      <td>2021-05-25</td>\n      <td>2</td>\n    </tr>\n  </tbody>\n</table>\n</div>"
     },
     "metadata": {},
     "execution_count": 24
    }
   ],
   "source": [
    "df = pd.read_csv(latestdir+'/08_bekraeftede_tilfaelde_pr_dag_pr_regions.csv',delimiter = ';',encoding='latin-1') \n",
    "df.tail()"
   ]
  },
  {
   "cell_type": "code",
   "execution_count": 25,
   "metadata": {},
   "outputs": [
    {
     "output_type": "stream",
     "name": "stdout",
     "text": [
      "259313\n275207\n"
     ]
    },
    {
     "output_type": "execute_result",
     "data": {
      "text/plain": [
       "          Dato       Region  Køn  Bekræftede tilfælde  Døde  \\\n",
       "0   2021-05-25  Hovedstaden    F                66305   635   \n",
       "1   2021-05-25  Hovedstaden    M                63291   699   \n",
       "2   2021-05-25  Midtjylland    F                24048   156   \n",
       "3   2021-05-25  Midtjylland    M                23661   198   \n",
       "4   2021-05-25          NaN  NaN                    0     0   \n",
       "5   2021-05-25          NaN    F                  846     5   \n",
       "6   2021-05-25          NaN    M                 1940     7   \n",
       "7   2021-05-25  Nordjylland    F                 9437    73   \n",
       "8   2021-05-25  Nordjylland    M                 9757   112   \n",
       "9   2021-05-25     Sjælland    F                19096   181   \n",
       "10  2021-05-25     Sjælland    M                18095   224   \n",
       "11  2021-05-25   Syddanmark    F                19073    99   \n",
       "12  2021-05-25   Syddanmark    M                19658   121   \n",
       "\n",
       "    Overstået infektion  Indlæggelser  Testede personer  \\\n",
       "0                 62773          3637            812652   \n",
       "1                 59442          3771            758304   \n",
       "2                 22764           990            549621   \n",
       "3                 22230          1216            522111   \n",
       "4                     0             0                23   \n",
       "5                   813            54             21798   \n",
       "6                  1868           130             38600   \n",
       "7                  8695           425            253434   \n",
       "8                  8872           521            246074   \n",
       "9                 18026          1166            338666   \n",
       "10                16845          1392            319290   \n",
       "11                18250           850            502012   \n",
       "12                18735           939            479956   \n",
       "\n",
       "    Ændring i antal bekræftede tilfælde  Ændring i antal døde  \\\n",
       "0                                   144                     1   \n",
       "1                                   153                     0   \n",
       "2                                    84                     0   \n",
       "3                                    86                     0   \n",
       "4                                     0                     0   \n",
       "5                                     3                     0   \n",
       "6                                     4                     0   \n",
       "7                                    61                     0   \n",
       "8                                    62                     0   \n",
       "9                                    50                     0   \n",
       "10                                   49                     0   \n",
       "11                                   46                     0   \n",
       "12                                   52                     0   \n",
       "\n",
       "    Ændring i antal overstået infektion  Ændring i antal indlagte  \\\n",
       "0                                   231                         9   \n",
       "1                                   231                         3   \n",
       "2                                   135                         0   \n",
       "3                                   148                         2   \n",
       "4                                     0                         0   \n",
       "5                                     4                         0   \n",
       "6                                     9                         0   \n",
       "7                                    28                         0   \n",
       "8                                    45                         2   \n",
       "9                                    81                         0   \n",
       "10                                  103                         3   \n",
       "11                                   53                         1   \n",
       "12                                   61                         2   \n",
       "\n",
       "    Ændring i antallet af testede personer  Antallet af prøver  \\\n",
       "0                                      312             6227088   \n",
       "1                                      373             4712555   \n",
       "2                                      249             3832043   \n",
       "3                                      323             2852530   \n",
       "4                                        0                  35   \n",
       "5                                       50               78762   \n",
       "6                                       83              136603   \n",
       "7                                       94             1906512   \n",
       "8                                      152             1420609   \n",
       "9                                      135             2481070   \n",
       "10                                     145             1816683   \n",
       "11                                     250             3705414   \n",
       "12                                     357             2853557   \n",
       "\n",
       "    Ændring i antallet af prøver  test_AG  test_AG_diff  \n",
       "0                          21859  3556674         66516  \n",
       "1                          18701  3300826         61784  \n",
       "2                          18601  2145796         39866  \n",
       "3                          14690  2037801         38648  \n",
       "4                              0        0             0  \n",
       "5                            242   107706          1920  \n",
       "6                            434   215907          3962  \n",
       "7                           8890   925757         17669  \n",
       "8                           7514   884718         17125  \n",
       "9                           8049  1394834         26529  \n",
       "10                          6880  1306803         24849  \n",
       "11                         17847  2189993         37705  \n",
       "12                         15452  1986995         34948  "
      ],
      "text/html": "<div>\n<style scoped>\n    .dataframe tbody tr th:only-of-type {\n        vertical-align: middle;\n    }\n\n    .dataframe tbody tr th {\n        vertical-align: top;\n    }\n\n    .dataframe thead th {\n        text-align: right;\n    }\n</style>\n<table border=\"1\" class=\"dataframe\">\n  <thead>\n    <tr style=\"text-align: right;\">\n      <th></th>\n      <th>Dato</th>\n      <th>Region</th>\n      <th>Køn</th>\n      <th>Bekræftede tilfælde</th>\n      <th>Døde</th>\n      <th>Overstået infektion</th>\n      <th>Indlæggelser</th>\n      <th>Testede personer</th>\n      <th>Ændring i antal bekræftede tilfælde</th>\n      <th>Ændring i antal døde</th>\n      <th>Ændring i antal overstået infektion</th>\n      <th>Ændring i antal indlagte</th>\n      <th>Ændring i antallet af testede personer</th>\n      <th>Antallet af prøver</th>\n      <th>Ændring i antallet af prøver</th>\n      <th>test_AG</th>\n      <th>test_AG_diff</th>\n    </tr>\n  </thead>\n  <tbody>\n    <tr>\n      <th>0</th>\n      <td>2021-05-25</td>\n      <td>Hovedstaden</td>\n      <td>F</td>\n      <td>66305</td>\n      <td>635</td>\n      <td>62773</td>\n      <td>3637</td>\n      <td>812652</td>\n      <td>144</td>\n      <td>1</td>\n      <td>231</td>\n      <td>9</td>\n      <td>312</td>\n      <td>6227088</td>\n      <td>21859</td>\n      <td>3556674</td>\n      <td>66516</td>\n    </tr>\n    <tr>\n      <th>1</th>\n      <td>2021-05-25</td>\n      <td>Hovedstaden</td>\n      <td>M</td>\n      <td>63291</td>\n      <td>699</td>\n      <td>59442</td>\n      <td>3771</td>\n      <td>758304</td>\n      <td>153</td>\n      <td>0</td>\n      <td>231</td>\n      <td>3</td>\n      <td>373</td>\n      <td>4712555</td>\n      <td>18701</td>\n      <td>3300826</td>\n      <td>61784</td>\n    </tr>\n    <tr>\n      <th>2</th>\n      <td>2021-05-25</td>\n      <td>Midtjylland</td>\n      <td>F</td>\n      <td>24048</td>\n      <td>156</td>\n      <td>22764</td>\n      <td>990</td>\n      <td>549621</td>\n      <td>84</td>\n      <td>0</td>\n      <td>135</td>\n      <td>0</td>\n      <td>249</td>\n      <td>3832043</td>\n      <td>18601</td>\n      <td>2145796</td>\n      <td>39866</td>\n    </tr>\n    <tr>\n      <th>3</th>\n      <td>2021-05-25</td>\n      <td>Midtjylland</td>\n      <td>M</td>\n      <td>23661</td>\n      <td>198</td>\n      <td>22230</td>\n      <td>1216</td>\n      <td>522111</td>\n      <td>86</td>\n      <td>0</td>\n      <td>148</td>\n      <td>2</td>\n      <td>323</td>\n      <td>2852530</td>\n      <td>14690</td>\n      <td>2037801</td>\n      <td>38648</td>\n    </tr>\n    <tr>\n      <th>4</th>\n      <td>2021-05-25</td>\n      <td>NaN</td>\n      <td>NaN</td>\n      <td>0</td>\n      <td>0</td>\n      <td>0</td>\n      <td>0</td>\n      <td>23</td>\n      <td>0</td>\n      <td>0</td>\n      <td>0</td>\n      <td>0</td>\n      <td>0</td>\n      <td>35</td>\n      <td>0</td>\n      <td>0</td>\n      <td>0</td>\n    </tr>\n    <tr>\n      <th>5</th>\n      <td>2021-05-25</td>\n      <td>NaN</td>\n      <td>F</td>\n      <td>846</td>\n      <td>5</td>\n      <td>813</td>\n      <td>54</td>\n      <td>21798</td>\n      <td>3</td>\n      <td>0</td>\n      <td>4</td>\n      <td>0</td>\n      <td>50</td>\n      <td>78762</td>\n      <td>242</td>\n      <td>107706</td>\n      <td>1920</td>\n    </tr>\n    <tr>\n      <th>6</th>\n      <td>2021-05-25</td>\n      <td>NaN</td>\n      <td>M</td>\n      <td>1940</td>\n      <td>7</td>\n      <td>1868</td>\n      <td>130</td>\n      <td>38600</td>\n      <td>4</td>\n      <td>0</td>\n      <td>9</td>\n      <td>0</td>\n      <td>83</td>\n      <td>136603</td>\n      <td>434</td>\n      <td>215907</td>\n      <td>3962</td>\n    </tr>\n    <tr>\n      <th>7</th>\n      <td>2021-05-25</td>\n      <td>Nordjylland</td>\n      <td>F</td>\n      <td>9437</td>\n      <td>73</td>\n      <td>8695</td>\n      <td>425</td>\n      <td>253434</td>\n      <td>61</td>\n      <td>0</td>\n      <td>28</td>\n      <td>0</td>\n      <td>94</td>\n      <td>1906512</td>\n      <td>8890</td>\n      <td>925757</td>\n      <td>17669</td>\n    </tr>\n    <tr>\n      <th>8</th>\n      <td>2021-05-25</td>\n      <td>Nordjylland</td>\n      <td>M</td>\n      <td>9757</td>\n      <td>112</td>\n      <td>8872</td>\n      <td>521</td>\n      <td>246074</td>\n      <td>62</td>\n      <td>0</td>\n      <td>45</td>\n      <td>2</td>\n      <td>152</td>\n      <td>1420609</td>\n      <td>7514</td>\n      <td>884718</td>\n      <td>17125</td>\n    </tr>\n    <tr>\n      <th>9</th>\n      <td>2021-05-25</td>\n      <td>Sjælland</td>\n      <td>F</td>\n      <td>19096</td>\n      <td>181</td>\n      <td>18026</td>\n      <td>1166</td>\n      <td>338666</td>\n      <td>50</td>\n      <td>0</td>\n      <td>81</td>\n      <td>0</td>\n      <td>135</td>\n      <td>2481070</td>\n      <td>8049</td>\n      <td>1394834</td>\n      <td>26529</td>\n    </tr>\n    <tr>\n      <th>10</th>\n      <td>2021-05-25</td>\n      <td>Sjælland</td>\n      <td>M</td>\n      <td>18095</td>\n      <td>224</td>\n      <td>16845</td>\n      <td>1392</td>\n      <td>319290</td>\n      <td>49</td>\n      <td>0</td>\n      <td>103</td>\n      <td>3</td>\n      <td>145</td>\n      <td>1816683</td>\n      <td>6880</td>\n      <td>1306803</td>\n      <td>24849</td>\n    </tr>\n    <tr>\n      <th>11</th>\n      <td>2021-05-25</td>\n      <td>Syddanmark</td>\n      <td>F</td>\n      <td>19073</td>\n      <td>99</td>\n      <td>18250</td>\n      <td>850</td>\n      <td>502012</td>\n      <td>46</td>\n      <td>0</td>\n      <td>53</td>\n      <td>1</td>\n      <td>250</td>\n      <td>3705414</td>\n      <td>17847</td>\n      <td>2189993</td>\n      <td>37705</td>\n    </tr>\n    <tr>\n      <th>12</th>\n      <td>2021-05-25</td>\n      <td>Syddanmark</td>\n      <td>M</td>\n      <td>19658</td>\n      <td>121</td>\n      <td>18735</td>\n      <td>939</td>\n      <td>479956</td>\n      <td>52</td>\n      <td>0</td>\n      <td>61</td>\n      <td>2</td>\n      <td>357</td>\n      <td>2853557</td>\n      <td>15452</td>\n      <td>1986995</td>\n      <td>34948</td>\n    </tr>\n  </tbody>\n</table>\n</div>"
     },
     "metadata": {},
     "execution_count": 25
    }
   ],
   "source": [
    "df = pd.read_csv(latestdir+'/01_noegle_tal.csv',delimiter = ';',encoding='latin-1') \n",
    "print(df['Overstået infektion'].sum())\n",
    "print(df['Bekræftede tilfælde'].sum())\n",
    "df"
   ]
  },
  {
   "source": [
    "# Go through each days nøgletal\n"
   ],
   "cell_type": "markdown",
   "metadata": {}
  },
  {
   "cell_type": "code",
   "execution_count": 26,
   "metadata": {},
   "outputs": [],
   "source": [
    "# Collect the cases, tests and positive percentage from all the \"cases by age\" files\n",
    "# dfCase = pd.DataFrame()\n",
    "# dfDone = pd.DataFrame()\n",
    "collectdf = pd.DataFrame(columns=['Date','Case','Done','Dead','Admitted'])\n",
    "\n",
    "ssidatapath = \"ssi_dashboard\"\n",
    "rootdir = os.getcwd() +\"/\" + ssidatapath\n",
    "\n",
    "counter = 0\n",
    "\n",
    "for subdir, dirs, files in os.walk(rootdir):\n",
    "    if not len(files) == 0:\n",
    "        latestdir = subdir\n",
    "        linkIni = latestdir.find('SSI_dashboard_')\n",
    "        latestDate = latestdir[linkIni+14:linkIni+24]\n",
    "\n",
    "        # print(latestdir)\n",
    "        if (latestdir.find('Regionalt') != -1):\n",
    "            # print(latestdir)\n",
    "\n",
    "            curdf = pd.read_csv(latestdir+'/01_noegle_tal.csv',delimiter = ';',encoding='latin-1')\n",
    "\n",
    "            curDate = latestDate\n",
    "            curCase = curdf['Bekræftede tilfælde'].sum()\n",
    "            curDone = curdf['Overstået infektion'].sum()\n",
    "            curDead = curdf['Døde'].sum()\n",
    "            curAdmi = curdf['Indlæggelser'].sum()\n",
    "\n",
    "            collectdf.loc[counter] = {'Date': curDate,'Case':curCase,'Done':curDone,'Dead':curDead,'Admitted':curAdmi}\n",
    "\n",
    "\n",
    "            counter += 1\n",
    "\n",
    "            # dfCase.loc[latestDate] = curdf['Bekræftede tilfælde'].sum()\n",
    "            # dfDone.loc[latestDate] = curdf['Overstået infektion'].sum()\n",
    "#         curdf['Antal_bekræftede_COVID-19'] = pd.to_numeric(curdf['Antal_bekræftede_COVID-19'].astype(str).apply(lambda x: x.replace('.','')))\n",
    "#         curdf['Antal_testede'] = pd.to_numeric(curdf['Antal_testede'].astype(str).apply(lambda x: x.replace('.','')))\n",
    "#         curdf['Procent_positive'] = pd.to_numeric(curdf['Procent_positive'].astype(str).apply(lambda x: x.replace(',','.')))\n",
    "        \n",
    "        \n",
    "#         dfCase.loc[latestDate] = curdf['Antal_bekræftede_COVID-19'].values\n",
    "#         dfTest.loc[latestDate] = curdf['Antal_testede'].values\n",
    "#         dfPosP.loc[latestDate] = curdf['Procent_positive'].values\n",
    "\n",
    "# allDates = dfCase.index\n"
   ]
  },
  {
   "cell_type": "code",
   "execution_count": 27,
   "metadata": {},
   "outputs": [
    {
     "output_type": "execute_result",
     "data": {
      "text/plain": [
       "          Date    Case    Done  Dead Admitted\n",
       "47  2021-05-18  268255  252686  2503    14894\n",
       "48  2021-05-19  269343  253678  2505    14920\n",
       "49  2021-05-20  270557  254739  2506    14955\n",
       "50  2021-05-21  271908  255624  2506    14980\n",
       "51  2021-05-25  275207  259313  2510    15091"
      ],
      "text/html": "<div>\n<style scoped>\n    .dataframe tbody tr th:only-of-type {\n        vertical-align: middle;\n    }\n\n    .dataframe tbody tr th {\n        vertical-align: top;\n    }\n\n    .dataframe thead th {\n        text-align: right;\n    }\n</style>\n<table border=\"1\" class=\"dataframe\">\n  <thead>\n    <tr style=\"text-align: right;\">\n      <th></th>\n      <th>Date</th>\n      <th>Case</th>\n      <th>Done</th>\n      <th>Dead</th>\n      <th>Admitted</th>\n    </tr>\n  </thead>\n  <tbody>\n    <tr>\n      <th>47</th>\n      <td>2021-05-18</td>\n      <td>268255</td>\n      <td>252686</td>\n      <td>2503</td>\n      <td>14894</td>\n    </tr>\n    <tr>\n      <th>48</th>\n      <td>2021-05-19</td>\n      <td>269343</td>\n      <td>253678</td>\n      <td>2505</td>\n      <td>14920</td>\n    </tr>\n    <tr>\n      <th>49</th>\n      <td>2021-05-20</td>\n      <td>270557</td>\n      <td>254739</td>\n      <td>2506</td>\n      <td>14955</td>\n    </tr>\n    <tr>\n      <th>50</th>\n      <td>2021-05-21</td>\n      <td>271908</td>\n      <td>255624</td>\n      <td>2506</td>\n      <td>14980</td>\n    </tr>\n    <tr>\n      <th>51</th>\n      <td>2021-05-25</td>\n      <td>275207</td>\n      <td>259313</td>\n      <td>2510</td>\n      <td>15091</td>\n    </tr>\n  </tbody>\n</table>\n</div>"
     },
     "metadata": {},
     "execution_count": 27
    }
   ],
   "source": [
    "collectdf.tail()"
   ]
  },
  {
   "cell_type": "code",
   "execution_count": 28,
   "metadata": {},
   "outputs": [],
   "source": [
    "collectdf.Date = collectdf.Date.astype('datetime64[D]')"
   ]
  },
  {
   "cell_type": "code",
   "execution_count": 29,
   "metadata": {},
   "outputs": [
    {
     "output_type": "display_data",
     "data": {
      "text/plain": "Canvas(toolbar=Toolbar(toolitems=[('Home', 'Reset original view', 'home', 'home'), ('Back', 'Back to previous …",
      "application/vnd.jupyter.widget-view+json": {
       "version_major": 2,
       "version_minor": 0,
       "model_id": "fe70867f395645d2aae7a8a2976ed7d7"
      }
     },
     "metadata": {}
    }
   ],
   "source": [
    "fig,(ax1,ax2,ax3) = plt.subplots(3,1,figsize=(12,18))\n",
    "\n",
    "diffDate = collectdf.Date[:-1]\n",
    "\n",
    "\n",
    "ax1.plot(collectdf.Date,collectdf.Case,'*-')\n",
    "ax1.plot(collectdf.Date,collectdf.Done,'*-')\n",
    "\n",
    "\n",
    "ax2.plot(collectdf.Date,collectdf.Case-collectdf.Done)\n",
    "ax2.plot(collectdf.Date,collectdf.Case-collectdf.Done-collectdf.Dead,'r')\n",
    "\n",
    "\n",
    "\n",
    "ax3.plot(diffDate,collectdf.Case.diff()[1:],'b.:',markersize=3,linewidth=0.5)\n",
    "ax3.plot(diffDate,collectdf.Done.diff()[1:],'r.:',markersize=3,linewidth=0.5)\n",
    "\n",
    "meanWidth = 7\n",
    "ax3.plot(rnTime(diffDate,meanWidth),rnMean(collectdf.Case.diff()[1:],meanWidth),'b')\n",
    "ax3.plot(rnTime(diffDate,meanWidth),rnMean(collectdf.Done.diff()[1:],meanWidth),'r')\n",
    "\n",
    "ax2.set_ylim(bottom=0)\n",
    "\n",
    "ax1.grid()\n",
    "ax2.grid()\n",
    "ax3.grid()\n",
    "\n",
    "plt.tight_layout()"
   ]
  },
  {
   "cell_type": "code",
   "execution_count": 30,
   "metadata": {},
   "outputs": [
    {
     "output_type": "display_data",
     "data": {
      "text/plain": "Canvas(toolbar=Toolbar(toolitems=[('Home', 'Reset original view', 'home', 'home'), ('Back', 'Back to previous …",
      "application/vnd.jupyter.widget-view+json": {
       "version_major": 2,
       "version_minor": 0,
       "model_id": "d306bcd4313147f78f3e6bfe21967522"
      }
     },
     "metadata": {}
    },
    {
     "output_type": "execute_result",
     "data": {
      "text/plain": [
       "(0.0, 9.45)"
      ]
     },
     "metadata": {},
     "execution_count": 30
    }
   ],
   "source": [
    "fig,(ax1,ax2) = plt.subplots(2,1)\n",
    "\n",
    "\n",
    "ax1.plot(diffDate,collectdf.Admitted.diff()[1:])\n",
    "\n",
    "\n",
    "ax2.plot(diffDate,collectdf.Dead.diff()[1:])\n",
    "\n",
    "ax1.set_ylim(bottom=0)\n",
    "ax2.set_ylim(bottom=0)"
   ]
  }
 ]
}