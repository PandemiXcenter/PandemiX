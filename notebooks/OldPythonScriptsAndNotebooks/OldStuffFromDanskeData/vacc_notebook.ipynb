{
 "cells": [
  {
   "cell_type": "code",
   "execution_count": 1,
   "metadata": {},
   "outputs": [
    {
     "name": "stdout",
     "output_type": "stream",
     "text": [
      "saveFigures is set to: True\n",
      "Done loading packages\n"
     ]
    }
   ],
   "source": [
    "# Notebook til at undersøge vaccinationsdata\n",
    "import numpy as np\n",
    "import pandas as pd\n",
    "pd.set_option('display.max_rows', 500)\n",
    "pd.set_option('display.min_rows', 50)\n",
    "\n",
    "\n",
    "import matplotlib.pyplot as plt\n",
    "%matplotlib widget\n",
    "plt.rcParams['figure.figsize'] = (12,8)\n",
    "plt.rcParams[\"image.cmap\"] = \"tab10\"\n",
    "plt.rcParams['axes.prop_cycle'] = plt.cycler(color=plt.cm.tab10.colors)\n",
    "fs_label = 16\n",
    "parameters = {\n",
    "                'axes.labelsize': fs_label,\n",
    "                'axes.titlesize': fs_label+4,\n",
    "                'xtick.labelsize': fs_label,\n",
    "                'ytick.labelsize': fs_label, \n",
    "                'legend.fontsize': fs_label, \n",
    "                'lines.markersize': 10,\n",
    "                'lines.linewidth': 3\n",
    "             }\n",
    "plt.rcParams.update(parameters)\n",
    "%matplotlib widget\n",
    "import matplotlib.colors as colors\n",
    "from matplotlib import cm # Colormaps\n",
    "\n",
    "cmap = cm.get_cmap('Dark2',7)\n",
    "\n",
    "import locale\n",
    "import matplotlib.dates as mdates\n",
    "locale.setlocale(locale.LC_TIME,\"Danish\")\n",
    "# ax = plt.gca()\n",
    "# ax1.xaxis.set_major_formatter(mdates.DateFormatter('%b\\n%Y'))\n",
    "# # ax.xaxis.set_major_formatter(mdates.DateFormatter('%Y \\n %B'))\n",
    "\n",
    "\n",
    "import os\n",
    "import math\n",
    "\n",
    "from datetime import date\n",
    "import datetime\n",
    "\n",
    "saveFigures = True\n",
    "print('saveFigures is set to: '+str(saveFigures))\n",
    "print('Done loading packages')\n",
    "\n",
    "def rnMean(data,meanWidth):\n",
    "    return np.convolve(data, np.ones(meanWidth)/meanWidth, mode='valid')\n",
    "def rnTime(t,meanWidth):\n",
    "    return t[math.floor(meanWidth/2):-math.ceil(meanWidth/2)+1]\n",
    "def rnTime2(t,meanWidth):\n",
    "    return t[meanWidth-1:]\n"
   ]
  },
  {
   "cell_type": "code",
   "execution_count": 2,
   "metadata": {},
   "outputs": [
    {
     "name": "stdout",
     "output_type": "stream",
     "text": [
      "c:\\Users\\rakrpe\\Documents\\PandemiX\\GithubRepos\\PandemiX\\DanskeData\\ssi_vacc\\SSI_vacc_2021-11-09\n",
      "2021-11-09 00:00:00\n"
     ]
    }
   ],
   "source": [
    "ssidatapath = \"ssi_vacc\"\n",
    "rootdir = os.getcwd() +\"\\\\\" + ssidatapath\n",
    "\n",
    "\n",
    "# for subdir, dirs, files in os.walk(rootdir):\n",
    "# #     # if not len(dirs) == 0:\n",
    "# #     #     latestdir = subdir\n",
    "# #     #     latestDate = pd.to_datetime(subdir[-10:])\n",
    "#     # print(files)\n",
    "#     # print(dirs[-1])\n",
    "\n",
    "for f in os.scandir(rootdir):\n",
    "    curPath = f.path\n",
    "    latestdir = curPath\n",
    "    latestDate = pd.to_datetime(curPath[-10:])\n",
    "# print([f.path for f in os.scandir(rootdir)])\n",
    "\n",
    "# # print(os.walk(rootdir))\n",
    "# print(latestdir)\n",
    "# print(latestDate)\n",
    "\n",
    "# # latestdir = rootdir+ '\\\\SSI_data_2021-05-25'\n",
    "# # latestDate = pd.to_datetime(latestdir[-10:])\n",
    "\n",
    "print(latestdir)\n",
    "print(latestDate)"
   ]
  },
  {
   "cell_type": "code",
   "execution_count": 3,
   "metadata": {},
   "outputs": [],
   "source": [
    "\n",
    "filename = 'Vaccinerede_pr_uge_pr_maalgruppe.csv'\n",
    "# filename = 'Noegletal_vacc_daekning.csv'\n",
    "# curPath = \"D:/Pandemix/Github/DanskeData/ssi_vacc/SSI_vacc_2021-05-25/Vaccine_maalgrupper_DB/\" + filename\n",
    "curPath = latestdir+\"/Vaccine_maalgrupper_DB/\" + filename\n",
    "# latestdir+'\\\\Vaccine_maalgrupper_DB\\\\Noegletal_vacc_daekning.csv'\n",
    "\n",
    "filename = 'PaabegVacc_daek_DK_prdag.csv'\n",
    "# curPath = \"D:/Pandemix/Github/DanskeData/ssi_vacc/SSI_vacc_2021-05-25/Vaccine_DB/\" + filename\n",
    "curPath = latestdir+\"/Vaccine_DB/\" + filename\n",
    "\n",
    "\n",
    "# df = pd.read_csv(curPath,delimiter = ',',dtype=str,encoding='latin-1')\n",
    "df = pd.read_csv(curPath,delimiter = ';',dtype=str,encoding='latin-1')\n",
    "\n",
    "\n",
    "filename = 'FaerdigVacc_daekning_DK_prdag.csv'\n",
    "curPath = latestdir+\"/Vaccine_DB/\" + filename\n",
    "\n",
    "df_full = pd.read_csv(curPath,delimiter = ';',dtype=str,encoding='latin-1')"
   ]
  },
  {
   "cell_type": "code",
   "execution_count": 4,
   "metadata": {},
   "outputs": [
    {
     "data": {
      "text/html": [
       "<div>\n",
       "<style scoped>\n",
       "    .dataframe tbody tr th:only-of-type {\n",
       "        vertical-align: middle;\n",
       "    }\n",
       "\n",
       "    .dataframe tbody tr th {\n",
       "        vertical-align: top;\n",
       "    }\n",
       "\n",
       "    .dataframe thead th {\n",
       "        text-align: right;\n",
       "    }\n",
       "</style>\n",
       "<table border=\"1\" class=\"dataframe\">\n",
       "  <thead>\n",
       "    <tr style=\"text-align: right;\">\n",
       "      <th></th>\n",
       "      <th>Vaccinedato</th>\n",
       "      <th>geo</th>\n",
       "      <th>Antal færdigvacc. personer</th>\n",
       "      <th>Antal borgere</th>\n",
       "      <th>Færdigvacc. (%)</th>\n",
       "      <th>Kumuleret antal færdigvacc.</th>\n",
       "    </tr>\n",
       "  </thead>\n",
       "  <tbody>\n",
       "    <tr>\n",
       "      <th>301</th>\n",
       "      <td>2021-11-04</td>\n",
       "      <td>Nationalt</td>\n",
       "      <td>1137</td>\n",
       "      <td>5870501</td>\n",
       "      <td>75.2</td>\n",
       "      <td>4416777</td>\n",
       "    </tr>\n",
       "    <tr>\n",
       "      <th>302</th>\n",
       "      <td>2021-11-05</td>\n",
       "      <td>Nationalt</td>\n",
       "      <td>1410</td>\n",
       "      <td>5870501</td>\n",
       "      <td>75.3</td>\n",
       "      <td>4418187</td>\n",
       "    </tr>\n",
       "    <tr>\n",
       "      <th>303</th>\n",
       "      <td>2021-11-06</td>\n",
       "      <td>Nationalt</td>\n",
       "      <td>844</td>\n",
       "      <td>5870501</td>\n",
       "      <td>75.3</td>\n",
       "      <td>4419031</td>\n",
       "    </tr>\n",
       "    <tr>\n",
       "      <th>304</th>\n",
       "      <td>2021-11-07</td>\n",
       "      <td>Nationalt</td>\n",
       "      <td>429</td>\n",
       "      <td>5870501</td>\n",
       "      <td>75.3</td>\n",
       "      <td>4419460</td>\n",
       "    </tr>\n",
       "    <tr>\n",
       "      <th>305</th>\n",
       "      <td>2021-11-08</td>\n",
       "      <td>Nationalt</td>\n",
       "      <td>1238</td>\n",
       "      <td>5870501</td>\n",
       "      <td>75.3</td>\n",
       "      <td>4420698</td>\n",
       "    </tr>\n",
       "  </tbody>\n",
       "</table>\n",
       "</div>"
      ],
      "text/plain": [
       "    Vaccinedato        geo Antal færdigvacc. personer Antal borgere  \\\n",
       "301  2021-11-04  Nationalt                       1137       5870501   \n",
       "302  2021-11-05  Nationalt                       1410       5870501   \n",
       "303  2021-11-06  Nationalt                        844       5870501   \n",
       "304  2021-11-07  Nationalt                        429       5870501   \n",
       "305  2021-11-08  Nationalt                       1238       5870501   \n",
       "\n",
       "    Færdigvacc. (%) Kumuleret antal færdigvacc.  \n",
       "301            75.2                     4416777  \n",
       "302            75.3                     4418187  \n",
       "303            75.3                     4419031  \n",
       "304            75.3                     4419460  \n",
       "305            75.3                     4420698  "
      ]
     },
     "execution_count": 4,
     "metadata": {},
     "output_type": "execute_result"
    }
   ],
   "source": [
    "df.tail()\n",
    "df_full.tail() \n"
   ]
  },
  {
   "cell_type": "code",
   "execution_count": 5,
   "metadata": {},
   "outputs": [],
   "source": [
    "# newVaccPerDay = df['Kumuleret antal påbegyndt vacc.'].astype(int).diff()\n",
    "newVaccPerDay = df['Antal påbegyndt vacc. personer'].astype(int)\n",
    "fullVaccPerDay = df_full['Antal færdigvacc. personer'].astype(int)\n",
    "\n",
    "\n",
    "# newVaccPerDayCumSum = np.cumsum(newVaccPerDay)\n",
    "newVaccCumu = df['Kumuleret antal påbegyndt vacc.'].astype(int)\n",
    "fullVaccCumu = df_full['Kumuleret antal færdigvacc.'].astype(int)\n",
    "\n",
    "curDates =  pd.to_datetime(df.Vaccinedato,format='%Y-%m-%d')\n",
    "curDatesFull =  pd.to_datetime(df_full.Vaccinedato,format='%Y-%m-%d')"
   ]
  },
  {
   "cell_type": "code",
   "execution_count": 6,
   "metadata": {},
   "outputs": [],
   "source": [
    "# Add zeroes to full vaccinated\n",
    "\n",
    "lenDiff = len(newVaccPerDay) - len(fullVaccPerDay)\n",
    "fullVaccPerDay = np.insert(fullVaccPerDay.values,0,np.zeros((lenDiff,)))\n",
    "fullVaccCumu = np.insert(fullVaccCumu.values,0,np.zeros((lenDiff,)))"
   ]
  },
  {
   "cell_type": "code",
   "execution_count": 7,
   "metadata": {},
   "outputs": [
    {
     "data": {
      "application/vnd.jupyter.widget-view+json": {
       "model_id": "458c2b287844485d8b4ae21f788e87f6",
       "version_major": 2,
       "version_minor": 0
      },
      "text/plain": [
       "Canvas(toolbar=Toolbar(toolitems=[('Home', 'Reset original view', 'home', 'home'), ('Back', 'Back to previous …"
      ]
     },
     "metadata": {},
     "output_type": "display_data"
    }
   ],
   "source": [
    "plt.figure()\n",
    "\n",
    "# plt.plot(curDates,newVaccPerDay)\n",
    "plt.plot(curDates,100 * newVaccPerDay/5846864,'k.:',linewidth=0.5)\n",
    "plt.plot(curDates,100 * fullVaccPerDay/5846864,'b.:',linewidth=0.5)\n",
    "meanWidth = 7\n",
    "plt.plot(rnTime(curDates,meanWidth),rnMean(100 * newVaccPerDay/5846864,meanWidth),'k',label='Påbegyndte vaccinationer')\n",
    "plt.plot(rnTime(curDates,meanWidth),rnMean(100 * fullVaccPerDay/5846864,meanWidth),'b',label='Færdiggjorte vaccinationer')\n",
    "plt.ylabel('Andel af danmarks samlede befolkning [%]')\n",
    "plt.ylim(bottom=0)\n",
    "plt.legend()\n",
    "plt.grid()\n",
    "ax1 = plt.gca()\n",
    "ax1.xaxis.set_major_formatter(mdates.DateFormatter('%b\\n%Y'))\n",
    "plt.tight_layout()"
   ]
  },
  {
   "cell_type": "code",
   "execution_count": 8,
   "metadata": {},
   "outputs": [
    {
     "data": {
      "application/vnd.jupyter.widget-view+json": {
       "model_id": "8a1d4f0bd97a4e56b3662b771ccf1826",
       "version_major": 2,
       "version_minor": 0
      },
      "text/plain": [
       "Canvas(toolbar=Toolbar(toolitems=[('Home', 'Reset original view', 'home', 'home'), ('Back', 'Back to previous …"
      ]
     },
     "metadata": {},
     "output_type": "display_data"
    }
   ],
   "source": [
    "fig,(ax1,ax2) = plt.subplots(2,1,sharex=True)\n",
    "\n",
    "# plt.plot(curDates,newVaccPerDay)\n",
    "ax1.plot(curDates,newVaccPerDay,'k.:',linewidth=0.5)\n",
    "ax2.plot(curDates,fullVaccPerDay,'b.:',linewidth=0.5)\n",
    "meanWidth = 7\n",
    "ax1.plot(rnTime(curDates,meanWidth),rnMean(newVaccPerDay,meanWidth),'k',label='Påbegyndte vaccinationer')\n",
    "ax2.plot(rnTime(curDates,meanWidth),rnMean(fullVaccPerDay,meanWidth),'b',label='Færdiggjorte vaccinationer')\n",
    "ax1.set_ylabel('Påbegyndte vaccinationer')\n",
    "ax2.set_ylabel('Færdiggjorte vaccinationer')\n",
    "ax1.set_ylim([0,100000])\n",
    "ax2.set_ylim([0,100000])\n",
    "# plt.legend()\n",
    "ax2.grid()\n",
    "ax1.grid()\n",
    "ax1.xaxis.set_major_formatter(mdates.DateFormatter('%b\\n%Y'))\n",
    "plt.tight_layout()\n",
    "\n",
    "if saveFigures:\n",
    "    plt.savefig('figsVacc/NumVaccTotal')"
   ]
  },
  {
   "cell_type": "code",
   "execution_count": 9,
   "metadata": {},
   "outputs": [
    {
     "data": {
      "application/vnd.jupyter.widget-view+json": {
       "model_id": "6e7df4d5cc2e4b06b6528896f78a1b83",
       "version_major": 2,
       "version_minor": 0
      },
      "text/plain": [
       "Canvas(toolbar=Toolbar(toolitems=[('Home', 'Reset original view', 'home', 'home'), ('Back', 'Back to previous …"
      ]
     },
     "metadata": {},
     "output_type": "display_data"
    }
   ],
   "source": [
    "fig,(ax1,ax2) = plt.subplots(2,1,sharex=True)\n",
    "\n",
    "# plt.plot(curDates,newVaccPerDay)\n",
    "ax1.plot(curDates,100 * newVaccPerDay/5851099,'k.:',linewidth=0.5)\n",
    "ax2.plot(curDates,100 * fullVaccPerDay/5851099,'b.:',linewidth=0.5)\n",
    "meanWidth = 7\n",
    "ax1.plot(rnTime(curDates,meanWidth),rnMean(100 * newVaccPerDay/5851099,meanWidth),'k',label='Påbegyndte vaccinationer')\n",
    "ax2.plot(rnTime(curDates,meanWidth),rnMean(100 * fullVaccPerDay/5851099,meanWidth),'b',label='Færdiggjorte vaccinationer')\n",
    "ax1.set_ylabel('Påbegyndte vaccinationer \\n af DK befolkning [%]')\n",
    "ax2.set_ylabel('Færdiggjorte vaccinationer \\n af DK befolkning [%]')\n",
    "ax1.set_ylim([0,2])\n",
    "ax2.set_ylim([0,2])\n",
    "# plt.legend()\n",
    "ax2.grid()\n",
    "ax1.grid()\n",
    "ax1.xaxis.set_major_formatter(mdates.DateFormatter('%b\\n%Y'))\n",
    "plt.tight_layout()\n",
    "\n",
    "if saveFigures:\n",
    "    plt.savefig('figsVacc/NumVaccTotalNorm')"
   ]
  },
  {
   "cell_type": "code",
   "execution_count": 10,
   "metadata": {},
   "outputs": [
    {
     "data": {
      "application/vnd.jupyter.widget-view+json": {
       "model_id": "d4cfb40f8dc24d71aeb7d0292dc74a84",
       "version_major": 2,
       "version_minor": 0
      },
      "text/plain": [
       "Canvas(toolbar=Toolbar(toolitems=[('Home', 'Reset original view', 'home', 'home'), ('Back', 'Back to previous …"
      ]
     },
     "metadata": {},
     "output_type": "display_data"
    }
   ],
   "source": [
    "fig,ax1 = plt.subplots()\n",
    "\n",
    "newVaccCumuPop = 100 * newVaccCumu/5851099\n",
    "fullVaccCumuPop = 100 * fullVaccCumu/5851099\n",
    "\n",
    "# plt.plot(curDates,newVaccCumuPop,'k',linewidth=3)\n",
    "# plt.plot(curDates,fullVaccCumuPop,'b',linewidth=3)\n",
    "\n",
    "ax1.fill_between(curDates,newVaccCumuPop,color='k',zorder=3,label='Påbegyndt')\n",
    "ax1.fill_between(curDates,fullVaccCumuPop,color='b',zorder=3,label='Færdiggjort')\n",
    "\n",
    "\n",
    "# Draw weekends\n",
    "firstSunday = np.datetime64('2021-01-03')\n",
    "\n",
    "numWeeks = 52\n",
    "\n",
    "# curYlim = ax1.get_ylim()\n",
    "# ax1.vlines([np.datetime64('2021-06-24'),np.datetime64('2021-06-25')],curYlim[0],curYlim[1])\n",
    "for k in range(0,numWeeks):\n",
    "    curSunday = firstSunday + np.timedelta64(7*k,'D')\n",
    "    ax1.axvspan(curSunday-np.timedelta64(1,'D')-np.timedelta64(12,'h'),curSunday+np.timedelta64(12,'h'),facecolor='lightgrey')\n",
    "\n",
    "ax1.axvspan(curSunday-np.timedelta64(1,'D')-np.timedelta64(12,'h'),curSunday+np.timedelta64(12,'h'),facecolor='lightgrey',label='Weekend')\n",
    "\n",
    "ax1.legend(loc='upper left')\n",
    "\n",
    "\n",
    "ax1.spines[\"right\"].set_visible(False)\n",
    "ax1.spines[\"top\"].set_visible(False)\n",
    "ax1.set_ylabel('Andel af danmarks samlede befolkning [%]')\n",
    "ax1.set_ylim(bottom=0,top=100)\n",
    "# ax1.legend()\n",
    "ax1.grid(axis='y',zorder=0)\n",
    "ax1.xaxis.set_major_formatter(mdates.DateFormatter('%b\\n%Y'))\n",
    "\n",
    "ax1.set_xlim(left=np.datetime64('2021-01-01'),right=np.datetime64('2021-10-10'))\n",
    "plt.tight_layout()"
   ]
  },
  {
   "cell_type": "code",
   "execution_count": 11,
   "metadata": {},
   "outputs": [],
   "source": [
    "filename = 'Vaccinerede_pr_uge_pr_maalgruppe.csv'\n",
    "curPath = latestdir+\"/Vaccine_maalgrupper_DB/\" + filename\n",
    "\n",
    "df_weekly = pd.read_csv(curPath,delimiter = ';',dtype=str,encoding='latin-1')"
   ]
  },
  {
   "cell_type": "code",
   "execution_count": 12,
   "metadata": {},
   "outputs": [],
   "source": [
    "# df_weekly.tail()\n",
    "# Drop the three extra empty rows are the top\n",
    "df_weekly.drop([0,1,2],axis=0,inplace=True)\n",
    "# df_weekly.drop([0,1,2],axis=0,inplace=True)\n"
   ]
  },
  {
   "cell_type": "code",
   "execution_count": 13,
   "metadata": {},
   "outputs": [],
   "source": [
    "allDates = df_weekly.Ugenummer\n",
    "# d = \"2021-W29\"\n",
    "# r = datetime.datetime.strptime(d + '-1', \"%Y-W%W-%w\")\n",
    "# np.datetime64(r)\n",
    "\n",
    "curWeekDays = df_weekly.Ugenummer.apply(lambda x: np.datetime64(datetime.datetime.strptime(x + '-1', \"%Y-W%W-%w\")))\n",
    "\n",
    "allVaccOnce = pd.to_numeric(df_weekly['Dækning førstegangsvaccinerede (kumulativt i %)'])\n",
    "allVaccFull = pd.to_numeric(df_weekly['Dækning færdigvaccinerede (kumulativt i %)'])\n",
    "\n"
   ]
  },
  {
   "cell_type": "code",
   "execution_count": 14,
   "metadata": {},
   "outputs": [
    {
     "data": {
      "text/plain": [
       "array(['1. Plejehjemsbeboere', '11. Personer fra årgang 2006-2009',\n",
       "       '2. Borgere > 65, praktisk hjælp og personlig pleje',\n",
       "       '3. Borgere fra årgang 1936 og derunder (85 år og ældre)',\n",
       "       '4. Personale i sundhedsvæsenet og dele af socialvæsenet',\n",
       "       '5. Udvalgte patienter med særligt øget risiko',\n",
       "       '6. Udvalgte pårørende til personer med særligt øget risiko',\n",
       "       '7. Personer fra årgang 1937-1941',\n",
       "       '8. Personer fra årgang 1942-1946',\n",
       "       '9. Personer fra årgang 1947-1956',\n",
       "       '10A. Personer fra årgang 1957-1961',\n",
       "       '10B. Personer fra årgang 1962-1966',\n",
       "       '10C. Personer fra årgang 1967-1971',\n",
       "       '10D1. Personer fra årgang 1972-1976 og årgang 2002-2005',\n",
       "       '10D2. Personer fra årgang 1977-1981 og årgang 1997-2001',\n",
       "       '10D3. Personer fra årgang 1982-1986 og årgang 1992-1996',\n",
       "       '10D4. Personer fra årgang 1987-1991', 'Resterende'], dtype=object)"
      ]
     },
     "execution_count": 14,
     "metadata": {},
     "output_type": "execute_result"
    }
   ],
   "source": [
    "allGroups = df_weekly['Målgruppe'].unique()\n",
    "\n",
    "# Move groups around to have correct order\n",
    "allGroups.sort()\n",
    "allGroups = np.roll(allGroups,-8)\n",
    "allGroups = np.insert(allGroups,0,allGroups[-8])\n",
    "allGroups = np.delete(allGroups,-8)\n",
    "allGroups = np.append(allGroups,allGroups[-8])\n",
    "allGroups = np.delete(allGroups,-9)\n",
    "allGroups"
   ]
  },
  {
   "cell_type": "code",
   "execution_count": 15,
   "metadata": {},
   "outputs": [],
   "source": [
    "# df_weekly\n",
    "# len(df_weekly[df_weekly['Målgruppe'] == allGroups[-1]])\n"
   ]
  },
  {
   "cell_type": "code",
   "execution_count": null,
   "metadata": {},
   "outputs": [],
   "source": []
  },
  {
   "cell_type": "code",
   "execution_count": 16,
   "metadata": {},
   "outputs": [],
   "source": [
    "# Hard-coded fix of the missing data-points\n",
    "group5Len = len(df_weekly[df_weekly['Målgruppe'] == allGroups[5]])\n",
    "otherGroupLen = len(df_weekly[df_weekly['Målgruppe'] == allGroups[2]])\n",
    "if (group5Len == otherGroupLen - 3):\n",
    "\n",
    "    rowToCopy = df_weekly.loc[57]\n",
    "    toAdd1 = rowToCopy.copy()\n",
    "    toAdd2 = rowToCopy.copy()\n",
    "    toAdd3 = rowToCopy.copy()\n",
    "    toAdd1.Ugenummer = '2021-W03'\n",
    "    toAdd2.Ugenummer = '2021-W04'\n",
    "    toAdd3.Ugenummer = '2021-W06'\n",
    "\n",
    "    df_weekly = df_weekly.append(toAdd1)\n",
    "    df_weekly = df_weekly.append(toAdd2)\n",
    "    df_weekly = df_weekly.append(toAdd3)\n",
    "    \n",
    "\n",
    "\n",
    "groupRestLen = len(df_weekly[df_weekly['Målgruppe'] == allGroups[-1]])\n",
    "groupRestLen - otherGroupLen\n",
    "if (groupRestLen == otherGroupLen - 15):\n",
    "    rowToCopy = df_weekly.loc[35]\n",
    "    toAdd = rowToCopy.copy()\n",
    "    \n",
    "    toAdd.Ugenummer = '2020-W52'\n",
    "    df_weekly = df_weekly.append(toAdd)\n",
    "    toAdd.Ugenummer = '2021-W01'\n",
    "    df_weekly = df_weekly.append(toAdd)\n",
    "    toAdd.Ugenummer = '2021-W02'\n",
    "    df_weekly = df_weekly.append(toAdd)\n",
    "    toAdd.Ugenummer = '2021-W04'\n",
    "    df_weekly = df_weekly.append(toAdd)\n",
    "    toAdd.Ugenummer = '2021-W05'\n",
    "    df_weekly = df_weekly.append(toAdd)\n",
    "    toAdd.Ugenummer = '2021-W06'\n",
    "    df_weekly = df_weekly.append(toAdd)\n",
    "    toAdd.Ugenummer = '2021-W07'\n",
    "    df_weekly = df_weekly.append(toAdd)\n",
    "    toAdd.Ugenummer = '2021-W10'\n",
    "    df_weekly = df_weekly.append(toAdd)\n",
    "    toAdd.Ugenummer = '2021-W11'\n",
    "    df_weekly = df_weekly.append(toAdd)\n",
    "    toAdd.Ugenummer = '2021-W12'\n",
    "    df_weekly = df_weekly.append(toAdd)\n",
    "    toAdd.Ugenummer = '2021-W13'\n",
    "    df_weekly = df_weekly.append(toAdd)\n",
    "    toAdd.Ugenummer = '2021-W14'\n",
    "    df_weekly = df_weekly.append(toAdd)\n",
    "    toAdd.Ugenummer = '2021-W15'\n",
    "    df_weekly = df_weekly.append(toAdd)\n",
    "    toAdd.Ugenummer = '2021-W16'\n",
    "    df_weekly = df_weekly.append(toAdd) \n",
    "    toAdd.Ugenummer = '2021-W18'\n",
    "    df_weekly = df_weekly.append(toAdd)\n",
    "    \n",
    "# Sort so order is correct\n",
    "df_weekly.sort_values(by=['Ugenummer','Målgruppe'],inplace=True)"
   ]
  },
  {
   "cell_type": "code",
   "execution_count": 17,
   "metadata": {},
   "outputs": [],
   "source": [
    "curdf = df_weekly[df_weekly['Målgruppe'] == allGroups[0]]"
   ]
  },
  {
   "cell_type": "code",
   "execution_count": 18,
   "metadata": {},
   "outputs": [
    {
     "data": {
      "application/vnd.jupyter.widget-view+json": {
       "model_id": "a30190f8228a4dff9e57098509553b90",
       "version_major": 2,
       "version_minor": 0
      },
      "text/plain": [
       "Canvas(toolbar=Toolbar(toolitems=[('Home', 'Reset original view', 'home', 'home'), ('Back', 'Back to previous …"
      ]
     },
     "metadata": {},
     "output_type": "display_data"
    }
   ],
   "source": [
    "fig,(ax1,ax2) = plt.subplots(2,1,sharex=True)\n",
    "\n",
    "# ax1.plot(curWeekDays,allVaccOnce,'*')\n",
    "# ax2.plot(curWeekDays,allVaccFull,'*')\n",
    "\n",
    "# for k in range(0,len(allGroups)):\n",
    "for k in range(len(allGroups)-5,len(allGroups)-1):\n",
    "    curdf = df_weekly[df_weekly['Målgruppe'] == allGroups[k]]\n",
    "\n",
    "    curLabel = allGroups[k]\n",
    "\n",
    "    ageWeekDays = curdf.Ugenummer.apply(lambda x: np.datetime64(datetime.datetime.strptime(x + '-1', \"%Y-W%W-%w\")))\n",
    "\n",
    "    ageVaccOnce = pd.to_numeric(curdf['Dækning førstegangsvaccinerede (kumulativt i %)'])\n",
    "    ageVaccFull = pd.to_numeric(curdf['Dækning færdigvaccinerede (kumulativt i %)'])\n",
    "    \n",
    "    ax1.plot(ageWeekDays,ageVaccOnce,'-*',label=curLabel)\n",
    "    ax2.plot(ageWeekDays,ageVaccFull,'-*',label=curLabel)\n",
    "\n",
    "ax1.set_ylim([0,100])\n",
    "ax2.set_ylim([0,100])\n",
    "ax1.legend(fontsize=10)\n",
    "\n",
    "ax1.set_xlim(left=np.datetime64('2021-05-01'))\n",
    "plt.tight_layout()"
   ]
  },
  {
   "cell_type": "code",
   "execution_count": 19,
   "metadata": {},
   "outputs": [
    {
     "data": {
      "application/vnd.jupyter.widget-view+json": {
       "model_id": "72ecf2d8be6b4729b9a18a3111519428",
       "version_major": 2,
       "version_minor": 0
      },
      "text/plain": [
       "Canvas(toolbar=Toolbar(toolitems=[('Home', 'Reset original view', 'home', 'home'), ('Back', 'Back to previous …"
      ]
     },
     "metadata": {},
     "output_type": "display_data"
    },
    {
     "data": {
      "application/vnd.jupyter.widget-view+json": {
       "model_id": "6eab1dd55cf141f5babc79653a21ceba",
       "version_major": 2,
       "version_minor": 0
      },
      "text/plain": [
       "Canvas(toolbar=Toolbar(toolitems=[('Home', 'Reset original view', 'home', 'home'), ('Back', 'Back to previous …"
      ]
     },
     "metadata": {},
     "output_type": "display_data"
    },
    {
     "data": {
      "application/vnd.jupyter.widget-view+json": {
       "model_id": "fc37b5e538c244918bf9f6756e51dbe5",
       "version_major": 2,
       "version_minor": 0
      },
      "text/plain": [
       "Canvas(toolbar=Toolbar(toolitems=[('Home', 'Reset original view', 'home', 'home'), ('Back', 'Back to previous …"
      ]
     },
     "metadata": {},
     "output_type": "display_data"
    },
    {
     "data": {
      "application/vnd.jupyter.widget-view+json": {
       "model_id": "810b6d6923da41d58aa91e73b9345b93",
       "version_major": 2,
       "version_minor": 0
      },
      "text/plain": [
       "Canvas(toolbar=Toolbar(toolitems=[('Home', 'Reset original view', 'home', 'home'), ('Back', 'Back to previous …"
      ]
     },
     "metadata": {},
     "output_type": "display_data"
    },
    {
     "data": {
      "application/vnd.jupyter.widget-view+json": {
       "model_id": "4ce9635e23eb43718d997d69b1e66e0e",
       "version_major": 2,
       "version_minor": 0
      },
      "text/plain": [
       "Canvas(toolbar=Toolbar(toolitems=[('Home', 'Reset original view', 'home', 'home'), ('Back', 'Back to previous …"
      ]
     },
     "metadata": {},
     "output_type": "display_data"
    },
    {
     "data": {
      "application/vnd.jupyter.widget-view+json": {
       "model_id": "4b1bb6bb49e34cbea193424aa776a9bc",
       "version_major": 2,
       "version_minor": 0
      },
      "text/plain": [
       "Canvas(toolbar=Toolbar(toolitems=[('Home', 'Reset original view', 'home', 'home'), ('Back', 'Back to previous …"
      ]
     },
     "metadata": {},
     "output_type": "display_data"
    },
    {
     "data": {
      "application/vnd.jupyter.widget-view+json": {
       "model_id": "7c5cd852969d48dda061f65165932dba",
       "version_major": 2,
       "version_minor": 0
      },
      "text/plain": [
       "Canvas(toolbar=Toolbar(toolitems=[('Home', 'Reset original view', 'home', 'home'), ('Back', 'Back to previous …"
      ]
     },
     "metadata": {},
     "output_type": "display_data"
    },
    {
     "data": {
      "application/vnd.jupyter.widget-view+json": {
       "model_id": "ff214df337fa4927bf9f27b6a8628962",
       "version_major": 2,
       "version_minor": 0
      },
      "text/plain": [
       "Canvas(toolbar=Toolbar(toolitems=[('Home', 'Reset original view', 'home', 'home'), ('Back', 'Back to previous …"
      ]
     },
     "metadata": {},
     "output_type": "display_data"
    },
    {
     "data": {
      "application/vnd.jupyter.widget-view+json": {
       "model_id": "faed41efbdc6414980a307295e9b44df",
       "version_major": 2,
       "version_minor": 0
      },
      "text/plain": [
       "Canvas(toolbar=Toolbar(toolitems=[('Home', 'Reset original view', 'home', 'home'), ('Back', 'Back to previous …"
      ]
     },
     "metadata": {},
     "output_type": "display_data"
    },
    {
     "data": {
      "application/vnd.jupyter.widget-view+json": {
       "model_id": "d15c4e5e0a2644b99469e425f5fe8c90",
       "version_major": 2,
       "version_minor": 0
      },
      "text/plain": [
       "Canvas(toolbar=Toolbar(toolitems=[('Home', 'Reset original view', 'home', 'home'), ('Back', 'Back to previous …"
      ]
     },
     "metadata": {},
     "output_type": "display_data"
    },
    {
     "data": {
      "application/vnd.jupyter.widget-view+json": {
       "model_id": "04b7e4e23157420d8b51d83d6d8a3080",
       "version_major": 2,
       "version_minor": 0
      },
      "text/plain": [
       "Canvas(toolbar=Toolbar(toolitems=[('Home', 'Reset original view', 'home', 'home'), ('Back', 'Back to previous …"
      ]
     },
     "metadata": {},
     "output_type": "display_data"
    },
    {
     "data": {
      "application/vnd.jupyter.widget-view+json": {
       "model_id": "0469743d548848ed8de78e059790833c",
       "version_major": 2,
       "version_minor": 0
      },
      "text/plain": [
       "Canvas(toolbar=Toolbar(toolitems=[('Home', 'Reset original view', 'home', 'home'), ('Back', 'Back to previous …"
      ]
     },
     "metadata": {},
     "output_type": "display_data"
    },
    {
     "data": {
      "application/vnd.jupyter.widget-view+json": {
       "model_id": "a14125ffd9b945bfa261735d27a91c9f",
       "version_major": 2,
       "version_minor": 0
      },
      "text/plain": [
       "Canvas(toolbar=Toolbar(toolitems=[('Home', 'Reset original view', 'home', 'home'), ('Back', 'Back to previous …"
      ]
     },
     "metadata": {},
     "output_type": "display_data"
    },
    {
     "data": {
      "application/vnd.jupyter.widget-view+json": {
       "model_id": "35ab32aca1e3440993e23fa7a5d166e4",
       "version_major": 2,
       "version_minor": 0
      },
      "text/plain": [
       "Canvas(toolbar=Toolbar(toolitems=[('Home', 'Reset original view', 'home', 'home'), ('Back', 'Back to previous …"
      ]
     },
     "metadata": {},
     "output_type": "display_data"
    },
    {
     "data": {
      "application/vnd.jupyter.widget-view+json": {
       "model_id": "3783241f08b84a61be8837d3f4711b68",
       "version_major": 2,
       "version_minor": 0
      },
      "text/plain": [
       "Canvas(toolbar=Toolbar(toolitems=[('Home', 'Reset original view', 'home', 'home'), ('Back', 'Back to previous …"
      ]
     },
     "metadata": {},
     "output_type": "display_data"
    },
    {
     "name": "stderr",
     "output_type": "stream",
     "text": [
      "<ipython-input-19-d2f32f0bf73a>:6: RuntimeWarning: More than 20 figures have been opened. Figures created through the pyplot interface (`matplotlib.pyplot.figure`) are retained until explicitly closed and may consume too much memory. (To control this warning, see the rcParam `figure.max_open_warning`).\n",
      "  fig,ax1 = plt.subplots(1,1)\n"
     ]
    },
    {
     "data": {
      "application/vnd.jupyter.widget-view+json": {
       "model_id": "65317f9eb66a4b7d9e991c54256aef4c",
       "version_major": 2,
       "version_minor": 0
      },
      "text/plain": [
       "Canvas(toolbar=Toolbar(toolitems=[('Home', 'Reset original view', 'home', 'home'), ('Back', 'Back to previous …"
      ]
     },
     "metadata": {},
     "output_type": "display_data"
    },
    {
     "data": {
      "application/vnd.jupyter.widget-view+json": {
       "model_id": "ee8cd2209de4429b8f92f29803255733",
       "version_major": 2,
       "version_minor": 0
      },
      "text/plain": [
       "Canvas(toolbar=Toolbar(toolitems=[('Home', 'Reset original view', 'home', 'home'), ('Back', 'Back to previous …"
      ]
     },
     "metadata": {},
     "output_type": "display_data"
    },
    {
     "data": {
      "application/vnd.jupyter.widget-view+json": {
       "model_id": "5afdcfd0704a4965997ce37867e42b23",
       "version_major": 2,
       "version_minor": 0
      },
      "text/plain": [
       "Canvas(toolbar=Toolbar(toolitems=[('Home', 'Reset original view', 'home', 'home'), ('Back', 'Back to previous …"
      ]
     },
     "metadata": {},
     "output_type": "display_data"
    }
   ],
   "source": [
    "# fig,(ax1,ax2) = plt.subplots(2,1,sharex=True)\n",
    "\n",
    "for k in range(0,len(allGroups)):\n",
    "# for k in range(len(allGroups)-5,len(allGroups)-1):\n",
    "\n",
    "    fig,ax1 = plt.subplots(1,1)\n",
    "    curdf = df_weekly[df_weekly['Målgruppe'] == allGroups[k]]\n",
    "\n",
    "    curLabel = allGroups[k]\n",
    "\n",
    "    ageWeekDays = curdf.Ugenummer.apply(lambda x: np.datetime64(datetime.datetime.strptime(x + '-1', \"%Y-W%W-%w\")))\n",
    "\n",
    "    ageVaccOnce = pd.to_numeric(curdf['Dækning førstegangsvaccinerede (kumulativt i %)'])\n",
    "    ageVaccFull = pd.to_numeric(curdf['Dækning færdigvaccinerede (kumulativt i %)'])\n",
    "    \n",
    "    # ax1.plot(ageWeekDays,ageVaccOnce,'-*',label=curLabel)\n",
    "    # ax1.plot(ageWeekDays,ageVaccFull,'-*',label=curLabel)\n",
    "    ax1.fill_between(ageWeekDays,ageVaccOnce,zorder=3,color='xkcd:lightblue',label='Påbegyndt')\n",
    "    ax1.fill_between(ageWeekDays,ageVaccFull,zorder=3,color='xkcd:darkblue',label='Færdiggjort')\n",
    "\n",
    "    ax1.set_ylim([0,100])\n",
    "    # ax2.set_ylim([0,100])\n",
    "    # ax1.legend(fontsize=10)\n",
    "    plt.title(curLabel)\n",
    "\n",
    "    # Draw weekends\n",
    "    firstSunday = np.datetime64('2020-12-20')\n",
    "    numWeeks = 52\n",
    "    for w in range(0,numWeeks):\n",
    "        curSunday = firstSunday + np.timedelta64(7*w,'D')\n",
    "        ax1.axvspan(curSunday-np.timedelta64(1,'D')-np.timedelta64(12,'h'),curSunday+np.timedelta64(12,'h'),zorder=0,facecolor='lightgrey')\n",
    "    ax1.axvspan(curSunday-np.timedelta64(1,'D')-np.timedelta64(12,'h'),curSunday+np.timedelta64(12,'h'),zorder=0,facecolor='lightgrey',label='Weekend')\n",
    "\n",
    "    ax1.legend(loc='upper left')\n",
    "\n",
    "    ax1.spines[\"right\"].set_visible(False)\n",
    "    ax1.spines[\"top\"].set_visible(False)\n",
    "    ax1.set_ylabel('Andel af målgruppe [%]')\n",
    "    ax1.set_ylim(bottom=0,top=100)\n",
    "    ax1.grid(axis='y',zorder=0)\n",
    "    ax1.xaxis.set_major_formatter(mdates.DateFormatter('%b\\n%Y'))\n",
    "\n",
    "    ax1.set_xlim(left=firstSunday)\n",
    "    ax1.set_xlim(right=np.datetime64('2021-08-20'))\n",
    "\n",
    "    # plt.tight_layout()\n",
    "    if saveFigures:\n",
    "        plt.savefig(f'figsVacc/Maalgruppe_{k+1}')\n",
    "\n",
    "    ax1.set_xlim(left=np.datetime64('2021-05-01'))\n",
    "    ax1.xaxis.set_major_formatter(mdates.DateFormatter('%d.\\n%b'))\n",
    "    if saveFigures:\n",
    "        plt.savefig(f'figsVacc/Maalgruppe_{k+1}_zoom')\n",
    "plt.close('all')"
   ]
  },
  {
   "cell_type": "code",
   "execution_count": 20,
   "metadata": {},
   "outputs": [],
   "source": [
    "# Figur af \"inviterede, men ikke påbegyndt\"\n",
    "# First, population counts\n",
    "filename = 'Noegletal_vacc_daekning.csv'\n",
    "curPath = latestdir+\"/Vaccine_maalgrupper_DB/\" + filename\n",
    "\n",
    "df_noegle = pd.read_csv(curPath,delimiter = ';',dtype=str,encoding='latin-1')"
   ]
  },
  {
   "cell_type": "code",
   "execution_count": 21,
   "metadata": {},
   "outputs": [
    {
     "name": "stdout",
     "output_type": "stream",
     "text": [
      "5870501\n"
     ]
    }
   ],
   "source": [
    "# Count groupsize:\n",
    "df_noegle[df_noegle['Målgruppe'] == allGroups[1]].Population.astype(int).sum()\n",
    "\n",
    "# Check of full population:\n",
    "wholePop = 0\n",
    "for k in range(0,len(allGroups)):\n",
    "    \n",
    "    curPop = df_noegle[df_noegle['Målgruppe'] == allGroups[k]].Population.astype(int).sum()\n",
    "    wholePop += curPop\n",
    "print(wholePop) # Should be 5851099"
   ]
  },
  {
   "cell_type": "code",
   "execution_count": 22,
   "metadata": {},
   "outputs": [
    {
     "data": {
      "text/html": [
       "<div>\n",
       "<style scoped>\n",
       "    .dataframe tbody tr th:only-of-type {\n",
       "        vertical-align: middle;\n",
       "    }\n",
       "\n",
       "    .dataframe tbody tr th {\n",
       "        vertical-align: top;\n",
       "    }\n",
       "\n",
       "    .dataframe thead th {\n",
       "        text-align: right;\n",
       "    }\n",
       "</style>\n",
       "<table border=\"1\" class=\"dataframe\">\n",
       "  <thead>\n",
       "    <tr style=\"text-align: right;\">\n",
       "      <th></th>\n",
       "      <th>Ugenummer</th>\n",
       "      <th>Målgruppe</th>\n",
       "      <th>Dækning førstegangsvaccinerede (kumulativt i %)</th>\n",
       "      <th>Dækning færdigvaccinerede (kumulativt i %)</th>\n",
       "    </tr>\n",
       "  </thead>\n",
       "  <tbody>\n",
       "    <tr>\n",
       "      <th>18</th>\n",
       "      <td>2020-W52</td>\n",
       "      <td>1. Plejehjemsbeboere</td>\n",
       "      <td>4.55</td>\n",
       "      <td>0.00</td>\n",
       "    </tr>\n",
       "    <tr>\n",
       "      <th>34</th>\n",
       "      <td>2020-W53</td>\n",
       "      <td>1. Plejehjemsbeboere</td>\n",
       "      <td>33.68</td>\n",
       "      <td>0.00</td>\n",
       "    </tr>\n",
       "    <tr>\n",
       "      <th>51</th>\n",
       "      <td>2021-W01</td>\n",
       "      <td>1. Plejehjemsbeboere</td>\n",
       "      <td>69.54</td>\n",
       "      <td>0.00</td>\n",
       "    </tr>\n",
       "    <tr>\n",
       "      <th>67</th>\n",
       "      <td>2021-W02</td>\n",
       "      <td>1. Plejehjemsbeboere</td>\n",
       "      <td>74.07</td>\n",
       "      <td>0.56</td>\n",
       "    </tr>\n",
       "    <tr>\n",
       "      <th>83</th>\n",
       "      <td>2021-W03</td>\n",
       "      <td>1. Plejehjemsbeboere</td>\n",
       "      <td>76.11</td>\n",
       "      <td>25.07</td>\n",
       "    </tr>\n",
       "    <tr>\n",
       "      <th>99</th>\n",
       "      <td>2021-W04</td>\n",
       "      <td>1. Plejehjemsbeboere</td>\n",
       "      <td>77.44</td>\n",
       "      <td>61.03</td>\n",
       "    </tr>\n",
       "    <tr>\n",
       "      <th>114</th>\n",
       "      <td>2021-W05</td>\n",
       "      <td>1. Plejehjemsbeboere</td>\n",
       "      <td>78.41</td>\n",
       "      <td>70.07</td>\n",
       "    </tr>\n",
       "    <tr>\n",
       "      <th>130</th>\n",
       "      <td>2021-W06</td>\n",
       "      <td>1. Plejehjemsbeboere</td>\n",
       "      <td>80.02</td>\n",
       "      <td>72.18</td>\n",
       "    </tr>\n",
       "    <tr>\n",
       "      <th>145</th>\n",
       "      <td>2021-W07</td>\n",
       "      <td>1. Plejehjemsbeboere</td>\n",
       "      <td>83.22</td>\n",
       "      <td>72.93</td>\n",
       "    </tr>\n",
       "    <tr>\n",
       "      <th>161</th>\n",
       "      <td>2021-W08</td>\n",
       "      <td>1. Plejehjemsbeboere</td>\n",
       "      <td>86.14</td>\n",
       "      <td>76.34</td>\n",
       "    </tr>\n",
       "    <tr>\n",
       "      <th>178</th>\n",
       "      <td>2021-W09</td>\n",
       "      <td>1. Plejehjemsbeboere</td>\n",
       "      <td>87.37</td>\n",
       "      <td>77.86</td>\n",
       "    </tr>\n",
       "    <tr>\n",
       "      <th>195</th>\n",
       "      <td>2021-W10</td>\n",
       "      <td>1. Plejehjemsbeboere</td>\n",
       "      <td>88.72</td>\n",
       "      <td>81.35</td>\n",
       "    </tr>\n",
       "    <tr>\n",
       "      <th>211</th>\n",
       "      <td>2021-W11</td>\n",
       "      <td>1. Plejehjemsbeboere</td>\n",
       "      <td>89.68</td>\n",
       "      <td>83.35</td>\n",
       "    </tr>\n",
       "    <tr>\n",
       "      <th>227</th>\n",
       "      <td>2021-W12</td>\n",
       "      <td>1. Plejehjemsbeboere</td>\n",
       "      <td>90.81</td>\n",
       "      <td>85.35</td>\n",
       "    </tr>\n",
       "    <tr>\n",
       "      <th>243</th>\n",
       "      <td>2021-W13</td>\n",
       "      <td>1. Plejehjemsbeboere</td>\n",
       "      <td>91.48</td>\n",
       "      <td>86.41</td>\n",
       "    </tr>\n",
       "    <tr>\n",
       "      <th>259</th>\n",
       "      <td>2021-W14</td>\n",
       "      <td>1. Plejehjemsbeboere</td>\n",
       "      <td>92.01</td>\n",
       "      <td>88.02</td>\n",
       "    </tr>\n",
       "    <tr>\n",
       "      <th>275</th>\n",
       "      <td>2021-W15</td>\n",
       "      <td>1. Plejehjemsbeboere</td>\n",
       "      <td>92.90</td>\n",
       "      <td>89.26</td>\n",
       "    </tr>\n",
       "    <tr>\n",
       "      <th>291</th>\n",
       "      <td>2021-W16</td>\n",
       "      <td>1. Plejehjemsbeboere</td>\n",
       "      <td>93.52</td>\n",
       "      <td>90.02</td>\n",
       "    </tr>\n",
       "    <tr>\n",
       "      <th>307</th>\n",
       "      <td>2021-W17</td>\n",
       "      <td>1. Plejehjemsbeboere</td>\n",
       "      <td>93.90</td>\n",
       "      <td>90.56</td>\n",
       "    </tr>\n",
       "    <tr>\n",
       "      <th>325</th>\n",
       "      <td>2021-W18</td>\n",
       "      <td>1. Plejehjemsbeboere</td>\n",
       "      <td>94.28</td>\n",
       "      <td>91.51</td>\n",
       "    </tr>\n",
       "    <tr>\n",
       "      <th>342</th>\n",
       "      <td>2021-W19</td>\n",
       "      <td>1. Plejehjemsbeboere</td>\n",
       "      <td>94.55</td>\n",
       "      <td>92.15</td>\n",
       "    </tr>\n",
       "    <tr>\n",
       "      <th>360</th>\n",
       "      <td>2021-W20</td>\n",
       "      <td>1. Plejehjemsbeboere</td>\n",
       "      <td>94.86</td>\n",
       "      <td>92.59</td>\n",
       "    </tr>\n",
       "    <tr>\n",
       "      <th>377</th>\n",
       "      <td>2021-W21</td>\n",
       "      <td>1. Plejehjemsbeboere</td>\n",
       "      <td>95.06</td>\n",
       "      <td>92.79</td>\n",
       "    </tr>\n",
       "    <tr>\n",
       "      <th>395</th>\n",
       "      <td>2021-W22</td>\n",
       "      <td>1. Plejehjemsbeboere</td>\n",
       "      <td>95.18</td>\n",
       "      <td>93.01</td>\n",
       "    </tr>\n",
       "    <tr>\n",
       "      <th>413</th>\n",
       "      <td>2021-W23</td>\n",
       "      <td>1. Plejehjemsbeboere</td>\n",
       "      <td>95.34</td>\n",
       "      <td>93.33</td>\n",
       "    </tr>\n",
       "    <tr>\n",
       "      <th>431</th>\n",
       "      <td>2021-W24</td>\n",
       "      <td>1. Plejehjemsbeboere</td>\n",
       "      <td>95.46</td>\n",
       "      <td>93.56</td>\n",
       "    </tr>\n",
       "    <tr>\n",
       "      <th>449</th>\n",
       "      <td>2021-W25</td>\n",
       "      <td>1. Plejehjemsbeboere</td>\n",
       "      <td>95.56</td>\n",
       "      <td>93.82</td>\n",
       "    </tr>\n",
       "    <tr>\n",
       "      <th>466</th>\n",
       "      <td>2021-W26</td>\n",
       "      <td>1. Plejehjemsbeboere</td>\n",
       "      <td>95.64</td>\n",
       "      <td>94.05</td>\n",
       "    </tr>\n",
       "    <tr>\n",
       "      <th>483</th>\n",
       "      <td>2021-W27</td>\n",
       "      <td>1. Plejehjemsbeboere</td>\n",
       "      <td>95.73</td>\n",
       "      <td>94.19</td>\n",
       "    </tr>\n",
       "    <tr>\n",
       "      <th>501</th>\n",
       "      <td>2021-W28</td>\n",
       "      <td>1. Plejehjemsbeboere</td>\n",
       "      <td>95.86</td>\n",
       "      <td>94.36</td>\n",
       "    </tr>\n",
       "    <tr>\n",
       "      <th>519</th>\n",
       "      <td>2021-W29</td>\n",
       "      <td>1. Plejehjemsbeboere</td>\n",
       "      <td>95.93</td>\n",
       "      <td>94.49</td>\n",
       "    </tr>\n",
       "    <tr>\n",
       "      <th>537</th>\n",
       "      <td>2021-W30</td>\n",
       "      <td>1. Plejehjemsbeboere</td>\n",
       "      <td>95.93</td>\n",
       "      <td>94.61</td>\n",
       "    </tr>\n",
       "    <tr>\n",
       "      <th>555</th>\n",
       "      <td>2021-W31</td>\n",
       "      <td>1. Plejehjemsbeboere</td>\n",
       "      <td>95.93</td>\n",
       "      <td>94.74</td>\n",
       "    </tr>\n",
       "    <tr>\n",
       "      <th>572</th>\n",
       "      <td>2021-W32</td>\n",
       "      <td>1. Plejehjemsbeboere</td>\n",
       "      <td>95.99</td>\n",
       "      <td>94.91</td>\n",
       "    </tr>\n",
       "    <tr>\n",
       "      <th>590</th>\n",
       "      <td>2021-W33</td>\n",
       "      <td>1. Plejehjemsbeboere</td>\n",
       "      <td>95.99</td>\n",
       "      <td>95.05</td>\n",
       "    </tr>\n",
       "    <tr>\n",
       "      <th>608</th>\n",
       "      <td>2021-W34</td>\n",
       "      <td>1. Plejehjemsbeboere</td>\n",
       "      <td>95.99</td>\n",
       "      <td>95.12</td>\n",
       "    </tr>\n",
       "    <tr>\n",
       "      <th>626</th>\n",
       "      <td>2021-W35</td>\n",
       "      <td>1. Plejehjemsbeboere</td>\n",
       "      <td>95.99</td>\n",
       "      <td>95.18</td>\n",
       "    </tr>\n",
       "    <tr>\n",
       "      <th>644</th>\n",
       "      <td>2021-W36</td>\n",
       "      <td>1. Plejehjemsbeboere</td>\n",
       "      <td>96.04</td>\n",
       "      <td>95.26</td>\n",
       "    </tr>\n",
       "    <tr>\n",
       "      <th>661</th>\n",
       "      <td>2021-W37</td>\n",
       "      <td>1. Plejehjemsbeboere</td>\n",
       "      <td>96.25</td>\n",
       "      <td>95.49</td>\n",
       "    </tr>\n",
       "    <tr>\n",
       "      <th>678</th>\n",
       "      <td>2021-W38</td>\n",
       "      <td>1. Plejehjemsbeboere</td>\n",
       "      <td>96.50</td>\n",
       "      <td>95.79</td>\n",
       "    </tr>\n",
       "    <tr>\n",
       "      <th>696</th>\n",
       "      <td>2021-W39</td>\n",
       "      <td>1. Plejehjemsbeboere</td>\n",
       "      <td>96.59</td>\n",
       "      <td>95.89</td>\n",
       "    </tr>\n",
       "    <tr>\n",
       "      <th>713</th>\n",
       "      <td>2021-W40</td>\n",
       "      <td>1. Plejehjemsbeboere</td>\n",
       "      <td>96.59</td>\n",
       "      <td>95.95</td>\n",
       "    </tr>\n",
       "    <tr>\n",
       "      <th>729</th>\n",
       "      <td>2021-W41</td>\n",
       "      <td>1. Plejehjemsbeboere</td>\n",
       "      <td>96.59</td>\n",
       "      <td>96.00</td>\n",
       "    </tr>\n",
       "    <tr>\n",
       "      <th>746</th>\n",
       "      <td>2021-W42</td>\n",
       "      <td>1. Plejehjemsbeboere</td>\n",
       "      <td>96.59</td>\n",
       "      <td>96.07</td>\n",
       "    </tr>\n",
       "    <tr>\n",
       "      <th>762</th>\n",
       "      <td>2021-W43</td>\n",
       "      <td>1. Plejehjemsbeboere</td>\n",
       "      <td>96.59</td>\n",
       "      <td>96.12</td>\n",
       "    </tr>\n",
       "    <tr>\n",
       "      <th>779</th>\n",
       "      <td>2021-W44</td>\n",
       "      <td>1. Plejehjemsbeboere</td>\n",
       "      <td>96.59</td>\n",
       "      <td>96.19</td>\n",
       "    </tr>\n",
       "    <tr>\n",
       "      <th>796</th>\n",
       "      <td>2021-W45</td>\n",
       "      <td>1. Plejehjemsbeboere</td>\n",
       "      <td>96.59</td>\n",
       "      <td>96.19</td>\n",
       "    </tr>\n",
       "  </tbody>\n",
       "</table>\n",
       "</div>"
      ],
      "text/plain": [
       "    Ugenummer             Målgruppe  \\\n",
       "18   2020-W52  1. Plejehjemsbeboere   \n",
       "34   2020-W53  1. Plejehjemsbeboere   \n",
       "51   2021-W01  1. Plejehjemsbeboere   \n",
       "67   2021-W02  1. Plejehjemsbeboere   \n",
       "83   2021-W03  1. Plejehjemsbeboere   \n",
       "99   2021-W04  1. Plejehjemsbeboere   \n",
       "114  2021-W05  1. Plejehjemsbeboere   \n",
       "130  2021-W06  1. Plejehjemsbeboere   \n",
       "145  2021-W07  1. Plejehjemsbeboere   \n",
       "161  2021-W08  1. Plejehjemsbeboere   \n",
       "178  2021-W09  1. Plejehjemsbeboere   \n",
       "195  2021-W10  1. Plejehjemsbeboere   \n",
       "211  2021-W11  1. Plejehjemsbeboere   \n",
       "227  2021-W12  1. Plejehjemsbeboere   \n",
       "243  2021-W13  1. Plejehjemsbeboere   \n",
       "259  2021-W14  1. Plejehjemsbeboere   \n",
       "275  2021-W15  1. Plejehjemsbeboere   \n",
       "291  2021-W16  1. Plejehjemsbeboere   \n",
       "307  2021-W17  1. Plejehjemsbeboere   \n",
       "325  2021-W18  1. Plejehjemsbeboere   \n",
       "342  2021-W19  1. Plejehjemsbeboere   \n",
       "360  2021-W20  1. Plejehjemsbeboere   \n",
       "377  2021-W21  1. Plejehjemsbeboere   \n",
       "395  2021-W22  1. Plejehjemsbeboere   \n",
       "413  2021-W23  1. Plejehjemsbeboere   \n",
       "431  2021-W24  1. Plejehjemsbeboere   \n",
       "449  2021-W25  1. Plejehjemsbeboere   \n",
       "466  2021-W26  1. Plejehjemsbeboere   \n",
       "483  2021-W27  1. Plejehjemsbeboere   \n",
       "501  2021-W28  1. Plejehjemsbeboere   \n",
       "519  2021-W29  1. Plejehjemsbeboere   \n",
       "537  2021-W30  1. Plejehjemsbeboere   \n",
       "555  2021-W31  1. Plejehjemsbeboere   \n",
       "572  2021-W32  1. Plejehjemsbeboere   \n",
       "590  2021-W33  1. Plejehjemsbeboere   \n",
       "608  2021-W34  1. Plejehjemsbeboere   \n",
       "626  2021-W35  1. Plejehjemsbeboere   \n",
       "644  2021-W36  1. Plejehjemsbeboere   \n",
       "661  2021-W37  1. Plejehjemsbeboere   \n",
       "678  2021-W38  1. Plejehjemsbeboere   \n",
       "696  2021-W39  1. Plejehjemsbeboere   \n",
       "713  2021-W40  1. Plejehjemsbeboere   \n",
       "729  2021-W41  1. Plejehjemsbeboere   \n",
       "746  2021-W42  1. Plejehjemsbeboere   \n",
       "762  2021-W43  1. Plejehjemsbeboere   \n",
       "779  2021-W44  1. Plejehjemsbeboere   \n",
       "796  2021-W45  1. Plejehjemsbeboere   \n",
       "\n",
       "    Dækning førstegangsvaccinerede (kumulativt i %)  \\\n",
       "18                                             4.55   \n",
       "34                                            33.68   \n",
       "51                                            69.54   \n",
       "67                                            74.07   \n",
       "83                                            76.11   \n",
       "99                                            77.44   \n",
       "114                                           78.41   \n",
       "130                                           80.02   \n",
       "145                                           83.22   \n",
       "161                                           86.14   \n",
       "178                                           87.37   \n",
       "195                                           88.72   \n",
       "211                                           89.68   \n",
       "227                                           90.81   \n",
       "243                                           91.48   \n",
       "259                                           92.01   \n",
       "275                                           92.90   \n",
       "291                                           93.52   \n",
       "307                                           93.90   \n",
       "325                                           94.28   \n",
       "342                                           94.55   \n",
       "360                                           94.86   \n",
       "377                                           95.06   \n",
       "395                                           95.18   \n",
       "413                                           95.34   \n",
       "431                                           95.46   \n",
       "449                                           95.56   \n",
       "466                                           95.64   \n",
       "483                                           95.73   \n",
       "501                                           95.86   \n",
       "519                                           95.93   \n",
       "537                                           95.93   \n",
       "555                                           95.93   \n",
       "572                                           95.99   \n",
       "590                                           95.99   \n",
       "608                                           95.99   \n",
       "626                                           95.99   \n",
       "644                                           96.04   \n",
       "661                                           96.25   \n",
       "678                                           96.50   \n",
       "696                                           96.59   \n",
       "713                                           96.59   \n",
       "729                                           96.59   \n",
       "746                                           96.59   \n",
       "762                                           96.59   \n",
       "779                                           96.59   \n",
       "796                                           96.59   \n",
       "\n",
       "    Dækning færdigvaccinerede (kumulativt i %)  \n",
       "18                                        0.00  \n",
       "34                                        0.00  \n",
       "51                                        0.00  \n",
       "67                                        0.56  \n",
       "83                                       25.07  \n",
       "99                                       61.03  \n",
       "114                                      70.07  \n",
       "130                                      72.18  \n",
       "145                                      72.93  \n",
       "161                                      76.34  \n",
       "178                                      77.86  \n",
       "195                                      81.35  \n",
       "211                                      83.35  \n",
       "227                                      85.35  \n",
       "243                                      86.41  \n",
       "259                                      88.02  \n",
       "275                                      89.26  \n",
       "291                                      90.02  \n",
       "307                                      90.56  \n",
       "325                                      91.51  \n",
       "342                                      92.15  \n",
       "360                                      92.59  \n",
       "377                                      92.79  \n",
       "395                                      93.01  \n",
       "413                                      93.33  \n",
       "431                                      93.56  \n",
       "449                                      93.82  \n",
       "466                                      94.05  \n",
       "483                                      94.19  \n",
       "501                                      94.36  \n",
       "519                                      94.49  \n",
       "537                                      94.61  \n",
       "555                                      94.74  \n",
       "572                                      94.91  \n",
       "590                                      95.05  \n",
       "608                                      95.12  \n",
       "626                                      95.18  \n",
       "644                                      95.26  \n",
       "661                                      95.49  \n",
       "678                                      95.79  \n",
       "696                                      95.89  \n",
       "713                                      95.95  \n",
       "729                                      96.00  \n",
       "746                                      96.07  \n",
       "762                                      96.12  \n",
       "779                                      96.19  \n",
       "796                                      96.19  "
      ]
     },
     "execution_count": 22,
     "metadata": {},
     "output_type": "execute_result"
    }
   ],
   "source": [
    "df_weekly[df_weekly.Målgruppe == '1. Plejehjemsbeboere']\n",
    "# df_weekly.Målgruppe.value_counts()"
   ]
  },
  {
   "cell_type": "code",
   "execution_count": 23,
   "metadata": {},
   "outputs": [
    {
     "name": "stdout",
     "output_type": "stream",
     "text": [
      "1436.0040000000017\n"
     ]
    },
    {
     "data": {
      "text/plain": [
       "42360"
      ]
     },
     "execution_count": 23,
     "metadata": {},
     "output_type": "execute_result"
    }
   ],
   "source": [
    "# asdf = df_noegle[df_noegle.Målgruppe == '2. Borgere > 65, praktisk hjælp og personlig pleje']\n",
    "asdf = df_noegle[df_noegle.Målgruppe == '1. Plejehjemsbeboere']\n",
    "\n",
    "\n",
    "print(pd.to_numeric(asdf.Population).sum() * (1-0.9661 ))\n",
    "pd.to_numeric(asdf.Population).sum()\n",
    "# asdf\n",
    "# df_noegle.Målgruppe.value_counts()"
   ]
  },
  {
   "cell_type": "code",
   "execution_count": 24,
   "metadata": {},
   "outputs": [
    {
     "data": {
      "application/vnd.jupyter.widget-view+json": {
       "model_id": "64d11a7feab846f48b954cf2ec3c2ade",
       "version_major": 2,
       "version_minor": 0
      },
      "text/plain": [
       "Canvas(toolbar=Toolbar(toolitems=[('Home', 'Reset original view', 'home', 'home'), ('Back', 'Back to previous …"
      ]
     },
     "metadata": {},
     "output_type": "display_data"
    }
   ],
   "source": [
    "fig,(ax1,ax2) = plt.subplots(2,1,sharex=True)\n",
    "\n",
    "\n",
    "for k in range(0,len(allGroups)):\n",
    "# for k in range(len(allGroups)-5,len(allGroups)-1):\n",
    "    curdf = df_weekly[df_weekly['Målgruppe'] == allGroups[k]]\n",
    "\n",
    "    curPop = df_noegle[df_noegle['Målgruppe'] == allGroups[k]].Population.astype(int).sum()\n",
    "\n",
    "    curLabel = allGroups[k]\n",
    "\n",
    "    ageWeekDays = curdf.Ugenummer.apply(lambda x: np.datetime64(datetime.datetime.strptime(x + '-1', \"%Y-W%W-%w\")))\n",
    "\n",
    "    ageVaccOnce = pd.to_numeric(curdf['Dækning førstegangsvaccinerede (kumulativt i %)'])\n",
    "    ageVaccFull = pd.to_numeric(curdf['Dækning færdigvaccinerede (kumulativt i %)'])\n",
    "    \n",
    "    ax1.plot(ageWeekDays,curPop*(100-ageVaccOnce),'-*',label=curLabel)\n",
    "    ax2.plot(ageWeekDays,curPop*(100-ageVaccFull),'-*',label=curLabel)\n",
    "\n",
    "# ax1.set_ylim([0,100])\n",
    "# ax2.set_ylim([0,100])\n",
    "ax1.set_ylim(bottom=0)\n",
    "ax2.set_ylim(bottom=0)\n",
    "ax1.legend(fontsize=8,loc='upper left')\n",
    "\n",
    "# ax1.set_xlim(left=np.datetime64('2021-05-01'))\n",
    "plt.tight_layout()"
   ]
  },
  {
   "cell_type": "code",
   "execution_count": 25,
   "metadata": {},
   "outputs": [
    {
     "data": {
      "text/plain": [
       "5870501"
      ]
     },
     "execution_count": 25,
     "metadata": {},
     "output_type": "execute_result"
    }
   ],
   "source": [
    "df_noegle.Population.astype(int).sum()"
   ]
  },
  {
   "cell_type": "code",
   "execution_count": 26,
   "metadata": {},
   "outputs": [],
   "source": [
    "# df_weekly"
   ]
  },
  {
   "cell_type": "code",
   "execution_count": 27,
   "metadata": {},
   "outputs": [
    {
     "data": {
      "application/vnd.jupyter.widget-view+json": {
       "model_id": "3bc733be585b4979aaeca0161efbb310",
       "version_major": 2,
       "version_minor": 0
      },
      "text/plain": [
       "Canvas(toolbar=Toolbar(toolitems=[('Home', 'Reset original view', 'home', 'home'), ('Back', 'Back to previous …"
      ]
     },
     "metadata": {},
     "output_type": "display_data"
    },
    {
     "ename": "ValueError",
     "evalue": "operands could not be broadcast together with shapes (47,) (19,) (47,) ",
     "output_type": "error",
     "traceback": [
      "\u001b[1;31m---------------------------------------------------------------------------\u001b[0m",
      "\u001b[1;31mValueError\u001b[0m                                Traceback (most recent call last)",
      "\u001b[1;32m<ipython-input-27-b81f3f3f7048>\u001b[0m in \u001b[0;36m<module>\u001b[1;34m\u001b[0m\n\u001b[0;32m     44\u001b[0m     \u001b[1;31m# print(k)\u001b[0m\u001b[1;33m\u001b[0m\u001b[1;33m\u001b[0m\u001b[1;33m\u001b[0m\u001b[0m\n\u001b[0;32m     45\u001b[0m     \u001b[1;31m# print(numOnce.shape)\u001b[0m\u001b[1;33m\u001b[0m\u001b[1;33m\u001b[0m\u001b[1;33m\u001b[0m\u001b[0m\n\u001b[1;32m---> 46\u001b[1;33m     \u001b[0mcurrOnce\u001b[0m \u001b[1;33m+=\u001b[0m \u001b[0mnumOnce\u001b[0m\u001b[1;33m\u001b[0m\u001b[1;33m\u001b[0m\u001b[0m\n\u001b[0m\u001b[0;32m     47\u001b[0m     \u001b[1;31m# currOnce += numNone\u001b[0m\u001b[1;33m\u001b[0m\u001b[1;33m\u001b[0m\u001b[1;33m\u001b[0m\u001b[0m\n\u001b[0;32m     48\u001b[0m     \u001b[1;31m# currOnce += currOnce\u001b[0m\u001b[1;33m\u001b[0m\u001b[1;33m\u001b[0m\u001b[1;33m\u001b[0m\u001b[0m\n",
      "\u001b[1;31mValueError\u001b[0m: operands could not be broadcast together with shapes (47,) (19,) (47,) "
     ]
    }
   ],
   "source": [
    "fig,(ax1,ax2) = plt.subplots(2,1,sharex=True,figsize=(18,14))\n",
    " \n",
    "restPop = df_noegle[df_noegle['Målgruppe'] == allGroups[len(allGroups)-1]].Population.astype(int).sum()\n",
    "fullPop = df_noegle.Population.astype(int).sum()\n",
    "\n",
    "curdf = df_weekly[df_weekly['Målgruppe'] == allGroups[0]]\n",
    "ageVaccOnce = pd.to_numeric(curdf['Dækning førstegangsvaccinerede (kumulativt i %)'])\n",
    "\n",
    "# currOnce = np.zeros(ageVaccOnce.values.shape)\n",
    "# prevOnce = np.zeros(ageVaccOnce.values.shape)\n",
    "currOnce = np.zeros(ageVaccOnce.values.shape)\n",
    "prevOnce = np.zeros(ageVaccOnce.values.shape)\n",
    "# currNone = restPop * np.ones(ageVaccOnce.values.shape)\n",
    "# prevNone = restPop * np.ones(ageVaccOnce.values.shape)\n",
    "currNone = np.zeros(ageVaccOnce.values.shape)\n",
    "prevNone = np.zeros(ageVaccOnce.values.shape)\n",
    "\n",
    "\n",
    "cmap = cm.get_cmap('Spectral',len(allGroups))\n",
    "\n",
    "# allWeeks = df_weekly.Ugenummer.apply(lambda x: np.datetime64(datetime.datetime.strptime(x + '-1', \"%Y-W%W-%w\")))\n",
    "\n",
    "\n",
    "# for k in range(7,16):\n",
    "# for k in range(0,len(allGroups)-1):\n",
    "# for k in range(len(allGroups)-2,-1,-1):\n",
    "for k in range(len(allGroups)-1,-1,-1):\n",
    "    curdf = df_weekly[df_weekly['Målgruppe'] == allGroups[k]]\n",
    "\n",
    "    curPop = df_noegle[df_noegle['Målgruppe'] == allGroups[k]].Population.astype(int).sum()\n",
    "\n",
    "    curLabel = allGroups[k]\n",
    "\n",
    "    ageWeekDays = curdf.Ugenummer.apply(lambda x: np.datetime64(datetime.datetime.strptime(x + '-1', \"%Y-W%W-%w\")))\n",
    "\n",
    "    ageVaccOnce = pd.to_numeric(curdf['Dækning førstegangsvaccinerede (kumulativt i %)'])\n",
    "    ageVaccFull = pd.to_numeric(curdf['Dækning færdigvaccinerede (kumulativt i %)'])\n",
    "\n",
    "    numOnce = curPop * (ageVaccOnce.values/100)\n",
    "    numFull = curPop * (ageVaccFull/100)\n",
    "    numNone = curPop * (100 - ageVaccOnce.values)/100\n",
    "    # numNone = curPop - numOnce\n",
    "\n",
    "    # print(k)\n",
    "    # print(numOnce.shape)\n",
    "    currOnce += numOnce\n",
    "    # currOnce += numNone\n",
    "    # currOnce += currOnce\n",
    "    currNone += numNone\n",
    "\n",
    "    # ax1.plot(ageWeekDays,numOnce)\n",
    "    # ax1.plot(ageWeekDays,numNone)\n",
    "    # ax1.plot(ageWeekDays,currOnce)\n",
    "    ax1.fill_between(ageWeekDays,currOnce,prevOnce,label=curLabel,color=cmap(k))\n",
    "    ax2.fill_between(ageWeekDays,currNone,prevNone,label=curLabel,color=cmap(k))\n",
    "    # ax1.fill_between(ageWeekDays,currOnce)\n",
    "\n",
    "    prevOnce +=  numOnce\n",
    "    prevNone +=  numNone\n",
    "\n",
    "    # ax1.plot(ageWeekDays,numOnce)\n",
    "    # ax1.plot(ageWeekDays,numFull)\n",
    "    # ax1.plot(ageWeekDays,numNone)\n",
    "    \n",
    "    # ax1.plot(ageWeekDays,curPop*(100-ageVaccOnce),'-*',label=curLabel)\n",
    "    # ax2.plot(ageWeekDays,curPop*(100-ageVaccFull),'-*',label=curLabel)\n",
    "\n",
    "# ax2.fill_between(ageWeekDays,currNone,color='k',label='Resterende')\n",
    "\n",
    "# ax2.fill_between(ageWeekDays,restPop * np.ones(ageVaccOnce.values.shape),color='k',label='Resterende')\n",
    "\n",
    "ax1.set_ylim(bottom=0)\n",
    "ax2.set_ylim(bottom=0)\n",
    "\n",
    "# ax1.set_xlim(left=ageWeekDays.values[0],right=ageWeekDays.values[-1]+np.timedelta64(2,'D'))\n",
    "ax1.set_xlim(left=np.datetime64('2021-01-01'),right=ageWeekDays.values[-1]+np.timedelta64(2,'D'))\n",
    "\n",
    "ax1.grid()\n",
    "ax2.grid()\n",
    "ax1.set_axisbelow(True)\n",
    "ax2.set_axisbelow(True)\n",
    "\n",
    "\n",
    "ax1.xaxis.set_major_formatter(mdates.DateFormatter('%b'))\n",
    "\n",
    "ax1.set_ylabel('Antal vaccinerede')\n",
    "ax2.set_ylabel('Antal uvaccinerede')\n",
    "\n",
    "ax2.legend(loc='upper left',fontsize=12, bbox_to_anchor=(1.05, 1))\n",
    "\n",
    "ax1.ticklabel_format(axis='y',style='plain')\n",
    "ax2.ticklabel_format(axis='y',style='plain')\n",
    "\n",
    "plt.tight_layout()\n",
    "\n",
    "if saveFigures:\n",
    "    plt.savefig('figsVacc/TotalVaccOgUvacc_Stacked')\n",
    "    \n",
    "    \n",
    "ax1.set_xlim(left=np.datetime64('2021-06-15'),right=ageWeekDays.values[-1]+np.timedelta64(2,'D'))\n",
    "ax2.set_ylim(top=3e6)\n",
    "\n",
    "ax1.xaxis.set_major_formatter(mdates.DateFormatter('%d.\\n%b'))\n",
    "\n",
    "if saveFigures:\n",
    "    plt.savefig('figsVacc/TotalVaccOgUvacc_Stacked_Zoom')"
   ]
  },
  {
   "cell_type": "code",
   "execution_count": 28,
   "metadata": {},
   "outputs": [],
   "source": [
    "# currOnce"
   ]
  },
  {
   "cell_type": "code",
   "execution_count": 29,
   "metadata": {},
   "outputs": [
    {
     "data": {
      "application/vnd.jupyter.widget-view+json": {
       "model_id": "ccd0c8f172c3471fbfb20e612043c961",
       "version_major": 2,
       "version_minor": 0
      },
      "text/plain": [
       "Canvas(toolbar=Toolbar(toolitems=[('Home', 'Reset original view', 'home', 'home'), ('Back', 'Back to previous …"
      ]
     },
     "metadata": {},
     "output_type": "display_data"
    },
    {
     "ename": "ValueError",
     "evalue": "operands could not be broadcast together with shapes (47,) (33,) (47,) ",
     "output_type": "error",
     "traceback": [
      "\u001b[1;31m---------------------------------------------------------------------------\u001b[0m",
      "\u001b[1;31mValueError\u001b[0m                                Traceback (most recent call last)",
      "\u001b[1;32m<ipython-input-29-10161d4d4d37>\u001b[0m in \u001b[0;36m<module>\u001b[1;34m\u001b[0m\n\u001b[0;32m     42\u001b[0m     \u001b[1;31m# print(k)\u001b[0m\u001b[1;33m\u001b[0m\u001b[1;33m\u001b[0m\u001b[1;33m\u001b[0m\u001b[0m\n\u001b[0;32m     43\u001b[0m     \u001b[1;31m# print(numOnce.shape)\u001b[0m\u001b[1;33m\u001b[0m\u001b[1;33m\u001b[0m\u001b[1;33m\u001b[0m\u001b[0m\n\u001b[1;32m---> 44\u001b[1;33m     \u001b[0mcurrOnce\u001b[0m \u001b[1;33m+=\u001b[0m \u001b[0mnumOnce\u001b[0m\u001b[1;33m\u001b[0m\u001b[1;33m\u001b[0m\u001b[0m\n\u001b[0m\u001b[0;32m     45\u001b[0m     \u001b[1;31m# currOnce += numNone\u001b[0m\u001b[1;33m\u001b[0m\u001b[1;33m\u001b[0m\u001b[1;33m\u001b[0m\u001b[0m\n\u001b[0;32m     46\u001b[0m     \u001b[1;31m# currOnce += currOnce\u001b[0m\u001b[1;33m\u001b[0m\u001b[1;33m\u001b[0m\u001b[1;33m\u001b[0m\u001b[0m\n",
      "\u001b[1;31mValueError\u001b[0m: operands could not be broadcast together with shapes (47,) (33,) (47,) "
     ]
    }
   ],
   "source": [
    "fig,(ax1,ax2) = plt.subplots(2,1,sharex=True,figsize=(18,14))\n",
    " \n",
    "restPop = df_noegle[df_noegle['Målgruppe'] == allGroups[len(allGroups)-1]].Population.astype(int).sum()\n",
    "fullPop = df_noegle.Population.astype(int).sum()\n",
    "\n",
    "curdf = df_weekly[df_weekly['Målgruppe'] == allGroups[0]]\n",
    "ageVaccOnce = pd.to_numeric(curdf['Dækning førstegangsvaccinerede (kumulativt i %)'])\n",
    "\n",
    "# currOnce = np.zeros(ageVaccOnce.values.shape)\n",
    "# prevOnce = np.zeros(ageVaccOnce.values.shape)\n",
    "currOnce = np.zeros(ageVaccOnce.values.shape)\n",
    "prevOnce = np.zeros(ageVaccOnce.values.shape)\n",
    "# currNone = restPop * np.ones(ageVaccOnce.values.shape)\n",
    "# prevNone = restPop * np.ones(ageVaccOnce.values.shape)\n",
    "currNone = np.zeros(ageVaccOnce.values.shape)\n",
    "prevNone = np.zeros(ageVaccOnce.values.shape)\n",
    "\n",
    "\n",
    "cmap = cm.get_cmap('Spectral',len(allGroups))\n",
    "\n",
    "# allWeeks = df_weekly.Ugenummer.apply(lambda x: np.datetime64(datetime.datetime.strptime(x + '-1', \"%Y-W%W-%w\")))\n",
    "\n",
    "\n",
    "# for k in range(7,16):\n",
    "for k in range(0,len(allGroups)):\n",
    "    curdf = df_weekly[df_weekly['Målgruppe'] == allGroups[k]]\n",
    "\n",
    "    curPop = df_noegle[df_noegle['Målgruppe'] == allGroups[k]].Population.astype(int).sum()\n",
    "\n",
    "    curLabel = allGroups[k]\n",
    "\n",
    "    ageWeekDays = curdf.Ugenummer.apply(lambda x: np.datetime64(datetime.datetime.strptime(x + '-1', \"%Y-W%W-%w\")))\n",
    "\n",
    "    ageVaccOnce = pd.to_numeric(curdf['Dækning førstegangsvaccinerede (kumulativt i %)'])\n",
    "    ageVaccFull = pd.to_numeric(curdf['Dækning færdigvaccinerede (kumulativt i %)'])\n",
    "\n",
    "    numOnce = curPop * (ageVaccOnce.values/100)\n",
    "    numFull = curPop * (ageVaccFull/100)\n",
    "    numNone = curPop * (100 - ageVaccOnce.values)/100\n",
    "    # numNone = curPop - numOnce\n",
    "\n",
    "    # print(k)\n",
    "    # print(numOnce.shape)\n",
    "    currOnce += numOnce\n",
    "    # currOnce += numNone\n",
    "    # currOnce += currOnce\n",
    "    currNone += numNone\n",
    "\n",
    "    # ax1.plot(ageWeekDays,numOnce)\n",
    "    # ax1.plot(ageWeekDays,numNone)\n",
    "    # ax1.plot(ageWeekDays,currOnce)\n",
    "    ax1.fill_between(ageWeekDays,currOnce,prevOnce,label=curLabel,color=cmap(k))\n",
    "    ax2.fill_between(ageWeekDays,currNone,prevNone,label=curLabel,color=cmap(k))\n",
    "    # ax1.fill_between(ageWeekDays,currOnce)\n",
    "\n",
    "    prevOnce +=  numOnce\n",
    "    prevNone +=  numNone\n",
    "\n",
    "# ax2.fill_between(ageWeekDays,restPop * np.ones(ageVaccOnce.values.shape),color='k',label='Resterende')\n",
    "\n",
    "ax1.set_ylim(bottom=0)\n",
    "ax2.set_ylim(bottom=0)\n",
    "\n",
    "ax1.set_xlim(left=ageWeekDays.values[0],right=ageWeekDays.values[-1]+np.timedelta64(2,'D'))\n",
    "\n",
    "ax1.grid()\n",
    "ax2.grid()\n",
    "ax1.set_axisbelow(True)\n",
    "ax2.set_axisbelow(True)\n",
    "\n",
    "ax1.set_ylabel('Antal vaccinerede')\n",
    "ax2.set_ylabel('Antal uvaccinerede')\n",
    "\n",
    "ax2.legend(loc='upper left',fontsize=10, bbox_to_anchor=(1.05, 1))\n",
    "\n",
    "ax1.ticklabel_format(axis='y',style='plain')\n",
    "ax2.ticklabel_format(axis='y',style='plain')\n",
    "\n",
    "plt.tight_layout()\n",
    "\n",
    "if saveFigures:\n",
    "    plt.savefig('figsVacc/TotalVaccOgUvacc_StackedReversed')"
   ]
  },
  {
   "cell_type": "code",
   "execution_count": null,
   "metadata": {},
   "outputs": [
    {
     "data": {
      "text/html": [
       "<div>\n",
       "<style scoped>\n",
       "    .dataframe tbody tr th:only-of-type {\n",
       "        vertical-align: middle;\n",
       "    }\n",
       "\n",
       "    .dataframe tbody tr th {\n",
       "        vertical-align: top;\n",
       "    }\n",
       "\n",
       "    .dataframe thead th {\n",
       "        text-align: right;\n",
       "    }\n",
       "</style>\n",
       "<table border=\"1\" class=\"dataframe\">\n",
       "  <thead>\n",
       "    <tr style=\"text-align: right;\">\n",
       "      <th></th>\n",
       "      <th>Ugenummer</th>\n",
       "      <th>Målgruppe</th>\n",
       "      <th>Dækning førstegangsvaccinerede (kumulativt i %)</th>\n",
       "      <th>Dækning færdigvaccinerede (kumulativt i %)</th>\n",
       "    </tr>\n",
       "  </thead>\n",
       "  <tbody>\n",
       "    <tr>\n",
       "      <th>194</th>\n",
       "      <td>2021-W09</td>\n",
       "      <td>Resterende</td>\n",
       "      <td>0.00</td>\n",
       "      <td>0.00</td>\n",
       "    </tr>\n",
       "    <tr>\n",
       "      <th>324</th>\n",
       "      <td>2021-W17</td>\n",
       "      <td>Resterende</td>\n",
       "      <td>0.00</td>\n",
       "      <td>0.00</td>\n",
       "    </tr>\n",
       "    <tr>\n",
       "      <th>358</th>\n",
       "      <td>2021-W19</td>\n",
       "      <td>Resterende</td>\n",
       "      <td>0.00</td>\n",
       "      <td>0.00</td>\n",
       "    </tr>\n",
       "    <tr>\n",
       "      <th>393</th>\n",
       "      <td>2021-W21</td>\n",
       "      <td>Resterende</td>\n",
       "      <td>0.00</td>\n",
       "      <td>0.00</td>\n",
       "    </tr>\n",
       "    <tr>\n",
       "      <th>411</th>\n",
       "      <td>2021-W22</td>\n",
       "      <td>Resterende</td>\n",
       "      <td>0.00</td>\n",
       "      <td>0.00</td>\n",
       "    </tr>\n",
       "    <tr>\n",
       "      <th>429</th>\n",
       "      <td>2021-W23</td>\n",
       "      <td>Resterende</td>\n",
       "      <td>0.00</td>\n",
       "      <td>0.00</td>\n",
       "    </tr>\n",
       "    <tr>\n",
       "      <th>447</th>\n",
       "      <td>2021-W24</td>\n",
       "      <td>Resterende</td>\n",
       "      <td>0.00</td>\n",
       "      <td>0.00</td>\n",
       "    </tr>\n",
       "    <tr>\n",
       "      <th>499</th>\n",
       "      <td>2021-W27</td>\n",
       "      <td>Resterende</td>\n",
       "      <td>0.00</td>\n",
       "      <td>0.00</td>\n",
       "    </tr>\n",
       "    <tr>\n",
       "      <th>517</th>\n",
       "      <td>2021-W28</td>\n",
       "      <td>Resterende</td>\n",
       "      <td>0.00</td>\n",
       "      <td>0.00</td>\n",
       "    </tr>\n",
       "    <tr>\n",
       "      <th>535</th>\n",
       "      <td>2021-W29</td>\n",
       "      <td>Resterende</td>\n",
       "      <td>0.00</td>\n",
       "      <td>0.00</td>\n",
       "    </tr>\n",
       "    <tr>\n",
       "      <th>553</th>\n",
       "      <td>2021-W30</td>\n",
       "      <td>Resterende</td>\n",
       "      <td>0.00</td>\n",
       "      <td>0.00</td>\n",
       "    </tr>\n",
       "    <tr>\n",
       "      <th>605</th>\n",
       "      <td>2021-W33</td>\n",
       "      <td>Resterende</td>\n",
       "      <td>0.00</td>\n",
       "      <td>0.00</td>\n",
       "    </tr>\n",
       "    <tr>\n",
       "      <th>623</th>\n",
       "      <td>2021-W34</td>\n",
       "      <td>Resterende</td>\n",
       "      <td>0.00</td>\n",
       "      <td>0.00</td>\n",
       "    </tr>\n",
       "    <tr>\n",
       "      <th>641</th>\n",
       "      <td>2021-W35</td>\n",
       "      <td>Resterende</td>\n",
       "      <td>0.00</td>\n",
       "      <td>0.00</td>\n",
       "    </tr>\n",
       "    <tr>\n",
       "      <th>658</th>\n",
       "      <td>2021-W36</td>\n",
       "      <td>Resterende</td>\n",
       "      <td>0.00</td>\n",
       "      <td>0.00</td>\n",
       "    </tr>\n",
       "    <tr>\n",
       "      <th>675</th>\n",
       "      <td>2021-W37</td>\n",
       "      <td>Resterende</td>\n",
       "      <td>0.00</td>\n",
       "      <td>0.00</td>\n",
       "    </tr>\n",
       "  </tbody>\n",
       "</table>\n",
       "</div>"
      ],
      "text/plain": [
       "    Ugenummer   Målgruppe Dækning førstegangsvaccinerede (kumulativt i %)  \\\n",
       "194  2021-W09  Resterende                                            0.00   \n",
       "324  2021-W17  Resterende                                            0.00   \n",
       "358  2021-W19  Resterende                                            0.00   \n",
       "393  2021-W21  Resterende                                            0.00   \n",
       "411  2021-W22  Resterende                                            0.00   \n",
       "429  2021-W23  Resterende                                            0.00   \n",
       "447  2021-W24  Resterende                                            0.00   \n",
       "499  2021-W27  Resterende                                            0.00   \n",
       "517  2021-W28  Resterende                                            0.00   \n",
       "535  2021-W29  Resterende                                            0.00   \n",
       "553  2021-W30  Resterende                                            0.00   \n",
       "605  2021-W33  Resterende                                            0.00   \n",
       "623  2021-W34  Resterende                                            0.00   \n",
       "641  2021-W35  Resterende                                            0.00   \n",
       "658  2021-W36  Resterende                                            0.00   \n",
       "675  2021-W37  Resterende                                            0.00   \n",
       "\n",
       "    Dækning færdigvaccinerede (kumulativt i %)  \n",
       "194                                       0.00  \n",
       "324                                       0.00  \n",
       "358                                       0.00  \n",
       "393                                       0.00  \n",
       "411                                       0.00  \n",
       "429                                       0.00  \n",
       "447                                       0.00  \n",
       "499                                       0.00  \n",
       "517                                       0.00  \n",
       "535                                       0.00  \n",
       "553                                       0.00  \n",
       "605                                       0.00  \n",
       "623                                       0.00  \n",
       "641                                       0.00  \n",
       "658                                       0.00  \n",
       "675                                       0.00  "
      ]
     },
     "execution_count": 28,
     "metadata": {},
     "output_type": "execute_result"
    }
   ],
   "source": [
    "df_weekly[df_weekly['Målgruppe'] == allGroups[-1]]"
   ]
  },
  {
   "cell_type": "code",
   "execution_count": 30,
   "metadata": {},
   "outputs": [
    {
     "data": {
      "application/vnd.jupyter.widget-view+json": {
       "model_id": "44eaac0a115c4b288d78bdee112507dc",
       "version_major": 2,
       "version_minor": 0
      },
      "text/plain": [
       "Canvas(toolbar=Toolbar(toolitems=[('Home', 'Reset original view', 'home', 'home'), ('Back', 'Back to previous …"
      ]
     },
     "metadata": {},
     "output_type": "display_data"
    }
   ],
   "source": [
    "# Fungerer nok bedre som barchart\n",
    "\n",
    "\n",
    "# latestWeek = df_weekly.Ugenummer.max()\n",
    "# df_weekly[df_weekly.Ugenummer == latestWeek]\n",
    "\n",
    "# Data er i df_noegle\n",
    "\n",
    "allNone = []\n",
    "allOnce = []\n",
    "allFull = []\n",
    "\n",
    "\n",
    "for k in range(0,len(allGroups)):\n",
    "    curLabel = allGroups[k]\n",
    "    curdf = df_noegle[df_noegle['Målgruppe'] == allGroups[k]]\n",
    "\n",
    "    curPop = curdf.Population.astype(int).sum()\n",
    "\n",
    "    numOnce = curdf['Antal førstevaccinerede'].astype(int).sum()\n",
    "    numFull = curdf['Antal færdigvaccinerede'].astype(int).sum()\n",
    "    numNone = curPop - numOnce\n",
    "\n",
    "    allNone.append(numNone)\n",
    "    allOnce.append(numOnce)\n",
    "    allFull.append(numFull)\n",
    "# df_noegle\n",
    "# allFull\n",
    "\n",
    "fig,ax1 = plt.subplots()\n",
    "\n",
    "ax1.bar(allGroups,allNone,bottom=allOnce,color='k',label='Ikke vaccineret')\n",
    "ax1.bar(allGroups,allOnce,color='xkcd:light green',label='Første dosis')\n",
    "ax1.bar(allGroups,allFull,color='green',label='Færdigvaccineret')\n",
    "\n",
    "# ax1.set_xticklabels(fontsize=6)\n",
    "plt.xticks(fontsize= 8,rotation=90)\n",
    "# ax1.bar(range(0,len(allGroups)),allNone,bottom=allOnce)\n",
    "# ax1.bar(range(0,len(allGroups)),allOnce)\n",
    "\n",
    "ax1.ticklabel_format(axis='y',style='plain')\n",
    "\n",
    "ax1.legend()\n",
    "\n",
    "ax1.set_title('Hele landet')\n",
    "\n",
    "plt.tight_layout()\n",
    "\n",
    "\n",
    "if saveFigures:\n",
    "    plt.savefig('figsVacc/CountVacc_Danmark')"
   ]
  },
  {
   "cell_type": "code",
   "execution_count": 31,
   "metadata": {},
   "outputs": [
    {
     "data": {
      "text/html": [
       "<div>\n",
       "<style scoped>\n",
       "    .dataframe tbody tr th:only-of-type {\n",
       "        vertical-align: middle;\n",
       "    }\n",
       "\n",
       "    .dataframe tbody tr th {\n",
       "        vertical-align: top;\n",
       "    }\n",
       "\n",
       "    .dataframe thead th {\n",
       "        text-align: right;\n",
       "    }\n",
       "</style>\n",
       "<table border=\"1\" class=\"dataframe\">\n",
       "  <thead>\n",
       "    <tr style=\"text-align: right;\">\n",
       "      <th></th>\n",
       "      <th>Målgruppe</th>\n",
       "      <th>Ansættelsessted</th>\n",
       "      <th>Bopælsregion</th>\n",
       "      <th>Population</th>\n",
       "      <th>Antal førstevaccinerede</th>\n",
       "      <th>Antal færdigvaccinerede</th>\n",
       "      <th>Førstegangs vaccinerede dækning (%)</th>\n",
       "      <th>Færdigvaccinerede dækning (%)</th>\n",
       "    </tr>\n",
       "  </thead>\n",
       "  <tbody>\n",
       "    <tr>\n",
       "      <th>130</th>\n",
       "      <td>Resterende</td>\n",
       "      <td>NaN</td>\n",
       "      <td>Hovedstaden</td>\n",
       "      <td>241375</td>\n",
       "      <td>18</td>\n",
       "      <td>5</td>\n",
       "      <td>0.0</td>\n",
       "      <td>0.0</td>\n",
       "    </tr>\n",
       "    <tr>\n",
       "      <th>131</th>\n",
       "      <td>Resterende</td>\n",
       "      <td>NaN</td>\n",
       "      <td>Midtjylland</td>\n",
       "      <td>171920</td>\n",
       "      <td>8</td>\n",
       "      <td>1</td>\n",
       "      <td>0.0</td>\n",
       "      <td>0.0</td>\n",
       "    </tr>\n",
       "    <tr>\n",
       "      <th>132</th>\n",
       "      <td>Resterende</td>\n",
       "      <td>NaN</td>\n",
       "      <td>Nordjylland</td>\n",
       "      <td>70143</td>\n",
       "      <td>1</td>\n",
       "      <td>0</td>\n",
       "      <td>0.0</td>\n",
       "      <td>0.0</td>\n",
       "    </tr>\n",
       "    <tr>\n",
       "      <th>133</th>\n",
       "      <td>Resterende</td>\n",
       "      <td>NaN</td>\n",
       "      <td>Sjælland</td>\n",
       "      <td>99740</td>\n",
       "      <td>2</td>\n",
       "      <td>1</td>\n",
       "      <td>0.0</td>\n",
       "      <td>0.0</td>\n",
       "    </tr>\n",
       "    <tr>\n",
       "      <th>134</th>\n",
       "      <td>Resterende</td>\n",
       "      <td>NaN</td>\n",
       "      <td>Syddanmark</td>\n",
       "      <td>149237</td>\n",
       "      <td>6</td>\n",
       "      <td>2</td>\n",
       "      <td>0.0</td>\n",
       "      <td>0.0</td>\n",
       "    </tr>\n",
       "  </tbody>\n",
       "</table>\n",
       "</div>"
      ],
      "text/plain": [
       "      Målgruppe Ansættelsessted Bopælsregion Population  \\\n",
       "130  Resterende             NaN  Hovedstaden     241375   \n",
       "131  Resterende             NaN  Midtjylland     171920   \n",
       "132  Resterende             NaN  Nordjylland      70143   \n",
       "133  Resterende             NaN     Sjælland      99740   \n",
       "134  Resterende             NaN   Syddanmark     149237   \n",
       "\n",
       "    Antal førstevaccinerede Antal færdigvaccinerede  \\\n",
       "130                      18                       5   \n",
       "131                       8                       1   \n",
       "132                       1                       0   \n",
       "133                       2                       1   \n",
       "134                       6                       2   \n",
       "\n",
       "    Førstegangs vaccinerede dækning (%) Færdigvaccinerede dækning (%)  \n",
       "130                                 0.0                           0.0  \n",
       "131                                 0.0                           0.0  \n",
       "132                                 0.0                           0.0  \n",
       "133                                 0.0                           0.0  \n",
       "134                                 0.0                           0.0  "
      ]
     },
     "execution_count": 31,
     "metadata": {},
     "output_type": "execute_result"
    }
   ],
   "source": [
    "curdf"
   ]
  },
  {
   "cell_type": "code",
   "execution_count": 32,
   "metadata": {},
   "outputs": [
    {
     "data": {
      "application/vnd.jupyter.widget-view+json": {
       "model_id": "b7147dbc4fd447b28746904b84363aeb",
       "version_major": 2,
       "version_minor": 0
      },
      "text/plain": [
       "Canvas(toolbar=Toolbar(toolitems=[('Home', 'Reset original view', 'home', 'home'), ('Back', 'Back to previous …"
      ]
     },
     "metadata": {},
     "output_type": "display_data"
    },
    {
     "data": {
      "application/vnd.jupyter.widget-view+json": {
       "model_id": "672455ea199e454b8cfdb6d3e268235e",
       "version_major": 2,
       "version_minor": 0
      },
      "text/plain": [
       "Canvas(toolbar=Toolbar(toolitems=[('Home', 'Reset original view', 'home', 'home'), ('Back', 'Back to previous …"
      ]
     },
     "metadata": {},
     "output_type": "display_data"
    },
    {
     "data": {
      "application/vnd.jupyter.widget-view+json": {
       "model_id": "d7d03064b9824d54a665f9a7737ce879",
       "version_major": 2,
       "version_minor": 0
      },
      "text/plain": [
       "Canvas(toolbar=Toolbar(toolitems=[('Home', 'Reset original view', 'home', 'home'), ('Back', 'Back to previous …"
      ]
     },
     "metadata": {},
     "output_type": "display_data"
    },
    {
     "data": {
      "application/vnd.jupyter.widget-view+json": {
       "model_id": "b8be9633a6e34715b338c45de3ea84f3",
       "version_major": 2,
       "version_minor": 0
      },
      "text/plain": [
       "Canvas(toolbar=Toolbar(toolitems=[('Home', 'Reset original view', 'home', 'home'), ('Back', 'Back to previous …"
      ]
     },
     "metadata": {},
     "output_type": "display_data"
    },
    {
     "data": {
      "application/vnd.jupyter.widget-view+json": {
       "model_id": "515c8213320e432a9af285bf45a17745",
       "version_major": 2,
       "version_minor": 0
      },
      "text/plain": [
       "Canvas(toolbar=Toolbar(toolitems=[('Home', 'Reset original view', 'home', 'home'), ('Back', 'Back to previous …"
      ]
     },
     "metadata": {},
     "output_type": "display_data"
    }
   ],
   "source": [
    "for reg in df_noegle['Bopælsregion'].unique():\n",
    "\n",
    "    allNone = []\n",
    "    allOnce = []\n",
    "    allFull = []\n",
    "\n",
    "    for k in range(0,len(allGroups)):\n",
    "        curLabel = allGroups[k]\n",
    "        curdf = df_noegle[df_noegle['Målgruppe'] == allGroups[k]]\n",
    "        curdf = curdf[curdf['Bopælsregion'] == reg]\n",
    "\n",
    "        curPop = curdf.Population.astype(int).sum()\n",
    "\n",
    "        numOnce = curdf['Antal førstevaccinerede'].astype(int).sum()\n",
    "        numFull = curdf['Antal færdigvaccinerede'].astype(int).sum()\n",
    "        numNone = curPop - numOnce\n",
    "\n",
    "        allNone.append(numNone)\n",
    "        allOnce.append(numOnce)\n",
    "        allFull.append(numFull)\n",
    "    # df_noegle\n",
    "    # allFull\n",
    "\n",
    "    fig,ax1 = plt.subplots()\n",
    "\n",
    "    ax1.bar(allGroups,allNone,bottom=allOnce,color='k',label='Ikke vaccineret')\n",
    "    ax1.bar(allGroups,allOnce,color='xkcd:light green',label='Første dosis')\n",
    "    ax1.bar(allGroups,allFull,color='green',label='Færdigvaccineret')\n",
    "\n",
    "    # ax1.set_xticklabels(fontsize=6)\n",
    "    plt.xticks(fontsize= 8,rotation=90)\n",
    "    # ax1.bar(range(0,len(allGroups)),allNone,bottom=allOnce)\n",
    "    # ax1.bar(range(0,len(allGroups)),allOnce)\n",
    "\n",
    "    ax1.ticklabel_format(axis='y',style='plain')\n",
    "\n",
    "    ax1.legend()\n",
    "\n",
    "    ax1.set_title(reg)\n",
    "\n",
    "    plt.tight_layout()\n",
    "\n",
    "    if saveFigures:\n",
    "        plt.savefig('figsVacc/CountVacc_'+reg)"
   ]
  },
  {
   "cell_type": "code",
   "execution_count": 33,
   "metadata": {},
   "outputs": [
    {
     "data": {
      "application/vnd.jupyter.widget-view+json": {
       "model_id": "8404a0ed852c4af9bf06732f5fb64c23",
       "version_major": 2,
       "version_minor": 0
      },
      "text/plain": [
       "Canvas(toolbar=Toolbar(toolitems=[('Home', 'Reset original view', 'home', 'home'), ('Back', 'Back to previous …"
      ]
     },
     "metadata": {},
     "output_type": "display_data"
    }
   ],
   "source": [
    "# Fungerer nok bedre som barchart\n",
    "\n",
    "\n",
    "# latestWeek = df_weekly.Ugenummer.max()\n",
    "# df_weekly[df_weekly.Ugenummer == latestWeek]\n",
    "\n",
    "# Data er i df_noegle\n",
    "\n",
    "allNone = []\n",
    "allOnce = []\n",
    "allFull = []\n",
    "\n",
    "groupsToShow = allGroups[:-1]\n",
    "for k in range(0,len(groupsToShow)):\n",
    "    curLabel = groupsToShow[k]\n",
    "    curdf = df_noegle[df_noegle['Målgruppe'] == groupsToShow[k]]\n",
    "\n",
    "    curPop = curdf.Population.astype(int).sum()\n",
    "\n",
    "    numOnce = curdf['Antal førstevaccinerede'].astype(int).sum()\n",
    "    numFull = curdf['Antal færdigvaccinerede'].astype(int).sum()\n",
    "    numNone = curPop - numOnce\n",
    "\n",
    "    allNone.append(numNone)\n",
    "    allOnce.append(numOnce)\n",
    "    allFull.append(numFull)\n",
    "# df_noegle\n",
    "# allFull\n",
    "\n",
    "fig,ax1 = plt.subplots()\n",
    "\n",
    "ax1.bar(groupsToShow,allNone,color='k',label='Ikke vaccineret')\n",
    "# ax1.bar(groupsToShow,allOnce,bottom=allNone,color='xkcd:light green',label='Første dosis')\n",
    "# ax1.bar(groupsToShow,allFull,bottom=allNone,color='green',label='Færdigvaccineret')\n",
    "\n",
    "# ax1.set_xticklabels(fontsize=6)\n",
    "plt.xticks(fontsize= 8,rotation=90)\n",
    "# ax1.bar(range(0,len(allGroups)),allNone,bottom=allOnce)\n",
    "# ax1.bar(range(0,len(allGroups)),allOnce)\n",
    "\n",
    "ax1.ticklabel_format(axis='y',style='plain')\n",
    "\n",
    "ax1.legend()\n",
    "\n",
    "ax1.set_title('Hele landet')\n",
    "\n",
    "plt.tight_layout()\n",
    "\n",
    "\n",
    "if saveFigures:\n",
    "    plt.savefig('figsVacc/CountUvacc_Danmark')"
   ]
  },
  {
   "cell_type": "code",
   "execution_count": 34,
   "metadata": {},
   "outputs": [
    {
     "data": {
      "application/vnd.jupyter.widget-view+json": {
       "model_id": "5b20955940e74e0fbf3436e8c4535333",
       "version_major": 2,
       "version_minor": 0
      },
      "text/plain": [
       "Canvas(toolbar=Toolbar(toolitems=[('Home', 'Reset original view', 'home', 'home'), ('Back', 'Back to previous …"
      ]
     },
     "metadata": {},
     "output_type": "display_data"
    }
   ],
   "source": [
    "# Fungerer nok bedre som barchart\n",
    "\n",
    "\n",
    "# latestWeek = df_weekly.Ugenummer.max()\n",
    "# df_weekly[df_weekly.Ugenummer == latestWeek]\n",
    "\n",
    "# Data er i df_noegle\n",
    "\n",
    "allNone = []\n",
    "allOnce = []\n",
    "allFull = []\n",
    "\n",
    "groupsToShow = allGroups[:-1]\n",
    "# groupsToShow = allGroups\n",
    "for k in range(0,len(groupsToShow)):\n",
    "    curLabel = groupsToShow[k]\n",
    "    curdf = df_noegle[df_noegle['Målgruppe'] == groupsToShow[k]]\n",
    "\n",
    "    curPop = curdf.Population.astype(int).sum()\n",
    "\n",
    "    numOnce = curdf['Antal førstevaccinerede'].astype(int).sum()\n",
    "    numFull = curdf['Antal færdigvaccinerede'].astype(int).sum()\n",
    "    numNone = curPop - numOnce\n",
    "\n",
    "    allNone.append(100*numNone/curPop)\n",
    "    allOnce.append(100*numOnce/curPop)\n",
    "    allFull.append(100*numFull/curPop)\n",
    "# df_noegle\n",
    "# allFull\n",
    "\n",
    "fig,ax1 = plt.subplots()\n",
    "\n",
    "ax1.bar(groupsToShow,allNone,color='k',label='Ikke vaccineret')\n",
    "# ax1.bar(groupsToShow,allOnce,bottom=allNone,color='xkcd:light green',label='Første dosis')\n",
    "# ax1.bar(groupsToShow,allFull,bottom=allNone,color='green',label='Færdigvaccineret')\n",
    "\n",
    "# ax1.set_xticklabels(fontsize=6)\n",
    "plt.xticks(fontsize= 8,rotation=90)\n",
    "# ax1.bar(range(0,len(allGroups)),allNone,bottom=allOnce)\n",
    "# ax1.bar(range(0,len(allGroups)),allOnce)\n",
    "\n",
    "ax1.ticklabel_format(axis='y',style='plain')\n",
    "\n",
    "# ax1.legend()\n",
    "ax1.set_ylabel('Andel uvaccinerede [%]')\n",
    "\n",
    "ax1.set_title('Hele landet')\n",
    "\n",
    "plt.tight_layout()\n",
    "\n",
    "\n",
    "if saveFigures:\n",
    "    plt.savefig('figsVacc/CountUvacc_Danmark_Norm')"
   ]
  },
  {
   "cell_type": "code",
   "execution_count": null,
   "metadata": {},
   "outputs": [],
   "source": [
    "dfCase = pd.read_csv('DKDailyAgeCase.csv')\n",
    "# dfDeath.to_csv('DKDailyAgeDeath.csv')\n",
    "dfCase.Dato = pd.to_datetime(dfCase.Dato)"
   ]
  },
  {
   "cell_type": "code",
   "execution_count": null,
   "metadata": {},
   "outputs": [
    {
     "data": {
      "text/plain": [
       "array(['1. Plejehjemsbeboere', '11. Personer fra årgang 2006-2009',\n",
       "       '2. Borgere > 65, praktisk hjælp og personlig pleje',\n",
       "       '3. Borgere fra årgang 1936 og derunder (85 år og ældre)',\n",
       "       '4. Personale i sundhedsvæsenet og dele af socialvæsenet',\n",
       "       '5. Udvalgte patienter med særligt øget risiko',\n",
       "       '6. Udvalgte pårørende til personer med særligt øget risiko',\n",
       "       '7. Personer fra årgang 1937-1941',\n",
       "       '8. Personer fra årgang 1942-1946',\n",
       "       '9. Personer fra årgang 1947-1956',\n",
       "       '10A. Personer fra årgang 1957-1961',\n",
       "       '10B. Personer fra årgang 1962-1966',\n",
       "       '10C. Personer fra årgang 1967-1971',\n",
       "       '10D1. Personer fra årgang 1972-1976 og årgang 2002-2005',\n",
       "       '10D2. Personer fra årgang 1977-1981 og årgang 1997-2001',\n",
       "       '10D3. Personer fra årgang 1982-1986 og årgang 1992-1996',\n",
       "       '10D4. Personer fra årgang 1987-1991', 'Resterende'], dtype=object)"
      ]
     },
     "execution_count": 35,
     "metadata": {},
     "output_type": "execute_result"
    }
   ],
   "source": [
    "allGroups"
   ]
  },
  {
   "cell_type": "code",
   "execution_count": null,
   "metadata": {},
   "outputs": [
    {
     "data": {
      "application/vnd.jupyter.widget-view+json": {
       "model_id": "9406be84259e4344ac25b6741305cf4d",
       "version_major": 2,
       "version_minor": 0
      },
      "text/plain": [
       "Canvas(toolbar=Toolbar(toolitems=[('Home', 'Reset original view', 'home', 'home'), ('Back', 'Back to previous …"
      ]
     },
     "metadata": {},
     "output_type": "display_data"
    },
    {
     "name": "stdout",
     "output_type": "stream",
     "text": [
      "10D2. Personer fra årgang 1977-1981 og årgang 1997-2001\n"
     ]
    },
    {
     "data": {
      "text/plain": [
       "(0.0, 678.05)"
      ]
     },
     "execution_count": 36,
     "metadata": {},
     "output_type": "execute_result"
    }
   ],
   "source": [
    "fig,(ax1,ax2) = plt.subplots(2,1,sharex=True)\n",
    "\n",
    "ax1.plot(dfCase.Dato,dfCase['20-29'])\n",
    "# ax1.plot(dfCase.Dato,dfCase['50-59'])\n",
    "\n",
    "\n",
    "# for k in range(7,16):\n",
    "# for k in range(0,len(allGroups)-1):\n",
    "\n",
    "k = 14\n",
    "print(allGroups[k])\n",
    "curdf = df_weekly[df_weekly['Målgruppe'] == allGroups[k]]\n",
    "\n",
    "curPop = df_noegle[df_noegle['Målgruppe'] == allGroups[k]].Population.astype(int).sum()\n",
    "\n",
    "curLabel = allGroups[k]\n",
    "\n",
    "ageWeekDays = curdf.Ugenummer.apply(lambda x: np.datetime64(datetime.datetime.strptime(x + '-1', \"%Y-W%W-%w\")))\n",
    "\n",
    "ageVaccOnce = pd.to_numeric(curdf['Dækning førstegangsvaccinerede (kumulativt i %)'])\n",
    "ageVaccFull = pd.to_numeric(curdf['Dækning færdigvaccinerede (kumulativt i %)'])\n",
    "\n",
    "numOnce = curPop * (ageVaccOnce.values/100)\n",
    "numFull = curPop * (ageVaccFull/100)\n",
    "numNone = curPop * (100 - ageVaccOnce.values)/100\n",
    "\n",
    "ax2.plot(ageWeekDays,curPop*np.ones(numFull.shape),color='grey') \n",
    "ax2.plot(ageWeekDays,numOnce,color='xkcd:light green') \n",
    "ax2.plot(ageWeekDays,numFull,color='g') \n",
    "\n",
    "k = 13\n",
    "curdf = df_weekly[df_weekly['Målgruppe'] == allGroups[k]]\n",
    "\n",
    "curPop = df_noegle[df_noegle['Målgruppe'] == allGroups[k]].Population.astype(int).sum()\n",
    "\n",
    "curLabel = allGroups[k]\n",
    "\n",
    "ageWeekDays = curdf.Ugenummer.apply(lambda x: np.datetime64(datetime.datetime.strptime(x + '-1', \"%Y-W%W-%w\")))\n",
    "\n",
    "ageVaccOnce = pd.to_numeric(curdf['Dækning førstegangsvaccinerede (kumulativt i %)'])\n",
    "ageVaccFull = pd.to_numeric(curdf['Dækning færdigvaccinerede (kumulativt i %)'])\n",
    "\n",
    "numOnce = curPop * (ageVaccOnce.values/100)\n",
    "numFull = curPop * (ageVaccFull/100)\n",
    "numNone = curPop * (100 - ageVaccOnce.values)/100\n",
    "\n",
    "ax2.plot(ageWeekDays,curPop*np.ones(numFull.shape),color='grey') \n",
    "ax2.plot(ageWeekDays,numOnce,color='xkcd:light green') \n",
    "ax2.plot(ageWeekDays,numFull,color='g') \n",
    "\n",
    "ax2.set_ylabel(curLabel)\n",
    "\n",
    "ax1.set_ylim(bottom=0)"
   ]
  },
  {
   "cell_type": "code",
   "execution_count": null,
   "metadata": {},
   "outputs": [],
   "source": [
    "df_weekly"
   ]
  },
  {
   "cell_type": "code",
   "execution_count": null,
   "metadata": {},
   "outputs": [],
   "source": []
  }
 ],
 "metadata": {
  "interpreter": {
   "hash": "c72cdf52cb3d31f207bca538e9396da8706c0ecf4a3038fb1c2b317934170431"
  },
  "kernelspec": {
   "display_name": "Python 3.8.5 64-bit ('main': conda)",
   "name": "python3"
  },
  "language_info": {
   "codemirror_mode": {
    "name": "ipython",
    "version": 3
   },
   "file_extension": ".py",
   "mimetype": "text/x-python",
   "name": "python",
   "nbconvert_exporter": "python",
   "pygments_lexer": "ipython3",
   "version": "3.8.5"
  },
  "orig_nbformat": 2
 },
 "nbformat": 4,
 "nbformat_minor": 2
}
