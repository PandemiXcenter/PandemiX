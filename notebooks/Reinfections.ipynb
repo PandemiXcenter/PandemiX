{
 "cells": [
  {
   "cell_type": "code",
   "execution_count": 1,
   "metadata": {},
   "outputs": [
    {
     "name": "stdout",
     "output_type": "stream",
     "text": [
      "saveFigures is set to: True\n",
      "Done loading packages\n"
     ]
    }
   ],
   "source": [
    "%matplotlib widget\n",
    "# Load packages and settings\n",
    "import numpy as np\n",
    "import pandas as pd\n",
    "pd.set_option('display.max_rows', 500)\n",
    "pd.set_option('display.min_rows', 50)\n",
    "import seaborn as sns\n",
    "\n",
    "\n",
    "import matplotlib.pyplot as plt\n",
    "plt.rcParams['figure.figsize'] = (12,8)\n",
    "plt.rcParams[\"image.cmap\"] = \"tab10\"\n",
    "plt.rcParams['axes.prop_cycle'] = plt.cycler(color=plt.cm.tab10.colors)\n",
    "fs_label = 16\n",
    "parameters = {\n",
    "                'axes.labelsize': fs_label,\n",
    "                'axes.titlesize': fs_label+4,\n",
    "                'xtick.labelsize': fs_label,\n",
    "                'ytick.labelsize': fs_label, \n",
    "                'legend.fontsize': fs_label, \n",
    "                'lines.markersize': 10,\n",
    "                'lines.linewidth': 3\n",
    "             }\n",
    "plt.rcParams.update(parameters)\n",
    "from matplotlib import cm # Colormaps\n",
    "import matplotlib.colors as colors\n",
    "# cmap = plt.cm.get_cmap('Dark2',len(ageGroups))\n",
    "\n",
    "import locale\n",
    "import matplotlib.dates as mdates\n",
    "locale.setlocale(locale.LC_TIME,\"Danish\")\n",
    "# ax1.xaxis.set_major_formatter(mdates.DateFormatter('%b\\n%Y'))\n",
    "# ax1.spines['top'].set_visible(False) \n",
    "\n",
    "import os\n",
    "# import csv\n",
    "import math\n",
    "\n",
    "from datetime import date\n",
    "\n",
    "\n",
    "saveFigures = True\n",
    "# saveFigures = False\n",
    "print('saveFigures is set to: '+str(saveFigures))\n",
    "\n",
    "print('Done loading packages')\n",
    "\n",
    "# Define running mean functions\n",
    "def rnMean(data,meanWidth):\n",
    "    return np.convolve(data, np.ones(meanWidth)/meanWidth, mode='valid')\n",
    "def rnTime(t,meanWidth):\n",
    "    return t[math.floor(meanWidth/2):-math.ceil(meanWidth/2)+1]"
   ]
  },
  {
   "cell_type": "code",
   "execution_count": 2,
   "metadata": {},
   "outputs": [],
   "source": [
    "# Define paths\n",
    "rootdir_data = os.getcwd() +\"\\\\..\\\\DanskeData\\\\\" \n",
    "\n",
    "path_data = rootdir_data + \"ssi_data\\\\\"\n",
    "path_dash = rootdir_data + \"ssi_dashboard\\\\\"\n",
    "path_vacc = rootdir_data + \"ssi_vacc\\\\\"\n",
    "\n",
    "path_figs = os.getcwd() +\"\\\\..\\\\Figures\\\\\" "
   ]
  },
  {
   "cell_type": "code",
   "execution_count": 3,
   "metadata": {},
   "outputs": [],
   "source": [
    "latestsubdir = list(os.walk(path_dash))[0][1][-1]\n",
    "latestdir = path_dash + latestsubdir\n",
    "\n",
    "df = pd.read_csv(latestdir+'/Regionalt_DB/24_reinfektioner_daglig_region.csv',encoding='latin1',delimiter = ';')\n",
    "df['Prøvedato'] = pd.to_datetime(df['Prøvedato'])\n",
    "# groupdf = df.groupby(['Prøvedato').sum()\n",
    "df_reinf = df[df['Type af tilfælde (reinfektion eller bekræftet tilfælde)'] == '1.Reinfektion'].groupby('Prøvedato').sum()\n",
    "df_inf = df[df['Type af tilfælde (reinfektion eller bekræftet tilfælde)'] != '1.Reinfektion'].groupby('Prøvedato').sum()\n",
    "# df_reinf\n",
    "# groupdf = df.groupby(['Prøvedato', 'Type af tilfælde (reinfektion eller bekræftet tilfælde)']).sum()\n",
    "\n",
    "# kortdf  = pd.read_csv(latestdir+'/Regionalt_DB/13_regionale_kort.csv',encoding='latin1',delimiter = ';')\n",
    "# kortdf"
   ]
  },
  {
   "cell_type": "code",
   "execution_count": 4,
   "metadata": {},
   "outputs": [
    {
     "data": {
      "application/vnd.jupyter.widget-view+json": {
       "model_id": "238610e7ecfe489bb2c41ef5825ce31d",
       "version_major": 2,
       "version_minor": 0
      },
      "text/plain": [
       "Canvas(toolbar=Toolbar(toolitems=[('Home', 'Reset original view', 'home', 'home'), ('Back', 'Back to previous …"
      ]
     },
     "metadata": {},
     "output_type": "display_data"
    }
   ],
   "source": [
    "fig,ax1 = plt.subplots()\n",
    "\n",
    "# ax1.plot(df_inf.index,df_inf.infected,'.:')\n",
    "# ax1.plot(df_reinf.index,df_reinf.infected,'.:')\n",
    "\n",
    "meanWidth=7\n",
    "ax1.plot(df_inf.index,df_inf.infected,'k.:',markersize=4,linewidth=0.5,label='Alle infektioner')\n",
    "ax1.plot(rnTime(df_inf.index,meanWidth),rnMean(df_inf.infected,meanWidth),'k',label=f'Alle infektioner, {meanWidth} dages gennemsnit')\n",
    "ax1.plot(df_reinf.index,df_reinf.infected,'b.:',markersize=4,linewidth=0.5,label='Reinfektion')\n",
    "ax1.plot(rnTime(df_reinf.index,meanWidth),rnMean(df_reinf.infected,meanWidth),'b',label=f'Reinfektion, {meanWidth} dages gennemsnit')\n",
    "ax1.plot(df_reinf.index,df_inf.infected-df_reinf.infected,'m.:',markersize=4,linewidth=0.5,label='Nye infektioner')\n",
    "ax1.plot(rnTime(df_reinf.index,meanWidth),rnMean(df_inf.infected-df_reinf.infected,meanWidth),'m',label=f'Nye infektioner, {meanWidth} dages gennemsnit')\n",
    "\n",
    "firstDate = np.datetime64('2021-10-01')\n",
    "ax1.set_xlim(left=firstDate)\n",
    "ax1.legend(loc='upper left')\n",
    "ax1.grid()\n",
    "ax1.set_ylim(bottom=0)\n",
    "ax1.xaxis.set_major_formatter(mdates.DateFormatter('%d\\n%b'))\n",
    "ax1.spines['top'].set_visible(False) \n",
    "ax1.spines['right'].set_visible(False)\n",
    "\n",
    "ax1.set_ylabel('Antal infektioner')\n",
    "\n",
    "if saveFigures:\n",
    "    fig.savefig(path_figs+'Reinfections/Reinfections_Overview')"
   ]
  },
  {
   "cell_type": "code",
   "execution_count": 5,
   "metadata": {},
   "outputs": [
    {
     "data": {
      "application/vnd.jupyter.widget-view+json": {
       "model_id": "f9076ea4dab849a5b395a62131c33a48",
       "version_major": 2,
       "version_minor": 0
      },
      "text/plain": [
       "Canvas(toolbar=Toolbar(toolitems=[('Home', 'Reset original view', 'home', 'home'), ('Back', 'Back to previous …"
      ]
     },
     "metadata": {},
     "output_type": "display_data"
    }
   ],
   "source": [
    "fig,(ax1,ax2) = plt.subplots(2,1,sharex=True,tight_layout=True)\n",
    "\n",
    "curDates = df_inf.index.values \n",
    "newInf = df_inf.infected.values-df_reinf.infected.values\n",
    "\n",
    "# ax1.plot(df_inf.index,df_inf.infected,'k.:',markersize=4,linewidth=0.5,label='Alle infektioner')\n",
    "# ax1.plot(rnTime(df_inf.index,meanWidth),rnMean(df_inf.infected,meanWidth),'k',label=f'Alle infektioner, {meanWidth} dages gennemsnit')\n",
    "# ax1.plot(df_reinf.index,df_reinf.infected,'b.:',markersize=4,linewidth=0.5,label='Reinfektion')\n",
    "# ax1.plot(rnTime(df_reinf.index,meanWidth),rnMean(df_reinf.infected,meanWidth),'b',label=f'Reinfektion, {meanWidth} dages gennemsnit')\n",
    "# ax1.plot(curDates,newInf,'k.:',markersize=4,linewidth=0.5,label='Nye infektioner')\n",
    "# ax1.plot(rnTime(curDates,meanWidth),rnMean(newInf,meanWidth),'m',label=f'Nye infektioner, {meanWidth} dages gennemsnit')\n",
    "ax1.fill_between(rnTime(curDates,meanWidth),rnMean(newInf,meanWidth),color='k',label=f'Nye infektioner')\n",
    "ax1.fill_between(rnTime(curDates,meanWidth),rnMean(newInf,meanWidth),rnMean(df_inf.infected.values,meanWidth),color='xkcd:darkgreen',label=f'Reinfektioner')\n",
    "\n",
    "curRatio = rnMean(df_inf.infected.values-newInf,meanWidth)/rnMean(df_inf.infected.values,meanWidth)\n",
    "ax2.fill_between(rnTime(curDates,meanWidth),100*np.ones(rnMean(df_inf.infected.values-newInf,meanWidth).shape),color='k')\n",
    "ax2.fill_between(rnTime(curDates,meanWidth),100*curRatio,color='xkcd:darkgreen')\n",
    "\n",
    "ax1.set_xlim(left=firstDate)\n",
    "ax1.legend(loc='upper left')\n",
    "ax1.set_axisbelow(True)\n",
    "ax1.grid()\n",
    "ax2.grid(axis='y')\n",
    "ax1.set_ylim(bottom=0)\n",
    "ax2.set_ylim(bottom=0,top=np.max(curRatio)*1.2*100)\n",
    "ax1.xaxis.set_major_formatter(mdates.DateFormatter('%d\\n%b'))\n",
    "ax1.spines['top'].set_visible(False) \n",
    "ax1.spines['right'].set_visible(False)\n",
    "\n",
    "ax1.set_ylabel('Antal infektioner\\n(7 dages gennemsnit)')\n",
    "ax2.set_ylabel('Andel af infektioner [%]\\n(7 dages gennemsnit)')\n",
    "\n",
    "if saveFigures:\n",
    "    fig.savefig(path_figs+'Reinfections/Reinfections_Stacked')"
   ]
  },
  {
   "cell_type": "code",
   "execution_count": 6,
   "metadata": {},
   "outputs": [],
   "source": [
    "# # curdf = groupdf.loc[allRegions[1],:,:]\n",
    "# # curDates = groupdf.index.get_level_values(0)\n",
    "# # curCase = curdf['Bekræftede tilfælde']\n",
    "# # curAdm = curdf['Indlæggelser']\n",
    "# # curDea = curdf['Døde']\n",
    "# # curDates\n",
    "# groupdf"
   ]
  }
 ],
 "metadata": {
  "interpreter": {
   "hash": "c031fd63bd977d199cd6020c30a19695eacbb638d100e0b8a5ea53080ed74a9a"
  },
  "kernelspec": {
   "display_name": "Python 3.8.12 64-bit ('main': conda)",
   "language": "python",
   "name": "python3"
  },
  "language_info": {
   "codemirror_mode": {
    "name": "ipython",
    "version": 3
   },
   "file_extension": ".py",
   "mimetype": "text/x-python",
   "name": "python",
   "nbconvert_exporter": "python",
   "pygments_lexer": "ipython3",
   "version": "3.8.5"
  },
  "orig_nbformat": 4
 },
 "nbformat": 4,
 "nbformat_minor": 2
}
