{
 "cells": [
  {
   "cell_type": "code",
   "execution_count": 1,
   "metadata": {},
   "outputs": [
    {
     "name": "stdout",
     "output_type": "stream",
     "text": [
      "saveFigures is set to: True\n",
      "Done loading packages\n"
     ]
    }
   ],
   "source": [
    "%matplotlib widget\n",
    "# Load packages and settings\n",
    "import numpy as np\n",
    "import pandas as pd\n",
    "pd.set_option('display.max_rows', 500)\n",
    "pd.set_option('display.min_rows', 50)\n",
    "import seaborn as sns\n",
    "\n",
    "\n",
    "import matplotlib.pyplot as plt\n",
    "\n",
    "plt.rcParams['figure.figsize'] = (12,8)\n",
    "plt.rcParams[\"image.cmap\"] = \"tab10\"\n",
    "plt.rcParams['axes.prop_cycle'] = plt.cycler(color=plt.cm.tab10.colors)\n",
    "fs_label = 16\n",
    "parameters = {\n",
    "                'axes.labelsize': fs_label,\n",
    "                'axes.titlesize': fs_label+4,\n",
    "                'xtick.labelsize': fs_label,\n",
    "                'ytick.labelsize': fs_label, \n",
    "                'legend.fontsize': fs_label, \n",
    "                'lines.markersize': 10,\n",
    "                'lines.linewidth': 3\n",
    "             }\n",
    "plt.rcParams.update(parameters)\n",
    "\n",
    "from matplotlib import cm # Colormaps\n",
    "import matplotlib.colors as colors\n",
    "# cmap = plt.cm.get_cmap('Dark2',len(ageGroups))\n",
    "\n",
    "import locale\n",
    "import matplotlib.dates as mdates\n",
    "locale.setlocale(locale.LC_TIME,\"Danish\")\n",
    "# ax1.xaxis.set_major_formatter(mdates.DateFormatter('%b\\n%Y'))\n",
    "# ax1.spines['top'].set_visible(False) \n",
    "\n",
    "import os\n",
    "# import csv\n",
    "import math\n",
    "\n",
    "from datetime import date\n",
    "# import datetime\n",
    "\n",
    "saveFigures = True\n",
    "# saveFigures = False\n",
    "print('saveFigures is set to: '+str(saveFigures))\n",
    "\n",
    "print('Done loading packages')\n",
    "\n",
    "# Define running mean functions\n",
    "def rnMean(data,meanWidth):\n",
    "    return np.convolve(data, np.ones(meanWidth)/meanWidth, mode='valid')\n",
    "def rnTime(t,meanWidth):\n",
    "    return t[math.floor(meanWidth/2):-math.ceil(meanWidth/2)+1]"
   ]
  },
  {
   "cell_type": "code",
   "execution_count": 2,
   "metadata": {},
   "outputs": [],
   "source": [
    "# Define paths\n",
    "# rootdir_data = os.getcwd() +\"\\\\..\\\\DanskeData\\\\\" \n",
    "# rootdir_data = \"D:\\Pandemix\\Github\\DanskeData\\\\\"\n",
    "rootdir_data = \"C:\\\\Users\\\\rakrpe\\\\OneDrive - Roskilde Universitet\\\\Documents\\\\PandemiX\\\\GithubRepos\\\\PandemiX\\\\DanskeData\\\\\"\n",
    "\n",
    "path_data = rootdir_data + \"ssi_data\\\\\"\n",
    "path_dash = rootdir_data + \"ssi_dashboard\\\\\"\n",
    "path_vacc = rootdir_data + \"ssi_vacc\\\\\"\n",
    "path_figs = os.getcwd() +\"\\\\..\\\\Figures\\\\\" "
   ]
  },
  {
   "cell_type": "code",
   "execution_count": 3,
   "metadata": {},
   "outputs": [
    {
     "name": "stdout",
     "output_type": "stream",
     "text": [
      "Path to latest Tuesday was SSI_data_2022-02-15\n"
     ]
    }
   ],
   "source": [
    "import datetime\n",
    "\n",
    "# Data is (only) in the file from the most recent tuesday. \n",
    "# Should be made smarter, but here hardcoded\n",
    "# tuePath = 'SSI_data_2022-01-25'\n",
    "# Now automatic finding of latest tuesday:\n",
    "for k in range(0,7):\n",
    "    dayToCheck = np.datetime64('today')-np.timedelta64(k,'D')\n",
    "    thisWeekDay = (dayToCheck).astype(datetime.datetime).isoweekday()    \n",
    "    if (thisWeekDay == 2):\n",
    "        tuePath = 'SSI_data_'+str(dayToCheck)\n",
    "\n",
    "print(f'Path to latest Tuesday was {tuePath}')\n",
    "\n",
    "dirPath = path_data + tuePath + '\\\\'\n",
    "\n",
    "df1 = pd.read_csv(dirPath+'gennembrudsinfektioner_table1.csv',delimiter=';')\n",
    "\n",
    "df2_C = pd.read_csv(dirPath+'gennembrudsinfektioner_table2_antal_cases.csv',delimiter=';')\n",
    "df2_H = pd.read_csv(dirPath+'gennembrudsinfektioner_table2_antal_indlagte.csv',delimiter=';')\n",
    "df2_D = pd.read_csv(dirPath+'gennembrudsinfektioner_table2_antal_dode.csv',delimiter=';')\n",
    "df2_R = pd.read_csv(dirPath+'gennembrudsinfektioner_table2_antal_repositive.csv',delimiter=';')\n",
    "df2_Int = pd.read_csv(dirPath+'gennembrudsinfektioner_table2_antal_intensiv.csv',delimiter=';')\n",
    "df2_T = pd.read_csv(dirPath+'gennembrudsinfektioner_table2_antal_tests.csv',delimiter=';')\n",
    "\n",
    "df3 = pd.read_csv(dirPath+'gennembrudsinfektioner_table2_incidence_alle.csv',delimiter=';',decimal=\",\")\n",
    "df3_C = pd.read_csv(dirPath+'gennembrudsinfektioner_table2_incidence_cases.csv',delimiter=';',decimal=\",\")\n",
    "df3_H = pd.read_csv(dirPath+'gennembrudsinfektioner_table2_incidence_indlagte.csv',delimiter=';',decimal=\",\")\n",
    "df3_D = pd.read_csv(dirPath+'gennembrudsinfektioner_table2_incidence_dode.csv',delimiter=';',decimal=\",\")\n",
    "df3_Int = pd.read_csv(dirPath+'gennembrudsinfektioner_table2_incidence_intensiv.csv',delimiter=';',decimal=\",\")\n",
    "df3_T = pd.read_csv(dirPath+'gennembrudsinfektioner_table2_incidence_tests.csv',delimiter=';',decimal=\",\")"
   ]
  },
  {
   "cell_type": "code",
   "execution_count": 4,
   "metadata": {},
   "outputs": [],
   "source": [
    "# Population counts, from Danmark Statistik. For 2021\n",
    "popdf1 = pd.read_csv(rootdir_data+'/DKfolketal2021_Statistikbanken_Del1.csv',header=None,encoding='latin1',delimiter=';')\n",
    "popdf2 = pd.read_csv(rootdir_data+'/DKfolketal2021_Statistikbanken_Del2.csv',header=None,encoding='latin1',delimiter=';')\n",
    "\n",
    "popdf = pd.concat([popdf1,popdf2])\n",
    "\n",
    "popdf = popdf.rename(columns={0:\"Kommune\",1:'Alder',2:'Antal'})\n",
    "popdf['AlderKort'] = popdf.Alder.apply(lambda x: int(str(x).split(' ')[0]))\n",
    "totCounts = popdf.groupby('Kommune').sum()\n",
    "\n",
    "# Also collect national numbers\n",
    "popdf_nat = popdf.groupby('Alder').sum()\n",
    "popdf_nat['AlderKort'] =[int(str(x).split(' ')[0]) for x in popdf_nat.index]\n",
    "popdf_nat = popdf_nat.sort_values('AlderKort')\n",
    "\n",
    "def getPopSizeNational(minAlder=0,maxAlder=125):\n",
    "    return popdf_nat[(popdf_nat.AlderKort >= minAlder) & (popdf_nat.AlderKort <= maxAlder)].Antal.sum()\n"
   ]
  },
  {
   "cell_type": "code",
   "execution_count": 5,
   "metadata": {},
   "outputs": [
    {
     "ename": "FileNotFoundError",
     "evalue": "[Errno 2] No such file or directory: 'DK_Stat_Deaths.csv'",
     "output_type": "error",
     "traceback": [
      "\u001b[1;31m---------------------------------------------------------------------------\u001b[0m",
      "\u001b[1;31mFileNotFoundError\u001b[0m                         Traceback (most recent call last)",
      "\u001b[1;32m<ipython-input-5-a9edabb5cf65>\u001b[0m in \u001b[0;36m<module>\u001b[1;34m\u001b[0m\n\u001b[1;32m----> 1\u001b[1;33m \u001b[0mdf_dkstat\u001b[0m \u001b[1;33m=\u001b[0m \u001b[0mpd\u001b[0m\u001b[1;33m.\u001b[0m\u001b[0mread_csv\u001b[0m\u001b[1;33m(\u001b[0m\u001b[1;34m'DK_Stat_Deaths.csv'\u001b[0m\u001b[1;33m,\u001b[0m\u001b[0mencoding\u001b[0m\u001b[1;33m=\u001b[0m\u001b[1;34m'latin1'\u001b[0m\u001b[1;33m,\u001b[0m\u001b[0mdelimiter\u001b[0m\u001b[1;33m=\u001b[0m\u001b[1;34m';'\u001b[0m\u001b[1;33m)\u001b[0m\u001b[1;33m\u001b[0m\u001b[1;33m\u001b[0m\u001b[0m\n\u001b[0m\u001b[0;32m      2\u001b[0m \u001b[0mcurYearWeek\u001b[0m \u001b[1;33m=\u001b[0m \u001b[0mdf_dkstat\u001b[0m\u001b[1;33m.\u001b[0m\u001b[0miloc\u001b[0m\u001b[1;33m[\u001b[0m\u001b[1;33m:\u001b[0m\u001b[1;33m-\u001b[0m\u001b[1;36m3\u001b[0m\u001b[1;33m:\u001b[0m\u001b[1;36m3\u001b[0m\u001b[1;33m,\u001b[0m\u001b[1;36m0\u001b[0m\u001b[1;33m]\u001b[0m\u001b[1;33m\u001b[0m\u001b[1;33m\u001b[0m\u001b[0m\n\u001b[0;32m      3\u001b[0m \u001b[0mdf_dkstat\u001b[0m \u001b[1;33m=\u001b[0m \u001b[0mdf_dkstat\u001b[0m\u001b[1;33m.\u001b[0m\u001b[0miloc\u001b[0m\u001b[1;33m[\u001b[0m\u001b[1;36m2\u001b[0m\u001b[1;33m:\u001b[0m\u001b[1;33m-\u001b[0m\u001b[1;36m1\u001b[0m\u001b[1;33m:\u001b[0m\u001b[1;36m3\u001b[0m\u001b[1;33m,\u001b[0m\u001b[1;36m3\u001b[0m\u001b[1;33m:\u001b[0m\u001b[1;33m]\u001b[0m\u001b[1;33m\u001b[0m\u001b[1;33m\u001b[0m\u001b[0m\n\u001b[0;32m      4\u001b[0m \u001b[1;33m\u001b[0m\u001b[0m\n\u001b[0;32m      5\u001b[0m \u001b[0mdf_temp\u001b[0m \u001b[1;33m=\u001b[0m \u001b[0mpd\u001b[0m\u001b[1;33m.\u001b[0m\u001b[0mDataFrame\u001b[0m\u001b[1;33m(\u001b[0m\u001b[1;33m)\u001b[0m\u001b[1;33m\u001b[0m\u001b[1;33m\u001b[0m\u001b[0m\n",
      "\u001b[1;32m~\\Anaconda3\\envs\\main\\lib\\site-packages\\pandas\\io\\parsers.py\u001b[0m in \u001b[0;36mread_csv\u001b[1;34m(filepath_or_buffer, sep, delimiter, header, names, index_col, usecols, squeeze, prefix, mangle_dupe_cols, dtype, engine, converters, true_values, false_values, skipinitialspace, skiprows, skipfooter, nrows, na_values, keep_default_na, na_filter, verbose, skip_blank_lines, parse_dates, infer_datetime_format, keep_date_col, date_parser, dayfirst, cache_dates, iterator, chunksize, compression, thousands, decimal, lineterminator, quotechar, quoting, doublequote, escapechar, comment, encoding, dialect, error_bad_lines, warn_bad_lines, delim_whitespace, low_memory, memory_map, float_precision, storage_options)\u001b[0m\n\u001b[0;32m    608\u001b[0m     \u001b[0mkwds\u001b[0m\u001b[1;33m.\u001b[0m\u001b[0mupdate\u001b[0m\u001b[1;33m(\u001b[0m\u001b[0mkwds_defaults\u001b[0m\u001b[1;33m)\u001b[0m\u001b[1;33m\u001b[0m\u001b[1;33m\u001b[0m\u001b[0m\n\u001b[0;32m    609\u001b[0m \u001b[1;33m\u001b[0m\u001b[0m\n\u001b[1;32m--> 610\u001b[1;33m     \u001b[1;32mreturn\u001b[0m \u001b[0m_read\u001b[0m\u001b[1;33m(\u001b[0m\u001b[0mfilepath_or_buffer\u001b[0m\u001b[1;33m,\u001b[0m \u001b[0mkwds\u001b[0m\u001b[1;33m)\u001b[0m\u001b[1;33m\u001b[0m\u001b[1;33m\u001b[0m\u001b[0m\n\u001b[0m\u001b[0;32m    611\u001b[0m \u001b[1;33m\u001b[0m\u001b[0m\n\u001b[0;32m    612\u001b[0m \u001b[1;33m\u001b[0m\u001b[0m\n",
      "\u001b[1;32m~\\Anaconda3\\envs\\main\\lib\\site-packages\\pandas\\io\\parsers.py\u001b[0m in \u001b[0;36m_read\u001b[1;34m(filepath_or_buffer, kwds)\u001b[0m\n\u001b[0;32m    460\u001b[0m \u001b[1;33m\u001b[0m\u001b[0m\n\u001b[0;32m    461\u001b[0m     \u001b[1;31m# Create the parser.\u001b[0m\u001b[1;33m\u001b[0m\u001b[1;33m\u001b[0m\u001b[1;33m\u001b[0m\u001b[0m\n\u001b[1;32m--> 462\u001b[1;33m     \u001b[0mparser\u001b[0m \u001b[1;33m=\u001b[0m \u001b[0mTextFileReader\u001b[0m\u001b[1;33m(\u001b[0m\u001b[0mfilepath_or_buffer\u001b[0m\u001b[1;33m,\u001b[0m \u001b[1;33m**\u001b[0m\u001b[0mkwds\u001b[0m\u001b[1;33m)\u001b[0m\u001b[1;33m\u001b[0m\u001b[1;33m\u001b[0m\u001b[0m\n\u001b[0m\u001b[0;32m    463\u001b[0m \u001b[1;33m\u001b[0m\u001b[0m\n\u001b[0;32m    464\u001b[0m     \u001b[1;32mif\u001b[0m \u001b[0mchunksize\u001b[0m \u001b[1;32mor\u001b[0m \u001b[0miterator\u001b[0m\u001b[1;33m:\u001b[0m\u001b[1;33m\u001b[0m\u001b[1;33m\u001b[0m\u001b[0m\n",
      "\u001b[1;32m~\\Anaconda3\\envs\\main\\lib\\site-packages\\pandas\\io\\parsers.py\u001b[0m in \u001b[0;36m__init__\u001b[1;34m(self, f, engine, **kwds)\u001b[0m\n\u001b[0;32m    817\u001b[0m             \u001b[0mself\u001b[0m\u001b[1;33m.\u001b[0m\u001b[0moptions\u001b[0m\u001b[1;33m[\u001b[0m\u001b[1;34m\"has_index_names\"\u001b[0m\u001b[1;33m]\u001b[0m \u001b[1;33m=\u001b[0m \u001b[0mkwds\u001b[0m\u001b[1;33m[\u001b[0m\u001b[1;34m\"has_index_names\"\u001b[0m\u001b[1;33m]\u001b[0m\u001b[1;33m\u001b[0m\u001b[1;33m\u001b[0m\u001b[0m\n\u001b[0;32m    818\u001b[0m \u001b[1;33m\u001b[0m\u001b[0m\n\u001b[1;32m--> 819\u001b[1;33m         \u001b[0mself\u001b[0m\u001b[1;33m.\u001b[0m\u001b[0m_engine\u001b[0m \u001b[1;33m=\u001b[0m \u001b[0mself\u001b[0m\u001b[1;33m.\u001b[0m\u001b[0m_make_engine\u001b[0m\u001b[1;33m(\u001b[0m\u001b[0mself\u001b[0m\u001b[1;33m.\u001b[0m\u001b[0mengine\u001b[0m\u001b[1;33m)\u001b[0m\u001b[1;33m\u001b[0m\u001b[1;33m\u001b[0m\u001b[0m\n\u001b[0m\u001b[0;32m    820\u001b[0m \u001b[1;33m\u001b[0m\u001b[0m\n\u001b[0;32m    821\u001b[0m     \u001b[1;32mdef\u001b[0m \u001b[0mclose\u001b[0m\u001b[1;33m(\u001b[0m\u001b[0mself\u001b[0m\u001b[1;33m)\u001b[0m\u001b[1;33m:\u001b[0m\u001b[1;33m\u001b[0m\u001b[1;33m\u001b[0m\u001b[0m\n",
      "\u001b[1;32m~\\Anaconda3\\envs\\main\\lib\\site-packages\\pandas\\io\\parsers.py\u001b[0m in \u001b[0;36m_make_engine\u001b[1;34m(self, engine)\u001b[0m\n\u001b[0;32m   1048\u001b[0m             )\n\u001b[0;32m   1049\u001b[0m         \u001b[1;31m# error: Too many arguments for \"ParserBase\"\u001b[0m\u001b[1;33m\u001b[0m\u001b[1;33m\u001b[0m\u001b[1;33m\u001b[0m\u001b[0m\n\u001b[1;32m-> 1050\u001b[1;33m         \u001b[1;32mreturn\u001b[0m \u001b[0mmapping\u001b[0m\u001b[1;33m[\u001b[0m\u001b[0mengine\u001b[0m\u001b[1;33m]\u001b[0m\u001b[1;33m(\u001b[0m\u001b[0mself\u001b[0m\u001b[1;33m.\u001b[0m\u001b[0mf\u001b[0m\u001b[1;33m,\u001b[0m \u001b[1;33m**\u001b[0m\u001b[0mself\u001b[0m\u001b[1;33m.\u001b[0m\u001b[0moptions\u001b[0m\u001b[1;33m)\u001b[0m  \u001b[1;31m# type: ignore[call-arg]\u001b[0m\u001b[1;33m\u001b[0m\u001b[1;33m\u001b[0m\u001b[0m\n\u001b[0m\u001b[0;32m   1051\u001b[0m \u001b[1;33m\u001b[0m\u001b[0m\n\u001b[0;32m   1052\u001b[0m     \u001b[1;32mdef\u001b[0m \u001b[0m_failover_to_python\u001b[0m\u001b[1;33m(\u001b[0m\u001b[0mself\u001b[0m\u001b[1;33m)\u001b[0m\u001b[1;33m:\u001b[0m\u001b[1;33m\u001b[0m\u001b[1;33m\u001b[0m\u001b[0m\n",
      "\u001b[1;32m~\\Anaconda3\\envs\\main\\lib\\site-packages\\pandas\\io\\parsers.py\u001b[0m in \u001b[0;36m__init__\u001b[1;34m(self, src, **kwds)\u001b[0m\n\u001b[0;32m   1865\u001b[0m \u001b[1;33m\u001b[0m\u001b[0m\n\u001b[0;32m   1866\u001b[0m         \u001b[1;31m# open handles\u001b[0m\u001b[1;33m\u001b[0m\u001b[1;33m\u001b[0m\u001b[1;33m\u001b[0m\u001b[0m\n\u001b[1;32m-> 1867\u001b[1;33m         \u001b[0mself\u001b[0m\u001b[1;33m.\u001b[0m\u001b[0m_open_handles\u001b[0m\u001b[1;33m(\u001b[0m\u001b[0msrc\u001b[0m\u001b[1;33m,\u001b[0m \u001b[0mkwds\u001b[0m\u001b[1;33m)\u001b[0m\u001b[1;33m\u001b[0m\u001b[1;33m\u001b[0m\u001b[0m\n\u001b[0m\u001b[0;32m   1868\u001b[0m         \u001b[1;32massert\u001b[0m \u001b[0mself\u001b[0m\u001b[1;33m.\u001b[0m\u001b[0mhandles\u001b[0m \u001b[1;32mis\u001b[0m \u001b[1;32mnot\u001b[0m \u001b[1;32mNone\u001b[0m\u001b[1;33m\u001b[0m\u001b[1;33m\u001b[0m\u001b[0m\n\u001b[0;32m   1869\u001b[0m         \u001b[1;32mfor\u001b[0m \u001b[0mkey\u001b[0m \u001b[1;32min\u001b[0m \u001b[1;33m(\u001b[0m\u001b[1;34m\"storage_options\"\u001b[0m\u001b[1;33m,\u001b[0m \u001b[1;34m\"encoding\"\u001b[0m\u001b[1;33m,\u001b[0m \u001b[1;34m\"memory_map\"\u001b[0m\u001b[1;33m,\u001b[0m \u001b[1;34m\"compression\"\u001b[0m\u001b[1;33m)\u001b[0m\u001b[1;33m:\u001b[0m\u001b[1;33m\u001b[0m\u001b[1;33m\u001b[0m\u001b[0m\n",
      "\u001b[1;32m~\\Anaconda3\\envs\\main\\lib\\site-packages\\pandas\\io\\parsers.py\u001b[0m in \u001b[0;36m_open_handles\u001b[1;34m(self, src, kwds)\u001b[0m\n\u001b[0;32m   1360\u001b[0m         \u001b[0mLet\u001b[0m \u001b[0mthe\u001b[0m \u001b[0mreaders\u001b[0m \u001b[0mopen\u001b[0m \u001b[0mIOHanldes\u001b[0m \u001b[0mafter\u001b[0m \u001b[0mthey\u001b[0m \u001b[0mare\u001b[0m \u001b[0mdone\u001b[0m \u001b[1;32mwith\u001b[0m \u001b[0mtheir\u001b[0m \u001b[0mpotential\u001b[0m \u001b[0mraises\u001b[0m\u001b[1;33m.\u001b[0m\u001b[1;33m\u001b[0m\u001b[1;33m\u001b[0m\u001b[0m\n\u001b[0;32m   1361\u001b[0m         \"\"\"\n\u001b[1;32m-> 1362\u001b[1;33m         self.handles = get_handle(\n\u001b[0m\u001b[0;32m   1363\u001b[0m             \u001b[0msrc\u001b[0m\u001b[1;33m,\u001b[0m\u001b[1;33m\u001b[0m\u001b[1;33m\u001b[0m\u001b[0m\n\u001b[0;32m   1364\u001b[0m             \u001b[1;34m\"r\"\u001b[0m\u001b[1;33m,\u001b[0m\u001b[1;33m\u001b[0m\u001b[1;33m\u001b[0m\u001b[0m\n",
      "\u001b[1;32m~\\Anaconda3\\envs\\main\\lib\\site-packages\\pandas\\io\\common.py\u001b[0m in \u001b[0;36mget_handle\u001b[1;34m(path_or_buf, mode, encoding, compression, memory_map, is_text, errors, storage_options)\u001b[0m\n\u001b[0;32m    640\u001b[0m                 \u001b[0merrors\u001b[0m \u001b[1;33m=\u001b[0m \u001b[1;34m\"replace\"\u001b[0m\u001b[1;33m\u001b[0m\u001b[1;33m\u001b[0m\u001b[0m\n\u001b[0;32m    641\u001b[0m             \u001b[1;31m# Encoding\u001b[0m\u001b[1;33m\u001b[0m\u001b[1;33m\u001b[0m\u001b[1;33m\u001b[0m\u001b[0m\n\u001b[1;32m--> 642\u001b[1;33m             handle = open(\n\u001b[0m\u001b[0;32m    643\u001b[0m                 \u001b[0mhandle\u001b[0m\u001b[1;33m,\u001b[0m\u001b[1;33m\u001b[0m\u001b[1;33m\u001b[0m\u001b[0m\n\u001b[0;32m    644\u001b[0m                 \u001b[0mioargs\u001b[0m\u001b[1;33m.\u001b[0m\u001b[0mmode\u001b[0m\u001b[1;33m,\u001b[0m\u001b[1;33m\u001b[0m\u001b[1;33m\u001b[0m\u001b[0m\n",
      "\u001b[1;31mFileNotFoundError\u001b[0m: [Errno 2] No such file or directory: 'DK_Stat_Deaths.csv'"
     ]
    }
   ],
   "source": [
    "df_dkstat = pd.read_csv('DK_Stat_Deaths.csv',encoding='latin1',delimiter=';')\n",
    "curYearWeek = df_dkstat.iloc[:-3:3,0]\n",
    "df_dkstat = df_dkstat.iloc[2:-1:3,3:]\n",
    "\n",
    "df_temp = pd.DataFrame()\n",
    "df_temp['Week'] = curYearWeek.values\n",
    "curYears = df_temp['Week'].apply(lambda x: x[:4]).astype(int)\n",
    "curWeeks = df_temp['Week'].apply(lambda x: x[5:]).astype(int)\n",
    "dkstatDates = pd.to_datetime((curYears*100+curWeeks).astype(str)+'1',format='%G%V%u')\n",
    "df_dkstat = df_dkstat.transpose()\n",
    "df_dkstat.columns =list(dkstatDates)\n",
    "df_dkstat = df_dkstat.iloc[1:]\n",
    "# Function for getting all cause mortality in a specific range\n",
    "def getAllCause(minAge=0,maxAge=125):\n",
    "\n",
    "    firstAges = np.array([int(x.split('-')[0]) for x in df_dkstat.index[:-1]])\n",
    "    lastAges = np.array([int(x.split('-')[1].split(' ')[0]) for x in df_dkstat.index[:-1]])\n",
    "\n",
    "    firstIndex = np.where(firstAges == minAge)[0][0]\n",
    "    if (lastAges == maxAge).any():\n",
    "        lastIndex = np.where(lastAges == maxAge)[0][0]\n",
    "    else:\n",
    "        lastIndex = len(df_dkstat)\n",
    "\n",
    "    curSum = df_dkstat.iloc[firstIndex:lastIndex].sum()\n",
    "    curDates = curSum.index\n",
    "    curCount = curSum.values\n",
    "\n",
    "    return curCount,curDates\n",
    "\n",
    "getAllCause(0,5)\n",
    "# getAllCause(4,20)\n",
    "df_dkstat.iloc[0]\n",
    "df_dkstat"
   ]
  },
  {
   "cell_type": "code",
   "execution_count": null,
   "metadata": {},
   "outputs": [
    {
     "name": "stdout",
     "output_type": "stream",
     "text": [
      "Index(['YoDi', 'WoDi', 'group', 'nb', 'nbc', 'Pnb', 'country', 'YearWeek',\n",
      "       'Date'],\n",
      "      dtype='object')\n",
      "['00to19' '20to39' '40to49' '50to54' '55to59' '60to64' '65to69' '70to74'\n",
      " '75to79' '80to84' '85to89' '90to94' '95P' 'Total']\n"
     ]
    }
   ],
   "source": [
    "# Get all cause from MOMO\n",
    "df_momo = pd.read_csv('MOMOdata_ny.csv',delimiter=';')\n",
    "df_momo['nbc'] = pd.to_numeric(df_momo['nbc'].str.replace(',','.'))\n",
    "df_momo['Pnb'] = pd.to_numeric(df_momo['Pnb'].str.replace(',','.'))\n",
    "df_momo['YearWeek'] = df_momo.YoDi.astype(str) + df_momo.WoDi.apply(lambda x: '{0:0>2}'.format(x))\n",
    "df_momo['Date'] = pd.to_datetime(df_momo.YearWeek.astype(str)+'1',format='%G%V%u')\n",
    "print(df_momo.columns)\n",
    "allAges = df_momo.group.unique()\n",
    "print(allAges)"
   ]
  },
  {
   "cell_type": "code",
   "execution_count": null,
   "metadata": {},
   "outputs": [],
   "source": [
    "# # Make a test plot of momo data\n",
    "# fig,ax1 = plt.subplots()\n",
    "# # groupbyOb = list(df_momo.groupby('group'))\n",
    "# # curAge = groupbyOb[13][0]\n",
    "# # curdf =  groupbyOb[13][1]\n",
    "# for curAge,curdf in df_momo.groupby('group'):\n",
    "#     if curAge == 'Total':\n",
    "#         continue\n",
    "#     ax1.plot(curdf.Date,curdf.nb,label=curAge)\n",
    "#     # ax1.plot(curdf.Date,curdf.nbc,':')\n",
    "#     # ax1.set_title(curAge)\n",
    "# ax1.legend()"
   ]
  },
  {
   "cell_type": "code",
   "execution_count": null,
   "metadata": {},
   "outputs": [],
   "source": [
    "\n",
    "def getAllCauseMOMO(minAge=0,maxAge=125):\n",
    "    firstAge = np.array([int(x.split('to')[0]) for x in allAges[:-2]])\n",
    "    lastAge = np.array([int(x.split('to')[1]) for x in allAges[:-2]])\n",
    "\n",
    "    firstIndex = 0\n",
    "    lastIndex = -1\n",
    "\n",
    "    if (minAge == 95):\n",
    "        firstIndex = -2\n",
    "    elif (firstAge == minAge).any():\n",
    "        firstIndex = np.where(firstAge == minAge)[0][0]\n",
    "    else:\n",
    "        print('Incorrect minimum age, using 0')\n",
    "        \n",
    "    if (maxAge == 125):\n",
    "        lastIndex = -1\n",
    "    elif (lastAge == maxAge).any():\n",
    "        lastIndex = np.where(lastAge == maxAge)[0][0]+1\n",
    "    else:\n",
    "        print('Incorrect maximum age, using maximum')\n",
    "\n",
    "        # toReturnCount = df_momo[df_momo.group == '95P'].nbc\n",
    "        # toReturnDates = df_momo[df_momo.group == '95P'].Date\n",
    "    curdf = df_momo[df_momo.group.isin(allAges[firstIndex:lastIndex])].groupby('Date').sum()\n",
    "\n",
    "    toReturnDates = curdf.index\n",
    "    toReturnCount_raw = curdf.nb\n",
    "    toReturnCount = curdf.nbc\n",
    "\n",
    "    return toReturnCount.values,toReturnDates"
   ]
  },
  {
   "cell_type": "code",
   "execution_count": null,
   "metadata": {},
   "outputs": [
    {
     "name": "stdout",
     "output_type": "stream",
     "text": [
      "['Uge 41-2021' 'Uge 42-2021' 'Uge 43-2021' 'Uge 44-2021' 'Uge 45-2021'\n",
      " 'Uge 46-2021' 'Uge 47-2021' 'Uge 48-2021' 'Uge 49-2021' 'Uge 50-2021'\n",
      " 'Uge 51-2021' 'Uge 52-2021' 'Uge 01-2022' 'Uge 02-2022' 'Uge 03-2022'\n",
      " 'Uge 04-2022']\n"
     ]
    }
   ],
   "source": [
    "# Since order was wrong in the beginning of 2022, we first need the correct order...\n",
    "# weekNames = df.År.astype(str)+'-W'+df.Uge.apply(lambda x: f\"{int(x):02d}\")\n",
    "\n",
    "weekDTs = [np.datetime64(datetime.datetime.strptime(d[-4:] + '-W'+d[4:6]+'-1', \"%Y-W%W-%w\")) for d in df1.Ugenummer]\n",
    "\n",
    "curOrder = np.argsort(weekDTs)\n",
    "        \n",
    "sNone = 'Ingen vaccination'        \n",
    "sOne = 'Første vaccination'  \n",
    "sTwo = 'Anden vaccination'\n",
    "sFull = 'Fuld effekt efter primært forløb'   \n",
    "sReva = 'Fuld effekt efter revaccination'\n",
    "\n",
    "\n",
    "ageGroups = df2_C.Aldersgruppe.values\n",
    "# print(ageGroups)\n",
    "# weekNames = df1.Ugenummer\n",
    "weekNames = df1.Ugenummer.values[curOrder]\n",
    "weekNamesShort = [x[4:6] for x in weekNames]\n",
    "wInt = [int(x[4:6]) for x in weekNames]\n",
    "wIntRange = np.arange(len(wInt))\n",
    "\n",
    "allDates = np.array(weekDTs)[curOrder]\n",
    "print(weekNames)\n",
    "\n",
    "# Make function for gettings particular parts\n",
    "def getTimeSeries(thisdf=df2_C,curStatus='Ingen vaccination',curAge='Alle',weekNames=weekNames):\n",
    "    \n",
    "    agedf = thisdf[thisdf.Aldersgruppe==curAge]\n",
    "    allVals = []\n",
    "    for curWeek in weekNames:\n",
    "        toAdd = agedf[curWeek+'_'+curStatus].values[0]\n",
    "        allVals.append(toAdd)\n",
    "    allVals = np.array(allVals)\n",
    "\n",
    "    return allVals\n",
    "\n",
    "def getTimeSeriesAll(thisdf=df2_C,curAge='Alle',weekNames=weekNames):\n",
    "    return getTimeSeries(thisdf,sNone,curAge,weekNames)+getTimeSeries(thisdf,sOne,curAge,weekNames)+getTimeSeries(thisdf,sTwo,curAge,weekNames)\n",
    "    "
   ]
  },
  {
   "cell_type": "code",
   "execution_count": null,
   "metadata": {},
   "outputs": [],
   "source": [
    "ssiAges = df2_C.Aldersgruppe.unique()\n",
    "# print(ssiAges)\n",
    "df_case = pd.DataFrame()\n",
    "df_case['Date'] = allDates\n",
    "df_case['0-19'] = getTimeSeriesAll(df2_C,'0-5') + getTimeSeriesAll(df2_C,'6-11') + getTimeSeriesAll(df2_C,'12-15') + getTimeSeriesAll(df2_C,'16-19') \n",
    "df_case['20-39'] = getTimeSeriesAll(df2_C,'20-29') + getTimeSeriesAll(df2_C,'30-39')\n",
    "df_case['40-59'] = getTimeSeriesAll(df2_C,'40-49') + getTimeSeriesAll(df2_C,'50-59')\n",
    "df_case['60-69'] = getTimeSeriesAll(df2_C,'60-64') + getTimeSeriesAll(df2_C,'65-69')\n",
    "# df_case['70-125'] = getTimeSeriesAll(df2_C,'70-79') + getTimeSeriesAll(df2_C,'80+')\n",
    "df_case['70-79'] = getTimeSeriesAll(df2_C,'70-79')\n",
    "df_case['80-125'] = getTimeSeriesAll(df2_C,'80+')\n",
    "\n",
    "df_death = pd.DataFrame()\n",
    "df_death['Date'] = allDates\n",
    "df_death['0-19'] = getTimeSeriesAll(df2_D,'0-5') + getTimeSeriesAll(df2_D,'6-11') + getTimeSeriesAll(df2_D,'12-15') + getTimeSeriesAll(df2_D,'16-19') \n",
    "df_death['20-39'] = getTimeSeriesAll(df2_D,'20-29') + getTimeSeriesAll(df2_D,'30-39')\n",
    "df_death['40-59'] = getTimeSeriesAll(df2_D,'40-49') + getTimeSeriesAll(df2_D,'50-59')\n",
    "df_death['60-69'] = getTimeSeriesAll(df2_D,'60-64') + getTimeSeriesAll(df2_D,'65-69')\n",
    "# df_death['70-125'] = getTimeSeriesAll(df2_D,'70-79') + getTimeSeriesAll(df2_D,'80+')\n",
    "df_death['70-79'] = getTimeSeriesAll(df2_D,'70-79') \n",
    "df_death['80-125'] = getTimeSeriesAll(df2_D,'80+')"
   ]
  },
  {
   "cell_type": "code",
   "execution_count": null,
   "metadata": {},
   "outputs": [],
   "source": [
    "# Calculate cases relative to population\n",
    "df_case_rela = df_case.copy()\n",
    "df_case_rela['0-19'] = df_case['0-19']/getPopSizeNational(0,19)\n",
    "df_case_rela['20-39'] = df_case['20-39']/getPopSizeNational(20,39)\n",
    "df_case_rela['40-59'] = df_case['40-59']/getPopSizeNational(40,59)\n",
    "df_case_rela['60-69'] = df_case['60-69']/getPopSizeNational(60,69)\n",
    "# df_case_rela['70-125'] = df_case['70-125']/getPopSizeNational(70,125)\n",
    "df_case_rela['70-79'] = df_case['70-79']/getPopSizeNational(70,79)\n",
    "df_case_rela['80-125'] = df_case['80-125']/getPopSizeNational(80,125)"
   ]
  },
  {
   "cell_type": "code",
   "execution_count": null,
   "metadata": {},
   "outputs": [],
   "source": [
    "# Collect all cause in a similar dataframe\n",
    "df_allcause = pd.DataFrame()\n",
    "df_allcause['Date'] = getAllCauseMOMO(0,19)[1]\n",
    "df_allcause['0-19'] = getAllCauseMOMO(0,19)[0]\n",
    "df_allcause['20-39'] = getAllCauseMOMO(20,39)[0]\n",
    "df_allcause['40-59'] = getAllCauseMOMO(40,59)[0]\n",
    "df_allcause['60-69'] = getAllCauseMOMO(60,69)[0]\n",
    "# df_allcause['70-125'] = getAllCauseMOMO(70,125)[0]\n",
    "df_allcause['70-79'] = getAllCauseMOMO(70,79)[0]\n",
    "df_allcause['80-125'] = getAllCauseMOMO(80,125)[0]"
   ]
  },
  {
   "cell_type": "code",
   "execution_count": null,
   "metadata": {},
   "outputs": [],
   "source": [
    "# df_allcause\n",
    "# getAllCauseMOMO(0,19)[0]"
   ]
  },
  {
   "cell_type": "code",
   "execution_count": null,
   "metadata": {},
   "outputs": [],
   "source": [
    "# allAgesCurrently = df_case.columns[1:]\n",
    "\n",
    "# # fig,(ax1,ax2,ax3,ax4) = plt.subplots(4,1,figsize=(15,15),sharex=True)\n",
    "# fig,allAxes = plt.subplots(2,2,figsize=(18,10),sharex=True)\n",
    "# ax1,ax2,ax3,ax4 = allAxes.flatten()\n",
    "# for curAge in allAgesCurrently:\n",
    "#     ax1.plot(df_case.Date,df_case[curAge],'.-',label=curAge)\n",
    "#     ax2.plot(df_case.Date,df_case_rela[curAge],'.-',label=curAge)\n",
    "#     ax3.plot(df_case.Date,df_death[curAge],'.-',label=curAge)\n",
    "#     ax4.plot(df_allcause.Date,df_allcause[curAge],'.-',label=curAge)\n",
    "# ax1.legend(loc = 'upper left')\n",
    "# ax1.set_ylim(bottom=0)\n",
    "# ax2.set_ylim(bottom=0)\n",
    "# ax3.set_ylim(bottom=0)\n",
    "# ax4.set_ylim(bottom=0)\n",
    "\n",
    "# ax1.set_ylabel('Cases')\n",
    "# ax2.set_ylabel('Cases relative to population')\n",
    "# ax3.set_ylabel('Deaths registrered as covid-deaths')\n",
    "# ax4.set_ylabel('All-cause mortality (EuroMOMO)')\n",
    "\n",
    "# ax1.set_xlim(left=df_case.Date[0],right=np.datetime64('today'))\n",
    "# ax1.grid()\n",
    "# ax2.grid()\n",
    "# ax3.grid()\n",
    "# ax4.grid()\n",
    "\n",
    "# ax1.xaxis.set_major_formatter(mdates.DateFormatter('%d\\n%b'))\n",
    "\n",
    "# plt.tight_layout()\n",
    "\n",
    "# if saveFigures:\n",
    "#     plt.savefig('Figures\\\\DataOverview')"
   ]
  },
  {
   "cell_type": "code",
   "execution_count": null,
   "metadata": {},
   "outputs": [
    {
     "name": "stdout",
     "output_type": "stream",
     "text": [
      "[  1618   2237   3316   5595   7964   9710  10148  12042  16722  22356\n",
      "  18974  28140  40473  72687 113197 107336]\n"
     ]
    },
    {
     "data": {
      "text/plain": [
       "array([  3977,   9704,  16098,  20651,  24729,  31741,  43949,  50881,\n",
       "        62299,  80416, 134129, 219186, 286049], dtype=int64)"
      ]
     },
     "execution_count": 15,
     "metadata": {},
     "output_type": "execute_result"
    }
   ],
   "source": [
    "curdf_case = df_case['0-19'].values\n",
    "print(curdf_case)\n",
    "np.cumsum(curdf_case[3:])-np.cumsum(curdf_case[:-3])\n",
    "# from numpy.lib.stride_tricks import sliding_window_view\n",
    "# curRoll = [x.sum() for x in sliding_window_view(curdf_case, window_shape = 4)]"
   ]
  },
  {
   "cell_type": "code",
   "execution_count": null,
   "metadata": {},
   "outputs": [
    {
     "data": {
      "text/plain": [
       "array([ 12766,  19112,  26585,  33417,  39864,  48622,  61268,  70094,\n",
       "        86192, 109943, 160274, 254497, 333693], dtype=int64)"
      ]
     },
     "execution_count": 16,
     "metadata": {},
     "output_type": "execute_result"
    }
   ],
   "source": [
    "def rollSum(curArray,rollWidth = 4):\n",
    "    curRoll = []\n",
    "    for x in range(rollWidth-1,len(curArray)):\n",
    "        curRoll.append(curArray[x+1-rollWidth:x+1].sum())\n",
    "    curRoll = np.array(curRoll)\n",
    "    return(curRoll)\n",
    "rollSum(df_case['0-19'])"
   ]
  },
  {
   "cell_type": "code",
   "execution_count": null,
   "metadata": {},
   "outputs": [],
   "source": [
    "# Calculate 4-week rolling sum of cases relative to population\n",
    "# df_case_roll = df_case_rela.copy()\n",
    "df_case_roll = pd.DataFrame()\n",
    "df_case_roll['Date'] = df_case.Date[3:]\n",
    "df_case_roll['0-19'] = rollSum(df_case['0-19'])/getPopSizeNational(0,19)\n",
    "df_case_roll['20-39'] = rollSum(df_case['20-39'])/getPopSizeNational(20,39)\n",
    "df_case_roll['40-59'] = rollSum(df_case['40-59'])/getPopSizeNational(40,59)\n",
    "df_case_roll['60-69'] = rollSum(df_case['60-69'])/getPopSizeNational(60,69)\n",
    "# df_case_roll['70-125'] = rollSum(df_case['70-125'])/getPopSizeNational(70,125)\n",
    "df_case_roll['70-79'] = rollSum(df_case['70-79'])/getPopSizeNational(70,79)\n",
    "df_case_roll['80-125'] = rollSum(df_case['80-125'])/getPopSizeNational(80,125)"
   ]
  },
  {
   "cell_type": "code",
   "execution_count": null,
   "metadata": {},
   "outputs": [
    {
     "data": {
      "application/vnd.jupyter.widget-view+json": {
       "model_id": "e45e3e64afb047da829da6b94730cefe",
       "version_major": 2,
       "version_minor": 0
      },
      "text/plain": [
       "Canvas(toolbar=Toolbar(toolitems=[('Home', 'Reset original view', 'home', 'home'), ('Back', 'Back to previous …"
      ]
     },
     "metadata": {},
     "output_type": "display_data"
    }
   ],
   "source": [
    "# allAgesCurrently = df_case.columns[1:]\n",
    "\n",
    "# fig,(ax1,ax2,ax3,ax4) = plt.subplots(4,1,figsize=(15,15),sharex=True)\n",
    "# for curAge in allAgesCurrently:\n",
    "#     ax1.plot(df_case.Date,df_case[curAge],label=curAge)\n",
    "#     ax2.plot(df_case.Date,df_case_rela[curAge],label=curAge)\n",
    "#     ax3.plot(df_case_roll.Date,df_case_roll[curAge],label=curAge)\n",
    "# ax1.legend()\n",
    "# ax1.set_ylim(bottom=0)\n",
    "# ax2.set_ylim(bottom=0)\n",
    "# ax3.set_ylim(bottom=0)\n",
    "# ax4.set_ylim(bottom=0)\n",
    "\n",
    "# ax1.set_ylabel('Cases')\n",
    "# ax2.set_ylabel('Cases relative to population')\n",
    "# ax3.set_ylabel('Rolling sum of cases (4-weeks)')\n",
    "# ax4.set_ylabel('All-cause mortality (EuroMOMO)')\n",
    "\n",
    "# ax1.set_xlim(left=df_case.Date[0])\n",
    "\n",
    "allAgesCurrently = df_case.columns[1:]\n",
    "\n",
    "# fig,(ax1,ax2,ax3,ax4) = plt.subplots(4,1,figsize=(15,15),sharex=True)\n",
    "fig,allAxes = plt.subplots(2,2,figsize=(18,10),sharex=True)\n",
    "ax1,ax2,ax3,ax4 = allAxes.flatten()\n",
    "\n",
    "# ax1_1 = ax1.twinx()\n",
    "\n",
    "for curAge in allAgesCurrently:\n",
    "    # ax1.plot(df_case.Date,df_case[curAge],'.-',label=curAge)\n",
    "    ax1.plot(df_case.Date,df_case_rela[curAge],'.-',label=curAge)\n",
    "    ax2.plot(df_case_roll.Date,df_case_roll[curAge],label=curAge)\n",
    "    ax3.plot(df_case.Date,df_death[curAge],'.-',label=curAge)\n",
    "    ax4.plot(df_allcause.Date,df_allcause[curAge],'.-',label=curAge)\n",
    "ax1.legend(loc = 'upper left')\n",
    "ax1.set_ylim(bottom=0)\n",
    "ax2.set_ylim(bottom=0)\n",
    "ax3.set_ylim(bottom=0)\n",
    "ax4.set_ylim(bottom=0)\n",
    "\n",
    "# ax1.set_ylabel('Cases')\n",
    "ax1.set_ylabel('Cases relative to population')\n",
    "ax2.set_ylabel('4-week sum of cases (relative)')\n",
    "ax3.set_ylabel('Deaths registrered as covid-deaths')\n",
    "ax4.set_ylabel('All-cause mortality (EuroMOMO)')\n",
    "\n",
    "ax1.set_xlim(left=df_case.Date[0],right=np.datetime64('today'))\n",
    "ax1.grid()\n",
    "ax2.grid()\n",
    "ax3.grid()\n",
    "ax4.grid()\n",
    "\n",
    "ax1.xaxis.set_major_formatter(mdates.DateFormatter('%d\\n%b'))\n",
    "\n",
    "plt.tight_layout()\n",
    "\n",
    "if saveFigures:\n",
    "    plt.savefig('Figures\\\\DataOverview')"
   ]
  },
  {
   "cell_type": "markdown",
   "metadata": {},
   "source": [
    "# Viggo's metode"
   ]
  },
  {
   "cell_type": "code",
   "execution_count": null,
   "metadata": {},
   "outputs": [],
   "source": [
    "# df_case.columns[1:]\n",
    "# 1-P"
   ]
  },
  {
   "cell_type": "code",
   "execution_count": null,
   "metadata": {},
   "outputs": [],
   "source": [
    "df_X = pd.DataFrame()\n",
    "df_Y = pd.DataFrame()\n",
    "df_D = pd.DataFrame()\n",
    "df_C = pd.DataFrame()\n",
    "df_P = pd.DataFrame()\n",
    "df_PD = pd.DataFrame()\n",
    "df_PX = pd.DataFrame() \n",
    "\n",
    "for curAge in df_case.columns[1:]:\n",
    "    numRoll = len(df_case_roll)\n",
    "    curDates = df_case['Date'].values[-numRoll:]\n",
    "    cur_allcause = df_allcause[curAge].values[-numRoll:]\n",
    "\n",
    "    cur_inci = df_case_roll[curAge].values\n",
    "    cur_regiDeath = df_death[curAge].values[-numRoll:]\n",
    "\n",
    "    D = cur_allcause\n",
    "    C = cur_regiDeath\n",
    "    P = cur_inci\n",
    "\n",
    "    X = (D-C)/(1-P)\n",
    "    Y = (C-(P*D))/(1-P)\n",
    "    \n",
    "    df_X[curAge] = X\n",
    "    df_Y[curAge] = Y\n",
    "    df_D[curAge] = D\n",
    "    df_C[curAge] = C\n",
    "    df_P[curAge] = P\n",
    "    df_PD[curAge] = P*D\n",
    "    df_PX[curAge] = P*X"
   ]
  },
  {
   "cell_type": "code",
   "execution_count": null,
   "metadata": {},
   "outputs": [],
   "source": [
    "# Correct to avoid negative values\n",
    "df_X[df_C == 0] = df_D[df_C == 0] \n",
    "df_Y[df_C == 0] = 0\n",
    "df_PX[df_C == 0] = 0 \n",
    "\n",
    "df_Y[df_C < df_PX] = 0\n",
    "# # df_X[df_C < df_PX] = df_D[df_C < df_PX] \n",
    "# df_C[df_C < df_PX] = df_PX[df_C < df_PX] \n",
    "\n",
    "\n",
    "df_X[df_C < df_PX] = df_D[df_C < df_PX] \n",
    "df_PX[df_C < df_PX] = df_C[df_C < df_PX] \n",
    "\n",
    "# df_X"
   ]
  },
  {
   "cell_type": "code",
   "execution_count": null,
   "metadata": {},
   "outputs": [],
   "source": [
    "len(df_Y)\n",
    "# len(weekNamesShort)\n",
    "curWeekNames = weekNamesShort[-len(df_Y):]\n",
    "curWeekNames\n",
    "\n",
    "df_Y_non = df_Y.copy()\n",
    "df_Y_non[df_Y_non < 0] = 0\n",
    "# df_Y_non"
   ]
  },
  {
   "cell_type": "code",
   "execution_count": null,
   "metadata": {},
   "outputs": [],
   "source": [
    "# df_Y[df_C == 0]"
   ]
  },
  {
   "cell_type": "code",
   "execution_count": null,
   "metadata": {},
   "outputs": [],
   "source": [
    "fig,(ax1,ax2) = plt.subplots(2,1,sharex=True,figsize=(13,9))\n",
    "curDates = df_case_roll.Date.values\n",
    "\n",
    "curWeekNames = weekNamesShort[-len(df_Y):]\n",
    "curDates = curWeekNames\n",
    "\n",
    "Y_sum = df_Y.sum(axis=1)\n",
    "Y_sum_non = df_Y_non.sum(axis=1)\n",
    "C_sum = df_C.sum(axis=1)\n",
    "D_sum = df_D.sum(axis=1)\n",
    "X_sum = df_X.sum(axis=1)\n",
    "ax1.fill_between(curDates,Y_sum,color='xkcd:purple',label='Dødsfald af COVID-19')\n",
    "ax1.fill_between(curDates,C_sum,Y_sum,color='xkcd:green',label='Dødsfald med COVID-19')\n",
    "# ax1.plot(curDates,Y_sum_non,label='Y, no negative')\n",
    "# ax1.plot(curDates,df_Y.sum(axis=1),label='Y')\n",
    "# ax1.plot(curDates,df_C.sum(axis=1),label='C')\n",
    "# # ax1.plot(curDates,C_sum,label='C')\n",
    "# ax2.fill_between(curDates,100*np.ones(C_sum.shape),label='C')\n",
    "# ax2.fill_between(curDates,100*(C_sum-Y_sum)/C_sum,label='C')\n",
    "ax2.plot(curDates,100*(C_sum-Y_sum)/C_sum,'k.-',label='Andel af dødsfald med COVID-19')\n",
    "# ax2.plot(curDates,100*(C_sum-Y_sum_non)/C_sum,label='No negative')\n",
    "# ax1.plot(curDates,Y_sum,'Y')\n",
    "# ax1.plot(curDates,Y_sum,'Y')\n",
    "\n",
    "ax1.legend(loc='upper left')\n",
    "# ax2.legend()\n",
    "ax1.set_ylim(bottom=0)\n",
    "ax2.set_ylim(bottom=0)\n",
    "\n",
    "\n",
    "fig.suptitle('Hele befolkningen',fontsize=20)\n",
    "\n",
    "ax1.set_ylabel('Ugentlige COVID-19 dødsfald')\n",
    "# ax2.set_ylabel('Andel af dødsfald \"med\" COVID-19\\naf de registrerede COVID-19-dødsfald [%]')\n",
    "ax2.set_ylabel('Dødsfald \"med\" COVID-19 i procent\\naf alle COVID-19 dødsfald [%]')\n",
    "# ax2.set_ylim(top=100)\n",
    "ax2.set_ylim(top=50)\n",
    "ax1.set_xlim(left=curDates[0],right=curDates[-1])\n",
    "\n",
    "ax2.set_xlabel('Uge')\n",
    "ax1.grid(axis='y')\n",
    "ax2.grid(axis='y')\n",
    "ax1.set_axisbelow(True)\n",
    "plt.tight_layout()\n",
    "\n",
    "if saveFigures:\n",
    "    fig.savefig('Figures/CovidDødsfaldSamlet')"
   ]
  },
  {
   "cell_type": "code",
   "execution_count": null,
   "metadata": {},
   "outputs": [],
   "source": [
    "# fig,(ax1,ax2) = plt.subplots(2,1,sharex=True,figsize=(13,9))\n",
    "# curDates = df_case_roll.Date.values\n",
    "\n",
    "# curWeekNames = weekNamesShort[-len(df_Y):]\n",
    "# curDates = curWeekNames\n",
    "\n",
    "# Y_sum = df_Y.sum(axis=1)\n",
    "# Y_sum_non = df_Y_non.sum(axis=1)\n",
    "# C_sum = df_C.sum(axis=1)\n",
    "# D_sum = df_D.sum(axis=1)\n",
    "# X_sum = df_X.sum(axis=1)\n",
    "# ax1.fill_between(curDates,Y_sum,color='xkcd:purple',label='Dødsfald af COVID-19')\n",
    "# ax1.fill_between(curDates,C_sum,Y_sum,color='xkcd:green',label='Dødsfald med COVID-19')\n",
    "# # ax1.plot(curDates,Y_sum_non,label='Y, no negative')\n",
    "# # ax1.plot(curDates,df_Y.sum(axis=1),label='Y')\n",
    "# # ax1.plot(curDates,df_C.sum(axis=1),label='C')\n",
    "# # # ax1.plot(curDates,C_sum,label='C')\n",
    "# # ax2.fill_between(curDates,100*np.ones(C_sum.shape),label='C')\n",
    "# # ax2.fill_between(curDates,100*(C_sum-Y_sum)/C_sum,label='C')\n",
    "# ax2.plot(curDates,100*(C_sum-Y_sum)/C_sum,'k.-',label='Andel af dødsfald med COVID-19')\n",
    "# # ax2.plot(curDates,100*(C_sum-Y_sum_non)/C_sum,label='No negative')\n",
    "# # ax1.plot(curDates,Y_sum,'Y')\n",
    "# # ax1.plot(curDates,Y_sum,'Y')\n",
    "\n",
    "# ax1.legend(loc='upper left')\n",
    "# # ax2.legend()\n",
    "# ax1.set_ylim(bottom=0)\n",
    "# ax2.set_ylim(bottom=0)\n",
    "\n",
    "\n",
    "# fig.suptitle('Hele befolkningen',fontsize=20)\n",
    "\n",
    "# ax1.set_ylabel('Ugentlige COVID-19 dødsfald')\n",
    "# ax2.set_ylabel('Andel af dødsfald \"med\" COVID-19\\naf de registrerede COVID-19-dødsfald [%]')\n",
    "# # ax2.set_ylim(top=100)\n",
    "# ax2.set_ylim(top=50)\n",
    "# ax1.set_xlim(left=curDates[0],right=curDates[-1])\n",
    "\n",
    "# ax2.set_xlabel('Uge')\n",
    "# ax1.grid(axis='y')\n",
    "# ax2.grid(axis='y')\n",
    "# ax1.set_axisbelow(True)\n",
    "# plt.tight_layout()\n",
    "\n",
    "# if saveFigures:\n",
    "#     fig.savefig('Figures/CovidDødsfaldSamlet')"
   ]
  },
  {
   "cell_type": "code",
   "execution_count": null,
   "metadata": {},
   "outputs": [],
   "source": [
    "# df_C\n",
    "# # df_C_non\n",
    "# # df_Y_non\n",
    "# # df_Y_non\n",
    "# df_Y"
   ]
  },
  {
   "cell_type": "code",
   "execution_count": null,
   "metadata": {},
   "outputs": [],
   "source": [
    "# df_C_non = df_C.copy()\n",
    "# # df_C_non = df_C[df_Y < 0]\n",
    "# df_C_non[df_Y < 0] = 0\n",
    "# # df_C_non = df_C.copy()\n",
    "# # df_C_non = df_C[df_Y < 0]"
   ]
  },
  {
   "cell_type": "code",
   "execution_count": null,
   "metadata": {},
   "outputs": [],
   "source": [
    "# fig,(ax1,ax2) = plt.subplots(2,1,sharex=True,figsize=(13,9))\n",
    "# curDates = df_case_roll.Date.values\n",
    "\n",
    "# curWeekNames = weekNamesShort[-len(df_Y):]\n",
    "# curDates = curWeekNames\n",
    "\n",
    "# Y_sum = df_Y.sum(axis=1)\n",
    "# Y_sum_non = df_Y_non.sum(axis=1)\n",
    "# C_sum = df_C.sum(axis=1)\n",
    "# C_sum_non = df_C_non.sum(axis=1)\n",
    "# D_sum = df_D.sum(axis=1)\n",
    "# X_sum = df_X.sum(axis=1)\n",
    "# ax1.fill_between(curDates,Y_sum_non,color='xkcd:purple',label='Dødsfald af COVID-19')\n",
    "# ax1.fill_between(curDates,C_sum_non,Y_sum_non,color='xkcd:green',label='Dødsfald med COVID-19')\n",
    "# ax2.plot(curDates,100*(C_sum_non-Y_sum_non)/C_sum_non,'k.-',label='Andel af dødsfald med COVID-19')\n",
    "\n",
    "# ax1.legend(loc='upper left')\n",
    "# # ax2.legend()\n",
    "# ax1.set_ylim(bottom=0)\n",
    "# ax2.set_ylim(bottom=0)\n",
    "\n",
    "# fig.suptitle('Hele befolkningen, korrigeret for negative tal',fontsize=20)\n",
    "\n",
    "# ax1.set_ylabel('Ugentlige COVID-19 dødsfald')\n",
    "# ax2.set_ylabel('Andel af dødsfald med COVID-19\\naf de registrerede COVID-19-dødsfald [%]')\n",
    "# # ax2.set_ylim(top=100)\n",
    "# ax2.set_ylim(top=50)\n",
    "# ax1.set_xlim(left=curDates[0],right=curDates[-1])\n",
    "\n",
    "# ax2.set_xlabel('Uge')\n",
    "# ax1.grid(axis='y')\n",
    "# ax2.grid(axis='y')\n",
    "# ax1.set_axisbelow(True)\n",
    "# plt.tight_layout()\n",
    "\n",
    "# if saveFigures:\n",
    "#     fig.savefig('Figures/CovidDødsfaldSamlet_NegativeKorrektion')"
   ]
  },
  {
   "cell_type": "code",
   "execution_count": null,
   "metadata": {},
   "outputs": [],
   "source": [
    "# df_Y.iloc[:,3:]"
   ]
  },
  {
   "cell_type": "code",
   "execution_count": null,
   "metadata": {},
   "outputs": [],
   "source": [
    "# fig,(ax1,ax2) = plt.subplots(2,1,sharex=True,figsize=(13,9))\n",
    "# curDates = df_case_roll.Date.values\n",
    "\n",
    "# curWeekNames = weekNamesShort[-len(df_Y):]\n",
    "# curDates = curWeekNames\n",
    "\n",
    "# # Y_sum = df_Y.sum(axis=1)\n",
    "# # Y_sum_non = df_Y_non.sum(axis=1)\n",
    "# # C_sum = df_C.sum(axis=1)\n",
    "# # D_sum = df_D.sum(axis=1)\n",
    "# # X_sum = df_X.sum(axis=1)\n",
    "# Y_sum = df_Y.iloc[:,3:].sum(axis=1)\n",
    "# Y_sum_non = df_Y_non.iloc[:,3:].sum(axis=1)\n",
    "# C_sum = df_C.iloc[:,3:].sum(axis=1)\n",
    "# D_sum = df_D.iloc[:,3:].sum(axis=1)\n",
    "# X_sum = df_X.iloc[:,3:].sum(axis=1)\n",
    "\n",
    "# ax1.fill_between(curDates,Y_sum,color='xkcd:purple',label='Dødsfald af COVID-19')\n",
    "# ax1.fill_between(curDates,C_sum,Y_sum,color='xkcd:green',label='Dødsfald med COVID-19')\n",
    "# # ax1.plot(curDates,Y_sum_non,label='Y, no negative')\n",
    "# # ax1.plot(curDates,df_Y.sum(axis=1),label='Y')\n",
    "# # ax1.plot(curDates,df_C.sum(axis=1),label='C')\n",
    "# # # ax1.plot(curDates,C_sum,label='C')\n",
    "# # ax2.fill_between(curDates,100*np.ones(C_sum.shape),label='C')\n",
    "# # ax2.fill_between(curDates,100*(C_sum-Y_sum)/C_sum,label='C')\n",
    "# ax2.plot(curDates,100*(C_sum-Y_sum)/C_sum,'k.-',label='Andel af dødsfald med COVID-19')\n",
    "# # ax2.plot(curDates,100*(C_sum-Y_sum_non)/C_sum,label='No negative')\n",
    "# # ax1.plot(curDates,Y_sum,'Y')\n",
    "# # ax1.plot(curDates,Y_sum,'Y')\n",
    "\n",
    "# ax1.legend(loc='upper left')\n",
    "# # ax2.legend()\n",
    "# ax1.set_ylim(bottom=0)\n",
    "# ax2.set_ylim(bottom=0)\n",
    "\n",
    "# fig.suptitle('60 årige og op',fontsize=20)\n",
    "\n",
    "# ax1.set_ylabel('Ugentlige COVID-19 dødsfald')\n",
    "# ax2.set_ylabel('Andel af dødsfald \"med\" COVID-19\\naf de registrerede COVID-19-dødsfald [%]')\n",
    "# # ax2.set_ylim(top=100)\n",
    "# ax2.set_ylim(top=50)\n",
    "# ax1.set_xlim(left=curDates[0],right=curDates[-1])\n",
    "\n",
    "# ax2.set_xlabel('Uge')\n",
    "# ax1.grid(axis='y')\n",
    "# ax2.grid(axis='y')\n",
    "# ax1.set_axisbelow(True)\n",
    "# plt.tight_layout()\n",
    "\n",
    "# if saveFigures:\n",
    "#     fig.savefig('Figures/CovidDødsfaldSamlet_60+')"
   ]
  },
  {
   "cell_type": "code",
   "execution_count": null,
   "metadata": {},
   "outputs": [
    {
     "data": {
      "application/vnd.jupyter.widget-view+json": {
       "model_id": "e5472a0375a74a7aad1d0c2ce764404b",
       "version_major": 2,
       "version_minor": 0
      },
      "text/plain": [
       "Canvas(toolbar=Toolbar(toolitems=[('Home', 'Reset original view', 'home', 'home'), ('Back', 'Back to previous …"
      ]
     },
     "metadata": {},
     "output_type": "display_data"
    },
    {
     "data": {
      "application/vnd.jupyter.widget-view+json": {
       "model_id": "933a8274cb0c469495949085a9698b4d",
       "version_major": 2,
       "version_minor": 0
      },
      "text/plain": [
       "Canvas(toolbar=Toolbar(toolitems=[('Home', 'Reset original view', 'home', 'home'), ('Back', 'Back to previous …"
      ]
     },
     "metadata": {},
     "output_type": "display_data"
    },
    {
     "data": {
      "application/vnd.jupyter.widget-view+json": {
       "model_id": "bd917917dec74473b208ee4f3d324cd0",
       "version_major": 2,
       "version_minor": 0
      },
      "text/plain": [
       "Canvas(toolbar=Toolbar(toolitems=[('Home', 'Reset original view', 'home', 'home'), ('Back', 'Back to previous …"
      ]
     },
     "metadata": {},
     "output_type": "display_data"
    },
    {
     "data": {
      "application/vnd.jupyter.widget-view+json": {
       "model_id": "3a3a1a12b94646739065d65c5d9d3167",
       "version_major": 2,
       "version_minor": 0
      },
      "text/plain": [
       "Canvas(toolbar=Toolbar(toolitems=[('Home', 'Reset original view', 'home', 'home'), ('Back', 'Back to previous …"
      ]
     },
     "metadata": {},
     "output_type": "display_data"
    },
    {
     "data": {
      "application/vnd.jupyter.widget-view+json": {
       "model_id": "12a2ff5acb954ad2b0d0e8740774183c",
       "version_major": 2,
       "version_minor": 0
      },
      "text/plain": [
       "Canvas(toolbar=Toolbar(toolitems=[('Home', 'Reset original view', 'home', 'home'), ('Back', 'Back to previous …"
      ]
     },
     "metadata": {},
     "output_type": "display_data"
    },
    {
     "data": {
      "application/vnd.jupyter.widget-view+json": {
       "model_id": "512ca5424ab644adb329fcf2844b539d",
       "version_major": 2,
       "version_minor": 0
      },
      "text/plain": [
       "Canvas(toolbar=Toolbar(toolitems=[('Home', 'Reset original view', 'home', 'home'), ('Back', 'Back to previous …"
      ]
     },
     "metadata": {},
     "output_type": "display_data"
    }
   ],
   "source": [
    "# curAge = '70-79'\n",
    "plt.close('all')\n",
    "\n",
    "for curAge in df_case.columns[1:]:\n",
    "    curDates = df_case_roll.Date.values\n",
    "    curWeekNames = weekNamesShort[-len(df_Y):]\n",
    "    curDates = curWeekNames\n",
    "    curDatesAll = weekNamesShort\n",
    "\n",
    "    # fig,allAxes = plt.subplots(2,2,sharex=True)\n",
    "    fig,allAxes = plt.subplots(2,2,figsize=(15,9))\n",
    "\n",
    "    # ax1,ax2 = allAxes.flatten()\n",
    "    # ax1,ax2,ax3,ax4 = allAxes.flatten()\n",
    "    # ax4,ax3,ax1,ax2 = allAxes.flatten()\n",
    "    ax3,ax4,ax1,ax2 = allAxes.flatten()\n",
    "\n",
    "    ax3.plot(curDatesAll,df_case[curAge],'k.-')\n",
    "    ax3_2 = ax3.twinx()\n",
    "    ax3_2.plot(curDatesAll,100*df_case_rela[curAge],'k.-')\n",
    "\n",
    "    ax4.plot(curDates,100*df_case_roll[curAge],'k.-')\n",
    "\n",
    "    ax1.plot(curDates,df_D[curAge],'k.-',label='D: Alle dødsfald (EuroMOMO)')\n",
    "    ax1.plot(curDates,df_X[curAge],'m.-',label='X: Dødsfald ej COVID-19')\n",
    "    ax2.plot(curDates,df_C[curAge],'k.-',label='C: Dødsfald registreret som COVID-19')\n",
    "    ax2.plot(curDates,df_Y[curAge],'b.-',label='Y: Dødsfald af COVID-19')\n",
    "    ax2.plot(curDates,df_C[curAge]-df_Y[curAge],'.-',color='xkcd:dark yellow',label='C-Y: Dødsfald med COVID-19')\n",
    "\n",
    "    ax1.legend(loc='lower left',fontsize=13)\n",
    "    ax2.legend(loc='upper left',fontsize=13)\n",
    "\n",
    "    ax1.set_ylim(bottom=0)\n",
    "    # ax2.set_ylim(bottom=0)\n",
    "    ax3.set_ylim(bottom=0)\n",
    "    ax3_2.set_ylim(bottom=0)\n",
    "    ax4.set_ylim(bottom=0)\n",
    "    \n",
    "    curLabel = 'Aldersgruppe: '\n",
    "    if curAge == '80-125':\n",
    "        curLabel = curLabel + '80 årige og op'\n",
    "    else:\n",
    "        curLabel = curLabel + curAge.split('-')[0] + ' til '+ curAge.split('-')[1] + ' årige'\n",
    "    fig.suptitle(curLabel,fontsize=28)\n",
    "    # fig.suptitle(f'Aldersgruppe: {curAge}',fontsize=28)\n",
    "\n",
    "    ax1.grid(axis='y')\n",
    "    ax2.grid(axis='y')\n",
    "    ax3.grid(axis='y')\n",
    "    ax4.grid(axis='y')\n",
    "\n",
    "    ax1.set_ylabel('Ugentlige dødsfald')\n",
    "    ax2.set_ylabel('Ugentlige dødsfald')\n",
    "    ax3.set_ylabel('Antal ugentlige tilfælde')\n",
    "    ax3_2.set_ylabel('Ugentlige tilfælde\\nper 100 borgere [%]')\n",
    "    ax4.set_ylabel('4-ugers rullende sum af\\ntilfælde per 100 borgere [%]')\n",
    "\n",
    "    ax1.set_xlim(left=curDates[0],right=curDates[-1])\n",
    "    ax2.set_xlim(left=curDates[0],right=curDates[-1])\n",
    "    ax3.set_xlim(left=curDatesAll[3],right=curDatesAll[-1])\n",
    "    ax4.set_xlim(left=curDates[0],right=curDates[-1])\n",
    "\n",
    "    ax1.set_xlabel('Uge')\n",
    "    ax2.set_xlabel('Uge')\n",
    "\n",
    "    plt.tight_layout()\n",
    "\n",
    "    if saveFigures:\n",
    "        fig.savefig(f'Figures\\\\Overblik{curAge}')"
   ]
  },
  {
   "cell_type": "code",
   "execution_count": null,
   "metadata": {},
   "outputs": [
    {
     "data": {
      "application/vnd.jupyter.widget-view+json": {
       "model_id": "32d98d59a40440be9e0883523f152bbe",
       "version_major": 2,
       "version_minor": 0
      },
      "text/plain": [
       "Canvas(toolbar=Toolbar(toolitems=[('Home', 'Reset original view', 'home', 'home'), ('Back', 'Back to previous …"
      ]
     },
     "metadata": {},
     "output_type": "display_data"
    },
    {
     "data": {
      "application/vnd.jupyter.widget-view+json": {
       "model_id": "11fbd91c3e7242d1b9f7ef7251946425",
       "version_major": 2,
       "version_minor": 0
      },
      "text/plain": [
       "Canvas(toolbar=Toolbar(toolitems=[('Home', 'Reset original view', 'home', 'home'), ('Back', 'Back to previous …"
      ]
     },
     "metadata": {},
     "output_type": "display_data"
    },
    {
     "data": {
      "application/vnd.jupyter.widget-view+json": {
       "model_id": "8945042246f64527969076a0c933b638",
       "version_major": 2,
       "version_minor": 0
      },
      "text/plain": [
       "Canvas(toolbar=Toolbar(toolitems=[('Home', 'Reset original view', 'home', 'home'), ('Back', 'Back to previous …"
      ]
     },
     "metadata": {},
     "output_type": "display_data"
    },
    {
     "data": {
      "application/vnd.jupyter.widget-view+json": {
       "model_id": "c3ee0d6341fb4d2081b365d233d23602",
       "version_major": 2,
       "version_minor": 0
      },
      "text/plain": [
       "Canvas(toolbar=Toolbar(toolitems=[('Home', 'Reset original view', 'home', 'home'), ('Back', 'Back to previous …"
      ]
     },
     "metadata": {},
     "output_type": "display_data"
    },
    {
     "data": {
      "application/vnd.jupyter.widget-view+json": {
       "model_id": "311d94d83d1c451292be3fc8519b0f4c",
       "version_major": 2,
       "version_minor": 0
      },
      "text/plain": [
       "Canvas(toolbar=Toolbar(toolitems=[('Home', 'Reset original view', 'home', 'home'), ('Back', 'Back to previous …"
      ]
     },
     "metadata": {},
     "output_type": "display_data"
    },
    {
     "data": {
      "application/vnd.jupyter.widget-view+json": {
       "model_id": "54cb7a6b526c445da0ab73ffc83b7654",
       "version_major": 2,
       "version_minor": 0
      },
      "text/plain": [
       "Canvas(toolbar=Toolbar(toolitems=[('Home', 'Reset original view', 'home', 'home'), ('Back', 'Back to previous …"
      ]
     },
     "metadata": {},
     "output_type": "display_data"
    }
   ],
   "source": [
    "# curAge = '70-79'\n",
    "\n",
    "plt.close('all')\n",
    "\n",
    "for curAge in df_case.columns[1:]:\n",
    "# for curAge in df_case.columns[5:6]:\n",
    "    curDates = df_case_roll.Date.values\n",
    "    curWeekNames = weekNamesShort[-len(df_Y):]\n",
    "    curDates = curWeekNames\n",
    "    curDatesAll = weekNamesShort\n",
    "\n",
    "    # fig,allAxes = plt.subplots(2,2,sharex=True)\n",
    "    fig,allAxes = plt.subplots(2,2,figsize=(15,9))\n",
    "\n",
    "    # ax1,ax2 = allAxes.flatten()\n",
    "    # ax1,ax2,ax3,ax4 = allAxes.flatten()\n",
    "    # ax4,ax3,ax1,ax2 = allAxes.flatten()\n",
    "    ax3,ax4,ax1,ax2 = allAxes.flatten()\n",
    "\n",
    "    ax3.plot(curDatesAll,df_case[curAge],'k.-')\n",
    "    # ax3.errorbar(curDatesAll,df_case[curAge].values,np.sqrt(df_case[curAge].values),fmt='.-',color='k')\n",
    "    ax3_2 = ax3.twinx()\n",
    "    ax3_2.plot(curDatesAll,100*df_case_rela[curAge],'k.-')\n",
    "\n",
    "    ax4.plot(curDates,100*df_case_roll[curAge],'k.-')\n",
    "\n",
    "    # ax1.plot(curDates,df_D[curAge],'k.-',label='D: All-cause mortality (EuroMOMO)')\n",
    "    ax1.errorbar(curDates,df_D[curAge],2*np.sqrt(df_D[curAge]),fmt='.-',color='k',label='D: Alle dødsfald (EuroMOMO)',capsize=3,capthick=2,elinewidth=2)\n",
    "    ax1.plot(curDates,df_X[curAge],'m.-',label='X: Dødsfald ej COVID-19')\n",
    "    # ax2.plot(curDates,df_C[curAge],'k.-',label='C: Dødsfald registreret som COVID-19')\n",
    "    ax2.errorbar(curDates,df_C[curAge],2*np.sqrt(df_C[curAge]),fmt='.-',color='k',label='C: Dødsfald registreret som COVID-19',capsize=3,capthick=2,elinewidth=2)\n",
    "    ax2.plot(curDates,df_Y[curAge],'b.-',label='Y: Dødsfald af COVID-19')\n",
    "    ax2.plot(curDates,df_C[curAge]-df_Y[curAge],'.-',color='xkcd:dark yellow',label='C-Y: Dødsfald med COVID-19')\n",
    "\n",
    "    ax1.legend(loc='lower left',fontsize=13)\n",
    "    ax2.legend(loc='upper left',fontsize=13)\n",
    "\n",
    "    ax1.set_ylim(bottom=0)\n",
    "    # ax2.set_ylim(bottom=0)\n",
    "    ax3.set_ylim(bottom=0)\n",
    "    ax3_2.set_ylim(bottom=0)\n",
    "    ax4.set_ylim(bottom=0)\n",
    "    \n",
    "    curLabel = 'Aldersgruppe: '\n",
    "    if curAge == '80-125':\n",
    "        curLabel = curLabel + '80 årige og op'\n",
    "    else:\n",
    "        curLabel = curLabel + curAge.split('-')[0] + ' til '+ curAge.split('-')[1] + ' årige'\n",
    "    fig.suptitle(curLabel,fontsize=28)\n",
    "    # fig.suptitle(f'Aldersgruppe: {curAge}',fontsize=28)\n",
    "\n",
    "    ax1.grid(axis='y')\n",
    "    ax2.grid(axis='y')\n",
    "    ax3.grid(axis='y')\n",
    "    ax4.grid(axis='y')\n",
    "\n",
    "    ax1.set_ylabel('Ugentlige dødsfald')\n",
    "    ax2.set_ylabel('Ugentlige dødsfald')\n",
    "    ax3.set_ylabel('Antal ugentlige tilfælde')\n",
    "    ax3_2.set_ylabel('Ugentlige tilfælde\\nper 100 borgere [%]')\n",
    "    ax4.set_ylabel('4-ugers rullende sum af\\ntilfælde per 100 borgere [%]')\n",
    "\n",
    "    ax1.set_xlim(left=curDates[0],right=curDates[-1])\n",
    "    ax2.set_xlim(left=curDates[0],right=curDates[-1])\n",
    "    ax3.set_xlim(left=curDatesAll[3],right=curDatesAll[-1])\n",
    "    ax4.set_xlim(left=curDates[0],right=curDates[-1])\n",
    "\n",
    "    ax1.set_xlabel('Uge')\n",
    "    ax2.set_xlabel('Uge')\n",
    "\n",
    "    plt.tight_layout()\n",
    "\n",
    "    if saveFigures:\n",
    "        fig.savefig(f'Figures\\\\OverblikUsikkerhed{curAge}')"
   ]
  },
  {
   "cell_type": "code",
   "execution_count": null,
   "metadata": {},
   "outputs": [
    {
     "data": {
      "text/plain": [
       "array([16.76305461, 25.74878638, 28.19574436, 29.68164416, 34.        ,\n",
       "       37.60319135, 39.58535083, 38.67815921, 37.86819246, 37.69615365,\n",
       "       39.34463115, 66.88049043, 51.63332257, 50.43808085, 64.97691898,\n",
       "       79.94373021])"
      ]
     },
     "execution_count": 46,
     "metadata": {},
     "output_type": "execute_result"
    }
   ],
   "source": [
    "np.sqrt(df_case[curAge].values)"
   ]
  },
  {
   "cell_type": "code",
   "execution_count": null,
   "metadata": {},
   "outputs": [],
   "source": [
    "# plt.close('all')\n",
    "# curAge = '0-19'\n",
    "# curAge = '20-39'\n",
    "# curAge = '40-59'\n",
    "# curAge = '60-69'\n",
    "# # curAge = '70-125'\n",
    "# curAge = '70-79'\n",
    "# curAge = '80-125'\n",
    "\n",
    "# numRoll = len(df_case_roll)\n",
    "# curDates = df_case['Date'].values[-numRoll:]\n",
    "# cur_allcause = df_allcause[curAge].values[-numRoll:]\n",
    "\n",
    "# cur_inci = df_case_roll[curAge].values\n",
    "# cur_regiDeath = df_death[curAge].values[-numRoll:]\n",
    "\n",
    "# D = cur_allcause\n",
    "# C = cur_regiDeath\n",
    "# P = cur_inci\n",
    "\n",
    "# X = (D-C)/(1-P)\n",
    "# Y = (C-(P*D))/(1-P)\n",
    "\n",
    "# # Y + X = D\n",
    "# # Y + P*X = C \n",
    "\n",
    "# # Y + X - Y - P*X = D-C\n",
    "# # (1-P)X = D-C \n",
    "# # X = (D-C)/(1-P)\n",
    "\n",
    "# # Y + (D-C)/(1-P) = D\n",
    "# # Y = D - (D-C)/(1-P) \n",
    "# # Y = [(1-P)D - D + C]/(1-P)\n",
    "# # Y = [C-P*D]/(1-P)\n",
    "\n",
    "# # C - Y = P*D\n",
    "\n",
    "# # fig,(ax1,ax2,ax3) = plt.subplots(3,1,sharex=True)\n",
    "# fig,(ax1,ax2) = plt.subplots(2,1,sharex=True)\n",
    "# # ax1.plot(curDates,D,label='All cause mortality (D)')\n",
    "# ax1.errorbar(curDates,D,np.sqrt(D),label='All cause mortality (D)')\n",
    "# ax1.plot(curDates,X,label='Non-Covid mortality (X)')\n",
    "# # ax2.plot(curDates,C,label='Registrered Covid mortality (C)')\n",
    "# ax2.errorbar(curDates,C,np.sqrt(C),label='Registrered Covid mortality (C)')\n",
    "# # ax2.plot(curDates,P*X,label='P*X')\n",
    "# # ax2.plot(curDates,P*D,label='P*D')\n",
    "# ax2.plot(curDates,Y,label='Actual Covid-mortality (Y)')\n",
    "# # ax2.plot(curDates,C-Y,label='Misregistrations (C-Y)')\n",
    "# ax2.errorbar(curDates,C-Y,np.sqrt(C-Y),label='Misregistrations (C-Y)')\n",
    "# # ax3.fill_between(curDates,100*np.ones(C.shape),label='Covid')\n",
    "# # ax3.fill_between(curDates,100*(C-Y)/C,label='Non-Covid')\n",
    "\n",
    "\n",
    "# ax1.legend()\n",
    "# ax2.legend()\n",
    "# # ax3.legend()\n",
    "\n",
    "# ax1.grid()\n",
    "# ax2.grid()\n",
    "\n",
    "# # ax3.set_ylim([0,50]) \n",
    "# ax1.set_ylim(bottom=0)\n",
    "\n",
    "# # ax3.set_ylabel('Covid-registrered deaths [%]')\n",
    "\n",
    "# if saveFigures:\n",
    "#     fig.savefig(f'Figures/ViggoMetode_{curAge}')"
   ]
  },
  {
   "cell_type": "code",
   "execution_count": null,
   "metadata": {},
   "outputs": [],
   "source": [
    "# curAge = '0-19'\n",
    "# # curAge = '20-39'\n",
    "# # curAge = '40-59'\n",
    "# # curAge = '60-69'\n",
    "# # curAge = '70-125'\n",
    "\n",
    "# numRoll = len(df_case_roll)\n",
    "# curDates = df_case['Date'].values[-numRoll:]\n",
    "# cur_allcause = df_allcause[curAge].values[-numRoll:]\n",
    "\n",
    "# cur_inci = df_case_roll[curAge].values\n",
    "# cur_regiDeath = df_death[curAge].values[-numRoll:]\n",
    "\n",
    "# D = cur_allcause\n",
    "# C = cur_regiDeath\n",
    "# P = cur_inci\n",
    "\n",
    "# X = (D-C)/(1-P)\n",
    "# Y = (C-(P*D))/(1-P)\n",
    "# X\n",
    "\n",
    "\n",
    "# # fig,(ax1,ax2,ax3) = plt.subplots(3,1,sharex=True)\n",
    "# fig,(ax1,ax2) = plt.subplots(2,1,sharex=True)\n",
    "# ax1.plot(curDates,P,label='P')\n",
    "# # ax1.plot(curDates,X,label='Non-Covid mortality (X)')\n",
    "# # ax2.plot(curDates,C,label='Registrered Covid mortality (C)')\n",
    "# # ax2.plot(curDates,Y,label='Actual Covid-mortality (Y)')\n",
    "# # ax2.plot(curDates,C-Y,label='Misregistrations (C-Y)')\n",
    "# # ax3.fill_between(curDates,100*np.ones(C.shape),label='Covid')\n",
    "# # ax3.fill_between(curDates,100*(C-Y)/C,label='Non-Covid')\n",
    "\n",
    "\n",
    "# # ax1.legend()\n",
    "# # ax2.legend()\n",
    "# # # ax3.legend()\n",
    "\n",
    "# # ax1.grid()\n",
    "# # ax2.grid()\n",
    "\n",
    "# # ax3.set_ylim([0,50]) \n",
    "# ax1.set_ylim(bottom=0)\n",
    "\n",
    "# # ax3.set_ylabel('Covid-registrered deaths [%]')\n",
    "\n",
    "# # if saveFigures:\n",
    "# #     fig.savefig(f'Figures/ViggoMetode_{curAge}')"
   ]
  },
  {
   "cell_type": "markdown",
   "metadata": {},
   "source": [
    "# Old below"
   ]
  },
  {
   "cell_type": "code",
   "execution_count": null,
   "metadata": {},
   "outputs": [],
   "source": [
    "\n",
    "# allMort,allMortDates = getAllCause(0,19)\n",
    "# allMort = allMort[-13:]\n",
    "# allMortDates = allMortDates[-13:]\n",
    "# curPop = getPopSizeNational(0,19)\n",
    "# curRoll = [x.sum() for x in sliding_window_view(allCases_0_19, window_shape = 4)]\n",
    "# curRollRela = curRoll/curPop\n",
    "\n",
    "# DeathRandom_0_19 = allMort*curRollRela"
   ]
  },
  {
   "cell_type": "code",
   "execution_count": null,
   "metadata": {},
   "outputs": [],
   "source": [
    "# # getTimeSeriesAll()\n",
    "# ssiAges = df2_C.Aldersgruppe.unique()\n",
    "# print(ssiAges)\n",
    "# firstAges = [int(x.split('-')[0]) for x in ssiAges[:-3]]\n",
    "# firstAges.append(80)\n",
    "\n",
    "# lastAges = [int(x.split('-')[1]) for x in ssiAges[:-3]]\n",
    "# lastAges.append(125)\n",
    "    \n",
    "#     firstIndex = 0\n",
    "#     lastIndex = -1\n",
    "\n",
    "#     if (minAge == 95):\n",
    "#         firstIndex = -2\n",
    "#     elif (firstAge == minAge).any():\n",
    "#         firstIndex = np.where(firstAge == minAge)[0][0]\n",
    "#     else:\n",
    "#         print('Incorrect minimum age, using 0')\n",
    "        \n",
    "#     if (maxAge == 125):\n",
    "#         lastIndex = -1\n",
    "#     elif (lastAge == maxAge).any():\n",
    "#         lastIndex = np.where(lastAge == maxAge)[0][0]+1\n",
    "#     else:\n",
    "#         print('Incorrect maximum age, using maximum')\n"
   ]
  },
  {
   "cell_type": "code",
   "execution_count": null,
   "metadata": {},
   "outputs": [],
   "source": [
    "# allDeaths = getTimeSeries(df2_D,sNone)+getTimeSeries(df2_D,sOne)+getTimeSeries(df2_D,sTwo)\n",
    "# allCases = getTimeSeries(df2_C,sNone)+getTimeSeries(df2_C,sOne)+getTimeSeries(df2_C,sTwo)\n",
    "\n",
    "# # fig,(ax1,ax2) = plt.subplots(2,1,sharex=True)\n",
    "# # ax1.plot(allDates,allCases)\n",
    "# # ax2.plot(allDates,allDeaths)\n",
    "\n",
    "# # ax1.set_xlim([np.datetime64('2021-10'),np.datetime64('2022-03')])\n",
    "# # ax1.grid()\n",
    "# # ax2.grid()\n",
    "# # ax2.set_ylim(bottom=0)"
   ]
  },
  {
   "cell_type": "code",
   "execution_count": null,
   "metadata": {},
   "outputs": [],
   "source": [
    "# # get\n",
    "# # allCases = getTimeSeries(df2_C,sNone)+getTimeSeries(df2_C,sOne)+getTimeSeries(df2_C,sTwo)\n",
    "# allCases_0_19 = getTimeSeriesAll(df2_C,'0-5') +getTimeSeriesAll(df2_C,'6-11') +getTimeSeriesAll(df2_C,'12-15') +getTimeSeriesAll(df2_C,'16-19') \n",
    "# # allCases_0_19 = getTimeSeriesAll(df2_C,'0-5') +getTimeSeriesAll(df2_C,'6-11') +getTimeSeriesAll(df2_C,'12-15') +getTimeSeriesAll(df2_C,'16-19') \n",
    "# # allCases_0_19 = getTimeSeriesAll(df2_C,'0-5') +getTimeSeriesAll(df2_C,'6-11') +getTimeSeriesAll(df2_C,'12-15') +getTimeSeriesAll(df2_C,'16-19') \n",
    "# # allCases_0_19 = getTimeSeriesAll(df2_C,'0-5') +getTimeSeriesAll(df2_C,'6-11') +getTimeSeriesAll(df2_C,'12-15') +getTimeSeriesAll(df2_C,'16-19') \n",
    "# allCases_0_19\n",
    "\n",
    "# allMort,allMortDates = getAllCause(0,19)\n",
    "# allMort = allMort[-13:]\n",
    "# allMortDates = allMortDates[-13:]\n",
    "# curPop = getPopSizeNational(0,19)\n",
    "# curRoll = [x.sum() for x in sliding_window_view(allCases_0_19, window_shape = 4)]\n",
    "# curRollRela = curRoll/curPop\n",
    "\n",
    "# DeathRandom_0_19 = allMort*curRollRela"
   ]
  },
  {
   "cell_type": "code",
   "execution_count": null,
   "metadata": {},
   "outputs": [],
   "source": [
    "# df2_C"
   ]
  },
  {
   "cell_type": "code",
   "execution_count": null,
   "metadata": {},
   "outputs": [],
   "source": [
    "\n",
    "# allCases_20_39 = getTimeSeriesAll(df2_C,'20-29') +getTimeSeriesAll(df2_C,'30-39')\n",
    "# allCases_20_39\n",
    "\n",
    "# allMort,allMortDates = getAllCause(20,39)\n",
    "# curPop = getPopSizeNational(20,39)\n",
    "# allMort = allMort[-13:]\n",
    "# allMortDates = allMortDates[-13:]\n",
    "# curRoll = [x.sum() for x in sliding_window_view(allCases_20_39, window_shape = 4)]\n",
    "# curRollRela = curRoll/curPop\n",
    "\n",
    "# DeathRandom_20_39 = allMort*curRollRela"
   ]
  },
  {
   "cell_type": "code",
   "execution_count": null,
   "metadata": {},
   "outputs": [],
   "source": [
    "\n",
    "# allCases_40_64 = getTimeSeriesAll(df2_C,'40-49') +getTimeSeriesAll(df2_C,'50-59') +getTimeSeriesAll(df2_C,'60-64')\n",
    "# allCases_40_64\n",
    "\n",
    "# allMort,allMortDates = getAllCause(40,64)\n",
    "# curPop = getPopSizeNational(40,64)\n",
    "# allMort = allMort[-13:]\n",
    "# allMortDates = allMortDates[-13:]\n",
    "# curRoll = [x.sum() for x in sliding_window_view(allCases_40_64, window_shape = 4)]\n",
    "# curRollRela = curRoll/curPop\n",
    "\n",
    "# DeathRandom_40_64 = allMort*curRollRela"
   ]
  },
  {
   "cell_type": "code",
   "execution_count": null,
   "metadata": {},
   "outputs": [],
   "source": [
    "\n",
    "# allCases_65_79 = getTimeSeriesAll(df2_C,'65-69') +getTimeSeriesAll(df2_C,'70-79')\n",
    "# allCases_65_79\n",
    "\n",
    "# allMort,allMortDates = getAllCause(65,79)\n",
    "# curPop = getPopSizeNational(65,79)\n",
    "# allMort = allMort[-13:]\n",
    "# allMortDates = allMortDates[-13:]\n",
    "# curRoll = [x.sum() for x in sliding_window_view(allCases_65_79, window_shape = 4)]\n",
    "# curRollRela = curRoll/curPop\n",
    "\n",
    "# DeathRandom_65_79 = allMort*curRollRela"
   ]
  },
  {
   "cell_type": "code",
   "execution_count": null,
   "metadata": {},
   "outputs": [],
   "source": [
    "\n",
    "\n",
    "# allCases_80 = getTimeSeriesAll(df2_C,'80+') \n",
    "# allCases_80\n",
    "\n",
    "# allMort,allMortDates = getAllCause(80,125)\n",
    "# curPop = getPopSizeNational(80,125)\n",
    "# allMort = allMort[-13:]\n",
    "# allMortDates = allMortDates[-13:]\n",
    "# curRoll = [x.sum() for x in sliding_window_view(allCases_80, window_shape = 4)]\n",
    "# curRollRela = curRoll/curPop\n",
    "\n",
    "# DeathRandom_80 = allMort*curRollRela"
   ]
  },
  {
   "cell_type": "code",
   "execution_count": null,
   "metadata": {},
   "outputs": [
    {
     "data": {
      "application/vnd.jupyter.widget-view+json": {
       "model_id": "6730f2971f404437b9306e7b75cd231b",
       "version_major": 2,
       "version_minor": 0
      },
      "text/plain": [
       "Canvas(toolbar=Toolbar(toolitems=[('Home', 'Reset original view', 'home', 'home'), ('Back', 'Back to previous …"
      ]
     },
     "metadata": {},
     "output_type": "display_data"
    },
    {
     "data": {
      "text/plain": [
       "[<matplotlib.lines.Line2D at 0x2748ecadd60>]"
      ]
     },
     "execution_count": 74,
     "metadata": {},
     "output_type": "execute_result"
    }
   ],
   "source": [
    "\n",
    "# fig,ax1 = plt.subplots()\n",
    "\n",
    "# ax1.plot(allMortDates,DeathRandom_0_19)\n",
    "# ax1.plot(allMortDates,DeathRandom_20_39)\n",
    "# ax1.plot(allMortDates,DeathRandom_40_64)\n",
    "# ax1.plot(allMortDates,DeathRandom_65_79)\n",
    "# ax1.plot(allMortDates,DeathRandom_80)\n",
    "# ax1.plot(allMortDates,DeathRandom_0_19+DeathRandom_20_39+DeathRandom_40_64+DeathRandom_65_79+DeathRandom_80)"
   ]
  },
  {
   "cell_type": "code",
   "execution_count": null,
   "metadata": {},
   "outputs": [
    {
     "data": {
      "application/vnd.jupyter.widget-view+json": {
       "model_id": "b44cd4fdd180447982627c1b28977d02",
       "version_major": 2,
       "version_minor": 0
      },
      "text/plain": [
       "Canvas(toolbar=Toolbar(toolitems=[('Home', 'Reset original view', 'home', 'home'), ('Back', 'Back to previous …"
      ]
     },
     "metadata": {},
     "output_type": "display_data"
    },
    {
     "data": {
      "text/plain": [
       "[<matplotlib.lines.Line2D at 0x2748ae0c880>]"
      ]
     },
     "execution_count": 59,
     "metadata": {},
     "output_type": "execute_result"
    }
   ],
   "source": [
    "# allMort,allMortDates = getAllCause(0,19)\n",
    "# allMort = allMort[-13:]\n",
    "# allMortDates = allMortDates[-13:]\n",
    "# curPop = getPopSizeNational(0,19)\n",
    "\n",
    "# allCases_0_19\n",
    "# from numpy.lib.stride_tricks import sliding_window_view\n",
    "\n",
    "# curRoll = [x.sum() for x in sliding_window_view(allCases_0_19, window_shape = 4)]\n",
    "# curRollRela = curRoll/curPop\n",
    "\n",
    "# # curRoll/curPop\n",
    "\n",
    "# fig,(ax1,ax2) = plt.subplots(2,1,sharex=True)\n",
    "\n",
    "# ax1.plot(allDates[3:],curRollRela)\n",
    "# ax2.plot(allMortDates,allMort)\n",
    "# ax2.plot(allMortDates,allMort*curRollRela)"
   ]
  },
  {
   "cell_type": "code",
   "execution_count": null,
   "metadata": {},
   "outputs": [
    {
     "data": {
      "text/plain": [
       "array([  1618,   2237,   3316,   5595,   7964,   9710,  10148,  12042,\n",
       "        16722,  22356,  18974,  28140,  40473,  72687, 113197, 107336],\n",
       "      dtype=int64)"
      ]
     },
     "execution_count": 45,
     "metadata": {},
     "output_type": "execute_result"
    }
   ],
   "source": [
    "# allCases_0_19"
   ]
  }
 ],
 "metadata": {
  "interpreter": {
   "hash": "21f3b0d12f894296bb30a6af4e8e71985cf3698b7e8be5c82bc107b96556e251"
  },
  "kernelspec": {
   "display_name": "Python 3.8.2 64-bit",
   "language": "python",
   "name": "python3"
  },
  "language_info": {
   "codemirror_mode": {
    "name": "ipython",
    "version": 3
   },
   "file_extension": ".py",
   "mimetype": "text/x-python",
   "name": "python",
   "nbconvert_exporter": "python",
   "pygments_lexer": "ipython3",
   "version": "3.8.5"
  },
  "orig_nbformat": 4
 },
 "nbformat": 4,
 "nbformat_minor": 2
}
