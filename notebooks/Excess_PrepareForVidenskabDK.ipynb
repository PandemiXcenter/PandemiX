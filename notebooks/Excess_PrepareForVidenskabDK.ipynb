{
 "cells": [
  {
   "cell_type": "markdown",
   "metadata": {},
   "source": [
    "# Goal of notebook: \n",
    "Prepare data for use in videnskab.dk article about calculating excess mortality from yearly data"
   ]
  },
  {
   "cell_type": "code",
   "execution_count": 2,
   "metadata": {},
   "outputs": [
    {
     "name": "stdout",
     "output_type": "stream",
     "text": [
      "saveFigures is set to: True\n",
      "Done loading packages\n"
     ]
    }
   ],
   "source": [
    "# %matplotlib widget\n",
    "# Load packages and settings\n",
    "import numpy as np\n",
    "import pandas as pd\n",
    "pd.set_option('display.max_rows', 500)\n",
    "pd.set_option('display.min_rows', 50)\n",
    "import seaborn as sns\n",
    "\n",
    "\n",
    "import matplotlib.pyplot as plt\n",
    "plt.rcParams['figure.figsize'] = (12,8)\n",
    "plt.rcParams['figure.facecolor'] = (1,1,1,1)\n",
    "plt.rcParams[\"image.cmap\"] = \"tab10\"\n",
    "plt.rcParams['axes.prop_cycle'] = plt.cycler(color=plt.cm.tab10.colors)\n",
    "fs_label = 16\n",
    "parameters = {\n",
    "                'axes.labelsize': fs_label,\n",
    "                'axes.titlesize': fs_label+4,\n",
    "                'xtick.labelsize': fs_label,\n",
    "                'ytick.labelsize': fs_label, \n",
    "                'legend.fontsize': fs_label, \n",
    "                'lines.markersize': 10,\n",
    "                'lines.linewidth': 3\n",
    "             }\n",
    "plt.rcParams.update(parameters)\n",
    "from matplotlib import cm # Colormaps\n",
    "import matplotlib.colors as colors\n",
    "# cmap = plt.cm.get_cmap('Dark2',len(ageGroups))\n",
    "\n",
    "import locale\n",
    "import matplotlib.dates as mdates\n",
    "locale.setlocale(locale.LC_TIME,\"Danish\")\n",
    "# ax1.xaxis.set_major_formatter(mdates.DateFormatter('%b\\n%Y'))\n",
    "# ax1.spines['top'].set_visible(False) \n",
    "\n",
    "import os\n",
    "# import csv\n",
    "import math\n",
    "\n",
    "from datetime import date\n",
    "\n",
    "\n",
    "saveFigures = True\n",
    "# saveFigures = False\n",
    "print('saveFigures is set to: '+str(saveFigures))\n",
    "\n",
    "print('Done loading packages')\n",
    "\n",
    "# Define running mean functions\n",
    "def rnMean(data,meanWidth):\n",
    "    return np.convolve(data, np.ones(meanWidth)/meanWidth, mode='valid')\n",
    "def rnTime(t,meanWidth):\n",
    "    return t[math.floor(meanWidth/2):-math.ceil(meanWidth/2)+1]"
   ]
  },
  {
   "cell_type": "code",
   "execution_count": 3,
   "metadata": {},
   "outputs": [],
   "source": [
    "\n",
    "pathFigs = '../Figures/'\n",
    "filePath= '../ExcessData/HMD/'\n"
   ]
  },
  {
   "cell_type": "code",
   "execution_count": 43,
   "metadata": {},
   "outputs": [],
   "source": [
    "fileName = 'DK_Deaths_5x1.txt'\n",
    "dfDKdea = pd.read_csv(filePath+fileName,skiprows=1,delim_whitespace=True)\n",
    "fileName = 'SE_Deaths_5x1.txt'\n",
    "dfSEdea = pd.read_csv(filePath+fileName,skiprows=1,delim_whitespace=True)\n",
    "\n",
    "fileName = 'DK_Population5.txt'\n",
    "dfDKpop = pd.read_csv(filePath+fileName,skiprows=1,delim_whitespace=True)\n",
    "fileName = 'SE_Population5.txt'\n",
    "dfSEpop = pd.read_csv(filePath+fileName,skiprows=1,delim_whitespace=True)\n",
    "# dfDKdea = pd.read_csv(filePath+fileName,skiprows=1,delim_whitespace=True)\n",
    "\n",
    "# dfDKdea.groupby(['Year','Age']).sum()\n",
    "# dfSEpop"
   ]
  },
  {
   "cell_type": "code",
   "execution_count": 44,
   "metadata": {},
   "outputs": [],
   "source": [
    "# Just use totals\n",
    "\n",
    "# dfDKpop.iloc[2050:2100]\n",
    "dfDKpop = dfDKpop[~dfDKpop.Year.str.contains('1921-')]\n",
    "dfDKpop.loc[dfDKpop.Year.str.contains('1921+'),'Year'] = '1921'\n",
    "dfDKpop['Year'] = pd.to_numeric(dfDKpop['Year'])\n",
    "# dfDKpop[dfDKpop.Year.str.contains('1921')]"
   ]
  },
  {
   "cell_type": "code",
   "execution_count": 40,
   "metadata": {},
   "outputs": [
    {
     "data": {
      "text/plain": [
       "2088    1921+\n",
       "2089    1921+\n",
       "2090    1921+\n",
       "2091    1921+\n",
       "2092    1921+\n",
       "2093    1921+\n",
       "2094    1921+\n",
       "2095    1921+\n",
       "2096    1921+\n",
       "2097    1921+\n",
       "2098    1921+\n",
       "2099    1921+\n",
       "2100    1921+\n",
       "2101    1921+\n",
       "2102    1921+\n",
       "2103    1921+\n",
       "2104    1921+\n",
       "2105    1921+\n",
       "2106    1921+\n",
       "2107    1921+\n",
       "2108    1921+\n",
       "2109    1921+\n",
       "2110    1921+\n",
       "2111    1921+\n",
       "Name: Year, dtype: object"
      ]
     },
     "execution_count": 40,
     "metadata": {},
     "output_type": "execute_result"
    }
   ],
   "source": [
    "\n"
   ]
  }
 ],
 "metadata": {
  "interpreter": {
   "hash": "0759fa49ad3df9085f10ebe835a76be78f6a73e5b99f4bd698d5da0b42680e86"
  },
  "kernelspec": {
   "display_name": "Python 3.10.0 ('main')",
   "language": "python",
   "name": "python3"
  },
  "language_info": {
   "codemirror_mode": {
    "name": "ipython",
    "version": 3
   },
   "file_extension": ".py",
   "mimetype": "text/x-python",
   "name": "python",
   "nbconvert_exporter": "python",
   "pygments_lexer": "ipython3",
   "version": "3.10.0"
  },
  "orig_nbformat": 4
 },
 "nbformat": 4,
 "nbformat_minor": 2
}
