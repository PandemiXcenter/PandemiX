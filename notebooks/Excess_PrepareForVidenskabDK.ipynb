{
 "cells": [
  {
   "cell_type": "markdown",
   "metadata": {},
   "source": [
    "# Goal of notebook: \n",
    "Prepare data for use in videnskab.dk article about calculating excess mortality from yearly data"
   ]
  },
  {
   "cell_type": "code",
   "execution_count": 7,
   "metadata": {},
   "outputs": [
    {
     "name": "stdout",
     "output_type": "stream",
     "text": [
      "saveFigures is set to: True\n",
      "Done loading packages\n"
     ]
    }
   ],
   "source": [
    "# %matplotlib widget\n",
    "# Load packages and settings\n",
    "import numpy as np\n",
    "import pandas as pd\n",
    "pd.set_option('display.max_rows', 500)\n",
    "pd.set_option('display.min_rows', 50)\n",
    "import seaborn as sns\n",
    "\n",
    "\n",
    "import matplotlib.pyplot as plt\n",
    "plt.rcParams['figure.figsize'] = (12,8)\n",
    "plt.rcParams['figure.facecolor'] = (1,1,1,1)\n",
    "plt.rcParams[\"image.cmap\"] = \"tab10\"\n",
    "plt.rcParams['axes.prop_cycle'] = plt.cycler(color=plt.cm.tab10.colors)\n",
    "fs_label = 16\n",
    "parameters = {\n",
    "                'axes.labelsize': fs_label,\n",
    "                'axes.titlesize': fs_label+4,\n",
    "                'xtick.labelsize': fs_label,\n",
    "                'ytick.labelsize': fs_label, \n",
    "                'legend.fontsize': fs_label, \n",
    "                'lines.markersize': 10,\n",
    "                'lines.linewidth': 3\n",
    "             }\n",
    "plt.rcParams.update(parameters)\n",
    "from matplotlib import cm # Colormaps\n",
    "import matplotlib.colors as colors\n",
    "# cmap = plt.cm.get_cmap('Dark2',len(ageGroups))\n",
    "\n",
    "import locale\n",
    "import matplotlib.dates as mdates\n",
    "locale.setlocale(locale.LC_TIME,\"Danish\")\n",
    "# ax1.xaxis.set_major_formatter(mdates.DateFormatter('%b\\n%Y'))\n",
    "# ax1.spines['top'].set_visible(False) \n",
    "\n",
    "import os\n",
    "# import csv\n",
    "import math\n",
    "\n",
    "from datetime import date\n",
    "\n",
    "\n",
    "saveFigures = True\n",
    "# saveFigures = False\n",
    "print('saveFigures is set to: '+str(saveFigures))\n",
    "\n",
    "print('Done loading packages')\n",
    "\n",
    "# Define running mean functions\n",
    "def rnMean(data,meanWidth):\n",
    "    return np.convolve(data, np.ones(meanWidth)/meanWidth, mode='valid')\n",
    "def rnTime(t,meanWidth):\n",
    "    return t[math.floor(meanWidth/2):-math.ceil(meanWidth/2)+1]"
   ]
  },
  {
   "cell_type": "code",
   "execution_count": 8,
   "metadata": {},
   "outputs": [],
   "source": [
    "\n",
    "pathFigs = '../Figures/'\n",
    "filePath= '../ExcessData/HMD/'\n"
   ]
  },
  {
   "cell_type": "code",
   "execution_count": 9,
   "metadata": {},
   "outputs": [],
   "source": [
    "fileName = 'DK_Deaths_5x1.txt'\n",
    "dfDKdea = pd.read_csv(filePath+fileName,skiprows=1,delim_whitespace=True)\n",
    "fileName = 'SE_Deaths_5x1.txt'\n",
    "dfSEdea = pd.read_csv(filePath+fileName,skiprows=1,delim_whitespace=True)\n",
    "\n",
    "fileName = 'DK_Population5.txt'\n",
    "dfDKpop = pd.read_csv(filePath+fileName,skiprows=1,delim_whitespace=True)\n",
    "fileName = 'SE_Population5.txt'\n",
    "dfSEpop = pd.read_csv(filePath+fileName,skiprows=1,delim_whitespace=True)\n",
    "# dfDKdea = pd.read_csv(filePath+fileName,skiprows=1,delim_whitespace=True)\n",
    "\n",
    "# dfDKdea.groupby(['Year','Age']).sum()\n",
    "# dfSEpop"
   ]
  },
  {
   "cell_type": "code",
   "execution_count": 10,
   "metadata": {},
   "outputs": [],
   "source": [
    "# Just use totals\n",
    "\n",
    "# dfDKpop.iloc[2050:2100]\n",
    "dfDKpop = dfDKpop[~dfDKpop.Year.str.contains('1921-')]\n",
    "dfDKpop.loc[dfDKpop.Year.str.contains('1921+'),'Year'] = '1921'\n",
    "dfDKpop['Year'] = pd.to_numeric(dfDKpop['Year'])\n",
    "# dfDKpop[dfDKpop.Year.str.contains('1921')]"
   ]
  },
  {
   "cell_type": "code",
   "execution_count": 11,
   "metadata": {},
   "outputs": [],
   "source": [
    "firstYear = 2000\n",
    "dfDKdea = dfDKdea[dfDKdea['Year'] >= firstYear]\n",
    "dfDKpop = dfDKpop[dfDKpop['Year'] >= firstYear]\n",
    "dfSEdea = dfSEdea[dfSEdea['Year'] >= firstYear]\n",
    "dfSEpop = dfSEpop[dfSEpop['Year'] >= firstYear]"
   ]
  },
  {
   "cell_type": "code",
   "execution_count": 12,
   "metadata": {},
   "outputs": [
    {
     "data": {
      "text/html": [
       "<div>\n",
       "<style scoped>\n",
       "    .dataframe tbody tr th:only-of-type {\n",
       "        vertical-align: middle;\n",
       "    }\n",
       "\n",
       "    .dataframe tbody tr th {\n",
       "        vertical-align: top;\n",
       "    }\n",
       "\n",
       "    .dataframe thead th {\n",
       "        text-align: right;\n",
       "    }\n",
       "</style>\n",
       "<table border=\"1\" class=\"dataframe\">\n",
       "  <thead>\n",
       "    <tr style=\"text-align: right;\">\n",
       "      <th></th>\n",
       "      <th>Year</th>\n",
       "      <th>DK</th>\n",
       "      <th>SE</th>\n",
       "      <th>deaDK</th>\n",
       "      <th>deaSE</th>\n",
       "      <th>popDK</th>\n",
       "      <th>popSE</th>\n",
       "    </tr>\n",
       "  </thead>\n",
       "  <tbody>\n",
       "    <tr>\n",
       "      <th>17</th>\n",
       "      <td>2017</td>\n",
       "      <td>9.264758</td>\n",
       "      <td>9.201903</td>\n",
       "      <td>53261.0</td>\n",
       "      <td>91971.99</td>\n",
       "      <td>5748774.0</td>\n",
       "      <td>9994888.03</td>\n",
       "    </tr>\n",
       "    <tr>\n",
       "      <th>18</th>\n",
       "      <td>2018</td>\n",
       "      <td>9.553736</td>\n",
       "      <td>9.109200</td>\n",
       "      <td>55232.0</td>\n",
       "      <td>92185.01</td>\n",
       "      <td>5781194.0</td>\n",
       "      <td>10119990.04</td>\n",
       "    </tr>\n",
       "    <tr>\n",
       "      <th>19</th>\n",
       "      <td>2019</td>\n",
       "      <td>9.293339</td>\n",
       "      <td>8.677045</td>\n",
       "      <td>53958.0</td>\n",
       "      <td>88766.01</td>\n",
       "      <td>5806094.0</td>\n",
       "      <td>10229982.03</td>\n",
       "    </tr>\n",
       "    <tr>\n",
       "      <th>20</th>\n",
       "      <td>2020</td>\n",
       "      <td>9.384697</td>\n",
       "      <td>9.501281</td>\n",
       "      <td>54645.0</td>\n",
       "      <td>98124.00</td>\n",
       "      <td>5822777.0</td>\n",
       "      <td>10327450.02</td>\n",
       "    </tr>\n",
       "    <tr>\n",
       "      <th>21</th>\n",
       "      <td>2021</td>\n",
       "      <td>9.786219</td>\n",
       "      <td>8.859797</td>\n",
       "      <td>57152.0</td>\n",
       "      <td>91958.02</td>\n",
       "      <td>5840049.0</td>\n",
       "      <td>10379247.02</td>\n",
       "    </tr>\n",
       "  </tbody>\n",
       "</table>\n",
       "</div>"
      ],
      "text/plain": [
       "    Year        DK        SE    deaDK     deaSE      popDK        popSE\n",
       "17  2017  9.264758  9.201903  53261.0  91971.99  5748774.0   9994888.03\n",
       "18  2018  9.553736  9.109200  55232.0  92185.01  5781194.0  10119990.04\n",
       "19  2019  9.293339  8.677045  53958.0  88766.01  5806094.0  10229982.03\n",
       "20  2020  9.384697  9.501281  54645.0  98124.00  5822777.0  10327450.02\n",
       "21  2021  9.786219  8.859797  57152.0  91958.02  5840049.0  10379247.02"
      ]
     },
     "execution_count": 12,
     "metadata": {},
     "output_type": "execute_result"
    }
   ],
   "source": [
    "dea_DK = dfDKdea.groupby(['Year']).sum().Total.values\n",
    "pop_DK = dfDKpop.groupby(['Year']).sum().Total.values\n",
    "dea_SE = dfSEdea.groupby(['Year']).sum().Total.values\n",
    "pop_SE = dfSEpop.groupby(['Year']).sum().Total.values\n",
    "per1000_DK = 1000*dea_DK/pop_DK[:-1]\n",
    "per1000_SE = 1000*dea_SE/pop_SE[:-1]\n",
    "allYears = dfDKdea.groupby(['Year']).sum().index\n",
    "\n",
    "dfCollect = pd.DataFrame()\n",
    "dfCollect['Year'] = allYears\n",
    "dfCollect['DK'] = per1000_DK\n",
    "dfCollect['SE'] = per1000_SE\n",
    "dfCollect['deaDK'] = dea_DK\n",
    "dfCollect['deaSE'] = dea_SE\n",
    "dfCollect['popDK'] = pop_DK[:-1]\n",
    "dfCollect['popSE'] = pop_SE[:-1]\n",
    "dfCollect.tail()"
   ]
  },
  {
   "cell_type": "code",
   "execution_count": 35,
   "metadata": {},
   "outputs": [],
   "source": [
    "\n",
    "filePath= '../ExcessData/HMD/'\n",
    "\n",
    "dfCollect.to_csv(filePath+'HMDclean.csv',index=False)\n"
   ]
  }
 ],
 "metadata": {
  "kernelspec": {
   "display_name": "Python 3.10.0 ('main')",
   "language": "python",
   "name": "python3"
  },
  "language_info": {
   "codemirror_mode": {
    "name": "ipython",
    "version": 3
   },
   "file_extension": ".py",
   "mimetype": "text/x-python",
   "name": "python",
   "nbconvert_exporter": "python",
   "pygments_lexer": "ipython3",
   "version": "3.10.0"
  },
  "orig_nbformat": 4,
  "vscode": {
   "interpreter": {
    "hash": "e6af94e5c5af6f455ad39eba9e20d9ee46a7c0c9ebf8b81ae3b0b6f1a6d45f70"
   }
  }
 },
 "nbformat": 4,
 "nbformat_minor": 2
}
