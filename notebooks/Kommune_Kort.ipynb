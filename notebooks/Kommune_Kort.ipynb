{
 "cells": [
  {
   "cell_type": "code",
   "execution_count": 1,
   "metadata": {},
   "outputs": [
    {
     "name": "stdout",
     "output_type": "stream",
     "text": [
      "saveFigures is set to: True\n",
      "Done loading packages\n"
     ]
    }
   ],
   "source": [
    "\n",
    "%matplotlib widget\n",
    "# Load packages and settings\n",
    "import numpy as np\n",
    "import pandas as pd\n",
    "pd.set_option('display.max_rows', 500)\n",
    "pd.set_option('display.min_rows', 50)\n",
    "import seaborn as sns\n",
    "\n",
    "import geopandas as gpd\n",
    "\n",
    "import matplotlib.pyplot as plt\n",
    "\n",
    "plt.rcParams['figure.figsize'] = (12,8)\n",
    "plt.rcParams[\"image.cmap\"] = \"tab10\"\n",
    "plt.rcParams['axes.prop_cycle'] = plt.cycler(color=plt.cm.tab10.colors)\n",
    "fs_label = 16\n",
    "parameters = {\n",
    "                'axes.labelsize': fs_label,\n",
    "                'axes.titlesize': fs_label+4,\n",
    "                'xtick.labelsize': fs_label,\n",
    "                'ytick.labelsize': fs_label, \n",
    "                'legend.fontsize': fs_label, \n",
    "                'lines.markersize': 10,\n",
    "                'lines.linewidth': 3\n",
    "             }\n",
    "plt.rcParams.update(parameters)\n",
    "\n",
    "from matplotlib import cm # Colormaps\n",
    "import matplotlib.colors as colors\n",
    "# cmap = plt.cm.get_cmap('Dark2',len(ageGroups))\n",
    "\n",
    "import locale\n",
    "import matplotlib.dates as mdates\n",
    "locale.setlocale(locale.LC_TIME,\"Danish\")\n",
    "# ax1.xaxis.set_major_formatter(mdates.DateFormatter('%b\\n%Y'))\n",
    "# ax1.spines['top'].set_visible(False) \n",
    "\n",
    "from mpl_toolkits.axes_grid1 import make_axes_locatable\n",
    "\n",
    "import os\n",
    "# import csv\n",
    "import math\n",
    "\n",
    "from datetime import date\n",
    "\n",
    "\n",
    "saveFigures = True\n",
    "# saveFigures = False\n",
    "print('saveFigures is set to: '+str(saveFigures))\n",
    "\n",
    "print('Done loading packages')\n",
    "\n",
    "# Define running mean functions\n",
    "def rnMean(data,meanWidth):\n",
    "    return np.convolve(data, np.ones(meanWidth)/meanWidth, mode='valid')\n",
    "def rnTime(t,meanWidth):\n",
    "    return t[math.floor(meanWidth/2):-math.ceil(meanWidth/2)+1]"
   ]
  },
  {
   "cell_type": "code",
   "execution_count": 2,
   "metadata": {},
   "outputs": [],
   "source": [
    "# Define paths\n",
    "rootdir_data = os.getcwd() +\"\\\\..\\\\DanskeData\\\\\" \n",
    "\n",
    "path_data = rootdir_data + \"ssi_data\\\\\"\n",
    "path_dash = rootdir_data + \"ssi_dashboard\\\\\"\n",
    "path_vacc = rootdir_data + \"ssi_vacc\\\\\"\n",
    "path_figs = os.getcwd() +\"\\\\..\\\\Figures\\\\\" \n",
    "\n",
    "# path_figs = path_figs + \"Immunity_SSI\\\\\""
   ]
  },
  {
   "cell_type": "code",
   "execution_count": 3,
   "metadata": {},
   "outputs": [],
   "source": [
    "gdf = gpd.read_file(rootdir_data+'Kommune\\\\Kommune.shp')\n",
    "\n",
    "# Only use most recent mapdata\n",
    "gdf = gdf[gdf.til == np.max(gdf.til.unique())]"
   ]
  },
  {
   "cell_type": "code",
   "execution_count": 4,
   "metadata": {},
   "outputs": [],
   "source": [
    "df_meas = pd.read_csv('KommuneMeasure.csv')"
   ]
  },
  {
   "cell_type": "code",
   "execution_count": 5,
   "metadata": {},
   "outputs": [
    {
     "data": {
      "text/plain": [
       "array([-3.42956858e-02, -1.84390804e-01, -4.14766777e-02, -1.90111114e-01,\n",
       "        2.12976077e-01,  1.62296118e-01, -8.26976034e-02,  5.10137515e-02,\n",
       "       -2.24503002e-01,  3.30242844e-01, -1.04613760e-01,  1.70226373e-01,\n",
       "       -1.37935533e-01,  2.41945924e-01,  2.89281795e-01, -1.94913163e-01,\n",
       "        5.24281769e-02,  8.15421369e-02, -1.23843412e-01,  1.17015343e-01,\n",
       "        2.22098911e-02,  1.07174723e-01,  2.01229433e-01,  2.53348942e-01,\n",
       "       -1.01672008e-02, -4.46016236e-03,  1.43176089e-01,  2.15373982e-01,\n",
       "       -1.23296126e-01, -1.92303059e-01, -2.39042778e-01, -2.97843476e-01,\n",
       "        2.15093368e-02, -2.90579367e-01,  7.01827585e-02, -1.01967731e-02,\n",
       "        2.46175890e-02,  2.90726419e-03,  1.62095244e-01,  1.21692316e-01,\n",
       "        8.11354970e-02,  2.00423246e-01,  9.10781939e-02,  7.69868285e-02,\n",
       "       -7.11372940e-02,  1.26893157e-02,  3.08126719e-01,  3.31668814e-01,\n",
       "        2.36624505e-01,  3.89452093e-01,  3.07277106e-01,  2.98335841e-01,\n",
       "        2.70553328e-01,  1.32875896e-01,  2.18294997e-01,  1.73762380e-01,\n",
       "        3.05123858e-01,  1.40106377e-01,  2.34543171e-01,  3.12177608e-01,\n",
       "        2.66826969e-01, -2.01280045e-01,  3.42572642e-02,  2.01710964e-01,\n",
       "        2.79046458e-01,  2.89875804e-01, -6.59678499e-02,  2.65553776e-01,\n",
       "        3.47819804e-01,  3.20797280e-01,  4.44493964e-01,  4.00993181e-01,\n",
       "        3.63214285e-01,  4.76951636e-01, -2.86800778e-01, -2.34742469e-01,\n",
       "       -1.02625100e-01,  1.45209259e-01,  3.03294709e-01,  4.39427270e-01,\n",
       "        2.70137837e-01, -2.49732789e-01, -6.33572027e-02,  5.49859924e-01,\n",
       "        5.36911548e-02, -2.90687516e-01,  2.22150732e-01,  4.66850911e-01,\n",
       "        3.87625426e-01, -1.49101032e-02,  3.09541604e-01,  1.56046181e-01,\n",
       "        2.41691281e-01,  8.79088287e-02,  1.63095238e+00,  4.78160464e-01,\n",
       "        1.74358974e-01,  3.00587508e+00])"
      ]
     },
     "execution_count": 5,
     "metadata": {},
     "output_type": "execute_result"
    }
   ],
   "source": [
    "# Test of colorrange\n",
    "posVals = np.arange(-7,8,2)\n",
    "\n",
    "import matplotlib\n",
    "cmap = matplotlib.cm.get_cmap('Spectral')\n",
    "[cmap(x/7) for x in posVals]\n",
    "\n",
    "cmap = matplotlib.cm.get_cmap('Spectral',len(posVals))\n",
    "\n",
    "cmap(7)\n",
    "posVals \n",
    "df_meas.iloc[:,1:].transpose().iloc[:,0].values"
   ]
  },
  {
   "cell_type": "code",
   "execution_count": 6,
   "metadata": {},
   "outputs": [
    {
     "data": {
      "application/vnd.jupyter.widget-view+json": {
       "model_id": "d44a669ac8d446c0bb93920e4c36b9b7",
       "version_major": 2,
       "version_minor": 0
      },
      "text/plain": [
       "Canvas(toolbar=Toolbar(toolitems=[('Home', 'Reset original view', 'home', 'home'), ('Back', 'Back to previous …"
      ]
     },
     "metadata": {},
     "output_type": "display_data"
    }
   ],
   "source": [
    "allKoms = df_meas.columns[1:]\n",
    "# [x.split(' Kommun')[0] for x in gdf.navn]\n",
    "\n",
    "fig,ax1 = plt.subplots() \n",
    "# gdf.plot(color='gray',ax=ax1)\n",
    "\n",
    "# for x, y, label in zip(gdf.geometry.centroid.x, gdf.geometry.centroid.y, gdf.navn):\n",
    "#     ax1.annotate(label,xy=(x,y),xytext=(3,3),textcoords=\"offset points\")\n",
    "\n",
    "cmap = matplotlib.cm.get_cmap('seismic')\n",
    "# cmap = matplotlib.cm.get_cmap('seismic')\n",
    "\n",
    "for curKom in allKoms:\n",
    "    # curKom = 'Horsens'\n",
    "\n",
    "        \n",
    "    curVal = df_meas[curKom].values[0]\n",
    "    curVal = (1+df_meas[curKom].values[0])/2\n",
    "    # curVal = (1+2*df_meas[curKom].values[0])/2\n",
    "    # if (curVal >= 0):\n",
    "    #     curColor = [curVal,0.1,0]\n",
    "    # else:\n",
    "    #     curColor = [-curVal/4,-curVal/4,-curVal]\n",
    "    # # curColor = [0.5+curVal/2,0,0.5-curVal/2]\n",
    "\n",
    "    # [cmap(x/7) for x in posVals]\n",
    "    curColor = cmap(curVal)\n",
    "    \n",
    "    if (curKom == 'Aabenraa'):\n",
    "        curKom = 'Åbenrå'\n",
    "    if (curKom == 'Nordfyn'):\n",
    "        curKom = 'Nordfyns'\n",
    "    if (curKom == 'København'):\n",
    "        curKom = 'Københavns'\n",
    "    if (curKom == 'Bornholm'):\n",
    "        curKom = 'Bornholms'\n",
    "    if (curKom == 'Faaborg-Midtfyn'):\n",
    "        curKom = 'Fåborg-Midtfyn'\n",
    "    if (curKom == 'Lyngby-Taarbæk'):\n",
    "        curKom = 'Lyngby-Tårbæk'\n",
    "        \n",
    "\n",
    "    curgdf = gdf[gdf.navn == (curKom+' Kommune')]\n",
    "    curgdf.plot(ax=ax1,color=curColor)\n",
    "\n",
    "# Hand-crafted legend\n",
    "import matplotlib.patches as patches\n",
    "# posVals = np.arange(-7,8,2)\n",
    "posVals = np.arange(-1,1.1,2/7)\n",
    "posValsStr = [str(int(np.round(7*x))) for x in posVals]\n",
    "posValsStr = [\n",
    "    '7 dages vækst',\n",
    "    '6 dages vækst, 1 dags fald',\n",
    "    '5 dages vækst, 2 dages fald',\n",
    "    '4 dages vækst, 3 dages fald',\n",
    "    '3 dages vækst, 4 dages fald',\n",
    "    '2 dages vækst, 5 dages fald',\n",
    "    '1 dags vækst, 6 dages fald',\n",
    "    '7 dages fald',\n",
    "]\n",
    "\n",
    "for i in range(len(posVals)):\n",
    "    curVal = posVals[i]\n",
    "    curVal = 1-(1+posVals[i])/2\n",
    "    curColor = cmap(curVal)\n",
    "    curStr = posValsStr[i]\n",
    "    x0 = 680000\n",
    "    y0 = 6.35e6\n",
    "    wi = 9000\n",
    "    he = 10000\n",
    "    cury = y0-he*i -he*0.5*i\n",
    "    rect = patches.Rectangle((x0,cury),wi,he,linewidth=2,edgecolor='k',facecolor=curColor)\n",
    "    ax1.add_patch(rect)\n",
    "    # ax1.annotate('asdf',xy=(x0,y0))\n",
    "    ax1.text(x0+wi*2,cury,curStr,ha='left')\n",
    "\n",
    "# Remove axes\n",
    "ax1.set_xticks([])\n",
    "ax1.set_yticks([])\n",
    "ax1.spines['right'].set_visible(False)\n",
    "ax1.spines['top'].set_visible(False)\n",
    "ax1.spines['left'].set_visible(False)\n",
    "ax1.spines['bottom'].set_visible(False)\n",
    "\n",
    "ax1.set_title('')\n",
    "\n",
    "if saveFigures:\n",
    "    fig.savefig(path_figs+'/Maps/KommuneUdvikling')\n",
    "    curDate = np.datetime64('today')\n",
    "    fig.savefig(path_figs+f'/Maps/KommuneUdvikling_{curDate}')\n",
    "\n",
    "# ax1.set_xlim([690000,750000])\n",
    "# ax1.set_ylim([6.16e6,6.195e6])\n",
    "\n",
    "\n",
    "# for i in range(len(posVals)):\n",
    "#     curVal = posVals[i]\n",
    "#     curVal = 1-(1+posVals[i])/2\n",
    "#     curColor = cmap(curVal)\n",
    "#     curStr = posValsStr[i]\n",
    "#     x0 = 735000\n",
    "#     y0 = 6.18e6\n",
    "#     wi = 9000/4\n",
    "#     he = 10000/6\n",
    "#     cury = y0-he*i -he*0.5*i\n",
    "#     rect = patches.Rectangle((x0,cury),wi,he,linewidth=2,edgecolor='k',facecolor=curColor)\n",
    "#     ax1.add_patch(rect)\n",
    "#     # ax1.annotate('asdf',xy=(x0,y0))\n",
    "#     ax1.text(x0+wi*2,cury,curStr,ha='left')\n",
    "\n",
    "# if saveFigures:\n",
    "#     fig.savefig(path_figs+'/Maps/KommuneUdvikling_Hovedstaden')"
   ]
  },
  {
   "cell_type": "code",
   "execution_count": 7,
   "metadata": {},
   "outputs": [
    {
     "data": {
      "text/plain": [
       "array(['Aabenraa', 'Aalborg', 'Albertslund', 'Allerød', 'Assens',\n",
       "       'Ballerup', 'Billund', 'Bornholm', 'Brøndby', 'Brønderslev',\n",
       "       'Dragør', 'Egedal', 'Esbjerg', 'Faaborg-Midtfyn', 'Fanø',\n",
       "       'Favrskov', 'Faxe', 'Fredensborg', 'Fredericia', 'Frederiksberg',\n",
       "       'Frederikshavn', 'Frederikssund', 'Furesø', 'Gentofte', 'Gladsaxe',\n",
       "       'Glostrup', 'Greve', 'Gribskov', 'Guldborgsund', 'Haderslev',\n",
       "       'Halsnæs', 'Hedensted', 'Helsingør', 'Herlev', 'Herning',\n",
       "       'Hillerød', 'Hjørring', 'Holbæk', 'Holstebro', 'Horsens',\n",
       "       'Hvidovre', 'Høje Tåstrup', 'Hørsholm', 'Ikast-Brande', 'Ishøj',\n",
       "       'Jammerbugt', 'Kalundborg', 'Kerteminde', 'Kolding', 'København',\n",
       "       'Køge', 'Langeland', 'Lejre', 'Lemvig', 'Lolland',\n",
       "       'Lyngby-Taarbæk', 'Læsø', 'Mariagerfjord', 'Middelfart', 'Morsø',\n",
       "       'Norddjurs', 'Nordfyn', 'Nyborg', 'Næstved', 'Odder', 'Odense',\n",
       "       'Odsherred', 'Randers', 'Rebild', 'Ringkøbing-Skjern', 'Ringsted',\n",
       "       'Roskilde', 'Rudersdal', 'Rødovre', 'Samsø', 'Silkeborg',\n",
       "       'Skanderborg', 'Skive', 'Slagelse', 'Solrød', 'Sorø', 'Stevns',\n",
       "       'Struer', 'Svendborg', 'Syddjurs', 'Sønderborg', 'Thisted',\n",
       "       'Tårnby', 'Tønder', 'Vallensbæk', 'Varde', 'Vejen', 'Vejle',\n",
       "       'Vesthimmerland', 'Viborg', 'Vordingborg', 'Århus', 'Ærø'],\n",
       "      dtype=object)"
      ]
     },
     "execution_count": 7,
     "metadata": {},
     "output_type": "execute_result"
    }
   ],
   "source": [
    "np.sort(allKoms)"
   ]
  },
  {
   "cell_type": "markdown",
   "metadata": {},
   "source": [
    "# Make a new figure, but with explanations\n",
    "First, method from Kommune_Progression is repeated"
   ]
  },
  {
   "cell_type": "code",
   "execution_count": 8,
   "metadata": {},
   "outputs": [],
   "source": [
    "\n",
    "# Walk to relavant folder\n",
    "latestsubdir = list(os.walk(path_dash))[0][1][-1]\n",
    "latestdir = path_dash + latestsubdir\n",
    "df_07 = pd.read_csv(latestdir+'/Kommunalt_DB/07_bekraeftede_tilfaelde_pr_dag_pr_kommune.csv',encoding='latin1',delimiter = ';')\n",
    "\n",
    "df_07['Dato'] = pd.to_datetime(df_07['Dato'])"
   ]
  },
  {
   "cell_type": "code",
   "execution_count": 9,
   "metadata": {},
   "outputs": [],
   "source": [
    "def getKommuneCount(curKommune):\n",
    "    kommune_df = df_07.loc[df_07[\"Kommunenavn\"] == curKommune]\n",
    "    \n",
    "    # Cut out last data point\n",
    "    kommune_df = kommune_df.iloc[:-1,:]\n",
    "    # firstDate = np.datetime64(kommune_df.loc[kommune_df.index[0],'Dato'])-np.timedelta64(1,'D')\n",
    "    # firstDate = np.datetime64('2021-11-01')\n",
    "    # lastDate = np.datetime64(kommune_df.loc[kommune_df.index[-1],'Dato'])\n",
    "    # Find number of citizens in region\n",
    "    latestsubdir = list(os.walk(path_dash))[0][1][-1]\n",
    "    latestdir = path_dash + latestsubdir\n",
    "    df_kommunekort = pd.read_csv(latestdir+'/Kommunalt_DB/10_Kommune_kort.csv',encoding='latin1',\n",
    "                                 delimiter = ';')\n",
    "    df_kommunekort = df_kommunekort.set_index(\"Kommunenavn\")\n",
    "\n",
    "    # kommune_nr = kommune_df.Kommune.iloc[0]\n",
    "    # kommune_df['Procent andel smittede'] = (kommune_df['Bekræftede tilfælde']/antal_borgere(curKommune))*100\n",
    "\n",
    "    curDays = kommune_df['Dato'].values\n",
    "    antal_borgere = df_kommunekort[\"Antal borgere\"][curKommune]\n",
    "    curPerc = ((kommune_df['Bekræftede tilfælde']/antal_borgere)*100).values\n",
    "    curCount = kommune_df['Bekræftede tilfælde'].values \n",
    "    \n",
    "    indexToUse = curDays <= (np.datetime64(latestsubdir[-10:])-np.timedelta64(2,'D'))\n",
    "    curCount = curCount[indexToUse]\n",
    "    curPerc = curPerc[indexToUse]\n",
    "    curDays = curDays[indexToUse]\n",
    "\n",
    "    return curDays,curCount,curPerc\n"
   ]
  },
  {
   "cell_type": "code",
   "execution_count": 10,
   "metadata": {},
   "outputs": [
    {
     "data": {
      "application/vnd.jupyter.widget-view+json": {
       "model_id": "768354fb5a1249c586951e43fb913e71",
       "version_major": 2,
       "version_minor": 0
      },
      "text/plain": [
       "Canvas(toolbar=Toolbar(toolitems=[('Home', 'Reset original view', 'home', 'home'), ('Back', 'Back to previous …"
      ]
     },
     "metadata": {},
     "output_type": "display_data"
    }
   ],
   "source": [
    "def makeSmallPlot(ax1,curKommuneNavn):\n",
    "    curDays,curCount,curPerc = getKommuneCount(curKommuneNavn)\n",
    "    firstDateToShow = np.datetime64('today') - np.timedelta64(20,'D')\n",
    "    firstIndex = np.where(curDays == firstDateToShow)[0][0]\n",
    "    ax1.plot(curDays[firstIndex:],curCount[firstIndex:],'k*:',linewidth=1,label='Data')\n",
    "    # ax1.plot(rnTime(curDays[firstIndex-4:],7),rnMean(curCount[firstIndex-4:],7),'k',linewidth=3,label='7-dages gennemsnit')\n",
    "\n",
    "    i = 0\n",
    "\n",
    "    NotYetShown_down = True\n",
    "    NotYetShown_up = True\n",
    "\n",
    "    for i in range(0,8):\n",
    "\n",
    "        curD1 = curDays[-7-1-i]\n",
    "        curD2 = curDays[-1-i]\n",
    "        curY1 = curCount[-7-1-i]\n",
    "        curY2 = curCount[-1-i]\n",
    "\n",
    "        dY = curY2-curY1\n",
    "\n",
    "        if (dY >= 0):\n",
    "            curColor = 'r'\n",
    "            curLabel = NotYetShown_up * 'Vækst'\n",
    "            ax1.plot([curD1,curD2],[curY1,curY2],color=curColor,label=curLabel)\n",
    "\n",
    "            NotYetShown_up = False \n",
    "        else:\n",
    "            curColor = 'b'\n",
    "            curLabel = NotYetShown_down * 'Fald'\n",
    "            ax1.plot([curD1,curD2],[curY1,curY2],color=curColor,label=curLabel)\n",
    "            NotYetShown_down = False\n",
    "\n",
    "\n",
    "        # ax1.plot([curDays[-7-1-i],curDays[-1-i]],[curCount[-1-7-i],curCount[-1-i]])\n",
    "\n",
    "        # ax1.set_ylim(bottom=0)\n",
    "\n",
    "    ax1.set_xlim(left=firstDateToShow)\n",
    "    # Draw weekends\n",
    "    firstSunday = np.datetime64('2021-10-03')\n",
    "    numWeeks = 52\n",
    "    for k in range(-numWeeks,numWeeks):\n",
    "            curSunday = firstSunday + np.timedelta64(7*k,'D')\n",
    "            ax1.axvspan(curSunday-np.timedelta64(1,'D')-np.timedelta64(12,'h'),curSunday+np.timedelta64(12,'h'),zorder=-1,facecolor='lightgrey',label=int(k==0)*'Weekend')\n",
    "    # ax1.grid(axis='y')\n",
    "\n",
    "    ax1.plot(curDays[firstIndex:],curCount[firstIndex:],'k*:',linewidth=1)\n",
    "\n",
    "    ax1.legend(loc='upper left')\n",
    "\n",
    "    ax1.set_ylabel('Antal smittetilfælde')\n",
    "    ax1.spines['top'].set_visible(False)\n",
    "    ax1.spines['right'].set_visible(False)\n",
    "    ax1.spines['left'].set_visible(False)\n",
    "    ax1.spines['bottom'].set_visible(False)\n",
    "    ax1.xaxis.set_major_formatter(mdates.DateFormatter('%d\\n%b'))\n",
    "    ax1.set_title(curKommuneNavn)\n",
    "\n",
    "\n",
    "fig,ax1 = plt.subplots()\n",
    "\n",
    "curKommuneNavn = 'København'\n",
    "makeSmallPlot(ax1,curKommuneNavn)\n",
    "\n",
    "fig.savefig(path_figs+'Maps/MeasureExample')"
   ]
  },
  {
   "cell_type": "code",
   "execution_count": 11,
   "metadata": {},
   "outputs": [
    {
     "data": {
      "application/vnd.jupyter.widget-view+json": {
       "model_id": "94762177e878482fa72d5393ece2bf71",
       "version_major": 2,
       "version_minor": 0
      },
      "text/plain": [
       "Canvas(toolbar=Toolbar(toolitems=[('Home', 'Reset original view', 'home', 'home'), ('Back', 'Back to previous …"
      ]
     },
     "metadata": {},
     "output_type": "display_data"
    }
   ],
   "source": [
    "def makeSmallPlotSmall(ax1,curKommuneNavn):\n",
    "    curDays,curCount,curPerc = getKommuneCount(curKommuneNavn)\n",
    "    firstDateToShow = np.datetime64('today') - np.timedelta64(20,'D')\n",
    "    firstIndex = np.where(curDays == firstDateToShow)[0][0]\n",
    "    ax1.plot(curDays[firstIndex:],curCount[firstIndex:],'k*:',linewidth=1,markersize=2,label='Data')\n",
    "    # ax1.plot(rnTime(curDays[firstIndex-4:],7),rnMean(curCount[firstIndex-4:],7),'k',linewidth=3,label='7-dages gennemsnit')\n",
    "\n",
    "    i = 0\n",
    "\n",
    "    NotYetShown_down = True\n",
    "    NotYetShown_up = True\n",
    "\n",
    "    for i in range(0,8):\n",
    "\n",
    "        curD1 = curDays[-7-1-i]\n",
    "        curD2 = curDays[-1-i]\n",
    "        curY1 = curCount[-7-1-i]\n",
    "        curY2 = curCount[-1-i]\n",
    "\n",
    "        dY = curY2-curY1\n",
    "\n",
    "        if (dY >= 0):\n",
    "            curColor = 'r'\n",
    "            curLabel = NotYetShown_up * 'Vækst'\n",
    "            ax1.plot([curD1,curD2],[curY1,curY2],linewidth=2,color=curColor,label=curLabel)\n",
    "\n",
    "            NotYetShown_up = False \n",
    "        else:\n",
    "            curColor = 'b'\n",
    "            curLabel = NotYetShown_down * 'Fald'\n",
    "            ax1.plot([curD1,curD2],[curY1,curY2],linewidth=2,color=curColor,label=curLabel)\n",
    "            NotYetShown_down = False\n",
    "\n",
    "\n",
    "        # ax1.plot([curDays[-7-1-i],curDays[-1-i]],[curCount[-1-7-i],curCount[-1-i]])\n",
    "\n",
    "        # ax1.set_ylim(bottom=0)\n",
    "\n",
    "    ax1.set_xlim(left=firstDateToShow)\n",
    "    # Draw weekends\n",
    "    firstSunday = np.datetime64('2021-10-03')\n",
    "    numWeeks = 52\n",
    "    for k in range(-numWeeks,numWeeks):\n",
    "            curSunday = firstSunday + np.timedelta64(7*k,'D')\n",
    "            ax1.axvspan(curSunday-np.timedelta64(1,'D')-np.timedelta64(12,'h'),curSunday+np.timedelta64(12,'h'),zorder=-1,facecolor='lightgrey',label=int(k==0)*'Weekend')\n",
    "    # ax1.grid(axis='y')\n",
    "\n",
    "    ax1.plot(curDays[firstIndex:],curCount[firstIndex:],'k*:',linewidth=1,markersize=6)\n",
    "\n",
    "    # ax1.legend(loc='upper left',fontsize=6)\n",
    "\n",
    "    # ax1.set_ylabel('Antal smittetilfælde')\n",
    "    ax1.spines['top'].set_visible(False)\n",
    "    ax1.spines['right'].set_visible(False)\n",
    "    ax1.spines['left'].set_visible(False)\n",
    "    ax1.spines['bottom'].set_visible(False)\n",
    "    ax1.xaxis.set_major_formatter(mdates.DateFormatter('%d\\n%b'))\n",
    "\n",
    "    textFontSize= 6\n",
    "    ax1.set_title(curKommuneNavn,fontsize=textFontSize+4)\n",
    "    ax1.tick_params(axis='both', which='major', labelsize=textFontSize)\n",
    "    ax1.tick_params(axis='both', which='minor', labelsize=textFontSize)\n",
    "    # ax1.set_xticklabels(ax1.get_xticklabels(),fontsize=6)\n",
    "\n",
    "    curYlim = ax1.get_ylim()\n",
    "    ax1.set_ylim([curYlim[0]*0.8,curYlim[1]*1.2])\n",
    "\n",
    "\n",
    "fig,ax1 = plt.subplots()\n",
    "\n",
    "curKommuneNavn = 'København'\n",
    "makeSmallPlotSmall(ax1,curKommuneNavn)\n"
   ]
  },
  {
   "cell_type": "code",
   "execution_count": null,
   "metadata": {},
   "outputs": [],
   "source": []
  },
  {
   "cell_type": "code",
   "execution_count": 12,
   "metadata": {},
   "outputs": [
    {
     "data": {
      "application/vnd.jupyter.widget-view+json": {
       "model_id": "cfc0e8750da440c3a0d7ddb4cfd3b248",
       "version_major": 2,
       "version_minor": 0
      },
      "text/plain": [
       "Canvas(toolbar=Toolbar(toolitems=[('Home', 'Reset original view', 'home', 'home'), ('Back', 'Back to previous …"
      ]
     },
     "metadata": {},
     "output_type": "display_data"
    },
    {
     "name": "stderr",
     "output_type": "stream",
     "text": [
      "C:\\ProgramData\\Anaconda3\\envs\\main\\lib\\site-packages\\numpy\\core\\shape_base.py:65: VisibleDeprecationWarning: Creating an ndarray from ragged nested sequences (which is a list-or-tuple of lists-or-tuples-or ndarrays with different lengths or shapes) is deprecated. If you meant to do this, you must specify 'dtype=object' when creating the ndarray.\n",
      "  ary = asanyarray(ary)\n",
      "C:\\ProgramData\\Anaconda3\\envs\\main\\lib\\site-packages\\numpy\\core\\shape_base.py:65: VisibleDeprecationWarning: Creating an ndarray from ragged nested sequences (which is a list-or-tuple of lists-or-tuples-or ndarrays with different lengths or shapes) is deprecated. If you meant to do this, you must specify 'dtype=object' when creating the ndarray.\n",
      "  ary = asanyarray(ary)\n",
      "C:\\ProgramData\\Anaconda3\\envs\\main\\lib\\site-packages\\numpy\\core\\shape_base.py:65: VisibleDeprecationWarning: Creating an ndarray from ragged nested sequences (which is a list-or-tuple of lists-or-tuples-or ndarrays with different lengths or shapes) is deprecated. If you meant to do this, you must specify 'dtype=object' when creating the ndarray.\n",
      "  ary = asanyarray(ary)\n",
      "C:\\ProgramData\\Anaconda3\\envs\\main\\lib\\site-packages\\numpy\\core\\shape_base.py:65: VisibleDeprecationWarning: Creating an ndarray from ragged nested sequences (which is a list-or-tuple of lists-or-tuples-or ndarrays with different lengths or shapes) is deprecated. If you meant to do this, you must specify 'dtype=object' when creating the ndarray.\n",
      "  ary = asanyarray(ary)\n",
      "C:\\ProgramData\\Anaconda3\\envs\\main\\lib\\site-packages\\numpy\\core\\shape_base.py:65: VisibleDeprecationWarning: Creating an ndarray from ragged nested sequences (which is a list-or-tuple of lists-or-tuples-or ndarrays with different lengths or shapes) is deprecated. If you meant to do this, you must specify 'dtype=object' when creating the ndarray.\n",
      "  ary = asanyarray(ary)\n",
      "C:\\ProgramData\\Anaconda3\\envs\\main\\lib\\site-packages\\numpy\\core\\shape_base.py:65: VisibleDeprecationWarning: Creating an ndarray from ragged nested sequences (which is a list-or-tuple of lists-or-tuples-or ndarrays with different lengths or shapes) is deprecated. If you meant to do this, you must specify 'dtype=object' when creating the ndarray.\n",
      "  ary = asanyarray(ary)\n"
     ]
    }
   ],
   "source": [
    "from mpl_toolkits.axes_grid1.inset_locator import inset_axes\n",
    "\n",
    "allKoms = df_meas.columns[1:]\n",
    "# [x.split(' Kommun')[0] for x in gdf.navn]\n",
    "\n",
    "fig,ax1 = plt.subplots(figsize=(15,15)) \n",
    "# gdf.plot(color='gray',ax=ax1)\n",
    "\n",
    "# for x, y, label in zip(gdf.geometry.centroid.x, gdf.geometry.centroid.y, gdf.navn):\n",
    "#     ax1.annotate(label,xy=(x,y),xytext=(3,3),textcoords=\"offset points\")\n",
    "\n",
    "cmap = matplotlib.cm.get_cmap('seismic')\n",
    "\n",
    "for curKom in allKoms:\n",
    "    # curKom = 'Horsens'\n",
    "\n",
    "        \n",
    "    curVal = df_meas[curKom].values[0]\n",
    "    curVal = (1+df_meas[curKom].values[0])/2\n",
    "    # if (curVal >= 0):\n",
    "    #     curColor = [curVal,0.1,0]\n",
    "    # else:\n",
    "    #     curColor = [-curVal/4,-curVal/4,-curVal]\n",
    "    # # curColor = [0.5+curVal/2,0,0.5-curVal/2]\n",
    "\n",
    "    # [cmap(x/7) for x in posVals]\n",
    "    curColor = cmap(curVal)\n",
    "    \n",
    "    if (curKom == 'Aabenraa'):\n",
    "        curKom = 'Åbenrå'\n",
    "    if (curKom == 'Nordfyn'):\n",
    "        curKom = 'Nordfyns'\n",
    "    if (curKom == 'København'):\n",
    "        curKom = 'Københavns'\n",
    "    if (curKom == 'Bornholm'):\n",
    "        curKom = 'Bornholms'\n",
    "    if (curKom == 'Faaborg-Midtfyn'):\n",
    "        curKom = 'Fåborg-Midtfyn'\n",
    "    if (curKom == 'Lyngby-Taarbæk'):\n",
    "        curKom = 'Lyngby-Tårbæk'\n",
    "        \n",
    "\n",
    "    curgdf = gdf[gdf.navn == (curKom+' Kommune')]\n",
    "    curgdf.plot(ax=ax1,color=curColor)\n",
    "\n",
    "# Hand-crafted legend\n",
    "import matplotlib.patches as patches\n",
    "# posVals = np.arange(-7,8,2)\n",
    "posVals = np.arange(-1,1.1,2/7)\n",
    "posValsStr = [str(int(np.round(7*x))) for x in posVals]\n",
    "posValsStr = [\n",
    "    '7 dages vækst',\n",
    "    '6 dages vækst, 1 dags fald',\n",
    "    '5 dages vækst, 2 dages fald',\n",
    "    '4 dages vækst, 3 dages fald',\n",
    "    '3 dages vækst, 4 dages fald',\n",
    "    '2 dages vækst, 5 dages fald',\n",
    "    '1 dags vækst, 6 dages fald',\n",
    "    '7 dages fald',\n",
    "]\n",
    "\n",
    "for i in range(len(posVals)):\n",
    "    curVal = posVals[i]\n",
    "    curVal = 1-(1+posVals[i])/2\n",
    "    curColor = cmap(curVal)\n",
    "    curStr = posValsStr[i]\n",
    "    # x0 = 680000\n",
    "    # y0 = 6.35e6\n",
    "    x0 = 630000\n",
    "    y0 = 6.4e6\n",
    "    wi = 9000\n",
    "    he = 10000\n",
    "    cury = y0-he*i -he*0.5*i\n",
    "    rect = patches.Rectangle((x0,cury),wi,he,linewidth=2,edgecolor='k',facecolor=curColor)\n",
    "    ax1.add_patch(rect)\n",
    "    # ax1.annotate('asdf',xy=(x0,y0))\n",
    "    ax1.text(x0+wi*2,cury,curStr,ha='left')\n",
    "\n",
    "# Remove axes\n",
    "ax1.set_xticks([])\n",
    "ax1.set_yticks([])\n",
    "ax1.spines['right'].set_visible(False)\n",
    "ax1.spines['top'].set_visible(False)\n",
    "ax1.spines['left'].set_visible(False)\n",
    "ax1.spines['bottom'].set_visible(False)\n",
    "\n",
    "# Make inset plots with description\n",
    "insetW = 50000\n",
    "insetH = 0.07e6\n",
    "\n",
    "curKom = 'Albertslund'\n",
    "curx0 = 750000\n",
    "cury0 = 6.2e6\n",
    "                #    bbox_to_anchor=(680000,6.35e6,685000,6.5e6),\n",
    "axins = inset_axes(ax1, width=2, height=1,\n",
    "                   bbox_to_anchor=(curx0,cury0,curx0+insetW,cury0+insetH),\n",
    "                   bbox_transform=ax1.transData, loc=3)\n",
    "makeSmallPlotSmall(axins,curKom)\n",
    "bbox = dict(boxstyle=\"round\", ec=\"white\", fc=\"white\", alpha=1)\n",
    "plt.setp(axins.get_xticklabels(), bbox=bbox)\n",
    "plt.setp(axins.get_yticklabels(), bbox=bbox)\n",
    "curgdf = gdf[gdf.navn == (curKom+' Kommune')]\n",
    "ax1.plot([curx0 + insetW/2,curgdf.geometry.centroid.x ],[cury0 + insetH / 2, curgdf.geometry.centroid.y ],'k')\n",
    "\n",
    "\n",
    "curKom = 'København'\n",
    "curx0 = 750000\n",
    "cury0 = 6.1e6\n",
    "                #    bbox_to_anchor=(680000,6.35e6,685000,6.5e6),\n",
    "axins = inset_axes(ax1, width=2, height=1,\n",
    "                   bbox_to_anchor=(curx0,cury0,curx0+insetW,cury0+insetH),\n",
    "                   bbox_transform=ax1.transData, loc=3)\n",
    "makeSmallPlotSmall(axins,curKom)\n",
    "bbox = dict(boxstyle=\"round\", ec=\"white\", fc=\"white\", alpha=1)\n",
    "plt.setp(axins.get_xticklabels(), bbox=bbox)\n",
    "plt.setp(axins.get_yticklabels(), bbox=bbox)\n",
    "curgdf = gdf[gdf.navn == (curKom+'s Kommune')]\n",
    "ax1.plot([curx0 + insetW/2,curgdf.geometry.centroid.x ],[cury0 + insetH / 2, curgdf.geometry.centroid.y ],'k')\n",
    "\n",
    "\n",
    "curKom = 'Guldborgsund'\n",
    "curx0 = 730000\n",
    "cury0 = 6e6\n",
    "                #    bbox_to_anchor=(680000,6.35e6,685000,6.5e6),\n",
    "axins = inset_axes(ax1, width=2, height=1,\n",
    "                   bbox_to_anchor=(curx0,cury0,curx0+insetW,cury0+insetH),\n",
    "                   bbox_transform=ax1.transData, loc=3)\n",
    "makeSmallPlotSmall(axins,curKom)\n",
    "bbox = dict(boxstyle=\"round\", ec=\"white\", fc=\"white\", alpha=1)\n",
    "plt.setp(axins.get_xticklabels(), bbox=bbox)\n",
    "plt.setp(axins.get_yticklabels(), bbox=bbox)\n",
    "curgdf = gdf[gdf.navn == (curKom+' Kommune')]\n",
    "ax1.plot([curx0 + insetW/2,curgdf.geometry.centroid.x ],[cury0 + insetH / 2, curgdf.geometry.centroid.y ],'k')\n",
    "\n",
    "curKom = 'Aalborg'\n",
    "curx0 = 420000\n",
    "cury0 = 6.35e6\n",
    "                #    bbox_to_anchor=(680000,6.35e6,685000,6.5e6),\n",
    "axins = inset_axes(ax1, width=2, height=1,\n",
    "                   bbox_to_anchor=(curx0,cury0,curx0+insetW,cury0+insetH),\n",
    "                   bbox_transform=ax1.transData, loc=3)\n",
    "# axins.set_facecolor('xkcd:off white')\n",
    "makeSmallPlotSmall(axins,curKom)\n",
    "bbox = dict(boxstyle=\"round\", ec=\"white\", fc=\"white\", alpha=1)\n",
    "plt.setp(axins.get_xticklabels(), bbox=bbox)\n",
    "plt.setp(axins.get_yticklabels(), bbox=bbox)\n",
    "# bbox = dict(boxstyle=\"round\", ec=\"white\", fc=\"white\", alpha=1)\n",
    "# plt.setp(axins.get_yticklabels(), bbox=bbox)\n",
    "curgdf = gdf[gdf.navn == (curKom+' Kommune')]\n",
    "ax1.plot([curx0 + insetW/2,curgdf.geometry.centroid.x ],[cury0 + insetH / 2, curgdf.geometry.centroid.y ],'k')\n",
    "\n",
    "\n",
    "\n",
    "curKom = 'Vejle'\n",
    "curx0 = 330000\n",
    "cury0 = 6.23e6\n",
    "                #    bbox_to_anchor=(680000,6.35e6,685000,6.5e6),\n",
    "axins = inset_axes(ax1, width=2, height=1,\n",
    "                   bbox_to_anchor=(curx0,cury0,curx0+insetW,cury0+insetH),\n",
    "                   bbox_transform=ax1.transData, loc=3)\n",
    "# axins.set_facecolor('xkcd:off white')\n",
    "makeSmallPlotSmall(axins,curKom)\n",
    "bbox = dict(boxstyle=\"round\", ec=\"white\", fc=\"white\", alpha=1)\n",
    "plt.setp(axins.get_xticklabels(), bbox=bbox)\n",
    "plt.setp(axins.get_yticklabels(), bbox=bbox)\n",
    "# bbox = dict(boxstyle=\"round\", ec=\"white\", fc=\"white\", alpha=1)\n",
    "# plt.setp(axins.get_yticklabels(), bbox=bbox)\n",
    "curgdf = gdf[gdf.navn == (curKom+' Kommune')]\n",
    "ax1.plot([curx0 + insetW/2,curgdf.geometry.centroid.x ],[cury0 + insetH / 2, curgdf.geometry.centroid.y ],'k')\n",
    "\n",
    "\n",
    "curKom = 'Kolding'\n",
    "curx0 = 330000\n",
    "cury0 = 6.1e6\n",
    "                #    bbox_to_anchor=(680000,6.35e6,685000,6.5e6),\n",
    "axins = inset_axes(ax1, width=2, height=1,\n",
    "                   bbox_to_anchor=(curx0,cury0,curx0+insetW,cury0+insetH),\n",
    "                   bbox_transform=ax1.transData, loc=3)\n",
    "# axins.set_facecolor('xkcd:off white')\n",
    "makeSmallPlotSmall(axins,curKom)\n",
    "bbox = dict(boxstyle=\"round\", ec=\"white\", fc=\"white\", alpha=1)\n",
    "plt.setp(axins.get_xticklabels(), bbox=bbox)\n",
    "plt.setp(axins.get_yticklabels(), bbox=bbox)\n",
    "# bbox = dict(boxstyle=\"round\", ec=\"white\", fc=\"white\", alpha=1)\n",
    "# plt.setp(axins.get_yticklabels(), bbox=bbox)\n",
    "curgdf = gdf[gdf.navn == (curKom+' Kommune')]\n",
    "ax1.plot([curx0 + insetW/2,curgdf.geometry.centroid.x ],[cury0 + insetH / 2, curgdf.geometry.centroid.y ],'k')\n",
    "\n",
    "\n",
    "fig.patch.set_facecolor('xkcd:off white')\n",
    "ax1.set_facecolor('xkcd:off white')\n",
    "ax1.set_xlim(left=350000)\n",
    "\n",
    "if saveFigures:\n",
    "    fig.savefig(path_figs+'/Maps/KommuneUdvikling_Forklaring')\n"
   ]
  },
  {
   "cell_type": "code",
   "execution_count": 13,
   "metadata": {},
   "outputs": [
    {
     "data": {
      "text/plain": [
       "158    MULTIPOLYGON Z (((518024.649 6137991.125 0.000...\n",
       "Name: geometry, dtype: geometry"
      ]
     },
     "execution_count": 13,
     "metadata": {},
     "output_type": "execute_result"
    }
   ],
   "source": [
    "curgdf.geometry"
   ]
  },
  {
   "cell_type": "markdown",
   "metadata": {},
   "source": [
    "# Map of local immunity"
   ]
  },
  {
   "cell_type": "code",
   "execution_count": 14,
   "metadata": {},
   "outputs": [
    {
     "data": {
      "text/html": [
       "<div>\n",
       "<style scoped>\n",
       "    .dataframe tbody tr th:only-of-type {\n",
       "        vertical-align: middle;\n",
       "    }\n",
       "\n",
       "    .dataframe tbody tr th {\n",
       "        vertical-align: top;\n",
       "    }\n",
       "\n",
       "    .dataframe thead th {\n",
       "        text-align: right;\n",
       "    }\n",
       "</style>\n",
       "<table border=\"1\" class=\"dataframe\">\n",
       "  <thead>\n",
       "    <tr style=\"text-align: right;\">\n",
       "      <th></th>\n",
       "      <th>objectid</th>\n",
       "      <th>navn</th>\n",
       "      <th>enhedid</th>\n",
       "      <th>fra</th>\n",
       "      <th>til</th>\n",
       "      <th>enhedtype</th>\n",
       "      <th>art</th>\n",
       "      <th>SHAPE_Leng</th>\n",
       "      <th>SHAPE_Area</th>\n",
       "      <th>geometry</th>\n",
       "      <th>TotalImmunity</th>\n",
       "    </tr>\n",
       "  </thead>\n",
       "  <tbody>\n",
       "    <tr>\n",
       "      <th>0</th>\n",
       "      <td>105388.0</td>\n",
       "      <td>Horsens Kommune</td>\n",
       "      <td>121077.0</td>\n",
       "      <td>2007-01-01</td>\n",
       "      <td>9999-12-31</td>\n",
       "      <td>64.0</td>\n",
       "      <td>Kommune</td>\n",
       "      <td>246469.100007</td>\n",
       "      <td>5.191999e+08</td>\n",
       "      <td>MULTIPOLYGON Z (((585139.647 6187541.974 0.000...</td>\n",
       "      <td>0.0</td>\n",
       "    </tr>\n",
       "    <tr>\n",
       "      <th>1</th>\n",
       "      <td>105384.0</td>\n",
       "      <td>Vejle Kommune</td>\n",
       "      <td>121073.0</td>\n",
       "      <td>2007-01-01</td>\n",
       "      <td>9999-12-31</td>\n",
       "      <td>64.0</td>\n",
       "      <td>Kommune</td>\n",
       "      <td>237518.089342</td>\n",
       "      <td>1.058254e+09</td>\n",
       "      <td>MULTIPOLYGON Z (((544840.271 6163582.786 0.000...</td>\n",
       "      <td>0.0</td>\n",
       "    </tr>\n",
       "    <tr>\n",
       "      <th>2</th>\n",
       "      <td>105385.0</td>\n",
       "      <td>Åbenrå Kommune</td>\n",
       "      <td>121074.0</td>\n",
       "      <td>2007-01-01</td>\n",
       "      <td>9999-12-31</td>\n",
       "      <td>64.0</td>\n",
       "      <td>Kommune</td>\n",
       "      <td>217483.507697</td>\n",
       "      <td>9.407096e+08</td>\n",
       "      <td>MULTIPOLYGON Z (((511855.887 6079619.361 0.000...</td>\n",
       "      <td>0.0</td>\n",
       "    </tr>\n",
       "    <tr>\n",
       "      <th>3</th>\n",
       "      <td>105386.0</td>\n",
       "      <td>Favrskov Kommune</td>\n",
       "      <td>121075.0</td>\n",
       "      <td>2007-01-01</td>\n",
       "      <td>9999-12-31</td>\n",
       "      <td>64.0</td>\n",
       "      <td>Kommune</td>\n",
       "      <td>185712.187147</td>\n",
       "      <td>5.402442e+08</td>\n",
       "      <td>MULTIPOLYGON Z (((548072.263 6238876.656 0.000...</td>\n",
       "      <td>0.0</td>\n",
       "    </tr>\n",
       "    <tr>\n",
       "      <th>4</th>\n",
       "      <td>105387.0</td>\n",
       "      <td>Hedensted Kommune</td>\n",
       "      <td>121076.0</td>\n",
       "      <td>2007-01-01</td>\n",
       "      <td>9999-12-31</td>\n",
       "      <td>64.0</td>\n",
       "      <td>Kommune</td>\n",
       "      <td>201591.999558</td>\n",
       "      <td>5.511563e+08</td>\n",
       "      <td>MULTIPOLYGON Z (((567515.496 6188130.593 0.000...</td>\n",
       "      <td>0.0</td>\n",
       "    </tr>\n",
       "  </tbody>\n",
       "</table>\n",
       "</div>"
      ],
      "text/plain": [
       "   objectid               navn   enhedid         fra         til  enhedtype  \\\n",
       "0  105388.0    Horsens Kommune  121077.0  2007-01-01  9999-12-31       64.0   \n",
       "1  105384.0      Vejle Kommune  121073.0  2007-01-01  9999-12-31       64.0   \n",
       "2  105385.0     Åbenrå Kommune  121074.0  2007-01-01  9999-12-31       64.0   \n",
       "3  105386.0   Favrskov Kommune  121075.0  2007-01-01  9999-12-31       64.0   \n",
       "4  105387.0  Hedensted Kommune  121076.0  2007-01-01  9999-12-31       64.0   \n",
       "\n",
       "       art     SHAPE_Leng    SHAPE_Area  \\\n",
       "0  Kommune  246469.100007  5.191999e+08   \n",
       "1  Kommune  237518.089342  1.058254e+09   \n",
       "2  Kommune  217483.507697  9.407096e+08   \n",
       "3  Kommune  185712.187147  5.402442e+08   \n",
       "4  Kommune  201591.999558  5.511563e+08   \n",
       "\n",
       "                                            geometry  TotalImmunity  \n",
       "0  MULTIPOLYGON Z (((585139.647 6187541.974 0.000...            0.0  \n",
       "1  MULTIPOLYGON Z (((544840.271 6163582.786 0.000...            0.0  \n",
       "2  MULTIPOLYGON Z (((511855.887 6079619.361 0.000...            0.0  \n",
       "3  MULTIPOLYGON Z (((548072.263 6238876.656 0.000...            0.0  \n",
       "4  MULTIPOLYGON Z (((567515.496 6188130.593 0.000...            0.0  "
      ]
     },
     "execution_count": 14,
     "metadata": {},
     "output_type": "execute_result"
    }
   ],
   "source": [
    "curgdf = gdf.copy()\n",
    "curgdf['TotalImmunity'] = np.zeros((len(curgdf,)))\n",
    "curgdf.head()"
   ]
  },
  {
   "cell_type": "code",
   "execution_count": 15,
   "metadata": {},
   "outputs": [],
   "source": [
    "\n",
    "# fig,ax1 = plt.subplots(figsize=(15,15)) \n",
    "\n",
    "# for x, y, label in zip(gdf.geometry.centroid.x, gdf.geometry.centroid.y, gdf.navn):\n",
    "#     ax1.annotate(label,xy=(x,y),xytext=(3,3),textcoords=\"offset points\")\n",
    "\n",
    "# cmap = matplotlib.cm.get_cmap('seismic')\n",
    "\n",
    "for curKom in allKoms:\n",
    "        \n",
    "    curDays,curCount,curPerc = getKommuneCount(curKom)\n",
    "\n",
    "    firstDate = np.datetime64('2021-12-15')\n",
    "    # firstDate = np.datetime64('2021-09-01')\n",
    "    curCount = curCount[curDays >= firstDate]\n",
    "    curPerc = curPerc[curDays >= firstDate]\n",
    "    curDays = curDays[curDays >= firstDate]\n",
    "\n",
    "    curVal = np.cumsum(curPerc)[-1]\n",
    "\n",
    "    # [cmap(x/7) for x in posVals]\n",
    "    curColor = cmap(curVal)\n",
    "    \n",
    "    if (curKom == 'Aabenraa'):\n",
    "        curKom = 'Åbenrå'\n",
    "    if (curKom == 'Nordfyn'):\n",
    "        curKom = 'Nordfyns'\n",
    "    if (curKom == 'København'):\n",
    "        curKom = 'Københavns'\n",
    "    if (curKom == 'Bornholm'):\n",
    "        curKom = 'Bornholms'\n",
    "    if (curKom == 'Faaborg-Midtfyn'):\n",
    "        curKom = 'Fåborg-Midtfyn'\n",
    "    if (curKom == 'Lyngby-Taarbæk'):\n",
    "        curKom = 'Lyngby-Tårbæk'\n",
    "        \n",
    "    curgdf.loc[curgdf.navn == (curKom+' Kommune'),'TotalImmunity'] = curVal\n",
    "\n",
    "    # curgdf = gdf[gdf.navn == (curKom+' Kommune')]\n",
    "    # curgdf.plot(ax=ax1,color=curColor)\n",
    "\n",
    "    \n",
    "# curgdf.head()"
   ]
  },
  {
   "cell_type": "code",
   "execution_count": 16,
   "metadata": {},
   "outputs": [
    {
     "data": {
      "application/vnd.jupyter.widget-view+json": {
       "model_id": "e53d66bb1b70486294bea518c7a6ef51",
       "version_major": 2,
       "version_minor": 0
      },
      "text/plain": [
       "Canvas(toolbar=Toolbar(toolitems=[('Home', 'Reset original view', 'home', 'home'), ('Back', 'Back to previous …"
      ]
     },
     "metadata": {},
     "output_type": "display_data"
    }
   ],
   "source": [
    "\n",
    "\n",
    "# import matplotlib\n",
    "\n",
    "fig,ax1 = plt.subplots(figsize=(15,15)) \n",
    "\n",
    "divider = make_axes_locatable(ax1)\n",
    "cax = divider.append_axes(\"left\", size=\"5%\", pad=0.05)\n",
    "\n",
    "fig.patch.set_facecolor('xkcd:off white')\n",
    "ax1.set_facecolor('xkcd:off white')\n",
    "\n",
    "# cmap = matplotlib.cm.get_cmap('cividis')\n",
    "vmax = np.round(curgdf.TotalImmunity.max()/5)*5 + 5\n",
    "curRangeToShow = np.arange(0,vmax,2.5)\n",
    "cmap = matplotlib.colors.LinearSegmentedColormap.from_list(\"\", [\"xkcd:purple\",\"xkcd:light gray\",\"xkcd:orange\"],N=len(curRangeToShow))\n",
    "# cmap = matplotlib.colors.LinearSegmentedColormap.from_list(\"\", [\"xkcd:red\",\"xkcd:light gray\",\"b\"],N=len(curRangeToShow))\n",
    "# cmap = matplotlib.colors.LinearSegmentedColormap.from_list(\"\", [\"xkcd:dark red\",\"k\",\"xkcd:green\"],N=len(curRangeToShow))\n",
    "curgdf.plot(ax=ax1,column = 'TotalImmunity',cmap=cmap,vmax=vmax,legend=True, cax=cax)\n",
    "curgdf.plot(ax=ax1,column = 'TotalImmunity',cmap=cmap,vmax=vmax,vmin=10,legend=True, cax=cax)\n",
    "\n",
    "\n",
    "# Remove axes\n",
    "ax1.set_xticks([])\n",
    "ax1.set_yticks([])\n",
    "ax1.spines['right'].set_visible(False)\n",
    "ax1.spines['top'].set_visible(False)\n",
    "ax1.spines['left'].set_visible(False)\n",
    "ax1.spines['bottom'].set_visible(False)\n",
    "\n",
    "ax1.set_title('Naturlig immunitet fra Omikron smitte, samlet befolkning')\n",
    "cax.yaxis.set_label_position(\"left\")\n",
    "cax.yaxis.tick_left()\n",
    "textFirstDate = pd.to_datetime(firstDate).strftime('%#d. %B %Y')\n",
    "textLastDate = pd.to_datetime(np.datetime64('today')).strftime('%#d. %B %Y')\n",
    "cax.set_ylabel(f'Andel af befolkning smittet siden {textFirstDate} [%]')\n",
    "ax1.set_title(f'Andel af befolkning smittet fra {textFirstDate} til {textLastDate}\\nBaseret på PCR-positive resultater, ikke test-justeret')\n",
    "\n",
    "fig.savefig(path_figs+f'Maps\\\\Kommune_Total')"
   ]
  },
  {
   "cell_type": "code",
   "execution_count": 17,
   "metadata": {},
   "outputs": [
    {
     "data": {
      "text/html": [
       "<div>\n",
       "<style scoped>\n",
       "    .dataframe tbody tr th:only-of-type {\n",
       "        vertical-align: middle;\n",
       "    }\n",
       "\n",
       "    .dataframe tbody tr th {\n",
       "        vertical-align: top;\n",
       "    }\n",
       "\n",
       "    .dataframe thead th {\n",
       "        text-align: right;\n",
       "    }\n",
       "</style>\n",
       "<table border=\"1\" class=\"dataframe\">\n",
       "  <thead>\n",
       "    <tr style=\"text-align: right;\">\n",
       "      <th></th>\n",
       "      <th>objectid</th>\n",
       "      <th>navn</th>\n",
       "      <th>enhedid</th>\n",
       "      <th>fra</th>\n",
       "      <th>til</th>\n",
       "      <th>enhedtype</th>\n",
       "      <th>art</th>\n",
       "      <th>SHAPE_Leng</th>\n",
       "      <th>SHAPE_Area</th>\n",
       "      <th>geometry</th>\n",
       "      <th>TotalImmunity</th>\n",
       "    </tr>\n",
       "  </thead>\n",
       "  <tbody>\n",
       "    <tr>\n",
       "      <th>0</th>\n",
       "      <td>105388.0</td>\n",
       "      <td>Horsens Kommune</td>\n",
       "      <td>121077.0</td>\n",
       "      <td>2007-01-01</td>\n",
       "      <td>9999-12-31</td>\n",
       "      <td>64.0</td>\n",
       "      <td>Kommune</td>\n",
       "      <td>246469.100007</td>\n",
       "      <td>5.191999e+08</td>\n",
       "      <td>MULTIPOLYGON Z (((585139.647 6187541.974 0.000...</td>\n",
       "      <td>17.423087</td>\n",
       "    </tr>\n",
       "    <tr>\n",
       "      <th>1</th>\n",
       "      <td>105384.0</td>\n",
       "      <td>Vejle Kommune</td>\n",
       "      <td>121073.0</td>\n",
       "      <td>2007-01-01</td>\n",
       "      <td>9999-12-31</td>\n",
       "      <td>64.0</td>\n",
       "      <td>Kommune</td>\n",
       "      <td>237518.089342</td>\n",
       "      <td>1.058254e+09</td>\n",
       "      <td>MULTIPOLYGON Z (((544840.271 6163582.786 0.000...</td>\n",
       "      <td>18.663381</td>\n",
       "    </tr>\n",
       "    <tr>\n",
       "      <th>2</th>\n",
       "      <td>105385.0</td>\n",
       "      <td>Åbenrå Kommune</td>\n",
       "      <td>121074.0</td>\n",
       "      <td>2007-01-01</td>\n",
       "      <td>9999-12-31</td>\n",
       "      <td>64.0</td>\n",
       "      <td>Kommune</td>\n",
       "      <td>217483.507697</td>\n",
       "      <td>9.407096e+08</td>\n",
       "      <td>MULTIPOLYGON Z (((511855.887 6079619.361 0.000...</td>\n",
       "      <td>16.266489</td>\n",
       "    </tr>\n",
       "    <tr>\n",
       "      <th>3</th>\n",
       "      <td>105386.0</td>\n",
       "      <td>Favrskov Kommune</td>\n",
       "      <td>121075.0</td>\n",
       "      <td>2007-01-01</td>\n",
       "      <td>9999-12-31</td>\n",
       "      <td>64.0</td>\n",
       "      <td>Kommune</td>\n",
       "      <td>185712.187147</td>\n",
       "      <td>5.402442e+08</td>\n",
       "      <td>MULTIPOLYGON Z (((548072.263 6238876.656 0.000...</td>\n",
       "      <td>19.863756</td>\n",
       "    </tr>\n",
       "    <tr>\n",
       "      <th>4</th>\n",
       "      <td>105387.0</td>\n",
       "      <td>Hedensted Kommune</td>\n",
       "      <td>121076.0</td>\n",
       "      <td>2007-01-01</td>\n",
       "      <td>9999-12-31</td>\n",
       "      <td>64.0</td>\n",
       "      <td>Kommune</td>\n",
       "      <td>201591.999558</td>\n",
       "      <td>5.511563e+08</td>\n",
       "      <td>MULTIPOLYGON Z (((567515.496 6188130.593 0.000...</td>\n",
       "      <td>16.041405</td>\n",
       "    </tr>\n",
       "  </tbody>\n",
       "</table>\n",
       "</div>"
      ],
      "text/plain": [
       "   objectid               navn   enhedid         fra         til  enhedtype  \\\n",
       "0  105388.0    Horsens Kommune  121077.0  2007-01-01  9999-12-31       64.0   \n",
       "1  105384.0      Vejle Kommune  121073.0  2007-01-01  9999-12-31       64.0   \n",
       "2  105385.0     Åbenrå Kommune  121074.0  2007-01-01  9999-12-31       64.0   \n",
       "3  105386.0   Favrskov Kommune  121075.0  2007-01-01  9999-12-31       64.0   \n",
       "4  105387.0  Hedensted Kommune  121076.0  2007-01-01  9999-12-31       64.0   \n",
       "\n",
       "       art     SHAPE_Leng    SHAPE_Area  \\\n",
       "0  Kommune  246469.100007  5.191999e+08   \n",
       "1  Kommune  237518.089342  1.058254e+09   \n",
       "2  Kommune  217483.507697  9.407096e+08   \n",
       "3  Kommune  185712.187147  5.402442e+08   \n",
       "4  Kommune  201591.999558  5.511563e+08   \n",
       "\n",
       "                                            geometry  TotalImmunity  \n",
       "0  MULTIPOLYGON Z (((585139.647 6187541.974 0.000...      17.423087  \n",
       "1  MULTIPOLYGON Z (((544840.271 6163582.786 0.000...      18.663381  \n",
       "2  MULTIPOLYGON Z (((511855.887 6079619.361 0.000...      16.266489  \n",
       "3  MULTIPOLYGON Z (((548072.263 6238876.656 0.000...      19.863756  \n",
       "4  MULTIPOLYGON Z (((567515.496 6188130.593 0.000...      16.041405  "
      ]
     },
     "execution_count": 17,
     "metadata": {},
     "output_type": "execute_result"
    }
   ],
   "source": [
    "# curgdf.loc[curgdf.navn == (curKom+' Kommune'),'TotalImmunity'] = 10\n",
    "curgdf.head()"
   ]
  },
  {
   "cell_type": "code",
   "execution_count": 18,
   "metadata": {},
   "outputs": [],
   "source": [
    "\n",
    "# curDays,curCount,curPerc = getKommuneCount('Horsens')\n",
    "\n",
    "# firstDate = np.datetime64('2021-12-01')\n",
    "# # firstDate = np.datetime64('2021-09-01')\n",
    "# curCount = curCount[curDays >= firstDate]\n",
    "# curPerc = curPerc[curDays >= firstDate]\n",
    "# curDays = curDays[curDays >= firstDate]\n",
    "\n",
    "# fig,ax1 = plt.subplots()\n",
    "# ax1.plot(curDays,np.cumsum(curPerc))"
   ]
  },
  {
   "cell_type": "markdown",
   "metadata": {},
   "source": [
    "# Make the same map, but age-specific\n",
    "\n",
    "Method for getting age-specific case-counts and incidence was made in Kommune_Alder.ipynb"
   ]
  },
  {
   "cell_type": "code",
   "execution_count": 19,
   "metadata": {},
   "outputs": [],
   "source": [
    "popdf1 = pd.read_csv(rootdir_data+'/DKfolketal2021_Statistikbanken_Del1.csv',header=None,encoding='latin1',delimiter=';')\n",
    "popdf2 = pd.read_csv(rootdir_data+'/DKfolketal2021_Statistikbanken_Del2.csv',header=None,encoding='latin1',delimiter=';')\n",
    "\n",
    "popdf = pd.concat([popdf1,popdf2])\n",
    "\n",
    "popdf = popdf.rename(columns={0:\"Kommune\",1:'Alder',2:'Antal'})\n",
    "popdf['AlderKort'] = popdf.Alder.apply(lambda x: int(str(x).split(' ')[0]))\n",
    "totCounts = popdf.groupby('Kommune').sum()"
   ]
  },
  {
   "cell_type": "code",
   "execution_count": 20,
   "metadata": {},
   "outputs": [],
   "source": [
    "def getPopSize(kommuneNavn,minAlder=0,maxAlder=125):\n",
    "\n",
    "    if (kommuneNavn == 'Høje Tåstrup'):\n",
    "        kommuneNavn = 'Høje-Taastrup'\n",
    "    if (kommuneNavn == 'Århus'):\n",
    "        kommuneNavn = 'Aarhus'\n",
    "    if (kommuneNavn == 'Nordfyn'):\n",
    "        kommuneNavn = 'Nordfyns'\n",
    "    if (kommuneNavn == 'Vesthimmerland'):\n",
    "        kommuneNavn = 'Vesthimmerlands'\n",
    "\n",
    "        \n",
    "    return popdf[(popdf.Kommune == kommuneNavn) & (popdf.AlderKort >= minAlder) & (popdf.AlderKort <= maxAlder)].Antal.sum()\n",
    "    "
   ]
  },
  {
   "cell_type": "code",
   "execution_count": 21,
   "metadata": {},
   "outputs": [],
   "source": [
    "allSubDirs = list(os.walk(path_dash))[0][1]\n",
    "\n",
    "df = pd.DataFrame()\n",
    "\n",
    "for curSubDir in allSubDirs:\n",
    "    curdir = path_dash + curSubDir\n",
    "    curfilepath = curdir+'/Kommunalt_DB/17_tilfaelde_fnkt_alder_kommuner.csv'\n",
    "\n",
    "    # Check if file was included at the time. The \"Kommune/17\" file wasn't included until 2021-09-22 \n",
    "    if os.path.isfile(curfilepath):\n",
    "        curdf = pd.read_csv(curfilepath,encoding='latin1',delimiter = ';')\n",
    "        \n",
    "        df = pd.concat([df,curdf])\n",
    "\n",
    "# Set dtypes\n",
    "df.Kommune = df.Kommune.fillna(0)  # All NaN kommuner is set to zero\n",
    "df['Kommune'] = df['Kommune'].astype(int)\n",
    "df['Dagsdato'] = pd.to_datetime(df['Dagsdato'])\n",
    "df['Bekræftede tilfælde'] = pd.to_numeric(df['Bekræftede tilfælde'])\n",
    "df['Aldersgruppe'] = df.Aldersgruppe.replace('00-02','0-2')\n",
    "df['Aldersgruppe'] = df.Aldersgruppe.replace('03-05','3-5')\n",
    "df['Aldersgruppe'] = df.Aldersgruppe.replace('06-11','6-11')\n",
    "\n",
    "# df['Forskel'] = df['Bekræftede tilfælde'].diff().fillna(0).astype(int,errors='ignore')"
   ]
  },
  {
   "cell_type": "code",
   "execution_count": 22,
   "metadata": {},
   "outputs": [],
   "source": [
    "\n",
    "df_kommunekort = pd.read_csv(latestdir+'/Kommunalt_DB/10_Kommune_kort.csv',encoding='latin1',\n",
    "                                delimiter = ';')\n",
    "df_kommunekort = df_kommunekort.set_index(\"Kommunenavn\")\n"
   ]
  },
  {
   "cell_type": "code",
   "execution_count": 23,
   "metadata": {},
   "outputs": [],
   "source": [
    "def getDiffTimeSeries(komCode,Age):\n",
    "\n",
    "    curdf = df[(df.Kommune == komCode) & (df.Aldersgruppe == Age)] \n",
    "\n",
    "    if (len(curdf) == 0):\n",
    "        return np.array(np.datetime64('today')),np.array([0])\n",
    "        \n",
    "    dayDiff = [int(x) for x in (curdf.Dagsdato.diff()/np.timedelta64(1,'D')).fillna(0)]\n",
    "\n",
    "    curDays = []\n",
    "    curDiffs = []\n",
    "    for i in range(1,len(curdf)):\n",
    "        curRow = curdf.iloc[i]\n",
    "        prevRow = curdf.iloc[i-1]\n",
    "        # print(curRow)\n",
    "        if (dayDiff[i] == 1):\n",
    "            curDays.append(curRow.Dagsdato)\n",
    "            curDiffs.append(curRow['Bekræftede tilfælde']-prevRow['Bekræftede tilfælde']) \n",
    "        elif (dayDiff[i] == 3):\n",
    "            curCount = curRow['Bekræftede tilfælde']-prevRow['Bekræftede tilfælde']\n",
    "            curDays.append(curRow.Dagsdato-np.timedelta64(2,'D'))\n",
    "            curDays.append(curRow.Dagsdato-np.timedelta64(1,'D'))\n",
    "            curDays.append(curRow.Dagsdato)\n",
    "            curDiffs.append(curCount/3) \n",
    "            curDiffs.append(curCount/3) \n",
    "            curDiffs.append(curCount/3) \n",
    "\n",
    "    return np.array(curDays),np.array(curDiffs)\n",
    "    "
   ]
  },
  {
   "cell_type": "code",
   "execution_count": 24,
   "metadata": {},
   "outputs": [],
   "source": [
    "def getCurrentAgeCounts(curKommuneNavn,Age):\n",
    "    # ,curMinAge=0,curMaxAge=125\n",
    "    \n",
    "    if (Age == '80+'):\n",
    "        curMinAge,curMaxAge = 80,125\n",
    "    else:\n",
    "        curMinAge,curMaxAge = [int(x) for x in Age.split('-')]\n",
    "\n",
    "    komCode = df_kommunekort['Kommune'][curKommuneNavn]\n",
    "    curDates,curCounts = getDiffTimeSeries(komCode,Age)\n",
    "\n",
    "    curPopSize = getPopSize(curKommuneNavn,curMinAge,curMaxAge)\n",
    "    curPerc = curCounts/curPopSize\n",
    "\n",
    "    return curDates,curCounts,curPerc\n",
    "\n"
   ]
  },
  {
   "cell_type": "code",
   "execution_count": 25,
   "metadata": {},
   "outputs": [
    {
     "name": "stdout",
     "output_type": "stream",
     "text": [
      "0.14506687342508237\n",
      "0.34847213308979613\n",
      "0.4216129502697974\n",
      "0.23631553879965805\n"
     ]
    }
   ],
   "source": [
    "def getCurrentAgeCumulative(curKommuneNavn,Age,firstDate=np.datetime64('2021-12-01')):\n",
    "\n",
    "    curDates,curCounts,curPerc = getCurrentAgeCounts(curKommuneNavn,Age)\n",
    "    \n",
    "    curIndex = [np.datetime64(x) for x in curDates] >= firstDate\n",
    "    curCounts = curCounts[curIndex]\n",
    "    curPerc = curPerc[curIndex]\n",
    "    curDates = curDates[curIndex]\n",
    "\n",
    "    curVal = np.cumsum(curPerc)[-1]\n",
    "\n",
    "    return curVal\n",
    "\n",
    "print(getCurrentAgeCumulative(curKommuneNavn,'0-2'))\n",
    "print(getCurrentAgeCumulative(curKommuneNavn,'3-5'))\n",
    "print(getCurrentAgeCumulative(curKommuneNavn,'6-11'))\n",
    "print(getCurrentAgeCumulative(curKommuneNavn,'40-64'))"
   ]
  },
  {
   "cell_type": "code",
   "execution_count": 26,
   "metadata": {},
   "outputs": [],
   "source": [
    "# def getCurrentAgeCumulative(curKommuneNavn,Age,firstDate=np.datetime64('2021-12-01')):\n",
    "#     # ,curMinAge=0,curMaxAge=125\n",
    "    \n",
    "#     if (Age == '80+'):\n",
    "#         curMinAge,curMaxAge = 80,125\n",
    "#     else:\n",
    "#         curMinAge,curMaxAge = [int(x) for x in Age.split('-')]\n",
    "\n",
    "#     komCode = df_kommunekort['Kommune'][curKommuneNavn]\n",
    "#     curDates,curCounts = getDiffTimeSeries(komCode,Age)\n",
    "\n",
    "#     curPopSize = getPopSize(curKommuneNavn,curMinAge,curMaxAge)\n",
    "#     curPerc = curCounts/curPopSize\n",
    "\n",
    "#     # firstDate = np.datetime64('2021-12-01')\n",
    "#     # firstDate = np.datetime64('2021-09-01')\n",
    "#     curIndex = [np.datetime64(x) for x in curDates] >= firstDate\n",
    "#     curCounts = curCounts[curIndex]\n",
    "#     curPerc = curPerc[curIndex]\n",
    "#     curDates = curDates[curIndex]\n",
    "\n",
    "#     curVal = np.cumsum(curPerc)[-1]\n",
    "\n",
    "#     # plt.figure()\n",
    "#     # plt.plot(curDates,curCounts,'.:')\n",
    "#     # plt.plot(rnTime(curDates,7),rnMean(curCounts,7)) \n",
    "\n",
    "#     return curVal\n",
    "\n",
    "# print(getCurrentAgeCumulative(curKommuneNavn,'0-2'))\n",
    "# print(getCurrentAgeCumulative(curKommuneNavn,'3-5'))\n",
    "# print(getCurrentAgeCumulative(curKommuneNavn,'6-11'))\n",
    "# print(getCurrentAgeCumulative(curKommuneNavn,'40-64'))"
   ]
  },
  {
   "cell_type": "code",
   "execution_count": 27,
   "metadata": {},
   "outputs": [
    {
     "name": "stdout",
     "output_type": "stream",
     "text": [
      "Samsø\n"
     ]
    }
   ],
   "source": [
    "\n",
    "# fig,ax1 = plt.subplots(figsize=(15,15)) \n",
    "\n",
    "# for x, y, label in zip(gdf.geometry.centroid.x, gdf.geometry.centroid.y, gdf.navn):\n",
    "#     ax1.annotate(label,xy=(x,y),xytext=(3,3),textcoords=\"offset points\")\n",
    "\n",
    "# cmap = matplotlib.cm.get_cmap('seismic')\n",
    "\n",
    "for curKom in allKoms:\n",
    "        \n",
    "    # curDays,curCount,curPerc = getKommuneCount(curKom)\n",
    "\n",
    "    # firstDate = np.datetime64('2021-12-01')\n",
    "    # # firstDate = np.datetime64('2021-09-01')\n",
    "    # curCount = curCount[curDays >= firstDate]\n",
    "    # curPerc = curPerc[curDays >= firstDate]\n",
    "    # curDays = curDays[curDays >= firstDate]\n",
    "\n",
    "    # curVal = np.cumsum(curPerc)[-1]\n",
    "\n",
    "    # [cmap(x/7) for x in posVals]\n",
    "    curColor = cmap(curVal)\n",
    "\n",
    "\n",
    "    curKomGdf = curKom\n",
    "    if (curKom == 'Aabenraa'):\n",
    "        curKomGdf = 'Åbenrå'\n",
    "    if (curKom == 'Nordfyn'):\n",
    "        curKomGdf = 'Nordfyns'\n",
    "    if (curKom == 'København'):\n",
    "        curKomGdf = 'Københavns'\n",
    "    if (curKom == 'Bornholm'):\n",
    "        curKomGdf = 'Bornholms'\n",
    "    if (curKom == 'Faaborg-Midtfyn'):\n",
    "        curKomGdf = 'Fåborg-Midtfyn'\n",
    "    if (curKom == 'Lyngby-Taarbæk'):\n",
    "        curKomGdf = 'Lyngby-Tårbæk'\n",
    "        \n",
    "    # curgdf.loc[curgdf.navn == (curKomGdf+' Kommune'),'TotalImmunity'] = curVal\n",
    "    try: \n",
    "        for curAge in df.Aldersgruppe.unique()[:-1]:\n",
    "            curVal = getCurrentAgeCumulative(curKom,curAge)\n",
    "            curgdf.loc[curgdf.navn == (curKomGdf+' Kommune'),curAge] = 100 *  curVal\n",
    "    except:\n",
    "        print(curKom)\n",
    "\n",
    "    # curgdf = gdf[gdf.navn == (curKom+' Kommune')]\n",
    "    # curgdf.plot(ax=ax1,color=curColor)\n",
    "\n",
    "    \n",
    "# curgdf.head()"
   ]
  },
  {
   "cell_type": "code",
   "execution_count": 28,
   "metadata": {},
   "outputs": [
    {
     "data": {
      "text/html": [
       "<div>\n",
       "<style scoped>\n",
       "    .dataframe tbody tr th:only-of-type {\n",
       "        vertical-align: middle;\n",
       "    }\n",
       "\n",
       "    .dataframe tbody tr th {\n",
       "        vertical-align: top;\n",
       "    }\n",
       "\n",
       "    .dataframe thead th {\n",
       "        text-align: right;\n",
       "    }\n",
       "</style>\n",
       "<table border=\"1\" class=\"dataframe\">\n",
       "  <thead>\n",
       "    <tr style=\"text-align: right;\">\n",
       "      <th></th>\n",
       "      <th>objectid</th>\n",
       "      <th>navn</th>\n",
       "      <th>enhedid</th>\n",
       "      <th>fra</th>\n",
       "      <th>til</th>\n",
       "      <th>enhedtype</th>\n",
       "      <th>art</th>\n",
       "      <th>SHAPE_Leng</th>\n",
       "      <th>SHAPE_Area</th>\n",
       "      <th>geometry</th>\n",
       "      <th>TotalImmunity</th>\n",
       "      <th>0-2</th>\n",
       "      <th>3-5</th>\n",
       "      <th>6-11</th>\n",
       "      <th>12-15</th>\n",
       "      <th>16-19</th>\n",
       "      <th>20-39</th>\n",
       "      <th>40-64</th>\n",
       "      <th>65-79</th>\n",
       "      <th>80+</th>\n",
       "    </tr>\n",
       "  </thead>\n",
       "  <tbody>\n",
       "    <tr>\n",
       "      <th>0</th>\n",
       "      <td>105388.0</td>\n",
       "      <td>Horsens Kommune</td>\n",
       "      <td>121077.0</td>\n",
       "      <td>2007-01-01</td>\n",
       "      <td>9999-12-31</td>\n",
       "      <td>64.0</td>\n",
       "      <td>Kommune</td>\n",
       "      <td>246469.100007</td>\n",
       "      <td>5.191999e+08</td>\n",
       "      <td>MULTIPOLYGON Z (((585139.647 6187541.974 0.000...</td>\n",
       "      <td>17.423087</td>\n",
       "      <td>11.811273</td>\n",
       "      <td>28.620907</td>\n",
       "      <td>38.928626</td>\n",
       "      <td>36.670366</td>\n",
       "      <td>36.743772</td>\n",
       "      <td>24.263759</td>\n",
       "      <td>16.960048</td>\n",
       "      <td>4.817826</td>\n",
       "      <td>2.429351</td>\n",
       "    </tr>\n",
       "    <tr>\n",
       "      <th>1</th>\n",
       "      <td>105384.0</td>\n",
       "      <td>Vejle Kommune</td>\n",
       "      <td>121073.0</td>\n",
       "      <td>2007-01-01</td>\n",
       "      <td>9999-12-31</td>\n",
       "      <td>64.0</td>\n",
       "      <td>Kommune</td>\n",
       "      <td>237518.089342</td>\n",
       "      <td>1.058254e+09</td>\n",
       "      <td>MULTIPOLYGON Z (((544840.271 6163582.786 0.000...</td>\n",
       "      <td>18.663381</td>\n",
       "      <td>13.199899</td>\n",
       "      <td>31.768862</td>\n",
       "      <td>40.766124</td>\n",
       "      <td>43.979058</td>\n",
       "      <td>36.024744</td>\n",
       "      <td>24.293283</td>\n",
       "      <td>16.573206</td>\n",
       "      <td>4.648724</td>\n",
       "      <td>3.041407</td>\n",
       "    </tr>\n",
       "    <tr>\n",
       "      <th>2</th>\n",
       "      <td>105385.0</td>\n",
       "      <td>Åbenrå Kommune</td>\n",
       "      <td>121074.0</td>\n",
       "      <td>2007-01-01</td>\n",
       "      <td>9999-12-31</td>\n",
       "      <td>64.0</td>\n",
       "      <td>Kommune</td>\n",
       "      <td>217483.507697</td>\n",
       "      <td>9.407096e+08</td>\n",
       "      <td>MULTIPOLYGON Z (((511855.887 6079619.361 0.000...</td>\n",
       "      <td>16.266489</td>\n",
       "      <td>14.233354</td>\n",
       "      <td>30.741840</td>\n",
       "      <td>35.892566</td>\n",
       "      <td>36.357317</td>\n",
       "      <td>36.491343</td>\n",
       "      <td>23.022411</td>\n",
       "      <td>14.841970</td>\n",
       "      <td>4.571695</td>\n",
       "      <td>3.625557</td>\n",
       "    </tr>\n",
       "    <tr>\n",
       "      <th>3</th>\n",
       "      <td>105386.0</td>\n",
       "      <td>Favrskov Kommune</td>\n",
       "      <td>121075.0</td>\n",
       "      <td>2007-01-01</td>\n",
       "      <td>9999-12-31</td>\n",
       "      <td>64.0</td>\n",
       "      <td>Kommune</td>\n",
       "      <td>185712.187147</td>\n",
       "      <td>5.402442e+08</td>\n",
       "      <td>MULTIPOLYGON Z (((548072.263 6238876.656 0.000...</td>\n",
       "      <td>19.863756</td>\n",
       "      <td>13.040791</td>\n",
       "      <td>27.495722</td>\n",
       "      <td>41.604140</td>\n",
       "      <td>42.500854</td>\n",
       "      <td>41.152416</td>\n",
       "      <td>25.383784</td>\n",
       "      <td>17.759110</td>\n",
       "      <td>4.251817</td>\n",
       "      <td>3.504561</td>\n",
       "    </tr>\n",
       "    <tr>\n",
       "      <th>4</th>\n",
       "      <td>105387.0</td>\n",
       "      <td>Hedensted Kommune</td>\n",
       "      <td>121076.0</td>\n",
       "      <td>2007-01-01</td>\n",
       "      <td>9999-12-31</td>\n",
       "      <td>64.0</td>\n",
       "      <td>Kommune</td>\n",
       "      <td>201591.999558</td>\n",
       "      <td>5.511563e+08</td>\n",
       "      <td>MULTIPOLYGON Z (((567515.496 6188130.593 0.000...</td>\n",
       "      <td>16.041405</td>\n",
       "      <td>10.863095</td>\n",
       "      <td>26.092804</td>\n",
       "      <td>35.419847</td>\n",
       "      <td>29.258138</td>\n",
       "      <td>35.196195</td>\n",
       "      <td>23.163717</td>\n",
       "      <td>14.901493</td>\n",
       "      <td>5.162784</td>\n",
       "      <td>3.627162</td>\n",
       "    </tr>\n",
       "  </tbody>\n",
       "</table>\n",
       "</div>"
      ],
      "text/plain": [
       "   objectid               navn   enhedid         fra         til  enhedtype  \\\n",
       "0  105388.0    Horsens Kommune  121077.0  2007-01-01  9999-12-31       64.0   \n",
       "1  105384.0      Vejle Kommune  121073.0  2007-01-01  9999-12-31       64.0   \n",
       "2  105385.0     Åbenrå Kommune  121074.0  2007-01-01  9999-12-31       64.0   \n",
       "3  105386.0   Favrskov Kommune  121075.0  2007-01-01  9999-12-31       64.0   \n",
       "4  105387.0  Hedensted Kommune  121076.0  2007-01-01  9999-12-31       64.0   \n",
       "\n",
       "       art     SHAPE_Leng    SHAPE_Area  \\\n",
       "0  Kommune  246469.100007  5.191999e+08   \n",
       "1  Kommune  237518.089342  1.058254e+09   \n",
       "2  Kommune  217483.507697  9.407096e+08   \n",
       "3  Kommune  185712.187147  5.402442e+08   \n",
       "4  Kommune  201591.999558  5.511563e+08   \n",
       "\n",
       "                                            geometry  TotalImmunity  \\\n",
       "0  MULTIPOLYGON Z (((585139.647 6187541.974 0.000...      17.423087   \n",
       "1  MULTIPOLYGON Z (((544840.271 6163582.786 0.000...      18.663381   \n",
       "2  MULTIPOLYGON Z (((511855.887 6079619.361 0.000...      16.266489   \n",
       "3  MULTIPOLYGON Z (((548072.263 6238876.656 0.000...      19.863756   \n",
       "4  MULTIPOLYGON Z (((567515.496 6188130.593 0.000...      16.041405   \n",
       "\n",
       "         0-2        3-5       6-11      12-15      16-19      20-39  \\\n",
       "0  11.811273  28.620907  38.928626  36.670366  36.743772  24.263759   \n",
       "1  13.199899  31.768862  40.766124  43.979058  36.024744  24.293283   \n",
       "2  14.233354  30.741840  35.892566  36.357317  36.491343  23.022411   \n",
       "3  13.040791  27.495722  41.604140  42.500854  41.152416  25.383784   \n",
       "4  10.863095  26.092804  35.419847  29.258138  35.196195  23.163717   \n",
       "\n",
       "       40-64     65-79       80+  \n",
       "0  16.960048  4.817826  2.429351  \n",
       "1  16.573206  4.648724  3.041407  \n",
       "2  14.841970  4.571695  3.625557  \n",
       "3  17.759110  4.251817  3.504561  \n",
       "4  14.901493  5.162784  3.627162  "
      ]
     },
     "execution_count": 28,
     "metadata": {},
     "output_type": "execute_result"
    }
   ],
   "source": [
    "\n",
    "# curgdf['TotalImmunity'] = curgdf['TotalImmunity']/100\n",
    "curgdf.head()"
   ]
  },
  {
   "cell_type": "markdown",
   "metadata": {},
   "source": [
    "# ... and make maps"
   ]
  },
  {
   "cell_type": "code",
   "execution_count": 29,
   "metadata": {},
   "outputs": [
    {
     "data": {
      "text/html": [
       "<div>\n",
       "<style scoped>\n",
       "    .dataframe tbody tr th:only-of-type {\n",
       "        vertical-align: middle;\n",
       "    }\n",
       "\n",
       "    .dataframe tbody tr th {\n",
       "        vertical-align: top;\n",
       "    }\n",
       "\n",
       "    .dataframe thead th {\n",
       "        text-align: right;\n",
       "    }\n",
       "</style>\n",
       "<table border=\"1\" class=\"dataframe\">\n",
       "  <thead>\n",
       "    <tr style=\"text-align: right;\">\n",
       "      <th></th>\n",
       "      <th>objectid</th>\n",
       "      <th>navn</th>\n",
       "      <th>enhedid</th>\n",
       "      <th>fra</th>\n",
       "      <th>til</th>\n",
       "      <th>enhedtype</th>\n",
       "      <th>art</th>\n",
       "      <th>SHAPE_Leng</th>\n",
       "      <th>SHAPE_Area</th>\n",
       "      <th>geometry</th>\n",
       "      <th>TotalImmunity</th>\n",
       "      <th>0-2</th>\n",
       "      <th>3-5</th>\n",
       "      <th>6-11</th>\n",
       "      <th>12-15</th>\n",
       "      <th>16-19</th>\n",
       "      <th>20-39</th>\n",
       "      <th>40-64</th>\n",
       "      <th>65-79</th>\n",
       "      <th>80+</th>\n",
       "    </tr>\n",
       "  </thead>\n",
       "  <tbody>\n",
       "    <tr>\n",
       "      <th>35</th>\n",
       "      <td>47234.0</td>\n",
       "      <td>Læsø Kommune</td>\n",
       "      <td>121098.0</td>\n",
       "      <td>2007-01-01</td>\n",
       "      <td>9999-12-31</td>\n",
       "      <td>64.0</td>\n",
       "      <td>Kommune</td>\n",
       "      <td>114662.401069</td>\n",
       "      <td>1.183921e+08</td>\n",
       "      <td>MULTIPOLYGON Z (((619813.130 6343486.648 0.000...</td>\n",
       "      <td>4.918033</td>\n",
       "      <td>0.0</td>\n",
       "      <td>6.25</td>\n",
       "      <td>13.636364</td>\n",
       "      <td>6.944444</td>\n",
       "      <td>58.139535</td>\n",
       "      <td>8.988764</td>\n",
       "      <td>3.955696</td>\n",
       "      <td>1.301115</td>\n",
       "      <td>1.129944</td>\n",
       "    </tr>\n",
       "  </tbody>\n",
       "</table>\n",
       "</div>"
      ],
      "text/plain": [
       "    objectid          navn   enhedid         fra         til  enhedtype  \\\n",
       "35   47234.0  Læsø Kommune  121098.0  2007-01-01  9999-12-31       64.0   \n",
       "\n",
       "        art     SHAPE_Leng    SHAPE_Area  \\\n",
       "35  Kommune  114662.401069  1.183921e+08   \n",
       "\n",
       "                                             geometry  TotalImmunity  0-2  \\\n",
       "35  MULTIPOLYGON Z (((619813.130 6343486.648 0.000...       4.918033  0.0   \n",
       "\n",
       "     3-5       6-11     12-15      16-19     20-39     40-64     65-79  \\\n",
       "35  6.25  13.636364  6.944444  58.139535  8.988764  3.955696  1.301115   \n",
       "\n",
       "         80+  \n",
       "35  1.129944  "
      ]
     },
     "execution_count": 29,
     "metadata": {},
     "output_type": "execute_result"
    }
   ],
   "source": [
    "curgdf[curgdf.navn == 'Læsø Kommune']"
   ]
  },
  {
   "cell_type": "code",
   "execution_count": 30,
   "metadata": {},
   "outputs": [
    {
     "data": {
      "application/vnd.jupyter.widget-view+json": {
       "model_id": "df213c1adfe24467a41ce426b39bcb3e",
       "version_major": 2,
       "version_minor": 0
      },
      "text/plain": [
       "Canvas(toolbar=Toolbar(toolitems=[('Home', 'Reset original view', 'home', 'home'), ('Back', 'Back to previous …"
      ]
     },
     "metadata": {},
     "output_type": "display_data"
    },
    {
     "data": {
      "application/vnd.jupyter.widget-view+json": {
       "model_id": "8b1119e8379f4d5fad577768e54ad062",
       "version_major": 2,
       "version_minor": 0
      },
      "text/plain": [
       "Canvas(toolbar=Toolbar(toolitems=[('Home', 'Reset original view', 'home', 'home'), ('Back', 'Back to previous …"
      ]
     },
     "metadata": {},
     "output_type": "display_data"
    },
    {
     "data": {
      "application/vnd.jupyter.widget-view+json": {
       "model_id": "0789eb31b3cc459497404fd580b41082",
       "version_major": 2,
       "version_minor": 0
      },
      "text/plain": [
       "Canvas(toolbar=Toolbar(toolitems=[('Home', 'Reset original view', 'home', 'home'), ('Back', 'Back to previous …"
      ]
     },
     "metadata": {},
     "output_type": "display_data"
    },
    {
     "data": {
      "application/vnd.jupyter.widget-view+json": {
       "model_id": "677c7be605ce4608b3cf3d305d5f1d74",
       "version_major": 2,
       "version_minor": 0
      },
      "text/plain": [
       "Canvas(toolbar=Toolbar(toolitems=[('Home', 'Reset original view', 'home', 'home'), ('Back', 'Back to previous …"
      ]
     },
     "metadata": {},
     "output_type": "display_data"
    },
    {
     "data": {
      "application/vnd.jupyter.widget-view+json": {
       "model_id": "8d3f2422322240a497382adaf8ecadc5",
       "version_major": 2,
       "version_minor": 0
      },
      "text/plain": [
       "Canvas(toolbar=Toolbar(toolitems=[('Home', 'Reset original view', 'home', 'home'), ('Back', 'Back to previous …"
      ]
     },
     "metadata": {},
     "output_type": "display_data"
    },
    {
     "data": {
      "application/vnd.jupyter.widget-view+json": {
       "model_id": "8c8f5b7a8e134babacd1a01055487c59",
       "version_major": 2,
       "version_minor": 0
      },
      "text/plain": [
       "Canvas(toolbar=Toolbar(toolitems=[('Home', 'Reset original view', 'home', 'home'), ('Back', 'Back to previous …"
      ]
     },
     "metadata": {},
     "output_type": "display_data"
    },
    {
     "data": {
      "application/vnd.jupyter.widget-view+json": {
       "model_id": "d536120f2da34f5aa9d0d46270862b47",
       "version_major": 2,
       "version_minor": 0
      },
      "text/plain": [
       "Canvas(toolbar=Toolbar(toolitems=[('Home', 'Reset original view', 'home', 'home'), ('Back', 'Back to previous …"
      ]
     },
     "metadata": {},
     "output_type": "display_data"
    },
    {
     "data": {
      "application/vnd.jupyter.widget-view+json": {
       "model_id": "48a1ff67fc284c63a87adc3fb50a058d",
       "version_major": 2,
       "version_minor": 0
      },
      "text/plain": [
       "Canvas(toolbar=Toolbar(toolitems=[('Home', 'Reset original view', 'home', 'home'), ('Back', 'Back to previous …"
      ]
     },
     "metadata": {},
     "output_type": "display_data"
    },
    {
     "data": {
      "application/vnd.jupyter.widget-view+json": {
       "model_id": "594e952cad014cc6847d281423c3c93c",
       "version_major": 2,
       "version_minor": 0
      },
      "text/plain": [
       "Canvas(toolbar=Toolbar(toolitems=[('Home', 'Reset original view', 'home', 'home'), ('Back', 'Back to previous …"
      ]
     },
     "metadata": {},
     "output_type": "display_data"
    }
   ],
   "source": [
    "\n",
    "for curAge in df.Aldersgruppe.unique()[:-1]:\n",
    "\n",
    "    fig,ax1 = plt.subplots(figsize=(15,15),tight_layout=True) \n",
    "\n",
    "    divider = make_axes_locatable(ax1)\n",
    "    cax = divider.append_axes(\"left\", size=\"5%\", pad=0.01)\n",
    "\n",
    "    fig.patch.set_facecolor('xkcd:off white')\n",
    "    ax1.set_facecolor('xkcd:off white')\n",
    "\n",
    "\n",
    "    # vmax = np.round(curgdf[curAge].max()/5)*5 + 5\n",
    "    # curRangeToShow = np.arange(0,vmax,2.5)\n",
    "    vmax = 60\n",
    "    vmax = 40\n",
    "    curRangeToShow = np.arange(0,vmax,5)\n",
    "    cmap = matplotlib.colors.LinearSegmentedColormap.from_list(\"\", [\"xkcd:dark yellow\",\"gray\",\"xkcd:green\"],N=len(curRangeToShow))\n",
    "    curgdf.plot(ax=ax1,column = curAge,cmap=cmap,legend=True, cax=cax)\n",
    "\n",
    "\n",
    "    # Remove axes\n",
    "    ax1.set_xticks([])\n",
    "    ax1.set_yticks([])\n",
    "    ax1.spines['right'].set_visible(False)\n",
    "    ax1.spines['top'].set_visible(False)\n",
    "    ax1.spines['left'].set_visible(False)\n",
    "    ax1.spines['bottom'].set_visible(False)\n",
    "\n",
    "    ax1.set_title(f'Naturlig immunitet fra Omikron smitte, {curAge} årige')\n",
    "    cax.yaxis.set_label_position(\"left\")\n",
    "    cax.yaxis.tick_left()\n",
    "    textFirstDate = pd.to_datetime(firstDate).strftime('%#d. %B')\n",
    "    cax.set_ylabel(f'Andel af {curAge} årige smittet siden {textFirstDate} [%]')\n",
    "\n",
    "    fig.savefig(path_figs+f'Maps\\\\Kommune_Immunitet_{curAge}')"
   ]
  },
  {
   "cell_type": "code",
   "execution_count": 31,
   "metadata": {},
   "outputs": [
    {
     "data": {
      "application/vnd.jupyter.widget-view+json": {
       "model_id": "c839d72e53a844f29594231c19156377",
       "version_major": 2,
       "version_minor": 0
      },
      "text/plain": [
       "Canvas(toolbar=Toolbar(toolitems=[('Home', 'Reset original view', 'home', 'home'), ('Back', 'Back to previous …"
      ]
     },
     "metadata": {},
     "output_type": "display_data"
    },
    {
     "data": {
      "application/vnd.jupyter.widget-view+json": {
       "model_id": "4910565405e04e84bace5db3400e8bc2",
       "version_major": 2,
       "version_minor": 0
      },
      "text/plain": [
       "Canvas(toolbar=Toolbar(toolitems=[('Home', 'Reset original view', 'home', 'home'), ('Back', 'Back to previous …"
      ]
     },
     "metadata": {},
     "output_type": "display_data"
    },
    {
     "data": {
      "application/vnd.jupyter.widget-view+json": {
       "model_id": "47d01cb48f4a49f3b046db01f3d61ba0",
       "version_major": 2,
       "version_minor": 0
      },
      "text/plain": [
       "Canvas(toolbar=Toolbar(toolitems=[('Home', 'Reset original view', 'home', 'home'), ('Back', 'Back to previous …"
      ]
     },
     "metadata": {},
     "output_type": "display_data"
    },
    {
     "data": {
      "application/vnd.jupyter.widget-view+json": {
       "model_id": "02b1960e3d0140da8592f8bed8e9a7a0",
       "version_major": 2,
       "version_minor": 0
      },
      "text/plain": [
       "Canvas(toolbar=Toolbar(toolitems=[('Home', 'Reset original view', 'home', 'home'), ('Back', 'Back to previous …"
      ]
     },
     "metadata": {},
     "output_type": "display_data"
    },
    {
     "data": {
      "application/vnd.jupyter.widget-view+json": {
       "model_id": "c2b8a1a36150432e915970b331503a32",
       "version_major": 2,
       "version_minor": 0
      },
      "text/plain": [
       "Canvas(toolbar=Toolbar(toolitems=[('Home', 'Reset original view', 'home', 'home'), ('Back', 'Back to previous …"
      ]
     },
     "metadata": {},
     "output_type": "display_data"
    },
    {
     "data": {
      "application/vnd.jupyter.widget-view+json": {
       "model_id": "23ea8a6913814857b79377da2149c29c",
       "version_major": 2,
       "version_minor": 0
      },
      "text/plain": [
       "Canvas(toolbar=Toolbar(toolitems=[('Home', 'Reset original view', 'home', 'home'), ('Back', 'Back to previous …"
      ]
     },
     "metadata": {},
     "output_type": "display_data"
    },
    {
     "name": "stderr",
     "output_type": "stream",
     "text": [
      "<ipython-input-31-9bd4f277beed>:3: RuntimeWarning: More than 20 figures have been opened. Figures created through the pyplot interface (`matplotlib.pyplot.figure`) are retained until explicitly closed and may consume too much memory. (To control this warning, see the rcParam `figure.max_open_warning`).\n",
      "  fig,ax1 = plt.subplots(figsize=(15,15),tight_layout=True)\n"
     ]
    },
    {
     "data": {
      "application/vnd.jupyter.widget-view+json": {
       "model_id": "34431147b5e440e6a326ed45f11176fe",
       "version_major": 2,
       "version_minor": 0
      },
      "text/plain": [
       "Canvas(toolbar=Toolbar(toolitems=[('Home', 'Reset original view', 'home', 'home'), ('Back', 'Back to previous …"
      ]
     },
     "metadata": {},
     "output_type": "display_data"
    },
    {
     "data": {
      "application/vnd.jupyter.widget-view+json": {
       "model_id": "c1a86eaf8f724428a3a16881a45d8f94",
       "version_major": 2,
       "version_minor": 0
      },
      "text/plain": [
       "Canvas(toolbar=Toolbar(toolitems=[('Home', 'Reset original view', 'home', 'home'), ('Back', 'Back to previous …"
      ]
     },
     "metadata": {},
     "output_type": "display_data"
    },
    {
     "data": {
      "application/vnd.jupyter.widget-view+json": {
       "model_id": "5b98977f28274c659f802b707059e74b",
       "version_major": 2,
       "version_minor": 0
      },
      "text/plain": [
       "Canvas(toolbar=Toolbar(toolitems=[('Home', 'Reset original view', 'home', 'home'), ('Back', 'Back to previous …"
      ]
     },
     "metadata": {},
     "output_type": "display_data"
    }
   ],
   "source": [
    "\n",
    "for curAge in df.Aldersgruppe.unique()[:-1]:\n",
    "\n",
    "    fig,ax1 = plt.subplots(figsize=(15,15),tight_layout=True) \n",
    "\n",
    "    divider = make_axes_locatable(ax1)\n",
    "    cax = divider.append_axes(\"left\", size=\"5%\", pad=0.01)\n",
    "\n",
    "    fig.patch.set_facecolor('xkcd:off white')\n",
    "    ax1.set_facecolor('xkcd:off white')\n",
    "\n",
    "\n",
    "    # vmax = np.round(curgdf[curAge].max()/5)*5 + 5\n",
    "    # curRangeToShow = np.arange(0,vmax,2.5)\n",
    "    vmax = 60\n",
    "    vmax = 40\n",
    "    curRangeToShow = np.arange(0,vmax,5)\n",
    "    cmap = matplotlib.colors.LinearSegmentedColormap.from_list(\"\", [\"xkcd:dark yellow\",\"gray\",\"xkcd:green\"],N=len(curRangeToShow))\n",
    "    curgdf.plot(ax=ax1,column = curAge,cmap=cmap,vmax=vmax,vmin=0,legend=True, cax=cax)\n",
    "\n",
    "\n",
    "    # Remove axes\n",
    "    ax1.set_xticks([])\n",
    "    ax1.set_yticks([])\n",
    "    ax1.spines['right'].set_visible(False)\n",
    "    ax1.spines['top'].set_visible(False)\n",
    "    ax1.spines['left'].set_visible(False)\n",
    "    ax1.spines['bottom'].set_visible(False)\n",
    "\n",
    "    ax1.set_title(f'Naturlig immunitet fra Omikron smitte, {curAge} årige')\n",
    "    cax.yaxis.set_label_position(\"left\")\n",
    "    cax.yaxis.tick_left()\n",
    "    textFirstDate = pd.to_datetime(firstDate).strftime('%#d. %B')\n",
    "    cax.set_ylabel(f'Andel af {curAge} årige smittet siden {textFirstDate} [%]')\n",
    "\n",
    "    fig.savefig(path_figs+f'Maps\\\\Kommune_{curAge}')"
   ]
  },
  {
   "cell_type": "code",
   "execution_count": 32,
   "metadata": {},
   "outputs": [],
   "source": [
    "plt.close('all')"
   ]
  },
  {
   "cell_type": "markdown",
   "metadata": {},
   "source": [
    "# Make a map of the current age-specific incidence"
   ]
  },
  {
   "cell_type": "code",
   "execution_count": 33,
   "metadata": {},
   "outputs": [],
   "source": [
    "\n",
    "# curDates,curCounts,curPerc = getCurrentAgeCounts('København','3-5')\n",
    "# 100*rnMean(curPerc,7)"
   ]
  },
  {
   "cell_type": "code",
   "execution_count": 34,
   "metadata": {},
   "outputs": [],
   "source": [
    "\n",
    "curDays,curCount,curPerc = getKommuneCount('København')\n",
    "# getKommuneCount('København')\n",
    "# curPerc"
   ]
  },
  {
   "cell_type": "code",
   "execution_count": 35,
   "metadata": {},
   "outputs": [
    {
     "name": "stdout",
     "output_type": "stream",
     "text": [
      "Samsø\n"
     ]
    }
   ],
   "source": [
    "incigdf = curgdf.copy()\n",
    "for curKom in allKoms:\n",
    "        \n",
    "    curDays,curCount,curPerc = getKommuneCount(curKom)\n",
    "\n",
    "    firstDate = np.datetime64('2021-12-01')\n",
    "    # firstDate = np.datetime64('2021-09-01')\n",
    "    curCount = curCount[curDays >= firstDate]\n",
    "    curPerc = curPerc[curDays >= firstDate]\n",
    "    curDays = curDays[curDays >= firstDate]\n",
    "\n",
    "    # curVal = np.cumsum(curPerc)[-1]\n",
    "    curVal = rnMean(curPerc,7)[-1]\n",
    "\n",
    "    # [cmap(x/7) for x in posVals]\n",
    "    curColor = cmap(curVal)\n",
    "\n",
    "\n",
    "    curKomGdf = curKom\n",
    "    if (curKom == 'Aabenraa'):\n",
    "        curKomGdf = 'Åbenrå'\n",
    "    if (curKom == 'Nordfyn'):\n",
    "        curKomGdf = 'Nordfyns'\n",
    "    if (curKom == 'København'):\n",
    "        curKomGdf = 'Københavns'\n",
    "    if (curKom == 'Bornholm'):\n",
    "        curKomGdf = 'Bornholms'\n",
    "    if (curKom == 'Faaborg-Midtfyn'):\n",
    "        curKomGdf = 'Fåborg-Midtfyn'\n",
    "    if (curKom == 'Lyngby-Taarbæk'):\n",
    "        curKomGdf = 'Lyngby-Tårbæk'\n",
    "        \n",
    "    incigdf.loc[incigdf.navn == (curKomGdf+' Kommune'),'TotalIncidence'] = curVal\n",
    "    try: \n",
    "        for curAge in df.Aldersgruppe.unique()[:-1]:\n",
    "            # curVal = getCurrentAgeCumulative(curKom,curAge)\n",
    "            \n",
    "            curDates,curCounts,curPerc = getCurrentAgeCounts(curKom,curAge)\n",
    "            curVal = 100*rnMean(curPerc,7)[-1]\n",
    "            incigdf.loc[incigdf.navn == (curKomGdf+' Kommune'),curAge] = curVal\n",
    "    except:\n",
    "        print(curKom)\n"
   ]
  },
  {
   "cell_type": "code",
   "execution_count": 36,
   "metadata": {},
   "outputs": [
    {
     "data": {
      "text/html": [
       "<div>\n",
       "<style scoped>\n",
       "    .dataframe tbody tr th:only-of-type {\n",
       "        vertical-align: middle;\n",
       "    }\n",
       "\n",
       "    .dataframe tbody tr th {\n",
       "        vertical-align: top;\n",
       "    }\n",
       "\n",
       "    .dataframe thead th {\n",
       "        text-align: right;\n",
       "    }\n",
       "</style>\n",
       "<table border=\"1\" class=\"dataframe\">\n",
       "  <thead>\n",
       "    <tr style=\"text-align: right;\">\n",
       "      <th></th>\n",
       "      <th>objectid</th>\n",
       "      <th>navn</th>\n",
       "      <th>enhedid</th>\n",
       "      <th>fra</th>\n",
       "      <th>til</th>\n",
       "      <th>enhedtype</th>\n",
       "      <th>art</th>\n",
       "      <th>SHAPE_Leng</th>\n",
       "      <th>SHAPE_Area</th>\n",
       "      <th>geometry</th>\n",
       "      <th>...</th>\n",
       "      <th>0-2</th>\n",
       "      <th>3-5</th>\n",
       "      <th>6-11</th>\n",
       "      <th>12-15</th>\n",
       "      <th>16-19</th>\n",
       "      <th>20-39</th>\n",
       "      <th>40-64</th>\n",
       "      <th>65-79</th>\n",
       "      <th>80+</th>\n",
       "      <th>TotalIncidence</th>\n",
       "    </tr>\n",
       "  </thead>\n",
       "  <tbody>\n",
       "    <tr>\n",
       "      <th>0</th>\n",
       "      <td>105388.0</td>\n",
       "      <td>Horsens Kommune</td>\n",
       "      <td>121077.0</td>\n",
       "      <td>2007-01-01</td>\n",
       "      <td>9999-12-31</td>\n",
       "      <td>64.0</td>\n",
       "      <td>Kommune</td>\n",
       "      <td>246469.100007</td>\n",
       "      <td>5.191999e+08</td>\n",
       "      <td>MULTIPOLYGON Z (((585139.647 6187541.974 0.000...</td>\n",
       "      <td>...</td>\n",
       "      <td>0.438795</td>\n",
       "      <td>1.272940</td>\n",
       "      <td>1.384873</td>\n",
       "      <td>1.623593</td>\n",
       "      <td>1.210600</td>\n",
       "      <td>0.934023</td>\n",
       "      <td>0.717868</td>\n",
       "      <td>0.252721</td>\n",
       "      <td>0.084992</td>\n",
       "      <td>0.716465</td>\n",
       "    </tr>\n",
       "    <tr>\n",
       "      <th>1</th>\n",
       "      <td>105384.0</td>\n",
       "      <td>Vejle Kommune</td>\n",
       "      <td>121073.0</td>\n",
       "      <td>2007-01-01</td>\n",
       "      <td>9999-12-31</td>\n",
       "      <td>64.0</td>\n",
       "      <td>Kommune</td>\n",
       "      <td>237518.089342</td>\n",
       "      <td>1.058254e+09</td>\n",
       "      <td>MULTIPOLYGON Z (((544840.271 6163582.786 0.000...</td>\n",
       "      <td>...</td>\n",
       "      <td>0.452423</td>\n",
       "      <td>1.214808</td>\n",
       "      <td>1.666171</td>\n",
       "      <td>2.007383</td>\n",
       "      <td>1.088347</td>\n",
       "      <td>0.873836</td>\n",
       "      <td>0.687121</td>\n",
       "      <td>0.196402</td>\n",
       "      <td>0.128252</td>\n",
       "      <td>0.714694</td>\n",
       "    </tr>\n",
       "    <tr>\n",
       "      <th>2</th>\n",
       "      <td>105385.0</td>\n",
       "      <td>Åbenrå Kommune</td>\n",
       "      <td>121074.0</td>\n",
       "      <td>2007-01-01</td>\n",
       "      <td>9999-12-31</td>\n",
       "      <td>64.0</td>\n",
       "      <td>Kommune</td>\n",
       "      <td>217483.507697</td>\n",
       "      <td>9.407096e+08</td>\n",
       "      <td>MULTIPOLYGON Z (((511855.887 6079619.361 0.000...</td>\n",
       "      <td>...</td>\n",
       "      <td>0.741775</td>\n",
       "      <td>1.424332</td>\n",
       "      <td>1.860321</td>\n",
       "      <td>1.891852</td>\n",
       "      <td>1.232090</td>\n",
       "      <td>0.973134</td>\n",
       "      <td>0.644718</td>\n",
       "      <td>0.194201</td>\n",
       "      <td>0.148588</td>\n",
       "      <td>0.708691</td>\n",
       "    </tr>\n",
       "    <tr>\n",
       "      <th>3</th>\n",
       "      <td>105386.0</td>\n",
       "      <td>Favrskov Kommune</td>\n",
       "      <td>121075.0</td>\n",
       "      <td>2007-01-01</td>\n",
       "      <td>9999-12-31</td>\n",
       "      <td>64.0</td>\n",
       "      <td>Kommune</td>\n",
       "      <td>185712.187147</td>\n",
       "      <td>5.402442e+08</td>\n",
       "      <td>MULTIPOLYGON Z (((548072.263 6238876.656 0.000...</td>\n",
       "      <td>...</td>\n",
       "      <td>0.459121</td>\n",
       "      <td>1.189797</td>\n",
       "      <td>1.556089</td>\n",
       "      <td>1.439797</td>\n",
       "      <td>1.232076</td>\n",
       "      <td>1.088803</td>\n",
       "      <td>0.747076</td>\n",
       "      <td>0.176343</td>\n",
       "      <td>0.157740</td>\n",
       "      <td>0.796362</td>\n",
       "    </tr>\n",
       "    <tr>\n",
       "      <th>4</th>\n",
       "      <td>105387.0</td>\n",
       "      <td>Hedensted Kommune</td>\n",
       "      <td>121076.0</td>\n",
       "      <td>2007-01-01</td>\n",
       "      <td>9999-12-31</td>\n",
       "      <td>64.0</td>\n",
       "      <td>Kommune</td>\n",
       "      <td>201591.999558</td>\n",
       "      <td>5.511563e+08</td>\n",
       "      <td>MULTIPOLYGON Z (((567515.496 6188130.593 0.000...</td>\n",
       "      <td>...</td>\n",
       "      <td>0.403912</td>\n",
       "      <td>1.066385</td>\n",
       "      <td>1.583424</td>\n",
       "      <td>1.422083</td>\n",
       "      <td>1.126777</td>\n",
       "      <td>0.933944</td>\n",
       "      <td>0.604691</td>\n",
       "      <td>0.225738</td>\n",
       "      <td>0.114479</td>\n",
       "      <td>0.681082</td>\n",
       "    </tr>\n",
       "  </tbody>\n",
       "</table>\n",
       "<p>5 rows × 21 columns</p>\n",
       "</div>"
      ],
      "text/plain": [
       "   objectid               navn   enhedid         fra         til  enhedtype  \\\n",
       "0  105388.0    Horsens Kommune  121077.0  2007-01-01  9999-12-31       64.0   \n",
       "1  105384.0      Vejle Kommune  121073.0  2007-01-01  9999-12-31       64.0   \n",
       "2  105385.0     Åbenrå Kommune  121074.0  2007-01-01  9999-12-31       64.0   \n",
       "3  105386.0   Favrskov Kommune  121075.0  2007-01-01  9999-12-31       64.0   \n",
       "4  105387.0  Hedensted Kommune  121076.0  2007-01-01  9999-12-31       64.0   \n",
       "\n",
       "       art     SHAPE_Leng    SHAPE_Area  \\\n",
       "0  Kommune  246469.100007  5.191999e+08   \n",
       "1  Kommune  237518.089342  1.058254e+09   \n",
       "2  Kommune  217483.507697  9.407096e+08   \n",
       "3  Kommune  185712.187147  5.402442e+08   \n",
       "4  Kommune  201591.999558  5.511563e+08   \n",
       "\n",
       "                                            geometry  ...       0-2       3-5  \\\n",
       "0  MULTIPOLYGON Z (((585139.647 6187541.974 0.000...  ...  0.438795  1.272940   \n",
       "1  MULTIPOLYGON Z (((544840.271 6163582.786 0.000...  ...  0.452423  1.214808   \n",
       "2  MULTIPOLYGON Z (((511855.887 6079619.361 0.000...  ...  0.741775  1.424332   \n",
       "3  MULTIPOLYGON Z (((548072.263 6238876.656 0.000...  ...  0.459121  1.189797   \n",
       "4  MULTIPOLYGON Z (((567515.496 6188130.593 0.000...  ...  0.403912  1.066385   \n",
       "\n",
       "       6-11     12-15     16-19     20-39     40-64     65-79       80+  \\\n",
       "0  1.384873  1.623593  1.210600  0.934023  0.717868  0.252721  0.084992   \n",
       "1  1.666171  2.007383  1.088347  0.873836  0.687121  0.196402  0.128252   \n",
       "2  1.860321  1.891852  1.232090  0.973134  0.644718  0.194201  0.148588   \n",
       "3  1.556089  1.439797  1.232076  1.088803  0.747076  0.176343  0.157740   \n",
       "4  1.583424  1.422083  1.126777  0.933944  0.604691  0.225738  0.114479   \n",
       "\n",
       "   TotalIncidence  \n",
       "0        0.716465  \n",
       "1        0.714694  \n",
       "2        0.708691  \n",
       "3        0.796362  \n",
       "4        0.681082  \n",
       "\n",
       "[5 rows x 21 columns]"
      ]
     },
     "execution_count": 36,
     "metadata": {},
     "output_type": "execute_result"
    }
   ],
   "source": [
    "incigdf.head()\n",
    "# curgdf.head()\n",
    "# # curDays,curCount,curPerc = getKommuneCount('Horsens')\n",
    "\n",
    "# # plt.figure()\n",
    "# # plt.plot(rnTime(curDays,7),rnMean(curPerc,7))\n",
    "\n",
    "# curDates,curCounts,curPerc = getCurrentAgeCounts(curKom,curAge)\n",
    "\n",
    "# curVal = 100*rnMean(curPerc,7)[-1]\n",
    "# curVal"
   ]
  },
  {
   "cell_type": "code",
   "execution_count": 37,
   "metadata": {},
   "outputs": [
    {
     "name": "stderr",
     "output_type": "stream",
     "text": [
      "<ipython-input-37-d4cb6b96dd80>:4: FutureWarning: Dropping of nuisance columns in DataFrame reductions (with 'numeric_only=None') is deprecated; in a future version this will raise TypeError.  Select only valid columns before calling the reduction.\n",
      "  incigdf.max()\n"
     ]
    },
    {
     "data": {
      "text/plain": [
       "objectid               105403.0\n",
       "navn                Ærø Kommune\n",
       "enhedid                121104.0\n",
       "fra                  2011-11-27\n",
       "til                  9999-12-31\n",
       "enhedtype                  64.0\n",
       "art                     Kommune\n",
       "SHAPE_Leng        492225.888514\n",
       "SHAPE_Area        1469524168.48\n",
       "TotalImmunity         25.434897\n",
       "0-2                    0.769313\n",
       "3-5                    1.595313\n",
       "6-11                   2.147378\n",
       "12-15                  2.543079\n",
       "16-19                  1.627385\n",
       "20-39                  1.193971\n",
       "40-64                   0.83448\n",
       "65-79                   0.35525\n",
       "80+                    0.339186\n",
       "TotalIncidence         0.922318\n",
       "dtype: object"
      ]
     },
     "execution_count": 37,
     "metadata": {},
     "output_type": "execute_result"
    }
   ],
   "source": [
    "df.Aldersgruppe.unique()[1]\n",
    "df.Aldersgruppe.unique()[1]\n",
    "curAge\n",
    "incigdf.max()"
   ]
  },
  {
   "cell_type": "code",
   "execution_count": null,
   "metadata": {},
   "outputs": [],
   "source": []
  },
  {
   "cell_type": "code",
   "execution_count": 38,
   "metadata": {},
   "outputs": [
    {
     "data": {
      "application/vnd.jupyter.widget-view+json": {
       "model_id": "cd2f8252aa244252a064e1d690c175de",
       "version_major": 2,
       "version_minor": 0
      },
      "text/plain": [
       "Canvas(toolbar=Toolbar(toolitems=[('Home', 'Reset original view', 'home', 'home'), ('Back', 'Back to previous …"
      ]
     },
     "metadata": {},
     "output_type": "display_data"
    }
   ],
   "source": [
    "\n",
    "\n",
    "fig,ax1 = plt.subplots(figsize=(15,15),tight_layout=True) \n",
    "\n",
    "divider = make_axes_locatable(ax1)\n",
    "cax = divider.append_axes(\"left\", size=\"5%\", pad=0.01)\n",
    "\n",
    "fig.patch.set_facecolor('xkcd:off white')\n",
    "ax1.set_facecolor('xkcd:off white')\n",
    "\n",
    "# vmax = np.round(curgdf[curAge].max()/5)*5 + 5\n",
    "# curRangeToShow = np.arange(0,vmax,2.5)\n",
    "vmax = 1\n",
    "curRangeToShow = np.arange(0,vmax,0.05)\n",
    "# cmap = matplotlib.colors.LinearSegmentedColormap.from_list(\"\", [\"xkcd:dark red\",\"k\",\"xkcd:green\"],N=len(curRangeToShow))\n",
    "cmap = matplotlib.colors.LinearSegmentedColormap.from_list(\"\", [\"k\",\"xkcd:blue\", \"xkcd:red\",\"xkcd:dark red\"],N=len(curRangeToShow))\n",
    "incigdf.plot(ax=ax1,column = 'TotalIncidence',cmap=cmap,vmax=vmax,vmin=0,legend=True, cax=cax)\n",
    "\n",
    "\n",
    "# Remove axes\n",
    "ax1.set_xticks([])\n",
    "ax1.set_yticks([])\n",
    "ax1.spines['right'].set_visible(False)\n",
    "ax1.spines['top'].set_visible(False)\n",
    "ax1.spines['left'].set_visible(False)\n",
    "ax1.spines['bottom'].set_visible(False)\n",
    "\n",
    "ax1.set_title(f'Incidens per 100.000 borgere, samlet befolkning')\n",
    "cax.yaxis.set_label_position(\"left\")\n",
    "cax.yaxis.tick_left()\n",
    "textFirstDate = pd.to_datetime(firstDate).strftime('%#d. %B')\n",
    "cax.set_ylabel(f'Incidens per 100.000 borgere, samlet befolkning')\n",
    "\n",
    "fig.savefig(path_figs+f'Maps\\\\Kommune_Incidens_Total')"
   ]
  },
  {
   "cell_type": "code",
   "execution_count": 39,
   "metadata": {},
   "outputs": [
    {
     "data": {
      "application/vnd.jupyter.widget-view+json": {
       "model_id": "4221dcae66d5498ab683f14c0eb1fdc4",
       "version_major": 2,
       "version_minor": 0
      },
      "text/plain": [
       "Canvas(toolbar=Toolbar(toolitems=[('Home', 'Reset original view', 'home', 'home'), ('Back', 'Back to previous …"
      ]
     },
     "metadata": {},
     "output_type": "display_data"
    },
    {
     "data": {
      "application/vnd.jupyter.widget-view+json": {
       "model_id": "a585e19f407d4e48a4005c20d6fe173a",
       "version_major": 2,
       "version_minor": 0
      },
      "text/plain": [
       "Canvas(toolbar=Toolbar(toolitems=[('Home', 'Reset original view', 'home', 'home'), ('Back', 'Back to previous …"
      ]
     },
     "metadata": {},
     "output_type": "display_data"
    },
    {
     "data": {
      "application/vnd.jupyter.widget-view+json": {
       "model_id": "a9b4d1567fa94edc9aa4c35f01a819a7",
       "version_major": 2,
       "version_minor": 0
      },
      "text/plain": [
       "Canvas(toolbar=Toolbar(toolitems=[('Home', 'Reset original view', 'home', 'home'), ('Back', 'Back to previous …"
      ]
     },
     "metadata": {},
     "output_type": "display_data"
    },
    {
     "data": {
      "application/vnd.jupyter.widget-view+json": {
       "model_id": "588824700a554ff98aa78ce5b6c58674",
       "version_major": 2,
       "version_minor": 0
      },
      "text/plain": [
       "Canvas(toolbar=Toolbar(toolitems=[('Home', 'Reset original view', 'home', 'home'), ('Back', 'Back to previous …"
      ]
     },
     "metadata": {},
     "output_type": "display_data"
    },
    {
     "data": {
      "application/vnd.jupyter.widget-view+json": {
       "model_id": "c1adb688adc14f3cb75548999a7b1953",
       "version_major": 2,
       "version_minor": 0
      },
      "text/plain": [
       "Canvas(toolbar=Toolbar(toolitems=[('Home', 'Reset original view', 'home', 'home'), ('Back', 'Back to previous …"
      ]
     },
     "metadata": {},
     "output_type": "display_data"
    },
    {
     "data": {
      "application/vnd.jupyter.widget-view+json": {
       "model_id": "9492f0f974e3476c8c512d4b52949a12",
       "version_major": 2,
       "version_minor": 0
      },
      "text/plain": [
       "Canvas(toolbar=Toolbar(toolitems=[('Home', 'Reset original view', 'home', 'home'), ('Back', 'Back to previous …"
      ]
     },
     "metadata": {},
     "output_type": "display_data"
    },
    {
     "data": {
      "application/vnd.jupyter.widget-view+json": {
       "model_id": "e76df260bb5442d9a66ca4c7f5f78736",
       "version_major": 2,
       "version_minor": 0
      },
      "text/plain": [
       "Canvas(toolbar=Toolbar(toolitems=[('Home', 'Reset original view', 'home', 'home'), ('Back', 'Back to previous …"
      ]
     },
     "metadata": {},
     "output_type": "display_data"
    },
    {
     "data": {
      "application/vnd.jupyter.widget-view+json": {
       "model_id": "1abc075f354642d8aba844c58c78ba90",
       "version_major": 2,
       "version_minor": 0
      },
      "text/plain": [
       "Canvas(toolbar=Toolbar(toolitems=[('Home', 'Reset original view', 'home', 'home'), ('Back', 'Back to previous …"
      ]
     },
     "metadata": {},
     "output_type": "display_data"
    },
    {
     "data": {
      "application/vnd.jupyter.widget-view+json": {
       "model_id": "c3b058924d2e4c8791a4fbdfa8d8a203",
       "version_major": 2,
       "version_minor": 0
      },
      "text/plain": [
       "Canvas(toolbar=Toolbar(toolitems=[('Home', 'Reset original view', 'home', 'home'), ('Back', 'Back to previous …"
      ]
     },
     "metadata": {},
     "output_type": "display_data"
    }
   ],
   "source": [
    "\n",
    "for curAge in df.Aldersgruppe.unique()[:-1]:\n",
    "# for curAge in df.Aldersgruppe.unique()[1:2]:\n",
    "\n",
    "    fig,ax1 = plt.subplots(figsize=(15,15),tight_layout=True) \n",
    "\n",
    "    divider = make_axes_locatable(ax1)\n",
    "    cax = divider.append_axes(\"left\", size=\"5%\", pad=0.01)\n",
    "\n",
    "    fig.patch.set_facecolor('xkcd:off white')\n",
    "    ax1.set_facecolor('xkcd:off white')\n",
    "\n",
    "    # vmax = np.round(curgdf[curAge].max()/5)*5 + 5\n",
    "    # curRangeToShow = np.arange(0,vmax,2.5)\n",
    "    vmax = 2.5\n",
    "    curRangeToShow = np.arange(0,vmax,0.05)\n",
    "    # cmap = matplotlib.colors.LinearSegmentedColormap.from_list(\"\", [\"xkcd:dark red\",\"k\",\"xkcd:green\"],N=len(curRangeToShow))\n",
    "    cmap = matplotlib.colors.LinearSegmentedColormap.from_list(\"\", [\"k\",\"xkcd:blue\", \"xkcd:red\",\"xkcd:dark red\"],N=len(curRangeToShow))\n",
    "    incigdf.plot(ax=ax1,column = curAge,cmap=cmap,vmax=vmax,vmin=0,legend=True, cax=cax)\n",
    "\n",
    "\n",
    "    # Remove axes\n",
    "    ax1.set_xticks([])\n",
    "    ax1.set_yticks([])\n",
    "    ax1.spines['right'].set_visible(False)\n",
    "    ax1.spines['top'].set_visible(False)\n",
    "    ax1.spines['left'].set_visible(False)\n",
    "    ax1.spines['bottom'].set_visible(False)\n",
    "\n",
    "    ax1.set_title(f'Incidens per 100.000 borgere, {curAge} årige')\n",
    "    cax.yaxis.set_label_position(\"left\")\n",
    "    cax.yaxis.tick_left()\n",
    "    textFirstDate = pd.to_datetime(firstDate).strftime('%#d. %B')\n",
    "    cax.set_ylabel(f'Incidens per 100.000 borgere, {curAge} årige')\n",
    "\n",
    "    fig.savefig(path_figs+f'Maps\\\\Kommune_Incidens_{curAge}')"
   ]
  }
 ],
 "metadata": {
  "interpreter": {
   "hash": "c031fd63bd977d199cd6020c30a19695eacbb638d100e0b8a5ea53080ed74a9a"
  },
  "kernelspec": {
   "display_name": "Python 3.8.12 64-bit ('main': conda)",
   "language": "python",
   "name": "python3"
  },
  "language_info": {
   "codemirror_mode": {
    "name": "ipython",
    "version": 3
   },
   "file_extension": ".py",
   "mimetype": "text/x-python",
   "name": "python",
   "nbconvert_exporter": "python",
   "pygments_lexer": "ipython3",
   "version": "3.8.12"
  },
  "orig_nbformat": 4
 },
 "nbformat": 4,
 "nbformat_minor": 2
}
