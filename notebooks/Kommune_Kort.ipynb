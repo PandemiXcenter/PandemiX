{
 "cells": [
  {
   "cell_type": "code",
   "execution_count": 1,
   "metadata": {},
   "outputs": [
    {
     "name": "stdout",
     "output_type": "stream",
     "text": [
      "saveFigures is set to: True\n",
      "Done loading packages\n"
     ]
    }
   ],
   "source": [
    "\n",
    "%matplotlib widget\n",
    "# Load packages and settings\n",
    "import numpy as np\n",
    "import pandas as pd\n",
    "pd.set_option('display.max_rows', 500)\n",
    "pd.set_option('display.min_rows', 50)\n",
    "import seaborn as sns\n",
    "\n",
    "import geopandas as gpd\n",
    "\n",
    "import matplotlib.pyplot as plt\n",
    "\n",
    "plt.rcParams['figure.figsize'] = (12,8)\n",
    "plt.rcParams[\"image.cmap\"] = \"tab10\"\n",
    "plt.rcParams['axes.prop_cycle'] = plt.cycler(color=plt.cm.tab10.colors)\n",
    "fs_label = 16\n",
    "parameters = {\n",
    "                'axes.labelsize': fs_label,\n",
    "                'axes.titlesize': fs_label+4,\n",
    "                'xtick.labelsize': fs_label,\n",
    "                'ytick.labelsize': fs_label, \n",
    "                'legend.fontsize': fs_label, \n",
    "                'lines.markersize': 10,\n",
    "                'lines.linewidth': 3\n",
    "             }\n",
    "plt.rcParams.update(parameters)\n",
    "\n",
    "from matplotlib import cm # Colormaps\n",
    "import matplotlib.colors as colors\n",
    "# cmap = plt.cm.get_cmap('Dark2',len(ageGroups))\n",
    "\n",
    "import locale\n",
    "import matplotlib.dates as mdates\n",
    "locale.setlocale(locale.LC_TIME,\"Danish\")\n",
    "# ax1.xaxis.set_major_formatter(mdates.DateFormatter('%b\\n%Y'))\n",
    "# ax1.spines['top'].set_visible(False) \n",
    "\n",
    "from mpl_toolkits.axes_grid1 import make_axes_locatable\n",
    "\n",
    "import os\n",
    "# import csv\n",
    "import math\n",
    "\n",
    "from datetime import date\n",
    "\n",
    "\n",
    "saveFigures = True\n",
    "# saveFigures = False\n",
    "print('saveFigures is set to: '+str(saveFigures))\n",
    "\n",
    "print('Done loading packages')\n",
    "\n",
    "# Define running mean functions\n",
    "def rnMean(data,meanWidth):\n",
    "    return np.convolve(data, np.ones(meanWidth)/meanWidth, mode='valid')\n",
    "def rnTime(t,meanWidth):\n",
    "    return t[math.floor(meanWidth/2):-math.ceil(meanWidth/2)+1]"
   ]
  },
  {
   "cell_type": "code",
   "execution_count": 2,
   "metadata": {},
   "outputs": [],
   "source": [
    "# Define paths\n",
    "rootdir_data = os.getcwd() +\"\\\\..\\\\DanskeData\\\\\" \n",
    "\n",
    "path_data = rootdir_data + \"ssi_data\\\\\"\n",
    "path_dash = rootdir_data + \"ssi_dashboard\\\\\"\n",
    "path_vacc = rootdir_data + \"ssi_vacc\\\\\"\n",
    "path_figs = os.getcwd() +\"\\\\..\\\\Figures\\\\\" \n",
    "\n",
    "# path_figs = path_figs + \"Immunity_SSI\\\\\""
   ]
  },
  {
   "cell_type": "code",
   "execution_count": 3,
   "metadata": {},
   "outputs": [],
   "source": [
    "gdf = gpd.read_file(rootdir_data+'Kommune\\\\Kommune.shp')\n",
    "\n",
    "# Only use most recent mapdata\n",
    "gdf = gdf[gdf.til == np.max(gdf.til.unique())]"
   ]
  },
  {
   "cell_type": "code",
   "execution_count": 4,
   "metadata": {},
   "outputs": [],
   "source": [
    "df_meas = pd.read_csv('KommuneMeasure.csv')"
   ]
  },
  {
   "cell_type": "code",
   "execution_count": 5,
   "metadata": {},
   "outputs": [
    {
     "data": {
      "text/plain": [
       "array([-1.62826328e-01, -2.65699664e-01, -9.28197125e-02, -2.64315764e-01,\n",
       "        1.38901918e-01,  5.81403971e-02, -2.52696270e-01, -9.48068583e-02,\n",
       "       -1.06863807e-01,  8.08943461e-03, -1.91505472e-01, -5.28512656e-02,\n",
       "       -2.72251868e-01,  5.18893670e-02,  9.33247429e-02, -3.67862825e-01,\n",
       "       -8.31786182e-02, -1.55985711e-01, -2.89115641e-01, -1.01333557e-01,\n",
       "       -1.58670974e-01, -3.85548553e-02,  2.08685258e-01,  2.25193964e-01,\n",
       "       -9.85593679e-02, -1.20772229e-01,  7.76568044e-02, -6.28001165e-03,\n",
       "       -2.80650678e-01, -2.63933170e-01, -3.26257543e-01, -3.39895072e-01,\n",
       "       -1.45530131e-01, -3.60089227e-01, -1.66519457e-01, -1.29404373e-01,\n",
       "       -1.00914450e-01, -7.50196817e-02, -8.52000645e-02, -7.82833952e-02,\n",
       "       -2.42241225e-01,  2.95505484e-02, -4.25142275e-02,  1.01850543e-04,\n",
       "       -2.22134032e-01, -1.92854550e-01,  1.42939199e-01,  1.54210312e-01,\n",
       "        1.45212854e-01, -8.67857260e-03,  7.83407281e-02,  1.36829672e-01,\n",
       "        1.88389554e-01,  3.54619891e-02,  2.09146874e-02,  1.25815678e-02,\n",
       "        1.27630571e-01,  3.33124230e-02,  2.57520021e-01,  2.59167643e-01,\n",
       "        2.34497703e-02, -4.07897531e-01, -7.46163003e-02,  4.41118599e-02,\n",
       "       -7.09393511e-03,  5.41530164e-02, -9.97254850e-02,  1.75298840e-01,\n",
       "        2.46261684e-01,  2.19232980e-01,  8.51507619e-02,  2.64000910e-01,\n",
       "        2.27699703e-01,  1.58107463e-01, -3.18063936e-01, -3.36064248e-01,\n",
       "       -1.30924962e-01,  1.48554318e-01,  4.39887018e-01,  2.40124171e-01,\n",
       "        1.09885219e-01, -3.54933062e-01, -1.79165784e-01,  1.75807947e-01,\n",
       "        1.73791255e-01, -2.94704745e-01, -3.83340661e-02,  3.56543768e-01,\n",
       "        3.82299331e-01, -1.92045599e-01,  6.78198175e-02,  1.86155950e-01,\n",
       "        1.64484176e-01, -1.44735305e-02,  1.63095238e+00,  3.79837306e-01,\n",
       "        9.95970696e-01,  9.71323914e-01])"
      ]
     },
     "execution_count": 5,
     "metadata": {},
     "output_type": "execute_result"
    }
   ],
   "source": [
    "# Test of colorrange\n",
    "posVals = np.arange(-7,8,2)\n",
    "\n",
    "import matplotlib\n",
    "cmap = matplotlib.cm.get_cmap('Spectral')\n",
    "[cmap(x/7) for x in posVals]\n",
    "\n",
    "cmap = matplotlib.cm.get_cmap('Spectral',len(posVals))\n",
    "\n",
    "cmap(7)\n",
    "posVals \n",
    "df_meas.iloc[:,1:].transpose().iloc[:,0].values"
   ]
  },
  {
   "cell_type": "code",
   "execution_count": 6,
   "metadata": {},
   "outputs": [
    {
     "data": {
      "application/vnd.jupyter.widget-view+json": {
       "model_id": "18c76913161945ff96e63b4c24a84a03",
       "version_major": 2,
       "version_minor": 0
      },
      "text/plain": [
       "Canvas(toolbar=Toolbar(toolitems=[('Home', 'Reset original view', 'home', 'home'), ('Back', 'Back to previous …"
      ]
     },
     "metadata": {},
     "output_type": "display_data"
    }
   ],
   "source": [
    "allKoms = df_meas.columns[1:]\n",
    "# [x.split(' Kommun')[0] for x in gdf.navn]\n",
    "\n",
    "fig,ax1 = plt.subplots() \n",
    "# gdf.plot(color='gray',ax=ax1)\n",
    "\n",
    "# for x, y, label in zip(gdf.geometry.centroid.x, gdf.geometry.centroid.y, gdf.navn):\n",
    "#     ax1.annotate(label,xy=(x,y),xytext=(3,3),textcoords=\"offset points\")\n",
    "\n",
    "cmap = matplotlib.cm.get_cmap('seismic')\n",
    "# cmap = matplotlib.cm.get_cmap('seismic')\n",
    "\n",
    "for curKom in allKoms:\n",
    "    # curKom = 'Horsens'\n",
    "\n",
    "        \n",
    "    curVal = df_meas[curKom].values[0]\n",
    "    curVal = (1+df_meas[curKom].values[0])/2\n",
    "    # curVal = (1+2*df_meas[curKom].values[0])/2\n",
    "    # if (curVal >= 0):\n",
    "    #     curColor = [curVal,0.1,0]\n",
    "    # else:\n",
    "    #     curColor = [-curVal/4,-curVal/4,-curVal]\n",
    "    # # curColor = [0.5+curVal/2,0,0.5-curVal/2]\n",
    "\n",
    "    # [cmap(x/7) for x in posVals]\n",
    "    curColor = cmap(curVal)\n",
    "    \n",
    "    if (curKom == 'Aabenraa'):\n",
    "        curKom = 'Åbenrå'\n",
    "    if (curKom == 'Nordfyn'):\n",
    "        curKom = 'Nordfyns'\n",
    "    if (curKom == 'København'):\n",
    "        curKom = 'Københavns'\n",
    "    if (curKom == 'Bornholm'):\n",
    "        curKom = 'Bornholms'\n",
    "    if (curKom == 'Faaborg-Midtfyn'):\n",
    "        curKom = 'Fåborg-Midtfyn'\n",
    "    if (curKom == 'Lyngby-Taarbæk'):\n",
    "        curKom = 'Lyngby-Tårbæk'\n",
    "        \n",
    "\n",
    "    curgdf = gdf[gdf.navn == (curKom+' Kommune')]\n",
    "    curgdf.plot(ax=ax1,color=curColor)\n",
    "\n",
    "# Hand-crafted legend\n",
    "import matplotlib.patches as patches\n",
    "# posVals = np.arange(-7,8,2)\n",
    "posVals = np.arange(-1,1.1,2/7)\n",
    "posValsStr = [str(int(np.round(7*x))) for x in posVals]\n",
    "posValsStr = [\n",
    "    '7 dages vækst',\n",
    "    '6 dages vækst, 1 dags fald',\n",
    "    '5 dages vækst, 2 dages fald',\n",
    "    '4 dages vækst, 3 dages fald',\n",
    "    '3 dages vækst, 4 dages fald',\n",
    "    '2 dages vækst, 5 dages fald',\n",
    "    '1 dags vækst, 6 dages fald',\n",
    "    '7 dages fald',\n",
    "]\n",
    "\n",
    "for i in range(len(posVals)):\n",
    "    curVal = posVals[i]\n",
    "    curVal = 1-(1+posVals[i])/2\n",
    "    curColor = cmap(curVal)\n",
    "    curStr = posValsStr[i]\n",
    "    x0 = 680000\n",
    "    y0 = 6.35e6\n",
    "    wi = 9000\n",
    "    he = 10000\n",
    "    cury = y0-he*i -he*0.5*i\n",
    "    rect = patches.Rectangle((x0,cury),wi,he,linewidth=2,edgecolor='k',facecolor=curColor)\n",
    "    ax1.add_patch(rect)\n",
    "    # ax1.annotate('asdf',xy=(x0,y0))\n",
    "    ax1.text(x0+wi*2,cury,curStr,ha='left')\n",
    "\n",
    "# Remove axes\n",
    "ax1.set_xticks([])\n",
    "ax1.set_yticks([])\n",
    "ax1.spines['right'].set_visible(False)\n",
    "ax1.spines['top'].set_visible(False)\n",
    "ax1.spines['left'].set_visible(False)\n",
    "ax1.spines['bottom'].set_visible(False)\n",
    "\n",
    "ax1.set_title('')\n",
    "\n",
    "if saveFigures:\n",
    "    fig.savefig(path_figs+'/Maps/KommuneUdvikling')\n",
    "    curDate = np.datetime64('today')\n",
    "    fig.savefig(path_figs+f'/Maps/KommuneUdvikling_{curDate}')\n",
    "\n",
    "# ax1.set_xlim([690000,750000])\n",
    "# ax1.set_ylim([6.16e6,6.195e6])\n",
    "\n",
    "\n",
    "# for i in range(len(posVals)):\n",
    "#     curVal = posVals[i]\n",
    "#     curVal = 1-(1+posVals[i])/2\n",
    "#     curColor = cmap(curVal)\n",
    "#     curStr = posValsStr[i]\n",
    "#     x0 = 735000\n",
    "#     y0 = 6.18e6\n",
    "#     wi = 9000/4\n",
    "#     he = 10000/6\n",
    "#     cury = y0-he*i -he*0.5*i\n",
    "#     rect = patches.Rectangle((x0,cury),wi,he,linewidth=2,edgecolor='k',facecolor=curColor)\n",
    "#     ax1.add_patch(rect)\n",
    "#     # ax1.annotate('asdf',xy=(x0,y0))\n",
    "#     ax1.text(x0+wi*2,cury,curStr,ha='left')\n",
    "\n",
    "# if saveFigures:\n",
    "#     fig.savefig(path_figs+'/Maps/KommuneUdvikling_Hovedstaden')"
   ]
  },
  {
   "cell_type": "code",
   "execution_count": 7,
   "metadata": {},
   "outputs": [
    {
     "data": {
      "text/plain": [
       "array(['Aabenraa', 'Aalborg', 'Albertslund', 'Allerød', 'Assens',\n",
       "       'Ballerup', 'Billund', 'Bornholm', 'Brøndby', 'Brønderslev',\n",
       "       'Dragør', 'Egedal', 'Esbjerg', 'Faaborg-Midtfyn', 'Fanø',\n",
       "       'Favrskov', 'Faxe', 'Fredensborg', 'Fredericia', 'Frederiksberg',\n",
       "       'Frederikshavn', 'Frederikssund', 'Furesø', 'Gentofte', 'Gladsaxe',\n",
       "       'Glostrup', 'Greve', 'Gribskov', 'Guldborgsund', 'Haderslev',\n",
       "       'Halsnæs', 'Hedensted', 'Helsingør', 'Herlev', 'Herning',\n",
       "       'Hillerød', 'Hjørring', 'Holbæk', 'Holstebro', 'Horsens',\n",
       "       'Hvidovre', 'Høje Tåstrup', 'Hørsholm', 'Ikast-Brande', 'Ishøj',\n",
       "       'Jammerbugt', 'Kalundborg', 'Kerteminde', 'Kolding', 'København',\n",
       "       'Køge', 'Langeland', 'Lejre', 'Lemvig', 'Lolland',\n",
       "       'Lyngby-Taarbæk', 'Læsø', 'Mariagerfjord', 'Middelfart', 'Morsø',\n",
       "       'Norddjurs', 'Nordfyn', 'Nyborg', 'Næstved', 'Odder', 'Odense',\n",
       "       'Odsherred', 'Randers', 'Rebild', 'Ringkøbing-Skjern', 'Ringsted',\n",
       "       'Roskilde', 'Rudersdal', 'Rødovre', 'Samsø', 'Silkeborg',\n",
       "       'Skanderborg', 'Skive', 'Slagelse', 'Solrød', 'Sorø', 'Stevns',\n",
       "       'Struer', 'Svendborg', 'Syddjurs', 'Sønderborg', 'Thisted',\n",
       "       'Tårnby', 'Tønder', 'Vallensbæk', 'Varde', 'Vejen', 'Vejle',\n",
       "       'Vesthimmerland', 'Viborg', 'Vordingborg', 'Århus', 'Ærø'],\n",
       "      dtype=object)"
      ]
     },
     "execution_count": 7,
     "metadata": {},
     "output_type": "execute_result"
    }
   ],
   "source": [
    "np.sort(allKoms)"
   ]
  },
  {
   "cell_type": "markdown",
   "metadata": {},
   "source": [
    "# Make a new figure, but with explanations\n",
    "First, method from Kommune_Progression is repeated"
   ]
  },
  {
   "cell_type": "code",
   "execution_count": 8,
   "metadata": {},
   "outputs": [],
   "source": [
    "\n",
    "# Walk to relavant folder\n",
    "latestsubdir = list(os.walk(path_dash))[0][1][-1]\n",
    "latestdir = path_dash + latestsubdir\n",
    "df_07 = pd.read_csv(latestdir+'/Kommunalt_DB/07_bekraeftede_tilfaelde_pr_dag_pr_kommune.csv',encoding='latin1',delimiter = ';')\n",
    "\n",
    "df_07['Dato'] = pd.to_datetime(df_07['Dato'])"
   ]
  },
  {
   "cell_type": "code",
   "execution_count": 9,
   "metadata": {},
   "outputs": [],
   "source": [
    "def getKommuneCount(curKommune):\n",
    "    kommune_df = df_07.loc[df_07[\"Kommunenavn\"] == curKommune]\n",
    "    \n",
    "    # Cut out last data point\n",
    "    kommune_df = kommune_df.iloc[:-1,:]\n",
    "    # firstDate = np.datetime64(kommune_df.loc[kommune_df.index[0],'Dato'])-np.timedelta64(1,'D')\n",
    "    # firstDate = np.datetime64('2021-11-01')\n",
    "    # lastDate = np.datetime64(kommune_df.loc[kommune_df.index[-1],'Dato'])\n",
    "    # Find number of citizens in region\n",
    "    latestsubdir = list(os.walk(path_dash))[0][1][-1]\n",
    "    latestdir = path_dash + latestsubdir\n",
    "    df_kommunekort = pd.read_csv(latestdir+'/Kommunalt_DB/10_Kommune_kort.csv',encoding='latin1',\n",
    "                                 delimiter = ';')\n",
    "    df_kommunekort = df_kommunekort.set_index(\"Kommunenavn\")\n",
    "\n",
    "    # kommune_nr = kommune_df.Kommune.iloc[0]\n",
    "    # kommune_df['Procent andel smittede'] = (kommune_df['Bekræftede tilfælde']/antal_borgere(curKommune))*100\n",
    "\n",
    "    curDays = kommune_df['Dato'].values\n",
    "    antal_borgere = df_kommunekort[\"Antal borgere\"][curKommune]\n",
    "    curPerc = ((kommune_df['Bekræftede tilfælde']/antal_borgere)*100).values\n",
    "    curCount = kommune_df['Bekræftede tilfælde'].values \n",
    "    \n",
    "    indexToUse = curDays <= (np.datetime64(latestsubdir[-10:])-np.timedelta64(2,'D'))\n",
    "    curCount = curCount[indexToUse]\n",
    "    curPerc = curPerc[indexToUse]\n",
    "    curDays = curDays[indexToUse]\n",
    "\n",
    "    return curDays,curCount,curPerc\n"
   ]
  },
  {
   "cell_type": "code",
   "execution_count": 10,
   "metadata": {},
   "outputs": [
    {
     "data": {
      "application/vnd.jupyter.widget-view+json": {
       "model_id": "9cca463e0c104d9e827921fab54fd9e8",
       "version_major": 2,
       "version_minor": 0
      },
      "text/plain": [
       "Canvas(toolbar=Toolbar(toolitems=[('Home', 'Reset original view', 'home', 'home'), ('Back', 'Back to previous …"
      ]
     },
     "metadata": {},
     "output_type": "display_data"
    }
   ],
   "source": [
    "def makeSmallPlot(ax1,curKommuneNavn):\n",
    "    curDays,curCount,curPerc = getKommuneCount(curKommuneNavn)\n",
    "    firstDateToShow = np.datetime64('today') - np.timedelta64(20,'D')\n",
    "    firstIndex = np.where(curDays == firstDateToShow)[0][0]\n",
    "    ax1.plot(curDays[firstIndex:],curCount[firstIndex:],'k*:',linewidth=1,label='Data')\n",
    "    # ax1.plot(rnTime(curDays[firstIndex-4:],7),rnMean(curCount[firstIndex-4:],7),'k',linewidth=3,label='7-dages gennemsnit')\n",
    "\n",
    "    i = 0\n",
    "\n",
    "    NotYetShown_down = True\n",
    "    NotYetShown_up = True\n",
    "\n",
    "    for i in range(0,8):\n",
    "\n",
    "        curD1 = curDays[-7-1-i]\n",
    "        curD2 = curDays[-1-i]\n",
    "        curY1 = curCount[-7-1-i]\n",
    "        curY2 = curCount[-1-i]\n",
    "\n",
    "        dY = curY2-curY1\n",
    "\n",
    "        if (dY >= 0):\n",
    "            curColor = 'r'\n",
    "            curLabel = NotYetShown_up * 'Vækst'\n",
    "            ax1.plot([curD1,curD2],[curY1,curY2],color=curColor,label=curLabel)\n",
    "\n",
    "            NotYetShown_up = False \n",
    "        else:\n",
    "            curColor = 'b'\n",
    "            curLabel = NotYetShown_down * 'Fald'\n",
    "            ax1.plot([curD1,curD2],[curY1,curY2],color=curColor,label=curLabel)\n",
    "            NotYetShown_down = False\n",
    "\n",
    "\n",
    "        # ax1.plot([curDays[-7-1-i],curDays[-1-i]],[curCount[-1-7-i],curCount[-1-i]])\n",
    "\n",
    "        # ax1.set_ylim(bottom=0)\n",
    "\n",
    "    ax1.set_xlim(left=firstDateToShow)\n",
    "    # Draw weekends\n",
    "    firstSunday = np.datetime64('2021-10-03')\n",
    "    numWeeks = 52\n",
    "    for k in range(-numWeeks,numWeeks):\n",
    "            curSunday = firstSunday + np.timedelta64(7*k,'D')\n",
    "            ax1.axvspan(curSunday-np.timedelta64(1,'D')-np.timedelta64(12,'h'),curSunday+np.timedelta64(12,'h'),zorder=-1,facecolor='lightgrey',label=int(k==0)*'Weekend')\n",
    "    # ax1.grid(axis='y')\n",
    "\n",
    "    ax1.plot(curDays[firstIndex:],curCount[firstIndex:],'k*:',linewidth=1)\n",
    "\n",
    "    ax1.legend(loc='upper left')\n",
    "\n",
    "    ax1.set_ylabel('Antal smittetilfælde')\n",
    "    ax1.spines['top'].set_visible(False)\n",
    "    ax1.spines['right'].set_visible(False)\n",
    "    ax1.spines['left'].set_visible(False)\n",
    "    ax1.spines['bottom'].set_visible(False)\n",
    "    ax1.xaxis.set_major_formatter(mdates.DateFormatter('%d\\n%b'))\n",
    "    ax1.set_title(curKommuneNavn)\n",
    "\n",
    "\n",
    "fig,ax1 = plt.subplots()\n",
    "\n",
    "curKommuneNavn = 'København'\n",
    "makeSmallPlot(ax1,curKommuneNavn)\n",
    "\n",
    "fig.savefig(path_figs+'Maps/MeasureExample')"
   ]
  },
  {
   "cell_type": "code",
   "execution_count": 11,
   "metadata": {},
   "outputs": [
    {
     "data": {
      "application/vnd.jupyter.widget-view+json": {
       "model_id": "e3d7db0c375a4771ad59dae26d3c6eff",
       "version_major": 2,
       "version_minor": 0
      },
      "text/plain": [
       "Canvas(toolbar=Toolbar(toolitems=[('Home', 'Reset original view', 'home', 'home'), ('Back', 'Back to previous …"
      ]
     },
     "metadata": {},
     "output_type": "display_data"
    }
   ],
   "source": [
    "def makeSmallPlotSmall(ax1,curKommuneNavn):\n",
    "    curDays,curCount,curPerc = getKommuneCount(curKommuneNavn)\n",
    "    firstDateToShow = np.datetime64('today') - np.timedelta64(20,'D')\n",
    "    firstIndex = np.where(curDays == firstDateToShow)[0][0]\n",
    "    ax1.plot(curDays[firstIndex:],curCount[firstIndex:],'k*:',linewidth=1,markersize=2,label='Data')\n",
    "    # ax1.plot(rnTime(curDays[firstIndex-4:],7),rnMean(curCount[firstIndex-4:],7),'k',linewidth=3,label='7-dages gennemsnit')\n",
    "\n",
    "    i = 0\n",
    "\n",
    "    NotYetShown_down = True\n",
    "    NotYetShown_up = True\n",
    "\n",
    "    for i in range(0,8):\n",
    "\n",
    "        curD1 = curDays[-7-1-i]\n",
    "        curD2 = curDays[-1-i]\n",
    "        curY1 = curCount[-7-1-i]\n",
    "        curY2 = curCount[-1-i]\n",
    "\n",
    "        dY = curY2-curY1\n",
    "\n",
    "        if (dY >= 0):\n",
    "            curColor = 'r'\n",
    "            curLabel = NotYetShown_up * 'Vækst'\n",
    "            ax1.plot([curD1,curD2],[curY1,curY2],linewidth=2,color=curColor,label=curLabel)\n",
    "\n",
    "            NotYetShown_up = False \n",
    "        else:\n",
    "            curColor = 'b'\n",
    "            curLabel = NotYetShown_down * 'Fald'\n",
    "            ax1.plot([curD1,curD2],[curY1,curY2],linewidth=2,color=curColor,label=curLabel)\n",
    "            NotYetShown_down = False\n",
    "\n",
    "\n",
    "        # ax1.plot([curDays[-7-1-i],curDays[-1-i]],[curCount[-1-7-i],curCount[-1-i]])\n",
    "\n",
    "        # ax1.set_ylim(bottom=0)\n",
    "\n",
    "    ax1.set_xlim(left=firstDateToShow)\n",
    "    # Draw weekends\n",
    "    firstSunday = np.datetime64('2021-10-03')\n",
    "    numWeeks = 52\n",
    "    for k in range(-numWeeks,numWeeks):\n",
    "            curSunday = firstSunday + np.timedelta64(7*k,'D')\n",
    "            ax1.axvspan(curSunday-np.timedelta64(1,'D')-np.timedelta64(12,'h'),curSunday+np.timedelta64(12,'h'),zorder=-1,facecolor='lightgrey',label=int(k==0)*'Weekend')\n",
    "    # ax1.grid(axis='y')\n",
    "\n",
    "    ax1.plot(curDays[firstIndex:],curCount[firstIndex:],'k*:',linewidth=1,markersize=6)\n",
    "\n",
    "    # ax1.legend(loc='upper left',fontsize=6)\n",
    "\n",
    "    # ax1.set_ylabel('Antal smittetilfælde')\n",
    "    ax1.spines['top'].set_visible(False)\n",
    "    ax1.spines['right'].set_visible(False)\n",
    "    ax1.spines['left'].set_visible(False)\n",
    "    ax1.spines['bottom'].set_visible(False)\n",
    "    ax1.xaxis.set_major_formatter(mdates.DateFormatter('%d\\n%b'))\n",
    "\n",
    "    textFontSize= 6\n",
    "    ax1.set_title(curKommuneNavn,fontsize=textFontSize+4)\n",
    "    ax1.tick_params(axis='both', which='major', labelsize=textFontSize)\n",
    "    ax1.tick_params(axis='both', which='minor', labelsize=textFontSize)\n",
    "    # ax1.set_xticklabels(ax1.get_xticklabels(),fontsize=6)\n",
    "\n",
    "    curYlim = ax1.get_ylim()\n",
    "    ax1.set_ylim([curYlim[0]*0.8,curYlim[1]*1.2])\n",
    "\n",
    "\n",
    "fig,ax1 = plt.subplots()\n",
    "\n",
    "curKommuneNavn = 'København'\n",
    "makeSmallPlotSmall(ax1,curKommuneNavn)\n"
   ]
  },
  {
   "cell_type": "code",
   "execution_count": null,
   "metadata": {},
   "outputs": [],
   "source": []
  },
  {
   "cell_type": "code",
   "execution_count": 12,
   "metadata": {},
   "outputs": [
    {
     "data": {
      "application/vnd.jupyter.widget-view+json": {
       "model_id": "c99681f7cf684bc1bf6af22f744cdd04",
       "version_major": 2,
       "version_minor": 0
      },
      "text/plain": [
       "Canvas(toolbar=Toolbar(toolitems=[('Home', 'Reset original view', 'home', 'home'), ('Back', 'Back to previous …"
      ]
     },
     "metadata": {},
     "output_type": "display_data"
    },
    {
     "name": "stderr",
     "output_type": "stream",
     "text": [
      "C:\\ProgramData\\Anaconda3\\envs\\main\\lib\\site-packages\\numpy\\core\\shape_base.py:65: VisibleDeprecationWarning: Creating an ndarray from ragged nested sequences (which is a list-or-tuple of lists-or-tuples-or ndarrays with different lengths or shapes) is deprecated. If you meant to do this, you must specify 'dtype=object' when creating the ndarray.\n",
      "  ary = asanyarray(ary)\n",
      "C:\\ProgramData\\Anaconda3\\envs\\main\\lib\\site-packages\\numpy\\core\\shape_base.py:65: VisibleDeprecationWarning: Creating an ndarray from ragged nested sequences (which is a list-or-tuple of lists-or-tuples-or ndarrays with different lengths or shapes) is deprecated. If you meant to do this, you must specify 'dtype=object' when creating the ndarray.\n",
      "  ary = asanyarray(ary)\n",
      "C:\\ProgramData\\Anaconda3\\envs\\main\\lib\\site-packages\\numpy\\core\\shape_base.py:65: VisibleDeprecationWarning: Creating an ndarray from ragged nested sequences (which is a list-or-tuple of lists-or-tuples-or ndarrays with different lengths or shapes) is deprecated. If you meant to do this, you must specify 'dtype=object' when creating the ndarray.\n",
      "  ary = asanyarray(ary)\n",
      "C:\\ProgramData\\Anaconda3\\envs\\main\\lib\\site-packages\\numpy\\core\\shape_base.py:65: VisibleDeprecationWarning: Creating an ndarray from ragged nested sequences (which is a list-or-tuple of lists-or-tuples-or ndarrays with different lengths or shapes) is deprecated. If you meant to do this, you must specify 'dtype=object' when creating the ndarray.\n",
      "  ary = asanyarray(ary)\n",
      "C:\\ProgramData\\Anaconda3\\envs\\main\\lib\\site-packages\\numpy\\core\\shape_base.py:65: VisibleDeprecationWarning: Creating an ndarray from ragged nested sequences (which is a list-or-tuple of lists-or-tuples-or ndarrays with different lengths or shapes) is deprecated. If you meant to do this, you must specify 'dtype=object' when creating the ndarray.\n",
      "  ary = asanyarray(ary)\n",
      "C:\\ProgramData\\Anaconda3\\envs\\main\\lib\\site-packages\\numpy\\core\\shape_base.py:65: VisibleDeprecationWarning: Creating an ndarray from ragged nested sequences (which is a list-or-tuple of lists-or-tuples-or ndarrays with different lengths or shapes) is deprecated. If you meant to do this, you must specify 'dtype=object' when creating the ndarray.\n",
      "  ary = asanyarray(ary)\n"
     ]
    }
   ],
   "source": [
    "from mpl_toolkits.axes_grid1.inset_locator import inset_axes\n",
    "\n",
    "allKoms = df_meas.columns[1:]\n",
    "# [x.split(' Kommun')[0] for x in gdf.navn]\n",
    "\n",
    "fig,ax1 = plt.subplots(figsize=(15,15)) \n",
    "# gdf.plot(color='gray',ax=ax1)\n",
    "\n",
    "# for x, y, label in zip(gdf.geometry.centroid.x, gdf.geometry.centroid.y, gdf.navn):\n",
    "#     ax1.annotate(label,xy=(x,y),xytext=(3,3),textcoords=\"offset points\")\n",
    "\n",
    "cmap = matplotlib.cm.get_cmap('seismic')\n",
    "\n",
    "for curKom in allKoms:\n",
    "    # curKom = 'Horsens'\n",
    "\n",
    "        \n",
    "    curVal = df_meas[curKom].values[0]\n",
    "    curVal = (1+df_meas[curKom].values[0])/2\n",
    "    # if (curVal >= 0):\n",
    "    #     curColor = [curVal,0.1,0]\n",
    "    # else:\n",
    "    #     curColor = [-curVal/4,-curVal/4,-curVal]\n",
    "    # # curColor = [0.5+curVal/2,0,0.5-curVal/2]\n",
    "\n",
    "    # [cmap(x/7) for x in posVals]\n",
    "    curColor = cmap(curVal)\n",
    "    \n",
    "    if (curKom == 'Aabenraa'):\n",
    "        curKom = 'Åbenrå'\n",
    "    if (curKom == 'Nordfyn'):\n",
    "        curKom = 'Nordfyns'\n",
    "    if (curKom == 'København'):\n",
    "        curKom = 'Københavns'\n",
    "    if (curKom == 'Bornholm'):\n",
    "        curKom = 'Bornholms'\n",
    "    if (curKom == 'Faaborg-Midtfyn'):\n",
    "        curKom = 'Fåborg-Midtfyn'\n",
    "    if (curKom == 'Lyngby-Taarbæk'):\n",
    "        curKom = 'Lyngby-Tårbæk'\n",
    "        \n",
    "\n",
    "    curgdf = gdf[gdf.navn == (curKom+' Kommune')]\n",
    "    curgdf.plot(ax=ax1,color=curColor)\n",
    "\n",
    "# Hand-crafted legend\n",
    "import matplotlib.patches as patches\n",
    "# posVals = np.arange(-7,8,2)\n",
    "posVals = np.arange(-1,1.1,2/7)\n",
    "posValsStr = [str(int(np.round(7*x))) for x in posVals]\n",
    "posValsStr = [\n",
    "    '7 dages vækst',\n",
    "    '6 dages vækst, 1 dags fald',\n",
    "    '5 dages vækst, 2 dages fald',\n",
    "    '4 dages vækst, 3 dages fald',\n",
    "    '3 dages vækst, 4 dages fald',\n",
    "    '2 dages vækst, 5 dages fald',\n",
    "    '1 dags vækst, 6 dages fald',\n",
    "    '7 dages fald',\n",
    "]\n",
    "\n",
    "for i in range(len(posVals)):\n",
    "    curVal = posVals[i]\n",
    "    curVal = 1-(1+posVals[i])/2\n",
    "    curColor = cmap(curVal)\n",
    "    curStr = posValsStr[i]\n",
    "    # x0 = 680000\n",
    "    # y0 = 6.35e6\n",
    "    x0 = 630000\n",
    "    y0 = 6.4e6\n",
    "    wi = 9000\n",
    "    he = 10000\n",
    "    cury = y0-he*i -he*0.5*i\n",
    "    rect = patches.Rectangle((x0,cury),wi,he,linewidth=2,edgecolor='k',facecolor=curColor)\n",
    "    ax1.add_patch(rect)\n",
    "    # ax1.annotate('asdf',xy=(x0,y0))\n",
    "    ax1.text(x0+wi*2,cury,curStr,ha='left')\n",
    "\n",
    "# Remove axes\n",
    "ax1.set_xticks([])\n",
    "ax1.set_yticks([])\n",
    "ax1.spines['right'].set_visible(False)\n",
    "ax1.spines['top'].set_visible(False)\n",
    "ax1.spines['left'].set_visible(False)\n",
    "ax1.spines['bottom'].set_visible(False)\n",
    "\n",
    "# Make inset plots with description\n",
    "insetW = 50000\n",
    "insetH = 0.07e6\n",
    "\n",
    "curKom = 'Albertslund'\n",
    "curx0 = 750000\n",
    "cury0 = 6.2e6\n",
    "                #    bbox_to_anchor=(680000,6.35e6,685000,6.5e6),\n",
    "axins = inset_axes(ax1, width=2, height=1,\n",
    "                   bbox_to_anchor=(curx0,cury0,curx0+insetW,cury0+insetH),\n",
    "                   bbox_transform=ax1.transData, loc=3)\n",
    "makeSmallPlotSmall(axins,curKom)\n",
    "bbox = dict(boxstyle=\"round\", ec=\"white\", fc=\"white\", alpha=1)\n",
    "plt.setp(axins.get_xticklabels(), bbox=bbox)\n",
    "plt.setp(axins.get_yticklabels(), bbox=bbox)\n",
    "curgdf = gdf[gdf.navn == (curKom+' Kommune')]\n",
    "ax1.plot([curx0 + insetW/2,curgdf.geometry.centroid.x ],[cury0 + insetH / 2, curgdf.geometry.centroid.y ],'k')\n",
    "\n",
    "\n",
    "curKom = 'København'\n",
    "curx0 = 750000\n",
    "cury0 = 6.1e6\n",
    "                #    bbox_to_anchor=(680000,6.35e6,685000,6.5e6),\n",
    "axins = inset_axes(ax1, width=2, height=1,\n",
    "                   bbox_to_anchor=(curx0,cury0,curx0+insetW,cury0+insetH),\n",
    "                   bbox_transform=ax1.transData, loc=3)\n",
    "makeSmallPlotSmall(axins,curKom)\n",
    "bbox = dict(boxstyle=\"round\", ec=\"white\", fc=\"white\", alpha=1)\n",
    "plt.setp(axins.get_xticklabels(), bbox=bbox)\n",
    "plt.setp(axins.get_yticklabels(), bbox=bbox)\n",
    "curgdf = gdf[gdf.navn == (curKom+'s Kommune')]\n",
    "ax1.plot([curx0 + insetW/2,curgdf.geometry.centroid.x ],[cury0 + insetH / 2, curgdf.geometry.centroid.y ],'k')\n",
    "\n",
    "\n",
    "curKom = 'Guldborgsund'\n",
    "curx0 = 730000\n",
    "cury0 = 6e6\n",
    "                #    bbox_to_anchor=(680000,6.35e6,685000,6.5e6),\n",
    "axins = inset_axes(ax1, width=2, height=1,\n",
    "                   bbox_to_anchor=(curx0,cury0,curx0+insetW,cury0+insetH),\n",
    "                   bbox_transform=ax1.transData, loc=3)\n",
    "makeSmallPlotSmall(axins,curKom)\n",
    "bbox = dict(boxstyle=\"round\", ec=\"white\", fc=\"white\", alpha=1)\n",
    "plt.setp(axins.get_xticklabels(), bbox=bbox)\n",
    "plt.setp(axins.get_yticklabels(), bbox=bbox)\n",
    "curgdf = gdf[gdf.navn == (curKom+' Kommune')]\n",
    "ax1.plot([curx0 + insetW/2,curgdf.geometry.centroid.x ],[cury0 + insetH / 2, curgdf.geometry.centroid.y ],'k')\n",
    "\n",
    "curKom = 'Aalborg'\n",
    "curx0 = 420000\n",
    "cury0 = 6.35e6\n",
    "                #    bbox_to_anchor=(680000,6.35e6,685000,6.5e6),\n",
    "axins = inset_axes(ax1, width=2, height=1,\n",
    "                   bbox_to_anchor=(curx0,cury0,curx0+insetW,cury0+insetH),\n",
    "                   bbox_transform=ax1.transData, loc=3)\n",
    "# axins.set_facecolor('xkcd:off white')\n",
    "makeSmallPlotSmall(axins,curKom)\n",
    "bbox = dict(boxstyle=\"round\", ec=\"white\", fc=\"white\", alpha=1)\n",
    "plt.setp(axins.get_xticklabels(), bbox=bbox)\n",
    "plt.setp(axins.get_yticklabels(), bbox=bbox)\n",
    "# bbox = dict(boxstyle=\"round\", ec=\"white\", fc=\"white\", alpha=1)\n",
    "# plt.setp(axins.get_yticklabels(), bbox=bbox)\n",
    "curgdf = gdf[gdf.navn == (curKom+' Kommune')]\n",
    "ax1.plot([curx0 + insetW/2,curgdf.geometry.centroid.x ],[cury0 + insetH / 2, curgdf.geometry.centroid.y ],'k')\n",
    "\n",
    "\n",
    "\n",
    "curKom = 'Vejle'\n",
    "curx0 = 330000\n",
    "cury0 = 6.23e6\n",
    "                #    bbox_to_anchor=(680000,6.35e6,685000,6.5e6),\n",
    "axins = inset_axes(ax1, width=2, height=1,\n",
    "                   bbox_to_anchor=(curx0,cury0,curx0+insetW,cury0+insetH),\n",
    "                   bbox_transform=ax1.transData, loc=3)\n",
    "# axins.set_facecolor('xkcd:off white')\n",
    "makeSmallPlotSmall(axins,curKom)\n",
    "bbox = dict(boxstyle=\"round\", ec=\"white\", fc=\"white\", alpha=1)\n",
    "plt.setp(axins.get_xticklabels(), bbox=bbox)\n",
    "plt.setp(axins.get_yticklabels(), bbox=bbox)\n",
    "# bbox = dict(boxstyle=\"round\", ec=\"white\", fc=\"white\", alpha=1)\n",
    "# plt.setp(axins.get_yticklabels(), bbox=bbox)\n",
    "curgdf = gdf[gdf.navn == (curKom+' Kommune')]\n",
    "ax1.plot([curx0 + insetW/2,curgdf.geometry.centroid.x ],[cury0 + insetH / 2, curgdf.geometry.centroid.y ],'k')\n",
    "\n",
    "\n",
    "curKom = 'Kolding'\n",
    "curx0 = 330000\n",
    "cury0 = 6.1e6\n",
    "                #    bbox_to_anchor=(680000,6.35e6,685000,6.5e6),\n",
    "axins = inset_axes(ax1, width=2, height=1,\n",
    "                   bbox_to_anchor=(curx0,cury0,curx0+insetW,cury0+insetH),\n",
    "                   bbox_transform=ax1.transData, loc=3)\n",
    "# axins.set_facecolor('xkcd:off white')\n",
    "makeSmallPlotSmall(axins,curKom)\n",
    "bbox = dict(boxstyle=\"round\", ec=\"white\", fc=\"white\", alpha=1)\n",
    "plt.setp(axins.get_xticklabels(), bbox=bbox)\n",
    "plt.setp(axins.get_yticklabels(), bbox=bbox)\n",
    "# bbox = dict(boxstyle=\"round\", ec=\"white\", fc=\"white\", alpha=1)\n",
    "# plt.setp(axins.get_yticklabels(), bbox=bbox)\n",
    "curgdf = gdf[gdf.navn == (curKom+' Kommune')]\n",
    "ax1.plot([curx0 + insetW/2,curgdf.geometry.centroid.x ],[cury0 + insetH / 2, curgdf.geometry.centroid.y ],'k')\n",
    "\n",
    "\n",
    "fig.patch.set_facecolor('xkcd:off white')\n",
    "ax1.set_facecolor('xkcd:off white')\n",
    "ax1.set_xlim(left=350000)\n",
    "\n",
    "if saveFigures:\n",
    "    fig.savefig(path_figs+'/Maps/KommuneUdvikling_Forklaring')\n"
   ]
  },
  {
   "cell_type": "code",
   "execution_count": 13,
   "metadata": {},
   "outputs": [
    {
     "data": {
      "text/plain": [
       "158    MULTIPOLYGON Z (((518024.649 6137991.125 0.000...\n",
       "Name: geometry, dtype: geometry"
      ]
     },
     "execution_count": 13,
     "metadata": {},
     "output_type": "execute_result"
    }
   ],
   "source": [
    "curgdf.geometry"
   ]
  },
  {
   "cell_type": "markdown",
   "metadata": {},
   "source": [
    "# Map of local immunity"
   ]
  },
  {
   "cell_type": "code",
   "execution_count": 14,
   "metadata": {},
   "outputs": [
    {
     "data": {
      "text/html": [
       "<div>\n",
       "<style scoped>\n",
       "    .dataframe tbody tr th:only-of-type {\n",
       "        vertical-align: middle;\n",
       "    }\n",
       "\n",
       "    .dataframe tbody tr th {\n",
       "        vertical-align: top;\n",
       "    }\n",
       "\n",
       "    .dataframe thead th {\n",
       "        text-align: right;\n",
       "    }\n",
       "</style>\n",
       "<table border=\"1\" class=\"dataframe\">\n",
       "  <thead>\n",
       "    <tr style=\"text-align: right;\">\n",
       "      <th></th>\n",
       "      <th>objectid</th>\n",
       "      <th>navn</th>\n",
       "      <th>enhedid</th>\n",
       "      <th>fra</th>\n",
       "      <th>til</th>\n",
       "      <th>enhedtype</th>\n",
       "      <th>art</th>\n",
       "      <th>SHAPE_Leng</th>\n",
       "      <th>SHAPE_Area</th>\n",
       "      <th>geometry</th>\n",
       "      <th>TotalImmunity</th>\n",
       "    </tr>\n",
       "  </thead>\n",
       "  <tbody>\n",
       "    <tr>\n",
       "      <th>0</th>\n",
       "      <td>105388.0</td>\n",
       "      <td>Horsens Kommune</td>\n",
       "      <td>121077.0</td>\n",
       "      <td>2007-01-01</td>\n",
       "      <td>9999-12-31</td>\n",
       "      <td>64.0</td>\n",
       "      <td>Kommune</td>\n",
       "      <td>246469.100007</td>\n",
       "      <td>5.191999e+08</td>\n",
       "      <td>MULTIPOLYGON Z (((585139.647 6187541.974 0.000...</td>\n",
       "      <td>0.0</td>\n",
       "    </tr>\n",
       "    <tr>\n",
       "      <th>1</th>\n",
       "      <td>105384.0</td>\n",
       "      <td>Vejle Kommune</td>\n",
       "      <td>121073.0</td>\n",
       "      <td>2007-01-01</td>\n",
       "      <td>9999-12-31</td>\n",
       "      <td>64.0</td>\n",
       "      <td>Kommune</td>\n",
       "      <td>237518.089342</td>\n",
       "      <td>1.058254e+09</td>\n",
       "      <td>MULTIPOLYGON Z (((544840.271 6163582.786 0.000...</td>\n",
       "      <td>0.0</td>\n",
       "    </tr>\n",
       "    <tr>\n",
       "      <th>2</th>\n",
       "      <td>105385.0</td>\n",
       "      <td>Åbenrå Kommune</td>\n",
       "      <td>121074.0</td>\n",
       "      <td>2007-01-01</td>\n",
       "      <td>9999-12-31</td>\n",
       "      <td>64.0</td>\n",
       "      <td>Kommune</td>\n",
       "      <td>217483.507697</td>\n",
       "      <td>9.407096e+08</td>\n",
       "      <td>MULTIPOLYGON Z (((511855.887 6079619.361 0.000...</td>\n",
       "      <td>0.0</td>\n",
       "    </tr>\n",
       "    <tr>\n",
       "      <th>3</th>\n",
       "      <td>105386.0</td>\n",
       "      <td>Favrskov Kommune</td>\n",
       "      <td>121075.0</td>\n",
       "      <td>2007-01-01</td>\n",
       "      <td>9999-12-31</td>\n",
       "      <td>64.0</td>\n",
       "      <td>Kommune</td>\n",
       "      <td>185712.187147</td>\n",
       "      <td>5.402442e+08</td>\n",
       "      <td>MULTIPOLYGON Z (((548072.263 6238876.656 0.000...</td>\n",
       "      <td>0.0</td>\n",
       "    </tr>\n",
       "    <tr>\n",
       "      <th>4</th>\n",
       "      <td>105387.0</td>\n",
       "      <td>Hedensted Kommune</td>\n",
       "      <td>121076.0</td>\n",
       "      <td>2007-01-01</td>\n",
       "      <td>9999-12-31</td>\n",
       "      <td>64.0</td>\n",
       "      <td>Kommune</td>\n",
       "      <td>201591.999558</td>\n",
       "      <td>5.511563e+08</td>\n",
       "      <td>MULTIPOLYGON Z (((567515.496 6188130.593 0.000...</td>\n",
       "      <td>0.0</td>\n",
       "    </tr>\n",
       "  </tbody>\n",
       "</table>\n",
       "</div>"
      ],
      "text/plain": [
       "   objectid               navn   enhedid         fra         til  enhedtype  \\\n",
       "0  105388.0    Horsens Kommune  121077.0  2007-01-01  9999-12-31       64.0   \n",
       "1  105384.0      Vejle Kommune  121073.0  2007-01-01  9999-12-31       64.0   \n",
       "2  105385.0     Åbenrå Kommune  121074.0  2007-01-01  9999-12-31       64.0   \n",
       "3  105386.0   Favrskov Kommune  121075.0  2007-01-01  9999-12-31       64.0   \n",
       "4  105387.0  Hedensted Kommune  121076.0  2007-01-01  9999-12-31       64.0   \n",
       "\n",
       "       art     SHAPE_Leng    SHAPE_Area  \\\n",
       "0  Kommune  246469.100007  5.191999e+08   \n",
       "1  Kommune  237518.089342  1.058254e+09   \n",
       "2  Kommune  217483.507697  9.407096e+08   \n",
       "3  Kommune  185712.187147  5.402442e+08   \n",
       "4  Kommune  201591.999558  5.511563e+08   \n",
       "\n",
       "                                            geometry  TotalImmunity  \n",
       "0  MULTIPOLYGON Z (((585139.647 6187541.974 0.000...            0.0  \n",
       "1  MULTIPOLYGON Z (((544840.271 6163582.786 0.000...            0.0  \n",
       "2  MULTIPOLYGON Z (((511855.887 6079619.361 0.000...            0.0  \n",
       "3  MULTIPOLYGON Z (((548072.263 6238876.656 0.000...            0.0  \n",
       "4  MULTIPOLYGON Z (((567515.496 6188130.593 0.000...            0.0  "
      ]
     },
     "execution_count": 14,
     "metadata": {},
     "output_type": "execute_result"
    }
   ],
   "source": [
    "curgdf = gdf.copy()\n",
    "curgdf['TotalImmunity'] = np.zeros((len(curgdf,)))\n",
    "curgdf.head()"
   ]
  },
  {
   "cell_type": "code",
   "execution_count": 15,
   "metadata": {},
   "outputs": [],
   "source": [
    "\n",
    "# fig,ax1 = plt.subplots(figsize=(15,15)) \n",
    "\n",
    "# for x, y, label in zip(gdf.geometry.centroid.x, gdf.geometry.centroid.y, gdf.navn):\n",
    "#     ax1.annotate(label,xy=(x,y),xytext=(3,3),textcoords=\"offset points\")\n",
    "\n",
    "# cmap = matplotlib.cm.get_cmap('seismic')\n",
    "\n",
    "for curKom in allKoms:\n",
    "        \n",
    "    curDays,curCount,curPerc = getKommuneCount(curKom)\n",
    "\n",
    "    firstDate = np.datetime64('2021-12-15')\n",
    "    # firstDate = np.datetime64('2021-09-01')\n",
    "    curCount = curCount[curDays >= firstDate]\n",
    "    curPerc = curPerc[curDays >= firstDate]\n",
    "    curDays = curDays[curDays >= firstDate]\n",
    "\n",
    "    curVal = np.cumsum(curPerc)[-1]\n",
    "\n",
    "    # [cmap(x/7) for x in posVals]\n",
    "    curColor = cmap(curVal)\n",
    "    \n",
    "    if (curKom == 'Aabenraa'):\n",
    "        curKom = 'Åbenrå'\n",
    "    if (curKom == 'Nordfyn'):\n",
    "        curKom = 'Nordfyns'\n",
    "    if (curKom == 'København'):\n",
    "        curKom = 'Københavns'\n",
    "    if (curKom == 'Bornholm'):\n",
    "        curKom = 'Bornholms'\n",
    "    if (curKom == 'Faaborg-Midtfyn'):\n",
    "        curKom = 'Fåborg-Midtfyn'\n",
    "    if (curKom == 'Lyngby-Taarbæk'):\n",
    "        curKom = 'Lyngby-Tårbæk'\n",
    "        \n",
    "    curgdf.loc[curgdf.navn == (curKom+' Kommune'),'TotalImmunity'] = curVal\n",
    "\n",
    "    # curgdf = gdf[gdf.navn == (curKom+' Kommune')]\n",
    "    # curgdf.plot(ax=ax1,color=curColor)\n",
    "\n",
    "    \n",
    "# curgdf.head()"
   ]
  },
  {
   "cell_type": "code",
   "execution_count": 16,
   "metadata": {},
   "outputs": [
    {
     "data": {
      "application/vnd.jupyter.widget-view+json": {
       "model_id": "949585695916417dbae8d917e842c974",
       "version_major": 2,
       "version_minor": 0
      },
      "text/plain": [
       "Canvas(toolbar=Toolbar(toolitems=[('Home', 'Reset original view', 'home', 'home'), ('Back', 'Back to previous …"
      ]
     },
     "metadata": {},
     "output_type": "display_data"
    }
   ],
   "source": [
    "\n",
    "\n",
    "# import matplotlib\n",
    "\n",
    "fig,ax1 = plt.subplots(figsize=(15,15)) \n",
    "\n",
    "divider = make_axes_locatable(ax1)\n",
    "cax = divider.append_axes(\"left\", size=\"5%\", pad=0.05)\n",
    "\n",
    "fig.patch.set_facecolor('xkcd:off white')\n",
    "ax1.set_facecolor('xkcd:off white')\n",
    "\n",
    "# cmap = matplotlib.cm.get_cmap('cividis')\n",
    "vmax = np.round(curgdf.TotalImmunity.max()/5)*5 + 5\n",
    "curRangeToShow = np.arange(0,vmax,2.5)\n",
    "cmap = matplotlib.colors.LinearSegmentedColormap.from_list(\"\", [\"xkcd:purple\",\"xkcd:light gray\",\"xkcd:orange\"],N=len(curRangeToShow))\n",
    "# cmap = matplotlib.colors.LinearSegmentedColormap.from_list(\"\", [\"xkcd:red\",\"xkcd:light gray\",\"b\"],N=len(curRangeToShow))\n",
    "# cmap = matplotlib.colors.LinearSegmentedColormap.from_list(\"\", [\"xkcd:dark red\",\"k\",\"xkcd:green\"],N=len(curRangeToShow))\n",
    "curgdf.plot(ax=ax1,column = 'TotalImmunity',cmap=cmap,vmax=vmax,legend=True, cax=cax)\n",
    "curgdf.plot(ax=ax1,column = 'TotalImmunity',cmap=cmap,vmax=vmax,vmin=10,legend=True, cax=cax)\n",
    "\n",
    "\n",
    "# Remove axes\n",
    "ax1.set_xticks([])\n",
    "ax1.set_yticks([])\n",
    "ax1.spines['right'].set_visible(False)\n",
    "ax1.spines['top'].set_visible(False)\n",
    "ax1.spines['left'].set_visible(False)\n",
    "ax1.spines['bottom'].set_visible(False)\n",
    "\n",
    "ax1.set_title('Naturlig immunitet fra Omikron smitte, samlet befolkning')\n",
    "cax.yaxis.set_label_position(\"left\")\n",
    "cax.yaxis.tick_left()\n",
    "textFirstDate = pd.to_datetime(firstDate).strftime('%#d. %B %Y')\n",
    "textLastDate = pd.to_datetime(np.datetime64('today')).strftime('%#d. %B %Y')\n",
    "cax.set_ylabel(f'Andel af befolkning smittet siden {textFirstDate} [%]')\n",
    "ax1.set_title(f'Andel af befolkning smittet fra {textFirstDate} til {textLastDate}\\nBaseret på PCR-positive resultater, ikke test-justeret')\n",
    "\n",
    "fig.savefig(path_figs+f'Maps\\\\Kommune_Total')"
   ]
  },
  {
   "cell_type": "code",
   "execution_count": 17,
   "metadata": {},
   "outputs": [
    {
     "data": {
      "text/html": [
       "<div>\n",
       "<style scoped>\n",
       "    .dataframe tbody tr th:only-of-type {\n",
       "        vertical-align: middle;\n",
       "    }\n",
       "\n",
       "    .dataframe tbody tr th {\n",
       "        vertical-align: top;\n",
       "    }\n",
       "\n",
       "    .dataframe thead th {\n",
       "        text-align: right;\n",
       "    }\n",
       "</style>\n",
       "<table border=\"1\" class=\"dataframe\">\n",
       "  <thead>\n",
       "    <tr style=\"text-align: right;\">\n",
       "      <th></th>\n",
       "      <th>objectid</th>\n",
       "      <th>navn</th>\n",
       "      <th>enhedid</th>\n",
       "      <th>fra</th>\n",
       "      <th>til</th>\n",
       "      <th>enhedtype</th>\n",
       "      <th>art</th>\n",
       "      <th>SHAPE_Leng</th>\n",
       "      <th>SHAPE_Area</th>\n",
       "      <th>geometry</th>\n",
       "      <th>TotalImmunity</th>\n",
       "    </tr>\n",
       "  </thead>\n",
       "  <tbody>\n",
       "    <tr>\n",
       "      <th>0</th>\n",
       "      <td>105388.0</td>\n",
       "      <td>Horsens Kommune</td>\n",
       "      <td>121077.0</td>\n",
       "      <td>2007-01-01</td>\n",
       "      <td>9999-12-31</td>\n",
       "      <td>64.0</td>\n",
       "      <td>Kommune</td>\n",
       "      <td>246469.100007</td>\n",
       "      <td>5.191999e+08</td>\n",
       "      <td>MULTIPOLYGON Z (((585139.647 6187541.974 0.000...</td>\n",
       "      <td>18.952877</td>\n",
       "    </tr>\n",
       "    <tr>\n",
       "      <th>1</th>\n",
       "      <td>105384.0</td>\n",
       "      <td>Vejle Kommune</td>\n",
       "      <td>121073.0</td>\n",
       "      <td>2007-01-01</td>\n",
       "      <td>9999-12-31</td>\n",
       "      <td>64.0</td>\n",
       "      <td>Kommune</td>\n",
       "      <td>237518.089342</td>\n",
       "      <td>1.058254e+09</td>\n",
       "      <td>MULTIPOLYGON Z (((544840.271 6163582.786 0.000...</td>\n",
       "      <td>20.096374</td>\n",
       "    </tr>\n",
       "    <tr>\n",
       "      <th>2</th>\n",
       "      <td>105385.0</td>\n",
       "      <td>Åbenrå Kommune</td>\n",
       "      <td>121074.0</td>\n",
       "      <td>2007-01-01</td>\n",
       "      <td>9999-12-31</td>\n",
       "      <td>64.0</td>\n",
       "      <td>Kommune</td>\n",
       "      <td>217483.507697</td>\n",
       "      <td>9.407096e+08</td>\n",
       "      <td>MULTIPOLYGON Z (((511855.887 6079619.361 0.000...</td>\n",
       "      <td>17.998601</td>\n",
       "    </tr>\n",
       "    <tr>\n",
       "      <th>3</th>\n",
       "      <td>105386.0</td>\n",
       "      <td>Favrskov Kommune</td>\n",
       "      <td>121075.0</td>\n",
       "      <td>2007-01-01</td>\n",
       "      <td>9999-12-31</td>\n",
       "      <td>64.0</td>\n",
       "      <td>Kommune</td>\n",
       "      <td>185712.187147</td>\n",
       "      <td>5.402442e+08</td>\n",
       "      <td>MULTIPOLYGON Z (((548072.263 6238876.656 0.000...</td>\n",
       "      <td>21.600556</td>\n",
       "    </tr>\n",
       "    <tr>\n",
       "      <th>4</th>\n",
       "      <td>105387.0</td>\n",
       "      <td>Hedensted Kommune</td>\n",
       "      <td>121076.0</td>\n",
       "      <td>2007-01-01</td>\n",
       "      <td>9999-12-31</td>\n",
       "      <td>64.0</td>\n",
       "      <td>Kommune</td>\n",
       "      <td>201591.999558</td>\n",
       "      <td>5.511563e+08</td>\n",
       "      <td>MULTIPOLYGON Z (((567515.496 6188130.593 0.000...</td>\n",
       "      <td>17.661062</td>\n",
       "    </tr>\n",
       "  </tbody>\n",
       "</table>\n",
       "</div>"
      ],
      "text/plain": [
       "   objectid               navn   enhedid         fra         til  enhedtype  \\\n",
       "0  105388.0    Horsens Kommune  121077.0  2007-01-01  9999-12-31       64.0   \n",
       "1  105384.0      Vejle Kommune  121073.0  2007-01-01  9999-12-31       64.0   \n",
       "2  105385.0     Åbenrå Kommune  121074.0  2007-01-01  9999-12-31       64.0   \n",
       "3  105386.0   Favrskov Kommune  121075.0  2007-01-01  9999-12-31       64.0   \n",
       "4  105387.0  Hedensted Kommune  121076.0  2007-01-01  9999-12-31       64.0   \n",
       "\n",
       "       art     SHAPE_Leng    SHAPE_Area  \\\n",
       "0  Kommune  246469.100007  5.191999e+08   \n",
       "1  Kommune  237518.089342  1.058254e+09   \n",
       "2  Kommune  217483.507697  9.407096e+08   \n",
       "3  Kommune  185712.187147  5.402442e+08   \n",
       "4  Kommune  201591.999558  5.511563e+08   \n",
       "\n",
       "                                            geometry  TotalImmunity  \n",
       "0  MULTIPOLYGON Z (((585139.647 6187541.974 0.000...      18.952877  \n",
       "1  MULTIPOLYGON Z (((544840.271 6163582.786 0.000...      20.096374  \n",
       "2  MULTIPOLYGON Z (((511855.887 6079619.361 0.000...      17.998601  \n",
       "3  MULTIPOLYGON Z (((548072.263 6238876.656 0.000...      21.600556  \n",
       "4  MULTIPOLYGON Z (((567515.496 6188130.593 0.000...      17.661062  "
      ]
     },
     "execution_count": 17,
     "metadata": {},
     "output_type": "execute_result"
    }
   ],
   "source": [
    "# curgdf.loc[curgdf.navn == (curKom+' Kommune'),'TotalImmunity'] = 10\n",
    "curgdf.head()"
   ]
  },
  {
   "cell_type": "code",
   "execution_count": 18,
   "metadata": {},
   "outputs": [],
   "source": [
    "\n",
    "# curDays,curCount,curPerc = getKommuneCount('Horsens')\n",
    "\n",
    "# firstDate = np.datetime64('2021-12-01')\n",
    "# # firstDate = np.datetime64('2021-09-01')\n",
    "# curCount = curCount[curDays >= firstDate]\n",
    "# curPerc = curPerc[curDays >= firstDate]\n",
    "# curDays = curDays[curDays >= firstDate]\n",
    "\n",
    "# fig,ax1 = plt.subplots()\n",
    "# ax1.plot(curDays,np.cumsum(curPerc))"
   ]
  },
  {
   "cell_type": "markdown",
   "metadata": {},
   "source": [
    "# Make the same map, but age-specific\n",
    "\n",
    "Method for getting age-specific case-counts and incidence was made in Kommune_Alder.ipynb"
   ]
  },
  {
   "cell_type": "code",
   "execution_count": 19,
   "metadata": {},
   "outputs": [],
   "source": [
    "popdf1 = pd.read_csv(rootdir_data+'/DKfolketal2021_Statistikbanken_Del1.csv',header=None,encoding='latin1',delimiter=';')\n",
    "popdf2 = pd.read_csv(rootdir_data+'/DKfolketal2021_Statistikbanken_Del2.csv',header=None,encoding='latin1',delimiter=';')\n",
    "\n",
    "popdf = pd.concat([popdf1,popdf2])\n",
    "\n",
    "popdf = popdf.rename(columns={0:\"Kommune\",1:'Alder',2:'Antal'})\n",
    "popdf['AlderKort'] = popdf.Alder.apply(lambda x: int(str(x).split(' ')[0]))\n",
    "totCounts = popdf.groupby('Kommune').sum()"
   ]
  },
  {
   "cell_type": "code",
   "execution_count": 20,
   "metadata": {},
   "outputs": [],
   "source": [
    "def getPopSize(kommuneNavn,minAlder=0,maxAlder=125):\n",
    "\n",
    "    if (kommuneNavn == 'Høje Tåstrup'):\n",
    "        kommuneNavn = 'Høje-Taastrup'\n",
    "    if (kommuneNavn == 'Århus'):\n",
    "        kommuneNavn = 'Aarhus'\n",
    "    if (kommuneNavn == 'Nordfyn'):\n",
    "        kommuneNavn = 'Nordfyns'\n",
    "    if (kommuneNavn == 'Vesthimmerland'):\n",
    "        kommuneNavn = 'Vesthimmerlands'\n",
    "\n",
    "        \n",
    "    return popdf[(popdf.Kommune == kommuneNavn) & (popdf.AlderKort >= minAlder) & (popdf.AlderKort <= maxAlder)].Antal.sum()\n",
    "    "
   ]
  },
  {
   "cell_type": "code",
   "execution_count": 21,
   "metadata": {},
   "outputs": [],
   "source": [
    "allSubDirs = list(os.walk(path_dash))[0][1]\n",
    "\n",
    "df = pd.DataFrame()\n",
    "\n",
    "for curSubDir in allSubDirs:\n",
    "    curdir = path_dash + curSubDir\n",
    "    curfilepath = curdir+'/Kommunalt_DB/17_tilfaelde_fnkt_alder_kommuner.csv'\n",
    "\n",
    "    # Check if file was included at the time. The \"Kommune/17\" file wasn't included until 2021-09-22 \n",
    "    if os.path.isfile(curfilepath):\n",
    "        curdf = pd.read_csv(curfilepath,encoding='latin1',delimiter = ';')\n",
    "        \n",
    "        df = pd.concat([df,curdf])\n",
    "\n",
    "# Set dtypes\n",
    "df.Kommune = df.Kommune.fillna(0)  # All NaN kommuner is set to zero\n",
    "df['Kommune'] = df['Kommune'].astype(int)\n",
    "df['Dagsdato'] = pd.to_datetime(df['Dagsdato'])\n",
    "df['Bekræftede tilfælde'] = pd.to_numeric(df['Bekræftede tilfælde'])\n",
    "df['Aldersgruppe'] = df.Aldersgruppe.replace('00-02','0-2')\n",
    "df['Aldersgruppe'] = df.Aldersgruppe.replace('03-05','3-5')\n",
    "df['Aldersgruppe'] = df.Aldersgruppe.replace('06-11','6-11')\n",
    "\n",
    "# df['Forskel'] = df['Bekræftede tilfælde'].diff().fillna(0).astype(int,errors='ignore')"
   ]
  },
  {
   "cell_type": "code",
   "execution_count": 22,
   "metadata": {},
   "outputs": [],
   "source": [
    "\n",
    "df_kommunekort = pd.read_csv(latestdir+'/Kommunalt_DB/10_Kommune_kort.csv',encoding='latin1',\n",
    "                                delimiter = ';')\n",
    "df_kommunekort = df_kommunekort.set_index(\"Kommunenavn\")\n"
   ]
  },
  {
   "cell_type": "code",
   "execution_count": 23,
   "metadata": {},
   "outputs": [],
   "source": [
    "def getDiffTimeSeries(komCode,Age):\n",
    "\n",
    "    curdf = df[(df.Kommune == komCode) & (df.Aldersgruppe == Age)] \n",
    "\n",
    "    if (len(curdf) == 0):\n",
    "        return np.array(np.datetime64('today')),np.array([0])\n",
    "        \n",
    "    dayDiff = [int(x) for x in (curdf.Dagsdato.diff()/np.timedelta64(1,'D')).fillna(0)]\n",
    "\n",
    "    curDays = []\n",
    "    curDiffs = []\n",
    "    for i in range(1,len(curdf)):\n",
    "        curRow = curdf.iloc[i]\n",
    "        prevRow = curdf.iloc[i-1]\n",
    "        # print(curRow)\n",
    "        if (dayDiff[i] == 1):\n",
    "            curDays.append(curRow.Dagsdato)\n",
    "            curDiffs.append(curRow['Bekræftede tilfælde']-prevRow['Bekræftede tilfælde']) \n",
    "        elif (dayDiff[i] == 3):\n",
    "            curCount = curRow['Bekræftede tilfælde']-prevRow['Bekræftede tilfælde']\n",
    "            curDays.append(curRow.Dagsdato-np.timedelta64(2,'D'))\n",
    "            curDays.append(curRow.Dagsdato-np.timedelta64(1,'D'))\n",
    "            curDays.append(curRow.Dagsdato)\n",
    "            curDiffs.append(curCount/3) \n",
    "            curDiffs.append(curCount/3) \n",
    "            curDiffs.append(curCount/3) \n",
    "\n",
    "    return np.array(curDays),np.array(curDiffs)\n",
    "    "
   ]
  },
  {
   "cell_type": "code",
   "execution_count": 24,
   "metadata": {},
   "outputs": [],
   "source": [
    "def getCurrentAgeCounts(curKommuneNavn,Age):\n",
    "    # ,curMinAge=0,curMaxAge=125\n",
    "    \n",
    "    if (Age == '80+'):\n",
    "        curMinAge,curMaxAge = 80,125\n",
    "    else:\n",
    "        curMinAge,curMaxAge = [int(x) for x in Age.split('-')]\n",
    "\n",
    "    komCode = df_kommunekort['Kommune'][curKommuneNavn]\n",
    "    curDates,curCounts = getDiffTimeSeries(komCode,Age)\n",
    "\n",
    "    curPopSize = getPopSize(curKommuneNavn,curMinAge,curMaxAge)\n",
    "    curPerc = curCounts/curPopSize\n",
    "\n",
    "    return curDates,curCounts,curPerc\n",
    "\n"
   ]
  },
  {
   "cell_type": "code",
   "execution_count": 25,
   "metadata": {},
   "outputs": [
    {
     "name": "stdout",
     "output_type": "stream",
     "text": [
      "0.15002907540220972\n",
      "0.3584439946685097\n",
      "0.43100481260026263\n",
      "0.2456690021633471\n"
     ]
    }
   ],
   "source": [
    "def getCurrentAgeCumulative(curKommuneNavn,Age,firstDate=np.datetime64('2021-12-01')):\n",
    "\n",
    "    curDates,curCounts,curPerc = getCurrentAgeCounts(curKommuneNavn,Age)\n",
    "    \n",
    "    curIndex = [np.datetime64(x) for x in curDates] >= firstDate\n",
    "    curCounts = curCounts[curIndex]\n",
    "    curPerc = curPerc[curIndex]\n",
    "    curDates = curDates[curIndex]\n",
    "\n",
    "    curVal = np.cumsum(curPerc)[-1]\n",
    "\n",
    "    return curVal\n",
    "\n",
    "print(getCurrentAgeCumulative(curKommuneNavn,'0-2'))\n",
    "print(getCurrentAgeCumulative(curKommuneNavn,'3-5'))\n",
    "print(getCurrentAgeCumulative(curKommuneNavn,'6-11'))\n",
    "print(getCurrentAgeCumulative(curKommuneNavn,'40-64'))"
   ]
  },
  {
   "cell_type": "code",
   "execution_count": 26,
   "metadata": {},
   "outputs": [],
   "source": [
    "# def getCurrentAgeCumulative(curKommuneNavn,Age,firstDate=np.datetime64('2021-12-01')):\n",
    "#     # ,curMinAge=0,curMaxAge=125\n",
    "    \n",
    "#     if (Age == '80+'):\n",
    "#         curMinAge,curMaxAge = 80,125\n",
    "#     else:\n",
    "#         curMinAge,curMaxAge = [int(x) for x in Age.split('-')]\n",
    "\n",
    "#     komCode = df_kommunekort['Kommune'][curKommuneNavn]\n",
    "#     curDates,curCounts = getDiffTimeSeries(komCode,Age)\n",
    "\n",
    "#     curPopSize = getPopSize(curKommuneNavn,curMinAge,curMaxAge)\n",
    "#     curPerc = curCounts/curPopSize\n",
    "\n",
    "#     # firstDate = np.datetime64('2021-12-01')\n",
    "#     # firstDate = np.datetime64('2021-09-01')\n",
    "#     curIndex = [np.datetime64(x) for x in curDates] >= firstDate\n",
    "#     curCounts = curCounts[curIndex]\n",
    "#     curPerc = curPerc[curIndex]\n",
    "#     curDates = curDates[curIndex]\n",
    "\n",
    "#     curVal = np.cumsum(curPerc)[-1]\n",
    "\n",
    "#     # plt.figure()\n",
    "#     # plt.plot(curDates,curCounts,'.:')\n",
    "#     # plt.plot(rnTime(curDates,7),rnMean(curCounts,7)) \n",
    "\n",
    "#     return curVal\n",
    "\n",
    "# print(getCurrentAgeCumulative(curKommuneNavn,'0-2'))\n",
    "# print(getCurrentAgeCumulative(curKommuneNavn,'3-5'))\n",
    "# print(getCurrentAgeCumulative(curKommuneNavn,'6-11'))\n",
    "# print(getCurrentAgeCumulative(curKommuneNavn,'40-64'))"
   ]
  },
  {
   "cell_type": "code",
   "execution_count": 27,
   "metadata": {},
   "outputs": [],
   "source": [
    "\n",
    "# fig,ax1 = plt.subplots(figsize=(15,15)) \n",
    "\n",
    "# for x, y, label in zip(gdf.geometry.centroid.x, gdf.geometry.centroid.y, gdf.navn):\n",
    "#     ax1.annotate(label,xy=(x,y),xytext=(3,3),textcoords=\"offset points\")\n",
    "\n",
    "# cmap = matplotlib.cm.get_cmap('seismic')\n",
    "\n",
    "for curKom in allKoms:\n",
    "        \n",
    "    # curDays,curCount,curPerc = getKommuneCount(curKom)\n",
    "\n",
    "    # firstDate = np.datetime64('2021-12-01')\n",
    "    # # firstDate = np.datetime64('2021-09-01')\n",
    "    # curCount = curCount[curDays >= firstDate]\n",
    "    # curPerc = curPerc[curDays >= firstDate]\n",
    "    # curDays = curDays[curDays >= firstDate]\n",
    "\n",
    "    # curVal = np.cumsum(curPerc)[-1]\n",
    "\n",
    "    # [cmap(x/7) for x in posVals]\n",
    "    curColor = cmap(curVal)\n",
    "\n",
    "\n",
    "    curKomGdf = curKom\n",
    "    if (curKom == 'Aabenraa'):\n",
    "        curKomGdf = 'Åbenrå'\n",
    "    if (curKom == 'Nordfyn'):\n",
    "        curKomGdf = 'Nordfyns'\n",
    "    if (curKom == 'København'):\n",
    "        curKomGdf = 'Københavns'\n",
    "    if (curKom == 'Bornholm'):\n",
    "        curKomGdf = 'Bornholms'\n",
    "    if (curKom == 'Faaborg-Midtfyn'):\n",
    "        curKomGdf = 'Fåborg-Midtfyn'\n",
    "    if (curKom == 'Lyngby-Taarbæk'):\n",
    "        curKomGdf = 'Lyngby-Tårbæk'\n",
    "        \n",
    "    # curgdf.loc[curgdf.navn == (curKomGdf+' Kommune'),'TotalImmunity'] = curVal\n",
    "    try: \n",
    "        for curAge in df.Aldersgruppe.unique()[:-1]:\n",
    "            curVal = getCurrentAgeCumulative(curKom,curAge)\n",
    "            curgdf.loc[curgdf.navn == (curKomGdf+' Kommune'),curAge] = 100 *  curVal\n",
    "    except:\n",
    "        print(curKom)\n",
    "\n",
    "    # curgdf = gdf[gdf.navn == (curKom+' Kommune')]\n",
    "    # curgdf.plot(ax=ax1,color=curColor)\n",
    "\n",
    "    \n",
    "# curgdf.head()"
   ]
  },
  {
   "cell_type": "code",
   "execution_count": 28,
   "metadata": {},
   "outputs": [
    {
     "data": {
      "text/html": [
       "<div>\n",
       "<style scoped>\n",
       "    .dataframe tbody tr th:only-of-type {\n",
       "        vertical-align: middle;\n",
       "    }\n",
       "\n",
       "    .dataframe tbody tr th {\n",
       "        vertical-align: top;\n",
       "    }\n",
       "\n",
       "    .dataframe thead th {\n",
       "        text-align: right;\n",
       "    }\n",
       "</style>\n",
       "<table border=\"1\" class=\"dataframe\">\n",
       "  <thead>\n",
       "    <tr style=\"text-align: right;\">\n",
       "      <th></th>\n",
       "      <th>objectid</th>\n",
       "      <th>navn</th>\n",
       "      <th>enhedid</th>\n",
       "      <th>fra</th>\n",
       "      <th>til</th>\n",
       "      <th>enhedtype</th>\n",
       "      <th>art</th>\n",
       "      <th>SHAPE_Leng</th>\n",
       "      <th>SHAPE_Area</th>\n",
       "      <th>geometry</th>\n",
       "      <th>TotalImmunity</th>\n",
       "      <th>0-2</th>\n",
       "      <th>3-5</th>\n",
       "      <th>6-11</th>\n",
       "      <th>12-15</th>\n",
       "      <th>16-19</th>\n",
       "      <th>20-39</th>\n",
       "      <th>40-64</th>\n",
       "      <th>65-79</th>\n",
       "      <th>80+</th>\n",
       "    </tr>\n",
       "  </thead>\n",
       "  <tbody>\n",
       "    <tr>\n",
       "      <th>0</th>\n",
       "      <td>105388.0</td>\n",
       "      <td>Horsens Kommune</td>\n",
       "      <td>121077.0</td>\n",
       "      <td>2007-01-01</td>\n",
       "      <td>9999-12-31</td>\n",
       "      <td>64.0</td>\n",
       "      <td>Kommune</td>\n",
       "      <td>246469.100007</td>\n",
       "      <td>5.191999e+08</td>\n",
       "      <td>MULTIPOLYGON Z (((585139.647 6187541.974 0.000...</td>\n",
       "      <td>18.952877</td>\n",
       "      <td>12.919569</td>\n",
       "      <td>30.824937</td>\n",
       "      <td>41.104855</td>\n",
       "      <td>39.245283</td>\n",
       "      <td>38.500890</td>\n",
       "      <td>25.916545</td>\n",
       "      <td>18.232305</td>\n",
       "      <td>5.420054</td>\n",
       "      <td>2.702033</td>\n",
       "    </tr>\n",
       "    <tr>\n",
       "      <th>1</th>\n",
       "      <td>105384.0</td>\n",
       "      <td>Vejle Kommune</td>\n",
       "      <td>121073.0</td>\n",
       "      <td>2007-01-01</td>\n",
       "      <td>9999-12-31</td>\n",
       "      <td>64.0</td>\n",
       "      <td>Kommune</td>\n",
       "      <td>237518.089342</td>\n",
       "      <td>1.058254e+09</td>\n",
       "      <td>MULTIPOLYGON Z (((544840.271 6163582.786 0.000...</td>\n",
       "      <td>20.096374</td>\n",
       "      <td>13.959970</td>\n",
       "      <td>33.509967</td>\n",
       "      <td>42.626362</td>\n",
       "      <td>46.765749</td>\n",
       "      <td>37.847957</td>\n",
       "      <td>25.904931</td>\n",
       "      <td>17.888458</td>\n",
       "      <td>5.190493</td>\n",
       "      <td>3.426163</td>\n",
       "    </tr>\n",
       "    <tr>\n",
       "      <th>2</th>\n",
       "      <td>105385.0</td>\n",
       "      <td>Åbenrå Kommune</td>\n",
       "      <td>121074.0</td>\n",
       "      <td>2007-01-01</td>\n",
       "      <td>9999-12-31</td>\n",
       "      <td>64.0</td>\n",
       "      <td>Kommune</td>\n",
       "      <td>217483.507697</td>\n",
       "      <td>9.407096e+08</td>\n",
       "      <td>MULTIPOLYGON Z (((511855.887 6079619.361 0.000...</td>\n",
       "      <td>17.998601</td>\n",
       "      <td>15.638363</td>\n",
       "      <td>33.887240</td>\n",
       "      <td>38.524145</td>\n",
       "      <td>39.659367</td>\n",
       "      <td>38.843515</td>\n",
       "      <td>25.068651</td>\n",
       "      <td>16.179530</td>\n",
       "      <td>5.139665</td>\n",
       "      <td>3.774146</td>\n",
       "    </tr>\n",
       "    <tr>\n",
       "      <th>3</th>\n",
       "      <td>105386.0</td>\n",
       "      <td>Favrskov Kommune</td>\n",
       "      <td>121075.0</td>\n",
       "      <td>2007-01-01</td>\n",
       "      <td>9999-12-31</td>\n",
       "      <td>64.0</td>\n",
       "      <td>Kommune</td>\n",
       "      <td>185712.187147</td>\n",
       "      <td>5.402442e+08</td>\n",
       "      <td>MULTIPOLYGON Z (((548072.263 6238876.656 0.000...</td>\n",
       "      <td>21.600556</td>\n",
       "      <td>14.276885</td>\n",
       "      <td>30.233885</td>\n",
       "      <td>44.269082</td>\n",
       "      <td>44.994875</td>\n",
       "      <td>43.122677</td>\n",
       "      <td>27.459459</td>\n",
       "      <td>19.397776</td>\n",
       "      <td>4.690715</td>\n",
       "      <td>3.792607</td>\n",
       "    </tr>\n",
       "    <tr>\n",
       "      <th>4</th>\n",
       "      <td>105387.0</td>\n",
       "      <td>Hedensted Kommune</td>\n",
       "      <td>121076.0</td>\n",
       "      <td>2007-01-01</td>\n",
       "      <td>9999-12-31</td>\n",
       "      <td>64.0</td>\n",
       "      <td>Kommune</td>\n",
       "      <td>201591.999558</td>\n",
       "      <td>5.511563e+08</td>\n",
       "      <td>MULTIPOLYGON Z (((567515.496 6188130.593 0.000...</td>\n",
       "      <td>17.661062</td>\n",
       "      <td>11.532738</td>\n",
       "      <td>27.572293</td>\n",
       "      <td>37.984733</td>\n",
       "      <td>32.778198</td>\n",
       "      <td>37.693222</td>\n",
       "      <td>24.900442</td>\n",
       "      <td>16.328358</td>\n",
       "      <td>5.571448</td>\n",
       "      <td>4.006748</td>\n",
       "    </tr>\n",
       "  </tbody>\n",
       "</table>\n",
       "</div>"
      ],
      "text/plain": [
       "   objectid               navn   enhedid         fra         til  enhedtype  \\\n",
       "0  105388.0    Horsens Kommune  121077.0  2007-01-01  9999-12-31       64.0   \n",
       "1  105384.0      Vejle Kommune  121073.0  2007-01-01  9999-12-31       64.0   \n",
       "2  105385.0     Åbenrå Kommune  121074.0  2007-01-01  9999-12-31       64.0   \n",
       "3  105386.0   Favrskov Kommune  121075.0  2007-01-01  9999-12-31       64.0   \n",
       "4  105387.0  Hedensted Kommune  121076.0  2007-01-01  9999-12-31       64.0   \n",
       "\n",
       "       art     SHAPE_Leng    SHAPE_Area  \\\n",
       "0  Kommune  246469.100007  5.191999e+08   \n",
       "1  Kommune  237518.089342  1.058254e+09   \n",
       "2  Kommune  217483.507697  9.407096e+08   \n",
       "3  Kommune  185712.187147  5.402442e+08   \n",
       "4  Kommune  201591.999558  5.511563e+08   \n",
       "\n",
       "                                            geometry  TotalImmunity  \\\n",
       "0  MULTIPOLYGON Z (((585139.647 6187541.974 0.000...      18.952877   \n",
       "1  MULTIPOLYGON Z (((544840.271 6163582.786 0.000...      20.096374   \n",
       "2  MULTIPOLYGON Z (((511855.887 6079619.361 0.000...      17.998601   \n",
       "3  MULTIPOLYGON Z (((548072.263 6238876.656 0.000...      21.600556   \n",
       "4  MULTIPOLYGON Z (((567515.496 6188130.593 0.000...      17.661062   \n",
       "\n",
       "         0-2        3-5       6-11      12-15      16-19      20-39  \\\n",
       "0  12.919569  30.824937  41.104855  39.245283  38.500890  25.916545   \n",
       "1  13.959970  33.509967  42.626362  46.765749  37.847957  25.904931   \n",
       "2  15.638363  33.887240  38.524145  39.659367  38.843515  25.068651   \n",
       "3  14.276885  30.233885  44.269082  44.994875  43.122677  27.459459   \n",
       "4  11.532738  27.572293  37.984733  32.778198  37.693222  24.900442   \n",
       "\n",
       "       40-64     65-79       80+  \n",
       "0  18.232305  5.420054  2.702033  \n",
       "1  17.888458  5.190493  3.426163  \n",
       "2  16.179530  5.139665  3.774146  \n",
       "3  19.397776  4.690715  3.792607  \n",
       "4  16.328358  5.571448  4.006748  "
      ]
     },
     "execution_count": 28,
     "metadata": {},
     "output_type": "execute_result"
    }
   ],
   "source": [
    "\n",
    "# curgdf['TotalImmunity'] = curgdf['TotalImmunity']/100\n",
    "curgdf.head()"
   ]
  },
  {
   "cell_type": "markdown",
   "metadata": {},
   "source": [
    "# ... and make maps"
   ]
  },
  {
   "cell_type": "code",
   "execution_count": 29,
   "metadata": {},
   "outputs": [
    {
     "data": {
      "text/html": [
       "<div>\n",
       "<style scoped>\n",
       "    .dataframe tbody tr th:only-of-type {\n",
       "        vertical-align: middle;\n",
       "    }\n",
       "\n",
       "    .dataframe tbody tr th {\n",
       "        vertical-align: top;\n",
       "    }\n",
       "\n",
       "    .dataframe thead th {\n",
       "        text-align: right;\n",
       "    }\n",
       "</style>\n",
       "<table border=\"1\" class=\"dataframe\">\n",
       "  <thead>\n",
       "    <tr style=\"text-align: right;\">\n",
       "      <th></th>\n",
       "      <th>objectid</th>\n",
       "      <th>navn</th>\n",
       "      <th>enhedid</th>\n",
       "      <th>fra</th>\n",
       "      <th>til</th>\n",
       "      <th>enhedtype</th>\n",
       "      <th>art</th>\n",
       "      <th>SHAPE_Leng</th>\n",
       "      <th>SHAPE_Area</th>\n",
       "      <th>geometry</th>\n",
       "      <th>TotalImmunity</th>\n",
       "      <th>0-2</th>\n",
       "      <th>3-5</th>\n",
       "      <th>6-11</th>\n",
       "      <th>12-15</th>\n",
       "      <th>16-19</th>\n",
       "      <th>20-39</th>\n",
       "      <th>40-64</th>\n",
       "      <th>65-79</th>\n",
       "      <th>80+</th>\n",
       "    </tr>\n",
       "  </thead>\n",
       "  <tbody>\n",
       "    <tr>\n",
       "      <th>35</th>\n",
       "      <td>47234.0</td>\n",
       "      <td>Læsø Kommune</td>\n",
       "      <td>121098.0</td>\n",
       "      <td>2007-01-01</td>\n",
       "      <td>9999-12-31</td>\n",
       "      <td>64.0</td>\n",
       "      <td>Kommune</td>\n",
       "      <td>114662.401069</td>\n",
       "      <td>1.183921e+08</td>\n",
       "      <td>MULTIPOLYGON Z (((619813.130 6343486.648 0.000...</td>\n",
       "      <td>4.974562</td>\n",
       "      <td>0.0</td>\n",
       "      <td>6.25</td>\n",
       "      <td>13.636364</td>\n",
       "      <td>6.944444</td>\n",
       "      <td>65.116279</td>\n",
       "      <td>9.550562</td>\n",
       "      <td>4.746835</td>\n",
       "      <td>2.04461</td>\n",
       "      <td>1.129944</td>\n",
       "    </tr>\n",
       "  </tbody>\n",
       "</table>\n",
       "</div>"
      ],
      "text/plain": [
       "    objectid          navn   enhedid         fra         til  enhedtype  \\\n",
       "35   47234.0  Læsø Kommune  121098.0  2007-01-01  9999-12-31       64.0   \n",
       "\n",
       "        art     SHAPE_Leng    SHAPE_Area  \\\n",
       "35  Kommune  114662.401069  1.183921e+08   \n",
       "\n",
       "                                             geometry  TotalImmunity  0-2  \\\n",
       "35  MULTIPOLYGON Z (((619813.130 6343486.648 0.000...       4.974562  0.0   \n",
       "\n",
       "     3-5       6-11     12-15      16-19     20-39     40-64    65-79  \\\n",
       "35  6.25  13.636364  6.944444  65.116279  9.550562  4.746835  2.04461   \n",
       "\n",
       "         80+  \n",
       "35  1.129944  "
      ]
     },
     "execution_count": 29,
     "metadata": {},
     "output_type": "execute_result"
    }
   ],
   "source": [
    "curgdf[curgdf.navn == 'Læsø Kommune']"
   ]
  },
  {
   "cell_type": "code",
   "execution_count": 30,
   "metadata": {},
   "outputs": [
    {
     "data": {
      "application/vnd.jupyter.widget-view+json": {
       "model_id": "4771198d51b44d9596a74bd0e0e6e11b",
       "version_major": 2,
       "version_minor": 0
      },
      "text/plain": [
       "Canvas(toolbar=Toolbar(toolitems=[('Home', 'Reset original view', 'home', 'home'), ('Back', 'Back to previous …"
      ]
     },
     "metadata": {},
     "output_type": "display_data"
    },
    {
     "data": {
      "application/vnd.jupyter.widget-view+json": {
       "model_id": "6169da08e328421784c2fe6124b4f8c4",
       "version_major": 2,
       "version_minor": 0
      },
      "text/plain": [
       "Canvas(toolbar=Toolbar(toolitems=[('Home', 'Reset original view', 'home', 'home'), ('Back', 'Back to previous …"
      ]
     },
     "metadata": {},
     "output_type": "display_data"
    },
    {
     "data": {
      "application/vnd.jupyter.widget-view+json": {
       "model_id": "650dd7410ead428a9d422801790b6057",
       "version_major": 2,
       "version_minor": 0
      },
      "text/plain": [
       "Canvas(toolbar=Toolbar(toolitems=[('Home', 'Reset original view', 'home', 'home'), ('Back', 'Back to previous …"
      ]
     },
     "metadata": {},
     "output_type": "display_data"
    },
    {
     "data": {
      "application/vnd.jupyter.widget-view+json": {
       "model_id": "6f39b4ea59fd4ba290a62a941f0bb498",
       "version_major": 2,
       "version_minor": 0
      },
      "text/plain": [
       "Canvas(toolbar=Toolbar(toolitems=[('Home', 'Reset original view', 'home', 'home'), ('Back', 'Back to previous …"
      ]
     },
     "metadata": {},
     "output_type": "display_data"
    },
    {
     "data": {
      "application/vnd.jupyter.widget-view+json": {
       "model_id": "efc862ba290f4ede8edc72400795851a",
       "version_major": 2,
       "version_minor": 0
      },
      "text/plain": [
       "Canvas(toolbar=Toolbar(toolitems=[('Home', 'Reset original view', 'home', 'home'), ('Back', 'Back to previous …"
      ]
     },
     "metadata": {},
     "output_type": "display_data"
    },
    {
     "data": {
      "application/vnd.jupyter.widget-view+json": {
       "model_id": "a913b2dc9a714a3982b726ca9e4ba18a",
       "version_major": 2,
       "version_minor": 0
      },
      "text/plain": [
       "Canvas(toolbar=Toolbar(toolitems=[('Home', 'Reset original view', 'home', 'home'), ('Back', 'Back to previous …"
      ]
     },
     "metadata": {},
     "output_type": "display_data"
    },
    {
     "data": {
      "application/vnd.jupyter.widget-view+json": {
       "model_id": "f8c615b6a17b46debfbf781c779a0640",
       "version_major": 2,
       "version_minor": 0
      },
      "text/plain": [
       "Canvas(toolbar=Toolbar(toolitems=[('Home', 'Reset original view', 'home', 'home'), ('Back', 'Back to previous …"
      ]
     },
     "metadata": {},
     "output_type": "display_data"
    },
    {
     "data": {
      "application/vnd.jupyter.widget-view+json": {
       "model_id": "1428fda547c144ac80722cda81762830",
       "version_major": 2,
       "version_minor": 0
      },
      "text/plain": [
       "Canvas(toolbar=Toolbar(toolitems=[('Home', 'Reset original view', 'home', 'home'), ('Back', 'Back to previous …"
      ]
     },
     "metadata": {},
     "output_type": "display_data"
    },
    {
     "data": {
      "application/vnd.jupyter.widget-view+json": {
       "model_id": "26463fd2d87242859ef846e82693dca7",
       "version_major": 2,
       "version_minor": 0
      },
      "text/plain": [
       "Canvas(toolbar=Toolbar(toolitems=[('Home', 'Reset original view', 'home', 'home'), ('Back', 'Back to previous …"
      ]
     },
     "metadata": {},
     "output_type": "display_data"
    }
   ],
   "source": [
    "\n",
    "for curAge in df.Aldersgruppe.unique()[:-1]:\n",
    "\n",
    "    fig,ax1 = plt.subplots(figsize=(15,15),tight_layout=True) \n",
    "\n",
    "    divider = make_axes_locatable(ax1)\n",
    "    cax = divider.append_axes(\"left\", size=\"5%\", pad=0.01)\n",
    "\n",
    "    fig.patch.set_facecolor('xkcd:off white')\n",
    "    ax1.set_facecolor('xkcd:off white')\n",
    "\n",
    "\n",
    "    # vmax = np.round(curgdf[curAge].max()/5)*5 + 5\n",
    "    # curRangeToShow = np.arange(0,vmax,2.5)\n",
    "    vmax = 60\n",
    "    vmax = 40\n",
    "    curRangeToShow = np.arange(0,vmax,5)\n",
    "    cmap = matplotlib.colors.LinearSegmentedColormap.from_list(\"\", [\"xkcd:dark yellow\",\"gray\",\"xkcd:green\"],N=len(curRangeToShow))\n",
    "    curgdf.plot(ax=ax1,column = curAge,cmap=cmap,legend=True, cax=cax)\n",
    "\n",
    "\n",
    "    # Remove axes\n",
    "    ax1.set_xticks([])\n",
    "    ax1.set_yticks([])\n",
    "    ax1.spines['right'].set_visible(False)\n",
    "    ax1.spines['top'].set_visible(False)\n",
    "    ax1.spines['left'].set_visible(False)\n",
    "    ax1.spines['bottom'].set_visible(False)\n",
    "\n",
    "    ax1.set_title(f'Naturlig immunitet fra Omikron smitte, {curAge} årige')\n",
    "    cax.yaxis.set_label_position(\"left\")\n",
    "    cax.yaxis.tick_left()\n",
    "    textFirstDate = pd.to_datetime(firstDate).strftime('%#d. %B')\n",
    "    cax.set_ylabel(f'Andel af {curAge} årige smittet siden {textFirstDate} [%]')\n",
    "\n",
    "    fig.savefig(path_figs+f'Maps\\\\Kommune_Immunitet_{curAge}')"
   ]
  },
  {
   "cell_type": "code",
   "execution_count": 31,
   "metadata": {},
   "outputs": [
    {
     "data": {
      "application/vnd.jupyter.widget-view+json": {
       "model_id": "d8cf006cbd9f4e03b677c06e3bc4b125",
       "version_major": 2,
       "version_minor": 0
      },
      "text/plain": [
       "Canvas(toolbar=Toolbar(toolitems=[('Home', 'Reset original view', 'home', 'home'), ('Back', 'Back to previous …"
      ]
     },
     "metadata": {},
     "output_type": "display_data"
    },
    {
     "data": {
      "application/vnd.jupyter.widget-view+json": {
       "model_id": "7cd0bb952357433e9d336a794b42c10a",
       "version_major": 2,
       "version_minor": 0
      },
      "text/plain": [
       "Canvas(toolbar=Toolbar(toolitems=[('Home', 'Reset original view', 'home', 'home'), ('Back', 'Back to previous …"
      ]
     },
     "metadata": {},
     "output_type": "display_data"
    },
    {
     "data": {
      "application/vnd.jupyter.widget-view+json": {
       "model_id": "3e6da7c10c574d39b40f70ec834413ef",
       "version_major": 2,
       "version_minor": 0
      },
      "text/plain": [
       "Canvas(toolbar=Toolbar(toolitems=[('Home', 'Reset original view', 'home', 'home'), ('Back', 'Back to previous …"
      ]
     },
     "metadata": {},
     "output_type": "display_data"
    },
    {
     "data": {
      "application/vnd.jupyter.widget-view+json": {
       "model_id": "409b156daae34f4e873a0fe3c50b5bb8",
       "version_major": 2,
       "version_minor": 0
      },
      "text/plain": [
       "Canvas(toolbar=Toolbar(toolitems=[('Home', 'Reset original view', 'home', 'home'), ('Back', 'Back to previous …"
      ]
     },
     "metadata": {},
     "output_type": "display_data"
    },
    {
     "data": {
      "application/vnd.jupyter.widget-view+json": {
       "model_id": "cd97ba1032c6436c8579d2da8209624c",
       "version_major": 2,
       "version_minor": 0
      },
      "text/plain": [
       "Canvas(toolbar=Toolbar(toolitems=[('Home', 'Reset original view', 'home', 'home'), ('Back', 'Back to previous …"
      ]
     },
     "metadata": {},
     "output_type": "display_data"
    },
    {
     "data": {
      "application/vnd.jupyter.widget-view+json": {
       "model_id": "29a6ccc5cd16400bb83a59bd0b7f64ed",
       "version_major": 2,
       "version_minor": 0
      },
      "text/plain": [
       "Canvas(toolbar=Toolbar(toolitems=[('Home', 'Reset original view', 'home', 'home'), ('Back', 'Back to previous …"
      ]
     },
     "metadata": {},
     "output_type": "display_data"
    },
    {
     "name": "stderr",
     "output_type": "stream",
     "text": [
      "<ipython-input-31-9bd4f277beed>:3: RuntimeWarning: More than 20 figures have been opened. Figures created through the pyplot interface (`matplotlib.pyplot.figure`) are retained until explicitly closed and may consume too much memory. (To control this warning, see the rcParam `figure.max_open_warning`).\n",
      "  fig,ax1 = plt.subplots(figsize=(15,15),tight_layout=True)\n"
     ]
    },
    {
     "data": {
      "application/vnd.jupyter.widget-view+json": {
       "model_id": "a89f2cc67b714a5ab8f7feb2f1d492f8",
       "version_major": 2,
       "version_minor": 0
      },
      "text/plain": [
       "Canvas(toolbar=Toolbar(toolitems=[('Home', 'Reset original view', 'home', 'home'), ('Back', 'Back to previous …"
      ]
     },
     "metadata": {},
     "output_type": "display_data"
    },
    {
     "data": {
      "application/vnd.jupyter.widget-view+json": {
       "model_id": "34dbdaad5951498ca0f596832425219e",
       "version_major": 2,
       "version_minor": 0
      },
      "text/plain": [
       "Canvas(toolbar=Toolbar(toolitems=[('Home', 'Reset original view', 'home', 'home'), ('Back', 'Back to previous …"
      ]
     },
     "metadata": {},
     "output_type": "display_data"
    },
    {
     "data": {
      "application/vnd.jupyter.widget-view+json": {
       "model_id": "1217748fb09c4a67a8531720bf84e0aa",
       "version_major": 2,
       "version_minor": 0
      },
      "text/plain": [
       "Canvas(toolbar=Toolbar(toolitems=[('Home', 'Reset original view', 'home', 'home'), ('Back', 'Back to previous …"
      ]
     },
     "metadata": {},
     "output_type": "display_data"
    }
   ],
   "source": [
    "\n",
    "for curAge in df.Aldersgruppe.unique()[:-1]:\n",
    "\n",
    "    fig,ax1 = plt.subplots(figsize=(15,15),tight_layout=True) \n",
    "\n",
    "    divider = make_axes_locatable(ax1)\n",
    "    cax = divider.append_axes(\"left\", size=\"5%\", pad=0.01)\n",
    "\n",
    "    fig.patch.set_facecolor('xkcd:off white')\n",
    "    ax1.set_facecolor('xkcd:off white')\n",
    "\n",
    "\n",
    "    # vmax = np.round(curgdf[curAge].max()/5)*5 + 5\n",
    "    # curRangeToShow = np.arange(0,vmax,2.5)\n",
    "    vmax = 60\n",
    "    vmax = 40\n",
    "    curRangeToShow = np.arange(0,vmax,5)\n",
    "    cmap = matplotlib.colors.LinearSegmentedColormap.from_list(\"\", [\"xkcd:dark yellow\",\"gray\",\"xkcd:green\"],N=len(curRangeToShow))\n",
    "    curgdf.plot(ax=ax1,column = curAge,cmap=cmap,vmax=vmax,vmin=0,legend=True, cax=cax)\n",
    "\n",
    "\n",
    "    # Remove axes\n",
    "    ax1.set_xticks([])\n",
    "    ax1.set_yticks([])\n",
    "    ax1.spines['right'].set_visible(False)\n",
    "    ax1.spines['top'].set_visible(False)\n",
    "    ax1.spines['left'].set_visible(False)\n",
    "    ax1.spines['bottom'].set_visible(False)\n",
    "\n",
    "    ax1.set_title(f'Naturlig immunitet fra Omikron smitte, {curAge} årige')\n",
    "    cax.yaxis.set_label_position(\"left\")\n",
    "    cax.yaxis.tick_left()\n",
    "    textFirstDate = pd.to_datetime(firstDate).strftime('%#d. %B')\n",
    "    cax.set_ylabel(f'Andel af {curAge} årige smittet siden {textFirstDate} [%]')\n",
    "\n",
    "    fig.savefig(path_figs+f'Maps\\\\Kommune_{curAge}')"
   ]
  },
  {
   "cell_type": "code",
   "execution_count": 32,
   "metadata": {},
   "outputs": [],
   "source": [
    "plt.close('all')"
   ]
  },
  {
   "cell_type": "markdown",
   "metadata": {},
   "source": [
    "# Make a map of the current age-specific incidence"
   ]
  },
  {
   "cell_type": "code",
   "execution_count": 33,
   "metadata": {},
   "outputs": [],
   "source": [
    "\n",
    "# curDates,curCounts,curPerc = getCurrentAgeCounts('København','3-5')\n",
    "# 100*rnMean(curPerc,7)"
   ]
  },
  {
   "cell_type": "code",
   "execution_count": 34,
   "metadata": {},
   "outputs": [],
   "source": [
    "\n",
    "curDays,curCount,curPerc = getKommuneCount('København')\n",
    "# getKommuneCount('København')\n",
    "# curPerc"
   ]
  },
  {
   "cell_type": "code",
   "execution_count": 35,
   "metadata": {},
   "outputs": [],
   "source": [
    "incigdf = curgdf.copy()\n",
    "for curKom in allKoms:\n",
    "        \n",
    "    curDays,curCount,curPerc = getKommuneCount(curKom)\n",
    "\n",
    "    firstDate = np.datetime64('2021-12-01')\n",
    "    # firstDate = np.datetime64('2021-09-01')\n",
    "    curCount = curCount[curDays >= firstDate]\n",
    "    curPerc = curPerc[curDays >= firstDate]\n",
    "    curDays = curDays[curDays >= firstDate]\n",
    "\n",
    "    # curVal = np.cumsum(curPerc)[-1]\n",
    "    curVal = rnMean(curPerc,7)[-1]\n",
    "\n",
    "    # [cmap(x/7) for x in posVals]\n",
    "    curColor = cmap(curVal)\n",
    "\n",
    "\n",
    "    curKomGdf = curKom\n",
    "    if (curKom == 'Aabenraa'):\n",
    "        curKomGdf = 'Åbenrå'\n",
    "    if (curKom == 'Nordfyn'):\n",
    "        curKomGdf = 'Nordfyns'\n",
    "    if (curKom == 'København'):\n",
    "        curKomGdf = 'Københavns'\n",
    "    if (curKom == 'Bornholm'):\n",
    "        curKomGdf = 'Bornholms'\n",
    "    if (curKom == 'Faaborg-Midtfyn'):\n",
    "        curKomGdf = 'Fåborg-Midtfyn'\n",
    "    if (curKom == 'Lyngby-Taarbæk'):\n",
    "        curKomGdf = 'Lyngby-Tårbæk'\n",
    "        \n",
    "    incigdf.loc[incigdf.navn == (curKomGdf+' Kommune'),'TotalIncidence'] = curVal\n",
    "    try: \n",
    "        for curAge in df.Aldersgruppe.unique()[:-1]:\n",
    "            # curVal = getCurrentAgeCumulative(curKom,curAge)\n",
    "            \n",
    "            curDates,curCounts,curPerc = getCurrentAgeCounts(curKom,curAge)\n",
    "            curVal = 100*rnMean(curPerc,7)[-1]\n",
    "            incigdf.loc[incigdf.navn == (curKomGdf+' Kommune'),curAge] = curVal\n",
    "    except:\n",
    "        print(curKom)\n"
   ]
  },
  {
   "cell_type": "code",
   "execution_count": 36,
   "metadata": {},
   "outputs": [
    {
     "data": {
      "text/html": [
       "<div>\n",
       "<style scoped>\n",
       "    .dataframe tbody tr th:only-of-type {\n",
       "        vertical-align: middle;\n",
       "    }\n",
       "\n",
       "    .dataframe tbody tr th {\n",
       "        vertical-align: top;\n",
       "    }\n",
       "\n",
       "    .dataframe thead th {\n",
       "        text-align: right;\n",
       "    }\n",
       "</style>\n",
       "<table border=\"1\" class=\"dataframe\">\n",
       "  <thead>\n",
       "    <tr style=\"text-align: right;\">\n",
       "      <th></th>\n",
       "      <th>objectid</th>\n",
       "      <th>navn</th>\n",
       "      <th>enhedid</th>\n",
       "      <th>fra</th>\n",
       "      <th>til</th>\n",
       "      <th>enhedtype</th>\n",
       "      <th>art</th>\n",
       "      <th>SHAPE_Leng</th>\n",
       "      <th>SHAPE_Area</th>\n",
       "      <th>geometry</th>\n",
       "      <th>...</th>\n",
       "      <th>0-2</th>\n",
       "      <th>3-5</th>\n",
       "      <th>6-11</th>\n",
       "      <th>12-15</th>\n",
       "      <th>16-19</th>\n",
       "      <th>20-39</th>\n",
       "      <th>40-64</th>\n",
       "      <th>65-79</th>\n",
       "      <th>80+</th>\n",
       "      <th>TotalIncidence</th>\n",
       "    </tr>\n",
       "  </thead>\n",
       "  <tbody>\n",
       "    <tr>\n",
       "      <th>0</th>\n",
       "      <td>105388.0</td>\n",
       "      <td>Horsens Kommune</td>\n",
       "      <td>121077.0</td>\n",
       "      <td>2007-01-01</td>\n",
       "      <td>9999-12-31</td>\n",
       "      <td>64.0</td>\n",
       "      <td>Kommune</td>\n",
       "      <td>246469.100007</td>\n",
       "      <td>5.191999e+08</td>\n",
       "      <td>MULTIPOLYGON Z (((585139.647 6187541.974 0.000...</td>\n",
       "      <td>...</td>\n",
       "      <td>0.411653</td>\n",
       "      <td>1.102015</td>\n",
       "      <td>1.265300</td>\n",
       "      <td>1.490407</td>\n",
       "      <td>0.946873</td>\n",
       "      <td>0.838352</td>\n",
       "      <td>0.670747</td>\n",
       "      <td>0.260249</td>\n",
       "      <td>0.099157</td>\n",
       "      <td>0.704812</td>\n",
       "    </tr>\n",
       "    <tr>\n",
       "      <th>1</th>\n",
       "      <td>105384.0</td>\n",
       "      <td>Vejle Kommune</td>\n",
       "      <td>121073.0</td>\n",
       "      <td>2007-01-01</td>\n",
       "      <td>9999-12-31</td>\n",
       "      <td>64.0</td>\n",
       "      <td>Kommune</td>\n",
       "      <td>237518.089342</td>\n",
       "      <td>1.058254e+09</td>\n",
       "      <td>MULTIPOLYGON Z (((544840.271 6163582.786 0.000...</td>\n",
       "      <td>...</td>\n",
       "      <td>0.408991</td>\n",
       "      <td>0.984103</td>\n",
       "      <td>1.223840</td>\n",
       "      <td>1.633411</td>\n",
       "      <td>0.893002</td>\n",
       "      <td>0.745222</td>\n",
       "      <td>0.644882</td>\n",
       "      <td>0.216375</td>\n",
       "      <td>0.146574</td>\n",
       "      <td>0.682017</td>\n",
       "    </tr>\n",
       "    <tr>\n",
       "      <th>2</th>\n",
       "      <td>105385.0</td>\n",
       "      <td>Åbenrå Kommune</td>\n",
       "      <td>121074.0</td>\n",
       "      <td>2007-01-01</td>\n",
       "      <td>9999-12-31</td>\n",
       "      <td>64.0</td>\n",
       "      <td>Kommune</td>\n",
       "      <td>217483.507697</td>\n",
       "      <td>9.407096e+08</td>\n",
       "      <td>MULTIPOLYGON Z (((511855.887 6079619.361 0.000...</td>\n",
       "      <td>...</td>\n",
       "      <td>0.715595</td>\n",
       "      <td>1.483680</td>\n",
       "      <td>1.775056</td>\n",
       "      <td>1.737921</td>\n",
       "      <td>1.148084</td>\n",
       "      <td>0.950356</td>\n",
       "      <td>0.616410</td>\n",
       "      <td>0.215483</td>\n",
       "      <td>0.101889</td>\n",
       "      <td>0.753548</td>\n",
       "    </tr>\n",
       "    <tr>\n",
       "      <th>3</th>\n",
       "      <td>105386.0</td>\n",
       "      <td>Favrskov Kommune</td>\n",
       "      <td>121075.0</td>\n",
       "      <td>2007-01-01</td>\n",
       "      <td>9999-12-31</td>\n",
       "      <td>64.0</td>\n",
       "      <td>Kommune</td>\n",
       "      <td>185712.187147</td>\n",
       "      <td>5.402442e+08</td>\n",
       "      <td>MULTIPOLYGON Z (((548072.263 6238876.656 0.000...</td>\n",
       "      <td>...</td>\n",
       "      <td>0.450291</td>\n",
       "      <td>1.157200</td>\n",
       "      <td>1.393458</td>\n",
       "      <td>1.303138</td>\n",
       "      <td>1.040892</td>\n",
       "      <td>0.985328</td>\n",
       "      <td>0.725103</td>\n",
       "      <td>0.195936</td>\n",
       "      <td>0.171456</td>\n",
       "      <td>0.770060</td>\n",
       "    </tr>\n",
       "    <tr>\n",
       "      <th>4</th>\n",
       "      <td>105387.0</td>\n",
       "      <td>Hedensted Kommune</td>\n",
       "      <td>121076.0</td>\n",
       "      <td>2007-01-01</td>\n",
       "      <td>9999-12-31</td>\n",
       "      <td>64.0</td>\n",
       "      <td>Kommune</td>\n",
       "      <td>201591.999558</td>\n",
       "      <td>5.511563e+08</td>\n",
       "      <td>MULTIPOLYGON Z (((567515.496 6188130.593 0.000...</td>\n",
       "      <td>...</td>\n",
       "      <td>0.382653</td>\n",
       "      <td>0.999135</td>\n",
       "      <td>1.661941</td>\n",
       "      <td>1.481562</td>\n",
       "      <td>1.092803</td>\n",
       "      <td>0.848609</td>\n",
       "      <td>0.606397</td>\n",
       "      <td>0.221846</td>\n",
       "      <td>0.114479</td>\n",
       "      <td>0.713876</td>\n",
       "    </tr>\n",
       "  </tbody>\n",
       "</table>\n",
       "<p>5 rows × 21 columns</p>\n",
       "</div>"
      ],
      "text/plain": [
       "   objectid               navn   enhedid         fra         til  enhedtype  \\\n",
       "0  105388.0    Horsens Kommune  121077.0  2007-01-01  9999-12-31       64.0   \n",
       "1  105384.0      Vejle Kommune  121073.0  2007-01-01  9999-12-31       64.0   \n",
       "2  105385.0     Åbenrå Kommune  121074.0  2007-01-01  9999-12-31       64.0   \n",
       "3  105386.0   Favrskov Kommune  121075.0  2007-01-01  9999-12-31       64.0   \n",
       "4  105387.0  Hedensted Kommune  121076.0  2007-01-01  9999-12-31       64.0   \n",
       "\n",
       "       art     SHAPE_Leng    SHAPE_Area  \\\n",
       "0  Kommune  246469.100007  5.191999e+08   \n",
       "1  Kommune  237518.089342  1.058254e+09   \n",
       "2  Kommune  217483.507697  9.407096e+08   \n",
       "3  Kommune  185712.187147  5.402442e+08   \n",
       "4  Kommune  201591.999558  5.511563e+08   \n",
       "\n",
       "                                            geometry  ...       0-2       3-5  \\\n",
       "0  MULTIPOLYGON Z (((585139.647 6187541.974 0.000...  ...  0.411653  1.102015   \n",
       "1  MULTIPOLYGON Z (((544840.271 6163582.786 0.000...  ...  0.408991  0.984103   \n",
       "2  MULTIPOLYGON Z (((511855.887 6079619.361 0.000...  ...  0.715595  1.483680   \n",
       "3  MULTIPOLYGON Z (((548072.263 6238876.656 0.000...  ...  0.450291  1.157200   \n",
       "4  MULTIPOLYGON Z (((567515.496 6188130.593 0.000...  ...  0.382653  0.999135   \n",
       "\n",
       "       6-11     12-15     16-19     20-39     40-64     65-79       80+  \\\n",
       "0  1.265300  1.490407  0.946873  0.838352  0.670747  0.260249  0.099157   \n",
       "1  1.223840  1.633411  0.893002  0.745222  0.644882  0.216375  0.146574   \n",
       "2  1.775056  1.737921  1.148084  0.950356  0.616410  0.215483  0.101889   \n",
       "3  1.393458  1.303138  1.040892  0.985328  0.725103  0.195936  0.171456   \n",
       "4  1.661941  1.481562  1.092803  0.848609  0.606397  0.221846  0.114479   \n",
       "\n",
       "   TotalIncidence  \n",
       "0        0.704812  \n",
       "1        0.682017  \n",
       "2        0.753548  \n",
       "3        0.770060  \n",
       "4        0.713876  \n",
       "\n",
       "[5 rows x 21 columns]"
      ]
     },
     "execution_count": 36,
     "metadata": {},
     "output_type": "execute_result"
    }
   ],
   "source": [
    "incigdf.head()\n",
    "# curgdf.head()\n",
    "# # curDays,curCount,curPerc = getKommuneCount('Horsens')\n",
    "\n",
    "# # plt.figure()\n",
    "# # plt.plot(rnTime(curDays,7),rnMean(curPerc,7))\n",
    "\n",
    "# curDates,curCounts,curPerc = getCurrentAgeCounts(curKom,curAge)\n",
    "\n",
    "# curVal = 100*rnMean(curPerc,7)[-1]\n",
    "# curVal"
   ]
  },
  {
   "cell_type": "code",
   "execution_count": 37,
   "metadata": {},
   "outputs": [
    {
     "name": "stderr",
     "output_type": "stream",
     "text": [
      "<ipython-input-37-d4cb6b96dd80>:4: FutureWarning: Dropping of nuisance columns in DataFrame reductions (with 'numeric_only=None') is deprecated; in a future version this will raise TypeError.  Select only valid columns before calling the reduction.\n",
      "  incigdf.max()\n"
     ]
    },
    {
     "data": {
      "text/plain": [
       "objectid               105403.0\n",
       "navn                Ærø Kommune\n",
       "enhedid                121104.0\n",
       "fra                  2011-11-27\n",
       "til                  9999-12-31\n",
       "enhedtype                  64.0\n",
       "art                     Kommune\n",
       "SHAPE_Leng        492225.888514\n",
       "SHAPE_Area        1469524168.48\n",
       "TotalImmunity         26.445892\n",
       "0-2                    0.745774\n",
       "3-5                    1.555465\n",
       "6-11                   2.040816\n",
       "12-15                  2.510917\n",
       "16-19                  1.571268\n",
       "20-39                  1.231246\n",
       "40-64                    0.8502\n",
       "65-79                  0.341708\n",
       "80+                    0.300266\n",
       "TotalIncidence         0.906102\n",
       "dtype: object"
      ]
     },
     "execution_count": 37,
     "metadata": {},
     "output_type": "execute_result"
    }
   ],
   "source": [
    "df.Aldersgruppe.unique()[1]\n",
    "df.Aldersgruppe.unique()[1]\n",
    "curAge\n",
    "incigdf.max()"
   ]
  },
  {
   "cell_type": "code",
   "execution_count": null,
   "metadata": {},
   "outputs": [],
   "source": []
  },
  {
   "cell_type": "code",
   "execution_count": 38,
   "metadata": {},
   "outputs": [
    {
     "data": {
      "application/vnd.jupyter.widget-view+json": {
       "model_id": "7ee5b7dee4f1458a8246614024f5b062",
       "version_major": 2,
       "version_minor": 0
      },
      "text/plain": [
       "Canvas(toolbar=Toolbar(toolitems=[('Home', 'Reset original view', 'home', 'home'), ('Back', 'Back to previous …"
      ]
     },
     "metadata": {},
     "output_type": "display_data"
    }
   ],
   "source": [
    "\n",
    "\n",
    "fig,ax1 = plt.subplots(figsize=(15,15),tight_layout=True) \n",
    "\n",
    "divider = make_axes_locatable(ax1)\n",
    "cax = divider.append_axes(\"left\", size=\"5%\", pad=0.01)\n",
    "\n",
    "fig.patch.set_facecolor('xkcd:off white')\n",
    "ax1.set_facecolor('xkcd:off white')\n",
    "\n",
    "# vmax = np.round(curgdf[curAge].max()/5)*5 + 5\n",
    "# curRangeToShow = np.arange(0,vmax,2.5)\n",
    "vmax = 1\n",
    "curRangeToShow = np.arange(0,vmax,0.05)\n",
    "# cmap = matplotlib.colors.LinearSegmentedColormap.from_list(\"\", [\"xkcd:dark red\",\"k\",\"xkcd:green\"],N=len(curRangeToShow))\n",
    "cmap = matplotlib.colors.LinearSegmentedColormap.from_list(\"\", [\"k\",\"xkcd:blue\", \"xkcd:red\",\"xkcd:dark red\"],N=len(curRangeToShow))\n",
    "incigdf.plot(ax=ax1,column = 'TotalIncidence',cmap=cmap,vmax=vmax,vmin=0,legend=True, cax=cax)\n",
    "\n",
    "\n",
    "# Remove axes\n",
    "ax1.set_xticks([])\n",
    "ax1.set_yticks([])\n",
    "ax1.spines['right'].set_visible(False)\n",
    "ax1.spines['top'].set_visible(False)\n",
    "ax1.spines['left'].set_visible(False)\n",
    "ax1.spines['bottom'].set_visible(False)\n",
    "\n",
    "ax1.set_title(f'Incidens per 100.000 borgere, samlet befolkning')\n",
    "cax.yaxis.set_label_position(\"left\")\n",
    "cax.yaxis.tick_left()\n",
    "textFirstDate = pd.to_datetime(firstDate).strftime('%#d. %B')\n",
    "cax.set_ylabel(f'Incidens per 100.000 borgere, samlet befolkning')\n",
    "\n",
    "fig.savefig(path_figs+f'Maps\\\\Kommune_Incidens_Total')"
   ]
  },
  {
   "cell_type": "code",
   "execution_count": 39,
   "metadata": {},
   "outputs": [
    {
     "data": {
      "application/vnd.jupyter.widget-view+json": {
       "model_id": "58e65bbc051a4f16b83ecb375b38e963",
       "version_major": 2,
       "version_minor": 0
      },
      "text/plain": [
       "Canvas(toolbar=Toolbar(toolitems=[('Home', 'Reset original view', 'home', 'home'), ('Back', 'Back to previous …"
      ]
     },
     "metadata": {},
     "output_type": "display_data"
    },
    {
     "data": {
      "application/vnd.jupyter.widget-view+json": {
       "model_id": "c54a047a9a1748ff9f7b34560d1eca8d",
       "version_major": 2,
       "version_minor": 0
      },
      "text/plain": [
       "Canvas(toolbar=Toolbar(toolitems=[('Home', 'Reset original view', 'home', 'home'), ('Back', 'Back to previous …"
      ]
     },
     "metadata": {},
     "output_type": "display_data"
    },
    {
     "data": {
      "application/vnd.jupyter.widget-view+json": {
       "model_id": "9f09622239aa4dcf9d25a943530b4499",
       "version_major": 2,
       "version_minor": 0
      },
      "text/plain": [
       "Canvas(toolbar=Toolbar(toolitems=[('Home', 'Reset original view', 'home', 'home'), ('Back', 'Back to previous …"
      ]
     },
     "metadata": {},
     "output_type": "display_data"
    },
    {
     "data": {
      "application/vnd.jupyter.widget-view+json": {
       "model_id": "e4b9a530b06949a58e4e74563438c589",
       "version_major": 2,
       "version_minor": 0
      },
      "text/plain": [
       "Canvas(toolbar=Toolbar(toolitems=[('Home', 'Reset original view', 'home', 'home'), ('Back', 'Back to previous …"
      ]
     },
     "metadata": {},
     "output_type": "display_data"
    },
    {
     "data": {
      "application/vnd.jupyter.widget-view+json": {
       "model_id": "24efd5a497a34313ae7b8198d9b55f4c",
       "version_major": 2,
       "version_minor": 0
      },
      "text/plain": [
       "Canvas(toolbar=Toolbar(toolitems=[('Home', 'Reset original view', 'home', 'home'), ('Back', 'Back to previous …"
      ]
     },
     "metadata": {},
     "output_type": "display_data"
    },
    {
     "data": {
      "application/vnd.jupyter.widget-view+json": {
       "model_id": "e059755932e54fbc8f7160b7a2160bab",
       "version_major": 2,
       "version_minor": 0
      },
      "text/plain": [
       "Canvas(toolbar=Toolbar(toolitems=[('Home', 'Reset original view', 'home', 'home'), ('Back', 'Back to previous …"
      ]
     },
     "metadata": {},
     "output_type": "display_data"
    },
    {
     "data": {
      "application/vnd.jupyter.widget-view+json": {
       "model_id": "46eba9ea97c24fae9b4fc6630e161937",
       "version_major": 2,
       "version_minor": 0
      },
      "text/plain": [
       "Canvas(toolbar=Toolbar(toolitems=[('Home', 'Reset original view', 'home', 'home'), ('Back', 'Back to previous …"
      ]
     },
     "metadata": {},
     "output_type": "display_data"
    },
    {
     "data": {
      "application/vnd.jupyter.widget-view+json": {
       "model_id": "cbd1714c844c429ab65f3fddf928aaf4",
       "version_major": 2,
       "version_minor": 0
      },
      "text/plain": [
       "Canvas(toolbar=Toolbar(toolitems=[('Home', 'Reset original view', 'home', 'home'), ('Back', 'Back to previous …"
      ]
     },
     "metadata": {},
     "output_type": "display_data"
    },
    {
     "data": {
      "application/vnd.jupyter.widget-view+json": {
       "model_id": "21104b14bb294a80a8c5ec8e297f2c37",
       "version_major": 2,
       "version_minor": 0
      },
      "text/plain": [
       "Canvas(toolbar=Toolbar(toolitems=[('Home', 'Reset original view', 'home', 'home'), ('Back', 'Back to previous …"
      ]
     },
     "metadata": {},
     "output_type": "display_data"
    }
   ],
   "source": [
    "\n",
    "for curAge in df.Aldersgruppe.unique()[:-1]:\n",
    "# for curAge in df.Aldersgruppe.unique()[1:2]:\n",
    "\n",
    "    fig,ax1 = plt.subplots(figsize=(15,15),tight_layout=True) \n",
    "\n",
    "    divider = make_axes_locatable(ax1)\n",
    "    cax = divider.append_axes(\"left\", size=\"5%\", pad=0.01)\n",
    "\n",
    "    fig.patch.set_facecolor('xkcd:off white')\n",
    "    ax1.set_facecolor('xkcd:off white')\n",
    "\n",
    "    # vmax = np.round(curgdf[curAge].max()/5)*5 + 5\n",
    "    # curRangeToShow = np.arange(0,vmax,2.5)\n",
    "    vmax = 2.5\n",
    "    curRangeToShow = np.arange(0,vmax,0.05)\n",
    "    # cmap = matplotlib.colors.LinearSegmentedColormap.from_list(\"\", [\"xkcd:dark red\",\"k\",\"xkcd:green\"],N=len(curRangeToShow))\n",
    "    cmap = matplotlib.colors.LinearSegmentedColormap.from_list(\"\", [\"k\",\"xkcd:blue\", \"xkcd:red\",\"xkcd:dark red\"],N=len(curRangeToShow))\n",
    "    incigdf.plot(ax=ax1,column = curAge,cmap=cmap,vmax=vmax,vmin=0,legend=True, cax=cax)\n",
    "\n",
    "\n",
    "    # Remove axes\n",
    "    ax1.set_xticks([])\n",
    "    ax1.set_yticks([])\n",
    "    ax1.spines['right'].set_visible(False)\n",
    "    ax1.spines['top'].set_visible(False)\n",
    "    ax1.spines['left'].set_visible(False)\n",
    "    ax1.spines['bottom'].set_visible(False)\n",
    "\n",
    "    ax1.set_title(f'Incidens per 100.000 borgere, {curAge} årige')\n",
    "    cax.yaxis.set_label_position(\"left\")\n",
    "    cax.yaxis.tick_left()\n",
    "    textFirstDate = pd.to_datetime(firstDate).strftime('%#d. %B')\n",
    "    cax.set_ylabel(f'Incidens per 100.000 borgere, {curAge} årige')\n",
    "\n",
    "    fig.savefig(path_figs+f'Maps\\\\Kommune_Incidens_{curAge}')"
   ]
  }
 ],
 "metadata": {
  "interpreter": {
   "hash": "c031fd63bd977d199cd6020c30a19695eacbb638d100e0b8a5ea53080ed74a9a"
  },
  "kernelspec": {
   "display_name": "Python 3.8.12 64-bit ('main': conda)",
   "language": "python",
   "name": "python3"
  },
  "language_info": {
   "codemirror_mode": {
    "name": "ipython",
    "version": 3
   },
   "file_extension": ".py",
   "mimetype": "text/x-python",
   "name": "python",
   "nbconvert_exporter": "python",
   "pygments_lexer": "ipython3",
   "version": "3.8.12"
  },
  "orig_nbformat": 4
 },
 "nbformat": 4,
 "nbformat_minor": 2
}
