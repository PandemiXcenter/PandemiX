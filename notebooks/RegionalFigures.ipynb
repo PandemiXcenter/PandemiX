{
 "cells": [
  {
   "cell_type": "code",
   "execution_count": 1,
   "metadata": {},
   "outputs": [
    {
     "name": "stdout",
     "output_type": "stream",
     "text": [
      "saveFigures is set to: True\n",
      "Done loading packages\n"
     ]
    }
   ],
   "source": [
    "# Load packages and settings\n",
    "import numpy as np\n",
    "import pandas as pd\n",
    "pd.set_option('display.max_rows', 500)\n",
    "pd.set_option('display.min_rows', 50)\n",
    "import seaborn as sns\n",
    "\n",
    "\n",
    "import matplotlib.pyplot as plt\n",
    "%matplotlib widget\n",
    "plt.rcParams['figure.figsize'] = (12,8)\n",
    "plt.rcParams[\"image.cmap\"] = \"tab10\"\n",
    "plt.rcParams['axes.prop_cycle'] = plt.cycler(color=plt.cm.tab10.colors)\n",
    "fs_label = 16\n",
    "parameters = {\n",
    "                'axes.labelsize': fs_label,\n",
    "                'axes.titlesize': fs_label+4,\n",
    "                'xtick.labelsize': fs_label,\n",
    "                'ytick.labelsize': fs_label, \n",
    "                'legend.fontsize': fs_label, \n",
    "                'lines.markersize': 10,\n",
    "                'lines.linewidth': 3\n",
    "             }\n",
    "plt.rcParams.update(parameters)\n",
    "%matplotlib widget\n",
    "from matplotlib import cm # Colormaps\n",
    "import matplotlib.colors as colors\n",
    "# cmap = plt.cm.get_cmap('Dark2',len(ageGroups))\n",
    "\n",
    "import locale\n",
    "import matplotlib.dates as mdates\n",
    "locale.setlocale(locale.LC_TIME,\"Danish\")\n",
    "# ax1.xaxis.set_major_formatter(mdates.DateFormatter('%b\\n%Y'))\n",
    "# ax1.spines['top'].set_visible(False) \n",
    "\n",
    "import os\n",
    "# import csv\n",
    "import math\n",
    "\n",
    "from datetime import date\n",
    "\n",
    "\n",
    "saveFigures = True\n",
    "# saveFigures = False\n",
    "print('saveFigures is set to: '+str(saveFigures))\n",
    "\n",
    "print('Done loading packages')\n",
    "\n",
    "# Define running mean functions\n",
    "def rnMean(data,meanWidth):\n",
    "    return np.convolve(data, np.ones(meanWidth)/meanWidth, mode='valid')\n",
    "def rnTime(t,meanWidth):\n",
    "    return t[math.floor(meanWidth/2):-math.ceil(meanWidth/2)+1]"
   ]
  },
  {
   "cell_type": "code",
   "execution_count": 2,
   "metadata": {},
   "outputs": [],
   "source": [
    "# Define paths\n",
    "rootdir_data = os.getcwd() +\"\\\\..\\\\DanskeData\\\\\" \n",
    "\n",
    "path_data = rootdir_data + \"ssi_data\\\\\"\n",
    "path_dash = rootdir_data + \"ssi_dashboard\\\\\"\n",
    "path_vacc = rootdir_data + \"ssi_vacc\\\\\"\n",
    "\n",
    "path_figs = os.getcwd() +\"\\\\..\\\\Figures\\\\\" "
   ]
  },
  {
   "cell_type": "code",
   "execution_count": 51,
   "metadata": {},
   "outputs": [
    {
     "data": {
      "text/html": [
       "<div>\n",
       "<style scoped>\n",
       "    .dataframe tbody tr th:only-of-type {\n",
       "        vertical-align: middle;\n",
       "    }\n",
       "\n",
       "    .dataframe tbody tr th {\n",
       "        vertical-align: top;\n",
       "    }\n",
       "\n",
       "    .dataframe thead th {\n",
       "        text-align: right;\n",
       "    }\n",
       "</style>\n",
       "<table border=\"1\" class=\"dataframe\">\n",
       "  <thead>\n",
       "    <tr style=\"text-align: right;\">\n",
       "      <th></th>\n",
       "      <th>Region</th>\n",
       "      <th>Bekræftede tilfælde</th>\n",
       "      <th>Incidens</th>\n",
       "      <th>Bekræftede tilfælde de senest 7 dage</th>\n",
       "      <th>Incidens de seneste 7 dage</th>\n",
       "      <th>Testede</th>\n",
       "      <th>Test incidens</th>\n",
       "      <th>Testede de seneste 7 dage</th>\n",
       "      <th>Test incidens de seneste 7 dage</th>\n",
       "      <th>Positivprocent de seneste 7 dage</th>\n",
       "      <th>antal_bor</th>\n",
       "    </tr>\n",
       "  </thead>\n",
       "  <tbody>\n",
       "    <tr>\n",
       "      <th>0</th>\n",
       "      <td>Hovedstaden</td>\n",
       "      <td>380466</td>\n",
       "      <td>20433</td>\n",
       "      <td>45170</td>\n",
       "      <td>2426</td>\n",
       "      <td>1722963</td>\n",
       "      <td>92531</td>\n",
       "      <td>288509</td>\n",
       "      <td>15494</td>\n",
       "      <td>15,66</td>\n",
       "      <td>1862046</td>\n",
       "    </tr>\n",
       "    <tr>\n",
       "      <th>1</th>\n",
       "      <td>Midtjylland</td>\n",
       "      <td>144153</td>\n",
       "      <td>10762</td>\n",
       "      <td>21640</td>\n",
       "      <td>1616</td>\n",
       "      <td>1188631</td>\n",
       "      <td>88739</td>\n",
       "      <td>180298</td>\n",
       "      <td>13460</td>\n",
       "      <td>12,00</td>\n",
       "      <td>1339467</td>\n",
       "    </tr>\n",
       "    <tr>\n",
       "      <th>2</th>\n",
       "      <td>Nordjylland</td>\n",
       "      <td>60170</td>\n",
       "      <td>10178</td>\n",
       "      <td>9437</td>\n",
       "      <td>1596</td>\n",
       "      <td>538273</td>\n",
       "      <td>91049</td>\n",
       "      <td>72188</td>\n",
       "      <td>12211</td>\n",
       "      <td>13,07</td>\n",
       "      <td>591192</td>\n",
       "    </tr>\n",
       "    <tr>\n",
       "      <th>3</th>\n",
       "      <td>Sjælland</td>\n",
       "      <td>111256</td>\n",
       "      <td>13218</td>\n",
       "      <td>15625</td>\n",
       "      <td>1856</td>\n",
       "      <td>743982</td>\n",
       "      <td>88388</td>\n",
       "      <td>121950</td>\n",
       "      <td>14488</td>\n",
       "      <td>12,81</td>\n",
       "      <td>841723</td>\n",
       "    </tr>\n",
       "    <tr>\n",
       "      <th>4</th>\n",
       "      <td>Syddanmark</td>\n",
       "      <td>120667</td>\n",
       "      <td>9836</td>\n",
       "      <td>18370</td>\n",
       "      <td>1497</td>\n",
       "      <td>1092441</td>\n",
       "      <td>89053</td>\n",
       "      <td>183793</td>\n",
       "      <td>14982</td>\n",
       "      <td>9,99</td>\n",
       "      <td>1226727</td>\n",
       "    </tr>\n",
       "  </tbody>\n",
       "</table>\n",
       "</div>"
      ],
      "text/plain": [
       "        Region  Bekræftede tilfælde  Incidens  \\\n",
       "0  Hovedstaden               380466     20433   \n",
       "1  Midtjylland               144153     10762   \n",
       "2  Nordjylland                60170     10178   \n",
       "3     Sjælland               111256     13218   \n",
       "4   Syddanmark               120667      9836   \n",
       "\n",
       "   Bekræftede tilfælde de senest 7 dage  Incidens de seneste 7 dage  Testede  \\\n",
       "0                                 45170                        2426  1722963   \n",
       "1                                 21640                        1616  1188631   \n",
       "2                                  9437                        1596   538273   \n",
       "3                                 15625                        1856   743982   \n",
       "4                                 18370                        1497  1092441   \n",
       "\n",
       "   Test incidens  Testede de seneste 7 dage  Test incidens de seneste 7 dage  \\\n",
       "0          92531                     288509                            15494   \n",
       "1          88739                     180298                            13460   \n",
       "2          91049                      72188                            12211   \n",
       "3          88388                     121950                            14488   \n",
       "4          89053                     183793                            14982   \n",
       "\n",
       "  Positivprocent de seneste 7 dage  antal_bor  \n",
       "0                            15,66    1862046  \n",
       "1                            12,00    1339467  \n",
       "2                            13,07     591192  \n",
       "3                            12,81     841723  \n",
       "4                             9,99    1226727  "
      ]
     },
     "execution_count": 51,
     "metadata": {},
     "output_type": "execute_result"
    }
   ],
   "source": [
    "latestsubdir = list(os.walk(path_dash))[0][1][-1]\n",
    "latestdir = path_dash + latestsubdir\n",
    "\n",
    "df = pd.read_csv(latestdir+'/Regionalt_DB/03_bekraeftede_tilfaelde_doede_indlagte_pr_dag_pr_koen.csv',encoding='latin1',delimiter = ';')\n",
    "df['Prøvetagningsdato'] = pd.to_datetime(df['Prøvetagningsdato'])\n",
    "\n",
    "kortdf  = pd.read_csv(latestdir+'/Regionalt_DB/13_regionale_kort.csv',encoding='latin1',delimiter = ';')\n",
    "kortdf"
   ]
  },
  {
   "cell_type": "code",
   "execution_count": 55,
   "metadata": {},
   "outputs": [],
   "source": [
    "allRegions = kortdf.Region.values\n",
    "borgerCount = kortdf.antal_bor.values\n"
   ]
  },
  {
   "cell_type": "code",
   "execution_count": 56,
   "metadata": {},
   "outputs": [
    {
     "data": {
      "application/vnd.jupyter.widget-view+json": {
       "model_id": "3184b8177a4e44e89f6b55520fdc57bb",
       "version_major": 2,
       "version_minor": 0
      },
      "text/plain": [
       "Canvas(toolbar=Toolbar(toolitems=[('Home', 'Reset original view', 'home', 'home'), ('Back', 'Back to previous …"
      ]
     },
     "metadata": {},
     "output_type": "display_data"
    },
    {
     "data": {
      "text/plain": [
       "[<matplotlib.lines.Line2D at 0x20d005ad220>]"
      ]
     },
     "execution_count": 56,
     "metadata": {},
     "output_type": "execute_result"
    }
   ],
   "source": [
    "# df.groupby('Køn').sum()\n",
    "# allRegions = df.Region.unique()\n",
    "\n",
    "groupdf = df.groupby(['Region','Prøvetagningsdato']).sum()\n",
    "# groupdf[groupdf.index == 'Hovedstaden']\n",
    "# groupdf.index.names\n",
    "curdf = groupdf.loc[allRegions[1],:,:]\n",
    "curDates = curdf.index.get_level_values(1)\n",
    "curCase = curdf['Bekræftede tilfælde']\n",
    "curAdm = curdf['Indlæggelser']\n",
    "curDea = curdf['Døde']\n",
    "\n",
    "fig,ax1 = plt.subplots()\n",
    "\n",
    "ax1.plot(curDates,curCase)"
   ]
  },
  {
   "cell_type": "code",
   "execution_count": null,
   "metadata": {},
   "outputs": [],
   "source": [
    "\n",
    "firstDate = np.datetime64('2021-10-01')\n",
    "lastDate = np.datetime64('2022-02-01')\n",
    "\n",
    "firstDateShort = np.datetime64('2021-10')\n",
    "lastDateShort = np.datetime64('2022-02')\n",
    "curXticks = np.arange(firstDateShort,lastDateShort+np.timedelta64(1,'M'))\n",
    "\n",
    "meanWidth= 7"
   ]
  },
  {
   "cell_type": "code",
   "execution_count": 218,
   "metadata": {},
   "outputs": [
    {
     "data": {
      "application/vnd.jupyter.widget-view+json": {
       "model_id": "2d0b321eaa0e4a05bfbec4bb870a4bc1",
       "version_major": 2,
       "version_minor": 0
      },
      "text/plain": [
       "Canvas(toolbar=Toolbar(toolitems=[('Home', 'Reset original view', 'home', 'home'), ('Back', 'Back to previous …"
      ]
     },
     "metadata": {},
     "output_type": "display_data"
    }
   ],
   "source": [
    "# Compare cases\n",
    "\n",
    "fig,allAxes = plt.subplots(2,3,figsize=(16,6),tight_layout=True)\n",
    "\n",
    "for k in range(1,6):\n",
    "    curRegion = allRegions[k-1]\n",
    "    # curBorgerCount = borgerCount[k-1]\n",
    "    curdf = groupdf.loc[curRegion,:,:]\n",
    "    curDates = curdf.index.get_level_values(1)\n",
    "    curCase = curdf['Bekræftede tilfælde']\n",
    "    # curAdm = curdf['Indlæggelser']\n",
    "    # curDea = curdf['Døde']\n",
    "\n",
    "    ax = allAxes.flatten()[k]\n",
    "    # ax.plot(curDates,curCase)\n",
    "    # ax.plot(curDates[:-1],curCase[:-1])\n",
    "    ax.plot(curDates[:-1],curCase[:-1],'k.:',markersize=4,linewidth=0.5,label='Data')\n",
    "    ax.plot(rnTime(curDates[:-1],meanWidth),rnMean(curCase[:-1],meanWidth),'k',label=f'{meanWidth} dages gennemsnit')\n",
    "\n",
    "    ax.set_xlim(firstDateShort,lastDateShort+np.timedelta64(12,'h'))\n",
    "    ax.set_xticks(curXticks)\n",
    "    ax.set_ylim(bottom=0)\n",
    "    ax.xaxis.set_major_formatter(mdates.DateFormatter('%b'))\n",
    "    ax.spines['top'].set_visible(False) \n",
    "    ax.spines['right'].set_visible(False) \n",
    "    ax.set_title(curRegion)\n",
    "    ax.grid()\n",
    "\n",
    "ax1 = allAxes.flatten()[0]\n",
    "ax1.axis('off')\n",
    "txt1 = 'Antal daglige\\ntilfælde'\n",
    "txt2 = 'Rasmus Kristoffer Pedersen\\n PandemiX Center, Roskilde Universitet\\n\\n\\nData fra SSI overvågningsdata, dashboard-fil\\n\\nFilnavn:\\n/Regionalt_DB/03_bekraeftede_tilfaelde_doede_indlagte_pr_dag_pr_koen.csv'\n",
    "ax1.text(0.5, 0.55,txt1,\n",
    "     horizontalalignment='center',\n",
    "     verticalalignment='bottom',\n",
    "     transform = ax1.transAxes,\n",
    "     fontsize=20)\n",
    "ax1.text(0.5, 0,txt2,\n",
    "     horizontalalignment='center',\n",
    "     verticalalignment='bottom',\n",
    "     transform = ax1.transAxes,\n",
    "     fontsize=7)\n",
    "\n",
    "allAxes.flatten()[1].legend(loc='upper left',fontsize=10)\n",
    "\n",
    "if saveFigures:\n",
    "     plt.savefig(path_figs+'/Regionalt/Cases')"
   ]
  },
  {
   "cell_type": "code",
   "execution_count": 217,
   "metadata": {},
   "outputs": [
    {
     "data": {
      "application/vnd.jupyter.widget-view+json": {
       "model_id": "a8edd23392a8472384056e54bbc71b71",
       "version_major": 2,
       "version_minor": 0
      },
      "text/plain": [
       "Canvas(toolbar=Toolbar(toolitems=[('Home', 'Reset original view', 'home', 'home'), ('Back', 'Back to previous …"
      ]
     },
     "metadata": {},
     "output_type": "display_data"
    }
   ],
   "source": [
    "# Compare admissions\n",
    "fig,allAxes = plt.subplots(2,3,figsize=(16,6),tight_layout=True)\n",
    "\n",
    "for k in range(1,6):\n",
    "    curRegion = allRegions[k-1]\n",
    "    # curBorgerCount = borgerCount[k-1]\n",
    "    curdf = groupdf.loc[curRegion,:,:]\n",
    "    curDates = curdf.index.get_level_values(1)\n",
    "    # curCase = curdf['Bekræftede tilfælde']\n",
    "    curAdm = curdf['Indlæggelser']\n",
    "    # curDea = curdf['Døde']\n",
    "\n",
    "    ax = allAxes.flatten()[k]\n",
    "    # ax.plot(curDates,curAdm)\n",
    "    # ax.plot(curDates[:-1],curAdm[:-1])\n",
    "    ax.plot(curDates[:-1],curAdm[:-1],'k.:',markersize=4,linewidth=0.5,label='Data')\n",
    "    ax.plot(rnTime(curDates[:-1],meanWidth),rnMean(curAdm[:-1],meanWidth),'k',label=f'{meanWidth} dages gennemsnit')\n",
    "\n",
    "    ax.set_xlim(firstDateShort,lastDateShort+np.timedelta64(12,'h'))\n",
    "    ax.set_xticks(curXticks)\n",
    "    ax.set_ylim(bottom=0)\n",
    "    ax.xaxis.set_major_formatter(mdates.DateFormatter('%b'))\n",
    "    ax.spines['top'].set_visible(False) \n",
    "    ax.spines['right'].set_visible(False) \n",
    "    ax.set_title(curRegion)\n",
    "    ax.grid()\n",
    "\n",
    "ax1 = allAxes.flatten()[0]\n",
    "ax1.axis('off')\n",
    "txt1 = 'Antal daglige\\nnyindlæggelser'\n",
    "txt2 = 'Rasmus Kristoffer Pedersen\\n PandemiX Center, Roskilde Universitet\\n\\n\\nData fra SSI overvågningsdata, dashboard-fil\\n\\nFilnavn:\\n/Regionalt_DB/03_bekraeftede_tilfaelde_doede_indlagte_pr_dag_pr_koen.csv'\n",
    "# txt2 = 'Data fra SSI overvågningsdata, dashboard-fil\\n\\nFilnavn:\\n/Regionalt_DB/03_bekraeftede_tilfaelde_doede_indlagte_pr_dag_pr_koen.csv\\n\\nRasmus Kristoffer Pedersen\\n PandemiX Center, Roskilde Universitet'\n",
    "ax1.text(0.5, 0.55,txt1,\n",
    "     horizontalalignment='center',\n",
    "     verticalalignment='bottom',\n",
    "     transform = ax1.transAxes,\n",
    "     fontsize=20)\n",
    "ax1.text(0.5, 0,txt2,\n",
    "     horizontalalignment='center',\n",
    "     verticalalignment='bottom',\n",
    "     transform = ax1.transAxes,\n",
    "     fontsize=7)\n",
    "\n",
    "allAxes.flatten()[1].legend(loc='upper left',fontsize=10)\n",
    "\n",
    "if saveFigures:\n",
    "     plt.savefig(path_figs+'/Regionalt/Nyindlagte')"
   ]
  },
  {
   "cell_type": "code",
   "execution_count": 222,
   "metadata": {},
   "outputs": [
    {
     "data": {
      "application/vnd.jupyter.widget-view+json": {
       "model_id": "1e44c73bd1ee4ee6b0a364f8b73062c8",
       "version_major": 2,
       "version_minor": 0
      },
      "text/plain": [
       "Canvas(toolbar=Toolbar(toolitems=[('Home', 'Reset original view', 'home', 'home'), ('Back', 'Back to previous …"
      ]
     },
     "metadata": {},
     "output_type": "display_data"
    }
   ],
   "source": [
    "# Compare cases, normalized by antal_bor\n",
    "\n",
    "\n",
    "fig,allAxes = plt.subplots(2,3,sharey=True,figsize=(16,6),tight_layout=True)\n",
    "\n",
    "# allMaxs = []\n",
    "\n",
    "for k in range(1,6):\n",
    "    curRegion = allRegions[k-1]\n",
    "    curBorgerCount = borgerCount[k-1]\n",
    "    curdf = groupdf.loc[curRegion,:,:]\n",
    "    curDates = curdf.index.get_level_values(1)\n",
    "    curCase = curdf['Bekræftede tilfælde']\n",
    "\n",
    "    ax = allAxes.flatten()[k]\n",
    "\n",
    "    # ax.plot(curDates[:-1],curCase[:-1]/curBorgerCount,'k.:',markersize=4,linewidth=0.5)\n",
    "    # ax.plot(rnTime(curDates[:-1],meanWidth),rnMean(curCase[:-1]/curBorgerCount,meanWidth),'k')\n",
    "    ax.plot(curDates[:-1],100*curCase[:-1]/curBorgerCount,'k.:',markersize=4,linewidth=0.5)\n",
    "    ax.plot(rnTime(curDates[:-1],meanWidth),rnMean(100*curCase[:-1]/curBorgerCount,meanWidth),'k')\n",
    "\n",
    "    ax.set_xlim(firstDateShort,lastDateShort+np.timedelta64(12,'h'))\n",
    "    ax.set_xticks(curXticks)\n",
    "    ax.set_ylim(bottom=0)\n",
    "    ax.xaxis.set_major_formatter(mdates.DateFormatter('%b'))\n",
    "    ax.spines['top'].set_visible(False) \n",
    "    ax.spines['right'].set_visible(False) \n",
    "    ax.set_title(curRegion)\n",
    "    ax.grid()\n",
    "    ax.yaxis.set_tick_params(labelleft=True)\n",
    "\n",
    "ax1 = allAxes.flatten()[0]\n",
    "ax1.axis('off')\n",
    "txt1 = 'Tilfælde \\n[% af befolkning]'\n",
    "txt2 = 'Rasmus Kristoffer Pedersen\\n PandemiX Center, Roskilde Universitet\\n\\n\\nData fra SSI overvågningsdata, dashboard-fil\\n\\nFilnavn:\\n/Regionalt_DB/03_bekraeftede_tilfaelde_doede_indlagte_pr_dag_pr_koen.csv\\nsamt indbyggertal fra: /Regionalt_DB/13_regionale_kort.csv.csv'\n",
    "ax1.text(0.5, 0.55,txt1,\n",
    "     horizontalalignment='center',\n",
    "     verticalalignment='bottom',\n",
    "     transform = ax1.transAxes,\n",
    "     fontsize=20)\n",
    "ax1.text(0.5, 0,txt2,\n",
    "     horizontalalignment='center',\n",
    "     verticalalignment='bottom',\n",
    "     transform = ax1.transAxes,\n",
    "     fontsize=7)\n",
    "\n",
    "     \n",
    "if saveFigures:\n",
    "     plt.savefig(path_figs+'/Regionalt/CasesPercent')"
   ]
  },
  {
   "cell_type": "code",
   "execution_count": 154,
   "metadata": {},
   "outputs": [
    {
     "data": {
      "text/plain": [
       "numpy.datetime64('2020-03-02T00:00:00.000000000')"
      ]
     },
     "execution_count": 154,
     "metadata": {},
     "output_type": "execute_result"
    }
   ],
   "source": [
    "# # len(curdf['Bekræftede tilfælde'])\n",
    "# plt.figure()\n",
    "# plt.plot(curdf['Bekræftede tilfælde'].values[::7])\n",
    "curDates[0]"
   ]
  },
  {
   "cell_type": "code",
   "execution_count": 225,
   "metadata": {},
   "outputs": [
    {
     "data": {
      "application/vnd.jupyter.widget-view+json": {
       "model_id": "a60af01127a941edbe25251cee3266a8",
       "version_major": 2,
       "version_minor": 0
      },
      "text/plain": [
       "Canvas(toolbar=Toolbar(toolitems=[('Home', 'Reset original view', 'home', 'home'), ('Back', 'Back to previous …"
      ]
     },
     "metadata": {},
     "output_type": "display_data"
    }
   ],
   "source": [
    "# Compare cases, normalized by antal_bor\n",
    "\n",
    "\n",
    "fig,allAxes = plt.subplots(2,3,sharey=True,figsize=(16,6),tight_layout=True)\n",
    "\n",
    "# allMaxs = []\n",
    "\n",
    "for k in range(1,6):\n",
    "    curRegion = allRegions[k-1]\n",
    "    curBorgerCount = borgerCount[k-1]\n",
    "    curdf = groupdf.loc[curRegion,:,:]\n",
    "    curDates = curdf.index.get_level_values(1).values[:-1]\n",
    "    curCase = curdf['Bekræftede tilfælde'].values[:-1]\n",
    "\n",
    "    ax = allAxes.flatten()[k]\n",
    "\n",
    "    meanDates = rnTime(curDates,meanWidth)\n",
    "    meanCase = meanWidth*100*rnMean(curCase,meanWidth)/curBorgerCount\n",
    "    # ax.step(meanDates,meanCase,'k',where='mid')\n",
    "    # ax.step(meanDates[5::7],meanCase[5::7],'k')\n",
    "    # ax.step(meanDates[::7],meanCase[::7],'k',where='mid')\n",
    "    ax.step(meanDates[1::7],meanCase[1::7],'k',where='pre')\n",
    "    ax.fill_between(meanDates[1::7],meanCase[1::7],step='pre',color='k',alpha=0.5)\n",
    "\n",
    "    ax.set_xlim(firstDateShort,lastDateShort+np.timedelta64(12,'h'))\n",
    "    ax.set_xticks(curXticks)\n",
    "    ax.set_ylim(bottom=0)\n",
    "    ax.xaxis.set_major_formatter(mdates.DateFormatter('%b'))\n",
    "    ax.spines['top'].set_visible(False) \n",
    "    ax.spines['right'].set_visible(False) \n",
    "    ax.set_title(curRegion)\n",
    "    ax.grid()\n",
    "    ax.yaxis.set_tick_params(labelleft=True)\n",
    "\n",
    "ax1 = allAxes.flatten()[0]\n",
    "ax1.axis('off')\n",
    "# # ax1.set_title('Tilfælde \\n[% af befolkning]')\n",
    "# ax1.text(0.5, 0.75,'Sum af ugentlige tilfælde \\n[% af befolkning]',\n",
    "#      horizontalalignment='center',\n",
    "#      verticalalignment='center',\n",
    "#      transform = ax1.transAxes,\n",
    "#      fontsize=20)\n",
    "\n",
    "txt1 = 'Sum af ugentlige tilfælde \\n[% af befolkning]'\n",
    "txt2 = 'Rasmus Kristoffer Pedersen\\n PandemiX Center, Roskilde Universitet\\n\\n\\nData fra SSI overvågningsdata, dashboard-fil\\n\\nFilnavn:\\n/Regionalt_DB/03_bekraeftede_tilfaelde_doede_indlagte_pr_dag_pr_koen.csv\\nsamt indbyggertal fra: /Regionalt_DB/13_regionale_kort.csv.csv'\n",
    "ax1.text(0.5, 0.55,txt1,\n",
    "     horizontalalignment='center',\n",
    "     verticalalignment='bottom',\n",
    "     transform = ax1.transAxes,\n",
    "     fontsize=20)\n",
    "ax1.text(0.5, 0,txt2,\n",
    "     horizontalalignment='center',\n",
    "     verticalalignment='bottom',\n",
    "     transform = ax1.transAxes,\n",
    "     fontsize=7)\n",
    "     \n",
    "if saveFigures:\n",
    "     plt.savefig(path_figs+'/Regionalt/CasesPercentWeek')"
   ]
  },
  {
   "cell_type": "code",
   "execution_count": 271,
   "metadata": {},
   "outputs": [
    {
     "data": {
      "text/plain": [
       "120666"
      ]
     },
     "execution_count": 271,
     "metadata": {},
     "output_type": "execute_result"
    }
   ],
   "source": [
    "\n"
   ]
  },
  {
   "cell_type": "code",
   "execution_count": 316,
   "metadata": {},
   "outputs": [
    {
     "data": {
      "application/vnd.jupyter.widget-view+json": {
       "model_id": "3e25e0b5d6e942b0aa87f68de95f9b9c",
       "version_major": 2,
       "version_minor": 0
      },
      "text/plain": [
       "Canvas(toolbar=Toolbar(toolitems=[('Home', 'Reset original view', 'home', 'home'), ('Back', 'Back to previous …"
      ]
     },
     "metadata": {},
     "output_type": "display_data"
    }
   ],
   "source": [
    "# Compare cases, normalized by antal_bor\n",
    "\n",
    "\n",
    "fig,allAxes = plt.subplots(2,3,figsize=(16,6),tight_layout=True)\n",
    "\n",
    "# allMaxs = []\n",
    "\n",
    "for k in range(1,6):\n",
    "    curRegion = allRegions[k-1]\n",
    "    curBorgerCount = borgerCount[k-1]\n",
    "    curdf = groupdf.loc[curRegion,:,:]\n",
    "    curDates = curdf.index.get_level_values(1).values[:-1]\n",
    "    curCase = curdf['Bekræftede tilfælde'].values[:-1]\n",
    "    curCumSum = np.cumsum(curCase)\n",
    "\n",
    "    ax = allAxes.flatten()[k]\n",
    "\n",
    "    ax.plot(curDates,100*curCumSum/curBorgerCount,'k')\n",
    "\n",
    "    # Calculate difference\n",
    "    startIndex = np.where(curDates == firstDate)[0][0]\n",
    "\n",
    "    latestSum = 100 * curCumSum[-1]/curBorgerCount\n",
    "    startSum =  100 * curCumSum[startIndex]/curBorgerCount\n",
    "    midSum = (latestSum+startSum)/2\n",
    "    diffSum = latestSum-startSum\n",
    "\n",
    "    annoDate = lastDate-np.timedelta64(14,'D')\n",
    "    annoDate1 = annoDate - np.timedelta64(3,'D')\n",
    "    annoDate2 = annoDate + np.timedelta64(3,'D')\n",
    "    annoColor = 'b'\n",
    "    # ax.plot([annoDate,annoDate],[startSum,latestSum],'m_-',markersize=20,linewidth=3)\n",
    "    ax.plot([annoDate,annoDate],[startSum,latestSum],color=annoColor,linewidth=2)\n",
    "    ax.plot([annoDate1,annoDate2],[startSum,startSum],color=annoColor,linewidth=2)\n",
    "    ax.plot([annoDate1,annoDate2],[latestSum,latestSum],color=annoColor,linewidth=2)\n",
    "    ax.text(annoDate2,midSum,f'{diffSum:2.0f}%',color=annoColor,fontsize=11,fontvariant='small-caps')#fontfamily='serif')\n",
    "\n",
    "\n",
    "\n",
    "    # Make figure nice\n",
    "    ax.set_xlim(firstDateShort,lastDateShort+np.timedelta64(12,'h'))\n",
    "    ax.set_xticks(curXticks)\n",
    "    ax.set_yticks(np.arange(0,50,5))\n",
    "    ax.set_ylim(bottom=0)\n",
    "    ax.set_ylim(top=latestSum*1.2)\n",
    "    ax.set_ylim(top=np.ceil(latestSum*1.2/5)*5)\n",
    "    ax.xaxis.set_major_formatter(mdates.DateFormatter('%b'))\n",
    "    ax.spines['top'].set_visible(False) \n",
    "    ax.spines['right'].set_visible(False) \n",
    "    ax.set_title(curRegion)\n",
    "    ax.grid()\n",
    "    ax.yaxis.set_tick_params(labelleft=True)\n",
    "\n",
    "ax1 = allAxes.flatten()[0]\n",
    "ax1.axis('off')\n",
    "\n",
    "txt1 = 'Kumuleret sum af tilfælde \\n[% af befolkning]'\n",
    "txt2 = 'Rasmus Kristoffer Pedersen\\n PandemiX Center, Roskilde Universitet\\n\\n\\nData fra SSI overvågningsdata, dashboard-fil\\n\\nFilnavn:\\n/Regionalt_DB/03_bekraeftede_tilfaelde_doede_indlagte_pr_dag_pr_koen.csv\\nsamt indbyggertal fra: /Regionalt_DB/13_regionale_kort.csv.csv'\n",
    "ax1.text(0.5, 0.55,txt1,\n",
    "     horizontalalignment='center',\n",
    "     verticalalignment='bottom',\n",
    "     transform = ax1.transAxes,\n",
    "     fontsize=20)\n",
    "ax1.text(0.5, 0,txt2,\n",
    "     horizontalalignment='center',\n",
    "     verticalalignment='bottom',\n",
    "     transform = ax1.transAxes,\n",
    "     fontsize=7)\n",
    "     \n",
    "if saveFigures:\n",
    "     plt.savefig(path_figs+'/Regionalt/CasesCumulative')"
   ]
  },
  {
   "cell_type": "code",
   "execution_count": 275,
   "metadata": {},
   "outputs": [
    {
     "data": {
      "text/plain": [
       "0.09836418371813778"
      ]
     },
     "execution_count": 275,
     "metadata": {},
     "output_type": "execute_result"
    }
   ],
   "source": [
    "# curCase[-10:]\n",
    "# curdf\n",
    "# df[df.Region == curRegion]\n",
    "# df\n",
    "latestSum"
   ]
  },
  {
   "cell_type": "code",
   "execution_count": 123,
   "metadata": {},
   "outputs": [
    {
     "name": "stdout",
     "output_type": "stream",
     "text": [
      "0    0.024258\n",
      "1    0.016156\n",
      "2    0.015963\n",
      "3    0.018563\n",
      "4    0.014975\n",
      "dtype: float64\n",
      "0    0.204327\n",
      "1    0.107620\n",
      "2    0.101777\n",
      "3    0.132176\n",
      "4    0.098365\n",
      "dtype: float64\n"
     ]
    },
    {
     "data": {
      "text/html": [
       "<div>\n",
       "<style scoped>\n",
       "    .dataframe tbody tr th:only-of-type {\n",
       "        vertical-align: middle;\n",
       "    }\n",
       "\n",
       "    .dataframe tbody tr th {\n",
       "        vertical-align: top;\n",
       "    }\n",
       "\n",
       "    .dataframe thead th {\n",
       "        text-align: right;\n",
       "    }\n",
       "</style>\n",
       "<table border=\"1\" class=\"dataframe\">\n",
       "  <thead>\n",
       "    <tr style=\"text-align: right;\">\n",
       "      <th></th>\n",
       "      <th>Region</th>\n",
       "      <th>Bekræftede tilfælde</th>\n",
       "      <th>Incidens</th>\n",
       "      <th>Bekræftede tilfælde de senest 7 dage</th>\n",
       "      <th>Incidens de seneste 7 dage</th>\n",
       "      <th>Testede</th>\n",
       "      <th>Test incidens</th>\n",
       "      <th>Testede de seneste 7 dage</th>\n",
       "      <th>Test incidens de seneste 7 dage</th>\n",
       "      <th>Positivprocent de seneste 7 dage</th>\n",
       "      <th>antal_bor</th>\n",
       "    </tr>\n",
       "  </thead>\n",
       "  <tbody>\n",
       "    <tr>\n",
       "      <th>0</th>\n",
       "      <td>Hovedstaden</td>\n",
       "      <td>380466</td>\n",
       "      <td>20433</td>\n",
       "      <td>45170</td>\n",
       "      <td>2426</td>\n",
       "      <td>1722963</td>\n",
       "      <td>92531</td>\n",
       "      <td>288509</td>\n",
       "      <td>15494</td>\n",
       "      <td>15,66</td>\n",
       "      <td>1862046</td>\n",
       "    </tr>\n",
       "    <tr>\n",
       "      <th>1</th>\n",
       "      <td>Midtjylland</td>\n",
       "      <td>144153</td>\n",
       "      <td>10762</td>\n",
       "      <td>21640</td>\n",
       "      <td>1616</td>\n",
       "      <td>1188631</td>\n",
       "      <td>88739</td>\n",
       "      <td>180298</td>\n",
       "      <td>13460</td>\n",
       "      <td>12,00</td>\n",
       "      <td>1339467</td>\n",
       "    </tr>\n",
       "    <tr>\n",
       "      <th>2</th>\n",
       "      <td>Nordjylland</td>\n",
       "      <td>60170</td>\n",
       "      <td>10178</td>\n",
       "      <td>9437</td>\n",
       "      <td>1596</td>\n",
       "      <td>538273</td>\n",
       "      <td>91049</td>\n",
       "      <td>72188</td>\n",
       "      <td>12211</td>\n",
       "      <td>13,07</td>\n",
       "      <td>591192</td>\n",
       "    </tr>\n",
       "    <tr>\n",
       "      <th>3</th>\n",
       "      <td>Sjælland</td>\n",
       "      <td>111256</td>\n",
       "      <td>13218</td>\n",
       "      <td>15625</td>\n",
       "      <td>1856</td>\n",
       "      <td>743982</td>\n",
       "      <td>88388</td>\n",
       "      <td>121950</td>\n",
       "      <td>14488</td>\n",
       "      <td>12,81</td>\n",
       "      <td>841723</td>\n",
       "    </tr>\n",
       "    <tr>\n",
       "      <th>4</th>\n",
       "      <td>Syddanmark</td>\n",
       "      <td>120667</td>\n",
       "      <td>9836</td>\n",
       "      <td>18370</td>\n",
       "      <td>1497</td>\n",
       "      <td>1092441</td>\n",
       "      <td>89053</td>\n",
       "      <td>183793</td>\n",
       "      <td>14982</td>\n",
       "      <td>9,99</td>\n",
       "      <td>1226727</td>\n",
       "    </tr>\n",
       "  </tbody>\n",
       "</table>\n",
       "</div>"
      ],
      "text/plain": [
       "        Region  Bekræftede tilfælde  Incidens  \\\n",
       "0  Hovedstaden               380466     20433   \n",
       "1  Midtjylland               144153     10762   \n",
       "2  Nordjylland                60170     10178   \n",
       "3     Sjælland               111256     13218   \n",
       "4   Syddanmark               120667      9836   \n",
       "\n",
       "   Bekræftede tilfælde de senest 7 dage  Incidens de seneste 7 dage  Testede  \\\n",
       "0                                 45170                        2426  1722963   \n",
       "1                                 21640                        1616  1188631   \n",
       "2                                  9437                        1596   538273   \n",
       "3                                 15625                        1856   743982   \n",
       "4                                 18370                        1497  1092441   \n",
       "\n",
       "   Test incidens  Testede de seneste 7 dage  Test incidens de seneste 7 dage  \\\n",
       "0          92531                     288509                            15494   \n",
       "1          88739                     180298                            13460   \n",
       "2          91049                      72188                            12211   \n",
       "3          88388                     121950                            14488   \n",
       "4          89053                     183793                            14982   \n",
       "\n",
       "  Positivprocent de seneste 7 dage  antal_bor  \n",
       "0                            15,66    1862046  \n",
       "1                            12,00    1339467  \n",
       "2                            13,07     591192  \n",
       "3                            12,81     841723  \n",
       "4                             9,99    1226727  "
      ]
     },
     "execution_count": 123,
     "metadata": {},
     "output_type": "execute_result"
    }
   ],
   "source": [
    "print(kortdf['Bekræftede tilfælde de senest 7 dage']/kortdf['antal_bor'])\n",
    "print(kortdf['Bekræftede tilfælde']/kortdf['antal_bor'])\n",
    "kortdf"
   ]
  },
  {
   "cell_type": "code",
   "execution_count": 102,
   "metadata": {},
   "outputs": [
    {
     "data": {
      "text/plain": [
       "0.024166964725898285"
      ]
     },
     "execution_count": 102,
     "metadata": {},
     "output_type": "execute_result"
    }
   ],
   "source": [
    "45000/1862046"
   ]
  }
 ],
 "metadata": {
  "interpreter": {
   "hash": "c031fd63bd977d199cd6020c30a19695eacbb638d100e0b8a5ea53080ed74a9a"
  },
  "kernelspec": {
   "display_name": "Python 3.8.12 64-bit ('main': conda)",
   "language": "python",
   "name": "python3"
  },
  "language_info": {
   "codemirror_mode": {
    "name": "ipython",
    "version": 3
   },
   "file_extension": ".py",
   "mimetype": "text/x-python",
   "name": "python",
   "nbconvert_exporter": "python",
   "pygments_lexer": "ipython3",
   "version": "3.8.12"
  },
  "orig_nbformat": 4
 },
 "nbformat": 4,
 "nbformat_minor": 2
}
