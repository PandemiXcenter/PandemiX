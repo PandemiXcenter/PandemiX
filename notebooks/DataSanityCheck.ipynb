{
 "cells": [
  {
   "cell_type": "code",
   "execution_count": 4,
   "metadata": {},
   "outputs": [
    {
     "name": "stdout",
     "output_type": "stream",
     "text": [
      "saveFigures is set to: True\n",
      "Done loading packages\n"
     ]
    }
   ],
   "source": [
    "%matplotlib widget\n",
    "# Load packages and settings\n",
    "import numpy as np\n",
    "import pandas as pd\n",
    "pd.set_option('display.max_rows', 500)\n",
    "pd.set_option('display.min_rows', 50)\n",
    "import seaborn as sns\n",
    "\n",
    "\n",
    "import matplotlib.pyplot as plt\n",
    "plt.rcParams['figure.figsize'] = (12,8)\n",
    "plt.rcParams[\"image.cmap\"] = \"tab10\"\n",
    "plt.rcParams['axes.prop_cycle'] = plt.cycler(color=plt.cm.tab10.colors)\n",
    "fs_label = 16\n",
    "parameters = {\n",
    "                'axes.labelsize': fs_label,\n",
    "                'axes.titlesize': fs_label+4,\n",
    "                'xtick.labelsize': fs_label,\n",
    "                'ytick.labelsize': fs_label, \n",
    "                'legend.fontsize': fs_label, \n",
    "                'lines.markersize': 10,\n",
    "                'lines.linewidth': 3\n",
    "             }\n",
    "plt.rcParams.update(parameters)\n",
    "from matplotlib import cm # Colormaps\n",
    "import matplotlib.colors as colors\n",
    "# cmap = plt.cm.get_cmap('Dark2',len(ageGroups))\n",
    "\n",
    "import locale\n",
    "import matplotlib.dates as mdates\n",
    "locale.setlocale(locale.LC_TIME,\"Danish\")\n",
    "# ax1.xaxis.set_major_formatter(mdates.DateFormatter('%b\\n%Y'))\n",
    "# ax1.spines['top'].set_visible(False) \n",
    "\n",
    "import os\n",
    "# import csv\n",
    "import math\n",
    "\n",
    "from datetime import date\n",
    "import datetime\n",
    "\n",
    "saveFigures = True\n",
    "# saveFigures = False\n",
    "print('saveFigures is set to: '+str(saveFigures))\n",
    "\n",
    "print('Done loading packages')\n",
    "\n",
    "# Define running mean functions\n",
    "def rnMean(data,meanWidth):\n",
    "    return np.convolve(data, np.ones(meanWidth)/meanWidth, mode='valid')\n",
    "def rnTime(t,meanWidth):\n",
    "    return t[math.floor(meanWidth/2):-math.ceil(meanWidth/2)+1]"
   ]
  },
  {
   "cell_type": "code",
   "execution_count": 33,
   "metadata": {},
   "outputs": [],
   "source": [
    "\n",
    "\n",
    "# Define paths\n",
    "rootdir_data = os.getcwd() +\"\\\\..\\\\DanskeData\\\\\" \n",
    "\n",
    "path_data = rootdir_data + \"ssi_data\\\\\"\n",
    "path_dash = rootdir_data + \"ssi_dashboard\\\\\"\n",
    "path_vacc = rootdir_data + \"ssi_vacc\\\\\"\n",
    "\n",
    "path_figs = os.getcwd() +\"\\\\..\\\\Figures\\\\\" \n",
    "\n",
    "latestsubdir = list(os.walk(path_data))[0][1][-1]\n",
    "latestdir = path_data + latestsubdir\n",
    "dfCase = pd.read_csv(latestdir+'/Test_pos_over_time.csv',delimiter = ';',dtype=str)\n",
    "dfCase = dfCase.iloc[:-2]\n",
    "dfCase['NewPositive'] = pd.to_numeric(dfCase['NewPositive'].astype(str).apply(lambda x: x.replace('.','')))\n",
    "dfCase['NotPrevPos'] = pd.to_numeric(dfCase['NotPrevPos'].astype(str).apply(lambda x: x.replace('.','')))\n",
    "dfCase['PrevPos'] = pd.to_numeric(dfCase['PrevPos'].astype(str).apply(lambda x: x.replace('.','')))\n",
    "dfCase['Date'] = pd.to_datetime(dfCase['Date'])\n",
    "# dfCase['NewPositive'] = pd.to_numeric(dfCase['NewPositive'])\n",
    "# dfCase['NotPrevPos'] = pd.to_numeric(dfCase['NotPrevPos'])\n",
    "# dfCase['PrevPos'] = pd.to_numeric(dfCase['PrevPos'])\n",
    "\n",
    "latestsubdir = list(os.walk(path_dash))[0][1][-1]\n",
    "latestdir = path_dash + latestsubdir\n",
    "\n",
    "df = pd.read_csv(latestdir+'/Regionalt_DB/24_reinfektioner_daglig_region.csv',encoding='latin1',delimiter = ';')\n",
    "df['Prøvedato'] = pd.to_datetime(df['Prøvedato'])\n",
    "# groupdf = df.groupby(['Prøvedato').sum()\n",
    "df_reinf = df[df['Type af tilfælde (reinfektion eller bekræftet tilfælde)'] == '1.Reinfektion'].groupby('Prøvedato').sum()\n",
    "df_inf = df[df['Type af tilfælde (reinfektion eller bekræftet tilfælde)'] != '1.Reinfektion'].groupby('Prøvedato').sum()"
   ]
  },
  {
   "cell_type": "code",
   "execution_count": 34,
   "metadata": {},
   "outputs": [],
   "source": [
    "dfCase = dfCase.iloc[:-1]\n",
    "df_inf = df_inf.iloc[:-1]\n",
    "df_reinf = df_reinf[:-1]"
   ]
  },
  {
   "cell_type": "code",
   "execution_count": 54,
   "metadata": {},
   "outputs": [
    {
     "data": {
      "application/vnd.jupyter.widget-view+json": {
       "model_id": "b4d5a2ce1bca420b98f6ebfa73393387",
       "version_major": 2,
       "version_minor": 0
      },
      "text/plain": [
       "Canvas(toolbar=Toolbar(toolitems=[('Home', 'Reset original view', 'home', 'home'), ('Back', 'Back to previous …"
      ]
     },
     "metadata": {},
     "output_type": "display_data"
    }
   ],
   "source": [
    "fig,ax1 = plt.subplots()\n",
    "\n",
    "ax1.plot(dfCase.Date,dfCase.NewPositive,'k.-',linewidth=2,label='Test_pos_over_time, NewPositive')\n",
    "# ax1.plot(dfCase.Date,dfCase.NotPrevPos,linewidth=2,label='Test_pos_over_time, NotPrevPos')\n",
    "ax1.plot(dfCase.Date,dfCase.PrevPos,'.-',color='grey',linewidth=2,label='Test_pos_over_time, PrevPos')\n",
    "\n",
    "ax1.plot(df_reinf.index,df_reinf.infected,'r.--',linewidth=2,label='RegionaltDB/24..., 1.Reinfektion')\n",
    "ax1.plot(df_inf.index,df_inf.infected,'m.--',linewidth=2,label='RegionaltDB/24..., 2.Bekræftede tilfælde')\n",
    "ax1.plot(df_reinf.index,df_reinf.infected+df_inf.infected,'.--',linewidth=2,color='xkcd:dark yellow',label='RegionalDB/24..., sum af typer')\n",
    "# ax1.plot(df_inf.index,df_inf.infected,'--',label='RegionalDB/24..., 2.Bekræftede tilfælde')\n",
    "\n",
    "ax1.legend(fontsize=13)\n",
    "\n",
    "ax1.set_ylim(bottom=0)\n",
    "ax1.grid()\n",
    "ax1.set_yticks(np.arange(0,64000,5000))\n",
    "\n",
    "ax1.set_xlim(left=np.datetime64('2021-12-01'))\n",
    "ax1.xaxis.set_major_formatter(mdates.DateFormatter('%d\\n%b'))"
   ]
  },
  {
   "cell_type": "code",
   "execution_count": 30,
   "metadata": {},
   "outputs": [
    {
     "data": {
      "application/vnd.jupyter.widget-view+json": {
       "model_id": "688daeec1e634a91bf53dfeeb473673c",
       "version_major": 2,
       "version_minor": 0
      },
      "text/plain": [
       "Canvas(toolbar=Toolbar(toolitems=[('Home', 'Reset original view', 'home', 'home'), ('Back', 'Back to previous …"
      ]
     },
     "metadata": {},
     "output_type": "display_data"
    }
   ],
   "source": [
    "fig,ax1 = plt.subplots()\n",
    "\n",
    "ax1.plot(dfCase.Date,dfCase.NewPositive,label='Test_pos_over_time, NewPositive')\n",
    "# ax1.plot(dfCase.Date,dfCase.NotPrevPos,label='Test_pos_over_time, NotPrevPos')\n",
    "ax1.plot(dfCase.Date,dfCase.PrevPos,label='Test_pos_over_time, PrevPos')\n",
    "\n",
    "ax1.plot(df_reinf.index,df_reinf.infected,'--',label='RegionaltDB/24..., 1.Reinfektion')\n",
    "ax1.plot(df_inf.index,df_inf.infected,'--',label='RegionaltDB/24..., 2.Bekræftede tilfælde')\n",
    "\n",
    "ax1.legend()\n",
    "\n",
    "ax1.set_ylim(bottom=0,top=5000)\n",
    "\n",
    "ax1.set_xlim(left=np.datetime64('2021-11-01'))\n",
    "ax1.xaxis.set_major_formatter(mdates.DateFormatter('%d\\n%b'))\n",
    "\n",
    "# dfCase"
   ]
  },
  {
   "cell_type": "code",
   "execution_count": null,
   "metadata": {},
   "outputs": [],
   "source": []
  }
 ],
 "metadata": {
  "interpreter": {
   "hash": "c031fd63bd977d199cd6020c30a19695eacbb638d100e0b8a5ea53080ed74a9a"
  },
  "kernelspec": {
   "display_name": "Python 3.8.12 64-bit ('main': conda)",
   "language": "python",
   "name": "python3"
  },
  "language_info": {
   "codemirror_mode": {
    "name": "ipython",
    "version": 3
   },
   "file_extension": ".py",
   "mimetype": "text/x-python",
   "name": "python",
   "nbconvert_exporter": "python",
   "pygments_lexer": "ipython3",
   "version": "3.8.12"
  },
  "orig_nbformat": 4
 },
 "nbformat": 4,
 "nbformat_minor": 2
}
