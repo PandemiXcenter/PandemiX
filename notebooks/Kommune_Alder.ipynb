{
 "cells": [
  {
   "cell_type": "code",
   "execution_count": 2,
   "metadata": {},
   "outputs": [
    {
     "name": "stdout",
     "output_type": "stream",
     "text": [
      "saveFigures is set to: True\n",
      "Done loading packages\n"
     ]
    }
   ],
   "source": [
    "%matplotlib widget\n",
    "# Load packages and settings\n",
    "import numpy as np\n",
    "import pandas as pd\n",
    "pd.set_option('display.max_rows', 500)\n",
    "pd.set_option('display.min_rows', 50)\n",
    "import seaborn as sns\n",
    "\n",
    "\n",
    "import matplotlib.pyplot as plt\n",
    "\n",
    "plt.rcParams['figure.figsize'] = (12,8)\n",
    "plt.rcParams[\"image.cmap\"] = \"tab10\"\n",
    "plt.rcParams['axes.prop_cycle'] = plt.cycler(color=plt.cm.tab10.colors)\n",
    "fs_label = 16\n",
    "parameters = {\n",
    "                'axes.labelsize': fs_label,\n",
    "                'axes.titlesize': fs_label+4,\n",
    "                'xtick.labelsize': fs_label,\n",
    "                'ytick.labelsize': fs_label, \n",
    "                'legend.fontsize': fs_label, \n",
    "                'lines.markersize': 10,\n",
    "                'lines.linewidth': 3\n",
    "             }\n",
    "plt.rcParams.update(parameters)\n",
    "\n",
    "from matplotlib import cm # Colormaps\n",
    "import matplotlib.colors as colors\n",
    "# cmap = plt.cm.get_cmap('Dark2',len(ageGroups))\n",
    "\n",
    "import locale\n",
    "import matplotlib.dates as mdates\n",
    "locale.setlocale(locale.LC_TIME,\"Danish\")\n",
    "# ax1.xaxis.set_major_formatter(mdates.DateFormatter('%b\\n%Y'))\n",
    "# ax1.spines['top'].set_visible(False) \n",
    "\n",
    "import os\n",
    "# import csv\n",
    "import math\n",
    "\n",
    "from datetime import date\n",
    "\n",
    "\n",
    "saveFigures = True\n",
    "# saveFigures = False\n",
    "print('saveFigures is set to: '+str(saveFigures))\n",
    "\n",
    "print('Done loading packages')\n",
    "\n",
    "# Define running mean functions\n",
    "def rnMean(data,meanWidth):\n",
    "    return np.convolve(data, np.ones(meanWidth)/meanWidth, mode='valid')\n",
    "def rnTime(t,meanWidth):\n",
    "    return t[math.floor(meanWidth/2):-math.ceil(meanWidth/2)+1]"
   ]
  },
  {
   "cell_type": "code",
   "execution_count": 3,
   "metadata": {},
   "outputs": [],
   "source": [
    "# Define paths\n",
    "rootdir_data = os.getcwd() +\"\\\\..\\\\DanskeData\\\\\" \n",
    "\n",
    "path_data = rootdir_data + \"ssi_data\\\\\"\n",
    "path_dash = rootdir_data + \"ssi_dashboard\\\\\"\n",
    "path_vacc = rootdir_data + \"ssi_vacc\\\\\"\n",
    "path_figs = os.getcwd() +\"\\\\..\\\\Figures\\\\\" "
   ]
  },
  {
   "cell_type": "code",
   "execution_count": 85,
   "metadata": {},
   "outputs": [],
   "source": [
    "# Find number of citizens in region\n",
    "latestsubdir = list(os.walk(path_dash))[0][1][-1]\n",
    "latestdir = path_dash + latestsubdir\n",
    "df_kommunekort = pd.read_csv(latestdir+'/Kommunalt_DB/10_Kommune_kort.csv',encoding='latin1',\n",
    "                                delimiter = ';')\n",
    "df_kommunekort = df_kommunekort.set_index(\"Kommunenavn\")"
   ]
  },
  {
   "cell_type": "markdown",
   "metadata": {},
   "source": [
    "# Get data\n",
    "\n",
    "Since data only contains the most recent numbers, go through every directory to generate time-series"
   ]
  },
  {
   "cell_type": "code",
   "execution_count": 150,
   "metadata": {},
   "outputs": [],
   "source": [
    "allSubDirs = list(os.walk(path_dash))[0][1]\n",
    "\n",
    "df = pd.DataFrame()\n",
    "\n",
    "for curSubDir in allSubDirs:\n",
    "    curdir = path_dash + curSubDir\n",
    "    curfilepath = curdir+'/Kommunalt_DB/17_tilfaelde_fnkt_alder_kommuner.csv'\n",
    "\n",
    "    # Check if file was included at the time. The \"Kommune/17\" file wasn't included until 2021-09-22 \n",
    "    if os.path.isfile(curfilepath):\n",
    "        curdf = pd.read_csv(curfilepath,encoding='latin1',delimiter = ';')\n",
    "        \n",
    "        df = pd.concat([df,curdf])\n",
    "\n",
    "# Set dtypes\n",
    "df.Kommune = df.Kommune.fillna(0)  # All NaN kommuner is set to zero\n",
    "df['Kommune'] = df['Kommune'].astype(int)\n",
    "df['Dagsdato'] = pd.to_datetime(df['Dagsdato'])\n",
    "df['Bekræftede tilfælde'] = pd.to_numeric(df['Bekræftede tilfælde'])\n",
    "df['Aldersgruppe'] = df.Aldersgruppe.replace('00-02','0-2')\n",
    "df['Aldersgruppe'] = df.Aldersgruppe.replace('03-05','3-5')\n",
    "df['Aldersgruppe'] = df.Aldersgruppe.replace('06-11','6-11')\n",
    "\n",
    "# df['Forskel'] = df['Bekræftede tilfælde'].diff().fillna(0).astype(int,errors='ignore')"
   ]
  },
  {
   "cell_type": "code",
   "execution_count": 165,
   "metadata": {},
   "outputs": [
    {
     "data": {
      "text/plain": [
       "array([0, 1, 3], dtype=int64)"
      ]
     },
     "execution_count": 165,
     "metadata": {},
     "output_type": "execute_result"
    }
   ],
   "source": [
    "# np.array(dayDiff).unique()\n",
    "# pd.DataFrame(data=dayDiff).loc[:,0].unique()"
   ]
  },
  {
   "cell_type": "code",
   "execution_count": 176,
   "metadata": {},
   "outputs": [],
   "source": [
    "\n",
    "# curKom = 101\n",
    "# curAge = '6-11'\n",
    "# curdf = df[(df.Kommune == curKom) & (df.Aldersgruppe == curAge)]\n",
    "# curdf.tail(10)\n",
    "# # df[df.Kommune == 101].tail(20)\n",
    "\n",
    "def getDiffTimeSeries(komCode,Age):\n",
    "\n",
    "    curdf = df[(df.Kommune == komCode) & (df.Aldersgruppe == Age)] \n",
    "\n",
    "        \n",
    "    dayDiff = [int(x) for x in (curdf.Dagsdato.diff()/np.timedelta64(1,'D')).fillna(0)]\n",
    "\n",
    "    curDays = []\n",
    "    curDiffs = []\n",
    "    for i in range(1,len(curdf)):\n",
    "        curRow = curdf.iloc[i]\n",
    "        prevRow = curdf.iloc[i-1]\n",
    "        # print(curRow)\n",
    "        if (dayDiff[i] == 1):\n",
    "            curDays.append(curRow.Dagsdato)\n",
    "            curDiffs.append(curRow['Bekræftede tilfælde']-prevRow['Bekræftede tilfælde']) \n",
    "        elif (dayDiff[i] == 3):\n",
    "            curCount = curRow['Bekræftede tilfælde']-prevRow['Bekræftede tilfælde']\n",
    "            curDays.append(curRow.Dagsdato-np.timedelta64(2,'D'))\n",
    "            curDays.append(curRow.Dagsdato-np.timedelta64(1,'D'))\n",
    "            curDays.append(curRow.Dagsdato)\n",
    "            curDiffs.append(curCount/3) \n",
    "            curDiffs.append(curCount/3) \n",
    "            curDiffs.append(curCount/3) \n",
    "\n",
    "    return np.array(curDays),np.array(curDiffs)\n",
    "\n",
    "curDates,curCounts = getDiffTimeSeries(101,'6-11')\n",
    "\n",
    "# print(curDates[-10:])\n",
    "# print(curCounts[-10:])\n",
    "# plt.figure()\n",
    "# plt.plot(curDays,curDiffs)\n",
    "# plt.plot(rnTime(curDays,7),rnMean(curDiffs,7))"
   ]
  },
  {
   "cell_type": "code",
   "execution_count": 200,
   "metadata": {},
   "outputs": [
    {
     "data": {
      "application/vnd.jupyter.widget-view+json": {
       "model_id": "fb69d4bddac04ba2a8677382ae280284",
       "version_major": 2,
       "version_minor": 0
      },
      "text/plain": [
       "Canvas(toolbar=Toolbar(toolitems=[('Home', 'Reset original view', 'home', 'home'), ('Back', 'Back to previous …"
      ]
     },
     "metadata": {},
     "output_type": "display_data"
    },
    {
     "data": {
      "text/plain": [
       "<matplotlib.legend.Legend at 0x2aa64324c10>"
      ]
     },
     "execution_count": 200,
     "metadata": {},
     "output_type": "execute_result"
    }
   ],
   "source": [
    "allAge = df.Aldersgruppe.unique()[:-1]\n",
    "\n",
    "fig,ax1 = plt.subplots()\n",
    "\n",
    "import matplotlib\n",
    "cmap = matplotlib.colors.LinearSegmentedColormap.from_list(\"\", [\"red\",\"violet\",\"blue\",\"green\"],len(allAge))\n",
    "\n",
    "curKom = 101\n",
    "# for curAge in allAge:\n",
    "for i in range(0,len(allAge)):\n",
    "    curAge = allAge[i]\n",
    "    curColor = cmap(i)\n",
    "    curDates,curCounts = getDiffTimeSeries(101,curAge)\n",
    "    ax1.plot(curDates,curCounts,'.:',linewidth=0.5,markersize=2,color=curColor)\n",
    "    ax1.plot(rnTime(curDates,7),rnMean(curCounts,7),label=curAge,color=curColor)\n",
    "ax1.set_ylim(bottom=0)\n",
    "ax1.xaxis.set_major_formatter(mdates.DateFormatter('%d\\n%b'))\n",
    "\n",
    "ax1.set_xlim()\n",
    "ax1.set_xlim(left=np.datetime64('2021-11-01'))\n",
    "# Draw weekends\n",
    "firstSunday = np.datetime64('2021-10-03')\n",
    "numWeeks = 52\n",
    "for k in range(-numWeeks,numWeeks):\n",
    "        curSunday = firstSunday + np.timedelta64(7*k,'D')\n",
    "        ax1.axvspan(curSunday-np.timedelta64(1,'D')-np.timedelta64(12,'h'),curSunday+np.timedelta64(12,'h'),zorder=-1,facecolor='lightgrey',label=int(k==0)*'Weekend')\n",
    "ax1.grid(axis='y')\n",
    "ax1.legend()\n",
    "    "
   ]
  },
  {
   "cell_type": "code",
   "execution_count": 114,
   "metadata": {},
   "outputs": [
    {
     "data": {
      "application/vnd.jupyter.widget-view+json": {
       "model_id": "171ab16cb7d148f086758a2e71fdee50",
       "version_major": 2,
       "version_minor": 0
      },
      "text/plain": [
       "Canvas(toolbar=Toolbar(toolitems=[('Home', 'Reset original view', 'home', 'home'), ('Back', 'Back to previous …"
      ]
     },
     "metadata": {},
     "output_type": "display_data"
    },
    {
     "data": {
      "text/plain": [
       "[<matplotlib.lines.Line2D at 0x2aa54b9ef10>]"
      ]
     },
     "execution_count": 114,
     "metadata": {},
     "output_type": "execute_result"
    }
   ],
   "source": [
    "# df.groupby(['Kommune','Aldersgruppe'])\n",
    "# asdf = df.set_index(['Kommune','Aldersgruppe'])\n",
    "df.columns\n",
    "\n",
    "curKom = 101\n",
    "curAge = '6-11'\n",
    "asdf = df[(df.Kommune == curKom) & (df.Aldersgruppe == curAge)]\n",
    "\n",
    "plt.figure()\n",
    "plt.plot(asdf.Dagsdato,asdf['Bekræftede tilfælde'].diff(),'*')\n",
    "plt.plot(rnTime(asdf.Dagsdato,7),rnMean(asdf['Bekræftede tilfælde'].diff(),7))"
   ]
  },
  {
   "cell_type": "code",
   "execution_count": null,
   "metadata": {},
   "outputs": [],
   "source": []
  }
 ],
 "metadata": {
  "interpreter": {
   "hash": "c031fd63bd977d199cd6020c30a19695eacbb638d100e0b8a5ea53080ed74a9a"
  },
  "kernelspec": {
   "display_name": "Python 3.8.12 64-bit ('main': conda)",
   "language": "python",
   "name": "python3"
  },
  "language_info": {
   "codemirror_mode": {
    "name": "ipython",
    "version": 3
   },
   "file_extension": ".py",
   "mimetype": "text/x-python",
   "name": "python",
   "nbconvert_exporter": "python",
   "pygments_lexer": "ipython3",
   "version": "3.8.12"
  },
  "orig_nbformat": 4
 },
 "nbformat": 4,
 "nbformat_minor": 2
}
