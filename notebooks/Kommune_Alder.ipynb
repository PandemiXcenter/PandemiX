{
 "cells": [
  {
   "cell_type": "code",
   "execution_count": 13,
   "metadata": {},
   "outputs": [
    {
     "name": "stdout",
     "output_type": "stream",
     "text": [
      "saveFigures is set to: True\n",
      "Done loading packages\n"
     ]
    }
   ],
   "source": [
    "%matplotlib widget\n",
    "# Load packages and settings\n",
    "import numpy as np\n",
    "import pandas as pd\n",
    "pd.set_option('display.max_rows', 500)\n",
    "pd.set_option('display.min_rows', 50)\n",
    "import seaborn as sns\n",
    "\n",
    "\n",
    "import matplotlib.pyplot as plt\n",
    "\n",
    "plt.rcParams['figure.figsize'] = (12,8)\n",
    "plt.rcParams[\"image.cmap\"] = \"tab10\"\n",
    "plt.rcParams['axes.prop_cycle'] = plt.cycler(color=plt.cm.tab10.colors)\n",
    "fs_label = 16\n",
    "parameters = {\n",
    "                'axes.labelsize': fs_label,\n",
    "                'axes.titlesize': fs_label+4,\n",
    "                'xtick.labelsize': fs_label,\n",
    "                'ytick.labelsize': fs_label, \n",
    "                'legend.fontsize': fs_label, \n",
    "                'lines.markersize': 10,\n",
    "                'lines.linewidth': 3\n",
    "             }\n",
    "plt.rcParams.update(parameters)\n",
    "\n",
    "from matplotlib import cm # Colormaps\n",
    "import matplotlib.colors as colors\n",
    "# cmap = plt.cm.get_cmap('Dark2',len(ageGroups))\n",
    "# cmap = colors.LinearSegmentedColormap.from_list(\"\", [\"red\",\"violet\",\"blue\",\"green\"],len(allAge))\n",
    "# cmap = plt.cm.get_cmap('turbo',len(allAge))\n",
    "\n",
    "import locale\n",
    "import matplotlib.dates as mdates\n",
    "locale.setlocale(locale.LC_TIME,\"Danish\")\n",
    "# ax1.xaxis.set_major_formatter(mdates.DateFormatter('%b\\n%Y'))\n",
    "# ax1.spines['top'].set_visible(False) \n",
    "\n",
    "import os\n",
    "# import csv\n",
    "import math\n",
    "\n",
    "from datetime import date\n",
    "\n",
    "\n",
    "saveFigures = True\n",
    "# saveFigures = False\n",
    "print('saveFigures is set to: '+str(saveFigures))\n",
    "\n",
    "print('Done loading packages')\n",
    "\n",
    "# Define running mean functions\n",
    "def rnMean(data,meanWidth):\n",
    "    return np.convolve(data, np.ones(meanWidth)/meanWidth, mode='valid')\n",
    "def rnTime(t,meanWidth):\n",
    "    return t[math.floor(meanWidth/2):-math.ceil(meanWidth/2)+1]"
   ]
  },
  {
   "cell_type": "code",
   "execution_count": 14,
   "metadata": {},
   "outputs": [],
   "source": [
    "# Define paths\n",
    "rootdir_data = os.getcwd() +\"\\\\..\\\\DanskeData\\\\\" \n",
    "\n",
    "path_data = rootdir_data + \"ssi_data\\\\\"\n",
    "path_dash = rootdir_data + \"ssi_dashboard\\\\\"\n",
    "path_vacc = rootdir_data + \"ssi_vacc\\\\\"\n",
    "path_figs = os.getcwd() +\"\\\\..\\\\Figures\\\\\" \n",
    "\n",
    "path_figs = path_figs+\"KommuneAlder\\\\\""
   ]
  },
  {
   "cell_type": "code",
   "execution_count": 15,
   "metadata": {},
   "outputs": [],
   "source": [
    "# Find number of citizens in region\n",
    "latestsubdir = list(os.walk(path_dash))[0][1][-1]\n",
    "latestdir = path_dash + latestsubdir\n",
    "df_kommunekort = pd.read_csv(latestdir+'/Kommunalt_DB/10_Kommune_kort.csv',encoding='latin1',\n",
    "                                delimiter = ';')\n",
    "df_kommunekort = df_kommunekort.set_index(\"Kommunenavn\")"
   ]
  },
  {
   "cell_type": "markdown",
   "metadata": {},
   "source": [
    "# Population size\n",
    "Populationnumbers have been downloaded from Danmark Statistik.\n",
    "\n",
    "File are in two separate files. First, combine into one dataframe"
   ]
  },
  {
   "cell_type": "code",
   "execution_count": 16,
   "metadata": {},
   "outputs": [
    {
     "data": {
      "text/html": [
       "<div>\n",
       "<style scoped>\n",
       "    .dataframe tbody tr th:only-of-type {\n",
       "        vertical-align: middle;\n",
       "    }\n",
       "\n",
       "    .dataframe tbody tr th {\n",
       "        vertical-align: top;\n",
       "    }\n",
       "\n",
       "    .dataframe thead th {\n",
       "        text-align: right;\n",
       "    }\n",
       "</style>\n",
       "<table border=\"1\" class=\"dataframe\">\n",
       "  <thead>\n",
       "    <tr style=\"text-align: right;\">\n",
       "      <th></th>\n",
       "      <th>Kommune</th>\n",
       "      <th>Alder</th>\n",
       "      <th>Antal</th>\n",
       "      <th>AlderKort</th>\n",
       "    </tr>\n",
       "  </thead>\n",
       "  <tbody>\n",
       "    <tr>\n",
       "      <th>0</th>\n",
       "      <td>København</td>\n",
       "      <td>0 år</td>\n",
       "      <td>9481</td>\n",
       "      <td>0</td>\n",
       "    </tr>\n",
       "    <tr>\n",
       "      <th>1</th>\n",
       "      <td>København</td>\n",
       "      <td>1 år</td>\n",
       "      <td>8681</td>\n",
       "      <td>1</td>\n",
       "    </tr>\n",
       "    <tr>\n",
       "      <th>2</th>\n",
       "      <td>København</td>\n",
       "      <td>2 år</td>\n",
       "      <td>7633</td>\n",
       "      <td>2</td>\n",
       "    </tr>\n",
       "    <tr>\n",
       "      <th>3</th>\n",
       "      <td>København</td>\n",
       "      <td>3 år</td>\n",
       "      <td>7273</td>\n",
       "      <td>3</td>\n",
       "    </tr>\n",
       "    <tr>\n",
       "      <th>4</th>\n",
       "      <td>København</td>\n",
       "      <td>4 år</td>\n",
       "      <td>6847</td>\n",
       "      <td>4</td>\n",
       "    </tr>\n",
       "  </tbody>\n",
       "</table>\n",
       "</div>"
      ],
      "text/plain": [
       "     Kommune Alder  Antal  AlderKort\n",
       "0  København  0 år   9481          0\n",
       "1  København  1 år   8681          1\n",
       "2  København  2 år   7633          2\n",
       "3  København  3 år   7273          3\n",
       "4  København  4 år   6847          4"
      ]
     },
     "execution_count": 16,
     "metadata": {},
     "output_type": "execute_result"
    }
   ],
   "source": [
    "popdf1 = pd.read_csv(rootdir_data+'/DKfolketal2021_Statistikbanken_Del1.csv',header=None,encoding='latin1',delimiter=';')\n",
    "popdf2 = pd.read_csv(rootdir_data+'/DKfolketal2021_Statistikbanken_Del2.csv',header=None,encoding='latin1',delimiter=';')\n",
    "\n",
    "popdf = pd.concat([popdf1,popdf2])\n",
    "\n",
    "popdf = popdf.rename(columns={0:\"Kommune\",1:'Alder',2:'Antal'})\n",
    "popdf['AlderKort'] = popdf.Alder.apply(lambda x: int(str(x).split(' ')[0]))\n",
    "totCounts = popdf.groupby('Kommune').sum()\n",
    "popdf.head()"
   ]
  },
  {
   "cell_type": "code",
   "execution_count": 17,
   "metadata": {},
   "outputs": [],
   "source": [
    "def getPopSize(kommuneNavn,minAlder=0,maxAlder=125):\n",
    "\n",
    "    if (kommuneNavn == 'Høje Tåstrup'):\n",
    "        kommuneNavn = 'Høje-Taastrup'\n",
    "    if (kommuneNavn == 'Århus'):\n",
    "        kommuneNavn = 'Aarhus'\n",
    "    if (kommuneNavn == 'Nordfyn'):\n",
    "        kommuneNavn = 'Nordfyns'\n",
    "    if (kommuneNavn == 'Vesthimmerland'):\n",
    "        kommuneNavn = 'Vesthimmerlands'\n",
    "\n",
    "        \n",
    "    return popdf[(popdf.Kommune == kommuneNavn) & (popdf.AlderKort >= minAlder) & (popdf.AlderKort <= maxAlder)].Antal.sum()\n",
    "    \n",
    "# kommuneNavn = 'København'\n",
    "# minAlder = 0\n",
    "# maxAlder = 2\n",
    "\n",
    "# getPopSize('København',0,20)"
   ]
  },
  {
   "cell_type": "code",
   "execution_count": 18,
   "metadata": {},
   "outputs": [
    {
     "data": {
      "text/plain": [
       "352751"
      ]
     },
     "execution_count": 18,
     "metadata": {},
     "output_type": "execute_result"
    }
   ],
   "source": [
    "getPopSize('Århus')\n",
    "# np.sort(popdf.Kommune.unique())"
   ]
  },
  {
   "cell_type": "markdown",
   "metadata": {},
   "source": [
    "# Get data\n",
    "\n",
    "Since data only contains the most recent numbers, go through every directory to generate time-series"
   ]
  },
  {
   "cell_type": "code",
   "execution_count": 19,
   "metadata": {},
   "outputs": [],
   "source": [
    "allSubDirs = list(os.walk(path_dash))[0][1]\n",
    "\n",
    "df = pd.DataFrame()\n",
    "\n",
    "for curSubDir in allSubDirs:\n",
    "    curdir = path_dash + curSubDir\n",
    "    curfilepath = curdir+'/Kommunalt_DB/17_tilfaelde_fnkt_alder_kommuner.csv'\n",
    "\n",
    "    # Check if file was included at the time. The \"Kommune/17\" file wasn't included until 2021-09-22 \n",
    "    if os.path.isfile(curfilepath):\n",
    "        curdf = pd.read_csv(curfilepath,encoding='latin1',delimiter = ';')\n",
    "        \n",
    "        df = pd.concat([df,curdf])\n",
    "\n",
    "# Set dtypes\n",
    "df.Kommune = df.Kommune.fillna(0)  # All NaN kommuner is set to zero\n",
    "df['Kommune'] = df['Kommune'].astype(int)\n",
    "df['Dagsdato'] = pd.to_datetime(df['Dagsdato'])\n",
    "df['Bekræftede tilfælde'] = pd.to_numeric(df['Bekræftede tilfælde'])\n",
    "df['Aldersgruppe'] = df.Aldersgruppe.replace('00-02','0-2')\n",
    "df['Aldersgruppe'] = df.Aldersgruppe.replace('03-05','3-5')\n",
    "df['Aldersgruppe'] = df.Aldersgruppe.replace('06-11','6-11')\n",
    "\n",
    "# df['Forskel'] = df['Bekræftede tilfælde'].diff().fillna(0).astype(int,errors='ignore')"
   ]
  },
  {
   "cell_type": "code",
   "execution_count": 20,
   "metadata": {},
   "outputs": [
    {
     "data": {
      "text/html": [
       "<div>\n",
       "<style scoped>\n",
       "    .dataframe tbody tr th:only-of-type {\n",
       "        vertical-align: middle;\n",
       "    }\n",
       "\n",
       "    .dataframe tbody tr th {\n",
       "        vertical-align: top;\n",
       "    }\n",
       "\n",
       "    .dataframe thead th {\n",
       "        text-align: right;\n",
       "    }\n",
       "</style>\n",
       "<table border=\"1\" class=\"dataframe\">\n",
       "  <thead>\n",
       "    <tr style=\"text-align: right;\">\n",
       "      <th></th>\n",
       "      <th>Kommune</th>\n",
       "      <th>Aldersgruppe</th>\n",
       "      <th>Bekræftede tilfælde</th>\n",
       "      <th>Dagsdato</th>\n",
       "      <th>Bekræftede tilfælde i alt</th>\n",
       "    </tr>\n",
       "  </thead>\n",
       "  <tbody>\n",
       "    <tr>\n",
       "      <th>0</th>\n",
       "      <td>0</td>\n",
       "      <td>0-2</td>\n",
       "      <td>24.0</td>\n",
       "      <td>2021-09-22</td>\n",
       "      <td>NaN</td>\n",
       "    </tr>\n",
       "    <tr>\n",
       "      <th>1</th>\n",
       "      <td>19</td>\n",
       "      <td>0-2</td>\n",
       "      <td>6.0</td>\n",
       "      <td>2021-09-22</td>\n",
       "      <td>NaN</td>\n",
       "    </tr>\n",
       "    <tr>\n",
       "      <th>2</th>\n",
       "      <td>101</td>\n",
       "      <td>0-2</td>\n",
       "      <td>1028.0</td>\n",
       "      <td>2021-09-22</td>\n",
       "      <td>NaN</td>\n",
       "    </tr>\n",
       "    <tr>\n",
       "      <th>3</th>\n",
       "      <td>147</td>\n",
       "      <td>0-2</td>\n",
       "      <td>161.0</td>\n",
       "      <td>2021-09-22</td>\n",
       "      <td>NaN</td>\n",
       "    </tr>\n",
       "    <tr>\n",
       "      <th>4</th>\n",
       "      <td>151</td>\n",
       "      <td>0-2</td>\n",
       "      <td>86.0</td>\n",
       "      <td>2021-09-22</td>\n",
       "      <td>NaN</td>\n",
       "    </tr>\n",
       "    <tr>\n",
       "      <th>5</th>\n",
       "      <td>153</td>\n",
       "      <td>0-2</td>\n",
       "      <td>81.0</td>\n",
       "      <td>2021-09-22</td>\n",
       "      <td>NaN</td>\n",
       "    </tr>\n",
       "    <tr>\n",
       "      <th>6</th>\n",
       "      <td>155</td>\n",
       "      <td>0-2</td>\n",
       "      <td>18.0</td>\n",
       "      <td>2021-09-22</td>\n",
       "      <td>NaN</td>\n",
       "    </tr>\n",
       "    <tr>\n",
       "      <th>7</th>\n",
       "      <td>157</td>\n",
       "      <td>0-2</td>\n",
       "      <td>55.0</td>\n",
       "      <td>2021-09-22</td>\n",
       "      <td>NaN</td>\n",
       "    </tr>\n",
       "    <tr>\n",
       "      <th>8</th>\n",
       "      <td>159</td>\n",
       "      <td>0-2</td>\n",
       "      <td>116.0</td>\n",
       "      <td>2021-09-22</td>\n",
       "      <td>NaN</td>\n",
       "    </tr>\n",
       "    <tr>\n",
       "      <th>9</th>\n",
       "      <td>161</td>\n",
       "      <td>0-2</td>\n",
       "      <td>47.0</td>\n",
       "      <td>2021-09-22</td>\n",
       "      <td>NaN</td>\n",
       "    </tr>\n",
       "    <tr>\n",
       "      <th>10</th>\n",
       "      <td>163</td>\n",
       "      <td>0-2</td>\n",
       "      <td>42.0</td>\n",
       "      <td>2021-09-22</td>\n",
       "      <td>NaN</td>\n",
       "    </tr>\n",
       "    <tr>\n",
       "      <th>11</th>\n",
       "      <td>165</td>\n",
       "      <td>0-2</td>\n",
       "      <td>50.0</td>\n",
       "      <td>2021-09-22</td>\n",
       "      <td>NaN</td>\n",
       "    </tr>\n",
       "    <tr>\n",
       "      <th>12</th>\n",
       "      <td>167</td>\n",
       "      <td>0-2</td>\n",
       "      <td>100.0</td>\n",
       "      <td>2021-09-22</td>\n",
       "      <td>NaN</td>\n",
       "    </tr>\n",
       "    <tr>\n",
       "      <th>13</th>\n",
       "      <td>169</td>\n",
       "      <td>0-2</td>\n",
       "      <td>130.0</td>\n",
       "      <td>2021-09-22</td>\n",
       "      <td>NaN</td>\n",
       "    </tr>\n",
       "    <tr>\n",
       "      <th>14</th>\n",
       "      <td>173</td>\n",
       "      <td>0-2</td>\n",
       "      <td>45.0</td>\n",
       "      <td>2021-09-22</td>\n",
       "      <td>NaN</td>\n",
       "    </tr>\n",
       "    <tr>\n",
       "      <th>15</th>\n",
       "      <td>175</td>\n",
       "      <td>0-2</td>\n",
       "      <td>77.0</td>\n",
       "      <td>2021-09-22</td>\n",
       "      <td>NaN</td>\n",
       "    </tr>\n",
       "    <tr>\n",
       "      <th>16</th>\n",
       "      <td>183</td>\n",
       "      <td>0-2</td>\n",
       "      <td>69.0</td>\n",
       "      <td>2021-09-22</td>\n",
       "      <td>NaN</td>\n",
       "    </tr>\n",
       "    <tr>\n",
       "      <th>17</th>\n",
       "      <td>185</td>\n",
       "      <td>0-2</td>\n",
       "      <td>75.0</td>\n",
       "      <td>2021-09-22</td>\n",
       "      <td>NaN</td>\n",
       "    </tr>\n",
       "    <tr>\n",
       "      <th>18</th>\n",
       "      <td>187</td>\n",
       "      <td>0-2</td>\n",
       "      <td>37.0</td>\n",
       "      <td>2021-09-22</td>\n",
       "      <td>NaN</td>\n",
       "    </tr>\n",
       "    <tr>\n",
       "      <th>19</th>\n",
       "      <td>190</td>\n",
       "      <td>0-2</td>\n",
       "      <td>38.0</td>\n",
       "      <td>2021-09-22</td>\n",
       "      <td>NaN</td>\n",
       "    </tr>\n",
       "    <tr>\n",
       "      <th>20</th>\n",
       "      <td>201</td>\n",
       "      <td>0-2</td>\n",
       "      <td>12.0</td>\n",
       "      <td>2021-09-22</td>\n",
       "      <td>NaN</td>\n",
       "    </tr>\n",
       "    <tr>\n",
       "      <th>21</th>\n",
       "      <td>210</td>\n",
       "      <td>0-2</td>\n",
       "      <td>61.0</td>\n",
       "      <td>2021-09-22</td>\n",
       "      <td>NaN</td>\n",
       "    </tr>\n",
       "    <tr>\n",
       "      <th>22</th>\n",
       "      <td>217</td>\n",
       "      <td>0-2</td>\n",
       "      <td>53.0</td>\n",
       "      <td>2021-09-22</td>\n",
       "      <td>NaN</td>\n",
       "    </tr>\n",
       "    <tr>\n",
       "      <th>23</th>\n",
       "      <td>219</td>\n",
       "      <td>0-2</td>\n",
       "      <td>51.0</td>\n",
       "      <td>2021-09-22</td>\n",
       "      <td>NaN</td>\n",
       "    </tr>\n",
       "    <tr>\n",
       "      <th>24</th>\n",
       "      <td>223</td>\n",
       "      <td>0-2</td>\n",
       "      <td>18.0</td>\n",
       "      <td>2021-09-22</td>\n",
       "      <td>NaN</td>\n",
       "    </tr>\n",
       "    <tr>\n",
       "      <th>...</th>\n",
       "      <td>...</td>\n",
       "      <td>...</td>\n",
       "      <td>...</td>\n",
       "      <td>...</td>\n",
       "      <td>...</td>\n",
       "    </tr>\n",
       "    <tr>\n",
       "      <th>887</th>\n",
       "      <td>706</td>\n",
       "      <td>80+</td>\n",
       "      <td>NaN</td>\n",
       "      <td>2022-02-17</td>\n",
       "      <td>231.0</td>\n",
       "    </tr>\n",
       "    <tr>\n",
       "      <th>888</th>\n",
       "      <td>707</td>\n",
       "      <td>80+</td>\n",
       "      <td>NaN</td>\n",
       "      <td>2022-02-17</td>\n",
       "      <td>161.0</td>\n",
       "    </tr>\n",
       "    <tr>\n",
       "      <th>889</th>\n",
       "      <td>710</td>\n",
       "      <td>80+</td>\n",
       "      <td>NaN</td>\n",
       "      <td>2022-02-17</td>\n",
       "      <td>162.0</td>\n",
       "    </tr>\n",
       "    <tr>\n",
       "      <th>890</th>\n",
       "      <td>727</td>\n",
       "      <td>80+</td>\n",
       "      <td>NaN</td>\n",
       "      <td>2022-02-17</td>\n",
       "      <td>107.0</td>\n",
       "    </tr>\n",
       "    <tr>\n",
       "      <th>891</th>\n",
       "      <td>730</td>\n",
       "      <td>80+</td>\n",
       "      <td>NaN</td>\n",
       "      <td>2022-02-17</td>\n",
       "      <td>523.0</td>\n",
       "    </tr>\n",
       "    <tr>\n",
       "      <th>892</th>\n",
       "      <td>740</td>\n",
       "      <td>80+</td>\n",
       "      <td>NaN</td>\n",
       "      <td>2022-02-17</td>\n",
       "      <td>389.0</td>\n",
       "    </tr>\n",
       "    <tr>\n",
       "      <th>893</th>\n",
       "      <td>741</td>\n",
       "      <td>80+</td>\n",
       "      <td>NaN</td>\n",
       "      <td>2022-02-17</td>\n",
       "      <td>17.0</td>\n",
       "    </tr>\n",
       "    <tr>\n",
       "      <th>894</th>\n",
       "      <td>746</td>\n",
       "      <td>80+</td>\n",
       "      <td>NaN</td>\n",
       "      <td>2022-02-17</td>\n",
       "      <td>271.0</td>\n",
       "    </tr>\n",
       "    <tr>\n",
       "      <th>895</th>\n",
       "      <td>751</td>\n",
       "      <td>80+</td>\n",
       "      <td>NaN</td>\n",
       "      <td>2022-02-17</td>\n",
       "      <td>1315.0</td>\n",
       "    </tr>\n",
       "    <tr>\n",
       "      <th>896</th>\n",
       "      <td>756</td>\n",
       "      <td>80+</td>\n",
       "      <td>NaN</td>\n",
       "      <td>2022-02-17</td>\n",
       "      <td>246.0</td>\n",
       "    </tr>\n",
       "    <tr>\n",
       "      <th>897</th>\n",
       "      <td>760</td>\n",
       "      <td>80+</td>\n",
       "      <td>NaN</td>\n",
       "      <td>2022-02-17</td>\n",
       "      <td>316.0</td>\n",
       "    </tr>\n",
       "    <tr>\n",
       "      <th>898</th>\n",
       "      <td>766</td>\n",
       "      <td>80+</td>\n",
       "      <td>NaN</td>\n",
       "      <td>2022-02-17</td>\n",
       "      <td>245.0</td>\n",
       "    </tr>\n",
       "    <tr>\n",
       "      <th>899</th>\n",
       "      <td>773</td>\n",
       "      <td>80+</td>\n",
       "      <td>NaN</td>\n",
       "      <td>2022-02-17</td>\n",
       "      <td>137.0</td>\n",
       "    </tr>\n",
       "    <tr>\n",
       "      <th>900</th>\n",
       "      <td>779</td>\n",
       "      <td>80+</td>\n",
       "      <td>NaN</td>\n",
       "      <td>2022-02-17</td>\n",
       "      <td>246.0</td>\n",
       "    </tr>\n",
       "    <tr>\n",
       "      <th>901</th>\n",
       "      <td>787</td>\n",
       "      <td>80+</td>\n",
       "      <td>NaN</td>\n",
       "      <td>2022-02-17</td>\n",
       "      <td>263.0</td>\n",
       "    </tr>\n",
       "    <tr>\n",
       "      <th>902</th>\n",
       "      <td>791</td>\n",
       "      <td>80+</td>\n",
       "      <td>NaN</td>\n",
       "      <td>2022-02-17</td>\n",
       "      <td>496.0</td>\n",
       "    </tr>\n",
       "    <tr>\n",
       "      <th>903</th>\n",
       "      <td>810</td>\n",
       "      <td>80+</td>\n",
       "      <td>NaN</td>\n",
       "      <td>2022-02-17</td>\n",
       "      <td>186.0</td>\n",
       "    </tr>\n",
       "    <tr>\n",
       "      <th>904</th>\n",
       "      <td>813</td>\n",
       "      <td>80+</td>\n",
       "      <td>NaN</td>\n",
       "      <td>2022-02-17</td>\n",
       "      <td>326.0</td>\n",
       "    </tr>\n",
       "    <tr>\n",
       "      <th>905</th>\n",
       "      <td>820</td>\n",
       "      <td>80+</td>\n",
       "      <td>NaN</td>\n",
       "      <td>2022-02-17</td>\n",
       "      <td>336.0</td>\n",
       "    </tr>\n",
       "    <tr>\n",
       "      <th>906</th>\n",
       "      <td>825</td>\n",
       "      <td>80+</td>\n",
       "      <td>NaN</td>\n",
       "      <td>2022-02-17</td>\n",
       "      <td>3.0</td>\n",
       "    </tr>\n",
       "    <tr>\n",
       "      <th>907</th>\n",
       "      <td>840</td>\n",
       "      <td>80+</td>\n",
       "      <td>NaN</td>\n",
       "      <td>2022-02-17</td>\n",
       "      <td>149.0</td>\n",
       "    </tr>\n",
       "    <tr>\n",
       "      <th>908</th>\n",
       "      <td>846</td>\n",
       "      <td>80+</td>\n",
       "      <td>NaN</td>\n",
       "      <td>2022-02-17</td>\n",
       "      <td>273.0</td>\n",
       "    </tr>\n",
       "    <tr>\n",
       "      <th>909</th>\n",
       "      <td>849</td>\n",
       "      <td>80+</td>\n",
       "      <td>NaN</td>\n",
       "      <td>2022-02-17</td>\n",
       "      <td>199.0</td>\n",
       "    </tr>\n",
       "    <tr>\n",
       "      <th>910</th>\n",
       "      <td>851</td>\n",
       "      <td>80+</td>\n",
       "      <td>NaN</td>\n",
       "      <td>2022-02-17</td>\n",
       "      <td>985.0</td>\n",
       "    </tr>\n",
       "    <tr>\n",
       "      <th>911</th>\n",
       "      <td>860</td>\n",
       "      <td>80+</td>\n",
       "      <td>NaN</td>\n",
       "      <td>2022-02-17</td>\n",
       "      <td>427.0</td>\n",
       "    </tr>\n",
       "  </tbody>\n",
       "</table>\n",
       "<p>96893 rows × 5 columns</p>\n",
       "</div>"
      ],
      "text/plain": [
       "     Kommune Aldersgruppe  Bekræftede tilfælde   Dagsdato  \\\n",
       "0          0          0-2                 24.0 2021-09-22   \n",
       "1         19          0-2                  6.0 2021-09-22   \n",
       "2        101          0-2               1028.0 2021-09-22   \n",
       "3        147          0-2                161.0 2021-09-22   \n",
       "4        151          0-2                 86.0 2021-09-22   \n",
       "5        153          0-2                 81.0 2021-09-22   \n",
       "6        155          0-2                 18.0 2021-09-22   \n",
       "7        157          0-2                 55.0 2021-09-22   \n",
       "8        159          0-2                116.0 2021-09-22   \n",
       "9        161          0-2                 47.0 2021-09-22   \n",
       "10       163          0-2                 42.0 2021-09-22   \n",
       "11       165          0-2                 50.0 2021-09-22   \n",
       "12       167          0-2                100.0 2021-09-22   \n",
       "13       169          0-2                130.0 2021-09-22   \n",
       "14       173          0-2                 45.0 2021-09-22   \n",
       "15       175          0-2                 77.0 2021-09-22   \n",
       "16       183          0-2                 69.0 2021-09-22   \n",
       "17       185          0-2                 75.0 2021-09-22   \n",
       "18       187          0-2                 37.0 2021-09-22   \n",
       "19       190          0-2                 38.0 2021-09-22   \n",
       "20       201          0-2                 12.0 2021-09-22   \n",
       "21       210          0-2                 61.0 2021-09-22   \n",
       "22       217          0-2                 53.0 2021-09-22   \n",
       "23       219          0-2                 51.0 2021-09-22   \n",
       "24       223          0-2                 18.0 2021-09-22   \n",
       "..       ...          ...                  ...        ...   \n",
       "887      706          80+                  NaN 2022-02-17   \n",
       "888      707          80+                  NaN 2022-02-17   \n",
       "889      710          80+                  NaN 2022-02-17   \n",
       "890      727          80+                  NaN 2022-02-17   \n",
       "891      730          80+                  NaN 2022-02-17   \n",
       "892      740          80+                  NaN 2022-02-17   \n",
       "893      741          80+                  NaN 2022-02-17   \n",
       "894      746          80+                  NaN 2022-02-17   \n",
       "895      751          80+                  NaN 2022-02-17   \n",
       "896      756          80+                  NaN 2022-02-17   \n",
       "897      760          80+                  NaN 2022-02-17   \n",
       "898      766          80+                  NaN 2022-02-17   \n",
       "899      773          80+                  NaN 2022-02-17   \n",
       "900      779          80+                  NaN 2022-02-17   \n",
       "901      787          80+                  NaN 2022-02-17   \n",
       "902      791          80+                  NaN 2022-02-17   \n",
       "903      810          80+                  NaN 2022-02-17   \n",
       "904      813          80+                  NaN 2022-02-17   \n",
       "905      820          80+                  NaN 2022-02-17   \n",
       "906      825          80+                  NaN 2022-02-17   \n",
       "907      840          80+                  NaN 2022-02-17   \n",
       "908      846          80+                  NaN 2022-02-17   \n",
       "909      849          80+                  NaN 2022-02-17   \n",
       "910      851          80+                  NaN 2022-02-17   \n",
       "911      860          80+                  NaN 2022-02-17   \n",
       "\n",
       "     Bekræftede tilfælde i alt  \n",
       "0                          NaN  \n",
       "1                          NaN  \n",
       "2                          NaN  \n",
       "3                          NaN  \n",
       "4                          NaN  \n",
       "5                          NaN  \n",
       "6                          NaN  \n",
       "7                          NaN  \n",
       "8                          NaN  \n",
       "9                          NaN  \n",
       "10                         NaN  \n",
       "11                         NaN  \n",
       "12                         NaN  \n",
       "13                         NaN  \n",
       "14                         NaN  \n",
       "15                         NaN  \n",
       "16                         NaN  \n",
       "17                         NaN  \n",
       "18                         NaN  \n",
       "19                         NaN  \n",
       "20                         NaN  \n",
       "21                         NaN  \n",
       "22                         NaN  \n",
       "23                         NaN  \n",
       "24                         NaN  \n",
       "..                         ...  \n",
       "887                      231.0  \n",
       "888                      161.0  \n",
       "889                      162.0  \n",
       "890                      107.0  \n",
       "891                      523.0  \n",
       "892                      389.0  \n",
       "893                       17.0  \n",
       "894                      271.0  \n",
       "895                     1315.0  \n",
       "896                      246.0  \n",
       "897                      316.0  \n",
       "898                      245.0  \n",
       "899                      137.0  \n",
       "900                      246.0  \n",
       "901                      263.0  \n",
       "902                      496.0  \n",
       "903                      186.0  \n",
       "904                      326.0  \n",
       "905                      336.0  \n",
       "906                        3.0  \n",
       "907                      149.0  \n",
       "908                      273.0  \n",
       "909                      199.0  \n",
       "910                      985.0  \n",
       "911                      427.0  \n",
       "\n",
       "[96893 rows x 5 columns]"
      ]
     },
     "execution_count": 20,
     "metadata": {},
     "output_type": "execute_result"
    }
   ],
   "source": [
    "# np.array(dayDiff).unique()\n",
    "# pd.DataFrame(data=dayDiff).loc[:,0].unique()\n",
    "\n",
    "# df['Kommune']\n",
    "df"
   ]
  },
  {
   "cell_type": "code",
   "execution_count": 21,
   "metadata": {},
   "outputs": [
    {
     "data": {
      "text/plain": [
       "101"
      ]
     },
     "execution_count": 21,
     "metadata": {},
     "output_type": "execute_result"
    }
   ],
   "source": [
    "\n",
    "df_kommunekort = pd.read_csv(latestdir+'/Kommunalt_DB/10_Kommune_kort.csv',encoding='latin1',\n",
    "                                delimiter = ';')\n",
    "df_kommunekort = df_kommunekort.set_index(\"Kommunenavn\")\n",
    "\n",
    "# kommune_nr = kommune_df.Kommune.iloc[0]\n",
    "# df_kommunekort['København'] \n",
    "df_kommunekort['Kommune']['København']"
   ]
  },
  {
   "cell_type": "code",
   "execution_count": 22,
   "metadata": {},
   "outputs": [],
   "source": [
    "\n",
    "# curKom = 101\n",
    "# curAge = '6-11'\n",
    "# curdf = df[(df.Kommune == curKom) & (df.Aldersgruppe == curAge)]\n",
    "# curdf.tail(10)\n",
    "# # df[df.Kommune == 101].tail(20)\n",
    "\n",
    "def getDiffTimeSeries(komCode,Age):\n",
    "\n",
    "    curdf = df[(df.Kommune == komCode) & (df.Aldersgruppe == Age)] \n",
    "\n",
    "    if (len(curdf) == 0):\n",
    "        return np.array(np.datetime64('today')),np.array([0])\n",
    "        \n",
    "    dayDiff = [int(x) for x in (curdf.Dagsdato.diff()/np.timedelta64(1,'D')).fillna(0)]\n",
    "\n",
    "    curDays = []\n",
    "    curDiffs = []\n",
    "    for i in range(1,len(curdf)):\n",
    "        curRow = curdf.iloc[i]\n",
    "        prevRow = curdf.iloc[i-1]\n",
    "        \n",
    "        curCount = curRow['Bekræftede tilfælde']\n",
    "        if (np.isnan(curCount)):\n",
    "            curCount = curRow['Bekræftede tilfælde i alt']\n",
    "        prevCount = prevRow['Bekræftede tilfælde']\n",
    "        if (np.isnan(prevCount)):\n",
    "            prevCount = prevRow['Bekræftede tilfælde i alt']\n",
    "        \n",
    "        if (dayDiff[i] == 1):\n",
    "            curDays.append(curRow.Dagsdato)\n",
    "            # curDiffs.append(curRow['Bekræftede tilfælde']-prevRow['Bekræftede tilfælde']) \n",
    "            curDiffs.append(curCount-prevCount) \n",
    "        elif (dayDiff[i] == 3):\n",
    "            # curCount = curRow['Bekræftede tilfælde']-prevRow['Bekræftede tilfælde']\n",
    "            toAppend = curCount-prevCount\n",
    "            curDays.append(curRow.Dagsdato-np.timedelta64(2,'D'))\n",
    "            curDays.append(curRow.Dagsdato-np.timedelta64(1,'D'))\n",
    "            curDays.append(curRow.Dagsdato)\n",
    "            # curDiffs.append(curCount/3) \n",
    "            # curDiffs.append(curCount/3) \n",
    "            # curDiffs.append(curCount/3) \n",
    "            curDiffs.append(toAppend/3) \n",
    "            curDiffs.append(toAppend/3) \n",
    "            curDiffs.append(toAppend/3) \n",
    "\n",
    "    return np.array(curDays),np.array(curDiffs)\n",
    "\n",
    "# curDates,curCounts = getDiffTimeSeries(101,'6-11')\n",
    "curDates,curCounts = getDiffTimeSeries(101,'20-39')\n",
    "# df_kommunekort['Kommune']['Samsø']\n",
    "# curDates,curCounts = getDiffTimeSeries(741,'0-2')\n",
    "# getDiffTimeSeries(741,'3-5')\n",
    "# print(curDates[-10:])\n",
    "# print(curCounts[-10:])\n",
    "# plt.figure()\n",
    "# plt.plot(curDays,curDiffs)\n",
    "# plt.plot(rnTime(curDays,7),rnMean(curDiffs,7))"
   ]
  },
  {
   "cell_type": "code",
   "execution_count": 23,
   "metadata": {},
   "outputs": [
    {
     "data": {
      "text/plain": [
       "array(['Aabenraa', 'Aalborg', 'Albertslund', 'Allerød', 'Assens',\n",
       "       'Ballerup', 'Billund', 'Bornholm', 'Brøndby', 'Brønderslev',\n",
       "       'Dragør', 'Egedal', 'Esbjerg', 'Faaborg-Midtfyn', 'Fanø',\n",
       "       'Favrskov', 'Faxe', 'Fredensborg', 'Fredericia', 'Frederiksberg',\n",
       "       'Frederikshavn', 'Frederikssund', 'Furesø', 'Gentofte', 'Gladsaxe',\n",
       "       'Glostrup', 'Greve', 'Gribskov', 'Guldborgsund', 'Haderslev',\n",
       "       'Halsnæs', 'Hedensted', 'Helsingør', 'Herlev', 'Herning',\n",
       "       'Hillerød', 'Hjørring', 'Holbæk', 'Holstebro', 'Horsens',\n",
       "       'Hvidovre', 'Høje Tåstrup', 'Hørsholm', 'Ikast-Brande', 'Ishøj',\n",
       "       'Jammerbugt', 'Kalundborg', 'Kerteminde', 'Kolding', 'København',\n",
       "       'Køge', 'Langeland', 'Lejre', 'Lemvig', 'Lolland',\n",
       "       'Lyngby-Taarbæk', 'Læsø', 'Mariagerfjord', 'Middelfart', 'Morsø',\n",
       "       'Norddjurs', 'Nordfyn', 'Nyborg', 'Næstved', 'Odder', 'Odense',\n",
       "       'Odsherred', 'Randers', 'Rebild', 'Ringkøbing-Skjern', 'Ringsted',\n",
       "       'Roskilde', 'Rudersdal', 'Rødovre', 'Samsø', 'Silkeborg',\n",
       "       'Skanderborg', 'Skive', 'Slagelse', 'Solrød', 'Sorø', 'Stevns',\n",
       "       'Struer', 'Svendborg', 'Syddjurs', 'Sønderborg', 'Thisted',\n",
       "       'Tårnby', 'Tønder', 'Vallensbæk', 'Varde', 'Vejen', 'Vejle',\n",
       "       'Vesthimmerland', 'Viborg', 'Vordingborg', 'Århus', 'Ærø'],\n",
       "      dtype=object)"
      ]
     },
     "execution_count": 23,
     "metadata": {},
     "output_type": "execute_result"
    }
   ],
   "source": [
    "# asdf = pd.DataFrame() \n",
    "# asdf['Kommunenavn'] = df_kommunekort.index.unique()\n",
    "# asdf['Samlet population'] = [getPopSize(x) for x in df_kommunekort.index.unique()]\n",
    "# asdf\n",
    "np.sort(df_kommunekort.index.values[1:])"
   ]
  },
  {
   "cell_type": "markdown",
   "metadata": {},
   "source": [
    "# First, some overview figures for Copenhagen"
   ]
  },
  {
   "cell_type": "code",
   "execution_count": 24,
   "metadata": {},
   "outputs": [
    {
     "data": {
      "application/vnd.jupyter.widget-view+json": {
       "model_id": "e94e8d0406bf485fa91bf9314c69ee4d",
       "version_major": 2,
       "version_minor": 0
      },
      "text/plain": [
       "Canvas(toolbar=Toolbar(toolitems=[('Home', 'Reset original view', 'home', 'home'), ('Back', 'Back to previous …"
      ]
     },
     "metadata": {},
     "output_type": "display_data"
    }
   ],
   "source": [
    "curKommuneNavn = 'København'\n",
    "# curKommuneNavn = 'Frederiksberg'\n",
    "# curKommuneNavn = 'Ishøj'\n",
    "# curKommuneNavn = 'Århus'\n",
    "# curKommuneNavn = 'Aalborg'\n",
    "# curKommuneNavn = 'Valby'\n",
    "allAge = df.Aldersgruppe.unique()[:-1]\n",
    "\n",
    "curKom = df_kommunekort['Kommune'][curKommuneNavn]\n",
    "\n",
    "curDates,curCounts = getDiffTimeSeries(curKom, '0-2')\n",
    "totCounts = curCounts \n",
    "curDates,curCounts = getDiffTimeSeries(curKom, '3-5')\n",
    "totCounts = totCounts + curCounts\n",
    "curDates,curCounts = getDiffTimeSeries(curKom, '6-11')\n",
    "totCounts = totCounts + curCounts\n",
    "curDates,curCounts = getDiffTimeSeries(curKom, '12-15')\n",
    "totCounts = totCounts + curCounts\n",
    "curDates,curCounts = getDiffTimeSeries(curKom, '16-19')\n",
    "totCounts = totCounts + curCounts\n",
    "\n",
    "\n",
    "dates20,counts20 = getDiffTimeSeries(curKom, '20-39')\n",
    "dates40,counts40 = getDiffTimeSeries(curKom, '40-64')\n",
    "dates65,counts65 = getDiffTimeSeries(curKom, '65-79') \n",
    "dates80,counts80 = getDiffTimeSeries(curKom, '80+') \n",
    "counts65 = counts65+counts80 \n",
    "\n",
    "# Remove data for 2022-02-10 where all reinfections where added to cumulative count\n",
    "curIndex = np.where(curDates == np.datetime64('2022-02-10'))[0][0]\n",
    "curDates = np.concatenate([curDates[:curIndex],curDates[curIndex+1:]])\n",
    "totCounts = np.concatenate([totCounts[:curIndex],totCounts[curIndex+1:]])\n",
    "\n",
    "curIndex = np.where(dates20 == np.datetime64('2022-02-10'))[0][0]\n",
    "dates20 = np.concatenate([dates20[:curIndex],dates20[curIndex+1:]])\n",
    "counts20 = np.concatenate([counts20[:curIndex],counts20[curIndex+1:]])\n",
    "\n",
    "curIndex = np.where(dates40 == np.datetime64('2022-02-10'))[0][0]\n",
    "dates40 = np.concatenate([dates40[:curIndex],dates40[curIndex+1:]])\n",
    "counts40 = np.concatenate([counts40[:curIndex],counts40[curIndex+1:]])\n",
    "\n",
    "curIndex = np.where(dates65 == np.datetime64('2022-02-10'))[0][0]\n",
    "dates65 = np.concatenate([dates65[:curIndex],dates65[curIndex+1:]])\n",
    "counts65 = np.concatenate([counts65[:curIndex],counts65[curIndex+1:]])\n",
    "\n",
    "fig,ax1 = plt.subplots()\n",
    "fig.patch.set_facecolor('xkcd:off white')\n",
    "ax1.set_facecolor('xkcd:off white')\n",
    "\n",
    "ax1.plot(curDates,totCounts,'.:m',markersize=2,linewidth=0.5)\n",
    "ax1.plot(rnTime(curDates,7),rnMean(totCounts,7),'m',label='0-19 årige')\n",
    "\n",
    "ax1.plot(dates20,counts20,'.:b',markersize=2,linewidth=0.5)\n",
    "ax1.plot(rnTime(dates20,7),rnMean(counts20,7),'b',label='20-39 årige')\n",
    "\n",
    "ax1.plot(dates40,counts40,'.:g',markersize=2,linewidth=0.5)\n",
    "ax1.plot(rnTime(dates40,7),rnMean(counts40,7),'g',label='40-64 årige')\n",
    "\n",
    "ax1.plot(dates65,counts65,'.:r',markersize=2,linewidth=0.5)\n",
    "ax1.plot(rnTime(dates65,7),rnMean(counts65,7),'r',label='65+')\n",
    "\n",
    "ax1.legend()\n",
    "\n",
    "ax1.set_ylim(bottom=0)\n",
    "\n",
    "ax1.set_xlim(left=np.datetime64('2021-12-01'))\n",
    "ax1.set_xlim(right=curDates[-1])\n",
    "\n",
    "ax1.xaxis.set_major_formatter(mdates.DateFormatter('%d\\n%b'))\n",
    "\n",
    "# Draw weekends\n",
    "firstSunday = np.datetime64('2021-10-03')\n",
    "numWeeks = 52\n",
    "for k in range(-numWeeks,numWeeks):\n",
    "        curSunday = firstSunday + np.timedelta64(7*k,'D')\n",
    "        ax1.axvspan(curSunday-np.timedelta64(1,'D')-np.timedelta64(12,'h'),curSunday+np.timedelta64(12,'h'),zorder=-1,facecolor='lightgrey',label=int(k==0)*'Weekend')\n",
    "ax1.grid(axis='y')\n",
    "\n",
    "ax1.set_ylabel('Antal daglige smittetilfælde')\n",
    "\n",
    "fig.tight_layout()\n",
    "if saveFigures:\n",
    "    fig.savefig(path_figs+'../'+curKommuneNavn+'GrupperedeAldre')"
   ]
  },
  {
   "cell_type": "code",
   "execution_count": 25,
   "metadata": {},
   "outputs": [
    {
     "data": {
      "application/vnd.jupyter.widget-view+json": {
       "model_id": "ce75564587224fb6a4228e960068d5aa",
       "version_major": 2,
       "version_minor": 0
      },
      "text/plain": [
       "Canvas(toolbar=Toolbar(toolitems=[('Home', 'Reset original view', 'home', 'home'), ('Back', 'Back to previous …"
      ]
     },
     "metadata": {},
     "output_type": "display_data"
    }
   ],
   "source": [
    "# curKommuneNavn = 'København'\n",
    "# curKommuneNavn = 'Frederiksberg'\n",
    "# curKommuneNavn = 'Ishøj'\n",
    "# curKommuneNavn = 'Århus'\n",
    "\n",
    "fig,ax1 = plt.subplots()\n",
    "fig.patch.set_facecolor('xkcd:off white')\n",
    "ax1.set_facecolor('xkcd:off white')\n",
    "\n",
    "# ax1.plot(curDates,totCounts,'.:m',markersize=2,linewidth=0.5)\n",
    "# ax1.plot(rnTime(curDates,7),rnMean(totCounts,7),'m',label='0-19 årige')\n",
    "\n",
    "# ax1.plot(dates20,counts20,'.:b',markersize=2,linewidth=0.5)\n",
    "# ax1.plot(rnTime(dates20,7),rnMean(counts20,7),'b',label='20-39 årige')\n",
    "\n",
    "# ax1.plot(dates40,counts40,'.:g',markersize=2,linewidth=0.5)\n",
    "# ax1.plot(rnTime(dates40,7),rnMean(counts40,7),'g',label='40-64 årige')\n",
    "\n",
    "ax1.plot(dates65,counts65,'.:r',markersize=2,linewidth=0.5)\n",
    "ax1.plot(rnTime(dates65,7),rnMean(counts65,7),'r',label='65+')\n",
    "\n",
    "ax1.legend()\n",
    "\n",
    "ax1.set_ylim(bottom=0)\n",
    "\n",
    "ax1.set_xlim(left=np.datetime64('2021-12-01'))\n",
    "ax1.set_xlim(right=curDates[-1])\n",
    "\n",
    "ax1.xaxis.set_major_formatter(mdates.DateFormatter('%d\\n%b'))\n",
    "\n",
    "# Draw weekends\n",
    "firstSunday = np.datetime64('2021-10-03')\n",
    "numWeeks = 52\n",
    "for k in range(-numWeeks,numWeeks):\n",
    "        curSunday = firstSunday + np.timedelta64(7*k,'D')\n",
    "        ax1.axvspan(curSunday-np.timedelta64(1,'D')-np.timedelta64(12,'h'),curSunday+np.timedelta64(12,'h'),zorder=-1,facecolor='lightgrey',label=int(k==0)*'Weekend')\n",
    "ax1.grid(axis='y')\n",
    "\n",
    "ax1.set_ylabel('Antal daglige smittetilfælde')\n",
    "\n",
    "fig.tight_layout()\n",
    "if saveFigures:\n",
    "    fig.savefig(path_figs+'../'+curKommuneNavn+'65+')"
   ]
  },
  {
   "cell_type": "code",
   "execution_count": 26,
   "metadata": {},
   "outputs": [
    {
     "data": {
      "application/vnd.jupyter.widget-view+json": {
       "model_id": "cbb1fd107f42473b8901cfaca3f6e9b2",
       "version_major": 2,
       "version_minor": 0
      },
      "text/plain": [
       "Canvas(toolbar=Toolbar(toolitems=[('Home', 'Reset original view', 'home', 'home'), ('Back', 'Back to previous …"
      ]
     },
     "metadata": {},
     "output_type": "display_data"
    }
   ],
   "source": [
    "\n",
    "\n",
    "fig,(ax3,ax1,ax2) = plt.subplots(3,1,sharex=True,figsize=(12,15))\n",
    "fig.patch.set_facecolor('xkcd:off white')\n",
    "ax1.set_facecolor('xkcd:off white')\n",
    "ax2.set_facecolor('xkcd:off white')\n",
    "ax3.set_facecolor('xkcd:off white')\n",
    "\n",
    "curComb = totCounts + counts20\n",
    "rnDays = rnTime(curDates,7)\n",
    "\n",
    "ax3.plot(curDates,totCounts,'.:m',markersize=2,linewidth=0.5)\n",
    "ax3.plot(rnTime(curDates,7),rnMean(totCounts,7),'m',label='0-19 årige')\n",
    "\n",
    "ax3.plot(dates20,counts20,'.:b',markersize=2,linewidth=0.5)\n",
    "ax3.plot(rnTime(dates20,7),rnMean(counts20,7),'b',label='20-39 årige')\n",
    "\n",
    "ax1.fill_between(rnDays,rnMean(counts20,7),color='b')\n",
    "ax1.fill_between(rnDays,rnMean(curComb,7),rnMean(counts20,7),color='m')\n",
    "\n",
    "ax2.fill_between(rnDays,100*rnMean(counts20,7)/rnMean(curComb,7),color='b')\n",
    "ax2.fill_between(rnDays,100*rnMean(curComb,7)/rnMean(curComb,7),100*rnMean(counts20,7)/rnMean(curComb,7),color='m')\n",
    "\n",
    "\n",
    "# ax1.plot(curDates,totCounts,'.:m',markersize=2,linewidth=0.5)\n",
    "# ax1.plot(rnTime(curDates,7),rnMean(totCounts,7),'m',label='0-19 årige')\n",
    "# # ax1.plot(dates20,counts20,'.:b',markersize=2,linewidth=0.5)\n",
    "# ax1.plot(rnTime(dates20,7),rnMean(counts20,7),'b',label='20-39 årige')\n",
    "\n",
    "# # ax1.plot(dates20,counts20+totCounts,'.:k',markersize=2,linewidth=0.5)\n",
    "# ax1.plot(rnTime(dates20,7),rnMean(curComb,7),'k--',label='Alle 0 til 39 årige')\n",
    "\n",
    "ax1.set_ylim(bottom=0)\n",
    "ax2.set_ylim(bottom=0,top=100)\n",
    "ax3.set_ylim(bottom=0)\n",
    "ax3.set_ylim(top=3000)\n",
    "ax1.set_xlim(left=np.datetime64('2021-12-15'))\n",
    "ax1.set_xlim(right=curDates[-1])\n",
    "\n",
    "ax1.xaxis.set_major_formatter(mdates.DateFormatter('%d\\n%b'))\n",
    "\n",
    "# Draw weekends\n",
    "firstSunday = np.datetime64('2021-10-03')\n",
    "numWeeks = 52\n",
    "for k in range(-numWeeks,numWeeks):\n",
    "        curSunday = firstSunday + np.timedelta64(7*k,'D')\n",
    "        ax1.axvspan(curSunday-np.timedelta64(1,'D')-np.timedelta64(12,'h'),curSunday+np.timedelta64(12,'h'),zorder=-1,facecolor='lightgrey',label=int(k==0)*'Weekend')\n",
    "        ax3.axvspan(curSunday-np.timedelta64(1,'D')-np.timedelta64(12,'h'),curSunday+np.timedelta64(12,'h'),zorder=-1,facecolor='lightgrey',label=int(k==0)*'Weekend')\n",
    "ax1.grid(axis='y')\n",
    "ax3.grid(axis='y')\n",
    "ax1.set_axisbelow(True)\n",
    "ax3.legend(loc='upper left')\n",
    "\n",
    "\n",
    "ax3.set_ylabel('Antal (hver for sig)')\n",
    "ax1.set_ylabel('Antal (stablet)')\n",
    "ax2.set_ylabel('Andel af smittetilfælde\\n(Blandt 0-39 år, %)')\n",
    "\n",
    "fig.tight_layout()\n",
    "\n",
    "# if saveFigures:\n",
    "#     fig.savefig(path_figs+'../KøbenhavnUnge')\n",
    "if saveFigures:\n",
    "    fig.savefig(path_figs+'../'+curKommuneNavn+'Unge')"
   ]
  },
  {
   "cell_type": "markdown",
   "metadata": {},
   "source": [
    "# Make figures of number of cases for all municipalities"
   ]
  },
  {
   "cell_type": "code",
   "execution_count": 27,
   "metadata": {},
   "outputs": [
    {
     "data": {
      "application/vnd.jupyter.widget-view+json": {
       "model_id": "0de4a49b7fb140af904ee20726613fe9",
       "version_major": 2,
       "version_minor": 0
      },
      "text/plain": [
       "Canvas(toolbar=Toolbar(toolitems=[('Home', 'Reset original view', 'home', 'home'), ('Back', 'Back to previous …"
      ]
     },
     "metadata": {},
     "output_type": "display_data"
    },
    {
     "data": {
      "application/vnd.jupyter.widget-view+json": {
       "model_id": "4bdea18e2f354e41bc6d4cd542875da0",
       "version_major": 2,
       "version_minor": 0
      },
      "text/plain": [
       "Canvas(toolbar=Toolbar(toolitems=[('Home', 'Reset original view', 'home', 'home'), ('Back', 'Back to previous …"
      ]
     },
     "metadata": {},
     "output_type": "display_data"
    },
    {
     "data": {
      "application/vnd.jupyter.widget-view+json": {
       "model_id": "048f5ab1375946cd8a4f6c053cded1da",
       "version_major": 2,
       "version_minor": 0
      },
      "text/plain": [
       "Canvas(toolbar=Toolbar(toolitems=[('Home', 'Reset original view', 'home', 'home'), ('Back', 'Back to previous …"
      ]
     },
     "metadata": {},
     "output_type": "display_data"
    },
    {
     "data": {
      "application/vnd.jupyter.widget-view+json": {
       "model_id": "cb3094988ba14a42b29c02f195f0bf74",
       "version_major": 2,
       "version_minor": 0
      },
      "text/plain": [
       "Canvas(toolbar=Toolbar(toolitems=[('Home', 'Reset original view', 'home', 'home'), ('Back', 'Back to previous …"
      ]
     },
     "metadata": {},
     "output_type": "display_data"
    },
    {
     "data": {
      "application/vnd.jupyter.widget-view+json": {
       "model_id": "e1f425db36a145a0a63ce2537604283c",
       "version_major": 2,
       "version_minor": 0
      },
      "text/plain": [
       "Canvas(toolbar=Toolbar(toolitems=[('Home', 'Reset original view', 'home', 'home'), ('Back', 'Back to previous …"
      ]
     },
     "metadata": {},
     "output_type": "display_data"
    },
    {
     "data": {
      "application/vnd.jupyter.widget-view+json": {
       "model_id": "a424ba33d181445885bc5ba48f96d990",
       "version_major": 2,
       "version_minor": 0
      },
      "text/plain": [
       "Canvas(toolbar=Toolbar(toolitems=[('Home', 'Reset original view', 'home', 'home'), ('Back', 'Back to previous …"
      ]
     },
     "metadata": {},
     "output_type": "display_data"
    },
    {
     "data": {
      "application/vnd.jupyter.widget-view+json": {
       "model_id": "d4103bede07a40b283a4f8bd706a9957",
       "version_major": 2,
       "version_minor": 0
      },
      "text/plain": [
       "Canvas(toolbar=Toolbar(toolitems=[('Home', 'Reset original view', 'home', 'home'), ('Back', 'Back to previous …"
      ]
     },
     "metadata": {},
     "output_type": "display_data"
    },
    {
     "data": {
      "application/vnd.jupyter.widget-view+json": {
       "model_id": "43e3cc6b6c774ae2b6b9769eafc74076",
       "version_major": 2,
       "version_minor": 0
      },
      "text/plain": [
       "Canvas(toolbar=Toolbar(toolitems=[('Home', 'Reset original view', 'home', 'home'), ('Back', 'Back to previous …"
      ]
     },
     "metadata": {},
     "output_type": "display_data"
    },
    {
     "data": {
      "application/vnd.jupyter.widget-view+json": {
       "model_id": "9e083cfb00c543ccbf297afc41c69d7c",
       "version_major": 2,
       "version_minor": 0
      },
      "text/plain": [
       "Canvas(toolbar=Toolbar(toolitems=[('Home', 'Reset original view', 'home', 'home'), ('Back', 'Back to previous …"
      ]
     },
     "metadata": {},
     "output_type": "display_data"
    },
    {
     "data": {
      "application/vnd.jupyter.widget-view+json": {
       "model_id": "36c31115416c406a8780df4504a20442",
       "version_major": 2,
       "version_minor": 0
      },
      "text/plain": [
       "Canvas(toolbar=Toolbar(toolitems=[('Home', 'Reset original view', 'home', 'home'), ('Back', 'Back to previous …"
      ]
     },
     "metadata": {},
     "output_type": "display_data"
    },
    {
     "data": {
      "application/vnd.jupyter.widget-view+json": {
       "model_id": "16f1c2105d0e41f984910a295537ea54",
       "version_major": 2,
       "version_minor": 0
      },
      "text/plain": [
       "Canvas(toolbar=Toolbar(toolitems=[('Home', 'Reset original view', 'home', 'home'), ('Back', 'Back to previous …"
      ]
     },
     "metadata": {},
     "output_type": "display_data"
    },
    {
     "data": {
      "application/vnd.jupyter.widget-view+json": {
       "model_id": "87cde980655b411a8e1131cd226eb6ef",
       "version_major": 2,
       "version_minor": 0
      },
      "text/plain": [
       "Canvas(toolbar=Toolbar(toolitems=[('Home', 'Reset original view', 'home', 'home'), ('Back', 'Back to previous …"
      ]
     },
     "metadata": {},
     "output_type": "display_data"
    },
    {
     "data": {
      "application/vnd.jupyter.widget-view+json": {
       "model_id": "2aa3108064fa42469ba667c285518720",
       "version_major": 2,
       "version_minor": 0
      },
      "text/plain": [
       "Canvas(toolbar=Toolbar(toolitems=[('Home', 'Reset original view', 'home', 'home'), ('Back', 'Back to previous …"
      ]
     },
     "metadata": {},
     "output_type": "display_data"
    },
    {
     "data": {
      "application/vnd.jupyter.widget-view+json": {
       "model_id": "449c772b8a8647c1b54d3cbf984e7815",
       "version_major": 2,
       "version_minor": 0
      },
      "text/plain": [
       "Canvas(toolbar=Toolbar(toolitems=[('Home', 'Reset original view', 'home', 'home'), ('Back', 'Back to previous …"
      ]
     },
     "metadata": {},
     "output_type": "display_data"
    },
    {
     "data": {
      "application/vnd.jupyter.widget-view+json": {
       "model_id": "3574a86f350f46999c6ee7409ee8d00c",
       "version_major": 2,
       "version_minor": 0
      },
      "text/plain": [
       "Canvas(toolbar=Toolbar(toolitems=[('Home', 'Reset original view', 'home', 'home'), ('Back', 'Back to previous …"
      ]
     },
     "metadata": {},
     "output_type": "display_data"
    },
    {
     "data": {
      "application/vnd.jupyter.widget-view+json": {
       "model_id": "a0bf5e065a524d8fb480f4444816a7f3",
       "version_major": 2,
       "version_minor": 0
      },
      "text/plain": [
       "Canvas(toolbar=Toolbar(toolitems=[('Home', 'Reset original view', 'home', 'home'), ('Back', 'Back to previous …"
      ]
     },
     "metadata": {},
     "output_type": "display_data"
    },
    {
     "data": {
      "application/vnd.jupyter.widget-view+json": {
       "model_id": "828e903462b543bf96385cc9a9fe6b01",
       "version_major": 2,
       "version_minor": 0
      },
      "text/plain": [
       "Canvas(toolbar=Toolbar(toolitems=[('Home', 'Reset original view', 'home', 'home'), ('Back', 'Back to previous …"
      ]
     },
     "metadata": {},
     "output_type": "display_data"
    },
    {
     "data": {
      "application/vnd.jupyter.widget-view+json": {
       "model_id": "71d7d07622ce404781ee7325a79c8099",
       "version_major": 2,
       "version_minor": 0
      },
      "text/plain": [
       "Canvas(toolbar=Toolbar(toolitems=[('Home', 'Reset original view', 'home', 'home'), ('Back', 'Back to previous …"
      ]
     },
     "metadata": {},
     "output_type": "display_data"
    },
    {
     "data": {
      "application/vnd.jupyter.widget-view+json": {
       "model_id": "b638d99ef50a4bea8c3f96ebd9bb1b06",
       "version_major": 2,
       "version_minor": 0
      },
      "text/plain": [
       "Canvas(toolbar=Toolbar(toolitems=[('Home', 'Reset original view', 'home', 'home'), ('Back', 'Back to previous …"
      ]
     },
     "metadata": {},
     "output_type": "display_data"
    },
    {
     "data": {
      "application/vnd.jupyter.widget-view+json": {
       "model_id": "586e373b641f43e1a9356230cebb3181",
       "version_major": 2,
       "version_minor": 0
      },
      "text/plain": [
       "Canvas(toolbar=Toolbar(toolitems=[('Home', 'Reset original view', 'home', 'home'), ('Back', 'Back to previous …"
      ]
     },
     "metadata": {},
     "output_type": "display_data"
    },
    {
     "data": {
      "application/vnd.jupyter.widget-view+json": {
       "model_id": "f7e7813774944f10bc0a61722b91547c",
       "version_major": 2,
       "version_minor": 0
      },
      "text/plain": [
       "Canvas(toolbar=Toolbar(toolitems=[('Home', 'Reset original view', 'home', 'home'), ('Back', 'Back to previous …"
      ]
     },
     "metadata": {},
     "output_type": "display_data"
    },
    {
     "data": {
      "application/vnd.jupyter.widget-view+json": {
       "model_id": "57da8182aba2496396cc1085126614e1",
       "version_major": 2,
       "version_minor": 0
      },
      "text/plain": [
       "Canvas(toolbar=Toolbar(toolitems=[('Home', 'Reset original view', 'home', 'home'), ('Back', 'Back to previous …"
      ]
     },
     "metadata": {},
     "output_type": "display_data"
    },
    {
     "data": {
      "application/vnd.jupyter.widget-view+json": {
       "model_id": "b24dc3bc51aa4a92a18160ad3cdbc158",
       "version_major": 2,
       "version_minor": 0
      },
      "text/plain": [
       "Canvas(toolbar=Toolbar(toolitems=[('Home', 'Reset original view', 'home', 'home'), ('Back', 'Back to previous …"
      ]
     },
     "metadata": {},
     "output_type": "display_data"
    },
    {
     "data": {
      "application/vnd.jupyter.widget-view+json": {
       "model_id": "47a604013d404a0aaf5bba51ff2edb49",
       "version_major": 2,
       "version_minor": 0
      },
      "text/plain": [
       "Canvas(toolbar=Toolbar(toolitems=[('Home', 'Reset original view', 'home', 'home'), ('Back', 'Back to previous …"
      ]
     },
     "metadata": {},
     "output_type": "display_data"
    },
    {
     "data": {
      "application/vnd.jupyter.widget-view+json": {
       "model_id": "a44fd9d15b5341939268d898af24890a",
       "version_major": 2,
       "version_minor": 0
      },
      "text/plain": [
       "Canvas(toolbar=Toolbar(toolitems=[('Home', 'Reset original view', 'home', 'home'), ('Back', 'Back to previous …"
      ]
     },
     "metadata": {},
     "output_type": "display_data"
    },
    {
     "data": {
      "application/vnd.jupyter.widget-view+json": {
       "model_id": "a67f1343bca54f7e9662b0edb35b61b0",
       "version_major": 2,
       "version_minor": 0
      },
      "text/plain": [
       "Canvas(toolbar=Toolbar(toolitems=[('Home', 'Reset original view', 'home', 'home'), ('Back', 'Back to previous …"
      ]
     },
     "metadata": {},
     "output_type": "display_data"
    },
    {
     "data": {
      "application/vnd.jupyter.widget-view+json": {
       "model_id": "b6537edd66524ddf9c66d85f866fa10b",
       "version_major": 2,
       "version_minor": 0
      },
      "text/plain": [
       "Canvas(toolbar=Toolbar(toolitems=[('Home', 'Reset original view', 'home', 'home'), ('Back', 'Back to previous …"
      ]
     },
     "metadata": {},
     "output_type": "display_data"
    },
    {
     "data": {
      "application/vnd.jupyter.widget-view+json": {
       "model_id": "d51a6fdbe3034188b0c6031e24d30418",
       "version_major": 2,
       "version_minor": 0
      },
      "text/plain": [
       "Canvas(toolbar=Toolbar(toolitems=[('Home', 'Reset original view', 'home', 'home'), ('Back', 'Back to previous …"
      ]
     },
     "metadata": {},
     "output_type": "display_data"
    },
    {
     "data": {
      "application/vnd.jupyter.widget-view+json": {
       "model_id": "f989d0ffb5f54f0686dac05c130dce91",
       "version_major": 2,
       "version_minor": 0
      },
      "text/plain": [
       "Canvas(toolbar=Toolbar(toolitems=[('Home', 'Reset original view', 'home', 'home'), ('Back', 'Back to previous …"
      ]
     },
     "metadata": {},
     "output_type": "display_data"
    },
    {
     "data": {
      "application/vnd.jupyter.widget-view+json": {
       "model_id": "25cbfbae36da4c61bc22a4025d7c69c3",
       "version_major": 2,
       "version_minor": 0
      },
      "text/plain": [
       "Canvas(toolbar=Toolbar(toolitems=[('Home', 'Reset original view', 'home', 'home'), ('Back', 'Back to previous …"
      ]
     },
     "metadata": {},
     "output_type": "display_data"
    },
    {
     "data": {
      "application/vnd.jupyter.widget-view+json": {
       "model_id": "fefee9926e224c4f9acd8f0b050d76c4",
       "version_major": 2,
       "version_minor": 0
      },
      "text/plain": [
       "Canvas(toolbar=Toolbar(toolitems=[('Home', 'Reset original view', 'home', 'home'), ('Back', 'Back to previous …"
      ]
     },
     "metadata": {},
     "output_type": "display_data"
    },
    {
     "data": {
      "application/vnd.jupyter.widget-view+json": {
       "model_id": "80f9d1828da44303b96a4957944ed886",
       "version_major": 2,
       "version_minor": 0
      },
      "text/plain": [
       "Canvas(toolbar=Toolbar(toolitems=[('Home', 'Reset original view', 'home', 'home'), ('Back', 'Back to previous …"
      ]
     },
     "metadata": {},
     "output_type": "display_data"
    },
    {
     "data": {
      "application/vnd.jupyter.widget-view+json": {
       "model_id": "ba832782a37d4fe4a9f09ab95f7a9056",
       "version_major": 2,
       "version_minor": 0
      },
      "text/plain": [
       "Canvas(toolbar=Toolbar(toolitems=[('Home', 'Reset original view', 'home', 'home'), ('Back', 'Back to previous …"
      ]
     },
     "metadata": {},
     "output_type": "display_data"
    },
    {
     "data": {
      "application/vnd.jupyter.widget-view+json": {
       "model_id": "44cfd06e30a2414898a920e8c4bdec3e",
       "version_major": 2,
       "version_minor": 0
      },
      "text/plain": [
       "Canvas(toolbar=Toolbar(toolitems=[('Home', 'Reset original view', 'home', 'home'), ('Back', 'Back to previous …"
      ]
     },
     "metadata": {},
     "output_type": "display_data"
    },
    {
     "data": {
      "application/vnd.jupyter.widget-view+json": {
       "model_id": "bc8a9c40f29846869cd3554d33d2fdeb",
       "version_major": 2,
       "version_minor": 0
      },
      "text/plain": [
       "Canvas(toolbar=Toolbar(toolitems=[('Home', 'Reset original view', 'home', 'home'), ('Back', 'Back to previous …"
      ]
     },
     "metadata": {},
     "output_type": "display_data"
    },
    {
     "data": {
      "application/vnd.jupyter.widget-view+json": {
       "model_id": "bbf468944ac3404ab8ac7c3d61dee13c",
       "version_major": 2,
       "version_minor": 0
      },
      "text/plain": [
       "Canvas(toolbar=Toolbar(toolitems=[('Home', 'Reset original view', 'home', 'home'), ('Back', 'Back to previous …"
      ]
     },
     "metadata": {},
     "output_type": "display_data"
    },
    {
     "data": {
      "application/vnd.jupyter.widget-view+json": {
       "model_id": "54caa091cb29459d93faf4ac63401966",
       "version_major": 2,
       "version_minor": 0
      },
      "text/plain": [
       "Canvas(toolbar=Toolbar(toolitems=[('Home', 'Reset original view', 'home', 'home'), ('Back', 'Back to previous …"
      ]
     },
     "metadata": {},
     "output_type": "display_data"
    },
    {
     "data": {
      "application/vnd.jupyter.widget-view+json": {
       "model_id": "6149145c87cd4150a2535c4944f06063",
       "version_major": 2,
       "version_minor": 0
      },
      "text/plain": [
       "Canvas(toolbar=Toolbar(toolitems=[('Home', 'Reset original view', 'home', 'home'), ('Back', 'Back to previous …"
      ]
     },
     "metadata": {},
     "output_type": "display_data"
    },
    {
     "data": {
      "application/vnd.jupyter.widget-view+json": {
       "model_id": "ee525ffb2e054af5b4a5cfe912755979",
       "version_major": 2,
       "version_minor": 0
      },
      "text/plain": [
       "Canvas(toolbar=Toolbar(toolitems=[('Home', 'Reset original view', 'home', 'home'), ('Back', 'Back to previous …"
      ]
     },
     "metadata": {},
     "output_type": "display_data"
    },
    {
     "data": {
      "application/vnd.jupyter.widget-view+json": {
       "model_id": "3810702d783d443d86f16772e4a891fa",
       "version_major": 2,
       "version_minor": 0
      },
      "text/plain": [
       "Canvas(toolbar=Toolbar(toolitems=[('Home', 'Reset original view', 'home', 'home'), ('Back', 'Back to previous …"
      ]
     },
     "metadata": {},
     "output_type": "display_data"
    },
    {
     "data": {
      "application/vnd.jupyter.widget-view+json": {
       "model_id": "b9f3715dd36e416f998b3b2a364e788c",
       "version_major": 2,
       "version_minor": 0
      },
      "text/plain": [
       "Canvas(toolbar=Toolbar(toolitems=[('Home', 'Reset original view', 'home', 'home'), ('Back', 'Back to previous …"
      ]
     },
     "metadata": {},
     "output_type": "display_data"
    },
    {
     "data": {
      "application/vnd.jupyter.widget-view+json": {
       "model_id": "e2abbf1a6a1a46459d4b3765556ed46c",
       "version_major": 2,
       "version_minor": 0
      },
      "text/plain": [
       "Canvas(toolbar=Toolbar(toolitems=[('Home', 'Reset original view', 'home', 'home'), ('Back', 'Back to previous …"
      ]
     },
     "metadata": {},
     "output_type": "display_data"
    },
    {
     "data": {
      "application/vnd.jupyter.widget-view+json": {
       "model_id": "e3c730f157144c1092697abb7f90ac51",
       "version_major": 2,
       "version_minor": 0
      },
      "text/plain": [
       "Canvas(toolbar=Toolbar(toolitems=[('Home', 'Reset original view', 'home', 'home'), ('Back', 'Back to previous …"
      ]
     },
     "metadata": {},
     "output_type": "display_data"
    },
    {
     "data": {
      "application/vnd.jupyter.widget-view+json": {
       "model_id": "6b4672bf357e4f76b8fb2b5119a129f3",
       "version_major": 2,
       "version_minor": 0
      },
      "text/plain": [
       "Canvas(toolbar=Toolbar(toolitems=[('Home', 'Reset original view', 'home', 'home'), ('Back', 'Back to previous …"
      ]
     },
     "metadata": {},
     "output_type": "display_data"
    },
    {
     "data": {
      "application/vnd.jupyter.widget-view+json": {
       "model_id": "01e1414c47a84fc9accdea1586e987c7",
       "version_major": 2,
       "version_minor": 0
      },
      "text/plain": [
       "Canvas(toolbar=Toolbar(toolitems=[('Home', 'Reset original view', 'home', 'home'), ('Back', 'Back to previous …"
      ]
     },
     "metadata": {},
     "output_type": "display_data"
    },
    {
     "data": {
      "application/vnd.jupyter.widget-view+json": {
       "model_id": "af0e09b666894a17979a955867f42862",
       "version_major": 2,
       "version_minor": 0
      },
      "text/plain": [
       "Canvas(toolbar=Toolbar(toolitems=[('Home', 'Reset original view', 'home', 'home'), ('Back', 'Back to previous …"
      ]
     },
     "metadata": {},
     "output_type": "display_data"
    },
    {
     "data": {
      "application/vnd.jupyter.widget-view+json": {
       "model_id": "a8e58c2931064a6388bf6450da4b8468",
       "version_major": 2,
       "version_minor": 0
      },
      "text/plain": [
       "Canvas(toolbar=Toolbar(toolitems=[('Home', 'Reset original view', 'home', 'home'), ('Back', 'Back to previous …"
      ]
     },
     "metadata": {},
     "output_type": "display_data"
    },
    {
     "data": {
      "application/vnd.jupyter.widget-view+json": {
       "model_id": "95f7980bb0b4488d854038e27b1061c4",
       "version_major": 2,
       "version_minor": 0
      },
      "text/plain": [
       "Canvas(toolbar=Toolbar(toolitems=[('Home', 'Reset original view', 'home', 'home'), ('Back', 'Back to previous …"
      ]
     },
     "metadata": {},
     "output_type": "display_data"
    },
    {
     "data": {
      "application/vnd.jupyter.widget-view+json": {
       "model_id": "ba4a945f33884f4b91b209d711fed64c",
       "version_major": 2,
       "version_minor": 0
      },
      "text/plain": [
       "Canvas(toolbar=Toolbar(toolitems=[('Home', 'Reset original view', 'home', 'home'), ('Back', 'Back to previous …"
      ]
     },
     "metadata": {},
     "output_type": "display_data"
    },
    {
     "data": {
      "application/vnd.jupyter.widget-view+json": {
       "model_id": "8177245113304996930913b0042bfc13",
       "version_major": 2,
       "version_minor": 0
      },
      "text/plain": [
       "Canvas(toolbar=Toolbar(toolitems=[('Home', 'Reset original view', 'home', 'home'), ('Back', 'Back to previous …"
      ]
     },
     "metadata": {},
     "output_type": "display_data"
    },
    {
     "data": {
      "application/vnd.jupyter.widget-view+json": {
       "model_id": "8261c8cf134541e5a59fcf9a3238a99b",
       "version_major": 2,
       "version_minor": 0
      },
      "text/plain": [
       "Canvas(toolbar=Toolbar(toolitems=[('Home', 'Reset original view', 'home', 'home'), ('Back', 'Back to previous …"
      ]
     },
     "metadata": {},
     "output_type": "display_data"
    },
    {
     "data": {
      "application/vnd.jupyter.widget-view+json": {
       "model_id": "80988796685e4d30b3f397e67b92459c",
       "version_major": 2,
       "version_minor": 0
      },
      "text/plain": [
       "Canvas(toolbar=Toolbar(toolitems=[('Home', 'Reset original view', 'home', 'home'), ('Back', 'Back to previous …"
      ]
     },
     "metadata": {},
     "output_type": "display_data"
    },
    {
     "data": {
      "application/vnd.jupyter.widget-view+json": {
       "model_id": "5ed07e322b7e4af88fe8300cd678b60b",
       "version_major": 2,
       "version_minor": 0
      },
      "text/plain": [
       "Canvas(toolbar=Toolbar(toolitems=[('Home', 'Reset original view', 'home', 'home'), ('Back', 'Back to previous …"
      ]
     },
     "metadata": {},
     "output_type": "display_data"
    },
    {
     "data": {
      "application/vnd.jupyter.widget-view+json": {
       "model_id": "ea83031f850b4c16a7f65fbb87129ffb",
       "version_major": 2,
       "version_minor": 0
      },
      "text/plain": [
       "Canvas(toolbar=Toolbar(toolitems=[('Home', 'Reset original view', 'home', 'home'), ('Back', 'Back to previous …"
      ]
     },
     "metadata": {},
     "output_type": "display_data"
    },
    {
     "data": {
      "application/vnd.jupyter.widget-view+json": {
       "model_id": "0204abee04694d5d81861cc6b9901971",
       "version_major": 2,
       "version_minor": 0
      },
      "text/plain": [
       "Canvas(toolbar=Toolbar(toolitems=[('Home', 'Reset original view', 'home', 'home'), ('Back', 'Back to previous …"
      ]
     },
     "metadata": {},
     "output_type": "display_data"
    },
    {
     "data": {
      "application/vnd.jupyter.widget-view+json": {
       "model_id": "df66b8741ad540509a4c9e86038575c3",
       "version_major": 2,
       "version_minor": 0
      },
      "text/plain": [
       "Canvas(toolbar=Toolbar(toolitems=[('Home', 'Reset original view', 'home', 'home'), ('Back', 'Back to previous …"
      ]
     },
     "metadata": {},
     "output_type": "display_data"
    },
    {
     "data": {
      "application/vnd.jupyter.widget-view+json": {
       "model_id": "cc9897b2e5234aee87ca8cdec0457fcd",
       "version_major": 2,
       "version_minor": 0
      },
      "text/plain": [
       "Canvas(toolbar=Toolbar(toolitems=[('Home', 'Reset original view', 'home', 'home'), ('Back', 'Back to previous …"
      ]
     },
     "metadata": {},
     "output_type": "display_data"
    },
    {
     "data": {
      "application/vnd.jupyter.widget-view+json": {
       "model_id": "a377e2c7a7734384b9e99913ac4225ff",
       "version_major": 2,
       "version_minor": 0
      },
      "text/plain": [
       "Canvas(toolbar=Toolbar(toolitems=[('Home', 'Reset original view', 'home', 'home'), ('Back', 'Back to previous …"
      ]
     },
     "metadata": {},
     "output_type": "display_data"
    },
    {
     "data": {
      "application/vnd.jupyter.widget-view+json": {
       "model_id": "d2f218afb592479590da96d75f8af67f",
       "version_major": 2,
       "version_minor": 0
      },
      "text/plain": [
       "Canvas(toolbar=Toolbar(toolitems=[('Home', 'Reset original view', 'home', 'home'), ('Back', 'Back to previous …"
      ]
     },
     "metadata": {},
     "output_type": "display_data"
    },
    {
     "data": {
      "application/vnd.jupyter.widget-view+json": {
       "model_id": "5cf2183b6ae447ab84944226d4bbbbb7",
       "version_major": 2,
       "version_minor": 0
      },
      "text/plain": [
       "Canvas(toolbar=Toolbar(toolitems=[('Home', 'Reset original view', 'home', 'home'), ('Back', 'Back to previous …"
      ]
     },
     "metadata": {},
     "output_type": "display_data"
    },
    {
     "data": {
      "application/vnd.jupyter.widget-view+json": {
       "model_id": "aefe752ebf9f41d9a031fca2524e0d4e",
       "version_major": 2,
       "version_minor": 0
      },
      "text/plain": [
       "Canvas(toolbar=Toolbar(toolitems=[('Home', 'Reset original view', 'home', 'home'), ('Back', 'Back to previous …"
      ]
     },
     "metadata": {},
     "output_type": "display_data"
    },
    {
     "data": {
      "application/vnd.jupyter.widget-view+json": {
       "model_id": "39f5bde8e37b4d35943bc147229f88b3",
       "version_major": 2,
       "version_minor": 0
      },
      "text/plain": [
       "Canvas(toolbar=Toolbar(toolitems=[('Home', 'Reset original view', 'home', 'home'), ('Back', 'Back to previous …"
      ]
     },
     "metadata": {},
     "output_type": "display_data"
    },
    {
     "data": {
      "application/vnd.jupyter.widget-view+json": {
       "model_id": "d1a79955cc144ea4b4fa66cef51e4405",
       "version_major": 2,
       "version_minor": 0
      },
      "text/plain": [
       "Canvas(toolbar=Toolbar(toolitems=[('Home', 'Reset original view', 'home', 'home'), ('Back', 'Back to previous …"
      ]
     },
     "metadata": {},
     "output_type": "display_data"
    },
    {
     "data": {
      "application/vnd.jupyter.widget-view+json": {
       "model_id": "3d0313d951664023a8e283f8499920f2",
       "version_major": 2,
       "version_minor": 0
      },
      "text/plain": [
       "Canvas(toolbar=Toolbar(toolitems=[('Home', 'Reset original view', 'home', 'home'), ('Back', 'Back to previous …"
      ]
     },
     "metadata": {},
     "output_type": "display_data"
    },
    {
     "data": {
      "application/vnd.jupyter.widget-view+json": {
       "model_id": "f1eda7775d0542838b07667990ed6ab5",
       "version_major": 2,
       "version_minor": 0
      },
      "text/plain": [
       "Canvas(toolbar=Toolbar(toolitems=[('Home', 'Reset original view', 'home', 'home'), ('Back', 'Back to previous …"
      ]
     },
     "metadata": {},
     "output_type": "display_data"
    },
    {
     "data": {
      "application/vnd.jupyter.widget-view+json": {
       "model_id": "a36c22cdc9a3458aab6216e65f273368",
       "version_major": 2,
       "version_minor": 0
      },
      "text/plain": [
       "Canvas(toolbar=Toolbar(toolitems=[('Home', 'Reset original view', 'home', 'home'), ('Back', 'Back to previous …"
      ]
     },
     "metadata": {},
     "output_type": "display_data"
    },
    {
     "data": {
      "application/vnd.jupyter.widget-view+json": {
       "model_id": "8880d3499e01476780dada3a8af5ab9b",
       "version_major": 2,
       "version_minor": 0
      },
      "text/plain": [
       "Canvas(toolbar=Toolbar(toolitems=[('Home', 'Reset original view', 'home', 'home'), ('Back', 'Back to previous …"
      ]
     },
     "metadata": {},
     "output_type": "display_data"
    },
    {
     "data": {
      "application/vnd.jupyter.widget-view+json": {
       "model_id": "ac61d81defb74f57b631b9ede4b49bdb",
       "version_major": 2,
       "version_minor": 0
      },
      "text/plain": [
       "Canvas(toolbar=Toolbar(toolitems=[('Home', 'Reset original view', 'home', 'home'), ('Back', 'Back to previous …"
      ]
     },
     "metadata": {},
     "output_type": "display_data"
    },
    {
     "data": {
      "application/vnd.jupyter.widget-view+json": {
       "model_id": "ae4b856e04334cb9b5fe77f8509ce8e7",
       "version_major": 2,
       "version_minor": 0
      },
      "text/plain": [
       "Canvas(toolbar=Toolbar(toolitems=[('Home', 'Reset original view', 'home', 'home'), ('Back', 'Back to previous …"
      ]
     },
     "metadata": {},
     "output_type": "display_data"
    },
    {
     "data": {
      "application/vnd.jupyter.widget-view+json": {
       "model_id": "73095e8ffde34c33b76562e86482daad",
       "version_major": 2,
       "version_minor": 0
      },
      "text/plain": [
       "Canvas(toolbar=Toolbar(toolitems=[('Home', 'Reset original view', 'home', 'home'), ('Back', 'Back to previous …"
      ]
     },
     "metadata": {},
     "output_type": "display_data"
    },
    {
     "data": {
      "application/vnd.jupyter.widget-view+json": {
       "model_id": "258705c04f6c4e289f950b980b4cc047",
       "version_major": 2,
       "version_minor": 0
      },
      "text/plain": [
       "Canvas(toolbar=Toolbar(toolitems=[('Home', 'Reset original view', 'home', 'home'), ('Back', 'Back to previous …"
      ]
     },
     "metadata": {},
     "output_type": "display_data"
    },
    {
     "data": {
      "application/vnd.jupyter.widget-view+json": {
       "model_id": "2283ac8de4ef4764ad4318ba16736b3e",
       "version_major": 2,
       "version_minor": 0
      },
      "text/plain": [
       "Canvas(toolbar=Toolbar(toolitems=[('Home', 'Reset original view', 'home', 'home'), ('Back', 'Back to previous …"
      ]
     },
     "metadata": {},
     "output_type": "display_data"
    },
    {
     "data": {
      "application/vnd.jupyter.widget-view+json": {
       "model_id": "4f88d477f1414e4e94ac2c945f4a9c99",
       "version_major": 2,
       "version_minor": 0
      },
      "text/plain": [
       "Canvas(toolbar=Toolbar(toolitems=[('Home', 'Reset original view', 'home', 'home'), ('Back', 'Back to previous …"
      ]
     },
     "metadata": {},
     "output_type": "display_data"
    },
    {
     "data": {
      "application/vnd.jupyter.widget-view+json": {
       "model_id": "a24f5604dd2d44fe94aee090539288e8",
       "version_major": 2,
       "version_minor": 0
      },
      "text/plain": [
       "Canvas(toolbar=Toolbar(toolitems=[('Home', 'Reset original view', 'home', 'home'), ('Back', 'Back to previous …"
      ]
     },
     "metadata": {},
     "output_type": "display_data"
    },
    {
     "data": {
      "application/vnd.jupyter.widget-view+json": {
       "model_id": "e6b27eed50d84e5ab2c7a1d00bd04710",
       "version_major": 2,
       "version_minor": 0
      },
      "text/plain": [
       "Canvas(toolbar=Toolbar(toolitems=[('Home', 'Reset original view', 'home', 'home'), ('Back', 'Back to previous …"
      ]
     },
     "metadata": {},
     "output_type": "display_data"
    },
    {
     "data": {
      "application/vnd.jupyter.widget-view+json": {
       "model_id": "65a698427dec4fdfb1ceb684d7c79738",
       "version_major": 2,
       "version_minor": 0
      },
      "text/plain": [
       "Canvas(toolbar=Toolbar(toolitems=[('Home', 'Reset original view', 'home', 'home'), ('Back', 'Back to previous …"
      ]
     },
     "metadata": {},
     "output_type": "display_data"
    },
    {
     "data": {
      "application/vnd.jupyter.widget-view+json": {
       "model_id": "abe1fee78e1d4ccbb30355fcb48409ee",
       "version_major": 2,
       "version_minor": 0
      },
      "text/plain": [
       "Canvas(toolbar=Toolbar(toolitems=[('Home', 'Reset original view', 'home', 'home'), ('Back', 'Back to previous …"
      ]
     },
     "metadata": {},
     "output_type": "display_data"
    },
    {
     "data": {
      "application/vnd.jupyter.widget-view+json": {
       "model_id": "a3bc770d6ad944c386eefeb25a52ab87",
       "version_major": 2,
       "version_minor": 0
      },
      "text/plain": [
       "Canvas(toolbar=Toolbar(toolitems=[('Home', 'Reset original view', 'home', 'home'), ('Back', 'Back to previous …"
      ]
     },
     "metadata": {},
     "output_type": "display_data"
    },
    {
     "data": {
      "application/vnd.jupyter.widget-view+json": {
       "model_id": "e8c37f006fa94dabaa477b33f05e1eb0",
       "version_major": 2,
       "version_minor": 0
      },
      "text/plain": [
       "Canvas(toolbar=Toolbar(toolitems=[('Home', 'Reset original view', 'home', 'home'), ('Back', 'Back to previous …"
      ]
     },
     "metadata": {},
     "output_type": "display_data"
    },
    {
     "data": {
      "application/vnd.jupyter.widget-view+json": {
       "model_id": "1d6ab401903844049c01cae85a7a6f65",
       "version_major": 2,
       "version_minor": 0
      },
      "text/plain": [
       "Canvas(toolbar=Toolbar(toolitems=[('Home', 'Reset original view', 'home', 'home'), ('Back', 'Back to previous …"
      ]
     },
     "metadata": {},
     "output_type": "display_data"
    },
    {
     "data": {
      "application/vnd.jupyter.widget-view+json": {
       "model_id": "aec561cf1d214f318478e7b8854d630f",
       "version_major": 2,
       "version_minor": 0
      },
      "text/plain": [
       "Canvas(toolbar=Toolbar(toolitems=[('Home', 'Reset original view', 'home', 'home'), ('Back', 'Back to previous …"
      ]
     },
     "metadata": {},
     "output_type": "display_data"
    },
    {
     "data": {
      "application/vnd.jupyter.widget-view+json": {
       "model_id": "5740456a907a4bc991c1314284e94c46",
       "version_major": 2,
       "version_minor": 0
      },
      "text/plain": [
       "Canvas(toolbar=Toolbar(toolitems=[('Home', 'Reset original view', 'home', 'home'), ('Back', 'Back to previous …"
      ]
     },
     "metadata": {},
     "output_type": "display_data"
    },
    {
     "data": {
      "application/vnd.jupyter.widget-view+json": {
       "model_id": "1ee5966e498d40949476feaec2bee2be",
       "version_major": 2,
       "version_minor": 0
      },
      "text/plain": [
       "Canvas(toolbar=Toolbar(toolitems=[('Home', 'Reset original view', 'home', 'home'), ('Back', 'Back to previous …"
      ]
     },
     "metadata": {},
     "output_type": "display_data"
    },
    {
     "data": {
      "application/vnd.jupyter.widget-view+json": {
       "model_id": "c3a6faad7b0c474caf04344cc0213f14",
       "version_major": 2,
       "version_minor": 0
      },
      "text/plain": [
       "Canvas(toolbar=Toolbar(toolitems=[('Home', 'Reset original view', 'home', 'home'), ('Back', 'Back to previous …"
      ]
     },
     "metadata": {},
     "output_type": "display_data"
    },
    {
     "data": {
      "application/vnd.jupyter.widget-view+json": {
       "model_id": "2e15f54c5c0244f3a45cc2630697ddc9",
       "version_major": 2,
       "version_minor": 0
      },
      "text/plain": [
       "Canvas(toolbar=Toolbar(toolitems=[('Home', 'Reset original view', 'home', 'home'), ('Back', 'Back to previous …"
      ]
     },
     "metadata": {},
     "output_type": "display_data"
    },
    {
     "data": {
      "application/vnd.jupyter.widget-view+json": {
       "model_id": "d071b3d8a1bf44e3a2067cffaf921c34",
       "version_major": 2,
       "version_minor": 0
      },
      "text/plain": [
       "Canvas(toolbar=Toolbar(toolitems=[('Home', 'Reset original view', 'home', 'home'), ('Back', 'Back to previous …"
      ]
     },
     "metadata": {},
     "output_type": "display_data"
    },
    {
     "data": {
      "application/vnd.jupyter.widget-view+json": {
       "model_id": "073279a802e04eb489a3aefd9a503fa9",
       "version_major": 2,
       "version_minor": 0
      },
      "text/plain": [
       "Canvas(toolbar=Toolbar(toolitems=[('Home', 'Reset original view', 'home', 'home'), ('Back', 'Back to previous …"
      ]
     },
     "metadata": {},
     "output_type": "display_data"
    },
    {
     "data": {
      "application/vnd.jupyter.widget-view+json": {
       "model_id": "604b6ed5a984491b9414303ddf9a10bd",
       "version_major": 2,
       "version_minor": 0
      },
      "text/plain": [
       "Canvas(toolbar=Toolbar(toolitems=[('Home', 'Reset original view', 'home', 'home'), ('Back', 'Back to previous …"
      ]
     },
     "metadata": {},
     "output_type": "display_data"
    },
    {
     "data": {
      "application/vnd.jupyter.widget-view+json": {
       "model_id": "47593f31c3b144618548e59caec4bb8b",
       "version_major": 2,
       "version_minor": 0
      },
      "text/plain": [
       "Canvas(toolbar=Toolbar(toolitems=[('Home', 'Reset original view', 'home', 'home'), ('Back', 'Back to previous …"
      ]
     },
     "metadata": {},
     "output_type": "display_data"
    },
    {
     "data": {
      "application/vnd.jupyter.widget-view+json": {
       "model_id": "73cf54be78fe4badaa9c9cfa10be58fa",
       "version_major": 2,
       "version_minor": 0
      },
      "text/plain": [
       "Canvas(toolbar=Toolbar(toolitems=[('Home', 'Reset original view', 'home', 'home'), ('Back', 'Back to previous …"
      ]
     },
     "metadata": {},
     "output_type": "display_data"
    },
    {
     "data": {
      "application/vnd.jupyter.widget-view+json": {
       "model_id": "c8a917e32ac142299eb9fb0a925798d9",
       "version_major": 2,
       "version_minor": 0
      },
      "text/plain": [
       "Canvas(toolbar=Toolbar(toolitems=[('Home', 'Reset original view', 'home', 'home'), ('Back', 'Back to previous …"
      ]
     },
     "metadata": {},
     "output_type": "display_data"
    },
    {
     "data": {
      "application/vnd.jupyter.widget-view+json": {
       "model_id": "9fd744b8281149009798ba8dc637318f",
       "version_major": 2,
       "version_minor": 0
      },
      "text/plain": [
       "Canvas(toolbar=Toolbar(toolitems=[('Home', 'Reset original view', 'home', 'home'), ('Back', 'Back to previous …"
      ]
     },
     "metadata": {},
     "output_type": "display_data"
    },
    {
     "data": {
      "application/vnd.jupyter.widget-view+json": {
       "model_id": "eb59e333aad740739795fe10b8ce867b",
       "version_major": 2,
       "version_minor": 0
      },
      "text/plain": [
       "Canvas(toolbar=Toolbar(toolitems=[('Home', 'Reset original view', 'home', 'home'), ('Back', 'Back to previous …"
      ]
     },
     "metadata": {},
     "output_type": "display_data"
    },
    {
     "data": {
      "application/vnd.jupyter.widget-view+json": {
       "model_id": "20f413a4e7454c49a4664e7d94f090a9",
       "version_major": 2,
       "version_minor": 0
      },
      "text/plain": [
       "Canvas(toolbar=Toolbar(toolitems=[('Home', 'Reset original view', 'home', 'home'), ('Back', 'Back to previous …"
      ]
     },
     "metadata": {},
     "output_type": "display_data"
    },
    {
     "data": {
      "application/vnd.jupyter.widget-view+json": {
       "model_id": "d45a20f9a4e84d40803b3d6e1717f12a",
       "version_major": 2,
       "version_minor": 0
      },
      "text/plain": [
       "Canvas(toolbar=Toolbar(toolitems=[('Home', 'Reset original view', 'home', 'home'), ('Back', 'Back to previous …"
      ]
     },
     "metadata": {},
     "output_type": "display_data"
    },
    {
     "data": {
      "application/vnd.jupyter.widget-view+json": {
       "model_id": "2bc06e31997a45b887d85eb62a737681",
       "version_major": 2,
       "version_minor": 0
      },
      "text/plain": [
       "Canvas(toolbar=Toolbar(toolitems=[('Home', 'Reset original view', 'home', 'home'), ('Back', 'Back to previous …"
      ]
     },
     "metadata": {},
     "output_type": "display_data"
    },
    {
     "data": {
      "application/vnd.jupyter.widget-view+json": {
       "model_id": "74c6b67c65f04e5ab48e2f6a294b5b81",
       "version_major": 2,
       "version_minor": 0
      },
      "text/plain": [
       "Canvas(toolbar=Toolbar(toolitems=[('Home', 'Reset original view', 'home', 'home'), ('Back', 'Back to previous …"
      ]
     },
     "metadata": {},
     "output_type": "display_data"
    },
    {
     "data": {
      "application/vnd.jupyter.widget-view+json": {
       "model_id": "82a465fd79ea44358b6174f3c55f9d57",
       "version_major": 2,
       "version_minor": 0
      },
      "text/plain": [
       "Canvas(toolbar=Toolbar(toolitems=[('Home', 'Reset original view', 'home', 'home'), ('Back', 'Back to previous …"
      ]
     },
     "metadata": {},
     "output_type": "display_data"
    }
   ],
   "source": [
    "allAge = df.Aldersgruppe.unique()[:-1]\n",
    "\n",
    "cmap = colors.LinearSegmentedColormap.from_list(\"\", [\"red\",\"violet\",\"blue\",\"green\"],len(allAge))\n",
    "cmap = plt.cm.get_cmap('turbo',len(allAge))\n",
    "\n",
    "firstDate = np.datetime64('2021-12-01')\n",
    "\n",
    "curKom = 851\n",
    "curKom = 101\n",
    "curKommuneNavn = 'København'\n",
    "\n",
    "posKommuneNavn = df_kommunekort.index.values[1:]\n",
    "# posKommuneNavn = ['Høje Tåstrup','Århus','Nordfyn','Vesthimmerland']\n",
    "# posKommuneNavn = ['Samsø']\n",
    "\n",
    "for curKommuneNavn in posKommuneNavn:\n",
    "\n",
    "    # try:\n",
    "    fig,ax1 = plt.subplots()\n",
    "\n",
    "    fig.patch.set_facecolor('xkcd:off white')\n",
    "    ax1.set_facecolor('xkcd:off white')\n",
    "\n",
    "    curKom = df_kommunekort['Kommune'][curKommuneNavn]\n",
    "    # for curAge in allAge:\n",
    "    for i in range(0,len(allAge)):\n",
    "        curAge = allAge[i]\n",
    "        curColor = cmap(i)\n",
    "        curDates,curCounts = getDiffTimeSeries(curKom,curAge)\n",
    "        # ax1.plot(curDates,curCounts,'.:',linewidth=0.5,markersize=2,color=curColor)\n",
    "        # ax1.plot(rnTime(curDates,7),rnMean(curCounts,7),label=curAge,color=curColor)\n",
    "\n",
    "        if (len(curCounts) > 7):\n",
    "            ax1.plot(curDates[6:],rnMean(curCounts,7),label=curAge,color=curColor)\n",
    "\n",
    "    ax1.set_ylim(bottom=0)\n",
    "    ax1.xaxis.set_major_formatter(mdates.DateFormatter('%d\\n%b'))\n",
    "\n",
    "    ax1.set_xlim()\n",
    "    ax1.set_xlim(left=firstDate)\n",
    "\n",
    "    # Draw weekends\n",
    "    firstSunday = np.datetime64('2021-10-03')\n",
    "    numWeeks = 52\n",
    "    for k in range(-numWeeks,numWeeks):\n",
    "            curSunday = firstSunday + np.timedelta64(7*k,'D')\n",
    "            ax1.axvspan(curSunday-np.timedelta64(1,'D')-np.timedelta64(12,'h'),curSunday+np.timedelta64(12,'h'),zorder=-1,facecolor='lightgrey',label=int(k==0)*'Weekend')\n",
    "    ax1.grid(axis='y')\n",
    "    ax1.legend()\n",
    "\n",
    "    # ax1.set_title(curKom)\n",
    "    # ax1.set_title('København')\n",
    "    ax1.set_ylabel('Smittetilfælde, 7-dages gennemsnit')\n",
    "    ax1.set_title(curKommuneNavn)\n",
    "\n",
    "    if saveFigures:\n",
    "        fig.savefig(path_figs+curKommuneNavn+'_Antal')\n",
    "\n",
    "    plt.close('all')\n",
    "    # except:\n",
    "    #     2+2"
   ]
  },
  {
   "cell_type": "code",
   "execution_count": 28,
   "metadata": {},
   "outputs": [],
   "source": [
    "# # df.groupby(['Kommune','Aldersgruppe'])\n",
    "# # asdf = df.set_index(['Kommune','Aldersgruppe'])\n",
    "# df.columns\n",
    "\n",
    "# curKom = 101\n",
    "# curAge = '6-11'\n",
    "# asdf = df[(df.Kommune == curKom) & (df.Aldersgruppe == curAge)]\n",
    "\n",
    "# plt.figure()\n",
    "# plt.plot(asdf.Dagsdato,asdf['Bekræftede tilfælde'].diff(),'*')\n",
    "# plt.plot(rnTime(asdf.Dagsdato,7),rnMean(asdf['Bekræftede tilfælde'].diff(),7))"
   ]
  },
  {
   "cell_type": "markdown",
   "metadata": {},
   "source": [
    "# Normed by population size"
   ]
  },
  {
   "cell_type": "code",
   "execution_count": 29,
   "metadata": {},
   "outputs": [
    {
     "data": {
      "application/vnd.jupyter.widget-view+json": {
       "model_id": "112f3943218a4296989657b5acb63294",
       "version_major": 2,
       "version_minor": 0
      },
      "text/plain": [
       "Canvas(toolbar=Toolbar(toolitems=[('Home', 'Reset original view', 'home', 'home'), ('Back', 'Back to previous …"
      ]
     },
     "metadata": {},
     "output_type": "display_data"
    },
    {
     "data": {
      "application/vnd.jupyter.widget-view+json": {
       "model_id": "d29d8251e6634b808fc7d6395a905a40",
       "version_major": 2,
       "version_minor": 0
      },
      "text/plain": [
       "Canvas(toolbar=Toolbar(toolitems=[('Home', 'Reset original view', 'home', 'home'), ('Back', 'Back to previous …"
      ]
     },
     "metadata": {},
     "output_type": "display_data"
    },
    {
     "data": {
      "application/vnd.jupyter.widget-view+json": {
       "model_id": "7f4e18568e224cd68d853ab2427341bd",
       "version_major": 2,
       "version_minor": 0
      },
      "text/plain": [
       "Canvas(toolbar=Toolbar(toolitems=[('Home', 'Reset original view', 'home', 'home'), ('Back', 'Back to previous …"
      ]
     },
     "metadata": {},
     "output_type": "display_data"
    },
    {
     "data": {
      "application/vnd.jupyter.widget-view+json": {
       "model_id": "067f77704a5b475eae05b2e908e937f2",
       "version_major": 2,
       "version_minor": 0
      },
      "text/plain": [
       "Canvas(toolbar=Toolbar(toolitems=[('Home', 'Reset original view', 'home', 'home'), ('Back', 'Back to previous …"
      ]
     },
     "metadata": {},
     "output_type": "display_data"
    },
    {
     "data": {
      "application/vnd.jupyter.widget-view+json": {
       "model_id": "23dc73197e4440d993337e3713f7a217",
       "version_major": 2,
       "version_minor": 0
      },
      "text/plain": [
       "Canvas(toolbar=Toolbar(toolitems=[('Home', 'Reset original view', 'home', 'home'), ('Back', 'Back to previous …"
      ]
     },
     "metadata": {},
     "output_type": "display_data"
    },
    {
     "data": {
      "application/vnd.jupyter.widget-view+json": {
       "model_id": "5bb5179695b24a8dba13634b91ddb3fa",
       "version_major": 2,
       "version_minor": 0
      },
      "text/plain": [
       "Canvas(toolbar=Toolbar(toolitems=[('Home', 'Reset original view', 'home', 'home'), ('Back', 'Back to previous …"
      ]
     },
     "metadata": {},
     "output_type": "display_data"
    },
    {
     "data": {
      "application/vnd.jupyter.widget-view+json": {
       "model_id": "5e7d2078637d437d84bdad23b1395bcc",
       "version_major": 2,
       "version_minor": 0
      },
      "text/plain": [
       "Canvas(toolbar=Toolbar(toolitems=[('Home', 'Reset original view', 'home', 'home'), ('Back', 'Back to previous …"
      ]
     },
     "metadata": {},
     "output_type": "display_data"
    },
    {
     "data": {
      "application/vnd.jupyter.widget-view+json": {
       "model_id": "4c9afef37e4548c88bb3bbc2a49c5105",
       "version_major": 2,
       "version_minor": 0
      },
      "text/plain": [
       "Canvas(toolbar=Toolbar(toolitems=[('Home', 'Reset original view', 'home', 'home'), ('Back', 'Back to previous …"
      ]
     },
     "metadata": {},
     "output_type": "display_data"
    },
    {
     "data": {
      "application/vnd.jupyter.widget-view+json": {
       "model_id": "242f87a755654cb192c5546d557b7cd0",
       "version_major": 2,
       "version_minor": 0
      },
      "text/plain": [
       "Canvas(toolbar=Toolbar(toolitems=[('Home', 'Reset original view', 'home', 'home'), ('Back', 'Back to previous …"
      ]
     },
     "metadata": {},
     "output_type": "display_data"
    },
    {
     "data": {
      "application/vnd.jupyter.widget-view+json": {
       "model_id": "e653d227ce6f40f7bf6984fcfddbf03d",
       "version_major": 2,
       "version_minor": 0
      },
      "text/plain": [
       "Canvas(toolbar=Toolbar(toolitems=[('Home', 'Reset original view', 'home', 'home'), ('Back', 'Back to previous …"
      ]
     },
     "metadata": {},
     "output_type": "display_data"
    },
    {
     "data": {
      "application/vnd.jupyter.widget-view+json": {
       "model_id": "7e8012dfdfae4278a656a13930e73357",
       "version_major": 2,
       "version_minor": 0
      },
      "text/plain": [
       "Canvas(toolbar=Toolbar(toolitems=[('Home', 'Reset original view', 'home', 'home'), ('Back', 'Back to previous …"
      ]
     },
     "metadata": {},
     "output_type": "display_data"
    },
    {
     "data": {
      "application/vnd.jupyter.widget-view+json": {
       "model_id": "bec1d44ca31d4fe38a306f55825e377c",
       "version_major": 2,
       "version_minor": 0
      },
      "text/plain": [
       "Canvas(toolbar=Toolbar(toolitems=[('Home', 'Reset original view', 'home', 'home'), ('Back', 'Back to previous …"
      ]
     },
     "metadata": {},
     "output_type": "display_data"
    },
    {
     "data": {
      "application/vnd.jupyter.widget-view+json": {
       "model_id": "6068f528400d447b8adb535b2b16aa97",
       "version_major": 2,
       "version_minor": 0
      },
      "text/plain": [
       "Canvas(toolbar=Toolbar(toolitems=[('Home', 'Reset original view', 'home', 'home'), ('Back', 'Back to previous …"
      ]
     },
     "metadata": {},
     "output_type": "display_data"
    },
    {
     "data": {
      "application/vnd.jupyter.widget-view+json": {
       "model_id": "9badad5dfc2f4ba187a5995fb6342821",
       "version_major": 2,
       "version_minor": 0
      },
      "text/plain": [
       "Canvas(toolbar=Toolbar(toolitems=[('Home', 'Reset original view', 'home', 'home'), ('Back', 'Back to previous …"
      ]
     },
     "metadata": {},
     "output_type": "display_data"
    },
    {
     "data": {
      "application/vnd.jupyter.widget-view+json": {
       "model_id": "714e8b739dcd44e2b473eccfa5b1af35",
       "version_major": 2,
       "version_minor": 0
      },
      "text/plain": [
       "Canvas(toolbar=Toolbar(toolitems=[('Home', 'Reset original view', 'home', 'home'), ('Back', 'Back to previous …"
      ]
     },
     "metadata": {},
     "output_type": "display_data"
    },
    {
     "data": {
      "application/vnd.jupyter.widget-view+json": {
       "model_id": "d269121f0dfd4d1f9c343fe5dd5e3321",
       "version_major": 2,
       "version_minor": 0
      },
      "text/plain": [
       "Canvas(toolbar=Toolbar(toolitems=[('Home', 'Reset original view', 'home', 'home'), ('Back', 'Back to previous …"
      ]
     },
     "metadata": {},
     "output_type": "display_data"
    },
    {
     "data": {
      "application/vnd.jupyter.widget-view+json": {
       "model_id": "e1fd6b962a7545769fc94e2728df1feb",
       "version_major": 2,
       "version_minor": 0
      },
      "text/plain": [
       "Canvas(toolbar=Toolbar(toolitems=[('Home', 'Reset original view', 'home', 'home'), ('Back', 'Back to previous …"
      ]
     },
     "metadata": {},
     "output_type": "display_data"
    },
    {
     "data": {
      "application/vnd.jupyter.widget-view+json": {
       "model_id": "01317a2e4fbd4564bd7c8e6d2bb879e5",
       "version_major": 2,
       "version_minor": 0
      },
      "text/plain": [
       "Canvas(toolbar=Toolbar(toolitems=[('Home', 'Reset original view', 'home', 'home'), ('Back', 'Back to previous …"
      ]
     },
     "metadata": {},
     "output_type": "display_data"
    },
    {
     "data": {
      "application/vnd.jupyter.widget-view+json": {
       "model_id": "2f207a81d0ac43b9b2f13b022c757ba2",
       "version_major": 2,
       "version_minor": 0
      },
      "text/plain": [
       "Canvas(toolbar=Toolbar(toolitems=[('Home', 'Reset original view', 'home', 'home'), ('Back', 'Back to previous …"
      ]
     },
     "metadata": {},
     "output_type": "display_data"
    },
    {
     "data": {
      "application/vnd.jupyter.widget-view+json": {
       "model_id": "114d25242abf42e781c5a11937237913",
       "version_major": 2,
       "version_minor": 0
      },
      "text/plain": [
       "Canvas(toolbar=Toolbar(toolitems=[('Home', 'Reset original view', 'home', 'home'), ('Back', 'Back to previous …"
      ]
     },
     "metadata": {},
     "output_type": "display_data"
    },
    {
     "name": "stderr",
     "output_type": "stream",
     "text": [
      "<ipython-input-29-fbd720f681a5>:12: RuntimeWarning: More than 20 figures have been opened. Figures created through the pyplot interface (`matplotlib.pyplot.figure`) are retained until explicitly closed and may consume too much memory. (To control this warning, see the rcParam `figure.max_open_warning`).\n",
      "  fig,ax1 = plt.subplots()\n"
     ]
    },
    {
     "data": {
      "application/vnd.jupyter.widget-view+json": {
       "model_id": "ed348c7cf3004dceae19a20bc439898a",
       "version_major": 2,
       "version_minor": 0
      },
      "text/plain": [
       "Canvas(toolbar=Toolbar(toolitems=[('Home', 'Reset original view', 'home', 'home'), ('Back', 'Back to previous …"
      ]
     },
     "metadata": {},
     "output_type": "display_data"
    },
    {
     "data": {
      "application/vnd.jupyter.widget-view+json": {
       "model_id": "3e69765289174bd9832b47c5ab4e922a",
       "version_major": 2,
       "version_minor": 0
      },
      "text/plain": [
       "Canvas(toolbar=Toolbar(toolitems=[('Home', 'Reset original view', 'home', 'home'), ('Back', 'Back to previous …"
      ]
     },
     "metadata": {},
     "output_type": "display_data"
    },
    {
     "data": {
      "application/vnd.jupyter.widget-view+json": {
       "model_id": "f7c6297154d04ca297a709944a463c49",
       "version_major": 2,
       "version_minor": 0
      },
      "text/plain": [
       "Canvas(toolbar=Toolbar(toolitems=[('Home', 'Reset original view', 'home', 'home'), ('Back', 'Back to previous …"
      ]
     },
     "metadata": {},
     "output_type": "display_data"
    },
    {
     "data": {
      "application/vnd.jupyter.widget-view+json": {
       "model_id": "1c3977e3c58145ea8a6619c9179e565c",
       "version_major": 2,
       "version_minor": 0
      },
      "text/plain": [
       "Canvas(toolbar=Toolbar(toolitems=[('Home', 'Reset original view', 'home', 'home'), ('Back', 'Back to previous …"
      ]
     },
     "metadata": {},
     "output_type": "display_data"
    },
    {
     "data": {
      "application/vnd.jupyter.widget-view+json": {
       "model_id": "5a0f591041cf4abda1cdf28a63c3eecf",
       "version_major": 2,
       "version_minor": 0
      },
      "text/plain": [
       "Canvas(toolbar=Toolbar(toolitems=[('Home', 'Reset original view', 'home', 'home'), ('Back', 'Back to previous …"
      ]
     },
     "metadata": {},
     "output_type": "display_data"
    },
    {
     "data": {
      "application/vnd.jupyter.widget-view+json": {
       "model_id": "6a2413ca3bc54703a05e0eac63867ea7",
       "version_major": 2,
       "version_minor": 0
      },
      "text/plain": [
       "Canvas(toolbar=Toolbar(toolitems=[('Home', 'Reset original view', 'home', 'home'), ('Back', 'Back to previous …"
      ]
     },
     "metadata": {},
     "output_type": "display_data"
    },
    {
     "data": {
      "application/vnd.jupyter.widget-view+json": {
       "model_id": "5449fcc39c1e45f18cacc48a196448fc",
       "version_major": 2,
       "version_minor": 0
      },
      "text/plain": [
       "Canvas(toolbar=Toolbar(toolitems=[('Home', 'Reset original view', 'home', 'home'), ('Back', 'Back to previous …"
      ]
     },
     "metadata": {},
     "output_type": "display_data"
    },
    {
     "data": {
      "application/vnd.jupyter.widget-view+json": {
       "model_id": "5575545225614cbea5de5be6ac0aeb97",
       "version_major": 2,
       "version_minor": 0
      },
      "text/plain": [
       "Canvas(toolbar=Toolbar(toolitems=[('Home', 'Reset original view', 'home', 'home'), ('Back', 'Back to previous …"
      ]
     },
     "metadata": {},
     "output_type": "display_data"
    },
    {
     "data": {
      "application/vnd.jupyter.widget-view+json": {
       "model_id": "a3735ced386b48d3b381d41ece4df035",
       "version_major": 2,
       "version_minor": 0
      },
      "text/plain": [
       "Canvas(toolbar=Toolbar(toolitems=[('Home', 'Reset original view', 'home', 'home'), ('Back', 'Back to previous …"
      ]
     },
     "metadata": {},
     "output_type": "display_data"
    },
    {
     "data": {
      "application/vnd.jupyter.widget-view+json": {
       "model_id": "72b74b2cf56842888f757a81486d74d2",
       "version_major": 2,
       "version_minor": 0
      },
      "text/plain": [
       "Canvas(toolbar=Toolbar(toolitems=[('Home', 'Reset original view', 'home', 'home'), ('Back', 'Back to previous …"
      ]
     },
     "metadata": {},
     "output_type": "display_data"
    },
    {
     "data": {
      "application/vnd.jupyter.widget-view+json": {
       "model_id": "e06974d37b2b4026a55bc56d923a95a6",
       "version_major": 2,
       "version_minor": 0
      },
      "text/plain": [
       "Canvas(toolbar=Toolbar(toolitems=[('Home', 'Reset original view', 'home', 'home'), ('Back', 'Back to previous …"
      ]
     },
     "metadata": {},
     "output_type": "display_data"
    },
    {
     "data": {
      "application/vnd.jupyter.widget-view+json": {
       "model_id": "2a8d3f3620314ac09bfc2698850c42fe",
       "version_major": 2,
       "version_minor": 0
      },
      "text/plain": [
       "Canvas(toolbar=Toolbar(toolitems=[('Home', 'Reset original view', 'home', 'home'), ('Back', 'Back to previous …"
      ]
     },
     "metadata": {},
     "output_type": "display_data"
    },
    {
     "data": {
      "application/vnd.jupyter.widget-view+json": {
       "model_id": "169219642d7749c0bc2f3c5bdb3e8ef6",
       "version_major": 2,
       "version_minor": 0
      },
      "text/plain": [
       "Canvas(toolbar=Toolbar(toolitems=[('Home', 'Reset original view', 'home', 'home'), ('Back', 'Back to previous …"
      ]
     },
     "metadata": {},
     "output_type": "display_data"
    },
    {
     "data": {
      "application/vnd.jupyter.widget-view+json": {
       "model_id": "a3c2d03684024f78b29646d35ee39c5e",
       "version_major": 2,
       "version_minor": 0
      },
      "text/plain": [
       "Canvas(toolbar=Toolbar(toolitems=[('Home', 'Reset original view', 'home', 'home'), ('Back', 'Back to previous …"
      ]
     },
     "metadata": {},
     "output_type": "display_data"
    },
    {
     "data": {
      "application/vnd.jupyter.widget-view+json": {
       "model_id": "a6ecb855e5c146dc99761ef891ed803f",
       "version_major": 2,
       "version_minor": 0
      },
      "text/plain": [
       "Canvas(toolbar=Toolbar(toolitems=[('Home', 'Reset original view', 'home', 'home'), ('Back', 'Back to previous …"
      ]
     },
     "metadata": {},
     "output_type": "display_data"
    },
    {
     "data": {
      "application/vnd.jupyter.widget-view+json": {
       "model_id": "f56ac7c9a780401db5e7e5c0a1f4eab6",
       "version_major": 2,
       "version_minor": 0
      },
      "text/plain": [
       "Canvas(toolbar=Toolbar(toolitems=[('Home', 'Reset original view', 'home', 'home'), ('Back', 'Back to previous …"
      ]
     },
     "metadata": {},
     "output_type": "display_data"
    },
    {
     "data": {
      "application/vnd.jupyter.widget-view+json": {
       "model_id": "71c74c7ad88d42db8d99b4e92c17019f",
       "version_major": 2,
       "version_minor": 0
      },
      "text/plain": [
       "Canvas(toolbar=Toolbar(toolitems=[('Home', 'Reset original view', 'home', 'home'), ('Back', 'Back to previous …"
      ]
     },
     "metadata": {},
     "output_type": "display_data"
    },
    {
     "data": {
      "application/vnd.jupyter.widget-view+json": {
       "model_id": "6c8c7a9603c04135ad75258907022d58",
       "version_major": 2,
       "version_minor": 0
      },
      "text/plain": [
       "Canvas(toolbar=Toolbar(toolitems=[('Home', 'Reset original view', 'home', 'home'), ('Back', 'Back to previous …"
      ]
     },
     "metadata": {},
     "output_type": "display_data"
    },
    {
     "data": {
      "application/vnd.jupyter.widget-view+json": {
       "model_id": "89ef04f09fb24bbf924abb673d794533",
       "version_major": 2,
       "version_minor": 0
      },
      "text/plain": [
       "Canvas(toolbar=Toolbar(toolitems=[('Home', 'Reset original view', 'home', 'home'), ('Back', 'Back to previous …"
      ]
     },
     "metadata": {},
     "output_type": "display_data"
    },
    {
     "data": {
      "application/vnd.jupyter.widget-view+json": {
       "model_id": "8275335d1e3b45a7b1fa7f337755cbe5",
       "version_major": 2,
       "version_minor": 0
      },
      "text/plain": [
       "Canvas(toolbar=Toolbar(toolitems=[('Home', 'Reset original view', 'home', 'home'), ('Back', 'Back to previous …"
      ]
     },
     "metadata": {},
     "output_type": "display_data"
    },
    {
     "data": {
      "application/vnd.jupyter.widget-view+json": {
       "model_id": "99e061a585ad43799dbb5ea88c8d714d",
       "version_major": 2,
       "version_minor": 0
      },
      "text/plain": [
       "Canvas(toolbar=Toolbar(toolitems=[('Home', 'Reset original view', 'home', 'home'), ('Back', 'Back to previous …"
      ]
     },
     "metadata": {},
     "output_type": "display_data"
    },
    {
     "data": {
      "application/vnd.jupyter.widget-view+json": {
       "model_id": "625465071f11443d8636a6ef47d7f740",
       "version_major": 2,
       "version_minor": 0
      },
      "text/plain": [
       "Canvas(toolbar=Toolbar(toolitems=[('Home', 'Reset original view', 'home', 'home'), ('Back', 'Back to previous …"
      ]
     },
     "metadata": {},
     "output_type": "display_data"
    },
    {
     "data": {
      "application/vnd.jupyter.widget-view+json": {
       "model_id": "21c4762674284ed0b19717e8498d9d87",
       "version_major": 2,
       "version_minor": 0
      },
      "text/plain": [
       "Canvas(toolbar=Toolbar(toolitems=[('Home', 'Reset original view', 'home', 'home'), ('Back', 'Back to previous …"
      ]
     },
     "metadata": {},
     "output_type": "display_data"
    },
    {
     "data": {
      "application/vnd.jupyter.widget-view+json": {
       "model_id": "1a5cfa3ee136402b8291c957258cd0f0",
       "version_major": 2,
       "version_minor": 0
      },
      "text/plain": [
       "Canvas(toolbar=Toolbar(toolitems=[('Home', 'Reset original view', 'home', 'home'), ('Back', 'Back to previous …"
      ]
     },
     "metadata": {},
     "output_type": "display_data"
    },
    {
     "data": {
      "application/vnd.jupyter.widget-view+json": {
       "model_id": "47f6736c1aed4a869af69d47abbb63e4",
       "version_major": 2,
       "version_minor": 0
      },
      "text/plain": [
       "Canvas(toolbar=Toolbar(toolitems=[('Home', 'Reset original view', 'home', 'home'), ('Back', 'Back to previous …"
      ]
     },
     "metadata": {},
     "output_type": "display_data"
    },
    {
     "data": {
      "application/vnd.jupyter.widget-view+json": {
       "model_id": "1b5f5adde8404e48a1e0ce1399d393bc",
       "version_major": 2,
       "version_minor": 0
      },
      "text/plain": [
       "Canvas(toolbar=Toolbar(toolitems=[('Home', 'Reset original view', 'home', 'home'), ('Back', 'Back to previous …"
      ]
     },
     "metadata": {},
     "output_type": "display_data"
    },
    {
     "data": {
      "application/vnd.jupyter.widget-view+json": {
       "model_id": "2c7d87631ea74db09f61036fc044e0ef",
       "version_major": 2,
       "version_minor": 0
      },
      "text/plain": [
       "Canvas(toolbar=Toolbar(toolitems=[('Home', 'Reset original view', 'home', 'home'), ('Back', 'Back to previous …"
      ]
     },
     "metadata": {},
     "output_type": "display_data"
    },
    {
     "data": {
      "application/vnd.jupyter.widget-view+json": {
       "model_id": "75c1061f89854fbaacfec61337324d05",
       "version_major": 2,
       "version_minor": 0
      },
      "text/plain": [
       "Canvas(toolbar=Toolbar(toolitems=[('Home', 'Reset original view', 'home', 'home'), ('Back', 'Back to previous …"
      ]
     },
     "metadata": {},
     "output_type": "display_data"
    },
    {
     "data": {
      "application/vnd.jupyter.widget-view+json": {
       "model_id": "1db86d3384b7484e85ee55f6a2c8a00f",
       "version_major": 2,
       "version_minor": 0
      },
      "text/plain": [
       "Canvas(toolbar=Toolbar(toolitems=[('Home', 'Reset original view', 'home', 'home'), ('Back', 'Back to previous …"
      ]
     },
     "metadata": {},
     "output_type": "display_data"
    },
    {
     "data": {
      "application/vnd.jupyter.widget-view+json": {
       "model_id": "64b17544af784e95a53fffab3183abf3",
       "version_major": 2,
       "version_minor": 0
      },
      "text/plain": [
       "Canvas(toolbar=Toolbar(toolitems=[('Home', 'Reset original view', 'home', 'home'), ('Back', 'Back to previous …"
      ]
     },
     "metadata": {},
     "output_type": "display_data"
    },
    {
     "data": {
      "application/vnd.jupyter.widget-view+json": {
       "model_id": "b757f21678b243c7b942ba1edae4dce5",
       "version_major": 2,
       "version_minor": 0
      },
      "text/plain": [
       "Canvas(toolbar=Toolbar(toolitems=[('Home', 'Reset original view', 'home', 'home'), ('Back', 'Back to previous …"
      ]
     },
     "metadata": {},
     "output_type": "display_data"
    },
    {
     "data": {
      "application/vnd.jupyter.widget-view+json": {
       "model_id": "ae36791b080b46d99a7e5f10f1cdf2ec",
       "version_major": 2,
       "version_minor": 0
      },
      "text/plain": [
       "Canvas(toolbar=Toolbar(toolitems=[('Home', 'Reset original view', 'home', 'home'), ('Back', 'Back to previous …"
      ]
     },
     "metadata": {},
     "output_type": "display_data"
    },
    {
     "data": {
      "application/vnd.jupyter.widget-view+json": {
       "model_id": "be19cd9eb83b4420b2c2a079c4905b97",
       "version_major": 2,
       "version_minor": 0
      },
      "text/plain": [
       "Canvas(toolbar=Toolbar(toolitems=[('Home', 'Reset original view', 'home', 'home'), ('Back', 'Back to previous …"
      ]
     },
     "metadata": {},
     "output_type": "display_data"
    },
    {
     "data": {
      "application/vnd.jupyter.widget-view+json": {
       "model_id": "7530f4e1a2b34feb9454778c6470a93a",
       "version_major": 2,
       "version_minor": 0
      },
      "text/plain": [
       "Canvas(toolbar=Toolbar(toolitems=[('Home', 'Reset original view', 'home', 'home'), ('Back', 'Back to previous …"
      ]
     },
     "metadata": {},
     "output_type": "display_data"
    },
    {
     "data": {
      "application/vnd.jupyter.widget-view+json": {
       "model_id": "9c6896ba14094a47904f4449f02c26c4",
       "version_major": 2,
       "version_minor": 0
      },
      "text/plain": [
       "Canvas(toolbar=Toolbar(toolitems=[('Home', 'Reset original view', 'home', 'home'), ('Back', 'Back to previous …"
      ]
     },
     "metadata": {},
     "output_type": "display_data"
    },
    {
     "data": {
      "application/vnd.jupyter.widget-view+json": {
       "model_id": "2a9b4b0114a8486fbe0b2801bc3f89fa",
       "version_major": 2,
       "version_minor": 0
      },
      "text/plain": [
       "Canvas(toolbar=Toolbar(toolitems=[('Home', 'Reset original view', 'home', 'home'), ('Back', 'Back to previous …"
      ]
     },
     "metadata": {},
     "output_type": "display_data"
    },
    {
     "data": {
      "application/vnd.jupyter.widget-view+json": {
       "model_id": "bdf3b5647f7d4e22b374edb991f93865",
       "version_major": 2,
       "version_minor": 0
      },
      "text/plain": [
       "Canvas(toolbar=Toolbar(toolitems=[('Home', 'Reset original view', 'home', 'home'), ('Back', 'Back to previous …"
      ]
     },
     "metadata": {},
     "output_type": "display_data"
    },
    {
     "data": {
      "application/vnd.jupyter.widget-view+json": {
       "model_id": "76a92faf8129404c824d37808fdb69f0",
       "version_major": 2,
       "version_minor": 0
      },
      "text/plain": [
       "Canvas(toolbar=Toolbar(toolitems=[('Home', 'Reset original view', 'home', 'home'), ('Back', 'Back to previous …"
      ]
     },
     "metadata": {},
     "output_type": "display_data"
    },
    {
     "data": {
      "application/vnd.jupyter.widget-view+json": {
       "model_id": "a4004487d1db4d82beeffbdcb7f48168",
       "version_major": 2,
       "version_minor": 0
      },
      "text/plain": [
       "Canvas(toolbar=Toolbar(toolitems=[('Home', 'Reset original view', 'home', 'home'), ('Back', 'Back to previous …"
      ]
     },
     "metadata": {},
     "output_type": "display_data"
    },
    {
     "data": {
      "application/vnd.jupyter.widget-view+json": {
       "model_id": "6bb2656dadac4b27a34fb7213351c3d0",
       "version_major": 2,
       "version_minor": 0
      },
      "text/plain": [
       "Canvas(toolbar=Toolbar(toolitems=[('Home', 'Reset original view', 'home', 'home'), ('Back', 'Back to previous …"
      ]
     },
     "metadata": {},
     "output_type": "display_data"
    },
    {
     "data": {
      "application/vnd.jupyter.widget-view+json": {
       "model_id": "b5bcee6c8ca74333b9edabc159c7555c",
       "version_major": 2,
       "version_minor": 0
      },
      "text/plain": [
       "Canvas(toolbar=Toolbar(toolitems=[('Home', 'Reset original view', 'home', 'home'), ('Back', 'Back to previous …"
      ]
     },
     "metadata": {},
     "output_type": "display_data"
    },
    {
     "data": {
      "application/vnd.jupyter.widget-view+json": {
       "model_id": "00e5d724e8ff4c5e97471130fa868580",
       "version_major": 2,
       "version_minor": 0
      },
      "text/plain": [
       "Canvas(toolbar=Toolbar(toolitems=[('Home', 'Reset original view', 'home', 'home'), ('Back', 'Back to previous …"
      ]
     },
     "metadata": {},
     "output_type": "display_data"
    },
    {
     "data": {
      "application/vnd.jupyter.widget-view+json": {
       "model_id": "f1c303c79f0e4eb78b6e3339effce90a",
       "version_major": 2,
       "version_minor": 0
      },
      "text/plain": [
       "Canvas(toolbar=Toolbar(toolitems=[('Home', 'Reset original view', 'home', 'home'), ('Back', 'Back to previous …"
      ]
     },
     "metadata": {},
     "output_type": "display_data"
    },
    {
     "data": {
      "application/vnd.jupyter.widget-view+json": {
       "model_id": "58f86c25cbfa4008bf8562b227b60d29",
       "version_major": 2,
       "version_minor": 0
      },
      "text/plain": [
       "Canvas(toolbar=Toolbar(toolitems=[('Home', 'Reset original view', 'home', 'home'), ('Back', 'Back to previous …"
      ]
     },
     "metadata": {},
     "output_type": "display_data"
    },
    {
     "data": {
      "application/vnd.jupyter.widget-view+json": {
       "model_id": "88c7050b62ab46b2ba03a04cba1cffea",
       "version_major": 2,
       "version_minor": 0
      },
      "text/plain": [
       "Canvas(toolbar=Toolbar(toolitems=[('Home', 'Reset original view', 'home', 'home'), ('Back', 'Back to previous …"
      ]
     },
     "metadata": {},
     "output_type": "display_data"
    },
    {
     "data": {
      "application/vnd.jupyter.widget-view+json": {
       "model_id": "6d40f9da24bc4558a81d7c58ae22a664",
       "version_major": 2,
       "version_minor": 0
      },
      "text/plain": [
       "Canvas(toolbar=Toolbar(toolitems=[('Home', 'Reset original view', 'home', 'home'), ('Back', 'Back to previous …"
      ]
     },
     "metadata": {},
     "output_type": "display_data"
    },
    {
     "data": {
      "application/vnd.jupyter.widget-view+json": {
       "model_id": "e33f7baf3eca4243b2922df781437265",
       "version_major": 2,
       "version_minor": 0
      },
      "text/plain": [
       "Canvas(toolbar=Toolbar(toolitems=[('Home', 'Reset original view', 'home', 'home'), ('Back', 'Back to previous …"
      ]
     },
     "metadata": {},
     "output_type": "display_data"
    },
    {
     "data": {
      "application/vnd.jupyter.widget-view+json": {
       "model_id": "96f593eaf27845dfa42dea123ae388b5",
       "version_major": 2,
       "version_minor": 0
      },
      "text/plain": [
       "Canvas(toolbar=Toolbar(toolitems=[('Home', 'Reset original view', 'home', 'home'), ('Back', 'Back to previous …"
      ]
     },
     "metadata": {},
     "output_type": "display_data"
    },
    {
     "data": {
      "application/vnd.jupyter.widget-view+json": {
       "model_id": "50068bc8706542f79c35f9773ffa4283",
       "version_major": 2,
       "version_minor": 0
      },
      "text/plain": [
       "Canvas(toolbar=Toolbar(toolitems=[('Home', 'Reset original view', 'home', 'home'), ('Back', 'Back to previous …"
      ]
     },
     "metadata": {},
     "output_type": "display_data"
    },
    {
     "data": {
      "application/vnd.jupyter.widget-view+json": {
       "model_id": "01889c574f4d43f0be06bd2246c97dbe",
       "version_major": 2,
       "version_minor": 0
      },
      "text/plain": [
       "Canvas(toolbar=Toolbar(toolitems=[('Home', 'Reset original view', 'home', 'home'), ('Back', 'Back to previous …"
      ]
     },
     "metadata": {},
     "output_type": "display_data"
    },
    {
     "data": {
      "application/vnd.jupyter.widget-view+json": {
       "model_id": "09be7f4506c5462fb326bf21e38b2114",
       "version_major": 2,
       "version_minor": 0
      },
      "text/plain": [
       "Canvas(toolbar=Toolbar(toolitems=[('Home', 'Reset original view', 'home', 'home'), ('Back', 'Back to previous …"
      ]
     },
     "metadata": {},
     "output_type": "display_data"
    },
    {
     "data": {
      "application/vnd.jupyter.widget-view+json": {
       "model_id": "ec06b12f9c26422b8c24a6caa4374d7c",
       "version_major": 2,
       "version_minor": 0
      },
      "text/plain": [
       "Canvas(toolbar=Toolbar(toolitems=[('Home', 'Reset original view', 'home', 'home'), ('Back', 'Back to previous …"
      ]
     },
     "metadata": {},
     "output_type": "display_data"
    },
    {
     "data": {
      "application/vnd.jupyter.widget-view+json": {
       "model_id": "923e4dbe1c2a42488fd62a06bcd4d3da",
       "version_major": 2,
       "version_minor": 0
      },
      "text/plain": [
       "Canvas(toolbar=Toolbar(toolitems=[('Home', 'Reset original view', 'home', 'home'), ('Back', 'Back to previous …"
      ]
     },
     "metadata": {},
     "output_type": "display_data"
    },
    {
     "data": {
      "application/vnd.jupyter.widget-view+json": {
       "model_id": "ec8a3ae56459440cbbedc613d5724951",
       "version_major": 2,
       "version_minor": 0
      },
      "text/plain": [
       "Canvas(toolbar=Toolbar(toolitems=[('Home', 'Reset original view', 'home', 'home'), ('Back', 'Back to previous …"
      ]
     },
     "metadata": {},
     "output_type": "display_data"
    },
    {
     "data": {
      "application/vnd.jupyter.widget-view+json": {
       "model_id": "98f17a3082474c6a848c88a1873541f1",
       "version_major": 2,
       "version_minor": 0
      },
      "text/plain": [
       "Canvas(toolbar=Toolbar(toolitems=[('Home', 'Reset original view', 'home', 'home'), ('Back', 'Back to previous …"
      ]
     },
     "metadata": {},
     "output_type": "display_data"
    },
    {
     "data": {
      "application/vnd.jupyter.widget-view+json": {
       "model_id": "12b97134bbb1402996233fa94378ce31",
       "version_major": 2,
       "version_minor": 0
      },
      "text/plain": [
       "Canvas(toolbar=Toolbar(toolitems=[('Home', 'Reset original view', 'home', 'home'), ('Back', 'Back to previous …"
      ]
     },
     "metadata": {},
     "output_type": "display_data"
    },
    {
     "data": {
      "application/vnd.jupyter.widget-view+json": {
       "model_id": "4dab7a301d1e4112bce1b35578da3b9b",
       "version_major": 2,
       "version_minor": 0
      },
      "text/plain": [
       "Canvas(toolbar=Toolbar(toolitems=[('Home', 'Reset original view', 'home', 'home'), ('Back', 'Back to previous …"
      ]
     },
     "metadata": {},
     "output_type": "display_data"
    },
    {
     "data": {
      "application/vnd.jupyter.widget-view+json": {
       "model_id": "2aba25be224f4804abc8e9cc47df83c9",
       "version_major": 2,
       "version_minor": 0
      },
      "text/plain": [
       "Canvas(toolbar=Toolbar(toolitems=[('Home', 'Reset original view', 'home', 'home'), ('Back', 'Back to previous …"
      ]
     },
     "metadata": {},
     "output_type": "display_data"
    },
    {
     "data": {
      "application/vnd.jupyter.widget-view+json": {
       "model_id": "3bdef53947b145bda12e59a69503cc30",
       "version_major": 2,
       "version_minor": 0
      },
      "text/plain": [
       "Canvas(toolbar=Toolbar(toolitems=[('Home', 'Reset original view', 'home', 'home'), ('Back', 'Back to previous …"
      ]
     },
     "metadata": {},
     "output_type": "display_data"
    },
    {
     "data": {
      "application/vnd.jupyter.widget-view+json": {
       "model_id": "1e5f160ba5b44fdfbee125e34f407f03",
       "version_major": 2,
       "version_minor": 0
      },
      "text/plain": [
       "Canvas(toolbar=Toolbar(toolitems=[('Home', 'Reset original view', 'home', 'home'), ('Back', 'Back to previous …"
      ]
     },
     "metadata": {},
     "output_type": "display_data"
    },
    {
     "data": {
      "application/vnd.jupyter.widget-view+json": {
       "model_id": "57a59e6a00ae43e89e4c1e89566ca2a8",
       "version_major": 2,
       "version_minor": 0
      },
      "text/plain": [
       "Canvas(toolbar=Toolbar(toolitems=[('Home', 'Reset original view', 'home', 'home'), ('Back', 'Back to previous …"
      ]
     },
     "metadata": {},
     "output_type": "display_data"
    },
    {
     "data": {
      "application/vnd.jupyter.widget-view+json": {
       "model_id": "2d0f78039bc34c2c9c13d2b46b83c075",
       "version_major": 2,
       "version_minor": 0
      },
      "text/plain": [
       "Canvas(toolbar=Toolbar(toolitems=[('Home', 'Reset original view', 'home', 'home'), ('Back', 'Back to previous …"
      ]
     },
     "metadata": {},
     "output_type": "display_data"
    },
    {
     "data": {
      "application/vnd.jupyter.widget-view+json": {
       "model_id": "b32ba966f3f741f2bbc6585e0a53d1a4",
       "version_major": 2,
       "version_minor": 0
      },
      "text/plain": [
       "Canvas(toolbar=Toolbar(toolitems=[('Home', 'Reset original view', 'home', 'home'), ('Back', 'Back to previous …"
      ]
     },
     "metadata": {},
     "output_type": "display_data"
    },
    {
     "data": {
      "application/vnd.jupyter.widget-view+json": {
       "model_id": "60118ee61d0a47599543f76c9ebd72c5",
       "version_major": 2,
       "version_minor": 0
      },
      "text/plain": [
       "Canvas(toolbar=Toolbar(toolitems=[('Home', 'Reset original view', 'home', 'home'), ('Back', 'Back to previous …"
      ]
     },
     "metadata": {},
     "output_type": "display_data"
    },
    {
     "data": {
      "application/vnd.jupyter.widget-view+json": {
       "model_id": "56bd1bb466c942f18ba7096f3e09406e",
       "version_major": 2,
       "version_minor": 0
      },
      "text/plain": [
       "Canvas(toolbar=Toolbar(toolitems=[('Home', 'Reset original view', 'home', 'home'), ('Back', 'Back to previous …"
      ]
     },
     "metadata": {},
     "output_type": "display_data"
    },
    {
     "data": {
      "application/vnd.jupyter.widget-view+json": {
       "model_id": "efea3161db9c40f8b432084f9654840d",
       "version_major": 2,
       "version_minor": 0
      },
      "text/plain": [
       "Canvas(toolbar=Toolbar(toolitems=[('Home', 'Reset original view', 'home', 'home'), ('Back', 'Back to previous …"
      ]
     },
     "metadata": {},
     "output_type": "display_data"
    },
    {
     "data": {
      "application/vnd.jupyter.widget-view+json": {
       "model_id": "6bb2ac73b5074a0ea12a546645068e29",
       "version_major": 2,
       "version_minor": 0
      },
      "text/plain": [
       "Canvas(toolbar=Toolbar(toolitems=[('Home', 'Reset original view', 'home', 'home'), ('Back', 'Back to previous …"
      ]
     },
     "metadata": {},
     "output_type": "display_data"
    },
    {
     "data": {
      "application/vnd.jupyter.widget-view+json": {
       "model_id": "5ec4857d1e894d40957bdfb898b40154",
       "version_major": 2,
       "version_minor": 0
      },
      "text/plain": [
       "Canvas(toolbar=Toolbar(toolitems=[('Home', 'Reset original view', 'home', 'home'), ('Back', 'Back to previous …"
      ]
     },
     "metadata": {},
     "output_type": "display_data"
    },
    {
     "data": {
      "application/vnd.jupyter.widget-view+json": {
       "model_id": "03c3e636b57a4b04b1f52228339cc17e",
       "version_major": 2,
       "version_minor": 0
      },
      "text/plain": [
       "Canvas(toolbar=Toolbar(toolitems=[('Home', 'Reset original view', 'home', 'home'), ('Back', 'Back to previous …"
      ]
     },
     "metadata": {},
     "output_type": "display_data"
    },
    {
     "data": {
      "application/vnd.jupyter.widget-view+json": {
       "model_id": "8c89e7b1ce4f4932b21d378aeafa75a5",
       "version_major": 2,
       "version_minor": 0
      },
      "text/plain": [
       "Canvas(toolbar=Toolbar(toolitems=[('Home', 'Reset original view', 'home', 'home'), ('Back', 'Back to previous …"
      ]
     },
     "metadata": {},
     "output_type": "display_data"
    },
    {
     "data": {
      "application/vnd.jupyter.widget-view+json": {
       "model_id": "9040968a55364739a7ecadf56573c17c",
       "version_major": 2,
       "version_minor": 0
      },
      "text/plain": [
       "Canvas(toolbar=Toolbar(toolitems=[('Home', 'Reset original view', 'home', 'home'), ('Back', 'Back to previous …"
      ]
     },
     "metadata": {},
     "output_type": "display_data"
    },
    {
     "data": {
      "application/vnd.jupyter.widget-view+json": {
       "model_id": "1fc6a58cf0f148b9baf695435942594c",
       "version_major": 2,
       "version_minor": 0
      },
      "text/plain": [
       "Canvas(toolbar=Toolbar(toolitems=[('Home', 'Reset original view', 'home', 'home'), ('Back', 'Back to previous …"
      ]
     },
     "metadata": {},
     "output_type": "display_data"
    },
    {
     "data": {
      "application/vnd.jupyter.widget-view+json": {
       "model_id": "251148e63c6a4260b5b89864451ecce0",
       "version_major": 2,
       "version_minor": 0
      },
      "text/plain": [
       "Canvas(toolbar=Toolbar(toolitems=[('Home', 'Reset original view', 'home', 'home'), ('Back', 'Back to previous …"
      ]
     },
     "metadata": {},
     "output_type": "display_data"
    },
    {
     "data": {
      "application/vnd.jupyter.widget-view+json": {
       "model_id": "3a8708b436b54a97ad872e056ac45504",
       "version_major": 2,
       "version_minor": 0
      },
      "text/plain": [
       "Canvas(toolbar=Toolbar(toolitems=[('Home', 'Reset original view', 'home', 'home'), ('Back', 'Back to previous …"
      ]
     },
     "metadata": {},
     "output_type": "display_data"
    },
    {
     "data": {
      "application/vnd.jupyter.widget-view+json": {
       "model_id": "20b56ab52bb64c3184d7bd448f267c59",
       "version_major": 2,
       "version_minor": 0
      },
      "text/plain": [
       "Canvas(toolbar=Toolbar(toolitems=[('Home', 'Reset original view', 'home', 'home'), ('Back', 'Back to previous …"
      ]
     },
     "metadata": {},
     "output_type": "display_data"
    },
    {
     "data": {
      "application/vnd.jupyter.widget-view+json": {
       "model_id": "30d852d0a4f94e41ac1e17c5fa9f7e46",
       "version_major": 2,
       "version_minor": 0
      },
      "text/plain": [
       "Canvas(toolbar=Toolbar(toolitems=[('Home', 'Reset original view', 'home', 'home'), ('Back', 'Back to previous …"
      ]
     },
     "metadata": {},
     "output_type": "display_data"
    },
    {
     "data": {
      "application/vnd.jupyter.widget-view+json": {
       "model_id": "45f86b587aad4544b7e7723f9715904b",
       "version_major": 2,
       "version_minor": 0
      },
      "text/plain": [
       "Canvas(toolbar=Toolbar(toolitems=[('Home', 'Reset original view', 'home', 'home'), ('Back', 'Back to previous …"
      ]
     },
     "metadata": {},
     "output_type": "display_data"
    },
    {
     "data": {
      "application/vnd.jupyter.widget-view+json": {
       "model_id": "3e2d3efb82ff453ab02189ea6d1e999a",
       "version_major": 2,
       "version_minor": 0
      },
      "text/plain": [
       "Canvas(toolbar=Toolbar(toolitems=[('Home', 'Reset original view', 'home', 'home'), ('Back', 'Back to previous …"
      ]
     },
     "metadata": {},
     "output_type": "display_data"
    }
   ],
   "source": [
    "\n",
    "\n",
    "curKom = 851\n",
    "curKom = 101\n",
    "curKommuneNavn = 'København'\n",
    "\n",
    "posKommuneNavn = df_kommunekort.index.values[1:]\n",
    "# posKommuneNavn = ['Høje Tåstrup','Århus','Nordfyn','Vesthimmerland']\n",
    "# posKommuneNavn = ['Samsø']\n",
    "\n",
    "for curKommuneNavn in posKommuneNavn:\n",
    "\n",
    "    # try: \n",
    "    fig,ax1 = plt.subplots()\n",
    "    fig.patch.set_facecolor('xkcd:off white')\n",
    "    ax1.set_facecolor('xkcd:off white')\n",
    "\n",
    "    \n",
    "    for i in range(0,len(allAge)):\n",
    "        curAge = allAge[i]\n",
    "        if (curAge == '80+'):\n",
    "            curMinAge,curMaxAge = 80,125\n",
    "        else:\n",
    "            curMinAge,curMaxAge = [int(x) for x in curAge.split('-')]\n",
    "\n",
    "        curColor = cmap(i)\n",
    "        curKom = df_kommunekort['Kommune'][curKommuneNavn]\n",
    "        curDates,curCounts = getDiffTimeSeries(curKom,curAge)\n",
    "        # ax1.plot(curDates,curCounts,'.:',linewidth=0.5,markersize=2,color=curColor)\n",
    "        # ax1.plot(rnTime(curDates,7),rnMean(curCounts,7),label=curAge,color=curColor)\n",
    "        # ax1.plot(curDates[6:],rnMean(curCounts,7),label=curAge,color=curColor)\n",
    "\n",
    "        \n",
    "        curPopSize = getPopSize(curKommuneNavn,curMinAge,curMaxAge)\n",
    "\n",
    "        if (len(curCounts) > 7):\n",
    "            # ax1.plot(curDates,100*curCounts/curPopSize,'.:',linewidth=0.5,markersize=2,color=curColor)\n",
    "            ax1.plot(curDates[6:],100*rnMean(curCounts,7)/curPopSize,label=curAge,color=curColor)\n",
    "\n",
    "    ax1.set_ylim(bottom=0)\n",
    "    ax1.xaxis.set_major_formatter(mdates.DateFormatter('%d\\n%b'))\n",
    "\n",
    "    ax1.set_xlim()\n",
    "    ax1.set_xlim(left=firstDate)\n",
    "    # Draw weekends\n",
    "    firstSunday = np.datetime64('2021-10-03')\n",
    "    numWeeks = 52\n",
    "    for k in range(-numWeeks,numWeeks):\n",
    "            curSunday = firstSunday + np.timedelta64(7*k,'D')\n",
    "            ax1.axvspan(curSunday-np.timedelta64(1,'D')-np.timedelta64(12,'h'),curSunday+np.timedelta64(12,'h'),zorder=-1,facecolor='lightgrey',label=int(k==0)*'Weekend')\n",
    "    ax1.grid(axis='y')\n",
    "    ax1.legend()\n",
    "    ax1.set_ylabel('Smittetilfælde, som andel af befolkning [%]\\n7-dages gennemsnit')\n",
    "    ax1.set_title(curKommuneNavn)\n",
    "\n",
    "    if saveFigures:\n",
    "        fig.savefig(path_figs+curKommuneNavn+'_Procent')\n",
    "    # except:\n",
    "    #     2+2"
   ]
  },
  {
   "cell_type": "code",
   "execution_count": 30,
   "metadata": {},
   "outputs": [],
   "source": [
    "plt.close('all')"
   ]
  },
  {
   "cell_type": "code",
   "execution_count": 31,
   "metadata": {},
   "outputs": [],
   "source": [
    "\n",
    "posKommuneNavn = df_kommunekort.index.values[1:]\n",
    "# posKommuneNavn = ['Høje Tåstrup','Århus','Nordfyn','Vesthimmerland']\n",
    "\n",
    "\n",
    "maxCumu = 0\n",
    "\n",
    "maxKommune = ''\n",
    "\n",
    "for curKommuneNavn in posKommuneNavn:\n",
    "        for i in range(0,len(allAge)):\n",
    "            curAge = allAge[i]\n",
    "            if (curAge == '80+'):\n",
    "                curMinAge,curMaxAge = 80,125\n",
    "            else:\n",
    "                curMinAge,curMaxAge = [int(x) for x in curAge.split('-')]\n",
    "\n",
    "            curColor = cmap(i)\n",
    "            curKom = df_kommunekort['Kommune'][curKommuneNavn]\n",
    "            curDates,curCounts = getDiffTimeSeries(curKom,curAge)\n",
    "            \n",
    "            curPopSize = getPopSize(curKommuneNavn,curMinAge,curMaxAge)\n",
    "\n",
    "            if (len(curCounts) > 7):\n",
    "                curCumu = 100*np.cumsum(curCounts)/curPopSize\n",
    "\n",
    "            curMax = np.max(curCumu)\n",
    "\n",
    "            if (curMax > maxCumu):\n",
    "                maxKommune = curKommuneNavn\n",
    "                maxCumu = curMax \n",
    "            # maxCumu = np.max([curMax,maxCumu])\n",
    "print(f'{maxKommune}: {maxCumu}')\n"
   ]
  },
  {
   "cell_type": "code",
   "execution_count": null,
   "metadata": {},
   "outputs": [],
   "source": []
  },
  {
   "cell_type": "code",
   "execution_count": null,
   "metadata": {},
   "outputs": [
    {
     "data": {
      "application/vnd.jupyter.widget-view+json": {
       "model_id": "19ae6ead53c2438891ec801107f614d4",
       "version_major": 2,
       "version_minor": 0
      },
      "text/plain": [
       "Canvas(toolbar=Toolbar(toolitems=[('Home', 'Reset original view', 'home', 'home'), ('Back', 'Back to previous …"
      ]
     },
     "metadata": {},
     "output_type": "display_data"
    },
    {
     "data": {
      "application/vnd.jupyter.widget-view+json": {
       "model_id": "3382a072d7d34381b37e8a4cb8460d19",
       "version_major": 2,
       "version_minor": 0
      },
      "text/plain": [
       "Canvas(toolbar=Toolbar(toolitems=[('Home', 'Reset original view', 'home', 'home'), ('Back', 'Back to previous …"
      ]
     },
     "metadata": {},
     "output_type": "display_data"
    },
    {
     "data": {
      "application/vnd.jupyter.widget-view+json": {
       "model_id": "8c1e922d5b1b467c84760094ae3f646d",
       "version_major": 2,
       "version_minor": 0
      },
      "text/plain": [
       "Canvas(toolbar=Toolbar(toolitems=[('Home', 'Reset original view', 'home', 'home'), ('Back', 'Back to previous …"
      ]
     },
     "metadata": {},
     "output_type": "display_data"
    },
    {
     "data": {
      "application/vnd.jupyter.widget-view+json": {
       "model_id": "372abebd97c049ffa0a36a2baa82047f",
       "version_major": 2,
       "version_minor": 0
      },
      "text/plain": [
       "Canvas(toolbar=Toolbar(toolitems=[('Home', 'Reset original view', 'home', 'home'), ('Back', 'Back to previous …"
      ]
     },
     "metadata": {},
     "output_type": "display_data"
    },
    {
     "data": {
      "application/vnd.jupyter.widget-view+json": {
       "model_id": "ac5e99800369482a891af79432c9dcfe",
       "version_major": 2,
       "version_minor": 0
      },
      "text/plain": [
       "Canvas(toolbar=Toolbar(toolitems=[('Home', 'Reset original view', 'home', 'home'), ('Back', 'Back to previous …"
      ]
     },
     "metadata": {},
     "output_type": "display_data"
    },
    {
     "data": {
      "application/vnd.jupyter.widget-view+json": {
       "model_id": "13bc1acea4da45e6923b92514d87e614",
       "version_major": 2,
       "version_minor": 0
      },
      "text/plain": [
       "Canvas(toolbar=Toolbar(toolitems=[('Home', 'Reset original view', 'home', 'home'), ('Back', 'Back to previous …"
      ]
     },
     "metadata": {},
     "output_type": "display_data"
    },
    {
     "data": {
      "application/vnd.jupyter.widget-view+json": {
       "model_id": "99c0b322473441e1930621228d830fe0",
       "version_major": 2,
       "version_minor": 0
      },
      "text/plain": [
       "Canvas(toolbar=Toolbar(toolitems=[('Home', 'Reset original view', 'home', 'home'), ('Back', 'Back to previous …"
      ]
     },
     "metadata": {},
     "output_type": "display_data"
    },
    {
     "data": {
      "application/vnd.jupyter.widget-view+json": {
       "model_id": "3787c696b8ee465db9781a26b5a9992f",
       "version_major": 2,
       "version_minor": 0
      },
      "text/plain": [
       "Canvas(toolbar=Toolbar(toolitems=[('Home', 'Reset original view', 'home', 'home'), ('Back', 'Back to previous …"
      ]
     },
     "metadata": {},
     "output_type": "display_data"
    },
    {
     "data": {
      "application/vnd.jupyter.widget-view+json": {
       "model_id": "674c27bdd45a401e8517756c0e5f6d6c",
       "version_major": 2,
       "version_minor": 0
      },
      "text/plain": [
       "Canvas(toolbar=Toolbar(toolitems=[('Home', 'Reset original view', 'home', 'home'), ('Back', 'Back to previous …"
      ]
     },
     "metadata": {},
     "output_type": "display_data"
    },
    {
     "data": {
      "application/vnd.jupyter.widget-view+json": {
       "model_id": "76cf0bfb0e6445e39b124a944df1c13d",
       "version_major": 2,
       "version_minor": 0
      },
      "text/plain": [
       "Canvas(toolbar=Toolbar(toolitems=[('Home', 'Reset original view', 'home', 'home'), ('Back', 'Back to previous …"
      ]
     },
     "metadata": {},
     "output_type": "display_data"
    },
    {
     "data": {
      "application/vnd.jupyter.widget-view+json": {
       "model_id": "0f3c1c5e31a34e4bb6b9f131aa9b0459",
       "version_major": 2,
       "version_minor": 0
      },
      "text/plain": [
       "Canvas(toolbar=Toolbar(toolitems=[('Home', 'Reset original view', 'home', 'home'), ('Back', 'Back to previous …"
      ]
     },
     "metadata": {},
     "output_type": "display_data"
    },
    {
     "data": {
      "application/vnd.jupyter.widget-view+json": {
       "model_id": "3064f97878bd4beb9be43863b8e8703b",
       "version_major": 2,
       "version_minor": 0
      },
      "text/plain": [
       "Canvas(toolbar=Toolbar(toolitems=[('Home', 'Reset original view', 'home', 'home'), ('Back', 'Back to previous …"
      ]
     },
     "metadata": {},
     "output_type": "display_data"
    },
    {
     "data": {
      "application/vnd.jupyter.widget-view+json": {
       "model_id": "9956f546fce1455aba4063552ba276a8",
       "version_major": 2,
       "version_minor": 0
      },
      "text/plain": [
       "Canvas(toolbar=Toolbar(toolitems=[('Home', 'Reset original view', 'home', 'home'), ('Back', 'Back to previous …"
      ]
     },
     "metadata": {},
     "output_type": "display_data"
    },
    {
     "data": {
      "application/vnd.jupyter.widget-view+json": {
       "model_id": "cc7d2bcdb9704a29a8cb568af237e648",
       "version_major": 2,
       "version_minor": 0
      },
      "text/plain": [
       "Canvas(toolbar=Toolbar(toolitems=[('Home', 'Reset original view', 'home', 'home'), ('Back', 'Back to previous …"
      ]
     },
     "metadata": {},
     "output_type": "display_data"
    },
    {
     "data": {
      "application/vnd.jupyter.widget-view+json": {
       "model_id": "5534a5b1f5bb4a6ba2b5f3f1501f5ff7",
       "version_major": 2,
       "version_minor": 0
      },
      "text/plain": [
       "Canvas(toolbar=Toolbar(toolitems=[('Home', 'Reset original view', 'home', 'home'), ('Back', 'Back to previous …"
      ]
     },
     "metadata": {},
     "output_type": "display_data"
    },
    {
     "data": {
      "application/vnd.jupyter.widget-view+json": {
       "model_id": "ac42afa21efd43bc9b14325dadbf43e5",
       "version_major": 2,
       "version_minor": 0
      },
      "text/plain": [
       "Canvas(toolbar=Toolbar(toolitems=[('Home', 'Reset original view', 'home', 'home'), ('Back', 'Back to previous …"
      ]
     },
     "metadata": {},
     "output_type": "display_data"
    },
    {
     "data": {
      "application/vnd.jupyter.widget-view+json": {
       "model_id": "9b3999f6ee9c422ba5a1ae6d6ca184b1",
       "version_major": 2,
       "version_minor": 0
      },
      "text/plain": [
       "Canvas(toolbar=Toolbar(toolitems=[('Home', 'Reset original view', 'home', 'home'), ('Back', 'Back to previous …"
      ]
     },
     "metadata": {},
     "output_type": "display_data"
    },
    {
     "data": {
      "application/vnd.jupyter.widget-view+json": {
       "model_id": "1577da679b304643a9011964dc53c46f",
       "version_major": 2,
       "version_minor": 0
      },
      "text/plain": [
       "Canvas(toolbar=Toolbar(toolitems=[('Home', 'Reset original view', 'home', 'home'), ('Back', 'Back to previous …"
      ]
     },
     "metadata": {},
     "output_type": "display_data"
    },
    {
     "data": {
      "application/vnd.jupyter.widget-view+json": {
       "model_id": "58b9d8d8ec0b47b487e876b25f45192c",
       "version_major": 2,
       "version_minor": 0
      },
      "text/plain": [
       "Canvas(toolbar=Toolbar(toolitems=[('Home', 'Reset original view', 'home', 'home'), ('Back', 'Back to previous …"
      ]
     },
     "metadata": {},
     "output_type": "display_data"
    },
    {
     "data": {
      "application/vnd.jupyter.widget-view+json": {
       "model_id": "82774bc75cd64bbaad658d4f5cea6ce4",
       "version_major": 2,
       "version_minor": 0
      },
      "text/plain": [
       "Canvas(toolbar=Toolbar(toolitems=[('Home', 'Reset original view', 'home', 'home'), ('Back', 'Back to previous …"
      ]
     },
     "metadata": {},
     "output_type": "display_data"
    },
    {
     "data": {
      "application/vnd.jupyter.widget-view+json": {
       "model_id": "798aaf99b3a74eaabd6516199d4c5dee",
       "version_major": 2,
       "version_minor": 0
      },
      "text/plain": [
       "Canvas(toolbar=Toolbar(toolitems=[('Home', 'Reset original view', 'home', 'home'), ('Back', 'Back to previous …"
      ]
     },
     "metadata": {},
     "output_type": "display_data"
    },
    {
     "data": {
      "application/vnd.jupyter.widget-view+json": {
       "model_id": "cb10549d873a430f95c42d74c3b69609",
       "version_major": 2,
       "version_minor": 0
      },
      "text/plain": [
       "Canvas(toolbar=Toolbar(toolitems=[('Home', 'Reset original view', 'home', 'home'), ('Back', 'Back to previous …"
      ]
     },
     "metadata": {},
     "output_type": "display_data"
    },
    {
     "data": {
      "application/vnd.jupyter.widget-view+json": {
       "model_id": "d37114d8e20340fcbd2b730788802b03",
       "version_major": 2,
       "version_minor": 0
      },
      "text/plain": [
       "Canvas(toolbar=Toolbar(toolitems=[('Home', 'Reset original view', 'home', 'home'), ('Back', 'Back to previous …"
      ]
     },
     "metadata": {},
     "output_type": "display_data"
    },
    {
     "data": {
      "application/vnd.jupyter.widget-view+json": {
       "model_id": "16b7348eddc44acc8a58b43c9e7d2fe3",
       "version_major": 2,
       "version_minor": 0
      },
      "text/plain": [
       "Canvas(toolbar=Toolbar(toolitems=[('Home', 'Reset original view', 'home', 'home'), ('Back', 'Back to previous …"
      ]
     },
     "metadata": {},
     "output_type": "display_data"
    },
    {
     "data": {
      "application/vnd.jupyter.widget-view+json": {
       "model_id": "621911774699460c9105fefb7ef46d24",
       "version_major": 2,
       "version_minor": 0
      },
      "text/plain": [
       "Canvas(toolbar=Toolbar(toolitems=[('Home', 'Reset original view', 'home', 'home'), ('Back', 'Back to previous …"
      ]
     },
     "metadata": {},
     "output_type": "display_data"
    },
    {
     "data": {
      "application/vnd.jupyter.widget-view+json": {
       "model_id": "ec363c9109454dcda669d97e3dde8872",
       "version_major": 2,
       "version_minor": 0
      },
      "text/plain": [
       "Canvas(toolbar=Toolbar(toolitems=[('Home', 'Reset original view', 'home', 'home'), ('Back', 'Back to previous …"
      ]
     },
     "metadata": {},
     "output_type": "display_data"
    },
    {
     "data": {
      "application/vnd.jupyter.widget-view+json": {
       "model_id": "3b730a43b3764fe4a266bc2100e37ffd",
       "version_major": 2,
       "version_minor": 0
      },
      "text/plain": [
       "Canvas(toolbar=Toolbar(toolitems=[('Home', 'Reset original view', 'home', 'home'), ('Back', 'Back to previous …"
      ]
     },
     "metadata": {},
     "output_type": "display_data"
    },
    {
     "data": {
      "application/vnd.jupyter.widget-view+json": {
       "model_id": "bc44820dec8047bdb632c1f5df525d1c",
       "version_major": 2,
       "version_minor": 0
      },
      "text/plain": [
       "Canvas(toolbar=Toolbar(toolitems=[('Home', 'Reset original view', 'home', 'home'), ('Back', 'Back to previous …"
      ]
     },
     "metadata": {},
     "output_type": "display_data"
    },
    {
     "data": {
      "application/vnd.jupyter.widget-view+json": {
       "model_id": "c0a5e773ff41498c86b65d837eba028c",
       "version_major": 2,
       "version_minor": 0
      },
      "text/plain": [
       "Canvas(toolbar=Toolbar(toolitems=[('Home', 'Reset original view', 'home', 'home'), ('Back', 'Back to previous …"
      ]
     },
     "metadata": {},
     "output_type": "display_data"
    },
    {
     "data": {
      "application/vnd.jupyter.widget-view+json": {
       "model_id": "cc51740028e64c1b841cde4c95ad8e7d",
       "version_major": 2,
       "version_minor": 0
      },
      "text/plain": [
       "Canvas(toolbar=Toolbar(toolitems=[('Home', 'Reset original view', 'home', 'home'), ('Back', 'Back to previous …"
      ]
     },
     "metadata": {},
     "output_type": "display_data"
    },
    {
     "data": {
      "application/vnd.jupyter.widget-view+json": {
       "model_id": "e1626d0068c44c6fb15e11dda7f0554d",
       "version_major": 2,
       "version_minor": 0
      },
      "text/plain": [
       "Canvas(toolbar=Toolbar(toolitems=[('Home', 'Reset original view', 'home', 'home'), ('Back', 'Back to previous …"
      ]
     },
     "metadata": {},
     "output_type": "display_data"
    },
    {
     "data": {
      "application/vnd.jupyter.widget-view+json": {
       "model_id": "18e487c090d34b70bc673a95300a3512",
       "version_major": 2,
       "version_minor": 0
      },
      "text/plain": [
       "Canvas(toolbar=Toolbar(toolitems=[('Home', 'Reset original view', 'home', 'home'), ('Back', 'Back to previous …"
      ]
     },
     "metadata": {},
     "output_type": "display_data"
    },
    {
     "data": {
      "application/vnd.jupyter.widget-view+json": {
       "model_id": "a55d814c17c7498a9061a6bd366d0ff1",
       "version_major": 2,
       "version_minor": 0
      },
      "text/plain": [
       "Canvas(toolbar=Toolbar(toolitems=[('Home', 'Reset original view', 'home', 'home'), ('Back', 'Back to previous …"
      ]
     },
     "metadata": {},
     "output_type": "display_data"
    },
    {
     "data": {
      "application/vnd.jupyter.widget-view+json": {
       "model_id": "934794cb86e4405c851852a0ec1e3774",
       "version_major": 2,
       "version_minor": 0
      },
      "text/plain": [
       "Canvas(toolbar=Toolbar(toolitems=[('Home', 'Reset original view', 'home', 'home'), ('Back', 'Back to previous …"
      ]
     },
     "metadata": {},
     "output_type": "display_data"
    },
    {
     "data": {
      "application/vnd.jupyter.widget-view+json": {
       "model_id": "57aada9ba67549ada16fc2bd7241b332",
       "version_major": 2,
       "version_minor": 0
      },
      "text/plain": [
       "Canvas(toolbar=Toolbar(toolitems=[('Home', 'Reset original view', 'home', 'home'), ('Back', 'Back to previous …"
      ]
     },
     "metadata": {},
     "output_type": "display_data"
    },
    {
     "data": {
      "application/vnd.jupyter.widget-view+json": {
       "model_id": "6f6d1dd64204486b8a334e9d14e53404",
       "version_major": 2,
       "version_minor": 0
      },
      "text/plain": [
       "Canvas(toolbar=Toolbar(toolitems=[('Home', 'Reset original view', 'home', 'home'), ('Back', 'Back to previous …"
      ]
     },
     "metadata": {},
     "output_type": "display_data"
    },
    {
     "data": {
      "application/vnd.jupyter.widget-view+json": {
       "model_id": "d37e0ed6801446528eca0793098a561b",
       "version_major": 2,
       "version_minor": 0
      },
      "text/plain": [
       "Canvas(toolbar=Toolbar(toolitems=[('Home', 'Reset original view', 'home', 'home'), ('Back', 'Back to previous …"
      ]
     },
     "metadata": {},
     "output_type": "display_data"
    },
    {
     "data": {
      "application/vnd.jupyter.widget-view+json": {
       "model_id": "c1702cf2e4644df78aaecb426c9b84c0",
       "version_major": 2,
       "version_minor": 0
      },
      "text/plain": [
       "Canvas(toolbar=Toolbar(toolitems=[('Home', 'Reset original view', 'home', 'home'), ('Back', 'Back to previous …"
      ]
     },
     "metadata": {},
     "output_type": "display_data"
    },
    {
     "data": {
      "application/vnd.jupyter.widget-view+json": {
       "model_id": "05f321593d164f2e9192307db92e8fea",
       "version_major": 2,
       "version_minor": 0
      },
      "text/plain": [
       "Canvas(toolbar=Toolbar(toolitems=[('Home', 'Reset original view', 'home', 'home'), ('Back', 'Back to previous …"
      ]
     },
     "metadata": {},
     "output_type": "display_data"
    },
    {
     "data": {
      "application/vnd.jupyter.widget-view+json": {
       "model_id": "bbb49c4e76154e3ca973be3036f1ce07",
       "version_major": 2,
       "version_minor": 0
      },
      "text/plain": [
       "Canvas(toolbar=Toolbar(toolitems=[('Home', 'Reset original view', 'home', 'home'), ('Back', 'Back to previous …"
      ]
     },
     "metadata": {},
     "output_type": "display_data"
    },
    {
     "data": {
      "application/vnd.jupyter.widget-view+json": {
       "model_id": "cf45226451c042acb0086cd61075a08e",
       "version_major": 2,
       "version_minor": 0
      },
      "text/plain": [
       "Canvas(toolbar=Toolbar(toolitems=[('Home', 'Reset original view', 'home', 'home'), ('Back', 'Back to previous …"
      ]
     },
     "metadata": {},
     "output_type": "display_data"
    },
    {
     "data": {
      "application/vnd.jupyter.widget-view+json": {
       "model_id": "39e2ddc3ee0b4c6599d801cfcac6a54e",
       "version_major": 2,
       "version_minor": 0
      },
      "text/plain": [
       "Canvas(toolbar=Toolbar(toolitems=[('Home', 'Reset original view', 'home', 'home'), ('Back', 'Back to previous …"
      ]
     },
     "metadata": {},
     "output_type": "display_data"
    },
    {
     "data": {
      "application/vnd.jupyter.widget-view+json": {
       "model_id": "57929528a6e74e80b3eec1c2f88db325",
       "version_major": 2,
       "version_minor": 0
      },
      "text/plain": [
       "Canvas(toolbar=Toolbar(toolitems=[('Home', 'Reset original view', 'home', 'home'), ('Back', 'Back to previous …"
      ]
     },
     "metadata": {},
     "output_type": "display_data"
    },
    {
     "data": {
      "application/vnd.jupyter.widget-view+json": {
       "model_id": "98df4ac7828745e18527124c99359450",
       "version_major": 2,
       "version_minor": 0
      },
      "text/plain": [
       "Canvas(toolbar=Toolbar(toolitems=[('Home', 'Reset original view', 'home', 'home'), ('Back', 'Back to previous …"
      ]
     },
     "metadata": {},
     "output_type": "display_data"
    },
    {
     "data": {
      "application/vnd.jupyter.widget-view+json": {
       "model_id": "522f58bd8e2e45919fd3aa2d1d6a21d9",
       "version_major": 2,
       "version_minor": 0
      },
      "text/plain": [
       "Canvas(toolbar=Toolbar(toolitems=[('Home', 'Reset original view', 'home', 'home'), ('Back', 'Back to previous …"
      ]
     },
     "metadata": {},
     "output_type": "display_data"
    },
    {
     "data": {
      "application/vnd.jupyter.widget-view+json": {
       "model_id": "85213e94eded4e13a47ab0980313ecec",
       "version_major": 2,
       "version_minor": 0
      },
      "text/plain": [
       "Canvas(toolbar=Toolbar(toolitems=[('Home', 'Reset original view', 'home', 'home'), ('Back', 'Back to previous …"
      ]
     },
     "metadata": {},
     "output_type": "display_data"
    },
    {
     "data": {
      "application/vnd.jupyter.widget-view+json": {
       "model_id": "a844b685147d4d8ebe226b5704fb3ae0",
       "version_major": 2,
       "version_minor": 0
      },
      "text/plain": [
       "Canvas(toolbar=Toolbar(toolitems=[('Home', 'Reset original view', 'home', 'home'), ('Back', 'Back to previous …"
      ]
     },
     "metadata": {},
     "output_type": "display_data"
    },
    {
     "data": {
      "application/vnd.jupyter.widget-view+json": {
       "model_id": "fad895ea1b5c4798a3a48daa9361aef4",
       "version_major": 2,
       "version_minor": 0
      },
      "text/plain": [
       "Canvas(toolbar=Toolbar(toolitems=[('Home', 'Reset original view', 'home', 'home'), ('Back', 'Back to previous …"
      ]
     },
     "metadata": {},
     "output_type": "display_data"
    },
    {
     "data": {
      "application/vnd.jupyter.widget-view+json": {
       "model_id": "bbeef56fccc1436d9bd53a2ca3c34d48",
       "version_major": 2,
       "version_minor": 0
      },
      "text/plain": [
       "Canvas(toolbar=Toolbar(toolitems=[('Home', 'Reset original view', 'home', 'home'), ('Back', 'Back to previous …"
      ]
     },
     "metadata": {},
     "output_type": "display_data"
    },
    {
     "data": {
      "application/vnd.jupyter.widget-view+json": {
       "model_id": "864f043cee474df8822be541dee4e804",
       "version_major": 2,
       "version_minor": 0
      },
      "text/plain": [
       "Canvas(toolbar=Toolbar(toolitems=[('Home', 'Reset original view', 'home', 'home'), ('Back', 'Back to previous …"
      ]
     },
     "metadata": {},
     "output_type": "display_data"
    },
    {
     "data": {
      "application/vnd.jupyter.widget-view+json": {
       "model_id": "9d10ffeb0f6c4713aec055f1b91e421a",
       "version_major": 2,
       "version_minor": 0
      },
      "text/plain": [
       "Canvas(toolbar=Toolbar(toolitems=[('Home', 'Reset original view', 'home', 'home'), ('Back', 'Back to previous …"
      ]
     },
     "metadata": {},
     "output_type": "display_data"
    },
    {
     "data": {
      "application/vnd.jupyter.widget-view+json": {
       "model_id": "1e31a162c6454d428b375ef95a17718a",
       "version_major": 2,
       "version_minor": 0
      },
      "text/plain": [
       "Canvas(toolbar=Toolbar(toolitems=[('Home', 'Reset original view', 'home', 'home'), ('Back', 'Back to previous …"
      ]
     },
     "metadata": {},
     "output_type": "display_data"
    },
    {
     "data": {
      "application/vnd.jupyter.widget-view+json": {
       "model_id": "5c9eddaae4e14a128d31561b169a7eff",
       "version_major": 2,
       "version_minor": 0
      },
      "text/plain": [
       "Canvas(toolbar=Toolbar(toolitems=[('Home', 'Reset original view', 'home', 'home'), ('Back', 'Back to previous …"
      ]
     },
     "metadata": {},
     "output_type": "display_data"
    },
    {
     "data": {
      "application/vnd.jupyter.widget-view+json": {
       "model_id": "cd89971c90e249199fb1d8e264b24610",
       "version_major": 2,
       "version_minor": 0
      },
      "text/plain": [
       "Canvas(toolbar=Toolbar(toolitems=[('Home', 'Reset original view', 'home', 'home'), ('Back', 'Back to previous …"
      ]
     },
     "metadata": {},
     "output_type": "display_data"
    },
    {
     "data": {
      "application/vnd.jupyter.widget-view+json": {
       "model_id": "59110d5ba57847319021f0d848af8255",
       "version_major": 2,
       "version_minor": 0
      },
      "text/plain": [
       "Canvas(toolbar=Toolbar(toolitems=[('Home', 'Reset original view', 'home', 'home'), ('Back', 'Back to previous …"
      ]
     },
     "metadata": {},
     "output_type": "display_data"
    },
    {
     "data": {
      "application/vnd.jupyter.widget-view+json": {
       "model_id": "435a63fbc7944c1c9b895fe8511993d9",
       "version_major": 2,
       "version_minor": 0
      },
      "text/plain": [
       "Canvas(toolbar=Toolbar(toolitems=[('Home', 'Reset original view', 'home', 'home'), ('Back', 'Back to previous …"
      ]
     },
     "metadata": {},
     "output_type": "display_data"
    },
    {
     "data": {
      "application/vnd.jupyter.widget-view+json": {
       "model_id": "183e2a5f79cd4c14b919a38f92a31327",
       "version_major": 2,
       "version_minor": 0
      },
      "text/plain": [
       "Canvas(toolbar=Toolbar(toolitems=[('Home', 'Reset original view', 'home', 'home'), ('Back', 'Back to previous …"
      ]
     },
     "metadata": {},
     "output_type": "display_data"
    },
    {
     "data": {
      "application/vnd.jupyter.widget-view+json": {
       "model_id": "01bdae4f84cd4219b1655a48f22c61f4",
       "version_major": 2,
       "version_minor": 0
      },
      "text/plain": [
       "Canvas(toolbar=Toolbar(toolitems=[('Home', 'Reset original view', 'home', 'home'), ('Back', 'Back to previous …"
      ]
     },
     "metadata": {},
     "output_type": "display_data"
    },
    {
     "data": {
      "application/vnd.jupyter.widget-view+json": {
       "model_id": "8bfcd89986f14643bf242031b9a5bebe",
       "version_major": 2,
       "version_minor": 0
      },
      "text/plain": [
       "Canvas(toolbar=Toolbar(toolitems=[('Home', 'Reset original view', 'home', 'home'), ('Back', 'Back to previous …"
      ]
     },
     "metadata": {},
     "output_type": "display_data"
    },
    {
     "data": {
      "application/vnd.jupyter.widget-view+json": {
       "model_id": "9df0b1db32fb4158831bc939de1e3082",
       "version_major": 2,
       "version_minor": 0
      },
      "text/plain": [
       "Canvas(toolbar=Toolbar(toolitems=[('Home', 'Reset original view', 'home', 'home'), ('Back', 'Back to previous …"
      ]
     },
     "metadata": {},
     "output_type": "display_data"
    },
    {
     "data": {
      "application/vnd.jupyter.widget-view+json": {
       "model_id": "8fbdd3c94a324048be660e03c039ecae",
       "version_major": 2,
       "version_minor": 0
      },
      "text/plain": [
       "Canvas(toolbar=Toolbar(toolitems=[('Home', 'Reset original view', 'home', 'home'), ('Back', 'Back to previous …"
      ]
     },
     "metadata": {},
     "output_type": "display_data"
    },
    {
     "data": {
      "application/vnd.jupyter.widget-view+json": {
       "model_id": "3c61a93a12df4e129f89a61e61b4689a",
       "version_major": 2,
       "version_minor": 0
      },
      "text/plain": [
       "Canvas(toolbar=Toolbar(toolitems=[('Home', 'Reset original view', 'home', 'home'), ('Back', 'Back to previous …"
      ]
     },
     "metadata": {},
     "output_type": "display_data"
    },
    {
     "data": {
      "application/vnd.jupyter.widget-view+json": {
       "model_id": "1eecf6525a344a1eb7f96728e640af69",
       "version_major": 2,
       "version_minor": 0
      },
      "text/plain": [
       "Canvas(toolbar=Toolbar(toolitems=[('Home', 'Reset original view', 'home', 'home'), ('Back', 'Back to previous …"
      ]
     },
     "metadata": {},
     "output_type": "display_data"
    },
    {
     "data": {
      "application/vnd.jupyter.widget-view+json": {
       "model_id": "7bb9233562ac4206b8d4b235b8f83b80",
       "version_major": 2,
       "version_minor": 0
      },
      "text/plain": [
       "Canvas(toolbar=Toolbar(toolitems=[('Home', 'Reset original view', 'home', 'home'), ('Back', 'Back to previous …"
      ]
     },
     "metadata": {},
     "output_type": "display_data"
    },
    {
     "data": {
      "application/vnd.jupyter.widget-view+json": {
       "model_id": "26482f1b47d14619bd78312f0979e56c",
       "version_major": 2,
       "version_minor": 0
      },
      "text/plain": [
       "Canvas(toolbar=Toolbar(toolitems=[('Home', 'Reset original view', 'home', 'home'), ('Back', 'Back to previous …"
      ]
     },
     "metadata": {},
     "output_type": "display_data"
    },
    {
     "data": {
      "application/vnd.jupyter.widget-view+json": {
       "model_id": "cc59658a156d45d083d3bfa4a540357a",
       "version_major": 2,
       "version_minor": 0
      },
      "text/plain": [
       "Canvas(toolbar=Toolbar(toolitems=[('Home', 'Reset original view', 'home', 'home'), ('Back', 'Back to previous …"
      ]
     },
     "metadata": {},
     "output_type": "display_data"
    },
    {
     "data": {
      "application/vnd.jupyter.widget-view+json": {
       "model_id": "b154226e69524513ae5dcc241316e865",
       "version_major": 2,
       "version_minor": 0
      },
      "text/plain": [
       "Canvas(toolbar=Toolbar(toolitems=[('Home', 'Reset original view', 'home', 'home'), ('Back', 'Back to previous …"
      ]
     },
     "metadata": {},
     "output_type": "display_data"
    },
    {
     "data": {
      "application/vnd.jupyter.widget-view+json": {
       "model_id": "3e0d434fa9d144b7a4149b317d828ac1",
       "version_major": 2,
       "version_minor": 0
      },
      "text/plain": [
       "Canvas(toolbar=Toolbar(toolitems=[('Home', 'Reset original view', 'home', 'home'), ('Back', 'Back to previous …"
      ]
     },
     "metadata": {},
     "output_type": "display_data"
    },
    {
     "data": {
      "application/vnd.jupyter.widget-view+json": {
       "model_id": "c074f819ff49478a9b447603b8030bf6",
       "version_major": 2,
       "version_minor": 0
      },
      "text/plain": [
       "Canvas(toolbar=Toolbar(toolitems=[('Home', 'Reset original view', 'home', 'home'), ('Back', 'Back to previous …"
      ]
     },
     "metadata": {},
     "output_type": "display_data"
    },
    {
     "data": {
      "application/vnd.jupyter.widget-view+json": {
       "model_id": "30fdf31f56ff40dabffa72a7348c0fb4",
       "version_major": 2,
       "version_minor": 0
      },
      "text/plain": [
       "Canvas(toolbar=Toolbar(toolitems=[('Home', 'Reset original view', 'home', 'home'), ('Back', 'Back to previous …"
      ]
     },
     "metadata": {},
     "output_type": "display_data"
    },
    {
     "data": {
      "application/vnd.jupyter.widget-view+json": {
       "model_id": "957ad7bda99c479a87724955f1267b7a",
       "version_major": 2,
       "version_minor": 0
      },
      "text/plain": [
       "Canvas(toolbar=Toolbar(toolitems=[('Home', 'Reset original view', 'home', 'home'), ('Back', 'Back to previous …"
      ]
     },
     "metadata": {},
     "output_type": "display_data"
    },
    {
     "data": {
      "application/vnd.jupyter.widget-view+json": {
       "model_id": "d8f8f0923e44434995fcb6069b1ff712",
       "version_major": 2,
       "version_minor": 0
      },
      "text/plain": [
       "Canvas(toolbar=Toolbar(toolitems=[('Home', 'Reset original view', 'home', 'home'), ('Back', 'Back to previous …"
      ]
     },
     "metadata": {},
     "output_type": "display_data"
    },
    {
     "data": {
      "application/vnd.jupyter.widget-view+json": {
       "model_id": "727516107f4941c89eb9bcae324ba4e8",
       "version_major": 2,
       "version_minor": 0
      },
      "text/plain": [
       "Canvas(toolbar=Toolbar(toolitems=[('Home', 'Reset original view', 'home', 'home'), ('Back', 'Back to previous …"
      ]
     },
     "metadata": {},
     "output_type": "display_data"
    },
    {
     "data": {
      "application/vnd.jupyter.widget-view+json": {
       "model_id": "6ae11596bf714b42b47433a880da409e",
       "version_major": 2,
       "version_minor": 0
      },
      "text/plain": [
       "Canvas(toolbar=Toolbar(toolitems=[('Home', 'Reset original view', 'home', 'home'), ('Back', 'Back to previous …"
      ]
     },
     "metadata": {},
     "output_type": "display_data"
    },
    {
     "data": {
      "application/vnd.jupyter.widget-view+json": {
       "model_id": "8d2a705e211745fbac8e93c6bff28d2a",
       "version_major": 2,
       "version_minor": 0
      },
      "text/plain": [
       "Canvas(toolbar=Toolbar(toolitems=[('Home', 'Reset original view', 'home', 'home'), ('Back', 'Back to previous …"
      ]
     },
     "metadata": {},
     "output_type": "display_data"
    },
    {
     "data": {
      "application/vnd.jupyter.widget-view+json": {
       "model_id": "311924f85ab447c4996e3c3018ce0f1d",
       "version_major": 2,
       "version_minor": 0
      },
      "text/plain": [
       "Canvas(toolbar=Toolbar(toolitems=[('Home', 'Reset original view', 'home', 'home'), ('Back', 'Back to previous …"
      ]
     },
     "metadata": {},
     "output_type": "display_data"
    },
    {
     "data": {
      "application/vnd.jupyter.widget-view+json": {
       "model_id": "bdfc8991c9754d009a72516594c474fe",
       "version_major": 2,
       "version_minor": 0
      },
      "text/plain": [
       "Canvas(toolbar=Toolbar(toolitems=[('Home', 'Reset original view', 'home', 'home'), ('Back', 'Back to previous …"
      ]
     },
     "metadata": {},
     "output_type": "display_data"
    },
    {
     "data": {
      "application/vnd.jupyter.widget-view+json": {
       "model_id": "938f7bc5613f486abfe2bfe1e2d1cc7b",
       "version_major": 2,
       "version_minor": 0
      },
      "text/plain": [
       "Canvas(toolbar=Toolbar(toolitems=[('Home', 'Reset original view', 'home', 'home'), ('Back', 'Back to previous …"
      ]
     },
     "metadata": {},
     "output_type": "display_data"
    },
    {
     "data": {
      "application/vnd.jupyter.widget-view+json": {
       "model_id": "027cadb651a34e8e977d9a05677d4979",
       "version_major": 2,
       "version_minor": 0
      },
      "text/plain": [
       "Canvas(toolbar=Toolbar(toolitems=[('Home', 'Reset original view', 'home', 'home'), ('Back', 'Back to previous …"
      ]
     },
     "metadata": {},
     "output_type": "display_data"
    },
    {
     "data": {
      "application/vnd.jupyter.widget-view+json": {
       "model_id": "7d92b46b41fe431da9a24b60c4489e70",
       "version_major": 2,
       "version_minor": 0
      },
      "text/plain": [
       "Canvas(toolbar=Toolbar(toolitems=[('Home', 'Reset original view', 'home', 'home'), ('Back', 'Back to previous …"
      ]
     },
     "metadata": {},
     "output_type": "display_data"
    },
    {
     "data": {
      "application/vnd.jupyter.widget-view+json": {
       "model_id": "ee394f827af84e23b422a324e5c4d1d6",
       "version_major": 2,
       "version_minor": 0
      },
      "text/plain": [
       "Canvas(toolbar=Toolbar(toolitems=[('Home', 'Reset original view', 'home', 'home'), ('Back', 'Back to previous …"
      ]
     },
     "metadata": {},
     "output_type": "display_data"
    },
    {
     "data": {
      "application/vnd.jupyter.widget-view+json": {
       "model_id": "9693f9d981f743528e77a7f9bbef5bdd",
       "version_major": 2,
       "version_minor": 0
      },
      "text/plain": [
       "Canvas(toolbar=Toolbar(toolitems=[('Home', 'Reset original view', 'home', 'home'), ('Back', 'Back to previous …"
      ]
     },
     "metadata": {},
     "output_type": "display_data"
    },
    {
     "data": {
      "application/vnd.jupyter.widget-view+json": {
       "model_id": "5706bf716c924b069a2cdfe393e43bb1",
       "version_major": 2,
       "version_minor": 0
      },
      "text/plain": [
       "Canvas(toolbar=Toolbar(toolitems=[('Home', 'Reset original view', 'home', 'home'), ('Back', 'Back to previous …"
      ]
     },
     "metadata": {},
     "output_type": "display_data"
    },
    {
     "data": {
      "application/vnd.jupyter.widget-view+json": {
       "model_id": "acf06546991f43a5ad97abf5d9ac6791",
       "version_major": 2,
       "version_minor": 0
      },
      "text/plain": [
       "Canvas(toolbar=Toolbar(toolitems=[('Home', 'Reset original view', 'home', 'home'), ('Back', 'Back to previous …"
      ]
     },
     "metadata": {},
     "output_type": "display_data"
    },
    {
     "data": {
      "application/vnd.jupyter.widget-view+json": {
       "model_id": "3ef04dba147f4733a3e126c07f32c5d6",
       "version_major": 2,
       "version_minor": 0
      },
      "text/plain": [
       "Canvas(toolbar=Toolbar(toolitems=[('Home', 'Reset original view', 'home', 'home'), ('Back', 'Back to previous …"
      ]
     },
     "metadata": {},
     "output_type": "display_data"
    },
    {
     "data": {
      "application/vnd.jupyter.widget-view+json": {
       "model_id": "9099c4ce6a9e4ae8be7fe1cd97a28d04",
       "version_major": 2,
       "version_minor": 0
      },
      "text/plain": [
       "Canvas(toolbar=Toolbar(toolitems=[('Home', 'Reset original view', 'home', 'home'), ('Back', 'Back to previous …"
      ]
     },
     "metadata": {},
     "output_type": "display_data"
    },
    {
     "data": {
      "application/vnd.jupyter.widget-view+json": {
       "model_id": "7bc4f3d87af74410b4eeef4a64b5877c",
       "version_major": 2,
       "version_minor": 0
      },
      "text/plain": [
       "Canvas(toolbar=Toolbar(toolitems=[('Home', 'Reset original view', 'home', 'home'), ('Back', 'Back to previous …"
      ]
     },
     "metadata": {},
     "output_type": "display_data"
    },
    {
     "data": {
      "application/vnd.jupyter.widget-view+json": {
       "model_id": "a0c40f7f9c354a78bf834a0f2093387b",
       "version_major": 2,
       "version_minor": 0
      },
      "text/plain": [
       "Canvas(toolbar=Toolbar(toolitems=[('Home', 'Reset original view', 'home', 'home'), ('Back', 'Back to previous …"
      ]
     },
     "metadata": {},
     "output_type": "display_data"
    },
    {
     "data": {
      "application/vnd.jupyter.widget-view+json": {
       "model_id": "35bdccf80b27429181b7e9449f38b810",
       "version_major": 2,
       "version_minor": 0
      },
      "text/plain": [
       "Canvas(toolbar=Toolbar(toolitems=[('Home', 'Reset original view', 'home', 'home'), ('Back', 'Back to previous …"
      ]
     },
     "metadata": {},
     "output_type": "display_data"
    },
    {
     "data": {
      "application/vnd.jupyter.widget-view+json": {
       "model_id": "1416e14c6b9e4f7a8b48ac4b56bf3bf1",
       "version_major": 2,
       "version_minor": 0
      },
      "text/plain": [
       "Canvas(toolbar=Toolbar(toolitems=[('Home', 'Reset original view', 'home', 'home'), ('Back', 'Back to previous …"
      ]
     },
     "metadata": {},
     "output_type": "display_data"
    },
    {
     "data": {
      "application/vnd.jupyter.widget-view+json": {
       "model_id": "6cc9f5de5f4944e5864d6d7fec793ea6",
       "version_major": 2,
       "version_minor": 0
      },
      "text/plain": [
       "Canvas(toolbar=Toolbar(toolitems=[('Home', 'Reset original view', 'home', 'home'), ('Back', 'Back to previous …"
      ]
     },
     "metadata": {},
     "output_type": "display_data"
    },
    {
     "data": {
      "application/vnd.jupyter.widget-view+json": {
       "model_id": "bf864396c7f648b8958ab59a9068b12f",
       "version_major": 2,
       "version_minor": 0
      },
      "text/plain": [
       "Canvas(toolbar=Toolbar(toolitems=[('Home', 'Reset original view', 'home', 'home'), ('Back', 'Back to previous …"
      ]
     },
     "metadata": {},
     "output_type": "display_data"
    },
    {
     "data": {
      "application/vnd.jupyter.widget-view+json": {
       "model_id": "65238f94332c46a6a2cf6e08bee6187b",
       "version_major": 2,
       "version_minor": 0
      },
      "text/plain": [
       "Canvas(toolbar=Toolbar(toolitems=[('Home', 'Reset original view', 'home', 'home'), ('Back', 'Back to previous …"
      ]
     },
     "metadata": {},
     "output_type": "display_data"
    },
    {
     "data": {
      "application/vnd.jupyter.widget-view+json": {
       "model_id": "a810185ea0d54074b646aecafabb13db",
       "version_major": 2,
       "version_minor": 0
      },
      "text/plain": [
       "Canvas(toolbar=Toolbar(toolitems=[('Home', 'Reset original view', 'home', 'home'), ('Back', 'Back to previous …"
      ]
     },
     "metadata": {},
     "output_type": "display_data"
    },
    {
     "data": {
      "application/vnd.jupyter.widget-view+json": {
       "model_id": "00c2d82f79ca44529e7e59de2dac4bf7",
       "version_major": 2,
       "version_minor": 0
      },
      "text/plain": [
       "Canvas(toolbar=Toolbar(toolitems=[('Home', 'Reset original view', 'home', 'home'), ('Back', 'Back to previous …"
      ]
     },
     "metadata": {},
     "output_type": "display_data"
    },
    {
     "data": {
      "application/vnd.jupyter.widget-view+json": {
       "model_id": "6a5576f309df444e827642084200f476",
       "version_major": 2,
       "version_minor": 0
      },
      "text/plain": [
       "Canvas(toolbar=Toolbar(toolitems=[('Home', 'Reset original view', 'home', 'home'), ('Back', 'Back to previous …"
      ]
     },
     "metadata": {},
     "output_type": "display_data"
    },
    {
     "data": {
      "application/vnd.jupyter.widget-view+json": {
       "model_id": "81efb3e97190455cb229e440c54ece32",
       "version_major": 2,
       "version_minor": 0
      },
      "text/plain": [
       "Canvas(toolbar=Toolbar(toolitems=[('Home', 'Reset original view', 'home', 'home'), ('Back', 'Back to previous …"
      ]
     },
     "metadata": {},
     "output_type": "display_data"
    },
    {
     "data": {
      "application/vnd.jupyter.widget-view+json": {
       "model_id": "da2789de40dd48abae55b32a30956e1d",
       "version_major": 2,
       "version_minor": 0
      },
      "text/plain": [
       "Canvas(toolbar=Toolbar(toolitems=[('Home', 'Reset original view', 'home', 'home'), ('Back', 'Back to previous …"
      ]
     },
     "metadata": {},
     "output_type": "display_data"
    }
   ],
   "source": [
    "# fig,ax1 = plt.subplots()\n",
    "\n",
    "# fig.patch.set_facecolor('xkcd:off white')\n",
    "# ax1.set_facecolor('xkcd:off white')\n",
    "\n",
    "# curKom = 851\n",
    "# curKom = 101\n",
    "# curKommuneNavn = 'København'\n",
    "\n",
    "\n",
    "posKommuneNavn = df_kommunekort.index.values[1:]\n",
    "# posKommuneNavn = ['Høje Tåstrup','Århus','Nordfyn','Vesthimmerland']\n",
    "# posKommuneNavn = ['Hvidovre']\n",
    "# posKommuneNavn = ['Samsø']\n",
    "\n",
    "for curKommuneNavn in posKommuneNavn:\n",
    "\n",
    "    # try: \n",
    "    plt.close('all')\n",
    "    fig,ax1 = plt.subplots()\n",
    "    fig.patch.set_facecolor('xkcd:off white')\n",
    "    ax1.set_facecolor('xkcd:off white')\n",
    "\n",
    "    for i in range(0,len(allAge)):\n",
    "        curAge = allAge[i]\n",
    "        if (curAge == '80+'):\n",
    "            curMinAge,curMaxAge = 80,125\n",
    "        else:\n",
    "            curMinAge,curMaxAge = [int(x) for x in curAge.split('-')]\n",
    "\n",
    "        curColor = cmap(i)\n",
    "        curKom = df_kommunekort['Kommune'][curKommuneNavn]\n",
    "        curDates,curCounts = getDiffTimeSeries(curKom,curAge)\n",
    "        # ax1.plot(curDates,curCounts,'.:',linewidth=0.5,markersize=2,color=curColor)\n",
    "        # ax1.plot(rnTime(curDates,7),rnMean(curCounts,7),label=curAge,color=curColor)\n",
    "        # ax1.plot(curDates[6:],rnMean(curCounts,7),label=curAge,color=curColor)\n",
    "\n",
    "        \n",
    "        curPopSize = getPopSize(curKommuneNavn,curMinAge,curMaxAge)\n",
    "\n",
    "        if (len(curCounts) > 7):\n",
    "            # Cutoff everything before first date\n",
    "            curDates = np.array([np.datetime64(x) for x in curDates])\n",
    "            curIndex = (curDates > firstDate)\n",
    "            curDates = curDates[curIndex]\n",
    "            curCounts = curCounts[curIndex]\n",
    "\n",
    "            # ax1.plot(curDates,100*curCounts/curPopSize,'.:',linewidth=0.5,markersize=2,color=curColor)\n",
    "            # ax1.plot(curDates[6:],100*rnMean(np.cumsum(curCounts),7)/curPopSize,label=curAge,color=curColor)\n",
    "            ax1.plot(curDates,100*np.cumsum(curCounts)/curPopSize,label=curAge,color=curColor)\n",
    "\n",
    "    ax1.set_ylim(bottom=0)\n",
    "    ax1.xaxis.set_major_formatter(mdates.DateFormatter('%d\\n%b'))\n",
    "\n",
    "    ax1.set_xlim()\n",
    "    ax1.set_xlim(left=firstDate)\n",
    "    # Draw weekends\n",
    "    firstSunday = np.datetime64('2021-10-03')\n",
    "    numWeeks = 52\n",
    "    for k in range(-numWeeks,numWeeks):\n",
    "            curSunday = firstSunday + np.timedelta64(7*k,'D')\n",
    "            ax1.axvspan(curSunday-np.timedelta64(1,'D')-np.timedelta64(12,'h'),curSunday+np.timedelta64(12,'h'),zorder=-1,facecolor='lightgrey',label=int(k==0)*'Weekend')\n",
    "    ax1.grid(axis='y')\n",
    "    ax1.legend()\n",
    "    # ax1.set_ylabel('Kumuleret sum af smittetilfælde, 7-dages gennemsnit\\nAndel af befolkning [%]')\n",
    "    # ax1.set_ylabel('Kumuleret sum af smittetilfælde\\nAndel af befolkning [%]')\n",
    "    ax1.set_ylabel(f'Kumuleret sum af smittetilfælde siden 1. november\\nAndel af befolkning [%]')\n",
    "    # ax1.set_ylabel(f'Kumuleret sum af smittetilfælde siden 1. december\\nAndel af befolkning [%]')\n",
    "    ax1.set_title(curKommuneNavn)\n",
    "\n",
    "    if saveFigures:\n",
    "        fig.savefig(path_figs+curKommuneNavn+'_Kumuleret')\n",
    "    # except:\n",
    "    #     print(f'Could not plot {curKommuneNavn}')"
   ]
  },
  {
   "cell_type": "code",
   "execution_count": null,
   "metadata": {},
   "outputs": [],
   "source": [
    "plt.close('all')"
   ]
  },
  {
   "cell_type": "markdown",
   "metadata": {},
   "source": [
    "# Immunity overview"
   ]
  },
  {
   "cell_type": "code",
   "execution_count": null,
   "metadata": {},
   "outputs": [
    {
     "data": {
      "application/vnd.jupyter.widget-view+json": {
       "model_id": "a64b06439cba4202870f91f20843031e",
       "version_major": 2,
       "version_minor": 0
      },
      "text/plain": [
       "Canvas(toolbar=Toolbar(toolitems=[('Home', 'Reset original view', 'home', 'home'), ('Back', 'Back to previous …"
      ]
     },
     "metadata": {},
     "output_type": "display_data"
    },
    {
     "data": {
      "application/vnd.jupyter.widget-view+json": {
       "model_id": "45b8896f3ab74f67805ab1d4b65d027c",
       "version_major": 2,
       "version_minor": 0
      },
      "text/plain": [
       "Canvas(toolbar=Toolbar(toolitems=[('Home', 'Reset original view', 'home', 'home'), ('Back', 'Back to previous …"
      ]
     },
     "metadata": {},
     "output_type": "display_data"
    },
    {
     "data": {
      "application/vnd.jupyter.widget-view+json": {
       "model_id": "cd24d57441414bd69d5f2f546d518d08",
       "version_major": 2,
       "version_minor": 0
      },
      "text/plain": [
       "Canvas(toolbar=Toolbar(toolitems=[('Home', 'Reset original view', 'home', 'home'), ('Back', 'Back to previous …"
      ]
     },
     "metadata": {},
     "output_type": "display_data"
    },
    {
     "data": {
      "application/vnd.jupyter.widget-view+json": {
       "model_id": "f09e23920d0b425ca5c5aa18dd2ea38b",
       "version_major": 2,
       "version_minor": 0
      },
      "text/plain": [
       "Canvas(toolbar=Toolbar(toolitems=[('Home', 'Reset original view', 'home', 'home'), ('Back', 'Back to previous …"
      ]
     },
     "metadata": {},
     "output_type": "display_data"
    },
    {
     "data": {
      "application/vnd.jupyter.widget-view+json": {
       "model_id": "e1cf4ac2a50b4251ba4ce07a990f7daf",
       "version_major": 2,
       "version_minor": 0
      },
      "text/plain": [
       "Canvas(toolbar=Toolbar(toolitems=[('Home', 'Reset original view', 'home', 'home'), ('Back', 'Back to previous …"
      ]
     },
     "metadata": {},
     "output_type": "display_data"
    },
    {
     "data": {
      "application/vnd.jupyter.widget-view+json": {
       "model_id": "52ebfd00638743749d115ed88433d130",
       "version_major": 2,
       "version_minor": 0
      },
      "text/plain": [
       "Canvas(toolbar=Toolbar(toolitems=[('Home', 'Reset original view', 'home', 'home'), ('Back', 'Back to previous …"
      ]
     },
     "metadata": {},
     "output_type": "display_data"
    },
    {
     "data": {
      "application/vnd.jupyter.widget-view+json": {
       "model_id": "08cf7dcc25df4ea1aaec5f265100b1ba",
       "version_major": 2,
       "version_minor": 0
      },
      "text/plain": [
       "Canvas(toolbar=Toolbar(toolitems=[('Home', 'Reset original view', 'home', 'home'), ('Back', 'Back to previous …"
      ]
     },
     "metadata": {},
     "output_type": "display_data"
    },
    {
     "data": {
      "application/vnd.jupyter.widget-view+json": {
       "model_id": "a5a35cb2c5364b03b922abd50f440b0c",
       "version_major": 2,
       "version_minor": 0
      },
      "text/plain": [
       "Canvas(toolbar=Toolbar(toolitems=[('Home', 'Reset original view', 'home', 'home'), ('Back', 'Back to previous …"
      ]
     },
     "metadata": {},
     "output_type": "display_data"
    },
    {
     "data": {
      "application/vnd.jupyter.widget-view+json": {
       "model_id": "43ce19f66b2c454cbd266009247d8516",
       "version_major": 2,
       "version_minor": 0
      },
      "text/plain": [
       "Canvas(toolbar=Toolbar(toolitems=[('Home', 'Reset original view', 'home', 'home'), ('Back', 'Back to previous …"
      ]
     },
     "metadata": {},
     "output_type": "display_data"
    },
    {
     "data": {
      "application/vnd.jupyter.widget-view+json": {
       "model_id": "f0e5c64e1d1548d5b01fcfaeaf03ef03",
       "version_major": 2,
       "version_minor": 0
      },
      "text/plain": [
       "Canvas(toolbar=Toolbar(toolitems=[('Home', 'Reset original view', 'home', 'home'), ('Back', 'Back to previous …"
      ]
     },
     "metadata": {},
     "output_type": "display_data"
    },
    {
     "data": {
      "application/vnd.jupyter.widget-view+json": {
       "model_id": "0744f16db33e441d85a8a7610c9b376a",
       "version_major": 2,
       "version_minor": 0
      },
      "text/plain": [
       "Canvas(toolbar=Toolbar(toolitems=[('Home', 'Reset original view', 'home', 'home'), ('Back', 'Back to previous …"
      ]
     },
     "metadata": {},
     "output_type": "display_data"
    },
    {
     "data": {
      "application/vnd.jupyter.widget-view+json": {
       "model_id": "ac01964613e24eb7b63d1347b720172a",
       "version_major": 2,
       "version_minor": 0
      },
      "text/plain": [
       "Canvas(toolbar=Toolbar(toolitems=[('Home', 'Reset original view', 'home', 'home'), ('Back', 'Back to previous …"
      ]
     },
     "metadata": {},
     "output_type": "display_data"
    },
    {
     "data": {
      "application/vnd.jupyter.widget-view+json": {
       "model_id": "bdc43b62fb83458b80a7e0c10cf8a385",
       "version_major": 2,
       "version_minor": 0
      },
      "text/plain": [
       "Canvas(toolbar=Toolbar(toolitems=[('Home', 'Reset original view', 'home', 'home'), ('Back', 'Back to previous …"
      ]
     },
     "metadata": {},
     "output_type": "display_data"
    },
    {
     "data": {
      "application/vnd.jupyter.widget-view+json": {
       "model_id": "2f86797b1e754abea7b25e0947b7443d",
       "version_major": 2,
       "version_minor": 0
      },
      "text/plain": [
       "Canvas(toolbar=Toolbar(toolitems=[('Home', 'Reset original view', 'home', 'home'), ('Back', 'Back to previous …"
      ]
     },
     "metadata": {},
     "output_type": "display_data"
    },
    {
     "data": {
      "application/vnd.jupyter.widget-view+json": {
       "model_id": "3829e1fde60245909d35c524f629c771",
       "version_major": 2,
       "version_minor": 0
      },
      "text/plain": [
       "Canvas(toolbar=Toolbar(toolitems=[('Home', 'Reset original view', 'home', 'home'), ('Back', 'Back to previous …"
      ]
     },
     "metadata": {},
     "output_type": "display_data"
    },
    {
     "data": {
      "application/vnd.jupyter.widget-view+json": {
       "model_id": "31450e6079bc4f1e8d75a1ebe8b2971d",
       "version_major": 2,
       "version_minor": 0
      },
      "text/plain": [
       "Canvas(toolbar=Toolbar(toolitems=[('Home', 'Reset original view', 'home', 'home'), ('Back', 'Back to previous …"
      ]
     },
     "metadata": {},
     "output_type": "display_data"
    },
    {
     "data": {
      "application/vnd.jupyter.widget-view+json": {
       "model_id": "f0d6ddcce07f4e8287ea66e8d8d1a5b3",
       "version_major": 2,
       "version_minor": 0
      },
      "text/plain": [
       "Canvas(toolbar=Toolbar(toolitems=[('Home', 'Reset original view', 'home', 'home'), ('Back', 'Back to previous …"
      ]
     },
     "metadata": {},
     "output_type": "display_data"
    },
    {
     "data": {
      "application/vnd.jupyter.widget-view+json": {
       "model_id": "62879dc27e634c7b8e3fcbe552352bee",
       "version_major": 2,
       "version_minor": 0
      },
      "text/plain": [
       "Canvas(toolbar=Toolbar(toolitems=[('Home', 'Reset original view', 'home', 'home'), ('Back', 'Back to previous …"
      ]
     },
     "metadata": {},
     "output_type": "display_data"
    },
    {
     "data": {
      "application/vnd.jupyter.widget-view+json": {
       "model_id": "97718c29fb1e46eeb0adbd8a215f549c",
       "version_major": 2,
       "version_minor": 0
      },
      "text/plain": [
       "Canvas(toolbar=Toolbar(toolitems=[('Home', 'Reset original view', 'home', 'home'), ('Back', 'Back to previous …"
      ]
     },
     "metadata": {},
     "output_type": "display_data"
    },
    {
     "data": {
      "application/vnd.jupyter.widget-view+json": {
       "model_id": "fc3f48bc0a4a483facddfcfeca45103e",
       "version_major": 2,
       "version_minor": 0
      },
      "text/plain": [
       "Canvas(toolbar=Toolbar(toolitems=[('Home', 'Reset original view', 'home', 'home'), ('Back', 'Back to previous …"
      ]
     },
     "metadata": {},
     "output_type": "display_data"
    },
    {
     "data": {
      "application/vnd.jupyter.widget-view+json": {
       "model_id": "6b26a0c5c76044a6a265c1fd812c1c7d",
       "version_major": 2,
       "version_minor": 0
      },
      "text/plain": [
       "Canvas(toolbar=Toolbar(toolitems=[('Home', 'Reset original view', 'home', 'home'), ('Back', 'Back to previous …"
      ]
     },
     "metadata": {},
     "output_type": "display_data"
    },
    {
     "data": {
      "application/vnd.jupyter.widget-view+json": {
       "model_id": "0f06c8a3209549d9a1e7c3c6868c352e",
       "version_major": 2,
       "version_minor": 0
      },
      "text/plain": [
       "Canvas(toolbar=Toolbar(toolitems=[('Home', 'Reset original view', 'home', 'home'), ('Back', 'Back to previous …"
      ]
     },
     "metadata": {},
     "output_type": "display_data"
    },
    {
     "data": {
      "application/vnd.jupyter.widget-view+json": {
       "model_id": "12f4b2f01631437b95600f4eee9ad407",
       "version_major": 2,
       "version_minor": 0
      },
      "text/plain": [
       "Canvas(toolbar=Toolbar(toolitems=[('Home', 'Reset original view', 'home', 'home'), ('Back', 'Back to previous …"
      ]
     },
     "metadata": {},
     "output_type": "display_data"
    },
    {
     "data": {
      "application/vnd.jupyter.widget-view+json": {
       "model_id": "5994ee38f4484d32b27e1eb171b387d4",
       "version_major": 2,
       "version_minor": 0
      },
      "text/plain": [
       "Canvas(toolbar=Toolbar(toolitems=[('Home', 'Reset original view', 'home', 'home'), ('Back', 'Back to previous …"
      ]
     },
     "metadata": {},
     "output_type": "display_data"
    },
    {
     "data": {
      "application/vnd.jupyter.widget-view+json": {
       "model_id": "24a2a17750c24957b019582449647a83",
       "version_major": 2,
       "version_minor": 0
      },
      "text/plain": [
       "Canvas(toolbar=Toolbar(toolitems=[('Home', 'Reset original view', 'home', 'home'), ('Back', 'Back to previous …"
      ]
     },
     "metadata": {},
     "output_type": "display_data"
    },
    {
     "data": {
      "application/vnd.jupyter.widget-view+json": {
       "model_id": "b83b85f345c24debbda915e45083f6da",
       "version_major": 2,
       "version_minor": 0
      },
      "text/plain": [
       "Canvas(toolbar=Toolbar(toolitems=[('Home', 'Reset original view', 'home', 'home'), ('Back', 'Back to previous …"
      ]
     },
     "metadata": {},
     "output_type": "display_data"
    },
    {
     "data": {
      "application/vnd.jupyter.widget-view+json": {
       "model_id": "1956f485324c4417b2ad1dc19709dfba",
       "version_major": 2,
       "version_minor": 0
      },
      "text/plain": [
       "Canvas(toolbar=Toolbar(toolitems=[('Home', 'Reset original view', 'home', 'home'), ('Back', 'Back to previous …"
      ]
     },
     "metadata": {},
     "output_type": "display_data"
    },
    {
     "data": {
      "application/vnd.jupyter.widget-view+json": {
       "model_id": "76352b364e0b495eac8a0fb6718c0b05",
       "version_major": 2,
       "version_minor": 0
      },
      "text/plain": [
       "Canvas(toolbar=Toolbar(toolitems=[('Home', 'Reset original view', 'home', 'home'), ('Back', 'Back to previous …"
      ]
     },
     "metadata": {},
     "output_type": "display_data"
    },
    {
     "data": {
      "application/vnd.jupyter.widget-view+json": {
       "model_id": "37d37a9d5dde45f7af114584aeadc5b4",
       "version_major": 2,
       "version_minor": 0
      },
      "text/plain": [
       "Canvas(toolbar=Toolbar(toolitems=[('Home', 'Reset original view', 'home', 'home'), ('Back', 'Back to previous …"
      ]
     },
     "metadata": {},
     "output_type": "display_data"
    },
    {
     "data": {
      "application/vnd.jupyter.widget-view+json": {
       "model_id": "f57b95fe31504cbfb70bd81d121b2a1f",
       "version_major": 2,
       "version_minor": 0
      },
      "text/plain": [
       "Canvas(toolbar=Toolbar(toolitems=[('Home', 'Reset original view', 'home', 'home'), ('Back', 'Back to previous …"
      ]
     },
     "metadata": {},
     "output_type": "display_data"
    },
    {
     "data": {
      "application/vnd.jupyter.widget-view+json": {
       "model_id": "9604975eaccf4bbbbb98219debec0ff8",
       "version_major": 2,
       "version_minor": 0
      },
      "text/plain": [
       "Canvas(toolbar=Toolbar(toolitems=[('Home', 'Reset original view', 'home', 'home'), ('Back', 'Back to previous …"
      ]
     },
     "metadata": {},
     "output_type": "display_data"
    },
    {
     "data": {
      "application/vnd.jupyter.widget-view+json": {
       "model_id": "af5507183cd8400da222d1e5cb070fc3",
       "version_major": 2,
       "version_minor": 0
      },
      "text/plain": [
       "Canvas(toolbar=Toolbar(toolitems=[('Home', 'Reset original view', 'home', 'home'), ('Back', 'Back to previous …"
      ]
     },
     "metadata": {},
     "output_type": "display_data"
    },
    {
     "data": {
      "application/vnd.jupyter.widget-view+json": {
       "model_id": "0866f28104aa4716a0536192d2248423",
       "version_major": 2,
       "version_minor": 0
      },
      "text/plain": [
       "Canvas(toolbar=Toolbar(toolitems=[('Home', 'Reset original view', 'home', 'home'), ('Back', 'Back to previous …"
      ]
     },
     "metadata": {},
     "output_type": "display_data"
    },
    {
     "data": {
      "application/vnd.jupyter.widget-view+json": {
       "model_id": "189f4dad4eaa4aa9ab77ebbf20ac9ca9",
       "version_major": 2,
       "version_minor": 0
      },
      "text/plain": [
       "Canvas(toolbar=Toolbar(toolitems=[('Home', 'Reset original view', 'home', 'home'), ('Back', 'Back to previous …"
      ]
     },
     "metadata": {},
     "output_type": "display_data"
    },
    {
     "data": {
      "application/vnd.jupyter.widget-view+json": {
       "model_id": "c9be546324cd4606900ff97247bb55e2",
       "version_major": 2,
       "version_minor": 0
      },
      "text/plain": [
       "Canvas(toolbar=Toolbar(toolitems=[('Home', 'Reset original view', 'home', 'home'), ('Back', 'Back to previous …"
      ]
     },
     "metadata": {},
     "output_type": "display_data"
    },
    {
     "data": {
      "application/vnd.jupyter.widget-view+json": {
       "model_id": "047a9a044ef148a89bc23fd24d029a94",
       "version_major": 2,
       "version_minor": 0
      },
      "text/plain": [
       "Canvas(toolbar=Toolbar(toolitems=[('Home', 'Reset original view', 'home', 'home'), ('Back', 'Back to previous …"
      ]
     },
     "metadata": {},
     "output_type": "display_data"
    },
    {
     "data": {
      "application/vnd.jupyter.widget-view+json": {
       "model_id": "f087f628167841c5bf5a8b89863ac0fd",
       "version_major": 2,
       "version_minor": 0
      },
      "text/plain": [
       "Canvas(toolbar=Toolbar(toolitems=[('Home', 'Reset original view', 'home', 'home'), ('Back', 'Back to previous …"
      ]
     },
     "metadata": {},
     "output_type": "display_data"
    },
    {
     "data": {
      "application/vnd.jupyter.widget-view+json": {
       "model_id": "db25a59a604a4894820ee772bf52ef9c",
       "version_major": 2,
       "version_minor": 0
      },
      "text/plain": [
       "Canvas(toolbar=Toolbar(toolitems=[('Home', 'Reset original view', 'home', 'home'), ('Back', 'Back to previous …"
      ]
     },
     "metadata": {},
     "output_type": "display_data"
    },
    {
     "data": {
      "application/vnd.jupyter.widget-view+json": {
       "model_id": "b34d763344b546c49c07e95359fce514",
       "version_major": 2,
       "version_minor": 0
      },
      "text/plain": [
       "Canvas(toolbar=Toolbar(toolitems=[('Home', 'Reset original view', 'home', 'home'), ('Back', 'Back to previous …"
      ]
     },
     "metadata": {},
     "output_type": "display_data"
    },
    {
     "data": {
      "application/vnd.jupyter.widget-view+json": {
       "model_id": "3399eea825ab4274ab028955d2e2567f",
       "version_major": 2,
       "version_minor": 0
      },
      "text/plain": [
       "Canvas(toolbar=Toolbar(toolitems=[('Home', 'Reset original view', 'home', 'home'), ('Back', 'Back to previous …"
      ]
     },
     "metadata": {},
     "output_type": "display_data"
    },
    {
     "data": {
      "application/vnd.jupyter.widget-view+json": {
       "model_id": "aa1ac16bcf1743c8aa1a349657261502",
       "version_major": 2,
       "version_minor": 0
      },
      "text/plain": [
       "Canvas(toolbar=Toolbar(toolitems=[('Home', 'Reset original view', 'home', 'home'), ('Back', 'Back to previous …"
      ]
     },
     "metadata": {},
     "output_type": "display_data"
    },
    {
     "data": {
      "application/vnd.jupyter.widget-view+json": {
       "model_id": "bf09015784b04f8e98157229f3d5a6ba",
       "version_major": 2,
       "version_minor": 0
      },
      "text/plain": [
       "Canvas(toolbar=Toolbar(toolitems=[('Home', 'Reset original view', 'home', 'home'), ('Back', 'Back to previous …"
      ]
     },
     "metadata": {},
     "output_type": "display_data"
    },
    {
     "data": {
      "application/vnd.jupyter.widget-view+json": {
       "model_id": "7517947428974a029cb4239a826f3adf",
       "version_major": 2,
       "version_minor": 0
      },
      "text/plain": [
       "Canvas(toolbar=Toolbar(toolitems=[('Home', 'Reset original view', 'home', 'home'), ('Back', 'Back to previous …"
      ]
     },
     "metadata": {},
     "output_type": "display_data"
    },
    {
     "data": {
      "application/vnd.jupyter.widget-view+json": {
       "model_id": "7afd473a1b704a08ab20bd80bba0f867",
       "version_major": 2,
       "version_minor": 0
      },
      "text/plain": [
       "Canvas(toolbar=Toolbar(toolitems=[('Home', 'Reset original view', 'home', 'home'), ('Back', 'Back to previous …"
      ]
     },
     "metadata": {},
     "output_type": "display_data"
    },
    {
     "data": {
      "application/vnd.jupyter.widget-view+json": {
       "model_id": "24319ec679a24eb1af8e75cdc8adaba9",
       "version_major": 2,
       "version_minor": 0
      },
      "text/plain": [
       "Canvas(toolbar=Toolbar(toolitems=[('Home', 'Reset original view', 'home', 'home'), ('Back', 'Back to previous …"
      ]
     },
     "metadata": {},
     "output_type": "display_data"
    },
    {
     "data": {
      "application/vnd.jupyter.widget-view+json": {
       "model_id": "a124ba1e6dfe45b0ad8494c5d3d7af2a",
       "version_major": 2,
       "version_minor": 0
      },
      "text/plain": [
       "Canvas(toolbar=Toolbar(toolitems=[('Home', 'Reset original view', 'home', 'home'), ('Back', 'Back to previous …"
      ]
     },
     "metadata": {},
     "output_type": "display_data"
    },
    {
     "data": {
      "application/vnd.jupyter.widget-view+json": {
       "model_id": "eb04f65e31334823896365e542be542c",
       "version_major": 2,
       "version_minor": 0
      },
      "text/plain": [
       "Canvas(toolbar=Toolbar(toolitems=[('Home', 'Reset original view', 'home', 'home'), ('Back', 'Back to previous …"
      ]
     },
     "metadata": {},
     "output_type": "display_data"
    },
    {
     "data": {
      "application/vnd.jupyter.widget-view+json": {
       "model_id": "0f635df89daa417e99227c02c1b25eb2",
       "version_major": 2,
       "version_minor": 0
      },
      "text/plain": [
       "Canvas(toolbar=Toolbar(toolitems=[('Home', 'Reset original view', 'home', 'home'), ('Back', 'Back to previous …"
      ]
     },
     "metadata": {},
     "output_type": "display_data"
    },
    {
     "data": {
      "application/vnd.jupyter.widget-view+json": {
       "model_id": "a132f33f17aa46d8bfa03c4b1aa45f8d",
       "version_major": 2,
       "version_minor": 0
      },
      "text/plain": [
       "Canvas(toolbar=Toolbar(toolitems=[('Home', 'Reset original view', 'home', 'home'), ('Back', 'Back to previous …"
      ]
     },
     "metadata": {},
     "output_type": "display_data"
    },
    {
     "data": {
      "application/vnd.jupyter.widget-view+json": {
       "model_id": "737d0c16af264155a98ae8395c75ca4a",
       "version_major": 2,
       "version_minor": 0
      },
      "text/plain": [
       "Canvas(toolbar=Toolbar(toolitems=[('Home', 'Reset original view', 'home', 'home'), ('Back', 'Back to previous …"
      ]
     },
     "metadata": {},
     "output_type": "display_data"
    },
    {
     "data": {
      "application/vnd.jupyter.widget-view+json": {
       "model_id": "6e6375375bc84d7dbf56d9a6c4dbe46c",
       "version_major": 2,
       "version_minor": 0
      },
      "text/plain": [
       "Canvas(toolbar=Toolbar(toolitems=[('Home', 'Reset original view', 'home', 'home'), ('Back', 'Back to previous …"
      ]
     },
     "metadata": {},
     "output_type": "display_data"
    },
    {
     "data": {
      "application/vnd.jupyter.widget-view+json": {
       "model_id": "588b83c6c7e34ccbb5ce9790600c26fd",
       "version_major": 2,
       "version_minor": 0
      },
      "text/plain": [
       "Canvas(toolbar=Toolbar(toolitems=[('Home', 'Reset original view', 'home', 'home'), ('Back', 'Back to previous …"
      ]
     },
     "metadata": {},
     "output_type": "display_data"
    },
    {
     "data": {
      "application/vnd.jupyter.widget-view+json": {
       "model_id": "84f275f9e45342b9905f65c93220b2d1",
       "version_major": 2,
       "version_minor": 0
      },
      "text/plain": [
       "Canvas(toolbar=Toolbar(toolitems=[('Home', 'Reset original view', 'home', 'home'), ('Back', 'Back to previous …"
      ]
     },
     "metadata": {},
     "output_type": "display_data"
    },
    {
     "data": {
      "application/vnd.jupyter.widget-view+json": {
       "model_id": "5ffb781b8ef24eb6b7f66aa3ca3d30a4",
       "version_major": 2,
       "version_minor": 0
      },
      "text/plain": [
       "Canvas(toolbar=Toolbar(toolitems=[('Home', 'Reset original view', 'home', 'home'), ('Back', 'Back to previous …"
      ]
     },
     "metadata": {},
     "output_type": "display_data"
    },
    {
     "data": {
      "application/vnd.jupyter.widget-view+json": {
       "model_id": "9cecc918a01a41308753b79545f4734a",
       "version_major": 2,
       "version_minor": 0
      },
      "text/plain": [
       "Canvas(toolbar=Toolbar(toolitems=[('Home', 'Reset original view', 'home', 'home'), ('Back', 'Back to previous …"
      ]
     },
     "metadata": {},
     "output_type": "display_data"
    },
    {
     "data": {
      "application/vnd.jupyter.widget-view+json": {
       "model_id": "32b6f5fcfd894d4f8c24ccac21591edb",
       "version_major": 2,
       "version_minor": 0
      },
      "text/plain": [
       "Canvas(toolbar=Toolbar(toolitems=[('Home', 'Reset original view', 'home', 'home'), ('Back', 'Back to previous …"
      ]
     },
     "metadata": {},
     "output_type": "display_data"
    },
    {
     "data": {
      "application/vnd.jupyter.widget-view+json": {
       "model_id": "2d9e16b7dc714d778d49414386e57740",
       "version_major": 2,
       "version_minor": 0
      },
      "text/plain": [
       "Canvas(toolbar=Toolbar(toolitems=[('Home', 'Reset original view', 'home', 'home'), ('Back', 'Back to previous …"
      ]
     },
     "metadata": {},
     "output_type": "display_data"
    },
    {
     "data": {
      "application/vnd.jupyter.widget-view+json": {
       "model_id": "29762abbc0eb477586182289e2c2476b",
       "version_major": 2,
       "version_minor": 0
      },
      "text/plain": [
       "Canvas(toolbar=Toolbar(toolitems=[('Home', 'Reset original view', 'home', 'home'), ('Back', 'Back to previous …"
      ]
     },
     "metadata": {},
     "output_type": "display_data"
    },
    {
     "data": {
      "application/vnd.jupyter.widget-view+json": {
       "model_id": "a11c4a42cdbf4e70a3a905ca868eb63e",
       "version_major": 2,
       "version_minor": 0
      },
      "text/plain": [
       "Canvas(toolbar=Toolbar(toolitems=[('Home', 'Reset original view', 'home', 'home'), ('Back', 'Back to previous …"
      ]
     },
     "metadata": {},
     "output_type": "display_data"
    },
    {
     "data": {
      "application/vnd.jupyter.widget-view+json": {
       "model_id": "652efc7ca07044d6817957d77c954737",
       "version_major": 2,
       "version_minor": 0
      },
      "text/plain": [
       "Canvas(toolbar=Toolbar(toolitems=[('Home', 'Reset original view', 'home', 'home'), ('Back', 'Back to previous …"
      ]
     },
     "metadata": {},
     "output_type": "display_data"
    },
    {
     "data": {
      "application/vnd.jupyter.widget-view+json": {
       "model_id": "410fdf45e6834a26aa758a97080e240b",
       "version_major": 2,
       "version_minor": 0
      },
      "text/plain": [
       "Canvas(toolbar=Toolbar(toolitems=[('Home', 'Reset original view', 'home', 'home'), ('Back', 'Back to previous …"
      ]
     },
     "metadata": {},
     "output_type": "display_data"
    },
    {
     "data": {
      "application/vnd.jupyter.widget-view+json": {
       "model_id": "aa0e2f77b6ff4ab185e8cbc48ef49146",
       "version_major": 2,
       "version_minor": 0
      },
      "text/plain": [
       "Canvas(toolbar=Toolbar(toolitems=[('Home', 'Reset original view', 'home', 'home'), ('Back', 'Back to previous …"
      ]
     },
     "metadata": {},
     "output_type": "display_data"
    },
    {
     "data": {
      "application/vnd.jupyter.widget-view+json": {
       "model_id": "32089027036749db97d449944d520919",
       "version_major": 2,
       "version_minor": 0
      },
      "text/plain": [
       "Canvas(toolbar=Toolbar(toolitems=[('Home', 'Reset original view', 'home', 'home'), ('Back', 'Back to previous …"
      ]
     },
     "metadata": {},
     "output_type": "display_data"
    },
    {
     "data": {
      "application/vnd.jupyter.widget-view+json": {
       "model_id": "cf40498f39024e65866b0446929b7767",
       "version_major": 2,
       "version_minor": 0
      },
      "text/plain": [
       "Canvas(toolbar=Toolbar(toolitems=[('Home', 'Reset original view', 'home', 'home'), ('Back', 'Back to previous …"
      ]
     },
     "metadata": {},
     "output_type": "display_data"
    },
    {
     "data": {
      "application/vnd.jupyter.widget-view+json": {
       "model_id": "6117157da676427b8e770bacfbfabaf8",
       "version_major": 2,
       "version_minor": 0
      },
      "text/plain": [
       "Canvas(toolbar=Toolbar(toolitems=[('Home', 'Reset original view', 'home', 'home'), ('Back', 'Back to previous …"
      ]
     },
     "metadata": {},
     "output_type": "display_data"
    },
    {
     "data": {
      "application/vnd.jupyter.widget-view+json": {
       "model_id": "ad56db7f109f4ab891d0bb13649f010a",
       "version_major": 2,
       "version_minor": 0
      },
      "text/plain": [
       "Canvas(toolbar=Toolbar(toolitems=[('Home', 'Reset original view', 'home', 'home'), ('Back', 'Back to previous …"
      ]
     },
     "metadata": {},
     "output_type": "display_data"
    },
    {
     "data": {
      "application/vnd.jupyter.widget-view+json": {
       "model_id": "38cc0ff8dfbb4ae7ba8ba6e28ab2eaa8",
       "version_major": 2,
       "version_minor": 0
      },
      "text/plain": [
       "Canvas(toolbar=Toolbar(toolitems=[('Home', 'Reset original view', 'home', 'home'), ('Back', 'Back to previous …"
      ]
     },
     "metadata": {},
     "output_type": "display_data"
    },
    {
     "data": {
      "application/vnd.jupyter.widget-view+json": {
       "model_id": "f70b967488f54249bb0dc909caf5d60d",
       "version_major": 2,
       "version_minor": 0
      },
      "text/plain": [
       "Canvas(toolbar=Toolbar(toolitems=[('Home', 'Reset original view', 'home', 'home'), ('Back', 'Back to previous …"
      ]
     },
     "metadata": {},
     "output_type": "display_data"
    },
    {
     "data": {
      "application/vnd.jupyter.widget-view+json": {
       "model_id": "408f82e9541f4cf3a368ce5a1b02e39f",
       "version_major": 2,
       "version_minor": 0
      },
      "text/plain": [
       "Canvas(toolbar=Toolbar(toolitems=[('Home', 'Reset original view', 'home', 'home'), ('Back', 'Back to previous …"
      ]
     },
     "metadata": {},
     "output_type": "display_data"
    },
    {
     "data": {
      "application/vnd.jupyter.widget-view+json": {
       "model_id": "e47431b110e54de39576d444179b15d7",
       "version_major": 2,
       "version_minor": 0
      },
      "text/plain": [
       "Canvas(toolbar=Toolbar(toolitems=[('Home', 'Reset original view', 'home', 'home'), ('Back', 'Back to previous …"
      ]
     },
     "metadata": {},
     "output_type": "display_data"
    },
    {
     "data": {
      "application/vnd.jupyter.widget-view+json": {
       "model_id": "1b9ed7dee0e048a59d2d730591e87c8a",
       "version_major": 2,
       "version_minor": 0
      },
      "text/plain": [
       "Canvas(toolbar=Toolbar(toolitems=[('Home', 'Reset original view', 'home', 'home'), ('Back', 'Back to previous …"
      ]
     },
     "metadata": {},
     "output_type": "display_data"
    },
    {
     "data": {
      "application/vnd.jupyter.widget-view+json": {
       "model_id": "13a3c6a8773d45c79b108c662cad210e",
       "version_major": 2,
       "version_minor": 0
      },
      "text/plain": [
       "Canvas(toolbar=Toolbar(toolitems=[('Home', 'Reset original view', 'home', 'home'), ('Back', 'Back to previous …"
      ]
     },
     "metadata": {},
     "output_type": "display_data"
    },
    {
     "data": {
      "application/vnd.jupyter.widget-view+json": {
       "model_id": "9c0725e99eb54840b080c4b7ad47e0da",
       "version_major": 2,
       "version_minor": 0
      },
      "text/plain": [
       "Canvas(toolbar=Toolbar(toolitems=[('Home', 'Reset original view', 'home', 'home'), ('Back', 'Back to previous …"
      ]
     },
     "metadata": {},
     "output_type": "display_data"
    },
    {
     "data": {
      "application/vnd.jupyter.widget-view+json": {
       "model_id": "368bcf98fda5400a83ca9b457ae99132",
       "version_major": 2,
       "version_minor": 0
      },
      "text/plain": [
       "Canvas(toolbar=Toolbar(toolitems=[('Home', 'Reset original view', 'home', 'home'), ('Back', 'Back to previous …"
      ]
     },
     "metadata": {},
     "output_type": "display_data"
    },
    {
     "data": {
      "application/vnd.jupyter.widget-view+json": {
       "model_id": "244a8aaaf537490fa2cf2a508d1bfb0a",
       "version_major": 2,
       "version_minor": 0
      },
      "text/plain": [
       "Canvas(toolbar=Toolbar(toolitems=[('Home', 'Reset original view', 'home', 'home'), ('Back', 'Back to previous …"
      ]
     },
     "metadata": {},
     "output_type": "display_data"
    },
    {
     "data": {
      "application/vnd.jupyter.widget-view+json": {
       "model_id": "a63b769c2346452d9692e025b99ec94d",
       "version_major": 2,
       "version_minor": 0
      },
      "text/plain": [
       "Canvas(toolbar=Toolbar(toolitems=[('Home', 'Reset original view', 'home', 'home'), ('Back', 'Back to previous …"
      ]
     },
     "metadata": {},
     "output_type": "display_data"
    },
    {
     "data": {
      "application/vnd.jupyter.widget-view+json": {
       "model_id": "c665cf19cd9344c89c933e0ce9254255",
       "version_major": 2,
       "version_minor": 0
      },
      "text/plain": [
       "Canvas(toolbar=Toolbar(toolitems=[('Home', 'Reset original view', 'home', 'home'), ('Back', 'Back to previous …"
      ]
     },
     "metadata": {},
     "output_type": "display_data"
    },
    {
     "data": {
      "application/vnd.jupyter.widget-view+json": {
       "model_id": "f26a333ed6ac47f183ccfe28309a5b28",
       "version_major": 2,
       "version_minor": 0
      },
      "text/plain": [
       "Canvas(toolbar=Toolbar(toolitems=[('Home', 'Reset original view', 'home', 'home'), ('Back', 'Back to previous …"
      ]
     },
     "metadata": {},
     "output_type": "display_data"
    },
    {
     "data": {
      "application/vnd.jupyter.widget-view+json": {
       "model_id": "43a83cd01628467eb3d02d0dd36b698c",
       "version_major": 2,
       "version_minor": 0
      },
      "text/plain": [
       "Canvas(toolbar=Toolbar(toolitems=[('Home', 'Reset original view', 'home', 'home'), ('Back', 'Back to previous …"
      ]
     },
     "metadata": {},
     "output_type": "display_data"
    },
    {
     "data": {
      "application/vnd.jupyter.widget-view+json": {
       "model_id": "55029a5b0fd645a88f0415d81fcf0faf",
       "version_major": 2,
       "version_minor": 0
      },
      "text/plain": [
       "Canvas(toolbar=Toolbar(toolitems=[('Home', 'Reset original view', 'home', 'home'), ('Back', 'Back to previous …"
      ]
     },
     "metadata": {},
     "output_type": "display_data"
    },
    {
     "data": {
      "application/vnd.jupyter.widget-view+json": {
       "model_id": "794fe8a600a1472eb1cef3c6483876c3",
       "version_major": 2,
       "version_minor": 0
      },
      "text/plain": [
       "Canvas(toolbar=Toolbar(toolitems=[('Home', 'Reset original view', 'home', 'home'), ('Back', 'Back to previous …"
      ]
     },
     "metadata": {},
     "output_type": "display_data"
    },
    {
     "data": {
      "application/vnd.jupyter.widget-view+json": {
       "model_id": "68cb011039514ef39de6408e29a5fb9e",
       "version_major": 2,
       "version_minor": 0
      },
      "text/plain": [
       "Canvas(toolbar=Toolbar(toolitems=[('Home', 'Reset original view', 'home', 'home'), ('Back', 'Back to previous …"
      ]
     },
     "metadata": {},
     "output_type": "display_data"
    },
    {
     "data": {
      "application/vnd.jupyter.widget-view+json": {
       "model_id": "649d20a72e46411ab10e902e8979bdd2",
       "version_major": 2,
       "version_minor": 0
      },
      "text/plain": [
       "Canvas(toolbar=Toolbar(toolitems=[('Home', 'Reset original view', 'home', 'home'), ('Back', 'Back to previous …"
      ]
     },
     "metadata": {},
     "output_type": "display_data"
    },
    {
     "data": {
      "application/vnd.jupyter.widget-view+json": {
       "model_id": "519634b39936439eaf3cd0df0565ec03",
       "version_major": 2,
       "version_minor": 0
      },
      "text/plain": [
       "Canvas(toolbar=Toolbar(toolitems=[('Home', 'Reset original view', 'home', 'home'), ('Back', 'Back to previous …"
      ]
     },
     "metadata": {},
     "output_type": "display_data"
    },
    {
     "data": {
      "application/vnd.jupyter.widget-view+json": {
       "model_id": "f617d40dbee040678dec25cc4637b7a4",
       "version_major": 2,
       "version_minor": 0
      },
      "text/plain": [
       "Canvas(toolbar=Toolbar(toolitems=[('Home', 'Reset original view', 'home', 'home'), ('Back', 'Back to previous …"
      ]
     },
     "metadata": {},
     "output_type": "display_data"
    },
    {
     "data": {
      "application/vnd.jupyter.widget-view+json": {
       "model_id": "bacdd2c2156b4c58af087bcb9a68b8ab",
       "version_major": 2,
       "version_minor": 0
      },
      "text/plain": [
       "Canvas(toolbar=Toolbar(toolitems=[('Home', 'Reset original view', 'home', 'home'), ('Back', 'Back to previous …"
      ]
     },
     "metadata": {},
     "output_type": "display_data"
    },
    {
     "data": {
      "application/vnd.jupyter.widget-view+json": {
       "model_id": "720addca228c44f5a4ab08945c39794e",
       "version_major": 2,
       "version_minor": 0
      },
      "text/plain": [
       "Canvas(toolbar=Toolbar(toolitems=[('Home', 'Reset original view', 'home', 'home'), ('Back', 'Back to previous …"
      ]
     },
     "metadata": {},
     "output_type": "display_data"
    },
    {
     "data": {
      "application/vnd.jupyter.widget-view+json": {
       "model_id": "eeeb0ba6f2974ed99f7b0b5369b42e16",
       "version_major": 2,
       "version_minor": 0
      },
      "text/plain": [
       "Canvas(toolbar=Toolbar(toolitems=[('Home', 'Reset original view', 'home', 'home'), ('Back', 'Back to previous …"
      ]
     },
     "metadata": {},
     "output_type": "display_data"
    },
    {
     "data": {
      "application/vnd.jupyter.widget-view+json": {
       "model_id": "3f1fdf7d2d8345019b523140bb6d4041",
       "version_major": 2,
       "version_minor": 0
      },
      "text/plain": [
       "Canvas(toolbar=Toolbar(toolitems=[('Home', 'Reset original view', 'home', 'home'), ('Back', 'Back to previous …"
      ]
     },
     "metadata": {},
     "output_type": "display_data"
    },
    {
     "data": {
      "application/vnd.jupyter.widget-view+json": {
       "model_id": "da4971a29f8b4772be57aa1e1bf11156",
       "version_major": 2,
       "version_minor": 0
      },
      "text/plain": [
       "Canvas(toolbar=Toolbar(toolitems=[('Home', 'Reset original view', 'home', 'home'), ('Back', 'Back to previous …"
      ]
     },
     "metadata": {},
     "output_type": "display_data"
    },
    {
     "data": {
      "application/vnd.jupyter.widget-view+json": {
       "model_id": "7e91dc2ee7834cc4aa3bfb3cbf658a45",
       "version_major": 2,
       "version_minor": 0
      },
      "text/plain": [
       "Canvas(toolbar=Toolbar(toolitems=[('Home', 'Reset original view', 'home', 'home'), ('Back', 'Back to previous …"
      ]
     },
     "metadata": {},
     "output_type": "display_data"
    },
    {
     "data": {
      "application/vnd.jupyter.widget-view+json": {
       "model_id": "e8873f7dedfd43629bdd2110dda9a68a",
       "version_major": 2,
       "version_minor": 0
      },
      "text/plain": [
       "Canvas(toolbar=Toolbar(toolitems=[('Home', 'Reset original view', 'home', 'home'), ('Back', 'Back to previous …"
      ]
     },
     "metadata": {},
     "output_type": "display_data"
    },
    {
     "data": {
      "application/vnd.jupyter.widget-view+json": {
       "model_id": "6b43c1b893df4ef49efe473d6561de26",
       "version_major": 2,
       "version_minor": 0
      },
      "text/plain": [
       "Canvas(toolbar=Toolbar(toolitems=[('Home', 'Reset original view', 'home', 'home'), ('Back', 'Back to previous …"
      ]
     },
     "metadata": {},
     "output_type": "display_data"
    },
    {
     "data": {
      "application/vnd.jupyter.widget-view+json": {
       "model_id": "52bd403df98b46038e7d8b3c71c8430c",
       "version_major": 2,
       "version_minor": 0
      },
      "text/plain": [
       "Canvas(toolbar=Toolbar(toolitems=[('Home', 'Reset original view', 'home', 'home'), ('Back', 'Back to previous …"
      ]
     },
     "metadata": {},
     "output_type": "display_data"
    },
    {
     "data": {
      "application/vnd.jupyter.widget-view+json": {
       "model_id": "9118c8f354034d10955a26802d070b0d",
       "version_major": 2,
       "version_minor": 0
      },
      "text/plain": [
       "Canvas(toolbar=Toolbar(toolitems=[('Home', 'Reset original view', 'home', 'home'), ('Back', 'Back to previous …"
      ]
     },
     "metadata": {},
     "output_type": "display_data"
    },
    {
     "data": {
      "application/vnd.jupyter.widget-view+json": {
       "model_id": "c55da2c050f2412c9a357cd759ad22eb",
       "version_major": 2,
       "version_minor": 0
      },
      "text/plain": [
       "Canvas(toolbar=Toolbar(toolitems=[('Home', 'Reset original view', 'home', 'home'), ('Back', 'Back to previous …"
      ]
     },
     "metadata": {},
     "output_type": "display_data"
    },
    {
     "data": {
      "application/vnd.jupyter.widget-view+json": {
       "model_id": "43dfa6302f6e4de3ba1bc0792b353b65",
       "version_major": 2,
       "version_minor": 0
      },
      "text/plain": [
       "Canvas(toolbar=Toolbar(toolitems=[('Home', 'Reset original view', 'home', 'home'), ('Back', 'Back to previous …"
      ]
     },
     "metadata": {},
     "output_type": "display_data"
    },
    {
     "data": {
      "application/vnd.jupyter.widget-view+json": {
       "model_id": "2fbb4760e6b24415837dd0d234c85c82",
       "version_major": 2,
       "version_minor": 0
      },
      "text/plain": [
       "Canvas(toolbar=Toolbar(toolitems=[('Home', 'Reset original view', 'home', 'home'), ('Back', 'Back to previous …"
      ]
     },
     "metadata": {},
     "output_type": "display_data"
    }
   ],
   "source": [
    "# fig,ax1 = plt.subplots()\n",
    "\n",
    "# fig.patch.set_facecolor('xkcd:off white')\n",
    "# ax1.set_facecolor('xkcd:off white')\n",
    "\n",
    "# curKom = 851\n",
    "# curKom = 101\n",
    "# curKommuneNavn = 'København'\n",
    "\n",
    "\n",
    "posKommuneNavn = df_kommunekort.index.values[1:]\n",
    "# posKommuneNavn = ['Høje Tåstrup','Århus','Nordfyn','Vesthimmerland']\n",
    "# posKommuneNavn = ['Hvidovre']\n",
    "# posKommuneNavn = ['Samsø']\n",
    "\n",
    "for curKommuneNavn in posKommuneNavn:\n",
    "\n",
    "    # try: \n",
    "    plt.close('all')\n",
    "    fig,ax1 = plt.subplots()\n",
    "    fig.patch.set_facecolor('xkcd:off white')\n",
    "    ax1.set_facecolor('xkcd:off white')\n",
    "\n",
    "\n",
    "    curPopSizeFull = getPopSize(curKommuneNavn)\n",
    "    curTotCaseCount = 0\n",
    "    curBarVals = []\n",
    "    allAgesToPlot = []\n",
    "    for i in range(0,len(allAge)):\n",
    "        curAge = allAge[i]\n",
    "        if (curAge == '80+'):\n",
    "            curMinAge,curMaxAge = 80,125\n",
    "        else:\n",
    "            curMinAge,curMaxAge = [int(x) for x in curAge.split('-')]\n",
    "\n",
    "        curColor = cmap(i)\n",
    "        curKom = df_kommunekort['Kommune'][curKommuneNavn]\n",
    "        curDates,curCounts = getDiffTimeSeries(curKom,curAge)\n",
    "        # ax1.plot(curDates,curCounts,'.:',linewidth=0.5,markersize=2,color=curColor)\n",
    "        # ax1.plot(rnTime(curDates,7),rnMean(curCounts,7),label=curAge,color=curColor)\n",
    "        # ax1.plot(curDates[6:],rnMean(curCounts,7),label=curAge,color=curColor)\n",
    "\n",
    "        \n",
    "        curPopSize = getPopSize(curKommuneNavn,curMinAge,curMaxAge)\n",
    "\n",
    "        if (len(curCounts) > 7):\n",
    "            # Cutoff everything before first date\n",
    "            curDates = np.array([np.datetime64(x) for x in curDates])\n",
    "            curIndex = (curDates > firstDate)\n",
    "            curDates = curDates[curIndex]\n",
    "            curCounts = curCounts[curIndex]\n",
    "\n",
    "            # ax1.plot(curDates,100*curCounts/curPopSize,'.:',linewidth=0.5,markersize=2,color=curColor)\n",
    "            # ax1.plot(curDates[6:],100*rnMean(np.cumsum(curCounts),7)/curPopSize,label=curAge,color=curColor)\n",
    "\n",
    "            curTotCaseCount = curTotCaseCount + np.cumsum(curCounts)[-1]\n",
    "            natImmu = 100*np.cumsum(curCounts)/curPopSize\n",
    "            curBarVals.append(natImmu[-1])\n",
    "            allAgesToPlot.append(curAge)\n",
    "            # ax1.plot(curDates,100*np.cumsum(curCounts)/curPopSize,label=curAge,color=curColor)\n",
    "\n",
    "\n",
    "    # ax1.bar(allAge,100*np.ones(np.array(curBarVals).shape),color='gray')\n",
    "    # ax1.bar(allAge,curBarVals,color='xkcd:dark green')\n",
    "    # agesToPlot = np.concatenate([['Samlet'],allAge])\n",
    "    agesToPlot = np.concatenate([['Samlet'],allAgesToPlot])\n",
    "    valsToPlot = np.concatenate([[100*curTotCaseCount/curPopSizeFull],curBarVals])\n",
    "    ax1.bar(agesToPlot,100*np.ones(np.array(valsToPlot).shape),color='gray')\n",
    "    ax1.bar(agesToPlot,valsToPlot,color='xkcd:dark green')\n",
    "\n",
    "    ax1.plot([0.5,0.5],[0,100],'k--')\n",
    "\n",
    "    ax1.set_ylim([0,100])\n",
    "\n",
    "    ax1.set_xlabel('Aldersgruppe')\n",
    "    ax1.set_ylabel('Andel af borgere smittet siden 1. december [%]')\n",
    "    ax1.spines['top'].set_visible(False)\n",
    "    ax1.spines['right'].set_visible(False)\n",
    "    ax1.spines['left'].set_visible(False)\n",
    "    ax1.set_axisbelow(True)\n",
    "    ax1.set_yticks(np.arange(0,101,10))\n",
    "    ax1.grid(axis='y')\n",
    "    \n",
    "    ax1.set_title(curKommuneNavn)\n",
    "\n",
    "    if saveFigures:\n",
    "        fig.savefig(path_figs+curKommuneNavn+'_NaturligImmunitet')"
   ]
  },
  {
   "cell_type": "code",
   "execution_count": null,
   "metadata": {},
   "outputs": [
    {
     "data": {
      "text/plain": [
       "[31.515860026498324]"
      ]
     },
     "execution_count": 24,
     "metadata": {},
     "output_type": "execute_result"
    }
   ],
   "source": [
    "agesToPlot = np.concatenate([allAge,['Samlet']])\n",
    "np.array(valsToPlot).shape \n",
    "# agesToPlot\n",
    "# ax1.bar(agesToPlot,100*np.ones(np.array(valsToPlot).shape),color='gray')\n",
    "[100*curTotCaseCount/curPopSizeFull]"
   ]
  },
  {
   "cell_type": "markdown",
   "metadata": {},
   "source": [
    "# Generate markdown for web"
   ]
  },
  {
   "cell_type": "code",
   "execution_count": null,
   "metadata": {},
   "outputs": [
    {
     "name": "stdout",
     "output_type": "stream",
     "text": [
      "![](../Figures/KommuneAlder/Aabenraa_Antal.png) | ![](../Figures/KommuneAlder/Aabenraa_Procent.png) | ![](../Figures/KommuneAlder/Aabenraa_Kumuleret.png)\n",
      "![](../Figures/KommuneAlder/Aalborg_Antal.png) | ![](../Figures/KommuneAlder/Aalborg_Procent.png) | ![](../Figures/KommuneAlder/Aalborg_Kumuleret.png)\n",
      "![](../Figures/KommuneAlder/Albertslund_Antal.png) | ![](../Figures/KommuneAlder/Albertslund_Procent.png) | ![](../Figures/KommuneAlder/Albertslund_Kumuleret.png)\n",
      "![](../Figures/KommuneAlder/Allerød_Antal.png) | ![](../Figures/KommuneAlder/Allerød_Procent.png) | ![](../Figures/KommuneAlder/Allerød_Kumuleret.png)\n",
      "![](../Figures/KommuneAlder/Assens_Antal.png) | ![](../Figures/KommuneAlder/Assens_Procent.png) | ![](../Figures/KommuneAlder/Assens_Kumuleret.png)\n",
      "![](../Figures/KommuneAlder/Ballerup_Antal.png) | ![](../Figures/KommuneAlder/Ballerup_Procent.png) | ![](../Figures/KommuneAlder/Ballerup_Kumuleret.png)\n",
      "![](../Figures/KommuneAlder/Billund_Antal.png) | ![](../Figures/KommuneAlder/Billund_Procent.png) | ![](../Figures/KommuneAlder/Billund_Kumuleret.png)\n",
      "![](../Figures/KommuneAlder/Bornholm_Antal.png) | ![](../Figures/KommuneAlder/Bornholm_Procent.png) | ![](../Figures/KommuneAlder/Bornholm_Kumuleret.png)\n",
      "![](../Figures/KommuneAlder/Brøndby_Antal.png) | ![](../Figures/KommuneAlder/Brøndby_Procent.png) | ![](../Figures/KommuneAlder/Brøndby_Kumuleret.png)\n",
      "![](../Figures/KommuneAlder/Brønderslev_Antal.png) | ![](../Figures/KommuneAlder/Brønderslev_Procent.png) | ![](../Figures/KommuneAlder/Brønderslev_Kumuleret.png)\n",
      "![](../Figures/KommuneAlder/Dragør_Antal.png) | ![](../Figures/KommuneAlder/Dragør_Procent.png) | ![](../Figures/KommuneAlder/Dragør_Kumuleret.png)\n",
      "![](../Figures/KommuneAlder/Egedal_Antal.png) | ![](../Figures/KommuneAlder/Egedal_Procent.png) | ![](../Figures/KommuneAlder/Egedal_Kumuleret.png)\n",
      "![](../Figures/KommuneAlder/Esbjerg_Antal.png) | ![](../Figures/KommuneAlder/Esbjerg_Procent.png) | ![](../Figures/KommuneAlder/Esbjerg_Kumuleret.png)\n",
      "![](../Figures/KommuneAlder/Faaborg-Midtfyn_Antal.png) | ![](../Figures/KommuneAlder/Faaborg-Midtfyn_Procent.png) | ![](../Figures/KommuneAlder/Faaborg-Midtfyn_Kumuleret.png)\n",
      "![](../Figures/KommuneAlder/Fanø_Antal.png) | ![](../Figures/KommuneAlder/Fanø_Procent.png) | ![](../Figures/KommuneAlder/Fanø_Kumuleret.png)\n",
      "![](../Figures/KommuneAlder/Favrskov_Antal.png) | ![](../Figures/KommuneAlder/Favrskov_Procent.png) | ![](../Figures/KommuneAlder/Favrskov_Kumuleret.png)\n",
      "![](../Figures/KommuneAlder/Faxe_Antal.png) | ![](../Figures/KommuneAlder/Faxe_Procent.png) | ![](../Figures/KommuneAlder/Faxe_Kumuleret.png)\n",
      "![](../Figures/KommuneAlder/Fredensborg_Antal.png) | ![](../Figures/KommuneAlder/Fredensborg_Procent.png) | ![](../Figures/KommuneAlder/Fredensborg_Kumuleret.png)\n",
      "![](../Figures/KommuneAlder/Fredericia_Antal.png) | ![](../Figures/KommuneAlder/Fredericia_Procent.png) | ![](../Figures/KommuneAlder/Fredericia_Kumuleret.png)\n",
      "![](../Figures/KommuneAlder/Frederiksberg_Antal.png) | ![](../Figures/KommuneAlder/Frederiksberg_Procent.png) | ![](../Figures/KommuneAlder/Frederiksberg_Kumuleret.png)\n",
      "![](../Figures/KommuneAlder/Frederikshavn_Antal.png) | ![](../Figures/KommuneAlder/Frederikshavn_Procent.png) | ![](../Figures/KommuneAlder/Frederikshavn_Kumuleret.png)\n",
      "![](../Figures/KommuneAlder/Frederikssund_Antal.png) | ![](../Figures/KommuneAlder/Frederikssund_Procent.png) | ![](../Figures/KommuneAlder/Frederikssund_Kumuleret.png)\n",
      "![](../Figures/KommuneAlder/Furesø_Antal.png) | ![](../Figures/KommuneAlder/Furesø_Procent.png) | ![](../Figures/KommuneAlder/Furesø_Kumuleret.png)\n",
      "![](../Figures/KommuneAlder/Gentofte_Antal.png) | ![](../Figures/KommuneAlder/Gentofte_Procent.png) | ![](../Figures/KommuneAlder/Gentofte_Kumuleret.png)\n",
      "![](../Figures/KommuneAlder/Gladsaxe_Antal.png) | ![](../Figures/KommuneAlder/Gladsaxe_Procent.png) | ![](../Figures/KommuneAlder/Gladsaxe_Kumuleret.png)\n",
      "![](../Figures/KommuneAlder/Glostrup_Antal.png) | ![](../Figures/KommuneAlder/Glostrup_Procent.png) | ![](../Figures/KommuneAlder/Glostrup_Kumuleret.png)\n",
      "![](../Figures/KommuneAlder/Greve_Antal.png) | ![](../Figures/KommuneAlder/Greve_Procent.png) | ![](../Figures/KommuneAlder/Greve_Kumuleret.png)\n",
      "![](../Figures/KommuneAlder/Gribskov_Antal.png) | ![](../Figures/KommuneAlder/Gribskov_Procent.png) | ![](../Figures/KommuneAlder/Gribskov_Kumuleret.png)\n",
      "![](../Figures/KommuneAlder/Guldborgsund_Antal.png) | ![](../Figures/KommuneAlder/Guldborgsund_Procent.png) | ![](../Figures/KommuneAlder/Guldborgsund_Kumuleret.png)\n",
      "![](../Figures/KommuneAlder/Haderslev_Antal.png) | ![](../Figures/KommuneAlder/Haderslev_Procent.png) | ![](../Figures/KommuneAlder/Haderslev_Kumuleret.png)\n",
      "![](../Figures/KommuneAlder/Halsnæs_Antal.png) | ![](../Figures/KommuneAlder/Halsnæs_Procent.png) | ![](../Figures/KommuneAlder/Halsnæs_Kumuleret.png)\n",
      "![](../Figures/KommuneAlder/Hedensted_Antal.png) | ![](../Figures/KommuneAlder/Hedensted_Procent.png) | ![](../Figures/KommuneAlder/Hedensted_Kumuleret.png)\n",
      "![](../Figures/KommuneAlder/Helsingør_Antal.png) | ![](../Figures/KommuneAlder/Helsingør_Procent.png) | ![](../Figures/KommuneAlder/Helsingør_Kumuleret.png)\n",
      "![](../Figures/KommuneAlder/Herlev_Antal.png) | ![](../Figures/KommuneAlder/Herlev_Procent.png) | ![](../Figures/KommuneAlder/Herlev_Kumuleret.png)\n",
      "![](../Figures/KommuneAlder/Herning_Antal.png) | ![](../Figures/KommuneAlder/Herning_Procent.png) | ![](../Figures/KommuneAlder/Herning_Kumuleret.png)\n",
      "![](../Figures/KommuneAlder/Hillerød_Antal.png) | ![](../Figures/KommuneAlder/Hillerød_Procent.png) | ![](../Figures/KommuneAlder/Hillerød_Kumuleret.png)\n",
      "![](../Figures/KommuneAlder/Hjørring_Antal.png) | ![](../Figures/KommuneAlder/Hjørring_Procent.png) | ![](../Figures/KommuneAlder/Hjørring_Kumuleret.png)\n",
      "![](../Figures/KommuneAlder/Holbæk_Antal.png) | ![](../Figures/KommuneAlder/Holbæk_Procent.png) | ![](../Figures/KommuneAlder/Holbæk_Kumuleret.png)\n",
      "![](../Figures/KommuneAlder/Holstebro_Antal.png) | ![](../Figures/KommuneAlder/Holstebro_Procent.png) | ![](../Figures/KommuneAlder/Holstebro_Kumuleret.png)\n",
      "![](../Figures/KommuneAlder/Horsens_Antal.png) | ![](../Figures/KommuneAlder/Horsens_Procent.png) | ![](../Figures/KommuneAlder/Horsens_Kumuleret.png)\n",
      "![](../Figures/KommuneAlder/Hvidovre_Antal.png) | ![](../Figures/KommuneAlder/Hvidovre_Procent.png) | ![](../Figures/KommuneAlder/Hvidovre_Kumuleret.png)\n",
      "![](../Figures/KommuneAlder/Høje Tåstrup_Antal.png) | ![](../Figures/KommuneAlder/Høje Tåstrup_Procent.png) | ![](../Figures/KommuneAlder/Høje Tåstrup_Kumuleret.png)\n",
      "![](../Figures/KommuneAlder/Hørsholm_Antal.png) | ![](../Figures/KommuneAlder/Hørsholm_Procent.png) | ![](../Figures/KommuneAlder/Hørsholm_Kumuleret.png)\n",
      "![](../Figures/KommuneAlder/Ikast-Brande_Antal.png) | ![](../Figures/KommuneAlder/Ikast-Brande_Procent.png) | ![](../Figures/KommuneAlder/Ikast-Brande_Kumuleret.png)\n",
      "![](../Figures/KommuneAlder/Ishøj_Antal.png) | ![](../Figures/KommuneAlder/Ishøj_Procent.png) | ![](../Figures/KommuneAlder/Ishøj_Kumuleret.png)\n",
      "![](../Figures/KommuneAlder/Jammerbugt_Antal.png) | ![](../Figures/KommuneAlder/Jammerbugt_Procent.png) | ![](../Figures/KommuneAlder/Jammerbugt_Kumuleret.png)\n",
      "![](../Figures/KommuneAlder/Kalundborg_Antal.png) | ![](../Figures/KommuneAlder/Kalundborg_Procent.png) | ![](../Figures/KommuneAlder/Kalundborg_Kumuleret.png)\n",
      "![](../Figures/KommuneAlder/Kerteminde_Antal.png) | ![](../Figures/KommuneAlder/Kerteminde_Procent.png) | ![](../Figures/KommuneAlder/Kerteminde_Kumuleret.png)\n",
      "![](../Figures/KommuneAlder/Kolding_Antal.png) | ![](../Figures/KommuneAlder/Kolding_Procent.png) | ![](../Figures/KommuneAlder/Kolding_Kumuleret.png)\n",
      "![](../Figures/KommuneAlder/København_Antal.png) | ![](../Figures/KommuneAlder/København_Procent.png) | ![](../Figures/KommuneAlder/København_Kumuleret.png)\n",
      "![](../Figures/KommuneAlder/Køge_Antal.png) | ![](../Figures/KommuneAlder/Køge_Procent.png) | ![](../Figures/KommuneAlder/Køge_Kumuleret.png)\n",
      "![](../Figures/KommuneAlder/Langeland_Antal.png) | ![](../Figures/KommuneAlder/Langeland_Procent.png) | ![](../Figures/KommuneAlder/Langeland_Kumuleret.png)\n",
      "![](../Figures/KommuneAlder/Lejre_Antal.png) | ![](../Figures/KommuneAlder/Lejre_Procent.png) | ![](../Figures/KommuneAlder/Lejre_Kumuleret.png)\n",
      "![](../Figures/KommuneAlder/Lemvig_Antal.png) | ![](../Figures/KommuneAlder/Lemvig_Procent.png) | ![](../Figures/KommuneAlder/Lemvig_Kumuleret.png)\n",
      "![](../Figures/KommuneAlder/Lolland_Antal.png) | ![](../Figures/KommuneAlder/Lolland_Procent.png) | ![](../Figures/KommuneAlder/Lolland_Kumuleret.png)\n",
      "![](../Figures/KommuneAlder/Lyngby-Taarbæk_Antal.png) | ![](../Figures/KommuneAlder/Lyngby-Taarbæk_Procent.png) | ![](../Figures/KommuneAlder/Lyngby-Taarbæk_Kumuleret.png)\n",
      "![](../Figures/KommuneAlder/Læsø_Antal.png) | ![](../Figures/KommuneAlder/Læsø_Procent.png) | ![](../Figures/KommuneAlder/Læsø_Kumuleret.png)\n",
      "![](../Figures/KommuneAlder/Mariagerfjord_Antal.png) | ![](../Figures/KommuneAlder/Mariagerfjord_Procent.png) | ![](../Figures/KommuneAlder/Mariagerfjord_Kumuleret.png)\n",
      "![](../Figures/KommuneAlder/Middelfart_Antal.png) | ![](../Figures/KommuneAlder/Middelfart_Procent.png) | ![](../Figures/KommuneAlder/Middelfart_Kumuleret.png)\n",
      "![](../Figures/KommuneAlder/Morsø_Antal.png) | ![](../Figures/KommuneAlder/Morsø_Procent.png) | ![](../Figures/KommuneAlder/Morsø_Kumuleret.png)\n",
      "![](../Figures/KommuneAlder/Norddjurs_Antal.png) | ![](../Figures/KommuneAlder/Norddjurs_Procent.png) | ![](../Figures/KommuneAlder/Norddjurs_Kumuleret.png)\n",
      "![](../Figures/KommuneAlder/Nordfyn_Antal.png) | ![](../Figures/KommuneAlder/Nordfyn_Procent.png) | ![](../Figures/KommuneAlder/Nordfyn_Kumuleret.png)\n",
      "![](../Figures/KommuneAlder/Nyborg_Antal.png) | ![](../Figures/KommuneAlder/Nyborg_Procent.png) | ![](../Figures/KommuneAlder/Nyborg_Kumuleret.png)\n",
      "![](../Figures/KommuneAlder/Næstved_Antal.png) | ![](../Figures/KommuneAlder/Næstved_Procent.png) | ![](../Figures/KommuneAlder/Næstved_Kumuleret.png)\n",
      "![](../Figures/KommuneAlder/Odder_Antal.png) | ![](../Figures/KommuneAlder/Odder_Procent.png) | ![](../Figures/KommuneAlder/Odder_Kumuleret.png)\n",
      "![](../Figures/KommuneAlder/Odense_Antal.png) | ![](../Figures/KommuneAlder/Odense_Procent.png) | ![](../Figures/KommuneAlder/Odense_Kumuleret.png)\n",
      "![](../Figures/KommuneAlder/Odsherred_Antal.png) | ![](../Figures/KommuneAlder/Odsherred_Procent.png) | ![](../Figures/KommuneAlder/Odsherred_Kumuleret.png)\n",
      "![](../Figures/KommuneAlder/Randers_Antal.png) | ![](../Figures/KommuneAlder/Randers_Procent.png) | ![](../Figures/KommuneAlder/Randers_Kumuleret.png)\n",
      "![](../Figures/KommuneAlder/Rebild_Antal.png) | ![](../Figures/KommuneAlder/Rebild_Procent.png) | ![](../Figures/KommuneAlder/Rebild_Kumuleret.png)\n",
      "![](../Figures/KommuneAlder/Ringkøbing-Skjern_Antal.png) | ![](../Figures/KommuneAlder/Ringkøbing-Skjern_Procent.png) | ![](../Figures/KommuneAlder/Ringkøbing-Skjern_Kumuleret.png)\n",
      "![](../Figures/KommuneAlder/Ringsted_Antal.png) | ![](../Figures/KommuneAlder/Ringsted_Procent.png) | ![](../Figures/KommuneAlder/Ringsted_Kumuleret.png)\n",
      "![](../Figures/KommuneAlder/Roskilde_Antal.png) | ![](../Figures/KommuneAlder/Roskilde_Procent.png) | ![](../Figures/KommuneAlder/Roskilde_Kumuleret.png)\n",
      "![](../Figures/KommuneAlder/Rudersdal_Antal.png) | ![](../Figures/KommuneAlder/Rudersdal_Procent.png) | ![](../Figures/KommuneAlder/Rudersdal_Kumuleret.png)\n",
      "![](../Figures/KommuneAlder/Rødovre_Antal.png) | ![](../Figures/KommuneAlder/Rødovre_Procent.png) | ![](../Figures/KommuneAlder/Rødovre_Kumuleret.png)\n",
      "![](../Figures/KommuneAlder/Samsø_Antal.png) | ![](../Figures/KommuneAlder/Samsø_Procent.png) | ![](../Figures/KommuneAlder/Samsø_Kumuleret.png)\n",
      "![](../Figures/KommuneAlder/Silkeborg_Antal.png) | ![](../Figures/KommuneAlder/Silkeborg_Procent.png) | ![](../Figures/KommuneAlder/Silkeborg_Kumuleret.png)\n",
      "![](../Figures/KommuneAlder/Skanderborg_Antal.png) | ![](../Figures/KommuneAlder/Skanderborg_Procent.png) | ![](../Figures/KommuneAlder/Skanderborg_Kumuleret.png)\n",
      "![](../Figures/KommuneAlder/Skive_Antal.png) | ![](../Figures/KommuneAlder/Skive_Procent.png) | ![](../Figures/KommuneAlder/Skive_Kumuleret.png)\n",
      "![](../Figures/KommuneAlder/Slagelse_Antal.png) | ![](../Figures/KommuneAlder/Slagelse_Procent.png) | ![](../Figures/KommuneAlder/Slagelse_Kumuleret.png)\n",
      "![](../Figures/KommuneAlder/Solrød_Antal.png) | ![](../Figures/KommuneAlder/Solrød_Procent.png) | ![](../Figures/KommuneAlder/Solrød_Kumuleret.png)\n",
      "![](../Figures/KommuneAlder/Sorø_Antal.png) | ![](../Figures/KommuneAlder/Sorø_Procent.png) | ![](../Figures/KommuneAlder/Sorø_Kumuleret.png)\n",
      "![](../Figures/KommuneAlder/Stevns_Antal.png) | ![](../Figures/KommuneAlder/Stevns_Procent.png) | ![](../Figures/KommuneAlder/Stevns_Kumuleret.png)\n",
      "![](../Figures/KommuneAlder/Struer_Antal.png) | ![](../Figures/KommuneAlder/Struer_Procent.png) | ![](../Figures/KommuneAlder/Struer_Kumuleret.png)\n",
      "![](../Figures/KommuneAlder/Svendborg_Antal.png) | ![](../Figures/KommuneAlder/Svendborg_Procent.png) | ![](../Figures/KommuneAlder/Svendborg_Kumuleret.png)\n",
      "![](../Figures/KommuneAlder/Syddjurs_Antal.png) | ![](../Figures/KommuneAlder/Syddjurs_Procent.png) | ![](../Figures/KommuneAlder/Syddjurs_Kumuleret.png)\n",
      "![](../Figures/KommuneAlder/Sønderborg_Antal.png) | ![](../Figures/KommuneAlder/Sønderborg_Procent.png) | ![](../Figures/KommuneAlder/Sønderborg_Kumuleret.png)\n",
      "![](../Figures/KommuneAlder/Thisted_Antal.png) | ![](../Figures/KommuneAlder/Thisted_Procent.png) | ![](../Figures/KommuneAlder/Thisted_Kumuleret.png)\n",
      "![](../Figures/KommuneAlder/Tårnby_Antal.png) | ![](../Figures/KommuneAlder/Tårnby_Procent.png) | ![](../Figures/KommuneAlder/Tårnby_Kumuleret.png)\n",
      "![](../Figures/KommuneAlder/Tønder_Antal.png) | ![](../Figures/KommuneAlder/Tønder_Procent.png) | ![](../Figures/KommuneAlder/Tønder_Kumuleret.png)\n",
      "![](../Figures/KommuneAlder/Vallensbæk_Antal.png) | ![](../Figures/KommuneAlder/Vallensbæk_Procent.png) | ![](../Figures/KommuneAlder/Vallensbæk_Kumuleret.png)\n",
      "![](../Figures/KommuneAlder/Varde_Antal.png) | ![](../Figures/KommuneAlder/Varde_Procent.png) | ![](../Figures/KommuneAlder/Varde_Kumuleret.png)\n",
      "![](../Figures/KommuneAlder/Vejen_Antal.png) | ![](../Figures/KommuneAlder/Vejen_Procent.png) | ![](../Figures/KommuneAlder/Vejen_Kumuleret.png)\n",
      "![](../Figures/KommuneAlder/Vejle_Antal.png) | ![](../Figures/KommuneAlder/Vejle_Procent.png) | ![](../Figures/KommuneAlder/Vejle_Kumuleret.png)\n",
      "![](../Figures/KommuneAlder/Vesthimmerland_Antal.png) | ![](../Figures/KommuneAlder/Vesthimmerland_Procent.png) | ![](../Figures/KommuneAlder/Vesthimmerland_Kumuleret.png)\n",
      "![](../Figures/KommuneAlder/Viborg_Antal.png) | ![](../Figures/KommuneAlder/Viborg_Procent.png) | ![](../Figures/KommuneAlder/Viborg_Kumuleret.png)\n",
      "![](../Figures/KommuneAlder/Vordingborg_Antal.png) | ![](../Figures/KommuneAlder/Vordingborg_Procent.png) | ![](../Figures/KommuneAlder/Vordingborg_Kumuleret.png)\n",
      "![](../Figures/KommuneAlder/Århus_Antal.png) | ![](../Figures/KommuneAlder/Århus_Procent.png) | ![](../Figures/KommuneAlder/Århus_Kumuleret.png)\n",
      "![](../Figures/KommuneAlder/Ærø_Antal.png) | ![](../Figures/KommuneAlder/Ærø_Procent.png) | ![](../Figures/KommuneAlder/Ærø_Kumuleret.png)\n"
     ]
    }
   ],
   "source": [
    "\n",
    "posKommuneNavn = np.sort(df_kommunekort.index.values[1:])\n",
    "\n",
    "for curKommuneNavn in posKommuneNavn:\n",
    "\n",
    "    print(f'![](../Figures/KommuneAlder/{curKommuneNavn}_Antal.png) | ![](../Figures/KommuneAlder/{curKommuneNavn}_Procent.png) | ![](../Figures/KommuneAlder/{curKommuneNavn}_Kumuleret.png)')\n"
   ]
  }
 ],
 "metadata": {
  "interpreter": {
   "hash": "c031fd63bd977d199cd6020c30a19695eacbb638d100e0b8a5ea53080ed74a9a"
  },
  "kernelspec": {
   "display_name": "Python 3.8.12 64-bit ('main': conda)",
   "language": "python",
   "name": "python3"
  },
  "language_info": {
   "codemirror_mode": {
    "name": "ipython",
    "version": 3
   },
   "file_extension": ".py",
   "mimetype": "text/x-python",
   "name": "python",
   "nbconvert_exporter": "python",
   "pygments_lexer": "ipython3",
   "version": "3.8.5"
  },
  "orig_nbformat": 4
 },
 "nbformat": 4,
 "nbformat_minor": 2
}
