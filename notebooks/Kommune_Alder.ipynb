{
 "cells": [
  {
   "cell_type": "code",
   "execution_count": 2,
   "metadata": {},
   "outputs": [
    {
     "name": "stdout",
     "output_type": "stream",
     "text": [
      "saveFigures is set to: True\n",
      "Done loading packages\n"
     ]
    }
   ],
   "source": [
    "%matplotlib widget\n",
    "# Load packages and settings\n",
    "import numpy as np\n",
    "import pandas as pd\n",
    "pd.set_option('display.max_rows', 500)\n",
    "pd.set_option('display.min_rows', 50)\n",
    "import seaborn as sns\n",
    "\n",
    "\n",
    "import matplotlib.pyplot as plt\n",
    "\n",
    "plt.rcParams['figure.figsize'] = (12,8)\n",
    "plt.rcParams[\"image.cmap\"] = \"tab10\"\n",
    "plt.rcParams['axes.prop_cycle'] = plt.cycler(color=plt.cm.tab10.colors)\n",
    "fs_label = 16\n",
    "parameters = {\n",
    "                'axes.labelsize': fs_label,\n",
    "                'axes.titlesize': fs_label+4,\n",
    "                'xtick.labelsize': fs_label,\n",
    "                'ytick.labelsize': fs_label, \n",
    "                'legend.fontsize': fs_label, \n",
    "                'lines.markersize': 10,\n",
    "                'lines.linewidth': 3\n",
    "             }\n",
    "plt.rcParams.update(parameters)\n",
    "\n",
    "from matplotlib import cm # Colormaps\n",
    "import matplotlib.colors as colors\n",
    "# cmap = plt.cm.get_cmap('Dark2',len(ageGroups))\n",
    "\n",
    "import locale\n",
    "import matplotlib.dates as mdates\n",
    "locale.setlocale(locale.LC_TIME,\"Danish\")\n",
    "# ax1.xaxis.set_major_formatter(mdates.DateFormatter('%b\\n%Y'))\n",
    "# ax1.spines['top'].set_visible(False) \n",
    "\n",
    "import os\n",
    "# import csv\n",
    "import math\n",
    "\n",
    "from datetime import date\n",
    "\n",
    "\n",
    "saveFigures = True\n",
    "# saveFigures = False\n",
    "print('saveFigures is set to: '+str(saveFigures))\n",
    "\n",
    "print('Done loading packages')\n",
    "\n",
    "# Define running mean functions\n",
    "def rnMean(data,meanWidth):\n",
    "    return np.convolve(data, np.ones(meanWidth)/meanWidth, mode='valid')\n",
    "def rnTime(t,meanWidth):\n",
    "    return t[math.floor(meanWidth/2):-math.ceil(meanWidth/2)+1]"
   ]
  },
  {
   "cell_type": "code",
   "execution_count": 3,
   "metadata": {},
   "outputs": [],
   "source": [
    "# Define paths\n",
    "rootdir_data = os.getcwd() +\"\\\\..\\\\DanskeData\\\\\" \n",
    "\n",
    "path_data = rootdir_data + \"ssi_data\\\\\"\n",
    "path_dash = rootdir_data + \"ssi_dashboard\\\\\"\n",
    "path_vacc = rootdir_data + \"ssi_vacc\\\\\"\n",
    "path_figs = os.getcwd() +\"\\\\..\\\\Figures\\\\\" \n",
    "\n",
    "path_figs = path_figs+\"KommuneAlder\\\\\""
   ]
  },
  {
   "cell_type": "code",
   "execution_count": 4,
   "metadata": {},
   "outputs": [],
   "source": [
    "# Find number of citizens in region\n",
    "latestsubdir = list(os.walk(path_dash))[0][1][-1]\n",
    "latestdir = path_dash + latestsubdir\n",
    "df_kommunekort = pd.read_csv(latestdir+'/Kommunalt_DB/10_Kommune_kort.csv',encoding='latin1',\n",
    "                                delimiter = ';')\n",
    "df_kommunekort = df_kommunekort.set_index(\"Kommunenavn\")"
   ]
  },
  {
   "cell_type": "markdown",
   "metadata": {},
   "source": [
    "# Population size\n",
    "Populationnumbers have been downloaded from Danmark Statistik.\n",
    "\n",
    "File are in two separate files. First, combine into one dataframe"
   ]
  },
  {
   "cell_type": "code",
   "execution_count": 5,
   "metadata": {},
   "outputs": [
    {
     "data": {
      "text/html": [
       "<div>\n",
       "<style scoped>\n",
       "    .dataframe tbody tr th:only-of-type {\n",
       "        vertical-align: middle;\n",
       "    }\n",
       "\n",
       "    .dataframe tbody tr th {\n",
       "        vertical-align: top;\n",
       "    }\n",
       "\n",
       "    .dataframe thead th {\n",
       "        text-align: right;\n",
       "    }\n",
       "</style>\n",
       "<table border=\"1\" class=\"dataframe\">\n",
       "  <thead>\n",
       "    <tr style=\"text-align: right;\">\n",
       "      <th></th>\n",
       "      <th>Kommune</th>\n",
       "      <th>Alder</th>\n",
       "      <th>Antal</th>\n",
       "      <th>AlderKort</th>\n",
       "    </tr>\n",
       "  </thead>\n",
       "  <tbody>\n",
       "    <tr>\n",
       "      <th>0</th>\n",
       "      <td>København</td>\n",
       "      <td>0 år</td>\n",
       "      <td>9481</td>\n",
       "      <td>0</td>\n",
       "    </tr>\n",
       "    <tr>\n",
       "      <th>1</th>\n",
       "      <td>København</td>\n",
       "      <td>1 år</td>\n",
       "      <td>8681</td>\n",
       "      <td>1</td>\n",
       "    </tr>\n",
       "    <tr>\n",
       "      <th>2</th>\n",
       "      <td>København</td>\n",
       "      <td>2 år</td>\n",
       "      <td>7633</td>\n",
       "      <td>2</td>\n",
       "    </tr>\n",
       "    <tr>\n",
       "      <th>3</th>\n",
       "      <td>København</td>\n",
       "      <td>3 år</td>\n",
       "      <td>7273</td>\n",
       "      <td>3</td>\n",
       "    </tr>\n",
       "    <tr>\n",
       "      <th>4</th>\n",
       "      <td>København</td>\n",
       "      <td>4 år</td>\n",
       "      <td>6847</td>\n",
       "      <td>4</td>\n",
       "    </tr>\n",
       "  </tbody>\n",
       "</table>\n",
       "</div>"
      ],
      "text/plain": [
       "     Kommune Alder  Antal  AlderKort\n",
       "0  København  0 år   9481          0\n",
       "1  København  1 år   8681          1\n",
       "2  København  2 år   7633          2\n",
       "3  København  3 år   7273          3\n",
       "4  København  4 år   6847          4"
      ]
     },
     "execution_count": 5,
     "metadata": {},
     "output_type": "execute_result"
    }
   ],
   "source": [
    "popdf1 = pd.read_csv(rootdir_data+'/DKfolketal2021_Statistikbanken_Del1.csv',header=None,encoding='latin1',delimiter=';')\n",
    "popdf2 = pd.read_csv(rootdir_data+'/DKfolketal2021_Statistikbanken_Del2.csv',header=None,encoding='latin1',delimiter=';')\n",
    "\n",
    "popdf = pd.concat([popdf1,popdf2])\n",
    "\n",
    "popdf = popdf.rename(columns={0:\"Kommune\",1:'Alder',2:'Antal'})\n",
    "popdf['AlderKort'] = popdf.Alder.apply(lambda x: int(str(x).split(' ')[0]))\n",
    "totCounts = popdf.groupby('Kommune').sum()\n",
    "popdf.head()"
   ]
  },
  {
   "cell_type": "code",
   "execution_count": 20,
   "metadata": {},
   "outputs": [],
   "source": [
    "def getPopSize(kommuneNavn,minAlder=0,maxAlder=125):\n",
    "\n",
    "    if (kommuneNavn == 'Høje Tåstrup'):\n",
    "        kommuneNavn = 'Høje-Taastrup'\n",
    "    if (kommuneNavn == 'Århus'):\n",
    "        kommuneNavn = 'Aarhus'\n",
    "    if (kommuneNavn == 'Nordfyn'):\n",
    "        kommuneNavn = 'Nordfyns'\n",
    "    if (kommuneNavn == 'Vesthimmerland'):\n",
    "        kommuneNavn = 'Vesthimmerlands'\n",
    "\n",
    "        \n",
    "    return popdf[(popdf.Kommune == kommuneNavn) & (popdf.AlderKort >= minAlder) & (popdf.AlderKort <= maxAlder)].Antal.sum()\n",
    "    \n",
    "# kommuneNavn = 'København'\n",
    "# minAlder = 0\n",
    "# maxAlder = 2\n",
    "\n",
    "# getPopSize('København',0,20)"
   ]
  },
  {
   "cell_type": "code",
   "execution_count": 24,
   "metadata": {},
   "outputs": [
    {
     "data": {
      "text/plain": [
       "352751"
      ]
     },
     "execution_count": 24,
     "metadata": {},
     "output_type": "execute_result"
    }
   ],
   "source": [
    "getPopSize('Århus')\n",
    "# np.sort(popdf.Kommune.unique())"
   ]
  },
  {
   "cell_type": "markdown",
   "metadata": {},
   "source": [
    "# Get data\n",
    "\n",
    "Since data only contains the most recent numbers, go through every directory to generate time-series"
   ]
  },
  {
   "cell_type": "code",
   "execution_count": 25,
   "metadata": {},
   "outputs": [],
   "source": [
    "allSubDirs = list(os.walk(path_dash))[0][1]\n",
    "\n",
    "df = pd.DataFrame()\n",
    "\n",
    "for curSubDir in allSubDirs:\n",
    "    curdir = path_dash + curSubDir\n",
    "    curfilepath = curdir+'/Kommunalt_DB/17_tilfaelde_fnkt_alder_kommuner.csv'\n",
    "\n",
    "    # Check if file was included at the time. The \"Kommune/17\" file wasn't included until 2021-09-22 \n",
    "    if os.path.isfile(curfilepath):\n",
    "        curdf = pd.read_csv(curfilepath,encoding='latin1',delimiter = ';')\n",
    "        \n",
    "        df = pd.concat([df,curdf])\n",
    "\n",
    "# Set dtypes\n",
    "df.Kommune = df.Kommune.fillna(0)  # All NaN kommuner is set to zero\n",
    "df['Kommune'] = df['Kommune'].astype(int)\n",
    "df['Dagsdato'] = pd.to_datetime(df['Dagsdato'])\n",
    "df['Bekræftede tilfælde'] = pd.to_numeric(df['Bekræftede tilfælde'])\n",
    "df['Aldersgruppe'] = df.Aldersgruppe.replace('00-02','0-2')\n",
    "df['Aldersgruppe'] = df.Aldersgruppe.replace('03-05','3-5')\n",
    "df['Aldersgruppe'] = df.Aldersgruppe.replace('06-11','6-11')\n",
    "\n",
    "# df['Forskel'] = df['Bekræftede tilfælde'].diff().fillna(0).astype(int,errors='ignore')"
   ]
  },
  {
   "cell_type": "code",
   "execution_count": 61,
   "metadata": {},
   "outputs": [],
   "source": [
    "# np.array(dayDiff).unique()\n",
    "# pd.DataFrame(data=dayDiff).loc[:,0].unique()\n",
    "\n",
    "# df['Kommune']"
   ]
  },
  {
   "cell_type": "code",
   "execution_count": 27,
   "metadata": {},
   "outputs": [
    {
     "data": {
      "text/plain": [
       "101"
      ]
     },
     "execution_count": 27,
     "metadata": {},
     "output_type": "execute_result"
    }
   ],
   "source": [
    "\n",
    "df_kommunekort = pd.read_csv(latestdir+'/Kommunalt_DB/10_Kommune_kort.csv',encoding='latin1',\n",
    "                                delimiter = ';')\n",
    "df_kommunekort = df_kommunekort.set_index(\"Kommunenavn\")\n",
    "\n",
    "# kommune_nr = kommune_df.Kommune.iloc[0]\n",
    "# df_kommunekort['København'] \n",
    "df_kommunekort['Kommune']['København']"
   ]
  },
  {
   "cell_type": "code",
   "execution_count": 73,
   "metadata": {},
   "outputs": [
    {
     "data": {
      "text/plain": [
       "(array([], dtype=float64), array([], dtype=float64))"
      ]
     },
     "execution_count": 73,
     "metadata": {},
     "output_type": "execute_result"
    }
   ],
   "source": []
  },
  {
   "cell_type": "code",
   "execution_count": 81,
   "metadata": {},
   "outputs": [],
   "source": [
    "\n",
    "# curKom = 101\n",
    "# curAge = '6-11'\n",
    "# curdf = df[(df.Kommune == curKom) & (df.Aldersgruppe == curAge)]\n",
    "# curdf.tail(10)\n",
    "# # df[df.Kommune == 101].tail(20)\n",
    "\n",
    "def getDiffTimeSeries(komCode,Age):\n",
    "\n",
    "    curdf = df[(df.Kommune == komCode) & (df.Aldersgruppe == Age)] \n",
    "\n",
    "    if (len(curdf) == 0):\n",
    "        return np.array(np.datetime64('today')),np.array([0])\n",
    "        \n",
    "    dayDiff = [int(x) for x in (curdf.Dagsdato.diff()/np.timedelta64(1,'D')).fillna(0)]\n",
    "\n",
    "    curDays = []\n",
    "    curDiffs = []\n",
    "    for i in range(1,len(curdf)):\n",
    "        curRow = curdf.iloc[i]\n",
    "        prevRow = curdf.iloc[i-1]\n",
    "        # print(curRow)\n",
    "        if (dayDiff[i] == 1):\n",
    "            curDays.append(curRow.Dagsdato)\n",
    "            curDiffs.append(curRow['Bekræftede tilfælde']-prevRow['Bekræftede tilfælde']) \n",
    "        elif (dayDiff[i] == 3):\n",
    "            curCount = curRow['Bekræftede tilfælde']-prevRow['Bekræftede tilfælde']\n",
    "            curDays.append(curRow.Dagsdato-np.timedelta64(2,'D'))\n",
    "            curDays.append(curRow.Dagsdato-np.timedelta64(1,'D'))\n",
    "            curDays.append(curRow.Dagsdato)\n",
    "            curDiffs.append(curCount/3) \n",
    "            curDiffs.append(curCount/3) \n",
    "            curDiffs.append(curCount/3) \n",
    "\n",
    "    return np.array(curDays),np.array(curDiffs)\n",
    "\n",
    "curDates,curCounts = getDiffTimeSeries(101,'6-11')\n",
    "# df_kommunekort['Kommune']['Samsø']\n",
    "curDates,curCounts = getDiffTimeSeries(741,'0-2')\n",
    "# getDiffTimeSeries(741,'3-5')\n",
    "# print(curDates[-10:])\n",
    "# print(curCounts[-10:])\n",
    "# plt.figure()\n",
    "# plt.plot(curDays,curDiffs)\n",
    "# plt.plot(rnTime(curDays,7),rnMean(curDiffs,7))"
   ]
  },
  {
   "cell_type": "code",
   "execution_count": 82,
   "metadata": {},
   "outputs": [],
   "source": [
    "# asdf = pd.DataFrame() \n",
    "# asdf['Kommunenavn'] = df_kommunekort.index.unique()\n",
    "# asdf['Samlet population'] = [getPopSize(x) for x in df_kommunekort.index.unique()]\n",
    "# asdf"
   ]
  },
  {
   "cell_type": "code",
   "execution_count": 89,
   "metadata": {},
   "outputs": [
    {
     "data": {
      "application/vnd.jupyter.widget-view+json": {
       "model_id": "87b7ca8593d440089d03c387751a4f00",
       "version_major": 2,
       "version_minor": 0
      },
      "text/plain": [
       "Canvas(toolbar=Toolbar(toolitems=[('Home', 'Reset original view', 'home', 'home'), ('Back', 'Back to previous …"
      ]
     },
     "metadata": {},
     "output_type": "display_data"
    }
   ],
   "source": [
    "allAge = df.Aldersgruppe.unique()[:-1]\n",
    "\n",
    "import matplotlib\n",
    "cmap = matplotlib.colors.LinearSegmentedColormap.from_list(\"\", [\"red\",\"violet\",\"blue\",\"green\"],len(allAge))\n",
    "cmap = plt.cm.get_cmap('turbo',len(allAge))\n",
    "\n",
    "\n",
    "\n",
    "curKom = 851\n",
    "curKom = 101\n",
    "curKommuneNavn = 'København'\n",
    "\n",
    "posKommuneNavn = df_kommunekort.index.values[1:]\n",
    "posKommuneNavn = ['Høje Tåstrup','Århus','Nordfyn','Vesthimmerland']\n",
    "posKommuneNavn = ['Samsø']\n",
    "\n",
    "for curKommuneNavn in posKommuneNavn:\n",
    "\n",
    "    # try:\n",
    "    fig,ax1 = plt.subplots()\n",
    "\n",
    "    fig.patch.set_facecolor('xkcd:off white')\n",
    "    ax1.set_facecolor('xkcd:off white')\n",
    "\n",
    "    curKom = df_kommunekort['Kommune'][curKommuneNavn]\n",
    "    # for curAge in allAge:\n",
    "    for i in range(0,len(allAge)):\n",
    "        curAge = allAge[i]\n",
    "        curColor = cmap(i)\n",
    "        curDates,curCounts = getDiffTimeSeries(curKom,curAge)\n",
    "        # ax1.plot(curDates,curCounts,'.:',linewidth=0.5,markersize=2,color=curColor)\n",
    "        # ax1.plot(rnTime(curDates,7),rnMean(curCounts,7),label=curAge,color=curColor)\n",
    "\n",
    "        if (len(curCounts) > 7):\n",
    "            ax1.plot(curDates[6:],rnMean(curCounts,7),label=curAge,color=curColor)\n",
    "\n",
    "    ax1.set_ylim(bottom=0)\n",
    "    ax1.xaxis.set_major_formatter(mdates.DateFormatter('%d\\n%b'))\n",
    "\n",
    "    ax1.set_xlim()\n",
    "    ax1.set_xlim(left=np.datetime64('2021-11-01'))\n",
    "\n",
    "    # Draw weekends\n",
    "    firstSunday = np.datetime64('2021-10-03')\n",
    "    numWeeks = 52\n",
    "    for k in range(-numWeeks,numWeeks):\n",
    "            curSunday = firstSunday + np.timedelta64(7*k,'D')\n",
    "            ax1.axvspan(curSunday-np.timedelta64(1,'D')-np.timedelta64(12,'h'),curSunday+np.timedelta64(12,'h'),zorder=-1,facecolor='lightgrey',label=int(k==0)*'Weekend')\n",
    "    ax1.grid(axis='y')\n",
    "    ax1.legend()\n",
    "\n",
    "    # ax1.set_title(curKom)\n",
    "    # ax1.set_title('København')\n",
    "    ax1.set_ylabel('Smittetilfælde, 7-dages gennemsnit')\n",
    "    ax1.set_title(curKommuneNavn)\n",
    "\n",
    "    if saveFigures:\n",
    "        fig.savefig(path_figs+curKommuneNavn+'_Antal')\n",
    "\n",
    "    plt.close('all')\n",
    "    # except:\n",
    "    #     2+2"
   ]
  },
  {
   "cell_type": "code",
   "execution_count": 11,
   "metadata": {},
   "outputs": [],
   "source": [
    "# # df.groupby(['Kommune','Aldersgruppe'])\n",
    "# # asdf = df.set_index(['Kommune','Aldersgruppe'])\n",
    "# df.columns\n",
    "\n",
    "# curKom = 101\n",
    "# curAge = '6-11'\n",
    "# asdf = df[(df.Kommune == curKom) & (df.Aldersgruppe == curAge)]\n",
    "\n",
    "# plt.figure()\n",
    "# plt.plot(asdf.Dagsdato,asdf['Bekræftede tilfælde'].diff(),'*')\n",
    "# plt.plot(rnTime(asdf.Dagsdato,7),rnMean(asdf['Bekræftede tilfælde'].diff(),7))"
   ]
  },
  {
   "cell_type": "markdown",
   "metadata": {},
   "source": [
    "# Normed by population size"
   ]
  },
  {
   "cell_type": "code",
   "execution_count": 91,
   "metadata": {},
   "outputs": [
    {
     "data": {
      "application/vnd.jupyter.widget-view+json": {
       "model_id": "bea39d77c5804e5c9dc63ee3ebc34ecb",
       "version_major": 2,
       "version_minor": 0
      },
      "text/plain": [
       "Canvas(toolbar=Toolbar(toolitems=[('Home', 'Reset original view', 'home', 'home'), ('Back', 'Back to previous …"
      ]
     },
     "metadata": {},
     "output_type": "display_data"
    }
   ],
   "source": [
    "\n",
    "\n",
    "curKom = 851\n",
    "curKom = 101\n",
    "curKommuneNavn = 'København'\n",
    "\n",
    "posKommuneNavn = df_kommunekort.index.values[1:]\n",
    "posKommuneNavn = ['Høje Tåstrup','Århus','Nordfyn','Vesthimmerland']\n",
    "posKommuneNavn = ['Samsø']\n",
    "\n",
    "for curKommuneNavn in posKommuneNavn:\n",
    "\n",
    "    # try: \n",
    "    fig,ax1 = plt.subplots()\n",
    "    fig.patch.set_facecolor('xkcd:off white')\n",
    "    ax1.set_facecolor('xkcd:off white')\n",
    "\n",
    "    \n",
    "    for i in range(0,len(allAge)):\n",
    "        curAge = allAge[i]\n",
    "        if (curAge == '80+'):\n",
    "            curMinAge,curMaxAge = 80,125\n",
    "        else:\n",
    "            curMinAge,curMaxAge = [int(x) for x in curAge.split('-')]\n",
    "\n",
    "        curColor = cmap(i)\n",
    "        curKom = df_kommunekort['Kommune'][curKommuneNavn]\n",
    "        curDates,curCounts = getDiffTimeSeries(curKom,curAge)\n",
    "        # ax1.plot(curDates,curCounts,'.:',linewidth=0.5,markersize=2,color=curColor)\n",
    "        # ax1.plot(rnTime(curDates,7),rnMean(curCounts,7),label=curAge,color=curColor)\n",
    "        # ax1.plot(curDates[6:],rnMean(curCounts,7),label=curAge,color=curColor)\n",
    "\n",
    "        \n",
    "        curPopSize = getPopSize(curKommuneNavn,curMinAge,curMaxAge)\n",
    "\n",
    "        if (len(curCounts) > 7):\n",
    "            # ax1.plot(curDates,100*curCounts/curPopSize,'.:',linewidth=0.5,markersize=2,color=curColor)\n",
    "            ax1.plot(curDates[6:],100*rnMean(curCounts,7)/curPopSize,label=curAge,color=curColor)\n",
    "\n",
    "    ax1.set_ylim(bottom=0)\n",
    "    ax1.xaxis.set_major_formatter(mdates.DateFormatter('%d\\n%b'))\n",
    "\n",
    "    ax1.set_xlim()\n",
    "    ax1.set_xlim(left=np.datetime64('2021-11-01'))\n",
    "    # Draw weekends\n",
    "    firstSunday = np.datetime64('2021-10-03')\n",
    "    numWeeks = 52\n",
    "    for k in range(-numWeeks,numWeeks):\n",
    "            curSunday = firstSunday + np.timedelta64(7*k,'D')\n",
    "            ax1.axvspan(curSunday-np.timedelta64(1,'D')-np.timedelta64(12,'h'),curSunday+np.timedelta64(12,'h'),zorder=-1,facecolor='lightgrey',label=int(k==0)*'Weekend')\n",
    "    ax1.grid(axis='y')\n",
    "    ax1.legend()\n",
    "    ax1.set_ylabel('Smittetilfælde, som andel af befolkning [%]\\n7-dages gennemsnit')\n",
    "    ax1.set_title(curKommuneNavn)\n",
    "\n",
    "    if saveFigures:\n",
    "        fig.savefig(path_figs+curKommuneNavn+'_Procent')\n",
    "    # except:\n",
    "    #     2+2"
   ]
  },
  {
   "cell_type": "code",
   "execution_count": 32,
   "metadata": {},
   "outputs": [],
   "source": [
    "plt.close('all')"
   ]
  },
  {
   "cell_type": "code",
   "execution_count": 93,
   "metadata": {},
   "outputs": [
    {
     "name": "stdout",
     "output_type": "stream",
     "text": [
      "Hvidovre: 60.30914983794565\n"
     ]
    }
   ],
   "source": [
    "\n",
    "posKommuneNavn = df_kommunekort.index.values[1:]\n",
    "# posKommuneNavn = ['Høje Tåstrup','Århus','Nordfyn','Vesthimmerland']\n",
    "\n",
    "\n",
    "maxCumu = 0\n",
    "\n",
    "maxKommune = ''\n",
    "\n",
    "for curKommuneNavn in posKommuneNavn:\n",
    "        for i in range(0,len(allAge)):\n",
    "            curAge = allAge[i]\n",
    "            if (curAge == '80+'):\n",
    "                curMinAge,curMaxAge = 80,125\n",
    "            else:\n",
    "                curMinAge,curMaxAge = [int(x) for x in curAge.split('-')]\n",
    "\n",
    "            curColor = cmap(i)\n",
    "            curKom = df_kommunekort['Kommune'][curKommuneNavn]\n",
    "            curDates,curCounts = getDiffTimeSeries(curKom,curAge)\n",
    "            \n",
    "            curPopSize = getPopSize(curKommuneNavn,curMinAge,curMaxAge)\n",
    "\n",
    "            if (len(curCounts) > 7):\n",
    "                curCumu = 100*np.cumsum(curCounts)/curPopSize\n",
    "\n",
    "            curMax = np.max(curCumu)\n",
    "\n",
    "            if (curMax > maxCumu):\n",
    "                maxKommune = curKommuneNavn\n",
    "                maxCumu = curMax \n",
    "            # maxCumu = np.max([curMax,maxCumu])\n",
    "print(f'{maxKommune}: {maxCumu}')\n"
   ]
  },
  {
   "cell_type": "code",
   "execution_count": 57,
   "metadata": {},
   "outputs": [
    {
     "data": {
      "text/plain": [
       "60.30914983794565"
      ]
     },
     "execution_count": 57,
     "metadata": {},
     "output_type": "execute_result"
    }
   ],
   "source": []
  },
  {
   "cell_type": "code",
   "execution_count": 94,
   "metadata": {},
   "outputs": [
    {
     "data": {
      "application/vnd.jupyter.widget-view+json": {
       "model_id": "8f8eb5a1de1f4c6ab4a87fd1139f396a",
       "version_major": 2,
       "version_minor": 0
      },
      "text/plain": [
       "Canvas(toolbar=Toolbar(toolitems=[('Home', 'Reset original view', 'home', 'home'), ('Back', 'Back to previous …"
      ]
     },
     "metadata": {},
     "output_type": "display_data"
    }
   ],
   "source": [
    "# fig,ax1 = plt.subplots()\n",
    "\n",
    "# fig.patch.set_facecolor('xkcd:off white')\n",
    "# ax1.set_facecolor('xkcd:off white')\n",
    "\n",
    "# curKom = 851\n",
    "# curKom = 101\n",
    "# curKommuneNavn = 'København'\n",
    "\n",
    "posKommuneNavn = df_kommunekort.index.values[1:]\n",
    "# posKommuneNavn = ['Høje Tåstrup','Århus','Nordfyn','Vesthimmerland']\n",
    "posKommuneNavn = ['Samsø']\n",
    "\n",
    "for curKommuneNavn in posKommuneNavn:\n",
    "\n",
    "    # try: \n",
    "    plt.close('all')\n",
    "    fig,ax1 = plt.subplots()\n",
    "    fig.patch.set_facecolor('xkcd:off white')\n",
    "    ax1.set_facecolor('xkcd:off white')\n",
    "\n",
    "    for i in range(0,len(allAge)):\n",
    "        curAge = allAge[i]\n",
    "        if (curAge == '80+'):\n",
    "            curMinAge,curMaxAge = 80,125\n",
    "        else:\n",
    "            curMinAge,curMaxAge = [int(x) for x in curAge.split('-')]\n",
    "\n",
    "        curColor = cmap(i)\n",
    "        curKom = df_kommunekort['Kommune'][curKommuneNavn]\n",
    "        curDates,curCounts = getDiffTimeSeries(curKom,curAge)\n",
    "        # ax1.plot(curDates,curCounts,'.:',linewidth=0.5,markersize=2,color=curColor)\n",
    "        # ax1.plot(rnTime(curDates,7),rnMean(curCounts,7),label=curAge,color=curColor)\n",
    "        # ax1.plot(curDates[6:],rnMean(curCounts,7),label=curAge,color=curColor)\n",
    "\n",
    "        \n",
    "        curPopSize = getPopSize(curKommuneNavn,curMinAge,curMaxAge)\n",
    "\n",
    "        if (len(curCounts) > 7):\n",
    "            # ax1.plot(curDates,100*curCounts/curPopSize,'.:',linewidth=0.5,markersize=2,color=curColor)\n",
    "            # ax1.plot(curDates[6:],100*rnMean(np.cumsum(curCounts),7)/curPopSize,label=curAge,color=curColor)\n",
    "            ax1.plot(curDates,100*np.cumsum(curCounts)/curPopSize,label=curAge,color=curColor)\n",
    "\n",
    "    ax1.set_ylim(bottom=0)\n",
    "    ax1.xaxis.set_major_formatter(mdates.DateFormatter('%d\\n%b'))\n",
    "\n",
    "    ax1.set_xlim()\n",
    "    ax1.set_xlim(left=np.datetime64('2021-11-01'))\n",
    "    # Draw weekends\n",
    "    firstSunday = np.datetime64('2021-10-03')\n",
    "    numWeeks = 52\n",
    "    for k in range(-numWeeks,numWeeks):\n",
    "            curSunday = firstSunday + np.timedelta64(7*k,'D')\n",
    "            ax1.axvspan(curSunday-np.timedelta64(1,'D')-np.timedelta64(12,'h'),curSunday+np.timedelta64(12,'h'),zorder=-1,facecolor='lightgrey',label=int(k==0)*'Weekend')\n",
    "    ax1.grid(axis='y')\n",
    "    ax1.legend()\n",
    "    # ax1.set_ylabel('Kumuleret sum af smittetilfælde, 7-dages gennemsnit\\nAndel af befolkning [%]')\n",
    "    ax1.set_ylabel('Kumuleret sum af smittetilfælde\\nAndel af befolkning [%]')\n",
    "    ax1.set_title(curKommuneNavn)\n",
    "\n",
    "    if saveFigures:\n",
    "        fig.savefig(path_figs+curKommuneNavn+'_Kumuleret')\n",
    "    # except:\n",
    "    #     print(f'Could not plot {curKommuneNavn}')"
   ]
  },
  {
   "cell_type": "code",
   "execution_count": 34,
   "metadata": {},
   "outputs": [
    {
     "data": {
      "text/plain": [
       "4"
      ]
     },
     "execution_count": 34,
     "metadata": {},
     "output_type": "execute_result"
    }
   ],
   "source": [
    "2+2"
   ]
  },
  {
   "cell_type": "code",
   "execution_count": 35,
   "metadata": {},
   "outputs": [],
   "source": [
    "plt.close('all')"
   ]
  },
  {
   "cell_type": "markdown",
   "metadata": {},
   "source": [
    "# Generate markdown for web"
   ]
  },
  {
   "cell_type": "code",
   "execution_count": 38,
   "metadata": {},
   "outputs": [
    {
     "name": "stdout",
     "output_type": "stream",
     "text": [
      "![](../Figures/KommuneAlder/Aabenraa_Antal.png) | ![](../Figures/KommuneAlder/Aabenraa_Procent.png) | ![](../Figures/KommuneAlder/Aabenraa_Kumuleret.png)\n",
      "![](../Figures/KommuneAlder/Aalborg_Antal.png) | ![](../Figures/KommuneAlder/Aalborg_Procent.png) | ![](../Figures/KommuneAlder/Aalborg_Kumuleret.png)\n",
      "![](../Figures/KommuneAlder/Albertslund_Antal.png) | ![](../Figures/KommuneAlder/Albertslund_Procent.png) | ![](../Figures/KommuneAlder/Albertslund_Kumuleret.png)\n",
      "![](../Figures/KommuneAlder/Allerød_Antal.png) | ![](../Figures/KommuneAlder/Allerød_Procent.png) | ![](../Figures/KommuneAlder/Allerød_Kumuleret.png)\n",
      "![](../Figures/KommuneAlder/Assens_Antal.png) | ![](../Figures/KommuneAlder/Assens_Procent.png) | ![](../Figures/KommuneAlder/Assens_Kumuleret.png)\n",
      "![](../Figures/KommuneAlder/Ballerup_Antal.png) | ![](../Figures/KommuneAlder/Ballerup_Procent.png) | ![](../Figures/KommuneAlder/Ballerup_Kumuleret.png)\n",
      "![](../Figures/KommuneAlder/Billund_Antal.png) | ![](../Figures/KommuneAlder/Billund_Procent.png) | ![](../Figures/KommuneAlder/Billund_Kumuleret.png)\n",
      "![](../Figures/KommuneAlder/Bornholm_Antal.png) | ![](../Figures/KommuneAlder/Bornholm_Procent.png) | ![](../Figures/KommuneAlder/Bornholm_Kumuleret.png)\n",
      "![](../Figures/KommuneAlder/Brøndby_Antal.png) | ![](../Figures/KommuneAlder/Brøndby_Procent.png) | ![](../Figures/KommuneAlder/Brøndby_Kumuleret.png)\n",
      "![](../Figures/KommuneAlder/Brønderslev_Antal.png) | ![](../Figures/KommuneAlder/Brønderslev_Procent.png) | ![](../Figures/KommuneAlder/Brønderslev_Kumuleret.png)\n",
      "![](../Figures/KommuneAlder/Dragør_Antal.png) | ![](../Figures/KommuneAlder/Dragør_Procent.png) | ![](../Figures/KommuneAlder/Dragør_Kumuleret.png)\n",
      "![](../Figures/KommuneAlder/Egedal_Antal.png) | ![](../Figures/KommuneAlder/Egedal_Procent.png) | ![](../Figures/KommuneAlder/Egedal_Kumuleret.png)\n",
      "![](../Figures/KommuneAlder/Esbjerg_Antal.png) | ![](../Figures/KommuneAlder/Esbjerg_Procent.png) | ![](../Figures/KommuneAlder/Esbjerg_Kumuleret.png)\n",
      "![](../Figures/KommuneAlder/Faaborg-Midtfyn_Antal.png) | ![](../Figures/KommuneAlder/Faaborg-Midtfyn_Procent.png) | ![](../Figures/KommuneAlder/Faaborg-Midtfyn_Kumuleret.png)\n",
      "![](../Figures/KommuneAlder/Fanø_Antal.png) | ![](../Figures/KommuneAlder/Fanø_Procent.png) | ![](../Figures/KommuneAlder/Fanø_Kumuleret.png)\n",
      "![](../Figures/KommuneAlder/Favrskov_Antal.png) | ![](../Figures/KommuneAlder/Favrskov_Procent.png) | ![](../Figures/KommuneAlder/Favrskov_Kumuleret.png)\n",
      "![](../Figures/KommuneAlder/Faxe_Antal.png) | ![](../Figures/KommuneAlder/Faxe_Procent.png) | ![](../Figures/KommuneAlder/Faxe_Kumuleret.png)\n",
      "![](../Figures/KommuneAlder/Fredensborg_Antal.png) | ![](../Figures/KommuneAlder/Fredensborg_Procent.png) | ![](../Figures/KommuneAlder/Fredensborg_Kumuleret.png)\n",
      "![](../Figures/KommuneAlder/Fredericia_Antal.png) | ![](../Figures/KommuneAlder/Fredericia_Procent.png) | ![](../Figures/KommuneAlder/Fredericia_Kumuleret.png)\n",
      "![](../Figures/KommuneAlder/Frederiksberg_Antal.png) | ![](../Figures/KommuneAlder/Frederiksberg_Procent.png) | ![](../Figures/KommuneAlder/Frederiksberg_Kumuleret.png)\n",
      "![](../Figures/KommuneAlder/Frederikshavn_Antal.png) | ![](../Figures/KommuneAlder/Frederikshavn_Procent.png) | ![](../Figures/KommuneAlder/Frederikshavn_Kumuleret.png)\n",
      "![](../Figures/KommuneAlder/Frederikssund_Antal.png) | ![](../Figures/KommuneAlder/Frederikssund_Procent.png) | ![](../Figures/KommuneAlder/Frederikssund_Kumuleret.png)\n",
      "![](../Figures/KommuneAlder/Furesø_Antal.png) | ![](../Figures/KommuneAlder/Furesø_Procent.png) | ![](../Figures/KommuneAlder/Furesø_Kumuleret.png)\n",
      "![](../Figures/KommuneAlder/Gentofte_Antal.png) | ![](../Figures/KommuneAlder/Gentofte_Procent.png) | ![](../Figures/KommuneAlder/Gentofte_Kumuleret.png)\n",
      "![](../Figures/KommuneAlder/Gladsaxe_Antal.png) | ![](../Figures/KommuneAlder/Gladsaxe_Procent.png) | ![](../Figures/KommuneAlder/Gladsaxe_Kumuleret.png)\n",
      "![](../Figures/KommuneAlder/Glostrup_Antal.png) | ![](../Figures/KommuneAlder/Glostrup_Procent.png) | ![](../Figures/KommuneAlder/Glostrup_Kumuleret.png)\n",
      "![](../Figures/KommuneAlder/Greve_Antal.png) | ![](../Figures/KommuneAlder/Greve_Procent.png) | ![](../Figures/KommuneAlder/Greve_Kumuleret.png)\n",
      "![](../Figures/KommuneAlder/Gribskov_Antal.png) | ![](../Figures/KommuneAlder/Gribskov_Procent.png) | ![](../Figures/KommuneAlder/Gribskov_Kumuleret.png)\n",
      "![](../Figures/KommuneAlder/Guldborgsund_Antal.png) | ![](../Figures/KommuneAlder/Guldborgsund_Procent.png) | ![](../Figures/KommuneAlder/Guldborgsund_Kumuleret.png)\n",
      "![](../Figures/KommuneAlder/Haderslev_Antal.png) | ![](../Figures/KommuneAlder/Haderslev_Procent.png) | ![](../Figures/KommuneAlder/Haderslev_Kumuleret.png)\n",
      "![](../Figures/KommuneAlder/Halsnæs_Antal.png) | ![](../Figures/KommuneAlder/Halsnæs_Procent.png) | ![](../Figures/KommuneAlder/Halsnæs_Kumuleret.png)\n",
      "![](../Figures/KommuneAlder/Hedensted_Antal.png) | ![](../Figures/KommuneAlder/Hedensted_Procent.png) | ![](../Figures/KommuneAlder/Hedensted_Kumuleret.png)\n",
      "![](../Figures/KommuneAlder/Helsingør_Antal.png) | ![](../Figures/KommuneAlder/Helsingør_Procent.png) | ![](../Figures/KommuneAlder/Helsingør_Kumuleret.png)\n",
      "![](../Figures/KommuneAlder/Herlev_Antal.png) | ![](../Figures/KommuneAlder/Herlev_Procent.png) | ![](../Figures/KommuneAlder/Herlev_Kumuleret.png)\n",
      "![](../Figures/KommuneAlder/Herning_Antal.png) | ![](../Figures/KommuneAlder/Herning_Procent.png) | ![](../Figures/KommuneAlder/Herning_Kumuleret.png)\n",
      "![](../Figures/KommuneAlder/Hillerød_Antal.png) | ![](../Figures/KommuneAlder/Hillerød_Procent.png) | ![](../Figures/KommuneAlder/Hillerød_Kumuleret.png)\n",
      "![](../Figures/KommuneAlder/Hjørring_Antal.png) | ![](../Figures/KommuneAlder/Hjørring_Procent.png) | ![](../Figures/KommuneAlder/Hjørring_Kumuleret.png)\n",
      "![](../Figures/KommuneAlder/Holbæk_Antal.png) | ![](../Figures/KommuneAlder/Holbæk_Procent.png) | ![](../Figures/KommuneAlder/Holbæk_Kumuleret.png)\n",
      "![](../Figures/KommuneAlder/Holstebro_Antal.png) | ![](../Figures/KommuneAlder/Holstebro_Procent.png) | ![](../Figures/KommuneAlder/Holstebro_Kumuleret.png)\n",
      "![](../Figures/KommuneAlder/Horsens_Antal.png) | ![](../Figures/KommuneAlder/Horsens_Procent.png) | ![](../Figures/KommuneAlder/Horsens_Kumuleret.png)\n",
      "![](../Figures/KommuneAlder/Hvidovre_Antal.png) | ![](../Figures/KommuneAlder/Hvidovre_Procent.png) | ![](../Figures/KommuneAlder/Hvidovre_Kumuleret.png)\n",
      "![](../Figures/KommuneAlder/Høje Tåstrup_Antal.png) | ![](../Figures/KommuneAlder/Høje Tåstrup_Procent.png) | ![](../Figures/KommuneAlder/Høje Tåstrup_Kumuleret.png)\n",
      "![](../Figures/KommuneAlder/Hørsholm_Antal.png) | ![](../Figures/KommuneAlder/Hørsholm_Procent.png) | ![](../Figures/KommuneAlder/Hørsholm_Kumuleret.png)\n",
      "![](../Figures/KommuneAlder/Ikast-Brande_Antal.png) | ![](../Figures/KommuneAlder/Ikast-Brande_Procent.png) | ![](../Figures/KommuneAlder/Ikast-Brande_Kumuleret.png)\n",
      "![](../Figures/KommuneAlder/Ishøj_Antal.png) | ![](../Figures/KommuneAlder/Ishøj_Procent.png) | ![](../Figures/KommuneAlder/Ishøj_Kumuleret.png)\n",
      "![](../Figures/KommuneAlder/Jammerbugt_Antal.png) | ![](../Figures/KommuneAlder/Jammerbugt_Procent.png) | ![](../Figures/KommuneAlder/Jammerbugt_Kumuleret.png)\n",
      "![](../Figures/KommuneAlder/Kalundborg_Antal.png) | ![](../Figures/KommuneAlder/Kalundborg_Procent.png) | ![](../Figures/KommuneAlder/Kalundborg_Kumuleret.png)\n",
      "![](../Figures/KommuneAlder/Kerteminde_Antal.png) | ![](../Figures/KommuneAlder/Kerteminde_Procent.png) | ![](../Figures/KommuneAlder/Kerteminde_Kumuleret.png)\n",
      "![](../Figures/KommuneAlder/Kolding_Antal.png) | ![](../Figures/KommuneAlder/Kolding_Procent.png) | ![](../Figures/KommuneAlder/Kolding_Kumuleret.png)\n",
      "![](../Figures/KommuneAlder/København_Antal.png) | ![](../Figures/KommuneAlder/København_Procent.png) | ![](../Figures/KommuneAlder/København_Kumuleret.png)\n",
      "![](../Figures/KommuneAlder/Køge_Antal.png) | ![](../Figures/KommuneAlder/Køge_Procent.png) | ![](../Figures/KommuneAlder/Køge_Kumuleret.png)\n",
      "![](../Figures/KommuneAlder/Langeland_Antal.png) | ![](../Figures/KommuneAlder/Langeland_Procent.png) | ![](../Figures/KommuneAlder/Langeland_Kumuleret.png)\n",
      "![](../Figures/KommuneAlder/Lejre_Antal.png) | ![](../Figures/KommuneAlder/Lejre_Procent.png) | ![](../Figures/KommuneAlder/Lejre_Kumuleret.png)\n",
      "![](../Figures/KommuneAlder/Lemvig_Antal.png) | ![](../Figures/KommuneAlder/Lemvig_Procent.png) | ![](../Figures/KommuneAlder/Lemvig_Kumuleret.png)\n",
      "![](../Figures/KommuneAlder/Lolland_Antal.png) | ![](../Figures/KommuneAlder/Lolland_Procent.png) | ![](../Figures/KommuneAlder/Lolland_Kumuleret.png)\n",
      "![](../Figures/KommuneAlder/Lyngby-Taarbæk_Antal.png) | ![](../Figures/KommuneAlder/Lyngby-Taarbæk_Procent.png) | ![](../Figures/KommuneAlder/Lyngby-Taarbæk_Kumuleret.png)\n",
      "![](../Figures/KommuneAlder/Læsø_Antal.png) | ![](../Figures/KommuneAlder/Læsø_Procent.png) | ![](../Figures/KommuneAlder/Læsø_Kumuleret.png)\n",
      "![](../Figures/KommuneAlder/Mariagerfjord_Antal.png) | ![](../Figures/KommuneAlder/Mariagerfjord_Procent.png) | ![](../Figures/KommuneAlder/Mariagerfjord_Kumuleret.png)\n",
      "![](../Figures/KommuneAlder/Middelfart_Antal.png) | ![](../Figures/KommuneAlder/Middelfart_Procent.png) | ![](../Figures/KommuneAlder/Middelfart_Kumuleret.png)\n",
      "![](../Figures/KommuneAlder/Morsø_Antal.png) | ![](../Figures/KommuneAlder/Morsø_Procent.png) | ![](../Figures/KommuneAlder/Morsø_Kumuleret.png)\n",
      "![](../Figures/KommuneAlder/Norddjurs_Antal.png) | ![](../Figures/KommuneAlder/Norddjurs_Procent.png) | ![](../Figures/KommuneAlder/Norddjurs_Kumuleret.png)\n",
      "![](../Figures/KommuneAlder/Nordfyn_Antal.png) | ![](../Figures/KommuneAlder/Nordfyn_Procent.png) | ![](../Figures/KommuneAlder/Nordfyn_Kumuleret.png)\n",
      "![](../Figures/KommuneAlder/Nyborg_Antal.png) | ![](../Figures/KommuneAlder/Nyborg_Procent.png) | ![](../Figures/KommuneAlder/Nyborg_Kumuleret.png)\n",
      "![](../Figures/KommuneAlder/Næstved_Antal.png) | ![](../Figures/KommuneAlder/Næstved_Procent.png) | ![](../Figures/KommuneAlder/Næstved_Kumuleret.png)\n",
      "![](../Figures/KommuneAlder/Odder_Antal.png) | ![](../Figures/KommuneAlder/Odder_Procent.png) | ![](../Figures/KommuneAlder/Odder_Kumuleret.png)\n",
      "![](../Figures/KommuneAlder/Odense_Antal.png) | ![](../Figures/KommuneAlder/Odense_Procent.png) | ![](../Figures/KommuneAlder/Odense_Kumuleret.png)\n",
      "![](../Figures/KommuneAlder/Odsherred_Antal.png) | ![](../Figures/KommuneAlder/Odsherred_Procent.png) | ![](../Figures/KommuneAlder/Odsherred_Kumuleret.png)\n",
      "![](../Figures/KommuneAlder/Randers_Antal.png) | ![](../Figures/KommuneAlder/Randers_Procent.png) | ![](../Figures/KommuneAlder/Randers_Kumuleret.png)\n",
      "![](../Figures/KommuneAlder/Rebild_Antal.png) | ![](../Figures/KommuneAlder/Rebild_Procent.png) | ![](../Figures/KommuneAlder/Rebild_Kumuleret.png)\n",
      "![](../Figures/KommuneAlder/Ringkøbing-Skjern_Antal.png) | ![](../Figures/KommuneAlder/Ringkøbing-Skjern_Procent.png) | ![](../Figures/KommuneAlder/Ringkøbing-Skjern_Kumuleret.png)\n",
      "![](../Figures/KommuneAlder/Ringsted_Antal.png) | ![](../Figures/KommuneAlder/Ringsted_Procent.png) | ![](../Figures/KommuneAlder/Ringsted_Kumuleret.png)\n",
      "![](../Figures/KommuneAlder/Roskilde_Antal.png) | ![](../Figures/KommuneAlder/Roskilde_Procent.png) | ![](../Figures/KommuneAlder/Roskilde_Kumuleret.png)\n",
      "![](../Figures/KommuneAlder/Rudersdal_Antal.png) | ![](../Figures/KommuneAlder/Rudersdal_Procent.png) | ![](../Figures/KommuneAlder/Rudersdal_Kumuleret.png)\n",
      "![](../Figures/KommuneAlder/Rødovre_Antal.png) | ![](../Figures/KommuneAlder/Rødovre_Procent.png) | ![](../Figures/KommuneAlder/Rødovre_Kumuleret.png)\n",
      "![](../Figures/KommuneAlder/Samsø_Antal.png) | ![](../Figures/KommuneAlder/Samsø_Procent.png) | ![](../Figures/KommuneAlder/Samsø_Kumuleret.png)\n",
      "![](../Figures/KommuneAlder/Silkeborg_Antal.png) | ![](../Figures/KommuneAlder/Silkeborg_Procent.png) | ![](../Figures/KommuneAlder/Silkeborg_Kumuleret.png)\n",
      "![](../Figures/KommuneAlder/Skanderborg_Antal.png) | ![](../Figures/KommuneAlder/Skanderborg_Procent.png) | ![](../Figures/KommuneAlder/Skanderborg_Kumuleret.png)\n",
      "![](../Figures/KommuneAlder/Skive_Antal.png) | ![](../Figures/KommuneAlder/Skive_Procent.png) | ![](../Figures/KommuneAlder/Skive_Kumuleret.png)\n",
      "![](../Figures/KommuneAlder/Slagelse_Antal.png) | ![](../Figures/KommuneAlder/Slagelse_Procent.png) | ![](../Figures/KommuneAlder/Slagelse_Kumuleret.png)\n",
      "![](../Figures/KommuneAlder/Solrød_Antal.png) | ![](../Figures/KommuneAlder/Solrød_Procent.png) | ![](../Figures/KommuneAlder/Solrød_Kumuleret.png)\n",
      "![](../Figures/KommuneAlder/Sorø_Antal.png) | ![](../Figures/KommuneAlder/Sorø_Procent.png) | ![](../Figures/KommuneAlder/Sorø_Kumuleret.png)\n",
      "![](../Figures/KommuneAlder/Stevns_Antal.png) | ![](../Figures/KommuneAlder/Stevns_Procent.png) | ![](../Figures/KommuneAlder/Stevns_Kumuleret.png)\n",
      "![](../Figures/KommuneAlder/Struer_Antal.png) | ![](../Figures/KommuneAlder/Struer_Procent.png) | ![](../Figures/KommuneAlder/Struer_Kumuleret.png)\n",
      "![](../Figures/KommuneAlder/Svendborg_Antal.png) | ![](../Figures/KommuneAlder/Svendborg_Procent.png) | ![](../Figures/KommuneAlder/Svendborg_Kumuleret.png)\n",
      "![](../Figures/KommuneAlder/Syddjurs_Antal.png) | ![](../Figures/KommuneAlder/Syddjurs_Procent.png) | ![](../Figures/KommuneAlder/Syddjurs_Kumuleret.png)\n",
      "![](../Figures/KommuneAlder/Sønderborg_Antal.png) | ![](../Figures/KommuneAlder/Sønderborg_Procent.png) | ![](../Figures/KommuneAlder/Sønderborg_Kumuleret.png)\n",
      "![](../Figures/KommuneAlder/Thisted_Antal.png) | ![](../Figures/KommuneAlder/Thisted_Procent.png) | ![](../Figures/KommuneAlder/Thisted_Kumuleret.png)\n",
      "![](../Figures/KommuneAlder/Tårnby_Antal.png) | ![](../Figures/KommuneAlder/Tårnby_Procent.png) | ![](../Figures/KommuneAlder/Tårnby_Kumuleret.png)\n",
      "![](../Figures/KommuneAlder/Tønder_Antal.png) | ![](../Figures/KommuneAlder/Tønder_Procent.png) | ![](../Figures/KommuneAlder/Tønder_Kumuleret.png)\n",
      "![](../Figures/KommuneAlder/Vallensbæk_Antal.png) | ![](../Figures/KommuneAlder/Vallensbæk_Procent.png) | ![](../Figures/KommuneAlder/Vallensbæk_Kumuleret.png)\n",
      "![](../Figures/KommuneAlder/Varde_Antal.png) | ![](../Figures/KommuneAlder/Varde_Procent.png) | ![](../Figures/KommuneAlder/Varde_Kumuleret.png)\n",
      "![](../Figures/KommuneAlder/Vejen_Antal.png) | ![](../Figures/KommuneAlder/Vejen_Procent.png) | ![](../Figures/KommuneAlder/Vejen_Kumuleret.png)\n",
      "![](../Figures/KommuneAlder/Vejle_Antal.png) | ![](../Figures/KommuneAlder/Vejle_Procent.png) | ![](../Figures/KommuneAlder/Vejle_Kumuleret.png)\n",
      "![](../Figures/KommuneAlder/Vesthimmerland_Antal.png) | ![](../Figures/KommuneAlder/Vesthimmerland_Procent.png) | ![](../Figures/KommuneAlder/Vesthimmerland_Kumuleret.png)\n",
      "![](../Figures/KommuneAlder/Viborg_Antal.png) | ![](../Figures/KommuneAlder/Viborg_Procent.png) | ![](../Figures/KommuneAlder/Viborg_Kumuleret.png)\n",
      "![](../Figures/KommuneAlder/Vordingborg_Antal.png) | ![](../Figures/KommuneAlder/Vordingborg_Procent.png) | ![](../Figures/KommuneAlder/Vordingborg_Kumuleret.png)\n",
      "![](../Figures/KommuneAlder/Århus_Antal.png) | ![](../Figures/KommuneAlder/Århus_Procent.png) | ![](../Figures/KommuneAlder/Århus_Kumuleret.png)\n",
      "![](../Figures/KommuneAlder/Ærø_Antal.png) | ![](../Figures/KommuneAlder/Ærø_Procent.png) | ![](../Figures/KommuneAlder/Ærø_Kumuleret.png)\n"
     ]
    }
   ],
   "source": [
    "\n",
    "posKommuneNavn = np.sort(df_kommunekort.index.values[1:])\n",
    "\n",
    "for curKommuneNavn in posKommuneNavn:\n",
    "\n",
    "    print(f'![](../Figures/KommuneAlder/{curKommuneNavn}_Antal.png) | ![](../Figures/KommuneAlder/{curKommuneNavn}_Procent.png) | ![](../Figures/KommuneAlder/{curKommuneNavn}_Kumuleret.png)')\n"
   ]
  }
 ],
 "metadata": {
  "interpreter": {
   "hash": "c031fd63bd977d199cd6020c30a19695eacbb638d100e0b8a5ea53080ed74a9a"
  },
  "kernelspec": {
   "display_name": "Python 3.8.12 64-bit ('main': conda)",
   "language": "python",
   "name": "python3"
  },
  "language_info": {
   "codemirror_mode": {
    "name": "ipython",
    "version": 3
   },
   "file_extension": ".py",
   "mimetype": "text/x-python",
   "name": "python",
   "nbconvert_exporter": "python",
   "pygments_lexer": "ipython3",
   "version": "3.8.12"
  },
  "orig_nbformat": 4
 },
 "nbformat": 4,
 "nbformat_minor": 2
}
