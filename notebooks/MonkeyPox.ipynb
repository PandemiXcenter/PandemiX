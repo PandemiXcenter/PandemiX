{
 "cells": [
  {
   "cell_type": "markdown",
   "id": "67ded1c7",
   "metadata": {},
   "source": [
    "# Monkeypox figures"
   ]
  },
  {
   "cell_type": "code",
   "execution_count": 77,
   "id": "feea9547",
   "metadata": {},
   "outputs": [],
   "source": [
    "import pandas as pd\n",
    "import matplotlib.pyplot as plt\n",
    "import squarify \n",
    "import os\n",
    "\n",
    "\n",
    "path_figs = os.getcwd() +\"/../Figures/\""
   ]
  },
  {
   "cell_type": "code",
   "execution_count": 78,
   "id": "12e24b01",
   "metadata": {},
   "outputs": [],
   "source": [
    "#Load newest data from raw file (Monkeypox_Public_www.global.health)\n",
    "df = pd.read_csv(\"https://raw.githubusercontent.com/globaldothealth/monkeypox/main/latest.csv\")"
   ]
  },
  {
   "cell_type": "code",
   "execution_count": 79,
   "id": "00d79cda",
   "metadata": {},
   "outputs": [
    {
     "data": {
      "text/plain": [
       "Index(['ID', 'Status', 'Location', 'City', 'Country', 'Age', 'Gender',\n",
       "       'Date_onset', 'Date_confirmation', 'Symptoms', 'Hospitalised (Y/N/NA)',\n",
       "       'Date_hospitalisation', 'Isolated (Y/N/NA)', 'Date_isolation',\n",
       "       'Outcome', 'Contact_comment', 'Contact_ID', 'Contact_location',\n",
       "       'Travel_history (Y/N/NA)', 'Travel_history_entry',\n",
       "       'Travel_history_start', 'Travel_history_location',\n",
       "       'Travel_history_country', 'Genomics_Metadata', 'Confirmation_method',\n",
       "       'Notes', 'Source', 'Source_II', 'Date_entry', 'Date_last_modified',\n",
       "       'Source_III', 'Unnamed: 31'],\n",
       "      dtype='object')"
      ]
     },
     "execution_count": 79,
     "metadata": {},
     "output_type": "execute_result"
    }
   ],
   "source": [
    "df.columns"
   ]
  },
  {
   "cell_type": "code",
   "execution_count": 80,
   "id": "8dbcf77c",
   "metadata": {},
   "outputs": [
    {
     "data": {
      "text/plain": [
       "male      144\n",
       "female      3\n",
       "Name: Gender, dtype: int64"
      ]
     },
     "execution_count": 80,
     "metadata": {},
     "output_type": "execute_result"
    }
   ],
   "source": [
    "df[\"Gender\"].value_counts()"
   ]
  },
  {
   "cell_type": "code",
   "execution_count": 81,
   "id": "ed164314",
   "metadata": {},
   "outputs": [
    {
     "data": {
      "text/plain": [
       "0       NaN\n",
       "1       NaN\n",
       "2       NaN\n",
       "3      male\n",
       "4      male\n",
       "       ... \n",
       "307     NaN\n",
       "308     NaN\n",
       "309     NaN\n",
       "310     NaN\n",
       "311     NaN\n",
       "Name: Gender, Length: 312, dtype: object"
      ]
     },
     "execution_count": 81,
     "metadata": {},
     "output_type": "execute_result"
    }
   ],
   "source": [
    "df[\"Gender\"]"
   ]
  },
  {
   "cell_type": "code",
   "execution_count": 82,
   "id": "ac9da64a",
   "metadata": {},
   "outputs": [
    {
     "data": {
      "text/html": [
       "<div>\n",
       "<style scoped>\n",
       "    .dataframe tbody tr th:only-of-type {\n",
       "        vertical-align: middle;\n",
       "    }\n",
       "\n",
       "    .dataframe tbody tr th {\n",
       "        vertical-align: top;\n",
       "    }\n",
       "\n",
       "    .dataframe thead th {\n",
       "        text-align: right;\n",
       "    }\n",
       "</style>\n",
       "<table border=\"1\" class=\"dataframe\">\n",
       "  <thead>\n",
       "    <tr style=\"text-align: right;\">\n",
       "      <th></th>\n",
       "      <th>ID</th>\n",
       "      <th>Status</th>\n",
       "      <th>Location</th>\n",
       "      <th>City</th>\n",
       "      <th>Country</th>\n",
       "      <th>Age</th>\n",
       "      <th>Gender</th>\n",
       "      <th>Date_onset</th>\n",
       "      <th>Date_confirmation</th>\n",
       "      <th>Symptoms</th>\n",
       "      <th>...</th>\n",
       "      <th>Travel_history_country</th>\n",
       "      <th>Genomics_Metadata</th>\n",
       "      <th>Confirmation_method</th>\n",
       "      <th>Notes</th>\n",
       "      <th>Source</th>\n",
       "      <th>Source_II</th>\n",
       "      <th>Date_entry</th>\n",
       "      <th>Date_last_modified</th>\n",
       "      <th>Source_III</th>\n",
       "      <th>Unnamed: 31</th>\n",
       "    </tr>\n",
       "  </thead>\n",
       "  <tbody>\n",
       "    <tr>\n",
       "      <th>0</th>\n",
       "      <td>1</td>\n",
       "      <td>confirmed</td>\n",
       "      <td>Guy's and St Thomas Hospital London</td>\n",
       "      <td>London</td>\n",
       "      <td>England</td>\n",
       "      <td>NaN</td>\n",
       "      <td>NaN</td>\n",
       "      <td>2022-04-29</td>\n",
       "      <td>2022-05-06</td>\n",
       "      <td>rash</td>\n",
       "      <td>...</td>\n",
       "      <td>Nigeria</td>\n",
       "      <td>West African Clade</td>\n",
       "      <td>RT-PCR</td>\n",
       "      <td>NaN</td>\n",
       "      <td>https://www.gov.uk/government/news/monkeypox-c...</td>\n",
       "      <td>https://www.who.int/emergencies/disease-outbre...</td>\n",
       "      <td>2022-05-18</td>\n",
       "      <td>2022-05-18</td>\n",
       "      <td>NaN</td>\n",
       "      <td>NaN</td>\n",
       "    </tr>\n",
       "    <tr>\n",
       "      <th>1</th>\n",
       "      <td>2</td>\n",
       "      <td>confirmed</td>\n",
       "      <td>Guy's and St Thomas Hospital London</td>\n",
       "      <td>London</td>\n",
       "      <td>England</td>\n",
       "      <td>NaN</td>\n",
       "      <td>NaN</td>\n",
       "      <td>2022-05-05</td>\n",
       "      <td>2022-05-12</td>\n",
       "      <td>rash</td>\n",
       "      <td>...</td>\n",
       "      <td>NaN</td>\n",
       "      <td>West African Clade</td>\n",
       "      <td>RT-PCR</td>\n",
       "      <td>NaN</td>\n",
       "      <td>https://www.gov.uk/government/news/monkeypox-c...</td>\n",
       "      <td>NaN</td>\n",
       "      <td>2022-05-18</td>\n",
       "      <td>2022-05-18</td>\n",
       "      <td>NaN</td>\n",
       "      <td>NaN</td>\n",
       "    </tr>\n",
       "    <tr>\n",
       "      <th>2</th>\n",
       "      <td>3</td>\n",
       "      <td>confirmed</td>\n",
       "      <td>London</td>\n",
       "      <td>London</td>\n",
       "      <td>England</td>\n",
       "      <td>NaN</td>\n",
       "      <td>NaN</td>\n",
       "      <td>2022-04-30</td>\n",
       "      <td>2022-05-13</td>\n",
       "      <td>vesicular rash</td>\n",
       "      <td>...</td>\n",
       "      <td>NaN</td>\n",
       "      <td>West African Clade</td>\n",
       "      <td>RT-PCR</td>\n",
       "      <td>NaN</td>\n",
       "      <td>https://www.gov.uk/government/news/monkeypox-c...</td>\n",
       "      <td>NaN</td>\n",
       "      <td>2022-05-18</td>\n",
       "      <td>2022-05-18</td>\n",
       "      <td>NaN</td>\n",
       "      <td>NaN</td>\n",
       "    </tr>\n",
       "    <tr>\n",
       "      <th>3</th>\n",
       "      <td>4</td>\n",
       "      <td>confirmed</td>\n",
       "      <td>London</td>\n",
       "      <td>London</td>\n",
       "      <td>England</td>\n",
       "      <td>NaN</td>\n",
       "      <td>male</td>\n",
       "      <td>NaN</td>\n",
       "      <td>2022-05-15</td>\n",
       "      <td>vesicular rash</td>\n",
       "      <td>...</td>\n",
       "      <td>NaN</td>\n",
       "      <td>West African Clade</td>\n",
       "      <td>NaN</td>\n",
       "      <td>MSM</td>\n",
       "      <td>https://www.gov.uk/government/news/monkeypox-c...</td>\n",
       "      <td>NaN</td>\n",
       "      <td>2022-05-18</td>\n",
       "      <td>2022-05-18</td>\n",
       "      <td>NaN</td>\n",
       "      <td>NaN</td>\n",
       "    </tr>\n",
       "    <tr>\n",
       "      <th>4</th>\n",
       "      <td>5</td>\n",
       "      <td>confirmed</td>\n",
       "      <td>London</td>\n",
       "      <td>London</td>\n",
       "      <td>England</td>\n",
       "      <td>NaN</td>\n",
       "      <td>male</td>\n",
       "      <td>NaN</td>\n",
       "      <td>2022-05-15</td>\n",
       "      <td>vesicular rash</td>\n",
       "      <td>...</td>\n",
       "      <td>NaN</td>\n",
       "      <td>West African Clade</td>\n",
       "      <td>NaN</td>\n",
       "      <td>MSM</td>\n",
       "      <td>https://www.gov.uk/government/news/monkeypox-c...</td>\n",
       "      <td>NaN</td>\n",
       "      <td>2022-05-18</td>\n",
       "      <td>2022-05-18</td>\n",
       "      <td>NaN</td>\n",
       "      <td>NaN</td>\n",
       "    </tr>\n",
       "    <tr>\n",
       "      <th>...</th>\n",
       "      <td>...</td>\n",
       "      <td>...</td>\n",
       "      <td>...</td>\n",
       "      <td>...</td>\n",
       "      <td>...</td>\n",
       "      <td>...</td>\n",
       "      <td>...</td>\n",
       "      <td>...</td>\n",
       "      <td>...</td>\n",
       "      <td>...</td>\n",
       "      <td>...</td>\n",
       "      <td>...</td>\n",
       "      <td>...</td>\n",
       "      <td>...</td>\n",
       "      <td>...</td>\n",
       "      <td>...</td>\n",
       "      <td>...</td>\n",
       "      <td>...</td>\n",
       "      <td>...</td>\n",
       "      <td>...</td>\n",
       "      <td>...</td>\n",
       "    </tr>\n",
       "    <tr>\n",
       "      <th>307</th>\n",
       "      <td>308</td>\n",
       "      <td>confirmed</td>\n",
       "      <td>NaN</td>\n",
       "      <td>NaN</td>\n",
       "      <td>Spain</td>\n",
       "      <td>NaN</td>\n",
       "      <td>NaN</td>\n",
       "      <td>NaN</td>\n",
       "      <td>2022-05-24</td>\n",
       "      <td>NaN</td>\n",
       "      <td>...</td>\n",
       "      <td>NaN</td>\n",
       "      <td>NaN</td>\n",
       "      <td>PCR</td>\n",
       "      <td>15 new cases confirmed May 24 (for a total of ...</td>\n",
       "      <td>https://westobserver.com/news/europe/health-ra...</td>\n",
       "      <td>NaN</td>\n",
       "      <td>NaN</td>\n",
       "      <td>NaN</td>\n",
       "      <td>NaN</td>\n",
       "      <td>NaN</td>\n",
       "    </tr>\n",
       "    <tr>\n",
       "      <th>308</th>\n",
       "      <td>309</td>\n",
       "      <td>confirmed</td>\n",
       "      <td>NaN</td>\n",
       "      <td>NaN</td>\n",
       "      <td>Spain</td>\n",
       "      <td>NaN</td>\n",
       "      <td>NaN</td>\n",
       "      <td>NaN</td>\n",
       "      <td>2022-05-24</td>\n",
       "      <td>NaN</td>\n",
       "      <td>...</td>\n",
       "      <td>NaN</td>\n",
       "      <td>NaN</td>\n",
       "      <td>PCR</td>\n",
       "      <td>15 new cases confirmed May 24 (for a total of ...</td>\n",
       "      <td>https://westobserver.com/news/europe/health-ra...</td>\n",
       "      <td>NaN</td>\n",
       "      <td>NaN</td>\n",
       "      <td>NaN</td>\n",
       "      <td>NaN</td>\n",
       "      <td>NaN</td>\n",
       "    </tr>\n",
       "    <tr>\n",
       "      <th>309</th>\n",
       "      <td>310</td>\n",
       "      <td>confirmed</td>\n",
       "      <td>NaN</td>\n",
       "      <td>NaN</td>\n",
       "      <td>Spain</td>\n",
       "      <td>NaN</td>\n",
       "      <td>NaN</td>\n",
       "      <td>NaN</td>\n",
       "      <td>2022-05-24</td>\n",
       "      <td>NaN</td>\n",
       "      <td>...</td>\n",
       "      <td>NaN</td>\n",
       "      <td>NaN</td>\n",
       "      <td>PCR</td>\n",
       "      <td>15 new cases confirmed May 24 (for a total of ...</td>\n",
       "      <td>https://westobserver.com/news/europe/health-ra...</td>\n",
       "      <td>NaN</td>\n",
       "      <td>NaN</td>\n",
       "      <td>NaN</td>\n",
       "      <td>NaN</td>\n",
       "      <td>NaN</td>\n",
       "    </tr>\n",
       "    <tr>\n",
       "      <th>310</th>\n",
       "      <td>311</td>\n",
       "      <td>confirmed</td>\n",
       "      <td>NaN</td>\n",
       "      <td>NaN</td>\n",
       "      <td>Spain</td>\n",
       "      <td>NaN</td>\n",
       "      <td>NaN</td>\n",
       "      <td>NaN</td>\n",
       "      <td>2022-05-24</td>\n",
       "      <td>NaN</td>\n",
       "      <td>...</td>\n",
       "      <td>NaN</td>\n",
       "      <td>NaN</td>\n",
       "      <td>PCR</td>\n",
       "      <td>15 new cases confirmed May 24 (for a total of ...</td>\n",
       "      <td>https://westobserver.com/news/europe/health-ra...</td>\n",
       "      <td>NaN</td>\n",
       "      <td>NaN</td>\n",
       "      <td>NaN</td>\n",
       "      <td>NaN</td>\n",
       "      <td>NaN</td>\n",
       "    </tr>\n",
       "    <tr>\n",
       "      <th>311</th>\n",
       "      <td>312</td>\n",
       "      <td>confirmed</td>\n",
       "      <td>NaN</td>\n",
       "      <td>NaN</td>\n",
       "      <td>Spain</td>\n",
       "      <td>NaN</td>\n",
       "      <td>NaN</td>\n",
       "      <td>NaN</td>\n",
       "      <td>2022-05-24</td>\n",
       "      <td>NaN</td>\n",
       "      <td>...</td>\n",
       "      <td>NaN</td>\n",
       "      <td>NaN</td>\n",
       "      <td>PCR</td>\n",
       "      <td>15 new cases confirmed May 24 (for a total of ...</td>\n",
       "      <td>https://westobserver.com/news/europe/health-ra...</td>\n",
       "      <td>NaN</td>\n",
       "      <td>NaN</td>\n",
       "      <td>NaN</td>\n",
       "      <td>NaN</td>\n",
       "      <td>NaN</td>\n",
       "    </tr>\n",
       "  </tbody>\n",
       "</table>\n",
       "<p>312 rows × 32 columns</p>\n",
       "</div>"
      ],
      "text/plain": [
       "      ID     Status                             Location    City  Country  \\\n",
       "0      1  confirmed  Guy's and St Thomas Hospital London  London  England   \n",
       "1      2  confirmed  Guy's and St Thomas Hospital London  London  England   \n",
       "2      3  confirmed                               London  London  England   \n",
       "3      4  confirmed                               London  London  England   \n",
       "4      5  confirmed                               London  London  England   \n",
       "..   ...        ...                                  ...     ...      ...   \n",
       "307  308  confirmed                                  NaN     NaN    Spain   \n",
       "308  309  confirmed                                  NaN     NaN    Spain   \n",
       "309  310  confirmed                                  NaN     NaN    Spain   \n",
       "310  311  confirmed                                  NaN     NaN    Spain   \n",
       "311  312  confirmed                                  NaN     NaN    Spain   \n",
       "\n",
       "     Age Gender  Date_onset Date_confirmation        Symptoms  ...  \\\n",
       "0    NaN    NaN  2022-04-29        2022-05-06            rash  ...   \n",
       "1    NaN    NaN  2022-05-05        2022-05-12            rash  ...   \n",
       "2    NaN    NaN  2022-04-30        2022-05-13  vesicular rash  ...   \n",
       "3    NaN   male         NaN        2022-05-15  vesicular rash  ...   \n",
       "4    NaN   male         NaN        2022-05-15  vesicular rash  ...   \n",
       "..   ...    ...         ...               ...             ...  ...   \n",
       "307  NaN    NaN         NaN        2022-05-24             NaN  ...   \n",
       "308  NaN    NaN         NaN        2022-05-24             NaN  ...   \n",
       "309  NaN    NaN         NaN        2022-05-24             NaN  ...   \n",
       "310  NaN    NaN         NaN        2022-05-24             NaN  ...   \n",
       "311  NaN    NaN         NaN        2022-05-24             NaN  ...   \n",
       "\n",
       "    Travel_history_country   Genomics_Metadata Confirmation_method  \\\n",
       "0                  Nigeria  West African Clade              RT-PCR   \n",
       "1                      NaN  West African Clade              RT-PCR   \n",
       "2                      NaN  West African Clade              RT-PCR   \n",
       "3                      NaN  West African Clade                 NaN   \n",
       "4                      NaN  West African Clade                 NaN   \n",
       "..                     ...                 ...                 ...   \n",
       "307                    NaN                 NaN                 PCR   \n",
       "308                    NaN                 NaN                 PCR   \n",
       "309                    NaN                 NaN                 PCR   \n",
       "310                    NaN                 NaN                 PCR   \n",
       "311                    NaN                 NaN                 PCR   \n",
       "\n",
       "                                                 Notes  \\\n",
       "0                                                  NaN   \n",
       "1                                                  NaN   \n",
       "2                                                  NaN   \n",
       "3                                                  MSM   \n",
       "4                                                  MSM   \n",
       "..                                                 ...   \n",
       "307  15 new cases confirmed May 24 (for a total of ...   \n",
       "308  15 new cases confirmed May 24 (for a total of ...   \n",
       "309  15 new cases confirmed May 24 (for a total of ...   \n",
       "310  15 new cases confirmed May 24 (for a total of ...   \n",
       "311  15 new cases confirmed May 24 (for a total of ...   \n",
       "\n",
       "                                                Source  \\\n",
       "0    https://www.gov.uk/government/news/monkeypox-c...   \n",
       "1    https://www.gov.uk/government/news/monkeypox-c...   \n",
       "2    https://www.gov.uk/government/news/monkeypox-c...   \n",
       "3    https://www.gov.uk/government/news/monkeypox-c...   \n",
       "4    https://www.gov.uk/government/news/monkeypox-c...   \n",
       "..                                                 ...   \n",
       "307  https://westobserver.com/news/europe/health-ra...   \n",
       "308  https://westobserver.com/news/europe/health-ra...   \n",
       "309  https://westobserver.com/news/europe/health-ra...   \n",
       "310  https://westobserver.com/news/europe/health-ra...   \n",
       "311  https://westobserver.com/news/europe/health-ra...   \n",
       "\n",
       "                                             Source_II  Date_entry  \\\n",
       "0    https://www.who.int/emergencies/disease-outbre...  2022-05-18   \n",
       "1                                                  NaN  2022-05-18   \n",
       "2                                                  NaN  2022-05-18   \n",
       "3                                                  NaN  2022-05-18   \n",
       "4                                                  NaN  2022-05-18   \n",
       "..                                                 ...         ...   \n",
       "307                                                NaN         NaN   \n",
       "308                                                NaN         NaN   \n",
       "309                                                NaN         NaN   \n",
       "310                                                NaN         NaN   \n",
       "311                                                NaN         NaN   \n",
       "\n",
       "    Date_last_modified Source_III Unnamed: 31  \n",
       "0           2022-05-18        NaN         NaN  \n",
       "1           2022-05-18        NaN         NaN  \n",
       "2           2022-05-18        NaN         NaN  \n",
       "3           2022-05-18        NaN         NaN  \n",
       "4           2022-05-18        NaN         NaN  \n",
       "..                 ...        ...         ...  \n",
       "307                NaN        NaN         NaN  \n",
       "308                NaN        NaN         NaN  \n",
       "309                NaN        NaN         NaN  \n",
       "310                NaN        NaN         NaN  \n",
       "311                NaN        NaN         NaN  \n",
       "\n",
       "[312 rows x 32 columns]"
      ]
     },
     "execution_count": 82,
     "metadata": {},
     "output_type": "execute_result"
    }
   ],
   "source": [
    "df"
   ]
  },
  {
   "cell_type": "markdown",
   "id": "475fb0da",
   "metadata": {},
   "source": [
    "### Gender plot"
   ]
  },
  {
   "cell_type": "code",
   "execution_count": 84,
   "id": "a01404f3",
   "metadata": {},
   "outputs": [
    {
     "data": {
      "image/png": "[encoded data removed]",
      "text/plain": [
       "<Figure size 960x640 with 1 Axes>"
      ]
     },
     "metadata": {
      "needs_background": "light"
     },
     "output_type": "display_data"
    }
   ],
   "source": [
    "# Prepare Data\n",
    "df_1 = df\n",
    "df_1['Gender'] = df_1['Gender'].fillna('No data')\n",
    "df_1 = df_1.groupby('Gender').size().reset_index(name='counts')\n",
    "labels = df_1.apply(lambda x: str(x[0]) + \"\\n (\" + str(x[1]) + \")\", axis=1)\n",
    "sizes = df_1['counts'].values.tolist()\n",
    "colors = [plt.cm.Spectral(i/float(len(labels))) for i in range(len(labels))]\n",
    "colors = ['grey','r','b']\n",
    "# Draw Plot\n",
    "plt.figure(figsize=(12,8), dpi= 80)\n",
    "squarify.plot(sizes=sizes, label=labels, color=colors, alpha=.8)\n",
    "\n",
    "# Decorate\n",
    "plt.title('Monkey pox gender of cases')\n",
    "plt.axis('off')\n",
    "#plt.show()\n",
    "plt.savefig(path_figs+f\"MonkeyPox_gender\", bbox_inches = 'tight')"
   ]
  },
  {
   "cell_type": "markdown",
   "id": "052ea2c1",
   "metadata": {},
   "source": [
    "## Age plot"
   ]
  },
  {
   "cell_type": "code",
   "execution_count": 33,
   "id": "a3ad6ff6",
   "metadata": {},
   "outputs": [],
   "source": [
    "df_x = df\n",
    "#df_x['Age'] = df_x['Age'].fillna('No data')\n",
    "df_x.dropna(subset = [\"Age\"], inplace=True)"
   ]
  },
  {
   "cell_type": "code",
   "execution_count": 34,
   "id": "a5be15b7",
   "metadata": {},
   "outputs": [
    {
     "data": {
      "text/plain": [
       "(array([34., 17.,  1.,  3.,  2.,  2.,  2.,  1.,  1.,  3.]),\n",
       " array([ 0.,  1.,  2.,  3.,  4.,  5.,  6.,  7.,  8.,  9., 10.]),\n",
       " <BarContainer object of 10 artists>)"
      ]
     },
     "execution_count": 34,
     "metadata": {},
     "output_type": "execute_result"
    },
    {
     "data": {
      "image/png": "[encoded data removed]",
      "text/plain": [
       "<Figure size 432x288 with 1 Axes>"
      ]
     },
     "metadata": {
      "needs_background": "light"
     },
     "output_type": "display_data"
    }
   ],
   "source": [
    "fig, ax = plt.subplots()\n",
    "ax.hist(df_x['Age'])"
   ]
  },
  {
   "cell_type": "code",
   "execution_count": 35,
   "id": "994c4491",
   "metadata": {},
   "outputs": [
    {
     "data": {
      "text/plain": [
       "array(['20-40', '30-55', '40-44', '25-29', '30-34', '40-49', '30-39',\n",
       "       '25-30', '50-59', '35-39', '<40'], dtype=object)"
      ]
     },
     "execution_count": 35,
     "metadata": {},
     "output_type": "execute_result"
    }
   ],
   "source": [
    "df_x['Age'].unique()\n",
    "#20:'20-40', \n",
    "#15:'30-55'\n",
    "#9: '30-39','40-49', '50-59'\n",
    "#5: '25-30'\n",
    "#4:'25-29','30-34','40-44','35-39',<40"
   ]
  },
  {
   "cell_type": "code",
   "execution_count": 36,
   "id": "bbe0f207",
   "metadata": {},
   "outputs": [
    {
     "data": {
      "text/plain": [
       "20-40    34\n",
       "30-55    17\n",
       "25-29     3\n",
       "30-34     2\n",
       "40-49     2\n",
       "30-39     2\n",
       "<40       2\n",
       "40-44     1\n",
       "25-30     1\n",
       "50-59     1\n",
       "35-39     1\n",
       "Name: Age, dtype: int64"
      ]
     },
     "execution_count": 36,
     "metadata": {},
     "output_type": "execute_result"
    }
   ],
   "source": [
    "df_x[\"Age\"].value_counts()"
   ]
  },
  {
   "cell_type": "code",
   "execution_count": 39,
   "id": "8c0c5c9a",
   "metadata": {},
   "outputs": [],
   "source": [
    "def intervals2layers(si):\n",
    "    layers = [[si[0]]]\n",
    "    for p in si[1:]:\n",
    "        for lay in layers:\n",
    "            if lay[-1][-1] < p[0]:\n",
    "                lay.append(p)\n",
    "                break\n",
    "        else:\n",
    "            layers.append([p])\n",
    "\n",
    "    return layers"
   ]
  },
  {
   "cell_type": "code",
   "execution_count": 62,
   "id": "e9ce54fc",
   "metadata": {},
   "outputs": [],
   "source": [
    "intervals = [(20,40,)*34,(30,55,)*17, (25,49,)*3, (30,34,)*2, (40,49,)*2,(30,39,)*2, (40,60,)*2,(40,44,)*1, (25,30,)*1, (50,59,)*1, (35,39,)*1]"
   ]
  },
  {
   "cell_type": "code",
   "execution_count": 64,
   "id": "552d4e70",
   "metadata": {},
   "outputs": [
    {
     "ename": "ValueError",
     "evalue": "too many values to unpack (expected 2)",
     "output_type": "error",
     "traceback": [
      "\u001b[1;31m---------------------------------------------------------------------------\u001b[0m",
      "\u001b[1;31mValueError\u001b[0m                                Traceback (most recent call last)",
      "\u001b[1;32mC:\\Users\\CHRIST~1\\AppData\\Local\\Temp/ipykernel_2472/2220656732.py\u001b[0m in \u001b[0;36m<module>\u001b[1;34m\u001b[0m\n\u001b[0;32m      3\u001b[0m \u001b[1;33m\u001b[0m\u001b[0m\n\u001b[0;32m      4\u001b[0m \u001b[1;32mfor\u001b[0m \u001b[0mi\u001b[0m\u001b[1;33m,\u001b[0m \u001b[0mlay\u001b[0m \u001b[1;32min\u001b[0m \u001b[0menumerate\u001b[0m\u001b[1;33m(\u001b[0m\u001b[0mlayers\u001b[0m\u001b[1;33m)\u001b[0m\u001b[1;33m:\u001b[0m\u001b[1;33m\u001b[0m\u001b[1;33m\u001b[0m\u001b[0m\n\u001b[1;32m----> 5\u001b[1;33m     \u001b[0mx1\u001b[0m\u001b[1;33m,\u001b[0m \u001b[0mx2\u001b[0m \u001b[1;33m=\u001b[0m \u001b[0mzip\u001b[0m\u001b[1;33m(\u001b[0m\u001b[1;33m*\u001b[0m\u001b[0mlay\u001b[0m\u001b[1;33m)\u001b[0m\u001b[1;33m\u001b[0m\u001b[1;33m\u001b[0m\u001b[0m\n\u001b[0m\u001b[0;32m      6\u001b[0m     \u001b[0mplt\u001b[0m\u001b[1;33m.\u001b[0m\u001b[0mhlines\u001b[0m\u001b[1;33m(\u001b[0m\u001b[1;33m[\u001b[0m\u001b[0mi\u001b[0m \u001b[1;33m+\u001b[0m \u001b[1;36m1\u001b[0m\u001b[1;33m]\u001b[0m \u001b[1;33m*\u001b[0m \u001b[0mlen\u001b[0m\u001b[1;33m(\u001b[0m\u001b[0mx1\u001b[0m\u001b[1;33m)\u001b[0m\u001b[1;33m,\u001b[0m \u001b[0mx1\u001b[0m\u001b[1;33m,\u001b[0m \u001b[0mx2\u001b[0m\u001b[1;33m,\u001b[0m \u001b[0mlw\u001b[0m\u001b[1;33m=\u001b[0m\u001b[1;36m5\u001b[0m\u001b[1;33m)\u001b[0m\u001b[1;33m\u001b[0m\u001b[1;33m\u001b[0m\u001b[0m\n",
      "\u001b[1;31mValueError\u001b[0m: too many values to unpack (expected 2)"
     ]
    },
    {
     "data": {
      "image/png": "[encoded data removed]",
      "text/plain": [
       "<Figure size 432x288 with 1 Axes>"
      ]
     },
     "metadata": {
      "needs_background": "light"
     },
     "output_type": "display_data"
    }
   ],
   "source": [
    "si = sorted(intervals, key=lambda p: p[0])\n",
    "layers = intervals2layers(si)\n",
    "\n",
    "for i, lay in enumerate(layers):\n",
    "    x1, x2 = zip(*lay)\n",
    "    plt.hlines([i + 1] * len(x1), x1, x2, lw=5)"
   ]
  },
  {
   "cell_type": "code",
   "execution_count": 29,
   "id": "df96d331",
   "metadata": {},
   "outputs": [],
   "source": [
    "df_x = df_x[df_x[\"Age\"].str.contains('25-29|30-34|40-44|35-39|<40')==True]"
   ]
  },
  {
   "cell_type": "code",
   "execution_count": 18,
   "id": "66f82cec",
   "metadata": {},
   "outputs": [
    {
     "ename": "ValueError",
     "evalue": "could not convert string to float: '40-44'",
     "output_type": "error",
     "traceback": [
      "\u001b[1;31m---------------------------------------------------------------------------\u001b[0m",
      "\u001b[1;31mValueError\u001b[0m                                Traceback (most recent call last)",
      "\u001b[1;32mC:\\Users\\CHRIST~1\\AppData\\Local\\Temp/ipykernel_2472/2404414796.py\u001b[0m in \u001b[0;36m<module>\u001b[1;34m\u001b[0m\n\u001b[0;32m      4\u001b[0m \u001b[1;33m\u001b[0m\u001b[0m\n\u001b[0;32m      5\u001b[0m \u001b[1;32mfor\u001b[0m \u001b[0mi\u001b[0m\u001b[1;33m,\u001b[0m \u001b[0mval\u001b[0m \u001b[1;32min\u001b[0m \u001b[0menumerate\u001b[0m\u001b[1;33m(\u001b[0m\u001b[0mdf_x\u001b[0m\u001b[1;33m[\u001b[0m\u001b[1;34m'Age'\u001b[0m\u001b[1;33m]\u001b[0m\u001b[1;33m.\u001b[0m\u001b[0mvalues\u001b[0m\u001b[1;33m)\u001b[0m\u001b[1;33m:\u001b[0m\u001b[1;33m\u001b[0m\u001b[1;33m\u001b[0m\u001b[0m\n\u001b[1;32m----> 6\u001b[1;33m     \u001b[0mplt\u001b[0m\u001b[1;33m.\u001b[0m\u001b[0mtext\u001b[0m\u001b[1;33m(\u001b[0m\u001b[0mi\u001b[0m\u001b[1;33m,\u001b[0m \u001b[0mval\u001b[0m\u001b[1;33m,\u001b[0m \u001b[0mfloat\u001b[0m\u001b[1;33m(\u001b[0m\u001b[0mval\u001b[0m\u001b[1;33m)\u001b[0m\u001b[1;33m,\u001b[0m \u001b[0mhorizontalalignment\u001b[0m\u001b[1;33m=\u001b[0m\u001b[1;34m'center'\u001b[0m\u001b[1;33m,\u001b[0m \u001b[0mverticalalignment\u001b[0m\u001b[1;33m=\u001b[0m\u001b[1;34m'bottom'\u001b[0m\u001b[1;33m,\u001b[0m \u001b[0mfontdict\u001b[0m\u001b[1;33m=\u001b[0m\u001b[1;33m{\u001b[0m\u001b[1;34m'fontweight'\u001b[0m\u001b[1;33m:\u001b[0m\u001b[1;36m500\u001b[0m\u001b[1;33m,\u001b[0m \u001b[1;34m'size'\u001b[0m\u001b[1;33m:\u001b[0m\u001b[1;36m12\u001b[0m\u001b[1;33m}\u001b[0m\u001b[1;33m)\u001b[0m\u001b[1;33m\u001b[0m\u001b[1;33m\u001b[0m\u001b[0m\n\u001b[0m",
      "\u001b[1;31mValueError\u001b[0m: could not convert string to float: '40-44'"
     ]
    },
    {
     "data": {
      "image/png": "[encoded data removed]",
      "text/plain": [
       "<Figure size 432x288 with 1 Axes>"
      ]
     },
     "metadata": {
      "needs_background": "light"
     },
     "output_type": "display_data"
    }
   ],
   "source": [
    "fig, ax = plt.subplots()\n",
    "df_x['Age'].value_counts().plot(ax=ax, kind='bar')\n",
    "plt.gca().set_xticklabels(df_x['Age'].unique(), rotation=60, horizontalalignment= 'right')\n",
    "\n",
    "for i, val in enumerate(df_x['Age'].values):\n",
    "    plt.text(i, val, float(val), horizontalalignment='center', verticalalignment='bottom', fontdict={'fontweight':500, 'size':12})"
   ]
  },
  {
   "cell_type": "code",
   "execution_count": 19,
   "id": "c2d88481",
   "metadata": {},
   "outputs": [
    {
     "name": "stderr",
     "output_type": "stream",
     "text": [
      "C:\\Users\\CHRIST~1\\AppData\\Local\\Temp/ipykernel_2472/1273694204.py:20: UserWarning: FixedFormatter should only be used together with FixedLocator\n",
      "  plt.gca().set_xticklabels(df['Age'], rotation=60, horizontalalignment= 'right')\n"
     ]
    },
    {
     "data": {
      "image/png": "[encoded data removed]",
      "text/plain": [
       "<Figure size 1280x800 with 1 Axes>"
      ]
     },
     "metadata": {
      "needs_background": "light"
     },
     "output_type": "display_data"
    }
   ],
   "source": [
    "\n",
    "\n",
    "import random\n",
    "\n",
    "# Import Data\n",
    "df_raw = df_x\n",
    "\n",
    "# Prepare Data\n",
    "df = df_raw.groupby('Age').size().reset_index(name='counts')\n",
    "n = df['Age'].unique().__len__()+1\n",
    "all_colors = list(plt.cm.colors.cnames.keys())\n",
    "random.seed(100)\n",
    "c = random.choices(all_colors, k=n)\n",
    "\n",
    "# Plot Bars\n",
    "plt.figure(figsize=(16,10), dpi= 80)\n",
    "plt.bar(df['Age'], df['counts'], color=c, width=.5)\n",
    "for i, val in enumerate(df['counts'].values):\n",
    "    plt.text(i, val, float(val), horizontalalignment='center', verticalalignment='bottom', fontdict={'fontweight':500, 'size':12})\n",
    "\n",
    "# Decoration\n",
    "plt.gca().set_xticklabels(df['Age'], rotation=60, horizontalalignment= 'right')\n",
    "plt.title(\"Number of Vehicles by Manaufacturers\", fontsize=22)\n",
    "plt.ylabel('# Vehicles')\n",
    "plt.ylim(0, 45)\n",
    "plt.show()\n",
    "\n"
   ]
  },
  {
   "cell_type": "code",
   "execution_count": null,
   "id": "fb7ee31d",
   "metadata": {},
   "outputs": [],
   "source": []
  },
  {
   "cell_type": "code",
   "execution_count": null,
   "id": "d773a1e3",
   "metadata": {},
   "outputs": [],
   "source": []
  }
 ],
 "metadata": {
  "kernelspec": {
   "display_name": "Python 3 (ipykernel)",
   "language": "python",
   "name": "python3"
  },
  "language_info": {
   "codemirror_mode": {
    "name": "ipython",
    "version": 3
   },
   "file_extension": ".py",
   "mimetype": "text/x-python",
   "name": "python",
   "nbconvert_exporter": "python",
   "pygments_lexer": "ipython3",
   "version": "3.9.7"
  }
 },
 "nbformat": 4,
 "nbformat_minor": 5
}
