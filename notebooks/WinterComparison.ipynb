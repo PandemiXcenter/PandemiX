{
 "cells": [
  {
   "cell_type": "code",
   "execution_count": 37,
   "metadata": {},
   "outputs": [
    {
     "name": "stdout",
     "output_type": "stream",
     "text": [
      "saveFigures is set to: True\n",
      "Done loading packages\n"
     ]
    }
   ],
   "source": [
    "# Load packages and settings\n",
    "import numpy as np\n",
    "import pandas as pd\n",
    "pd.set_option('display.max_rows', 500)\n",
    "pd.set_option('display.min_rows', 50)\n",
    "import seaborn as sns\n",
    "\n",
    "\n",
    "import matplotlib.pyplot as plt\n",
    "%matplotlib widget\n",
    "plt.rcParams['figure.figsize'] = (12,8)\n",
    "plt.rcParams[\"image.cmap\"] = \"tab10\"\n",
    "plt.rcParams['axes.prop_cycle'] = plt.cycler(color=plt.cm.tab10.colors)\n",
    "fs_label = 16\n",
    "parameters = {\n",
    "                'axes.labelsize': fs_label,\n",
    "                'axes.titlesize': fs_label+4,\n",
    "                'xtick.labelsize': fs_label,\n",
    "                'ytick.labelsize': fs_label, \n",
    "                'legend.fontsize': fs_label, \n",
    "                'lines.markersize': 10,\n",
    "                'lines.linewidth': 3\n",
    "             }\n",
    "plt.rcParams.update(parameters)\n",
    "%matplotlib widget\n",
    "from matplotlib import cm # Colormaps\n",
    "import matplotlib.colors as colors\n",
    "# cmap = plt.cm.get_cmap('Dark2',len(ageGroups))\n",
    "\n",
    "import locale\n",
    "import matplotlib.dates as mdates\n",
    "locale.setlocale(locale.LC_TIME,\"Danish\")\n",
    "# ax1.xaxis.set_major_formatter(mdates.DateFormatter('%b\\n%Y'))\n",
    "# ax1.spines['top'].set_visible(False) \n",
    "\n",
    "import os\n",
    "# import csv\n",
    "import math\n",
    "\n",
    "from datetime import date\n",
    "\n",
    "\n",
    "saveFigures = True\n",
    "# saveFigures = False\n",
    "print('saveFigures is set to: '+str(saveFigures))\n",
    "\n",
    "print('Done loading packages')\n",
    "\n",
    "# Define running mean functions\n",
    "def rnMean(data,meanWidth):\n",
    "    return np.convolve(data, np.ones(meanWidth)/meanWidth, mode='valid')\n",
    "def rnTime(t,meanWidth):\n",
    "    return t[math.floor(meanWidth/2):-math.ceil(meanWidth/2)+1]"
   ]
  },
  {
   "cell_type": "code",
   "execution_count": 38,
   "metadata": {},
   "outputs": [],
   "source": [
    "# Define paths\n",
    "rootdir_data = os.getcwd() +\"\\\\..\\\\DanskeData\\\\\" \n",
    "\n",
    "path_data = rootdir_data + \"ssi_data\\\\\"\n",
    "path_dash = rootdir_data + \"ssi_dashboard\\\\\"\n",
    "path_vacc = rootdir_data + \"ssi_vacc\\\\\"\n",
    "\n",
    "path_figs = os.getcwd() +\"\\\\..\\\\Figures\\\\\" "
   ]
  },
  {
   "cell_type": "code",
   "execution_count": 39,
   "metadata": {},
   "outputs": [
    {
     "data": {
      "text/html": [
       "<div>\n",
       "<style scoped>\n",
       "    .dataframe tbody tr th:only-of-type {\n",
       "        vertical-align: middle;\n",
       "    }\n",
       "\n",
       "    .dataframe tbody tr th {\n",
       "        vertical-align: top;\n",
       "    }\n",
       "\n",
       "    .dataframe thead th {\n",
       "        text-align: right;\n",
       "    }\n",
       "</style>\n",
       "<table border=\"1\" class=\"dataframe\">\n",
       "  <thead>\n",
       "    <tr style=\"text-align: right;\">\n",
       "      <th></th>\n",
       "      <th>Dato</th>\n",
       "      <th>Antal_døde</th>\n",
       "    </tr>\n",
       "  </thead>\n",
       "  <tbody>\n",
       "    <tr>\n",
       "      <th>656</th>\n",
       "      <td>2021-12-27</td>\n",
       "      <td>8</td>\n",
       "    </tr>\n",
       "    <tr>\n",
       "      <th>657</th>\n",
       "      <td>2021-12-28</td>\n",
       "      <td>11</td>\n",
       "    </tr>\n",
       "    <tr>\n",
       "      <th>658</th>\n",
       "      <td>2021-12-29</td>\n",
       "      <td>7</td>\n",
       "    </tr>\n",
       "    <tr>\n",
       "      <th>659</th>\n",
       "      <td>2021-12-30</td>\n",
       "      <td>7</td>\n",
       "    </tr>\n",
       "    <tr>\n",
       "      <th>660</th>\n",
       "      <td>2021-12-31</td>\n",
       "      <td>0</td>\n",
       "    </tr>\n",
       "  </tbody>\n",
       "</table>\n",
       "</div>"
      ],
      "text/plain": [
       "          Dato  Antal_døde\n",
       "656 2021-12-27           8\n",
       "657 2021-12-28          11\n",
       "658 2021-12-29           7\n",
       "659 2021-12-30           7\n",
       "660 2021-12-31           0"
      ]
     },
     "execution_count": 39,
     "metadata": {},
     "output_type": "execute_result"
    }
   ],
   "source": [
    "latestsubdir = list(os.walk(path_data))[0][1][-1]\n",
    "latestdir = path_data + latestsubdir\n",
    "\n",
    "dfCase = pd.read_csv(latestdir+'/Test_pos_over_time.csv',delimiter = ';',dtype=str)\n",
    "dfCase = dfCase.iloc[:-2]\n",
    "dfCase['NewPositive'] = pd.to_numeric(dfCase['NewPositive'].astype(str).apply(lambda x: x.replace('.','')))\n",
    "dfCase['Tested'] = pd.to_numeric(dfCase['Tested'].astype(str).apply(lambda x: x.replace('.','')))\n",
    "dfCase['PosPct'] = pd.to_numeric(dfCase['PosPct'].astype(str).apply(lambda x: x.replace(',','.')))\n",
    "dfCase['Date'] =  pd.to_datetime(dfCase.Date,format='%Y-%m-%d')\n",
    "testDates = dfCase['Date']\n",
    "\n",
    "dfAdm = pd.read_csv(latestdir+'/Newly_admitted_over_time.csv',delimiter = ';',dtype=str)\n",
    "dfAdm['Dato'] = pd.to_datetime(dfAdm['Dato'])\n",
    "dfAdm['Total'] = pd.to_numeric(dfAdm['Total'])\n",
    "dfAdm.tail()\n",
    "\n",
    "\n",
    "dfDea = pd.read_csv(latestdir+'/Deaths_over_time.csv',delimiter = ';',dtype=str)\n",
    "dfDea = dfDea.iloc[:-1,:]\n",
    "dfDea['Dato'] = pd.to_datetime(dfDea['Dato'])\n",
    "dfDea['Antal_døde'] = pd.to_numeric(dfDea['Antal_døde'])\n",
    "dfDea.tail()\n"
   ]
  },
  {
   "cell_type": "code",
   "execution_count": 40,
   "metadata": {},
   "outputs": [],
   "source": [
    "allDates = dfCase.Date\n",
    "allDatesShift = allDates + np.timedelta64(365,'D')\n",
    "\n",
    "allDatesAdm = dfAdm.Dato\n",
    "allDatesAdmShift = allDatesAdm + np.timedelta64(365,'D')\n",
    "\n",
    "allDatesDea = dfDea.Dato\n",
    "allDatesDeaShift = allDatesDea + np.timedelta64(365,'D')\n",
    "\n",
    "\n",
    "firstDate = np.datetime64('2021-10-01')-np.timedelta64(1,'D')\n",
    "lastDate = np.datetime64('2022-03-01')+np.timedelta64(1,'D')\n",
    "\n",
    "meanWidth = 7"
   ]
  },
  {
   "cell_type": "markdown",
   "metadata": {},
   "source": [
    "# Cases"
   ]
  },
  {
   "cell_type": "code",
   "execution_count": 49,
   "metadata": {},
   "outputs": [
    {
     "data": {
      "application/vnd.jupyter.widget-view+json": {
       "model_id": "e399ead022d54672b40825b1ac3322d0",
       "version_major": 2,
       "version_minor": 0
      },
      "text/plain": [
       "Canvas(toolbar=Toolbar(toolitems=[('Home', 'Reset original view', 'home', 'home'), ('Back', 'Back to previous …"
      ]
     },
     "metadata": {},
     "output_type": "display_data"
    }
   ],
   "source": [
    "\n",
    "allCases = dfCase.NewPositive.values\n",
    "\n",
    "fig,ax1 = plt.subplots(tight_layout=True)\n",
    "\n",
    "\n",
    "ax1.plot(allDatesShift[:-1],allCases[:-1],'k.:',markersize=4,linewidth=0.5,label='2020/2021')\n",
    "ax1.plot(rnTime(allDatesShift[:-1],meanWidth),rnMean(allCases[:-1],meanWidth),'k',label=f'2020/2021, {meanWidth} dages gennemsnit')\n",
    "ax1.plot(allDates[:-1],allCases[:-1],'b.:',markersize=4,linewidth=0.5,label='2021/2022')\n",
    "ax1.plot(rnTime(allDates[:-1],meanWidth),rnMean(allCases[:-1],meanWidth),'b',label=f'2021/2022, {meanWidth} dages gennemsnit')\n",
    "\n",
    "\n",
    "ax1.legend(loc='upper left')\n",
    "ax1.grid()\n",
    "ax1.set_ylabel('Antal tilfælde')\n",
    "ax1.set_ylim(bottom=0)\n",
    "ax1.set_xlim([firstDate,lastDate])\n",
    "ax1.xaxis.set_major_formatter(mdates.DateFormatter('%B'))\n",
    "ax1.spines['top'].set_visible(False) \n",
    "ax1.spines['right'].set_visible(False)\n",
    "\n",
    "\n",
    "if saveFigures:\n",
    "    plt.savefig(path_figs+'VinterSammenligning_Positive')\n",
    "\n",
    "maxAvg = np.max(rnMean(allCases,meanWidth))\n",
    "ax1.set_ylim(top=maxAvg*1.1)\n",
    "\n",
    "if saveFigures:\n",
    "    plt.savefig(path_figs+'VinterSammenligning_Positive_zoom')"
   ]
  },
  {
   "cell_type": "markdown",
   "metadata": {},
   "source": [
    "# Indlæggelser"
   ]
  },
  {
   "cell_type": "code",
   "execution_count": 46,
   "metadata": {},
   "outputs": [
    {
     "data": {
      "application/vnd.jupyter.widget-view+json": {
       "model_id": "d76f172895444ed58ef784bf4f2ff7aa",
       "version_major": 2,
       "version_minor": 0
      },
      "text/plain": [
       "Canvas(toolbar=Toolbar(toolitems=[('Home', 'Reset original view', 'home', 'home'), ('Back', 'Back to previous …"
      ]
     },
     "metadata": {},
     "output_type": "display_data"
    }
   ],
   "source": [
    "\n",
    "allAdms = dfAdm.Total.values\n",
    "\n",
    "fig,ax1 = plt.subplots(tight_layout=True)\n",
    "\n",
    "\n",
    "ax1.plot(allDatesAdmShift,allAdms,'k.:',markersize=4,linewidth=0.5,label='2020/2021')\n",
    "ax1.plot(rnTime(allDatesAdmShift,meanWidth),rnMean(allAdms,meanWidth),'k',label=f'2020/2021, {meanWidth} dages gennemsnit')\n",
    "ax1.plot(allDatesAdm,allAdms,'b.:',markersize=4,linewidth=0.5,label='2021/2022')\n",
    "ax1.plot(rnTime(allDatesAdm,meanWidth),rnMean(allAdms,meanWidth),'b',label=f'2021/2022, {meanWidth} dages gennemsnit')\n",
    "\n",
    "\n",
    "ax1.legend(loc='upper left')\n",
    "ax1.grid()\n",
    "ax1.set_ylabel('Antal nyindlæggelser')\n",
    "ax1.set_ylim(bottom=0)\n",
    "ax1.set_xlim([firstDate,lastDate])\n",
    "ax1.xaxis.set_major_formatter(mdates.DateFormatter('%B'))\n",
    "ax1.spines['top'].set_visible(False) \n",
    "ax1.spines['right'].set_visible(False)\n",
    "\n",
    "if saveFigures:\n",
    "    plt.savefig(path_figs+'VinterSammenligning_Nyindlagte')\n",
    "\n",
    "maxAvg = np.max(rnMean(allAdms,meanWidth))\n",
    "ax1.set_ylim(top=maxAvg*1.1)\n",
    "\n",
    "if saveFigures:\n",
    "    plt.savefig(path_figs+'VinterSammenligning_Nyindlagte_zoom')"
   ]
  },
  {
   "cell_type": "markdown",
   "metadata": {},
   "source": [
    "# Dødsfald"
   ]
  },
  {
   "cell_type": "code",
   "execution_count": 48,
   "metadata": {},
   "outputs": [
    {
     "data": {
      "application/vnd.jupyter.widget-view+json": {
       "model_id": "4424e4307e5540b1b2c852627eeb0f85",
       "version_major": 2,
       "version_minor": 0
      },
      "text/plain": [
       "Canvas(toolbar=Toolbar(toolitems=[('Home', 'Reset original view', 'home', 'home'), ('Back', 'Back to previous …"
      ]
     },
     "metadata": {},
     "output_type": "display_data"
    }
   ],
   "source": [
    "\n",
    "allDeas = dfDea['Antal_døde'].values\n",
    "\n",
    "fig,ax1 = plt.subplots(tight_layout=True)\n",
    "\n",
    "\n",
    "ax1.plot(allDatesDeaShift[:-1],allDeas[:-1],'k.:',markersize=4,linewidth=0.5,label='2020/2021')\n",
    "ax1.plot(rnTime(allDatesDeaShift[:-1],meanWidth),rnMean(allDeas[:-1],meanWidth),'k',label=f'2020/2021, {meanWidth} dages gennemsnit')\n",
    "ax1.plot(allDatesDea[:-1],allDeas[:-1],'b.:',markersize=4,linewidth=0.5,label='2021/2022')\n",
    "ax1.plot(rnTime(allDatesDea[:-1],meanWidth),rnMean(allDeas[:-1],meanWidth),'b',label=f'2021/2022, {meanWidth} dages gennemsnit')\n",
    "\n",
    "\n",
    "ax1.legend(loc='upper left')\n",
    "ax1.grid()\n",
    "ax1.set_ylabel('Antal dødsfald')\n",
    "ax1.set_ylim(bottom=0)\n",
    "ax1.set_xlim([firstDate,lastDate])\n",
    "ax1.xaxis.set_major_formatter(mdates.DateFormatter('%B'))\n",
    "ax1.spines['top'].set_visible(False) \n",
    "ax1.spines['right'].set_visible(False)\n",
    "\n",
    "if saveFigures:\n",
    "    plt.savefig(path_figs+'VinterSammenligning_Doedsfald')\n",
    "\n",
    "maxAvg = np.max(rnMean(allDeas,meanWidth))\n",
    "ax1.set_ylim(top=maxAvg*1.1)\n",
    "\n",
    "if saveFigures:\n",
    "    plt.savefig(path_figs+'VinterSammenligning_Doedsfald_zoom')"
   ]
  }
 ],
 "metadata": {
  "interpreter": {
   "hash": "c031fd63bd977d199cd6020c30a19695eacbb638d100e0b8a5ea53080ed74a9a"
  },
  "kernelspec": {
   "display_name": "Python 3.8.12 64-bit ('main': conda)",
   "language": "python",
   "name": "python3"
  },
  "language_info": {
   "codemirror_mode": {
    "name": "ipython",
    "version": 3
   },
   "file_extension": ".py",
   "mimetype": "text/x-python",
   "name": "python",
   "nbconvert_exporter": "python",
   "pygments_lexer": "ipython3",
   "version": "3.8.12"
  },
  "orig_nbformat": 4
 },
 "nbformat": 4,
 "nbformat_minor": 2
}
