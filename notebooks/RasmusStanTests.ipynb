{
 "cells": [
  {
   "cell_type": "code",
   "execution_count": 1,
   "metadata": {},
   "outputs": [
    {
     "name": "stdout",
     "output_type": "stream",
     "text": [
      "saveFigures is set to: True\n",
      "Done loading packages\n"
     ]
    }
   ],
   "source": [
    "# Load packages and settings\n",
    "import numpy as np\n",
    "import pandas as pd\n",
    "pd.set_option('display.max_rows', 500)\n",
    "pd.set_option('display.min_rows', 50)\n",
    "import seaborn as sns\n",
    "\n",
    "\n",
    "import matplotlib.pyplot as plt\n",
    "%matplotlib widget\n",
    "plt.rcParams['figure.figsize'] = (12,8)\n",
    "plt.rcParams[\"image.cmap\"] = \"tab10\"\n",
    "plt.rcParams['axes.prop_cycle'] = plt.cycler(color=plt.cm.tab10.colors)\n",
    "fs_label = 15\n",
    "parameters = {\n",
    "                'axes.labelsize': fs_label,\n",
    "                'axes.titlesize': fs_label+4,\n",
    "                'xtick.labelsize': fs_label,\n",
    "                'ytick.labelsize': fs_label, \n",
    "                'legend.fontsize': fs_label, \n",
    "                'lines.markersize': 10,\n",
    "                'lines.linewidth': 3\n",
    "             }\n",
    "plt.rcParams.update(parameters)\n",
    "%matplotlib widget\n",
    "from matplotlib import cm # Colormaps\n",
    "import matplotlib.colors as colors\n",
    "# cmap = plt.cm.get_cmap('Dark2',len(ageGroups))\n",
    "\n",
    "import locale\n",
    "import matplotlib.dates as mdates\n",
    "locale.setlocale(locale.LC_TIME,\"Danish\")\n",
    "# ax1.xaxis.set_major_formatter(mdates.DateFormatter('%b\\n%Y'))\n",
    "\n",
    "from matplotlib.colors import LinearSegmentedColormap\n",
    "\n",
    "from scipy.stats import binom\n",
    "\n",
    "import os\n",
    "# import csv\n",
    "import math\n",
    "\n",
    "from datetime import date\n",
    "\n",
    "\n",
    "saveFigures = True\n",
    "# saveFigures = False\n",
    "print('saveFigures is set to: '+str(saveFigures))\n",
    "\n",
    "print('Done loading packages')\n",
    "\n",
    "# Define running mean functions\n",
    "def rnMean(data,meanWidth):\n",
    "    return np.convolve(data, np.ones(meanWidth)/meanWidth, mode='valid')\n",
    "def rnTime(t,meanWidth):\n",
    "    return t[math.floor(meanWidth/2):-math.ceil(meanWidth/2)+1]\n",
    "    \n",
    "    \n",
    "# Define paths\n",
    "rootdir_data = os.getcwd() +\"\\\\..\\\\DanskeData\\\\\" \n",
    "\n",
    "path_data = rootdir_data + \"ssi_data\\\\\"\n",
    "path_dash = rootdir_data + \"ssi_dashboard\\\\\"\n",
    "path_vacc = rootdir_data + \"ssi_vacc\\\\\"\n",
    "\n",
    "path_figs = os.getcwd() +\"\\\\..\\\\Figures\\\\\" "
   ]
  },
  {
   "cell_type": "code",
   "execution_count": 2,
   "metadata": {},
   "outputs": [],
   "source": [
    "omdf = pd.read_excel(rootdir_data+'Omikron.xlsx')\n",
    "omdf['Dato'] = pd.to_datetime(omdf['Dato'])\n",
    "omdf['Ratio'] = omdf['AntalOmikron']/omdf['AntalTest']\n",
    "omdf['Perc'] = 100 * omdf['AntalOmikron']/omdf['AntalTest']\n",
    "\n",
    "\n",
    "omdf = omdf.iloc[:-2]"
   ]
  },
  {
   "cell_type": "markdown",
   "metadata": {},
   "source": [
    "# Stan tests"
   ]
  },
  {
   "cell_type": "code",
   "execution_count": 3,
   "metadata": {},
   "outputs": [],
   "source": [
    "import pystan"
   ]
  },
  {
   "cell_type": "code",
   "execution_count": 4,
   "metadata": {},
   "outputs": [],
   "source": [
    "stanModel = \"\"\"\n",
    "data {\n",
    "int<lower=0> N;\n",
    "vector[N] x;\n",
    "vector[N] y;\n",
    "}\n",
    "parameters {\n",
    "real alpha;\n",
    "real beta;\n",
    "real<lower=0> sigma;\n",
    "}\n",
    "model {\n",
    "y ~ normal(alpha + beta * x, sigma);\n",
    "}\n",
    "\"\"\""
   ]
  },
  {
   "cell_type": "code",
   "execution_count": null,
   "metadata": {},
   "outputs": [],
   "source": [
    "# posterior = pystan.build(stanModel,data=stan_data)\n",
    "sm = pystan.StanModel(model_code=stanModel)"
   ]
  },
  {
   "cell_type": "code",
   "execution_count": 75,
   "metadata": {},
   "outputs": [
    {
     "data": {
      "application/vnd.jupyter.widget-view+json": {
       "model_id": "ea639bff51594ddfb65dfa8a03edad61",
       "version_major": 2,
       "version_minor": 0
      },
      "text/plain": [
       "Canvas(toolbar=Toolbar(toolitems=[('Home', 'Reset original view', 'home', 'home'), ('Back', 'Back to previous …"
      ]
     },
     "metadata": {},
     "output_type": "display_data"
    }
   ],
   "source": [
    "a = 0.4\n",
    "b = 2.5\n",
    "s = 10\n",
    "\n",
    "# x = np.arange(0,20)\n",
    "numVals = 30\n",
    "x = np.linspace(0,20,numVals)\n",
    "curNoise = np.random.normal(0,s,x.shape)\n",
    "yTrue = a + b * x \n",
    "yNoise = yTrue + curNoise\n",
    "\n",
    "plt.figure(figsize=(10,5))\n",
    "plt.plot(x,yTrue)\n",
    "plt.plot(x,yNoise,'*')\n",
    "plt.show()"
   ]
  },
  {
   "cell_type": "code",
   "execution_count": 76,
   "metadata": {},
   "outputs": [],
   "source": [
    "stan_data = {   \"N\" : numVals,\n",
    "                \"x\" : x,\n",
    "                \"y\" : yNoise}"
   ]
  },
  {
   "cell_type": "code",
   "execution_count": 77,
   "metadata": {},
   "outputs": [],
   "source": [
    "fit = sm.sampling(data=stan_data)"
   ]
  },
  {
   "cell_type": "code",
   "execution_count": 78,
   "metadata": {},
   "outputs": [],
   "source": [
    "fit2 = sm.sampling(data=stan_data, iter=10000, chains=4)"
   ]
  },
  {
   "cell_type": "code",
   "execution_count": 79,
   "metadata": {},
   "outputs": [],
   "source": [
    "la = fit2.extract(permuted=True)  # return a dictionary of arrays\n",
    "# mu = la['mu']\n",
    "\n",
    "## return an array of three dimensions: iterations, chains, parameters\n",
    "a = fit2.extract(permuted=False)"
   ]
  },
  {
   "cell_type": "code",
   "execution_count": 80,
   "metadata": {},
   "outputs": [
    {
     "data": {
      "application/vnd.jupyter.widget-view+json": {
       "model_id": "f367ef471a3d4626923511f3bb8c2bae",
       "version_major": 2,
       "version_minor": 0
      },
      "text/plain": [
       "Canvas(toolbar=Toolbar(toolitems=[('Home', 'Reset original view', 'home', 'home'), ('Back', 'Back to previous …"
      ]
     },
     "metadata": {},
     "output_type": "display_data"
    },
    {
     "data": {
      "text/plain": [
       "[<matplotlib.lines.Line2D at 0x25df25f8790>]"
      ]
     },
     "execution_count": 80,
     "metadata": {},
     "output_type": "execute_result"
    }
   ],
   "source": [
    "# la['alpha']\n",
    "\n",
    "# plt.figure()\n",
    "\n",
    "# plt.plot(la['alpha'])\n",
    "\n",
    "numChainToSample = 5000\n",
    "curLen = len(la['alpha'])\n",
    "# for k in range(numChainToSample):\n",
    "\n",
    "posVals = np.arange(curLen)\n",
    "sampleIndices= np.random.choice(posVals,size=(numChainToSample,))\n",
    "\n",
    "# plt.figure()\n",
    "# for i in sampleIndices:\n",
    "#     cA = la['alpha'][i]\n",
    "#     cB = la['beta'][i]\n",
    "\n",
    "#     cY = cA + cB * x\n",
    "#     plt.plot(x,cY,'k',alpha=0.1)\n",
    "\n",
    "allYs = []\n",
    "for i in sampleIndices:\n",
    "    cA = la['alpha'][i]\n",
    "    cB = la['beta'][i]\n",
    "\n",
    "    cY = cA + cB * x\n",
    "\n",
    "    allYs.append(cY)\n",
    "allYs = np.array(allYs)\n",
    "\n",
    "# np.mean(allYs,axis=0).shape\n",
    "# np.mean(allYs,axis=0)\n",
    "\n",
    "# print(np.quantile(allYs,.50,axis=0))\n",
    "# print(np.median(allYs,axis=0))\n",
    "\n",
    "plt.figure()\n",
    "# plt.plot(x,np.mean(allYs,axis=0),'k')\n",
    "# plt.plot(x,np.median(allYs,axis=0),'k')\n",
    "\n",
    "# plt.plot(x,np.quantile(allYs,0.9,axis=0),color='grey')\n",
    "# plt.plot(x,np.quantile(allYs,1-0.9,axis=0),color='grey')\n",
    "\n",
    "curP = 0.99\n",
    "plt.fill_between(x,np.quantile(allYs,curP,axis=0),np.quantile(allYs,1-curP,axis=0),color='k',edgecolor='none',alpha=0.2)\n",
    "curP = 0.95\n",
    "plt.fill_between(x,np.quantile(allYs,curP,axis=0),np.quantile(allYs,1-curP,axis=0),color='k',edgecolor='none',alpha=0.2)\n",
    "curP = 0.9\n",
    "plt.fill_between(x,np.quantile(allYs,curP,axis=0),np.quantile(allYs,1-curP,axis=0),color='k',edgecolor='none',alpha=0.2)\n",
    "curP = 0.75\n",
    "plt.fill_between(x,np.quantile(allYs,curP,axis=0),np.quantile(allYs,1-curP,axis=0),color='k',edgecolor='none',alpha=0.2)\n",
    "plt.plot(x,np.median(allYs,axis=0),'k')\n",
    "plt.plot(x,yTrue,'b*:')\n",
    "plt.plot(x,yNoise,'m.')"
   ]
  },
  {
   "cell_type": "code",
   "execution_count": null,
   "metadata": {},
   "outputs": [],
   "source": []
  }
 ],
 "metadata": {
  "interpreter": {
   "hash": "c031fd63bd977d199cd6020c30a19695eacbb638d100e0b8a5ea53080ed74a9a"
  },
  "kernelspec": {
   "display_name": "Python 3.8.12 64-bit ('main': conda)",
   "language": "python",
   "name": "python3"
  },
  "language_info": {
   "codemirror_mode": {
    "name": "ipython",
    "version": 3
   },
   "file_extension": ".py",
   "mimetype": "text/x-python",
   "name": "python",
   "nbconvert_exporter": "python",
   "pygments_lexer": "ipython3",
   "version": "3.8.12"
  },
  "orig_nbformat": 4
 },
 "nbformat": 4,
 "nbformat_minor": 2
}
