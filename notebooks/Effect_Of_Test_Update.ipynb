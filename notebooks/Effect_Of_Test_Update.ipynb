{
 "cells": [
  {
   "cell_type": "code",
   "execution_count": 1,
   "metadata": {},
   "outputs": [
    {
     "name": "stdout",
     "output_type": "stream",
     "text": [
      "saveFigures is set to: True\n",
      "Done loading packages\n"
     ]
    }
   ],
   "source": [
    "%matplotlib widget\n",
    "# Load packages and settings\n",
    "import numpy as np\n",
    "import pandas as pd\n",
    "pd.set_option('display.max_rows', 500)\n",
    "pd.set_option('display.min_rows', 50)\n",
    "import seaborn as sns\n",
    "\n",
    "\n",
    "import matplotlib.pyplot as plt\n",
    "plt.rcParams['figure.figsize'] = (12,8)\n",
    "plt.rcParams[\"image.cmap\"] = \"tab10\"\n",
    "plt.rcParams['axes.prop_cycle'] = plt.cycler(color=plt.cm.tab10.colors)\n",
    "fs_label = 16\n",
    "parameters = {\n",
    "                'axes.labelsize': fs_label,\n",
    "                'axes.titlesize': fs_label+4,\n",
    "                'xtick.labelsize': fs_label,\n",
    "                'ytick.labelsize': fs_label, \n",
    "                'legend.fontsize': fs_label, \n",
    "                'lines.markersize': 10,\n",
    "                'lines.linewidth': 3\n",
    "             }\n",
    "plt.rcParams.update(parameters)\n",
    "from matplotlib import cm # Colormaps\n",
    "import matplotlib.colors as colors\n",
    "# cmap = plt.cm.get_cmap('Dark2',len(ageGroups))\n",
    "\n",
    "import locale\n",
    "import matplotlib.dates as mdates\n",
    "locale.setlocale(locale.LC_TIME,\"Danish\")\n",
    "# ax1.xaxis.set_major_formatter(mdates.DateFormatter('%b\\n%Y'))\n",
    "# ax1.spines['top'].set_visible(False) \n",
    "\n",
    "import os\n",
    "# import csv\n",
    "import math\n",
    "\n",
    "from datetime import date\n",
    "\n",
    "\n",
    "saveFigures = True\n",
    "# saveFigures = False\n",
    "print('saveFigures is set to: '+str(saveFigures))\n",
    "\n",
    "print('Done loading packages')\n",
    "\n",
    "# Define running mean functions\n",
    "def rnMean(data,meanWidth):\n",
    "    return np.convolve(data, np.ones(meanWidth)/meanWidth, mode='valid')\n",
    "def rnTime(t,meanWidth):\n",
    "    return t[math.floor(meanWidth/2):-math.ceil(meanWidth/2)+1]\n",
    "def rnTime2(t,meanWidth):\n",
    "    return t[meanWidth-1:]"
   ]
  },
  {
   "cell_type": "code",
   "execution_count": 2,
   "metadata": {},
   "outputs": [],
   "source": [
    "# Define paths\n",
    "rootdir_data = os.getcwd() +\"\\\\..\\\\DanskeData\\\\\" \n",
    "\n",
    "path_data = rootdir_data + \"ssi_data\\\\\"\n",
    "path_dash = rootdir_data + \"ssi_dashboard\\\\\"\n",
    "path_vacc = rootdir_data + \"ssi_vacc\\\\\"\n",
    "\n",
    "path_figs = os.getcwd() +\"\\\\..\\\\Figures\\\\\" "
   ]
  },
  {
   "cell_type": "code",
   "execution_count": 3,
   "metadata": {},
   "outputs": [],
   "source": [
    "latestsubdir = list(os.walk(path_data))[0][1][-1]\n",
    "latestdir = path_data + latestsubdir\n"
   ]
  },
  {
   "cell_type": "code",
   "execution_count": 4,
   "metadata": {},
   "outputs": [],
   "source": [
    "# Load the data\n",
    "fulldfPCR = pd.read_csv(latestdir+'/Test_pos_over_time.csv',delimiter = ';',dtype=str)\n",
    "fulldfAG = pd.read_csv(latestdir+'/Test_pos_over_time_antigen.csv',delimiter = ';',dtype=str)\n",
    "dfAG2 = pd.read_csv(latestdir+'/Antigentests_pr_dag.csv',delimiter = ';')\n",
    "\n",
    "# Cut out the last two rows of summary numbers\n",
    "dfPCR = fulldfPCR.iloc[:-2,:].copy()\n",
    "dfAG = fulldfAG.iloc[:-2,:].copy()\n",
    "\n",
    "# Format columns correctly\n",
    "dfPCR[\"PosPct\"] = pd.to_numeric(dfPCR[\"PosPct\"].astype(str).apply(lambda x: x.replace(',','.')))\n",
    "dfPCR[\"Date\"] = dfPCR[\"Date\"].astype('datetime64[D]')\n",
    "dfAG[\"PosPct\"] = pd.to_numeric(dfAG[\"PosPct\"].astype(str).apply(lambda x: x.replace(',','.')))\n",
    "dfAG[\"Date\"] = dfAG[\"Date\"].astype('datetime64[D]')\n",
    "\n",
    "rows_to_fix_period_in = [\"NewPositive\",\"NotPrevPos\",\"PrevPos\",\"Tested\",\"Tested_kumulativ\"]\n",
    "for name in rows_to_fix_period_in:\n",
    "    dfAG[name] = pd.to_numeric(dfAG[name].astype(str).apply(lambda x: x.replace('.','')))\n",
    "    dfPCR[name] = pd.to_numeric(dfPCR[name].astype(str).apply(lambda x: x.replace('.','')))\n",
    "\n",
    "dfAG2[\"Dato\"] = dfAG2[\"Dato\"].astype('datetime64[D]')\n",
    "dfAG2[\"Andel_AGpos_PCRkonf_pct\"] = pd.to_numeric(dfAG2[\"Andel_AGpos_PCRkonf_pct\"].astype(str).apply(lambda x: x.replace(',','.')))\n",
    "dfAG2[\"Andel_AGminusPCRkonf_pct\"] = pd.to_numeric(dfAG2[\"Andel_AGminusPCRkonf_pct\"].astype(str).apply(lambda x: x.replace(',','.')))\n",
    "\n",
    "# Cut off early data in PCR dataframe\n",
    "dfPCR = dfPCR[dfPCR.Date >= dfAG.iloc[0].Date]\n",
    "\n",
    "# Also cutoff everything before first of January\n",
    "firstDate = np.datetime64('2021-02-01')\n",
    "dfPCR = dfPCR[dfPCR.Date >= firstDate]\n",
    "dfAG = dfAG[dfAG.Date >= firstDate]\n",
    "\n",
    "# Cut off last date (since it is not fully done)\n",
    "dfPCR = dfPCR.iloc[:-1]\n",
    "dfAG = dfAG.iloc[:-1]\n",
    "\n",
    "# Get dates\n",
    "curDates = dfPCR.Date.values.astype('datetime64[D]')\n",
    "confDates = dfAG2.Dato.values.astype('datetime64[D]')"
   ]
  },
  {
   "cell_type": "code",
   "execution_count": 5,
   "metadata": {},
   "outputs": [
    {
     "data": {
      "text/html": [
       "<div>\n",
       "<style scoped>\n",
       "    .dataframe tbody tr th:only-of-type {\n",
       "        vertical-align: middle;\n",
       "    }\n",
       "\n",
       "    .dataframe tbody tr th {\n",
       "        vertical-align: top;\n",
       "    }\n",
       "\n",
       "    .dataframe thead th {\n",
       "        text-align: right;\n",
       "    }\n",
       "</style>\n",
       "<table border=\"1\" class=\"dataframe\">\n",
       "  <thead>\n",
       "    <tr style=\"text-align: right;\">\n",
       "      <th></th>\n",
       "      <th>Dato</th>\n",
       "      <th>AG_testede</th>\n",
       "      <th>AG_pos</th>\n",
       "      <th>AGpos_PCRkonf</th>\n",
       "      <th>Andel_AGpos_PCRkonf_pct</th>\n",
       "      <th>AGpos_minusPCRkonf</th>\n",
       "      <th>Andel_AGminusPCRkonf_pct</th>\n",
       "      <th>AGpos_PCRpos</th>\n",
       "      <th>AGposPCRneg</th>\n",
       "      <th>AGnegPCRpos</th>\n",
       "      <th>AGnegPCRneg</th>\n",
       "    </tr>\n",
       "  </thead>\n",
       "  <tbody>\n",
       "    <tr>\n",
       "      <th>350</th>\n",
       "      <td>2022-01-17</td>\n",
       "      <td>273730</td>\n",
       "      <td>11766</td>\n",
       "      <td>9882</td>\n",
       "      <td>83.987761</td>\n",
       "      <td>1884</td>\n",
       "      <td>16.012239</td>\n",
       "      <td>8768</td>\n",
       "      <td>833</td>\n",
       "      <td>11458</td>\n",
       "      <td>43104</td>\n",
       "    </tr>\n",
       "    <tr>\n",
       "      <th>351</th>\n",
       "      <td>2022-01-18</td>\n",
       "      <td>266106</td>\n",
       "      <td>11832</td>\n",
       "      <td>9786</td>\n",
       "      <td>82.707911</td>\n",
       "      <td>2046</td>\n",
       "      <td>17.292089</td>\n",
       "      <td>8679</td>\n",
       "      <td>883</td>\n",
       "      <td>10487</td>\n",
       "      <td>42754</td>\n",
       "    </tr>\n",
       "    <tr>\n",
       "      <th>352</th>\n",
       "      <td>2022-01-19</td>\n",
       "      <td>248133</td>\n",
       "      <td>10733</td>\n",
       "      <td>8616</td>\n",
       "      <td>80.275785</td>\n",
       "      <td>2117</td>\n",
       "      <td>19.724215</td>\n",
       "      <td>7688</td>\n",
       "      <td>759</td>\n",
       "      <td>9383</td>\n",
       "      <td>40385</td>\n",
       "    </tr>\n",
       "    <tr>\n",
       "      <th>353</th>\n",
       "      <td>2022-01-20</td>\n",
       "      <td>253772</td>\n",
       "      <td>10436</td>\n",
       "      <td>8400</td>\n",
       "      <td>80.490609</td>\n",
       "      <td>2036</td>\n",
       "      <td>19.509391</td>\n",
       "      <td>7484</td>\n",
       "      <td>757</td>\n",
       "      <td>9153</td>\n",
       "      <td>37280</td>\n",
       "    </tr>\n",
       "    <tr>\n",
       "      <th>354</th>\n",
       "      <td>2022-01-21</td>\n",
       "      <td>256877</td>\n",
       "      <td>10508</td>\n",
       "      <td>8176</td>\n",
       "      <td>77.807385</td>\n",
       "      <td>2332</td>\n",
       "      <td>22.192615</td>\n",
       "      <td>7317</td>\n",
       "      <td>717</td>\n",
       "      <td>8451</td>\n",
       "      <td>33407</td>\n",
       "    </tr>\n",
       "  </tbody>\n",
       "</table>\n",
       "</div>"
      ],
      "text/plain": [
       "          Dato  AG_testede  AG_pos  AGpos_PCRkonf  Andel_AGpos_PCRkonf_pct  \\\n",
       "350 2022-01-17      273730   11766           9882                83.987761   \n",
       "351 2022-01-18      266106   11832           9786                82.707911   \n",
       "352 2022-01-19      248133   10733           8616                80.275785   \n",
       "353 2022-01-20      253772   10436           8400                80.490609   \n",
       "354 2022-01-21      256877   10508           8176                77.807385   \n",
       "\n",
       "     AGpos_minusPCRkonf  Andel_AGminusPCRkonf_pct  AGpos_PCRpos  AGposPCRneg  \\\n",
       "350                1884                 16.012239          8768          833   \n",
       "351                2046                 17.292089          8679          883   \n",
       "352                2117                 19.724215          7688          759   \n",
       "353                2036                 19.509391          7484          757   \n",
       "354                2332                 22.192615          7317          717   \n",
       "\n",
       "     AGnegPCRpos  AGnegPCRneg  \n",
       "350        11458        43104  \n",
       "351        10487        42754  \n",
       "352         9383        40385  \n",
       "353         9153        37280  \n",
       "354         8451        33407  "
      ]
     },
     "execution_count": 5,
     "metadata": {},
     "output_type": "execute_result"
    }
   ],
   "source": [
    "dfAG.tail()\n",
    "dfPCR.tail()\n",
    "dfAG2.tail()"
   ]
  },
  {
   "cell_type": "code",
   "execution_count": 6,
   "metadata": {},
   "outputs": [
    {
     "data": {
      "application/vnd.jupyter.widget-view+json": {
       "model_id": "0268e76253784e3ea063bb43e9092021",
       "version_major": 2,
       "version_minor": 0
      },
      "text/plain": [
       "Canvas(toolbar=Toolbar(toolitems=[('Home', 'Reset original view', 'home', 'home'), ('Back', 'Back to previous …"
      ]
     },
     "metadata": {},
     "output_type": "display_data"
    },
    {
     "data": {
      "text/plain": [
       "<matplotlib.legend.Legend at 0x27160c49640>"
      ]
     },
     "execution_count": 6,
     "metadata": {},
     "output_type": "execute_result"
    }
   ],
   "source": [
    "fig,(ax1,ax2,ax3) = plt.subplots(3,1,sharex=True,figsize=(12,16),tight_layout=True)\n",
    "\n",
    "PCRpos = dfPCR.NewPositive\n",
    "AGpos = dfAG.NewPositive\n",
    "PCRtest = dfPCR.Tested\n",
    "AGtest = dfAG.Tested\n",
    "ax1.plot(curDates,PCRtest,label='PCR')\n",
    "ax1.plot(curDates,AGtest,label='AG')\n",
    "ax2.plot(curDates,PCRpos,label='PCR')\n",
    "ax2.plot(curDates,AGpos,label='AG')\n",
    "ax3.plot(curDates,100 * np.divide(PCRpos,PCRtest),label='PCR')\n",
    "ax3.plot(curDates,100 * np.divide(AGpos,AGtest),label='AG')\n",
    "\n",
    "ax1.xaxis.set_major_formatter(mdates.DateFormatter('%d. %b'))\n",
    "# ax2.xaxis.set_major_formatter(mdates.DateFormatter('%d. %b'))\n",
    "# ax3.xaxis.set_major_formatter(mdates.DateFormatter('%d. %b'))\n",
    "\n",
    "ax1.set_ylabel('Antal tests')\n",
    "ax2.set_ylabel('Antal positive')\n",
    "ax3.set_ylabel('Positiv procent [%]')\n",
    "\n",
    "\n",
    "ax1.set_ylim(bottom=0)\n",
    "ax2.set_ylim(bottom=0)\n",
    "ax3.set_ylim(bottom=0)\n",
    "\n",
    "ax1.legend()\n",
    "ax2.legend()\n",
    "ax3.legend()\n",
    "# ax1.legend(loc='center left',bbox_to_anchor = (1.0, 0.5))\n",
    "\n",
    "# ax1.set_xlim([firstDate,lastDate])"
   ]
  },
  {
   "cell_type": "code",
   "execution_count": 7,
   "metadata": {},
   "outputs": [
    {
     "data": {
      "text/plain": [
       "472.4536723764267"
      ]
     },
     "execution_count": 7,
     "metadata": {},
     "output_type": "execute_result"
    }
   ],
   "source": [
    "dfAG2.tail()\n",
    "750*np.power((30000/140000),0.3)"
   ]
  },
  {
   "cell_type": "code",
   "execution_count": 8,
   "metadata": {},
   "outputs": [],
   "source": [
    "# Beregninger\n",
    "PCRpos = dfPCR.NewPositive.values\n",
    "PCRtest = dfPCR.Tested.values\n",
    "AGpos = dfAG.NewPositive.values\n",
    "AGtest = dfAG.Tested.values\n",
    "AGposPCRpos = dfAG2.AGpos_PCRpos.values\n",
    "\n",
    "PCRposPct = np.divide(PCRpos,PCRtest)\n",
    "AGposPct = np.divide(AGpos,AGtest)\n",
    "\n",
    "# Calculate the true positive rate\n",
    "AGtruePos = np.divide(dfAG2.AGpos_PCRpos,dfAG2.AG_pos)\n",
    "avgTruePos = AGtruePos.iloc[-14:].mean()\n",
    "avgConf = 0.01*dfAG2['Andel_AGpos_PCRkonf_pct'].iloc[-14:].mean()\n",
    "\n",
    "# Projectér hvor mange der bekræftes i de to dage der endnu ikke er bekræftet\n",
    "# AGproj = np.divide(avgTruePos*dfAG2['AG_pos'],0.01*dfAG2['Andel_AGpos_PCRkonf_pct'].values)\n",
    "AGproj = np.divide(avgTruePos*AGpos,avgConf)\n",
    "confDatesProj = np.concatenate([confDates[:],curDates[-2:]])\n",
    "confDatesProj = np.append(confDates[:],curDates[-2:]).astype('datetime64[D]')\n",
    "AGposPCRposProj = np.append(AGposPCRpos,AGproj[-2:])\n",
    "# \n",
    "PCRpos_nonAG = PCRpos - AGposPCRposProj"
   ]
  },
  {
   "cell_type": "code",
   "execution_count": null,
   "metadata": {},
   "outputs": [],
   "source": []
  },
  {
   "cell_type": "code",
   "execution_count": 9,
   "metadata": {},
   "outputs": [
    {
     "data": {
      "application/vnd.jupyter.widget-view+json": {
       "model_id": "58eda211f85e44bfa718e272e11cdd71",
       "version_major": 2,
       "version_minor": 0
      },
      "text/plain": [
       "Canvas(toolbar=Toolbar(toolitems=[('Home', 'Reset original view', 'home', 'home'), ('Back', 'Back to previous …"
      ]
     },
     "metadata": {},
     "output_type": "display_data"
    },
    {
     "data": {
      "text/plain": [
       "<matplotlib.legend.Legend at 0x27161cffb80>"
      ]
     },
     "execution_count": 9,
     "metadata": {},
     "output_type": "execute_result"
    }
   ],
   "source": [
    "# fig,(ax1,ax2) = plt.subplots(2,1,tight_layout=True,sharex=True)\n",
    "fig,(ax3,ax1,ax2) = plt.subplots(3,1,tight_layout=True,sharex=True)\n",
    "\n",
    "\n",
    "ax3.plot(curDates,PCRpos,label='PCR-positive, alle')\n",
    "# ax3.plot(curDates,PCRpos_nonAG,label='PCR-positive, uden AG-konfirmatorisk')\n",
    "ax3.plot(curDates,AGposPCRposProj,'g',label='PCR-positive, AG-konfirmatoriske')\n",
    "# ax3.set_yscale('log')\n",
    "\n",
    "\n",
    "ax1.plot(curDates,PCRpos,label='PCR-positive, alle')\n",
    "# ax1.plot(curDates,PCRpos_nonAG,label='PCR-positive, uden AG-konfirmatorisk')\n",
    "ax1.plot(curDates,AGposPCRposProj,'g',label='PCR-positive, AG-konfirmatoriske')\n",
    "\n",
    "ax2.plot(curDates,100*np.divide(AGposPCRposProj,PCRpos),'g',label='AG-konfirmatoriske')\n",
    "\n",
    "# ax1.plot(dfAG2.Dato,dfAG2.AGpos_PCRkonf)\n",
    "# ax1.plot(dfPCR.Date,dfPCR.NewPositive)\n",
    "\n",
    "\n",
    "ax1.set_ylim(bottom=0)\n",
    "ax2.set_ylim(bottom=0)\n",
    "ax3.set_ylim(bottom=0)\n",
    "# ax2.set_ylim(top=100)\n",
    "ax3.set_ylim(top=1500)\n",
    "\n",
    "ax1.set_ylabel('Antal positive')\n",
    "ax3.set_ylabel('Antal positive')\n",
    "ax2.set_ylabel('Andel af test [%]')\n",
    "\n",
    "ax1.legend()\n",
    "ax2.legend()\n",
    "ax3.legend(loc='upper right')"
   ]
  },
  {
   "cell_type": "code",
   "execution_count": 10,
   "metadata": {},
   "outputs": [
    {
     "data": {
      "application/vnd.jupyter.widget-view+json": {
       "model_id": "7b80b8219f864ec19383f284894aa9ff",
       "version_major": 2,
       "version_minor": 0
      },
      "text/plain": [
       "Canvas(toolbar=Toolbar(toolitems=[('Home', 'Reset original view', 'home', 'home'), ('Back', 'Back to previous …"
      ]
     },
     "metadata": {},
     "output_type": "display_data"
    },
    {
     "data": {
      "text/plain": [
       "<matplotlib.legend.Legend at 0x2716215b2e0>"
      ]
     },
     "execution_count": 10,
     "metadata": {},
     "output_type": "execute_result"
    }
   ],
   "source": [
    "fig,(ax1,ax2) = plt.subplots(2,1,tight_layout=True,sharex=True)\n",
    "\n",
    "ag_TP = dfAG2.AGpos_PCRpos\n",
    "ag_FP = dfAG2.AGposPCRneg\n",
    "ag_TN = dfAG2.AGnegPCRneg\n",
    "ag_FN = dfAG2.AGnegPCRpos\n",
    "\n",
    "ag_sens = np.divide(ag_TP,ag_TP+ag_FN)\n",
    "ag_spec = np.divide(ag_TN,ag_TN+ag_FP)\n",
    "ag_prec = np.divide(ag_TP,ag_TP+ag_FP) # Precision, or positive predictive value\n",
    "ag_accu = np.divide(ag_TP+ag_TN,ag_TP+ag_TN+ag_FP+ag_FN)\n",
    "\n",
    "ax1.plot(dfAG2.Dato,ag_sens,label='AG sensitivity')\n",
    "ax2.plot(dfAG2.Dato,ag_spec,label='AG specificity')\n",
    "ax1.plot(dfAG2.Dato,ag_prec,label='AG Precision')\n",
    "ax2.plot(dfAG2.Dato,ag_accu,label='AG accuracy')\n",
    "\n",
    "\n",
    "ax1.legend()\n",
    "ax2.legend()\n",
    "\n",
    "# AG_TP = np.divide(dfAG2.AGpos_PCRpos,dfAG2.AGposPCRneg+dfAG2.AGpos_PCRpos)\n",
    "# AG_P = np.divide(dfAG2.AGpos_PCRpos,dfAG2.AGposPCRneg+dfAG2.AGpos_PCRpos)\n",
    "\n",
    "# ax1.plot(dfAG2.Dato,dfAG2.Andel_AGpos_PCRkonf_pct)\n",
    "# ax1.plot(dfAG2.Dato,100*AG_TP)\n",
    "# ax2.plot(dfAG2.Dato,dfAG2.AG_testede)\n",
    "# ax2.plot(dfAG2.Dato,dfAG2.AG_pos)\n",
    "# ax2.plot(dfAG2.Dato,dfAG2.AGpos_PCRkonf)\n",
    "# ax2.plot(dfAG2.Dato,dfAG2.AGpos_minusPCRkonf)\n",
    "# ax2.plot(dfAG2.Dato,dfAG2.AGpos_PCRkonf+dfAG2.AGpos_minusPCRkonf,':')\n",
    "# ax2.plot(dfAG2.Dato,AG_TP)"
   ]
  },
  {
   "cell_type": "code",
   "execution_count": 11,
   "metadata": {},
   "outputs": [],
   "source": [
    "# fig,ax1 = plt.subplots(1,1,sharex=True)\n",
    "# meanWidth = 7\n",
    "\n",
    "# ax1.plot(curDates,AGpos,'.-',color='xkcd:green',linewidth=0.5,markersize=2)\n",
    "# ax1.plot(rnTime(curDates,meanWidth),rnMean(AGpos,meanWidth),color='xkcd:green',label='AG positive, total')\n",
    "\n",
    "# ax1.plot(confDatesProj,AGposPCRposProj,'.-',color='xkcd:dark green',linewidth=0.5,markersize=2)\n",
    "# ax1.plot(confDatesProj[-2:],AGposPCRposProj[-2:],'*',color='xkcd:dark green',markersize=5)\n",
    "# ax1.plot(rnTime(confDatesProj,meanWidth),rnMean(AGposPCRposProj,meanWidth),color='xkcd:dark green',label='AG positive, PCR bekræftede')\n",
    "\n",
    "\n",
    "# ax1.legend(loc='upper left')\n",
    "# ax1.grid()\n",
    "# # ax1.set_ylim(bottom=0,top=500)\n",
    "# ax1.set_ylabel('Antal')"
   ]
  },
  {
   "cell_type": "code",
   "execution_count": 12,
   "metadata": {},
   "outputs": [],
   "source": [
    "# fig,ax1 = plt.subplots(1,1,sharex=True)\n",
    "\n",
    "# ax1.plot(curDates,PCRpos,'.-',color='xkcd:brown',linewidth=0.5,markersize=2)\n",
    "# ax1.plot(rnTime(curDates,meanWidth),rnMean(PCRpos,meanWidth),color='xkcd:brown',label='PCR positive, alle')\n",
    "\n",
    "# ax1.plot(curDates,AGposPCRposProj,'.-',color='xkcd:dark green',linewidth=0.5,markersize=2)\n",
    "# ax1.plot(curDates[-2:],AGposPCRposProj[-2:],'*',color='xkcd:dark green',markersize=5)\n",
    "# ax1.plot(rnTime(curDates,meanWidth),rnMean(AGposPCRposProj,meanWidth),color='xkcd:dark green',label='AG positive, PCR bekræftede')\n",
    "\n",
    "# ax1.plot(curDates,PCRpos_nonAG,'.-',color='xkcd:dark blue',linewidth=0.5,markersize=2)\n",
    "# ax1.plot(rnTime(curDates,meanWidth),rnMean(PCRpos_nonAG,meanWidth),color='xkcd:dark blue',label='PCR positive, uden AG bekræftning')\n",
    "\n",
    "# ax1.legend(loc='upper left')\n",
    "# ax1.grid()"
   ]
  },
  {
   "cell_type": "markdown",
   "metadata": {},
   "source": [
    "# Metoder fra rapport"
   ]
  },
  {
   "cell_type": "code",
   "execution_count": 13,
   "metadata": {},
   "outputs": [],
   "source": [
    "# Beregninger\n",
    "PCRpos = dfPCR.NewPositive.values\n",
    "numPCR = dfPCR.Tested.values\n",
    "AGpos = dfAG.NewPositive.values\n",
    "numAG = dfAG.Tested.values\n",
    "AGposPCRpos = dfAG2.AGpos_PCRpos.values\n",
    "\n",
    "PCRposPct = np.divide(PCRpos,numPCR)\n",
    "AGposPct = np.divide(AGpos,numAG)\n",
    "\n",
    "# Calculate the true positive rate\n",
    "AGtruePos = np.divide(dfAG2.AGpos_PCRpos,dfAG2.AG_pos)\n",
    "avgTruePos = AGtruePos.iloc[-14:].mean()\n",
    "avgConf = 0.01*dfAG2['Andel_AGpos_PCRkonf_pct'].iloc[-14:].mean()\n",
    "\n",
    "# Projectér hvor mange der bekræftes i de to dage der endnu ikke er bekræftet\n",
    "# AGproj = np.divide(avgTruePos*dfAG2['AG_pos'],0.01*dfAG2['Andel_AGpos_PCRkonf_pct'].values)\n",
    "AGproj = np.divide(avgTruePos*AGpos,avgConf)\n",
    "confDatesProj = np.concatenate([confDates[:],curDates[-2:]])\n",
    "confDatesProj = np.append(confDates[:],curDates[-2:]).astype('datetime64[D]')\n",
    "AGposPCRposProj = np.append(AGposPCRpos,AGproj[-2:])\n",
    "# \n",
    "PCRpos_nonAG = PCRpos - AGposPCRposProj\n",
    "\n",
    "# \n",
    "PCRnoscreen = PCRpos_nonAG * ( (30000/dfPCR.Tested)**0.7)\n",
    "PCRscreen = PCRpos_nonAG - PCRnoscreen\n",
    "\n",
    "# Bredde af rullende gennemsnit\n",
    "meanWidth = 7\n"
   ]
  },
  {
   "cell_type": "code",
   "execution_count": 14,
   "metadata": {},
   "outputs": [
    {
     "data": {
      "application/vnd.jupyter.widget-view+json": {
       "model_id": "4f8ff7345ece4351835cd4ce890ee1bd",
       "version_major": 2,
       "version_minor": 0
      },
      "text/plain": [
       "Canvas(toolbar=Toolbar(toolitems=[('Home', 'Reset original view', 'home', 'home'), ('Back', 'Back to previous …"
      ]
     },
     "metadata": {},
     "output_type": "display_data"
    },
    {
     "data": {
      "text/plain": [
       "(18659.0, 19015.0)"
      ]
     },
     "execution_count": 14,
     "metadata": {},
     "output_type": "execute_result"
    }
   ],
   "source": [
    "fig,ax1 = plt.subplots(1,1,sharex=True,tight_layout=True)\n",
    "\n",
    "\n",
    "cmap = plt.cm.get_cmap('tab20',7)\n",
    "\n",
    "ax1.fill_between(rnTime2(curDates,meanWidth),rnMean(PCRnoscreen,meanWidth),color=cmap(0),label='PCR positive, ved 30.000 tests')\n",
    "ax1.fill_between(rnTime2(curDates,meanWidth),rnMean(PCRpos_nonAG,meanWidth),rnMean(PCRnoscreen,meanWidth),color=cmap(1),label='PCR positive, kun screening')\n",
    "\n",
    "\n",
    "ax1.fill_between(rnTime2(curDates,meanWidth),rnMean(PCRpos,meanWidth),rnMean(PCRpos_nonAG,meanWidth),color=cmap(2),label='PCR positive, efter AG positive') \n",
    "\n",
    "# ax1.plot(curDates,PCRpos,'k.:',markersize=4,linewidth=0.5)\n",
    "\n",
    "ax1.legend(loc='upper left')\n",
    "ax1.grid(color='k')\n",
    "ax1.set_ylim(bottom=0)\n",
    "# ax1.set_ylim(bottom=0,top=1100)\n",
    "ax1.set_ylabel('Antal')\n",
    "\n",
    "ax1.xaxis.set_major_formatter(mdates.DateFormatter('%d.\\n%B'))\n",
    "\n",
    "curLastDate = rnTime2(curDates,meanWidth)[-1]\n",
    "ax1.set_xlim([firstDate,curLastDate])\n",
    "# plt.tight_layout()"
   ]
  },
  {
   "cell_type": "code",
   "execution_count": 15,
   "metadata": {},
   "outputs": [],
   "source": [
    "AGpospct2 = np.divide(dfAG2['AGpos_PCRpos'],dfAG2['AG_testede'])\n",
    "AGpospct2Mean = AGpospct2.values[-14:].mean()\n",
    "AGpospct2 = np.append(AGpospct2,AGpospct2Mean)\n",
    "AGpospct2 = np.append(AGpospct2,AGpospct2Mean)\n",
    "\n",
    "AGsens = np.divide(dfAG2['AGpos_PCRpos'], dfAG2['AGpos_PCRpos'] + dfAG2['AGnegPCRpos'])\n",
    "AGsensmean = AGsens.values[-14:].mean()\n",
    "AGsens = np.append(AGsens,AGsensmean)\n",
    "AGsens = np.append(AGsens,AGsensmean)\n",
    "\n",
    "pcrScreenSimple = dfPCR.Tested - 30000\n",
    "\n",
    "hardCodedSens = 0.618\n",
    "# hardCodedSens = 0.492\n",
    "curEstimate = np.multiply(pcrScreenSimple.values,np.divide(AGpospct2,hardCodedSens))\n"
   ]
  },
  {
   "cell_type": "code",
   "execution_count": 16,
   "metadata": {},
   "outputs": [
    {
     "data": {
      "application/vnd.jupyter.widget-view+json": {
       "model_id": "b33a8034ef944a1aa0927892b85b4b20",
       "version_major": 2,
       "version_minor": 0
      },
      "text/plain": [
       "Canvas(toolbar=Toolbar(toolitems=[('Home', 'Reset original view', 'home', 'home'), ('Back', 'Back to previous …"
      ]
     },
     "metadata": {},
     "output_type": "display_data"
    },
    {
     "data": {
      "text/plain": [
       "(18687.0, 19015.0)"
      ]
     },
     "execution_count": 16,
     "metadata": {},
     "output_type": "execute_result"
    }
   ],
   "source": [
    "fig,ax1 = plt.subplots(tight_layout=True)\n",
    "\n",
    "\n",
    "\n",
    "\n",
    "meanDays = rnTime2(curDates,meanWidth)\n",
    "\n",
    "\n",
    "ax1.stackplot(meanDays,\n",
    "    rnMean(PCRpos-AGposPCRposProj - curEstimate,meanWidth),\n",
    "    rnMean(curEstimate,meanWidth),\n",
    "    rnMean(AGposPCRposProj,meanWidth),\n",
    "    labels=['PCR positive, ved 30.000 tests','PCR positive, kun screening','PCR positive, efter AG positive'],\n",
    "    colors=[cmap(0),cmap(1),cmap(2)]\n",
    "    )\n",
    "\n",
    "ax1.legend(loc='upper left')\n",
    "ax1.grid(color='k')\n",
    "# ax1.set_ylim(bottom=0,top=7000)\n",
    "ax1.set_ylim(bottom=0) \n",
    "# ax1.set_ylim(bottom=0,top=1100)\n",
    "ax1.set_ylabel('Antal')\n",
    "\n",
    "ax1.xaxis.set_major_formatter(mdates.DateFormatter('%d.\\n%B'))\n",
    "\n",
    "curLastDate = rnTime2(curDates,meanWidth)[-1]\n",
    "firstDate = np.datetime64('2021-03-01')\n",
    "ax1.set_xlim([firstDate,curLastDate])\n",
    "# plt.tight_layout()\n",
    "\n",
    "# if saveFigures:\n",
    "#     plt.savefig('figs/Screening_Metode2')"
   ]
  },
  {
   "cell_type": "code",
   "execution_count": null,
   "metadata": {},
   "outputs": [],
   "source": []
  }
 ],
 "metadata": {
  "interpreter": {
   "hash": "c031fd63bd977d199cd6020c30a19695eacbb638d100e0b8a5ea53080ed74a9a"
  },
  "kernelspec": {
   "display_name": "Python 3.8.12 64-bit ('main': conda)",
   "language": "python",
   "name": "python3"
  },
  "language_info": {
   "codemirror_mode": {
    "name": "ipython",
    "version": 3
   },
   "file_extension": ".py",
   "mimetype": "text/x-python",
   "name": "python",
   "nbconvert_exporter": "python",
   "pygments_lexer": "ipython3",
   "version": "3.8.12"
  },
  "orig_nbformat": 4
 },
 "nbformat": 4,
 "nbformat_minor": 2
}
