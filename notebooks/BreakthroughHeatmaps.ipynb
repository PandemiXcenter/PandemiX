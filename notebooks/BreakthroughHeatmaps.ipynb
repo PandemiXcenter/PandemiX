{
 "cells": [
  {
   "cell_type": "code",
   "execution_count": 1,
   "metadata": {},
   "outputs": [
    {
     "name": "stdout",
     "output_type": "stream",
     "text": [
      "saveFigures is set to: True\n",
      "Done loading packages\n"
     ]
    }
   ],
   "source": [
    "# Load packages and settings\n",
    "import numpy as np\n",
    "import pandas as pd\n",
    "pd.set_option('display.max_rows', 500)\n",
    "pd.set_option('display.min_rows', 50)\n",
    "import seaborn as sns\n",
    "\n",
    "\n",
    "import matplotlib.pyplot as plt\n",
    "%matplotlib widget\n",
    "plt.rcParams['figure.figsize'] = (12,8)\n",
    "plt.rcParams[\"image.cmap\"] = \"tab10\"\n",
    "plt.rcParams['axes.prop_cycle'] = plt.cycler(color=plt.cm.tab10.colors)\n",
    "fs_label = 15\n",
    "parameters = {\n",
    "                'axes.labelsize': fs_label,\n",
    "                'axes.titlesize': fs_label+4,\n",
    "                'xtick.labelsize': fs_label,\n",
    "                'ytick.labelsize': fs_label, \n",
    "                'legend.fontsize': fs_label, \n",
    "                'lines.markersize': 10,\n",
    "                'lines.linewidth': 3\n",
    "             }\n",
    "plt.rcParams.update(parameters)\n",
    "%matplotlib widget\n",
    "from matplotlib import cm # Colormaps\n",
    "import matplotlib.colors as colors\n",
    "# cmap = plt.cm.get_cmap('Dark2',len(ageGroups))\n",
    "\n",
    "import locale\n",
    "import matplotlib.dates as mdates\n",
    "locale.setlocale(locale.LC_TIME,\"Danish\")\n",
    "# ax1.xaxis.set_major_formatter(mdates.DateFormatter('%b\\n%Y'))\n",
    "\n",
    "from matplotlib.colors import LinearSegmentedColormap\n",
    "\n",
    "\n",
    "import os\n",
    "# import csv\n",
    "import math\n",
    "\n",
    "from datetime import date\n",
    "\n",
    "\n",
    "saveFigures = True\n",
    "# saveFigures = False\n",
    "print('saveFigures is set to: '+str(saveFigures))\n",
    "\n",
    "print('Done loading packages')\n",
    "\n",
    "# Define running mean functions\n",
    "def rnMean(data,meanWidth):\n",
    "    return np.convolve(data, np.ones(meanWidth)/meanWidth, mode='valid')\n",
    "def rnTime(t,meanWidth):\n",
    "    return t[math.floor(meanWidth/2):-math.ceil(meanWidth/2)+1]\n",
    "    \n",
    "    \n",
    "# Define paths\n",
    "rootdir_data = os.getcwd() +\"\\\\..\\\\DanskeData\\\\\" \n",
    "\n",
    "path_data = rootdir_data + \"ssi_data\\\\\"\n",
    "path_dash = rootdir_data + \"ssi_dashboard\\\\\"\n",
    "path_vacc = rootdir_data + \"ssi_vacc\\\\\"\n",
    "\n",
    "path_figs = os.getcwd() +\"\\\\..\\\\Figures\\\\\" "
   ]
  },
  {
   "cell_type": "code",
   "execution_count": 2,
   "metadata": {},
   "outputs": [],
   "source": [
    "\n",
    "latestsubdir = list(os.walk(path_dash))[0][1][-1]\n",
    "latestdir = path_dash + latestsubdir\n",
    "latestdir\n",
    "\n",
    "# dfAge = pd.read_csv(latestdir+'\\\\Regionalt_DB\\\\18_fnkt_alder_uge_testede_positive_nyindlagte.csv',delimiter=';',encoding='latin1')\n",
    "\n",
    "dfCurAdmitted = pd.read_csv(latestdir+'\\\\Gennembruds_DB\\\\01_indlagte_pr_vaccinationsstatus.csv',delimiter=';',encoding='latin1')\n",
    "df = pd.read_csv(latestdir+'\\\\Gennembruds_DB\\\\06_nyindlagte_pr_vaccinationsstatus_pr_aldersgrp_pr_uge.csv',delimiter=';',encoding='latin1')\n",
    "\n",
    "df['Nyindlagte pr. 100.000'] = pd.to_numeric(df['Nyindlagte pr. 100.000'].str.replace(',','.'))"
   ]
  },
  {
   "cell_type": "code",
   "execution_count": 3,
   "metadata": {},
   "outputs": [],
   "source": [
    "# curCount.values[0]\n",
    "# df"
   ]
  },
  {
   "cell_type": "code",
   "execution_count": 4,
   "metadata": {},
   "outputs": [],
   "source": [
    "# Shorten data to use\n",
    "firstWeek = 20\n",
    "firstIndexToUse = df[df.Uge == '2021-W20'].index[0]\n",
    "dfShort = df.loc[firstIndexToUse:]\n",
    "\n",
    "dfVacc = dfShort[dfShort.Vaccinationsstatus == 'Forventet fuld effekt']\n",
    "\n",
    "lastWeek = int(df.iloc[-1]['Uge'][-2:])\n",
    "\n",
    "totNumWeeks = int(lastWeek-firstWeek)\n",
    "weekRange = np.arange(firstWeek,lastWeek+1)\n",
    "\n",
    "weekLabels = ['Uge\\n'+str(x) for x in weekRange]\n",
    "weekLabels = ['Uge '+str(x) for x in weekRange]\n",
    "\n",
    "allAgeGroups = df.Aldersgruppe.unique()\n",
    "\n",
    "fullMatVaccInci = np.zeros((totNumWeeks+1,len(allAgeGroups)))\n",
    "fullMatVaccCount = np.zeros((totNumWeeks+1,len(allAgeGroups)))\n",
    "\n",
    "for ageIndex in range(len(allAgeGroups)):\n",
    "    curAgeGroup = allAgeGroups[ageIndex]\n",
    "\n",
    "    agedf = dfVacc[(dfVacc.Aldersgruppe == curAgeGroup)]\n",
    "\n",
    "\n",
    "    ageInci = []\n",
    "    ageCount = []\n",
    "    \n",
    "    # for weekNum in np.arange(firstWeek,lastWeek+1):\n",
    "    for weekIndex in range(totNumWeeks+1):\n",
    "        weekNum = weekRange[weekIndex]\n",
    "        thisdf = agedf[agedf.Uge == str('2021-W'+str(weekNum))]\n",
    "        \n",
    "        curInci = thisdf['Nyindlagte pr. 100.000']\n",
    "        curCount = thisdf['Antal nyindlagte']\n",
    "        \n",
    "        if len(curInci) == 0:\n",
    "            ageInci.append(0)\n",
    "            ageCount.append(0)\n",
    "        else:\n",
    "            ageInci.append(curInci.values[0])\n",
    "            ageCount.append(curCount.values[0])\n",
    "            \n",
    "    fullMatVaccInci[:,ageIndex] = ageInci\n",
    "    fullMatVaccCount[:,ageIndex] = ageCount\n",
    "            \n",
    "# fig,ax1 = plt.subplots()\n",
    "# ax1.plot(weekRange,ageCount)\n",
    "\n",
    "\n",
    "# # list(dfVacc.groupby('Aldersgruppe'))\n",
    "# thisdf = list(dfVacc.groupby('Aldersgruppe'))[1][1]\n",
    "\n",
    "# curWeekNum = pd.to_numeric(thisdf.Uge.apply(lambda x: x[-2:]))\n",
    "\n",
    "# thisdf\n",
    "# # fig,ax1 = plt.subplots()\n",
    "# # ax1.plot(curWeekNum,thisdf['Nyindlagte pr. 100.000'])"
   ]
  },
  {
   "cell_type": "code",
   "execution_count": 5,
   "metadata": {},
   "outputs": [],
   "source": [
    "# Shorten data to use\n",
    "firstWeek = 20\n",
    "firstIndexToUse = df[df.Uge == '2021-W20'].index[0]\n",
    "dfShort = df.loc[firstIndexToUse:]\n",
    "\n",
    "dfUnvacc = dfShort[dfShort.Vaccinationsstatus == 'Ikke vaccineret']\n",
    "\n",
    "lastWeek = int(df.iloc[-1]['Uge'][-2:])\n",
    "\n",
    "totNumWeeks = int(lastWeek-firstWeek)\n",
    "weekRange = np.arange(firstWeek,lastWeek+1)\n",
    "\n",
    "weekLabels = ['Uge\\n'+str(x) for x in weekRange]\n",
    "weekLabels = ['Uge '+str(x) for x in weekRange]\n",
    "\n",
    "allAgeGroups = df.Aldersgruppe.unique()\n",
    "\n",
    "fullMatUnvaccInci = np.zeros((totNumWeeks+1,len(allAgeGroups)))\n",
    "fullMatUnvaccCount = np.zeros((totNumWeeks+1,len(allAgeGroups)))\n",
    "\n",
    "for ageIndex in range(len(allAgeGroups)):\n",
    "    curAgeGroup = allAgeGroups[ageIndex]\n",
    "\n",
    "    agedf = dfUnvacc[(dfUnvacc.Aldersgruppe == curAgeGroup)]\n",
    "\n",
    "\n",
    "    ageInci = []\n",
    "    ageCount = []\n",
    "    \n",
    "    # for weekNum in np.arange(firstWeek,lastWeek+1):\n",
    "    for weekIndex in range(totNumWeeks+1):\n",
    "        weekNum = weekRange[weekIndex]\n",
    "        thisdf = agedf[agedf.Uge == str('2021-W'+str(weekNum))]\n",
    "        \n",
    "        curInci = thisdf['Nyindlagte pr. 100.000']\n",
    "        curCount = thisdf['Antal nyindlagte']\n",
    "        \n",
    "        if len(curInci) == 0:\n",
    "            ageInci.append(0)\n",
    "            ageCount.append(0)\n",
    "        else:\n",
    "            ageInci.append(curInci.values[0])\n",
    "            ageCount.append(curCount.values[0])\n",
    "            \n",
    "    fullMatUnvaccInci[:,ageIndex] = ageInci\n",
    "    fullMatUnvaccCount[:,ageIndex] = ageCount\n",
    "            \n",
    "# fig,ax1 = plt.subplots()\n",
    "# ax1.plot(weekRange,ageCount)\n",
    "\n",
    "\n",
    "# # list(dfUnvacc.groupby('Aldersgruppe'))\n",
    "# thisdf = list(dfUnvacc.groupby('Aldersgruppe'))[1][1]\n",
    "\n",
    "# curWeekNum = pd.to_numeric(thisdf.Uge.apply(lambda x: x[-2:]))\n",
    "\n",
    "# thisdf\n",
    "# # fig,ax1 = plt.subplots()\n",
    "# # ax1.plot(curWeekNum,thisdf['Nyindlagte pr. 100.000'])"
   ]
  },
  {
   "cell_type": "code",
   "execution_count": 6,
   "metadata": {},
   "outputs": [],
   "source": [
    "# dfVacc\n",
    "# list(dfVacc.groupby('Aldersgruppe'))\n",
    "# thisdf = list(dfVacc.groupby('Aldersgruppe'))[1][1]\n",
    "\n",
    "# curWeekNum = pd.to_numeric(thisdf.Uge.apply(lambda x: x[-2:]))\n",
    "\n",
    "# thisdf\n",
    "# fig,ax1 = plt.subplots()\n",
    "# ax1.plot(curWeekNum,thisdf['Nyindlagte pr. 100.000'],'*-')¨"
   ]
  },
  {
   "cell_type": "code",
   "execution_count": 7,
   "metadata": {},
   "outputs": [
    {
     "data": {
      "text/html": [
       "<svg  width=\"330\" height=\"55\"><rect x=\"0\" y=\"0\" width=\"55\" height=\"55\" style=\"fill:#f0f0f3;stroke-width:2;stroke:rgb(255,255,255)\"/><rect x=\"55\" y=\"0\" width=\"55\" height=\"55\" style=\"fill:#cdcdf5;stroke-width:2;stroke:rgb(255,255,255)\"/><rect x=\"110\" y=\"0\" width=\"55\" height=\"55\" style=\"fill:#aaaaf8;stroke-width:2;stroke:rgb(255,255,255)\"/><rect x=\"165\" y=\"0\" width=\"55\" height=\"55\" style=\"fill:#8787fa;stroke-width:2;stroke:rgb(255,255,255)\"/><rect x=\"220\" y=\"0\" width=\"55\" height=\"55\" style=\"fill:#6363fd;stroke-width:2;stroke:rgb(255,255,255)\"/><rect x=\"275\" y=\"0\" width=\"55\" height=\"55\" style=\"fill:#4040ff;stroke-width:2;stroke:rgb(255,255,255)\"/></svg>"
      ],
      "text/plain": [
       "['#f0f0f3', '#cdcdf5', '#aaaaf8', '#8787fa', '#6363fd', '#4040ff']"
      ]
     },
     "execution_count": 7,
     "metadata": {},
     "output_type": "execute_result"
    }
   ],
   "source": [
    "\n",
    "levelsToShow = [0,1,2,5,10,20,50,100]\n",
    "levelsToShow = [0,5,10,20,50,100]\n",
    "hex_colors = sns.light_palette('navy', n_colors=len(levelsToShow) , as_cmap=False).as_hex()\n",
    "hex_colors = sns.light_palette(\"#4040ff\", n_colors=len(levelsToShow) , as_cmap=False).as_hex()\n",
    "# hex_colors = sns.light_palette('DarkBlue', n_colors=len(levelsToShow) , as_cmap=False).as_hex()\n",
    "# hex_colors = sns.light_palette((\"#ffffff\",\"#0000ff\",\"#000000\"), n_colors=len(levelsToShow) , as_cmap=False).as_hex()\n",
    "# hex_colors = sns.light_palette(, n_colors=len(levelsToShow) , as_cmap=False).as_hex()\n",
    "\n",
    "# print(hex_colors) \n",
    "\n",
    "new_hex_colors = []\n",
    "curVal = 0\n",
    "# prevVal = 0\n",
    "for k in range(len(levelsToShow)-1):\n",
    "    # print(k)\n",
    "    \n",
    "    curHexColor = hex_colors[k]\n",
    "    \n",
    "    nextVal = levelsToShow[k+1] \n",
    "    curVal = levelsToShow[k] \n",
    "    for n in range(nextVal-curVal):\n",
    "        new_hex_colors.append(curHexColor)\n",
    "\n",
    "        \n",
    "#     print(levelsToShow[k])\n",
    "    \n",
    "#     print(nextVal)\n",
    "#     if curVal < nextVal:\n",
    "#         new_hex_colors.append(curHexColor)\n",
    "#         curVal = curVal + 1\n",
    "#         print(curVal)\n",
    "#     # prevVal = curVal\n",
    "# print(new_hex_colors)\n",
    "hex_colors"
   ]
  },
  {
   "cell_type": "code",
   "execution_count": 8,
   "metadata": {},
   "outputs": [
    {
     "data": {
      "application/vnd.jupyter.widget-view+json": {
       "model_id": "27c287f73fac43deb232b6462139f275",
       "version_major": 2,
       "version_minor": 0
      },
      "text/plain": [
       "Canvas(toolbar=Toolbar(toolitems=[('Home', 'Reset original view', 'home', 'home'), ('Back', 'Back to previous …"
      ]
     },
     "metadata": {},
     "output_type": "display_data"
    }
   ],
   "source": [
    "fig,ax1 = plt.subplots(figsize=(14,8))\n",
    "\n",
    "\n",
    "# hex_colors = sns.light_palette('navy', n_colors=len(levelsToShow) , as_cmap=False).as_hex()\n",
    "# myColors = ((0.8, 0.0, 0.0, 1.0), (0.0, 0.8, 0.0, 1.0), (0.0, 0.0, 0.8, 1.0))\n",
    "# cmap = LinearSegmentedColormap.from_list('Custom', hex_colors, len(hex_colors))\n",
    "cmap = LinearSegmentedColormap.from_list('Custom', new_hex_colors, len(new_hex_colors))\n",
    "\n",
    "g = sns.heatmap(fullMatVaccInci.transpose(),\n",
    "                ax=ax1,\n",
    "                annot=True,\n",
    "                fmt='1.0f',\n",
    "                vmax=100,\n",
    "                xticklabels=weekLabels,\n",
    "                yticklabels=allAgeGroups,\n",
    "                cmap=cmap,\n",
    "                )\n",
    "g.invert_yaxis()\n",
    "plt.yticks(rotation=0)\n",
    "\n",
    "cbar = ax1.collections[0].colorbar\n",
    "cbar.set_ticks(levelsToShow)\n",
    "\n",
    "# plt.title('Vaccinated, hospitalizations per 100.000')\n",
    "plt.title('Nye indlæggelser per 100.000 vaccinerede i aldersgruppen')\n",
    "plt.tight_layout()\n",
    "if saveFigures:\n",
    "    plt.savefig(path_figs+'HeatmapBreakthrough_Vaccinated')"
   ]
  },
  {
   "cell_type": "code",
   "execution_count": 9,
   "metadata": {},
   "outputs": [
    {
     "data": {
      "application/vnd.jupyter.widget-view+json": {
       "model_id": "ee00c0999b8d449b8fc0ed6074ca55a2",
       "version_major": 2,
       "version_minor": 0
      },
      "text/plain": [
       "Canvas(toolbar=Toolbar(toolitems=[('Home', 'Reset original view', 'home', 'home'), ('Back', 'Back to previous …"
      ]
     },
     "metadata": {},
     "output_type": "display_data"
    }
   ],
   "source": [
    "fig,ax1 = plt.subplots(figsize=(14,8))\n",
    "\n",
    "\n",
    "# levelsToShow = [0,1,5,10,20,50]\n",
    "# hex_colors = sns.light_palette('navy', n_colors=len(levelsToShow) , as_cmap=False).as_hex()\n",
    "# # myColors = ((0.8, 0.0, 0.0, 1.0), (0.0, 0.8, 0.0, 1.0), (0.0, 0.0, 0.8, 1.0))\n",
    "# cmap = LinearSegmentedColormap.from_list('Custom', hex_colors, len(hex_colors))\n",
    "\n",
    "# g = sns.heatmap(fullMatUnvaccInci.transpose(),\n",
    "#                 ax=ax1,\n",
    "#                 annot=True,\n",
    "#                 fmt='1.0f',\n",
    "#                 vmax=30,\n",
    "#                 xticklabels=weekLabels,\n",
    "#                 yticklabels=allAgeGroups,\n",
    "#                 cmap=cmap,\n",
    "#                 )\n",
    "# g.invert_yaxis()\n",
    "# plt.yticks(rotation=0)\n",
    "\n",
    "\n",
    "cmap = LinearSegmentedColormap.from_list('Custom', new_hex_colors, len(new_hex_colors))\n",
    "\n",
    "g = sns.heatmap(fullMatUnvaccInci.transpose(),\n",
    "                ax=ax1,\n",
    "                annot=True,\n",
    "                fmt='1.0f',\n",
    "                vmax=100,\n",
    "                xticklabels=weekLabels,\n",
    "                yticklabels=allAgeGroups,\n",
    "                cmap=cmap,\n",
    "                )\n",
    "g.invert_yaxis()\n",
    "plt.yticks(rotation=0)\n",
    "\n",
    "cbar = ax1.collections[0].colorbar\n",
    "cbar.set_ticks(levelsToShow)\n",
    "\n",
    "# plt.title('Unvaccinated, hospitalizations per 100.000')\n",
    "# plt.title('Uvaccinerede, nye indlæggelser per 100.000')\n",
    "plt.title('Nye indlæggelser per 100.000 uvaccinerede i aldersgruppen')\n",
    "plt.tight_layout()\n",
    "\n",
    "if saveFigures:\n",
    "    plt.savefig(path_figs+'HeatmapBreakthrough_Unvaccinated')"
   ]
  },
  {
   "cell_type": "code",
   "execution_count": 25,
   "metadata": {},
   "outputs": [],
   "source": [
    "# Shorten data to use - EVEN SHORTER!\n",
    "firstWeek = 32\n",
    "firstIndexToUse = df[df.Uge == f'2021-W{firstWeek}'].index[0]\n",
    "dfShort = df.loc[firstIndexToUse:]\n",
    "\n",
    "dfUnvacc = dfShort[dfShort.Vaccinationsstatus == 'Ikke vaccineret']\n",
    "\n",
    "lastWeek = int(df.iloc[-1]['Uge'][-2:])\n",
    "\n",
    "totNumWeeks = int(lastWeek-firstWeek)\n",
    "weekRange = np.arange(firstWeek,lastWeek+1)\n",
    "\n",
    "weekLabels = ['Uge\\n'+str(x) for x in weekRange]\n",
    "weekLabels = ['Uge '+str(x) for x in weekRange]\n",
    "\n",
    "allAgeGroups = df.Aldersgruppe.unique()\n",
    "\n",
    "fullMatUnvaccInci = np.zeros((totNumWeeks+1,len(allAgeGroups)))\n",
    "fullMatUnvaccCount = np.zeros((totNumWeeks+1,len(allAgeGroups)))\n",
    "\n",
    "for ageIndex in range(len(allAgeGroups)):\n",
    "    curAgeGroup = allAgeGroups[ageIndex]\n",
    "\n",
    "    agedf = dfUnvacc[(dfUnvacc.Aldersgruppe == curAgeGroup)]\n",
    "\n",
    "\n",
    "    ageInci = []\n",
    "    ageCount = []\n",
    "    \n",
    "    # for weekNum in np.arange(firstWeek,lastWeek+1):\n",
    "    for weekIndex in range(totNumWeeks+1):\n",
    "        weekNum = weekRange[weekIndex]\n",
    "        thisdf = agedf[agedf.Uge == str('2021-W'+str(weekNum))]\n",
    "        \n",
    "        curInci = thisdf['Nyindlagte pr. 100.000']\n",
    "        curCount = thisdf['Antal nyindlagte']\n",
    "        \n",
    "        if len(curInci) == 0:\n",
    "            ageInci.append(0)\n",
    "            ageCount.append(0)\n",
    "        else:\n",
    "            ageInci.append(curInci.values[0])\n",
    "            ageCount.append(curCount.values[0])\n",
    "            \n",
    "    fullMatUnvaccInci[:,ageIndex] = ageInci\n",
    "    fullMatUnvaccCount[:,ageIndex] = ageCount\n",
    "            \n",
    "fullMatVaccInci = np.zeros((totNumWeeks+1,len(allAgeGroups)))\n",
    "fullMatVaccCount = np.zeros((totNumWeeks+1,len(allAgeGroups)))\n",
    "\n",
    "for ageIndex in range(len(allAgeGroups)):\n",
    "    curAgeGroup = allAgeGroups[ageIndex]\n",
    "\n",
    "    agedf = dfVacc[(dfVacc.Aldersgruppe == curAgeGroup)]\n",
    "\n",
    "\n",
    "    ageInci = []\n",
    "    ageCount = []\n",
    "    \n",
    "    # for weekNum in np.arange(firstWeek,lastWeek+1):\n",
    "    for weekIndex in range(totNumWeeks+1):\n",
    "        weekNum = weekRange[weekIndex]\n",
    "        thisdf = agedf[agedf.Uge == str('2021-W'+str(weekNum))]\n",
    "        \n",
    "        curInci = thisdf['Nyindlagte pr. 100.000']\n",
    "        curCount = thisdf['Antal nyindlagte']\n",
    "        \n",
    "        if len(curInci) == 0:\n",
    "            ageInci.append(0)\n",
    "            ageCount.append(0)\n",
    "        else:\n",
    "            ageInci.append(curInci.values[0])\n",
    "            ageCount.append(curCount.values[0])\n",
    "            \n",
    "    fullMatVaccInci[:,ageIndex] = ageInci\n",
    "    fullMatVaccCount[:,ageIndex] = ageCount"
   ]
  },
  {
   "cell_type": "code",
   "execution_count": 35,
   "metadata": {},
   "outputs": [
    {
     "name": "stderr",
     "output_type": "stream",
     "text": [
      "<ipython-input-35-2b9d1df2b8dd>:1: RuntimeWarning: More than 20 figures have been opened. Figures created through the pyplot interface (`matplotlib.pyplot.figure`) are retained until explicitly closed and may consume too much memory. (To control this warning, see the rcParam `figure.max_open_warning`).\n",
      "  fig,(ax1,ax2) = plt.subplots(1,2,figsize=(14,8))\n"
     ]
    },
    {
     "data": {
      "application/vnd.jupyter.widget-view+json": {
       "model_id": "ed5e2cf94dee434fb3c3eb18c33aa16f",
       "version_major": 2,
       "version_minor": 0
      },
      "text/plain": [
       "Canvas(toolbar=Toolbar(toolitems=[('Home', 'Reset original view', 'home', 'home'), ('Back', 'Back to previous …"
      ]
     },
     "metadata": {},
     "output_type": "display_data"
    }
   ],
   "source": [
    "fig,(ax1,ax2) = plt.subplots(1,2,figsize=(14,8))\n",
    "\n",
    "\n",
    "cmap = LinearSegmentedColormap.from_list('Custom', new_hex_colors, len(new_hex_colors))\n",
    "\n",
    "g = sns.heatmap(fullMatVaccInci.transpose(),\n",
    "                ax=ax1,\n",
    "                annot=True,\n",
    "                fmt='1.0f',\n",
    "                vmax=100,\n",
    "                xticklabels=weekLabels,\n",
    "                yticklabels=allAgeGroups,\n",
    "                cmap=cmap,\n",
    "                # cbar=False\n",
    "                )\n",
    "g.invert_yaxis()\n",
    "plt.yticks(rotation=0)\n",
    "\n",
    "cbar = ax1.collections[0].colorbar\n",
    "cbar.set_ticks(levelsToShow)\n",
    "fig.axes[2].set_visible(False)\n",
    "\n",
    "g = sns.heatmap(fullMatUnvaccInci.transpose(),\n",
    "                ax=ax2,\n",
    "                annot=True,\n",
    "                fmt='1.0f',\n",
    "                vmax=100,\n",
    "                xticklabels=weekLabels,\n",
    "                yticklabels=allAgeGroups,\n",
    "                cmap=cmap,\n",
    "                )\n",
    "g.invert_yaxis()\n",
    "plt.yticks(rotation=0)\n",
    "\n",
    "cbar = ax2.collections[0].colorbar\n",
    "cbar.set_ticks(levelsToShow)\n",
    "\n",
    "ax1.set_title('Nye indlæggelser per\\n100.000 vaccinerede i aldersgruppen')\n",
    "ax2.set_title('Nye indlæggelser per\\n100.000 uvaccinerede i aldersgruppen')\n",
    "\n",
    "fig.tight_layout()\n",
    "\n",
    "if saveFigures:\n",
    "    plt.savefig(path_figs+'HeatmapBreakthrough_Both')"
   ]
  },
  {
   "cell_type": "code",
   "execution_count": 33,
   "metadata": {},
   "outputs": [],
   "source": []
  },
  {
   "cell_type": "code",
   "execution_count": 10,
   "metadata": {},
   "outputs": [],
   "source": [
    "\n",
    "# from matplotlib.colors import ListedColormap\n",
    "# cmap = ListedColormap(['red','black','yellow', 'blue'])\n",
    "# # colorbar.set_ticklabels(['A', 'B', 'C', 'NA'])\n",
    "\n",
    "# fig,ax1 = plt.subplots(figsize=(16,8))\n",
    "# g = sns.heatmap(fullMatVaccInci.transpose(),\n",
    "#                 ax=ax1,\n",
    "#                 annot=True,\n",
    "#                 fmt='1.0f',\n",
    "#                 xticklabels=weekLabels,\n",
    "#                 yticklabels=allAgeGroups,\n",
    "#                 cmap=cmap,\n",
    "#                 )\n",
    "# g.invert_yaxis()\n",
    "# plt.yticks(rotation=0)"
   ]
  },
  {
   "cell_type": "code",
   "execution_count": 11,
   "metadata": {},
   "outputs": [],
   "source": [
    "\n",
    "\n",
    "# # curMax = fullMatVaccInci.max()\n",
    "\n",
    "\n",
    "# levelsToShow = [0,1,5,10,20,50]\n",
    "# # boundaries = np.array([0.0,5,10,20,50]) / 50\n",
    "# # # boundaries = [0.0, 0.05, 0.1, 0.25, 0.5, 0.75, 0.9, 1.0]  # custom boundaries\n",
    "# # # boundaries = np.arange(0,1,10)\n",
    "# # # hex_colors = sns.light_palette('navy', n_colors=len(boundaries) * 2 + 2, as_cmap=False).as_hex()\n",
    "# # hex_colors = sns.light_palette('navy', n_colors=len(boundaries) + 2, as_cmap=False).as_hex()\n",
    "# # hex_colors = [hex_colors[i] for i in range(0, len(hex_colors), 1)]\n",
    "# # colors=list(zip(boundaries, hex_colors))\n",
    "# # custom_color_map = LinearSegmentedColormap.from_list(\n",
    "# #     name='custom_navy',\n",
    "# #     colors=colors,\n",
    "# # )\n",
    "\n",
    "# hex_colors = sns.light_palette('navy', n_colors=len(levelsToShow) + 1, as_cmap=False).as_hex()\n",
    "# # myColors = ((0.8, 0.0, 0.0, 1.0), (0.0, 0.8, 0.0, 1.0), (0.0, 0.0, 0.8, 1.0))\n",
    "# cmap = LinearSegmentedColormap.from_list('Custom', hex_colors, len(hex_colors))\n",
    "\n",
    "\n",
    "# fig,ax1 = plt.subplots(figsize=(16,8))\n",
    "# g = sns.heatmap(fullMatVaccInci.transpose(),\n",
    "#                 ax=ax1,\n",
    "#                 annot=True,\n",
    "#                 fmt='1.1f',\n",
    "#                 vmax=50,\n",
    "#                 xticklabels=weekLabels,\n",
    "#                 yticklabels=allAgeGroups,\n",
    "#                 cmap=cmap,\n",
    "#                 # cbar_kws={'ticks': [0.0, 0.2, 0.4, 0.5, 0.7, 0.8, 1.0]}\n",
    "#                 )\n",
    "# g.invert_yaxis()\n",
    "\n",
    "# # colorbar = ax1.collections[0].colorbar\n",
    "# # colorbar.set_ticks(levelsToShow)\n",
    "# # colorbar.set_ticklabels(['B', 'A', 'C'])\n",
    "# plt.yticks(rotation=0)"
   ]
  },
  {
   "cell_type": "code",
   "execution_count": null,
   "metadata": {},
   "outputs": [],
   "source": []
  },
  {
   "cell_type": "code",
   "execution_count": null,
   "metadata": {},
   "outputs": [],
   "source": []
  },
  {
   "cell_type": "code",
   "execution_count": 12,
   "metadata": {},
   "outputs": [
    {
     "data": {
      "application/vnd.jupyter.widget-view+json": {
       "model_id": "e34917557b794b24920d5bf68ee113c2",
       "version_major": 2,
       "version_minor": 0
      },
      "text/plain": [
       "Canvas(toolbar=Toolbar(toolitems=[('Home', 'Reset original view', 'home', 'home'), ('Back', 'Back to previous …"
      ]
     },
     "metadata": {},
     "output_type": "display_data"
    },
    {
     "name": "stderr",
     "output_type": "stream",
     "text": [
      "<ipython-input-12-c3c13671c328>:33: RuntimeWarning: invalid value encountered in true_divide\n",
      "  ax1.fill_between(curWeekNum,100*hospTot/hospTot,color='b',label='Vaccinerede')\n",
      "<ipython-input-12-c3c13671c328>:34: RuntimeWarning: invalid value encountered in true_divide\n",
      "  ax1.fill_between(curWeekNum,100*hospUn/hospTot,color='xkcd:light red',label='Uvaccinerede')\n"
     ]
    },
    {
     "data": {
      "application/vnd.jupyter.widget-view+json": {
       "model_id": "b895d0fc3a7b47c1aee399b7f75c134a",
       "version_major": 2,
       "version_minor": 0
      },
      "text/plain": [
       "Canvas(toolbar=Toolbar(toolitems=[('Home', 'Reset original view', 'home', 'home'), ('Back', 'Back to previous …"
      ]
     },
     "metadata": {},
     "output_type": "display_data"
    },
    {
     "data": {
      "application/vnd.jupyter.widget-view+json": {
       "model_id": "204c9b32bebc44ab8628ee166edc923d",
       "version_major": 2,
       "version_minor": 0
      },
      "text/plain": [
       "Canvas(toolbar=Toolbar(toolitems=[('Home', 'Reset original view', 'home', 'home'), ('Back', 'Back to previous …"
      ]
     },
     "metadata": {},
     "output_type": "display_data"
    },
    {
     "data": {
      "application/vnd.jupyter.widget-view+json": {
       "model_id": "a29c929ddcef4da4921e8bc1e2d8f457",
       "version_major": 2,
       "version_minor": 0
      },
      "text/plain": [
       "Canvas(toolbar=Toolbar(toolitems=[('Home', 'Reset original view', 'home', 'home'), ('Back', 'Back to previous …"
      ]
     },
     "metadata": {},
     "output_type": "display_data"
    },
    {
     "data": {
      "application/vnd.jupyter.widget-view+json": {
       "model_id": "57101d3768ea4d4b8165d6fe2c40e072",
       "version_major": 2,
       "version_minor": 0
      },
      "text/plain": [
       "Canvas(toolbar=Toolbar(toolitems=[('Home', 'Reset original view', 'home', 'home'), ('Back', 'Back to previous …"
      ]
     },
     "metadata": {},
     "output_type": "display_data"
    },
    {
     "data": {
      "application/vnd.jupyter.widget-view+json": {
       "model_id": "4d238dbb741d4f1583756e74d6a7670c",
       "version_major": 2,
       "version_minor": 0
      },
      "text/plain": [
       "Canvas(toolbar=Toolbar(toolitems=[('Home', 'Reset original view', 'home', 'home'), ('Back', 'Back to previous …"
      ]
     },
     "metadata": {},
     "output_type": "display_data"
    }
   ],
   "source": [
    "\n",
    "# curdf = df \n",
    "curdf = dfShort[(dfShort.Aldersgruppe == '80+') & (dfShort.Vaccinationsstatus == 'Ikke vaccineret')]\n",
    "curdf = dfShort[(dfShort.Aldersgruppe == '80+') & (dfShort.Vaccinationsstatus == 'Forventet fuld effekt')]\n",
    "curdf\n",
    "\n",
    "curWeekNum = curdf.Uge.apply(lambda x: int(x[6:]))\n",
    "\n",
    "curAge = '20-39'\n",
    "for curAge in dfShort.Aldersgruppe.unique():\n",
    "    curAgeLabel = 'Personer i aldersgruppen '+curAge\n",
    "    agedf = dfShort[(dfShort.Aldersgruppe == curAge)]\n",
    "\n",
    "    curSums = agedf.groupby('Uge').sum()\n",
    "\n",
    "    fig,(ax1,ax2) = plt.subplots(2,1,sharex=True)\n",
    "\n",
    "\n",
    "    # ax1.plot(curWeekNum,curSums['Antal nyindlagte'])\n",
    "\n",
    "    agedfVacc = agedf[agedf.Vaccinationsstatus == 'Forventet fuld effekt']\n",
    "    agedfUnvacc = agedf[agedf.Vaccinationsstatus == 'Ikke vaccineret']\n",
    "    # ax1.fill_between(curWeekNum,agedfUnvacc['Antal nyindlagte'].values,color='xkcd:light red')\n",
    "    # ax1.fill_between(curWeekNum,agedfVacc['Antal nyindlagte'].values,agedfUnvacc['Antal nyindlagte'].values,color='b')\n",
    "\n",
    "    curWeekNum = agedfVacc.Uge.apply(lambda x: int(x[6:]))\n",
    "\n",
    "    hospUn = agedfUnvacc['Antal nyindlagte'].values\n",
    "    hospVa = agedfVacc['Antal nyindlagte'].values\n",
    "    hospTot = hospUn + hospVa\n",
    "\n",
    "    # ax1.plot(curWeekNum,hospUn)\n",
    "    # ax1.plot(curWeekNum,hospTot,'k')\n",
    "    ax1.fill_between(curWeekNum,100*hospTot/hospTot,color='b',label='Vaccinerede')\n",
    "    ax1.fill_between(curWeekNum,100*hospUn/hospTot,color='xkcd:light red',label='Uvaccinerede')\n",
    "    # ax1.plot(rnTime(curWeekNum,5),rnMean(100*hospUn/hospTot,5),color='r')\n",
    "    # ax1.plot(curWeekNum,hospVa/hospTot,color='b')\n",
    "    # ax1.fill_between(curWeekNum,hospVa/hospTot,hospUn/hospTot,color='b')\n",
    "    # ax2.fill_between(curWeekNum,agedfUnvacc['Befolkningstørrelse'].values,color='xkcd:light red')\n",
    "    # ax2.fill_between(curWeekNum,agedfVacc['Befolkningstørrelse'].values,agedfUnvacc['Befolkningstørrelse'].values,color='b')\n",
    "\n",
    "    popUn = agedfUnvacc['Befolkningstørrelse'].values\n",
    "    popVa = agedfVacc['Befolkningstørrelse'].values\n",
    "    popTot = popUn + popVa\n",
    "    ax2.fill_between(curWeekNum,100*popTot/popTot,color='b')\n",
    "    ax2.fill_between(curWeekNum,100*popUn/popTot,color='xkcd:light red')\n",
    "    # ax1.plot(curWeekNum,agedfUnvacc['Antal nyindlagte'].values,color='xkcd:light red')\n",
    "    # ax1.plot(curWeekNum,agedfVacc['Antal nyindlagte'].values,color='b')\n",
    "    # ax1.stackplot(curWeekNum,\n",
    "    #                 agedfUnvacc['Antal nyindlagte'],\n",
    "    #                 agedfVacc['Antal nyindlagte'])\n",
    "\n",
    "    # plt.plot(curWeekNum,curdf['Nyindlagte pr. 100.000'])\n",
    "    # # plt.plot(curWeekNum,curdf['Befolkningstørrelse'])\n",
    "\n",
    "    ax1.grid(axis='y')\n",
    "    ax2.grid(axis='y')\n",
    "    ax1.set_ylabel('Andel af alle indlæggelser [%]')\n",
    "    ax2.set_ylabel('Andel af befolkningsstørrelse [%]')\n",
    "\n",
    "    ax1.set_xlim([curWeekNum.values[0],curWeekNum.values[-1]])\n",
    "    ax1.set_title(curAgeLabel)\n",
    "\n",
    "    curMax = 100\n",
    "    ax1.set_ylim(bottom=0,top=curMax)\n",
    "    ax2.set_ylim(bottom=0,top=curMax)\n",
    "    fig.tight_layout()"
   ]
  },
  {
   "cell_type": "code",
   "execution_count": 13,
   "metadata": {},
   "outputs": [
    {
     "ename": "NameError",
     "evalue": "name 'shortdf' is not defined",
     "output_type": "error",
     "traceback": [
      "\u001b[1;31m---------------------------------------------------------------------------\u001b[0m",
      "\u001b[1;31mNameError\u001b[0m                                 Traceback (most recent call last)",
      "\u001b[1;32m<ipython-input-13-334ca1fad87c>\u001b[0m in \u001b[0;36m<module>\u001b[1;34m\u001b[0m\n\u001b[0;32m      1\u001b[0m \u001b[1;31m# curdf = df\u001b[0m\u001b[1;33m\u001b[0m\u001b[1;33m\u001b[0m\u001b[1;33m\u001b[0m\u001b[0m\n\u001b[1;32m----> 2\u001b[1;33m \u001b[0mcurdf\u001b[0m \u001b[1;33m=\u001b[0m \u001b[0mshortdf\u001b[0m\u001b[1;33m[\u001b[0m\u001b[1;33m(\u001b[0m\u001b[0mshortdf\u001b[0m\u001b[1;33m.\u001b[0m\u001b[0mAldersgruppe\u001b[0m \u001b[1;33m==\u001b[0m \u001b[1;34m'80+'\u001b[0m\u001b[1;33m)\u001b[0m \u001b[1;33m&\u001b[0m \u001b[1;33m(\u001b[0m\u001b[0mshortdf\u001b[0m\u001b[1;33m.\u001b[0m\u001b[0mVaccinationsstatus\u001b[0m \u001b[1;33m==\u001b[0m \u001b[1;34m'Ikke vaccineret'\u001b[0m\u001b[1;33m)\u001b[0m\u001b[1;33m]\u001b[0m\u001b[1;33m\u001b[0m\u001b[1;33m\u001b[0m\u001b[0m\n\u001b[0m\u001b[0;32m      3\u001b[0m \u001b[0mcurdf\u001b[0m\u001b[1;33m\u001b[0m\u001b[1;33m\u001b[0m\u001b[0m\n\u001b[0;32m      4\u001b[0m \u001b[1;33m\u001b[0m\u001b[0m\n\u001b[0;32m      5\u001b[0m \u001b[0mplt\u001b[0m\u001b[1;33m.\u001b[0m\u001b[0mfigure\u001b[0m\u001b[1;33m(\u001b[0m\u001b[1;33m)\u001b[0m\u001b[1;33m\u001b[0m\u001b[1;33m\u001b[0m\u001b[0m\n",
      "\u001b[1;31mNameError\u001b[0m: name 'shortdf' is not defined"
     ]
    }
   ],
   "source": [
    "\n",
    "# curdf = df \n",
    "curdf = shortdf[(shortdf.Aldersgruppe == '80+') & (shortdf.Vaccinationsstatus == 'Ikke vaccineret')]\n",
    "curdf\n",
    "\n",
    "plt.figure()\n",
    "\n",
    "# plt.plot(curdf.)"
   ]
  },
  {
   "cell_type": "code",
   "execution_count": null,
   "metadata": {},
   "outputs": [],
   "source": []
  }
 ],
 "metadata": {
  "interpreter": {
   "hash": "c72cdf52cb3d31f207bca538e9396da8706c0ecf4a3038fb1c2b317934170431"
  },
  "kernelspec": {
   "display_name": "Python 3.8.5 64-bit ('main': conda)",
   "language": "python",
   "name": "python3"
  },
  "language_info": {
   "codemirror_mode": {
    "name": "ipython",
    "version": 3
   },
   "file_extension": ".py",
   "mimetype": "text/x-python",
   "name": "python",
   "nbconvert_exporter": "python",
   "pygments_lexer": "ipython3",
   "version": "3.8.5"
  },
  "orig_nbformat": 4
 },
 "nbformat": 4,
 "nbformat_minor": 2
}
