{
 "cells": [
  {
   "cell_type": "code",
   "execution_count": 1,
   "metadata": {},
   "outputs": [
    {
     "name": "stdout",
     "output_type": "stream",
     "text": [
      "saveFigures is set to: True\n",
      "Done loading packages\n"
     ]
    }
   ],
   "source": [
    "# Load packages and settings\n",
    "import numpy as np\n",
    "import pandas as pd\n",
    "pd.set_option('display.max_rows', 500)\n",
    "pd.set_option('display.min_rows', 50)\n",
    "import seaborn as sns\n",
    "\n",
    "\n",
    "import matplotlib.pyplot as plt\n",
    "\n",
    "plt.rcParams['figure.figsize'] = (12,8)\n",
    "plt.rcParams[\"image.cmap\"] = \"tab10\"\n",
    "plt.rcParams['axes.prop_cycle'] = plt.cycler(color=plt.cm.tab10.colors)\n",
    "fs_label = 16\n",
    "parameters = {\n",
    "                'axes.labelsize': fs_label,\n",
    "                'axes.titlesize': fs_label+4,\n",
    "                'xtick.labelsize': fs_label,\n",
    "                'ytick.labelsize': fs_label, \n",
    "                'legend.fontsize': fs_label, \n",
    "                'lines.markersize': 10,\n",
    "                'lines.linewidth': 3\n",
    "             }\n",
    "plt.rcParams.update(parameters)\n",
    "\n",
    "from matplotlib import cm # Colormaps\n",
    "import matplotlib.colors as colors\n",
    "# cmap = plt.cm.get_cmap('Dark2',len(ageGroups))\n",
    "\n",
    "import locale\n",
    "import matplotlib.dates as mdates\n",
    "locale.setlocale(locale.LC_TIME,\"Danish\")\n",
    "# ax1.xaxis.set_major_formatter(mdates.DateFormatter('%b\\n%Y'))\n",
    "# ax1.spines['top'].set_visible(False) \n",
    "\n",
    "import os\n",
    "# import csv\n",
    "import math\n",
    "\n",
    "from datetime import date\n",
    "\n",
    "\n",
    "saveFigures = True\n",
    "# saveFigures = False\n",
    "print('saveFigures is set to: '+str(saveFigures))\n",
    "\n",
    "print('Done loading packages')\n",
    "\n",
    "# Define running mean functions\n",
    "def rnMean(data,meanWidth):\n",
    "    return np.convolve(data, np.ones(meanWidth)/meanWidth, mode='valid')\n",
    "def rnTime(t,meanWidth):\n",
    "    return t[math.floor(meanWidth/2):-math.ceil(meanWidth/2)+1]"
   ]
  },
  {
   "cell_type": "code",
   "execution_count": 2,
   "metadata": {},
   "outputs": [],
   "source": [
    "%matplotlib widget"
   ]
  },
  {
   "cell_type": "code",
   "execution_count": 3,
   "metadata": {},
   "outputs": [],
   "source": [
    "# Define paths\n",
    "rootdir_data = os.getcwd() +\"\\\\..\\\\DanskeData\\\\\" \n",
    "\n",
    "path_data = rootdir_data + \"ssi_data\\\\\"\n",
    "path_dash = rootdir_data + \"ssi_dashboard\\\\\"\n",
    "path_vacc = rootdir_data + \"ssi_vacc\\\\\"\n",
    "path_figs = os.getcwd() +\"\\\\..\\\\Figures\\\\\" "
   ]
  },
  {
   "cell_type": "code",
   "execution_count": 4,
   "metadata": {},
   "outputs": [],
   "source": [
    "# Walk to relavant folder\n",
    "latestsubdir = list(os.walk(path_dash))[0][1][-1]\n",
    "latestdir = path_dash + latestsubdir\n",
    "df = pd.read_csv(latestdir+'/Kommunalt_DB/07_bekraeftede_tilfaelde_pr_dag_pr_kommune.csv',encoding='latin1',delimiter = ';')"
   ]
  },
  {
   "cell_type": "code",
   "execution_count": 5,
   "metadata": {},
   "outputs": [
    {
     "data": {
      "text/plain": [
       "array(['Roskilde', 'København', 'Århus', 'Frederiksberg', 'Kalundborg',\n",
       "       'Middelfart', 'Gentofte', 'Solrød', 'Dragør', 'Allerød',\n",
       "       'Helsingør', 'Hillerød', 'Rudersdal', 'Næstved', 'Aalborg',\n",
       "       'Vallensbæk', 'Furesø', 'Frederikssund', 'Greve', 'Holbæk',\n",
       "       'Odense', 'Esbjerg', 'Aabenraa', 'Kolding', 'Vejle', 'Favrskov',\n",
       "       'Silkeborg', 'Skanderborg', 'Ballerup', 'Gladsaxe', 'Herlev',\n",
       "       'Hvidovre', 'Lyngby-Taarbæk', 'Rødovre', 'Hørsholm', 'Egedal',\n",
       "       'Køge', 'Halsnæs', 'Faxe', 'Slagelse', 'Stevns', 'Sorø', 'Lejre',\n",
       "       'Lolland', 'Guldborgsund', 'Vordingborg', 'Faaborg-Midtfyn',\n",
       "       'Nyborg', 'Svendborg', 'Nordfyn', 'Haderslev', 'Sønderborg',\n",
       "       'Vejen', 'Fredericia', 'Horsens', 'Herning', 'Syddjurs', 'Randers',\n",
       "       'Skive', 'Viborg', 'Hjørring', 'Brøndby', 'Gribskov', 'Odsherred',\n",
       "       'Kerteminde', 'Billund', 'Holstebro', 'Norddjurs', 'Odder',\n",
       "       'Ringkøbing-Skjern', 'Frederikshavn', 'Vesthimmerland', 'Rebild',\n",
       "       'Mariagerfjord', 'Glostrup', 'Høje Tåstrup', 'Tårnby', 'Tønder',\n",
       "       'Morsø', 'Thisted', 'Jammerbugt', 'Ishøj', 'Fredensborg', 'Assens',\n",
       "       'Lemvig', 'Albertslund', 'Bornholm', 'Langeland', 'Ikast-Brande',\n",
       "       'Ringsted', 'Struer', 'Brønderslev', 'Hedensted', 'Varde', 'Læsø',\n",
       "       'Ærø', 'Fanø', 'Samsø'], dtype=object)"
      ]
     },
     "execution_count": 5,
     "metadata": {},
     "output_type": "execute_result"
    }
   ],
   "source": [
    "# df\n",
    "# kommune_df\n",
    "df.Kommunenavn.unique()\n",
    "# (kommune_df['Bekræftede tilfælde']/antal_borgere(curKommune))*100"
   ]
  },
  {
   "cell_type": "code",
   "execution_count": 6,
   "metadata": {},
   "outputs": [],
   "source": [
    "# kommune_df['Dato'] < (np.datetime64('today')-np.timedelta64(2,'D'))"
   ]
  },
  {
   "cell_type": "code",
   "execution_count": 7,
   "metadata": {},
   "outputs": [
    {
     "name": "stderr",
     "output_type": "stream",
     "text": [
      "<ipython-input-7-8c628c2be284>:30: SettingWithCopyWarning: \n",
      "A value is trying to be set on a copy of a slice from a DataFrame.\n",
      "Try using .loc[row_indexer,col_indexer] = value instead\n",
      "\n",
      "See the caveats in the documentation: https://pandas.pydata.org/pandas-docs/stable/user_guide/indexing.html#returning-a-view-versus-a-copy\n",
      "  kommune_df['Procent andel smittede'] = (kommune_df['Bekræftede tilfælde']/antal_borgere(curKommune))*100\n"
     ]
    },
    {
     "data": {
      "application/vnd.jupyter.widget-view+json": {
       "model_id": "c5e06038aeb24573beddeac854a1ede8",
       "version_major": 2,
       "version_minor": 0
      },
      "text/plain": [
       "Canvas(toolbar=Toolbar(toolitems=[('Home', 'Reset original view', 'home', 'home'), ('Back', 'Back to previous …"
      ]
     },
     "metadata": {},
     "output_type": "display_data"
    },
    {
     "name": "stderr",
     "output_type": "stream",
     "text": [
      "<ipython-input-7-8c628c2be284>:30: SettingWithCopyWarning: \n",
      "A value is trying to be set on a copy of a slice from a DataFrame.\n",
      "Try using .loc[row_indexer,col_indexer] = value instead\n",
      "\n",
      "See the caveats in the documentation: https://pandas.pydata.org/pandas-docs/stable/user_guide/indexing.html#returning-a-view-versus-a-copy\n",
      "  kommune_df['Procent andel smittede'] = (kommune_df['Bekræftede tilfælde']/antal_borgere(curKommune))*100\n"
     ]
    },
    {
     "data": {
      "application/vnd.jupyter.widget-view+json": {
       "model_id": "36e55d756b8c418bab5f438b97890c6c",
       "version_major": 2,
       "version_minor": 0
      },
      "text/plain": [
       "Canvas(toolbar=Toolbar(toolitems=[('Home', 'Reset original view', 'home', 'home'), ('Back', 'Back to previous …"
      ]
     },
     "metadata": {},
     "output_type": "display_data"
    },
    {
     "name": "stderr",
     "output_type": "stream",
     "text": [
      "<ipython-input-7-8c628c2be284>:30: SettingWithCopyWarning: \n",
      "A value is trying to be set on a copy of a slice from a DataFrame.\n",
      "Try using .loc[row_indexer,col_indexer] = value instead\n",
      "\n",
      "See the caveats in the documentation: https://pandas.pydata.org/pandas-docs/stable/user_guide/indexing.html#returning-a-view-versus-a-copy\n",
      "  kommune_df['Procent andel smittede'] = (kommune_df['Bekræftede tilfælde']/antal_borgere(curKommune))*100\n"
     ]
    },
    {
     "data": {
      "application/vnd.jupyter.widget-view+json": {
       "model_id": "fdc2d0b0c4a54f12ab3ecae7c55051ec",
       "version_major": 2,
       "version_minor": 0
      },
      "text/plain": [
       "Canvas(toolbar=Toolbar(toolitems=[('Home', 'Reset original view', 'home', 'home'), ('Back', 'Back to previous …"
      ]
     },
     "metadata": {},
     "output_type": "display_data"
    },
    {
     "name": "stderr",
     "output_type": "stream",
     "text": [
      "<ipython-input-7-8c628c2be284>:30: SettingWithCopyWarning: \n",
      "A value is trying to be set on a copy of a slice from a DataFrame.\n",
      "Try using .loc[row_indexer,col_indexer] = value instead\n",
      "\n",
      "See the caveats in the documentation: https://pandas.pydata.org/pandas-docs/stable/user_guide/indexing.html#returning-a-view-versus-a-copy\n",
      "  kommune_df['Procent andel smittede'] = (kommune_df['Bekræftede tilfælde']/antal_borgere(curKommune))*100\n"
     ]
    },
    {
     "data": {
      "application/vnd.jupyter.widget-view+json": {
       "model_id": "941a64eaff8f498cb9f762fdeaf067f1",
       "version_major": 2,
       "version_minor": 0
      },
      "text/plain": [
       "Canvas(toolbar=Toolbar(toolitems=[('Home', 'Reset original view', 'home', 'home'), ('Back', 'Back to previous …"
      ]
     },
     "metadata": {},
     "output_type": "display_data"
    },
    {
     "name": "stderr",
     "output_type": "stream",
     "text": [
      "<ipython-input-7-8c628c2be284>:30: SettingWithCopyWarning: \n",
      "A value is trying to be set on a copy of a slice from a DataFrame.\n",
      "Try using .loc[row_indexer,col_indexer] = value instead\n",
      "\n",
      "See the caveats in the documentation: https://pandas.pydata.org/pandas-docs/stable/user_guide/indexing.html#returning-a-view-versus-a-copy\n",
      "  kommune_df['Procent andel smittede'] = (kommune_df['Bekræftede tilfælde']/antal_borgere(curKommune))*100\n"
     ]
    },
    {
     "data": {
      "application/vnd.jupyter.widget-view+json": {
       "model_id": "98a7c454842545798acf439a186261ed",
       "version_major": 2,
       "version_minor": 0
      },
      "text/plain": [
       "Canvas(toolbar=Toolbar(toolitems=[('Home', 'Reset original view', 'home', 'home'), ('Back', 'Back to previous …"
      ]
     },
     "metadata": {},
     "output_type": "display_data"
    },
    {
     "name": "stderr",
     "output_type": "stream",
     "text": [
      "<ipython-input-7-8c628c2be284>:30: SettingWithCopyWarning: \n",
      "A value is trying to be set on a copy of a slice from a DataFrame.\n",
      "Try using .loc[row_indexer,col_indexer] = value instead\n",
      "\n",
      "See the caveats in the documentation: https://pandas.pydata.org/pandas-docs/stable/user_guide/indexing.html#returning-a-view-versus-a-copy\n",
      "  kommune_df['Procent andel smittede'] = (kommune_df['Bekræftede tilfælde']/antal_borgere(curKommune))*100\n"
     ]
    },
    {
     "data": {
      "application/vnd.jupyter.widget-view+json": {
       "model_id": "0de7640f6d594cad85b212177415d12a",
       "version_major": 2,
       "version_minor": 0
      },
      "text/plain": [
       "Canvas(toolbar=Toolbar(toolitems=[('Home', 'Reset original view', 'home', 'home'), ('Back', 'Back to previous …"
      ]
     },
     "metadata": {},
     "output_type": "display_data"
    },
    {
     "name": "stderr",
     "output_type": "stream",
     "text": [
      "<ipython-input-7-8c628c2be284>:30: SettingWithCopyWarning: \n",
      "A value is trying to be set on a copy of a slice from a DataFrame.\n",
      "Try using .loc[row_indexer,col_indexer] = value instead\n",
      "\n",
      "See the caveats in the documentation: https://pandas.pydata.org/pandas-docs/stable/user_guide/indexing.html#returning-a-view-versus-a-copy\n",
      "  kommune_df['Procent andel smittede'] = (kommune_df['Bekræftede tilfælde']/antal_borgere(curKommune))*100\n"
     ]
    },
    {
     "data": {
      "application/vnd.jupyter.widget-view+json": {
       "model_id": "71fc781da02e4dcc86cd96d276ab673f",
       "version_major": 2,
       "version_minor": 0
      },
      "text/plain": [
       "Canvas(toolbar=Toolbar(toolitems=[('Home', 'Reset original view', 'home', 'home'), ('Back', 'Back to previous …"
      ]
     },
     "metadata": {},
     "output_type": "display_data"
    },
    {
     "name": "stderr",
     "output_type": "stream",
     "text": [
      "<ipython-input-7-8c628c2be284>:30: SettingWithCopyWarning: \n",
      "A value is trying to be set on a copy of a slice from a DataFrame.\n",
      "Try using .loc[row_indexer,col_indexer] = value instead\n",
      "\n",
      "See the caveats in the documentation: https://pandas.pydata.org/pandas-docs/stable/user_guide/indexing.html#returning-a-view-versus-a-copy\n",
      "  kommune_df['Procent andel smittede'] = (kommune_df['Bekræftede tilfælde']/antal_borgere(curKommune))*100\n"
     ]
    },
    {
     "data": {
      "application/vnd.jupyter.widget-view+json": {
       "model_id": "831505f932184b6999dff9e33683b82c",
       "version_major": 2,
       "version_minor": 0
      },
      "text/plain": [
       "Canvas(toolbar=Toolbar(toolitems=[('Home', 'Reset original view', 'home', 'home'), ('Back', 'Back to previous …"
      ]
     },
     "metadata": {},
     "output_type": "display_data"
    },
    {
     "name": "stderr",
     "output_type": "stream",
     "text": [
      "<ipython-input-7-8c628c2be284>:30: SettingWithCopyWarning: \n",
      "A value is trying to be set on a copy of a slice from a DataFrame.\n",
      "Try using .loc[row_indexer,col_indexer] = value instead\n",
      "\n",
      "See the caveats in the documentation: https://pandas.pydata.org/pandas-docs/stable/user_guide/indexing.html#returning-a-view-versus-a-copy\n",
      "  kommune_df['Procent andel smittede'] = (kommune_df['Bekræftede tilfælde']/antal_borgere(curKommune))*100\n"
     ]
    },
    {
     "data": {
      "application/vnd.jupyter.widget-view+json": {
       "model_id": "30e88da7491e426faf92725c47764555",
       "version_major": 2,
       "version_minor": 0
      },
      "text/plain": [
       "Canvas(toolbar=Toolbar(toolitems=[('Home', 'Reset original view', 'home', 'home'), ('Back', 'Back to previous …"
      ]
     },
     "metadata": {},
     "output_type": "display_data"
    },
    {
     "name": "stderr",
     "output_type": "stream",
     "text": [
      "<ipython-input-7-8c628c2be284>:30: SettingWithCopyWarning: \n",
      "A value is trying to be set on a copy of a slice from a DataFrame.\n",
      "Try using .loc[row_indexer,col_indexer] = value instead\n",
      "\n",
      "See the caveats in the documentation: https://pandas.pydata.org/pandas-docs/stable/user_guide/indexing.html#returning-a-view-versus-a-copy\n",
      "  kommune_df['Procent andel smittede'] = (kommune_df['Bekræftede tilfælde']/antal_borgere(curKommune))*100\n"
     ]
    },
    {
     "data": {
      "application/vnd.jupyter.widget-view+json": {
       "model_id": "650be452504f4cc5869962dac1c2bdb6",
       "version_major": 2,
       "version_minor": 0
      },
      "text/plain": [
       "Canvas(toolbar=Toolbar(toolitems=[('Home', 'Reset original view', 'home', 'home'), ('Back', 'Back to previous …"
      ]
     },
     "metadata": {},
     "output_type": "display_data"
    },
    {
     "name": "stderr",
     "output_type": "stream",
     "text": [
      "<ipython-input-7-8c628c2be284>:30: SettingWithCopyWarning: \n",
      "A value is trying to be set on a copy of a slice from a DataFrame.\n",
      "Try using .loc[row_indexer,col_indexer] = value instead\n",
      "\n",
      "See the caveats in the documentation: https://pandas.pydata.org/pandas-docs/stable/user_guide/indexing.html#returning-a-view-versus-a-copy\n",
      "  kommune_df['Procent andel smittede'] = (kommune_df['Bekræftede tilfælde']/antal_borgere(curKommune))*100\n"
     ]
    },
    {
     "data": {
      "application/vnd.jupyter.widget-view+json": {
       "model_id": "4dcf483df5784d229ac9310ea9c46ea2",
       "version_major": 2,
       "version_minor": 0
      },
      "text/plain": [
       "Canvas(toolbar=Toolbar(toolitems=[('Home', 'Reset original view', 'home', 'home'), ('Back', 'Back to previous …"
      ]
     },
     "metadata": {},
     "output_type": "display_data"
    },
    {
     "name": "stderr",
     "output_type": "stream",
     "text": [
      "<ipython-input-7-8c628c2be284>:30: SettingWithCopyWarning: \n",
      "A value is trying to be set on a copy of a slice from a DataFrame.\n",
      "Try using .loc[row_indexer,col_indexer] = value instead\n",
      "\n",
      "See the caveats in the documentation: https://pandas.pydata.org/pandas-docs/stable/user_guide/indexing.html#returning-a-view-versus-a-copy\n",
      "  kommune_df['Procent andel smittede'] = (kommune_df['Bekræftede tilfælde']/antal_borgere(curKommune))*100\n"
     ]
    },
    {
     "data": {
      "application/vnd.jupyter.widget-view+json": {
       "model_id": "140bc155bd584042b241c5ba276b933b",
       "version_major": 2,
       "version_minor": 0
      },
      "text/plain": [
       "Canvas(toolbar=Toolbar(toolitems=[('Home', 'Reset original view', 'home', 'home'), ('Back', 'Back to previous …"
      ]
     },
     "metadata": {},
     "output_type": "display_data"
    },
    {
     "name": "stderr",
     "output_type": "stream",
     "text": [
      "<ipython-input-7-8c628c2be284>:30: SettingWithCopyWarning: \n",
      "A value is trying to be set on a copy of a slice from a DataFrame.\n",
      "Try using .loc[row_indexer,col_indexer] = value instead\n",
      "\n",
      "See the caveats in the documentation: https://pandas.pydata.org/pandas-docs/stable/user_guide/indexing.html#returning-a-view-versus-a-copy\n",
      "  kommune_df['Procent andel smittede'] = (kommune_df['Bekræftede tilfælde']/antal_borgere(curKommune))*100\n"
     ]
    },
    {
     "data": {
      "application/vnd.jupyter.widget-view+json": {
       "model_id": "351cf19141ba4358b1b8c9aaa932f5dc",
       "version_major": 2,
       "version_minor": 0
      },
      "text/plain": [
       "Canvas(toolbar=Toolbar(toolitems=[('Home', 'Reset original view', 'home', 'home'), ('Back', 'Back to previous …"
      ]
     },
     "metadata": {},
     "output_type": "display_data"
    },
    {
     "name": "stderr",
     "output_type": "stream",
     "text": [
      "<ipython-input-7-8c628c2be284>:30: SettingWithCopyWarning: \n",
      "A value is trying to be set on a copy of a slice from a DataFrame.\n",
      "Try using .loc[row_indexer,col_indexer] = value instead\n",
      "\n",
      "See the caveats in the documentation: https://pandas.pydata.org/pandas-docs/stable/user_guide/indexing.html#returning-a-view-versus-a-copy\n",
      "  kommune_df['Procent andel smittede'] = (kommune_df['Bekræftede tilfælde']/antal_borgere(curKommune))*100\n"
     ]
    },
    {
     "data": {
      "application/vnd.jupyter.widget-view+json": {
       "model_id": "8906624aa65a438897d78d55defb3bad",
       "version_major": 2,
       "version_minor": 0
      },
      "text/plain": [
       "Canvas(toolbar=Toolbar(toolitems=[('Home', 'Reset original view', 'home', 'home'), ('Back', 'Back to previous …"
      ]
     },
     "metadata": {},
     "output_type": "display_data"
    },
    {
     "name": "stderr",
     "output_type": "stream",
     "text": [
      "<ipython-input-7-8c628c2be284>:30: SettingWithCopyWarning: \n",
      "A value is trying to be set on a copy of a slice from a DataFrame.\n",
      "Try using .loc[row_indexer,col_indexer] = value instead\n",
      "\n",
      "See the caveats in the documentation: https://pandas.pydata.org/pandas-docs/stable/user_guide/indexing.html#returning-a-view-versus-a-copy\n",
      "  kommune_df['Procent andel smittede'] = (kommune_df['Bekræftede tilfælde']/antal_borgere(curKommune))*100\n"
     ]
    },
    {
     "data": {
      "application/vnd.jupyter.widget-view+json": {
       "model_id": "a05d7b17a9974016b5dba721759b6448",
       "version_major": 2,
       "version_minor": 0
      },
      "text/plain": [
       "Canvas(toolbar=Toolbar(toolitems=[('Home', 'Reset original view', 'home', 'home'), ('Back', 'Back to previous …"
      ]
     },
     "metadata": {},
     "output_type": "display_data"
    },
    {
     "name": "stderr",
     "output_type": "stream",
     "text": [
      "<ipython-input-7-8c628c2be284>:30: SettingWithCopyWarning: \n",
      "A value is trying to be set on a copy of a slice from a DataFrame.\n",
      "Try using .loc[row_indexer,col_indexer] = value instead\n",
      "\n",
      "See the caveats in the documentation: https://pandas.pydata.org/pandas-docs/stable/user_guide/indexing.html#returning-a-view-versus-a-copy\n",
      "  kommune_df['Procent andel smittede'] = (kommune_df['Bekræftede tilfælde']/antal_borgere(curKommune))*100\n"
     ]
    },
    {
     "data": {
      "application/vnd.jupyter.widget-view+json": {
       "model_id": "0391246a4d9a4e3285bec6c8570686f8",
       "version_major": 2,
       "version_minor": 0
      },
      "text/plain": [
       "Canvas(toolbar=Toolbar(toolitems=[('Home', 'Reset original view', 'home', 'home'), ('Back', 'Back to previous …"
      ]
     },
     "metadata": {},
     "output_type": "display_data"
    },
    {
     "name": "stderr",
     "output_type": "stream",
     "text": [
      "<ipython-input-7-8c628c2be284>:30: SettingWithCopyWarning: \n",
      "A value is trying to be set on a copy of a slice from a DataFrame.\n",
      "Try using .loc[row_indexer,col_indexer] = value instead\n",
      "\n",
      "See the caveats in the documentation: https://pandas.pydata.org/pandas-docs/stable/user_guide/indexing.html#returning-a-view-versus-a-copy\n",
      "  kommune_df['Procent andel smittede'] = (kommune_df['Bekræftede tilfælde']/antal_borgere(curKommune))*100\n"
     ]
    },
    {
     "data": {
      "application/vnd.jupyter.widget-view+json": {
       "model_id": "e90ac02fdec6458cb15b83a095b6b4f9",
       "version_major": 2,
       "version_minor": 0
      },
      "text/plain": [
       "Canvas(toolbar=Toolbar(toolitems=[('Home', 'Reset original view', 'home', 'home'), ('Back', 'Back to previous …"
      ]
     },
     "metadata": {},
     "output_type": "display_data"
    },
    {
     "name": "stderr",
     "output_type": "stream",
     "text": [
      "<ipython-input-7-8c628c2be284>:30: SettingWithCopyWarning: \n",
      "A value is trying to be set on a copy of a slice from a DataFrame.\n",
      "Try using .loc[row_indexer,col_indexer] = value instead\n",
      "\n",
      "See the caveats in the documentation: https://pandas.pydata.org/pandas-docs/stable/user_guide/indexing.html#returning-a-view-versus-a-copy\n",
      "  kommune_df['Procent andel smittede'] = (kommune_df['Bekræftede tilfælde']/antal_borgere(curKommune))*100\n"
     ]
    },
    {
     "data": {
      "application/vnd.jupyter.widget-view+json": {
       "model_id": "ff9fc5a66bf5451fab8271570fe46474",
       "version_major": 2,
       "version_minor": 0
      },
      "text/plain": [
       "Canvas(toolbar=Toolbar(toolitems=[('Home', 'Reset original view', 'home', 'home'), ('Back', 'Back to previous …"
      ]
     },
     "metadata": {},
     "output_type": "display_data"
    },
    {
     "name": "stderr",
     "output_type": "stream",
     "text": [
      "<ipython-input-7-8c628c2be284>:30: SettingWithCopyWarning: \n",
      "A value is trying to be set on a copy of a slice from a DataFrame.\n",
      "Try using .loc[row_indexer,col_indexer] = value instead\n",
      "\n",
      "See the caveats in the documentation: https://pandas.pydata.org/pandas-docs/stable/user_guide/indexing.html#returning-a-view-versus-a-copy\n",
      "  kommune_df['Procent andel smittede'] = (kommune_df['Bekræftede tilfælde']/antal_borgere(curKommune))*100\n"
     ]
    },
    {
     "data": {
      "application/vnd.jupyter.widget-view+json": {
       "model_id": "931339040ed64de8a2c19b247606ce26",
       "version_major": 2,
       "version_minor": 0
      },
      "text/plain": [
       "Canvas(toolbar=Toolbar(toolitems=[('Home', 'Reset original view', 'home', 'home'), ('Back', 'Back to previous …"
      ]
     },
     "metadata": {},
     "output_type": "display_data"
    },
    {
     "name": "stderr",
     "output_type": "stream",
     "text": [
      "<ipython-input-7-8c628c2be284>:30: SettingWithCopyWarning: \n",
      "A value is trying to be set on a copy of a slice from a DataFrame.\n",
      "Try using .loc[row_indexer,col_indexer] = value instead\n",
      "\n",
      "See the caveats in the documentation: https://pandas.pydata.org/pandas-docs/stable/user_guide/indexing.html#returning-a-view-versus-a-copy\n",
      "  kommune_df['Procent andel smittede'] = (kommune_df['Bekræftede tilfælde']/antal_borgere(curKommune))*100\n"
     ]
    },
    {
     "data": {
      "application/vnd.jupyter.widget-view+json": {
       "model_id": "f84f7ef301a94fdfabdd227f7280c0df",
       "version_major": 2,
       "version_minor": 0
      },
      "text/plain": [
       "Canvas(toolbar=Toolbar(toolitems=[('Home', 'Reset original view', 'home', 'home'), ('Back', 'Back to previous …"
      ]
     },
     "metadata": {},
     "output_type": "display_data"
    },
    {
     "name": "stderr",
     "output_type": "stream",
     "text": [
      "<ipython-input-7-8c628c2be284>:30: SettingWithCopyWarning: \n",
      "A value is trying to be set on a copy of a slice from a DataFrame.\n",
      "Try using .loc[row_indexer,col_indexer] = value instead\n",
      "\n",
      "See the caveats in the documentation: https://pandas.pydata.org/pandas-docs/stable/user_guide/indexing.html#returning-a-view-versus-a-copy\n",
      "  kommune_df['Procent andel smittede'] = (kommune_df['Bekræftede tilfælde']/antal_borgere(curKommune))*100\n",
      "<ipython-input-7-8c628c2be284>:34: RuntimeWarning: More than 20 figures have been opened. Figures created through the pyplot interface (`matplotlib.pyplot.figure`) are retained until explicitly closed and may consume too much memory. (To control this warning, see the rcParam `figure.max_open_warning`).\n",
      "  fig,ax1 = plt.subplots(tight_layout=True,figsize=(10,6))\n"
     ]
    },
    {
     "data": {
      "application/vnd.jupyter.widget-view+json": {
       "model_id": "937517b6b3c742f5bb7c3fadf5363ef9",
       "version_major": 2,
       "version_minor": 0
      },
      "text/plain": [
       "Canvas(toolbar=Toolbar(toolitems=[('Home', 'Reset original view', 'home', 'home'), ('Back', 'Back to previous …"
      ]
     },
     "metadata": {},
     "output_type": "display_data"
    },
    {
     "name": "stderr",
     "output_type": "stream",
     "text": [
      "<ipython-input-7-8c628c2be284>:30: SettingWithCopyWarning: \n",
      "A value is trying to be set on a copy of a slice from a DataFrame.\n",
      "Try using .loc[row_indexer,col_indexer] = value instead\n",
      "\n",
      "See the caveats in the documentation: https://pandas.pydata.org/pandas-docs/stable/user_guide/indexing.html#returning-a-view-versus-a-copy\n",
      "  kommune_df['Procent andel smittede'] = (kommune_df['Bekræftede tilfælde']/antal_borgere(curKommune))*100\n"
     ]
    },
    {
     "data": {
      "application/vnd.jupyter.widget-view+json": {
       "model_id": "3d44adb2edf14098be8b8235d1ae0598",
       "version_major": 2,
       "version_minor": 0
      },
      "text/plain": [
       "Canvas(toolbar=Toolbar(toolitems=[('Home', 'Reset original view', 'home', 'home'), ('Back', 'Back to previous …"
      ]
     },
     "metadata": {},
     "output_type": "display_data"
    },
    {
     "name": "stderr",
     "output_type": "stream",
     "text": [
      "<ipython-input-7-8c628c2be284>:30: SettingWithCopyWarning: \n",
      "A value is trying to be set on a copy of a slice from a DataFrame.\n",
      "Try using .loc[row_indexer,col_indexer] = value instead\n",
      "\n",
      "See the caveats in the documentation: https://pandas.pydata.org/pandas-docs/stable/user_guide/indexing.html#returning-a-view-versus-a-copy\n",
      "  kommune_df['Procent andel smittede'] = (kommune_df['Bekræftede tilfælde']/antal_borgere(curKommune))*100\n"
     ]
    },
    {
     "data": {
      "application/vnd.jupyter.widget-view+json": {
       "model_id": "a765b159fe784599b33cc9e117cee230",
       "version_major": 2,
       "version_minor": 0
      },
      "text/plain": [
       "Canvas(toolbar=Toolbar(toolitems=[('Home', 'Reset original view', 'home', 'home'), ('Back', 'Back to previous …"
      ]
     },
     "metadata": {},
     "output_type": "display_data"
    },
    {
     "name": "stderr",
     "output_type": "stream",
     "text": [
      "<ipython-input-7-8c628c2be284>:30: SettingWithCopyWarning: \n",
      "A value is trying to be set on a copy of a slice from a DataFrame.\n",
      "Try using .loc[row_indexer,col_indexer] = value instead\n",
      "\n",
      "See the caveats in the documentation: https://pandas.pydata.org/pandas-docs/stable/user_guide/indexing.html#returning-a-view-versus-a-copy\n",
      "  kommune_df['Procent andel smittede'] = (kommune_df['Bekræftede tilfælde']/antal_borgere(curKommune))*100\n"
     ]
    },
    {
     "data": {
      "application/vnd.jupyter.widget-view+json": {
       "model_id": "092bfc3015154ff69111068dc457605e",
       "version_major": 2,
       "version_minor": 0
      },
      "text/plain": [
       "Canvas(toolbar=Toolbar(toolitems=[('Home', 'Reset original view', 'home', 'home'), ('Back', 'Back to previous …"
      ]
     },
     "metadata": {},
     "output_type": "display_data"
    },
    {
     "name": "stderr",
     "output_type": "stream",
     "text": [
      "<ipython-input-7-8c628c2be284>:30: SettingWithCopyWarning: \n",
      "A value is trying to be set on a copy of a slice from a DataFrame.\n",
      "Try using .loc[row_indexer,col_indexer] = value instead\n",
      "\n",
      "See the caveats in the documentation: https://pandas.pydata.org/pandas-docs/stable/user_guide/indexing.html#returning-a-view-versus-a-copy\n",
      "  kommune_df['Procent andel smittede'] = (kommune_df['Bekræftede tilfælde']/antal_borgere(curKommune))*100\n"
     ]
    },
    {
     "data": {
      "application/vnd.jupyter.widget-view+json": {
       "model_id": "8846e4ac4a0743aa9df36963ff0e803d",
       "version_major": 2,
       "version_minor": 0
      },
      "text/plain": [
       "Canvas(toolbar=Toolbar(toolitems=[('Home', 'Reset original view', 'home', 'home'), ('Back', 'Back to previous …"
      ]
     },
     "metadata": {},
     "output_type": "display_data"
    },
    {
     "name": "stderr",
     "output_type": "stream",
     "text": [
      "<ipython-input-7-8c628c2be284>:30: SettingWithCopyWarning: \n",
      "A value is trying to be set on a copy of a slice from a DataFrame.\n",
      "Try using .loc[row_indexer,col_indexer] = value instead\n",
      "\n",
      "See the caveats in the documentation: https://pandas.pydata.org/pandas-docs/stable/user_guide/indexing.html#returning-a-view-versus-a-copy\n",
      "  kommune_df['Procent andel smittede'] = (kommune_df['Bekræftede tilfælde']/antal_borgere(curKommune))*100\n"
     ]
    },
    {
     "data": {
      "application/vnd.jupyter.widget-view+json": {
       "model_id": "d8d242586f964e2b98ec0947aa67c3f8",
       "version_major": 2,
       "version_minor": 0
      },
      "text/plain": [
       "Canvas(toolbar=Toolbar(toolitems=[('Home', 'Reset original view', 'home', 'home'), ('Back', 'Back to previous …"
      ]
     },
     "metadata": {},
     "output_type": "display_data"
    },
    {
     "name": "stderr",
     "output_type": "stream",
     "text": [
      "<ipython-input-7-8c628c2be284>:30: SettingWithCopyWarning: \n",
      "A value is trying to be set on a copy of a slice from a DataFrame.\n",
      "Try using .loc[row_indexer,col_indexer] = value instead\n",
      "\n",
      "See the caveats in the documentation: https://pandas.pydata.org/pandas-docs/stable/user_guide/indexing.html#returning-a-view-versus-a-copy\n",
      "  kommune_df['Procent andel smittede'] = (kommune_df['Bekræftede tilfælde']/antal_borgere(curKommune))*100\n"
     ]
    },
    {
     "data": {
      "application/vnd.jupyter.widget-view+json": {
       "model_id": "84d1828e3b5942abb293937d6ca365af",
       "version_major": 2,
       "version_minor": 0
      },
      "text/plain": [
       "Canvas(toolbar=Toolbar(toolitems=[('Home', 'Reset original view', 'home', 'home'), ('Back', 'Back to previous …"
      ]
     },
     "metadata": {},
     "output_type": "display_data"
    },
    {
     "name": "stderr",
     "output_type": "stream",
     "text": [
      "<ipython-input-7-8c628c2be284>:30: SettingWithCopyWarning: \n",
      "A value is trying to be set on a copy of a slice from a DataFrame.\n",
      "Try using .loc[row_indexer,col_indexer] = value instead\n",
      "\n",
      "See the caveats in the documentation: https://pandas.pydata.org/pandas-docs/stable/user_guide/indexing.html#returning-a-view-versus-a-copy\n",
      "  kommune_df['Procent andel smittede'] = (kommune_df['Bekræftede tilfælde']/antal_borgere(curKommune))*100\n"
     ]
    },
    {
     "data": {
      "application/vnd.jupyter.widget-view+json": {
       "model_id": "6bb359cec4b44b0aa752f92656cbd25b",
       "version_major": 2,
       "version_minor": 0
      },
      "text/plain": [
       "Canvas(toolbar=Toolbar(toolitems=[('Home', 'Reset original view', 'home', 'home'), ('Back', 'Back to previous …"
      ]
     },
     "metadata": {},
     "output_type": "display_data"
    },
    {
     "name": "stderr",
     "output_type": "stream",
     "text": [
      "<ipython-input-7-8c628c2be284>:30: SettingWithCopyWarning: \n",
      "A value is trying to be set on a copy of a slice from a DataFrame.\n",
      "Try using .loc[row_indexer,col_indexer] = value instead\n",
      "\n",
      "See the caveats in the documentation: https://pandas.pydata.org/pandas-docs/stable/user_guide/indexing.html#returning-a-view-versus-a-copy\n",
      "  kommune_df['Procent andel smittede'] = (kommune_df['Bekræftede tilfælde']/antal_borgere(curKommune))*100\n"
     ]
    },
    {
     "data": {
      "application/vnd.jupyter.widget-view+json": {
       "model_id": "5a39b2c354124c4887e9c635cd175329",
       "version_major": 2,
       "version_minor": 0
      },
      "text/plain": [
       "Canvas(toolbar=Toolbar(toolitems=[('Home', 'Reset original view', 'home', 'home'), ('Back', 'Back to previous …"
      ]
     },
     "metadata": {},
     "output_type": "display_data"
    },
    {
     "name": "stderr",
     "output_type": "stream",
     "text": [
      "<ipython-input-7-8c628c2be284>:30: SettingWithCopyWarning: \n",
      "A value is trying to be set on a copy of a slice from a DataFrame.\n",
      "Try using .loc[row_indexer,col_indexer] = value instead\n",
      "\n",
      "See the caveats in the documentation: https://pandas.pydata.org/pandas-docs/stable/user_guide/indexing.html#returning-a-view-versus-a-copy\n",
      "  kommune_df['Procent andel smittede'] = (kommune_df['Bekræftede tilfælde']/antal_borgere(curKommune))*100\n"
     ]
    },
    {
     "data": {
      "application/vnd.jupyter.widget-view+json": {
       "model_id": "d9c269c567c14f7f86f9a3d0aa0559ac",
       "version_major": 2,
       "version_minor": 0
      },
      "text/plain": [
       "Canvas(toolbar=Toolbar(toolitems=[('Home', 'Reset original view', 'home', 'home'), ('Back', 'Back to previous …"
      ]
     },
     "metadata": {},
     "output_type": "display_data"
    },
    {
     "name": "stderr",
     "output_type": "stream",
     "text": [
      "<ipython-input-7-8c628c2be284>:30: SettingWithCopyWarning: \n",
      "A value is trying to be set on a copy of a slice from a DataFrame.\n",
      "Try using .loc[row_indexer,col_indexer] = value instead\n",
      "\n",
      "See the caveats in the documentation: https://pandas.pydata.org/pandas-docs/stable/user_guide/indexing.html#returning-a-view-versus-a-copy\n",
      "  kommune_df['Procent andel smittede'] = (kommune_df['Bekræftede tilfælde']/antal_borgere(curKommune))*100\n"
     ]
    },
    {
     "data": {
      "application/vnd.jupyter.widget-view+json": {
       "model_id": "ca9e83f17f0447529ce2b794afffdfad",
       "version_major": 2,
       "version_minor": 0
      },
      "text/plain": [
       "Canvas(toolbar=Toolbar(toolitems=[('Home', 'Reset original view', 'home', 'home'), ('Back', 'Back to previous …"
      ]
     },
     "metadata": {},
     "output_type": "display_data"
    },
    {
     "name": "stderr",
     "output_type": "stream",
     "text": [
      "<ipython-input-7-8c628c2be284>:30: SettingWithCopyWarning: \n",
      "A value is trying to be set on a copy of a slice from a DataFrame.\n",
      "Try using .loc[row_indexer,col_indexer] = value instead\n",
      "\n",
      "See the caveats in the documentation: https://pandas.pydata.org/pandas-docs/stable/user_guide/indexing.html#returning-a-view-versus-a-copy\n",
      "  kommune_df['Procent andel smittede'] = (kommune_df['Bekræftede tilfælde']/antal_borgere(curKommune))*100\n"
     ]
    },
    {
     "data": {
      "application/vnd.jupyter.widget-view+json": {
       "model_id": "3fc5c82a57d745919c6fddab35535465",
       "version_major": 2,
       "version_minor": 0
      },
      "text/plain": [
       "Canvas(toolbar=Toolbar(toolitems=[('Home', 'Reset original view', 'home', 'home'), ('Back', 'Back to previous …"
      ]
     },
     "metadata": {},
     "output_type": "display_data"
    },
    {
     "name": "stderr",
     "output_type": "stream",
     "text": [
      "<ipython-input-7-8c628c2be284>:30: SettingWithCopyWarning: \n",
      "A value is trying to be set on a copy of a slice from a DataFrame.\n",
      "Try using .loc[row_indexer,col_indexer] = value instead\n",
      "\n",
      "See the caveats in the documentation: https://pandas.pydata.org/pandas-docs/stable/user_guide/indexing.html#returning-a-view-versus-a-copy\n",
      "  kommune_df['Procent andel smittede'] = (kommune_df['Bekræftede tilfælde']/antal_borgere(curKommune))*100\n"
     ]
    },
    {
     "data": {
      "application/vnd.jupyter.widget-view+json": {
       "model_id": "48477c5cb8a94eefa4258abc3df48540",
       "version_major": 2,
       "version_minor": 0
      },
      "text/plain": [
       "Canvas(toolbar=Toolbar(toolitems=[('Home', 'Reset original view', 'home', 'home'), ('Back', 'Back to previous …"
      ]
     },
     "metadata": {},
     "output_type": "display_data"
    },
    {
     "name": "stderr",
     "output_type": "stream",
     "text": [
      "<ipython-input-7-8c628c2be284>:30: SettingWithCopyWarning: \n",
      "A value is trying to be set on a copy of a slice from a DataFrame.\n",
      "Try using .loc[row_indexer,col_indexer] = value instead\n",
      "\n",
      "See the caveats in the documentation: https://pandas.pydata.org/pandas-docs/stable/user_guide/indexing.html#returning-a-view-versus-a-copy\n",
      "  kommune_df['Procent andel smittede'] = (kommune_df['Bekræftede tilfælde']/antal_borgere(curKommune))*100\n"
     ]
    },
    {
     "data": {
      "application/vnd.jupyter.widget-view+json": {
       "model_id": "00f2e30eeb6646359bc96f1eeedc3aeb",
       "version_major": 2,
       "version_minor": 0
      },
      "text/plain": [
       "Canvas(toolbar=Toolbar(toolitems=[('Home', 'Reset original view', 'home', 'home'), ('Back', 'Back to previous …"
      ]
     },
     "metadata": {},
     "output_type": "display_data"
    },
    {
     "name": "stderr",
     "output_type": "stream",
     "text": [
      "<ipython-input-7-8c628c2be284>:30: SettingWithCopyWarning: \n",
      "A value is trying to be set on a copy of a slice from a DataFrame.\n",
      "Try using .loc[row_indexer,col_indexer] = value instead\n",
      "\n",
      "See the caveats in the documentation: https://pandas.pydata.org/pandas-docs/stable/user_guide/indexing.html#returning-a-view-versus-a-copy\n",
      "  kommune_df['Procent andel smittede'] = (kommune_df['Bekræftede tilfælde']/antal_borgere(curKommune))*100\n"
     ]
    },
    {
     "data": {
      "application/vnd.jupyter.widget-view+json": {
       "model_id": "d03733bef7c648df9a212d023ab3e45f",
       "version_major": 2,
       "version_minor": 0
      },
      "text/plain": [
       "Canvas(toolbar=Toolbar(toolitems=[('Home', 'Reset original view', 'home', 'home'), ('Back', 'Back to previous …"
      ]
     },
     "metadata": {},
     "output_type": "display_data"
    },
    {
     "name": "stderr",
     "output_type": "stream",
     "text": [
      "<ipython-input-7-8c628c2be284>:30: SettingWithCopyWarning: \n",
      "A value is trying to be set on a copy of a slice from a DataFrame.\n",
      "Try using .loc[row_indexer,col_indexer] = value instead\n",
      "\n",
      "See the caveats in the documentation: https://pandas.pydata.org/pandas-docs/stable/user_guide/indexing.html#returning-a-view-versus-a-copy\n",
      "  kommune_df['Procent andel smittede'] = (kommune_df['Bekræftede tilfælde']/antal_borgere(curKommune))*100\n"
     ]
    },
    {
     "data": {
      "application/vnd.jupyter.widget-view+json": {
       "model_id": "0d2ad2e89a2e472b907db95e83ec22e4",
       "version_major": 2,
       "version_minor": 0
      },
      "text/plain": [
       "Canvas(toolbar=Toolbar(toolitems=[('Home', 'Reset original view', 'home', 'home'), ('Back', 'Back to previous …"
      ]
     },
     "metadata": {},
     "output_type": "display_data"
    },
    {
     "name": "stderr",
     "output_type": "stream",
     "text": [
      "<ipython-input-7-8c628c2be284>:30: SettingWithCopyWarning: \n",
      "A value is trying to be set on a copy of a slice from a DataFrame.\n",
      "Try using .loc[row_indexer,col_indexer] = value instead\n",
      "\n",
      "See the caveats in the documentation: https://pandas.pydata.org/pandas-docs/stable/user_guide/indexing.html#returning-a-view-versus-a-copy\n",
      "  kommune_df['Procent andel smittede'] = (kommune_df['Bekræftede tilfælde']/antal_borgere(curKommune))*100\n"
     ]
    },
    {
     "data": {
      "application/vnd.jupyter.widget-view+json": {
       "model_id": "959bc10efadc47ba89b40e35028c416d",
       "version_major": 2,
       "version_minor": 0
      },
      "text/plain": [
       "Canvas(toolbar=Toolbar(toolitems=[('Home', 'Reset original view', 'home', 'home'), ('Back', 'Back to previous …"
      ]
     },
     "metadata": {},
     "output_type": "display_data"
    },
    {
     "name": "stderr",
     "output_type": "stream",
     "text": [
      "<ipython-input-7-8c628c2be284>:30: SettingWithCopyWarning: \n",
      "A value is trying to be set on a copy of a slice from a DataFrame.\n",
      "Try using .loc[row_indexer,col_indexer] = value instead\n",
      "\n",
      "See the caveats in the documentation: https://pandas.pydata.org/pandas-docs/stable/user_guide/indexing.html#returning-a-view-versus-a-copy\n",
      "  kommune_df['Procent andel smittede'] = (kommune_df['Bekræftede tilfælde']/antal_borgere(curKommune))*100\n"
     ]
    },
    {
     "data": {
      "application/vnd.jupyter.widget-view+json": {
       "model_id": "657233c0c23549c380de99d44db3e23d",
       "version_major": 2,
       "version_minor": 0
      },
      "text/plain": [
       "Canvas(toolbar=Toolbar(toolitems=[('Home', 'Reset original view', 'home', 'home'), ('Back', 'Back to previous …"
      ]
     },
     "metadata": {},
     "output_type": "display_data"
    },
    {
     "name": "stderr",
     "output_type": "stream",
     "text": [
      "<ipython-input-7-8c628c2be284>:30: SettingWithCopyWarning: \n",
      "A value is trying to be set on a copy of a slice from a DataFrame.\n",
      "Try using .loc[row_indexer,col_indexer] = value instead\n",
      "\n",
      "See the caveats in the documentation: https://pandas.pydata.org/pandas-docs/stable/user_guide/indexing.html#returning-a-view-versus-a-copy\n",
      "  kommune_df['Procent andel smittede'] = (kommune_df['Bekræftede tilfælde']/antal_borgere(curKommune))*100\n"
     ]
    },
    {
     "data": {
      "application/vnd.jupyter.widget-view+json": {
       "model_id": "e8b592e9ff4a4e66bd4eb3c7c8b505a0",
       "version_major": 2,
       "version_minor": 0
      },
      "text/plain": [
       "Canvas(toolbar=Toolbar(toolitems=[('Home', 'Reset original view', 'home', 'home'), ('Back', 'Back to previous …"
      ]
     },
     "metadata": {},
     "output_type": "display_data"
    },
    {
     "name": "stderr",
     "output_type": "stream",
     "text": [
      "<ipython-input-7-8c628c2be284>:30: SettingWithCopyWarning: \n",
      "A value is trying to be set on a copy of a slice from a DataFrame.\n",
      "Try using .loc[row_indexer,col_indexer] = value instead\n",
      "\n",
      "See the caveats in the documentation: https://pandas.pydata.org/pandas-docs/stable/user_guide/indexing.html#returning-a-view-versus-a-copy\n",
      "  kommune_df['Procent andel smittede'] = (kommune_df['Bekræftede tilfælde']/antal_borgere(curKommune))*100\n"
     ]
    },
    {
     "data": {
      "application/vnd.jupyter.widget-view+json": {
       "model_id": "8246596e4e894af18a775c5904ae8a0d",
       "version_major": 2,
       "version_minor": 0
      },
      "text/plain": [
       "Canvas(toolbar=Toolbar(toolitems=[('Home', 'Reset original view', 'home', 'home'), ('Back', 'Back to previous …"
      ]
     },
     "metadata": {},
     "output_type": "display_data"
    },
    {
     "name": "stderr",
     "output_type": "stream",
     "text": [
      "<ipython-input-7-8c628c2be284>:30: SettingWithCopyWarning: \n",
      "A value is trying to be set on a copy of a slice from a DataFrame.\n",
      "Try using .loc[row_indexer,col_indexer] = value instead\n",
      "\n",
      "See the caveats in the documentation: https://pandas.pydata.org/pandas-docs/stable/user_guide/indexing.html#returning-a-view-versus-a-copy\n",
      "  kommune_df['Procent andel smittede'] = (kommune_df['Bekræftede tilfælde']/antal_borgere(curKommune))*100\n"
     ]
    },
    {
     "data": {
      "application/vnd.jupyter.widget-view+json": {
       "model_id": "651cd30af8154366b6e14ae6be22b756",
       "version_major": 2,
       "version_minor": 0
      },
      "text/plain": [
       "Canvas(toolbar=Toolbar(toolitems=[('Home', 'Reset original view', 'home', 'home'), ('Back', 'Back to previous …"
      ]
     },
     "metadata": {},
     "output_type": "display_data"
    },
    {
     "name": "stderr",
     "output_type": "stream",
     "text": [
      "<ipython-input-7-8c628c2be284>:30: SettingWithCopyWarning: \n",
      "A value is trying to be set on a copy of a slice from a DataFrame.\n",
      "Try using .loc[row_indexer,col_indexer] = value instead\n",
      "\n",
      "See the caveats in the documentation: https://pandas.pydata.org/pandas-docs/stable/user_guide/indexing.html#returning-a-view-versus-a-copy\n",
      "  kommune_df['Procent andel smittede'] = (kommune_df['Bekræftede tilfælde']/antal_borgere(curKommune))*100\n"
     ]
    },
    {
     "data": {
      "application/vnd.jupyter.widget-view+json": {
       "model_id": "10b8a7ae54ca4668ae979d67e66d9043",
       "version_major": 2,
       "version_minor": 0
      },
      "text/plain": [
       "Canvas(toolbar=Toolbar(toolitems=[('Home', 'Reset original view', 'home', 'home'), ('Back', 'Back to previous …"
      ]
     },
     "metadata": {},
     "output_type": "display_data"
    },
    {
     "name": "stderr",
     "output_type": "stream",
     "text": [
      "<ipython-input-7-8c628c2be284>:30: SettingWithCopyWarning: \n",
      "A value is trying to be set on a copy of a slice from a DataFrame.\n",
      "Try using .loc[row_indexer,col_indexer] = value instead\n",
      "\n",
      "See the caveats in the documentation: https://pandas.pydata.org/pandas-docs/stable/user_guide/indexing.html#returning-a-view-versus-a-copy\n",
      "  kommune_df['Procent andel smittede'] = (kommune_df['Bekræftede tilfælde']/antal_borgere(curKommune))*100\n"
     ]
    },
    {
     "data": {
      "application/vnd.jupyter.widget-view+json": {
       "model_id": "d8250a7f54ba412982beee24cdcf340b",
       "version_major": 2,
       "version_minor": 0
      },
      "text/plain": [
       "Canvas(toolbar=Toolbar(toolitems=[('Home', 'Reset original view', 'home', 'home'), ('Back', 'Back to previous …"
      ]
     },
     "metadata": {},
     "output_type": "display_data"
    },
    {
     "name": "stderr",
     "output_type": "stream",
     "text": [
      "<ipython-input-7-8c628c2be284>:30: SettingWithCopyWarning: \n",
      "A value is trying to be set on a copy of a slice from a DataFrame.\n",
      "Try using .loc[row_indexer,col_indexer] = value instead\n",
      "\n",
      "See the caveats in the documentation: https://pandas.pydata.org/pandas-docs/stable/user_guide/indexing.html#returning-a-view-versus-a-copy\n",
      "  kommune_df['Procent andel smittede'] = (kommune_df['Bekræftede tilfælde']/antal_borgere(curKommune))*100\n"
     ]
    },
    {
     "data": {
      "application/vnd.jupyter.widget-view+json": {
       "model_id": "e048e676459e402299002134ed4fc13e",
       "version_major": 2,
       "version_minor": 0
      },
      "text/plain": [
       "Canvas(toolbar=Toolbar(toolitems=[('Home', 'Reset original view', 'home', 'home'), ('Back', 'Back to previous …"
      ]
     },
     "metadata": {},
     "output_type": "display_data"
    },
    {
     "name": "stderr",
     "output_type": "stream",
     "text": [
      "<ipython-input-7-8c628c2be284>:30: SettingWithCopyWarning: \n",
      "A value is trying to be set on a copy of a slice from a DataFrame.\n",
      "Try using .loc[row_indexer,col_indexer] = value instead\n",
      "\n",
      "See the caveats in the documentation: https://pandas.pydata.org/pandas-docs/stable/user_guide/indexing.html#returning-a-view-versus-a-copy\n",
      "  kommune_df['Procent andel smittede'] = (kommune_df['Bekræftede tilfælde']/antal_borgere(curKommune))*100\n"
     ]
    },
    {
     "data": {
      "application/vnd.jupyter.widget-view+json": {
       "model_id": "855f5f648a3e4c35a92ae22a1db85bfa",
       "version_major": 2,
       "version_minor": 0
      },
      "text/plain": [
       "Canvas(toolbar=Toolbar(toolitems=[('Home', 'Reset original view', 'home', 'home'), ('Back', 'Back to previous …"
      ]
     },
     "metadata": {},
     "output_type": "display_data"
    },
    {
     "name": "stderr",
     "output_type": "stream",
     "text": [
      "<ipython-input-7-8c628c2be284>:30: SettingWithCopyWarning: \n",
      "A value is trying to be set on a copy of a slice from a DataFrame.\n",
      "Try using .loc[row_indexer,col_indexer] = value instead\n",
      "\n",
      "See the caveats in the documentation: https://pandas.pydata.org/pandas-docs/stable/user_guide/indexing.html#returning-a-view-versus-a-copy\n",
      "  kommune_df['Procent andel smittede'] = (kommune_df['Bekræftede tilfælde']/antal_borgere(curKommune))*100\n"
     ]
    },
    {
     "data": {
      "application/vnd.jupyter.widget-view+json": {
       "model_id": "d96ae68a1cad42d1aeb70f6e4fbf8ae4",
       "version_major": 2,
       "version_minor": 0
      },
      "text/plain": [
       "Canvas(toolbar=Toolbar(toolitems=[('Home', 'Reset original view', 'home', 'home'), ('Back', 'Back to previous …"
      ]
     },
     "metadata": {},
     "output_type": "display_data"
    },
    {
     "name": "stderr",
     "output_type": "stream",
     "text": [
      "<ipython-input-7-8c628c2be284>:30: SettingWithCopyWarning: \n",
      "A value is trying to be set on a copy of a slice from a DataFrame.\n",
      "Try using .loc[row_indexer,col_indexer] = value instead\n",
      "\n",
      "See the caveats in the documentation: https://pandas.pydata.org/pandas-docs/stable/user_guide/indexing.html#returning-a-view-versus-a-copy\n",
      "  kommune_df['Procent andel smittede'] = (kommune_df['Bekræftede tilfælde']/antal_borgere(curKommune))*100\n"
     ]
    },
    {
     "data": {
      "application/vnd.jupyter.widget-view+json": {
       "model_id": "2baf95c34cb642b7baa38e83a7618bba",
       "version_major": 2,
       "version_minor": 0
      },
      "text/plain": [
       "Canvas(toolbar=Toolbar(toolitems=[('Home', 'Reset original view', 'home', 'home'), ('Back', 'Back to previous …"
      ]
     },
     "metadata": {},
     "output_type": "display_data"
    },
    {
     "name": "stderr",
     "output_type": "stream",
     "text": [
      "<ipython-input-7-8c628c2be284>:30: SettingWithCopyWarning: \n",
      "A value is trying to be set on a copy of a slice from a DataFrame.\n",
      "Try using .loc[row_indexer,col_indexer] = value instead\n",
      "\n",
      "See the caveats in the documentation: https://pandas.pydata.org/pandas-docs/stable/user_guide/indexing.html#returning-a-view-versus-a-copy\n",
      "  kommune_df['Procent andel smittede'] = (kommune_df['Bekræftede tilfælde']/antal_borgere(curKommune))*100\n"
     ]
    },
    {
     "data": {
      "application/vnd.jupyter.widget-view+json": {
       "model_id": "27cf9d2498f24c24bce68eb1e11a82de",
       "version_major": 2,
       "version_minor": 0
      },
      "text/plain": [
       "Canvas(toolbar=Toolbar(toolitems=[('Home', 'Reset original view', 'home', 'home'), ('Back', 'Back to previous …"
      ]
     },
     "metadata": {},
     "output_type": "display_data"
    },
    {
     "name": "stderr",
     "output_type": "stream",
     "text": [
      "<ipython-input-7-8c628c2be284>:30: SettingWithCopyWarning: \n",
      "A value is trying to be set on a copy of a slice from a DataFrame.\n",
      "Try using .loc[row_indexer,col_indexer] = value instead\n",
      "\n",
      "See the caveats in the documentation: https://pandas.pydata.org/pandas-docs/stable/user_guide/indexing.html#returning-a-view-versus-a-copy\n",
      "  kommune_df['Procent andel smittede'] = (kommune_df['Bekræftede tilfælde']/antal_borgere(curKommune))*100\n"
     ]
    },
    {
     "data": {
      "application/vnd.jupyter.widget-view+json": {
       "model_id": "8e5d374fa84c4613bc9fcb1b29d52f41",
       "version_major": 2,
       "version_minor": 0
      },
      "text/plain": [
       "Canvas(toolbar=Toolbar(toolitems=[('Home', 'Reset original view', 'home', 'home'), ('Back', 'Back to previous …"
      ]
     },
     "metadata": {},
     "output_type": "display_data"
    },
    {
     "name": "stderr",
     "output_type": "stream",
     "text": [
      "<ipython-input-7-8c628c2be284>:30: SettingWithCopyWarning: \n",
      "A value is trying to be set on a copy of a slice from a DataFrame.\n",
      "Try using .loc[row_indexer,col_indexer] = value instead\n",
      "\n",
      "See the caveats in the documentation: https://pandas.pydata.org/pandas-docs/stable/user_guide/indexing.html#returning-a-view-versus-a-copy\n",
      "  kommune_df['Procent andel smittede'] = (kommune_df['Bekræftede tilfælde']/antal_borgere(curKommune))*100\n"
     ]
    },
    {
     "data": {
      "application/vnd.jupyter.widget-view+json": {
       "model_id": "9034915376514531b65bead7abd401f9",
       "version_major": 2,
       "version_minor": 0
      },
      "text/plain": [
       "Canvas(toolbar=Toolbar(toolitems=[('Home', 'Reset original view', 'home', 'home'), ('Back', 'Back to previous …"
      ]
     },
     "metadata": {},
     "output_type": "display_data"
    },
    {
     "name": "stderr",
     "output_type": "stream",
     "text": [
      "<ipython-input-7-8c628c2be284>:30: SettingWithCopyWarning: \n",
      "A value is trying to be set on a copy of a slice from a DataFrame.\n",
      "Try using .loc[row_indexer,col_indexer] = value instead\n",
      "\n",
      "See the caveats in the documentation: https://pandas.pydata.org/pandas-docs/stable/user_guide/indexing.html#returning-a-view-versus-a-copy\n",
      "  kommune_df['Procent andel smittede'] = (kommune_df['Bekræftede tilfælde']/antal_borgere(curKommune))*100\n"
     ]
    },
    {
     "data": {
      "application/vnd.jupyter.widget-view+json": {
       "model_id": "a004de3ad21842d2a312c4edb7d16ef9",
       "version_major": 2,
       "version_minor": 0
      },
      "text/plain": [
       "Canvas(toolbar=Toolbar(toolitems=[('Home', 'Reset original view', 'home', 'home'), ('Back', 'Back to previous …"
      ]
     },
     "metadata": {},
     "output_type": "display_data"
    },
    {
     "name": "stderr",
     "output_type": "stream",
     "text": [
      "<ipython-input-7-8c628c2be284>:30: SettingWithCopyWarning: \n",
      "A value is trying to be set on a copy of a slice from a DataFrame.\n",
      "Try using .loc[row_indexer,col_indexer] = value instead\n",
      "\n",
      "See the caveats in the documentation: https://pandas.pydata.org/pandas-docs/stable/user_guide/indexing.html#returning-a-view-versus-a-copy\n",
      "  kommune_df['Procent andel smittede'] = (kommune_df['Bekræftede tilfælde']/antal_borgere(curKommune))*100\n"
     ]
    },
    {
     "data": {
      "application/vnd.jupyter.widget-view+json": {
       "model_id": "d845878e2553480ab9f0c65f8a4150b3",
       "version_major": 2,
       "version_minor": 0
      },
      "text/plain": [
       "Canvas(toolbar=Toolbar(toolitems=[('Home', 'Reset original view', 'home', 'home'), ('Back', 'Back to previous …"
      ]
     },
     "metadata": {},
     "output_type": "display_data"
    },
    {
     "name": "stderr",
     "output_type": "stream",
     "text": [
      "<ipython-input-7-8c628c2be284>:30: SettingWithCopyWarning: \n",
      "A value is trying to be set on a copy of a slice from a DataFrame.\n",
      "Try using .loc[row_indexer,col_indexer] = value instead\n",
      "\n",
      "See the caveats in the documentation: https://pandas.pydata.org/pandas-docs/stable/user_guide/indexing.html#returning-a-view-versus-a-copy\n",
      "  kommune_df['Procent andel smittede'] = (kommune_df['Bekræftede tilfælde']/antal_borgere(curKommune))*100\n"
     ]
    },
    {
     "data": {
      "application/vnd.jupyter.widget-view+json": {
       "model_id": "2c71d839d6d84d79b474095bdf940096",
       "version_major": 2,
       "version_minor": 0
      },
      "text/plain": [
       "Canvas(toolbar=Toolbar(toolitems=[('Home', 'Reset original view', 'home', 'home'), ('Back', 'Back to previous …"
      ]
     },
     "metadata": {},
     "output_type": "display_data"
    },
    {
     "name": "stderr",
     "output_type": "stream",
     "text": [
      "<ipython-input-7-8c628c2be284>:30: SettingWithCopyWarning: \n",
      "A value is trying to be set on a copy of a slice from a DataFrame.\n",
      "Try using .loc[row_indexer,col_indexer] = value instead\n",
      "\n",
      "See the caveats in the documentation: https://pandas.pydata.org/pandas-docs/stable/user_guide/indexing.html#returning-a-view-versus-a-copy\n",
      "  kommune_df['Procent andel smittede'] = (kommune_df['Bekræftede tilfælde']/antal_borgere(curKommune))*100\n"
     ]
    },
    {
     "data": {
      "application/vnd.jupyter.widget-view+json": {
       "model_id": "f8fbad62659642cea61f0acfe0bdbb90",
       "version_major": 2,
       "version_minor": 0
      },
      "text/plain": [
       "Canvas(toolbar=Toolbar(toolitems=[('Home', 'Reset original view', 'home', 'home'), ('Back', 'Back to previous …"
      ]
     },
     "metadata": {},
     "output_type": "display_data"
    },
    {
     "name": "stderr",
     "output_type": "stream",
     "text": [
      "<ipython-input-7-8c628c2be284>:30: SettingWithCopyWarning: \n",
      "A value is trying to be set on a copy of a slice from a DataFrame.\n",
      "Try using .loc[row_indexer,col_indexer] = value instead\n",
      "\n",
      "See the caveats in the documentation: https://pandas.pydata.org/pandas-docs/stable/user_guide/indexing.html#returning-a-view-versus-a-copy\n",
      "  kommune_df['Procent andel smittede'] = (kommune_df['Bekræftede tilfælde']/antal_borgere(curKommune))*100\n"
     ]
    },
    {
     "data": {
      "application/vnd.jupyter.widget-view+json": {
       "model_id": "f0ed4cd363a04a848c1d80ccafb602c2",
       "version_major": 2,
       "version_minor": 0
      },
      "text/plain": [
       "Canvas(toolbar=Toolbar(toolitems=[('Home', 'Reset original view', 'home', 'home'), ('Back', 'Back to previous …"
      ]
     },
     "metadata": {},
     "output_type": "display_data"
    },
    {
     "name": "stderr",
     "output_type": "stream",
     "text": [
      "<ipython-input-7-8c628c2be284>:30: SettingWithCopyWarning: \n",
      "A value is trying to be set on a copy of a slice from a DataFrame.\n",
      "Try using .loc[row_indexer,col_indexer] = value instead\n",
      "\n",
      "See the caveats in the documentation: https://pandas.pydata.org/pandas-docs/stable/user_guide/indexing.html#returning-a-view-versus-a-copy\n",
      "  kommune_df['Procent andel smittede'] = (kommune_df['Bekræftede tilfælde']/antal_borgere(curKommune))*100\n"
     ]
    },
    {
     "data": {
      "application/vnd.jupyter.widget-view+json": {
       "model_id": "cf11e46d5ef349938929b589a46aea2b",
       "version_major": 2,
       "version_minor": 0
      },
      "text/plain": [
       "Canvas(toolbar=Toolbar(toolitems=[('Home', 'Reset original view', 'home', 'home'), ('Back', 'Back to previous …"
      ]
     },
     "metadata": {},
     "output_type": "display_data"
    },
    {
     "name": "stderr",
     "output_type": "stream",
     "text": [
      "<ipython-input-7-8c628c2be284>:30: SettingWithCopyWarning: \n",
      "A value is trying to be set on a copy of a slice from a DataFrame.\n",
      "Try using .loc[row_indexer,col_indexer] = value instead\n",
      "\n",
      "See the caveats in the documentation: https://pandas.pydata.org/pandas-docs/stable/user_guide/indexing.html#returning-a-view-versus-a-copy\n",
      "  kommune_df['Procent andel smittede'] = (kommune_df['Bekræftede tilfælde']/antal_borgere(curKommune))*100\n"
     ]
    },
    {
     "data": {
      "application/vnd.jupyter.widget-view+json": {
       "model_id": "41efebfcc2794a89b3b43b767001c925",
       "version_major": 2,
       "version_minor": 0
      },
      "text/plain": [
       "Canvas(toolbar=Toolbar(toolitems=[('Home', 'Reset original view', 'home', 'home'), ('Back', 'Back to previous …"
      ]
     },
     "metadata": {},
     "output_type": "display_data"
    },
    {
     "name": "stderr",
     "output_type": "stream",
     "text": [
      "<ipython-input-7-8c628c2be284>:30: SettingWithCopyWarning: \n",
      "A value is trying to be set on a copy of a slice from a DataFrame.\n",
      "Try using .loc[row_indexer,col_indexer] = value instead\n",
      "\n",
      "See the caveats in the documentation: https://pandas.pydata.org/pandas-docs/stable/user_guide/indexing.html#returning-a-view-versus-a-copy\n",
      "  kommune_df['Procent andel smittede'] = (kommune_df['Bekræftede tilfælde']/antal_borgere(curKommune))*100\n"
     ]
    },
    {
     "data": {
      "application/vnd.jupyter.widget-view+json": {
       "model_id": "3a6545f6fd9e4cf6a8cd5308f9536a75",
       "version_major": 2,
       "version_minor": 0
      },
      "text/plain": [
       "Canvas(toolbar=Toolbar(toolitems=[('Home', 'Reset original view', 'home', 'home'), ('Back', 'Back to previous …"
      ]
     },
     "metadata": {},
     "output_type": "display_data"
    },
    {
     "name": "stderr",
     "output_type": "stream",
     "text": [
      "<ipython-input-7-8c628c2be284>:30: SettingWithCopyWarning: \n",
      "A value is trying to be set on a copy of a slice from a DataFrame.\n",
      "Try using .loc[row_indexer,col_indexer] = value instead\n",
      "\n",
      "See the caveats in the documentation: https://pandas.pydata.org/pandas-docs/stable/user_guide/indexing.html#returning-a-view-versus-a-copy\n",
      "  kommune_df['Procent andel smittede'] = (kommune_df['Bekræftede tilfælde']/antal_borgere(curKommune))*100\n"
     ]
    },
    {
     "data": {
      "application/vnd.jupyter.widget-view+json": {
       "model_id": "d239cbf2a5ad48f8a5f365a957189b9c",
       "version_major": 2,
       "version_minor": 0
      },
      "text/plain": [
       "Canvas(toolbar=Toolbar(toolitems=[('Home', 'Reset original view', 'home', 'home'), ('Back', 'Back to previous …"
      ]
     },
     "metadata": {},
     "output_type": "display_data"
    },
    {
     "name": "stderr",
     "output_type": "stream",
     "text": [
      "<ipython-input-7-8c628c2be284>:30: SettingWithCopyWarning: \n",
      "A value is trying to be set on a copy of a slice from a DataFrame.\n",
      "Try using .loc[row_indexer,col_indexer] = value instead\n",
      "\n",
      "See the caveats in the documentation: https://pandas.pydata.org/pandas-docs/stable/user_guide/indexing.html#returning-a-view-versus-a-copy\n",
      "  kommune_df['Procent andel smittede'] = (kommune_df['Bekræftede tilfælde']/antal_borgere(curKommune))*100\n"
     ]
    },
    {
     "data": {
      "application/vnd.jupyter.widget-view+json": {
       "model_id": "62e9c33fed914c3bb0f12d7f95ae8171",
       "version_major": 2,
       "version_minor": 0
      },
      "text/plain": [
       "Canvas(toolbar=Toolbar(toolitems=[('Home', 'Reset original view', 'home', 'home'), ('Back', 'Back to previous …"
      ]
     },
     "metadata": {},
     "output_type": "display_data"
    },
    {
     "name": "stderr",
     "output_type": "stream",
     "text": [
      "<ipython-input-7-8c628c2be284>:30: SettingWithCopyWarning: \n",
      "A value is trying to be set on a copy of a slice from a DataFrame.\n",
      "Try using .loc[row_indexer,col_indexer] = value instead\n",
      "\n",
      "See the caveats in the documentation: https://pandas.pydata.org/pandas-docs/stable/user_guide/indexing.html#returning-a-view-versus-a-copy\n",
      "  kommune_df['Procent andel smittede'] = (kommune_df['Bekræftede tilfælde']/antal_borgere(curKommune))*100\n"
     ]
    },
    {
     "data": {
      "application/vnd.jupyter.widget-view+json": {
       "model_id": "03115c0b87fc48bfb2f1f76dc0558430",
       "version_major": 2,
       "version_minor": 0
      },
      "text/plain": [
       "Canvas(toolbar=Toolbar(toolitems=[('Home', 'Reset original view', 'home', 'home'), ('Back', 'Back to previous …"
      ]
     },
     "metadata": {},
     "output_type": "display_data"
    },
    {
     "name": "stderr",
     "output_type": "stream",
     "text": [
      "<ipython-input-7-8c628c2be284>:30: SettingWithCopyWarning: \n",
      "A value is trying to be set on a copy of a slice from a DataFrame.\n",
      "Try using .loc[row_indexer,col_indexer] = value instead\n",
      "\n",
      "See the caveats in the documentation: https://pandas.pydata.org/pandas-docs/stable/user_guide/indexing.html#returning-a-view-versus-a-copy\n",
      "  kommune_df['Procent andel smittede'] = (kommune_df['Bekræftede tilfælde']/antal_borgere(curKommune))*100\n"
     ]
    },
    {
     "data": {
      "application/vnd.jupyter.widget-view+json": {
       "model_id": "25fc985de8924f4c924349065b4e4469",
       "version_major": 2,
       "version_minor": 0
      },
      "text/plain": [
       "Canvas(toolbar=Toolbar(toolitems=[('Home', 'Reset original view', 'home', 'home'), ('Back', 'Back to previous …"
      ]
     },
     "metadata": {},
     "output_type": "display_data"
    },
    {
     "name": "stderr",
     "output_type": "stream",
     "text": [
      "<ipython-input-7-8c628c2be284>:30: SettingWithCopyWarning: \n",
      "A value is trying to be set on a copy of a slice from a DataFrame.\n",
      "Try using .loc[row_indexer,col_indexer] = value instead\n",
      "\n",
      "See the caveats in the documentation: https://pandas.pydata.org/pandas-docs/stable/user_guide/indexing.html#returning-a-view-versus-a-copy\n",
      "  kommune_df['Procent andel smittede'] = (kommune_df['Bekræftede tilfælde']/antal_borgere(curKommune))*100\n"
     ]
    },
    {
     "data": {
      "application/vnd.jupyter.widget-view+json": {
       "model_id": "08bc326217554d4aa9558c31b863b27a",
       "version_major": 2,
       "version_minor": 0
      },
      "text/plain": [
       "Canvas(toolbar=Toolbar(toolitems=[('Home', 'Reset original view', 'home', 'home'), ('Back', 'Back to previous …"
      ]
     },
     "metadata": {},
     "output_type": "display_data"
    },
    {
     "name": "stderr",
     "output_type": "stream",
     "text": [
      "<ipython-input-7-8c628c2be284>:30: SettingWithCopyWarning: \n",
      "A value is trying to be set on a copy of a slice from a DataFrame.\n",
      "Try using .loc[row_indexer,col_indexer] = value instead\n",
      "\n",
      "See the caveats in the documentation: https://pandas.pydata.org/pandas-docs/stable/user_guide/indexing.html#returning-a-view-versus-a-copy\n",
      "  kommune_df['Procent andel smittede'] = (kommune_df['Bekræftede tilfælde']/antal_borgere(curKommune))*100\n"
     ]
    },
    {
     "data": {
      "application/vnd.jupyter.widget-view+json": {
       "model_id": "5c23cad0f1e641779557ec7bcc31700a",
       "version_major": 2,
       "version_minor": 0
      },
      "text/plain": [
       "Canvas(toolbar=Toolbar(toolitems=[('Home', 'Reset original view', 'home', 'home'), ('Back', 'Back to previous …"
      ]
     },
     "metadata": {},
     "output_type": "display_data"
    },
    {
     "name": "stderr",
     "output_type": "stream",
     "text": [
      "<ipython-input-7-8c628c2be284>:30: SettingWithCopyWarning: \n",
      "A value is trying to be set on a copy of a slice from a DataFrame.\n",
      "Try using .loc[row_indexer,col_indexer] = value instead\n",
      "\n",
      "See the caveats in the documentation: https://pandas.pydata.org/pandas-docs/stable/user_guide/indexing.html#returning-a-view-versus-a-copy\n",
      "  kommune_df['Procent andel smittede'] = (kommune_df['Bekræftede tilfælde']/antal_borgere(curKommune))*100\n"
     ]
    },
    {
     "data": {
      "application/vnd.jupyter.widget-view+json": {
       "model_id": "da8e5f37e043439295afb20e244dbae6",
       "version_major": 2,
       "version_minor": 0
      },
      "text/plain": [
       "Canvas(toolbar=Toolbar(toolitems=[('Home', 'Reset original view', 'home', 'home'), ('Back', 'Back to previous …"
      ]
     },
     "metadata": {},
     "output_type": "display_data"
    },
    {
     "name": "stderr",
     "output_type": "stream",
     "text": [
      "<ipython-input-7-8c628c2be284>:30: SettingWithCopyWarning: \n",
      "A value is trying to be set on a copy of a slice from a DataFrame.\n",
      "Try using .loc[row_indexer,col_indexer] = value instead\n",
      "\n",
      "See the caveats in the documentation: https://pandas.pydata.org/pandas-docs/stable/user_guide/indexing.html#returning-a-view-versus-a-copy\n",
      "  kommune_df['Procent andel smittede'] = (kommune_df['Bekræftede tilfælde']/antal_borgere(curKommune))*100\n"
     ]
    },
    {
     "data": {
      "application/vnd.jupyter.widget-view+json": {
       "model_id": "085a5861127042d6ac6e6d31dc437cc0",
       "version_major": 2,
       "version_minor": 0
      },
      "text/plain": [
       "Canvas(toolbar=Toolbar(toolitems=[('Home', 'Reset original view', 'home', 'home'), ('Back', 'Back to previous …"
      ]
     },
     "metadata": {},
     "output_type": "display_data"
    },
    {
     "name": "stderr",
     "output_type": "stream",
     "text": [
      "<ipython-input-7-8c628c2be284>:30: SettingWithCopyWarning: \n",
      "A value is trying to be set on a copy of a slice from a DataFrame.\n",
      "Try using .loc[row_indexer,col_indexer] = value instead\n",
      "\n",
      "See the caveats in the documentation: https://pandas.pydata.org/pandas-docs/stable/user_guide/indexing.html#returning-a-view-versus-a-copy\n",
      "  kommune_df['Procent andel smittede'] = (kommune_df['Bekræftede tilfælde']/antal_borgere(curKommune))*100\n"
     ]
    },
    {
     "data": {
      "application/vnd.jupyter.widget-view+json": {
       "model_id": "2078b680a19c41a49a7c1dde35579e10",
       "version_major": 2,
       "version_minor": 0
      },
      "text/plain": [
       "Canvas(toolbar=Toolbar(toolitems=[('Home', 'Reset original view', 'home', 'home'), ('Back', 'Back to previous …"
      ]
     },
     "metadata": {},
     "output_type": "display_data"
    },
    {
     "name": "stderr",
     "output_type": "stream",
     "text": [
      "<ipython-input-7-8c628c2be284>:30: SettingWithCopyWarning: \n",
      "A value is trying to be set on a copy of a slice from a DataFrame.\n",
      "Try using .loc[row_indexer,col_indexer] = value instead\n",
      "\n",
      "See the caveats in the documentation: https://pandas.pydata.org/pandas-docs/stable/user_guide/indexing.html#returning-a-view-versus-a-copy\n",
      "  kommune_df['Procent andel smittede'] = (kommune_df['Bekræftede tilfælde']/antal_borgere(curKommune))*100\n"
     ]
    },
    {
     "data": {
      "application/vnd.jupyter.widget-view+json": {
       "model_id": "5c091643fba648c0946d867716e4a7c0",
       "version_major": 2,
       "version_minor": 0
      },
      "text/plain": [
       "Canvas(toolbar=Toolbar(toolitems=[('Home', 'Reset original view', 'home', 'home'), ('Back', 'Back to previous …"
      ]
     },
     "metadata": {},
     "output_type": "display_data"
    },
    {
     "name": "stderr",
     "output_type": "stream",
     "text": [
      "<ipython-input-7-8c628c2be284>:30: SettingWithCopyWarning: \n",
      "A value is trying to be set on a copy of a slice from a DataFrame.\n",
      "Try using .loc[row_indexer,col_indexer] = value instead\n",
      "\n",
      "See the caveats in the documentation: https://pandas.pydata.org/pandas-docs/stable/user_guide/indexing.html#returning-a-view-versus-a-copy\n",
      "  kommune_df['Procent andel smittede'] = (kommune_df['Bekræftede tilfælde']/antal_borgere(curKommune))*100\n"
     ]
    },
    {
     "data": {
      "application/vnd.jupyter.widget-view+json": {
       "model_id": "071f025d210740aa8530006eac6fef04",
       "version_major": 2,
       "version_minor": 0
      },
      "text/plain": [
       "Canvas(toolbar=Toolbar(toolitems=[('Home', 'Reset original view', 'home', 'home'), ('Back', 'Back to previous …"
      ]
     },
     "metadata": {},
     "output_type": "display_data"
    },
    {
     "name": "stderr",
     "output_type": "stream",
     "text": [
      "<ipython-input-7-8c628c2be284>:30: SettingWithCopyWarning: \n",
      "A value is trying to be set on a copy of a slice from a DataFrame.\n",
      "Try using .loc[row_indexer,col_indexer] = value instead\n",
      "\n",
      "See the caveats in the documentation: https://pandas.pydata.org/pandas-docs/stable/user_guide/indexing.html#returning-a-view-versus-a-copy\n",
      "  kommune_df['Procent andel smittede'] = (kommune_df['Bekræftede tilfælde']/antal_borgere(curKommune))*100\n"
     ]
    },
    {
     "data": {
      "application/vnd.jupyter.widget-view+json": {
       "model_id": "857b372ad6624db2a2800d62240b8f92",
       "version_major": 2,
       "version_minor": 0
      },
      "text/plain": [
       "Canvas(toolbar=Toolbar(toolitems=[('Home', 'Reset original view', 'home', 'home'), ('Back', 'Back to previous …"
      ]
     },
     "metadata": {},
     "output_type": "display_data"
    },
    {
     "name": "stderr",
     "output_type": "stream",
     "text": [
      "<ipython-input-7-8c628c2be284>:30: SettingWithCopyWarning: \n",
      "A value is trying to be set on a copy of a slice from a DataFrame.\n",
      "Try using .loc[row_indexer,col_indexer] = value instead\n",
      "\n",
      "See the caveats in the documentation: https://pandas.pydata.org/pandas-docs/stable/user_guide/indexing.html#returning-a-view-versus-a-copy\n",
      "  kommune_df['Procent andel smittede'] = (kommune_df['Bekræftede tilfælde']/antal_borgere(curKommune))*100\n"
     ]
    },
    {
     "data": {
      "application/vnd.jupyter.widget-view+json": {
       "model_id": "e43ea46ca9fc447883cdaf5563e0a9aa",
       "version_major": 2,
       "version_minor": 0
      },
      "text/plain": [
       "Canvas(toolbar=Toolbar(toolitems=[('Home', 'Reset original view', 'home', 'home'), ('Back', 'Back to previous …"
      ]
     },
     "metadata": {},
     "output_type": "display_data"
    },
    {
     "name": "stderr",
     "output_type": "stream",
     "text": [
      "<ipython-input-7-8c628c2be284>:30: SettingWithCopyWarning: \n",
      "A value is trying to be set on a copy of a slice from a DataFrame.\n",
      "Try using .loc[row_indexer,col_indexer] = value instead\n",
      "\n",
      "See the caveats in the documentation: https://pandas.pydata.org/pandas-docs/stable/user_guide/indexing.html#returning-a-view-versus-a-copy\n",
      "  kommune_df['Procent andel smittede'] = (kommune_df['Bekræftede tilfælde']/antal_borgere(curKommune))*100\n"
     ]
    },
    {
     "data": {
      "application/vnd.jupyter.widget-view+json": {
       "model_id": "c6375721fb3e4a1e91889d13cca14508",
       "version_major": 2,
       "version_minor": 0
      },
      "text/plain": [
       "Canvas(toolbar=Toolbar(toolitems=[('Home', 'Reset original view', 'home', 'home'), ('Back', 'Back to previous …"
      ]
     },
     "metadata": {},
     "output_type": "display_data"
    },
    {
     "name": "stderr",
     "output_type": "stream",
     "text": [
      "<ipython-input-7-8c628c2be284>:30: SettingWithCopyWarning: \n",
      "A value is trying to be set on a copy of a slice from a DataFrame.\n",
      "Try using .loc[row_indexer,col_indexer] = value instead\n",
      "\n",
      "See the caveats in the documentation: https://pandas.pydata.org/pandas-docs/stable/user_guide/indexing.html#returning-a-view-versus-a-copy\n",
      "  kommune_df['Procent andel smittede'] = (kommune_df['Bekræftede tilfælde']/antal_borgere(curKommune))*100\n"
     ]
    },
    {
     "data": {
      "application/vnd.jupyter.widget-view+json": {
       "model_id": "0f1929fe6f8b414dac9f47fcd1c59118",
       "version_major": 2,
       "version_minor": 0
      },
      "text/plain": [
       "Canvas(toolbar=Toolbar(toolitems=[('Home', 'Reset original view', 'home', 'home'), ('Back', 'Back to previous …"
      ]
     },
     "metadata": {},
     "output_type": "display_data"
    },
    {
     "name": "stderr",
     "output_type": "stream",
     "text": [
      "<ipython-input-7-8c628c2be284>:30: SettingWithCopyWarning: \n",
      "A value is trying to be set on a copy of a slice from a DataFrame.\n",
      "Try using .loc[row_indexer,col_indexer] = value instead\n",
      "\n",
      "See the caveats in the documentation: https://pandas.pydata.org/pandas-docs/stable/user_guide/indexing.html#returning-a-view-versus-a-copy\n",
      "  kommune_df['Procent andel smittede'] = (kommune_df['Bekræftede tilfælde']/antal_borgere(curKommune))*100\n"
     ]
    },
    {
     "data": {
      "application/vnd.jupyter.widget-view+json": {
       "model_id": "c9c154babd8e4923b03783feaaef88b1",
       "version_major": 2,
       "version_minor": 0
      },
      "text/plain": [
       "Canvas(toolbar=Toolbar(toolitems=[('Home', 'Reset original view', 'home', 'home'), ('Back', 'Back to previous …"
      ]
     },
     "metadata": {},
     "output_type": "display_data"
    },
    {
     "name": "stderr",
     "output_type": "stream",
     "text": [
      "<ipython-input-7-8c628c2be284>:30: SettingWithCopyWarning: \n",
      "A value is trying to be set on a copy of a slice from a DataFrame.\n",
      "Try using .loc[row_indexer,col_indexer] = value instead\n",
      "\n",
      "See the caveats in the documentation: https://pandas.pydata.org/pandas-docs/stable/user_guide/indexing.html#returning-a-view-versus-a-copy\n",
      "  kommune_df['Procent andel smittede'] = (kommune_df['Bekræftede tilfælde']/antal_borgere(curKommune))*100\n"
     ]
    },
    {
     "data": {
      "application/vnd.jupyter.widget-view+json": {
       "model_id": "e6dc38a525c844c9a036b85a96f7826e",
       "version_major": 2,
       "version_minor": 0
      },
      "text/plain": [
       "Canvas(toolbar=Toolbar(toolitems=[('Home', 'Reset original view', 'home', 'home'), ('Back', 'Back to previous …"
      ]
     },
     "metadata": {},
     "output_type": "display_data"
    },
    {
     "name": "stderr",
     "output_type": "stream",
     "text": [
      "<ipython-input-7-8c628c2be284>:30: SettingWithCopyWarning: \n",
      "A value is trying to be set on a copy of a slice from a DataFrame.\n",
      "Try using .loc[row_indexer,col_indexer] = value instead\n",
      "\n",
      "See the caveats in the documentation: https://pandas.pydata.org/pandas-docs/stable/user_guide/indexing.html#returning-a-view-versus-a-copy\n",
      "  kommune_df['Procent andel smittede'] = (kommune_df['Bekræftede tilfælde']/antal_borgere(curKommune))*100\n"
     ]
    },
    {
     "data": {
      "application/vnd.jupyter.widget-view+json": {
       "model_id": "4290fac77d4d40b68d1ef27d5855a62f",
       "version_major": 2,
       "version_minor": 0
      },
      "text/plain": [
       "Canvas(toolbar=Toolbar(toolitems=[('Home', 'Reset original view', 'home', 'home'), ('Back', 'Back to previous …"
      ]
     },
     "metadata": {},
     "output_type": "display_data"
    },
    {
     "name": "stderr",
     "output_type": "stream",
     "text": [
      "<ipython-input-7-8c628c2be284>:30: SettingWithCopyWarning: \n",
      "A value is trying to be set on a copy of a slice from a DataFrame.\n",
      "Try using .loc[row_indexer,col_indexer] = value instead\n",
      "\n",
      "See the caveats in the documentation: https://pandas.pydata.org/pandas-docs/stable/user_guide/indexing.html#returning-a-view-versus-a-copy\n",
      "  kommune_df['Procent andel smittede'] = (kommune_df['Bekræftede tilfælde']/antal_borgere(curKommune))*100\n"
     ]
    },
    {
     "data": {
      "application/vnd.jupyter.widget-view+json": {
       "model_id": "4cb0bd3eccd24e5a8669dd5fa70920d4",
       "version_major": 2,
       "version_minor": 0
      },
      "text/plain": [
       "Canvas(toolbar=Toolbar(toolitems=[('Home', 'Reset original view', 'home', 'home'), ('Back', 'Back to previous …"
      ]
     },
     "metadata": {},
     "output_type": "display_data"
    },
    {
     "name": "stderr",
     "output_type": "stream",
     "text": [
      "<ipython-input-7-8c628c2be284>:30: SettingWithCopyWarning: \n",
      "A value is trying to be set on a copy of a slice from a DataFrame.\n",
      "Try using .loc[row_indexer,col_indexer] = value instead\n",
      "\n",
      "See the caveats in the documentation: https://pandas.pydata.org/pandas-docs/stable/user_guide/indexing.html#returning-a-view-versus-a-copy\n",
      "  kommune_df['Procent andel smittede'] = (kommune_df['Bekræftede tilfælde']/antal_borgere(curKommune))*100\n"
     ]
    },
    {
     "data": {
      "application/vnd.jupyter.widget-view+json": {
       "model_id": "d0fc76357e5c49099fe1392677147655",
       "version_major": 2,
       "version_minor": 0
      },
      "text/plain": [
       "Canvas(toolbar=Toolbar(toolitems=[('Home', 'Reset original view', 'home', 'home'), ('Back', 'Back to previous …"
      ]
     },
     "metadata": {},
     "output_type": "display_data"
    },
    {
     "name": "stderr",
     "output_type": "stream",
     "text": [
      "<ipython-input-7-8c628c2be284>:30: SettingWithCopyWarning: \n",
      "A value is trying to be set on a copy of a slice from a DataFrame.\n",
      "Try using .loc[row_indexer,col_indexer] = value instead\n",
      "\n",
      "See the caveats in the documentation: https://pandas.pydata.org/pandas-docs/stable/user_guide/indexing.html#returning-a-view-versus-a-copy\n",
      "  kommune_df['Procent andel smittede'] = (kommune_df['Bekræftede tilfælde']/antal_borgere(curKommune))*100\n"
     ]
    },
    {
     "data": {
      "application/vnd.jupyter.widget-view+json": {
       "model_id": "e81a1644f66943bdb12fe0c9d27db9a2",
       "version_major": 2,
       "version_minor": 0
      },
      "text/plain": [
       "Canvas(toolbar=Toolbar(toolitems=[('Home', 'Reset original view', 'home', 'home'), ('Back', 'Back to previous …"
      ]
     },
     "metadata": {},
     "output_type": "display_data"
    },
    {
     "name": "stderr",
     "output_type": "stream",
     "text": [
      "<ipython-input-7-8c628c2be284>:30: SettingWithCopyWarning: \n",
      "A value is trying to be set on a copy of a slice from a DataFrame.\n",
      "Try using .loc[row_indexer,col_indexer] = value instead\n",
      "\n",
      "See the caveats in the documentation: https://pandas.pydata.org/pandas-docs/stable/user_guide/indexing.html#returning-a-view-versus-a-copy\n",
      "  kommune_df['Procent andel smittede'] = (kommune_df['Bekræftede tilfælde']/antal_borgere(curKommune))*100\n"
     ]
    },
    {
     "data": {
      "application/vnd.jupyter.widget-view+json": {
       "model_id": "98e0720c7fb34f3aae5fa5fe5484c20a",
       "version_major": 2,
       "version_minor": 0
      },
      "text/plain": [
       "Canvas(toolbar=Toolbar(toolitems=[('Home', 'Reset original view', 'home', 'home'), ('Back', 'Back to previous …"
      ]
     },
     "metadata": {},
     "output_type": "display_data"
    },
    {
     "name": "stderr",
     "output_type": "stream",
     "text": [
      "<ipython-input-7-8c628c2be284>:30: SettingWithCopyWarning: \n",
      "A value is trying to be set on a copy of a slice from a DataFrame.\n",
      "Try using .loc[row_indexer,col_indexer] = value instead\n",
      "\n",
      "See the caveats in the documentation: https://pandas.pydata.org/pandas-docs/stable/user_guide/indexing.html#returning-a-view-versus-a-copy\n",
      "  kommune_df['Procent andel smittede'] = (kommune_df['Bekræftede tilfælde']/antal_borgere(curKommune))*100\n"
     ]
    },
    {
     "data": {
      "application/vnd.jupyter.widget-view+json": {
       "model_id": "71a592f23a1647c7aab7058f7fe757f5",
       "version_major": 2,
       "version_minor": 0
      },
      "text/plain": [
       "Canvas(toolbar=Toolbar(toolitems=[('Home', 'Reset original view', 'home', 'home'), ('Back', 'Back to previous …"
      ]
     },
     "metadata": {},
     "output_type": "display_data"
    },
    {
     "name": "stderr",
     "output_type": "stream",
     "text": [
      "<ipython-input-7-8c628c2be284>:30: SettingWithCopyWarning: \n",
      "A value is trying to be set on a copy of a slice from a DataFrame.\n",
      "Try using .loc[row_indexer,col_indexer] = value instead\n",
      "\n",
      "See the caveats in the documentation: https://pandas.pydata.org/pandas-docs/stable/user_guide/indexing.html#returning-a-view-versus-a-copy\n",
      "  kommune_df['Procent andel smittede'] = (kommune_df['Bekræftede tilfælde']/antal_borgere(curKommune))*100\n"
     ]
    },
    {
     "data": {
      "application/vnd.jupyter.widget-view+json": {
       "model_id": "0b5dcbfebb464d53b498806184d12ebc",
       "version_major": 2,
       "version_minor": 0
      },
      "text/plain": [
       "Canvas(toolbar=Toolbar(toolitems=[('Home', 'Reset original view', 'home', 'home'), ('Back', 'Back to previous …"
      ]
     },
     "metadata": {},
     "output_type": "display_data"
    },
    {
     "name": "stderr",
     "output_type": "stream",
     "text": [
      "<ipython-input-7-8c628c2be284>:30: SettingWithCopyWarning: \n",
      "A value is trying to be set on a copy of a slice from a DataFrame.\n",
      "Try using .loc[row_indexer,col_indexer] = value instead\n",
      "\n",
      "See the caveats in the documentation: https://pandas.pydata.org/pandas-docs/stable/user_guide/indexing.html#returning-a-view-versus-a-copy\n",
      "  kommune_df['Procent andel smittede'] = (kommune_df['Bekræftede tilfælde']/antal_borgere(curKommune))*100\n"
     ]
    },
    {
     "data": {
      "application/vnd.jupyter.widget-view+json": {
       "model_id": "205c376b06c7468b9a86c48d65e7e7d6",
       "version_major": 2,
       "version_minor": 0
      },
      "text/plain": [
       "Canvas(toolbar=Toolbar(toolitems=[('Home', 'Reset original view', 'home', 'home'), ('Back', 'Back to previous …"
      ]
     },
     "metadata": {},
     "output_type": "display_data"
    },
    {
     "name": "stderr",
     "output_type": "stream",
     "text": [
      "<ipython-input-7-8c628c2be284>:30: SettingWithCopyWarning: \n",
      "A value is trying to be set on a copy of a slice from a DataFrame.\n",
      "Try using .loc[row_indexer,col_indexer] = value instead\n",
      "\n",
      "See the caveats in the documentation: https://pandas.pydata.org/pandas-docs/stable/user_guide/indexing.html#returning-a-view-versus-a-copy\n",
      "  kommune_df['Procent andel smittede'] = (kommune_df['Bekræftede tilfælde']/antal_borgere(curKommune))*100\n"
     ]
    },
    {
     "data": {
      "application/vnd.jupyter.widget-view+json": {
       "model_id": "0ae6d14f97e64d729b9df5244191e480",
       "version_major": 2,
       "version_minor": 0
      },
      "text/plain": [
       "Canvas(toolbar=Toolbar(toolitems=[('Home', 'Reset original view', 'home', 'home'), ('Back', 'Back to previous …"
      ]
     },
     "metadata": {},
     "output_type": "display_data"
    },
    {
     "name": "stderr",
     "output_type": "stream",
     "text": [
      "<ipython-input-7-8c628c2be284>:30: SettingWithCopyWarning: \n",
      "A value is trying to be set on a copy of a slice from a DataFrame.\n",
      "Try using .loc[row_indexer,col_indexer] = value instead\n",
      "\n",
      "See the caveats in the documentation: https://pandas.pydata.org/pandas-docs/stable/user_guide/indexing.html#returning-a-view-versus-a-copy\n",
      "  kommune_df['Procent andel smittede'] = (kommune_df['Bekræftede tilfælde']/antal_borgere(curKommune))*100\n"
     ]
    },
    {
     "data": {
      "application/vnd.jupyter.widget-view+json": {
       "model_id": "f2a95930d71048d8989c735c88748ec5",
       "version_major": 2,
       "version_minor": 0
      },
      "text/plain": [
       "Canvas(toolbar=Toolbar(toolitems=[('Home', 'Reset original view', 'home', 'home'), ('Back', 'Back to previous …"
      ]
     },
     "metadata": {},
     "output_type": "display_data"
    },
    {
     "name": "stderr",
     "output_type": "stream",
     "text": [
      "<ipython-input-7-8c628c2be284>:30: SettingWithCopyWarning: \n",
      "A value is trying to be set on a copy of a slice from a DataFrame.\n",
      "Try using .loc[row_indexer,col_indexer] = value instead\n",
      "\n",
      "See the caveats in the documentation: https://pandas.pydata.org/pandas-docs/stable/user_guide/indexing.html#returning-a-view-versus-a-copy\n",
      "  kommune_df['Procent andel smittede'] = (kommune_df['Bekræftede tilfælde']/antal_borgere(curKommune))*100\n"
     ]
    },
    {
     "data": {
      "application/vnd.jupyter.widget-view+json": {
       "model_id": "ea5e58f9aadb4ea6b48d6e2cf5205d2b",
       "version_major": 2,
       "version_minor": 0
      },
      "text/plain": [
       "Canvas(toolbar=Toolbar(toolitems=[('Home', 'Reset original view', 'home', 'home'), ('Back', 'Back to previous …"
      ]
     },
     "metadata": {},
     "output_type": "display_data"
    },
    {
     "name": "stderr",
     "output_type": "stream",
     "text": [
      "<ipython-input-7-8c628c2be284>:30: SettingWithCopyWarning: \n",
      "A value is trying to be set on a copy of a slice from a DataFrame.\n",
      "Try using .loc[row_indexer,col_indexer] = value instead\n",
      "\n",
      "See the caveats in the documentation: https://pandas.pydata.org/pandas-docs/stable/user_guide/indexing.html#returning-a-view-versus-a-copy\n",
      "  kommune_df['Procent andel smittede'] = (kommune_df['Bekræftede tilfælde']/antal_borgere(curKommune))*100\n"
     ]
    },
    {
     "data": {
      "application/vnd.jupyter.widget-view+json": {
       "model_id": "ad8776ad74d34eb5b8f6d5eabe718db6",
       "version_major": 2,
       "version_minor": 0
      },
      "text/plain": [
       "Canvas(toolbar=Toolbar(toolitems=[('Home', 'Reset original view', 'home', 'home'), ('Back', 'Back to previous …"
      ]
     },
     "metadata": {},
     "output_type": "display_data"
    },
    {
     "name": "stderr",
     "output_type": "stream",
     "text": [
      "<ipython-input-7-8c628c2be284>:30: SettingWithCopyWarning: \n",
      "A value is trying to be set on a copy of a slice from a DataFrame.\n",
      "Try using .loc[row_indexer,col_indexer] = value instead\n",
      "\n",
      "See the caveats in the documentation: https://pandas.pydata.org/pandas-docs/stable/user_guide/indexing.html#returning-a-view-versus-a-copy\n",
      "  kommune_df['Procent andel smittede'] = (kommune_df['Bekræftede tilfælde']/antal_borgere(curKommune))*100\n"
     ]
    },
    {
     "data": {
      "application/vnd.jupyter.widget-view+json": {
       "model_id": "e220904543494cbeb9da0efc694fcc2e",
       "version_major": 2,
       "version_minor": 0
      },
      "text/plain": [
       "Canvas(toolbar=Toolbar(toolitems=[('Home', 'Reset original view', 'home', 'home'), ('Back', 'Back to previous …"
      ]
     },
     "metadata": {},
     "output_type": "display_data"
    },
    {
     "name": "stderr",
     "output_type": "stream",
     "text": [
      "<ipython-input-7-8c628c2be284>:30: SettingWithCopyWarning: \n",
      "A value is trying to be set on a copy of a slice from a DataFrame.\n",
      "Try using .loc[row_indexer,col_indexer] = value instead\n",
      "\n",
      "See the caveats in the documentation: https://pandas.pydata.org/pandas-docs/stable/user_guide/indexing.html#returning-a-view-versus-a-copy\n",
      "  kommune_df['Procent andel smittede'] = (kommune_df['Bekræftede tilfælde']/antal_borgere(curKommune))*100\n"
     ]
    },
    {
     "data": {
      "application/vnd.jupyter.widget-view+json": {
       "model_id": "4feddfe952d34e9aaf174b5721a6257d",
       "version_major": 2,
       "version_minor": 0
      },
      "text/plain": [
       "Canvas(toolbar=Toolbar(toolitems=[('Home', 'Reset original view', 'home', 'home'), ('Back', 'Back to previous …"
      ]
     },
     "metadata": {},
     "output_type": "display_data"
    },
    {
     "name": "stderr",
     "output_type": "stream",
     "text": [
      "<ipython-input-7-8c628c2be284>:30: SettingWithCopyWarning: \n",
      "A value is trying to be set on a copy of a slice from a DataFrame.\n",
      "Try using .loc[row_indexer,col_indexer] = value instead\n",
      "\n",
      "See the caveats in the documentation: https://pandas.pydata.org/pandas-docs/stable/user_guide/indexing.html#returning-a-view-versus-a-copy\n",
      "  kommune_df['Procent andel smittede'] = (kommune_df['Bekræftede tilfælde']/antal_borgere(curKommune))*100\n"
     ]
    },
    {
     "data": {
      "application/vnd.jupyter.widget-view+json": {
       "model_id": "a6e0d5090d6040cebba2dba16ae4b8fe",
       "version_major": 2,
       "version_minor": 0
      },
      "text/plain": [
       "Canvas(toolbar=Toolbar(toolitems=[('Home', 'Reset original view', 'home', 'home'), ('Back', 'Back to previous …"
      ]
     },
     "metadata": {},
     "output_type": "display_data"
    },
    {
     "name": "stderr",
     "output_type": "stream",
     "text": [
      "<ipython-input-7-8c628c2be284>:30: SettingWithCopyWarning: \n",
      "A value is trying to be set on a copy of a slice from a DataFrame.\n",
      "Try using .loc[row_indexer,col_indexer] = value instead\n",
      "\n",
      "See the caveats in the documentation: https://pandas.pydata.org/pandas-docs/stable/user_guide/indexing.html#returning-a-view-versus-a-copy\n",
      "  kommune_df['Procent andel smittede'] = (kommune_df['Bekræftede tilfælde']/antal_borgere(curKommune))*100\n"
     ]
    },
    {
     "data": {
      "application/vnd.jupyter.widget-view+json": {
       "model_id": "67a247e859134c7ab58f3237c1178a8c",
       "version_major": 2,
       "version_minor": 0
      },
      "text/plain": [
       "Canvas(toolbar=Toolbar(toolitems=[('Home', 'Reset original view', 'home', 'home'), ('Back', 'Back to previous …"
      ]
     },
     "metadata": {},
     "output_type": "display_data"
    },
    {
     "name": "stderr",
     "output_type": "stream",
     "text": [
      "<ipython-input-7-8c628c2be284>:30: SettingWithCopyWarning: \n",
      "A value is trying to be set on a copy of a slice from a DataFrame.\n",
      "Try using .loc[row_indexer,col_indexer] = value instead\n",
      "\n",
      "See the caveats in the documentation: https://pandas.pydata.org/pandas-docs/stable/user_guide/indexing.html#returning-a-view-versus-a-copy\n",
      "  kommune_df['Procent andel smittede'] = (kommune_df['Bekræftede tilfælde']/antal_borgere(curKommune))*100\n"
     ]
    },
    {
     "data": {
      "application/vnd.jupyter.widget-view+json": {
       "model_id": "4868be53a1fc45fdb4efb126696d89a3",
       "version_major": 2,
       "version_minor": 0
      },
      "text/plain": [
       "Canvas(toolbar=Toolbar(toolitems=[('Home', 'Reset original view', 'home', 'home'), ('Back', 'Back to previous …"
      ]
     },
     "metadata": {},
     "output_type": "display_data"
    },
    {
     "name": "stderr",
     "output_type": "stream",
     "text": [
      "<ipython-input-7-8c628c2be284>:30: SettingWithCopyWarning: \n",
      "A value is trying to be set on a copy of a slice from a DataFrame.\n",
      "Try using .loc[row_indexer,col_indexer] = value instead\n",
      "\n",
      "See the caveats in the documentation: https://pandas.pydata.org/pandas-docs/stable/user_guide/indexing.html#returning-a-view-versus-a-copy\n",
      "  kommune_df['Procent andel smittede'] = (kommune_df['Bekræftede tilfælde']/antal_borgere(curKommune))*100\n"
     ]
    },
    {
     "data": {
      "application/vnd.jupyter.widget-view+json": {
       "model_id": "8c1345913df944d3ba86622cadc3b399",
       "version_major": 2,
       "version_minor": 0
      },
      "text/plain": [
       "Canvas(toolbar=Toolbar(toolitems=[('Home', 'Reset original view', 'home', 'home'), ('Back', 'Back to previous …"
      ]
     },
     "metadata": {},
     "output_type": "display_data"
    },
    {
     "name": "stderr",
     "output_type": "stream",
     "text": [
      "<ipython-input-7-8c628c2be284>:30: SettingWithCopyWarning: \n",
      "A value is trying to be set on a copy of a slice from a DataFrame.\n",
      "Try using .loc[row_indexer,col_indexer] = value instead\n",
      "\n",
      "See the caveats in the documentation: https://pandas.pydata.org/pandas-docs/stable/user_guide/indexing.html#returning-a-view-versus-a-copy\n",
      "  kommune_df['Procent andel smittede'] = (kommune_df['Bekræftede tilfælde']/antal_borgere(curKommune))*100\n"
     ]
    },
    {
     "data": {
      "application/vnd.jupyter.widget-view+json": {
       "model_id": "8631e5b3a51d49bcaadb9d985ef5d1b9",
       "version_major": 2,
       "version_minor": 0
      },
      "text/plain": [
       "Canvas(toolbar=Toolbar(toolitems=[('Home', 'Reset original view', 'home', 'home'), ('Back', 'Back to previous …"
      ]
     },
     "metadata": {},
     "output_type": "display_data"
    },
    {
     "name": "stderr",
     "output_type": "stream",
     "text": [
      "<ipython-input-7-8c628c2be284>:30: SettingWithCopyWarning: \n",
      "A value is trying to be set on a copy of a slice from a DataFrame.\n",
      "Try using .loc[row_indexer,col_indexer] = value instead\n",
      "\n",
      "See the caveats in the documentation: https://pandas.pydata.org/pandas-docs/stable/user_guide/indexing.html#returning-a-view-versus-a-copy\n",
      "  kommune_df['Procent andel smittede'] = (kommune_df['Bekræftede tilfælde']/antal_borgere(curKommune))*100\n"
     ]
    },
    {
     "data": {
      "application/vnd.jupyter.widget-view+json": {
       "model_id": "c6a9d2e001bd41f49e28f2399566e5ee",
       "version_major": 2,
       "version_minor": 0
      },
      "text/plain": [
       "Canvas(toolbar=Toolbar(toolitems=[('Home', 'Reset original view', 'home', 'home'), ('Back', 'Back to previous …"
      ]
     },
     "metadata": {},
     "output_type": "display_data"
    },
    {
     "name": "stderr",
     "output_type": "stream",
     "text": [
      "<ipython-input-7-8c628c2be284>:30: SettingWithCopyWarning: \n",
      "A value is trying to be set on a copy of a slice from a DataFrame.\n",
      "Try using .loc[row_indexer,col_indexer] = value instead\n",
      "\n",
      "See the caveats in the documentation: https://pandas.pydata.org/pandas-docs/stable/user_guide/indexing.html#returning-a-view-versus-a-copy\n",
      "  kommune_df['Procent andel smittede'] = (kommune_df['Bekræftede tilfælde']/antal_borgere(curKommune))*100\n"
     ]
    },
    {
     "data": {
      "application/vnd.jupyter.widget-view+json": {
       "model_id": "80858e4d38c8429fac2efeae723563b7",
       "version_major": 2,
       "version_minor": 0
      },
      "text/plain": [
       "Canvas(toolbar=Toolbar(toolitems=[('Home', 'Reset original view', 'home', 'home'), ('Back', 'Back to previous …"
      ]
     },
     "metadata": {},
     "output_type": "display_data"
    },
    {
     "name": "stderr",
     "output_type": "stream",
     "text": [
      "<ipython-input-7-8c628c2be284>:30: SettingWithCopyWarning: \n",
      "A value is trying to be set on a copy of a slice from a DataFrame.\n",
      "Try using .loc[row_indexer,col_indexer] = value instead\n",
      "\n",
      "See the caveats in the documentation: https://pandas.pydata.org/pandas-docs/stable/user_guide/indexing.html#returning-a-view-versus-a-copy\n",
      "  kommune_df['Procent andel smittede'] = (kommune_df['Bekræftede tilfælde']/antal_borgere(curKommune))*100\n"
     ]
    },
    {
     "data": {
      "application/vnd.jupyter.widget-view+json": {
       "model_id": "5c02d0f1240e473c81d1d6d9a859baa0",
       "version_major": 2,
       "version_minor": 0
      },
      "text/plain": [
       "Canvas(toolbar=Toolbar(toolitems=[('Home', 'Reset original view', 'home', 'home'), ('Back', 'Back to previous …"
      ]
     },
     "metadata": {},
     "output_type": "display_data"
    },
    {
     "name": "stderr",
     "output_type": "stream",
     "text": [
      "<ipython-input-7-8c628c2be284>:30: SettingWithCopyWarning: \n",
      "A value is trying to be set on a copy of a slice from a DataFrame.\n",
      "Try using .loc[row_indexer,col_indexer] = value instead\n",
      "\n",
      "See the caveats in the documentation: https://pandas.pydata.org/pandas-docs/stable/user_guide/indexing.html#returning-a-view-versus-a-copy\n",
      "  kommune_df['Procent andel smittede'] = (kommune_df['Bekræftede tilfælde']/antal_borgere(curKommune))*100\n"
     ]
    },
    {
     "data": {
      "application/vnd.jupyter.widget-view+json": {
       "model_id": "f47f8b9e4bdc45b1865aaa5de104a2e5",
       "version_major": 2,
       "version_minor": 0
      },
      "text/plain": [
       "Canvas(toolbar=Toolbar(toolitems=[('Home', 'Reset original view', 'home', 'home'), ('Back', 'Back to previous …"
      ]
     },
     "metadata": {},
     "output_type": "display_data"
    }
   ],
   "source": [
    "# Choose regions\n",
    "kommunenavn = [\"København\"]\n",
    "kommunenavn = [\"København\",\"Århus\",\"Aalborg\",\"Odense\",\"Roskilde\",\"Ishøj\",\"Frederiksberg\",\"Hvidovre\",\"Greve\",\"Rødovre\",\"Skanderborg\"]\n",
    "kommunenavn = df.Kommunenavn.unique()\n",
    "\n",
    "# Time stuff for plotting\n",
    "df['Dato'] =  pd.to_datetime(df.Dato,format='%Y-%m-%d')\n",
    "\n",
    "\n",
    "#Functions for loop\n",
    "def antal_borgere(kommunenavn):\n",
    "    return df_kommunekort[\"Antal borgere\"][kommunenavn]\n",
    "    # return df_kommunekort[\"Antal borgere\"][kommunenavn]\n",
    "\n",
    "\n",
    "\n",
    "for curKommune in kommunenavn:\n",
    "    kommune_df = df.loc[df[\"Kommunenavn\"] == curKommune]\n",
    "    firstDate = np.datetime64(kommune_df.loc[kommune_df.index[0],'Dato'])-np.timedelta64(1,'D')\n",
    "    firstDate = np.datetime64('2021-11-01')\n",
    "    lastDate = np.datetime64(kommune_df.loc[kommune_df.index[-1],'Dato'])\n",
    "    # Find number of citizens in region\n",
    "    latestsubdir = list(os.walk(path_dash))[0][1][-1]\n",
    "    latestdir = path_dash + latestsubdir\n",
    "    df_kommunekort = pd.read_csv(latestdir+'/Kommunalt_DB/10_Kommune_kort.csv',encoding='latin1',\n",
    "                                 delimiter = ';')\n",
    "    df_kommunekort = df_kommunekort.set_index(\"Kommunenavn\")\n",
    "    \n",
    "    kommune_nr = kommune_df.Kommune.iloc[0]\n",
    "    kommune_df['Procent andel smittede'] = (kommune_df['Bekræftede tilfælde']/antal_borgere(curKommune))*100\n",
    "    \n",
    "    # Make figure\n",
    "\n",
    "    fig,ax1 = plt.subplots(tight_layout=True,figsize=(10,6))\n",
    "\n",
    "    # meanWidth=7\n",
    "    # ax1.plot(kommune_df['Dato'],kommune_df['Procent andel smittede'],'k.:',linewidth=1,label=curKommune)\n",
    "    # ax1.plot(rnTime(kommune_df['Dato'],meanWidth),rnMean(kommune_df['Procent andel smittede'],meanWidth),'k')\n",
    "    # ax2 = ax1.twinx()\n",
    "    # ax2.plot(kommune_df['Dato'],kommune_df['Bekræftede tilfælde'],'k.:',linewidth=1,label=curKommune)\n",
    "\n",
    "    curDays = kommune_df['Dato'].values\n",
    "    curPerc = kommune_df['Procent andel smittede'].values\n",
    "    curCount = kommune_df['Bekræftede tilfælde'].values \n",
    "\n",
    "    indexToUse = curDays <= (np.datetime64('today')-np.timedelta64(2,'D'))\n",
    "    curCount = curCount[indexToUse]\n",
    "    curPerc = curPerc[indexToUse]\n",
    "    curDays = curDays[indexToUse]\n",
    "\n",
    "    meanWidth = 7\n",
    "\n",
    "    ax1.plot(curDays,curPerc,'k.:',linewidth=1,label=curKommune)\n",
    "    ax1.plot(rnTime(curDays,meanWidth),rnMean(curPerc,meanWidth),'k')\n",
    "    ax2 = ax1.twinx()\n",
    "    ax2.plot(curDays,curCount,'k.:',linewidth=1,label=curKommune)\n",
    "\n",
    "\n",
    "    ax1.set_title(curKommune)\n",
    "\n",
    "    # ax1.legend(loc='upper left')\n",
    "    # ax1.grid()\n",
    "    ax1.set_ylabel('Procent smittede [%]')\n",
    "    ax2.set_ylabel('Antal smittede')\n",
    "    ax1.set_ylim(bottom=0)\n",
    "    ax2.set_ylim(bottom=0)\n",
    "    ax1.set_xlim([firstDate,lastDate])\n",
    "    ax1.set_xlim([firstDate,lastDate+np.timedelta64(7,'D')])\n",
    "    # ax1.xaxis.set_major_formatter(mdates.DateFormatter('%Y-%b'))\n",
    "    ax1.xaxis.set_major_formatter(mdates.DateFormatter('%d-%b'))\n",
    "\n",
    "    \n",
    "    # Draw weekends\n",
    "    firstSunday = np.datetime64('2021-10-03')\n",
    "    numWeeks = 52\n",
    "    for k in range(-numWeeks,numWeeks):\n",
    "         curSunday = firstSunday + np.timedelta64(7*k,'D')\n",
    "         ax1.axvspan(curSunday-np.timedelta64(1,'D')-np.timedelta64(12,'h'),curSunday+np.timedelta64(12,'h'),zorder=-1,facecolor='lightgrey',label=int(k==0)*'Weekend')\n",
    "    ax1.grid(axis='y')\n",
    "\n",
    "    #Tilts the x labels. \n",
    "    for label in ax1.get_xticklabels(which='major'):\n",
    "        label.set(rotation=30, horizontalalignment='right')\n",
    "\n",
    "    if saveFigures:\n",
    "        fig.savefig(path_figs+'Kommune/'+curKommune)"
   ]
  },
  {
   "cell_type": "code",
   "execution_count": 8,
   "metadata": {},
   "outputs": [
    {
     "data": {
      "text/html": [
       "<div>\n",
       "<style scoped>\n",
       "    .dataframe tbody tr th:only-of-type {\n",
       "        vertical-align: middle;\n",
       "    }\n",
       "\n",
       "    .dataframe tbody tr th {\n",
       "        vertical-align: top;\n",
       "    }\n",
       "\n",
       "    .dataframe thead th {\n",
       "        text-align: right;\n",
       "    }\n",
       "</style>\n",
       "<table border=\"1\" class=\"dataframe\">\n",
       "  <thead>\n",
       "    <tr style=\"text-align: right;\">\n",
       "      <th></th>\n",
       "      <th>Kommune</th>\n",
       "      <th>Bekræftede tilfælde</th>\n",
       "      <th>Incidens</th>\n",
       "      <th>Bekræftede tilfælde de seneste 7 dage</th>\n",
       "      <th>Incidens de seneste 7 dage</th>\n",
       "      <th>Antal testede personer</th>\n",
       "      <th>Testestede pr. 100.000</th>\n",
       "      <th>Testede de seneste 7 dage</th>\n",
       "      <th>Testede pr. 100.000 de seneste 7 dage</th>\n",
       "      <th>Antal borgere</th>\n",
       "    </tr>\n",
       "    <tr>\n",
       "      <th>Kommunenavn</th>\n",
       "      <th></th>\n",
       "      <th></th>\n",
       "      <th></th>\n",
       "      <th></th>\n",
       "      <th></th>\n",
       "      <th></th>\n",
       "      <th></th>\n",
       "      <th></th>\n",
       "      <th></th>\n",
       "      <th></th>\n",
       "    </tr>\n",
       "  </thead>\n",
       "  <tbody>\n",
       "    <tr>\n",
       "      <th>NaN</th>\n",
       "      <td>411</td>\n",
       "      <td>0</td>\n",
       "      <td>NaN</td>\n",
       "      <td>0</td>\n",
       "      <td>0,0</td>\n",
       "      <td>87</td>\n",
       "      <td>95604.0</td>\n",
       "      <td>11</td>\n",
       "      <td>12088</td>\n",
       "      <td>NaN</td>\n",
       "    </tr>\n",
       "    <tr>\n",
       "      <th>København</th>\n",
       "      <td>101</td>\n",
       "      <td>239966</td>\n",
       "      <td>37421.0</td>\n",
       "      <td>30030</td>\n",
       "      <td>4683</td>\n",
       "      <td>650873</td>\n",
       "      <td>101000.0</td>\n",
       "      <td>117905</td>\n",
       "      <td>18386</td>\n",
       "      <td>641264.0</td>\n",
       "    </tr>\n",
       "    <tr>\n",
       "      <th>Frederiksberg</th>\n",
       "      <td>147</td>\n",
       "      <td>36131</td>\n",
       "      <td>35014.0</td>\n",
       "      <td>4761</td>\n",
       "      <td>4614</td>\n",
       "      <td>110773</td>\n",
       "      <td>107000.0</td>\n",
       "      <td>18066</td>\n",
       "      <td>17507</td>\n",
       "      <td>103191.0</td>\n",
       "    </tr>\n",
       "    <tr>\n",
       "      <th>Ballerup</th>\n",
       "      <td>151</td>\n",
       "      <td>17199</td>\n",
       "      <td>34969.0</td>\n",
       "      <td>2776</td>\n",
       "      <td>5644</td>\n",
       "      <td>49701</td>\n",
       "      <td>101000.0</td>\n",
       "      <td>10988</td>\n",
       "      <td>22341</td>\n",
       "      <td>49183.0</td>\n",
       "    </tr>\n",
       "    <tr>\n",
       "      <th>Brøndby</th>\n",
       "      <td>153</td>\n",
       "      <td>14075</td>\n",
       "      <td>39494.0</td>\n",
       "      <td>1934</td>\n",
       "      <td>5427</td>\n",
       "      <td>35866</td>\n",
       "      <td>101000.0</td>\n",
       "      <td>7481</td>\n",
       "      <td>20992</td>\n",
       "      <td>35638.0</td>\n",
       "    </tr>\n",
       "    <tr>\n",
       "      <th>Dragør</th>\n",
       "      <td>155</td>\n",
       "      <td>4848</td>\n",
       "      <td>33187.0</td>\n",
       "      <td>671</td>\n",
       "      <td>4593</td>\n",
       "      <td>14435</td>\n",
       "      <td>98816.0</td>\n",
       "      <td>3082</td>\n",
       "      <td>21098</td>\n",
       "      <td>14608.0</td>\n",
       "    </tr>\n",
       "    <tr>\n",
       "      <th>Gentofte</th>\n",
       "      <td>157</td>\n",
       "      <td>25197</td>\n",
       "      <td>34083.0</td>\n",
       "      <td>3920</td>\n",
       "      <td>5302</td>\n",
       "      <td>75303</td>\n",
       "      <td>102000.0</td>\n",
       "      <td>14253</td>\n",
       "      <td>19280</td>\n",
       "      <td>73928.0</td>\n",
       "    </tr>\n",
       "    <tr>\n",
       "      <th>Gladsaxe</th>\n",
       "      <td>159</td>\n",
       "      <td>24561</td>\n",
       "      <td>35519.0</td>\n",
       "      <td>3689</td>\n",
       "      <td>5335</td>\n",
       "      <td>71381</td>\n",
       "      <td>103000.0</td>\n",
       "      <td>14387</td>\n",
       "      <td>20806</td>\n",
       "      <td>69148.0</td>\n",
       "    </tr>\n",
       "    <tr>\n",
       "      <th>Glostrup</th>\n",
       "      <td>161</td>\n",
       "      <td>8637</td>\n",
       "      <td>36882.0</td>\n",
       "      <td>1223</td>\n",
       "      <td>5222</td>\n",
       "      <td>24194</td>\n",
       "      <td>103000.0</td>\n",
       "      <td>4961</td>\n",
       "      <td>21185</td>\n",
       "      <td>23418.0</td>\n",
       "    </tr>\n",
       "    <tr>\n",
       "      <th>Herlev</th>\n",
       "      <td>163</td>\n",
       "      <td>11152</td>\n",
       "      <td>38746.0</td>\n",
       "      <td>1551</td>\n",
       "      <td>5389</td>\n",
       "      <td>29535</td>\n",
       "      <td>103000.0</td>\n",
       "      <td>6284</td>\n",
       "      <td>21833</td>\n",
       "      <td>28782.0</td>\n",
       "    </tr>\n",
       "    <tr>\n",
       "      <th>Albertslund</th>\n",
       "      <td>165</td>\n",
       "      <td>10586</td>\n",
       "      <td>38450.0</td>\n",
       "      <td>1269</td>\n",
       "      <td>4609</td>\n",
       "      <td>28115</td>\n",
       "      <td>102000.0</td>\n",
       "      <td>5569</td>\n",
       "      <td>20227</td>\n",
       "      <td>27532.0</td>\n",
       "    </tr>\n",
       "    <tr>\n",
       "      <th>Hvidovre</th>\n",
       "      <td>167</td>\n",
       "      <td>21074</td>\n",
       "      <td>39675.0</td>\n",
       "      <td>3157</td>\n",
       "      <td>5944</td>\n",
       "      <td>54619</td>\n",
       "      <td>103000.0</td>\n",
       "      <td>12371</td>\n",
       "      <td>23291</td>\n",
       "      <td>53116.0</td>\n",
       "    </tr>\n",
       "    <tr>\n",
       "      <th>Høje Tåstrup</th>\n",
       "      <td>169</td>\n",
       "      <td>19345</td>\n",
       "      <td>36552.0</td>\n",
       "      <td>3025</td>\n",
       "      <td>5716</td>\n",
       "      <td>53446</td>\n",
       "      <td>101000.0</td>\n",
       "      <td>12412</td>\n",
       "      <td>23452</td>\n",
       "      <td>52925.0</td>\n",
       "    </tr>\n",
       "    <tr>\n",
       "      <th>Lyngby-Taarbæk</th>\n",
       "      <td>173</td>\n",
       "      <td>17896</td>\n",
       "      <td>31071.0</td>\n",
       "      <td>2971</td>\n",
       "      <td>5158</td>\n",
       "      <td>58404</td>\n",
       "      <td>101000.0</td>\n",
       "      <td>10689</td>\n",
       "      <td>18558</td>\n",
       "      <td>57598.0</td>\n",
       "    </tr>\n",
       "    <tr>\n",
       "      <th>Rødovre</th>\n",
       "      <td>175</td>\n",
       "      <td>15844</td>\n",
       "      <td>38339.0</td>\n",
       "      <td>2290</td>\n",
       "      <td>5541</td>\n",
       "      <td>42073</td>\n",
       "      <td>102000.0</td>\n",
       "      <td>8685</td>\n",
       "      <td>21016</td>\n",
       "      <td>41326.0</td>\n",
       "    </tr>\n",
       "    <tr>\n",
       "      <th>Ishøj</th>\n",
       "      <td>183</td>\n",
       "      <td>9697</td>\n",
       "      <td>41882.0</td>\n",
       "      <td>1322</td>\n",
       "      <td>5710</td>\n",
       "      <td>23761</td>\n",
       "      <td>103000.0</td>\n",
       "      <td>5399</td>\n",
       "      <td>23319</td>\n",
       "      <td>23153.0</td>\n",
       "    </tr>\n",
       "    <tr>\n",
       "      <th>Tårnby</th>\n",
       "      <td>185</td>\n",
       "      <td>15427</td>\n",
       "      <td>36231.0</td>\n",
       "      <td>2112</td>\n",
       "      <td>4960</td>\n",
       "      <td>42829</td>\n",
       "      <td>101000.0</td>\n",
       "      <td>9535</td>\n",
       "      <td>22394</td>\n",
       "      <td>42579.0</td>\n",
       "    </tr>\n",
       "    <tr>\n",
       "      <th>Vallensbæk</th>\n",
       "      <td>187</td>\n",
       "      <td>6403</td>\n",
       "      <td>38948.0</td>\n",
       "      <td>1070</td>\n",
       "      <td>6509</td>\n",
       "      <td>17225</td>\n",
       "      <td>105000.0</td>\n",
       "      <td>4060</td>\n",
       "      <td>24696</td>\n",
       "      <td>16440.0</td>\n",
       "    </tr>\n",
       "    <tr>\n",
       "      <th>Furesø</th>\n",
       "      <td>190</td>\n",
       "      <td>12657</td>\n",
       "      <td>30669.0</td>\n",
       "      <td>2502</td>\n",
       "      <td>6063</td>\n",
       "      <td>41119</td>\n",
       "      <td>99634.0</td>\n",
       "      <td>9276</td>\n",
       "      <td>22476</td>\n",
       "      <td>41270.0</td>\n",
       "    </tr>\n",
       "    <tr>\n",
       "      <th>Allerød</th>\n",
       "      <td>201</td>\n",
       "      <td>7324</td>\n",
       "      <td>28371.0</td>\n",
       "      <td>1515</td>\n",
       "      <td>5869</td>\n",
       "      <td>25740</td>\n",
       "      <td>99709.0</td>\n",
       "      <td>5925</td>\n",
       "      <td>22952</td>\n",
       "      <td>25815.0</td>\n",
       "    </tr>\n",
       "    <tr>\n",
       "      <th>Fredensborg</th>\n",
       "      <td>210</td>\n",
       "      <td>12676</td>\n",
       "      <td>30843.0</td>\n",
       "      <td>2089</td>\n",
       "      <td>5083</td>\n",
       "      <td>40769</td>\n",
       "      <td>99199.0</td>\n",
       "      <td>8198</td>\n",
       "      <td>19947</td>\n",
       "      <td>41098.0</td>\n",
       "    </tr>\n",
       "    <tr>\n",
       "      <th>Helsingør</th>\n",
       "      <td>217</td>\n",
       "      <td>19063</td>\n",
       "      <td>30390.0</td>\n",
       "      <td>3184</td>\n",
       "      <td>5076</td>\n",
       "      <td>60846</td>\n",
       "      <td>97001.0</td>\n",
       "      <td>12571</td>\n",
       "      <td>20041</td>\n",
       "      <td>62727.0</td>\n",
       "    </tr>\n",
       "    <tr>\n",
       "      <th>Hillerød</th>\n",
       "      <td>219</td>\n",
       "      <td>16259</td>\n",
       "      <td>30587.0</td>\n",
       "      <td>3025</td>\n",
       "      <td>5691</td>\n",
       "      <td>53202</td>\n",
       "      <td>100000.0</td>\n",
       "      <td>13239</td>\n",
       "      <td>24906</td>\n",
       "      <td>53156.0</td>\n",
       "    </tr>\n",
       "    <tr>\n",
       "      <th>Hørsholm</th>\n",
       "      <td>223</td>\n",
       "      <td>7674</td>\n",
       "      <td>31075.0</td>\n",
       "      <td>1254</td>\n",
       "      <td>5078</td>\n",
       "      <td>24828</td>\n",
       "      <td>101000.0</td>\n",
       "      <td>4485</td>\n",
       "      <td>18162</td>\n",
       "      <td>24695.0</td>\n",
       "    </tr>\n",
       "    <tr>\n",
       "      <th>Rudersdal</th>\n",
       "      <td>230</td>\n",
       "      <td>17719</td>\n",
       "      <td>31016.0</td>\n",
       "      <td>3122</td>\n",
       "      <td>5465</td>\n",
       "      <td>57490</td>\n",
       "      <td>101000.0</td>\n",
       "      <td>11352</td>\n",
       "      <td>19871</td>\n",
       "      <td>57128.0</td>\n",
       "    </tr>\n",
       "    <tr>\n",
       "      <th>Egedal</th>\n",
       "      <td>240</td>\n",
       "      <td>14281</td>\n",
       "      <td>32219.0</td>\n",
       "      <td>2376</td>\n",
       "      <td>5360</td>\n",
       "      <td>44405</td>\n",
       "      <td>100000.0</td>\n",
       "      <td>9884</td>\n",
       "      <td>22299</td>\n",
       "      <td>44325.0</td>\n",
       "    </tr>\n",
       "    <tr>\n",
       "      <th>Frederikssund</th>\n",
       "      <td>250</td>\n",
       "      <td>12677</td>\n",
       "      <td>27735.0</td>\n",
       "      <td>2578</td>\n",
       "      <td>5640</td>\n",
       "      <td>44317</td>\n",
       "      <td>96959.0</td>\n",
       "      <td>9769</td>\n",
       "      <td>21373</td>\n",
       "      <td>45707.0</td>\n",
       "    </tr>\n",
       "    <tr>\n",
       "      <th>Greve</th>\n",
       "      <td>253</td>\n",
       "      <td>17235</td>\n",
       "      <td>33988.0</td>\n",
       "      <td>3124</td>\n",
       "      <td>6161</td>\n",
       "      <td>50083</td>\n",
       "      <td>98766.0</td>\n",
       "      <td>12511</td>\n",
       "      <td>24672</td>\n",
       "      <td>50709.0</td>\n",
       "    </tr>\n",
       "    <tr>\n",
       "      <th>Køge</th>\n",
       "      <td>259</td>\n",
       "      <td>17611</td>\n",
       "      <td>28651.0</td>\n",
       "      <td>3105</td>\n",
       "      <td>5051</td>\n",
       "      <td>59608</td>\n",
       "      <td>96974.0</td>\n",
       "      <td>13212</td>\n",
       "      <td>21494</td>\n",
       "      <td>61468.0</td>\n",
       "    </tr>\n",
       "    <tr>\n",
       "      <th>Halsnæs</th>\n",
       "      <td>260</td>\n",
       "      <td>7989</td>\n",
       "      <td>25533.0</td>\n",
       "      <td>1550</td>\n",
       "      <td>4954</td>\n",
       "      <td>29851</td>\n",
       "      <td>95404.0</td>\n",
       "      <td>6201</td>\n",
       "      <td>19818</td>\n",
       "      <td>31289.0</td>\n",
       "    </tr>\n",
       "    <tr>\n",
       "      <th>Roskilde</th>\n",
       "      <td>265</td>\n",
       "      <td>26129</td>\n",
       "      <td>29251.0</td>\n",
       "      <td>4788</td>\n",
       "      <td>5360</td>\n",
       "      <td>88040</td>\n",
       "      <td>98559.0</td>\n",
       "      <td>19877</td>\n",
       "      <td>22252</td>\n",
       "      <td>89327.0</td>\n",
       "    </tr>\n",
       "    <tr>\n",
       "      <th>Solrød</th>\n",
       "      <td>269</td>\n",
       "      <td>7909</td>\n",
       "      <td>33256.0</td>\n",
       "      <td>1412</td>\n",
       "      <td>5937</td>\n",
       "      <td>23900</td>\n",
       "      <td>100000.0</td>\n",
       "      <td>5751</td>\n",
       "      <td>24182</td>\n",
       "      <td>23782.0</td>\n",
       "    </tr>\n",
       "    <tr>\n",
       "      <th>Gribskov</th>\n",
       "      <td>270</td>\n",
       "      <td>10372</td>\n",
       "      <td>25268.0</td>\n",
       "      <td>1735</td>\n",
       "      <td>4227</td>\n",
       "      <td>39692</td>\n",
       "      <td>96697.0</td>\n",
       "      <td>7966</td>\n",
       "      <td>19407</td>\n",
       "      <td>41048.0</td>\n",
       "    </tr>\n",
       "    <tr>\n",
       "      <th>Odsherred</th>\n",
       "      <td>306</td>\n",
       "      <td>5681</td>\n",
       "      <td>17343.0</td>\n",
       "      <td>966</td>\n",
       "      <td>2949</td>\n",
       "      <td>29746</td>\n",
       "      <td>90811.0</td>\n",
       "      <td>4798</td>\n",
       "      <td>14648</td>\n",
       "      <td>32756.0</td>\n",
       "    </tr>\n",
       "    <tr>\n",
       "      <th>Holbæk</th>\n",
       "      <td>316</td>\n",
       "      <td>17512</td>\n",
       "      <td>24062.0</td>\n",
       "      <td>3346</td>\n",
       "      <td>4597</td>\n",
       "      <td>68257</td>\n",
       "      <td>93787.0</td>\n",
       "      <td>13293</td>\n",
       "      <td>18265</td>\n",
       "      <td>72779.0</td>\n",
       "    </tr>\n",
       "    <tr>\n",
       "      <th>Faxe</th>\n",
       "      <td>320</td>\n",
       "      <td>8933</td>\n",
       "      <td>24076.0</td>\n",
       "      <td>1746</td>\n",
       "      <td>4706</td>\n",
       "      <td>35109</td>\n",
       "      <td>94623.0</td>\n",
       "      <td>7404</td>\n",
       "      <td>19955</td>\n",
       "      <td>37104.0</td>\n",
       "    </tr>\n",
       "    <tr>\n",
       "      <th>Kalundborg</th>\n",
       "      <td>326</td>\n",
       "      <td>9929</td>\n",
       "      <td>20574.0</td>\n",
       "      <td>1847</td>\n",
       "      <td>3827</td>\n",
       "      <td>43491</td>\n",
       "      <td>90116.0</td>\n",
       "      <td>7458</td>\n",
       "      <td>15453</td>\n",
       "      <td>48261.0</td>\n",
       "    </tr>\n",
       "    <tr>\n",
       "      <th>Ringsted</th>\n",
       "      <td>329</td>\n",
       "      <td>9485</td>\n",
       "      <td>27058.0</td>\n",
       "      <td>1577</td>\n",
       "      <td>4499</td>\n",
       "      <td>33514</td>\n",
       "      <td>95607.0</td>\n",
       "      <td>6575</td>\n",
       "      <td>18757</td>\n",
       "      <td>35054.0</td>\n",
       "    </tr>\n",
       "    <tr>\n",
       "      <th>Slagelse</th>\n",
       "      <td>330</td>\n",
       "      <td>19962</td>\n",
       "      <td>25113.0</td>\n",
       "      <td>3758</td>\n",
       "      <td>4728</td>\n",
       "      <td>74397</td>\n",
       "      <td>93593.0</td>\n",
       "      <td>15569</td>\n",
       "      <td>19586</td>\n",
       "      <td>79490.0</td>\n",
       "    </tr>\n",
       "    <tr>\n",
       "      <th>Stevns</th>\n",
       "      <td>336</td>\n",
       "      <td>5790</td>\n",
       "      <td>24689.0</td>\n",
       "      <td>1362</td>\n",
       "      <td>5808</td>\n",
       "      <td>22151</td>\n",
       "      <td>94452.0</td>\n",
       "      <td>5059</td>\n",
       "      <td>21572</td>\n",
       "      <td>23452.0</td>\n",
       "    </tr>\n",
       "    <tr>\n",
       "      <th>Sorø</th>\n",
       "      <td>340</td>\n",
       "      <td>6008</td>\n",
       "      <td>20039.0</td>\n",
       "      <td>1259</td>\n",
       "      <td>4199</td>\n",
       "      <td>28184</td>\n",
       "      <td>94003.0</td>\n",
       "      <td>5301</td>\n",
       "      <td>17681</td>\n",
       "      <td>29982.0</td>\n",
       "    </tr>\n",
       "    <tr>\n",
       "      <th>Lejre</th>\n",
       "      <td>350</td>\n",
       "      <td>7358</td>\n",
       "      <td>25765.0</td>\n",
       "      <td>1379</td>\n",
       "      <td>4829</td>\n",
       "      <td>27922</td>\n",
       "      <td>97773.0</td>\n",
       "      <td>6136</td>\n",
       "      <td>21486</td>\n",
       "      <td>28558.0</td>\n",
       "    </tr>\n",
       "    <tr>\n",
       "      <th>Lolland</th>\n",
       "      <td>360</td>\n",
       "      <td>8780</td>\n",
       "      <td>21963.0</td>\n",
       "      <td>1693</td>\n",
       "      <td>4235</td>\n",
       "      <td>37739</td>\n",
       "      <td>94404.0</td>\n",
       "      <td>10467</td>\n",
       "      <td>26183</td>\n",
       "      <td>39976.0</td>\n",
       "    </tr>\n",
       "    <tr>\n",
       "      <th>Næstved</th>\n",
       "      <td>370</td>\n",
       "      <td>20096</td>\n",
       "      <td>24037.0</td>\n",
       "      <td>3974</td>\n",
       "      <td>4753</td>\n",
       "      <td>78899</td>\n",
       "      <td>94372.0</td>\n",
       "      <td>18026</td>\n",
       "      <td>21561</td>\n",
       "      <td>83604.0</td>\n",
       "    </tr>\n",
       "    <tr>\n",
       "      <th>Guldborgsund</th>\n",
       "      <td>376</td>\n",
       "      <td>14359</td>\n",
       "      <td>23862.0</td>\n",
       "      <td>3735</td>\n",
       "      <td>6207</td>\n",
       "      <td>56289</td>\n",
       "      <td>93544.0</td>\n",
       "      <td>15739</td>\n",
       "      <td>26156</td>\n",
       "      <td>60174.0</td>\n",
       "    </tr>\n",
       "    <tr>\n",
       "      <th>Vordingborg</th>\n",
       "      <td>390</td>\n",
       "      <td>9989</td>\n",
       "      <td>22063.0</td>\n",
       "      <td>2360</td>\n",
       "      <td>5213</td>\n",
       "      <td>41985</td>\n",
       "      <td>92735.0</td>\n",
       "      <td>9146</td>\n",
       "      <td>20201</td>\n",
       "      <td>45274.0</td>\n",
       "    </tr>\n",
       "    <tr>\n",
       "      <th>Bornholm</th>\n",
       "      <td>400</td>\n",
       "      <td>7262</td>\n",
       "      <td>18388.0</td>\n",
       "      <td>1900</td>\n",
       "      <td>4811</td>\n",
       "      <td>37723</td>\n",
       "      <td>95518.0</td>\n",
       "      <td>10713</td>\n",
       "      <td>27126</td>\n",
       "      <td>39493.0</td>\n",
       "    </tr>\n",
       "    <tr>\n",
       "      <th>Middelfart</th>\n",
       "      <td>410</td>\n",
       "      <td>7454</td>\n",
       "      <td>18836.0</td>\n",
       "      <td>1941</td>\n",
       "      <td>4905</td>\n",
       "      <td>37256</td>\n",
       "      <td>94145.0</td>\n",
       "      <td>8629</td>\n",
       "      <td>21805</td>\n",
       "      <td>39573.0</td>\n",
       "    </tr>\n",
       "    <tr>\n",
       "      <th>Assens</th>\n",
       "      <td>420</td>\n",
       "      <td>7388</td>\n",
       "      <td>18068.0</td>\n",
       "      <td>1886</td>\n",
       "      <td>4612</td>\n",
       "      <td>37839</td>\n",
       "      <td>92536.0</td>\n",
       "      <td>7916</td>\n",
       "      <td>19359</td>\n",
       "      <td>40891.0</td>\n",
       "    </tr>\n",
       "    <tr>\n",
       "      <th>Faaborg-Midtfyn</th>\n",
       "      <td>430</td>\n",
       "      <td>9832</td>\n",
       "      <td>19001.0</td>\n",
       "      <td>2484</td>\n",
       "      <td>4800</td>\n",
       "      <td>48228</td>\n",
       "      <td>93201.0</td>\n",
       "      <td>10743</td>\n",
       "      <td>20761</td>\n",
       "      <td>51746.0</td>\n",
       "    </tr>\n",
       "    <tr>\n",
       "      <th>Kerteminde</th>\n",
       "      <td>440</td>\n",
       "      <td>4825</td>\n",
       "      <td>20102.0</td>\n",
       "      <td>1161</td>\n",
       "      <td>4837</td>\n",
       "      <td>23055</td>\n",
       "      <td>96050.0</td>\n",
       "      <td>5196</td>\n",
       "      <td>21647</td>\n",
       "      <td>24003.0</td>\n",
       "    </tr>\n",
       "    <tr>\n",
       "      <th>Nyborg</th>\n",
       "      <td>450</td>\n",
       "      <td>6769</td>\n",
       "      <td>21090.0</td>\n",
       "      <td>1555</td>\n",
       "      <td>4845</td>\n",
       "      <td>30717</td>\n",
       "      <td>95704.0</td>\n",
       "      <td>7415</td>\n",
       "      <td>23103</td>\n",
       "      <td>32096.0</td>\n",
       "    </tr>\n",
       "    <tr>\n",
       "      <th>Odense</th>\n",
       "      <td>461</td>\n",
       "      <td>55152</td>\n",
       "      <td>26826.0</td>\n",
       "      <td>11927</td>\n",
       "      <td>5801</td>\n",
       "      <td>201549</td>\n",
       "      <td>98033.0</td>\n",
       "      <td>49006</td>\n",
       "      <td>23836</td>\n",
       "      <td>205593.0</td>\n",
       "    </tr>\n",
       "    <tr>\n",
       "      <th>Svendborg</th>\n",
       "      <td>479</td>\n",
       "      <td>12403</td>\n",
       "      <td>21005.0</td>\n",
       "      <td>2888</td>\n",
       "      <td>4891</td>\n",
       "      <td>55973</td>\n",
       "      <td>94794.0</td>\n",
       "      <td>14335</td>\n",
       "      <td>24277</td>\n",
       "      <td>59047.0</td>\n",
       "    </tr>\n",
       "    <tr>\n",
       "      <th>Nordfyn</th>\n",
       "      <td>480</td>\n",
       "      <td>6064</td>\n",
       "      <td>20424.0</td>\n",
       "      <td>1675</td>\n",
       "      <td>5641</td>\n",
       "      <td>27667</td>\n",
       "      <td>93183.0</td>\n",
       "      <td>6101</td>\n",
       "      <td>20548</td>\n",
       "      <td>29691.0</td>\n",
       "    </tr>\n",
       "    <tr>\n",
       "      <th>Langeland</th>\n",
       "      <td>482</td>\n",
       "      <td>1694</td>\n",
       "      <td>13799.0</td>\n",
       "      <td>356</td>\n",
       "      <td>2900</td>\n",
       "      <td>10870</td>\n",
       "      <td>88547.0</td>\n",
       "      <td>2006</td>\n",
       "      <td>16341</td>\n",
       "      <td>12276.0</td>\n",
       "    </tr>\n",
       "    <tr>\n",
       "      <th>Ærø</th>\n",
       "      <td>492</td>\n",
       "      <td>666</td>\n",
       "      <td>11056.0</td>\n",
       "      <td>136</td>\n",
       "      <td>2258</td>\n",
       "      <td>5333</td>\n",
       "      <td>88529.0</td>\n",
       "      <td>1112</td>\n",
       "      <td>18459</td>\n",
       "      <td>6024.0</td>\n",
       "    </tr>\n",
       "    <tr>\n",
       "      <th>Haderslev</th>\n",
       "      <td>510</td>\n",
       "      <td>11265</td>\n",
       "      <td>20389.0</td>\n",
       "      <td>2916</td>\n",
       "      <td>5278</td>\n",
       "      <td>51127</td>\n",
       "      <td>92538.0</td>\n",
       "      <td>12103</td>\n",
       "      <td>21906</td>\n",
       "      <td>55250.0</td>\n",
       "    </tr>\n",
       "    <tr>\n",
       "      <th>Billund</th>\n",
       "      <td>530</td>\n",
       "      <td>5391</td>\n",
       "      <td>20243.0</td>\n",
       "      <td>1433</td>\n",
       "      <td>5381</td>\n",
       "      <td>25649</td>\n",
       "      <td>96309.0</td>\n",
       "      <td>6047</td>\n",
       "      <td>22706</td>\n",
       "      <td>26632.0</td>\n",
       "    </tr>\n",
       "    <tr>\n",
       "      <th>Sønderborg</th>\n",
       "      <td>540</td>\n",
       "      <td>14198</td>\n",
       "      <td>19277.0</td>\n",
       "      <td>3168</td>\n",
       "      <td>4301</td>\n",
       "      <td>68875</td>\n",
       "      <td>93513.0</td>\n",
       "      <td>17674</td>\n",
       "      <td>23996</td>\n",
       "      <td>73653.0</td>\n",
       "    </tr>\n",
       "    <tr>\n",
       "      <th>Tønder</th>\n",
       "      <td>550</td>\n",
       "      <td>7068</td>\n",
       "      <td>19211.0</td>\n",
       "      <td>1397</td>\n",
       "      <td>3797</td>\n",
       "      <td>34232</td>\n",
       "      <td>93044.0</td>\n",
       "      <td>7390</td>\n",
       "      <td>20086</td>\n",
       "      <td>36791.0</td>\n",
       "    </tr>\n",
       "    <tr>\n",
       "      <th>Esbjerg</th>\n",
       "      <td>561</td>\n",
       "      <td>27926</td>\n",
       "      <td>24210.0</td>\n",
       "      <td>6627</td>\n",
       "      <td>5745</td>\n",
       "      <td>110440</td>\n",
       "      <td>95744.0</td>\n",
       "      <td>23750</td>\n",
       "      <td>20590</td>\n",
       "      <td>115349.0</td>\n",
       "    </tr>\n",
       "    <tr>\n",
       "      <th>Fanø</th>\n",
       "      <td>563</td>\n",
       "      <td>561</td>\n",
       "      <td>16360.0</td>\n",
       "      <td>112</td>\n",
       "      <td>3266</td>\n",
       "      <td>3332</td>\n",
       "      <td>97171.0</td>\n",
       "      <td>592</td>\n",
       "      <td>17265</td>\n",
       "      <td>3429.0</td>\n",
       "    </tr>\n",
       "    <tr>\n",
       "      <th>Varde</th>\n",
       "      <td>573</td>\n",
       "      <td>10574</td>\n",
       "      <td>21320.0</td>\n",
       "      <td>2816</td>\n",
       "      <td>5678</td>\n",
       "      <td>46228</td>\n",
       "      <td>93209.0</td>\n",
       "      <td>9384</td>\n",
       "      <td>18921</td>\n",
       "      <td>49596.0</td>\n",
       "    </tr>\n",
       "    <tr>\n",
       "      <th>Vejen</th>\n",
       "      <td>575</td>\n",
       "      <td>9189</td>\n",
       "      <td>21589.0</td>\n",
       "      <td>2086</td>\n",
       "      <td>4901</td>\n",
       "      <td>39981</td>\n",
       "      <td>93934.0</td>\n",
       "      <td>7726</td>\n",
       "      <td>18152</td>\n",
       "      <td>42563.0</td>\n",
       "    </tr>\n",
       "    <tr>\n",
       "      <th>Aabenraa</th>\n",
       "      <td>580</td>\n",
       "      <td>11276</td>\n",
       "      <td>19243.0</td>\n",
       "      <td>2508</td>\n",
       "      <td>4280</td>\n",
       "      <td>54969</td>\n",
       "      <td>93805.0</td>\n",
       "      <td>13626</td>\n",
       "      <td>23253</td>\n",
       "      <td>58599.0</td>\n",
       "    </tr>\n",
       "    <tr>\n",
       "      <th>Fredericia</th>\n",
       "      <td>607</td>\n",
       "      <td>10970</td>\n",
       "      <td>21316.0</td>\n",
       "      <td>2439</td>\n",
       "      <td>4739</td>\n",
       "      <td>49039</td>\n",
       "      <td>95288.0</td>\n",
       "      <td>10644</td>\n",
       "      <td>20682</td>\n",
       "      <td>51464.0</td>\n",
       "    </tr>\n",
       "    <tr>\n",
       "      <th>Horsens</th>\n",
       "      <td>615</td>\n",
       "      <td>21307</td>\n",
       "      <td>22573.0</td>\n",
       "      <td>4598</td>\n",
       "      <td>4871</td>\n",
       "      <td>88452</td>\n",
       "      <td>93707.0</td>\n",
       "      <td>19522</td>\n",
       "      <td>20682</td>\n",
       "      <td>94392.0</td>\n",
       "    </tr>\n",
       "    <tr>\n",
       "      <th>Kolding</th>\n",
       "      <td>621</td>\n",
       "      <td>20139</td>\n",
       "      <td>21548.0</td>\n",
       "      <td>4237</td>\n",
       "      <td>4533</td>\n",
       "      <td>90065</td>\n",
       "      <td>96365.0</td>\n",
       "      <td>18213</td>\n",
       "      <td>19487</td>\n",
       "      <td>93462.0</td>\n",
       "    </tr>\n",
       "    <tr>\n",
       "      <th>Vejle</th>\n",
       "      <td>630</td>\n",
       "      <td>27854</td>\n",
       "      <td>23424.0</td>\n",
       "      <td>6314</td>\n",
       "      <td>5310</td>\n",
       "      <td>113130</td>\n",
       "      <td>95138.0</td>\n",
       "      <td>29931</td>\n",
       "      <td>25171</td>\n",
       "      <td>118912.0</td>\n",
       "    </tr>\n",
       "    <tr>\n",
       "      <th>Herning</th>\n",
       "      <td>657</td>\n",
       "      <td>20704</td>\n",
       "      <td>23247.0</td>\n",
       "      <td>4963</td>\n",
       "      <td>5573</td>\n",
       "      <td>84340</td>\n",
       "      <td>94699.0</td>\n",
       "      <td>19710</td>\n",
       "      <td>22131</td>\n",
       "      <td>89061.0</td>\n",
       "    </tr>\n",
       "    <tr>\n",
       "      <th>Holstebro</th>\n",
       "      <td>661</td>\n",
       "      <td>14948</td>\n",
       "      <td>25570.0</td>\n",
       "      <td>3432</td>\n",
       "      <td>5871</td>\n",
       "      <td>57748</td>\n",
       "      <td>98785.0</td>\n",
       "      <td>14986</td>\n",
       "      <td>25635</td>\n",
       "      <td>58458.0</td>\n",
       "    </tr>\n",
       "    <tr>\n",
       "      <th>Lemvig</th>\n",
       "      <td>665</td>\n",
       "      <td>3797</td>\n",
       "      <td>19569.0</td>\n",
       "      <td>701</td>\n",
       "      <td>3613</td>\n",
       "      <td>18199</td>\n",
       "      <td>93795.0</td>\n",
       "      <td>3645</td>\n",
       "      <td>18786</td>\n",
       "      <td>19403.0</td>\n",
       "    </tr>\n",
       "    <tr>\n",
       "      <th>Struer</th>\n",
       "      <td>671</td>\n",
       "      <td>4016</td>\n",
       "      <td>19341.0</td>\n",
       "      <td>940</td>\n",
       "      <td>4527</td>\n",
       "      <td>20006</td>\n",
       "      <td>96349.0</td>\n",
       "      <td>4496</td>\n",
       "      <td>21653</td>\n",
       "      <td>20764.0</td>\n",
       "    </tr>\n",
       "    <tr>\n",
       "      <th>Syddjurs</th>\n",
       "      <td>706</td>\n",
       "      <td>7320</td>\n",
       "      <td>16815.0</td>\n",
       "      <td>1981</td>\n",
       "      <td>4551</td>\n",
       "      <td>40170</td>\n",
       "      <td>92275.0</td>\n",
       "      <td>7537</td>\n",
       "      <td>17313</td>\n",
       "      <td>43533.0</td>\n",
       "    </tr>\n",
       "    <tr>\n",
       "      <th>Norddjurs</th>\n",
       "      <td>707</td>\n",
       "      <td>5888</td>\n",
       "      <td>15949.0</td>\n",
       "      <td>1269</td>\n",
       "      <td>3437</td>\n",
       "      <td>32778</td>\n",
       "      <td>88788.0</td>\n",
       "      <td>5546</td>\n",
       "      <td>15023</td>\n",
       "      <td>36917.0</td>\n",
       "    </tr>\n",
       "    <tr>\n",
       "      <th>Favrskov</th>\n",
       "      <td>710</td>\n",
       "      <td>10927</td>\n",
       "      <td>22353.0</td>\n",
       "      <td>3007</td>\n",
       "      <td>6151</td>\n",
       "      <td>46517</td>\n",
       "      <td>95160.0</td>\n",
       "      <td>10875</td>\n",
       "      <td>22247</td>\n",
       "      <td>48883.0</td>\n",
       "    </tr>\n",
       "    <tr>\n",
       "      <th>Odder</th>\n",
       "      <td>727</td>\n",
       "      <td>4429</td>\n",
       "      <td>19032.0</td>\n",
       "      <td>912</td>\n",
       "      <td>3919</td>\n",
       "      <td>21961</td>\n",
       "      <td>94371.0</td>\n",
       "      <td>4266</td>\n",
       "      <td>18332</td>\n",
       "      <td>23271.0</td>\n",
       "    </tr>\n",
       "    <tr>\n",
       "      <th>Randers</th>\n",
       "      <td>730</td>\n",
       "      <td>21327</td>\n",
       "      <td>21595.0</td>\n",
       "      <td>4770</td>\n",
       "      <td>4830</td>\n",
       "      <td>90510</td>\n",
       "      <td>91646.0</td>\n",
       "      <td>18174</td>\n",
       "      <td>18402</td>\n",
       "      <td>98760.0</td>\n",
       "    </tr>\n",
       "    <tr>\n",
       "      <th>Silkeborg</th>\n",
       "      <td>740</td>\n",
       "      <td>21396</td>\n",
       "      <td>22004.0</td>\n",
       "      <td>5191</td>\n",
       "      <td>5339</td>\n",
       "      <td>90949</td>\n",
       "      <td>93535.0</td>\n",
       "      <td>19819</td>\n",
       "      <td>20383</td>\n",
       "      <td>97235.0</td>\n",
       "    </tr>\n",
       "    <tr>\n",
       "      <th>Samsø</th>\n",
       "      <td>741</td>\n",
       "      <td>328</td>\n",
       "      <td>8841.0</td>\n",
       "      <td>46</td>\n",
       "      <td>1240</td>\n",
       "      <td>3002</td>\n",
       "      <td>80916.0</td>\n",
       "      <td>299</td>\n",
       "      <td>8059</td>\n",
       "      <td>3710.0</td>\n",
       "    </tr>\n",
       "    <tr>\n",
       "      <th>Skanderborg</th>\n",
       "      <td>746</td>\n",
       "      <td>15791</td>\n",
       "      <td>24555.0</td>\n",
       "      <td>4137</td>\n",
       "      <td>6433</td>\n",
       "      <td>61794</td>\n",
       "      <td>96088.0</td>\n",
       "      <td>14735</td>\n",
       "      <td>22912</td>\n",
       "      <td>64310.0</td>\n",
       "    </tr>\n",
       "    <tr>\n",
       "      <th>Århus</th>\n",
       "      <td>751</td>\n",
       "      <td>96668</td>\n",
       "      <td>27300.0</td>\n",
       "      <td>18845</td>\n",
       "      <td>5322</td>\n",
       "      <td>346143</td>\n",
       "      <td>97753.0</td>\n",
       "      <td>66516</td>\n",
       "      <td>18785</td>\n",
       "      <td>354098.0</td>\n",
       "    </tr>\n",
       "    <tr>\n",
       "      <th>Ikast-Brande</th>\n",
       "      <td>756</td>\n",
       "      <td>8419</td>\n",
       "      <td>20144.0</td>\n",
       "      <td>1778</td>\n",
       "      <td>4254</td>\n",
       "      <td>39232</td>\n",
       "      <td>93870.0</td>\n",
       "      <td>8048</td>\n",
       "      <td>19256</td>\n",
       "      <td>41794.0</td>\n",
       "    </tr>\n",
       "    <tr>\n",
       "      <th>Ringkøbing-Skjern</th>\n",
       "      <td>760</td>\n",
       "      <td>10409</td>\n",
       "      <td>18543.0</td>\n",
       "      <td>2355</td>\n",
       "      <td>4195</td>\n",
       "      <td>53435</td>\n",
       "      <td>95190.0</td>\n",
       "      <td>10380</td>\n",
       "      <td>18491</td>\n",
       "      <td>56135.0</td>\n",
       "    </tr>\n",
       "    <tr>\n",
       "      <th>Hedensted</th>\n",
       "      <td>766</td>\n",
       "      <td>9253</td>\n",
       "      <td>19668.0</td>\n",
       "      <td>2013</td>\n",
       "      <td>4279</td>\n",
       "      <td>44525</td>\n",
       "      <td>94639.0</td>\n",
       "      <td>9339</td>\n",
       "      <td>19850</td>\n",
       "      <td>47047.0</td>\n",
       "    </tr>\n",
       "    <tr>\n",
       "      <th>Morsø</th>\n",
       "      <td>773</td>\n",
       "      <td>3946</td>\n",
       "      <td>19699.0</td>\n",
       "      <td>737</td>\n",
       "      <td>3679</td>\n",
       "      <td>18751</td>\n",
       "      <td>93610.0</td>\n",
       "      <td>3610</td>\n",
       "      <td>18022</td>\n",
       "      <td>20031.0</td>\n",
       "    </tr>\n",
       "    <tr>\n",
       "      <th>Skive</th>\n",
       "      <td>779</td>\n",
       "      <td>8885</td>\n",
       "      <td>19734.0</td>\n",
       "      <td>1685</td>\n",
       "      <td>3742</td>\n",
       "      <td>41833</td>\n",
       "      <td>92913.0</td>\n",
       "      <td>8085</td>\n",
       "      <td>17957</td>\n",
       "      <td>45024.0</td>\n",
       "    </tr>\n",
       "    <tr>\n",
       "      <th>Thisted</th>\n",
       "      <td>787</td>\n",
       "      <td>7926</td>\n",
       "      <td>18410.0</td>\n",
       "      <td>1669</td>\n",
       "      <td>3877</td>\n",
       "      <td>42079</td>\n",
       "      <td>97740.0</td>\n",
       "      <td>7671</td>\n",
       "      <td>17818</td>\n",
       "      <td>43052.0</td>\n",
       "    </tr>\n",
       "    <tr>\n",
       "      <th>Viborg</th>\n",
       "      <td>791</td>\n",
       "      <td>20536</td>\n",
       "      <td>21245.0</td>\n",
       "      <td>3802</td>\n",
       "      <td>3933</td>\n",
       "      <td>90455</td>\n",
       "      <td>93580.0</td>\n",
       "      <td>17322</td>\n",
       "      <td>17920</td>\n",
       "      <td>96661.0</td>\n",
       "    </tr>\n",
       "    <tr>\n",
       "      <th>Brønderslev</th>\n",
       "      <td>810</td>\n",
       "      <td>7412</td>\n",
       "      <td>20481.0</td>\n",
       "      <td>1752</td>\n",
       "      <td>4841</td>\n",
       "      <td>35675</td>\n",
       "      <td>98577.0</td>\n",
       "      <td>7177</td>\n",
       "      <td>19831</td>\n",
       "      <td>36190.0</td>\n",
       "    </tr>\n",
       "    <tr>\n",
       "      <th>Frederikshavn</th>\n",
       "      <td>813</td>\n",
       "      <td>11605</td>\n",
       "      <td>19733.0</td>\n",
       "      <td>2662</td>\n",
       "      <td>4526</td>\n",
       "      <td>58017</td>\n",
       "      <td>98650.0</td>\n",
       "      <td>11077</td>\n",
       "      <td>18835</td>\n",
       "      <td>58811.0</td>\n",
       "    </tr>\n",
       "    <tr>\n",
       "      <th>Vesthimmerland</th>\n",
       "      <td>820</td>\n",
       "      <td>7853</td>\n",
       "      <td>21635.0</td>\n",
       "      <td>1477</td>\n",
       "      <td>4069</td>\n",
       "      <td>35250</td>\n",
       "      <td>97113.0</td>\n",
       "      <td>6825</td>\n",
       "      <td>18803</td>\n",
       "      <td>36298.0</td>\n",
       "    </tr>\n",
       "    <tr>\n",
       "      <th>Læsø</th>\n",
       "      <td>825</td>\n",
       "      <td>117</td>\n",
       "      <td>6614.0</td>\n",
       "      <td>42</td>\n",
       "      <td>2374</td>\n",
       "      <td>1693</td>\n",
       "      <td>95704.0</td>\n",
       "      <td>355</td>\n",
       "      <td>20068</td>\n",
       "      <td>1769.0</td>\n",
       "    </tr>\n",
       "    <tr>\n",
       "      <th>Rebild</th>\n",
       "      <td>840</td>\n",
       "      <td>6501</td>\n",
       "      <td>21208.0</td>\n",
       "      <td>1505</td>\n",
       "      <td>4910</td>\n",
       "      <td>28817</td>\n",
       "      <td>94007.0</td>\n",
       "      <td>6044</td>\n",
       "      <td>19717</td>\n",
       "      <td>30654.0</td>\n",
       "    </tr>\n",
       "    <tr>\n",
       "      <th>Mariagerfjord</th>\n",
       "      <td>846</td>\n",
       "      <td>8882</td>\n",
       "      <td>21350.0</td>\n",
       "      <td>2043</td>\n",
       "      <td>4911</td>\n",
       "      <td>38544</td>\n",
       "      <td>92649.0</td>\n",
       "      <td>8455</td>\n",
       "      <td>20324</td>\n",
       "      <td>41602.0</td>\n",
       "    </tr>\n",
       "    <tr>\n",
       "      <th>Jammerbugt</th>\n",
       "      <td>849</td>\n",
       "      <td>7527</td>\n",
       "      <td>19735.0</td>\n",
       "      <td>1750</td>\n",
       "      <td>4588</td>\n",
       "      <td>37517</td>\n",
       "      <td>98367.0</td>\n",
       "      <td>8013</td>\n",
       "      <td>21009</td>\n",
       "      <td>38140.0</td>\n",
       "    </tr>\n",
       "    <tr>\n",
       "      <th>Aalborg</th>\n",
       "      <td>851</td>\n",
       "      <td>50255</td>\n",
       "      <td>22766.0</td>\n",
       "      <td>9866</td>\n",
       "      <td>4469</td>\n",
       "      <td>211167</td>\n",
       "      <td>95660.0</td>\n",
       "      <td>40544</td>\n",
       "      <td>18367</td>\n",
       "      <td>220747.0</td>\n",
       "    </tr>\n",
       "    <tr>\n",
       "      <th>Hjørring</th>\n",
       "      <td>860</td>\n",
       "      <td>13690</td>\n",
       "      <td>21465.0</td>\n",
       "      <td>3457</td>\n",
       "      <td>5420</td>\n",
       "      <td>62886</td>\n",
       "      <td>98600.0</td>\n",
       "      <td>12400</td>\n",
       "      <td>19442</td>\n",
       "      <td>63779.0</td>\n",
       "    </tr>\n",
       "  </tbody>\n",
       "</table>\n",
       "</div>"
      ],
      "text/plain": [
       "                   Kommune  Bekræftede tilfælde  Incidens  \\\n",
       "Kommunenavn                                                 \n",
       "NaN                    411                    0       NaN   \n",
       "København              101               239966   37421.0   \n",
       "Frederiksberg          147                36131   35014.0   \n",
       "Ballerup               151                17199   34969.0   \n",
       "Brøndby                153                14075   39494.0   \n",
       "Dragør                 155                 4848   33187.0   \n",
       "Gentofte               157                25197   34083.0   \n",
       "Gladsaxe               159                24561   35519.0   \n",
       "Glostrup               161                 8637   36882.0   \n",
       "Herlev                 163                11152   38746.0   \n",
       "Albertslund            165                10586   38450.0   \n",
       "Hvidovre               167                21074   39675.0   \n",
       "Høje Tåstrup           169                19345   36552.0   \n",
       "Lyngby-Taarbæk         173                17896   31071.0   \n",
       "Rødovre                175                15844   38339.0   \n",
       "Ishøj                  183                 9697   41882.0   \n",
       "Tårnby                 185                15427   36231.0   \n",
       "Vallensbæk             187                 6403   38948.0   \n",
       "Furesø                 190                12657   30669.0   \n",
       "Allerød                201                 7324   28371.0   \n",
       "Fredensborg            210                12676   30843.0   \n",
       "Helsingør              217                19063   30390.0   \n",
       "Hillerød               219                16259   30587.0   \n",
       "Hørsholm               223                 7674   31075.0   \n",
       "Rudersdal              230                17719   31016.0   \n",
       "Egedal                 240                14281   32219.0   \n",
       "Frederikssund          250                12677   27735.0   \n",
       "Greve                  253                17235   33988.0   \n",
       "Køge                   259                17611   28651.0   \n",
       "Halsnæs                260                 7989   25533.0   \n",
       "Roskilde               265                26129   29251.0   \n",
       "Solrød                 269                 7909   33256.0   \n",
       "Gribskov               270                10372   25268.0   \n",
       "Odsherred              306                 5681   17343.0   \n",
       "Holbæk                 316                17512   24062.0   \n",
       "Faxe                   320                 8933   24076.0   \n",
       "Kalundborg             326                 9929   20574.0   \n",
       "Ringsted               329                 9485   27058.0   \n",
       "Slagelse               330                19962   25113.0   \n",
       "Stevns                 336                 5790   24689.0   \n",
       "Sorø                   340                 6008   20039.0   \n",
       "Lejre                  350                 7358   25765.0   \n",
       "Lolland                360                 8780   21963.0   \n",
       "Næstved                370                20096   24037.0   \n",
       "Guldborgsund           376                14359   23862.0   \n",
       "Vordingborg            390                 9989   22063.0   \n",
       "Bornholm               400                 7262   18388.0   \n",
       "Middelfart             410                 7454   18836.0   \n",
       "Assens                 420                 7388   18068.0   \n",
       "Faaborg-Midtfyn        430                 9832   19001.0   \n",
       "Kerteminde             440                 4825   20102.0   \n",
       "Nyborg                 450                 6769   21090.0   \n",
       "Odense                 461                55152   26826.0   \n",
       "Svendborg              479                12403   21005.0   \n",
       "Nordfyn                480                 6064   20424.0   \n",
       "Langeland              482                 1694   13799.0   \n",
       "Ærø                    492                  666   11056.0   \n",
       "Haderslev              510                11265   20389.0   \n",
       "Billund                530                 5391   20243.0   \n",
       "Sønderborg             540                14198   19277.0   \n",
       "Tønder                 550                 7068   19211.0   \n",
       "Esbjerg                561                27926   24210.0   \n",
       "Fanø                   563                  561   16360.0   \n",
       "Varde                  573                10574   21320.0   \n",
       "Vejen                  575                 9189   21589.0   \n",
       "Aabenraa               580                11276   19243.0   \n",
       "Fredericia             607                10970   21316.0   \n",
       "Horsens                615                21307   22573.0   \n",
       "Kolding                621                20139   21548.0   \n",
       "Vejle                  630                27854   23424.0   \n",
       "Herning                657                20704   23247.0   \n",
       "Holstebro              661                14948   25570.0   \n",
       "Lemvig                 665                 3797   19569.0   \n",
       "Struer                 671                 4016   19341.0   \n",
       "Syddjurs               706                 7320   16815.0   \n",
       "Norddjurs              707                 5888   15949.0   \n",
       "Favrskov               710                10927   22353.0   \n",
       "Odder                  727                 4429   19032.0   \n",
       "Randers                730                21327   21595.0   \n",
       "Silkeborg              740                21396   22004.0   \n",
       "Samsø                  741                  328    8841.0   \n",
       "Skanderborg            746                15791   24555.0   \n",
       "Århus                  751                96668   27300.0   \n",
       "Ikast-Brande           756                 8419   20144.0   \n",
       "Ringkøbing-Skjern      760                10409   18543.0   \n",
       "Hedensted              766                 9253   19668.0   \n",
       "Morsø                  773                 3946   19699.0   \n",
       "Skive                  779                 8885   19734.0   \n",
       "Thisted                787                 7926   18410.0   \n",
       "Viborg                 791                20536   21245.0   \n",
       "Brønderslev            810                 7412   20481.0   \n",
       "Frederikshavn          813                11605   19733.0   \n",
       "Vesthimmerland         820                 7853   21635.0   \n",
       "Læsø                   825                  117    6614.0   \n",
       "Rebild                 840                 6501   21208.0   \n",
       "Mariagerfjord          846                 8882   21350.0   \n",
       "Jammerbugt             849                 7527   19735.0   \n",
       "Aalborg                851                50255   22766.0   \n",
       "Hjørring               860                13690   21465.0   \n",
       "\n",
       "                   Bekræftede tilfælde de seneste 7 dage  \\\n",
       "Kommunenavn                                                \n",
       "NaN                                                    0   \n",
       "København                                          30030   \n",
       "Frederiksberg                                       4761   \n",
       "Ballerup                                            2776   \n",
       "Brøndby                                             1934   \n",
       "Dragør                                               671   \n",
       "Gentofte                                            3920   \n",
       "Gladsaxe                                            3689   \n",
       "Glostrup                                            1223   \n",
       "Herlev                                              1551   \n",
       "Albertslund                                         1269   \n",
       "Hvidovre                                            3157   \n",
       "Høje Tåstrup                                        3025   \n",
       "Lyngby-Taarbæk                                      2971   \n",
       "Rødovre                                             2290   \n",
       "Ishøj                                               1322   \n",
       "Tårnby                                              2112   \n",
       "Vallensbæk                                          1070   \n",
       "Furesø                                              2502   \n",
       "Allerød                                             1515   \n",
       "Fredensborg                                         2089   \n",
       "Helsingør                                           3184   \n",
       "Hillerød                                            3025   \n",
       "Hørsholm                                            1254   \n",
       "Rudersdal                                           3122   \n",
       "Egedal                                              2376   \n",
       "Frederikssund                                       2578   \n",
       "Greve                                               3124   \n",
       "Køge                                                3105   \n",
       "Halsnæs                                             1550   \n",
       "Roskilde                                            4788   \n",
       "Solrød                                              1412   \n",
       "Gribskov                                            1735   \n",
       "Odsherred                                            966   \n",
       "Holbæk                                              3346   \n",
       "Faxe                                                1746   \n",
       "Kalundborg                                          1847   \n",
       "Ringsted                                            1577   \n",
       "Slagelse                                            3758   \n",
       "Stevns                                              1362   \n",
       "Sorø                                                1259   \n",
       "Lejre                                               1379   \n",
       "Lolland                                             1693   \n",
       "Næstved                                             3974   \n",
       "Guldborgsund                                        3735   \n",
       "Vordingborg                                         2360   \n",
       "Bornholm                                            1900   \n",
       "Middelfart                                          1941   \n",
       "Assens                                              1886   \n",
       "Faaborg-Midtfyn                                     2484   \n",
       "Kerteminde                                          1161   \n",
       "Nyborg                                              1555   \n",
       "Odense                                             11927   \n",
       "Svendborg                                           2888   \n",
       "Nordfyn                                             1675   \n",
       "Langeland                                            356   \n",
       "Ærø                                                  136   \n",
       "Haderslev                                           2916   \n",
       "Billund                                             1433   \n",
       "Sønderborg                                          3168   \n",
       "Tønder                                              1397   \n",
       "Esbjerg                                             6627   \n",
       "Fanø                                                 112   \n",
       "Varde                                               2816   \n",
       "Vejen                                               2086   \n",
       "Aabenraa                                            2508   \n",
       "Fredericia                                          2439   \n",
       "Horsens                                             4598   \n",
       "Kolding                                             4237   \n",
       "Vejle                                               6314   \n",
       "Herning                                             4963   \n",
       "Holstebro                                           3432   \n",
       "Lemvig                                               701   \n",
       "Struer                                               940   \n",
       "Syddjurs                                            1981   \n",
       "Norddjurs                                           1269   \n",
       "Favrskov                                            3007   \n",
       "Odder                                                912   \n",
       "Randers                                             4770   \n",
       "Silkeborg                                           5191   \n",
       "Samsø                                                 46   \n",
       "Skanderborg                                         4137   \n",
       "Århus                                              18845   \n",
       "Ikast-Brande                                        1778   \n",
       "Ringkøbing-Skjern                                   2355   \n",
       "Hedensted                                           2013   \n",
       "Morsø                                                737   \n",
       "Skive                                               1685   \n",
       "Thisted                                             1669   \n",
       "Viborg                                              3802   \n",
       "Brønderslev                                         1752   \n",
       "Frederikshavn                                       2662   \n",
       "Vesthimmerland                                      1477   \n",
       "Læsø                                                  42   \n",
       "Rebild                                              1505   \n",
       "Mariagerfjord                                       2043   \n",
       "Jammerbugt                                          1750   \n",
       "Aalborg                                             9866   \n",
       "Hjørring                                            3457   \n",
       "\n",
       "                  Incidens de seneste 7 dage  Antal testede personer  \\\n",
       "Kommunenavn                                                            \n",
       "NaN                                      0,0                      87   \n",
       "København                               4683                  650873   \n",
       "Frederiksberg                           4614                  110773   \n",
       "Ballerup                                5644                   49701   \n",
       "Brøndby                                 5427                   35866   \n",
       "Dragør                                  4593                   14435   \n",
       "Gentofte                                5302                   75303   \n",
       "Gladsaxe                                5335                   71381   \n",
       "Glostrup                                5222                   24194   \n",
       "Herlev                                  5389                   29535   \n",
       "Albertslund                             4609                   28115   \n",
       "Hvidovre                                5944                   54619   \n",
       "Høje Tåstrup                            5716                   53446   \n",
       "Lyngby-Taarbæk                          5158                   58404   \n",
       "Rødovre                                 5541                   42073   \n",
       "Ishøj                                   5710                   23761   \n",
       "Tårnby                                  4960                   42829   \n",
       "Vallensbæk                              6509                   17225   \n",
       "Furesø                                  6063                   41119   \n",
       "Allerød                                 5869                   25740   \n",
       "Fredensborg                             5083                   40769   \n",
       "Helsingør                               5076                   60846   \n",
       "Hillerød                                5691                   53202   \n",
       "Hørsholm                                5078                   24828   \n",
       "Rudersdal                               5465                   57490   \n",
       "Egedal                                  5360                   44405   \n",
       "Frederikssund                           5640                   44317   \n",
       "Greve                                   6161                   50083   \n",
       "Køge                                    5051                   59608   \n",
       "Halsnæs                                 4954                   29851   \n",
       "Roskilde                                5360                   88040   \n",
       "Solrød                                  5937                   23900   \n",
       "Gribskov                                4227                   39692   \n",
       "Odsherred                               2949                   29746   \n",
       "Holbæk                                  4597                   68257   \n",
       "Faxe                                    4706                   35109   \n",
       "Kalundborg                              3827                   43491   \n",
       "Ringsted                                4499                   33514   \n",
       "Slagelse                                4728                   74397   \n",
       "Stevns                                  5808                   22151   \n",
       "Sorø                                    4199                   28184   \n",
       "Lejre                                   4829                   27922   \n",
       "Lolland                                 4235                   37739   \n",
       "Næstved                                 4753                   78899   \n",
       "Guldborgsund                            6207                   56289   \n",
       "Vordingborg                             5213                   41985   \n",
       "Bornholm                                4811                   37723   \n",
       "Middelfart                              4905                   37256   \n",
       "Assens                                  4612                   37839   \n",
       "Faaborg-Midtfyn                         4800                   48228   \n",
       "Kerteminde                              4837                   23055   \n",
       "Nyborg                                  4845                   30717   \n",
       "Odense                                  5801                  201549   \n",
       "Svendborg                               4891                   55973   \n",
       "Nordfyn                                 5641                   27667   \n",
       "Langeland                               2900                   10870   \n",
       "Ærø                                     2258                    5333   \n",
       "Haderslev                               5278                   51127   \n",
       "Billund                                 5381                   25649   \n",
       "Sønderborg                              4301                   68875   \n",
       "Tønder                                  3797                   34232   \n",
       "Esbjerg                                 5745                  110440   \n",
       "Fanø                                    3266                    3332   \n",
       "Varde                                   5678                   46228   \n",
       "Vejen                                   4901                   39981   \n",
       "Aabenraa                                4280                   54969   \n",
       "Fredericia                              4739                   49039   \n",
       "Horsens                                 4871                   88452   \n",
       "Kolding                                 4533                   90065   \n",
       "Vejle                                   5310                  113130   \n",
       "Herning                                 5573                   84340   \n",
       "Holstebro                               5871                   57748   \n",
       "Lemvig                                  3613                   18199   \n",
       "Struer                                  4527                   20006   \n",
       "Syddjurs                                4551                   40170   \n",
       "Norddjurs                               3437                   32778   \n",
       "Favrskov                                6151                   46517   \n",
       "Odder                                   3919                   21961   \n",
       "Randers                                 4830                   90510   \n",
       "Silkeborg                               5339                   90949   \n",
       "Samsø                                   1240                    3002   \n",
       "Skanderborg                             6433                   61794   \n",
       "Århus                                   5322                  346143   \n",
       "Ikast-Brande                            4254                   39232   \n",
       "Ringkøbing-Skjern                       4195                   53435   \n",
       "Hedensted                               4279                   44525   \n",
       "Morsø                                   3679                   18751   \n",
       "Skive                                   3742                   41833   \n",
       "Thisted                                 3877                   42079   \n",
       "Viborg                                  3933                   90455   \n",
       "Brønderslev                             4841                   35675   \n",
       "Frederikshavn                           4526                   58017   \n",
       "Vesthimmerland                          4069                   35250   \n",
       "Læsø                                    2374                    1693   \n",
       "Rebild                                  4910                   28817   \n",
       "Mariagerfjord                           4911                   38544   \n",
       "Jammerbugt                              4588                   37517   \n",
       "Aalborg                                 4469                  211167   \n",
       "Hjørring                                5420                   62886   \n",
       "\n",
       "                   Testestede pr. 100.000  Testede de seneste 7 dage  \\\n",
       "Kommunenavn                                                            \n",
       "NaN                               95604.0                         11   \n",
       "København                        101000.0                     117905   \n",
       "Frederiksberg                    107000.0                      18066   \n",
       "Ballerup                         101000.0                      10988   \n",
       "Brøndby                          101000.0                       7481   \n",
       "Dragør                            98816.0                       3082   \n",
       "Gentofte                         102000.0                      14253   \n",
       "Gladsaxe                         103000.0                      14387   \n",
       "Glostrup                         103000.0                       4961   \n",
       "Herlev                           103000.0                       6284   \n",
       "Albertslund                      102000.0                       5569   \n",
       "Hvidovre                         103000.0                      12371   \n",
       "Høje Tåstrup                     101000.0                      12412   \n",
       "Lyngby-Taarbæk                   101000.0                      10689   \n",
       "Rødovre                          102000.0                       8685   \n",
       "Ishøj                            103000.0                       5399   \n",
       "Tårnby                           101000.0                       9535   \n",
       "Vallensbæk                       105000.0                       4060   \n",
       "Furesø                            99634.0                       9276   \n",
       "Allerød                           99709.0                       5925   \n",
       "Fredensborg                       99199.0                       8198   \n",
       "Helsingør                         97001.0                      12571   \n",
       "Hillerød                         100000.0                      13239   \n",
       "Hørsholm                         101000.0                       4485   \n",
       "Rudersdal                        101000.0                      11352   \n",
       "Egedal                           100000.0                       9884   \n",
       "Frederikssund                     96959.0                       9769   \n",
       "Greve                             98766.0                      12511   \n",
       "Køge                              96974.0                      13212   \n",
       "Halsnæs                           95404.0                       6201   \n",
       "Roskilde                          98559.0                      19877   \n",
       "Solrød                           100000.0                       5751   \n",
       "Gribskov                          96697.0                       7966   \n",
       "Odsherred                         90811.0                       4798   \n",
       "Holbæk                            93787.0                      13293   \n",
       "Faxe                              94623.0                       7404   \n",
       "Kalundborg                        90116.0                       7458   \n",
       "Ringsted                          95607.0                       6575   \n",
       "Slagelse                          93593.0                      15569   \n",
       "Stevns                            94452.0                       5059   \n",
       "Sorø                              94003.0                       5301   \n",
       "Lejre                             97773.0                       6136   \n",
       "Lolland                           94404.0                      10467   \n",
       "Næstved                           94372.0                      18026   \n",
       "Guldborgsund                      93544.0                      15739   \n",
       "Vordingborg                       92735.0                       9146   \n",
       "Bornholm                          95518.0                      10713   \n",
       "Middelfart                        94145.0                       8629   \n",
       "Assens                            92536.0                       7916   \n",
       "Faaborg-Midtfyn                   93201.0                      10743   \n",
       "Kerteminde                        96050.0                       5196   \n",
       "Nyborg                            95704.0                       7415   \n",
       "Odense                            98033.0                      49006   \n",
       "Svendborg                         94794.0                      14335   \n",
       "Nordfyn                           93183.0                       6101   \n",
       "Langeland                         88547.0                       2006   \n",
       "Ærø                               88529.0                       1112   \n",
       "Haderslev                         92538.0                      12103   \n",
       "Billund                           96309.0                       6047   \n",
       "Sønderborg                        93513.0                      17674   \n",
       "Tønder                            93044.0                       7390   \n",
       "Esbjerg                           95744.0                      23750   \n",
       "Fanø                              97171.0                        592   \n",
       "Varde                             93209.0                       9384   \n",
       "Vejen                             93934.0                       7726   \n",
       "Aabenraa                          93805.0                      13626   \n",
       "Fredericia                        95288.0                      10644   \n",
       "Horsens                           93707.0                      19522   \n",
       "Kolding                           96365.0                      18213   \n",
       "Vejle                             95138.0                      29931   \n",
       "Herning                           94699.0                      19710   \n",
       "Holstebro                         98785.0                      14986   \n",
       "Lemvig                            93795.0                       3645   \n",
       "Struer                            96349.0                       4496   \n",
       "Syddjurs                          92275.0                       7537   \n",
       "Norddjurs                         88788.0                       5546   \n",
       "Favrskov                          95160.0                      10875   \n",
       "Odder                             94371.0                       4266   \n",
       "Randers                           91646.0                      18174   \n",
       "Silkeborg                         93535.0                      19819   \n",
       "Samsø                             80916.0                        299   \n",
       "Skanderborg                       96088.0                      14735   \n",
       "Århus                             97753.0                      66516   \n",
       "Ikast-Brande                      93870.0                       8048   \n",
       "Ringkøbing-Skjern                 95190.0                      10380   \n",
       "Hedensted                         94639.0                       9339   \n",
       "Morsø                             93610.0                       3610   \n",
       "Skive                             92913.0                       8085   \n",
       "Thisted                           97740.0                       7671   \n",
       "Viborg                            93580.0                      17322   \n",
       "Brønderslev                       98577.0                       7177   \n",
       "Frederikshavn                     98650.0                      11077   \n",
       "Vesthimmerland                    97113.0                       6825   \n",
       "Læsø                              95704.0                        355   \n",
       "Rebild                            94007.0                       6044   \n",
       "Mariagerfjord                     92649.0                       8455   \n",
       "Jammerbugt                        98367.0                       8013   \n",
       "Aalborg                           95660.0                      40544   \n",
       "Hjørring                          98600.0                      12400   \n",
       "\n",
       "                   Testede pr. 100.000 de seneste 7 dage  Antal borgere  \n",
       "Kommunenavn                                                              \n",
       "NaN                                                12088            NaN  \n",
       "København                                          18386       641264.0  \n",
       "Frederiksberg                                      17507       103191.0  \n",
       "Ballerup                                           22341        49183.0  \n",
       "Brøndby                                            20992        35638.0  \n",
       "Dragør                                             21098        14608.0  \n",
       "Gentofte                                           19280        73928.0  \n",
       "Gladsaxe                                           20806        69148.0  \n",
       "Glostrup                                           21185        23418.0  \n",
       "Herlev                                             21833        28782.0  \n",
       "Albertslund                                        20227        27532.0  \n",
       "Hvidovre                                           23291        53116.0  \n",
       "Høje Tåstrup                                       23452        52925.0  \n",
       "Lyngby-Taarbæk                                     18558        57598.0  \n",
       "Rødovre                                            21016        41326.0  \n",
       "Ishøj                                              23319        23153.0  \n",
       "Tårnby                                             22394        42579.0  \n",
       "Vallensbæk                                         24696        16440.0  \n",
       "Furesø                                             22476        41270.0  \n",
       "Allerød                                            22952        25815.0  \n",
       "Fredensborg                                        19947        41098.0  \n",
       "Helsingør                                          20041        62727.0  \n",
       "Hillerød                                           24906        53156.0  \n",
       "Hørsholm                                           18162        24695.0  \n",
       "Rudersdal                                          19871        57128.0  \n",
       "Egedal                                             22299        44325.0  \n",
       "Frederikssund                                      21373        45707.0  \n",
       "Greve                                              24672        50709.0  \n",
       "Køge                                               21494        61468.0  \n",
       "Halsnæs                                            19818        31289.0  \n",
       "Roskilde                                           22252        89327.0  \n",
       "Solrød                                             24182        23782.0  \n",
       "Gribskov                                           19407        41048.0  \n",
       "Odsherred                                          14648        32756.0  \n",
       "Holbæk                                             18265        72779.0  \n",
       "Faxe                                               19955        37104.0  \n",
       "Kalundborg                                         15453        48261.0  \n",
       "Ringsted                                           18757        35054.0  \n",
       "Slagelse                                           19586        79490.0  \n",
       "Stevns                                             21572        23452.0  \n",
       "Sorø                                               17681        29982.0  \n",
       "Lejre                                              21486        28558.0  \n",
       "Lolland                                            26183        39976.0  \n",
       "Næstved                                            21561        83604.0  \n",
       "Guldborgsund                                       26156        60174.0  \n",
       "Vordingborg                                        20201        45274.0  \n",
       "Bornholm                                           27126        39493.0  \n",
       "Middelfart                                         21805        39573.0  \n",
       "Assens                                             19359        40891.0  \n",
       "Faaborg-Midtfyn                                    20761        51746.0  \n",
       "Kerteminde                                         21647        24003.0  \n",
       "Nyborg                                             23103        32096.0  \n",
       "Odense                                             23836       205593.0  \n",
       "Svendborg                                          24277        59047.0  \n",
       "Nordfyn                                            20548        29691.0  \n",
       "Langeland                                          16341        12276.0  \n",
       "Ærø                                                18459         6024.0  \n",
       "Haderslev                                          21906        55250.0  \n",
       "Billund                                            22706        26632.0  \n",
       "Sønderborg                                         23996        73653.0  \n",
       "Tønder                                             20086        36791.0  \n",
       "Esbjerg                                            20590       115349.0  \n",
       "Fanø                                               17265         3429.0  \n",
       "Varde                                              18921        49596.0  \n",
       "Vejen                                              18152        42563.0  \n",
       "Aabenraa                                           23253        58599.0  \n",
       "Fredericia                                         20682        51464.0  \n",
       "Horsens                                            20682        94392.0  \n",
       "Kolding                                            19487        93462.0  \n",
       "Vejle                                              25171       118912.0  \n",
       "Herning                                            22131        89061.0  \n",
       "Holstebro                                          25635        58458.0  \n",
       "Lemvig                                             18786        19403.0  \n",
       "Struer                                             21653        20764.0  \n",
       "Syddjurs                                           17313        43533.0  \n",
       "Norddjurs                                          15023        36917.0  \n",
       "Favrskov                                           22247        48883.0  \n",
       "Odder                                              18332        23271.0  \n",
       "Randers                                            18402        98760.0  \n",
       "Silkeborg                                          20383        97235.0  \n",
       "Samsø                                               8059         3710.0  \n",
       "Skanderborg                                        22912        64310.0  \n",
       "Århus                                              18785       354098.0  \n",
       "Ikast-Brande                                       19256        41794.0  \n",
       "Ringkøbing-Skjern                                  18491        56135.0  \n",
       "Hedensted                                          19850        47047.0  \n",
       "Morsø                                              18022        20031.0  \n",
       "Skive                                              17957        45024.0  \n",
       "Thisted                                            17818        43052.0  \n",
       "Viborg                                             17920        96661.0  \n",
       "Brønderslev                                        19831        36190.0  \n",
       "Frederikshavn                                      18835        58811.0  \n",
       "Vesthimmerland                                     18803        36298.0  \n",
       "Læsø                                               20068         1769.0  \n",
       "Rebild                                             19717        30654.0  \n",
       "Mariagerfjord                                      20324        41602.0  \n",
       "Jammerbugt                                         21009        38140.0  \n",
       "Aalborg                                            18367       220747.0  \n",
       "Hjørring                                           19442        63779.0  "
      ]
     },
     "execution_count": 8,
     "metadata": {},
     "output_type": "execute_result"
    }
   ],
   "source": [
    "df_kommunekort\n",
    "\n",
    "# antal_borgere(kommunenavn[i])\n",
    "# kommunenavn[4]"
   ]
  }
 ],
 "metadata": {
  "kernelspec": {
   "display_name": "Python 3",
   "language": "python",
   "name": "python3"
  },
  "language_info": {
   "codemirror_mode": {
    "name": "ipython",
    "version": 3
   },
   "file_extension": ".py",
   "mimetype": "text/x-python",
   "name": "python",
   "nbconvert_exporter": "python",
   "pygments_lexer": "ipython3",
   "version": "3.8.12"
  }
 },
 "nbformat": 4,
 "nbformat_minor": 4
}
