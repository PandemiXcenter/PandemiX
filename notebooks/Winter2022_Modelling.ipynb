{
 "cells": [
  {
   "cell_type": "markdown",
   "metadata": {},
   "source": [
    "# Goal of script: \n",
    "Very simple SIR-modelling to Omikron wave, to get a very rough estimate of wave end"
   ]
  },
  {
   "cell_type": "code",
   "execution_count": 1,
   "metadata": {},
   "outputs": [
    {
     "name": "stdout",
     "output_type": "stream",
     "text": [
      "saveFigures is set to: True\n",
      "Done loading packages\n"
     ]
    }
   ],
   "source": [
    "%matplotlib widget\n",
    "# Load packages and settings\n",
    "import numpy as np\n",
    "import pandas as pd\n",
    "pd.set_option('display.max_rows', 500)\n",
    "pd.set_option('display.min_rows', 50)\n",
    "import seaborn as sns\n",
    "from scipy.integrate import solve_ivp\n",
    "\n",
    "import matplotlib.pyplot as plt\n",
    "plt.rcParams['figure.figsize'] = (12,8)\n",
    "plt.rcParams[\"image.cmap\"] = \"tab10\"\n",
    "plt.rcParams['axes.prop_cycle'] = plt.cycler(color=plt.cm.tab10.colors)\n",
    "fs_label = 16\n",
    "parameters = {\n",
    "                'axes.labelsize': fs_label,\n",
    "                'axes.titlesize': fs_label+4,\n",
    "                'xtick.labelsize': fs_label,\n",
    "                'ytick.labelsize': fs_label, \n",
    "                'legend.fontsize': fs_label, \n",
    "                'lines.markersize': 10,\n",
    "                'lines.linewidth': 3\n",
    "             }\n",
    "plt.rcParams.update(parameters)\n",
    "from matplotlib import cm # Colormaps\n",
    "import matplotlib.colors as colors\n",
    "# cmap = plt.cm.get_cmap('Dark2',len(ageGroups))\n",
    "\n",
    "import locale\n",
    "import matplotlib.dates as mdates\n",
    "locale.setlocale(locale.LC_TIME,\"Danish\")\n",
    "# ax1.xaxis.set_major_formatter(mdates.DateFormatter('%b\\n%Y'))\n",
    "# ax1.spines['top'].set_visible(False) \n",
    "\n",
    "import os\n",
    "# import csv\n",
    "import math\n",
    "\n",
    "from datetime import date\n",
    "\n",
    "\n",
    "saveFigures = True\n",
    "# saveFigures = False\n",
    "print('saveFigures is set to: '+str(saveFigures))\n",
    "\n",
    "print('Done loading packages')\n",
    "\n",
    "# Define running mean functions\n",
    "def rnMean(data,meanWidth):\n",
    "    return np.convolve(data, np.ones(meanWidth)/meanWidth, mode='valid')\n",
    "def rnTime(t,meanWidth):\n",
    "    return t[math.floor(meanWidth/2):-math.ceil(meanWidth/2)+1]"
   ]
  },
  {
   "cell_type": "markdown",
   "metadata": {},
   "source": [
    "# Get data "
   ]
  },
  {
   "cell_type": "code",
   "execution_count": 2,
   "metadata": {},
   "outputs": [],
   "source": [
    "# Define paths\n",
    "rootdir_data = os.getcwd() +\"\\\\..\\\\DanskeData\\\\\" \n",
    "\n",
    "path_data = rootdir_data + \"ssi_data\\\\\"\n",
    "path_dash = rootdir_data + \"ssi_dashboard\\\\\"\n",
    "path_vacc = rootdir_data + \"ssi_vacc\\\\\"\n",
    "\n",
    "path_figs = os.getcwd() +\"\\\\..\\\\Figures\\\\\" "
   ]
  },
  {
   "cell_type": "code",
   "execution_count": 3,
   "metadata": {},
   "outputs": [
    {
     "data": {
      "text/html": [
       "<div>\n",
       "<style scoped>\n",
       "    .dataframe tbody tr th:only-of-type {\n",
       "        vertical-align: middle;\n",
       "    }\n",
       "\n",
       "    .dataframe tbody tr th {\n",
       "        vertical-align: top;\n",
       "    }\n",
       "\n",
       "    .dataframe thead th {\n",
       "        text-align: right;\n",
       "    }\n",
       "</style>\n",
       "<table border=\"1\" class=\"dataframe\">\n",
       "  <thead>\n",
       "    <tr style=\"text-align: right;\">\n",
       "      <th></th>\n",
       "      <th>Dato</th>\n",
       "      <th>Antal_døde</th>\n",
       "    </tr>\n",
       "  </thead>\n",
       "  <tbody>\n",
       "    <tr>\n",
       "      <th>695</th>\n",
       "      <td>2022-02-04</td>\n",
       "      <td>20</td>\n",
       "    </tr>\n",
       "    <tr>\n",
       "      <th>696</th>\n",
       "      <td>2022-02-05</td>\n",
       "      <td>18</td>\n",
       "    </tr>\n",
       "    <tr>\n",
       "      <th>697</th>\n",
       "      <td>2022-02-06</td>\n",
       "      <td>27</td>\n",
       "    </tr>\n",
       "    <tr>\n",
       "      <th>698</th>\n",
       "      <td>2022-02-07</td>\n",
       "      <td>8</td>\n",
       "    </tr>\n",
       "    <tr>\n",
       "      <th>699</th>\n",
       "      <td>2022-02-08</td>\n",
       "      <td>0</td>\n",
       "    </tr>\n",
       "  </tbody>\n",
       "</table>\n",
       "</div>"
      ],
      "text/plain": [
       "          Dato  Antal_døde\n",
       "695 2022-02-04          20\n",
       "696 2022-02-05          18\n",
       "697 2022-02-06          27\n",
       "698 2022-02-07           8\n",
       "699 2022-02-08           0"
      ]
     },
     "execution_count": 3,
     "metadata": {},
     "output_type": "execute_result"
    }
   ],
   "source": [
    "latestsubdir = list(os.walk(path_data))[0][1][-1]\n",
    "latestdir = path_data + latestsubdir\n",
    "\n",
    "dfCase = pd.read_csv(latestdir+'/Test_pos_over_time.csv',delimiter = ';',dtype=str)\n",
    "dfCase = dfCase.iloc[:-2]\n",
    "dfCase['NewPositive'] = pd.to_numeric(dfCase['NewPositive'].astype(str).apply(lambda x: x.replace('.','')))\n",
    "dfCase['Tested'] = pd.to_numeric(dfCase['Tested'].astype(str).apply(lambda x: x.replace('.','')))\n",
    "dfCase['PosPct'] = pd.to_numeric(dfCase['PosPct'].astype(str).apply(lambda x: x.replace(',','.')))\n",
    "dfCase['Date'] =  pd.to_datetime(dfCase.Date,format='%Y-%m-%d')\n",
    "testDates = dfCase['Date']\n",
    "\n",
    "dfAdm = pd.read_csv(latestdir+'/Newly_admitted_over_time.csv',delimiter = ';',dtype=str)\n",
    "dfAdm['Dato'] = pd.to_datetime(dfAdm['Dato'])\n",
    "dfAdm['Total'] = pd.to_numeric(dfAdm['Total'])\n",
    "dfAdm.tail()\n",
    "\n",
    "\n",
    "dfDea = pd.read_csv(latestdir+'/Deaths_over_time.csv',delimiter = ';',dtype=str)\n",
    "dfDea = dfDea.iloc[:-1,:]\n",
    "dfDea['Dato'] = pd.to_datetime(dfDea['Dato'])\n",
    "dfDea['Antal_døde'] = pd.to_numeric(dfDea['Antal_døde'])\n",
    "dfDea.tail()\n"
   ]
  },
  {
   "cell_type": "code",
   "execution_count": 4,
   "metadata": {},
   "outputs": [],
   "source": [
    "allDates = dfCase.Date\n",
    "allDatesAdm = dfAdm.Dato\n",
    "allDatesDea = dfDea.Dato\n",
    "\n",
    "allCases = dfCase.NewPositive.values\n",
    "\n",
    "firstDate = np.datetime64('2021-10-01')-np.timedelta64(1,'D')\n",
    "# lastDate = np.datetime64('2022-03-01')+np.timedelta64(1,'D')\n",
    "lastDate = np.datetime64('2022-03-01')\n",
    "\n",
    "meanWidth = 7"
   ]
  },
  {
   "cell_type": "code",
   "execution_count": 5,
   "metadata": {},
   "outputs": [],
   "source": [
    "# fig,ax1 = plt.subplots(tight_layout=True)\n",
    "\n",
    "# ax1.plot(allDates[:-1],allCases[:-1],'b.:',markersize=6,linewidth=0.75,label='Daglig data')\n",
    "# ax1.plot(rnTime(allDates[:-1],meanWidth),rnMean(allCases[:-1],meanWidth),'b',linewidth=5,label=f'{meanWidth} dages gennemsnit')"
   ]
  },
  {
   "cell_type": "code",
   "execution_count": 6,
   "metadata": {},
   "outputs": [],
   "source": [
    "# SIR-model, with just beta and gamma\n",
    "def SIRmodel(t,x,beta,gamma):\n",
    "\n",
    "    S,I = x\n",
    "\n",
    "    dS = - beta * S * I \n",
    "    dI =   beta * S * I - gamma * I\n",
    "\n",
    "    return [dS,dI]"
   ]
  },
  {
   "cell_type": "code",
   "execution_count": 7,
   "metadata": {},
   "outputs": [
    {
     "data": {
      "application/vnd.jupyter.widget-view+json": {
       "model_id": "14e270f2f874416db6f4663faf7de219",
       "version_major": 2,
       "version_minor": 0
      },
      "text/plain": [
       "Canvas(toolbar=Toolbar(toolitems=[('Home', 'Reset original view', 'home', 'home'), ('Back', 'Back to previous …"
      ]
     },
     "metadata": {},
     "output_type": "display_data"
    },
    {
     "data": {
      "text/plain": [
       "(0.0, 1.0)"
      ]
     },
     "execution_count": 7,
     "metadata": {},
     "output_type": "execute_result"
    }
   ],
   "source": [
    "# Model test\n",
    "R0 = 0.2\n",
    "I0 = 0.001\n",
    "S0 = 1 - R0 - I0 \n",
    "\n",
    "beta0 = 0.4\n",
    "gamma0 = 1/7\n",
    "pars0 = (beta0,gamma0)\n",
    "\n",
    "r_naught_0 = beta0/gamma0\n",
    "\n",
    "\n",
    "t0 = 0\n",
    "tEnd = 100\n",
    "tRange = np.arange(t0,tEnd)\n",
    "\n",
    "# sol = solve_ivp(SIRmodel,[t0,tEnd],[S0,I0],args=pars0,dense_output=True)\n",
    "sol = solve_ivp(SIRmodel,[t0,tEnd],[S0,I0],t_eval=tRange,args=pars0)\n",
    "\n",
    "curT = sol.t\n",
    "curS = sol.y[0,:]\n",
    "curI = sol.y[1,:]\n",
    "# sol.y[0,:]\n",
    "plt.figure(figsize=(10,5))\n",
    "\n",
    "plt.plot(curT,curS)\n",
    "plt.plot(curT,curI)\n",
    "plt.plot(curT,1-curS-curI)\n",
    "\n",
    "plt.ylim(bottom=0,top=1)"
   ]
  },
  {
   "cell_type": "code",
   "execution_count": 8,
   "metadata": {},
   "outputs": [
    {
     "data": {
      "application/vnd.jupyter.widget-view+json": {
       "model_id": "2189ed41e99e4c8ba1fdbb8933b1acf2",
       "version_major": 2,
       "version_minor": 0
      },
      "text/plain": [
       "Canvas(toolbar=Toolbar(toolitems=[('Home', 'Reset original view', 'home', 'home'), ('Back', 'Back to previous …"
      ]
     },
     "metadata": {},
     "output_type": "display_data"
    },
    {
     "data": {
      "text/plain": [
       "(18901.0, 19063.5)"
      ]
     },
     "execution_count": 8,
     "metadata": {},
     "output_type": "execute_result"
    }
   ],
   "source": [
    "# Convert data to something comparable\n",
    "# Use running means\n",
    "meanWidth = 7\n",
    "rnCases = rnMean(allCases,meanWidth)\n",
    "rnDates = rnTime(allDates.values,meanWidth)\n",
    "\n",
    "avgInfPeriod = 7\n",
    "dataR = rnCases.cumsum()[avgInfPeriod-1:]\n",
    "dataI = np.convolve(rnCases, np.ones(avgInfPeriod), mode='valid')\n",
    "dataDates = rnDates[avgInfPeriod-1:]\n",
    "\n",
    "# Assume only a fraction of cases have been detected\n",
    "detect_rate = 0.85\n",
    "dataR = dataR/detect_rate\n",
    "dataI = dataI/detect_rate\n",
    "\n",
    "dkpop = 5831000\n",
    "\n",
    "dataS = dkpop-dataR-dataI\n",
    "\n",
    "# fig,(ax1,ax2) = plt.subplots(2,1,sharex=True)\n",
    "fig,(ax1,ax2,ax3) = plt.subplots(3,1,sharex=True)\n",
    "ax1.plot(dataDates,dataS,'b')\n",
    "ax1.plot(dataDates,dataI,'r')\n",
    "ax1.plot(dataDates,dataR,'g')\n",
    "\n",
    "ax2.plot(dataDates,dataI,'r')\n",
    "ax3.plot(dataDates,dataR,'g')\n",
    "\n",
    "ax1.set_ylim(bottom=0)\n",
    "ax2.set_ylim(bottom=0)\n",
    "ax3.set_ylim(bottom=0)\n",
    "\n",
    "ax1.xaxis.set_major_formatter(mdates.DateFormatter('%d\\n%b'))\n",
    "ax1.set_xlim(left=np.datetime64('2021-10-01'))"
   ]
  },
  {
   "cell_type": "code",
   "execution_count": 9,
   "metadata": {},
   "outputs": [],
   "source": [
    "# # dataDates[modelStartIndex]\n",
    "# np.where(dataDates == modelStartDate) \n",
    "# modelStartIndex[0]"
   ]
  },
  {
   "cell_type": "code",
   "execution_count": 10,
   "metadata": {},
   "outputs": [
    {
     "data": {
      "application/vnd.jupyter.widget-view+json": {
       "model_id": "8e93a1c63c644045ad496871251cbd56",
       "version_major": 2,
       "version_minor": 0
      },
      "text/plain": [
       "Canvas(toolbar=Toolbar(toolitems=[('Home', 'Reset original view', 'home', 'home'), ('Back', 'Back to previous …"
      ]
     },
     "metadata": {},
     "output_type": "display_data"
    },
    {
     "ename": "NameError",
     "evalue": "name 'signal' is not defined",
     "output_type": "error",
     "traceback": [
      "\u001b[1;31m---------------------------------------------------------------------------\u001b[0m",
      "\u001b[1;31mNameError\u001b[0m                                 Traceback (most recent call last)",
      "\u001b[1;32m<ipython-input-10-9d5784fab7ca>\u001b[0m in \u001b[0;36m<module>\u001b[1;34m\u001b[0m\n\u001b[0;32m     57\u001b[0m \u001b[0mconvPer\u001b[0m \u001b[1;33m=\u001b[0m \u001b[0mavgInfPeriod\u001b[0m\u001b[1;33m\u001b[0m\u001b[1;33m\u001b[0m\u001b[0m\n\u001b[0;32m     58\u001b[0m \u001b[0mhalfConvPer\u001b[0m \u001b[1;33m=\u001b[0m \u001b[0mint\u001b[0m\u001b[1;33m(\u001b[0m\u001b[0mnp\u001b[0m\u001b[1;33m.\u001b[0m\u001b[0mfloor\u001b[0m\u001b[1;33m(\u001b[0m\u001b[0mconvPer\u001b[0m\u001b[1;33m/\u001b[0m\u001b[1;36m2\u001b[0m\u001b[1;33m)\u001b[0m\u001b[1;33m)\u001b[0m\u001b[1;33m\u001b[0m\u001b[1;33m\u001b[0m\u001b[0m\n\u001b[1;32m---> 59\u001b[1;33m \u001b[0mdeconv\u001b[0m\u001b[1;33m,\u001b[0m\u001b[0m_\u001b[0m \u001b[1;33m=\u001b[0m \u001b[0msignal\u001b[0m\u001b[1;33m.\u001b[0m\u001b[0mdeconvolve\u001b[0m\u001b[1;33m(\u001b[0m\u001b[0mcurI\u001b[0m\u001b[1;33m,\u001b[0m\u001b[0mnp\u001b[0m\u001b[1;33m.\u001b[0m\u001b[0mones\u001b[0m\u001b[1;33m(\u001b[0m\u001b[0mconvPer\u001b[0m\u001b[1;33m)\u001b[0m\u001b[1;33m)\u001b[0m\u001b[1;33m\u001b[0m\u001b[1;33m\u001b[0m\u001b[0m\n\u001b[0m\u001b[0;32m     60\u001b[0m \u001b[1;31m# ax4.plot(rnTime(dRange[:-(convPer-1)],convPer),rnMean(deconv,convPer),'k:')\u001b[0m\u001b[1;33m\u001b[0m\u001b[1;33m\u001b[0m\u001b[1;33m\u001b[0m\u001b[0m\n\u001b[0;32m     61\u001b[0m \u001b[1;31m# ax4.plot(rnTime(dRange[halfConvPer+1:-halfConvPer+1],convPer),rnMean(deconv,convPer),'k')\u001b[0m\u001b[1;33m\u001b[0m\u001b[1;33m\u001b[0m\u001b[1;33m\u001b[0m\u001b[0m\n",
      "\u001b[1;31mNameError\u001b[0m: name 'signal' is not defined"
     ]
    }
   ],
   "source": [
    "# Small test\n",
    "modelStartDate = np.datetime64('2021-12-01')\n",
    "modelStartDate = np.datetime64('2022-01-12')\n",
    "# modelStartIndex = dataDates[dataDates == modelStartDate].index[0]\n",
    "modelStartIndex = np.where(dataDates == modelStartDate)[0][0]\n",
    "\n",
    "R_init = dataR[modelStartIndex]/dkpop\n",
    "I_init = dataI[modelStartIndex]/dkpop\n",
    "S_init = dataS[modelStartIndex]/dkpop\n",
    "\n",
    "# Make time array\n",
    "t0 = 0\n",
    "tEnd = 100\n",
    "tRange = np.arange(t0,tEnd)\n",
    "dRange = modelStartDate + np.arange(np.timedelta64(t0,'D'),np.timedelta64(tEnd,'D'))\n",
    "# dRange = dRange + np.timedelta64(int(np.floor(avgInfPeriod/2))-1,'D')\n",
    "\n",
    "# Parameters\n",
    "# r_naught_0 = 4.7 # Arbritarily chosen\n",
    "# r_naught_0 = 1.9 # Arbritarily chosen\n",
    "r_naught_0 = 1.5 # Arbritarily chosen\n",
    "r_naught_0 = 2 # Arbritarily chosen\n",
    "r_naught_0 = 2.05 # Arbritarily chosen\n",
    "gamma0 = 1/avgInfPeriod\n",
    "beta0 = r_naught_0*gamma0\n",
    "pars0 = (beta0,gamma0)\n",
    "\n",
    "# sol = solve_ivp(SIRmodel,[t0,tEnd],[S0,I0],args=pars0,dense_output=True)\n",
    "sol = solve_ivp(SIRmodel,[t0,tEnd],[S_init,I_init],t_eval=tRange,args=pars0)\n",
    "\n",
    "curS = sol.y[0,:]*dkpop\n",
    "curI = sol.y[1,:]*dkpop\n",
    "curR = dkpop - curS - curI\n",
    "\n",
    "# fig,(ax1,ax2) = plt.subplots(2,1,sharex=True)\n",
    "# fig,(ax1,ax2,ax3) = plt.subplots(3,1,sharex=True)\n",
    "fig,(ax1,ax2,ax3,ax4) = plt.subplots(4,1,sharex=True,figsize=(12,20))\n",
    "ax1.plot(dataDates,dataS,'b')\n",
    "ax1.plot(dataDates,dataI,'r')\n",
    "ax1.plot(dataDates,dataR,'g')\n",
    "ax1.plot(dRange,curS,'k--')\n",
    "ax1.plot(dRange,curR,'k--')\n",
    "ax1.plot(dRange,curI,'k--')\n",
    "\n",
    "ax2.plot(dRange,curR,'k')\n",
    "ax2.plot(dataDates,dataR,'g.-',markersize=2,linewidth=1)\n",
    "\n",
    "ax3.plot(dRange,curI,'k')\n",
    "ax3.plot(dataDates,dataI,'r.-',markersize=2,linewidth=1)\n",
    "\n",
    "\n",
    "\n",
    "ax4.plot(allDates[:-1],allCases[:-1],'.:',color='xkcd:dark red',linewidth=0.5,markersize=2)\n",
    "ax4.plot(rnTime(allDates[:-1],7),rnMean(allCases[:-1],7),color='xkcd:dark red')\n",
    "\n",
    "convPer = avgInfPeriod + 1\n",
    "convPer = avgInfPeriod \n",
    "halfConvPer = int(np.floor(convPer/2))\n",
    "deconv,_ = signal.deconvolve(curI,np.ones(convPer))\n",
    "# ax4.plot(rnTime(dRange[:-(convPer-1)],convPer),rnMean(deconv,convPer),'k:')\n",
    "# ax4.plot(rnTime(dRange[halfConvPer+1:-halfConvPer+1],convPer),rnMean(deconv,convPer),'k')\n",
    "ax4.plot(rnTime(dRange[halfConvPer:-halfConvPer],convPer),rnMean(deconv,convPer),'k')\n",
    "\n",
    "ax1.set_ylim(bottom=0)\n",
    "ax2.set_ylim(bottom=0)\n",
    "ax3.set_ylim(bottom=0)\n",
    "ax4.set_ylim(bottom=0)\n",
    "\n",
    "ax2.set_ylim(top = np.max(dataR)*1.5)\n",
    "# ax3.set_ylim(top = np.max(dataI)*1.1)\n",
    "\n",
    "# Draw weekends\n",
    "firstSunday = np.datetime64('2021-10-03')\n",
    "numWeeks = 52\n",
    "for k in range(-numWeeks,numWeeks):\n",
    "     curSunday = firstSunday + np.timedelta64(7*k,'D')\n",
    "     ax1.axvspan(curSunday-np.timedelta64(1,'D')-np.timedelta64(12,'h'),curSunday+np.timedelta64(12,'h'),zorder=-1,facecolor='lightgrey',label=int(k==0)*'Weekend')\n",
    "     ax2.axvspan(curSunday-np.timedelta64(1,'D')-np.timedelta64(12,'h'),curSunday+np.timedelta64(12,'h'),zorder=-1,facecolor='lightgrey',label=int(k==0)*'Weekend')\n",
    "     ax3.axvspan(curSunday-np.timedelta64(1,'D')-np.timedelta64(12,'h'),curSunday+np.timedelta64(12,'h'),zorder=-1,facecolor='lightgrey',label=int(k==0)*'Weekend')\n",
    "     ax4.axvspan(curSunday-np.timedelta64(1,'D')-np.timedelta64(12,'h'),curSunday+np.timedelta64(12,'h'),zorder=-1,facecolor='lightgrey',label=int(k==0)*'Weekend')\n",
    "ax1.grid(axis='y')\n",
    "\n",
    "\n",
    "ax1.xaxis.set_major_formatter(mdates.DateFormatter('%d\\n%b'))\n",
    "ax1.set_xlim(left=np.datetime64('2021-11-01'))\n",
    "ax1.set_xlim(right=np.datetime64('2022-04-01'))"
   ]
  },
  {
   "cell_type": "code",
   "execution_count": 11,
   "metadata": {},
   "outputs": [],
   "source": [
    "# # Comparison of daily infections\n",
    "# fig,(ax1,ax2) = plt.subplots(2,1,sharex=True)\n",
    "\n",
    "# ax1.plot(dataDates,dataI)\n",
    "# ax1.plot(dRange,curI,':')\n",
    "# ax2.plot(allDates[:-1],allCases[:-1])\n",
    "# ax2.plot(rnTime(allDates[:-1],7),rnMean(allCases[:-1],7))\n",
    "\n",
    "# convPer = avgInfPeriod + 1\n",
    "# deconv,_ = signal.deconvolve(curI,np.ones(convPer))\n",
    "# ax2.plot(rnTime(dRange[:-(convPer-1)],convPer),rnMean(deconv,convPer))\n",
    "# ax2.set_xlim(left=np.datetime64('2021-10-01'))"
   ]
  },
  {
   "cell_type": "code",
   "execution_count": 12,
   "metadata": {},
   "outputs": [
    {
     "data": {
      "application/vnd.jupyter.widget-view+json": {
       "model_id": "a3a1ee8c5a6d418299f01a13a0699271",
       "version_major": 2,
       "version_minor": 0
      },
      "text/plain": [
       "Canvas(toolbar=Toolbar(toolitems=[('Home', 'Reset original view', 'home', 'home'), ('Back', 'Back to previous …"
      ]
     },
     "metadata": {},
     "output_type": "display_data"
    },
    {
     "ename": "NameError",
     "evalue": "name 'signal' is not defined",
     "output_type": "error",
     "traceback": [
      "\u001b[1;31m---------------------------------------------------------------------------\u001b[0m",
      "\u001b[1;31mNameError\u001b[0m                                 Traceback (most recent call last)",
      "\u001b[1;32m<ipython-input-12-7dc863e825ed>\u001b[0m in \u001b[0;36m<module>\u001b[1;34m\u001b[0m\n\u001b[0;32m     12\u001b[0m \u001b[1;31m# ax2.plot(dataDates[:-1],dataI[1:]-dataI[:-1])\u001b[0m\u001b[1;33m\u001b[0m\u001b[1;33m\u001b[0m\u001b[1;33m\u001b[0m\u001b[0m\n\u001b[0;32m     13\u001b[0m \u001b[0mconvPer\u001b[0m \u001b[1;33m=\u001b[0m \u001b[0mavgInfPeriod\u001b[0m \u001b[1;33m+\u001b[0m \u001b[1;36m1\u001b[0m\u001b[1;33m\u001b[0m\u001b[1;33m\u001b[0m\u001b[0m\n\u001b[1;32m---> 14\u001b[1;33m \u001b[0mdeconv\u001b[0m\u001b[1;33m,\u001b[0m\u001b[0m_\u001b[0m \u001b[1;33m=\u001b[0m \u001b[0msignal\u001b[0m\u001b[1;33m.\u001b[0m\u001b[0mdeconvolve\u001b[0m\u001b[1;33m(\u001b[0m\u001b[0mcurI\u001b[0m\u001b[1;33m,\u001b[0m\u001b[0mnp\u001b[0m\u001b[1;33m.\u001b[0m\u001b[0mones\u001b[0m\u001b[1;33m(\u001b[0m\u001b[0mconvPer\u001b[0m\u001b[1;33m)\u001b[0m\u001b[1;33m)\u001b[0m\u001b[1;33m\u001b[0m\u001b[1;33m\u001b[0m\u001b[0m\n\u001b[0m\u001b[0;32m     15\u001b[0m \u001b[0max2\u001b[0m\u001b[1;33m.\u001b[0m\u001b[0mplot\u001b[0m\u001b[1;33m(\u001b[0m\u001b[0mrnTime\u001b[0m\u001b[1;33m(\u001b[0m\u001b[0mdRange\u001b[0m\u001b[1;33m[\u001b[0m\u001b[1;33m:\u001b[0m\u001b[1;33m-\u001b[0m\u001b[1;33m(\u001b[0m\u001b[0mconvPer\u001b[0m\u001b[1;33m-\u001b[0m\u001b[1;36m1\u001b[0m\u001b[1;33m)\u001b[0m\u001b[1;33m]\u001b[0m\u001b[1;33m,\u001b[0m\u001b[0mconvPer\u001b[0m\u001b[1;33m)\u001b[0m\u001b[1;33m,\u001b[0m\u001b[0mrnMean\u001b[0m\u001b[1;33m(\u001b[0m\u001b[0mdeconv\u001b[0m\u001b[1;33m,\u001b[0m\u001b[0mconvPer\u001b[0m\u001b[1;33m)\u001b[0m\u001b[1;33m)\u001b[0m\u001b[1;33m\u001b[0m\u001b[1;33m\u001b[0m\u001b[0m\n\u001b[0;32m     16\u001b[0m \u001b[1;31m# ax2.plot(dRange[:-(avgInfPeriod-1)],deconv)\u001b[0m\u001b[1;33m\u001b[0m\u001b[1;33m\u001b[0m\u001b[1;33m\u001b[0m\u001b[0m\n",
      "\u001b[1;31mNameError\u001b[0m: name 'signal' is not defined"
     ]
    }
   ],
   "source": [
    "fig,(ax1,ax2) = plt.subplots(2,1,sharex=True)\n",
    "\n",
    "ax1.plot(dataDates,dataI)\n",
    "ax1.plot(dRange,curI,':')\n",
    "ax2.plot(allDates[:-1],allCases[:-1])\n",
    "ax2.plot(rnTime(allDates[:-1],7),rnMean(allCases[:-1],7))\n",
    "\n",
    "# deconv,_ = signal.deconvolve(dataI,np.ones(avgInfPeriod))\n",
    "# ax2.plot(dataDates[:-(avgInfPeriod-1)],deconv)\n",
    "\n",
    "# ax2.plot(dataDates[:-avgInfPeriod],dataI[avgInfPeriod:]-dataI[:-avgInfPeriod])\n",
    "# ax2.plot(dataDates[:-1],dataI[1:]-dataI[:-1])\n",
    "convPer = avgInfPeriod + 1\n",
    "deconv,_ = signal.deconvolve(curI,np.ones(convPer))\n",
    "ax2.plot(rnTime(dRange[:-(convPer-1)],convPer),rnMean(deconv,convPer))\n",
    "# ax2.plot(dRange[:-(avgInfPeriod-1)],deconv)\n",
    "\n",
    "ax2.set_xlim(left=np.datetime64('2021-10-01'))"
   ]
  },
  {
   "cell_type": "code",
   "execution_count": 13,
   "metadata": {},
   "outputs": [
    {
     "data": {
      "application/vnd.jupyter.widget-view+json": {
       "model_id": "d0d75b9e3d644ea58a3a38b33a92f0e7",
       "version_major": 2,
       "version_minor": 0
      },
      "text/plain": [
       "Canvas(toolbar=Toolbar(toolitems=[('Home', 'Reset original view', 'home', 'home'), ('Back', 'Back to previous …"
      ]
     },
     "metadata": {},
     "output_type": "display_data"
    },
    {
     "data": {
      "text/plain": [
       "(18901.0, 19067.1)"
      ]
     },
     "execution_count": 13,
     "metadata": {},
     "output_type": "execute_result"
    }
   ],
   "source": [
    "fig,(ax1,ax2) = plt.subplots(2,1)\n",
    "\n",
    "ax1.plot(dataDates,dataI)\n",
    "\n",
    "ax2.plot(allDates,allCases)\n",
    "\n",
    "from scipy import signal \n",
    "\n",
    "# dataI = np.convolve(rnCases, np.ones(avgInfPeriod), mode='valid')\n",
    "\n",
    "deconv,_ = signal.deconvolve(dataI,np.ones(avgInfPeriod+1))\n",
    "ax2.plot(dataDates[:-(avgInfPeriod)],deconv)\n",
    "ax2.plot(rnTime(allDates,7),rnMean(allCases,7),'k')\n",
    "\n",
    "ax2.set_xlim(left=np.datetime64('2021-10-01'))"
   ]
  },
  {
   "cell_type": "code",
   "execution_count": null,
   "metadata": {},
   "outputs": [],
   "source": []
  },
  {
   "cell_type": "code",
   "execution_count": 14,
   "metadata": {},
   "outputs": [
    {
     "data": {
      "application/vnd.jupyter.widget-view+json": {
       "model_id": "849656ae9c7d40088f6d1d453edb12dc",
       "version_major": 2,
       "version_minor": 0
      },
      "text/plain": [
       "Canvas(toolbar=Toolbar(toolitems=[('Home', 'Reset original view', 'home', 'home'), ('Back', 'Back to previous …"
      ]
     },
     "metadata": {},
     "output_type": "display_data"
    },
    {
     "data": {
      "text/plain": [
       "(18972.0, 19142.7)"
      ]
     },
     "execution_count": 14,
     "metadata": {},
     "output_type": "execute_result"
    }
   ],
   "source": [
    "# Try something realistic\n",
    "modelStartDate = np.datetime64('2022-01-12')\n",
    "modelStartDate = np.datetime64('2021-12-05')\n",
    "# modelStartDate = np.datetime64('2022-01-05')\n",
    "modelStartDate = np.datetime64('2022-01-10')\n",
    "modelStartIndex = allDates[allDates == modelStartDate].index[0]\n",
    "\n",
    "caseSum = allCases.cumsum()\n",
    "\n",
    "# Assume only a fraction of cases have been detected\n",
    "detect_rate = 0.85\n",
    "# detect_rate = 0.65\n",
    "\n",
    "R_init = caseSum[modelStartIndex]/detect_rate\n",
    "\n",
    "avgInfPeriod = 5\n",
    "# avgInfPeriod = 7\n",
    "I_init = allCases[modelStartIndex-avgInfPeriod:modelStartIndex].sum()\n",
    "I_data = np.convolve(allCases, np.ones(avgInfPeriod), mode='valid')\n",
    "\n",
    "# I_init = I_data[modelStartIndex-int(np.floor(avgInfPeriod/2))]\n",
    "# R_init = caseSum[modelStartIndex-int(np.floor(avgInfPeriod/2))]/detect_rate\n",
    "\n",
    "# Scale by population\n",
    "dkpop = 5831000\n",
    "R_init = R_init/dkpop\n",
    "I_init = I_init/dkpop\n",
    "\n",
    "S_init = 1 - R_init - I_init\n",
    "\n",
    "# r_naught_0 = 4.7 # Arbritarily chosen\n",
    "r_naught_0 = 2.5 # Arbritarily chosen\n",
    "r_naught_0 = 1.9 # Arbritarily chosen\n",
    "# r_naught_0 = 1.5 # Arbritarily chosen\n",
    "gamma0 = 1/avgInfPeriod\n",
    "beta0 = r_naught_0*gamma0\n",
    "pars0 = (beta0,gamma0)\n",
    "\n",
    "# Make simulation\n",
    "t0 = 0\n",
    "tEnd = 100\n",
    "tRange = np.arange(t0,tEnd)\n",
    "dRange = modelStartDate + np.arange(np.timedelta64(t0,'D'),np.timedelta64(tEnd,'D'))\n",
    "dRange = dRange + np.timedelta64(int(np.floor(avgInfPeriod/2))-1,'D')\n",
    "\n",
    "# sol = solve_ivp(SIRmodel,[t0,tEnd],[S0,I0],args=pars0,dense_output=True)\n",
    "sol = solve_ivp(SIRmodel,[t0,tEnd],[S_init,I_init],t_eval=tRange,args=pars0)\n",
    "\n",
    "curT = sol.t\n",
    "curS = sol.y[0,:]\n",
    "curI = sol.y[1,:]\n",
    "\n",
    "fig,(ax1,ax2) = plt.subplots(2,1,sharex=True)\n",
    "\n",
    "# ax1.plot(dRange,curS)\n",
    "# ax1.plot(dRange,curI)\n",
    "ax1.plot(allDates,(caseSum/dkpop)/detect_rate,'k.:',linewidth=0.5,markersize=3)\n",
    "ax1.plot(dRange,1-curS-curI)\n",
    "# ax1.plot(allDates[(avgInfPeriod-1):],(I_data/dkpop),'.')\n",
    "# ax1.plot(modelStartDate,I_init,'*')\n",
    "# ax1.set_ylim(bottom=0,top=1)\n",
    "ax1.set_ylim(bottom=0)\n",
    "\n",
    "ax2.plot(allDates[(avgInfPeriod-1):],(I_data/dkpop),'k.:',linewidth=0.5,markersize=3)\n",
    "ax2.plot(rnTime(allDates[(avgInfPeriod-1):],meanWidth),rnMean((I_data/dkpop),meanWidth),'k--')\n",
    "ax2.plot(dRange,curI)\n",
    "\n",
    "# ax1.plot(dRange,dkpop*curS)\n",
    "# ax1.plot(dRange,dkpop*curI)\n",
    "# ax1.plot(dRange,dkpop*(1-curS-curI))\n",
    "# ax1.plot(allDates,(caseSum)/detect_rate,'.')\n",
    "# ax1.plot(allDates[(avgInfPeriod-1):],(I_data),'.')\n",
    "# ax1.plot(modelStartDate,I_init,'*')\n",
    "# ax1.set_ylim(bottom=0,top=dkpop)\n",
    "\n",
    "\n",
    "ax1.xaxis.set_major_formatter(mdates.DateFormatter('%d\\n%b'))\n",
    "ax1.set_xlim(left=modelStartDate-np.timedelta64(30,'D'))"
   ]
  },
  {
   "cell_type": "code",
   "execution_count": 11,
   "metadata": {},
   "outputs": [
    {
     "data": {
      "text/plain": [
       "3"
      ]
     },
     "execution_count": 11,
     "metadata": {},
     "output_type": "execute_result"
    }
   ],
   "source": [
    "int(np.floor(avgInfPeriod/2))\n"
   ]
  }
 ],
 "metadata": {
  "interpreter": {
   "hash": "c031fd63bd977d199cd6020c30a19695eacbb638d100e0b8a5ea53080ed74a9a"
  },
  "kernelspec": {
   "display_name": "Python 3.8.12 64-bit ('main': conda)",
   "language": "python",
   "name": "python3"
  },
  "language_info": {
   "codemirror_mode": {
    "name": "ipython",
    "version": 3
   },
   "file_extension": ".py",
   "mimetype": "text/x-python",
   "name": "python",
   "nbconvert_exporter": "python",
   "pygments_lexer": "ipython3",
   "version": "3.8.5"
  },
  "orig_nbformat": 4
 },
 "nbformat": 4,
 "nbformat_minor": 2
}
