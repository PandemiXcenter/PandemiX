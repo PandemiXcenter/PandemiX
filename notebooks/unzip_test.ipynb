{
 "cells": [
  {
   "cell_type": "code",
   "execution_count": 1,
   "metadata": {},
   "outputs": [],
   "source": [
    "# Script for unzipping all data\n",
    "import zipfile\n",
    "import io\n",
    "import os\n",
    "\n",
    "# Define paths\n",
    "rootdir_data = os.getcwd() +\"\\\\..\\\\DanskeData\\\\\" \n",
    "\n",
    "path_data = rootdir_data + \"ssi_data\"\n",
    "path_dash = rootdir_data + \"ssi_dashboard\"\n",
    "path_vacc = rootdir_data + \"ssi_vacc\""
   ]
  },
  {
   "cell_type": "code",
   "execution_count": 11,
   "metadata": {},
   "outputs": [
    {
     "name": "stdout",
     "output_type": "stream",
     "text": [
      "Done extracting all \"overvågningsdata\" files\n"
     ]
    }
   ],
   "source": [
    "# Overvågningsdata\n",
    "curRoot = path_data\n",
    "curFiles = os.listdir(curRoot+'_zipped')\n",
    "\n",
    "for thisFile in curFiles:\n",
    "\n",
    "    filename = \"\\\\\" + thisFile[:-4]\n",
    "    zipped_save_path = curRoot + \"_zipped\" + filename + \".zip\"\n",
    "    extracted_save_path = curRoot  + filename\n",
    "    # print(f'Extracting: {extracted_save_path}')\n",
    "    \n",
    "    with zipfile.ZipFile(zipped_save_path, 'r') as zipObj:\n",
    "        zipObj.extractall(extracted_save_path)\n",
    "print('Done extracting all \"overvågningsdata\" files')"
   ]
  },
  {
   "cell_type": "code",
   "execution_count": 12,
   "metadata": {},
   "outputs": [
    {
     "name": "stdout",
     "output_type": "stream",
     "text": [
      "Done extracting all \"dashboard\" files\n"
     ]
    }
   ],
   "source": [
    "# Dashboard\n",
    "curRoot = path_dash\n",
    "curFiles = os.listdir(curRoot+'_zipped')\n",
    "\n",
    "for thisFile in curFiles:\n",
    "\n",
    "    filename = \"\\\\\" + thisFile[:-4]\n",
    "    zipped_save_path = curRoot + \"_zipped\" + filename + \".zip\"\n",
    "    extracted_save_path = curRoot  + filename\n",
    "    # print(f'Extracting: {extracted_save_path}')\n",
    "    \n",
    "    with zipfile.ZipFile(zipped_save_path, 'r') as zipObj:\n",
    "        zipObj.extractall(extracted_save_path)\n",
    "print('Done extracting all \"dashboard\" files')"
   ]
  },
  {
   "cell_type": "code",
   "execution_count": 14,
   "metadata": {},
   "outputs": [
    {
     "name": "stdout",
     "output_type": "stream",
     "text": [
      "Done extracting all \"vaccination\" files\n"
     ]
    }
   ],
   "source": [
    "# Vaccinations\n",
    "curRoot = path_vacc\n",
    "curFiles = os.listdir(curRoot+'_zipped')\n",
    "\n",
    "for thisFile in curFiles:\n",
    "\n",
    "    filename = \"\\\\\" + thisFile[:-4]\n",
    "    zipped_save_path = curRoot + \"_zipped\" + filename + \".zip\"\n",
    "    extracted_save_path = curRoot  + filename\n",
    "    # print(f'Extracting: {extracted_save_path}')\n",
    "    \n",
    "    with zipfile.ZipFile(zipped_save_path, 'r') as zipObj:\n",
    "        zipObj.extractall(extracted_save_path)\n",
    "print('Done extracting all \"vaccination\" files')"
   ]
  }
 ],
 "metadata": {
  "interpreter": {
   "hash": "c031fd63bd977d199cd6020c30a19695eacbb638d100e0b8a5ea53080ed74a9a"
  },
  "kernelspec": {
   "display_name": "Python 3.8.12 64-bit ('main': conda)",
   "language": "python",
   "name": "python3"
  },
  "language_info": {
   "codemirror_mode": {
    "name": "ipython",
    "version": 3
   },
   "file_extension": ".py",
   "mimetype": "text/x-python",
   "name": "python",
   "nbconvert_exporter": "python",
   "pygments_lexer": "ipython3",
   "version": "3.8.12"
  },
  "orig_nbformat": 4
 },
 "nbformat": 4,
 "nbformat_minor": 2
}
