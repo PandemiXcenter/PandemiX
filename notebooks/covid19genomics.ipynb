{
 "cells": [
  {
   "cell_type": "code",
   "execution_count": 1,
   "metadata": {},
   "outputs": [
    {
     "name": "stdout",
     "output_type": "stream",
     "text": [
      "saveFigures is set to: True\n",
      "Done loading packages\n"
     ]
    }
   ],
   "source": [
    "# Load packages and settings\n",
    "import numpy as np\n",
    "import pandas as pd\n",
    "pd.set_option('display.max_rows', 500)\n",
    "pd.set_option('display.min_rows', 50)\n",
    "import seaborn as sns\n",
    "\n",
    "\n",
    "import matplotlib.pyplot as plt\n",
    "%matplotlib widget\n",
    "plt.rcParams['figure.figsize'] = (12,8)\n",
    "plt.rcParams[\"image.cmap\"] = \"tab10\"\n",
    "plt.rcParams['axes.prop_cycle'] = plt.cycler(color=plt.cm.tab10.colors)\n",
    "fs_label = 16\n",
    "parameters = {\n",
    "                'axes.labelsize': fs_label,\n",
    "                'axes.titlesize': fs_label+4,\n",
    "                'xtick.labelsize': fs_label,\n",
    "                'ytick.labelsize': fs_label, \n",
    "                'legend.fontsize': fs_label, \n",
    "                'lines.markersize': 10,\n",
    "                'lines.linewidth': 3\n",
    "             }\n",
    "plt.rcParams.update(parameters)\n",
    "%matplotlib widget\n",
    "from matplotlib import cm # Colormaps\n",
    "import matplotlib.colors as colors\n",
    "# cmap = plt.cm.get_cmap('Dark2',len(ageGroups))\n",
    "\n",
    "import locale\n",
    "import matplotlib.dates as mdates\n",
    "locale.setlocale(locale.LC_ALL, '') \n",
    "locale.setlocale(locale.LC_TIME,\"Danish\")\n",
    "# ax1.xaxis.set_major_formatter(mdates.DateFormatter('%b\\n%Y'))\n",
    "# ax1.spines['top'].set_visible(False) \n",
    "\n",
    "import os\n",
    "# import csv\n",
    "import math\n",
    "\n",
    "import datetime\n",
    "from datetime import date\n",
    "\n",
    "\n",
    "# ax.legend(bbox_to_anchor=(1.04,0.5), loc=\"center left\")\n",
    "\n",
    "saveFigures = True\n",
    "# saveFigures = False\n",
    "print('saveFigures is set to: '+str(saveFigures))\n",
    "\n",
    "print('Done loading packages')\n",
    "\n",
    "# Define running mean functions\n",
    "def rnMean(data,meanWidth):\n",
    "    return np.convolve(data, np.ones(meanWidth)/meanWidth, mode='valid')\n",
    "def rnTime(t,meanWidth):\n",
    "    return t[math.floor(meanWidth/2):-math.ceil(meanWidth/2)+1]"
   ]
  },
  {
   "cell_type": "code",
   "execution_count": 2,
   "metadata": {},
   "outputs": [],
   "source": [
    "# Define paths\n",
    "rootdir_data = os.getcwd() +\"\\\\..\\\\DanskeData\\\\\" \n",
    "\n",
    "path_data = rootdir_data + \"ssi_data\\\\\"\n",
    "path_dash = rootdir_data + \"ssi_dashboard\\\\\"\n",
    "path_vacc = rootdir_data + \"ssi_vacc\\\\\"\n",
    "\n",
    "path_figs = os.getcwd() +\"\\\\..\\\\Figures\\\\\" "
   ]
  },
  {
   "cell_type": "markdown",
   "metadata": {},
   "source": [
    "# Load data"
   ]
  },
  {
   "cell_type": "code",
   "execution_count": 8,
   "metadata": {},
   "outputs": [],
   "source": [
    "path_variants = rootdir_data + 'variants\\\\'\n",
    "\n",
    "dfAlpha = pd.read_csv(path_variants+'CovidAlpha.csv')\n",
    "dfDelta = pd.read_csv(path_variants+'CovidDelta.csv')\n",
    "dfOmicron = pd.read_csv(path_variants+'CovidOmicron.csv')\n",
    "dfOmicronBA1 = pd.read_csv(path_variants+'CovidOmicronBA1.csv') \n",
    "dfOmicronBA2 = pd.read_csv(path_variants+'CovidOmicronBA2.csv')\n",
    "\n",
    "dfAlpha['date'] = pd.to_datetime(dfAlpha['date'])\n",
    "dfDelta['date'] = pd.to_datetime(dfDelta['date'])\n",
    "dfOmicron['date'] = pd.to_datetime(dfOmicron['date'])\n",
    "dfOmicronBA1['date'] = pd.to_datetime(dfOmicronBA1['date'])\n",
    "dfOmicronBA2['date'] = pd.to_datetime(dfOmicronBA2['date'])"
   ]
  },
  {
   "cell_type": "markdown",
   "metadata": {},
   "source": [
    "# Overview of data"
   ]
  },
  {
   "cell_type": "code",
   "execution_count": 9,
   "metadata": {},
   "outputs": [
    {
     "data": {
      "application/vnd.jupyter.widget-view+json": {
       "model_id": "f53747c946394234982433153e14e573",
       "version_major": 2,
       "version_minor": 0
      },
      "text/plain": [
       "Canvas(toolbar=Toolbar(toolitems=[('Home', 'Reset original view', 'home', 'home'), ('Back', 'Back to previous …"
      ]
     },
     "metadata": {},
     "output_type": "display_data"
    },
    {
     "data": {
      "text/plain": [
       "[<matplotlib.lines.Line2D at 0x146a809c310>]"
      ]
     },
     "execution_count": 9,
     "metadata": {},
     "output_type": "execute_result"
    }
   ],
   "source": [
    "plt.figure() \n",
    "plt.plot(dfAlpha.date,dfAlpha.estimatedCases)\n",
    "plt.plot(dfDelta.date,dfDelta.estimatedCases)\n",
    "plt.plot(dfOmicron.date,dfOmicron.estimatedCases)\n",
    "plt.plot(dfOmicronBA1.date,dfOmicronBA1.estimatedCases)\n",
    "plt.plot(dfOmicronBA2.date,dfOmicronBA2.estimatedCases)"
   ]
  },
  {
   "cell_type": "code",
   "execution_count": 19,
   "metadata": {},
   "outputs": [],
   "source": [
    "delta = dfDelta.estimatedCases\n",
    "omiB1 = dfOmicronBA1.estimatedCases\n",
    "omiB2 = dfOmicronBA2.estimatedCases\n",
    "\n",
    "curDates = dfDelta.date"
   ]
  },
  {
   "cell_type": "code",
   "execution_count": 32,
   "metadata": {},
   "outputs": [
    {
     "data": {
      "application/vnd.jupyter.widget-view+json": {
       "model_id": "e46ef6ea78d3408691e6571dfdff4ddd",
       "version_major": 2,
       "version_minor": 0
      },
      "text/plain": [
       "Canvas(toolbar=Toolbar(toolitems=[('Home', 'Reset original view', 'home', 'home'), ('Back', 'Back to previous …"
      ]
     },
     "metadata": {},
     "output_type": "display_data"
    },
    {
     "data": {
      "text/plain": [
       "(0.0, 1.0)"
      ]
     },
     "execution_count": 32,
     "metadata": {},
     "output_type": "execute_result"
    }
   ],
   "source": [
    "fig,(ax1,ax2) = plt.subplots(2,1,sharex=True)\n",
    "\n",
    "# ax1.fill_between(dfOmicronBA2.date,dfOmicronBA1.estimatedCases+dfOmicronBA2.estimatedCases+dfDelta.estimatedCases)\n",
    "# ax1.fill_between(dfOmicronBA1.date,dfOmicronBA2.estimatedCases+dfDelta.estimatedCases)\n",
    "# ax1.fill_between(dfOmicron.date,dfDelta.estimatedCases)\n",
    "\n",
    "# ax1.stackplot(curDates,delta,omiB1,omiB2,labels=['Delta','BA.1','BA.2'],colors=['r','b','g'])\n",
    "# ax1.stackplot(curDates,delta,omiB2,omiB1,labels=['Delta','BA.2','BA.1'],colors=['r','g','b'])\n",
    "ax1.stackplot(curDates,omiB2,omiB1,delta,labels=['BA.2','BA.1','Delta'],colors=['g','b','r'])\n",
    "\n",
    "ax2.plot(curDates,omiB2/(omiB1+omiB2))\n",
    "\n",
    "ax1.legend()\n",
    "\n",
    "ax1.set_xlim(left=np.datetime64('2021-10-01'))\n",
    "ax1.set_xlim(right=np.datetime64('today'))\n",
    "ax1.set_ylim([0,1])\n",
    "ax2.set_ylim([0,1])"
   ]
  },
  {
   "cell_type": "code",
   "execution_count": 30,
   "metadata": {},
   "outputs": [
    {
     "data": {
      "application/vnd.jupyter.widget-view+json": {
       "model_id": "4c43477d0052413187c1b62c836613ce",
       "version_major": 2,
       "version_minor": 0
      },
      "text/plain": [
       "Canvas(toolbar=Toolbar(toolitems=[('Home', 'Reset original view', 'home', 'home'), ('Back', 'Back to previous …"
      ]
     },
     "metadata": {},
     "output_type": "display_data"
    },
    {
     "data": {
      "text/plain": [
       "(0.0, 1.0)"
      ]
     },
     "execution_count": 30,
     "metadata": {},
     "output_type": "execute_result"
    }
   ],
   "source": [
    "fig,ax1 = plt.subplots() \n",
    "\n",
    "ax1.plot(curDates,omiB2/(omiB1+omiB2))\n",
    "ax1.set_xlim(left=np.datetime64('2021-10-01'))\n",
    "ax1.set_xlim(right=np.datetime64('today'))\n",
    "ax1.set_ylim([0,1])"
   ]
  }
 ],
 "metadata": {
  "interpreter": {
   "hash": "c72cdf52cb3d31f207bca538e9396da8706c0ecf4a3038fb1c2b317934170431"
  },
  "kernelspec": {
   "display_name": "Python 3.8.5 64-bit ('main': conda)",
   "language": "python",
   "name": "python3"
  },
  "language_info": {
   "codemirror_mode": {
    "name": "ipython",
    "version": 3
   },
   "file_extension": ".py",
   "mimetype": "text/x-python",
   "name": "python",
   "nbconvert_exporter": "python",
   "pygments_lexer": "ipython3",
   "version": "3.8.5"
  },
  "orig_nbformat": 4
 },
 "nbformat": 4,
 "nbformat_minor": 2
}
