{
 "cells": [
  {
   "cell_type": "code",
   "execution_count": 1,
   "metadata": {},
   "outputs": [],
   "source": [
    "#Fjerner Magnerne på notebooken\n",
    "from IPython.core.display import display, HTML\n",
    "display(HTML(\"<style>.container {width:100% !important; }</stule>\"))"
   ]
  },
  {
   "cell_type": "code",
   "execution_count": 2,
   "metadata": {},
   "outputs": [
    {
     "name": "stdout",
     "output_type": "stream",
     "text": [
      "saveFigures is set to: True\n",
      "Done loading packages\n"
     ]
    }
   ],
   "source": [
    "# Load packages and settings\n",
    "import numpy as np\n",
    "import pandas as pd\n",
    "pd.set_option('display.max_rows', 500)\n",
    "pd.set_option('display.min_rows', 50)\n",
    "import seaborn as sns\n",
    "\n",
    "\n",
    "\n",
    "import matplotlib.pyplot as plt\n",
    "import matplotlib.patches as mpatches\n",
    "\n",
    "from matplotlib.patches import Patch\n",
    "from matplotlib.lines import Line2D\n",
    "\n",
    "plt.rcParams['figure.figsize'] = (12,8)\n",
    "plt.rcParams[\"image.cmap\"] = \"tab10\"\n",
    "plt.rcParams['axes.prop_cycle'] = plt.cycler(color=plt.cm.tab10.colors)\n",
    "fs_label = 16\n",
    "parameters = {\n",
    "                'axes.labelsize': fs_label,\n",
    "                'axes.titlesize': fs_label+4,\n",
    "                'xtick.labelsize': fs_label,\n",
    "                'ytick.labelsize': fs_label, \n",
    "                'legend.fontsize': fs_label, \n",
    "                'lines.markersize': 10,\n",
    "                'lines.linewidth': 3\n",
    "             }\n",
    "plt.rcParams.update(parameters)\n",
    "\n",
    "from matplotlib import cm # Colormaps\n",
    "import matplotlib.colors as colors\n",
    "# cmap = plt.cm.get_cmap('Dark2',len(ageGroups))\n",
    "\n",
    "import locale\n",
    "import matplotlib.dates as mdates\n",
    "locale.setlocale(locale.LC_TIME,\"Danish\")\n",
    "# ax1.xaxis.set_major_formatter(mdates.DateFormatter('%b\\n%Y'))\n",
    "# ax1.spines['top'].set_visible(False) \n",
    "\n",
    "import os\n",
    "# import csv\n",
    "import math\n",
    "\n",
    "from datetime import date\n",
    "\n",
    "\n",
    "saveFigures = True\n",
    "# saveFigures = False\n",
    "print('saveFigures is set to: '+str(saveFigures))\n",
    "\n",
    "print('Done loading packages')\n",
    "\n",
    "# Define running mean functions\n",
    "def rnMean(data,meanWidth):\n",
    "    return np.convolve(data, np.ones(meanWidth)/meanWidth, mode='valid')\n",
    "def rnTime(t,meanWidth):\n",
    "    return t[math.floor(meanWidth/2):-math.ceil(meanWidth/2)+1]"
   ]
  },
  {
   "cell_type": "code",
   "execution_count": 3,
   "metadata": {},
   "outputs": [],
   "source": [
    "%matplotlib widget"
   ]
  },
  {
   "cell_type": "code",
   "execution_count": 4,
   "metadata": {},
   "outputs": [],
   "source": [
    "# Define paths\n",
    "rootdir_data = os.getcwd() +\"\\\\..\\\\DanskeData\\\\\" \n",
    "\n",
    "path_data = rootdir_data + \"ssi_data\\\\\"\n",
    "path_dash = rootdir_data + \"ssi_dashboard\\\\\"\n",
    "path_vacc = rootdir_data + \"ssi_vacc\\\\\"\n",
    "path_figs = os.getcwd() +\"\\\\..\\\\Figures\\\\\" "
   ]
  },
  {
   "cell_type": "code",
   "execution_count": 5,
   "metadata": {},
   "outputs": [],
   "source": [
    "# Get daily cases by regions\n",
    "latestsubdir = list(os.walk(path_dash))[0][1][-1]\n",
    "latestdir = path_dash + latestsubdir\n",
    "df_cases = pd.read_csv(latestdir+'/Kommunalt_DB/07_bekraeftede_tilfaelde_pr_dag_pr_kommune.csv',\n",
    "                       encoding='latin1',delimiter = ';')\n",
    "\n",
    "latestsubdir = list(os.walk(path_dash))[0][1][-1]\n",
    "latestdir = path_dash + latestsubdir"
   ]
  },
  {
   "cell_type": "code",
   "execution_count": 6,
   "metadata": {},
   "outputs": [],
   "source": [
    "# Get daily fully vaccinated by reagions\n",
    "latestsubdir = list(os.walk(path_vacc))[0][1][-1]\n",
    "latestdir = path_vacc + latestsubdir\n",
    "df_vacc = pd.read_csv(latestdir+'/Vaccine_DB/FaerdigVacc_kommune_dag.csv',\n",
    "                      encoding='latin1',delimiter = ';')\n",
    "\n",
    "latestsubdir = list(os.walk(path_dash))[0][1][-1]\n",
    "latestdir = path_dash + latestsubdir\n",
    "\n",
    "df_cases = pd.read_csv(latestdir+'/Kommunalt_DB/07_bekraeftede_tilfaelde_pr_dag_pr_kommune.csv',\n",
    "                       encoding='latin1',delimiter = ';')\n",
    "df_cases['Dato'] =  pd.to_datetime(df_cases.Dato,format='%Y-%m-%d')\n",
    "latestsubdir = list(os.walk(path_dash))[0][1][-1]\n",
    "latestdir = path_dash + latestsubdir\n",
    "\n",
    "#Fix Columnaming problem and format dates\n",
    "df_vacc = df_vacc.rename(columns={'Faerdigvacc. dato': 'Faerdigvacc_dato'})\n",
    "df_vacc['Faerdigvacc_dato'] =  pd.to_datetime(df_vacc.Faerdigvacc_dato,format='%Y-%m-%d')\n",
    "\n"
   ]
  },
  {
   "cell_type": "code",
   "execution_count": 7,
   "metadata": {},
   "outputs": [],
   "source": [
    "\n",
    "df_kommune_kort = pd.read_csv(latestdir+'/Kommunalt_DB/10_Kommune_kort.csv',\n",
    "                            encoding='latin1', delimiter = ';')\n",
    "kommunenavn = df_kommune_kort[\"Kommunenavn\"].dropna()\n",
    "#kommunenavn = [\"København\",\"Århus\",\"Odense\"] \n",
    "\n",
    "def antal_borgere(kommunenavn):\n",
    "    return df_kommunekort[\"Antal borgere\"][kommunenavn]"
   ]
  },
  {
   "cell_type": "code",
   "execution_count": 8,
   "metadata": {
    "scrolled": true
   },
   "outputs": [
    {
     "name": "stderr",
     "output_type": "stream",
     "text": [
      "<ipython-input-8-5d96c522cc79>:15: SettingWithCopyWarning: \n",
      "A value is trying to be set on a copy of a slice from a DataFrame.\n",
      "Try using .loc[row_indexer,col_indexer] = value instead\n",
      "\n",
      "See the caveats in the documentation: https://pandas.pydata.org/pandas-docs/stable/user_guide/indexing.html#returning-a-view-versus-a-copy\n",
      "  kommune_vac_df[\"Kumuleret sum vac\"] = kommune_vac_df['Antal faerdigvacc.'].cumsum()\n",
      "<ipython-input-8-5d96c522cc79>:17: SettingWithCopyWarning: \n",
      "A value is trying to be set on a copy of a slice from a DataFrame.\n",
      "Try using .loc[row_indexer,col_indexer] = value instead\n",
      "\n",
      "See the caveats in the documentation: https://pandas.pydata.org/pandas-docs/stable/user_guide/indexing.html#returning-a-view-versus-a-copy\n",
      "  kommune_vac_df['Kumuleret procent faerdigvacc.'] = (kommune_vac_df[\"Kumuleret sum vac\"]/antal_borgere(i))*100\n",
      "<ipython-input-8-5d96c522cc79>:21: SettingWithCopyWarning: \n",
      "A value is trying to be set on a copy of a slice from a DataFrame.\n",
      "Try using .loc[row_indexer,col_indexer] = value instead\n",
      "\n",
      "See the caveats in the documentation: https://pandas.pydata.org/pandas-docs/stable/user_guide/indexing.html#returning-a-view-versus-a-copy\n",
      "  kommune_cases_df[\"Kumuleret sum tilfælde\"] = kommune_cases_df['Bekræftede tilfælde i alt'].cumsum()\n",
      "<ipython-input-8-5d96c522cc79>:23: SettingWithCopyWarning: \n",
      "A value is trying to be set on a copy of a slice from a DataFrame.\n",
      "Try using .loc[row_indexer,col_indexer] = value instead\n",
      "\n",
      "See the caveats in the documentation: https://pandas.pydata.org/pandas-docs/stable/user_guide/indexing.html#returning-a-view-versus-a-copy\n",
      "  kommune_cases_df['Kumuleret procent smittede'] = (kommune_cases_df[\"Kumuleret sum tilfælde\"]/antal_borgere(i))*100\n"
     ]
    }
   ],
   "source": [
    "kom_dic = {}\n",
    "\n",
    "for i in kommunenavn:\n",
    "\n",
    "    kommune_vac_df = df_vacc.loc[df_vacc[\"kommunenavn\"] == i]\n",
    "    #firstDate = np.datetime64(kommune_df.loc[kommune_df.index[start],'Dato'])-np.timedelta64(1,'D')\n",
    "    lastDate = np.datetime64(kommune_vac_df.loc[kommune_vac_df.index[-1],'Faerdigvacc_dato'])\n",
    "    \n",
    "    # Find number of citizens in region\n",
    "    df_kommunekort = pd.read_csv(latestdir+'/Kommunalt_DB/10_Kommune_kort.csv',encoding='latin1',\n",
    "                                 delimiter = ';')\n",
    "    df_kommunekort = df_kommunekort.set_index(\"Kommunenavn\")\n",
    "\n",
    "    # Make row of accumulated vaccinations percentage of pop\n",
    "    kommune_vac_df[\"Kumuleret sum vac\"] = kommune_vac_df['Antal faerdigvacc.'].cumsum() \n",
    "    \n",
    "    kommune_vac_df['Kumuleret procent faerdigvacc.'] = (kommune_vac_df[\"Kumuleret sum vac\"]/antal_borgere(i))*100\n",
    "    \n",
    "    # Make row of accumulated infections percentage of pop\n",
    "    kommune_cases_df = df_cases.loc[df_cases[\"Kommunenavn\"] == i]\n",
    "    kommune_cases_df[\"Kumuleret sum tilfælde\"] = kommune_cases_df['Bekræftede tilfælde i alt'].cumsum() \n",
    "    \n",
    "    kommune_cases_df['Kumuleret procent smittede'] = (kommune_cases_df[\"Kumuleret sum tilfælde\"]/antal_borgere(i))*100\n",
    "    \n",
    "    kommune_merge_df = pd.merge(left=kommune_vac_df, left_on='Faerdigvacc_dato',\n",
    "         right=kommune_cases_df, right_on='Dato')\n",
    "    kom_dic[i] = kommune_merge_df\n",
    "#     plt.plot(kommune_merge_df[\"Faerdigvacc_dato\"],\n",
    "#              kommune_merge_df[\"Kumuleret procent faerdigvacc.\"],label=i,linewidth=0.5)\n",
    "#     plt.plot(kommune_merge_df[\"Faerdigvacc_dato\"],\n",
    "#              kommune_merge_df[\"Kumuleret procent smittede\"],label=i,linewidth=0.5)"
   ]
  },
  {
   "cell_type": "code",
   "execution_count": 9,
   "metadata": {},
   "outputs": [],
   "source": [
    "\n",
    "#kommunenavn = [\"København\",\"Roskilde\",\"Brøndby\",\"Aalborg\"]\n",
    "#Add low and high estimate of susceptible in each kommune\n",
    "for i in kommunenavn:\n",
    "    #kom_dic[i][\"Uafhængigt modtagelige\"]=(1-kom_dic[i][\"Kumuleret procent faerdigvacc.\"]/100-kom_dic[i][\"Kumuleret procent smittede\"]/100)*100\n",
    "    #kom_dic[i][\"Afhængigt modtagelige\"]=((1-kom_dic[i][\"Kumuleret procent faerdigvacc.\"]/100)*(1-kom_dic[i][\"Kumuleret procent smittede\"]/100))*100\n",
    "\n",
    "    #kom_dic[i][\"Uafhængigt immunutet\"]=(kom_dic[i][\"Kumuleret procent faerdigvacc.\"]/100+kom_dic[i][\"Kumuleret procent smittede\"]/100)*100\n",
    "    #kom_dic[i][\"Afhængigt immunutet\"]=((kom_dic[i][\"Kumuleret procent faerdigvacc.\"]/100)*(kom_dic[i][\"Kumuleret procent smittede\"]/100))*100\n",
    "    kom_dic[i][\"P(Smittet og Vaccineret)\"]=(kom_dic[i][\"Kumuleret procent faerdigvacc.\"]/100*kom_dic[i][\"Kumuleret procent smittede\"]/100)*100\n",
    "    kom_dic[i][\"P(Smittede og ikke Vacinnerede)\"]=((1-kom_dic[i][\"Kumuleret procent faerdigvacc.\"]/100)*kom_dic[i][\"Kumuleret procent smittede\"]/100)*100\n",
    "    kom_dic[i][\"P(Vaccinerede og ikke Smittede)\"]=(kom_dic[i][\"Kumuleret procent faerdigvacc.\"]/100*(1-kom_dic[i][\"Kumuleret procent smittede\"]/100))*100\n",
    "    kom_dic[i][\"P(ikke Smittet og ikke Vaccineret)\"]=((1-kom_dic[i][\"Kumuleret procent faerdigvacc.\"]/100)*(1-kom_dic[i][\"Kumuleret procent smittede\"]/100))*100\n",
    "\n",
    "    # kom_dic[\"Lejre\"]\n",
    "latest_V = []\n",
    "latest_I = []\n",
    "\n",
    "latest_SV = np.array([]) #Seneste P(Smittet og Vaccineret)\n",
    "latest_SIV = np.array([]) # Seneste P(Smittet og ikke Vaccineret)\n",
    "latest_ISV = np.array([]) # Seneste P(Vaccineret og ikke Smittet)\n",
    "latest_ISIV = np.array([]) # Seneste P(ikke Smittet og ikke Vaccineret)\n",
    "\n",
    "\n",
    "for i in kommunenavn:\n",
    "    latest_V.append(kom_dic[i][\"Kumuleret procent faerdigvacc.\"].iloc[-1])\n",
    "    latest_I.append(kom_dic[i]['Kumuleret procent smittede'].iloc[-1])\n",
    "\n",
    "    #latest_SV.append(kom_dic[i][\"P(Smittet og Vaccineret)\"].iloc[-1])\n",
    "    latest_SV = np.append(latest_SV,kom_dic[i][\"P(Smittet og Vaccineret)\"].iloc[-1])\n",
    "    latest_SIV = np.append(latest_SIV,kom_dic[i][\"P(Smittede og ikke Vacinnerede)\"].iloc[-1])\n",
    "    latest_ISV = np.append(latest_ISV,kom_dic[i][\"P(Vaccinerede og ikke Smittede)\"].iloc[-1])\n",
    "    latest_ISIV = np.append(latest_ISIV,kom_dic[i][\"P(ikke Smittet og ikke Vaccineret)\"].iloc[-1])\n",
    "    "
   ]
  },
  {
   "cell_type": "code",
   "execution_count": 10,
   "metadata": {},
   "outputs": [
    {
     "data": {
      "application/vnd.jupyter.widget-view+json": {
       "model_id": "2cd3eda4b33c42018067fbac5c11e31f",
       "version_major": 2,
       "version_minor": 0
      },
      "text/plain": [
       "Canvas(toolbar=Toolbar(toolitems=[('Home', 'Reset original view', 'home', 'home'), ('Back', 'Back to previous …"
      ]
     },
     "metadata": {},
     "output_type": "display_data"
    }
   ],
   "source": [
    "plt.rcdefaults()\n",
    "fig, ax = plt.subplots(figsize=(8, 25))\n",
    "\n",
    "#4 Grupper P(V)*P(S)= P(Smittet og Vaccineret), P(1-V)*P(S) = P(Smittede og ikke Vacinnerede),\n",
    "# P(V)*P(1-S)=P(Vaccinerede og ikke Smittede)\n",
    "# P(1-V)*P(1-S)=P(ikke Smittede og ikke Vaccinerede = Sårbare\n",
    "\n",
    "ax.barh(kommunenavn,latest_ISIV, label=\"P(ikke Smittet og ikke Vaccineret\", color=\"xkcd:red\")\n",
    "ax.barh(kommunenavn,latest_ISV, left=latest_ISIV, label=\"P(Vaccinerede og ikke Smittede)\", color=\"xkcd:pumpkin\")\n",
    "ax.barh(kommunenavn,latest_SIV, left=latest_ISV+latest_ISIV, label=\"P(Smittede og ikke Vacinnerede)\", color=\"xkcd:yellow\") # left = latest_V,\n",
    "ax.barh(kommunenavn,latest_SV, left=latest_SIV+latest_ISV+latest_ISIV, label=\"P(Smittet og Vaccineret)\", color=\"xkcd:green\")\n",
    "\n",
    "\n",
    "\n",
    "\n",
    "ax.set_xlabel('Procent af indbyggere [%]')\n",
    "ax.set_title('Afhængig modtagelighedsgrupper i danske kommuner')\n",
    "\n",
    "# plt.axvline(x=100,ls=\"--\",color=\"k\",label=\"100% Immunitet\")\n",
    "# plt.legend([\"100% Immunitet\",\"Uafhængige: p(I)=p(V)+p(S)\",\"Afhængige p(I)=p(V)*p(S)\",\"Færdvaccinerede\"])\n",
    "plt.legend()\n",
    "fig_path = os.getcwd() +\"\\\\..\\\\Figures\"\n",
    "plt.show()\n",
    "plt.savefig(fig_path+\"\\Afhængig modtagelighed i danske kommuner.png\",bbox_inches =\"tight\",pad_inches = 1)"
   ]
  },
  {
   "cell_type": "code",
   "execution_count": 11,
   "metadata": {},
   "outputs": [
    {
     "data": {
      "application/vnd.jupyter.widget-view+json": {
       "model_id": "f2be8e89480842739a74e9e215b691ee",
       "version_major": 2,
       "version_minor": 0
      },
      "text/plain": [
       "Canvas(toolbar=Toolbar(toolitems=[('Home', 'Reset original view', 'home', 'home'), ('Back', 'Back to previous …"
      ]
     },
     "metadata": {},
     "output_type": "display_data"
    }
   ],
   "source": [
    "x = np.arange(len(kommunenavn))  # the label locations\n",
    "width = 0.35  # the width of the bars\n",
    "\n",
    "fig, ax = plt.subplots(figsize=(8, 25))\n",
    "rects1 = ax.barh(x - width/2, latest_V, width, label='Færdig Vaccinations procent')\n",
    "rects2 = ax.barh(x + width/2, latest_I, width, label='Smitte procent')\n",
    "\n",
    "# Add some text for labels, title and custom x-axis tick labels, etc.\n",
    "ax.set_xlabel('Procent [%]')\n",
    "ax.set_title('Kumuleret smitte og vaccinations procent \\n i danske kommuner')\n",
    "ax.set_yticks(np.arange(len(kommunenavn)))\n",
    "ax.set_yticklabels(kommunenavn)\n",
    "ax.legend()\n",
    "\n",
    "\n",
    "\n",
    "fig.tight_layout()\n",
    "\n",
    "\n",
    "fig_path = os.getcwd() +\"\\\\..\\\\Figures\"\n",
    "plt.savefig(fig_path+\"\\Smitte og vaccinations procent i danske kommuner.png\",bbox_inches =\"tight\",pad_inches = 1)\n",
    "plt.show()"
   ]
  },
  {
   "cell_type": "code",
   "execution_count": 12,
   "metadata": {},
   "outputs": [],
   "source": [
    "# fig_path = os.getcwd() +\"\\\\..\\\\Figures\\modtagelighed i kommuner\"\n",
    "# #kommunenavn = [\"København\"]\n",
    "# for i in kommunenavn:\n",
    "#     plt.figure(figsize=(12, 6), dpi=120)\n",
    "#     plt.ylabel(\"[%] i kommune\")\n",
    "#     plt.title(f\"{i} Modtagelighed\")\n",
    "#     plt.show()\n",
    "#     plt.plot(kom_dic[i][\"Faerdigvacc_dato\"],kom_dic[i][\"Afhængigt modtagelige\"],linewidth=1,color=\"xkcd:blue\")\n",
    "#     plt.plot(kom_dic[i][\"Faerdigvacc_dato\"],kom_dic[i][\"Uafhængigt modtagelige\"],linewidth=1,color=\"xkcd:green\")\n",
    "\n",
    "#     plt.plot(kom_dic[i][\"Faerdigvacc_dato\"],kom_dic[i][\"Kumuleret procent faerdigvacc.\"],linewidth=1,color=\"xkcd:teal\",ls=\"-.\")\n",
    "#     plt.plot(kom_dic[i][\"Faerdigvacc_dato\"],kom_dic[i]['Kumuleret procent smittede'],linewidth=1,color=\"xkcd:violet\",ls=\"-.\")\n",
    "\n",
    "#     plt.fill_between(kom_dic[i][\"Faerdigvacc_dato\"],kom_dic[i][\"Afhængigt modtagelige\"], kom_dic[i][\"Uafhængigt modtagelige\"], color='xkcd:grey', alpha=0.5,hatch='///')\n",
    "#     plt.xticks(rotation = 45)\n",
    "#     plt.plot([kom_dic[i][\"Faerdigvacc_dato\"].iloc[0],kom_dic[i][\"Faerdigvacc_dato\"].iloc[-1]],[0,0],\"--k\",linewidth=0.8)\n",
    "\n",
    "#     plt.legend([\"Afhængige: $p_{a}(I)=p(V)*p(S)$\",\"Uafhængige: $p_{ua}(I)=p(V)+p(S)$\",\"Færdig vaccinerede\",\"Kumulerede smittede\",\"$0\\%$\",\"$p_{a}(I)-p_{ua}(I)$\"],loc=\"center left\")\n",
    "#     plt.savefig(fig_path+\"/modtagelighed_i_\"+i+\".png\",bbox_inches =\"tight\",pad_inches = 1)\n",
    "#     plt.close()"
   ]
  },
  {
   "cell_type": "markdown",
   "metadata": {},
   "source": [
    "## Test af scatterplot af smitte vs vaccinations mætning (Overflødig nu, fun der gør det samme under)\n",
    "Hver kommune er plottet.\n",
    "Hver kommunes prik er propertional med væksten de senste 7 dage. \n",
    "Hvis der er mindre end 10 observationer i tilfælde får den værdien 1.\n",
    "Grøn farve betyder aftagende antal smitte tilvælde, rød stigende antal smittetilfælde."
   ]
  },
  {
   "cell_type": "code",
   "execution_count": 13,
   "metadata": {},
   "outputs": [],
   "source": [
    "# delta = []\n",
    "\n",
    "# for i in kommunenavn:\n",
    "#     #if i == \"Læsø\":\n",
    "#        # delta.append(1)\n",
    "#        # continue\n",
    "#     if len(kom_dic[i][\"Bekræftede tilfælde i alt\"]) < 10:\n",
    "#         delta.append(1)\n",
    "#         continue\n",
    "#     delta_i = rnMean(kom_dic[i][\"Bekræftede tilfælde i alt\"].values[:-1],7)\n",
    "#     delta_i\n",
    "\n",
    "#     delta.append(delta_i[-8]-delta_i[-1])\n"
   ]
  },
  {
   "cell_type": "code",
   "execution_count": 14,
   "metadata": {},
   "outputs": [],
   "source": [
    "# #Color defining function. If delta is posetive color is assigned red if delta is negative it is colored green.\n",
    "# def pltcolor(lst,color_1=\"green\",color_2=\"red\"):\n",
    "#     cols = []\n",
    "#     for l in lst:\n",
    "#         if l<=0:\n",
    "#             cols.append(color_1)\n",
    "#         elif l>0:\n",
    "#             cols.append(color_2)\n",
    "#     return cols\n",
    "\n",
    "# cols = pltcolor(delta)"
   ]
  },
  {
   "cell_type": "code",
   "execution_count": 15,
   "metadata": {},
   "outputs": [],
   "source": [
    "# #Size defining function. Makes a list for plotting relative size.\n",
    "# def pltsize(lst):\n",
    "#     size = []\n",
    "#     base = math.exp(1)\n",
    "#     scaler = 10\n",
    "#     for l in lst:\n",
    "#         size.append(math.log(abs(l),base)*scaler)\n",
    "#     return size\n",
    "\n",
    "# size = pltsize(delta) "
   ]
  },
  {
   "cell_type": "code",
   "execution_count": 16,
   "metadata": {},
   "outputs": [],
   "source": [
    "\n",
    "\n",
    "# dd = kom_dic[\"København\"][\"Faerdigvacc_dato\"].iloc[-1] #Senseste dato\n",
    "# fig, ax = plt.subplots()\n",
    "# ax.scatter(latest_V, latest_I,c=cols, s=size)\n",
    "# ax.set_xlabel(\"Færdigvaccination [%]\")\n",
    "# ax.set_ylabel(\"Kumuleret smitte [%]\")\n",
    "# ax.set_title(f\"Kommuners færdig vaccinations rate vs andel smittede \\n {dd.date()}\")\n",
    "# plt.show()"
   ]
  },
  {
   "cell_type": "code",
   "execution_count": 17,
   "metadata": {},
   "outputs": [],
   "source": [
    "#Tilføj kommunenavne\n",
    "\n",
    "#for i, txt in enumerate(kommunenavn):\n",
    " #   ax.annotate(txt, (latest_V[i], latest_I[i]))"
   ]
  },
  {
   "cell_type": "code",
   "execution_count": 18,
   "metadata": {},
   "outputs": [],
   "source": [
    "# ax.set_xlim([50,90])\n",
    "# ax.set_ylim([5,50])"
   ]
  },
  {
   "cell_type": "markdown",
   "metadata": {},
   "source": [
    "## Split data i to dele og lav scatter plot\n",
    "Et sæt fra tidligste til 2021-12-10 og et fra 2021-12-20 til dags dato"
   ]
  },
  {
   "cell_type": "code",
   "execution_count": 19,
   "metadata": {},
   "outputs": [],
   "source": [
    "#Make dictionaries for pre and post omecron\n",
    "pre_dic = {}\n",
    "post_dic = {}\n",
    "for i in kommunenavn:\n",
    "    pre_dic[i] = kom_dic[i].loc[(kom_dic[i]['Faerdigvacc_dato']<'2021-12-10')]\n",
    "    post_dic[i] = kom_dic[i].loc[(kom_dic[i]['Faerdigvacc_dato']>'2021-12-20')]\n",
    "\n",
    "\n",
    "    "
   ]
  },
  {
   "cell_type": "code",
   "execution_count": 20,
   "metadata": {
    "scrolled": true
   },
   "outputs": [
    {
     "name": "stderr",
     "output_type": "stream",
     "text": [
      "<ipython-input-20-8b3d2ab29266>:2: SettingWithCopyWarning: \n",
      "A value is trying to be set on a copy of a slice from a DataFrame.\n",
      "Try using .loc[row_indexer,col_indexer] = value instead\n",
      "\n",
      "See the caveats in the documentation: https://pandas.pydata.org/pandas-docs/stable/user_guide/indexing.html#returning-a-view-versus-a-copy\n",
      "  post_dic[i]['Kumuleret procent smittede'] = post_dic[i]['Kumuleret procent smittede']-post_dic[i]['Kumuleret procent smittede'].iloc[0]\n"
     ]
    }
   ],
   "source": [
    "for i in kommunenavn:\n",
    "    post_dic[i]['Kumuleret procent smittede'] = post_dic[i]['Kumuleret procent smittede']-post_dic[i]['Kumuleret procent smittede'].iloc[0]"
   ]
  },
  {
   "cell_type": "code",
   "execution_count": 25,
   "metadata": {},
   "outputs": [],
   "source": [
    "def scatter_v_s(dic,kommunenavn, min_obs = 25, names=False,color_1=\"green\",color_2=\"red\"):\n",
    "    \"\"\"Scatterplot function, args: dictonary of dataframes, list of dictionary labels.\n",
    "    keyargs: min_obs = minimum number of observations allowed (observations under are set to 1) default=25,\n",
    "    names: set to True to plot names of kommunenavn, default=False\"\"\"\n",
    "    \n",
    "    latest_V = []\n",
    "    latest_I = []\n",
    "    \n",
    "    for i in kommunenavn:\n",
    "        latest_V.append(dic[i][\"Kumuleret procent faerdigvacc.\"].iloc[-1])\n",
    "        latest_I.append(dic[i]['Kumuleret procent smittede'].iloc[-1])\n",
    "    \n",
    "    delta = []\n",
    "    for i in kommunenavn:\n",
    "    \n",
    "        if len(dic[i][\"Bekræftede tilfælde i alt\"]) < min_obs:\n",
    "            delta.append(1)\n",
    "            continue\n",
    "        delta_i = rnMean(dic[i][\"Bekræftede tilfælde i alt\"].values[:-1],7)\n",
    "        delta_i\n",
    "        delta.append(delta_i[-8]-delta_i[-1])\n",
    "    \n",
    "    size = pltsize(delta) \n",
    "    cols = pltcolor(delta,color_1,color_2)\n",
    "    \n",
    "    første_d = dic[\"København\"][\"Faerdigvacc_dato\"].iloc[0] # Første dato\n",
    "    seneste_d = dic[\"København\"][\"Faerdigvacc_dato\"].iloc[-1] #Senseste dato\n",
    "    \n",
    "    #fig, ax = plt.subplots()\n",
    "    plt.scatter(latest_V, latest_I,c=cols, s=size)\n",
    "    plt.xlabel(\"Færdigvaccination [%]\")\n",
    "    plt.ylabel(\"Kumuleret smitte [%]\")\n",
    "    plt.title(f\"Kommuners færdig vaccinations rate vs andel smittede \\n fra {første_d.date()} til {seneste_d.date()}\")\n",
    "    plt.xlim([50,90])\n",
    "    plt.ylim([0,50])\n",
    "    if names == True:\n",
    "        for i, txt in enumerate(kommunenavn):\n",
    "            plt.annotate(txt, (latest_V[i], latest_I[i]))\n",
    "            continue\n",
    "    plt.show()"
   ]
  },
  {
   "cell_type": "code",
   "execution_count": 26,
   "metadata": {},
   "outputs": [
    {
     "data": {
      "application/vnd.jupyter.widget-view+json": {
       "model_id": "132dea54f38745a5a7604da5a3882926",
       "version_major": 2,
       "version_minor": 0
      },
      "text/plain": [
       "Canvas(toolbar=Toolbar(toolitems=[('Home', 'Reset original view', 'home', 'home'), ('Back', 'Back to previous …"
      ]
     },
     "metadata": {},
     "output_type": "display_data"
    },
    {
     "ename": "NameError",
     "evalue": "name 'pltsize' is not defined",
     "output_type": "error",
     "traceback": [
      "\u001b[1;31m---------------------------------------------------------------------------\u001b[0m",
      "\u001b[1;31mNameError\u001b[0m                                 Traceback (most recent call last)",
      "\u001b[1;32m<ipython-input-26-936c61971659>\u001b[0m in \u001b[0;36m<module>\u001b[1;34m\u001b[0m\n\u001b[0;32m      1\u001b[0m \u001b[0mplt\u001b[0m\u001b[1;33m.\u001b[0m\u001b[0mfigure\u001b[0m\u001b[1;33m(\u001b[0m\u001b[1;33m)\u001b[0m\u001b[1;33m\u001b[0m\u001b[1;33m\u001b[0m\u001b[0m\n\u001b[1;32m----> 2\u001b[1;33m \u001b[0mscatter_v_s\u001b[0m\u001b[1;33m(\u001b[0m\u001b[0mpre_dic\u001b[0m\u001b[1;33m,\u001b[0m\u001b[0mkommunenavn\u001b[0m\u001b[1;33m)\u001b[0m\u001b[1;33m\u001b[0m\u001b[1;33m\u001b[0m\u001b[0m\n\u001b[0m\u001b[0;32m      3\u001b[0m \u001b[0mscatter_v_s\u001b[0m\u001b[1;33m(\u001b[0m\u001b[0mpost_dic\u001b[0m\u001b[1;33m,\u001b[0m\u001b[0mkommunenavn\u001b[0m\u001b[1;33m,\u001b[0m\u001b[0mcolor_1\u001b[0m\u001b[1;33m=\u001b[0m\u001b[1;34m\"blue\"\u001b[0m\u001b[1;33m,\u001b[0m\u001b[0mcolor_2\u001b[0m\u001b[1;33m=\u001b[0m\u001b[1;34m\"yellow\"\u001b[0m\u001b[1;33m)\u001b[0m\u001b[1;33m\u001b[0m\u001b[1;33m\u001b[0m\u001b[0m\n\u001b[0;32m      4\u001b[0m \u001b[0mplt\u001b[0m\u001b[1;33m.\u001b[0m\u001b[0mtitle\u001b[0m\u001b[1;33m(\u001b[0m\u001b[1;34m\"Vægst af tilfælde i danske kommuner før og efter Omicron \\n Før 2021-12-10. Efter 2021-12-20\"\u001b[0m\u001b[1;33m)\u001b[0m\u001b[1;33m\u001b[0m\u001b[1;33m\u001b[0m\u001b[0m\n\u001b[0;32m      5\u001b[0m \u001b[1;33m\u001b[0m\u001b[0m\n",
      "\u001b[1;32m<ipython-input-25-a8ddee8b1add>\u001b[0m in \u001b[0;36mscatter_v_s\u001b[1;34m(dic, kommunenavn, min_obs, names, color_1, color_2)\u001b[0m\n\u001b[0;32m     21\u001b[0m         \u001b[0mdelta\u001b[0m\u001b[1;33m.\u001b[0m\u001b[0mappend\u001b[0m\u001b[1;33m(\u001b[0m\u001b[0mdelta_i\u001b[0m\u001b[1;33m[\u001b[0m\u001b[1;33m-\u001b[0m\u001b[1;36m8\u001b[0m\u001b[1;33m]\u001b[0m\u001b[1;33m-\u001b[0m\u001b[0mdelta_i\u001b[0m\u001b[1;33m[\u001b[0m\u001b[1;33m-\u001b[0m\u001b[1;36m1\u001b[0m\u001b[1;33m]\u001b[0m\u001b[1;33m)\u001b[0m\u001b[1;33m\u001b[0m\u001b[1;33m\u001b[0m\u001b[0m\n\u001b[0;32m     22\u001b[0m \u001b[1;33m\u001b[0m\u001b[0m\n\u001b[1;32m---> 23\u001b[1;33m     \u001b[0msize\u001b[0m \u001b[1;33m=\u001b[0m \u001b[0mpltsize\u001b[0m\u001b[1;33m(\u001b[0m\u001b[0mdelta\u001b[0m\u001b[1;33m)\u001b[0m\u001b[1;33m\u001b[0m\u001b[1;33m\u001b[0m\u001b[0m\n\u001b[0m\u001b[0;32m     24\u001b[0m     \u001b[0mcols\u001b[0m \u001b[1;33m=\u001b[0m \u001b[0mpltcolor\u001b[0m\u001b[1;33m(\u001b[0m\u001b[0mdelta\u001b[0m\u001b[1;33m,\u001b[0m\u001b[0mcolor_1\u001b[0m\u001b[1;33m,\u001b[0m\u001b[0mcolor_2\u001b[0m\u001b[1;33m)\u001b[0m\u001b[1;33m\u001b[0m\u001b[1;33m\u001b[0m\u001b[0m\n\u001b[0;32m     25\u001b[0m \u001b[1;33m\u001b[0m\u001b[0m\n",
      "\u001b[1;31mNameError\u001b[0m: name 'pltsize' is not defined"
     ]
    }
   ],
   "source": [
    "plt.figure()\n",
    "scatter_v_s(pre_dic,kommunenavn)\n",
    "scatter_v_s(post_dic,kommunenavn,color_1=\"blue\",color_2=\"yellow\")\n",
    "plt.title(\"Vægst af tilfælde i danske kommuner før og efter Omicron \\n Før 2021-12-10. Efter 2021-12-20\")\n",
    "\n",
    "legend_elements = [ Line2D([0], [0], marker='o', color='w', label='Pre Omicron fald i tilfælde', markerfacecolor='green', markersize=10),\n",
    "                  Line2D([0], [0], marker='o', color='w', label='Pre Omicron stigning i tilfælde', markerfacecolor='red', markersize=10),\n",
    "                   Line2D([0], [0], marker='o', color='w', label='Post Omicron fald i tilfælde', markerfacecolor='blue', markersize=10),\n",
    "                   Line2D([0], [0], marker='o', color='w', label='Post Omicron stigning i tilfælde', markerfacecolor='yellow', markersize=10),\n",
    "                  ]\n",
    "\n",
    "# fig, ax = plt.subplots()\n",
    "\n",
    "\n",
    "\n",
    "plt.legend(handles=legend_elements)\n",
    "\n",
    "plt.show()\n",
    "plt.savefig(fig_path+\"\\Vaccinerate mod tilvælde for danske kommuner.png\",bbox_inches =\"tight\",pad_inches = 1)"
   ]
  },
  {
   "cell_type": "code",
   "execution_count": null,
   "metadata": {},
   "outputs": [],
   "source": []
  },
  {
   "cell_type": "code",
   "execution_count": null,
   "metadata": {},
   "outputs": [],
   "source": []
  },
  {
   "cell_type": "code",
   "execution_count": null,
   "metadata": {},
   "outputs": [],
   "source": [
    "plt.close(\"all\")"
   ]
  },
  {
   "cell_type": "markdown",
   "metadata": {},
   "source": []
  }
 ],
 "metadata": {
  "kernelspec": {
   "display_name": "Python 3",
   "language": "python",
   "name": "python3"
  },
  "language_info": {
   "codemirror_mode": {
    "name": "ipython",
    "version": 3
   },
   "file_extension": ".py",
   "mimetype": "text/x-python",
   "name": "python",
   "nbconvert_exporter": "python",
   "pygments_lexer": "ipython3",
   "version": "3.8.3"
  }
 },
 "nbformat": 4,
 "nbformat_minor": 4
}
