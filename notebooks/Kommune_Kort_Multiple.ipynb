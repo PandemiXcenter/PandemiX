{
 "cells": [
  {
   "cell_type": "code",
   "execution_count": 1,
   "metadata": {},
   "outputs": [
    {
     "name": "stdout",
     "output_type": "stream",
     "text": [
      "saveFigures is set to: True\n",
      "Done loading packages\n"
     ]
    }
   ],
   "source": [
    "\n",
    "%matplotlib widget\n",
    "# Load packages and settings\n",
    "import numpy as np\n",
    "import pandas as pd\n",
    "pd.set_option('display.max_rows', 500)\n",
    "pd.set_option('display.min_rows', 50)\n",
    "import seaborn as sns\n",
    "\n",
    "import geopandas as gpd\n",
    "\n",
    "import matplotlib.pyplot as plt\n",
    "\n",
    "plt.rcParams['figure.figsize'] = (12,8)\n",
    "plt.rcParams[\"image.cmap\"] = \"tab10\"\n",
    "plt.rcParams['axes.prop_cycle'] = plt.cycler(color=plt.cm.tab10.colors)\n",
    "fs_label = 16\n",
    "parameters = {\n",
    "                'axes.labelsize': fs_label,\n",
    "                'axes.titlesize': fs_label+4,\n",
    "                'xtick.labelsize': fs_label,\n",
    "                'ytick.labelsize': fs_label, \n",
    "                'legend.fontsize': fs_label, \n",
    "                'lines.markersize': 10,\n",
    "                'lines.linewidth': 3\n",
    "             }\n",
    "plt.rcParams.update(parameters)\n",
    "\n",
    "from matplotlib import cm # Colormaps\n",
    "import matplotlib.colors as colors\n",
    "# cmap = plt.cm.get_cmap('Dark2',len(ageGroups))\n",
    "\n",
    "import locale\n",
    "import matplotlib.dates as mdates\n",
    "locale.setlocale(locale.LC_TIME,\"Danish\")\n",
    "# ax1.xaxis.set_major_formatter(mdates.DateFormatter('%b\\n%Y'))\n",
    "# ax1.spines['top'].set_visible(False) \n",
    "\n",
    "import os\n",
    "# import csv\n",
    "import math\n",
    "\n",
    "from datetime import date\n",
    "\n",
    "\n",
    "saveFigures = True\n",
    "# saveFigures = False\n",
    "print('saveFigures is set to: '+str(saveFigures))\n",
    "\n",
    "print('Done loading packages')\n",
    "\n",
    "# Define running mean functions\n",
    "def rnMean(data,meanWidth):\n",
    "    return np.convolve(data, np.ones(meanWidth)/meanWidth, mode='valid')\n",
    "def rnTime(t,meanWidth):\n",
    "    return t[math.floor(meanWidth/2):-math.ceil(meanWidth/2)+1]"
   ]
  },
  {
   "cell_type": "code",
   "execution_count": 2,
   "metadata": {},
   "outputs": [],
   "source": [
    "# Define paths\n",
    "rootdir_data = os.getcwd() +\"\\\\..\\\\DanskeData\\\\\" \n",
    "\n",
    "path_data = rootdir_data + \"ssi_data\\\\\"\n",
    "path_dash = rootdir_data + \"ssi_dashboard\\\\\"\n",
    "path_vacc = rootdir_data + \"ssi_vacc\\\\\"\n",
    "path_figs = os.getcwd() +\"\\\\..\\\\Figures\\\\\" \n",
    "\n",
    "\n",
    "path_figs = path_figs + \"Maps\\\\KommuneAnimation\""
   ]
  },
  {
   "cell_type": "code",
   "execution_count": 3,
   "metadata": {},
   "outputs": [],
   "source": [
    "gdf = gpd.read_file(\"C:/Users/Rasmus/Desktop/Kommuner/Kommune.shp\")\n",
    "\n",
    "# Only use most recent mapdata\n",
    "gdf = gdf[gdf.til == np.max(gdf.til.unique())]"
   ]
  },
  {
   "cell_type": "code",
   "execution_count": 4,
   "metadata": {},
   "outputs": [],
   "source": [
    "# Walk to relavant folder\n",
    "latestsubdir = list(os.walk(path_dash))[0][1][-1]\n",
    "latestdir = path_dash + latestsubdir\n",
    "df = pd.read_csv(latestdir+'/Kommunalt_DB/07_bekraeftede_tilfaelde_pr_dag_pr_kommune.csv',encoding='latin1',delimiter = ';')\n",
    "\n",
    "df['Dato'] = pd.to_datetime(df['Dato'])"
   ]
  },
  {
   "cell_type": "code",
   "execution_count": 5,
   "metadata": {},
   "outputs": [],
   "source": [
    "\n",
    "def getKommuneCount(curKommune):\n",
    "    kommune_df = df.loc[df[\"Kommunenavn\"] == curKommune]\n",
    "    \n",
    "    # Cut out last data point\n",
    "    kommune_df = kommune_df.iloc[:-1,:]\n",
    "    # firstDate = np.datetime64(kommune_df.loc[kommune_df.index[0],'Dato'])-np.timedelta64(1,'D')\n",
    "    # firstDate = np.datetime64('2021-11-01')\n",
    "    # lastDate = np.datetime64(kommune_df.loc[kommune_df.index[-1],'Dato'])\n",
    "    # Find number of citizens in region\n",
    "    latestsubdir = list(os.walk(path_dash))[0][1][-1]\n",
    "    latestdir = path_dash + latestsubdir\n",
    "    df_kommunekort = pd.read_csv(latestdir+'/Kommunalt_DB/10_Kommune_kort.csv',encoding='latin1',\n",
    "                                 delimiter = ';')\n",
    "    df_kommunekort = df_kommunekort.set_index(\"Kommunenavn\")\n",
    "\n",
    "    # kommune_nr = kommune_df.Kommune.iloc[0]\n",
    "    # kommune_df['Procent andel smittede'] = (kommune_df['Bekræftede tilfælde']/antal_borgere(curKommune))*100\n",
    "\n",
    "    curDays = kommune_df['Dato'].values\n",
    "    antal_borgere = df_kommunekort[\"Antal borgere\"][curKommune]\n",
    "    curPerc = ((kommune_df['Bekræftede tilfælde']/antal_borgere)*100).values\n",
    "    curCount = kommune_df['Bekræftede tilfælde'].values \n",
    "    \n",
    "    indexToUse = curDays <= (np.datetime64(latestsubdir[-10:])-np.timedelta64(2,'D'))\n",
    "    curCount = curCount[indexToUse]\n",
    "    curPerc = curPerc[indexToUse]\n",
    "    curDays = curDays[indexToUse]\n",
    "\n",
    "    return curDays,curCount,curPerc\n"
   ]
  },
  {
   "cell_type": "code",
   "execution_count": 6,
   "metadata": {},
   "outputs": [],
   "source": [
    "# Calculate growthmeasure\n",
    "# kommunenavn = 'København'\n",
    "# kommunenavne = [\"København\",\"Århus\",\"Aalborg\",\"Odense\",\"Roskilde\",\"Ishøj\",\"Frederiksberg\",\"Hvidovre\",\"Greve\",\"Rødovre\",\"Skanderborg\"]\n",
    "# kommunenavne = [\"København\",\"Århus\",\"Aalborg\",\"Odense\",\"Roskilde\",\"Ishøj\",\"Frederiksberg\"]\n",
    "kommunenavne = df.Kommunenavn.unique()\n",
    "\n",
    "df_meas = pd.DataFrame()\n",
    "\n",
    "curDays,curCount,curPerc = getKommuneCount('København')\n",
    "# df_meas['Date'] = [curDays[-1]]\n",
    "dateRange = np.arange(np.datetime64('2021-12-01'),np.datetime64('today'))\n",
    "df_meas['Date'] = dateRange[14:]\n",
    "\n",
    "# fig,ax1 = plt.subplots()\n",
    "for kommunenavn in kommunenavne:\n",
    "# for kommunenavn in kommunenavne[:4]:\n",
    "    curDays,curCount,curPerc = getKommuneCount(kommunenavn)\n",
    "\n",
    "    firstDate = np.datetime64('2021-12-01')\n",
    "    curIndex = (curDays >= firstDate)\n",
    "    curDays = curDays[curIndex]\n",
    "    curCount = curCount[curIndex]\n",
    "    curPerc = curPerc[curIndex]\n",
    "\n",
    "    \n",
    "    posIndices = [np.where(x == np.arange(np.datetime64('2021-12-01'),np.datetime64('today')))[0][0] for x in curDays]\n",
    "\n",
    "    try:\n",
    "        curDays = curDays[posIndices]\n",
    "        curCount = curCount[posIndices]\n",
    "        curPerc = curPerc[posIndices]\n",
    "\n",
    "        simplerCount = curCount[7:] - curCount[:-7]\n",
    "        simplerCount2 = (curCount[7:] - curCount[:-7])/curCount[:-7]\n",
    "        curMeasure1 = rnMean(simplerCount2,7)\n",
    "        curMeasure2 = rnMean(np.sign(simplerCount2),7)\n",
    "        # curMeasure2 = rnMean(np.sign(simplerCount2),4)\n",
    "\n",
    "        # # ax1.plot(curDays[13:],curMeasure2,'*:',label=kommunenavn)\n",
    "\n",
    "        # # df_meas['Dates'] = curDays[13:]\n",
    "        # # df_meas[kommunenavn] = curMeasure2\n",
    "\n",
    "        # # df_meas[kommunenavn] = [curMeasure2[-1]]\n",
    "\n",
    "        # df_meas['Date'] = curDays[13:]\n",
    "        df_meas[kommunenavn] = curMeasure2\n",
    "    except:\n",
    "        2+2\n",
    "        # df_meas[kommunenavn] = np.zeros(dateRange.shape)\n",
    "\n",
    "\n",
    "# df_meas\n",
    "# ax1.set_xlim(left=np.datetime64('2021-11-01'))\n",
    "\n",
    "# ax1.legend()\n",
    "# ax1.grid()\n",
    "# ax1.set_ylim([-1.5,1.5])\n",
    "\n",
    "# df_meas"
   ]
  },
  {
   "cell_type": "code",
   "execution_count": 7,
   "metadata": {},
   "outputs": [
    {
     "data": {
      "text/plain": [
       "47"
      ]
     },
     "execution_count": 7,
     "metadata": {},
     "output_type": "execute_result"
    }
   ],
   "source": [
    "np.where(df_meas.Date == np.datetime64('2022-01-31'))[0][0]"
   ]
  },
  {
   "cell_type": "code",
   "execution_count": 12,
   "metadata": {},
   "outputs": [
    {
     "data": {
      "application/vnd.jupyter.widget-view+json": {
       "model_id": "61492a5f9bdc4f09960d145b02f0483d",
       "version_major": 2,
       "version_minor": 0
      },
      "text/plain": [
       "Canvas(toolbar=Toolbar(toolitems=[('Home', 'Reset original view', 'home', 'home'), ('Back', 'Back to previous …"
      ]
     },
     "metadata": {},
     "output_type": "display_data"
    },
    {
     "data": {
      "application/vnd.jupyter.widget-view+json": {
       "model_id": "084f3671a4e0494f9f88768593a5957f",
       "version_major": 2,
       "version_minor": 0
      },
      "text/plain": [
       "Canvas(toolbar=Toolbar(toolitems=[('Home', 'Reset original view', 'home', 'home'), ('Back', 'Back to previous …"
      ]
     },
     "metadata": {},
     "output_type": "display_data"
    },
    {
     "data": {
      "application/vnd.jupyter.widget-view+json": {
       "model_id": "2dc647219f7845858f980f4e27a420a4",
       "version_major": 2,
       "version_minor": 0
      },
      "text/plain": [
       "Canvas(toolbar=Toolbar(toolitems=[('Home', 'Reset original view', 'home', 'home'), ('Back', 'Back to previous …"
      ]
     },
     "metadata": {},
     "output_type": "display_data"
    },
    {
     "data": {
      "application/vnd.jupyter.widget-view+json": {
       "model_id": "be39e357703a4cec9df847ed8c946b6f",
       "version_major": 2,
       "version_minor": 0
      },
      "text/plain": [
       "Canvas(toolbar=Toolbar(toolitems=[('Home', 'Reset original view', 'home', 'home'), ('Back', 'Back to previous …"
      ]
     },
     "metadata": {},
     "output_type": "display_data"
    },
    {
     "data": {
      "application/vnd.jupyter.widget-view+json": {
       "model_id": "d269cbda1240452182dceac55a832f29",
       "version_major": 2,
       "version_minor": 0
      },
      "text/plain": [
       "Canvas(toolbar=Toolbar(toolitems=[('Home', 'Reset original view', 'home', 'home'), ('Back', 'Back to previous …"
      ]
     },
     "metadata": {},
     "output_type": "display_data"
    },
    {
     "data": {
      "application/vnd.jupyter.widget-view+json": {
       "model_id": "dfc9ca8eda584bd18217ac96292b9466",
       "version_major": 2,
       "version_minor": 0
      },
      "text/plain": [
       "Canvas(toolbar=Toolbar(toolitems=[('Home', 'Reset original view', 'home', 'home'), ('Back', 'Back to previous …"
      ]
     },
     "metadata": {},
     "output_type": "display_data"
    },
    {
     "data": {
      "application/vnd.jupyter.widget-view+json": {
       "model_id": "4f2234e49f09474f9aa85aa65e00dbcb",
       "version_major": 2,
       "version_minor": 0
      },
      "text/plain": [
       "Canvas(toolbar=Toolbar(toolitems=[('Home', 'Reset original view', 'home', 'home'), ('Back', 'Back to previous …"
      ]
     },
     "metadata": {},
     "output_type": "display_data"
    },
    {
     "data": {
      "application/vnd.jupyter.widget-view+json": {
       "model_id": "871806dcb516446aaa3a07f61727aaf7",
       "version_major": 2,
       "version_minor": 0
      },
      "text/plain": [
       "Canvas(toolbar=Toolbar(toolitems=[('Home', 'Reset original view', 'home', 'home'), ('Back', 'Back to previous …"
      ]
     },
     "metadata": {},
     "output_type": "display_data"
    },
    {
     "data": {
      "application/vnd.jupyter.widget-view+json": {
       "model_id": "080e5f386ea24a43a5ce191d7acffaca",
       "version_major": 2,
       "version_minor": 0
      },
      "text/plain": [
       "Canvas(toolbar=Toolbar(toolitems=[('Home', 'Reset original view', 'home', 'home'), ('Back', 'Back to previous …"
      ]
     },
     "metadata": {},
     "output_type": "display_data"
    },
    {
     "data": {
      "application/vnd.jupyter.widget-view+json": {
       "model_id": "4075ae41bcdc4526b61b6439d2438c0c",
       "version_major": 2,
       "version_minor": 0
      },
      "text/plain": [
       "Canvas(toolbar=Toolbar(toolitems=[('Home', 'Reset original view', 'home', 'home'), ('Back', 'Back to previous …"
      ]
     },
     "metadata": {},
     "output_type": "display_data"
    },
    {
     "data": {
      "application/vnd.jupyter.widget-view+json": {
       "model_id": "865194678c954c61b15ae1b8aad0f940",
       "version_major": 2,
       "version_minor": 0
      },
      "text/plain": [
       "Canvas(toolbar=Toolbar(toolitems=[('Home', 'Reset original view', 'home', 'home'), ('Back', 'Back to previous …"
      ]
     },
     "metadata": {},
     "output_type": "display_data"
    },
    {
     "data": {
      "application/vnd.jupyter.widget-view+json": {
       "model_id": "ccd24a695e6a4001b662ab804ed5c421",
       "version_major": 2,
       "version_minor": 0
      },
      "text/plain": [
       "Canvas(toolbar=Toolbar(toolitems=[('Home', 'Reset original view', 'home', 'home'), ('Back', 'Back to previous …"
      ]
     },
     "metadata": {},
     "output_type": "display_data"
    },
    {
     "data": {
      "application/vnd.jupyter.widget-view+json": {
       "model_id": "3466b460c2904a8ca9add2851a4d3b4c",
       "version_major": 2,
       "version_minor": 0
      },
      "text/plain": [
       "Canvas(toolbar=Toolbar(toolitems=[('Home', 'Reset original view', 'home', 'home'), ('Back', 'Back to previous …"
      ]
     },
     "metadata": {},
     "output_type": "display_data"
    },
    {
     "data": {
      "application/vnd.jupyter.widget-view+json": {
       "model_id": "26def505050c47a2b77d880ee9da9d0d",
       "version_major": 2,
       "version_minor": 0
      },
      "text/plain": [
       "Canvas(toolbar=Toolbar(toolitems=[('Home', 'Reset original view', 'home', 'home'), ('Back', 'Back to previous …"
      ]
     },
     "metadata": {},
     "output_type": "display_data"
    },
    {
     "data": {
      "application/vnd.jupyter.widget-view+json": {
       "model_id": "b58f23caf34c44e899447f1bd9dce20b",
       "version_major": 2,
       "version_minor": 0
      },
      "text/plain": [
       "Canvas(toolbar=Toolbar(toolitems=[('Home', 'Reset original view', 'home', 'home'), ('Back', 'Back to previous …"
      ]
     },
     "metadata": {},
     "output_type": "display_data"
    },
    {
     "data": {
      "application/vnd.jupyter.widget-view+json": {
       "model_id": "f83020ee5768472aa8c9cf83fe0b8e7d",
       "version_major": 2,
       "version_minor": 0
      },
      "text/plain": [
       "Canvas(toolbar=Toolbar(toolitems=[('Home', 'Reset original view', 'home', 'home'), ('Back', 'Back to previous …"
      ]
     },
     "metadata": {},
     "output_type": "display_data"
    },
    {
     "data": {
      "application/vnd.jupyter.widget-view+json": {
       "model_id": "fa194a58c2d54b5486a38fc2178aa970",
       "version_major": 2,
       "version_minor": 0
      },
      "text/plain": [
       "Canvas(toolbar=Toolbar(toolitems=[('Home', 'Reset original view', 'home', 'home'), ('Back', 'Back to previous …"
      ]
     },
     "metadata": {},
     "output_type": "display_data"
    },
    {
     "data": {
      "application/vnd.jupyter.widget-view+json": {
       "model_id": "c927c76d7d78466fbaff1e0a7cd3c723",
       "version_major": 2,
       "version_minor": 0
      },
      "text/plain": [
       "Canvas(toolbar=Toolbar(toolitems=[('Home', 'Reset original view', 'home', 'home'), ('Back', 'Back to previous …"
      ]
     },
     "metadata": {},
     "output_type": "display_data"
    },
    {
     "data": {
      "application/vnd.jupyter.widget-view+json": {
       "model_id": "9327b24a9fc94fa79a6b8f08e4349ff2",
       "version_major": 2,
       "version_minor": 0
      },
      "text/plain": [
       "Canvas(toolbar=Toolbar(toolitems=[('Home', 'Reset original view', 'home', 'home'), ('Back', 'Back to previous …"
      ]
     },
     "metadata": {},
     "output_type": "display_data"
    },
    {
     "data": {
      "application/vnd.jupyter.widget-view+json": {
       "model_id": "0e966bf9f9c14f4b8de6e9854a41c1d5",
       "version_major": 2,
       "version_minor": 0
      },
      "text/plain": [
       "Canvas(toolbar=Toolbar(toolitems=[('Home', 'Reset original view', 'home', 'home'), ('Back', 'Back to previous …"
      ]
     },
     "metadata": {},
     "output_type": "display_data"
    },
    {
     "data": {
      "application/vnd.jupyter.widget-view+json": {
       "model_id": "0113a7aca41848bd88c57b1f6e5713cd",
       "version_major": 2,
       "version_minor": 0
      },
      "text/plain": [
       "Canvas(toolbar=Toolbar(toolitems=[('Home', 'Reset original view', 'home', 'home'), ('Back', 'Back to previous …"
      ]
     },
     "metadata": {},
     "output_type": "display_data"
    },
    {
     "data": {
      "application/vnd.jupyter.widget-view+json": {
       "model_id": "ace237b1a46a4ac5b4ea3511b85bda2e",
       "version_major": 2,
       "version_minor": 0
      },
      "text/plain": [
       "Canvas(toolbar=Toolbar(toolitems=[('Home', 'Reset original view', 'home', 'home'), ('Back', 'Back to previous …"
      ]
     },
     "metadata": {},
     "output_type": "display_data"
    },
    {
     "data": {
      "application/vnd.jupyter.widget-view+json": {
       "model_id": "e3540284ec7b47ef967c68dc2a57ed43",
       "version_major": 2,
       "version_minor": 0
      },
      "text/plain": [
       "Canvas(toolbar=Toolbar(toolitems=[('Home', 'Reset original view', 'home', 'home'), ('Back', 'Back to previous …"
      ]
     },
     "metadata": {},
     "output_type": "display_data"
    },
    {
     "data": {
      "application/vnd.jupyter.widget-view+json": {
       "model_id": "8a76a9ab7fb34718bc542f9119b2fa52",
       "version_major": 2,
       "version_minor": 0
      },
      "text/plain": [
       "Canvas(toolbar=Toolbar(toolitems=[('Home', 'Reset original view', 'home', 'home'), ('Back', 'Back to previous …"
      ]
     },
     "metadata": {},
     "output_type": "display_data"
    },
    {
     "data": {
      "application/vnd.jupyter.widget-view+json": {
       "model_id": "443dd365550c420299bef1aca4cb9dbc",
       "version_major": 2,
       "version_minor": 0
      },
      "text/plain": [
       "Canvas(toolbar=Toolbar(toolitems=[('Home', 'Reset original view', 'home', 'home'), ('Back', 'Back to previous …"
      ]
     },
     "metadata": {},
     "output_type": "display_data"
    },
    {
     "data": {
      "application/vnd.jupyter.widget-view+json": {
       "model_id": "3f4b6dfa98c2489186452c0b5d49dd8c",
       "version_major": 2,
       "version_minor": 0
      },
      "text/plain": [
       "Canvas(toolbar=Toolbar(toolitems=[('Home', 'Reset original view', 'home', 'home'), ('Back', 'Back to previous …"
      ]
     },
     "metadata": {},
     "output_type": "display_data"
    },
    {
     "data": {
      "application/vnd.jupyter.widget-view+json": {
       "model_id": "1337cb7b8c9f4de5aaaeb1a2d1657281",
       "version_major": 2,
       "version_minor": 0
      },
      "text/plain": [
       "Canvas(toolbar=Toolbar(toolitems=[('Home', 'Reset original view', 'home', 'home'), ('Back', 'Back to previous …"
      ]
     },
     "metadata": {},
     "output_type": "display_data"
    },
    {
     "data": {
      "application/vnd.jupyter.widget-view+json": {
       "model_id": "42231b82c9db450680180196cdbd0dfb",
       "version_major": 2,
       "version_minor": 0
      },
      "text/plain": [
       "Canvas(toolbar=Toolbar(toolitems=[('Home', 'Reset original view', 'home', 'home'), ('Back', 'Back to previous …"
      ]
     },
     "metadata": {},
     "output_type": "display_data"
    },
    {
     "data": {
      "application/vnd.jupyter.widget-view+json": {
       "model_id": "6577bbdb674f4bde93e3d6baaf7dee6b",
       "version_major": 2,
       "version_minor": 0
      },
      "text/plain": [
       "Canvas(toolbar=Toolbar(toolitems=[('Home', 'Reset original view', 'home', 'home'), ('Back', 'Back to previous …"
      ]
     },
     "metadata": {},
     "output_type": "display_data"
    },
    {
     "data": {
      "application/vnd.jupyter.widget-view+json": {
       "model_id": "062a3d7f451c48b4ac387aa65cb78e57",
       "version_major": 2,
       "version_minor": 0
      },
      "text/plain": [
       "Canvas(toolbar=Toolbar(toolitems=[('Home', 'Reset original view', 'home', 'home'), ('Back', 'Back to previous …"
      ]
     },
     "metadata": {},
     "output_type": "display_data"
    },
    {
     "data": {
      "application/vnd.jupyter.widget-view+json": {
       "model_id": "17f26257dfa846879e4283b143831fea",
       "version_major": 2,
       "version_minor": 0
      },
      "text/plain": [
       "Canvas(toolbar=Toolbar(toolitems=[('Home', 'Reset original view', 'home', 'home'), ('Back', 'Back to previous …"
      ]
     },
     "metadata": {},
     "output_type": "display_data"
    },
    {
     "data": {
      "application/vnd.jupyter.widget-view+json": {
       "model_id": "5b2aba0bb542403c90cd513c626c890d",
       "version_major": 2,
       "version_minor": 0
      },
      "text/plain": [
       "Canvas(toolbar=Toolbar(toolitems=[('Home', 'Reset original view', 'home', 'home'), ('Back', 'Back to previous …"
      ]
     },
     "metadata": {},
     "output_type": "display_data"
    },
    {
     "data": {
      "application/vnd.jupyter.widget-view+json": {
       "model_id": "ae24ef0f8f7245c0b4153d0d7318324b",
       "version_major": 2,
       "version_minor": 0
      },
      "text/plain": [
       "Canvas(toolbar=Toolbar(toolitems=[('Home', 'Reset original view', 'home', 'home'), ('Back', 'Back to previous …"
      ]
     },
     "metadata": {},
     "output_type": "display_data"
    },
    {
     "data": {
      "application/vnd.jupyter.widget-view+json": {
       "model_id": "ec458b9712c145778c29a9039bb86652",
       "version_major": 2,
       "version_minor": 0
      },
      "text/plain": [
       "Canvas(toolbar=Toolbar(toolitems=[('Home', 'Reset original view', 'home', 'home'), ('Back', 'Back to previous …"
      ]
     },
     "metadata": {},
     "output_type": "display_data"
    },
    {
     "data": {
      "application/vnd.jupyter.widget-view+json": {
       "model_id": "b14416dadfeb47e482dce2ab99b66348",
       "version_major": 2,
       "version_minor": 0
      },
      "text/plain": [
       "Canvas(toolbar=Toolbar(toolitems=[('Home', 'Reset original view', 'home', 'home'), ('Back', 'Back to previous …"
      ]
     },
     "metadata": {},
     "output_type": "display_data"
    },
    {
     "data": {
      "application/vnd.jupyter.widget-view+json": {
       "model_id": "f247e144b01f4f98b7536a9967e8bdad",
       "version_major": 2,
       "version_minor": 0
      },
      "text/plain": [
       "Canvas(toolbar=Toolbar(toolitems=[('Home', 'Reset original view', 'home', 'home'), ('Back', 'Back to previous …"
      ]
     },
     "metadata": {},
     "output_type": "display_data"
    },
    {
     "data": {
      "application/vnd.jupyter.widget-view+json": {
       "model_id": "b8080480d4464e88a0794bfcafbd1a2d",
       "version_major": 2,
       "version_minor": 0
      },
      "text/plain": [
       "Canvas(toolbar=Toolbar(toolitems=[('Home', 'Reset original view', 'home', 'home'), ('Back', 'Back to previous …"
      ]
     },
     "metadata": {},
     "output_type": "display_data"
    },
    {
     "data": {
      "application/vnd.jupyter.widget-view+json": {
       "model_id": "fc1971d1cf97488cbc2e6bc6186c42e8",
       "version_major": 2,
       "version_minor": 0
      },
      "text/plain": [
       "Canvas(toolbar=Toolbar(toolitems=[('Home', 'Reset original view', 'home', 'home'), ('Back', 'Back to previous …"
      ]
     },
     "metadata": {},
     "output_type": "display_data"
    },
    {
     "data": {
      "application/vnd.jupyter.widget-view+json": {
       "model_id": "22c038290b6b49bf80cc139e73ee5ec5",
       "version_major": 2,
       "version_minor": 0
      },
      "text/plain": [
       "Canvas(toolbar=Toolbar(toolitems=[('Home', 'Reset original view', 'home', 'home'), ('Back', 'Back to previous …"
      ]
     },
     "metadata": {},
     "output_type": "display_data"
    },
    {
     "data": {
      "application/vnd.jupyter.widget-view+json": {
       "model_id": "a0157cc8c14549c0a6767978817b3fad",
       "version_major": 2,
       "version_minor": 0
      },
      "text/plain": [
       "Canvas(toolbar=Toolbar(toolitems=[('Home', 'Reset original view', 'home', 'home'), ('Back', 'Back to previous …"
      ]
     },
     "metadata": {},
     "output_type": "display_data"
    },
    {
     "data": {
      "application/vnd.jupyter.widget-view+json": {
       "model_id": "1f7276e6e5414359aa685344cdd7dd79",
       "version_major": 2,
       "version_minor": 0
      },
      "text/plain": [
       "Canvas(toolbar=Toolbar(toolitems=[('Home', 'Reset original view', 'home', 'home'), ('Back', 'Back to previous …"
      ]
     },
     "metadata": {},
     "output_type": "display_data"
    },
    {
     "data": {
      "application/vnd.jupyter.widget-view+json": {
       "model_id": "57d6f0f20faa40bcbb424dfabf111ff6",
       "version_major": 2,
       "version_minor": 0
      },
      "text/plain": [
       "Canvas(toolbar=Toolbar(toolitems=[('Home', 'Reset original view', 'home', 'home'), ('Back', 'Back to previous …"
      ]
     },
     "metadata": {},
     "output_type": "display_data"
    },
    {
     "data": {
      "application/vnd.jupyter.widget-view+json": {
       "model_id": "e97e0816c0b147e6b934eea350f90ee2",
       "version_major": 2,
       "version_minor": 0
      },
      "text/plain": [
       "Canvas(toolbar=Toolbar(toolitems=[('Home', 'Reset original view', 'home', 'home'), ('Back', 'Back to previous …"
      ]
     },
     "metadata": {},
     "output_type": "display_data"
    },
    {
     "data": {
      "application/vnd.jupyter.widget-view+json": {
       "model_id": "87a8e664095446edbca8dbc9a120361b",
       "version_major": 2,
       "version_minor": 0
      },
      "text/plain": [
       "Canvas(toolbar=Toolbar(toolitems=[('Home', 'Reset original view', 'home', 'home'), ('Back', 'Back to previous …"
      ]
     },
     "metadata": {},
     "output_type": "display_data"
    },
    {
     "data": {
      "application/vnd.jupyter.widget-view+json": {
       "model_id": "6fb3e85e96e445fd837e1cdf885402eb",
       "version_major": 2,
       "version_minor": 0
      },
      "text/plain": [
       "Canvas(toolbar=Toolbar(toolitems=[('Home', 'Reset original view', 'home', 'home'), ('Back', 'Back to previous …"
      ]
     },
     "metadata": {},
     "output_type": "display_data"
    },
    {
     "data": {
      "application/vnd.jupyter.widget-view+json": {
       "model_id": "bd80c28203e340f494755fef9997bb2b",
       "version_major": 2,
       "version_minor": 0
      },
      "text/plain": [
       "Canvas(toolbar=Toolbar(toolitems=[('Home', 'Reset original view', 'home', 'home'), ('Back', 'Back to previous …"
      ]
     },
     "metadata": {},
     "output_type": "display_data"
    },
    {
     "data": {
      "application/vnd.jupyter.widget-view+json": {
       "model_id": "52360df30c314dde8161e564c96c9782",
       "version_major": 2,
       "version_minor": 0
      },
      "text/plain": [
       "Canvas(toolbar=Toolbar(toolitems=[('Home', 'Reset original view', 'home', 'home'), ('Back', 'Back to previous …"
      ]
     },
     "metadata": {},
     "output_type": "display_data"
    },
    {
     "data": {
      "application/vnd.jupyter.widget-view+json": {
       "model_id": "1f956113bee0471383245dcb4063c924",
       "version_major": 2,
       "version_minor": 0
      },
      "text/plain": [
       "Canvas(toolbar=Toolbar(toolitems=[('Home', 'Reset original view', 'home', 'home'), ('Back', 'Back to previous …"
      ]
     },
     "metadata": {},
     "output_type": "display_data"
    }
   ],
   "source": [
    "allKoms = df_meas.columns[1:]\n",
    "# [x.split(' Kommun')[0] for x in gdf.navn]\n",
    "\n",
    "curCount = 0\n",
    "for curDate in df_meas.Date.values:\n",
    "    fig,ax1 = plt.subplots() \n",
    "    # gdf.plot(color='gray',ax=ax1)\n",
    "\n",
    "\n",
    "    # curDate = np.datetime64('today')\n",
    "    # curDate = np.datetime64('2022-01-31')\n",
    "\n",
    "    # for x, y, label in zip(gdf.geometry.centroid.x, gdf.geometry.centroid.y, gdf.navn):\n",
    "    #     ax1.annotate(label,xy=(x,y),xytext=(3,3),textcoords=\"offset points\")\n",
    "\n",
    "    import matplotlib\n",
    "    cmap = matplotlib.cm.get_cmap('seismic')\n",
    "\n",
    "    for curKom in allKoms:\n",
    "        # curKom = 'Horsens'\n",
    "\n",
    "            \n",
    "        # curVal = df_meas[curKom].values[0]\n",
    "        # curVal = (1+df_meas[curKom].values[0])/2\n",
    "\n",
    "        curIndex = np.where(df_meas.Date == (curDate))[0][0]\n",
    "        # curIndex = np.where(df_meas.Date == (curDate-np.timedelta64(1,'D')))[0][0]\n",
    "        curVal = (1+df_meas[curKom].values[curIndex])/2\n",
    "        \n",
    "        \n",
    "        curColor = cmap(curVal)\n",
    "        \n",
    "        if (curKom == 'Aabenraa'):\n",
    "            curKom = 'Åbenrå'\n",
    "        if (curKom == 'Nordfyn'):\n",
    "            curKom = 'Nordfyns'\n",
    "        if (curKom == 'København'):\n",
    "            curKom = 'Københavns'\n",
    "        if (curKom == 'Bornholm'):\n",
    "            curKom = 'Bornholms'\n",
    "        if (curKom == 'Faaborg-Midtfyn'):\n",
    "            curKom = 'Fåborg-Midtfyn'\n",
    "        if (curKom == 'Lyngby-Taarbæk'):\n",
    "            curKom = 'Lyngby-Tårbæk'\n",
    "            \n",
    "\n",
    "        curgdf = gdf[gdf.navn == (curKom+' Kommune')]\n",
    "        curgdf.plot(ax=ax1,color=curColor)\n",
    "\n",
    "    # Hand-crafted legend\n",
    "    import matplotlib.patches as patches\n",
    "    # posVals = np.arange(-7,8,2)\n",
    "    posVals = np.arange(-1,1.1,2/7)\n",
    "    posValsStr = [str(int(np.round(7*x))) for x in posVals]\n",
    "    posValsStr = [\n",
    "        '7 dages vækst',\n",
    "        '6 dages vækst, 1 dags fald',\n",
    "        '5 dages vækst, 2 dages fald',\n",
    "        '4 dages vækst, 3 dages fald',\n",
    "        '3 dages vækst, 4 dages fald',\n",
    "        '2 dages vækst, 5 dages fald',\n",
    "        '1 dags vækst, 6 dages fald',\n",
    "        '7 dages fald',\n",
    "    ]\n",
    "\n",
    "    for i in range(len(posVals)):\n",
    "        curVal = posVals[i]\n",
    "        curVal = 1-(1+posVals[i])/2\n",
    "        curColor = cmap(curVal)\n",
    "        curStr = posValsStr[i]\n",
    "        x0 = 680000\n",
    "        y0 = 6.35e6\n",
    "        wi = 9000\n",
    "        he = 10000\n",
    "        cury = y0-he*i -he*0.5*i\n",
    "        rect = patches.Rectangle((x0,cury),wi,he,linewidth=2,edgecolor='k',facecolor=curColor)\n",
    "        ax1.add_patch(rect)\n",
    "        # ax1.annotate('asdf',xy=(x0,y0))\n",
    "        ax1.text(x0+wi*2,cury,curStr,ha='left')\n",
    "\n",
    "    # Remove axes\n",
    "    ax1.set_xticks([])\n",
    "    ax1.set_yticks([])\n",
    "    ax1.spines['right'].set_visible(False)\n",
    "    ax1.spines['top'].set_visible(False)\n",
    "    ax1.spines['left'].set_visible(False)\n",
    "    ax1.spines['bottom'].set_visible(False)\n",
    "\n",
    "    fileDate = pd.to_datetime(curDate+np.timedelta64(1,'D')).strftime('%Y-%m-%d')\n",
    "    titleDate = pd.to_datetime(curDate+np.timedelta64(1,'D')).strftime('%d. %B')\n",
    "    # fileDate = pd.to_datetime(curDate).strftime('%Y-%m-%d')\n",
    "    # titleDate = pd.to_datetime(curDate).strftime('%d. %B')\n",
    "    ax1.set_title(titleDate) \n",
    "\n",
    "    if saveFigures:\n",
    "        fig.savefig(path_figs+f'\\\\KommuneUdvikling_{fileDate}')\n",
    "        fig.savefig(path_figs+f'\\\\frames\\\\frame{curCount}')\n",
    "        curCount = curCount + 1\n",
    "\n",
    "# ax1.set_xlim([690000,750000])\n",
    "# ax1.set_ylim([6.16e6,6.195e6])\n",
    "\n",
    "\n",
    "# for i in range(len(posVals)):\n",
    "#     curVal = posVals[i]\n",
    "#     curVal = 1-(1+posVals[i])/2\n",
    "#     curColor = cmap(curVal)\n",
    "#     curStr = posValsStr[i]\n",
    "#     x0 = 735000\n",
    "#     y0 = 6.18e6\n",
    "#     wi = 9000/4\n",
    "#     he = 10000/6\n",
    "#     cury = y0-he*i -he*0.5*i\n",
    "#     rect = patches.Rectangle((x0,cury),wi,he,linewidth=2,edgecolor='k',facecolor=curColor)\n",
    "#     ax1.add_patch(rect)\n",
    "#     # ax1.annotate('asdf',xy=(x0,y0))\n",
    "#     ax1.text(x0+wi*2,cury,curStr,ha='left')\n",
    "\n",
    "# if saveFigures:\n",
    "#     fig.savefig(path_figs+'/Maps/KommuneUdvikling_Hovedstaden')"
   ]
  },
  {
   "cell_type": "code",
   "execution_count": 9,
   "metadata": {},
   "outputs": [
    {
     "data": {
      "text/plain": [
       "47"
      ]
     },
     "execution_count": 9,
     "metadata": {},
     "output_type": "execute_result"
    }
   ],
   "source": [
    "# # df_meas\n",
    "\n",
    "# # curDays,curCount,curPerc = getKommuneCount(kommunenavn)\n",
    "# # curDays\n",
    "# [np.where(x == np.arange(np.datetime64('2021-12-01'),np.datetime64('today')))[0][0] for x in curDays]\n",
    "\n",
    "# posIndices\n",
    "np.where(df_meas.Date == curDate)[0][0]"
   ]
  },
  {
   "cell_type": "code",
   "execution_count": 10,
   "metadata": {},
   "outputs": [],
   "source": [
    "# # Test af forskellige vækstmål\n",
    "# curDays,curCount,curPerc = getKommuneCount('København')\n",
    "\n",
    "# fig,(ax1,ax2) = plt.subplots(2,1,sharex=True)\n",
    "\n",
    "# ax1.plot(curDays,curCount,'.:',linewidth=1,color='k',markersize=2)\n",
    "\n",
    "# meanDays = rnTime(curDays,7)\n",
    "# # meanDays = curDays[6:]\n",
    "# meanCount = rnMean(curCount,7)\n",
    "# ax1.plot(meanDays,meanCount,color='k')\n",
    "\n",
    "# # ax2.plot(meanDays[1:],np.diff(meanCount),'*--')\n",
    "\n",
    "# simplerCount = curCount[7:] - curCount[:-7]\n",
    "# # ax2.plot(meanDays[1:],simplerCount/7)\n",
    "\n",
    "# simplerCount2 = (curCount[7:] - curCount[:-7])/curCount[:-7]\n",
    "# # ax2.plot(meanDays[1:],simplerCount2,'.')\n",
    "# ax2.plot(rnTime(meanDays[1:],7),rnMean(simplerCount2,7))\n",
    "# ax2.plot(rnTime(meanDays[1:],4),rnMean(simplerCount2,4))\n",
    "# # ax2.plot(rnTime(meanDays[1:],2),rnMean(simplerCount2,2))\n",
    "\n",
    "\n",
    "# # ax2.plot(meanDays[1:],np.sign(simplerCount),'.')\n",
    "\n",
    "# periodBack = 7\n",
    "# ax2.plot(meanDays[periodBack:],rnMean(np.sign(simplerCount),periodBack),'.-')\n",
    "# periodBack = 4\n",
    "# ax2.plot(meanDays[periodBack:],rnMean(np.sign(simplerCount),periodBack),'.-')\n",
    "# periodBack = 2\n",
    "# ax2.plot(meanDays[periodBack:],rnMean(np.sign(simplerCount),periodBack),'.-')\n",
    "\n",
    "# ax1.set_ylim(bottom=0)\n",
    "# ax1.set_xlim(left=np.datetime64('2021-11-01'))\n",
    "# ax2.set_ylim([-1.1,1.1])\n",
    "# ax2.grid()"
   ]
  },
  {
   "cell_type": "code",
   "execution_count": null,
   "metadata": {},
   "outputs": [],
   "source": []
  }
 ],
 "metadata": {
  "interpreter": {
   "hash": "c031fd63bd977d199cd6020c30a19695eacbb638d100e0b8a5ea53080ed74a9a"
  },
  "kernelspec": {
   "display_name": "Python 3.8.12 64-bit ('main': conda)",
   "language": "python",
   "name": "python3"
  },
  "language_info": {
   "codemirror_mode": {
    "name": "ipython",
    "version": 3
   },
   "file_extension": ".py",
   "mimetype": "text/x-python",
   "name": "python",
   "nbconvert_exporter": "python",
   "pygments_lexer": "ipython3",
   "version": "3.8.12"
  },
  "orig_nbformat": 4
 },
 "nbformat": 4,
 "nbformat_minor": 2
}
