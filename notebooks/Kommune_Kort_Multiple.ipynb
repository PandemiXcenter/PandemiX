{
 "cells": [
  {
   "cell_type": "code",
   "execution_count": 1,
   "metadata": {},
   "outputs": [
    {
     "name": "stdout",
     "output_type": "stream",
     "text": [
      "saveFigures is set to: True\n",
      "Done loading packages\n"
     ]
    }
   ],
   "source": [
    "\n",
    "%matplotlib widget\n",
    "# Load packages and settings\n",
    "import numpy as np\n",
    "import pandas as pd\n",
    "pd.set_option('display.max_rows', 500)\n",
    "pd.set_option('display.min_rows', 50)\n",
    "import seaborn as sns\n",
    "\n",
    "import geopandas as gpd\n",
    "\n",
    "import matplotlib.pyplot as plt\n",
    "\n",
    "plt.rcParams['figure.figsize'] = (12,8)\n",
    "plt.rcParams[\"image.cmap\"] = \"tab10\"\n",
    "plt.rcParams['axes.prop_cycle'] = plt.cycler(color=plt.cm.tab10.colors)\n",
    "fs_label = 16\n",
    "parameters = {\n",
    "                'axes.labelsize': fs_label,\n",
    "                'axes.titlesize': fs_label+4,\n",
    "                'xtick.labelsize': fs_label,\n",
    "                'ytick.labelsize': fs_label, \n",
    "                'legend.fontsize': fs_label, \n",
    "                'lines.markersize': 10,\n",
    "                'lines.linewidth': 3\n",
    "             }\n",
    "plt.rcParams.update(parameters)\n",
    "\n",
    "from matplotlib import cm # Colormaps\n",
    "import matplotlib.colors as colors\n",
    "# cmap = plt.cm.get_cmap('Dark2',len(ageGroups))\n",
    "\n",
    "import locale\n",
    "import matplotlib.dates as mdates\n",
    "locale.setlocale(locale.LC_TIME,\"Danish\")\n",
    "# ax1.xaxis.set_major_formatter(mdates.DateFormatter('%b\\n%Y'))\n",
    "# ax1.spines['top'].set_visible(False) \n",
    "\n",
    "import os\n",
    "# import csv\n",
    "import math\n",
    "\n",
    "from datetime import date\n",
    "\n",
    "\n",
    "saveFigures = True\n",
    "# saveFigures = False\n",
    "print('saveFigures is set to: '+str(saveFigures))\n",
    "\n",
    "print('Done loading packages')\n",
    "\n",
    "# Define running mean functions\n",
    "def rnMean(data,meanWidth):\n",
    "    return np.convolve(data, np.ones(meanWidth)/meanWidth, mode='valid')\n",
    "def rnTime(t,meanWidth):\n",
    "    return t[math.floor(meanWidth/2):-math.ceil(meanWidth/2)+1]"
   ]
  },
  {
   "cell_type": "code",
   "execution_count": 2,
   "metadata": {},
   "outputs": [],
   "source": [
    "# Define paths\n",
    "rootdir_data = os.getcwd() +\"\\\\..\\\\DanskeData\\\\\" \n",
    "\n",
    "path_data = rootdir_data + \"ssi_data\\\\\"\n",
    "path_dash = rootdir_data + \"ssi_dashboard\\\\\"\n",
    "path_vacc = rootdir_data + \"ssi_vacc\\\\\"\n",
    "path_figs = os.getcwd() +\"\\\\..\\\\Figures\\\\\" \n",
    "\n",
    "\n",
    "path_figs = path_figs + \"Maps\\\\KommuneAnimation\""
   ]
  },
  {
   "cell_type": "code",
   "execution_count": 3,
   "metadata": {},
   "outputs": [],
   "source": [
    "gdf = gpd.read_file(\"C:/Users/Rasmus/Desktop/Kommuner/Kommune.shp\")\n",
    "\n",
    "# Only use most recent mapdata\n",
    "gdf = gdf[gdf.til == np.max(gdf.til.unique())]"
   ]
  },
  {
   "cell_type": "code",
   "execution_count": 4,
   "metadata": {},
   "outputs": [],
   "source": [
    "# Walk to relavant folder\n",
    "latestsubdir = list(os.walk(path_dash))[0][1][-1]\n",
    "latestdir = path_dash + latestsubdir\n",
    "df = pd.read_csv(latestdir+'/Kommunalt_DB/07_bekraeftede_tilfaelde_pr_dag_pr_kommune.csv',encoding='latin1',delimiter = ';')\n",
    "\n",
    "df['Dato'] = pd.to_datetime(df['Dato'])"
   ]
  },
  {
   "cell_type": "code",
   "execution_count": 5,
   "metadata": {},
   "outputs": [],
   "source": [
    "\n",
    "def getKommuneCount(curKommune):\n",
    "    kommune_df = df.loc[df[\"Kommunenavn\"] == curKommune]\n",
    "    \n",
    "    # Cut out last data point\n",
    "    kommune_df = kommune_df.iloc[:-1,:]\n",
    "    # firstDate = np.datetime64(kommune_df.loc[kommune_df.index[0],'Dato'])-np.timedelta64(1,'D')\n",
    "    # firstDate = np.datetime64('2021-11-01')\n",
    "    # lastDate = np.datetime64(kommune_df.loc[kommune_df.index[-1],'Dato'])\n",
    "    # Find number of citizens in region\n",
    "    latestsubdir = list(os.walk(path_dash))[0][1][-1]\n",
    "    latestdir = path_dash + latestsubdir\n",
    "    df_kommunekort = pd.read_csv(latestdir+'/Kommunalt_DB/10_Kommune_kort.csv',encoding='latin1',\n",
    "                                 delimiter = ';')\n",
    "    df_kommunekort = df_kommunekort.set_index(\"Kommunenavn\")\n",
    "\n",
    "    # kommune_nr = kommune_df.Kommune.iloc[0]\n",
    "    # kommune_df['Procent andel smittede'] = (kommune_df['Bekræftede tilfælde']/antal_borgere(curKommune))*100\n",
    "\n",
    "    curDays = kommune_df['Dato'].values\n",
    "    antal_borgere = df_kommunekort[\"Antal borgere\"][curKommune]\n",
    "    curPerc = ((kommune_df['Bekræftede tilfælde']/antal_borgere)*100).values\n",
    "    curCount = kommune_df['Bekræftede tilfælde'].values \n",
    "    \n",
    "    indexToUse = curDays <= (np.datetime64(latestsubdir[-10:])-np.timedelta64(2,'D'))\n",
    "    curCount = curCount[indexToUse]\n",
    "    curPerc = curPerc[indexToUse]\n",
    "    curDays = curDays[indexToUse]\n",
    "\n",
    "    return curDays,curCount,curPerc\n"
   ]
  },
  {
   "cell_type": "code",
   "execution_count": 6,
   "metadata": {},
   "outputs": [],
   "source": [
    "# Calculate growthmeasure\n",
    "# kommunenavn = 'København'\n",
    "# kommunenavne = [\"København\",\"Århus\",\"Aalborg\",\"Odense\",\"Roskilde\",\"Ishøj\",\"Frederiksberg\",\"Hvidovre\",\"Greve\",\"Rødovre\",\"Skanderborg\"]\n",
    "# kommunenavne = [\"København\",\"Århus\",\"Aalborg\",\"Odense\",\"Roskilde\",\"Ishøj\",\"Frederiksberg\"]\n",
    "kommunenavne = df.Kommunenavn.unique()\n",
    "\n",
    "df_meas = pd.DataFrame()\n",
    "\n",
    "curDays,curCount,curPerc = getKommuneCount('København')\n",
    "# df_meas['Date'] = [curDays[-1]]\n",
    "dateRange = np.arange(np.datetime64('2021-12-01'),np.datetime64('today'))\n",
    "df_meas['Date'] = dateRange[14:]\n",
    "\n",
    "# fig,ax1 = plt.subplots()\n",
    "for kommunenavn in kommunenavne:\n",
    "# for kommunenavn in kommunenavne[:4]:\n",
    "    curDays,curCount,curPerc = getKommuneCount(kommunenavn)\n",
    "\n",
    "    firstDate = np.datetime64('2021-12-01')\n",
    "    curIndex = (curDays >= firstDate)\n",
    "    curDays = curDays[curIndex]\n",
    "    curCount = curCount[curIndex]\n",
    "    curPerc = curPerc[curIndex]\n",
    "\n",
    "    \n",
    "    posIndices = [np.where(x == np.arange(np.datetime64('2021-12-01'),np.datetime64('today')))[0][0] for x in curDays]\n",
    "\n",
    "    try:\n",
    "        curDays = curDays[posIndices]\n",
    "        curCount = curCount[posIndices]\n",
    "        curPerc = curPerc[posIndices]\n",
    "\n",
    "        simplerCount = curCount[7:] - curCount[:-7]\n",
    "        simplerCount2 = (curCount[7:] - curCount[:-7])/curCount[:-7]\n",
    "        curMeasure1 = rnMean(simplerCount2,7)\n",
    "        curMeasure2 = rnMean(np.sign(simplerCount2),7)\n",
    "        # curMeasure2 = rnMean(np.sign(simplerCount2),4)\n",
    "\n",
    "        # # ax1.plot(curDays[13:],curMeasure2,'*:',label=kommunenavn)\n",
    "\n",
    "        # # df_meas['Dates'] = curDays[13:]\n",
    "        # # df_meas[kommunenavn] = curMeasure2\n",
    "\n",
    "        # # df_meas[kommunenavn] = [curMeasure2[-1]]\n",
    "\n",
    "        # df_meas['Date'] = curDays[13:]\n",
    "        df_meas[kommunenavn] = curMeasure2\n",
    "    except:\n",
    "        2+2\n",
    "        # df_meas[kommunenavn] = np.zeros(dateRange.shape)\n",
    "\n",
    "\n",
    "# df_meas\n",
    "# ax1.set_xlim(left=np.datetime64('2021-11-01'))\n",
    "\n",
    "# ax1.legend()\n",
    "# ax1.grid()\n",
    "# ax1.set_ylim([-1.5,1.5])\n",
    "\n",
    "# df_meas"
   ]
  },
  {
   "cell_type": "code",
   "execution_count": 7,
   "metadata": {},
   "outputs": [
    {
     "data": {
      "text/plain": [
       "47"
      ]
     },
     "execution_count": 7,
     "metadata": {},
     "output_type": "execute_result"
    }
   ],
   "source": [
    "np.where(df_meas.Date == np.datetime64('2022-01-31'))[0][0]"
   ]
  },
  {
   "cell_type": "code",
   "execution_count": 8,
   "metadata": {},
   "outputs": [
    {
     "data": {
      "application/vnd.jupyter.widget-view+json": {
       "model_id": "8561a10920c847a18656b3bce5a1dd15",
       "version_major": 2,
       "version_minor": 0
      },
      "text/plain": [
       "Canvas(toolbar=Toolbar(toolitems=[('Home', 'Reset original view', 'home', 'home'), ('Back', 'Back to previous …"
      ]
     },
     "metadata": {},
     "output_type": "display_data"
    },
    {
     "data": {
      "application/vnd.jupyter.widget-view+json": {
       "model_id": "e003ba09be1a4aa2983d6eece8d4b350",
       "version_major": 2,
       "version_minor": 0
      },
      "text/plain": [
       "Canvas(toolbar=Toolbar(toolitems=[('Home', 'Reset original view', 'home', 'home'), ('Back', 'Back to previous …"
      ]
     },
     "metadata": {},
     "output_type": "display_data"
    },
    {
     "data": {
      "application/vnd.jupyter.widget-view+json": {
       "model_id": "f1be6e1bb270434c83cc290307f28914",
       "version_major": 2,
       "version_minor": 0
      },
      "text/plain": [
       "Canvas(toolbar=Toolbar(toolitems=[('Home', 'Reset original view', 'home', 'home'), ('Back', 'Back to previous …"
      ]
     },
     "metadata": {},
     "output_type": "display_data"
    },
    {
     "data": {
      "application/vnd.jupyter.widget-view+json": {
       "model_id": "6713070cc62048e69a6efcecf7364107",
       "version_major": 2,
       "version_minor": 0
      },
      "text/plain": [
       "Canvas(toolbar=Toolbar(toolitems=[('Home', 'Reset original view', 'home', 'home'), ('Back', 'Back to previous …"
      ]
     },
     "metadata": {},
     "output_type": "display_data"
    },
    {
     "data": {
      "application/vnd.jupyter.widget-view+json": {
       "model_id": "61f75baf5f5e45c7824cb6c62cbcfb4e",
       "version_major": 2,
       "version_minor": 0
      },
      "text/plain": [
       "Canvas(toolbar=Toolbar(toolitems=[('Home', 'Reset original view', 'home', 'home'), ('Back', 'Back to previous …"
      ]
     },
     "metadata": {},
     "output_type": "display_data"
    },
    {
     "data": {
      "application/vnd.jupyter.widget-view+json": {
       "model_id": "e72d2972020148a88276a82cf89990aa",
       "version_major": 2,
       "version_minor": 0
      },
      "text/plain": [
       "Canvas(toolbar=Toolbar(toolitems=[('Home', 'Reset original view', 'home', 'home'), ('Back', 'Back to previous …"
      ]
     },
     "metadata": {},
     "output_type": "display_data"
    },
    {
     "data": {
      "application/vnd.jupyter.widget-view+json": {
       "model_id": "b9d66a5664c34993a34f940d3b31bd2b",
       "version_major": 2,
       "version_minor": 0
      },
      "text/plain": [
       "Canvas(toolbar=Toolbar(toolitems=[('Home', 'Reset original view', 'home', 'home'), ('Back', 'Back to previous …"
      ]
     },
     "metadata": {},
     "output_type": "display_data"
    },
    {
     "data": {
      "application/vnd.jupyter.widget-view+json": {
       "model_id": "f2f5784ced214c168397c06d34452fc8",
       "version_major": 2,
       "version_minor": 0
      },
      "text/plain": [
       "Canvas(toolbar=Toolbar(toolitems=[('Home', 'Reset original view', 'home', 'home'), ('Back', 'Back to previous …"
      ]
     },
     "metadata": {},
     "output_type": "display_data"
    },
    {
     "data": {
      "application/vnd.jupyter.widget-view+json": {
       "model_id": "feba3e32d6474586bd2cac3f1949611a",
       "version_major": 2,
       "version_minor": 0
      },
      "text/plain": [
       "Canvas(toolbar=Toolbar(toolitems=[('Home', 'Reset original view', 'home', 'home'), ('Back', 'Back to previous …"
      ]
     },
     "metadata": {},
     "output_type": "display_data"
    },
    {
     "data": {
      "application/vnd.jupyter.widget-view+json": {
       "model_id": "7d425df5b27d4785bed3d407b5f6f7b5",
       "version_major": 2,
       "version_minor": 0
      },
      "text/plain": [
       "Canvas(toolbar=Toolbar(toolitems=[('Home', 'Reset original view', 'home', 'home'), ('Back', 'Back to previous …"
      ]
     },
     "metadata": {},
     "output_type": "display_data"
    },
    {
     "data": {
      "application/vnd.jupyter.widget-view+json": {
       "model_id": "b95b8a0c7abb4b8784a3946a030e1a79",
       "version_major": 2,
       "version_minor": 0
      },
      "text/plain": [
       "Canvas(toolbar=Toolbar(toolitems=[('Home', 'Reset original view', 'home', 'home'), ('Back', 'Back to previous …"
      ]
     },
     "metadata": {},
     "output_type": "display_data"
    },
    {
     "data": {
      "application/vnd.jupyter.widget-view+json": {
       "model_id": "ce0d68be59524118ba9f23af75b241d7",
       "version_major": 2,
       "version_minor": 0
      },
      "text/plain": [
       "Canvas(toolbar=Toolbar(toolitems=[('Home', 'Reset original view', 'home', 'home'), ('Back', 'Back to previous …"
      ]
     },
     "metadata": {},
     "output_type": "display_data"
    },
    {
     "data": {
      "application/vnd.jupyter.widget-view+json": {
       "model_id": "45797af91f2847f09e750ca054db7919",
       "version_major": 2,
       "version_minor": 0
      },
      "text/plain": [
       "Canvas(toolbar=Toolbar(toolitems=[('Home', 'Reset original view', 'home', 'home'), ('Back', 'Back to previous …"
      ]
     },
     "metadata": {},
     "output_type": "display_data"
    },
    {
     "data": {
      "application/vnd.jupyter.widget-view+json": {
       "model_id": "d122e737361a4e159f5b0cb04ec19c5a",
       "version_major": 2,
       "version_minor": 0
      },
      "text/plain": [
       "Canvas(toolbar=Toolbar(toolitems=[('Home', 'Reset original view', 'home', 'home'), ('Back', 'Back to previous …"
      ]
     },
     "metadata": {},
     "output_type": "display_data"
    },
    {
     "data": {
      "application/vnd.jupyter.widget-view+json": {
       "model_id": "c39b38472eb04b6d9c943f259705f39a",
       "version_major": 2,
       "version_minor": 0
      },
      "text/plain": [
       "Canvas(toolbar=Toolbar(toolitems=[('Home', 'Reset original view', 'home', 'home'), ('Back', 'Back to previous …"
      ]
     },
     "metadata": {},
     "output_type": "display_data"
    },
    {
     "data": {
      "application/vnd.jupyter.widget-view+json": {
       "model_id": "a88aabe6a6e148e8b58b30a3e94632ca",
       "version_major": 2,
       "version_minor": 0
      },
      "text/plain": [
       "Canvas(toolbar=Toolbar(toolitems=[('Home', 'Reset original view', 'home', 'home'), ('Back', 'Back to previous …"
      ]
     },
     "metadata": {},
     "output_type": "display_data"
    },
    {
     "data": {
      "application/vnd.jupyter.widget-view+json": {
       "model_id": "b82f95041cb641058068f423284cb4ae",
       "version_major": 2,
       "version_minor": 0
      },
      "text/plain": [
       "Canvas(toolbar=Toolbar(toolitems=[('Home', 'Reset original view', 'home', 'home'), ('Back', 'Back to previous …"
      ]
     },
     "metadata": {},
     "output_type": "display_data"
    },
    {
     "data": {
      "application/vnd.jupyter.widget-view+json": {
       "model_id": "9a963979a7c447e6a9782a584835fbcf",
       "version_major": 2,
       "version_minor": 0
      },
      "text/plain": [
       "Canvas(toolbar=Toolbar(toolitems=[('Home', 'Reset original view', 'home', 'home'), ('Back', 'Back to previous …"
      ]
     },
     "metadata": {},
     "output_type": "display_data"
    },
    {
     "data": {
      "application/vnd.jupyter.widget-view+json": {
       "model_id": "0d18e8f127e347e2903405132a906169",
       "version_major": 2,
       "version_minor": 0
      },
      "text/plain": [
       "Canvas(toolbar=Toolbar(toolitems=[('Home', 'Reset original view', 'home', 'home'), ('Back', 'Back to previous …"
      ]
     },
     "metadata": {},
     "output_type": "display_data"
    },
    {
     "data": {
      "application/vnd.jupyter.widget-view+json": {
       "model_id": "2254a5c1b3fa40789cd1ee2bae4d8b03",
       "version_major": 2,
       "version_minor": 0
      },
      "text/plain": [
       "Canvas(toolbar=Toolbar(toolitems=[('Home', 'Reset original view', 'home', 'home'), ('Back', 'Back to previous …"
      ]
     },
     "metadata": {},
     "output_type": "display_data"
    },
    {
     "name": "stderr",
     "output_type": "stream",
     "text": [
      "<ipython-input-8-3e7514689ee9>:6: RuntimeWarning: More than 20 figures have been opened. Figures created through the pyplot interface (`matplotlib.pyplot.figure`) are retained until explicitly closed and may consume too much memory. (To control this warning, see the rcParam `figure.max_open_warning`).\n",
      "  fig,ax1 = plt.subplots()\n"
     ]
    },
    {
     "data": {
      "application/vnd.jupyter.widget-view+json": {
       "model_id": "f0bcc13cc59341268f7d0a80387d98ed",
       "version_major": 2,
       "version_minor": 0
      },
      "text/plain": [
       "Canvas(toolbar=Toolbar(toolitems=[('Home', 'Reset original view', 'home', 'home'), ('Back', 'Back to previous …"
      ]
     },
     "metadata": {},
     "output_type": "display_data"
    },
    {
     "data": {
      "application/vnd.jupyter.widget-view+json": {
       "model_id": "f3742f86d5bc4053a772e64b373db5a0",
       "version_major": 2,
       "version_minor": 0
      },
      "text/plain": [
       "Canvas(toolbar=Toolbar(toolitems=[('Home', 'Reset original view', 'home', 'home'), ('Back', 'Back to previous …"
      ]
     },
     "metadata": {},
     "output_type": "display_data"
    },
    {
     "data": {
      "application/vnd.jupyter.widget-view+json": {
       "model_id": "48e2c2b34a3445148ba9b869abe65f69",
       "version_major": 2,
       "version_minor": 0
      },
      "text/plain": [
       "Canvas(toolbar=Toolbar(toolitems=[('Home', 'Reset original view', 'home', 'home'), ('Back', 'Back to previous …"
      ]
     },
     "metadata": {},
     "output_type": "display_data"
    },
    {
     "data": {
      "application/vnd.jupyter.widget-view+json": {
       "model_id": "f1491997d80e42eba0f7ffeff4c71920",
       "version_major": 2,
       "version_minor": 0
      },
      "text/plain": [
       "Canvas(toolbar=Toolbar(toolitems=[('Home', 'Reset original view', 'home', 'home'), ('Back', 'Back to previous …"
      ]
     },
     "metadata": {},
     "output_type": "display_data"
    },
    {
     "data": {
      "application/vnd.jupyter.widget-view+json": {
       "model_id": "ad713e7658254b3d90065b6f3ac76424",
       "version_major": 2,
       "version_minor": 0
      },
      "text/plain": [
       "Canvas(toolbar=Toolbar(toolitems=[('Home', 'Reset original view', 'home', 'home'), ('Back', 'Back to previous …"
      ]
     },
     "metadata": {},
     "output_type": "display_data"
    },
    {
     "data": {
      "application/vnd.jupyter.widget-view+json": {
       "model_id": "61125319afab470784ae5a85263a4150",
       "version_major": 2,
       "version_minor": 0
      },
      "text/plain": [
       "Canvas(toolbar=Toolbar(toolitems=[('Home', 'Reset original view', 'home', 'home'), ('Back', 'Back to previous …"
      ]
     },
     "metadata": {},
     "output_type": "display_data"
    },
    {
     "data": {
      "application/vnd.jupyter.widget-view+json": {
       "model_id": "f47537b3468440769a3cf978d443b047",
       "version_major": 2,
       "version_minor": 0
      },
      "text/plain": [
       "Canvas(toolbar=Toolbar(toolitems=[('Home', 'Reset original view', 'home', 'home'), ('Back', 'Back to previous …"
      ]
     },
     "metadata": {},
     "output_type": "display_data"
    },
    {
     "data": {
      "application/vnd.jupyter.widget-view+json": {
       "model_id": "f05caf5d705a42d886343e2dc75f172c",
       "version_major": 2,
       "version_minor": 0
      },
      "text/plain": [
       "Canvas(toolbar=Toolbar(toolitems=[('Home', 'Reset original view', 'home', 'home'), ('Back', 'Back to previous …"
      ]
     },
     "metadata": {},
     "output_type": "display_data"
    },
    {
     "data": {
      "application/vnd.jupyter.widget-view+json": {
       "model_id": "dd1338a8000e4aec853deeebb0135553",
       "version_major": 2,
       "version_minor": 0
      },
      "text/plain": [
       "Canvas(toolbar=Toolbar(toolitems=[('Home', 'Reset original view', 'home', 'home'), ('Back', 'Back to previous …"
      ]
     },
     "metadata": {},
     "output_type": "display_data"
    },
    {
     "data": {
      "application/vnd.jupyter.widget-view+json": {
       "model_id": "759edf13855c4fbf82e4e3fe470862e2",
       "version_major": 2,
       "version_minor": 0
      },
      "text/plain": [
       "Canvas(toolbar=Toolbar(toolitems=[('Home', 'Reset original view', 'home', 'home'), ('Back', 'Back to previous …"
      ]
     },
     "metadata": {},
     "output_type": "display_data"
    },
    {
     "data": {
      "application/vnd.jupyter.widget-view+json": {
       "model_id": "9cb7a3242a8349dabec4cd78c1d341fd",
       "version_major": 2,
       "version_minor": 0
      },
      "text/plain": [
       "Canvas(toolbar=Toolbar(toolitems=[('Home', 'Reset original view', 'home', 'home'), ('Back', 'Back to previous …"
      ]
     },
     "metadata": {},
     "output_type": "display_data"
    },
    {
     "data": {
      "application/vnd.jupyter.widget-view+json": {
       "model_id": "901fd9940cf147919406eca4ddff5fde",
       "version_major": 2,
       "version_minor": 0
      },
      "text/plain": [
       "Canvas(toolbar=Toolbar(toolitems=[('Home', 'Reset original view', 'home', 'home'), ('Back', 'Back to previous …"
      ]
     },
     "metadata": {},
     "output_type": "display_data"
    },
    {
     "data": {
      "application/vnd.jupyter.widget-view+json": {
       "model_id": "53c2fe6077d441b7ba5eacf4ad080b3d",
       "version_major": 2,
       "version_minor": 0
      },
      "text/plain": [
       "Canvas(toolbar=Toolbar(toolitems=[('Home', 'Reset original view', 'home', 'home'), ('Back', 'Back to previous …"
      ]
     },
     "metadata": {},
     "output_type": "display_data"
    },
    {
     "data": {
      "application/vnd.jupyter.widget-view+json": {
       "model_id": "d81f25a542ef4e63b1eb5f10b3ca9b69",
       "version_major": 2,
       "version_minor": 0
      },
      "text/plain": [
       "Canvas(toolbar=Toolbar(toolitems=[('Home', 'Reset original view', 'home', 'home'), ('Back', 'Back to previous …"
      ]
     },
     "metadata": {},
     "output_type": "display_data"
    },
    {
     "data": {
      "application/vnd.jupyter.widget-view+json": {
       "model_id": "d73edfaffaa947978c614303e7a2b69a",
       "version_major": 2,
       "version_minor": 0
      },
      "text/plain": [
       "Canvas(toolbar=Toolbar(toolitems=[('Home', 'Reset original view', 'home', 'home'), ('Back', 'Back to previous …"
      ]
     },
     "metadata": {},
     "output_type": "display_data"
    },
    {
     "data": {
      "application/vnd.jupyter.widget-view+json": {
       "model_id": "37b1e278212a449ab15bfd25dae1a2df",
       "version_major": 2,
       "version_minor": 0
      },
      "text/plain": [
       "Canvas(toolbar=Toolbar(toolitems=[('Home', 'Reset original view', 'home', 'home'), ('Back', 'Back to previous …"
      ]
     },
     "metadata": {},
     "output_type": "display_data"
    },
    {
     "data": {
      "application/vnd.jupyter.widget-view+json": {
       "model_id": "91d5339c6a3e402ea6240b6fa759d019",
       "version_major": 2,
       "version_minor": 0
      },
      "text/plain": [
       "Canvas(toolbar=Toolbar(toolitems=[('Home', 'Reset original view', 'home', 'home'), ('Back', 'Back to previous …"
      ]
     },
     "metadata": {},
     "output_type": "display_data"
    },
    {
     "data": {
      "application/vnd.jupyter.widget-view+json": {
       "model_id": "76fead51e460446283b5ca99a5daab34",
       "version_major": 2,
       "version_minor": 0
      },
      "text/plain": [
       "Canvas(toolbar=Toolbar(toolitems=[('Home', 'Reset original view', 'home', 'home'), ('Back', 'Back to previous …"
      ]
     },
     "metadata": {},
     "output_type": "display_data"
    },
    {
     "data": {
      "application/vnd.jupyter.widget-view+json": {
       "model_id": "e085269e794d468cbdb50d2fa60aaa6b",
       "version_major": 2,
       "version_minor": 0
      },
      "text/plain": [
       "Canvas(toolbar=Toolbar(toolitems=[('Home', 'Reset original view', 'home', 'home'), ('Back', 'Back to previous …"
      ]
     },
     "metadata": {},
     "output_type": "display_data"
    },
    {
     "data": {
      "application/vnd.jupyter.widget-view+json": {
       "model_id": "fbdd0adb787f4d809f3a5d156450fd2a",
       "version_major": 2,
       "version_minor": 0
      },
      "text/plain": [
       "Canvas(toolbar=Toolbar(toolitems=[('Home', 'Reset original view', 'home', 'home'), ('Back', 'Back to previous …"
      ]
     },
     "metadata": {},
     "output_type": "display_data"
    },
    {
     "data": {
      "application/vnd.jupyter.widget-view+json": {
       "model_id": "5039a3170060463bbf29d23ebf6f04d4",
       "version_major": 2,
       "version_minor": 0
      },
      "text/plain": [
       "Canvas(toolbar=Toolbar(toolitems=[('Home', 'Reset original view', 'home', 'home'), ('Back', 'Back to previous …"
      ]
     },
     "metadata": {},
     "output_type": "display_data"
    },
    {
     "data": {
      "application/vnd.jupyter.widget-view+json": {
       "model_id": "edde181a85b54cc587a4fd3bb370b8d8",
       "version_major": 2,
       "version_minor": 0
      },
      "text/plain": [
       "Canvas(toolbar=Toolbar(toolitems=[('Home', 'Reset original view', 'home', 'home'), ('Back', 'Back to previous …"
      ]
     },
     "metadata": {},
     "output_type": "display_data"
    },
    {
     "data": {
      "application/vnd.jupyter.widget-view+json": {
       "model_id": "7754a6e26f144ca58b5b412fc70de0c9",
       "version_major": 2,
       "version_minor": 0
      },
      "text/plain": [
       "Canvas(toolbar=Toolbar(toolitems=[('Home', 'Reset original view', 'home', 'home'), ('Back', 'Back to previous …"
      ]
     },
     "metadata": {},
     "output_type": "display_data"
    },
    {
     "data": {
      "application/vnd.jupyter.widget-view+json": {
       "model_id": "cfdd2fac4cc246b68c3fe04916d05d60",
       "version_major": 2,
       "version_minor": 0
      },
      "text/plain": [
       "Canvas(toolbar=Toolbar(toolitems=[('Home', 'Reset original view', 'home', 'home'), ('Back', 'Back to previous …"
      ]
     },
     "metadata": {},
     "output_type": "display_data"
    },
    {
     "data": {
      "application/vnd.jupyter.widget-view+json": {
       "model_id": "3499ce70db3b4734b61d0932ccd9074a",
       "version_major": 2,
       "version_minor": 0
      },
      "text/plain": [
       "Canvas(toolbar=Toolbar(toolitems=[('Home', 'Reset original view', 'home', 'home'), ('Back', 'Back to previous …"
      ]
     },
     "metadata": {},
     "output_type": "display_data"
    },
    {
     "data": {
      "application/vnd.jupyter.widget-view+json": {
       "model_id": "92eade58cf314143bf9c09867b1d0e9a",
       "version_major": 2,
       "version_minor": 0
      },
      "text/plain": [
       "Canvas(toolbar=Toolbar(toolitems=[('Home', 'Reset original view', 'home', 'home'), ('Back', 'Back to previous …"
      ]
     },
     "metadata": {},
     "output_type": "display_data"
    },
    {
     "data": {
      "application/vnd.jupyter.widget-view+json": {
       "model_id": "4014f8fa0470479eb6f1444b679fe88c",
       "version_major": 2,
       "version_minor": 0
      },
      "text/plain": [
       "Canvas(toolbar=Toolbar(toolitems=[('Home', 'Reset original view', 'home', 'home'), ('Back', 'Back to previous …"
      ]
     },
     "metadata": {},
     "output_type": "display_data"
    },
    {
     "data": {
      "application/vnd.jupyter.widget-view+json": {
       "model_id": "062c6b50b8b74536bc3e0787c3b0f6d4",
       "version_major": 2,
       "version_minor": 0
      },
      "text/plain": [
       "Canvas(toolbar=Toolbar(toolitems=[('Home', 'Reset original view', 'home', 'home'), ('Back', 'Back to previous …"
      ]
     },
     "metadata": {},
     "output_type": "display_data"
    },
    {
     "data": {
      "application/vnd.jupyter.widget-view+json": {
       "model_id": "273bd6468b5f4b05955c532d98eba102",
       "version_major": 2,
       "version_minor": 0
      },
      "text/plain": [
       "Canvas(toolbar=Toolbar(toolitems=[('Home', 'Reset original view', 'home', 'home'), ('Back', 'Back to previous …"
      ]
     },
     "metadata": {},
     "output_type": "display_data"
    },
    {
     "data": {
      "application/vnd.jupyter.widget-view+json": {
       "model_id": "378fcff8d8a947b7a121666950e728f0",
       "version_major": 2,
       "version_minor": 0
      },
      "text/plain": [
       "Canvas(toolbar=Toolbar(toolitems=[('Home', 'Reset original view', 'home', 'home'), ('Back', 'Back to previous …"
      ]
     },
     "metadata": {},
     "output_type": "display_data"
    },
    {
     "data": {
      "application/vnd.jupyter.widget-view+json": {
       "model_id": "49573ec82b4f451381b79e19cd166d0e",
       "version_major": 2,
       "version_minor": 0
      },
      "text/plain": [
       "Canvas(toolbar=Toolbar(toolitems=[('Home', 'Reset original view', 'home', 'home'), ('Back', 'Back to previous …"
      ]
     },
     "metadata": {},
     "output_type": "display_data"
    },
    {
     "data": {
      "application/vnd.jupyter.widget-view+json": {
       "model_id": "557111434b5d49e08343d7a8a07d720b",
       "version_major": 2,
       "version_minor": 0
      },
      "text/plain": [
       "Canvas(toolbar=Toolbar(toolitems=[('Home', 'Reset original view', 'home', 'home'), ('Back', 'Back to previous …"
      ]
     },
     "metadata": {},
     "output_type": "display_data"
    }
   ],
   "source": [
    "allKoms = df_meas.columns[1:]\n",
    "# [x.split(' Kommun')[0] for x in gdf.navn]\n",
    "\n",
    "curCount = 0\n",
    "for curDate in df_meas.Date.values:\n",
    "    fig,ax1 = plt.subplots() \n",
    "    # gdf.plot(color='gray',ax=ax1)\n",
    "\n",
    "\n",
    "    # curDate = np.datetime64('today')\n",
    "    # curDate = np.datetime64('2022-01-31')\n",
    "\n",
    "    # for x, y, label in zip(gdf.geometry.centroid.x, gdf.geometry.centroid.y, gdf.navn):\n",
    "    #     ax1.annotate(label,xy=(x,y),xytext=(3,3),textcoords=\"offset points\")\n",
    "\n",
    "    import matplotlib\n",
    "    cmap = matplotlib.cm.get_cmap('seismic')\n",
    "\n",
    "    for curKom in allKoms:\n",
    "        # curKom = 'Horsens'\n",
    "\n",
    "            \n",
    "        # curVal = df_meas[curKom].values[0]\n",
    "        # curVal = (1+df_meas[curKom].values[0])/2\n",
    "\n",
    "        curIndex = np.where(df_meas.Date == (curDate))[0][0]\n",
    "        # curIndex = np.where(df_meas.Date == (curDate-np.timedelta64(1,'D')))[0][0]\n",
    "        curVal = (1+df_meas[curKom].values[curIndex])/2\n",
    "        \n",
    "        \n",
    "        curColor = cmap(curVal)\n",
    "        \n",
    "        if (curKom == 'Aabenraa'):\n",
    "            curKom = 'Åbenrå'\n",
    "        if (curKom == 'Nordfyn'):\n",
    "            curKom = 'Nordfyns'\n",
    "        if (curKom == 'København'):\n",
    "            curKom = 'Københavns'\n",
    "        if (curKom == 'Bornholm'):\n",
    "            curKom = 'Bornholms'\n",
    "        if (curKom == 'Faaborg-Midtfyn'):\n",
    "            curKom = 'Fåborg-Midtfyn'\n",
    "        if (curKom == 'Lyngby-Taarbæk'):\n",
    "            curKom = 'Lyngby-Tårbæk'\n",
    "            \n",
    "\n",
    "        curgdf = gdf[gdf.navn == (curKom+' Kommune')]\n",
    "        curgdf.plot(ax=ax1,color=curColor)\n",
    "\n",
    "    # Hand-crafted legend\n",
    "    import matplotlib.patches as patches\n",
    "    # posVals = np.arange(-7,8,2)\n",
    "    posVals = np.arange(-1,1.1,2/7)\n",
    "    posValsStr = [str(int(np.round(7*x))) for x in posVals]\n",
    "    posValsStr = [\n",
    "        '7 dages vækst',\n",
    "        '6 dages vækst, 1 dags fald',\n",
    "        '5 dages vækst, 2 dages fald',\n",
    "        '4 dages vækst, 3 dages fald',\n",
    "        '3 dages vækst, 4 dages fald',\n",
    "        '2 dages vækst, 5 dages fald',\n",
    "        '1 dags vækst, 6 dages fald',\n",
    "        '7 dages fald',\n",
    "    ]\n",
    "\n",
    "    for i in range(len(posVals)):\n",
    "        curVal = posVals[i]\n",
    "        curVal = 1-(1+posVals[i])/2\n",
    "        curColor = cmap(curVal)\n",
    "        curStr = posValsStr[i]\n",
    "        x0 = 680000\n",
    "        y0 = 6.35e6\n",
    "        wi = 9000\n",
    "        he = 10000\n",
    "        cury = y0-he*i -he*0.5*i\n",
    "        rect = patches.Rectangle((x0,cury),wi,he,linewidth=2,edgecolor='k',facecolor=curColor)\n",
    "        ax1.add_patch(rect)\n",
    "        # ax1.annotate('asdf',xy=(x0,y0))\n",
    "        ax1.text(x0+wi*2,cury,curStr,ha='left')\n",
    "\n",
    "    # Remove axes\n",
    "    ax1.set_xticks([])\n",
    "    ax1.set_yticks([])\n",
    "    ax1.spines['right'].set_visible(False)\n",
    "    ax1.spines['top'].set_visible(False)\n",
    "    ax1.spines['left'].set_visible(False)\n",
    "    ax1.spines['bottom'].set_visible(False)\n",
    "\n",
    "    fileDate = pd.to_datetime(curDate+np.timedelta64(1,'D')).strftime('%Y-%m-%d')\n",
    "    titleDate = pd.to_datetime(curDate+np.timedelta64(1,'D')).strftime('%d. %B')\n",
    "    # fileDate = pd.to_datetime(curDate).strftime('%Y-%m-%d')\n",
    "    # titleDate = pd.to_datetime(curDate).strftime('%d. %B')\n",
    "    ax1.set_title(titleDate) \n",
    "\n",
    "    if saveFigures:\n",
    "        fig.savefig(path_figs+f'\\\\KommuneUdvikling_{fileDate}')\n",
    "        fig.savefig(path_figs+f'\\\\frames\\\\frame{curCount}')\n",
    "        curCount = curCount + 1\n",
    "\n",
    "# ax1.set_xlim([690000,750000])\n",
    "# ax1.set_ylim([6.16e6,6.195e6])\n",
    "\n",
    "\n",
    "# for i in range(len(posVals)):\n",
    "#     curVal = posVals[i]\n",
    "#     curVal = 1-(1+posVals[i])/2\n",
    "#     curColor = cmap(curVal)\n",
    "#     curStr = posValsStr[i]\n",
    "#     x0 = 735000\n",
    "#     y0 = 6.18e6\n",
    "#     wi = 9000/4\n",
    "#     he = 10000/6\n",
    "#     cury = y0-he*i -he*0.5*i\n",
    "#     rect = patches.Rectangle((x0,cury),wi,he,linewidth=2,edgecolor='k',facecolor=curColor)\n",
    "#     ax1.add_patch(rect)\n",
    "#     # ax1.annotate('asdf',xy=(x0,y0))\n",
    "#     ax1.text(x0+wi*2,cury,curStr,ha='left')\n",
    "\n",
    "# if saveFigures:\n",
    "#     fig.savefig(path_figs+'/Maps/KommuneUdvikling_Hovedstaden')"
   ]
  },
  {
   "cell_type": "code",
   "execution_count": 9,
   "metadata": {},
   "outputs": [
    {
     "data": {
      "text/plain": [
       "51"
      ]
     },
     "execution_count": 9,
     "metadata": {},
     "output_type": "execute_result"
    }
   ],
   "source": [
    "# # df_meas\n",
    "\n",
    "# # curDays,curCount,curPerc = getKommuneCount(kommunenavn)\n",
    "# # curDays\n",
    "# [np.where(x == np.arange(np.datetime64('2021-12-01'),np.datetime64('today')))[0][0] for x in curDays]\n",
    "\n",
    "# posIndices\n",
    "np.where(df_meas.Date == curDate)[0][0]"
   ]
  },
  {
   "cell_type": "code",
   "execution_count": 10,
   "metadata": {},
   "outputs": [],
   "source": [
    "# # Test af forskellige vækstmål\n",
    "# curDays,curCount,curPerc = getKommuneCount('København')\n",
    "\n",
    "# fig,(ax1,ax2) = plt.subplots(2,1,sharex=True)\n",
    "\n",
    "# ax1.plot(curDays,curCount,'.:',linewidth=1,color='k',markersize=2)\n",
    "\n",
    "# meanDays = rnTime(curDays,7)\n",
    "# # meanDays = curDays[6:]\n",
    "# meanCount = rnMean(curCount,7)\n",
    "# ax1.plot(meanDays,meanCount,color='k')\n",
    "\n",
    "# # ax2.plot(meanDays[1:],np.diff(meanCount),'*--')\n",
    "\n",
    "# simplerCount = curCount[7:] - curCount[:-7]\n",
    "# # ax2.plot(meanDays[1:],simplerCount/7)\n",
    "\n",
    "# simplerCount2 = (curCount[7:] - curCount[:-7])/curCount[:-7]\n",
    "# # ax2.plot(meanDays[1:],simplerCount2,'.')\n",
    "# ax2.plot(rnTime(meanDays[1:],7),rnMean(simplerCount2,7))\n",
    "# ax2.plot(rnTime(meanDays[1:],4),rnMean(simplerCount2,4))\n",
    "# # ax2.plot(rnTime(meanDays[1:],2),rnMean(simplerCount2,2))\n",
    "\n",
    "\n",
    "# # ax2.plot(meanDays[1:],np.sign(simplerCount),'.')\n",
    "\n",
    "# periodBack = 7\n",
    "# ax2.plot(meanDays[periodBack:],rnMean(np.sign(simplerCount),periodBack),'.-')\n",
    "# periodBack = 4\n",
    "# ax2.plot(meanDays[periodBack:],rnMean(np.sign(simplerCount),periodBack),'.-')\n",
    "# periodBack = 2\n",
    "# ax2.plot(meanDays[periodBack:],rnMean(np.sign(simplerCount),periodBack),'.-')\n",
    "\n",
    "# ax1.set_ylim(bottom=0)\n",
    "# ax1.set_xlim(left=np.datetime64('2021-11-01'))\n",
    "# ax2.set_ylim([-1.1,1.1])\n",
    "# ax2.grid()"
   ]
  },
  {
   "cell_type": "code",
   "execution_count": null,
   "metadata": {},
   "outputs": [],
   "source": []
  }
 ],
 "metadata": {
  "interpreter": {
   "hash": "c031fd63bd977d199cd6020c30a19695eacbb638d100e0b8a5ea53080ed74a9a"
  },
  "kernelspec": {
   "display_name": "Python 3.8.12 64-bit ('main': conda)",
   "language": "python",
   "name": "python3"
  },
  "language_info": {
   "codemirror_mode": {
    "name": "ipython",
    "version": 3
   },
   "file_extension": ".py",
   "mimetype": "text/x-python",
   "name": "python",
   "nbconvert_exporter": "python",
   "pygments_lexer": "ipython3",
   "version": "3.8.12"
  },
  "orig_nbformat": 4
 },
 "nbformat": 4,
 "nbformat_minor": 2
}
