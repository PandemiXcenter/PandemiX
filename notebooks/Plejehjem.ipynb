{
 "cells": [
  {
   "cell_type": "code",
   "execution_count": 90,
   "metadata": {},
   "outputs": [
    {
     "name": "stdout",
     "output_type": "stream",
     "text": [
      "saveFigures is set to: True\n",
      "Done loading packages\n"
     ]
    }
   ],
   "source": [
    "%matplotlib widget\n",
    "# Load packages and settings\n",
    "import numpy as np\n",
    "import pandas as pd\n",
    "pd.set_option('display.max_rows', 500)\n",
    "pd.set_option('display.min_rows', 50)\n",
    "import seaborn as sns\n",
    "\n",
    "\n",
    "import matplotlib.pyplot as plt\n",
    "plt.rcParams['figure.figsize'] = (12,8)\n",
    "plt.rcParams[\"image.cmap\"] = \"tab10\"\n",
    "plt.rcParams['axes.prop_cycle'] = plt.cycler(color=plt.cm.tab10.colors)\n",
    "fs_label = 16\n",
    "parameters = {\n",
    "                'axes.labelsize': fs_label,\n",
    "                'axes.titlesize': fs_label+4,\n",
    "                'xtick.labelsize': fs_label,\n",
    "                'ytick.labelsize': fs_label, \n",
    "                'legend.fontsize': fs_label, \n",
    "                'lines.markersize': 10,\n",
    "                'lines.linewidth': 3\n",
    "             }\n",
    "plt.rcParams.update(parameters)\n",
    "from matplotlib import cm # Colormaps\n",
    "import matplotlib.colors as colors\n",
    "# cmap = plt.cm.get_cmap('Dark2',len(ageGroups))\n",
    "\n",
    "import locale\n",
    "import matplotlib.dates as mdates\n",
    "locale.setlocale(locale.LC_TIME,\"Danish\")\n",
    "# ax1.xaxis.set_major_formatter(mdates.DateFormatter('%b\\n%Y'))\n",
    "# ax1.spines['top'].set_visible(False) \n",
    "\n",
    "import os\n",
    "# import csv\n",
    "import math\n",
    "\n",
    "from datetime import date\n",
    "\n",
    "\n",
    "saveFigures = True\n",
    "# saveFigures = False\n",
    "print('saveFigures is set to: '+str(saveFigures))\n",
    "\n",
    "print('Done loading packages')\n",
    "\n",
    "# Define running mean functions\n",
    "def rnMean(data,meanWidth):\n",
    "    return np.convolve(data, np.ones(meanWidth)/meanWidth, mode='valid')\n",
    "def rnTime(t,meanWidth):\n",
    "    return t[math.floor(meanWidth/2):-math.ceil(meanWidth/2)+1]"
   ]
  },
  {
   "cell_type": "code",
   "execution_count": 91,
   "metadata": {},
   "outputs": [],
   "source": [
    "# Define paths\n",
    "rootdir_data = os.getcwd() +\"\\\\..\\\\DanskeData\\\\\" \n",
    "\n",
    "path_data = rootdir_data + \"ssi_data\\\\\"\n",
    "path_dash = rootdir_data + \"ssi_dashboard\\\\\"\n",
    "path_vacc = rootdir_data + \"ssi_vacc\\\\\"\n",
    "\n",
    "path_figs = os.getcwd() +\"\\\\..\\\\Figures\\\\\" "
   ]
  },
  {
   "cell_type": "code",
   "execution_count": 92,
   "metadata": {},
   "outputs": [],
   "source": [
    "# Data is (only) in the file from the most recent tuesday. \n",
    "# Should be made smarter, but here hardcoded\n",
    "tuePath = 'SSI_data_2022-01-04'\n",
    "tuePath = 'SSI_data_2022-01-11'\n",
    "\n",
    "dirPath = path_data + tuePath + '\\\\'\n",
    "\n",
    "df = pd.read_csv(dirPath+'plejehjem_ugeoversigt.csv',delimiter=';')\n",
    "\n",
    "df = df.iloc[:-1]"
   ]
  },
  {
   "cell_type": "code",
   "execution_count": 93,
   "metadata": {},
   "outputs": [],
   "source": [
    "# weekNames[40:]\n",
    "# [x[2:] for df.Uge\n",
    "# df.Uge[30:]\n",
    "# weekNums = [f\"{int(x):02d}\" for x in df.Uge]\n",
    "weekNums = df.Uge.apply(lambda x: f\"{int(x):02d}\")"
   ]
  },
  {
   "cell_type": "code",
   "execution_count": 94,
   "metadata": {},
   "outputs": [
    {
     "data": {
      "text/html": [
       "<div>\n",
       "<style scoped>\n",
       "    .dataframe tbody tr th:only-of-type {\n",
       "        vertical-align: middle;\n",
       "    }\n",
       "\n",
       "    .dataframe tbody tr th {\n",
       "        vertical-align: top;\n",
       "    }\n",
       "\n",
       "    .dataframe thead th {\n",
       "        text-align: right;\n",
       "    }\n",
       "</style>\n",
       "<table border=\"1\" class=\"dataframe\">\n",
       "  <thead>\n",
       "    <tr style=\"text-align: right;\">\n",
       "      <th></th>\n",
       "      <th>År</th>\n",
       "      <th>Uge</th>\n",
       "      <th>Bekæftede tilfælde beboere</th>\n",
       "      <th>Dødsfald blandt bekæftede beboere</th>\n",
       "      <th>Bekræftede tilfælde blandt beboere med fuld effekt efter primært vaccinationsforløb</th>\n",
       "      <th>Bekræftede tilfælde blandt beboere med fuld effekt efter revaccination</th>\n",
       "      <th>Plejehjem med bekæftede tilfælde</th>\n",
       "      <th>Testede beboere</th>\n",
       "      <th>Plejehjem med testede beboere</th>\n",
       "    </tr>\n",
       "  </thead>\n",
       "  <tbody>\n",
       "    <tr>\n",
       "      <th>91</th>\n",
       "      <td>2021</td>\n",
       "      <td>49.0</td>\n",
       "      <td>89.0</td>\n",
       "      <td>6.0</td>\n",
       "      <td>11</td>\n",
       "      <td>71.0</td>\n",
       "      <td>47</td>\n",
       "      <td>10.146</td>\n",
       "      <td>645</td>\n",
       "    </tr>\n",
       "    <tr>\n",
       "      <th>92</th>\n",
       "      <td>2021</td>\n",
       "      <td>50.0</td>\n",
       "      <td>137.0</td>\n",
       "      <td>9.0</td>\n",
       "      <td>18</td>\n",
       "      <td>112.0</td>\n",
       "      <td>62</td>\n",
       "      <td>12.197</td>\n",
       "      <td>693</td>\n",
       "    </tr>\n",
       "    <tr>\n",
       "      <th>93</th>\n",
       "      <td>2021</td>\n",
       "      <td>51.0</td>\n",
       "      <td>193.0</td>\n",
       "      <td>11.0</td>\n",
       "      <td>20</td>\n",
       "      <td>165.0</td>\n",
       "      <td>92</td>\n",
       "      <td>14.713</td>\n",
       "      <td>700</td>\n",
       "    </tr>\n",
       "    <tr>\n",
       "      <th>94</th>\n",
       "      <td>2021</td>\n",
       "      <td>52.0</td>\n",
       "      <td>607.0</td>\n",
       "      <td>13.0</td>\n",
       "      <td>53</td>\n",
       "      <td>526.0</td>\n",
       "      <td>209</td>\n",
       "      <td>21.186</td>\n",
       "      <td>751</td>\n",
       "    </tr>\n",
       "    <tr>\n",
       "      <th>95</th>\n",
       "      <td>2022</td>\n",
       "      <td>1.0</td>\n",
       "      <td>636.0</td>\n",
       "      <td>33.0</td>\n",
       "      <td>42</td>\n",
       "      <td>572.0</td>\n",
       "      <td>209</td>\n",
       "      <td>24.325</td>\n",
       "      <td>780</td>\n",
       "    </tr>\n",
       "  </tbody>\n",
       "</table>\n",
       "</div>"
      ],
      "text/plain": [
       "      År   Uge  Bekæftede tilfælde beboere  Dødsfald blandt bekæftede beboere  \\\n",
       "91  2021  49.0                        89.0                                6.0   \n",
       "92  2021  50.0                       137.0                                9.0   \n",
       "93  2021  51.0                       193.0                               11.0   \n",
       "94  2021  52.0                       607.0                               13.0   \n",
       "95  2022   1.0                       636.0                               33.0   \n",
       "\n",
       "    Bekræftede tilfælde blandt beboere med fuld effekt efter primært vaccinationsforløb  \\\n",
       "91                                                 11                                     \n",
       "92                                                 18                                     \n",
       "93                                                 20                                     \n",
       "94                                                 53                                     \n",
       "95                                                 42                                     \n",
       "\n",
       "    Bekræftede tilfælde blandt beboere med fuld effekt efter revaccination  \\\n",
       "91                                               71.0                        \n",
       "92                                              112.0                        \n",
       "93                                              165.0                        \n",
       "94                                              526.0                        \n",
       "95                                              572.0                        \n",
       "\n",
       "    Plejehjem med bekæftede tilfælde  Testede beboere  \\\n",
       "91                                47           10.146   \n",
       "92                                62           12.197   \n",
       "93                                92           14.713   \n",
       "94                               209           21.186   \n",
       "95                               209           24.325   \n",
       "\n",
       "    Plejehjem med testede beboere  \n",
       "91                            645  \n",
       "92                            693  \n",
       "93                            700  \n",
       "94                            751  \n",
       "95                            780  "
      ]
     },
     "execution_count": 94,
     "metadata": {},
     "output_type": "execute_result"
    }
   ],
   "source": [
    "df\n",
    "\n",
    "# [str(x.År)+str(x.Uge) for x in df]\n",
    "# weekNums = df.Uge.apply(lambda x: f\"{int(x):02d}\")\n",
    "\n",
    "weekNames = df.År.astype(str)+'-W'+df.Uge.apply(lambda x: f\"{int(x):02d}\")\n",
    "# weekNames = df.År.astype(str)+'-'+df.Uge.astype(int).astype(str)\n",
    "# weekNames = 'Uge '+df.Uge.astype(int).astype(str)\n",
    "\n",
    "# weekNames[40:]\n",
    "import datetime\n",
    "# weekDTs = [np.datetime64(datetime.datetime.strptime(d + '-1', \"%Y-W%W-%w\")) for d in weekNames]\n",
    "weekDTs = [np.datetime64(datetime.datetime.strptime(d + '-1', \"%Y-W%W-%w\")) for d in weekNames]\n",
    "df.tail()"
   ]
  },
  {
   "cell_type": "code",
   "execution_count": 99,
   "metadata": {},
   "outputs": [
    {
     "data": {
      "application/vnd.jupyter.widget-view+json": {
       "model_id": "fb0cf51b7b8c4d43b59aad030e547999",
       "version_major": 2,
       "version_minor": 0
      },
      "text/plain": [
       "Canvas(toolbar=Toolbar(toolitems=[('Home', 'Reset original view', 'home', 'home'), ('Back', 'Back to previous …"
      ]
     },
     "metadata": {},
     "output_type": "display_data"
    },
    {
     "data": {
      "text/plain": [
       "(18901.0, 19027.9)"
      ]
     },
     "execution_count": 99,
     "metadata": {},
     "output_type": "execute_result"
    }
   ],
   "source": [
    "fig,ax1 = plt.subplots(tight_layout=True)\n",
    "\n",
    "# ax1.plot(weekDTs,df['Dødsfald blandt bekæftede beboere'])\n",
    "# ax1.plot(weekDTs,df['Bekæftede tilfælde beboere'])\n",
    "# ax1.plot(weekDTs,df['Bekræftede tilfælde blandt beboere med fuld effekt efter primært vaccinationsforløb'])\n",
    "# ax1.plot(weekDTs,df['Bekræftede tilfælde blandt beboere med fuld effekt efter revaccination'])\n",
    "\n",
    "caseTot = df['Bekæftede tilfælde beboere']\n",
    "casePrim = df['Bekræftede tilfælde blandt beboere med fuld effekt efter primært vaccinationsforløb']\n",
    "caseReva = df['Bekræftede tilfælde blandt beboere med fuld effekt efter revaccination']\n",
    "ax1.fill_between(weekDTs,caseTot,color='k',label='Uvaccinerede eller éngangsvaccinerede')\n",
    "# ax1.plot(weekDTs,casePrim)\n",
    "ax1.fill_between(weekDTs,caseReva+casePrim,color='xkcd:violet',label='Primært vaccinationsforløb')\n",
    "ax1.fill_between(weekDTs,caseReva,color='xkcd:green',label='Revaccinerede')\n",
    "\n",
    "ax1.legend(loc='upper left')\n",
    "\n",
    "\n",
    "ax1.xaxis.set_major_formatter(mdates.DateFormatter('%d-%b\\n%Y'))\n",
    "\n",
    "ax1.set_ylim(bottom=0)\n",
    "firstDate = np.datetime64('2021-10-01')\n",
    "# firstDate = np.datetime64('2021-03-01')\n",
    "# lastDate = np.datetime64('2022-03-01')\n",
    "ax1.set_xlim(left=firstDate)\n",
    "\n",
    "# #Tilts the x labels. \n",
    "# for label in ax1.get_xticklabels(which='major'):\n",
    "#     label.set(rotation=40, horizontalalignment='right')"
   ]
  },
  {
   "cell_type": "code",
   "execution_count": 96,
   "metadata": {},
   "outputs": [],
   "source": [
    "# import datetime \n",
    "# weekNames = df.År.astype(str)+'-W'+df.Uge.astype(int).astype(str)\n"
   ]
  }
 ],
 "metadata": {
  "interpreter": {
   "hash": "c031fd63bd977d199cd6020c30a19695eacbb638d100e0b8a5ea53080ed74a9a"
  },
  "kernelspec": {
   "display_name": "Python 3.8.12 64-bit ('main': conda)",
   "language": "python",
   "name": "python3"
  },
  "language_info": {
   "codemirror_mode": {
    "name": "ipython",
    "version": 3
   },
   "file_extension": ".py",
   "mimetype": "text/x-python",
   "name": "python",
   "nbconvert_exporter": "python",
   "pygments_lexer": "ipython3",
   "version": "3.8.12"
  },
  "orig_nbformat": 4
 },
 "nbformat": 4,
 "nbformat_minor": 2
}
