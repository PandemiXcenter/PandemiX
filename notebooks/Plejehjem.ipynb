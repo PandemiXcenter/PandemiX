{
 "cells": [
  {
   "cell_type": "code",
   "execution_count": 90,
   "metadata": {},
   "outputs": [
    {
     "name": "stdout",
     "output_type": "stream",
     "text": [
      "saveFigures is set to: True\n",
      "Done loading packages\n"
     ]
    }
   ],
   "source": [
    "%matplotlib widget\n",
    "# Load packages and settings\n",
    "import numpy as np\n",
    "import pandas as pd\n",
    "pd.set_option('display.max_rows', 500)\n",
    "pd.set_option('display.min_rows', 50)\n",
    "import seaborn as sns\n",
    "\n",
    "\n",
    "import matplotlib.pyplot as plt\n",
    "plt.rcParams['figure.figsize'] = (12,8)\n",
    "plt.rcParams[\"image.cmap\"] = \"tab10\"\n",
    "plt.rcParams['axes.prop_cycle'] = plt.cycler(color=plt.cm.tab10.colors)\n",
    "fs_label = 16\n",
    "parameters = {\n",
    "                'axes.labelsize': fs_label,\n",
    "                'axes.titlesize': fs_label+4,\n",
    "                'xtick.labelsize': fs_label,\n",
    "                'ytick.labelsize': fs_label, \n",
    "                'legend.fontsize': fs_label, \n",
    "                'lines.markersize': 10,\n",
    "                'lines.linewidth': 3\n",
    "             }\n",
    "plt.rcParams.update(parameters)\n",
    "from matplotlib import cm # Colormaps\n",
    "import matplotlib.colors as colors\n",
    "# cmap = plt.cm.get_cmap('Dark2',len(ageGroups))\n",
    "\n",
    "import locale\n",
    "import matplotlib.dates as mdates\n",
    "locale.setlocale(locale.LC_TIME,\"Danish\")\n",
    "# ax1.xaxis.set_major_formatter(mdates.DateFormatter('%b\\n%Y'))\n",
    "# ax1.spines['top'].set_visible(False) \n",
    "\n",
    "import os\n",
    "# import csv\n",
    "import math\n",
    "\n",
    "from datetime import date\n",
    "\n",
    "\n",
    "saveFigures = True\n",
    "# saveFigures = False\n",
    "print('saveFigures is set to: '+str(saveFigures))\n",
    "\n",
    "print('Done loading packages')\n",
    "\n",
    "# Define running mean functions\n",
    "def rnMean(data,meanWidth):\n",
    "    return np.convolve(data, np.ones(meanWidth)/meanWidth, mode='valid')\n",
    "def rnTime(t,meanWidth):\n",
    "    return t[math.floor(meanWidth/2):-math.ceil(meanWidth/2)+1]"
   ]
  },
  {
   "cell_type": "code",
   "execution_count": 91,
   "metadata": {},
   "outputs": [],
   "source": [
    "# Define paths\n",
    "rootdir_data = os.getcwd() +\"\\\\..\\\\DanskeData\\\\\" \n",
    "\n",
    "path_data = rootdir_data + \"ssi_data\\\\\"\n",
    "path_dash = rootdir_data + \"ssi_dashboard\\\\\"\n",
    "path_vacc = rootdir_data + \"ssi_vacc\\\\\"\n",
    "\n",
    "path_figs = os.getcwd() +\"\\\\..\\\\Figures\\\\\" "
   ]
  },
  {
   "cell_type": "code",
   "execution_count": 92,
   "metadata": {},
   "outputs": [],
   "source": [
    "# Data is (only) in the file from the most recent tuesday. \n",
    "# Should be made smarter, but here hardcoded\n",
    "tuePath = 'SSI_data_2022-01-04'\n",
    "tuePath = 'SSI_data_2022-01-11'\n",
    "\n",
    "dirPath = path_data + tuePath + '\\\\'\n",
    "\n",
    "df = pd.read_csv(dirPath+'plejehjem_ugeoversigt.csv',delimiter=';')\n",
    "\n",
    "df = df.iloc[:-1]"
   ]
  },
  {
   "cell_type": "code",
   "execution_count": 93,
   "metadata": {},
   "outputs": [],
   "source": [
    "# weekNames[40:]\n",
    "# [x[2:] for df.Uge\n",
    "# df.Uge[30:]\n",
    "# weekNums = [f\"{int(x):02d}\" for x in df.Uge]\n",
    "weekNums = df.Uge.apply(lambda x: f\"{int(x):02d}\")"
   ]
  },
  {
   "cell_type": "code",
   "execution_count": 100,
   "metadata": {},
   "outputs": [
    {
     "data": {
      "text/plain": [
       "0     2020-W11\n",
       "1     2020-W12\n",
       "2     2020-W13\n",
       "3     2020-W14\n",
       "4     2020-W15\n",
       "5     2020-W16\n",
       "6     2020-W17\n",
       "7     2020-W18\n",
       "8     2020-W19\n",
       "9     2020-W20\n",
       "10    2020-W21\n",
       "11    2020-W22\n",
       "12    2020-W23\n",
       "13    2020-W24\n",
       "14    2020-W25\n",
       "15    2020-W26\n",
       "16    2020-W27\n",
       "17    2020-W28\n",
       "18    2020-W29\n",
       "19    2020-W30\n",
       "20    2020-W31\n",
       "21    2020-W32\n",
       "22    2020-W33\n",
       "23    2020-W34\n",
       "24    2020-W35\n",
       "25    2020-W36\n",
       "26    2020-W37\n",
       "27    2020-W38\n",
       "28    2020-W39\n",
       "29    2020-W40\n",
       "30    2020-W41\n",
       "31    2020-W42\n",
       "32    2020-W43\n",
       "33    2020-W44\n",
       "34    2020-W45\n",
       "35    2020-W46\n",
       "36    2020-W47\n",
       "37    2020-W48\n",
       "38    2020-W49\n",
       "39    2020-W50\n",
       "40    2020-W51\n",
       "41    2020-W52\n",
       "42    2020-W53\n",
       "43    2021-W01\n",
       "44    2021-W02\n",
       "45    2021-W03\n",
       "46    2021-W04\n",
       "47    2021-W05\n",
       "48    2021-W06\n",
       "49    2021-W07\n",
       "50    2021-W08\n",
       "51    2021-W09\n",
       "52    2021-W10\n",
       "53    2021-W11\n",
       "54    2021-W12\n",
       "55    2021-W13\n",
       "56    2021-W14\n",
       "57    2021-W15\n",
       "58    2021-W16\n",
       "59    2021-W17\n",
       "60    2021-W18\n",
       "61    2021-W19\n",
       "62    2021-W20\n",
       "63    2021-W21\n",
       "64    2021-W22\n",
       "65    2021-W23\n",
       "66    2021-W24\n",
       "67    2021-W25\n",
       "68    2021-W26\n",
       "69    2021-W27\n",
       "70    2021-W28\n",
       "71    2021-W29\n",
       "72    2021-W30\n",
       "73    2021-W31\n",
       "74    2021-W32\n",
       "75    2021-W33\n",
       "76    2021-W34\n",
       "77    2021-W35\n",
       "78    2021-W36\n",
       "79    2021-W37\n",
       "80    2021-W38\n",
       "81    2021-W39\n",
       "82    2021-W40\n",
       "83    2021-W41\n",
       "84    2021-W42\n",
       "85    2021-W43\n",
       "86    2021-W44\n",
       "87    2021-W45\n",
       "88    2021-W46\n",
       "89    2021-W47\n",
       "90    2021-W48\n",
       "91    2021-W49\n",
       "92    2021-W50\n",
       "93    2021-W51\n",
       "94    2021-W52\n",
       "95    2022-W01\n",
       "dtype: object"
      ]
     },
     "execution_count": 100,
     "metadata": {},
     "output_type": "execute_result"
    }
   ],
   "source": [
    "df\n",
    "\n",
    "# [str(x.År)+str(x.Uge) for x in df]\n",
    "# weekNums = df.Uge.apply(lambda x: f\"{int(x):02d}\")\n",
    "\n",
    "weekNames = df.År.astype(str)+'-W'+df.Uge.apply(lambda x: f\"{int(x):02d}\")\n",
    "# weekNames = df.År.astype(str)+'-'+df.Uge.astype(int).astype(str)\n",
    "# weekNames = 'Uge '+df.Uge.astype(int).astype(str)\n",
    "\n",
    "# weekNames[40:]\n",
    "import datetime\n",
    "# weekDTs = [np.datetime64(datetime.datetime.strptime(d + '-1', \"%Y-W%W-%w\")) for d in weekNames]\n",
    "weekDTs = [np.datetime64(datetime.datetime.strptime(d + '-1', \"%Y-W%W-%w\")) for d in weekNames]\n",
    "df.tail()"
   ]
  },
  {
   "cell_type": "code",
   "execution_count": 99,
   "metadata": {},
   "outputs": [
    {
     "data": {
      "application/vnd.jupyter.widget-view+json": {
       "model_id": "fb0cf51b7b8c4d43b59aad030e547999",
       "version_major": 2,
       "version_minor": 0
      },
      "text/plain": [
       "Canvas(toolbar=Toolbar(toolitems=[('Home', 'Reset original view', 'home', 'home'), ('Back', 'Back to previous …"
      ]
     },
     "metadata": {},
     "output_type": "display_data"
    },
    {
     "data": {
      "text/plain": [
       "(18901.0, 19027.9)"
      ]
     },
     "execution_count": 99,
     "metadata": {},
     "output_type": "execute_result"
    }
   ],
   "source": [
    "fig,ax1 = plt.subplots(tight_layout=True)\n",
    "\n",
    "# ax1.plot(weekDTs,df['Dødsfald blandt bekæftede beboere'])\n",
    "# ax1.plot(weekDTs,df['Bekæftede tilfælde beboere'])\n",
    "# ax1.plot(weekDTs,df['Bekræftede tilfælde blandt beboere med fuld effekt efter primært vaccinationsforløb'])\n",
    "# ax1.plot(weekDTs,df['Bekræftede tilfælde blandt beboere med fuld effekt efter revaccination'])\n",
    "\n",
    "caseTot = df['Bekæftede tilfælde beboere']\n",
    "casePrim = df['Bekræftede tilfælde blandt beboere med fuld effekt efter primært vaccinationsforløb']\n",
    "caseReva = df['Bekræftede tilfælde blandt beboere med fuld effekt efter revaccination']\n",
    "ax1.fill_between(weekDTs,caseTot,color='k',label='Uvaccinerede eller éngangsvaccinerede')\n",
    "# ax1.plot(weekDTs,casePrim)\n",
    "ax1.fill_between(weekDTs,caseReva+casePrim,color='xkcd:violet',label='Primært vaccinationsforløb')\n",
    "ax1.fill_between(weekDTs,caseReva,color='xkcd:green',label='Revaccinerede')\n",
    "\n",
    "ax1.legend(loc='upper left')\n",
    "\n",
    "\n",
    "ax1.xaxis.set_major_formatter(mdates.DateFormatter('%d-%b\\n%Y'))\n",
    "\n",
    "ax1.set_ylim(bottom=0)\n",
    "firstDate = np.datetime64('2021-10-01')\n",
    "# firstDate = np.datetime64('2021-03-01')\n",
    "# lastDate = np.datetime64('2022-03-01')\n",
    "ax1.set_xlim(left=firstDate)\n",
    "\n",
    "# #Tilts the x labels. \n",
    "# for label in ax1.get_xticklabels(which='major'):\n",
    "#     label.set(rotation=40, horizontalalignment='right')"
   ]
  },
  {
   "cell_type": "code",
   "execution_count": 96,
   "metadata": {},
   "outputs": [],
   "source": [
    "# import datetime \n",
    "# weekNames = df.År.astype(str)+'-W'+df.Uge.astype(int).astype(str)\n"
   ]
  }
 ],
 "metadata": {
  "interpreter": {
   "hash": "c031fd63bd977d199cd6020c30a19695eacbb638d100e0b8a5ea53080ed74a9a"
  },
  "kernelspec": {
   "display_name": "Python 3.8.12 64-bit ('main': conda)",
   "language": "python",
   "name": "python3"
  },
  "language_info": {
   "codemirror_mode": {
    "name": "ipython",
    "version": 3
   },
   "file_extension": ".py",
   "mimetype": "text/x-python",
   "name": "python",
   "nbconvert_exporter": "python",
   "pygments_lexer": "ipython3",
   "version": "3.8.12"
  },
  "orig_nbformat": 4
 },
 "nbformat": 4,
 "nbformat_minor": 2
}
