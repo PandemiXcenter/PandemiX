{
 "cells": [
  {
   "cell_type": "code",
   "execution_count": 25,
   "metadata": {},
   "outputs": [
    {
     "name": "stdout",
     "output_type": "stream",
     "text": [
      "saveFigures is set to: True\n",
      "Done loading packages\n"
     ]
    }
   ],
   "source": [
    "# Load packages and settings\n",
    "import numpy as np\n",
    "import pandas as pd\n",
    "pd.set_option('display.max_rows', 500)\n",
    "pd.set_option('display.min_rows', 50)\n",
    "import seaborn as sns\n",
    "\n",
    "\n",
    "import matplotlib.pyplot as plt\n",
    "%matplotlib widget\n",
    "plt.rcParams['figure.figsize'] = (12,8)\n",
    "plt.rcParams[\"image.cmap\"] = \"tab10\"\n",
    "plt.rcParams['axes.prop_cycle'] = plt.cycler(color=plt.cm.tab10.colors)\n",
    "fs_label = 15\n",
    "parameters = {\n",
    "                'axes.labelsize': fs_label,\n",
    "                'axes.titlesize': fs_label+4,\n",
    "                'xtick.labelsize': fs_label,\n",
    "                'ytick.labelsize': fs_label, \n",
    "                'legend.fontsize': fs_label, \n",
    "                'lines.markersize': 10,\n",
    "                'lines.linewidth': 3\n",
    "             }\n",
    "plt.rcParams.update(parameters)\n",
    "%matplotlib widget\n",
    "from matplotlib import cm # Colormaps\n",
    "import matplotlib.colors as colors\n",
    "# cmap = plt.cm.get_cmap('Dark2',len(ageGroups))\n",
    "\n",
    "import locale\n",
    "import matplotlib.dates as mdates\n",
    "locale.setlocale(locale.LC_TIME,\"Danish\")\n",
    "# ax1.xaxis.set_major_formatter(mdates.DateFormatter('%b\\n%Y'))\n",
    "\n",
    "from matplotlib.colors import LinearSegmentedColormap\n",
    "\n",
    "from scipy.stats import binom\n",
    "\n",
    "import os\n",
    "# import csv\n",
    "import math\n",
    "\n",
    "from datetime import date\n",
    "\n",
    "\n",
    "saveFigures = True\n",
    "# saveFigures = False\n",
    "print('saveFigures is set to: '+str(saveFigures))\n",
    "\n",
    "print('Done loading packages')\n",
    "\n",
    "# Define running mean functions\n",
    "def rnMean(data,meanWidth):\n",
    "    return np.convolve(data, np.ones(meanWidth)/meanWidth, mode='valid')\n",
    "def rnTime(t,meanWidth):\n",
    "    return t[math.floor(meanWidth/2):-math.ceil(meanWidth/2)+1]\n",
    "    \n",
    "    \n",
    "# Define paths\n",
    "rootdir_data = os.getcwd() +\"\\\\..\\\\DanskeData\\\\\" \n",
    "\n",
    "path_data = rootdir_data + \"ssi_data\\\\\"\n",
    "path_dash = rootdir_data + \"ssi_dashboard\\\\\"\n",
    "path_vacc = rootdir_data + \"ssi_vacc\\\\\"\n",
    "\n",
    "path_figs = os.getcwd() +\"\\\\..\\\\Figures\\\\\" "
   ]
  },
  {
   "cell_type": "code",
   "execution_count": 26,
   "metadata": {},
   "outputs": [],
   "source": [
    "omdf = pd.read_excel(rootdir_data+'Omikron.xlsx')\n",
    "omdf['Dato'] = pd.to_datetime(omdf['Dato'])\n",
    "omdf['Ratio'] = omdf['AntalOmikron']/omdf['AntalTest']\n",
    "omdf['Perc'] = 100 * omdf['AntalOmikron']/omdf['AntalTest']\n",
    "\n",
    "\n",
    "omdf = omdf.iloc[:-2]"
   ]
  },
  {
   "cell_type": "markdown",
   "metadata": {},
   "source": [
    "# Stan model definition"
   ]
  },
  {
   "cell_type": "code",
   "execution_count": 27,
   "metadata": {},
   "outputs": [],
   "source": [
    "import pystan\n",
    "stan_code = \"\"\"\n",
    "\n",
    "data\n",
    "{ \n",
    "    int<lower=0> N; // Number of data points\n",
    "    int t[N]; // Time in days since start\n",
    "    int n_test[N]; // Number of tests taken among positives\n",
    "    int n_omicron[N]; // Number of tests positive for omicron\n",
    "} \n",
    "parameters\n",
    "{ \n",
    "    real<lower=0,upper=1> theta0; // Real, un-observed freq of omicron among positives at t=0\n",
    "    real<lower=0> W; // Relative fitness of omicron: Rt_omicron/Rt_delta\n",
    "} \n",
    "model\n",
    "{ // Priors\n",
    "    theta0 ~ beta(1,100); \n",
    "    W ~ lognormal(0,2);\n",
    "\n",
    "    // Likelihood\n",
    "    for (i in 1:N) {\n",
    "        real theta; theta = theta0 / ( theta0 + (1-theta0) * pow(W,-t[i]) ); \n",
    "        n_omicron[i] ~ binomial(n_test[i], theta); \n",
    "    } \n",
    "}\n",
    "generated quantities\n",
    "{\n",
    "    real n_omicron_pred[N];\n",
    "    for (i in 1:N){\n",
    "        real theta; theta = theta0 / ( theta0 + (1-theta0) * pow(W,-t[i]) ); \n",
    "        n_omicron_pred[i] = binomial_rng(n_test[i], theta);\n",
    "    }\n",
    "}\n",
    "\n",
    "\"\"\""
   ]
  },
  {
   "cell_type": "code",
   "execution_count": 28,
   "metadata": {},
   "outputs": [
    {
     "name": "stderr",
     "output_type": "stream",
     "text": [
      "INFO:pystan:COMPILING THE C++ CODE FOR MODEL anon_model_ed8f8b09e88e75fbea90f531ebfd5693 NOW.\n"
     ]
    }
   ],
   "source": [
    "sm = pystan.StanModel(model_code=stan_code)"
   ]
  },
  {
   "cell_type": "markdown",
   "metadata": {},
   "source": [
    "# Prepare data"
   ]
  },
  {
   "cell_type": "code",
   "execution_count": 29,
   "metadata": {},
   "outputs": [],
   "source": [
    "# omdfShort = omdf.iloc[:-15]\n",
    "omdfShort = omdf.iloc[6:22] # As Anders' example\n",
    "omdfShort = omdf.iloc[6:17]\n",
    "omdfShort = omdf.iloc[6:19]\n",
    "# omdfShort"
   ]
  },
  {
   "cell_type": "code",
   "execution_count": 30,
   "metadata": {},
   "outputs": [
    {
     "data": {
      "application/vnd.jupyter.widget-view+json": {
       "model_id": "64a93cdb05714f1185cabcd816bd583f",
       "version_major": 2,
       "version_minor": 0
      },
      "text/plain": [
       "Canvas(toolbar=Toolbar(toolitems=[('Home', 'Reset original view', 'home', 'home'), ('Back', 'Back to previous …"
      ]
     },
     "metadata": {},
     "output_type": "display_data"
    }
   ],
   "source": [
    "numVals = len(omdfShort)\n",
    "tRange = np.arange(numVals)\n",
    "n_test = omdfShort.AntalTest.values\n",
    "n_omicron = omdfShort.AntalOmikron.values\n",
    "\n",
    "stan_data = {   \"N\" : numVals,\n",
    "                \"t\" : tRange,\n",
    "                \"n_test\" : n_test,\n",
    "                \"n_omicron\" : n_omicron}\n",
    "\n",
    "fig,(ax1,ax2) = plt.subplots(2,1,figsize=(10,7))\n",
    "ax1.plot(omdfShort.Dato,n_test,'*')\n",
    "ax1.plot(omdfShort.Dato,n_omicron,'*')\n",
    "ax2.plot(omdfShort.Dato,n_omicron/n_test,'*')\n",
    "ax1.xaxis.set_major_formatter(mdates.DateFormatter('%d-%b'))\n",
    "ax2.xaxis.set_major_formatter(mdates.DateFormatter('%d-%b'))"
   ]
  },
  {
   "cell_type": "code",
   "execution_count": 31,
   "metadata": {},
   "outputs": [],
   "source": [
    "# Make fit\n",
    "fit = sm.sampling(data=stan_data,iter=100000)"
   ]
  },
  {
   "cell_type": "code",
   "execution_count": 32,
   "metadata": {},
   "outputs": [
    {
     "data": {
      "text/plain": [
       "OrderedDict([('theta0',\n",
       "              array([0.00237372, 0.0023115 , 0.00245478, ..., 0.00200686, 0.00198735,\n",
       "                     0.00221349])),\n",
       "             ('W',\n",
       "              array([1.41270373, 1.41946691, 1.40997213, ..., 1.43765291, 1.4354235 ,\n",
       "                     1.425059  ])),\n",
       "             ('n_omicron_pred',\n",
       "              array([[ 10.,  12.,  17., ..., 431., 612., 783.],\n",
       "                     [  6.,  13.,  22., ..., 516., 596., 764.],\n",
       "                     [  7.,  12.,  22., ..., 451., 565., 765.],\n",
       "                     ...,\n",
       "                     [  5.,  11.,  15., ..., 470., 575., 800.],\n",
       "                     [  4.,  12.,  15., ..., 428., 604., 779.],\n",
       "                     [  6.,   5.,  28., ..., 479., 571., 781.]])),\n",
       "             ('lp__',\n",
       "              array([-9798.08048664, -9798.72751515, -9798.2723313 , ...,\n",
       "                     -9800.47421082, -9800.74905614, -9798.97124577]))])"
      ]
     },
     "execution_count": 32,
     "metadata": {},
     "output_type": "execute_result"
    }
   ],
   "source": [
    "# fit\n",
    "fit.extract()"
   ]
  },
  {
   "cell_type": "code",
   "execution_count": 33,
   "metadata": {},
   "outputs": [
    {
     "data": {
      "application/vnd.jupyter.widget-view+json": {
       "model_id": "5cf9bc850dc347d18c054b817e5870b1",
       "version_major": 2,
       "version_minor": 0
      },
      "text/plain": [
       "Canvas(toolbar=Toolbar(toolitems=[('Home', 'Reset original view', 'home', 'home'), ('Back', 'Back to previous …"
      ]
     },
     "metadata": {},
     "output_type": "display_data"
    },
    {
     "data": {
      "application/vnd.jupyter.widget-view+json": {
       "model_id": "d57cb04446c34e5ca04beb17f36f6412",
       "version_major": 2,
       "version_minor": 0
      },
      "text/plain": [
       "Canvas(toolbar=Toolbar(toolitems=[('Home', 'Reset original view', 'home', 'home'), ('Back', 'Back to previous …"
      ]
     },
     "metadata": {},
     "output_type": "display_data"
    },
    {
     "data": {
      "text/plain": [
       "(0.0, 1.05)"
      ]
     },
     "execution_count": 33,
     "metadata": {},
     "output_type": "execute_result"
    }
   ],
   "source": [
    "# Check chains\n",
    "curChains = fit.extract(permuted=True)\n",
    "theta0s = curChains['theta0']\n",
    "Ws = curChains['W']\n",
    "\n",
    "fig,(ax1,ax2) = plt.subplots(2,1)\n",
    "ax1.plot(theta0s,'k',linewidth=0.25)\n",
    "ax2.plot(Ws,'k',linewidth=0.25)\n",
    "\n",
    "fig,(ax1,ax2) = plt.subplots(1,2)\n",
    "curHist=np.histogram(theta0s,40,density=True)\n",
    "ax1.plot(curHist[1][1:],curHist[0]/np.max(curHist[0]))\n",
    "curToShow = np.median(theta0s)\n",
    "ax1.plot([curToShow,curToShow],[0,1],'k')\n",
    "curToShow = np.quantile(theta0s,0.95)\n",
    "ax1.plot([curToShow,curToShow],[0,1],'grey')\n",
    "curToShow = np.quantile(theta0s,0.05)\n",
    "ax1.plot([curToShow,curToShow],[0,1],'grey')\n",
    "ax1.set_ylim(bottom=0)\n",
    "\n",
    "curHist=np.histogram(Ws,40,density=True)\n",
    "ax2.plot(curHist[1][1:],curHist[0]/np.max(curHist[0]))\n",
    "curToShow = np.median(Ws)\n",
    "ax2.plot([curToShow,curToShow],[0,1],'k')\n",
    "curToShow = np.quantile(Ws,0.95)\n",
    "ax2.plot([curToShow,curToShow],[0,1],'grey')\n",
    "curToShow = np.quantile(Ws,0.05)\n",
    "ax2.plot([curToShow,curToShow],[0,1],'grey')\n",
    "ax2.set_ylim(bottom=0)"
   ]
  },
  {
   "cell_type": "code",
   "execution_count": 34,
   "metadata": {},
   "outputs": [],
   "source": [
    "def curModel(t,theta0,W):\n",
    "    theta = theta0 / ( theta0 + (1-theta0) * np.power(W,-t) )\n",
    "    return theta \n"
   ]
  },
  {
   "cell_type": "code",
   "execution_count": 35,
   "metadata": {},
   "outputs": [],
   "source": [
    "# # Test function \n",
    "\n",
    "# theta0Median = np.median(theta0s)\n",
    "# WMedian = np.median(Ws)\n",
    "\n",
    "# plt.figure() \n",
    "# plt.plot(omdfShort.Dato,curModel(tRange,theta0Median,WMedian))\n",
    "# plt.plot(omdfShort.Dato,n_omicron/n_test,'.')"
   ]
  },
  {
   "cell_type": "code",
   "execution_count": 36,
   "metadata": {},
   "outputs": [
    {
     "data": {
      "text/plain": [
       "OrderedDict([('theta0',\n",
       "              array([0.00237372, 0.0023115 , 0.00245478, ..., 0.00200686, 0.00198735,\n",
       "                     0.00221349])),\n",
       "             ('W',\n",
       "              array([1.41270373, 1.41946691, 1.40997213, ..., 1.43765291, 1.4354235 ,\n",
       "                     1.425059  ])),\n",
       "             ('n_omicron_pred',\n",
       "              array([[ 10.,  12.,  17., ..., 431., 612., 783.],\n",
       "                     [  6.,  13.,  22., ..., 516., 596., 764.],\n",
       "                     [  7.,  12.,  22., ..., 451., 565., 765.],\n",
       "                     ...,\n",
       "                     [  5.,  11.,  15., ..., 470., 575., 800.],\n",
       "                     [  4.,  12.,  15., ..., 428., 604., 779.],\n",
       "                     [  6.,   5.,  28., ..., 479., 571., 781.]])),\n",
       "             ('lp__',\n",
       "              array([-9798.08048664, -9798.72751515, -9798.2723313 , ...,\n",
       "                     -9800.47421082, -9800.74905614, -9798.97124577]))])"
      ]
     },
     "execution_count": 36,
     "metadata": {},
     "output_type": "execute_result"
    }
   ],
   "source": [
    "# asdf = np.arange(np.timedelta64(30,'D'))\n",
    "fit.extract()"
   ]
  },
  {
   "cell_type": "code",
   "execution_count": 37,
   "metadata": {},
   "outputs": [],
   "source": [
    "# Sample from chain\n",
    "numChainToSample = 500\n",
    "curChains = fit.extract()\n",
    "theta0s = curChains['theta0']\n",
    "Ws = curChains['W']\n",
    "curLen = len(theta0s)\n",
    "\n",
    "posVals = np.arange(curLen)\n",
    "sampleIndices= np.random.choice(posVals,size=(numChainToSample,))\n",
    "\n",
    "maxNumDays = 30\n",
    "tRangePred = np.arange(maxNumDays)\n",
    "tRangePredDates = omdfShort.Dato.values[0] + np.arange(np.timedelta64(maxNumDays,'D'))\n",
    "\n",
    "\n",
    "allYs = []\n",
    "for i in sampleIndices:\n",
    "    cTheta = theta0s[i]\n",
    "    cW = Ws[i]\n",
    "\n",
    "    cY = curModel(tRangePred,cTheta,cW)\n",
    "\n",
    "    allYs.append(cY)\n",
    "allYs = np.array(allYs)\n"
   ]
  },
  {
   "cell_type": "code",
   "execution_count": 38,
   "metadata": {},
   "outputs": [
    {
     "data": {
      "application/vnd.jupyter.widget-view+json": {
       "model_id": "c357ba9ab1dc472a9f25937ae483fa42",
       "version_major": 2,
       "version_minor": 0
      },
      "text/plain": [
       "Canvas(toolbar=Toolbar(toolitems=[('Home', 'Reset original view', 'home', 'home'), ('Back', 'Back to previous …"
      ]
     },
     "metadata": {},
     "output_type": "display_data"
    },
    {
     "data": {
      "text/plain": [
       "<matplotlib.legend.Legend at 0x1e884c12d60>"
      ]
     },
     "execution_count": 38,
     "metadata": {},
     "output_type": "execute_result"
    }
   ],
   "source": [
    "# Plot distribution\n",
    "\n",
    "fig,ax1 = plt.subplots()\n",
    "\n",
    "curP = 0.975\n",
    "# ax1.fill_between(tRangePredDates,100*np.quantile(allYs,curP,axis=0),100*np.quantile(allYs,1-curP,axis=0),color='b',edgecolor='none',alpha=0.2)\n",
    "ax1.fill_between(tRangePredDates,100*np.quantile(allYs,curP,axis=0),100*np.quantile(allYs,1-curP,axis=0),color='xkcd:lightblue',edgecolor='none',label='95% quantiles')\n",
    "curP = 0.95\n",
    "# ax1.fill_between(tRangePredDates,100*np.quantile(allYs,curP,axis=0),100*np.quantile(allYs,1-curP,axis=0),color='b',edgecolor='none',alpha=0.2)\n",
    "ax1.fill_between(tRangePredDates,100*np.quantile(allYs,curP,axis=0),100*np.quantile(allYs,1-curP,axis=0),color='xkcd:cyan',label='90% quantiles')\n",
    "# curP = 0.9\n",
    "# ax1.fill_between(tRangePredDates,100*np.quantile(allYs,curP,axis=0),100*np.quantile(allYs,1-curP,axis=0),color='k',edgecolor='none',alpha=0.2)\n",
    "# curP = 0.75\n",
    "# ax1.fill_between(tRangePredDates,100*np.quantile(allYs,curP,axis=0),100*np.quantile(allYs,1-curP,axis=0),color='k',edgecolor='none',alpha=0.2)\n",
    "ax1.plot(tRangePredDates,100*np.median(allYs,axis=0),'xkcd:darkblue',linewidth=1,label='Median')\n",
    "# ax1.plot(tRange,n_omicron/n_test,'m.',label='Data')\n",
    "ax1.plot(omdf.Dato,100*omdf.Ratio,'m.',label='Data (all)')\n",
    "ax1.plot(omdfShort.Dato,100*n_omicron/n_test,'m*',label='Data (used in fit)')\n",
    "\n",
    "ax1.xaxis.set_major_formatter(mdates.DateFormatter('%d\\n%b'))\n",
    "ax1.set_ylim([0,100])\n",
    "\n",
    "# Draw weekends\n",
    "firstSunday = np.datetime64('2021-01-03')\n",
    "numWeeks = 60\n",
    "for k in range(-numWeeks,numWeeks):\n",
    "    curSunday = firstSunday + np.timedelta64(7*k,'D')\n",
    "    ax1.axvspan(curSunday-np.timedelta64(1,'D')-np.timedelta64(12,'h'),curSunday+np.timedelta64(12,'h'),zorder=-1,facecolor='lightgrey',label=int(k==0)*'Weekend')\n",
    "ax1.set_xlim(left=omdf.Dato[0])\n",
    "ax1.set_xlim(right=np.datetime64('2022-01-15'))\n",
    "\n",
    "ax1.set_yticks(np.arange(0,110,10))\n",
    "ax1.grid(axis='y')\n",
    "\n",
    "ax1.legend()"
   ]
  },
  {
   "cell_type": "code",
   "execution_count": 39,
   "metadata": {},
   "outputs": [
    {
     "data": {
      "application/vnd.jupyter.widget-view+json": {
       "model_id": "75fd05e321f14d0d9c8366e307c3a67b",
       "version_major": 2,
       "version_minor": 0
      },
      "text/plain": [
       "Canvas(toolbar=Toolbar(toolitems=[('Home', 'Reset original view', 'home', 'home'), ('Back', 'Back to previous …"
      ]
     },
     "metadata": {},
     "output_type": "display_data"
    },
    {
     "data": {
      "text/plain": [
       "[<matplotlib.lines.Line2D at 0x1e885421d60>]"
      ]
     },
     "execution_count": 39,
     "metadata": {},
     "output_type": "execute_result"
    }
   ],
   "source": [
    "# # Compare number of predicted Omikron cases\n",
    "# plt.figure()\n",
    "\n",
    "# allOs = []\n",
    "# curChains = fit.extract()\n",
    "# theta0s = curChains['theta0']\n",
    "# for i in sampleIndices:\n",
    "#     allOs.append()\n",
    "\n",
    "#     cY = curModel(tRangePred,cTheta,cW)\n",
    "\n",
    "#     allYs.append(cY)\n",
    "# allYs = np.array(allYs)\n",
    "samples = np.percentile(fit.extract(permuted=True)['n_omicron_pred'], q=[5, 50, 95], axis=0)\n",
    "samples = np.percentile(fit.extract(permuted=True)['n_omicron_pred'], q=[2.5, 50, 97.5], axis=0)\n",
    "\n",
    "fig,ax1 = plt.subplots()\n",
    "# plt.plot(omdfShort.Dato,samples[0])\n",
    "# plt.plot(omdfShort.Dato,samples[1])\n",
    "# plt.plot(omdfShort.Dato,samples[2])\n",
    "# ax1.fill_between(omdfShort.Dato,samples[0],samples[2],color='grey')\n",
    "# ax1.plot(omdfShort.Dato,samples[1],'k')\n",
    "# ax1.plot(omdfShort.Dato,omdfShort.AntalOmikron,'*')\n",
    "ax1.fill_between(omdfShort.Dato,samples[0]/omdfShort.AntalTest,samples[2]/omdfShort.AntalTest,color='grey')\n",
    "curP = 0.975\n",
    "ax1.fill_between(tRangePredDates,np.quantile(allYs,curP,axis=0),np.quantile(allYs,1-curP,axis=0),color='xkcd:lightblue',edgecolor='none',label='95% quantiles')\n",
    "ax1.plot(omdfShort.Dato,samples[1]/omdfShort.AntalTest,'k')\n",
    "ax1.plot(omdfShort.Dato,omdfShort.Ratio,'*')"
   ]
  },
  {
   "cell_type": "code",
   "execution_count": 40,
   "metadata": {},
   "outputs": [
    {
     "data": {
      "text/plain": [
       "Inference for Stan model: anon_model_ed8f8b09e88e75fbea90f531ebfd5693.\n",
       "4 chains, each with iter=100000; warmup=50000; thin=1; \n",
       "post-warmup draws per chain=50000, total post-warmup draws=200000.\n",
       "\n",
       "                     mean se_mean     sd   2.5%    25%    50%    75%  97.5%  n_eff   Rhat\n",
       "theta0             2.4e-3  1.0e-6 2.0e-4 2.0e-3 2.3e-3 2.4e-3 2.5e-3 2.8e-3  38224    1.0\n",
       "W                    1.41  6.1e-5   0.01   1.39    1.4   1.41   1.42   1.43  38330    1.0\n",
       "n_omicron_pred[1]    8.78  7.6e-3   3.05    3.0    7.0    9.0   11.0   15.0 161533    1.0\n",
       "n_omicron_pred[2]   12.18  9.2e-3    3.6    6.0   10.0   12.0   15.0   20.0 154408    1.0\n",
       "n_omicron_pred[3]    21.7    0.01   4.89   13.0   18.0   22.0   25.0   32.0 146957    1.0\n",
       "n_omicron_pred[4]   32.92    0.02   6.05   22.0   29.0   33.0   37.0   45.0 141362    1.0\n",
       "n_omicron_pred[5]   38.11    0.02   6.47   26.0   34.0   38.0   42.0   51.0 142982    1.0\n",
       "n_omicron_pred[6]   53.42    0.02   7.64   39.0   48.0   53.0   58.0   69.0 146309    1.0\n",
       "n_omicron_pred[7]   86.42    0.03   9.74   68.0   80.0   86.0   93.0  106.0 143025    1.0\n",
       "n_omicron_pred[8]  123.73    0.03  11.61  102.0  116.0  124.0  131.0  147.0 155141    1.0\n",
       "n_omicron_pred[9]  163.09    0.03  13.13  138.0  154.0  163.0  172.0  189.0 173530    1.0\n",
       "n_omicron_pred[10] 325.65    0.04  18.82  289.0  313.0  325.0  338.0  363.0 189957    1.0\n",
       "n_omicron_pred[11] 460.05    0.05   22.4  417.0  445.0  460.0  475.0  504.0 200470    1.0\n",
       "n_omicron_pred[12] 569.65    0.06  25.57  520.0  552.0  569.0  587.0  620.0 183527    1.0\n",
       "n_omicron_pred[13] 771.19    0.09  31.81  710.0  750.0  771.0  792.0  834.0 135918    1.0\n",
       "lp__                -9799  4.3e-3   0.99  -9801  -9799  -9798  -9798  -9798  52340    1.0\n",
       "\n",
       "Samples were drawn using NUTS at 13-01-2022 12:20:04.\n",
       "For each parameter, n_eff is a crude measure of effective sample size,\n",
       "and Rhat is the potential scale reduction factor on split chains (at \n",
       "convergence, Rhat=1)."
      ]
     },
     "execution_count": 40,
     "metadata": {},
     "output_type": "execute_result"
    }
   ],
   "source": [
    "fit"
   ]
  },
  {
   "cell_type": "markdown",
   "metadata": {},
   "source": [
    "# Stan tests"
   ]
  },
  {
   "cell_type": "code",
   "execution_count": 16,
   "metadata": {},
   "outputs": [],
   "source": [
    "stanModel = \"\"\"\n",
    "data {\n",
    "int<lower=0> N;\n",
    "vector[N] x;\n",
    "vector[N] y;\n",
    "}\n",
    "parameters {\n",
    "real alpha;\n",
    "real beta;\n",
    "real<lower=0> sigma;\n",
    "}\n",
    "model {\n",
    "y ~ normal(alpha + beta * x, sigma);\n",
    "}\n",
    "\"\"\""
   ]
  },
  {
   "cell_type": "code",
   "execution_count": 17,
   "metadata": {},
   "outputs": [
    {
     "name": "stderr",
     "output_type": "stream",
     "text": [
      "INFO:pystan:COMPILING THE C++ CODE FOR MODEL anon_model_794f50d604c29189cf9b2de560c3c716 NOW.\n"
     ]
    }
   ],
   "source": [
    "# posterior = pystan.build(stanModel,data=stan_data)\n",
    "sm = pystan.StanModel(model_code=stanModel)"
   ]
  },
  {
   "cell_type": "code",
   "execution_count": 18,
   "metadata": {},
   "outputs": [
    {
     "data": {
      "application/vnd.jupyter.widget-view+json": {
       "model_id": "2885caf9f3204386881949a1758668ff",
       "version_major": 2,
       "version_minor": 0
      },
      "text/plain": [
       "Canvas(toolbar=Toolbar(toolitems=[('Home', 'Reset original view', 'home', 'home'), ('Back', 'Back to previous …"
      ]
     },
     "metadata": {},
     "output_type": "display_data"
    }
   ],
   "source": [
    "a = 0.4\n",
    "b = 2.5\n",
    "s = 10\n",
    "\n",
    "# x = np.arange(0,20)\n",
    "numVals = 30\n",
    "x = np.linspace(0,20,numVals)\n",
    "curNoise = np.random.normal(0,s,x.shape)\n",
    "yTrue = a + b * x \n",
    "yNoise = yTrue + curNoise\n",
    "\n",
    "plt.figure(figsize=(10,5))\n",
    "plt.plot(x,yTrue)\n",
    "plt.plot(x,yNoise,'*')\n",
    "plt.show()"
   ]
  },
  {
   "cell_type": "code",
   "execution_count": 19,
   "metadata": {},
   "outputs": [
    {
     "data": {
      "text/plain": [
       "{'N': 30,\n",
       " 'x': array([ 0.        ,  0.68965517,  1.37931034,  2.06896552,  2.75862069,\n",
       "         3.44827586,  4.13793103,  4.82758621,  5.51724138,  6.20689655,\n",
       "         6.89655172,  7.5862069 ,  8.27586207,  8.96551724,  9.65517241,\n",
       "        10.34482759, 11.03448276, 11.72413793, 12.4137931 , 13.10344828,\n",
       "        13.79310345, 14.48275862, 15.17241379, 15.86206897, 16.55172414,\n",
       "        17.24137931, 17.93103448, 18.62068966, 19.31034483, 20.        ]),\n",
       " 'y': array([-2.23355641, -6.80531306, -4.822057  , 15.6112577 , 13.38053394,\n",
       "         1.860066  , 19.20668229,  7.12533352, 22.75300751,  8.8097144 ,\n",
       "        23.50866236, 25.14910418, 25.21550549, -2.12243422, 33.53974572,\n",
       "        22.27101617, 41.69055702, 47.48224304, 13.18639887, 33.80432176,\n",
       "        25.05394216, 37.70628592, 59.0832299 , 42.01063698, 48.4442033 ,\n",
       "        45.60504719, 48.75816042, 44.01435747, 42.00425856, 71.46423039])}"
      ]
     },
     "execution_count": 19,
     "metadata": {},
     "output_type": "execute_result"
    }
   ],
   "source": [
    "stan_data = {   \"N\" : numVals,\n",
    "                \"x\" : x,\n",
    "                \"y\" : yNoise}\n",
    "stan_data"
   ]
  },
  {
   "cell_type": "code",
   "execution_count": 20,
   "metadata": {},
   "outputs": [],
   "source": [
    "fit = sm.sampling(data=stan_data)"
   ]
  },
  {
   "cell_type": "code",
   "execution_count": 21,
   "metadata": {},
   "outputs": [],
   "source": [
    "fit2 = sm.sampling(data=stan_data, iter=10000, chains=4)"
   ]
  },
  {
   "cell_type": "code",
   "execution_count": 22,
   "metadata": {},
   "outputs": [],
   "source": [
    "la = fit2.extract(permuted=True)  # return a dictionary of arrays\n",
    "# mu = la['mu']\n",
    "\n",
    "## return an array of three dimensions: iterations, chains, parameters\n",
    "a = fit2.extract(permuted=False)"
   ]
  },
  {
   "cell_type": "code",
   "execution_count": 23,
   "metadata": {},
   "outputs": [
    {
     "data": {
      "application/vnd.jupyter.widget-view+json": {
       "model_id": "68906d8592e4422cbe0f11d829f2831d",
       "version_major": 2,
       "version_minor": 0
      },
      "text/plain": [
       "Canvas(toolbar=Toolbar(toolitems=[('Home', 'Reset original view', 'home', 'home'), ('Back', 'Back to previous …"
      ]
     },
     "metadata": {},
     "output_type": "display_data"
    },
    {
     "data": {
      "text/plain": [
       "[<matplotlib.lines.Line2D at 0x1e8853681f0>]"
      ]
     },
     "execution_count": 23,
     "metadata": {},
     "output_type": "execute_result"
    }
   ],
   "source": [
    "# la['alpha']\n",
    "\n",
    "# plt.figure()\n",
    "\n",
    "# plt.plot(la['alpha'])\n",
    "\n",
    "numChainToSample = 5000\n",
    "curLen = len(la['alpha'])\n",
    "# for k in range(numChainToSample):\n",
    "\n",
    "posVals = np.arange(curLen)\n",
    "sampleIndices= np.random.choice(posVals,size=(numChainToSample,))\n",
    "\n",
    "# plt.figure()\n",
    "# for i in sampleIndices:\n",
    "#     cA = la['alpha'][i]\n",
    "#     cB = la['beta'][i]\n",
    "\n",
    "#     cY = cA + cB * x\n",
    "#     plt.plot(x,cY,'k',alpha=0.1)\n",
    "\n",
    "allYs = []\n",
    "for i in sampleIndices:\n",
    "    cA = la['alpha'][i]\n",
    "    cB = la['beta'][i]\n",
    "\n",
    "    cY = cA + cB * x\n",
    "\n",
    "    allYs.append(cY)\n",
    "allYs = np.array(allYs)\n",
    "\n",
    "# np.mean(allYs,axis=0).shape\n",
    "# np.mean(allYs,axis=0)\n",
    "\n",
    "# print(np.quantile(allYs,.50,axis=0))\n",
    "# print(np.median(allYs,axis=0))\n",
    "\n",
    "plt.figure()\n",
    "# plt.plot(x,np.mean(allYs,axis=0),'k')\n",
    "# plt.plot(x,np.median(allYs,axis=0),'k')\n",
    "\n",
    "# plt.plot(x,np.quantile(allYs,0.9,axis=0),color='grey')\n",
    "# plt.plot(x,np.quantile(allYs,1-0.9,axis=0),color='grey')\n",
    "\n",
    "curP = 0.99\n",
    "plt.fill_between(x,np.quantile(allYs,curP,axis=0),np.quantile(allYs,1-curP,axis=0),color='k',edgecolor='none',alpha=0.2)\n",
    "curP = 0.95\n",
    "plt.fill_between(x,np.quantile(allYs,curP,axis=0),np.quantile(allYs,1-curP,axis=0),color='k',edgecolor='none',alpha=0.2)\n",
    "curP = 0.9\n",
    "plt.fill_between(x,np.quantile(allYs,curP,axis=0),np.quantile(allYs,1-curP,axis=0),color='k',edgecolor='none',alpha=0.2)\n",
    "curP = 0.75\n",
    "plt.fill_between(x,np.quantile(allYs,curP,axis=0),np.quantile(allYs,1-curP,axis=0),color='k',edgecolor='none',alpha=0.2)\n",
    "plt.plot(x,np.median(allYs,axis=0),'k')\n",
    "plt.plot(x,yTrue,'b*:')\n",
    "plt.plot(x,yNoise,'m.')"
   ]
  },
  {
   "cell_type": "code",
   "execution_count": 24,
   "metadata": {},
   "outputs": [
    {
     "data": {
      "application/vnd.jupyter.widget-view+json": {
       "model_id": "555dd568b5c24b7a93f6b2c19c59667b",
       "version_major": 2,
       "version_minor": 0
      },
      "text/plain": [
       "Canvas(toolbar=Toolbar(toolitems=[('Home', 'Reset original view', 'home', 'home'), ('Back', 'Back to previous …"
      ]
     },
     "metadata": {},
     "output_type": "display_data"
    },
    {
     "data": {
      "text/plain": [
       "[<matplotlib.lines.Line2D at 0x1e885381af0>]"
      ]
     },
     "execution_count": 24,
     "metadata": {},
     "output_type": "execute_result"
    }
   ],
   "source": [
    "# pystan.extract_log_lik(fit2)\n",
    "# pystan.__dict__\n",
    "asdf = fit.extract()['lp__']\n",
    "plt.figure()\n",
    "plt.plot(asdf)"
   ]
  }
 ],
 "metadata": {
  "interpreter": {
   "hash": "c031fd63bd977d199cd6020c30a19695eacbb638d100e0b8a5ea53080ed74a9a"
  },
  "kernelspec": {
   "display_name": "Python 3.8.12 64-bit ('main': conda)",
   "language": "python",
   "name": "python3"
  },
  "language_info": {
   "codemirror_mode": {
    "name": "ipython",
    "version": 3
   },
   "file_extension": ".py",
   "mimetype": "text/x-python",
   "name": "python",
   "nbconvert_exporter": "python",
   "pygments_lexer": "ipython3",
   "version": "3.8.12"
  },
  "orig_nbformat": 4
 },
 "nbformat": 4,
 "nbformat_minor": 2
}
