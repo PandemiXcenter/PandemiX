{
 "cells": [
  {
   "cell_type": "code",
   "execution_count": 1,
   "metadata": {},
   "outputs": [
    {
     "name": "stdout",
     "output_type": "stream",
     "text": [
      "saveFigures is set to: True\n",
      "Done loading packages\n"
     ]
    }
   ],
   "source": [
    "%matplotlib widget\n",
    "# Load packages and settings\n",
    "import numpy as np\n",
    "import pandas as pd\n",
    "pd.set_option('display.max_rows', 500)\n",
    "pd.set_option('display.min_rows', 50)\n",
    "import seaborn as sns\n",
    "\n",
    "\n",
    "import matplotlib.pyplot as plt\n",
    "plt.rcParams['figure.figsize'] = (12,8)\n",
    "plt.rcParams[\"image.cmap\"] = \"tab10\"\n",
    "plt.rcParams['axes.prop_cycle'] = plt.cycler(color=plt.cm.tab10.colors)\n",
    "fs_label = 16\n",
    "parameters = {\n",
    "                'axes.labelsize': fs_label,\n",
    "                'axes.titlesize': fs_label+4,\n",
    "                'xtick.labelsize': fs_label,\n",
    "                'ytick.labelsize': fs_label, \n",
    "                'legend.fontsize': fs_label, \n",
    "                'lines.markersize': 10,\n",
    "                'lines.linewidth': 3\n",
    "             }\n",
    "plt.rcParams.update(parameters)\n",
    "from matplotlib import cm # Colormaps\n",
    "import matplotlib.colors as colors\n",
    "# cmap = plt.cm.get_cmap('Dark2',len(ageGroups))\n",
    "\n",
    "import locale\n",
    "import matplotlib.dates as mdates\n",
    "locale.setlocale(locale.LC_TIME,\"Danish\")\n",
    "# ax1.xaxis.set_major_formatter(mdates.DateFormatter('%b\\n%Y'))\n",
    "# ax1.spines['top'].set_visible(False) \n",
    "\n",
    "import os\n",
    "# import csv\n",
    "import math\n",
    "\n",
    "from datetime import date\n",
    "\n",
    "\n",
    "saveFigures = True\n",
    "# saveFigures = False\n",
    "print('saveFigures is set to: '+str(saveFigures))\n",
    "\n",
    "print('Done loading packages')\n",
    "\n",
    "# Define running mean functions\n",
    "def rnMean(data,meanWidth):\n",
    "    return np.convolve(data, np.ones(meanWidth)/meanWidth, mode='valid')\n",
    "def rnTime(t,meanWidth):\n",
    "    return t[math.floor(meanWidth/2):-math.ceil(meanWidth/2)+1]\n",
    "def rnTime2(t,meanWidth):\n",
    "    return t[meanWidth-1:]"
   ]
  },
  {
   "cell_type": "code",
   "execution_count": 2,
   "metadata": {},
   "outputs": [],
   "source": [
    "# Define paths\n",
    "rootdir_data = os.getcwd() +\"\\\\..\\\\DanskeData\\\\\" \n",
    "\n",
    "path_data = rootdir_data + \"ssi_data\\\\\"\n",
    "path_dash = rootdir_data + \"ssi_dashboard\\\\\"\n",
    "path_vacc = rootdir_data + \"ssi_vacc\\\\\"\n",
    "\n",
    "path_figs = os.getcwd() +\"\\\\..\\\\Figures\\\\\" "
   ]
  },
  {
   "cell_type": "code",
   "execution_count": 3,
   "metadata": {},
   "outputs": [],
   "source": [
    "# Data is (only) in the file from the most recent tuesday. \n",
    "# Should be made smarter, but here hardcoded\n",
    "# tuePath = 'SSI_data_2022-01-04'\n",
    "tuePath = 'SSI_data_2022-01-11'\n",
    "\n",
    "dirPath = path_data + tuePath + '\\\\'\n",
    "\n",
    "df1 = pd.read_csv(dirPath+'gennembrudsinfektioner_table1.csv',delimiter=';')\n",
    "\n",
    "df2_C = pd.read_csv(dirPath+'gennembrudsinfektioner_table2_antal_cases.csv',delimiter=';')\n",
    "df2_H = pd.read_csv(dirPath+'gennembrudsinfektioner_table2_antal_indlagte.csv',delimiter=';')\n",
    "df2_D = pd.read_csv(dirPath+'gennembrudsinfektioner_table2_antal_dode.csv',delimiter=';')\n",
    "df2_R = pd.read_csv(dirPath+'gennembrudsinfektioner_table2_antal_repositive.csv',delimiter=';')\n",
    "df2_Int = pd.read_csv(dirPath+'gennembrudsinfektioner_table2_antal_intensiv.csv',delimiter=';')\n",
    "\n",
    "df3 = pd.read_csv(dirPath+'gennembrudsinfektioner_table2_incidence_alle.csv',delimiter=';',decimal=\",\")\n",
    "df3_C = pd.read_csv(dirPath+'gennembrudsinfektioner_table2_incidence_cases.csv',delimiter=';',decimal=\",\")\n",
    "df3_H = pd.read_csv(dirPath+'gennembrudsinfektioner_table2_incidence_indlagte.csv',delimiter=';',decimal=\",\")\n",
    "df3_D = pd.read_csv(dirPath+'gennembrudsinfektioner_table2_incidence_dode.csv',delimiter=';',decimal=\",\")\n",
    "df3_Int = pd.read_csv(dirPath+'gennembrudsinfektioner_table2_incidence_intensiv.csv',delimiter=';',decimal=\",\")"
   ]
  },
  {
   "cell_type": "code",
   "execution_count": 4,
   "metadata": {},
   "outputs": [
    {
     "data": {
      "text/plain": [
       "array([14, 13, 12, 11, 10,  9,  8,  7,  6,  5,  4,  3,  2,  1,  0, 15],\n",
       "      dtype=int64)"
      ]
     },
     "execution_count": 4,
     "metadata": {},
     "output_type": "execute_result"
    }
   ],
   "source": [
    "# Since order seems to be semi-random, we first need the correct order...\n",
    "# weekNames = df.År.astype(str)+'-W'+df.Uge.apply(lambda x: f\"{int(x):02d}\")\n",
    "\n",
    "import datetime\n",
    "weekDTs = [np.datetime64(datetime.datetime.strptime(d[-4:] + '-W'+d[4:6]+'-1', \"%Y-W%W-%w\")) for d in df1.Ugenummer]\n",
    "\n",
    "curOrder = np.argsort(weekDTs)\n",
    "curOrder"
   ]
  },
  {
   "cell_type": "code",
   "execution_count": 5,
   "metadata": {},
   "outputs": [
    {
     "name": "stdout",
     "output_type": "stream",
     "text": [
      "['0-5' '6-11' '12-15' '16-19' '20-29' '30-39' '40-49' '50-59' '60-64'\n",
      " '65-69' '70-79' '80+' '12+' 'Alle']\n",
      "['Uge 38-2021' 'Uge 39-2021' 'Uge 40-2021' 'Uge 41-2021' 'Uge 42-2021'\n",
      " 'Uge 43-2021' 'Uge 44-2021' 'Uge 45-2021' 'Uge 46-2021' 'Uge 47-2021'\n",
      " 'Uge 48-2021' 'Uge 49-2021' 'Uge 50-2021' 'Uge 51-2021' 'Uge 52-2021'\n",
      " 'Uge 01-2022']\n"
     ]
    }
   ],
   "source": [
    "# df3_C\n",
    "# df2_D\n",
    "        \n",
    "sNone = 'Ingen vaccination'        \n",
    "sOne = 'Første vaccination'  \n",
    "sTwo = 'Anden vaccination'\n",
    "sFull = 'Fuld effekt efter primært forløb'   \n",
    "sReva = 'Fuld effekt efter revaccination'\n",
    "\n",
    "\n",
    "ageGroups = df2_C.Aldersgruppe.values\n",
    "print(ageGroups)\n",
    "# weekNames = df1.Ugenummer\n",
    "weekNames = df1.Ugenummer.values[curOrder]\n",
    "weekNamesShort = [x[4:6] for x in weekNames]\n",
    "wInt = [int(x[4:6]) for x in weekNames]\n",
    "wIntRange = np.arange(len(wInt))\n",
    "\n",
    "allDates = np.array(weekDTs)[curOrder]\n",
    "print(weekNames)"
   ]
  },
  {
   "cell_type": "code",
   "execution_count": 6,
   "metadata": {},
   "outputs": [],
   "source": [
    "# df1.iloc[:,40:50]"
   ]
  },
  {
   "cell_type": "code",
   "execution_count": 7,
   "metadata": {},
   "outputs": [
    {
     "name": "stdout",
     "output_type": "stream",
     "text": [
      "[ 32  38  53  73  90 113 160 145 210 220 222 241 282 315 356 346]\n",
      "[ 54  42  54  75 136 167 192 269 298 302 320 349 369 356 457 392]\n"
     ]
    }
   ],
   "source": [
    "# Make function for gettings particular parts\n",
    "def getTimeSeries(thisdf=df2_C,curStatus='Ingen vaccination',curAge='Alle',weekNames=weekNames):\n",
    "    \n",
    "    agedf = thisdf[thisdf.Aldersgruppe==curAge]\n",
    "    allVals = []\n",
    "    for curWeek in weekNames:\n",
    "        toAdd = agedf[curWeek+'_'+curStatus].values[0]\n",
    "        allVals.append(toAdd)\n",
    "    allVals = np.array(allVals)\n",
    "\n",
    "    return allVals\n",
    "\n",
    "print(getTimeSeries(df2_H,sNone))\n",
    "print(getTimeSeries(df2_H,sFull))"
   ]
  },
  {
   "cell_type": "code",
   "execution_count": 8,
   "metadata": {},
   "outputs": [
    {
     "data": {
      "application/vnd.jupyter.widget-view+json": {
       "model_id": "751622bfd0214bf0bc16a713e7b08dc3",
       "version_major": 2,
       "version_minor": 0
      },
      "text/plain": [
       "Canvas(toolbar=Toolbar(toolitems=[('Home', 'Reset original view', 'home', 'home'), ('Back', 'Back to previous …"
      ]
     },
     "metadata": {},
     "output_type": "display_data"
    },
    {
     "data": {
      "text/plain": [
       "<matplotlib.legend.Legend at 0x2d432621910>"
      ]
     },
     "execution_count": 8,
     "metadata": {},
     "output_type": "execute_result"
    }
   ],
   "source": [
    "# Make a testplot of cases\n",
    "allStatus = [sNone,sOne,sFull,sReva] # Omit \"Two, but not full effect\"\n",
    "# allStatus = [sNone,sOne,sTwo,sFull,sReva] # Everything\n",
    "cmap = plt.cm.get_cmap('Dark2',len(allStatus))\n",
    "import matplotlib.colors\n",
    "cmap = matplotlib.colors.LinearSegmentedColormap.from_list(\"\", [\"red\",\"violet\",\"blue\"],len(allStatus))\n",
    "cmap = matplotlib.colors.LinearSegmentedColormap.from_list(\"\", [\"purple\",\"xkcd:mauve\",\"green\"],len(allStatus))\n",
    "meanWidth = 5\n",
    "\n",
    "# Set what to plot\n",
    "curdf = df2_C\n",
    "sYlabel = 'Tilfælde, antal'\n",
    "# curdf = df2_D \n",
    "# sYlabel = 'Dødsfald, antal'\n",
    "curdf = df3_C\n",
    "sYlabel = 'Tilfælde, per 100.000'\n",
    "# curdf = df3_D \n",
    "# sYlabel = 'Dødsfald per 100.000'\n",
    "# curdf = df3_H \n",
    "# sYlabel = 'Indlæggelser per 100.000'\n",
    "# curdf = df3_Int\n",
    "# sYlabel = 'Intensiv, per 100.000'\n",
    "# curAge = ageGroups[-4]\n",
    "curAge = ageGroups[4]\n",
    "\n",
    "\n",
    "fig,ax1 = plt.subplots()\n",
    "\n",
    "ax1.set_title(curAge)\n",
    "# for curStatus in allStatus:\n",
    "for i in range(len(allStatus)):\n",
    "    curStatus = allStatus[i]\n",
    "    curTimeSeries= getTimeSeries(curdf,curStatus,curAge)\n",
    "\n",
    "    # ax1.plot(wInt,curTimeSeries,label=curStatus)\n",
    "    \n",
    "    # ax1.plot(wInt,curTimeSeries,'.:',linewidth=1,label=curStatus,color=cmap(i))\n",
    "    # ax1.plot(rnTime(wInt,meanWidth),rnMean(curTimeSeries,meanWidth),label=f'{meanWidth} ugers gennemsnit',color=cmap(i))\n",
    "\n",
    "    # ax1.plot(rnTime2(wInt,meanWidth),rnMean(curTimeSeries,meanWidth),label=curStatus,color=cmap(i))\n",
    "    ax1.plot(rnTime2(wIntRange,meanWidth),rnMean(curTimeSeries,meanWidth),label=curStatus,color=cmap(i))\n",
    "sYlabel = sYlabel + f' [{meanWidth} ugers gennemsnit]'\n",
    "\n",
    "ax1.set_ylabel(sYlabel)\n",
    "\n",
    "\n",
    "ax1.set_xticks(wIntRange)\n",
    "ax1.set_xticklabels(weekNamesShort)\n",
    "\n",
    "ax1.legend(loc='upper left')"
   ]
  },
  {
   "cell_type": "code",
   "execution_count": 9,
   "metadata": {},
   "outputs": [
    {
     "data": {
      "application/vnd.jupyter.widget-view+json": {
       "model_id": "4eac566531cc4307b4bcc35531bb8f9b",
       "version_major": 2,
       "version_minor": 0
      },
      "text/plain": [
       "Canvas(toolbar=Toolbar(toolitems=[('Home', 'Reset original view', 'home', 'home'), ('Back', 'Back to previous …"
      ]
     },
     "metadata": {},
     "output_type": "display_data"
    },
    {
     "data": {
      "text/plain": [
       "<matplotlib.legend.Legend at 0x2d42cd4e2e0>"
      ]
     },
     "execution_count": 9,
     "metadata": {},
     "output_type": "execute_result"
    }
   ],
   "source": [
    "# Make a testplot of cases\n",
    "allStatus = [sNone,sOne,sFull,sReva] # Omit \"Two, but not full effect\"\n",
    "# allStatus = [sNone,sOne,sTwo,sFull,sReva] # Everything\n",
    "cmap = plt.cm.get_cmap('Dark2',len(allStatus))\n",
    "import matplotlib.colors\n",
    "cmap = matplotlib.colors.LinearSegmentedColormap.from_list(\"\", [\"red\",\"violet\",\"blue\"],len(allStatus))\n",
    "cmap = matplotlib.colors.LinearSegmentedColormap.from_list(\"\", [\"purple\",\"xkcd:mauve\",\"green\"],len(allStatus))\n",
    "meanWidth = 5\n",
    "\n",
    "# Set what to plot\n",
    "curdf = df2_C\n",
    "sYlabel = 'Tilfælde, antal'\n",
    "# curdf = df2_D \n",
    "# sYlabel = 'Dødsfald, antal'\n",
    "curdf = df3_C\n",
    "sYlabel = 'Tilfælde, per 100.000'\n",
    "# curdf = df3_D \n",
    "# sYlabel = 'Dødsfald per 100.000'\n",
    "# curdf = df3_H \n",
    "# sYlabel = 'Indlæggelser per 100.000'\n",
    "# curdf = df3_Int\n",
    "# sYlabel = 'Intensiv, per 100.000'\n",
    "# curAge = ageGroups[-4]\n",
    "curAge = ageGroups[4]\n",
    "\n",
    "\n",
    "fig,ax1 = plt.subplots()\n",
    "\n",
    "ax1.set_title(curAge)\n",
    "# for curStatus in allStatus:\n",
    "for i in range(len(allStatus)):\n",
    "    curStatus = allStatus[i]\n",
    "    curTimeSeries= getTimeSeries(curdf,curStatus,curAge)\n",
    "\n",
    "    # ax1.plot(wInt,curTimeSeries,label=curStatus)\n",
    "    \n",
    "    # ax1.plot(wInt,curTimeSeries,'.:',linewidth=1,label=curStatus,color=cmap(i))\n",
    "    # ax1.plot(rnTime(wInt,meanWidth),rnMean(curTimeSeries,meanWidth),label=f'{meanWidth} ugers gennemsnit',color=cmap(i))\n",
    "\n",
    "    # ax1.plot(rnTime2(wInt,meanWidth),rnMean(curTimeSeries,meanWidth),label=curStatus,color=cmap(i))\n",
    "    ax1.plot(rnTime2(allDates,meanWidth),rnMean(curTimeSeries,meanWidth),label=curStatus,color=cmap(i))\n",
    "sYlabel = sYlabel + f' [{meanWidth} ugers gennemsnit]'\n",
    "\n",
    "ax1.set_ylabel(sYlabel)\n",
    "\n",
    "\n",
    "# ax1.set_xticks(wIntRange)\n",
    "# ax1.set_xticklabels(weekNamesShort)\n",
    "\n",
    "ax1.legend(loc='upper left')"
   ]
  },
  {
   "cell_type": "code",
   "execution_count": 10,
   "metadata": {},
   "outputs": [
    {
     "data": {
      "application/vnd.jupyter.widget-view+json": {
       "model_id": "f2167d1a8fc04e718d1c6b0c39c1c688",
       "version_major": 2,
       "version_minor": 0
      },
      "text/plain": [
       "Canvas(toolbar=Toolbar(toolitems=[('Home', 'Reset original view', 'home', 'home'), ('Back', 'Back to previous …"
      ]
     },
     "metadata": {},
     "output_type": "display_data"
    },
    {
     "data": {
      "application/vnd.jupyter.widget-view+json": {
       "model_id": "0f4fee802f0749ccb1bad0be3301b31c",
       "version_major": 2,
       "version_minor": 0
      },
      "text/plain": [
       "Canvas(toolbar=Toolbar(toolitems=[('Home', 'Reset original view', 'home', 'home'), ('Back', 'Back to previous …"
      ]
     },
     "metadata": {},
     "output_type": "display_data"
    },
    {
     "data": {
      "application/vnd.jupyter.widget-view+json": {
       "model_id": "af8df9a0cf2a4229bfacdd81dd1d8851",
       "version_major": 2,
       "version_minor": 0
      },
      "text/plain": [
       "Canvas(toolbar=Toolbar(toolitems=[('Home', 'Reset original view', 'home', 'home'), ('Back', 'Back to previous …"
      ]
     },
     "metadata": {},
     "output_type": "display_data"
    },
    {
     "data": {
      "application/vnd.jupyter.widget-view+json": {
       "model_id": "546dc179d87642abb64e26459086794e",
       "version_major": 2,
       "version_minor": 0
      },
      "text/plain": [
       "Canvas(toolbar=Toolbar(toolitems=[('Home', 'Reset original view', 'home', 'home'), ('Back', 'Back to previous …"
      ]
     },
     "metadata": {},
     "output_type": "display_data"
    },
    {
     "data": {
      "application/vnd.jupyter.widget-view+json": {
       "model_id": "45493967ca424f00abb0a1964374bfb1",
       "version_major": 2,
       "version_minor": 0
      },
      "text/plain": [
       "Canvas(toolbar=Toolbar(toolitems=[('Home', 'Reset original view', 'home', 'home'), ('Back', 'Back to previous …"
      ]
     },
     "metadata": {},
     "output_type": "display_data"
    },
    {
     "data": {
      "application/vnd.jupyter.widget-view+json": {
       "model_id": "511548536ee14f44a95b19244efe5e0c",
       "version_major": 2,
       "version_minor": 0
      },
      "text/plain": [
       "Canvas(toolbar=Toolbar(toolitems=[('Home', 'Reset original view', 'home', 'home'), ('Back', 'Back to previous …"
      ]
     },
     "metadata": {},
     "output_type": "display_data"
    },
    {
     "data": {
      "application/vnd.jupyter.widget-view+json": {
       "model_id": "72fac8bb20df4e0ea5b5baf01f3cd42a",
       "version_major": 2,
       "version_minor": 0
      },
      "text/plain": [
       "Canvas(toolbar=Toolbar(toolitems=[('Home', 'Reset original view', 'home', 'home'), ('Back', 'Back to previous …"
      ]
     },
     "metadata": {},
     "output_type": "display_data"
    },
    {
     "data": {
      "application/vnd.jupyter.widget-view+json": {
       "model_id": "f5301fff69b04e729b3f77a31adebe5b",
       "version_major": 2,
       "version_minor": 0
      },
      "text/plain": [
       "Canvas(toolbar=Toolbar(toolitems=[('Home', 'Reset original view', 'home', 'home'), ('Back', 'Back to previous …"
      ]
     },
     "metadata": {},
     "output_type": "display_data"
    },
    {
     "data": {
      "application/vnd.jupyter.widget-view+json": {
       "model_id": "e2ebdaedeabb4968adcd7d0697ea6270",
       "version_major": 2,
       "version_minor": 0
      },
      "text/plain": [
       "Canvas(toolbar=Toolbar(toolitems=[('Home', 'Reset original view', 'home', 'home'), ('Back', 'Back to previous …"
      ]
     },
     "metadata": {},
     "output_type": "display_data"
    },
    {
     "data": {
      "application/vnd.jupyter.widget-view+json": {
       "model_id": "97be3376effb4b1ba4f490ee8c532459",
       "version_major": 2,
       "version_minor": 0
      },
      "text/plain": [
       "Canvas(toolbar=Toolbar(toolitems=[('Home', 'Reset original view', 'home', 'home'), ('Back', 'Back to previous …"
      ]
     },
     "metadata": {},
     "output_type": "display_data"
    },
    {
     "data": {
      "application/vnd.jupyter.widget-view+json": {
       "model_id": "54144e41ebc74be59790aa9e5e066686",
       "version_major": 2,
       "version_minor": 0
      },
      "text/plain": [
       "Canvas(toolbar=Toolbar(toolitems=[('Home', 'Reset original view', 'home', 'home'), ('Back', 'Back to previous …"
      ]
     },
     "metadata": {},
     "output_type": "display_data"
    },
    {
     "data": {
      "application/vnd.jupyter.widget-view+json": {
       "model_id": "d827736cc39946c58a627698be120db9",
       "version_major": 2,
       "version_minor": 0
      },
      "text/plain": [
       "Canvas(toolbar=Toolbar(toolitems=[('Home', 'Reset original view', 'home', 'home'), ('Back', 'Back to previous …"
      ]
     },
     "metadata": {},
     "output_type": "display_data"
    },
    {
     "data": {
      "application/vnd.jupyter.widget-view+json": {
       "model_id": "84099f2fe522418280b2590cdce66b7b",
       "version_major": 2,
       "version_minor": 0
      },
      "text/plain": [
       "Canvas(toolbar=Toolbar(toolitems=[('Home', 'Reset original view', 'home', 'home'), ('Back', 'Back to previous …"
      ]
     },
     "metadata": {},
     "output_type": "display_data"
    },
    {
     "data": {
      "application/vnd.jupyter.widget-view+json": {
       "model_id": "16e25d99ffa54f7b887f8efa165300dd",
       "version_major": 2,
       "version_minor": 0
      },
      "text/plain": [
       "Canvas(toolbar=Toolbar(toolitems=[('Home', 'Reset original view', 'home', 'home'), ('Back', 'Back to previous …"
      ]
     },
     "metadata": {},
     "output_type": "display_data"
    }
   ],
   "source": [
    "\n",
    "# Set what to plot\n",
    "curAge = ageGroups[-3]\n",
    "for curAge in ageGroups:\n",
    "    fig,(ax1,ax2) = plt.subplots(2,1,sharex=True,tight_layout=True)\n",
    "\n",
    "    curdf = df2_C\n",
    "    sYlabel = 'Antal'\n",
    "\n",
    "    ax = ax1 \n",
    "    ax.set_title('Smittetilfælde, '+curAge)\n",
    "    # for curStatus in allStatus:\n",
    "    for i in range(len(allStatus)):\n",
    "        curStatus = allStatus[i]\n",
    "        curTimeSeries= getTimeSeries(curdf,curStatus,curAge)\n",
    "\n",
    "        # ax.plot(rnTime2(wInt,meanWidth),rnMean(curTimeSeries,meanWidth),label=curStatus,color=cmap(i))\n",
    "        ax.plot(rnTime2(wIntRange,meanWidth),rnMean(curTimeSeries,meanWidth),label=curStatus,color=cmap(i))\n",
    "    # sYlabel = sYlabel + f' [{meanWidth} ugers gennemsnit]'\n",
    "\n",
    "    ax.set_ylabel(sYlabel)\n",
    "    ax.legend(loc='upper left')\n",
    "    ax.set_ylim(bottom=0)\n",
    "    ax.spines['top'].set_visible(False) \n",
    "    ax.spines['right'].set_visible(False)\n",
    "    ax.grid(axis='y')\n",
    "\n",
    "\n",
    "    ax.set_xticks(wIntRange)\n",
    "    ax.set_xticklabels(weekNamesShort)\n",
    "\n",
    "    curdf = df3_C\n",
    "    sYlabel = 'Incidens per 100.000'\n",
    "    ax = ax2\n",
    "    for i in range(len(allStatus)):\n",
    "        curStatus = allStatus[i]\n",
    "        curTimeSeries= getTimeSeries(curdf,curStatus,curAge)\n",
    "\n",
    "        # ax.plot(rnTime2(wInt,meanWidth),rnMean(curTimeSeries,meanWidth),label=curStatus,color=cmap(i))\n",
    "        ax.plot(rnTime2(wIntRange,meanWidth),rnMean(curTimeSeries,meanWidth),label=curStatus,color=cmap(i))\n",
    "    # sYlabel = sYlabel + f' [{meanWidth} ugers gennemsnit]'\n",
    "\n",
    "    ax.set_ylabel(sYlabel)\n",
    "    # ax.legend(loc='upper left')\n",
    "    ax.set_ylim(bottom=0)\n",
    "    ax.set_xticks(wIntRange)\n",
    "    ax.set_xticklabels(weekNamesShort)\n",
    "    ax.spines['top'].set_visible(False) \n",
    "    ax.spines['right'].set_visible(False)\n",
    "    ax.grid(axis='y')\n",
    "\n",
    "    ax.set_xlim(left=wIntRange[meanWidth])\n",
    "    ax.set_xlabel('Ugenummer')\n",
    "\n",
    "    if saveFigures:\n",
    "        fig.savefig(path_figs+'Breakthrough/CasesIncidence'+curAge)"
   ]
  },
  {
   "cell_type": "code",
   "execution_count": 11,
   "metadata": {},
   "outputs": [
    {
     "data": {
      "application/vnd.jupyter.widget-view+json": {
       "model_id": "08430a33b9b6434780fb98a3ad0e0189",
       "version_major": 2,
       "version_minor": 0
      },
      "text/plain": [
       "Canvas(toolbar=Toolbar(toolitems=[('Home', 'Reset original view', 'home', 'home'), ('Back', 'Back to previous …"
      ]
     },
     "metadata": {},
     "output_type": "display_data"
    },
    {
     "data": {
      "application/vnd.jupyter.widget-view+json": {
       "model_id": "5b84a62c2ba545b9a21350036acf0b61",
       "version_major": 2,
       "version_minor": 0
      },
      "text/plain": [
       "Canvas(toolbar=Toolbar(toolitems=[('Home', 'Reset original view', 'home', 'home'), ('Back', 'Back to previous …"
      ]
     },
     "metadata": {},
     "output_type": "display_data"
    },
    {
     "data": {
      "application/vnd.jupyter.widget-view+json": {
       "model_id": "bf84e52c3e754d20ab9c3c4636c426a2",
       "version_major": 2,
       "version_minor": 0
      },
      "text/plain": [
       "Canvas(toolbar=Toolbar(toolitems=[('Home', 'Reset original view', 'home', 'home'), ('Back', 'Back to previous …"
      ]
     },
     "metadata": {},
     "output_type": "display_data"
    },
    {
     "data": {
      "application/vnd.jupyter.widget-view+json": {
       "model_id": "51b0dae042c247da8f51c221705dcff8",
       "version_major": 2,
       "version_minor": 0
      },
      "text/plain": [
       "Canvas(toolbar=Toolbar(toolitems=[('Home', 'Reset original view', 'home', 'home'), ('Back', 'Back to previous …"
      ]
     },
     "metadata": {},
     "output_type": "display_data"
    },
    {
     "name": "stderr",
     "output_type": "stream",
     "text": [
      "<ipython-input-11-70da4a5b7095>:6: RuntimeWarning: More than 20 figures have been opened. Figures created through the pyplot interface (`matplotlib.pyplot.figure`) are retained until explicitly closed and may consume too much memory. (To control this warning, see the rcParam `figure.max_open_warning`).\n",
      "  fig,(ax1,ax2) = plt.subplots(2,1,sharex=True,tight_layout=True)\n"
     ]
    },
    {
     "data": {
      "application/vnd.jupyter.widget-view+json": {
       "model_id": "d1006a9259f64c10b6ea71b0a32eae24",
       "version_major": 2,
       "version_minor": 0
      },
      "text/plain": [
       "Canvas(toolbar=Toolbar(toolitems=[('Home', 'Reset original view', 'home', 'home'), ('Back', 'Back to previous …"
      ]
     },
     "metadata": {},
     "output_type": "display_data"
    },
    {
     "data": {
      "application/vnd.jupyter.widget-view+json": {
       "model_id": "c04680bd012f4d3bbc011460773fda4f",
       "version_major": 2,
       "version_minor": 0
      },
      "text/plain": [
       "Canvas(toolbar=Toolbar(toolitems=[('Home', 'Reset original view', 'home', 'home'), ('Back', 'Back to previous …"
      ]
     },
     "metadata": {},
     "output_type": "display_data"
    },
    {
     "data": {
      "application/vnd.jupyter.widget-view+json": {
       "model_id": "6e1c2cb501ae4a76b943ab74b98fd375",
       "version_major": 2,
       "version_minor": 0
      },
      "text/plain": [
       "Canvas(toolbar=Toolbar(toolitems=[('Home', 'Reset original view', 'home', 'home'), ('Back', 'Back to previous …"
      ]
     },
     "metadata": {},
     "output_type": "display_data"
    },
    {
     "data": {
      "application/vnd.jupyter.widget-view+json": {
       "model_id": "41703aa461214aa486add2a4ce4af7b9",
       "version_major": 2,
       "version_minor": 0
      },
      "text/plain": [
       "Canvas(toolbar=Toolbar(toolitems=[('Home', 'Reset original view', 'home', 'home'), ('Back', 'Back to previous …"
      ]
     },
     "metadata": {},
     "output_type": "display_data"
    },
    {
     "data": {
      "application/vnd.jupyter.widget-view+json": {
       "model_id": "070090da30a6480da151160c36b42070",
       "version_major": 2,
       "version_minor": 0
      },
      "text/plain": [
       "Canvas(toolbar=Toolbar(toolitems=[('Home', 'Reset original view', 'home', 'home'), ('Back', 'Back to previous …"
      ]
     },
     "metadata": {},
     "output_type": "display_data"
    },
    {
     "data": {
      "application/vnd.jupyter.widget-view+json": {
       "model_id": "f1f1e8b983e6464d80d8256445d7ba92",
       "version_major": 2,
       "version_minor": 0
      },
      "text/plain": [
       "Canvas(toolbar=Toolbar(toolitems=[('Home', 'Reset original view', 'home', 'home'), ('Back', 'Back to previous …"
      ]
     },
     "metadata": {},
     "output_type": "display_data"
    },
    {
     "data": {
      "application/vnd.jupyter.widget-view+json": {
       "model_id": "fa569a0bdac64f10abd495bdc9ce41ff",
       "version_major": 2,
       "version_minor": 0
      },
      "text/plain": [
       "Canvas(toolbar=Toolbar(toolitems=[('Home', 'Reset original view', 'home', 'home'), ('Back', 'Back to previous …"
      ]
     },
     "metadata": {},
     "output_type": "display_data"
    },
    {
     "data": {
      "application/vnd.jupyter.widget-view+json": {
       "model_id": "f65bab346fd143a897906905bea68598",
       "version_major": 2,
       "version_minor": 0
      },
      "text/plain": [
       "Canvas(toolbar=Toolbar(toolitems=[('Home', 'Reset original view', 'home', 'home'), ('Back', 'Back to previous …"
      ]
     },
     "metadata": {},
     "output_type": "display_data"
    },
    {
     "data": {
      "application/vnd.jupyter.widget-view+json": {
       "model_id": "bceff342bb7b47338c9ff4ee55800fa6",
       "version_major": 2,
       "version_minor": 0
      },
      "text/plain": [
       "Canvas(toolbar=Toolbar(toolitems=[('Home', 'Reset original view', 'home', 'home'), ('Back', 'Back to previous …"
      ]
     },
     "metadata": {},
     "output_type": "display_data"
    },
    {
     "data": {
      "application/vnd.jupyter.widget-view+json": {
       "model_id": "0c66f9cbe55f4bd091f03ea34511cf38",
       "version_major": 2,
       "version_minor": 0
      },
      "text/plain": [
       "Canvas(toolbar=Toolbar(toolitems=[('Home', 'Reset original view', 'home', 'home'), ('Back', 'Back to previous …"
      ]
     },
     "metadata": {},
     "output_type": "display_data"
    }
   ],
   "source": [
    "\n",
    "\n",
    "# Set what to plot\n",
    "# curAge = ageGroups[-3]\n",
    "curAge = ageGroups[4]\n",
    "for curAge in ageGroups:\n",
    "\n",
    "    fig,(ax1,ax2) = plt.subplots(2,1,sharex=True,tight_layout=True)\n",
    "\n",
    "    curdf = df2_C\n",
    "    sYlabel = 'Antal'\n",
    "\n",
    "    ax = ax1 \n",
    "    ax.set_title('Smittetilfælde, '+curAge)\n",
    "\n",
    "\n",
    "    curVals = np.zeros(rnMean(curTimeSeries,meanWidth).shape)\n",
    "    preVals = np.zeros(rnMean(curTimeSeries,meanWidth).shape)\n",
    "    for i in range(len(allStatus)):\n",
    "        curStatus = allStatus[i]\n",
    "        curTimeSeries= getTimeSeries(curdf,curStatus,curAge)\n",
    "\n",
    "        curVals = curVals + rnMean(curTimeSeries,meanWidth)\n",
    "        # ax.plot(rnTime2(wIntRange,meanWidth),curVals,label=curStatus,color=cmap(i))\n",
    "        ax.fill_between(rnTime2(wIntRange,meanWidth),curVals,preVals,label=curStatus,color=cmap(i))\n",
    "        preVals = curVals\n",
    "        \n",
    "\n",
    "    ax.set_ylabel(sYlabel)\n",
    "    ax.legend(loc='upper left')\n",
    "    ax.set_ylim(bottom=0)\n",
    "    ax.spines['top'].set_visible(False) \n",
    "    ax.spines['right'].set_visible(False)\n",
    "    ax.grid(axis='y')\n",
    "\n",
    "\n",
    "    ax.set_xticks(wIntRange)\n",
    "    ax.set_xticklabels(weekNamesShort)\n",
    "\n",
    "\n",
    "    curdf = df2_C\n",
    "    sYlabel = 'Andel [%]'\n",
    "    ax = ax2\n",
    "    totCase = curVals\n",
    "    totCase = curVals/100 # For % \n",
    "    curVals = np.zeros(rnMean(curTimeSeries,meanWidth).shape)\n",
    "    preVals = np.zeros(rnMean(curTimeSeries,meanWidth).shape)\n",
    "    for i in range(len(allStatus)):\n",
    "        curStatus = allStatus[i]\n",
    "        curTimeSeries= getTimeSeries(curdf,curStatus,curAge)\n",
    "\n",
    "        curVals = curVals + rnMean(curTimeSeries,meanWidth)\n",
    "        # ax.plot(rnTime2(wIntRange,meanWidth),curVals,label=curStatus,color=cmap(i))\n",
    "        ax.fill_between(rnTime2(wIntRange,meanWidth),curVals/totCase,preVals/totCase,label=curStatus,color=cmap(i))\n",
    "        preVals = curVals\n",
    "\n",
    "    ax.set_ylabel(sYlabel)\n",
    "    # ax.legend(loc='upper left')\n",
    "    ax.set_ylim(bottom=0)\n",
    "    ax.set_ylim(top=100)\n",
    "    ax.set_xticks(wIntRange)\n",
    "    ax.set_xticklabels(weekNamesShort)\n",
    "    ax.spines['top'].set_visible(False) \n",
    "    ax.spines['right'].set_visible(False)\n",
    "    ax.grid(axis='y')\n",
    "\n",
    "    ax.set_xlim(left=wIntRange[meanWidth])\n",
    "    ax.set_xlabel('Ugenummer')\n",
    "\n",
    "    if saveFigures:\n",
    "        fig.savefig(path_figs+'Breakthrough/CasesStacked'+curAge)"
   ]
  },
  {
   "cell_type": "code",
   "execution_count": 12,
   "metadata": {},
   "outputs": [
    {
     "data": {
      "application/vnd.jupyter.widget-view+json": {
       "model_id": "07b243aafba8496d9b431e1b8d40cf20",
       "version_major": 2,
       "version_minor": 0
      },
      "text/plain": [
       "Canvas(toolbar=Toolbar(toolitems=[('Home', 'Reset original view', 'home', 'home'), ('Back', 'Back to previous …"
      ]
     },
     "metadata": {},
     "output_type": "display_data"
    },
    {
     "data": {
      "application/vnd.jupyter.widget-view+json": {
       "model_id": "13bc11231901491cadc53de59d607380",
       "version_major": 2,
       "version_minor": 0
      },
      "text/plain": [
       "Canvas(toolbar=Toolbar(toolitems=[('Home', 'Reset original view', 'home', 'home'), ('Back', 'Back to previous …"
      ]
     },
     "metadata": {},
     "output_type": "display_data"
    },
    {
     "data": {
      "application/vnd.jupyter.widget-view+json": {
       "model_id": "f253986a0b6d4fd28d61695e16550dc2",
       "version_major": 2,
       "version_minor": 0
      },
      "text/plain": [
       "Canvas(toolbar=Toolbar(toolitems=[('Home', 'Reset original view', 'home', 'home'), ('Back', 'Back to previous …"
      ]
     },
     "metadata": {},
     "output_type": "display_data"
    },
    {
     "data": {
      "application/vnd.jupyter.widget-view+json": {
       "model_id": "b3c6c9ab2203408ea36dbdb916efcda3",
       "version_major": 2,
       "version_minor": 0
      },
      "text/plain": [
       "Canvas(toolbar=Toolbar(toolitems=[('Home', 'Reset original view', 'home', 'home'), ('Back', 'Back to previous …"
      ]
     },
     "metadata": {},
     "output_type": "display_data"
    },
    {
     "data": {
      "application/vnd.jupyter.widget-view+json": {
       "model_id": "bc0373bcf012470c98ee73a8d3b9f166",
       "version_major": 2,
       "version_minor": 0
      },
      "text/plain": [
       "Canvas(toolbar=Toolbar(toolitems=[('Home', 'Reset original view', 'home', 'home'), ('Back', 'Back to previous …"
      ]
     },
     "metadata": {},
     "output_type": "display_data"
    },
    {
     "data": {
      "application/vnd.jupyter.widget-view+json": {
       "model_id": "fc984fd98f0d40739558a4ac752f8a10",
       "version_major": 2,
       "version_minor": 0
      },
      "text/plain": [
       "Canvas(toolbar=Toolbar(toolitems=[('Home', 'Reset original view', 'home', 'home'), ('Back', 'Back to previous …"
      ]
     },
     "metadata": {},
     "output_type": "display_data"
    },
    {
     "data": {
      "application/vnd.jupyter.widget-view+json": {
       "model_id": "61ab7070be3146b88b9a3e088f87136d",
       "version_major": 2,
       "version_minor": 0
      },
      "text/plain": [
       "Canvas(toolbar=Toolbar(toolitems=[('Home', 'Reset original view', 'home', 'home'), ('Back', 'Back to previous …"
      ]
     },
     "metadata": {},
     "output_type": "display_data"
    },
    {
     "data": {
      "application/vnd.jupyter.widget-view+json": {
       "model_id": "7efd22619faa4bb3832fff8e1c11cba2",
       "version_major": 2,
       "version_minor": 0
      },
      "text/plain": [
       "Canvas(toolbar=Toolbar(toolitems=[('Home', 'Reset original view', 'home', 'home'), ('Back', 'Back to previous …"
      ]
     },
     "metadata": {},
     "output_type": "display_data"
    },
    {
     "data": {
      "application/vnd.jupyter.widget-view+json": {
       "model_id": "ad4b6e60e42443abb14b91cb6f2155df",
       "version_major": 2,
       "version_minor": 0
      },
      "text/plain": [
       "Canvas(toolbar=Toolbar(toolitems=[('Home', 'Reset original view', 'home', 'home'), ('Back', 'Back to previous …"
      ]
     },
     "metadata": {},
     "output_type": "display_data"
    },
    {
     "data": {
      "application/vnd.jupyter.widget-view+json": {
       "model_id": "a11df0b0d4104420b7806912d39549fe",
       "version_major": 2,
       "version_minor": 0
      },
      "text/plain": [
       "Canvas(toolbar=Toolbar(toolitems=[('Home', 'Reset original view', 'home', 'home'), ('Back', 'Back to previous …"
      ]
     },
     "metadata": {},
     "output_type": "display_data"
    },
    {
     "data": {
      "application/vnd.jupyter.widget-view+json": {
       "model_id": "70076a8bea76426db55fea63c47f6b4d",
       "version_major": 2,
       "version_minor": 0
      },
      "text/plain": [
       "Canvas(toolbar=Toolbar(toolitems=[('Home', 'Reset original view', 'home', 'home'), ('Back', 'Back to previous …"
      ]
     },
     "metadata": {},
     "output_type": "display_data"
    },
    {
     "data": {
      "application/vnd.jupyter.widget-view+json": {
       "model_id": "2b3ec90323cf41c8a2ee3547089f860a",
       "version_major": 2,
       "version_minor": 0
      },
      "text/plain": [
       "Canvas(toolbar=Toolbar(toolitems=[('Home', 'Reset original view', 'home', 'home'), ('Back', 'Back to previous …"
      ]
     },
     "metadata": {},
     "output_type": "display_data"
    },
    {
     "data": {
      "application/vnd.jupyter.widget-view+json": {
       "model_id": "b70fd8d61c3f406f8834ba9b3ce4371b",
       "version_major": 2,
       "version_minor": 0
      },
      "text/plain": [
       "Canvas(toolbar=Toolbar(toolitems=[('Home', 'Reset original view', 'home', 'home'), ('Back', 'Back to previous …"
      ]
     },
     "metadata": {},
     "output_type": "display_data"
    },
    {
     "data": {
      "application/vnd.jupyter.widget-view+json": {
       "model_id": "f2505d55706745839c7fbd51a10b5cc5",
       "version_major": 2,
       "version_minor": 0
      },
      "text/plain": [
       "Canvas(toolbar=Toolbar(toolitems=[('Home', 'Reset original view', 'home', 'home'), ('Back', 'Back to previous …"
      ]
     },
     "metadata": {},
     "output_type": "display_data"
    }
   ],
   "source": [
    "\n",
    "\n",
    "# Set what to plot\n",
    "curAge = ageGroups[-3]\n",
    "# curAge = ageGroups[4]\n",
    "for curAge in ageGroups:\n",
    "    fig,(ax1,ax2) = plt.subplots(2,1,sharex=True,tight_layout=True) \n",
    "    curdf = df2_H\n",
    "    sYlabel = 'Antal'\n",
    "\n",
    "    ax = ax1 \n",
    "    ax.set_title('Indlæggelser, '+curAge+f' årige, {meanWidth} ugers gennemsnit')\n",
    "    # for curStatus in allStatus:\n",
    "    for i in range(len(allStatus)):\n",
    "        curStatus = allStatus[i]\n",
    "        curTimeSeries= getTimeSeries(curdf,curStatus,curAge)\n",
    "\n",
    "        # ax.plot(rnTime2(wInt,meanWidth),rnMean(curTimeSeries,meanWidth),label=curStatus,color=cmap(i))\n",
    "        ax.plot(rnTime2(wIntRange,meanWidth),rnMean(curTimeSeries,meanWidth),label=curStatus,color=cmap(i))\n",
    "    # sYlabel = sYlabel + f' [{meanWidth} ugers gennemsnit]'\n",
    "\n",
    "    ax.set_ylabel(sYlabel)\n",
    "    ax.legend(loc='upper left')\n",
    "    ax.set_ylim(bottom=0)\n",
    "    ax.set_xticks(wIntRange)\n",
    "    ax.set_xticklabels(weekNamesShort)\n",
    "\n",
    "\n",
    "\n",
    "    curdf = df3_H\n",
    "    sYlabel = 'Per 100.000'\n",
    "    ax = ax2\n",
    "\n",
    "    curVals = np.zeros(rnMean(curTimeSeries,meanWidth).shape)\n",
    "    preVals = np.zeros(rnMean(curTimeSeries,meanWidth).shape)\n",
    "    for i in range(len(allStatus)):\n",
    "        curStatus = allStatus[i]\n",
    "        curTimeSeries= getTimeSeries(curdf,curStatus,curAge)\n",
    "\n",
    "        # curVals = curVals + rnMean(curTimeSeries,meanWidth)\n",
    "        curVals = rnMean(curTimeSeries,meanWidth)\n",
    "        ax.plot(rnTime2(wIntRange,meanWidth),curVals,label=curStatus,color=cmap(i))\n",
    "        # ax.fill_between(rnTime2(wIntRange,meanWidth),curVals,preVals,label=curStatus,color=cmap(i))\n",
    "        # preVals = curVals\n",
    "\n",
    "    # sYlabel = sYlabel + f' [{meanWidth} ugers gennemsnit]'\n",
    "\n",
    "    ax.set_ylabel(sYlabel)\n",
    "    ax.legend(loc='upper left')\n",
    "    ax.set_ylim(bottom=0)\n",
    "    ax.set_xticks(wIntRange)\n",
    "    ax.set_xticklabels(weekNamesShort)\n",
    "\n",
    "    ax.set_xlim(left=wIntRange[meanWidth])\n",
    "    ax.set_xlabel('Ugenummer')\n",
    "    fig.show()\n",
    "\n",
    "    if saveFigures:\n",
    "        fig.savefig(path_figs+'Breakthrough/Admissions'+curAge)"
   ]
  },
  {
   "cell_type": "code",
   "execution_count": 13,
   "metadata": {},
   "outputs": [
    {
     "data": {
      "application/vnd.jupyter.widget-view+json": {
       "model_id": "accbd91f3a094c03b84de2022b5ffced",
       "version_major": 2,
       "version_minor": 0
      },
      "text/plain": [
       "Canvas(toolbar=Toolbar(toolitems=[('Home', 'Reset original view', 'home', 'home'), ('Back', 'Back to previous …"
      ]
     },
     "metadata": {},
     "output_type": "display_data"
    },
    {
     "data": {
      "application/vnd.jupyter.widget-view+json": {
       "model_id": "5fef4864f42945ba9a4c5a9716cd8e0a",
       "version_major": 2,
       "version_minor": 0
      },
      "text/plain": [
       "Canvas(toolbar=Toolbar(toolitems=[('Home', 'Reset original view', 'home', 'home'), ('Back', 'Back to previous …"
      ]
     },
     "metadata": {},
     "output_type": "display_data"
    },
    {
     "data": {
      "application/vnd.jupyter.widget-view+json": {
       "model_id": "54009ae7610442ceb769f18323434f89",
       "version_major": 2,
       "version_minor": 0
      },
      "text/plain": [
       "Canvas(toolbar=Toolbar(toolitems=[('Home', 'Reset original view', 'home', 'home'), ('Back', 'Back to previous …"
      ]
     },
     "metadata": {},
     "output_type": "display_data"
    },
    {
     "data": {
      "application/vnd.jupyter.widget-view+json": {
       "model_id": "9f1ee3d3e99f4751b7d01fa55093646f",
       "version_major": 2,
       "version_minor": 0
      },
      "text/plain": [
       "Canvas(toolbar=Toolbar(toolitems=[('Home', 'Reset original view', 'home', 'home'), ('Back', 'Back to previous …"
      ]
     },
     "metadata": {},
     "output_type": "display_data"
    },
    {
     "data": {
      "application/vnd.jupyter.widget-view+json": {
       "model_id": "23c2b204f4b746f5988c13590b6ab245",
       "version_major": 2,
       "version_minor": 0
      },
      "text/plain": [
       "Canvas(toolbar=Toolbar(toolitems=[('Home', 'Reset original view', 'home', 'home'), ('Back', 'Back to previous …"
      ]
     },
     "metadata": {},
     "output_type": "display_data"
    },
    {
     "data": {
      "application/vnd.jupyter.widget-view+json": {
       "model_id": "0df0f06d71114a478897077ab7c0784b",
       "version_major": 2,
       "version_minor": 0
      },
      "text/plain": [
       "Canvas(toolbar=Toolbar(toolitems=[('Home', 'Reset original view', 'home', 'home'), ('Back', 'Back to previous …"
      ]
     },
     "metadata": {},
     "output_type": "display_data"
    }
   ],
   "source": [
    "\n",
    "# Set what to plot\n",
    "# curAge = ageGroups[-3]\n",
    "for curAge in ageGroups[-6:]:\n",
    "    fig,(ax1,ax2) = plt.subplots(2,1,sharex=True,tight_layout=True)\n",
    "\n",
    "    curdf = df2_D\n",
    "    sYlabel = 'Antal'\n",
    "\n",
    "    ax = ax1 \n",
    "    ax.set_title('Dødsfald, '+curAge+f' årige, {meanWidth} ugers gennemsnit')\n",
    "    # for curStatus in allStatus:\n",
    "    for i in range(len(allStatus)):\n",
    "        curStatus = allStatus[i]\n",
    "        curTimeSeries= getTimeSeries(curdf,curStatus,curAge)\n",
    "\n",
    "        # ax.plot(rnTime2(wInt,meanWidth),rnMean(curTimeSeries,meanWidth),label=curStatus,color=cmap(i))\n",
    "        ax.plot(rnTime2(wIntRange,meanWidth),rnMean(curTimeSeries,meanWidth),label=curStatus,color=cmap(i))\n",
    "    # sYlabel = sYlabel + f' [{meanWidth} ugers gennemsnit]'\n",
    "\n",
    "    ax.set_ylabel(sYlabel)\n",
    "    ax.legend(loc='upper left')\n",
    "    ax.set_ylim(bottom=0)\n",
    "    ax.set_xticks(wIntRange)\n",
    "    ax.set_xticklabels(weekNamesShort)\n",
    "\n",
    "\n",
    "\n",
    "    curdf = df3_D\n",
    "    sYlabel = 'Per 100.000'\n",
    "    ax = ax2\n",
    "    for i in range(len(allStatus)):\n",
    "        curStatus = allStatus[i]\n",
    "        curTimeSeries= getTimeSeries(curdf,curStatus,curAge)\n",
    "\n",
    "        # ax.plot(rnTime2(wInt,meanWidth),rnMean(curTimeSeries,meanWidth),label=curStatus,color=cmap(i))\n",
    "        ax.plot(rnTime2(wIntRange,meanWidth),rnMean(curTimeSeries,meanWidth),label=curStatus,color=cmap(i))\n",
    "    # sYlabel = sYlabel + f' [{meanWidth} ugers gennemsnit]'\n",
    "\n",
    "    ax.set_ylabel(sYlabel)\n",
    "    ax.legend(loc='upper left')\n",
    "    ax.set_ylim(bottom=0)\n",
    "    ax.set_xticks(wIntRange)\n",
    "    ax.set_xticklabels(weekNamesShort)\n",
    "\n",
    "    ax.set_xlim(left=wIntRange[meanWidth])\n",
    "    ax.set_xlabel('Ugenummer')\n",
    "\n",
    "    if saveFigures:\n",
    "        fig.savefig(path_figs+'Breakthrough/Deaths'+curAge)"
   ]
  },
  {
   "cell_type": "code",
   "execution_count": 14,
   "metadata": {},
   "outputs": [
    {
     "data": {
      "text/plain": [
       "Index(['Ugenummer', 'antal_personer_alle_Ingen vaccination',\n",
       "       'antal_personer_alle_Første vaccination',\n",
       "       'antal_personer_alle_Anden vaccination',\n",
       "       'antal_personer_alle_Fuld effekt efter primært forløb',\n",
       "       'antal_personer_alle_Fuld effekt efter revaccination',\n",
       "       'antal_personer_Ingen vaccination', 'antal_personer_Første vaccination',\n",
       "       'antal_personer_Anden vaccination',\n",
       "       'antal_personer_Fuld effekt efter primært forløb'],\n",
       "      dtype='object')"
      ]
     },
     "execution_count": 14,
     "metadata": {},
     "output_type": "execute_result"
    }
   ],
   "source": [
    "\n",
    "df1.columns[0:10]"
   ]
  },
  {
   "cell_type": "markdown",
   "metadata": {},
   "source": [
    "# Age-split bargraph"
   ]
  },
  {
   "cell_type": "code",
   "execution_count": 15,
   "metadata": {},
   "outputs": [
    {
     "data": {
      "text/html": [
       "<div>\n",
       "<style scoped>\n",
       "    .dataframe tbody tr th:only-of-type {\n",
       "        vertical-align: middle;\n",
       "    }\n",
       "\n",
       "    .dataframe tbody tr th {\n",
       "        vertical-align: top;\n",
       "    }\n",
       "\n",
       "    .dataframe thead th {\n",
       "        text-align: right;\n",
       "    }\n",
       "</style>\n",
       "<table border=\"1\" class=\"dataframe\">\n",
       "  <thead>\n",
       "    <tr style=\"text-align: right;\">\n",
       "      <th></th>\n",
       "      <th>Uge 01-2022_Ingen vaccination</th>\n",
       "      <th>Uge 01-2022_Første vaccination</th>\n",
       "      <th>Uge 01-2022_Anden vaccination</th>\n",
       "      <th>Uge 01-2022_Fuld effekt efter primært forløb</th>\n",
       "      <th>Uge 01-2022_Fuld effekt efter revaccination</th>\n",
       "    </tr>\n",
       "  </thead>\n",
       "  <tbody>\n",
       "    <tr>\n",
       "      <th>0</th>\n",
       "      <td>79</td>\n",
       "      <td>0</td>\n",
       "      <td>0</td>\n",
       "      <td>0</td>\n",
       "      <td>0</td>\n",
       "    </tr>\n",
       "    <tr>\n",
       "      <th>1</th>\n",
       "      <td>16</td>\n",
       "      <td>4</td>\n",
       "      <td>0</td>\n",
       "      <td>0</td>\n",
       "      <td>0</td>\n",
       "    </tr>\n",
       "    <tr>\n",
       "      <th>2</th>\n",
       "      <td>5</td>\n",
       "      <td>5</td>\n",
       "      <td>11</td>\n",
       "      <td>11</td>\n",
       "      <td>0</td>\n",
       "    </tr>\n",
       "    <tr>\n",
       "      <th>3</th>\n",
       "      <td>5</td>\n",
       "      <td>1</td>\n",
       "      <td>28</td>\n",
       "      <td>25</td>\n",
       "      <td>3</td>\n",
       "    </tr>\n",
       "    <tr>\n",
       "      <th>4</th>\n",
       "      <td>51</td>\n",
       "      <td>7</td>\n",
       "      <td>87</td>\n",
       "      <td>70</td>\n",
       "      <td>14</td>\n",
       "    </tr>\n",
       "    <tr>\n",
       "      <th>5</th>\n",
       "      <td>53</td>\n",
       "      <td>4</td>\n",
       "      <td>78</td>\n",
       "      <td>68</td>\n",
       "      <td>10</td>\n",
       "    </tr>\n",
       "    <tr>\n",
       "      <th>6</th>\n",
       "      <td>21</td>\n",
       "      <td>2</td>\n",
       "      <td>86</td>\n",
       "      <td>67</td>\n",
       "      <td>19</td>\n",
       "    </tr>\n",
       "    <tr>\n",
       "      <th>7</th>\n",
       "      <td>34</td>\n",
       "      <td>2</td>\n",
       "      <td>81</td>\n",
       "      <td>50</td>\n",
       "      <td>30</td>\n",
       "    </tr>\n",
       "    <tr>\n",
       "      <th>8</th>\n",
       "      <td>17</td>\n",
       "      <td>3</td>\n",
       "      <td>47</td>\n",
       "      <td>17</td>\n",
       "      <td>30</td>\n",
       "    </tr>\n",
       "    <tr>\n",
       "      <th>9</th>\n",
       "      <td>11</td>\n",
       "      <td>3</td>\n",
       "      <td>45</td>\n",
       "      <td>24</td>\n",
       "      <td>21</td>\n",
       "    </tr>\n",
       "    <tr>\n",
       "      <th>10</th>\n",
       "      <td>27</td>\n",
       "      <td>2</td>\n",
       "      <td>122</td>\n",
       "      <td>35</td>\n",
       "      <td>87</td>\n",
       "    </tr>\n",
       "    <tr>\n",
       "      <th>11</th>\n",
       "      <td>27</td>\n",
       "      <td>5</td>\n",
       "      <td>135</td>\n",
       "      <td>25</td>\n",
       "      <td>108</td>\n",
       "    </tr>\n",
       "  </tbody>\n",
       "</table>\n",
       "</div>"
      ],
      "text/plain": [
       "    Uge 01-2022_Ingen vaccination  Uge 01-2022_Første vaccination  \\\n",
       "0                              79                               0   \n",
       "1                              16                               4   \n",
       "2                               5                               5   \n",
       "3                               5                               1   \n",
       "4                              51                               7   \n",
       "5                              53                               4   \n",
       "6                              21                               2   \n",
       "7                              34                               2   \n",
       "8                              17                               3   \n",
       "9                              11                               3   \n",
       "10                             27                               2   \n",
       "11                             27                               5   \n",
       "\n",
       "    Uge 01-2022_Anden vaccination  \\\n",
       "0                               0   \n",
       "1                               0   \n",
       "2                              11   \n",
       "3                              28   \n",
       "4                              87   \n",
       "5                              78   \n",
       "6                              86   \n",
       "7                              81   \n",
       "8                              47   \n",
       "9                              45   \n",
       "10                            122   \n",
       "11                            135   \n",
       "\n",
       "    Uge 01-2022_Fuld effekt efter primært forløb  \\\n",
       "0                                              0   \n",
       "1                                              0   \n",
       "2                                             11   \n",
       "3                                             25   \n",
       "4                                             70   \n",
       "5                                             68   \n",
       "6                                             67   \n",
       "7                                             50   \n",
       "8                                             17   \n",
       "9                                             24   \n",
       "10                                            35   \n",
       "11                                            25   \n",
       "\n",
       "    Uge 01-2022_Fuld effekt efter revaccination  \n",
       "0                                             0  \n",
       "1                                             0  \n",
       "2                                             0  \n",
       "3                                             3  \n",
       "4                                            14  \n",
       "5                                            10  \n",
       "6                                            19  \n",
       "7                                            30  \n",
       "8                                            30  \n",
       "9                                            21  \n",
       "10                                           87  \n",
       "11                                          108  "
      ]
     },
     "execution_count": 15,
     "metadata": {},
     "output_type": "execute_result"
    }
   ],
   "source": [
    "df2_H.iloc[:-2,-5:]"
   ]
  },
  {
   "cell_type": "code",
   "execution_count": 22,
   "metadata": {},
   "outputs": [
    {
     "data": {
      "application/vnd.jupyter.widget-view+json": {
       "model_id": "68682249047f4f9d94801948974dbdc9",
       "version_major": 2,
       "version_minor": 0
      },
      "text/plain": [
       "Canvas(toolbar=Toolbar(toolitems=[('Home', 'Reset original view', 'home', 'home'), ('Back', 'Back to previous …"
      ]
     },
     "metadata": {},
     "output_type": "display_data"
    },
    {
     "data": {
      "application/vnd.jupyter.widget-view+json": {
       "model_id": "bdc8e8751e094fd09a4661502820fd3a",
       "version_major": 2,
       "version_minor": 0
      },
      "text/plain": [
       "Canvas(toolbar=Toolbar(toolitems=[('Home', 'Reset original view', 'home', 'home'), ('Back', 'Back to previous …"
      ]
     },
     "metadata": {},
     "output_type": "display_data"
    },
    {
     "data": {
      "application/vnd.jupyter.widget-view+json": {
       "model_id": "0ffe9c13ff0a4e2883e55b47365e0f43",
       "version_major": 2,
       "version_minor": 0
      },
      "text/plain": [
       "Canvas(toolbar=Toolbar(toolitems=[('Home', 'Reset original view', 'home', 'home'), ('Back', 'Back to previous …"
      ]
     },
     "metadata": {},
     "output_type": "display_data"
    },
    {
     "data": {
      "application/vnd.jupyter.widget-view+json": {
       "model_id": "752ac543b0d243efbbf1a8cdfc54e371",
       "version_major": 2,
       "version_minor": 0
      },
      "text/plain": [
       "Canvas(toolbar=Toolbar(toolitems=[('Home', 'Reset original view', 'home', 'home'), ('Back', 'Back to previous …"
      ]
     },
     "metadata": {},
     "output_type": "display_data"
    },
    {
     "data": {
      "application/vnd.jupyter.widget-view+json": {
       "model_id": "22efcacd8705435abb07da5b08497d16",
       "version_major": 2,
       "version_minor": 0
      },
      "text/plain": [
       "Canvas(toolbar=Toolbar(toolitems=[('Home', 'Reset original view', 'home', 'home'), ('Back', 'Back to previous …"
      ]
     },
     "metadata": {},
     "output_type": "display_data"
    },
    {
     "data": {
      "application/vnd.jupyter.widget-view+json": {
       "model_id": "b9dd5b6e915b4898a0ab867ba3f785e0",
       "version_major": 2,
       "version_minor": 0
      },
      "text/plain": [
       "Canvas(toolbar=Toolbar(toolitems=[('Home', 'Reset original view', 'home', 'home'), ('Back', 'Back to previous …"
      ]
     },
     "metadata": {},
     "output_type": "display_data"
    },
    {
     "data": {
      "application/vnd.jupyter.widget-view+json": {
       "model_id": "420f06e8003d4b8f9baa969cbd05a567",
       "version_major": 2,
       "version_minor": 0
      },
      "text/plain": [
       "Canvas(toolbar=Toolbar(toolitems=[('Home', 'Reset original view', 'home', 'home'), ('Back', 'Back to previous …"
      ]
     },
     "metadata": {},
     "output_type": "display_data"
    },
    {
     "data": {
      "application/vnd.jupyter.widget-view+json": {
       "model_id": "5f0539c47b3046b1b43457838b4e7c4f",
       "version_major": 2,
       "version_minor": 0
      },
      "text/plain": [
       "Canvas(toolbar=Toolbar(toolitems=[('Home', 'Reset original view', 'home', 'home'), ('Back', 'Back to previous …"
      ]
     },
     "metadata": {},
     "output_type": "display_data"
    },
    {
     "data": {
      "application/vnd.jupyter.widget-view+json": {
       "model_id": "ad363901a05f4b79a2553d76128ea0db",
       "version_major": 2,
       "version_minor": 0
      },
      "text/plain": [
       "Canvas(toolbar=Toolbar(toolitems=[('Home', 'Reset original view', 'home', 'home'), ('Back', 'Back to previous …"
      ]
     },
     "metadata": {},
     "output_type": "display_data"
    },
    {
     "data": {
      "application/vnd.jupyter.widget-view+json": {
       "model_id": "913a2da485fa446ea5a9667c5e10346d",
       "version_major": 2,
       "version_minor": 0
      },
      "text/plain": [
       "Canvas(toolbar=Toolbar(toolitems=[('Home', 'Reset original view', 'home', 'home'), ('Back', 'Back to previous …"
      ]
     },
     "metadata": {},
     "output_type": "display_data"
    },
    {
     "data": {
      "application/vnd.jupyter.widget-view+json": {
       "model_id": "3f9f5a6b493e48db99fa392ecaef5255",
       "version_major": 2,
       "version_minor": 0
      },
      "text/plain": [
       "Canvas(toolbar=Toolbar(toolitems=[('Home', 'Reset original view', 'home', 'home'), ('Back', 'Back to previous …"
      ]
     },
     "metadata": {},
     "output_type": "display_data"
    },
    {
     "data": {
      "application/vnd.jupyter.widget-view+json": {
       "model_id": "37a63361b7e744bc9101d20123b0fdb2",
       "version_major": 2,
       "version_minor": 0
      },
      "text/plain": [
       "Canvas(toolbar=Toolbar(toolitems=[('Home', 'Reset original view', 'home', 'home'), ('Back', 'Back to previous …"
      ]
     },
     "metadata": {},
     "output_type": "display_data"
    },
    {
     "data": {
      "application/vnd.jupyter.widget-view+json": {
       "model_id": "75d1e436ffa8445c96a24c8fb0649dc2",
       "version_major": 2,
       "version_minor": 0
      },
      "text/plain": [
       "Canvas(toolbar=Toolbar(toolitems=[('Home', 'Reset original view', 'home', 'home'), ('Back', 'Back to previous …"
      ]
     },
     "metadata": {},
     "output_type": "display_data"
    },
    {
     "data": {
      "application/vnd.jupyter.widget-view+json": {
       "model_id": "3fe5127f73fe462fb710aaae149517cc",
       "version_major": 2,
       "version_minor": 0
      },
      "text/plain": [
       "Canvas(toolbar=Toolbar(toolitems=[('Home', 'Reset original view', 'home', 'home'), ('Back', 'Back to previous …"
      ]
     },
     "metadata": {},
     "output_type": "display_data"
    },
    {
     "data": {
      "application/vnd.jupyter.widget-view+json": {
       "model_id": "790b1c7f3ff94cd18e0e86ffb9e43a49",
       "version_major": 2,
       "version_minor": 0
      },
      "text/plain": [
       "Canvas(toolbar=Toolbar(toolitems=[('Home', 'Reset original view', 'home', 'home'), ('Back', 'Back to previous …"
      ]
     },
     "metadata": {},
     "output_type": "display_data"
    },
    {
     "data": {
      "application/vnd.jupyter.widget-view+json": {
       "model_id": "340d11d9686a4527bdfa3dbbbc82dd17",
       "version_major": 2,
       "version_minor": 0
      },
      "text/plain": [
       "Canvas(toolbar=Toolbar(toolitems=[('Home', 'Reset original view', 'home', 'home'), ('Back', 'Back to previous …"
      ]
     },
     "metadata": {},
     "output_type": "display_data"
    }
   ],
   "source": [
    "weekNamesSmart = [x[-4:]+'-W'+x[4:6] for x in weekNames]\n",
    "weekToShow = weekNames[-1]\n",
    "\n",
    "# maxHospCount = df2_H.iloc[:,1:].max().max()\n",
    "# maxHospInci  = df3_H.iloc[:,1:].max().max()\n",
    "\n",
    "for weekToShow in weekNames:\n",
    "    fig,(ax1,ax2) = plt.subplots(2,1,sharex=True,tight_layout=True)\n",
    "\n",
    "    thisdf = df2_H.iloc[:-2]\n",
    "\n",
    "    curAges = thisdf['Aldersgruppe']\n",
    "    curUnva = thisdf[weekToShow+'_Ingen vaccination']\n",
    "    curBoth = thisdf[weekToShow+'_Anden vaccination']\n",
    "    # curBoth = thisdf[weekToShow+'_Fuld effekt efter primært forløb']\n",
    "    # curBoth = thisdf[weekToShow+'_Fuld effekt efter revaccination']\n",
    "\n",
    "    curX = np.arange(len(curAges))\n",
    "    curW = 0.3\n",
    "\n",
    "    ax1.bar(curX-curW/2,curUnva,width=curW,color=cmap(0),label='Uvaccinerede')\n",
    "    ax1.bar(curX+curW/2,curBoth,width=curW,color=cmap(3),label='To vaccinedoser eller mere')\n",
    "\n",
    "    thisdf = df3_H.iloc[:-2]\n",
    "    curAges = thisdf['Aldersgruppe']\n",
    "    curUnva = thisdf[weekToShow+'_Ingen vaccination']\n",
    "    curBoth = thisdf[weekToShow+'_Anden vaccination']\n",
    "    # curBoth = thisdf[weekToShow+'_Fuld effekt efter primært forløb']\n",
    "    # curBoth = thisdf[weekToShow+'_Fuld effekt efter revaccination']\n",
    "    ax2.bar(curX-curW/2,curUnva,width=curW,color=cmap(0))\n",
    "    ax2.bar(curX+curW/2,curBoth,width=curW,color=cmap(3))\n",
    "\n",
    "    ax1.spines['top'].set_visible(False) \n",
    "    ax1.spines['right'].set_visible(False)\n",
    "    ax2.spines['top'].set_visible(False) \n",
    "    ax2.spines['right'].set_visible(False)\n",
    "\n",
    "    ax1.set_axisbelow(True)\n",
    "    ax1.grid(axis='y')\n",
    "    ax2.set_axisbelow(True)\n",
    "    ax2.grid(axis='y')\n",
    "\n",
    "    ax1.set_ylabel('Antal')\n",
    "    ax2.set_ylabel('Incidens per 100.000')\n",
    "\n",
    "    ax1.set_title('Nyindlæggelser, '+weekToShow)\n",
    "    ax1.legend(loc='upper left')\n",
    "\n",
    "    ax1.set_xticks(curX)\n",
    "    ax2.set_xticks(curX)\n",
    "    ax2.set_xticklabels(curAges)\n",
    "\n",
    "    # ax1.set_ylim(top=maxHospCount)\n",
    "    # ax2.set_ylim(top=maxHospInci)\n",
    "\n",
    "    curFileWeek = weekToShow[-4:]+'-W'+weekToShow[4:6] \n",
    "    if saveFigures:\n",
    "        fig.savefig(path_figs+'Breakthrough/UgeOverblik'+curFileWeek)"
   ]
  },
  {
   "cell_type": "code",
   "execution_count": 17,
   "metadata": {},
   "outputs": [
    {
     "data": {
      "text/html": [
       "<div>\n",
       "<style scoped>\n",
       "    .dataframe tbody tr th:only-of-type {\n",
       "        vertical-align: middle;\n",
       "    }\n",
       "\n",
       "    .dataframe tbody tr th {\n",
       "        vertical-align: top;\n",
       "    }\n",
       "\n",
       "    .dataframe thead th {\n",
       "        text-align: right;\n",
       "    }\n",
       "</style>\n",
       "<table border=\"1\" class=\"dataframe\">\n",
       "  <thead>\n",
       "    <tr style=\"text-align: right;\">\n",
       "      <th></th>\n",
       "      <th>Uge 01-2022_Ingen vaccination</th>\n",
       "      <th>Uge 01-2022_Første vaccination</th>\n",
       "      <th>Uge 01-2022_Anden vaccination</th>\n",
       "      <th>Uge 01-2022_Fuld effekt efter primært forløb</th>\n",
       "      <th>Uge 01-2022_Fuld effekt efter revaccination</th>\n",
       "    </tr>\n",
       "  </thead>\n",
       "  <tbody>\n",
       "    <tr>\n",
       "      <th>0</th>\n",
       "      <td>79</td>\n",
       "      <td>0</td>\n",
       "      <td>0</td>\n",
       "      <td>0</td>\n",
       "      <td>0</td>\n",
       "    </tr>\n",
       "    <tr>\n",
       "      <th>1</th>\n",
       "      <td>16</td>\n",
       "      <td>4</td>\n",
       "      <td>0</td>\n",
       "      <td>0</td>\n",
       "      <td>0</td>\n",
       "    </tr>\n",
       "    <tr>\n",
       "      <th>2</th>\n",
       "      <td>5</td>\n",
       "      <td>5</td>\n",
       "      <td>11</td>\n",
       "      <td>11</td>\n",
       "      <td>0</td>\n",
       "    </tr>\n",
       "    <tr>\n",
       "      <th>3</th>\n",
       "      <td>5</td>\n",
       "      <td>1</td>\n",
       "      <td>28</td>\n",
       "      <td>25</td>\n",
       "      <td>3</td>\n",
       "    </tr>\n",
       "    <tr>\n",
       "      <th>4</th>\n",
       "      <td>51</td>\n",
       "      <td>7</td>\n",
       "      <td>87</td>\n",
       "      <td>70</td>\n",
       "      <td>14</td>\n",
       "    </tr>\n",
       "    <tr>\n",
       "      <th>5</th>\n",
       "      <td>53</td>\n",
       "      <td>4</td>\n",
       "      <td>78</td>\n",
       "      <td>68</td>\n",
       "      <td>10</td>\n",
       "    </tr>\n",
       "    <tr>\n",
       "      <th>6</th>\n",
       "      <td>21</td>\n",
       "      <td>2</td>\n",
       "      <td>86</td>\n",
       "      <td>67</td>\n",
       "      <td>19</td>\n",
       "    </tr>\n",
       "    <tr>\n",
       "      <th>7</th>\n",
       "      <td>34</td>\n",
       "      <td>2</td>\n",
       "      <td>81</td>\n",
       "      <td>50</td>\n",
       "      <td>30</td>\n",
       "    </tr>\n",
       "    <tr>\n",
       "      <th>8</th>\n",
       "      <td>17</td>\n",
       "      <td>3</td>\n",
       "      <td>47</td>\n",
       "      <td>17</td>\n",
       "      <td>30</td>\n",
       "    </tr>\n",
       "    <tr>\n",
       "      <th>9</th>\n",
       "      <td>11</td>\n",
       "      <td>3</td>\n",
       "      <td>45</td>\n",
       "      <td>24</td>\n",
       "      <td>21</td>\n",
       "    </tr>\n",
       "    <tr>\n",
       "      <th>10</th>\n",
       "      <td>27</td>\n",
       "      <td>2</td>\n",
       "      <td>122</td>\n",
       "      <td>35</td>\n",
       "      <td>87</td>\n",
       "    </tr>\n",
       "    <tr>\n",
       "      <th>11</th>\n",
       "      <td>27</td>\n",
       "      <td>5</td>\n",
       "      <td>135</td>\n",
       "      <td>25</td>\n",
       "      <td>108</td>\n",
       "    </tr>\n",
       "  </tbody>\n",
       "</table>\n",
       "</div>"
      ],
      "text/plain": [
       "    Uge 01-2022_Ingen vaccination  Uge 01-2022_Første vaccination  \\\n",
       "0                              79                               0   \n",
       "1                              16                               4   \n",
       "2                               5                               5   \n",
       "3                               5                               1   \n",
       "4                              51                               7   \n",
       "5                              53                               4   \n",
       "6                              21                               2   \n",
       "7                              34                               2   \n",
       "8                              17                               3   \n",
       "9                              11                               3   \n",
       "10                             27                               2   \n",
       "11                             27                               5   \n",
       "\n",
       "    Uge 01-2022_Anden vaccination  \\\n",
       "0                               0   \n",
       "1                               0   \n",
       "2                              11   \n",
       "3                              28   \n",
       "4                              87   \n",
       "5                              78   \n",
       "6                              86   \n",
       "7                              81   \n",
       "8                              47   \n",
       "9                              45   \n",
       "10                            122   \n",
       "11                            135   \n",
       "\n",
       "    Uge 01-2022_Fuld effekt efter primært forløb  \\\n",
       "0                                              0   \n",
       "1                                              0   \n",
       "2                                             11   \n",
       "3                                             25   \n",
       "4                                             70   \n",
       "5                                             68   \n",
       "6                                             67   \n",
       "7                                             50   \n",
       "8                                             17   \n",
       "9                                             24   \n",
       "10                                            35   \n",
       "11                                            25   \n",
       "\n",
       "    Uge 01-2022_Fuld effekt efter revaccination  \n",
       "0                                             0  \n",
       "1                                             0  \n",
       "2                                             0  \n",
       "3                                             3  \n",
       "4                                            14  \n",
       "5                                            10  \n",
       "6                                            19  \n",
       "7                                            30  \n",
       "8                                            30  \n",
       "9                                            21  \n",
       "10                                           87  \n",
       "11                                          108  "
      ]
     },
     "metadata": {},
     "output_type": "display_data"
    },
    {
     "data": {
      "text/html": [
       "<div>\n",
       "<style scoped>\n",
       "    .dataframe tbody tr th:only-of-type {\n",
       "        vertical-align: middle;\n",
       "    }\n",
       "\n",
       "    .dataframe tbody tr th {\n",
       "        vertical-align: top;\n",
       "    }\n",
       "\n",
       "    .dataframe thead th {\n",
       "        text-align: right;\n",
       "    }\n",
       "</style>\n",
       "<table border=\"1\" class=\"dataframe\">\n",
       "  <thead>\n",
       "    <tr style=\"text-align: right;\">\n",
       "      <th></th>\n",
       "      <th>Uge 01-2022_Ingen vaccination</th>\n",
       "      <th>Uge 01-2022_Første vaccination</th>\n",
       "      <th>Uge 01-2022_Anden vaccination</th>\n",
       "      <th>Uge 01-2022_Fuld effekt efter primært forløb</th>\n",
       "      <th>Uge 01-2022_Fuld effekt efter revaccination</th>\n",
       "    </tr>\n",
       "  </thead>\n",
       "  <tbody>\n",
       "    <tr>\n",
       "      <th>0</th>\n",
       "      <td>22.4</td>\n",
       "      <td>0.0</td>\n",
       "      <td>0.0</td>\n",
       "      <td>0.0</td>\n",
       "      <td>0.0</td>\n",
       "    </tr>\n",
       "    <tr>\n",
       "      <th>1</th>\n",
       "      <td>10.4</td>\n",
       "      <td>3.4</td>\n",
       "      <td>0.0</td>\n",
       "      <td>0.0</td>\n",
       "      <td>0.0</td>\n",
       "    </tr>\n",
       "    <tr>\n",
       "      <th>2</th>\n",
       "      <td>12.8</td>\n",
       "      <td>43.0</td>\n",
       "      <td>5.4</td>\n",
       "      <td>5.6</td>\n",
       "      <td>0.0</td>\n",
       "    </tr>\n",
       "    <tr>\n",
       "      <th>3</th>\n",
       "      <td>22.6</td>\n",
       "      <td>23.6</td>\n",
       "      <td>13.1</td>\n",
       "      <td>12.0</td>\n",
       "      <td>75.5</td>\n",
       "    </tr>\n",
       "    <tr>\n",
       "      <th>4</th>\n",
       "      <td>45.7</td>\n",
       "      <td>41.0</td>\n",
       "      <td>15.6</td>\n",
       "      <td>14.0</td>\n",
       "      <td>26.7</td>\n",
       "    </tr>\n",
       "    <tr>\n",
       "      <th>5</th>\n",
       "      <td>55.1</td>\n",
       "      <td>28.0</td>\n",
       "      <td>14.8</td>\n",
       "      <td>15.0</td>\n",
       "      <td>14.3</td>\n",
       "    </tr>\n",
       "    <tr>\n",
       "      <th>6</th>\n",
       "      <td>36.0</td>\n",
       "      <td>30.9</td>\n",
       "      <td>14.4</td>\n",
       "      <td>21.0</td>\n",
       "      <td>6.8</td>\n",
       "    </tr>\n",
       "    <tr>\n",
       "      <th>7</th>\n",
       "      <td>78.7</td>\n",
       "      <td>47.7</td>\n",
       "      <td>11.7</td>\n",
       "      <td>19.3</td>\n",
       "      <td>6.9</td>\n",
       "    </tr>\n",
       "    <tr>\n",
       "      <th>8</th>\n",
       "      <td>120.7</td>\n",
       "      <td>229.7</td>\n",
       "      <td>15.0</td>\n",
       "      <td>19.9</td>\n",
       "      <td>13.2</td>\n",
       "    </tr>\n",
       "    <tr>\n",
       "      <th>9</th>\n",
       "      <td>106.0</td>\n",
       "      <td>301.8</td>\n",
       "      <td>15.2</td>\n",
       "      <td>52.2</td>\n",
       "      <td>8.4</td>\n",
       "    </tr>\n",
       "    <tr>\n",
       "      <th>10</th>\n",
       "      <td>191.8</td>\n",
       "      <td>155.8</td>\n",
       "      <td>22.4</td>\n",
       "      <td>97.3</td>\n",
       "      <td>17.1</td>\n",
       "    </tr>\n",
       "    <tr>\n",
       "      <th>11</th>\n",
       "      <td>353.2</td>\n",
       "      <td>554.9</td>\n",
       "      <td>49.9</td>\n",
       "      <td>144.0</td>\n",
       "      <td>42.7</td>\n",
       "    </tr>\n",
       "  </tbody>\n",
       "</table>\n",
       "</div>"
      ],
      "text/plain": [
       "    Uge 01-2022_Ingen vaccination  Uge 01-2022_Første vaccination  \\\n",
       "0                            22.4                             0.0   \n",
       "1                            10.4                             3.4   \n",
       "2                            12.8                            43.0   \n",
       "3                            22.6                            23.6   \n",
       "4                            45.7                            41.0   \n",
       "5                            55.1                            28.0   \n",
       "6                            36.0                            30.9   \n",
       "7                            78.7                            47.7   \n",
       "8                           120.7                           229.7   \n",
       "9                           106.0                           301.8   \n",
       "10                          191.8                           155.8   \n",
       "11                          353.2                           554.9   \n",
       "\n",
       "    Uge 01-2022_Anden vaccination  \\\n",
       "0                             0.0   \n",
       "1                             0.0   \n",
       "2                             5.4   \n",
       "3                            13.1   \n",
       "4                            15.6   \n",
       "5                            14.8   \n",
       "6                            14.4   \n",
       "7                            11.7   \n",
       "8                            15.0   \n",
       "9                            15.2   \n",
       "10                           22.4   \n",
       "11                           49.9   \n",
       "\n",
       "    Uge 01-2022_Fuld effekt efter primært forløb  \\\n",
       "0                                            0.0   \n",
       "1                                            0.0   \n",
       "2                                            5.6   \n",
       "3                                           12.0   \n",
       "4                                           14.0   \n",
       "5                                           15.0   \n",
       "6                                           21.0   \n",
       "7                                           19.3   \n",
       "8                                           19.9   \n",
       "9                                           52.2   \n",
       "10                                          97.3   \n",
       "11                                         144.0   \n",
       "\n",
       "    Uge 01-2022_Fuld effekt efter revaccination  \n",
       "0                                           0.0  \n",
       "1                                           0.0  \n",
       "2                                           0.0  \n",
       "3                                          75.5  \n",
       "4                                          26.7  \n",
       "5                                          14.3  \n",
       "6                                           6.8  \n",
       "7                                           6.9  \n",
       "8                                          13.2  \n",
       "9                                           8.4  \n",
       "10                                         17.1  \n",
       "11                                         42.7  "
      ]
     },
     "metadata": {},
     "output_type": "display_data"
    },
    {
     "data": {
      "text/html": [
       "<div>\n",
       "<style scoped>\n",
       "    .dataframe tbody tr th:only-of-type {\n",
       "        vertical-align: middle;\n",
       "    }\n",
       "\n",
       "    .dataframe tbody tr th {\n",
       "        vertical-align: top;\n",
       "    }\n",
       "\n",
       "    .dataframe thead th {\n",
       "        text-align: right;\n",
       "    }\n",
       "</style>\n",
       "<table border=\"1\" class=\"dataframe\">\n",
       "  <thead>\n",
       "    <tr style=\"text-align: right;\">\n",
       "      <th></th>\n",
       "      <th>Aldersgruppe</th>\n",
       "      <th>Uge 52-2021_Ingen vaccination</th>\n",
       "      <th>Uge 52-2021_Første vaccination</th>\n",
       "      <th>Uge 52-2021_Anden vaccination</th>\n",
       "      <th>Uge 52-2021_Fuld effekt efter primært forløb</th>\n",
       "      <th>Uge 52-2021_Fuld effekt efter revaccination</th>\n",
       "      <th>Uge 51-2021_Ingen vaccination</th>\n",
       "      <th>Uge 51-2021_Første vaccination</th>\n",
       "      <th>Uge 51-2021_Anden vaccination</th>\n",
       "      <th>Uge 51-2021_Fuld effekt efter primært forløb</th>\n",
       "      <th>...</th>\n",
       "      <th>Uge 38-2021_Ingen vaccination</th>\n",
       "      <th>Uge 38-2021_Første vaccination</th>\n",
       "      <th>Uge 38-2021_Anden vaccination</th>\n",
       "      <th>Uge 38-2021_Fuld effekt efter primært forløb</th>\n",
       "      <th>Uge 38-2021_Fuld effekt efter revaccination</th>\n",
       "      <th>Uge 01-2022_Ingen vaccination</th>\n",
       "      <th>Uge 01-2022_Første vaccination</th>\n",
       "      <th>Uge 01-2022_Anden vaccination</th>\n",
       "      <th>Uge 01-2022_Fuld effekt efter primært forløb</th>\n",
       "      <th>Uge 01-2022_Fuld effekt efter revaccination</th>\n",
       "    </tr>\n",
       "  </thead>\n",
       "  <tbody>\n",
       "    <tr>\n",
       "      <th>0</th>\n",
       "      <td>0-5</td>\n",
       "      <td>24.6</td>\n",
       "      <td>7.9</td>\n",
       "      <td>0.0</td>\n",
       "      <td>0.0</td>\n",
       "      <td>0.0</td>\n",
       "      <td>12.2</td>\n",
       "      <td>0.0</td>\n",
       "      <td>0.0</td>\n",
       "      <td>0.0</td>\n",
       "      <td>...</td>\n",
       "      <td>0.5</td>\n",
       "      <td>0.0</td>\n",
       "      <td>0.0</td>\n",
       "      <td>0.0</td>\n",
       "      <td>0.0</td>\n",
       "      <td>22.4</td>\n",
       "      <td>0.0</td>\n",
       "      <td>0.0</td>\n",
       "      <td>0.0</td>\n",
       "      <td>0.0</td>\n",
       "    </tr>\n",
       "    <tr>\n",
       "      <th>1</th>\n",
       "      <td>6-11</td>\n",
       "      <td>7.0</td>\n",
       "      <td>2.9</td>\n",
       "      <td>0.0</td>\n",
       "      <td>0.0</td>\n",
       "      <td>0.0</td>\n",
       "      <td>4.6</td>\n",
       "      <td>1.6</td>\n",
       "      <td>0.0</td>\n",
       "      <td>0.0</td>\n",
       "      <td>...</td>\n",
       "      <td>0.3</td>\n",
       "      <td>0.0</td>\n",
       "      <td>0.0</td>\n",
       "      <td>0.0</td>\n",
       "      <td>0.0</td>\n",
       "      <td>10.4</td>\n",
       "      <td>3.4</td>\n",
       "      <td>0.0</td>\n",
       "      <td>0.0</td>\n",
       "      <td>0.0</td>\n",
       "    </tr>\n",
       "    <tr>\n",
       "      <th>2</th>\n",
       "      <td>12-15</td>\n",
       "      <td>7.3</td>\n",
       "      <td>7.4</td>\n",
       "      <td>2.0</td>\n",
       "      <td>2.1</td>\n",
       "      <td>0.0</td>\n",
       "      <td>9.2</td>\n",
       "      <td>7.1</td>\n",
       "      <td>1.5</td>\n",
       "      <td>1.6</td>\n",
       "      <td>...</td>\n",
       "      <td>0.0</td>\n",
       "      <td>0.0</td>\n",
       "      <td>0.0</td>\n",
       "      <td>0.0</td>\n",
       "      <td>NaN</td>\n",
       "      <td>12.8</td>\n",
       "      <td>43.0</td>\n",
       "      <td>5.4</td>\n",
       "      <td>5.6</td>\n",
       "      <td>0.0</td>\n",
       "    </tr>\n",
       "    <tr>\n",
       "      <th>3</th>\n",
       "      <td>16-19</td>\n",
       "      <td>0.0</td>\n",
       "      <td>41.2</td>\n",
       "      <td>7.9</td>\n",
       "      <td>7.6</td>\n",
       "      <td>53.1</td>\n",
       "      <td>12.6</td>\n",
       "      <td>19.0</td>\n",
       "      <td>5.1</td>\n",
       "      <td>5.2</td>\n",
       "      <td>...</td>\n",
       "      <td>2.9</td>\n",
       "      <td>0.0</td>\n",
       "      <td>0.0</td>\n",
       "      <td>0.0</td>\n",
       "      <td>0.0</td>\n",
       "      <td>22.6</td>\n",
       "      <td>23.6</td>\n",
       "      <td>13.1</td>\n",
       "      <td>12.0</td>\n",
       "      <td>75.5</td>\n",
       "    </tr>\n",
       "    <tr>\n",
       "      <th>4</th>\n",
       "      <td>20-29</td>\n",
       "      <td>47.1</td>\n",
       "      <td>31.5</td>\n",
       "      <td>12.9</td>\n",
       "      <td>12.6</td>\n",
       "      <td>16.3</td>\n",
       "      <td>27.1</td>\n",
       "      <td>34.5</td>\n",
       "      <td>6.7</td>\n",
       "      <td>6.7</td>\n",
       "      <td>...</td>\n",
       "      <td>1.8</td>\n",
       "      <td>0.0</td>\n",
       "      <td>0.6</td>\n",
       "      <td>0.6</td>\n",
       "      <td>0.0</td>\n",
       "      <td>45.7</td>\n",
       "      <td>41.0</td>\n",
       "      <td>15.6</td>\n",
       "      <td>14.0</td>\n",
       "      <td>26.7</td>\n",
       "    </tr>\n",
       "    <tr>\n",
       "      <th>5</th>\n",
       "      <td>30-39</td>\n",
       "      <td>59.9</td>\n",
       "      <td>55.6</td>\n",
       "      <td>17.0</td>\n",
       "      <td>16.0</td>\n",
       "      <td>18.3</td>\n",
       "      <td>45.4</td>\n",
       "      <td>40.4</td>\n",
       "      <td>11.0</td>\n",
       "      <td>9.8</td>\n",
       "      <td>...</td>\n",
       "      <td>4.2</td>\n",
       "      <td>4.0</td>\n",
       "      <td>0.0</td>\n",
       "      <td>0.0</td>\n",
       "      <td>0.0</td>\n",
       "      <td>55.1</td>\n",
       "      <td>28.0</td>\n",
       "      <td>14.8</td>\n",
       "      <td>15.0</td>\n",
       "      <td>14.3</td>\n",
       "    </tr>\n",
       "    <tr>\n",
       "      <th>6</th>\n",
       "      <td>40-49</td>\n",
       "      <td>68.8</td>\n",
       "      <td>81.8</td>\n",
       "      <td>12.5</td>\n",
       "      <td>11.7</td>\n",
       "      <td>18.1</td>\n",
       "      <td>83.4</td>\n",
       "      <td>51.6</td>\n",
       "      <td>7.5</td>\n",
       "      <td>6.9</td>\n",
       "      <td>...</td>\n",
       "      <td>5.0</td>\n",
       "      <td>0.0</td>\n",
       "      <td>0.2</td>\n",
       "      <td>0.2</td>\n",
       "      <td>0.0</td>\n",
       "      <td>36.0</td>\n",
       "      <td>30.9</td>\n",
       "      <td>14.4</td>\n",
       "      <td>21.0</td>\n",
       "      <td>6.8</td>\n",
       "    </tr>\n",
       "    <tr>\n",
       "      <th>7</th>\n",
       "      <td>50-59</td>\n",
       "      <td>79.7</td>\n",
       "      <td>63.9</td>\n",
       "      <td>14.5</td>\n",
       "      <td>14.0</td>\n",
       "      <td>16.4</td>\n",
       "      <td>98.1</td>\n",
       "      <td>0.0</td>\n",
       "      <td>10.4</td>\n",
       "      <td>10.0</td>\n",
       "      <td>...</td>\n",
       "      <td>9.1</td>\n",
       "      <td>0.0</td>\n",
       "      <td>0.4</td>\n",
       "      <td>0.4</td>\n",
       "      <td>0.0</td>\n",
       "      <td>78.7</td>\n",
       "      <td>47.7</td>\n",
       "      <td>11.7</td>\n",
       "      <td>19.3</td>\n",
       "      <td>6.9</td>\n",
       "    </tr>\n",
       "    <tr>\n",
       "      <th>8</th>\n",
       "      <td>60-64</td>\n",
       "      <td>98.2</td>\n",
       "      <td>69.6</td>\n",
       "      <td>16.0</td>\n",
       "      <td>16.0</td>\n",
       "      <td>16.2</td>\n",
       "      <td>103.1</td>\n",
       "      <td>68.7</td>\n",
       "      <td>12.4</td>\n",
       "      <td>12.9</td>\n",
       "      <td>...</td>\n",
       "      <td>11.6</td>\n",
       "      <td>0.0</td>\n",
       "      <td>1.3</td>\n",
       "      <td>1.3</td>\n",
       "      <td>0.0</td>\n",
       "      <td>120.7</td>\n",
       "      <td>229.7</td>\n",
       "      <td>15.0</td>\n",
       "      <td>19.9</td>\n",
       "      <td>13.2</td>\n",
       "    </tr>\n",
       "    <tr>\n",
       "      <th>9</th>\n",
       "      <td>65-69</td>\n",
       "      <td>114.2</td>\n",
       "      <td>292.7</td>\n",
       "      <td>17.4</td>\n",
       "      <td>22.8</td>\n",
       "      <td>13.0</td>\n",
       "      <td>139.8</td>\n",
       "      <td>0.0</td>\n",
       "      <td>13.0</td>\n",
       "      <td>13.5</td>\n",
       "      <td>...</td>\n",
       "      <td>16.0</td>\n",
       "      <td>105.9</td>\n",
       "      <td>0.7</td>\n",
       "      <td>0.7</td>\n",
       "      <td>0.0</td>\n",
       "      <td>106.0</td>\n",
       "      <td>301.8</td>\n",
       "      <td>15.2</td>\n",
       "      <td>52.2</td>\n",
       "      <td>8.4</td>\n",
       "    </tr>\n",
       "    <tr>\n",
       "      <th>10</th>\n",
       "      <td>70-79</td>\n",
       "      <td>189.6</td>\n",
       "      <td>150.3</td>\n",
       "      <td>22.1</td>\n",
       "      <td>50.8</td>\n",
       "      <td>16.9</td>\n",
       "      <td>206.6</td>\n",
       "      <td>77.6</td>\n",
       "      <td>17.6</td>\n",
       "      <td>34.4</td>\n",
       "      <td>...</td>\n",
       "      <td>23.5</td>\n",
       "      <td>0.0</td>\n",
       "      <td>3.1</td>\n",
       "      <td>3.1</td>\n",
       "      <td>0.0</td>\n",
       "      <td>191.8</td>\n",
       "      <td>155.8</td>\n",
       "      <td>22.4</td>\n",
       "      <td>97.3</td>\n",
       "      <td>17.1</td>\n",
       "    </tr>\n",
       "    <tr>\n",
       "      <th>11</th>\n",
       "      <td>80+</td>\n",
       "      <td>141.6</td>\n",
       "      <td>436.2</td>\n",
       "      <td>58.0</td>\n",
       "      <td>179.8</td>\n",
       "      <td>42.5</td>\n",
       "      <td>276.7</td>\n",
       "      <td>341.3</td>\n",
       "      <td>32.9</td>\n",
       "      <td>95.6</td>\n",
       "      <td>...</td>\n",
       "      <td>21.0</td>\n",
       "      <td>0.0</td>\n",
       "      <td>8.8</td>\n",
       "      <td>8.8</td>\n",
       "      <td>0.0</td>\n",
       "      <td>353.2</td>\n",
       "      <td>554.9</td>\n",
       "      <td>49.9</td>\n",
       "      <td>144.0</td>\n",
       "      <td>42.7</td>\n",
       "    </tr>\n",
       "    <tr>\n",
       "      <th>12</th>\n",
       "      <td>12+</td>\n",
       "      <td>59.9</td>\n",
       "      <td>52.6</td>\n",
       "      <td>17.5</td>\n",
       "      <td>15.7</td>\n",
       "      <td>21.2</td>\n",
       "      <td>59.5</td>\n",
       "      <td>33.6</td>\n",
       "      <td>11.6</td>\n",
       "      <td>11.1</td>\n",
       "      <td>...</td>\n",
       "      <td>4.8</td>\n",
       "      <td>2.1</td>\n",
       "      <td>1.3</td>\n",
       "      <td>1.3</td>\n",
       "      <td>0.0</td>\n",
       "      <td>60.3</td>\n",
       "      <td>54.5</td>\n",
       "      <td>17.1</td>\n",
       "      <td>18.5</td>\n",
       "      <td>15.5</td>\n",
       "    </tr>\n",
       "    <tr>\n",
       "      <th>13</th>\n",
       "      <td>Alle</td>\n",
       "      <td>37.2</td>\n",
       "      <td>19.1</td>\n",
       "      <td>17.4</td>\n",
       "      <td>15.7</td>\n",
       "      <td>21.2</td>\n",
       "      <td>31.6</td>\n",
       "      <td>12.9</td>\n",
       "      <td>11.6</td>\n",
       "      <td>11.1</td>\n",
       "      <td>...</td>\n",
       "      <td>2.4</td>\n",
       "      <td>2.1</td>\n",
       "      <td>1.3</td>\n",
       "      <td>1.3</td>\n",
       "      <td>0.0</td>\n",
       "      <td>37.5</td>\n",
       "      <td>19.5</td>\n",
       "      <td>16.9</td>\n",
       "      <td>18.5</td>\n",
       "      <td>15.5</td>\n",
       "    </tr>\n",
       "  </tbody>\n",
       "</table>\n",
       "<p>14 rows × 81 columns</p>\n",
       "</div>"
      ],
      "text/plain": [
       "   Aldersgruppe  Uge 52-2021_Ingen vaccination  \\\n",
       "0           0-5                           24.6   \n",
       "1          6-11                            7.0   \n",
       "2         12-15                            7.3   \n",
       "3         16-19                            0.0   \n",
       "4         20-29                           47.1   \n",
       "5         30-39                           59.9   \n",
       "6         40-49                           68.8   \n",
       "7         50-59                           79.7   \n",
       "8         60-64                           98.2   \n",
       "9         65-69                          114.2   \n",
       "10        70-79                          189.6   \n",
       "11          80+                          141.6   \n",
       "12          12+                           59.9   \n",
       "13         Alle                           37.2   \n",
       "\n",
       "    Uge 52-2021_Første vaccination  Uge 52-2021_Anden vaccination  \\\n",
       "0                              7.9                            0.0   \n",
       "1                              2.9                            0.0   \n",
       "2                              7.4                            2.0   \n",
       "3                             41.2                            7.9   \n",
       "4                             31.5                           12.9   \n",
       "5                             55.6                           17.0   \n",
       "6                             81.8                           12.5   \n",
       "7                             63.9                           14.5   \n",
       "8                             69.6                           16.0   \n",
       "9                            292.7                           17.4   \n",
       "10                           150.3                           22.1   \n",
       "11                           436.2                           58.0   \n",
       "12                            52.6                           17.5   \n",
       "13                            19.1                           17.4   \n",
       "\n",
       "    Uge 52-2021_Fuld effekt efter primært forløb  \\\n",
       "0                                            0.0   \n",
       "1                                            0.0   \n",
       "2                                            2.1   \n",
       "3                                            7.6   \n",
       "4                                           12.6   \n",
       "5                                           16.0   \n",
       "6                                           11.7   \n",
       "7                                           14.0   \n",
       "8                                           16.0   \n",
       "9                                           22.8   \n",
       "10                                          50.8   \n",
       "11                                         179.8   \n",
       "12                                          15.7   \n",
       "13                                          15.7   \n",
       "\n",
       "    Uge 52-2021_Fuld effekt efter revaccination  \\\n",
       "0                                           0.0   \n",
       "1                                           0.0   \n",
       "2                                           0.0   \n",
       "3                                          53.1   \n",
       "4                                          16.3   \n",
       "5                                          18.3   \n",
       "6                                          18.1   \n",
       "7                                          16.4   \n",
       "8                                          16.2   \n",
       "9                                          13.0   \n",
       "10                                         16.9   \n",
       "11                                         42.5   \n",
       "12                                         21.2   \n",
       "13                                         21.2   \n",
       "\n",
       "    Uge 51-2021_Ingen vaccination  Uge 51-2021_Første vaccination  \\\n",
       "0                            12.2                             0.0   \n",
       "1                             4.6                             1.6   \n",
       "2                             9.2                             7.1   \n",
       "3                            12.6                            19.0   \n",
       "4                            27.1                            34.5   \n",
       "5                            45.4                            40.4   \n",
       "6                            83.4                            51.6   \n",
       "7                            98.1                             0.0   \n",
       "8                           103.1                            68.7   \n",
       "9                           139.8                             0.0   \n",
       "10                          206.6                            77.6   \n",
       "11                          276.7                           341.3   \n",
       "12                           59.5                            33.6   \n",
       "13                           31.6                            12.9   \n",
       "\n",
       "    Uge 51-2021_Anden vaccination  \\\n",
       "0                             0.0   \n",
       "1                             0.0   \n",
       "2                             1.5   \n",
       "3                             5.1   \n",
       "4                             6.7   \n",
       "5                            11.0   \n",
       "6                             7.5   \n",
       "7                            10.4   \n",
       "8                            12.4   \n",
       "9                            13.0   \n",
       "10                           17.6   \n",
       "11                           32.9   \n",
       "12                           11.6   \n",
       "13                           11.6   \n",
       "\n",
       "    Uge 51-2021_Fuld effekt efter primært forløb  ...  \\\n",
       "0                                            0.0  ...   \n",
       "1                                            0.0  ...   \n",
       "2                                            1.6  ...   \n",
       "3                                            5.2  ...   \n",
       "4                                            6.7  ...   \n",
       "5                                            9.8  ...   \n",
       "6                                            6.9  ...   \n",
       "7                                           10.0  ...   \n",
       "8                                           12.9  ...   \n",
       "9                                           13.5  ...   \n",
       "10                                          34.4  ...   \n",
       "11                                          95.6  ...   \n",
       "12                                          11.1  ...   \n",
       "13                                          11.1  ...   \n",
       "\n",
       "    Uge 38-2021_Ingen vaccination  Uge 38-2021_Første vaccination  \\\n",
       "0                             0.5                             0.0   \n",
       "1                             0.3                             0.0   \n",
       "2                             0.0                             0.0   \n",
       "3                             2.9                             0.0   \n",
       "4                             1.8                             0.0   \n",
       "5                             4.2                             4.0   \n",
       "6                             5.0                             0.0   \n",
       "7                             9.1                             0.0   \n",
       "8                            11.6                             0.0   \n",
       "9                            16.0                           105.9   \n",
       "10                           23.5                             0.0   \n",
       "11                           21.0                             0.0   \n",
       "12                            4.8                             2.1   \n",
       "13                            2.4                             2.1   \n",
       "\n",
       "    Uge 38-2021_Anden vaccination  \\\n",
       "0                             0.0   \n",
       "1                             0.0   \n",
       "2                             0.0   \n",
       "3                             0.0   \n",
       "4                             0.6   \n",
       "5                             0.0   \n",
       "6                             0.2   \n",
       "7                             0.4   \n",
       "8                             1.3   \n",
       "9                             0.7   \n",
       "10                            3.1   \n",
       "11                            8.8   \n",
       "12                            1.3   \n",
       "13                            1.3   \n",
       "\n",
       "    Uge 38-2021_Fuld effekt efter primært forløb  \\\n",
       "0                                            0.0   \n",
       "1                                            0.0   \n",
       "2                                            0.0   \n",
       "3                                            0.0   \n",
       "4                                            0.6   \n",
       "5                                            0.0   \n",
       "6                                            0.2   \n",
       "7                                            0.4   \n",
       "8                                            1.3   \n",
       "9                                            0.7   \n",
       "10                                           3.1   \n",
       "11                                           8.8   \n",
       "12                                           1.3   \n",
       "13                                           1.3   \n",
       "\n",
       "    Uge 38-2021_Fuld effekt efter revaccination  \\\n",
       "0                                           0.0   \n",
       "1                                           0.0   \n",
       "2                                           NaN   \n",
       "3                                           0.0   \n",
       "4                                           0.0   \n",
       "5                                           0.0   \n",
       "6                                           0.0   \n",
       "7                                           0.0   \n",
       "8                                           0.0   \n",
       "9                                           0.0   \n",
       "10                                          0.0   \n",
       "11                                          0.0   \n",
       "12                                          0.0   \n",
       "13                                          0.0   \n",
       "\n",
       "    Uge 01-2022_Ingen vaccination  Uge 01-2022_Første vaccination  \\\n",
       "0                            22.4                             0.0   \n",
       "1                            10.4                             3.4   \n",
       "2                            12.8                            43.0   \n",
       "3                            22.6                            23.6   \n",
       "4                            45.7                            41.0   \n",
       "5                            55.1                            28.0   \n",
       "6                            36.0                            30.9   \n",
       "7                            78.7                            47.7   \n",
       "8                           120.7                           229.7   \n",
       "9                           106.0                           301.8   \n",
       "10                          191.8                           155.8   \n",
       "11                          353.2                           554.9   \n",
       "12                           60.3                            54.5   \n",
       "13                           37.5                            19.5   \n",
       "\n",
       "    Uge 01-2022_Anden vaccination  \\\n",
       "0                             0.0   \n",
       "1                             0.0   \n",
       "2                             5.4   \n",
       "3                            13.1   \n",
       "4                            15.6   \n",
       "5                            14.8   \n",
       "6                            14.4   \n",
       "7                            11.7   \n",
       "8                            15.0   \n",
       "9                            15.2   \n",
       "10                           22.4   \n",
       "11                           49.9   \n",
       "12                           17.1   \n",
       "13                           16.9   \n",
       "\n",
       "    Uge 01-2022_Fuld effekt efter primært forløb  \\\n",
       "0                                            0.0   \n",
       "1                                            0.0   \n",
       "2                                            5.6   \n",
       "3                                           12.0   \n",
       "4                                           14.0   \n",
       "5                                           15.0   \n",
       "6                                           21.0   \n",
       "7                                           19.3   \n",
       "8                                           19.9   \n",
       "9                                           52.2   \n",
       "10                                          97.3   \n",
       "11                                         144.0   \n",
       "12                                          18.5   \n",
       "13                                          18.5   \n",
       "\n",
       "    Uge 01-2022_Fuld effekt efter revaccination  \n",
       "0                                           0.0  \n",
       "1                                           0.0  \n",
       "2                                           0.0  \n",
       "3                                          75.5  \n",
       "4                                          26.7  \n",
       "5                                          14.3  \n",
       "6                                           6.8  \n",
       "7                                           6.9  \n",
       "8                                          13.2  \n",
       "9                                           8.4  \n",
       "10                                         17.1  \n",
       "11                                         42.7  \n",
       "12                                         15.5  \n",
       "13                                         15.5  \n",
       "\n",
       "[14 rows x 81 columns]"
      ]
     },
     "execution_count": 17,
     "metadata": {},
     "output_type": "execute_result"
    }
   ],
   "source": [
    "display(df2_H.iloc[:-2,-5:])\n",
    "display(df3_H.iloc[:-2,-5:])\n",
    "87+35\n",
    "df3_H"
   ]
  },
  {
   "cell_type": "markdown",
   "metadata": {},
   "source": [
    "# Plot the unvaccinated wave and the vaccinated wave seperate"
   ]
  },
  {
   "cell_type": "code",
   "execution_count": 18,
   "metadata": {},
   "outputs": [
    {
     "data": {
      "application/vnd.jupyter.widget-view+json": {
       "model_id": "90c0b9badec34588a59860fe71159cdd",
       "version_major": 2,
       "version_minor": 0
      },
      "text/plain": [
       "Canvas(toolbar=Toolbar(toolitems=[('Home', 'Reset original view', 'home', 'home'), ('Back', 'Back to previous …"
      ]
     },
     "metadata": {},
     "output_type": "display_data"
    },
    {
     "data": {
      "text/plain": [
       "[<matplotlib.lines.Line2D at 0x2d4599bba00>]"
      ]
     },
     "execution_count": 18,
     "metadata": {},
     "output_type": "execute_result"
    }
   ],
   "source": [
    "\n",
    "# curTimeSeries= getTimeSeries(curdf,curStatus,curAge)\n",
    "# print(df1.columns)\n",
    "fig,ax1 = plt.subplots()\n",
    "\n",
    "\n",
    "toPlot = df1['antal_cases_Ingen vaccination'].values[curOrder]\n",
    "toPlot = df1['antal_cases_Ingen vaccination'].values[curOrder]/df1['antal_personer_Ingen vaccination'].values[curOrder]\n",
    "\n",
    "ax1.plot(allDates,toPlot,'k.:',linewidth=1)\n",
    "ax1.plot(rnTime(allDates,5),rnMean(toPlot,5),'k')\n",
    "\n",
    "toPlot = df1['antal_cases_Anden vaccination'].values[curOrder] \n",
    "toPlot = df1['antal_cases_Anden vaccination'].values[curOrder]/df1['antal_personer_Anden vaccination'].values[curOrder]\n",
    "\n",
    "ax1.plot(allDates,toPlot,'g.:',linewidth=1)\n",
    "ax1.plot(rnTime(allDates,5),rnMean(toPlot,5),'g')"
   ]
  },
  {
   "cell_type": "markdown",
   "metadata": {},
   "source": [
    "# Old tests below"
   ]
  },
  {
   "cell_type": "code",
   "execution_count": 19,
   "metadata": {},
   "outputs": [],
   "source": [
    "# fig,ax1 = plt.subplots()\n",
    "\n",
    "\n",
    "# # allStatus = [sNone,sOne,sTwo,sFull,sReva] # Everything\n",
    "# # for curStatus in allStatus:\n",
    "# #     ax1.plot(weekNamesShort,df1['antal_personer_alle_'+curStatus].values[::-1],label=curStatus)\n",
    "# # ax1.plot(weekNamesShort,df1['antal_personer_alle_Ingen vaccination'].values[::-1])\n",
    "\n",
    "\n",
    "# curStatus = allStatus[0]\n",
    "# curVals = df1['antal_personer_alle_'+curStatus].values[::-1]\n",
    "# ax1.fill_between(weekNamesShort,curVals,label=curStatus)\n",
    "\n",
    "# curStatus = allStatus[1]\n",
    "# prevVals = curVals \n",
    "# curVals = prevVals + df1['antal_personer_alle_'+curStatus].values[::-1]\n",
    "# ax1.fill_between(weekNamesShort,curVals,prevVals,label=curStatus)\n",
    "\n",
    "# curStatus = allStatus[2]\n",
    "# prevVals = curVals \n",
    "# curVals = prevVals + df1['antal_personer_alle_'+curStatus].values[::-1]\n",
    "# ax1.fill_between(weekNamesShort,curVals,prevVals,label=curStatus)\n",
    "\n",
    "# curStatus = allStatus[3]\n",
    "# # prevVals = curVals \n",
    "# curVals = prevVals + df1['antal_personer_alle_'+curStatus].values[::-1]\n",
    "# ax1.fill_between(weekNamesShort,curVals,prevVals,label=curStatus)\n",
    "# curStatus = allStatus[4]\n",
    "# prevVals = curVals \n",
    "# curVals = prevVals + df1['antal_personer_alle_'+curStatus].values[::-1]\n",
    "# ax1.fill_between(weekNamesShort,curVals,prevVals,label=curStatus)\n",
    "\n",
    "# ax1.legend(loc='center left')\n",
    "# ax1.set_ylim(bottom=0)"
   ]
  },
  {
   "cell_type": "code",
   "execution_count": 20,
   "metadata": {},
   "outputs": [],
   "source": [
    "# thisdf = df2_C\n",
    "# curStatus = 'Ingen vaccination'\n",
    "# curAge = '0-5'\n",
    "\n",
    "# weekNames = df1.Ugenummer\n",
    "# agedf = thisdf[thisdf.Aldersgruppe==curAge]\n",
    "# allVals = []\n",
    "# for curWeek in weekNames:\n",
    "#     toAdd = agedf[curWeek+'_'+curStatus].values[0]\n",
    "#     allVals.append(toAdd)\n",
    "# allVals = np.array(allVals)\n",
    "\n",
    "# # for k in range(0,len(thisdf)):\n",
    "# #     curRow = thisdf.loc[k]"
   ]
  },
  {
   "cell_type": "code",
   "execution_count": 21,
   "metadata": {},
   "outputs": [],
   "source": [
    "# # Flip dataframes to be like df1\n",
    "# casedf = pd.DataFrame()\n",
    "# casedf_once = pd.DataFrame()\n",
    "# casedf_both = pd.DataFrame()\n",
    "# casedf_full = pd.DataFrame()\n",
    "# casedf_reva = pd.DataFrame()\n",
    "# casedf_none = pd.DataFrame()\n",
    "\n",
    "# weekNames = df1.Ugenummer\n",
    "# casedf['Ugenummer'] = weekNames\n",
    "# casedf_none['Ugenummer'] = weekNames\n",
    "# casedf_once['Ugenummer'] = weekNames\n",
    "# casedf_both['Ugenummer'] = weekNames\n",
    "# casedf_full['Ugenummer'] = weekNames\n",
    "# casedf_reva['Ugenummer'] = weekNames\n",
    "\n",
    "# for k in range(0,len(df2_C)):\n",
    "#     curRow = df2_C.loc[k]\n",
    "#     curAge = df2_C.loc[k,'Aldersgruppe']\n",
    "    \n",
    "#     curNone = []\n",
    "#     curOnce = []\n",
    "#     curBoth = []\n",
    "#     curFull = []\n",
    "#     curReva = []\n",
    "#     for curW in weekNames:\n",
    "#         # print(curW)\n",
    "        \n",
    "#         thisNone = curRow[curW+'_Ingen vaccination']\n",
    "#         curNone.append(thisNone)\n",
    "        \n",
    "#         thisOnce = curRow[curW+'_Første vaccination']\n",
    "#         curOnce.append(thisOnce)\n",
    "        \n",
    "#         thisBoth = curRow[curW+'_Anden vaccination']\n",
    "#         curBoth.append(thisBoth)\n",
    "        \n",
    "#         thisFull = curRow[curW+'_Fuld effekt efter primært forløb']\n",
    "#         curFull.append(thisFull)\n",
    "        \n",
    "#         thisReva = curRow[curW+'_Fuld effekt efter revaccination']\n",
    "#         curReva.append(thisReva)\n",
    "\n",
    "    \n",
    "#     # Add to dataframe\n",
    "#     casedf[curAge+'_Ingen vaccination'] = curNone\n",
    "#     casedf[curAge+'_Første vaccination'] = curOnce\n",
    "#     casedf[curAge+'_Anden vaccination'] = curBoth \n",
    "#     casedf[curAge+'_Fuld effekt efter primært forløb'] = curFull\n",
    "#     casedf[curAge+'_Fuld effekt efter revaccination'] = curReva\n",
    "    \n",
    "#     # Add to smaller dataframes as well\n",
    "#     casedf_none[curAge] = curNone\n",
    "#     casedf_once[curAge] = curOnce\n",
    "#     casedf_both[curAge] = curBoth \n",
    "#     casedf_full[curAge] = curFull\n",
    "#     casedf_reva[curAge] = curReva\n",
    "    \n",
    "# casedf"
   ]
  },
  {
   "cell_type": "code",
   "execution_count": null,
   "metadata": {},
   "outputs": [],
   "source": []
  }
 ],
 "metadata": {
  "interpreter": {
   "hash": "c031fd63bd977d199cd6020c30a19695eacbb638d100e0b8a5ea53080ed74a9a"
  },
  "kernelspec": {
   "display_name": "Python 3.8.12 64-bit ('main': conda)",
   "language": "python",
   "name": "python3"
  },
  "language_info": {
   "codemirror_mode": {
    "name": "ipython",
    "version": 3
   },
   "file_extension": ".py",
   "mimetype": "text/x-python",
   "name": "python",
   "nbconvert_exporter": "python",
   "pygments_lexer": "ipython3",
   "version": "3.8.12"
  },
  "orig_nbformat": 4
 },
 "nbformat": 4,
 "nbformat_minor": 2
}
