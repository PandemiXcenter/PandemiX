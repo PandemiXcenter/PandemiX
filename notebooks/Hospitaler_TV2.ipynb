{
 "cells": [
  {
   "cell_type": "code",
   "execution_count": 4,
   "metadata": {},
   "outputs": [],
   "source": [
    "%matplotlib widget\n",
    "import numpy as np\n",
    "import pandas as pd\n",
    "import matplotlib.pyplot as plt\n",
    "\n",
    "import matplotlib.pyplot as plt\n",
    "plt.rcParams['figure.figsize'] = (12,8)\n",
    "plt.rcParams[\"image.cmap\"] = \"tab10\"\n",
    "plt.rcParams['axes.prop_cycle'] = plt.cycler(color=plt.cm.tab10.colors)\n",
    "fs_label = 15\n",
    "parameters = {\n",
    "                'axes.labelsize': fs_label,\n",
    "                'axes.titlesize': fs_label+4,\n",
    "                'xtick.labelsize': fs_label,\n",
    "                'ytick.labelsize': fs_label, \n",
    "                'legend.fontsize': fs_label, \n",
    "                'lines.markersize': 10,\n",
    "                'lines.linewidth': 3\n",
    "             }\n",
    "plt.rcParams.update(parameters)\n",
    "# %matplotlib widget"
   ]
  },
  {
   "cell_type": "code",
   "execution_count": 12,
   "metadata": {},
   "outputs": [
    {
     "data": {
      "application/vnd.jupyter.widget-view+json": {
       "model_id": "2aa8f1dee3a74cdda3258a3bc006deee",
       "version_major": 2,
       "version_minor": 0
      },
      "text/plain": [
       "Canvas(toolbar=Toolbar(toolitems=[('Home', 'Reset original view', 'home', 'home'), ('Back', 'Back to previous …"
      ]
     },
     "metadata": {},
     "output_type": "display_data"
    }
   ],
   "source": [
    "reg = ['Sjælland','Nordjylland','Hovedstaden','Syd']\n",
    "aktd = np.array([49,35,105,66])\n",
    "bidi = np.array([33,34,59,42])\n",
    "curFrac = aktd/(aktd+bidi)\n",
    "\n",
    "# plt.figure(figsize=(16,12))\n",
    "# fig,(ax1,ax2) = plt.subplots(2,1,figsize=(12,18))\n",
    "fig,(ax3,ax1,ax2) = plt.subplots(3,1,figsize=(12,18))\n",
    "\n",
    "nums = np.arange(0,4)\n",
    "ax3.bar(nums+0.2,aktd,width=0.4,color='xkcd:dark red',label='COVID-19 som aktionsdiagnose')\n",
    "ax3.bar(nums-0.2,bidi,width=0.4,color='xkcd:light red',label='COVID-19 som bidiagnose')\n",
    "\n",
    "ax3.set_xticks(nums)\n",
    "ax3.set_xticklabels(reg)\n",
    "ax3.set_ylabel('Antal indlæggelser')\n",
    "ax3.grid(axis='y')\n",
    "ax3.set_axisbelow(True)\n",
    "\n",
    "ax1.bar(reg,aktd,color='xkcd:dark red',label='COVID-19 som aktionsdiagnose')\n",
    "ax1.bar(reg,bidi,bottom=aktd,color='xkcd:light red',label='COVID-19 som bidiagnose')\n",
    "ax1.legend(fontsize=20,loc='upper left')\n",
    "ax1.set_ylabel('Antal indlæggelser (stablet)')\n",
    "ax1.grid(axis='y')\n",
    "ax1.set_axisbelow(True)\n",
    "\n",
    "ax2.bar(reg,100*np.ones(curFrac.shape),color='xkcd:light red',label='COVID-19 som bidiagnose') \n",
    "ax2.bar(reg,100*curFrac,color='xkcd:dark red',label='COVID-19 som aktionsdiagnose')\n",
    "ax2.set_ylim([0,100])\n",
    "ax2.set_ylabel('Andel af indlæggelser [%]')\n",
    "ax2.grid(axis='y')\n",
    "ax2.set_axisbelow(True)\n",
    "ax2.set_yticks(np.arange(0,110,10))\n",
    "\n",
    "plt.tight_layout()\n",
    "\n",
    "plt.savefig('TV2Indlæggelser')"
   ]
  },
  {
   "cell_type": "code",
   "execution_count": null,
   "metadata": {},
   "outputs": [],
   "source": []
  }
 ],
 "metadata": {
  "interpreter": {
   "hash": "c72cdf52cb3d31f207bca538e9396da8706c0ecf4a3038fb1c2b317934170431"
  },
  "kernelspec": {
   "display_name": "Python 3.8.5 64-bit ('main': conda)",
   "language": "python",
   "name": "python3"
  },
  "language_info": {
   "codemirror_mode": {
    "name": "ipython",
    "version": 3
   },
   "file_extension": ".py",
   "mimetype": "text/x-python",
   "name": "python",
   "nbconvert_exporter": "python",
   "pygments_lexer": "ipython3",
   "version": "3.8.5"
  },
  "orig_nbformat": 4
 },
 "nbformat": 4,
 "nbformat_minor": 2
}
