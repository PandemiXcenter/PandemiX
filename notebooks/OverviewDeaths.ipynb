{
 "cells": [
  {
   "cell_type": "code",
   "execution_count": 76,
   "metadata": {},
   "outputs": [
    {
     "name": "stdout",
     "output_type": "stream",
     "text": [
      "saveFigures is set to: True\n",
      "Done loading packages\n"
     ]
    }
   ],
   "source": [
    "# Load packages and settings\n",
    "import numpy as np\n",
    "import pandas as pd\n",
    "pd.set_option('display.max_rows', 500)\n",
    "pd.set_option('display.min_rows', 50)\n",
    "import seaborn as sns\n",
    "\n",
    "\n",
    "import matplotlib.pyplot as plt\n",
    "%matplotlib widget\n",
    "plt.rcParams['figure.figsize'] = (12,8)\n",
    "plt.rcParams[\"image.cmap\"] = \"tab10\"\n",
    "plt.rcParams['axes.prop_cycle'] = plt.cycler(color=plt.cm.tab10.colors)\n",
    "fs_label = 16\n",
    "parameters = {\n",
    "                'axes.labelsize': fs_label,\n",
    "                'axes.titlesize': fs_label+4,\n",
    "                'xtick.labelsize': fs_label,\n",
    "                'ytick.labelsize': fs_label, \n",
    "                'legend.fontsize': fs_label, \n",
    "                'lines.markersize': 10,\n",
    "                'lines.linewidth': 3\n",
    "             }\n",
    "plt.rcParams.update(parameters)\n",
    "%matplotlib widget\n",
    "from matplotlib import cm # Colormaps\n",
    "import matplotlib.colors as colors\n",
    "# cmap = plt.cm.get_cmap('Dark2',len(ageGroups))\n",
    "\n",
    "import locale\n",
    "import matplotlib.dates as mdates\n",
    "locale.setlocale(locale.LC_TIME,\"Danish\")\n",
    "# ax1.xaxis.set_major_formatter(mdates.DateFormatter('%b\\n%Y'))\n",
    "# ax1.spines['top'].set_visible(False) \n",
    "\n",
    "import os\n",
    "# import csv\n",
    "import math\n",
    "\n",
    "import datetime\n",
    "from datetime import date\n",
    "\n",
    "\n",
    "# ax.legend(bbox_to_anchor=(1.04,0.5), loc=\"center left\")\n",
    "\n",
    "saveFigures = True\n",
    "# saveFigures = False\n",
    "print('saveFigures is set to: '+str(saveFigures))\n",
    "\n",
    "print('Done loading packages')\n",
    "\n",
    "# Define running mean functions\n",
    "def rnMean(data,meanWidth):\n",
    "    return np.convolve(data, np.ones(meanWidth)/meanWidth, mode='valid')\n",
    "def rnTime(t,meanWidth):\n",
    "    return t[math.floor(meanWidth/2):-math.ceil(meanWidth/2)+1]"
   ]
  },
  {
   "cell_type": "code",
   "execution_count": 77,
   "metadata": {},
   "outputs": [],
   "source": [
    "# Define paths\n",
    "rootdir_data = os.getcwd() +\"\\\\..\\\\DanskeData\\\\\" \n",
    "\n",
    "path_data = rootdir_data + \"ssi_data\\\\\"\n",
    "path_dash = rootdir_data + \"ssi_dashboard\\\\\"\n",
    "path_vacc = rootdir_data + \"ssi_vacc\\\\\"\n",
    "\n",
    "path_figs = os.getcwd() +\"\\\\..\\\\Figures\\\\\" "
   ]
  },
  {
   "cell_type": "code",
   "execution_count": 78,
   "metadata": {},
   "outputs": [],
   "source": [
    "latestsubdir = list(os.walk(path_dash))[0][1][-1]\n",
    "latestdir = path_dash + latestsubdir\n",
    "\n",
    "df = pd.read_csv(latestdir+'/Regionalt_DB/03_bekraeftede_tilfaelde_doede_indlagte_pr_dag_pr_koen.csv',encoding='latin1',delimiter = ';')\n",
    "df['Prøvetagningsdato'] = pd.to_datetime(df['Prøvetagningsdato'])\n",
    "\n",
    "kortdf  = pd.read_csv(latestdir+'/Regionalt_DB/13_regionale_kort.csv',encoding='latin1',delimiter = ';')\n",
    "# kortdf"
   ]
  },
  {
   "cell_type": "code",
   "execution_count": 79,
   "metadata": {},
   "outputs": [
    {
     "data": {
      "text/plain": [
       "'SSI_dashboard_2022-02-08'"
      ]
     },
     "execution_count": 79,
     "metadata": {},
     "output_type": "execute_result"
    }
   ],
   "source": [
    "latestsubdir"
   ]
  },
  {
   "cell_type": "code",
   "execution_count": 80,
   "metadata": {},
   "outputs": [
    {
     "name": "stdout",
     "output_type": "stream",
     "text": [
      "Path to latest Tuesday was SSI_data_2022-02-08\n"
     ]
    }
   ],
   "source": [
    "\n",
    "\n",
    "# Data is (only) in the file from the most recent tuesday. \n",
    "# Should be made smarter, but here hardcoded\n",
    "# tuePath = 'SSI_data_2022-01-25'\n",
    "# Now automatic finding of latest tuesday:\n",
    "for k in range(0,7):\n",
    "    dayToCheck = np.datetime64('today')-np.timedelta64(k,'D')\n",
    "    thisWeekDay = (dayToCheck).astype(datetime.datetime).isoweekday()    \n",
    "    if (thisWeekDay == 2):\n",
    "        tuePath = 'SSI_data_'+str(dayToCheck)\n",
    "\n",
    "print(f'Path to latest Tuesday was {tuePath}')\n",
    "\n",
    "dirPath = path_data + tuePath + '\\\\'\n",
    "\n",
    "df1 = pd.read_csv(dirPath+'gennembrudsinfektioner_table1.csv',delimiter=';')\n",
    "\n",
    "df2_C = pd.read_csv(dirPath+'gennembrudsinfektioner_table2_antal_cases.csv',delimiter=';')\n",
    "df2_H = pd.read_csv(dirPath+'gennembrudsinfektioner_table2_antal_indlagte.csv',delimiter=';')\n",
    "df2_D = pd.read_csv(dirPath+'gennembrudsinfektioner_table2_antal_dode.csv',delimiter=';')\n",
    "df2_R = pd.read_csv(dirPath+'gennembrudsinfektioner_table2_antal_repositive.csv',delimiter=';')\n",
    "df2_Int = pd.read_csv(dirPath+'gennembrudsinfektioner_table2_antal_intensiv.csv',delimiter=';')\n",
    "df2_T = pd.read_csv(dirPath+'gennembrudsinfektioner_table2_antal_tests.csv',delimiter=';')\n",
    "\n",
    "df3 = pd.read_csv(dirPath+'gennembrudsinfektioner_table2_incidence_alle.csv',delimiter=';',decimal=\",\")\n",
    "df3_C = pd.read_csv(dirPath+'gennembrudsinfektioner_table2_incidence_cases.csv',delimiter=';',decimal=\",\")\n",
    "df3_H = pd.read_csv(dirPath+'gennembrudsinfektioner_table2_incidence_indlagte.csv',delimiter=';',decimal=\",\")\n",
    "df3_D = pd.read_csv(dirPath+'gennembrudsinfektioner_table2_incidence_dode.csv',delimiter=';',decimal=\",\")\n",
    "df3_Int = pd.read_csv(dirPath+'gennembrudsinfektioner_table2_incidence_intensiv.csv',delimiter=';',decimal=\",\")\n",
    "df3_T = pd.read_csv(dirPath+'gennembrudsinfektioner_table2_incidence_tests.csv',delimiter=';',decimal=\",\")"
   ]
  },
  {
   "cell_type": "code",
   "execution_count": 81,
   "metadata": {},
   "outputs": [],
   "source": [
    "# weekDTs\n",
    "# df2_D"
   ]
  },
  {
   "cell_type": "code",
   "execution_count": null,
   "metadata": {},
   "outputs": [],
   "source": []
  },
  {
   "cell_type": "code",
   "execution_count": 82,
   "metadata": {},
   "outputs": [
    {
     "name": "stdout",
     "output_type": "stream",
     "text": [
      "['Uge 42-2021' 'Uge 43-2021' 'Uge 44-2021' 'Uge 45-2021' 'Uge 46-2021'\n",
      " 'Uge 47-2021' 'Uge 48-2021' 'Uge 49-2021' 'Uge 50-2021' 'Uge 51-2021'\n",
      " 'Uge 52-2021' 'Uge 01-2022' 'Uge 02-2022' 'Uge 03-2022' 'Uge 04-2022'\n",
      " 'Uge 05-2022']\n"
     ]
    }
   ],
   "source": [
    "\n",
    "weekDTs = [np.datetime64(datetime.datetime.strptime(d[-4:] + '-W'+d[4:6]+'-1', \"%Y-W%W-%w\")) for d in df1.Ugenummer]\n",
    "\n",
    "curOrder = np.argsort(weekDTs)\n",
    "weekDTs = np.array(weekDTs)\n",
    "weekDTs = weekDTs[curOrder]\n",
    "        \n",
    "sNone = 'Ingen vaccination'        \n",
    "sOne = 'Første vaccination'  \n",
    "sTwo = 'Anden vaccination'\n",
    "sFull = 'Fuld effekt efter primært forløb'   \n",
    "sReva = 'Fuld effekt efter revaccination'\n",
    "\n",
    "\n",
    "ageGroups = df2_C.Aldersgruppe.values\n",
    "# print(ageGroups)\n",
    "# weekNames = df1.Ugenummer\n",
    "weekNames = df1.Ugenummer.values[curOrder]\n",
    "weekNamesShort = [x[4:6] for x in weekNames]\n",
    "wInt = [int(x[4:6]) for x in weekNames]\n",
    "wIntRange = np.arange(len(wInt))\n",
    "\n",
    "allDates = np.array(weekDTs)[curOrder]\n",
    "print(weekNames)\n",
    "\n",
    "# Make function for gettings particular parts\n",
    "def getTimeSeriesSingle(thisdf=df2_C,curStatus='Ingen vaccination',curAge='Alle',weekNames=weekNames):\n",
    "    \n",
    "    agedf = thisdf[thisdf.Aldersgruppe==curAge]\n",
    "    allVals = []\n",
    "    for curWeek in weekNames:\n",
    "        toAdd = agedf[curWeek+'_'+curStatus].values[0]\n",
    "        allVals.append(toAdd)\n",
    "    allVals = np.array(allVals)\n",
    "\n",
    "    return allVals\n",
    "\n",
    "\n",
    "def getTimeSeries(thisdf=df2_C,curStatus='Ingen vaccination',curAge='Alle',weekNames=weekNames):\n",
    "    # If curAge is just a string, return the given array\n",
    "    if (type(curAge)==str):\n",
    "        agedf = thisdf[thisdf.Aldersgruppe==curAge]\n",
    "        allVals = []\n",
    "        for curWeek in weekNames:\n",
    "            toAdd = agedf[curWeek+'_'+curStatus].values[0]\n",
    "            allVals.append(toAdd)\n",
    "        allVals = np.array(allVals)\n",
    "        \n",
    "        return allVals \n",
    "        \n",
    "    else:\n",
    "        # If curAge is not a string, it is assumed to be a list of strings\n",
    "        totCount = []\n",
    "        for thisAge in curAge:\n",
    "            agedf = thisdf[thisdf.Aldersgruppe==thisAge]\n",
    "            allVals = []\n",
    "            for curWeek in weekNames:\n",
    "                toAdd = agedf[curWeek+'_'+curStatus].values[0]\n",
    "                allVals.append(toAdd)\n",
    "            allVals = np.array(allVals)\n",
    "            if len(totCount) == 0:\n",
    "                totCount = allVals \n",
    "            else:\n",
    "                totCount = totCount + allVals\n",
    "        return totCount\n",
    "\n",
    "def getTimeSeriesAll(thisdf=df2_C,curAge='Alle',weekNames=weekNames):\n",
    "    return getTimeSeries(thisdf,sNone,curAge,weekNames)+getTimeSeries(thisdf,sOne,curAge,weekNames)+getTimeSeries(thisdf,sTwo,curAge,weekNames)"
   ]
  },
  {
   "cell_type": "code",
   "execution_count": 83,
   "metadata": {},
   "outputs": [
    {
     "name": "stdout",
     "output_type": "stream",
     "text": [
      "['0-5' '6-11' '12-15' '16-19' '20-29' '30-39' '40-49' '50-59' '60-64'\n",
      " '65-69' '70-79' '80+' '12+' 'Alle']\n",
      "[  8  14  18  25  33  62  60  54  63  73  56  82  91  88 103 120]\n",
      "[ 3  4  3  8  9 23 18 22 21 27 23 27 25 20 38 26]\n",
      "[ 5 10 15 17 24 39 42 32 42 46 33 55 66 68 65 94]\n"
     ]
    }
   ],
   "source": [
    "print(ageGroups)\n",
    "\n",
    "print(getTimeSeriesAll(df2_D,curAge=['70-79','80+']))\n",
    "print(getTimeSeriesAll(df2_D,curAge='70-79'))\n",
    "print(getTimeSeriesAll(df2_D,curAge='80+'))"
   ]
  },
  {
   "cell_type": "markdown",
   "metadata": {},
   "source": [
    "# Compare \"gennembruds\" files with regional files"
   ]
  },
  {
   "cell_type": "code",
   "execution_count": 84,
   "metadata": {},
   "outputs": [],
   "source": [
    "df_tot = df.groupby('Prøvetagningsdato').sum()\n",
    "datesDaily = df_tot.index\n",
    "deathsDaily = df_tot['Døde'].values"
   ]
  },
  {
   "cell_type": "code",
   "execution_count": 96,
   "metadata": {},
   "outputs": [
    {
     "data": {
      "application/vnd.jupyter.widget-view+json": {
       "model_id": "d1ae3f9a69d34271a9911fa3918a7288",
       "version_major": 2,
       "version_minor": 0
      },
      "text/plain": [
       "Canvas(toolbar=Toolbar(toolitems=[('Home', 'Reset original view', 'home', 'home'), ('Back', 'Back to previous …"
      ]
     },
     "metadata": {},
     "output_type": "display_data"
    }
   ],
   "source": [
    "fig,ax1 = plt.subplots()\n",
    "\n",
    "ax2 = ax1.twinx()\n",
    "\n",
    "ax1.plot(datesDaily,deathsDaily,'k.-',markersize=3,linewidth=0.5,label='Daglig data, regionalt')\n",
    "ax1.plot(rnTime(datesDaily,7),rnMean(deathsDaily,7),'k',label='7-dages gennemsnit, regionalt')\n",
    "weekTotDeaths = getTimeSeriesAll(df2_D)\n",
    "# ax2.step(weekDTs,weekTotDeaths,'b',label='Ugentlige data, gennembrudsfiler')\n",
    "ax1.step(weekDTs,weekTotDeaths/7,'b',where='pre',label='Ugentlig data, gennembrudsfiler')\n",
    "\n",
    "ax1.set_xlim(left=weekDTs[0],right=datesDaily[-1]+np.timedelta64(5,'D'))\n",
    "\n",
    "ax1.set_ylabel('Daglige dødsfald')\n",
    "ax2.set_ylabel('Ugentlige dødsfald')\n",
    "\n",
    "ax1.set_ylim(bottom=0)\n",
    "ax1.set_ylim(top=np.max(deathsDaily[-50:])*1.1)\n",
    "\n",
    "ax1.legend()\n",
    "\n",
    "curylim = ax1.get_ylim()\n",
    "ax2.set_ylim(0,curylim[1]*7)\n",
    "\n",
    "ax1.xaxis.set_major_formatter(mdates.DateFormatter('%d\\n%b'))\n",
    "\n",
    "# Draw weekends\n",
    "firstSunday = np.datetime64('2021-10-03')\n",
    "numWeeks = 52\n",
    "for k in range(0,numWeeks):\n",
    "    curSunday = firstSunday + np.timedelta64(7*k,'D')\n",
    "    ax1.axvspan(curSunday-np.timedelta64(1,'D')-np.timedelta64(12,'h'),curSunday+np.timedelta64(12,'h'),zorder=-1,facecolor='lightgrey',label=int(k==0)*'Weekend')\n",
    "\n",
    "ax1.grid(axis='y')\n",
    "\n",
    "if saveFigures:\n",
    "    plt.savefig(path_figs+'Regionalt\\\\DeathsComparison')"
   ]
  },
  {
   "cell_type": "markdown",
   "metadata": {},
   "source": [
    "# Ugentlige dødsfald, fordelt på alder"
   ]
  },
  {
   "cell_type": "code",
   "execution_count": 86,
   "metadata": {},
   "outputs": [
    {
     "name": "stdout",
     "output_type": "stream",
     "text": [
      "[array(['0-5', '6-11', '12-15', '16-19', '20-29'], dtype=object), array(['30-39', '40-49'], dtype=object), array(['50-59', '60-64', '65-69'], dtype=object), '70-79', '80+']\n",
      "['0-29', '30-49', '50-69', '70-79', '80+']\n"
     ]
    }
   ],
   "source": [
    "ageGroupsGrouped = [ageGroups[0:5],ageGroups[5:7],ageGroups[7:10],ageGroups[10],ageGroups[11]]\n",
    "ageGroupsGroupedNames = ['0-29','30-49','50-69','70-79','80+']\n",
    "print(ageGroupsGrouped)\n",
    "print(ageGroupsGroupedNames)"
   ]
  },
  {
   "cell_type": "code",
   "execution_count": 87,
   "metadata": {},
   "outputs": [],
   "source": [
    "firstDate = weekDTs[0]"
   ]
  },
  {
   "cell_type": "code",
   "execution_count": 98,
   "metadata": {},
   "outputs": [
    {
     "data": {
      "application/vnd.jupyter.widget-view+json": {
       "model_id": "0655f22260854d448e9374c64a661765",
       "version_major": 2,
       "version_minor": 0
      },
      "text/plain": [
       "Canvas(toolbar=Toolbar(toolitems=[('Home', 'Reset original view', 'home', 'home'), ('Back', 'Back to previous …"
      ]
     },
     "metadata": {},
     "output_type": "display_data"
    }
   ],
   "source": [
    "fig,ax1 = plt.subplots(figsize=(13,6.5))\n",
    "fig.patch.set_facecolor('xkcd:off white')\n",
    "ax1.set_facecolor('xkcd:off white')\n",
    "\n",
    "# curAge = ageGroups[-3]\n",
    "# curAge\n",
    "# for curAge in ageGroupsGrouped:\n",
    "for i in range(len(ageGroupsGrouped)):\n",
    "    curAge = ageGroupsGrouped[i]\n",
    "    curName = ageGroupsGroupedNames[i]\n",
    "\n",
    "    curDeaths = getTimeSeriesAll(df2_D,curAge=curAge)\n",
    "    ax1.plot(weekDTs,curDeaths,'.-',label=curName)\n",
    "    # if (np.sum(curDeaths) > 0):\n",
    "    #     ax1.plot(weekDTs,curDeaths,label=curAge)\n",
    "\n",
    "# Draw weekends\n",
    "firstSunday = np.datetime64('2021-10-03')\n",
    "numWeeks = 52\n",
    "for k in range(0,numWeeks):\n",
    "    curSunday = firstSunday + np.timedelta64(7*k,'D')\n",
    "    ax1.axvspan(curSunday-np.timedelta64(1,'D')-np.timedelta64(12,'h'),curSunday+np.timedelta64(12,'h'),zorder=-1,facecolor='lightgrey',label=int(k==0)*'Weekend')\n",
    "\n",
    "ax1.set_ylabel('Ugentlige nye dødsfald')\n",
    "\n",
    "ax1.xaxis.set_major_formatter(mdates.DateFormatter('%d\\n%b'))\n",
    "# ax1.set_xlim(left=firstDate,right=thisdf.Dato.max()+np.timedelta64(5,'D'))\n",
    "ax1.set_xlim(left=firstDate,right=weekDTs[-1]+np.timedelta64(5,'D'))\n",
    "ax1.set_ylim(bottom=0)\n",
    "# ax2.set_ylim(bottom=0)\n",
    "ax1.legend(loc='upper left')\n",
    "# ax2.legend(loc='upper left')\n",
    "ax1.grid(axis='y')\n",
    "# ax2.grid(axis='y')\n",
    "\n",
    "# smalltxt = 'Rasmus Kristoffer Pedersen, PandemiX Center, Roskilde Universitet.\\nData fra SSI overvågningsdata, dashboard-fil. Filnavn: Regionalt_DB/18_fnkt_alder_uge_testede_positive_nyindlagte.csv'\n",
    "# ax1.text(1,-0.15,smalltxt,\n",
    "#      horizontalalignment='right',\n",
    "#      verticalalignment='top',\n",
    "#      transform = ax1.transAxes,\n",
    "#      fontsize=10)\n",
    "     \n",
    "fig.tight_layout()\n",
    "\n",
    "\n",
    "fig.savefig(path_figs+'AgeDistribution\\\\Agedistribution_DeathsWeekly')"
   ]
  },
  {
   "cell_type": "code",
   "execution_count": null,
   "metadata": {},
   "outputs": [],
   "source": []
  },
  {
   "cell_type": "code",
   "execution_count": 89,
   "metadata": {},
   "outputs": [
    {
     "data": {
      "application/vnd.jupyter.widget-view+json": {
       "model_id": "f29d30d273dd4ad79a298e1e34297a62",
       "version_major": 2,
       "version_minor": 0
      },
      "text/plain": [
       "Canvas(toolbar=Toolbar(toolitems=[('Home', 'Reset original view', 'home', 'home'), ('Back', 'Back to previous …"
      ]
     },
     "metadata": {},
     "output_type": "display_data"
    },
    {
     "ename": "NameError",
     "evalue": "name 'dfAge' is not defined",
     "output_type": "error",
     "traceback": [
      "\u001b[1;31m---------------------------------------------------------------------------\u001b[0m",
      "\u001b[1;31mNameError\u001b[0m                                 Traceback (most recent call last)",
      "\u001b[1;32m<ipython-input-89-0f7f05bf0a1f>\u001b[0m in \u001b[0;36m<module>\u001b[1;34m\u001b[0m\n\u001b[0;32m      6\u001b[0m \u001b[1;31m# ax2.set_facecolor('xkcd:off white')\u001b[0m\u001b[1;33m\u001b[0m\u001b[1;33m\u001b[0m\u001b[1;33m\u001b[0m\u001b[0m\n\u001b[0;32m      7\u001b[0m \u001b[1;33m\u001b[0m\u001b[0m\n\u001b[1;32m----> 8\u001b[1;33m \u001b[1;32mfor\u001b[0m \u001b[0mcurAge\u001b[0m \u001b[1;32min\u001b[0m \u001b[0mdfAge\u001b[0m\u001b[1;33m.\u001b[0m\u001b[0mAldersgruppe\u001b[0m\u001b[1;33m.\u001b[0m\u001b[0munique\u001b[0m\u001b[1;33m(\u001b[0m\u001b[1;33m)\u001b[0m\u001b[1;33m:\u001b[0m\u001b[1;33m\u001b[0m\u001b[1;33m\u001b[0m\u001b[0m\n\u001b[0m\u001b[0;32m      9\u001b[0m     \u001b[0mthisdf\u001b[0m \u001b[1;33m=\u001b[0m \u001b[0mdfAge\u001b[0m\u001b[1;33m[\u001b[0m\u001b[0mdfAge\u001b[0m\u001b[1;33m.\u001b[0m\u001b[0mAldersgruppe\u001b[0m \u001b[1;33m==\u001b[0m \u001b[0mcurAge\u001b[0m\u001b[1;33m]\u001b[0m\u001b[1;33m\u001b[0m\u001b[1;33m\u001b[0m\u001b[0m\n\u001b[0;32m     10\u001b[0m     \u001b[0max1\u001b[0m\u001b[1;33m.\u001b[0m\u001b[0mplot\u001b[0m\u001b[1;33m(\u001b[0m\u001b[0mthisdf\u001b[0m\u001b[1;33m.\u001b[0m\u001b[0mDato\u001b[0m\u001b[1;33m,\u001b[0m\u001b[0mthisdf\u001b[0m\u001b[1;33m[\u001b[0m\u001b[1;34m'Antal positive'\u001b[0m\u001b[1;33m]\u001b[0m\u001b[1;33m,\u001b[0m\u001b[1;34m'.-'\u001b[0m\u001b[1;33m,\u001b[0m\u001b[0mlabel\u001b[0m\u001b[1;33m=\u001b[0m\u001b[0mcurAge\u001b[0m\u001b[1;33m)\u001b[0m\u001b[1;33m\u001b[0m\u001b[1;33m\u001b[0m\u001b[0m\n",
      "\u001b[1;31mNameError\u001b[0m: name 'dfAge' is not defined"
     ]
    }
   ],
   "source": [
    "fig,ax1 = plt.subplots(figsize=(13,6.5))\n",
    "# fig,(ax1,ax2) = plt.subplots(2,1,sharex=True,figsize=(13,13))\n",
    "\n",
    "fig.patch.set_facecolor('xkcd:off white')\n",
    "ax1.set_facecolor('xkcd:off white')\n",
    "# ax2.set_facecolor('xkcd:off white')\n",
    "\n",
    "for curAge in dfAge.Aldersgruppe.unique():\n",
    "    thisdf = dfAge[dfAge.Aldersgruppe == curAge]\n",
    "    ax1.plot(thisdf.Dato,thisdf['Antal positive'],'.-',label=curAge)\n",
    "    # ax2.plot(thisdf.Dato,thisdf['Positive pr. 100.000 borgere'],'.-',label=curAge)\n",
    "    # ax2.plot(thisdf.Dato,thisdf['Positive pr. 100.000 borgere']/1000,'.-',label=curAge)\n",
    "\n",
    "# Draw weekends\n",
    "# firstSunday = np.datetime64('2021-01-03')\n",
    "firstSunday = np.datetime64('2021-10-03')\n",
    "numWeeks = 52\n",
    "for k in range(0,numWeeks):\n",
    "    curSunday = firstSunday + np.timedelta64(7*k,'D')\n",
    "    ax1.axvspan(curSunday-np.timedelta64(1,'D')-np.timedelta64(12,'h'),curSunday+np.timedelta64(12,'h'),zorder=-1,facecolor='lightgrey',label=int(k==0)*'Weekend')\n",
    "    # ax2.axvspan(curSunday-np.timedelta64(1,'D')-np.timedelta64(12,'h'),curSunday+np.timedelta64(12,'h'),zorder=-1,facecolor='lightgrey',label=int(k==0)*'Weekend')\n",
    "\n",
    "ax1.set_ylabel('Ugentlige nye smittetilfælde')\n",
    "# ax2.set_ylabel('Ugentlige nye smittetilfælde per 100.000')\n",
    "# ax2.set_ylabel('Andel ud af alle borgere i aldersgruppen [%]')\n",
    "\n",
    "ax1.xaxis.set_major_formatter(mdates.DateFormatter('%d\\n%b'))\n",
    "ax1.set_xlim(left=firstDate,right=thisdf.Dato.max()+np.timedelta64(5,'D'))\n",
    "ax1.set_ylim(bottom=0)\n",
    "# ax2.set_ylim(bottom=0)\n",
    "ax1.legend(loc='upper left')\n",
    "# ax2.legend(loc='upper left')\n",
    "ax1.grid(axis='y')\n",
    "# ax2.grid(axis='y')\n",
    "\n",
    "smalltxt = 'Rasmus Kristoffer Pedersen, PandemiX Center, Roskilde Universitet.\\nData fra SSI overvågningsdata, dashboard-fil. Filnavn: Regionalt_DB/18_fnkt_alder_uge_testede_positive_nyindlagte.csv'\n",
    "ax1.text(1,-0.15,smalltxt,\n",
    "     horizontalalignment='right',\n",
    "     verticalalignment='top',\n",
    "     transform = ax1.transAxes,\n",
    "     fontsize=10)\n",
    "     \n",
    "fig.tight_layout()\n",
    "\n",
    "\n",
    "fig.savefig(path_figs+'Agedistribution_CasesWeekly')"
   ]
  }
 ],
 "metadata": {
  "interpreter": {
   "hash": "c72cdf52cb3d31f207bca538e9396da8706c0ecf4a3038fb1c2b317934170431"
  },
  "kernelspec": {
   "display_name": "Python 3.8.5 64-bit ('main': conda)",
   "language": "python",
   "name": "python3"
  },
  "language_info": {
   "codemirror_mode": {
    "name": "ipython",
    "version": 3
   },
   "file_extension": ".py",
   "mimetype": "text/x-python",
   "name": "python",
   "nbconvert_exporter": "python",
   "pygments_lexer": "ipython3",
   "version": "3.8.5"
  },
  "orig_nbformat": 4
 },
 "nbformat": 4,
 "nbformat_minor": 2
}
