{
 "cells": [
  {
   "cell_type": "code",
   "execution_count": 7,
   "metadata": {},
   "outputs": [
    {
     "name": "stdout",
     "output_type": "stream",
     "text": [
      "saveFigures is set to: True\n",
      "Done loading packages\n"
     ]
    }
   ],
   "source": [
    "# Load packages and settings\n",
    "import numpy as np\n",
    "import pandas as pd\n",
    "pd.set_option('display.max_rows', 500)\n",
    "pd.set_option('display.min_rows', 50)\n",
    "import seaborn as sns\n",
    "\n",
    "\n",
    "import matplotlib.pyplot as plt\n",
    "%matplotlib widget\n",
    "plt.rcParams['figure.figsize'] = (12,8)\n",
    "plt.rcParams[\"image.cmap\"] = \"tab10\"\n",
    "plt.rcParams['axes.prop_cycle'] = plt.cycler(color=plt.cm.tab10.colors)\n",
    "fs_label = 16\n",
    "parameters = {\n",
    "                'axes.labelsize': fs_label,\n",
    "                'axes.titlesize': fs_label+4,\n",
    "                'xtick.labelsize': fs_label,\n",
    "                'ytick.labelsize': fs_label, \n",
    "                'legend.fontsize': fs_label, \n",
    "                'lines.markersize': 10,\n",
    "                'lines.linewidth': 3\n",
    "             }\n",
    "plt.rcParams.update(parameters)\n",
    "%matplotlib widget\n",
    "from matplotlib import cm # Colormaps\n",
    "import matplotlib.colors as colors\n",
    "# cmap = plt.cm.get_cmap('Dark2',len(ageGroups))\n",
    "\n",
    "import locale\n",
    "import matplotlib.dates as mdates\n",
    "locale.setlocale(locale.LC_TIME,\"Danish\")\n",
    "# ax1.xaxis.set_major_formatter(mdates.DateFormatter('%b\\n%Y'))\n",
    "# ax1.spines['top'].set_visible(False) \n",
    "\n",
    "import os\n",
    "# import csv\n",
    "import math\n",
    "\n",
    "import datetime\n",
    "from datetime import date\n",
    "\n",
    "\n",
    "# ax.legend(bbox_to_anchor=(1.04,0.5), loc=\"center left\")\n",
    "\n",
    "saveFigures = True\n",
    "# saveFigures = False\n",
    "print('saveFigures is set to: '+str(saveFigures))\n",
    "\n",
    "print('Done loading packages')\n",
    "\n",
    "# Define running mean functions\n",
    "def rnMean(data,meanWidth):\n",
    "    return np.convolve(data, np.ones(meanWidth)/meanWidth, mode='valid')\n",
    "def rnTime(t,meanWidth):\n",
    "    return t[math.floor(meanWidth/2):-math.ceil(meanWidth/2)+1]"
   ]
  },
  {
   "cell_type": "code",
   "execution_count": 8,
   "metadata": {},
   "outputs": [],
   "source": [
    "# Define paths\n",
    "rootdir_data = os.getcwd() +\"\\\\..\\\\DanskeData\\\\\" \n",
    "\n",
    "path_data = rootdir_data + \"ssi_data\\\\\"\n",
    "path_dash = rootdir_data + \"ssi_dashboard\\\\\"\n",
    "path_vacc = rootdir_data + \"ssi_vacc\\\\\"\n",
    "\n",
    "path_figs = os.getcwd() +\"\\\\..\\\\Figures\\\\\" "
   ]
  },
  {
   "cell_type": "code",
   "execution_count": 54,
   "metadata": {},
   "outputs": [],
   "source": [
    "latestsubdir = list(os.walk(path_dash))[0][1][-1]\n",
    "latestdir = path_dash + latestsubdir\n",
    "\n",
    "df = pd.read_csv(latestdir+'/Regionalt_DB/03_bekraeftede_tilfaelde_doede_indlagte_pr_dag_pr_koen.csv',encoding='latin1',delimiter = ';')\n",
    "df['Prøvetagningsdato'] = pd.to_datetime(df['Prøvetagningsdato'])\n",
    "\n",
    "kortdf  = pd.read_csv(latestdir+'/Regionalt_DB/13_regionale_kort.csv',encoding='latin1',delimiter = ';')\n",
    "# kortdf"
   ]
  },
  {
   "cell_type": "code",
   "execution_count": 55,
   "metadata": {},
   "outputs": [
    {
     "data": {
      "text/plain": [
       "'SSI_dashboard_2022-02-07'"
      ]
     },
     "execution_count": 55,
     "metadata": {},
     "output_type": "execute_result"
    }
   ],
   "source": [
    "latestsubdir"
   ]
  },
  {
   "cell_type": "code",
   "execution_count": 56,
   "metadata": {},
   "outputs": [
    {
     "name": "stdout",
     "output_type": "stream",
     "text": [
      "Path to latest Tuesday was SSI_data_2022-02-01\n"
     ]
    }
   ],
   "source": [
    "\n",
    "\n",
    "# Data is (only) in the file from the most recent tuesday. \n",
    "# Should be made smarter, but here hardcoded\n",
    "# tuePath = 'SSI_data_2022-01-25'\n",
    "# Now automatic finding of latest tuesday:\n",
    "for k in range(0,7):\n",
    "    dayToCheck = np.datetime64('today')-np.timedelta64(k,'D')\n",
    "    thisWeekDay = (dayToCheck).astype(datetime.datetime).isoweekday()    \n",
    "    if (thisWeekDay == 2):\n",
    "        tuePath = 'SSI_data_'+str(dayToCheck)\n",
    "\n",
    "tuePath = 'SSI_data_2022-02-01'\n",
    "\n",
    "print(f'Path to latest Tuesday was {tuePath}')\n",
    "\n",
    "dirPath = path_data + tuePath + '\\\\'\n",
    "\n",
    "df1 = pd.read_csv(dirPath+'gennembrudsinfektioner_table1.csv',delimiter=';')\n",
    "\n",
    "df2_C = pd.read_csv(dirPath+'gennembrudsinfektioner_table2_antal_cases.csv',delimiter=';')\n",
    "df2_H = pd.read_csv(dirPath+'gennembrudsinfektioner_table2_antal_indlagte.csv',delimiter=';')\n",
    "df2_D = pd.read_csv(dirPath+'gennembrudsinfektioner_table2_antal_dode.csv',delimiter=';')\n",
    "df2_R = pd.read_csv(dirPath+'gennembrudsinfektioner_table2_antal_repositive.csv',delimiter=';')\n",
    "df2_Int = pd.read_csv(dirPath+'gennembrudsinfektioner_table2_antal_intensiv.csv',delimiter=';')\n",
    "df2_T = pd.read_csv(dirPath+'gennembrudsinfektioner_table2_antal_tests.csv',delimiter=';')\n",
    "\n",
    "df3 = pd.read_csv(dirPath+'gennembrudsinfektioner_table2_incidence_alle.csv',delimiter=';',decimal=\",\")\n",
    "df3_C = pd.read_csv(dirPath+'gennembrudsinfektioner_table2_incidence_cases.csv',delimiter=';',decimal=\",\")\n",
    "df3_H = pd.read_csv(dirPath+'gennembrudsinfektioner_table2_incidence_indlagte.csv',delimiter=';',decimal=\",\")\n",
    "df3_D = pd.read_csv(dirPath+'gennembrudsinfektioner_table2_incidence_dode.csv',delimiter=';',decimal=\",\")\n",
    "df3_Int = pd.read_csv(dirPath+'gennembrudsinfektioner_table2_incidence_intensiv.csv',delimiter=';',decimal=\",\")\n",
    "df3_T = pd.read_csv(dirPath+'gennembrudsinfektioner_table2_incidence_tests.csv',delimiter=';',decimal=\",\")"
   ]
  },
  {
   "cell_type": "code",
   "execution_count": 57,
   "metadata": {},
   "outputs": [
    {
     "data": {
      "text/plain": [
       "array(['2021-10-11T00:00:00.000000', '2021-10-18T00:00:00.000000',\n",
       "       '2021-10-25T00:00:00.000000', '2021-11-01T00:00:00.000000',\n",
       "       '2021-11-08T00:00:00.000000', '2021-11-15T00:00:00.000000',\n",
       "       '2021-11-22T00:00:00.000000', '2021-11-29T00:00:00.000000',\n",
       "       '2021-12-06T00:00:00.000000', '2021-12-13T00:00:00.000000',\n",
       "       '2021-12-20T00:00:00.000000', '2021-12-27T00:00:00.000000',\n",
       "       '2022-01-03T00:00:00.000000', '2022-01-10T00:00:00.000000',\n",
       "       '2022-01-17T00:00:00.000000', '2022-01-24T00:00:00.000000'],\n",
       "      dtype='datetime64[us]')"
      ]
     },
     "execution_count": 57,
     "metadata": {},
     "output_type": "execute_result"
    }
   ],
   "source": [
    "weekDTs"
   ]
  },
  {
   "cell_type": "code",
   "execution_count": 58,
   "metadata": {},
   "outputs": [
    {
     "name": "stdout",
     "output_type": "stream",
     "text": [
      "['Uge 41-2021' 'Uge 42-2021' 'Uge 43-2021' 'Uge 44-2021' 'Uge 45-2021'\n",
      " 'Uge 46-2021' 'Uge 47-2021' 'Uge 48-2021' 'Uge 49-2021' 'Uge 50-2021'\n",
      " 'Uge 51-2021' 'Uge 52-2021' 'Uge 01-2022' 'Uge 02-2022' 'Uge 03-2022'\n",
      " 'Uge 04-2022']\n"
     ]
    }
   ],
   "source": [
    "\n",
    "weekDTs = [np.datetime64(datetime.datetime.strptime(d[-4:] + '-W'+d[4:6]+'-1', \"%Y-W%W-%w\")) for d in df1.Ugenummer]\n",
    "\n",
    "curOrder = np.argsort(weekDTs)\n",
    "weekDTs = np.array(weekDTs)\n",
    "weekDTs = weekDTs[curOrder]\n",
    "        \n",
    "sNone = 'Ingen vaccination'        \n",
    "sOne = 'Første vaccination'  \n",
    "sTwo = 'Anden vaccination'\n",
    "sFull = 'Fuld effekt efter primært forløb'   \n",
    "sReva = 'Fuld effekt efter revaccination'\n",
    "\n",
    "\n",
    "ageGroups = df2_C.Aldersgruppe.values\n",
    "# print(ageGroups)\n",
    "# weekNames = df1.Ugenummer\n",
    "weekNames = df1.Ugenummer.values[curOrder]\n",
    "weekNamesShort = [x[4:6] for x in weekNames]\n",
    "wInt = [int(x[4:6]) for x in weekNames]\n",
    "wIntRange = np.arange(len(wInt))\n",
    "\n",
    "allDates = np.array(weekDTs)[curOrder]\n",
    "print(weekNames)\n",
    "\n",
    "# Make function for gettings particular parts\n",
    "def getTimeSeries(thisdf=df2_C,curStatus='Ingen vaccination',curAge='Alle',weekNames=weekNames):\n",
    "    \n",
    "    agedf = thisdf[thisdf.Aldersgruppe==curAge]\n",
    "    allVals = []\n",
    "    for curWeek in weekNames:\n",
    "        toAdd = agedf[curWeek+'_'+curStatus].values[0]\n",
    "        allVals.append(toAdd)\n",
    "    allVals = np.array(allVals)\n",
    "\n",
    "    return allVals\n",
    "\n",
    "def getTimeSeriesAll(thisdf=df2_C,curAge='Alle',weekNames=weekNames):\n",
    "    return getTimeSeries(thisdf,sNone,curAge,weekNames)+getTimeSeries(thisdf,sOne,curAge,weekNames)+getTimeSeries(thisdf,sTwo,curAge,weekNames)"
   ]
  },
  {
   "cell_type": "markdown",
   "metadata": {},
   "source": [
    "# Compare \"gennembruds\" files with regional files"
   ]
  },
  {
   "cell_type": "code",
   "execution_count": 59,
   "metadata": {},
   "outputs": [],
   "source": [
    "df_tot = df.groupby('Prøvetagningsdato').sum()\n",
    "datesDaily = df_tot.index\n",
    "deathsDaily = df_tot['Døde'].values"
   ]
  },
  {
   "cell_type": "code",
   "execution_count": 62,
   "metadata": {},
   "outputs": [
    {
     "data": {
      "application/vnd.jupyter.widget-view+json": {
       "model_id": "60c52c98781442c09c2349e3c3b69315",
       "version_major": 2,
       "version_minor": 0
      },
      "text/plain": [
       "Canvas(toolbar=Toolbar(toolitems=[('Home', 'Reset original view', 'home', 'home'), ('Back', 'Back to previous …"
      ]
     },
     "metadata": {},
     "output_type": "display_data"
    }
   ],
   "source": [
    "fig,ax1 = plt.subplots()\n",
    "\n",
    "ax2 = ax1.twinx()\n",
    "\n",
    "ax1.plot(datesDaily,deathsDaily,'k.-',markersize=3,linewidth=0.5,label='Daglig data, regionalt')\n",
    "ax1.plot(rnTime(datesDaily,7),rnMean(deathsDaily,7),'k',label='7-dages gennemsnit, regionalt')\n",
    "weekTotDeaths = getTimeSeriesAll(df2_D)\n",
    "# ax2.step(weekDTs,weekTotDeaths,'b',label='Ugentlige data, gennembrudsfiler')\n",
    "ax1.step(weekDTs,weekTotDeaths/7,'b',where='pre',label='Ugentlig data, gennembrudsfiler')\n",
    "\n",
    "ax1.set_xlim(left=weekDTs[0])\n",
    "\n",
    "ax1.set_ylabel('Daglige dødsfald')\n",
    "ax2.set_ylabel('Ugentlige dødsfald')\n",
    "\n",
    "ax1.set_ylim(bottom=0)\n",
    "\n",
    "ax1.legend()\n",
    "\n",
    "curylim = ax1.get_ylim()\n",
    "ax2.set_ylim(0,curylim[1]*7)\n",
    "\n",
    "if saveFigures:\n",
    "    plt.savefig(path_figs+'Regionalt\\\\DeathsComparison')"
   ]
  },
  {
   "cell_type": "code",
   "execution_count": null,
   "metadata": {},
   "outputs": [],
   "source": []
  }
 ],
 "metadata": {
  "interpreter": {
   "hash": "c72cdf52cb3d31f207bca538e9396da8706c0ecf4a3038fb1c2b317934170431"
  },
  "kernelspec": {
   "display_name": "Python 3.8.5 64-bit ('main': conda)",
   "language": "python",
   "name": "python3"
  },
  "language_info": {
   "codemirror_mode": {
    "name": "ipython",
    "version": 3
   },
   "file_extension": ".py",
   "mimetype": "text/x-python",
   "name": "python",
   "nbconvert_exporter": "python",
   "pygments_lexer": "ipython3",
   "version": "3.8.5"
  },
  "orig_nbformat": 4
 },
 "nbformat": 4,
 "nbformat_minor": 2
}
