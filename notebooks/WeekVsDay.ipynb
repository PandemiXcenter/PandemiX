{
 "cells": [
  {
   "cell_type": "code",
   "execution_count": 29,
   "metadata": {},
   "outputs": [
    {
     "name": "stdout",
     "output_type": "stream",
     "text": [
      "saveFigures is set to: True\n",
      "Done loading packages\n"
     ]
    }
   ],
   "source": [
    "# Load packages and settings\n",
    "import numpy as np\n",
    "import pandas as pd\n",
    "pd.set_option('display.max_rows', 500)\n",
    "pd.set_option('display.min_rows', 50)\n",
    "import seaborn as sns\n",
    "\n",
    "\n",
    "import matplotlib.pyplot as plt\n",
    "%matplotlib widget\n",
    "plt.rcParams['figure.figsize'] = (12,8)\n",
    "plt.rcParams[\"image.cmap\"] = \"tab10\"\n",
    "plt.rcParams['axes.prop_cycle'] = plt.cycler(color=plt.cm.tab10.colors)\n",
    "fs_label = 16\n",
    "parameters = {\n",
    "                'axes.labelsize': fs_label,\n",
    "                'axes.titlesize': fs_label+4,\n",
    "                'xtick.labelsize': fs_label,\n",
    "                'ytick.labelsize': fs_label, \n",
    "                'legend.fontsize': fs_label, \n",
    "                'lines.markersize': 10,\n",
    "                'lines.linewidth': 3\n",
    "             }\n",
    "plt.rcParams.update(parameters)\n",
    "%matplotlib widget\n",
    "from matplotlib import cm # Colormaps\n",
    "import matplotlib.colors as colors\n",
    "# cmap = plt.cm.get_cmap('Dark2',len(ageGroups))\n",
    "\n",
    "import locale\n",
    "import matplotlib.dates as mdates\n",
    "locale.setlocale(locale.LC_TIME,\"Danish\")\n",
    "# ax1.xaxis.set_major_formatter(mdates.DateFormatter('%b\\n%Y'))\n",
    "\n",
    "import os\n",
    "# import csv\n",
    "import math\n",
    "\n",
    "from datetime import date\n",
    "\n",
    "\n",
    "saveFigures = True\n",
    "# saveFigures = False\n",
    "print('saveFigures is set to: '+str(saveFigures))\n",
    "\n",
    "print('Done loading packages')\n",
    "\n",
    "# Define running mean functions\n",
    "def rnMean(data,meanWidth):\n",
    "    return np.convolve(data, np.ones(meanWidth)/meanWidth, mode='valid')\n",
    "def rnTime(t,meanWidth):\n",
    "    return t[math.floor(meanWidth/2):-math.ceil(meanWidth/2)+1]"
   ]
  },
  {
   "cell_type": "code",
   "execution_count": 30,
   "metadata": {},
   "outputs": [],
   "source": [
    "# Define paths\n",
    "rootdir_data = os.getcwd() +\"\\\\..\\\\DanskeData\\\\\" \n",
    "\n",
    "path_data = rootdir_data + \"ssi_data\\\\\"\n",
    "path_dash = rootdir_data + \"ssi_dashboard\\\\\"\n",
    "path_vacc = rootdir_data + \"ssi_vacc\\\\\"\n",
    "\n",
    "path_figs = os.getcwd() +\"\\\\..\\\\Figures\\\\\" "
   ]
  },
  {
   "cell_type": "code",
   "execution_count": 31,
   "metadata": {},
   "outputs": [
    {
     "data": {
      "text/html": [
       "<div>\n",
       "<style scoped>\n",
       "    .dataframe tbody tr th:only-of-type {\n",
       "        vertical-align: middle;\n",
       "    }\n",
       "\n",
       "    .dataframe tbody tr th {\n",
       "        vertical-align: top;\n",
       "    }\n",
       "\n",
       "    .dataframe thead th {\n",
       "        text-align: right;\n",
       "    }\n",
       "</style>\n",
       "<table border=\"1\" class=\"dataframe\">\n",
       "  <thead>\n",
       "    <tr style=\"text-align: right;\">\n",
       "      <th></th>\n",
       "      <th>Dato</th>\n",
       "      <th>Antal_døde</th>\n",
       "    </tr>\n",
       "  </thead>\n",
       "  <tbody>\n",
       "    <tr>\n",
       "      <th>618</th>\n",
       "      <td>2021-11-19</td>\n",
       "      <td>7</td>\n",
       "    </tr>\n",
       "    <tr>\n",
       "      <th>619</th>\n",
       "      <td>2021-11-20</td>\n",
       "      <td>4</td>\n",
       "    </tr>\n",
       "    <tr>\n",
       "      <th>620</th>\n",
       "      <td>2021-11-21</td>\n",
       "      <td>3</td>\n",
       "    </tr>\n",
       "    <tr>\n",
       "      <th>621</th>\n",
       "      <td>2021-11-22</td>\n",
       "      <td>4</td>\n",
       "    </tr>\n",
       "    <tr>\n",
       "      <th>622</th>\n",
       "      <td>2021-11-23</td>\n",
       "      <td>0</td>\n",
       "    </tr>\n",
       "  </tbody>\n",
       "</table>\n",
       "</div>"
      ],
      "text/plain": [
       "          Dato  Antal_døde\n",
       "618 2021-11-19           7\n",
       "619 2021-11-20           4\n",
       "620 2021-11-21           3\n",
       "621 2021-11-22           4\n",
       "622 2021-11-23           0"
      ]
     },
     "execution_count": 31,
     "metadata": {},
     "output_type": "execute_result"
    }
   ],
   "source": [
    "\n",
    "latestsubdir = list(os.walk(path_data))[0][1][-1]\n",
    "latestdir = path_data + latestsubdir\n",
    "\n",
    "dfCase = pd.read_csv(latestdir+'/Test_pos_over_time.csv',delimiter = ';',dtype=str)\n",
    "dfCase = dfCase.iloc[:-2]\n",
    "dfCase['NewPositive'] = pd.to_numeric(dfCase['NewPositive'].astype(str).apply(lambda x: x.replace('.','')))\n",
    "dfCase['Tested'] = pd.to_numeric(dfCase['Tested'].astype(str).apply(lambda x: x.replace('.','')))\n",
    "dfCase['PosPct'] = pd.to_numeric(dfCase['PosPct'].astype(str).apply(lambda x: x.replace(',','.')))\n",
    "dfCase['Date'] =  pd.to_datetime(dfCase.Date,format='%Y-%m-%d')\n",
    "testDates = dfCase['Date']\n",
    "\n",
    "dfAdm = pd.read_csv(latestdir+'/Newly_admitted_over_time.csv',delimiter = ';',dtype=str)\n",
    "dfAdm['Dato'] = pd.to_datetime(dfAdm['Dato'])\n",
    "dfAdm['Total'] = pd.to_numeric(dfAdm['Total'])\n",
    "dfAdm.tail()\n",
    "\n",
    "\n",
    "dfDea = pd.read_csv(latestdir+'/Deaths_over_time.csv',delimiter = ';',dtype=str)\n",
    "dfDea = dfDea.iloc[:-1,:]\n",
    "dfDea['Dato'] = pd.to_datetime(dfDea['Dato'])\n",
    "dfDea['Antal_døde'] = pd.to_numeric(dfDea['Antal_døde'])\n",
    "dfDea.tail()"
   ]
  },
  {
   "cell_type": "code",
   "execution_count": 32,
   "metadata": {},
   "outputs": [
    {
     "data": {
      "application/vnd.jupyter.widget-view+json": {
       "model_id": "d3e962564b90497bad7f7370d5bdf3fd",
       "version_major": 2,
       "version_minor": 0
      },
      "text/plain": [
       "Canvas(toolbar=Toolbar(toolitems=[('Home', 'Reset original view', 'home', 'home'), ('Back', 'Back to previous …"
      ]
     },
     "metadata": {},
     "output_type": "display_data"
    }
   ],
   "source": [
    "# Test-figur\n",
    "fig,ax1 = plt.subplots()\n",
    "ax1.plot(dfCase.Date,dfCase.NewPositive,'o:',markersize=4,linewidth=1)\n",
    "plt.tight_layout()"
   ]
  },
  {
   "cell_type": "code",
   "execution_count": 33,
   "metadata": {},
   "outputs": [],
   "source": [
    "# dfCase.NewPositive.iloc[: ]"
   ]
  },
  {
   "cell_type": "code",
   "execution_count": 34,
   "metadata": {},
   "outputs": [
    {
     "data": {
      "application/vnd.jupyter.widget-view+json": {
       "model_id": "1d8fb6e3e1a94533ac6232c1b90790f4",
       "version_major": 2,
       "version_minor": 0
      },
      "text/plain": [
       "Canvas(toolbar=Toolbar(toolitems=[('Home', 'Reset original view', 'home', 'home'), ('Back', 'Back to previous …"
      ]
     },
     "metadata": {},
     "output_type": "display_data"
    }
   ],
   "source": [
    "curDataToUse = dfCase.NewPositive.iloc[:-1]\n",
    "# curDataToUse = dfCase.NewPositive\n",
    "dailydiff = curDataToUse.diff()\n",
    "# curDates = dfCase.Date.values\n",
    "curDates = dfCase.Date.values[:-1]\n",
    "\n",
    "fig,(ax1,ax2) = plt.subplots(2,1,sharex=True)\n",
    "ax1.plot(curDates,curDataToUse,'b.-',markersize=7,linewidth=1)\n",
    "ax2.plot([curDates[0],curDates[-1]],[0,0],'k:')\n",
    "ax2.plot(curDates,dailydiff,'b.-',markersize=7,linewidth=1)\n",
    "\n",
    "# Draw weekends\n",
    "firstSunday = np.datetime64('2021-01-03')\n",
    "numWeeks = 52\n",
    "for k in range(-numWeeks,numWeeks):\n",
    "    curSunday = firstSunday + np.timedelta64(7*k,'D')\n",
    "    ax1.axvspan(curSunday-np.timedelta64(1,'D')-np.timedelta64(12,'h'),curSunday+np.timedelta64(12,'h'),zorder=-1,facecolor='lightgrey',label=int(k==0)*'Weekend')\n",
    "    ax2.axvspan(curSunday-np.timedelta64(1,'D')-np.timedelta64(12,'h'),curSunday+np.timedelta64(12,'h'),zorder=-1,facecolor='lightgrey',label=int(k==0)*'Weekend')\n",
    "\n",
    "ax1.set_ylim(bottom=0,top=4500)\n",
    "ax2.set_ylim([-700,700])\n",
    "\n",
    "ax1.set_ylabel('Antal tilfælde')\n",
    "ax2.set_ylabel('Daglig forskel')\n",
    "\n",
    "firstDate = np.datetime64('2021-06-01')\n",
    "lastDate = np.datetime64('2021-12-01')\n",
    "ax1.set_xlim([firstDate,lastDate])\n",
    "\n",
    "# firstDate = np.datetime64('2021-08-01')\n",
    "# lastDate = np.datetime64('2021-11-15')\n",
    "# ax1.set_xlim([firstDate,lastDate])\n",
    "\n",
    "ax2.xaxis.set_major_formatter(mdates.DateFormatter('%d\\n%B'))\n",
    "plt.tight_layout()\n",
    "\n",
    "plt.savefig(path_figs+'DagligForskel')"
   ]
  },
  {
   "cell_type": "code",
   "execution_count": 35,
   "metadata": {},
   "outputs": [
    {
     "data": {
      "application/vnd.jupyter.widget-view+json": {
       "model_id": "eddf4bf4c38a44f89d1a7cdf61fae28d",
       "version_major": 2,
       "version_minor": 0
      },
      "text/plain": [
       "Canvas(toolbar=Toolbar(toolitems=[('Home', 'Reset original view', 'home', 'home'), ('Back', 'Back to previous …"
      ]
     },
     "metadata": {},
     "output_type": "display_data"
    }
   ],
   "source": [
    "curDataToUse = dfCase.NewPositive.iloc[:-1]\n",
    "# curDataToUse = dfCase.NewPositive\n",
    "dailydiff = curDataToUse.diff()\n",
    "# curDates = dfCase.Date.values\n",
    "curDates = dfCase.Date.values[:-1]\n",
    "\n",
    "# fig,(ax1,ax2) = plt.subpblots(2,1,sharex=True)\n",
    "fig,ax1 = plt.subplots()\n",
    "ax1.plot(curDates,curDataToUse,'k.-',markersize=5,linewidth=1,label='Data')\n",
    "ax1.plot(rnTime(curDates,7),rnMean(curDataToUse,7),'b',label='7 dages rullende gennemsnit')\n",
    "# ax2.plot([curDates[0],curDates[-1]],[0,0],'k:')\n",
    "# ax2.plot(curDates,dailydiff,'b.-',markersize=7,linewidth=1)\n",
    "\n",
    "# Draw weekends\n",
    "firstSunday = np.datetime64('2021-01-03')\n",
    "numWeeks = 52\n",
    "for k in range(-numWeeks,numWeeks):\n",
    "    curSunday = firstSunday + np.timedelta64(7*k,'D')\n",
    "    ax1.axvspan(curSunday-np.timedelta64(1,'D')-np.timedelta64(12,'h'),curSunday+np.timedelta64(12,'h'),zorder=-1,facecolor='lightgrey',label=int(k==0)*'Weekend')\n",
    "    # ax2.axvspan(curSunday-np.timedelta64(1,'D')-np.timedelta64(12,'h'),curSunday+np.timedelta64(12,'h'),zorder=-1,facecolor='lightgrey',label=int(k==0)*'Weekend')\n",
    "\n",
    "ax1.set_ylim(bottom=0,top=3500)\n",
    "# ax2.set_ylim([-700,700])\n",
    "\n",
    "ax1.set_ylabel('Antal tilfælde')\n",
    "# ax2.set_ylabel('Daglig forskel')\n",
    "\n",
    "firstDate = np.datetime64('2021-06-01')\n",
    "lastDate = np.datetime64('2021-12-01')\n",
    "ax1.set_xlim([firstDate,lastDate])\n",
    "\n",
    "ax1.xaxis.set_major_formatter(mdates.DateFormatter('%d\\n%B'))\n",
    "\n",
    "ax1.legend(loc='upper left')\n",
    "plt.tight_layout()\n",
    "\n",
    "plt.savefig(path_figs+'DagligeCases')\n",
    "\n",
    "ax1.set_yscale('log')\n",
    "ax1.set_ylabel('Antal tilfælde (logaritmisk akse)')\n",
    "ax1.grid(axis='y',which='minor')\n",
    "\n",
    "ax1.set_ylim([100,10000])\n",
    "plt.tight_layout()\n",
    "\n",
    "plt.savefig(path_figs+'DagligeCases_Log')"
   ]
  },
  {
   "cell_type": "code",
   "execution_count": 36,
   "metadata": {},
   "outputs": [
    {
     "data": {
      "application/vnd.jupyter.widget-view+json": {
       "model_id": "5f4545887b8848eaa3137ed18d245f2c",
       "version_major": 2,
       "version_minor": 0
      },
      "text/plain": [
       "Canvas(toolbar=Toolbar(toolitems=[('Home', 'Reset original view', 'home', 'home'), ('Back', 'Back to previous …"
      ]
     },
     "metadata": {},
     "output_type": "display_data"
    }
   ],
   "source": [
    "curDataToUse = dfCase.NewPositive.iloc[:-1] \n",
    "dailydiff = curDataToUse.diff()\n",
    "# curDates = dfCase.Date.values\n",
    "curDates = dfCase.Date.values[:-1]\n",
    "\n",
    "curErr = np.sqrt(dfCase.Tested.iloc[:-1])\n",
    "\n",
    "fig,(ax1,ax2) = plt.subplots(2,1,sharex=True)\n",
    "# ax1.plot(curDates,curDataToUse,'b.-',markersize=7,linewidth=1)\n",
    "ax1.errorbar(curDates,curDataToUse,yerr=curErr,fmt='b.-',capsize=2,markersize=7,linewidth=0.5)\n",
    "ax1.plot(rnTime(curDates,7),rnMean(curDataToUse,7),'b')\n",
    "\n",
    "ax2.plot([curDates[0],curDates[-1]],[0,0],'k:')\n",
    "ax2.errorbar(curDates,dailydiff,yerr=curErr,fmt='b.-',capsize=2,markersize=7,linewidth=0.5)\n",
    "ax2.plot(rnTime(curDates,7),rnMean(dailydiff,7),'b')\n",
    "\n",
    "# Draw weekends\n",
    "firstSunday = np.datetime64('2021-01-03')\n",
    "numWeeks = 52\n",
    "for k in range(-numWeeks,numWeeks):\n",
    "    curSunday = firstSunday + np.timedelta64(7*k,'D')\n",
    "    ax1.axvspan(curSunday-np.timedelta64(1,'D')-np.timedelta64(12,'h'),curSunday+np.timedelta64(12,'h'),zorder=-1,facecolor='lightgrey',label=int(k==0)*'Weekend')\n",
    "    ax2.axvspan(curSunday-np.timedelta64(1,'D')-np.timedelta64(12,'h'),curSunday+np.timedelta64(12,'h'),zorder=-1,facecolor='lightgrey',label=int(k==0)*'Weekend')\n",
    "\n",
    "ax1.set_ylim(bottom=0,top=5000)\n",
    "ax2.set_ylim([-900,900])\n",
    "\n",
    "ax1.set_ylabel('Antal tilfælde')\n",
    "ax2.set_ylabel('Daglig forskel')\n",
    "\n",
    "firstDate = np.datetime64('2021-06-01')\n",
    "lastDate = np.datetime64('2021-12-01')\n",
    "ax1.set_xlim([firstDate,lastDate])\n",
    "firstDate = np.datetime64('2021-08-01')\n",
    "# lastDate = np.datetime64('2021-11-15')\n",
    "ax1.set_xlim([firstDate,lastDate])\n",
    "\n",
    "ax2.xaxis.set_major_formatter(mdates.DateFormatter('%d\\n%B'))\n",
    "plt.tight_layout()\n",
    "\n",
    "plt.savefig(path_figs+'DagligForskel_MedUsikkerhed')"
   ]
  },
  {
   "cell_type": "code",
   "execution_count": 37,
   "metadata": {},
   "outputs": [
    {
     "data": {
      "application/vnd.jupyter.widget-view+json": {
       "model_id": "5b39bff5e1114679828b48de2278fa45",
       "version_major": 2,
       "version_minor": 0
      },
      "text/plain": [
       "Canvas(toolbar=Toolbar(toolitems=[('Home', 'Reset original view', 'home', 'home'), ('Back', 'Back to previous …"
      ]
     },
     "metadata": {},
     "output_type": "display_data"
    }
   ],
   "source": [
    "curDataToUse = dfCase.NewPositive.iloc[:-1] \n",
    "dailydiff = curDataToUse.diff()\n",
    "# curDates = dfCase.Date.values\n",
    "curDates = dfCase.Date.values[:-1]\n",
    "\n",
    "curErr = np.sqrt(dfCase.Tested.iloc[:-1])\n",
    "\n",
    "fig,(ax1,ax2) = plt.subplots(2,1,sharex=True)\n",
    "# ax1.plot(curDates,curDataToUse,'b.-',markersize=7,linewidth=1)\n",
    "ax1.errorbar(curDates,curDataToUse,yerr=curErr,fmt='b.-',capsize=2,markersize=7,linewidth=0.5)\n",
    "ax1.plot(rnTime(curDates,7),rnMean(curDataToUse,7),'b')\n",
    "\n",
    "ax2.plot(curDates,np.power(curErr,2),'m.-',markersize=7,linewidth=1)\n",
    "ax2.plot(rnTime(curDates,7),rnMean(np.power(curErr,2),7),'m')\n",
    "\n",
    "# ax2.plot([curDates[0],curDates[-1]],[0,0],'k:')\n",
    "# ax2.errorbar(curDates,dailydiff,yerr=curErr,fmt='b.-',capsize=2,markersize=7,linewidth=0.5)\n",
    "# ax2.plot(rnTime(curDates,7),rnMean(dailydiff,7),'b')\n",
    "\n",
    "# Draw weekends\n",
    "firstSunday = np.datetime64('2021-01-03')\n",
    "numWeeks = 52\n",
    "for k in range(-numWeeks,numWeeks):\n",
    "    curSunday = firstSunday + np.timedelta64(7*k,'D')\n",
    "    ax1.axvspan(curSunday-np.timedelta64(1,'D')-np.timedelta64(12,'h'),curSunday+np.timedelta64(12,'h'),zorder=-1,facecolor='lightgrey',label=int(k==0)*'Weekend')\n",
    "    ax2.axvspan(curSunday-np.timedelta64(1,'D')-np.timedelta64(12,'h'),curSunday+np.timedelta64(12,'h'),zorder=-1,facecolor='lightgrey',label=int(k==0)*'Weekend')\n",
    "\n",
    "ax1.set_ylim(bottom=0,top=5000)\n",
    "# ax2.set_ylim([-900,900])\n",
    "\n",
    "ax1.set_ylabel('Antal tilfælde')\n",
    "ax2.set_ylabel('Antal tests')\n",
    "\n",
    "firstDate = np.datetime64('2021-06-01')\n",
    "lastDate = np.datetime64('2021-12-01')\n",
    "ax1.set_xlim([firstDate,lastDate])\n",
    "firstDate = np.datetime64('2021-08-01')\n",
    "# lastDate = np.datetime64('2021-11-15')\n",
    "ax1.set_xlim([firstDate,lastDate])\n",
    "\n",
    "ax2.xaxis.set_major_formatter(mdates.DateFormatter('%d\\n%B'))\n",
    "plt.tight_layout()\n",
    "\n",
    "plt.savefig(path_figs+'DagligTilfældeOgTest')"
   ]
  },
  {
   "cell_type": "code",
   "execution_count": 38,
   "metadata": {},
   "outputs": [
    {
     "data": {
      "application/vnd.jupyter.widget-view+json": {
       "model_id": "ea91abfb5ab34f318bdf0e8c5ab88549",
       "version_major": 2,
       "version_minor": 0
      },
      "text/plain": [
       "Canvas(toolbar=Toolbar(toolitems=[('Home', 'Reset original view', 'home', 'home'), ('Back', 'Back to previous …"
      ]
     },
     "metadata": {},
     "output_type": "display_data"
    }
   ],
   "source": [
    "curDataToUse = dfCase.NewPositive.iloc[:-1] \n",
    "dailydiff = curDataToUse.diff()\n",
    "# curDates = dfCase.Date.values\n",
    "curDates = dfCase.Date.values[:-1]\n",
    "\n",
    "curErr = np.sqrt(dfCase.Tested.iloc[:-1])\n",
    "\n",
    "fig,(ax1,ax2) = plt.subplots(2,1,sharex=True)\n",
    "ax1.plot(curDates,curDataToUse,'b.-',markersize=5,linewidth=0.5)\n",
    "# ax1.errorbar(curDates,curDataToUse,yerr=curErr,fmt='b.-',capsize=2,markersize=7,linewidth=0.5)\n",
    "ax1.plot(rnTime(curDates,7),rnMean(curDataToUse,7),'b')\n",
    "\n",
    "ax2.plot([curDates[0],curDates[-1]],[0,0],'k:')\n",
    "# ax2.errorbar(curDates,dailydiff,yerr=curErr,fmt='b.-',capsize=2,markersize=7,linewidth=0.5)\n",
    "ax2.plot(curDates,dailydiff,'b.-',markersize=5,linewidth=0.5)\n",
    "ax2.plot(rnTime(curDates,7),rnMean(dailydiff,7),'b')\n",
    "\n",
    "# Draw weekends\n",
    "firstSunday = np.datetime64('2021-01-03')\n",
    "numWeeks = 52\n",
    "for k in range(-numWeeks,numWeeks):\n",
    "    curSunday = firstSunday + np.timedelta64(7*k,'D')\n",
    "    ax1.axvspan(curSunday-np.timedelta64(1,'D')-np.timedelta64(12,'h'),curSunday+np.timedelta64(12,'h'),zorder=-1,facecolor='lightgrey',label=int(k==0)*'Weekend')\n",
    "    ax2.axvspan(curSunday-np.timedelta64(1,'D')-np.timedelta64(12,'h'),curSunday+np.timedelta64(12,'h'),zorder=-1,facecolor='lightgrey',label=int(k==0)*'Weekend')\n",
    "\n",
    "ax1.set_ylim(bottom=0,top=5000)\n",
    "ax2.set_ylim([-1500,1500])\n",
    "\n",
    "ax2.set_yticks(np.arange(-1500,1510,250))\n",
    "\n",
    "ax1.set_ylabel('Antal tilfælde')\n",
    "ax2.set_ylabel('Daglig forskel')\n",
    "\n",
    "# firstDate = np.datetime64('2021-06-01')\n",
    "lastDate = np.datetime64('2021-12-01')\n",
    "firstDate = np.datetime64('2021-08-01')\n",
    "# lastDate = np.datetime64('2021-11-15')\n",
    "ax1.set_xlim([firstDate,lastDate])\n",
    "\n",
    "ax2.xaxis.set_major_formatter(mdates.DateFormatter('%d\\n%B'))\n",
    "plt.tight_layout()\n",
    "\n",
    "plt.savefig(path_figs+'DagligForskel_MedGennemsnit')"
   ]
  },
  {
   "cell_type": "code",
   "execution_count": 39,
   "metadata": {},
   "outputs": [
    {
     "data": {
      "application/vnd.jupyter.widget-view+json": {
       "model_id": "87d7210f1e6649d180ca9d4ac2612afe",
       "version_major": 2,
       "version_minor": 0
      },
      "text/plain": [
       "Canvas(toolbar=Toolbar(toolitems=[('Home', 'Reset original view', 'home', 'home'), ('Back', 'Back to previous …"
      ]
     },
     "metadata": {},
     "output_type": "display_data"
    }
   ],
   "source": [
    "curDates = dfCase.Date.values\n",
    "weekDiff = dfCase.NewPositive.values[7:] - dfCase.NewPositive.values[:-7]\n",
    "\n",
    "dailydiff = dfCase.NewPositive.diff()\n",
    "\n",
    "fig,(ax1,ax2) = plt.subplots(2,1,sharex=True)\n",
    "ax1.plot(dfCase.Date,dfCase.NewPositive,'b.-',markersize=7,linewidth=1)\n",
    "ax2.plot([curDates[0],curDates[-1]],[0,0],'k:')\n",
    "ax2.plot(dfCase.Date,dailydiff,'b.-',markersize=7,linewidth=1,label='Daglig forksel')\n",
    "ax2.plot(curDates[7:],weekDiff,'r.-',markersize=7,linewidth=1,label='Ugentlig forskel')\n",
    "\n",
    "# Draw weekends\n",
    "firstSunday = np.datetime64('2021-01-03')\n",
    "numWeeks = 52\n",
    "for k in range(-numWeeks,numWeeks):\n",
    "    curSunday = firstSunday + np.timedelta64(7*k,'D')\n",
    "    ax1.axvspan(curSunday-np.timedelta64(1,'D')-np.timedelta64(12,'h'),curSunday+np.timedelta64(12,'h'),zorder=-1,facecolor='lightgrey',label=int(k==0)*'Weekend')\n",
    "    ax2.axvspan(curSunday-np.timedelta64(1,'D')-np.timedelta64(12,'h'),curSunday+np.timedelta64(12,'h'),zorder=-1,facecolor='lightgrey',label=int(k==0)*'Weekend')\n",
    "\n",
    "ax1.set_ylim(bottom=0,top=5000)\n",
    "ax2.set_ylim([-900,900])\n",
    "\n",
    "ax1.set_ylabel('Antal tilfælde')\n",
    "ax2.set_ylabel('Forskel')\n",
    "\n",
    "firstDate = np.datetime64('2021-06-01')\n",
    "lastDate = np.datetime64('2021-11-15')\n",
    "ax1.set_xlim([firstDate,lastDate])\n",
    "\n",
    "ax2.xaxis.set_major_formatter(mdates.DateFormatter('%d\\n%B'))\n",
    "plt.tight_layout()\n",
    "\n",
    "plt.savefig(path_figs+'DagligForskel_OgUgentlig')"
   ]
  },
  {
   "cell_type": "code",
   "execution_count": 40,
   "metadata": {},
   "outputs": [
    {
     "data": {
      "application/vnd.jupyter.widget-view+json": {
       "model_id": "e1799276f0b94769857f4fdc56864fd0",
       "version_major": 2,
       "version_minor": 0
      },
      "text/plain": [
       "Canvas(toolbar=Toolbar(toolitems=[('Home', 'Reset original view', 'home', 'home'), ('Back', 'Back to previous …"
      ]
     },
     "metadata": {},
     "output_type": "display_data"
    }
   ],
   "source": [
    "dailydiff = dfAdm.Total.diff()\n",
    "curDates = dfAdm.Dato.values\n",
    "\n",
    "fig,(ax1,ax2) = plt.subplots(2,1,sharex=True)\n",
    "ax1.plot(dfAdm.Dato,dfAdm.Total,'b.-',markersize=7,linewidth=1,label='Data')\n",
    "ax2.plot([curDates[0],curDates[-1]],[0,0],'k:')\n",
    "ax2.plot(dfAdm.Dato,dailydiff,'b.-',markersize=7,linewidth=1)\n",
    "\n",
    "# Draw weekends\n",
    "firstSunday = np.datetime64('2021-01-03')\n",
    "numWeeks = 52\n",
    "for k in range(-numWeeks,numWeeks):\n",
    "    curSunday = firstSunday + np.timedelta64(7*k,'D')\n",
    "    ax1.axvspan(curSunday-np.timedelta64(1,'D')-np.timedelta64(12,'h'),curSunday+np.timedelta64(12,'h'),zorder=-1,facecolor='lightgrey',label=int(k==0)*'Weekend')\n",
    "    ax2.axvspan(curSunday-np.timedelta64(1,'D')-np.timedelta64(12,'h'),curSunday+np.timedelta64(12,'h'),zorder=-1,facecolor='lightgrey',label=int(k==0)*'Weekend')\n",
    "\n",
    "ax1.set_ylim(bottom=0,top=80)\n",
    "ax2.set_ylim([-30,30])\n",
    "\n",
    "ax1.set_ylabel('Antal nye indlæggelser')\n",
    "ax2.set_ylabel('Daglig forskel')\n",
    "\n",
    "firstDate = np.datetime64('2021-06-01')\n",
    "lastDate = np.datetime64('2021-12-01')\n",
    "ax1.set_xlim([firstDate,lastDate])\n",
    "\n",
    "ax1.legend(loc='upper left')\n",
    "\n",
    "ax2.xaxis.set_major_formatter(mdates.DateFormatter('%d\\n%B'))\n",
    "plt.tight_layout()\n",
    "\n",
    "plt.savefig(path_figs+'DagligForskel_Admissions')"
   ]
  },
  {
   "cell_type": "markdown",
   "metadata": {},
   "source": [
    "# Instead, compare with weekly average"
   ]
  },
  {
   "cell_type": "code",
   "execution_count": 41,
   "metadata": {},
   "outputs": [],
   "source": [
    "# print(weeklyMeanDates[-10:])\n",
    "# print(curDates[-10:])\n",
    "# # Last three days should be ignored\n"
   ]
  },
  {
   "cell_type": "code",
   "execution_count": 42,
   "metadata": {},
   "outputs": [
    {
     "data": {
      "application/vnd.jupyter.widget-view+json": {
       "model_id": "2e06dd96d3c7487e88381a5f3bb5664c",
       "version_major": 2,
       "version_minor": 0
      },
      "text/plain": [
       "Canvas(toolbar=Toolbar(toolitems=[('Home', 'Reset original view', 'home', 'home'), ('Back', 'Back to previous …"
      ]
     },
     "metadata": {},
     "output_type": "display_data"
    }
   ],
   "source": [
    "weeklyMean = rnMean(dfCase.NewPositive,7)\n",
    "weeklyMeanDates = rnTime(dfCase.Date,7)\n",
    "curDates = dfCase.Date.values\n",
    "# weeklyMeanDates = rnTime(curDates,7)\n",
    "weekDiff = dfCase.NewPositive.values[7:] - dfCase.NewPositive.values[:-7]\n",
    "# weekMeanDiff = dfCase.NewPositive.values[9:] - weeklyMean[:-3]\n",
    "weekMeanDiff = weeklyMean[7:] - weeklyMean[:-7]\n",
    "\n",
    "fig,(ax1,ax2) = plt.subplots(2,1,sharex=True)\n",
    "# ax1.plot(weeklyMeanDates,weeklyMean,'b',linewidth=3)\n",
    "ax1.plot(dfCase.Date,dfCase.NewPositive,'b.:',markersize=5,linewidth=1,label='Data')\n",
    "ax1.plot(weeklyMeanDates,weeklyMean,'b',linewidth=3,label='7 dages rullende gennemsnit')\n",
    "\n",
    "ax2.plot([curDates[0],curDates[-1]],[0,0],'k--')\n",
    "\n",
    "ax2.plot(curDates[7:],weekDiff,'b.:',markersize=5,linewidth=1,label='Ugentlig forskel')\n",
    "ax2.plot(rnTime(curDates[7:],7),rnMean(weekDiff,7),'b',linewidth=3,label='7 dages rullende gennemsnit')\n",
    "# ax2.plot(curDates[9:],weekMeanDiff,'r.-',markersize=7,linewidth=1)\n",
    "# ax2.plot(weeklyMeanDates[7:],weekMeanDiff,'r.-',markersize=7,linewidth=1)\n",
    "# ax2.plot(dfCase.Date,dailydiff,'b.-',markersize=7,linewidth=1)\n",
    "\n",
    "# Draw weekends\n",
    "firstSunday = np.datetime64('2021-01-03')\n",
    "numWeeks = 52\n",
    "for k in range(-numWeeks,numWeeks):\n",
    "    curSunday = firstSunday + np.timedelta64(7*k,'D')\n",
    "    ax1.axvspan(curSunday-np.timedelta64(1,'D')-np.timedelta64(12,'h'),curSunday+np.timedelta64(12,'h'),zorder=-1,facecolor='lightgrey',label=int(k==0)*'Weekend')\n",
    "    ax2.axvspan(curSunday-np.timedelta64(1,'D')-np.timedelta64(12,'h'),curSunday+np.timedelta64(12,'h'),zorder=-1,facecolor='lightgrey',label=int(k==0)*'Weekend')\n",
    "\n",
    "ax1.set_ylim(bottom=0,top=3500)\n",
    "ax2.set_ylim([-900,900])\n",
    "\n",
    "ax1.set_ylabel('Antal daglige tilfælde')\n",
    "ax2.set_ylabel('Forskel i antal')\n",
    "\n",
    "ax1.legend(loc='upper left',fontsize=13)\n",
    "ax2.legend(loc='lower left',fontsize=13)\n",
    "\n",
    "firstDate = np.datetime64('2021-06-01')\n",
    "lastDate = np.datetime64('2021-12-01')\n",
    "ax1.set_xlim([firstDate,lastDate])\n",
    "\n",
    "firstDate = np.datetime64('2021-08-01')\n",
    "lastDate = np.datetime64('2021-11-15')\n",
    "ax1.set_xlim([firstDate,lastDate])\n",
    "\n",
    "ax2.xaxis.set_major_formatter(mdates.DateFormatter('%d\\n%B'))\n",
    "plt.tight_layout()\n",
    "\n",
    "plt.savefig(path_figs+'UgentligForskel')"
   ]
  },
  {
   "cell_type": "code",
   "execution_count": 43,
   "metadata": {},
   "outputs": [
    {
     "data": {
      "application/vnd.jupyter.widget-view+json": {
       "model_id": "d2fdf167b4a2411ca69467bcae70255d",
       "version_major": 2,
       "version_minor": 0
      },
      "text/plain": [
       "Canvas(toolbar=Toolbar(toolitems=[('Home', 'Reset original view', 'home', 'home'), ('Back', 'Back to previous …"
      ]
     },
     "metadata": {},
     "output_type": "display_data"
    }
   ],
   "source": [
    "curDataToUse = dfCase.NewPositive.iloc[:-1]\n",
    "# curDates = dfCase.Date.values\n",
    "curDates = dfCase.Date.values[:-1]\n",
    "weeklyMean = rnMean(curDataToUse,7)\n",
    "weeklyMeanDates = rnTime(curDates,7)\n",
    "# weeklyMeanDates = rnTime(curDates,7)\n",
    "weekDiff = curDataToUse.values[7:] - curDataToUse.values[:-7]\n",
    "# weekMeanDiff = curDataToUse.values[9:] - weeklyMean[:-3]\n",
    "weekMeanDiff = weeklyMean[7:] - weeklyMean[:-7]\n",
    "\n",
    "fig,(ax1,ax2) = plt.subplots(2,1,sharex=True)\n",
    "# ax1.plot(weeklyMeanDates,weeklyMean,'b',linewidth=3)\n",
    "ax1.plot(curDates,curDataToUse,'b.:',markersize=5,linewidth=1,label='Data')\n",
    "ax1.plot(weeklyMeanDates,weeklyMean,'b',linewidth=3,label='7 dages rullende gennemsnit')\n",
    "\n",
    "ax2.plot([curDates[0],curDates[-1]],[0,0],'k--')\n",
    "\n",
    "ax2.plot(curDates[7:],weekDiff,'b.:',markersize=5,linewidth=1,label='Ugentlig forskel')\n",
    "ax2.plot(rnTime(curDates[7:],7),rnMean(weekDiff,7),'b',linewidth=3,label='7 dages rullende gennemsnit')\n",
    "# ax2.plot(curDates[9:],weekMeanDiff,'r.-',markersize=7,linewidth=1)\n",
    "# ax2.plot(weeklyMeanDates[7:],weekMeanDiff,'r.-',markersize=7,linewidth=1)\n",
    "# ax2.plot(curDates,dailydiff,'b.-',markersize=7,linewidth=1)\n",
    "\n",
    "# Draw weekends\n",
    "firstSunday = np.datetime64('2021-01-03')\n",
    "numWeeks = 52\n",
    "for k in range(-numWeeks,numWeeks):\n",
    "    curSunday = firstSunday + np.timedelta64(7*k,'D')\n",
    "    ax1.axvspan(curSunday-np.timedelta64(1,'D')-np.timedelta64(12,'h'),curSunday+np.timedelta64(12,'h'),zorder=-1,facecolor='lightgrey',label=int(k==0)*'Weekend')\n",
    "    ax2.axvspan(curSunday-np.timedelta64(1,'D')-np.timedelta64(12,'h'),curSunday+np.timedelta64(12,'h'),zorder=-1,facecolor='lightgrey',label=int(k==0)*'Weekend')\n",
    "\n",
    "ax1.set_ylim(bottom=0,top=3500)\n",
    "ax2.set_ylim([-900,900])\n",
    "\n",
    "ax1.set_ylabel('Antal daglige tilfælde')\n",
    "ax2.set_ylabel('Forskel i antal')\n",
    "\n",
    "ax1.legend(loc='upper left',fontsize=13)\n",
    "ax2.legend(loc='lower left',fontsize=13)\n",
    "\n",
    "firstDate = np.datetime64('2021-06-01')\n",
    "lastDate = np.datetime64('2021-12-01')\n",
    "ax1.set_xlim([firstDate,lastDate])\n",
    "\n",
    "# firstDate = np.datetime64('2021-08-01')\n",
    "# lastDate = np.datetime64('2021-11-15')\n",
    "# ax1.set_xlim([firstDate,lastDate])\n",
    "\n",
    "ax2.xaxis.set_major_formatter(mdates.DateFormatter('%d\\n%B'))\n",
    "plt.tight_layout()\n",
    "\n",
    "plt.savefig(path_figs+'UgentligForskel')"
   ]
  },
  {
   "cell_type": "code",
   "execution_count": 44,
   "metadata": {},
   "outputs": [
    {
     "data": {
      "application/vnd.jupyter.widget-view+json": {
       "model_id": "0f35ef3fad2e4fb8b32e7f6fb9d6d987",
       "version_major": 2,
       "version_minor": 0
      },
      "text/plain": [
       "Canvas(toolbar=Toolbar(toolitems=[('Home', 'Reset original view', 'home', 'home'), ('Back', 'Back to previous …"
      ]
     },
     "metadata": {},
     "output_type": "display_data"
    }
   ],
   "source": [
    "weeklyMean = rnMean(dfAdm.Total,7)\n",
    "weeklyMeanDates = rnTime(dfAdm.Dato,7)\n",
    "curDates = dfAdm.Dato.values\n",
    "# weeklyMeanDates = rnTime(curDates,7)\n",
    "weekDiff = dfAdm.Total.values[7:] - dfAdm.Total.values[:-7]\n",
    "# weekMeanDiff = dfAdm.Total.values[9:] - weeklyMean[:-3]\n",
    "weekMeanDiff = weeklyMean[7:] - weeklyMean[:-7]\n",
    "\n",
    "fig,(ax1,ax2) = plt.subplots(2,1,sharex=True)\n",
    "# ax1.plot(weeklyMeanDates,weeklyMean,'b',linewidth=3)\n",
    "ax1.plot(dfAdm.Dato,dfAdm.Total,'b.:',markersize=5,linewidth=1,label='Data')\n",
    "ax1.plot(weeklyMeanDates,weeklyMean,'b',linewidth=3,label='7 dages rullende gennemsnit')\n",
    "\n",
    "ax2.plot([curDates[0],curDates[-1]],[0,0],'k--')\n",
    "\n",
    "ax2.plot(curDates[7:],weekDiff,'b.:',markersize=5,linewidth=1,label='Ugentlig forskel')\n",
    "ax2.plot(rnTime(curDates[7:],7),rnMean(weekDiff,7),'b',linewidth=3,label='7 dages rullende gennemsnit')\n",
    "\n",
    "# Draw weekends\n",
    "firstSunday = np.datetime64('2021-01-03')\n",
    "numWeeks = 52\n",
    "for k in range(-numWeeks,numWeeks):\n",
    "    curSunday = firstSunday + np.timedelta64(7*k,'D')\n",
    "    ax1.axvspan(curSunday-np.timedelta64(1,'D')-np.timedelta64(12,'h'),curSunday+np.timedelta64(12,'h'),zorder=-1,facecolor='lightgrey',label=int(k==0)*'Weekend')\n",
    "    ax2.axvspan(curSunday-np.timedelta64(1,'D')-np.timedelta64(12,'h'),curSunday+np.timedelta64(12,'h'),zorder=-1,facecolor='lightgrey',label=int(k==0)*'Weekend')\n",
    "\n",
    "ax1.set_ylim(bottom=0,top=80)\n",
    "ax2.set_ylim([-30,30])\n",
    "\n",
    "ax1.set_ylabel('Antal daglige nyindlæggelser')\n",
    "ax2.set_ylabel('Forskel i antal')\n",
    "\n",
    "ax1.legend(loc='upper left',fontsize=13)\n",
    "ax2.legend(loc='lower left',fontsize=13)\n",
    "\n",
    "firstDate = np.datetime64('2021-06-01')\n",
    "lastDate = np.datetime64('2021-12-01')\n",
    "ax1.set_xlim([firstDate,lastDate])\n",
    "\n",
    "ax2.xaxis.set_major_formatter(mdates.DateFormatter('%d\\n%B'))\n",
    "plt.tight_layout()\n",
    "\n",
    "plt.savefig(path_figs+'UgentligForskel_Admissions')"
   ]
  },
  {
   "cell_type": "markdown",
   "metadata": {},
   "source": [
    "# Hospitalsbelægning"
   ]
  },
  {
   "cell_type": "code",
   "execution_count": 45,
   "metadata": {},
   "outputs": [],
   "source": [
    "# Collect the cases, tests and positive percentage from all the \"02_hospitalsbelaegning\" files\n",
    "\n",
    "# Load most recent\n",
    "latestsubdir = list(os.walk(path_dash))[0][1][-1]\n",
    "\n",
    "latestsubdir\n",
    "df_recentHosps = pd.read_csv(path_dash+latestsubdir+'\\\\Regionalt_DB\\\\02_hospitalsbelaegning.csv',delimiter = ';',dtype=str,encoding='latin1')\n",
    "df_recentHosps\n",
    "\n",
    "# ageGroups = df_recentCasesByAge.transpose().iloc[0]\n",
    "\n",
    "# dfCase = pd.DataFrame(columns=ageGroups.values)\n",
    "# dfTest = pd.DataFrame(columns=ageGroups.values)\n",
    "# dfPosP = pd.DataFrame(columns=ageGroups.values)\n",
    "\n",
    "allDates = []\n",
    "allHosps = []\n",
    "\n",
    "for subdir, dirs, files in os.walk(path_dash):\n",
    "    if not len(files) == 0:\n",
    "        latestdir = subdir\n",
    "        if (latestdir[-12:] == 'Regionalt_DB'): # To ensure it's only once per date\n",
    "            thisdir = latestdir  \n",
    "            latestDate = pd.to_datetime(latestdir[-23:-13])\n",
    "            curdf =  pd.read_csv(latestdir+'\\\\02_hospitalsbelaegning.csv',delimiter = ';',dtype=str,encoding='latin1')\n",
    "            \n",
    "            curSum = curdf.Indlagte.astype(int).sum()\n",
    "            \n",
    "            allDates.append(latestDate)\n",
    "            allHosps.append(curSum)\n",
    "\n",
    "allDates = np.array(allDates)\n",
    "allHosps = np.array(allHosps)"
   ]
  },
  {
   "cell_type": "code",
   "execution_count": 46,
   "metadata": {},
   "outputs": [
    {
     "data": {
      "application/vnd.jupyter.widget-view+json": {
       "model_id": "6841c4a2e6bd4c1eb291fe08f848e526",
       "version_major": 2,
       "version_minor": 0
      },
      "text/plain": [
       "Canvas(toolbar=Toolbar(toolitems=[('Home', 'Reset original view', 'home', 'home'), ('Back', 'Back to previous …"
      ]
     },
     "metadata": {},
     "output_type": "display_data"
    }
   ],
   "source": [
    "fig,(ax1,ax2) = plt.subplots(2,1,sharex=True)\n",
    "\n",
    "lastDateToShow = np.datetime64('2021-11-15')\n",
    "\n",
    "ax1.plot(allDates,allHosps,'k.:',markersize=7,linewidth=1)\n",
    "\n",
    "allHospDiff = allHosps[1:] - allHosps[:-1]\n",
    "ax2.plot([allDates[0],lastDateToShow],[0,0],'k--')\n",
    "ax2.plot(allDates[1:],allHospDiff,'b.:',markersize=7,linewidth=1,label='Forskel mellem datapunkter')\n",
    "ax2.plot(rnTime(allDates[1:],7),rnMean(allHospDiff,7),'b',label='7 dages rullende gennemsnit')\n",
    "\n",
    "ax1.set_ylim(bottom=0)\n",
    "ax1.set_ylabel('Hospitalsbelægning \\n(Antal indlagte)')\n",
    "ax2.set_ylabel('Forskel')\n",
    "\n",
    "ax1.xaxis.set_major_formatter(mdates.DateFormatter('%d\\n%B'))\n",
    "\n",
    "ax1.set_ylim(top=400)\n",
    "ax2.set_ylim(-50,50)\n",
    "ax1.set_xlim([np.datetime64('2021-07-01'),lastDateToShow])\n",
    "\n",
    "# Draw weekends\n",
    "firstSunday = np.datetime64('2021-01-03')\n",
    "numWeeks = 52\n",
    "for k in range(-numWeeks,numWeeks):\n",
    "    curSunday = firstSunday + np.timedelta64(7*k,'D')\n",
    "    ax1.axvspan(curSunday-np.timedelta64(1,'D')-np.timedelta64(12,'h'),curSunday+np.timedelta64(12,'h'),zorder=-1,facecolor='lightgrey',label=int(k==0)*'Weekend')\n",
    "    ax2.axvspan(curSunday-np.timedelta64(1,'D')-np.timedelta64(12,'h'),curSunday+np.timedelta64(12,'h'),zorder=-1,facecolor='lightgrey',label=int(k==0)*'Weekend')\n",
    "\n",
    "# ax1.set_ylim(top=1000)\n",
    "# ax1.set_xlim([np.datetime64('2021-09-01'),np.datetime64('2021-11-15')])\n",
    "\n",
    "# ax1.grid()\n",
    "# ax2.grid()\n",
    "ax2.legend(fontsize=14)\n",
    "plt.tight_layout()\n",
    "\n",
    "plt.savefig(path_figs+'Hospitaliseringer')"
   ]
  },
  {
   "cell_type": "markdown",
   "metadata": {},
   "source": [
    "# Sum af tilfælde på bestemte ugedage"
   ]
  },
  {
   "cell_type": "code",
   "execution_count": 47,
   "metadata": {},
   "outputs": [
    {
     "data": {
      "application/vnd.jupyter.widget-view+json": {
       "model_id": "3753cd61e6934a718a84a0a49905fa93",
       "version_major": 2,
       "version_minor": 0
      },
      "text/plain": [
       "Canvas(toolbar=Toolbar(toolitems=[('Home', 'Reset original view', 'home', 'home'), ('Back', 'Back to previous …"
      ]
     },
     "metadata": {},
     "output_type": "display_data"
    }
   ],
   "source": [
    "numberOfWeeks = 8\n",
    "lastDate = np.datetime64('2021-11-08')\n",
    "firstDate = lastDate - np.timedelta64(7*numberOfWeeks,'D')\n",
    "\n",
    "# dates_period = dfCase[dfCase.Date ]\n",
    "# cases_period = \n",
    "\n",
    "weekDays = ['Mandag','Tirsdag','Onsdag','Torsdag','Fredag','Lørdag','Søndag']\n",
    "\n",
    "curdf = dfCase[dfCase.Date < lastDate]\n",
    "\n",
    "weekCount = np.zeros((7,))\n",
    "for k in range(0,numberOfWeeks):\n",
    "    \n",
    "    curDayCount = 0\n",
    "    for d in range(0,7):\n",
    "        curDayCount = curdf.NewPositive.values[-k*7 + d]\n",
    "        weekCount[d] = weekCount[d] + curDayCount\n",
    "weekCount\n",
    "\n",
    "fig,ax1 = plt.subplots()\n",
    "\n",
    "curMean = np.mean(weekCount)\n",
    "ax1.plot([-1,7],[curMean,curMean],'k:',label='Gennemsnit')\n",
    "ax1.bar(range(0,7),weekCount)\n",
    "# ax1.plot([-1,7],[1,1],'k:',label='Gennemsnit')\n",
    "# ax1.bar(range(0,7),weekCount/curMean)\n",
    "\n",
    "\n",
    "ax1.set_xticks(range(0,7))\n",
    "ax1.set_xticklabels(weekDays)\n",
    "\n",
    "# plt.xticklabel(weekDays)\n",
    "# plt.plot(weekDays,weekCount)\n",
    "ax1.set_ylabel('Nye smittetilfælde fundet på ugedag')\n",
    "ax1.set_xlim([-0.5,6.5])\n",
    "\n",
    "# plt.ylim([6000,8000])\n",
    "\n",
    "\n",
    "ax1.legend()\n",
    "\n",
    "# asdf = firstDate.strftime('%m%d %Y')\n",
    "ax1.set_title(f'Ugedag for nye smittetilfælde\\nPeriode: {pd.to_datetime(firstDate):%d. %B} til {pd.to_datetime(lastDate):%d. %B}')\n",
    "\n",
    "\n",
    "ax1.spines['top'].set_visible(False)\n",
    "ax1.spines['right'].set_visible(False)\n",
    "# ax1.spines['bottom'].set_visible(False)\n",
    "# ax1.spines['left'].set_visible(False)\n",
    "\n",
    "plt.tight_layout()\n",
    "\n",
    "plt.savefig(path_figs+'Ugedag')"
   ]
  }
 ],
 "metadata": {
  "interpreter": {
   "hash": "c72cdf52cb3d31f207bca538e9396da8706c0ecf4a3038fb1c2b317934170431"
  },
  "kernelspec": {
   "display_name": "Python 3.8.5 64-bit ('main': conda)",
   "language": "python",
   "name": "python3"
  },
  "language_info": {
   "codemirror_mode": {
    "name": "ipython",
    "version": 3
   },
   "file_extension": ".py",
   "mimetype": "text/x-python",
   "name": "python",
   "nbconvert_exporter": "python",
   "pygments_lexer": "ipython3",
   "version": "3.8.5"
  },
  "orig_nbformat": 4
 },
 "nbformat": 4,
 "nbformat_minor": 2
}
