{
 "cells": [
  {
   "cell_type": "code",
   "execution_count": 1,
   "source": [
    "# Dokument for at udregne effekten af Danmarks tests\r\n",
    "import numpy as np\r\n",
    "import pandas as pd\r\n",
    "pd.set_option('display.max_rows', 500)\r\n",
    "pd.set_option('display.min_rows', 50)\r\n",
    "\r\n",
    "\r\n",
    "import matplotlib.pyplot as plt\r\n",
    "%matplotlib widget\r\n",
    "plt.rcParams['figure.figsize'] = (12,8)\r\n",
    "plt.rcParams[\"image.cmap\"] = \"tab10\"\r\n",
    "plt.rcParams['axes.prop_cycle'] = plt.cycler(color=plt.cm.tab10.colors)\r\n",
    "fs_label = 16\r\n",
    "parameters = {\r\n",
    "                'axes.labelsize': fs_label,\r\n",
    "                'axes.titlesize': fs_label+4,\r\n",
    "                'xtick.labelsize': fs_label,\r\n",
    "                'ytick.labelsize': fs_label, \r\n",
    "                'legend.fontsize': fs_label, \r\n",
    "                'lines.markersize': 10,\r\n",
    "                'lines.linewidth': 3\r\n",
    "             }\r\n",
    "plt.rcParams.update(parameters)\r\n",
    "%matplotlib widget\r\n",
    "import matplotlib.colors as colors\r\n",
    "from matplotlib import cm # Colormaps\r\n",
    "\r\n",
    "cmap = cm.get_cmap('Dark2',7)\r\n",
    "\r\n",
    "import locale\r\n",
    "import matplotlib.dates as mdates\r\n",
    "locale.setlocale(locale.LC_TIME,\"Danish\")\r\n",
    "\r\n",
    "import os\r\n",
    "import math\r\n",
    "\r\n",
    "from datetime import date\r\n",
    "\r\n",
    "\r\n",
    "saveFigures = True\r\n",
    "print('saveFigures is set to: '+str(saveFigures))\r\n",
    "print('Done loading packages')\r\n",
    "\r\n",
    "def rnMean(data,meanWidth):\r\n",
    "    return np.convolve(data, np.ones(meanWidth)/meanWidth, mode='valid')\r\n",
    "def rnTime(t,meanWidth):\r\n",
    "    return t[math.floor(meanWidth/2):-math.ceil(meanWidth/2)+1]\r\n",
    "def rnTime2(t,meanWidth):\r\n",
    "    return t[meanWidth-1:]\r\n"
   ],
   "outputs": [
    {
     "output_type": "stream",
     "name": "stdout",
     "text": [
      "saveFigures is set to: True\n",
      "Done loading packages\n"
     ]
    }
   ],
   "metadata": {}
  },
  {
   "cell_type": "code",
   "execution_count": 2,
   "source": [
    "ssidatapath = \"ssi_data\"\r\n",
    "rootdir = os.getcwd() +\"/\" + ssidatapath\r\n",
    "\r\n",
    "\r\n",
    "for subdir, dirs, files in os.walk(rootdir):\r\n",
    "    if not len(files) == 0:\r\n",
    "        latestdir = subdir\r\n",
    "        latestDate = pd.to_datetime(subdir[-10:])\r\n",
    "\r\n",
    "print(latestdir)\r\n",
    "print(latestDate)\r\n",
    "\r\n",
    "# latestdir = rootdir+ '/SSI_data_2021-05-27'\r\n",
    "# latestDate = pd.to_datetime(latestdir[-10:])\r\n",
    "\r\n",
    "# print(latestdir)\r\n",
    "# print(latestDate)"
   ],
   "outputs": [
    {
     "output_type": "stream",
     "name": "stdout",
     "text": [
      "c:\\Users\\rakrpe\\Documents\\PandemiX\\GithubRepos\\PandemiX\\DanskeData/ssi_data\\SSI_data_2021-08-10\n",
      "2021-08-10 00:00:00\n"
     ]
    }
   ],
   "metadata": {}
  },
  {
   "cell_type": "markdown",
   "source": [
    "# Load datafiler"
   ],
   "metadata": {}
  },
  {
   "cell_type": "code",
   "execution_count": 3,
   "source": [
    "# Load the data\r\n",
    "fulldfPCR = pd.read_csv(latestdir+'/Test_pos_over_time.csv',delimiter = ';',dtype=str)\r\n",
    "fulldfAG = pd.read_csv(latestdir+'/Test_pos_over_time_antigen.csv',delimiter = ';',dtype=str)\r\n",
    "dfAG2 = pd.read_csv(latestdir+'/Antigentests_pr_dag.csv',delimiter = ';')\r\n",
    "\r\n",
    "# Cut out the last two rows of summary numbers\r\n",
    "dfPCR = fulldfPCR.iloc[:-2,:].copy()\r\n",
    "dfAG = fulldfAG.iloc[:-2,:].copy()\r\n",
    "\r\n",
    "# Format columns correctly\r\n",
    "dfPCR[\"PosPct\"] = pd.to_numeric(dfPCR[\"PosPct\"].astype(str).apply(lambda x: x.replace(',','.')))\r\n",
    "dfPCR[\"Date\"] = dfPCR[\"Date\"].astype('datetime64[D]')\r\n",
    "dfAG[\"PosPct\"] = pd.to_numeric(dfAG[\"PosPct\"].astype(str).apply(lambda x: x.replace(',','.')))\r\n",
    "dfAG[\"Date\"] = dfAG[\"Date\"].astype('datetime64[D]')\r\n",
    "\r\n",
    "rows_to_fix_period_in = [\"NewPositive\",\"NotPrevPos\",\"PrevPos\",\"Tested\",\"Tested_kumulativ\"]\r\n",
    "for name in rows_to_fix_period_in:\r\n",
    "    dfAG[name] = pd.to_numeric(dfAG[name].astype(str).apply(lambda x: x.replace('.','')))\r\n",
    "    dfPCR[name] = pd.to_numeric(dfPCR[name].astype(str).apply(lambda x: x.replace('.','')))\r\n",
    "\r\n",
    "dfAG2[\"Dato\"] = dfAG2[\"Dato\"].astype('datetime64[D]')\r\n",
    "dfAG2[\"Andel_AGpos_PCRkonf_pct\"] = pd.to_numeric(dfAG2[\"Andel_AGpos_PCRkonf_pct\"].astype(str).apply(lambda x: x.replace(',','.')))\r\n",
    "dfAG2[\"Andel_AGminusPCRkonf_pct\"] = pd.to_numeric(dfAG2[\"Andel_AGminusPCRkonf_pct\"].astype(str).apply(lambda x: x.replace(',','.')))\r\n",
    "\r\n",
    "# Cut off early data in PCR dataframe\r\n",
    "dfPCR = dfPCR[dfPCR.Date >= dfAG.iloc[0].Date]\r\n",
    "\r\n",
    "# Also cutoff everything before first of January\r\n",
    "firstDate = np.datetime64('2021-02-01')\r\n",
    "dfPCR = dfPCR[dfPCR.Date >= firstDate]\r\n",
    "dfAG = dfAG[dfAG.Date >= firstDate]\r\n",
    "\r\n",
    "# Cut off last date (since it is not fully done)\r\n",
    "dfPCR = dfPCR.iloc[:-1]\r\n",
    "dfAG = dfAG.iloc[:-1]\r\n",
    "\r\n",
    "# Get dates\r\n",
    "curDates = dfPCR.Date.values.astype('datetime64[D]')\r\n",
    "confDates = dfAG2.Dato.values.astype('datetime64[D]')"
   ],
   "outputs": [],
   "metadata": {}
  },
  {
   "cell_type": "code",
   "execution_count": 4,
   "source": [
    "firstDate = np.datetime64('2021-03-01')\r\n",
    "lastDate = curDates[-1]\r\n",
    "lastDate"
   ],
   "outputs": [
    {
     "output_type": "execute_result",
     "data": {
      "text/plain": [
       "numpy.datetime64('2021-08-08')"
      ]
     },
     "metadata": {},
     "execution_count": 4
    }
   ],
   "metadata": {}
  },
  {
   "cell_type": "markdown",
   "source": [
    "# Metode 1"
   ],
   "metadata": {}
  },
  {
   "cell_type": "code",
   "execution_count": 5,
   "source": [
    "# Beregninger\r\n",
    "PCRpos = dfPCR.NewPositive.values\r\n",
    "numPCR = dfPCR.Tested.values\r\n",
    "AGpos = dfAG.NewPositive.values\r\n",
    "numAG = dfAG.Tested.values\r\n",
    "AGposPCRpos = dfAG2.AGpos_PCRpos.values\r\n",
    "\r\n",
    "PCRposPct = np.divide(PCRpos,numPCR)\r\n",
    "AGposPct = np.divide(AGpos,numAG)\r\n",
    "\r\n",
    "# Calculate the true positive rate\r\n",
    "AGtruePos = np.divide(dfAG2.AGpos_PCRpos,dfAG2.AG_pos)\r\n",
    "avgTruePos = AGtruePos.iloc[-14:].mean()\r\n",
    "avgConf = 0.01*dfAG2['Andel_AGpos_PCRkonf_pct'].iloc[-14:].mean()\r\n",
    "\r\n",
    "# Projectér hvor mange der bekræftes i de to dage der endnu ikke er bekræftet\r\n",
    "# AGproj = np.divide(avgTruePos*dfAG2['AG_pos'],0.01*dfAG2['Andel_AGpos_PCRkonf_pct'].values)\r\n",
    "AGproj = np.divide(avgTruePos*AGpos,avgConf)\r\n",
    "confDatesProj = np.concatenate([confDates[:],curDates[-2:]])\r\n",
    "confDatesProj = np.append(confDates[:],curDates[-2:]).astype('datetime64[D]')\r\n",
    "AGposPCRposProj = np.append(AGposPCRpos,AGproj[-2:])\r\n",
    "# \r\n",
    "PCRpos_nonAG = PCRpos - AGposPCRposProj\r\n",
    "\r\n",
    "# \r\n",
    "PCRnoscreen = PCRpos_nonAG * ( (30000/dfPCR.Tested)**0.7)\r\n",
    "PCRscreen = PCRpos_nonAG - PCRnoscreen\r\n",
    "\r\n",
    "# Bredde af rullende gennemsnit\r\n",
    "meanWidth = 7\r\n"
   ],
   "outputs": [],
   "metadata": {}
  },
  {
   "cell_type": "code",
   "execution_count": 6,
   "source": [
    "fig,ax1 = plt.subplots(1,1,sharex=True)\r\n",
    "\r\n",
    "\r\n",
    "cmap = plt.cm.get_cmap('tab20',7)\r\n",
    "\r\n",
    "ax1.fill_between(rnTime2(curDates,meanWidth),rnMean(PCRnoscreen,meanWidth),color=cmap(0),label='PCR positive, ved 30.000 tests')\r\n",
    "ax1.fill_between(rnTime2(curDates,meanWidth),rnMean(PCRpos_nonAG,meanWidth),rnMean(PCRnoscreen,meanWidth),color=cmap(1),label='PCR positive, kun screening')\r\n",
    "\r\n",
    "\r\n",
    "ax1.fill_between(rnTime2(curDates,meanWidth),rnMean(PCRpos,meanWidth),rnMean(PCRpos_nonAG,meanWidth),color=cmap(2),label='PCR positive, efter AG positive') \r\n",
    "\r\n",
    "# ax1.plot(curDates,PCRpos,'k.:',markersize=4,linewidth=0.5)\r\n",
    "\r\n",
    "ax1.legend(loc='upper left')\r\n",
    "ax1.grid(color='k')\r\n",
    "# ax1.set_ylim(bottom=0)\r\n",
    "ax1.set_ylim(bottom=0,top=1100)\r\n",
    "ax1.set_ylabel('Antal')\r\n",
    "\r\n",
    "ax1.xaxis.set_major_formatter(mdates.DateFormatter('%d.\\n%B'))\r\n",
    "\r\n",
    "curLastDate = rnTime2(curDates,meanWidth)[-1]\r\n",
    "ax1.set_xlim([firstDate,curLastDate])\r\n",
    "plt.tight_layout()\r\n",
    "\r\n",
    "if saveFigures:\r\n",
    "    plt.savefig('figs/Screening_PCRstacked')"
   ],
   "outputs": [
    {
     "output_type": "display_data",
     "data": {
      "text/plain": [
       "Canvas(toolbar=Toolbar(toolitems=[('Home', 'Reset original view', 'home', 'home'), ('Back', 'Back to previous …"
      ],
      "application/vnd.jupyter.widget-view+json": {
       "version_major": 2,
       "version_minor": 0,
       "model_id": "c765324cb7754d79b5799d23c74dbc38"
      }
     },
     "metadata": {}
    }
   ],
   "metadata": {}
  },
  {
   "cell_type": "markdown",
   "source": [
    "# Metode 2"
   ],
   "metadata": {}
  },
  {
   "cell_type": "code",
   "execution_count": 7,
   "source": [
    "AGpospct2 = np.divide(dfAG2['AGpos_PCRpos'],dfAG2['AG_testede'])\r\n",
    "AGpospct2Mean = AGpospct2.values[-14:].mean()\r\n",
    "AGpospct2 = np.append(AGpospct2,AGpospct2Mean)\r\n",
    "AGpospct2 = np.append(AGpospct2,AGpospct2Mean)\r\n",
    "\r\n",
    "AGsens = np.divide(dfAG2['AGpos_PCRpos'], dfAG2['AGpos_PCRpos'] + dfAG2['AGnegPCRpos'])\r\n",
    "AGsensmean = AGsens.values[-14:].mean()\r\n",
    "AGsens = np.append(AGsens,AGsensmean)\r\n",
    "AGsens = np.append(AGsens,AGsensmean)\r\n",
    "\r\n",
    "pcrScreenSimple = dfPCR.Tested - 30000\r\n",
    "\r\n",
    "hardCodedSens = 0.618\r\n",
    "hardCodedSens = 0.492\r\n",
    "curEstimate = np.multiply(pcrScreenSimple.values,np.divide(AGpospct2,hardCodedSens))\r\n"
   ],
   "outputs": [],
   "metadata": {}
  },
  {
   "cell_type": "code",
   "execution_count": 8,
   "source": [
    "fig,ax1 = plt.subplots()\r\n",
    "\r\n",
    "\r\n",
    "\r\n",
    "\r\n",
    "meanDays = rnTime2(curDates,meanWidth)\r\n",
    "\r\n",
    "\r\n",
    "ax1.stackplot(meanDays,\r\n",
    "    rnMean(PCRpos-AGposPCRposProj - curEstimate,meanWidth),\r\n",
    "    rnMean(curEstimate,meanWidth),\r\n",
    "    rnMean(AGposPCRposProj,meanWidth),\r\n",
    "    labels=['PCR positive, ved 30.000 tests','PCR positive, kun screening','PCR positive, efter AG positive'],\r\n",
    "    colors=[cmap(0),cmap(1),cmap(2)]\r\n",
    "    )\r\n",
    "\r\n",
    "ax1.legend(loc='upper left')\r\n",
    "ax1.grid(color='k')\r\n",
    "# ax1.set_ylim(bottom=0,top=7000)\r\n",
    "ax1.set_ylim(bottom=0) \r\n",
    "ax1.set_ylim(bottom=0,top=1100)\r\n",
    "ax1.set_ylabel('Antal')\r\n",
    "\r\n",
    "ax1.xaxis.set_major_formatter(mdates.DateFormatter('%d.\\n%B'))\r\n",
    "\r\n",
    "curLastDate = rnTime2(curDates,meanWidth)[-1]\r\n",
    "firstDate = np.datetime64('2021-03-01')\r\n",
    "ax1.set_xlim([firstDate,curLastDate])\r\n",
    "plt.tight_layout()\r\n",
    "\r\n",
    "if saveFigures:\r\n",
    "    plt.savefig('figs/Screening_Metode2')"
   ],
   "outputs": [
    {
     "output_type": "display_data",
     "data": {
      "text/plain": [
       "Canvas(toolbar=Toolbar(toolitems=[('Home', 'Reset original view', 'home', 'home'), ('Back', 'Back to previous …"
      ],
      "application/vnd.jupyter.widget-view+json": {
       "version_major": 2,
       "version_minor": 0,
       "model_id": "69cc4e1f604a471084f6e9da89a34c33"
      }
     },
     "metadata": {}
    }
   ],
   "metadata": {}
  },
  {
   "cell_type": "markdown",
   "source": [
    "# Sammenholdt med hinanden"
   ],
   "metadata": {}
  },
  {
   "cell_type": "code",
   "execution_count": 9,
   "source": [
    "print(f'400 / 1500 = {100 * 400 / 1500:2.1f} % ')\r\n",
    "print(f'400 / 2833 = {100 * 400 / 2833:2.1f} % ')\r\n",
    "print(f'800 / 1500 = {100 * 800 / 1500:2.1f} % ')\r\n",
    "print(f'800 / 2833 = {100 * 800 / 2833:2.1f} % ')\r\n",
    "print((1500+2833)/2)\r\n",
    "print(f'600 / 2167 = {100 * 600 / 2167:2.1f} % ')"
   ],
   "outputs": [
    {
     "output_type": "stream",
     "name": "stdout",
     "text": [
      "400 / 1500 = 26.7 % \n",
      "400 / 2833 = 14.1 % \n",
      "800 / 1500 = 53.3 % \n",
      "800 / 2833 = 28.2 % \n",
      "2166.5\n",
      "600 / 2167 = 27.7 % \n"
     ]
    }
   ],
   "metadata": {}
  },
  {
   "cell_type": "code",
   "execution_count": 10,
   "source": [
    "print(f'400 / 1500 = {100 * 400 / 1500:2.1f} % ')\r\n",
    "print(f'400 / 3000 = {100 * 400 / 3000:2.1f} % ')\r\n",
    "print(f'800 / 1500 = {100 * 800 / 1500:2.1f} % ')\r\n",
    "print(f'800 / 3000 = {100 * 800 / 3000:2.1f} % ')\r\n",
    "print(f'600 / 2250 = {100 * 600 / 2250:2.1f} % ')"
   ],
   "outputs": [
    {
     "output_type": "stream",
     "name": "stdout",
     "text": [
      "400 / 1500 = 26.7 % \n",
      "400 / 3000 = 13.3 % \n",
      "800 / 1500 = 53.3 % \n",
      "800 / 3000 = 26.7 % \n",
      "600 / 2250 = 26.7 % \n"
     ]
    }
   ],
   "metadata": {}
  },
  {
   "cell_type": "code",
   "execution_count": 11,
   "source": [
    "print(f'450 / 1500 = {100 * 450 / 1500:2.1f} % ')\r\n",
    "print(f'450 / 3000 = {100 * 450 / 3000:2.1f} % ')\r\n",
    "print(f'800 / 1500 = {100 * 800 / 1500:2.1f} % ')\r\n",
    "print(f'800 / 3000 = {100 * 800 / 3000:2.1f} % ')\r\n",
    "print(f'575 / 2250 = {100 * 575 / 2250:2.1f} % ')"
   ],
   "outputs": [
    {
     "output_type": "stream",
     "name": "stdout",
     "text": [
      "450 / 1500 = 30.0 % \n",
      "450 / 3000 = 15.0 % \n",
      "800 / 1500 = 53.3 % \n",
      "800 / 3000 = 26.7 % \n",
      "575 / 2250 = 25.6 % \n"
     ]
    }
   ],
   "metadata": {}
  },
  {
   "cell_type": "markdown",
   "source": [
    "# Andre plots"
   ],
   "metadata": {}
  },
  {
   "cell_type": "code",
   "execution_count": 12,
   "source": [
    "# Overblik over antal tests og antal positive\r\n",
    "\r\n",
    "# fig,ax1 = plt.subplots(1,1)\r\n",
    "# fig,(ax1,ax2) = plt.subplots(2,1)\r\n",
    "fig,(ax1,ax2,ax3) = plt.subplots(3,1,sharex=True,figsize=(12,16))\r\n",
    "\r\n",
    "PCRpos = dfPCR.NewPositive\r\n",
    "AGpos = dfAG.NewPositive\r\n",
    "PCRtest = dfPCR.Tested\r\n",
    "AGtest = dfAG.Tested\r\n",
    "ax1.plot(curDates,PCRtest,'b.:',markersize=4,linewidth=0.5)\r\n",
    "ax1.plot(rnTime2(curDates,meanWidth),rnMean(PCRtest,meanWidth),'b',label='PCR')\r\n",
    "ax1.plot(curDates,AGtest,'r.:',markersize=4,linewidth=0.5)\r\n",
    "ax1.plot(rnTime2(curDates,meanWidth),rnMean(AGtest,meanWidth),'r',label='AG')\r\n",
    "\r\n",
    "ax2.plot(curDates,PCRpos,'b.:',markersize=4,linewidth=0.5)\r\n",
    "ax2.plot(rnTime2(curDates,meanWidth),rnMean(PCRpos,meanWidth),'b',label='PCR')\r\n",
    "ax2.plot(curDates,AGpos,'r.:',markersize=4,linewidth=0.5)\r\n",
    "ax2.plot(rnTime2(curDates,meanWidth),rnMean(AGpos,meanWidth),'r',label='AG')\r\n",
    "\r\n",
    "ax3.plot(curDates,100 * np.divide(PCRpos,PCRtest),'b.:',markersize=4,linewidth=0.5)\r\n",
    "ax3.plot(rnTime2(curDates,meanWidth),rnMean(100 * np.divide(PCRpos,PCRtest),meanWidth),'b',label='PCR')\r\n",
    "ax3.plot(curDates,100 * np.divide(AGpos,AGtest),'r.:',markersize=4,linewidth=0.5)\r\n",
    "ax3.plot(rnTime2(curDates,meanWidth),rnMean(100 * np.divide(AGpos,AGtest),meanWidth),'r',label='AG')\r\n",
    "\r\n",
    "\r\n",
    "ax1.xaxis.set_major_formatter(mdates.DateFormatter('%d. %b'))\r\n",
    "ax2.xaxis.set_major_formatter(mdates.DateFormatter('%d. %b'))\r\n",
    "ax3.xaxis.set_major_formatter(mdates.DateFormatter('%d. %b'))\r\n",
    "\r\n",
    "ax1.set_ylabel('Antal tests')\r\n",
    "ax2.set_ylabel('Antal positive')\r\n",
    "ax3.set_ylabel('Positiv procent [%]')\r\n",
    "\r\n",
    "\r\n",
    "ax1.set_ylim(bottom=0)\r\n",
    "ax2.set_ylim(bottom=0)\r\n",
    "ax3.set_ylim(bottom=0)\r\n",
    "\r\n",
    "ax1.legend()\r\n",
    "ax2.legend()\r\n",
    "ax3.legend()\r\n",
    "# ax1.legend(loc='center left',bbox_to_anchor = (1.0, 0.5))\r\n",
    "\r\n",
    "ax1.grid()\r\n",
    "ax2.grid()\r\n",
    "ax3.grid()\r\n",
    "\r\n",
    "ax1.set_xlim([firstDate,lastDate+np.timedelta64(1,'D')])\r\n",
    "# ax1.set_xlim([np.datetime64('2021-04-01'),lastDate])\r\n",
    "# ax1.set_xlim([firstDate,np.datetime64('2021-06-25')])\r\n",
    "\r\n",
    "plt.tight_layout()\r\n",
    "if saveFigures:\r\n",
    "    plt.savefig('figs/Test_SimpleTal')"
   ],
   "outputs": [
    {
     "output_type": "display_data",
     "data": {
      "text/plain": [
       "Canvas(toolbar=Toolbar(toolitems=[('Home', 'Reset original view', 'home', 'home'), ('Back', 'Back to previous …"
      ],
      "application/vnd.jupyter.widget-view+json": {
       "version_major": 2,
       "version_minor": 0,
       "model_id": "58ce12e3d148466180e3165fc16f63d9"
      }
     },
     "metadata": {}
    }
   ],
   "metadata": {}
  },
  {
   "cell_type": "code",
   "execution_count": null,
   "source": [
    "# Overblik over antal tests og antal positive\r\n",
    "\r\n",
    "# fig,ax1 = plt.subplots(1,1)\r\n",
    "# fig,(ax1,ax2) = plt.subplots(2,1)\r\n",
    "fig,(ax1,ax2,ax3) = plt.subplots(3,1,sharex=True,figsize=(12,16))\r\n",
    "\r\n",
    "PCRpos = dfPCR.NewPositive\r\n",
    "AGpos = dfAG.NewPositive\r\n",
    "PCRtest = dfPCR.Tested\r\n",
    "AGtest = dfAG.Tested\r\n",
    "ax1.plot(curDates,PCRtest,'b.:',markersize=4,linewidth=0.5)\r\n",
    "ax1.plot(rnTime2(curDates,meanWidth),rnMean(PCRtest,meanWidth),'b',label='PCR')\r\n",
    "ax1.plot(curDates,AGtest,'r.:',markersize=4,linewidth=0.5)\r\n",
    "ax1.plot(rnTime2(curDates,meanWidth),rnMean(AGtest,meanWidth),'r',label='AG')\r\n",
    "\r\n",
    "ax2.plot(curDates,PCRpos,'b.:',markersize=4,linewidth=0.5)\r\n",
    "ax2.plot(rnTime2(curDates,meanWidth),rnMean(PCRpos,meanWidth),'b',label='PCR')\r\n",
    "ax2.plot(curDates,AGpos,'r.:',markersize=4,linewidth=0.5)\r\n",
    "ax2.plot(rnTime2(curDates,meanWidth),rnMean(AGpos,meanWidth),'r',label='AG')\r\n",
    "\r\n",
    "ax3.plot(curDates,100 * np.divide(PCRpos,PCRtest),'b.:',markersize=4,linewidth=0.5)\r\n",
    "ax3.plot(rnTime2(curDates,meanWidth),rnMean(100 * np.divide(PCRpos,PCRtest),meanWidth),'b',label='PCR')\r\n",
    "ax3.plot(curDates,100 * np.divide(AGpos,AGtest),'r.:',markersize=4,linewidth=0.5)\r\n",
    "ax3.plot(rnTime2(curDates,meanWidth),rnMean(100 * np.divide(AGpos,AGtest),meanWidth),'r',label='AG')\r\n",
    "\r\n",
    "\r\n",
    "ax1.xaxis.set_major_formatter(mdates.DateFormatter('%d. %b'))\r\n",
    "ax2.xaxis.set_major_formatter(mdates.DateFormatter('%d. %b'))\r\n",
    "ax3.xaxis.set_major_formatter(mdates.DateFormatter('%d. %b'))\r\n",
    "\r\n",
    "ax1.set_ylabel('Antal tests')\r\n",
    "ax2.set_ylabel('Antal positive')\r\n",
    "ax3.set_ylabel('Positiv procent [%]')\r\n",
    "\r\n",
    "ax1.spines[\"right\"].set_visible(False)\r\n",
    "ax1.spines[\"top\"].set_visible(False)\r\n",
    "ax2.spines[\"right\"].set_visible(False)\r\n",
    "ax2.spines[\"top\"].set_visible(False)\r\n",
    "ax3.spines[\"right\"].set_visible(False)\r\n",
    "ax3.spines[\"top\"].set_visible(False)\r\n",
    "\r\n",
    "ax1.set_ylim(bottom=0)\r\n",
    "ax2.set_ylim(bottom=0)\r\n",
    "ax3.set_ylim(bottom=0)\r\n",
    "\r\n",
    "# Draw weekends\r\n",
    "firstSunday = np.datetime64('2021-01-03')\r\n",
    "\r\n",
    "numWeeks = 52\r\n",
    "\r\n",
    "# curYlim = ax1.get_ylim()\r\n",
    "# ax1.vlines([np.datetime64('2021-06-24'),np.datetime64('2021-06-25')],curYlim[0],curYlim[1])\r\n",
    "for k in range(0,numWeeks):\r\n",
    "    curSunday = firstSunday + np.timedelta64(7*k,'D')\r\n",
    "    ax1.axvspan(curSunday-np.timedelta64(1,'D')-np.timedelta64(12,'h'),curSunday+np.timedelta64(12,'h'),facecolor='lightgrey')\r\n",
    "    ax2.axvspan(curSunday-np.timedelta64(1,'D')-np.timedelta64(12,'h'),curSunday+np.timedelta64(12,'h'),facecolor='lightgrey')\r\n",
    "    ax3.axvspan(curSunday-np.timedelta64(1,'D')-np.timedelta64(12,'h'),curSunday+np.timedelta64(12,'h'),facecolor='lightgrey')\r\n",
    "\r\n",
    "ax1.axvspan(curSunday-np.timedelta64(1,'D')-np.timedelta64(12,'h'),curSunday+np.timedelta64(12,'h'),facecolor='lightgrey',label='Weekend')\r\n",
    "\r\n",
    "ax1.legend()\r\n",
    "# ax2.legend()\r\n",
    "# ax3.legend()\r\n",
    "# ax1.legend(loc='center left',bbox_to_anchor = (1.0, 0.5))\r\n",
    "\r\n",
    "ax1.grid(axis='y')\r\n",
    "ax2.grid(axis='y')\r\n",
    "ax3.grid(axis='y')\r\n",
    "\r\n",
    "firstDateToShow = np.datetime64('2021-05-15')\r\n",
    "# ax1.set_xlim([firstDate,lastDate+np.timedelta64(1,'D')])\r\n",
    "ax1.set_xlim([firstDateToShow,lastDate+np.timedelta64(2,'D')])\r\n",
    "# ax1.set_xlim([np.datetime64('2021-04-01'),lastDate])\r\n",
    "# ax1.set_xlim([firstDate,np.datetime64('2021-06-25')])\r\n",
    " \r\n",
    "\r\n",
    "plt.tight_layout()\r\n",
    "if saveFigures:\r\n",
    "    plt.savefig('figs/VigtigeDanskeTal')"
   ],
   "outputs": [],
   "metadata": {}
  },
  {
   "cell_type": "code",
   "execution_count": null,
   "source": [
    "fig,ax1 = plt.subplots(1,1,sharex=True)\r\n",
    "\r\n",
    "ax1.plot(curDates,AGpos,'.-',color='xkcd:green',linewidth=0.5,markersize=2)\r\n",
    "ax1.plot(rnTime(curDates,meanWidth),rnMean(AGpos,meanWidth),color='xkcd:green',label='AG positive, total')\r\n",
    "\r\n",
    "ax1.plot(confDatesProj,AGposPCRposProj,'.-',color='xkcd:dark green',linewidth=0.5,markersize=2)\r\n",
    "ax1.plot(confDatesProj[-2:],AGposPCRposProj[-2:],'*',color='xkcd:dark green',markersize=5)\r\n",
    "ax1.plot(rnTime(confDatesProj,meanWidth),rnMean(AGposPCRposProj,meanWidth),color='xkcd:dark green',label='AG positive, PCR bekræftede')\r\n",
    "\r\n",
    "\r\n",
    "ax1.legend(loc='upper left')\r\n",
    "ax1.grid()\r\n",
    "ax1.set_ylim(bottom=0,top=500)\r\n",
    "ax1.set_ylabel('Antal')\r\n",
    "\r\n",
    "ax1.set_xlim([firstDate,lastDate])\r\n",
    "plt.tight_layout()\r\n",
    "\r\n",
    "if saveFigures:\r\n",
    "    plt.savefig('figs/Screening_AGconfirmed')"
   ],
   "outputs": [],
   "metadata": {}
  },
  {
   "cell_type": "code",
   "execution_count": null,
   "source": [
    "fig,ax1 = plt.subplots(1,1,sharex=True)\r\n",
    "\r\n",
    "ax1.plot(curDates,PCRpos,'.-',color='xkcd:brown',linewidth=0.5,markersize=2)\r\n",
    "ax1.plot(rnTime(curDates,meanWidth),rnMean(PCRpos,meanWidth),color='xkcd:brown',label='PCR positive, alle')\r\n",
    "\r\n",
    "ax1.plot(curDates,AGposPCRposProj,'.-',color='xkcd:dark green',linewidth=0.5,markersize=2)\r\n",
    "ax1.plot(curDates[-2:],AGposPCRposProj[-2:],'*',color='xkcd:dark green',markersize=5)\r\n",
    "ax1.plot(rnTime(curDates,meanWidth),rnMean(AGposPCRposProj,meanWidth),color='xkcd:dark green',label='AG positive, PCR bekræftede')\r\n",
    "\r\n",
    "ax1.plot(curDates,PCRpos_nonAG,'.-',color='xkcd:dark blue',linewidth=0.5,markersize=2)\r\n",
    "ax1.plot(rnTime(curDates,meanWidth),rnMean(PCRpos_nonAG,meanWidth),color='xkcd:dark blue',label='PCR positive, uden AG bekræftning')\r\n",
    "\r\n",
    "ax1.legend(loc='upper left')\r\n",
    "ax1.grid()\r\n",
    "ax1.set_ylim(bottom=0,top=1500)\r\n",
    "ax1.set_ylabel('Antal')\r\n",
    "\r\n",
    "ax1.set_xlim([firstDate,lastDate])\r\n",
    "plt.tight_layout()\r\n",
    "\r\n",
    "if saveFigures:\r\n",
    "    plt.savefig('figs/Screening_PCRnonAG')"
   ],
   "outputs": [],
   "metadata": {}
  },
  {
   "cell_type": "code",
   "execution_count": null,
   "source": [
    "fig,ax1 = plt.subplots()\r\n",
    "\r\n",
    "# ax1.plot(confDates,100 * np.divide(dfAG2['AGpos_PCRpos'],dfAG2['AG_testede']),'k.-',linewidth=0.5,markersize=4)\r\n",
    "# ax1.plot(rnTime2(confDates,meanWidth),rnMean(100 * np.divide(dfAG2['AGpos_PCRpos'],dfAG2['AG_testede']),meanWidth),'k')\r\n",
    "\r\n",
    "ax1.plot(confDates,np.divide(100 * np.divide(dfAG2['AGpos_PCRpos'],dfAG2['AG_testede']),0.01* dfAG2['Andel_AGpos_PCRkonf_pct']),'b.-',linewidth=0.5,markersize=5)\r\n",
    "ax1.plot(rnTime2(confDates,meanWidth),rnMean(np.divide(100 * np.divide(dfAG2['AGpos_PCRpos'],dfAG2['AG_testede']),0.01* dfAG2['Andel_AGpos_PCRkonf_pct']),meanWidth),'b')\r\n",
    "# dfAG2\r\n",
    "\r\n",
    "# ax1.legend(loc='upper left')\r\n",
    "ax1.grid(color='k')\r\n",
    "# ax1.set_ylim(bottom=0,top=7000)\r\n",
    "ax1.set_ylim(bottom=0,top = 0.4) \r\n",
    "# ax1.set_ylim(bottom=0,top = 0.2) \r\n",
    "# ax1.set_ylim(bottom=0,top = 0.1) \r\n",
    "ax1.set_ylabel('PCR-bekræftede positive AG-tests ud af alle AG-tests [%]')\r\n",
    "\r\n",
    "ax1.xaxis.set_major_formatter(mdates.DateFormatter('%d.\\n%B'))\r\n",
    "\r\n",
    "curLastDate = rnTime2(curDates,meanWidth)[-1]\r\n",
    "firstDate = np.datetime64('2021-05-01')\r\n",
    "ax1.set_xlim([firstDate,curLastDate])\r\n",
    "plt.tight_layout()\r\n",
    "if saveFigures:\r\n",
    "    plt.savefig('figs/Screening_AGconf')"
   ],
   "outputs": [
    {
     "output_type": "display_data",
     "data": {
      "text/plain": [
       "Canvas(toolbar=Toolbar(toolitems=[('Home', 'Reset original view', 'home', 'home'), ('Back', 'Back to previous …"
      ],
      "application/vnd.jupyter.widget-view+json": {
       "version_major": 2,
       "version_minor": 0,
       "model_id": "4f7ff517097942ff8e4a7bb262e33ac2"
      }
     },
     "metadata": {}
    }
   ],
   "metadata": {}
  },
  {
   "cell_type": "code",
   "execution_count": null,
   "source": [],
   "outputs": [],
   "metadata": {}
  }
 ],
 "metadata": {
  "interpreter": {
   "hash": "c72cdf52cb3d31f207bca538e9396da8706c0ecf4a3038fb1c2b317934170431"
  },
  "kernelspec": {
   "name": "python3",
   "display_name": "Python 3.8.5 64-bit ('main': conda)"
  },
  "language_info": {
   "codemirror_mode": {
    "name": "ipython",
    "version": 3
   },
   "file_extension": ".py",
   "mimetype": "text/x-python",
   "name": "python",
   "nbconvert_exporter": "python",
   "pygments_lexer": "ipython3",
   "version": "3.8.5"
  },
  "orig_nbformat": 2
 },
 "nbformat": 4,
 "nbformat_minor": 2
}