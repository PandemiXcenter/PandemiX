{
 "cells": [
  {
   "cell_type": "code",
   "execution_count": 1,
   "metadata": {},
   "outputs": [
    {
     "output_type": "stream",
     "name": "stdout",
     "text": [
      "saveFigures is set to: True\nDone loading packages\n"
     ]
    }
   ],
   "source": [
    "# Dokument for at udregne effekten af Danmarks tests\n",
    "import numpy as np\n",
    "import pandas as pd\n",
    "pd.set_option('display.max_rows', 500)\n",
    "pd.set_option('display.min_rows', 50)\n",
    "\n",
    "\n",
    "import matplotlib.pyplot as plt\n",
    "%matplotlib widget\n",
    "plt.rcParams['figure.figsize'] = (12,8)\n",
    "plt.rcParams[\"image.cmap\"] = \"tab10\"\n",
    "plt.rcParams['axes.prop_cycle'] = plt.cycler(color=plt.cm.tab10.colors)\n",
    "fs_label = 16\n",
    "parameters = {\n",
    "                'axes.labelsize': fs_label,\n",
    "                'axes.titlesize': fs_label+4,\n",
    "                'xtick.labelsize': fs_label,\n",
    "                'ytick.labelsize': fs_label, \n",
    "                'legend.fontsize': fs_label, \n",
    "                'lines.markersize': 10,\n",
    "                'lines.linewidth': 3\n",
    "             }\n",
    "plt.rcParams.update(parameters)\n",
    "%matplotlib widget\n",
    "import matplotlib.colors as colors\n",
    "from matplotlib import cm # Colormaps\n",
    "\n",
    "cmap = cm.get_cmap('Dark2',7)\n",
    "\n",
    "import locale\n",
    "import matplotlib.dates as mdates\n",
    "locale.setlocale(locale.LC_TIME,\"Danish\")\n",
    "\n",
    "import os\n",
    "import math\n",
    "\n",
    "from datetime import date\n",
    "\n",
    "\n",
    "saveFigures = True\n",
    "print('saveFigures is set to: '+str(saveFigures))\n",
    "print('Done loading packages')\n",
    "\n",
    "def rnMean(data,meanWidth):\n",
    "    return np.convolve(data, np.ones(meanWidth)/meanWidth, mode='valid')\n",
    "def rnTime(t,meanWidth):\n",
    "    return t[math.floor(meanWidth/2):-math.ceil(meanWidth/2)+1]\n",
    "def rnTime2(t,meanWidth):\n",
    "    return t[meanWidth-1:]\n"
   ]
  },
  {
   "cell_type": "code",
   "execution_count": 2,
   "metadata": {},
   "outputs": [
    {
     "output_type": "stream",
     "name": "stdout",
     "text": [
      "d:\\Pandemix\\Github\\DanskeData/ssi_data\\SSI_data_2021-06-24\n2021-06-24 00:00:00\n"
     ]
    }
   ],
   "source": [
    "ssidatapath = \"ssi_data\"\n",
    "rootdir = os.getcwd() +\"/\" + ssidatapath\n",
    "\n",
    "\n",
    "for subdir, dirs, files in os.walk(rootdir):\n",
    "    if not len(files) == 0:\n",
    "        latestdir = subdir\n",
    "        latestDate = pd.to_datetime(subdir[-10:])\n",
    "\n",
    "print(latestdir)\n",
    "print(latestDate)\n",
    "\n",
    "# latestdir = rootdir+ '/SSI_data_2021-05-27'\n",
    "# latestDate = pd.to_datetime(latestdir[-10:])\n",
    "\n",
    "# print(latestdir)\n",
    "# print(latestDate)"
   ]
  },
  {
   "cell_type": "markdown",
   "metadata": {},
   "source": [
    "# Load datafiler"
   ]
  },
  {
   "cell_type": "code",
   "execution_count": 3,
   "metadata": {},
   "outputs": [],
   "source": [
    "# Load the data\n",
    "fulldfPCR = pd.read_csv(latestdir+'/Test_pos_over_time.csv',delimiter = ';',dtype=str)\n",
    "fulldfAG = pd.read_csv(latestdir+'/Test_pos_over_time_antigen.csv',delimiter = ';',dtype=str)\n",
    "dfAG2 = pd.read_csv(latestdir+'/Antigentests_pr_dag.csv',delimiter = ';')\n",
    "\n",
    "# Cut out the last two rows of summary numbers\n",
    "dfPCR = fulldfPCR.iloc[:-2,:].copy()\n",
    "dfAG = fulldfAG.iloc[:-2,:].copy()\n",
    "\n",
    "# Format columns correctly\n",
    "dfPCR[\"PosPct\"] = pd.to_numeric(dfPCR[\"PosPct\"].astype(str).apply(lambda x: x.replace(',','.')))\n",
    "dfPCR[\"Date\"] = dfPCR[\"Date\"].astype('datetime64[D]')\n",
    "dfAG[\"PosPct\"] = pd.to_numeric(dfAG[\"PosPct\"].astype(str).apply(lambda x: x.replace(',','.')))\n",
    "dfAG[\"Date\"] = dfAG[\"Date\"].astype('datetime64[D]')\n",
    "\n",
    "rows_to_fix_period_in = [\"NewPositive\",\"NotPrevPos\",\"PrevPos\",\"Tested\",\"Tested_kumulativ\"]\n",
    "for name in rows_to_fix_period_in:\n",
    "    dfAG[name] = pd.to_numeric(dfAG[name].astype(str).apply(lambda x: x.replace('.','')))\n",
    "    dfPCR[name] = pd.to_numeric(dfPCR[name].astype(str).apply(lambda x: x.replace('.','')))\n",
    "\n",
    "dfAG2[\"Dato\"] = dfAG2[\"Dato\"].astype('datetime64[D]')\n",
    "dfAG2[\"Andel_AGpos_PCRkonf_pct\"] = pd.to_numeric(dfAG2[\"Andel_AGpos_PCRkonf_pct\"].astype(str).apply(lambda x: x.replace(',','.')))\n",
    "dfAG2[\"Andel_AGminusPCRkonf_pct\"] = pd.to_numeric(dfAG2[\"Andel_AGminusPCRkonf_pct\"].astype(str).apply(lambda x: x.replace(',','.')))\n",
    "\n",
    "# Cut off early data in PCR dataframe\n",
    "dfPCR = dfPCR[dfPCR.Date >= dfAG.iloc[0].Date]\n",
    "\n",
    "# Also cutoff everything before first of January\n",
    "firstDate = np.datetime64('2021-02-01')\n",
    "dfPCR = dfPCR[dfPCR.Date >= firstDate]\n",
    "dfAG = dfAG[dfAG.Date >= firstDate]\n",
    "\n",
    "# Cut off last date (since it is not fully done)\n",
    "dfPCR = dfPCR.iloc[:-1]\n",
    "dfAG = dfAG.iloc[:-1]\n",
    "\n",
    "# Get dates\n",
    "curDates = dfPCR.Date.values.astype('datetime64[D]')\n",
    "confDates = dfAG2.Dato.values.astype('datetime64[D]')"
   ]
  },
  {
   "cell_type": "code",
   "execution_count": 4,
   "metadata": {},
   "outputs": [
    {
     "output_type": "execute_result",
     "data": {
      "text/plain": [
       "numpy.datetime64('2021-06-22')"
      ]
     },
     "metadata": {},
     "execution_count": 4
    }
   ],
   "source": [
    "firstDate = np.datetime64('2021-03-01')\n",
    "lastDate = curDates[-1]\n",
    "lastDate"
   ]
  },
  {
   "cell_type": "markdown",
   "metadata": {},
   "source": [
    "# Metode 1"
   ]
  },
  {
   "cell_type": "code",
   "execution_count": 5,
   "metadata": {},
   "outputs": [],
   "source": [
    "# Beregninger\n",
    "PCRpos = dfPCR.NewPositive.values\n",
    "numPCR = dfPCR.Tested.values\n",
    "AGpos = dfAG.NewPositive.values\n",
    "numAG = dfAG.Tested.values\n",
    "AGposPCRpos = dfAG2.AGpos_PCRpos.values\n",
    "\n",
    "PCRposPct = np.divide(PCRpos,numPCR)\n",
    "AGposPct = np.divide(AGpos,numAG)\n",
    "\n",
    "# Calculate the true positive rate\n",
    "AGtruePos = np.divide(dfAG2.AGpos_PCRpos,dfAG2.AG_pos)\n",
    "avgTruePos = AGtruePos.iloc[-14:].mean()\n",
    "avgConf = 0.01*dfAG2['Andel_AGpos_PCRkonf_pct'].iloc[-14:].mean()\n",
    "\n",
    "# Projectér hvor mange der bekræftes i de to dage der endnu ikke er bekræftet\n",
    "# AGproj = np.divide(avgTruePos*dfAG2['AG_pos'],0.01*dfAG2['Andel_AGpos_PCRkonf_pct'].values)\n",
    "AGproj = np.divide(avgTruePos*AGpos,avgConf)\n",
    "confDatesProj = np.concatenate([confDates[:],curDates[-2:]])\n",
    "confDatesProj = np.append(confDates[:],curDates[-2:]).astype('datetime64[D]')\n",
    "AGposPCRposProj = np.append(AGposPCRpos,AGproj[-2:])\n",
    "# \n",
    "PCRpos_nonAG = PCRpos - AGposPCRposProj\n",
    "\n",
    "# \n",
    "PCRnoscreen = PCRpos_nonAG * ( (30000/dfPCR.Tested)**0.7)\n",
    "PCRscreen = PCRpos_nonAG - PCRnoscreen\n",
    "\n",
    "# Bredde af rullende gennemsnit\n",
    "meanWidth = 7\n"
   ]
  },
  {
   "cell_type": "code",
   "execution_count": 6,
   "metadata": {},
   "outputs": [
    {
     "output_type": "display_data",
     "data": {
      "text/plain": "Canvas(toolbar=Toolbar(toolitems=[('Home', 'Reset original view', 'home', 'home'), ('Back', 'Back to previous …",
      "application/vnd.jupyter.widget-view+json": {
       "version_major": 2,
       "version_minor": 0,
       "model_id": "44659278b9ae43aaac218b687d597782"
      }
     },
     "metadata": {}
    }
   ],
   "source": [
    "fig,ax1 = plt.subplots(1,1,sharex=True)\n",
    "\n",
    "\n",
    "cmap = plt.cm.get_cmap('tab20',7)\n",
    "\n",
    "ax1.fill_between(rnTime2(curDates,meanWidth),rnMean(PCRnoscreen,meanWidth),color=cmap(0),label='PCR positive, ved 30.000 tests')\n",
    "ax1.fill_between(rnTime2(curDates,meanWidth),rnMean(PCRpos_nonAG,meanWidth),rnMean(PCRnoscreen,meanWidth),color=cmap(1),label='PCR positive, kun screening')\n",
    "\n",
    "\n",
    "ax1.fill_between(rnTime2(curDates,meanWidth),rnMean(PCRpos,meanWidth),rnMean(PCRpos_nonAG,meanWidth),color=cmap(2),label='PCR positive, efter AG positive') \n",
    "\n",
    "# ax1.plot(curDates,PCRpos,'k.:',markersize=4,linewidth=0.5)\n",
    "\n",
    "ax1.legend(loc='upper left')\n",
    "ax1.grid(color='k')\n",
    "# ax1.set_ylim(bottom=0)\n",
    "ax1.set_ylim(bottom=0,top=1100)\n",
    "ax1.set_ylabel('Antal')\n",
    "\n",
    "ax1.xaxis.set_major_formatter(mdates.DateFormatter('%d.\\n%B'))\n",
    "\n",
    "curLastDate = rnTime2(curDates,meanWidth)[-1]\n",
    "ax1.set_xlim([firstDate,curLastDate])\n",
    "plt.tight_layout()\n",
    "\n",
    "if saveFigures:\n",
    "    plt.savefig('figs/Screening_PCRstacked')"
   ]
  },
  {
   "cell_type": "markdown",
   "metadata": {},
   "source": [
    "# Metode 2"
   ]
  },
  {
   "cell_type": "code",
   "execution_count": 7,
   "metadata": {},
   "outputs": [],
   "source": [
    "AGpospct2 = np.divide(dfAG2['AGpos_PCRpos'],dfAG2['AG_testede'])\n",
    "AGpospct2Mean = AGpospct2.values[-14:].mean()\n",
    "AGpospct2 = np.append(AGpospct2,AGpospct2Mean)\n",
    "AGpospct2 = np.append(AGpospct2,AGpospct2Mean)\n",
    "\n",
    "AGsens = np.divide(dfAG2['AGpos_PCRpos'], dfAG2['AGpos_PCRpos'] + dfAG2['AGnegPCRpos'])\n",
    "AGsensmean = AGsens.values[-14:].mean()\n",
    "AGsens = np.append(AGsens,AGsensmean)\n",
    "AGsens = np.append(AGsens,AGsensmean)\n",
    "\n",
    "pcrScreenSimple = dfPCR.Tested - 30000\n",
    "\n",
    "hardCodedSens = 0.618\n",
    "hardCodedSens = 0.492\n",
    "curEstimate = np.multiply(pcrScreenSimple.values,np.divide(AGpospct2,hardCodedSens))\n"
   ]
  },
  {
   "cell_type": "code",
   "execution_count": 8,
   "metadata": {},
   "outputs": [
    {
     "output_type": "display_data",
     "data": {
      "text/plain": "Canvas(toolbar=Toolbar(toolitems=[('Home', 'Reset original view', 'home', 'home'), ('Back', 'Back to previous …",
      "application/vnd.jupyter.widget-view+json": {
       "version_major": 2,
       "version_minor": 0,
       "model_id": "3ff44adcf16d4ee7bd5394638405ccd4"
      }
     },
     "metadata": {}
    }
   ],
   "source": [
    "fig,ax1 = plt.subplots()\n",
    "\n",
    "\n",
    "\n",
    "\n",
    "meanDays = rnTime2(curDates,meanWidth)\n",
    "\n",
    "\n",
    "ax1.stackplot(meanDays,\n",
    "    rnMean(PCRpos-AGposPCRposProj - curEstimate,meanWidth),\n",
    "    rnMean(curEstimate,meanWidth),\n",
    "    rnMean(AGposPCRposProj,meanWidth),\n",
    "    labels=['PCR positive, ved 30.000 tests','PCR positive, kun screening','PCR positive, efter AG positive'],\n",
    "    colors=[cmap(0),cmap(1),cmap(2)]\n",
    "    )\n",
    "\n",
    "ax1.legend(loc='upper left')\n",
    "ax1.grid(color='k')\n",
    "# ax1.set_ylim(bottom=0,top=7000)\n",
    "ax1.set_ylim(bottom=0) \n",
    "ax1.set_ylim(bottom=0,top=1100)\n",
    "ax1.set_ylabel('Antal')\n",
    "\n",
    "ax1.xaxis.set_major_formatter(mdates.DateFormatter('%d.\\n%B'))\n",
    "\n",
    "curLastDate = rnTime2(curDates,meanWidth)[-1]\n",
    "firstDate = np.datetime64('2021-03-01')\n",
    "ax1.set_xlim([firstDate,curLastDate])\n",
    "plt.tight_layout()\n",
    "\n",
    "if saveFigures:\n",
    "    plt.savefig('figs/Screening_Metode2')"
   ]
  },
  {
   "cell_type": "markdown",
   "metadata": {},
   "source": [
    "# Sammenholdt med hinanden"
   ]
  },
  {
   "cell_type": "code",
   "execution_count": 9,
   "metadata": {},
   "outputs": [
    {
     "output_type": "stream",
     "name": "stdout",
     "text": [
      "400 / 1500 = 26.7 % \n400 / 2833 = 14.1 % \n800 / 1500 = 53.3 % \n800 / 2833 = 28.2 % \n2166.5\n600 / 2167 = 27.7 % \n"
     ]
    }
   ],
   "source": [
    "print(f'400 / 1500 = {100 * 400 / 1500:2.1f} % ')\n",
    "print(f'400 / 2833 = {100 * 400 / 2833:2.1f} % ')\n",
    "print(f'800 / 1500 = {100 * 800 / 1500:2.1f} % ')\n",
    "print(f'800 / 2833 = {100 * 800 / 2833:2.1f} % ')\n",
    "print((1500+2833)/2)\n",
    "print(f'600 / 2167 = {100 * 600 / 2167:2.1f} % ')"
   ]
  },
  {
   "cell_type": "code",
   "execution_count": 10,
   "metadata": {},
   "outputs": [
    {
     "output_type": "stream",
     "name": "stdout",
     "text": [
      "400 / 1500 = 26.7 % \n400 / 3000 = 13.3 % \n800 / 1500 = 53.3 % \n800 / 3000 = 26.7 % \n600 / 2250 = 26.7 % \n"
     ]
    }
   ],
   "source": [
    "print(f'400 / 1500 = {100 * 400 / 1500:2.1f} % ')\n",
    "print(f'400 / 3000 = {100 * 400 / 3000:2.1f} % ')\n",
    "print(f'800 / 1500 = {100 * 800 / 1500:2.1f} % ')\n",
    "print(f'800 / 3000 = {100 * 800 / 3000:2.1f} % ')\n",
    "print(f'600 / 2250 = {100 * 600 / 2250:2.1f} % ')"
   ]
  },
  {
   "cell_type": "code",
   "execution_count": 11,
   "metadata": {},
   "outputs": [
    {
     "output_type": "stream",
     "name": "stdout",
     "text": [
      "450 / 1500 = 30.0 % \n450 / 3000 = 15.0 % \n800 / 1500 = 53.3 % \n800 / 3000 = 26.7 % \n575 / 2250 = 25.6 % \n"
     ]
    }
   ],
   "source": [
    "print(f'450 / 1500 = {100 * 450 / 1500:2.1f} % ')\n",
    "print(f'450 / 3000 = {100 * 450 / 3000:2.1f} % ')\n",
    "print(f'800 / 1500 = {100 * 800 / 1500:2.1f} % ')\n",
    "print(f'800 / 3000 = {100 * 800 / 3000:2.1f} % ')\n",
    "print(f'575 / 2250 = {100 * 575 / 2250:2.1f} % ')"
   ]
  },
  {
   "cell_type": "markdown",
   "metadata": {},
   "source": [
    "# Andre plots"
   ]
  },
  {
   "cell_type": "code",
   "execution_count": 12,
   "metadata": {},
   "outputs": [
    {
     "output_type": "display_data",
     "data": {
      "text/plain": "Canvas(toolbar=Toolbar(toolitems=[('Home', 'Reset original view', 'home', 'home'), ('Back', 'Back to previous …",
      "application/vnd.jupyter.widget-view+json": {
       "version_major": 2,
       "version_minor": 0,
       "model_id": "fa935370ae9a4c7c9bbad72fa66327c2"
      }
     },
     "metadata": {}
    }
   ],
   "source": [
    "# Overblik over antal tests og antal positive\r\n",
    "\r\n",
    "# fig,ax1 = plt.subplots(1,1)\r\n",
    "# fig,(ax1,ax2) = plt.subplots(2,1)\r\n",
    "fig,(ax1,ax2,ax3) = plt.subplots(3,1,sharex=True,figsize=(12,16))\r\n",
    "\r\n",
    "PCRpos = dfPCR.NewPositive\r\n",
    "AGpos = dfAG.NewPositive\r\n",
    "PCRtest = dfPCR.Tested\r\n",
    "AGtest = dfAG.Tested\r\n",
    "ax1.plot(curDates,PCRtest,'b.:',markersize=4,linewidth=0.5)\r\n",
    "ax1.plot(rnTime2(curDates,meanWidth),rnMean(PCRtest,meanWidth),'b',label='PCR')\r\n",
    "ax1.plot(curDates,AGtest,'r.:',markersize=4,linewidth=0.5)\r\n",
    "ax1.plot(rnTime2(curDates,meanWidth),rnMean(AGtest,meanWidth),'r',label='AG')\r\n",
    "\r\n",
    "ax2.plot(curDates,PCRpos,'b.:',markersize=4,linewidth=0.5)\r\n",
    "ax2.plot(rnTime2(curDates,meanWidth),rnMean(PCRpos,meanWidth),'b',label='PCR')\r\n",
    "ax2.plot(curDates,AGpos,'r.:',markersize=4,linewidth=0.5)\r\n",
    "ax2.plot(rnTime2(curDates,meanWidth),rnMean(AGpos,meanWidth),'r',label='AG')\r\n",
    "\r\n",
    "ax3.plot(curDates,100 * np.divide(PCRpos,PCRtest),'b.:',markersize=4,linewidth=0.5)\r\n",
    "ax3.plot(rnTime2(curDates,meanWidth),rnMean(100 * np.divide(PCRpos,PCRtest),meanWidth),'b',label='PCR')\r\n",
    "ax3.plot(curDates,100 * np.divide(AGpos,AGtest),'r.:',markersize=4,linewidth=0.5)\r\n",
    "ax3.plot(rnTime2(curDates,meanWidth),rnMean(100 * np.divide(AGpos,AGtest),meanWidth),'r',label='AG')\r\n",
    "\r\n",
    "\r\n",
    "ax1.xaxis.set_major_formatter(mdates.DateFormatter('%d. %b'))\r\n",
    "ax2.xaxis.set_major_formatter(mdates.DateFormatter('%d. %b'))\r\n",
    "ax3.xaxis.set_major_formatter(mdates.DateFormatter('%d. %b'))\r\n",
    "\r\n",
    "ax1.set_ylabel('Antal tests')\r\n",
    "ax2.set_ylabel('Antal positive')\r\n",
    "ax3.set_ylabel('Positiv procent [%]')\r\n",
    "\r\n",
    "\r\n",
    "ax1.set_ylim(bottom=0)\r\n",
    "ax2.set_ylim(bottom=0)\r\n",
    "ax3.set_ylim(bottom=0)\r\n",
    "\r\n",
    "ax1.legend()\r\n",
    "ax2.legend()\r\n",
    "ax3.legend()\r\n",
    "# ax1.legend(loc='center left',bbox_to_anchor = (1.0, 0.5))\r\n",
    "\r\n",
    "ax1.grid()\r\n",
    "ax2.grid()\r\n",
    "ax3.grid()\r\n",
    "\r\n",
    "ax1.set_xlim([firstDate,lastDate])\r\n",
    "# ax1.set_xlim([firstDate,np.datetime64('2021-06-25')])\r\n",
    "\r\n",
    "plt.tight_layout()\r\n",
    "if saveFigures:\r\n",
    "    plt.savefig('figs/Test_SimpleTal')"
   ]
  },
  {
   "cell_type": "code",
   "execution_count": 13,
   "metadata": {},
   "outputs": [
    {
     "output_type": "display_data",
     "data": {
      "text/plain": "Canvas(toolbar=Toolbar(toolitems=[('Home', 'Reset original view', 'home', 'home'), ('Back', 'Back to previous …",
      "application/vnd.jupyter.widget-view+json": {
       "version_major": 2,
       "version_minor": 0,
       "model_id": "c503b171663e490691967bb50481d1ce"
      }
     },
     "metadata": {}
    }
   ],
   "source": [
    "fig,ax1 = plt.subplots(1,1,sharex=True)\n",
    "\n",
    "ax1.plot(curDates,AGpos,'.-',color='xkcd:green',linewidth=0.5,markersize=2)\n",
    "ax1.plot(rnTime(curDates,meanWidth),rnMean(AGpos,meanWidth),color='xkcd:green',label='AG positive, total')\n",
    "\n",
    "ax1.plot(confDatesProj,AGposPCRposProj,'.-',color='xkcd:dark green',linewidth=0.5,markersize=2)\n",
    "ax1.plot(confDatesProj[-2:],AGposPCRposProj[-2:],'*',color='xkcd:dark green',markersize=5)\n",
    "ax1.plot(rnTime(confDatesProj,meanWidth),rnMean(AGposPCRposProj,meanWidth),color='xkcd:dark green',label='AG positive, PCR bekræftede')\n",
    "\n",
    "\n",
    "ax1.legend(loc='upper left')\n",
    "ax1.grid()\n",
    "ax1.set_ylim(bottom=0,top=500)\n",
    "ax1.set_ylabel('Antal')\n",
    "\n",
    "ax1.set_xlim([firstDate,lastDate])\n",
    "plt.tight_layout()\n",
    "\n",
    "if saveFigures:\n",
    "    plt.savefig('figs/Screening_AGconfirmed')"
   ]
  },
  {
   "cell_type": "code",
   "execution_count": 14,
   "metadata": {},
   "outputs": [
    {
     "output_type": "display_data",
     "data": {
      "text/plain": "Canvas(toolbar=Toolbar(toolitems=[('Home', 'Reset original view', 'home', 'home'), ('Back', 'Back to previous …",
      "application/vnd.jupyter.widget-view+json": {
       "version_major": 2,
       "version_minor": 0,
       "model_id": "1379d1d9ebb64effb37259f227bc941a"
      }
     },
     "metadata": {}
    }
   ],
   "source": [
    "fig,ax1 = plt.subplots(1,1,sharex=True)\n",
    "\n",
    "ax1.plot(curDates,PCRpos,'.-',color='xkcd:brown',linewidth=0.5,markersize=2)\n",
    "ax1.plot(rnTime(curDates,meanWidth),rnMean(PCRpos,meanWidth),color='xkcd:brown',label='PCR positive, alle')\n",
    "\n",
    "ax1.plot(curDates,AGposPCRposProj,'.-',color='xkcd:dark green',linewidth=0.5,markersize=2)\n",
    "ax1.plot(curDates[-2:],AGposPCRposProj[-2:],'*',color='xkcd:dark green',markersize=5)\n",
    "ax1.plot(rnTime(curDates,meanWidth),rnMean(AGposPCRposProj,meanWidth),color='xkcd:dark green',label='AG positive, PCR bekræftede')\n",
    "\n",
    "ax1.plot(curDates,PCRpos_nonAG,'.-',color='xkcd:dark blue',linewidth=0.5,markersize=2)\n",
    "ax1.plot(rnTime(curDates,meanWidth),rnMean(PCRpos_nonAG,meanWidth),color='xkcd:dark blue',label='PCR positive, uden AG bekræftning')\n",
    "\n",
    "ax1.legend(loc='upper left')\n",
    "ax1.grid()\n",
    "ax1.set_ylim(bottom=0,top=1500)\n",
    "ax1.set_ylabel('Antal')\n",
    "\n",
    "ax1.set_xlim([firstDate,lastDate])\n",
    "plt.tight_layout()\n",
    "\n",
    "if saveFigures:\n",
    "    plt.savefig('figs/Screening_PCRnonAG')"
   ]
  },
  {
   "cell_type": "code",
   "execution_count": 15,
   "metadata": {},
   "outputs": [
    {
     "output_type": "display_data",
     "data": {
      "text/plain": "Canvas(toolbar=Toolbar(toolitems=[('Home', 'Reset original view', 'home', 'home'), ('Back', 'Back to previous …",
      "application/vnd.jupyter.widget-view+json": {
       "version_major": 2,
       "version_minor": 0,
       "model_id": "4f769e43da654cac8dd5210788ffe42d"
      }
     },
     "metadata": {}
    }
   ],
   "source": [
    "fig,ax1 = plt.subplots()\n",
    "\n",
    "# ax1.plot(confDates,100 * np.divide(dfAG2['AGpos_PCRpos'],dfAG2['AG_testede']),'k.-',linewidth=0.5,markersize=4)\n",
    "# ax1.plot(rnTime2(confDates,meanWidth),rnMean(100 * np.divide(dfAG2['AGpos_PCRpos'],dfAG2['AG_testede']),meanWidth),'k')\n",
    "\n",
    "ax1.plot(confDates,np.divide(100 * np.divide(dfAG2['AGpos_PCRpos'],dfAG2['AG_testede']),0.01* dfAG2['Andel_AGpos_PCRkonf_pct']),'b.-',linewidth=0.5,markersize=5)\n",
    "ax1.plot(rnTime2(confDates,meanWidth),rnMean(np.divide(100 * np.divide(dfAG2['AGpos_PCRpos'],dfAG2['AG_testede']),0.01* dfAG2['Andel_AGpos_PCRkonf_pct']),meanWidth),'b')\n",
    "# dfAG2\n",
    "\n",
    "# ax1.legend(loc='upper left')\n",
    "ax1.grid(color='k')\n",
    "# ax1.set_ylim(bottom=0,top=7000)\n",
    "ax1.set_ylim(bottom=0,top = 0.3) \n",
    "ax1.set_ylabel('PCR-bekræftede positive AG-tests ud af alle AG-tests [%]')\n",
    "\n",
    "ax1.xaxis.set_major_formatter(mdates.DateFormatter('%d.\\n%B'))\n",
    "\n",
    "curLastDate = rnTime2(curDates,meanWidth)[-1]\n",
    "firstDate = np.datetime64('2021-03-01')\n",
    "ax1.set_xlim([firstDate,curLastDate])\n",
    "plt.tight_layout()\n",
    "if saveFigures:\n",
    "    plt.savefig('figs/Screening_AGconf')"
   ]
  },
  {
   "cell_type": "code",
   "execution_count": null,
   "metadata": {},
   "outputs": [],
   "source": []
  }
 ],
 "metadata": {
  "interpreter": {
   "hash": "c031fd63bd977d199cd6020c30a19695eacbb638d100e0b8a5ea53080ed74a9a"
  },
  "kernelspec": {
   "name": "python3",
   "display_name": "Python 3.8.8 64-bit ('main': conda)"
  },
  "language_info": {
   "codemirror_mode": {
    "name": "ipython",
    "version": 3
   },
   "file_extension": ".py",
   "mimetype": "text/x-python",
   "name": "python",
   "nbconvert_exporter": "python",
   "pygments_lexer": "ipython3",
   "version": "3.8.8"
  },
  "orig_nbformat": 2
 },
 "nbformat": 4,
 "nbformat_minor": 2
}