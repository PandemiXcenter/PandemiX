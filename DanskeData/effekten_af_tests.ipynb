{
 "metadata": {
  "language_info": {
   "codemirror_mode": {
    "name": "ipython",
    "version": 3
   },
   "file_extension": ".py",
   "mimetype": "text/x-python",
   "name": "python",
   "nbconvert_exporter": "python",
   "pygments_lexer": "ipython3",
   "version": "3.8.8"
  },
  "orig_nbformat": 2,
  "kernelspec": {
   "name": "python388jvsc74a57bd0c031fd63bd977d199cd6020c30a19695eacbb638d100e0b8a5ea53080ed74a9a",
   "display_name": "Python 3.8.8 64-bit ('main': conda)"
  }
 },
 "nbformat": 4,
 "nbformat_minor": 2,
 "cells": [
  {
   "cell_type": "code",
   "execution_count": 5,
   "metadata": {},
   "outputs": [
    {
     "output_type": "stream",
     "name": "stdout",
     "text": [
      "saveFigures is set to: True\nDone loading packages\n"
     ]
    }
   ],
   "source": [
    "# Dokument for at udregne effekten af Danmarks tests\n",
    "import numpy as np\n",
    "import pandas as pd\n",
    "pd.set_option('display.max_rows', 500)\n",
    "pd.set_option('display.min_rows', 50)\n",
    "\n",
    "\n",
    "import matplotlib.pyplot as plt\n",
    "%matplotlib widget\n",
    "plt.rcParams['figure.figsize'] = (12,8)\n",
    "plt.rcParams[\"image.cmap\"] = \"tab10\"\n",
    "plt.rcParams['axes.prop_cycle'] = plt.cycler(color=plt.cm.tab10.colors)\n",
    "fs_label = 16\n",
    "parameters = {\n",
    "                'axes.labelsize': fs_label,\n",
    "                'axes.titlesize': fs_label+4,\n",
    "                'xtick.labelsize': fs_label,\n",
    "                'ytick.labelsize': fs_label, \n",
    "                'legend.fontsize': fs_label, \n",
    "                'lines.markersize': 10,\n",
    "                'lines.linewidth': 3\n",
    "             }\n",
    "plt.rcParams.update(parameters)\n",
    "%matplotlib widget\n",
    "import matplotlib.colors as colors\n",
    "from matplotlib import cm # Colormaps\n",
    "\n",
    "cmap = cm.get_cmap('Dark2',7)\n",
    "\n",
    "import locale\n",
    "import matplotlib.dates as mdates\n",
    "locale.setlocale(locale.LC_TIME,\"Danish\")\n",
    "\n",
    "import os\n",
    "\n",
    "from datetime import date\n",
    "\n",
    "\n",
    "saveFigures = True\n",
    "print('saveFigures is set to: '+str(saveFigures))\n",
    "print('Done loading packages')\n",
    "\n",
    "def rnMean(data,meanWidth):\n",
    "    return np.convolve(data, np.ones(meanWidth)/meanWidth, mode='valid')\n",
    "def rnTime(t,meanWidth):\n",
    "    return t[math.floor(meanWidth/2):-math.ceil(meanWidth/2)+1]\n",
    "def rnTime2(t,meanWidth):\n",
    "    return t[meanWidth-1:]\n"
   ]
  },
  {
   "cell_type": "code",
   "execution_count": 8,
   "metadata": {},
   "outputs": [
    {
     "output_type": "stream",
     "name": "stdout",
     "text": [
      "d:\\Pandemix\\Github\\DanskeData/ssi_data\\SSI_data_2021-05-21\n2021-05-21 00:00:00\n"
     ]
    }
   ],
   "source": [
    "ssidatapath = \"ssi_data\"\n",
    "rootdir = os.getcwd() +\"/\" + ssidatapath\n",
    "\n",
    "\n",
    "# for subdir, dirs, files in os.walk(rootdir):\n",
    "#     if not len(files) == 0:\n",
    "#         latestdir = subdir\n",
    "#         latestDate = pd.to_datetime(subdir[-10:])\n",
    "\n",
    "# print(latestdir)\n",
    "# print(latestDate)\n",
    "\n",
    "latestdir = rootdir+ '/SSI_data_2021-05-21'\n",
    "latestDate = pd.to_datetime(latestdir[-10:])\n",
    "\n",
    "print(latestdir)\n",
    "print(latestDate)"
   ]
  },
  {
   "source": [
    "# Load datafiler"
   ],
   "cell_type": "markdown",
   "metadata": {}
  },
  {
   "cell_type": "code",
   "execution_count": 12,
   "metadata": {},
   "outputs": [],
   "source": [
    "# Load the data\n",
    "fulldfPCR = pd.read_csv(latestdir+'/Test_pos_over_time.csv',delimiter = ';',dtype=str)\n",
    "fulldfAG = pd.read_csv(latestdir+'/Test_pos_over_time_antigen.csv',delimiter = ';',dtype=str)\n",
    "dfAG2 = pd.read_csv(latestdir+'/Antigentests_pr_dag.csv',delimiter = ';')\n",
    "\n",
    "# Cut out the last two rows of summary numbers\n",
    "dfPCR = fulldfPCR.iloc[:-2,:].copy()\n",
    "dfAG = fulldfAG.iloc[:-2,:].copy()\n",
    "\n",
    "# Format columns correctly\n",
    "dfPCR[\"PosPct\"] = pd.to_numeric(dfPCR[\"PosPct\"].astype(str).apply(lambda x: x.replace(',','.')))\n",
    "dfPCR[\"Date\"] = dfPCR[\"Date\"].astype('datetime64[D]')\n",
    "dfAG[\"PosPct\"] = pd.to_numeric(dfAG[\"PosPct\"].astype(str).apply(lambda x: x.replace(',','.')))\n",
    "dfAG[\"Date\"] = dfAG[\"Date\"].astype('datetime64[D]')\n",
    "\n",
    "rows_to_fix_period_in = [\"NewPositive\",\"NotPrevPos\",\"PrevPos\",\"Tested\",\"Tested_kumulativ\"]\n",
    "for name in rows_to_fix_period_in:\n",
    "    dfAG[name] = pd.to_numeric(dfAG[name].astype(str).apply(lambda x: x.replace('.','')))\n",
    "    dfPCR[name] = pd.to_numeric(dfPCR[name].astype(str).apply(lambda x: x.replace('.','')))\n",
    "\n",
    "dfAG2[\"Dato\"] = dfAG2[\"Dato\"].astype('datetime64[D]')\n",
    "dfAG2[\"Andel_AGpos_PCRkonf_pct\"] = pd.to_numeric(dfAG2[\"Andel_AGpos_PCRkonf_pct\"].astype(str).apply(lambda x: x.replace(',','.')))\n",
    "dfAG2[\"Andel_AGminusPCRkonf_pct\"] = pd.to_numeric(dfAG2[\"Andel_AGminusPCRkonf_pct\"].astype(str).apply(lambda x: x.replace(',','.')))\n",
    "\n",
    "# Cut off early data in PCR dataframe\n",
    "dfPCR = dfPCR[dfPCR.Date >= dfAG.iloc[0].Date]\n",
    "\n",
    "# Also cutoff everything before first of January\n",
    "firstDate = np.datetime64('2021-02-01')\n",
    "dfPCR = dfPCR[dfPCR.Date >= firstDate]\n",
    "dfAG = dfAG[dfAG.Date >= firstDate]\n",
    "\n",
    "# Cut off last date (since it is not fully done)\n",
    "dfPCR = dfPCR.iloc[:-1]\n",
    "dfAG = dfAG.iloc[:-1]\n",
    "\n",
    "# Get dates\n",
    "curDates = dfPCR.Date.values.astype('datetime64[D]')\n",
    "confDates = dfAG2.Dato.values.astype('datetime64[D]')"
   ]
  },
  {
   "source": [
    "# Plots"
   ],
   "cell_type": "markdown",
   "metadata": {}
  },
  {
   "cell_type": "code",
   "execution_count": 13,
   "metadata": {},
   "outputs": [
    {
     "output_type": "display_data",
     "data": {
      "text/plain": "Canvas(toolbar=Toolbar(toolitems=[('Home', 'Reset original view', 'home', 'home'), ('Back', 'Back to previous …",
      "application/vnd.jupyter.widget-view+json": {
       "version_major": 2,
       "version_minor": 0,
       "model_id": "d8b874a4145c4f32ba18e50a47826b81"
      }
     },
     "metadata": {}
    }
   ],
   "source": [
    "# Overblik over antal tests og antal positive\n",
    "\n",
    "# fig,ax1 = plt.subplots(1,1)\n",
    "fig,(ax1,ax2) = plt.subplots(2,1)\n",
    "\n",
    "PCRpos = dfPCR.NewPositive\n",
    "AGpos = dfAG.NewPositive\n",
    "PCRtest = dfPCR.Tested\n",
    "AGtest = dfAG.Tested\n",
    "ax1.plot(curDates,PCRtest,label='PCR')\n",
    "ax1.plot(curDates,AGtest,label='AG')\n",
    "ax2.plot(curDates,PCRpos,label='PCR')\n",
    "ax2.plot(curDates,AGpos,label='AG')\n",
    "# ax2.plot(curDates,np.multiply(PCRpos,PCRtest),label='PCR')\n",
    "# ax2.plot(curDates,np.multiply(AGpos,AGtest),label='AG')\n",
    "\n",
    "ax1.xaxis.set_major_formatter(mdates.DateFormatter('%d. %b'))\n",
    "ax2.xaxis.set_major_formatter(mdates.DateFormatter('%d. %b'))\n",
    "\n",
    "\n",
    "ax1.legend()\n",
    "ax2.legend()\n",
    "# ax1.legend(loc='center left',bbox_to_anchor = (1.0, 0.5))\n",
    "# ax2.legend(loc='center left',bbox_to_anchor = (1.0, 0.5))\n",
    "\n",
    "plt.tight_layout()"
   ]
  }
 ]
}