{
 "metadata": {
  "language_info": {
   "codemirror_mode": {
    "name": "ipython",
    "version": 3
   },
   "file_extension": ".py",
   "mimetype": "text/x-python",
   "name": "python",
   "nbconvert_exporter": "python",
   "pygments_lexer": "ipython3",
   "version": "3.8.8"
  },
  "orig_nbformat": 2,
  "kernelspec": {
   "name": "python3",
   "display_name": "Python 3.8.8 64-bit ('main': conda)"
  },
  "interpreter": {
   "hash": "c031fd63bd977d199cd6020c30a19695eacbb638d100e0b8a5ea53080ed74a9a"
  }
 },
 "nbformat": 4,
 "nbformat_minor": 2,
 "cells": [
  {
   "cell_type": "code",
   "execution_count": 1,
   "source": [
    "# Notebook til at undersøge vaccinationsdata\r\n",
    "import numpy as np\r\n",
    "import pandas as pd\r\n",
    "pd.set_option('display.max_rows', 500)\r\n",
    "pd.set_option('display.min_rows', 50)\r\n",
    "\r\n",
    "\r\n",
    "import matplotlib.pyplot as plt\r\n",
    "%matplotlib widget\r\n",
    "plt.rcParams['figure.figsize'] = (12,8)\r\n",
    "plt.rcParams[\"image.cmap\"] = \"tab10\"\r\n",
    "plt.rcParams['axes.prop_cycle'] = plt.cycler(color=plt.cm.tab10.colors)\r\n",
    "fs_label = 16\r\n",
    "parameters = {\r\n",
    "                'axes.labelsize': fs_label,\r\n",
    "                'axes.titlesize': fs_label+4,\r\n",
    "                'xtick.labelsize': fs_label,\r\n",
    "                'ytick.labelsize': fs_label, \r\n",
    "                'legend.fontsize': fs_label, \r\n",
    "                'lines.markersize': 10,\r\n",
    "                'lines.linewidth': 3\r\n",
    "             }\r\n",
    "plt.rcParams.update(parameters)\r\n",
    "%matplotlib widget\r\n",
    "import matplotlib.colors as colors\r\n",
    "from matplotlib import cm # Colormaps\r\n",
    "\r\n",
    "cmap = cm.get_cmap('Dark2',7)\r\n",
    "\r\n",
    "import locale\r\n",
    "import matplotlib.dates as mdates\r\n",
    "locale.setlocale(locale.LC_TIME,\"Danish\")\r\n",
    "# ax = plt.gca()\r\n",
    "# ax1.xaxis.set_major_formatter(mdates.DateFormatter('%b\\n%Y'))\r\n",
    "# # ax.xaxis.set_major_formatter(mdates.DateFormatter('%Y \\n %B'))\r\n",
    "\r\n",
    "\r\n",
    "import os\r\n",
    "import math\r\n",
    "\r\n",
    "from datetime import date\r\n",
    "import datetime\r\n",
    "\r\n",
    "saveFigures = True\r\n",
    "print('saveFigures is set to: '+str(saveFigures))\r\n",
    "print('Done loading packages')\r\n",
    "\r\n",
    "def rnMean(data,meanWidth):\r\n",
    "    return np.convolve(data, np.ones(meanWidth)/meanWidth, mode='valid')\r\n",
    "def rnTime(t,meanWidth):\r\n",
    "    return t[math.floor(meanWidth/2):-math.ceil(meanWidth/2)+1]\r\n",
    "def rnTime2(t,meanWidth):\r\n",
    "    return t[meanWidth-1:]\r\n"
   ],
   "outputs": [
    {
     "output_type": "stream",
     "name": "stdout",
     "text": [
      "saveFigures is set to: True\n",
      "Done loading packages\n"
     ]
    }
   ],
   "metadata": {}
  },
  {
   "cell_type": "code",
   "execution_count": 2,
   "source": [
    "ssidatapath = \"ssi_vacc\"\r\n",
    "rootdir = os.getcwd() +\"\\\\\" + ssidatapath\r\n",
    "\r\n",
    "\r\n",
    "# for subdir, dirs, files in os.walk(rootdir):\r\n",
    "# #     # if not len(dirs) == 0:\r\n",
    "# #     #     latestdir = subdir\r\n",
    "# #     #     latestDate = pd.to_datetime(subdir[-10:])\r\n",
    "#     # print(files)\r\n",
    "#     # print(dirs[-1])\r\n",
    "\r\n",
    "for f in os.scandir(rootdir):\r\n",
    "    curPath = f.path\r\n",
    "    latestdir = curPath\r\n",
    "    latestDate = pd.to_datetime(curPath[-10:])\r\n",
    "# print([f.path for f in os.scandir(rootdir)])\r\n",
    "\r\n",
    "# # print(os.walk(rootdir))\r\n",
    "# print(latestdir)\r\n",
    "# print(latestDate)\r\n",
    "\r\n",
    "# # latestdir = rootdir+ '\\\\SSI_data_2021-05-25'\r\n",
    "# # latestDate = pd.to_datetime(latestdir[-10:])\r\n",
    "\r\n",
    "print(latestdir)\r\n",
    "print(latestDate)"
   ],
   "outputs": [
    {
     "output_type": "stream",
     "name": "stdout",
     "text": [
      "d:\\Pandemix\\Github\\DanskeData\\ssi_vacc\\SSI_vacc_2021-07-20\n",
      "2021-07-20 00:00:00\n"
     ]
    }
   ],
   "metadata": {}
  },
  {
   "cell_type": "code",
   "execution_count": 3,
   "source": [
    "\r\n",
    "filename = 'Vaccinerede_pr_uge_pr_maalgruppe.csv'\r\n",
    "# filename = 'Noegletal_vacc_daekning.csv'\r\n",
    "# curPath = \"D:/Pandemix/Github/DanskeData/ssi_vacc/SSI_vacc_2021-05-25/Vaccine_maalgrupper_DB/\" + filename\r\n",
    "curPath = latestdir+\"/Vaccine_maalgrupper_DB/\" + filename\r\n",
    "# latestdir+'\\\\Vaccine_maalgrupper_DB\\\\Noegletal_vacc_daekning.csv'\r\n",
    "\r\n",
    "filename = 'PaabegVacc_daek_DK_prdag.csv'\r\n",
    "# curPath = \"D:/Pandemix/Github/DanskeData/ssi_vacc/SSI_vacc_2021-05-25/Vaccine_DB/\" + filename\r\n",
    "curPath = latestdir+\"/Vaccine_DB/\" + filename\r\n",
    "\r\n",
    "\r\n",
    "# df = pd.read_csv(curPath,delimiter = ',',dtype=str,encoding='latin-1')\r\n",
    "df = pd.read_csv(curPath,delimiter = ';',dtype=str,encoding='latin-1')\r\n",
    "\r\n",
    "\r\n",
    "filename = 'FaerdigVacc_daekning_DK_prdag.csv'\r\n",
    "curPath = latestdir+\"/Vaccine_DB/\" + filename\r\n",
    "\r\n",
    "df_full = pd.read_csv(curPath,delimiter = ';',dtype=str,encoding='latin-1')"
   ],
   "outputs": [],
   "metadata": {}
  },
  {
   "cell_type": "code",
   "execution_count": 4,
   "source": [
    "df.tail()\r\n",
    "df_full.tail()\r\n"
   ],
   "outputs": [
    {
     "output_type": "execute_result",
     "data": {
      "text/plain": [
       "    Vaccinedato        geo Antal færdigvacc. personer Antal borgere  \\\n",
       "186  2021-07-15  Nationalt                      53450       5851099   \n",
       "187  2021-07-16  Nationalt                      43487       5851099   \n",
       "188  2021-07-17  Nationalt                      26386       5851099   \n",
       "189  2021-07-18  Nationalt                      33926       5851099   \n",
       "190  2021-07-19  Nationalt                      54511       5851099   \n",
       "\n",
       "    Færdigvacc. (%) Kumuleret antal færdigvacc.  \n",
       "186            43.6                     2551080  \n",
       "187            44.3                     2594567  \n",
       "188            44.8                     2620953  \n",
       "189            45.4                     2654879  \n",
       "190            46.3                     2709390  "
      ],
      "text/html": [
       "<div>\n",
       "<style scoped>\n",
       "    .dataframe tbody tr th:only-of-type {\n",
       "        vertical-align: middle;\n",
       "    }\n",
       "\n",
       "    .dataframe tbody tr th {\n",
       "        vertical-align: top;\n",
       "    }\n",
       "\n",
       "    .dataframe thead th {\n",
       "        text-align: right;\n",
       "    }\n",
       "</style>\n",
       "<table border=\"1\" class=\"dataframe\">\n",
       "  <thead>\n",
       "    <tr style=\"text-align: right;\">\n",
       "      <th></th>\n",
       "      <th>Vaccinedato</th>\n",
       "      <th>geo</th>\n",
       "      <th>Antal færdigvacc. personer</th>\n",
       "      <th>Antal borgere</th>\n",
       "      <th>Færdigvacc. (%)</th>\n",
       "      <th>Kumuleret antal færdigvacc.</th>\n",
       "    </tr>\n",
       "  </thead>\n",
       "  <tbody>\n",
       "    <tr>\n",
       "      <th>186</th>\n",
       "      <td>2021-07-15</td>\n",
       "      <td>Nationalt</td>\n",
       "      <td>53450</td>\n",
       "      <td>5851099</td>\n",
       "      <td>43.6</td>\n",
       "      <td>2551080</td>\n",
       "    </tr>\n",
       "    <tr>\n",
       "      <th>187</th>\n",
       "      <td>2021-07-16</td>\n",
       "      <td>Nationalt</td>\n",
       "      <td>43487</td>\n",
       "      <td>5851099</td>\n",
       "      <td>44.3</td>\n",
       "      <td>2594567</td>\n",
       "    </tr>\n",
       "    <tr>\n",
       "      <th>188</th>\n",
       "      <td>2021-07-17</td>\n",
       "      <td>Nationalt</td>\n",
       "      <td>26386</td>\n",
       "      <td>5851099</td>\n",
       "      <td>44.8</td>\n",
       "      <td>2620953</td>\n",
       "    </tr>\n",
       "    <tr>\n",
       "      <th>189</th>\n",
       "      <td>2021-07-18</td>\n",
       "      <td>Nationalt</td>\n",
       "      <td>33926</td>\n",
       "      <td>5851099</td>\n",
       "      <td>45.4</td>\n",
       "      <td>2654879</td>\n",
       "    </tr>\n",
       "    <tr>\n",
       "      <th>190</th>\n",
       "      <td>2021-07-19</td>\n",
       "      <td>Nationalt</td>\n",
       "      <td>54511</td>\n",
       "      <td>5851099</td>\n",
       "      <td>46.3</td>\n",
       "      <td>2709390</td>\n",
       "    </tr>\n",
       "  </tbody>\n",
       "</table>\n",
       "</div>"
      ]
     },
     "metadata": {},
     "execution_count": 4
    }
   ],
   "metadata": {}
  },
  {
   "cell_type": "code",
   "execution_count": 5,
   "source": [
    "# newVaccPerDay = df['Kumuleret antal påbegyndt vacc.'].astype(int).diff()\r\n",
    "newVaccPerDay = df['Antal påbegyndt vacc. personer'].astype(int)\r\n",
    "fullVaccPerDay = df_full['Antal færdigvacc. personer'].astype(int)\r\n",
    "\r\n",
    "\r\n",
    "# newVaccPerDayCumSum = np.cumsum(newVaccPerDay)\r\n",
    "newVaccCumu = df['Kumuleret antal påbegyndt vacc.'].astype(int)\r\n",
    "fullVaccCumu = df_full['Kumuleret antal færdigvacc.'].astype(int)\r\n",
    "\r\n",
    "curDates =  pd.to_datetime(df.Vaccinedato,format='%Y-%m-%d')\r\n",
    "curDatesFull =  pd.to_datetime(df_full.Vaccinedato,format='%Y-%m-%d')"
   ],
   "outputs": [],
   "metadata": {}
  },
  {
   "cell_type": "code",
   "execution_count": 6,
   "source": [
    "# Add zeroes to full vaccinated\r\n",
    "\r\n",
    "lenDiff = len(newVaccPerDay) - len(fullVaccPerDay)\r\n",
    "fullVaccPerDay = np.insert(fullVaccPerDay.values,0,np.zeros((lenDiff,)))\r\n",
    "fullVaccCumu = np.insert(fullVaccCumu.values,0,np.zeros((lenDiff,)))"
   ],
   "outputs": [],
   "metadata": {}
  },
  {
   "cell_type": "code",
   "execution_count": 7,
   "source": [
    "plt.figure()\r\n",
    "\r\n",
    "# plt.plot(curDates,newVaccPerDay)\r\n",
    "plt.plot(curDates,100 * newVaccPerDay/5846864,'k.:',linewidth=0.5)\r\n",
    "plt.plot(curDates,100 * fullVaccPerDay/5846864,'b.:',linewidth=0.5)\r\n",
    "meanWidth = 7\r\n",
    "plt.plot(rnTime(curDates,meanWidth),rnMean(100 * newVaccPerDay/5846864,meanWidth),'k',label='Påbegyndte vaccinationer')\r\n",
    "plt.plot(rnTime(curDates,meanWidth),rnMean(100 * fullVaccPerDay/5846864,meanWidth),'b',label='Færdiggjorte vaccinationer')\r\n",
    "plt.ylabel('Andel af danmarks samlede befolkning [%]')\r\n",
    "plt.ylim(bottom=0)\r\n",
    "plt.legend()\r\n",
    "plt.grid()\r\n",
    "ax1 = plt.gca()\r\n",
    "ax1.xaxis.set_major_formatter(mdates.DateFormatter('%b\\n%Y'))\r\n",
    "plt.tight_layout()"
   ],
   "outputs": [
    {
     "output_type": "display_data",
     "data": {
      "text/plain": [
       "Canvas(toolbar=Toolbar(toolitems=[('Home', 'Reset original view', 'home', 'home'), ('Back', 'Back to previous …"
      ],
      "application/vnd.jupyter.widget-view+json": {
       "version_major": 2,
       "version_minor": 0,
       "model_id": "0998732638784f8a90bff3a09867bc18"
      }
     },
     "metadata": {}
    }
   ],
   "metadata": {}
  },
  {
   "cell_type": "code",
   "execution_count": 8,
   "source": [
    "fig,(ax1,ax2) = plt.subplots(2,1,sharex=True)\r\n",
    "\r\n",
    "# plt.plot(curDates,newVaccPerDay)\r\n",
    "ax1.plot(curDates,100 * newVaccPerDay/5851099,'k.:',linewidth=0.5)\r\n",
    "ax2.plot(curDates,100 * fullVaccPerDay/5851099,'b.:',linewidth=0.5)\r\n",
    "meanWidth = 7\r\n",
    "ax1.plot(rnTime(curDates,meanWidth),rnMean(100 * newVaccPerDay/5851099,meanWidth),'k',label='Påbegyndte vaccinationer')\r\n",
    "ax2.plot(rnTime(curDates,meanWidth),rnMean(100 * fullVaccPerDay/5851099,meanWidth),'b',label='Færdiggjorte vaccinationer')\r\n",
    "ax1.set_ylabel('Påbegyndte vaccinationer \\n af DK befolkning [%]')\r\n",
    "ax2.set_ylabel('Færdiggjorte vaccinationer \\n af DK befolkning [%]')\r\n",
    "ax1.set_ylim([0,2])\r\n",
    "ax2.set_ylim([0,2])\r\n",
    "# plt.legend()\r\n",
    "ax2.grid()\r\n",
    "ax1.grid()\r\n",
    "ax1.xaxis.set_major_formatter(mdates.DateFormatter('%b\\n%Y'))\r\n",
    "plt.tight_layout()"
   ],
   "outputs": [
    {
     "output_type": "display_data",
     "data": {
      "text/plain": [
       "Canvas(toolbar=Toolbar(toolitems=[('Home', 'Reset original view', 'home', 'home'), ('Back', 'Back to previous …"
      ],
      "application/vnd.jupyter.widget-view+json": {
       "version_major": 2,
       "version_minor": 0,
       "model_id": "c4cd147500b345b9ba1aac0805b2e085"
      }
     },
     "metadata": {}
    }
   ],
   "metadata": {}
  },
  {
   "cell_type": "code",
   "execution_count": 9,
   "source": [
    "fig,ax1 = plt.subplots()\r\n",
    "\r\n",
    "newVaccCumuPop = 100 * newVaccCumu/5851099\r\n",
    "fullVaccCumuPop = 100 * fullVaccCumu/5851099\r\n",
    "\r\n",
    "# plt.plot(curDates,newVaccCumuPop,'k',linewidth=3)\r\n",
    "# plt.plot(curDates,fullVaccCumuPop,'b',linewidth=3)\r\n",
    "\r\n",
    "ax1.fill_between(curDates,newVaccCumuPop,color='k',zorder=3,label='Påbegyndt')\r\n",
    "ax1.fill_between(curDates,fullVaccCumuPop,color='b',zorder=3,label='Færdiggjort')\r\n",
    "\r\n",
    "\r\n",
    "# Draw weekends\r\n",
    "firstSunday = np.datetime64('2021-01-03')\r\n",
    "\r\n",
    "numWeeks = 52\r\n",
    "\r\n",
    "# curYlim = ax1.get_ylim()\r\n",
    "# ax1.vlines([np.datetime64('2021-06-24'),np.datetime64('2021-06-25')],curYlim[0],curYlim[1])\r\n",
    "for k in range(0,numWeeks):\r\n",
    "    curSunday = firstSunday + np.timedelta64(7*k,'D')\r\n",
    "    ax1.axvspan(curSunday-np.timedelta64(1,'D')-np.timedelta64(12,'h'),curSunday+np.timedelta64(12,'h'),facecolor='lightgrey')\r\n",
    "\r\n",
    "ax1.axvspan(curSunday-np.timedelta64(1,'D')-np.timedelta64(12,'h'),curSunday+np.timedelta64(12,'h'),facecolor='lightgrey',label='Weekend')\r\n",
    "\r\n",
    "ax1.legend(loc='upper left')\r\n",
    "\r\n",
    "\r\n",
    "ax1.spines[\"right\"].set_visible(False)\r\n",
    "ax1.spines[\"top\"].set_visible(False)\r\n",
    "ax1.set_ylabel('Andel af danmarks samlede befolkning [%]')\r\n",
    "ax1.set_ylim(bottom=0,top=100)\r\n",
    "# ax1.legend()\r\n",
    "ax1.grid(axis='y',zorder=0)\r\n",
    "ax1.xaxis.set_major_formatter(mdates.DateFormatter('%b\\n%Y'))\r\n",
    "\r\n",
    "ax1.set_xlim(left=np.datetime64('2021-01-01'),right=np.datetime64('2021-09-01'))\r\n",
    "plt.tight_layout()"
   ],
   "outputs": [
    {
     "output_type": "display_data",
     "data": {
      "text/plain": [
       "Canvas(toolbar=Toolbar(toolitems=[('Home', 'Reset original view', 'home', 'home'), ('Back', 'Back to previous …"
      ],
      "application/vnd.jupyter.widget-view+json": {
       "version_major": 2,
       "version_minor": 0,
       "model_id": "338c934f2ec34399befd3469a6719363"
      }
     },
     "metadata": {}
    }
   ],
   "metadata": {}
  },
  {
   "cell_type": "code",
   "execution_count": 131,
   "source": [
    "filename = 'Vaccinerede_pr_uge_pr_maalgruppe.csv'\r\n",
    "curPath = latestdir+\"/Vaccine_maalgrupper_DB/\" + filename\r\n",
    "\r\n",
    "df_weekly = pd.read_csv(curPath,delimiter = ';',dtype=str,encoding='latin-1')"
   ],
   "outputs": [],
   "metadata": {}
  },
  {
   "cell_type": "code",
   "execution_count": 132,
   "source": [
    "# df_weekly.tail()\r\n",
    "# Drop the three extra empty rows are the top\r\n",
    "df_weekly.drop([0,1,2],axis=0,inplace=True)\r\n",
    "# df_weekly.drop([0,1,2],axis=0,inplace=True)"
   ],
   "outputs": [],
   "metadata": {}
  },
  {
   "cell_type": "code",
   "execution_count": 133,
   "source": [
    "allDates = df_weekly.Ugenummer\r\n",
    "# d = \"2021-W29\"\r\n",
    "# r = datetime.datetime.strptime(d + '-1', \"%Y-W%W-%w\")\r\n",
    "# np.datetime64(r)\r\n",
    "\r\n",
    "curWeekDays = df_weekly.Ugenummer.apply(lambda x: np.datetime64(datetime.datetime.strptime(x + '-1', \"%Y-W%W-%w\")))\r\n",
    "\r\n",
    "allVaccOnce = pd.to_numeric(df_weekly['Dækning førstegangsvaccinerede (kumulativt i %)'])\r\n",
    "allVaccFull = pd.to_numeric(df_weekly['Dækning færdigvaccinerede (kumulativt i %)'])\r\n",
    "\r\n"
   ],
   "outputs": [],
   "metadata": {}
  },
  {
   "cell_type": "code",
   "execution_count": 134,
   "source": [
    "allGroups = df_weekly['Målgruppe'].unique()\r\n",
    "\r\n",
    "# Move groups around to have correct order\r\n",
    "allGroups.sort()\r\n",
    "allGroups = np.roll(allGroups,-8)\r\n",
    "allGroups = np.insert(allGroups,0,allGroups[-8])\r\n",
    "allGroups = np.delete(allGroups,-8)\r\n",
    "allGroups = np.append(allGroups,allGroups[-8])\r\n",
    "allGroups = np.delete(allGroups,-9)\r\n",
    "allGroups"
   ],
   "outputs": [
    {
     "output_type": "execute_result",
     "data": {
      "text/plain": [
       "array(['1. Plejehjemsbeboere',\n",
       "       '2. Borgere > 65, praktisk hjælp og personlig pleje',\n",
       "       '3. Borgere fra årgang 1936 og derunder (85 år og ældre)',\n",
       "       '4. Personale i sundhedsvæsenet og dele af socialvæsenet',\n",
       "       '5. Udvalgte patienter med særligt øget risiko',\n",
       "       '6. Udvalgte pårørende til personer med særligt øget risiko',\n",
       "       '7. Personer fra årgang 1937-1941',\n",
       "       '8. Personer fra årgang 1942-1946',\n",
       "       '9. Personer fra årgang 1947-1956',\n",
       "       '10A. Personer fra årgang 1957-1961',\n",
       "       '10B. Personer fra årgang 1962-1966',\n",
       "       '10C. Personer fra årgang 1967-1971',\n",
       "       '10D1. Personer fra årgang 1972-1976 og årgang 2002-2005',\n",
       "       '10D2. Personer fra årgang 1977-1981 og årgang 1997-2001',\n",
       "       '10D3. Personer fra årgang 1982-1986 og årgang 1992-1996',\n",
       "       '10D4. Personer fra årgang 1987-1991', 'Resterende'], dtype=object)"
      ]
     },
     "metadata": {},
     "execution_count": 134
    }
   ],
   "metadata": {}
  },
  {
   "cell_type": "code",
   "execution_count": 135,
   "source": [
    "curdf = df_weekly[df_weekly['Målgruppe'] == allGroups[0]]"
   ],
   "outputs": [],
   "metadata": {}
  },
  {
   "cell_type": "code",
   "execution_count": 136,
   "source": [
    "fig,(ax1,ax2) = plt.subplots(2,1,sharex=True)\r\n",
    "\r\n",
    "# ax1.plot(curWeekDays,allVaccOnce,'*')\r\n",
    "# ax2.plot(curWeekDays,allVaccFull,'*')\r\n",
    "\r\n",
    "# for k in range(0,len(allGroups)):\r\n",
    "for k in range(len(allGroups)-5,len(allGroups)-1):\r\n",
    "    curdf = df_weekly[df_weekly['Målgruppe'] == allGroups[k]]\r\n",
    "\r\n",
    "    curLabel = allGroups[k]\r\n",
    "\r\n",
    "    ageWeekDays = curdf.Ugenummer.apply(lambda x: np.datetime64(datetime.datetime.strptime(x + '-1', \"%Y-W%W-%w\")))\r\n",
    "\r\n",
    "    ageVaccOnce = pd.to_numeric(curdf['Dækning førstegangsvaccinerede (kumulativt i %)'])\r\n",
    "    ageVaccFull = pd.to_numeric(curdf['Dækning færdigvaccinerede (kumulativt i %)'])\r\n",
    "    \r\n",
    "    ax1.plot(ageWeekDays,ageVaccOnce,'-*',label=curLabel)\r\n",
    "    ax2.plot(ageWeekDays,ageVaccFull,'-*',label=curLabel)\r\n",
    "\r\n",
    "ax1.set_ylim([0,100])\r\n",
    "ax2.set_ylim([0,100])\r\n",
    "ax1.legend(fontsize=10)\r\n",
    "\r\n",
    "ax1.set_xlim(left=np.datetime64('2021-05-01'))\r\n",
    "plt.tight_layout()"
   ],
   "outputs": [
    {
     "output_type": "display_data",
     "data": {
      "text/plain": [
       "Canvas(toolbar=Toolbar(toolitems=[('Home', 'Reset original view', 'home', 'home'), ('Back', 'Back to previous …"
      ],
      "application/vnd.jupyter.widget-view+json": {
       "version_major": 2,
       "version_minor": 0,
       "model_id": "915eaefa14a745e1b65cbba7ef636da5"
      }
     },
     "metadata": {}
    }
   ],
   "metadata": {}
  },
  {
   "cell_type": "code",
   "execution_count": 137,
   "source": [
    "# fig,(ax1,ax2) = plt.subplots(2,1,sharex=True)\r\n",
    "\r\n",
    "for k in range(0,len(allGroups)):\r\n",
    "# for k in range(len(allGroups)-5,len(allGroups)-1):\r\n",
    "\r\n",
    "    fig,ax1 = plt.subplots(1,1)\r\n",
    "    curdf = df_weekly[df_weekly['Målgruppe'] == allGroups[k]]\r\n",
    "\r\n",
    "    curLabel = allGroups[k]\r\n",
    "\r\n",
    "    ageWeekDays = curdf.Ugenummer.apply(lambda x: np.datetime64(datetime.datetime.strptime(x + '-1', \"%Y-W%W-%w\")))\r\n",
    "\r\n",
    "    ageVaccOnce = pd.to_numeric(curdf['Dækning førstegangsvaccinerede (kumulativt i %)'])\r\n",
    "    ageVaccFull = pd.to_numeric(curdf['Dækning færdigvaccinerede (kumulativt i %)'])\r\n",
    "    \r\n",
    "    # ax1.plot(ageWeekDays,ageVaccOnce,'-*',label=curLabel)\r\n",
    "    # ax1.plot(ageWeekDays,ageVaccFull,'-*',label=curLabel)\r\n",
    "    ax1.fill_between(ageWeekDays,ageVaccOnce,zorder=3,color='xkcd:lightblue',label='Påbegyndt')\r\n",
    "    ax1.fill_between(ageWeekDays,ageVaccFull,zorder=3,color='xkcd:darkblue',label='Færdiggjort')\r\n",
    "\r\n",
    "    ax1.set_ylim([0,100])\r\n",
    "    # ax2.set_ylim([0,100])\r\n",
    "    # ax1.legend(fontsize=10)\r\n",
    "    plt.title(curLabel)\r\n",
    "\r\n",
    "    # Draw weekends\r\n",
    "    firstSunday = np.datetime64('2020-12-20')\r\n",
    "    numWeeks = 52\r\n",
    "    for w in range(0,numWeeks):\r\n",
    "        curSunday = firstSunday + np.timedelta64(7*w,'D')\r\n",
    "        ax1.axvspan(curSunday-np.timedelta64(1,'D')-np.timedelta64(12,'h'),curSunday+np.timedelta64(12,'h'),zorder=0,facecolor='lightgrey')\r\n",
    "    ax1.axvspan(curSunday-np.timedelta64(1,'D')-np.timedelta64(12,'h'),curSunday+np.timedelta64(12,'h'),zorder=0,facecolor='lightgrey',label='Weekend')\r\n",
    "\r\n",
    "    ax1.legend(loc='upper left')\r\n",
    "\r\n",
    "    ax1.spines[\"right\"].set_visible(False)\r\n",
    "    ax1.spines[\"top\"].set_visible(False)\r\n",
    "    ax1.set_ylabel('Andel af målgruppe [%]')\r\n",
    "    ax1.set_ylim(bottom=0,top=100)\r\n",
    "    ax1.grid(axis='y',zorder=0)\r\n",
    "    ax1.xaxis.set_major_formatter(mdates.DateFormatter('%b\\n%Y'))\r\n",
    "\r\n",
    "    ax1.set_xlim(left=firstSunday)\r\n",
    "    ax1.set_xlim(right=np.datetime64('2021-08-01'))\r\n",
    "\r\n",
    "    # plt.tight_layout()\r\n",
    "    if saveFigures:\r\n",
    "        plt.savefig(f'figsVacc/Maalgruppe_{k+1}')\r\n",
    "\r\n",
    "    ax1.set_xlim(left=np.datetime64('2021-05-01'))\r\n",
    "    ax1.xaxis.set_major_formatter(mdates.DateFormatter('%d.\\n%b'))\r\n",
    "    if saveFigures:\r\n",
    "        plt.savefig(f'figsVacc/Maalgruppe_{k+1}_zoom')\r\n",
    "plt.close('all')"
   ],
   "outputs": [
    {
     "output_type": "display_data",
     "data": {
      "text/plain": [
       "Canvas(toolbar=Toolbar(toolitems=[('Home', 'Reset original view', 'home', 'home'), ('Back', 'Back to previous …"
      ],
      "application/vnd.jupyter.widget-view+json": {
       "version_major": 2,
       "version_minor": 0,
       "model_id": "2be1db19ebc74c5e9413ca53b7d10f30"
      }
     },
     "metadata": {}
    },
    {
     "output_type": "display_data",
     "data": {
      "text/plain": [
       "Canvas(toolbar=Toolbar(toolitems=[('Home', 'Reset original view', 'home', 'home'), ('Back', 'Back to previous …"
      ],
      "application/vnd.jupyter.widget-view+json": {
       "version_major": 2,
       "version_minor": 0,
       "model_id": "8148733210ae44299114323cc2ad36dd"
      }
     },
     "metadata": {}
    },
    {
     "output_type": "display_data",
     "data": {
      "text/plain": [
       "Canvas(toolbar=Toolbar(toolitems=[('Home', 'Reset original view', 'home', 'home'), ('Back', 'Back to previous …"
      ],
      "application/vnd.jupyter.widget-view+json": {
       "version_major": 2,
       "version_minor": 0,
       "model_id": "ca37d2e863db4451b293d82e5c539d61"
      }
     },
     "metadata": {}
    },
    {
     "output_type": "display_data",
     "data": {
      "text/plain": [
       "Canvas(toolbar=Toolbar(toolitems=[('Home', 'Reset original view', 'home', 'home'), ('Back', 'Back to previous …"
      ],
      "application/vnd.jupyter.widget-view+json": {
       "version_major": 2,
       "version_minor": 0,
       "model_id": "22709680a99b41ad8207906c933f3395"
      }
     },
     "metadata": {}
    },
    {
     "output_type": "display_data",
     "data": {
      "text/plain": [
       "Canvas(toolbar=Toolbar(toolitems=[('Home', 'Reset original view', 'home', 'home'), ('Back', 'Back to previous …"
      ],
      "application/vnd.jupyter.widget-view+json": {
       "version_major": 2,
       "version_minor": 0,
       "model_id": "b07754777fa84b6e9163a4d98f872341"
      }
     },
     "metadata": {}
    },
    {
     "output_type": "display_data",
     "data": {
      "text/plain": [
       "Canvas(toolbar=Toolbar(toolitems=[('Home', 'Reset original view', 'home', 'home'), ('Back', 'Back to previous …"
      ],
      "application/vnd.jupyter.widget-view+json": {
       "version_major": 2,
       "version_minor": 0,
       "model_id": "f4be24d626044c9fab43d5bcedb07163"
      }
     },
     "metadata": {}
    },
    {
     "output_type": "display_data",
     "data": {
      "text/plain": [
       "Canvas(toolbar=Toolbar(toolitems=[('Home', 'Reset original view', 'home', 'home'), ('Back', 'Back to previous …"
      ],
      "application/vnd.jupyter.widget-view+json": {
       "version_major": 2,
       "version_minor": 0,
       "model_id": "d070a4b743a14f78ab321cc5bd0248e8"
      }
     },
     "metadata": {}
    },
    {
     "output_type": "stream",
     "name": "stderr",
     "text": [
      "<ipython-input-137-9037bd057e6c>:6: RuntimeWarning: More than 20 figures have been opened. Figures created through the pyplot interface (`matplotlib.pyplot.figure`) are retained until explicitly closed and may consume too much memory. (To control this warning, see the rcParam `figure.max_open_warning`).\n",
      "  fig,ax1 = plt.subplots(1,1)\n"
     ]
    },
    {
     "output_type": "display_data",
     "data": {
      "text/plain": [
       "Canvas(toolbar=Toolbar(toolitems=[('Home', 'Reset original view', 'home', 'home'), ('Back', 'Back to previous …"
      ],
      "application/vnd.jupyter.widget-view+json": {
       "version_major": 2,
       "version_minor": 0,
       "model_id": "b321c137c2dc4156a7375a1cce345c50"
      }
     },
     "metadata": {}
    },
    {
     "output_type": "display_data",
     "data": {
      "text/plain": [
       "Canvas(toolbar=Toolbar(toolitems=[('Home', 'Reset original view', 'home', 'home'), ('Back', 'Back to previous …"
      ],
      "application/vnd.jupyter.widget-view+json": {
       "version_major": 2,
       "version_minor": 0,
       "model_id": "86016c0cfedf4d34baa6ed10fd03bc34"
      }
     },
     "metadata": {}
    },
    {
     "output_type": "display_data",
     "data": {
      "text/plain": [
       "Canvas(toolbar=Toolbar(toolitems=[('Home', 'Reset original view', 'home', 'home'), ('Back', 'Back to previous …"
      ],
      "application/vnd.jupyter.widget-view+json": {
       "version_major": 2,
       "version_minor": 0,
       "model_id": "2e2174eba2184beba60d6306717362da"
      }
     },
     "metadata": {}
    },
    {
     "output_type": "display_data",
     "data": {
      "text/plain": [
       "Canvas(toolbar=Toolbar(toolitems=[('Home', 'Reset original view', 'home', 'home'), ('Back', 'Back to previous …"
      ],
      "application/vnd.jupyter.widget-view+json": {
       "version_major": 2,
       "version_minor": 0,
       "model_id": "4756858e35b745e695323e95cec7184e"
      }
     },
     "metadata": {}
    },
    {
     "output_type": "display_data",
     "data": {
      "text/plain": [
       "Canvas(toolbar=Toolbar(toolitems=[('Home', 'Reset original view', 'home', 'home'), ('Back', 'Back to previous …"
      ],
      "application/vnd.jupyter.widget-view+json": {
       "version_major": 2,
       "version_minor": 0,
       "model_id": "32ae400fbb8145558f0a36213b42cfd3"
      }
     },
     "metadata": {}
    },
    {
     "output_type": "display_data",
     "data": {
      "text/plain": [
       "Canvas(toolbar=Toolbar(toolitems=[('Home', 'Reset original view', 'home', 'home'), ('Back', 'Back to previous …"
      ],
      "application/vnd.jupyter.widget-view+json": {
       "version_major": 2,
       "version_minor": 0,
       "model_id": "8fcaabd846e14f519b8b8975747446bd"
      }
     },
     "metadata": {}
    },
    {
     "output_type": "display_data",
     "data": {
      "text/plain": [
       "Canvas(toolbar=Toolbar(toolitems=[('Home', 'Reset original view', 'home', 'home'), ('Back', 'Back to previous …"
      ],
      "application/vnd.jupyter.widget-view+json": {
       "version_major": 2,
       "version_minor": 0,
       "model_id": "4f280dded454439cbfa57ceac124acb8"
      }
     },
     "metadata": {}
    },
    {
     "output_type": "display_data",
     "data": {
      "text/plain": [
       "Canvas(toolbar=Toolbar(toolitems=[('Home', 'Reset original view', 'home', 'home'), ('Back', 'Back to previous …"
      ],
      "application/vnd.jupyter.widget-view+json": {
       "version_major": 2,
       "version_minor": 0,
       "model_id": "3467f069d83245309b7e6c14b0dceed0"
      }
     },
     "metadata": {}
    },
    {
     "output_type": "display_data",
     "data": {
      "text/plain": [
       "Canvas(toolbar=Toolbar(toolitems=[('Home', 'Reset original view', 'home', 'home'), ('Back', 'Back to previous …"
      ],
      "application/vnd.jupyter.widget-view+json": {
       "version_major": 2,
       "version_minor": 0,
       "model_id": "446386bd794441e1b1c94ed4bda0521b"
      }
     },
     "metadata": {}
    },
    {
     "output_type": "display_data",
     "data": {
      "text/plain": [
       "Canvas(toolbar=Toolbar(toolitems=[('Home', 'Reset original view', 'home', 'home'), ('Back', 'Back to previous …"
      ],
      "application/vnd.jupyter.widget-view+json": {
       "version_major": 2,
       "version_minor": 0,
       "model_id": "676a382e263d4e5ea825067dec1fa4f8"
      }
     },
     "metadata": {}
    }
   ],
   "metadata": {}
  },
  {
   "cell_type": "code",
   "execution_count": 138,
   "source": [
    "# Figur af \"inviterede, men ikke påbegyndt\"\r\n",
    "# First, population counts\r\n",
    "filename = 'Noegletal_vacc_daekning.csv'\r\n",
    "curPath = latestdir+\"/Vaccine_maalgrupper_DB/\" + filename\r\n",
    "\r\n",
    "df_noegle = pd.read_csv(curPath,delimiter = ';',dtype=str,encoding='latin-1')"
   ],
   "outputs": [],
   "metadata": {}
  },
  {
   "cell_type": "code",
   "execution_count": 139,
   "source": [
    "# Count groupsize:\r\n",
    "df_noegle[df_noegle['Målgruppe'] == allGroups[1]].Population.astype(int).sum()\r\n",
    "\r\n",
    "# Check of full population:\r\n",
    "wholePop = 0\r\n",
    "for k in range(0,len(allGroups)):\r\n",
    "    \r\n",
    "    curPop = df_noegle[df_noegle['Målgruppe'] == allGroups[k]].Population.astype(int).sum()\r\n",
    "    wholePop += curPop\r\n",
    "print(wholePop) # Should be 5851099"
   ],
   "outputs": [
    {
     "output_type": "stream",
     "name": "stdout",
     "text": [
      "5851099\n"
     ]
    }
   ],
   "metadata": {}
  },
  {
   "cell_type": "code",
   "execution_count": 140,
   "source": [
    "fig,(ax1,ax2) = plt.subplots(2,1,sharex=True)\r\n",
    "\r\n",
    "\r\n",
    "for k in range(0,len(allGroups)):\r\n",
    "# for k in range(len(allGroups)-5,len(allGroups)-1):\r\n",
    "    curdf = df_weekly[df_weekly['Målgruppe'] == allGroups[k]]\r\n",
    "\r\n",
    "    curPop = df_noegle[df_noegle['Målgruppe'] == allGroups[k]].Population.astype(int).sum()\r\n",
    "\r\n",
    "    curLabel = allGroups[k]\r\n",
    "\r\n",
    "    ageWeekDays = curdf.Ugenummer.apply(lambda x: np.datetime64(datetime.datetime.strptime(x + '-1', \"%Y-W%W-%w\")))\r\n",
    "\r\n",
    "    ageVaccOnce = pd.to_numeric(curdf['Dækning førstegangsvaccinerede (kumulativt i %)'])\r\n",
    "    ageVaccFull = pd.to_numeric(curdf['Dækning færdigvaccinerede (kumulativt i %)'])\r\n",
    "    \r\n",
    "    ax1.plot(ageWeekDays,curPop*(100-ageVaccOnce),'-*',label=curLabel)\r\n",
    "    ax2.plot(ageWeekDays,curPop*(100-ageVaccFull),'-*',label=curLabel)\r\n",
    "\r\n",
    "# ax1.set_ylim([0,100])\r\n",
    "# ax2.set_ylim([0,100])\r\n",
    "ax1.set_ylim(bottom=0)\r\n",
    "ax2.set_ylim(bottom=0)\r\n",
    "ax1.legend(fontsize=8,loc='upper left')\r\n",
    "\r\n",
    "# ax1.set_xlim(left=np.datetime64('2021-05-01'))\r\n",
    "plt.tight_layout()"
   ],
   "outputs": [
    {
     "output_type": "display_data",
     "data": {
      "text/plain": [
       "Canvas(toolbar=Toolbar(toolitems=[('Home', 'Reset original view', 'home', 'home'), ('Back', 'Back to previous …"
      ],
      "application/vnd.jupyter.widget-view+json": {
       "version_major": 2,
       "version_minor": 0,
       "model_id": "3836a6e6207d489b8b7405b742e80a2f"
      }
     },
     "metadata": {}
    }
   ],
   "metadata": {}
  },
  {
   "cell_type": "code",
   "execution_count": 168,
   "source": [
    "fig,ax1 = plt.subplots()\r\n",
    " \r\n",
    "\r\n",
    "currOnce = np.zeros(ageVaccOnce.values.shape)\r\n",
    "prevOnce = np.zeros(ageVaccOnce.values.shape)\r\n",
    "\r\n",
    "# allWeeks = df_weekly.Ugenummer.apply(lambda x: np.datetime64(datetime.datetime.strptime(x + '-1', \"%Y-W%W-%w\")))\r\n",
    "\r\n",
    "for k in range(7,16):\r\n",
    "# for k in range(0,len(allGroups)):\r\n",
    "    curdf = df_weekly[df_weekly['Målgruppe'] == allGroups[k]]\r\n",
    "\r\n",
    "    curPop = df_noegle[df_noegle['Målgruppe'] == allGroups[k]].Population.astype(int).sum()\r\n",
    "\r\n",
    "    curLabel = allGroups[k]\r\n",
    "\r\n",
    "    ageWeekDays = curdf.Ugenummer.apply(lambda x: np.datetime64(datetime.datetime.strptime(x + '-1', \"%Y-W%W-%w\")))\r\n",
    "\r\n",
    "    ageVaccOnce = pd.to_numeric(curdf['Dækning førstegangsvaccinerede (kumulativt i %)'])\r\n",
    "    ageVaccFull = pd.to_numeric(curdf['Dækning færdigvaccinerede (kumulativt i %)'])\r\n",
    "\r\n",
    "    numOnce = curPop * (ageVaccOnce.values/100)\r\n",
    "    numFull = curPop * (ageVaccFull/100)\r\n",
    "    numNone = curPop * (100-ageVaccOnce)\r\n",
    "    # numNone = curPop - numOnce\r\n",
    "\r\n",
    "    currOnce += currOnce + numOnce\r\n",
    "\r\n",
    "    # ax1.plot(ageWeekDays,numOnce)\r\n",
    "    ax1.plot(ageWeekDays,currOnce)\r\n",
    "    # ax1.fill_between(ageWeekDays,currOnce,prevOnce)\r\n",
    "    # ax1.fill_between(ageWeekDays,currOnce)\r\n",
    "\r\n",
    "    prevOnce += prevOnce + numOnce\r\n",
    "\r\n",
    "    # ax1.plot(ageWeekDays,numOnce)\r\n",
    "    # ax1.plot(ageWeekDays,numFull)\r\n",
    "    # ax1.plot(ageWeekDays,numNone)\r\n",
    "    \r\n",
    "    # ax1.plot(ageWeekDays,curPop*(100-ageVaccOnce),'-*',label=curLabel)\r\n",
    "    # ax2.plot(ageWeekDays,curPop*(100-ageVaccFull),'-*',label=curLabel)\r\n",
    "\r\n"
   ],
   "outputs": [
    {
     "output_type": "display_data",
     "data": {
      "text/plain": [
       "Canvas(toolbar=Toolbar(toolitems=[('Home', 'Reset original view', 'home', 'home'), ('Back', 'Back to previous …"
      ],
      "application/vnd.jupyter.widget-view+json": {
       "version_major": 2,
       "version_minor": 0,
       "model_id": "3b2b1b900f954dcfacaf1ebe7eff5042"
      }
     },
     "metadata": {}
    }
   ],
   "metadata": {}
  },
  {
   "cell_type": "code",
   "execution_count": 142,
   "source": [
    "# testWeeks = allWeeks[0:20]\r\n",
    "# xy, x_ind, y_ind = np.intersect1d(testWeeks,allWeeks,return_indices=True)\r\n",
    "# print(len(testWeeks))\r\n",
    "# print(len(x_ind))\r\n",
    "# testWeeks[x_ind]\r\n",
    "curdf"
   ],
   "outputs": [
    {
     "output_type": "execute_result",
     "data": {
      "text/plain": [
       "    Ugenummer                                          Målgruppe  \\\n",
       "16   2020-W52  10D2. Personer fra årgang 1977-1981 og årgang ...   \n",
       "32   2020-W53  10D2. Personer fra årgang 1977-1981 og årgang ...   \n",
       "49   2021-W01  10D2. Personer fra årgang 1977-1981 og årgang ...   \n",
       "65   2021-W02  10D2. Personer fra årgang 1977-1981 og årgang ...   \n",
       "80   2021-W03  10D2. Personer fra årgang 1977-1981 og årgang ...   \n",
       "96   2021-W04  10D2. Personer fra årgang 1977-1981 og årgang ...   \n",
       "112  2021-W05  10D2. Personer fra årgang 1977-1981 og årgang ...   \n",
       "127  2021-W06  10D2. Personer fra årgang 1977-1981 og årgang ...   \n",
       "143  2021-W07  10D2. Personer fra årgang 1977-1981 og årgang ...   \n",
       "159  2021-W08  10D2. Personer fra årgang 1977-1981 og årgang ...   \n",
       "175  2021-W09  10D2. Personer fra årgang 1977-1981 og årgang ...   \n",
       "192  2021-W10  10D2. Personer fra årgang 1977-1981 og årgang ...   \n",
       "208  2021-W11  10D2. Personer fra årgang 1977-1981 og årgang ...   \n",
       "224  2021-W12  10D2. Personer fra årgang 1977-1981 og årgang ...   \n",
       "240  2021-W13  10D2. Personer fra årgang 1977-1981 og årgang ...   \n",
       "256  2021-W14  10D2. Personer fra årgang 1977-1981 og årgang ...   \n",
       "272  2021-W15  10D2. Personer fra årgang 1977-1981 og årgang ...   \n",
       "288  2021-W16  10D2. Personer fra årgang 1977-1981 og årgang ...   \n",
       "304  2021-W17  10D2. Personer fra årgang 1977-1981 og årgang ...   \n",
       "321  2021-W18  10D2. Personer fra årgang 1977-1981 og årgang ...   \n",
       "337  2021-W19  10D2. Personer fra årgang 1977-1981 og årgang ...   \n",
       "354  2021-W20  10D2. Personer fra årgang 1977-1981 og årgang ...   \n",
       "371  2021-W21  10D2. Personer fra årgang 1977-1981 og årgang ...   \n",
       "388  2021-W22  10D2. Personer fra årgang 1977-1981 og årgang ...   \n",
       "405  2021-W23  10D2. Personer fra årgang 1977-1981 og årgang ...   \n",
       "422  2021-W24  10D2. Personer fra årgang 1977-1981 og årgang ...   \n",
       "439  2021-W25  10D2. Personer fra årgang 1977-1981 og årgang ...   \n",
       "456  2021-W26  10D2. Personer fra årgang 1977-1981 og årgang ...   \n",
       "473  2021-W27  10D2. Personer fra årgang 1977-1981 og årgang ...   \n",
       "490  2021-W28  10D2. Personer fra årgang 1977-1981 og årgang ...   \n",
       "507  2021-W29  10D2. Personer fra årgang 1977-1981 og årgang ...   \n",
       "\n",
       "    Dækning førstegangsvaccinerede (kumulativt i %)  \\\n",
       "16                                             0.01   \n",
       "32                                             0.03   \n",
       "49                                             0.07   \n",
       "65                                             0.09   \n",
       "80                                             0.10   \n",
       "96                                             0.11   \n",
       "112                                            0.12   \n",
       "127                                            0.13   \n",
       "143                                            0.15   \n",
       "159                                            0.17   \n",
       "175                                            0.20   \n",
       "192                                            0.23   \n",
       "208                                            0.29   \n",
       "224                                            0.32   \n",
       "240                                            0.36   \n",
       "256                                            0.41   \n",
       "272                                            0.46   \n",
       "288                                            0.52   \n",
       "304                                            0.57   \n",
       "321                                            0.63   \n",
       "337                                            0.71   \n",
       "354                                            0.80   \n",
       "371                                            0.95   \n",
       "388                                            3.01   \n",
       "405                                           13.11   \n",
       "422                                           31.57   \n",
       "439                                           49.02   \n",
       "456                                           59.92   \n",
       "473                                           69.29   \n",
       "490                                           73.25   \n",
       "507                                           73.73   \n",
       "\n",
       "    Dækning færdigvaccinerede (kumulativt i %)  \n",
       "16                                        0.00  \n",
       "32                                        0.00  \n",
       "49                                        0.00  \n",
       "65                                        0.00  \n",
       "80                                        0.02  \n",
       "96                                        0.05  \n",
       "112                                       0.08  \n",
       "127                                       0.09  \n",
       "143                                       0.10  \n",
       "159                                       0.11  \n",
       "175                                       0.12  \n",
       "192                                       0.14  \n",
       "208                                       0.16  \n",
       "224                                       0.17  \n",
       "240                                       0.20  \n",
       "256                                       0.26  \n",
       "272                                       0.30  \n",
       "288                                       0.32  \n",
       "304                                       0.37  \n",
       "321                                       0.40  \n",
       "337                                       0.46  \n",
       "354                                       0.50  \n",
       "371                                       0.56  \n",
       "388                                       0.95  \n",
       "405                                       1.52  \n",
       "422                                       1.79  \n",
       "439                                       1.92  \n",
       "456                                       2.06  \n",
       "473                                       2.80  \n",
       "490                                      11.52  \n",
       "507                                      13.52  "
      ],
      "text/html": [
       "<div>\n",
       "<style scoped>\n",
       "    .dataframe tbody tr th:only-of-type {\n",
       "        vertical-align: middle;\n",
       "    }\n",
       "\n",
       "    .dataframe tbody tr th {\n",
       "        vertical-align: top;\n",
       "    }\n",
       "\n",
       "    .dataframe thead th {\n",
       "        text-align: right;\n",
       "    }\n",
       "</style>\n",
       "<table border=\"1\" class=\"dataframe\">\n",
       "  <thead>\n",
       "    <tr style=\"text-align: right;\">\n",
       "      <th></th>\n",
       "      <th>Ugenummer</th>\n",
       "      <th>Målgruppe</th>\n",
       "      <th>Dækning førstegangsvaccinerede (kumulativt i %)</th>\n",
       "      <th>Dækning færdigvaccinerede (kumulativt i %)</th>\n",
       "    </tr>\n",
       "  </thead>\n",
       "  <tbody>\n",
       "    <tr>\n",
       "      <th>16</th>\n",
       "      <td>2020-W52</td>\n",
       "      <td>10D2. Personer fra årgang 1977-1981 og årgang ...</td>\n",
       "      <td>0.01</td>\n",
       "      <td>0.00</td>\n",
       "    </tr>\n",
       "    <tr>\n",
       "      <th>32</th>\n",
       "      <td>2020-W53</td>\n",
       "      <td>10D2. Personer fra årgang 1977-1981 og årgang ...</td>\n",
       "      <td>0.03</td>\n",
       "      <td>0.00</td>\n",
       "    </tr>\n",
       "    <tr>\n",
       "      <th>49</th>\n",
       "      <td>2021-W01</td>\n",
       "      <td>10D2. Personer fra årgang 1977-1981 og årgang ...</td>\n",
       "      <td>0.07</td>\n",
       "      <td>0.00</td>\n",
       "    </tr>\n",
       "    <tr>\n",
       "      <th>65</th>\n",
       "      <td>2021-W02</td>\n",
       "      <td>10D2. Personer fra årgang 1977-1981 og årgang ...</td>\n",
       "      <td>0.09</td>\n",
       "      <td>0.00</td>\n",
       "    </tr>\n",
       "    <tr>\n",
       "      <th>80</th>\n",
       "      <td>2021-W03</td>\n",
       "      <td>10D2. Personer fra årgang 1977-1981 og årgang ...</td>\n",
       "      <td>0.10</td>\n",
       "      <td>0.02</td>\n",
       "    </tr>\n",
       "    <tr>\n",
       "      <th>96</th>\n",
       "      <td>2021-W04</td>\n",
       "      <td>10D2. Personer fra årgang 1977-1981 og årgang ...</td>\n",
       "      <td>0.11</td>\n",
       "      <td>0.05</td>\n",
       "    </tr>\n",
       "    <tr>\n",
       "      <th>112</th>\n",
       "      <td>2021-W05</td>\n",
       "      <td>10D2. Personer fra årgang 1977-1981 og årgang ...</td>\n",
       "      <td>0.12</td>\n",
       "      <td>0.08</td>\n",
       "    </tr>\n",
       "    <tr>\n",
       "      <th>127</th>\n",
       "      <td>2021-W06</td>\n",
       "      <td>10D2. Personer fra årgang 1977-1981 og årgang ...</td>\n",
       "      <td>0.13</td>\n",
       "      <td>0.09</td>\n",
       "    </tr>\n",
       "    <tr>\n",
       "      <th>143</th>\n",
       "      <td>2021-W07</td>\n",
       "      <td>10D2. Personer fra årgang 1977-1981 og årgang ...</td>\n",
       "      <td>0.15</td>\n",
       "      <td>0.10</td>\n",
       "    </tr>\n",
       "    <tr>\n",
       "      <th>159</th>\n",
       "      <td>2021-W08</td>\n",
       "      <td>10D2. Personer fra årgang 1977-1981 og årgang ...</td>\n",
       "      <td>0.17</td>\n",
       "      <td>0.11</td>\n",
       "    </tr>\n",
       "    <tr>\n",
       "      <th>175</th>\n",
       "      <td>2021-W09</td>\n",
       "      <td>10D2. Personer fra årgang 1977-1981 og årgang ...</td>\n",
       "      <td>0.20</td>\n",
       "      <td>0.12</td>\n",
       "    </tr>\n",
       "    <tr>\n",
       "      <th>192</th>\n",
       "      <td>2021-W10</td>\n",
       "      <td>10D2. Personer fra årgang 1977-1981 og årgang ...</td>\n",
       "      <td>0.23</td>\n",
       "      <td>0.14</td>\n",
       "    </tr>\n",
       "    <tr>\n",
       "      <th>208</th>\n",
       "      <td>2021-W11</td>\n",
       "      <td>10D2. Personer fra årgang 1977-1981 og årgang ...</td>\n",
       "      <td>0.29</td>\n",
       "      <td>0.16</td>\n",
       "    </tr>\n",
       "    <tr>\n",
       "      <th>224</th>\n",
       "      <td>2021-W12</td>\n",
       "      <td>10D2. Personer fra årgang 1977-1981 og årgang ...</td>\n",
       "      <td>0.32</td>\n",
       "      <td>0.17</td>\n",
       "    </tr>\n",
       "    <tr>\n",
       "      <th>240</th>\n",
       "      <td>2021-W13</td>\n",
       "      <td>10D2. Personer fra årgang 1977-1981 og årgang ...</td>\n",
       "      <td>0.36</td>\n",
       "      <td>0.20</td>\n",
       "    </tr>\n",
       "    <tr>\n",
       "      <th>256</th>\n",
       "      <td>2021-W14</td>\n",
       "      <td>10D2. Personer fra årgang 1977-1981 og årgang ...</td>\n",
       "      <td>0.41</td>\n",
       "      <td>0.26</td>\n",
       "    </tr>\n",
       "    <tr>\n",
       "      <th>272</th>\n",
       "      <td>2021-W15</td>\n",
       "      <td>10D2. Personer fra årgang 1977-1981 og årgang ...</td>\n",
       "      <td>0.46</td>\n",
       "      <td>0.30</td>\n",
       "    </tr>\n",
       "    <tr>\n",
       "      <th>288</th>\n",
       "      <td>2021-W16</td>\n",
       "      <td>10D2. Personer fra årgang 1977-1981 og årgang ...</td>\n",
       "      <td>0.52</td>\n",
       "      <td>0.32</td>\n",
       "    </tr>\n",
       "    <tr>\n",
       "      <th>304</th>\n",
       "      <td>2021-W17</td>\n",
       "      <td>10D2. Personer fra årgang 1977-1981 og årgang ...</td>\n",
       "      <td>0.57</td>\n",
       "      <td>0.37</td>\n",
       "    </tr>\n",
       "    <tr>\n",
       "      <th>321</th>\n",
       "      <td>2021-W18</td>\n",
       "      <td>10D2. Personer fra årgang 1977-1981 og årgang ...</td>\n",
       "      <td>0.63</td>\n",
       "      <td>0.40</td>\n",
       "    </tr>\n",
       "    <tr>\n",
       "      <th>337</th>\n",
       "      <td>2021-W19</td>\n",
       "      <td>10D2. Personer fra årgang 1977-1981 og årgang ...</td>\n",
       "      <td>0.71</td>\n",
       "      <td>0.46</td>\n",
       "    </tr>\n",
       "    <tr>\n",
       "      <th>354</th>\n",
       "      <td>2021-W20</td>\n",
       "      <td>10D2. Personer fra årgang 1977-1981 og årgang ...</td>\n",
       "      <td>0.80</td>\n",
       "      <td>0.50</td>\n",
       "    </tr>\n",
       "    <tr>\n",
       "      <th>371</th>\n",
       "      <td>2021-W21</td>\n",
       "      <td>10D2. Personer fra årgang 1977-1981 og årgang ...</td>\n",
       "      <td>0.95</td>\n",
       "      <td>0.56</td>\n",
       "    </tr>\n",
       "    <tr>\n",
       "      <th>388</th>\n",
       "      <td>2021-W22</td>\n",
       "      <td>10D2. Personer fra årgang 1977-1981 og årgang ...</td>\n",
       "      <td>3.01</td>\n",
       "      <td>0.95</td>\n",
       "    </tr>\n",
       "    <tr>\n",
       "      <th>405</th>\n",
       "      <td>2021-W23</td>\n",
       "      <td>10D2. Personer fra årgang 1977-1981 og årgang ...</td>\n",
       "      <td>13.11</td>\n",
       "      <td>1.52</td>\n",
       "    </tr>\n",
       "    <tr>\n",
       "      <th>422</th>\n",
       "      <td>2021-W24</td>\n",
       "      <td>10D2. Personer fra årgang 1977-1981 og årgang ...</td>\n",
       "      <td>31.57</td>\n",
       "      <td>1.79</td>\n",
       "    </tr>\n",
       "    <tr>\n",
       "      <th>439</th>\n",
       "      <td>2021-W25</td>\n",
       "      <td>10D2. Personer fra årgang 1977-1981 og årgang ...</td>\n",
       "      <td>49.02</td>\n",
       "      <td>1.92</td>\n",
       "    </tr>\n",
       "    <tr>\n",
       "      <th>456</th>\n",
       "      <td>2021-W26</td>\n",
       "      <td>10D2. Personer fra årgang 1977-1981 og årgang ...</td>\n",
       "      <td>59.92</td>\n",
       "      <td>2.06</td>\n",
       "    </tr>\n",
       "    <tr>\n",
       "      <th>473</th>\n",
       "      <td>2021-W27</td>\n",
       "      <td>10D2. Personer fra årgang 1977-1981 og årgang ...</td>\n",
       "      <td>69.29</td>\n",
       "      <td>2.80</td>\n",
       "    </tr>\n",
       "    <tr>\n",
       "      <th>490</th>\n",
       "      <td>2021-W28</td>\n",
       "      <td>10D2. Personer fra årgang 1977-1981 og årgang ...</td>\n",
       "      <td>73.25</td>\n",
       "      <td>11.52</td>\n",
       "    </tr>\n",
       "    <tr>\n",
       "      <th>507</th>\n",
       "      <td>2021-W29</td>\n",
       "      <td>10D2. Personer fra årgang 1977-1981 og årgang ...</td>\n",
       "      <td>73.73</td>\n",
       "      <td>13.52</td>\n",
       "    </tr>\n",
       "  </tbody>\n",
       "</table>\n",
       "</div>"
      ]
     },
     "metadata": {},
     "execution_count": 142
    }
   ],
   "metadata": {}
  },
  {
   "cell_type": "code",
   "execution_count": 144,
   "source": [
    "# # numOnce \r\n",
    "# # currOnce\r\n",
    "# ageVaccOnce.values\r\n",
    "# df_weekly\r\n",
    "\r\n",
    "# xy, x_ind, y_ind = np.intersect1d(ageWeekDays.values,allWeeks,return_indices=True)\r\n",
    "# print(y_ind)\r\n",
    "# print(ageVaccOnce.values)\r\n",
    "# # allWeeks\r\n",
    "\r\n",
    "# curOnceArray = np.zeros(ageWeekDays.values.shape)\r\n",
    "# print(curOnceArray)\r\n",
    "# print(ageVaccOnce.values)\r\n",
    "# print(len(x_ind))\r\n",
    "# curOnceArray[x_ind] = ageVaccOnce.values"
   ],
   "outputs": [],
   "metadata": {}
  },
  {
   "cell_type": "code",
   "execution_count": 146,
   "source": [
    "# print(ageWeekDays)\r\n",
    "# print(allWeeks)\r\n",
    "# print(ageVaccOnce.values)"
   ],
   "outputs": [],
   "metadata": {}
  }
 ]
}