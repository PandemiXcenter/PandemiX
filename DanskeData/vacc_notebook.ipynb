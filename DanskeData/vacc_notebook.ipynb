{
 "metadata": {
  "language_info": {
   "codemirror_mode": {
    "name": "ipython",
    "version": 3
   },
   "file_extension": ".py",
   "mimetype": "text/x-python",
   "name": "python",
   "nbconvert_exporter": "python",
   "pygments_lexer": "ipython3",
   "version": "3.8.8"
  },
  "orig_nbformat": 2,
  "kernelspec": {
   "name": "python3",
   "display_name": "Python 3.8.8 64-bit ('main': conda)"
  },
  "interpreter": {
   "hash": "c031fd63bd977d199cd6020c30a19695eacbb638d100e0b8a5ea53080ed74a9a"
  }
 },
 "nbformat": 4,
 "nbformat_minor": 2,
 "cells": [
  {
   "cell_type": "code",
   "execution_count": 1,
   "source": [
    "# Notebook til at undersøge vaccinationsdata\r\n",
    "import numpy as np\r\n",
    "import pandas as pd\r\n",
    "pd.set_option('display.max_rows', 500)\r\n",
    "pd.set_option('display.min_rows', 50)\r\n",
    "\r\n",
    "\r\n",
    "import matplotlib.pyplot as plt\r\n",
    "%matplotlib widget\r\n",
    "plt.rcParams['figure.figsize'] = (12,8)\r\n",
    "plt.rcParams[\"image.cmap\"] = \"tab10\"\r\n",
    "plt.rcParams['axes.prop_cycle'] = plt.cycler(color=plt.cm.tab10.colors)\r\n",
    "fs_label = 16\r\n",
    "parameters = {\r\n",
    "                'axes.labelsize': fs_label,\r\n",
    "                'axes.titlesize': fs_label+4,\r\n",
    "                'xtick.labelsize': fs_label,\r\n",
    "                'ytick.labelsize': fs_label, \r\n",
    "                'legend.fontsize': fs_label, \r\n",
    "                'lines.markersize': 10,\r\n",
    "                'lines.linewidth': 3\r\n",
    "             }\r\n",
    "plt.rcParams.update(parameters)\r\n",
    "%matplotlib widget\r\n",
    "import matplotlib.colors as colors\r\n",
    "from matplotlib import cm # Colormaps\r\n",
    "\r\n",
    "cmap = cm.get_cmap('Dark2',7)\r\n",
    "\r\n",
    "import locale\r\n",
    "import matplotlib.dates as mdates\r\n",
    "locale.setlocale(locale.LC_TIME,\"Danish\")\r\n",
    "# ax = plt.gca()\r\n",
    "# ax1.xaxis.set_major_formatter(mdates.DateFormatter('%b\\n%Y'))\r\n",
    "# # ax.xaxis.set_major_formatter(mdates.DateFormatter('%Y \\n %B'))\r\n",
    "\r\n",
    "\r\n",
    "import os\r\n",
    "import math\r\n",
    "\r\n",
    "from datetime import date\r\n",
    "import datetime\r\n",
    "\r\n",
    "saveFigures = True\r\n",
    "print('saveFigures is set to: '+str(saveFigures))\r\n",
    "print('Done loading packages')\r\n",
    "\r\n",
    "def rnMean(data,meanWidth):\r\n",
    "    return np.convolve(data, np.ones(meanWidth)/meanWidth, mode='valid')\r\n",
    "def rnTime(t,meanWidth):\r\n",
    "    return t[math.floor(meanWidth/2):-math.ceil(meanWidth/2)+1]\r\n",
    "def rnTime2(t,meanWidth):\r\n",
    "    return t[meanWidth-1:]\r\n"
   ],
   "outputs": [
    {
     "output_type": "stream",
     "name": "stdout",
     "text": [
      "saveFigures is set to: True\n",
      "Done loading packages\n"
     ]
    }
   ],
   "metadata": {}
  },
  {
   "cell_type": "code",
   "execution_count": 2,
   "source": [
    "ssidatapath = \"ssi_vacc\"\r\n",
    "rootdir = os.getcwd() +\"\\\\\" + ssidatapath\r\n",
    "\r\n",
    "\r\n",
    "# for subdir, dirs, files in os.walk(rootdir):\r\n",
    "# #     # if not len(dirs) == 0:\r\n",
    "# #     #     latestdir = subdir\r\n",
    "# #     #     latestDate = pd.to_datetime(subdir[-10:])\r\n",
    "#     # print(files)\r\n",
    "#     # print(dirs[-1])\r\n",
    "\r\n",
    "for f in os.scandir(rootdir):\r\n",
    "    curPath = f.path\r\n",
    "    latestdir = curPath\r\n",
    "    latestDate = pd.to_datetime(curPath[-10:])\r\n",
    "# print([f.path for f in os.scandir(rootdir)])\r\n",
    "\r\n",
    "# # print(os.walk(rootdir))\r\n",
    "# print(latestdir)\r\n",
    "# print(latestDate)\r\n",
    "\r\n",
    "# # latestdir = rootdir+ '\\\\SSI_data_2021-05-25'\r\n",
    "# # latestDate = pd.to_datetime(latestdir[-10:])\r\n",
    "\r\n",
    "print(latestdir)\r\n",
    "print(latestDate)"
   ],
   "outputs": [
    {
     "output_type": "stream",
     "name": "stdout",
     "text": [
      "d:\\Pandemix\\Github\\DanskeData\\ssi_vacc\\SSI_vacc_2021-07-26\n",
      "2021-07-26 00:00:00\n"
     ]
    }
   ],
   "metadata": {}
  },
  {
   "cell_type": "code",
   "execution_count": 3,
   "source": [
    "\r\n",
    "filename = 'Vaccinerede_pr_uge_pr_maalgruppe.csv'\r\n",
    "# filename = 'Noegletal_vacc_daekning.csv'\r\n",
    "# curPath = \"D:/Pandemix/Github/DanskeData/ssi_vacc/SSI_vacc_2021-05-25/Vaccine_maalgrupper_DB/\" + filename\r\n",
    "curPath = latestdir+\"/Vaccine_maalgrupper_DB/\" + filename\r\n",
    "# latestdir+'\\\\Vaccine_maalgrupper_DB\\\\Noegletal_vacc_daekning.csv'\r\n",
    "\r\n",
    "filename = 'PaabegVacc_daek_DK_prdag.csv'\r\n",
    "# curPath = \"D:/Pandemix/Github/DanskeData/ssi_vacc/SSI_vacc_2021-05-25/Vaccine_DB/\" + filename\r\n",
    "curPath = latestdir+\"/Vaccine_DB/\" + filename\r\n",
    "\r\n",
    "\r\n",
    "# df = pd.read_csv(curPath,delimiter = ',',dtype=str,encoding='latin-1')\r\n",
    "df = pd.read_csv(curPath,delimiter = ';',dtype=str,encoding='latin-1')\r\n",
    "\r\n",
    "\r\n",
    "filename = 'FaerdigVacc_daekning_DK_prdag.csv'\r\n",
    "curPath = latestdir+\"/Vaccine_DB/\" + filename\r\n",
    "\r\n",
    "df_full = pd.read_csv(curPath,delimiter = ';',dtype=str,encoding='latin-1')"
   ],
   "outputs": [],
   "metadata": {}
  },
  {
   "cell_type": "code",
   "execution_count": 4,
   "source": [
    "df.tail()\r\n",
    "df_full.tail() \r\n"
   ],
   "outputs": [
    {
     "output_type": "execute_result",
     "data": {
      "text/plain": [
       "    Vaccinedato        geo Antal færdigvacc. personer Antal borgere  \\\n",
       "192  2021-07-21  Nationalt                      55081       5852388   \n",
       "193  2021-07-22  Nationalt                      51740       5852388   \n",
       "194  2021-07-23  Nationalt                      43642       5852388   \n",
       "195  2021-07-24  Nationalt                      23739       5852388   \n",
       "196  2021-07-25  Nationalt                      31478       5852388   \n",
       "\n",
       "    Færdigvacc. (%) Kumuleret antal færdigvacc.  \n",
       "192            48.2                     2820834  \n",
       "193            49.1                     2872574  \n",
       "194            49.8                     2916216  \n",
       "195            50.2                     2939955  \n",
       "196            50.8                     2971433  "
      ],
      "text/html": [
       "<div>\n",
       "<style scoped>\n",
       "    .dataframe tbody tr th:only-of-type {\n",
       "        vertical-align: middle;\n",
       "    }\n",
       "\n",
       "    .dataframe tbody tr th {\n",
       "        vertical-align: top;\n",
       "    }\n",
       "\n",
       "    .dataframe thead th {\n",
       "        text-align: right;\n",
       "    }\n",
       "</style>\n",
       "<table border=\"1\" class=\"dataframe\">\n",
       "  <thead>\n",
       "    <tr style=\"text-align: right;\">\n",
       "      <th></th>\n",
       "      <th>Vaccinedato</th>\n",
       "      <th>geo</th>\n",
       "      <th>Antal færdigvacc. personer</th>\n",
       "      <th>Antal borgere</th>\n",
       "      <th>Færdigvacc. (%)</th>\n",
       "      <th>Kumuleret antal færdigvacc.</th>\n",
       "    </tr>\n",
       "  </thead>\n",
       "  <tbody>\n",
       "    <tr>\n",
       "      <th>192</th>\n",
       "      <td>2021-07-21</td>\n",
       "      <td>Nationalt</td>\n",
       "      <td>55081</td>\n",
       "      <td>5852388</td>\n",
       "      <td>48.2</td>\n",
       "      <td>2820834</td>\n",
       "    </tr>\n",
       "    <tr>\n",
       "      <th>193</th>\n",
       "      <td>2021-07-22</td>\n",
       "      <td>Nationalt</td>\n",
       "      <td>51740</td>\n",
       "      <td>5852388</td>\n",
       "      <td>49.1</td>\n",
       "      <td>2872574</td>\n",
       "    </tr>\n",
       "    <tr>\n",
       "      <th>194</th>\n",
       "      <td>2021-07-23</td>\n",
       "      <td>Nationalt</td>\n",
       "      <td>43642</td>\n",
       "      <td>5852388</td>\n",
       "      <td>49.8</td>\n",
       "      <td>2916216</td>\n",
       "    </tr>\n",
       "    <tr>\n",
       "      <th>195</th>\n",
       "      <td>2021-07-24</td>\n",
       "      <td>Nationalt</td>\n",
       "      <td>23739</td>\n",
       "      <td>5852388</td>\n",
       "      <td>50.2</td>\n",
       "      <td>2939955</td>\n",
       "    </tr>\n",
       "    <tr>\n",
       "      <th>196</th>\n",
       "      <td>2021-07-25</td>\n",
       "      <td>Nationalt</td>\n",
       "      <td>31478</td>\n",
       "      <td>5852388</td>\n",
       "      <td>50.8</td>\n",
       "      <td>2971433</td>\n",
       "    </tr>\n",
       "  </tbody>\n",
       "</table>\n",
       "</div>"
      ]
     },
     "metadata": {},
     "execution_count": 4
    }
   ],
   "metadata": {}
  },
  {
   "cell_type": "code",
   "execution_count": 5,
   "source": [
    "# newVaccPerDay = df['Kumuleret antal påbegyndt vacc.'].astype(int).diff()\r\n",
    "newVaccPerDay = df['Antal påbegyndt vacc. personer'].astype(int)\r\n",
    "fullVaccPerDay = df_full['Antal færdigvacc. personer'].astype(int)\r\n",
    "\r\n",
    "\r\n",
    "# newVaccPerDayCumSum = np.cumsum(newVaccPerDay)\r\n",
    "newVaccCumu = df['Kumuleret antal påbegyndt vacc.'].astype(int)\r\n",
    "fullVaccCumu = df_full['Kumuleret antal færdigvacc.'].astype(int)\r\n",
    "\r\n",
    "curDates =  pd.to_datetime(df.Vaccinedato,format='%Y-%m-%d')\r\n",
    "curDatesFull =  pd.to_datetime(df_full.Vaccinedato,format='%Y-%m-%d')"
   ],
   "outputs": [],
   "metadata": {}
  },
  {
   "cell_type": "code",
   "execution_count": 6,
   "source": [
    "# Add zeroes to full vaccinated\r\n",
    "\r\n",
    "lenDiff = len(newVaccPerDay) - len(fullVaccPerDay)\r\n",
    "fullVaccPerDay = np.insert(fullVaccPerDay.values,0,np.zeros((lenDiff,)))\r\n",
    "fullVaccCumu = np.insert(fullVaccCumu.values,0,np.zeros((lenDiff,)))"
   ],
   "outputs": [],
   "metadata": {}
  },
  {
   "cell_type": "code",
   "execution_count": 7,
   "source": [
    "plt.figure()\r\n",
    "\r\n",
    "# plt.plot(curDates,newVaccPerDay)\r\n",
    "plt.plot(curDates,100 * newVaccPerDay/5846864,'k.:',linewidth=0.5)\r\n",
    "plt.plot(curDates,100 * fullVaccPerDay/5846864,'b.:',linewidth=0.5)\r\n",
    "meanWidth = 7\r\n",
    "plt.plot(rnTime(curDates,meanWidth),rnMean(100 * newVaccPerDay/5846864,meanWidth),'k',label='Påbegyndte vaccinationer')\r\n",
    "plt.plot(rnTime(curDates,meanWidth),rnMean(100 * fullVaccPerDay/5846864,meanWidth),'b',label='Færdiggjorte vaccinationer')\r\n",
    "plt.ylabel('Andel af danmarks samlede befolkning [%]')\r\n",
    "plt.ylim(bottom=0)\r\n",
    "plt.legend()\r\n",
    "plt.grid()\r\n",
    "ax1 = plt.gca()\r\n",
    "ax1.xaxis.set_major_formatter(mdates.DateFormatter('%b\\n%Y'))\r\n",
    "plt.tight_layout()"
   ],
   "outputs": [
    {
     "output_type": "display_data",
     "data": {
      "text/plain": [
       "Canvas(toolbar=Toolbar(toolitems=[('Home', 'Reset original view', 'home', 'home'), ('Back', 'Back to previous …"
      ],
      "application/vnd.jupyter.widget-view+json": {
       "version_major": 2,
       "version_minor": 0,
       "model_id": "e1e927a6d2a44b34b840986c7eafdd29"
      }
     },
     "metadata": {}
    }
   ],
   "metadata": {}
  },
  {
   "cell_type": "code",
   "execution_count": 8,
   "source": [
    "fig,(ax1,ax2) = plt.subplots(2,1,sharex=True)\r\n",
    "\r\n",
    "# plt.plot(curDates,newVaccPerDay)\r\n",
    "ax1.plot(curDates,100 * newVaccPerDay/5851099,'k.:',linewidth=0.5)\r\n",
    "ax2.plot(curDates,100 * fullVaccPerDay/5851099,'b.:',linewidth=0.5)\r\n",
    "meanWidth = 7\r\n",
    "ax1.plot(rnTime(curDates,meanWidth),rnMean(100 * newVaccPerDay/5851099,meanWidth),'k',label='Påbegyndte vaccinationer')\r\n",
    "ax2.plot(rnTime(curDates,meanWidth),rnMean(100 * fullVaccPerDay/5851099,meanWidth),'b',label='Færdiggjorte vaccinationer')\r\n",
    "ax1.set_ylabel('Påbegyndte vaccinationer \\n af DK befolkning [%]')\r\n",
    "ax2.set_ylabel('Færdiggjorte vaccinationer \\n af DK befolkning [%]')\r\n",
    "ax1.set_ylim([0,2])\r\n",
    "ax2.set_ylim([0,2])\r\n",
    "# plt.legend()\r\n",
    "ax2.grid()\r\n",
    "ax1.grid()\r\n",
    "ax1.xaxis.set_major_formatter(mdates.DateFormatter('%b\\n%Y'))\r\n",
    "plt.tight_layout()"
   ],
   "outputs": [
    {
     "output_type": "display_data",
     "data": {
      "text/plain": [
       "Canvas(toolbar=Toolbar(toolitems=[('Home', 'Reset original view', 'home', 'home'), ('Back', 'Back to previous …"
      ],
      "application/vnd.jupyter.widget-view+json": {
       "version_major": 2,
       "version_minor": 0,
       "model_id": "13ab2da8c71b442fbf77de268d5f3a39"
      }
     },
     "metadata": {}
    }
   ],
   "metadata": {}
  },
  {
   "cell_type": "code",
   "execution_count": 9,
   "source": [
    "fig,ax1 = plt.subplots()\r\n",
    "\r\n",
    "newVaccCumuPop = 100 * newVaccCumu/5851099\r\n",
    "fullVaccCumuPop = 100 * fullVaccCumu/5851099\r\n",
    "\r\n",
    "# plt.plot(curDates,newVaccCumuPop,'k',linewidth=3)\r\n",
    "# plt.plot(curDates,fullVaccCumuPop,'b',linewidth=3)\r\n",
    "\r\n",
    "ax1.fill_between(curDates,newVaccCumuPop,color='k',zorder=3,label='Påbegyndt')\r\n",
    "ax1.fill_between(curDates,fullVaccCumuPop,color='b',zorder=3,label='Færdiggjort')\r\n",
    "\r\n",
    "\r\n",
    "# Draw weekends\r\n",
    "firstSunday = np.datetime64('2021-01-03')\r\n",
    "\r\n",
    "numWeeks = 52\r\n",
    "\r\n",
    "# curYlim = ax1.get_ylim()\r\n",
    "# ax1.vlines([np.datetime64('2021-06-24'),np.datetime64('2021-06-25')],curYlim[0],curYlim[1])\r\n",
    "for k in range(0,numWeeks):\r\n",
    "    curSunday = firstSunday + np.timedelta64(7*k,'D')\r\n",
    "    ax1.axvspan(curSunday-np.timedelta64(1,'D')-np.timedelta64(12,'h'),curSunday+np.timedelta64(12,'h'),facecolor='lightgrey')\r\n",
    "\r\n",
    "ax1.axvspan(curSunday-np.timedelta64(1,'D')-np.timedelta64(12,'h'),curSunday+np.timedelta64(12,'h'),facecolor='lightgrey',label='Weekend')\r\n",
    "\r\n",
    "ax1.legend(loc='upper left')\r\n",
    "\r\n",
    "\r\n",
    "ax1.spines[\"right\"].set_visible(False)\r\n",
    "ax1.spines[\"top\"].set_visible(False)\r\n",
    "ax1.set_ylabel('Andel af danmarks samlede befolkning [%]')\r\n",
    "ax1.set_ylim(bottom=0,top=100)\r\n",
    "# ax1.legend()\r\n",
    "ax1.grid(axis='y',zorder=0)\r\n",
    "ax1.xaxis.set_major_formatter(mdates.DateFormatter('%b\\n%Y'))\r\n",
    "\r\n",
    "ax1.set_xlim(left=np.datetime64('2021-01-01'),right=np.datetime64('2021-09-01'))\r\n",
    "plt.tight_layout()"
   ],
   "outputs": [
    {
     "output_type": "display_data",
     "data": {
      "text/plain": [
       "Canvas(toolbar=Toolbar(toolitems=[('Home', 'Reset original view', 'home', 'home'), ('Back', 'Back to previous …"
      ],
      "application/vnd.jupyter.widget-view+json": {
       "version_major": 2,
       "version_minor": 0,
       "model_id": "5215a686b24d4f428749799910deecc0"
      }
     },
     "metadata": {}
    }
   ],
   "metadata": {}
  },
  {
   "cell_type": "code",
   "execution_count": 10,
   "source": [
    "filename = 'Vaccinerede_pr_uge_pr_maalgruppe.csv'\r\n",
    "curPath = latestdir+\"/Vaccine_maalgrupper_DB/\" + filename\r\n",
    "\r\n",
    "df_weekly = pd.read_csv(curPath,delimiter = ';',dtype=str,encoding='latin-1')"
   ],
   "outputs": [],
   "metadata": {}
  },
  {
   "cell_type": "code",
   "execution_count": 11,
   "source": [
    "# df_weekly.tail()\r\n",
    "# Drop the three extra empty rows are the top\r\n",
    "df_weekly.drop([0,1,2],axis=0,inplace=True)\r\n",
    "# df_weekly.drop([0,1,2],axis=0,inplace=True)\r\n"
   ],
   "outputs": [],
   "metadata": {}
  },
  {
   "cell_type": "code",
   "execution_count": 12,
   "source": [
    "allDates = df_weekly.Ugenummer\r\n",
    "# d = \"2021-W29\"\r\n",
    "# r = datetime.datetime.strptime(d + '-1', \"%Y-W%W-%w\")\r\n",
    "# np.datetime64(r)\r\n",
    "\r\n",
    "curWeekDays = df_weekly.Ugenummer.apply(lambda x: np.datetime64(datetime.datetime.strptime(x + '-1', \"%Y-W%W-%w\")))\r\n",
    "\r\n",
    "allVaccOnce = pd.to_numeric(df_weekly['Dækning førstegangsvaccinerede (kumulativt i %)'])\r\n",
    "allVaccFull = pd.to_numeric(df_weekly['Dækning færdigvaccinerede (kumulativt i %)'])\r\n",
    "\r\n"
   ],
   "outputs": [],
   "metadata": {}
  },
  {
   "cell_type": "code",
   "execution_count": 13,
   "source": [
    "allGroups = df_weekly['Målgruppe'].unique()\r\n",
    "\r\n",
    "# Move groups around to have correct order\r\n",
    "allGroups.sort()\r\n",
    "allGroups = np.roll(allGroups,-8)\r\n",
    "allGroups = np.insert(allGroups,0,allGroups[-8])\r\n",
    "allGroups = np.delete(allGroups,-8)\r\n",
    "allGroups = np.append(allGroups,allGroups[-8])\r\n",
    "allGroups = np.delete(allGroups,-9)\r\n",
    "allGroups"
   ],
   "outputs": [
    {
     "output_type": "execute_result",
     "data": {
      "text/plain": [
       "array(['1. Plejehjemsbeboere',\n",
       "       '2. Borgere > 65, praktisk hjælp og personlig pleje',\n",
       "       '3. Borgere fra årgang 1936 og derunder (85 år og ældre)',\n",
       "       '4. Personale i sundhedsvæsenet og dele af socialvæsenet',\n",
       "       '5. Udvalgte patienter med særligt øget risiko',\n",
       "       '6. Udvalgte pårørende til personer med særligt øget risiko',\n",
       "       '7. Personer fra årgang 1937-1941',\n",
       "       '8. Personer fra årgang 1942-1946',\n",
       "       '9. Personer fra årgang 1947-1956',\n",
       "       '10A. Personer fra årgang 1957-1961',\n",
       "       '10B. Personer fra årgang 1962-1966',\n",
       "       '10C. Personer fra årgang 1967-1971',\n",
       "       '10D1. Personer fra årgang 1972-1976 og årgang 2002-2005',\n",
       "       '10D2. Personer fra årgang 1977-1981 og årgang 1997-2001',\n",
       "       '10D3. Personer fra årgang 1982-1986 og årgang 1992-1996',\n",
       "       '10D4. Personer fra årgang 1987-1991', 'Resterende'], dtype=object)"
      ]
     },
     "metadata": {},
     "execution_count": 13
    }
   ],
   "metadata": {}
  },
  {
   "cell_type": "code",
   "execution_count": 76,
   "source": [
    "# Hard-coded fix of the missing data-points\r\n",
    "group5Len = len(df_weekly[df_weekly['Målgruppe'] == allGroups[5]])\r\n",
    "otherGroupLen = len(df_weekly[df_weekly['Målgruppe'] == allGroups[2]])\r\n",
    "if (group5Len == otherGroupLen - 3):\r\n",
    "\r\n",
    "    rowToCopy = df_weekly.loc[57]\r\n",
    "    toAdd1 = rowToCopy.copy()\r\n",
    "    toAdd2 = rowToCopy.copy()\r\n",
    "    toAdd3 = rowToCopy.copy()\r\n",
    "    toAdd1.Ugenummer = '2021-W03'\r\n",
    "    toAdd2.Ugenummer = '2021-W04'\r\n",
    "    toAdd3.Ugenummer = '2021-W06'\r\n",
    "\r\n",
    "    df_weekly = df_weekly.append(toAdd1)\r\n",
    "    df_weekly = df_weekly.append(toAdd2)\r\n",
    "    df_weekly = df_weekly.append(toAdd3)"
   ],
   "outputs": [],
   "metadata": {}
  },
  {
   "cell_type": "code",
   "execution_count": 78,
   "source": [
    "curdf = df_weekly[df_weekly['Målgruppe'] == allGroups[0]]"
   ],
   "outputs": [],
   "metadata": {}
  },
  {
   "cell_type": "code",
   "execution_count": 79,
   "source": [
    "fig,(ax1,ax2) = plt.subplots(2,1,sharex=True)\r\n",
    "\r\n",
    "# ax1.plot(curWeekDays,allVaccOnce,'*')\r\n",
    "# ax2.plot(curWeekDays,allVaccFull,'*')\r\n",
    "\r\n",
    "# for k in range(0,len(allGroups)):\r\n",
    "for k in range(len(allGroups)-5,len(allGroups)-1):\r\n",
    "    curdf = df_weekly[df_weekly['Målgruppe'] == allGroups[k]]\r\n",
    "\r\n",
    "    curLabel = allGroups[k]\r\n",
    "\r\n",
    "    ageWeekDays = curdf.Ugenummer.apply(lambda x: np.datetime64(datetime.datetime.strptime(x + '-1', \"%Y-W%W-%w\")))\r\n",
    "\r\n",
    "    ageVaccOnce = pd.to_numeric(curdf['Dækning førstegangsvaccinerede (kumulativt i %)'])\r\n",
    "    ageVaccFull = pd.to_numeric(curdf['Dækning færdigvaccinerede (kumulativt i %)'])\r\n",
    "    \r\n",
    "    ax1.plot(ageWeekDays,ageVaccOnce,'-*',label=curLabel)\r\n",
    "    ax2.plot(ageWeekDays,ageVaccFull,'-*',label=curLabel)\r\n",
    "\r\n",
    "ax1.set_ylim([0,100])\r\n",
    "ax2.set_ylim([0,100])\r\n",
    "ax1.legend(fontsize=10)\r\n",
    "\r\n",
    "ax1.set_xlim(left=np.datetime64('2021-05-01'))\r\n",
    "plt.tight_layout()"
   ],
   "outputs": [
    {
     "output_type": "display_data",
     "data": {
      "text/plain": [
       "Canvas(toolbar=Toolbar(toolitems=[('Home', 'Reset original view', 'home', 'home'), ('Back', 'Back to previous …"
      ],
      "application/vnd.jupyter.widget-view+json": {
       "version_major": 2,
       "version_minor": 0,
       "model_id": "682f0c18574b4fffad5b0a9276b12d7f"
      }
     },
     "metadata": {}
    }
   ],
   "metadata": {}
  },
  {
   "cell_type": "code",
   "execution_count": 80,
   "source": [
    "# fig,(ax1,ax2) = plt.subplots(2,1,sharex=True)\r\n",
    "\r\n",
    "for k in range(0,len(allGroups)):\r\n",
    "# for k in range(len(allGroups)-5,len(allGroups)-1):\r\n",
    "\r\n",
    "    fig,ax1 = plt.subplots(1,1)\r\n",
    "    curdf = df_weekly[df_weekly['Målgruppe'] == allGroups[k]]\r\n",
    "\r\n",
    "    curLabel = allGroups[k]\r\n",
    "\r\n",
    "    ageWeekDays = curdf.Ugenummer.apply(lambda x: np.datetime64(datetime.datetime.strptime(x + '-1', \"%Y-W%W-%w\")))\r\n",
    "\r\n",
    "    ageVaccOnce = pd.to_numeric(curdf['Dækning førstegangsvaccinerede (kumulativt i %)'])\r\n",
    "    ageVaccFull = pd.to_numeric(curdf['Dækning færdigvaccinerede (kumulativt i %)'])\r\n",
    "    \r\n",
    "    # ax1.plot(ageWeekDays,ageVaccOnce,'-*',label=curLabel)\r\n",
    "    # ax1.plot(ageWeekDays,ageVaccFull,'-*',label=curLabel)\r\n",
    "    ax1.fill_between(ageWeekDays,ageVaccOnce,zorder=3,color='xkcd:lightblue',label='Påbegyndt')\r\n",
    "    ax1.fill_between(ageWeekDays,ageVaccFull,zorder=3,color='xkcd:darkblue',label='Færdiggjort')\r\n",
    "\r\n",
    "    ax1.set_ylim([0,100])\r\n",
    "    # ax2.set_ylim([0,100])\r\n",
    "    # ax1.legend(fontsize=10)\r\n",
    "    plt.title(curLabel)\r\n",
    "\r\n",
    "    # Draw weekends\r\n",
    "    firstSunday = np.datetime64('2020-12-20')\r\n",
    "    numWeeks = 52\r\n",
    "    for w in range(0,numWeeks):\r\n",
    "        curSunday = firstSunday + np.timedelta64(7*w,'D')\r\n",
    "        ax1.axvspan(curSunday-np.timedelta64(1,'D')-np.timedelta64(12,'h'),curSunday+np.timedelta64(12,'h'),zorder=0,facecolor='lightgrey')\r\n",
    "    ax1.axvspan(curSunday-np.timedelta64(1,'D')-np.timedelta64(12,'h'),curSunday+np.timedelta64(12,'h'),zorder=0,facecolor='lightgrey',label='Weekend')\r\n",
    "\r\n",
    "    ax1.legend(loc='upper left')\r\n",
    "\r\n",
    "    ax1.spines[\"right\"].set_visible(False)\r\n",
    "    ax1.spines[\"top\"].set_visible(False)\r\n",
    "    ax1.set_ylabel('Andel af målgruppe [%]')\r\n",
    "    ax1.set_ylim(bottom=0,top=100)\r\n",
    "    ax1.grid(axis='y',zorder=0)\r\n",
    "    ax1.xaxis.set_major_formatter(mdates.DateFormatter('%b\\n%Y'))\r\n",
    "\r\n",
    "    ax1.set_xlim(left=firstSunday)\r\n",
    "    ax1.set_xlim(right=np.datetime64('2021-08-01'))\r\n",
    "\r\n",
    "    # plt.tight_layout()\r\n",
    "    if saveFigures:\r\n",
    "        plt.savefig(f'figsVacc/Maalgruppe_{k+1}')\r\n",
    "\r\n",
    "    ax1.set_xlim(left=np.datetime64('2021-05-01'))\r\n",
    "    ax1.xaxis.set_major_formatter(mdates.DateFormatter('%d.\\n%b'))\r\n",
    "    if saveFigures:\r\n",
    "        plt.savefig(f'figsVacc/Maalgruppe_{k+1}_zoom')\r\n",
    "plt.close('all')"
   ],
   "outputs": [
    {
     "output_type": "display_data",
     "data": {
      "text/plain": [
       "Canvas(toolbar=Toolbar(toolitems=[('Home', 'Reset original view', 'home', 'home'), ('Back', 'Back to previous …"
      ],
      "application/vnd.jupyter.widget-view+json": {
       "version_major": 2,
       "version_minor": 0,
       "model_id": "0e1128a03a234d4f8d9af9e61d02ea94"
      }
     },
     "metadata": {}
    },
    {
     "output_type": "display_data",
     "data": {
      "text/plain": [
       "Canvas(toolbar=Toolbar(toolitems=[('Home', 'Reset original view', 'home', 'home'), ('Back', 'Back to previous …"
      ],
      "application/vnd.jupyter.widget-view+json": {
       "version_major": 2,
       "version_minor": 0,
       "model_id": "a432173b4e384f459429f15639eaeab9"
      }
     },
     "metadata": {}
    },
    {
     "output_type": "display_data",
     "data": {
      "text/plain": [
       "Canvas(toolbar=Toolbar(toolitems=[('Home', 'Reset original view', 'home', 'home'), ('Back', 'Back to previous …"
      ],
      "application/vnd.jupyter.widget-view+json": {
       "version_major": 2,
       "version_minor": 0,
       "model_id": "4d61923b90b1495a979c4e78ba088c7e"
      }
     },
     "metadata": {}
    },
    {
     "output_type": "display_data",
     "data": {
      "text/plain": [
       "Canvas(toolbar=Toolbar(toolitems=[('Home', 'Reset original view', 'home', 'home'), ('Back', 'Back to previous …"
      ],
      "application/vnd.jupyter.widget-view+json": {
       "version_major": 2,
       "version_minor": 0,
       "model_id": "8e7db0473f464c57b5609f024b3c890c"
      }
     },
     "metadata": {}
    },
    {
     "output_type": "display_data",
     "data": {
      "text/plain": [
       "Canvas(toolbar=Toolbar(toolitems=[('Home', 'Reset original view', 'home', 'home'), ('Back', 'Back to previous …"
      ],
      "application/vnd.jupyter.widget-view+json": {
       "version_major": 2,
       "version_minor": 0,
       "model_id": "c85b087b201e489b80b17d11fd778c7f"
      }
     },
     "metadata": {}
    },
    {
     "output_type": "display_data",
     "data": {
      "text/plain": [
       "Canvas(toolbar=Toolbar(toolitems=[('Home', 'Reset original view', 'home', 'home'), ('Back', 'Back to previous …"
      ],
      "application/vnd.jupyter.widget-view+json": {
       "version_major": 2,
       "version_minor": 0,
       "model_id": "2db38191e52943349c0100f7bfdd12a7"
      }
     },
     "metadata": {}
    },
    {
     "output_type": "display_data",
     "data": {
      "text/plain": [
       "Canvas(toolbar=Toolbar(toolitems=[('Home', 'Reset original view', 'home', 'home'), ('Back', 'Back to previous …"
      ],
      "application/vnd.jupyter.widget-view+json": {
       "version_major": 2,
       "version_minor": 0,
       "model_id": "db90a9cec12e4fc4ac80b7c668f0976a"
      }
     },
     "metadata": {}
    },
    {
     "output_type": "display_data",
     "data": {
      "text/plain": [
       "Canvas(toolbar=Toolbar(toolitems=[('Home', 'Reset original view', 'home', 'home'), ('Back', 'Back to previous …"
      ],
      "application/vnd.jupyter.widget-view+json": {
       "version_major": 2,
       "version_minor": 0,
       "model_id": "c214fd0a035b46e9908b7f6df70e541c"
      }
     },
     "metadata": {}
    },
    {
     "output_type": "display_data",
     "data": {
      "text/plain": [
       "Canvas(toolbar=Toolbar(toolitems=[('Home', 'Reset original view', 'home', 'home'), ('Back', 'Back to previous …"
      ],
      "application/vnd.jupyter.widget-view+json": {
       "version_major": 2,
       "version_minor": 0,
       "model_id": "7a6323186e22492580ca28c06b886fe0"
      }
     },
     "metadata": {}
    },
    {
     "output_type": "display_data",
     "data": {
      "text/plain": [
       "Canvas(toolbar=Toolbar(toolitems=[('Home', 'Reset original view', 'home', 'home'), ('Back', 'Back to previous …"
      ],
      "application/vnd.jupyter.widget-view+json": {
       "version_major": 2,
       "version_minor": 0,
       "model_id": "ddfa843e45e340e498743d631f222c29"
      }
     },
     "metadata": {}
    },
    {
     "output_type": "display_data",
     "data": {
      "text/plain": [
       "Canvas(toolbar=Toolbar(toolitems=[('Home', 'Reset original view', 'home', 'home'), ('Back', 'Back to previous …"
      ],
      "application/vnd.jupyter.widget-view+json": {
       "version_major": 2,
       "version_minor": 0,
       "model_id": "8de039bf69ef4a5c978073c0aa12979b"
      }
     },
     "metadata": {}
    },
    {
     "output_type": "display_data",
     "data": {
      "text/plain": [
       "Canvas(toolbar=Toolbar(toolitems=[('Home', 'Reset original view', 'home', 'home'), ('Back', 'Back to previous …"
      ],
      "application/vnd.jupyter.widget-view+json": {
       "version_major": 2,
       "version_minor": 0,
       "model_id": "d976c53868a4466aab0debcdc515e10b"
      }
     },
     "metadata": {}
    },
    {
     "output_type": "display_data",
     "data": {
      "text/plain": [
       "Canvas(toolbar=Toolbar(toolitems=[('Home', 'Reset original view', 'home', 'home'), ('Back', 'Back to previous …"
      ],
      "application/vnd.jupyter.widget-view+json": {
       "version_major": 2,
       "version_minor": 0,
       "model_id": "5a0812846f3f4d15b3beb24c4a76546f"
      }
     },
     "metadata": {}
    },
    {
     "output_type": "display_data",
     "data": {
      "text/plain": [
       "Canvas(toolbar=Toolbar(toolitems=[('Home', 'Reset original view', 'home', 'home'), ('Back', 'Back to previous …"
      ],
      "application/vnd.jupyter.widget-view+json": {
       "version_major": 2,
       "version_minor": 0,
       "model_id": "f1a075c8f25b421aaec3737c83ccabec"
      }
     },
     "metadata": {}
    },
    {
     "output_type": "display_data",
     "data": {
      "text/plain": [
       "Canvas(toolbar=Toolbar(toolitems=[('Home', 'Reset original view', 'home', 'home'), ('Back', 'Back to previous …"
      ],
      "application/vnd.jupyter.widget-view+json": {
       "version_major": 2,
       "version_minor": 0,
       "model_id": "188f17f00a424c2785097b06149b9902"
      }
     },
     "metadata": {}
    },
    {
     "output_type": "display_data",
     "data": {
      "text/plain": [
       "Canvas(toolbar=Toolbar(toolitems=[('Home', 'Reset original view', 'home', 'home'), ('Back', 'Back to previous …"
      ],
      "application/vnd.jupyter.widget-view+json": {
       "version_major": 2,
       "version_minor": 0,
       "model_id": "be01ab34fbbb451fad54909cbf23654d"
      }
     },
     "metadata": {}
    },
    {
     "output_type": "display_data",
     "data": {
      "text/plain": [
       "Canvas(toolbar=Toolbar(toolitems=[('Home', 'Reset original view', 'home', 'home'), ('Back', 'Back to previous …"
      ],
      "application/vnd.jupyter.widget-view+json": {
       "version_major": 2,
       "version_minor": 0,
       "model_id": "0bb2c45232c94be791df8864fb52a959"
      }
     },
     "metadata": {}
    }
   ],
   "metadata": {}
  },
  {
   "cell_type": "code",
   "execution_count": 17,
   "source": [
    "# Figur af \"inviterede, men ikke påbegyndt\"\r\n",
    "# First, population counts\r\n",
    "filename = 'Noegletal_vacc_daekning.csv'\r\n",
    "curPath = latestdir+\"/Vaccine_maalgrupper_DB/\" + filename\r\n",
    "\r\n",
    "df_noegle = pd.read_csv(curPath,delimiter = ';',dtype=str,encoding='latin-1')"
   ],
   "outputs": [],
   "metadata": {}
  },
  {
   "cell_type": "code",
   "execution_count": 81,
   "source": [
    "# Count groupsize:\r\n",
    "df_noegle[df_noegle['Målgruppe'] == allGroups[1]].Population.astype(int).sum()\r\n",
    "\r\n",
    "# Check of full population:\r\n",
    "wholePop = 0\r\n",
    "for k in range(0,len(allGroups)):\r\n",
    "    \r\n",
    "    curPop = df_noegle[df_noegle['Målgruppe'] == allGroups[k]].Population.astype(int).sum()\r\n",
    "    wholePop += curPop\r\n",
    "print(wholePop) # Should be 5851099"
   ],
   "outputs": [
    {
     "output_type": "stream",
     "name": "stdout",
     "text": [
      "5852388\n"
     ]
    }
   ],
   "metadata": {}
  },
  {
   "cell_type": "code",
   "execution_count": 82,
   "source": [
    "fig,(ax1,ax2) = plt.subplots(2,1,sharex=True)\r\n",
    "\r\n",
    "\r\n",
    "for k in range(0,len(allGroups)):\r\n",
    "# for k in range(len(allGroups)-5,len(allGroups)-1):\r\n",
    "    curdf = df_weekly[df_weekly['Målgruppe'] == allGroups[k]]\r\n",
    "\r\n",
    "    curPop = df_noegle[df_noegle['Målgruppe'] == allGroups[k]].Population.astype(int).sum()\r\n",
    "\r\n",
    "    curLabel = allGroups[k]\r\n",
    "\r\n",
    "    ageWeekDays = curdf.Ugenummer.apply(lambda x: np.datetime64(datetime.datetime.strptime(x + '-1', \"%Y-W%W-%w\")))\r\n",
    "\r\n",
    "    ageVaccOnce = pd.to_numeric(curdf['Dækning førstegangsvaccinerede (kumulativt i %)'])\r\n",
    "    ageVaccFull = pd.to_numeric(curdf['Dækning færdigvaccinerede (kumulativt i %)'])\r\n",
    "    \r\n",
    "    ax1.plot(ageWeekDays,curPop*(100-ageVaccOnce),'-*',label=curLabel)\r\n",
    "    ax2.plot(ageWeekDays,curPop*(100-ageVaccFull),'-*',label=curLabel)\r\n",
    "\r\n",
    "# ax1.set_ylim([0,100])\r\n",
    "# ax2.set_ylim([0,100])\r\n",
    "ax1.set_ylim(bottom=0)\r\n",
    "ax2.set_ylim(bottom=0)\r\n",
    "ax1.legend(fontsize=8,loc='upper left')\r\n",
    "\r\n",
    "# ax1.set_xlim(left=np.datetime64('2021-05-01'))\r\n",
    "plt.tight_layout()"
   ],
   "outputs": [
    {
     "output_type": "display_data",
     "data": {
      "text/plain": [
       "Canvas(toolbar=Toolbar(toolitems=[('Home', 'Reset original view', 'home', 'home'), ('Back', 'Back to previous …"
      ],
      "application/vnd.jupyter.widget-view+json": {
       "version_major": 2,
       "version_minor": 0,
       "model_id": "7190007e42a9496c93374e8082154d87"
      }
     },
     "metadata": {}
    }
   ],
   "metadata": {}
  },
  {
   "cell_type": "code",
   "execution_count": 98,
   "source": [
    "df_noegle.Population.astype(int).sum()"
   ],
   "outputs": [
    {
     "output_type": "execute_result",
     "data": {
      "text/plain": [
       "5852388"
      ]
     },
     "metadata": {},
     "execution_count": 98
    }
   ],
   "metadata": {}
  },
  {
   "cell_type": "code",
   "execution_count": 112,
   "source": [
    "fig,(ax1,ax2) = plt.subplots(2,1,sharex=True)\r\n",
    " \r\n",
    "restPop = df_noegle[df_noegle['Målgruppe'] == allGroups[len(allGroups)-1]].Population.astype(int).sum()\r\n",
    "fullPop = df_noegle.Population.astype(int).sum()\r\n",
    "\r\n",
    "curdf = df_weekly[df_weekly['Målgruppe'] == allGroups[0]]\r\n",
    "ageVaccOnce = pd.to_numeric(curdf['Dækning førstegangsvaccinerede (kumulativt i %)'])\r\n",
    "\r\n",
    "# currOnce = np.zeros(ageVaccOnce.values.shape)\r\n",
    "# prevOnce = np.zeros(ageVaccOnce.values.shape)\r\n",
    "currOnce = np.zeros(ageVaccOnce.values.shape)\r\n",
    "prevOnce = np.zeros(ageVaccOnce.values.shape)\r\n",
    "currNone = restPop * np.ones(ageVaccOnce.values.shape)\r\n",
    "prevNone = restPop * np.ones(ageVaccOnce.values.shape)\r\n",
    "\r\n",
    "\r\n",
    "cmap = cm.get_cmap('twilight',len(allGroups))\r\n",
    "\r\n",
    "# allWeeks = df_weekly.Ugenummer.apply(lambda x: np.datetime64(datetime.datetime.strptime(x + '-1', \"%Y-W%W-%w\")))\r\n",
    "\r\n",
    "\r\n",
    "# for k in range(7,16):\r\n",
    "for k in range(0,len(allGroups)-1):\r\n",
    "    curdf = df_weekly[df_weekly['Målgruppe'] == allGroups[k]]\r\n",
    "\r\n",
    "    curPop = df_noegle[df_noegle['Målgruppe'] == allGroups[k]].Population.astype(int).sum()\r\n",
    "\r\n",
    "    curLabel = allGroups[k]\r\n",
    "\r\n",
    "    ageWeekDays = curdf.Ugenummer.apply(lambda x: np.datetime64(datetime.datetime.strptime(x + '-1', \"%Y-W%W-%w\")))\r\n",
    "\r\n",
    "    ageVaccOnce = pd.to_numeric(curdf['Dækning førstegangsvaccinerede (kumulativt i %)'])\r\n",
    "    ageVaccFull = pd.to_numeric(curdf['Dækning færdigvaccinerede (kumulativt i %)'])\r\n",
    "\r\n",
    "    numOnce = curPop * (ageVaccOnce.values/100)\r\n",
    "    numFull = curPop * (ageVaccFull/100)\r\n",
    "    numNone = curPop * (100 - ageVaccOnce.values)/100\r\n",
    "    # numNone = curPop - numOnce\r\n",
    "\r\n",
    "    # print(k)\r\n",
    "    # print(numOnce.shape)\r\n",
    "    currOnce += numOnce\r\n",
    "    # currOnce += numNone\r\n",
    "    # currOnce += currOnce\r\n",
    "    currNone += numNone\r\n",
    "\r\n",
    "    # ax1.plot(ageWeekDays,numOnce)\r\n",
    "    # ax1.plot(ageWeekDays,numNone)\r\n",
    "    # ax1.plot(ageWeekDays,currOnce)\r\n",
    "    ax1.fill_between(ageWeekDays,currOnce,prevOnce,label=curLabel,color=cmap(k))\r\n",
    "    ax2.fill_between(ageWeekDays,currNone,prevNone,label=curLabel,color=cmap(k))\r\n",
    "    # ax1.fill_between(ageWeekDays,currOnce)\r\n",
    "\r\n",
    "    prevOnce +=  numOnce\r\n",
    "    prevNone +=  numNone\r\n",
    "\r\n",
    "    # ax1.plot(ageWeekDays,numOnce)\r\n",
    "    # ax1.plot(ageWeekDays,numFull)\r\n",
    "    # ax1.plot(ageWeekDays,numNone)\r\n",
    "    \r\n",
    "    # ax1.plot(ageWeekDays,curPop*(100-ageVaccOnce),'-*',label=curLabel)\r\n",
    "    # ax2.plot(ageWeekDays,curPop*(100-ageVaccFull),'-*',label=curLabel)\r\n",
    "\r\n",
    "# ax2.fill_between(ageWeekDays,currNone,color='k',label='Resterende')\r\n",
    "\r\n",
    "ax2.fill_between(ageWeekDays,restPop * np.ones(ageVaccOnce.values.shape),color='k',label='Resterende')\r\n",
    "\r\n",
    "ax1.set_ylim(bottom=0)\r\n",
    "ax2.set_ylim(bottom=0)\r\n",
    "\r\n",
    "ax1.legend(loc='upper left',fontsize=8)\r\n",
    "\r\n",
    "ax1.ticklabel_format(axis='y',style='plain')\r\n",
    "ax2.ticklabel_format(axis='y',style='plain')"
   ],
   "outputs": [
    {
     "output_type": "display_data",
     "data": {
      "text/plain": [
       "Canvas(toolbar=Toolbar(toolitems=[('Home', 'Reset original view', 'home', 'home'), ('Back', 'Back to previous …"
      ],
      "application/vnd.jupyter.widget-view+json": {
       "version_major": 2,
       "version_minor": 0,
       "model_id": "2a943904be0d4bb6a84c4e0f6fa6d5fa"
      }
     },
     "metadata": {}
    }
   ],
   "metadata": {}
  },
  {
   "cell_type": "code",
   "execution_count": 162,
   "source": [
    "# Fungerer nok bedre som barchart\r\n",
    "\r\n",
    "\r\n",
    "# latestWeek = df_weekly.Ugenummer.max()\r\n",
    "# df_weekly[df_weekly.Ugenummer == latestWeek]\r\n",
    "\r\n",
    "# Data er i df_noegle\r\n",
    "\r\n",
    "allNone = []\r\n",
    "allOnce = []\r\n",
    "allFull = []\r\n",
    "\r\n",
    "\r\n",
    "for k in range(0,len(allGroups)):\r\n",
    "    curLabel = allGroups[k]\r\n",
    "    curdf = df_noegle[df_noegle['Målgruppe'] == allGroups[k]]\r\n",
    "\r\n",
    "    curPop = curdf.Population.astype(int).sum()\r\n",
    "\r\n",
    "    numOnce = curdf['Antal førstevaccinerede'].astype(int).sum()\r\n",
    "    numFull = curdf['Antal færdigvaccinerede'].astype(int).sum()\r\n",
    "    numNone = curPop - numOnce\r\n",
    "\r\n",
    "    allNone.append(numNone)\r\n",
    "    allOnce.append(numOnce)\r\n",
    "    allFull.append(numFull)\r\n",
    "# df_noegle\r\n",
    "# allFull\r\n",
    "\r\n",
    "fig,ax1 = plt.subplots()\r\n",
    "\r\n",
    "ax1.bar(allGroups,allNone,bottom=allOnce,color='k',label='Ikke vaccineret')\r\n",
    "ax1.bar(allGroups,allOnce,color='xkcd:light green',label='Første dosis')\r\n",
    "ax1.bar(allGroups,allFull,color='green',label='Færdigvaccineret')\r\n",
    "\r\n",
    "# ax1.set_xticklabels(fontsize=6)\r\n",
    "plt.xticks(fontsize= 8,rotation=90)\r\n",
    "# ax1.bar(range(0,len(allGroups)),allNone,bottom=allOnce)\r\n",
    "# ax1.bar(range(0,len(allGroups)),allOnce)\r\n",
    "\r\n",
    "ax1.ticklabel_format(axis='y',style='plain')\r\n",
    "\r\n",
    "ax1.legend()\r\n",
    "\r\n",
    "ax1.set_title('Hele landet')\r\n",
    "\r\n",
    "plt.tight_layout()\r\n",
    "\r\n",
    "\r\n",
    "if saveFigures:\r\n",
    "    plt.savefig('figsVacc/CountVacc_Danmark')"
   ],
   "outputs": [
    {
     "output_type": "display_data",
     "data": {
      "text/plain": [
       "Canvas(toolbar=Toolbar(toolitems=[('Home', 'Reset original view', 'home', 'home'), ('Back', 'Back to previous …"
      ],
      "application/vnd.jupyter.widget-view+json": {
       "version_major": 2,
       "version_minor": 0,
       "model_id": "b13204c388ad4794af575c69951f7e7c"
      }
     },
     "metadata": {}
    }
   ],
   "metadata": {}
  },
  {
   "cell_type": "code",
   "execution_count": 158,
   "source": [
    "curdf"
   ],
   "outputs": [
    {
     "output_type": "execute_result",
     "data": {
      "text/plain": [
       "      Målgruppe Ansættelsessted Bopælsregion Population  \\\n",
       "125  Resterende             NaN  Hovedstaden     318232   \n",
       "126  Resterende             NaN  Midtjylland     230801   \n",
       "127  Resterende             NaN  Nordjylland      95031   \n",
       "128  Resterende             NaN     Sjælland     137195   \n",
       "129  Resterende             NaN   Syddanmark     203334   \n",
       "\n",
       "    Antal førstevaccinerede Antal færdigvaccinerede  \\\n",
       "125                   13633                      32   \n",
       "126                   11666                       5   \n",
       "127                    5979                       3   \n",
       "128                    6947                       3   \n",
       "129                   11423                      10   \n",
       "\n",
       "    Førstegangs vaccinerede dækning (%) Færdigvaccinerede dækning (%)  \n",
       "125                                 4.3                           0.0  \n",
       "126                                 5.1                           0.0  \n",
       "127                                 6.3                           0.0  \n",
       "128                                 5.1                           0.0  \n",
       "129                                 5.6                           0.0  "
      ],
      "text/html": [
       "<div>\n",
       "<style scoped>\n",
       "    .dataframe tbody tr th:only-of-type {\n",
       "        vertical-align: middle;\n",
       "    }\n",
       "\n",
       "    .dataframe tbody tr th {\n",
       "        vertical-align: top;\n",
       "    }\n",
       "\n",
       "    .dataframe thead th {\n",
       "        text-align: right;\n",
       "    }\n",
       "</style>\n",
       "<table border=\"1\" class=\"dataframe\">\n",
       "  <thead>\n",
       "    <tr style=\"text-align: right;\">\n",
       "      <th></th>\n",
       "      <th>Målgruppe</th>\n",
       "      <th>Ansættelsessted</th>\n",
       "      <th>Bopælsregion</th>\n",
       "      <th>Population</th>\n",
       "      <th>Antal førstevaccinerede</th>\n",
       "      <th>Antal færdigvaccinerede</th>\n",
       "      <th>Førstegangs vaccinerede dækning (%)</th>\n",
       "      <th>Færdigvaccinerede dækning (%)</th>\n",
       "    </tr>\n",
       "  </thead>\n",
       "  <tbody>\n",
       "    <tr>\n",
       "      <th>125</th>\n",
       "      <td>Resterende</td>\n",
       "      <td>NaN</td>\n",
       "      <td>Hovedstaden</td>\n",
       "      <td>318232</td>\n",
       "      <td>13633</td>\n",
       "      <td>32</td>\n",
       "      <td>4.3</td>\n",
       "      <td>0.0</td>\n",
       "    </tr>\n",
       "    <tr>\n",
       "      <th>126</th>\n",
       "      <td>Resterende</td>\n",
       "      <td>NaN</td>\n",
       "      <td>Midtjylland</td>\n",
       "      <td>230801</td>\n",
       "      <td>11666</td>\n",
       "      <td>5</td>\n",
       "      <td>5.1</td>\n",
       "      <td>0.0</td>\n",
       "    </tr>\n",
       "    <tr>\n",
       "      <th>127</th>\n",
       "      <td>Resterende</td>\n",
       "      <td>NaN</td>\n",
       "      <td>Nordjylland</td>\n",
       "      <td>95031</td>\n",
       "      <td>5979</td>\n",
       "      <td>3</td>\n",
       "      <td>6.3</td>\n",
       "      <td>0.0</td>\n",
       "    </tr>\n",
       "    <tr>\n",
       "      <th>128</th>\n",
       "      <td>Resterende</td>\n",
       "      <td>NaN</td>\n",
       "      <td>Sjælland</td>\n",
       "      <td>137195</td>\n",
       "      <td>6947</td>\n",
       "      <td>3</td>\n",
       "      <td>5.1</td>\n",
       "      <td>0.0</td>\n",
       "    </tr>\n",
       "    <tr>\n",
       "      <th>129</th>\n",
       "      <td>Resterende</td>\n",
       "      <td>NaN</td>\n",
       "      <td>Syddanmark</td>\n",
       "      <td>203334</td>\n",
       "      <td>11423</td>\n",
       "      <td>10</td>\n",
       "      <td>5.6</td>\n",
       "      <td>0.0</td>\n",
       "    </tr>\n",
       "  </tbody>\n",
       "</table>\n",
       "</div>"
      ]
     },
     "metadata": {},
     "execution_count": 158
    }
   ],
   "metadata": {}
  },
  {
   "cell_type": "code",
   "execution_count": 163,
   "source": [
    "for reg in df_noegle['Bopælsregion'].unique():\r\n",
    "\r\n",
    "    allNone = []\r\n",
    "    allOnce = []\r\n",
    "    allFull = []\r\n",
    "\r\n",
    "    for k in range(0,len(allGroups)):\r\n",
    "        curLabel = allGroups[k]\r\n",
    "        curdf = df_noegle[df_noegle['Målgruppe'] == allGroups[k]]\r\n",
    "        curdf = curdf[curdf['Bopælsregion'] == reg]\r\n",
    "\r\n",
    "        curPop = curdf.Population.astype(int).sum()\r\n",
    "\r\n",
    "        numOnce = curdf['Antal førstevaccinerede'].astype(int).sum()\r\n",
    "        numFull = curdf['Antal færdigvaccinerede'].astype(int).sum()\r\n",
    "        numNone = curPop - numOnce\r\n",
    "\r\n",
    "        allNone.append(numNone)\r\n",
    "        allOnce.append(numOnce)\r\n",
    "        allFull.append(numFull)\r\n",
    "    # df_noegle\r\n",
    "    # allFull\r\n",
    "\r\n",
    "    fig,ax1 = plt.subplots()\r\n",
    "\r\n",
    "    ax1.bar(allGroups,allNone,bottom=allOnce,color='k',label='Ikke vaccineret')\r\n",
    "    ax1.bar(allGroups,allOnce,color='xkcd:light green',label='Første dosis')\r\n",
    "    ax1.bar(allGroups,allFull,color='green',label='Færdigvaccineret')\r\n",
    "\r\n",
    "    # ax1.set_xticklabels(fontsize=6)\r\n",
    "    plt.xticks(fontsize= 8,rotation=90)\r\n",
    "    # ax1.bar(range(0,len(allGroups)),allNone,bottom=allOnce)\r\n",
    "    # ax1.bar(range(0,len(allGroups)),allOnce)\r\n",
    "\r\n",
    "    ax1.ticklabel_format(axis='y',style='plain')\r\n",
    "\r\n",
    "    ax1.legend()\r\n",
    "\r\n",
    "    ax1.set_title(reg)\r\n",
    "\r\n",
    "    plt.tight_layout()\r\n",
    "\r\n",
    "    if saveFigures:\r\n",
    "        plt.savefig('figsVacc/CountVacc_'+reg)"
   ],
   "outputs": [
    {
     "output_type": "display_data",
     "data": {
      "text/plain": [
       "Canvas(toolbar=Toolbar(toolitems=[('Home', 'Reset original view', 'home', 'home'), ('Back', 'Back to previous …"
      ],
      "application/vnd.jupyter.widget-view+json": {
       "version_major": 2,
       "version_minor": 0,
       "model_id": "1b8a5873072d455997f362b191345d0e"
      }
     },
     "metadata": {}
    },
    {
     "output_type": "display_data",
     "data": {
      "text/plain": [
       "Canvas(toolbar=Toolbar(toolitems=[('Home', 'Reset original view', 'home', 'home'), ('Back', 'Back to previous …"
      ],
      "application/vnd.jupyter.widget-view+json": {
       "version_major": 2,
       "version_minor": 0,
       "model_id": "8c75a3f369254799a8d5b39bda6bb042"
      }
     },
     "metadata": {}
    },
    {
     "output_type": "display_data",
     "data": {
      "text/plain": [
       "Canvas(toolbar=Toolbar(toolitems=[('Home', 'Reset original view', 'home', 'home'), ('Back', 'Back to previous …"
      ],
      "application/vnd.jupyter.widget-view+json": {
       "version_major": 2,
       "version_minor": 0,
       "model_id": "d89e2df252a744909035a01707f19c7f"
      }
     },
     "metadata": {}
    },
    {
     "output_type": "display_data",
     "data": {
      "text/plain": [
       "Canvas(toolbar=Toolbar(toolitems=[('Home', 'Reset original view', 'home', 'home'), ('Back', 'Back to previous …"
      ],
      "application/vnd.jupyter.widget-view+json": {
       "version_major": 2,
       "version_minor": 0,
       "model_id": "d2bfbc9bff684bfcbffbb1c70fb33d7d"
      }
     },
     "metadata": {}
    },
    {
     "output_type": "display_data",
     "data": {
      "text/plain": [
       "Canvas(toolbar=Toolbar(toolitems=[('Home', 'Reset original view', 'home', 'home'), ('Back', 'Back to previous …"
      ],
      "application/vnd.jupyter.widget-view+json": {
       "version_major": 2,
       "version_minor": 0,
       "model_id": "8b61bfa6baca45d1ae842ea64c425855"
      }
     },
     "metadata": {}
    }
   ],
   "metadata": {}
  },
  {
   "cell_type": "code",
   "execution_count": 126,
   "source": [
    "# df_noegle"
   ],
   "outputs": [],
   "metadata": {}
  },
  {
   "cell_type": "code",
   "execution_count": 93,
   "source": [
    "# testWeeks = allWeeks[0:20]\r\n",
    "# xy, x_ind, y_ind = np.intersect1d(testWeeks,allWeeks,return_indices=True)\r\n",
    "# print(len(testWeeks))\r\n",
    "# print(len(x_ind))\r\n",
    "# testWeeks[x_ind]\r\n",
    "# curdf\r\n",
    "# df_weekly\r\n",
    "# ageVaccOnce\r\n",
    "# 100 - ageVaccOnce.values\r\n",
    "# # allGroups[5]\r\n",
    "# len(df_weekly[df_weekly['Målgruppe'] == allGroups[5]])\r\n",
    "# df_weekly[df_weekly['Målgruppe'] == allGroups[5]]\r\n",
    "\r\n",
    "# rowToCopy = df_weekly.loc[57]\r\n",
    "# toAdd1 = rowToCopy.copy()\r\n",
    "# toAdd2 = rowToCopy.copy()\r\n",
    "# toAdd3 = rowToCopy.copy()\r\n",
    "# toAdd1.Ugenummer = '2021-W03'\r\n",
    "# toAdd2.Ugenummer = '2021-W04'\r\n",
    "# toAdd3.Ugenummer = '2021-W06'\r\n",
    "\r\n",
    "# df_weekly = df_weekly.append(toAdd1)\r\n",
    "# df_weekly = df_weekly.append(toAdd2)\r\n",
    "# df_weekly = df_weekly.append(toAdd3)\r\n",
    "numNone"
   ],
   "outputs": [
    {
     "output_type": "execute_result",
     "data": {
      "text/plain": [
       "array([343900.  , 343831.22, 343728.05, 343624.88, 343590.49, 343590.49,\n",
       "       343556.1 , 343521.71, 343487.32, 343418.54, 343349.76, 343246.59,\n",
       "       343109.03, 343005.86, 342902.69, 342765.13, 342627.57, 342421.23,\n",
       "       342249.28, 342042.94, 341802.21, 341492.7 , 341045.63, 338225.65,\n",
       "       332138.62, 327667.92, 325260.62, 323885.02, 279143.63, 200803.21,\n",
       "       157299.86])"
      ]
     },
     "metadata": {},
     "execution_count": 93
    }
   ],
   "metadata": {}
  },
  {
   "cell_type": "code",
   "execution_count": 24,
   "source": [
    "# # numOnce \r\n",
    "# # currOnce\r\n",
    "# ageVaccOnce.values\r\n",
    "# df_weekly\r\n",
    "\r\n",
    "# xy, x_ind, y_ind = np.intersect1d(ageWeekDays.values,allWeeks,return_indices=True)\r\n",
    "# print(y_ind)\r\n",
    "# print(ageVaccOnce.values)\r\n",
    "# # allWeeks\r\n",
    "\r\n",
    "# curOnceArray = np.zeros(ageWeekDays.values.shape)\r\n",
    "# print(curOnceArray)\r\n",
    "# print(ageVaccOnce.values)\r\n",
    "# print(len(x_ind))\r\n",
    "# curOnceArray[x_ind] = ageVaccOnce.values"
   ],
   "outputs": [],
   "metadata": {}
  },
  {
   "cell_type": "code",
   "execution_count": 25,
   "source": [
    "# print(ageWeekDays)\r\n",
    "# print(allWeeks)\r\n",
    "# print(ageVaccOnce.values)"
   ],
   "outputs": [],
   "metadata": {}
  }
 ]
}