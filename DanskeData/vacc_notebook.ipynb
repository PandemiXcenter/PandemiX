{
 "metadata": {
  "language_info": {
   "codemirror_mode": {
    "name": "ipython",
    "version": 3
   },
   "file_extension": ".py",
   "mimetype": "text/x-python",
   "name": "python",
   "nbconvert_exporter": "python",
   "pygments_lexer": "ipython3",
   "version": "3.8.8"
  },
  "orig_nbformat": 2,
  "kernelspec": {
   "name": "python3",
   "display_name": "Python 3.8.8 64-bit ('main': conda)"
  },
  "interpreter": {
   "hash": "c031fd63bd977d199cd6020c30a19695eacbb638d100e0b8a5ea53080ed74a9a"
  }
 },
 "nbformat": 4,
 "nbformat_minor": 2,
 "cells": [
  {
   "cell_type": "code",
   "execution_count": 1,
   "source": [
    "# Notebook til at undersøge vaccinationsdata\r\n",
    "import numpy as np\r\n",
    "import pandas as pd\r\n",
    "pd.set_option('display.max_rows', 500)\r\n",
    "pd.set_option('display.min_rows', 50)\r\n",
    "\r\n",
    "\r\n",
    "import matplotlib.pyplot as plt\r\n",
    "%matplotlib widget\r\n",
    "plt.rcParams['figure.figsize'] = (12,8)\r\n",
    "plt.rcParams[\"image.cmap\"] = \"tab10\"\r\n",
    "plt.rcParams['axes.prop_cycle'] = plt.cycler(color=plt.cm.tab10.colors)\r\n",
    "fs_label = 16\r\n",
    "parameters = {\r\n",
    "                'axes.labelsize': fs_label,\r\n",
    "                'axes.titlesize': fs_label+4,\r\n",
    "                'xtick.labelsize': fs_label,\r\n",
    "                'ytick.labelsize': fs_label, \r\n",
    "                'legend.fontsize': fs_label, \r\n",
    "                'lines.markersize': 10,\r\n",
    "                'lines.linewidth': 3\r\n",
    "             }\r\n",
    "plt.rcParams.update(parameters)\r\n",
    "%matplotlib widget\r\n",
    "import matplotlib.colors as colors\r\n",
    "from matplotlib import cm # Colormaps\r\n",
    "\r\n",
    "cmap = cm.get_cmap('Dark2',7)\r\n",
    "\r\n",
    "import locale\r\n",
    "import matplotlib.dates as mdates\r\n",
    "locale.setlocale(locale.LC_TIME,\"Danish\")\r\n",
    "# ax = plt.gca()\r\n",
    "# ax1.xaxis.set_major_formatter(mdates.DateFormatter('%b\\n%Y'))\r\n",
    "# # ax.xaxis.set_major_formatter(mdates.DateFormatter('%Y \\n %B'))\r\n",
    "\r\n",
    "\r\n",
    "import os\r\n",
    "import math\r\n",
    "\r\n",
    "from datetime import date\r\n",
    "import datetime\r\n",
    "\r\n",
    "saveFigures = True\r\n",
    "print('saveFigures is set to: '+str(saveFigures))\r\n",
    "print('Done loading packages')\r\n",
    "\r\n",
    "def rnMean(data,meanWidth):\r\n",
    "    return np.convolve(data, np.ones(meanWidth)/meanWidth, mode='valid')\r\n",
    "def rnTime(t,meanWidth):\r\n",
    "    return t[math.floor(meanWidth/2):-math.ceil(meanWidth/2)+1]\r\n",
    "def rnTime2(t,meanWidth):\r\n",
    "    return t[meanWidth-1:]\r\n"
   ],
   "outputs": [
    {
     "output_type": "stream",
     "name": "stdout",
     "text": [
      "saveFigures is set to: True\n",
      "Done loading packages\n"
     ]
    }
   ],
   "metadata": {}
  },
  {
   "cell_type": "code",
   "execution_count": 2,
   "source": [
    "ssidatapath = \"ssi_vacc\"\r\n",
    "rootdir = os.getcwd() +\"\\\\\" + ssidatapath\r\n",
    "\r\n",
    "\r\n",
    "# for subdir, dirs, files in os.walk(rootdir):\r\n",
    "# #     # if not len(dirs) == 0:\r\n",
    "# #     #     latestdir = subdir\r\n",
    "# #     #     latestDate = pd.to_datetime(subdir[-10:])\r\n",
    "#     # print(files)\r\n",
    "#     # print(dirs[-1])\r\n",
    "\r\n",
    "for f in os.scandir(rootdir):\r\n",
    "    curPath = f.path\r\n",
    "    latestdir = curPath\r\n",
    "    latestDate = pd.to_datetime(curPath[-10:])\r\n",
    "# print([f.path for f in os.scandir(rootdir)])\r\n",
    "\r\n",
    "# # print(os.walk(rootdir))\r\n",
    "# print(latestdir)\r\n",
    "# print(latestDate)\r\n",
    "\r\n",
    "# # latestdir = rootdir+ '\\\\SSI_data_2021-05-25'\r\n",
    "# # latestDate = pd.to_datetime(latestdir[-10:])\r\n",
    "\r\n",
    "print(latestdir)\r\n",
    "print(latestDate)"
   ],
   "outputs": [
    {
     "output_type": "stream",
     "name": "stdout",
     "text": [
      "d:\\Pandemix\\Github\\DanskeData\\ssi_vacc\\SSI_vacc_2021-08-29\n",
      "2021-08-29 00:00:00\n"
     ]
    }
   ],
   "metadata": {}
  },
  {
   "cell_type": "code",
   "execution_count": 3,
   "source": [
    "\r\n",
    "filename = 'Vaccinerede_pr_uge_pr_maalgruppe.csv'\r\n",
    "# filename = 'Noegletal_vacc_daekning.csv'\r\n",
    "# curPath = \"D:/Pandemix/Github/DanskeData/ssi_vacc/SSI_vacc_2021-05-25/Vaccine_maalgrupper_DB/\" + filename\r\n",
    "curPath = latestdir+\"/Vaccine_maalgrupper_DB/\" + filename\r\n",
    "# latestdir+'\\\\Vaccine_maalgrupper_DB\\\\Noegletal_vacc_daekning.csv'\r\n",
    "\r\n",
    "filename = 'PaabegVacc_daek_DK_prdag.csv'\r\n",
    "# curPath = \"D:/Pandemix/Github/DanskeData/ssi_vacc/SSI_vacc_2021-05-25/Vaccine_DB/\" + filename\r\n",
    "curPath = latestdir+\"/Vaccine_DB/\" + filename\r\n",
    "\r\n",
    "\r\n",
    "# df = pd.read_csv(curPath,delimiter = ',',dtype=str,encoding='latin-1')\r\n",
    "df = pd.read_csv(curPath,delimiter = ';',dtype=str,encoding='latin-1')\r\n",
    "\r\n",
    "\r\n",
    "filename = 'FaerdigVacc_daekning_DK_prdag.csv'\r\n",
    "curPath = latestdir+\"/Vaccine_DB/\" + filename\r\n",
    "\r\n",
    "df_full = pd.read_csv(curPath,delimiter = ';',dtype=str,encoding='latin-1')"
   ],
   "outputs": [],
   "metadata": {}
  },
  {
   "cell_type": "code",
   "execution_count": 4,
   "source": [
    "df.tail()\r\n",
    "df_full.tail() \r\n"
   ],
   "outputs": [
    {
     "output_type": "execute_result",
     "data": {
      "text/plain": [
       "    Vaccinedato        geo Antal færdigvacc. personer Antal borgere  \\\n",
       "228  2021-08-24  Nationalt                      28701       5857555   \n",
       "229  2021-08-25  Nationalt                      18744       5857555   \n",
       "230  2021-08-26  Nationalt                      18391       5857555   \n",
       "231  2021-08-27  Nationalt                      20382       5857555   \n",
       "232  2021-08-28  Nationalt                      10026       5857555   \n",
       "\n",
       "    Færdigvacc. (%) Kumuleret antal færdigvacc.  \n",
       "228            69.8                     4090501  \n",
       "229            70.2                     4109245  \n",
       "230            70.5                     4127636  \n",
       "231            70.8                     4148018  \n",
       "232            71.0                     4158044  "
      ],
      "text/html": [
       "<div>\n",
       "<style scoped>\n",
       "    .dataframe tbody tr th:only-of-type {\n",
       "        vertical-align: middle;\n",
       "    }\n",
       "\n",
       "    .dataframe tbody tr th {\n",
       "        vertical-align: top;\n",
       "    }\n",
       "\n",
       "    .dataframe thead th {\n",
       "        text-align: right;\n",
       "    }\n",
       "</style>\n",
       "<table border=\"1\" class=\"dataframe\">\n",
       "  <thead>\n",
       "    <tr style=\"text-align: right;\">\n",
       "      <th></th>\n",
       "      <th>Vaccinedato</th>\n",
       "      <th>geo</th>\n",
       "      <th>Antal færdigvacc. personer</th>\n",
       "      <th>Antal borgere</th>\n",
       "      <th>Færdigvacc. (%)</th>\n",
       "      <th>Kumuleret antal færdigvacc.</th>\n",
       "    </tr>\n",
       "  </thead>\n",
       "  <tbody>\n",
       "    <tr>\n",
       "      <th>228</th>\n",
       "      <td>2021-08-24</td>\n",
       "      <td>Nationalt</td>\n",
       "      <td>28701</td>\n",
       "      <td>5857555</td>\n",
       "      <td>69.8</td>\n",
       "      <td>4090501</td>\n",
       "    </tr>\n",
       "    <tr>\n",
       "      <th>229</th>\n",
       "      <td>2021-08-25</td>\n",
       "      <td>Nationalt</td>\n",
       "      <td>18744</td>\n",
       "      <td>5857555</td>\n",
       "      <td>70.2</td>\n",
       "      <td>4109245</td>\n",
       "    </tr>\n",
       "    <tr>\n",
       "      <th>230</th>\n",
       "      <td>2021-08-26</td>\n",
       "      <td>Nationalt</td>\n",
       "      <td>18391</td>\n",
       "      <td>5857555</td>\n",
       "      <td>70.5</td>\n",
       "      <td>4127636</td>\n",
       "    </tr>\n",
       "    <tr>\n",
       "      <th>231</th>\n",
       "      <td>2021-08-27</td>\n",
       "      <td>Nationalt</td>\n",
       "      <td>20382</td>\n",
       "      <td>5857555</td>\n",
       "      <td>70.8</td>\n",
       "      <td>4148018</td>\n",
       "    </tr>\n",
       "    <tr>\n",
       "      <th>232</th>\n",
       "      <td>2021-08-28</td>\n",
       "      <td>Nationalt</td>\n",
       "      <td>10026</td>\n",
       "      <td>5857555</td>\n",
       "      <td>71.0</td>\n",
       "      <td>4158044</td>\n",
       "    </tr>\n",
       "  </tbody>\n",
       "</table>\n",
       "</div>"
      ]
     },
     "metadata": {},
     "execution_count": 4
    }
   ],
   "metadata": {}
  },
  {
   "cell_type": "code",
   "execution_count": 5,
   "source": [
    "# newVaccPerDay = df['Kumuleret antal påbegyndt vacc.'].astype(int).diff()\r\n",
    "newVaccPerDay = df['Antal påbegyndt vacc. personer'].astype(int)\r\n",
    "fullVaccPerDay = df_full['Antal færdigvacc. personer'].astype(int)\r\n",
    "\r\n",
    "\r\n",
    "# newVaccPerDayCumSum = np.cumsum(newVaccPerDay)\r\n",
    "newVaccCumu = df['Kumuleret antal påbegyndt vacc.'].astype(int)\r\n",
    "fullVaccCumu = df_full['Kumuleret antal færdigvacc.'].astype(int)\r\n",
    "\r\n",
    "curDates =  pd.to_datetime(df.Vaccinedato,format='%Y-%m-%d')\r\n",
    "curDatesFull =  pd.to_datetime(df_full.Vaccinedato,format='%Y-%m-%d')"
   ],
   "outputs": [],
   "metadata": {}
  },
  {
   "cell_type": "code",
   "execution_count": 6,
   "source": [
    "# Add zeroes to full vaccinated\r\n",
    "\r\n",
    "lenDiff = len(newVaccPerDay) - len(fullVaccPerDay)\r\n",
    "fullVaccPerDay = np.insert(fullVaccPerDay.values,0,np.zeros((lenDiff,)))\r\n",
    "fullVaccCumu = np.insert(fullVaccCumu.values,0,np.zeros((lenDiff,)))"
   ],
   "outputs": [],
   "metadata": {}
  },
  {
   "cell_type": "code",
   "execution_count": 7,
   "source": [
    "plt.figure()\r\n",
    "\r\n",
    "# plt.plot(curDates,newVaccPerDay)\r\n",
    "plt.plot(curDates,100 * newVaccPerDay/5846864,'k.:',linewidth=0.5)\r\n",
    "plt.plot(curDates,100 * fullVaccPerDay/5846864,'b.:',linewidth=0.5)\r\n",
    "meanWidth = 7\r\n",
    "plt.plot(rnTime(curDates,meanWidth),rnMean(100 * newVaccPerDay/5846864,meanWidth),'k',label='Påbegyndte vaccinationer')\r\n",
    "plt.plot(rnTime(curDates,meanWidth),rnMean(100 * fullVaccPerDay/5846864,meanWidth),'b',label='Færdiggjorte vaccinationer')\r\n",
    "plt.ylabel('Andel af danmarks samlede befolkning [%]')\r\n",
    "plt.ylim(bottom=0)\r\n",
    "plt.legend()\r\n",
    "plt.grid()\r\n",
    "ax1 = plt.gca()\r\n",
    "ax1.xaxis.set_major_formatter(mdates.DateFormatter('%b\\n%Y'))\r\n",
    "plt.tight_layout()"
   ],
   "outputs": [
    {
     "output_type": "display_data",
     "data": {
      "text/plain": [
       "Canvas(toolbar=Toolbar(toolitems=[('Home', 'Reset original view', 'home', 'home'), ('Back', 'Back to previous …"
      ],
      "application/vnd.jupyter.widget-view+json": {
       "version_major": 2,
       "version_minor": 0,
       "model_id": "4fbf9483461f43548d4259eed93265ca"
      }
     },
     "metadata": {}
    }
   ],
   "metadata": {}
  },
  {
   "cell_type": "code",
   "execution_count": 8,
   "source": [
    "fig,(ax1,ax2) = plt.subplots(2,1,sharex=True)\r\n",
    "\r\n",
    "# plt.plot(curDates,newVaccPerDay)\r\n",
    "ax1.plot(curDates,newVaccPerDay,'k.:',linewidth=0.5)\r\n",
    "ax2.plot(curDates,fullVaccPerDay,'b.:',linewidth=0.5)\r\n",
    "meanWidth = 7\r\n",
    "ax1.plot(rnTime(curDates,meanWidth),rnMean(newVaccPerDay,meanWidth),'k',label='Påbegyndte vaccinationer')\r\n",
    "ax2.plot(rnTime(curDates,meanWidth),rnMean(fullVaccPerDay,meanWidth),'b',label='Færdiggjorte vaccinationer')\r\n",
    "ax1.set_ylabel('Påbegyndte vaccinationer')\r\n",
    "ax2.set_ylabel('Færdiggjorte vaccinationer')\r\n",
    "ax1.set_ylim([0,100000])\r\n",
    "ax2.set_ylim([0,100000])\r\n",
    "# plt.legend()\r\n",
    "ax2.grid()\r\n",
    "ax1.grid()\r\n",
    "ax1.xaxis.set_major_formatter(mdates.DateFormatter('%b\\n%Y'))\r\n",
    "plt.tight_layout()\r\n",
    "\r\n",
    "if saveFigures:\r\n",
    "    plt.savefig('figsVacc/NumVaccTotal')"
   ],
   "outputs": [
    {
     "output_type": "display_data",
     "data": {
      "text/plain": [
       "Canvas(toolbar=Toolbar(toolitems=[('Home', 'Reset original view', 'home', 'home'), ('Back', 'Back to previous …"
      ],
      "application/vnd.jupyter.widget-view+json": {
       "version_major": 2,
       "version_minor": 0,
       "model_id": "6327fbfcb74c45c69aaac22de433795b"
      }
     },
     "metadata": {}
    }
   ],
   "metadata": {}
  },
  {
   "cell_type": "code",
   "execution_count": 9,
   "source": [
    "fig,(ax1,ax2) = plt.subplots(2,1,sharex=True)\r\n",
    "\r\n",
    "# plt.plot(curDates,newVaccPerDay)\r\n",
    "ax1.plot(curDates,100 * newVaccPerDay/5851099,'k.:',linewidth=0.5)\r\n",
    "ax2.plot(curDates,100 * fullVaccPerDay/5851099,'b.:',linewidth=0.5)\r\n",
    "meanWidth = 7\r\n",
    "ax1.plot(rnTime(curDates,meanWidth),rnMean(100 * newVaccPerDay/5851099,meanWidth),'k',label='Påbegyndte vaccinationer')\r\n",
    "ax2.plot(rnTime(curDates,meanWidth),rnMean(100 * fullVaccPerDay/5851099,meanWidth),'b',label='Færdiggjorte vaccinationer')\r\n",
    "ax1.set_ylabel('Påbegyndte vaccinationer \\n af DK befolkning [%]')\r\n",
    "ax2.set_ylabel('Færdiggjorte vaccinationer \\n af DK befolkning [%]')\r\n",
    "ax1.set_ylim([0,2])\r\n",
    "ax2.set_ylim([0,2])\r\n",
    "# plt.legend()\r\n",
    "ax2.grid()\r\n",
    "ax1.grid()\r\n",
    "ax1.xaxis.set_major_formatter(mdates.DateFormatter('%b\\n%Y'))\r\n",
    "plt.tight_layout()\r\n",
    "\r\n",
    "if saveFigures:\r\n",
    "    plt.savefig('figsVacc/NumVaccTotalNorm')"
   ],
   "outputs": [
    {
     "output_type": "display_data",
     "data": {
      "text/plain": [
       "Canvas(toolbar=Toolbar(toolitems=[('Home', 'Reset original view', 'home', 'home'), ('Back', 'Back to previous …"
      ],
      "application/vnd.jupyter.widget-view+json": {
       "version_major": 2,
       "version_minor": 0,
       "model_id": "a94a228190694696b8f32ea0ea40d5a7"
      }
     },
     "metadata": {}
    }
   ],
   "metadata": {}
  },
  {
   "cell_type": "code",
   "execution_count": 10,
   "source": [
    "fig,ax1 = plt.subplots()\r\n",
    "\r\n",
    "newVaccCumuPop = 100 * newVaccCumu/5851099\r\n",
    "fullVaccCumuPop = 100 * fullVaccCumu/5851099\r\n",
    "\r\n",
    "# plt.plot(curDates,newVaccCumuPop,'k',linewidth=3)\r\n",
    "# plt.plot(curDates,fullVaccCumuPop,'b',linewidth=3)\r\n",
    "\r\n",
    "ax1.fill_between(curDates,newVaccCumuPop,color='k',zorder=3,label='Påbegyndt')\r\n",
    "ax1.fill_between(curDates,fullVaccCumuPop,color='b',zorder=3,label='Færdiggjort')\r\n",
    "\r\n",
    "\r\n",
    "# Draw weekends\r\n",
    "firstSunday = np.datetime64('2021-01-03')\r\n",
    "\r\n",
    "numWeeks = 52\r\n",
    "\r\n",
    "# curYlim = ax1.get_ylim()\r\n",
    "# ax1.vlines([np.datetime64('2021-06-24'),np.datetime64('2021-06-25')],curYlim[0],curYlim[1])\r\n",
    "for k in range(0,numWeeks):\r\n",
    "    curSunday = firstSunday + np.timedelta64(7*k,'D')\r\n",
    "    ax1.axvspan(curSunday-np.timedelta64(1,'D')-np.timedelta64(12,'h'),curSunday+np.timedelta64(12,'h'),facecolor='lightgrey')\r\n",
    "\r\n",
    "ax1.axvspan(curSunday-np.timedelta64(1,'D')-np.timedelta64(12,'h'),curSunday+np.timedelta64(12,'h'),facecolor='lightgrey',label='Weekend')\r\n",
    "\r\n",
    "ax1.legend(loc='upper left')\r\n",
    "\r\n",
    "\r\n",
    "ax1.spines[\"right\"].set_visible(False)\r\n",
    "ax1.spines[\"top\"].set_visible(False)\r\n",
    "ax1.set_ylabel('Andel af danmarks samlede befolkning [%]')\r\n",
    "ax1.set_ylim(bottom=0,top=100)\r\n",
    "# ax1.legend()\r\n",
    "ax1.grid(axis='y',zorder=0)\r\n",
    "ax1.xaxis.set_major_formatter(mdates.DateFormatter('%b\\n%Y'))\r\n",
    "\r\n",
    "ax1.set_xlim(left=np.datetime64('2021-01-01'),right=np.datetime64('2021-09-01'))\r\n",
    "plt.tight_layout()"
   ],
   "outputs": [
    {
     "output_type": "display_data",
     "data": {
      "text/plain": [
       "Canvas(toolbar=Toolbar(toolitems=[('Home', 'Reset original view', 'home', 'home'), ('Back', 'Back to previous …"
      ],
      "application/vnd.jupyter.widget-view+json": {
       "version_major": 2,
       "version_minor": 0,
       "model_id": "7fe9491b689b45178bfee7763fd4f3e7"
      }
     },
     "metadata": {}
    }
   ],
   "metadata": {}
  },
  {
   "cell_type": "code",
   "execution_count": 11,
   "source": [
    "filename = 'Vaccinerede_pr_uge_pr_maalgruppe.csv'\r\n",
    "curPath = latestdir+\"/Vaccine_maalgrupper_DB/\" + filename\r\n",
    "\r\n",
    "df_weekly = pd.read_csv(curPath,delimiter = ';',dtype=str,encoding='latin-1')"
   ],
   "outputs": [],
   "metadata": {}
  },
  {
   "cell_type": "code",
   "execution_count": 12,
   "source": [
    "# df_weekly.tail()\r\n",
    "# Drop the three extra empty rows are the top\r\n",
    "df_weekly.drop([0,1,2],axis=0,inplace=True)\r\n",
    "# df_weekly.drop([0,1,2],axis=0,inplace=True)\r\n"
   ],
   "outputs": [],
   "metadata": {}
  },
  {
   "cell_type": "code",
   "execution_count": 13,
   "source": [
    "allDates = df_weekly.Ugenummer\r\n",
    "# d = \"2021-W29\"\r\n",
    "# r = datetime.datetime.strptime(d + '-1', \"%Y-W%W-%w\")\r\n",
    "# np.datetime64(r)\r\n",
    "\r\n",
    "curWeekDays = df_weekly.Ugenummer.apply(lambda x: np.datetime64(datetime.datetime.strptime(x + '-1', \"%Y-W%W-%w\")))\r\n",
    "\r\n",
    "allVaccOnce = pd.to_numeric(df_weekly['Dækning førstegangsvaccinerede (kumulativt i %)'])\r\n",
    "allVaccFull = pd.to_numeric(df_weekly['Dækning færdigvaccinerede (kumulativt i %)'])\r\n",
    "\r\n"
   ],
   "outputs": [],
   "metadata": {}
  },
  {
   "cell_type": "code",
   "execution_count": 14,
   "source": [
    "allGroups = df_weekly['Målgruppe'].unique()\r\n",
    "\r\n",
    "# Move groups around to have correct order\r\n",
    "allGroups.sort()\r\n",
    "allGroups = np.roll(allGroups,-8)\r\n",
    "allGroups = np.insert(allGroups,0,allGroups[-8])\r\n",
    "allGroups = np.delete(allGroups,-8)\r\n",
    "allGroups = np.append(allGroups,allGroups[-8])\r\n",
    "allGroups = np.delete(allGroups,-9)\r\n",
    "allGroups"
   ],
   "outputs": [
    {
     "output_type": "execute_result",
     "data": {
      "text/plain": [
       "array(['1. Plejehjemsbeboere', '11. Personer fra årgang 2006-2009',\n",
       "       '2. Borgere > 65, praktisk hjælp og personlig pleje',\n",
       "       '3. Borgere fra årgang 1936 og derunder (85 år og ældre)',\n",
       "       '4. Personale i sundhedsvæsenet og dele af socialvæsenet',\n",
       "       '5. Udvalgte patienter med særligt øget risiko',\n",
       "       '6. Udvalgte pårørende til personer med særligt øget risiko',\n",
       "       '7. Personer fra årgang 1937-1941',\n",
       "       '8. Personer fra årgang 1942-1946',\n",
       "       '9. Personer fra årgang 1947-1956',\n",
       "       '10A. Personer fra årgang 1957-1961',\n",
       "       '10B. Personer fra årgang 1962-1966',\n",
       "       '10C. Personer fra årgang 1967-1971',\n",
       "       '10D1. Personer fra årgang 1972-1976 og årgang 2002-2005',\n",
       "       '10D2. Personer fra årgang 1977-1981 og årgang 1997-2001',\n",
       "       '10D3. Personer fra årgang 1982-1986 og årgang 1992-1996',\n",
       "       '10D4. Personer fra årgang 1987-1991', 'Resterende'], dtype=object)"
      ]
     },
     "metadata": {},
     "execution_count": 14
    }
   ],
   "metadata": {}
  },
  {
   "cell_type": "code",
   "execution_count": 15,
   "source": [
    "# df_weekly\r\n",
    "# len(df_weekly[df_weekly['Målgruppe'] == allGroups[-1]])\r\n"
   ],
   "outputs": [],
   "metadata": {}
  },
  {
   "cell_type": "code",
   "execution_count": null,
   "source": [],
   "outputs": [],
   "metadata": {}
  },
  {
   "cell_type": "code",
   "execution_count": 16,
   "source": [
    "# Hard-coded fix of the missing data-points\r\n",
    "group5Len = len(df_weekly[df_weekly['Målgruppe'] == allGroups[5]])\r\n",
    "otherGroupLen = len(df_weekly[df_weekly['Målgruppe'] == allGroups[2]])\r\n",
    "if (group5Len == otherGroupLen - 3):\r\n",
    "\r\n",
    "    rowToCopy = df_weekly.loc[57]\r\n",
    "    toAdd1 = rowToCopy.copy()\r\n",
    "    toAdd2 = rowToCopy.copy()\r\n",
    "    toAdd3 = rowToCopy.copy()\r\n",
    "    toAdd1.Ugenummer = '2021-W03'\r\n",
    "    toAdd2.Ugenummer = '2021-W04'\r\n",
    "    toAdd3.Ugenummer = '2021-W06'\r\n",
    "\r\n",
    "    df_weekly = df_weekly.append(toAdd1)\r\n",
    "    df_weekly = df_weekly.append(toAdd2)\r\n",
    "    df_weekly = df_weekly.append(toAdd3)\r\n",
    "    \r\n",
    "\r\n",
    "\r\n",
    "groupRestLen = len(df_weekly[df_weekly['Målgruppe'] == allGroups[-1]])\r\n",
    "groupRestLen - otherGroupLen\r\n",
    "if (groupRestLen == otherGroupLen - 15):\r\n",
    "    rowToCopy = df_weekly.loc[35]\r\n",
    "    toAdd = rowToCopy.copy()\r\n",
    "    \r\n",
    "    toAdd.Ugenummer = '2020-W52'\r\n",
    "    df_weekly = df_weekly.append(toAdd)\r\n",
    "    toAdd.Ugenummer = '2021-W01'\r\n",
    "    df_weekly = df_weekly.append(toAdd)\r\n",
    "    toAdd.Ugenummer = '2021-W02'\r\n",
    "    df_weekly = df_weekly.append(toAdd)\r\n",
    "    toAdd.Ugenummer = '2021-W04'\r\n",
    "    df_weekly = df_weekly.append(toAdd)\r\n",
    "    toAdd.Ugenummer = '2021-W05'\r\n",
    "    df_weekly = df_weekly.append(toAdd)\r\n",
    "    toAdd.Ugenummer = '2021-W06'\r\n",
    "    df_weekly = df_weekly.append(toAdd)\r\n",
    "    toAdd.Ugenummer = '2021-W07'\r\n",
    "    df_weekly = df_weekly.append(toAdd)\r\n",
    "    toAdd.Ugenummer = '2021-W10'\r\n",
    "    df_weekly = df_weekly.append(toAdd)\r\n",
    "    toAdd.Ugenummer = '2021-W11'\r\n",
    "    df_weekly = df_weekly.append(toAdd)\r\n",
    "    toAdd.Ugenummer = '2021-W12'\r\n",
    "    df_weekly = df_weekly.append(toAdd)\r\n",
    "    toAdd.Ugenummer = '2021-W13'\r\n",
    "    df_weekly = df_weekly.append(toAdd)\r\n",
    "    toAdd.Ugenummer = '2021-W14'\r\n",
    "    df_weekly = df_weekly.append(toAdd)\r\n",
    "    toAdd.Ugenummer = '2021-W15'\r\n",
    "    df_weekly = df_weekly.append(toAdd)\r\n",
    "    toAdd.Ugenummer = '2021-W16'\r\n",
    "    df_weekly = df_weekly.append(toAdd) \r\n",
    "    toAdd.Ugenummer = '2021-W18'\r\n",
    "    df_weekly = df_weekly.append(toAdd)\r\n",
    "    \r\n",
    "# Sort so order is correct\r\n",
    "df_weekly.sort_values(by=['Ugenummer','Målgruppe'],inplace=True)"
   ],
   "outputs": [],
   "metadata": {}
  },
  {
   "cell_type": "code",
   "execution_count": 17,
   "source": [
    "curdf = df_weekly[df_weekly['Målgruppe'] == allGroups[0]]"
   ],
   "outputs": [],
   "metadata": {}
  },
  {
   "cell_type": "code",
   "execution_count": 18,
   "source": [
    "fig,(ax1,ax2) = plt.subplots(2,1,sharex=True)\r\n",
    "\r\n",
    "# ax1.plot(curWeekDays,allVaccOnce,'*')\r\n",
    "# ax2.plot(curWeekDays,allVaccFull,'*')\r\n",
    "\r\n",
    "# for k in range(0,len(allGroups)):\r\n",
    "for k in range(len(allGroups)-5,len(allGroups)-1):\r\n",
    "    curdf = df_weekly[df_weekly['Målgruppe'] == allGroups[k]]\r\n",
    "\r\n",
    "    curLabel = allGroups[k]\r\n",
    "\r\n",
    "    ageWeekDays = curdf.Ugenummer.apply(lambda x: np.datetime64(datetime.datetime.strptime(x + '-1', \"%Y-W%W-%w\")))\r\n",
    "\r\n",
    "    ageVaccOnce = pd.to_numeric(curdf['Dækning førstegangsvaccinerede (kumulativt i %)'])\r\n",
    "    ageVaccFull = pd.to_numeric(curdf['Dækning færdigvaccinerede (kumulativt i %)'])\r\n",
    "    \r\n",
    "    ax1.plot(ageWeekDays,ageVaccOnce,'-*',label=curLabel)\r\n",
    "    ax2.plot(ageWeekDays,ageVaccFull,'-*',label=curLabel)\r\n",
    "\r\n",
    "ax1.set_ylim([0,100])\r\n",
    "ax2.set_ylim([0,100])\r\n",
    "ax1.legend(fontsize=10)\r\n",
    "\r\n",
    "ax1.set_xlim(left=np.datetime64('2021-05-01'))\r\n",
    "plt.tight_layout()"
   ],
   "outputs": [
    {
     "output_type": "display_data",
     "data": {
      "text/plain": [
       "Canvas(toolbar=Toolbar(toolitems=[('Home', 'Reset original view', 'home', 'home'), ('Back', 'Back to previous …"
      ],
      "application/vnd.jupyter.widget-view+json": {
       "version_major": 2,
       "version_minor": 0,
       "model_id": "29451f62fa6d48b38192d4abc3a0523b"
      }
     },
     "metadata": {}
    }
   ],
   "metadata": {}
  },
  {
   "cell_type": "code",
   "execution_count": 19,
   "source": [
    "# fig,(ax1,ax2) = plt.subplots(2,1,sharex=True)\r\n",
    "\r\n",
    "for k in range(0,len(allGroups)):\r\n",
    "# for k in range(len(allGroups)-5,len(allGroups)-1):\r\n",
    "\r\n",
    "    fig,ax1 = plt.subplots(1,1)\r\n",
    "    curdf = df_weekly[df_weekly['Målgruppe'] == allGroups[k]]\r\n",
    "\r\n",
    "    curLabel = allGroups[k]\r\n",
    "\r\n",
    "    ageWeekDays = curdf.Ugenummer.apply(lambda x: np.datetime64(datetime.datetime.strptime(x + '-1', \"%Y-W%W-%w\")))\r\n",
    "\r\n",
    "    ageVaccOnce = pd.to_numeric(curdf['Dækning førstegangsvaccinerede (kumulativt i %)'])\r\n",
    "    ageVaccFull = pd.to_numeric(curdf['Dækning færdigvaccinerede (kumulativt i %)'])\r\n",
    "    \r\n",
    "    # ax1.plot(ageWeekDays,ageVaccOnce,'-*',label=curLabel)\r\n",
    "    # ax1.plot(ageWeekDays,ageVaccFull,'-*',label=curLabel)\r\n",
    "    ax1.fill_between(ageWeekDays,ageVaccOnce,zorder=3,color='xkcd:lightblue',label='Påbegyndt')\r\n",
    "    ax1.fill_between(ageWeekDays,ageVaccFull,zorder=3,color='xkcd:darkblue',label='Færdiggjort')\r\n",
    "\r\n",
    "    ax1.set_ylim([0,100])\r\n",
    "    # ax2.set_ylim([0,100])\r\n",
    "    # ax1.legend(fontsize=10)\r\n",
    "    plt.title(curLabel)\r\n",
    "\r\n",
    "    # Draw weekends\r\n",
    "    firstSunday = np.datetime64('2020-12-20')\r\n",
    "    numWeeks = 52\r\n",
    "    for w in range(0,numWeeks):\r\n",
    "        curSunday = firstSunday + np.timedelta64(7*w,'D')\r\n",
    "        ax1.axvspan(curSunday-np.timedelta64(1,'D')-np.timedelta64(12,'h'),curSunday+np.timedelta64(12,'h'),zorder=0,facecolor='lightgrey')\r\n",
    "    ax1.axvspan(curSunday-np.timedelta64(1,'D')-np.timedelta64(12,'h'),curSunday+np.timedelta64(12,'h'),zorder=0,facecolor='lightgrey',label='Weekend')\r\n",
    "\r\n",
    "    ax1.legend(loc='upper left')\r\n",
    "\r\n",
    "    ax1.spines[\"right\"].set_visible(False)\r\n",
    "    ax1.spines[\"top\"].set_visible(False)\r\n",
    "    ax1.set_ylabel('Andel af målgruppe [%]')\r\n",
    "    ax1.set_ylim(bottom=0,top=100)\r\n",
    "    ax1.grid(axis='y',zorder=0)\r\n",
    "    ax1.xaxis.set_major_formatter(mdates.DateFormatter('%b\\n%Y'))\r\n",
    "\r\n",
    "    ax1.set_xlim(left=firstSunday)\r\n",
    "    ax1.set_xlim(right=np.datetime64('2021-08-20'))\r\n",
    "\r\n",
    "    # plt.tight_layout()\r\n",
    "    if saveFigures:\r\n",
    "        plt.savefig(f'figsVacc/Maalgruppe_{k+1}')\r\n",
    "\r\n",
    "    ax1.set_xlim(left=np.datetime64('2021-05-01'))\r\n",
    "    ax1.xaxis.set_major_formatter(mdates.DateFormatter('%d.\\n%b'))\r\n",
    "    if saveFigures:\r\n",
    "        plt.savefig(f'figsVacc/Maalgruppe_{k+1}_zoom')\r\n",
    "plt.close('all')"
   ],
   "outputs": [
    {
     "output_type": "display_data",
     "data": {
      "text/plain": [
       "Canvas(toolbar=Toolbar(toolitems=[('Home', 'Reset original view', 'home', 'home'), ('Back', 'Back to previous …"
      ],
      "application/vnd.jupyter.widget-view+json": {
       "version_major": 2,
       "version_minor": 0,
       "model_id": "26f98ef3512e4fd6a799a2343562c882"
      }
     },
     "metadata": {}
    },
    {
     "output_type": "display_data",
     "data": {
      "text/plain": [
       "Canvas(toolbar=Toolbar(toolitems=[('Home', 'Reset original view', 'home', 'home'), ('Back', 'Back to previous …"
      ],
      "application/vnd.jupyter.widget-view+json": {
       "version_major": 2,
       "version_minor": 0,
       "model_id": "2a91ba4ec7094392a2f351a995267c88"
      }
     },
     "metadata": {}
    },
    {
     "output_type": "display_data",
     "data": {
      "text/plain": [
       "Canvas(toolbar=Toolbar(toolitems=[('Home', 'Reset original view', 'home', 'home'), ('Back', 'Back to previous …"
      ],
      "application/vnd.jupyter.widget-view+json": {
       "version_major": 2,
       "version_minor": 0,
       "model_id": "da2e8ada50874badbc1f4efba66f5ec2"
      }
     },
     "metadata": {}
    },
    {
     "output_type": "display_data",
     "data": {
      "text/plain": [
       "Canvas(toolbar=Toolbar(toolitems=[('Home', 'Reset original view', 'home', 'home'), ('Back', 'Back to previous …"
      ],
      "application/vnd.jupyter.widget-view+json": {
       "version_major": 2,
       "version_minor": 0,
       "model_id": "58b8a3d69725452596d33df21b4366b7"
      }
     },
     "metadata": {}
    },
    {
     "output_type": "display_data",
     "data": {
      "text/plain": [
       "Canvas(toolbar=Toolbar(toolitems=[('Home', 'Reset original view', 'home', 'home'), ('Back', 'Back to previous …"
      ],
      "application/vnd.jupyter.widget-view+json": {
       "version_major": 2,
       "version_minor": 0,
       "model_id": "214db0a9b88d4f53b5277a735624ba5d"
      }
     },
     "metadata": {}
    },
    {
     "output_type": "display_data",
     "data": {
      "text/plain": [
       "Canvas(toolbar=Toolbar(toolitems=[('Home', 'Reset original view', 'home', 'home'), ('Back', 'Back to previous …"
      ],
      "application/vnd.jupyter.widget-view+json": {
       "version_major": 2,
       "version_minor": 0,
       "model_id": "1ff2b31d717b40548cb07e8e147d9438"
      }
     },
     "metadata": {}
    },
    {
     "output_type": "display_data",
     "data": {
      "text/plain": [
       "Canvas(toolbar=Toolbar(toolitems=[('Home', 'Reset original view', 'home', 'home'), ('Back', 'Back to previous …"
      ],
      "application/vnd.jupyter.widget-view+json": {
       "version_major": 2,
       "version_minor": 0,
       "model_id": "c928be0e77324f618005662db024a703"
      }
     },
     "metadata": {}
    },
    {
     "output_type": "display_data",
     "data": {
      "text/plain": [
       "Canvas(toolbar=Toolbar(toolitems=[('Home', 'Reset original view', 'home', 'home'), ('Back', 'Back to previous …"
      ],
      "application/vnd.jupyter.widget-view+json": {
       "version_major": 2,
       "version_minor": 0,
       "model_id": "956df12dcbdf42899dfd89518960d7c6"
      }
     },
     "metadata": {}
    },
    {
     "output_type": "display_data",
     "data": {
      "text/plain": [
       "Canvas(toolbar=Toolbar(toolitems=[('Home', 'Reset original view', 'home', 'home'), ('Back', 'Back to previous …"
      ],
      "application/vnd.jupyter.widget-view+json": {
       "version_major": 2,
       "version_minor": 0,
       "model_id": "433e34308e504d79b96b0b4bf7c57a49"
      }
     },
     "metadata": {}
    },
    {
     "output_type": "display_data",
     "data": {
      "text/plain": [
       "Canvas(toolbar=Toolbar(toolitems=[('Home', 'Reset original view', 'home', 'home'), ('Back', 'Back to previous …"
      ],
      "application/vnd.jupyter.widget-view+json": {
       "version_major": 2,
       "version_minor": 0,
       "model_id": "cf38fb9b2854431f98b5d6bc0ce90ac9"
      }
     },
     "metadata": {}
    },
    {
     "output_type": "display_data",
     "data": {
      "text/plain": [
       "Canvas(toolbar=Toolbar(toolitems=[('Home', 'Reset original view', 'home', 'home'), ('Back', 'Back to previous …"
      ],
      "application/vnd.jupyter.widget-view+json": {
       "version_major": 2,
       "version_minor": 0,
       "model_id": "ab12c98c8ade4c0497e4db0e2eb20e91"
      }
     },
     "metadata": {}
    },
    {
     "output_type": "display_data",
     "data": {
      "text/plain": [
       "Canvas(toolbar=Toolbar(toolitems=[('Home', 'Reset original view', 'home', 'home'), ('Back', 'Back to previous …"
      ],
      "application/vnd.jupyter.widget-view+json": {
       "version_major": 2,
       "version_minor": 0,
       "model_id": "8aa0f94eadab4eb5bb27a61dd5bfb77e"
      }
     },
     "metadata": {}
    },
    {
     "output_type": "display_data",
     "data": {
      "text/plain": [
       "Canvas(toolbar=Toolbar(toolitems=[('Home', 'Reset original view', 'home', 'home'), ('Back', 'Back to previous …"
      ],
      "application/vnd.jupyter.widget-view+json": {
       "version_major": 2,
       "version_minor": 0,
       "model_id": "b06a201bad8b4e6aaf5336097f3e7cb1"
      }
     },
     "metadata": {}
    },
    {
     "output_type": "display_data",
     "data": {
      "text/plain": [
       "Canvas(toolbar=Toolbar(toolitems=[('Home', 'Reset original view', 'home', 'home'), ('Back', 'Back to previous …"
      ],
      "application/vnd.jupyter.widget-view+json": {
       "version_major": 2,
       "version_minor": 0,
       "model_id": "cea6e4d19b764615b8a65669cb4bcbe4"
      }
     },
     "metadata": {}
    },
    {
     "output_type": "display_data",
     "data": {
      "text/plain": [
       "Canvas(toolbar=Toolbar(toolitems=[('Home', 'Reset original view', 'home', 'home'), ('Back', 'Back to previous …"
      ],
      "application/vnd.jupyter.widget-view+json": {
       "version_major": 2,
       "version_minor": 0,
       "model_id": "91be95b1644340b390a0e773608ca690"
      }
     },
     "metadata": {}
    },
    {
     "output_type": "stream",
     "name": "stderr",
     "text": [
      "<ipython-input-19-8bfd9ae0f9bb>:6: RuntimeWarning: More than 20 figures have been opened. Figures created through the pyplot interface (`matplotlib.pyplot.figure`) are retained until explicitly closed and may consume too much memory. (To control this warning, see the rcParam `figure.max_open_warning`).\n",
      "  fig,ax1 = plt.subplots(1,1)\n"
     ]
    },
    {
     "output_type": "display_data",
     "data": {
      "text/plain": [
       "Canvas(toolbar=Toolbar(toolitems=[('Home', 'Reset original view', 'home', 'home'), ('Back', 'Back to previous …"
      ],
      "application/vnd.jupyter.widget-view+json": {
       "version_major": 2,
       "version_minor": 0,
       "model_id": "fea78babfacf4818ac9aecd7bd2d2932"
      }
     },
     "metadata": {}
    },
    {
     "output_type": "display_data",
     "data": {
      "text/plain": [
       "Canvas(toolbar=Toolbar(toolitems=[('Home', 'Reset original view', 'home', 'home'), ('Back', 'Back to previous …"
      ],
      "application/vnd.jupyter.widget-view+json": {
       "version_major": 2,
       "version_minor": 0,
       "model_id": "ce0cde8b42cc43929d4c7c2f7f1ac3df"
      }
     },
     "metadata": {}
    },
    {
     "output_type": "display_data",
     "data": {
      "text/plain": [
       "Canvas(toolbar=Toolbar(toolitems=[('Home', 'Reset original view', 'home', 'home'), ('Back', 'Back to previous …"
      ],
      "application/vnd.jupyter.widget-view+json": {
       "version_major": 2,
       "version_minor": 0,
       "model_id": "7dbad4a69ac2472ea4d689f39b40366a"
      }
     },
     "metadata": {}
    }
   ],
   "metadata": {}
  },
  {
   "cell_type": "code",
   "execution_count": 20,
   "source": [
    "# Figur af \"inviterede, men ikke påbegyndt\"\r\n",
    "# First, population counts\r\n",
    "filename = 'Noegletal_vacc_daekning.csv'\r\n",
    "curPath = latestdir+\"/Vaccine_maalgrupper_DB/\" + filename\r\n",
    "\r\n",
    "df_noegle = pd.read_csv(curPath,delimiter = ';',dtype=str,encoding='latin-1')"
   ],
   "outputs": [],
   "metadata": {}
  },
  {
   "cell_type": "code",
   "execution_count": 21,
   "source": [
    "# Count groupsize:\r\n",
    "df_noegle[df_noegle['Målgruppe'] == allGroups[1]].Population.astype(int).sum()\r\n",
    "\r\n",
    "# Check of full population:\r\n",
    "wholePop = 0\r\n",
    "for k in range(0,len(allGroups)):\r\n",
    "    \r\n",
    "    curPop = df_noegle[df_noegle['Målgruppe'] == allGroups[k]].Population.astype(int).sum()\r\n",
    "    wholePop += curPop\r\n",
    "print(wholePop) # Should be 5851099"
   ],
   "outputs": [
    {
     "output_type": "stream",
     "name": "stdout",
     "text": [
      "5857555\n"
     ]
    }
   ],
   "metadata": {}
  },
  {
   "cell_type": "code",
   "execution_count": 22,
   "source": [
    "fig,(ax1,ax2) = plt.subplots(2,1,sharex=True)\r\n",
    "\r\n",
    "\r\n",
    "for k in range(0,len(allGroups)):\r\n",
    "# for k in range(len(allGroups)-5,len(allGroups)-1):\r\n",
    "    curdf = df_weekly[df_weekly['Målgruppe'] == allGroups[k]]\r\n",
    "\r\n",
    "    curPop = df_noegle[df_noegle['Målgruppe'] == allGroups[k]].Population.astype(int).sum()\r\n",
    "\r\n",
    "    curLabel = allGroups[k]\r\n",
    "\r\n",
    "    ageWeekDays = curdf.Ugenummer.apply(lambda x: np.datetime64(datetime.datetime.strptime(x + '-1', \"%Y-W%W-%w\")))\r\n",
    "\r\n",
    "    ageVaccOnce = pd.to_numeric(curdf['Dækning førstegangsvaccinerede (kumulativt i %)'])\r\n",
    "    ageVaccFull = pd.to_numeric(curdf['Dækning færdigvaccinerede (kumulativt i %)'])\r\n",
    "    \r\n",
    "    ax1.plot(ageWeekDays,curPop*(100-ageVaccOnce),'-*',label=curLabel)\r\n",
    "    ax2.plot(ageWeekDays,curPop*(100-ageVaccFull),'-*',label=curLabel)\r\n",
    "\r\n",
    "# ax1.set_ylim([0,100])\r\n",
    "# ax2.set_ylim([0,100])\r\n",
    "ax1.set_ylim(bottom=0)\r\n",
    "ax2.set_ylim(bottom=0)\r\n",
    "ax1.legend(fontsize=8,loc='upper left')\r\n",
    "\r\n",
    "# ax1.set_xlim(left=np.datetime64('2021-05-01'))\r\n",
    "plt.tight_layout()"
   ],
   "outputs": [
    {
     "output_type": "display_data",
     "data": {
      "text/plain": [
       "Canvas(toolbar=Toolbar(toolitems=[('Home', 'Reset original view', 'home', 'home'), ('Back', 'Back to previous …"
      ],
      "application/vnd.jupyter.widget-view+json": {
       "version_major": 2,
       "version_minor": 0,
       "model_id": "e2b136da42ae4fec968f63da9af5a333"
      }
     },
     "metadata": {}
    }
   ],
   "metadata": {}
  },
  {
   "cell_type": "code",
   "execution_count": 23,
   "source": [
    "df_noegle.Population.astype(int).sum()"
   ],
   "outputs": [
    {
     "output_type": "execute_result",
     "data": {
      "text/plain": [
       "5857555"
      ]
     },
     "metadata": {},
     "execution_count": 23
    }
   ],
   "metadata": {}
  },
  {
   "cell_type": "code",
   "execution_count": 27,
   "source": [
    "# df_weekly"
   ],
   "outputs": [],
   "metadata": {}
  },
  {
   "cell_type": "code",
   "execution_count": 34,
   "source": [
    "fig,(ax1,ax2) = plt.subplots(2,1,sharex=True,figsize=(18,14))\r\n",
    " \r\n",
    "restPop = df_noegle[df_noegle['Målgruppe'] == allGroups[len(allGroups)-1]].Population.astype(int).sum()\r\n",
    "fullPop = df_noegle.Population.astype(int).sum()\r\n",
    "\r\n",
    "curdf = df_weekly[df_weekly['Målgruppe'] == allGroups[0]]\r\n",
    "ageVaccOnce = pd.to_numeric(curdf['Dækning førstegangsvaccinerede (kumulativt i %)'])\r\n",
    "\r\n",
    "# currOnce = np.zeros(ageVaccOnce.values.shape)\r\n",
    "# prevOnce = np.zeros(ageVaccOnce.values.shape)\r\n",
    "currOnce = np.zeros(ageVaccOnce.values.shape)\r\n",
    "prevOnce = np.zeros(ageVaccOnce.values.shape)\r\n",
    "# currNone = restPop * np.ones(ageVaccOnce.values.shape)\r\n",
    "# prevNone = restPop * np.ones(ageVaccOnce.values.shape)\r\n",
    "currNone = np.zeros(ageVaccOnce.values.shape)\r\n",
    "prevNone = np.zeros(ageVaccOnce.values.shape)\r\n",
    "\r\n",
    "\r\n",
    "cmap = cm.get_cmap('Spectral',len(allGroups))\r\n",
    "\r\n",
    "# allWeeks = df_weekly.Ugenummer.apply(lambda x: np.datetime64(datetime.datetime.strptime(x + '-1', \"%Y-W%W-%w\")))\r\n",
    "\r\n",
    "\r\n",
    "# for k in range(7,16):\r\n",
    "# for k in range(0,len(allGroups)-1):\r\n",
    "# for k in range(len(allGroups)-2,-1,-1):\r\n",
    "for k in range(len(allGroups)-1,-1,-1):\r\n",
    "    curdf = df_weekly[df_weekly['Målgruppe'] == allGroups[k]]\r\n",
    "\r\n",
    "    curPop = df_noegle[df_noegle['Målgruppe'] == allGroups[k]].Population.astype(int).sum()\r\n",
    "\r\n",
    "    curLabel = allGroups[k]\r\n",
    "\r\n",
    "    ageWeekDays = curdf.Ugenummer.apply(lambda x: np.datetime64(datetime.datetime.strptime(x + '-1', \"%Y-W%W-%w\")))\r\n",
    "\r\n",
    "    ageVaccOnce = pd.to_numeric(curdf['Dækning førstegangsvaccinerede (kumulativt i %)'])\r\n",
    "    ageVaccFull = pd.to_numeric(curdf['Dækning færdigvaccinerede (kumulativt i %)'])\r\n",
    "\r\n",
    "    numOnce = curPop * (ageVaccOnce.values/100)\r\n",
    "    numFull = curPop * (ageVaccFull/100)\r\n",
    "    numNone = curPop * (100 - ageVaccOnce.values)/100\r\n",
    "    # numNone = curPop - numOnce\r\n",
    "\r\n",
    "    # print(k)\r\n",
    "    # print(numOnce.shape)\r\n",
    "    currOnce += numOnce\r\n",
    "    # currOnce += numNone\r\n",
    "    # currOnce += currOnce\r\n",
    "    currNone += numNone\r\n",
    "\r\n",
    "    # ax1.plot(ageWeekDays,numOnce)\r\n",
    "    # ax1.plot(ageWeekDays,numNone)\r\n",
    "    # ax1.plot(ageWeekDays,currOnce)\r\n",
    "    ax1.fill_between(ageWeekDays,currOnce,prevOnce,label=curLabel,color=cmap(k))\r\n",
    "    ax2.fill_between(ageWeekDays,currNone,prevNone,label=curLabel,color=cmap(k))\r\n",
    "    # ax1.fill_between(ageWeekDays,currOnce)\r\n",
    "\r\n",
    "    prevOnce +=  numOnce\r\n",
    "    prevNone +=  numNone\r\n",
    "\r\n",
    "    # ax1.plot(ageWeekDays,numOnce)\r\n",
    "    # ax1.plot(ageWeekDays,numFull)\r\n",
    "    # ax1.plot(ageWeekDays,numNone)\r\n",
    "    \r\n",
    "    # ax1.plot(ageWeekDays,curPop*(100-ageVaccOnce),'-*',label=curLabel)\r\n",
    "    # ax2.plot(ageWeekDays,curPop*(100-ageVaccFull),'-*',label=curLabel)\r\n",
    "\r\n",
    "# ax2.fill_between(ageWeekDays,currNone,color='k',label='Resterende')\r\n",
    "\r\n",
    "# ax2.fill_between(ageWeekDays,restPop * np.ones(ageVaccOnce.values.shape),color='k',label='Resterende')\r\n",
    "\r\n",
    "ax1.set_ylim(bottom=0)\r\n",
    "ax2.set_ylim(bottom=0)\r\n",
    "\r\n",
    "# ax1.set_xlim(left=ageWeekDays.values[0],right=ageWeekDays.values[-1]+np.timedelta64(2,'D'))\r\n",
    "ax1.set_xlim(left=np.datetime64('2021-01-01'),right=ageWeekDays.values[-1]+np.timedelta64(2,'D'))\r\n",
    "\r\n",
    "ax1.grid()\r\n",
    "ax2.grid()\r\n",
    "ax1.set_axisbelow(True)\r\n",
    "ax2.set_axisbelow(True)\r\n",
    "\r\n",
    "\r\n",
    "ax1.xaxis.set_major_formatter(mdates.DateFormatter('%b'))\r\n",
    "\r\n",
    "ax1.set_ylabel('Antal vaccinerede')\r\n",
    "ax2.set_ylabel('Antal uvaccinerede')\r\n",
    "\r\n",
    "ax2.legend(loc='upper left',fontsize=12, bbox_to_anchor=(1.05, 1))\r\n",
    "\r\n",
    "ax1.ticklabel_format(axis='y',style='plain')\r\n",
    "ax2.ticklabel_format(axis='y',style='plain')\r\n",
    "\r\n",
    "plt.tight_layout()\r\n",
    "\r\n",
    "if saveFigures:\r\n",
    "    plt.savefig('figsVacc/TotalVaccOgUvacc_Stacked')\r\n",
    "    \r\n",
    "    \r\n",
    "ax1.set_xlim(left=np.datetime64('2021-06-15'),right=ageWeekDays.values[-1]+np.timedelta64(2,'D'))\r\n",
    "ax2.set_ylim(top=3e6)\r\n",
    "\r\n",
    "ax1.xaxis.set_major_formatter(mdates.DateFormatter('%d.\\n%b'))\r\n",
    "\r\n",
    "if saveFigures:\r\n",
    "    plt.savefig('figsVacc/TotalVaccOgUvacc_Stacked_Zoom')"
   ],
   "outputs": [
    {
     "output_type": "display_data",
     "data": {
      "text/plain": [
       "Canvas(toolbar=Toolbar(toolitems=[('Home', 'Reset original view', 'home', 'home'), ('Back', 'Back to previous …"
      ],
      "application/vnd.jupyter.widget-view+json": {
       "version_major": 2,
       "version_minor": 0,
       "model_id": "403b06fc353e4456a80140783ceca4ff"
      }
     },
     "metadata": {}
    },
    {
     "output_type": "error",
     "ename": "ValueError",
     "evalue": "operands could not be broadcast together with shapes (36,) (13,) (36,) ",
     "traceback": [
      "\u001b[1;31m---------------------------------------------------------------------------\u001b[0m",
      "\u001b[1;31mValueError\u001b[0m                                Traceback (most recent call last)",
      "\u001b[1;32m<ipython-input-34-044ec388bca7>\u001b[0m in \u001b[0;36m<module>\u001b[1;34m\u001b[0m\n\u001b[0;32m     44\u001b[0m     \u001b[1;31m# print(k)\u001b[0m\u001b[1;33m\u001b[0m\u001b[1;33m\u001b[0m\u001b[1;33m\u001b[0m\u001b[0m\n\u001b[0;32m     45\u001b[0m     \u001b[1;31m# print(numOnce.shape)\u001b[0m\u001b[1;33m\u001b[0m\u001b[1;33m\u001b[0m\u001b[1;33m\u001b[0m\u001b[0m\n\u001b[1;32m---> 46\u001b[1;33m     \u001b[0mcurrOnce\u001b[0m \u001b[1;33m+=\u001b[0m \u001b[0mnumOnce\u001b[0m\u001b[1;33m\u001b[0m\u001b[1;33m\u001b[0m\u001b[0m\n\u001b[0m\u001b[0;32m     47\u001b[0m     \u001b[1;31m# currOnce += numNone\u001b[0m\u001b[1;33m\u001b[0m\u001b[1;33m\u001b[0m\u001b[1;33m\u001b[0m\u001b[0m\n\u001b[0;32m     48\u001b[0m     \u001b[1;31m# currOnce += currOnce\u001b[0m\u001b[1;33m\u001b[0m\u001b[1;33m\u001b[0m\u001b[1;33m\u001b[0m\u001b[0m\n",
      "\u001b[1;31mValueError\u001b[0m: operands could not be broadcast together with shapes (36,) (13,) (36,) "
     ]
    }
   ],
   "metadata": {}
  },
  {
   "cell_type": "code",
   "execution_count": 35,
   "source": [
    "# currOnce"
   ],
   "outputs": [],
   "metadata": {}
  },
  {
   "cell_type": "code",
   "execution_count": 39,
   "source": [
    "fig,(ax1,ax2) = plt.subplots(2,1,sharex=True,figsize=(18,14))\r\n",
    " \r\n",
    "restPop = df_noegle[df_noegle['Målgruppe'] == allGroups[len(allGroups)-1]].Population.astype(int).sum()\r\n",
    "fullPop = df_noegle.Population.astype(int).sum()\r\n",
    "\r\n",
    "curdf = df_weekly[df_weekly['Målgruppe'] == allGroups[0]]\r\n",
    "ageVaccOnce = pd.to_numeric(curdf['Dækning førstegangsvaccinerede (kumulativt i %)'])\r\n",
    "\r\n",
    "# currOnce = np.zeros(ageVaccOnce.values.shape)\r\n",
    "# prevOnce = np.zeros(ageVaccOnce.values.shape)\r\n",
    "currOnce = np.zeros(ageVaccOnce.values.shape)\r\n",
    "prevOnce = np.zeros(ageVaccOnce.values.shape)\r\n",
    "# currNone = restPop * np.ones(ageVaccOnce.values.shape)\r\n",
    "# prevNone = restPop * np.ones(ageVaccOnce.values.shape)\r\n",
    "currNone = np.zeros(ageVaccOnce.values.shape)\r\n",
    "prevNone = np.zeros(ageVaccOnce.values.shape)\r\n",
    "\r\n",
    "\r\n",
    "cmap = cm.get_cmap('Spectral',len(allGroups))\r\n",
    "\r\n",
    "# allWeeks = df_weekly.Ugenummer.apply(lambda x: np.datetime64(datetime.datetime.strptime(x + '-1', \"%Y-W%W-%w\")))\r\n",
    "\r\n",
    "\r\n",
    "# for k in range(7,16):\r\n",
    "for k in range(0,len(allGroups)):\r\n",
    "    curdf = df_weekly[df_weekly['Målgruppe'] == allGroups[k]]\r\n",
    "\r\n",
    "    curPop = df_noegle[df_noegle['Målgruppe'] == allGroups[k]].Population.astype(int).sum()\r\n",
    "\r\n",
    "    curLabel = allGroups[k]\r\n",
    "\r\n",
    "    ageWeekDays = curdf.Ugenummer.apply(lambda x: np.datetime64(datetime.datetime.strptime(x + '-1', \"%Y-W%W-%w\")))\r\n",
    "\r\n",
    "    ageVaccOnce = pd.to_numeric(curdf['Dækning førstegangsvaccinerede (kumulativt i %)'])\r\n",
    "    ageVaccFull = pd.to_numeric(curdf['Dækning færdigvaccinerede (kumulativt i %)'])\r\n",
    "\r\n",
    "    numOnce = curPop * (ageVaccOnce.values/100)\r\n",
    "    numFull = curPop * (ageVaccFull/100)\r\n",
    "    numNone = curPop * (100 - ageVaccOnce.values)/100\r\n",
    "    # numNone = curPop - numOnce\r\n",
    "\r\n",
    "    # print(k)\r\n",
    "    # print(numOnce.shape)\r\n",
    "    currOnce += numOnce\r\n",
    "    # currOnce += numNone\r\n",
    "    # currOnce += currOnce\r\n",
    "    currNone += numNone\r\n",
    "\r\n",
    "    # ax1.plot(ageWeekDays,numOnce)\r\n",
    "    # ax1.plot(ageWeekDays,numNone)\r\n",
    "    # ax1.plot(ageWeekDays,currOnce)\r\n",
    "    ax1.fill_between(ageWeekDays,currOnce,prevOnce,label=curLabel,color=cmap(k))\r\n",
    "    ax2.fill_between(ageWeekDays,currNone,prevNone,label=curLabel,color=cmap(k))\r\n",
    "    # ax1.fill_between(ageWeekDays,currOnce)\r\n",
    "\r\n",
    "    prevOnce +=  numOnce\r\n",
    "    prevNone +=  numNone\r\n",
    "\r\n",
    "# ax2.fill_between(ageWeekDays,restPop * np.ones(ageVaccOnce.values.shape),color='k',label='Resterende')\r\n",
    "\r\n",
    "ax1.set_ylim(bottom=0)\r\n",
    "ax2.set_ylim(bottom=0)\r\n",
    "\r\n",
    "ax1.set_xlim(left=ageWeekDays.values[0],right=ageWeekDays.values[-1]+np.timedelta64(2,'D'))\r\n",
    "\r\n",
    "ax1.grid()\r\n",
    "ax2.grid()\r\n",
    "ax1.set_axisbelow(True)\r\n",
    "ax2.set_axisbelow(True)\r\n",
    "\r\n",
    "ax1.set_ylabel('Antal vaccinerede')\r\n",
    "ax2.set_ylabel('Antal uvaccinerede')\r\n",
    "\r\n",
    "ax2.legend(loc='upper left',fontsize=10, bbox_to_anchor=(1.05, 1))\r\n",
    "\r\n",
    "ax1.ticklabel_format(axis='y',style='plain')\r\n",
    "ax2.ticklabel_format(axis='y',style='plain')\r\n",
    "\r\n",
    "plt.tight_layout()\r\n",
    "\r\n",
    "if saveFigures:\r\n",
    "    plt.savefig('figsVacc/TotalVaccOgUvacc_StackedReversed')"
   ],
   "outputs": [
    {
     "output_type": "display_data",
     "data": {
      "text/plain": [
       "Canvas(toolbar=Toolbar(toolitems=[('Home', 'Reset original view', 'home', 'home'), ('Back', 'Back to previous …"
      ],
      "application/vnd.jupyter.widget-view+json": {
       "version_major": 2,
       "version_minor": 0,
       "model_id": "aa41fc881e764321af80f92a6a610ef0"
      }
     },
     "metadata": {}
    },
    {
     "output_type": "error",
     "ename": "ValueError",
     "evalue": "operands could not be broadcast together with shapes (36,) (21,) (36,) ",
     "traceback": [
      "\u001b[1;31m---------------------------------------------------------------------------\u001b[0m",
      "\u001b[1;31mValueError\u001b[0m                                Traceback (most recent call last)",
      "\u001b[1;32m<ipython-input-39-5f55ccf20841>\u001b[0m in \u001b[0;36m<module>\u001b[1;34m\u001b[0m\n\u001b[0;32m     42\u001b[0m     \u001b[1;31m# print(k)\u001b[0m\u001b[1;33m\u001b[0m\u001b[1;33m\u001b[0m\u001b[1;33m\u001b[0m\u001b[0m\n\u001b[0;32m     43\u001b[0m     \u001b[1;31m# print(numOnce.shape)\u001b[0m\u001b[1;33m\u001b[0m\u001b[1;33m\u001b[0m\u001b[1;33m\u001b[0m\u001b[0m\n\u001b[1;32m---> 44\u001b[1;33m     \u001b[0mcurrOnce\u001b[0m \u001b[1;33m+=\u001b[0m \u001b[0mnumOnce\u001b[0m\u001b[1;33m\u001b[0m\u001b[1;33m\u001b[0m\u001b[0m\n\u001b[0m\u001b[0;32m     45\u001b[0m     \u001b[1;31m# currOnce += numNone\u001b[0m\u001b[1;33m\u001b[0m\u001b[1;33m\u001b[0m\u001b[1;33m\u001b[0m\u001b[0m\n\u001b[0;32m     46\u001b[0m     \u001b[1;31m# currOnce += currOnce\u001b[0m\u001b[1;33m\u001b[0m\u001b[1;33m\u001b[0m\u001b[1;33m\u001b[0m\u001b[0m\n",
      "\u001b[1;31mValueError\u001b[0m: operands could not be broadcast together with shapes (36,) (21,) (36,) "
     ]
    }
   ],
   "metadata": {}
  },
  {
   "cell_type": "code",
   "execution_count": 40,
   "source": [
    "df_weekly[df_weekly['Målgruppe'] == allGroups[-1]]"
   ],
   "outputs": [
    {
     "output_type": "execute_result",
     "data": {
      "text/plain": [
       "    Ugenummer   Målgruppe Dækning førstegangsvaccinerede (kumulativt i %)  \\\n",
       "193  2021-W09  Resterende                                            0.00   \n",
       "323  2021-W17  Resterende                                            0.00   \n",
       "357  2021-W19  Resterende                                            0.00   \n",
       "392  2021-W21  Resterende                                            0.00   \n",
       "410  2021-W22  Resterende                                            0.00   \n",
       "428  2021-W23  Resterende                                            0.00   \n",
       "446  2021-W24  Resterende                                            0.00   \n",
       "498  2021-W27  Resterende                                            0.00   \n",
       "516  2021-W28  Resterende                                            0.00   \n",
       "534  2021-W29  Resterende                                            0.00   \n",
       "552  2021-W30  Resterende                                            0.00   \n",
       "604  2021-W33  Resterende                                            0.00   \n",
       "622  2021-W34  Resterende                                            0.00   \n",
       "\n",
       "    Dækning færdigvaccinerede (kumulativt i %)  \n",
       "193                                       0.00  \n",
       "323                                       0.00  \n",
       "357                                       0.00  \n",
       "392                                       0.00  \n",
       "410                                       0.00  \n",
       "428                                       0.00  \n",
       "446                                       0.00  \n",
       "498                                       0.00  \n",
       "516                                       0.00  \n",
       "534                                       0.00  \n",
       "552                                       0.00  \n",
       "604                                       0.00  \n",
       "622                                       0.00  "
      ],
      "text/html": [
       "<div>\n",
       "<style scoped>\n",
       "    .dataframe tbody tr th:only-of-type {\n",
       "        vertical-align: middle;\n",
       "    }\n",
       "\n",
       "    .dataframe tbody tr th {\n",
       "        vertical-align: top;\n",
       "    }\n",
       "\n",
       "    .dataframe thead th {\n",
       "        text-align: right;\n",
       "    }\n",
       "</style>\n",
       "<table border=\"1\" class=\"dataframe\">\n",
       "  <thead>\n",
       "    <tr style=\"text-align: right;\">\n",
       "      <th></th>\n",
       "      <th>Ugenummer</th>\n",
       "      <th>Målgruppe</th>\n",
       "      <th>Dækning førstegangsvaccinerede (kumulativt i %)</th>\n",
       "      <th>Dækning færdigvaccinerede (kumulativt i %)</th>\n",
       "    </tr>\n",
       "  </thead>\n",
       "  <tbody>\n",
       "    <tr>\n",
       "      <th>193</th>\n",
       "      <td>2021-W09</td>\n",
       "      <td>Resterende</td>\n",
       "      <td>0.00</td>\n",
       "      <td>0.00</td>\n",
       "    </tr>\n",
       "    <tr>\n",
       "      <th>323</th>\n",
       "      <td>2021-W17</td>\n",
       "      <td>Resterende</td>\n",
       "      <td>0.00</td>\n",
       "      <td>0.00</td>\n",
       "    </tr>\n",
       "    <tr>\n",
       "      <th>357</th>\n",
       "      <td>2021-W19</td>\n",
       "      <td>Resterende</td>\n",
       "      <td>0.00</td>\n",
       "      <td>0.00</td>\n",
       "    </tr>\n",
       "    <tr>\n",
       "      <th>392</th>\n",
       "      <td>2021-W21</td>\n",
       "      <td>Resterende</td>\n",
       "      <td>0.00</td>\n",
       "      <td>0.00</td>\n",
       "    </tr>\n",
       "    <tr>\n",
       "      <th>410</th>\n",
       "      <td>2021-W22</td>\n",
       "      <td>Resterende</td>\n",
       "      <td>0.00</td>\n",
       "      <td>0.00</td>\n",
       "    </tr>\n",
       "    <tr>\n",
       "      <th>428</th>\n",
       "      <td>2021-W23</td>\n",
       "      <td>Resterende</td>\n",
       "      <td>0.00</td>\n",
       "      <td>0.00</td>\n",
       "    </tr>\n",
       "    <tr>\n",
       "      <th>446</th>\n",
       "      <td>2021-W24</td>\n",
       "      <td>Resterende</td>\n",
       "      <td>0.00</td>\n",
       "      <td>0.00</td>\n",
       "    </tr>\n",
       "    <tr>\n",
       "      <th>498</th>\n",
       "      <td>2021-W27</td>\n",
       "      <td>Resterende</td>\n",
       "      <td>0.00</td>\n",
       "      <td>0.00</td>\n",
       "    </tr>\n",
       "    <tr>\n",
       "      <th>516</th>\n",
       "      <td>2021-W28</td>\n",
       "      <td>Resterende</td>\n",
       "      <td>0.00</td>\n",
       "      <td>0.00</td>\n",
       "    </tr>\n",
       "    <tr>\n",
       "      <th>534</th>\n",
       "      <td>2021-W29</td>\n",
       "      <td>Resterende</td>\n",
       "      <td>0.00</td>\n",
       "      <td>0.00</td>\n",
       "    </tr>\n",
       "    <tr>\n",
       "      <th>552</th>\n",
       "      <td>2021-W30</td>\n",
       "      <td>Resterende</td>\n",
       "      <td>0.00</td>\n",
       "      <td>0.00</td>\n",
       "    </tr>\n",
       "    <tr>\n",
       "      <th>604</th>\n",
       "      <td>2021-W33</td>\n",
       "      <td>Resterende</td>\n",
       "      <td>0.00</td>\n",
       "      <td>0.00</td>\n",
       "    </tr>\n",
       "    <tr>\n",
       "      <th>622</th>\n",
       "      <td>2021-W34</td>\n",
       "      <td>Resterende</td>\n",
       "      <td>0.00</td>\n",
       "      <td>0.00</td>\n",
       "    </tr>\n",
       "  </tbody>\n",
       "</table>\n",
       "</div>"
      ]
     },
     "metadata": {},
     "execution_count": 40
    }
   ],
   "metadata": {}
  },
  {
   "cell_type": "code",
   "execution_count": 41,
   "source": [
    "# Fungerer nok bedre som barchart\r\n",
    "\r\n",
    "\r\n",
    "# latestWeek = df_weekly.Ugenummer.max()\r\n",
    "# df_weekly[df_weekly.Ugenummer == latestWeek]\r\n",
    "\r\n",
    "# Data er i df_noegle\r\n",
    "\r\n",
    "allNone = []\r\n",
    "allOnce = []\r\n",
    "allFull = []\r\n",
    "\r\n",
    "\r\n",
    "for k in range(0,len(allGroups)):\r\n",
    "    curLabel = allGroups[k]\r\n",
    "    curdf = df_noegle[df_noegle['Målgruppe'] == allGroups[k]]\r\n",
    "\r\n",
    "    curPop = curdf.Population.astype(int).sum()\r\n",
    "\r\n",
    "    numOnce = curdf['Antal førstevaccinerede'].astype(int).sum()\r\n",
    "    numFull = curdf['Antal færdigvaccinerede'].astype(int).sum()\r\n",
    "    numNone = curPop - numOnce\r\n",
    "\r\n",
    "    allNone.append(numNone)\r\n",
    "    allOnce.append(numOnce)\r\n",
    "    allFull.append(numFull)\r\n",
    "# df_noegle\r\n",
    "# allFull\r\n",
    "\r\n",
    "fig,ax1 = plt.subplots()\r\n",
    "\r\n",
    "ax1.bar(allGroups,allNone,bottom=allOnce,color='k',label='Ikke vaccineret')\r\n",
    "ax1.bar(allGroups,allOnce,color='xkcd:light green',label='Første dosis')\r\n",
    "ax1.bar(allGroups,allFull,color='green',label='Færdigvaccineret')\r\n",
    "\r\n",
    "# ax1.set_xticklabels(fontsize=6)\r\n",
    "plt.xticks(fontsize= 8,rotation=90)\r\n",
    "# ax1.bar(range(0,len(allGroups)),allNone,bottom=allOnce)\r\n",
    "# ax1.bar(range(0,len(allGroups)),allOnce)\r\n",
    "\r\n",
    "ax1.ticklabel_format(axis='y',style='plain')\r\n",
    "\r\n",
    "ax1.legend()\r\n",
    "\r\n",
    "ax1.set_title('Hele landet')\r\n",
    "\r\n",
    "plt.tight_layout()\r\n",
    "\r\n",
    "\r\n",
    "if saveFigures:\r\n",
    "    plt.savefig('figsVacc/CountVacc_Danmark')"
   ],
   "outputs": [
    {
     "output_type": "display_data",
     "data": {
      "text/plain": [
       "Canvas(toolbar=Toolbar(toolitems=[('Home', 'Reset original view', 'home', 'home'), ('Back', 'Back to previous …"
      ],
      "application/vnd.jupyter.widget-view+json": {
       "version_major": 2,
       "version_minor": 0,
       "model_id": "df09b812e9174fff89c7a30d6d8bf340"
      }
     },
     "metadata": {}
    }
   ],
   "metadata": {}
  },
  {
   "cell_type": "code",
   "execution_count": 42,
   "source": [
    "curdf"
   ],
   "outputs": [
    {
     "output_type": "execute_result",
     "data": {
      "text/plain": [
       "      Målgruppe Ansættelsessted Bopælsregion Population  \\\n",
       "130  Resterende             NaN  Hovedstaden     237458   \n",
       "131  Resterende             NaN  Midtjylland     168811   \n",
       "132  Resterende             NaN  Nordjylland      68912   \n",
       "133  Resterende             NaN     Sjælland      97784   \n",
       "134  Resterende             NaN   Syddanmark     146612   \n",
       "\n",
       "    Antal førstevaccinerede Antal færdigvaccinerede  \\\n",
       "130                      13                       1   \n",
       "131                       7                       0   \n",
       "132                       1                       0   \n",
       "133                       2                       1   \n",
       "134                       4                       1   \n",
       "\n",
       "    Førstegangs vaccinerede dækning (%) Færdigvaccinerede dækning (%)  \n",
       "130                                 0.0                           0.0  \n",
       "131                                 0.0                           0.0  \n",
       "132                                 0.0                           0.0  \n",
       "133                                 0.0                           0.0  \n",
       "134                                 0.0                           0.0  "
      ],
      "text/html": [
       "<div>\n",
       "<style scoped>\n",
       "    .dataframe tbody tr th:only-of-type {\n",
       "        vertical-align: middle;\n",
       "    }\n",
       "\n",
       "    .dataframe tbody tr th {\n",
       "        vertical-align: top;\n",
       "    }\n",
       "\n",
       "    .dataframe thead th {\n",
       "        text-align: right;\n",
       "    }\n",
       "</style>\n",
       "<table border=\"1\" class=\"dataframe\">\n",
       "  <thead>\n",
       "    <tr style=\"text-align: right;\">\n",
       "      <th></th>\n",
       "      <th>Målgruppe</th>\n",
       "      <th>Ansættelsessted</th>\n",
       "      <th>Bopælsregion</th>\n",
       "      <th>Population</th>\n",
       "      <th>Antal førstevaccinerede</th>\n",
       "      <th>Antal færdigvaccinerede</th>\n",
       "      <th>Førstegangs vaccinerede dækning (%)</th>\n",
       "      <th>Færdigvaccinerede dækning (%)</th>\n",
       "    </tr>\n",
       "  </thead>\n",
       "  <tbody>\n",
       "    <tr>\n",
       "      <th>130</th>\n",
       "      <td>Resterende</td>\n",
       "      <td>NaN</td>\n",
       "      <td>Hovedstaden</td>\n",
       "      <td>237458</td>\n",
       "      <td>13</td>\n",
       "      <td>1</td>\n",
       "      <td>0.0</td>\n",
       "      <td>0.0</td>\n",
       "    </tr>\n",
       "    <tr>\n",
       "      <th>131</th>\n",
       "      <td>Resterende</td>\n",
       "      <td>NaN</td>\n",
       "      <td>Midtjylland</td>\n",
       "      <td>168811</td>\n",
       "      <td>7</td>\n",
       "      <td>0</td>\n",
       "      <td>0.0</td>\n",
       "      <td>0.0</td>\n",
       "    </tr>\n",
       "    <tr>\n",
       "      <th>132</th>\n",
       "      <td>Resterende</td>\n",
       "      <td>NaN</td>\n",
       "      <td>Nordjylland</td>\n",
       "      <td>68912</td>\n",
       "      <td>1</td>\n",
       "      <td>0</td>\n",
       "      <td>0.0</td>\n",
       "      <td>0.0</td>\n",
       "    </tr>\n",
       "    <tr>\n",
       "      <th>133</th>\n",
       "      <td>Resterende</td>\n",
       "      <td>NaN</td>\n",
       "      <td>Sjælland</td>\n",
       "      <td>97784</td>\n",
       "      <td>2</td>\n",
       "      <td>1</td>\n",
       "      <td>0.0</td>\n",
       "      <td>0.0</td>\n",
       "    </tr>\n",
       "    <tr>\n",
       "      <th>134</th>\n",
       "      <td>Resterende</td>\n",
       "      <td>NaN</td>\n",
       "      <td>Syddanmark</td>\n",
       "      <td>146612</td>\n",
       "      <td>4</td>\n",
       "      <td>1</td>\n",
       "      <td>0.0</td>\n",
       "      <td>0.0</td>\n",
       "    </tr>\n",
       "  </tbody>\n",
       "</table>\n",
       "</div>"
      ]
     },
     "metadata": {},
     "execution_count": 42
    }
   ],
   "metadata": {}
  },
  {
   "cell_type": "code",
   "execution_count": 43,
   "source": [
    "for reg in df_noegle['Bopælsregion'].unique():\r\n",
    "\r\n",
    "    allNone = []\r\n",
    "    allOnce = []\r\n",
    "    allFull = []\r\n",
    "\r\n",
    "    for k in range(0,len(allGroups)):\r\n",
    "        curLabel = allGroups[k]\r\n",
    "        curdf = df_noegle[df_noegle['Målgruppe'] == allGroups[k]]\r\n",
    "        curdf = curdf[curdf['Bopælsregion'] == reg]\r\n",
    "\r\n",
    "        curPop = curdf.Population.astype(int).sum()\r\n",
    "\r\n",
    "        numOnce = curdf['Antal førstevaccinerede'].astype(int).sum()\r\n",
    "        numFull = curdf['Antal færdigvaccinerede'].astype(int).sum()\r\n",
    "        numNone = curPop - numOnce\r\n",
    "\r\n",
    "        allNone.append(numNone)\r\n",
    "        allOnce.append(numOnce)\r\n",
    "        allFull.append(numFull)\r\n",
    "    # df_noegle\r\n",
    "    # allFull\r\n",
    "\r\n",
    "    fig,ax1 = plt.subplots()\r\n",
    "\r\n",
    "    ax1.bar(allGroups,allNone,bottom=allOnce,color='k',label='Ikke vaccineret')\r\n",
    "    ax1.bar(allGroups,allOnce,color='xkcd:light green',label='Første dosis')\r\n",
    "    ax1.bar(allGroups,allFull,color='green',label='Færdigvaccineret')\r\n",
    "\r\n",
    "    # ax1.set_xticklabels(fontsize=6)\r\n",
    "    plt.xticks(fontsize= 8,rotation=90)\r\n",
    "    # ax1.bar(range(0,len(allGroups)),allNone,bottom=allOnce)\r\n",
    "    # ax1.bar(range(0,len(allGroups)),allOnce)\r\n",
    "\r\n",
    "    ax1.ticklabel_format(axis='y',style='plain')\r\n",
    "\r\n",
    "    ax1.legend()\r\n",
    "\r\n",
    "    ax1.set_title(reg)\r\n",
    "\r\n",
    "    plt.tight_layout()\r\n",
    "\r\n",
    "    if saveFigures:\r\n",
    "        plt.savefig('figsVacc/CountVacc_'+reg)"
   ],
   "outputs": [
    {
     "output_type": "display_data",
     "data": {
      "text/plain": [
       "Canvas(toolbar=Toolbar(toolitems=[('Home', 'Reset original view', 'home', 'home'), ('Back', 'Back to previous …"
      ],
      "application/vnd.jupyter.widget-view+json": {
       "version_major": 2,
       "version_minor": 0,
       "model_id": "e0cb2c3182434c8d82f40ebe7ec9eaf0"
      }
     },
     "metadata": {}
    },
    {
     "output_type": "display_data",
     "data": {
      "text/plain": [
       "Canvas(toolbar=Toolbar(toolitems=[('Home', 'Reset original view', 'home', 'home'), ('Back', 'Back to previous …"
      ],
      "application/vnd.jupyter.widget-view+json": {
       "version_major": 2,
       "version_minor": 0,
       "model_id": "b5a53cabf3ad4259819d995423b1cf9b"
      }
     },
     "metadata": {}
    },
    {
     "output_type": "display_data",
     "data": {
      "text/plain": [
       "Canvas(toolbar=Toolbar(toolitems=[('Home', 'Reset original view', 'home', 'home'), ('Back', 'Back to previous …"
      ],
      "application/vnd.jupyter.widget-view+json": {
       "version_major": 2,
       "version_minor": 0,
       "model_id": "0585bde0af134f7d8f7df083e576bc8f"
      }
     },
     "metadata": {}
    },
    {
     "output_type": "display_data",
     "data": {
      "text/plain": [
       "Canvas(toolbar=Toolbar(toolitems=[('Home', 'Reset original view', 'home', 'home'), ('Back', 'Back to previous …"
      ],
      "application/vnd.jupyter.widget-view+json": {
       "version_major": 2,
       "version_minor": 0,
       "model_id": "c0aa7f2e91114312b89cab3bf673766f"
      }
     },
     "metadata": {}
    },
    {
     "output_type": "display_data",
     "data": {
      "text/plain": [
       "Canvas(toolbar=Toolbar(toolitems=[('Home', 'Reset original view', 'home', 'home'), ('Back', 'Back to previous …"
      ],
      "application/vnd.jupyter.widget-view+json": {
       "version_major": 2,
       "version_minor": 0,
       "model_id": "33b632affc574fa68e803d5180b4e840"
      }
     },
     "metadata": {}
    }
   ],
   "metadata": {}
  },
  {
   "cell_type": "code",
   "execution_count": 44,
   "source": [
    "# Fungerer nok bedre som barchart\r\n",
    "\r\n",
    "\r\n",
    "# latestWeek = df_weekly.Ugenummer.max()\r\n",
    "# df_weekly[df_weekly.Ugenummer == latestWeek]\r\n",
    "\r\n",
    "# Data er i df_noegle\r\n",
    "\r\n",
    "allNone = []\r\n",
    "allOnce = []\r\n",
    "allFull = []\r\n",
    "\r\n",
    "groupsToShow = allGroups[:-1]\r\n",
    "for k in range(0,len(groupsToShow)):\r\n",
    "    curLabel = groupsToShow[k]\r\n",
    "    curdf = df_noegle[df_noegle['Målgruppe'] == groupsToShow[k]]\r\n",
    "\r\n",
    "    curPop = curdf.Population.astype(int).sum()\r\n",
    "\r\n",
    "    numOnce = curdf['Antal førstevaccinerede'].astype(int).sum()\r\n",
    "    numFull = curdf['Antal færdigvaccinerede'].astype(int).sum()\r\n",
    "    numNone = curPop - numOnce\r\n",
    "\r\n",
    "    allNone.append(numNone)\r\n",
    "    allOnce.append(numOnce)\r\n",
    "    allFull.append(numFull)\r\n",
    "# df_noegle\r\n",
    "# allFull\r\n",
    "\r\n",
    "fig,ax1 = plt.subplots()\r\n",
    "\r\n",
    "ax1.bar(groupsToShow,allNone,color='k',label='Ikke vaccineret')\r\n",
    "# ax1.bar(groupsToShow,allOnce,bottom=allNone,color='xkcd:light green',label='Første dosis')\r\n",
    "# ax1.bar(groupsToShow,allFull,bottom=allNone,color='green',label='Færdigvaccineret')\r\n",
    "\r\n",
    "# ax1.set_xticklabels(fontsize=6)\r\n",
    "plt.xticks(fontsize= 8,rotation=90)\r\n",
    "# ax1.bar(range(0,len(allGroups)),allNone,bottom=allOnce)\r\n",
    "# ax1.bar(range(0,len(allGroups)),allOnce)\r\n",
    "\r\n",
    "ax1.ticklabel_format(axis='y',style='plain')\r\n",
    "\r\n",
    "ax1.legend()\r\n",
    "\r\n",
    "ax1.set_title('Hele landet')\r\n",
    "\r\n",
    "plt.tight_layout()\r\n",
    "\r\n",
    "\r\n",
    "if saveFigures:\r\n",
    "    plt.savefig('figsVacc/CountUvacc_Danmark')"
   ],
   "outputs": [
    {
     "output_type": "display_data",
     "data": {
      "text/plain": [
       "Canvas(toolbar=Toolbar(toolitems=[('Home', 'Reset original view', 'home', 'home'), ('Back', 'Back to previous …"
      ],
      "application/vnd.jupyter.widget-view+json": {
       "version_major": 2,
       "version_minor": 0,
       "model_id": "227eeffb0fd24aa687d06f47703792a5"
      }
     },
     "metadata": {}
    }
   ],
   "metadata": {}
  },
  {
   "cell_type": "code",
   "execution_count": 45,
   "source": [
    "# Fungerer nok bedre som barchart\r\n",
    "\r\n",
    "\r\n",
    "# latestWeek = df_weekly.Ugenummer.max()\r\n",
    "# df_weekly[df_weekly.Ugenummer == latestWeek]\r\n",
    "\r\n",
    "# Data er i df_noegle\r\n",
    "\r\n",
    "allNone = []\r\n",
    "allOnce = []\r\n",
    "allFull = []\r\n",
    "\r\n",
    "groupsToShow = allGroups[:-1]\r\n",
    "# groupsToShow = allGroups\r\n",
    "for k in range(0,len(groupsToShow)):\r\n",
    "    curLabel = groupsToShow[k]\r\n",
    "    curdf = df_noegle[df_noegle['Målgruppe'] == groupsToShow[k]]\r\n",
    "\r\n",
    "    curPop = curdf.Population.astype(int).sum()\r\n",
    "\r\n",
    "    numOnce = curdf['Antal førstevaccinerede'].astype(int).sum()\r\n",
    "    numFull = curdf['Antal færdigvaccinerede'].astype(int).sum()\r\n",
    "    numNone = curPop - numOnce\r\n",
    "\r\n",
    "    allNone.append(100*numNone/curPop)\r\n",
    "    allOnce.append(100*numOnce/curPop)\r\n",
    "    allFull.append(100*numFull/curPop)\r\n",
    "# df_noegle\r\n",
    "# allFull\r\n",
    "\r\n",
    "fig,ax1 = plt.subplots()\r\n",
    "\r\n",
    "ax1.bar(groupsToShow,allNone,color='k',label='Ikke vaccineret')\r\n",
    "# ax1.bar(groupsToShow,allOnce,bottom=allNone,color='xkcd:light green',label='Første dosis')\r\n",
    "# ax1.bar(groupsToShow,allFull,bottom=allNone,color='green',label='Færdigvaccineret')\r\n",
    "\r\n",
    "# ax1.set_xticklabels(fontsize=6)\r\n",
    "plt.xticks(fontsize= 8,rotation=90)\r\n",
    "# ax1.bar(range(0,len(allGroups)),allNone,bottom=allOnce)\r\n",
    "# ax1.bar(range(0,len(allGroups)),allOnce)\r\n",
    "\r\n",
    "ax1.ticklabel_format(axis='y',style='plain')\r\n",
    "\r\n",
    "# ax1.legend()\r\n",
    "ax1.set_ylabel('Andel uvaccinerede [%]')\r\n",
    "\r\n",
    "ax1.set_title('Hele landet')\r\n",
    "\r\n",
    "plt.tight_layout()\r\n",
    "\r\n",
    "\r\n",
    "if saveFigures:\r\n",
    "    plt.savefig('figsVacc/CountUvacc_Danmark_Norm')"
   ],
   "outputs": [
    {
     "output_type": "display_data",
     "data": {
      "text/plain": [
       "Canvas(toolbar=Toolbar(toolitems=[('Home', 'Reset original view', 'home', 'home'), ('Back', 'Back to previous …"
      ],
      "application/vnd.jupyter.widget-view+json": {
       "version_major": 2,
       "version_minor": 0,
       "model_id": "75aa8e43f4a64401a5677c5fb80725c3"
      }
     },
     "metadata": {}
    }
   ],
   "metadata": {}
  },
  {
   "cell_type": "code",
   "execution_count": 46,
   "source": [
    "dfCase = pd.read_csv('DKDailyAgeCase.csv')\r\n",
    "# dfDeath.to_csv('DKDailyAgeDeath.csv')\r\n",
    "dfCase.Dato = pd.to_datetime(dfCase.Dato)"
   ],
   "outputs": [],
   "metadata": {}
  },
  {
   "cell_type": "code",
   "execution_count": 47,
   "source": [
    "allGroups"
   ],
   "outputs": [
    {
     "output_type": "execute_result",
     "data": {
      "text/plain": [
       "array(['1. Plejehjemsbeboere', '11. Personer fra årgang 2006-2009',\n",
       "       '2. Borgere > 65, praktisk hjælp og personlig pleje',\n",
       "       '3. Borgere fra årgang 1936 og derunder (85 år og ældre)',\n",
       "       '4. Personale i sundhedsvæsenet og dele af socialvæsenet',\n",
       "       '5. Udvalgte patienter med særligt øget risiko',\n",
       "       '6. Udvalgte pårørende til personer med særligt øget risiko',\n",
       "       '7. Personer fra årgang 1937-1941',\n",
       "       '8. Personer fra årgang 1942-1946',\n",
       "       '9. Personer fra årgang 1947-1956',\n",
       "       '10A. Personer fra årgang 1957-1961',\n",
       "       '10B. Personer fra årgang 1962-1966',\n",
       "       '10C. Personer fra årgang 1967-1971',\n",
       "       '10D1. Personer fra årgang 1972-1976 og årgang 2002-2005',\n",
       "       '10D2. Personer fra årgang 1977-1981 og årgang 1997-2001',\n",
       "       '10D3. Personer fra årgang 1982-1986 og årgang 1992-1996',\n",
       "       '10D4. Personer fra årgang 1987-1991', 'Resterende'], dtype=object)"
      ]
     },
     "metadata": {},
     "execution_count": 47
    }
   ],
   "metadata": {}
  },
  {
   "cell_type": "code",
   "execution_count": 48,
   "source": [
    "fig,(ax1,ax2) = plt.subplots(2,1,sharex=True)\r\n",
    "\r\n",
    "ax1.plot(dfCase.Dato,dfCase['20-29'])\r\n",
    "# ax1.plot(dfCase.Dato,dfCase['50-59'])\r\n",
    "\r\n",
    "\r\n",
    "# for k in range(7,16):\r\n",
    "# for k in range(0,len(allGroups)-1):\r\n",
    "\r\n",
    "k = 14\r\n",
    "print(allGroups[k])\r\n",
    "curdf = df_weekly[df_weekly['Målgruppe'] == allGroups[k]]\r\n",
    "\r\n",
    "curPop = df_noegle[df_noegle['Målgruppe'] == allGroups[k]].Population.astype(int).sum()\r\n",
    "\r\n",
    "curLabel = allGroups[k]\r\n",
    "\r\n",
    "ageWeekDays = curdf.Ugenummer.apply(lambda x: np.datetime64(datetime.datetime.strptime(x + '-1', \"%Y-W%W-%w\")))\r\n",
    "\r\n",
    "ageVaccOnce = pd.to_numeric(curdf['Dækning førstegangsvaccinerede (kumulativt i %)'])\r\n",
    "ageVaccFull = pd.to_numeric(curdf['Dækning færdigvaccinerede (kumulativt i %)'])\r\n",
    "\r\n",
    "numOnce = curPop * (ageVaccOnce.values/100)\r\n",
    "numFull = curPop * (ageVaccFull/100)\r\n",
    "numNone = curPop * (100 - ageVaccOnce.values)/100\r\n",
    "\r\n",
    "ax2.plot(ageWeekDays,curPop*np.ones(numFull.shape),color='grey') \r\n",
    "ax2.plot(ageWeekDays,numOnce,color='xkcd:light green') \r\n",
    "ax2.plot(ageWeekDays,numFull,color='g') \r\n",
    "\r\n",
    "k = 13\r\n",
    "curdf = df_weekly[df_weekly['Målgruppe'] == allGroups[k]]\r\n",
    "\r\n",
    "curPop = df_noegle[df_noegle['Målgruppe'] == allGroups[k]].Population.astype(int).sum()\r\n",
    "\r\n",
    "curLabel = allGroups[k]\r\n",
    "\r\n",
    "ageWeekDays = curdf.Ugenummer.apply(lambda x: np.datetime64(datetime.datetime.strptime(x + '-1', \"%Y-W%W-%w\")))\r\n",
    "\r\n",
    "ageVaccOnce = pd.to_numeric(curdf['Dækning førstegangsvaccinerede (kumulativt i %)'])\r\n",
    "ageVaccFull = pd.to_numeric(curdf['Dækning færdigvaccinerede (kumulativt i %)'])\r\n",
    "\r\n",
    "numOnce = curPop * (ageVaccOnce.values/100)\r\n",
    "numFull = curPop * (ageVaccFull/100)\r\n",
    "numNone = curPop * (100 - ageVaccOnce.values)/100\r\n",
    "\r\n",
    "ax2.plot(ageWeekDays,curPop*np.ones(numFull.shape),color='grey') \r\n",
    "ax2.plot(ageWeekDays,numOnce,color='xkcd:light green') \r\n",
    "ax2.plot(ageWeekDays,numFull,color='g') \r\n",
    "\r\n",
    "ax2.set_ylabel(curLabel)\r\n",
    "\r\n",
    "ax1.set_ylim(bottom=0)"
   ],
   "outputs": [
    {
     "output_type": "display_data",
     "data": {
      "text/plain": [
       "Canvas(toolbar=Toolbar(toolitems=[('Home', 'Reset original view', 'home', 'home'), ('Back', 'Back to previous …"
      ],
      "application/vnd.jupyter.widget-view+json": {
       "version_major": 2,
       "version_minor": 0,
       "model_id": "1d17c751e99d4014a7d2290e24ca4e9a"
      }
     },
     "metadata": {}
    },
    {
     "output_type": "stream",
     "name": "stdout",
     "text": [
      "10D2. Personer fra årgang 1977-1981 og årgang 1997-2001\n"
     ]
    },
    {
     "output_type": "execute_result",
     "data": {
      "text/plain": [
       "(0.0, 678.05)"
      ]
     },
     "metadata": {},
     "execution_count": 48
    }
   ],
   "metadata": {}
  },
  {
   "cell_type": "code",
   "execution_count": 49,
   "source": [
    "df_weekly"
   ],
   "outputs": [
    {
     "output_type": "execute_result",
     "data": {
      "text/plain": [
       "    Ugenummer                                          Målgruppe  \\\n",
       "9    2020-W51                 10A. Personer fra årgang 1957-1961   \n",
       "10   2020-W51                 10B. Personer fra årgang 1962-1966   \n",
       "11   2020-W51                 10C. Personer fra årgang 1967-1971   \n",
       "12   2020-W51  10D1. Personer fra årgang 1972-1976 og årgang ...   \n",
       "13   2020-W51  10D2. Personer fra årgang 1977-1981 og årgang ...   \n",
       "14   2020-W51  10D3. Personer fra årgang 1982-1986 og årgang ...   \n",
       "15   2020-W51                10D4. Personer fra årgang 1987-1991   \n",
       "16   2020-W51                  11. Personer fra årgang 2006-2009   \n",
       "3    2020-W51  4. Personale i sundhedsvæsenet og dele af soci...   \n",
       "4    2020-W51      5. Udvalgte patienter med særligt øget risiko   \n",
       "5    2020-W51  6. Udvalgte pårørende til personer med særligt...   \n",
       "6    2020-W51                   7. Personer fra årgang 1937-1941   \n",
       "7    2020-W51                   8. Personer fra årgang 1942-1946   \n",
       "8    2020-W51                   9. Personer fra årgang 1947-1956   \n",
       "17   2020-W52                               1. Plejehjemsbeboere   \n",
       "26   2020-W52                 10A. Personer fra årgang 1957-1961   \n",
       "27   2020-W52                 10B. Personer fra årgang 1962-1966   \n",
       "28   2020-W52                 10C. Personer fra årgang 1967-1971   \n",
       "29   2020-W52  10D1. Personer fra årgang 1972-1976 og årgang ...   \n",
       "30   2020-W52  10D2. Personer fra årgang 1977-1981 og årgang ...   \n",
       "31   2020-W52  10D3. Personer fra årgang 1982-1986 og årgang ...   \n",
       "32   2020-W52                10D4. Personer fra årgang 1987-1991   \n",
       "18   2020-W52  2. Borgere > 65, praktisk hjælp og personlig p...   \n",
       "19   2020-W52  3. Borgere fra årgang 1936 og derunder (85 år ...   \n",
       "20   2020-W52  4. Personale i sundhedsvæsenet og dele af soci...   \n",
       "..        ...                                                ...   \n",
       "590  2021-W33  4. Personale i sundhedsvæsenet og dele af soci...   \n",
       "591  2021-W33      5. Udvalgte patienter med særligt øget risiko   \n",
       "592  2021-W33  6. Udvalgte pårørende til personer med særligt...   \n",
       "593  2021-W33                   7. Personer fra årgang 1937-1941   \n",
       "594  2021-W33                   8. Personer fra årgang 1942-1946   \n",
       "595  2021-W33                   9. Personer fra årgang 1947-1956   \n",
       "604  2021-W33                                         Resterende   \n",
       "605  2021-W34                               1. Plejehjemsbeboere   \n",
       "614  2021-W34                 10A. Personer fra årgang 1957-1961   \n",
       "615  2021-W34                 10B. Personer fra årgang 1962-1966   \n",
       "616  2021-W34                 10C. Personer fra årgang 1967-1971   \n",
       "617  2021-W34  10D1. Personer fra årgang 1972-1976 og årgang ...   \n",
       "618  2021-W34  10D2. Personer fra årgang 1977-1981 og årgang ...   \n",
       "619  2021-W34  10D3. Personer fra årgang 1982-1986 og årgang ...   \n",
       "620  2021-W34                10D4. Personer fra årgang 1987-1991   \n",
       "621  2021-W34                  11. Personer fra årgang 2006-2009   \n",
       "606  2021-W34  2. Borgere > 65, praktisk hjælp og personlig p...   \n",
       "607  2021-W34  3. Borgere fra årgang 1936 og derunder (85 år ...   \n",
       "608  2021-W34  4. Personale i sundhedsvæsenet og dele af soci...   \n",
       "609  2021-W34      5. Udvalgte patienter med særligt øget risiko   \n",
       "610  2021-W34  6. Udvalgte pårørende til personer med særligt...   \n",
       "611  2021-W34                   7. Personer fra årgang 1937-1941   \n",
       "612  2021-W34                   8. Personer fra årgang 1942-1946   \n",
       "613  2021-W34                   9. Personer fra årgang 1947-1956   \n",
       "622  2021-W34                                         Resterende   \n",
       "\n",
       "    Dækning førstegangsvaccinerede (kumulativt i %)  \\\n",
       "9                                              0.00   \n",
       "10                                             0.00   \n",
       "11                                             0.00   \n",
       "12                                             0.00   \n",
       "13                                             0.00   \n",
       "14                                             0.00   \n",
       "15                                             0.00   \n",
       "16                                             0.00   \n",
       "3                                              0.00   \n",
       "4                                              0.00   \n",
       "5                                              0.00   \n",
       "6                                              0.00   \n",
       "7                                              0.00   \n",
       "8                                              0.00   \n",
       "17                                             4.85   \n",
       "26                                             0.01   \n",
       "27                                             0.01   \n",
       "28                                             0.01   \n",
       "29                                             0.00   \n",
       "30                                             0.01   \n",
       "31                                             0.00   \n",
       "32                                             0.00   \n",
       "18                                             0.00   \n",
       "19                                             0.00   \n",
       "20                                             1.24   \n",
       "..                                              ...   \n",
       "590                                           99.00   \n",
       "591                                           95.30   \n",
       "592                                           90.35   \n",
       "593                                           96.97   \n",
       "594                                           97.00   \n",
       "595                                           95.96   \n",
       "604                                            0.00   \n",
       "605                                           96.13   \n",
       "614                                           93.50   \n",
       "615                                           92.01   \n",
       "616                                           90.41   \n",
       "617                                           86.18   \n",
       "618                                           80.40   \n",
       "619                                           73.75   \n",
       "620                                           70.89   \n",
       "621                                           56.35   \n",
       "606                                           93.51   \n",
       "607                                           96.22   \n",
       "608                                           99.00   \n",
       "609                                           95.39   \n",
       "610                                           90.35   \n",
       "611                                           97.02   \n",
       "612                                           97.05   \n",
       "613                                           96.02   \n",
       "622                                            0.00   \n",
       "\n",
       "    Dækning færdigvaccinerede (kumulativt i %)  \n",
       "9                                         0.00  \n",
       "10                                        0.00  \n",
       "11                                        0.00  \n",
       "12                                        0.00  \n",
       "13                                        0.00  \n",
       "14                                        0.00  \n",
       "15                                        0.00  \n",
       "16                                        0.00  \n",
       "3                                         0.00  \n",
       "4                                         0.00  \n",
       "5                                         0.00  \n",
       "6                                         0.00  \n",
       "7                                         0.00  \n",
       "8                                         0.00  \n",
       "17                                        0.00  \n",
       "26                                        0.00  \n",
       "27                                        0.00  \n",
       "28                                        0.00  \n",
       "29                                        0.00  \n",
       "30                                        0.00  \n",
       "31                                        0.00  \n",
       "32                                        0.00  \n",
       "18                                        0.00  \n",
       "19                                        0.00  \n",
       "20                                        0.00  \n",
       "..                                         ...  \n",
       "590                                      98.16  \n",
       "591                                      94.51  \n",
       "592                                      89.97  \n",
       "593                                      96.74  \n",
       "594                                      96.76  \n",
       "595                                      95.59  \n",
       "604                                       0.00  \n",
       "605                                      94.99  \n",
       "614                                      92.79  \n",
       "615                                      91.02  \n",
       "616                                      89.00  \n",
       "617                                      82.50  \n",
       "618                                      75.47  \n",
       "619                                      64.35  \n",
       "620                                      58.84  \n",
       "621                                      33.18  \n",
       "606                                      92.53  \n",
       "607                                      95.90  \n",
       "608                                      98.27  \n",
       "609                                      94.68  \n",
       "610                                      89.97  \n",
       "611                                      96.78  \n",
       "612                                      96.82  \n",
       "613                                      95.67  \n",
       "622                                       0.00  \n",
       "\n",
       "[620 rows x 4 columns]"
      ],
      "text/html": [
       "<div>\n",
       "<style scoped>\n",
       "    .dataframe tbody tr th:only-of-type {\n",
       "        vertical-align: middle;\n",
       "    }\n",
       "\n",
       "    .dataframe tbody tr th {\n",
       "        vertical-align: top;\n",
       "    }\n",
       "\n",
       "    .dataframe thead th {\n",
       "        text-align: right;\n",
       "    }\n",
       "</style>\n",
       "<table border=\"1\" class=\"dataframe\">\n",
       "  <thead>\n",
       "    <tr style=\"text-align: right;\">\n",
       "      <th></th>\n",
       "      <th>Ugenummer</th>\n",
       "      <th>Målgruppe</th>\n",
       "      <th>Dækning førstegangsvaccinerede (kumulativt i %)</th>\n",
       "      <th>Dækning færdigvaccinerede (kumulativt i %)</th>\n",
       "    </tr>\n",
       "  </thead>\n",
       "  <tbody>\n",
       "    <tr>\n",
       "      <th>9</th>\n",
       "      <td>2020-W51</td>\n",
       "      <td>10A. Personer fra årgang 1957-1961</td>\n",
       "      <td>0.00</td>\n",
       "      <td>0.00</td>\n",
       "    </tr>\n",
       "    <tr>\n",
       "      <th>10</th>\n",
       "      <td>2020-W51</td>\n",
       "      <td>10B. Personer fra årgang 1962-1966</td>\n",
       "      <td>0.00</td>\n",
       "      <td>0.00</td>\n",
       "    </tr>\n",
       "    <tr>\n",
       "      <th>11</th>\n",
       "      <td>2020-W51</td>\n",
       "      <td>10C. Personer fra årgang 1967-1971</td>\n",
       "      <td>0.00</td>\n",
       "      <td>0.00</td>\n",
       "    </tr>\n",
       "    <tr>\n",
       "      <th>12</th>\n",
       "      <td>2020-W51</td>\n",
       "      <td>10D1. Personer fra årgang 1972-1976 og årgang ...</td>\n",
       "      <td>0.00</td>\n",
       "      <td>0.00</td>\n",
       "    </tr>\n",
       "    <tr>\n",
       "      <th>13</th>\n",
       "      <td>2020-W51</td>\n",
       "      <td>10D2. Personer fra årgang 1977-1981 og årgang ...</td>\n",
       "      <td>0.00</td>\n",
       "      <td>0.00</td>\n",
       "    </tr>\n",
       "    <tr>\n",
       "      <th>14</th>\n",
       "      <td>2020-W51</td>\n",
       "      <td>10D3. Personer fra årgang 1982-1986 og årgang ...</td>\n",
       "      <td>0.00</td>\n",
       "      <td>0.00</td>\n",
       "    </tr>\n",
       "    <tr>\n",
       "      <th>15</th>\n",
       "      <td>2020-W51</td>\n",
       "      <td>10D4. Personer fra årgang 1987-1991</td>\n",
       "      <td>0.00</td>\n",
       "      <td>0.00</td>\n",
       "    </tr>\n",
       "    <tr>\n",
       "      <th>16</th>\n",
       "      <td>2020-W51</td>\n",
       "      <td>11. Personer fra årgang 2006-2009</td>\n",
       "      <td>0.00</td>\n",
       "      <td>0.00</td>\n",
       "    </tr>\n",
       "    <tr>\n",
       "      <th>3</th>\n",
       "      <td>2020-W51</td>\n",
       "      <td>4. Personale i sundhedsvæsenet og dele af soci...</td>\n",
       "      <td>0.00</td>\n",
       "      <td>0.00</td>\n",
       "    </tr>\n",
       "    <tr>\n",
       "      <th>4</th>\n",
       "      <td>2020-W51</td>\n",
       "      <td>5. Udvalgte patienter med særligt øget risiko</td>\n",
       "      <td>0.00</td>\n",
       "      <td>0.00</td>\n",
       "    </tr>\n",
       "    <tr>\n",
       "      <th>5</th>\n",
       "      <td>2020-W51</td>\n",
       "      <td>6. Udvalgte pårørende til personer med særligt...</td>\n",
       "      <td>0.00</td>\n",
       "      <td>0.00</td>\n",
       "    </tr>\n",
       "    <tr>\n",
       "      <th>6</th>\n",
       "      <td>2020-W51</td>\n",
       "      <td>7. Personer fra årgang 1937-1941</td>\n",
       "      <td>0.00</td>\n",
       "      <td>0.00</td>\n",
       "    </tr>\n",
       "    <tr>\n",
       "      <th>7</th>\n",
       "      <td>2020-W51</td>\n",
       "      <td>8. Personer fra årgang 1942-1946</td>\n",
       "      <td>0.00</td>\n",
       "      <td>0.00</td>\n",
       "    </tr>\n",
       "    <tr>\n",
       "      <th>8</th>\n",
       "      <td>2020-W51</td>\n",
       "      <td>9. Personer fra årgang 1947-1956</td>\n",
       "      <td>0.00</td>\n",
       "      <td>0.00</td>\n",
       "    </tr>\n",
       "    <tr>\n",
       "      <th>17</th>\n",
       "      <td>2020-W52</td>\n",
       "      <td>1. Plejehjemsbeboere</td>\n",
       "      <td>4.85</td>\n",
       "      <td>0.00</td>\n",
       "    </tr>\n",
       "    <tr>\n",
       "      <th>26</th>\n",
       "      <td>2020-W52</td>\n",
       "      <td>10A. Personer fra årgang 1957-1961</td>\n",
       "      <td>0.01</td>\n",
       "      <td>0.00</td>\n",
       "    </tr>\n",
       "    <tr>\n",
       "      <th>27</th>\n",
       "      <td>2020-W52</td>\n",
       "      <td>10B. Personer fra årgang 1962-1966</td>\n",
       "      <td>0.01</td>\n",
       "      <td>0.00</td>\n",
       "    </tr>\n",
       "    <tr>\n",
       "      <th>28</th>\n",
       "      <td>2020-W52</td>\n",
       "      <td>10C. Personer fra årgang 1967-1971</td>\n",
       "      <td>0.01</td>\n",
       "      <td>0.00</td>\n",
       "    </tr>\n",
       "    <tr>\n",
       "      <th>29</th>\n",
       "      <td>2020-W52</td>\n",
       "      <td>10D1. Personer fra årgang 1972-1976 og årgang ...</td>\n",
       "      <td>0.00</td>\n",
       "      <td>0.00</td>\n",
       "    </tr>\n",
       "    <tr>\n",
       "      <th>30</th>\n",
       "      <td>2020-W52</td>\n",
       "      <td>10D2. Personer fra årgang 1977-1981 og årgang ...</td>\n",
       "      <td>0.01</td>\n",
       "      <td>0.00</td>\n",
       "    </tr>\n",
       "    <tr>\n",
       "      <th>31</th>\n",
       "      <td>2020-W52</td>\n",
       "      <td>10D3. Personer fra årgang 1982-1986 og årgang ...</td>\n",
       "      <td>0.00</td>\n",
       "      <td>0.00</td>\n",
       "    </tr>\n",
       "    <tr>\n",
       "      <th>32</th>\n",
       "      <td>2020-W52</td>\n",
       "      <td>10D4. Personer fra årgang 1987-1991</td>\n",
       "      <td>0.00</td>\n",
       "      <td>0.00</td>\n",
       "    </tr>\n",
       "    <tr>\n",
       "      <th>18</th>\n",
       "      <td>2020-W52</td>\n",
       "      <td>2. Borgere &gt; 65, praktisk hjælp og personlig p...</td>\n",
       "      <td>0.00</td>\n",
       "      <td>0.00</td>\n",
       "    </tr>\n",
       "    <tr>\n",
       "      <th>19</th>\n",
       "      <td>2020-W52</td>\n",
       "      <td>3. Borgere fra årgang 1936 og derunder (85 år ...</td>\n",
       "      <td>0.00</td>\n",
       "      <td>0.00</td>\n",
       "    </tr>\n",
       "    <tr>\n",
       "      <th>20</th>\n",
       "      <td>2020-W52</td>\n",
       "      <td>4. Personale i sundhedsvæsenet og dele af soci...</td>\n",
       "      <td>1.24</td>\n",
       "      <td>0.00</td>\n",
       "    </tr>\n",
       "    <tr>\n",
       "      <th>...</th>\n",
       "      <td>...</td>\n",
       "      <td>...</td>\n",
       "      <td>...</td>\n",
       "      <td>...</td>\n",
       "    </tr>\n",
       "    <tr>\n",
       "      <th>590</th>\n",
       "      <td>2021-W33</td>\n",
       "      <td>4. Personale i sundhedsvæsenet og dele af soci...</td>\n",
       "      <td>99.00</td>\n",
       "      <td>98.16</td>\n",
       "    </tr>\n",
       "    <tr>\n",
       "      <th>591</th>\n",
       "      <td>2021-W33</td>\n",
       "      <td>5. Udvalgte patienter med særligt øget risiko</td>\n",
       "      <td>95.30</td>\n",
       "      <td>94.51</td>\n",
       "    </tr>\n",
       "    <tr>\n",
       "      <th>592</th>\n",
       "      <td>2021-W33</td>\n",
       "      <td>6. Udvalgte pårørende til personer med særligt...</td>\n",
       "      <td>90.35</td>\n",
       "      <td>89.97</td>\n",
       "    </tr>\n",
       "    <tr>\n",
       "      <th>593</th>\n",
       "      <td>2021-W33</td>\n",
       "      <td>7. Personer fra årgang 1937-1941</td>\n",
       "      <td>96.97</td>\n",
       "      <td>96.74</td>\n",
       "    </tr>\n",
       "    <tr>\n",
       "      <th>594</th>\n",
       "      <td>2021-W33</td>\n",
       "      <td>8. Personer fra årgang 1942-1946</td>\n",
       "      <td>97.00</td>\n",
       "      <td>96.76</td>\n",
       "    </tr>\n",
       "    <tr>\n",
       "      <th>595</th>\n",
       "      <td>2021-W33</td>\n",
       "      <td>9. Personer fra årgang 1947-1956</td>\n",
       "      <td>95.96</td>\n",
       "      <td>95.59</td>\n",
       "    </tr>\n",
       "    <tr>\n",
       "      <th>604</th>\n",
       "      <td>2021-W33</td>\n",
       "      <td>Resterende</td>\n",
       "      <td>0.00</td>\n",
       "      <td>0.00</td>\n",
       "    </tr>\n",
       "    <tr>\n",
       "      <th>605</th>\n",
       "      <td>2021-W34</td>\n",
       "      <td>1. Plejehjemsbeboere</td>\n",
       "      <td>96.13</td>\n",
       "      <td>94.99</td>\n",
       "    </tr>\n",
       "    <tr>\n",
       "      <th>614</th>\n",
       "      <td>2021-W34</td>\n",
       "      <td>10A. Personer fra årgang 1957-1961</td>\n",
       "      <td>93.50</td>\n",
       "      <td>92.79</td>\n",
       "    </tr>\n",
       "    <tr>\n",
       "      <th>615</th>\n",
       "      <td>2021-W34</td>\n",
       "      <td>10B. Personer fra årgang 1962-1966</td>\n",
       "      <td>92.01</td>\n",
       "      <td>91.02</td>\n",
       "    </tr>\n",
       "    <tr>\n",
       "      <th>616</th>\n",
       "      <td>2021-W34</td>\n",
       "      <td>10C. Personer fra årgang 1967-1971</td>\n",
       "      <td>90.41</td>\n",
       "      <td>89.00</td>\n",
       "    </tr>\n",
       "    <tr>\n",
       "      <th>617</th>\n",
       "      <td>2021-W34</td>\n",
       "      <td>10D1. Personer fra årgang 1972-1976 og årgang ...</td>\n",
       "      <td>86.18</td>\n",
       "      <td>82.50</td>\n",
       "    </tr>\n",
       "    <tr>\n",
       "      <th>618</th>\n",
       "      <td>2021-W34</td>\n",
       "      <td>10D2. Personer fra årgang 1977-1981 og årgang ...</td>\n",
       "      <td>80.40</td>\n",
       "      <td>75.47</td>\n",
       "    </tr>\n",
       "    <tr>\n",
       "      <th>619</th>\n",
       "      <td>2021-W34</td>\n",
       "      <td>10D3. Personer fra årgang 1982-1986 og årgang ...</td>\n",
       "      <td>73.75</td>\n",
       "      <td>64.35</td>\n",
       "    </tr>\n",
       "    <tr>\n",
       "      <th>620</th>\n",
       "      <td>2021-W34</td>\n",
       "      <td>10D4. Personer fra årgang 1987-1991</td>\n",
       "      <td>70.89</td>\n",
       "      <td>58.84</td>\n",
       "    </tr>\n",
       "    <tr>\n",
       "      <th>621</th>\n",
       "      <td>2021-W34</td>\n",
       "      <td>11. Personer fra årgang 2006-2009</td>\n",
       "      <td>56.35</td>\n",
       "      <td>33.18</td>\n",
       "    </tr>\n",
       "    <tr>\n",
       "      <th>606</th>\n",
       "      <td>2021-W34</td>\n",
       "      <td>2. Borgere &gt; 65, praktisk hjælp og personlig p...</td>\n",
       "      <td>93.51</td>\n",
       "      <td>92.53</td>\n",
       "    </tr>\n",
       "    <tr>\n",
       "      <th>607</th>\n",
       "      <td>2021-W34</td>\n",
       "      <td>3. Borgere fra årgang 1936 og derunder (85 år ...</td>\n",
       "      <td>96.22</td>\n",
       "      <td>95.90</td>\n",
       "    </tr>\n",
       "    <tr>\n",
       "      <th>608</th>\n",
       "      <td>2021-W34</td>\n",
       "      <td>4. Personale i sundhedsvæsenet og dele af soci...</td>\n",
       "      <td>99.00</td>\n",
       "      <td>98.27</td>\n",
       "    </tr>\n",
       "    <tr>\n",
       "      <th>609</th>\n",
       "      <td>2021-W34</td>\n",
       "      <td>5. Udvalgte patienter med særligt øget risiko</td>\n",
       "      <td>95.39</td>\n",
       "      <td>94.68</td>\n",
       "    </tr>\n",
       "    <tr>\n",
       "      <th>610</th>\n",
       "      <td>2021-W34</td>\n",
       "      <td>6. Udvalgte pårørende til personer med særligt...</td>\n",
       "      <td>90.35</td>\n",
       "      <td>89.97</td>\n",
       "    </tr>\n",
       "    <tr>\n",
       "      <th>611</th>\n",
       "      <td>2021-W34</td>\n",
       "      <td>7. Personer fra årgang 1937-1941</td>\n",
       "      <td>97.02</td>\n",
       "      <td>96.78</td>\n",
       "    </tr>\n",
       "    <tr>\n",
       "      <th>612</th>\n",
       "      <td>2021-W34</td>\n",
       "      <td>8. Personer fra årgang 1942-1946</td>\n",
       "      <td>97.05</td>\n",
       "      <td>96.82</td>\n",
       "    </tr>\n",
       "    <tr>\n",
       "      <th>613</th>\n",
       "      <td>2021-W34</td>\n",
       "      <td>9. Personer fra årgang 1947-1956</td>\n",
       "      <td>96.02</td>\n",
       "      <td>95.67</td>\n",
       "    </tr>\n",
       "    <tr>\n",
       "      <th>622</th>\n",
       "      <td>2021-W34</td>\n",
       "      <td>Resterende</td>\n",
       "      <td>0.00</td>\n",
       "      <td>0.00</td>\n",
       "    </tr>\n",
       "  </tbody>\n",
       "</table>\n",
       "<p>620 rows × 4 columns</p>\n",
       "</div>"
      ]
     },
     "metadata": {},
     "execution_count": 49
    }
   ],
   "metadata": {}
  },
  {
   "cell_type": "code",
   "execution_count": null,
   "source": [],
   "outputs": [],
   "metadata": {}
  }
 ]
}