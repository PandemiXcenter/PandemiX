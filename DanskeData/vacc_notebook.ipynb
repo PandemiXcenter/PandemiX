{
 "metadata": {
  "language_info": {
   "codemirror_mode": {
    "name": "ipython",
    "version": 3
   },
   "file_extension": ".py",
   "mimetype": "text/x-python",
   "name": "python",
   "nbconvert_exporter": "python",
   "pygments_lexer": "ipython3",
   "version": "3.8.5"
  },
  "orig_nbformat": 2,
  "kernelspec": {
   "name": "python3",
   "display_name": "Python 3.8.5 64-bit ('main': conda)"
  },
  "interpreter": {
   "hash": "c72cdf52cb3d31f207bca538e9396da8706c0ecf4a3038fb1c2b317934170431"
  }
 },
 "nbformat": 4,
 "nbformat_minor": 2,
 "cells": [
  {
   "cell_type": "code",
   "execution_count": 1,
   "source": [
    "# Notebook til at undersøge vaccinationsdata\r\n",
    "import numpy as np\r\n",
    "import pandas as pd\r\n",
    "pd.set_option('display.max_rows', 500)\r\n",
    "pd.set_option('display.min_rows', 50)\r\n",
    "\r\n",
    "\r\n",
    "import matplotlib.pyplot as plt\r\n",
    "%matplotlib widget\r\n",
    "plt.rcParams['figure.figsize'] = (12,8)\r\n",
    "plt.rcParams[\"image.cmap\"] = \"tab10\"\r\n",
    "plt.rcParams['axes.prop_cycle'] = plt.cycler(color=plt.cm.tab10.colors)\r\n",
    "fs_label = 16\r\n",
    "parameters = {\r\n",
    "                'axes.labelsize': fs_label,\r\n",
    "                'axes.titlesize': fs_label+4,\r\n",
    "                'xtick.labelsize': fs_label,\r\n",
    "                'ytick.labelsize': fs_label, \r\n",
    "                'legend.fontsize': fs_label, \r\n",
    "                'lines.markersize': 10,\r\n",
    "                'lines.linewidth': 3\r\n",
    "             }\r\n",
    "plt.rcParams.update(parameters)\r\n",
    "%matplotlib widget\r\n",
    "import matplotlib.colors as colors\r\n",
    "from matplotlib import cm # Colormaps\r\n",
    "\r\n",
    "cmap = cm.get_cmap('Dark2',7)\r\n",
    "\r\n",
    "import locale\r\n",
    "import matplotlib.dates as mdates\r\n",
    "locale.setlocale(locale.LC_TIME,\"Danish\")\r\n",
    "# ax = plt.gca()\r\n",
    "# ax1.xaxis.set_major_formatter(mdates.DateFormatter('%b\\n%Y'))\r\n",
    "# # ax.xaxis.set_major_formatter(mdates.DateFormatter('%Y \\n %B'))\r\n",
    "\r\n",
    "\r\n",
    "import os\r\n",
    "import math\r\n",
    "\r\n",
    "from datetime import date\r\n",
    "import datetime\r\n",
    "\r\n",
    "saveFigures = True\r\n",
    "print('saveFigures is set to: '+str(saveFigures))\r\n",
    "print('Done loading packages')\r\n",
    "\r\n",
    "def rnMean(data,meanWidth):\r\n",
    "    return np.convolve(data, np.ones(meanWidth)/meanWidth, mode='valid')\r\n",
    "def rnTime(t,meanWidth):\r\n",
    "    return t[math.floor(meanWidth/2):-math.ceil(meanWidth/2)+1]\r\n",
    "def rnTime2(t,meanWidth):\r\n",
    "    return t[meanWidth-1:]\r\n"
   ],
   "outputs": [
    {
     "output_type": "stream",
     "name": "stdout",
     "text": [
      "saveFigures is set to: True\n",
      "Done loading packages\n"
     ]
    }
   ],
   "metadata": {}
  },
  {
   "cell_type": "code",
   "execution_count": 2,
   "source": [
    "ssidatapath = \"ssi_vacc\"\r\n",
    "rootdir = os.getcwd() +\"\\\\\" + ssidatapath\r\n",
    "\r\n",
    "\r\n",
    "# for subdir, dirs, files in os.walk(rootdir):\r\n",
    "# #     # if not len(dirs) == 0:\r\n",
    "# #     #     latestdir = subdir\r\n",
    "# #     #     latestDate = pd.to_datetime(subdir[-10:])\r\n",
    "#     # print(files)\r\n",
    "#     # print(dirs[-1])\r\n",
    "\r\n",
    "for f in os.scandir(rootdir):\r\n",
    "    curPath = f.path\r\n",
    "    latestdir = curPath\r\n",
    "    latestDate = pd.to_datetime(curPath[-10:])\r\n",
    "# print([f.path for f in os.scandir(rootdir)])\r\n",
    "\r\n",
    "# # print(os.walk(rootdir))\r\n",
    "# print(latestdir)\r\n",
    "# print(latestDate)\r\n",
    "\r\n",
    "# # latestdir = rootdir+ '\\\\SSI_data_2021-05-25'\r\n",
    "# # latestDate = pd.to_datetime(latestdir[-10:])\r\n",
    "\r\n",
    "print(latestdir)\r\n",
    "print(latestDate)"
   ],
   "outputs": [
    {
     "output_type": "stream",
     "name": "stdout",
     "text": [
      "c:\\Users\\rakrpe\\Documents\\PandemiX\\GithubRepos\\PandemiX\\DanskeData\\ssi_vacc\\SSI_vacc_2021-10-04\n",
      "2021-10-04 00:00:00\n"
     ]
    }
   ],
   "metadata": {}
  },
  {
   "cell_type": "code",
   "execution_count": 3,
   "source": [
    "\r\n",
    "filename = 'Vaccinerede_pr_uge_pr_maalgruppe.csv'\r\n",
    "# filename = 'Noegletal_vacc_daekning.csv'\r\n",
    "# curPath = \"D:/Pandemix/Github/DanskeData/ssi_vacc/SSI_vacc_2021-05-25/Vaccine_maalgrupper_DB/\" + filename\r\n",
    "curPath = latestdir+\"/Vaccine_maalgrupper_DB/\" + filename\r\n",
    "# latestdir+'\\\\Vaccine_maalgrupper_DB\\\\Noegletal_vacc_daekning.csv'\r\n",
    "\r\n",
    "filename = 'PaabegVacc_daek_DK_prdag.csv'\r\n",
    "# curPath = \"D:/Pandemix/Github/DanskeData/ssi_vacc/SSI_vacc_2021-05-25/Vaccine_DB/\" + filename\r\n",
    "curPath = latestdir+\"/Vaccine_DB/\" + filename\r\n",
    "\r\n",
    "\r\n",
    "# df = pd.read_csv(curPath,delimiter = ',',dtype=str,encoding='latin-1')\r\n",
    "df = pd.read_csv(curPath,delimiter = ';',dtype=str,encoding='latin-1')\r\n",
    "\r\n",
    "\r\n",
    "filename = 'FaerdigVacc_daekning_DK_prdag.csv'\r\n",
    "curPath = latestdir+\"/Vaccine_DB/\" + filename\r\n",
    "\r\n",
    "df_full = pd.read_csv(curPath,delimiter = ';',dtype=str,encoding='latin-1')"
   ],
   "outputs": [],
   "metadata": {}
  },
  {
   "cell_type": "code",
   "execution_count": 4,
   "source": [
    "df.tail()\r\n",
    "df_full.tail() \r\n"
   ],
   "outputs": [
    {
     "output_type": "execute_result",
     "data": {
      "text/html": [
       "<div>\n",
       "<style scoped>\n",
       "    .dataframe tbody tr th:only-of-type {\n",
       "        vertical-align: middle;\n",
       "    }\n",
       "\n",
       "    .dataframe tbody tr th {\n",
       "        vertical-align: top;\n",
       "    }\n",
       "\n",
       "    .dataframe thead th {\n",
       "        text-align: right;\n",
       "    }\n",
       "</style>\n",
       "<table border=\"1\" class=\"dataframe\">\n",
       "  <thead>\n",
       "    <tr style=\"text-align: right;\">\n",
       "      <th></th>\n",
       "      <th>Vaccinedato</th>\n",
       "      <th>geo</th>\n",
       "      <th>Antal færdigvacc. personer</th>\n",
       "      <th>Antal borgere</th>\n",
       "      <th>Færdigvacc. (%)</th>\n",
       "      <th>Kumuleret antal færdigvacc.</th>\n",
       "    </tr>\n",
       "  </thead>\n",
       "  <tbody>\n",
       "    <tr>\n",
       "      <th>264</th>\n",
       "      <td>2021-09-29</td>\n",
       "      <td>Nationalt</td>\n",
       "      <td>3296</td>\n",
       "      <td>5866012</td>\n",
       "      <td>74.5</td>\n",
       "      <td>4368966</td>\n",
       "    </tr>\n",
       "    <tr>\n",
       "      <th>265</th>\n",
       "      <td>2021-09-30</td>\n",
       "      <td>Nationalt</td>\n",
       "      <td>2589</td>\n",
       "      <td>5866012</td>\n",
       "      <td>74.5</td>\n",
       "      <td>4371555</td>\n",
       "    </tr>\n",
       "    <tr>\n",
       "      <th>266</th>\n",
       "      <td>2021-10-01</td>\n",
       "      <td>Nationalt</td>\n",
       "      <td>2464</td>\n",
       "      <td>5866012</td>\n",
       "      <td>74.6</td>\n",
       "      <td>4374019</td>\n",
       "    </tr>\n",
       "    <tr>\n",
       "      <th>267</th>\n",
       "      <td>2021-10-02</td>\n",
       "      <td>Nationalt</td>\n",
       "      <td>1583</td>\n",
       "      <td>5866012</td>\n",
       "      <td>74.6</td>\n",
       "      <td>4375602</td>\n",
       "    </tr>\n",
       "    <tr>\n",
       "      <th>268</th>\n",
       "      <td>2021-10-03</td>\n",
       "      <td>Nationalt</td>\n",
       "      <td>1129</td>\n",
       "      <td>5866012</td>\n",
       "      <td>74.6</td>\n",
       "      <td>4376731</td>\n",
       "    </tr>\n",
       "  </tbody>\n",
       "</table>\n",
       "</div>"
      ],
      "text/plain": [
       "    Vaccinedato        geo Antal færdigvacc. personer Antal borgere  \\\n",
       "264  2021-09-29  Nationalt                       3296       5866012   \n",
       "265  2021-09-30  Nationalt                       2589       5866012   \n",
       "266  2021-10-01  Nationalt                       2464       5866012   \n",
       "267  2021-10-02  Nationalt                       1583       5866012   \n",
       "268  2021-10-03  Nationalt                       1129       5866012   \n",
       "\n",
       "    Færdigvacc. (%) Kumuleret antal færdigvacc.  \n",
       "264            74.5                     4368966  \n",
       "265            74.5                     4371555  \n",
       "266            74.6                     4374019  \n",
       "267            74.6                     4375602  \n",
       "268            74.6                     4376731  "
      ]
     },
     "metadata": {},
     "execution_count": 4
    }
   ],
   "metadata": {}
  },
  {
   "cell_type": "code",
   "execution_count": 5,
   "source": [
    "# newVaccPerDay = df['Kumuleret antal påbegyndt vacc.'].astype(int).diff()\r\n",
    "newVaccPerDay = df['Antal påbegyndt vacc. personer'].astype(int)\r\n",
    "fullVaccPerDay = df_full['Antal færdigvacc. personer'].astype(int)\r\n",
    "\r\n",
    "\r\n",
    "# newVaccPerDayCumSum = np.cumsum(newVaccPerDay)\r\n",
    "newVaccCumu = df['Kumuleret antal påbegyndt vacc.'].astype(int)\r\n",
    "fullVaccCumu = df_full['Kumuleret antal færdigvacc.'].astype(int)\r\n",
    "\r\n",
    "curDates =  pd.to_datetime(df.Vaccinedato,format='%Y-%m-%d')\r\n",
    "curDatesFull =  pd.to_datetime(df_full.Vaccinedato,format='%Y-%m-%d')"
   ],
   "outputs": [],
   "metadata": {}
  },
  {
   "cell_type": "code",
   "execution_count": 6,
   "source": [
    "# Add zeroes to full vaccinated\r\n",
    "\r\n",
    "lenDiff = len(newVaccPerDay) - len(fullVaccPerDay)\r\n",
    "fullVaccPerDay = np.insert(fullVaccPerDay.values,0,np.zeros((lenDiff,)))\r\n",
    "fullVaccCumu = np.insert(fullVaccCumu.values,0,np.zeros((lenDiff,)))"
   ],
   "outputs": [],
   "metadata": {}
  },
  {
   "cell_type": "code",
   "execution_count": 7,
   "source": [
    "plt.figure()\r\n",
    "\r\n",
    "# plt.plot(curDates,newVaccPerDay)\r\n",
    "plt.plot(curDates,100 * newVaccPerDay/5846864,'k.:',linewidth=0.5)\r\n",
    "plt.plot(curDates,100 * fullVaccPerDay/5846864,'b.:',linewidth=0.5)\r\n",
    "meanWidth = 7\r\n",
    "plt.plot(rnTime(curDates,meanWidth),rnMean(100 * newVaccPerDay/5846864,meanWidth),'k',label='Påbegyndte vaccinationer')\r\n",
    "plt.plot(rnTime(curDates,meanWidth),rnMean(100 * fullVaccPerDay/5846864,meanWidth),'b',label='Færdiggjorte vaccinationer')\r\n",
    "plt.ylabel('Andel af danmarks samlede befolkning [%]')\r\n",
    "plt.ylim(bottom=0)\r\n",
    "plt.legend()\r\n",
    "plt.grid()\r\n",
    "ax1 = plt.gca()\r\n",
    "ax1.xaxis.set_major_formatter(mdates.DateFormatter('%b\\n%Y'))\r\n",
    "plt.tight_layout()"
   ],
   "outputs": [
    {
     "output_type": "display_data",
     "data": {
      "application/vnd.jupyter.widget-view+json": {
       "version_major": 2,
       "version_minor": 0,
       "model_id": "052a7d0f41ce4980a792f1e5f50dd96e"
      },
      "text/plain": [
       "Canvas(toolbar=Toolbar(toolitems=[('Home', 'Reset original view', 'home', 'home'), ('Back', 'Back to previous …"
      ]
     },
     "metadata": {}
    }
   ],
   "metadata": {}
  },
  {
   "cell_type": "code",
   "execution_count": 8,
   "source": [
    "fig,(ax1,ax2) = plt.subplots(2,1,sharex=True)\r\n",
    "\r\n",
    "# plt.plot(curDates,newVaccPerDay)\r\n",
    "ax1.plot(curDates,newVaccPerDay,'k.:',linewidth=0.5)\r\n",
    "ax2.plot(curDates,fullVaccPerDay,'b.:',linewidth=0.5)\r\n",
    "meanWidth = 7\r\n",
    "ax1.plot(rnTime(curDates,meanWidth),rnMean(newVaccPerDay,meanWidth),'k',label='Påbegyndte vaccinationer')\r\n",
    "ax2.plot(rnTime(curDates,meanWidth),rnMean(fullVaccPerDay,meanWidth),'b',label='Færdiggjorte vaccinationer')\r\n",
    "ax1.set_ylabel('Påbegyndte vaccinationer')\r\n",
    "ax2.set_ylabel('Færdiggjorte vaccinationer')\r\n",
    "ax1.set_ylim([0,100000])\r\n",
    "ax2.set_ylim([0,100000])\r\n",
    "# plt.legend()\r\n",
    "ax2.grid()\r\n",
    "ax1.grid()\r\n",
    "ax1.xaxis.set_major_formatter(mdates.DateFormatter('%b\\n%Y'))\r\n",
    "plt.tight_layout()\r\n",
    "\r\n",
    "if saveFigures:\r\n",
    "    plt.savefig('figsVacc/NumVaccTotal')"
   ],
   "outputs": [
    {
     "output_type": "display_data",
     "data": {
      "application/vnd.jupyter.widget-view+json": {
       "version_major": 2,
       "version_minor": 0,
       "model_id": "bcc12d12943c4bc9b35a272d57cbb52f"
      },
      "text/plain": [
       "Canvas(toolbar=Toolbar(toolitems=[('Home', 'Reset original view', 'home', 'home'), ('Back', 'Back to previous …"
      ]
     },
     "metadata": {}
    }
   ],
   "metadata": {}
  },
  {
   "cell_type": "code",
   "execution_count": 9,
   "source": [
    "fig,(ax1,ax2) = plt.subplots(2,1,sharex=True)\r\n",
    "\r\n",
    "# plt.plot(curDates,newVaccPerDay)\r\n",
    "ax1.plot(curDates,100 * newVaccPerDay/5851099,'k.:',linewidth=0.5)\r\n",
    "ax2.plot(curDates,100 * fullVaccPerDay/5851099,'b.:',linewidth=0.5)\r\n",
    "meanWidth = 7\r\n",
    "ax1.plot(rnTime(curDates,meanWidth),rnMean(100 * newVaccPerDay/5851099,meanWidth),'k',label='Påbegyndte vaccinationer')\r\n",
    "ax2.plot(rnTime(curDates,meanWidth),rnMean(100 * fullVaccPerDay/5851099,meanWidth),'b',label='Færdiggjorte vaccinationer')\r\n",
    "ax1.set_ylabel('Påbegyndte vaccinationer \\n af DK befolkning [%]')\r\n",
    "ax2.set_ylabel('Færdiggjorte vaccinationer \\n af DK befolkning [%]')\r\n",
    "ax1.set_ylim([0,2])\r\n",
    "ax2.set_ylim([0,2])\r\n",
    "# plt.legend()\r\n",
    "ax2.grid()\r\n",
    "ax1.grid()\r\n",
    "ax1.xaxis.set_major_formatter(mdates.DateFormatter('%b\\n%Y'))\r\n",
    "plt.tight_layout()\r\n",
    "\r\n",
    "if saveFigures:\r\n",
    "    plt.savefig('figsVacc/NumVaccTotalNorm')"
   ],
   "outputs": [
    {
     "output_type": "display_data",
     "data": {
      "application/vnd.jupyter.widget-view+json": {
       "version_major": 2,
       "version_minor": 0,
       "model_id": "b6ebaedb5815400ba97f42ba5bbffff0"
      },
      "text/plain": [
       "Canvas(toolbar=Toolbar(toolitems=[('Home', 'Reset original view', 'home', 'home'), ('Back', 'Back to previous …"
      ]
     },
     "metadata": {}
    }
   ],
   "metadata": {}
  },
  {
   "cell_type": "code",
   "execution_count": 13,
   "source": [
    "fig,ax1 = plt.subplots()\r\n",
    "\r\n",
    "newVaccCumuPop = 100 * newVaccCumu/5851099\r\n",
    "fullVaccCumuPop = 100 * fullVaccCumu/5851099\r\n",
    "\r\n",
    "# plt.plot(curDates,newVaccCumuPop,'k',linewidth=3)\r\n",
    "# plt.plot(curDates,fullVaccCumuPop,'b',linewidth=3)\r\n",
    "\r\n",
    "ax1.fill_between(curDates,newVaccCumuPop,color='k',zorder=3,label='Påbegyndt')\r\n",
    "ax1.fill_between(curDates,fullVaccCumuPop,color='b',zorder=3,label='Færdiggjort')\r\n",
    "\r\n",
    "\r\n",
    "# Draw weekends\r\n",
    "firstSunday = np.datetime64('2021-01-03')\r\n",
    "\r\n",
    "numWeeks = 52\r\n",
    "\r\n",
    "# curYlim = ax1.get_ylim()\r\n",
    "# ax1.vlines([np.datetime64('2021-06-24'),np.datetime64('2021-06-25')],curYlim[0],curYlim[1])\r\n",
    "for k in range(0,numWeeks):\r\n",
    "    curSunday = firstSunday + np.timedelta64(7*k,'D')\r\n",
    "    ax1.axvspan(curSunday-np.timedelta64(1,'D')-np.timedelta64(12,'h'),curSunday+np.timedelta64(12,'h'),facecolor='lightgrey')\r\n",
    "\r\n",
    "ax1.axvspan(curSunday-np.timedelta64(1,'D')-np.timedelta64(12,'h'),curSunday+np.timedelta64(12,'h'),facecolor='lightgrey',label='Weekend')\r\n",
    "\r\n",
    "ax1.legend(loc='upper left')\r\n",
    "\r\n",
    "\r\n",
    "ax1.spines[\"right\"].set_visible(False)\r\n",
    "ax1.spines[\"top\"].set_visible(False)\r\n",
    "ax1.set_ylabel('Andel af danmarks samlede befolkning [%]')\r\n",
    "ax1.set_ylim(bottom=0,top=100)\r\n",
    "# ax1.legend()\r\n",
    "ax1.grid(axis='y',zorder=0)\r\n",
    "ax1.xaxis.set_major_formatter(mdates.DateFormatter('%b\\n%Y'))\r\n",
    "\r\n",
    "ax1.set_xlim(left=np.datetime64('2021-01-01'),right=np.datetime64('2021-10-10'))\r\n",
    "plt.tight_layout()"
   ],
   "outputs": [
    {
     "output_type": "display_data",
     "data": {
      "application/vnd.jupyter.widget-view+json": {
       "version_major": 2,
       "version_minor": 0,
       "model_id": "54e8fd002e7e4aaba3323f626a0f9530"
      },
      "text/plain": [
       "Canvas(toolbar=Toolbar(toolitems=[('Home', 'Reset original view', 'home', 'home'), ('Back', 'Back to previous …"
      ]
     },
     "metadata": {}
    }
   ],
   "metadata": {}
  },
  {
   "cell_type": "code",
   "execution_count": 14,
   "source": [
    "filename = 'Vaccinerede_pr_uge_pr_maalgruppe.csv'\r\n",
    "curPath = latestdir+\"/Vaccine_maalgrupper_DB/\" + filename\r\n",
    "\r\n",
    "df_weekly = pd.read_csv(curPath,delimiter = ';',dtype=str,encoding='latin-1')"
   ],
   "outputs": [],
   "metadata": {}
  },
  {
   "cell_type": "code",
   "execution_count": 15,
   "source": [
    "# df_weekly.tail()\r\n",
    "# Drop the three extra empty rows are the top\r\n",
    "df_weekly.drop([0,1,2],axis=0,inplace=True)\r\n",
    "# df_weekly.drop([0,1,2],axis=0,inplace=True)\r\n"
   ],
   "outputs": [],
   "metadata": {}
  },
  {
   "cell_type": "code",
   "execution_count": 16,
   "source": [
    "allDates = df_weekly.Ugenummer\r\n",
    "# d = \"2021-W29\"\r\n",
    "# r = datetime.datetime.strptime(d + '-1', \"%Y-W%W-%w\")\r\n",
    "# np.datetime64(r)\r\n",
    "\r\n",
    "curWeekDays = df_weekly.Ugenummer.apply(lambda x: np.datetime64(datetime.datetime.strptime(x + '-1', \"%Y-W%W-%w\")))\r\n",
    "\r\n",
    "allVaccOnce = pd.to_numeric(df_weekly['Dækning førstegangsvaccinerede (kumulativt i %)'])\r\n",
    "allVaccFull = pd.to_numeric(df_weekly['Dækning færdigvaccinerede (kumulativt i %)'])\r\n",
    "\r\n"
   ],
   "outputs": [],
   "metadata": {}
  },
  {
   "cell_type": "code",
   "execution_count": 17,
   "source": [
    "allGroups = df_weekly['Målgruppe'].unique()\r\n",
    "\r\n",
    "# Move groups around to have correct order\r\n",
    "allGroups.sort()\r\n",
    "allGroups = np.roll(allGroups,-8)\r\n",
    "allGroups = np.insert(allGroups,0,allGroups[-8])\r\n",
    "allGroups = np.delete(allGroups,-8)\r\n",
    "allGroups = np.append(allGroups,allGroups[-8])\r\n",
    "allGroups = np.delete(allGroups,-9)\r\n",
    "allGroups"
   ],
   "outputs": [
    {
     "output_type": "execute_result",
     "data": {
      "text/plain": [
       "array(['1. Plejehjemsbeboere', '11. Personer fra årgang 2006-2009',\n",
       "       '2. Borgere > 65, praktisk hjælp og personlig pleje',\n",
       "       '3. Borgere fra årgang 1936 og derunder (85 år og ældre)',\n",
       "       '4. Personale i sundhedsvæsenet og dele af socialvæsenet',\n",
       "       '5. Udvalgte patienter med særligt øget risiko',\n",
       "       '6. Udvalgte pårørende til personer med særligt øget risiko',\n",
       "       '7. Personer fra årgang 1937-1941',\n",
       "       '8. Personer fra årgang 1942-1946',\n",
       "       '9. Personer fra årgang 1947-1956',\n",
       "       '10A. Personer fra årgang 1957-1961',\n",
       "       '10B. Personer fra årgang 1962-1966',\n",
       "       '10C. Personer fra årgang 1967-1971',\n",
       "       '10D1. Personer fra årgang 1972-1976 og årgang 2002-2005',\n",
       "       '10D2. Personer fra årgang 1977-1981 og årgang 1997-2001',\n",
       "       '10D3. Personer fra årgang 1982-1986 og årgang 1992-1996',\n",
       "       '10D4. Personer fra årgang 1987-1991', 'Resterende'], dtype=object)"
      ]
     },
     "metadata": {},
     "execution_count": 17
    }
   ],
   "metadata": {}
  },
  {
   "cell_type": "code",
   "execution_count": 18,
   "source": [
    "# df_weekly\r\n",
    "# len(df_weekly[df_weekly['Målgruppe'] == allGroups[-1]])\r\n"
   ],
   "outputs": [],
   "metadata": {}
  },
  {
   "cell_type": "code",
   "execution_count": null,
   "source": [],
   "outputs": [],
   "metadata": {}
  },
  {
   "cell_type": "code",
   "execution_count": 19,
   "source": [
    "# Hard-coded fix of the missing data-points\r\n",
    "group5Len = len(df_weekly[df_weekly['Målgruppe'] == allGroups[5]])\r\n",
    "otherGroupLen = len(df_weekly[df_weekly['Målgruppe'] == allGroups[2]])\r\n",
    "if (group5Len == otherGroupLen - 3):\r\n",
    "\r\n",
    "    rowToCopy = df_weekly.loc[57]\r\n",
    "    toAdd1 = rowToCopy.copy()\r\n",
    "    toAdd2 = rowToCopy.copy()\r\n",
    "    toAdd3 = rowToCopy.copy()\r\n",
    "    toAdd1.Ugenummer = '2021-W03'\r\n",
    "    toAdd2.Ugenummer = '2021-W04'\r\n",
    "    toAdd3.Ugenummer = '2021-W06'\r\n",
    "\r\n",
    "    df_weekly = df_weekly.append(toAdd1)\r\n",
    "    df_weekly = df_weekly.append(toAdd2)\r\n",
    "    df_weekly = df_weekly.append(toAdd3)\r\n",
    "    \r\n",
    "\r\n",
    "\r\n",
    "groupRestLen = len(df_weekly[df_weekly['Målgruppe'] == allGroups[-1]])\r\n",
    "groupRestLen - otherGroupLen\r\n",
    "if (groupRestLen == otherGroupLen - 15):\r\n",
    "    rowToCopy = df_weekly.loc[35]\r\n",
    "    toAdd = rowToCopy.copy()\r\n",
    "    \r\n",
    "    toAdd.Ugenummer = '2020-W52'\r\n",
    "    df_weekly = df_weekly.append(toAdd)\r\n",
    "    toAdd.Ugenummer = '2021-W01'\r\n",
    "    df_weekly = df_weekly.append(toAdd)\r\n",
    "    toAdd.Ugenummer = '2021-W02'\r\n",
    "    df_weekly = df_weekly.append(toAdd)\r\n",
    "    toAdd.Ugenummer = '2021-W04'\r\n",
    "    df_weekly = df_weekly.append(toAdd)\r\n",
    "    toAdd.Ugenummer = '2021-W05'\r\n",
    "    df_weekly = df_weekly.append(toAdd)\r\n",
    "    toAdd.Ugenummer = '2021-W06'\r\n",
    "    df_weekly = df_weekly.append(toAdd)\r\n",
    "    toAdd.Ugenummer = '2021-W07'\r\n",
    "    df_weekly = df_weekly.append(toAdd)\r\n",
    "    toAdd.Ugenummer = '2021-W10'\r\n",
    "    df_weekly = df_weekly.append(toAdd)\r\n",
    "    toAdd.Ugenummer = '2021-W11'\r\n",
    "    df_weekly = df_weekly.append(toAdd)\r\n",
    "    toAdd.Ugenummer = '2021-W12'\r\n",
    "    df_weekly = df_weekly.append(toAdd)\r\n",
    "    toAdd.Ugenummer = '2021-W13'\r\n",
    "    df_weekly = df_weekly.append(toAdd)\r\n",
    "    toAdd.Ugenummer = '2021-W14'\r\n",
    "    df_weekly = df_weekly.append(toAdd)\r\n",
    "    toAdd.Ugenummer = '2021-W15'\r\n",
    "    df_weekly = df_weekly.append(toAdd)\r\n",
    "    toAdd.Ugenummer = '2021-W16'\r\n",
    "    df_weekly = df_weekly.append(toAdd) \r\n",
    "    toAdd.Ugenummer = '2021-W18'\r\n",
    "    df_weekly = df_weekly.append(toAdd)\r\n",
    "    \r\n",
    "# Sort so order is correct\r\n",
    "df_weekly.sort_values(by=['Ugenummer','Målgruppe'],inplace=True)"
   ],
   "outputs": [],
   "metadata": {}
  },
  {
   "cell_type": "code",
   "execution_count": 20,
   "source": [
    "curdf = df_weekly[df_weekly['Målgruppe'] == allGroups[0]]"
   ],
   "outputs": [],
   "metadata": {}
  },
  {
   "cell_type": "code",
   "execution_count": 21,
   "source": [
    "fig,(ax1,ax2) = plt.subplots(2,1,sharex=True)\r\n",
    "\r\n",
    "# ax1.plot(curWeekDays,allVaccOnce,'*')\r\n",
    "# ax2.plot(curWeekDays,allVaccFull,'*')\r\n",
    "\r\n",
    "# for k in range(0,len(allGroups)):\r\n",
    "for k in range(len(allGroups)-5,len(allGroups)-1):\r\n",
    "    curdf = df_weekly[df_weekly['Målgruppe'] == allGroups[k]]\r\n",
    "\r\n",
    "    curLabel = allGroups[k]\r\n",
    "\r\n",
    "    ageWeekDays = curdf.Ugenummer.apply(lambda x: np.datetime64(datetime.datetime.strptime(x + '-1', \"%Y-W%W-%w\")))\r\n",
    "\r\n",
    "    ageVaccOnce = pd.to_numeric(curdf['Dækning førstegangsvaccinerede (kumulativt i %)'])\r\n",
    "    ageVaccFull = pd.to_numeric(curdf['Dækning færdigvaccinerede (kumulativt i %)'])\r\n",
    "    \r\n",
    "    ax1.plot(ageWeekDays,ageVaccOnce,'-*',label=curLabel)\r\n",
    "    ax2.plot(ageWeekDays,ageVaccFull,'-*',label=curLabel)\r\n",
    "\r\n",
    "ax1.set_ylim([0,100])\r\n",
    "ax2.set_ylim([0,100])\r\n",
    "ax1.legend(fontsize=10)\r\n",
    "\r\n",
    "ax1.set_xlim(left=np.datetime64('2021-05-01'))\r\n",
    "plt.tight_layout()"
   ],
   "outputs": [
    {
     "output_type": "display_data",
     "data": {
      "application/vnd.jupyter.widget-view+json": {
       "version_major": 2,
       "version_minor": 0,
       "model_id": "11271988f2544953bbc455ac52696bef"
      },
      "text/plain": [
       "Canvas(toolbar=Toolbar(toolitems=[('Home', 'Reset original view', 'home', 'home'), ('Back', 'Back to previous …"
      ]
     },
     "metadata": {}
    }
   ],
   "metadata": {}
  },
  {
   "cell_type": "code",
   "execution_count": 19,
   "source": [
    "# fig,(ax1,ax2) = plt.subplots(2,1,sharex=True)\r\n",
    "\r\n",
    "for k in range(0,len(allGroups)):\r\n",
    "# for k in range(len(allGroups)-5,len(allGroups)-1):\r\n",
    "\r\n",
    "    fig,ax1 = plt.subplots(1,1)\r\n",
    "    curdf = df_weekly[df_weekly['Målgruppe'] == allGroups[k]]\r\n",
    "\r\n",
    "    curLabel = allGroups[k]\r\n",
    "\r\n",
    "    ageWeekDays = curdf.Ugenummer.apply(lambda x: np.datetime64(datetime.datetime.strptime(x + '-1', \"%Y-W%W-%w\")))\r\n",
    "\r\n",
    "    ageVaccOnce = pd.to_numeric(curdf['Dækning førstegangsvaccinerede (kumulativt i %)'])\r\n",
    "    ageVaccFull = pd.to_numeric(curdf['Dækning færdigvaccinerede (kumulativt i %)'])\r\n",
    "    \r\n",
    "    # ax1.plot(ageWeekDays,ageVaccOnce,'-*',label=curLabel)\r\n",
    "    # ax1.plot(ageWeekDays,ageVaccFull,'-*',label=curLabel)\r\n",
    "    ax1.fill_between(ageWeekDays,ageVaccOnce,zorder=3,color='xkcd:lightblue',label='Påbegyndt')\r\n",
    "    ax1.fill_between(ageWeekDays,ageVaccFull,zorder=3,color='xkcd:darkblue',label='Færdiggjort')\r\n",
    "\r\n",
    "    ax1.set_ylim([0,100])\r\n",
    "    # ax2.set_ylim([0,100])\r\n",
    "    # ax1.legend(fontsize=10)\r\n",
    "    plt.title(curLabel)\r\n",
    "\r\n",
    "    # Draw weekends\r\n",
    "    firstSunday = np.datetime64('2020-12-20')\r\n",
    "    numWeeks = 52\r\n",
    "    for w in range(0,numWeeks):\r\n",
    "        curSunday = firstSunday + np.timedelta64(7*w,'D')\r\n",
    "        ax1.axvspan(curSunday-np.timedelta64(1,'D')-np.timedelta64(12,'h'),curSunday+np.timedelta64(12,'h'),zorder=0,facecolor='lightgrey')\r\n",
    "    ax1.axvspan(curSunday-np.timedelta64(1,'D')-np.timedelta64(12,'h'),curSunday+np.timedelta64(12,'h'),zorder=0,facecolor='lightgrey',label='Weekend')\r\n",
    "\r\n",
    "    ax1.legend(loc='upper left')\r\n",
    "\r\n",
    "    ax1.spines[\"right\"].set_visible(False)\r\n",
    "    ax1.spines[\"top\"].set_visible(False)\r\n",
    "    ax1.set_ylabel('Andel af målgruppe [%]')\r\n",
    "    ax1.set_ylim(bottom=0,top=100)\r\n",
    "    ax1.grid(axis='y',zorder=0)\r\n",
    "    ax1.xaxis.set_major_formatter(mdates.DateFormatter('%b\\n%Y'))\r\n",
    "\r\n",
    "    ax1.set_xlim(left=firstSunday)\r\n",
    "    ax1.set_xlim(right=np.datetime64('2021-08-20'))\r\n",
    "\r\n",
    "    # plt.tight_layout()\r\n",
    "    if saveFigures:\r\n",
    "        plt.savefig(f'figsVacc/Maalgruppe_{k+1}')\r\n",
    "\r\n",
    "    ax1.set_xlim(left=np.datetime64('2021-05-01'))\r\n",
    "    ax1.xaxis.set_major_formatter(mdates.DateFormatter('%d.\\n%b'))\r\n",
    "    if saveFigures:\r\n",
    "        plt.savefig(f'figsVacc/Maalgruppe_{k+1}_zoom')\r\n",
    "plt.close('all')"
   ],
   "outputs": [
    {
     "output_type": "display_data",
     "data": {
      "application/vnd.jupyter.widget-view+json": {
       "version_major": 2,
       "version_minor": 0,
       "model_id": "f83ba051b16b489498e2ecd3b4b544bb"
      },
      "text/plain": [
       "Canvas(toolbar=Toolbar(toolitems=[('Home', 'Reset original view', 'home', 'home'), ('Back', 'Back to previous …"
      ]
     },
     "metadata": {}
    },
    {
     "output_type": "display_data",
     "data": {
      "application/vnd.jupyter.widget-view+json": {
       "version_major": 2,
       "version_minor": 0,
       "model_id": "3bd2f405b68d4d7fb83b8b0e73fd616d"
      },
      "text/plain": [
       "Canvas(toolbar=Toolbar(toolitems=[('Home', 'Reset original view', 'home', 'home'), ('Back', 'Back to previous …"
      ]
     },
     "metadata": {}
    },
    {
     "output_type": "display_data",
     "data": {
      "application/vnd.jupyter.widget-view+json": {
       "version_major": 2,
       "version_minor": 0,
       "model_id": "47fc2f98145344628d42f37a4cff3b40"
      },
      "text/plain": [
       "Canvas(toolbar=Toolbar(toolitems=[('Home', 'Reset original view', 'home', 'home'), ('Back', 'Back to previous …"
      ]
     },
     "metadata": {}
    },
    {
     "output_type": "display_data",
     "data": {
      "application/vnd.jupyter.widget-view+json": {
       "version_major": 2,
       "version_minor": 0,
       "model_id": "b70ddab0622f4e3da84e3637479b1689"
      },
      "text/plain": [
       "Canvas(toolbar=Toolbar(toolitems=[('Home', 'Reset original view', 'home', 'home'), ('Back', 'Back to previous …"
      ]
     },
     "metadata": {}
    },
    {
     "output_type": "display_data",
     "data": {
      "application/vnd.jupyter.widget-view+json": {
       "version_major": 2,
       "version_minor": 0,
       "model_id": "4532881bed8d48abb61af82f0e7f6255"
      },
      "text/plain": [
       "Canvas(toolbar=Toolbar(toolitems=[('Home', 'Reset original view', 'home', 'home'), ('Back', 'Back to previous …"
      ]
     },
     "metadata": {}
    },
    {
     "output_type": "display_data",
     "data": {
      "application/vnd.jupyter.widget-view+json": {
       "version_major": 2,
       "version_minor": 0,
       "model_id": "d23682380927403c8435128fcb53ce93"
      },
      "text/plain": [
       "Canvas(toolbar=Toolbar(toolitems=[('Home', 'Reset original view', 'home', 'home'), ('Back', 'Back to previous …"
      ]
     },
     "metadata": {}
    },
    {
     "output_type": "display_data",
     "data": {
      "application/vnd.jupyter.widget-view+json": {
       "version_major": 2,
       "version_minor": 0,
       "model_id": "5fe1ee2e98674492aea34c278a8e8abe"
      },
      "text/plain": [
       "Canvas(toolbar=Toolbar(toolitems=[('Home', 'Reset original view', 'home', 'home'), ('Back', 'Back to previous …"
      ]
     },
     "metadata": {}
    },
    {
     "output_type": "display_data",
     "data": {
      "application/vnd.jupyter.widget-view+json": {
       "version_major": 2,
       "version_minor": 0,
       "model_id": "b4a6690c032443148a33637b0a3c675d"
      },
      "text/plain": [
       "Canvas(toolbar=Toolbar(toolitems=[('Home', 'Reset original view', 'home', 'home'), ('Back', 'Back to previous …"
      ]
     },
     "metadata": {}
    },
    {
     "output_type": "display_data",
     "data": {
      "application/vnd.jupyter.widget-view+json": {
       "version_major": 2,
       "version_minor": 0,
       "model_id": "940d6e8b57be41d9ac6f5b5080e858e3"
      },
      "text/plain": [
       "Canvas(toolbar=Toolbar(toolitems=[('Home', 'Reset original view', 'home', 'home'), ('Back', 'Back to previous …"
      ]
     },
     "metadata": {}
    },
    {
     "output_type": "display_data",
     "data": {
      "application/vnd.jupyter.widget-view+json": {
       "version_major": 2,
       "version_minor": 0,
       "model_id": "32aa09229804478299eebdf49dcd1530"
      },
      "text/plain": [
       "Canvas(toolbar=Toolbar(toolitems=[('Home', 'Reset original view', 'home', 'home'), ('Back', 'Back to previous …"
      ]
     },
     "metadata": {}
    },
    {
     "output_type": "display_data",
     "data": {
      "application/vnd.jupyter.widget-view+json": {
       "version_major": 2,
       "version_minor": 0,
       "model_id": "8fa89e70cff0429da6d9b038ef0dd4e0"
      },
      "text/plain": [
       "Canvas(toolbar=Toolbar(toolitems=[('Home', 'Reset original view', 'home', 'home'), ('Back', 'Back to previous …"
      ]
     },
     "metadata": {}
    },
    {
     "output_type": "display_data",
     "data": {
      "application/vnd.jupyter.widget-view+json": {
       "version_major": 2,
       "version_minor": 0,
       "model_id": "1f96c7eaa2a94dfbab914eca764526f7"
      },
      "text/plain": [
       "Canvas(toolbar=Toolbar(toolitems=[('Home', 'Reset original view', 'home', 'home'), ('Back', 'Back to previous …"
      ]
     },
     "metadata": {}
    },
    {
     "output_type": "display_data",
     "data": {
      "application/vnd.jupyter.widget-view+json": {
       "version_major": 2,
       "version_minor": 0,
       "model_id": "22be47c32b694605807f94c55e3e7a99"
      },
      "text/plain": [
       "Canvas(toolbar=Toolbar(toolitems=[('Home', 'Reset original view', 'home', 'home'), ('Back', 'Back to previous …"
      ]
     },
     "metadata": {}
    },
    {
     "output_type": "display_data",
     "data": {
      "application/vnd.jupyter.widget-view+json": {
       "version_major": 2,
       "version_minor": 0,
       "model_id": "42e8d3ec89fc494a9a1f4e06ec6e5f06"
      },
      "text/plain": [
       "Canvas(toolbar=Toolbar(toolitems=[('Home', 'Reset original view', 'home', 'home'), ('Back', 'Back to previous …"
      ]
     },
     "metadata": {}
    },
    {
     "output_type": "display_data",
     "data": {
      "application/vnd.jupyter.widget-view+json": {
       "version_major": 2,
       "version_minor": 0,
       "model_id": "f9035229c0b34cfaa28becb1424d4da0"
      },
      "text/plain": [
       "Canvas(toolbar=Toolbar(toolitems=[('Home', 'Reset original view', 'home', 'home'), ('Back', 'Back to previous …"
      ]
     },
     "metadata": {}
    },
    {
     "output_type": "stream",
     "name": "stderr",
     "text": [
      "<ipython-input-19-8bfd9ae0f9bb>:6: RuntimeWarning: More than 20 figures have been opened. Figures created through the pyplot interface (`matplotlib.pyplot.figure`) are retained until explicitly closed and may consume too much memory. (To control this warning, see the rcParam `figure.max_open_warning`).\n",
      "  fig,ax1 = plt.subplots(1,1)\n"
     ]
    },
    {
     "output_type": "display_data",
     "data": {
      "application/vnd.jupyter.widget-view+json": {
       "version_major": 2,
       "version_minor": 0,
       "model_id": "e91287b06c544805a755da71ed02787c"
      },
      "text/plain": [
       "Canvas(toolbar=Toolbar(toolitems=[('Home', 'Reset original view', 'home', 'home'), ('Back', 'Back to previous …"
      ]
     },
     "metadata": {}
    },
    {
     "output_type": "display_data",
     "data": {
      "application/vnd.jupyter.widget-view+json": {
       "version_major": 2,
       "version_minor": 0,
       "model_id": "9189594cbf984a8abccae4eee0407142"
      },
      "text/plain": [
       "Canvas(toolbar=Toolbar(toolitems=[('Home', 'Reset original view', 'home', 'home'), ('Back', 'Back to previous …"
      ]
     },
     "metadata": {}
    },
    {
     "output_type": "display_data",
     "data": {
      "application/vnd.jupyter.widget-view+json": {
       "version_major": 2,
       "version_minor": 0,
       "model_id": "de9d33ebe1254d7abc2d9223ccaaf499"
      },
      "text/plain": [
       "Canvas(toolbar=Toolbar(toolitems=[('Home', 'Reset original view', 'home', 'home'), ('Back', 'Back to previous …"
      ]
     },
     "metadata": {}
    }
   ],
   "metadata": {}
  },
  {
   "cell_type": "code",
   "execution_count": 22,
   "source": [
    "# Figur af \"inviterede, men ikke påbegyndt\"\r\n",
    "# First, population counts\r\n",
    "filename = 'Noegletal_vacc_daekning.csv'\r\n",
    "curPath = latestdir+\"/Vaccine_maalgrupper_DB/\" + filename\r\n",
    "\r\n",
    "df_noegle = pd.read_csv(curPath,delimiter = ';',dtype=str,encoding='latin-1')"
   ],
   "outputs": [],
   "metadata": {}
  },
  {
   "cell_type": "code",
   "execution_count": 23,
   "source": [
    "# Count groupsize:\r\n",
    "df_noegle[df_noegle['Målgruppe'] == allGroups[1]].Population.astype(int).sum()\r\n",
    "\r\n",
    "# Check of full population:\r\n",
    "wholePop = 0\r\n",
    "for k in range(0,len(allGroups)):\r\n",
    "    \r\n",
    "    curPop = df_noegle[df_noegle['Målgruppe'] == allGroups[k]].Population.astype(int).sum()\r\n",
    "    wholePop += curPop\r\n",
    "print(wholePop) # Should be 5851099"
   ],
   "outputs": [
    {
     "output_type": "stream",
     "name": "stdout",
     "text": [
      "5866012\n"
     ]
    }
   ],
   "metadata": {}
  },
  {
   "cell_type": "code",
   "execution_count": 37,
   "source": [
    "df_weekly[df_weekly.Målgruppe == '1. Plejehjemsbeboere']\r\n",
    "# df_weekly.Målgruppe.value_counts()"
   ],
   "outputs": [
    {
     "output_type": "execute_result",
     "data": {
      "text/html": [
       "<div>\n",
       "<style scoped>\n",
       "    .dataframe tbody tr th:only-of-type {\n",
       "        vertical-align: middle;\n",
       "    }\n",
       "\n",
       "    .dataframe tbody tr th {\n",
       "        vertical-align: top;\n",
       "    }\n",
       "\n",
       "    .dataframe thead th {\n",
       "        text-align: right;\n",
       "    }\n",
       "</style>\n",
       "<table border=\"1\" class=\"dataframe\">\n",
       "  <thead>\n",
       "    <tr style=\"text-align: right;\">\n",
       "      <th></th>\n",
       "      <th>Ugenummer</th>\n",
       "      <th>Målgruppe</th>\n",
       "      <th>Dækning førstegangsvaccinerede (kumulativt i %)</th>\n",
       "      <th>Dækning færdigvaccinerede (kumulativt i %)</th>\n",
       "    </tr>\n",
       "  </thead>\n",
       "  <tbody>\n",
       "    <tr>\n",
       "      <th>18</th>\n",
       "      <td>2020-W52</td>\n",
       "      <td>1. Plejehjemsbeboere</td>\n",
       "      <td>4.71</td>\n",
       "      <td>0.00</td>\n",
       "    </tr>\n",
       "    <tr>\n",
       "      <th>34</th>\n",
       "      <td>2020-W53</td>\n",
       "      <td>1. Plejehjemsbeboere</td>\n",
       "      <td>34.80</td>\n",
       "      <td>0.00</td>\n",
       "    </tr>\n",
       "    <tr>\n",
       "      <th>51</th>\n",
       "      <td>2021-W01</td>\n",
       "      <td>1. Plejehjemsbeboere</td>\n",
       "      <td>71.81</td>\n",
       "      <td>0.00</td>\n",
       "    </tr>\n",
       "    <tr>\n",
       "      <th>67</th>\n",
       "      <td>2021-W02</td>\n",
       "      <td>1. Plejehjemsbeboere</td>\n",
       "      <td>76.00</td>\n",
       "      <td>0.58</td>\n",
       "    </tr>\n",
       "    <tr>\n",
       "      <th>83</th>\n",
       "      <td>2021-W03</td>\n",
       "      <td>1. Plejehjemsbeboere</td>\n",
       "      <td>78.00</td>\n",
       "      <td>25.91</td>\n",
       "    </tr>\n",
       "    <tr>\n",
       "      <th>99</th>\n",
       "      <td>2021-W04</td>\n",
       "      <td>1. Plejehjemsbeboere</td>\n",
       "      <td>79.37</td>\n",
       "      <td>63.07</td>\n",
       "    </tr>\n",
       "    <tr>\n",
       "      <th>114</th>\n",
       "      <td>2021-W05</td>\n",
       "      <td>1. Plejehjemsbeboere</td>\n",
       "      <td>80.23</td>\n",
       "      <td>71.99</td>\n",
       "    </tr>\n",
       "    <tr>\n",
       "      <th>130</th>\n",
       "      <td>2021-W06</td>\n",
       "      <td>1. Plejehjemsbeboere</td>\n",
       "      <td>81.65</td>\n",
       "      <td>73.97</td>\n",
       "    </tr>\n",
       "    <tr>\n",
       "      <th>145</th>\n",
       "      <td>2021-W07</td>\n",
       "      <td>1. Plejehjemsbeboere</td>\n",
       "      <td>84.48</td>\n",
       "      <td>74.73</td>\n",
       "    </tr>\n",
       "    <tr>\n",
       "      <th>161</th>\n",
       "      <td>2021-W08</td>\n",
       "      <td>1. Plejehjemsbeboere</td>\n",
       "      <td>87.24</td>\n",
       "      <td>78.17</td>\n",
       "    </tr>\n",
       "    <tr>\n",
       "      <th>178</th>\n",
       "      <td>2021-W09</td>\n",
       "      <td>1. Plejehjemsbeboere</td>\n",
       "      <td>88.35</td>\n",
       "      <td>79.54</td>\n",
       "    </tr>\n",
       "    <tr>\n",
       "      <th>195</th>\n",
       "      <td>2021-W10</td>\n",
       "      <td>1. Plejehjemsbeboere</td>\n",
       "      <td>89.59</td>\n",
       "      <td>82.65</td>\n",
       "    </tr>\n",
       "    <tr>\n",
       "      <th>211</th>\n",
       "      <td>2021-W11</td>\n",
       "      <td>1. Plejehjemsbeboere</td>\n",
       "      <td>90.45</td>\n",
       "      <td>84.45</td>\n",
       "    </tr>\n",
       "    <tr>\n",
       "      <th>227</th>\n",
       "      <td>2021-W12</td>\n",
       "      <td>1. Plejehjemsbeboere</td>\n",
       "      <td>91.50</td>\n",
       "      <td>86.36</td>\n",
       "    </tr>\n",
       "    <tr>\n",
       "      <th>243</th>\n",
       "      <td>2021-W13</td>\n",
       "      <td>1. Plejehjemsbeboere</td>\n",
       "      <td>92.08</td>\n",
       "      <td>87.36</td>\n",
       "    </tr>\n",
       "    <tr>\n",
       "      <th>259</th>\n",
       "      <td>2021-W14</td>\n",
       "      <td>1. Plejehjemsbeboere</td>\n",
       "      <td>92.54</td>\n",
       "      <td>88.81</td>\n",
       "    </tr>\n",
       "    <tr>\n",
       "      <th>275</th>\n",
       "      <td>2021-W15</td>\n",
       "      <td>1. Plejehjemsbeboere</td>\n",
       "      <td>93.32</td>\n",
       "      <td>89.95</td>\n",
       "    </tr>\n",
       "    <tr>\n",
       "      <th>291</th>\n",
       "      <td>2021-W16</td>\n",
       "      <td>1. Plejehjemsbeboere</td>\n",
       "      <td>93.85</td>\n",
       "      <td>90.64</td>\n",
       "    </tr>\n",
       "    <tr>\n",
       "      <th>307</th>\n",
       "      <td>2021-W17</td>\n",
       "      <td>1. Plejehjemsbeboere</td>\n",
       "      <td>94.19</td>\n",
       "      <td>91.10</td>\n",
       "    </tr>\n",
       "    <tr>\n",
       "      <th>325</th>\n",
       "      <td>2021-W18</td>\n",
       "      <td>1. Plejehjemsbeboere</td>\n",
       "      <td>94.52</td>\n",
       "      <td>91.93</td>\n",
       "    </tr>\n",
       "    <tr>\n",
       "      <th>342</th>\n",
       "      <td>2021-W19</td>\n",
       "      <td>1. Plejehjemsbeboere</td>\n",
       "      <td>94.76</td>\n",
       "      <td>92.49</td>\n",
       "    </tr>\n",
       "    <tr>\n",
       "      <th>360</th>\n",
       "      <td>2021-W20</td>\n",
       "      <td>1. Plejehjemsbeboere</td>\n",
       "      <td>95.03</td>\n",
       "      <td>92.88</td>\n",
       "    </tr>\n",
       "    <tr>\n",
       "      <th>377</th>\n",
       "      <td>2021-W21</td>\n",
       "      <td>1. Plejehjemsbeboere</td>\n",
       "      <td>95.21</td>\n",
       "      <td>93.05</td>\n",
       "    </tr>\n",
       "    <tr>\n",
       "      <th>395</th>\n",
       "      <td>2021-W22</td>\n",
       "      <td>1. Plejehjemsbeboere</td>\n",
       "      <td>95.32</td>\n",
       "      <td>93.25</td>\n",
       "    </tr>\n",
       "    <tr>\n",
       "      <th>413</th>\n",
       "      <td>2021-W23</td>\n",
       "      <td>1. Plejehjemsbeboere</td>\n",
       "      <td>95.47</td>\n",
       "      <td>93.52</td>\n",
       "    </tr>\n",
       "    <tr>\n",
       "      <th>431</th>\n",
       "      <td>2021-W24</td>\n",
       "      <td>1. Plejehjemsbeboere</td>\n",
       "      <td>95.59</td>\n",
       "      <td>93.74</td>\n",
       "    </tr>\n",
       "    <tr>\n",
       "      <th>449</th>\n",
       "      <td>2021-W25</td>\n",
       "      <td>1. Plejehjemsbeboere</td>\n",
       "      <td>95.68</td>\n",
       "      <td>93.97</td>\n",
       "    </tr>\n",
       "    <tr>\n",
       "      <th>466</th>\n",
       "      <td>2021-W26</td>\n",
       "      <td>1. Plejehjemsbeboere</td>\n",
       "      <td>95.75</td>\n",
       "      <td>94.18</td>\n",
       "    </tr>\n",
       "    <tr>\n",
       "      <th>483</th>\n",
       "      <td>2021-W27</td>\n",
       "      <td>1. Plejehjemsbeboere</td>\n",
       "      <td>95.83</td>\n",
       "      <td>94.32</td>\n",
       "    </tr>\n",
       "    <tr>\n",
       "      <th>501</th>\n",
       "      <td>2021-W28</td>\n",
       "      <td>1. Plejehjemsbeboere</td>\n",
       "      <td>95.95</td>\n",
       "      <td>94.46</td>\n",
       "    </tr>\n",
       "    <tr>\n",
       "      <th>519</th>\n",
       "      <td>2021-W29</td>\n",
       "      <td>1. Plejehjemsbeboere</td>\n",
       "      <td>96.02</td>\n",
       "      <td>94.60</td>\n",
       "    </tr>\n",
       "    <tr>\n",
       "      <th>537</th>\n",
       "      <td>2021-W30</td>\n",
       "      <td>1. Plejehjemsbeboere</td>\n",
       "      <td>96.02</td>\n",
       "      <td>94.71</td>\n",
       "    </tr>\n",
       "    <tr>\n",
       "      <th>555</th>\n",
       "      <td>2021-W31</td>\n",
       "      <td>1. Plejehjemsbeboere</td>\n",
       "      <td>96.02</td>\n",
       "      <td>94.83</td>\n",
       "    </tr>\n",
       "    <tr>\n",
       "      <th>572</th>\n",
       "      <td>2021-W32</td>\n",
       "      <td>1. Plejehjemsbeboere</td>\n",
       "      <td>96.02</td>\n",
       "      <td>94.99</td>\n",
       "    </tr>\n",
       "    <tr>\n",
       "      <th>589</th>\n",
       "      <td>2021-W33</td>\n",
       "      <td>1. Plejehjemsbeboere</td>\n",
       "      <td>96.02</td>\n",
       "      <td>95.11</td>\n",
       "    </tr>\n",
       "    <tr>\n",
       "      <th>607</th>\n",
       "      <td>2021-W34</td>\n",
       "      <td>1. Plejehjemsbeboere</td>\n",
       "      <td>96.02</td>\n",
       "      <td>95.18</td>\n",
       "    </tr>\n",
       "    <tr>\n",
       "      <th>625</th>\n",
       "      <td>2021-W35</td>\n",
       "      <td>1. Plejehjemsbeboere</td>\n",
       "      <td>96.02</td>\n",
       "      <td>95.24</td>\n",
       "    </tr>\n",
       "    <tr>\n",
       "      <th>643</th>\n",
       "      <td>2021-W36</td>\n",
       "      <td>1. Plejehjemsbeboere</td>\n",
       "      <td>96.08</td>\n",
       "      <td>95.31</td>\n",
       "    </tr>\n",
       "    <tr>\n",
       "      <th>660</th>\n",
       "      <td>2021-W37</td>\n",
       "      <td>1. Plejehjemsbeboere</td>\n",
       "      <td>96.28</td>\n",
       "      <td>95.56</td>\n",
       "    </tr>\n",
       "    <tr>\n",
       "      <th>677</th>\n",
       "      <td>2021-W38</td>\n",
       "      <td>1. Plejehjemsbeboere</td>\n",
       "      <td>96.52</td>\n",
       "      <td>95.85</td>\n",
       "    </tr>\n",
       "    <tr>\n",
       "      <th>695</th>\n",
       "      <td>2021-W39</td>\n",
       "      <td>1. Plejehjemsbeboere</td>\n",
       "      <td>96.61</td>\n",
       "      <td>95.95</td>\n",
       "    </tr>\n",
       "  </tbody>\n",
       "</table>\n",
       "</div>"
      ],
      "text/plain": [
       "    Ugenummer             Målgruppe  \\\n",
       "18   2020-W52  1. Plejehjemsbeboere   \n",
       "34   2020-W53  1. Plejehjemsbeboere   \n",
       "51   2021-W01  1. Plejehjemsbeboere   \n",
       "67   2021-W02  1. Plejehjemsbeboere   \n",
       "83   2021-W03  1. Plejehjemsbeboere   \n",
       "99   2021-W04  1. Plejehjemsbeboere   \n",
       "114  2021-W05  1. Plejehjemsbeboere   \n",
       "130  2021-W06  1. Plejehjemsbeboere   \n",
       "145  2021-W07  1. Plejehjemsbeboere   \n",
       "161  2021-W08  1. Plejehjemsbeboere   \n",
       "178  2021-W09  1. Plejehjemsbeboere   \n",
       "195  2021-W10  1. Plejehjemsbeboere   \n",
       "211  2021-W11  1. Plejehjemsbeboere   \n",
       "227  2021-W12  1. Plejehjemsbeboere   \n",
       "243  2021-W13  1. Plejehjemsbeboere   \n",
       "259  2021-W14  1. Plejehjemsbeboere   \n",
       "275  2021-W15  1. Plejehjemsbeboere   \n",
       "291  2021-W16  1. Plejehjemsbeboere   \n",
       "307  2021-W17  1. Plejehjemsbeboere   \n",
       "325  2021-W18  1. Plejehjemsbeboere   \n",
       "342  2021-W19  1. Plejehjemsbeboere   \n",
       "360  2021-W20  1. Plejehjemsbeboere   \n",
       "377  2021-W21  1. Plejehjemsbeboere   \n",
       "395  2021-W22  1. Plejehjemsbeboere   \n",
       "413  2021-W23  1. Plejehjemsbeboere   \n",
       "431  2021-W24  1. Plejehjemsbeboere   \n",
       "449  2021-W25  1. Plejehjemsbeboere   \n",
       "466  2021-W26  1. Plejehjemsbeboere   \n",
       "483  2021-W27  1. Plejehjemsbeboere   \n",
       "501  2021-W28  1. Plejehjemsbeboere   \n",
       "519  2021-W29  1. Plejehjemsbeboere   \n",
       "537  2021-W30  1. Plejehjemsbeboere   \n",
       "555  2021-W31  1. Plejehjemsbeboere   \n",
       "572  2021-W32  1. Plejehjemsbeboere   \n",
       "589  2021-W33  1. Plejehjemsbeboere   \n",
       "607  2021-W34  1. Plejehjemsbeboere   \n",
       "625  2021-W35  1. Plejehjemsbeboere   \n",
       "643  2021-W36  1. Plejehjemsbeboere   \n",
       "660  2021-W37  1. Plejehjemsbeboere   \n",
       "677  2021-W38  1. Plejehjemsbeboere   \n",
       "695  2021-W39  1. Plejehjemsbeboere   \n",
       "\n",
       "    Dækning førstegangsvaccinerede (kumulativt i %)  \\\n",
       "18                                             4.71   \n",
       "34                                            34.80   \n",
       "51                                            71.81   \n",
       "67                                            76.00   \n",
       "83                                            78.00   \n",
       "99                                            79.37   \n",
       "114                                           80.23   \n",
       "130                                           81.65   \n",
       "145                                           84.48   \n",
       "161                                           87.24   \n",
       "178                                           88.35   \n",
       "195                                           89.59   \n",
       "211                                           90.45   \n",
       "227                                           91.50   \n",
       "243                                           92.08   \n",
       "259                                           92.54   \n",
       "275                                           93.32   \n",
       "291                                           93.85   \n",
       "307                                           94.19   \n",
       "325                                           94.52   \n",
       "342                                           94.76   \n",
       "360                                           95.03   \n",
       "377                                           95.21   \n",
       "395                                           95.32   \n",
       "413                                           95.47   \n",
       "431                                           95.59   \n",
       "449                                           95.68   \n",
       "466                                           95.75   \n",
       "483                                           95.83   \n",
       "501                                           95.95   \n",
       "519                                           96.02   \n",
       "537                                           96.02   \n",
       "555                                           96.02   \n",
       "572                                           96.02   \n",
       "589                                           96.02   \n",
       "607                                           96.02   \n",
       "625                                           96.02   \n",
       "643                                           96.08   \n",
       "660                                           96.28   \n",
       "677                                           96.52   \n",
       "695                                           96.61   \n",
       "\n",
       "    Dækning færdigvaccinerede (kumulativt i %)  \n",
       "18                                        0.00  \n",
       "34                                        0.00  \n",
       "51                                        0.00  \n",
       "67                                        0.58  \n",
       "83                                       25.91  \n",
       "99                                       63.07  \n",
       "114                                      71.99  \n",
       "130                                      73.97  \n",
       "145                                      74.73  \n",
       "161                                      78.17  \n",
       "178                                      79.54  \n",
       "195                                      82.65  \n",
       "211                                      84.45  \n",
       "227                                      86.36  \n",
       "243                                      87.36  \n",
       "259                                      88.81  \n",
       "275                                      89.95  \n",
       "291                                      90.64  \n",
       "307                                      91.10  \n",
       "325                                      91.93  \n",
       "342                                      92.49  \n",
       "360                                      92.88  \n",
       "377                                      93.05  \n",
       "395                                      93.25  \n",
       "413                                      93.52  \n",
       "431                                      93.74  \n",
       "449                                      93.97  \n",
       "466                                      94.18  \n",
       "483                                      94.32  \n",
       "501                                      94.46  \n",
       "519                                      94.60  \n",
       "537                                      94.71  \n",
       "555                                      94.83  \n",
       "572                                      94.99  \n",
       "589                                      95.11  \n",
       "607                                      95.18  \n",
       "625                                      95.24  \n",
       "643                                      95.31  \n",
       "660                                      95.56  \n",
       "677                                      95.85  \n",
       "695                                      95.95  "
      ]
     },
     "metadata": {},
     "execution_count": 37
    }
   ],
   "metadata": {}
  },
  {
   "cell_type": "code",
   "execution_count": 41,
   "source": [
    "# asdf = df_noegle[df_noegle.Målgruppe == '2. Borgere > 65, praktisk hjælp og personlig pleje']\r\n",
    "asdf = df_noegle[df_noegle.Målgruppe == '1. Plejehjemsbeboere']\r\n",
    "\r\n",
    "\r\n",
    "print(pd.to_numeric(asdf.Population).sum() * (1-0.9661 ))\r\n",
    "pd.to_numeric(asdf.Population).sum()\r\n",
    "# asdf\r\n",
    "# df_noegle.Målgruppe.value_counts()"
   ],
   "outputs": [
    {
     "output_type": "stream",
     "name": "stdout",
     "text": [
      "1442.6484000000019\n"
     ]
    },
    {
     "output_type": "execute_result",
     "data": {
      "text/plain": [
       "42556"
      ]
     },
     "metadata": {},
     "execution_count": 41
    }
   ],
   "metadata": {}
  },
  {
   "cell_type": "code",
   "execution_count": 24,
   "source": [
    "fig,(ax1,ax2) = plt.subplots(2,1,sharex=True)\r\n",
    "\r\n",
    "\r\n",
    "for k in range(0,len(allGroups)):\r\n",
    "# for k in range(len(allGroups)-5,len(allGroups)-1):\r\n",
    "    curdf = df_weekly[df_weekly['Målgruppe'] == allGroups[k]]\r\n",
    "\r\n",
    "    curPop = df_noegle[df_noegle['Målgruppe'] == allGroups[k]].Population.astype(int).sum()\r\n",
    "\r\n",
    "    curLabel = allGroups[k]\r\n",
    "\r\n",
    "    ageWeekDays = curdf.Ugenummer.apply(lambda x: np.datetime64(datetime.datetime.strptime(x + '-1', \"%Y-W%W-%w\")))\r\n",
    "\r\n",
    "    ageVaccOnce = pd.to_numeric(curdf['Dækning førstegangsvaccinerede (kumulativt i %)'])\r\n",
    "    ageVaccFull = pd.to_numeric(curdf['Dækning færdigvaccinerede (kumulativt i %)'])\r\n",
    "    \r\n",
    "    ax1.plot(ageWeekDays,curPop*(100-ageVaccOnce),'-*',label=curLabel)\r\n",
    "    ax2.plot(ageWeekDays,curPop*(100-ageVaccFull),'-*',label=curLabel)\r\n",
    "\r\n",
    "# ax1.set_ylim([0,100])\r\n",
    "# ax2.set_ylim([0,100])\r\n",
    "ax1.set_ylim(bottom=0)\r\n",
    "ax2.set_ylim(bottom=0)\r\n",
    "ax1.legend(fontsize=8,loc='upper left')\r\n",
    "\r\n",
    "# ax1.set_xlim(left=np.datetime64('2021-05-01'))\r\n",
    "plt.tight_layout()"
   ],
   "outputs": [
    {
     "output_type": "display_data",
     "data": {
      "application/vnd.jupyter.widget-view+json": {
       "version_major": 2,
       "version_minor": 0,
       "model_id": "95068e25b3ef45afb90c3ff454433005"
      },
      "text/plain": [
       "Canvas(toolbar=Toolbar(toolitems=[('Home', 'Reset original view', 'home', 'home'), ('Back', 'Back to previous …"
      ]
     },
     "metadata": {}
    }
   ],
   "metadata": {}
  },
  {
   "cell_type": "code",
   "execution_count": 23,
   "source": [
    "df_noegle.Population.astype(int).sum()"
   ],
   "outputs": [
    {
     "output_type": "execute_result",
     "data": {
      "text/plain": [
       "5862430"
      ]
     },
     "metadata": {},
     "execution_count": 23
    }
   ],
   "metadata": {}
  },
  {
   "cell_type": "code",
   "execution_count": 24,
   "source": [
    "# df_weekly"
   ],
   "outputs": [],
   "metadata": {}
  },
  {
   "cell_type": "code",
   "execution_count": 25,
   "source": [
    "fig,(ax1,ax2) = plt.subplots(2,1,sharex=True,figsize=(18,14))\r\n",
    " \r\n",
    "restPop = df_noegle[df_noegle['Målgruppe'] == allGroups[len(allGroups)-1]].Population.astype(int).sum()\r\n",
    "fullPop = df_noegle.Population.astype(int).sum()\r\n",
    "\r\n",
    "curdf = df_weekly[df_weekly['Målgruppe'] == allGroups[0]]\r\n",
    "ageVaccOnce = pd.to_numeric(curdf['Dækning førstegangsvaccinerede (kumulativt i %)'])\r\n",
    "\r\n",
    "# currOnce = np.zeros(ageVaccOnce.values.shape)\r\n",
    "# prevOnce = np.zeros(ageVaccOnce.values.shape)\r\n",
    "currOnce = np.zeros(ageVaccOnce.values.shape)\r\n",
    "prevOnce = np.zeros(ageVaccOnce.values.shape)\r\n",
    "# currNone = restPop * np.ones(ageVaccOnce.values.shape)\r\n",
    "# prevNone = restPop * np.ones(ageVaccOnce.values.shape)\r\n",
    "currNone = np.zeros(ageVaccOnce.values.shape)\r\n",
    "prevNone = np.zeros(ageVaccOnce.values.shape)\r\n",
    "\r\n",
    "\r\n",
    "cmap = cm.get_cmap('Spectral',len(allGroups))\r\n",
    "\r\n",
    "# allWeeks = df_weekly.Ugenummer.apply(lambda x: np.datetime64(datetime.datetime.strptime(x + '-1', \"%Y-W%W-%w\")))\r\n",
    "\r\n",
    "\r\n",
    "# for k in range(7,16):\r\n",
    "# for k in range(0,len(allGroups)-1):\r\n",
    "# for k in range(len(allGroups)-2,-1,-1):\r\n",
    "for k in range(len(allGroups)-1,-1,-1):\r\n",
    "    curdf = df_weekly[df_weekly['Målgruppe'] == allGroups[k]]\r\n",
    "\r\n",
    "    curPop = df_noegle[df_noegle['Målgruppe'] == allGroups[k]].Population.astype(int).sum()\r\n",
    "\r\n",
    "    curLabel = allGroups[k]\r\n",
    "\r\n",
    "    ageWeekDays = curdf.Ugenummer.apply(lambda x: np.datetime64(datetime.datetime.strptime(x + '-1', \"%Y-W%W-%w\")))\r\n",
    "\r\n",
    "    ageVaccOnce = pd.to_numeric(curdf['Dækning førstegangsvaccinerede (kumulativt i %)'])\r\n",
    "    ageVaccFull = pd.to_numeric(curdf['Dækning færdigvaccinerede (kumulativt i %)'])\r\n",
    "\r\n",
    "    numOnce = curPop * (ageVaccOnce.values/100)\r\n",
    "    numFull = curPop * (ageVaccFull/100)\r\n",
    "    numNone = curPop * (100 - ageVaccOnce.values)/100\r\n",
    "    # numNone = curPop - numOnce\r\n",
    "\r\n",
    "    # print(k)\r\n",
    "    # print(numOnce.shape)\r\n",
    "    currOnce += numOnce\r\n",
    "    # currOnce += numNone\r\n",
    "    # currOnce += currOnce\r\n",
    "    currNone += numNone\r\n",
    "\r\n",
    "    # ax1.plot(ageWeekDays,numOnce)\r\n",
    "    # ax1.plot(ageWeekDays,numNone)\r\n",
    "    # ax1.plot(ageWeekDays,currOnce)\r\n",
    "    ax1.fill_between(ageWeekDays,currOnce,prevOnce,label=curLabel,color=cmap(k))\r\n",
    "    ax2.fill_between(ageWeekDays,currNone,prevNone,label=curLabel,color=cmap(k))\r\n",
    "    # ax1.fill_between(ageWeekDays,currOnce)\r\n",
    "\r\n",
    "    prevOnce +=  numOnce\r\n",
    "    prevNone +=  numNone\r\n",
    "\r\n",
    "    # ax1.plot(ageWeekDays,numOnce)\r\n",
    "    # ax1.plot(ageWeekDays,numFull)\r\n",
    "    # ax1.plot(ageWeekDays,numNone)\r\n",
    "    \r\n",
    "    # ax1.plot(ageWeekDays,curPop*(100-ageVaccOnce),'-*',label=curLabel)\r\n",
    "    # ax2.plot(ageWeekDays,curPop*(100-ageVaccFull),'-*',label=curLabel)\r\n",
    "\r\n",
    "# ax2.fill_between(ageWeekDays,currNone,color='k',label='Resterende')\r\n",
    "\r\n",
    "# ax2.fill_between(ageWeekDays,restPop * np.ones(ageVaccOnce.values.shape),color='k',label='Resterende')\r\n",
    "\r\n",
    "ax1.set_ylim(bottom=0)\r\n",
    "ax2.set_ylim(bottom=0)\r\n",
    "\r\n",
    "# ax1.set_xlim(left=ageWeekDays.values[0],right=ageWeekDays.values[-1]+np.timedelta64(2,'D'))\r\n",
    "ax1.set_xlim(left=np.datetime64('2021-01-01'),right=ageWeekDays.values[-1]+np.timedelta64(2,'D'))\r\n",
    "\r\n",
    "ax1.grid()\r\n",
    "ax2.grid()\r\n",
    "ax1.set_axisbelow(True)\r\n",
    "ax2.set_axisbelow(True)\r\n",
    "\r\n",
    "\r\n",
    "ax1.xaxis.set_major_formatter(mdates.DateFormatter('%b'))\r\n",
    "\r\n",
    "ax1.set_ylabel('Antal vaccinerede')\r\n",
    "ax2.set_ylabel('Antal uvaccinerede')\r\n",
    "\r\n",
    "ax2.legend(loc='upper left',fontsize=12, bbox_to_anchor=(1.05, 1))\r\n",
    "\r\n",
    "ax1.ticklabel_format(axis='y',style='plain')\r\n",
    "ax2.ticklabel_format(axis='y',style='plain')\r\n",
    "\r\n",
    "plt.tight_layout()\r\n",
    "\r\n",
    "if saveFigures:\r\n",
    "    plt.savefig('figsVacc/TotalVaccOgUvacc_Stacked')\r\n",
    "    \r\n",
    "    \r\n",
    "ax1.set_xlim(left=np.datetime64('2021-06-15'),right=ageWeekDays.values[-1]+np.timedelta64(2,'D'))\r\n",
    "ax2.set_ylim(top=3e6)\r\n",
    "\r\n",
    "ax1.xaxis.set_major_formatter(mdates.DateFormatter('%d.\\n%b'))\r\n",
    "\r\n",
    "if saveFigures:\r\n",
    "    plt.savefig('figsVacc/TotalVaccOgUvacc_Stacked_Zoom')"
   ],
   "outputs": [
    {
     "output_type": "display_data",
     "data": {
      "application/vnd.jupyter.widget-view+json": {
       "version_major": 2,
       "version_minor": 0,
       "model_id": "b5774ca7ec0e47cd98ebdbf2d46bb473"
      },
      "text/plain": [
       "Canvas(toolbar=Toolbar(toolitems=[('Home', 'Reset original view', 'home', 'home'), ('Back', 'Back to previous …"
      ]
     },
     "metadata": {}
    },
    {
     "output_type": "error",
     "ename": "ValueError",
     "evalue": "operands could not be broadcast together with shapes (39,) (16,) (39,) ",
     "traceback": [
      "\u001b[1;31m---------------------------------------------------------------------------\u001b[0m",
      "\u001b[1;31mValueError\u001b[0m                                Traceback (most recent call last)",
      "\u001b[1;32m<ipython-input-25-044ec388bca7>\u001b[0m in \u001b[0;36m<module>\u001b[1;34m\u001b[0m\n\u001b[0;32m     44\u001b[0m     \u001b[1;31m# print(k)\u001b[0m\u001b[1;33m\u001b[0m\u001b[1;33m\u001b[0m\u001b[1;33m\u001b[0m\u001b[0m\n\u001b[0;32m     45\u001b[0m     \u001b[1;31m# print(numOnce.shape)\u001b[0m\u001b[1;33m\u001b[0m\u001b[1;33m\u001b[0m\u001b[1;33m\u001b[0m\u001b[0m\n\u001b[1;32m---> 46\u001b[1;33m     \u001b[0mcurrOnce\u001b[0m \u001b[1;33m+=\u001b[0m \u001b[0mnumOnce\u001b[0m\u001b[1;33m\u001b[0m\u001b[1;33m\u001b[0m\u001b[0m\n\u001b[0m\u001b[0;32m     47\u001b[0m     \u001b[1;31m# currOnce += numNone\u001b[0m\u001b[1;33m\u001b[0m\u001b[1;33m\u001b[0m\u001b[1;33m\u001b[0m\u001b[0m\n\u001b[0;32m     48\u001b[0m     \u001b[1;31m# currOnce += currOnce\u001b[0m\u001b[1;33m\u001b[0m\u001b[1;33m\u001b[0m\u001b[1;33m\u001b[0m\u001b[0m\n",
      "\u001b[1;31mValueError\u001b[0m: operands could not be broadcast together with shapes (39,) (16,) (39,) "
     ]
    }
   ],
   "metadata": {}
  },
  {
   "cell_type": "code",
   "execution_count": 26,
   "source": [
    "# currOnce"
   ],
   "outputs": [],
   "metadata": {}
  },
  {
   "cell_type": "code",
   "execution_count": 27,
   "source": [
    "fig,(ax1,ax2) = plt.subplots(2,1,sharex=True,figsize=(18,14))\r\n",
    " \r\n",
    "restPop = df_noegle[df_noegle['Målgruppe'] == allGroups[len(allGroups)-1]].Population.astype(int).sum()\r\n",
    "fullPop = df_noegle.Population.astype(int).sum()\r\n",
    "\r\n",
    "curdf = df_weekly[df_weekly['Målgruppe'] == allGroups[0]]\r\n",
    "ageVaccOnce = pd.to_numeric(curdf['Dækning førstegangsvaccinerede (kumulativt i %)'])\r\n",
    "\r\n",
    "# currOnce = np.zeros(ageVaccOnce.values.shape)\r\n",
    "# prevOnce = np.zeros(ageVaccOnce.values.shape)\r\n",
    "currOnce = np.zeros(ageVaccOnce.values.shape)\r\n",
    "prevOnce = np.zeros(ageVaccOnce.values.shape)\r\n",
    "# currNone = restPop * np.ones(ageVaccOnce.values.shape)\r\n",
    "# prevNone = restPop * np.ones(ageVaccOnce.values.shape)\r\n",
    "currNone = np.zeros(ageVaccOnce.values.shape)\r\n",
    "prevNone = np.zeros(ageVaccOnce.values.shape)\r\n",
    "\r\n",
    "\r\n",
    "cmap = cm.get_cmap('Spectral',len(allGroups))\r\n",
    "\r\n",
    "# allWeeks = df_weekly.Ugenummer.apply(lambda x: np.datetime64(datetime.datetime.strptime(x + '-1', \"%Y-W%W-%w\")))\r\n",
    "\r\n",
    "\r\n",
    "# for k in range(7,16):\r\n",
    "for k in range(0,len(allGroups)):\r\n",
    "    curdf = df_weekly[df_weekly['Målgruppe'] == allGroups[k]]\r\n",
    "\r\n",
    "    curPop = df_noegle[df_noegle['Målgruppe'] == allGroups[k]].Population.astype(int).sum()\r\n",
    "\r\n",
    "    curLabel = allGroups[k]\r\n",
    "\r\n",
    "    ageWeekDays = curdf.Ugenummer.apply(lambda x: np.datetime64(datetime.datetime.strptime(x + '-1', \"%Y-W%W-%w\")))\r\n",
    "\r\n",
    "    ageVaccOnce = pd.to_numeric(curdf['Dækning førstegangsvaccinerede (kumulativt i %)'])\r\n",
    "    ageVaccFull = pd.to_numeric(curdf['Dækning færdigvaccinerede (kumulativt i %)'])\r\n",
    "\r\n",
    "    numOnce = curPop * (ageVaccOnce.values/100)\r\n",
    "    numFull = curPop * (ageVaccFull/100)\r\n",
    "    numNone = curPop * (100 - ageVaccOnce.values)/100\r\n",
    "    # numNone = curPop - numOnce\r\n",
    "\r\n",
    "    # print(k)\r\n",
    "    # print(numOnce.shape)\r\n",
    "    currOnce += numOnce\r\n",
    "    # currOnce += numNone\r\n",
    "    # currOnce += currOnce\r\n",
    "    currNone += numNone\r\n",
    "\r\n",
    "    # ax1.plot(ageWeekDays,numOnce)\r\n",
    "    # ax1.plot(ageWeekDays,numNone)\r\n",
    "    # ax1.plot(ageWeekDays,currOnce)\r\n",
    "    ax1.fill_between(ageWeekDays,currOnce,prevOnce,label=curLabel,color=cmap(k))\r\n",
    "    ax2.fill_between(ageWeekDays,currNone,prevNone,label=curLabel,color=cmap(k))\r\n",
    "    # ax1.fill_between(ageWeekDays,currOnce)\r\n",
    "\r\n",
    "    prevOnce +=  numOnce\r\n",
    "    prevNone +=  numNone\r\n",
    "\r\n",
    "# ax2.fill_between(ageWeekDays,restPop * np.ones(ageVaccOnce.values.shape),color='k',label='Resterende')\r\n",
    "\r\n",
    "ax1.set_ylim(bottom=0)\r\n",
    "ax2.set_ylim(bottom=0)\r\n",
    "\r\n",
    "ax1.set_xlim(left=ageWeekDays.values[0],right=ageWeekDays.values[-1]+np.timedelta64(2,'D'))\r\n",
    "\r\n",
    "ax1.grid()\r\n",
    "ax2.grid()\r\n",
    "ax1.set_axisbelow(True)\r\n",
    "ax2.set_axisbelow(True)\r\n",
    "\r\n",
    "ax1.set_ylabel('Antal vaccinerede')\r\n",
    "ax2.set_ylabel('Antal uvaccinerede')\r\n",
    "\r\n",
    "ax2.legend(loc='upper left',fontsize=10, bbox_to_anchor=(1.05, 1))\r\n",
    "\r\n",
    "ax1.ticklabel_format(axis='y',style='plain')\r\n",
    "ax2.ticklabel_format(axis='y',style='plain')\r\n",
    "\r\n",
    "plt.tight_layout()\r\n",
    "\r\n",
    "if saveFigures:\r\n",
    "    plt.savefig('figsVacc/TotalVaccOgUvacc_StackedReversed')"
   ],
   "outputs": [
    {
     "output_type": "display_data",
     "data": {
      "application/vnd.jupyter.widget-view+json": {
       "version_major": 2,
       "version_minor": 0,
       "model_id": "ae70669c7b884b2db339329a65268718"
      },
      "text/plain": [
       "Canvas(toolbar=Toolbar(toolitems=[('Home', 'Reset original view', 'home', 'home'), ('Back', 'Back to previous …"
      ]
     },
     "metadata": {}
    },
    {
     "output_type": "error",
     "ename": "ValueError",
     "evalue": "operands could not be broadcast together with shapes (39,) (24,) (39,) ",
     "traceback": [
      "\u001b[1;31m---------------------------------------------------------------------------\u001b[0m",
      "\u001b[1;31mValueError\u001b[0m                                Traceback (most recent call last)",
      "\u001b[1;32m<ipython-input-27-5f55ccf20841>\u001b[0m in \u001b[0;36m<module>\u001b[1;34m\u001b[0m\n\u001b[0;32m     42\u001b[0m     \u001b[1;31m# print(k)\u001b[0m\u001b[1;33m\u001b[0m\u001b[1;33m\u001b[0m\u001b[1;33m\u001b[0m\u001b[0m\n\u001b[0;32m     43\u001b[0m     \u001b[1;31m# print(numOnce.shape)\u001b[0m\u001b[1;33m\u001b[0m\u001b[1;33m\u001b[0m\u001b[1;33m\u001b[0m\u001b[0m\n\u001b[1;32m---> 44\u001b[1;33m     \u001b[0mcurrOnce\u001b[0m \u001b[1;33m+=\u001b[0m \u001b[0mnumOnce\u001b[0m\u001b[1;33m\u001b[0m\u001b[1;33m\u001b[0m\u001b[0m\n\u001b[0m\u001b[0;32m     45\u001b[0m     \u001b[1;31m# currOnce += numNone\u001b[0m\u001b[1;33m\u001b[0m\u001b[1;33m\u001b[0m\u001b[1;33m\u001b[0m\u001b[0m\n\u001b[0;32m     46\u001b[0m     \u001b[1;31m# currOnce += currOnce\u001b[0m\u001b[1;33m\u001b[0m\u001b[1;33m\u001b[0m\u001b[1;33m\u001b[0m\u001b[0m\n",
      "\u001b[1;31mValueError\u001b[0m: operands could not be broadcast together with shapes (39,) (24,) (39,) "
     ]
    }
   ],
   "metadata": {}
  },
  {
   "cell_type": "code",
   "execution_count": 28,
   "source": [
    "df_weekly[df_weekly['Målgruppe'] == allGroups[-1]]"
   ],
   "outputs": [
    {
     "output_type": "execute_result",
     "data": {
      "text/html": [
       "<div>\n",
       "<style scoped>\n",
       "    .dataframe tbody tr th:only-of-type {\n",
       "        vertical-align: middle;\n",
       "    }\n",
       "\n",
       "    .dataframe tbody tr th {\n",
       "        vertical-align: top;\n",
       "    }\n",
       "\n",
       "    .dataframe thead th {\n",
       "        text-align: right;\n",
       "    }\n",
       "</style>\n",
       "<table border=\"1\" class=\"dataframe\">\n",
       "  <thead>\n",
       "    <tr style=\"text-align: right;\">\n",
       "      <th></th>\n",
       "      <th>Ugenummer</th>\n",
       "      <th>Målgruppe</th>\n",
       "      <th>Dækning førstegangsvaccinerede (kumulativt i %)</th>\n",
       "      <th>Dækning færdigvaccinerede (kumulativt i %)</th>\n",
       "    </tr>\n",
       "  </thead>\n",
       "  <tbody>\n",
       "    <tr>\n",
       "      <th>194</th>\n",
       "      <td>2021-W09</td>\n",
       "      <td>Resterende</td>\n",
       "      <td>0.00</td>\n",
       "      <td>0.00</td>\n",
       "    </tr>\n",
       "    <tr>\n",
       "      <th>324</th>\n",
       "      <td>2021-W17</td>\n",
       "      <td>Resterende</td>\n",
       "      <td>0.00</td>\n",
       "      <td>0.00</td>\n",
       "    </tr>\n",
       "    <tr>\n",
       "      <th>358</th>\n",
       "      <td>2021-W19</td>\n",
       "      <td>Resterende</td>\n",
       "      <td>0.00</td>\n",
       "      <td>0.00</td>\n",
       "    </tr>\n",
       "    <tr>\n",
       "      <th>393</th>\n",
       "      <td>2021-W21</td>\n",
       "      <td>Resterende</td>\n",
       "      <td>0.00</td>\n",
       "      <td>0.00</td>\n",
       "    </tr>\n",
       "    <tr>\n",
       "      <th>411</th>\n",
       "      <td>2021-W22</td>\n",
       "      <td>Resterende</td>\n",
       "      <td>0.00</td>\n",
       "      <td>0.00</td>\n",
       "    </tr>\n",
       "    <tr>\n",
       "      <th>429</th>\n",
       "      <td>2021-W23</td>\n",
       "      <td>Resterende</td>\n",
       "      <td>0.00</td>\n",
       "      <td>0.00</td>\n",
       "    </tr>\n",
       "    <tr>\n",
       "      <th>447</th>\n",
       "      <td>2021-W24</td>\n",
       "      <td>Resterende</td>\n",
       "      <td>0.00</td>\n",
       "      <td>0.00</td>\n",
       "    </tr>\n",
       "    <tr>\n",
       "      <th>499</th>\n",
       "      <td>2021-W27</td>\n",
       "      <td>Resterende</td>\n",
       "      <td>0.00</td>\n",
       "      <td>0.00</td>\n",
       "    </tr>\n",
       "    <tr>\n",
       "      <th>517</th>\n",
       "      <td>2021-W28</td>\n",
       "      <td>Resterende</td>\n",
       "      <td>0.00</td>\n",
       "      <td>0.00</td>\n",
       "    </tr>\n",
       "    <tr>\n",
       "      <th>535</th>\n",
       "      <td>2021-W29</td>\n",
       "      <td>Resterende</td>\n",
       "      <td>0.00</td>\n",
       "      <td>0.00</td>\n",
       "    </tr>\n",
       "    <tr>\n",
       "      <th>553</th>\n",
       "      <td>2021-W30</td>\n",
       "      <td>Resterende</td>\n",
       "      <td>0.00</td>\n",
       "      <td>0.00</td>\n",
       "    </tr>\n",
       "    <tr>\n",
       "      <th>605</th>\n",
       "      <td>2021-W33</td>\n",
       "      <td>Resterende</td>\n",
       "      <td>0.00</td>\n",
       "      <td>0.00</td>\n",
       "    </tr>\n",
       "    <tr>\n",
       "      <th>623</th>\n",
       "      <td>2021-W34</td>\n",
       "      <td>Resterende</td>\n",
       "      <td>0.00</td>\n",
       "      <td>0.00</td>\n",
       "    </tr>\n",
       "    <tr>\n",
       "      <th>641</th>\n",
       "      <td>2021-W35</td>\n",
       "      <td>Resterende</td>\n",
       "      <td>0.00</td>\n",
       "      <td>0.00</td>\n",
       "    </tr>\n",
       "    <tr>\n",
       "      <th>658</th>\n",
       "      <td>2021-W36</td>\n",
       "      <td>Resterende</td>\n",
       "      <td>0.00</td>\n",
       "      <td>0.00</td>\n",
       "    </tr>\n",
       "    <tr>\n",
       "      <th>675</th>\n",
       "      <td>2021-W37</td>\n",
       "      <td>Resterende</td>\n",
       "      <td>0.00</td>\n",
       "      <td>0.00</td>\n",
       "    </tr>\n",
       "  </tbody>\n",
       "</table>\n",
       "</div>"
      ],
      "text/plain": [
       "    Ugenummer   Målgruppe Dækning førstegangsvaccinerede (kumulativt i %)  \\\n",
       "194  2021-W09  Resterende                                            0.00   \n",
       "324  2021-W17  Resterende                                            0.00   \n",
       "358  2021-W19  Resterende                                            0.00   \n",
       "393  2021-W21  Resterende                                            0.00   \n",
       "411  2021-W22  Resterende                                            0.00   \n",
       "429  2021-W23  Resterende                                            0.00   \n",
       "447  2021-W24  Resterende                                            0.00   \n",
       "499  2021-W27  Resterende                                            0.00   \n",
       "517  2021-W28  Resterende                                            0.00   \n",
       "535  2021-W29  Resterende                                            0.00   \n",
       "553  2021-W30  Resterende                                            0.00   \n",
       "605  2021-W33  Resterende                                            0.00   \n",
       "623  2021-W34  Resterende                                            0.00   \n",
       "641  2021-W35  Resterende                                            0.00   \n",
       "658  2021-W36  Resterende                                            0.00   \n",
       "675  2021-W37  Resterende                                            0.00   \n",
       "\n",
       "    Dækning færdigvaccinerede (kumulativt i %)  \n",
       "194                                       0.00  \n",
       "324                                       0.00  \n",
       "358                                       0.00  \n",
       "393                                       0.00  \n",
       "411                                       0.00  \n",
       "429                                       0.00  \n",
       "447                                       0.00  \n",
       "499                                       0.00  \n",
       "517                                       0.00  \n",
       "535                                       0.00  \n",
       "553                                       0.00  \n",
       "605                                       0.00  \n",
       "623                                       0.00  \n",
       "641                                       0.00  \n",
       "658                                       0.00  \n",
       "675                                       0.00  "
      ]
     },
     "metadata": {},
     "execution_count": 28
    }
   ],
   "metadata": {}
  },
  {
   "cell_type": "code",
   "execution_count": 29,
   "source": [
    "# Fungerer nok bedre som barchart\r\n",
    "\r\n",
    "\r\n",
    "# latestWeek = df_weekly.Ugenummer.max()\r\n",
    "# df_weekly[df_weekly.Ugenummer == latestWeek]\r\n",
    "\r\n",
    "# Data er i df_noegle\r\n",
    "\r\n",
    "allNone = []\r\n",
    "allOnce = []\r\n",
    "allFull = []\r\n",
    "\r\n",
    "\r\n",
    "for k in range(0,len(allGroups)):\r\n",
    "    curLabel = allGroups[k]\r\n",
    "    curdf = df_noegle[df_noegle['Målgruppe'] == allGroups[k]]\r\n",
    "\r\n",
    "    curPop = curdf.Population.astype(int).sum()\r\n",
    "\r\n",
    "    numOnce = curdf['Antal førstevaccinerede'].astype(int).sum()\r\n",
    "    numFull = curdf['Antal færdigvaccinerede'].astype(int).sum()\r\n",
    "    numNone = curPop - numOnce\r\n",
    "\r\n",
    "    allNone.append(numNone)\r\n",
    "    allOnce.append(numOnce)\r\n",
    "    allFull.append(numFull)\r\n",
    "# df_noegle\r\n",
    "# allFull\r\n",
    "\r\n",
    "fig,ax1 = plt.subplots()\r\n",
    "\r\n",
    "ax1.bar(allGroups,allNone,bottom=allOnce,color='k',label='Ikke vaccineret')\r\n",
    "ax1.bar(allGroups,allOnce,color='xkcd:light green',label='Første dosis')\r\n",
    "ax1.bar(allGroups,allFull,color='green',label='Færdigvaccineret')\r\n",
    "\r\n",
    "# ax1.set_xticklabels(fontsize=6)\r\n",
    "plt.xticks(fontsize= 8,rotation=90)\r\n",
    "# ax1.bar(range(0,len(allGroups)),allNone,bottom=allOnce)\r\n",
    "# ax1.bar(range(0,len(allGroups)),allOnce)\r\n",
    "\r\n",
    "ax1.ticklabel_format(axis='y',style='plain')\r\n",
    "\r\n",
    "ax1.legend()\r\n",
    "\r\n",
    "ax1.set_title('Hele landet')\r\n",
    "\r\n",
    "plt.tight_layout()\r\n",
    "\r\n",
    "\r\n",
    "if saveFigures:\r\n",
    "    plt.savefig('figsVacc/CountVacc_Danmark')"
   ],
   "outputs": [
    {
     "output_type": "display_data",
     "data": {
      "application/vnd.jupyter.widget-view+json": {
       "version_major": 2,
       "version_minor": 0,
       "model_id": "ad64bdd45bc048509dc600b96681c515"
      },
      "text/plain": [
       "Canvas(toolbar=Toolbar(toolitems=[('Home', 'Reset original view', 'home', 'home'), ('Back', 'Back to previous …"
      ]
     },
     "metadata": {}
    }
   ],
   "metadata": {}
  },
  {
   "cell_type": "code",
   "execution_count": 30,
   "source": [
    "curdf"
   ],
   "outputs": [
    {
     "output_type": "execute_result",
     "data": {
      "text/html": [
       "<div>\n",
       "<style scoped>\n",
       "    .dataframe tbody tr th:only-of-type {\n",
       "        vertical-align: middle;\n",
       "    }\n",
       "\n",
       "    .dataframe tbody tr th {\n",
       "        vertical-align: top;\n",
       "    }\n",
       "\n",
       "    .dataframe thead th {\n",
       "        text-align: right;\n",
       "    }\n",
       "</style>\n",
       "<table border=\"1\" class=\"dataframe\">\n",
       "  <thead>\n",
       "    <tr style=\"text-align: right;\">\n",
       "      <th></th>\n",
       "      <th>Målgruppe</th>\n",
       "      <th>Ansættelsessted</th>\n",
       "      <th>Bopælsregion</th>\n",
       "      <th>Population</th>\n",
       "      <th>Antal førstevaccinerede</th>\n",
       "      <th>Antal færdigvaccinerede</th>\n",
       "      <th>Førstegangs vaccinerede dækning (%)</th>\n",
       "      <th>Færdigvaccinerede dækning (%)</th>\n",
       "    </tr>\n",
       "  </thead>\n",
       "  <tbody>\n",
       "    <tr>\n",
       "      <th>130</th>\n",
       "      <td>Resterende</td>\n",
       "      <td>NaN</td>\n",
       "      <td>Hovedstaden</td>\n",
       "      <td>238598</td>\n",
       "      <td>17</td>\n",
       "      <td>3</td>\n",
       "      <td>0.0</td>\n",
       "      <td>0.0</td>\n",
       "    </tr>\n",
       "    <tr>\n",
       "      <th>131</th>\n",
       "      <td>Resterende</td>\n",
       "      <td>NaN</td>\n",
       "      <td>Midtjylland</td>\n",
       "      <td>169715</td>\n",
       "      <td>7</td>\n",
       "      <td>0</td>\n",
       "      <td>0.0</td>\n",
       "      <td>0.0</td>\n",
       "    </tr>\n",
       "    <tr>\n",
       "      <th>132</th>\n",
       "      <td>Resterende</td>\n",
       "      <td>NaN</td>\n",
       "      <td>Nordjylland</td>\n",
       "      <td>69285</td>\n",
       "      <td>1</td>\n",
       "      <td>0</td>\n",
       "      <td>0.0</td>\n",
       "      <td>0.0</td>\n",
       "    </tr>\n",
       "    <tr>\n",
       "      <th>133</th>\n",
       "      <td>Resterende</td>\n",
       "      <td>NaN</td>\n",
       "      <td>Sjælland</td>\n",
       "      <td>98368</td>\n",
       "      <td>2</td>\n",
       "      <td>1</td>\n",
       "      <td>0.0</td>\n",
       "      <td>0.0</td>\n",
       "    </tr>\n",
       "    <tr>\n",
       "      <th>134</th>\n",
       "      <td>Resterende</td>\n",
       "      <td>NaN</td>\n",
       "      <td>Syddanmark</td>\n",
       "      <td>147387</td>\n",
       "      <td>6</td>\n",
       "      <td>1</td>\n",
       "      <td>0.0</td>\n",
       "      <td>0.0</td>\n",
       "    </tr>\n",
       "  </tbody>\n",
       "</table>\n",
       "</div>"
      ],
      "text/plain": [
       "      Målgruppe Ansættelsessted Bopælsregion Population  \\\n",
       "130  Resterende             NaN  Hovedstaden     238598   \n",
       "131  Resterende             NaN  Midtjylland     169715   \n",
       "132  Resterende             NaN  Nordjylland      69285   \n",
       "133  Resterende             NaN     Sjælland      98368   \n",
       "134  Resterende             NaN   Syddanmark     147387   \n",
       "\n",
       "    Antal førstevaccinerede Antal færdigvaccinerede  \\\n",
       "130                      17                       3   \n",
       "131                       7                       0   \n",
       "132                       1                       0   \n",
       "133                       2                       1   \n",
       "134                       6                       1   \n",
       "\n",
       "    Førstegangs vaccinerede dækning (%) Færdigvaccinerede dækning (%)  \n",
       "130                                 0.0                           0.0  \n",
       "131                                 0.0                           0.0  \n",
       "132                                 0.0                           0.0  \n",
       "133                                 0.0                           0.0  \n",
       "134                                 0.0                           0.0  "
      ]
     },
     "metadata": {},
     "execution_count": 30
    }
   ],
   "metadata": {}
  },
  {
   "cell_type": "code",
   "execution_count": 31,
   "source": [
    "for reg in df_noegle['Bopælsregion'].unique():\r\n",
    "\r\n",
    "    allNone = []\r\n",
    "    allOnce = []\r\n",
    "    allFull = []\r\n",
    "\r\n",
    "    for k in range(0,len(allGroups)):\r\n",
    "        curLabel = allGroups[k]\r\n",
    "        curdf = df_noegle[df_noegle['Målgruppe'] == allGroups[k]]\r\n",
    "        curdf = curdf[curdf['Bopælsregion'] == reg]\r\n",
    "\r\n",
    "        curPop = curdf.Population.astype(int).sum()\r\n",
    "\r\n",
    "        numOnce = curdf['Antal førstevaccinerede'].astype(int).sum()\r\n",
    "        numFull = curdf['Antal færdigvaccinerede'].astype(int).sum()\r\n",
    "        numNone = curPop - numOnce\r\n",
    "\r\n",
    "        allNone.append(numNone)\r\n",
    "        allOnce.append(numOnce)\r\n",
    "        allFull.append(numFull)\r\n",
    "    # df_noegle\r\n",
    "    # allFull\r\n",
    "\r\n",
    "    fig,ax1 = plt.subplots()\r\n",
    "\r\n",
    "    ax1.bar(allGroups,allNone,bottom=allOnce,color='k',label='Ikke vaccineret')\r\n",
    "    ax1.bar(allGroups,allOnce,color='xkcd:light green',label='Første dosis')\r\n",
    "    ax1.bar(allGroups,allFull,color='green',label='Færdigvaccineret')\r\n",
    "\r\n",
    "    # ax1.set_xticklabels(fontsize=6)\r\n",
    "    plt.xticks(fontsize= 8,rotation=90)\r\n",
    "    # ax1.bar(range(0,len(allGroups)),allNone,bottom=allOnce)\r\n",
    "    # ax1.bar(range(0,len(allGroups)),allOnce)\r\n",
    "\r\n",
    "    ax1.ticklabel_format(axis='y',style='plain')\r\n",
    "\r\n",
    "    ax1.legend()\r\n",
    "\r\n",
    "    ax1.set_title(reg)\r\n",
    "\r\n",
    "    plt.tight_layout()\r\n",
    "\r\n",
    "    if saveFigures:\r\n",
    "        plt.savefig('figsVacc/CountVacc_'+reg)"
   ],
   "outputs": [
    {
     "output_type": "display_data",
     "data": {
      "application/vnd.jupyter.widget-view+json": {
       "version_major": 2,
       "version_minor": 0,
       "model_id": "2ff7b4a1704849b8abfa805a672c2663"
      },
      "text/plain": [
       "Canvas(toolbar=Toolbar(toolitems=[('Home', 'Reset original view', 'home', 'home'), ('Back', 'Back to previous …"
      ]
     },
     "metadata": {}
    },
    {
     "output_type": "display_data",
     "data": {
      "application/vnd.jupyter.widget-view+json": {
       "version_major": 2,
       "version_minor": 0,
       "model_id": "d6f70ddc48f34ac4a9ca6bea781ba9e4"
      },
      "text/plain": [
       "Canvas(toolbar=Toolbar(toolitems=[('Home', 'Reset original view', 'home', 'home'), ('Back', 'Back to previous …"
      ]
     },
     "metadata": {}
    },
    {
     "output_type": "display_data",
     "data": {
      "application/vnd.jupyter.widget-view+json": {
       "version_major": 2,
       "version_minor": 0,
       "model_id": "3ec963934c634b1c86115e3778990c79"
      },
      "text/plain": [
       "Canvas(toolbar=Toolbar(toolitems=[('Home', 'Reset original view', 'home', 'home'), ('Back', 'Back to previous …"
      ]
     },
     "metadata": {}
    },
    {
     "output_type": "display_data",
     "data": {
      "application/vnd.jupyter.widget-view+json": {
       "version_major": 2,
       "version_minor": 0,
       "model_id": "795cbdacbc7a465a8627e16d3c953840"
      },
      "text/plain": [
       "Canvas(toolbar=Toolbar(toolitems=[('Home', 'Reset original view', 'home', 'home'), ('Back', 'Back to previous …"
      ]
     },
     "metadata": {}
    },
    {
     "output_type": "display_data",
     "data": {
      "application/vnd.jupyter.widget-view+json": {
       "version_major": 2,
       "version_minor": 0,
       "model_id": "2066727cd4b148f490f62036510c15d9"
      },
      "text/plain": [
       "Canvas(toolbar=Toolbar(toolitems=[('Home', 'Reset original view', 'home', 'home'), ('Back', 'Back to previous …"
      ]
     },
     "metadata": {}
    }
   ],
   "metadata": {}
  },
  {
   "cell_type": "code",
   "execution_count": 32,
   "source": [
    "# Fungerer nok bedre som barchart\r\n",
    "\r\n",
    "\r\n",
    "# latestWeek = df_weekly.Ugenummer.max()\r\n",
    "# df_weekly[df_weekly.Ugenummer == latestWeek]\r\n",
    "\r\n",
    "# Data er i df_noegle\r\n",
    "\r\n",
    "allNone = []\r\n",
    "allOnce = []\r\n",
    "allFull = []\r\n",
    "\r\n",
    "groupsToShow = allGroups[:-1]\r\n",
    "for k in range(0,len(groupsToShow)):\r\n",
    "    curLabel = groupsToShow[k]\r\n",
    "    curdf = df_noegle[df_noegle['Målgruppe'] == groupsToShow[k]]\r\n",
    "\r\n",
    "    curPop = curdf.Population.astype(int).sum()\r\n",
    "\r\n",
    "    numOnce = curdf['Antal førstevaccinerede'].astype(int).sum()\r\n",
    "    numFull = curdf['Antal færdigvaccinerede'].astype(int).sum()\r\n",
    "    numNone = curPop - numOnce\r\n",
    "\r\n",
    "    allNone.append(numNone)\r\n",
    "    allOnce.append(numOnce)\r\n",
    "    allFull.append(numFull)\r\n",
    "# df_noegle\r\n",
    "# allFull\r\n",
    "\r\n",
    "fig,ax1 = plt.subplots()\r\n",
    "\r\n",
    "ax1.bar(groupsToShow,allNone,color='k',label='Ikke vaccineret')\r\n",
    "# ax1.bar(groupsToShow,allOnce,bottom=allNone,color='xkcd:light green',label='Første dosis')\r\n",
    "# ax1.bar(groupsToShow,allFull,bottom=allNone,color='green',label='Færdigvaccineret')\r\n",
    "\r\n",
    "# ax1.set_xticklabels(fontsize=6)\r\n",
    "plt.xticks(fontsize= 8,rotation=90)\r\n",
    "# ax1.bar(range(0,len(allGroups)),allNone,bottom=allOnce)\r\n",
    "# ax1.bar(range(0,len(allGroups)),allOnce)\r\n",
    "\r\n",
    "ax1.ticklabel_format(axis='y',style='plain')\r\n",
    "\r\n",
    "ax1.legend()\r\n",
    "\r\n",
    "ax1.set_title('Hele landet')\r\n",
    "\r\n",
    "plt.tight_layout()\r\n",
    "\r\n",
    "\r\n",
    "if saveFigures:\r\n",
    "    plt.savefig('figsVacc/CountUvacc_Danmark')"
   ],
   "outputs": [
    {
     "output_type": "display_data",
     "data": {
      "application/vnd.jupyter.widget-view+json": {
       "version_major": 2,
       "version_minor": 0,
       "model_id": "be134e7527f849ecb892b8a96b254484"
      },
      "text/plain": [
       "Canvas(toolbar=Toolbar(toolitems=[('Home', 'Reset original view', 'home', 'home'), ('Back', 'Back to previous …"
      ]
     },
     "metadata": {}
    }
   ],
   "metadata": {}
  },
  {
   "cell_type": "code",
   "execution_count": 33,
   "source": [
    "# Fungerer nok bedre som barchart\r\n",
    "\r\n",
    "\r\n",
    "# latestWeek = df_weekly.Ugenummer.max()\r\n",
    "# df_weekly[df_weekly.Ugenummer == latestWeek]\r\n",
    "\r\n",
    "# Data er i df_noegle\r\n",
    "\r\n",
    "allNone = []\r\n",
    "allOnce = []\r\n",
    "allFull = []\r\n",
    "\r\n",
    "groupsToShow = allGroups[:-1]\r\n",
    "# groupsToShow = allGroups\r\n",
    "for k in range(0,len(groupsToShow)):\r\n",
    "    curLabel = groupsToShow[k]\r\n",
    "    curdf = df_noegle[df_noegle['Målgruppe'] == groupsToShow[k]]\r\n",
    "\r\n",
    "    curPop = curdf.Population.astype(int).sum()\r\n",
    "\r\n",
    "    numOnce = curdf['Antal førstevaccinerede'].astype(int).sum()\r\n",
    "    numFull = curdf['Antal færdigvaccinerede'].astype(int).sum()\r\n",
    "    numNone = curPop - numOnce\r\n",
    "\r\n",
    "    allNone.append(100*numNone/curPop)\r\n",
    "    allOnce.append(100*numOnce/curPop)\r\n",
    "    allFull.append(100*numFull/curPop)\r\n",
    "# df_noegle\r\n",
    "# allFull\r\n",
    "\r\n",
    "fig,ax1 = plt.subplots()\r\n",
    "\r\n",
    "ax1.bar(groupsToShow,allNone,color='k',label='Ikke vaccineret')\r\n",
    "# ax1.bar(groupsToShow,allOnce,bottom=allNone,color='xkcd:light green',label='Første dosis')\r\n",
    "# ax1.bar(groupsToShow,allFull,bottom=allNone,color='green',label='Færdigvaccineret')\r\n",
    "\r\n",
    "# ax1.set_xticklabels(fontsize=6)\r\n",
    "plt.xticks(fontsize= 8,rotation=90)\r\n",
    "# ax1.bar(range(0,len(allGroups)),allNone,bottom=allOnce)\r\n",
    "# ax1.bar(range(0,len(allGroups)),allOnce)\r\n",
    "\r\n",
    "ax1.ticklabel_format(axis='y',style='plain')\r\n",
    "\r\n",
    "# ax1.legend()\r\n",
    "ax1.set_ylabel('Andel uvaccinerede [%]')\r\n",
    "\r\n",
    "ax1.set_title('Hele landet')\r\n",
    "\r\n",
    "plt.tight_layout()\r\n",
    "\r\n",
    "\r\n",
    "if saveFigures:\r\n",
    "    plt.savefig('figsVacc/CountUvacc_Danmark_Norm')"
   ],
   "outputs": [
    {
     "output_type": "display_data",
     "data": {
      "application/vnd.jupyter.widget-view+json": {
       "version_major": 2,
       "version_minor": 0,
       "model_id": "c60e37ace47a4094bd482aacc3234bbe"
      },
      "text/plain": [
       "Canvas(toolbar=Toolbar(toolitems=[('Home', 'Reset original view', 'home', 'home'), ('Back', 'Back to previous …"
      ]
     },
     "metadata": {}
    }
   ],
   "metadata": {}
  },
  {
   "cell_type": "code",
   "execution_count": 34,
   "source": [
    "dfCase = pd.read_csv('DKDailyAgeCase.csv')\r\n",
    "# dfDeath.to_csv('DKDailyAgeDeath.csv')\r\n",
    "dfCase.Dato = pd.to_datetime(dfCase.Dato)"
   ],
   "outputs": [],
   "metadata": {}
  },
  {
   "cell_type": "code",
   "execution_count": 35,
   "source": [
    "allGroups"
   ],
   "outputs": [
    {
     "output_type": "execute_result",
     "data": {
      "text/plain": [
       "array(['1. Plejehjemsbeboere', '11. Personer fra årgang 2006-2009',\n",
       "       '2. Borgere > 65, praktisk hjælp og personlig pleje',\n",
       "       '3. Borgere fra årgang 1936 og derunder (85 år og ældre)',\n",
       "       '4. Personale i sundhedsvæsenet og dele af socialvæsenet',\n",
       "       '5. Udvalgte patienter med særligt øget risiko',\n",
       "       '6. Udvalgte pårørende til personer med særligt øget risiko',\n",
       "       '7. Personer fra årgang 1937-1941',\n",
       "       '8. Personer fra årgang 1942-1946',\n",
       "       '9. Personer fra årgang 1947-1956',\n",
       "       '10A. Personer fra årgang 1957-1961',\n",
       "       '10B. Personer fra årgang 1962-1966',\n",
       "       '10C. Personer fra årgang 1967-1971',\n",
       "       '10D1. Personer fra årgang 1972-1976 og årgang 2002-2005',\n",
       "       '10D2. Personer fra årgang 1977-1981 og årgang 1997-2001',\n",
       "       '10D3. Personer fra årgang 1982-1986 og årgang 1992-1996',\n",
       "       '10D4. Personer fra årgang 1987-1991', 'Resterende'], dtype=object)"
      ]
     },
     "metadata": {},
     "execution_count": 35
    }
   ],
   "metadata": {}
  },
  {
   "cell_type": "code",
   "execution_count": 36,
   "source": [
    "fig,(ax1,ax2) = plt.subplots(2,1,sharex=True)\r\n",
    "\r\n",
    "ax1.plot(dfCase.Dato,dfCase['20-29'])\r\n",
    "# ax1.plot(dfCase.Dato,dfCase['50-59'])\r\n",
    "\r\n",
    "\r\n",
    "# for k in range(7,16):\r\n",
    "# for k in range(0,len(allGroups)-1):\r\n",
    "\r\n",
    "k = 14\r\n",
    "print(allGroups[k])\r\n",
    "curdf = df_weekly[df_weekly['Målgruppe'] == allGroups[k]]\r\n",
    "\r\n",
    "curPop = df_noegle[df_noegle['Målgruppe'] == allGroups[k]].Population.astype(int).sum()\r\n",
    "\r\n",
    "curLabel = allGroups[k]\r\n",
    "\r\n",
    "ageWeekDays = curdf.Ugenummer.apply(lambda x: np.datetime64(datetime.datetime.strptime(x + '-1', \"%Y-W%W-%w\")))\r\n",
    "\r\n",
    "ageVaccOnce = pd.to_numeric(curdf['Dækning førstegangsvaccinerede (kumulativt i %)'])\r\n",
    "ageVaccFull = pd.to_numeric(curdf['Dækning færdigvaccinerede (kumulativt i %)'])\r\n",
    "\r\n",
    "numOnce = curPop * (ageVaccOnce.values/100)\r\n",
    "numFull = curPop * (ageVaccFull/100)\r\n",
    "numNone = curPop * (100 - ageVaccOnce.values)/100\r\n",
    "\r\n",
    "ax2.plot(ageWeekDays,curPop*np.ones(numFull.shape),color='grey') \r\n",
    "ax2.plot(ageWeekDays,numOnce,color='xkcd:light green') \r\n",
    "ax2.plot(ageWeekDays,numFull,color='g') \r\n",
    "\r\n",
    "k = 13\r\n",
    "curdf = df_weekly[df_weekly['Målgruppe'] == allGroups[k]]\r\n",
    "\r\n",
    "curPop = df_noegle[df_noegle['Målgruppe'] == allGroups[k]].Population.astype(int).sum()\r\n",
    "\r\n",
    "curLabel = allGroups[k]\r\n",
    "\r\n",
    "ageWeekDays = curdf.Ugenummer.apply(lambda x: np.datetime64(datetime.datetime.strptime(x + '-1', \"%Y-W%W-%w\")))\r\n",
    "\r\n",
    "ageVaccOnce = pd.to_numeric(curdf['Dækning førstegangsvaccinerede (kumulativt i %)'])\r\n",
    "ageVaccFull = pd.to_numeric(curdf['Dækning færdigvaccinerede (kumulativt i %)'])\r\n",
    "\r\n",
    "numOnce = curPop * (ageVaccOnce.values/100)\r\n",
    "numFull = curPop * (ageVaccFull/100)\r\n",
    "numNone = curPop * (100 - ageVaccOnce.values)/100\r\n",
    "\r\n",
    "ax2.plot(ageWeekDays,curPop*np.ones(numFull.shape),color='grey') \r\n",
    "ax2.plot(ageWeekDays,numOnce,color='xkcd:light green') \r\n",
    "ax2.plot(ageWeekDays,numFull,color='g') \r\n",
    "\r\n",
    "ax2.set_ylabel(curLabel)\r\n",
    "\r\n",
    "ax1.set_ylim(bottom=0)"
   ],
   "outputs": [
    {
     "output_type": "display_data",
     "data": {
      "application/vnd.jupyter.widget-view+json": {
       "version_major": 2,
       "version_minor": 0,
       "model_id": "9406be84259e4344ac25b6741305cf4d"
      },
      "text/plain": [
       "Canvas(toolbar=Toolbar(toolitems=[('Home', 'Reset original view', 'home', 'home'), ('Back', 'Back to previous …"
      ]
     },
     "metadata": {}
    },
    {
     "output_type": "stream",
     "name": "stdout",
     "text": [
      "10D2. Personer fra årgang 1977-1981 og årgang 1997-2001\n"
     ]
    },
    {
     "output_type": "execute_result",
     "data": {
      "text/plain": [
       "(0.0, 678.05)"
      ]
     },
     "metadata": {},
     "execution_count": 36
    }
   ],
   "metadata": {}
  },
  {
   "cell_type": "code",
   "execution_count": null,
   "source": [
    "df_weekly"
   ],
   "outputs": [],
   "metadata": {}
  },
  {
   "cell_type": "code",
   "execution_count": null,
   "source": [],
   "outputs": [],
   "metadata": {}
  }
 ]
}