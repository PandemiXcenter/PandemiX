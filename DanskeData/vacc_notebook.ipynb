{
 "metadata": {
  "language_info": {
   "codemirror_mode": {
    "name": "ipython",
    "version": 3
   },
   "file_extension": ".py",
   "mimetype": "text/x-python",
   "name": "python",
   "nbconvert_exporter": "python",
   "pygments_lexer": "ipython3",
   "version": "3.8.8"
  },
  "orig_nbformat": 2,
  "kernelspec": {
   "name": "python3",
   "display_name": "Python 3.8.8 64-bit ('main': conda)"
  },
  "interpreter": {
   "hash": "c031fd63bd977d199cd6020c30a19695eacbb638d100e0b8a5ea53080ed74a9a"
  }
 },
 "nbformat": 4,
 "nbformat_minor": 2,
 "cells": [
  {
   "cell_type": "code",
   "execution_count": 1,
   "source": [
    "# Notebook til at undersøge vaccinationsdata\r\n",
    "import numpy as np\r\n",
    "import pandas as pd\r\n",
    "pd.set_option('display.max_rows', 500)\r\n",
    "pd.set_option('display.min_rows', 50)\r\n",
    "\r\n",
    "\r\n",
    "import matplotlib.pyplot as plt\r\n",
    "%matplotlib widget\r\n",
    "plt.rcParams['figure.figsize'] = (12,8)\r\n",
    "plt.rcParams[\"image.cmap\"] = \"tab10\"\r\n",
    "plt.rcParams['axes.prop_cycle'] = plt.cycler(color=plt.cm.tab10.colors)\r\n",
    "fs_label = 16\r\n",
    "parameters = {\r\n",
    "                'axes.labelsize': fs_label,\r\n",
    "                'axes.titlesize': fs_label+4,\r\n",
    "                'xtick.labelsize': fs_label,\r\n",
    "                'ytick.labelsize': fs_label, \r\n",
    "                'legend.fontsize': fs_label, \r\n",
    "                'lines.markersize': 10,\r\n",
    "                'lines.linewidth': 3\r\n",
    "             }\r\n",
    "plt.rcParams.update(parameters)\r\n",
    "%matplotlib widget\r\n",
    "import matplotlib.colors as colors\r\n",
    "from matplotlib import cm # Colormaps\r\n",
    "\r\n",
    "cmap = cm.get_cmap('Dark2',7)\r\n",
    "\r\n",
    "import locale\r\n",
    "import matplotlib.dates as mdates\r\n",
    "locale.setlocale(locale.LC_TIME,\"Danish\")\r\n",
    "# ax = plt.gca()\r\n",
    "# ax1.xaxis.set_major_formatter(mdates.DateFormatter('%b\\n%Y'))\r\n",
    "# # ax.xaxis.set_major_formatter(mdates.DateFormatter('%Y \\n %B'))\r\n",
    "\r\n",
    "\r\n",
    "import os\r\n",
    "import math\r\n",
    "\r\n",
    "from datetime import date\r\n",
    "import datetime\r\n",
    "\r\n",
    "saveFigures = True\r\n",
    "print('saveFigures is set to: '+str(saveFigures))\r\n",
    "print('Done loading packages')\r\n",
    "\r\n",
    "def rnMean(data,meanWidth):\r\n",
    "    return np.convolve(data, np.ones(meanWidth)/meanWidth, mode='valid')\r\n",
    "def rnTime(t,meanWidth):\r\n",
    "    return t[math.floor(meanWidth/2):-math.ceil(meanWidth/2)+1]\r\n",
    "def rnTime2(t,meanWidth):\r\n",
    "    return t[meanWidth-1:]\r\n"
   ],
   "outputs": [
    {
     "output_type": "stream",
     "name": "stdout",
     "text": [
      "saveFigures is set to: True\n",
      "Done loading packages\n"
     ]
    }
   ],
   "metadata": {}
  },
  {
   "cell_type": "code",
   "execution_count": 2,
   "source": [
    "ssidatapath = \"ssi_vacc\"\r\n",
    "rootdir = os.getcwd() +\"\\\\\" + ssidatapath\r\n",
    "\r\n",
    "\r\n",
    "# for subdir, dirs, files in os.walk(rootdir):\r\n",
    "# #     # if not len(dirs) == 0:\r\n",
    "# #     #     latestdir = subdir\r\n",
    "# #     #     latestDate = pd.to_datetime(subdir[-10:])\r\n",
    "#     # print(files)\r\n",
    "#     # print(dirs[-1])\r\n",
    "\r\n",
    "for f in os.scandir(rootdir):\r\n",
    "    curPath = f.path\r\n",
    "    latestdir = curPath\r\n",
    "    latestDate = pd.to_datetime(curPath[-10:])\r\n",
    "# print([f.path for f in os.scandir(rootdir)])\r\n",
    "\r\n",
    "# # print(os.walk(rootdir))\r\n",
    "# print(latestdir)\r\n",
    "# print(latestDate)\r\n",
    "\r\n",
    "# # latestdir = rootdir+ '\\\\SSI_data_2021-05-25'\r\n",
    "# # latestDate = pd.to_datetime(latestdir[-10:])\r\n",
    "\r\n",
    "print(latestdir)\r\n",
    "print(latestDate)"
   ],
   "outputs": [
    {
     "output_type": "stream",
     "name": "stdout",
     "text": [
      "d:\\Pandemix\\Github\\DanskeData\\ssi_vacc\\SSI_vacc_2021-07-27\n",
      "2021-07-27 00:00:00\n"
     ]
    }
   ],
   "metadata": {}
  },
  {
   "cell_type": "code",
   "execution_count": 3,
   "source": [
    "\r\n",
    "filename = 'Vaccinerede_pr_uge_pr_maalgruppe.csv'\r\n",
    "# filename = 'Noegletal_vacc_daekning.csv'\r\n",
    "# curPath = \"D:/Pandemix/Github/DanskeData/ssi_vacc/SSI_vacc_2021-05-25/Vaccine_maalgrupper_DB/\" + filename\r\n",
    "curPath = latestdir+\"/Vaccine_maalgrupper_DB/\" + filename\r\n",
    "# latestdir+'\\\\Vaccine_maalgrupper_DB\\\\Noegletal_vacc_daekning.csv'\r\n",
    "\r\n",
    "filename = 'PaabegVacc_daek_DK_prdag.csv'\r\n",
    "# curPath = \"D:/Pandemix/Github/DanskeData/ssi_vacc/SSI_vacc_2021-05-25/Vaccine_DB/\" + filename\r\n",
    "curPath = latestdir+\"/Vaccine_DB/\" + filename\r\n",
    "\r\n",
    "\r\n",
    "# df = pd.read_csv(curPath,delimiter = ',',dtype=str,encoding='latin-1')\r\n",
    "df = pd.read_csv(curPath,delimiter = ';',dtype=str,encoding='latin-1')\r\n",
    "\r\n",
    "\r\n",
    "filename = 'FaerdigVacc_daekning_DK_prdag.csv'\r\n",
    "curPath = latestdir+\"/Vaccine_DB/\" + filename\r\n",
    "\r\n",
    "df_full = pd.read_csv(curPath,delimiter = ';',dtype=str,encoding='latin-1')"
   ],
   "outputs": [],
   "metadata": {}
  },
  {
   "cell_type": "code",
   "execution_count": 4,
   "source": [
    "df.tail()\r\n",
    "df_full.tail() \r\n"
   ],
   "outputs": [
    {
     "output_type": "execute_result",
     "data": {
      "text/plain": [
       "    Vaccinedato        geo Antal færdigvacc. personer Antal borgere  \\\n",
       "193  2021-07-22  Nationalt                      51743       5851764   \n",
       "194  2021-07-23  Nationalt                      43643       5851764   \n",
       "195  2021-07-24  Nationalt                      23742       5851764   \n",
       "196  2021-07-25  Nationalt                      31485       5851764   \n",
       "197  2021-07-26  Nationalt                      42020       5851764   \n",
       "\n",
       "    Færdigvacc. (%) Kumuleret antal færdigvacc.  \n",
       "193            49.1                     2872303  \n",
       "194            49.8                     2915946  \n",
       "195            50.2                     2939688  \n",
       "196            50.8                     2971173  \n",
       "197            51.5                     3013193  "
      ],
      "text/html": [
       "<div>\n",
       "<style scoped>\n",
       "    .dataframe tbody tr th:only-of-type {\n",
       "        vertical-align: middle;\n",
       "    }\n",
       "\n",
       "    .dataframe tbody tr th {\n",
       "        vertical-align: top;\n",
       "    }\n",
       "\n",
       "    .dataframe thead th {\n",
       "        text-align: right;\n",
       "    }\n",
       "</style>\n",
       "<table border=\"1\" class=\"dataframe\">\n",
       "  <thead>\n",
       "    <tr style=\"text-align: right;\">\n",
       "      <th></th>\n",
       "      <th>Vaccinedato</th>\n",
       "      <th>geo</th>\n",
       "      <th>Antal færdigvacc. personer</th>\n",
       "      <th>Antal borgere</th>\n",
       "      <th>Færdigvacc. (%)</th>\n",
       "      <th>Kumuleret antal færdigvacc.</th>\n",
       "    </tr>\n",
       "  </thead>\n",
       "  <tbody>\n",
       "    <tr>\n",
       "      <th>193</th>\n",
       "      <td>2021-07-22</td>\n",
       "      <td>Nationalt</td>\n",
       "      <td>51743</td>\n",
       "      <td>5851764</td>\n",
       "      <td>49.1</td>\n",
       "      <td>2872303</td>\n",
       "    </tr>\n",
       "    <tr>\n",
       "      <th>194</th>\n",
       "      <td>2021-07-23</td>\n",
       "      <td>Nationalt</td>\n",
       "      <td>43643</td>\n",
       "      <td>5851764</td>\n",
       "      <td>49.8</td>\n",
       "      <td>2915946</td>\n",
       "    </tr>\n",
       "    <tr>\n",
       "      <th>195</th>\n",
       "      <td>2021-07-24</td>\n",
       "      <td>Nationalt</td>\n",
       "      <td>23742</td>\n",
       "      <td>5851764</td>\n",
       "      <td>50.2</td>\n",
       "      <td>2939688</td>\n",
       "    </tr>\n",
       "    <tr>\n",
       "      <th>196</th>\n",
       "      <td>2021-07-25</td>\n",
       "      <td>Nationalt</td>\n",
       "      <td>31485</td>\n",
       "      <td>5851764</td>\n",
       "      <td>50.8</td>\n",
       "      <td>2971173</td>\n",
       "    </tr>\n",
       "    <tr>\n",
       "      <th>197</th>\n",
       "      <td>2021-07-26</td>\n",
       "      <td>Nationalt</td>\n",
       "      <td>42020</td>\n",
       "      <td>5851764</td>\n",
       "      <td>51.5</td>\n",
       "      <td>3013193</td>\n",
       "    </tr>\n",
       "  </tbody>\n",
       "</table>\n",
       "</div>"
      ]
     },
     "metadata": {},
     "execution_count": 4
    }
   ],
   "metadata": {}
  },
  {
   "cell_type": "code",
   "execution_count": 5,
   "source": [
    "# newVaccPerDay = df['Kumuleret antal påbegyndt vacc.'].astype(int).diff()\r\n",
    "newVaccPerDay = df['Antal påbegyndt vacc. personer'].astype(int)\r\n",
    "fullVaccPerDay = df_full['Antal færdigvacc. personer'].astype(int)\r\n",
    "\r\n",
    "\r\n",
    "# newVaccPerDayCumSum = np.cumsum(newVaccPerDay)\r\n",
    "newVaccCumu = df['Kumuleret antal påbegyndt vacc.'].astype(int)\r\n",
    "fullVaccCumu = df_full['Kumuleret antal færdigvacc.'].astype(int)\r\n",
    "\r\n",
    "curDates =  pd.to_datetime(df.Vaccinedato,format='%Y-%m-%d')\r\n",
    "curDatesFull =  pd.to_datetime(df_full.Vaccinedato,format='%Y-%m-%d')"
   ],
   "outputs": [],
   "metadata": {}
  },
  {
   "cell_type": "code",
   "execution_count": 6,
   "source": [
    "# Add zeroes to full vaccinated\r\n",
    "\r\n",
    "lenDiff = len(newVaccPerDay) - len(fullVaccPerDay)\r\n",
    "fullVaccPerDay = np.insert(fullVaccPerDay.values,0,np.zeros((lenDiff,)))\r\n",
    "fullVaccCumu = np.insert(fullVaccCumu.values,0,np.zeros((lenDiff,)))"
   ],
   "outputs": [],
   "metadata": {}
  },
  {
   "cell_type": "code",
   "execution_count": 7,
   "source": [
    "plt.figure()\r\n",
    "\r\n",
    "# plt.plot(curDates,newVaccPerDay)\r\n",
    "plt.plot(curDates,100 * newVaccPerDay/5846864,'k.:',linewidth=0.5)\r\n",
    "plt.plot(curDates,100 * fullVaccPerDay/5846864,'b.:',linewidth=0.5)\r\n",
    "meanWidth = 7\r\n",
    "plt.plot(rnTime(curDates,meanWidth),rnMean(100 * newVaccPerDay/5846864,meanWidth),'k',label='Påbegyndte vaccinationer')\r\n",
    "plt.plot(rnTime(curDates,meanWidth),rnMean(100 * fullVaccPerDay/5846864,meanWidth),'b',label='Færdiggjorte vaccinationer')\r\n",
    "plt.ylabel('Andel af danmarks samlede befolkning [%]')\r\n",
    "plt.ylim(bottom=0)\r\n",
    "plt.legend()\r\n",
    "plt.grid()\r\n",
    "ax1 = plt.gca()\r\n",
    "ax1.xaxis.set_major_formatter(mdates.DateFormatter('%b\\n%Y'))\r\n",
    "plt.tight_layout()"
   ],
   "outputs": [
    {
     "output_type": "display_data",
     "data": {
      "text/plain": [
       "Canvas(toolbar=Toolbar(toolitems=[('Home', 'Reset original view', 'home', 'home'), ('Back', 'Back to previous …"
      ],
      "application/vnd.jupyter.widget-view+json": {
       "version_major": 2,
       "version_minor": 0,
       "model_id": "3f7c563bf417478caaea60917079bd04"
      }
     },
     "metadata": {}
    }
   ],
   "metadata": {}
  },
  {
   "cell_type": "code",
   "execution_count": 8,
   "source": [
    "fig,(ax1,ax2) = plt.subplots(2,1,sharex=True)\r\n",
    "\r\n",
    "# plt.plot(curDates,newVaccPerDay)\r\n",
    "ax1.plot(curDates,100 * newVaccPerDay/5851099,'k.:',linewidth=0.5)\r\n",
    "ax2.plot(curDates,100 * fullVaccPerDay/5851099,'b.:',linewidth=0.5)\r\n",
    "meanWidth = 7\r\n",
    "ax1.plot(rnTime(curDates,meanWidth),rnMean(100 * newVaccPerDay/5851099,meanWidth),'k',label='Påbegyndte vaccinationer')\r\n",
    "ax2.plot(rnTime(curDates,meanWidth),rnMean(100 * fullVaccPerDay/5851099,meanWidth),'b',label='Færdiggjorte vaccinationer')\r\n",
    "ax1.set_ylabel('Påbegyndte vaccinationer \\n af DK befolkning [%]')\r\n",
    "ax2.set_ylabel('Færdiggjorte vaccinationer \\n af DK befolkning [%]')\r\n",
    "ax1.set_ylim([0,2])\r\n",
    "ax2.set_ylim([0,2])\r\n",
    "# plt.legend()\r\n",
    "ax2.grid()\r\n",
    "ax1.grid()\r\n",
    "ax1.xaxis.set_major_formatter(mdates.DateFormatter('%b\\n%Y'))\r\n",
    "plt.tight_layout()"
   ],
   "outputs": [
    {
     "output_type": "display_data",
     "data": {
      "text/plain": [
       "Canvas(toolbar=Toolbar(toolitems=[('Home', 'Reset original view', 'home', 'home'), ('Back', 'Back to previous …"
      ],
      "application/vnd.jupyter.widget-view+json": {
       "version_major": 2,
       "version_minor": 0,
       "model_id": "c9f8fb5f3e914675b75ac061f5a27d4f"
      }
     },
     "metadata": {}
    }
   ],
   "metadata": {}
  },
  {
   "cell_type": "code",
   "execution_count": 9,
   "source": [
    "fig,ax1 = plt.subplots()\r\n",
    "\r\n",
    "newVaccCumuPop = 100 * newVaccCumu/5851099\r\n",
    "fullVaccCumuPop = 100 * fullVaccCumu/5851099\r\n",
    "\r\n",
    "# plt.plot(curDates,newVaccCumuPop,'k',linewidth=3)\r\n",
    "# plt.plot(curDates,fullVaccCumuPop,'b',linewidth=3)\r\n",
    "\r\n",
    "ax1.fill_between(curDates,newVaccCumuPop,color='k',zorder=3,label='Påbegyndt')\r\n",
    "ax1.fill_between(curDates,fullVaccCumuPop,color='b',zorder=3,label='Færdiggjort')\r\n",
    "\r\n",
    "\r\n",
    "# Draw weekends\r\n",
    "firstSunday = np.datetime64('2021-01-03')\r\n",
    "\r\n",
    "numWeeks = 52\r\n",
    "\r\n",
    "# curYlim = ax1.get_ylim()\r\n",
    "# ax1.vlines([np.datetime64('2021-06-24'),np.datetime64('2021-06-25')],curYlim[0],curYlim[1])\r\n",
    "for k in range(0,numWeeks):\r\n",
    "    curSunday = firstSunday + np.timedelta64(7*k,'D')\r\n",
    "    ax1.axvspan(curSunday-np.timedelta64(1,'D')-np.timedelta64(12,'h'),curSunday+np.timedelta64(12,'h'),facecolor='lightgrey')\r\n",
    "\r\n",
    "ax1.axvspan(curSunday-np.timedelta64(1,'D')-np.timedelta64(12,'h'),curSunday+np.timedelta64(12,'h'),facecolor='lightgrey',label='Weekend')\r\n",
    "\r\n",
    "ax1.legend(loc='upper left')\r\n",
    "\r\n",
    "\r\n",
    "ax1.spines[\"right\"].set_visible(False)\r\n",
    "ax1.spines[\"top\"].set_visible(False)\r\n",
    "ax1.set_ylabel('Andel af danmarks samlede befolkning [%]')\r\n",
    "ax1.set_ylim(bottom=0,top=100)\r\n",
    "# ax1.legend()\r\n",
    "ax1.grid(axis='y',zorder=0)\r\n",
    "ax1.xaxis.set_major_formatter(mdates.DateFormatter('%b\\n%Y'))\r\n",
    "\r\n",
    "ax1.set_xlim(left=np.datetime64('2021-01-01'),right=np.datetime64('2021-09-01'))\r\n",
    "plt.tight_layout()"
   ],
   "outputs": [
    {
     "output_type": "display_data",
     "data": {
      "text/plain": [
       "Canvas(toolbar=Toolbar(toolitems=[('Home', 'Reset original view', 'home', 'home'), ('Back', 'Back to previous …"
      ],
      "application/vnd.jupyter.widget-view+json": {
       "version_major": 2,
       "version_minor": 0,
       "model_id": "eaa5be2ca2164172b5da7c1d7720d987"
      }
     },
     "metadata": {}
    }
   ],
   "metadata": {}
  },
  {
   "cell_type": "code",
   "execution_count": 10,
   "source": [
    "filename = 'Vaccinerede_pr_uge_pr_maalgruppe.csv'\r\n",
    "curPath = latestdir+\"/Vaccine_maalgrupper_DB/\" + filename\r\n",
    "\r\n",
    "df_weekly = pd.read_csv(curPath,delimiter = ';',dtype=str,encoding='latin-1')"
   ],
   "outputs": [],
   "metadata": {}
  },
  {
   "cell_type": "code",
   "execution_count": 11,
   "source": [
    "# df_weekly.tail()\r\n",
    "# Drop the three extra empty rows are the top\r\n",
    "df_weekly.drop([0,1,2],axis=0,inplace=True)\r\n",
    "# df_weekly.drop([0,1,2],axis=0,inplace=True)\r\n"
   ],
   "outputs": [],
   "metadata": {}
  },
  {
   "cell_type": "code",
   "execution_count": 12,
   "source": [
    "allDates = df_weekly.Ugenummer\r\n",
    "# d = \"2021-W29\"\r\n",
    "# r = datetime.datetime.strptime(d + '-1', \"%Y-W%W-%w\")\r\n",
    "# np.datetime64(r)\r\n",
    "\r\n",
    "curWeekDays = df_weekly.Ugenummer.apply(lambda x: np.datetime64(datetime.datetime.strptime(x + '-1', \"%Y-W%W-%w\")))\r\n",
    "\r\n",
    "allVaccOnce = pd.to_numeric(df_weekly['Dækning førstegangsvaccinerede (kumulativt i %)'])\r\n",
    "allVaccFull = pd.to_numeric(df_weekly['Dækning færdigvaccinerede (kumulativt i %)'])\r\n",
    "\r\n"
   ],
   "outputs": [],
   "metadata": {}
  },
  {
   "cell_type": "code",
   "execution_count": 13,
   "source": [
    "allGroups = df_weekly['Målgruppe'].unique()\r\n",
    "\r\n",
    "# Move groups around to have correct order\r\n",
    "allGroups.sort()\r\n",
    "allGroups = np.roll(allGroups,-8)\r\n",
    "allGroups = np.insert(allGroups,0,allGroups[-8])\r\n",
    "allGroups = np.delete(allGroups,-8)\r\n",
    "allGroups = np.append(allGroups,allGroups[-8])\r\n",
    "allGroups = np.delete(allGroups,-9)\r\n",
    "allGroups"
   ],
   "outputs": [
    {
     "output_type": "execute_result",
     "data": {
      "text/plain": [
       "array(['1. Plejehjemsbeboere',\n",
       "       '2. Borgere > 65, praktisk hjælp og personlig pleje',\n",
       "       '3. Borgere fra årgang 1936 og derunder (85 år og ældre)',\n",
       "       '4. Personale i sundhedsvæsenet og dele af socialvæsenet',\n",
       "       '5. Udvalgte patienter med særligt øget risiko',\n",
       "       '6. Udvalgte pårørende til personer med særligt øget risiko',\n",
       "       '7. Personer fra årgang 1937-1941',\n",
       "       '8. Personer fra årgang 1942-1946',\n",
       "       '9. Personer fra årgang 1947-1956',\n",
       "       '10A. Personer fra årgang 1957-1961',\n",
       "       '10B. Personer fra årgang 1962-1966',\n",
       "       '10C. Personer fra årgang 1967-1971',\n",
       "       '10D1. Personer fra årgang 1972-1976 og årgang 2002-2005',\n",
       "       '10D2. Personer fra årgang 1977-1981 og årgang 1997-2001',\n",
       "       '10D3. Personer fra årgang 1982-1986 og årgang 1992-1996',\n",
       "       '10D4. Personer fra årgang 1987-1991', 'Resterende'], dtype=object)"
      ]
     },
     "metadata": {},
     "execution_count": 13
    }
   ],
   "metadata": {}
  },
  {
   "cell_type": "code",
   "execution_count": 14,
   "source": [
    "# Hard-coded fix of the missing data-points\r\n",
    "group5Len = len(df_weekly[df_weekly['Målgruppe'] == allGroups[5]])\r\n",
    "otherGroupLen = len(df_weekly[df_weekly['Målgruppe'] == allGroups[2]])\r\n",
    "if (group5Len == otherGroupLen - 3):\r\n",
    "\r\n",
    "    rowToCopy = df_weekly.loc[57]\r\n",
    "    toAdd1 = rowToCopy.copy()\r\n",
    "    toAdd2 = rowToCopy.copy()\r\n",
    "    toAdd3 = rowToCopy.copy()\r\n",
    "    toAdd1.Ugenummer = '2021-W03'\r\n",
    "    toAdd2.Ugenummer = '2021-W04'\r\n",
    "    toAdd3.Ugenummer = '2021-W06'\r\n",
    "\r\n",
    "    df_weekly = df_weekly.append(toAdd1)\r\n",
    "    df_weekly = df_weekly.append(toAdd2)\r\n",
    "    df_weekly = df_weekly.append(toAdd3)\r\n",
    "\r\n",
    "# Sort so order is correct\r\n",
    "df_weekly.sort_values(by=['Ugenummer','Målgruppe'],inplace=True)"
   ],
   "outputs": [],
   "metadata": {}
  },
  {
   "cell_type": "code",
   "execution_count": 15,
   "source": [
    "curdf = df_weekly[df_weekly['Målgruppe'] == allGroups[0]]"
   ],
   "outputs": [],
   "metadata": {}
  },
  {
   "cell_type": "code",
   "execution_count": 16,
   "source": [
    "fig,(ax1,ax2) = plt.subplots(2,1,sharex=True)\r\n",
    "\r\n",
    "# ax1.plot(curWeekDays,allVaccOnce,'*')\r\n",
    "# ax2.plot(curWeekDays,allVaccFull,'*')\r\n",
    "\r\n",
    "# for k in range(0,len(allGroups)):\r\n",
    "for k in range(len(allGroups)-5,len(allGroups)-1):\r\n",
    "    curdf = df_weekly[df_weekly['Målgruppe'] == allGroups[k]]\r\n",
    "\r\n",
    "    curLabel = allGroups[k]\r\n",
    "\r\n",
    "    ageWeekDays = curdf.Ugenummer.apply(lambda x: np.datetime64(datetime.datetime.strptime(x + '-1', \"%Y-W%W-%w\")))\r\n",
    "\r\n",
    "    ageVaccOnce = pd.to_numeric(curdf['Dækning førstegangsvaccinerede (kumulativt i %)'])\r\n",
    "    ageVaccFull = pd.to_numeric(curdf['Dækning færdigvaccinerede (kumulativt i %)'])\r\n",
    "    \r\n",
    "    ax1.plot(ageWeekDays,ageVaccOnce,'-*',label=curLabel)\r\n",
    "    ax2.plot(ageWeekDays,ageVaccFull,'-*',label=curLabel)\r\n",
    "\r\n",
    "ax1.set_ylim([0,100])\r\n",
    "ax2.set_ylim([0,100])\r\n",
    "ax1.legend(fontsize=10)\r\n",
    "\r\n",
    "ax1.set_xlim(left=np.datetime64('2021-05-01'))\r\n",
    "plt.tight_layout()"
   ],
   "outputs": [
    {
     "output_type": "display_data",
     "data": {
      "text/plain": [
       "Canvas(toolbar=Toolbar(toolitems=[('Home', 'Reset original view', 'home', 'home'), ('Back', 'Back to previous …"
      ],
      "application/vnd.jupyter.widget-view+json": {
       "version_major": 2,
       "version_minor": 0,
       "model_id": "34e933aa1bc04ef981fb498647fbbc16"
      }
     },
     "metadata": {}
    }
   ],
   "metadata": {}
  },
  {
   "cell_type": "code",
   "execution_count": 17,
   "source": [
    "# fig,(ax1,ax2) = plt.subplots(2,1,sharex=True)\r\n",
    "\r\n",
    "for k in range(0,len(allGroups)):\r\n",
    "# for k in range(len(allGroups)-5,len(allGroups)-1):\r\n",
    "\r\n",
    "    fig,ax1 = plt.subplots(1,1)\r\n",
    "    curdf = df_weekly[df_weekly['Målgruppe'] == allGroups[k]]\r\n",
    "\r\n",
    "    curLabel = allGroups[k]\r\n",
    "\r\n",
    "    ageWeekDays = curdf.Ugenummer.apply(lambda x: np.datetime64(datetime.datetime.strptime(x + '-1', \"%Y-W%W-%w\")))\r\n",
    "\r\n",
    "    ageVaccOnce = pd.to_numeric(curdf['Dækning førstegangsvaccinerede (kumulativt i %)'])\r\n",
    "    ageVaccFull = pd.to_numeric(curdf['Dækning færdigvaccinerede (kumulativt i %)'])\r\n",
    "    \r\n",
    "    # ax1.plot(ageWeekDays,ageVaccOnce,'-*',label=curLabel)\r\n",
    "    # ax1.plot(ageWeekDays,ageVaccFull,'-*',label=curLabel)\r\n",
    "    ax1.fill_between(ageWeekDays,ageVaccOnce,zorder=3,color='xkcd:lightblue',label='Påbegyndt')\r\n",
    "    ax1.fill_between(ageWeekDays,ageVaccFull,zorder=3,color='xkcd:darkblue',label='Færdiggjort')\r\n",
    "\r\n",
    "    ax1.set_ylim([0,100])\r\n",
    "    # ax2.set_ylim([0,100])\r\n",
    "    # ax1.legend(fontsize=10)\r\n",
    "    plt.title(curLabel)\r\n",
    "\r\n",
    "    # Draw weekends\r\n",
    "    firstSunday = np.datetime64('2020-12-20')\r\n",
    "    numWeeks = 52\r\n",
    "    for w in range(0,numWeeks):\r\n",
    "        curSunday = firstSunday + np.timedelta64(7*w,'D')\r\n",
    "        ax1.axvspan(curSunday-np.timedelta64(1,'D')-np.timedelta64(12,'h'),curSunday+np.timedelta64(12,'h'),zorder=0,facecolor='lightgrey')\r\n",
    "    ax1.axvspan(curSunday-np.timedelta64(1,'D')-np.timedelta64(12,'h'),curSunday+np.timedelta64(12,'h'),zorder=0,facecolor='lightgrey',label='Weekend')\r\n",
    "\r\n",
    "    ax1.legend(loc='upper left')\r\n",
    "\r\n",
    "    ax1.spines[\"right\"].set_visible(False)\r\n",
    "    ax1.spines[\"top\"].set_visible(False)\r\n",
    "    ax1.set_ylabel('Andel af målgruppe [%]')\r\n",
    "    ax1.set_ylim(bottom=0,top=100)\r\n",
    "    ax1.grid(axis='y',zorder=0)\r\n",
    "    ax1.xaxis.set_major_formatter(mdates.DateFormatter('%b\\n%Y'))\r\n",
    "\r\n",
    "    ax1.set_xlim(left=firstSunday)\r\n",
    "    ax1.set_xlim(right=np.datetime64('2021-08-01'))\r\n",
    "\r\n",
    "    # plt.tight_layout()\r\n",
    "    if saveFigures:\r\n",
    "        plt.savefig(f'figsVacc/Maalgruppe_{k+1}')\r\n",
    "\r\n",
    "    ax1.set_xlim(left=np.datetime64('2021-05-01'))\r\n",
    "    ax1.xaxis.set_major_formatter(mdates.DateFormatter('%d.\\n%b'))\r\n",
    "    if saveFigures:\r\n",
    "        plt.savefig(f'figsVacc/Maalgruppe_{k+1}_zoom')\r\n",
    "plt.close('all')"
   ],
   "outputs": [
    {
     "output_type": "display_data",
     "data": {
      "text/plain": [
       "Canvas(toolbar=Toolbar(toolitems=[('Home', 'Reset original view', 'home', 'home'), ('Back', 'Back to previous …"
      ],
      "application/vnd.jupyter.widget-view+json": {
       "version_major": 2,
       "version_minor": 0,
       "model_id": "aaaf882577af4d9f83495477d7774ff8"
      }
     },
     "metadata": {}
    },
    {
     "output_type": "display_data",
     "data": {
      "text/plain": [
       "Canvas(toolbar=Toolbar(toolitems=[('Home', 'Reset original view', 'home', 'home'), ('Back', 'Back to previous …"
      ],
      "application/vnd.jupyter.widget-view+json": {
       "version_major": 2,
       "version_minor": 0,
       "model_id": "159b58538bcd4bd3b7206aac70c90722"
      }
     },
     "metadata": {}
    },
    {
     "output_type": "display_data",
     "data": {
      "text/plain": [
       "Canvas(toolbar=Toolbar(toolitems=[('Home', 'Reset original view', 'home', 'home'), ('Back', 'Back to previous …"
      ],
      "application/vnd.jupyter.widget-view+json": {
       "version_major": 2,
       "version_minor": 0,
       "model_id": "214459edbf2a4dfbbd863fc50e9d697f"
      }
     },
     "metadata": {}
    },
    {
     "output_type": "display_data",
     "data": {
      "text/plain": [
       "Canvas(toolbar=Toolbar(toolitems=[('Home', 'Reset original view', 'home', 'home'), ('Back', 'Back to previous …"
      ],
      "application/vnd.jupyter.widget-view+json": {
       "version_major": 2,
       "version_minor": 0,
       "model_id": "a905904cfef944f2b6965fe00d08c739"
      }
     },
     "metadata": {}
    },
    {
     "output_type": "display_data",
     "data": {
      "text/plain": [
       "Canvas(toolbar=Toolbar(toolitems=[('Home', 'Reset original view', 'home', 'home'), ('Back', 'Back to previous …"
      ],
      "application/vnd.jupyter.widget-view+json": {
       "version_major": 2,
       "version_minor": 0,
       "model_id": "4d077e641ad1462ab72fd5362c80e5c8"
      }
     },
     "metadata": {}
    },
    {
     "output_type": "display_data",
     "data": {
      "text/plain": [
       "Canvas(toolbar=Toolbar(toolitems=[('Home', 'Reset original view', 'home', 'home'), ('Back', 'Back to previous …"
      ],
      "application/vnd.jupyter.widget-view+json": {
       "version_major": 2,
       "version_minor": 0,
       "model_id": "bf138f74c0b84647a38937aeaa5bd77e"
      }
     },
     "metadata": {}
    },
    {
     "output_type": "display_data",
     "data": {
      "text/plain": [
       "Canvas(toolbar=Toolbar(toolitems=[('Home', 'Reset original view', 'home', 'home'), ('Back', 'Back to previous …"
      ],
      "application/vnd.jupyter.widget-view+json": {
       "version_major": 2,
       "version_minor": 0,
       "model_id": "87c9bb0404ab4b2da67a7f02c738cb60"
      }
     },
     "metadata": {}
    },
    {
     "output_type": "display_data",
     "data": {
      "text/plain": [
       "Canvas(toolbar=Toolbar(toolitems=[('Home', 'Reset original view', 'home', 'home'), ('Back', 'Back to previous …"
      ],
      "application/vnd.jupyter.widget-view+json": {
       "version_major": 2,
       "version_minor": 0,
       "model_id": "2f8a174a330a462aa1e9da64c8aea742"
      }
     },
     "metadata": {}
    },
    {
     "output_type": "display_data",
     "data": {
      "text/plain": [
       "Canvas(toolbar=Toolbar(toolitems=[('Home', 'Reset original view', 'home', 'home'), ('Back', 'Back to previous …"
      ],
      "application/vnd.jupyter.widget-view+json": {
       "version_major": 2,
       "version_minor": 0,
       "model_id": "21e0875a8a08421298af0c5522cfdf73"
      }
     },
     "metadata": {}
    },
    {
     "output_type": "display_data",
     "data": {
      "text/plain": [
       "Canvas(toolbar=Toolbar(toolitems=[('Home', 'Reset original view', 'home', 'home'), ('Back', 'Back to previous …"
      ],
      "application/vnd.jupyter.widget-view+json": {
       "version_major": 2,
       "version_minor": 0,
       "model_id": "b4ce6969b139406aa04a491566abe903"
      }
     },
     "metadata": {}
    },
    {
     "output_type": "display_data",
     "data": {
      "text/plain": [
       "Canvas(toolbar=Toolbar(toolitems=[('Home', 'Reset original view', 'home', 'home'), ('Back', 'Back to previous …"
      ],
      "application/vnd.jupyter.widget-view+json": {
       "version_major": 2,
       "version_minor": 0,
       "model_id": "7c2a54fab34942fb8e927246a999daf9"
      }
     },
     "metadata": {}
    },
    {
     "output_type": "display_data",
     "data": {
      "text/plain": [
       "Canvas(toolbar=Toolbar(toolitems=[('Home', 'Reset original view', 'home', 'home'), ('Back', 'Back to previous …"
      ],
      "application/vnd.jupyter.widget-view+json": {
       "version_major": 2,
       "version_minor": 0,
       "model_id": "8ff7ba68846940f28e4ba6984fde40c1"
      }
     },
     "metadata": {}
    },
    {
     "output_type": "display_data",
     "data": {
      "text/plain": [
       "Canvas(toolbar=Toolbar(toolitems=[('Home', 'Reset original view', 'home', 'home'), ('Back', 'Back to previous …"
      ],
      "application/vnd.jupyter.widget-view+json": {
       "version_major": 2,
       "version_minor": 0,
       "model_id": "ed0cf4845cbb4a4f9675b15edb1cf54f"
      }
     },
     "metadata": {}
    },
    {
     "output_type": "display_data",
     "data": {
      "text/plain": [
       "Canvas(toolbar=Toolbar(toolitems=[('Home', 'Reset original view', 'home', 'home'), ('Back', 'Back to previous …"
      ],
      "application/vnd.jupyter.widget-view+json": {
       "version_major": 2,
       "version_minor": 0,
       "model_id": "a1c90c4e466f4d259137a266cea557a2"
      }
     },
     "metadata": {}
    },
    {
     "output_type": "display_data",
     "data": {
      "text/plain": [
       "Canvas(toolbar=Toolbar(toolitems=[('Home', 'Reset original view', 'home', 'home'), ('Back', 'Back to previous …"
      ],
      "application/vnd.jupyter.widget-view+json": {
       "version_major": 2,
       "version_minor": 0,
       "model_id": "9e9b550e3a8f400fabb41a4e439de375"
      }
     },
     "metadata": {}
    },
    {
     "output_type": "display_data",
     "data": {
      "text/plain": [
       "Canvas(toolbar=Toolbar(toolitems=[('Home', 'Reset original view', 'home', 'home'), ('Back', 'Back to previous …"
      ],
      "application/vnd.jupyter.widget-view+json": {
       "version_major": 2,
       "version_minor": 0,
       "model_id": "d9d4bee584ef496b835029caadf77a2d"
      }
     },
     "metadata": {}
    },
    {
     "output_type": "stream",
     "name": "stderr",
     "text": [
      "<ipython-input-17-9037bd057e6c>:6: RuntimeWarning: More than 20 figures have been opened. Figures created through the pyplot interface (`matplotlib.pyplot.figure`) are retained until explicitly closed and may consume too much memory. (To control this warning, see the rcParam `figure.max_open_warning`).\n",
      "  fig,ax1 = plt.subplots(1,1)\n"
     ]
    },
    {
     "output_type": "display_data",
     "data": {
      "text/plain": [
       "Canvas(toolbar=Toolbar(toolitems=[('Home', 'Reset original view', 'home', 'home'), ('Back', 'Back to previous …"
      ],
      "application/vnd.jupyter.widget-view+json": {
       "version_major": 2,
       "version_minor": 0,
       "model_id": "b416a53210084f68906606b54006e672"
      }
     },
     "metadata": {}
    }
   ],
   "metadata": {}
  },
  {
   "cell_type": "code",
   "execution_count": 18,
   "source": [
    "# Figur af \"inviterede, men ikke påbegyndt\"\r\n",
    "# First, population counts\r\n",
    "filename = 'Noegletal_vacc_daekning.csv'\r\n",
    "curPath = latestdir+\"/Vaccine_maalgrupper_DB/\" + filename\r\n",
    "\r\n",
    "df_noegle = pd.read_csv(curPath,delimiter = ';',dtype=str,encoding='latin-1')"
   ],
   "outputs": [],
   "metadata": {}
  },
  {
   "cell_type": "code",
   "execution_count": 19,
   "source": [
    "# Count groupsize:\r\n",
    "df_noegle[df_noegle['Målgruppe'] == allGroups[1]].Population.astype(int).sum()\r\n",
    "\r\n",
    "# Check of full population:\r\n",
    "wholePop = 0\r\n",
    "for k in range(0,len(allGroups)):\r\n",
    "    \r\n",
    "    curPop = df_noegle[df_noegle['Målgruppe'] == allGroups[k]].Population.astype(int).sum()\r\n",
    "    wholePop += curPop\r\n",
    "print(wholePop) # Should be 5851099"
   ],
   "outputs": [
    {
     "output_type": "stream",
     "name": "stdout",
     "text": [
      "5851764\n"
     ]
    }
   ],
   "metadata": {}
  },
  {
   "cell_type": "code",
   "execution_count": 20,
   "source": [
    "fig,(ax1,ax2) = plt.subplots(2,1,sharex=True)\r\n",
    "\r\n",
    "\r\n",
    "for k in range(0,len(allGroups)):\r\n",
    "# for k in range(len(allGroups)-5,len(allGroups)-1):\r\n",
    "    curdf = df_weekly[df_weekly['Målgruppe'] == allGroups[k]]\r\n",
    "\r\n",
    "    curPop = df_noegle[df_noegle['Målgruppe'] == allGroups[k]].Population.astype(int).sum()\r\n",
    "\r\n",
    "    curLabel = allGroups[k]\r\n",
    "\r\n",
    "    ageWeekDays = curdf.Ugenummer.apply(lambda x: np.datetime64(datetime.datetime.strptime(x + '-1', \"%Y-W%W-%w\")))\r\n",
    "\r\n",
    "    ageVaccOnce = pd.to_numeric(curdf['Dækning førstegangsvaccinerede (kumulativt i %)'])\r\n",
    "    ageVaccFull = pd.to_numeric(curdf['Dækning færdigvaccinerede (kumulativt i %)'])\r\n",
    "    \r\n",
    "    ax1.plot(ageWeekDays,curPop*(100-ageVaccOnce),'-*',label=curLabel)\r\n",
    "    ax2.plot(ageWeekDays,curPop*(100-ageVaccFull),'-*',label=curLabel)\r\n",
    "\r\n",
    "# ax1.set_ylim([0,100])\r\n",
    "# ax2.set_ylim([0,100])\r\n",
    "ax1.set_ylim(bottom=0)\r\n",
    "ax2.set_ylim(bottom=0)\r\n",
    "ax1.legend(fontsize=8,loc='upper left')\r\n",
    "\r\n",
    "# ax1.set_xlim(left=np.datetime64('2021-05-01'))\r\n",
    "plt.tight_layout()"
   ],
   "outputs": [
    {
     "output_type": "display_data",
     "data": {
      "text/plain": [
       "Canvas(toolbar=Toolbar(toolitems=[('Home', 'Reset original view', 'home', 'home'), ('Back', 'Back to previous …"
      ],
      "application/vnd.jupyter.widget-view+json": {
       "version_major": 2,
       "version_minor": 0,
       "model_id": "ba2de7bb1d9949e790cce8df885595f3"
      }
     },
     "metadata": {}
    }
   ],
   "metadata": {}
  },
  {
   "cell_type": "code",
   "execution_count": 21,
   "source": [
    "df_noegle.Population.astype(int).sum()"
   ],
   "outputs": [
    {
     "output_type": "execute_result",
     "data": {
      "text/plain": [
       "5851764"
      ]
     },
     "metadata": {},
     "execution_count": 21
    }
   ],
   "metadata": {}
  },
  {
   "cell_type": "code",
   "execution_count": 22,
   "source": [
    "fig,(ax1,ax2) = plt.subplots(2,1,sharex=True)\r\n",
    " \r\n",
    "restPop = df_noegle[df_noegle['Målgruppe'] == allGroups[len(allGroups)-1]].Population.astype(int).sum()\r\n",
    "fullPop = df_noegle.Population.astype(int).sum()\r\n",
    "\r\n",
    "curdf = df_weekly[df_weekly['Målgruppe'] == allGroups[0]]\r\n",
    "ageVaccOnce = pd.to_numeric(curdf['Dækning førstegangsvaccinerede (kumulativt i %)'])\r\n",
    "\r\n",
    "# currOnce = np.zeros(ageVaccOnce.values.shape)\r\n",
    "# prevOnce = np.zeros(ageVaccOnce.values.shape)\r\n",
    "currOnce = np.zeros(ageVaccOnce.values.shape)\r\n",
    "prevOnce = np.zeros(ageVaccOnce.values.shape)\r\n",
    "currNone = restPop * np.ones(ageVaccOnce.values.shape)\r\n",
    "prevNone = restPop * np.ones(ageVaccOnce.values.shape)\r\n",
    "\r\n",
    "\r\n",
    "cmap = cm.get_cmap('twilight',len(allGroups))\r\n",
    "\r\n",
    "# allWeeks = df_weekly.Ugenummer.apply(lambda x: np.datetime64(datetime.datetime.strptime(x + '-1', \"%Y-W%W-%w\")))\r\n",
    "\r\n",
    "\r\n",
    "# for k in range(7,16):\r\n",
    "for k in range(0,len(allGroups)-1):\r\n",
    "    curdf = df_weekly[df_weekly['Målgruppe'] == allGroups[k]]\r\n",
    "\r\n",
    "    curPop = df_noegle[df_noegle['Målgruppe'] == allGroups[k]].Population.astype(int).sum()\r\n",
    "\r\n",
    "    curLabel = allGroups[k]\r\n",
    "\r\n",
    "    ageWeekDays = curdf.Ugenummer.apply(lambda x: np.datetime64(datetime.datetime.strptime(x + '-1', \"%Y-W%W-%w\")))\r\n",
    "\r\n",
    "    ageVaccOnce = pd.to_numeric(curdf['Dækning førstegangsvaccinerede (kumulativt i %)'])\r\n",
    "    ageVaccFull = pd.to_numeric(curdf['Dækning færdigvaccinerede (kumulativt i %)'])\r\n",
    "\r\n",
    "    numOnce = curPop * (ageVaccOnce.values/100)\r\n",
    "    numFull = curPop * (ageVaccFull/100)\r\n",
    "    numNone = curPop * (100 - ageVaccOnce.values)/100\r\n",
    "    # numNone = curPop - numOnce\r\n",
    "\r\n",
    "    # print(k)\r\n",
    "    # print(numOnce.shape)\r\n",
    "    currOnce += numOnce\r\n",
    "    # currOnce += numNone\r\n",
    "    # currOnce += currOnce\r\n",
    "    currNone += numNone\r\n",
    "\r\n",
    "    # ax1.plot(ageWeekDays,numOnce)\r\n",
    "    # ax1.plot(ageWeekDays,numNone)\r\n",
    "    # ax1.plot(ageWeekDays,currOnce)\r\n",
    "    ax1.fill_between(ageWeekDays,currOnce,prevOnce,label=curLabel,color=cmap(k))\r\n",
    "    ax2.fill_between(ageWeekDays,currNone,prevNone,label=curLabel,color=cmap(k))\r\n",
    "    # ax1.fill_between(ageWeekDays,currOnce)\r\n",
    "\r\n",
    "    prevOnce +=  numOnce\r\n",
    "    prevNone +=  numNone\r\n",
    "\r\n",
    "    # ax1.plot(ageWeekDays,numOnce)\r\n",
    "    # ax1.plot(ageWeekDays,numFull)\r\n",
    "    # ax1.plot(ageWeekDays,numNone)\r\n",
    "    \r\n",
    "    # ax1.plot(ageWeekDays,curPop*(100-ageVaccOnce),'-*',label=curLabel)\r\n",
    "    # ax2.plot(ageWeekDays,curPop*(100-ageVaccFull),'-*',label=curLabel)\r\n",
    "\r\n",
    "# ax2.fill_between(ageWeekDays,currNone,color='k',label='Resterende')\r\n",
    "\r\n",
    "ax2.fill_between(ageWeekDays,restPop * np.ones(ageVaccOnce.values.shape),color='k',label='Resterende')\r\n",
    "\r\n",
    "ax1.set_ylim(bottom=0)\r\n",
    "ax2.set_ylim(bottom=0)\r\n",
    "\r\n",
    "ax1.legend(loc='upper left',fontsize=8)\r\n",
    "\r\n",
    "ax1.ticklabel_format(axis='y',style='plain')\r\n",
    "ax2.ticklabel_format(axis='y',style='plain')"
   ],
   "outputs": [
    {
     "output_type": "display_data",
     "data": {
      "text/plain": [
       "Canvas(toolbar=Toolbar(toolitems=[('Home', 'Reset original view', 'home', 'home'), ('Back', 'Back to previous …"
      ],
      "application/vnd.jupyter.widget-view+json": {
       "version_major": 2,
       "version_minor": 0,
       "model_id": "be09fc74d8d74819a280b5d73cd4407f"
      }
     },
     "metadata": {}
    }
   ],
   "metadata": {}
  },
  {
   "cell_type": "code",
   "execution_count": 23,
   "source": [
    "# Fungerer nok bedre som barchart\r\n",
    "\r\n",
    "\r\n",
    "# latestWeek = df_weekly.Ugenummer.max()\r\n",
    "# df_weekly[df_weekly.Ugenummer == latestWeek]\r\n",
    "\r\n",
    "# Data er i df_noegle\r\n",
    "\r\n",
    "allNone = []\r\n",
    "allOnce = []\r\n",
    "allFull = []\r\n",
    "\r\n",
    "\r\n",
    "for k in range(0,len(allGroups)):\r\n",
    "    curLabel = allGroups[k]\r\n",
    "    curdf = df_noegle[df_noegle['Målgruppe'] == allGroups[k]]\r\n",
    "\r\n",
    "    curPop = curdf.Population.astype(int).sum()\r\n",
    "\r\n",
    "    numOnce = curdf['Antal førstevaccinerede'].astype(int).sum()\r\n",
    "    numFull = curdf['Antal færdigvaccinerede'].astype(int).sum()\r\n",
    "    numNone = curPop - numOnce\r\n",
    "\r\n",
    "    allNone.append(numNone)\r\n",
    "    allOnce.append(numOnce)\r\n",
    "    allFull.append(numFull)\r\n",
    "# df_noegle\r\n",
    "# allFull\r\n",
    "\r\n",
    "fig,ax1 = plt.subplots()\r\n",
    "\r\n",
    "ax1.bar(allGroups,allNone,bottom=allOnce,color='k',label='Ikke vaccineret')\r\n",
    "ax1.bar(allGroups,allOnce,color='xkcd:light green',label='Første dosis')\r\n",
    "ax1.bar(allGroups,allFull,color='green',label='Færdigvaccineret')\r\n",
    "\r\n",
    "# ax1.set_xticklabels(fontsize=6)\r\n",
    "plt.xticks(fontsize= 8,rotation=90)\r\n",
    "# ax1.bar(range(0,len(allGroups)),allNone,bottom=allOnce)\r\n",
    "# ax1.bar(range(0,len(allGroups)),allOnce)\r\n",
    "\r\n",
    "ax1.ticklabel_format(axis='y',style='plain')\r\n",
    "\r\n",
    "ax1.legend()\r\n",
    "\r\n",
    "ax1.set_title('Hele landet')\r\n",
    "\r\n",
    "plt.tight_layout()\r\n",
    "\r\n",
    "\r\n",
    "if saveFigures:\r\n",
    "    plt.savefig('figsVacc/CountVacc_Danmark')"
   ],
   "outputs": [
    {
     "output_type": "display_data",
     "data": {
      "text/plain": [
       "Canvas(toolbar=Toolbar(toolitems=[('Home', 'Reset original view', 'home', 'home'), ('Back', 'Back to previous …"
      ],
      "application/vnd.jupyter.widget-view+json": {
       "version_major": 2,
       "version_minor": 0,
       "model_id": "2ddfbd87ccf54e1db0fa68653fea993e"
      }
     },
     "metadata": {}
    }
   ],
   "metadata": {}
  },
  {
   "cell_type": "code",
   "execution_count": 24,
   "source": [
    "curdf"
   ],
   "outputs": [
    {
     "output_type": "execute_result",
     "data": {
      "text/plain": [
       "      Målgruppe Ansættelsessted Bopælsregion Population  \\\n",
       "125  Resterende             NaN  Hovedstaden     318172   \n",
       "126  Resterende             NaN  Midtjylland     230801   \n",
       "127  Resterende             NaN  Nordjylland      95030   \n",
       "128  Resterende             NaN     Sjælland     137204   \n",
       "129  Resterende             NaN   Syddanmark     203351   \n",
       "\n",
       "    Antal førstevaccinerede Antal færdigvaccinerede  \\\n",
       "125                   14297                      34   \n",
       "126                   14043                       5   \n",
       "127                    6331                       3   \n",
       "128                    7915                       4   \n",
       "129                   13307                      11   \n",
       "\n",
       "    Førstegangs vaccinerede dækning (%) Færdigvaccinerede dækning (%)  \n",
       "125                                 4.5                           0.0  \n",
       "126                                 6.1                           0.0  \n",
       "127                                 6.7                           0.0  \n",
       "128                                 5.8                           0.0  \n",
       "129                                 6.5                           0.0  "
      ],
      "text/html": [
       "<div>\n",
       "<style scoped>\n",
       "    .dataframe tbody tr th:only-of-type {\n",
       "        vertical-align: middle;\n",
       "    }\n",
       "\n",
       "    .dataframe tbody tr th {\n",
       "        vertical-align: top;\n",
       "    }\n",
       "\n",
       "    .dataframe thead th {\n",
       "        text-align: right;\n",
       "    }\n",
       "</style>\n",
       "<table border=\"1\" class=\"dataframe\">\n",
       "  <thead>\n",
       "    <tr style=\"text-align: right;\">\n",
       "      <th></th>\n",
       "      <th>Målgruppe</th>\n",
       "      <th>Ansættelsessted</th>\n",
       "      <th>Bopælsregion</th>\n",
       "      <th>Population</th>\n",
       "      <th>Antal førstevaccinerede</th>\n",
       "      <th>Antal færdigvaccinerede</th>\n",
       "      <th>Førstegangs vaccinerede dækning (%)</th>\n",
       "      <th>Færdigvaccinerede dækning (%)</th>\n",
       "    </tr>\n",
       "  </thead>\n",
       "  <tbody>\n",
       "    <tr>\n",
       "      <th>125</th>\n",
       "      <td>Resterende</td>\n",
       "      <td>NaN</td>\n",
       "      <td>Hovedstaden</td>\n",
       "      <td>318172</td>\n",
       "      <td>14297</td>\n",
       "      <td>34</td>\n",
       "      <td>4.5</td>\n",
       "      <td>0.0</td>\n",
       "    </tr>\n",
       "    <tr>\n",
       "      <th>126</th>\n",
       "      <td>Resterende</td>\n",
       "      <td>NaN</td>\n",
       "      <td>Midtjylland</td>\n",
       "      <td>230801</td>\n",
       "      <td>14043</td>\n",
       "      <td>5</td>\n",
       "      <td>6.1</td>\n",
       "      <td>0.0</td>\n",
       "    </tr>\n",
       "    <tr>\n",
       "      <th>127</th>\n",
       "      <td>Resterende</td>\n",
       "      <td>NaN</td>\n",
       "      <td>Nordjylland</td>\n",
       "      <td>95030</td>\n",
       "      <td>6331</td>\n",
       "      <td>3</td>\n",
       "      <td>6.7</td>\n",
       "      <td>0.0</td>\n",
       "    </tr>\n",
       "    <tr>\n",
       "      <th>128</th>\n",
       "      <td>Resterende</td>\n",
       "      <td>NaN</td>\n",
       "      <td>Sjælland</td>\n",
       "      <td>137204</td>\n",
       "      <td>7915</td>\n",
       "      <td>4</td>\n",
       "      <td>5.8</td>\n",
       "      <td>0.0</td>\n",
       "    </tr>\n",
       "    <tr>\n",
       "      <th>129</th>\n",
       "      <td>Resterende</td>\n",
       "      <td>NaN</td>\n",
       "      <td>Syddanmark</td>\n",
       "      <td>203351</td>\n",
       "      <td>13307</td>\n",
       "      <td>11</td>\n",
       "      <td>6.5</td>\n",
       "      <td>0.0</td>\n",
       "    </tr>\n",
       "  </tbody>\n",
       "</table>\n",
       "</div>"
      ]
     },
     "metadata": {},
     "execution_count": 24
    }
   ],
   "metadata": {}
  },
  {
   "cell_type": "code",
   "execution_count": 25,
   "source": [
    "for reg in df_noegle['Bopælsregion'].unique():\r\n",
    "\r\n",
    "    allNone = []\r\n",
    "    allOnce = []\r\n",
    "    allFull = []\r\n",
    "\r\n",
    "    for k in range(0,len(allGroups)):\r\n",
    "        curLabel = allGroups[k]\r\n",
    "        curdf = df_noegle[df_noegle['Målgruppe'] == allGroups[k]]\r\n",
    "        curdf = curdf[curdf['Bopælsregion'] == reg]\r\n",
    "\r\n",
    "        curPop = curdf.Population.astype(int).sum()\r\n",
    "\r\n",
    "        numOnce = curdf['Antal førstevaccinerede'].astype(int).sum()\r\n",
    "        numFull = curdf['Antal færdigvaccinerede'].astype(int).sum()\r\n",
    "        numNone = curPop - numOnce\r\n",
    "\r\n",
    "        allNone.append(numNone)\r\n",
    "        allOnce.append(numOnce)\r\n",
    "        allFull.append(numFull)\r\n",
    "    # df_noegle\r\n",
    "    # allFull\r\n",
    "\r\n",
    "    fig,ax1 = plt.subplots()\r\n",
    "\r\n",
    "    ax1.bar(allGroups,allNone,bottom=allOnce,color='k',label='Ikke vaccineret')\r\n",
    "    ax1.bar(allGroups,allOnce,color='xkcd:light green',label='Første dosis')\r\n",
    "    ax1.bar(allGroups,allFull,color='green',label='Færdigvaccineret')\r\n",
    "\r\n",
    "    # ax1.set_xticklabels(fontsize=6)\r\n",
    "    plt.xticks(fontsize= 8,rotation=90)\r\n",
    "    # ax1.bar(range(0,len(allGroups)),allNone,bottom=allOnce)\r\n",
    "    # ax1.bar(range(0,len(allGroups)),allOnce)\r\n",
    "\r\n",
    "    ax1.ticklabel_format(axis='y',style='plain')\r\n",
    "\r\n",
    "    ax1.legend()\r\n",
    "\r\n",
    "    ax1.set_title(reg)\r\n",
    "\r\n",
    "    plt.tight_layout()\r\n",
    "\r\n",
    "    if saveFigures:\r\n",
    "        plt.savefig('figsVacc/CountVacc_'+reg)"
   ],
   "outputs": [
    {
     "output_type": "display_data",
     "data": {
      "text/plain": [
       "Canvas(toolbar=Toolbar(toolitems=[('Home', 'Reset original view', 'home', 'home'), ('Back', 'Back to previous …"
      ],
      "application/vnd.jupyter.widget-view+json": {
       "version_major": 2,
       "version_minor": 0,
       "model_id": "fa76272aa66145f9ad4119b1848473db"
      }
     },
     "metadata": {}
    },
    {
     "output_type": "display_data",
     "data": {
      "text/plain": [
       "Canvas(toolbar=Toolbar(toolitems=[('Home', 'Reset original view', 'home', 'home'), ('Back', 'Back to previous …"
      ],
      "application/vnd.jupyter.widget-view+json": {
       "version_major": 2,
       "version_minor": 0,
       "model_id": "1c1614a3f28e446f9ba1039c83ae1626"
      }
     },
     "metadata": {}
    },
    {
     "output_type": "display_data",
     "data": {
      "text/plain": [
       "Canvas(toolbar=Toolbar(toolitems=[('Home', 'Reset original view', 'home', 'home'), ('Back', 'Back to previous …"
      ],
      "application/vnd.jupyter.widget-view+json": {
       "version_major": 2,
       "version_minor": 0,
       "model_id": "2fea0633cd684204a019eec9f1816a2b"
      }
     },
     "metadata": {}
    },
    {
     "output_type": "display_data",
     "data": {
      "text/plain": [
       "Canvas(toolbar=Toolbar(toolitems=[('Home', 'Reset original view', 'home', 'home'), ('Back', 'Back to previous …"
      ],
      "application/vnd.jupyter.widget-view+json": {
       "version_major": 2,
       "version_minor": 0,
       "model_id": "9baf3c85d8ff43138b414c60458606a0"
      }
     },
     "metadata": {}
    },
    {
     "output_type": "display_data",
     "data": {
      "text/plain": [
       "Canvas(toolbar=Toolbar(toolitems=[('Home', 'Reset original view', 'home', 'home'), ('Back', 'Back to previous …"
      ],
      "application/vnd.jupyter.widget-view+json": {
       "version_major": 2,
       "version_minor": 0,
       "model_id": "4d40c9340bdd4f298d89fc4c56e6f0c3"
      }
     },
     "metadata": {}
    }
   ],
   "metadata": {}
  },
  {
   "cell_type": "code",
   "execution_count": 26,
   "source": [
    "dfCase = pd.read_csv('DKDailyAgeCase.csv')\r\n",
    "# dfDeath.to_csv('DKDailyAgeDeath.csv')\r\n",
    "dfCase.Dato = pd.to_datetime(dfCase.Dato)"
   ],
   "outputs": [],
   "metadata": {}
  },
  {
   "cell_type": "code",
   "execution_count": 27,
   "source": [
    "allGroups"
   ],
   "outputs": [
    {
     "output_type": "execute_result",
     "data": {
      "text/plain": [
       "array(['1. Plejehjemsbeboere',\n",
       "       '2. Borgere > 65, praktisk hjælp og personlig pleje',\n",
       "       '3. Borgere fra årgang 1936 og derunder (85 år og ældre)',\n",
       "       '4. Personale i sundhedsvæsenet og dele af socialvæsenet',\n",
       "       '5. Udvalgte patienter med særligt øget risiko',\n",
       "       '6. Udvalgte pårørende til personer med særligt øget risiko',\n",
       "       '7. Personer fra årgang 1937-1941',\n",
       "       '8. Personer fra årgang 1942-1946',\n",
       "       '9. Personer fra årgang 1947-1956',\n",
       "       '10A. Personer fra årgang 1957-1961',\n",
       "       '10B. Personer fra årgang 1962-1966',\n",
       "       '10C. Personer fra årgang 1967-1971',\n",
       "       '10D1. Personer fra årgang 1972-1976 og årgang 2002-2005',\n",
       "       '10D2. Personer fra årgang 1977-1981 og årgang 1997-2001',\n",
       "       '10D3. Personer fra årgang 1982-1986 og årgang 1992-1996',\n",
       "       '10D4. Personer fra årgang 1987-1991', 'Resterende'], dtype=object)"
      ]
     },
     "metadata": {},
     "execution_count": 27
    }
   ],
   "metadata": {}
  },
  {
   "cell_type": "code",
   "execution_count": 28,
   "source": [
    "fig,(ax1,ax2) = plt.subplots(2,1,sharex=True)\r\n",
    "\r\n",
    "ax1.plot(dfCase.Dato,dfCase['20-29'])\r\n",
    "# ax1.plot(dfCase.Dato,dfCase['50-59'])\r\n",
    "\r\n",
    "\r\n",
    "# for k in range(7,16):\r\n",
    "# for k in range(0,len(allGroups)-1):\r\n",
    "\r\n",
    "k = 14\r\n",
    "print(allGroups[k])\r\n",
    "curdf = df_weekly[df_weekly['Målgruppe'] == allGroups[k]]\r\n",
    "\r\n",
    "curPop = df_noegle[df_noegle['Målgruppe'] == allGroups[k]].Population.astype(int).sum()\r\n",
    "\r\n",
    "curLabel = allGroups[k]\r\n",
    "\r\n",
    "ageWeekDays = curdf.Ugenummer.apply(lambda x: np.datetime64(datetime.datetime.strptime(x + '-1', \"%Y-W%W-%w\")))\r\n",
    "\r\n",
    "ageVaccOnce = pd.to_numeric(curdf['Dækning førstegangsvaccinerede (kumulativt i %)'])\r\n",
    "ageVaccFull = pd.to_numeric(curdf['Dækning færdigvaccinerede (kumulativt i %)'])\r\n",
    "\r\n",
    "numOnce = curPop * (ageVaccOnce.values/100)\r\n",
    "numFull = curPop * (ageVaccFull/100)\r\n",
    "numNone = curPop * (100 - ageVaccOnce.values)/100\r\n",
    "\r\n",
    "ax2.plot(ageWeekDays,curPop*np.ones(numFull.shape),color='grey') \r\n",
    "ax2.plot(ageWeekDays,numOnce,color='xkcd:light green') \r\n",
    "ax2.plot(ageWeekDays,numFull,color='g') \r\n",
    "\r\n",
    "k = 13\r\n",
    "curdf = df_weekly[df_weekly['Målgruppe'] == allGroups[k]]\r\n",
    "\r\n",
    "curPop = df_noegle[df_noegle['Målgruppe'] == allGroups[k]].Population.astype(int).sum()\r\n",
    "\r\n",
    "curLabel = allGroups[k]\r\n",
    "\r\n",
    "ageWeekDays = curdf.Ugenummer.apply(lambda x: np.datetime64(datetime.datetime.strptime(x + '-1', \"%Y-W%W-%w\")))\r\n",
    "\r\n",
    "ageVaccOnce = pd.to_numeric(curdf['Dækning førstegangsvaccinerede (kumulativt i %)'])\r\n",
    "ageVaccFull = pd.to_numeric(curdf['Dækning færdigvaccinerede (kumulativt i %)'])\r\n",
    "\r\n",
    "numOnce = curPop * (ageVaccOnce.values/100)\r\n",
    "numFull = curPop * (ageVaccFull/100)\r\n",
    "numNone = curPop * (100 - ageVaccOnce.values)/100\r\n",
    "\r\n",
    "ax2.plot(ageWeekDays,curPop*np.ones(numFull.shape),color='grey') \r\n",
    "ax2.plot(ageWeekDays,numOnce,color='xkcd:light green') \r\n",
    "ax2.plot(ageWeekDays,numFull,color='g') \r\n",
    "\r\n",
    "ax2.set_ylabel(curLabel)\r\n",
    "\r\n",
    "ax1.set_ylim(bottom=0)"
   ],
   "outputs": [
    {
     "output_type": "display_data",
     "data": {
      "text/plain": [
       "Canvas(toolbar=Toolbar(toolitems=[('Home', 'Reset original view', 'home', 'home'), ('Back', 'Back to previous …"
      ],
      "application/vnd.jupyter.widget-view+json": {
       "version_major": 2,
       "version_minor": 0,
       "model_id": "098030961f5547c793ba604c7ba203b8"
      }
     },
     "metadata": {}
    },
    {
     "output_type": "stream",
     "name": "stdout",
     "text": [
      "10D3. Personer fra årgang 1982-1986 og årgang 1992-1996\n"
     ]
    },
    {
     "output_type": "execute_result",
     "data": {
      "text/plain": [
       "(0.0, 678.05)"
      ]
     },
     "metadata": {},
     "execution_count": 28
    }
   ],
   "metadata": {}
  },
  {
   "cell_type": "code",
   "execution_count": 29,
   "source": [
    "df_weekly"
   ],
   "outputs": [
    {
     "output_type": "execute_result",
     "data": {
      "text/plain": [
       "    Ugenummer                                          Målgruppe  \\\n",
       "3    2020-W52                               1. Plejehjemsbeboere   \n",
       "12   2020-W52                 10A. Personer fra årgang 1957-1961   \n",
       "13   2020-W52                 10B. Personer fra årgang 1962-1966   \n",
       "14   2020-W52                 10C. Personer fra årgang 1967-1971   \n",
       "15   2020-W52  10D1. Personer fra årgang 1972-1976 og årgang ...   \n",
       "16   2020-W52  10D2. Personer fra årgang 1977-1981 og årgang ...   \n",
       "17   2020-W52  10D3. Personer fra årgang 1982-1986 og årgang ...   \n",
       "18   2020-W52                10D4. Personer fra årgang 1987-1991   \n",
       "4    2020-W52  2. Borgere > 65, praktisk hjælp og personlig p...   \n",
       "5    2020-W52  3. Borgere fra årgang 1936 og derunder (85 år ...   \n",
       "6    2020-W52  4. Personale i sundhedsvæsenet og dele af soci...   \n",
       "7    2020-W52      5. Udvalgte patienter med særligt øget risiko   \n",
       "8    2020-W52  6. Udvalgte pårørende til personer med særligt...   \n",
       "9    2020-W52                   7. Personer fra årgang 1937-1941   \n",
       "10   2020-W52                   8. Personer fra årgang 1942-1946   \n",
       "11   2020-W52                   9. Personer fra årgang 1947-1956   \n",
       "19   2020-W53                               1. Plejehjemsbeboere   \n",
       "28   2020-W53                 10A. Personer fra årgang 1957-1961   \n",
       "29   2020-W53                 10B. Personer fra årgang 1962-1966   \n",
       "30   2020-W53                 10C. Personer fra årgang 1967-1971   \n",
       "31   2020-W53  10D1. Personer fra årgang 1972-1976 og årgang ...   \n",
       "32   2020-W53  10D2. Personer fra årgang 1977-1981 og årgang ...   \n",
       "33   2020-W53  10D3. Personer fra årgang 1982-1986 og årgang ...   \n",
       "34   2020-W53                10D4. Personer fra årgang 1987-1991   \n",
       "20   2020-W53  2. Borgere > 65, praktisk hjælp og personlig p...   \n",
       "..        ...                                                ...   \n",
       "497  2021-W29  3. Borgere fra årgang 1936 og derunder (85 år ...   \n",
       "498  2021-W29  4. Personale i sundhedsvæsenet og dele af soci...   \n",
       "499  2021-W29      5. Udvalgte patienter med særligt øget risiko   \n",
       "500  2021-W29  6. Udvalgte pårørende til personer med særligt...   \n",
       "501  2021-W29                   7. Personer fra årgang 1937-1941   \n",
       "502  2021-W29                   8. Personer fra årgang 1942-1946   \n",
       "503  2021-W29                   9. Personer fra årgang 1947-1956   \n",
       "511  2021-W29                                         Resterende   \n",
       "512  2021-W30                               1. Plejehjemsbeboere   \n",
       "521  2021-W30                 10A. Personer fra årgang 1957-1961   \n",
       "522  2021-W30                 10B. Personer fra årgang 1962-1966   \n",
       "523  2021-W30                 10C. Personer fra årgang 1967-1971   \n",
       "524  2021-W30  10D1. Personer fra årgang 1972-1976 og årgang ...   \n",
       "525  2021-W30  10D2. Personer fra årgang 1977-1981 og årgang ...   \n",
       "526  2021-W30  10D3. Personer fra årgang 1982-1986 og årgang ...   \n",
       "527  2021-W30                10D4. Personer fra årgang 1987-1991   \n",
       "513  2021-W30  2. Borgere > 65, praktisk hjælp og personlig p...   \n",
       "514  2021-W30  3. Borgere fra årgang 1936 og derunder (85 år ...   \n",
       "515  2021-W30  4. Personale i sundhedsvæsenet og dele af soci...   \n",
       "516  2021-W30      5. Udvalgte patienter med særligt øget risiko   \n",
       "517  2021-W30  6. Udvalgte pårørende til personer med særligt...   \n",
       "518  2021-W30                   7. Personer fra årgang 1937-1941   \n",
       "519  2021-W30                   8. Personer fra årgang 1942-1946   \n",
       "520  2021-W30                   9. Personer fra årgang 1947-1956   \n",
       "528  2021-W30                                         Resterende   \n",
       "\n",
       "    Dækning førstegangsvaccinerede (kumulativt i %)  \\\n",
       "3                                              4.97   \n",
       "12                                             0.01   \n",
       "13                                             0.01   \n",
       "14                                             0.01   \n",
       "15                                             0.00   \n",
       "16                                             0.01   \n",
       "17                                             0.00   \n",
       "18                                             0.00   \n",
       "4                                              0.00   \n",
       "5                                              0.03   \n",
       "6                                              1.24   \n",
       "7                                              0.04   \n",
       "8                                              0.00   \n",
       "9                                              0.00   \n",
       "10                                             0.00   \n",
       "11                                             0.01   \n",
       "19                                            36.87   \n",
       "28                                             0.05   \n",
       "29                                             0.06   \n",
       "30                                             0.05   \n",
       "31                                             0.03   \n",
       "32                                             0.03   \n",
       "33                                             0.02   \n",
       "34                                             0.02   \n",
       "20                                             0.29   \n",
       "..                                              ...   \n",
       "497                                           96.08   \n",
       "498                                           99.00   \n",
       "499                                           94.77   \n",
       "500                                           90.37   \n",
       "501                                           96.81   \n",
       "502                                           96.83   \n",
       "503                                           95.71   \n",
       "511                                            5.04   \n",
       "512                                           96.21   \n",
       "521                                           92.88   \n",
       "522                                           91.16   \n",
       "523                                           89.20   \n",
       "524                                           82.80   \n",
       "525                                           76.21   \n",
       "526                                           63.38   \n",
       "527                                           56.23   \n",
       "513                                           93.20   \n",
       "514                                           96.08   \n",
       "515                                           99.00   \n",
       "516                                           94.79   \n",
       "517                                           90.37   \n",
       "518                                           96.81   \n",
       "519                                           96.83   \n",
       "520                                           95.72   \n",
       "528                                            5.67   \n",
       "\n",
       "    Dækning færdigvaccinerede (kumulativt i %)  \n",
       "3                                         0.00  \n",
       "12                                        0.00  \n",
       "13                                        0.00  \n",
       "14                                        0.00  \n",
       "15                                        0.00  \n",
       "16                                        0.00  \n",
       "17                                        0.00  \n",
       "18                                        0.00  \n",
       "4                                         0.00  \n",
       "5                                         0.00  \n",
       "6                                         0.00  \n",
       "7                                         0.00  \n",
       "8                                         0.00  \n",
       "9                                         0.00  \n",
       "10                                        0.00  \n",
       "11                                        0.00  \n",
       "19                                        0.00  \n",
       "28                                        0.00  \n",
       "29                                        0.00  \n",
       "30                                        0.00  \n",
       "31                                        0.00  \n",
       "32                                        0.00  \n",
       "33                                        0.00  \n",
       "34                                        0.00  \n",
       "20                                        0.00  \n",
       "..                                         ...  \n",
       "497                                      95.48  \n",
       "498                                      97.33  \n",
       "499                                      93.36  \n",
       "500                                      89.94  \n",
       "501                                      96.35  \n",
       "502                                      96.35  \n",
       "503                                      94.79  \n",
       "511                                       0.00  \n",
       "512                                      94.30  \n",
       "521                                      90.77  \n",
       "522                                      87.65  \n",
       "523                                      82.56  \n",
       "524                                      56.70  \n",
       "525                                      31.74  \n",
       "526                                       7.59  \n",
       "527                                       5.47  \n",
       "513                                      91.71  \n",
       "514                                      95.48  \n",
       "515                                      97.38  \n",
       "516                                      93.40  \n",
       "517                                      89.94  \n",
       "518                                      96.35  \n",
       "519                                      96.37  \n",
       "520                                      94.83  \n",
       "528                                       0.00  \n",
       "\n",
       "[529 rows x 4 columns]"
      ],
      "text/html": [
       "<div>\n",
       "<style scoped>\n",
       "    .dataframe tbody tr th:only-of-type {\n",
       "        vertical-align: middle;\n",
       "    }\n",
       "\n",
       "    .dataframe tbody tr th {\n",
       "        vertical-align: top;\n",
       "    }\n",
       "\n",
       "    .dataframe thead th {\n",
       "        text-align: right;\n",
       "    }\n",
       "</style>\n",
       "<table border=\"1\" class=\"dataframe\">\n",
       "  <thead>\n",
       "    <tr style=\"text-align: right;\">\n",
       "      <th></th>\n",
       "      <th>Ugenummer</th>\n",
       "      <th>Målgruppe</th>\n",
       "      <th>Dækning førstegangsvaccinerede (kumulativt i %)</th>\n",
       "      <th>Dækning færdigvaccinerede (kumulativt i %)</th>\n",
       "    </tr>\n",
       "  </thead>\n",
       "  <tbody>\n",
       "    <tr>\n",
       "      <th>3</th>\n",
       "      <td>2020-W52</td>\n",
       "      <td>1. Plejehjemsbeboere</td>\n",
       "      <td>4.97</td>\n",
       "      <td>0.00</td>\n",
       "    </tr>\n",
       "    <tr>\n",
       "      <th>12</th>\n",
       "      <td>2020-W52</td>\n",
       "      <td>10A. Personer fra årgang 1957-1961</td>\n",
       "      <td>0.01</td>\n",
       "      <td>0.00</td>\n",
       "    </tr>\n",
       "    <tr>\n",
       "      <th>13</th>\n",
       "      <td>2020-W52</td>\n",
       "      <td>10B. Personer fra årgang 1962-1966</td>\n",
       "      <td>0.01</td>\n",
       "      <td>0.00</td>\n",
       "    </tr>\n",
       "    <tr>\n",
       "      <th>14</th>\n",
       "      <td>2020-W52</td>\n",
       "      <td>10C. Personer fra årgang 1967-1971</td>\n",
       "      <td>0.01</td>\n",
       "      <td>0.00</td>\n",
       "    </tr>\n",
       "    <tr>\n",
       "      <th>15</th>\n",
       "      <td>2020-W52</td>\n",
       "      <td>10D1. Personer fra årgang 1972-1976 og årgang ...</td>\n",
       "      <td>0.00</td>\n",
       "      <td>0.00</td>\n",
       "    </tr>\n",
       "    <tr>\n",
       "      <th>16</th>\n",
       "      <td>2020-W52</td>\n",
       "      <td>10D2. Personer fra årgang 1977-1981 og årgang ...</td>\n",
       "      <td>0.01</td>\n",
       "      <td>0.00</td>\n",
       "    </tr>\n",
       "    <tr>\n",
       "      <th>17</th>\n",
       "      <td>2020-W52</td>\n",
       "      <td>10D3. Personer fra årgang 1982-1986 og årgang ...</td>\n",
       "      <td>0.00</td>\n",
       "      <td>0.00</td>\n",
       "    </tr>\n",
       "    <tr>\n",
       "      <th>18</th>\n",
       "      <td>2020-W52</td>\n",
       "      <td>10D4. Personer fra årgang 1987-1991</td>\n",
       "      <td>0.00</td>\n",
       "      <td>0.00</td>\n",
       "    </tr>\n",
       "    <tr>\n",
       "      <th>4</th>\n",
       "      <td>2020-W52</td>\n",
       "      <td>2. Borgere &gt; 65, praktisk hjælp og personlig p...</td>\n",
       "      <td>0.00</td>\n",
       "      <td>0.00</td>\n",
       "    </tr>\n",
       "    <tr>\n",
       "      <th>5</th>\n",
       "      <td>2020-W52</td>\n",
       "      <td>3. Borgere fra årgang 1936 og derunder (85 år ...</td>\n",
       "      <td>0.03</td>\n",
       "      <td>0.00</td>\n",
       "    </tr>\n",
       "    <tr>\n",
       "      <th>6</th>\n",
       "      <td>2020-W52</td>\n",
       "      <td>4. Personale i sundhedsvæsenet og dele af soci...</td>\n",
       "      <td>1.24</td>\n",
       "      <td>0.00</td>\n",
       "    </tr>\n",
       "    <tr>\n",
       "      <th>7</th>\n",
       "      <td>2020-W52</td>\n",
       "      <td>5. Udvalgte patienter med særligt øget risiko</td>\n",
       "      <td>0.04</td>\n",
       "      <td>0.00</td>\n",
       "    </tr>\n",
       "    <tr>\n",
       "      <th>8</th>\n",
       "      <td>2020-W52</td>\n",
       "      <td>6. Udvalgte pårørende til personer med særligt...</td>\n",
       "      <td>0.00</td>\n",
       "      <td>0.00</td>\n",
       "    </tr>\n",
       "    <tr>\n",
       "      <th>9</th>\n",
       "      <td>2020-W52</td>\n",
       "      <td>7. Personer fra årgang 1937-1941</td>\n",
       "      <td>0.00</td>\n",
       "      <td>0.00</td>\n",
       "    </tr>\n",
       "    <tr>\n",
       "      <th>10</th>\n",
       "      <td>2020-W52</td>\n",
       "      <td>8. Personer fra årgang 1942-1946</td>\n",
       "      <td>0.00</td>\n",
       "      <td>0.00</td>\n",
       "    </tr>\n",
       "    <tr>\n",
       "      <th>11</th>\n",
       "      <td>2020-W52</td>\n",
       "      <td>9. Personer fra årgang 1947-1956</td>\n",
       "      <td>0.01</td>\n",
       "      <td>0.00</td>\n",
       "    </tr>\n",
       "    <tr>\n",
       "      <th>19</th>\n",
       "      <td>2020-W53</td>\n",
       "      <td>1. Plejehjemsbeboere</td>\n",
       "      <td>36.87</td>\n",
       "      <td>0.00</td>\n",
       "    </tr>\n",
       "    <tr>\n",
       "      <th>28</th>\n",
       "      <td>2020-W53</td>\n",
       "      <td>10A. Personer fra årgang 1957-1961</td>\n",
       "      <td>0.05</td>\n",
       "      <td>0.00</td>\n",
       "    </tr>\n",
       "    <tr>\n",
       "      <th>29</th>\n",
       "      <td>2020-W53</td>\n",
       "      <td>10B. Personer fra årgang 1962-1966</td>\n",
       "      <td>0.06</td>\n",
       "      <td>0.00</td>\n",
       "    </tr>\n",
       "    <tr>\n",
       "      <th>30</th>\n",
       "      <td>2020-W53</td>\n",
       "      <td>10C. Personer fra årgang 1967-1971</td>\n",
       "      <td>0.05</td>\n",
       "      <td>0.00</td>\n",
       "    </tr>\n",
       "    <tr>\n",
       "      <th>31</th>\n",
       "      <td>2020-W53</td>\n",
       "      <td>10D1. Personer fra årgang 1972-1976 og årgang ...</td>\n",
       "      <td>0.03</td>\n",
       "      <td>0.00</td>\n",
       "    </tr>\n",
       "    <tr>\n",
       "      <th>32</th>\n",
       "      <td>2020-W53</td>\n",
       "      <td>10D2. Personer fra årgang 1977-1981 og årgang ...</td>\n",
       "      <td>0.03</td>\n",
       "      <td>0.00</td>\n",
       "    </tr>\n",
       "    <tr>\n",
       "      <th>33</th>\n",
       "      <td>2020-W53</td>\n",
       "      <td>10D3. Personer fra årgang 1982-1986 og årgang ...</td>\n",
       "      <td>0.02</td>\n",
       "      <td>0.00</td>\n",
       "    </tr>\n",
       "    <tr>\n",
       "      <th>34</th>\n",
       "      <td>2020-W53</td>\n",
       "      <td>10D4. Personer fra årgang 1987-1991</td>\n",
       "      <td>0.02</td>\n",
       "      <td>0.00</td>\n",
       "    </tr>\n",
       "    <tr>\n",
       "      <th>20</th>\n",
       "      <td>2020-W53</td>\n",
       "      <td>2. Borgere &gt; 65, praktisk hjælp og personlig p...</td>\n",
       "      <td>0.29</td>\n",
       "      <td>0.00</td>\n",
       "    </tr>\n",
       "    <tr>\n",
       "      <th>...</th>\n",
       "      <td>...</td>\n",
       "      <td>...</td>\n",
       "      <td>...</td>\n",
       "      <td>...</td>\n",
       "    </tr>\n",
       "    <tr>\n",
       "      <th>497</th>\n",
       "      <td>2021-W29</td>\n",
       "      <td>3. Borgere fra årgang 1936 og derunder (85 år ...</td>\n",
       "      <td>96.08</td>\n",
       "      <td>95.48</td>\n",
       "    </tr>\n",
       "    <tr>\n",
       "      <th>498</th>\n",
       "      <td>2021-W29</td>\n",
       "      <td>4. Personale i sundhedsvæsenet og dele af soci...</td>\n",
       "      <td>99.00</td>\n",
       "      <td>97.33</td>\n",
       "    </tr>\n",
       "    <tr>\n",
       "      <th>499</th>\n",
       "      <td>2021-W29</td>\n",
       "      <td>5. Udvalgte patienter med særligt øget risiko</td>\n",
       "      <td>94.77</td>\n",
       "      <td>93.36</td>\n",
       "    </tr>\n",
       "    <tr>\n",
       "      <th>500</th>\n",
       "      <td>2021-W29</td>\n",
       "      <td>6. Udvalgte pårørende til personer med særligt...</td>\n",
       "      <td>90.37</td>\n",
       "      <td>89.94</td>\n",
       "    </tr>\n",
       "    <tr>\n",
       "      <th>501</th>\n",
       "      <td>2021-W29</td>\n",
       "      <td>7. Personer fra årgang 1937-1941</td>\n",
       "      <td>96.81</td>\n",
       "      <td>96.35</td>\n",
       "    </tr>\n",
       "    <tr>\n",
       "      <th>502</th>\n",
       "      <td>2021-W29</td>\n",
       "      <td>8. Personer fra årgang 1942-1946</td>\n",
       "      <td>96.83</td>\n",
       "      <td>96.35</td>\n",
       "    </tr>\n",
       "    <tr>\n",
       "      <th>503</th>\n",
       "      <td>2021-W29</td>\n",
       "      <td>9. Personer fra årgang 1947-1956</td>\n",
       "      <td>95.71</td>\n",
       "      <td>94.79</td>\n",
       "    </tr>\n",
       "    <tr>\n",
       "      <th>511</th>\n",
       "      <td>2021-W29</td>\n",
       "      <td>Resterende</td>\n",
       "      <td>5.04</td>\n",
       "      <td>0.00</td>\n",
       "    </tr>\n",
       "    <tr>\n",
       "      <th>512</th>\n",
       "      <td>2021-W30</td>\n",
       "      <td>1. Plejehjemsbeboere</td>\n",
       "      <td>96.21</td>\n",
       "      <td>94.30</td>\n",
       "    </tr>\n",
       "    <tr>\n",
       "      <th>521</th>\n",
       "      <td>2021-W30</td>\n",
       "      <td>10A. Personer fra årgang 1957-1961</td>\n",
       "      <td>92.88</td>\n",
       "      <td>90.77</td>\n",
       "    </tr>\n",
       "    <tr>\n",
       "      <th>522</th>\n",
       "      <td>2021-W30</td>\n",
       "      <td>10B. Personer fra årgang 1962-1966</td>\n",
       "      <td>91.16</td>\n",
       "      <td>87.65</td>\n",
       "    </tr>\n",
       "    <tr>\n",
       "      <th>523</th>\n",
       "      <td>2021-W30</td>\n",
       "      <td>10C. Personer fra årgang 1967-1971</td>\n",
       "      <td>89.20</td>\n",
       "      <td>82.56</td>\n",
       "    </tr>\n",
       "    <tr>\n",
       "      <th>524</th>\n",
       "      <td>2021-W30</td>\n",
       "      <td>10D1. Personer fra årgang 1972-1976 og årgang ...</td>\n",
       "      <td>82.80</td>\n",
       "      <td>56.70</td>\n",
       "    </tr>\n",
       "    <tr>\n",
       "      <th>525</th>\n",
       "      <td>2021-W30</td>\n",
       "      <td>10D2. Personer fra årgang 1977-1981 og årgang ...</td>\n",
       "      <td>76.21</td>\n",
       "      <td>31.74</td>\n",
       "    </tr>\n",
       "    <tr>\n",
       "      <th>526</th>\n",
       "      <td>2021-W30</td>\n",
       "      <td>10D3. Personer fra årgang 1982-1986 og årgang ...</td>\n",
       "      <td>63.38</td>\n",
       "      <td>7.59</td>\n",
       "    </tr>\n",
       "    <tr>\n",
       "      <th>527</th>\n",
       "      <td>2021-W30</td>\n",
       "      <td>10D4. Personer fra årgang 1987-1991</td>\n",
       "      <td>56.23</td>\n",
       "      <td>5.47</td>\n",
       "    </tr>\n",
       "    <tr>\n",
       "      <th>513</th>\n",
       "      <td>2021-W30</td>\n",
       "      <td>2. Borgere &gt; 65, praktisk hjælp og personlig p...</td>\n",
       "      <td>93.20</td>\n",
       "      <td>91.71</td>\n",
       "    </tr>\n",
       "    <tr>\n",
       "      <th>514</th>\n",
       "      <td>2021-W30</td>\n",
       "      <td>3. Borgere fra årgang 1936 og derunder (85 år ...</td>\n",
       "      <td>96.08</td>\n",
       "      <td>95.48</td>\n",
       "    </tr>\n",
       "    <tr>\n",
       "      <th>515</th>\n",
       "      <td>2021-W30</td>\n",
       "      <td>4. Personale i sundhedsvæsenet og dele af soci...</td>\n",
       "      <td>99.00</td>\n",
       "      <td>97.38</td>\n",
       "    </tr>\n",
       "    <tr>\n",
       "      <th>516</th>\n",
       "      <td>2021-W30</td>\n",
       "      <td>5. Udvalgte patienter med særligt øget risiko</td>\n",
       "      <td>94.79</td>\n",
       "      <td>93.40</td>\n",
       "    </tr>\n",
       "    <tr>\n",
       "      <th>517</th>\n",
       "      <td>2021-W30</td>\n",
       "      <td>6. Udvalgte pårørende til personer med særligt...</td>\n",
       "      <td>90.37</td>\n",
       "      <td>89.94</td>\n",
       "    </tr>\n",
       "    <tr>\n",
       "      <th>518</th>\n",
       "      <td>2021-W30</td>\n",
       "      <td>7. Personer fra årgang 1937-1941</td>\n",
       "      <td>96.81</td>\n",
       "      <td>96.35</td>\n",
       "    </tr>\n",
       "    <tr>\n",
       "      <th>519</th>\n",
       "      <td>2021-W30</td>\n",
       "      <td>8. Personer fra årgang 1942-1946</td>\n",
       "      <td>96.83</td>\n",
       "      <td>96.37</td>\n",
       "    </tr>\n",
       "    <tr>\n",
       "      <th>520</th>\n",
       "      <td>2021-W30</td>\n",
       "      <td>9. Personer fra årgang 1947-1956</td>\n",
       "      <td>95.72</td>\n",
       "      <td>94.83</td>\n",
       "    </tr>\n",
       "    <tr>\n",
       "      <th>528</th>\n",
       "      <td>2021-W30</td>\n",
       "      <td>Resterende</td>\n",
       "      <td>5.67</td>\n",
       "      <td>0.00</td>\n",
       "    </tr>\n",
       "  </tbody>\n",
       "</table>\n",
       "<p>529 rows × 4 columns</p>\n",
       "</div>"
      ]
     },
     "metadata": {},
     "execution_count": 29
    }
   ],
   "metadata": {}
  }
 ]
}