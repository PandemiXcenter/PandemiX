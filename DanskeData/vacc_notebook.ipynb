{
 "metadata": {
  "language_info": {
   "codemirror_mode": {
    "name": "ipython",
    "version": 3
   },
   "file_extension": ".py",
   "mimetype": "text/x-python",
   "name": "python",
   "nbconvert_exporter": "python",
   "pygments_lexer": "ipython3",
   "version": "3.8.8"
  },
  "orig_nbformat": 2,
  "kernelspec": {
   "name": "python388jvsc74a57bd0c031fd63bd977d199cd6020c30a19695eacbb638d100e0b8a5ea53080ed74a9a",
   "display_name": "Python 3.8.8 64-bit ('main': conda)"
  }
 },
 "nbformat": 4,
 "nbformat_minor": 2,
 "cells": [
  {
   "cell_type": "code",
   "execution_count": 1,
   "metadata": {},
   "outputs": [
    {
     "output_type": "stream",
     "name": "stdout",
     "text": [
      "saveFigures is set to: True\nDone loading packages\n"
     ]
    }
   ],
   "source": [
    "# Notebook til at undersøge vaccinationsdata\n",
    "import numpy as np\n",
    "import pandas as pd\n",
    "pd.set_option('display.max_rows', 500)\n",
    "pd.set_option('display.min_rows', 50)\n",
    "\n",
    "\n",
    "import matplotlib.pyplot as plt\n",
    "%matplotlib widget\n",
    "plt.rcParams['figure.figsize'] = (12,8)\n",
    "plt.rcParams[\"image.cmap\"] = \"tab10\"\n",
    "plt.rcParams['axes.prop_cycle'] = plt.cycler(color=plt.cm.tab10.colors)\n",
    "fs_label = 16\n",
    "parameters = {\n",
    "                'axes.labelsize': fs_label,\n",
    "                'axes.titlesize': fs_label+4,\n",
    "                'xtick.labelsize': fs_label,\n",
    "                'ytick.labelsize': fs_label, \n",
    "                'legend.fontsize': fs_label, \n",
    "                'lines.markersize': 10,\n",
    "                'lines.linewidth': 3\n",
    "             }\n",
    "plt.rcParams.update(parameters)\n",
    "%matplotlib widget\n",
    "import matplotlib.colors as colors\n",
    "from matplotlib import cm # Colormaps\n",
    "\n",
    "cmap = cm.get_cmap('Dark2',7)\n",
    "\n",
    "import locale\n",
    "import matplotlib.dates as mdates\n",
    "locale.setlocale(locale.LC_TIME,\"Danish\")\n",
    "\n",
    "import os\n",
    "import math\n",
    "\n",
    "from datetime import date\n",
    "\n",
    "\n",
    "saveFigures = True\n",
    "print('saveFigures is set to: '+str(saveFigures))\n",
    "print('Done loading packages')\n",
    "\n",
    "def rnMean(data,meanWidth):\n",
    "    return np.convolve(data, np.ones(meanWidth)/meanWidth, mode='valid')\n",
    "def rnTime(t,meanWidth):\n",
    "    return t[math.floor(meanWidth/2):-math.ceil(meanWidth/2)+1]\n",
    "def rnTime2(t,meanWidth):\n",
    "    return t[meanWidth-1:]\n"
   ]
  },
  {
   "cell_type": "code",
   "execution_count": 6,
   "metadata": {},
   "outputs": [
    {
     "output_type": "stream",
     "name": "stdout",
     "text": [
      "d:\\Pandemix\\Github\\DanskeData\\ssi_vacc\\SSI_data_2021-05-25\n2021-05-25 00:00:00\n"
     ]
    }
   ],
   "source": [
    "ssidatapath = \"ssi_vacc\"\n",
    "rootdir = os.getcwd() +\"\\\\\" + ssidatapath\n",
    "\n",
    "\n",
    "# for subdir, dirs, files in os.walk(rootdir):\n",
    "#     if not len(files) == 0:\n",
    "#         latestdir = subdir\n",
    "#         latestDate = pd.to_datetime(subdir[-10:])\n",
    "\n",
    "# print(latestdir)\n",
    "# print(latestDate)\n",
    "\n",
    "latestdir = rootdir+ '\\\\SSI_data_2021-05-25'\n",
    "latestDate = pd.to_datetime(latestdir[-10:])\n",
    "\n",
    "print(latestdir)\n",
    "print(latestDate)"
   ]
  },
  {
   "cell_type": "code",
   "execution_count": 21,
   "metadata": {},
   "outputs": [],
   "source": [
    "\n",
    "filename = 'Vaccinerede_pr_uge_pr_maalgruppe.csv'\n",
    "# filename = 'Noegletal_vacc_daekning.csv'\n",
    "curPath = \"D:/Pandemix/Github/DanskeData/ssi_vacc/SSI_vacc_2021-05-25/Vaccine_maalgrupper_DB/\" + filename\n",
    "# latestdir+'\\\\Vaccine_maalgrupper_DB\\\\Noegletal_vacc_daekning.csv'\n",
    "\n",
    "filename = 'PaabegVacc_daek_DK_prdag.csv'\n",
    "curPath = \"D:/Pandemix/Github/DanskeData/ssi_vacc/SSI_vacc_2021-05-25/Vaccine_DB/\" + filename\n",
    "\n",
    "\n",
    "df = pd.read_csv(curPath,delimiter = ',',dtype=str,encoding='latin-1')"
   ]
  },
  {
   "cell_type": "code",
   "execution_count": 25,
   "metadata": {},
   "outputs": [
    {
     "output_type": "execute_result",
     "data": {
      "text/plain": [
       "    Vaccinedato        geo Antal påbegyndt vacc. personer Antal borgere  \\\n",
       "144  2021-05-20  Nationalt                          32330       5846864   \n",
       "145  2021-05-21  Nationalt                          35243       5846864   \n",
       "146  2021-05-22  Nationalt                          25867       5846864   \n",
       "147  2021-05-23  Nationalt                          22510       5846864   \n",
       "148  2021-05-24  Nationalt                          23366       5846864   \n",
       "\n",
       "    Påbegyndtvacc. (%) Kumuleret antal påbegyndt vacc.  \n",
       "144               30.6                         1786809  \n",
       "145               31.2                         1822052  \n",
       "146               31.6                         1847919  \n",
       "147               32.0                         1870429  \n",
       "148               32.4                         1893795  "
      ],
      "text/html": "<div>\n<style scoped>\n    .dataframe tbody tr th:only-of-type {\n        vertical-align: middle;\n    }\n\n    .dataframe tbody tr th {\n        vertical-align: top;\n    }\n\n    .dataframe thead th {\n        text-align: right;\n    }\n</style>\n<table border=\"1\" class=\"dataframe\">\n  <thead>\n    <tr style=\"text-align: right;\">\n      <th></th>\n      <th>Vaccinedato</th>\n      <th>geo</th>\n      <th>Antal påbegyndt vacc. personer</th>\n      <th>Antal borgere</th>\n      <th>Påbegyndtvacc. (%)</th>\n      <th>Kumuleret antal påbegyndt vacc.</th>\n    </tr>\n  </thead>\n  <tbody>\n    <tr>\n      <th>144</th>\n      <td>2021-05-20</td>\n      <td>Nationalt</td>\n      <td>32330</td>\n      <td>5846864</td>\n      <td>30.6</td>\n      <td>1786809</td>\n    </tr>\n    <tr>\n      <th>145</th>\n      <td>2021-05-21</td>\n      <td>Nationalt</td>\n      <td>35243</td>\n      <td>5846864</td>\n      <td>31.2</td>\n      <td>1822052</td>\n    </tr>\n    <tr>\n      <th>146</th>\n      <td>2021-05-22</td>\n      <td>Nationalt</td>\n      <td>25867</td>\n      <td>5846864</td>\n      <td>31.6</td>\n      <td>1847919</td>\n    </tr>\n    <tr>\n      <th>147</th>\n      <td>2021-05-23</td>\n      <td>Nationalt</td>\n      <td>22510</td>\n      <td>5846864</td>\n      <td>32.0</td>\n      <td>1870429</td>\n    </tr>\n    <tr>\n      <th>148</th>\n      <td>2021-05-24</td>\n      <td>Nationalt</td>\n      <td>23366</td>\n      <td>5846864</td>\n      <td>32.4</td>\n      <td>1893795</td>\n    </tr>\n  </tbody>\n</table>\n</div>"
     },
     "metadata": {},
     "execution_count": 25
    }
   ],
   "source": [
    "df.tail()"
   ]
  },
  {
   "cell_type": "code",
   "execution_count": 29,
   "metadata": {},
   "outputs": [],
   "source": [
    "newVaccPerDay = df['Kumuleret antal påbegyndt vacc.'].astype(int).diff()\n",
    "\n",
    "curDates =  pd.to_datetime(df.Vaccinedato,format='%Y-%m-%d')"
   ]
  },
  {
   "cell_type": "code",
   "execution_count": 39,
   "metadata": {},
   "outputs": [
    {
     "output_type": "display_data",
     "data": {
      "text/plain": "Canvas(toolbar=Toolbar(toolitems=[('Home', 'Reset original view', 'home', 'home'), ('Back', 'Back to previous …",
      "application/vnd.jupyter.widget-view+json": {
       "version_major": 2,
       "version_minor": 0,
       "model_id": "bebccb0ceca546d884deb75713266e3b"
      }
     },
     "metadata": {}
    }
   ],
   "source": [
    "plt.figure()\n",
    "\n",
    "# plt.plot(curDates,newVaccPerDay)\n",
    "plt.plot(curDates,100 * newVaccPerDay/5846864,'k.:',linewidth=0.5)\n",
    "meanWidth = 7\n",
    "plt.plot(rnTime(curDates,meanWidth),rnMean(100 * newVaccPerDay/5846864,meanWidth),'k',label='Påbegyndte vaccinationer')\n",
    "plt.ylabel('Andel af danmarks samlede befolkning [%]')\n",
    "plt.ylim(bottom=0)\n",
    "plt.legend()\n",
    "plt.grid()"
   ]
  }
 ]
}