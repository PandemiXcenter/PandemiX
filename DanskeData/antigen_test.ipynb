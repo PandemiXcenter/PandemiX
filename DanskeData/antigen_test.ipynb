{
 "metadata": {
  "language_info": {
   "codemirror_mode": {
    "name": "ipython",
    "version": 3
   },
   "file_extension": ".py",
   "mimetype": "text/x-python",
   "name": "python",
   "nbconvert_exporter": "python",
   "pygments_lexer": "ipython3",
   "version": "3.8.8"
  },
  "orig_nbformat": 2,
  "kernelspec": {
   "name": "python388jvsc74a57bd0c031fd63bd977d199cd6020c30a19695eacbb638d100e0b8a5ea53080ed74a9a",
   "display_name": "Python 3.8.8 64-bit ('main': conda)"
  }
 },
 "nbformat": 4,
 "nbformat_minor": 2,
 "cells": [
  {
   "cell_type": "code",
   "execution_count": 1,
   "metadata": {},
   "outputs": [
    {
     "output_type": "stream",
     "name": "stdout",
     "text": [
      "saveFigures is set to: True\nDone loading packages\n"
     ]
    }
   ],
   "source": [
    "# Notebook til at se på SSI's data for antigentests\n",
    "import numpy as np\n",
    "import pandas as pd\n",
    "pd.set_option('display.max_rows', 500)\n",
    "pd.set_option('display.min_rows', 50)\n",
    "\n",
    "\n",
    "import matplotlib.pyplot as plt\n",
    "%matplotlib widget\n",
    "plt.rcParams['figure.figsize'] = (12,8)\n",
    "plt.rcParams[\"image.cmap\"] = \"Dark2\"\n",
    "plt.rcParams['axes.prop_cycle'] = plt.cycler(color=plt.cm.Dark2.colors)\n",
    "plt.rcParams['lines.markersize'] = 3\n",
    "plt.rcParams['lines.linewidth'] = 3\n",
    "%matplotlib widget\n",
    "# plt.style.use('ggplot')\n",
    "import matplotlib.colors as colors\n",
    "# cmap = plt.cm.get_cmap('Dark2',len(ageGroups))\n",
    "from matplotlib import cm # Colormaps\n",
    "\n",
    "import locale\n",
    "import matplotlib.dates as mdates\n",
    "locale.setlocale(locale.LC_TIME,\"Danish\")\n",
    "# ax = plt.gca()\n",
    "# ax1.xaxis.set_major_formatter(mdates.DateFormatter('%b\\n%Y'))\n",
    "# # ax.xaxis.set_major_formatter(mdates.DateFormatter('%Y \\n %B'))\n",
    "\n",
    "import os\n",
    "# import csv\n",
    "import math\n",
    "\n",
    "\n",
    "from datetime import date\n",
    "\n",
    "\n",
    "saveFigures = True\n",
    "print('saveFigures is set to: '+str(saveFigures))\n",
    "\n",
    "print('Done loading packages')\n",
    "\n",
    "def rnMean(data,meanWidth):\n",
    "    return np.convolve(data, np.ones(meanWidth)/meanWidth, mode='valid')\n",
    "def rnTime(t,meanWidth):\n",
    "    return t[math.floor(meanWidth/2):-math.ceil(meanWidth/2)+1]\n"
   ]
  },
  {
   "cell_type": "code",
   "execution_count": 2,
   "metadata": {},
   "outputs": [
    {
     "output_type": "stream",
     "name": "stdout",
     "text": [
      "Make sure to run \"get_data\" first, so the most recent data is used\n"
     ]
    }
   ],
   "source": [
    "print('Make sure to run \"get_data\" first, so the most recent data is used')"
   ]
  },
  {
   "cell_type": "code",
   "execution_count": 3,
   "metadata": {},
   "outputs": [
    {
     "output_type": "stream",
     "name": "stdout",
     "text": [
      "d:\\Pandemix\\Github\\DanskeData/ssi_data\\SSI_data_2021-05-21\n2021-05-21 00:00:00\n"
     ]
    }
   ],
   "source": [
    "ssidatapath = \"ssi_data\"\n",
    "rootdir = os.getcwd() +\"/\" + ssidatapath\n",
    "\n",
    "\n",
    "for subdir, dirs, files in os.walk(rootdir):\n",
    "    if not len(files) == 0:\n",
    "        latestdir = subdir\n",
    "        latestDate = pd.to_datetime(subdir[-10:])\n",
    "\n",
    "print(latestdir)\n",
    "print(latestDate)"
   ]
  },
  {
   "cell_type": "code",
   "execution_count": 4,
   "metadata": {},
   "outputs": [],
   "source": [
    "# Load the data\n",
    "fulldfPCR = pd.read_csv(latestdir+'/Test_pos_over_time.csv',delimiter = ';',dtype=str)\n",
    "fulldf = pd.read_csv(latestdir+'/Test_pos_over_time_antigen.csv',delimiter = ';',dtype=str)\n",
    "\n",
    "# Cut out the last two rows of summary numbers\n",
    "dfPCR = fulldfPCR.iloc[:-2,:].copy()\n",
    "df = fulldf.iloc[:-2,:].copy()"
   ]
  },
  {
   "cell_type": "code",
   "execution_count": 5,
   "metadata": {},
   "outputs": [],
   "source": [
    "\n",
    "dfPCR[\"PosPct\"] = pd.to_numeric(dfPCR[\"PosPct\"].astype(str).apply(lambda x: x.replace(',','.')))\n",
    "dfPCR[\"Date\"] = dfPCR[\"Date\"].astype('datetime64[D]')\n",
    "df[\"PosPct\"] = pd.to_numeric(df[\"PosPct\"].astype(str).apply(lambda x: x.replace(',','.')))\n",
    "df[\"Date\"] = df[\"Date\"].astype('datetime64[D]')\n",
    "\n",
    "rows_to_fix_period_in = [\"NewPositive\",\"NotPrevPos\",\"PrevPos\",\"Tested\",\"Tested_kumulativ\"]\n",
    "for name in rows_to_fix_period_in:\n",
    "    df[name] = pd.to_numeric(df[name].astype(str).apply(lambda x: x.replace('.','')))\n",
    "    dfPCR[name] = pd.to_numeric(dfPCR[name].astype(str).apply(lambda x: x.replace('.','')))\n"
   ]
  },
  {
   "cell_type": "code",
   "execution_count": 6,
   "metadata": {},
   "outputs": [
    {
     "output_type": "display_data",
     "data": {
      "text/plain": "Canvas(toolbar=Toolbar(toolitems=[('Home', 'Reset original view', 'home', 'home'), ('Back', 'Back to previous …",
      "application/vnd.jupyter.widget-view+json": {
       "version_major": 2,
       "version_minor": 0,
       "model_id": "69bbb3dd31874302843a62a693f8be48"
      }
     },
     "metadata": {}
    }
   ],
   "source": [
    "# Plot different things\n",
    "firstDate = np.datetime64('2020-03-01') # All tests\n",
    "firstDate = np.datetime64('2021-02-01') # Antigen test\n",
    "today = date.today()\n",
    "\n",
    "# fig,ax1 = plt.subplots(1,1)\n",
    "fig,(ax1,ax2) = plt.subplots(2,1,sharex=True)\n",
    "\n",
    "ax1.plot(df.Date,df.NewPositive,label='Nye positive')\n",
    "# ax1.plot(df.Date,df.Tested)\n",
    "\n",
    "ax2.plot(df.Date,100*np.divide(df.NewPositive,df.Tested),label='Positiv procent')\n",
    "# ax2.plot(df.Date,0.1*df.PosPct,label='Positiv procent (Afrundet)')\n",
    "ax2.plot(df.Date,df.PosPct,label='Positiv procent (Afrundet)')\n",
    "\n",
    "ax1.set_ylim(bottom=0)\n",
    "# ax2.set_ylim(bottom=0)\n",
    "ax2.set_ylim(bottom=0,top=1)\n",
    "\n",
    "ax1.set_xlim([firstDate,today])\n",
    "ax1.xaxis.set_major_formatter(mdates.DateFormatter('%d %b\\n%Y'))\n",
    "plt.tight_layout()"
   ]
  },
  {
   "source": [
    "# Figure to compare antigen positive procent with PCR"
   ],
   "cell_type": "markdown",
   "metadata": {}
  },
  {
   "cell_type": "code",
   "execution_count": 7,
   "metadata": {},
   "outputs": [
    {
     "output_type": "display_data",
     "data": {
      "text/plain": "Canvas(toolbar=Toolbar(toolitems=[('Home', 'Reset original view', 'home', 'home'), ('Back', 'Back to previous …",
      "application/vnd.jupyter.widget-view+json": {
       "version_major": 2,
       "version_minor": 0,
       "model_id": "46cecbf7b2e1440f921f02c1ceca7789"
      }
     },
     "metadata": {}
    }
   ],
   "source": [
    "# Plot different things\n",
    "firstDate = np.datetime64('2020-03-01') # All tests\n",
    "firstDate = np.datetime64('2021-02-01') # Antigen test\n",
    "today = date.today()\n",
    "\n",
    "# fig,ax1 = plt.subplots(1,1)\n",
    "# fig,(ax1,ax2) = plt.subplots(2,1,sharex=True)\n",
    "fig,(ax1,ax2,ax3) = plt.subplots(3,1,sharex=True)\n",
    "\n",
    "# ax1.plot(df.Date,df.NewPositive,label='Nye positive')\n",
    "ax1.plot(df.Date,df.Tested,label='Tested, antigen')\n",
    "ax1.plot(dfPCR.Date,dfPCR.Tested,label='Tested, PCR')\n",
    "\n",
    "ax2.plot(df.Date,df.NewPositive,label='New positive, antigen')\n",
    "ax2.plot(dfPCR.Date,dfPCR.NewPositive,label='New positive, PCR')\n",
    "\n",
    "posPctAG = 100*np.divide(df.NewPositive,df.Tested)\n",
    "posPctPCR = 100*np.divide(dfPCR.NewPositive,dfPCR.Tested)\n",
    "ax3.plot(df.Date,posPctAG,label='Positiv procent, antigen')\n",
    "ax3.plot(dfPCR.Date,posPctPCR,label='Positiv procent, PCR')\n",
    "# ax2.plot(df.Date,df.PosPct,label='Positiv procent (Afrundyet)')\n",
    "# ax2.plot(dfPCR.Date,0.1*dfPCR.PosPct,label='Positiv procet (Afrundet)')\n",
    "\n",
    "backToShow = -30\n",
    "\n",
    "ax1.set_ylim(bottom=0)\n",
    "ax2Top = np.max(dfPCR.NewPositive[backToShow:])*1.1\n",
    "ax2.set_ylim(bottom=0,top=ax2Top)\n",
    "ax3Top =np.max(posPctPCR[backToShow:])*1.1\n",
    "ax3.set_ylim(bottom=0,top=ax3Top)\n",
    "\n",
    "ax1.legend()\n",
    "ax2.legend()\n",
    "ax3.legend()\n",
    "\n",
    "ax1.grid()\n",
    "ax2.grid()\n",
    "ax3.grid()\n",
    "\n",
    "# ax1.set_xlim([firstDate,today])\n",
    "lastDate = df.iloc[-1].Date\n",
    "ax1.set_xlim([firstDate,lastDate])\n",
    "# ax1.set_xlim([firstDate,today-np.timedelta64(2,'D')])\n",
    "ax1.xaxis.set_major_formatter(mdates.DateFormatter('%d-%b\\n%Y'))\n",
    "\n",
    "plt.tight_layout()\n",
    "\n",
    "if saveFigures:\n",
    "    fig.savefig('figs/PosPctComparison')"
   ]
  },
  {
   "cell_type": "code",
   "execution_count": 8,
   "metadata": {},
   "outputs": [],
   "source": [
    "# df.NewPositive"
   ]
  },
  {
   "source": [
    "# Figures of the \"Antigentest_pr_dag.csv\" file"
   ],
   "cell_type": "markdown",
   "metadata": {}
  },
  {
   "cell_type": "code",
   "execution_count": 9,
   "metadata": {},
   "outputs": [],
   "source": [
    "# latestdir\n",
    "# curDir = 'c:\\\\Users\\\\rakrpe\\\\Documents\\\\PandemiX\\\\GithubRepos\\\\PandemiX\\\\DanskeData/ssi_data\\\\SSI_data_2021-03-25'\n",
    "# curDir = 'c:\\\\Users\\\\rakrpe\\\\Documents\\\\PandemiX\\\\GithubRepos\\\\PandemiX\\\\DanskeData\\\\ssi_data\\\\SSI_data_2021-03-28'\n",
    "# curDir = \"C:\\\\Users\\\\rakrpe\\\\Documents\\\\PandemiX\\\\GithubRepos\\\\PandemiX\\\\DanskeData\\\\ssi_data\\\\SSI_data_2021-04-28\\\\\"\n",
    "# curDir = \"C:\\\\Users\\\\rakrpe\\\\Documents\\\\PandemiX\\\\GithubRepos\\\\PandemiX\\\\DanskeData\\\\ssi_data\\\\SSI_data_2021-05-21\\\\\"\n",
    "curDir = latestdir + '\\\\'"
   ]
  },
  {
   "cell_type": "code",
   "execution_count": 10,
   "metadata": {},
   "outputs": [],
   "source": [
    "# Load the data\n",
    "# df2 = pd.read_csv(latestdir+'/Antigentests_pr_dag.csv',delimiter = ';')\n",
    "df2 = pd.read_csv(curDir+'Antigentests_pr_dag.csv',delimiter = ';')\n",
    "\n",
    "# # Remove the first two rows which are from april 2020\n",
    "# df2 = df2.iloc[2:,:].copy()"
   ]
  },
  {
   "cell_type": "code",
   "execution_count": 11,
   "metadata": {},
   "outputs": [],
   "source": [
    "df2[\"Dato\"] = df2[\"Dato\"].astype('datetime64[D]')\n",
    "df2[\"Andel_AGpos_PCRkonf_pct\"] = pd.to_numeric(df2[\"Andel_AGpos_PCRkonf_pct\"].astype(str).apply(lambda x: x.replace(',','.')))\n",
    "df2[\"Andel_AGminusPCRkonf_pct\"] = pd.to_numeric(df2[\"Andel_AGminusPCRkonf_pct\"].astype(str).apply(lambda x: x.replace(',','.')))"
   ]
  },
  {
   "cell_type": "code",
   "execution_count": 12,
   "metadata": {},
   "outputs": [],
   "source": [
    "# df2"
   ]
  },
  {
   "cell_type": "code",
   "execution_count": 13,
   "metadata": {},
   "outputs": [
    {
     "output_type": "display_data",
     "data": {
      "text/plain": "Canvas(toolbar=Toolbar(toolitems=[('Home', 'Reset original view', 'home', 'home'), ('Back', 'Back to previous …",
      "application/vnd.jupyter.widget-view+json": {
       "version_major": 2,
       "version_minor": 0,
       "model_id": "38970d16514f4070b78bdd658887bc99"
      }
     },
     "metadata": {}
    }
   ],
   "source": [
    "# fig,(ax1,ax2,ax3) = plt.subplots(3,1,sharex=True)\n",
    "fig,(ax1,ax2,ax3,ax4) = plt.subplots(4,1,sharex=True)\n",
    "\n",
    "ax1.plot(df2.Dato,df2.AG_testede,label='AG tests')\n",
    "ax1.plot(dfPCR.Date,dfPCR.Tested,label='PCR tests')\n",
    "# ax1.plot(df2.Dato,df2.AG_pos)\n",
    "# ax1.plot(df2.Dato,100*np.divide(df2.AG_pos,df2.AG_testede),label='Andel af positive AG tests')\n",
    "\n",
    "# firstToShow = -75\n",
    "# ax1.plot(df.Date,posPctAG,label='Positiv procent, antigen')\n",
    "# ax1.plot(dfPCR.Date[firstToShow:],posPctPCR[firstToShow:],label='Positiv procent, PCR')\n",
    "\n",
    "\n",
    "unconf = df2['AGpos_minusPCRkonf']\n",
    "unconfAndPos = unconf+df2['AGpos_PCRpos']\n",
    "allAGPos = unconfAndPos+df2['AGposPCRneg']\n",
    "\n",
    "# ax2.plot(df2.Dato,df2['AGpos_minusPCRkonf'])\n",
    "# ax2.plot(df2.Dato,df2['AGpos_PCRpos'])\n",
    "# ax2.plot(df2.Dato,df2['AGposPCRneg'])\n",
    "\n",
    "# ax2.plot(df2.Dato,unconf)\n",
    "# ax2.plot(df2.Dato,unconfAndPos)\n",
    "# ax2.plot(df2.Dato,allAGPos)\n",
    "# ax2.plot(df2.Dato,df2.AG_pos)\n",
    "\n",
    "# ax2.plot(df2.Dato,np.divide(unconf,allAGPos),label='AG positiv, endnu ikke PCR testet')\n",
    "# ax2.plot(df2.Dato,np.divide(unconfAndPos,allAGPos),label='AG positiv, PCR positiv')\n",
    "# ax2.plot(df2.Dato,np.divide(allAGPos,allAGPos),label='AG positiv, PCR negativ')\n",
    "\n",
    "ax2.fill_between(df2.Dato,100 * np.ones(df2.Dato.shape),label='AG positiv, PCR negativ')\n",
    "ax2.fill_between(df2.Dato,100 * np.divide(unconfAndPos,allAGPos),label='AG positiv, PCR positiv')\n",
    "ax2.fill_between(df2.Dato,100 * np.divide(unconf,allAGPos),color='gray',label='AG positiv, endnu ikke PCR testet')\n",
    "\n",
    "allConf = df2.AGpos_PCRpos + df2.AGposPCRneg\n",
    "ax3.plot(df2.Dato,100 * np.divide(df2.AGposPCRneg,allConf),label='AG positiv, PCR negativ')\n",
    "# ax3.plot(df2.Dato,100 * np.divide(df2.AGpos_PCRpos,allConf),label='AG positiv, PCR positiv')\n",
    "\n",
    "\n",
    "# sumNeg = np.sum(df2.AGnegPCRpos.values,df2.AGnegPCRneg.values)\n",
    "sumNeg = df2.AGnegPCRneg.values + df2.AGnegPCRpos.values\n",
    "# ax3.fill_between(df2.Dato,100 * np.ones(df2.Dato.shape),label='AG negativ, PCR positiv')\n",
    "# ax3.fill_between(df2.Dato,100 * np.divide(df2.AGnegPCRneg,sumNeg),label='AG negativ, PCR negativ')\n",
    "# ax3.fill_between(df2.Dato,df2.AGnegPCRneg)\n",
    "\n",
    "\n",
    "# ax3.fill_between(df2.Dato,100 * np.ones(df2.Dato.shape),label='AG negativ, PCR negativ')\n",
    "# ax3.fill_between(df2.Dato,100 * np.divide(df2.AGnegPCRpos,sumNeg),label='AG negativ, PCR positiv')\n",
    "ax4.plot(df2.Dato,100 * np.divide(df2.AGnegPCRpos,sumNeg),label='AG negativ, PCR positiv')\n",
    "\n",
    "meanWidth = 7\n",
    "rmDate = rnTime(df2.Dato,meanWidth)\n",
    "rmNegPos = rnMean(np.divide(df2.AGnegPCRpos,sumNeg),meanWidth)\n",
    "ax4.plot(rmDate,100 * rmNegPos,'k:',label='7 dages løbende gennemsnit')\n",
    "\n",
    "\n",
    "# ax1.legend(loc='upper left')\n",
    "# ax2.legend(loc='upper left')\n",
    "ax1.legend(loc='center left',bbox_to_anchor = (1.0, 0.5))\n",
    "ax2.legend(loc='center left',bbox_to_anchor = (1.0, 0.5))\n",
    "ax3.legend(loc='center left',bbox_to_anchor = (1.0, 0.5))\n",
    "ax4.legend(loc='center left',bbox_to_anchor = (1.0, 0.5))\n",
    "ax1.set_ylim(bottom=0)\n",
    "ax2.set_ylim([0,100])\n",
    "ax3.set_ylim([0,100])\n",
    "ax4.set_ylim([0,100])\n",
    "# ax4.set_ylim([95,100])\n",
    "ax4.set_ylim([0,3])\n",
    "\n",
    "ax1.set_ylabel('Antal tests')\n",
    "ax2.set_ylabel('Andel af tests [%]')\n",
    "ax3.set_ylabel('Andel af PCR-\\nkonfirmede tests [%]')\n",
    "ax4.set_ylabel('Andel af tests [%]')\n",
    "# ax1.set_xlim([df2.iloc[0,0],df2.iloc[-1,0]])\n",
    "\n",
    "ax1.grid()\n",
    "# ax2.grid()\n",
    "ax3.grid()\n",
    "ax4.grid()\n",
    "\n",
    "lastDate = df2.iloc[-1].Dato\n",
    "# ax1.set_xlim([np.datetime64('2021-02-01'),today])\n",
    "ax1.set_xlim([np.datetime64('2021-02-01'),lastDate])\n",
    "\n",
    "ax1.xaxis.set_major_formatter(mdates.DateFormatter('%d-%b\\n%Y'))\n",
    "plt.tight_layout()\n",
    "\n",
    "if saveFigures:\n",
    "    fig.savefig('figs/AGprDagOpsummering')"
   ]
  },
  {
   "cell_type": "code",
   "execution_count": 14,
   "metadata": {},
   "outputs": [],
   "source": [
    "# df2"
   ]
  },
  {
   "cell_type": "code",
   "execution_count": 15,
   "metadata": {},
   "outputs": [
    {
     "output_type": "display_data",
     "data": {
      "text/plain": "Canvas(toolbar=Toolbar(toolitems=[('Home', 'Reset original view', 'home', 'home'), ('Back', 'Back to previous …",
      "application/vnd.jupyter.widget-view+json": {
       "version_major": 2,
       "version_minor": 0,
       "model_id": "bc58370c1f9a41889cf2286c39897582"
      }
     },
     "metadata": {}
    }
   ],
   "source": [
    "\n",
    "# fig,ax1 = plt.subplots(1,1)\n",
    "fig,(ax1,ax2) = plt.subplots(2,1,sharex=True)\n",
    "\n",
    "# ax1.plot(df2.Dato,df2['AGnegPCRpos'],label='AG neg, PCR pos')\n",
    "# ax1.plot(df2.Dato,df2['AGnegPCRneg'],label='AG neg, PCR neg')\n",
    "# ax1.plot(df2.Dato,1e5*np.divide(df2['AGnegPCRpos'],df2['AG_testede']),label='AG neg, PCR pos')\n",
    "# ax1.plot(df2.Dato,1e5*np.divide(df2['AGnegPCRneg'],df2['AG_testede']),label='AG neg, PCR neg')\n",
    "\n",
    "# ax1.fill_between(df2.Dato,100 * np.ones(df2.Dato.shape),label='AG positiv, PCR negativ')\n",
    "# ax1.fill_between(df2.Dato,100 * np.divide(unconfAndPos,allAGPos),label='AG positiv, PCR positiv')\n",
    "# ax1.fill_between(df2.Dato,100 * np.divide(unconf,allAGPos),color='gray',label='AG positiv, endnu ikke PCR testet')\n",
    "\n",
    "allConf = df2.AGpos_PCRpos + df2.AGposPCRneg\n",
    "# ax1.plot(df2.Dato,100 * np.divide(df2.AGpos_PCRpos,allConf),label='AG positiv, PCR positiv')\n",
    "ax1.fill_between(df2.Dato,100 * np.ones(df2.Dato.shape),color='xkcd:beige',label='AG positiv, PCR negativ')\n",
    "ax1.fill_between(df2.Dato,100 * np.divide(df2.AGpos_PCRpos,allConf),color='xkcd:sky blue',label='AG positiv, PCR positiv')\n",
    "\n",
    "\n",
    "\n",
    "totAGneg = df2['AGnegPCRpos'] + df2['AGnegPCRneg']\n",
    "# ax2.plot(df2.Dato,np.divide(df2['AGnegPCRpos'],totAGneg),label='AG neg, PCR pos')\n",
    "# ax2.plot(df2.Dato,100 * np.divide(df2['AGnegPCRneg'],totAGneg),label='AG negativ, PCR negativ')\n",
    "ax2.fill_between(df2.Dato,100 * np.ones(df2.Dato.shape),color='xkcd:beige',label='AG negativ, PCR positive')\n",
    "ax2.fill_between(df2.Dato,100 * np.divide(df2['AGnegPCRneg'],totAGneg),color='xkcd:sky blue',label='AG negativ, PCR negativ')\n",
    "\n",
    "## Running means\n",
    "meanWidth = 7\n",
    "rmDate = rnTime(df2.Dato,meanWidth)\n",
    "curPP = np.divide(df2.AGpos_PCRpos,allConf)\n",
    "curNN = np.divide(df2['AGnegPCRneg'],totAGneg)\n",
    "rmPP = rnMean(curPP,meanWidth)\n",
    "rmNN = rnMean(curNN,meanWidth)\n",
    "\n",
    "ax1.plot(rmDate,100 * rmPP,'k:',label=str(meanWidth) + ' dages gennemsnit')\n",
    "ax2.plot(rmDate,100 * rmNN,'k:',label=str(meanWidth) + ' dages gennemsnit')\n",
    "\n",
    "firstDateToUse = np.datetime64('2021-02-15')\n",
    "indexToUse = (df2.Dato > firstDateToUse)\n",
    "meanPP = np.mean(curPP[indexToUse])\n",
    "meanNN = np.mean(curNN[indexToUse])\n",
    "ax1.plot(df2.Dato[indexToUse],100 * np.ones(df2.Dato[indexToUse].shape) * meanPP,'g--',label='Gennemsnit fra '+str(firstDateToUse)+ ' og frem')\n",
    "ax2.plot(df2.Dato[indexToUse],100 * np.ones(df2.Dato[indexToUse].shape) * meanNN,'g--',label='Gennemsnit fra '+str(firstDateToUse)+ ' og frem')\n",
    "\n",
    "\n",
    "ax1.set_ylim([0,100])\n",
    "ax2.set_ylim([95,100])\n",
    "\n",
    "ax1.legend()\n",
    "ax2.legend()\n",
    "# ax1.grid()\n",
    "# ax2.grid()\n",
    "\n",
    "lastDate = df2.iloc[-1].Dato\n",
    "# ax1.set_xlim([np.datetime64('2021-02-01'),today])\n",
    "ax1.set_xlim([np.datetime64('2021-02-01'),lastDate])\n",
    "\n",
    "ax1.xaxis.set_major_formatter(mdates.DateFormatter('%d-%b\\n%Y'))\n",
    "plt.tight_layout()\n",
    "\n",
    "if saveFigures:\n",
    "    fig.savefig('figs/PCRverificeredeAGtest')\n",
    "\n",
    "ax1.plot(df2.Dato,df2['Andel_AGpos_PCRkonf_pct'],color='m',label='Andel_AGpos_PCRkonf_pct')\n",
    "ax1.legend()\n",
    "if saveFigures:\n",
    "    fig.savefig('figs/PCRverificeredeAGtest_Andel_AGpos_PCRkonf_pct')"
   ]
  },
  {
   "cell_type": "code",
   "execution_count": 16,
   "metadata": {},
   "outputs": [
    {
     "output_type": "execute_result",
     "data": {
      "text/plain": [
       "numpy.datetime64('2021-05-24')"
      ]
     },
     "metadata": {},
     "execution_count": 16
    }
   ],
   "source": [
    "lastDate = np.datetime64(date.today())\n",
    "lastDate"
   ]
  },
  {
   "cell_type": "code",
   "execution_count": 17,
   "metadata": {},
   "outputs": [
    {
     "output_type": "display_data",
     "data": {
      "text/plain": "Canvas(toolbar=Toolbar(toolitems=[('Home', 'Reset original view', 'home', 'home'), ('Back', 'Back to previous …",
      "application/vnd.jupyter.widget-view+json": {
       "version_major": 2,
       "version_minor": 0,
       "model_id": "62471dcb4a5642b38ae517b5d930c6aa"
      }
     },
     "metadata": {}
    }
   ],
   "source": [
    "\n",
    "\n",
    "# curdf = df2[df2.Dato <= np.datetime64('2021-03-23')].copy()\n",
    "curdf = df2[df2.Dato <= lastDate].copy()\n",
    "\n",
    "totPCR = curdf.AGpos_PCRpos+curdf.AGposPCRneg+curdf.AGnegPCRpos+curdf.AGnegPCRneg\n",
    "\n",
    "# fig,(ax1,ax2) = plt.subplots(2,1,sharex=True)\n",
    "# ax1.plot(curdf.Dato,curdf.AGpos_PCRpos,label='AGpos_PCRpos')\n",
    "# ax1.plot(curdf.Dato,curdf.AGposPCRneg,label='AGposPCRneg')\n",
    "# ax1.plot(curdf.Dato,curdf.AGnegPCRpos,label='AGnegPCRpos')\n",
    "\n",
    "# # ax1.plot(curdf.Dato,curdf.AGnegPCRneg,label='AGnegPCRneg')\n",
    "# # ax1.plot(curdf.Dato,totPCR,label='Total')\n",
    "\n",
    "# ax2.plot(curdf.Dato,100 * np.divide(curdf.AGpos_PCRpos,totPCR),label='AGpos_PCRpos')\n",
    "# ax2.plot(curdf.Dato,100 * np.divide(curdf.AGposPCRneg,totPCR),label='AGposPCRneg')\n",
    "# ax2.plot(curdf.Dato,100 * np.divide(curdf.AGnegPCRpos,totPCR),label='AGnegPCRpos')\n",
    "# # ax2.plot(curdf.Dato,100 * np.divide(curdf.AGnegPCRneg,totPCR),label='AGnegPCRneg')\n",
    "# # ax2.plot(curdf.Dato,100 * np.ones(curdf.Dato.shape),label='Total')\n",
    "\n",
    "# ax1.legend()\n",
    "# ax2.legend()\n",
    "\n",
    "# ax1.set_ylabel('Antal')\n",
    "# ax2.set_ylabel('Andel [%]')\n",
    "\n",
    "# plt.tight_layout()\n",
    "\n",
    "\n",
    "\n",
    "\n",
    "fig,(ax1,ax2) = plt.subplots(2,1,sharex=True)\n",
    "\n",
    "totPCR = curdf.AGpos_PCRpos+curdf.AGposPCRneg+curdf.AGnegPCRpos+curdf.AGnegPCRneg\n",
    "totPos = curdf.AGpos_PCRpos+curdf.AGposPCRneg\n",
    "totNeg = curdf.AGnegPCRpos+curdf.AGnegPCRneg\n",
    "\n",
    "\n",
    "# ax1.plot(curdf.Dato,curdf.AGnegPCRneg,label='AGnegPCRneg')\n",
    "# ax1.plot(curdf.Dato,totPCR,label='Total')\n",
    "\n",
    "ax1.plot(curdf.Dato,100 * np.divide(curdf.AGpos_PCRpos,totPos),label='AGpos_PCRpos')\n",
    "ax1.plot(curdf.Dato,100 * np.divide(curdf.AGposPCRneg,totPos),label='AGposPCRneg')\n",
    "ax2.plot(curdf.Dato,100 * np.divide(curdf.AGnegPCRpos,totNeg),label='AGnegPCRpos')\n",
    "ax2.plot(curdf.Dato,100 * np.divide(curdf.AGnegPCRneg,totNeg),label='AGnegPCRneg')\n",
    "# ax2.plot(curdf.Dato,100 * np.ones(curdf.Dato.shape),label='Total')\n",
    "\n",
    "\n",
    "\n",
    "ax1.legend()\n",
    "ax2.legend()\n",
    "\n",
    "# ax1.set_ylabel('Antal')\n",
    "# ax2.set_ylabel('Andel [%]')\n",
    "\n",
    "plt.tight_layout()\n",
    "\n",
    "# print(100*np.mean(np.divide(curdf.AGpos_PCRpos,totPos)))"
   ]
  },
  {
   "cell_type": "code",
   "execution_count": 18,
   "metadata": {},
   "outputs": [
    {
     "output_type": "stream",
     "name": "stdout",
     "text": [
      "      | PCR +   | PCR -   |\n______|_________|_________|\nAG +  | 10981   | 7190    | 18171\nAG -  | 12011   | 849253  | 861264 \n      | 22992   | 856443\n\nTotal: 879435\n Sand positiv (AG+,PCR+): 47.76 % af alle PCR+\nFalsk negativ (AG-,PCR+): 52.24 % af alle PCR+\n Sand positiv AG (AG+,PCR+): 60.43 % af alle AG+\nFalsk positiv AG (AG+,PCR-): 39.57 % af alle AG+\n"
     ]
    }
   ],
   "source": [
    "curdf = df2[(df2.Dato <= lastDate) & (df2.Dato >= np.datetime64('2021-02-01'))].copy()\n",
    "# curdf = df2[(df2.Dato <= np.datetime64('2021-03-23')) & (df2.Dato >= np.datetime64('2021-02-20'))].copy()\n",
    "# curdf = df2[(df2.Dato <= np.datetime64('2021-03-21')) & (df2.Dato >= np.datetime64('2021-02-01'))].copy()\n",
    "\n",
    "print('      | PCR +   | PCR -   |')\n",
    "print('______|_________|_________|')\n",
    "print(f'AG +  | {curdf.AGpos_PCRpos.sum()}   | {curdf.AGposPCRneg.sum()}    | {curdf.AGpos_PCRpos.sum()+curdf.AGposPCRneg.sum()}')\n",
    "print(f'AG -  | {curdf.AGnegPCRpos.sum()}   | {curdf.AGnegPCRneg.sum()}  | {curdf.AGnegPCRpos.sum()+curdf.AGnegPCRneg.sum()} ')\n",
    "print(f'      | {curdf.AGpos_PCRpos.sum()+curdf.AGnegPCRpos.sum()}   | {curdf.AGposPCRneg.sum()+curdf.AGnegPCRneg.sum()}')\n",
    "# curdf.AGnegPCRpos.sum() + curdf.AGpos_PCRpos.sum()\n",
    "print('')\n",
    "print(f'Total: {totPCR.sum()}')\n",
    "\n",
    "ag_P_pcr_P = curdf.AGpos_PCRpos.sum()\n",
    "ag_N_pcr_P = curdf.AGnegPCRpos.sum()\n",
    "ag_P_pcr_N = curdf.AGposPCRneg.sum()\n",
    "ag_N_pcr_N = curdf.AGnegPCRneg.sum()\n",
    "\n",
    "\n",
    "# falskPos = 100*ag_P_pcr_N/(ag_P_pcr_P + ag_P_pcr_N)\n",
    "# sandPos  = 100*ag_P_pcr_P/(ag_P_pcr_P + ag_P_pcr_N)\n",
    "# falskNeg = 100*ag_N_pcr_P/(ag_N_pcr_P + ag_N_pcr_N)\n",
    "# sandNeg  = 100*ag_N_pcr_N/(ag_N_pcr_P + ag_N_pcr_N)\n",
    "# # falskPos = curdf.AGpos_PCRpos.sum()/(curdf.AGpos_PCRpos.sum()+curdf.AGposPCRneg.sum())\n",
    "# # falskPos = curdf.AGpos_PCRpos.sum()/(curdf.AGpos_PCRpos.sum()+curdf.AGposPCRneg.sum())\n",
    "# # falskPos = curdf.AGpos_PCRpos.sum()/(curdf.AGpos_PCRpos.sum()+curdf.AGposPCRneg.sum())\n",
    "# # falskPos = curdf.AGpos_PCRpos.sum()/(curdf.AGpos_PCRpos.sum()+curdf.AGposPCRneg.sum())\n",
    "\n",
    "# print(f'Falsk positiv (AG+,PCR-): {falskPos:2.2f} %')\n",
    "# print(f' Sand positiv (AG+,PCR+): {sandPos:2.2f} %')\n",
    "# print(f'Falsk negativ (AG-,PCR+): {falskNeg:2.2f} %')\n",
    "# print(f' Sand negativ (AG-,PCR-): {sandNeg:2.2f} %')\n",
    "\n",
    "\n",
    "falskPos = 100*ag_P_pcr_N/(ag_P_pcr_N + ag_N_pcr_N)\n",
    "sandPos  = 100*ag_P_pcr_P/(ag_P_pcr_P + ag_N_pcr_P)\n",
    "falskNeg = 100*ag_N_pcr_P/(ag_N_pcr_P + ag_P_pcr_P)\n",
    "sandNeg  = 100*ag_N_pcr_N/(ag_N_pcr_N + ag_P_pcr_N)\n",
    "# falskPos = curdf.AGpos_PCRpos.sum()/(curdf.AGpos_PCRpos.sum()+curdf.AGposPCRneg.sum())\n",
    "# falskPos = curdf.AGpos_PCRpos.sum()/(curdf.AGpos_PCRpos.sum()+curdf.AGposPCRneg.sum())\n",
    "# falskPos = curdf.AGpos_PCRpos.sum()/(curdf.AGpos_PCRpos.sum()+curdf.AGposPCRneg.sum())\n",
    "# falskPos = curdf.AGpos_PCRpos.sum()/(curdf.AGpos_PCRpos.sum()+curdf.AGposPCRneg.sum())\n",
    "\n",
    "print(f' Sand positiv (AG+,PCR+): {sandPos:2.2f} % af alle PCR+')\n",
    "print(f'Falsk negativ (AG-,PCR+): {falskNeg:2.2f} % af alle PCR+')\n",
    "# print(f' Sand negativ (AG-,PCR-): {sandNeg:2.2f} % af alle PCR-')\n",
    "# print(f'Falsk positiv (AG+,PCR-): {falskPos:2.2f} % af alle PCR-')\n",
    "sandAgP = 100*ag_P_pcr_P/(ag_P_pcr_N + ag_P_pcr_P)\n",
    "# falskAgP = 100*ag_N_pcr_P/(ag_P_pcr_N + ag_P_pcr_P)\n",
    "print(f' Sand positiv AG (AG+,PCR+): {sandAgP:2.2f} % af alle AG+')\n",
    "print(f'Falsk positiv AG (AG+,PCR-): {100-sandAgP:2.2f} % af alle AG+')"
   ]
  },
  {
   "cell_type": "code",
   "execution_count": 19,
   "metadata": {},
   "outputs": [],
   "source": [
    "# df2.AG_pos.sum()"
   ]
  },
  {
   "cell_type": "code",
   "execution_count": 20,
   "metadata": {},
   "outputs": [
    {
     "output_type": "display_data",
     "data": {
      "text/plain": "Canvas(toolbar=Toolbar(toolitems=[('Home', 'Reset original view', 'home', 'home'), ('Back', 'Back to previous …",
      "application/vnd.jupyter.widget-view+json": {
       "version_major": 2,
       "version_minor": 0,
       "model_id": "0ec6157782bd490e94080db05be2594b"
      }
     },
     "metadata": {}
    }
   ],
   "source": [
    "da = df2.Dato\n",
    "TP = df2.AGpos_PCRpos\n",
    "FP = df2.AGposPCRneg\n",
    "FN = df2.AGnegPCRpos\n",
    "TN = df2.AGnegPCRneg\n",
    "\n",
    "N = TP+FP+FN+TN\n",
    "\n",
    "DOR = (TP*TN)/(FP*FN)\n",
    "\n",
    "PPV = TP/(TP+FP)\n",
    "FDR = FP/(TP+FP)\n",
    "FOR = FN/(TN+FN)\n",
    "NPV = TN/(TN+FN)\n",
    "\n",
    "TPR = TP/(TP+FN)\n",
    "FNR = FN/(TP+FN)\n",
    "FPR = FP/(TN+FP)\n",
    "TNR = TN/(TN+FP)\n",
    "\n",
    "PRE = (TP+FN)/N\n",
    "ACC = (TP+TN)/N\n",
    "\n",
    "LRP = TPR/FPR\n",
    "LRN = FNR/TNR\n",
    "\n",
    "\n",
    "DOR2 = LRP/LRN\n",
    "\n",
    "\n",
    "F1 = 2 * (PPV*TPR)/(PPV+TPR)\n",
    "\n",
    "# fig,ax1 = plt.subplots(1,1)\n",
    "# fig,(ax1,ax2) = plt.subplots(2,1,sharex=True)\n",
    "# fig,(ax1,ax2,ax3) = plt.subplots(3,1,sharex=True)\n",
    "fig,(ax1,ax2,ax3,ax4) = plt.subplots(4,1,sharex=True)\n",
    "\n",
    "ax1.plot(da,PPV,label='Positive predictive value (Precision)')\n",
    "ax1.plot(da,FDR,label='False discovery rate')\n",
    "ax1.plot(da,FOR,label='False omission rate')\n",
    "ax1.plot(da,NPV,label='Negative predictive value')\n",
    "\n",
    "\n",
    "ax2.plot(da,TPR,label='True positive rate (Sensitivity)')\n",
    "ax2.plot(da,FNR,label='False negative rate')\n",
    "ax2.plot(da,FPR,label='False positive rate')\n",
    "ax2.plot(da,TNR,label='True negative rate (Specificity)')\n",
    "\n",
    "\n",
    "ax3.plot(da,PRE,label='Prevalence')\n",
    "ax3.plot(da,ACC,label='Accuracy')\n",
    "\n",
    "ax4.plot(da,LRP,label='Positive likelihood ratio')\n",
    "ax4.plot(da,LRN,label='Negative likelihood ratio')\n",
    "\n",
    "# plt.plot(da,TP)\n",
    "# plt.plot(da,FP)\n",
    "# plt.plot(da,FN)\n",
    "# plt.plot(da,TN)\n",
    "\n",
    "ax4.plot(da,DOR,label='Diagnostic odds ratio')\n",
    "\n",
    "ax4.plot(da,F1,label='F1 score')\n",
    "ax4.set_ylim(bottom=0)\n",
    "\n",
    "ax1.legend(loc='center left',bbox_to_anchor = (1.0, 0.5))\n",
    "ax2.legend(loc='center left',bbox_to_anchor = (1.0, 0.5))\n",
    "ax3.legend(loc='center left',bbox_to_anchor = (1.0, 0.5))\n",
    "ax4.legend(loc='center left',bbox_to_anchor = (1.0, 0.5))\n",
    "\n",
    "plt.tight_layout()\n",
    "if saveFigures:\n",
    "    fig.savefig('figs/PCRverificeredeAGtest_ConfusionMatrixExtra')"
   ]
  },
  {
   "cell_type": "code",
   "execution_count": 21,
   "metadata": {},
   "outputs": [
    {
     "output_type": "display_data",
     "data": {
      "text/plain": "Canvas(toolbar=Toolbar(toolitems=[('Home', 'Reset original view', 'home', 'home'), ('Back', 'Back to previous …",
      "application/vnd.jupyter.widget-view+json": {
       "version_major": 2,
       "version_minor": 0,
       "model_id": "e6ab0e760f1b4f1981da38b85014a421"
      }
     },
     "metadata": {}
    }
   ],
   "source": [
    "fig,(ax1,ax2,ax3,ax4) = plt.subplots(4,1,sharex=True)\n",
    "\n",
    "ax1.plot(da,PPV,label='Positive predictive value (Precision)')\n",
    "ax1.plot(da,TPR,label='True positive rate')\n",
    "ax1.plot(da,F1,label='F1 score')\n",
    "# ax1.plot(da,FDR,label='False discovery rate')\n",
    "# ax1.plot(da,FOR,label='False omission rate')\n",
    "# ax1.plot(da,NPV,label='Negative predictive value')\n",
    "\n",
    "\n",
    "ax2.plot(da,TNR,label='True negative rate (Specificity)')\n",
    "ax2.plot(da,NPV,label='Negative predictive value')\n",
    "ax2.plot(da,ACC,label='Accuracy')\n",
    "\n",
    "ax3.plot(da,FPR,label='False positive rate')\n",
    "ax3.plot(da,FOR,label='False omission rate')\n",
    "ax3.plot(da,PRE,label='Prevalence')\n",
    "\n",
    "# ax2.plot(da,TPR,label='True positive rate')\n",
    "# ax2.plot(da,FNR,label='False negative rate')\n",
    "# ax2.plot(da,FPR,label='False positive rate')\n",
    "# ax2.plot(da,TNR,label='True negative rate (Specificity)')\n",
    "\n",
    "\n",
    "# ax3.plot(da,PRE,label='Prevalence')\n",
    "# ax3.plot(da,ACC,label='Accuracy')\n",
    "\n",
    "ax4.plot(da,LRP,label='Positive likelihood ratio')\n",
    "# ax4.plot(da,LRN,label='Negative likelihood ratio')\n",
    "\n",
    "# # plt.plot(da,TP)\n",
    "# # plt.plot(da,FP)\n",
    "# # plt.plot(da,FN)\n",
    "# # plt.plot(da,TN)\n",
    "\n",
    "ax4.plot(da,DOR,label='Diagnostic odds ratio')\n",
    "\n",
    "ax4.set_ylim(bottom=0,top=300)\n",
    "\n",
    "ax1.legend(loc='center left',bbox_to_anchor = (1.0, 0.5))\n",
    "ax2.legend(loc='center left',bbox_to_anchor = (1.0, 0.5))\n",
    "ax3.legend(loc='center left',bbox_to_anchor = (1.0, 0.5))\n",
    "ax4.legend(loc='center left',bbox_to_anchor = (1.0, 0.5))\n",
    "\n",
    "plt.tight_layout()\n",
    "if saveFigures:\n",
    "    fig.savefig('figs/PCRverificeredeAGtest_ConfusionMatrixExtraBetter')"
   ]
  },
  {
   "cell_type": "code",
   "execution_count": 33,
   "metadata": {},
   "outputs": [
    {
     "output_type": "display_data",
     "data": {
      "text/plain": "Canvas(toolbar=Toolbar(toolitems=[('Home', 'Reset original view', 'home', 'home'), ('Back', 'Back to previous …",
      "application/vnd.jupyter.widget-view+json": {
       "version_major": 2,
       "version_minor": 0,
       "model_id": "a0c113e5659f410e851711cecf9efdf9"
      }
     },
     "metadata": {}
    }
   ],
   "source": [
    "fig,(ax1,ax2) = plt.subplots(2,1,sharex=True)\n",
    "\n",
    "ax1.plot(da,N,label='Antal tests')\n",
    "# ax1.plot(df2.Dato,df2.AG_testede,label='Antal tests')\n",
    "\n",
    "ax2.plot(da,DOR,label='Diagnostic odds ratio')\n",
    "\n",
    "\n",
    "meanWidth = 7\n",
    "rmDa = rnTime(da,meanWidth)\n",
    "rmDOR = rnMean(DOR,meanWidth)\n",
    "ax2.plot(rmDa,rmDOR,'k--',label=str(meanWidth)+' dages løbende gennemsnit')\n",
    "\n",
    "ax1.plot(rmDa,rnMean(N,meanWidth),'k--',label=str(meanWidth)+' dages løbende gennemsnit')\n",
    "\n",
    "ax1.set_ylim(bottom=0)\n",
    "ax2.set_ylim([0,250])\n",
    "ax2.set_xlim([da.iloc[0],da.iloc[-1]])\n",
    "\n",
    "ax1.grid()\n",
    "ax2.grid()\n",
    "\n",
    "ax1.legend()\n",
    "ax2.legend()\n",
    "\n",
    "ax1.xaxis.set_major_formatter(mdates.DateFormatter('%d-%b\\n%Y'))\n",
    "plt.tight_layout()"
   ]
  },
  {
   "cell_type": "code",
   "execution_count": 34,
   "metadata": {},
   "outputs": [
    {
     "output_type": "display_data",
     "data": {
      "text/plain": "Canvas(toolbar=Toolbar(toolitems=[('Home', 'Reset original view', 'home', 'home'), ('Back', 'Back to previous …",
      "application/vnd.jupyter.widget-view+json": {
       "version_major": 2,
       "version_minor": 0,
       "model_id": "7441934e7fc8457e974d9daacc35a07b"
      }
     },
     "metadata": {}
    }
   ],
   "source": [
    "fig,(ax1,ax2) = plt.subplots(2,1,sharex=True)\n",
    "\n",
    "ax1.plot(df2.Dato,df2['Andel_AGpos_PCRkonf_pct'])\n",
    "ax2.plot(df2.Dato,df2['Andel_AGminusPCRkonf_pct'])\n",
    "\n",
    "lastDate = df2.iloc[-1].Dato\n",
    "# ax1.set_xlim([np.datetime64('2021-02-01'),today])\n",
    "ax1.set_xlim([np.datetime64('2021-02-01'),lastDate])\n",
    "\n",
    "ax1.xaxis.set_major_formatter(mdates.DateFormatter('%d-%b\\n%Y'))\n",
    "plt.tight_layout()"
   ]
  },
  {
   "cell_type": "code",
   "execution_count": 35,
   "metadata": {},
   "outputs": [],
   "source": [
    "# df2"
   ]
  },
  {
   "cell_type": "code",
   "execution_count": 36,
   "metadata": {},
   "outputs": [
    {
     "output_type": "display_data",
     "data": {
      "text/plain": "Canvas(toolbar=Toolbar(toolitems=[('Home', 'Reset original view', 'home', 'home'), ('Back', 'Back to previous …",
      "application/vnd.jupyter.widget-view+json": {
       "version_major": 2,
       "version_minor": 0,
       "model_id": "2d6d8e820130437eb0589597f58b0961"
      }
     },
     "metadata": {}
    }
   ],
   "source": [
    "# Test of various stuff\n",
    "\n",
    "fig,(ax1,ax2) = plt.subplots(2,1,sharex=True)\n",
    "\n",
    "\n",
    "# ax1.plot(df.Date,df.Tested)\n",
    "ax1.plot(df2.Dato,df2['AGnegPCRpos'],'k',label='AG neg, PCR pos')\n",
    "\n",
    "# ax1.plot(df2.Dato,df2.AG_testede,'k',label='AG neg, PCR pos')\n",
    "\n",
    "ax2.plot(df2.Dato,100*np.divide(df2['AGnegPCRpos'],df2['AG_testede']),'k',label='AG neg, PCR pos')\n",
    "# ax1.plot(df2.Dato,df2['AG_testede'],'--')\n",
    "# ax1.plot(df.Date,df.Tested,':')\n",
    "\n",
    "# curYlim = ax1.get_ylim()\n",
    "\n",
    "\n",
    "# sens = 0.99 # TPR\n",
    "# spec = 0.5 # TNR\n",
    "# fnr = 1 - sens \n",
    "# fpr = 1 - spec\n",
    "# ax1.plot(df.Date,fnr*df.Tested,label='Forventet antal falske negative')\n",
    "\n",
    "sensToShow = [0.99,0.995,0.998,0.999]\n",
    "sensToShow = [0.9975,0.998,0.9985,0.999,0.9995]\n",
    "\n",
    "for sens in sensToShow:\n",
    "    fnr = 1 - sens\n",
    "    # ax1.plot(df.Date,fnr*df.Tested,'--',label='Forventet antal falske negative, sensitivitet: '+str(sens))\n",
    "    # sensLabel = str(round(100*sens,2))\n",
    "    sensLabel = \"{:2.2f}\".format(100*sens)\n",
    "    # ax1.fill_between(df.Date,fnr*df.Tested,label='Forventet ved sensitivitet: '+sensLabel + ' %')\n",
    "    ax1.fill_between(df2.Dato,df2['AG_testede']*fnr,label='Forventet ved sensitivitet: '+sensLabel + ' %')\n",
    "\n",
    "    ax2.fill_between(df.Date,100*fnr*np.ones(df.Date.shape),label='Forventet ved sensitivitet: '+sensLabel+ ' %')\n",
    "\n",
    "    \n",
    "# ax2.plot(df2.Dato,100*np.divide(df2['AGnegPCRpos'],df2['AG_testede']),'k',label='__nolegend__')\n",
    "# ax1.plot(df2.Dato,df2['AGnegPCRpos'],'k',label='__nolegend__')\n",
    "\n",
    "# ax1.set_ylim([0,curYlim[1]])\n",
    "ax1.set_ylim(bottom=0)\n",
    "ax2.set_ylim([0,100*(1-sensToShow[0])])\n",
    "\n",
    "ax1.legend(loc='center left',bbox_to_anchor = (1.0, 0.5))\n",
    "ax2.legend(loc='center left',bbox_to_anchor = (1.0, 0.5))\n",
    "\n",
    "ax1.set_ylabel('Antal falsk negative tests')\n",
    "ax2.set_ylabel('Andel falsk negative tests [%]')\n",
    "\n",
    "lastDate = df.iloc[-1].Date\n",
    "ax1.set_xlim([np.datetime64('2021-02-01'),lastDate])\n",
    "ax1.xaxis.set_major_formatter(mdates.DateFormatter('%d-%b\\n%Y'))\n",
    "plt.tight_layout()\n",
    "\n",
    "\n",
    "if saveFigures:\n",
    "    fig.savefig('figs/FalskNegativeAG')"
   ]
  },
  {
   "source": [
    "# New (and correct) versions"
   ],
   "cell_type": "markdown",
   "metadata": {}
  },
  {
   "cell_type": "code",
   "execution_count": 37,
   "metadata": {},
   "outputs": [
    {
     "output_type": "display_data",
     "data": {
      "text/plain": "Canvas(toolbar=Toolbar(toolitems=[('Home', 'Reset original view', 'home', 'home'), ('Back', 'Back to previous …",
      "application/vnd.jupyter.widget-view+json": {
       "version_major": 2,
       "version_minor": 0,
       "model_id": "7a1e71c9b773473182212c8cac93e061"
      }
     },
     "metadata": {}
    }
   ],
   "source": [
    "# True Positive\n",
    "\n",
    "fig,(ax1,ax2) = plt.subplots(2,1,sharex=True)\n",
    "\n",
    "# ax1.plot(df2.Dato,df2['AGnegPCRpos'],'b',label='AG-, PCR+')\n",
    "ax1.plot(df2.Dato,df2['AGpos_PCRpos'],'b',label='AG+, PCR+')\n",
    "\n",
    "dataCondPos = df2['AGnegPCRpos'] + df2['AGpos_PCRpos']\n",
    "ax2.plot(df2.Dato,100*np.divide(df2['AGpos_PCRpos'],dataCondPos),'b',label='AG+, PCR+')\n",
    "# ax2.plot(df2.Dato,100*np.divide(df2['AGnegPCRpos'],dataCondPos),'b',label='AG-, PCR+')\n",
    "# ax2.plot(df2.Dato,100*np.divide(df2['AGnegPCRpos'],df2['AG_testede']),'k',label='AG-, PCR+')\n",
    "# ax1.plot(df2.Dato,df2['AG_testede'],'--')\n",
    "# ax1.plot(df.Date,df.Tested,':')\n",
    "\n",
    "# curYlim = ax1.get_ylim()\n",
    "\n",
    "# sensToShow = [0.99,0.995,0.998,0.999]\n",
    "# sensToShow = [0.9975,0.998,0.9985,0.999,0.9995]\n",
    "# sensToShow = [0.7,0.6,0.5,0.4,0.3]\n",
    "# sensToShow = np.arange(1,-0.1,-0.1)\n",
    "sensToShow = np.arange(0.8,0.29,-0.1)\n",
    "sensToShow = np.insert(sensToShow,0,1)\n",
    "# sensToShow = np.append(sensToShow,0)\n",
    "\n",
    "cmap = plt.cm.get_cmap('Greys',len(sensToShow)+1)\n",
    "for k in range(0,len(sensToShow)):\n",
    "    sens = sensToShow[k]\n",
    "# for sens in sensToShow:\n",
    "    # fnr = 1 - sens\n",
    "\n",
    "    # ax1.plot(df.Date,fnr*df.Tested,'--',label='Forventet antal falske negative, sensitivitet: '+str(sens))\n",
    "    # sensLabel = str(round(100*sens,2))\n",
    "    # sensLabel = \"{:2.2f}\".format(100*sens)\n",
    "    sensLabel = \"{:2.0f}\".format(100*sens)\n",
    "    # ax1.fill_between(df.Date,fnr*df.Tested,label='Forventet ved sensitivitet: '+sensLabel + ' %')\n",
    "    \n",
    "    # ax1.fill_between(df2.Dato,df2['AG_testede']*fnr,label='Forventet ved sensitivitet: '+sensLabel + ' %')\n",
    "    ax1.fill_between(df2.Dato,dataCondPos*sens,color=cmap(k+1),label='Sensitivity: '+sensLabel + ' %')\n",
    "\n",
    "    # ax2.fill_between(df.Date,100*fnr*np.ones(df.Date.shape),label='Forventet ved sensitivitet: '+sensLabel+ ' %')\n",
    "    ax2.fill_between(df.Date,100*sens*np.ones(df.Date.shape),color=cmap(k+1),label='Sensitivity: '+sensLabel+ ' %')\n",
    "\n",
    "    \n",
    "# ax2.plot(df2.Dato,100*np.divide(df2['AGnegPCRpos'],df2['AG_testede']),'k',label='__nolegend__')\n",
    "# ax1.plot(df2.Dato,df2['AGnegPCRpos'],'k',label='__nolegend__')\n",
    "\n",
    "# ax1.set_ylim([0,curYlim[1]])\n",
    "ax1.set_ylim(bottom=0)\n",
    "ax2.set_ylim([30,80])\n",
    "# ax2.set_ylim([0,100])\n",
    "# ax2.set_ylim([min(sensToShow)-0.1,max(sensToShow)+0.1])\n",
    "# ax2.set_ylim([0,100*(sensToShow[0])])\n",
    "\n",
    "ax1.legend(loc='center left',bbox_to_anchor = (1.0, 0.5))\n",
    "ax2.legend(loc='center left',bbox_to_anchor = (1.0, 0.5))\n",
    "\n",
    "ax1.set_ylabel('Count of true positive tests')\n",
    "ax2.set_ylabel('Out of all PCR positive tests [%]')\n",
    "\n",
    "lastDate = df.iloc[-1].Date\n",
    "ax1.set_xlim([np.datetime64('2021-02-01'),lastDate])\n",
    "ax1.xaxis.set_major_formatter(mdates.DateFormatter('%d-%b\\n%Y'))\n",
    "plt.tight_layout()\n",
    "\n",
    "\n",
    "if saveFigures:\n",
    "    fig.savefig('figs/AG_Sensitivity')"
   ]
  },
  {
   "cell_type": "code",
   "execution_count": 38,
   "metadata": {},
   "outputs": [
    {
     "output_type": "display_data",
     "data": {
      "text/plain": "Canvas(toolbar=Toolbar(toolitems=[('Home', 'Reset original view', 'home', 'home'), ('Back', 'Back to previous …",
      "application/vnd.jupyter.widget-view+json": {
       "version_major": 2,
       "version_minor": 0,
       "model_id": "2ff67f77e2be4cc29c112e219911ba16"
      }
     },
     "metadata": {}
    }
   ],
   "source": [
    "# False negative\n",
    "\n",
    "fig,(ax1,ax2) = plt.subplots(2,1,sharex=True)\n",
    "\n",
    "ax1.plot(df2.Dato,df2['AGnegPCRpos'],'b',label='AG-, PCR+')\n",
    "# ax1.plot(df2.Dato,df2['AGpos_PCRpos'],'b',label='AG+, PCR+')\n",
    "\n",
    "dataCondPos = df2['AGnegPCRpos'] + df2['AGpos_PCRpos']\n",
    "# ax2.plot(df2.Dato,100*np.divide(df2['AGpos_PCRpos'],dataCondPos),'b',label='AG+, PCR+')\n",
    "ax2.plot(df2.Dato,100*np.divide(df2['AGnegPCRpos'],dataCondPos),'b',label='AG-, PCR+')\n",
    "# ax2.plot(df2.Dato,100*np.divide(df2['AGnegPCRpos'],df2['AG_testede']),'k',label='AG-, PCR+')\n",
    "# ax1.plot(df2.Dato,df2['AG_testede'],'--')\n",
    "# ax1.plot(df.Date,df.Tested,':')\n",
    "\n",
    "# curYlim = ax1.get_ylim()\n",
    "\n",
    "# sensToShow = [0.99,0.995,0.998,0.999]\n",
    "# sensToShow = [0.9975,0.998,0.9985,0.999,0.9995]\n",
    "# sensToShow = [0.7,0.6,0.5,0.4,0.3]\n",
    "# sensToShow = np.arange(1,-0.1,-0.1)\n",
    "sensToShow = np.arange(0.8,0.29,-0.1)\n",
    "sensToShow = np.insert(sensToShow,0,1)\n",
    "# sensToShow = np.append(sensToShow,0)\n",
    "sensToShow = np.flip(sensToShow)\n",
    "\n",
    "sensToShow = np.arange(0.3,0.8,0.1)\n",
    "# sensToShow = np.append(sensToShow,0)\n",
    "\n",
    "cmap = plt.cm.get_cmap('Greys',len(sensToShow)+1)\n",
    "for k in range(0,len(sensToShow)):\n",
    "    sens = sensToShow[k]\n",
    "# for sens in sensToShow:\n",
    "    fnr = 1 - sens\n",
    "\n",
    "    sensLabel = \"{:2.0f}\".format(100*sens)\n",
    "    ax1.fill_between(df2.Dato,dataCondPos*fnr,color=cmap(k+1),label='Sensitivity: '+sensLabel + ' %')\n",
    "\n",
    "    ax2.fill_between(df.Date,100*fnr*np.ones(df.Date.shape),color=cmap(k+1),label='Sensitivity: '+sensLabel+ ' %')\n",
    "\n",
    "    \n",
    "# ax2.plot(df2.Dato,100*np.divide(df2['AGnegPCRpos'],df2['AG_testede']),'k',label='__nolegend__')\n",
    "# ax1.plot(df2.Dato,df2['AGnegPCRpos'],'k',label='__nolegend__')\n",
    "\n",
    "# ax1.set_ylim([0,curYlim[1]])\n",
    "ax1.set_ylim(bottom=0)\n",
    "ax2.set_ylim([20,70])\n",
    "# ax2.set_ylim([0,100])\n",
    "# ax2.set_ylim([min(sensToShow)-0.1,max(sensToShow)+0.1])\n",
    "# ax2.set_ylim([0,100*(sensToShow[0])])\n",
    "\n",
    "ax1.legend(loc='center left',bbox_to_anchor = (1.0, 0.5))\n",
    "ax2.legend(loc='center left',bbox_to_anchor = (1.0, 0.5))\n",
    "\n",
    "ax1.set_ylabel('Count of false negative tests')\n",
    "ax2.set_ylabel('Out of all PCR positive tests [%]')\n",
    "\n",
    "lastDate = df.iloc[-1].Date\n",
    "ax1.set_xlim([np.datetime64('2021-02-01'),lastDate])\n",
    "ax1.xaxis.set_major_formatter(mdates.DateFormatter('%d-%b\\n%Y'))\n",
    "plt.tight_layout()\n",
    "\n",
    "\n",
    "if saveFigures:\n",
    "    fig.savefig('figs/AG_FalseNegativeRate')"
   ]
  },
  {
   "cell_type": "code",
   "execution_count": 39,
   "metadata": {},
   "outputs": [
    {
     "output_type": "display_data",
     "data": {
      "text/plain": "Canvas(toolbar=Toolbar(toolitems=[('Home', 'Reset original view', 'home', 'home'), ('Back', 'Back to previous …",
      "application/vnd.jupyter.widget-view+json": {
       "version_major": 2,
       "version_minor": 0,
       "model_id": "3771441693354986a62de2b557d81073"
      }
     },
     "metadata": {}
    }
   ],
   "source": [
    "# False positive rate\n",
    "\n",
    "fig,(ax1,ax2) = plt.subplots(2,1,sharex=True)\n",
    "\n",
    "ax1.plot(df2.Dato,df2['AGposPCRneg'],'b',label='AG+, PCR-')\n",
    "# ax1.plot(df2.Dato,df2['AGpos_PCRpos'],'k',label='AG pos, PCR neg')\n",
    "\n",
    "dataCondNeg = df2['AGnegPCRneg'] + df2['AGposPCRneg']\n",
    "\n",
    "ax2.plot(df2.Dato,100*np.divide(df2['AGposPCRneg'],dataCondNeg),'b',label='AG+, PCR-')\n",
    "# ax2.plot(df2.Dato,100*np.divide(df2['AGposPCRneg'],df2['AG_testede']),'b',label='AG pos, PCR neg')\n",
    "# ax2.plot(df2.Dato,100*np.divide(df2['AGpos_PCRpos'],df2['AG_testede']),'k',label='AG pos, PCR pos')\n",
    "\n",
    "# specsToShow = [0.99,0.995,0.998,0.999]\n",
    "# specsToShow = [0.99,0.995,0.998,0.999]\n",
    "# specsToShow = [0.9975,0.998,0.9985,0.999,0.9995]\n",
    "# specsToShow = [0.997,0.9975,0.998,0.9985,0.999,0.9995]\n",
    "specsToShow = [1,0.995,0.99,0.985,0.98,0.975,0.97]\n",
    "specsToShow = [0.995,0.99,0.985,0.98,0.975,0.97,0.965]\n",
    "specsToShow.reverse()\n",
    "\n",
    "cmap = plt.cm.get_cmap('Greys',len(specsToShow))\n",
    "\n",
    "for k in range(0,len(specsToShow)):\n",
    "    spec = specsToShow[k]\n",
    "# for spec in specsToShow:\n",
    "    fpr = 1 - spec\n",
    "    specLabel = \"{:2.1f}\".format(100*spec)\n",
    "    # ax1.fill_between(df.Date,fpr*df.Tested,label='Forventet ved specificitet: '+specLabel + ' %')\n",
    "    ax1.fill_between(df2.Dato,dataCondNeg*fpr,color=cmap(k),label='Specificity: '+specLabel + ' %')\n",
    "    # ax1.fill_between(df2.Dato,df2['AG_testede']*fpr,color=cmap(k),label='Forventet ved specificitet: '+specLabel + ' %')\n",
    "    ax2.fill_between(df.Date,100*fpr*np.ones(df.Date.shape),color=cmap(k),label='Specificity: '+specLabel + ' %')\n",
    "\n",
    "    # ax1.fill_between(df2.Dato,df2['AG_testede']*spec,label='Forventet ved specificitet: '+specLabel + ' %')\n",
    "    # ax2.fill_between(df.Date,100*spec*np.ones(df.Date.shape),label='Forventet ved specificitet: '+specLabel + ' %')\n",
    "    \n",
    "# ax2.plot(df2.Dato,100*np.divide(df2['AGnegPCRpos'],df2['AG_testede']),'k',label='__nolegend__')\n",
    "# ax1.plot(df2.Dato,df2['AGnegPCRpos'],'k',label='__nolegend__')\n",
    "\n",
    "# ax1.set_ylim([0,curYlim[1]])\n",
    "ax1.set_ylim(bottom=0)\n",
    "ax2.set_ylim([0,100*(1-specsToShow[0])])\n",
    "\n",
    "ax1.legend(loc='center left',bbox_to_anchor = (1.0, 0.5))\n",
    "ax2.legend(loc='center left',bbox_to_anchor = (1.0, 0.5))\n",
    "\n",
    "ax1.set_ylabel('Count of false positive tests')\n",
    "ax2.set_ylabel('Out of all PCR negative tests [%]')\n",
    "\n",
    "\n",
    "lastDate = df.iloc[-1].Date\n",
    "ax1.set_xlim([np.datetime64('2021-02-01'),lastDate])\n",
    "ax1.xaxis.set_major_formatter(mdates.DateFormatter('%d-%b\\n%Y'))\n",
    "plt.tight_layout()\n",
    "if saveFigures:\n",
    "    fig.savefig('figs/AG_FalsePositiveRate')"
   ]
  },
  {
   "cell_type": "code",
   "execution_count": 40,
   "metadata": {},
   "outputs": [
    {
     "output_type": "display_data",
     "data": {
      "text/plain": "Canvas(toolbar=Toolbar(toolitems=[('Home', 'Reset original view', 'home', 'home'), ('Back', 'Back to previous …",
      "application/vnd.jupyter.widget-view+json": {
       "version_major": 2,
       "version_minor": 0,
       "model_id": "71ed813d0abb4635b9a92a6c6bdfde7d"
      }
     },
     "metadata": {}
    }
   ],
   "source": [
    "# Test of various stuff\n",
    "\n",
    "fig,(ax1,ax2) = plt.subplots(2,1,sharex=True)\n",
    "\n",
    "# ax1.plot(df2.Dato,df2['AGposPCRneg'],'k',label='AG pos, PCR neg')\n",
    "ax1.plot(df2.Dato,df2['AGnegPCRneg'],'b',label='AG-, PCR-')\n",
    "\n",
    "dataCondNeg = df2['AGnegPCRneg'] + df2['AGposPCRneg']\n",
    "\n",
    "# ax2.plot(df2.Dato,100*np.divide(df2['AGposPCRneg'],df2['AG_testede']),'k',label='AG pos, PCR neg')\n",
    "ax2.plot(df2.Dato,100*np.divide(df2['AGnegPCRneg'],dataCondNeg),'b',label='AG-, PCR-')\n",
    "\n",
    "# specsToShow = [0.99,0.995,0.998,0.999]\n",
    "# specsToShow = [0.99,0.995,0.998,0.999]\n",
    "# specsToShow = [0.9975,0.998,0.9985,0.999,0.9995]\n",
    "# specsToShow = [0.997,0.9975,0.998,0.9985,0.999,0.9995]\n",
    "specsToShow = [1,0.995,0.99,0.985,0.98,0.975,0.97]\n",
    "\n",
    "cmap = plt.cm.get_cmap('Greys',len(specsToShow))\n",
    "\n",
    "for k in range(0,len(specsToShow)):\n",
    "    spec = specsToShow[k]\n",
    "# for spec in specsToShow:\n",
    "    # fpr = 1 - spec\n",
    "    specLabel = \"{:3.1f}\".format(100*spec)\n",
    "\n",
    "    # curColor = (0,0,0) + (k/len(specsToShow))*(1,1,1)\n",
    "\n",
    "    # ax1.fill_between(df.Date,fpr*df.Tested,label='Forventet ved specificitet: '+specLabel + ' %')\n",
    "    # ax1.fill_between(df2.Dato,df2['AG_testede']*fpr,label='Forventet ved specificitet: '+specLabel + ' %')\n",
    "    # ax2.fill_between(df.Date,100*fpr*np.ones(df.Date.shape),label='Forventet ved specificitet: '+specLabel + ' %')\n",
    "\n",
    "    ax1.fill_between(df2.Dato,dataCondNeg*spec,color=cmap(k),label='Specificity: '+specLabel + ' %')\n",
    "    ax2.fill_between(df.Date,100*spec*np.ones(df.Date.shape),color=cmap(k),label='Specificity: '+specLabel + ' %')\n",
    "    \n",
    "# ax2.plot(df2.Dato,100*np.divide(df2['AGnegPCRpos'],df2['AG_testede']),'k',label='__nolegend__')\n",
    "# ax1.plot(df2.Dato,df2['AGnegPCRpos'],'k',label='__nolegend__')\n",
    "\n",
    "# ax1.set_ylim([0,curYlim[1]])\n",
    "ax1.set_ylim(bottom=0)\n",
    "# ax2.set_ylim([0,100*(1-specsToShow[0])])\n",
    "ax2.set_ylim(bottom=96.5,top=100)\n",
    "# ax2.set_ylim(top=100)\n",
    "\n",
    "ax1.legend(loc='center left',bbox_to_anchor = (1.0, 0.5))\n",
    "ax2.legend(loc='center left',bbox_to_anchor = (1.0, 0.5))\n",
    "\n",
    "ax1.set_ylabel('Count of true negative tests')\n",
    "ax2.set_ylabel('Out of all PCR negative tests [%]')\n",
    "\n",
    "lastDate = df.iloc[-1].Date\n",
    "ax1.set_xlim([np.datetime64('2021-02-01'),lastDate])\n",
    "ax1.xaxis.set_major_formatter(mdates.DateFormatter('%d-%b\\n%Y'))\n",
    "plt.tight_layout()\n",
    "if saveFigures:\n",
    "    fig.savefig('figs/AG_Specificity')"
   ]
  },
  {
   "cell_type": "code",
   "execution_count": 41,
   "metadata": {},
   "outputs": [
    {
     "output_type": "display_data",
     "data": {
      "text/plain": "Canvas(toolbar=Toolbar(toolitems=[('Home', 'Reset original view', 'home', 'home'), ('Back', 'Back to previous …",
      "application/vnd.jupyter.widget-view+json": {
       "version_major": 2,
       "version_minor": 0,
       "model_id": "a21c2cfe18d249949676591dfbdf30dc"
      }
     },
     "metadata": {}
    }
   ],
   "source": [
    "\n",
    "fig,(ax1,ax2) = plt.subplots(2,1,sharex=True)\n",
    "\n",
    "\n",
    "# ax1.plot(df2.Dato,df2['AGpos_PCRpos'],'b',label='AG+, PCR+')\n",
    "\n",
    "dataPredPos = df2['AGposPCRneg'] + df2['AGpos_PCRpos'] \n",
    "dataPredNeg = df2['AGnegPCRneg'] + df2['AGnegPCRpos'] \n",
    "posPredVal = np.divide(df2['AGpos_PCRpos'],dataPredPos)\n",
    "negPredVal = np.divide(df2['AGnegPCRneg'],dataPredNeg)\n",
    "\n",
    "ax1.plot(df2.Dato,100*posPredVal,'k.-',linewidth=0.25,label='Positive predictive value')\n",
    "ax1.plot(rnTime(df2.Dato,meanWidth),100*rnMean(posPredVal,meanWidth),'k',label='Positive predictive value')\n",
    "ax2.plot(df2.Dato,100*negPredVal,'k.-',linewidth=0.25,label='Negative predictive value')\n",
    "ax2.plot(rnTime(df2.Dato,meanWidth),100*rnMean(negPredVal,meanWidth),'k',label='Negative predictive value')\n",
    "\n",
    "ax1.set_ylim(bottom=0,top=100)\n",
    "ax2.set_ylim(bottom=97,top=100)\n",
    "\n",
    "ax1.grid()\n",
    "ax2.grid()\n",
    "\n",
    "# ax1.legend(loc='center left',bbox_to_anchor = (1.0, 0.5))\n",
    "# ax2.legend(loc='center left',bbox_to_anchor = (1.0, 0.5))\n",
    "\n",
    "ax1.set_ylabel('Positive predictive value')\n",
    "ax2.set_ylabel('Negative predictive value')\n",
    "\n",
    "lastDate = df.iloc[-1].Date\n",
    "ax1.set_xlim([np.datetime64('2021-02-01'),lastDate])\n",
    "ax1.xaxis.set_major_formatter(mdates.DateFormatter('%d-%b\\n%Y'))\n",
    "\n",
    "plt.tight_layout()\n",
    "if saveFigures:\n",
    "    plt.savefig('figs/AG_PositiveAndNegativePredictiveValue')"
   ]
  },
  {
   "cell_type": "code",
   "execution_count": 42,
   "metadata": {},
   "outputs": [],
   "source": [
    "# # Positive predictive value\n",
    "\n",
    "# fig,(ax1,ax2) = plt.subplots(2,1,sharex=True)\n",
    "\n",
    "\n",
    "# ax1.plot(df2.Dato,df2['AGpos_PCRpos'],'b',label='AG+, PCR+')\n",
    "\n",
    "# dataPredPos = df2['AGposPCRneg'] + df2['AGpos_PCRpos'] \n",
    "\n",
    "# # ax2.plot(df2.Dato,100*np.divide(df2['AGposPCRneg'],df2['AG_testede']),'k',label='AG pos, PCR neg')\n",
    "# ax2.plot(df2.Dato,100*np.divide(df2['AGpos_PCRpos'],dataPredPos),'b',label='AG+, PCR+')\n",
    "\n",
    "# # # specsToShow = [0.99,0.995,0.998,0.999]\n",
    "# # # specsToShow = [0.99,0.995,0.998,0.999]\n",
    "# # # specsToShow = [0.9975,0.998,0.9985,0.999,0.9995]\n",
    "# # # specsToShow = [0.997,0.9975,0.998,0.9985,0.999,0.9995]\n",
    "# # specsToShow = [1,0.995,0.99,0.985,0.98,0.975,0.97]\n",
    "\n",
    "# # cmap = plt.cm.get_cmap('Greys',len(specsToShow))\n",
    "\n",
    "# # for k in range(0,len(specsToShow)):\n",
    "# #     spec = specsToShow[k]\n",
    "# # # for spec in specsToShow:\n",
    "# #     # fpr = 1 - spec\n",
    "# #     specLabel = \"{:3.1f}\".format(100*spec)\n",
    "\n",
    "# #     # curColor = (0,0,0) + (k/len(specsToShow))*(1,1,1)\n",
    "\n",
    "# #     # ax1.fill_between(df.Date,fpr*df.Tested,label='Forventet ved specificitet: '+specLabel + ' %')\n",
    "# #     # ax1.fill_between(df2.Dato,df2['AG_testede']*fpr,label='Forventet ved specificitet: '+specLabel + ' %')\n",
    "# #     # ax2.fill_between(df.Date,100*fpr*np.ones(df.Date.shape),label='Forventet ved specificitet: '+specLabel + ' %')\n",
    "\n",
    "# #     ax1.fill_between(df2.Dato,dataCondNeg*spec,color=cmap(k),label='Specificity: '+specLabel + ' %')\n",
    "# #     ax2.fill_between(df.Date,100*spec*np.ones(df.Date.shape),color=cmap(k),label='Specificity: '+specLabel + ' %')\n",
    "    \n",
    "# # # ax2.plot(df2.Dato,100*np.divide(df2['AGnegPCRpos'],df2['AG_testede']),'k',label='__nolegend__')\n",
    "# # # ax1.plot(df2.Dato,df2['AGnegPCRpos'],'k',label='__nolegend__')\n",
    "\n",
    "# # ax1.set_ylim([0,curYlim[1]])\n",
    "# ax1.set_ylim(bottom=0)\n",
    "# # ax2.set_ylim([0,100*(1-specsToShow[0])])\n",
    "# # ax2.set_ylim(bottom=96.5,top=100)\n",
    "# # ax2.set_ylim(top=100)\n",
    "\n",
    "# ax1.legend(loc='center left',bbox_to_anchor = (1.0, 0.5))\n",
    "# ax2.legend(loc='center left',bbox_to_anchor = (1.0, 0.5))\n",
    "\n",
    "# ax1.set_ylabel('Count of true negative tests')\n",
    "# ax2.set_ylabel('Out of all PCR negative tests [%]')\n",
    "\n",
    "# lastDate = df.iloc[-1].Date\n",
    "# ax1.set_xlim([np.datetime64('2021-02-01'),lastDate])\n",
    "# ax1.xaxis.set_major_formatter(mdates.DateFormatter('%d-%b\\n%Y'))\n",
    "# plt.tight_layout()\n",
    "# if saveFigures:\n",
    "#     fig.savefig('figs/AG_Specificity')"
   ]
  },
  {
   "source": [
    "# Other stuff"
   ],
   "cell_type": "markdown",
   "metadata": {}
  },
  {
   "cell_type": "code",
   "execution_count": 43,
   "metadata": {},
   "outputs": [
    {
     "output_type": "display_data",
     "data": {
      "text/plain": "Canvas(toolbar=Toolbar(toolitems=[('Home', 'Reset original view', 'home', 'home'), ('Back', 'Back to previous …",
      "application/vnd.jupyter.widget-view+json": {
       "version_major": 2,
       "version_minor": 0,
       "model_id": "3fb443e45cc54a469082579411fcc2f3"
      }
     },
     "metadata": {}
    }
   ],
   "source": [
    "\n",
    "# fig,(ax1,ax2) = plt.subplots(2,1,sharex=True)\n",
    "fig,ax1 = plt.subplots(1,1)\n",
    "\n",
    "# ax1.plot(df.Date,df.Tested,'.')\n",
    "# ax1.plot(dfPCR.Date,dfPCR.Tested,'.')\n",
    "\n",
    "ax1.plot(dfPCR.Date,dfPCR.NewPositive * 1e5 / 5840000,'b.')\n",
    "beta = 0.55\n",
    "ax1.plot(dfPCR.Date,dfPCR.NewPositive * ((1e5/dfPCR.Tested)**beta) * 1e5 / 5840000,'r.')\n",
    "\n",
    "\n",
    "lastDate = df.iloc[-1].Date\n",
    "ax1.set_xlim([np.datetime64('2021-01-10'),lastDate])\n",
    "ax1.xaxis.set_major_formatter(mdates.DateFormatter('%d-%b\\n%Y'))\n",
    "ax1.set_ylim(bottom=0,top = 50)\n",
    "ax1.grid()\n",
    "plt.tight_layout()"
   ]
  },
  {
   "cell_type": "code",
   "execution_count": 44,
   "metadata": {},
   "outputs": [
    {
     "output_type": "display_data",
     "data": {
      "text/plain": "Canvas(toolbar=Toolbar(toolitems=[('Home', 'Reset original view', 'home', 'home'), ('Back', 'Back to previous …",
      "application/vnd.jupyter.widget-view+json": {
       "version_major": 2,
       "version_minor": 0,
       "model_id": "9dc4fdb08336442080091c782d76a148"
      }
     },
     "metadata": {}
    }
   ],
   "source": [
    "firstDate = np.datetime64('2021-02-10')\n",
    "# lastDate = today\n",
    "# lastDate = df2.iloc[-1,0]\n",
    "lastDate = np.datetime64(df2.iloc[-1,0]).astype('datetime64[D]')\n",
    "curInterval = np.arange(firstDate,lastDate)\n",
    "\n",
    "indexPCR = dfPCR.Date.isin(curInterval)\n",
    "indexAG  = df.Date.isin(curInterval)\n",
    "indexAG2 = df2.Dato.isin(curInterval)\n",
    "\n",
    "datePCR = dfPCR.Date[indexPCR]\n",
    "dateAG = df.Date[indexAG]\n",
    "dateAG2 = df2.Dato[indexAG2]\n",
    "\n",
    "testPCR = dfPCR.Tested[indexPCR].values\n",
    "testAG = df.Tested[indexAG].values\n",
    "testAG2 = df2.AG_testede[indexAG2].values\n",
    "\n",
    "\n",
    "posPCR = dfPCR.NewPositive[indexPCR].values\n",
    "posAG = df.NewPositive[indexAG].values\n",
    "posAG2 = df2.AG_pos[indexAG2].values\n",
    "\n",
    "posOnlyPCR = posPCR - posAG2\n",
    "testOnlyPCR = testPCR - posAG2 # Remove those who were only tested because of a positive AG test\n",
    "\n",
    "beta = 0.55\n",
    "inciPCR = posPCR * 1e5 / 5_840_000\n",
    "inciPCRNorm = inciPCR * ((1e5/testPCR)**beta) \n",
    "# inciPCRNorm = inciPCR * ((1e5/dfPCR.Tested[indexPCR])**beta) \n",
    "\n",
    "inciOnlyPCR = posOnlyPCR * 1e5 / 5_840_000\n",
    "inciOnlyPCRNorm = inciOnlyPCR * ((1e5/testOnlyPCR)**beta) \n",
    "\n",
    "\n",
    "posAGpos = df2.AGpos_PCRpos[indexAG2].values\n",
    "\n",
    "fig,(ax1,ax2) = plt.subplots(2,1,sharex=True)\n",
    "\n",
    "\n",
    "# ax1.plot(datePCR,5_840_000*inciPCR/1e5,'b.')\n",
    "# ax1.plot(datePCR,5_840_000*inciPCRNorm/1e5,'r.')\n",
    "ax1.plot(datePCR,inciPCR,'b.')\n",
    "ax1.plot(datePCR,inciPCRNorm,'r.')\n",
    "# ax1.plot(datePCR,inciOnlyPCR,'b*')\n",
    "# ax1.plot(datePCR,inciOnlyPCRNorm,'r*')\n",
    "\n",
    "# ax2.plot(dateAG,posAG)\n",
    "# ax2.plot(dateAG2,posAG2)\n",
    "# ax2.plot(datePCR,dfPCR.NewPositive[indexPCR])\n",
    "\n",
    "# ax2.plot(dateAG,np.divide(testAG,inciPCR),'b.')\n",
    "ax2.plot(dateAG,np.divide(np.multiply(testAG,inciPCR),1e5),'b.')\n",
    "# ax2.plot(dateAG,np.divide(np.multiply(testAG,inciOnlyPCR),1e5),'b*')\n",
    "# ax2.plot(dateAG,np.divide(np.multiply(testAG,inciPCRNorm),1e5),'r.')\n",
    "ax2.plot(dateAG2,posAGpos,'.')\n",
    "\n",
    "\n",
    "ax1.set_xlim([firstDate,lastDate])\n",
    "ax1.xaxis.set_major_formatter(mdates.DateFormatter('%d-%b\\n%Y'))\n",
    "ax1.set_ylim(bottom=0)\n",
    "ax2.set_ylim(bottom=0)\n",
    "\n",
    "ax1.grid()\n",
    "ax2.grid()\n",
    "plt.tight_layout()\n",
    "\n",
    "# plt.figure()\n",
    "# # plt.plot(df.Date,df.Tested,'.')\n",
    "# # plt.plot(df2.Dato,df2.AG_testede,'.')\n",
    "# plt.plot(df2.Dato,100 * np.divide(df2.AG_pos,df2.AG_testede),'.',label='AG positiv procent')\n",
    "# plt.show()"
   ]
  },
  {
   "cell_type": "code",
   "execution_count": 32,
   "metadata": {},
   "outputs": [],
   "source": [
    "# len(testAG)\n",
    "# len(inciPCR) \n",
    "\n",
    "# plt.figure()\n",
    "# plt.plot(dateAG2,testAG2*(10/1e5),'.')\n",
    "# plt.show()\n",
    "# lastDate = np.datetime64(df2.iloc[-1,0]).astype('datetime64[D]')"
   ]
  },
  {
   "cell_type": "code",
   "execution_count": null,
   "metadata": {},
   "outputs": [],
   "source": []
  }
 ]
}