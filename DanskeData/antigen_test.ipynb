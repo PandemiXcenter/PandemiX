{
 "metadata": {
  "language_info": {
   "codemirror_mode": {
    "name": "ipython",
    "version": 3
   },
   "file_extension": ".py",
   "mimetype": "text/x-python",
   "name": "python",
   "nbconvert_exporter": "python",
   "pygments_lexer": "ipython3",
   "version": "3.8.8"
  },
  "orig_nbformat": 2,
  "kernelspec": {
   "name": "python388jvsc74a57bd0c031fd63bd977d199cd6020c30a19695eacbb638d100e0b8a5ea53080ed74a9a",
   "display_name": "Python 3.8.8 64-bit ('main': conda)"
  }
 },
 "nbformat": 4,
 "nbformat_minor": 2,
 "cells": [
  {
   "cell_type": "code",
   "execution_count": 1,
   "metadata": {},
   "outputs": [
    {
     "output_type": "stream",
     "name": "stdout",
     "text": [
      "saveFigures is set to: True\nDone loading packages\n"
     ]
    }
   ],
   "source": [
    "# Notebook til at se på SSI's data for antigentests\n",
    "import numpy as np\n",
    "import pandas as pd\n",
    "pd.set_option('display.max_rows', 500)\n",
    "pd.set_option('display.min_rows', 50)\n",
    "\n",
    "\n",
    "import matplotlib.pyplot as plt\n",
    "%matplotlib widget\n",
    "plt.rcParams['figure.figsize'] = (12,8)\n",
    "plt.rcParams[\"image.cmap\"] = \"Dark2\"\n",
    "plt.rcParams['axes.prop_cycle'] = plt.cycler(color=plt.cm.Dark2.colors)\n",
    "plt.rcParams['lines.markersize'] = 10\n",
    "%matplotlib widget\n",
    "# plt.style.use('ggplot')\n",
    "import matplotlib.colors as colors\n",
    "# cmap = plt.cm.get_cmap('Dark2',len(ageGroups))\n",
    "from matplotlib import cm # Colormaps\n",
    "\n",
    "import locale\n",
    "import matplotlib.dates as mdates\n",
    "locale.setlocale(locale.LC_TIME,\"Danish\")\n",
    "# ax = plt.gca()\n",
    "# ax1.xaxis.set_major_formatter(mdates.DateFormatter('%b\\n%Y'))\n",
    "# # ax.xaxis.set_major_formatter(mdates.DateFormatter('%Y \\n %B'))\n",
    "\n",
    "import os\n",
    "# import csv\n",
    "import math\n",
    "\n",
    "\n",
    "from datetime import date\n",
    "\n",
    "\n",
    "saveFigures = True\n",
    "print('saveFigures is set to: '+str(saveFigures))\n",
    "\n",
    "print('Done loading packages')\n",
    "\n",
    "def rnMean(data,meanWidth):\n",
    "    return np.convolve(data, np.ones(meanWidth)/meanWidth, mode='valid')\n",
    "def rnTime(t,meanWidth):\n",
    "    return t[math.floor(meanWidth/2):-math.ceil(meanWidth/2)+1]\n"
   ]
  },
  {
   "cell_type": "code",
   "execution_count": 2,
   "metadata": {},
   "outputs": [
    {
     "output_type": "stream",
     "name": "stdout",
     "text": [
      "Make sure to run \"get_data\" first, so the most recent data is used\n"
     ]
    }
   ],
   "source": [
    "print('Make sure to run \"get_data\" first, so the most recent data is used')"
   ]
  },
  {
   "cell_type": "code",
   "execution_count": 3,
   "metadata": {},
   "outputs": [
    {
     "output_type": "stream",
     "name": "stdout",
     "text": [
      "d:\\Pandemix\\Github\\DanskeData/ssi_data\\SSI_data_2021-04-14\n2021-04-14 00:00:00\n"
     ]
    }
   ],
   "source": [
    "ssidatapath = \"ssi_data\"\n",
    "rootdir = os.getcwd() +\"/\" + ssidatapath\n",
    "\n",
    "\n",
    "for subdir, dirs, files in os.walk(rootdir):\n",
    "    if not len(files) == 0:\n",
    "        latestdir = subdir\n",
    "        latestDate = pd.to_datetime(subdir[-10:])\n",
    "\n",
    "print(latestdir)\n",
    "print(latestDate)"
   ]
  },
  {
   "cell_type": "code",
   "execution_count": 4,
   "metadata": {},
   "outputs": [],
   "source": [
    "# Load the data\n",
    "fulldfPCR = pd.read_csv(latestdir+'/Test_pos_over_time.csv',delimiter = ';',dtype=str)\n",
    "fulldf = pd.read_csv(latestdir+'/Test_pos_over_time_antigen.csv',delimiter = ';',dtype=str)\n",
    "\n",
    "# Cut out the last two rows of summary numbers\n",
    "dfPCR = fulldfPCR.iloc[:-2,:].copy()\n",
    "df = fulldf.iloc[:-2,:].copy()"
   ]
  },
  {
   "cell_type": "code",
   "execution_count": 5,
   "metadata": {},
   "outputs": [],
   "source": [
    "\n",
    "dfPCR[\"PosPct\"] = pd.to_numeric(dfPCR[\"PosPct\"].astype(str).apply(lambda x: x.replace(',','.')))\n",
    "dfPCR[\"Date\"] = dfPCR[\"Date\"].astype('datetime64[D]')\n",
    "df[\"PosPct\"] = pd.to_numeric(df[\"PosPct\"].astype(str).apply(lambda x: x.replace(',','.')))\n",
    "df[\"Date\"] = df[\"Date\"].astype('datetime64[D]')\n",
    "\n",
    "rows_to_fix_period_in = [\"NewPositive\",\"NotPrevPos\",\"PrevPos\",\"Tested\",\"Tested_kumulativ\"]\n",
    "for name in rows_to_fix_period_in:\n",
    "    df[name] = pd.to_numeric(df[name].astype(str).apply(lambda x: x.replace('.','')))\n",
    "    dfPCR[name] = pd.to_numeric(dfPCR[name].astype(str).apply(lambda x: x.replace('.','')))\n"
   ]
  },
  {
   "cell_type": "code",
   "execution_count": 6,
   "metadata": {},
   "outputs": [
    {
     "output_type": "display_data",
     "data": {
      "text/plain": "Canvas(toolbar=Toolbar(toolitems=[('Home', 'Reset original view', 'home', 'home'), ('Back', 'Back to previous …",
      "application/vnd.jupyter.widget-view+json": {
       "version_major": 2,
       "version_minor": 0,
       "model_id": "bc0dde8aba2b468da9af01cf17fb78c3"
      }
     },
     "metadata": {}
    }
   ],
   "source": [
    "# Plot different things\n",
    "firstDate = np.datetime64('2020-03-01') # All tests\n",
    "firstDate = np.datetime64('2021-02-01') # Antigen test\n",
    "today = date.today()\n",
    "\n",
    "# fig,ax1 = plt.subplots(1,1)\n",
    "fig,(ax1,ax2) = plt.subplots(2,1,sharex=True)\n",
    "\n",
    "ax1.plot(df.Date,df.NewPositive,label='Nye positive')\n",
    "# ax1.plot(df.Date,df.Tested)\n",
    "\n",
    "ax2.plot(df.Date,100*np.divide(df.NewPositive,df.Tested),label='Positiv procent')\n",
    "ax2.plot(df.Date,0.1*df.PosPct,label='Positiv procent (Afrundet)')\n",
    "\n",
    "ax1.set_ylim(bottom=0)\n",
    "ax2.set_ylim(bottom=0)\n",
    "\n",
    "ax1.set_xlim([firstDate,today])\n",
    "ax1.xaxis.set_major_formatter(mdates.DateFormatter('%b\\n%Y'))\n",
    "plt.tight_layout()"
   ]
  },
  {
   "source": [
    "# Figure to compare antigen positive procent with PCR"
   ],
   "cell_type": "markdown",
   "metadata": {}
  },
  {
   "cell_type": "code",
   "execution_count": 7,
   "metadata": {},
   "outputs": [
    {
     "output_type": "display_data",
     "data": {
      "text/plain": "Canvas(toolbar=Toolbar(toolitems=[('Home', 'Reset original view', 'home', 'home'), ('Back', 'Back to previous …",
      "application/vnd.jupyter.widget-view+json": {
       "version_major": 2,
       "version_minor": 0,
       "model_id": "92242e8242f9437db186b40f7fde6ea2"
      }
     },
     "metadata": {}
    }
   ],
   "source": [
    "# Plot different things\n",
    "firstDate = np.datetime64('2020-03-01') # All tests\n",
    "firstDate = np.datetime64('2021-02-01') # Antigen test\n",
    "today = date.today()\n",
    "\n",
    "# fig,ax1 = plt.subplots(1,1)\n",
    "# fig,(ax1,ax2) = plt.subplots(2,1,sharex=True)\n",
    "fig,(ax1,ax2,ax3) = plt.subplots(3,1,sharex=True)\n",
    "\n",
    "# ax1.plot(df.Date,df.NewPositive,label='Nye positive')\n",
    "ax1.plot(df.Date,df.Tested,label='Tested, antigen')\n",
    "ax1.plot(dfPCR.Date,dfPCR.Tested,label='Tested, PCR')\n",
    "\n",
    "ax2.plot(df.Date,df.NewPositive,label='New positive, antigen')\n",
    "ax2.plot(dfPCR.Date,dfPCR.NewPositive,label='New positive, PCR')\n",
    "\n",
    "posPctAG = 100*np.divide(df.NewPositive,df.Tested)\n",
    "posPctPCR = 100*np.divide(dfPCR.NewPositive,dfPCR.Tested)\n",
    "ax3.plot(df.Date,posPctAG,label='Positiv procent, antigen')\n",
    "ax3.plot(dfPCR.Date,posPctPCR,label='Positiv procent, PCR')\n",
    "# ax2.plot(df.Date,df.PosPct,label='Positiv procent (Afrundyet)')\n",
    "# ax2.plot(dfPCR.Date,0.1*dfPCR.PosPct,label='Positiv procet (Afrundet)')\n",
    "\n",
    "backToShow = -30\n",
    "\n",
    "ax1.set_ylim(bottom=0)\n",
    "ax2Top = np.max(dfPCR.NewPositive[backToShow:])*1.1\n",
    "ax2.set_ylim(bottom=0,top=ax2Top)\n",
    "ax3Top =np.max(posPctPCR[backToShow:])*1.1\n",
    "ax3.set_ylim(bottom=0,top=ax3Top)\n",
    "\n",
    "ax1.legend()\n",
    "ax2.legend()\n",
    "ax3.legend()\n",
    "\n",
    "ax1.grid()\n",
    "ax2.grid()\n",
    "ax3.grid()\n",
    "\n",
    "# ax1.set_xlim([firstDate,today])\n",
    "lastDate = df.iloc[-1].Date\n",
    "ax1.set_xlim([firstDate,lastDate])\n",
    "# ax1.set_xlim([firstDate,today-np.timedelta64(2,'D')])\n",
    "ax1.xaxis.set_major_formatter(mdates.DateFormatter('%d-%b\\n%Y'))\n",
    "\n",
    "plt.tight_layout()\n",
    "\n",
    "if saveFigures:\n",
    "    fig.savefig('figs/PosPctComparison')"
   ]
  },
  {
   "cell_type": "code",
   "execution_count": 8,
   "metadata": {},
   "outputs": [],
   "source": [
    "# df.NewPositive"
   ]
  },
  {
   "source": [
    "# Figures of the \"Antigentest_pr_dag.csv\" file"
   ],
   "cell_type": "markdown",
   "metadata": {}
  },
  {
   "cell_type": "code",
   "execution_count": 9,
   "metadata": {},
   "outputs": [],
   "source": [
    "# Load the data\n",
    "df2 = pd.read_csv(latestdir+'/Antigentests_pr_dag.csv',delimiter = ';')\n",
    "\n",
    "# # Remove the first two rows which are from april 2020\n",
    "# df2 = df2.iloc[2:,:].copy()"
   ]
  },
  {
   "cell_type": "code",
   "execution_count": 10,
   "metadata": {},
   "outputs": [],
   "source": [
    "df2[\"Dato\"] = df2[\"Dato\"].astype('datetime64[D]')"
   ]
  },
  {
   "cell_type": "code",
   "execution_count": 11,
   "metadata": {},
   "outputs": [
    {
     "output_type": "display_data",
     "data": {
      "text/plain": "Canvas(toolbar=Toolbar(toolitems=[('Home', 'Reset original view', 'home', 'home'), ('Back', 'Back to previous …",
      "application/vnd.jupyter.widget-view+json": {
       "version_major": 2,
       "version_minor": 0,
       "model_id": "0eec877caad94a359d93768574f02bcd"
      }
     },
     "metadata": {}
    }
   ],
   "source": [
    "# fig,(ax1,ax2,ax3) = plt.subplots(3,1,sharex=True)\n",
    "fig,(ax1,ax2,ax3,ax4) = plt.subplots(4,1,sharex=True)\n",
    "\n",
    "ax1.plot(df2.Dato,df2.AG_testede,label='AG tests')\n",
    "ax1.plot(dfPCR.Date,dfPCR.Tested,label='PCR tests')\n",
    "# ax1.plot(df2.Dato,df2.AG_pos)\n",
    "# ax1.plot(df2.Dato,100*np.divide(df2.AG_pos,df2.AG_testede),label='Andel af positive AG tests')\n",
    "\n",
    "# firstToShow = -75\n",
    "# ax1.plot(df.Date,posPctAG,label='Positiv procent, antigen')\n",
    "# ax1.plot(dfPCR.Date[firstToShow:],posPctPCR[firstToShow:],label='Positiv procent, PCR')\n",
    "\n",
    "\n",
    "unconf = df2['AGpos_minusPCRkonf']\n",
    "unconfAndPos = unconf+df2['AGpos_PCRpos']\n",
    "allAGPos = unconfAndPos+df2['AGposPCRneg']\n",
    "\n",
    "# ax2.plot(df2.Dato,df2['AGpos_minusPCRkonf'])\n",
    "# ax2.plot(df2.Dato,df2['AGpos_PCRpos'])\n",
    "# ax2.plot(df2.Dato,df2['AGposPCRneg'])\n",
    "\n",
    "# ax2.plot(df2.Dato,unconf)\n",
    "# ax2.plot(df2.Dato,unconfAndPos)\n",
    "# ax2.plot(df2.Dato,allAGPos)\n",
    "# ax2.plot(df2.Dato,df2.AG_pos)\n",
    "\n",
    "# ax2.plot(df2.Dato,np.divide(unconf,allAGPos),label='AG positiv, endnu ikke PCR testet')\n",
    "# ax2.plot(df2.Dato,np.divide(unconfAndPos,allAGPos),label='AG positiv, PCR positiv')\n",
    "# ax2.plot(df2.Dato,np.divide(allAGPos,allAGPos),label='AG positiv, PCR negativ')\n",
    "\n",
    "ax2.fill_between(df2.Dato,100 * np.ones(df2.Dato.shape),label='AG positiv, PCR negativ')\n",
    "ax2.fill_between(df2.Dato,100 * np.divide(unconfAndPos,allAGPos),label='AG positiv, PCR positiv')\n",
    "ax2.fill_between(df2.Dato,100 * np.divide(unconf,allAGPos),color='gray',label='AG positiv, endnu ikke PCR testet')\n",
    "\n",
    "allConf = df2.AGpos_PCRpos + df2.AGposPCRneg\n",
    "ax3.plot(df2.Dato,100 * np.divide(df2.AGposPCRneg,allConf),label='AG positiv, PCR negativ')\n",
    "# ax3.plot(df2.Dato,100 * np.divide(df2.AGpos_PCRpos,allConf),label='AG positiv, PCR positiv')\n",
    "\n",
    "\n",
    "# sumNeg = np.sum(df2.AGnegPCRpos.values,df2.AGnegPCRneg.values)\n",
    "sumNeg = df2.AGnegPCRneg.values + df2.AGnegPCRpos.values\n",
    "# ax3.fill_between(df2.Dato,100 * np.ones(df2.Dato.shape),label='AG negativ, PCR positiv')\n",
    "# ax3.fill_between(df2.Dato,100 * np.divide(df2.AGnegPCRneg,sumNeg),label='AG negativ, PCR negativ')\n",
    "# ax3.fill_between(df2.Dato,df2.AGnegPCRneg)\n",
    "\n",
    "\n",
    "# ax3.fill_between(df2.Dato,100 * np.ones(df2.Dato.shape),label='AG negativ, PCR negativ')\n",
    "# ax3.fill_between(df2.Dato,100 * np.divide(df2.AGnegPCRpos,sumNeg),label='AG negativ, PCR positiv')\n",
    "ax4.plot(df2.Dato,100 * np.divide(df2.AGnegPCRpos,sumNeg),label='AG negativ, PCR positiv')\n",
    "\n",
    "meanWidth = 7\n",
    "rmDate = rnTime(df2.Dato,meanWidth)\n",
    "rmNegPos = rnMean(np.divide(df2.AGnegPCRpos,sumNeg),meanWidth)\n",
    "ax4.plot(rmDate,100 * rmNegPos,'k:',label='7 dages løbende gennemsnit')\n",
    "\n",
    "\n",
    "# ax1.legend(loc='upper left')\n",
    "# ax2.legend(loc='upper left')\n",
    "ax1.legend(loc='center left',bbox_to_anchor = (1.0, 0.5))\n",
    "ax2.legend(loc='center left',bbox_to_anchor = (1.0, 0.5))\n",
    "ax3.legend(loc='center left',bbox_to_anchor = (1.0, 0.5))\n",
    "ax4.legend(loc='center left',bbox_to_anchor = (1.0, 0.5))\n",
    "ax1.set_ylim(bottom=0)\n",
    "ax2.set_ylim([0,100])\n",
    "ax3.set_ylim([0,100])\n",
    "ax4.set_ylim([0,100])\n",
    "# ax4.set_ylim([95,100])\n",
    "ax4.set_ylim([0,3])\n",
    "\n",
    "ax1.set_ylabel('Antal tests')\n",
    "ax2.set_ylabel('Andel af tests [%]')\n",
    "ax3.set_ylabel('Andel af PCR-\\nkonfirmede tests [%]')\n",
    "ax4.set_ylabel('Andel af tests [%]')\n",
    "# ax1.set_xlim([df2.iloc[0,0],df2.iloc[-1,0]])\n",
    "\n",
    "ax1.grid()\n",
    "# ax2.grid()\n",
    "ax3.grid()\n",
    "ax4.grid()\n",
    "\n",
    "lastDate = df2.iloc[-1].Dato\n",
    "# ax1.set_xlim([np.datetime64('2021-02-01'),today])\n",
    "ax1.set_xlim([np.datetime64('2021-02-01'),lastDate])\n",
    "\n",
    "ax1.xaxis.set_major_formatter(mdates.DateFormatter('%d-%b\\n%Y'))\n",
    "plt.tight_layout()\n",
    "\n",
    "if saveFigures:\n",
    "    fig.savefig('figs/AGprDagOpsummering')"
   ]
  },
  {
   "cell_type": "code",
   "execution_count": 12,
   "metadata": {},
   "outputs": [],
   "source": [
    "# df2"
   ]
  },
  {
   "cell_type": "code",
   "execution_count": 13,
   "metadata": {},
   "outputs": [
    {
     "output_type": "display_data",
     "data": {
      "text/plain": "Canvas(toolbar=Toolbar(toolitems=[('Home', 'Reset original view', 'home', 'home'), ('Back', 'Back to previous …",
      "application/vnd.jupyter.widget-view+json": {
       "version_major": 2,
       "version_minor": 0,
       "model_id": "a79e5884dbeb46edae6ce72149f5e7d4"
      }
     },
     "metadata": {}
    }
   ],
   "source": [
    "\n",
    "# fig,ax1 = plt.subplots(1,1)\n",
    "fig,(ax1,ax2) = plt.subplots(2,1,sharex=True)\n",
    "\n",
    "# ax1.plot(df2.Dato,df2['AGnegPCRpos'],label='AG neg, PCR pos')\n",
    "# ax1.plot(df2.Dato,df2['AGnegPCRneg'],label='AG neg, PCR neg')\n",
    "# ax1.plot(df2.Dato,1e5*np.divide(df2['AGnegPCRpos'],df2['AG_testede']),label='AG neg, PCR pos')\n",
    "# ax1.plot(df2.Dato,1e5*np.divide(df2['AGnegPCRneg'],df2['AG_testede']),label='AG neg, PCR neg')\n",
    "\n",
    "# ax1.fill_between(df2.Dato,100 * np.ones(df2.Dato.shape),label='AG positiv, PCR negativ')\n",
    "# ax1.fill_between(df2.Dato,100 * np.divide(unconfAndPos,allAGPos),label='AG positiv, PCR positiv')\n",
    "# ax1.fill_between(df2.Dato,100 * np.divide(unconf,allAGPos),color='gray',label='AG positiv, endnu ikke PCR testet')\n",
    "\n",
    "allConf = df2.AGpos_PCRpos + df2.AGposPCRneg\n",
    "# ax1.plot(df2.Dato,100 * np.divide(df2.AGpos_PCRpos,allConf),label='AG positiv, PCR positiv')\n",
    "ax1.fill_between(df2.Dato,100 * np.ones(df2.Dato.shape),color='xkcd:beige',label='AG positiv, PCR negativ')\n",
    "ax1.fill_between(df2.Dato,100 * np.divide(df2.AGpos_PCRpos,allConf),color='xkcd:sky blue',label='AG positiv, PCR positiv')\n",
    "\n",
    "\n",
    "totAGneg = df2['AGnegPCRpos'] + df2['AGnegPCRneg']\n",
    "# ax2.plot(df2.Dato,np.divide(df2['AGnegPCRpos'],totAGneg),label='AG neg, PCR pos')\n",
    "# ax2.plot(df2.Dato,100 * np.divide(df2['AGnegPCRneg'],totAGneg),label='AG negativ, PCR negativ')\n",
    "ax2.fill_between(df2.Dato,100 * np.ones(df2.Dato.shape),color='xkcd:beige',label='AG negativ, PCR positive')\n",
    "ax2.fill_between(df2.Dato,100 * np.divide(df2['AGnegPCRneg'],totAGneg),color='xkcd:sky blue',label='AG negativ, PCR negativ')\n",
    "\n",
    "## Running means\n",
    "meanWidth = 7\n",
    "rmDate = rnTime(df2.Dato,meanWidth)\n",
    "curPP = np.divide(df2.AGpos_PCRpos,allConf)\n",
    "curNN = np.divide(df2['AGnegPCRneg'],totAGneg)\n",
    "rmPP = rnMean(curPP,meanWidth)\n",
    "rmNN = rnMean(curNN,meanWidth)\n",
    "\n",
    "ax1.plot(rmDate,100 * rmPP,'k:',label=str(meanWidth) + ' dages gennemsnit')\n",
    "ax2.plot(rmDate,100 * rmNN,'k:',label=str(meanWidth) + ' dages gennemsnit')\n",
    "\n",
    "firstDateToUse = np.datetime64('2021-02-15')\n",
    "indexToUse = (df2.Dato > firstDateToUse)\n",
    "meanPP = np.mean(curPP[indexToUse])\n",
    "meanNN = np.mean(curNN[indexToUse])\n",
    "ax1.plot(df2.Dato[indexToUse],100 * np.ones(df2.Dato[indexToUse].shape) * meanPP,'g--',label='Gennemsnit fra '+str(firstDateToUse)+ ' og frem')\n",
    "ax2.plot(df2.Dato[indexToUse],100 * np.ones(df2.Dato[indexToUse].shape) * meanNN,'g--',label='Gennemsnit fra '+str(firstDateToUse)+ ' og frem')\n",
    "\n",
    "\n",
    "ax1.set_ylim([0,100])\n",
    "ax2.set_ylim([95,100])\n",
    "\n",
    "ax1.legend()\n",
    "ax2.legend()\n",
    "# ax1.grid()\n",
    "# ax2.grid()\n",
    "\n",
    "lastDate = df2.iloc[-1].Dato\n",
    "# ax1.set_xlim([np.datetime64('2021-02-01'),today])\n",
    "ax1.set_xlim([np.datetime64('2021-02-01'),lastDate])\n",
    "\n",
    "ax1.xaxis.set_major_formatter(mdates.DateFormatter('%d-%b\\n%Y'))\n",
    "plt.tight_layout()\n",
    "\n",
    "if saveFigures:\n",
    "    fig.savefig('figs/PCRverificeredeAGtest')"
   ]
  },
  {
   "cell_type": "code",
   "execution_count": 14,
   "metadata": {},
   "outputs": [],
   "source": [
    "# df2"
   ]
  },
  {
   "cell_type": "code",
   "execution_count": 15,
   "metadata": {},
   "outputs": [
    {
     "output_type": "display_data",
     "data": {
      "text/plain": "Canvas(toolbar=Toolbar(toolitems=[('Home', 'Reset original view', 'home', 'home'), ('Back', 'Back to previous …",
      "application/vnd.jupyter.widget-view+json": {
       "version_major": 2,
       "version_minor": 0,
       "model_id": "20b5fc1d14dd4513b7b6c3ce21e1d3ec"
      }
     },
     "metadata": {}
    }
   ],
   "source": [
    "# Test of various stuff\n",
    "\n",
    "fig,(ax1,ax2) = plt.subplots(2,1,sharex=True)\n",
    "\n",
    "\n",
    "# ax1.plot(df.Date,df.Tested)\n",
    "ax1.plot(df2.Dato,df2['AGnegPCRpos'],'k',label='AG neg, PCR pos')\n",
    "\n",
    "# ax1.plot(df2.Dato,df2.AG_testede,'k',label='AG neg, PCR pos')\n",
    "\n",
    "ax2.plot(df2.Dato,100*np.divide(df2['AGnegPCRpos'],df2['AG_testede']),'k',label='AG neg, PCR pos')\n",
    "# ax1.plot(df2.Dato,df2['AG_testede'],'--')\n",
    "# ax1.plot(df.Date,df.Tested,':')\n",
    "\n",
    "# curYlim = ax1.get_ylim()\n",
    "\n",
    "\n",
    "# sens = 0.99 # TPR\n",
    "# spec = 0.5 # TNR\n",
    "# fnr = 1 - sens \n",
    "# fpr = 1 - spec\n",
    "# ax1.plot(df.Date,fnr*df.Tested,label='Forventet antal falske negative')\n",
    "\n",
    "sensToShow = [0.99,0.995,0.998,0.999]\n",
    "sensToShow = [0.9975,0.998,0.9985,0.999,0.9995]\n",
    "\n",
    "for sens in sensToShow:\n",
    "    fnr = 1 - sens\n",
    "    # ax1.plot(df.Date,fnr*df.Tested,'--',label='Forventet antal falske negative, sensitivitet: '+str(sens))\n",
    "    # sensLabel = str(round(100*sens,2))\n",
    "    sensLabel = \"{:2.2f}\".format(100*sens)\n",
    "    # ax1.fill_between(df.Date,fnr*df.Tested,label='Forventet ved sensitivitet: '+sensLabel + ' %')\n",
    "    ax1.fill_between(df2.Dato,df2['AG_testede']*fnr,label='Forventet ved sensitivitet: '+sensLabel + ' %')\n",
    "\n",
    "    ax2.fill_between(df.Date,100*fnr*np.ones(df.Date.shape),label='Forventet ved sensitivitet: '+sensLabel+ ' %')\n",
    "\n",
    "    \n",
    "# ax2.plot(df2.Dato,100*np.divide(df2['AGnegPCRpos'],df2['AG_testede']),'k',label='__nolegend__')\n",
    "# ax1.plot(df2.Dato,df2['AGnegPCRpos'],'k',label='__nolegend__')\n",
    "\n",
    "# ax1.set_ylim([0,curYlim[1]])\n",
    "ax1.set_ylim(bottom=0)\n",
    "ax2.set_ylim([0,100*(1-sensToShow[0])])\n",
    "\n",
    "ax1.legend(loc='center left',bbox_to_anchor = (1.0, 0.5))\n",
    "ax2.legend(loc='center left',bbox_to_anchor = (1.0, 0.5))\n",
    "\n",
    "ax1.set_ylabel('Antal falsk negative tests')\n",
    "ax2.set_ylabel('Andel falsk negative tests [%]')\n",
    "\n",
    "lastDate = df.iloc[-1].Date\n",
    "ax1.set_xlim([np.datetime64('2021-02-01'),lastDate])\n",
    "ax1.xaxis.set_major_formatter(mdates.DateFormatter('%d-%b\\n%Y'))\n",
    "plt.tight_layout()\n",
    "\n",
    "\n",
    "if saveFigures:\n",
    "    fig.savefig('figs/FalskNegativeAG')"
   ]
  },
  {
   "cell_type": "code",
   "execution_count": 16,
   "metadata": {},
   "outputs": [
    {
     "output_type": "display_data",
     "data": {
      "text/plain": "Canvas(toolbar=Toolbar(toolitems=[('Home', 'Reset original view', 'home', 'home'), ('Back', 'Back to previous …",
      "application/vnd.jupyter.widget-view+json": {
       "version_major": 2,
       "version_minor": 0,
       "model_id": "f7dc0bf9ed844531b9f9cea5deb925cd"
      }
     },
     "metadata": {}
    }
   ],
   "source": [
    "# Test of various stuff\n",
    "\n",
    "fig,(ax1,ax2) = plt.subplots(2,1,sharex=True)\n",
    "\n",
    "ax1.plot(df2.Dato,df2['AGposPCRneg'],'k',label='AG pos, PCR neg')\n",
    "\n",
    "ax2.plot(df2.Dato,100*np.divide(df2['AGposPCRneg'],df2['AG_testede']),'k',label='AG pos, PCR neg')\n",
    "\n",
    "# specsToShow = [0.99,0.995,0.998,0.999]\n",
    "# specsToShow = [0.99,0.995,0.998,0.999]\n",
    "# specsToShow = [0.9975,0.998,0.9985,0.999,0.9995]\n",
    "specsToShow = [0.997,0.9975,0.998,0.9985,0.999,0.9995]\n",
    "\n",
    "for spec in specsToShow:\n",
    "    fpr = 1 - spec\n",
    "    specLabel = \"{:2.2f}\".format(100*spec)\n",
    "    # ax1.fill_between(df.Date,fpr*df.Tested,label='Forventet ved specificitet: '+specLabel + ' %')\n",
    "    ax1.fill_between(df2.Dato,df2['AG_testede']*fpr,label='Forventet ved specificitet: '+specLabel + ' %')\n",
    "\n",
    "    ax2.fill_between(df.Date,100*fpr*np.ones(df.Date.shape),label='Forventet ved specificitet: '+specLabel + ' %')\n",
    "    \n",
    "# ax2.plot(df2.Dato,100*np.divide(df2['AGnegPCRpos'],df2['AG_testede']),'k',label='__nolegend__')\n",
    "# ax1.plot(df2.Dato,df2['AGnegPCRpos'],'k',label='__nolegend__')\n",
    "\n",
    "# ax1.set_ylim([0,curYlim[1]])\n",
    "ax1.set_ylim(bottom=0)\n",
    "ax2.set_ylim([0,100*(1-specsToShow[0])])\n",
    "\n",
    "ax1.legend(loc='center left',bbox_to_anchor = (1.0, 0.5))\n",
    "ax2.legend(loc='center left',bbox_to_anchor = (1.0, 0.5))\n",
    "\n",
    "ax1.set_ylabel('Antal falsk positive tests')\n",
    "ax2.set_ylabel('Andel falsk positive tests [%]')\n",
    "\n",
    "lastDate = df.iloc[-1].Date\n",
    "ax1.set_xlim([np.datetime64('2021-02-01'),lastDate])\n",
    "ax1.xaxis.set_major_formatter(mdates.DateFormatter('%d-%b\\n%Y'))\n",
    "plt.tight_layout()\n",
    "if saveFigures:\n",
    "    fig.savefig('figs/FalskPositiveAG')"
   ]
  },
  {
   "cell_type": "code",
   "execution_count": null,
   "metadata": {},
   "outputs": [],
   "source": [
    "\n",
    "# fig,(ax1,ax2) = plt.subplots(2,1,sharex=True)\n",
    "fig,ax1 = plt.subplots(1,1)\n",
    "\n",
    "# ax1.plot(df.Date,df.Tested,'.')\n",
    "# ax1.plot(dfPCR.Date,dfPCR.Tested,'.')\n",
    "\n",
    "ax1.plot(dfPCR.Date,dfPCR.NewPositive * 1e5 / 5840000,'b.')\n",
    "beta = 0.55\n",
    "ax1.plot(dfPCR.Date,dfPCR.NewPositive * ((1e5/dfPCR.Tested)**beta) * 1e5 / 5840000,'r.')\n",
    "\n",
    "\n",
    "lastDate = df.iloc[-1].Date\n",
    "ax1.set_xlim([np.datetime64('2021-01-10'),lastDate])\n",
    "ax1.xaxis.set_major_formatter(mdates.DateFormatter('%d-%b\\n%Y'))\n",
    "ax1.set_ylim(bottom=0,top = 50)\n",
    "ax1.grid()\n",
    "plt.tight_layout()"
   ]
  },
  {
   "cell_type": "code",
   "execution_count": 31,
   "metadata": {},
   "outputs": [
    {
     "output_type": "display_data",
     "data": {
      "text/plain": "Canvas(toolbar=Toolbar(toolitems=[('Home', 'Reset original view', 'home', 'home'), ('Back', 'Back to previous …",
      "application/vnd.jupyter.widget-view+json": {
       "version_major": 2,
       "version_minor": 0,
       "model_id": "1251eb39b41f462fa1e96a2b5c93d54c"
      }
     },
     "metadata": {}
    }
   ],
   "source": [
    "firstDate = np.datetime64('2021-02-10')\n",
    "# lastDate = today\n",
    "# lastDate = df2.iloc[-1,0]\n",
    "lastDate = np.datetime64(df2.iloc[-1,0]).astype('datetime64[D]')\n",
    "curInterval = np.arange(firstDate,lastDate)\n",
    "\n",
    "indexPCR = dfPCR.Date.isin(curInterval)\n",
    "indexAG  = df.Date.isin(curInterval)\n",
    "indexAG2 = df2.Dato.isin(curInterval)\n",
    "\n",
    "datePCR = dfPCR.Date[indexPCR]\n",
    "dateAG = df.Date[indexAG]\n",
    "dateAG2 = df2.Dato[indexAG2]\n",
    "\n",
    "testPCR = dfPCR.Tested[indexPCR].values\n",
    "testAG = df.Tested[indexAG].values\n",
    "testAG2 = df2.AG_testede[indexAG2].values\n",
    "\n",
    "\n",
    "posPCR = dfPCR.NewPositive[indexPCR].values\n",
    "posAG = df.NewPositive[indexAG].values\n",
    "posAG2 = df2.AG_pos[indexAG2].values\n",
    "\n",
    "posOnlyPCR = posPCR - posAG2\n",
    "testOnlyPCR = testPCR - posAG2 # Remove those who were only tested because of a positive AG test\n",
    "\n",
    "beta = 0.55\n",
    "inciPCR = posPCR * 1e5 / 5_840_000\n",
    "inciPCRNorm = inciPCR * ((1e5/testPCR)**beta) \n",
    "# inciPCRNorm = inciPCR * ((1e5/dfPCR.Tested[indexPCR])**beta) \n",
    "\n",
    "inciOnlyPCR = posOnlyPCR * 1e5 / 5_840_000\n",
    "inciOnlyPCRNorm = inciOnlyPCR * ((1e5/testOnlyPCR)**beta) \n",
    "\n",
    "\n",
    "posAGpos = df2.AGpos_PCRpos[indexAG2].values\n",
    "\n",
    "fig,(ax1,ax2) = plt.subplots(2,1,sharex=True)\n",
    "\n",
    "\n",
    "# ax1.plot(datePCR,5_840_000*inciPCR/1e5,'b.')\n",
    "# ax1.plot(datePCR,5_840_000*inciPCRNorm/1e5,'r.')\n",
    "ax1.plot(datePCR,inciPCR,'b.')\n",
    "ax1.plot(datePCR,inciPCRNorm,'r.')\n",
    "# ax1.plot(datePCR,inciOnlyPCR,'b*')\n",
    "# ax1.plot(datePCR,inciOnlyPCRNorm,'r*')\n",
    "\n",
    "# ax2.plot(dateAG,posAG)\n",
    "# ax2.plot(dateAG2,posAG2)\n",
    "# ax2.plot(datePCR,dfPCR.NewPositive[indexPCR])\n",
    "\n",
    "# ax2.plot(dateAG,np.divide(testAG,inciPCR),'b.')\n",
    "ax2.plot(dateAG,np.divide(np.multiply(testAG,inciPCR),1e5),'b.')\n",
    "# ax2.plot(dateAG,np.divide(np.multiply(testAG,inciOnlyPCR),1e5),'b*')\n",
    "# ax2.plot(dateAG,np.divide(np.multiply(testAG,inciPCRNorm),1e5),'r.')\n",
    "ax2.plot(dateAG2,posAGpos,'.')\n",
    "\n",
    "\n",
    "ax1.set_xlim([firstDate,lastDate])\n",
    "ax1.xaxis.set_major_formatter(mdates.DateFormatter('%d-%b\\n%Y'))\n",
    "ax1.set_ylim(bottom=0)\n",
    "ax2.set_ylim(bottom=0)\n",
    "\n",
    "ax1.grid()\n",
    "ax2.grid()\n",
    "plt.tight_layout()\n",
    "\n",
    "# plt.figure()\n",
    "# # plt.plot(df.Date,df.Tested,'.')\n",
    "# # plt.plot(df2.Dato,df2.AG_testede,'.')\n",
    "# plt.plot(df2.Dato,100 * np.divide(df2.AG_pos,df2.AG_testede),'.',label='AG positiv procent')\n",
    "# plt.show()"
   ]
  },
  {
   "cell_type": "code",
   "execution_count": 30,
   "metadata": {},
   "outputs": [
    {
     "output_type": "execute_result",
     "data": {
      "text/plain": [
       "numpy.datetime64('2021-04-10')"
      ]
     },
     "metadata": {},
     "execution_count": 30
    }
   ],
   "source": [
    "# len(testAG)\n",
    "# len(inciPCR) \n",
    "\n",
    "# plt.figure()\n",
    "# plt.plot(dateAG2,testAG2*(10/1e5),'.')\n",
    "# plt.show()\n",
    "# lastDate = np.datetime64(df2.iloc[-1,0]).astype('datetime64[D]')"
   ]
  }
 ]
}