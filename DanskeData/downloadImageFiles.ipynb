{
 "metadata": {
  "language_info": {
   "codemirror_mode": {
    "name": "ipython",
    "version": 3
   },
   "file_extension": ".py",
   "mimetype": "text/x-python",
   "name": "python",
   "nbconvert_exporter": "python",
   "pygments_lexer": "ipython3",
   "version": "3.8.8"
  },
  "orig_nbformat": 2,
  "kernelspec": {
   "name": "python3",
   "display_name": "Python 3.8.8 64-bit ('main': conda)"
  },
  "interpreter": {
   "hash": "c031fd63bd977d199cd6020c30a19695eacbb638d100e0b8a5ea53080ed74a9a"
  }
 },
 "nbformat": 4,
 "nbformat_minor": 2,
 "cells": [
  {
   "cell_type": "code",
   "execution_count": 1,
   "source": [
    "import requests"
   ],
   "outputs": [],
   "metadata": {}
  },
  {
   "cell_type": "code",
   "execution_count": 2,
   "source": [
    "# https://covid19.ssi.dk/-/media/arkiv/dk/sygdomme-beredskab-og-forskning/sygdomsovervaagning/covid19/30_03_2021_2pas/tabel3_1.png"
   ],
   "outputs": [],
   "metadata": {}
  },
  {
   "cell_type": "code",
   "execution_count": 3,
   "source": [
    "# f = open('DeathsAgeDK/urls.txt','r')"
   ],
   "outputs": [],
   "metadata": {}
  },
  {
   "cell_type": "code",
   "execution_count": 4,
   "source": [
    "curPre = 'https://covid19.ssi.dk/-/media/arkiv/dk/sygdomme-beredskab-og-forskning/sygdomsovervaagning/covid19'\r\n",
    "curPost = 'tabel2_3.png'"
   ],
   "outputs": [],
   "metadata": {}
  },
  {
   "cell_type": "code",
   "execution_count": 5,
   "source": [
    "f = open('DeathsAgeDK/urls.txt','r')\r\n",
    "for x in f:\r\n",
    "    curLink = curPre+x[:-1]+curPost\r\n",
    "\r\n",
    "    r = requests.get(curLink)\r\n",
    "\r\n",
    "    ye = x[7:11]\r\n",
    "    mo = x[4:6]\r\n",
    "    da = x[1:3]\r\n",
    "\r\n",
    "    newPath = 'Admitted/'+ye+'_'+mo+'_'+da+'.png'\r\n",
    "    # print(newPath)\r\n",
    "    open(newPath,'wb').write(r.content)"
   ],
   "outputs": [],
   "metadata": {}
  },
  {
   "cell_type": "code",
   "execution_count": 6,
   "source": [
    "# Intensiv\r\n",
    "curPost = 'tabel2_4.png'\r\n",
    "f = open('DeathsAgeDK/urls.txt','r')\r\n",
    "for x in f:\r\n",
    "    curLink = curPre+x[:-1]+curPost\r\n",
    "\r\n",
    "    r = requests.get(curLink)\r\n",
    "\r\n",
    "    ye = x[7:11]\r\n",
    "    mo = x[4:6]\r\n",
    "    da = x[1:3]\r\n",
    "\r\n",
    "    newPath = 'Admitted/Intensiv_'+ye+'_'+mo+'_'+da+'.png'\r\n",
    "    # print(newPath)\r\n",
    "    open(newPath,'wb').write(r.content)"
   ],
   "outputs": [],
   "metadata": {}
  },
  {
   "cell_type": "code",
   "execution_count": 7,
   "source": [
    "# Deaths\r\n",
    "curPost = 'tabel3_1.png'\r\n",
    "f = open('DeathsAgeDK/urls.txt','r')\r\n",
    "for x in f:\r\n",
    "    curLink = curPre+x[:-1]+curPost\r\n",
    "\r\n",
    "    r = requests.get(curLink)\r\n",
    "\r\n",
    "    ye = x[7:11]\r\n",
    "    mo = x[4:6]\r\n",
    "    da = x[1:3]\r\n",
    "\r\n",
    "    newPath = 'DeathsAgeDK/'+ye+'_'+mo+'_'+da+'.png'\r\n",
    "    # print(newPath)\r\n",
    "    open(newPath,'wb').write(r.content)"
   ],
   "outputs": [],
   "metadata": {}
  },
  {
   "cell_type": "code",
   "execution_count": 8,
   "source": [
    "# Rt figures\r\n",
    "curPost = 'fig_12_1.png'\r\n",
    "f = open('DeathsAgeDK/urls.txt','r')\r\n",
    "for x in f:\r\n",
    "    curLink = curPre+x[:-1]+curPost\r\n",
    "\r\n",
    "    r = requests.get(curLink)\r\n",
    "\r\n",
    "    ye = x[7:11]\r\n",
    "    mo = x[4:6]\r\n",
    "    da = x[1:3]\r\n",
    "\r\n",
    "    newPath = 'RtFigs/'+ye+'_'+mo+'_'+da+'.png'\r\n",
    "    # print(newPath)\r\n",
    "    open(newPath,'wb').write(r.content)"
   ],
   "outputs": [],
   "metadata": {}
  },
  {
   "cell_type": "code",
   "execution_count": null,
   "source": [],
   "outputs": [],
   "metadata": {}
  }
 ]
}