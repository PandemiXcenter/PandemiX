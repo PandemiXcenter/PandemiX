{
 "metadata": {
  "language_info": {
   "codemirror_mode": {
    "name": "ipython",
    "version": 3
   },
   "file_extension": ".py",
   "mimetype": "text/x-python",
   "name": "python",
   "nbconvert_exporter": "python",
   "pygments_lexer": "ipython3",
   "version": "3.8.8"
  },
  "orig_nbformat": 2,
  "kernelspec": {
   "name": "python3",
   "display_name": "Python 3.8.8 64-bit ('main': conda)"
  },
  "interpreter": {
   "hash": "c031fd63bd977d199cd6020c30a19695eacbb638d100e0b8a5ea53080ed74a9a"
  }
 },
 "nbformat": 4,
 "nbformat_minor": 2,
 "cells": [
  {
   "cell_type": "code",
   "execution_count": 1,
   "metadata": {},
   "outputs": [],
   "source": [
    "import requests"
   ]
  },
  {
   "cell_type": "code",
   "execution_count": 2,
   "metadata": {},
   "outputs": [],
   "source": [
    "# https://covid19.ssi.dk/-/media/arkiv/dk/sygdomme-beredskab-og-forskning/sygdomsovervaagning/covid19/30_03_2021_2pas/tabel3_1.png"
   ]
  },
  {
   "cell_type": "code",
   "execution_count": 3,
   "metadata": {},
   "outputs": [],
   "source": [
    "# f = open('DeathsAgeDK/urls.txt','r')"
   ]
  },
  {
   "cell_type": "code",
   "execution_count": 4,
   "metadata": {},
   "outputs": [],
   "source": [
    "curPre = 'https://covid19.ssi.dk/-/media/arkiv/dk/sygdomme-beredskab-og-forskning/sygdomsovervaagning/covid19'\n",
    "curPost = 'tabel2_3.png'"
   ]
  },
  {
   "cell_type": "code",
   "execution_count": 5,
   "metadata": {},
   "outputs": [],
   "source": [
    "f = open('DeathsAgeDK/urls.txt','r')\n",
    "for x in f:\n",
    "    curLink = curPre+x[:-1]+curPost\n",
    "\n",
    "    r = requests.get(curLink)\n",
    "\n",
    "    ye = x[7:11]\n",
    "    mo = x[4:6]\n",
    "    da = x[1:3]\n",
    "\n",
    "    newPath = 'Admitted/'+ye+'_'+mo+'_'+da+'.png'\n",
    "    # print(newPath)\n",
    "    open(newPath,'wb').write(r.content)"
   ]
  },
  {
   "cell_type": "code",
   "execution_count": 6,
   "metadata": {},
   "outputs": [],
   "source": [
    "# Intensiv\n",
    "curPost = 'tabel2_4.png'\n",
    "f = open('DeathsAgeDK/urls.txt','r')\n",
    "for x in f:\n",
    "    curLink = curPre+x[:-1]+curPost\n",
    "\n",
    "    r = requests.get(curLink)\n",
    "\n",
    "    ye = x[7:11]\n",
    "    mo = x[4:6]\n",
    "    da = x[1:3]\n",
    "\n",
    "    newPath = 'Admitted/Intensiv_'+ye+'_'+mo+'_'+da+'.png'\n",
    "    # print(newPath)\n",
    "    open(newPath,'wb').write(r.content)"
   ]
  },
  {
   "cell_type": "code",
   "execution_count": 7,
   "metadata": {},
   "outputs": [],
   "source": [
    "# Deaths\n",
    "curPost = 'tabel3_1.png'\n",
    "f = open('DeathsAgeDK/urls.txt','r')\n",
    "for x in f:\n",
    "    curLink = curPre+x[:-1]+curPost\n",
    "\n",
    "    r = requests.get(curLink)\n",
    "\n",
    "    ye = x[7:11]\n",
    "    mo = x[4:6]\n",
    "    da = x[1:3]\n",
    "\n",
    "    newPath = 'DeathsAgeDK/'+ye+'_'+mo+'_'+da+'.png'\n",
    "    # print(newPath)\n",
    "    open(newPath,'wb').write(r.content)"
   ]
  },
  {
   "cell_type": "code",
   "execution_count": 8,
   "metadata": {},
   "outputs": [],
   "source": [
    "# Rt figures\n",
    "curPost = 'fig_12_1.png'\n",
    "f = open('DeathsAgeDK/urls.txt','r')\n",
    "for x in f:\n",
    "    curLink = curPre+x[:-1]+curPost\n",
    "\n",
    "    r = requests.get(curLink)\n",
    "\n",
    "    ye = x[7:11]\n",
    "    mo = x[4:6]\n",
    "    da = x[1:3]\n",
    "\n",
    "    newPath = 'RtFigs/'+ye+'_'+mo+'_'+da+'.png'\n",
    "    # print(newPath)\n",
    "    open(newPath,'wb').write(r.content)"
   ]
  },
  {
   "cell_type": "code",
   "execution_count": null,
   "metadata": {},
   "outputs": [],
   "source": []
  }
 ]
}