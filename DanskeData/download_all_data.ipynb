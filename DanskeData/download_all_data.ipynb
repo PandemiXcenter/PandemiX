{
 "metadata": {
  "language_info": {
   "codemirror_mode": {
    "name": "ipython",
    "version": 3
   },
   "file_extension": ".py",
   "mimetype": "text/x-python",
   "name": "python",
   "nbconvert_exporter": "python",
   "pygments_lexer": "ipython3",
   "version": "3.8.8"
  },
  "orig_nbformat": 2,
  "kernelspec": {
   "name": "python388jvsc74a57bd0c031fd63bd977d199cd6020c30a19695eacbb638d100e0b8a5ea53080ed74a9a",
   "display_name": "Python 3.8.8 64-bit ('main': conda)"
  }
 },
 "nbformat": 4,
 "nbformat_minor": 2,
 "cells": [
  {
   "cell_type": "code",
   "execution_count": 1,
   "metadata": {},
   "outputs": [],
   "source": [
    "# Notebook for downloading all data\n",
    "import matplotlib.pyplot as plt\n",
    "import matplotlib.dates as mdates\n",
    "import pandas as pd\n",
    "from pandas import ExcelWriter\n",
    "from pandas import ExcelFile\n",
    "import numpy as np\n",
    "import requests\n",
    "from bs4 import BeautifulSoup \n",
    "#import urllib.request\n",
    "import zipfile\n",
    "import io\n",
    "import os\n",
    "import datetime as dt\n",
    "# import pycountry as pc\n",
    "import math\n"
   ]
  },
  {
   "cell_type": "code",
   "execution_count": 2,
   "metadata": {},
   "outputs": [],
   "source": [
    "# Flag for whether all data should be updated, or only recent\n",
    "downloadAllData = False\n",
    "# downloadAllData = True"
   ]
  },
  {
   "cell_type": "code",
   "execution_count": 3,
   "metadata": {},
   "outputs": [
    {
     "output_type": "execute_result",
     "data": {
      "text/plain": [
       "1"
      ]
     },
     "metadata": {},
     "execution_count": 3
    }
   ],
   "source": [
    "# Make folders if they aren't already there\n",
    "os.system(\"mkdir ssi_dashboard_zipped\")\n",
    "os.system(\"mkdir ssi_dashboard\")\n",
    "os.system(\"mkdir ssi_vacc_zipped\")\n",
    "os.system(\"mkdir ssi_vacc\")\n",
    "os.system(\"mkdir ssi_data_zipped\")\n",
    "os.system(\"mkdir ssi_data\")"
   ]
  },
  {
   "cell_type": "code",
   "execution_count": 4,
   "metadata": {},
   "outputs": [],
   "source": [
    "# Define paths\n",
    "ssidatapath = \"ssi_data\"\n",
    "currootdir = os.getcwd() +\"/\" + ssidatapath"
   ]
  },
  {
   "cell_type": "code",
   "execution_count": 7,
   "metadata": {
    "tags": []
   },
   "outputs": [
    {
     "output_type": "stream",
     "name": "stdout",
     "text": [
      "SSI_data_2021-06-01\n2021-06-01\n"
     ]
    }
   ],
   "source": [
    "prevDownloads = os.listdir(currootdir)\n",
    "mostRecent = prevDownloads[-1]\n",
    "print(mostRecent)\n",
    "# curDate = np.datetime64(mostRecent[-2:] + '-' + mostRecent[-5:-3] + '-' + mostRecent[-10:-6])\n",
    "mostRecentDate = np.datetime64(mostRecent[-10:])\n",
    "mostRecentDate \n",
    "print(mostRecentDate)"
   ]
  },
  {
   "source": [
    "# SCRIPT NOT YET FINISHED!"
   ],
   "cell_type": "markdown",
   "metadata": {}
  },
  {
   "source": [
    "# Overvågningsdata"
   ],
   "cell_type": "markdown",
   "metadata": {}
  },
  {
   "cell_type": "code",
   "execution_count": 9,
   "metadata": {},
   "outputs": [
    {
     "output_type": "stream",
     "name": "stdout",
     "text": [
      "not a file; continues...\nnot a file; continues...\nhttps://files.ssi.dk/covid19/overvagning/data/overvaagningsdata-covid19-02062021-io98\n2021-06-02\nhttps://files.ssi.dk/covid19/overvagning/data/overvaagningsdata-covid19-01062021-fg22\nhttps://files.ssi.dk/covid19/overvagning/data/overvaagningsdata-covid19-31052021-vf81\nhttps://files.ssi.dk/covid19/overvagning/data/overvaagningsdata-covid19-28052021-9len\nhttps://files.ssi.dk/covid19/overvagning/data/overvaagningsdata-covid19-27052021-uh45\nhttps://files.ssi.dk/covid19/overvagning/data/overvaagningsdata-covid19-26052021-fdp7\nhttps://files.ssi.dk/covid19/overvagning/data/overvaagningsdata-covid19-25052021-fg11\nhttps://files.ssi.dk/covid19/overvagning/data/overvaagningsdata-covid19-21052021-vov8\nhttps://files.ssi.dk/covid19/overvagning/data/overvaagningsdata-covid19-20052021-ya82\nhttps://files.ssi.dk/covid19/overvagning/data/overvaagningsdata-covid19-19052021-ki90\nhttps://files.ssi.dk/covid19/overvagning/data/overvaagningsdata-covid19-18052021-fg45\nhttps://files.ssi.dk/covid19/overvagning/data/overvaagningsdata-covid19-17052021-hb41\nhttps://files.ssi.dk/covid19/overvagning/data/overvaagningsdata-covid19-14052021-vnah\nhttps://files.ssi.dk/covid19/overvagning/data/overvaagningsdata-covid19-12052021-tr45\nhttps://files.ssi.dk/covid19/overvagning/data/overvaagningsdata-covid19-11052021-f885\nhttps://files.ssi.dk/covid19/overvagning/data/overvaagningsdata-covid19-10052021-id97\nhttps://files.ssi.dk/covid19/overvagning/data/overvaagningsdata-covid19-07052021-7sov\nhttps://files.ssi.dk/covid19/overvagning/data/overvaagningsdata-covid19-06052021-93jm\nhttps://files.ssi.dk/covid19/overvagning/data/data-epidemiologiske-rapport-05052021-mai0\nhttps://files.ssi.dk/covid19/overvagning/data/overvaagningsdata-covid19-04052021-faa5\nhttps://files.ssi.dk/covid19/overvagning/data/overvaagningsdata-covid19-03052021-fv50\nhttps://files.ssi.dk/covid19/overvagning/data/overvaagningsdata-covid19-29042021-yk84\nhttps://files.ssi.dk/covid19/overvagning/data/overvaagningsdata-covid19-28042021-yt76\nhttps://files.ssi.dk/covid19/overvagning/data/overvaagningsdata-covid19-27042021-fff5\nhttps://files.ssi.dk/covid19/overvagning/data/overvaagningsdata-covid19-26042021-ga29\nhttps://files.ssi.dk/covid19/overvagning/data/overvaagningsdata-covid19-23042021-9ger\nhttps://files.ssi.dk/covid19/overvagning/data/overvaagningsdata-covid19-22042021-60kn\nhttps://files.ssi.dk/covid19/overvagning/data/overvaagningsdata-covid19-21042021-io59\nhttps://files.ssi.dk/covid19/overvagning/data/overvaagningsdata-covid19-20042021-bx30\nhttps://files.ssi.dk/covid19/overvagning/data/overvaagningsdata-covid19-19042021-naw4\nhttps://files.ssi.dk/covid19/overvagning/data/data-epidemiologiske-rapport-16042021-10uu\nhttps://files.ssi.dk/covid19/overvagning/data/data-epidemiologiske-rapport-15042021-6a2s\nhttps://files.ssi.dk/covid19/overvagning/data/data-epidemiologiske-rapport-14042021-23uu\nhttps://files.ssi.dk/covid19/overvagning/data/data-epidemiologisk-rapport-13042021-2tal\nhttps://files.ssi.dk/covid19/overvagning/data/data_epidemiologiske-rapport-12042021-ju76\nhttps://files.ssi.dk/covid19/overvagning/data/data-epidemiologiske-rapport-09042021-mo1n\nhttps://files.ssi.dk/covid19/overvagning/data/data-epidemiologiske-rapport-08042021-uu33\nhttps://files.ssi.dk/covid19/overvagning/data/data-epidemiologiske-rapport-07042021-mu34\nhttps://files.ssi.dk/covid19/overvagning/data/data-epidemiologiske-rapport-06042021-jken\nhttps://files.ssi.dk/covid19/overvagning/data/data-epidemiologiske-rapport-03042021-lih5\nhttps://files.ssi.dk/covid19/overvagning/data/data-epidemiologiske-rapport-31032021-md9j\nhttps://files.ssi.dk/covid19/overvagning/data/data-epidemiologiske-rapport-30032021-jb78\nhttps://files.ssi.dk/covid19/overvagning/data/data-epidemiologiske-rapport-29032021-lah6\nhttps://files.ssi.dk/covid19/overvagning/data/data-epidemiologiske-rapport-26032021-abc5\nhttps://files.ssi.dk/covid19/overvagning/data/data-epidemiologiske-rapport-25032021-0j8g\nhttps://files.ssi.dk/covid19/overvagning/data/data-epidemiologiske-rapport-24032021-h3s0-v2\nhttps://files.ssi.dk/covid19/overvagning/data/data-epidemiologiske-rapport-23032021-nj12\nhttps://files.ssi.dk/covid19/overvagning/data/data-epidemiologiske-rapport-22032021-hs39\nhttps://files.ssi.dk/covid19/overvagning/data/data-epidemiologiske-rapport-19032021-j3k4\nhttps://files.ssi.dk/covid19/overvagning/data/data-epidemiologiske-rapport-18032021-il4z\nhttps://files.ssi.dk/covid19/overvagning/data/data-epidemiologiske-rapport-17032021-i3v9\nhttps://files.ssi.dk/covid19/overvagning/data/data-epidemiologisk-rapport-16032021-2mat\nhttps://files.ssi.dk/covid19/overvagning/data/data-epidemiologiske-rapport-15032021-a7x2\nhttps://files.ssi.dk/covid19/overvagning/data/data-epidemiologiske-rapport-12032021-uh7y\nhttps://files.ssi.dk/covid19/overvagning/data/data-epidemiologiske-rapport-11032021-7ok9\nhttps://files.ssi.dk/covid19/overvagning/data/data-epidemiologiske-rapport-10032021-yb76\nhttps://files.ssi.dk/covid19/overvagning/data/data-epidemiologisk-rapport-09032021-3fod\nhttps://files.ssi.dk/covid19/overvagning/data/data-epidemiologiske-rapport-08032021-p9o8\nhttps://files.ssi.dk/covid19/overvagning/data/data-epidemiologiske-rapport-05032021-jhg6\nhttps://files.ssi.dk/covid19/overvagning/data/data-epidemiologiske-rapport-04032021-30bv\nhttps://files.ssi.dk/covid19/overvagning/data/data-epidemiologiske-rapport-03032021-0vi2-v2\nhttps://files.ssi.dk/covid19/overvagning/data/data-epidemiologisk-rapport-02032021-2bak\nhttps://files.ssi.dk/covid19/overvagning/data/data-epidemiologiske-rapport-01032021-m4m8\nhttps://files.ssi.dk/covid19/overvagning/data/data-epidemiologiske-rapport-26022021-f3y7\nhttps://files.ssi.dk/covid19/overvagning/data/data-epidemiologiske-rapport-25022021-1us0\nhttps://files.ssi.dk/covid19/overvagning/data/data-epidemiologiske-rapport-24022021-8z2l\nhttps://files.ssi.dk/covid19/overvagning/data/data-epidemiologiske-rapport-23022021-casd\nhttps://files.ssi.dk/covid19/overvagning/data/data-epidemiologisk-rapport-22022021-ynk3\nhttps://files.ssi.dk/covid19/overvagning/data/data-epidemiologiske-rapport-19022021-fre3\nhttps://files.ssi.dk/covid19/overvagning/data/data-epidemiologiske-rapport-18022021-y4s0\nhttps://files.ssi.dk/covid19/overvagning/data/data-epidemiologiske-rapport-17022021-8v2p\nhttps://files.ssi.dk/covid19/overvagning/data/data-epidemiologiske-rapport-16022021-ccxs\nhttps://files.ssi.dk/covid19/overvagning/data/data-epidemiologisk-rapport-15022021-hyp2\nhttps://files.ssi.dk/covid19/overvagning/data/data-epidemiologiske-rapport-12022021-rop9\nhttps://files.ssi.dk/covid19/overvagning/data/data-epidemiologiske-rapport-11022021-y9z2\nhttps://files.ssi.dk/covid19/overvagning/data/data-epidemiologiske-rapport-10022021-6a1k\nhttps://files.ssi.dk/covid19/overvagning/data/data-epidemiologisk-rapport-09022021-gys9\nhttps://files.ssi.dk/covid19/overvagning/data/data-epidemiologisk-rapport-08022021-dyt6\nhttps://files.ssi.dk/covid19/overvagning/data/data-epidemiologiske-rapport-05022021-sne3\nhttps://files.ssi.dk/covid19/overvagning/data/data-epidemiologiske-rapport-04022021-h1k6-v2\nhttps://files.ssi.dk/covid19/overvagning/data/data-epidemiologiske-rapport-03022021-3ws3\nhttps://files.ssi.dk/covid19/overvagning/data/data-epidemiologisk-rapport-02022021-byd8\nhttps://files.ssi.dk/covid19/overvagning/data/data-epidemiologiske-rapport-01022021-sky5\nhttps://files.ssi.dk/covid19/overvagning/data/data-epidemiologiske-rapport-29012021-g71m\nhttps://files.ssi.dk/covid19/overvagning/data/data-epidemiologisk-rapport-28012021-5mus_v2\nhttps://files.ssi.dk/covid19/overvagning/data/data-epidemiologiske-rapport-27012021-muj5\nhttps://files.ssi.dk/covid19/overvagning/data/data-epidemiologiske-rapport-26012021-zzxs\nhttps://files.ssi.dk/covid19/overvagning/data/data-epidemiologiske-rapport-25012021-ydr5\nhttps://files.ssi.dk/covid19/overvagning/data/data-epidemiologiske-rapport-22012021-12jk\nhttps://files.ssi.dk/covid19/overvagning/data/data-epidemiologisk-rapport-21012021-joe1\nhttps://files.ssi.dk/covid19/overvagning/data/data-epidemiologiske-rapport-20012021-ty54\nhttps://files.ssi.dk/covid19/overvagning/data/data-epidemiologisk-rapport-19012021-aha4\nhttps://files.ssi.dk/covid19/overvagning/data/data-epidemiologiske-rapport-18012021-po64\nhttps://files.ssi.dk/covid19/overvagning/data/data-epidemiologiske-rapport-15012021-21jg\nhttps://files.ssi.dk/covid19/overvagning/data/data-epidemiologiske-rapport-13012021-dq71\nhttps://files.ssi.dk/covid19/overvagning/data/data-epidemiologiske-rapport-12012021-rsss\nhttps://files.ssi.dk/covid19/overvagning/data/data-epidemiologiske-rapport-11012021-w7f9\nhttps://files.ssi.dk/covid19/overvagning/data/data-epidemiologiske-rapport-08012021-re92\nhttps://files.ssi.dk/covid19/overvagning/data/data-epidemiologisk-rapport-07012021-sol8\nhttps://files.ssi.dk/covid19/overvagning/data/data-epidemiologiske-rapport-06012021-81ut\nhttps://files.ssi.dk/covid19/overvagning/data/data-epidemiologiske-rapport-05012021-rtga\nhttps://files.ssi.dk/covid19/overvagning/data/data-epidemiologiske-rapport-04012021-ja21\nhttps://files.ssi.dk/covid19/overvagning/data/data-epidemiologiske-rapport-02012021-cp29\n2021 not found in link; continues...\n2021 not found in link; continues...\n2021 not found in link; continues...\n2021 not found in link; continues...\n2021 not found in link; continues...\n2021 not found in link; continues...\n2021 not found in link; continues...\n2021 not found in link; continues...\n2021 not found in link; continues...\n2021 not found in link; continues...\n2021 not found in link; continues...\n2021 not found in link; continues...\n2021 not found in link; continues...\n2021 not found in link; continues...\n2021 not found in link; continues...\n2021 not found in link; continues...\n2021 not found in link; continues...\n2021 not found in link; continues...\n2021 not found in link; continues...\n2021 not found in link; continues...\n2021 not found in link; continues...\n2021 not found in link; continues...\n2021 not found in link; continues...\n2021 not found in link; continues...\n2021 not found in link; continues...\n2021 not found in link; continues...\n2021 not found in link; continues...\n2021 not found in link; continues...\n2021 not found in link; continues...\n2021 not found in link; continues...\n2021 not found in link; continues...\n2021 not found in link; continues...\n2021 not found in link; continues...\n2021 not found in link; continues...\n2021 not found in link; continues...\n2021 not found in link; continues...\n2021 not found in link; continues...\n2021 not found in link; continues...\n2021 not found in link; continues...\n2021 not found in link; continues...\n2021 not found in link; continues...\n2021 not found in link; continues...\n2021 not found in link; continues...\n2021 not found in link; continues...\n2021 not found in link; continues...\n2021 not found in link; continues...\n2021 not found in link; continues...\n2021 not found in link; continues...\n2021 not found in link; continues...\n2021 not found in link; continues...\n2021 not found in link; continues...\n2021 not found in link; continues...\n2021 not found in link; continues...\n2021 not found in link; continues...\n2021 not found in link; continues...\n2021 not found in link; continues...\n2021 not found in link; continues...\n2021 not found in link; continues...\n2021 not found in link; continues...\n2021 not found in link; continues...\n2021 not found in link; continues...\n2021 not found in link; continues...\n2021 not found in link; continues...\n2021 not found in link; continues...\n2021 not found in link; continues...\n2021 not found in link; continues...\n2021 not found in link; continues...\n2021 not found in link; continues...\n2021 not found in link; continues...\n2021 not found in link; continues...\n2021 not found in link; continues...\n2021 not found in link; continues...\n2021 not found in link; continues...\n2021 not found in link; continues...\n2021 not found in link; continues...\n2021 not found in link; continues...\n2021 not found in link; continues...\n2021 not found in link; continues...\n2021 not found in link; continues...\n2021 not found in link; continues...\n2021 not found in link; continues...\n2021 not found in link; continues...\n2021 not found in link; continues...\n2021 not found in link; continues...\n2021 not found in link; continues...\n2021 not found in link; continues...\n2021 not found in link; continues...\n2021 not found in link; continues...\n2021 not found in link; continues...\n2021 not found in link; continues...\n2021 not found in link; continues...\n2021 not found in link; continues...\n2021 not found in link; continues...\n2021 not found in link; continues...\n2021 not found in link; continues...\n2021 not found in link; continues...\n2021 not found in link; continues...\n2021 not found in link; continues...\n2021 not found in link; continues...\n2021 not found in link; continues...\n2021 not found in link; continues...\n2021 not found in link; continues...\n2021 not found in link; continues...\n2021 not found in link; continues...\n2021 not found in link; continues...\n2021 not found in link; continues...\n2021 not found in link; continues...\n2021 not found in link; continues...\n2021 not found in link; continues...\n2021 not found in link; continues...\n2021 not found in link; continues...\n2021 not found in link; continues...\n2021 not found in link; continues...\n2021 not found in link; continues...\n2021 not found in link; continues...\n2021 not found in link; continues...\n2021 not found in link; continues...\n2021 not found in link; continues...\n2021 not found in link; continues...\n2021 not found in link; continues...\n2021 not found in link; continues...\n2021 not found in link; continues...\n2021 not found in link; continues...\n2021 not found in link; continues...\n2021 not found in link; continues...\n2021 not found in link; continues...\n2021 not found in link; continues...\n2021 not found in link; continues...\n2021 not found in link; continues...\n2021 not found in link; continues...\n2021 not found in link; continues...\n2021 not found in link; continues...\n2021 not found in link; continues...\n2021 not found in link; continues...\n2021 not found in link; continues...\n2021 not found in link; continues...\n2021 not found in link; continues...\n2021 not found in link; continues...\n2021 not found in link; continues...\n2021 not found in link; continues...\n2021 not found in link; continues...\n2021 not found in link; continues...\n2021 not found in link; continues...\n2021 not found in link; continues...\n2021 not found in link; continues...\n2021 not found in link; continues...\n2021 not found in link; continues...\n2021 not found in link; continues...\n2021 not found in link; continues...\n2021 not found in link; continues...\n2021 not found in link; continues...\n2021 not found in link; continues...\n2021 not found in link; continues...\n2021 not found in link; continues...\n2021 not found in link; continues...\n2021 not found in link; continues...\n2021 not found in link; continues...\n2021 not found in link; continues...\n2021 not found in link; continues...\n2021 not found in link; continues...\n2021 not found in link; continues...\n2021 not found in link; continues...\n2021 not found in link; continues...\n2021 not found in link; continues...\n2021 not found in link; continues...\n2021 not found in link; continues...\n2021 not found in link; continues...\n2021 not found in link; continues...\n2021 not found in link; continues...\n2021 not found in link; continues...\nnot a file; continues...\nnot a file; continues...\nnot a file; continues...\n"
     ]
    }
   ],
   "source": [
    "get_data = True\n",
    "ssidatapath = \"ssi_data\"\n",
    "rootdir = os.getcwd() +\"/\" + ssidatapath\n",
    "\n",
    "def download_url(url, save_path, chunk_size=128):\n",
    "    r = requests.get(url, stream=True)\n",
    "    with open(save_path, 'wb') as fd:\n",
    "        for chunk in r.iter_content(chunk_size=chunk_size):\n",
    "            fd.write(chunk)\n",
    "\n",
    "url = \"https://covid19.ssi.dk/overvagningsdata/download-fil-med-overvaagningdata\"\n",
    "page = requests.get(url)\n",
    "soup = BeautifulSoup(page.content, 'html.parser')\n",
    "links = soup.find_all(\"a\", string=lambda text: \"data\" in str(text).lower())\n",
    "\n",
    "check_str = \"<a href=\\\"https://files.ssi\"\n",
    "for link in links[3:]: \n",
    "    # print('---')\n",
    "    #print(link)\n",
    "    if str(link)[:len(check_str)]!=check_str:\n",
    "        print(\"not a file; continues...\")\n",
    "        continue\n",
    "    # print(link)\n",
    "    file = link[\"href\"]\n",
    "    yearPos = file.find('2021')\n",
    "    \n",
    "    if yearPos == -1:\n",
    "        print(\"2021 not found in link; continues...\")\n",
    "        continue\n",
    "\n",
    "    curDate = file[yearPos:yearPos+4] + '-' + file[yearPos-2:yearPos] + '-' + file[yearPos-4:yearPos-2] \n",
    "    \n",
    "    # print(file)\n",
    "    \n",
    "    # Only download new data\n",
    "    curDatetime = np.datetime64(curDate)\n",
    "    if (curDatetime > mostRecentDate):\n",
    "        print(curDatetime)\n",
    "\n",
    "        filename = \"SSI_data_\" + curDate\n",
    "        zipped_save_path = ssidatapath + \"_zipped/\" + filename + \".zip\"\n",
    "        extracted_save_path = ssidatapath + \"/\" + filename\n",
    "\n",
    "        \n",
    "        try:\n",
    "            download_url(file, zipped_save_path)\n",
    "            with zipfile.ZipFile(zipped_save_path, 'r') as zipObj:\n",
    "                zipObj.extractall(extracted_save_path)\n",
    "        except: \n",
    "            print(file)"
   ]
  },
  {
   "source": [
    "# Vaccinedata"
   ],
   "cell_type": "markdown",
   "metadata": {}
  },
  {
   "cell_type": "code",
   "execution_count": 10,
   "metadata": {},
   "outputs": [
    {
     "output_type": "stream",
     "name": "stdout",
     "text": [
      "not a file; continues...\n",
      "not a file; continues...\n",
      "2021-06-02\n",
      "not a file; continues...\n",
      "not a file; continues...\n",
      "not a file; continues...\n"
     ]
    }
   ],
   "source": [
    "get_data = True\n",
    "ssivaccpath = \"ssi_vacc\"\n",
    "rootdir = os.getcwd() +\"/\" + ssivaccpath\n",
    "\n",
    "def download_url(url, save_path, chunk_size=128):\n",
    "    r = requests.get(url, stream=True)\n",
    "    with open(save_path, 'wb') as fd:\n",
    "        for chunk in r.iter_content(chunk_size=chunk_size):\n",
    "            fd.write(chunk)\n",
    "\n",
    "# def get_all_data():\n",
    "url = \"https://covid19.ssi.dk/overvagningsdata/download-fil-med-vaccinationsdata\"\n",
    "page = requests.get(url)\n",
    "soup = BeautifulSoup(page.content, 'html.parser')\n",
    "links = soup.find_all(\"a\", string=lambda text: \"data\" in str(text).lower())\n",
    "# print(links)\n",
    "check_str = \"<a href=\\\"https://files.ssi\"\n",
    "for link in links[3:]: \n",
    "    # print('---')\n",
    "    #print(link)\n",
    "    if str(link)[:len(check_str)]!=check_str:\n",
    "        print(\"not a file; continues...\")\n",
    "        continue\n",
    "    # print(link)\n",
    "    file = link[\"href\"]\n",
    "    yearPos = file.find('2021')\n",
    "    \n",
    "    if yearPos == -1:\n",
    "        print(\"2021 not found in link; continues...\")\n",
    "        continue\n",
    "    # print(yearPos)\n",
    "    # print(file[yearPos-4:yearPos+4])\n",
    "    curDate = file[yearPos:yearPos+4] + '-' + file[yearPos-2:yearPos] + '-' + file[yearPos-4:yearPos-2] \n",
    "\n",
    "\n",
    "    # Only download new data\n",
    "    curDatetime = np.datetime64(curDate)\n",
    "    if (curDatetime > mostRecentDate):\n",
    "        print(curDatetime)\n",
    "\n",
    "\n",
    "        filename = \"SSI_vacc_\" + curDate\n",
    "        zipped_save_path = ssivaccpath + \"_zipped/\" + filename + \".zip\"\n",
    "        extracted_save_path = ssivaccpath + \"/\" + filename\n",
    "        \n",
    "        try:\n",
    "            download_url(file, zipped_save_path)\n",
    "            with zipfile.ZipFile(zipped_save_path, 'r') as zipObj:\n",
    "                zipObj.extractall(extracted_save_path)\n",
    "        except: \n",
    "            print(file)"
   ]
  },
  {
   "source": [
    "# Dashboard data"
   ],
   "cell_type": "markdown",
   "metadata": {}
  },
  {
   "cell_type": "code",
   "execution_count": 11,
   "metadata": {
    "tags": []
   },
   "outputs": [
    {
     "output_type": "stream",
     "name": "stdout",
     "text": [
      "02062021\n",
      "2021-06-02\n",
      "01062021\n",
      "31052021\n",
      "28052021\n",
      "27052021\n",
      "26052021\n",
      "25052021\n",
      "21052021\n",
      "20052021\n",
      "19052021\n",
      "18052021\n",
      "17052021\n",
      "14052021\n",
      "12052021\n",
      "11052021\n",
      "10052021\n",
      "07052021\n",
      "06052021\n",
      "05052021\n",
      "04052021\n",
      "03052021\n",
      "29042021\n",
      "28042021\n",
      "27042021\n",
      "26042021\n",
      "23042021\n",
      "22042021\n",
      "21042021\n",
      "20042021\n",
      "19042021\n",
      "16042021\n",
      "15042021\n",
      "14042021\n",
      "13042021\n",
      "12042021\n",
      "09042021\n",
      "08042021\n",
      "07042021\n",
      "06042021\n",
      "03042021\n",
      "31032021\n",
      "30032021\n",
      "29032021\n",
      "26032021\n",
      "25032021\n",
      "24032021\n",
      "23032021\n",
      "22032021\n",
      "19032021\n",
      "18032021\n",
      "17032021\n",
      "16032021\n",
      "15032021\n",
      "12032021\n",
      "11032021\n",
      "10032021\n",
      "09032021\n",
      "08032021\n"
     ]
    }
   ],
   "source": [
    "get_data = True\n",
    "ssidashpath = \"ssi_dashboard\"\n",
    "rootdir = os.getcwd() +\"/\" + ssidashpath\n",
    "\n",
    "def download_url(url, save_path, chunk_size=128):\n",
    "    r = requests.get(url, stream=True)\n",
    "    with open(save_path, 'wb') as fd:\n",
    "        for chunk in r.iter_content(chunk_size=chunk_size):\n",
    "            fd.write(chunk)\n",
    "\n",
    "url = \"https://covid19.ssi.dk/overvagningsdata/download-fil-med-overvaagningdata\"\n",
    "\n",
    "page = requests.get(url)\n",
    "soup = BeautifulSoup(page.content, 'html.parser')\n",
    "# links = soup.find_all(\"a\", string=lambda text: \"data\" in str(text).lower())\n",
    "links = soup.find_all(\"a\", string=lambda text: \"dash\" in str(text).lower())\n",
    "check_str = \"<a href=\\\"https://files.ssi\"\n",
    "for link in links[1:]: \n",
    "    \n",
    "\n",
    "    if str(link)[:len(check_str)]!=check_str:\n",
    "        print(\"not a file; continues...\")\n",
    "        continue\n",
    "    file = link[\"href\"]\n",
    "    yearPos = file.find('2021')\n",
    "    \n",
    "    if yearPos == -1:\n",
    "        print(\"2021 not found in link; continues...\")\n",
    "        continue\n",
    "    # print(yearPos)\n",
    "    # print(file[yearPos-4:yearPos+4])\n",
    "    curDate = file[yearPos:yearPos+4] + '-' + file[yearPos-2:yearPos] + '-' + file[yearPos-4:yearPos-2] \n",
    "\n",
    "    # Only download new data\n",
    "    curDatetime = np.datetime64(curDate)\n",
    "    if (curDatetime > mostRecentDate):\n",
    "        print(curDatetime)\n",
    "\n",
    "        filename = \"SSI_dashboard_\" + curDate\n",
    "        zipped_save_path = ssidashpath + \"_zipped/\" + filename + \".zip\"\n",
    "        extracted_save_path = ssidashpath + \"/\" + filename\n",
    "        \n",
    "        try:\n",
    "            download_url(file, zipped_save_path)\n",
    "            with zipfile.ZipFile(zipped_save_path, 'r') as zipObj:\n",
    "                zipObj.extractall(extracted_save_path)\n",
    "        except: \n",
    "            print(file)"
   ]
  },
  {
   "cell_type": "code",
   "execution_count": 12,
   "metadata": {},
   "outputs": [
    {
     "output_type": "stream",
     "name": "stdout",
     "text": [
      "d:\\Pandemix\\Github\\DanskeData/ssi_data\\SSI_data_2021-06-02\n2021-06-02 00:00:00\n"
     ]
    }
   ],
   "source": [
    "ssidatapath = \"ssi_data\"\n",
    "rootdir = os.getcwd() +\"/\" + ssidatapath\n",
    "\n",
    "for subdir, dirs, files in os.walk(rootdir):\n",
    "    if not len(files) == 0:\n",
    "        latestdir = subdir\n",
    "        latestDate = pd.to_datetime(subdir[-10:])\n",
    "\n",
    "print(latestdir)\n",
    "print(latestDate)"
   ]
  }
 ]
}