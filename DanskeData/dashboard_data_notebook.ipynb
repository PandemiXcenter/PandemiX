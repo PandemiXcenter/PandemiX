{
 "metadata": {
  "language_info": {
   "codemirror_mode": {
    "name": "ipython",
    "version": 3
   },
   "file_extension": ".py",
   "mimetype": "text/x-python",
   "name": "python",
   "nbconvert_exporter": "python",
   "pygments_lexer": "ipython3",
   "version": "3.8.8"
  },
  "orig_nbformat": 2,
  "kernelspec": {
   "name": "python388jvsc74a57bd0c031fd63bd977d199cd6020c30a19695eacbb638d100e0b8a5ea53080ed74a9a",
   "display_name": "Python 3.8.8 64-bit ('main': conda)"
  }
 },
 "nbformat": 4,
 "nbformat_minor": 2,
 "cells": [
  {
   "cell_type": "code",
   "execution_count": 1,
   "metadata": {},
   "outputs": [
    {
     "output_type": "stream",
     "name": "stdout",
     "text": [
      "saveFigures is set to: True\nDone loading packages\n"
     ]
    }
   ],
   "source": [
    "# Notebook for investigating dashboard data\n",
    "import numpy as np\n",
    "import pandas as pd\n",
    "pd.set_option('display.max_rows', 500)\n",
    "pd.set_option('display.min_rows', 50)\n",
    "\n",
    "\n",
    "import matplotlib.pyplot as plt\n",
    "%matplotlib widget\n",
    "plt.rcParams['figure.figsize'] = (12,8)\n",
    "plt.rcParams[\"image.cmap\"] = \"tab10\"\n",
    "plt.rcParams['axes.prop_cycle'] = plt.cycler(color=plt.cm.tab10.colors)\n",
    "#Settings for plotting\n",
    "fs_label = 16\n",
    "parameters = {\n",
    "                'axes.labelsize': fs_label,\n",
    "                'axes.titlesize': fs_label+4,\n",
    "                'xtick.labelsize': fs_label,\n",
    "                'ytick.labelsize': fs_label, \n",
    "                'legend.fontsize': fs_label, \n",
    "                'lines.markersize': 10,\n",
    "                'lines.linewidth': 3\n",
    "             }\n",
    "plt.rcParams.update(parameters)\n",
    "\n",
    "%matplotlib widget\n",
    "import matplotlib.colors as colors\n",
    "from matplotlib import cm # Colormaps\n",
    "\n",
    "import locale\n",
    "import matplotlib.dates as mdates\n",
    "locale.setlocale(locale.LC_TIME,\"Danish\")\n",
    "locale.setlocale(locale.LC_ALL,\"Danish\")\n",
    "\n",
    "## Useful commands to copy:\n",
    "# cmap = plt.cm.get_cmap('Dark2',len(ageGroups))\n",
    "# ax1.xaxis.set_major_formatter(mdates.DateFormatter('%b\\n%Y'))\n",
    "# ax1.xaxis.set_major_formatter(mdates.DateFormatter('%d\\n%b'))\n",
    "# plt.rcParams[\"image.cmap\"] = \"Dark2\"\n",
    "# plt.rcParams['axes.prop_cycle'] = plt.cycler(color=plt.cm.Dark2.colors)\n",
    "\n",
    "import os\n",
    "import math\n",
    "\n",
    "from datetime import date\n",
    "\n",
    "\n",
    "saveFigures = True\n",
    "print('saveFigures is set to: '+str(saveFigures))\n",
    "\n",
    "print('Done loading packages')\n",
    "\n",
    "def rnMean(data,meanWidth):\n",
    "    return np.convolve(data, np.ones(meanWidth)/meanWidth, mode='valid')\n",
    "def rnTime(t,meanWidth):\n",
    "    return t[math.floor(meanWidth/2):-math.ceil(meanWidth/2)+1]"
   ]
  },
  {
   "cell_type": "code",
   "execution_count": 2,
   "metadata": {},
   "outputs": [
    {
     "output_type": "stream",
     "name": "stdout",
     "text": [
      "d:\\Pandemix\\Github\\DanskeData/ssi_dashboard\\SSI_dashboard_2021-05-18\\Regionalt_DB\n2021-05-18\n"
     ]
    }
   ],
   "source": [
    "# Get the most recent file\n",
    "ssidatapath = \"ssi_dashboard\"\n",
    "rootdir = os.getcwd() +\"/\" + ssidatapath\n",
    "\n",
    "\n",
    "for subdir, dirs, files in os.walk(rootdir):\n",
    "    if not len(files) == 0:\n",
    "        latestdir = subdir\n",
    "        linkIni = latestdir.find('SSI_dashboard_')\n",
    "        latestDate = latestdir[linkIni+14:linkIni+24]\n",
    "\n",
    "print(latestdir)\n",
    "print(latestDate)"
   ]
  },
  {
   "cell_type": "code",
   "execution_count": 3,
   "metadata": {},
   "outputs": [],
   "source": [
    "# Load the data\n",
    "# fulldf = pd.read_csv(latestdir+'/01_noegle_tal.csv',delimiter = ';',dtype=str,encoding='latin-1') \n",
    "# fulldf = pd.read_csv(latestdir+'/05_bekraeftede_tilfaelde_doede_pr_region_pr_alders_grp.csv',delimiter = ';',dtype=str,encoding='latin-1') \n",
    "# fulldf = pd.read_csv(latestdir+'/11_noegletal_pr_region_pr_aldersgruppe.csv',delimiter = ';',encoding='latin-1') \n",
    "\n",
    "fulldf = pd.read_csv(latestdir+'/03_bekraeftede_tilfaelde_doede_indlagte_pr_dag_pr_koen.csv',delimiter = ';',encoding='latin-1') "
   ]
  },
  {
   "cell_type": "code",
   "execution_count": 4,
   "metadata": {},
   "outputs": [],
   "source": [
    "# fulldf[fulldf.Aldersgruppe == '20-29']['Bekræftede tilfælde'].sum()\n",
    "# fulldf['Bekræftede tilfælde'].sum()\n"
   ]
  },
  {
   "cell_type": "code",
   "execution_count": 5,
   "metadata": {},
   "outputs": [],
   "source": [
    "df = pd.read_csv(latestdir+'/03_bekraeftede_tilfaelde_doede_indlagte_pr_dag_pr_koen.csv',delimiter = ';',encoding='latin-1') \n",
    "df[\"Prøvetagningsdato\"] = df[\"Prøvetagningsdato\"].astype('datetime64[D]')"
   ]
  },
  {
   "cell_type": "code",
   "execution_count": 6,
   "metadata": {
    "tags": []
   },
   "outputs": [],
   "source": [
    "# curDates = pd.to_datetime(df[df.Region == 'Hovedstaden']['Prøvetagningsdato'])\n",
    "# curCases = df[df.Region == 'Hovedstaden']['Bekræftede tilfælde']\n",
    "\n",
    "allDates = df['Prøvetagningsdato'].unique()\n",
    "\n",
    "curDates = []\n",
    "curCases = []\n",
    "\n",
    "for da in allDates:\n",
    "\n",
    "    # curDate = da\n",
    "    curCount = df[df['Prøvetagningsdato']==da]['Bekræftede tilfælde'].sum()\n",
    "\n",
    "    curDates.append(da)\n",
    "    curCases.append(curCount)\n",
    "\n",
    "\n",
    "# df[df['Prøvetagningsdato']==da]['Bekræftede tilfælde'].sum()"
   ]
  },
  {
   "cell_type": "code",
   "execution_count": 7,
   "metadata": {},
   "outputs": [
    {
     "output_type": "display_data",
     "data": {
      "text/plain": "Canvas(toolbar=Toolbar(toolitems=[('Home', 'Reset original view', 'home', 'home'), ('Back', 'Back to previous …",
      "application/vnd.jupyter.widget-view+json": {
       "version_major": 2,
       "version_minor": 0,
       "model_id": "4fd1c50e961344a680e99d9eca0743fc"
      }
     },
     "metadata": {}
    }
   ],
   "source": [
    "fig,ax1 = plt.subplots()\n",
    "\n",
    "# # Show mondays\n",
    "# testMonday = np.datetime64('2021-05-17')\n",
    "# numMondays = 30\n",
    "# for m in range(0,numMondays):\n",
    "#     # ax1.bar(testMonday-np.timedelta64(m*7,'D'),curMax,color='grey',width=0.1)\n",
    "#     ax1.axvline(x=testMonday-np.timedelta64(m*7,'D'),color='lightgrey')\n",
    "    \n",
    "curMax = max(curCases[-100:])*1.1\n",
    "\n",
    "# Show weekend\n",
    "testSat = np.datetime64('2021-01-02')\n",
    "numWeeks = 30\n",
    "for m in range(0,numWeeks):\n",
    "    ax1.bar(testSat+np.timedelta64(m*7,'D') + np.timedelta64(12,'h'),curMax,color='grey',width=np.timedelta64(48,'h'))\n",
    "    # ax1.axvline(x=testMonday-np.timedelta64(m*7,'D'),color='lightgrey')\n",
    "\n",
    "ax1.bar(testSat+np.timedelta64(m*7,'D') + np.timedelta64(12,'h'),curMax,color='grey',width=np.timedelta64(48,'h'),label='Weekend')\n",
    "\n",
    "ax1.plot(curDates,curCases,'k.:',linewidth=0.5,label='Data')\n",
    "meanWidth = 7\n",
    "ax1.plot(rnTime(curDates,meanWidth),rnMean(curCases,meanWidth),'k',label='7 dages løbende gennemsnit')\n",
    "\n",
    "\n",
    "\n",
    "ax1.xaxis.set_major_formatter(mdates.DateFormatter('%d\\n%b'))\n",
    "\n",
    "ax1.set_xlim(left=np.datetime64('2021-02-01'), right=np.datetime64(date.today())+np.timedelta64(1,'D'))\n",
    "ax1.set_ylim([0,curMax])\n",
    "\n",
    "ax1.set_ylabel('Antal bekræftede tilfælde')\n",
    "\n",
    "\n",
    "ax1.legend()\n",
    "\n",
    "plt.tight_layout()\n",
    "\n",
    "if saveFigures:\n",
    "    plt.savefig('figs/CasesFromDashboard_Total')"
   ]
  },
  {
   "cell_type": "code",
   "execution_count": 8,
   "metadata": {},
   "outputs": [
    {
     "output_type": "execute_result",
     "data": {
      "text/plain": [
       "265519"
      ]
     },
     "metadata": {},
     "execution_count": 8
    }
   ],
   "source": [
    "sum(curCases)"
   ]
  },
  {
   "cell_type": "code",
   "execution_count": 9,
   "metadata": {},
   "outputs": [
    {
     "output_type": "execute_result",
     "data": {
      "text/plain": [
       "[numpy.datetime64('2021-05-12T00:00:00.000000000'),\n",
       " numpy.datetime64('2021-05-13T00:00:00.000000000'),\n",
       " numpy.datetime64('2021-05-14T00:00:00.000000000'),\n",
       " numpy.datetime64('2021-05-15T00:00:00.000000000'),\n",
       " numpy.datetime64('2021-05-16T00:00:00.000000000'),\n",
       " numpy.datetime64('2021-05-17T00:00:00.000000000')]"
      ]
     },
     "metadata": {},
     "execution_count": 9
    }
   ],
   "source": [
    "curDates[-6:]"
   ]
  },
  {
   "cell_type": "code",
   "execution_count": 10,
   "metadata": {},
   "outputs": [
    {
     "output_type": "execute_result",
     "data": {
      "text/plain": [
       "[1148, 896, 865, 938, 906, 265]"
      ]
     },
     "metadata": {},
     "execution_count": 10
    }
   ],
   "source": [
    "curCases[-6:]"
   ]
  },
  {
   "cell_type": "code",
   "execution_count": 11,
   "metadata": {},
   "outputs": [
    {
     "output_type": "execute_result",
     "data": {
      "text/plain": [
       "           Region Prøvetagningsdato Køn  Bekræftede tilfælde  Døde  \\\n",
       "0        Sjælland        2020-02-26   M                    1     0   \n",
       "1     Hovedstaden        2020-02-27   M                    1     0   \n",
       "2     Midtjylland        2020-02-28   M                    1     0   \n",
       "3     Hovedstaden        2020-03-01   M                    1     0   \n",
       "4     Hovedstaden        2020-03-02   M                    2     0   \n",
       "5        Sjælland        2020-03-02   M                    1     0   \n",
       "6      Syddanmark        2020-03-02   M                    1     0   \n",
       "7     Hovedstaden        2020-03-03   F                    1     0   \n",
       "8     Hovedstaden        2020-03-03   M                    3     0   \n",
       "9     Hovedstaden        2020-03-04   M                    2     0   \n",
       "10       Sjælland        2020-03-04   M                    1     0   \n",
       "11    Hovedstaden        2020-03-05   F                    4     1   \n",
       "12    Hovedstaden        2020-03-05   M                    6     1   \n",
       "13    Nordjylland        2020-03-06   M                    1     0   \n",
       "14       Sjælland        2020-03-06   M                    1     0   \n",
       "15    Hovedstaden        2020-03-07   F                    5     0   \n",
       "16    Hovedstaden        2020-03-07   M                    3     0   \n",
       "17    Midtjylland        2020-03-07   M                    1     0   \n",
       "18    Hovedstaden        2020-03-08   F                    8     0   \n",
       "19    Midtjylland        2020-03-08   F                    6     0   \n",
       "20       Sjælland        2020-03-08   F                    2     0   \n",
       "21     Syddanmark        2020-03-08   F                    1     0   \n",
       "22    Hovedstaden        2020-03-08   M                    4     0   \n",
       "23    Midtjylland        2020-03-08   M                   16     0   \n",
       "24    Nordjylland        2020-03-08   M                    1     0   \n",
       "...           ...               ...  ..                  ...   ...   \n",
       "4086  Hovedstaden        2021-05-15   M                  198     0   \n",
       "4087  Midtjylland        2021-05-15   M                  109     0   \n",
       "4088  Nordjylland        2021-05-15   M                   55     0   \n",
       "4089     Sjælland        2021-05-15   M                   64     0   \n",
       "4090   Syddanmark        2021-05-15   M                   47     0   \n",
       "4091  Hovedstaden        2021-05-16   F                  208     0   \n",
       "4092  Midtjylland        2021-05-16   F                   65     0   \n",
       "4093  Nordjylland        2021-05-16   F                   50     0   \n",
       "4094     Sjælland        2021-05-16   F                   47     0   \n",
       "4095   Syddanmark        2021-05-16   F                   45     0   \n",
       "4096  Hovedstaden        2021-05-16   M                  228     0   \n",
       "4097  Midtjylland        2021-05-16   M                   82     0   \n",
       "4098  Nordjylland        2021-05-16   M                   55     0   \n",
       "4099     Sjælland        2021-05-16   M                   74     0   \n",
       "4100   Syddanmark        2021-05-16   M                   52     0   \n",
       "4101  Hovedstaden        2021-05-17   F                   25     0   \n",
       "4102  Midtjylland        2021-05-17   F                   44     0   \n",
       "4103  Nordjylland        2021-05-17   F                   14     0   \n",
       "4104     Sjælland        2021-05-17   F                    4     0   \n",
       "4105   Syddanmark        2021-05-17   F                   22     0   \n",
       "4106  Hovedstaden        2021-05-17   M                   42     0   \n",
       "4107  Midtjylland        2021-05-17   M                   55     0   \n",
       "4108  Nordjylland        2021-05-17   M                   28     0   \n",
       "4109     Sjælland        2021-05-17   M                    6     0   \n",
       "4110   Syddanmark        2021-05-17   M                   25     0   \n",
       "\n",
       "      Indlæggelser  Kummuleret antal døde  \\\n",
       "0                0                      0   \n",
       "1                0                      0   \n",
       "2                0                      0   \n",
       "3                1                      0   \n",
       "4                1                      0   \n",
       "5                0                      0   \n",
       "6                0                      0   \n",
       "7                0                      0   \n",
       "8                1                      0   \n",
       "9                0                      0   \n",
       "10               1                      0   \n",
       "11               1                      1   \n",
       "12               2                      2   \n",
       "13               0                      2   \n",
       "14               1                      2   \n",
       "15               1                      2   \n",
       "16               1                      2   \n",
       "17               0                      2   \n",
       "18               0                      2   \n",
       "19               0                      2   \n",
       "20               1                      2   \n",
       "21               0                      2   \n",
       "22               1                      2   \n",
       "23               0                      2   \n",
       "24               0                      2   \n",
       "...            ...                    ...   \n",
       "4086             3                   2491   \n",
       "4087             2                   2491   \n",
       "4088             0                   2491   \n",
       "4089             0                   2491   \n",
       "4090             0                   2491   \n",
       "4091             0                   2491   \n",
       "4092             0                   2491   \n",
       "4093             0                   2491   \n",
       "4094             1                   2491   \n",
       "4095             2                   2491   \n",
       "4096             4                   2491   \n",
       "4097             1                   2491   \n",
       "4098             0                   2491   \n",
       "4099             0                   2491   \n",
       "4100             0                   2491   \n",
       "4101             0                   2491   \n",
       "4102             0                   2491   \n",
       "4103             0                   2491   \n",
       "4104             0                   2491   \n",
       "4105             0                   2491   \n",
       "4106             2                   2491   \n",
       "4107             2                   2491   \n",
       "4108             0                   2491   \n",
       "4109             0                   2491   \n",
       "4110             1                   2491   \n",
       "\n",
       "      Kummuleret antal bekræftede tilfælde  Kummuleret antal indlæggelser  \n",
       "0                                        1                              0  \n",
       "1                                        2                              0  \n",
       "2                                        3                              0  \n",
       "3                                        4                              1  \n",
       "4                                        6                              2  \n",
       "5                                        7                              2  \n",
       "6                                        8                              2  \n",
       "7                                        9                              2  \n",
       "8                                       12                              3  \n",
       "9                                       14                              3  \n",
       "10                                      15                              4  \n",
       "11                                      19                              5  \n",
       "12                                      25                              7  \n",
       "13                                      26                              7  \n",
       "14                                      27                              8  \n",
       "15                                      32                              9  \n",
       "16                                      35                             10  \n",
       "17                                      36                             10  \n",
       "18                                      44                             10  \n",
       "19                                      50                             10  \n",
       "20                                      52                             11  \n",
       "21                                      53                             11  \n",
       "22                                      57                             12  \n",
       "23                                      73                             12  \n",
       "24                                      74                             12  \n",
       "...                                    ...                            ...  \n",
       "4086                                264073                          14698  \n",
       "4087                                264182                          14700  \n",
       "4088                                264237                          14700  \n",
       "4089                                264301                          14700  \n",
       "4090                                264348                          14700  \n",
       "4091                                264556                          14700  \n",
       "4092                                264621                          14700  \n",
       "4093                                264671                          14700  \n",
       "4094                                264718                          14701  \n",
       "4095                                264763                          14703  \n",
       "4096                                264991                          14707  \n",
       "4097                                265073                          14708  \n",
       "4098                                265128                          14708  \n",
       "4099                                265202                          14708  \n",
       "4100                                265254                          14708  \n",
       "4101                                265279                          14708  \n",
       "4102                                265323                          14708  \n",
       "4103                                265337                          14708  \n",
       "4104                                265341                          14708  \n",
       "4105                                265363                          14708  \n",
       "4106                                265405                          14710  \n",
       "4107                                265460                          14712  \n",
       "4108                                265488                          14712  \n",
       "4109                                265494                          14712  \n",
       "4110                                265519                          14713  \n",
       "\n",
       "[4111 rows x 9 columns]"
      ],
      "text/html": "<div>\n<style scoped>\n    .dataframe tbody tr th:only-of-type {\n        vertical-align: middle;\n    }\n\n    .dataframe tbody tr th {\n        vertical-align: top;\n    }\n\n    .dataframe thead th {\n        text-align: right;\n    }\n</style>\n<table border=\"1\" class=\"dataframe\">\n  <thead>\n    <tr style=\"text-align: right;\">\n      <th></th>\n      <th>Region</th>\n      <th>Prøvetagningsdato</th>\n      <th>Køn</th>\n      <th>Bekræftede tilfælde</th>\n      <th>Døde</th>\n      <th>Indlæggelser</th>\n      <th>Kummuleret antal døde</th>\n      <th>Kummuleret antal bekræftede tilfælde</th>\n      <th>Kummuleret antal indlæggelser</th>\n    </tr>\n  </thead>\n  <tbody>\n    <tr>\n      <th>0</th>\n      <td>Sjælland</td>\n      <td>2020-02-26</td>\n      <td>M</td>\n      <td>1</td>\n      <td>0</td>\n      <td>0</td>\n      <td>0</td>\n      <td>1</td>\n      <td>0</td>\n    </tr>\n    <tr>\n      <th>1</th>\n      <td>Hovedstaden</td>\n      <td>2020-02-27</td>\n      <td>M</td>\n      <td>1</td>\n      <td>0</td>\n      <td>0</td>\n      <td>0</td>\n      <td>2</td>\n      <td>0</td>\n    </tr>\n    <tr>\n      <th>2</th>\n      <td>Midtjylland</td>\n      <td>2020-02-28</td>\n      <td>M</td>\n      <td>1</td>\n      <td>0</td>\n      <td>0</td>\n      <td>0</td>\n      <td>3</td>\n      <td>0</td>\n    </tr>\n    <tr>\n      <th>3</th>\n      <td>Hovedstaden</td>\n      <td>2020-03-01</td>\n      <td>M</td>\n      <td>1</td>\n      <td>0</td>\n      <td>1</td>\n      <td>0</td>\n      <td>4</td>\n      <td>1</td>\n    </tr>\n    <tr>\n      <th>4</th>\n      <td>Hovedstaden</td>\n      <td>2020-03-02</td>\n      <td>M</td>\n      <td>2</td>\n      <td>0</td>\n      <td>1</td>\n      <td>0</td>\n      <td>6</td>\n      <td>2</td>\n    </tr>\n    <tr>\n      <th>5</th>\n      <td>Sjælland</td>\n      <td>2020-03-02</td>\n      <td>M</td>\n      <td>1</td>\n      <td>0</td>\n      <td>0</td>\n      <td>0</td>\n      <td>7</td>\n      <td>2</td>\n    </tr>\n    <tr>\n      <th>6</th>\n      <td>Syddanmark</td>\n      <td>2020-03-02</td>\n      <td>M</td>\n      <td>1</td>\n      <td>0</td>\n      <td>0</td>\n      <td>0</td>\n      <td>8</td>\n      <td>2</td>\n    </tr>\n    <tr>\n      <th>7</th>\n      <td>Hovedstaden</td>\n      <td>2020-03-03</td>\n      <td>F</td>\n      <td>1</td>\n      <td>0</td>\n      <td>0</td>\n      <td>0</td>\n      <td>9</td>\n      <td>2</td>\n    </tr>\n    <tr>\n      <th>8</th>\n      <td>Hovedstaden</td>\n      <td>2020-03-03</td>\n      <td>M</td>\n      <td>3</td>\n      <td>0</td>\n      <td>1</td>\n      <td>0</td>\n      <td>12</td>\n      <td>3</td>\n    </tr>\n    <tr>\n      <th>9</th>\n      <td>Hovedstaden</td>\n      <td>2020-03-04</td>\n      <td>M</td>\n      <td>2</td>\n      <td>0</td>\n      <td>0</td>\n      <td>0</td>\n      <td>14</td>\n      <td>3</td>\n    </tr>\n    <tr>\n      <th>10</th>\n      <td>Sjælland</td>\n      <td>2020-03-04</td>\n      <td>M</td>\n      <td>1</td>\n      <td>0</td>\n      <td>1</td>\n      <td>0</td>\n      <td>15</td>\n      <td>4</td>\n    </tr>\n    <tr>\n      <th>11</th>\n      <td>Hovedstaden</td>\n      <td>2020-03-05</td>\n      <td>F</td>\n      <td>4</td>\n      <td>1</td>\n      <td>1</td>\n      <td>1</td>\n      <td>19</td>\n      <td>5</td>\n    </tr>\n    <tr>\n      <th>12</th>\n      <td>Hovedstaden</td>\n      <td>2020-03-05</td>\n      <td>M</td>\n      <td>6</td>\n      <td>1</td>\n      <td>2</td>\n      <td>2</td>\n      <td>25</td>\n      <td>7</td>\n    </tr>\n    <tr>\n      <th>13</th>\n      <td>Nordjylland</td>\n      <td>2020-03-06</td>\n      <td>M</td>\n      <td>1</td>\n      <td>0</td>\n      <td>0</td>\n      <td>2</td>\n      <td>26</td>\n      <td>7</td>\n    </tr>\n    <tr>\n      <th>14</th>\n      <td>Sjælland</td>\n      <td>2020-03-06</td>\n      <td>M</td>\n      <td>1</td>\n      <td>0</td>\n      <td>1</td>\n      <td>2</td>\n      <td>27</td>\n      <td>8</td>\n    </tr>\n    <tr>\n      <th>15</th>\n      <td>Hovedstaden</td>\n      <td>2020-03-07</td>\n      <td>F</td>\n      <td>5</td>\n      <td>0</td>\n      <td>1</td>\n      <td>2</td>\n      <td>32</td>\n      <td>9</td>\n    </tr>\n    <tr>\n      <th>16</th>\n      <td>Hovedstaden</td>\n      <td>2020-03-07</td>\n      <td>M</td>\n      <td>3</td>\n      <td>0</td>\n      <td>1</td>\n      <td>2</td>\n      <td>35</td>\n      <td>10</td>\n    </tr>\n    <tr>\n      <th>17</th>\n      <td>Midtjylland</td>\n      <td>2020-03-07</td>\n      <td>M</td>\n      <td>1</td>\n      <td>0</td>\n      <td>0</td>\n      <td>2</td>\n      <td>36</td>\n      <td>10</td>\n    </tr>\n    <tr>\n      <th>18</th>\n      <td>Hovedstaden</td>\n      <td>2020-03-08</td>\n      <td>F</td>\n      <td>8</td>\n      <td>0</td>\n      <td>0</td>\n      <td>2</td>\n      <td>44</td>\n      <td>10</td>\n    </tr>\n    <tr>\n      <th>19</th>\n      <td>Midtjylland</td>\n      <td>2020-03-08</td>\n      <td>F</td>\n      <td>6</td>\n      <td>0</td>\n      <td>0</td>\n      <td>2</td>\n      <td>50</td>\n      <td>10</td>\n    </tr>\n    <tr>\n      <th>20</th>\n      <td>Sjælland</td>\n      <td>2020-03-08</td>\n      <td>F</td>\n      <td>2</td>\n      <td>0</td>\n      <td>1</td>\n      <td>2</td>\n      <td>52</td>\n      <td>11</td>\n    </tr>\n    <tr>\n      <th>21</th>\n      <td>Syddanmark</td>\n      <td>2020-03-08</td>\n      <td>F</td>\n      <td>1</td>\n      <td>0</td>\n      <td>0</td>\n      <td>2</td>\n      <td>53</td>\n      <td>11</td>\n    </tr>\n    <tr>\n      <th>22</th>\n      <td>Hovedstaden</td>\n      <td>2020-03-08</td>\n      <td>M</td>\n      <td>4</td>\n      <td>0</td>\n      <td>1</td>\n      <td>2</td>\n      <td>57</td>\n      <td>12</td>\n    </tr>\n    <tr>\n      <th>23</th>\n      <td>Midtjylland</td>\n      <td>2020-03-08</td>\n      <td>M</td>\n      <td>16</td>\n      <td>0</td>\n      <td>0</td>\n      <td>2</td>\n      <td>73</td>\n      <td>12</td>\n    </tr>\n    <tr>\n      <th>24</th>\n      <td>Nordjylland</td>\n      <td>2020-03-08</td>\n      <td>M</td>\n      <td>1</td>\n      <td>0</td>\n      <td>0</td>\n      <td>2</td>\n      <td>74</td>\n      <td>12</td>\n    </tr>\n    <tr>\n      <th>...</th>\n      <td>...</td>\n      <td>...</td>\n      <td>...</td>\n      <td>...</td>\n      <td>...</td>\n      <td>...</td>\n      <td>...</td>\n      <td>...</td>\n      <td>...</td>\n    </tr>\n    <tr>\n      <th>4086</th>\n      <td>Hovedstaden</td>\n      <td>2021-05-15</td>\n      <td>M</td>\n      <td>198</td>\n      <td>0</td>\n      <td>3</td>\n      <td>2491</td>\n      <td>264073</td>\n      <td>14698</td>\n    </tr>\n    <tr>\n      <th>4087</th>\n      <td>Midtjylland</td>\n      <td>2021-05-15</td>\n      <td>M</td>\n      <td>109</td>\n      <td>0</td>\n      <td>2</td>\n      <td>2491</td>\n      <td>264182</td>\n      <td>14700</td>\n    </tr>\n    <tr>\n      <th>4088</th>\n      <td>Nordjylland</td>\n      <td>2021-05-15</td>\n      <td>M</td>\n      <td>55</td>\n      <td>0</td>\n      <td>0</td>\n      <td>2491</td>\n      <td>264237</td>\n      <td>14700</td>\n    </tr>\n    <tr>\n      <th>4089</th>\n      <td>Sjælland</td>\n      <td>2021-05-15</td>\n      <td>M</td>\n      <td>64</td>\n      <td>0</td>\n      <td>0</td>\n      <td>2491</td>\n      <td>264301</td>\n      <td>14700</td>\n    </tr>\n    <tr>\n      <th>4090</th>\n      <td>Syddanmark</td>\n      <td>2021-05-15</td>\n      <td>M</td>\n      <td>47</td>\n      <td>0</td>\n      <td>0</td>\n      <td>2491</td>\n      <td>264348</td>\n      <td>14700</td>\n    </tr>\n    <tr>\n      <th>4091</th>\n      <td>Hovedstaden</td>\n      <td>2021-05-16</td>\n      <td>F</td>\n      <td>208</td>\n      <td>0</td>\n      <td>0</td>\n      <td>2491</td>\n      <td>264556</td>\n      <td>14700</td>\n    </tr>\n    <tr>\n      <th>4092</th>\n      <td>Midtjylland</td>\n      <td>2021-05-16</td>\n      <td>F</td>\n      <td>65</td>\n      <td>0</td>\n      <td>0</td>\n      <td>2491</td>\n      <td>264621</td>\n      <td>14700</td>\n    </tr>\n    <tr>\n      <th>4093</th>\n      <td>Nordjylland</td>\n      <td>2021-05-16</td>\n      <td>F</td>\n      <td>50</td>\n      <td>0</td>\n      <td>0</td>\n      <td>2491</td>\n      <td>264671</td>\n      <td>14700</td>\n    </tr>\n    <tr>\n      <th>4094</th>\n      <td>Sjælland</td>\n      <td>2021-05-16</td>\n      <td>F</td>\n      <td>47</td>\n      <td>0</td>\n      <td>1</td>\n      <td>2491</td>\n      <td>264718</td>\n      <td>14701</td>\n    </tr>\n    <tr>\n      <th>4095</th>\n      <td>Syddanmark</td>\n      <td>2021-05-16</td>\n      <td>F</td>\n      <td>45</td>\n      <td>0</td>\n      <td>2</td>\n      <td>2491</td>\n      <td>264763</td>\n      <td>14703</td>\n    </tr>\n    <tr>\n      <th>4096</th>\n      <td>Hovedstaden</td>\n      <td>2021-05-16</td>\n      <td>M</td>\n      <td>228</td>\n      <td>0</td>\n      <td>4</td>\n      <td>2491</td>\n      <td>264991</td>\n      <td>14707</td>\n    </tr>\n    <tr>\n      <th>4097</th>\n      <td>Midtjylland</td>\n      <td>2021-05-16</td>\n      <td>M</td>\n      <td>82</td>\n      <td>0</td>\n      <td>1</td>\n      <td>2491</td>\n      <td>265073</td>\n      <td>14708</td>\n    </tr>\n    <tr>\n      <th>4098</th>\n      <td>Nordjylland</td>\n      <td>2021-05-16</td>\n      <td>M</td>\n      <td>55</td>\n      <td>0</td>\n      <td>0</td>\n      <td>2491</td>\n      <td>265128</td>\n      <td>14708</td>\n    </tr>\n    <tr>\n      <th>4099</th>\n      <td>Sjælland</td>\n      <td>2021-05-16</td>\n      <td>M</td>\n      <td>74</td>\n      <td>0</td>\n      <td>0</td>\n      <td>2491</td>\n      <td>265202</td>\n      <td>14708</td>\n    </tr>\n    <tr>\n      <th>4100</th>\n      <td>Syddanmark</td>\n      <td>2021-05-16</td>\n      <td>M</td>\n      <td>52</td>\n      <td>0</td>\n      <td>0</td>\n      <td>2491</td>\n      <td>265254</td>\n      <td>14708</td>\n    </tr>\n    <tr>\n      <th>4101</th>\n      <td>Hovedstaden</td>\n      <td>2021-05-17</td>\n      <td>F</td>\n      <td>25</td>\n      <td>0</td>\n      <td>0</td>\n      <td>2491</td>\n      <td>265279</td>\n      <td>14708</td>\n    </tr>\n    <tr>\n      <th>4102</th>\n      <td>Midtjylland</td>\n      <td>2021-05-17</td>\n      <td>F</td>\n      <td>44</td>\n      <td>0</td>\n      <td>0</td>\n      <td>2491</td>\n      <td>265323</td>\n      <td>14708</td>\n    </tr>\n    <tr>\n      <th>4103</th>\n      <td>Nordjylland</td>\n      <td>2021-05-17</td>\n      <td>F</td>\n      <td>14</td>\n      <td>0</td>\n      <td>0</td>\n      <td>2491</td>\n      <td>265337</td>\n      <td>14708</td>\n    </tr>\n    <tr>\n      <th>4104</th>\n      <td>Sjælland</td>\n      <td>2021-05-17</td>\n      <td>F</td>\n      <td>4</td>\n      <td>0</td>\n      <td>0</td>\n      <td>2491</td>\n      <td>265341</td>\n      <td>14708</td>\n    </tr>\n    <tr>\n      <th>4105</th>\n      <td>Syddanmark</td>\n      <td>2021-05-17</td>\n      <td>F</td>\n      <td>22</td>\n      <td>0</td>\n      <td>0</td>\n      <td>2491</td>\n      <td>265363</td>\n      <td>14708</td>\n    </tr>\n    <tr>\n      <th>4106</th>\n      <td>Hovedstaden</td>\n      <td>2021-05-17</td>\n      <td>M</td>\n      <td>42</td>\n      <td>0</td>\n      <td>2</td>\n      <td>2491</td>\n      <td>265405</td>\n      <td>14710</td>\n    </tr>\n    <tr>\n      <th>4107</th>\n      <td>Midtjylland</td>\n      <td>2021-05-17</td>\n      <td>M</td>\n      <td>55</td>\n      <td>0</td>\n      <td>2</td>\n      <td>2491</td>\n      <td>265460</td>\n      <td>14712</td>\n    </tr>\n    <tr>\n      <th>4108</th>\n      <td>Nordjylland</td>\n      <td>2021-05-17</td>\n      <td>M</td>\n      <td>28</td>\n      <td>0</td>\n      <td>0</td>\n      <td>2491</td>\n      <td>265488</td>\n      <td>14712</td>\n    </tr>\n    <tr>\n      <th>4109</th>\n      <td>Sjælland</td>\n      <td>2021-05-17</td>\n      <td>M</td>\n      <td>6</td>\n      <td>0</td>\n      <td>0</td>\n      <td>2491</td>\n      <td>265494</td>\n      <td>14712</td>\n    </tr>\n    <tr>\n      <th>4110</th>\n      <td>Syddanmark</td>\n      <td>2021-05-17</td>\n      <td>M</td>\n      <td>25</td>\n      <td>0</td>\n      <td>1</td>\n      <td>2491</td>\n      <td>265519</td>\n      <td>14713</td>\n    </tr>\n  </tbody>\n</table>\n<p>4111 rows × 9 columns</p>\n</div>"
     },
     "metadata": {},
     "execution_count": 11
    }
   ],
   "source": [
    "df"
   ]
  },
  {
   "source": [
    "# Nye indlæggelser"
   ],
   "cell_type": "markdown",
   "metadata": {}
  },
  {
   "cell_type": "code",
   "execution_count": 12,
   "metadata": {},
   "outputs": [],
   "source": [
    "admdf = pd.read_csv(latestdir+'/06_nye_indlaeggelser_pr_region_pr_dag.csv',delimiter = ';',encoding='latin-1') "
   ]
  },
  {
   "cell_type": "code",
   "execution_count": 28,
   "metadata": {},
   "outputs": [],
   "source": [
    "admdf[\"Dato\"] = admdf[\"Dato\"].astype('datetime64[D]')"
   ]
  },
  {
   "cell_type": "code",
   "execution_count": 36,
   "metadata": {},
   "outputs": [],
   "source": [
    "\n",
    "allAdmDates = admdf['Dato'].unique()\n",
    "\n",
    "admDates = []\n",
    "curAdm = []\n",
    "\n",
    "for da in allAdmDates:\n",
    "\n",
    "    curCount = admdf[admdf['Dato']==da]['Indlæggelser'].sum()\n",
    "\n",
    "    admDates.append(da)\n",
    "    curAdm.append(curCount)\n",
    "\n"
   ]
  },
  {
   "cell_type": "code",
   "execution_count": 37,
   "metadata": {},
   "outputs": [],
   "source": [
    "admDates = np.array(admDates).astype('datetime64[D]')"
   ]
  },
  {
   "cell_type": "code",
   "execution_count": 38,
   "metadata": {},
   "outputs": [
    {
     "output_type": "display_data",
     "data": {
      "text/plain": "Canvas(toolbar=Toolbar(toolitems=[('Home', 'Reset original view', 'home', 'home'), ('Back', 'Back to previous …",
      "application/vnd.jupyter.widget-view+json": {
       "version_major": 2,
       "version_minor": 0,
       "model_id": "c7a48a534b7f479d9c3015cb4c3da6bc"
      }
     },
     "metadata": {}
    }
   ],
   "source": [
    "fig,ax1 = plt.subplots()\n",
    "\n",
    "ax1.plot(admDates,curAdm,'k.:',linewidth=0.5)\n",
    "meanWidth = 7\n",
    "ax1.plot(rnTime(admDates,meanWidth),rnMean(curAdm,meanWidth),'k')\n",
    "\n",
    "ax1.xaxis.set_major_formatter(mdates.DateFormatter('%b\\n%Y'))\n",
    "\n",
    "ax1.set_ylim(bottom=0,top=70)\n",
    "ax1.set_xlim(left=np.datetime64('2021-02-01'))\n",
    "plt.show()"
   ]
  },
  {
   "cell_type": "code",
   "execution_count": 39,
   "metadata": {},
   "outputs": [],
   "source": [
    "dfAdm = pd.read_excel('Admitted\\Admitted.xlsx')\n",
    "dfAdm = dfAdm.transpose()\n",
    "dfAdm.columns = dfAdm.iloc[0]\n",
    "dfAdm = dfAdm.drop(['Aldersgruppe']) \n",
    "curDates =  pd.to_datetime(dfAdm.index,format='%d_%m_%Y')\n",
    "dfAdmDiff = dfAdm.diff().iloc[1:]\n",
    "plotDates = curDates[1:]"
   ]
  },
  {
   "cell_type": "code",
   "execution_count": 40,
   "metadata": {},
   "outputs": [],
   "source": [
    "# sumUp = []\n",
    "# sumDates = []\n",
    "\n",
    "# for k in np.arange(0,len(curAdm),7):\n",
    "\n",
    "#     # print(np.sum(curAdm[k:k+7]))\n",
    "#     curSum = np.sum(curAdm[k-6:k+1])\n",
    "#     sumUp.append(curSum)\n",
    "#     sumDates.append(admDates[k])"
   ]
  },
  {
   "cell_type": "code",
   "execution_count": 41,
   "metadata": {},
   "outputs": [],
   "source": [
    "res = np.cumsum(curAdm)\n",
    "toPlot = res[7:] - res[:-7]\n",
    "toPlotDays = admDates[7:]"
   ]
  },
  {
   "cell_type": "code",
   "execution_count": 49,
   "metadata": {},
   "outputs": [
    {
     "output_type": "display_data",
     "data": {
      "text/plain": "Canvas(toolbar=Toolbar(toolitems=[('Home', 'Reset original view', 'home', 'home'), ('Back', 'Back to previous …",
      "application/vnd.jupyter.widget-view+json": {
       "version_major": 2,
       "version_minor": 0,
       "model_id": "88f5d6b3b439449fb81632029bc99a78"
      }
     },
     "metadata": {}
    }
   ],
   "source": [
    "fig,ax1 = plt.subplots()\n",
    "\n",
    "ax1.plot(admDates,curAdm,'k.:',linewidth=0.5)\n",
    "meanWidth = 7\n",
    "ax1.plot(rnTime(admDates,meanWidth),rnMean(curAdm,meanWidth),'k')\n",
    "\n",
    "# ax1.plot(sumDates,np.divide(sumUp,7),'rs')\n",
    "# ax1.plot(toPlotDays,np.divide(toPlot,7),'m')\n",
    "ax1.plot(plotDates,np.divide(dfAdmDiff['I alt'],7),'*')\n",
    "\n",
    "# ax1.plot(toPlotDays,toPlot,'m')\n",
    "# ax1.plot(plotDates,dfAdmDiff['I alt'],'*')\n",
    "\n",
    "\n",
    "ax1.xaxis.set_major_formatter(mdates.DateFormatter('%b\\n%Y'))\n",
    "\n",
    "ax1.set_ylim(bottom=0,top=70)\n",
    "# ax1.set_ylim(bottom=0,top=70*7)\n",
    "ax1.set_xlim(left=np.datetime64('2021-02-01'))\n",
    "plt.show()"
   ]
  },
  {
   "cell_type": "code",
   "execution_count": 47,
   "metadata": {},
   "outputs": [
    {
     "output_type": "display_data",
     "data": {
      "text/plain": "Canvas(toolbar=Toolbar(toolitems=[('Home', 'Reset original view', 'home', 'home'), ('Back', 'Back to previous …",
      "application/vnd.jupyter.widget-view+json": {
       "version_major": 2,
       "version_minor": 0,
       "model_id": "96d49be372d94a31bd5c3bd75893dd0f"
      }
     },
     "metadata": {}
    }
   ],
   "source": [
    "fig,ax1 = plt.subplots()\n",
    "\n",
    "ax1.plot(admDates,np.cumsum(curAdm))\n",
    "ax1.plot(admDates-np.datetime64(3,'D'),np.cumsum(curAdm))\n",
    "ax1.plot(admDates-np.datetime64(4,'D'),np.cumsum(curAdm))\n",
    "ax1.plot(admDates-np.datetime64(7,'D'),np.cumsum(curAdm))\n",
    "ax1.plot(curDates,dfAdm['I alt'],'k*')\n",
    "\n",
    "\n",
    "ax1.xaxis.set_major_formatter(mdates.DateFormatter('%b\\n%Y'))\n",
    "\n",
    "# ax1.set_ylim(bottom=0,top=70*7)\n",
    "# ax1.set_xlim(left=np.datetime64('2021-01-01'))\n",
    "plt.show()"
   ]
  }
 ]
}