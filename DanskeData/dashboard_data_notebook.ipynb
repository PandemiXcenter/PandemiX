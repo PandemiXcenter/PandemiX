{
 "metadata": {
  "language_info": {
   "codemirror_mode": {
    "name": "ipython",
    "version": 3
   },
   "file_extension": ".py",
   "mimetype": "text/x-python",
   "name": "python",
   "nbconvert_exporter": "python",
   "pygments_lexer": "ipython3",
   "version": "3.8.8"
  },
  "orig_nbformat": 2,
  "kernelspec": {
   "name": "python388jvsc74a57bd0c031fd63bd977d199cd6020c30a19695eacbb638d100e0b8a5ea53080ed74a9a",
   "display_name": "Python 3.8.8 64-bit ('main': conda)"
  }
 },
 "nbformat": 4,
 "nbformat_minor": 2,
 "cells": [
  {
   "cell_type": "code",
   "execution_count": 1,
   "metadata": {},
   "outputs": [
    {
     "output_type": "stream",
     "name": "stdout",
     "text": [
      "saveFigures is set to: True\nDone loading packages\n"
     ]
    }
   ],
   "source": [
    "# Notebook for investigating dashboard data\n",
    "import numpy as np\n",
    "import pandas as pd\n",
    "pd.set_option('display.max_rows', 500)\n",
    "pd.set_option('display.min_rows', 50)\n",
    "\n",
    "\n",
    "import matplotlib.pyplot as plt\n",
    "%matplotlib widget\n",
    "plt.rcParams['figure.figsize'] = (12,8)\n",
    "plt.rcParams[\"image.cmap\"] = \"tab10\"\n",
    "plt.rcParams['axes.prop_cycle'] = plt.cycler(color=plt.cm.tab10.colors)\n",
    "#Settings for plotting\n",
    "fs_label = 16\n",
    "parameters = {\n",
    "                'axes.labelsize': fs_label,\n",
    "                'axes.titlesize': fs_label+4,\n",
    "                'xtick.labelsize': fs_label,\n",
    "                'ytick.labelsize': fs_label, \n",
    "                'legend.fontsize': fs_label, \n",
    "                'lines.markersize': 10,\n",
    "                'lines.linewidth': 3\n",
    "             }\n",
    "plt.rcParams.update(parameters)\n",
    "\n",
    "%matplotlib widget\n",
    "import matplotlib.colors as colors\n",
    "from matplotlib import cm # Colormaps\n",
    "\n",
    "import locale\n",
    "import matplotlib.dates as mdates\n",
    "locale.setlocale(locale.LC_TIME,\"Danish\")\n",
    "locale.setlocale(locale.LC_ALL,\"Danish\")\n",
    "\n",
    "## Useful commands to copy:\n",
    "# cmap = plt.cm.get_cmap('Dark2',len(ageGroups))\n",
    "# ax1.xaxis.set_major_formatter(mdates.DateFormatter('%b\\n%Y'))\n",
    "# ax1.xaxis.set_major_formatter(mdates.DateFormatter('%d\\n%b'))\n",
    "# plt.rcParams[\"image.cmap\"] = \"Dark2\"\n",
    "# plt.rcParams['axes.prop_cycle'] = plt.cycler(color=plt.cm.Dark2.colors)\n",
    "\n",
    "import os\n",
    "import math\n",
    "\n",
    "from datetime import date\n",
    "\n",
    "\n",
    "saveFigures = True\n",
    "print('saveFigures is set to: '+str(saveFigures))\n",
    "\n",
    "print('Done loading packages')\n",
    "\n",
    "def rnMean(data,meanWidth):\n",
    "    return np.convolve(data, np.ones(meanWidth)/meanWidth, mode='valid')\n",
    "def rnTime(t,meanWidth):\n",
    "    return t[math.floor(meanWidth/2):-math.ceil(meanWidth/2)+1]"
   ]
  },
  {
   "cell_type": "code",
   "execution_count": 2,
   "metadata": {},
   "outputs": [
    {
     "output_type": "stream",
     "name": "stdout",
     "text": [
      "d:\\Pandemix\\Github\\DanskeData/ssi_dashboard\\SSI_dashboard_2021-05-17\\Regionalt_DB\n2021-05-17\n"
     ]
    }
   ],
   "source": [
    "# Get the most recent file\n",
    "ssidatapath = \"ssi_dashboard\"\n",
    "rootdir = os.getcwd() +\"/\" + ssidatapath\n",
    "\n",
    "\n",
    "for subdir, dirs, files in os.walk(rootdir):\n",
    "    if not len(files) == 0:\n",
    "        latestdir = subdir\n",
    "        linkIni = latestdir.find('SSI_dashboard_')\n",
    "        latestDate = latestdir[linkIni+14:linkIni+24]\n",
    "\n",
    "print(latestdir)\n",
    "print(latestDate)"
   ]
  },
  {
   "cell_type": "code",
   "execution_count": 3,
   "metadata": {},
   "outputs": [],
   "source": [
    "# Load the data\n",
    "# fulldf = pd.read_csv(latestdir+'/01_noegle_tal.csv',delimiter = ';',dtype=str,encoding='latin-1') \n",
    "# fulldf = pd.read_csv(latestdir+'/05_bekraeftede_tilfaelde_doede_pr_region_pr_alders_grp.csv',delimiter = ';',dtype=str,encoding='latin-1') \n",
    "# fulldf = pd.read_csv(latestdir+'/11_noegletal_pr_region_pr_aldersgruppe.csv',delimiter = ';',encoding='latin-1') \n",
    "\n",
    "fulldf = pd.read_csv(latestdir+'/03_bekraeftede_tilfaelde_doede_indlagte_pr_dag_pr_koen.csv',delimiter = ';',encoding='latin-1') "
   ]
  },
  {
   "cell_type": "code",
   "execution_count": 4,
   "metadata": {},
   "outputs": [],
   "source": [
    "# fulldf[fulldf.Aldersgruppe == '20-29']['Bekræftede tilfælde'].sum()\n",
    "# fulldf['Bekræftede tilfælde'].sum()\n",
    "\n"
   ]
  },
  {
   "cell_type": "code",
   "execution_count": 5,
   "metadata": {},
   "outputs": [],
   "source": [
    "df = pd.read_csv(latestdir+'/03_bekraeftede_tilfaelde_doede_indlagte_pr_dag_pr_koen.csv',delimiter = ';',encoding='latin-1') \n",
    "df[\"Prøvetagningsdato\"] = df[\"Prøvetagningsdato\"].astype('datetime64[D]')"
   ]
  },
  {
   "cell_type": "code",
   "execution_count": 6,
   "metadata": {
    "tags": []
   },
   "outputs": [],
   "source": [
    "# curDates = pd.to_datetime(df[df.Region == 'Hovedstaden']['Prøvetagningsdato'])\n",
    "# curCases = df[df.Region == 'Hovedstaden']['Bekræftede tilfælde']\n",
    "\n",
    "allDates = df['Prøvetagningsdato'].unique()\n",
    "\n",
    "curDates = []\n",
    "curCases = []\n",
    "\n",
    "for da in allDates:\n",
    "\n",
    "    # curDate = da\n",
    "    curCount = df[df['Prøvetagningsdato']==da]['Bekræftede tilfælde'].sum()\n",
    "\n",
    "    curDates.append(da)\n",
    "    curCases.append(curCount)\n",
    "\n",
    "\n",
    "# df[df['Prøvetagningsdato']==da]['Bekræftede tilfælde'].sum()"
   ]
  },
  {
   "cell_type": "code",
   "execution_count": 22,
   "metadata": {},
   "outputs": [
    {
     "output_type": "display_data",
     "data": {
      "text/plain": "Canvas(toolbar=Toolbar(toolitems=[('Home', 'Reset original view', 'home', 'home'), ('Back', 'Back to previous …",
      "application/vnd.jupyter.widget-view+json": {
       "version_major": 2,
       "version_minor": 0,
       "model_id": "c483862f4e6e4134b92f43906a3ffb12"
      }
     },
     "metadata": {}
    }
   ],
   "source": [
    "fig,ax1 = plt.subplots()\n",
    "\n",
    "# # Show mondays\n",
    "# testMonday = np.datetime64('2021-05-17')\n",
    "# numMondays = 30\n",
    "# for m in range(0,numMondays):\n",
    "#     # ax1.bar(testMonday-np.timedelta64(m*7,'D'),curMax,color='grey',width=0.1)\n",
    "#     ax1.axvline(x=testMonday-np.timedelta64(m*7,'D'),color='lightgrey')\n",
    "    \n",
    "curMax = max(curCases[-100:])*1.1\n",
    "\n",
    "# Show weekend\n",
    "testSat = np.datetime64('2021-01-02')\n",
    "numWeeks = 30\n",
    "for m in range(0,numWeeks):\n",
    "    ax1.bar(testSat+np.timedelta64(m*7,'D') + np.timedelta64(12,'h'),curMax,color='grey',width=np.timedelta64(48,'h'))\n",
    "    # ax1.axvline(x=testMonday-np.timedelta64(m*7,'D'),color='lightgrey')\n",
    "\n",
    "ax1.bar(testSat+np.timedelta64(m*7,'D') + np.timedelta64(12,'h'),curMax,color='grey',width=np.timedelta64(48,'h'),label='Weekend')\n",
    "\n",
    "ax1.plot(curDates,curCases,'k.:',linewidth=0.5,label='Data')\n",
    "meanWidth = 7\n",
    "ax1.plot(rnTime(curDates,meanWidth),rnMean(curCases,meanWidth),'k',label='7 dages løbende gennemsnit')\n",
    "\n",
    "\n",
    "\n",
    "ax1.xaxis.set_major_formatter(mdates.DateFormatter('%d\\n%b'))\n",
    "\n",
    "ax1.set_xlim(left=np.datetime64('2021-02-01'), right=np.datetime64(date.today())+np.timedelta64(1,'D'))\n",
    "ax1.set_ylim([0,curMax])\n",
    "\n",
    "ax1.set_ylabel('Antal bekræftede tilfælde')\n",
    "\n",
    "\n",
    "ax1.legend()\n",
    "\n",
    "plt.tight_layout()\n",
    "\n",
    "if saveFigures:\n",
    "    plt.savefig('figs/CasesFromDashboard_Total')"
   ]
  },
  {
   "cell_type": "code",
   "execution_count": 8,
   "metadata": {},
   "outputs": [
    {
     "output_type": "execute_result",
     "data": {
      "text/plain": [
       "264609"
      ]
     },
     "metadata": {},
     "execution_count": 8
    }
   ],
   "source": [
    "sum(curCases)"
   ]
  },
  {
   "cell_type": "code",
   "execution_count": 9,
   "metadata": {},
   "outputs": [
    {
     "output_type": "execute_result",
     "data": {
      "text/plain": [
       "[numpy.datetime64('2021-05-11T00:00:00.000000000'),\n",
       " numpy.datetime64('2021-05-12T00:00:00.000000000'),\n",
       " numpy.datetime64('2021-05-13T00:00:00.000000000'),\n",
       " numpy.datetime64('2021-05-14T00:00:00.000000000'),\n",
       " numpy.datetime64('2021-05-15T00:00:00.000000000'),\n",
       " numpy.datetime64('2021-05-16T00:00:00.000000000')]"
      ]
     },
     "metadata": {},
     "execution_count": 9
    }
   ],
   "source": [
    "curDates[-6:]"
   ]
  },
  {
   "cell_type": "code",
   "execution_count": 10,
   "metadata": {},
   "outputs": [
    {
     "output_type": "execute_result",
     "data": {
      "text/plain": [
       "[1286, 1144, 895, 867, 932, 272]"
      ]
     },
     "metadata": {},
     "execution_count": 10
    }
   ],
   "source": [
    "curCases[-6:]"
   ]
  },
  {
   "cell_type": "code",
   "execution_count": 11,
   "metadata": {},
   "outputs": [
    {
     "output_type": "execute_result",
     "data": {
      "text/plain": [
       "           Region Prøvetagningsdato Køn  Bekræftede tilfælde  Døde  \\\n",
       "0        Sjælland        2020-02-26   M                    1     0   \n",
       "1     Hovedstaden        2020-02-27   M                    1     0   \n",
       "2     Midtjylland        2020-02-28   M                    1     0   \n",
       "3     Hovedstaden        2020-03-01   M                    1     0   \n",
       "4     Hovedstaden        2020-03-02   M                    2     0   \n",
       "5        Sjælland        2020-03-02   M                    1     0   \n",
       "6      Syddanmark        2020-03-02   M                    1     0   \n",
       "7     Hovedstaden        2020-03-03   F                    1     0   \n",
       "8     Hovedstaden        2020-03-03   M                    3     0   \n",
       "9     Hovedstaden        2020-03-04   M                    2     0   \n",
       "10       Sjælland        2020-03-04   M                    1     0   \n",
       "11    Hovedstaden        2020-03-05   F                    4     1   \n",
       "12    Hovedstaden        2020-03-05   M                    6     1   \n",
       "13    Nordjylland        2020-03-06   M                    1     0   \n",
       "14       Sjælland        2020-03-06   M                    1     0   \n",
       "15    Hovedstaden        2020-03-07   F                    5     0   \n",
       "16    Hovedstaden        2020-03-07   M                    3     0   \n",
       "17    Midtjylland        2020-03-07   M                    1     0   \n",
       "18    Hovedstaden        2020-03-08   F                    8     0   \n",
       "19    Midtjylland        2020-03-08   F                    6     0   \n",
       "20       Sjælland        2020-03-08   F                    2     0   \n",
       "21     Syddanmark        2020-03-08   F                    1     0   \n",
       "22    Hovedstaden        2020-03-08   M                    4     0   \n",
       "23    Midtjylland        2020-03-08   M                   16     0   \n",
       "24    Nordjylland        2020-03-08   M                    1     0   \n",
       "...           ...               ...  ..                  ...   ...   \n",
       "4076  Hovedstaden        2021-05-14   M                  210     0   \n",
       "4077  Midtjylland        2021-05-14   M                   79     0   \n",
       "4078  Nordjylland        2021-05-14   M                   34     0   \n",
       "4079     Sjælland        2021-05-14   M                   57     0   \n",
       "4080   Syddanmark        2021-05-14   M                   54     0   \n",
       "4081  Hovedstaden        2021-05-15   F                  214     0   \n",
       "4082  Midtjylland        2021-05-15   F                   83     0   \n",
       "4083  Nordjylland        2021-05-15   F                   43     0   \n",
       "4084     Sjælland        2021-05-15   F                   68     0   \n",
       "4085   Syddanmark        2021-05-15   F                   54     0   \n",
       "4086  Hovedstaden        2021-05-15   M                  196     0   \n",
       "4087  Midtjylland        2021-05-15   M                  108     0   \n",
       "4088  Nordjylland        2021-05-15   M                   55     0   \n",
       "4089     Sjælland        2021-05-15   M                   64     0   \n",
       "4090   Syddanmark        2021-05-15   M                   47     0   \n",
       "4091  Hovedstaden        2021-05-16   F                   57     0   \n",
       "4092  Midtjylland        2021-05-16   F                   20     0   \n",
       "4093  Nordjylland        2021-05-16   F                    9     0   \n",
       "4094     Sjælland        2021-05-16   F                   22     0   \n",
       "4095   Syddanmark        2021-05-16   F                   23     0   \n",
       "4096  Hovedstaden        2021-05-16   M                   67     0   \n",
       "4097  Midtjylland        2021-05-16   M                   28     0   \n",
       "4098  Nordjylland        2021-05-16   M                   11     0   \n",
       "4099     Sjælland        2021-05-16   M                   24     0   \n",
       "4100   Syddanmark        2021-05-16   M                   11     0   \n",
       "\n",
       "      Indlæggelser  Kummuleret antal døde  \\\n",
       "0                0                      0   \n",
       "1                0                      0   \n",
       "2                0                      0   \n",
       "3                1                      0   \n",
       "4                1                      0   \n",
       "5                0                      0   \n",
       "6                0                      0   \n",
       "7                0                      0   \n",
       "8                1                      0   \n",
       "9                0                      0   \n",
       "10               1                      0   \n",
       "11               1                      1   \n",
       "12               2                      2   \n",
       "13               0                      2   \n",
       "14               1                      2   \n",
       "15               1                      2   \n",
       "16               1                      2   \n",
       "17               0                      2   \n",
       "18               0                      2   \n",
       "19               0                      2   \n",
       "20               1                      2   \n",
       "21               0                      2   \n",
       "22               1                      2   \n",
       "23               0                      2   \n",
       "24               0                      2   \n",
       "...            ...                    ...   \n",
       "4076             2                   2491   \n",
       "4077             1                   2491   \n",
       "4078             1                   2491   \n",
       "4079             3                   2491   \n",
       "4080             0                   2491   \n",
       "4081             0                   2491   \n",
       "4082             1                   2491   \n",
       "4083             0                   2491   \n",
       "4084             3                   2491   \n",
       "4085             1                   2491   \n",
       "4086             2                   2491   \n",
       "4087             2                   2491   \n",
       "4088             0                   2491   \n",
       "4089             0                   2491   \n",
       "4090             0                   2491   \n",
       "4091             0                   2491   \n",
       "4092             0                   2491   \n",
       "4093             0                   2491   \n",
       "4094             1                   2491   \n",
       "4095             2                   2491   \n",
       "4096             2                   2491   \n",
       "4097             1                   2491   \n",
       "4098             0                   2491   \n",
       "4099             0                   2491   \n",
       "4100             0                   2491   \n",
       "\n",
       "      Kummuleret antal bekræftede tilfælde  Kummuleret antal indlæggelser  \n",
       "0                                        1                              0  \n",
       "1                                        2                              0  \n",
       "2                                        3                              0  \n",
       "3                                        4                              1  \n",
       "4                                        6                              2  \n",
       "5                                        7                              2  \n",
       "6                                        8                              2  \n",
       "7                                        9                              2  \n",
       "8                                       12                              3  \n",
       "9                                       14                              3  \n",
       "10                                      15                              4  \n",
       "11                                      19                              5  \n",
       "12                                      25                              7  \n",
       "13                                      26                              7  \n",
       "14                                      27                              8  \n",
       "15                                      32                              9  \n",
       "16                                      35                             10  \n",
       "17                                      36                             10  \n",
       "18                                      44                             10  \n",
       "19                                      50                             10  \n",
       "20                                      52                             11  \n",
       "21                                      53                             11  \n",
       "22                                      57                             12  \n",
       "23                                      73                             12  \n",
       "24                                      74                             12  \n",
       "...                                    ...                            ...  \n",
       "4076                                263181                          14666  \n",
       "4077                                263260                          14667  \n",
       "4078                                263294                          14668  \n",
       "4079                                263351                          14671  \n",
       "4080                                263405                          14671  \n",
       "4081                                263619                          14671  \n",
       "4082                                263702                          14672  \n",
       "4083                                263745                          14672  \n",
       "4084                                263813                          14675  \n",
       "4085                                263867                          14676  \n",
       "4086                                264063                          14678  \n",
       "4087                                264171                          14680  \n",
       "4088                                264226                          14680  \n",
       "4089                                264290                          14680  \n",
       "4090                                264337                          14680  \n",
       "4091                                264394                          14680  \n",
       "4092                                264414                          14680  \n",
       "4093                                264423                          14680  \n",
       "4094                                264445                          14681  \n",
       "4095                                264468                          14683  \n",
       "4096                                264535                          14685  \n",
       "4097                                264563                          14686  \n",
       "4098                                264574                          14686  \n",
       "4099                                264598                          14686  \n",
       "4100                                264609                          14686  \n",
       "\n",
       "[4101 rows x 9 columns]"
      ],
      "text/html": "<div>\n<style scoped>\n    .dataframe tbody tr th:only-of-type {\n        vertical-align: middle;\n    }\n\n    .dataframe tbody tr th {\n        vertical-align: top;\n    }\n\n    .dataframe thead th {\n        text-align: right;\n    }\n</style>\n<table border=\"1\" class=\"dataframe\">\n  <thead>\n    <tr style=\"text-align: right;\">\n      <th></th>\n      <th>Region</th>\n      <th>Prøvetagningsdato</th>\n      <th>Køn</th>\n      <th>Bekræftede tilfælde</th>\n      <th>Døde</th>\n      <th>Indlæggelser</th>\n      <th>Kummuleret antal døde</th>\n      <th>Kummuleret antal bekræftede tilfælde</th>\n      <th>Kummuleret antal indlæggelser</th>\n    </tr>\n  </thead>\n  <tbody>\n    <tr>\n      <th>0</th>\n      <td>Sjælland</td>\n      <td>2020-02-26</td>\n      <td>M</td>\n      <td>1</td>\n      <td>0</td>\n      <td>0</td>\n      <td>0</td>\n      <td>1</td>\n      <td>0</td>\n    </tr>\n    <tr>\n      <th>1</th>\n      <td>Hovedstaden</td>\n      <td>2020-02-27</td>\n      <td>M</td>\n      <td>1</td>\n      <td>0</td>\n      <td>0</td>\n      <td>0</td>\n      <td>2</td>\n      <td>0</td>\n    </tr>\n    <tr>\n      <th>2</th>\n      <td>Midtjylland</td>\n      <td>2020-02-28</td>\n      <td>M</td>\n      <td>1</td>\n      <td>0</td>\n      <td>0</td>\n      <td>0</td>\n      <td>3</td>\n      <td>0</td>\n    </tr>\n    <tr>\n      <th>3</th>\n      <td>Hovedstaden</td>\n      <td>2020-03-01</td>\n      <td>M</td>\n      <td>1</td>\n      <td>0</td>\n      <td>1</td>\n      <td>0</td>\n      <td>4</td>\n      <td>1</td>\n    </tr>\n    <tr>\n      <th>4</th>\n      <td>Hovedstaden</td>\n      <td>2020-03-02</td>\n      <td>M</td>\n      <td>2</td>\n      <td>0</td>\n      <td>1</td>\n      <td>0</td>\n      <td>6</td>\n      <td>2</td>\n    </tr>\n    <tr>\n      <th>5</th>\n      <td>Sjælland</td>\n      <td>2020-03-02</td>\n      <td>M</td>\n      <td>1</td>\n      <td>0</td>\n      <td>0</td>\n      <td>0</td>\n      <td>7</td>\n      <td>2</td>\n    </tr>\n    <tr>\n      <th>6</th>\n      <td>Syddanmark</td>\n      <td>2020-03-02</td>\n      <td>M</td>\n      <td>1</td>\n      <td>0</td>\n      <td>0</td>\n      <td>0</td>\n      <td>8</td>\n      <td>2</td>\n    </tr>\n    <tr>\n      <th>7</th>\n      <td>Hovedstaden</td>\n      <td>2020-03-03</td>\n      <td>F</td>\n      <td>1</td>\n      <td>0</td>\n      <td>0</td>\n      <td>0</td>\n      <td>9</td>\n      <td>2</td>\n    </tr>\n    <tr>\n      <th>8</th>\n      <td>Hovedstaden</td>\n      <td>2020-03-03</td>\n      <td>M</td>\n      <td>3</td>\n      <td>0</td>\n      <td>1</td>\n      <td>0</td>\n      <td>12</td>\n      <td>3</td>\n    </tr>\n    <tr>\n      <th>9</th>\n      <td>Hovedstaden</td>\n      <td>2020-03-04</td>\n      <td>M</td>\n      <td>2</td>\n      <td>0</td>\n      <td>0</td>\n      <td>0</td>\n      <td>14</td>\n      <td>3</td>\n    </tr>\n    <tr>\n      <th>10</th>\n      <td>Sjælland</td>\n      <td>2020-03-04</td>\n      <td>M</td>\n      <td>1</td>\n      <td>0</td>\n      <td>1</td>\n      <td>0</td>\n      <td>15</td>\n      <td>4</td>\n    </tr>\n    <tr>\n      <th>11</th>\n      <td>Hovedstaden</td>\n      <td>2020-03-05</td>\n      <td>F</td>\n      <td>4</td>\n      <td>1</td>\n      <td>1</td>\n      <td>1</td>\n      <td>19</td>\n      <td>5</td>\n    </tr>\n    <tr>\n      <th>12</th>\n      <td>Hovedstaden</td>\n      <td>2020-03-05</td>\n      <td>M</td>\n      <td>6</td>\n      <td>1</td>\n      <td>2</td>\n      <td>2</td>\n      <td>25</td>\n      <td>7</td>\n    </tr>\n    <tr>\n      <th>13</th>\n      <td>Nordjylland</td>\n      <td>2020-03-06</td>\n      <td>M</td>\n      <td>1</td>\n      <td>0</td>\n      <td>0</td>\n      <td>2</td>\n      <td>26</td>\n      <td>7</td>\n    </tr>\n    <tr>\n      <th>14</th>\n      <td>Sjælland</td>\n      <td>2020-03-06</td>\n      <td>M</td>\n      <td>1</td>\n      <td>0</td>\n      <td>1</td>\n      <td>2</td>\n      <td>27</td>\n      <td>8</td>\n    </tr>\n    <tr>\n      <th>15</th>\n      <td>Hovedstaden</td>\n      <td>2020-03-07</td>\n      <td>F</td>\n      <td>5</td>\n      <td>0</td>\n      <td>1</td>\n      <td>2</td>\n      <td>32</td>\n      <td>9</td>\n    </tr>\n    <tr>\n      <th>16</th>\n      <td>Hovedstaden</td>\n      <td>2020-03-07</td>\n      <td>M</td>\n      <td>3</td>\n      <td>0</td>\n      <td>1</td>\n      <td>2</td>\n      <td>35</td>\n      <td>10</td>\n    </tr>\n    <tr>\n      <th>17</th>\n      <td>Midtjylland</td>\n      <td>2020-03-07</td>\n      <td>M</td>\n      <td>1</td>\n      <td>0</td>\n      <td>0</td>\n      <td>2</td>\n      <td>36</td>\n      <td>10</td>\n    </tr>\n    <tr>\n      <th>18</th>\n      <td>Hovedstaden</td>\n      <td>2020-03-08</td>\n      <td>F</td>\n      <td>8</td>\n      <td>0</td>\n      <td>0</td>\n      <td>2</td>\n      <td>44</td>\n      <td>10</td>\n    </tr>\n    <tr>\n      <th>19</th>\n      <td>Midtjylland</td>\n      <td>2020-03-08</td>\n      <td>F</td>\n      <td>6</td>\n      <td>0</td>\n      <td>0</td>\n      <td>2</td>\n      <td>50</td>\n      <td>10</td>\n    </tr>\n    <tr>\n      <th>20</th>\n      <td>Sjælland</td>\n      <td>2020-03-08</td>\n      <td>F</td>\n      <td>2</td>\n      <td>0</td>\n      <td>1</td>\n      <td>2</td>\n      <td>52</td>\n      <td>11</td>\n    </tr>\n    <tr>\n      <th>21</th>\n      <td>Syddanmark</td>\n      <td>2020-03-08</td>\n      <td>F</td>\n      <td>1</td>\n      <td>0</td>\n      <td>0</td>\n      <td>2</td>\n      <td>53</td>\n      <td>11</td>\n    </tr>\n    <tr>\n      <th>22</th>\n      <td>Hovedstaden</td>\n      <td>2020-03-08</td>\n      <td>M</td>\n      <td>4</td>\n      <td>0</td>\n      <td>1</td>\n      <td>2</td>\n      <td>57</td>\n      <td>12</td>\n    </tr>\n    <tr>\n      <th>23</th>\n      <td>Midtjylland</td>\n      <td>2020-03-08</td>\n      <td>M</td>\n      <td>16</td>\n      <td>0</td>\n      <td>0</td>\n      <td>2</td>\n      <td>73</td>\n      <td>12</td>\n    </tr>\n    <tr>\n      <th>24</th>\n      <td>Nordjylland</td>\n      <td>2020-03-08</td>\n      <td>M</td>\n      <td>1</td>\n      <td>0</td>\n      <td>0</td>\n      <td>2</td>\n      <td>74</td>\n      <td>12</td>\n    </tr>\n    <tr>\n      <th>...</th>\n      <td>...</td>\n      <td>...</td>\n      <td>...</td>\n      <td>...</td>\n      <td>...</td>\n      <td>...</td>\n      <td>...</td>\n      <td>...</td>\n      <td>...</td>\n    </tr>\n    <tr>\n      <th>4076</th>\n      <td>Hovedstaden</td>\n      <td>2021-05-14</td>\n      <td>M</td>\n      <td>210</td>\n      <td>0</td>\n      <td>2</td>\n      <td>2491</td>\n      <td>263181</td>\n      <td>14666</td>\n    </tr>\n    <tr>\n      <th>4077</th>\n      <td>Midtjylland</td>\n      <td>2021-05-14</td>\n      <td>M</td>\n      <td>79</td>\n      <td>0</td>\n      <td>1</td>\n      <td>2491</td>\n      <td>263260</td>\n      <td>14667</td>\n    </tr>\n    <tr>\n      <th>4078</th>\n      <td>Nordjylland</td>\n      <td>2021-05-14</td>\n      <td>M</td>\n      <td>34</td>\n      <td>0</td>\n      <td>1</td>\n      <td>2491</td>\n      <td>263294</td>\n      <td>14668</td>\n    </tr>\n    <tr>\n      <th>4079</th>\n      <td>Sjælland</td>\n      <td>2021-05-14</td>\n      <td>M</td>\n      <td>57</td>\n      <td>0</td>\n      <td>3</td>\n      <td>2491</td>\n      <td>263351</td>\n      <td>14671</td>\n    </tr>\n    <tr>\n      <th>4080</th>\n      <td>Syddanmark</td>\n      <td>2021-05-14</td>\n      <td>M</td>\n      <td>54</td>\n      <td>0</td>\n      <td>0</td>\n      <td>2491</td>\n      <td>263405</td>\n      <td>14671</td>\n    </tr>\n    <tr>\n      <th>4081</th>\n      <td>Hovedstaden</td>\n      <td>2021-05-15</td>\n      <td>F</td>\n      <td>214</td>\n      <td>0</td>\n      <td>0</td>\n      <td>2491</td>\n      <td>263619</td>\n      <td>14671</td>\n    </tr>\n    <tr>\n      <th>4082</th>\n      <td>Midtjylland</td>\n      <td>2021-05-15</td>\n      <td>F</td>\n      <td>83</td>\n      <td>0</td>\n      <td>1</td>\n      <td>2491</td>\n      <td>263702</td>\n      <td>14672</td>\n    </tr>\n    <tr>\n      <th>4083</th>\n      <td>Nordjylland</td>\n      <td>2021-05-15</td>\n      <td>F</td>\n      <td>43</td>\n      <td>0</td>\n      <td>0</td>\n      <td>2491</td>\n      <td>263745</td>\n      <td>14672</td>\n    </tr>\n    <tr>\n      <th>4084</th>\n      <td>Sjælland</td>\n      <td>2021-05-15</td>\n      <td>F</td>\n      <td>68</td>\n      <td>0</td>\n      <td>3</td>\n      <td>2491</td>\n      <td>263813</td>\n      <td>14675</td>\n    </tr>\n    <tr>\n      <th>4085</th>\n      <td>Syddanmark</td>\n      <td>2021-05-15</td>\n      <td>F</td>\n      <td>54</td>\n      <td>0</td>\n      <td>1</td>\n      <td>2491</td>\n      <td>263867</td>\n      <td>14676</td>\n    </tr>\n    <tr>\n      <th>4086</th>\n      <td>Hovedstaden</td>\n      <td>2021-05-15</td>\n      <td>M</td>\n      <td>196</td>\n      <td>0</td>\n      <td>2</td>\n      <td>2491</td>\n      <td>264063</td>\n      <td>14678</td>\n    </tr>\n    <tr>\n      <th>4087</th>\n      <td>Midtjylland</td>\n      <td>2021-05-15</td>\n      <td>M</td>\n      <td>108</td>\n      <td>0</td>\n      <td>2</td>\n      <td>2491</td>\n      <td>264171</td>\n      <td>14680</td>\n    </tr>\n    <tr>\n      <th>4088</th>\n      <td>Nordjylland</td>\n      <td>2021-05-15</td>\n      <td>M</td>\n      <td>55</td>\n      <td>0</td>\n      <td>0</td>\n      <td>2491</td>\n      <td>264226</td>\n      <td>14680</td>\n    </tr>\n    <tr>\n      <th>4089</th>\n      <td>Sjælland</td>\n      <td>2021-05-15</td>\n      <td>M</td>\n      <td>64</td>\n      <td>0</td>\n      <td>0</td>\n      <td>2491</td>\n      <td>264290</td>\n      <td>14680</td>\n    </tr>\n    <tr>\n      <th>4090</th>\n      <td>Syddanmark</td>\n      <td>2021-05-15</td>\n      <td>M</td>\n      <td>47</td>\n      <td>0</td>\n      <td>0</td>\n      <td>2491</td>\n      <td>264337</td>\n      <td>14680</td>\n    </tr>\n    <tr>\n      <th>4091</th>\n      <td>Hovedstaden</td>\n      <td>2021-05-16</td>\n      <td>F</td>\n      <td>57</td>\n      <td>0</td>\n      <td>0</td>\n      <td>2491</td>\n      <td>264394</td>\n      <td>14680</td>\n    </tr>\n    <tr>\n      <th>4092</th>\n      <td>Midtjylland</td>\n      <td>2021-05-16</td>\n      <td>F</td>\n      <td>20</td>\n      <td>0</td>\n      <td>0</td>\n      <td>2491</td>\n      <td>264414</td>\n      <td>14680</td>\n    </tr>\n    <tr>\n      <th>4093</th>\n      <td>Nordjylland</td>\n      <td>2021-05-16</td>\n      <td>F</td>\n      <td>9</td>\n      <td>0</td>\n      <td>0</td>\n      <td>2491</td>\n      <td>264423</td>\n      <td>14680</td>\n    </tr>\n    <tr>\n      <th>4094</th>\n      <td>Sjælland</td>\n      <td>2021-05-16</td>\n      <td>F</td>\n      <td>22</td>\n      <td>0</td>\n      <td>1</td>\n      <td>2491</td>\n      <td>264445</td>\n      <td>14681</td>\n    </tr>\n    <tr>\n      <th>4095</th>\n      <td>Syddanmark</td>\n      <td>2021-05-16</td>\n      <td>F</td>\n      <td>23</td>\n      <td>0</td>\n      <td>2</td>\n      <td>2491</td>\n      <td>264468</td>\n      <td>14683</td>\n    </tr>\n    <tr>\n      <th>4096</th>\n      <td>Hovedstaden</td>\n      <td>2021-05-16</td>\n      <td>M</td>\n      <td>67</td>\n      <td>0</td>\n      <td>2</td>\n      <td>2491</td>\n      <td>264535</td>\n      <td>14685</td>\n    </tr>\n    <tr>\n      <th>4097</th>\n      <td>Midtjylland</td>\n      <td>2021-05-16</td>\n      <td>M</td>\n      <td>28</td>\n      <td>0</td>\n      <td>1</td>\n      <td>2491</td>\n      <td>264563</td>\n      <td>14686</td>\n    </tr>\n    <tr>\n      <th>4098</th>\n      <td>Nordjylland</td>\n      <td>2021-05-16</td>\n      <td>M</td>\n      <td>11</td>\n      <td>0</td>\n      <td>0</td>\n      <td>2491</td>\n      <td>264574</td>\n      <td>14686</td>\n    </tr>\n    <tr>\n      <th>4099</th>\n      <td>Sjælland</td>\n      <td>2021-05-16</td>\n      <td>M</td>\n      <td>24</td>\n      <td>0</td>\n      <td>0</td>\n      <td>2491</td>\n      <td>264598</td>\n      <td>14686</td>\n    </tr>\n    <tr>\n      <th>4100</th>\n      <td>Syddanmark</td>\n      <td>2021-05-16</td>\n      <td>M</td>\n      <td>11</td>\n      <td>0</td>\n      <td>0</td>\n      <td>2491</td>\n      <td>264609</td>\n      <td>14686</td>\n    </tr>\n  </tbody>\n</table>\n<p>4101 rows × 9 columns</p>\n</div>"
     },
     "metadata": {},
     "execution_count": 11
    }
   ],
   "source": [
    "df"
   ]
  }
 ]
}