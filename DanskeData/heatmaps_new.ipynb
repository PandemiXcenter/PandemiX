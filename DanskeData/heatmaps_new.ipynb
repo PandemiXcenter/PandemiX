{
 "cells": [
  {
   "cell_type": "code",
   "execution_count": 38,
   "source": [
    "# New notebook for heatmaps, based on daily data\r\n",
    "import numpy as np\r\n",
    "import pandas as pd\r\n",
    "pd.set_option('display.max_rows', 500)\r\n",
    "pd.set_option('display.min_rows', 50)\r\n",
    "\r\n",
    "\r\n",
    "import matplotlib.pyplot as plt\r\n",
    "%matplotlib widget\r\n",
    "plt.rcParams['figure.figsize'] = (12,8)\r\n",
    "plt.rcParams[\"image.cmap\"] = \"tab10\"\r\n",
    "plt.rcParams['axes.prop_cycle'] = plt.cycler(color=plt.cm.tab10.colors)\r\n",
    "fs_label = 16\r\n",
    "parameters = {\r\n",
    "                'axes.labelsize': fs_label,\r\n",
    "                'axes.titlesize': fs_label+4,\r\n",
    "                'xtick.labelsize': fs_label,\r\n",
    "                'ytick.labelsize': fs_label, \r\n",
    "                'legend.fontsize': fs_label, \r\n",
    "                'lines.markersize': 10,\r\n",
    "                'lines.linewidth': 3\r\n",
    "             }\r\n",
    "plt.rcParams.update(parameters)\r\n",
    "%matplotlib widget\r\n",
    "import matplotlib.colors as colors\r\n",
    "from matplotlib import cm # Colormaps\r\n",
    "\r\n",
    "cmap = cm.get_cmap('Dark2',7)\r\n",
    "\r\n",
    "import locale\r\n",
    "import matplotlib.dates as mdates\r\n",
    "locale.setlocale(locale.LC_TIME,\"Danish\")\r\n",
    "# ax = plt.gca()\r\n",
    "# ax1.xaxis.set_major_formatter(mdates.DateFormatter('%b\\n%Y'))\r\n",
    "# # ax.xaxis.set_major_formatter(mdates.DateFormatter('%Y \\n %B'))\r\n",
    "\r\n",
    "import seaborn as sns\r\n",
    "\r\n",
    "import os\r\n",
    "import math\r\n",
    "\r\n",
    "from datetime import date\r\n",
    "import datetime\r\n",
    "\r\n",
    "saveFigures = True\r\n",
    "print('saveFigures is set to: '+str(saveFigures))\r\n",
    "print('Done loading packages')\r\n",
    "\r\n",
    "def rnMean(data,meanWidth):\r\n",
    "    return np.convolve(data, np.ones(meanWidth)/meanWidth, mode='valid')\r\n",
    "def rnTime(t,meanWidth):\r\n",
    "    return t[math.floor(meanWidth/2):-math.ceil(meanWidth/2)+1]\r\n",
    "def rnTime2(t,meanWidth):\r\n",
    "    return t[meanWidth-1:]\r\n"
   ],
   "outputs": [
    {
     "output_type": "stream",
     "name": "stdout",
     "text": [
      "saveFigures is set to: True\n",
      "Done loading packages\n"
     ]
    }
   ],
   "metadata": {}
  },
  {
   "cell_type": "code",
   "execution_count": 39,
   "source": [
    "dashDir = 'ssi_dashboard/'\r\n",
    "\r\n",
    "rootdir = os.getcwd() +\"\\\\\" + dashDir\r\n",
    "\r\n",
    "\r\n",
    "# for subdir, dirs, files in os.walk(rootdir):\r\n",
    "#     print(dirs)\r\n",
    "#     if not len(dirs) == 0:\r\n",
    "#         latestdir = subdir\r\n",
    "#         # latestDate = pd.to_datetime(subdir[-10:])\r\n",
    "#     # print(files)\r\n",
    "#     # print(dirs[-1])\r\n",
    "\r\n",
    "for f in os.scandir(rootdir):\r\n",
    "    curPath = f.path\r\n",
    "    latestdir = curPath\r\n",
    "    latestDate = pd.to_datetime(curPath[-10:])\r\n",
    "\r\n",
    "latestDate"
   ],
   "outputs": [
    {
     "output_type": "execute_result",
     "data": {
      "text/plain": [
       "Timestamp('2021-08-27 00:00:00')"
      ]
     },
     "metadata": {},
     "execution_count": 39
    }
   ],
   "metadata": {}
  },
  {
   "cell_type": "code",
   "execution_count": 40,
   "source": [
    "curFileName = '\\\\Regionalt_DB\\\\05_bekraeftede_tilfaelde_doede_pr_region_pr_alders_grp.csv'\r\n",
    "alldfs = []\r\n",
    "\r\n",
    "# 04_indlagte_pr_alders_grp_pr_region\r\n",
    "\r\n",
    "\r\n",
    "allDates = []\r\n",
    "\r\n",
    "\r\n",
    "for f in os.scandir(rootdir):\r\n",
    "    curPath = f.path\r\n",
    "    latestdir = curPath\r\n",
    "    try:\r\n",
    "        curDate = pd.to_datetime(curPath[-10:])\r\n",
    "\r\n",
    "        \r\n",
    "        curcsvpath = curPath + curFileName\r\n",
    "        curdf = pd.read_csv(curcsvpath,delimiter = ';',dtype=str,encoding='latin-1')\r\n",
    "\r\n",
    "        allDates.append(curDate)\r\n",
    "        alldfs.append(curdf)\r\n",
    "    except:\r\n",
    "        print(curPath)\r\n",
    "    \r\n",
    "print(f'Number of dataframes in alldfs: {len(alldfs)}')\r\n"
   ],
   "outputs": [
    {
     "output_type": "stream",
     "name": "stdout",
     "text": [
      "Number of dataframes in alldfs: 120\n"
     ]
    }
   ],
   "metadata": {}
  },
  {
   "cell_type": "code",
   "execution_count": 41,
   "source": [
    "numDataframe = len(alldfs)\r\n",
    "\r\n",
    "# Whole country, age-split\r\n",
    "allAge = curdf['Alders gruppe'].unique()\r\n",
    "\r\n",
    "dfCase = pd.DataFrame()\r\n",
    "dfDeath = pd.DataFrame()\r\n",
    "\r\n",
    "\r\n",
    "dfCase['Dato'] = allDates\r\n",
    "dfDeath['Dato'] = allDates\r\n",
    "# fullDates = np.arange(allDates[0],allDates[-1],np.timedelta64(1,'D'))\r\n",
    "# dfCase['Dato'] = fullDates\r\n",
    "# dfDeath['Dato'] = fullDates\r\n",
    "\r\n",
    "\r\n",
    "for ag in range(len(allAge)):\r\n",
    "    curAge = allAge[ag]\r\n",
    "\r\n",
    "    allCase = []\r\n",
    "    allDeaths = []\r\n",
    "\r\n",
    "    prevDate = allDates[0]\r\n",
    "\r\n",
    "    for da in range(0,numDataframe):\r\n",
    "        thisdf = alldfs[da]\r\n",
    "        thisdf = thisdf[thisdf['Alders gruppe'] == curAge]\r\n",
    "\r\n",
    "        thisCase = thisdf['Bekræftede tilfælde'].astype(int).sum()\r\n",
    "        thisDeaths = thisdf['Døde'].astype(int).sum()\r\n",
    "\r\n",
    "\r\n",
    "        allCase.append(thisCase)\r\n",
    "        allDeaths.append(thisDeaths) \r\n",
    "\r\n",
    "        # curDate = allDates[da]\r\n",
    "\r\n",
    "        # dateDiff = curDate - prevDate\r\n",
    "        # dateDiff = int((dateDiff/np.timedelta64(1,'D')))\r\n",
    "\r\n",
    "        # if  (dateDiff == 1):\r\n",
    "        #     allCase.append(thisCase)\r\n",
    "        #     allDeaths.append(thisDeaths) \r\n",
    "        # elif (dateDiff == 2):\r\n",
    "        #     allCase.append(thisCase/2)\r\n",
    "        #     allCase.append(thisCase/2)\r\n",
    "        #     allDeaths.append(thisDeaths/2)\r\n",
    "        #     allDeaths.append(thisDeaths/2)\r\n",
    "        # elif (dateDiff == 3):\r\n",
    "        #     allCase.append(thisCase/3)\r\n",
    "        #     allCase.append(thisCase/3)\r\n",
    "        #     allCase.append(thisCase/3)\r\n",
    "        #     allDeaths.append(thisDeaths/3)\r\n",
    "        #     allDeaths.append(thisDeaths/3)\r\n",
    "        #     allDeaths.append(thisDeaths/3)\r\n",
    "        # elif (dateDiff == 4):\r\n",
    "        #     allCase.append(thisCase/4)\r\n",
    "        #     allCase.append(thisCase/4)\r\n",
    "        #     allCase.append(thisCase/4)\r\n",
    "        #     allCase.append(thisCase/4)\r\n",
    "        #     allDeaths.append(thisDeaths/4)\r\n",
    "        #     allDeaths.append(thisDeaths/4)\r\n",
    "        #     allDeaths.append(thisDeaths/4)\r\n",
    "        #     allDeaths.append(thisDeaths/4)\r\n",
    "        # else:\r\n",
    "        #     # print(dateDiff)\r\n",
    "\r\n",
    "\r\n",
    "        # prevDate = curDate \r\n",
    "\r\n",
    "    \r\n",
    "    dfCase[curAge] = allCase\r\n",
    "    dfDeath[curAge] = allDeaths\r\n",
    "\r\n",
    "# dfCase\r\n",
    "# thisdf"
   ],
   "outputs": [],
   "metadata": {}
  },
  {
   "cell_type": "code",
   "execution_count": null,
   "source": [],
   "outputs": [],
   "metadata": {}
  },
  {
   "cell_type": "code",
   "execution_count": 42,
   "source": [
    "# allCase"
   ],
   "outputs": [],
   "metadata": {}
  },
  {
   "cell_type": "code",
   "execution_count": 43,
   "source": [
    "# Calculate difference, and average out weekends\r\n",
    "# dfDeath.diff().iloc[1:]\r\n",
    "\r\n",
    "dfCaseDiff = dfCase.diff().iloc[1:]\r\n",
    "dfDeathDiff = dfDeath.diff().iloc[1:]\r\n",
    "# dfCaseDiff\r\n",
    "\r\n",
    "actualDiffDates = dfCaseDiff.Dato\r\n",
    "actualDiffDates = (actualDiffDates/np.timedelta64(1,'D')).astype(int)\r\n",
    "\r\n",
    "# actualDiffDates\r\n",
    "\r\n",
    "fullDates = np.arange(allDates[0],allDates[-1],np.timedelta64(1,'D'))\r\n",
    "\r\n",
    "dfCaseDiffCorr = dfCaseDiff.copy()\r\n",
    "dfDeathDiffCorr = dfDeathDiff.copy()\r\n",
    "\r\n",
    "for r in range(0,len(dfCaseDiff)):\r\n",
    "    if ((actualDiffDates.values[r]) != 1):\r\n",
    "        # print(dfCaseDiff.iloc[r])\r\n",
    "        curRow = dfCaseDiff.iloc[r]\r\n",
    "        numDays = int(curRow.Dato/np.timedelta64(1,'D'))\r\n",
    "\r\n",
    "        rowToAdd = curRow/numDays\r\n",
    "\r\n",
    "        for k in range(1,numDays+1):\r\n",
    "            dfCaseDiffCorr.loc[r+(0.1*k)] = rowToAdd\r\n",
    "        dfCaseDiffCorr = dfCaseDiffCorr.drop(r+1)\r\n",
    "        \r\n",
    "        # And deaths\r\n",
    "        curRow = dfDeathDiff.iloc[r]\r\n",
    "        numDays = int(curRow.Dato/np.timedelta64(1,'D'))\r\n",
    "\r\n",
    "        rowToAdd = curRow/numDays\r\n",
    "\r\n",
    "        for k in range(1,numDays+1):\r\n",
    "            dfDeathDiffCorr.loc[r+(0.1*k)] = rowToAdd\r\n",
    "        dfDeathDiffCorr = dfDeathDiffCorr.drop(r+1)\r\n",
    "\r\n",
    "        # newdf = pd.concat([dfCaseDiff.iloc[:2], curRow, dfCaseDiff.iloc[2:]]).reset_index(drop=True)\r\n",
    "        \r\n",
    "\r\n",
    "\r\n",
    "dfCaseDiffCorr = dfCaseDiffCorr.sort_index().reset_index(drop=True)\r\n",
    "dfDeathDiffCorr = dfDeathDiffCorr.sort_index().reset_index(drop=True)\r\n",
    "# dfCaseDiffCorr\r\n",
    "dfCaseDiffCorr = dfCaseDiffCorr.iloc[:,1:]\r\n",
    "dfDeathDiffCorr = dfDeathDiffCorr.iloc[:,1:]"
   ],
   "outputs": [],
   "metadata": {}
  },
  {
   "cell_type": "code",
   "execution_count": 44,
   "source": [
    "dfCaseDiffCorrToSave = dfCaseDiffCorr\r\n",
    "dfCaseDiffCorrToSave['Dato'] = fullDates\r\n",
    "dfCaseDiffCorrToSave.to_csv('DKDailyAgeCase.csv',index=False)\r\n",
    "dfDeathDiffCorrToSave = dfDeathDiffCorr\r\n",
    "dfDeathDiffCorrToSave['Dato'] = fullDates\r\n",
    "dfDeathDiffCorrToSave.to_csv('DKDailyAgeDeath.csv',index=False)"
   ],
   "outputs": [],
   "metadata": {}
  },
  {
   "cell_type": "code",
   "execution_count": 45,
   "source": [
    "fig,(ax1,ax2) = plt.subplots(2,1,sharex=True)\r\n",
    "\r\n",
    "cmap = cm.get_cmap('twilight',len(allAge)+1)\r\n",
    "\r\n",
    "for k in range(0,len(allAge)):\r\n",
    "    ag = allAge[k]\r\n",
    "    curVals = dfCaseDiffCorr[ag].values\r\n",
    "    ax1.plot(fullDates,curVals,'.:',color=cmap(k),linewidth=0.5,markersize=2)\r\n",
    "    ax1.plot(rnTime(fullDates,7),rnMean(curVals,7),color=cmap(k),label=ag)\r\n",
    "    \r\n",
    "    curVals = dfDeathDiffCorr[ag].values\r\n",
    "    ax2.plot(fullDates,curVals,'.:',color=cmap(k),linewidth=0.5,markersize=2)\r\n",
    "    ax2.plot(rnTime(fullDates,7),rnMean(curVals,7),color=cmap(k),label=ag)\r\n",
    "\r\n",
    "    \r\n",
    "\r\n",
    "# Draw weekends\r\n",
    "firstSunday = np.datetime64('2021-01-03')\r\n",
    "numWeeks = 52\r\n",
    "for k in range(0,numWeeks):\r\n",
    "    curSunday = firstSunday + np.timedelta64(7*k,'D')\r\n",
    "    ax1.axvspan(curSunday-np.timedelta64(1,'D')-np.timedelta64(12,'h'),curSunday+np.timedelta64(12,'h'),facecolor='lightgrey')\r\n",
    "    ax2.axvspan(curSunday-np.timedelta64(1,'D')-np.timedelta64(12,'h'),curSunday+np.timedelta64(12,'h'),facecolor='lightgrey')\r\n",
    "\r\n",
    "ax1.axvspan(curSunday-np.timedelta64(1,'D')-np.timedelta64(12,'h'),curSunday+np.timedelta64(12,'h'),facecolor='lightgrey',label='Weekend') \r\n",
    "ax1.set_xlim(left=fullDates[3])\r\n",
    "ax1.set_xlim(right=fullDates[-1])\r\n",
    "\r\n",
    "ax1.legend(loc='upper left',fontsize=8)\r\n",
    "\r\n",
    "ax1.set_ylim(bottom=0)\r\n",
    "ax2.set_ylim(bottom=0)\r\n",
    "ax1.xaxis.set_major_formatter(mdates.DateFormatter('%d\\n%B'))\r\n",
    "plt.tight_layout()\r\n"
   ],
   "outputs": [
    {
     "output_type": "display_data",
     "data": {
      "text/plain": [
       "Canvas(toolbar=Toolbar(toolitems=[('Home', 'Reset original view', 'home', 'home'), ('Back', 'Back to previous …"
      ],
      "application/vnd.jupyter.widget-view+json": {
       "version_major": 2,
       "version_minor": 0,
       "model_id": "b99f5fab39d34f669bea7bf82432f351"
      }
     },
     "metadata": {}
    }
   ],
   "metadata": {}
  },
  {
   "cell_type": "code",
   "execution_count": 46,
   "source": [
    "fig,(ax1,ax2) = plt.subplots(2,1,sharex=True)\r\n",
    "\r\n",
    "fig.patch.set_facecolor('lightgrey')\r\n",
    "ax1.set_facecolor('lightgrey')\r\n",
    "ax2.set_facecolor('lightgrey')\r\n",
    "\r\n",
    "cmap = cm.get_cmap('Spectral',len(allAge)+1)\r\n",
    "\r\n",
    "newVals = dfCaseDiffCorr['0-9'].values\r\n",
    "curVals = np.zeros(newVals.shape)\r\n",
    "prevVals = np.zeros(newVals.shape)\r\n",
    "curValsDe = np.zeros(newVals.shape)\r\n",
    "prevValsDe = np.zeros(newVals.shape)\r\n",
    "\r\n",
    "for k in range(0,len(allAge)):\r\n",
    "    ag = allAge[k]\r\n",
    "    newVals = dfCaseDiffCorr[ag].values\r\n",
    "    newValsDe = dfDeathDiffCorr[ag].values\r\n",
    "\r\n",
    "    curVals = curVals + newVals\r\n",
    "    curValsDe = curValsDe + newValsDe\r\n",
    "\r\n",
    "    # ax1.fill_between(fullDates,curVals,prevVals,color=cmap(k))\r\n",
    "    # ax1.fill_between(rnTime(fullDates,7),rnMean(newVals,7),rnMean(prevVals,7),color=cmap(k),label=ag)\r\n",
    "    ax1.fill_between(rnTime(fullDates,7),rnMean(curVals,7),rnMean(prevVals,7),color=cmap(k),label=ag)\r\n",
    "    # ax1.plot(fullDates,curVals,'.:',color=cmap(k),linewidth=0.5,markersize=2)\r\n",
    "    # ax1.plot(rnTime(fullDates,7),rnMean(curVals,7),color=cmap(k),label=ag)\r\n",
    "    \r\n",
    "    # curVals = dfDeathDiffCorr[ag].values\r\n",
    "    # ax2.plot(fullDates,curVals,'.:',color=cmap(k),linewidth=0.5,markersize=2)\r\n",
    "    # ax2.plot(rnTime(fullDates,7),rnMean(curVals,7),color=cmap(k),label=ag)\r\n",
    "    ax2.fill_between(rnTime(fullDates,7),rnMean(curValsDe,7),rnMean(prevValsDe,7),color=cmap(k),label=ag)\r\n",
    "\r\n",
    "\r\n",
    "    prevVals += newVals\r\n",
    "    prevValsDe += newValsDe\r\n",
    "    \r\n",
    "\r\n",
    "# Draw weekends\r\n",
    "firstSunday = np.datetime64('2021-01-03')\r\n",
    "numWeeks = 52\r\n",
    "for k in range(0,numWeeks):\r\n",
    "    curSunday = firstSunday + np.timedelta64(7*k,'D')\r\n",
    "    ax1.axvspan(curSunday-np.timedelta64(1,'D')-np.timedelta64(12,'h'),curSunday+np.timedelta64(12,'h'),zorder=-1,facecolor='grey')\r\n",
    "    ax2.axvspan(curSunday-np.timedelta64(1,'D')-np.timedelta64(12,'h'),curSunday+np.timedelta64(12,'h'),zorder=-1,facecolor='grey')\r\n",
    "\r\n",
    "ax1.axvspan(curSunday-np.timedelta64(1,'D')-np.timedelta64(12,'h'),curSunday+np.timedelta64(12,'h'),facecolor='lightgrey',label='Weekend') \r\n",
    "ax1.set_xlim(left=fullDates[3])\r\n",
    "ax1.set_xlim(right=fullDates[-1])\r\n",
    "\r\n",
    "ax1.legend(loc='upper left',fontsize=8)\r\n",
    "\r\n",
    "ax1.set_ylim(bottom=0)\r\n",
    "ax2.set_ylim(bottom=0)\r\n",
    "ax1.xaxis.set_major_formatter(mdates.DateFormatter('%d\\n%B'))\r\n",
    "plt.tight_layout()\r\n"
   ],
   "outputs": [
    {
     "output_type": "display_data",
     "data": {
      "text/plain": [
       "Canvas(toolbar=Toolbar(toolitems=[('Home', 'Reset original view', 'home', 'home'), ('Back', 'Back to previous …"
      ],
      "application/vnd.jupyter.widget-view+json": {
       "version_major": 2,
       "version_minor": 0,
       "model_id": "7df0a7d631ba477b96cccf23de54ea3b"
      }
     },
     "metadata": {}
    }
   ],
   "metadata": {}
  },
  {
   "cell_type": "code",
   "execution_count": 47,
   "source": [
    "# dfCaseDiffCorr.iloc[:,1:]"
   ],
   "outputs": [],
   "metadata": {}
  },
  {
   "cell_type": "code",
   "execution_count": 48,
   "source": [
    "fig,(ax1,ax2) = plt.subplots(2,1,sharex=True)\r\n",
    "\r\n",
    "bgColor = 'lightgrey'\r\n",
    "fig.patch.set_facecolor(bgColor)\r\n",
    "ax1.set_facecolor(bgColor)\r\n",
    "ax2.set_facecolor(bgColor)\r\n",
    "\r\n",
    "newVals = dfCaseDiffCorr['0-9'].values\r\n",
    "curVals = np.zeros(newVals.shape)\r\n",
    "prevVals = np.zeros(newVals.shape)\r\n",
    "\r\n",
    "# totCase = dfCaseDiffCorr.iloc[:,1:].sum(axis=1)\r\n",
    "totCase = dfCaseDiffCorr.iloc[:,:-1].sum(axis=1)\r\n",
    "totCaseRM = rnMean(totCase,7)\r\n",
    "\r\n",
    "ax1.plot(rnTime(fullDates,7),totCaseRM,'k',linewidth=1,label='Total')\r\n",
    "\r\n",
    "firstDateToShow = np.datetime64('2021-04-01')\r\n",
    "\r\n",
    "cmap = cm.get_cmap('Spectral',len(allAge)+1)\r\n",
    "for k in range(0,len(allAge)):\r\n",
    "    ag = allAge[k]\r\n",
    "    newVals = dfCaseDiffCorr[ag].values\r\n",
    "\r\n",
    "    curVals = curVals + newVals\r\n",
    "\r\n",
    "    ax1.fill_between(rnTime(fullDates,7),rnMean(curVals,7),rnMean(prevVals,7),color=cmap(k),label=ag)\r\n",
    "    \r\n",
    "    ax2.fill_between(rnTime(fullDates,7),100*np.divide(rnMean(curVals,7),totCaseRM),100*np.divide(rnMean(prevVals,7),totCaseRM),color=cmap(k),label=ag)\r\n",
    "\r\n",
    "    # ax2.text(firstDateToShow,(100/totCase[0])*(prevVals[0]),ag)\r\n",
    "    # ax1.text(firstDateToShow,prevVals[0]+curVals[0]/4,ag)\r\n",
    "\r\n",
    "    prevVals += newVals\r\n",
    "    \r\n",
    "\r\n",
    "# Draw weekends\r\n",
    "firstSunday = np.datetime64('2021-01-03')\r\n",
    "numWeeks = 52\r\n",
    "for k in range(0,numWeeks):\r\n",
    "    curSunday = firstSunday + np.timedelta64(7*k,'D')\r\n",
    "    ax1.axvspan(curSunday-np.timedelta64(1,'D')-np.timedelta64(12,'h'),curSunday+np.timedelta64(12,'h'),zorder=-1,facecolor='grey')\r\n",
    "    ax2.axvspan(curSunday-np.timedelta64(1,'D')-np.timedelta64(12,'h'),curSunday+np.timedelta64(12,'h'),zorder=-1,facecolor='grey')\r\n",
    "\r\n",
    "ax1.axvspan(curSunday-np.timedelta64(1,'D')-np.timedelta64(12,'h'),curSunday+np.timedelta64(12,'h'),facecolor='lightgrey',label='Weekend') \r\n",
    "# ax1.set_xlim(left=fullDates[3])\r\n",
    "ax1.set_xlim(left=firstDateToShow)\r\n",
    "ax1.set_xlim(right=fullDates[-1])\r\n",
    "\r\n",
    "ax1.set_ylabel('Tilfælde')\r\n",
    "ax2.set_ylabel('Andel ud af alle tilfælde [%]')\r\n",
    "\r\n",
    "ax2.grid(axis='y')\r\n",
    "\r\n",
    "ax1.legend(loc='upper left',fontsize=8)\r\n",
    "\r\n",
    "ax1.set_ylim(bottom=0)\r\n",
    "ax2.set_ylim(bottom=0,top=100)\r\n",
    "ax1.xaxis.set_major_formatter(mdates.DateFormatter('%d\\n%B'))\r\n",
    "plt.tight_layout()\r\n",
    "\r\n",
    "if saveFigures:\r\n",
    "    plt.savefig('figs/CasesAgeSplit')"
   ],
   "outputs": [
    {
     "output_type": "display_data",
     "data": {
      "text/plain": [
       "Canvas(toolbar=Toolbar(toolitems=[('Home', 'Reset original view', 'home', 'home'), ('Back', 'Back to previous …"
      ],
      "application/vnd.jupyter.widget-view+json": {
       "version_major": 2,
       "version_minor": 0,
       "model_id": "94f80d0cc8804ea68bae8eed5f4fe1ea"
      }
     },
     "metadata": {}
    }
   ],
   "metadata": {}
  },
  {
   "cell_type": "code",
   "execution_count": 49,
   "source": [
    "# pd.to_datetime(daysToUse).strftime('%d.%B')\r\n",
    "# # daysToUse"
   ],
   "outputs": [],
   "metadata": {}
  },
  {
   "cell_type": "code",
   "execution_count": 50,
   "source": [
    "fig,ax1 = plt.subplots()\r\n",
    "\r\n",
    "firstDataPoint = 28\r\n",
    "dfToPlot = dfCaseDiffCorr.iloc[firstDataPoint:,:-1]\r\n",
    "daysToUse = fullDates[firstDataPoint:]\r\n",
    "\r\n",
    "# plt.pcolor(dfCaseDiffCorr.iloc[:,1:])\r\n",
    "# dfCaseDiffCorr \r\n",
    "# dfCaseDiffCorr.heatmap()\r\n",
    "g = sns.heatmap(dfToPlot.transpose(),xticklabels=pd.to_datetime(daysToUse).strftime('%d. %B'))\r\n",
    "# g = sns.heatmap(dfToPlot.transpose())\r\n",
    "curXticks =  g.get_xticks()\r\n",
    "daySkip = 7\r\n",
    "g.set_xticks(curXticks[::daySkip])\r\n",
    "g.set_xticklabels(pd.to_datetime(daysToUse[::daySkip]).strftime('%d. %B'), fontsize =10)\r\n",
    "# g = sns.heatmap(dfCaseDiffCorr,annot=True,fmt=\"1\",cmap='turbo',xticklabels=pd.to_datetime(fullDates).strftime('%d-%b')[1:],yticklabels=dfCaseDiffCorr.columns[:-1])\r\n",
    "# g = sns.heatmap(dfCaseDiffCorr,annot=True,fmt=\"1\",cmap='turbo',xticklabels=pd.to_datetime(fullDates).strftime('%d-%b')[1:],yticklabels=dfCaseDiffCorr.columns[:-1])\r\n",
    "g.invert_yaxis()\r\n",
    "\r\n",
    "plt.title('Daglige tilfælde')\r\n",
    "\r\n",
    "if saveFigures:\r\n",
    "    plt.savefig('figs/HeatmapCasesNew')"
   ],
   "outputs": [
    {
     "output_type": "display_data",
     "data": {
      "text/plain": [
       "Canvas(toolbar=Toolbar(toolitems=[('Home', 'Reset original view', 'home', 'home'), ('Back', 'Back to previous …"
      ],
      "application/vnd.jupyter.widget-view+json": {
       "version_major": 2,
       "version_minor": 0,
       "model_id": "7c6071d1e0554bc69cc6a59975d089ae"
      }
     },
     "metadata": {}
    }
   ],
   "metadata": {}
  },
  {
   "cell_type": "code",
   "execution_count": 51,
   "source": [
    "dfAges = pd.read_excel('DKfolketal2021clean.xlsx')\r\n",
    "DK_age = []\r\n",
    "DK_age.append(dfAges.iloc[0:10].Antal.sum())\r\n",
    "DK_age.append(dfAges.iloc[10:20].Antal.sum())\r\n",
    "DK_age.append(dfAges.iloc[20:30].Antal.sum())\r\n",
    "DK_age.append(dfAges.iloc[30:40].Antal.sum())\r\n",
    "DK_age.append(dfAges.iloc[40:50].Antal.sum())\r\n",
    "DK_age.append(dfAges.iloc[50:60].Antal.sum())\r\n",
    "DK_age.append(dfAges.iloc[60:70].Antal.sum())\r\n",
    "DK_age.append(dfAges.iloc[70:80].Antal.sum())\r\n",
    "DK_age.append(dfAges.iloc[80:90].Antal.sum())\r\n",
    "DK_age.append(dfAges.iloc[90:].Antal.sum())\r\n",
    "DK_age = np.array(DK_age)\r\n",
    "\r\n",
    "# caseValsNorm = dfCase.iloc[:,0:-1].div(DK_age).diff().iloc[1:].values.astype('float64')\r\n",
    "# caseValsNorm = 1000* np.transpose(caseValsNorm)"
   ],
   "outputs": [],
   "metadata": {}
  },
  {
   "cell_type": "code",
   "execution_count": 52,
   "source": [
    "normDF = 10000 * dfCaseDiffCorr.iloc[:,:-1].div(DK_age)\r\n",
    "\r\n",
    "fig,ax1 = plt.subplots()\r\n",
    "\r\n",
    "firstDataPoint = 28\r\n",
    "dfToPlot = normDF.iloc[firstDataPoint:]\r\n",
    "daysToUse = fullDates[firstDataPoint:]\r\n",
    "\r\n",
    "g = sns.heatmap(dfToPlot.transpose(),xticklabels=pd.to_datetime(daysToUse).strftime('%d. %B'))\r\n",
    "curXticks =  g.get_xticks()\r\n",
    "daySkip = 7\r\n",
    "g.set_xticks(curXticks[::daySkip])\r\n",
    "g.set_xticklabels(pd.to_datetime(daysToUse[::daySkip]).strftime('%d. %B'), fontsize =10)\r\n",
    "g.invert_yaxis()\r\n",
    "\r\n",
    "\r\n",
    "plt.title('Daglige tilfælde, per 10.000')\r\n",
    "\r\n",
    "if saveFigures:\r\n",
    "    plt.savefig('figs/HeatmapCasesNormNew')"
   ],
   "outputs": [
    {
     "output_type": "display_data",
     "data": {
      "text/plain": [
       "Canvas(toolbar=Toolbar(toolitems=[('Home', 'Reset original view', 'home', 'home'), ('Back', 'Back to previous …"
      ],
      "application/vnd.jupyter.widget-view+json": {
       "version_major": 2,
       "version_minor": 0,
       "model_id": "861bba5e2c96436397a405bb2f3182b5"
      }
     },
     "metadata": {}
    }
   ],
   "metadata": {}
  },
  {
   "cell_type": "code",
   "execution_count": 53,
   "source": [
    "\r\n",
    "\r\n",
    "# fig,ax1 = plt.subplots()\r\n",
    "\r\n",
    "# cmap = cm.get_cmap('twilight',len(allAge)+1)\r\n",
    "\r\n",
    "# # for ag in allAge:\r\n",
    "# for k in range(0,len(allAge)):\r\n",
    "#     ag = allAge[k]\r\n",
    "#     curVals = dfCaseDiff[ag].values\r\n",
    "#     ax1.plot(diffDates,curVals,'.:',color=cmap(k),linewidth=0.5,markersize=2)\r\n",
    "#     ax1.plot(rnTime(diffDates,7),rnMean(curVals,7),color=cmap(k),label=ag)\r\n",
    "\r\n",
    "#     # prevVals = curVals\r\n",
    "\r\n",
    "# # ax1.plot(diffDates,dfCaseDiff,'-*')\r\n",
    "# # ax1.plot(rnTime(diffDates,7),rnMean(dfCaseDiff,7),'-*')\r\n",
    "\r\n",
    "# ax1.legend()\r\n",
    "# plt.tight_layout()"
   ],
   "outputs": [],
   "metadata": {}
  },
  {
   "cell_type": "markdown",
   "source": [
    "# Hospital admissions"
   ],
   "metadata": {}
  },
  {
   "cell_type": "code",
   "execution_count": 54,
   "source": [
    "curFileName = '\\\\Regionalt_DB\\\\04_indlagte_pr_alders_grp_pr_region.csv'\r\n",
    "alldfs_adm = []\r\n",
    "\r\n",
    "\r\n",
    "\r\n",
    "allDates_adm = []\r\n",
    "\r\n",
    "\r\n",
    "for f in os.scandir(rootdir):\r\n",
    "    curPath = f.path\r\n",
    "    latestdir = curPath\r\n",
    "    try:\r\n",
    "        curDate = pd.to_datetime(curPath[-10:])\r\n",
    "\r\n",
    "        \r\n",
    "        curcsvpath = curPath + curFileName\r\n",
    "        curdf = pd.read_csv(curcsvpath,delimiter = ';',dtype=str,encoding='latin-1')\r\n",
    "\r\n",
    "        allDates_adm.append(curDate)\r\n",
    "        alldfs_adm.append(curdf)\r\n",
    "    except:\r\n",
    "        print(curPath)\r\n",
    "    \r\n",
    "print(f'Number of dataframes in alldfs_adm: {len(alldfs_adm)}')\r\n"
   ],
   "outputs": [
    {
     "output_type": "stream",
     "name": "stdout",
     "text": [
      "Number of dataframes in alldfs_adm: 120\n"
     ]
    }
   ],
   "metadata": {}
  },
  {
   "cell_type": "code",
   "execution_count": 55,
   "source": [
    "numDataframe = len(alldfs_adm)\r\n",
    "\r\n",
    "# Whole country, age-split\r\n",
    "\r\n",
    "allAge = alldfs_adm[0]['Alders gruppe'].unique()\r\n",
    "\r\n",
    "dfAdm = pd.DataFrame()\r\n",
    "\r\n",
    "dfAdm['Dato'] = allDates_adm\r\n",
    "\r\n",
    "\r\n",
    "for ag in range(len(allAge)):\r\n",
    "    curAge = allAge[ag]\r\n",
    "\r\n",
    "    allAdm = []\r\n",
    "\r\n",
    "    prevDate = allDates[0]\r\n",
    "\r\n",
    "    for da in range(0,numDataframe):\r\n",
    "        thisdf = alldfs_adm[da]\r\n",
    "        thisdf = thisdf[thisdf['Alders gruppe'] == curAge]\r\n",
    "\r\n",
    "        thisAdm = thisdf['Indlæggelser'].astype(int).sum()\r\n",
    "\r\n",
    "\r\n",
    "        allAdm.append(thisAdm)\r\n",
    "\r\n",
    "\r\n",
    "    \r\n",
    "    dfAdm[curAge] = allAdm"
   ],
   "outputs": [],
   "metadata": {}
  },
  {
   "cell_type": "code",
   "execution_count": 56,
   "source": [
    "# Calculate difference, and average out weekends\r\n",
    "\r\n",
    "dfAdmDiff = dfAdm.diff().iloc[1:]\r\n",
    "\r\n",
    "actualDiffDates = dfAdmDiff.Dato\r\n",
    "actualDiffDates = (actualDiffDates/np.timedelta64(1,'D')).astype(int)\r\n",
    "\r\n",
    "\r\n",
    "fullDatesAdm = np.arange(allDates_adm[0],allDates_adm[-1],np.timedelta64(1,'D'))\r\n",
    "\r\n",
    "dfAdmDiffCorr = dfAdmDiff.copy()\r\n",
    "\r\n",
    "for r in range(0,len(dfAdmDiff)):\r\n",
    "    if ((actualDiffDates.values[r]) != 1):\r\n",
    "        # print(dfAdmDiff.iloc[r])\r\n",
    "        curRow = dfAdmDiff.iloc[r]\r\n",
    "        numDays = int(curRow.Dato/np.timedelta64(1,'D'))\r\n",
    "\r\n",
    "        rowToAdd = curRow/numDays\r\n",
    "\r\n",
    "        for k in range(1,numDays+1):\r\n",
    "            dfAdmDiffCorr.loc[r+(0.1*k)] = rowToAdd\r\n",
    "        dfAdmDiffCorr = dfAdmDiffCorr.drop(r+1)\r\n",
    "        \r\n",
    "\r\n",
    "\r\n",
    "dfAdmDiffCorr = dfAdmDiffCorr.sort_index().reset_index(drop=True)\r\n",
    "dfAdmDiffCorr = dfAdmDiffCorr.iloc[:,1:]"
   ],
   "outputs": [],
   "metadata": {}
  },
  {
   "cell_type": "code",
   "execution_count": 57,
   "source": [
    "\r\n",
    "sumAdm = dfAdmDiffCorr.sum(axis=1)\r\n",
    "sumAdm\r\n",
    "\r\n",
    "fig,ax1 = plt.subplots()\r\n",
    "\r\n",
    "\r\n",
    "cmap = cm.get_cmap('tab20c',len(allAge))\r\n",
    "for k in range(len(allAge)):\r\n",
    "    curAge = allAge[k]\r\n",
    "\r\n",
    "    ax1.plot(fullDatesAdm,dfAdmDiffCorr[curAge],'.:',markersize=2,linewidth=0.5,color=cmap(k))\r\n",
    "    ax1.plot(rnTime(fullDatesAdm,7),rnMean(dfAdmDiffCorr[curAge],7),color=cmap(k),label=curAge)\r\n",
    "\r\n",
    "\r\n",
    "ax1.plot(fullDatesAdm,sumAdm,'.:',markersize=2,linewidth=0.5,color='k')\r\n",
    "ax1.plot(rnTime(fullDatesAdm,7),rnMean(sumAdm,7),color='k',label='Total')\r\n",
    "\r\n",
    "ax1.legend()\r\n",
    "ax1.set_ylim(bottom=0)\r\n",
    "\r\n",
    "plt.tight_layout()"
   ],
   "outputs": [
    {
     "output_type": "display_data",
     "data": {
      "text/plain": [
       "Canvas(toolbar=Toolbar(toolitems=[('Home', 'Reset original view', 'home', 'home'), ('Back', 'Back to previous …"
      ],
      "application/vnd.jupyter.widget-view+json": {
       "version_major": 2,
       "version_minor": 0,
       "model_id": "5af0752e677c419883497741da8eafd6"
      }
     },
     "metadata": {}
    }
   ],
   "metadata": {}
  },
  {
   "cell_type": "code",
   "execution_count": 85,
   "source": [
    "# dfAdmDiffCorr"
   ],
   "outputs": [],
   "metadata": {}
  },
  {
   "cell_type": "code",
   "execution_count": 83,
   "source": [
    "fig,(ax1,ax2) = plt.subplots(2,1,sharex=True)\r\n",
    "\r\n",
    "bgColor = 'lightgrey'\r\n",
    "fig.patch.set_facecolor(bgColor)\r\n",
    "ax1.set_facecolor(bgColor)\r\n",
    "ax2.set_facecolor(bgColor)\r\n",
    "\r\n",
    "newVals = dfAdmDiffCorr['0-9'].values\r\n",
    "curVals = np.zeros(newVals.shape)\r\n",
    "prevVals = np.zeros(newVals.shape)\r\n",
    "\r\n",
    "# totCase = dfAdmDiffCorr.iloc[:,1:].sum(axis=1)\r\n",
    "totCase = dfAdmDiffCorr.sum(axis=1)\r\n",
    "totCaseRM = rnMean(totCase,7)\r\n",
    "\r\n",
    "ax1.plot(rnTime(fullDates,7),totCaseRM,'k',linewidth=1,label='Total')\r\n",
    "\r\n",
    "firstDateToShow = np.datetime64('2021-05-01')\r\n",
    "\r\n",
    "cmap = cm.get_cmap('Spectral',len(allAge)+1)\r\n",
    "for k in range(0,len(allAge)):\r\n",
    "    ag = allAge[k]\r\n",
    "    newVals = dfAdmDiffCorr[ag].values\r\n",
    "\r\n",
    "    curVals = curVals + newVals\r\n",
    "\r\n",
    "    ax1.fill_between(rnTime(fullDates,7),rnMean(curVals,7),rnMean(prevVals,7),color=cmap(k),label=ag)\r\n",
    "    \r\n",
    "    ax2.fill_between(rnTime(fullDates,7),100*np.divide(rnMean(curVals,7),totCaseRM),100*np.divide(rnMean(prevVals,7),totCaseRM),color=cmap(k),label=ag)\r\n",
    "\r\n",
    "    # ax2.text(firstDateToShow,(100/totCase[0])*(prevVals[0]),ag)\r\n",
    "    # ax1.text(firstDateToShow,prevVals[0]+curVals[0]/4,ag)\r\n",
    "\r\n",
    "    prevVals += newVals\r\n",
    "    \r\n",
    "\r\n",
    "# Draw weekends\r\n",
    "firstSunday = np.datetime64('2021-01-03')\r\n",
    "numWeeks = 52\r\n",
    "for k in range(0,numWeeks):\r\n",
    "    curSunday = firstSunday + np.timedelta64(7*k,'D')\r\n",
    "    ax1.axvspan(curSunday-np.timedelta64(1,'D')-np.timedelta64(12,'h'),curSunday+np.timedelta64(12,'h'),zorder=-1,facecolor='grey')\r\n",
    "    ax2.axvspan(curSunday-np.timedelta64(1,'D')-np.timedelta64(12,'h'),curSunday+np.timedelta64(12,'h'),zorder=-1,facecolor='grey')\r\n",
    "\r\n",
    "ax1.axvspan(curSunday-np.timedelta64(1,'D')-np.timedelta64(12,'h'),curSunday+np.timedelta64(12,'h'),facecolor='lightgrey',label='Weekend') \r\n",
    "# ax1.set_xlim(left=fullDates[3])\r\n",
    "ax1.set_xlim(left=firstDateToShow)\r\n",
    "ax1.set_xlim(right=fullDates[-1])\r\n",
    "\r\n",
    "ax1.set_ylabel('Tilfælde')\r\n",
    "ax2.set_ylabel('Andel ud af alle tilfælde [%]')\r\n",
    "\r\n",
    "ax1.legend(loc='upper left',fontsize=8)\r\n",
    "\r\n",
    "ax1.set_ylim(bottom=0,top=40)\r\n",
    "ax2.set_ylim(bottom=0,top=100)\r\n",
    "ax1.xaxis.set_major_formatter(mdates.DateFormatter('%d\\n%B'))\r\n",
    "plt.tight_layout()\r\n",
    "\r\n",
    "if saveFigures:\r\n",
    "    plt.savefig('figs/AdmissionAgeSplit')"
   ],
   "outputs": [
    {
     "output_type": "display_data",
     "data": {
      "text/plain": [
       "Canvas(toolbar=Toolbar(toolitems=[('Home', 'Reset original view', 'home', 'home'), ('Back', 'Back to previous …"
      ],
      "application/vnd.jupyter.widget-view+json": {
       "version_major": 2,
       "version_minor": 0,
       "model_id": "84d9706964e441d48922b04721f45bd1"
      }
     },
     "metadata": {}
    }
   ],
   "metadata": {}
  },
  {
   "cell_type": "code",
   "execution_count": 59,
   "source": [
    "np.where(fullDatesAdm == np.datetime64('2021-05-19'))"
   ],
   "outputs": [
    {
     "output_type": "execute_result",
     "data": {
      "text/plain": [
       "(array([72], dtype=int64),)"
      ]
     },
     "metadata": {},
     "execution_count": 59
    }
   ],
   "metadata": {}
  },
  {
   "cell_type": "code",
   "execution_count": 60,
   "source": [
    "fig,ax1 = plt.subplots()\r\n",
    "\r\n",
    "# firstDataPoint = 80\r\n",
    "firstDataPoint = np.where(fullDatesAdm == np.datetime64('2021-05-19'))[0][0]\r\n",
    "dfToPlot = dfAdmDiffCorr.iloc[firstDataPoint:]\r\n",
    "daysToUse = fullDates[firstDataPoint:]\r\n",
    "\r\n",
    "g = sns.heatmap(dfToPlot.transpose(),xticklabels=pd.to_datetime(daysToUse).strftime('%d. %B'))\r\n",
    "curXticks =  g.get_xticks()\r\n",
    "daySkip = 7\r\n",
    "g.set_xticks(curXticks[::daySkip])\r\n",
    "g.set_xticklabels(pd.to_datetime(daysToUse[::daySkip]).strftime('%d. %B'), fontsize =10)\r\n",
    "g.invert_yaxis()\r\n",
    "\r\n",
    "plt.title('Daglige indlæggelser')\r\n",
    "\r\n",
    "if saveFigures:\r\n",
    "    plt.savefig('figs/HeatmapAdmissionsNew')"
   ],
   "outputs": [
    {
     "output_type": "display_data",
     "data": {
      "text/plain": [
       "Canvas(toolbar=Toolbar(toolitems=[('Home', 'Reset original view', 'home', 'home'), ('Back', 'Back to previous …"
      ],
      "application/vnd.jupyter.widget-view+json": {
       "version_major": 2,
       "version_minor": 0,
       "model_id": "39b8b25c83ab42e8919b74450fa2d5df"
      }
     },
     "metadata": {}
    }
   ],
   "metadata": {}
  },
  {
   "cell_type": "code",
   "execution_count": 61,
   "source": [
    "# normDF = 100000 * dfAdmDiffCorr.div(DK_age)\r\n",
    "normDF[normDF == 0] = 0"
   ],
   "outputs": [],
   "metadata": {}
  },
  {
   "cell_type": "code",
   "execution_count": 62,
   "source": [
    "normDF = 100000 * dfAdmDiffCorr.div(DK_age)\r\n",
    "\r\n",
    "normDF[normDF <= 0] = 0\r\n",
    "\r\n",
    "fig,ax1 = plt.subplots()\r\n",
    "\r\n",
    "# firstDataPoint = 28\r\n",
    "dfToPlot = normDF.iloc[firstDataPoint:]\r\n",
    "daysToUse = fullDates[firstDataPoint:]\r\n",
    "\r\n",
    "g = sns.heatmap(dfToPlot.transpose(),xticklabels=pd.to_datetime(daysToUse).strftime('%d. %B'))\r\n",
    "curXticks =  g.get_xticks()\r\n",
    "daySkip = 7\r\n",
    "g.set_xticks(curXticks[::daySkip])\r\n",
    "g.set_xticklabels(pd.to_datetime(daysToUse[::daySkip]).strftime('%d. %B'), fontsize =10)\r\n",
    "g.invert_yaxis()\r\n",
    "\r\n",
    "\r\n",
    "plt.title('Daglige indlæggelser, per 100.000')\r\n",
    "\r\n",
    "if saveFigures:\r\n",
    "    plt.savefig('figs/HeatmapAdmissionsNormNew')"
   ],
   "outputs": [
    {
     "output_type": "display_data",
     "data": {
      "text/plain": [
       "Canvas(toolbar=Toolbar(toolitems=[('Home', 'Reset original view', 'home', 'home'), ('Back', 'Back to previous …"
      ],
      "application/vnd.jupyter.widget-view+json": {
       "version_major": 2,
       "version_minor": 0,
       "model_id": "3f60b30a38e344c1983e197b6eaeafdb"
      }
     },
     "metadata": {}
    }
   ],
   "metadata": {}
  },
  {
   "cell_type": "markdown",
   "source": [
    "# Tests"
   ],
   "metadata": {}
  },
  {
   "cell_type": "code",
   "execution_count": 86,
   "source": [
    "# rootdir = ''\r\n",
    "dashDir = 'ssi_data/'\r\n",
    "\r\n",
    "rootdir = os.getcwd() +\"\\\\\" + dashDir\r\n",
    "\r\n",
    "\r\n",
    "for f in os.scandir(rootdir):\r\n",
    "    curPath = f.path\r\n",
    "    latestdir = curPath\r\n",
    "    latestDate = pd.to_datetime(curPath[-10:])\r\n",
    "\r\n",
    "latestDate\r\n",
    "latestdir"
   ],
   "outputs": [
    {
     "output_type": "execute_result",
     "data": {
      "text/plain": [
       "'d:\\\\Pandemix\\\\Github\\\\DanskeData\\\\ssi_data/SSI_data_2021-08-27'"
      ]
     },
     "metadata": {},
     "execution_count": 86
    }
   ],
   "metadata": {}
  },
  {
   "cell_type": "code",
   "execution_count": 87,
   "source": [
    "curFileName = '\\\\Cases_by_age.csv'\r\n",
    "alldfs_test = []\r\n",
    "\r\n",
    "\r\n",
    "\r\n",
    "allDates_test = []\r\n",
    "\r\n",
    "\r\n",
    "for f in os.scandir(rootdir):\r\n",
    "    curPath = f.path\r\n",
    "    latestdir = curPath\r\n",
    "    try:\r\n",
    "        curDate = pd.to_datetime(curPath[-10:])\r\n",
    "\r\n",
    "        \r\n",
    "        curcsvpath = curPath + curFileName\r\n",
    "        curdf = pd.read_csv(curcsvpath,delimiter = ';',dtype=str)\r\n",
    "\r\n",
    "        allDates_test.append(curDate)\r\n",
    "        alldfs_test.append(curdf)\r\n",
    "    except:\r\n",
    "        print(curPath)\r\n",
    "    \r\n",
    "print(f'Number of dataframes in alldfs_test: {len(alldfs_test)}')\r\n"
   ],
   "outputs": [
    {
     "output_type": "stream",
     "name": "stdout",
     "text": [
      "Number of dataframes in alldfs_test: 335\n"
     ]
    }
   ],
   "metadata": {}
  },
  {
   "cell_type": "code",
   "execution_count": 103,
   "source": [
    "# thisdf = alldfs_test[-1]\r\n",
    "# int(thisdf[thisdf['Aldersgruppe'] == '0-9']['Antal_testede'].iloc[0].replace('.',''))\r\n",
    "print(alldfs_test[-10])\r\n",
    "# print(alldfs_test[-9])\r\n",
    "\r\n",
    "# alldfs_test\r\n",
    "# curdf"
   ],
   "outputs": [
    {
     "output_type": "stream",
     "name": "stdout",
     "text": [
      "   Aldersgruppe Antal_bekræftede_COVID-19 Antal_testede Procent_positive\n",
      "0           0-9                    24.674       466.246              5,3\n",
      "1         10-19                    56.135       643.457              8,7\n",
      "2         20-29                    73.079       732.654             10,0\n",
      "3         30-39                    46.657       647.413              7,2\n",
      "4         40-49                    46.414       688.022              6,7\n",
      "5         50-59                    42.346       704.891              6,0\n",
      "6         60-69                    21.803       535.086              4,1\n",
      "7         70-79                    12.507       410.506              3,0\n",
      "8         80-89                     6.209       154.297              4,0\n",
      "9           90+                     1.912        32.044              6,0\n",
      "10        I alt                   331.736     5.014.616              6,6\n"
     ]
    }
   ],
   "metadata": {}
  },
  {
   "cell_type": "code",
   "execution_count": 91,
   "source": [
    "numDataframe = len(alldfs_test)\r\n",
    "\r\n",
    "# allAge = alldfs_test[0]['Alders gruppe'].unique()\r\n",
    "\r\n",
    "dfTest = pd.DataFrame()\r\n",
    "\r\n",
    "dfTest['Dato'] = allDates_test\r\n",
    "\r\n",
    "\r\n",
    "for ag in range(len(allAge)):\r\n",
    "    curAge = allAge[ag]\r\n",
    "\r\n",
    "    allTest = []\r\n",
    "\r\n",
    "    prevDate = allDates_test[0]\r\n",
    "\r\n",
    "    for da in range(0,numDataframe):\r\n",
    "        thisdf = alldfs_test[da]\r\n",
    "        thisdf = thisdf[thisdf['Aldersgruppe'] == curAge]\r\n",
    "\r\n",
    "        thisTest = int(thisdf['Antal_testede'].iloc[0].replace('.',''))\r\n",
    "\r\n",
    "\r\n",
    "        allTest.append(thisTest)\r\n",
    "\r\n",
    "\r\n",
    "    \r\n",
    "    dfTest[curAge] = allTest"
   ],
   "outputs": [],
   "metadata": {}
  },
  {
   "cell_type": "code",
   "execution_count": 92,
   "source": [
    "# Calculate difference, and average out weekends\r\n",
    "\r\n",
    "dfTestDiff = dfTest.diff().iloc[1:]\r\n",
    "\r\n",
    "actualDiffDates = dfTestDiff.Dato\r\n",
    "actualDiffDates = (actualDiffDates/np.timedelta64(1,'D')).astype(int)\r\n",
    "\r\n",
    "\r\n",
    "fullDatesTest = np.arange(allDates_test[0],allDates_test[-1],np.timedelta64(1,'D'))\r\n",
    "\r\n",
    "dfTestDiffCorr = dfTestDiff.copy()\r\n",
    "\r\n",
    "for r in range(0,len(dfTestDiff)):\r\n",
    "    if ((actualDiffDates.values[r]) != 1):\r\n",
    "        # print(dfTestDiff.iloc[r])\r\n",
    "        curRow = dfTestDiff.iloc[r]\r\n",
    "        numDays = int(curRow.Dato/np.timedelta64(1,'D'))\r\n",
    "\r\n",
    "        rowToAdd = curRow/numDays\r\n",
    "\r\n",
    "        for k in range(1,numDays+1):\r\n",
    "            dfTestDiffCorr.loc[r+(0.1*k)] = rowToAdd\r\n",
    "        dfTestDiffCorr = dfTestDiffCorr.drop(r+1)\r\n",
    "        \r\n",
    "\r\n",
    "\r\n",
    "dfTestDiffCorr = dfTestDiffCorr.sort_index().reset_index(drop=True)\r\n",
    "dfTestDiffCorr = dfTestDiffCorr.iloc[:,1:]"
   ],
   "outputs": [],
   "metadata": {}
  },
  {
   "cell_type": "code",
   "execution_count": 104,
   "source": [
    "fig,(ax1,ax2) = plt.subplots(2,1,sharex=True)\r\n",
    "\r\n",
    "bgColor = 'lightgrey'\r\n",
    "fig.patch.set_facecolor(bgColor)\r\n",
    "ax1.set_facecolor(bgColor)\r\n",
    "ax2.set_facecolor(bgColor)\r\n",
    "\r\n",
    "newVals = dfTestDiffCorr['0-9'].values\r\n",
    "curVals = np.zeros(newVals.shape)\r\n",
    "prevVals = np.zeros(newVals.shape)\r\n",
    "\r\n",
    "totCase = dfTestDiffCorr.sum(axis=1)\r\n",
    "totCaseRM = rnMean(totCase,7)\r\n",
    "\r\n",
    "ax1.plot(rnTime(fullDatesTest,7),totCaseRM,'k',linewidth=1,label='Total')\r\n",
    "\r\n",
    "firstDateToShow = np.datetime64('2021-05-01')\r\n",
    "\r\n",
    "cmap = cm.get_cmap('Spectral',len(allAge)+1)\r\n",
    "for k in range(0,len(allAge)):\r\n",
    "    ag = allAge[k]\r\n",
    "    newVals = dfTestDiffCorr[ag].values\r\n",
    "\r\n",
    "    curVals = curVals + newVals\r\n",
    "\r\n",
    "    ax1.fill_between(rnTime(fullDatesTest,7),rnMean(curVals,7),rnMean(prevVals,7),color=cmap(k),label=ag)\r\n",
    "    \r\n",
    "    ax2.fill_between(rnTime(fullDatesTest,7),100*np.divide(rnMean(curVals,7),totCaseRM),100*np.divide(rnMean(prevVals,7),totCaseRM),color=cmap(k),label=ag)\r\n",
    "\r\n",
    "    # ax2.text(firstDateToShow,(100/totCase[0])*(prevVals[0]),ag)\r\n",
    "    # ax1.text(firstDateToShow,prevVals[0]+curVals[0]/4,ag)\r\n",
    "\r\n",
    "    prevVals += newVals\r\n",
    "    \r\n",
    "\r\n",
    "# Draw weekends\r\n",
    "firstSunday = np.datetime64('2021-01-03')\r\n",
    "numWeeks = 52\r\n",
    "for k in range(0,numWeeks):\r\n",
    "    curSunday = firstSunday + np.timedelta64(7*k,'D')\r\n",
    "    ax1.axvspan(curSunday-np.timedelta64(1,'D')-np.timedelta64(12,'h'),curSunday+np.timedelta64(12,'h'),zorder=-1,facecolor='grey')\r\n",
    "    ax2.axvspan(curSunday-np.timedelta64(1,'D')-np.timedelta64(12,'h'),curSunday+np.timedelta64(12,'h'),zorder=-1,facecolor='grey')\r\n",
    "\r\n",
    "ax1.axvspan(curSunday-np.timedelta64(1,'D')-np.timedelta64(12,'h'),curSunday+np.timedelta64(12,'h'),facecolor='lightgrey',label='Weekend') \r\n",
    "# ax1.set_xlim(left=fullDatesTest[3])\r\n",
    "ax1.set_xlim(left=firstDateToShow)\r\n",
    "ax1.set_xlim(right=fullDatesTest[-4])\r\n",
    "\r\n",
    "ax1.set_ylabel('Antal nye førstegangstestede')\r\n",
    "ax2.set_ylabel('Andel ud af alle test [%]')\r\n",
    "\r\n",
    "ax1.legend(loc='upper left',fontsize=8)\r\n",
    "\r\n",
    "ax1.set_ylim(bottom=0,top=5000)\r\n",
    "ax2.set_ylim(bottom=0,top=100)\r\n",
    "ax1.xaxis.set_major_formatter(mdates.DateFormatter('%d\\n%B'))\r\n",
    "plt.tight_layout()\r\n",
    "\r\n",
    "if saveFigures:\r\n",
    "    plt.savefig('figs/TestAgeSplit')"
   ],
   "outputs": [
    {
     "output_type": "display_data",
     "data": {
      "text/plain": [
       "Canvas(toolbar=Toolbar(toolitems=[('Home', 'Reset original view', 'home', 'home'), ('Back', 'Back to previous …"
      ],
      "application/vnd.jupyter.widget-view+json": {
       "version_major": 2,
       "version_minor": 0,
       "model_id": "13a5c8f77122418b9af46fdfccafe71a"
      }
     },
     "metadata": {}
    }
   ],
   "metadata": {}
  },
  {
   "cell_type": "code",
   "execution_count": null,
   "source": [],
   "outputs": [],
   "metadata": {}
  }
 ],
 "metadata": {
  "orig_nbformat": 4,
  "language_info": {
   "name": "python",
   "version": "3.8.8",
   "mimetype": "text/x-python",
   "codemirror_mode": {
    "name": "ipython",
    "version": 3
   },
   "pygments_lexer": "ipython3",
   "nbconvert_exporter": "python",
   "file_extension": ".py"
  },
  "kernelspec": {
   "name": "python3",
   "display_name": "Python 3.8.8 64-bit ('main': conda)"
  },
  "interpreter": {
   "hash": "c031fd63bd977d199cd6020c30a19695eacbb638d100e0b8a5ea53080ed74a9a"
  }
 },
 "nbformat": 4,
 "nbformat_minor": 2
}