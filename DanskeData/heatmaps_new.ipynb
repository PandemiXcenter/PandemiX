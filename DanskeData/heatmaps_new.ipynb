{
 "cells": [
  {
   "cell_type": "code",
   "execution_count": 1,
   "metadata": {},
   "outputs": [
    {
     "name": "stdout",
     "output_type": "stream",
     "text": [
      "saveFigures is set to: True\n",
      "Done loading packages\n"
     ]
    }
   ],
   "source": [
    "# New notebook for heatmaps, based on daily data\n",
    "import numpy as np\n",
    "import pandas as pd\n",
    "pd.set_option('display.max_rows', 500)\n",
    "pd.set_option('display.min_rows', 50)\n",
    "\n",
    "\n",
    "import matplotlib.pyplot as plt\n",
    "%matplotlib widget\n",
    "plt.rcParams['figure.figsize'] = (12,8)\n",
    "plt.rcParams[\"image.cmap\"] = \"tab10\"\n",
    "plt.rcParams['axes.prop_cycle'] = plt.cycler(color=plt.cm.tab10.colors)\n",
    "fs_label = 16\n",
    "parameters = {\n",
    "                'axes.labelsize': fs_label,\n",
    "                'axes.titlesize': fs_label+4,\n",
    "                'xtick.labelsize': fs_label,\n",
    "                'ytick.labelsize': fs_label, \n",
    "                'legend.fontsize': fs_label, \n",
    "                'lines.markersize': 10,\n",
    "                'lines.linewidth': 3\n",
    "             }\n",
    "plt.rcParams.update(parameters)\n",
    "%matplotlib widget\n",
    "import matplotlib.colors as colors\n",
    "from matplotlib import cm # Colormaps\n",
    "\n",
    "cmap = cm.get_cmap('Dark2',7)\n",
    "\n",
    "import locale\n",
    "import matplotlib.dates as mdates\n",
    "locale.setlocale(locale.LC_TIME,\"Danish\")\n",
    "# ax = plt.gca()\n",
    "# ax1.xaxis.set_major_formatter(mdates.DateFormatter('%b\\n%Y'))\n",
    "# # ax.xaxis.set_major_formatter(mdates.DateFormatter('%Y \\n %B'))\n",
    "\n",
    "import seaborn as sns\n",
    "\n",
    "import os\n",
    "import math\n",
    "\n",
    "from datetime import date\n",
    "import datetime\n",
    "\n",
    "saveFigures = True\n",
    "print('saveFigures is set to: '+str(saveFigures))\n",
    "print('Done loading packages')\n",
    "\n",
    "def rnMean(data,meanWidth):\n",
    "    return np.convolve(data, np.ones(meanWidth)/meanWidth, mode='valid')\n",
    "def rnTime(t,meanWidth):\n",
    "    return t[math.floor(meanWidth/2):-math.ceil(meanWidth/2)+1]\n",
    "def rnTime2(t,meanWidth):\n",
    "    return t[meanWidth-1:]\n"
   ]
  },
  {
   "cell_type": "code",
   "execution_count": 2,
   "metadata": {},
   "outputs": [
    {
     "data": {
      "text/plain": [
       "Timestamp('2021-10-26 00:00:00')"
      ]
     },
     "execution_count": 2,
     "metadata": {},
     "output_type": "execute_result"
    }
   ],
   "source": [
    "dashDir = 'ssi_dashboard/'\n",
    "\n",
    "rootdir = os.getcwd() +\"\\\\\" + dashDir\n",
    "\n",
    "\n",
    "# for subdir, dirs, files in os.walk(rootdir):\n",
    "#     print(dirs)\n",
    "#     if not len(dirs) == 0:\n",
    "#         latestdir = subdir\n",
    "#         # latestDate = pd.to_datetime(subdir[-10:])\n",
    "#     # print(files)\n",
    "#     # print(dirs[-1])\n",
    "\n",
    "for f in os.scandir(rootdir):\n",
    "    curPath = f.path\n",
    "    latestdir = curPath\n",
    "    latestDate = pd.to_datetime(curPath[-10:])\n",
    "\n",
    "latestDate"
   ]
  },
  {
   "cell_type": "code",
   "execution_count": 3,
   "metadata": {},
   "outputs": [
    {
     "name": "stdout",
     "output_type": "stream",
     "text": [
      "c:\\Users\\rakrpe\\Documents\\PandemiX\\GithubRepos\\PandemiX\\DanskeData\\ssi_dashboard/SSI_dashboard_2021-05-25\n",
      "Number of dataframes in alldfs: 157\n"
     ]
    }
   ],
   "source": [
    "curFileName = '\\\\Regionalt_DB\\\\05_bekraeftede_tilfaelde_doede_pr_region_pr_alders_grp.csv'\n",
    "alldfs = []\n",
    "\n",
    "# 04_indlagte_pr_alders_grp_pr_region\n",
    "\n",
    "\n",
    "allDates = []\n",
    "\n",
    "\n",
    "for f in os.scandir(rootdir):\n",
    "    curPath = f.path\n",
    "    latestdir = curPath\n",
    "    try:\n",
    "        curDate = pd.to_datetime(curPath[-10:])\n",
    "\n",
    "        \n",
    "        curcsvpath = curPath + curFileName\n",
    "        curdf = pd.read_csv(curcsvpath,delimiter = ';',dtype=str,encoding='latin-1')\n",
    "\n",
    "        allDates.append(curDate)\n",
    "        alldfs.append(curdf)\n",
    "    except:\n",
    "        print(curPath)\n",
    "    \n",
    "print(f'Number of dataframes in alldfs: {len(alldfs)}')\n"
   ]
  },
  {
   "cell_type": "code",
   "execution_count": 4,
   "metadata": {},
   "outputs": [],
   "source": [
    "numDataframe = len(alldfs)\n",
    "\n",
    "# Whole country, age-split\n",
    "allAge = curdf['Alders gruppe'].unique()\n",
    "\n",
    "dfCase = pd.DataFrame()\n",
    "dfDeath = pd.DataFrame()\n",
    "\n",
    "\n",
    "dfCase['Dato'] = allDates\n",
    "dfDeath['Dato'] = allDates\n",
    "# fullDates = np.arange(allDates[0],allDates[-1],np.timedelta64(1,'D'))\n",
    "# dfCase['Dato'] = fullDates\n",
    "# dfDeath['Dato'] = fullDates\n",
    "\n",
    "\n",
    "for ag in range(len(allAge)):\n",
    "    curAge = allAge[ag]\n",
    "\n",
    "    allCase = []\n",
    "    allDeaths = []\n",
    "\n",
    "    prevDate = allDates[0]\n",
    "\n",
    "    for da in range(0,numDataframe):\n",
    "        thisdf = alldfs[da]\n",
    "        thisdf = thisdf[thisdf['Alders gruppe'] == curAge]\n",
    "\n",
    "        thisCase = thisdf['Bekræftede tilfælde'].astype(int).sum()\n",
    "        thisDeaths = thisdf['Døde'].astype(int).sum()\n",
    "\n",
    "\n",
    "        allCase.append(thisCase)\n",
    "        allDeaths.append(thisDeaths) \n",
    "\n",
    "        # curDate = allDates[da]\n",
    "\n",
    "        # dateDiff = curDate - prevDate\n",
    "        # dateDiff = int((dateDiff/np.timedelta64(1,'D')))\n",
    "\n",
    "        # if  (dateDiff == 1):\n",
    "        #     allCase.append(thisCase)\n",
    "        #     allDeaths.append(thisDeaths) \n",
    "        # elif (dateDiff == 2):\n",
    "        #     allCase.append(thisCase/2)\n",
    "        #     allCase.append(thisCase/2)\n",
    "        #     allDeaths.append(thisDeaths/2)\n",
    "        #     allDeaths.append(thisDeaths/2)\n",
    "        # elif (dateDiff == 3):\n",
    "        #     allCase.append(thisCase/3)\n",
    "        #     allCase.append(thisCase/3)\n",
    "        #     allCase.append(thisCase/3)\n",
    "        #     allDeaths.append(thisDeaths/3)\n",
    "        #     allDeaths.append(thisDeaths/3)\n",
    "        #     allDeaths.append(thisDeaths/3)\n",
    "        # elif (dateDiff == 4):\n",
    "        #     allCase.append(thisCase/4)\n",
    "        #     allCase.append(thisCase/4)\n",
    "        #     allCase.append(thisCase/4)\n",
    "        #     allCase.append(thisCase/4)\n",
    "        #     allDeaths.append(thisDeaths/4)\n",
    "        #     allDeaths.append(thisDeaths/4)\n",
    "        #     allDeaths.append(thisDeaths/4)\n",
    "        #     allDeaths.append(thisDeaths/4)\n",
    "        # else:\n",
    "        #     # print(dateDiff)\n",
    "\n",
    "\n",
    "        # prevDate = curDate \n",
    "\n",
    "    \n",
    "    dfCase[curAge] = allCase\n",
    "    dfDeath[curAge] = allDeaths\n",
    "\n",
    "# dfCase\n",
    "# thisdf"
   ]
  },
  {
   "cell_type": "code",
   "execution_count": 5,
   "metadata": {},
   "outputs": [],
   "source": [
    "# dfDeath"
   ]
  },
  {
   "cell_type": "code",
   "execution_count": 6,
   "metadata": {},
   "outputs": [],
   "source": [
    "# allCase"
   ]
  },
  {
   "cell_type": "code",
   "execution_count": 7,
   "metadata": {},
   "outputs": [],
   "source": [
    "# Calculate difference, and average out weekends\n",
    "# dfDeath.diff().iloc[1:]\n",
    "\n",
    "dfCaseDiff = dfCase.diff().iloc[1:]\n",
    "dfDeathDiff = dfDeath.diff().iloc[1:]\n",
    "# dfCaseDiff\n",
    "\n",
    "actualDiffDates = dfCaseDiff.Dato\n",
    "actualDiffDates = (actualDiffDates/np.timedelta64(1,'D')).astype(int)\n",
    "\n",
    "# actualDiffDates\n",
    "\n",
    "fullDates = np.arange(allDates[0],allDates[-1],np.timedelta64(1,'D'))\n",
    "\n",
    "dfCaseDiffCorr = dfCaseDiff.copy()\n",
    "dfDeathDiffCorr = dfDeathDiff.copy()\n",
    "\n",
    "for r in range(0,len(dfCaseDiff)):\n",
    "    if ((actualDiffDates.values[r]) != 1):\n",
    "        # print(dfCaseDiff.iloc[r])\n",
    "        curRow = dfCaseDiff.iloc[r]\n",
    "        numDays = int(curRow.Dato/np.timedelta64(1,'D'))\n",
    "\n",
    "        rowToAdd = curRow/numDays\n",
    "\n",
    "        for k in range(1,numDays+1):\n",
    "            dfCaseDiffCorr.loc[r+(0.1*k)] = rowToAdd\n",
    "        dfCaseDiffCorr = dfCaseDiffCorr.drop(r+1)\n",
    "        \n",
    "        # And deaths\n",
    "        curRow = dfDeathDiff.iloc[r]\n",
    "        numDays = int(curRow.Dato/np.timedelta64(1,'D'))\n",
    "\n",
    "        rowToAdd = curRow/numDays\n",
    "\n",
    "        for k in range(1,numDays+1):\n",
    "            dfDeathDiffCorr.loc[r+(0.1*k)] = rowToAdd\n",
    "        dfDeathDiffCorr = dfDeathDiffCorr.drop(r+1)\n",
    "\n",
    "        # newdf = pd.concat([dfCaseDiff.iloc[:2], curRow, dfCaseDiff.iloc[2:]]).reset_index(drop=True)\n",
    "        \n",
    "\n",
    "\n",
    "dfCaseDiffCorr = dfCaseDiffCorr.sort_index().reset_index(drop=True)\n",
    "dfDeathDiffCorr = dfDeathDiffCorr.sort_index().reset_index(drop=True)\n",
    "# dfCaseDiffCorr\n",
    "dfCaseDiffCorr = dfCaseDiffCorr.iloc[:,1:]\n",
    "dfDeathDiffCorr = dfDeathDiffCorr.iloc[:,1:]"
   ]
  },
  {
   "cell_type": "code",
   "execution_count": 8,
   "metadata": {},
   "outputs": [],
   "source": [
    "dfCaseDiffCorrToSave = dfCaseDiffCorr\n",
    "dfCaseDiffCorrToSave['Dato'] = fullDates\n",
    "dfCaseDiffCorrToSave.to_csv('DKDailyAgeCase.csv',index=False)\n",
    "dfDeathDiffCorrToSave = dfDeathDiffCorr\n",
    "dfDeathDiffCorrToSave['Dato'] = fullDates\n",
    "dfDeathDiffCorrToSave.to_csv('DKDailyAgeDeath.csv',index=False)"
   ]
  },
  {
   "cell_type": "code",
   "execution_count": 9,
   "metadata": {},
   "outputs": [
    {
     "data": {
      "application/vnd.jupyter.widget-view+json": {
       "model_id": "60c0eef8ea2b45408e54735841fdef75",
       "version_major": 2,
       "version_minor": 0
      },
      "text/plain": [
       "Canvas(toolbar=Toolbar(toolitems=[('Home', 'Reset original view', 'home', 'home'), ('Back', 'Back to previous …"
      ]
     },
     "metadata": {},
     "output_type": "display_data"
    }
   ],
   "source": [
    "fig,(ax1,ax2) = plt.subplots(2,1,sharex=True)\n",
    "\n",
    "cmap = cm.get_cmap('twilight',len(allAge)+1)\n",
    "\n",
    "for k in range(0,len(allAge)):\n",
    "    ag = allAge[k]\n",
    "    curVals = dfCaseDiffCorr[ag].values\n",
    "    ax1.plot(fullDates,curVals,'.:',color=cmap(k),linewidth=0.5,markersize=2)\n",
    "    ax1.plot(rnTime(fullDates,7),rnMean(curVals,7),color=cmap(k),label=ag)\n",
    "    \n",
    "    curVals = dfDeathDiffCorr[ag].values\n",
    "    ax2.plot(fullDates,curVals,'.:',color=cmap(k),linewidth=0.5,markersize=2)\n",
    "    ax2.plot(rnTime(fullDates,7),rnMean(curVals,7),color=cmap(k),label=ag)\n",
    "\n",
    "    \n",
    "\n",
    "# Draw weekends\n",
    "firstSunday = np.datetime64('2021-01-03')\n",
    "numWeeks = 52\n",
    "for k in range(0,numWeeks):\n",
    "    curSunday = firstSunday + np.timedelta64(7*k,'D')\n",
    "    ax1.axvspan(curSunday-np.timedelta64(1,'D')-np.timedelta64(12,'h'),curSunday+np.timedelta64(12,'h'),facecolor='lightgrey')\n",
    "    ax2.axvspan(curSunday-np.timedelta64(1,'D')-np.timedelta64(12,'h'),curSunday+np.timedelta64(12,'h'),facecolor='lightgrey')\n",
    "\n",
    "ax1.axvspan(curSunday-np.timedelta64(1,'D')-np.timedelta64(12,'h'),curSunday+np.timedelta64(12,'h'),facecolor='lightgrey',label='Weekend') \n",
    "ax1.set_xlim(left=fullDates[3])\n",
    "ax1.set_xlim(right=fullDates[-1])\n",
    "\n",
    "ax1.legend(loc='upper left',fontsize=8)\n",
    "\n",
    "ax1.set_ylim(bottom=0)\n",
    "ax2.set_ylim(bottom=0)\n",
    "ax1.xaxis.set_major_formatter(mdates.DateFormatter('%d\\n%B'))\n",
    "plt.tight_layout()\n"
   ]
  },
  {
   "cell_type": "code",
   "execution_count": 10,
   "metadata": {},
   "outputs": [
    {
     "data": {
      "application/vnd.jupyter.widget-view+json": {
       "model_id": "4062fc3a708b4ca681cd20f314290776",
       "version_major": 2,
       "version_minor": 0
      },
      "text/plain": [
       "Canvas(toolbar=Toolbar(toolitems=[('Home', 'Reset original view', 'home', 'home'), ('Back', 'Back to previous …"
      ]
     },
     "metadata": {},
     "output_type": "display_data"
    }
   ],
   "source": [
    "fig,(ax1,ax2) = plt.subplots(2,1,sharex=True)\n",
    "\n",
    "fig.patch.set_facecolor('lightgrey')\n",
    "ax1.set_facecolor('lightgrey')\n",
    "ax2.set_facecolor('lightgrey')\n",
    "\n",
    "cmap = cm.get_cmap('Spectral',len(allAge)+1)\n",
    "\n",
    "newVals = dfCaseDiffCorr['0-9'].values\n",
    "curVals = np.zeros(newVals.shape)\n",
    "prevVals = np.zeros(newVals.shape)\n",
    "curValsDe = np.zeros(newVals.shape)\n",
    "prevValsDe = np.zeros(newVals.shape)\n",
    "\n",
    "for k in range(0,len(allAge)):\n",
    "    ag = allAge[k]\n",
    "    newVals = dfCaseDiffCorr[ag].values\n",
    "    newValsDe = dfDeathDiffCorr[ag].values\n",
    "\n",
    "    curVals = curVals + newVals\n",
    "    curValsDe = curValsDe + newValsDe\n",
    "\n",
    "    # ax1.fill_between(fullDates,curVals,prevVals,color=cmap(k))\n",
    "    # ax1.fill_between(rnTime(fullDates,7),rnMean(newVals,7),rnMean(prevVals,7),color=cmap(k),label=ag)\n",
    "    ax1.fill_between(rnTime(fullDates,7),rnMean(curVals,7),rnMean(prevVals,7),color=cmap(k),label=ag)\n",
    "    # ax1.plot(fullDates,curVals,'.:',color=cmap(k),linewidth=0.5,markersize=2)\n",
    "    # ax1.plot(rnTime(fullDates,7),rnMean(curVals,7),color=cmap(k),label=ag)\n",
    "    \n",
    "    # curVals = dfDeathDiffCorr[ag].values\n",
    "    # ax2.plot(fullDates,curVals,'.:',color=cmap(k),linewidth=0.5,markersize=2)\n",
    "    # ax2.plot(rnTime(fullDates,7),rnMean(curVals,7),color=cmap(k),label=ag)\n",
    "    ax2.fill_between(rnTime(fullDates,7),rnMean(curValsDe,7),rnMean(prevValsDe,7),color=cmap(k),label=ag)\n",
    "\n",
    "\n",
    "    prevVals += newVals\n",
    "    prevValsDe += newValsDe\n",
    "    \n",
    "\n",
    "# Draw weekends\n",
    "firstSunday = np.datetime64('2021-01-03')\n",
    "numWeeks = 52\n",
    "for k in range(0,numWeeks):\n",
    "    curSunday = firstSunday + np.timedelta64(7*k,'D')\n",
    "    ax1.axvspan(curSunday-np.timedelta64(1,'D')-np.timedelta64(12,'h'),curSunday+np.timedelta64(12,'h'),zorder=-1,facecolor='grey')\n",
    "    ax2.axvspan(curSunday-np.timedelta64(1,'D')-np.timedelta64(12,'h'),curSunday+np.timedelta64(12,'h'),zorder=-1,facecolor='grey')\n",
    "\n",
    "ax1.axvspan(curSunday-np.timedelta64(1,'D')-np.timedelta64(12,'h'),curSunday+np.timedelta64(12,'h'),facecolor='lightgrey',label='Weekend') \n",
    "ax1.set_xlim(left=fullDates[3])\n",
    "ax1.set_xlim(right=fullDates[-1])\n",
    "\n",
    "ax1.legend(loc='upper left',fontsize=8)\n",
    "\n",
    "ax1.set_ylim(bottom=0)\n",
    "ax2.set_ylim(bottom=0)\n",
    "ax1.xaxis.set_major_formatter(mdates.DateFormatter('%d\\n%B'))\n",
    "plt.tight_layout()\n"
   ]
  },
  {
   "cell_type": "code",
   "execution_count": 11,
   "metadata": {},
   "outputs": [],
   "source": [
    "# dfCaseDiffCorr.iloc[:,1:]"
   ]
  },
  {
   "cell_type": "code",
   "execution_count": 12,
   "metadata": {},
   "outputs": [
    {
     "data": {
      "application/vnd.jupyter.widget-view+json": {
       "model_id": "b41e714e5ca5420fba1469faf3ea12bd",
       "version_major": 2,
       "version_minor": 0
      },
      "text/plain": [
       "Canvas(toolbar=Toolbar(toolitems=[('Home', 'Reset original view', 'home', 'home'), ('Back', 'Back to previous …"
      ]
     },
     "metadata": {},
     "output_type": "display_data"
    }
   ],
   "source": [
    "fig,(ax1,ax2) = plt.subplots(2,1,sharex=True)\n",
    "\n",
    "bgColor = 'lightgrey'\n",
    "fig.patch.set_facecolor(bgColor)\n",
    "ax1.set_facecolor(bgColor)\n",
    "ax2.set_facecolor(bgColor)\n",
    "\n",
    "newVals = dfCaseDiffCorr['0-9'].values\n",
    "curVals = np.zeros(newVals.shape)\n",
    "prevVals = np.zeros(newVals.shape)\n",
    "\n",
    "# totCase = dfCaseDiffCorr.iloc[:,1:].sum(axis=1)\n",
    "totCase = dfCaseDiffCorr.iloc[:,:-1].sum(axis=1)\n",
    "totCaseRM = rnMean(totCase,7)\n",
    "\n",
    "ax1.plot(rnTime(fullDates,7),totCaseRM,'k',linewidth=1,label='Total')\n",
    "\n",
    "firstDateToShow = np.datetime64('2021-04-01')\n",
    "\n",
    "cmap = cm.get_cmap('Spectral',len(allAge)+1)\n",
    "for k in range(0,len(allAge)):\n",
    "    ag = allAge[k]\n",
    "    newVals = dfCaseDiffCorr[ag].values\n",
    "\n",
    "    curVals = curVals + newVals\n",
    "\n",
    "    ax1.fill_between(rnTime(fullDates,7),rnMean(curVals,7),rnMean(prevVals,7),color=cmap(k),label=ag)\n",
    "    \n",
    "    ax2.fill_between(rnTime(fullDates,7),100*np.divide(rnMean(curVals,7),totCaseRM),100*np.divide(rnMean(prevVals,7),totCaseRM),color=cmap(k),label=ag)\n",
    "\n",
    "    # ax2.text(firstDateToShow,(100/totCase[0])*(prevVals[0]),ag)\n",
    "    # ax1.text(firstDateToShow,prevVals[0]+curVals[0]/4,ag)\n",
    "\n",
    "    prevVals += newVals\n",
    "    \n",
    "\n",
    "# Draw weekends\n",
    "firstSunday = np.datetime64('2021-01-03')\n",
    "numWeeks = 52\n",
    "for k in range(0,numWeeks):\n",
    "    curSunday = firstSunday + np.timedelta64(7*k,'D')\n",
    "    ax1.axvspan(curSunday-np.timedelta64(1,'D')-np.timedelta64(12,'h'),curSunday+np.timedelta64(12,'h'),zorder=-1,facecolor='grey')\n",
    "    ax2.axvspan(curSunday-np.timedelta64(1,'D')-np.timedelta64(12,'h'),curSunday+np.timedelta64(12,'h'),zorder=-1,facecolor='grey')\n",
    "\n",
    "ax1.axvspan(curSunday-np.timedelta64(1,'D')-np.timedelta64(12,'h'),curSunday+np.timedelta64(12,'h'),facecolor='lightgrey',label='Weekend') \n",
    "# ax1.set_xlim(left=fullDates[3])\n",
    "ax1.set_xlim(left=firstDateToShow)\n",
    "ax1.set_xlim(right=fullDates[-1])\n",
    "\n",
    "ax1.set_ylabel('Tilfælde')\n",
    "ax2.set_ylabel('Andel ud af alle tilfælde [%]')\n",
    "\n",
    "ax2.grid(axis='y')\n",
    "\n",
    "ax1.legend(loc='upper left',fontsize=8)\n",
    "\n",
    "ax1.set_ylim(bottom=0)\n",
    "ax2.set_ylim(bottom=0,top=100)\n",
    "ax1.xaxis.set_major_formatter(mdates.DateFormatter('%d\\n%B'))\n",
    "plt.tight_layout()\n",
    "\n",
    "if saveFigures:\n",
    "    plt.savefig('figs/CasesAgeSplit')"
   ]
  },
  {
   "cell_type": "code",
   "execution_count": 13,
   "metadata": {},
   "outputs": [],
   "source": [
    "# pd.to_datetime(daysToUse).strftime('%d.%B')\n",
    "# # daysToUse"
   ]
  },
  {
   "cell_type": "code",
   "execution_count": 14,
   "metadata": {},
   "outputs": [
    {
     "data": {
      "application/vnd.jupyter.widget-view+json": {
       "model_id": "dd05815af9804c75b05e8ab035a6d217",
       "version_major": 2,
       "version_minor": 0
      },
      "text/plain": [
       "Canvas(toolbar=Toolbar(toolitems=[('Home', 'Reset original view', 'home', 'home'), ('Back', 'Back to previous …"
      ]
     },
     "metadata": {},
     "output_type": "display_data"
    }
   ],
   "source": [
    "fig,ax1 = plt.subplots()\n",
    "\n",
    "firstDataPoint = 28\n",
    "dfToPlot = dfCaseDiffCorr.iloc[firstDataPoint:,:-1]\n",
    "daysToUse = fullDates[firstDataPoint:]\n",
    "\n",
    "# plt.pcolor(dfCaseDiffCorr.iloc[:,1:])\n",
    "# dfCaseDiffCorr \n",
    "# dfCaseDiffCorr.heatmap()\n",
    "g = sns.heatmap(dfToPlot.transpose(),xticklabels=pd.to_datetime(daysToUse).strftime('%d. %B'))\n",
    "# g = sns.heatmap(dfToPlot.transpose())\n",
    "curXticks =  g.get_xticks()\n",
    "daySkip = 7\n",
    "g.set_xticks(curXticks[::daySkip])\n",
    "g.set_xticklabels(pd.to_datetime(daysToUse[::daySkip]).strftime('%d. %B'), fontsize =10)\n",
    "# g = sns.heatmap(dfCaseDiffCorr,annot=True,fmt=\"1\",cmap='turbo',xticklabels=pd.to_datetime(fullDates).strftime('%d-%b')[1:],yticklabels=dfCaseDiffCorr.columns[:-1])\n",
    "# g = sns.heatmap(dfCaseDiffCorr,annot=True,fmt=\"1\",cmap='turbo',xticklabels=pd.to_datetime(fullDates).strftime('%d-%b')[1:],yticklabels=dfCaseDiffCorr.columns[:-1])\n",
    "g.invert_yaxis()\n",
    "\n",
    "plt.title('Daglige tilfælde')\n",
    "\n",
    "if saveFigures:\n",
    "    plt.savefig('figs/HeatmapCasesNew')"
   ]
  },
  {
   "cell_type": "code",
   "execution_count": 15,
   "metadata": {},
   "outputs": [],
   "source": [
    "dfAges = pd.read_excel('DKfolketal2021clean.xlsx')\n",
    "DK_age = []\n",
    "DK_age.append(dfAges.iloc[0:10].Antal.sum())\n",
    "DK_age.append(dfAges.iloc[10:20].Antal.sum())\n",
    "DK_age.append(dfAges.iloc[20:30].Antal.sum())\n",
    "DK_age.append(dfAges.iloc[30:40].Antal.sum())\n",
    "DK_age.append(dfAges.iloc[40:50].Antal.sum())\n",
    "DK_age.append(dfAges.iloc[50:60].Antal.sum())\n",
    "DK_age.append(dfAges.iloc[60:70].Antal.sum())\n",
    "DK_age.append(dfAges.iloc[70:80].Antal.sum())\n",
    "DK_age.append(dfAges.iloc[80:90].Antal.sum())\n",
    "DK_age.append(dfAges.iloc[90:].Antal.sum())\n",
    "DK_age = np.array(DK_age)\n",
    "\n",
    "# caseValsNorm = dfCase.iloc[:,0:-1].div(DK_age).diff().iloc[1:].values.astype('float64')\n",
    "# caseValsNorm = 1000* np.transpose(caseValsNorm)"
   ]
  },
  {
   "cell_type": "code",
   "execution_count": 16,
   "metadata": {},
   "outputs": [
    {
     "data": {
      "application/vnd.jupyter.widget-view+json": {
       "model_id": "9895883cd3334f39a5c0acc330a4afa3",
       "version_major": 2,
       "version_minor": 0
      },
      "text/plain": [
       "Canvas(toolbar=Toolbar(toolitems=[('Home', 'Reset original view', 'home', 'home'), ('Back', 'Back to previous …"
      ]
     },
     "metadata": {},
     "output_type": "display_data"
    }
   ],
   "source": [
    "normDF = 10000 * dfCaseDiffCorr.iloc[:,:-1].div(DK_age)\n",
    "\n",
    "fig,ax1 = plt.subplots()\n",
    "\n",
    "firstDataPoint = 28\n",
    "dfToPlot = normDF.iloc[firstDataPoint:]\n",
    "daysToUse = fullDates[firstDataPoint:]\n",
    "\n",
    "g = sns.heatmap(dfToPlot.transpose(),xticklabels=pd.to_datetime(daysToUse).strftime('%d. %B'))\n",
    "curXticks =  g.get_xticks()\n",
    "daySkip = 7\n",
    "g.set_xticks(curXticks[::daySkip])\n",
    "g.set_xticklabels(pd.to_datetime(daysToUse[::daySkip]).strftime('%d. %B'), fontsize =10)\n",
    "g.invert_yaxis()\n",
    "\n",
    "\n",
    "plt.title('Daglige tilfælde, per 10.000')\n",
    "\n",
    "if saveFigures:\n",
    "    plt.savefig('figs/HeatmapCasesNormNew')"
   ]
  },
  {
   "cell_type": "code",
   "execution_count": 17,
   "metadata": {},
   "outputs": [
    {
     "data": {
      "application/vnd.jupyter.widget-view+json": {
       "model_id": "ef16a18ad1274cc897b17f8fe1d943b3",
       "version_major": 2,
       "version_minor": 0
      },
      "text/plain": [
       "Canvas(toolbar=Toolbar(toolitems=[('Home', 'Reset original view', 'home', 'home'), ('Back', 'Back to previous …"
      ]
     },
     "metadata": {},
     "output_type": "display_data"
    }
   ],
   "source": [
    "\n",
    "firstDataPoint = 25\n",
    "dfToPlot = dfCaseDiffCorr.iloc[firstDataPoint:,:-1]\n",
    "daysToUse = fullDates[firstDataPoint:]\n",
    "\n",
    "\n",
    "dfCaseDiffCorrRM = pd.DataFrame()\n",
    "\n",
    "meanWidth = 7\n",
    "for curCol in dfCaseDiffCorr.columns[:-1]:\n",
    "    dfCaseDiffCorrRM[curCol] = rnMean(dfCaseDiffCorr[curCol],meanWidth)\n",
    "# dfCaseDiffCorrRM[curCol]\n",
    "dfToPlot = dfCaseDiffCorrRM.iloc[firstDataPoint:]\n",
    "\n",
    "fig,ax1 = plt.subplots()\n",
    "\n",
    "g = sns.heatmap(dfToPlot.transpose(),xticklabels=pd.to_datetime(daysToUse).strftime('%d. %B'),cmap='turbo')\n",
    "curXticks =  g.get_xticks()\n",
    "daySkip = 7\n",
    "g.set_xticks(curXticks[::daySkip])\n",
    "g.set_xticklabels(pd.to_datetime(daysToUse[::daySkip]).strftime('%d. %b'), fontsize =10)\n",
    "g.invert_yaxis()\n",
    "\n",
    "plt.title(f'Daglige tilfælde, {meanWidth} dages gennemsnit')\n",
    "\n",
    "if saveFigures:\n",
    "    plt.savefig(f'figs/HeatmapCasesNew_{meanWidth}rm')\n"
   ]
  },
  {
   "cell_type": "code",
   "execution_count": 18,
   "metadata": {},
   "outputs": [
    {
     "data": {
      "application/vnd.jupyter.widget-view+json": {
       "model_id": "fe38059012bb49d881b063108f7cbb66",
       "version_major": 2,
       "version_minor": 0
      },
      "text/plain": [
       "Canvas(toolbar=Toolbar(toolitems=[('Home', 'Reset original view', 'home', 'home'), ('Back', 'Back to previous …"
      ]
     },
     "metadata": {},
     "output_type": "display_data"
    }
   ],
   "source": [
    "\n",
    "firstDataPoint = 25\n",
    "dfToPlot = normDF.iloc[firstDataPoint:,:-1]\n",
    "daysToUse = fullDates[firstDataPoint:]\n",
    "\n",
    "normDFRM = pd.DataFrame()\n",
    "\n",
    "meanWidth = 7\n",
    "for curCol in normDF.columns[:-1]:\n",
    "    normDFRM[curCol] = rnMean(normDF[curCol],meanWidth)\n",
    "# normDFRM[curCol]\n",
    "dfToPlot = normDFRM.iloc[firstDataPoint:]\n",
    "\n",
    "fig,ax1 = plt.subplots()\n",
    "\n",
    "g = sns.heatmap(dfToPlot.transpose(),xticklabels=pd.to_datetime(daysToUse).strftime('%d. %B'),cmap='turbo')\n",
    "curXticks =  g.get_xticks()\n",
    "daySkip = 7\n",
    "g.set_xticks(curXticks[::daySkip])\n",
    "g.set_xticklabels(pd.to_datetime(daysToUse[::daySkip]).strftime('%d. %b'), fontsize =10)\n",
    "g.invert_yaxis()\n",
    "\n",
    "plt.title(f'Daglige tilfælde, per 10.000, {meanWidth} dages gennemsnit')\n",
    "\n",
    "if saveFigures:\n",
    "    plt.savefig(f'figs/HeatmapCasesNormNew_{meanWidth}rm')\n"
   ]
  },
  {
   "cell_type": "code",
   "execution_count": null,
   "metadata": {},
   "outputs": [],
   "source": []
  },
  {
   "cell_type": "code",
   "execution_count": 19,
   "metadata": {},
   "outputs": [],
   "source": [
    "\n",
    "\n",
    "# fig,ax1 = plt.subplots()\n",
    "\n",
    "# cmap = cm.get_cmap('twilight',len(allAge)+1)\n",
    "\n",
    "# # for ag in allAge:\n",
    "# for k in range(0,len(allAge)):\n",
    "#     ag = allAge[k]\n",
    "#     curVals = dfCaseDiff[ag].values\n",
    "#     ax1.plot(diffDates,curVals,'.:',color=cmap(k),linewidth=0.5,markersize=2)\n",
    "#     ax1.plot(rnTime(diffDates,7),rnMean(curVals,7),color=cmap(k),label=ag)\n",
    "\n",
    "#     # prevVals = curVals\n",
    "\n",
    "# # ax1.plot(diffDates,dfCaseDiff,'-*')\n",
    "# # ax1.plot(rnTime(diffDates,7),rnMean(dfCaseDiff,7),'-*')\n",
    "\n",
    "# ax1.legend()\n",
    "# plt.tight_layout()"
   ]
  },
  {
   "cell_type": "markdown",
   "metadata": {},
   "source": [
    "# Hospital admissions"
   ]
  },
  {
   "cell_type": "code",
   "execution_count": 20,
   "metadata": {},
   "outputs": [
    {
     "name": "stdout",
     "output_type": "stream",
     "text": [
      "c:\\Users\\rakrpe\\Documents\\PandemiX\\GithubRepos\\PandemiX\\DanskeData\\ssi_dashboard/SSI_dashboard_2021-05-25\n",
      "Number of dataframes in alldfs_adm: 157\n"
     ]
    }
   ],
   "source": [
    "curFileName = '\\\\Regionalt_DB\\\\04_indlagte_pr_alders_grp_pr_region.csv'\n",
    "alldfs_adm = []\n",
    "\n",
    "\n",
    "\n",
    "allDates_adm = []\n",
    "\n",
    "\n",
    "for f in os.scandir(rootdir):\n",
    "    curPath = f.path\n",
    "    latestdir = curPath\n",
    "    try:\n",
    "        curDate = pd.to_datetime(curPath[-10:])\n",
    "\n",
    "        \n",
    "        curcsvpath = curPath + curFileName\n",
    "        curdf = pd.read_csv(curcsvpath,delimiter = ';',dtype=str,encoding='latin-1')\n",
    "\n",
    "        allDates_adm.append(curDate)\n",
    "        alldfs_adm.append(curdf)\n",
    "    except:\n",
    "        print(curPath)\n",
    "    \n",
    "print(f'Number of dataframes in alldfs_adm: {len(alldfs_adm)}')\n"
   ]
  },
  {
   "cell_type": "code",
   "execution_count": 21,
   "metadata": {},
   "outputs": [],
   "source": [
    "numDataframe = len(alldfs_adm)\n",
    "\n",
    "# Whole country, age-split\n",
    "\n",
    "allAge = alldfs_adm[0]['Alders gruppe'].unique()\n",
    "\n",
    "dfAdm = pd.DataFrame()\n",
    "\n",
    "dfAdm['Dato'] = allDates_adm\n",
    "\n",
    "\n",
    "for ag in range(len(allAge)):\n",
    "    curAge = allAge[ag]\n",
    "\n",
    "    allAdm = []\n",
    "\n",
    "    prevDate = allDates[0]\n",
    "\n",
    "    for da in range(0,numDataframe):\n",
    "        thisdf = alldfs_adm[da]\n",
    "        thisdf = thisdf[thisdf['Alders gruppe'] == curAge]\n",
    "\n",
    "        thisAdm = thisdf['Indlæggelser'].astype(int).sum()\n",
    "\n",
    "\n",
    "        allAdm.append(thisAdm)\n",
    "\n",
    "\n",
    "    \n",
    "    dfAdm[curAge] = allAdm"
   ]
  },
  {
   "cell_type": "code",
   "execution_count": 22,
   "metadata": {},
   "outputs": [],
   "source": [
    "# Calculate difference, and average out weekends\n",
    "\n",
    "dfAdmDiff = dfAdm.diff().iloc[1:]\n",
    "\n",
    "actualDiffDates = dfAdmDiff.Dato\n",
    "actualDiffDates = (actualDiffDates/np.timedelta64(1,'D')).astype(int)\n",
    "\n",
    "\n",
    "fullDatesAdm = np.arange(allDates_adm[0],allDates_adm[-1],np.timedelta64(1,'D'))\n",
    "\n",
    "dfAdmDiffCorr = dfAdmDiff.copy()\n",
    "\n",
    "for r in range(0,len(dfAdmDiff)):\n",
    "    if ((actualDiffDates.values[r]) != 1):\n",
    "        # print(dfAdmDiff.iloc[r])\n",
    "        curRow = dfAdmDiff.iloc[r]\n",
    "        numDays = int(curRow.Dato/np.timedelta64(1,'D'))\n",
    "\n",
    "        rowToAdd = curRow/numDays\n",
    "\n",
    "        for k in range(1,numDays+1):\n",
    "            dfAdmDiffCorr.loc[r+(0.01*k)] = rowToAdd\n",
    "        dfAdmDiffCorr = dfAdmDiffCorr.drop(r+1)\n",
    "        \n",
    "\n",
    "\n",
    "dfAdmDiffCorr = dfAdmDiffCorr.sort_index().reset_index(drop=True)\n",
    "dfAdmDiffCorr = dfAdmDiffCorr.iloc[:,1:]"
   ]
  },
  {
   "cell_type": "code",
   "execution_count": 23,
   "metadata": {},
   "outputs": [
    {
     "data": {
      "application/vnd.jupyter.widget-view+json": {
       "model_id": "fee6e03e215b4d3990ecfc8e0bb435d3",
       "version_major": 2,
       "version_minor": 0
      },
      "text/plain": [
       "Canvas(toolbar=Toolbar(toolitems=[('Home', 'Reset original view', 'home', 'home'), ('Back', 'Back to previous …"
      ]
     },
     "metadata": {},
     "output_type": "display_data"
    }
   ],
   "source": [
    "\n",
    "sumAdm = dfAdmDiffCorr.sum(axis=1)\n",
    "sumAdm\n",
    "\n",
    "fig,ax1 = plt.subplots()\n",
    "\n",
    "\n",
    "cmap = cm.get_cmap('tab20c',len(allAge))\n",
    "for k in range(len(allAge)):\n",
    "    curAge = allAge[k]\n",
    "\n",
    "    ax1.plot(fullDatesAdm,dfAdmDiffCorr[curAge],'.:',markersize=2,linewidth=0.5,color=cmap(k))\n",
    "    ax1.plot(rnTime(fullDatesAdm,7),rnMean(dfAdmDiffCorr[curAge],7),color=cmap(k),label=curAge)\n",
    "\n",
    "\n",
    "ax1.plot(fullDatesAdm,sumAdm,'.:',markersize=2,linewidth=0.5,color='k')\n",
    "ax1.plot(rnTime(fullDatesAdm,7),rnMean(sumAdm,7),color='k',label='Total')\n",
    "\n",
    "ax1.legend()\n",
    "ax1.set_ylim(bottom=0)\n",
    "\n",
    "plt.tight_layout()"
   ]
  },
  {
   "cell_type": "code",
   "execution_count": 24,
   "metadata": {},
   "outputs": [],
   "source": [
    "# dfAdmDiffCorr"
   ]
  },
  {
   "cell_type": "code",
   "execution_count": 57,
   "metadata": {},
   "outputs": [
    {
     "data": {
      "application/vnd.jupyter.widget-view+json": {
       "model_id": "de93f039e82c4c778224e8a8fb4452be",
       "version_major": 2,
       "version_minor": 0
      },
      "text/plain": [
       "Canvas(toolbar=Toolbar(toolitems=[('Home', 'Reset original view', 'home', 'home'), ('Back', 'Back to previous …"
      ]
     },
     "metadata": {},
     "output_type": "display_data"
    }
   ],
   "source": [
    "fig,(ax1,ax2) = plt.subplots(2,1,sharex=True)\n",
    "\n",
    "bgColor = 'lightgrey'\n",
    "fig.patch.set_facecolor(bgColor)\n",
    "ax1.set_facecolor(bgColor)\n",
    "ax2.set_facecolor(bgColor)\n",
    "\n",
    "newVals = dfAdmDiffCorr['0-9'].values\n",
    "curVals = np.zeros(newVals.shape)\n",
    "prevVals = np.zeros(newVals.shape)\n",
    "\n",
    "# totCase = dfAdmDiffCorr.iloc[:,1:].sum(axis=1)\n",
    "totCase = dfAdmDiffCorr.sum(axis=1)\n",
    "totCaseRM = rnMean(totCase,7)\n",
    "\n",
    "ax1.plot(rnTime(fullDates,7),totCaseRM,'k',linewidth=1,label='Total')\n",
    "\n",
    "firstDateToShow = np.datetime64('2021-05-01')\n",
    "\n",
    "cmap = cm.get_cmap('Spectral',len(allAge)+1)\n",
    "for k in range(0,len(allAge)):\n",
    "    ag = allAge[k]\n",
    "    newVals = dfAdmDiffCorr[ag].values\n",
    "\n",
    "    curVals = curVals + newVals\n",
    "\n",
    "    ax1.fill_between(rnTime(fullDates,7),rnMean(curVals,7),rnMean(prevVals,7),color=cmap(k),label=ag)\n",
    "    \n",
    "    ax2.fill_between(rnTime(fullDates,7),100*np.divide(rnMean(curVals,7),totCaseRM),100*np.divide(rnMean(prevVals,7),totCaseRM),color=cmap(k),label=ag)\n",
    "\n",
    "    # ax2.text(firstDateToShow,(100/totCase[0])*(prevVals[0]),ag)\n",
    "    # ax1.text(firstDateToShow,prevVals[0]+curVals[0]/4,ag)\n",
    "\n",
    "    prevVals += newVals\n",
    "    \n",
    "\n",
    "# Draw weekends\n",
    "firstSunday = np.datetime64('2021-01-03')\n",
    "numWeeks = 52\n",
    "for k in range(0,numWeeks):\n",
    "    curSunday = firstSunday + np.timedelta64(7*k,'D')\n",
    "    ax1.axvspan(curSunday-np.timedelta64(1,'D')-np.timedelta64(12,'h'),curSunday+np.timedelta64(12,'h'),zorder=-1,facecolor='grey')\n",
    "    ax2.axvspan(curSunday-np.timedelta64(1,'D')-np.timedelta64(12,'h'),curSunday+np.timedelta64(12,'h'),zorder=-1,facecolor='grey')\n",
    "\n",
    "ax1.axvspan(curSunday-np.timedelta64(1,'D')-np.timedelta64(12,'h'),curSunday+np.timedelta64(12,'h'),facecolor='lightgrey',label='Weekend') \n",
    "# ax1.set_xlim(left=fullDates[3])\n",
    "ax1.set_xlim(left=firstDateToShow)\n",
    "ax1.set_xlim(right=fullDates[-1])\n",
    "\n",
    "ax1.set_ylabel('Tilfælde')\n",
    "ax2.set_ylabel('Andel ud af alle tilfælde [%]')\n",
    "\n",
    "ax1.legend(loc='upper left',fontsize=8)\n",
    "\n",
    "ax1.set_ylim(bottom=0,top=40)\n",
    "ax2.set_ylim(bottom=0,top=100)\n",
    "ax1.xaxis.set_major_formatter(mdates.DateFormatter('%d\\n%B'))\n",
    "plt.tight_layout()\n",
    "\n",
    "if saveFigures:\n",
    "    plt.savefig('figs/AdmissionAgeSplit')"
   ]
  },
  {
   "cell_type": "code",
   "execution_count": 58,
   "metadata": {},
   "outputs": [
    {
     "name": "stdout",
     "output_type": "stream",
     "text": [
      "Index(['0-9', '10-19', '20-29', '30-39', '40-49', '50-59', '60-69', '70-79',\n",
      "       '80-89', '90+'],\n",
      "      dtype='object')\n",
      "Index(['0-9', '10-19'], dtype='object')\n",
      "Index(['20-29', '30-39'], dtype='object')\n",
      "Index(['40-49', '50-59', '60-69'], dtype='object')\n",
      "Index(['70-79', '80-89', '90+'], dtype='object')\n"
     ]
    },
    {
     "data": {
      "text/html": [
       "<div>\n",
       "<style scoped>\n",
       "    .dataframe tbody tr th:only-of-type {\n",
       "        vertical-align: middle;\n",
       "    }\n",
       "\n",
       "    .dataframe tbody tr th {\n",
       "        vertical-align: top;\n",
       "    }\n",
       "\n",
       "    .dataframe thead th {\n",
       "        text-align: right;\n",
       "    }\n",
       "</style>\n",
       "<table border=\"1\" class=\"dataframe\">\n",
       "  <thead>\n",
       "    <tr style=\"text-align: right;\">\n",
       "      <th></th>\n",
       "      <th>0-19</th>\n",
       "      <th>20-39</th>\n",
       "      <th>40-69</th>\n",
       "      <th>70+</th>\n",
       "    </tr>\n",
       "  </thead>\n",
       "  <tbody>\n",
       "    <tr>\n",
       "      <th>227</th>\n",
       "      <td>2.000000</td>\n",
       "      <td>10.000000</td>\n",
       "      <td>12.000000</td>\n",
       "      <td>17.0</td>\n",
       "    </tr>\n",
       "    <tr>\n",
       "      <th>228</th>\n",
       "      <td>2.666667</td>\n",
       "      <td>5.666667</td>\n",
       "      <td>12.333333</td>\n",
       "      <td>17.0</td>\n",
       "    </tr>\n",
       "    <tr>\n",
       "      <th>229</th>\n",
       "      <td>2.666667</td>\n",
       "      <td>5.666667</td>\n",
       "      <td>12.333333</td>\n",
       "      <td>17.0</td>\n",
       "    </tr>\n",
       "    <tr>\n",
       "      <th>230</th>\n",
       "      <td>2.666667</td>\n",
       "      <td>5.666667</td>\n",
       "      <td>12.333333</td>\n",
       "      <td>17.0</td>\n",
       "    </tr>\n",
       "    <tr>\n",
       "      <th>231</th>\n",
       "      <td>2.000000</td>\n",
       "      <td>4.000000</td>\n",
       "      <td>11.000000</td>\n",
       "      <td>17.0</td>\n",
       "    </tr>\n",
       "  </tbody>\n",
       "</table>\n",
       "</div>"
      ],
      "text/plain": [
       "         0-19      20-39      40-69   70+\n",
       "227  2.000000  10.000000  12.000000  17.0\n",
       "228  2.666667   5.666667  12.333333  17.0\n",
       "229  2.666667   5.666667  12.333333  17.0\n",
       "230  2.666667   5.666667  12.333333  17.0\n",
       "231  2.000000   4.000000  11.000000  17.0"
      ]
     },
     "execution_count": 58,
     "metadata": {},
     "output_type": "execute_result"
    }
   ],
   "source": [
    "# dfAdmDiffCorr\n",
    "dfAdmGrouped = pd.DataFrame()\n",
    "print(dfAdmDiffCorr.columns)\n",
    "print(dfAdmDiffCorr.columns[0:2])\n",
    "dfAdmGrouped['0-19'] = dfAdmDiffCorr.iloc[:,0:2].sum(axis=1) \n",
    "# print(dfAdmDiffCorr.columns[2:7])\n",
    "# dfAdmGrouped['20-69'] = dfAdmDiffCorr.iloc[:,2:7].sum(axis=1) \n",
    "print(dfAdmDiffCorr.columns[2:4])\n",
    "dfAdmGrouped['20-39'] = dfAdmDiffCorr.iloc[:,2:4].sum(axis=1) \n",
    "print(dfAdmDiffCorr.columns[4:7])\n",
    "dfAdmGrouped['40-69'] = dfAdmDiffCorr.iloc[:,4:7].sum(axis=1) \n",
    "print(dfAdmDiffCorr.columns[7:])\n",
    "dfAdmGrouped['70+'] = dfAdmDiffCorr.iloc[:,7:].sum(axis=1) \n",
    "\n",
    "dfAdmGrouped.tail()"
   ]
  },
  {
   "cell_type": "code",
   "execution_count": 83,
   "metadata": {},
   "outputs": [
    {
     "data": {
      "application/vnd.jupyter.widget-view+json": {
       "model_id": "e7df4e3d2b19425bb1956dda0d8617ba",
       "version_major": 2,
       "version_minor": 0
      },
      "text/plain": [
       "Canvas(toolbar=Toolbar(toolitems=[('Home', 'Reset original view', 'home', 'home'), ('Back', 'Back to previous …"
      ]
     },
     "metadata": {},
     "output_type": "display_data"
    }
   ],
   "source": [
    "fig,(ax1,ax2) = plt.subplots(2,1,sharex=True)\n",
    "\n",
    "bgColor = 'lightgrey'\n",
    "fig.patch.set_facecolor(bgColor)\n",
    "ax1.set_facecolor(bgColor)\n",
    "ax2.set_facecolor(bgColor)\n",
    "\n",
    "allAgeCur = dfAdmGrouped.columns\n",
    "newVals = dfAdmGrouped['0-19'].values\n",
    "curVals = np.zeros(newVals.shape)\n",
    "prevVals = np.zeros(newVals.shape)\n",
    "\n",
    "# totCase = dfAdmGrouped.iloc[:,1:].sum(axis=1)\n",
    "totCase = dfAdmGrouped.sum(axis=1)\n",
    "totCaseRM = rnMean(totCase,7)\n",
    "\n",
    "ax1.plot(rnTime(fullDates,7),totCaseRM,'k',linewidth=1,label='Total')\n",
    "\n",
    "firstDateToShow = np.datetime64('2021-05-01')\n",
    "\n",
    "cmap = cm.get_cmap('Spectral_r',len(allAgeCur)+1)\n",
    "for k in range(0,len(allAgeCur)):\n",
    "    ag = allAgeCur[k]\n",
    "    newVals = dfAdmGrouped[ag].values\n",
    "\n",
    "    curVals = curVals + newVals\n",
    "\n",
    "    ax1.fill_between(rnTime(fullDates,7),rnMean(curVals,7),rnMean(prevVals,7),color=cmap(k),label=ag)\n",
    "    \n",
    "    ax2.fill_between(rnTime(fullDates,7),100*np.divide(rnMean(curVals,7),totCaseRM),100*np.divide(rnMean(prevVals,7),totCaseRM),color=cmap(k),label=ag)\n",
    "\n",
    "    # ax2.text(firstDateToShow,(100/totCase[0])*(prevVals[0]),ag)\n",
    "    # ax1.text(firstDateToShow,prevVals[0]+curVals[0]/4,ag)\n",
    "\n",
    "    prevVals += newVals\n",
    "    \n",
    "\n",
    "# Draw weekends\n",
    "firstSunday = np.datetime64('2021-01-03')\n",
    "numWeeks = 52\n",
    "for k in range(0,numWeeks):\n",
    "    curSunday = firstSunday + np.timedelta64(7*k,'D')\n",
    "    ax1.axvspan(curSunday-np.timedelta64(1,'D')-np.timedelta64(12,'h'),curSunday+np.timedelta64(12,'h'),zorder=-1,facecolor='grey',label=int(k==0)*'Weekend')\n",
    "    ax2.axvspan(curSunday-np.timedelta64(1,'D')-np.timedelta64(12,'h'),curSunday+np.timedelta64(12,'h'),zorder=-1,facecolor='grey')\n",
    "\n",
    "# ax1.axvspan(curSunday-np.timedelta64(1,'D')-np.timedelta64(12,'h'),curSunday+np.timedelta64(12,'h'),facecolor='grey',label='Weekend') \n",
    "# ax1.set_xlim(left=fullDates[3])\n",
    "# ax1.set_xlim(left=firstDateToShow)\n",
    "# ax1.set_xlim(right=fullDates[-1])\n",
    "ax1.set_xlim(left=np.datetime64('2021-05-19'))\n",
    "ax1.set_xlim(right=np.datetime64('2021-11-02'))\n",
    "\n",
    "ax1.set_ylabel('Antal nyindlæggelser\\n(per dag)')\n",
    "ax2.set_ylabel('Andel ud af alle nyindlæggelser [%]')\n",
    "\n",
    "# ax1.legend(loc='upper left',fontsize=12)\n",
    "ax1.legend(loc='center left', bbox_to_anchor=(1, 0.5))\n",
    "\n",
    "ax1.set_ylim(bottom=0,top=40)\n",
    "ax2.set_ylim(bottom=0,top=100)\n",
    "ax1.xaxis.set_major_formatter(mdates.DateFormatter('%d\\n%b'))\n",
    "plt.tight_layout()\n",
    "\n",
    "if saveFigures:\n",
    "    plt.savefig('figs/AdmissionAgeSplit_grouped')\n",
    "    \n",
    "    \n",
    "ax1.set_xlim(left=np.datetime64('2021-07-15'))\n",
    "ax1.set_xlim(right=np.datetime64('2021-11-02'))\n",
    "\n",
    "if saveFigures:\n",
    "    plt.savefig('figs/AdmissionAgeSplit_grouped_zoom')"
   ]
  },
  {
   "cell_type": "code",
   "execution_count": 26,
   "metadata": {},
   "outputs": [
    {
     "data": {
      "text/plain": [
       "(array([72], dtype=int64),)"
      ]
     },
     "execution_count": 26,
     "metadata": {},
     "output_type": "execute_result"
    }
   ],
   "source": [
    "np.where(fullDatesAdm == np.datetime64('2021-05-19'))"
   ]
  },
  {
   "cell_type": "code",
   "execution_count": 27,
   "metadata": {},
   "outputs": [
    {
     "data": {
      "application/vnd.jupyter.widget-view+json": {
       "model_id": "58f5881a492c4734b6ef4ba342916310",
       "version_major": 2,
       "version_minor": 0
      },
      "text/plain": [
       "Canvas(toolbar=Toolbar(toolitems=[('Home', 'Reset original view', 'home', 'home'), ('Back', 'Back to previous …"
      ]
     },
     "metadata": {},
     "output_type": "display_data"
    }
   ],
   "source": [
    "fig,ax1 = plt.subplots()\n",
    "\n",
    "# firstDataPoint = 80\n",
    "firstDataPoint = np.where(fullDatesAdm == np.datetime64('2021-05-19'))[0][0]\n",
    "dfToPlot = dfAdmDiffCorr.iloc[firstDataPoint:]\n",
    "daysToUse = fullDates[firstDataPoint:]\n",
    "\n",
    "g = sns.heatmap(dfToPlot.transpose(),xticklabels=pd.to_datetime(daysToUse).strftime('%d. %B'),cmap='turbo')\n",
    "curXticks =  g.get_xticks()\n",
    "daySkip = 7\n",
    "g.set_xticks(curXticks[::daySkip])\n",
    "g.set_xticklabels(pd.to_datetime(daysToUse[::daySkip]).strftime('%d. %B'), fontsize =10)\n",
    "g.invert_yaxis()\n",
    "\n",
    "plt.title('Daglige indlæggelser')\n",
    "\n",
    "if saveFigures:\n",
    "    plt.savefig('figs/HeatmapAdmissionsNew')"
   ]
  },
  {
   "cell_type": "code",
   "execution_count": 28,
   "metadata": {},
   "outputs": [],
   "source": [
    "# normDF = 100000 * dfAdmDiffCorr.div(DK_age)\n",
    "normDF[normDF == 0] = 0"
   ]
  },
  {
   "cell_type": "code",
   "execution_count": 29,
   "metadata": {},
   "outputs": [
    {
     "data": {
      "application/vnd.jupyter.widget-view+json": {
       "model_id": "bcbfb273832941669bdd9c361ffe0a06",
       "version_major": 2,
       "version_minor": 0
      },
      "text/plain": [
       "Canvas(toolbar=Toolbar(toolitems=[('Home', 'Reset original view', 'home', 'home'), ('Back', 'Back to previous …"
      ]
     },
     "metadata": {},
     "output_type": "display_data"
    }
   ],
   "source": [
    "normDF = 100000 * dfAdmDiffCorr.div(DK_age)\n",
    "\n",
    "normDF[normDF <= 0] = 0\n",
    "\n",
    "fig,ax1 = plt.subplots()\n",
    "\n",
    "# firstDataPoint = 28\n",
    "dfToPlot = normDF.iloc[firstDataPoint:]\n",
    "daysToUse = fullDates[firstDataPoint:]\n",
    "\n",
    "g = sns.heatmap(dfToPlot.transpose(),xticklabels=pd.to_datetime(daysToUse).strftime('%d. %B'),cmap='turbo')\n",
    "curXticks =  g.get_xticks()\n",
    "daySkip = 7\n",
    "g.set_xticks(curXticks[::daySkip])\n",
    "g.set_xticklabels(pd.to_datetime(daysToUse[::daySkip]).strftime('%d. %B'), fontsize =10)\n",
    "g.invert_yaxis()\n",
    "\n",
    "\n",
    "plt.title('Daglige indlæggelser, per 100.000')\n",
    "\n",
    "if saveFigures:\n",
    "    plt.savefig('figs/HeatmapAdmissionsNormNew')"
   ]
  },
  {
   "cell_type": "code",
   "execution_count": 30,
   "metadata": {},
   "outputs": [],
   "source": [
    "# dfAdmDiffCorr"
   ]
  },
  {
   "cell_type": "code",
   "execution_count": 31,
   "metadata": {},
   "outputs": [
    {
     "data": {
      "application/vnd.jupyter.widget-view+json": {
       "model_id": "efcf00f1792748219214934ebf443f73",
       "version_major": 2,
       "version_minor": 0
      },
      "text/plain": [
       "Canvas(toolbar=Toolbar(toolitems=[('Home', 'Reset original view', 'home', 'home'), ('Back', 'Back to previous …"
      ]
     },
     "metadata": {},
     "output_type": "display_data"
    }
   ],
   "source": [
    "\n",
    "firstDataPoint = 65\n",
    "dfToPlot = dfAdmDiffCorr.iloc[firstDataPoint:]\n",
    "daysToUse = fullDates[firstDataPoint:]\n",
    "\n",
    "\n",
    "dfAdmDiffCorrRM = pd.DataFrame()\n",
    "\n",
    "meanWidth = 7\n",
    "for curCol in dfAdmDiffCorr.columns:\n",
    "    dfAdmDiffCorrRM[curCol] = rnMean(dfAdmDiffCorr[curCol],meanWidth)\n",
    "# dfAdmDiffCorrRM[curCol]\n",
    "dfToPlot = dfAdmDiffCorrRM.iloc[firstDataPoint:]\n",
    "\n",
    "fig,ax1 = plt.subplots()\n",
    "\n",
    "g = sns.heatmap(dfToPlot.transpose(),xticklabels=pd.to_datetime(daysToUse).strftime('%d. %B'),cmap='turbo')\n",
    "curXticks =  g.get_xticks()\n",
    "daySkip = 7\n",
    "g.set_xticks(curXticks[::daySkip])\n",
    "g.set_xticklabels(pd.to_datetime(daysToUse[::daySkip]).strftime('%d. %b'), fontsize =10)\n",
    "g.invert_yaxis()\n",
    "\n",
    "g.set_yticklabels(g.get_yticklabels(),rotation=0)\n",
    "\n",
    "plt.title(f'Daglige indlæggelser, {meanWidth} dages gennemsnit')\n",
    "\n",
    "if saveFigures:\n",
    "    plt.savefig(f'figs/HeatmapAdmNew_{meanWidth}rm')\n"
   ]
  },
  {
   "cell_type": "code",
   "execution_count": 32,
   "metadata": {},
   "outputs": [
    {
     "data": {
      "application/vnd.jupyter.widget-view+json": {
       "model_id": "d8cfc4211d3943ad8011ff1fe249bc8c",
       "version_major": 2,
       "version_minor": 0
      },
      "text/plain": [
       "Canvas(toolbar=Toolbar(toolitems=[('Home', 'Reset original view', 'home', 'home'), ('Back', 'Back to previous …"
      ]
     },
     "metadata": {},
     "output_type": "display_data"
    }
   ],
   "source": [
    "\n",
    "firstDataPoint = 65\n",
    "dfToPlot = normDF.iloc[firstDataPoint:]\n",
    "daysToUse = fullDates[firstDataPoint:]\n",
    "\n",
    "\n",
    "normDFRM = pd.DataFrame()\n",
    "\n",
    "meanWidth = 7\n",
    "for curCol in normDF.columns:\n",
    "    normDFRM[curCol] = rnMean(normDF[curCol],meanWidth)\n",
    "# normDFRM[curCol]\n",
    "dfToPlot = normDFRM.iloc[firstDataPoint:]\n",
    "\n",
    "fig,ax1 = plt.subplots()\n",
    "\n",
    "g = sns.heatmap(dfToPlot.transpose(),xticklabels=pd.to_datetime(daysToUse).strftime('%d. %B'),cmap='turbo')\n",
    "curXticks =  g.get_xticks()\n",
    "daySkip = 7\n",
    "g.set_xticks(curXticks[::daySkip])\n",
    "g.set_xticklabels(pd.to_datetime(daysToUse[::daySkip]).strftime('%d. %b'), fontsize =10)\n",
    "g.invert_yaxis()\n",
    "\n",
    "g.set_yticklabels(g.get_yticklabels(),rotation=0)\n",
    "\n",
    "plt.title(f'Daglige indlæggelser per 100.000, {meanWidth} dages gennemsnit')\n",
    "\n",
    "if saveFigures:\n",
    "    plt.savefig(f'figs/HeatmapAdmNewNorm_{meanWidth}rm')\n"
   ]
  },
  {
   "cell_type": "markdown",
   "metadata": {},
   "source": [
    "# Dødsfald"
   ]
  },
  {
   "cell_type": "code",
   "execution_count": 33,
   "metadata": {},
   "outputs": [],
   "source": [
    "# ssidatapath = \"ssi_dashboard\"\n",
    "# rootdir = os.getcwd() +\"\\\\\" + ssidatapath\n",
    "\n",
    "\n",
    "# for f in os.scandir(rootdir):\n",
    "#     curPath = f.path\n",
    "#     latestdir = curPath\n",
    "#     latestDate = pd.to_datetime(curPath[-10:])\n",
    "#     try: \n",
    "#         curdf = pd.read_csv(curPath+'\\\\Regionalt_DB\\\\05_bekraeftede_tilfaelde_doede_pr_region_pr_alders_grp.csv',delimiter=';',encoding='latin-1')\n",
    "#     except:\n",
    "#         2+2\n",
    "    \n",
    "    \n",
    "# allDates = []\n",
    "\n",
    "# ageGroups = curdf['Alders gruppe'].unique()\n",
    "# fulldf = pd.DataFrame(columns=ageGroups)\n",
    "# # fulldf\n",
    "\n",
    "# curCounter = 0\n",
    "\n",
    "\n",
    "# for f in os.scandir(rootdir):\n",
    "#     curPath = f.path\n",
    "#     latestdir = curPath\n",
    "#     latestDate = pd.to_datetime(curPath[-10:])\n",
    "    \n",
    "#     try: \n",
    "#         curdf = pd.read_csv(curPath+'\\\\Regionalt_DB\\\\05_bekraeftede_tilfaelde_doede_pr_region_pr_alders_grp.csv',delimiter=';',encoding='latin-1')\n",
    "#         curDeaths = curdf.groupby('Alders gruppe').sum()['Døde'].values\n",
    "#         fulldf.loc[curCounter] = curDeaths\n",
    "#         curCounter += 1\n",
    "        \n",
    "#         allDates.append(latestDate)\n",
    "#     except:\n",
    "#         print(curPath)\n",
    "    \n",
    "\n",
    "# print(latestdir)\n",
    "# print(latestDate)\n",
    "# # fulldf"
   ]
  },
  {
   "cell_type": "code",
   "execution_count": 34,
   "metadata": {},
   "outputs": [],
   "source": [
    "\n",
    "firstDataPoint = np.where(fullDates == np.datetime64('2021-04-19'))[0][0]"
   ]
  },
  {
   "cell_type": "code",
   "execution_count": 35,
   "metadata": {},
   "outputs": [
    {
     "data": {
      "application/vnd.jupyter.widget-view+json": {
       "model_id": "78d615f7588846bb8807273df4b87b3a",
       "version_major": 2,
       "version_minor": 0
      },
      "text/plain": [
       "Canvas(toolbar=Toolbar(toolitems=[('Home', 'Reset original view', 'home', 'home'), ('Back', 'Back to previous …"
      ]
     },
     "metadata": {},
     "output_type": "display_data"
    }
   ],
   "source": [
    "dfDeathDiffCorr\n",
    "\n",
    "# firstDataPoint = 30\n",
    "firstDataPoint = np.where(fullDates == np.datetime64('2021-04-15'))[0][0]\n",
    "dfToPlot = dfDeathDiffCorr.iloc[firstDataPoint:,:-1]\n",
    "daysToUse = fullDates[firstDataPoint:]\n",
    "\n",
    "dfDeathDiffCorrRM = pd.DataFrame()\n",
    "\n",
    "meanWidth = 14\n",
    "for curCol in dfDeathDiffCorr.columns[:-1]:\n",
    "    dfDeathDiffCorrRM[curCol] = rnMean(dfDeathDiffCorr[curCol],meanWidth)\n",
    "# dfDeathDiffCorrRM[curCol]\n",
    "dfDeathDiffCorrRM[dfDeathDiffCorrRM < 0] = 0\n",
    "dfToPlot = dfDeathDiffCorrRM.iloc[firstDataPoint:]\n",
    "\n",
    "\n",
    "fig,ax1 = plt.subplots()\n",
    "\n",
    "g = sns.heatmap(dfToPlot.transpose(),xticklabels=pd.to_datetime(daysToUse).strftime('%d. %b'),cmap='turbo')\n",
    "curXticks =  g.get_xticks()\n",
    "daySkip = 7\n",
    "g.set_xticks(curXticks[::daySkip])\n",
    "g.set_xticklabels(pd.to_datetime(daysToUse[::daySkip]).strftime('%d. %b'), fontsize =10)\n",
    "g.invert_yaxis()\n",
    "\n",
    "g.set_yticklabels(g.get_yticklabels(),rotation=0)\n",
    "\n",
    "\n",
    "plt.title(f'Daglige dødsfald, {meanWidth} dages gennemsnit')\n",
    "plt.title(f'Daily deaths, {meanWidth} day running mean')\n",
    "\n",
    "if saveFigures:\n",
    "    plt.savefig(f'figs/HeatmapDeathsNew_{meanWidth}rm')"
   ]
  },
  {
   "cell_type": "code",
   "execution_count": 36,
   "metadata": {},
   "outputs": [
    {
     "data": {
      "application/vnd.jupyter.widget-view+json": {
       "model_id": "4b5a06da4e934bbe9025ca5c9dc0e15a",
       "version_major": 2,
       "version_minor": 0
      },
      "text/plain": [
       "Canvas(toolbar=Toolbar(toolitems=[('Home', 'Reset original view', 'home', 'home'), ('Back', 'Back to previous …"
      ]
     },
     "metadata": {},
     "output_type": "display_data"
    }
   ],
   "source": [
    "normDFDeaths = 100000 * dfDeathDiffCorr.iloc[:,:-1].div(DK_age)\n",
    "normDFDeaths[normDFDeaths < 0] = 0\n",
    "normDFDeaths\n",
    "\n",
    "# firstDataPoint = 30\n",
    "firstDataPoint = np.where(fullDates == np.datetime64('2021-04-15'))[0][0]\n",
    "# dfToPlot = normDFDeaths.iloc[firstDataPoint:]\n",
    "daysToUse = fullDates[firstDataPoint:]\n",
    "\n",
    "normDFDeathsRM = pd.DataFrame()\n",
    "\n",
    "meanWidth = 14\n",
    "for curCol in normDFDeaths.columns:\n",
    "    normDFDeathsRM[curCol] = rnMean(normDFDeaths[curCol],meanWidth)\n",
    "dfToPlot = normDFDeathsRM.iloc[firstDataPoint:]\n",
    "\n",
    "\n",
    "fig,ax1 = plt.subplots()\n",
    "\n",
    "g = sns.heatmap(dfToPlot.transpose(),xticklabels=pd.to_datetime(daysToUse).strftime('%d. %b'),cmap='turbo')\n",
    "curXticks =  g.get_xticks()\n",
    "daySkip = 7\n",
    "g.set_xticks(curXticks[::daySkip])\n",
    "g.set_xticklabels(pd.to_datetime(daysToUse[::daySkip]).strftime('%d. %b'), fontsize =10)\n",
    "g.invert_yaxis()\n",
    "\n",
    "plt.title(f'Daglige dødsfald per 100.000, {meanWidth} dages gennemsnit')\n",
    "plt.title(f'Daily deaths per 100,000; {meanWidth} day running mean')\n",
    "\n",
    "if saveFigures:\n",
    "    plt.savefig(f'figs/HeatmapDeathsNewNorm_{meanWidth}rm')"
   ]
  },
  {
   "cell_type": "code",
   "execution_count": 37,
   "metadata": {},
   "outputs": [],
   "source": [
    "# dfDeathDiffCorr.plot(x='Dato')"
   ]
  },
  {
   "cell_type": "markdown",
   "metadata": {},
   "source": [
    "# Tests"
   ]
  },
  {
   "cell_type": "code",
   "execution_count": 38,
   "metadata": {},
   "outputs": [
    {
     "data": {
      "text/plain": [
       "'c:\\\\Users\\\\rakrpe\\\\Documents\\\\PandemiX\\\\GithubRepos\\\\PandemiX\\\\DanskeData\\\\ssi_data/SSI_data_2021-10-26'"
      ]
     },
     "execution_count": 38,
     "metadata": {},
     "output_type": "execute_result"
    }
   ],
   "source": [
    "# rootdir = ''\n",
    "dashDir = 'ssi_data/'\n",
    "\n",
    "rootdir = os.getcwd() +\"\\\\\" + dashDir\n",
    "\n",
    "\n",
    "for f in os.scandir(rootdir):\n",
    "    curPath = f.path\n",
    "    latestdir = curPath\n",
    "    latestDate = pd.to_datetime(curPath[-10:])\n",
    "\n",
    "latestDate\n",
    "latestdir"
   ]
  },
  {
   "cell_type": "code",
   "execution_count": 39,
   "metadata": {},
   "outputs": [
    {
     "name": "stdout",
     "output_type": "stream",
     "text": [
      "Number of dataframes in alldfs_test: 375\n"
     ]
    }
   ],
   "source": [
    "curFileName = '\\\\Cases_by_age.csv'\n",
    "alldfs_test = []\n",
    "\n",
    "\n",
    "\n",
    "allDates_test = []\n",
    "\n",
    "\n",
    "for f in os.scandir(rootdir):\n",
    "    curPath = f.path\n",
    "    latestdir = curPath\n",
    "    try:\n",
    "        curDate = pd.to_datetime(curPath[-10:])\n",
    "\n",
    "        \n",
    "        curcsvpath = curPath + curFileName\n",
    "        curdf = pd.read_csv(curcsvpath,delimiter = ';',dtype=str)\n",
    "\n",
    "        allDates_test.append(curDate)\n",
    "        alldfs_test.append(curdf)\n",
    "    except:\n",
    "        print(curPath)\n",
    "    \n",
    "print(f'Number of dataframes in alldfs_test: {len(alldfs_test)}')\n"
   ]
  },
  {
   "cell_type": "code",
   "execution_count": 40,
   "metadata": {},
   "outputs": [
    {
     "name": "stdout",
     "output_type": "stream",
     "text": [
      "   Aldersgruppe Antal_bekræftede_COVID-19 Antal_testede Procent_positive\n",
      "0           0-9                    30.466       485.519              6,3\n",
      "1         10-19                    63.676       653.393              9,7\n",
      "2         20-29                    78.258       742.009             10,5\n",
      "3         30-39                    51.813       657.431              7,9\n",
      "4         40-49                    50.759       697.353              7,3\n",
      "5         50-59                    45.126       714.254              6,3\n",
      "6         60-69                    23.385       543.460              4,3\n",
      "7         70-79                    13.644       419.197              3,3\n",
      "8         80-89                     6.675       158.573              4,2\n",
      "9           90+                     2.038        33.151              6,1\n",
      "10        I alt                   365.840     5.104.340              7,2\n"
     ]
    }
   ],
   "source": [
    "# thisdf = alldfs_test[-1]\n",
    "# int(thisdf[thisdf['Aldersgruppe'] == '0-9']['Antal_testede'].iloc[0].replace('.',''))\n",
    "print(alldfs_test[-10])\n",
    "# print(alldfs_test[-9])\n",
    "\n",
    "# alldfs_test\n",
    "# curdf"
   ]
  },
  {
   "cell_type": "code",
   "execution_count": 41,
   "metadata": {},
   "outputs": [],
   "source": [
    "numDataframe = len(alldfs_test)\n",
    "\n",
    "# allAge = alldfs_test[0]['Alders gruppe'].unique()\n",
    "\n",
    "dfTest = pd.DataFrame()\n",
    "\n",
    "dfTest['Dato'] = allDates_test\n",
    "\n",
    "\n",
    "for ag in range(len(allAge)):\n",
    "    curAge = allAge[ag]\n",
    "\n",
    "    allTest = []\n",
    "\n",
    "    prevDate = allDates_test[0]\n",
    "\n",
    "    for da in range(0,numDataframe):\n",
    "        thisdf = alldfs_test[da]\n",
    "        thisdf = thisdf[thisdf['Aldersgruppe'] == curAge]\n",
    "\n",
    "        thisTest = int(thisdf['Antal_testede'].iloc[0].replace('.',''))\n",
    "\n",
    "\n",
    "        allTest.append(thisTest)\n",
    "\n",
    "\n",
    "    \n",
    "    dfTest[curAge] = allTest"
   ]
  },
  {
   "cell_type": "code",
   "execution_count": 42,
   "metadata": {},
   "outputs": [],
   "source": [
    "# Calculate difference, and average out weekends\n",
    "\n",
    "dfTestDiff = dfTest.diff().iloc[1:]\n",
    "\n",
    "actualDiffDates = dfTestDiff.Dato\n",
    "actualDiffDates = (actualDiffDates/np.timedelta64(1,'D')).astype(int)\n",
    "\n",
    "\n",
    "fullDatesTest = np.arange(allDates_test[0],allDates_test[-1],np.timedelta64(1,'D'))\n",
    "\n",
    "dfTestDiffCorr = dfTestDiff.copy()\n",
    "\n",
    "for r in range(0,len(dfTestDiff)):\n",
    "    if ((actualDiffDates.values[r]) != 1):\n",
    "        # print(dfTestDiff.iloc[r])\n",
    "        curRow = dfTestDiff.iloc[r]\n",
    "        numDays = int(curRow.Dato/np.timedelta64(1,'D'))\n",
    "\n",
    "        rowToAdd = curRow/numDays\n",
    "\n",
    "        for k in range(1,numDays+1):\n",
    "            dfTestDiffCorr.loc[r+(0.1*k)] = rowToAdd\n",
    "        dfTestDiffCorr = dfTestDiffCorr.drop(r+1)\n",
    "        \n",
    "\n",
    "\n",
    "dfTestDiffCorr = dfTestDiffCorr.sort_index().reset_index(drop=True)\n",
    "dfTestDiffCorr = dfTestDiffCorr.iloc[:,1:]"
   ]
  },
  {
   "cell_type": "code",
   "execution_count": 43,
   "metadata": {},
   "outputs": [
    {
     "data": {
      "application/vnd.jupyter.widget-view+json": {
       "model_id": "94d155a83f754525bec1a1cba3dd066f",
       "version_major": 2,
       "version_minor": 0
      },
      "text/plain": [
       "Canvas(toolbar=Toolbar(toolitems=[('Home', 'Reset original view', 'home', 'home'), ('Back', 'Back to previous …"
      ]
     },
     "metadata": {},
     "output_type": "display_data"
    }
   ],
   "source": [
    "fig,(ax1,ax2) = plt.subplots(2,1,sharex=True)\n",
    "\n",
    "bgColor = 'lightgrey'\n",
    "fig.patch.set_facecolor(bgColor)\n",
    "ax1.set_facecolor(bgColor)\n",
    "ax2.set_facecolor(bgColor)\n",
    "\n",
    "newVals = dfTestDiffCorr['0-9'].values\n",
    "curVals = np.zeros(newVals.shape)\n",
    "prevVals = np.zeros(newVals.shape)\n",
    "\n",
    "totCase = dfTestDiffCorr.sum(axis=1)\n",
    "totCaseRM = rnMean(totCase,7)\n",
    "\n",
    "ax1.plot(rnTime(fullDatesTest,7),totCaseRM,'k',linewidth=1,label='Total')\n",
    "\n",
    "firstDateToShow = np.datetime64('2021-05-01')\n",
    "\n",
    "cmap = cm.get_cmap('Spectral',len(allAge)+1)\n",
    "for k in range(0,len(allAge)):\n",
    "    ag = allAge[k]\n",
    "    newVals = dfTestDiffCorr[ag].values\n",
    "\n",
    "    curVals = curVals + newVals\n",
    "\n",
    "    ax1.fill_between(rnTime(fullDatesTest,7),rnMean(curVals,7),rnMean(prevVals,7),color=cmap(k),label=ag)\n",
    "    \n",
    "    ax2.fill_between(rnTime(fullDatesTest,7),100*np.divide(rnMean(curVals,7),totCaseRM),100*np.divide(rnMean(prevVals,7),totCaseRM),color=cmap(k),label=ag)\n",
    "\n",
    "    # ax2.text(firstDateToShow,(100/totCase[0])*(prevVals[0]),ag)\n",
    "    # ax1.text(firstDateToShow,prevVals[0]+curVals[0]/4,ag)\n",
    "\n",
    "    prevVals += newVals\n",
    "    \n",
    "\n",
    "# Draw weekends\n",
    "firstSunday = np.datetime64('2021-01-03')\n",
    "numWeeks = 52\n",
    "for k in range(0,numWeeks):\n",
    "    curSunday = firstSunday + np.timedelta64(7*k,'D')\n",
    "    ax1.axvspan(curSunday-np.timedelta64(1,'D')-np.timedelta64(12,'h'),curSunday+np.timedelta64(12,'h'),zorder=-1,facecolor='grey')\n",
    "    ax2.axvspan(curSunday-np.timedelta64(1,'D')-np.timedelta64(12,'h'),curSunday+np.timedelta64(12,'h'),zorder=-1,facecolor='grey')\n",
    "\n",
    "ax1.axvspan(curSunday-np.timedelta64(1,'D')-np.timedelta64(12,'h'),curSunday+np.timedelta64(12,'h'),facecolor='lightgrey',label='Weekend') \n",
    "# ax1.set_xlim(left=fullDatesTest[3])\n",
    "ax1.set_xlim(left=firstDateToShow)\n",
    "ax1.set_xlim(right=fullDatesTest[-4])\n",
    "\n",
    "ax1.set_ylabel('Antal nye førstegangstestede')\n",
    "ax2.set_ylabel('Andel ud af alle test [%]')\n",
    "\n",
    "ax1.legend(loc='upper left',fontsize=8)\n",
    "\n",
    "ax1.set_ylim(bottom=0,top=5000)\n",
    "ax2.set_ylim(bottom=0,top=100)\n",
    "ax1.xaxis.set_major_formatter(mdates.DateFormatter('%d\\n%B'))\n",
    "plt.tight_layout()\n",
    "\n",
    "if saveFigures:\n",
    "    plt.savefig('figs/TestAgeSplit')"
   ]
  },
  {
   "cell_type": "code",
   "execution_count": null,
   "metadata": {},
   "outputs": [],
   "source": []
  }
 ],
 "metadata": {
  "interpreter": {
   "hash": "c72cdf52cb3d31f207bca538e9396da8706c0ecf4a3038fb1c2b317934170431"
  },
  "kernelspec": {
   "display_name": "Python 3.8.5 64-bit ('main': conda)",
   "name": "python3"
  },
  "language_info": {
   "codemirror_mode": {
    "name": "ipython",
    "version": 3
   },
   "file_extension": ".py",
   "mimetype": "text/x-python",
   "name": "python",
   "nbconvert_exporter": "python",
   "pygments_lexer": "ipython3",
   "version": "3.8.5"
  },
  "orig_nbformat": 4
 },
 "nbformat": 4,
 "nbformat_minor": 2
}
