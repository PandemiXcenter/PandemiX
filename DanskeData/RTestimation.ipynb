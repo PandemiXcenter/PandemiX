{
    "cells": [
        {
            "cell_type": "code",
            "execution_count": 1,
            "source": [
                "# Main notebook for estimating Rt using the method from the Aarhus Datathon\r\n",
                "import numpy as np\r\n",
                "import pandas as pd\r\n",
                "pd.set_option('display.max_rows', 500)\r\n",
                "pd.set_option('display.min_rows', 50)\r\n",
                "import seaborn as sns\r\n",
                "\r\n",
                "\r\n",
                "import matplotlib.pyplot as plt\r\n",
                "%matplotlib widget\r\n",
                "plt.rcParams['figure.figsize'] = (12,8)\r\n",
                "# plt.rcParams[\"image.cmap\"] = \"Dark2\"\r\n",
                "# plt.rcParams['axes.prop_cycle'] = plt.cycler(color=plt.cm.Dark2.colors)\r\n",
                "plt.rcParams[\"image.cmap\"] = \"tab10\"\r\n",
                "plt.rcParams['axes.prop_cycle'] = plt.cycler(color=plt.cm.tab10.colors)\r\n",
                "fs_label = 16\r\n",
                "parameters = {\r\n",
                "                'axes.labelsize': fs_label,\r\n",
                "                'axes.titlesize': fs_label+4,\r\n",
                "                'xtick.labelsize': fs_label,\r\n",
                "                'ytick.labelsize': fs_label, \r\n",
                "                'legend.fontsize': fs_label, \r\n",
                "                'lines.markersize': 10,\r\n",
                "                'lines.linewidth': 3\r\n",
                "             }\r\n",
                "plt.rcParams.update(parameters)\r\n",
                "%matplotlib widget  \r\n",
                "# plt.style.use('ggplot')\r\n",
                "import matplotlib.colors as colors\r\n",
                "# cmap = plt.cm.get_cmap('Dark2',len(ageGroups))\r\n",
                "from matplotlib import cm # Colormaps\r\n",
                "\r\n",
                "import locale\r\n",
                "import matplotlib.dates as mdates\r\n",
                "locale.setlocale(locale.LC_TIME,\"Danish\")\r\n",
                "# ax = plt.gca()\r\n",
                "# ax1.xaxis.set_major_formatter(mdates.DateFormatter('%b\\n%Y'))\r\n",
                "# # ax.xaxis.set_major_formatter(mdates.DateFormatter('%Y \\n %B'))\r\n",
                "\r\n",
                "import os\r\n",
                "# import csv\r\n",
                "import math\r\n",
                "\r\n",
                "\r\n",
                "from datetime import date\r\n",
                "\r\n",
                "\r\n",
                "saveFigures = True\r\n",
                "# saveFigures = False\r\n",
                "print('saveFigures is set to: '+str(saveFigures))\r\n",
                "\r\n",
                "print('Done loading packages')\r\n",
                "\r\n",
                "def rnMean(data,meanWidth):\r\n",
                "    return np.convolve(data, np.ones(meanWidth)/meanWidth, mode='valid')\r\n",
                "def rnTime(t,meanWidth):\r\n",
                "    return t[math.floor(meanWidth/2):-math.ceil(meanWidth/2)+1]"
            ],
            "outputs": [
                {
                    "output_type": "stream",
                    "name": "stdout",
                    "text": [
                        "saveFigures is set to: True\n",
                        "Done loading packages\n"
                    ]
                }
            ],
            "metadata": {}
        },
        {
            "cell_type": "code",
            "execution_count": 3,
            "source": [
                "ssidatapath = \"ssi_data\"\r\n",
                "rootdir = os.getcwd() +\"/\" + ssidatapath\r\n",
                "\r\n",
                "\r\n",
                "for subdir, dirs, files in os.walk(rootdir):\r\n",
                "    if not len(files) == 0:\r\n",
                "        latestdir = subdir\r\n",
                "        latestDate = pd.to_datetime(subdir[-10:])\r\n",
                "\r\n",
                "print(latestdir)\r\n",
                "print(latestDate)"
            ],
            "outputs": [
                {
                    "output_type": "stream",
                    "name": "stdout",
                    "text": [
                        "c:\\Users\\rakrpe\\Documents\\PandemiX\\GithubRepos\\PandemiX\\DanskeData/ssi_data\\SSI_data_2021-08-20\n",
                        "2021-08-20 00:00:00\n"
                    ]
                }
            ],
            "metadata": {}
        },
        {
            "cell_type": "code",
            "execution_count": 12,
            "source": [
                "filename = 'Newly_admitted_over_time.csv'\r\n",
                "df = pd.read_csv(latestdir+'\\\\'+filename,sep=';')\r\n",
                "df['Dato'] = pd.to_datetime(df.Dato)\r\n",
                "df.tail()\r\n"
            ],
            "outputs": [
                {
                    "output_type": "execute_result",
                    "data": {
                        "text/html": [
                            "<div>\n",
                            "<style scoped>\n",
                            "    .dataframe tbody tr th:only-of-type {\n",
                            "        vertical-align: middle;\n",
                            "    }\n",
                            "\n",
                            "    .dataframe tbody tr th {\n",
                            "        vertical-align: top;\n",
                            "    }\n",
                            "\n",
                            "    .dataframe thead th {\n",
                            "        text-align: right;\n",
                            "    }\n",
                            "</style>\n",
                            "<table border=\"1\" class=\"dataframe\">\n",
                            "  <thead>\n",
                            "    <tr style=\"text-align: right;\">\n",
                            "      <th></th>\n",
                            "      <th>Dato</th>\n",
                            "      <th>Hovedstaden</th>\n",
                            "      <th>Sjælland</th>\n",
                            "      <th>Syddanmark</th>\n",
                            "      <th>Midtjylland</th>\n",
                            "      <th>Nordjylland</th>\n",
                            "      <th>Ukendt Region</th>\n",
                            "      <th>Total</th>\n",
                            "    </tr>\n",
                            "  </thead>\n",
                            "  <tbody>\n",
                            "    <tr>\n",
                            "      <th>532</th>\n",
                            "      <td>2021-08-15</td>\n",
                            "      <td>13</td>\n",
                            "      <td>1</td>\n",
                            "      <td>6</td>\n",
                            "      <td>7</td>\n",
                            "      <td>2</td>\n",
                            "      <td>0</td>\n",
                            "      <td>29</td>\n",
                            "    </tr>\n",
                            "    <tr>\n",
                            "      <th>533</th>\n",
                            "      <td>2021-08-16</td>\n",
                            "      <td>12</td>\n",
                            "      <td>4</td>\n",
                            "      <td>6</td>\n",
                            "      <td>4</td>\n",
                            "      <td>3</td>\n",
                            "      <td>1</td>\n",
                            "      <td>30</td>\n",
                            "    </tr>\n",
                            "    <tr>\n",
                            "      <th>534</th>\n",
                            "      <td>2021-08-17</td>\n",
                            "      <td>10</td>\n",
                            "      <td>3</td>\n",
                            "      <td>5</td>\n",
                            "      <td>6</td>\n",
                            "      <td>2</td>\n",
                            "      <td>0</td>\n",
                            "      <td>26</td>\n",
                            "    </tr>\n",
                            "    <tr>\n",
                            "      <th>535</th>\n",
                            "      <td>2021-08-18</td>\n",
                            "      <td>15</td>\n",
                            "      <td>8</td>\n",
                            "      <td>6</td>\n",
                            "      <td>3</td>\n",
                            "      <td>1</td>\n",
                            "      <td>0</td>\n",
                            "      <td>33</td>\n",
                            "    </tr>\n",
                            "    <tr>\n",
                            "      <th>536</th>\n",
                            "      <td>2021-08-19</td>\n",
                            "      <td>14</td>\n",
                            "      <td>4</td>\n",
                            "      <td>5</td>\n",
                            "      <td>5</td>\n",
                            "      <td>4</td>\n",
                            "      <td>1</td>\n",
                            "      <td>33</td>\n",
                            "    </tr>\n",
                            "  </tbody>\n",
                            "</table>\n",
                            "</div>"
                        ],
                        "text/plain": [
                            "          Dato  Hovedstaden  Sjælland  Syddanmark  Midtjylland  Nordjylland  \\\n",
                            "532 2021-08-15           13         1           6            7            2   \n",
                            "533 2021-08-16           12         4           6            4            3   \n",
                            "534 2021-08-17           10         3           5            6            2   \n",
                            "535 2021-08-18           15         8           6            3            1   \n",
                            "536 2021-08-19           14         4           5            5            4   \n",
                            "\n",
                            "     Ukendt Region  Total  \n",
                            "532              0     29  \n",
                            "533              1     30  \n",
                            "534              0     26  \n",
                            "535              0     33  \n",
                            "536              1     33  "
                        ]
                    },
                    "metadata": {},
                    "execution_count": 12
                }
            ],
            "metadata": {}
        },
        {
            "cell_type": "code",
            "execution_count": 24,
            "source": [
                "# Estimate country-wide, daily\r\n",
                "\r\n",
                "curAdm = df.Total.values\r\n",
                "\r\n",
                "tSerial = 4.7\r\n",
                "serialFactor = tSerial/7\r\n",
                "\r\n",
                "hospRatio = curAdm[:-7]/curAdm[7:]\r\n",
                "curT = df.Dato.values[7:]\r\n",
                "\r\n",
                "fig,ax1 = plt.subplots()\r\n",
                "\r\n",
                "ax1.plot(curT,hospRatio,'x-',color='grey',linewidth=0.5,markersize=2)\r\n",
                "ax1.plot(rnTime(curT,7),rnMean(hospRatio,7),'k')\r\n",
                "plt.tight_layout()"
            ],
            "outputs": [
                {
                    "output_type": "stream",
                    "name": "stderr",
                    "text": [
                        "<ipython-input-24-c8962ffe8da2>:8: RuntimeWarning: divide by zero encountered in true_divide\n",
                        "  hospRatio = curAdm[:-7]/curAdm[7:]\n"
                    ]
                },
                {
                    "output_type": "display_data",
                    "data": {
                        "application/vnd.jupyter.widget-view+json": {
                            "version_major": 2,
                            "version_minor": 0,
                            "model_id": "b37ed5af241c4aa79c263d60b2e123cd"
                        },
                        "text/plain": [
                            "Canvas(toolbar=Toolbar(toolitems=[('Home', 'Reset original view', 'home', 'home'), ('Back', 'Back to previous …"
                        ]
                    },
                    "metadata": {}
                }
            ],
            "metadata": {}
        },
        {
            "cell_type": "code",
            "execution_count": 38,
            "source": [
                "# Make weekly sums, and use those instead\r\n",
                "\r\n",
                "admWeek = rnMean(curAdm,7)[::7]\r\n",
                "tWeek = curT[::7]\r\n",
                "\r\n",
                "hospRatioWeek = admWeek[:-1]/admWeek[1:] \r\n",
                "curTW = tWeek[1:]\r\n",
                "\r\n",
                "fig,ax1 = plt.subplots()\r\n",
                "\r\n",
                "# ax1.plot(rnTime(curTW,7),rnMean(hospRatioWeek,7),'b')\r\n",
                "ax1.step(rnTime(curT,7),rnMean(hospRatio,7),'k')\r\n",
                "ax1.step(curTW,hospRatioWeek,'b--')\r\n",
                "plt.tight_layout()"
            ],
            "outputs": [
                {
                    "output_type": "display_data",
                    "data": {
                        "application/vnd.jupyter.widget-view+json": {
                            "version_major": 2,
                            "version_minor": 0,
                            "model_id": "6877c22dcd23464685a4f465b913e6ba"
                        },
                        "text/plain": [
                            "Canvas(toolbar=Toolbar(toolitems=[('Home', 'Reset original view', 'home', 'home'), ('Back', 'Back to previous …"
                        ]
                    },
                    "metadata": {}
                }
            ],
            "metadata": {}
        },
        {
            "cell_type": "code",
            "execution_count": null,
            "source": [],
            "outputs": [],
            "metadata": {}
        }
    ],
    "metadata": {
        "orig_nbformat": 4,
        "language_info": {
            "name": "python",
            "version": "3.8.5",
            "mimetype": "text/x-python",
            "codemirror_mode": {
                "name": "ipython",
                "version": 3
            },
            "pygments_lexer": "ipython3",
            "nbconvert_exporter": "python",
            "file_extension": ".py"
        },
        "kernelspec": {
            "name": "python3",
            "display_name": "Python 3.8.5 64-bit ('main': conda)"
        },
        "interpreter": {
            "hash": "c72cdf52cb3d31f207bca538e9396da8706c0ecf4a3038fb1c2b317934170431"
        }
    },
    "nbformat": 4,
    "nbformat_minor": 2
}