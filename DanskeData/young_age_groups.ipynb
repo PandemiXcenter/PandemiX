{
 "metadata": {
  "language_info": {
   "codemirror_mode": {
    "name": "ipython",
    "version": 3
   },
   "file_extension": ".py",
   "mimetype": "text/x-python",
   "name": "python",
   "nbconvert_exporter": "python",
   "pygments_lexer": "ipython3",
   "version": "3.8.5"
  },
  "orig_nbformat": 2,
  "kernelspec": {
   "name": "python385jvsc74a57bd0c72cdf52cb3d31f207bca538e9396da8706c0ecf4a3038fb1c2b317934170431",
   "display_name": "Python 3.8.5 64-bit ('main': conda)"
  }
 },
 "nbformat": 4,
 "nbformat_minor": 2,
 "cells": [
  {
   "cell_type": "code",
   "execution_count": 1,
   "metadata": {},
   "outputs": [
    {
     "output_type": "stream",
     "name": "stdout",
     "text": [
      "saveFigures is set to: True\nDone loading packages\n"
     ]
    }
   ],
   "source": [
    "# Main notebook for playing around looking at different things in data\n",
    "import numpy as np\n",
    "import pandas as pd\n",
    "pd.set_option('display.max_rows', 500)\n",
    "pd.set_option('display.min_rows', 50)\n",
    "import seaborn as sns\n",
    "\n",
    "\n",
    "import matplotlib.pyplot as plt\n",
    "%matplotlib widget\n",
    "plt.rcParams['figure.figsize'] = (12,8)\n",
    "# plt.rcParams[\"image.cmap\"] = \"Dark2\"\n",
    "# plt.rcParams['axes.prop_cycle'] = plt.cycler(color=plt.cm.Dark2.colors)\n",
    "plt.rcParams[\"image.cmap\"] = \"tab10\"\n",
    "plt.rcParams['axes.prop_cycle'] = plt.cycler(color=plt.cm.tab10.colors)\n",
    "plt.rcParams['lines.markersize'] = 10\n",
    "plt.rcParams['lines.linewidth'] = 3\n",
    "%matplotlib widget\n",
    "# plt.style.use('ggplot')\n",
    "import matplotlib.colors as colors\n",
    "# cmap = plt.cm.get_cmap('Dark2',len(ageGroups))\n",
    "from matplotlib import cm # Colormaps\n",
    "\n",
    "import locale\n",
    "import matplotlib.dates as mdates\n",
    "locale.setlocale(locale.LC_TIME,\"Danish\")\n",
    "# ax = plt.gca()\n",
    "# ax1.xaxis.set_major_formatter(mdates.DateFormatter('%b\\n%Y'))\n",
    "# # ax.xaxis.set_major_formatter(mdates.DateFormatter('%Y \\n %B'))\n",
    "\n",
    "import os\n",
    "# import csv\n",
    "import math\n",
    "\n",
    "\n",
    "from datetime import date\n",
    "\n",
    "\n",
    "saveFigures = True\n",
    "# saveFigures = False\n",
    "print('saveFigures is set to: '+str(saveFigures))\n",
    "\n",
    "print('Done loading packages')\n",
    "\n",
    "def rnMean(data,meanWidth):\n",
    "    return np.convolve(data, np.ones(meanWidth)/meanWidth, mode='valid')\n",
    "def rnTime(t,meanWidth):\n",
    "    return t[math.floor(meanWidth/2):-math.ceil(meanWidth/2)+1]\n"
   ]
  },
  {
   "cell_type": "code",
   "execution_count": 2,
   "metadata": {},
   "outputs": [],
   "source": [
    "ssidatapath = \"ssi_data\"\n",
    "rootdir = os.getcwd() +\"/\" + ssidatapath"
   ]
  },
  {
   "cell_type": "code",
   "execution_count": 3,
   "metadata": {},
   "outputs": [],
   "source": [
    "dfAdm = pd.read_excel('Admitted\\Admitted.xlsx')\n",
    "dfAdm = dfAdm.transpose()\n",
    "dfAdm.columns = dfAdm.iloc[0]\n",
    "dfAdm = dfAdm.drop(['Aldersgruppe']) \n",
    "curDates =  pd.to_datetime(dfAdm.index,format='%d_%m_%Y')"
   ]
  },
  {
   "cell_type": "code",
   "execution_count": 4,
   "metadata": {},
   "outputs": [],
   "source": [
    "dfAdmDiff = dfAdm.diff().iloc[1:]\n",
    "plotDates = curDates[1:]"
   ]
  },
  {
   "cell_type": "code",
   "execution_count": 5,
   "metadata": {},
   "outputs": [
    {
     "output_type": "display_data",
     "data": {
      "text/plain": "Canvas(toolbar=Toolbar(toolitems=[('Home', 'Reset original view', 'home', 'home'), ('Back', 'Back to previous …",
      "application/vnd.jupyter.widget-view+json": {
       "version_major": 2,
       "version_minor": 0,
       "model_id": "bde46dd574894c618b7a47befa358bd1"
      }
     },
     "metadata": {}
    }
   ],
   "source": [
    "fig,ax1 = plt.subplots(1,1,sharex=True)\n",
    "\n",
    "# ax1.plot(plotDates,dfAdmDiff['0-9'])\n",
    "# ax1.plot(plotDates,dfAdmDiff['10-19'])\n",
    "ax1.plot(plotDates,dfAdmDiff['0-9']+dfAdmDiff['10-19'],label='0-19')\n",
    "ax1.plot(plotDates,dfAdmDiff['20-29'],label='20-29')\n",
    "ax1.plot(plotDates,dfAdmDiff['30-39'],label='30-39')\n",
    "ax1.plot(plotDates,dfAdmDiff['40-49'],label='40-49')\n",
    "\n",
    "ax1.set_ylim(bottom=0)\n",
    "ax1.set_xlim([plotDates[0],plotDates[-1]])\n",
    "\n",
    "ax1.grid()\n",
    "ax1.legend()\n",
    "ax1.xaxis.set_major_formatter(mdates.DateFormatter('%b\\n%Y'))\n",
    "\n",
    "plt.tight_layout()"
   ]
  },
  {
   "cell_type": "code",
   "execution_count": 6,
   "metadata": {},
   "outputs": [],
   "source": [
    "dfCase = pd.DataFrame(columns=dfAdm.columns)\n",
    "dfTest = pd.DataFrame(columns=dfAdm.columns)\n",
    "dfPosP = pd.DataFrame(columns=dfAdm.columns)"
   ]
  },
  {
   "cell_type": "code",
   "execution_count": 7,
   "metadata": {},
   "outputs": [],
   "source": [
    "# Collect the cases, tests and positive percentage from all the \"cases by age\" files\n",
    "\n",
    "ssidatapath = \"ssi_data\"\n",
    "rootdir = os.getcwd() +\"/\" + ssidatapath\n",
    "\n",
    "for subdir, dirs, files in os.walk(rootdir):\n",
    "    if not len(files) == 0:\n",
    "        latestdir = subdir\n",
    "        latestDate = pd.to_datetime(subdir[-10:])\n",
    "        curdf = pd.read_csv(latestdir+'/Cases_by_age.csv',delimiter = ';',dtype=str)\n",
    "        \n",
    "        curdf['Antal_bekræftede_COVID-19'] = pd.to_numeric(curdf['Antal_bekræftede_COVID-19'].astype(str).apply(lambda x: x.replace('.','')))\n",
    "        curdf['Antal_testede'] = pd.to_numeric(curdf['Antal_testede'].astype(str).apply(lambda x: x.replace('.','')))\n",
    "        curdf['Procent_positive'] = pd.to_numeric(curdf['Procent_positive'].astype(str).apply(lambda x: x.replace(',','.')))\n",
    "        \n",
    "        \n",
    "        dfCase.loc[latestDate] = curdf['Antal_bekræftede_COVID-19'].values\n",
    "        dfTest.loc[latestDate] = curdf['Antal_testede'].values\n",
    "        dfPosP.loc[latestDate] = curdf['Procent_positive'].values\n",
    "\n",
    "allDates = dfCase.index\n"
   ]
  },
  {
   "cell_type": "code",
   "execution_count": 8,
   "metadata": {},
   "outputs": [],
   "source": [
    "dfCaseDiff = dfCase.diff().iloc[1:]\n",
    "dfTestDiff = dfTest.diff().iloc[1:]\n",
    "dfPosPDiff = dfPosP.diff().iloc[1:]\n",
    "plotDatesCase = allDates[1:]"
   ]
  },
  {
   "cell_type": "code",
   "execution_count": 9,
   "metadata": {},
   "outputs": [
    {
     "output_type": "display_data",
     "data": {
      "text/plain": "Canvas(toolbar=Toolbar(toolitems=[('Home', 'Reset original view', 'home', 'home'), ('Back', 'Back to previous …",
      "application/vnd.jupyter.widget-view+json": {
       "version_major": 2,
       "version_minor": 0,
       "model_id": "b92d3d5cfa734f2682e20b1ed907ca59"
      }
     },
     "metadata": {}
    }
   ],
   "source": [
    "fig,ax1 = plt.subplots(1,1)\n",
    "\n",
    "howManyToUse = len(dfCaseDiff.columns)-4\n",
    "cmap = plt.cm.get_cmap('Dark2',howManyToUse)\n",
    "for k in range(0,howManyToUse):\n",
    "    curColName = dfCaseDiff.columns[k]\n",
    "    ax1.plot(plotDatesCase,dfCaseDiff[curColName],'.-',linewidth=0.4,label=curColName,color=cmap(k))\n",
    "    # meanWidth = 7\n",
    "    # ax1.plot(rnTime(plotDatesCase,meanWidth),rnMean(dfCaseDiff[curColName],meanWidth),label=curColName,color=cmap(k))\n",
    "\n",
    "ax1.legend()\n",
    "\n",
    "ax1.set_ylim(bottom=0,top=1000)\n",
    "ax1.set_xlim([np.datetime64('2021-03-01'),np.datetime64('2021-05-05')])\n",
    "\n",
    "plt.tight_layout()\n",
    "\n",
    "# ax1.plot(plotDatesCase,dfCaseDiff['0-9'])\n",
    "# ax1.plot(plotDatesCase,dfCaseDiff['10-19'])\n",
    "# ax1.plot(plotDatesCase,dfCaseDiff['20-29'])\n",
    "# ax1.plot(plotDatesCase,dfCaseDiff['30-39'])"
   ]
  },
  {
   "cell_type": "code",
   "execution_count": 10,
   "metadata": {},
   "outputs": [],
   "source": [
    "# dfCaseDiff\n",
    "\n",
    "curIndex = dfCaseDiff.index.values.astype('datetime64[D]')\n",
    "dayDiff = curIndex[1:] - curIndex[:-1]\n"
   ]
  },
  {
   "cell_type": "code",
   "execution_count": 11,
   "metadata": {},
   "outputs": [
    {
     "output_type": "display_data",
     "data": {
      "text/plain": "Canvas(toolbar=Toolbar(toolitems=[('Home', 'Reset original view', 'home', 'home'), ('Back', 'Back to previous …",
      "application/vnd.jupyter.widget-view+json": {
       "version_major": 2,
       "version_minor": 0,
       "model_id": "3d5719746b0449ac926dbeaa580b0ce6"
      }
     },
     "metadata": {}
    },
    {
     "output_type": "execute_result",
     "data": {
      "text/plain": [
       "(0.0, 1025.6)"
      ]
     },
     "metadata": {},
     "execution_count": 11
    }
   ],
   "source": [
    "fig,ax1 = plt.subplots(1,1)\n",
    "# fig,(ax1,ax2) = plt.subplots(2,1,sharex=True)\n",
    "# for k in range(4,len(dayDiff)):\n",
    "for k in range(0,len(dfCaseDiff)):\n",
    "\n",
    "    \n",
    "    # ax1.bar(curIndex[k]-dayDiff[k-1],dfCaseDiff['20-29'].iloc[k],width=dayDiff[k-1])\n",
    "    curWidth = dayDiff[k-1]\n",
    "    numDaysWidth = curWidth/np.timedelta64(1,'D')\n",
    "\n",
    "    # Since half days aren't possible, convert to an \"hours\" timedelta64\n",
    "    toMove = np.timedelta64(int(24*(numDaysWidth)/2),'h')\n",
    "\n",
    "    curHeight = (dfCaseDiff['20-29'].iloc[k])/numDaysWidth\n",
    "    # curHeight = (dfCaseDiff['30-39'].iloc[k])/numDaysWidth\n",
    "    \n",
    "    \n",
    "    # ax1.bar(curIndex[k]+np.timedelta64(1,'D'),dfCaseDiff['20-29'].iloc[k],width=dayDiff[k-1])\n",
    "    # ax1.bar(curIndex[k]-toMove,dfCaseDiff['20-29'].iloc[k],width=dayDiff[k-1])\n",
    "    ax1.bar(curIndex[k]-toMove,curHeight,width=dayDiff[k-1],color='grey',edgecolor='k')\n",
    "    \n",
    "    # ax2.plot(curIndex[k],curHeight,'k*-')\n",
    "    # ax2.plot(curIndex[k],dfCaseDiff['20-29'].iloc[k],'r.-')\n",
    "    # ax1.plot(curIndex[k],dfCaseDiff['20-29'].iloc[k],'*')\n",
    "    # ax2.plot(curIndex[k],dayDiff[k-1],'*')\n",
    "\n",
    "ax1.set_xlim([np.datetime64('2020-11-01'),np.datetime64('2021-05-07')])\n",
    "ax1.set_ylim(bottom=0)\n",
    "# ax1.set_ylim(top=300)\n",
    "# ax2.set_ylim(bottom=0)\n",
    "# ax2.set_ylim(top=1000)"
   ]
  },
  {
   "cell_type": "code",
   "execution_count": 12,
   "metadata": {},
   "outputs": [],
   "source": [
    "# dfCaseDiff.tail()\n",
    "\n",
    "# plt.plot(allDays,allData,'.-')"
   ]
  },
  {
   "cell_type": "code",
   "execution_count": 13,
   "metadata": {},
   "outputs": [],
   "source": [
    "# Make a daily dataframe\n",
    "dfCaseFull = pd.DataFrame()\n",
    "for curCol in dfCaseDiff.columns:\n",
    "    allDays = []\n",
    "    allData = []\n",
    "    for k in range(0,len(dfCaseDiff)):\n",
    "\n",
    "        \n",
    "        curWidth = dayDiff[k-1]\n",
    "        numDaysWidth = int(curWidth/np.timedelta64(1,'D'))\n",
    "        \n",
    "        # curHeight = (dfCaseDiff['20-29'].iloc[k])/numDaysWidth\n",
    "        curHeight = (dfCaseDiff[curCol].iloc[k])/numDaysWidth\n",
    "\n",
    "        curDay = curIndex[k]\n",
    "        # print('----------')\n",
    "        # print(curDay)\n",
    "        # print(numDaysWidth)\n",
    "\n",
    "        # for d in range(0,numDaysWidth):\n",
    "        for d in range(numDaysWidth-1,-1,-1):\n",
    "            dayToAdd = curDay - np.timedelta64(d,'D')\n",
    "            # print(dayToAdd)\n",
    "            allDays.append(dayToAdd)\n",
    "            allData.append(curHeight)\n",
    "\n",
    "    dfCaseFull['Dato']  = allDays\n",
    "    # dfCaseFull['20-29'] = allData\n",
    "    dfCaseFull[curCol] = allData\n"
   ]
  },
  {
   "cell_type": "code",
   "execution_count": 14,
   "metadata": {},
   "outputs": [
    {
     "output_type": "execute_result",
     "data": {
      "text/plain": [
       "          Dato         0-9       10-19  20-29  30-39       40-49       50-59  \\\n",
       "365 2021-05-07   56.000000  203.000000  261.0  155.0  147.000000  124.000000   \n",
       "366 2021-05-08   66.333333  178.333333  174.0  118.0  122.666667  104.333333   \n",
       "367 2021-05-09   66.333333  178.333333  174.0  118.0  122.666667  104.333333   \n",
       "368 2021-05-10   66.333333  178.333333  174.0  118.0  122.666667  104.333333   \n",
       "369 2021-05-11  100.000000  196.000000  172.0  137.0  139.000000  100.000000   \n",
       "\n",
       "         60-69  70-79     80-89  90+        I alt  \n",
       "365  55.000000   20.0  2.000000  0.0  1023.000000  \n",
       "366  47.333333   14.0  2.666667  0.0   827.666667  \n",
       "367  47.333333   14.0  2.666667  0.0   827.666667  \n",
       "368  47.333333   14.0  2.666667  0.0   827.666667  \n",
       "369  60.000000   14.0  6.000000  1.0   925.000000  "
      ],
      "text/html": "<div>\n<style scoped>\n    .dataframe tbody tr th:only-of-type {\n        vertical-align: middle;\n    }\n\n    .dataframe tbody tr th {\n        vertical-align: top;\n    }\n\n    .dataframe thead th {\n        text-align: right;\n    }\n</style>\n<table border=\"1\" class=\"dataframe\">\n  <thead>\n    <tr style=\"text-align: right;\">\n      <th></th>\n      <th>Dato</th>\n      <th>0-9</th>\n      <th>10-19</th>\n      <th>20-29</th>\n      <th>30-39</th>\n      <th>40-49</th>\n      <th>50-59</th>\n      <th>60-69</th>\n      <th>70-79</th>\n      <th>80-89</th>\n      <th>90+</th>\n      <th>I alt</th>\n    </tr>\n  </thead>\n  <tbody>\n    <tr>\n      <th>365</th>\n      <td>2021-05-07</td>\n      <td>56.000000</td>\n      <td>203.000000</td>\n      <td>261.0</td>\n      <td>155.0</td>\n      <td>147.000000</td>\n      <td>124.000000</td>\n      <td>55.000000</td>\n      <td>20.0</td>\n      <td>2.000000</td>\n      <td>0.0</td>\n      <td>1023.000000</td>\n    </tr>\n    <tr>\n      <th>366</th>\n      <td>2021-05-08</td>\n      <td>66.333333</td>\n      <td>178.333333</td>\n      <td>174.0</td>\n      <td>118.0</td>\n      <td>122.666667</td>\n      <td>104.333333</td>\n      <td>47.333333</td>\n      <td>14.0</td>\n      <td>2.666667</td>\n      <td>0.0</td>\n      <td>827.666667</td>\n    </tr>\n    <tr>\n      <th>367</th>\n      <td>2021-05-09</td>\n      <td>66.333333</td>\n      <td>178.333333</td>\n      <td>174.0</td>\n      <td>118.0</td>\n      <td>122.666667</td>\n      <td>104.333333</td>\n      <td>47.333333</td>\n      <td>14.0</td>\n      <td>2.666667</td>\n      <td>0.0</td>\n      <td>827.666667</td>\n    </tr>\n    <tr>\n      <th>368</th>\n      <td>2021-05-10</td>\n      <td>66.333333</td>\n      <td>178.333333</td>\n      <td>174.0</td>\n      <td>118.0</td>\n      <td>122.666667</td>\n      <td>104.333333</td>\n      <td>47.333333</td>\n      <td>14.0</td>\n      <td>2.666667</td>\n      <td>0.0</td>\n      <td>827.666667</td>\n    </tr>\n    <tr>\n      <th>369</th>\n      <td>2021-05-11</td>\n      <td>100.000000</td>\n      <td>196.000000</td>\n      <td>172.0</td>\n      <td>137.0</td>\n      <td>139.000000</td>\n      <td>100.000000</td>\n      <td>60.000000</td>\n      <td>14.0</td>\n      <td>6.000000</td>\n      <td>1.0</td>\n      <td>925.000000</td>\n    </tr>\n  </tbody>\n</table>\n</div>"
     },
     "metadata": {},
     "execution_count": 14
    }
   ],
   "source": [
    "# plt.figure()\n",
    "# plt.plot(allDays,allData,'.-')\n",
    "# plt.show()\n",
    "dfCaseFull.tail()\n",
    "# dfCaseDiff.columns"
   ]
  },
  {
   "cell_type": "code",
   "execution_count": 15,
   "metadata": {},
   "outputs": [
    {
     "output_type": "display_data",
     "data": {
      "text/plain": "Canvas(toolbar=Toolbar(toolitems=[('Home', 'Reset original view', 'home', 'home'), ('Back', 'Back to previous …",
      "application/vnd.jupyter.widget-view+json": {
       "version_major": 2,
       "version_minor": 0,
       "model_id": "3a3d5d74f9e34b2db7d46244fb267813"
      }
     },
     "metadata": {}
    }
   ],
   "source": [
    "colNames = dfCaseFull.columns[1:-1]\n",
    "# numToShow = len(dfCaseFull.columns)-1\n",
    "numToShow = len(dfCaseFull.columns)-2\n",
    "fig,allAxes = plt.subplots(numToShow,1,sharex=True,figsize=(12,20))\n",
    "\n",
    "meanWidth = 7\n",
    "\n",
    "\n",
    "# allAxes[0].plot(dfCaseFull.Dato,dfCaseFull['0-9'],'.-')\n",
    "# allAxes[0].plot(rnTime(dfCaseFull.Dato,meanWidth),rnMean(dfCaseFull['0-9'],meanWidth))\n",
    "# allAxes[1].plot(dfCaseFull.Dato,dfCaseFull['10-19'],'.-')\n",
    "# allAxes[1].plot(rnTime(dfCaseFull.Dato,meanWidth),rnMean(dfCaseFull['10-19'],meanWidth))\n",
    "\n",
    "firstDate = np.datetime64('2021-02-01')\n",
    "firstDateIndex = np.where(dfCaseFull.Dato == firstDate)[0][0]\n",
    "\n",
    "\n",
    "\n",
    "# for ax in allAxes:\n",
    "for k in range(0,numToShow):\n",
    "    ax = allAxes[k]\n",
    "    \n",
    "    # ax.plot(dfCaseFull.Dato,dfCaseFull[colNames[k]],'.-')\n",
    "    # ax.plot(rnTime(dfCaseFull.Dato,meanWidth),rnMean(dfCaseFull[colNames[k]],meanWidth)) \n",
    "\n",
    "    ax.plot(dfCaseFull.Dato.iloc[firstDateIndex:],dfCaseFull[colNames[k]].iloc[firstDateIndex:],'k.:',markersize=3,linewidth=0.5)\n",
    "    ax.plot(rnTime(dfCaseFull.Dato.iloc[firstDateIndex:],meanWidth),rnMean(dfCaseFull[colNames[k]].iloc[firstDateIndex:],meanWidth),'k') \n",
    "\n",
    "    ax.set_title(colNames[k])\n",
    "\n",
    "    ax.set_ylim(bottom=0)\n",
    "    ax.grid()\n",
    "\n",
    "# allAxes[0].set_xlim(left=np.datetime64('2020-11-01'))\n",
    "allAxes[0].set_xlim(left=firstDate)\n",
    "\n",
    "plt.tight_layout()\n",
    "\n",
    "if saveFigures:\n",
    "    plt.savefig('figs/CasesPerDay_AllAges')"
   ]
  },
  {
   "cell_type": "code",
   "execution_count": 16,
   "metadata": {},
   "outputs": [],
   "source": [
    "# Calculate the populations counts\n",
    "dfPop = pd.read_excel('DKfolketal2021clean.xlsx') \n",
    "\n",
    "size1 = dfPop[0:20].Antal.sum()\n",
    "size2 = dfPop[20:40].Antal.sum()\n",
    "size3 = dfPop[40:70].Antal.sum()\n",
    "size4 = dfPop[70:].Antal.sum()\n",
    "\n",
    "sizes = [size1,size2,size3,size4]"
   ]
  },
  {
   "cell_type": "code",
   "execution_count": 17,
   "metadata": {},
   "outputs": [
    {
     "output_type": "display_data",
     "data": {
      "text/plain": "Canvas(toolbar=Toolbar(toolitems=[('Home', 'Reset original view', 'home', 'home'), ('Back', 'Back to previous …",
      "application/vnd.jupyter.widget-view+json": {
       "version_major": 2,
       "version_minor": 0,
       "model_id": "d352d9280a4d4989a266791af23e383a"
      }
     },
     "metadata": {}
    }
   ],
   "source": [
    "\n",
    "# colNames = dfCaseFull.columns[1:-1]\n",
    "# numToShow = len(dfCaseFull.columns)-1\n",
    "# numToShow = len(dfCaseFull.columns)-2\n",
    "\n",
    "group4 = dfCaseFull['90+']+dfCaseFull['80-89']+dfCaseFull['70-79']\n",
    "group3 = dfCaseFull['40-49']+dfCaseFull['50-59']+dfCaseFull['60-69']\n",
    "group2 = dfCaseFull['20-29']+dfCaseFull['30-39']\n",
    "group1 = dfCaseFull['0-9']+dfCaseFull['10-19']\n",
    "\n",
    "groupNames = ['0-19','20-39','40-69','70+']\n",
    "\n",
    "groups = [group1,group2,group3,group4]\n",
    "numToShow = len(groups)\n",
    "\n",
    "# fig,allAxes = plt.subplots(numToShow,1,sharex=True,figsize=(12,20))\n",
    "fig,ax1 = plt.subplots(1,1)\n",
    "\n",
    "meanWidth = 7\n",
    "\n",
    "\n",
    "\n",
    "# firstDate = np.datetime64('2021-02-01')\n",
    "firstDate = np.datetime64('2020-10-01')\n",
    "# firstDate = np.datetime64('2020-06-01')\n",
    "# firstDate = dfCaseFull.Dato[0]\n",
    "firstDateIndex = np.where(dfCaseFull.Dato == firstDate)[0][0]\n",
    "\n",
    "curDates = dfCaseFull.Dato.iloc[firstDateIndex:]\n",
    "\n",
    "\n",
    "# for ax in allAxes:\n",
    "\n",
    "cmap = plt.cm.get_cmap('Dark2',numToShow+1)\n",
    "for k in range(0,numToShow):\n",
    "\n",
    "    curCases = groups[k].iloc[firstDateIndex:]\n",
    "    curCasesNorm = np.divide(curCases,sizes[k])\n",
    "\n",
    "    # ax1.plot(curDates,curCases,'.:',linewidth=0.5,markersize=3,color=cmap(k))\n",
    "    # ax1.plot(rnTime(curDates,meanWidth),rnMean(curCases,meanWidth),color=cmap(k),label=groupNames[k]) \n",
    "    \n",
    "    ax1.plot(curDates,10000 * curCasesNorm,'.:',linewidth=0.5,markersize=3,color=cmap(k))\n",
    "    ax1.plot(rnTime(curDates,meanWidth),10000 * rnMean(curCasesNorm,meanWidth),color=cmap(k),label=groupNames[k]) \n",
    "    # ax1.plot(rnTime(dfCaseFull.Dato.iloc[firstDateIndex:],meanWidth),np.divide(rnMean(curCases,meanWidth),sizes[k]),color=cmap(k),label=groupNames[k]) \n",
    "\n",
    "ax1.set_ylim(bottom=0)\n",
    "ax1.set_xlim(left=firstDate)\n",
    "\n",
    "ax1.set_ylabel('Tilfælde per 10.000')\n",
    "\n",
    "ax1.grid()\n",
    "ax1.legend()\n",
    "plt.tight_layout()\n",
    "\n",
    "if saveFigures:\n",
    "    plt.savefig('figs/CasesPerDay_AgeGroups')"
   ]
  },
  {
   "cell_type": "code",
   "execution_count": 18,
   "metadata": {},
   "outputs": [
    {
     "output_type": "execute_result",
     "data": {
      "text/plain": [
       "     Alder  Antal\n",
       "90      90   9971\n",
       "91      91   8144\n",
       "92      92   6919\n",
       "93      93   5392\n",
       "94      94   4405\n",
       "95      95   3309\n",
       "96      96   2480\n",
       "97      97   1730\n",
       "98      98   1101\n",
       "99      99    806\n",
       "100    100    531\n",
       "101    101    298\n",
       "102    102    173\n",
       "103    103     81\n",
       "104    104     64\n",
       "105    105     27\n",
       "106    106     14\n",
       "107    107      8\n",
       "108    108      4\n",
       "109    109      0\n",
       "110    110      1"
      ],
      "text/html": "<div>\n<style scoped>\n    .dataframe tbody tr th:only-of-type {\n        vertical-align: middle;\n    }\n\n    .dataframe tbody tr th {\n        vertical-align: top;\n    }\n\n    .dataframe thead th {\n        text-align: right;\n    }\n</style>\n<table border=\"1\" class=\"dataframe\">\n  <thead>\n    <tr style=\"text-align: right;\">\n      <th></th>\n      <th>Alder</th>\n      <th>Antal</th>\n    </tr>\n  </thead>\n  <tbody>\n    <tr>\n      <th>90</th>\n      <td>90</td>\n      <td>9971</td>\n    </tr>\n    <tr>\n      <th>91</th>\n      <td>91</td>\n      <td>8144</td>\n    </tr>\n    <tr>\n      <th>92</th>\n      <td>92</td>\n      <td>6919</td>\n    </tr>\n    <tr>\n      <th>93</th>\n      <td>93</td>\n      <td>5392</td>\n    </tr>\n    <tr>\n      <th>94</th>\n      <td>94</td>\n      <td>4405</td>\n    </tr>\n    <tr>\n      <th>95</th>\n      <td>95</td>\n      <td>3309</td>\n    </tr>\n    <tr>\n      <th>96</th>\n      <td>96</td>\n      <td>2480</td>\n    </tr>\n    <tr>\n      <th>97</th>\n      <td>97</td>\n      <td>1730</td>\n    </tr>\n    <tr>\n      <th>98</th>\n      <td>98</td>\n      <td>1101</td>\n    </tr>\n    <tr>\n      <th>99</th>\n      <td>99</td>\n      <td>806</td>\n    </tr>\n    <tr>\n      <th>100</th>\n      <td>100</td>\n      <td>531</td>\n    </tr>\n    <tr>\n      <th>101</th>\n      <td>101</td>\n      <td>298</td>\n    </tr>\n    <tr>\n      <th>102</th>\n      <td>102</td>\n      <td>173</td>\n    </tr>\n    <tr>\n      <th>103</th>\n      <td>103</td>\n      <td>81</td>\n    </tr>\n    <tr>\n      <th>104</th>\n      <td>104</td>\n      <td>64</td>\n    </tr>\n    <tr>\n      <th>105</th>\n      <td>105</td>\n      <td>27</td>\n    </tr>\n    <tr>\n      <th>106</th>\n      <td>106</td>\n      <td>14</td>\n    </tr>\n    <tr>\n      <th>107</th>\n      <td>107</td>\n      <td>8</td>\n    </tr>\n    <tr>\n      <th>108</th>\n      <td>108</td>\n      <td>4</td>\n    </tr>\n    <tr>\n      <th>109</th>\n      <td>109</td>\n      <td>0</td>\n    </tr>\n    <tr>\n      <th>110</th>\n      <td>110</td>\n      <td>1</td>\n    </tr>\n  </tbody>\n</table>\n</div>"
     },
     "metadata": {},
     "execution_count": 18
    }
   ],
   "source": [
    "dfPop[90:]"
   ]
  }
 ]
}