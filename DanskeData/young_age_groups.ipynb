{
 "cells": [
  {
   "cell_type": "code",
   "execution_count": 1,
   "metadata": {},
   "outputs": [
    {
     "name": "stdout",
     "output_type": "stream",
     "text": [
      "saveFigures is set to: True\n",
      "Done loading packages\n"
     ]
    }
   ],
   "source": [
    "# Main notebook for playing around looking at different things in data\n",
    "import numpy as np\n",
    "import pandas as pd\n",
    "pd.set_option('display.max_rows', 500)\n",
    "pd.set_option('display.min_rows', 50)\n",
    "import seaborn as sns\n",
    "\n",
    "\n",
    "import matplotlib.pyplot as plt\n",
    "%matplotlib widget\n",
    "plt.rcParams['figure.figsize'] = (12,8)\n",
    "# plt.rcParams[\"image.cmap\"] = \"Dark2\"\n",
    "# plt.rcParams['axes.prop_cycle'] = plt.cycler(color=plt.cm.Dark2.colors)\n",
    "plt.rcParams[\"image.cmap\"] = \"tab10\"\n",
    "plt.rcParams['axes.prop_cycle'] = plt.cycler(color=plt.cm.tab10.colors)\n",
    "plt.rcParams['lines.markersize'] = 10\n",
    "plt.rcParams['lines.linewidth'] = 3\n",
    "%matplotlib widget\n",
    "# plt.style.use('ggplot')\n",
    "import matplotlib.colors as colors\n",
    "# cmap = plt.cm.get_cmap('Dark2',len(ageGroups))\n",
    "from matplotlib import cm # Colormaps\n",
    "\n",
    "import locale\n",
    "import matplotlib.dates as mdates\n",
    "locale.setlocale(locale.LC_TIME,\"Danish\")\n",
    "# ax = plt.gca()\n",
    "# ax1.xaxis.set_major_formatter(mdates.DateFormatter('%b\\n%Y'))\n",
    "# # ax.xaxis.set_major_formatter(mdates.DateFormatter('%Y \\n %B'))\n",
    "\n",
    "import os\n",
    "# import csv\n",
    "import math\n",
    "\n",
    "\n",
    "from datetime import date\n",
    "\n",
    "\n",
    "saveFigures = True\n",
    "# saveFigures = False\n",
    "print('saveFigures is set to: '+str(saveFigures))\n",
    "\n",
    "print('Done loading packages')\n",
    "\n",
    "def rnMean(data,meanWidth):\n",
    "    return np.convolve(data, np.ones(meanWidth)/meanWidth, mode='valid')\n",
    "def rnTime(t,meanWidth):\n",
    "    return t[math.floor(meanWidth/2):-math.ceil(meanWidth/2)+1]\n"
   ]
  },
  {
   "cell_type": "code",
   "execution_count": 2,
   "metadata": {},
   "outputs": [],
   "source": [
    "ssidatapath = \"ssi_data\"\n",
    "rootdir = os.getcwd() +\"/\" + ssidatapath"
   ]
  },
  {
   "cell_type": "code",
   "execution_count": 3,
   "metadata": {},
   "outputs": [],
   "source": [
    "dfAdm = pd.read_excel('Admitted\\Admitted.xlsx')\n",
    "dfAdm = dfAdm.transpose()\n",
    "dfAdm.columns = dfAdm.iloc[0]\n",
    "dfAdm = dfAdm.drop(['Aldersgruppe']) \n",
    "curDates =  pd.to_datetime(dfAdm.index,format='%d_%m_%Y')"
   ]
  },
  {
   "cell_type": "code",
   "execution_count": 4,
   "metadata": {},
   "outputs": [],
   "source": [
    "dfAdmDiff = dfAdm.diff().iloc[1:]\n",
    "plotDates = curDates[1:]"
   ]
  },
  {
   "cell_type": "code",
   "execution_count": 5,
   "metadata": {},
   "outputs": [
    {
     "data": {
      "application/vnd.jupyter.widget-view+json": {
       "model_id": "4a3a31513d4b40c899eb7ef9584a4953",
       "version_major": 2,
       "version_minor": 0
      },
      "text/plain": [
       "Canvas(toolbar=Toolbar(toolitems=[('Home', 'Reset original view', 'home', 'home'), ('Back', 'Back to previous …"
      ]
     },
     "metadata": {},
     "output_type": "display_data"
    }
   ],
   "source": [
    "fig,ax1 = plt.subplots(1,1,sharex=True)\n",
    "\n",
    "# ax1.plot(plotDates,dfAdmDiff['0-9'])\n",
    "# ax1.plot(plotDates,dfAdmDiff['10-19'])\n",
    "ax1.plot(plotDates,dfAdmDiff['0-9']+dfAdmDiff['10-19'],label='0-19')\n",
    "ax1.plot(plotDates,dfAdmDiff['20-29'],label='20-29')\n",
    "ax1.plot(plotDates,dfAdmDiff['30-39'],label='30-39')\n",
    "ax1.plot(plotDates,dfAdmDiff['40-49'],label='40-49')\n",
    "\n",
    "ax1.set_ylim(bottom=0)\n",
    "ax1.set_xlim([plotDates[0],plotDates[-1]])\n",
    "\n",
    "ax1.grid()\n",
    "ax1.legend()\n",
    "ax1.xaxis.set_major_formatter(mdates.DateFormatter('%b\\n%Y'))\n",
    "\n",
    "plt.tight_layout()"
   ]
  },
  {
   "cell_type": "code",
   "execution_count": 6,
   "metadata": {},
   "outputs": [],
   "source": [
    "dfCase = pd.DataFrame(columns=dfAdm.columns)\n",
    "dfTest = pd.DataFrame(columns=dfAdm.columns)\n",
    "dfPosP = pd.DataFrame(columns=dfAdm.columns)"
   ]
  },
  {
   "cell_type": "code",
   "execution_count": 7,
   "metadata": {},
   "outputs": [],
   "source": [
    "# Collect the cases, tests and positive percentage from all the \"cases by age\" files\n",
    "\n",
    "ssidatapath = \"ssi_data\"\n",
    "rootdir = os.getcwd() +\"/\" + ssidatapath\n",
    "\n",
    "for subdir, dirs, files in os.walk(rootdir):\n",
    "    if not len(files) == 0:\n",
    "        latestdir = subdir\n",
    "        latestDate = pd.to_datetime(subdir[-10:])\n",
    "        curdf = pd.read_csv(latestdir+'/Cases_by_age.csv',delimiter = ';',dtype=str)\n",
    "        \n",
    "        curdf['Antal_bekræftede_COVID-19'] = pd.to_numeric(curdf['Antal_bekræftede_COVID-19'].astype(str).apply(lambda x: x.replace('.','')))\n",
    "        curdf['Antal_testede'] = pd.to_numeric(curdf['Antal_testede'].astype(str).apply(lambda x: x.replace('.','')))\n",
    "        curdf['Procent_positive'] = pd.to_numeric(curdf['Procent_positive'].astype(str).apply(lambda x: x.replace(',','.')))\n",
    "        \n",
    "        \n",
    "        dfCase.loc[latestDate] = curdf['Antal_bekræftede_COVID-19'].values\n",
    "        dfTest.loc[latestDate] = curdf['Antal_testede'].values\n",
    "        dfPosP.loc[latestDate] = curdf['Procent_positive'].values\n",
    "\n",
    "allDates = dfCase.index\n"
   ]
  },
  {
   "cell_type": "code",
   "execution_count": 8,
   "metadata": {},
   "outputs": [],
   "source": [
    "dfCaseDiff = dfCase.diff().iloc[1:]\n",
    "dfTestDiff = dfTest.diff().iloc[1:]\n",
    "dfPosPDiff = dfPosP.diff().iloc[1:]\n",
    "plotDatesCase = allDates[1:]"
   ]
  },
  {
   "cell_type": "code",
   "execution_count": 9,
   "metadata": {},
   "outputs": [
    {
     "data": {
      "application/vnd.jupyter.widget-view+json": {
       "model_id": "e5eff3e1b4234f90a517b704144fd241",
       "version_major": 2,
       "version_minor": 0
      },
      "text/plain": [
       "Canvas(toolbar=Toolbar(toolitems=[('Home', 'Reset original view', 'home', 'home'), ('Back', 'Back to previous …"
      ]
     },
     "metadata": {},
     "output_type": "display_data"
    }
   ],
   "source": [
    "fig,ax1 = plt.subplots(1,1)\n",
    "\n",
    "howManyToUse = len(dfCaseDiff.columns)-4\n",
    "cmap = plt.cm.get_cmap('Dark2',howManyToUse)\n",
    "for k in range(0,howManyToUse):\n",
    "    curColName = dfCaseDiff.columns[k]\n",
    "    ax1.plot(plotDatesCase,dfCaseDiff[curColName],'.-',linewidth=0.4,label=curColName,color=cmap(k))\n",
    "    # meanWidth = 7\n",
    "    # ax1.plot(rnTime(plotDatesCase,meanWidth),rnMean(dfCaseDiff[curColName],meanWidth),label=curColName,color=cmap(k))\n",
    "\n",
    "ax1.legend()\n",
    "\n",
    "ax1.set_ylim(bottom=0,top=1000)\n",
    "# ax1.set_xlim([np.datetime64('2021-03-01'),np.datetime64('2021-05-05')])\n",
    "ax1.set_xlim([np.datetime64('2021-03-01'),np.datetime64(date.today())])\n",
    "\n",
    "plt.tight_layout()\n",
    "\n",
    "# ax1.plot(plotDatesCase,dfCaseDiff['0-9'])\n",
    "# ax1.plot(plotDatesCase,dfCaseDiff['10-19'])\n",
    "# ax1.plot(plotDatesCase,dfCaseDiff['20-29'])\n",
    "# ax1.plot(plotDatesCase,dfCaseDiff['30-39'])"
   ]
  },
  {
   "cell_type": "code",
   "execution_count": 10,
   "metadata": {},
   "outputs": [],
   "source": [
    "# dfCaseDiff\n",
    "\n",
    "curIndex = dfCaseDiff.index.values.astype('datetime64[D]')\n",
    "dayDiff = curIndex[1:] - curIndex[:-1]\n"
   ]
  },
  {
   "cell_type": "code",
   "execution_count": 11,
   "metadata": {},
   "outputs": [
    {
     "data": {
      "application/vnd.jupyter.widget-view+json": {
       "model_id": "dc54e9d9906c496d85a3724f1bfdd13a",
       "version_major": 2,
       "version_minor": 0
      },
      "text/plain": [
       "Canvas(toolbar=Toolbar(toolitems=[('Home', 'Reset original view', 'home', 'home'), ('Back', 'Back to previous …"
      ]
     },
     "metadata": {},
     "output_type": "display_data"
    },
    {
     "data": {
      "text/plain": [
       "(0.0, 1025.6)"
      ]
     },
     "execution_count": 11,
     "metadata": {},
     "output_type": "execute_result"
    }
   ],
   "source": [
    "fig,ax1 = plt.subplots(1,1)\n",
    "# fig,(ax1,ax2) = plt.subplots(2,1,sharex=True)\n",
    "# for k in range(4,len(dayDiff)):\n",
    "for k in range(0,len(dfCaseDiff)):\n",
    "\n",
    "    \n",
    "    # ax1.bar(curIndex[k]-dayDiff[k-1],dfCaseDiff['20-29'].iloc[k],width=dayDiff[k-1])\n",
    "    curWidth = dayDiff[k-1]\n",
    "    numDaysWidth = curWidth/np.timedelta64(1,'D')\n",
    "\n",
    "    # Since half days aren't possible, convert to an \"hours\" timedelta64\n",
    "    toMove = np.timedelta64(int(24*(numDaysWidth)/2),'h')\n",
    "\n",
    "    curHeight = (dfCaseDiff['20-29'].iloc[k])/numDaysWidth\n",
    "    # curHeight = (dfCaseDiff['30-39'].iloc[k])/numDaysWidth\n",
    "    \n",
    "    \n",
    "    # ax1.bar(curIndex[k]+np.timedelta64(1,'D'),dfCaseDiff['20-29'].iloc[k],width=dayDiff[k-1])\n",
    "    # ax1.bar(curIndex[k]-toMove,dfCaseDiff['20-29'].iloc[k],width=dayDiff[k-1])\n",
    "    ax1.bar(curIndex[k]-toMove,curHeight,width=dayDiff[k-1],color='grey',edgecolor='k')\n",
    "    \n",
    "    # ax2.plot(curIndex[k],curHeight,'k*-')\n",
    "    # ax2.plot(curIndex[k],dfCaseDiff['20-29'].iloc[k],'r.-')\n",
    "    # ax1.plot(curIndex[k],dfCaseDiff['20-29'].iloc[k],'*')\n",
    "    # ax2.plot(curIndex[k],dayDiff[k-1],'*')\n",
    "\n",
    "ax1.set_xlim([np.datetime64('2020-11-01'),np.datetime64(date.today())])\n",
    "ax1.set_ylim(bottom=0)\n",
    "# ax1.set_ylim(top=300)\n",
    "# ax2.set_ylim(bottom=0)\n",
    "# ax2.set_ylim(top=1000)"
   ]
  },
  {
   "cell_type": "code",
   "execution_count": 12,
   "metadata": {},
   "outputs": [],
   "source": [
    "# dfCaseDiff.tail()\n",
    "\n",
    "# plt.plot(allDays,allData,'.-')"
   ]
  },
  {
   "cell_type": "code",
   "execution_count": 13,
   "metadata": {},
   "outputs": [],
   "source": [
    "# Make a daily dataframe\n",
    "dfCaseFull = pd.DataFrame()\n",
    "for curCol in dfCaseDiff.columns:\n",
    "    allDays = []\n",
    "    allData = []\n",
    "    for k in range(0,len(dfCaseDiff)):\n",
    "\n",
    "        \n",
    "        curWidth = dayDiff[k-1]\n",
    "        numDaysWidth = int(curWidth/np.timedelta64(1,'D'))\n",
    "        \n",
    "        # curHeight = (dfCaseDiff['20-29'].iloc[k])/numDaysWidth\n",
    "        curHeight = (dfCaseDiff[curCol].iloc[k])/numDaysWidth\n",
    "\n",
    "        curDay = curIndex[k]\n",
    "        # print('----------')\n",
    "        # print(curDay)\n",
    "        # print(numDaysWidth)\n",
    "\n",
    "        # for d in range(0,numDaysWidth):\n",
    "        for d in range(numDaysWidth-1,-1,-1):\n",
    "            dayToAdd = curDay - np.timedelta64(d,'D')\n",
    "            # print(dayToAdd)\n",
    "            allDays.append(dayToAdd)\n",
    "            allData.append(curHeight)\n",
    "\n",
    "    dfCaseFull['Dato']  = allDays\n",
    "    # dfCaseFull['20-29'] = allData\n",
    "    dfCaseFull[curCol] = allData\n"
   ]
  },
  {
   "cell_type": "code",
   "execution_count": 14,
   "metadata": {},
   "outputs": [],
   "source": [
    "# plt.figure()\n",
    "# plt.plot(allDays,allData,'.-')\n",
    "# plt.show()\n",
    "dfCaseFull.tail()\n",
    "# dfCaseDiff.columns\n",
    "dfCaseFull.to_csv('DailyCasesAveraged.csv')"
   ]
  },
  {
   "cell_type": "code",
   "execution_count": 15,
   "metadata": {},
   "outputs": [
    {
     "data": {
      "application/vnd.jupyter.widget-view+json": {
       "model_id": "68be70dec2a546379c3fba2c01de2585",
       "version_major": 2,
       "version_minor": 0
      },
      "text/plain": [
       "Canvas(toolbar=Toolbar(toolitems=[('Home', 'Reset original view', 'home', 'home'), ('Back', 'Back to previous …"
      ]
     },
     "metadata": {},
     "output_type": "display_data"
    }
   ],
   "source": [
    "colNames = dfCaseFull.columns[1:-1]\n",
    "# numToShow = len(dfCaseFull.columns)-1\n",
    "numToShow = len(dfCaseFull.columns)-2\n",
    "fig,allAxes = plt.subplots(numToShow,1,sharex=True,figsize=(12,20))\n",
    "\n",
    "meanWidth = 7\n",
    "\n",
    "\n",
    "# allAxes[0].plot(dfCaseFull.Dato,dfCaseFull['0-9'],'.-')\n",
    "# allAxes[0].plot(rnTime(dfCaseFull.Dato,meanWidth),rnMean(dfCaseFull['0-9'],meanWidth))\n",
    "# allAxes[1].plot(dfCaseFull.Dato,dfCaseFull['10-19'],'.-')\n",
    "# allAxes[1].plot(rnTime(dfCaseFull.Dato,meanWidth),rnMean(dfCaseFull['10-19'],meanWidth))\n",
    "\n",
    "firstDate = np.datetime64('2021-02-01')\n",
    "firstDateIndex = np.where(dfCaseFull.Dato == firstDate)[0][0]\n",
    "\n",
    "\n",
    "\n",
    "# for ax in allAxes:\n",
    "for k in range(0,numToShow):\n",
    "    ax = allAxes[k]\n",
    "    \n",
    "    # ax.plot(dfCaseFull.Dato,dfCaseFull[colNames[k]],'.-')\n",
    "    # ax.plot(rnTime(dfCaseFull.Dato,meanWidth),rnMean(dfCaseFull[colNames[k]],meanWidth)) \n",
    "\n",
    "    ax.plot(dfCaseFull.Dato.iloc[firstDateIndex:],dfCaseFull[colNames[k]].iloc[firstDateIndex:],'k.:',markersize=3,linewidth=0.5)\n",
    "    ax.plot(rnTime(dfCaseFull.Dato.iloc[firstDateIndex:],meanWidth),rnMean(dfCaseFull[colNames[k]].iloc[firstDateIndex:],meanWidth),'k') \n",
    "\n",
    "    ax.set_title(colNames[k])\n",
    "\n",
    "    ax.set_ylim(bottom=0)\n",
    "    ax.grid()\n",
    "\n",
    "# allAxes[0].set_xlim(left=np.datetime64('2020-11-01'))\n",
    "allAxes[0].set_xlim(left=firstDate)\n",
    "\n",
    "plt.tight_layout()\n",
    "\n",
    "if saveFigures:\n",
    "    plt.savefig('figs/CasesPerDay_AllAges')"
   ]
  },
  {
   "cell_type": "code",
   "execution_count": 16,
   "metadata": {},
   "outputs": [
    {
     "data": {
      "application/vnd.jupyter.widget-view+json": {
       "model_id": "292a0ce72c564e39808672ff183bd5ca",
       "version_major": 2,
       "version_minor": 0
      },
      "text/plain": [
       "Canvas(toolbar=Toolbar(toolitems=[('Home', 'Reset original view', 'home', 'home'), ('Back', 'Back to previous …"
      ]
     },
     "metadata": {},
     "output_type": "display_data"
    }
   ],
   "source": [
    "colNames = dfCaseFull.columns[1:-1]\n",
    "# numToShow = len(dfCaseFull.columns)-1\n",
    "numToShow = len(dfCaseFull.columns)-2\n",
    "fig,allAxes = plt.subplots(numToShow,1,sharex=True,figsize=(12,20))\n",
    "\n",
    "meanWidth = 7\n",
    "\n",
    "\n",
    "# allAxes[0].plot(dfCaseFull.Dato,dfCaseFull['0-9'],'.-')\n",
    "# allAxes[0].plot(rnTime(dfCaseFull.Dato,meanWidth),rnMean(dfCaseFull['0-9'],meanWidth))\n",
    "# allAxes[1].plot(dfCaseFull.Dato,dfCaseFull['10-19'],'.-')\n",
    "# allAxes[1].plot(rnTime(dfCaseFull.Dato,meanWidth),rnMean(dfCaseFull['10-19'],meanWidth))\n",
    "\n",
    "firstDate = np.datetime64('2021-04-01')\n",
    "firstDateIndex = np.where(dfCaseFull.Dato == firstDate)[0][0]\n",
    "\n",
    "\n",
    "\n",
    "# for ax in allAxes:\n",
    "for k in range(0,numToShow):\n",
    "    ax = allAxes[k]\n",
    "    \n",
    "    # ax.plot(dfCaseFull.Dato,dfCaseFull[colNames[k]],'.-')\n",
    "    # ax.plot(rnTime(dfCaseFull.Dato,meanWidth),rnMean(dfCaseFull[colNames[k]],meanWidth)) \n",
    "\n",
    "    ax.plot(dfCaseFull.Dato.iloc[firstDateIndex:],dfCaseFull[colNames[k]].iloc[firstDateIndex:],'k.:',markersize=3,linewidth=0.5)\n",
    "    ax.plot(rnTime(dfCaseFull.Dato.iloc[firstDateIndex:],meanWidth),rnMean(dfCaseFull[colNames[k]].iloc[firstDateIndex:],meanWidth),'k') \n",
    "\n",
    "    ax.set_title(colNames[k])\n",
    "\n",
    "    ax.set_ylim(bottom=0)\n",
    "    ax.grid()\n",
    "\n",
    "# allAxes[0].set_xlim(left=np.datetime64('2020-11-01'))\n",
    "allAxes[0].set_xlim(left=firstDate)\n",
    "\n",
    "plt.tight_layout()\n",
    "\n",
    "if saveFigures:\n",
    "    plt.savefig('figs/CasesPerDay_AllAges_Zoom')"
   ]
  },
  {
   "cell_type": "code",
   "execution_count": 17,
   "metadata": {},
   "outputs": [],
   "source": [
    "# Calculate the populations counts\n",
    "dfPop = pd.read_excel('DKfolketal2021clean.xlsx') \n",
    "\n",
    "size1 = dfPop[0:20].Antal.sum()\n",
    "size2 = dfPop[20:40].Antal.sum()\n",
    "size3 = dfPop[40:70].Antal.sum()\n",
    "size4 = dfPop[70:].Antal.sum()\n",
    "\n",
    "sizes = [size1,size2,size3,size4]"
   ]
  },
  {
   "cell_type": "code",
   "execution_count": 18,
   "metadata": {},
   "outputs": [
    {
     "data": {
      "application/vnd.jupyter.widget-view+json": {
       "model_id": "117b2deca0934dc990e4ddbd7da97e7a",
       "version_major": 2,
       "version_minor": 0
      },
      "text/plain": [
       "Canvas(toolbar=Toolbar(toolitems=[('Home', 'Reset original view', 'home', 'home'), ('Back', 'Back to previous …"
      ]
     },
     "metadata": {},
     "output_type": "display_data"
    }
   ],
   "source": [
    "\n",
    "# colNames = dfCaseFull.columns[1:-1]\n",
    "# numToShow = len(dfCaseFull.columns)-1\n",
    "# numToShow = len(dfCaseFull.columns)-2\n",
    "\n",
    "group4 = dfCaseFull['90+']+dfCaseFull['80-89']+dfCaseFull['70-79']\n",
    "group3 = dfCaseFull['40-49']+dfCaseFull['50-59']+dfCaseFull['60-69']\n",
    "group2 = dfCaseFull['20-29']+dfCaseFull['30-39']\n",
    "group1 = dfCaseFull['0-9']+dfCaseFull['10-19']\n",
    "\n",
    "groupNames = ['0-19','20-39','40-69','70+']\n",
    "\n",
    "groups = [group1,group2,group3,group4]\n",
    "numToShow = len(groups)\n",
    "\n",
    "# fig,allAxes = plt.subplots(numToShow,1,sharex=True,figsize=(12,20))\n",
    "fig,ax1 = plt.subplots(1,1)\n",
    "\n",
    "meanWidth = 7\n",
    "\n",
    "\n",
    "\n",
    "# firstDate = np.datetime64('2021-02-01')\n",
    "firstDate = np.datetime64('2020-10-01')\n",
    "# firstDate = np.datetime64('2020-06-01')\n",
    "# firstDate = dfCaseFull.Dato[0]\n",
    "firstDateIndex = np.where(dfCaseFull.Dato == firstDate)[0][0]\n",
    "\n",
    "curDates = dfCaseFull.Dato.iloc[firstDateIndex:]\n",
    "\n",
    "\n",
    "# for ax in allAxes:\n",
    "\n",
    "cmap = plt.cm.get_cmap('Dark2',numToShow+1)\n",
    "for k in range(0,numToShow):\n",
    "\n",
    "    curCases = groups[k].iloc[firstDateIndex:]\n",
    "    curCasesNorm = np.divide(curCases,sizes[k])\n",
    "\n",
    "    # ax1.plot(curDates,curCases,'.:',linewidth=0.5,markersize=3,color=cmap(k))\n",
    "    # ax1.plot(rnTime(curDates,meanWidth),rnMean(curCases,meanWidth),color=cmap(k),label=groupNames[k]) \n",
    "    \n",
    "    ax1.plot(curDates,100000 * curCasesNorm,'.:',linewidth=0.5,markersize=3,color=cmap(k))\n",
    "    ax1.plot(rnTime(curDates,meanWidth),100000 * rnMean(curCasesNorm,meanWidth),color=cmap(k),label=groupNames[k]) \n",
    "    # ax1.plot(rnTime(dfCaseFull.Dato.iloc[firstDateIndex:],meanWidth),np.divide(rnMean(curCases,meanWidth),sizes[k]),color=cmap(k),label=groupNames[k]) \n",
    "\n",
    "ax1.set_ylim(bottom=0)\n",
    "ax1.set_xlim(left=firstDate)\n",
    "\n",
    "ax1.set_ylabel('Tilfælde per 100.000')\n",
    "\n",
    "ax1.grid()\n",
    "ax1.legend()\n",
    "plt.tight_layout()\n",
    "\n",
    "if saveFigures:\n",
    "    plt.savefig('figs/CasesPerDay_AgeGroups')\n",
    "\n",
    "    \n",
    "# ax1.set_ylim(top=50)\n",
    "# ax1.set_xlim(left=np.datetime64('2021-05'))\n",
    "\n",
    "# plt.tight_layout()\n",
    "\n",
    "# if saveFigures:\n",
    "#     plt.savefig('figs/CasesPerDay_AgeGroups_zoomNy')"
   ]
  },
  {
   "cell_type": "code",
   "execution_count": 19,
   "metadata": {},
   "outputs": [
    {
     "data": {
      "application/vnd.jupyter.widget-view+json": {
       "model_id": "e9cd28a9faac4bb2abce3ac25a1bb80a",
       "version_major": 2,
       "version_minor": 0
      },
      "text/plain": [
       "Canvas(toolbar=Toolbar(toolitems=[('Home', 'Reset original view', 'home', 'home'), ('Back', 'Back to previous …"
      ]
     },
     "metadata": {},
     "output_type": "display_data"
    }
   ],
   "source": [
    "\n",
    "# colNames = dfCaseFull.columns[1:-1]\n",
    "# numToShow = len(dfCaseFull.columns)-1\n",
    "# numToShow = len(dfCaseFull.columns)-2\n",
    "\n",
    "group4 = dfCaseFull['90+']+dfCaseFull['80-89']+dfCaseFull['70-79']\n",
    "group3 = dfCaseFull['40-49']+dfCaseFull['50-59']+dfCaseFull['60-69']\n",
    "group2 = dfCaseFull['20-29']+dfCaseFull['30-39']\n",
    "group1 = dfCaseFull['0-9']+dfCaseFull['10-19']\n",
    "\n",
    "groupNames = ['0-19','20-39','40-69','70+']\n",
    "\n",
    "groups = [group1,group2,group3,group4]\n",
    "numToShow = len(groups)\n",
    "\n",
    "# fig,allAxes = plt.subplots(numToShow,1,sharex=True,figsize=(12,20))\n",
    "fig,ax1 = plt.subplots(1,1)\n",
    "\n",
    "meanWidth = 7\n",
    "\n",
    "\n",
    "\n",
    "firstDate = np.datetime64('2021-04-01')\n",
    "# firstDate = np.datetime64('2021-05-01')\n",
    "# firstDate = np.datetime64('2020-06-01')\n",
    "# firstDate = dfCaseFull.Dato[0]\n",
    "firstDateIndex = np.where(dfCaseFull.Dato == firstDate)[0][0]\n",
    "\n",
    "curDates = dfCaseFull.Dato.iloc[firstDateIndex:]\n",
    "\n",
    "\n",
    "# for ax in allAxes:\n",
    "\n",
    "cmap = plt.cm.get_cmap('Dark2',numToShow+1)\n",
    "for k in range(0,numToShow):\n",
    "\n",
    "    curCases = groups[k].iloc[firstDateIndex:]\n",
    "    curCasesNorm = np.divide(curCases,sizes[k])\n",
    "\n",
    "    # ax1.plot(curDates,curCases,'.:',linewidth=0.5,markersize=3,color=cmap(k))\n",
    "    # ax1.plot(rnTime(curDates,meanWidth),rnMean(curCases,meanWidth),color=cmap(k),label=groupNames[k]) \n",
    "    \n",
    "    ax1.plot(curDates,100000 * curCasesNorm,'.:',linewidth=0.5,markersize=3,color=cmap(k))\n",
    "    ax1.plot(rnTime(curDates,meanWidth),100000 * rnMean(curCasesNorm,meanWidth),color=cmap(k),label=groupNames[k]) \n",
    "    # ax1.plot(rnTime(dfCaseFull.Dato.iloc[firstDateIndex:],meanWidth),np.divide(rnMean(curCases,meanWidth),sizes[k]),color=cmap(k),label=groupNames[k]) \n",
    "\n",
    "ax1.set_ylim(bottom=0)\n",
    "firstDate = np.datetime64('2021-05-01')\n",
    "ax1.set_xlim(left=firstDate)\n",
    "\n",
    "ax1.set_ylabel('Tilfælde per 100.000')\n",
    "\n",
    "ax1.grid()\n",
    "ax1.legend()\n",
    "plt.tight_layout()\n",
    "\n",
    "if saveFigures:\n",
    "    plt.savefig('figs/CasesPerDay_AgeGroups_Zoom')"
   ]
  },
  {
   "cell_type": "code",
   "execution_count": null,
   "metadata": {},
   "outputs": [],
   "source": []
  }
 ],
 "metadata": {
  "interpreter": {
   "hash": "c031fd63bd977d199cd6020c30a19695eacbb638d100e0b8a5ea53080ed74a9a"
  },
  "kernelspec": {
   "display_name": "Python 3.8.8 64-bit ('main': conda)",
   "name": "python3"
  },
  "language_info": {
   "codemirror_mode": {
    "name": "ipython",
    "version": 3
   },
   "file_extension": ".py",
   "mimetype": "text/x-python",
   "name": "python",
   "nbconvert_exporter": "python",
   "pygments_lexer": "ipython3",
   "version": "3.8.8"
  },
  "orig_nbformat": 2
 },
 "nbformat": 4,
 "nbformat_minor": 2
}