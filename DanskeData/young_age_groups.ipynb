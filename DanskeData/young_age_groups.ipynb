{
 "metadata": {
  "language_info": {
   "codemirror_mode": {
    "name": "ipython",
    "version": 3
   },
   "file_extension": ".py",
   "mimetype": "text/x-python",
   "name": "python",
   "nbconvert_exporter": "python",
   "pygments_lexer": "ipython3",
   "version": "3.8.5"
  },
  "orig_nbformat": 2,
  "kernelspec": {
   "name": "python385jvsc74a57bd0c72cdf52cb3d31f207bca538e9396da8706c0ecf4a3038fb1c2b317934170431",
   "display_name": "Python 3.8.5 64-bit ('main': conda)"
  }
 },
 "nbformat": 4,
 "nbformat_minor": 2,
 "cells": [
  {
   "cell_type": "code",
   "execution_count": 1,
   "metadata": {},
   "outputs": [
    {
     "output_type": "stream",
     "name": "stdout",
     "text": [
      "saveFigures is set to: True\nDone loading packages\n"
     ]
    }
   ],
   "source": [
    "# Main notebook for playing around looking at different things in data\n",
    "import numpy as np\n",
    "import pandas as pd\n",
    "pd.set_option('display.max_rows', 500)\n",
    "pd.set_option('display.min_rows', 50)\n",
    "import seaborn as sns\n",
    "\n",
    "\n",
    "import matplotlib.pyplot as plt\n",
    "%matplotlib widget\n",
    "plt.rcParams['figure.figsize'] = (12,8)\n",
    "# plt.rcParams[\"image.cmap\"] = \"Dark2\"\n",
    "# plt.rcParams['axes.prop_cycle'] = plt.cycler(color=plt.cm.Dark2.colors)\n",
    "plt.rcParams[\"image.cmap\"] = \"tab10\"\n",
    "plt.rcParams['axes.prop_cycle'] = plt.cycler(color=plt.cm.tab10.colors)\n",
    "plt.rcParams['lines.markersize'] = 10\n",
    "plt.rcParams['lines.linewidth'] = 3\n",
    "%matplotlib widget\n",
    "# plt.style.use('ggplot')\n",
    "import matplotlib.colors as colors\n",
    "# cmap = plt.cm.get_cmap('Dark2',len(ageGroups))\n",
    "from matplotlib import cm # Colormaps\n",
    "\n",
    "import locale\n",
    "import matplotlib.dates as mdates\n",
    "locale.setlocale(locale.LC_TIME,\"Danish\")\n",
    "# ax = plt.gca()\n",
    "# ax1.xaxis.set_major_formatter(mdates.DateFormatter('%b\\n%Y'))\n",
    "# # ax.xaxis.set_major_formatter(mdates.DateFormatter('%Y \\n %B'))\n",
    "\n",
    "import os\n",
    "# import csv\n",
    "import math\n",
    "\n",
    "\n",
    "from datetime import date\n",
    "\n",
    "\n",
    "saveFigures = True\n",
    "# saveFigures = False\n",
    "print('saveFigures is set to: '+str(saveFigures))\n",
    "\n",
    "print('Done loading packages')\n",
    "\n",
    "def rnMean(data,meanWidth):\n",
    "    return np.convolve(data, np.ones(meanWidth)/meanWidth, mode='valid')\n",
    "def rnTime(t,meanWidth):\n",
    "    return t[math.floor(meanWidth/2):-math.ceil(meanWidth/2)+1]\n"
   ]
  },
  {
   "cell_type": "code",
   "execution_count": 2,
   "metadata": {},
   "outputs": [],
   "source": [
    "ssidatapath = \"ssi_data\"\n",
    "rootdir = os.getcwd() +\"/\" + ssidatapath"
   ]
  },
  {
   "cell_type": "code",
   "execution_count": 3,
   "metadata": {},
   "outputs": [],
   "source": [
    "dfAdm = pd.read_excel('Admitted\\Admitted.xlsx')\n",
    "dfAdm = dfAdm.transpose()\n",
    "dfAdm.columns = dfAdm.iloc[0]\n",
    "dfAdm = dfAdm.drop(['Aldersgruppe']) \n",
    "curDates =  pd.to_datetime(dfAdm.index,format='%d_%m_%Y')"
   ]
  },
  {
   "cell_type": "code",
   "execution_count": 4,
   "metadata": {},
   "outputs": [],
   "source": [
    "dfAdmDiff = dfAdm.diff().iloc[1:]\n",
    "plotDates = curDates[1:]"
   ]
  },
  {
   "cell_type": "code",
   "execution_count": 5,
   "metadata": {},
   "outputs": [
    {
     "output_type": "display_data",
     "data": {
      "text/plain": "Canvas(toolbar=Toolbar(toolitems=[('Home', 'Reset original view', 'home', 'home'), ('Back', 'Back to previous …",
      "application/vnd.jupyter.widget-view+json": {
       "version_major": 2,
       "version_minor": 0,
       "model_id": "a342434e2cf741cd87f6e00beaa19c1b"
      }
     },
     "metadata": {}
    }
   ],
   "source": [
    "fig,ax1 = plt.subplots(1,1,sharex=True)\n",
    "\n",
    "# ax1.plot(plotDates,dfAdmDiff['0-9'])\n",
    "# ax1.plot(plotDates,dfAdmDiff['10-19'])\n",
    "ax1.plot(plotDates,dfAdmDiff['0-9']+dfAdmDiff['10-19'],label='0-19')\n",
    "ax1.plot(plotDates,dfAdmDiff['20-29'],label='20-29')\n",
    "ax1.plot(plotDates,dfAdmDiff['30-39'],label='30-39')\n",
    "ax1.plot(plotDates,dfAdmDiff['40-49'],label='40-49')\n",
    "\n",
    "ax1.set_ylim(bottom=0)\n",
    "ax1.set_xlim([plotDates[0],plotDates[-1]])\n",
    "\n",
    "ax1.grid()\n",
    "ax1.legend()\n",
    "ax1.xaxis.set_major_formatter(mdates.DateFormatter('%b\\n%Y'))\n",
    "\n",
    "plt.tight_layout()"
   ]
  },
  {
   "cell_type": "code",
   "execution_count": 6,
   "metadata": {},
   "outputs": [],
   "source": [
    "dfCase = pd.DataFrame(columns=dfAdm.columns)\n",
    "dfTest = pd.DataFrame(columns=dfAdm.columns)\n",
    "dfPosP = pd.DataFrame(columns=dfAdm.columns)"
   ]
  },
  {
   "cell_type": "code",
   "execution_count": 7,
   "metadata": {},
   "outputs": [],
   "source": [
    "# Collect the cases, tests and positive percentage from all the \"cases by age\" files\n",
    "\n",
    "ssidatapath = \"ssi_data\"\n",
    "rootdir = os.getcwd() +\"/\" + ssidatapath\n",
    "\n",
    "for subdir, dirs, files in os.walk(rootdir):\n",
    "    if not len(files) == 0:\n",
    "        latestdir = subdir\n",
    "        latestDate = pd.to_datetime(subdir[-10:])\n",
    "        curdf = pd.read_csv(latestdir+'/Cases_by_age.csv',delimiter = ';',dtype=str)\n",
    "        \n",
    "        curdf['Antal_bekræftede_COVID-19'] = pd.to_numeric(curdf['Antal_bekræftede_COVID-19'].astype(str).apply(lambda x: x.replace('.','')))\n",
    "        curdf['Antal_testede'] = pd.to_numeric(curdf['Antal_testede'].astype(str).apply(lambda x: x.replace('.','')))\n",
    "        curdf['Procent_positive'] = pd.to_numeric(curdf['Procent_positive'].astype(str).apply(lambda x: x.replace(',','.')))\n",
    "        \n",
    "        \n",
    "        dfCase.loc[latestDate] = curdf['Antal_bekræftede_COVID-19'].values\n",
    "        dfTest.loc[latestDate] = curdf['Antal_testede'].values\n",
    "        dfPosP.loc[latestDate] = curdf['Procent_positive'].values\n",
    "\n",
    "allDates = dfCase.index\n"
   ]
  },
  {
   "cell_type": "code",
   "execution_count": 8,
   "metadata": {},
   "outputs": [],
   "source": [
    "dfCaseDiff = dfCase.diff().iloc[1:]\n",
    "dfTestDiff = dfTest.diff().iloc[1:]\n",
    "dfPosPDiff = dfPosP.diff().iloc[1:]\n",
    "plotDatesCase = allDates[1:]"
   ]
  },
  {
   "cell_type": "code",
   "execution_count": 9,
   "metadata": {},
   "outputs": [
    {
     "output_type": "display_data",
     "data": {
      "text/plain": "Canvas(toolbar=Toolbar(toolitems=[('Home', 'Reset original view', 'home', 'home'), ('Back', 'Back to previous …",
      "application/vnd.jupyter.widget-view+json": {
       "version_major": 2,
       "version_minor": 0,
       "model_id": "155f18e033b24cbd90f20c936c0931a8"
      }
     },
     "metadata": {}
    }
   ],
   "source": [
    "fig,ax1 = plt.subplots(1,1)\n",
    "\n",
    "howManyToUse = len(dfCaseDiff.columns)-4\n",
    "cmap = plt.cm.get_cmap('Dark2',howManyToUse)\n",
    "for k in range(0,howManyToUse):\n",
    "    curColName = dfCaseDiff.columns[k]\n",
    "    ax1.plot(plotDatesCase,dfCaseDiff[curColName],'.-',linewidth=0.4,label=curColName,color=cmap(k))\n",
    "    # meanWidth = 7\n",
    "    # ax1.plot(rnTime(plotDatesCase,meanWidth),rnMean(dfCaseDiff[curColName],meanWidth),label=curColName,color=cmap(k))\n",
    "\n",
    "ax1.legend()\n",
    "\n",
    "ax1.set_ylim(bottom=0,top=1000)\n",
    "ax1.set_xlim([np.datetime64('2021-03-01'),np.datetime64('2021-05-05')])\n",
    "\n",
    "plt.tight_layout()\n",
    "\n",
    "# ax1.plot(plotDatesCase,dfCaseDiff['0-9'])\n",
    "# ax1.plot(plotDatesCase,dfCaseDiff['10-19'])\n",
    "# ax1.plot(plotDatesCase,dfCaseDiff['20-29'])\n",
    "# ax1.plot(plotDatesCase,dfCaseDiff['30-39'])"
   ]
  },
  {
   "cell_type": "code",
   "execution_count": 10,
   "metadata": {},
   "outputs": [],
   "source": [
    "# dfCaseDiff\n",
    "\n",
    "curIndex = dfCaseDiff.index.values.astype('datetime64[D]')\n",
    "dayDiff = curIndex[1:] - curIndex[:-1]\n"
   ]
  },
  {
   "cell_type": "code",
   "execution_count": 11,
   "metadata": {},
   "outputs": [
    {
     "output_type": "display_data",
     "data": {
      "text/plain": "Canvas(toolbar=Toolbar(toolitems=[('Home', 'Reset original view', 'home', 'home'), ('Back', 'Back to previous …",
      "application/vnd.jupyter.widget-view+json": {
       "version_major": 2,
       "version_minor": 0,
       "model_id": "767dc6d59a4a448ba60dbc7da4d75603"
      }
     },
     "metadata": {}
    },
    {
     "output_type": "execute_result",
     "data": {
      "text/plain": [
       "(0.0, 1025.6)"
      ]
     },
     "metadata": {},
     "execution_count": 11
    }
   ],
   "source": [
    "fig,ax1 = plt.subplots(1,1)\n",
    "# fig,(ax1,ax2) = plt.subplots(2,1,sharex=True)\n",
    "# for k in range(4,len(dayDiff)):\n",
    "for k in range(0,len(dfCaseDiff)):\n",
    "\n",
    "    \n",
    "    # ax1.bar(curIndex[k]-dayDiff[k-1],dfCaseDiff['20-29'].iloc[k],width=dayDiff[k-1])\n",
    "    curWidth = dayDiff[k-1]\n",
    "    numDaysWidth = curWidth/np.timedelta64(1,'D')\n",
    "\n",
    "    # Since half days aren't possible, convert to an \"hours\" timedelta64\n",
    "    toMove = np.timedelta64(int(24*(numDaysWidth)/2),'h')\n",
    "\n",
    "    curHeight = (dfCaseDiff['20-29'].iloc[k])/numDaysWidth\n",
    "    # curHeight = (dfCaseDiff['30-39'].iloc[k])/numDaysWidth\n",
    "    \n",
    "    \n",
    "    # ax1.bar(curIndex[k]+np.timedelta64(1,'D'),dfCaseDiff['20-29'].iloc[k],width=dayDiff[k-1])\n",
    "    # ax1.bar(curIndex[k]-toMove,dfCaseDiff['20-29'].iloc[k],width=dayDiff[k-1])\n",
    "    ax1.bar(curIndex[k]-toMove,curHeight,width=dayDiff[k-1],color='grey',edgecolor='k')\n",
    "    \n",
    "    # ax2.plot(curIndex[k],curHeight,'k*-')\n",
    "    # ax2.plot(curIndex[k],dfCaseDiff['20-29'].iloc[k],'r.-')\n",
    "    # ax1.plot(curIndex[k],dfCaseDiff['20-29'].iloc[k],'*')\n",
    "    # ax2.plot(curIndex[k],dayDiff[k-1],'*')\n",
    "\n",
    "ax1.set_xlim([np.datetime64('2020-11-01'),np.datetime64('2021-05-07')])\n",
    "ax1.set_ylim(bottom=0)\n",
    "# ax1.set_ylim(top=300)\n",
    "# ax2.set_ylim(bottom=0)\n",
    "# ax2.set_ylim(top=1000)"
   ]
  },
  {
   "cell_type": "code",
   "execution_count": 12,
   "metadata": {},
   "outputs": [],
   "source": [
    "# dfCaseDiff.tail()\n",
    "\n",
    "# plt.plot(allDays,allData,'.-')"
   ]
  },
  {
   "cell_type": "code",
   "execution_count": 13,
   "metadata": {},
   "outputs": [],
   "source": [
    "# Make a daily dataframe\n",
    "dfCaseFull = pd.DataFrame()\n",
    "for curCol in dfCaseDiff.columns:\n",
    "    allDays = []\n",
    "    allData = []\n",
    "    for k in range(0,len(dfCaseDiff)):\n",
    "\n",
    "        \n",
    "        curWidth = dayDiff[k-1]\n",
    "        numDaysWidth = int(curWidth/np.timedelta64(1,'D'))\n",
    "        \n",
    "        # curHeight = (dfCaseDiff['20-29'].iloc[k])/numDaysWidth\n",
    "        curHeight = (dfCaseDiff[curCol].iloc[k])/numDaysWidth\n",
    "\n",
    "        curDay = curIndex[k]\n",
    "        # print('----------')\n",
    "        # print(curDay)\n",
    "        # print(numDaysWidth)\n",
    "\n",
    "        # for d in range(0,numDaysWidth):\n",
    "        for d in range(numDaysWidth-1,-1,-1):\n",
    "            dayToAdd = curDay - np.timedelta64(d,'D')\n",
    "            # print(dayToAdd)\n",
    "            allDays.append(dayToAdd)\n",
    "            allData.append(curHeight)\n",
    "\n",
    "    dfCaseFull['Dato']  = allDays\n",
    "    # dfCaseFull['20-29'] = allData\n",
    "    dfCaseFull[curCol] = allData\n"
   ]
  },
  {
   "cell_type": "code",
   "execution_count": 14,
   "metadata": {},
   "outputs": [
    {
     "output_type": "execute_result",
     "data": {
      "text/plain": [
       "          Dato   0-9   10-19  20-29  30-39   40-49   50-59  60-69  70-79  \\\n",
       "360 2021-05-02  71.0  131.25  166.0  121.0  116.75  100.75   52.0  18.75   \n",
       "361 2021-05-03  71.0  131.25  166.0  121.0  116.75  100.75   52.0  18.75   \n",
       "362 2021-05-04  60.0  142.00  168.0  130.0  133.00   95.00   63.0  16.00   \n",
       "363 2021-05-05  78.0  207.00  214.0  150.0  132.00  126.00   63.0  15.00   \n",
       "364 2021-05-06  70.0  206.00  247.0  146.0  140.00  123.00   57.0  16.00   \n",
       "\n",
       "     80-89   90+    I alt  \n",
       "360    1.5  0.75   779.75  \n",
       "361    1.5  0.75   779.75  \n",
       "362    1.0  1.00   809.00  \n",
       "363    3.0  0.00   988.00  \n",
       "364    7.0  0.00  1012.00  "
      ],
      "text/html": "<div>\n<style scoped>\n    .dataframe tbody tr th:only-of-type {\n        vertical-align: middle;\n    }\n\n    .dataframe tbody tr th {\n        vertical-align: top;\n    }\n\n    .dataframe thead th {\n        text-align: right;\n    }\n</style>\n<table border=\"1\" class=\"dataframe\">\n  <thead>\n    <tr style=\"text-align: right;\">\n      <th></th>\n      <th>Dato</th>\n      <th>0-9</th>\n      <th>10-19</th>\n      <th>20-29</th>\n      <th>30-39</th>\n      <th>40-49</th>\n      <th>50-59</th>\n      <th>60-69</th>\n      <th>70-79</th>\n      <th>80-89</th>\n      <th>90+</th>\n      <th>I alt</th>\n    </tr>\n  </thead>\n  <tbody>\n    <tr>\n      <th>360</th>\n      <td>2021-05-02</td>\n      <td>71.0</td>\n      <td>131.25</td>\n      <td>166.0</td>\n      <td>121.0</td>\n      <td>116.75</td>\n      <td>100.75</td>\n      <td>52.0</td>\n      <td>18.75</td>\n      <td>1.5</td>\n      <td>0.75</td>\n      <td>779.75</td>\n    </tr>\n    <tr>\n      <th>361</th>\n      <td>2021-05-03</td>\n      <td>71.0</td>\n      <td>131.25</td>\n      <td>166.0</td>\n      <td>121.0</td>\n      <td>116.75</td>\n      <td>100.75</td>\n      <td>52.0</td>\n      <td>18.75</td>\n      <td>1.5</td>\n      <td>0.75</td>\n      <td>779.75</td>\n    </tr>\n    <tr>\n      <th>362</th>\n      <td>2021-05-04</td>\n      <td>60.0</td>\n      <td>142.00</td>\n      <td>168.0</td>\n      <td>130.0</td>\n      <td>133.00</td>\n      <td>95.00</td>\n      <td>63.0</td>\n      <td>16.00</td>\n      <td>1.0</td>\n      <td>1.00</td>\n      <td>809.00</td>\n    </tr>\n    <tr>\n      <th>363</th>\n      <td>2021-05-05</td>\n      <td>78.0</td>\n      <td>207.00</td>\n      <td>214.0</td>\n      <td>150.0</td>\n      <td>132.00</td>\n      <td>126.00</td>\n      <td>63.0</td>\n      <td>15.00</td>\n      <td>3.0</td>\n      <td>0.00</td>\n      <td>988.00</td>\n    </tr>\n    <tr>\n      <th>364</th>\n      <td>2021-05-06</td>\n      <td>70.0</td>\n      <td>206.00</td>\n      <td>247.0</td>\n      <td>146.0</td>\n      <td>140.00</td>\n      <td>123.00</td>\n      <td>57.0</td>\n      <td>16.00</td>\n      <td>7.0</td>\n      <td>0.00</td>\n      <td>1012.00</td>\n    </tr>\n  </tbody>\n</table>\n</div>"
     },
     "metadata": {},
     "execution_count": 14
    }
   ],
   "source": [
    "# plt.figure()\n",
    "# plt.plot(allDays,allData,'.-')\n",
    "# plt.show()\n",
    "dfCaseFull.tail()\n",
    "# dfCaseDiff.columns"
   ]
  },
  {
   "cell_type": "code",
   "execution_count": 18,
   "metadata": {},
   "outputs": [
    {
     "output_type": "display_data",
     "data": {
      "text/plain": "Canvas(toolbar=Toolbar(toolitems=[('Home', 'Reset original view', 'home', 'home'), ('Back', 'Back to previous …",
      "application/vnd.jupyter.widget-view+json": {
       "version_major": 2,
       "version_minor": 0,
       "model_id": "01ecb0c9da1446c185561400c967ff30"
      }
     },
     "metadata": {}
    }
   ],
   "source": [
    "colNames = dfCaseFull.columns[1:-1]\n",
    "# numToShow = len(dfCaseFull.columns)-1\n",
    "numToShow = len(dfCaseFull.columns)-2\n",
    "fig,allAxes = plt.subplots(numToShow,1,sharex=True,figsize=(12,20))\n",
    "\n",
    "meanWidth = 7\n",
    "\n",
    "\n",
    "# allAxes[0].plot(dfCaseFull.Dato,dfCaseFull['0-9'],'.-')\n",
    "# allAxes[0].plot(rnTime(dfCaseFull.Dato,meanWidth),rnMean(dfCaseFull['0-9'],meanWidth))\n",
    "# allAxes[1].plot(dfCaseFull.Dato,dfCaseFull['10-19'],'.-')\n",
    "# allAxes[1].plot(rnTime(dfCaseFull.Dato,meanWidth),rnMean(dfCaseFull['10-19'],meanWidth))\n",
    "\n",
    "firstDate = np.datetime64('2021-02-01')\n",
    "firstDateIndex = np.where(dfCaseFull.Dato == firstDate)[0][0]\n",
    "\n",
    "\n",
    "\n",
    "# for ax in allAxes:\n",
    "for k in range(0,numToShow):\n",
    "    ax = allAxes[k]\n",
    "    \n",
    "    # ax.plot(dfCaseFull.Dato,dfCaseFull[colNames[k]],'.-')\n",
    "    # ax.plot(rnTime(dfCaseFull.Dato,meanWidth),rnMean(dfCaseFull[colNames[k]],meanWidth)) \n",
    "\n",
    "    ax.plot(dfCaseFull.Dato.iloc[firstDateIndex:],dfCaseFull[colNames[k]].iloc[firstDateIndex:],'k.:',markersize=3,linewidth=0.5)\n",
    "    ax.plot(rnTime(dfCaseFull.Dato.iloc[firstDateIndex:],meanWidth),rnMean(dfCaseFull[colNames[k]].iloc[firstDateIndex:],meanWidth),'k') \n",
    "\n",
    "    ax.set_title(colNames[k])\n",
    "\n",
    "    ax.set_ylim(bottom=0)\n",
    "    ax.grid()\n",
    "\n",
    "# allAxes[0].set_xlim(left=np.datetime64('2020-11-01'))\n",
    "allAxes[0].set_xlim(left=firstDate)\n",
    "\n",
    "plt.tight_layout()\n",
    "\n",
    "if saveFigures:\n",
    "    plt.savefig('figs/CasesPerDay_AllAges')"
   ]
  },
  {
   "cell_type": "code",
   "execution_count": 16,
   "metadata": {},
   "outputs": [],
   "source": [
    "# Calculate the populations counts\n",
    "dfPop = pd.read_excel('DKfolketal2021clean.xlsx') \n",
    "\n",
    "size1 = dfPop[0:20].Antal.sum()\n",
    "size2 = dfPop[20:40].Antal.sum()\n",
    "size3 = dfPop[40:70].Antal.sum()\n",
    "size4 = dfPop[70:].Antal.sum()\n",
    "\n",
    "sizes = [size1,size2,size3,size4]"
   ]
  },
  {
   "cell_type": "code",
   "execution_count": 17,
   "metadata": {},
   "outputs": [
    {
     "output_type": "display_data",
     "data": {
      "text/plain": "Canvas(toolbar=Toolbar(toolitems=[('Home', 'Reset original view', 'home', 'home'), ('Back', 'Back to previous …",
      "application/vnd.jupyter.widget-view+json": {
       "version_major": 2,
       "version_minor": 0,
       "model_id": "bf37ece7c3594a76b9f39683208f2972"
      }
     },
     "metadata": {}
    }
   ],
   "source": [
    "\n",
    "# colNames = dfCaseFull.columns[1:-1]\n",
    "# numToShow = len(dfCaseFull.columns)-1\n",
    "# numToShow = len(dfCaseFull.columns)-2\n",
    "\n",
    "group4 = dfCaseFull['90+']+dfCaseFull['80-89']+dfCaseFull['70-79']\n",
    "group3 = dfCaseFull['40-49']+dfCaseFull['50-59']+dfCaseFull['60-69']\n",
    "group2 = dfCaseFull['20-29']+dfCaseFull['30-39']\n",
    "group1 = dfCaseFull['0-9']+dfCaseFull['10-19']\n",
    "\n",
    "groupNames = ['0-19','20-39','40-69','70+']\n",
    "\n",
    "groups = [group1,group2,group3,group4]\n",
    "numToShow = len(groups)\n",
    "\n",
    "# fig,allAxes = plt.subplots(numToShow,1,sharex=True,figsize=(12,20))\n",
    "fig,ax1 = plt.subplots(1,1)\n",
    "\n",
    "meanWidth = 7\n",
    "\n",
    "\n",
    "\n",
    "# firstDate = np.datetime64('2021-02-01')\n",
    "firstDate = np.datetime64('2020-10-01')\n",
    "# firstDate = np.datetime64('2020-06-01')\n",
    "# firstDate = dfCaseFull.Dato[0]\n",
    "firstDateIndex = np.where(dfCaseFull.Dato == firstDate)[0][0]\n",
    "\n",
    "curDates = dfCaseFull.Dato.iloc[firstDateIndex:]\n",
    "\n",
    "\n",
    "# for ax in allAxes:\n",
    "\n",
    "cmap = plt.cm.get_cmap('Dark2',numToShow+1)\n",
    "for k in range(0,numToShow):\n",
    "\n",
    "    curCases = groups[k].iloc[firstDateIndex:]\n",
    "    curCasesNorm = np.divide(curCases,sizes[k])\n",
    "\n",
    "    # ax1.plot(curDates,curCases,'.:',linewidth=0.5,markersize=3,color=cmap(k))\n",
    "    # ax1.plot(rnTime(curDates,meanWidth),rnMean(curCases,meanWidth),color=cmap(k),label=groupNames[k]) \n",
    "    \n",
    "    ax1.plot(curDates,10000 * curCasesNorm,'.:',linewidth=0.5,markersize=3,color=cmap(k))\n",
    "    ax1.plot(rnTime(curDates,meanWidth),10000 * rnMean(curCasesNorm,meanWidth),color=cmap(k),label=groupNames[k]) \n",
    "    # ax1.plot(rnTime(dfCaseFull.Dato.iloc[firstDateIndex:],meanWidth),np.divide(rnMean(curCases,meanWidth),sizes[k]),color=cmap(k),label=groupNames[k]) \n",
    "\n",
    "ax1.set_ylim(bottom=0)\n",
    "ax1.set_xlim(left=firstDate)\n",
    "\n",
    "ax1.set_ylabel('Tilfælde per 10.000')\n",
    "\n",
    "ax1.grid()\n",
    "ax1.legend()\n",
    "plt.tight_layout()\n",
    "\n",
    "if saveFigures:\n",
    "    plt.savefig('figs/CasesPerDay_AgeGroups')"
   ]
  },
  {
   "cell_type": "code",
   "execution_count": 147,
   "metadata": {},
   "outputs": [
    {
     "output_type": "execute_result",
     "data": {
      "text/plain": [
       "     Alder  Antal\n",
       "0        0  61191\n",
       "1        1  61663\n",
       "2        2  61967\n",
       "3        3  62185\n",
       "4        4  62844\n",
       "5        5  59740\n",
       "6        6  59064\n",
       "7        7  58551\n",
       "8        8  60898\n",
       "9        9  62107\n",
       "10      10  66696\n",
       "11      11  66428\n",
       "12      12  68834\n",
       "13      13  67896\n",
       "14      14  68720\n",
       "15      15  67877\n",
       "16      16  68246\n",
       "17      17  68088\n",
       "18      18  67674\n",
       "19      19  69581\n",
       "20      20  72666\n",
       "21      21  72840\n",
       "22      22  74517\n",
       "23      23  77321\n",
       "24      24  78560\n",
       "25      25  81455\n",
       "26      26  82285\n",
       "27      27  79907\n",
       "28      28  80915\n",
       "29      29  78274\n",
       "30      30  78313\n",
       "31      31  76025\n",
       "32      32  73727\n",
       "33      33  70658\n",
       "34      34  69744\n",
       "35      35  68085\n",
       "36      36  65547\n",
       "37      37  64162\n",
       "38      38  65456\n",
       "39      39  64962\n",
       "40      40  68557\n",
       "41      41  69601\n",
       "42      42  71377\n",
       "43      43  70813\n",
       "44      44  73472\n",
       "45      45  79216\n",
       "46      46  77980\n",
       "47      47  77444\n",
       "48      48  80822\n",
       "49      49  79542\n",
       "50      50  76109\n",
       "51      51  75552\n",
       "52      52  78124\n",
       "53      53  83153\n",
       "54      54  88708\n",
       "55      55  85600\n",
       "56      56  83160\n",
       "57      57  81013\n",
       "58      58  76105\n",
       "59      59  73642\n",
       "60      60  72965\n",
       "61      61  69498\n",
       "62      62  69353\n",
       "63      63  68219\n",
       "64      64  68079\n",
       "65      65  66442\n",
       "66      66  64490\n",
       "67      67  64797\n",
       "68      68  62791\n",
       "69      69  60949\n",
       "70      70  61963\n",
       "71      71  60762\n",
       "72      72  63024\n",
       "73      73  65776\n",
       "74      74  66246\n",
       "75      75  62193\n",
       "76      76  57095\n",
       "77      77  51146\n",
       "78      78  46603\n",
       "79      79  39889\n",
       "80      80  37008\n",
       "81      81  33551\n",
       "82      82  31267\n",
       "83      83  28176\n",
       "84      84  24708\n",
       "85      85  21349\n",
       "86      86  18866\n",
       "87      87  16096\n",
       "88      88  13885\n",
       "89      89  11742\n",
       "90      90   9971\n",
       "91      91   8144\n",
       "92      92   6919\n",
       "93      93   5392\n",
       "94      94   4405\n",
       "95      95   3309\n",
       "96      96   2480\n",
       "97      97   1730\n",
       "98      98   1101\n",
       "99      99    806\n",
       "100    100    531\n",
       "101    101    298\n",
       "102    102    173\n",
       "103    103     81\n",
       "104    104     64\n",
       "105    105     27\n",
       "106    106     14\n",
       "107    107      8\n",
       "108    108      4\n",
       "109    109      0\n",
       "110    110      1"
      ],
      "text/html": "<div>\n<style scoped>\n    .dataframe tbody tr th:only-of-type {\n        vertical-align: middle;\n    }\n\n    .dataframe tbody tr th {\n        vertical-align: top;\n    }\n\n    .dataframe thead th {\n        text-align: right;\n    }\n</style>\n<table border=\"1\" class=\"dataframe\">\n  <thead>\n    <tr style=\"text-align: right;\">\n      <th></th>\n      <th>Alder</th>\n      <th>Antal</th>\n    </tr>\n  </thead>\n  <tbody>\n    <tr>\n      <th>0</th>\n      <td>0</td>\n      <td>61191</td>\n    </tr>\n    <tr>\n      <th>1</th>\n      <td>1</td>\n      <td>61663</td>\n    </tr>\n    <tr>\n      <th>2</th>\n      <td>2</td>\n      <td>61967</td>\n    </tr>\n    <tr>\n      <th>3</th>\n      <td>3</td>\n      <td>62185</td>\n    </tr>\n    <tr>\n      <th>4</th>\n      <td>4</td>\n      <td>62844</td>\n    </tr>\n    <tr>\n      <th>5</th>\n      <td>5</td>\n      <td>59740</td>\n    </tr>\n    <tr>\n      <th>6</th>\n      <td>6</td>\n      <td>59064</td>\n    </tr>\n    <tr>\n      <th>7</th>\n      <td>7</td>\n      <td>58551</td>\n    </tr>\n    <tr>\n      <th>8</th>\n      <td>8</td>\n      <td>60898</td>\n    </tr>\n    <tr>\n      <th>9</th>\n      <td>9</td>\n      <td>62107</td>\n    </tr>\n    <tr>\n      <th>10</th>\n      <td>10</td>\n      <td>66696</td>\n    </tr>\n    <tr>\n      <th>11</th>\n      <td>11</td>\n      <td>66428</td>\n    </tr>\n    <tr>\n      <th>12</th>\n      <td>12</td>\n      <td>68834</td>\n    </tr>\n    <tr>\n      <th>13</th>\n      <td>13</td>\n      <td>67896</td>\n    </tr>\n    <tr>\n      <th>14</th>\n      <td>14</td>\n      <td>68720</td>\n    </tr>\n    <tr>\n      <th>15</th>\n      <td>15</td>\n      <td>67877</td>\n    </tr>\n    <tr>\n      <th>16</th>\n      <td>16</td>\n      <td>68246</td>\n    </tr>\n    <tr>\n      <th>17</th>\n      <td>17</td>\n      <td>68088</td>\n    </tr>\n    <tr>\n      <th>18</th>\n      <td>18</td>\n      <td>67674</td>\n    </tr>\n    <tr>\n      <th>19</th>\n      <td>19</td>\n      <td>69581</td>\n    </tr>\n    <tr>\n      <th>20</th>\n      <td>20</td>\n      <td>72666</td>\n    </tr>\n    <tr>\n      <th>21</th>\n      <td>21</td>\n      <td>72840</td>\n    </tr>\n    <tr>\n      <th>22</th>\n      <td>22</td>\n      <td>74517</td>\n    </tr>\n    <tr>\n      <th>23</th>\n      <td>23</td>\n      <td>77321</td>\n    </tr>\n    <tr>\n      <th>24</th>\n      <td>24</td>\n      <td>78560</td>\n    </tr>\n    <tr>\n      <th>25</th>\n      <td>25</td>\n      <td>81455</td>\n    </tr>\n    <tr>\n      <th>26</th>\n      <td>26</td>\n      <td>82285</td>\n    </tr>\n    <tr>\n      <th>27</th>\n      <td>27</td>\n      <td>79907</td>\n    </tr>\n    <tr>\n      <th>28</th>\n      <td>28</td>\n      <td>80915</td>\n    </tr>\n    <tr>\n      <th>29</th>\n      <td>29</td>\n      <td>78274</td>\n    </tr>\n    <tr>\n      <th>30</th>\n      <td>30</td>\n      <td>78313</td>\n    </tr>\n    <tr>\n      <th>31</th>\n      <td>31</td>\n      <td>76025</td>\n    </tr>\n    <tr>\n      <th>32</th>\n      <td>32</td>\n      <td>73727</td>\n    </tr>\n    <tr>\n      <th>33</th>\n      <td>33</td>\n      <td>70658</td>\n    </tr>\n    <tr>\n      <th>34</th>\n      <td>34</td>\n      <td>69744</td>\n    </tr>\n    <tr>\n      <th>35</th>\n      <td>35</td>\n      <td>68085</td>\n    </tr>\n    <tr>\n      <th>36</th>\n      <td>36</td>\n      <td>65547</td>\n    </tr>\n    <tr>\n      <th>37</th>\n      <td>37</td>\n      <td>64162</td>\n    </tr>\n    <tr>\n      <th>38</th>\n      <td>38</td>\n      <td>65456</td>\n    </tr>\n    <tr>\n      <th>39</th>\n      <td>39</td>\n      <td>64962</td>\n    </tr>\n    <tr>\n      <th>40</th>\n      <td>40</td>\n      <td>68557</td>\n    </tr>\n    <tr>\n      <th>41</th>\n      <td>41</td>\n      <td>69601</td>\n    </tr>\n    <tr>\n      <th>42</th>\n      <td>42</td>\n      <td>71377</td>\n    </tr>\n    <tr>\n      <th>43</th>\n      <td>43</td>\n      <td>70813</td>\n    </tr>\n    <tr>\n      <th>44</th>\n      <td>44</td>\n      <td>73472</td>\n    </tr>\n    <tr>\n      <th>45</th>\n      <td>45</td>\n      <td>79216</td>\n    </tr>\n    <tr>\n      <th>46</th>\n      <td>46</td>\n      <td>77980</td>\n    </tr>\n    <tr>\n      <th>47</th>\n      <td>47</td>\n      <td>77444</td>\n    </tr>\n    <tr>\n      <th>48</th>\n      <td>48</td>\n      <td>80822</td>\n    </tr>\n    <tr>\n      <th>49</th>\n      <td>49</td>\n      <td>79542</td>\n    </tr>\n    <tr>\n      <th>50</th>\n      <td>50</td>\n      <td>76109</td>\n    </tr>\n    <tr>\n      <th>51</th>\n      <td>51</td>\n      <td>75552</td>\n    </tr>\n    <tr>\n      <th>52</th>\n      <td>52</td>\n      <td>78124</td>\n    </tr>\n    <tr>\n      <th>53</th>\n      <td>53</td>\n      <td>83153</td>\n    </tr>\n    <tr>\n      <th>54</th>\n      <td>54</td>\n      <td>88708</td>\n    </tr>\n    <tr>\n      <th>55</th>\n      <td>55</td>\n      <td>85600</td>\n    </tr>\n    <tr>\n      <th>56</th>\n      <td>56</td>\n      <td>83160</td>\n    </tr>\n    <tr>\n      <th>57</th>\n      <td>57</td>\n      <td>81013</td>\n    </tr>\n    <tr>\n      <th>58</th>\n      <td>58</td>\n      <td>76105</td>\n    </tr>\n    <tr>\n      <th>59</th>\n      <td>59</td>\n      <td>73642</td>\n    </tr>\n    <tr>\n      <th>60</th>\n      <td>60</td>\n      <td>72965</td>\n    </tr>\n    <tr>\n      <th>61</th>\n      <td>61</td>\n      <td>69498</td>\n    </tr>\n    <tr>\n      <th>62</th>\n      <td>62</td>\n      <td>69353</td>\n    </tr>\n    <tr>\n      <th>63</th>\n      <td>63</td>\n      <td>68219</td>\n    </tr>\n    <tr>\n      <th>64</th>\n      <td>64</td>\n      <td>68079</td>\n    </tr>\n    <tr>\n      <th>65</th>\n      <td>65</td>\n      <td>66442</td>\n    </tr>\n    <tr>\n      <th>66</th>\n      <td>66</td>\n      <td>64490</td>\n    </tr>\n    <tr>\n      <th>67</th>\n      <td>67</td>\n      <td>64797</td>\n    </tr>\n    <tr>\n      <th>68</th>\n      <td>68</td>\n      <td>62791</td>\n    </tr>\n    <tr>\n      <th>69</th>\n      <td>69</td>\n      <td>60949</td>\n    </tr>\n    <tr>\n      <th>70</th>\n      <td>70</td>\n      <td>61963</td>\n    </tr>\n    <tr>\n      <th>71</th>\n      <td>71</td>\n      <td>60762</td>\n    </tr>\n    <tr>\n      <th>72</th>\n      <td>72</td>\n      <td>63024</td>\n    </tr>\n    <tr>\n      <th>73</th>\n      <td>73</td>\n      <td>65776</td>\n    </tr>\n    <tr>\n      <th>74</th>\n      <td>74</td>\n      <td>66246</td>\n    </tr>\n    <tr>\n      <th>75</th>\n      <td>75</td>\n      <td>62193</td>\n    </tr>\n    <tr>\n      <th>76</th>\n      <td>76</td>\n      <td>57095</td>\n    </tr>\n    <tr>\n      <th>77</th>\n      <td>77</td>\n      <td>51146</td>\n    </tr>\n    <tr>\n      <th>78</th>\n      <td>78</td>\n      <td>46603</td>\n    </tr>\n    <tr>\n      <th>79</th>\n      <td>79</td>\n      <td>39889</td>\n    </tr>\n    <tr>\n      <th>80</th>\n      <td>80</td>\n      <td>37008</td>\n    </tr>\n    <tr>\n      <th>81</th>\n      <td>81</td>\n      <td>33551</td>\n    </tr>\n    <tr>\n      <th>82</th>\n      <td>82</td>\n      <td>31267</td>\n    </tr>\n    <tr>\n      <th>83</th>\n      <td>83</td>\n      <td>28176</td>\n    </tr>\n    <tr>\n      <th>84</th>\n      <td>84</td>\n      <td>24708</td>\n    </tr>\n    <tr>\n      <th>85</th>\n      <td>85</td>\n      <td>21349</td>\n    </tr>\n    <tr>\n      <th>86</th>\n      <td>86</td>\n      <td>18866</td>\n    </tr>\n    <tr>\n      <th>87</th>\n      <td>87</td>\n      <td>16096</td>\n    </tr>\n    <tr>\n      <th>88</th>\n      <td>88</td>\n      <td>13885</td>\n    </tr>\n    <tr>\n      <th>89</th>\n      <td>89</td>\n      <td>11742</td>\n    </tr>\n    <tr>\n      <th>90</th>\n      <td>90</td>\n      <td>9971</td>\n    </tr>\n    <tr>\n      <th>91</th>\n      <td>91</td>\n      <td>8144</td>\n    </tr>\n    <tr>\n      <th>92</th>\n      <td>92</td>\n      <td>6919</td>\n    </tr>\n    <tr>\n      <th>93</th>\n      <td>93</td>\n      <td>5392</td>\n    </tr>\n    <tr>\n      <th>94</th>\n      <td>94</td>\n      <td>4405</td>\n    </tr>\n    <tr>\n      <th>95</th>\n      <td>95</td>\n      <td>3309</td>\n    </tr>\n    <tr>\n      <th>96</th>\n      <td>96</td>\n      <td>2480</td>\n    </tr>\n    <tr>\n      <th>97</th>\n      <td>97</td>\n      <td>1730</td>\n    </tr>\n    <tr>\n      <th>98</th>\n      <td>98</td>\n      <td>1101</td>\n    </tr>\n    <tr>\n      <th>99</th>\n      <td>99</td>\n      <td>806</td>\n    </tr>\n    <tr>\n      <th>100</th>\n      <td>100</td>\n      <td>531</td>\n    </tr>\n    <tr>\n      <th>101</th>\n      <td>101</td>\n      <td>298</td>\n    </tr>\n    <tr>\n      <th>102</th>\n      <td>102</td>\n      <td>173</td>\n    </tr>\n    <tr>\n      <th>103</th>\n      <td>103</td>\n      <td>81</td>\n    </tr>\n    <tr>\n      <th>104</th>\n      <td>104</td>\n      <td>64</td>\n    </tr>\n    <tr>\n      <th>105</th>\n      <td>105</td>\n      <td>27</td>\n    </tr>\n    <tr>\n      <th>106</th>\n      <td>106</td>\n      <td>14</td>\n    </tr>\n    <tr>\n      <th>107</th>\n      <td>107</td>\n      <td>8</td>\n    </tr>\n    <tr>\n      <th>108</th>\n      <td>108</td>\n      <td>4</td>\n    </tr>\n    <tr>\n      <th>109</th>\n      <td>109</td>\n      <td>0</td>\n    </tr>\n    <tr>\n      <th>110</th>\n      <td>110</td>\n      <td>1</td>\n    </tr>\n  </tbody>\n</table>\n</div>"
     },
     "metadata": {},
     "execution_count": 147
    }
   ],
   "source": []
  }
 ]
}