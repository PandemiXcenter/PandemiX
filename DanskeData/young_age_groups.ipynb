{
 "cells": [
  {
   "cell_type": "code",
   "execution_count": 24,
   "source": [
    "# Main notebook for playing around looking at different things in data\r\n",
    "import numpy as np\r\n",
    "import pandas as pd\r\n",
    "pd.set_option('display.max_rows', 500)\r\n",
    "pd.set_option('display.min_rows', 50)\r\n",
    "import seaborn as sns\r\n",
    "\r\n",
    "\r\n",
    "import matplotlib.pyplot as plt\r\n",
    "%matplotlib widget\r\n",
    "plt.rcParams['figure.figsize'] = (12,8)\r\n",
    "# plt.rcParams[\"image.cmap\"] = \"Dark2\"\r\n",
    "# plt.rcParams['axes.prop_cycle'] = plt.cycler(color=plt.cm.Dark2.colors)\r\n",
    "plt.rcParams[\"image.cmap\"] = \"tab10\"\r\n",
    "plt.rcParams['axes.prop_cycle'] = plt.cycler(color=plt.cm.tab10.colors)\r\n",
    "plt.rcParams['lines.markersize'] = 10\r\n",
    "plt.rcParams['lines.linewidth'] = 3\r\n",
    "%matplotlib widget\r\n",
    "# plt.style.use('ggplot')\r\n",
    "import matplotlib.colors as colors\r\n",
    "# cmap = plt.cm.get_cmap('Dark2',len(ageGroups))\r\n",
    "from matplotlib import cm # Colormaps\r\n",
    "\r\n",
    "import locale\r\n",
    "import matplotlib.dates as mdates\r\n",
    "locale.setlocale(locale.LC_TIME,\"Danish\")\r\n",
    "# ax = plt.gca()\r\n",
    "# ax1.xaxis.set_major_formatter(mdates.DateFormatter('%b\\n%Y'))\r\n",
    "# # ax.xaxis.set_major_formatter(mdates.DateFormatter('%Y \\n %B'))\r\n",
    "\r\n",
    "import os\r\n",
    "# import csv\r\n",
    "import math\r\n",
    "\r\n",
    "\r\n",
    "from datetime import date\r\n",
    "\r\n",
    "\r\n",
    "saveFigures = True\r\n",
    "# saveFigures = False\r\n",
    "print('saveFigures is set to: '+str(saveFigures))\r\n",
    "\r\n",
    "print('Done loading packages')\r\n",
    "\r\n",
    "def rnMean(data,meanWidth):\r\n",
    "    return np.convolve(data, np.ones(meanWidth)/meanWidth, mode='valid')\r\n",
    "def rnTime(t,meanWidth):\r\n",
    "    return t[math.floor(meanWidth/2):-math.ceil(meanWidth/2)+1]\r\n"
   ],
   "outputs": [
    {
     "output_type": "stream",
     "name": "stdout",
     "text": [
      "saveFigures is set to: True\n",
      "Done loading packages\n"
     ]
    }
   ],
   "metadata": {}
  },
  {
   "cell_type": "code",
   "execution_count": 25,
   "source": [
    "ssidatapath = \"ssi_data\"\r\n",
    "rootdir = os.getcwd() +\"/\" + ssidatapath"
   ],
   "outputs": [],
   "metadata": {}
  },
  {
   "cell_type": "code",
   "execution_count": 26,
   "source": [
    "dfAdm = pd.read_excel('Admitted\\Admitted.xlsx')\r\n",
    "dfAdm = dfAdm.transpose()\r\n",
    "dfAdm.columns = dfAdm.iloc[0]\r\n",
    "dfAdm = dfAdm.drop(['Aldersgruppe']) \r\n",
    "curDates =  pd.to_datetime(dfAdm.index,format='%d_%m_%Y')"
   ],
   "outputs": [],
   "metadata": {}
  },
  {
   "cell_type": "code",
   "execution_count": 27,
   "source": [
    "dfAdmDiff = dfAdm.diff().iloc[1:]\r\n",
    "plotDates = curDates[1:]"
   ],
   "outputs": [],
   "metadata": {}
  },
  {
   "cell_type": "code",
   "execution_count": 28,
   "source": [
    "fig,ax1 = plt.subplots(1,1,sharex=True)\r\n",
    "\r\n",
    "# ax1.plot(plotDates,dfAdmDiff['0-9'])\r\n",
    "# ax1.plot(plotDates,dfAdmDiff['10-19'])\r\n",
    "ax1.plot(plotDates,dfAdmDiff['0-9']+dfAdmDiff['10-19'],label='0-19')\r\n",
    "ax1.plot(plotDates,dfAdmDiff['20-29'],label='20-29')\r\n",
    "ax1.plot(plotDates,dfAdmDiff['30-39'],label='30-39')\r\n",
    "ax1.plot(plotDates,dfAdmDiff['40-49'],label='40-49')\r\n",
    "\r\n",
    "ax1.set_ylim(bottom=0)\r\n",
    "ax1.set_xlim([plotDates[0],plotDates[-1]])\r\n",
    "\r\n",
    "ax1.grid()\r\n",
    "ax1.legend()\r\n",
    "ax1.xaxis.set_major_formatter(mdates.DateFormatter('%b\\n%Y'))\r\n",
    "\r\n",
    "plt.tight_layout()"
   ],
   "outputs": [
    {
     "output_type": "display_data",
     "data": {
      "application/vnd.jupyter.widget-view+json": {
       "version_major": 2,
       "version_minor": 0,
       "model_id": "a4eeca526d1445fd8c96e340f0d340e2"
      },
      "text/plain": [
       "Canvas(toolbar=Toolbar(toolitems=[('Home', 'Reset original view', 'home', 'home'), ('Back', 'Back to previous …"
      ]
     },
     "metadata": {}
    }
   ],
   "metadata": {}
  },
  {
   "cell_type": "code",
   "execution_count": 29,
   "source": [
    "dfCase = pd.DataFrame(columns=dfAdm.columns)\r\n",
    "dfTest = pd.DataFrame(columns=dfAdm.columns)\r\n",
    "dfPosP = pd.DataFrame(columns=dfAdm.columns)"
   ],
   "outputs": [],
   "metadata": {}
  },
  {
   "cell_type": "code",
   "execution_count": 30,
   "source": [
    "# Collect the cases, tests and positive percentage from all the \"cases by age\" files\r\n",
    "\r\n",
    "ssidatapath = \"ssi_data\"\r\n",
    "rootdir = os.getcwd() +\"/\" + ssidatapath\r\n",
    "\r\n",
    "for subdir, dirs, files in os.walk(rootdir):\r\n",
    "    if not len(files) == 0:\r\n",
    "        latestdir = subdir\r\n",
    "        latestDate = pd.to_datetime(subdir[-10:])\r\n",
    "        curdf = pd.read_csv(latestdir+'/Cases_by_age.csv',delimiter = ';',dtype=str)\r\n",
    "        \r\n",
    "        curdf['Antal_bekræftede_COVID-19'] = pd.to_numeric(curdf['Antal_bekræftede_COVID-19'].astype(str).apply(lambda x: x.replace('.','')))\r\n",
    "        curdf['Antal_testede'] = pd.to_numeric(curdf['Antal_testede'].astype(str).apply(lambda x: x.replace('.','')))\r\n",
    "        curdf['Procent_positive'] = pd.to_numeric(curdf['Procent_positive'].astype(str).apply(lambda x: x.replace(',','.')))\r\n",
    "        \r\n",
    "        \r\n",
    "        dfCase.loc[latestDate] = curdf['Antal_bekræftede_COVID-19'].values\r\n",
    "        dfTest.loc[latestDate] = curdf['Antal_testede'].values\r\n",
    "        dfPosP.loc[latestDate] = curdf['Procent_positive'].values\r\n",
    "\r\n",
    "allDates = dfCase.index"
   ],
   "outputs": [],
   "metadata": {}
  },
  {
   "cell_type": "code",
   "execution_count": 31,
   "source": [
    "dfCaseDiff = dfCase.diff().iloc[1:]\r\n",
    "dfTestDiff = dfTest.diff().iloc[1:]\r\n",
    "dfPosPDiff = dfPosP.diff().iloc[1:]\r\n",
    "plotDatesCase = allDates[1:]\r\n",
    "print(f'Last date is: {plotDatesCase[-1]}')"
   ],
   "outputs": [
    {
     "output_type": "stream",
     "name": "stdout",
     "text": [
      "Last date is: 2021-10-05 00:00:00\n"
     ]
    }
   ],
   "metadata": {}
  },
  {
   "cell_type": "code",
   "execution_count": 32,
   "source": [
    "fig,ax1 = plt.subplots(1,1)\r\n",
    "\r\n",
    "howManyToUse = len(dfCaseDiff.columns)-4\r\n",
    "cmap = plt.cm.get_cmap('Dark2',howManyToUse)\r\n",
    "for k in range(0,howManyToUse):\r\n",
    "    curColName = dfCaseDiff.columns[k]\r\n",
    "    ax1.plot(plotDatesCase,dfCaseDiff[curColName],'.-',linewidth=0.4,label=curColName,color=cmap(k))\r\n",
    "    # meanWidth = 7\r\n",
    "    # ax1.plot(rnTime(plotDatesCase,meanWidth),rnMean(dfCaseDiff[curColName],meanWidth),label=curColName,color=cmap(k))\r\n",
    "\r\n",
    "ax1.legend()\r\n",
    "\r\n",
    "ax1.set_ylim(bottom=0,top=1200)\r\n",
    "# ax1.set_xlim([np.datetime64('2021-03-01'),np.datetime64('2021-05-05')])\r\n",
    "ax1.set_xlim([np.datetime64('2021-03-01'),np.datetime64(date.today())])\r\n",
    "\r\n",
    "plt.tight_layout()\r\n",
    "\r\n",
    "# ax1.plot(plotDatesCase,dfCaseDiff['0-9'])\r\n",
    "# ax1.plot(plotDatesCase,dfCaseDiff['10-19'])\r\n",
    "# ax1.plot(plotDatesCase,dfCaseDiff['20-29'])\r\n",
    "# ax1.plot(plotDatesCase,dfCaseDiff['30-39'])"
   ],
   "outputs": [
    {
     "output_type": "display_data",
     "data": {
      "application/vnd.jupyter.widget-view+json": {
       "version_major": 2,
       "version_minor": 0,
       "model_id": "0a41ab630ff7476db4c3364995fae602"
      },
      "text/plain": [
       "Canvas(toolbar=Toolbar(toolitems=[('Home', 'Reset original view', 'home', 'home'), ('Back', 'Back to previous …"
      ]
     },
     "metadata": {}
    }
   ],
   "metadata": {}
  },
  {
   "cell_type": "code",
   "execution_count": 33,
   "source": [
    "# dfCaseDiff\r\n",
    "\r\n",
    "curIndex = dfCaseDiff.index.values.astype('datetime64[D]')\r\n",
    "dayDiff = curIndex[1:] - curIndex[:-1]\r\n"
   ],
   "outputs": [],
   "metadata": {}
  },
  {
   "cell_type": "code",
   "execution_count": 34,
   "source": [
    "fig,ax1 = plt.subplots(1,1)\r\n",
    "# fig,(ax1,ax2) = plt.subplots(2,1,sharex=True)\r\n",
    "# for k in range(4,len(dayDiff)):\r\n",
    "for k in range(0,len(dfCaseDiff)):\r\n",
    "\r\n",
    "    \r\n",
    "    # ax1.bar(curIndex[k]-dayDiff[k-1],dfCaseDiff['20-29'].iloc[k],width=dayDiff[k-1])\r\n",
    "    curWidth = dayDiff[k-1]\r\n",
    "    numDaysWidth = curWidth/np.timedelta64(1,'D')\r\n",
    "\r\n",
    "    # Since half days aren't possible, convert to an \"hours\" timedelta64\r\n",
    "    toMove = np.timedelta64(int(24*(numDaysWidth)/2),'h')\r\n",
    "\r\n",
    "    curHeight = (dfCaseDiff['20-29'].iloc[k])/numDaysWidth\r\n",
    "    # curHeight = (dfCaseDiff['30-39'].iloc[k])/numDaysWidth\r\n",
    "    \r\n",
    "    \r\n",
    "    # ax1.bar(curIndex[k]+np.timedelta64(1,'D'),dfCaseDiff['20-29'].iloc[k],width=dayDiff[k-1])\r\n",
    "    # ax1.bar(curIndex[k]-toMove,dfCaseDiff['20-29'].iloc[k],width=dayDiff[k-1])\r\n",
    "    ax1.bar(curIndex[k]-toMove,curHeight,width=dayDiff[k-1],color='grey',edgecolor='k')\r\n",
    "    \r\n",
    "    # ax2.plot(curIndex[k],curHeight,'k*-')\r\n",
    "    # ax2.plot(curIndex[k],dfCaseDiff['20-29'].iloc[k],'r.-')\r\n",
    "    # ax1.plot(curIndex[k],dfCaseDiff['20-29'].iloc[k],'*')\r\n",
    "    # ax2.plot(curIndex[k],dayDiff[k-1],'*')\r\n",
    "\r\n",
    "ax1.set_xlim([np.datetime64('2020-11-01'),np.datetime64(date.today())])\r\n",
    "ax1.set_ylim(bottom=0)\r\n",
    "# ax1.set_ylim(top=300) \r\n",
    "# ax2.set_ylim(bottom=0)\r\n",
    "# ax2.set_ylim(top=1000)"
   ],
   "outputs": [
    {
     "output_type": "display_data",
     "data": {
      "application/vnd.jupyter.widget-view+json": {
       "version_major": 2,
       "version_minor": 0,
       "model_id": "132eee4e25b44116912cae16d234b5d1"
      },
      "text/plain": [
       "Canvas(toolbar=Toolbar(toolitems=[('Home', 'Reset original view', 'home', 'home'), ('Back', 'Back to previous …"
      ]
     },
     "metadata": {}
    },
    {
     "output_type": "execute_result",
     "data": {
      "text/plain": [
       "(0.0, 1025.6)"
      ]
     },
     "metadata": {},
     "execution_count": 34
    }
   ],
   "metadata": {}
  },
  {
   "cell_type": "code",
   "execution_count": 35,
   "source": [
    "# dfCaseDiff.tail()\r\n",
    "\r\n",
    "# plt.plot(allDays,allData,'.-')"
   ],
   "outputs": [],
   "metadata": {}
  },
  {
   "cell_type": "code",
   "execution_count": 36,
   "source": [
    "# Make a daily dataframe\r\n",
    "dfCaseFull = pd.DataFrame()\r\n",
    "for curCol in dfCaseDiff.columns:\r\n",
    "    allDays = []\r\n",
    "    allData = []\r\n",
    "    for k in range(0,len(dfCaseDiff)):\r\n",
    "\r\n",
    "        \r\n",
    "        curWidth = dayDiff[k-1]\r\n",
    "        numDaysWidth = int(curWidth/np.timedelta64(1,'D'))\r\n",
    "        \r\n",
    "        # curHeight = (dfCaseDiff['20-29'].iloc[k])/numDaysWidth\r\n",
    "        curHeight = (dfCaseDiff[curCol].iloc[k])/numDaysWidth\r\n",
    "\r\n",
    "        curDay = curIndex[k]\r\n",
    "        # print('----------')\r\n",
    "        # print(curDay)\r\n",
    "        # print(numDaysWidth)\r\n",
    "\r\n",
    "        # for d in range(0,numDaysWidth):\r\n",
    "        for d in range(numDaysWidth-1,-1,-1):\r\n",
    "            dayToAdd = curDay - np.timedelta64(d,'D')\r\n",
    "            # print(dayToAdd)\r\n",
    "            allDays.append(dayToAdd)\r\n",
    "            allData.append(curHeight)\r\n",
    "\r\n",
    "    dfCaseFull['Dato']  = allDays\r\n",
    "    # dfCaseFull['20-29'] = allData\r\n",
    "    dfCaseFull[curCol] = allData\r\n"
   ],
   "outputs": [],
   "metadata": {}
  },
  {
   "cell_type": "code",
   "execution_count": 37,
   "source": [
    "# plt.figure()\r\n",
    "# plt.plot(allDays,allData,'.-')\r\n",
    "# plt.show()\r\n",
    "dfCaseFull.tail()\r\n",
    "# dfCaseDiff.columns\r\n",
    "dfCaseFull.to_csv('DailyCasesAveraged.csv')"
   ],
   "outputs": [],
   "metadata": {}
  },
  {
   "cell_type": "code",
   "execution_count": 38,
   "source": [
    "colNames = dfCaseFull.columns[1:-1]\r\n",
    "# numToShow = len(dfCaseFull.columns)-1\r\n",
    "numToShow = len(dfCaseFull.columns)-2\r\n",
    "fig,allAxes = plt.subplots(numToShow,1,sharex=True,figsize=(12,20))\r\n",
    "\r\n",
    "meanWidth = 7\r\n",
    "\r\n",
    "\r\n",
    "# allAxes[0].plot(dfCaseFull.Dato,dfCaseFull['0-9'],'.-')\r\n",
    "# allAxes[0].plot(rnTime(dfCaseFull.Dato,meanWidth),rnMean(dfCaseFull['0-9'],meanWidth))\r\n",
    "# allAxes[1].plot(dfCaseFull.Dato,dfCaseFull['10-19'],'.-')\r\n",
    "# allAxes[1].plot(rnTime(dfCaseFull.Dato,meanWidth),rnMean(dfCaseFull['10-19'],meanWidth))\r\n",
    "\r\n",
    "firstDate = np.datetime64('2021-05-01')\r\n",
    "firstDateIndex = np.where(dfCaseFull.Dato == firstDate)[0][0]\r\n",
    "\r\n",
    "\r\n",
    "\r\n",
    "# for ax in allAxes:\r\n",
    "for k in range(0,numToShow):\r\n",
    "    ax = allAxes[k]\r\n",
    "    \r\n",
    "    # ax.plot(dfCaseFull.Dato,dfCaseFull[colNames[k]],'.-')\r\n",
    "    # ax.plot(rnTime(dfCaseFull.Dato,meanWidth),rnMean(dfCaseFull[colNames[k]],meanWidth)) \r\n",
    "\r\n",
    "    ax.plot(dfCaseFull.Dato.iloc[firstDateIndex:],dfCaseFull[colNames[k]].iloc[firstDateIndex:],'k.:',markersize=3,linewidth=0.5)\r\n",
    "    ax.plot(rnTime(dfCaseFull.Dato.iloc[firstDateIndex:],meanWidth),rnMean(dfCaseFull[colNames[k]].iloc[firstDateIndex:],meanWidth),'k') \r\n",
    "\r\n",
    "    ax.set_title(colNames[k])\r\n",
    "\r\n",
    "    ax.set_ylim(bottom=0)\r\n",
    "    ax.grid()\r\n",
    "\r\n",
    "# allAxes[0].set_xlim(left=np.datetime64('2020-11-01'))\r\n",
    "allAxes[0].set_xlim(left=firstDate)\r\n",
    "\r\n",
    "plt.tight_layout()\r\n",
    "\r\n",
    "if saveFigures:\r\n",
    "    plt.savefig('figs/CasesPerDay_AllAges')"
   ],
   "outputs": [
    {
     "output_type": "display_data",
     "data": {
      "application/vnd.jupyter.widget-view+json": {
       "version_major": 2,
       "version_minor": 0,
       "model_id": "2a46b99b69ad4fabaa4df275506bc132"
      },
      "text/plain": [
       "Canvas(toolbar=Toolbar(toolitems=[('Home', 'Reset original view', 'home', 'home'), ('Back', 'Back to previous …"
      ]
     },
     "metadata": {}
    }
   ],
   "metadata": {}
  },
  {
   "cell_type": "code",
   "execution_count": 39,
   "source": [
    "colNames = dfCaseFull.columns[1:-1]\r\n",
    "# numToShow = len(dfCaseFull.columns)-1\r\n",
    "numToShow = len(dfCaseFull.columns)-2\r\n",
    "fig,allAxes = plt.subplots(numToShow,1,sharex=True,figsize=(12,20))\r\n",
    "\r\n",
    "meanWidth = 7\r\n",
    "\r\n",
    "\r\n",
    "# allAxes[0].plot(dfCaseFull.Dato,dfCaseFull['0-9'],'.-')\r\n",
    "# allAxes[0].plot(rnTime(dfCaseFull.Dato,meanWidth),rnMean(dfCaseFull['0-9'],meanWidth))\r\n",
    "# allAxes[1].plot(dfCaseFull.Dato,dfCaseFull['10-19'],'.-')\r\n",
    "# allAxes[1].plot(rnTime(dfCaseFull.Dato,meanWidth),rnMean(dfCaseFull['10-19'],meanWidth))\r\n",
    "\r\n",
    "firstDate = np.datetime64('2021-04-01')\r\n",
    "firstDateIndex = np.where(dfCaseFull.Dato == firstDate)[0][0]\r\n",
    "\r\n",
    "\r\n",
    "\r\n",
    "# for ax in allAxes:\r\n",
    "for k in range(0,numToShow):\r\n",
    "    ax = allAxes[k]\r\n",
    "    \r\n",
    "    # ax.plot(dfCaseFull.Dato,dfCaseFull[colNames[k]],'.-')\r\n",
    "    # ax.plot(rnTime(dfCaseFull.Dato,meanWidth),rnMean(dfCaseFull[colNames[k]],meanWidth)) \r\n",
    "\r\n",
    "    ax.plot(dfCaseFull.Dato.iloc[firstDateIndex:],dfCaseFull[colNames[k]].iloc[firstDateIndex:],'k.:',markersize=3,linewidth=0.5)\r\n",
    "    ax.plot(rnTime(dfCaseFull.Dato.iloc[firstDateIndex:],meanWidth),rnMean(dfCaseFull[colNames[k]].iloc[firstDateIndex:],meanWidth),'k') \r\n",
    "\r\n",
    "    ax.set_title(colNames[k])\r\n",
    "\r\n",
    "    ax.set_ylim(bottom=0)\r\n",
    "    ax.grid()\r\n",
    "\r\n",
    "# allAxes[0].set_xlim(left=np.datetime64('2020-11-01'))\r\n",
    "allAxes[0].set_xlim(left=firstDate)\r\n",
    "\r\n",
    "plt.tight_layout()\r\n",
    "\r\n",
    "if saveFigures:\r\n",
    "    plt.savefig('figs/CasesPerDay_AllAges_Zoom')"
   ],
   "outputs": [
    {
     "output_type": "display_data",
     "data": {
      "application/vnd.jupyter.widget-view+json": {
       "version_major": 2,
       "version_minor": 0,
       "model_id": "f6456a355e494d26afa0e22c24fd992f"
      },
      "text/plain": [
       "Canvas(toolbar=Toolbar(toolitems=[('Home', 'Reset original view', 'home', 'home'), ('Back', 'Back to previous …"
      ]
     },
     "metadata": {}
    }
   ],
   "metadata": {}
  },
  {
   "cell_type": "code",
   "execution_count": 40,
   "source": [
    "# Calculate the populations counts\r\n",
    "dfPop = pd.read_excel('DKfolketal2021clean.xlsx') \r\n",
    "\r\n",
    "size1 = dfPop[0:20].Antal.sum()\r\n",
    "size2 = dfPop[20:40].Antal.sum()\r\n",
    "size3 = dfPop[40:70].Antal.sum()\r\n",
    "size4 = dfPop[70:].Antal.sum()\r\n",
    "\r\n",
    "sizes = [size1,size2,size3,size4]\r\n",
    "\r\n",
    "fullPop = dfPop.Antal.sum()"
   ],
   "outputs": [],
   "metadata": {}
  },
  {
   "cell_type": "code",
   "execution_count": 41,
   "source": [
    "\r\n",
    "# colNames = dfCaseFull.columns[1:-1]\r\n",
    "# numToShow = len(dfCaseFull.columns)-1\r\n",
    "# numToShow = len(dfCaseFull.columns)-2\r\n",
    "\r\n",
    "group4 = dfCaseFull['90+']+dfCaseFull['80-89']+dfCaseFull['70-79']\r\n",
    "group3 = dfCaseFull['40-49']+dfCaseFull['50-59']+dfCaseFull['60-69']\r\n",
    "group2 = dfCaseFull['20-29']+dfCaseFull['30-39']\r\n",
    "group1 = dfCaseFull['0-9']+dfCaseFull['10-19']\r\n",
    "\r\n",
    "groupNames = ['0-19','20-39','40-69','70+']\r\n",
    "\r\n",
    "groups = [group1,group2,group3,group4]\r\n",
    "numToShow = len(groups)\r\n",
    "\r\n",
    "# fig,allAxes = plt.subplots(numToShow,1,sharex=True,figsize=(12,20))\r\n",
    "fig,ax1 = plt.subplots(1,1)\r\n",
    "\r\n",
    "meanWidth = 7\r\n",
    "\r\n",
    "\r\n",
    "\r\n",
    "# firstDate = np.datetime64('2021-02-01')\r\n",
    "firstDate = np.datetime64('2020-10-01')\r\n",
    "# firstDate = np.datetime64('2020-06-01')\r\n",
    "# firstDate = dfCaseFull.Dato[0]\r\n",
    "firstDateIndex = np.where(dfCaseFull.Dato == firstDate)[0][0]\r\n",
    "\r\n",
    "curDates = dfCaseFull.Dato.iloc[firstDateIndex:]\r\n",
    "\r\n",
    "\r\n",
    "# for ax in allAxes:\r\n",
    "\r\n",
    "cmap = plt.cm.get_cmap('Dark2',numToShow+1)\r\n",
    "for k in range(0,numToShow):\r\n",
    "\r\n",
    "    curCases = groups[k].iloc[firstDateIndex:]\r\n",
    "    curCasesNorm = np.divide(curCases,sizes[k])\r\n",
    "\r\n",
    "    # ax1.plot(curDates,curCases,'.:',linewidth=0.5,markersize=3,color=cmap(k))\r\n",
    "    # ax1.plot(rnTime(curDates,meanWidth),rnMean(curCases,meanWidth),color=cmap(k),label=groupNames[k]) \r\n",
    "    \r\n",
    "    ax1.plot(curDates,100000 * curCasesNorm,'.:',linewidth=0.5,markersize=3,color=cmap(k))\r\n",
    "    ax1.plot(rnTime(curDates,meanWidth),100000 * rnMean(curCasesNorm,meanWidth),color=cmap(k),label=groupNames[k]) \r\n",
    "    # ax1.plot(rnTime(dfCaseFull.Dato.iloc[firstDateIndex:],meanWidth),np.divide(rnMean(curCases,meanWidth),sizes[k]),color=cmap(k),label=groupNames[k]) \r\n",
    "\r\n",
    "ax1.set_ylim(bottom=0)\r\n",
    "ax1.set_xlim(left=firstDate)\r\n",
    "\r\n",
    "# Draw weekends\r\n",
    "firstSunday = np.datetime64('2020-09-20')\r\n",
    "numWeeks = 70\r\n",
    "# curYlim = ax1.get_ylim()\r\n",
    "# ax1.vlines([np.datetime64('2021-06-24'),np.datetime64('2021-06-25')],curYlim[0],curYlim[1])\r\n",
    "for k in range(0,numWeeks):\r\n",
    "    curSunday = firstSunday + np.timedelta64(7*k,'D')\r\n",
    "    ax1.axvspan(curSunday-np.timedelta64(1,'D')-np.timedelta64(12,'h'),curSunday+np.timedelta64(12,'h'),facecolor='lightgrey')\r\n",
    "\r\n",
    "ax1.axvspan(curSunday-np.timedelta64(1,'D')-np.timedelta64(12,'h'),curSunday+np.timedelta64(12,'h'),facecolor='lightgrey',label='Weekend')\r\n",
    "\r\n",
    "ax1.set_xlim(right=np.datetime64('today')+np.timedelta64(8,'D'))\r\n",
    "\r\n",
    "ax1.set_ylabel('Tilfælde per 100.000')\r\n",
    "\r\n",
    "ax1.xaxis.set_major_formatter(mdates.DateFormatter('%b\\n%Y'))\r\n",
    "\r\n",
    "ax1.grid()\r\n",
    "ax1.legend(loc='upper right')\r\n",
    "plt.tight_layout()\r\n",
    "\r\n",
    "if saveFigures:\r\n",
    "    plt.savefig('figs/CasesPerDay_AgeGroups')\r\n",
    "\r\n",
    "    \r\n",
    "# ax1.set_ylim(top=50)\r\n",
    "# ax1.set_xlim(left=np.datetime64('2021-05'))\r\n",
    "\r\n",
    "# plt.tight_layout()\r\n",
    "\r\n",
    "# if saveFigures:\r\n",
    "#     plt.savefig('figs/CasesPerDay_AgeGroups_zoomNy')"
   ],
   "outputs": [
    {
     "output_type": "display_data",
     "data": {
      "application/vnd.jupyter.widget-view+json": {
       "version_major": 2,
       "version_minor": 0,
       "model_id": "de2ba8587dbe464db5a284b658b1f401"
      },
      "text/plain": [
       "Canvas(toolbar=Toolbar(toolitems=[('Home', 'Reset original view', 'home', 'home'), ('Back', 'Back to previous …"
      ]
     },
     "metadata": {}
    }
   ],
   "metadata": {}
  },
  {
   "cell_type": "code",
   "execution_count": 42,
   "source": [
    "\r\n",
    "# colNames = dfCaseFull.columns[1:-1]\r\n",
    "# numToShow = len(dfCaseFull.columns)-1\r\n",
    "# numToShow = len(dfCaseFull.columns)-2\r\n",
    "\r\n",
    "group4 = dfCaseFull['90+']+dfCaseFull['80-89']+dfCaseFull['70-79']\r\n",
    "group3 = dfCaseFull['40-49']+dfCaseFull['50-59']+dfCaseFull['60-69']\r\n",
    "group2 = dfCaseFull['20-29']+dfCaseFull['30-39']\r\n",
    "group1 = dfCaseFull['0-9']+dfCaseFull['10-19']\r\n",
    "\r\n",
    "groupNames = ['0-19','20-39','40-69','70+']\r\n",
    "\r\n",
    "groups = [group1,group2,group3,group4]\r\n",
    "numToShow = len(groups)\r\n",
    "\r\n",
    "# fig,allAxes = plt.subplots(numToShow,1,sharex=True,figsize=(12,20))\r\n",
    "fig,ax1 = plt.subplots(1,1)\r\n",
    "\r\n",
    "meanWidth = 7\r\n",
    "\r\n",
    "\r\n",
    "\r\n",
    "firstDate = np.datetime64('2021-04-01')\r\n",
    "# firstDate = np.datetime64('2021-05-01')\r\n",
    "# firstDate = np.datetime64('2020-06-01')\r\n",
    "# firstDate = dfCaseFull.Dato[0]\r\n",
    "firstDateIndex = np.where(dfCaseFull.Dato == firstDate)[0][0]\r\n",
    "\r\n",
    "curDates = dfCaseFull.Dato.iloc[firstDateIndex:]\r\n",
    "\r\n",
    "\r\n",
    "# for ax in allAxes:\r\n",
    "\r\n",
    "cmap = plt.cm.get_cmap('Dark2',numToShow+1)\r\n",
    "for k in range(0,numToShow):\r\n",
    "\r\n",
    "    curCases = groups[k].iloc[firstDateIndex:]\r\n",
    "    curCasesNorm = np.divide(curCases,sizes[k])\r\n",
    "\r\n",
    "    # ax1.plot(curDates,curCases,'.:',linewidth=0.5,markersize=3,color=cmap(k))\r\n",
    "    # ax1.plot(rnTime(curDates,meanWidth),rnMean(curCases,meanWidth),color=cmap(k),label=groupNames[k]) \r\n",
    "    \r\n",
    "    ax1.plot(curDates,100000 * curCasesNorm,'.:',linewidth=0.5,markersize=3,color=cmap(k))\r\n",
    "    ax1.plot(rnTime(curDates,meanWidth),100000 * rnMean(curCasesNorm,meanWidth),color=cmap(k),label=groupNames[k]) \r\n",
    "    # ax1.plot(rnTime(dfCaseFull.Dato.iloc[firstDateIndex:],meanWidth),np.divide(rnMean(curCases,meanWidth),sizes[k]),color=cmap(k),label=groupNames[k]) \r\n",
    "\r\n",
    "ax1.set_ylim(bottom=0)\r\n",
    "firstDate = np.datetime64('2021-05-01')\r\n",
    "ax1.set_xlim(left=firstDate)\r\n",
    "\r\n",
    "# Draw weekends\r\n",
    "firstSunday = np.datetime64('2021-01-03')\r\n",
    "numWeeks = 70\r\n",
    "# curYlim = ax1.get_ylim()\r\n",
    "# ax1.vlines([np.datetime64('2021-06-24'),np.datetime64('2021-06-25')],curYlim[0],curYlim[1])\r\n",
    "for k in range(0,numWeeks):\r\n",
    "    curSunday = firstSunday + np.timedelta64(7*k,'D')\r\n",
    "    ax1.axvspan(curSunday-np.timedelta64(1,'D')-np.timedelta64(12,'h'),curSunday+np.timedelta64(12,'h'),facecolor='lightgrey')\r\n",
    "\r\n",
    "ax1.axvspan(curSunday-np.timedelta64(1,'D')-np.timedelta64(12,'h'),curSunday+np.timedelta64(12,'h'),facecolor='lightgrey',label='Weekend')\r\n",
    "\r\n",
    "ax1.set_xlim(right=np.datetime64('today')+np.timedelta64(8,'D'))\r\n",
    "\r\n",
    "ax1.xaxis.set_major_formatter(mdates.DateFormatter('%d\\n%B'))\r\n",
    "\r\n",
    "ax1.set_ylabel('Tilfælde per 100.000')\r\n",
    "\r\n",
    "ax1.grid()\r\n",
    "ax1.legend()\r\n",
    "plt.tight_layout()\r\n",
    "\r\n",
    "if saveFigures:\r\n",
    "    plt.savefig('figs/CasesPerDay_AgeGroups_Zoom')"
   ],
   "outputs": [
    {
     "output_type": "display_data",
     "data": {
      "application/vnd.jupyter.widget-view+json": {
       "version_major": 2,
       "version_minor": 0,
       "model_id": "41d595a71816450e9c13b12cc152b70d"
      },
      "text/plain": [
       "Canvas(toolbar=Toolbar(toolitems=[('Home', 'Reset original view', 'home', 'home'), ('Back', 'Back to previous …"
      ]
     },
     "metadata": {}
    }
   ],
   "metadata": {}
  },
  {
   "cell_type": "code",
   "execution_count": 43,
   "source": [
    "\r\n",
    "# colNames = dfCaseFull.columns[1:-1]\r\n",
    "# numToShow = len(dfCaseFull.columns)-1\r\n",
    "# numToShow = len(dfCaseFull.columns)-2\r\n",
    "\r\n",
    "group4 = dfCaseFull['90+']+dfCaseFull['80-89']+dfCaseFull['70-79']\r\n",
    "group3 = dfCaseFull['40-49']+dfCaseFull['50-59']+dfCaseFull['60-69']\r\n",
    "group2 = dfCaseFull['20-29']+dfCaseFull['30-39']\r\n",
    "group1 = dfCaseFull['0-9']+dfCaseFull['10-19']\r\n",
    "group5 = dfCaseFull['I alt']\r\n",
    "\r\n",
    "groupNames = ['0-19','20-39','40-69','70+']\r\n",
    "\r\n",
    "groups = [group1,group2,group3,group4]\r\n",
    "numToShow = len(groups)\r\n",
    "\r\n",
    "# fig,allAxes = plt.subplots(numToShow,1,sharex=True,figsize=(12,20))\r\n",
    "fig,ax1 = plt.subplots(1,1)\r\n",
    "\r\n",
    "meanWidth = 7\r\n",
    "\r\n",
    "\r\n",
    "\r\n",
    "firstDate = np.datetime64('2021-04-01')\r\n",
    "# firstDate = np.datetime64('2020-10-01')\r\n",
    "firstDateIndex = np.where(dfCaseFull.Dato == firstDate)[0][0]\r\n",
    "\r\n",
    "curDates = dfCaseFull.Dato.iloc[firstDateIndex:]\r\n",
    "\r\n",
    "\r\n",
    "# for ax in allAxes:\r\n",
    "\r\n",
    "cmap = plt.cm.get_cmap('Dark2',numToShow+1)\r\n",
    "for k in range(0,numToShow):\r\n",
    "\r\n",
    "    curCases = groups[k].iloc[firstDateIndex:]\r\n",
    "    curCasesNorm = np.divide(curCases,sizes[k])\r\n",
    "\r\n",
    "    # ax1.plot(curDates,curCases,'.:',linewidth=0.5,markersize=3,color=cmap(k))\r\n",
    "    # ax1.plot(rnTime(curDates,meanWidth),rnMean(curCases,meanWidth),color=cmap(k),label=groupNames[k]) \r\n",
    "    \r\n",
    "    ax1.plot(curDates,100000 * curCasesNorm,'.:',linewidth=0.5,markersize=3,color=cmap(k))\r\n",
    "    ax1.plot(rnTime(curDates,meanWidth),100000 * rnMean(curCasesNorm,meanWidth),color=cmap(k),label=groupNames[k]) \r\n",
    "    # ax1.plot(rnTime(dfCaseFull.Dato.iloc[firstDateIndex:],meanWidth),np.divide(rnMean(curCases,meanWidth),sizes[k]),color=cmap(k),label=groupNames[k]) \r\n",
    "\r\n",
    "# for k in range(0,numToShow):\r\n",
    "\r\n",
    "curCases = group5[firstDateIndex:].values\r\n",
    "curCasesNorm = np.divide(curCases,fullPop)\r\n",
    "\r\n",
    "ax1.plot(curDates,100000 * curCasesNorm,'.:',linewidth=0.5,markersize=3,color='k')\r\n",
    "ax1.plot(rnTime(curDates,meanWidth),100000 * rnMean(curCasesNorm,meanWidth),color='k',label='Alle aldre') \r\n",
    "\r\n",
    "\r\n",
    "ax1.set_ylim(bottom=0)\r\n",
    "# firstDate = np.datetime64('2021-05-01')\r\n",
    "ax1.set_xlim(left=firstDate+np.timedelta64(7,'D'))\r\n",
    "\r\n",
    "# Draw weekends\r\n",
    "firstSunday = np.datetime64('2020-09-20')\r\n",
    "numWeeks = 53\r\n",
    "# curYlim = ax1.get_ylim()\r\n",
    "# ax1.vlines([np.datetime64('2021-06-24'),np.datetime64('2021-06-25')],curYlim[0],curYlim[1])\r\n",
    "for k in range(0,numWeeks):\r\n",
    "    curSunday = firstSunday + np.timedelta64(7*k,'D')\r\n",
    "    ax1.axvspan(curSunday-np.timedelta64(1,'D')-np.timedelta64(12,'h'),curSunday+np.timedelta64(12,'h'),facecolor='lightgrey')\r\n",
    "\r\n",
    "ax1.axvspan(curSunday-np.timedelta64(1,'D')-np.timedelta64(12,'h'),curSunday+np.timedelta64(12,'h'),facecolor='lightgrey',label='Weekend')\r\n",
    "\r\n",
    "ax1.set_xlim(right=np.datetime64('today')+np.timedelta64(8,'D'))\r\n",
    "\r\n",
    "ax1.xaxis.set_major_formatter(mdates.DateFormatter('%d\\n%B'))\r\n",
    "\r\n",
    "ax1.set_ylabel('Tilfælde per 100.000')\r\n",
    "\r\n",
    "ax1.grid()\r\n",
    "ax1.legend()\r\n",
    "plt.tight_layout()\r\n",
    "\r\n",
    "if saveFigures:\r\n",
    "    plt.savefig('figs/CasesPerDay_AgeGroups_AllZoom')"
   ],
   "outputs": [
    {
     "output_type": "display_data",
     "data": {
      "application/vnd.jupyter.widget-view+json": {
       "version_major": 2,
       "version_minor": 0,
       "model_id": "435c6dec46844575a2b48b085431b6c7"
      },
      "text/plain": [
       "Canvas(toolbar=Toolbar(toolitems=[('Home', 'Reset original view', 'home', 'home'), ('Back', 'Back to previous …"
      ]
     },
     "metadata": {}
    }
   ],
   "metadata": {}
  },
  {
   "cell_type": "code",
   "execution_count": 44,
   "source": [
    "\r\n",
    "# Same figures, but with a different grouping\r\n",
    "\r\n",
    "group5 = dfCaseFull['90+']\r\n",
    "group4 = dfCaseFull['80-89']\r\n",
    "group3 = dfCaseFull['70-79']\r\n",
    "group2 = dfCaseFull['40-49']+dfCaseFull['50-59']+dfCaseFull['60-69']\r\n",
    "group1 = dfCaseFull['0-9']+dfCaseFull['10-19']+dfCaseFull['20-29']+dfCaseFull['30-39']\r\n",
    "\r\n",
    "\r\n",
    "groupNames = ['0-39','40-69','70-79','80-89','90+']\r\n",
    "\r\n",
    "groups = [group1,group2,group3,group4,group5]\r\n",
    "numToShow = len(groups)\r\n",
    "\r\n",
    "\r\n",
    "size1 = dfPop[0:40].Antal.sum()\r\n",
    "size2 = dfPop[40:70].Antal.sum()\r\n",
    "size3 = dfPop[70:80].Antal.sum()\r\n",
    "size4 = dfPop[80:90].Antal.sum()\r\n",
    "size5 = dfPop[90:].Antal.sum()\r\n",
    "\r\n",
    "sizes = [size1,size2,size3,size4,size5]\r\n",
    "\r\n",
    "fullPop = dfPop.Antal.sum()\r\n",
    "\r\n",
    "# fig,allAxes = plt.subplots(numToShow,1,sharex=True,figsize=(12,20))\r\n",
    "fig,ax1 = plt.subplots(1,1)\r\n",
    "\r\n",
    "meanWidth = 7\r\n",
    "\r\n",
    "\r\n",
    "\r\n",
    "firstDate = np.datetime64('2021-04-01')\r\n",
    "# firstDate = np.datetime64('2021-05-01')\r\n",
    "# firstDate = np.datetime64('2020-06-01')\r\n",
    "# firstDate = dfCaseFull.Dato[0]\r\n",
    "firstDateIndex = np.where(dfCaseFull.Dato == firstDate)[0][0]\r\n",
    "\r\n",
    "curDates = dfCaseFull.Dato.iloc[firstDateIndex:]\r\n",
    "\r\n",
    "\r\n",
    "# for ax in allAxes:\r\n",
    "\r\n",
    "cmap = plt.cm.get_cmap('Dark2',numToShow+1)\r\n",
    "for k in range(0,numToShow):\r\n",
    "\r\n",
    "    curCases = groups[k].iloc[firstDateIndex:]\r\n",
    "    curCasesNorm = np.divide(curCases,sizes[k])\r\n",
    "\r\n",
    "    # ax1.plot(curDates,curCases,'.:',linewidth=0.5,markersize=3,color=cmap(k))\r\n",
    "    # ax1.plot(rnTime(curDates,meanWidth),rnMean(curCases,meanWidth),color=cmap(k),label=groupNames[k]) \r\n",
    "    \r\n",
    "    ax1.plot(curDates,100000 * curCasesNorm,'.:',linewidth=0.5,markersize=3,color=cmap(k))\r\n",
    "    ax1.plot(rnTime(curDates,meanWidth),100000 * rnMean(curCasesNorm,meanWidth),color=cmap(k),label=groupNames[k]) \r\n",
    "    # ax1.plot(rnTime(dfCaseFull.Dato.iloc[firstDateIndex:],meanWidth),np.divide(rnMean(curCases,meanWidth),sizes[k]),color=cmap(k),label=groupNames[k]) \r\n",
    "\r\n",
    "ax1.set_ylim(bottom=0)\r\n",
    "firstDate = np.datetime64('2021-05-01')\r\n",
    "ax1.set_xlim(left=firstDate)\r\n",
    "\r\n",
    "# Draw weekends\r\n",
    "firstSunday = np.datetime64('2021-01-03')\r\n",
    "numWeeks = 70\r\n",
    "# curYlim = ax1.get_ylim()\r\n",
    "# ax1.vlines([np.datetime64('2021-06-24'),np.datetime64('2021-06-25')],curYlim[0],curYlim[1])\r\n",
    "for k in range(0,numWeeks):\r\n",
    "    curSunday = firstSunday + np.timedelta64(7*k,'D')\r\n",
    "    ax1.axvspan(curSunday-np.timedelta64(1,'D')-np.timedelta64(12,'h'),curSunday+np.timedelta64(12,'h'),facecolor='lightgrey')\r\n",
    "\r\n",
    "ax1.axvspan(curSunday-np.timedelta64(1,'D')-np.timedelta64(12,'h'),curSunday+np.timedelta64(12,'h'),facecolor='lightgrey',label='Weekend')\r\n",
    "\r\n",
    "ax1.set_xlim(right=np.datetime64('today')+np.timedelta64(8,'D'))\r\n",
    "\r\n",
    "ax1.xaxis.set_major_formatter(mdates.DateFormatter('%d\\n%B'))\r\n",
    "\r\n",
    "ax1.set_ylabel('Tilfælde per 100.000')\r\n",
    "\r\n",
    "ax1.grid()\r\n",
    "ax1.legend()\r\n",
    "plt.tight_layout()\r\n",
    "\r\n",
    "if saveFigures:\r\n",
    "    plt.savefig('figs/CasesPerDay_AgeGroups_DifferentGroups_Zoom')"
   ],
   "outputs": [
    {
     "output_type": "display_data",
     "data": {
      "application/vnd.jupyter.widget-view+json": {
       "version_major": 2,
       "version_minor": 0,
       "model_id": "4c526ff2fb2e44c09a1fa14c51e0627e"
      },
      "text/plain": [
       "Canvas(toolbar=Toolbar(toolitems=[('Home', 'Reset original view', 'home', 'home'), ('Back', 'Back to previous …"
      ]
     },
     "metadata": {}
    }
   ],
   "metadata": {}
  },
  {
   "cell_type": "code",
   "execution_count": 45,
   "source": [
    "# firstDate = np.datetime64('2021-05-01')\r\n",
    "# curdfCaseFull = dfCaseFull[dfCaseFull.Dato >= firstDate]"
   ],
   "outputs": [],
   "metadata": {}
  },
  {
   "cell_type": "code",
   "execution_count": 46,
   "source": [
    "# dfCaseFull\r\n",
    "firstDate = np.datetime64('2021-05-01')\r\n",
    "curdfCaseFull = dfCaseFull[dfCaseFull.Dato >= firstDate]\r\n",
    "\r\n",
    "fig,(ax1,ax2) = plt.subplots(2,1,sharex=True)\r\n",
    "\r\n",
    "allDates = curdfCaseFull.Dato\r\n",
    "curAll = curdfCaseFull['I alt'].values\r\n",
    "\r\n",
    "\r\n",
    "# ax1.plot(allDates,curdfCaseFull['20-29'])\r\n",
    "# ax2.plot(allDates,np.divide(curdfCaseFull['20-29'],curAll))\r\n",
    "allAge = curdfCaseFull.columns[1:-1]\r\n",
    "\r\n",
    "curVals  = np.zeros(curdfCaseFull['I alt'].values.shape)\r\n",
    "prevVals = np.zeros(curdfCaseFull['I alt'].values.shape)\r\n",
    "\r\n",
    "# cmap = plt.cm.get_cmap('PuOr',len(allAge))\r\n",
    "# cmap = plt.cm.get_cmap('twilight_shifted',len(allAge))\r\n",
    "cmap = plt.cm.get_cmap('inferno',len(allAge))\r\n",
    "for k in range(0,len(allAge)):\r\n",
    "\r\n",
    "    curAgeVals = curdfCaseFull[allAge[k]]\r\n",
    "\r\n",
    "    curVals += curAgeVals\r\n",
    "\r\n",
    "    # ax1.plot(allDates,curVals,'.:',color=cmap(k),linewidth=0.5,markersize=3)\r\n",
    "    # ax1.plot(rnTime(allDates,7),rnMean(curVals,7),color=cmap(k),label=allAge[k])\r\n",
    "    # ax2.plot(allDates,np.divide(curVals,curAll),'.:',color=cmap(k),linewidth=0.5,markersize=3)\r\n",
    "    # ax2.plot(rnTime(allDates,7),rnMean(np.divide(curVals,curAll),7),color=cmap(k))\r\n",
    "    ax1.fill_between(rnTime(allDates,7),rnMean(curVals,7),rnMean(prevVals,7),color=cmap(k),label=allAge[k])\r\n",
    "    ax2.fill_between(rnTime(allDates,7),rnMean(np.divide(curVals,curAll),7),rnMean(np.divide(prevVals,curAll),7),color=cmap(k))\r\n",
    "\r\n",
    "    prevVals += curAgeVals\r\n",
    "\r\n",
    "# ax1.plot(allDates,curdfCaseFull['I alt'],'k')\r\n",
    "ax1.plot(rnTime(allDates,7),rnMean(curdfCaseFull['I alt'],7),linewidth=1,color='k',label='I alt')\r\n",
    "ax2.plot(allDates,np.divide(curdfCaseFull['I alt'],curAll),'k')\r\n",
    "\r\n",
    "\r\n",
    "# Draw weekends\r\n",
    "firstSunday = np.datetime64('2020-09-20')\r\n",
    "numWeeks = 70\r\n",
    "# curYlim = ax1.get_ylim()\r\n",
    "# ax1.vlines([np.datetime64('2021-06-24'),np.datetime64('2021-06-25')],curYlim[0],curYlim[1])\r\n",
    "for k in range(0,numWeeks):\r\n",
    "    curSunday = firstSunday + np.timedelta64(7*k,'D')\r\n",
    "    ax1.axvspan(curSunday-np.timedelta64(1,'D')-np.timedelta64(12,'h'),curSunday+np.timedelta64(12,'h'),zorder=-1,facecolor='lightgrey')\r\n",
    "    ax2.axvspan(curSunday-np.timedelta64(1,'D')-np.timedelta64(12,'h'),curSunday+np.timedelta64(12,'h'),facecolor='xkcd:light grey',alpha=0.25)\r\n",
    "\r\n",
    "ax1.axvspan(curSunday-np.timedelta64(1,'D')-np.timedelta64(12,'h'),curSunday+np.timedelta64(12,'h'),facecolor='lightgrey',label='Weekend')\r\n",
    "\r\n",
    "# ax1.set_facecolor('xkcd:very light green')\r\n",
    "# ax2.set_facecolor('xkcd:very light green')\r\n",
    "\r\n",
    "ax1.legend(loc='upper left')\r\n",
    "\r\n",
    "ax1.set_ylim(bottom=0)\r\n",
    "ax2.set_ylim(bottom=0,top=1)\r\n",
    "\r\n",
    "ax1.set_xlim(right=allDates.values[-1])\r\n",
    "ax1.set_xlim(left=firstDate + np.timedelta64(5,'D'))\r\n",
    "\r\n",
    "ax1.xaxis.set_major_formatter(mdates.DateFormatter('%d\\n%B'))\r\n",
    "# ax1.grid(axis='x')\r\n",
    "# ax2.grid(axis='x')\r\n",
    "\r\n",
    "plt.tight_layout()\r\n",
    "\r\n",
    "if saveFigures:\r\n",
    "    plt.savefig('figs/CasesPerDay_AgeGroupsDistribution')\r\n"
   ],
   "outputs": [
    {
     "output_type": "display_data",
     "data": {
      "application/vnd.jupyter.widget-view+json": {
       "version_major": 2,
       "version_minor": 0,
       "model_id": "d8436016171c491fa19cde47b86f2657"
      },
      "text/plain": [
       "Canvas(toolbar=Toolbar(toolitems=[('Home', 'Reset original view', 'home', 'home'), ('Back', 'Back to previous …"
      ]
     },
     "metadata": {}
    }
   ],
   "metadata": {}
  },
  {
   "cell_type": "code",
   "execution_count": null,
   "source": [],
   "outputs": [],
   "metadata": {}
  }
 ],
 "metadata": {
  "interpreter": {
   "hash": "c72cdf52cb3d31f207bca538e9396da8706c0ecf4a3038fb1c2b317934170431"
  },
  "kernelspec": {
   "name": "python3",
   "display_name": "Python 3.8.5 64-bit ('main': conda)"
  },
  "language_info": {
   "codemirror_mode": {
    "name": "ipython",
    "version": 3
   },
   "file_extension": ".py",
   "mimetype": "text/x-python",
   "name": "python",
   "nbconvert_exporter": "python",
   "pygments_lexer": "ipython3",
   "version": "3.8.5"
  },
  "orig_nbformat": 2
 },
 "nbformat": 4,
 "nbformat_minor": 2
}