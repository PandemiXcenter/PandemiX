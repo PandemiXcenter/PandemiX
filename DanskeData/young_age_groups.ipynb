{
 "cells": [
  {
   "cell_type": "code",
   "execution_count": 1,
   "source": [
    "# Main notebook for playing around looking at different things in data\r\n",
    "import numpy as np\r\n",
    "import pandas as pd\r\n",
    "pd.set_option('display.max_rows', 500)\r\n",
    "pd.set_option('display.min_rows', 50)\r\n",
    "import seaborn as sns\r\n",
    "\r\n",
    "\r\n",
    "import matplotlib.pyplot as plt\r\n",
    "%matplotlib widget\r\n",
    "plt.rcParams['figure.figsize'] = (12,8)\r\n",
    "# plt.rcParams[\"image.cmap\"] = \"Dark2\"\r\n",
    "# plt.rcParams['axes.prop_cycle'] = plt.cycler(color=plt.cm.Dark2.colors)\r\n",
    "plt.rcParams[\"image.cmap\"] = \"tab10\"\r\n",
    "plt.rcParams['axes.prop_cycle'] = plt.cycler(color=plt.cm.tab10.colors)\r\n",
    "plt.rcParams['lines.markersize'] = 10\r\n",
    "plt.rcParams['lines.linewidth'] = 3\r\n",
    "%matplotlib widget\r\n",
    "# plt.style.use('ggplot')\r\n",
    "import matplotlib.colors as colors\r\n",
    "# cmap = plt.cm.get_cmap('Dark2',len(ageGroups))\r\n",
    "from matplotlib import cm # Colormaps\r\n",
    "\r\n",
    "import locale\r\n",
    "import matplotlib.dates as mdates\r\n",
    "locale.setlocale(locale.LC_TIME,\"Danish\")\r\n",
    "# ax = plt.gca()\r\n",
    "# ax1.xaxis.set_major_formatter(mdates.DateFormatter('%b\\n%Y'))\r\n",
    "# # ax.xaxis.set_major_formatter(mdates.DateFormatter('%Y \\n %B'))\r\n",
    "\r\n",
    "import os\r\n",
    "# import csv\r\n",
    "import math\r\n",
    "\r\n",
    "\r\n",
    "from datetime import date\r\n",
    "\r\n",
    "\r\n",
    "saveFigures = True\r\n",
    "# saveFigures = False\r\n",
    "print('saveFigures is set to: '+str(saveFigures))\r\n",
    "\r\n",
    "print('Done loading packages')\r\n",
    "\r\n",
    "def rnMean(data,meanWidth):\r\n",
    "    return np.convolve(data, np.ones(meanWidth)/meanWidth, mode='valid')\r\n",
    "def rnTime(t,meanWidth):\r\n",
    "    return t[math.floor(meanWidth/2):-math.ceil(meanWidth/2)+1]\r\n"
   ],
   "outputs": [
    {
     "output_type": "stream",
     "name": "stdout",
     "text": [
      "saveFigures is set to: True\n",
      "Done loading packages\n"
     ]
    }
   ],
   "metadata": {}
  },
  {
   "cell_type": "code",
   "execution_count": 2,
   "source": [
    "ssidatapath = \"ssi_data\"\r\n",
    "rootdir = os.getcwd() +\"/\" + ssidatapath"
   ],
   "outputs": [],
   "metadata": {}
  },
  {
   "cell_type": "code",
   "execution_count": 3,
   "source": [
    "dfAdm = pd.read_excel('Admitted\\Admitted.xlsx')\r\n",
    "dfAdm = dfAdm.transpose()\r\n",
    "dfAdm.columns = dfAdm.iloc[0]\r\n",
    "dfAdm = dfAdm.drop(['Aldersgruppe']) \r\n",
    "curDates =  pd.to_datetime(dfAdm.index,format='%d_%m_%Y')"
   ],
   "outputs": [],
   "metadata": {}
  },
  {
   "cell_type": "code",
   "execution_count": 4,
   "source": [
    "dfAdmDiff = dfAdm.diff().iloc[1:]\r\n",
    "plotDates = curDates[1:]"
   ],
   "outputs": [],
   "metadata": {}
  },
  {
   "cell_type": "code",
   "execution_count": 5,
   "source": [
    "fig,ax1 = plt.subplots(1,1,sharex=True)\r\n",
    "\r\n",
    "# ax1.plot(plotDates,dfAdmDiff['0-9'])\r\n",
    "# ax1.plot(plotDates,dfAdmDiff['10-19'])\r\n",
    "ax1.plot(plotDates,dfAdmDiff['0-9']+dfAdmDiff['10-19'],label='0-19')\r\n",
    "ax1.plot(plotDates,dfAdmDiff['20-29'],label='20-29')\r\n",
    "ax1.plot(plotDates,dfAdmDiff['30-39'],label='30-39')\r\n",
    "ax1.plot(plotDates,dfAdmDiff['40-49'],label='40-49')\r\n",
    "\r\n",
    "ax1.set_ylim(bottom=0)\r\n",
    "ax1.set_xlim([plotDates[0],plotDates[-1]])\r\n",
    "\r\n",
    "ax1.grid()\r\n",
    "ax1.legend()\r\n",
    "ax1.xaxis.set_major_formatter(mdates.DateFormatter('%b\\n%Y'))\r\n",
    "\r\n",
    "plt.tight_layout()"
   ],
   "outputs": [
    {
     "output_type": "display_data",
     "data": {
      "text/plain": [
       "Canvas(toolbar=Toolbar(toolitems=[('Home', 'Reset original view', 'home', 'home'), ('Back', 'Back to previous …"
      ],
      "application/vnd.jupyter.widget-view+json": {
       "version_major": 2,
       "version_minor": 0,
       "model_id": "3575d766943d44d18ef06ba60cebcfd2"
      }
     },
     "metadata": {}
    }
   ],
   "metadata": {}
  },
  {
   "cell_type": "code",
   "execution_count": 6,
   "source": [
    "dfCase = pd.DataFrame(columns=dfAdm.columns)\r\n",
    "dfTest = pd.DataFrame(columns=dfAdm.columns)\r\n",
    "dfPosP = pd.DataFrame(columns=dfAdm.columns)"
   ],
   "outputs": [],
   "metadata": {}
  },
  {
   "cell_type": "code",
   "execution_count": 7,
   "source": [
    "# Collect the cases, tests and positive percentage from all the \"cases by age\" files\r\n",
    "\r\n",
    "ssidatapath = \"ssi_data\"\r\n",
    "rootdir = os.getcwd() +\"/\" + ssidatapath\r\n",
    "\r\n",
    "for subdir, dirs, files in os.walk(rootdir):\r\n",
    "    if not len(files) == 0:\r\n",
    "        latestdir = subdir\r\n",
    "        latestDate = pd.to_datetime(subdir[-10:])\r\n",
    "        curdf = pd.read_csv(latestdir+'/Cases_by_age.csv',delimiter = ';',dtype=str)\r\n",
    "        \r\n",
    "        curdf['Antal_bekræftede_COVID-19'] = pd.to_numeric(curdf['Antal_bekræftede_COVID-19'].astype(str).apply(lambda x: x.replace('.','')))\r\n",
    "        curdf['Antal_testede'] = pd.to_numeric(curdf['Antal_testede'].astype(str).apply(lambda x: x.replace('.','')))\r\n",
    "        curdf['Procent_positive'] = pd.to_numeric(curdf['Procent_positive'].astype(str).apply(lambda x: x.replace(',','.')))\r\n",
    "        \r\n",
    "        \r\n",
    "        dfCase.loc[latestDate] = curdf['Antal_bekræftede_COVID-19'].values\r\n",
    "        dfTest.loc[latestDate] = curdf['Antal_testede'].values\r\n",
    "        dfPosP.loc[latestDate] = curdf['Procent_positive'].values\r\n",
    "\r\n",
    "allDates = dfCase.index\r\n"
   ],
   "outputs": [],
   "metadata": {}
  },
  {
   "cell_type": "code",
   "execution_count": 8,
   "source": [
    "dfCaseDiff = dfCase.diff().iloc[1:]\r\n",
    "dfTestDiff = dfTest.diff().iloc[1:]\r\n",
    "dfPosPDiff = dfPosP.diff().iloc[1:]\r\n",
    "plotDatesCase = allDates[1:]"
   ],
   "outputs": [],
   "metadata": {}
  },
  {
   "cell_type": "code",
   "execution_count": 9,
   "source": [
    "fig,ax1 = plt.subplots(1,1)\r\n",
    "\r\n",
    "howManyToUse = len(dfCaseDiff.columns)-4\r\n",
    "cmap = plt.cm.get_cmap('Dark2',howManyToUse)\r\n",
    "for k in range(0,howManyToUse):\r\n",
    "    curColName = dfCaseDiff.columns[k]\r\n",
    "    ax1.plot(plotDatesCase,dfCaseDiff[curColName],'.-',linewidth=0.4,label=curColName,color=cmap(k))\r\n",
    "    # meanWidth = 7\r\n",
    "    # ax1.plot(rnTime(plotDatesCase,meanWidth),rnMean(dfCaseDiff[curColName],meanWidth),label=curColName,color=cmap(k))\r\n",
    "\r\n",
    "ax1.legend()\r\n",
    "\r\n",
    "ax1.set_ylim(bottom=0,top=1000)\r\n",
    "# ax1.set_xlim([np.datetime64('2021-03-01'),np.datetime64('2021-05-05')])\r\n",
    "ax1.set_xlim([np.datetime64('2021-03-01'),np.datetime64(date.today())])\r\n",
    "\r\n",
    "plt.tight_layout()\r\n",
    "\r\n",
    "# ax1.plot(plotDatesCase,dfCaseDiff['0-9'])\r\n",
    "# ax1.plot(plotDatesCase,dfCaseDiff['10-19'])\r\n",
    "# ax1.plot(plotDatesCase,dfCaseDiff['20-29'])\r\n",
    "# ax1.plot(plotDatesCase,dfCaseDiff['30-39'])"
   ],
   "outputs": [
    {
     "output_type": "display_data",
     "data": {
      "text/plain": [
       "Canvas(toolbar=Toolbar(toolitems=[('Home', 'Reset original view', 'home', 'home'), ('Back', 'Back to previous …"
      ],
      "application/vnd.jupyter.widget-view+json": {
       "version_major": 2,
       "version_minor": 0,
       "model_id": "170ae0be22d941d0a95dab9defeeeaca"
      }
     },
     "metadata": {}
    }
   ],
   "metadata": {}
  },
  {
   "cell_type": "code",
   "execution_count": 10,
   "source": [
    "# dfCaseDiff\r\n",
    "\r\n",
    "curIndex = dfCaseDiff.index.values.astype('datetime64[D]')\r\n",
    "dayDiff = curIndex[1:] - curIndex[:-1]\r\n"
   ],
   "outputs": [],
   "metadata": {}
  },
  {
   "cell_type": "code",
   "execution_count": 11,
   "source": [
    "fig,ax1 = plt.subplots(1,1)\r\n",
    "# fig,(ax1,ax2) = plt.subplots(2,1,sharex=True)\r\n",
    "# for k in range(4,len(dayDiff)):\r\n",
    "for k in range(0,len(dfCaseDiff)):\r\n",
    "\r\n",
    "    \r\n",
    "    # ax1.bar(curIndex[k]-dayDiff[k-1],dfCaseDiff['20-29'].iloc[k],width=dayDiff[k-1])\r\n",
    "    curWidth = dayDiff[k-1]\r\n",
    "    numDaysWidth = curWidth/np.timedelta64(1,'D')\r\n",
    "\r\n",
    "    # Since half days aren't possible, convert to an \"hours\" timedelta64\r\n",
    "    toMove = np.timedelta64(int(24*(numDaysWidth)/2),'h')\r\n",
    "\r\n",
    "    curHeight = (dfCaseDiff['20-29'].iloc[k])/numDaysWidth\r\n",
    "    # curHeight = (dfCaseDiff['30-39'].iloc[k])/numDaysWidth\r\n",
    "    \r\n",
    "    \r\n",
    "    # ax1.bar(curIndex[k]+np.timedelta64(1,'D'),dfCaseDiff['20-29'].iloc[k],width=dayDiff[k-1])\r\n",
    "    # ax1.bar(curIndex[k]-toMove,dfCaseDiff['20-29'].iloc[k],width=dayDiff[k-1])\r\n",
    "    ax1.bar(curIndex[k]-toMove,curHeight,width=dayDiff[k-1],color='grey',edgecolor='k')\r\n",
    "    \r\n",
    "    # ax2.plot(curIndex[k],curHeight,'k*-')\r\n",
    "    # ax2.plot(curIndex[k],dfCaseDiff['20-29'].iloc[k],'r.-')\r\n",
    "    # ax1.plot(curIndex[k],dfCaseDiff['20-29'].iloc[k],'*')\r\n",
    "    # ax2.plot(curIndex[k],dayDiff[k-1],'*')\r\n",
    "\r\n",
    "ax1.set_xlim([np.datetime64('2020-11-01'),np.datetime64(date.today())])\r\n",
    "ax1.set_ylim(bottom=0)\r\n",
    "# ax1.set_ylim(top=300) \r\n",
    "# ax2.set_ylim(bottom=0)\r\n",
    "# ax2.set_ylim(top=1000)"
   ],
   "outputs": [
    {
     "output_type": "display_data",
     "data": {
      "text/plain": [
       "Canvas(toolbar=Toolbar(toolitems=[('Home', 'Reset original view', 'home', 'home'), ('Back', 'Back to previous …"
      ],
      "application/vnd.jupyter.widget-view+json": {
       "version_major": 2,
       "version_minor": 0,
       "model_id": "7c34738673a5400eb78bfac57db1bd9b"
      }
     },
     "metadata": {}
    },
    {
     "output_type": "execute_result",
     "data": {
      "text/plain": [
       "(0.0, 1025.6)"
      ]
     },
     "metadata": {},
     "execution_count": 11
    }
   ],
   "metadata": {}
  },
  {
   "cell_type": "code",
   "execution_count": 12,
   "source": [
    "# dfCaseDiff.tail()\r\n",
    "\r\n",
    "# plt.plot(allDays,allData,'.-')"
   ],
   "outputs": [],
   "metadata": {}
  },
  {
   "cell_type": "code",
   "execution_count": 13,
   "source": [
    "# Make a daily dataframe\r\n",
    "dfCaseFull = pd.DataFrame()\r\n",
    "for curCol in dfCaseDiff.columns:\r\n",
    "    allDays = []\r\n",
    "    allData = []\r\n",
    "    for k in range(0,len(dfCaseDiff)):\r\n",
    "\r\n",
    "        \r\n",
    "        curWidth = dayDiff[k-1]\r\n",
    "        numDaysWidth = int(curWidth/np.timedelta64(1,'D'))\r\n",
    "        \r\n",
    "        # curHeight = (dfCaseDiff['20-29'].iloc[k])/numDaysWidth\r\n",
    "        curHeight = (dfCaseDiff[curCol].iloc[k])/numDaysWidth\r\n",
    "\r\n",
    "        curDay = curIndex[k]\r\n",
    "        # print('----------')\r\n",
    "        # print(curDay)\r\n",
    "        # print(numDaysWidth)\r\n",
    "\r\n",
    "        # for d in range(0,numDaysWidth):\r\n",
    "        for d in range(numDaysWidth-1,-1,-1):\r\n",
    "            dayToAdd = curDay - np.timedelta64(d,'D')\r\n",
    "            # print(dayToAdd)\r\n",
    "            allDays.append(dayToAdd)\r\n",
    "            allData.append(curHeight)\r\n",
    "\r\n",
    "    dfCaseFull['Dato']  = allDays\r\n",
    "    # dfCaseFull['20-29'] = allData\r\n",
    "    dfCaseFull[curCol] = allData\r\n"
   ],
   "outputs": [],
   "metadata": {}
  },
  {
   "cell_type": "code",
   "execution_count": 14,
   "source": [
    "# plt.figure()\n",
    "# plt.plot(allDays,allData,'.-')\n",
    "# plt.show()\n",
    "dfCaseFull.tail()\n",
    "# dfCaseDiff.columns\n",
    "dfCaseFull.to_csv('DailyCasesAveraged.csv')"
   ],
   "outputs": [],
   "metadata": {}
  },
  {
   "cell_type": "code",
   "execution_count": 15,
   "source": [
    "colNames = dfCaseFull.columns[1:-1]\n",
    "# numToShow = len(dfCaseFull.columns)-1\n",
    "numToShow = len(dfCaseFull.columns)-2\n",
    "fig,allAxes = plt.subplots(numToShow,1,sharex=True,figsize=(12,20))\n",
    "\n",
    "meanWidth = 7\n",
    "\n",
    "\n",
    "# allAxes[0].plot(dfCaseFull.Dato,dfCaseFull['0-9'],'.-')\n",
    "# allAxes[0].plot(rnTime(dfCaseFull.Dato,meanWidth),rnMean(dfCaseFull['0-9'],meanWidth))\n",
    "# allAxes[1].plot(dfCaseFull.Dato,dfCaseFull['10-19'],'.-')\n",
    "# allAxes[1].plot(rnTime(dfCaseFull.Dato,meanWidth),rnMean(dfCaseFull['10-19'],meanWidth))\n",
    "\n",
    "firstDate = np.datetime64('2021-02-01')\n",
    "firstDateIndex = np.where(dfCaseFull.Dato == firstDate)[0][0]\n",
    "\n",
    "\n",
    "\n",
    "# for ax in allAxes:\n",
    "for k in range(0,numToShow):\n",
    "    ax = allAxes[k]\n",
    "    \n",
    "    # ax.plot(dfCaseFull.Dato,dfCaseFull[colNames[k]],'.-')\n",
    "    # ax.plot(rnTime(dfCaseFull.Dato,meanWidth),rnMean(dfCaseFull[colNames[k]],meanWidth)) \n",
    "\n",
    "    ax.plot(dfCaseFull.Dato.iloc[firstDateIndex:],dfCaseFull[colNames[k]].iloc[firstDateIndex:],'k.:',markersize=3,linewidth=0.5)\n",
    "    ax.plot(rnTime(dfCaseFull.Dato.iloc[firstDateIndex:],meanWidth),rnMean(dfCaseFull[colNames[k]].iloc[firstDateIndex:],meanWidth),'k') \n",
    "\n",
    "    ax.set_title(colNames[k])\n",
    "\n",
    "    ax.set_ylim(bottom=0)\n",
    "    ax.grid()\n",
    "\n",
    "# allAxes[0].set_xlim(left=np.datetime64('2020-11-01'))\n",
    "allAxes[0].set_xlim(left=firstDate)\n",
    "\n",
    "plt.tight_layout()\n",
    "\n",
    "if saveFigures:\n",
    "    plt.savefig('figs/CasesPerDay_AllAges')"
   ],
   "outputs": [
    {
     "output_type": "display_data",
     "data": {
      "text/plain": [
       "Canvas(toolbar=Toolbar(toolitems=[('Home', 'Reset original view', 'home', 'home'), ('Back', 'Back to previous …"
      ],
      "application/vnd.jupyter.widget-view+json": {
       "version_major": 2,
       "version_minor": 0,
       "model_id": "903b85d1b6bc4c459a3d1c1e44a510f1"
      }
     },
     "metadata": {}
    }
   ],
   "metadata": {}
  },
  {
   "cell_type": "code",
   "execution_count": 16,
   "source": [
    "colNames = dfCaseFull.columns[1:-1]\n",
    "# numToShow = len(dfCaseFull.columns)-1\n",
    "numToShow = len(dfCaseFull.columns)-2\n",
    "fig,allAxes = plt.subplots(numToShow,1,sharex=True,figsize=(12,20))\n",
    "\n",
    "meanWidth = 7\n",
    "\n",
    "\n",
    "# allAxes[0].plot(dfCaseFull.Dato,dfCaseFull['0-9'],'.-')\n",
    "# allAxes[0].plot(rnTime(dfCaseFull.Dato,meanWidth),rnMean(dfCaseFull['0-9'],meanWidth))\n",
    "# allAxes[1].plot(dfCaseFull.Dato,dfCaseFull['10-19'],'.-')\n",
    "# allAxes[1].plot(rnTime(dfCaseFull.Dato,meanWidth),rnMean(dfCaseFull['10-19'],meanWidth))\n",
    "\n",
    "firstDate = np.datetime64('2021-04-01')\n",
    "firstDateIndex = np.where(dfCaseFull.Dato == firstDate)[0][0]\n",
    "\n",
    "\n",
    "\n",
    "# for ax in allAxes:\n",
    "for k in range(0,numToShow):\n",
    "    ax = allAxes[k]\n",
    "    \n",
    "    # ax.plot(dfCaseFull.Dato,dfCaseFull[colNames[k]],'.-')\n",
    "    # ax.plot(rnTime(dfCaseFull.Dato,meanWidth),rnMean(dfCaseFull[colNames[k]],meanWidth)) \n",
    "\n",
    "    ax.plot(dfCaseFull.Dato.iloc[firstDateIndex:],dfCaseFull[colNames[k]].iloc[firstDateIndex:],'k.:',markersize=3,linewidth=0.5)\n",
    "    ax.plot(rnTime(dfCaseFull.Dato.iloc[firstDateIndex:],meanWidth),rnMean(dfCaseFull[colNames[k]].iloc[firstDateIndex:],meanWidth),'k') \n",
    "\n",
    "    ax.set_title(colNames[k])\n",
    "\n",
    "    ax.set_ylim(bottom=0)\n",
    "    ax.grid()\n",
    "\n",
    "# allAxes[0].set_xlim(left=np.datetime64('2020-11-01'))\n",
    "allAxes[0].set_xlim(left=firstDate)\n",
    "\n",
    "plt.tight_layout()\n",
    "\n",
    "if saveFigures:\n",
    "    plt.savefig('figs/CasesPerDay_AllAges_Zoom')"
   ],
   "outputs": [
    {
     "output_type": "display_data",
     "data": {
      "text/plain": [
       "Canvas(toolbar=Toolbar(toolitems=[('Home', 'Reset original view', 'home', 'home'), ('Back', 'Back to previous …"
      ],
      "application/vnd.jupyter.widget-view+json": {
       "version_major": 2,
       "version_minor": 0,
       "model_id": "777a36a275554d1f98b93d92141ef919"
      }
     },
     "metadata": {}
    }
   ],
   "metadata": {}
  },
  {
   "cell_type": "code",
   "execution_count": 17,
   "source": [
    "# Calculate the populations counts\n",
    "dfPop = pd.read_excel('DKfolketal2021clean.xlsx') \n",
    "\n",
    "size1 = dfPop[0:20].Antal.sum()\n",
    "size2 = dfPop[20:40].Antal.sum()\n",
    "size3 = dfPop[40:70].Antal.sum()\n",
    "size4 = dfPop[70:].Antal.sum()\n",
    "\n",
    "sizes = [size1,size2,size3,size4]"
   ],
   "outputs": [],
   "metadata": {}
  },
  {
   "cell_type": "code",
   "execution_count": 18,
   "source": [
    "\n",
    "# colNames = dfCaseFull.columns[1:-1]\n",
    "# numToShow = len(dfCaseFull.columns)-1\n",
    "# numToShow = len(dfCaseFull.columns)-2\n",
    "\n",
    "group4 = dfCaseFull['90+']+dfCaseFull['80-89']+dfCaseFull['70-79']\n",
    "group3 = dfCaseFull['40-49']+dfCaseFull['50-59']+dfCaseFull['60-69']\n",
    "group2 = dfCaseFull['20-29']+dfCaseFull['30-39']\n",
    "group1 = dfCaseFull['0-9']+dfCaseFull['10-19']\n",
    "\n",
    "groupNames = ['0-19','20-39','40-69','70+']\n",
    "\n",
    "groups = [group1,group2,group3,group4]\n",
    "numToShow = len(groups)\n",
    "\n",
    "# fig,allAxes = plt.subplots(numToShow,1,sharex=True,figsize=(12,20))\n",
    "fig,ax1 = plt.subplots(1,1)\n",
    "\n",
    "meanWidth = 7\n",
    "\n",
    "\n",
    "\n",
    "# firstDate = np.datetime64('2021-02-01')\n",
    "firstDate = np.datetime64('2020-10-01')\n",
    "# firstDate = np.datetime64('2020-06-01')\n",
    "# firstDate = dfCaseFull.Dato[0]\n",
    "firstDateIndex = np.where(dfCaseFull.Dato == firstDate)[0][0]\n",
    "\n",
    "curDates = dfCaseFull.Dato.iloc[firstDateIndex:]\n",
    "\n",
    "\n",
    "# for ax in allAxes:\n",
    "\n",
    "cmap = plt.cm.get_cmap('Dark2',numToShow+1)\n",
    "for k in range(0,numToShow):\n",
    "\n",
    "    curCases = groups[k].iloc[firstDateIndex:]\n",
    "    curCasesNorm = np.divide(curCases,sizes[k])\n",
    "\n",
    "    # ax1.plot(curDates,curCases,'.:',linewidth=0.5,markersize=3,color=cmap(k))\n",
    "    # ax1.plot(rnTime(curDates,meanWidth),rnMean(curCases,meanWidth),color=cmap(k),label=groupNames[k]) \n",
    "    \n",
    "    ax1.plot(curDates,100000 * curCasesNorm,'.:',linewidth=0.5,markersize=3,color=cmap(k))\n",
    "    ax1.plot(rnTime(curDates,meanWidth),100000 * rnMean(curCasesNorm,meanWidth),color=cmap(k),label=groupNames[k]) \n",
    "    # ax1.plot(rnTime(dfCaseFull.Dato.iloc[firstDateIndex:],meanWidth),np.divide(rnMean(curCases,meanWidth),sizes[k]),color=cmap(k),label=groupNames[k]) \n",
    "\n",
    "ax1.set_ylim(bottom=0)\n",
    "ax1.set_xlim(left=firstDate)\n",
    "\n",
    "ax1.set_ylabel('Tilfælde per 100.000')\n",
    "\n",
    "ax1.grid()\n",
    "ax1.legend()\n",
    "plt.tight_layout()\n",
    "\n",
    "if saveFigures:\n",
    "    plt.savefig('figs/CasesPerDay_AgeGroups')\n",
    "\n",
    "    \n",
    "# ax1.set_ylim(top=50)\n",
    "# ax1.set_xlim(left=np.datetime64('2021-05'))\n",
    "\n",
    "# plt.tight_layout()\n",
    "\n",
    "# if saveFigures:\n",
    "#     plt.savefig('figs/CasesPerDay_AgeGroups_zoomNy')"
   ],
   "outputs": [
    {
     "output_type": "display_data",
     "data": {
      "text/plain": [
       "Canvas(toolbar=Toolbar(toolitems=[('Home', 'Reset original view', 'home', 'home'), ('Back', 'Back to previous …"
      ],
      "application/vnd.jupyter.widget-view+json": {
       "version_major": 2,
       "version_minor": 0,
       "model_id": "40284fe9799c469abe8a3fea121aee35"
      }
     },
     "metadata": {}
    }
   ],
   "metadata": {}
  },
  {
   "cell_type": "code",
   "execution_count": 19,
   "source": [
    "\n",
    "# colNames = dfCaseFull.columns[1:-1]\n",
    "# numToShow = len(dfCaseFull.columns)-1\n",
    "# numToShow = len(dfCaseFull.columns)-2\n",
    "\n",
    "group4 = dfCaseFull['90+']+dfCaseFull['80-89']+dfCaseFull['70-79']\n",
    "group3 = dfCaseFull['40-49']+dfCaseFull['50-59']+dfCaseFull['60-69']\n",
    "group2 = dfCaseFull['20-29']+dfCaseFull['30-39']\n",
    "group1 = dfCaseFull['0-9']+dfCaseFull['10-19']\n",
    "\n",
    "groupNames = ['0-19','20-39','40-69','70+']\n",
    "\n",
    "groups = [group1,group2,group3,group4]\n",
    "numToShow = len(groups)\n",
    "\n",
    "# fig,allAxes = plt.subplots(numToShow,1,sharex=True,figsize=(12,20))\n",
    "fig,ax1 = plt.subplots(1,1)\n",
    "\n",
    "meanWidth = 7\n",
    "\n",
    "\n",
    "\n",
    "firstDate = np.datetime64('2021-04-01')\n",
    "# firstDate = np.datetime64('2021-05-01')\n",
    "# firstDate = np.datetime64('2020-06-01')\n",
    "# firstDate = dfCaseFull.Dato[0]\n",
    "firstDateIndex = np.where(dfCaseFull.Dato == firstDate)[0][0]\n",
    "\n",
    "curDates = dfCaseFull.Dato.iloc[firstDateIndex:]\n",
    "\n",
    "\n",
    "# for ax in allAxes:\n",
    "\n",
    "cmap = plt.cm.get_cmap('Dark2',numToShow+1)\n",
    "for k in range(0,numToShow):\n",
    "\n",
    "    curCases = groups[k].iloc[firstDateIndex:]\n",
    "    curCasesNorm = np.divide(curCases,sizes[k])\n",
    "\n",
    "    # ax1.plot(curDates,curCases,'.:',linewidth=0.5,markersize=3,color=cmap(k))\n",
    "    # ax1.plot(rnTime(curDates,meanWidth),rnMean(curCases,meanWidth),color=cmap(k),label=groupNames[k]) \n",
    "    \n",
    "    ax1.plot(curDates,100000 * curCasesNorm,'.:',linewidth=0.5,markersize=3,color=cmap(k))\n",
    "    ax1.plot(rnTime(curDates,meanWidth),100000 * rnMean(curCasesNorm,meanWidth),color=cmap(k),label=groupNames[k]) \n",
    "    # ax1.plot(rnTime(dfCaseFull.Dato.iloc[firstDateIndex:],meanWidth),np.divide(rnMean(curCases,meanWidth),sizes[k]),color=cmap(k),label=groupNames[k]) \n",
    "\n",
    "ax1.set_ylim(bottom=0)\n",
    "firstDate = np.datetime64('2021-05-01')\n",
    "ax1.set_xlim(left=firstDate)\n",
    "\n",
    "ax1.set_ylabel('Tilfælde per 100.000')\n",
    "\n",
    "ax1.grid()\n",
    "ax1.legend()\n",
    "plt.tight_layout()\n",
    "\n",
    "if saveFigures:\n",
    "    plt.savefig('figs/CasesPerDay_AgeGroups_Zoom')"
   ],
   "outputs": [
    {
     "output_type": "display_data",
     "data": {
      "text/plain": [
       "Canvas(toolbar=Toolbar(toolitems=[('Home', 'Reset original view', 'home', 'home'), ('Back', 'Back to previous …"
      ],
      "application/vnd.jupyter.widget-view+json": {
       "version_major": 2,
       "version_minor": 0,
       "model_id": "f5e5e669748a41a797033e9f50afdb9c"
      }
     },
     "metadata": {}
    }
   ],
   "metadata": {}
  },
  {
   "cell_type": "code",
   "execution_count": null,
   "source": [],
   "outputs": [],
   "metadata": {}
  }
 ],
 "metadata": {
  "interpreter": {
   "hash": "c031fd63bd977d199cd6020c30a19695eacbb638d100e0b8a5ea53080ed74a9a"
  },
  "kernelspec": {
   "display_name": "Python 3.8.8 64-bit ('main': conda)",
   "name": "python3"
  },
  "language_info": {
   "codemirror_mode": {
    "name": "ipython",
    "version": 3
   },
   "file_extension": ".py",
   "mimetype": "text/x-python",
   "name": "python",
   "nbconvert_exporter": "python",
   "pygments_lexer": "ipython3",
   "version": "3.8.8"
  },
  "orig_nbformat": 2
 },
 "nbformat": 4,
 "nbformat_minor": 2
}