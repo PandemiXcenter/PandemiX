{
 "cells": [
  {
   "cell_type": "code",
   "execution_count": 1,
   "source": [
    "# Main notebook for playing around looking at different things in data\r\n",
    "import numpy as np\r\n",
    "import pandas as pd\r\n",
    "pd.set_option('display.max_rows', 500)\r\n",
    "pd.set_option('display.min_rows', 50)\r\n",
    "import seaborn as sns\r\n",
    "\r\n",
    "\r\n",
    "import matplotlib.pyplot as plt\r\n",
    "%matplotlib widget\r\n",
    "plt.rcParams['figure.figsize'] = (12,8)\r\n",
    "# plt.rcParams[\"image.cmap\"] = \"Dark2\"\r\n",
    "# plt.rcParams['axes.prop_cycle'] = plt.cycler(color=plt.cm.Dark2.colors)\r\n",
    "plt.rcParams[\"image.cmap\"] = \"tab10\"\r\n",
    "plt.rcParams['axes.prop_cycle'] = plt.cycler(color=plt.cm.tab10.colors)\r\n",
    "plt.rcParams['lines.markersize'] = 10\r\n",
    "plt.rcParams['lines.linewidth'] = 3\r\n",
    "%matplotlib widget\r\n",
    "# plt.style.use('ggplot')\r\n",
    "import matplotlib.colors as colors\r\n",
    "# cmap = plt.cm.get_cmap('Dark2',len(ageGroups))\r\n",
    "from matplotlib import cm # Colormaps\r\n",
    "\r\n",
    "import locale\r\n",
    "import matplotlib.dates as mdates\r\n",
    "locale.setlocale(locale.LC_TIME,\"Danish\")\r\n",
    "# ax = plt.gca()\r\n",
    "# ax1.xaxis.set_major_formatter(mdates.DateFormatter('%b\\n%Y'))\r\n",
    "# # ax.xaxis.set_major_formatter(mdates.DateFormatter('%Y \\n %B'))\r\n",
    "\r\n",
    "import os\r\n",
    "# import csv\r\n",
    "import math\r\n",
    "\r\n",
    "\r\n",
    "from datetime import date\r\n",
    "\r\n",
    "\r\n",
    "saveFigures = True\r\n",
    "# saveFigures = False\r\n",
    "print('saveFigures is set to: '+str(saveFigures))\r\n",
    "\r\n",
    "print('Done loading packages')\r\n",
    "\r\n",
    "def rnMean(data,meanWidth):\r\n",
    "    return np.convolve(data, np.ones(meanWidth)/meanWidth, mode='valid')\r\n",
    "def rnTime(t,meanWidth):\r\n",
    "    return t[math.floor(meanWidth/2):-math.ceil(meanWidth/2)+1]\r\n"
   ],
   "outputs": [
    {
     "output_type": "stream",
     "name": "stdout",
     "text": [
      "saveFigures is set to: True\n",
      "Done loading packages\n"
     ]
    }
   ],
   "metadata": {}
  },
  {
   "cell_type": "markdown",
   "source": [
    "# Deaths"
   ],
   "metadata": {}
  },
  {
   "cell_type": "code",
   "execution_count": 2,
   "source": [
    "dfDeaths = pd.read_excel('DeathsAgeDK\\Deaths.xlsx')\r\n",
    "dfDeaths = dfDeaths.transpose()\r\n",
    "dfDeaths.columns = dfDeaths.iloc[0]\r\n",
    "dfDeaths = dfDeaths.drop(['Aldersgruppe']) \r\n",
    "curDates =  pd.to_datetime(dfDeaths.index,format='%d_%m_%Y')"
   ],
   "outputs": [],
   "metadata": {}
  },
  {
   "cell_type": "code",
   "execution_count": 3,
   "source": [
    "# dfDeaths.diff().iloc[1:,:-1]"
   ],
   "outputs": [],
   "metadata": {}
  },
  {
   "cell_type": "code",
   "execution_count": 4,
   "source": [
    "deathVals = dfDeaths.diff().iloc[1:,:-1].values.astype('int64')\r\n",
    "deathVals = np.transpose(deathVals)"
   ],
   "outputs": [],
   "metadata": {}
  },
  {
   "cell_type": "code",
   "execution_count": 5,
   "source": [
    "plt.figure()\r\n",
    "\r\n",
    "g = sns.heatmap(deathVals,annot=True,cmap='turbo',xticklabels=curDates.strftime('%d-%b')[1:],yticklabels=dfDeaths.columns[:-1])\r\n",
    "g.invert_yaxis()\r\n",
    "# np.isnan(np.transpose(deathVals))\r\n",
    "\r\n",
    "plt.title('Dødsfald')\r\n",
    "plt.tight_layout()\r\n",
    "\r\n",
    "if saveFigures:\r\n",
    "    plt.savefig('figs/DeathsHeatmap')"
   ],
   "outputs": [
    {
     "output_type": "display_data",
     "data": {
      "text/plain": [
       "Canvas(toolbar=Toolbar(toolitems=[('Home', 'Reset original view', 'home', 'home'), ('Back', 'Back to previous …"
      ],
      "application/vnd.jupyter.widget-view+json": {
       "version_major": 2,
       "version_minor": 0,
       "model_id": "6c9dd7e99d304ba6b4d709c065ea8a14"
      }
     },
     "metadata": {}
    }
   ],
   "metadata": {}
  },
  {
   "cell_type": "markdown",
   "source": [
    "# Indlagte"
   ],
   "metadata": {}
  },
  {
   "cell_type": "code",
   "execution_count": 6,
   "source": [
    "dfAdm = pd.read_excel('Admitted\\Admitted.xlsx')\r\n",
    "dfAdm = dfAdm.transpose()\r\n",
    "dfAdm.columns = dfAdm.iloc[0]\r\n",
    "dfAdm = dfAdm.drop(['Aldersgruppe']) \r\n",
    "curDatesAdm =  pd.to_datetime(dfAdm.index,format='%d_%m_%Y')"
   ],
   "outputs": [],
   "metadata": {}
  },
  {
   "cell_type": "code",
   "execution_count": 7,
   "source": [
    "admVals = dfAdm.diff().iloc[1:,:-1].values.astype('int64')\r\n",
    "admVals = np.transpose(admVals)"
   ],
   "outputs": [],
   "metadata": {}
  },
  {
   "cell_type": "code",
   "execution_count": 8,
   "source": [
    "plt.figure()\r\n",
    "\r\n",
    "g = sns.heatmap(admVals,annot=True,fmt=\"3\",cmap='turbo',xticklabels=curDatesAdm.strftime('%d-%b')[1:],yticklabels=dfAdm.columns[:-1])\r\n",
    "g.invert_yaxis()\r\n",
    "\r\n",
    "plt.title('Nyindlæggelser')\r\n",
    "plt.tight_layout()\r\n",
    "\r\n",
    "if saveFigures:\r\n",
    "    plt.savefig('figs/AdmittedHeatmap')"
   ],
   "outputs": [
    {
     "output_type": "display_data",
     "data": {
      "text/plain": [
       "Canvas(toolbar=Toolbar(toolitems=[('Home', 'Reset original view', 'home', 'home'), ('Back', 'Back to previous …"
      ],
      "application/vnd.jupyter.widget-view+json": {
       "version_major": 2,
       "version_minor": 0,
       "model_id": "17c9e23e48fb4385b40b328b78c884fc"
      }
     },
     "metadata": {}
    }
   ],
   "metadata": {}
  },
  {
   "cell_type": "markdown",
   "source": [
    "# Intensiv "
   ],
   "metadata": {}
  },
  {
   "cell_type": "code",
   "execution_count": 9,
   "source": [
    "dfInt = pd.read_excel('Admitted\\Intensiv.xlsx')\r\n",
    "dfInt = dfInt.transpose()\r\n",
    "dfInt.columns = dfInt.iloc[0]\r\n",
    "dfInt = dfInt.drop(['Aldersgruppe']) \r\n",
    "curDatesInt =  pd.to_datetime(dfInt.index,format='%d_%m_%Y')"
   ],
   "outputs": [],
   "metadata": {}
  },
  {
   "cell_type": "code",
   "execution_count": 10,
   "source": [
    "intVals = dfInt.diff().iloc[1:,:-1].values.astype('int64')\r\n",
    "intVals = np.transpose(intVals)"
   ],
   "outputs": [],
   "metadata": {}
  },
  {
   "cell_type": "code",
   "execution_count": 11,
   "source": [
    "plt.figure()\r\n",
    "\r\n",
    "g = sns.heatmap(intVals,annot=True,fmt=\"3\",cmap='turbo',xticklabels=curDatesInt.strftime('%d-%b')[1:],yticklabels=dfInt.columns[:-1])\r\n",
    "g.invert_yaxis()\r\n",
    "\r\n",
    "plt.title('Intensiv')\r\n",
    "plt.tight_layout()\r\n",
    "\r\n",
    "if saveFigures:\r\n",
    "    plt.savefig('figs/IntensivHeatmap')"
   ],
   "outputs": [
    {
     "output_type": "display_data",
     "data": {
      "text/plain": [
       "Canvas(toolbar=Toolbar(toolitems=[('Home', 'Reset original view', 'home', 'home'), ('Back', 'Back to previous …"
      ],
      "application/vnd.jupyter.widget-view+json": {
       "version_major": 2,
       "version_minor": 0,
       "model_id": "6ee63f0bdfd44e0ba8cc94c195eca6fd"
      }
     },
     "metadata": {}
    }
   ],
   "metadata": {}
  },
  {
   "cell_type": "markdown",
   "source": [
    "# Across the same age"
   ],
   "metadata": {}
  },
  {
   "cell_type": "code",
   "execution_count": 12,
   "source": [
    "numCols = len(dfAdm.columns)\r\n",
    "dfAdm.columns"
   ],
   "outputs": [
    {
     "output_type": "execute_result",
     "data": {
      "text/plain": [
       "Index(['0-9', '10-19', '20-29', '30-39', '40-49', '50-59', '60-69', '70-79',\n",
       "       '80-89', '90+', 'I alt'],\n",
       "      dtype='object', name='Aldersgruppe')"
      ]
     },
     "metadata": {},
     "execution_count": 12
    }
   ],
   "metadata": {}
  },
  {
   "cell_type": "code",
   "execution_count": 13,
   "source": [
    "\r\n",
    "# fig,ax1 = plt.subplots(1,1)\r\n",
    "fig,allAxes = plt.subplots(numCols-1,1,sharex=True,figsize=(14,20))\r\n",
    "\r\n",
    "colNames = dfAdm.columns\r\n",
    "for curCol in range(0,numCols-1):\r\n",
    "\r\n",
    "    curAx = allAxes[numCols-2-curCol]\r\n",
    "    curAx.set_title(colNames[curCol])\r\n",
    "    \r\n",
    "    curDea = np.diff(dfDeaths.iloc[:,curCol].values)\r\n",
    "    curAdm = np.diff(dfAdm.iloc[:,curCol].values)\r\n",
    "    curInt = np.diff(dfInt.iloc[:,curCol].values)\r\n",
    "\r\n",
    "    plotDates = curDates[1:]\r\n",
    "    lns1 = curAx.plot(plotDates,curAdm,'b:',label='Indlæggelser')\r\n",
    "    # curAx.plot(plotDates,curInt,label='Intensiv')\r\n",
    "    # curAx.plot(plotDates,curDea,label='Dødsfald')\r\n",
    "    curAx2 = curAx.twinx()\r\n",
    "    lns2 = curAx.plot(plotDates,curInt,'k--',label='Intensiv')\r\n",
    "    lns3 = curAx2.plot(plotDates,curDea,'r',label='Dødsfald')\r\n",
    "    \r\n",
    "    lns = lns1+lns2+lns3\r\n",
    "    labs = [l.get_label() for l in lns]\r\n",
    "        \r\n",
    "    curAx.set_ylim(bottom=0)\r\n",
    "    curAx2.set_ylim(bottom=0)\r\n",
    "\r\n",
    "# allAxes[4].legend(loc='center left',bbox_to_anchor = (1.0, 0.5))\r\n",
    "allAxes[4].legend(lns,labs,loc='center left',bbox_to_anchor = (1.05, 0.5))\r\n",
    "\r\n",
    "curAx.set_xlim([curDates[1],curDates[-1]])\r\n",
    "\r\n",
    "plt.tight_layout()"
   ],
   "outputs": [
    {
     "output_type": "display_data",
     "data": {
      "text/plain": [
       "Canvas(toolbar=Toolbar(toolitems=[('Home', 'Reset original view', 'home', 'home'), ('Back', 'Back to previous …"
      ],
      "application/vnd.jupyter.widget-view+json": {
       "version_major": 2,
       "version_minor": 0,
       "model_id": "d7118e6f9e974e40b696ffd781910d46"
      }
     },
     "metadata": {}
    }
   ],
   "metadata": {}
  },
  {
   "cell_type": "code",
   "execution_count": 14,
   "source": [
    "\r\n",
    "# fig,ax1 = plt.subplots(1,1)\r\n",
    "fig,allAxes = plt.subplots(numCols-1,3,sharex=True,figsize=(14,20))\r\n",
    "\r\n",
    "colNames = dfAdm.columns\r\n",
    "for curCol in range(0,numCols-1):\r\n",
    "\r\n",
    "    # curAx1 = allAxes[(numCols-2-curCol) * 3]\r\n",
    "    # curAx2 = allAxes[(numCols-2-curCol) * 3 + 1]\r\n",
    "    # curAx3 = allAxes[(numCols-2-curCol) * 3 + 2]\r\n",
    "    curAx1 = allAxes[numCols-2-curCol,0]\r\n",
    "    curAx2 = allAxes[numCols-2-curCol,1]\r\n",
    "    curAx3 = allAxes[numCols-2-curCol,2]\r\n",
    "    \r\n",
    "    curAx1.set_ylabel(colNames[curCol])\r\n",
    "    \r\n",
    "    curDea = np.diff(dfDeaths.iloc[:,curCol].values)\r\n",
    "    curAdm = np.diff(dfAdm.iloc[:,curCol].values)\r\n",
    "    curInt = np.diff(dfInt.iloc[:,curCol].values)\r\n",
    "\r\n",
    "    plotDates = curDates[1:]\r\n",
    "    curAx1.plot(plotDates,curAdm,'b:',label='Indlæggelser')\r\n",
    "    # curAx.plot(plotDates,curInt,label='Intensiv')\r\n",
    "    # curAx.plot(plotDates,curDea,label='Dødsfald')\r\n",
    "    curAx2.plot(plotDates,curInt,'k--',label='Intensiv')\r\n",
    "    curAx3.plot(plotDates,curDea,'r',label='Dødsfald')\r\n",
    "    \r\n",
    "        \r\n",
    "    curAx1.set_ylim(bottom=0)\r\n",
    "    curAx2.set_ylim(bottom=0)\r\n",
    "    curAx3.set_ylim(bottom=0)\r\n",
    "\r\n",
    "# allAxes[4].legend(loc='center left',bbox_to_anchor = (1.0, 0.5))\r\n",
    "# allAxes[4].legend(lns,labs,loc='center left',bbox_to_anchor = (1.05, 0.5))\r\n",
    "\r\n",
    "    \r\n",
    "curAx1.set_xlim([curDates[0],curDates[-1]])\r\n",
    "curAx1.set_xticks(curDates[::3])\r\n",
    "curAx1.xaxis.set_major_formatter(mdates.DateFormatter('%d\\n%b'))\r\n",
    "\r\n",
    "allAxes[0,0].set_title('Indlæggelser')\r\n",
    "allAxes[0,1].set_title('Intensiv')\r\n",
    "allAxes[0,2].set_title('Dødsfald')\r\n",
    "\r\n",
    "plt.tight_layout()\r\n",
    "\r\n",
    "if saveFigures:\r\n",
    "    plt.savefig('figs/AgeDist_AllData')"
   ],
   "outputs": [
    {
     "output_type": "display_data",
     "data": {
      "text/plain": [
       "Canvas(toolbar=Toolbar(toolitems=[('Home', 'Reset original view', 'home', 'home'), ('Back', 'Back to previous …"
      ],
      "application/vnd.jupyter.widget-view+json": {
       "version_major": 2,
       "version_minor": 0,
       "model_id": "89fa8a83d44f4d1ab7295d78f4c8f6f2"
      }
     },
     "metadata": {}
    }
   ],
   "metadata": {}
  },
  {
   "cell_type": "code",
   "execution_count": 15,
   "source": [
    "\r\n",
    "# fig,ax1 = plt.subplots(1,1)\r\n",
    "fig,allAxes = plt.subplots(numCols-1,3,sharex=True,figsize=(14,20))\r\n",
    "\r\n",
    "colNames = dfAdm.columns\r\n",
    "for curCol in range(0,numCols-1):\r\n",
    "\r\n",
    "    # curAx1 = allAxes[(numCols-2-curCol) * 3]\r\n",
    "    # curAx2 = allAxes[(numCols-2-curCol) * 3 + 1]\r\n",
    "    # curAx3 = allAxes[(numCols-2-curCol) * 3 + 2]\r\n",
    "    curAx1 = allAxes[numCols-2-curCol,0]\r\n",
    "    curAx2 = allAxes[numCols-2-curCol,1]\r\n",
    "    curAx3 = allAxes[numCols-2-curCol,2]\r\n",
    "    \r\n",
    "    curAx1.set_ylabel(colNames[curCol])\r\n",
    "    \r\n",
    "    curDea = np.diff(dfDeaths.iloc[:,curCol].values)\r\n",
    "    curAdm = np.diff(dfAdm.iloc[:,curCol].values)\r\n",
    "    curInt = np.diff(dfInt.iloc[:,curCol].values)\r\n",
    "\r\n",
    "    plotDates = curDates[1:]\r\n",
    "\r\n",
    "    plotDates = plotDates[13:]\r\n",
    "    curDea = curDea[13:]\r\n",
    "    curAdm = curAdm[13:]\r\n",
    "    curInt = curInt[13:]\r\n",
    "\r\n",
    "\r\n",
    "    curAx1.plot(plotDates,curAdm,'b:',label='Indlæggelser')\r\n",
    "    # curAx.plot(plotDates,curInt,label='Intensiv')\r\n",
    "    # curAx.plot(plotDates,curDea,label='Dødsfald')\r\n",
    "    curAx2.plot(plotDates,curInt,'k--',label='Intensiv')\r\n",
    "    curAx3.plot(plotDates,curDea,'r',label='Dødsfald')\r\n",
    "    \r\n",
    "        \r\n",
    "    curAx1.set_ylim(bottom=0)\r\n",
    "    curAx2.set_ylim(bottom=0)\r\n",
    "    curAx3.set_ylim(bottom=0)\r\n",
    "\r\n",
    "# allAxes[4].legend(loc='center left',bbox_to_anchor = (1.0, 0.5))\r\n",
    "# allAxes[4].legend(lns,labs,loc='center left',bbox_to_anchor = (1.05, 0.5))\r\n",
    "\r\n",
    "    \r\n",
    "curAx1.set_xlim([plotDates[0],plotDates[-1]])\r\n",
    "curAx1.set_xticks(plotDates)\r\n",
    "curAx1.xaxis.set_major_formatter(mdates.DateFormatter('%d\\n%b'))\r\n",
    "\r\n",
    "allAxes[0,0].set_title('Indlæggelser')\r\n",
    "allAxes[0,1].set_title('Intensiv')\r\n",
    "allAxes[0,2].set_title('Dødsfald')\r\n",
    "\r\n",
    "plt.tight_layout()\r\n",
    "\r\n",
    "if saveFigures:\r\n",
    "    plt.savefig('figs/AgeDist_AllData_Zoom')"
   ],
   "outputs": [
    {
     "output_type": "display_data",
     "data": {
      "text/plain": [
       "Canvas(toolbar=Toolbar(toolitems=[('Home', 'Reset original view', 'home', 'home'), ('Back', 'Back to previous …"
      ],
      "application/vnd.jupyter.widget-view+json": {
       "version_major": 2,
       "version_minor": 0,
       "model_id": "3890b361352941cd8a60a23cd7a55f51"
      }
     },
     "metadata": {}
    }
   ],
   "metadata": {}
  },
  {
   "cell_type": "markdown",
   "source": [
    "# Cases"
   ],
   "metadata": {}
  },
  {
   "cell_type": "code",
   "execution_count": 16,
   "source": [
    "ssidatapath = \"ssi_data\"\r\n",
    "rootdir = os.getcwd() +\"/\" + ssidatapath"
   ],
   "outputs": [],
   "metadata": {}
  },
  {
   "cell_type": "code",
   "execution_count": 17,
   "source": [
    "# dfCase = pd.read_csv(latestdir+'\\\\Cases_by_age.csv',delimiter=';')\r\n",
    "dfCase = pd.DataFrame(columns=dfDeaths.columns)\r\n",
    "dfTest = pd.DataFrame(columns=dfDeaths.columns)\r\n",
    "dfPosP = pd.DataFrame(columns=dfDeaths.columns)"
   ],
   "outputs": [],
   "metadata": {}
  },
  {
   "cell_type": "code",
   "execution_count": 18,
   "source": [
    "# for d in curDates:\r\n",
    "for k in range(0,len(curDates)):\r\n",
    "    d = curDates[k]\r\n",
    "    curIndex = dfDeaths.index[k]\r\n",
    "\r\n",
    "    thisDateStr = d.strftime('%Y-%m-%d')\r\n",
    "    curDir = rootdir + '/SSI_data_' + thisDateStr \r\n",
    "    curFilePath = curDir + '/Cases_by_age.csv'\r\n",
    "    curdf = pd.read_csv(curFilePath,delimiter=';',dtype=str)\r\n",
    "\r\n",
    "\r\n",
    "    curdf['Antal_bekræftede_COVID-19'] = pd.to_numeric(curdf['Antal_bekræftede_COVID-19'].astype(str).apply(lambda x: x.replace('.','')))\r\n",
    "    curdf['Antal_testede'] = pd.to_numeric(curdf['Antal_testede'].astype(str).apply(lambda x: x.replace('.','')))\r\n",
    "    curdf['Procent_positive'] = pd.to_numeric(curdf['Procent_positive'].astype(str).apply(lambda x: x.replace(',','.')))\r\n",
    "\r\n",
    "    dfCase.loc[curIndex] = curdf['Antal_bekræftede_COVID-19'].values\r\n",
    "    dfTest.loc[curIndex] = curdf['Antal_testede'].values\r\n",
    "    dfPosP.loc[curIndex] = curdf['Procent_positive'].values\r\n",
    "\r\n"
   ],
   "outputs": [],
   "metadata": {}
  },
  {
   "cell_type": "code",
   "execution_count": 19,
   "source": [
    "dfCase"
   ],
   "outputs": [
    {
     "output_type": "execute_result",
     "data": {
      "text/plain": [
       "Aldersgruppe    0-9  10-19  20-29  30-39  40-49  50-59  60-69  70-79 80-89  \\\n",
       "10_11_2020     2881   8543  11141   7884   8720   8486   4534   2893  1457   \n",
       "17_11_2020     3383   9919  12617   8893   9870   9596   5084   3168  1570   \n",
       "24_11_2020     3933  11526  14162  10030  11105  10804   5724   3509  1735   \n",
       "01_12_2020     4512  13265  15830  11197  12414  12032   6365   3905  1893   \n",
       "08_12_2020     5269  15977  18353  12852  14331  13767   7146   4416  2088   \n",
       "15_12_2020     6548  19813  22922  15767  17416  16692   8637   5162  2425   \n",
       "22_12_2020     8349  23715  27577  18985  20879  20091  10505   6341  2889   \n",
       "29_12_2020    10014  26073  30632  21504  23571  22761  11986   7365  3493   \n",
       "05_01_2021    10995  27827  33147  23488  25484  24839  13348   8311  4096   \n",
       "12_01_2021    11768  29199  35144  24895  26910  26499  14348   9000  4606   \n",
       "19_01_2021    12266  29918  36199  25805  27904  27557  14971   9427  4985   \n",
       "26_01_2021    12689  30452  37062  26575  28684  28364  15501   9735  5234   \n",
       "02_02_2021    13003  30832  37581  27066  29187  28843  15821   9947  5365   \n",
       "09_02_2021    13268  31166  38126  27500  29625  29283  16093  10147  5458   \n",
       "16_02_2021    13543  31542  38599  27905  30041  29668  16344  10263  5507   \n",
       "23_02_2021    13983  32012  39175  28439  30502  30134  16585  10389  5559   \n",
       "02_03_2021    14425  32534  39796  29041  31060  30570  16843  10536  5628   \n",
       "09_03_2021    14901  33088  40406  29584  31555  31043  17081  10651  5679   \n",
       "15_03_2021    15326  33896  41392  30387  32369  31753  17512  10878  5753   \n",
       "23_03_2021    15973  34974  42493  31281  33243  32501  17885  11067  5803   \n",
       "30_03_2021    16584  35326  42987  31709  33697  32927  17972  11071  5806   \n",
       "06_04_2021    17004  36065  43793  32409  34396  33504  18247  11219  5850   \n",
       "13_04_2021    17400  36922  44732  33071  35034  34079  18518  11381  5895   \n",
       "20_04_2021    17982  37910  45714  33856  35780  34723  18819  11518  5916   \n",
       "27_04_2021    18502  38816  46603  34580  36535  35379  19108  11630  5946   \n",
       "04_05_2021    18979  39791  47807  35416  37362  36078  19480  11750  5962   \n",
       "11_05_2021    19482  41138  49223  36358  38288  36864  19857  11857  5988   \n",
       "18_05_2021    20051  42855  50971  37357  39297  37687  20211  11956  6005   \n",
       "25_05_2021    20499  44395  52851  38240  40291  38504  20530  12021  6010   \n",
       "01_06_2021    20966  45845  54840  39139  41296  39312  20775  12062  6030   \n",
       "08_06_2021    21329  47145  56331  39794  41975  39830  20912  12091  6042   \n",
       "15_06_2021    21530  47763  57282  40223  42396  40096  21006  12112  6047   \n",
       "22_06_2021    21640  48088  57768  40489  42628  40240  21040  12125  6059   \n",
       "29_06_2021    21741  48279  58264  40780  42801  40329  21067  12135  6061   \n",
       "06_07_2021    21866  48866  59441  41236  43064  40519  21100  12158  6065   \n",
       "\n",
       "Aldersgruppe   90+   I alt  \n",
       "10_11_2020     419   56958  \n",
       "17_11_2020     451   64551  \n",
       "24_11_2020     493   73021  \n",
       "01_12_2020     536   81949  \n",
       "08_12_2020     600   94799  \n",
       "15_12_2020     705  116087  \n",
       "22_12_2020     844  140175  \n",
       "29_12_2020    1048  158447  \n",
       "05_01_2021    1244  172779  \n",
       "12_01_2021    1432  183801  \n",
       "19_01_2021    1587  190619  \n",
       "26_01_2021    1652  195948  \n",
       "02_02_2021    1712  199357  \n",
       "09_02_2021    1751  202417  \n",
       "16_02_2021    1771  205183  \n",
       "23_02_2021    1778  208556  \n",
       "02_03_2021    1791  212224  \n",
       "09_03_2021    1803  215791  \n",
       "15_03_2021    1805  221071  \n",
       "23_03_2021    1811  227031  \n",
       "30_03_2021    1823  229902  \n",
       "06_04_2021    1830  234317  \n",
       "13_04_2021    1837  238869  \n",
       "20_04_2021    1847  244065  \n",
       "27_04_2021    1851  248950  \n",
       "04_05_2021    1857  254482  \n",
       "11_05_2021    1858  260913  \n",
       "18_05_2021    1865  268255  \n",
       "25_05_2021    1866  275207  \n",
       "01_06_2021    1870  282135  \n",
       "08_06_2021    1876  287325  \n",
       "15_06_2021    1878  290333  \n",
       "22_06_2021    1879  291956  \n",
       "29_06_2021    1880  293337  \n",
       "06_07_2021    1881  296196  "
      ],
      "text/html": [
       "<div>\n",
       "<style scoped>\n",
       "    .dataframe tbody tr th:only-of-type {\n",
       "        vertical-align: middle;\n",
       "    }\n",
       "\n",
       "    .dataframe tbody tr th {\n",
       "        vertical-align: top;\n",
       "    }\n",
       "\n",
       "    .dataframe thead th {\n",
       "        text-align: right;\n",
       "    }\n",
       "</style>\n",
       "<table border=\"1\" class=\"dataframe\">\n",
       "  <thead>\n",
       "    <tr style=\"text-align: right;\">\n",
       "      <th>Aldersgruppe</th>\n",
       "      <th>0-9</th>\n",
       "      <th>10-19</th>\n",
       "      <th>20-29</th>\n",
       "      <th>30-39</th>\n",
       "      <th>40-49</th>\n",
       "      <th>50-59</th>\n",
       "      <th>60-69</th>\n",
       "      <th>70-79</th>\n",
       "      <th>80-89</th>\n",
       "      <th>90+</th>\n",
       "      <th>I alt</th>\n",
       "    </tr>\n",
       "  </thead>\n",
       "  <tbody>\n",
       "    <tr>\n",
       "      <th>10_11_2020</th>\n",
       "      <td>2881</td>\n",
       "      <td>8543</td>\n",
       "      <td>11141</td>\n",
       "      <td>7884</td>\n",
       "      <td>8720</td>\n",
       "      <td>8486</td>\n",
       "      <td>4534</td>\n",
       "      <td>2893</td>\n",
       "      <td>1457</td>\n",
       "      <td>419</td>\n",
       "      <td>56958</td>\n",
       "    </tr>\n",
       "    <tr>\n",
       "      <th>17_11_2020</th>\n",
       "      <td>3383</td>\n",
       "      <td>9919</td>\n",
       "      <td>12617</td>\n",
       "      <td>8893</td>\n",
       "      <td>9870</td>\n",
       "      <td>9596</td>\n",
       "      <td>5084</td>\n",
       "      <td>3168</td>\n",
       "      <td>1570</td>\n",
       "      <td>451</td>\n",
       "      <td>64551</td>\n",
       "    </tr>\n",
       "    <tr>\n",
       "      <th>24_11_2020</th>\n",
       "      <td>3933</td>\n",
       "      <td>11526</td>\n",
       "      <td>14162</td>\n",
       "      <td>10030</td>\n",
       "      <td>11105</td>\n",
       "      <td>10804</td>\n",
       "      <td>5724</td>\n",
       "      <td>3509</td>\n",
       "      <td>1735</td>\n",
       "      <td>493</td>\n",
       "      <td>73021</td>\n",
       "    </tr>\n",
       "    <tr>\n",
       "      <th>01_12_2020</th>\n",
       "      <td>4512</td>\n",
       "      <td>13265</td>\n",
       "      <td>15830</td>\n",
       "      <td>11197</td>\n",
       "      <td>12414</td>\n",
       "      <td>12032</td>\n",
       "      <td>6365</td>\n",
       "      <td>3905</td>\n",
       "      <td>1893</td>\n",
       "      <td>536</td>\n",
       "      <td>81949</td>\n",
       "    </tr>\n",
       "    <tr>\n",
       "      <th>08_12_2020</th>\n",
       "      <td>5269</td>\n",
       "      <td>15977</td>\n",
       "      <td>18353</td>\n",
       "      <td>12852</td>\n",
       "      <td>14331</td>\n",
       "      <td>13767</td>\n",
       "      <td>7146</td>\n",
       "      <td>4416</td>\n",
       "      <td>2088</td>\n",
       "      <td>600</td>\n",
       "      <td>94799</td>\n",
       "    </tr>\n",
       "    <tr>\n",
       "      <th>15_12_2020</th>\n",
       "      <td>6548</td>\n",
       "      <td>19813</td>\n",
       "      <td>22922</td>\n",
       "      <td>15767</td>\n",
       "      <td>17416</td>\n",
       "      <td>16692</td>\n",
       "      <td>8637</td>\n",
       "      <td>5162</td>\n",
       "      <td>2425</td>\n",
       "      <td>705</td>\n",
       "      <td>116087</td>\n",
       "    </tr>\n",
       "    <tr>\n",
       "      <th>22_12_2020</th>\n",
       "      <td>8349</td>\n",
       "      <td>23715</td>\n",
       "      <td>27577</td>\n",
       "      <td>18985</td>\n",
       "      <td>20879</td>\n",
       "      <td>20091</td>\n",
       "      <td>10505</td>\n",
       "      <td>6341</td>\n",
       "      <td>2889</td>\n",
       "      <td>844</td>\n",
       "      <td>140175</td>\n",
       "    </tr>\n",
       "    <tr>\n",
       "      <th>29_12_2020</th>\n",
       "      <td>10014</td>\n",
       "      <td>26073</td>\n",
       "      <td>30632</td>\n",
       "      <td>21504</td>\n",
       "      <td>23571</td>\n",
       "      <td>22761</td>\n",
       "      <td>11986</td>\n",
       "      <td>7365</td>\n",
       "      <td>3493</td>\n",
       "      <td>1048</td>\n",
       "      <td>158447</td>\n",
       "    </tr>\n",
       "    <tr>\n",
       "      <th>05_01_2021</th>\n",
       "      <td>10995</td>\n",
       "      <td>27827</td>\n",
       "      <td>33147</td>\n",
       "      <td>23488</td>\n",
       "      <td>25484</td>\n",
       "      <td>24839</td>\n",
       "      <td>13348</td>\n",
       "      <td>8311</td>\n",
       "      <td>4096</td>\n",
       "      <td>1244</td>\n",
       "      <td>172779</td>\n",
       "    </tr>\n",
       "    <tr>\n",
       "      <th>12_01_2021</th>\n",
       "      <td>11768</td>\n",
       "      <td>29199</td>\n",
       "      <td>35144</td>\n",
       "      <td>24895</td>\n",
       "      <td>26910</td>\n",
       "      <td>26499</td>\n",
       "      <td>14348</td>\n",
       "      <td>9000</td>\n",
       "      <td>4606</td>\n",
       "      <td>1432</td>\n",
       "      <td>183801</td>\n",
       "    </tr>\n",
       "    <tr>\n",
       "      <th>19_01_2021</th>\n",
       "      <td>12266</td>\n",
       "      <td>29918</td>\n",
       "      <td>36199</td>\n",
       "      <td>25805</td>\n",
       "      <td>27904</td>\n",
       "      <td>27557</td>\n",
       "      <td>14971</td>\n",
       "      <td>9427</td>\n",
       "      <td>4985</td>\n",
       "      <td>1587</td>\n",
       "      <td>190619</td>\n",
       "    </tr>\n",
       "    <tr>\n",
       "      <th>26_01_2021</th>\n",
       "      <td>12689</td>\n",
       "      <td>30452</td>\n",
       "      <td>37062</td>\n",
       "      <td>26575</td>\n",
       "      <td>28684</td>\n",
       "      <td>28364</td>\n",
       "      <td>15501</td>\n",
       "      <td>9735</td>\n",
       "      <td>5234</td>\n",
       "      <td>1652</td>\n",
       "      <td>195948</td>\n",
       "    </tr>\n",
       "    <tr>\n",
       "      <th>02_02_2021</th>\n",
       "      <td>13003</td>\n",
       "      <td>30832</td>\n",
       "      <td>37581</td>\n",
       "      <td>27066</td>\n",
       "      <td>29187</td>\n",
       "      <td>28843</td>\n",
       "      <td>15821</td>\n",
       "      <td>9947</td>\n",
       "      <td>5365</td>\n",
       "      <td>1712</td>\n",
       "      <td>199357</td>\n",
       "    </tr>\n",
       "    <tr>\n",
       "      <th>09_02_2021</th>\n",
       "      <td>13268</td>\n",
       "      <td>31166</td>\n",
       "      <td>38126</td>\n",
       "      <td>27500</td>\n",
       "      <td>29625</td>\n",
       "      <td>29283</td>\n",
       "      <td>16093</td>\n",
       "      <td>10147</td>\n",
       "      <td>5458</td>\n",
       "      <td>1751</td>\n",
       "      <td>202417</td>\n",
       "    </tr>\n",
       "    <tr>\n",
       "      <th>16_02_2021</th>\n",
       "      <td>13543</td>\n",
       "      <td>31542</td>\n",
       "      <td>38599</td>\n",
       "      <td>27905</td>\n",
       "      <td>30041</td>\n",
       "      <td>29668</td>\n",
       "      <td>16344</td>\n",
       "      <td>10263</td>\n",
       "      <td>5507</td>\n",
       "      <td>1771</td>\n",
       "      <td>205183</td>\n",
       "    </tr>\n",
       "    <tr>\n",
       "      <th>23_02_2021</th>\n",
       "      <td>13983</td>\n",
       "      <td>32012</td>\n",
       "      <td>39175</td>\n",
       "      <td>28439</td>\n",
       "      <td>30502</td>\n",
       "      <td>30134</td>\n",
       "      <td>16585</td>\n",
       "      <td>10389</td>\n",
       "      <td>5559</td>\n",
       "      <td>1778</td>\n",
       "      <td>208556</td>\n",
       "    </tr>\n",
       "    <tr>\n",
       "      <th>02_03_2021</th>\n",
       "      <td>14425</td>\n",
       "      <td>32534</td>\n",
       "      <td>39796</td>\n",
       "      <td>29041</td>\n",
       "      <td>31060</td>\n",
       "      <td>30570</td>\n",
       "      <td>16843</td>\n",
       "      <td>10536</td>\n",
       "      <td>5628</td>\n",
       "      <td>1791</td>\n",
       "      <td>212224</td>\n",
       "    </tr>\n",
       "    <tr>\n",
       "      <th>09_03_2021</th>\n",
       "      <td>14901</td>\n",
       "      <td>33088</td>\n",
       "      <td>40406</td>\n",
       "      <td>29584</td>\n",
       "      <td>31555</td>\n",
       "      <td>31043</td>\n",
       "      <td>17081</td>\n",
       "      <td>10651</td>\n",
       "      <td>5679</td>\n",
       "      <td>1803</td>\n",
       "      <td>215791</td>\n",
       "    </tr>\n",
       "    <tr>\n",
       "      <th>15_03_2021</th>\n",
       "      <td>15326</td>\n",
       "      <td>33896</td>\n",
       "      <td>41392</td>\n",
       "      <td>30387</td>\n",
       "      <td>32369</td>\n",
       "      <td>31753</td>\n",
       "      <td>17512</td>\n",
       "      <td>10878</td>\n",
       "      <td>5753</td>\n",
       "      <td>1805</td>\n",
       "      <td>221071</td>\n",
       "    </tr>\n",
       "    <tr>\n",
       "      <th>23_03_2021</th>\n",
       "      <td>15973</td>\n",
       "      <td>34974</td>\n",
       "      <td>42493</td>\n",
       "      <td>31281</td>\n",
       "      <td>33243</td>\n",
       "      <td>32501</td>\n",
       "      <td>17885</td>\n",
       "      <td>11067</td>\n",
       "      <td>5803</td>\n",
       "      <td>1811</td>\n",
       "      <td>227031</td>\n",
       "    </tr>\n",
       "    <tr>\n",
       "      <th>30_03_2021</th>\n",
       "      <td>16584</td>\n",
       "      <td>35326</td>\n",
       "      <td>42987</td>\n",
       "      <td>31709</td>\n",
       "      <td>33697</td>\n",
       "      <td>32927</td>\n",
       "      <td>17972</td>\n",
       "      <td>11071</td>\n",
       "      <td>5806</td>\n",
       "      <td>1823</td>\n",
       "      <td>229902</td>\n",
       "    </tr>\n",
       "    <tr>\n",
       "      <th>06_04_2021</th>\n",
       "      <td>17004</td>\n",
       "      <td>36065</td>\n",
       "      <td>43793</td>\n",
       "      <td>32409</td>\n",
       "      <td>34396</td>\n",
       "      <td>33504</td>\n",
       "      <td>18247</td>\n",
       "      <td>11219</td>\n",
       "      <td>5850</td>\n",
       "      <td>1830</td>\n",
       "      <td>234317</td>\n",
       "    </tr>\n",
       "    <tr>\n",
       "      <th>13_04_2021</th>\n",
       "      <td>17400</td>\n",
       "      <td>36922</td>\n",
       "      <td>44732</td>\n",
       "      <td>33071</td>\n",
       "      <td>35034</td>\n",
       "      <td>34079</td>\n",
       "      <td>18518</td>\n",
       "      <td>11381</td>\n",
       "      <td>5895</td>\n",
       "      <td>1837</td>\n",
       "      <td>238869</td>\n",
       "    </tr>\n",
       "    <tr>\n",
       "      <th>20_04_2021</th>\n",
       "      <td>17982</td>\n",
       "      <td>37910</td>\n",
       "      <td>45714</td>\n",
       "      <td>33856</td>\n",
       "      <td>35780</td>\n",
       "      <td>34723</td>\n",
       "      <td>18819</td>\n",
       "      <td>11518</td>\n",
       "      <td>5916</td>\n",
       "      <td>1847</td>\n",
       "      <td>244065</td>\n",
       "    </tr>\n",
       "    <tr>\n",
       "      <th>27_04_2021</th>\n",
       "      <td>18502</td>\n",
       "      <td>38816</td>\n",
       "      <td>46603</td>\n",
       "      <td>34580</td>\n",
       "      <td>36535</td>\n",
       "      <td>35379</td>\n",
       "      <td>19108</td>\n",
       "      <td>11630</td>\n",
       "      <td>5946</td>\n",
       "      <td>1851</td>\n",
       "      <td>248950</td>\n",
       "    </tr>\n",
       "    <tr>\n",
       "      <th>04_05_2021</th>\n",
       "      <td>18979</td>\n",
       "      <td>39791</td>\n",
       "      <td>47807</td>\n",
       "      <td>35416</td>\n",
       "      <td>37362</td>\n",
       "      <td>36078</td>\n",
       "      <td>19480</td>\n",
       "      <td>11750</td>\n",
       "      <td>5962</td>\n",
       "      <td>1857</td>\n",
       "      <td>254482</td>\n",
       "    </tr>\n",
       "    <tr>\n",
       "      <th>11_05_2021</th>\n",
       "      <td>19482</td>\n",
       "      <td>41138</td>\n",
       "      <td>49223</td>\n",
       "      <td>36358</td>\n",
       "      <td>38288</td>\n",
       "      <td>36864</td>\n",
       "      <td>19857</td>\n",
       "      <td>11857</td>\n",
       "      <td>5988</td>\n",
       "      <td>1858</td>\n",
       "      <td>260913</td>\n",
       "    </tr>\n",
       "    <tr>\n",
       "      <th>18_05_2021</th>\n",
       "      <td>20051</td>\n",
       "      <td>42855</td>\n",
       "      <td>50971</td>\n",
       "      <td>37357</td>\n",
       "      <td>39297</td>\n",
       "      <td>37687</td>\n",
       "      <td>20211</td>\n",
       "      <td>11956</td>\n",
       "      <td>6005</td>\n",
       "      <td>1865</td>\n",
       "      <td>268255</td>\n",
       "    </tr>\n",
       "    <tr>\n",
       "      <th>25_05_2021</th>\n",
       "      <td>20499</td>\n",
       "      <td>44395</td>\n",
       "      <td>52851</td>\n",
       "      <td>38240</td>\n",
       "      <td>40291</td>\n",
       "      <td>38504</td>\n",
       "      <td>20530</td>\n",
       "      <td>12021</td>\n",
       "      <td>6010</td>\n",
       "      <td>1866</td>\n",
       "      <td>275207</td>\n",
       "    </tr>\n",
       "    <tr>\n",
       "      <th>01_06_2021</th>\n",
       "      <td>20966</td>\n",
       "      <td>45845</td>\n",
       "      <td>54840</td>\n",
       "      <td>39139</td>\n",
       "      <td>41296</td>\n",
       "      <td>39312</td>\n",
       "      <td>20775</td>\n",
       "      <td>12062</td>\n",
       "      <td>6030</td>\n",
       "      <td>1870</td>\n",
       "      <td>282135</td>\n",
       "    </tr>\n",
       "    <tr>\n",
       "      <th>08_06_2021</th>\n",
       "      <td>21329</td>\n",
       "      <td>47145</td>\n",
       "      <td>56331</td>\n",
       "      <td>39794</td>\n",
       "      <td>41975</td>\n",
       "      <td>39830</td>\n",
       "      <td>20912</td>\n",
       "      <td>12091</td>\n",
       "      <td>6042</td>\n",
       "      <td>1876</td>\n",
       "      <td>287325</td>\n",
       "    </tr>\n",
       "    <tr>\n",
       "      <th>15_06_2021</th>\n",
       "      <td>21530</td>\n",
       "      <td>47763</td>\n",
       "      <td>57282</td>\n",
       "      <td>40223</td>\n",
       "      <td>42396</td>\n",
       "      <td>40096</td>\n",
       "      <td>21006</td>\n",
       "      <td>12112</td>\n",
       "      <td>6047</td>\n",
       "      <td>1878</td>\n",
       "      <td>290333</td>\n",
       "    </tr>\n",
       "    <tr>\n",
       "      <th>22_06_2021</th>\n",
       "      <td>21640</td>\n",
       "      <td>48088</td>\n",
       "      <td>57768</td>\n",
       "      <td>40489</td>\n",
       "      <td>42628</td>\n",
       "      <td>40240</td>\n",
       "      <td>21040</td>\n",
       "      <td>12125</td>\n",
       "      <td>6059</td>\n",
       "      <td>1879</td>\n",
       "      <td>291956</td>\n",
       "    </tr>\n",
       "    <tr>\n",
       "      <th>29_06_2021</th>\n",
       "      <td>21741</td>\n",
       "      <td>48279</td>\n",
       "      <td>58264</td>\n",
       "      <td>40780</td>\n",
       "      <td>42801</td>\n",
       "      <td>40329</td>\n",
       "      <td>21067</td>\n",
       "      <td>12135</td>\n",
       "      <td>6061</td>\n",
       "      <td>1880</td>\n",
       "      <td>293337</td>\n",
       "    </tr>\n",
       "    <tr>\n",
       "      <th>06_07_2021</th>\n",
       "      <td>21866</td>\n",
       "      <td>48866</td>\n",
       "      <td>59441</td>\n",
       "      <td>41236</td>\n",
       "      <td>43064</td>\n",
       "      <td>40519</td>\n",
       "      <td>21100</td>\n",
       "      <td>12158</td>\n",
       "      <td>6065</td>\n",
       "      <td>1881</td>\n",
       "      <td>296196</td>\n",
       "    </tr>\n",
       "  </tbody>\n",
       "</table>\n",
       "</div>"
      ]
     },
     "metadata": {},
     "execution_count": 19
    }
   ],
   "metadata": {}
  },
  {
   "cell_type": "code",
   "execution_count": 20,
   "source": [
    "caseVals = dfCase.diff().iloc[1:,:-1].values.astype('int64')\r\n",
    "caseVals = np.transpose(caseVals)\r\n",
    "\r\n",
    "plt.figure()\r\n",
    "\r\n",
    "g = sns.heatmap(caseVals,annot=True,fmt=\"3\",cmap='turbo',xticklabels=curDates.strftime('%d-%b')[1:],yticklabels=dfCase.columns[:-1], annot_kws={\"size\": 7})\r\n",
    "g.invert_yaxis()\r\n",
    "\r\n",
    "plt.title('Tilfælde')\r\n",
    "plt.tight_layout()\r\n",
    "\r\n",
    "if saveFigures:\r\n",
    "    plt.savefig('figs/CasesHeatmap')"
   ],
   "outputs": [
    {
     "output_type": "display_data",
     "data": {
      "text/plain": [
       "Canvas(toolbar=Toolbar(toolitems=[('Home', 'Reset original view', 'home', 'home'), ('Back', 'Back to previous …"
      ],
      "application/vnd.jupyter.widget-view+json": {
       "version_major": 2,
       "version_minor": 0,
       "model_id": "e756d535087a41d49a8b8d8ec07edd08"
      }
     },
     "metadata": {}
    }
   ],
   "metadata": {}
  },
  {
   "cell_type": "code",
   "execution_count": 21,
   "source": [
    "testVals = dfTest.diff().iloc[1:,:-1].values.astype('int64')\r\n",
    "testVals = np.transpose(testVals)\r\n",
    "\r\n",
    "plt.figure()\r\n",
    "\r\n",
    "g = sns.heatmap(testVals,annot=True,fmt=\"3\",cmap='turbo',xticklabels=curDates.strftime('%d-%b')[1:],yticklabels=dfTest.columns[:-1])\r\n",
    "g.invert_yaxis()\r\n",
    "\r\n",
    "plt.title('Test')\r\n",
    "plt.tight_layout()\r\n",
    "\r\n",
    "if saveFigures:\r\n",
    "    plt.savefig('figs/TestsHeatmap')"
   ],
   "outputs": [
    {
     "output_type": "display_data",
     "data": {
      "text/plain": [
       "Canvas(toolbar=Toolbar(toolitems=[('Home', 'Reset original view', 'home', 'home'), ('Back', 'Back to previous …"
      ],
      "application/vnd.jupyter.widget-view+json": {
       "version_major": 2,
       "version_minor": 0,
       "model_id": "35fd5f58968f4fceaad4cb45aa158dd7"
      }
     },
     "metadata": {}
    }
   ],
   "metadata": {}
  },
  {
   "cell_type": "code",
   "execution_count": 22,
   "source": [
    "# dfTest.diff()\r\n",
    "# # dfCase\r\n",
    "# # curdf\r\n",
    "# # curdf['Antal_bekræftede_COVID-19'] = pd.to_numeric(curdf['Antal_bekræftede_COVID-19'].astype(str).apply(lambda x: x.replace('.','')))\r\n",
    "# # curdf['Antal_testede'] = pd.to_numeric(curdf['Antal_testede'].astype(str).apply(lambda x: x.replace('.','')))\r\n",
    "# # curdf['Procent_positive'] = pd.to_numeric(curdf['Procent_positive'].astype(str).apply(lambda x: x.replace(',','.')))\r\n",
    "# # curdf"
   ],
   "outputs": [],
   "metadata": {}
  },
  {
   "cell_type": "code",
   "execution_count": 23,
   "source": [
    "# dfTest\r\n",
    "# # curdf['Antal_bekræftede_COVID-19'].values\r\n",
    "# # dfDeaths.index[5]\r\n",
    "# # dfCase.append([curdf['Antal_bekræftede_COVID-19'].values])"
   ],
   "outputs": [],
   "metadata": {}
  },
  {
   "cell_type": "markdown",
   "source": [
    "# Normalized by size of group"
   ],
   "metadata": {}
  },
  {
   "cell_type": "code",
   "execution_count": 24,
   "source": [
    "dfAges = pd.read_excel('DKfolketal2021clean.xlsx')"
   ],
   "outputs": [],
   "metadata": {}
  },
  {
   "cell_type": "code",
   "execution_count": 25,
   "source": [
    "DK_age = []\r\n",
    "DK_age.append(dfAges.iloc[0:10].Antal.sum())\r\n",
    "DK_age.append(dfAges.iloc[10:20].Antal.sum())\r\n",
    "DK_age.append(dfAges.iloc[20:30].Antal.sum())\r\n",
    "DK_age.append(dfAges.iloc[30:40].Antal.sum())\r\n",
    "DK_age.append(dfAges.iloc[40:50].Antal.sum())\r\n",
    "DK_age.append(dfAges.iloc[50:60].Antal.sum())\r\n",
    "DK_age.append(dfAges.iloc[60:70].Antal.sum())\r\n",
    "DK_age.append(dfAges.iloc[70:80].Antal.sum())\r\n",
    "DK_age.append(dfAges.iloc[80:90].Antal.sum())\r\n",
    "DK_age.append(dfAges.iloc[90:].Antal.sum())\r\n",
    "DK_age = np.array(DK_age)"
   ],
   "outputs": [],
   "metadata": {}
  },
  {
   "cell_type": "code",
   "execution_count": 26,
   "source": [
    "caseValsNorm = dfCase.iloc[:,0:-1].div(DK_age).diff().iloc[1:].values.astype('float64')\r\n",
    "caseValsNorm = 1000* np.transpose(caseValsNorm)\r\n",
    "\r\n",
    "plt.figure()\r\n",
    "\r\n",
    "g = sns.heatmap(caseValsNorm,annot=True,fmt=\"1.1f\",cmap='turbo',xticklabels=curDates.strftime('%d-%b')[1:],yticklabels=dfCase.columns[:-1])\r\n",
    "g.invert_yaxis()\r\n",
    "\r\n",
    "plt.title('Tilfælde, per 1.000')\r\n",
    "plt.tight_layout()\r\n",
    "\r\n",
    "if saveFigures:\r\n",
    "    plt.savefig('figs/CasesHeatmapNorm')"
   ],
   "outputs": [
    {
     "output_type": "display_data",
     "data": {
      "text/plain": [
       "Canvas(toolbar=Toolbar(toolitems=[('Home', 'Reset original view', 'home', 'home'), ('Back', 'Back to previous …"
      ],
      "application/vnd.jupyter.widget-view+json": {
       "version_major": 2,
       "version_minor": 0,
       "model_id": "4fb0ea4173f54d8ead0efdb3af9245b9"
      }
     },
     "metadata": {}
    }
   ],
   "metadata": {}
  },
  {
   "cell_type": "code",
   "execution_count": 27,
   "source": [
    "print(dfCase.columns[:-1])\r\n",
    "DK_age"
   ],
   "outputs": [
    {
     "output_type": "stream",
     "name": "stdout",
     "text": [
      "Index(['0-9', '10-19', '20-29', '30-39', '40-49', '50-59', '60-69', '70-79',\n",
      "       '80-89', '90+'],\n",
      "      dtype='object', name='Aldersgruppe')\n"
     ]
    },
    {
     "output_type": "execute_result",
     "data": {
      "text/plain": [
       "array([610210, 680040, 778740, 696679, 748824, 801166, 667583, 574697,\n",
       "       236648,  45458], dtype=int64)"
      ]
     },
     "metadata": {},
     "execution_count": 27
    }
   ],
   "metadata": {}
  },
  {
   "cell_type": "code",
   "execution_count": 28,
   "source": [
    "deathValsNorm = dfDeaths.iloc[:,0:-1].div(DK_age).diff().iloc[1:].values.astype('float64')\r\n",
    "deathValsNorm = 10000* np.transpose(deathValsNorm)\r\n",
    "\r\n",
    "plt.figure()\r\n",
    "\r\n",
    "g = sns.heatmap(deathValsNorm,annot=True,fmt=\"1.1f\",cmap='turbo',xticklabels=curDates.strftime('%d-%b')[1:],yticklabels=dfDeaths.columns[:-1])\r\n",
    "g.invert_yaxis()\r\n",
    "\r\n",
    "plt.title('Dødsfald, per 10.000')\r\n",
    "plt.tight_layout()\r\n",
    "\r\n",
    "if saveFigures:\r\n",
    "    plt.savefig('figs/DeathsHeatmapNorm')"
   ],
   "outputs": [
    {
     "output_type": "display_data",
     "data": {
      "text/plain": [
       "Canvas(toolbar=Toolbar(toolitems=[('Home', 'Reset original view', 'home', 'home'), ('Back', 'Back to previous …"
      ],
      "application/vnd.jupyter.widget-view+json": {
       "version_major": 2,
       "version_minor": 0,
       "model_id": "5ba2011e095b4b66bc4ef50c6a65e429"
      }
     },
     "metadata": {}
    }
   ],
   "metadata": {}
  },
  {
   "cell_type": "code",
   "execution_count": 29,
   "source": [
    "AdmValsNorm = dfAdm.iloc[:,0:-1].div(DK_age).diff().iloc[1:].values.astype('float64')\n",
    "AdmValsNorm = 10000* np.transpose(AdmValsNorm)\n",
    "\n",
    "plt.figure()\n",
    "\n",
    "g = sns.heatmap(AdmValsNorm,annot=True,fmt=\"1.1f\",cmap='turbo',xticklabels=curDates.strftime('%d-%b')[1:],yticklabels=dfAdm.columns[:-1])\n",
    "g.invert_yaxis()\n",
    "\n",
    "plt.title('Indlæggelser, per 10.000')\n",
    "plt.tight_layout()\n",
    "\n",
    "if saveFigures:\n",
    "    plt.savefig('figs/AdmittedHeatmapNorm')"
   ],
   "outputs": [
    {
     "output_type": "display_data",
     "data": {
      "text/plain": [
       "Canvas(toolbar=Toolbar(toolitems=[('Home', 'Reset original view', 'home', 'home'), ('Back', 'Back to previous …"
      ],
      "application/vnd.jupyter.widget-view+json": {
       "version_major": 2,
       "version_minor": 0,
       "model_id": "148625b8f5584daaa509671a22f6f967"
      }
     },
     "metadata": {}
    }
   ],
   "metadata": {}
  },
  {
   "cell_type": "code",
   "execution_count": 30,
   "source": [
    "IntValsNorm = dfInt.iloc[:,0:-1].div(DK_age).diff().iloc[1:].values.astype('float64')\n",
    "IntValsNorm = 10000* np.transpose(IntValsNorm)\n",
    "\n",
    "plt.figure()\n",
    "\n",
    "g = sns.heatmap(IntValsNorm,annot=True,fmt=\"1.1f\",cmap='turbo',xticklabels=curDates.strftime('%d-%b')[1:],yticklabels=dfInt.columns[:-1])\n",
    "g.invert_yaxis()\n",
    "\n",
    "plt.title('Intensiv, per 10.000')\n",
    "plt.tight_layout()\n",
    "\n",
    "if saveFigures:\n",
    "    plt.savefig('figs/IntensivHeatmapNorm')"
   ],
   "outputs": [
    {
     "output_type": "display_data",
     "data": {
      "text/plain": [
       "Canvas(toolbar=Toolbar(toolitems=[('Home', 'Reset original view', 'home', 'home'), ('Back', 'Back to previous …"
      ],
      "application/vnd.jupyter.widget-view+json": {
       "version_major": 2,
       "version_minor": 0,
       "model_id": "b85fa0e02c844fd68dcda6e6580487db"
      }
     },
     "metadata": {}
    }
   ],
   "metadata": {}
  },
  {
   "cell_type": "markdown",
   "source": [
    "# Recent period"
   ],
   "metadata": {}
  },
  {
   "cell_type": "code",
   "execution_count": 31,
   "source": [
    "firstDataPoint = 13\r\n",
    "caseValsNormRecent = dfCase.iloc[firstDataPoint:,0:-1].diff().iloc[1:].values.astype('float64')\r\n",
    "caseValsNormRecent = np.transpose(caseValsNormRecent)\r\n",
    "\r\n",
    "\r\n",
    "plt.figure()\r\n",
    "\r\n",
    "g = sns.heatmap(caseValsNormRecent,annot=True,fmt=\"1.0f\",cmap='turbo',xticklabels=curDates.strftime('%d-%b')[firstDataPoint+1:],yticklabels=dfCase.columns[:-1])\r\n",
    "g.invert_yaxis()\r\n",
    "\r\n",
    "plt.title('Tilfælde')\r\n",
    "plt.tight_layout()\r\n",
    "\r\n",
    "if saveFigures:\r\n",
    "    plt.savefig('figs/CasesHeatmapRecent')"
   ],
   "outputs": [
    {
     "output_type": "display_data",
     "data": {
      "text/plain": [
       "Canvas(toolbar=Toolbar(toolitems=[('Home', 'Reset original view', 'home', 'home'), ('Back', 'Back to previous …"
      ],
      "application/vnd.jupyter.widget-view+json": {
       "version_major": 2,
       "version_minor": 0,
       "model_id": "ba6f21d5e7fd441ba73c18f118fea481"
      }
     },
     "metadata": {}
    }
   ],
   "metadata": {}
  },
  {
   "cell_type": "code",
   "execution_count": 32,
   "source": [
    "firstDataPoint = 13\n",
    "caseValsNormRecent = dfCase.iloc[firstDataPoint:,0:-1].div(DK_age).diff().iloc[1:].values.astype('float64')\n",
    "caseValsNormRecent = 1000* np.transpose(caseValsNormRecent)\n",
    "\n",
    "\n",
    "plt.figure()\n",
    "\n",
    "g = sns.heatmap(caseValsNormRecent,annot=True,fmt=\"1.1f\",cmap='turbo',xticklabels=curDates.strftime('%d-%b')[firstDataPoint+1:],yticklabels=dfCase.columns[:-1])\n",
    "g.invert_yaxis()\n",
    "\n",
    "plt.title('Tilfælde, per 1.000')\n",
    "plt.tight_layout()\n",
    "\n",
    "if saveFigures:\n",
    "    plt.savefig('figs/CasesHeatmapNormRecent')"
   ],
   "outputs": [
    {
     "output_type": "display_data",
     "data": {
      "text/plain": [
       "Canvas(toolbar=Toolbar(toolitems=[('Home', 'Reset original view', 'home', 'home'), ('Back', 'Back to previous …"
      ],
      "application/vnd.jupyter.widget-view+json": {
       "version_major": 2,
       "version_minor": 0,
       "model_id": "66c29dffe096420eaaf73d514412e02a"
      }
     },
     "metadata": {}
    }
   ],
   "metadata": {}
  },
  {
   "cell_type": "code",
   "execution_count": 33,
   "source": [
    "firstDataPoint = 16\n",
    "AdmValsNormRecent = dfAdm.iloc[firstDataPoint:,0:-1].div(DK_age).diff().iloc[1:].values.astype('float64')\n",
    "AdmValsNormRecent = 10000* np.transpose(AdmValsNormRecent)\n",
    "\n",
    "plt.figure()\n",
    "\n",
    "g = sns.heatmap(AdmValsNormRecent,annot=True,fmt=\"1.1f\",cmap='turbo',xticklabels=curDates.strftime('%d-%b')[firstDataPoint+1:],yticklabels=dfAdm.columns[:-1])\n",
    "g.invert_yaxis()\n",
    "\n",
    "plt.title('Indlæggelser, per 10.000')\n",
    "plt.tight_layout()\n",
    "\n",
    "if saveFigures:\n",
    "    plt.savefig('figs/AdmittedHeatmapNormRecent')"
   ],
   "outputs": [
    {
     "output_type": "display_data",
     "data": {
      "text/plain": [
       "Canvas(toolbar=Toolbar(toolitems=[('Home', 'Reset original view', 'home', 'home'), ('Back', 'Back to previous …"
      ],
      "application/vnd.jupyter.widget-view+json": {
       "version_major": 2,
       "version_minor": 0,
       "model_id": "6b4d5f50bf7944d69c47e4412b46e0bc"
      }
     },
     "metadata": {}
    }
   ],
   "metadata": {}
  },
  {
   "cell_type": "markdown",
   "source": [
    "# Normalized, graphs"
   ],
   "metadata": {}
  },
  {
   "cell_type": "code",
   "execution_count": null,
   "source": [],
   "outputs": [],
   "metadata": {}
  },
  {
   "cell_type": "code",
   "execution_count": 34,
   "source": [
    "\n",
    "# # fig,ax1 = plt.subplots(1,1)\n",
    "# fig,allAxes = plt.subplots(numCols-1,3,sharex=True,figsize=(14,20))\n",
    "\n",
    "# colNames = dfAdm.columns\n",
    "# for curCol in range(0,numCols-1):\n",
    "\n",
    "#     curPopSize = DK_age[curCol]\n",
    "\n",
    "#     curAx1 = allAxes[numCols-2-curCol,0]\n",
    "#     curAx2 = allAxes[numCols-2-curCol,1]\n",
    "#     curAx3 = allAxes[numCols-2-curCol,2]\n",
    "    \n",
    "#     curAx1.set_ylabel(colNames[curCol])\n",
    "    \n",
    "#     curDea = 10000 * np.divide(np.diff(dfDeaths.iloc[:,curCol].values),curPopSize)\n",
    "#     curAdm = 10000 * np.divide(np.diff(dfAdm.iloc[:,curCol].values),curPopSize)\n",
    "#     curInt = 10000 * np.divide(np.diff(dfInt.iloc[:,curCol].values),curPopSize)\n",
    "\n",
    "#     plotDates = curDates[1:]\n",
    "\n",
    "#     # plotDates = plotDates[13:]\n",
    "#     # curDea = curDea[13:]\n",
    "#     # curAdm = curAdm[13:]\n",
    "#     # curInt = curInt[13:]\n",
    "\n",
    "\n",
    "#     curAx1.plot(plotDates,curAdm,'b:',label='Indlæggelser')\n",
    "#     # curAx.plot(plotDates,curInt,label='Intensiv')\n",
    "#     # curAx.plot(plotDates,curDea,label='Dødsfald')\n",
    "#     curAx2.plot(plotDates,curInt,'k--',label='Intensiv')\n",
    "#     curAx3.plot(plotDates,curDea,'r',label='Dødsfald')\n",
    "    \n",
    "        \n",
    "#     curAx1.set_ylim(bottom=0)\n",
    "#     curAx2.set_ylim(bottom=0)\n",
    "#     curAx3.set_ylim(bottom=0)\n",
    "\n",
    "# # allAxes[4].legend(loc='center left',bbox_to_anchor = (1.0, 0.5))\n",
    "# # allAxes[4].legend(lns,labs,loc='center left',bbox_to_anchor = (1.05, 0.5))\n",
    "\n",
    "    \n",
    "# curAx1.set_xlim([plotDates[0],plotDates[-1]])\n",
    "# curAx1.set_xticks(plotDates)\n",
    "# curAx1.xaxis.set_major_formatter(mdates.DateFormatter('%d\\n%b'))\n",
    "\n",
    "# allAxes[0,0].set_title('Indlæggelser')\n",
    "# allAxes[0,1].set_title('Intensiv')\n",
    "# allAxes[0,2].set_title('Dødsfald')\n",
    "\n",
    "# plt.tight_layout()\n",
    "\n",
    "# # if saveFigures:\n",
    "# #     plt.savefig('figs/AgeDist_AllData_Zoom')"
   ],
   "outputs": [],
   "metadata": {}
  },
  {
   "cell_type": "code",
   "execution_count": 35,
   "source": [
    "\n",
    "fig,allAxes = plt.subplots(3,1,sharex=True)\n",
    "# fig,allAxes = plt.subplots(numCols-1,3,sharex=True,figsize=(14,20))\n",
    "\n",
    "colNames = dfAdm.columns\n",
    "\n",
    "plotDates = curDates[1:]\n",
    "\n",
    "# prevDea = np.zeros(plotDates.zeros)\n",
    "# prevAdm = np.zeros(plotDates.zeros)\n",
    "# prevInt = np.zeros(plotDates.zeros)\n",
    "\n",
    "for curCol in range(0,numCols-1):\n",
    "\n",
    "    curPopSize = DK_age[curCol]\n",
    "\n",
    "    # curAx1 = allAxes[numCols-2-curCol,0]\n",
    "    # curAx2 = allAxes[numCols-2-curCol,1]\n",
    "    # curAx3 = allAxes[numCols-2-curCol,2]\n",
    "    curAx1 = allAxes[0]\n",
    "    curAx2 = allAxes[1]\n",
    "    curAx3 = allAxes[2]\n",
    "    \n",
    "    # curAx1.set_ylabel(colNames[curCol])\n",
    "    \n",
    "    curDea = 10000 * np.divide(np.diff(dfDeaths.iloc[:,curCol].values),curPopSize)\n",
    "    curAdm = 10000 * np.divide(np.diff(dfAdm.iloc[:,curCol].values),curPopSize)\n",
    "    curInt = 10000 * np.divide(np.diff(dfInt.iloc[:,curCol].values),curPopSize)\n",
    "\n",
    "    # plotDates = plotDates[13:]\n",
    "    # curDea = curDea[13:]\n",
    "    # curAdm = curAdm[13:]\n",
    "    # curInt = curInt[13:]\n",
    "\n",
    "\n",
    "    curAx1.plot(plotDates,curAdm,label=colNames[curCol])\n",
    "    curAx2.plot(plotDates,curInt,label=colNames[curCol])\n",
    "    curAx3.plot(plotDates,curDea,label=colNames[curCol])\n",
    "    \n",
    "    \n",
    "curAx1.set_ylim(bottom=0)\n",
    "curAx2.set_ylim(bottom=0)\n",
    "curAx3.set_ylim(bottom=0)\n",
    "\n",
    "curAx2.legend(loc='center left',bbox_to_anchor = (1.0, 0.5))\n",
    "# allAxes[4].legend(lns,labs,loc='center left',bbox_to_anchor = (1.05, 0.5))\n",
    "\n",
    "    \n",
    "curAx1.set_xlim([plotDates[0],plotDates[-1]])\n",
    "curAx1.set_xticks(plotDates)\n",
    "curAx1.xaxis.set_major_formatter(mdates.DateFormatter('%d\\n%b'))\n",
    "\n",
    "\n",
    "allAxes[0].set_title('Indlæggelser')\n",
    "allAxes[1].set_title('Intensiv')\n",
    "allAxes[2].set_title('Dødsfald')\n",
    "\n",
    "plt.tight_layout()\n",
    "\n",
    "# if saveFigures:\n",
    "#     plt.savefig('figs/AgeDist_AllData_Zoom')"
   ],
   "outputs": [
    {
     "output_type": "display_data",
     "data": {
      "text/plain": [
       "Canvas(toolbar=Toolbar(toolitems=[('Home', 'Reset original view', 'home', 'home'), ('Back', 'Back to previous …"
      ],
      "application/vnd.jupyter.widget-view+json": {
       "version_major": 2,
       "version_minor": 0,
       "model_id": "608c35280283433b9684dacf08c5f365"
      }
     },
     "metadata": {}
    }
   ],
   "metadata": {}
  },
  {
   "cell_type": "code",
   "execution_count": 36,
   "source": [
    "\n",
    "fig,allAxes = plt.subplots(3,1,sharex=True)\n",
    "# fig,allAxes = plt.subplots(numCols-1,3,sharex=True,figsize=(14,20))\n",
    "\n",
    "colNames = dfAdm.columns\n",
    "\n",
    "firstDataPoint = 13\n",
    "# firstDataPoint = 8\n",
    "\n",
    "plotDates = curDates[firstDataPoint+1:]\n",
    "# plotDates = curDates[1:]\n",
    "\n",
    "prevDea = np.zeros(plotDates.shape)\n",
    "prevAdm = np.zeros(plotDates.shape)\n",
    "prevInt = np.zeros(plotDates.shape)\n",
    "\n",
    "for curCol in range(0,numCols-1):\n",
    "\n",
    "    curPopSize = DK_age[curCol]\n",
    "\n",
    "    curAx1 = allAxes[0]\n",
    "    curAx2 = allAxes[1]\n",
    "    curAx3 = allAxes[2]\n",
    "    \n",
    "    \n",
    "    # curDea = 10000 * np.divide(np.diff(dfDeaths.iloc[:,curCol].values),curPopSize)\n",
    "    # curAdm = 10000 * np.divide(np.diff(dfAdm.iloc[:,curCol].values),curPopSize)\n",
    "    # curInt = 10000 * np.divide(np.diff(dfInt.iloc[:,curCol].values),curPopSize)\n",
    "    # curDea = np.diff(dfDeaths.iloc[:,curCol].values)\n",
    "    # curAdm = np.diff(dfAdm.iloc[:,curCol].values)\n",
    "    # curInt = np.diff(dfInt.iloc[:,curCol].values)\n",
    "    curDea = np.diff(dfDeaths.iloc[firstDataPoint:,curCol].values)\n",
    "    curAdm = np.diff(dfAdm.iloc[firstDataPoint:,curCol].values)\n",
    "    curInt = np.diff(dfInt.iloc[firstDataPoint:,curCol].values)\n",
    "\n",
    "\n",
    "\n",
    "\n",
    "    newDea = np.add(prevDea,curDea).astype(float)\n",
    "    newAdm = np.add(prevAdm,curAdm).astype(float)\n",
    "    newInt = np.add(prevInt,curInt).astype(float)\n",
    "\n",
    "\n",
    "    # curAx1.plot(plotDates,curAdm,label=colNames[curCol])\n",
    "    # curAx2.plot(plotDates,curInt,label=colNames[curCol])\n",
    "    # curAx3.plot(plotDates,curDea,label=colNames[curCol])\n",
    "    # curAx1.fill_between(plotDates,curAdm,prevAdm,label=colNames[curCol])\n",
    "    # curAx2.fill_between(plotDates,curInt,prevInt,label=colNames[curCol])\n",
    "    # curAx3.fill_between(plotDates,curDea,prevDea,label=colNames[curCol])\n",
    "    \n",
    "    curAx1.fill_between(plotDates,newAdm,prevAdm,label=colNames[curCol])\n",
    "    curAx2.fill_between(plotDates,newInt,prevInt,label=colNames[curCol])\n",
    "    curAx3.fill_between(plotDates,newDea,prevDea,label=colNames[curCol])\n",
    "    # curAx1.fill_between(plotDates,curAdm.tolist(),prevAdm,label=colNames[curCol])\n",
    "    # curAx2.fill_between(plotDates,curInt.tolist(),prevInt,label=colNames[curCol])\n",
    "    # curAx3.fill_between(plotDates,curDea.tolist(),prevDea,label=colNames[curCol])\n",
    "    \n",
    "    prevDea = newDea\n",
    "    prevAdm = newAdm\n",
    "    prevInt = newInt\n",
    "\n",
    "    \n",
    "curAx1.set_ylim(bottom=0)\n",
    "curAx2.set_ylim(bottom=0)\n",
    "curAx3.set_ylim(bottom=0)\n",
    "\n",
    "curAx2.legend(loc='center left',bbox_to_anchor = (1.0, 0.5))\n",
    "# allAxes[4].legend(lns,labs,loc='center left',bbox_to_anchor = (1.05, 0.5))\n",
    "\n",
    "    \n",
    "curAx1.set_xlim([plotDates[0],plotDates[-1]])\n",
    "curAx1.set_xticks(plotDates)\n",
    "curAx1.xaxis.set_major_formatter(mdates.DateFormatter('%d\\n%b'))\n",
    "\n",
    "\n",
    "allAxes[0].set_title('Indlæggelser')\n",
    "allAxes[1].set_title('Intensiv')\n",
    "allAxes[2].set_title('Dødsfald')\n",
    "\n",
    "plt.tight_layout()\n",
    "\n",
    "# if saveFigures:\n",
    "#     plt.savefig('figs/AgeDist_AllData_Zoom')"
   ],
   "outputs": [
    {
     "output_type": "display_data",
     "data": {
      "text/plain": [
       "Canvas(toolbar=Toolbar(toolitems=[('Home', 'Reset original view', 'home', 'home'), ('Back', 'Back to previous …"
      ],
      "application/vnd.jupyter.widget-view+json": {
       "version_major": 2,
       "version_minor": 0,
       "model_id": "37ae287a0e3f4169aff3efb3b1564ead"
      }
     },
     "metadata": {}
    }
   ],
   "metadata": {}
  },
  {
   "cell_type": "code",
   "execution_count": 37,
   "source": [
    "plt.figure()\n",
    "colNames = dfAdm.columns\n",
    "\n",
    "plotDates = curDates[1:]\n",
    "\n",
    "prevDea = np.zeros((len(curDates)-1,))\n",
    "prevAdm = np.zeros((len(curDates)-1,))\n",
    "prevInt = np.zeros((len(curDates)-1,))\n",
    "\n",
    "for curCol in range(0,numCols-1):\n",
    "\n",
    "    curPopSize = DK_age[curCol]\n",
    "\n",
    "    curAx1 = allAxes[0]\n",
    "    curAx2 = allAxes[1]\n",
    "    curAx3 = allAxes[2]\n",
    "    \n",
    "    \n",
    "    curDea = 10000 * np.divide(np.diff(dfDeaths.iloc[:,curCol].values),curPopSize)\n",
    "    curAdm = 10000 * np.divide(np.diff(dfAdm.iloc[:,curCol].values),curPopSize)\n",
    "    curInt = 10000 * np.divide(np.diff(dfInt.iloc[:,curCol].values),curPopSize)\n",
    "\n",
    "    newDea = np.add(prevDea,curDea).astype(float)\n",
    "\n",
    "    # plt.plot(plotDates,newDea)\n",
    "    plt.fill_between(plotDates,newDea,prevDea)\n",
    "\n",
    "    prevDea = newDea\n",
    "\n",
    "    # print(prevDea)"
   ],
   "outputs": [
    {
     "output_type": "display_data",
     "data": {
      "text/plain": [
       "Canvas(toolbar=Toolbar(toolitems=[('Home', 'Reset original view', 'home', 'home'), ('Back', 'Back to previous …"
      ],
      "application/vnd.jupyter.widget-view+json": {
       "version_major": 2,
       "version_minor": 0,
       "model_id": "9a89098f0ebc4fbdab28ee2dcc3129d3"
      }
     },
     "metadata": {}
    }
   ],
   "metadata": {}
  },
  {
   "cell_type": "code",
   "execution_count": 38,
   "source": [
    "\n",
    "# fig,allAxes = plt.subplots(1,1,sharex=True)\n",
    "fig,ax1 = plt.subplots(1,1)\n",
    "# fig,allAxes = plt.subplots(numCols-1,3,sharex=True,figsize=(14,20))\n",
    "\n",
    "colNames = dfCase.columns\n",
    "\n",
    "firstDataPoint = 0\n",
    "\n",
    "plotDates = curDates[firstDataPoint+1:]\n",
    "# plotDates = curDates[1:]\n",
    "\n",
    "prevCase = np.zeros(plotDates.shape)\n",
    "\n",
    "for curCol in range(0,numCols-1):\n",
    "\n",
    "    curPopSize = DK_age[curCol]\n",
    "\n",
    "    curCase = np.diff(dfCase.iloc[firstDataPoint:,curCol].values)\n",
    "\n",
    "    newCase = np.add(prevCase,curCase).astype(float)\n",
    "    \n",
    "    ax1.fill_between(plotDates,newCase,prevCase,label=colNames[curCol])\n",
    "    \n",
    "    prevCase = newCase\n",
    "\n",
    "    \n",
    "ax1.set_ylim(bottom=0)\n",
    "\n",
    "ax1.legend(loc='center left',bbox_to_anchor = (1.0, 0.5))\n",
    "\n",
    "    \n",
    "ax1.set_xlim([plotDates[0],plotDates[-1]])\n",
    "ax1.set_xticks(plotDates)\n",
    "ax1.xaxis.set_major_formatter(mdates.DateFormatter('%d\\n%b'))\n",
    "\n",
    "\n",
    "ax1.set_title('Tilfælde')\n",
    "\n",
    "plt.tight_layout()\n"
   ],
   "outputs": [
    {
     "output_type": "display_data",
     "data": {
      "text/plain": [
       "Canvas(toolbar=Toolbar(toolitems=[('Home', 'Reset original view', 'home', 'home'), ('Back', 'Back to previous …"
      ],
      "application/vnd.jupyter.widget-view+json": {
       "version_major": 2,
       "version_minor": 0,
       "model_id": "0f30be0d577041139bf6653a3375e58d"
      }
     },
     "metadata": {}
    }
   ],
   "metadata": {}
  },
  {
   "cell_type": "code",
   "execution_count": 39,
   "source": [
    "\n",
    "# fig,allAxes = plt.subplots(1,1,sharex=True)\n",
    "fig,ax1 = plt.subplots(1,1)\n",
    "# fig,allAxes = plt.subplots(numCols-1,3,sharex=True,figsize=(14,20))\n",
    "\n",
    "colNames = dfCase.columns\n",
    "\n",
    "firstDataPoint = 13\n",
    "\n",
    "plotDates = curDates[firstDataPoint+1:]\n",
    "# plotDates = curDates[1:]\n",
    "\n",
    "prevCase = np.zeros(plotDates.shape)\n",
    "\n",
    "for curCol in range(0,numCols-1):\n",
    "\n",
    "    curPopSize = DK_age[curCol]\n",
    "\n",
    "    # curCase = np.diff(dfCase.iloc[firstDataPoint:,curCol].values)\n",
    "    curCase = 1000 * np.divide(np.diff(dfCase.iloc[firstDataPoint:,curCol].values),curPopSize)\n",
    "\n",
    "    newCase = np.add(prevCase,curCase).astype(float)\n",
    "    \n",
    "    ax1.fill_between(plotDates,newCase,prevCase,label=colNames[curCol])\n",
    "    \n",
    "    prevCase = newCase\n",
    "\n",
    "    \n",
    "ax1.set_ylim(bottom=0)\n",
    "\n",
    "ax1.legend(loc='center left',bbox_to_anchor = (1.0, 0.5))\n",
    "\n",
    "    \n",
    "ax1.set_xlim([plotDates[0],plotDates[-1]])\n",
    "ax1.set_xticks(plotDates)\n",
    "ax1.xaxis.set_major_formatter(mdates.DateFormatter('%d\\n%b'))\n",
    "\n",
    "\n",
    "ax1.set_title('Tilfælde, per 1.000')\n",
    "\n",
    "plt.tight_layout()\n",
    "\n",
    "# if saveFigures:\n",
    "#     plt.savefig('figs/AgeDist_AllData_Zoom')"
   ],
   "outputs": [
    {
     "output_type": "display_data",
     "data": {
      "text/plain": [
       "Canvas(toolbar=Toolbar(toolitems=[('Home', 'Reset original view', 'home', 'home'), ('Back', 'Back to previous …"
      ],
      "application/vnd.jupyter.widget-view+json": {
       "version_major": 2,
       "version_minor": 0,
       "model_id": "bab52c4db17241f7aa7e80dc1bcced29"
      }
     },
     "metadata": {}
    }
   ],
   "metadata": {}
  },
  {
   "cell_type": "code",
   "execution_count": null,
   "source": [],
   "outputs": [],
   "metadata": {}
  }
 ],
 "metadata": {
  "interpreter": {
   "hash": "c031fd63bd977d199cd6020c30a19695eacbb638d100e0b8a5ea53080ed74a9a"
  },
  "kernelspec": {
   "name": "python3",
   "display_name": "Python 3.8.8 64-bit ('main': conda)"
  },
  "language_info": {
   "codemirror_mode": {
    "name": "ipython",
    "version": 3
   },
   "file_extension": ".py",
   "mimetype": "text/x-python",
   "name": "python",
   "nbconvert_exporter": "python",
   "pygments_lexer": "ipython3",
   "version": "3.8.8"
  },
  "orig_nbformat": 2
 },
 "nbformat": 4,
 "nbformat_minor": 2
}