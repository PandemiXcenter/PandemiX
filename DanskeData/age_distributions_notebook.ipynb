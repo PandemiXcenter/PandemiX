{
 "metadata": {
  "language_info": {
   "codemirror_mode": {
    "name": "ipython",
    "version": 3
   },
   "file_extension": ".py",
   "mimetype": "text/x-python",
   "name": "python",
   "nbconvert_exporter": "python",
   "pygments_lexer": "ipython3",
   "version": "3.8.5"
  },
  "orig_nbformat": 2,
  "kernelspec": {
   "name": "python385jvsc74a57bd0c72cdf52cb3d31f207bca538e9396da8706c0ecf4a3038fb1c2b317934170431",
   "display_name": "Python 3.8.5 64-bit ('main': conda)"
  }
 },
 "nbformat": 4,
 "nbformat_minor": 2,
 "cells": [
  {
   "cell_type": "code",
   "execution_count": 1,
   "metadata": {},
   "outputs": [
    {
     "output_type": "stream",
     "name": "stdout",
     "text": [
      "saveFigures is set to: True\nDone loading packages\n"
     ]
    }
   ],
   "source": [
    "# Main notebook for playing around looking at different things in data\n",
    "import numpy as np\n",
    "import pandas as pd\n",
    "pd.set_option('display.max_rows', 500)\n",
    "pd.set_option('display.min_rows', 50)\n",
    "import seaborn as sns\n",
    "\n",
    "\n",
    "import matplotlib.pyplot as plt\n",
    "%matplotlib widget\n",
    "plt.rcParams['figure.figsize'] = (12,8)\n",
    "# plt.rcParams[\"image.cmap\"] = \"Dark2\"\n",
    "# plt.rcParams['axes.prop_cycle'] = plt.cycler(color=plt.cm.Dark2.colors)\n",
    "plt.rcParams[\"image.cmap\"] = \"tab10\"\n",
    "plt.rcParams['axes.prop_cycle'] = plt.cycler(color=plt.cm.tab10.colors)\n",
    "plt.rcParams['lines.markersize'] = 10\n",
    "plt.rcParams['lines.linewidth'] = 3\n",
    "%matplotlib widget\n",
    "# plt.style.use('ggplot')\n",
    "import matplotlib.colors as colors\n",
    "# cmap = plt.cm.get_cmap('Dark2',len(ageGroups))\n",
    "from matplotlib import cm # Colormaps\n",
    "\n",
    "import locale\n",
    "import matplotlib.dates as mdates\n",
    "locale.setlocale(locale.LC_TIME,\"Danish\")\n",
    "# ax = plt.gca()\n",
    "# ax1.xaxis.set_major_formatter(mdates.DateFormatter('%b\\n%Y'))\n",
    "# # ax.xaxis.set_major_formatter(mdates.DateFormatter('%Y \\n %B'))\n",
    "\n",
    "import os\n",
    "# import csv\n",
    "import math\n",
    "\n",
    "\n",
    "from datetime import date\n",
    "\n",
    "\n",
    "saveFigures = True\n",
    "# saveFigures = False\n",
    "print('saveFigures is set to: '+str(saveFigures))\n",
    "\n",
    "print('Done loading packages')\n",
    "\n",
    "def rnMean(data,meanWidth):\n",
    "    return np.convolve(data, np.ones(meanWidth)/meanWidth, mode='valid')\n",
    "def rnTime(t,meanWidth):\n",
    "    return t[math.floor(meanWidth/2):-math.ceil(meanWidth/2)+1]\n"
   ]
  },
  {
   "source": [
    "# Deaths"
   ],
   "cell_type": "markdown",
   "metadata": {}
  },
  {
   "cell_type": "code",
   "execution_count": 2,
   "metadata": {},
   "outputs": [],
   "source": [
    "dfDeaths = pd.read_excel('DeathsAgeDK\\Deaths.xlsx')\n",
    "dfDeaths = dfDeaths.transpose()\n",
    "dfDeaths.columns = dfDeaths.iloc[0]\n",
    "dfDeaths = dfDeaths.drop(['Aldersgruppe']) \n",
    "curDates =  pd.to_datetime(dfDeaths.index,format='%d_%m_%Y')"
   ]
  },
  {
   "cell_type": "code",
   "execution_count": 3,
   "metadata": {},
   "outputs": [],
   "source": [
    "# dfDeaths.diff().iloc[1:,:-1]"
   ]
  },
  {
   "cell_type": "code",
   "execution_count": 4,
   "metadata": {},
   "outputs": [],
   "source": [
    "deathVals = dfDeaths.diff().iloc[1:,:-1].values.astype('int64')\n",
    "deathVals = np.transpose(deathVals)"
   ]
  },
  {
   "cell_type": "code",
   "execution_count": 5,
   "metadata": {},
   "outputs": [
    {
     "output_type": "display_data",
     "data": {
      "text/plain": "Canvas(toolbar=Toolbar(toolitems=[('Home', 'Reset original view', 'home', 'home'), ('Back', 'Back to previous …",
      "application/vnd.jupyter.widget-view+json": {
       "version_major": 2,
       "version_minor": 0,
       "model_id": "374176b2b3de4752bd918fd8725b3cea"
      }
     },
     "metadata": {}
    }
   ],
   "source": [
    "plt.figure()\n",
    "\n",
    "g = sns.heatmap(deathVals,annot=True,cmap='turbo',xticklabels=curDates.strftime('%d-%b')[1:],yticklabels=dfDeaths.columns[:-1])\n",
    "g.invert_yaxis()\n",
    "# np.isnan(np.transpose(deathVals))\n",
    "\n",
    "plt.title('Dødsfald')\n",
    "plt.tight_layout()\n",
    "\n",
    "if saveFigures:\n",
    "    plt.savefig('figs/DeathsHeatmap')"
   ]
  },
  {
   "source": [
    "# Indlagte"
   ],
   "cell_type": "markdown",
   "metadata": {}
  },
  {
   "cell_type": "code",
   "execution_count": 6,
   "metadata": {},
   "outputs": [],
   "source": [
    "dfAdm = pd.read_excel('Admitted\\Admitted.xlsx')\n",
    "dfAdm = dfAdm.transpose()\n",
    "dfAdm.columns = dfAdm.iloc[0]\n",
    "dfAdm = dfAdm.drop(['Aldersgruppe']) \n",
    "curDatesAdm =  pd.to_datetime(dfAdm.index,format='%d_%m_%Y')"
   ]
  },
  {
   "cell_type": "code",
   "execution_count": 7,
   "metadata": {},
   "outputs": [],
   "source": [
    "admVals = dfAdm.diff().iloc[1:,:-1].values.astype('int64')\n",
    "admVals = np.transpose(admVals)"
   ]
  },
  {
   "cell_type": "code",
   "execution_count": 8,
   "metadata": {},
   "outputs": [
    {
     "output_type": "display_data",
     "data": {
      "text/plain": "Canvas(toolbar=Toolbar(toolitems=[('Home', 'Reset original view', 'home', 'home'), ('Back', 'Back to previous …",
      "application/vnd.jupyter.widget-view+json": {
       "version_major": 2,
       "version_minor": 0,
       "model_id": "c3da32001ae442e3b63a5a47b9a6ae33"
      }
     },
     "metadata": {}
    }
   ],
   "source": [
    "plt.figure()\n",
    "\n",
    "g = sns.heatmap(admVals,annot=True,fmt=\"3\",cmap='turbo',xticklabels=curDatesAdm.strftime('%d-%b')[1:],yticklabels=dfAdm.columns[:-1])\n",
    "g.invert_yaxis()\n",
    "\n",
    "plt.title('Nyindlæggelser')\n",
    "plt.tight_layout()\n",
    "\n",
    "if saveFigures:\n",
    "    plt.savefig('figs/AdmittedHeatmap')"
   ]
  },
  {
   "source": [
    "# Intensiv "
   ],
   "cell_type": "markdown",
   "metadata": {}
  },
  {
   "cell_type": "code",
   "execution_count": 9,
   "metadata": {},
   "outputs": [],
   "source": [
    "dfInt = pd.read_excel('Admitted\\Intensiv.xlsx')\n",
    "dfInt = dfInt.transpose()\n",
    "dfInt.columns = dfInt.iloc[0]\n",
    "dfInt = dfInt.drop(['Aldersgruppe']) \n",
    "curDatesInt =  pd.to_datetime(dfInt.index,format='%d_%m_%Y')"
   ]
  },
  {
   "cell_type": "code",
   "execution_count": 10,
   "metadata": {},
   "outputs": [],
   "source": [
    "intVals = dfInt.diff().iloc[1:,:-1].values.astype('int64')\n",
    "intVals = np.transpose(intVals)"
   ]
  },
  {
   "cell_type": "code",
   "execution_count": 11,
   "metadata": {},
   "outputs": [
    {
     "output_type": "display_data",
     "data": {
      "text/plain": "Canvas(toolbar=Toolbar(toolitems=[('Home', 'Reset original view', 'home', 'home'), ('Back', 'Back to previous …",
      "application/vnd.jupyter.widget-view+json": {
       "version_major": 2,
       "version_minor": 0,
       "model_id": "58e4519102de4c12bfcd29c4da0ecbf1"
      }
     },
     "metadata": {}
    }
   ],
   "source": [
    "plt.figure()\n",
    "\n",
    "g = sns.heatmap(intVals,annot=True,fmt=\"3\",cmap='turbo',xticklabels=curDatesInt.strftime('%d-%b')[1:],yticklabels=dfInt.columns[:-1])\n",
    "g.invert_yaxis()\n",
    "\n",
    "plt.title('Intensiv')\n",
    "plt.tight_layout()\n",
    "\n",
    "if saveFigures:\n",
    "    plt.savefig('figs/IntensivHeatmap')"
   ]
  },
  {
   "source": [
    "# Across the same age"
   ],
   "cell_type": "markdown",
   "metadata": {}
  },
  {
   "cell_type": "code",
   "execution_count": 26,
   "metadata": {},
   "outputs": [
    {
     "output_type": "execute_result",
     "data": {
      "text/plain": [
       "Index(['0-9', '10-19', '20-29', '30-39', '40-49', '50-59', '60-69', '70-79',\n",
       "       '80-89', '90+', 'I alt'],\n",
       "      dtype='object', name='Aldersgruppe')"
      ]
     },
     "metadata": {},
     "execution_count": 26
    }
   ],
   "source": [
    "numCols = len(dfAdm.columns)\n",
    "dfAdm.columns"
   ]
  },
  {
   "cell_type": "code",
   "execution_count": 48,
   "metadata": {},
   "outputs": [
    {
     "output_type": "display_data",
     "data": {
      "text/plain": "Canvas(toolbar=Toolbar(toolitems=[('Home', 'Reset original view', 'home', 'home'), ('Back', 'Back to previous …",
      "application/vnd.jupyter.widget-view+json": {
       "version_major": 2,
       "version_minor": 0,
       "model_id": "b4ed6d0c9eca49ecbee2458444543c75"
      }
     },
     "metadata": {}
    }
   ],
   "source": [
    "\n",
    "# fig,ax1 = plt.subplots(1,1)\n",
    "fig,allAxes = plt.subplots(numCols-1,1,sharex=True,figsize=(14,20))\n",
    "\n",
    "colNames = dfAdm.columns\n",
    "for curCol in range(0,numCols-1):\n",
    "\n",
    "    curAx = allAxes[numCols-2-curCol]\n",
    "    curAx.set_title(colNames[curCol])\n",
    "    \n",
    "    curDea = np.diff(dfDeaths.iloc[:,curCol].values)\n",
    "    curAdm = np.diff(dfAdm.iloc[:,curCol].values)\n",
    "    curInt = np.diff(dfInt.iloc[:,curCol].values)\n",
    "\n",
    "    plotDates = curDates[1:]\n",
    "    lns1 = curAx.plot(plotDates,curAdm,'b:',label='Indlæggelser')\n",
    "    # curAx.plot(plotDates,curInt,label='Intensiv')\n",
    "    # curAx.plot(plotDates,curDea,label='Dødsfald')\n",
    "    curAx2 = curAx.twinx()\n",
    "    lns2 = curAx.plot(plotDates,curInt,'k--',label='Intensiv')\n",
    "    lns3 = curAx2.plot(plotDates,curDea,'r',label='Dødsfald')\n",
    "    \n",
    "    lns = lns1+lns2+lns3\n",
    "    labs = [l.get_label() for l in lns]\n",
    "        \n",
    "    curAx.set_ylim(bottom=0)\n",
    "    curAx2.set_ylim(bottom=0)\n",
    "\n",
    "# allAxes[4].legend(loc='center left',bbox_to_anchor = (1.0, 0.5))\n",
    "allAxes[4].legend(lns,labs,loc='center left',bbox_to_anchor = (1.05, 0.5))\n",
    "\n",
    "curAx.set_xlim([curDates[1],curDates[-1]])\n",
    "\n",
    "plt.tight_layout()"
   ]
  },
  {
   "cell_type": "code",
   "execution_count": 54,
   "metadata": {},
   "outputs": [
    {
     "output_type": "execute_result",
     "data": {
      "text/plain": [
       "<AxesSubplot:>"
      ]
     },
     "metadata": {},
     "execution_count": 54
    }
   ],
   "source": []
  },
  {
   "cell_type": "code",
   "execution_count": 77,
   "metadata": {},
   "outputs": [
    {
     "output_type": "display_data",
     "data": {
      "text/plain": "Canvas(toolbar=Toolbar(toolitems=[('Home', 'Reset original view', 'home', 'home'), ('Back', 'Back to previous …",
      "application/vnd.jupyter.widget-view+json": {
       "version_major": 2,
       "version_minor": 0,
       "model_id": "0cefb8d5d37e4dab910f052631886085"
      }
     },
     "metadata": {}
    }
   ],
   "source": [
    "\n",
    "# fig,ax1 = plt.subplots(1,1)\n",
    "fig,allAxes = plt.subplots(numCols-1,3,sharex=True,figsize=(14,20))\n",
    "\n",
    "colNames = dfAdm.columns\n",
    "for curCol in range(0,numCols-1):\n",
    "\n",
    "    # curAx1 = allAxes[(numCols-2-curCol) * 3]\n",
    "    # curAx2 = allAxes[(numCols-2-curCol) * 3 + 1]\n",
    "    # curAx3 = allAxes[(numCols-2-curCol) * 3 + 2]\n",
    "    curAx1 = allAxes[numCols-2-curCol,0]\n",
    "    curAx2 = allAxes[numCols-2-curCol,1]\n",
    "    curAx3 = allAxes[numCols-2-curCol,2]\n",
    "    \n",
    "    curAx1.set_ylabel(colNames[curCol])\n",
    "    \n",
    "    curDea = np.diff(dfDeaths.iloc[:,curCol].values)\n",
    "    curAdm = np.diff(dfAdm.iloc[:,curCol].values)\n",
    "    curInt = np.diff(dfInt.iloc[:,curCol].values)\n",
    "\n",
    "    plotDates = curDates[1:]\n",
    "    curAx1.plot(plotDates,curAdm,'b:',label='Indlæggelser')\n",
    "    # curAx.plot(plotDates,curInt,label='Intensiv')\n",
    "    # curAx.plot(plotDates,curDea,label='Dødsfald')\n",
    "    curAx2.plot(plotDates,curInt,'k--',label='Intensiv')\n",
    "    curAx3.plot(plotDates,curDea,'r',label='Dødsfald')\n",
    "    \n",
    "        \n",
    "    curAx1.set_ylim(bottom=0)\n",
    "    curAx2.set_ylim(bottom=0)\n",
    "    curAx3.set_ylim(bottom=0)\n",
    "\n",
    "# allAxes[4].legend(loc='center left',bbox_to_anchor = (1.0, 0.5))\n",
    "# allAxes[4].legend(lns,labs,loc='center left',bbox_to_anchor = (1.05, 0.5))\n",
    "\n",
    "    \n",
    "curAx1.set_xlim([curDates[0],curDates[-1]])\n",
    "curAx1.set_xticks(curDates[::3])\n",
    "curAx1.xaxis.set_major_formatter(mdates.DateFormatter('%d\\n%b'))\n",
    "\n",
    "allAxes[0,0].set_title('Indlæggelser')\n",
    "allAxes[0,1].set_title('Intensiv')\n",
    "allAxes[0,2].set_title('Dødsfald')\n",
    "\n",
    "plt.tight_layout()\n",
    "\n",
    "if saveFigures:\n",
    "    plt.savefig('figs/AgeDist_AllData')"
   ]
  },
  {
   "cell_type": "code",
   "execution_count": 79,
   "metadata": {},
   "outputs": [
    {
     "output_type": "display_data",
     "data": {
      "text/plain": "Canvas(toolbar=Toolbar(toolitems=[('Home', 'Reset original view', 'home', 'home'), ('Back', 'Back to previous …",
      "application/vnd.jupyter.widget-view+json": {
       "version_major": 2,
       "version_minor": 0,
       "model_id": "4b720121197945e68597f98d7544cc84"
      }
     },
     "metadata": {}
    }
   ],
   "source": [
    "\n",
    "# fig,ax1 = plt.subplots(1,1)\n",
    "fig,allAxes = plt.subplots(numCols-1,3,sharex=True,figsize=(14,20))\n",
    "\n",
    "colNames = dfAdm.columns\n",
    "for curCol in range(0,numCols-1):\n",
    "\n",
    "    # curAx1 = allAxes[(numCols-2-curCol) * 3]\n",
    "    # curAx2 = allAxes[(numCols-2-curCol) * 3 + 1]\n",
    "    # curAx3 = allAxes[(numCols-2-curCol) * 3 + 2]\n",
    "    curAx1 = allAxes[numCols-2-curCol,0]\n",
    "    curAx2 = allAxes[numCols-2-curCol,1]\n",
    "    curAx3 = allAxes[numCols-2-curCol,2]\n",
    "    \n",
    "    curAx1.set_ylabel(colNames[curCol])\n",
    "    \n",
    "    curDea = np.diff(dfDeaths.iloc[:,curCol].values)\n",
    "    curAdm = np.diff(dfAdm.iloc[:,curCol].values)\n",
    "    curInt = np.diff(dfInt.iloc[:,curCol].values)\n",
    "\n",
    "    plotDates = curDates[1:]\n",
    "\n",
    "    plotDates = plotDates[13:]\n",
    "    curDea = curDea[13:]\n",
    "    curAdm = curAdm[13:]\n",
    "    curInt = curInt[13:]\n",
    "\n",
    "\n",
    "    curAx1.plot(plotDates,curAdm,'b:',label='Indlæggelser')\n",
    "    # curAx.plot(plotDates,curInt,label='Intensiv')\n",
    "    # curAx.plot(plotDates,curDea,label='Dødsfald')\n",
    "    curAx2.plot(plotDates,curInt,'k--',label='Intensiv')\n",
    "    curAx3.plot(plotDates,curDea,'r',label='Dødsfald')\n",
    "    \n",
    "        \n",
    "    curAx1.set_ylim(bottom=0)\n",
    "    curAx2.set_ylim(bottom=0)\n",
    "    curAx3.set_ylim(bottom=0)\n",
    "\n",
    "# allAxes[4].legend(loc='center left',bbox_to_anchor = (1.0, 0.5))\n",
    "# allAxes[4].legend(lns,labs,loc='center left',bbox_to_anchor = (1.05, 0.5))\n",
    "\n",
    "    \n",
    "curAx1.set_xlim([plotDates[0],plotDates[-1]])\n",
    "curAx1.set_xticks(plotDates)\n",
    "curAx1.xaxis.set_major_formatter(mdates.DateFormatter('%d\\n%b'))\n",
    "\n",
    "allAxes[0,0].set_title('Indlæggelser')\n",
    "allAxes[0,1].set_title('Intensiv')\n",
    "allAxes[0,2].set_title('Dødsfald')\n",
    "\n",
    "plt.tight_layout()\n",
    "\n",
    "if saveFigures:\n",
    "    plt.savefig('figs/AgeDist_AllData_Zoom')"
   ]
  },
  {
   "cell_type": "code",
   "execution_count": null,
   "metadata": {},
   "outputs": [],
   "source": [
    "\n",
    "\n",
    "# curDea = dfDeaths.iloc[:,curCol].values\n",
    "# curAdm = dfAdm.iloc[:,curCol].values\n",
    "# curInt = dfInt.iloc[:,curCol].values\n",
    "\n",
    "# ax1.plot(curDates,curAdm)\n",
    "# ax1.plot(curDates,curInt)\n",
    "# ax1.plot(curDates,curDea)\n",
    "\n",
    "curDea = np.diff(dfDeaths.iloc[:,curCol].values)\n",
    "curAdm = np.diff(dfAdm.iloc[:,curCol].values)\n",
    "curInt = np.diff(dfInt.iloc[:,curCol].values)\n",
    "\n",
    "plotDates = curDates[1:]\n",
    "ax1.plot(plotDates,curAdm)\n",
    "ax1.plot(plotDates,curInt)\n",
    "ax1.plot(plotDates,curDea)"
   ]
  }
 ]
}