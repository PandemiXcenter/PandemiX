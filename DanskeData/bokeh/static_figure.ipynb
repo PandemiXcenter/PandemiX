{
 "metadata": {
  "language_info": {
   "codemirror_mode": {
    "name": "ipython",
    "version": 3
   },
   "file_extension": ".py",
   "mimetype": "text/x-python",
   "name": "python",
   "nbconvert_exporter": "python",
   "pygments_lexer": "ipython3",
   "version": "3.8.8"
  },
  "orig_nbformat": 2,
  "kernelspec": {
   "name": "python388jvsc74a57bd0c031fd63bd977d199cd6020c30a19695eacbb638d100e0b8a5ea53080ed74a9a",
   "display_name": "Python 3.8.8 64-bit ('main': conda)"
  }
 },
 "nbformat": 4,
 "nbformat_minor": 2,
 "cells": [
  {
   "cell_type": "code",
   "execution_count": 22,
   "metadata": {},
   "outputs": [
    {
     "output_type": "stream",
     "name": "stdout",
     "text": [
      "saveFigures is set to: True\nDone loading packages\n"
     ]
    }
   ],
   "source": [
    "# Notebook for \n",
    "import numpy as np\n",
    "import pandas as pd\n",
    "pd.set_option('display.max_rows', 500)\n",
    "pd.set_option('display.min_rows', 50)\n",
    "import seaborn as sns\n",
    "\n",
    "\n",
    "import matplotlib.pyplot as plt\n",
    "%matplotlib widget\n",
    "plt.rcParams['figure.figsize'] = (12,8)\n",
    "# plt.rcParams[\"image.cmap\"] = \"Dark2\"\n",
    "# plt.rcParams['axes.prop_cycle'] = plt.cycler(color=plt.cm.Dark2.colors)\n",
    "plt.rcParams[\"image.cmap\"] = \"tab10\"\n",
    "plt.rcParams['axes.prop_cycle'] = plt.cycler(color=plt.cm.tab10.colors)\n",
    "fs_label = 24\n",
    "parameters = {\n",
    "                'axes.labelsize': fs_label,\n",
    "                'axes.titlesize': fs_label+4,\n",
    "                'xtick.labelsize': fs_label,\n",
    "                'ytick.labelsize': fs_label, \n",
    "                'legend.fontsize': fs_label, \n",
    "                'lines.markersize': 10,\n",
    "                'lines.linewidth': 3\n",
    "             }\n",
    "plt.rcParams.update(parameters)\n",
    "%matplotlib widget\n",
    "# plt.style.use('ggplot')\n",
    "import matplotlib.colors as colors\n",
    "# cmap = plt.cm.get_cmap('Dark2',len(ageGroups))\n",
    "from matplotlib import cm # Colormaps\n",
    "\n",
    "import locale\n",
    "import matplotlib.dates as mdates\n",
    "locale.setlocale(locale.LC_TIME,\"Danish\")\n",
    "# ax = plt.gca()\n",
    "# ax1.xaxis.set_major_formatter(mdates.DateFormatter('%b\\n%Y'))\n",
    "# # ax.xaxis.set_major_formatter(mdates.DateFormatter('%Y \\n %B'))\n",
    "\n",
    "import os\n",
    "# import csv\n",
    "import math\n",
    "\n",
    "\n",
    "from datetime import date\n",
    "\n",
    "\n",
    "saveFigures = True\n",
    "# saveFigures = False\n",
    "print('saveFigures is set to: '+str(saveFigures))\n",
    "\n",
    "print('Done loading packages')\n",
    "\n",
    "def rnMean(data,meanWidth):\n",
    "    return np.convolve(data, np.ones(meanWidth)/meanWidth, mode='valid')\n",
    "def rnTime(t,meanWidth):\n",
    "    return t[math.floor(meanWidth/2):-math.ceil(meanWidth/2)+1]\n",
    "def rnTime2(t,meanWidth):\n",
    "    return t[math.floor(meanWidth)-1:]"
   ]
  },
  {
   "cell_type": "code",
   "execution_count": 18,
   "metadata": {},
   "outputs": [],
   "source": [
    "ssidatapath = \"ssi_data\"\n",
    "rootdir = os.getcwd()[:-5] + ssidatapath\n",
    "dfAdm = pd.read_excel('..\\Admitted\\Admitted.xlsx')\n",
    "dfAdm = dfAdm.transpose()\n",
    "dfAdm.columns = dfAdm.iloc[0]\n",
    "dfAdm = dfAdm.drop(['Aldersgruppe']) \n",
    "curDates =  pd.to_datetime(dfAdm.index,format='%d_%m_%Y')\n",
    "diffDates = curDates[1:]\n",
    "dfCase = pd.DataFrame(columns=dfAdm.columns)"
   ]
  },
  {
   "cell_type": "code",
   "execution_count": 19,
   "metadata": {},
   "outputs": [],
   "source": [
    "for k in range(0,len(curDates)):\n",
    "    d = curDates[k]\n",
    "    curIndex = dfAdm.index[k]\n",
    "\n",
    "    thisDateStr = d.strftime('%Y-%m-%d')\n",
    "    curDir = rootdir + '/SSI_data_' + thisDateStr \n",
    "    curFilePath = curDir + '/Cases_by_age.csv'\n",
    "    casedatadf = pd.read_csv(curFilePath,delimiter=';',dtype=str)\n",
    "\n",
    "    casedatadf['Antal_bekræftede_COVID-19'] = pd.to_numeric(casedatadf['Antal_bekræftede_COVID-19'].astype(str).apply(lambda x: x.replace('.','')))\n",
    "\n",
    "    dfCase.loc[curIndex] = casedatadf['Antal_bekræftede_COVID-19'].values"
   ]
  },
  {
   "cell_type": "code",
   "execution_count": 20,
   "metadata": {},
   "outputs": [],
   "source": [
    "# Same things, but with cases\n",
    "dfCaseDiff = dfCase.diff().iloc[1:]\n",
    "\n",
    "dfCaseDiff['Dato'] = curDates[1:]\n",
    "\n",
    "# Bad hack to ignore 10-15 year olds!\n",
    "dfCaseDiff['10-19'] = np.multiply(dfCaseDiff['10-19'],0.4)\n",
    "\n",
    "dfCaseDiffSum = dfCaseDiff.iloc[:,1:-2].cumsum(axis=1)\n",
    "dfCaseDiffSum['Dato'] = curDates[1:]\n",
    "\n",
    "# dfCaseDiff = dfCaseDiff.iloc[:-1]\n",
    "# dfCaseDiffSum = dfCaseDiffSum.iloc[:-1]\n",
    "\n",
    "\n",
    "dfCaseDiffSum['I alt'] = dfCaseDiffSum['90+']\n",
    "# dfCaseDiffSum"
   ]
  },
  {
   "source": [
    "# Make figure"
   ],
   "cell_type": "markdown",
   "metadata": {}
  },
  {
   "cell_type": "code",
   "execution_count": 35,
   "metadata": {},
   "outputs": [
    {
     "output_type": "execute_result",
     "data": {
      "text/plain": [
       "array(['2021-05-11', '2021-05-18', '2021-05-25', '2021-06-01',\n",
       "       '2021-06-08', '2021-06-15', '2021-06-22', '2021-06-29'],\n",
       "      dtype='datetime64[D]')"
      ]
     },
     "metadata": {},
     "execution_count": 35
    }
   ],
   "source": [
    "\n",
    "meanWidth=5\n",
    "rnMeanData = rnMean(dfCaseDiffSum['I alt'],meanWidth)\n",
    "\n",
    "predDates = (diffDates[-1] + np.arange(np.timedelta64(-7*2,'D'),np.timedelta64(7*6,'D'),np.timedelta64(7,'D'))).astype('datetime64[D]')\n",
    "predDates\n",
    "# predVals"
   ]
  },
  {
   "cell_type": "code",
   "execution_count": 36,
   "metadata": {},
   "outputs": [
    {
     "output_type": "display_data",
     "data": {
      "text/plain": "Canvas(toolbar=Toolbar(toolitems=[('Home', 'Reset original view', 'home', 'home'), ('Back', 'Back to previous …",
      "application/vnd.jupyter.widget-view+json": {
       "version_major": 2,
       "version_minor": 0,
       "model_id": "c9796816c1e84bb3a777e0f98d9d39dd"
      }
     },
     "metadata": {}
    }
   ],
   "source": [
    "fig,ax1 = plt.subplots()\n",
    "\n",
    "ax1.plot(diffDates,dfCaseDiffSum['I alt'],'k.:',markersize=14,linewidth=0.5)\n",
    "ax1.plot(rnTime(diffDates,meanWidth),rnMeanData,'k',linewidth=4)\n",
    "\n",
    "\n",
    "\n",
    "\n",
    "right_side = ax1.spines[\"right\"]\n",
    "right_side.set_visible(False)\n",
    "top_side = ax1.spines[\"top\"]\n",
    "top_side.set_visible(False)\n",
    "\n",
    "ax1.set_ylim([0,10000])\n",
    "ax1.set_xlim([np.datetime64('2021-03-01'),np.datetime64('2021-09-01')])\n",
    "\n",
    "ax1.set_ylabel('Nye smittetilfælde om ugen')\n",
    "\n",
    "plt.xticks(rotation=45)\n",
    "\n",
    "ax1.xaxis.set_major_formatter(mdates.DateFormatter('%B'))\n",
    "\n",
    "plt.tight_layout()"
   ]
  },
  {
   "cell_type": "code",
   "execution_count": null,
   "metadata": {},
   "outputs": [],
   "source": []
  }
 ]
}