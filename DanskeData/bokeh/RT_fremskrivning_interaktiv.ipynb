{
 "metadata": {
  "language_info": {
   "codemirror_mode": {
    "name": "ipython",
    "version": 3
   },
   "file_extension": ".py",
   "mimetype": "text/x-python",
   "name": "python",
   "nbconvert_exporter": "python",
   "pygments_lexer": "ipython3",
   "version": "3.8.8"
  },
  "orig_nbformat": 2,
  "kernelspec": {
   "name": "python388jvsc74a57bd0c031fd63bd977d199cd6020c30a19695eacbb638d100e0b8a5ea53080ed74a9a",
   "display_name": "Python 3.8.8 64-bit ('main': conda)"
  }
 },
 "nbformat": 4,
 "nbformat_minor": 2,
 "cells": [
  {
   "cell_type": "code",
   "execution_count": 43,
   "metadata": {},
   "outputs": [],
   "source": [
    "from bokeh.layouts import column\n",
    "from bokeh.models import CustomJS, ColumnDataSource, Slider\n",
    "from bokeh.io import output_file, show\n",
    "import pandas as pd\n",
    "import numpy as np\n",
    "\n",
    "from bokeh.plotting import figure\n",
    "\n",
    "import matplotlib.pyplot as plt\n",
    "%matplotlib widget\n",
    "plt.rcParams['figure.figsize'] = (14,10)\n",
    "plt.rcParams[\"image.cmap\"] = \"tab10\"\n",
    "plt.rcParams['axes.prop_cycle'] = plt.cycler(color=plt.cm.tab10.colors)\n",
    "#Settings for plotting\n",
    "fs_label = 16\n",
    "parameters = {\n",
    "                'axes.labelsize': fs_label,\n",
    "                'axes.titlesize': fs_label+4,\n",
    "                'xtick.labelsize': fs_label,\n",
    "                'ytick.labelsize': fs_label, \n",
    "                'legend.fontsize': fs_label, \n",
    "                'lines.markersize': 10,\n",
    "                'lines.linewidth': 3\n",
    "             }\n",
    "plt.rcParams.update(parameters)\n",
    "\n",
    "%matplotlib widget\n",
    "import matplotlib.colors as colors\n",
    "from matplotlib import cm # Colormaps"
   ]
  },
  {
   "cell_type": "code",
   "execution_count": 44,
   "metadata": {},
   "outputs": [],
   "source": [
    "datafilename = '../model_results_spread_prediction.csv'\n",
    "df = pd.read_csv(datafilename)"
   ]
  },
  {
   "cell_type": "code",
   "execution_count": 49,
   "metadata": {},
   "outputs": [],
   "source": [
    "df.End =  pd.to_datetime(df.End,format='%Y-%m-%d')"
   ]
  },
  {
   "cell_type": "code",
   "execution_count": 96,
   "metadata": {},
   "outputs": [
    {
     "output_type": "display_data",
     "data": {
      "text/plain": "Canvas(toolbar=Toolbar(toolitems=[('Home', 'Reset original view', 'home', 'home'), ('Back', 'Back to previous …",
      "application/vnd.jupyter.widget-view+json": {
       "version_major": 2,
       "version_minor": 0,
       "model_id": "656d0cb02ab74f0b9ce9967cbdac7997"
      }
     },
     "metadata": {}
    },
    {
     "output_type": "stream",
     "name": "stderr",
     "text": [
      "<ipython-input-96-a1811862037b>:42: MatplotlibDeprecationWarning: Since 3.2, the parameter *where* must have the same size as [18765.0 18772.0 18779.0 18786.0 18793.0 18800.0 18807.0 18814.0 18821.0\n 18828.0 18835.0 18842.0 18849.0 18856.0 18863.0 18870.0 18877.0 18884.0\n 18891.0 18898.0 18905.0] in fill_betweenx(). This will become an error two minor releases later.\n  ax2.fill_between(agedf.End[1:],np.divide(thisSum,sumVals),np.divide(prevSum,sumVals),'.-',label=curAge)\n<ipython-input-96-a1811862037b>:43: MatplotlibDeprecationWarning: Since 3.2, the parameter *where* must have the same size as [18765.0 18772.0 18779.0 18786.0 18793.0 18800.0 18807.0 18814.0 18821.0\n 18828.0 18835.0 18842.0 18849.0 18856.0 18863.0 18870.0 18877.0 18884.0\n 18891.0 18898.0 18905.0] in fill_betweenx(). This will become an error two minor releases later.\n  ax1.fill_between(agedf.End[1:],thisSum,prevSum,'.-',label=curAge)\n"
     ]
    }
   ],
   "source": [
    "# curdf = df[np.round(np.multiply(df.RT,10)) == 13]\n",
    "\n",
    "minRT = 9 \n",
    "maxRT = 17\n",
    "allRTs = np.arange(minRT,maxRT)\n",
    "\n",
    "curRT = 17\n",
    "curdf = df[np.round(np.multiply(df.RT,10)) == curRT] \n",
    "\n",
    "allAges = curdf.Age.unique()[:-1]\n",
    "\n",
    "\n",
    "fig,(ax1,ax2) = plt.subplots(2,1)\n",
    "\n",
    "\n",
    "\n",
    "agedf = curdf[curdf.Age == '10-19']\n",
    "allDates = agedf.End\n",
    "sumVals = np.zeros(agedf.Count[1:].shape)\n",
    "# sumVals\n",
    "\n",
    "for curAge in allAges:\n",
    "    agedf = curdf[curdf.Age == curAge]\n",
    "\n",
    "    # ax1.plot(agedf.End,agedf.HospCumul,'.-',label=curAge)\n",
    "    # ax1.plot(agedf.End[1:],np.diff(agedf.HospCumul),'.-',label=curAge)\n",
    "\n",
    "    sumVals = np.add(sumVals,np.diff(agedf.HospCumul))\n",
    "\n",
    "# ax1.plot(allDates[1:],sumVals,'k')\n",
    "\n",
    "\n",
    "thisSum = np.zeros(sumVals.shape)\n",
    "\n",
    "for curAge in allAges:\n",
    "    agedf = curdf[curdf.Age == curAge]\n",
    "\n",
    "    prevSum = thisSum\n",
    "    thisSum  = np.add(thisSum,np.diff(agedf.HospCumul))\n",
    "    # ax1.plot(agedf.End,agedf.HospCumul,'.-',label=curAge)\n",
    "    # ax2.plot(agedf.End[1:],np.divide(thisSum,sumVals),'.-',label=curAge)\n",
    "    ax2.fill_between(agedf.End[1:],np.divide(thisSum,sumVals),np.divide(prevSum,sumVals),'.-',label=curAge)\n",
    "    ax1.fill_between(agedf.End[1:],thisSum,prevSum,'.-',label=curAge)\n",
    "\n",
    "\n",
    "# plt.figure()\n",
    "# plt.plot(curdf.End,curdf.Count,'.')\n",
    "ax1.legend()\n",
    "ax2.legend()\n",
    "\n",
    "ax1.set_ylim(bottom=0)\n",
    "ax2.set_ylim(bottom=0)\n",
    "ax2.set_ylim([0,1])\n",
    "plt.tight_layout()\n",
    "\n",
    "plt.savefig('testStack'+str(curRT))"
   ]
  },
  {
   "cell_type": "code",
   "execution_count": null,
   "metadata": {},
   "outputs": [],
   "source": [
    "\n",
    "x = [x*0.005 for x in range(0, 201)]\n",
    "\n",
    "source = ColumnDataSource(data=dict(x=x, y=x))\n",
    "\n",
    "plot = figure(plot_width=400, plot_height=400)\n",
    "plot.line('x', 'y', source=source, line_width=3, line_alpha=0.6)\n",
    "\n",
    "slider = Slider(start=0.1, end=6, value=1, step=.1, title=\"power\")\n",
    "\n",
    "update_curve = CustomJS(args=dict(source=source, slider=slider), code=\"\"\"\n",
    "    var data = source.data;\n",
    "    var f = slider.value;\n",
    "    var x = data['x']\n",
    "    var y = data['y']\n",
    "    for (var i = 0; i < x.length; i++) {\n",
    "        y[i] = Math.pow(x[i], f)\n",
    "    }\n",
    "    \n",
    "    // necessary becasue we mutated source.data in-place\n",
    "    source.change.emit();\n",
    "\"\"\")\n",
    "slider.js_on_change('value', update_curve)\n",
    "\n",
    "output_file(\"plot.html\")\n",
    "\n",
    "show(column(slider, plot))"
   ]
  }
 ]
}