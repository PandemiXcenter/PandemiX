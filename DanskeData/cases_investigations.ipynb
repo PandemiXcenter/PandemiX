{
 "cells": [
  {
   "cell_type": "code",
   "execution_count": 43,
   "metadata": {},
   "outputs": [
    {
     "name": "stdout",
     "output_type": "stream",
     "text": [
      "saveFigures is set to: True\n",
      "Done loading packages\n"
     ]
    }
   ],
   "source": [
    "# Main notebook for playing around looking at different things in data\n",
    "import numpy as np\n",
    "import pandas as pd\n",
    "pd.set_option('display.max_rows', 500)\n",
    "pd.set_option('display.min_rows', 50)\n",
    "import seaborn as sns\n",
    "\n",
    "\n",
    "import matplotlib.pyplot as plt\n",
    "%matplotlib widget\n",
    "plt.rcParams['figure.figsize'] = (12,8)\n",
    "# plt.rcParams[\"image.cmap\"] = \"Dark2\"\n",
    "# plt.rcParams['axes.prop_cycle'] = plt.cycler(color=plt.cm.Dark2.colors)\n",
    "plt.rcParams[\"image.cmap\"] = \"tab10\"\n",
    "plt.rcParams['axes.prop_cycle'] = plt.cycler(color=plt.cm.tab10.colors)\n",
    "fs_label = 16\n",
    "parameters = {\n",
    "                'axes.labelsize': fs_label,\n",
    "                'axes.titlesize': fs_label+4,\n",
    "                'xtick.labelsize': fs_label,\n",
    "                'ytick.labelsize': fs_label, \n",
    "                'legend.fontsize': fs_label, \n",
    "                'lines.markersize': 10,\n",
    "                'lines.linewidth': 3\n",
    "             }\n",
    "plt.rcParams.update(parameters)\n",
    "%matplotlib widget  \n",
    "# plt.style.use('ggplot')\n",
    "import matplotlib.colors as colors\n",
    "# cmap = plt.cm.get_cmap('Dark2',len(ageGroups))\n",
    "from matplotlib import cm # Colormaps\n",
    "\n",
    "import locale\n",
    "import matplotlib.dates as mdates\n",
    "locale.setlocale(locale.LC_TIME,\"Danish\")\n",
    "# ax = plt.gca()\n",
    "# ax1.xaxis.set_major_formatter(mdates.DateFormatter('%b\\n%Y'))\n",
    "# # ax.xaxis.set_major_formatter(mdates.DateFormatter('%Y \\n %B'))\n",
    "\n",
    "import os\n",
    "# import csv\n",
    "import math\n",
    "\n",
    "\n",
    "from datetime import date\n",
    "\n",
    "\n",
    "saveFigures = True\n",
    "# saveFigures = False\n",
    "print('saveFigures is set to: '+str(saveFigures))\n",
    "\n",
    "print('Done loading packages')\n",
    "\n",
    "def rnMean(data,meanWidth):\n",
    "    return np.convolve(data, np.ones(meanWidth)/meanWidth, mode='valid')\n",
    "def rnTime(t,meanWidth):\n",
    "    return t[math.floor(meanWidth/2):-math.ceil(meanWidth/2)+1]"
   ]
  },
  {
   "cell_type": "code",
   "execution_count": 44,
   "metadata": {},
   "outputs": [],
   "source": [
    "ssidatapath = \"ssi_data\"\n",
    "rootdir = os.getcwd() +\"/\" + ssidatapath"
   ]
  },
  {
   "cell_type": "code",
   "execution_count": 45,
   "metadata": {},
   "outputs": [],
   "source": [
    "dfAdm = pd.read_excel('Admitted\\Admitted.xlsx')\n",
    "dfAdm = dfAdm.transpose()\n",
    "dfAdm.columns = dfAdm.iloc[0]\n",
    "dfAdm = dfAdm.drop(['Aldersgruppe']) \n",
    "curDates =  pd.to_datetime(dfAdm.index,format='%d_%m_%Y')"
   ]
  },
  {
   "cell_type": "code",
   "execution_count": 46,
   "metadata": {},
   "outputs": [],
   "source": [
    "dfAdmDiff = dfAdm.diff().iloc[1:]\n",
    "plotDates = curDates[1:]"
   ]
  },
  {
   "cell_type": "code",
   "execution_count": 47,
   "metadata": {},
   "outputs": [],
   "source": [
    "dfCase = pd.DataFrame(columns=dfAdm.columns)\n",
    "dfTest = pd.DataFrame(columns=dfAdm.columns)\n",
    "dfPosP = pd.DataFrame(columns=dfAdm.columns)"
   ]
  },
  {
   "cell_type": "code",
   "execution_count": 48,
   "metadata": {},
   "outputs": [],
   "source": [
    "# Collect the cases, tests and positive percentage from all the \"cases by age\" files\n",
    "\n",
    "ssidatapath = \"ssi_data\"\n",
    "rootdir = os.getcwd() +\"/\" + ssidatapath\n",
    "\n",
    "for subdir, dirs, files in os.walk(rootdir):\n",
    "    if not len(files) == 0:\n",
    "        latestdir = subdir\n",
    "        latestDate = pd.to_datetime(subdir[-10:])\n",
    "        curdf = pd.read_csv(latestdir+'/Cases_by_age.csv',delimiter = ';',dtype=str)\n",
    "        \n",
    "        curdf['Antal_bekræftede_COVID-19'] = pd.to_numeric(curdf['Antal_bekræftede_COVID-19'].astype(str).apply(lambda x: x.replace('.','')))\n",
    "        curdf['Antal_testede'] = pd.to_numeric(curdf['Antal_testede'].astype(str).apply(lambda x: x.replace('.','')))\n",
    "        curdf['Procent_positive'] = pd.to_numeric(curdf['Procent_positive'].astype(str).apply(lambda x: x.replace(',','.')))\n",
    "        \n",
    "        \n",
    "        dfCase.loc[latestDate] = curdf['Antal_bekræftede_COVID-19'].values\n",
    "        dfTest.loc[latestDate] = curdf['Antal_testede'].values\n",
    "        dfPosP.loc[latestDate] = curdf['Procent_positive'].values\n",
    "\n",
    "allDates = dfCase.index\n"
   ]
  },
  {
   "cell_type": "code",
   "execution_count": 49,
   "metadata": {},
   "outputs": [
    {
     "data": {
      "text/html": [
       "<div>\n",
       "<style scoped>\n",
       "    .dataframe tbody tr th:only-of-type {\n",
       "        vertical-align: middle;\n",
       "    }\n",
       "\n",
       "    .dataframe tbody tr th {\n",
       "        vertical-align: top;\n",
       "    }\n",
       "\n",
       "    .dataframe thead th {\n",
       "        text-align: right;\n",
       "    }\n",
       "</style>\n",
       "<table border=\"1\" class=\"dataframe\">\n",
       "  <thead>\n",
       "    <tr style=\"text-align: right;\">\n",
       "      <th></th>\n",
       "      <th>Dato</th>\n",
       "      <th>Hovedstaden</th>\n",
       "      <th>Sjælland</th>\n",
       "      <th>Syddanmark</th>\n",
       "      <th>Midtjylland</th>\n",
       "      <th>Nordjylland</th>\n",
       "      <th>Ukendt Region</th>\n",
       "      <th>Total</th>\n",
       "    </tr>\n",
       "  </thead>\n",
       "  <tbody>\n",
       "    <tr>\n",
       "      <th>598</th>\n",
       "      <td>2021-10-20</td>\n",
       "      <td>21</td>\n",
       "      <td>6</td>\n",
       "      <td>5</td>\n",
       "      <td>3</td>\n",
       "      <td>2</td>\n",
       "      <td>2</td>\n",
       "      <td>39</td>\n",
       "    </tr>\n",
       "    <tr>\n",
       "      <th>599</th>\n",
       "      <td>2021-10-21</td>\n",
       "      <td>20</td>\n",
       "      <td>5</td>\n",
       "      <td>4</td>\n",
       "      <td>6</td>\n",
       "      <td>1</td>\n",
       "      <td>1</td>\n",
       "      <td>37</td>\n",
       "    </tr>\n",
       "    <tr>\n",
       "      <th>600</th>\n",
       "      <td>2021-10-22</td>\n",
       "      <td>26</td>\n",
       "      <td>4</td>\n",
       "      <td>1</td>\n",
       "      <td>6</td>\n",
       "      <td>4</td>\n",
       "      <td>1</td>\n",
       "      <td>42</td>\n",
       "    </tr>\n",
       "    <tr>\n",
       "      <th>601</th>\n",
       "      <td>2021-10-23</td>\n",
       "      <td>23</td>\n",
       "      <td>2</td>\n",
       "      <td>3</td>\n",
       "      <td>1</td>\n",
       "      <td>3</td>\n",
       "      <td>1</td>\n",
       "      <td>33</td>\n",
       "    </tr>\n",
       "    <tr>\n",
       "      <th>602</th>\n",
       "      <td>2021-10-24</td>\n",
       "      <td>21</td>\n",
       "      <td>6</td>\n",
       "      <td>2</td>\n",
       "      <td>5</td>\n",
       "      <td>2</td>\n",
       "      <td>0</td>\n",
       "      <td>36</td>\n",
       "    </tr>\n",
       "  </tbody>\n",
       "</table>\n",
       "</div>"
      ],
      "text/plain": [
       "          Dato Hovedstaden Sjælland Syddanmark Midtjylland Nordjylland  \\\n",
       "598 2021-10-20          21        6          5           3           2   \n",
       "599 2021-10-21          20        5          4           6           1   \n",
       "600 2021-10-22          26        4          1           6           4   \n",
       "601 2021-10-23          23        2          3           1           3   \n",
       "602 2021-10-24          21        6          2           5           2   \n",
       "\n",
       "    Ukendt Region  Total  \n",
       "598             2     39  \n",
       "599             1     37  \n",
       "600             1     42  \n",
       "601             1     33  \n",
       "602             0     36  "
      ]
     },
     "execution_count": 49,
     "metadata": {},
     "output_type": "execute_result"
    }
   ],
   "source": [
    "# # Collect the cases, tests and positive percentage from all the \"cases by age\" files\n",
    "\n",
    "# ssidatapath = \"ssi_data\"\n",
    "# rootdir = os.getcwd() +\"/\" + ssidatapath\n",
    "\n",
    "# dfAdmNew = pd.DataFrame(columns=['Indlagt'])\n",
    "\n",
    "# for subdir, dirs, files in os.walk(rootdir):\n",
    "#     if not len(files) == 0:\n",
    "#         latestdir = subdir\n",
    "#         latestDate = pd.to_datetime(subdir[-10:])\n",
    "#         curdf = pd.read_csv(latestdir+'/Newly_admitted_over_time.csv',delimiter = ';',dtype=str)\n",
    "        \n",
    "#         try: \n",
    "#             curdf['Antal_nyindlagte'] = pd.to_numeric(curdf['Antal_nyindlagte'].astype(str).apply(lambda x: x.replace('.','')))\n",
    "#             dfAdmNew.loc[latestDate,'Indlagt'] = curdf['Antal_nyindlagte'].values[-1]\n",
    "#         except:\n",
    "#             curdf['Total'] = pd.to_numeric(curdf['Total'].astype(str).apply(lambda x: x.replace('.','')))\n",
    "#             dfAdmNew.loc[latestDate,'Indlagt'] = curdf['Total'].values[-1]\n",
    "        \n",
    "        \n",
    "\n",
    "# # allDates = dfCase.index\n",
    "# # dfAdmNew\n",
    "\n",
    "dfAdmNew = pd.read_csv(latestdir+'/Newly_admitted_over_time.csv',delimiter = ';',dtype=str)\n",
    "dfAdmNew['Dato'] = pd.to_datetime(dfAdmNew['Dato'])\n",
    "dfAdmNew['Total'] = pd.to_numeric(dfAdmNew['Total'])\n",
    "dfAdmNew.tail()"
   ]
  },
  {
   "cell_type": "code",
   "execution_count": 50,
   "metadata": {},
   "outputs": [],
   "source": [
    "dfCaseDiff = dfCase.diff().iloc[1:]\n",
    "dfTestDiff = dfTest.diff().iloc[1:]\n",
    "dfPosPDiff = dfPosP.diff().iloc[1:]\n",
    "plotDatesCase = allDates[1:]"
   ]
  },
  {
   "cell_type": "code",
   "execution_count": 51,
   "metadata": {},
   "outputs": [
    {
     "data": {
      "application/vnd.jupyter.widget-view+json": {
       "model_id": "38a2d4ddf08143e2afdec0438fb772c5",
       "version_major": 2,
       "version_minor": 0
      },
      "text/plain": [
       "Canvas(toolbar=Toolbar(toolitems=[('Home', 'Reset original view', 'home', 'home'), ('Back', 'Back to previous …"
      ]
     },
     "metadata": {},
     "output_type": "display_data"
    }
   ],
   "source": [
    "fig,ax1 = plt.subplots(1,1)\n",
    "\n",
    "howManyToUse = len(dfCaseDiff.columns)-4\n",
    "cmap = plt.cm.get_cmap('Dark2',howManyToUse)\n",
    "for k in range(0,howManyToUse):\n",
    "    curColName = dfCaseDiff.columns[k]\n",
    "    ax1.plot(plotDatesCase,dfCaseDiff[curColName],'.-',linewidth=0.4,label=curColName,color=cmap(k))\n",
    "    # meanWidth = 7\n",
    "    # ax1.plot(rnTime(plotDatesCase,meanWidth),rnMean(dfCaseDiff[curColName],meanWidth),label=curColName,color=cmap(k))\n",
    "\n",
    "\n",
    "# testMonday = np.datetime64('2021-05-17')\n",
    "testMonday = np.datetime64('2021-03-01')\n",
    "numMondays = 50\n",
    "for m in range(0,numMondays):\n",
    "    ax1.bar(testMonday+np.timedelta64(m*7,'D'),1000,color='grey')\n",
    "\n",
    "ax1.legend()\n",
    "\n",
    "ax1.set_ylim(bottom=0,top=1000)\n",
    "# ax1.set_xlim([np.datetime64('2021-03-01'),np.datetime64('2021-05-05')])\n",
    "ax1.set_xlim(left=np.datetime64('2021-05-01'))\n",
    "ax1.set_xlim(left=np.datetime64('2021-08-01'))\n",
    "ax1.set_xlim(right=np.datetime64(date.today()))\n",
    "\n",
    "plt.tight_layout()"
   ]
  },
  {
   "cell_type": "code",
   "execution_count": 52,
   "metadata": {},
   "outputs": [
    {
     "data": {
      "application/vnd.jupyter.widget-view+json": {
       "model_id": "43e322da0b96431f9cd93d9bc7ce545c",
       "version_major": 2,
       "version_minor": 0
      },
      "text/plain": [
       "Canvas(toolbar=Toolbar(toolitems=[('Home', 'Reset original view', 'home', 'home'), ('Back', 'Back to previous …"
      ]
     },
     "metadata": {},
     "output_type": "display_data"
    }
   ],
   "source": [
    "# Compare years\n",
    "allDatesDiff = allDates[1:]\n",
    "\n",
    "fig,ax1 = plt.subplots(1,1)\n",
    "prevYearIndex = (allDatesDiff < np.datetime64('2021-01-01'))\n",
    "prevYearDates = allDatesDiff[prevYearIndex]\n",
    "prevYearSum = dfCaseDiff[prevYearIndex]['I alt']\n",
    "\n",
    "thisYearIndex = (allDatesDiff >= np.datetime64('2021-01-01'))\n",
    "thisYearDates = allDatesDiff[thisYearIndex]\n",
    "thisYearSum = dfCaseDiff[thisYearIndex]['I alt']\n",
    "\n",
    "ax1.plot(prevYearDates+np.timedelta64(365,'D'),prevYearSum)\n",
    "ax1.plot(thisYearDates,thisYearSum)\n",
    "\n",
    "ax1.xaxis.set_major_formatter(mdates.DateFormatter('%b\\n%Y'))"
   ]
  },
  {
   "cell_type": "code",
   "execution_count": 53,
   "metadata": {},
   "outputs": [],
   "source": [
    "\n",
    "curdf = pd.read_csv(latestdir+'/Test_pos_over_time.csv',delimiter = ';',dtype=str)\n",
    "# curdf"
   ]
  },
  {
   "cell_type": "code",
   "execution_count": 54,
   "metadata": {},
   "outputs": [],
   "source": [
    "curdf = curdf.iloc[:-2]\n",
    "# curdf['NewPositive'] = pd.to_numeric(curdf['NewPositive'])\n",
    "curdf['NewPositive'] = pd.to_numeric(curdf['NewPositive'].astype(str).apply(lambda x: x.replace('.','')))\n",
    "curdf['Tested'] = pd.to_numeric(curdf['Tested'].astype(str).apply(lambda x: x.replace('.','')))\n",
    "curdf['PosPct'] = pd.to_numeric(curdf['PosPct'].astype(str).apply(lambda x: x.replace(',','.')))\n",
    "\n",
    "testDates =  pd.to_datetime(curdf.Date,format='%Y-%m-%d')\n",
    "# curdf"
   ]
  },
  {
   "cell_type": "code",
   "execution_count": 55,
   "metadata": {},
   "outputs": [],
   "source": [
    "# plt.figure()\n",
    "# curdf"
   ]
  },
  {
   "cell_type": "code",
   "execution_count": 56,
   "metadata": {},
   "outputs": [
    {
     "data": {
      "application/vnd.jupyter.widget-view+json": {
       "model_id": "f7bb5471baa6435dab6770652cd5e8cd",
       "version_major": 2,
       "version_minor": 0
      },
      "text/plain": [
       "Canvas(toolbar=Toolbar(toolitems=[('Home', 'Reset original view', 'home', 'home'), ('Back', 'Back to previous …"
      ]
     },
     "metadata": {},
     "output_type": "display_data"
    }
   ],
   "source": [
    "\n",
    "fig,ax1 = plt.subplots(1,1)\n",
    "prevYearIndex = (testDates < np.datetime64('2021-01-01'))\n",
    "prevYearDates = testDates[prevYearIndex]\n",
    "prevYearSum = curdf[prevYearIndex]['NewPositive']\n",
    "\n",
    "thisYearIndex = (testDates >= np.datetime64('2021-01-01'))\n",
    "thisYearDates = testDates[thisYearIndex]\n",
    "thisYearSum = curdf[thisYearIndex]['NewPositive']\n",
    "\n",
    "ax1.plot(prevYearDates+np.timedelta64(365,'D'),prevYearSum,label='2020')\n",
    "ax1.plot(thisYearDates.values[:-1],thisYearSum.values[:-1],label='2021')\n",
    "# ax1.plot(thisYearDates,thisYearSum,label='2021')\n",
    "\n",
    "ax1.legend()\n",
    "ax1.grid()\n",
    "ax1.set_ylabel('Antal tilfælde')\n",
    "ax1.set_ylim(bottom=0)\n",
    "ax1.set_xlim([np.datetime64('2021-01-01'),np.datetime64('2022-01-01')])\n",
    "ax1.xaxis.set_major_formatter(mdates.DateFormatter('%B'))\n",
    "\n",
    "plt.tight_layout()\n",
    "plt.savefig('figs/Compare2020and2021')\n",
    "\n",
    "\n",
    "ax1.set_ylim(top=1500)\n",
    "ax1.set_xlim([np.datetime64('2021-03-01'),np.datetime64('2021-11-01')])\n",
    "ax1.xaxis.set_major_formatter(mdates.DateFormatter('%d\\n%B'))\n",
    "plt.tight_layout()\n",
    "plt.savefig('figs/Compare2020and2021Zoom')\n",
    "\n",
    "ax1.set_ylim(top=3000)\n",
    "ax1.set_xlim([np.datetime64('2021-06-01'),np.datetime64('2022-01-01')])\n",
    "ax1.xaxis.set_major_formatter(mdates.DateFormatter('%d\\n%B'))\n",
    "plt.tight_layout()\n",
    "plt.savefig('figs/Compare2020and2021Zoom2')"
   ]
  },
  {
   "cell_type": "code",
   "execution_count": 57,
   "metadata": {},
   "outputs": [
    {
     "data": {
      "application/vnd.jupyter.widget-view+json": {
       "model_id": "6df246e456d0434c8135261c8539f2f7",
       "version_major": 2,
       "version_minor": 0
      },
      "text/plain": [
       "Canvas(toolbar=Toolbar(toolitems=[('Home', 'Reset original view', 'home', 'home'), ('Back', 'Back to previous …"
      ]
     },
     "metadata": {},
     "output_type": "display_data"
    }
   ],
   "source": [
    "\n",
    "# fig,ax1 = plt.subplots(1,1)\n",
    "fig,(ax1,ax2,ax3) = plt.subplots(3,1,sharex=True,figsize=(14,20))\n",
    "prevYearIndex = (testDates < np.datetime64('2021-01-01'))\n",
    "prevYearDates = testDates[prevYearIndex]\n",
    "prevYearSum = curdf[prevYearIndex]['NewPositive']\n",
    "prevYearTest = curdf[prevYearIndex]['Tested']\n",
    "# prevYearPos = curdf[prevYearIndex]['PosPct']\n",
    "prevYearPos = 100 * np.divide(prevYearSum,prevYearTest)\n",
    "\n",
    "thisYearIndex = (testDates >= np.datetime64('2021-01-01'))\n",
    "thisYearDates = testDates[thisYearIndex]\n",
    "thisYearSum = curdf[thisYearIndex]['NewPositive']\n",
    "thisYearTest = curdf[thisYearIndex]['Tested']\n",
    "# thisYearPos = curdf[thisYearIndex]['PosPct']\n",
    "thisYearPos = 100 * np.divide(thisYearSum,thisYearTest)\n",
    "\n",
    "meanWidth=7\n",
    "\n",
    "ax1.plot(prevYearDates+np.timedelta64(365,'D'),prevYearSum,'b.:',linewidth=0.5,markersize=4)\n",
    "ax1.plot(rnTime(prevYearDates+np.timedelta64(365,'D'),meanWidth),rnMean(prevYearSum,meanWidth),'b',label='2020')\n",
    "ax1.plot(thisYearDates.values[:-1],thisYearSum.values[:-1],'r.:',linewidth=0.5,markersize=4)\n",
    "ax1.plot(rnTime(thisYearDates.values[:-1],meanWidth),rnMean(thisYearSum.values[:-1],meanWidth),'r',label='2021')\n",
    "\n",
    "\n",
    "ax2.plot(prevYearDates+np.timedelta64(365,'D'),prevYearTest,'b.:',linewidth=0.5,markersize=4)\n",
    "ax2.plot(thisYearDates.values[:-1],thisYearTest.values[:-1],'r.:',linewidth=0.5,markersize=4)\n",
    "ax2.plot(rnTime(prevYearDates+np.timedelta64(365,'D'),meanWidth),rnMean(prevYearTest,meanWidth),'b',label='2020')\n",
    "ax2.plot(rnTime(thisYearDates.values[:-1],meanWidth),rnMean(thisYearTest.values[:-1],meanWidth),'r',label='2021')\n",
    "\n",
    "\n",
    "ax3.plot(prevYearDates+np.timedelta64(365,'D'),prevYearPos,'b.:',linewidth=0.5,markersize=4)\n",
    "ax3.plot(thisYearDates.values[:-1],thisYearPos.values[:-1],'r.:',linewidth=0.5,markersize=4)\n",
    "ax3.plot(rnTime(prevYearDates+np.timedelta64(365,'D'),meanWidth),rnMean(prevYearPos,meanWidth),'b',label='2020')\n",
    "ax3.plot(rnTime(thisYearDates.values[:-1],meanWidth),rnMean(thisYearPos.values[:-1],meanWidth),'r',label='2021')\n",
    "\n",
    "\n",
    "xTicks = np.arange(np.datetime64('2021-01'),np.datetime64('2022-01'))\n",
    "ax1.set_xticks(xTicks)\n",
    "# plt.xticks(rotation=90)\n",
    "\n",
    "ax1.legend()\n",
    "ax1.grid()\n",
    "ax2.grid()\n",
    "ax3.grid()\n",
    "ax1.set_ylabel('Antal tilfælde')\n",
    "ax2.set_ylabel('Antal test')\n",
    "ax3.set_ylabel('Positiv procent [%]')\n",
    "ax1.set_ylim(bottom=0)\n",
    "ax2.set_ylim(bottom=0)\n",
    "ax3.set_ylim(bottom=0)\n",
    "ax1.set_xlim([np.datetime64('2021-01-01'),np.datetime64('2022-01-01')])\n",
    "ax1.xaxis.set_major_formatter(mdates.DateFormatter('%b'))\n",
    "\n",
    "plt.tight_layout()\n",
    "plt.savefig('figs/Compare2020and2021_All')\n",
    "\n",
    "xTicks = np.arange(np.datetime64('2021-01-04'),np.datetime64('2022-01-11'),np.timedelta64(14,'D'))\n",
    "ax1.set_xticks(xTicks)\n",
    "\n",
    "ax3.set_ylim(top=2.1)\n",
    "\n",
    "ax1.set_ylim(top=1600)\n",
    "ax1.set_xlim([np.datetime64('2021-04-01'),np.datetime64('2021-12-01')])\n",
    "ax1.xaxis.set_major_formatter(mdates.DateFormatter('%d\\n%B'))\n",
    "plt.tight_layout()\n",
    "plt.savefig('figs/Compare2020and2021_All_Zoom')\n",
    "\n",
    "# xTicks = np.arange(np.datetime64('2021-01-04'),np.datetime64('2022-01-08'),np.timedelta64(14,'D'))\n",
    "# ax1.set_xticks(xTicks)\n",
    "\n",
    "# ax3.set_ylim(top=1)\n",
    "\n",
    "# ax1.set_ylim(top=1200)\n",
    "ax1.set_xlim([np.datetime64('2021-06-01'),np.datetime64('2022-01-01')])\n",
    "ax1.xaxis.set_major_formatter(mdates.DateFormatter('%d\\n%B'))\n",
    "plt.tight_layout()\n",
    "plt.savefig('figs/Compare2020and2021_All_Zoom_Zoom')"
   ]
  },
  {
   "cell_type": "code",
   "execution_count": 58,
   "metadata": {},
   "outputs": [
    {
     "data": {
      "application/vnd.jupyter.widget-view+json": {
       "model_id": "76cd1a55c3674e33bf48bd3b82b103bd",
       "version_major": 2,
       "version_minor": 0
      },
      "text/plain": [
       "Canvas(toolbar=Toolbar(toolitems=[('Home', 'Reset original view', 'home', 'home'), ('Back', 'Back to previous …"
      ]
     },
     "metadata": {},
     "output_type": "display_data"
    }
   ],
   "source": [
    "\n",
    "fig,ax1 = plt.subplots(1,1)\n",
    "\n",
    "# fig,(ax1,ax2,ax3) = plt.subplots(3,1,sharex=True,figsize=(14,20))\n",
    "prevYearIndex = (testDates < np.datetime64('2021-01-01'))\n",
    "prevYearDates = testDates[prevYearIndex]\n",
    "prevYearSum = curdf[prevYearIndex]['NewPositive']\n",
    "prevYearTest = curdf[prevYearIndex]['Tested']\n",
    "# prevYearPos = curdf[prevYearIndex]['PosPct']\n",
    "prevYearPos = 100 * np.divide(prevYearSum,prevYearTest)\n",
    "\n",
    "thisYearIndex = (testDates >= np.datetime64('2021-01-01'))\n",
    "thisYearDates = testDates[thisYearIndex]\n",
    "thisYearSum = curdf[thisYearIndex]['NewPositive']\n",
    "thisYearTest = curdf[thisYearIndex]['Tested']\n",
    "# thisYearPos = curdf[thisYearIndex]['PosPct']\n",
    "thisYearPos = 100 * np.divide(thisYearSum,thisYearTest)\n",
    "\n",
    "meanWidth=7\n",
    "\n",
    "ax1.plot(prevYearDates+np.timedelta64(365,'D'),prevYearSum,'b.:',linewidth=0.5,markersize=4)\n",
    "ax1.plot(rnTime(prevYearDates+np.timedelta64(365,'D'),meanWidth),rnMean(prevYearSum,meanWidth),'b',label='2020')\n",
    "ax1.plot(thisYearDates.values[:-1],thisYearSum.values[:-1],'r.:',linewidth=0.5,markersize=4)\n",
    "ax1.plot(rnTime(thisYearDates.values[:-1],meanWidth),rnMean(thisYearSum.values[:-1],meanWidth),'r',label='2021')\n",
    "\n",
    "\n",
    "\n",
    "\n",
    "\n",
    "\n",
    "\n",
    "\n",
    "\n",
    "\n",
    "xTicks = np.arange(np.datetime64('2021-01'),np.datetime64('2022-01'))\n",
    "ax1.set_xticks(xTicks)\n",
    "# plt.xticks(rotation=90)\n",
    "\n",
    "ax1.legend()\n",
    "ax1.grid()\n",
    "\n",
    "ax1.set_ylabel('Antal tilfælde')\n",
    "\n",
    "ax1.set_ylim(bottom=0)\n",
    "\n",
    "ax1.set_xlim([np.datetime64('2021-01-01'),np.datetime64('2022-01-01')])\n",
    "ax1.xaxis.set_major_formatter(mdates.DateFormatter('%b'))\n",
    "\n",
    "plt.tight_layout()\n",
    "# plt.savefig('figs/Compare2020and2021_All')\n",
    "\n",
    "xTicks = np.arange(np.datetime64('2021-01-04'),np.datetime64('2022-01-11'),np.timedelta64(14,'D'))\n",
    "ax1.set_xticks(xTicks)\n",
    "\n",
    "\n",
    "ax1.set_ylim(top=1600)\n",
    "ax1.set_xlim([np.datetime64('2021-04-01'),np.datetime64('2021-12-01')])\n",
    "ax1.xaxis.set_major_formatter(mdates.DateFormatter('%d\\n%B'))\n",
    "plt.tight_layout()\n",
    "# plt.savefig('figs/Compare2020and2021_All_Zoom')\n",
    "\n",
    "# xTicks = np.arange(np.datetime64('2021-01-04'),np.datetime64('2022-01-08'),np.timedelta64(14,'D'))\n",
    "# ax1.set_xticks(xTicks)\n",
    "\n",
    "\n",
    "ax1.set_ylim(top=4500)\n",
    "ax1.set_xlim([np.datetime64('2021-08-01'),np.datetime64('2022-01-01')])\n",
    "ax1.xaxis.set_major_formatter(mdates.DateFormatter('%d\\n%b'))\n",
    "plt.tight_layout()\n",
    "plt.savefig('figs/Compare2020and2021_Cases_Fall')"
   ]
  },
  {
   "cell_type": "code",
   "execution_count": 59,
   "metadata": {},
   "outputs": [
    {
     "data": {
      "application/vnd.jupyter.widget-view+json": {
       "model_id": "9e6306d08ab24cbe96bfc68cc518ad18",
       "version_major": 2,
       "version_minor": 0
      },
      "text/plain": [
       "Canvas(toolbar=Toolbar(toolitems=[('Home', 'Reset original view', 'home', 'home'), ('Back', 'Back to previous …"
      ]
     },
     "metadata": {},
     "output_type": "display_data"
    }
   ],
   "source": [
    "\n",
    "# fig,(ax1,ax2,ax3) = plt.subplots(3,1,sharex=True,figsize=(14,20))\n",
    "fig,ax1 = plt.subplots(figsize=(6,10))\n",
    "prevYearIndex = (testDates < np.datetime64('2021-01-01'))\n",
    "prevYearDates = testDates[prevYearIndex]\n",
    "prevYearSum = curdf[prevYearIndex]['NewPositive']\n",
    "prevYearTest = curdf[prevYearIndex]['Tested']\n",
    "# prevYearPos = curdf[prevYearIndex]['PosPct']\n",
    "prevYearPos = 100 * np.divide(prevYearSum,prevYearTest)\n",
    "\n",
    "thisYearIndex = (testDates >= np.datetime64('2021-01-01'))\n",
    "thisYearDates = testDates[thisYearIndex]\n",
    "thisYearSum = curdf[thisYearIndex]['NewPositive']\n",
    "thisYearTest = curdf[thisYearIndex]['Tested']\n",
    "# thisYearPos = curdf[thisYearIndex]['PosPct']\n",
    "thisYearPos = 100 * np.divide(thisYearSum,thisYearTest)\n",
    "\n",
    "meanWidth=7\n",
    "ax1.plot(thisYearDates.values[:-1],thisYearSum.values[:-1],'m.:',linewidth=0.5,markersize=4)\n",
    "ax1.plot(rnTime(thisYearDates.values[:-1],meanWidth),rnMean(thisYearSum.values[:-1],meanWidth),'k',label='2021')\n",
    "\n",
    "curXTicks = [\n",
    "    np.datetime64('2021-08-01'),\n",
    "    np.datetime64('2021-08-15'),\n",
    "    np.datetime64('2021-09-01'),\n",
    "    np.datetime64('2021-09-15'),\n",
    "    np.datetime64('2021-10-01'),\n",
    "    np.datetime64('2021-10-15'),\n",
    "    np.datetime64('2021-11-01'),\n",
    "    np.datetime64('2021-11-15'),\n",
    "]\n",
    "ax1.set_xticks(curXTicks)\n",
    "plt.xticks(fontsize=15)\n",
    "\n",
    "ax1.set_xlim([np.datetime64('2021-08-10'),np.datetime64('2021-11-17')])\n",
    "ax1.set_ylim([0,3400])\n",
    "\n",
    "ax1.xaxis.set_major_formatter(mdates.DateFormatter('%d\\n%b'))\n",
    "ax1.grid()\n",
    "\n"
   ]
  },
  {
   "cell_type": "code",
   "execution_count": 60,
   "metadata": {},
   "outputs": [
    {
     "data": {
      "application/vnd.jupyter.widget-view+json": {
       "model_id": "09422ba1c54d4a7ebb086975023ed97c",
       "version_major": 2,
       "version_minor": 0
      },
      "text/plain": [
       "Canvas(toolbar=Toolbar(toolitems=[('Home', 'Reset original view', 'home', 'home'), ('Back', 'Back to previous …"
      ]
     },
     "metadata": {},
     "output_type": "display_data"
    }
   ],
   "source": [
    "\n",
    "fig,ax1 = plt.subplots(1,1)\n",
    "\n",
    "testDates = dfAdmNew.Dato\n",
    "\n",
    "# fig,(ax1,ax2,ax3) = plt.subplots(3,1,sharex=True,figsize=(14,20))\n",
    "prevYearIndex = (testDates < np.datetime64('2021-01-01'))\n",
    "prevYearDates = testDates[prevYearIndex]\n",
    "prevYearSum = dfAdmNew[prevYearIndex]['Total']\n",
    "prevYearPos = 100 * np.divide(prevYearSum,prevYearTest)\n",
    "\n",
    "thisYearIndex = (testDates >= np.datetime64('2021-01-01'))\n",
    "thisYearDates = testDates[thisYearIndex]\n",
    "thisYearSum = dfAdmNew[thisYearIndex]['Total']\n",
    "thisYearPos = 100 * np.divide(thisYearSum,thisYearTest)\n",
    "\n",
    "meanWidth=7\n",
    "\n",
    "ax1.plot(prevYearDates+np.timedelta64(365,'D'),prevYearSum,'b.:',linewidth=0.5,markersize=4)\n",
    "ax1.plot(rnTime(prevYearDates+np.timedelta64(365,'D'),meanWidth),rnMean(prevYearSum,meanWidth),'b',label='2020')\n",
    "ax1.plot(thisYearDates.values[:-1],thisYearSum.values[:-1],'r.:',linewidth=0.5,markersize=4)\n",
    "ax1.plot(rnTime(thisYearDates.values[:-1],meanWidth),rnMean(thisYearSum.values[:-1],meanWidth),'r',label='2021')\n",
    "\n",
    "\n",
    "xTicks = np.arange(np.datetime64('2021-01'),np.datetime64('2022-01'))\n",
    "ax1.set_xticks(xTicks)\n",
    "# plt.xticks(rotation=90)\n",
    "\n",
    "ax1.legend()\n",
    "ax1.grid()\n",
    "\n",
    "ax1.set_ylabel('Antal indlæggelser')\n",
    "\n",
    "ax1.set_ylim(bottom=0)\n",
    "\n",
    "xTicks = np.arange(np.datetime64('2021-08-01'),np.datetime64('2022-01-11'),np.timedelta64(14,'D'))\n",
    "xTicks = np.arange(np.datetime64('2021-08'),np.datetime64('2022-03'))\n",
    "ax1.set_xticks(xTicks)\n",
    "\n",
    "\n",
    "curXTicks = [\n",
    "    np.datetime64('2021-08-01'),\n",
    "    np.datetime64('2021-08-15'),\n",
    "    np.datetime64('2021-09-01'),\n",
    "    np.datetime64('2021-09-15'),\n",
    "    np.datetime64('2021-10-01'),\n",
    "    np.datetime64('2021-10-15'),\n",
    "    np.datetime64('2021-11-01'),\n",
    "    np.datetime64('2021-11-15'),\n",
    "    np.datetime64('2021-12-01'),\n",
    "    np.datetime64('2021-12-15'),\n",
    "    np.datetime64('2022-01-01'),\n",
    "    np.datetime64('2022-01-15'),\n",
    "]\n",
    "ax1.set_xticks(curXTicks)\n",
    "\n",
    "# ax1.set_ylim(top=250)\n",
    "ax1.set_xlim([np.datetime64('2021-08-01'),np.datetime64('2022-01-01')])\n",
    "ax1.xaxis.set_major_formatter(mdates.DateFormatter('%d\\n%b'))\n",
    "plt.tight_layout()\n",
    "plt.savefig('figs/Compare2020and2021_Admitted_Fall')"
   ]
  },
  {
   "cell_type": "code",
   "execution_count": 61,
   "metadata": {},
   "outputs": [],
   "source": [
    "\n",
    "# # fig,(ax1,ax2,ax3) = plt.subplots(3,1,sharex=True,figsize=(14,20))\n",
    "# fig,ax1 = plt.subplots(figsize=(6,10))\n",
    "# prevYearIndex = (testDates < np.datetime64('2021-01-01'))\n",
    "# prevYearDates = testDates[prevYearIndex]\n",
    "# prevYearSum = curdf[prevYearIndex]['NewPositive']\n",
    "# prevYearTest = curdf[prevYearIndex]['Tested']\n",
    "# # prevYearPos = curdf[prevYearIndex]['PosPct']\n",
    "# prevYearPos = 100 * np.divide(prevYearSum,prevYearTest)\n",
    "\n",
    "# thisYearIndex = (testDates >= np.datetime64('2021-01-01'))\n",
    "# thisYearDates = testDates[thisYearIndex]\n",
    "# thisYearSum = curdf[thisYearIndex]['NewPositive']\n",
    "# thisYearTest = curdf[thisYearIndex]['Tested']\n",
    "# # thisYearPos = curdf[thisYearIndex]['PosPct']\n",
    "# thisYearPos = 100 * np.divide(thisYearSum,thisYearTest)\n",
    "\n",
    "# meanWidth=7\n",
    "# ax1.plot(thisYearDates.values[:-1],thisYearSum.values[:-1],'m.:',linewidth=0.5,markersize=4)\n",
    "# ax1.plot(rnTime(thisYearDates.values[:-1],meanWidth),rnMean(thisYearSum.values[:-1],meanWidth),'k',label='2021')\n",
    "\n",
    "# curXTicks = [\n",
    "#     np.datetime64('2021-08-01'),\n",
    "#     np.datetime64('2021-08-15'),\n",
    "#     np.datetime64('2021-09-01'),\n",
    "#     np.datetime64('2021-09-15'),\n",
    "#     np.datetime64('2021-10-01'),\n",
    "#     np.datetime64('2021-10-15'),\n",
    "#     np.datetime64('2021-11-01'),\n",
    "#     np.datetime64('2021-11-15'),\n",
    "# ]\n",
    "# ax1.set_xticks(curXTicks)\n",
    "# plt.xticks(fontsize=15)\n",
    "\n",
    "# ax1.set_xlim([np.datetime64('2021-08-10'),np.datetime64('2021-11-17')])\n",
    "# ax1.set_ylim([0,3400])\n",
    "\n",
    "# ax1.xaxis.set_major_formatter(mdates.DateFormatter('%d\\n%b'))\n",
    "# ax1.grid()\n",
    "\n"
   ]
  },
  {
   "cell_type": "code",
   "execution_count": 62,
   "metadata": {},
   "outputs": [
    {
     "data": {
      "application/vnd.jupyter.widget-view+json": {
       "model_id": "45557c3b1fe241909c23d73b0d13beed",
       "version_major": 2,
       "version_minor": 0
      },
      "text/plain": [
       "Canvas(toolbar=Toolbar(toolitems=[('Home', 'Reset original view', 'home', 'home'), ('Back', 'Back to previous …"
      ]
     },
     "metadata": {},
     "output_type": "display_data"
    },
    {
     "name": "stderr",
     "output_type": "stream",
     "text": [
      "C:\\Users\\rakrpe\\Anaconda3\\envs\\main\\lib\\site-packages\\pandas\\core\\arraylike.py:358: RuntimeWarning: divide by zero encountered in log\n",
      "  result = getattr(ufunc, method)(*inputs, **kwargs)\n"
     ]
    },
    {
     "ename": "ValueError",
     "evalue": "x and y must have same first dimension, but have shapes (603,) and (637,)",
     "output_type": "error",
     "traceback": [
      "\u001b[1;31m---------------------------------------------------------------------------\u001b[0m",
      "\u001b[1;31mValueError\u001b[0m                                Traceback (most recent call last)",
      "\u001b[1;32m<ipython-input-62-427193e4e485>\u001b[0m in \u001b[0;36m<module>\u001b[1;34m\u001b[0m\n\u001b[0;32m     35\u001b[0m \u001b[1;33m\u001b[0m\u001b[0m\n\u001b[0;32m     36\u001b[0m \u001b[1;33m\u001b[0m\u001b[0m\n\u001b[1;32m---> 37\u001b[1;33m \u001b[0max1\u001b[0m\u001b[1;33m.\u001b[0m\u001b[0mplot\u001b[0m\u001b[1;33m(\u001b[0m\u001b[0mtestDates\u001b[0m\u001b[1;33m,\u001b[0m\u001b[0mnp\u001b[0m\u001b[1;33m.\u001b[0m\u001b[0mlog\u001b[0m\u001b[1;33m(\u001b[0m\u001b[0mallCase\u001b[0m\u001b[1;33m)\u001b[0m\u001b[1;33m,\u001b[0m\u001b[1;34m'k.:'\u001b[0m\u001b[1;33m,\u001b[0m\u001b[0mlinewidth\u001b[0m\u001b[1;33m=\u001b[0m\u001b[1;36m0.5\u001b[0m\u001b[1;33m,\u001b[0m\u001b[0mmarkersize\u001b[0m\u001b[1;33m=\u001b[0m\u001b[1;36m3\u001b[0m\u001b[1;33m)\u001b[0m\u001b[1;33m\u001b[0m\u001b[1;33m\u001b[0m\u001b[0m\n\u001b[0m\u001b[0;32m     38\u001b[0m \u001b[0max1\u001b[0m\u001b[1;33m.\u001b[0m\u001b[0mplot\u001b[0m\u001b[1;33m(\u001b[0m\u001b[0mrnTime\u001b[0m\u001b[1;33m(\u001b[0m\u001b[0mtestDates\u001b[0m\u001b[1;33m,\u001b[0m\u001b[0mmeanWidth\u001b[0m\u001b[1;33m)\u001b[0m\u001b[1;33m,\u001b[0m\u001b[0mrnMean\u001b[0m\u001b[1;33m(\u001b[0m\u001b[0mnp\u001b[0m\u001b[1;33m.\u001b[0m\u001b[0mlog\u001b[0m\u001b[1;33m(\u001b[0m\u001b[0mallCase\u001b[0m\u001b[1;33m)\u001b[0m\u001b[1;33m,\u001b[0m\u001b[0mmeanWidth\u001b[0m\u001b[1;33m)\u001b[0m\u001b[1;33m,\u001b[0m\u001b[1;34m'k'\u001b[0m\u001b[1;33m)\u001b[0m\u001b[1;33m\u001b[0m\u001b[1;33m\u001b[0m\u001b[0m\n\u001b[0;32m     39\u001b[0m \u001b[1;33m\u001b[0m\u001b[0m\n",
      "\u001b[1;32m~\\Anaconda3\\envs\\main\\lib\\site-packages\\matplotlib\\axes\\_axes.py\u001b[0m in \u001b[0;36mplot\u001b[1;34m(self, scalex, scaley, data, *args, **kwargs)\u001b[0m\n\u001b[0;32m   1741\u001b[0m         \"\"\"\n\u001b[0;32m   1742\u001b[0m         \u001b[0mkwargs\u001b[0m \u001b[1;33m=\u001b[0m \u001b[0mcbook\u001b[0m\u001b[1;33m.\u001b[0m\u001b[0mnormalize_kwargs\u001b[0m\u001b[1;33m(\u001b[0m\u001b[0mkwargs\u001b[0m\u001b[1;33m,\u001b[0m \u001b[0mmlines\u001b[0m\u001b[1;33m.\u001b[0m\u001b[0mLine2D\u001b[0m\u001b[1;33m)\u001b[0m\u001b[1;33m\u001b[0m\u001b[1;33m\u001b[0m\u001b[0m\n\u001b[1;32m-> 1743\u001b[1;33m         \u001b[0mlines\u001b[0m \u001b[1;33m=\u001b[0m \u001b[1;33m[\u001b[0m\u001b[1;33m*\u001b[0m\u001b[0mself\u001b[0m\u001b[1;33m.\u001b[0m\u001b[0m_get_lines\u001b[0m\u001b[1;33m(\u001b[0m\u001b[1;33m*\u001b[0m\u001b[0margs\u001b[0m\u001b[1;33m,\u001b[0m \u001b[0mdata\u001b[0m\u001b[1;33m=\u001b[0m\u001b[0mdata\u001b[0m\u001b[1;33m,\u001b[0m \u001b[1;33m**\u001b[0m\u001b[0mkwargs\u001b[0m\u001b[1;33m)\u001b[0m\u001b[1;33m]\u001b[0m\u001b[1;33m\u001b[0m\u001b[1;33m\u001b[0m\u001b[0m\n\u001b[0m\u001b[0;32m   1744\u001b[0m         \u001b[1;32mfor\u001b[0m \u001b[0mline\u001b[0m \u001b[1;32min\u001b[0m \u001b[0mlines\u001b[0m\u001b[1;33m:\u001b[0m\u001b[1;33m\u001b[0m\u001b[1;33m\u001b[0m\u001b[0m\n\u001b[0;32m   1745\u001b[0m             \u001b[0mself\u001b[0m\u001b[1;33m.\u001b[0m\u001b[0madd_line\u001b[0m\u001b[1;33m(\u001b[0m\u001b[0mline\u001b[0m\u001b[1;33m)\u001b[0m\u001b[1;33m\u001b[0m\u001b[1;33m\u001b[0m\u001b[0m\n",
      "\u001b[1;32m~\\Anaconda3\\envs\\main\\lib\\site-packages\\matplotlib\\axes\\_base.py\u001b[0m in \u001b[0;36m__call__\u001b[1;34m(self, data, *args, **kwargs)\u001b[0m\n\u001b[0;32m    271\u001b[0m                 \u001b[0mthis\u001b[0m \u001b[1;33m+=\u001b[0m \u001b[0margs\u001b[0m\u001b[1;33m[\u001b[0m\u001b[1;36m0\u001b[0m\u001b[1;33m]\u001b[0m\u001b[1;33m,\u001b[0m\u001b[1;33m\u001b[0m\u001b[1;33m\u001b[0m\u001b[0m\n\u001b[0;32m    272\u001b[0m                 \u001b[0margs\u001b[0m \u001b[1;33m=\u001b[0m \u001b[0margs\u001b[0m\u001b[1;33m[\u001b[0m\u001b[1;36m1\u001b[0m\u001b[1;33m:\u001b[0m\u001b[1;33m]\u001b[0m\u001b[1;33m\u001b[0m\u001b[1;33m\u001b[0m\u001b[0m\n\u001b[1;32m--> 273\u001b[1;33m             \u001b[1;32myield\u001b[0m \u001b[1;32mfrom\u001b[0m \u001b[0mself\u001b[0m\u001b[1;33m.\u001b[0m\u001b[0m_plot_args\u001b[0m\u001b[1;33m(\u001b[0m\u001b[0mthis\u001b[0m\u001b[1;33m,\u001b[0m \u001b[0mkwargs\u001b[0m\u001b[1;33m)\u001b[0m\u001b[1;33m\u001b[0m\u001b[1;33m\u001b[0m\u001b[0m\n\u001b[0m\u001b[0;32m    274\u001b[0m \u001b[1;33m\u001b[0m\u001b[0m\n\u001b[0;32m    275\u001b[0m     \u001b[1;32mdef\u001b[0m \u001b[0mget_next_color\u001b[0m\u001b[1;33m(\u001b[0m\u001b[0mself\u001b[0m\u001b[1;33m)\u001b[0m\u001b[1;33m:\u001b[0m\u001b[1;33m\u001b[0m\u001b[1;33m\u001b[0m\u001b[0m\n",
      "\u001b[1;32m~\\Anaconda3\\envs\\main\\lib\\site-packages\\matplotlib\\axes\\_base.py\u001b[0m in \u001b[0;36m_plot_args\u001b[1;34m(self, tup, kwargs)\u001b[0m\n\u001b[0;32m    397\u001b[0m \u001b[1;33m\u001b[0m\u001b[0m\n\u001b[0;32m    398\u001b[0m         \u001b[1;32mif\u001b[0m \u001b[0mx\u001b[0m\u001b[1;33m.\u001b[0m\u001b[0mshape\u001b[0m\u001b[1;33m[\u001b[0m\u001b[1;36m0\u001b[0m\u001b[1;33m]\u001b[0m \u001b[1;33m!=\u001b[0m \u001b[0my\u001b[0m\u001b[1;33m.\u001b[0m\u001b[0mshape\u001b[0m\u001b[1;33m[\u001b[0m\u001b[1;36m0\u001b[0m\u001b[1;33m]\u001b[0m\u001b[1;33m:\u001b[0m\u001b[1;33m\u001b[0m\u001b[1;33m\u001b[0m\u001b[0m\n\u001b[1;32m--> 399\u001b[1;33m             raise ValueError(f\"x and y must have same first dimension, but \"\n\u001b[0m\u001b[0;32m    400\u001b[0m                              f\"have shapes {x.shape} and {y.shape}\")\n\u001b[0;32m    401\u001b[0m         \u001b[1;32mif\u001b[0m \u001b[0mx\u001b[0m\u001b[1;33m.\u001b[0m\u001b[0mndim\u001b[0m \u001b[1;33m>\u001b[0m \u001b[1;36m2\u001b[0m \u001b[1;32mor\u001b[0m \u001b[0my\u001b[0m\u001b[1;33m.\u001b[0m\u001b[0mndim\u001b[0m \u001b[1;33m>\u001b[0m \u001b[1;36m2\u001b[0m\u001b[1;33m:\u001b[0m\u001b[1;33m\u001b[0m\u001b[1;33m\u001b[0m\u001b[0m\n",
      "\u001b[1;31mValueError\u001b[0m: x and y must have same first dimension, but have shapes (603,) and (637,)"
     ]
    }
   ],
   "source": [
    "fig,ax1 = plt.subplots(1,1)\n",
    "meanWidth=7\n",
    "\n",
    "allCase = curdf['NewPositive']\n",
    "meanDates = rnTime(testDates,meanWidth)\n",
    "allCaseMean = rnMean(allCase,meanWidth)\n",
    "\n",
    "# ax1.plot(testDates,np.log(allCase),'k.:',linewidth=0.5,markersize=3)\n",
    "# ax1.plot(rnTime(testDates,meanWidth),rnMean(np.log(allCase),meanWidth),'k')\n",
    "\n",
    "\n",
    "\n",
    "# numPred = 30\n",
    "# curT = np.arange(0,numPred)\n",
    "# predDays = meanDates[-numPred:]\n",
    "# curI0 = allCaseMean[-numPred]\n",
    "iniPred = 60\n",
    "endPred = iniPred - 14\n",
    "curT = np.arange(0,iniPred-endPred)\n",
    "predDays = meanDates[-iniPred:-endPred]\n",
    "curI0 = allCaseMean[-iniPred]\n",
    "# predDays = testDates[-numPred:]\n",
    "# curI0 = allCase.values[-numPred]\n",
    "\n",
    "\n",
    "\n",
    "# allRts = np.arange(9,12,0.25)/10\n",
    "allRts = np.arange(10,13,0.5)/10\n",
    "\n",
    "# curRt = 1\n",
    "for curRt in allRts:\n",
    "    curModel = ( (curRt - 1) * curT / 4.7 ) + np.log(curI0)\n",
    "    ax1.plot(predDays,curModel,'--',label=str(curRt))\n",
    "\n",
    "\n",
    "\n",
    "ax1.plot(testDates,np.log(allCase),'k.:',linewidth=0.5,markersize=3)\n",
    "ax1.plot(rnTime(testDates,meanWidth),rnMean(np.log(allCase),meanWidth),'k')\n",
    "\n",
    "\n",
    "ax1.xaxis.set_major_formatter(mdates.DateFormatter('%d\\n%B'))\n",
    "\n",
    "# ax1.set_xlim(left=np.datetime64('2020-12-01'))\n",
    "# ax1.set_ylim(bottom=5)\n",
    "\n",
    "\n",
    "ax1.set_xlim(left=np.datetime64('2021-04-01'))\n",
    "ax1.set_ylim(bottom=4,top=7.5)\n",
    "\n",
    "ax1.legend()\n",
    "# ax1.plot(prevYearDates+np.timedelta64(365,'D'),prevYearSum,'b.:',linewidth=0.5,markersize=4)\n",
    "# ax1.plot(rnTime(prevYearDates+np.timedelta64(365,'D'),meanWidth),rnMean(prevYearSum,meanWidth),'b',label='2020')\n",
    "# ax1.plot(thisYearDates.values[:-1],thisYearSum.values[:-1],'r.:',linewidth=0.5,markersize=4)\n",
    "# ax1.plot(rnTime(thisYearDates.values[:-1],meanWidth),rnMean(thisYearSum.values[:-1],meanWidth),'r',label='2021')"
   ]
  },
  {
   "cell_type": "code",
   "execution_count": null,
   "metadata": {},
   "outputs": [
    {
     "data": {
      "text/plain": [
       "array(['0-2', '3-5', '6-11', '12-15', '16-19', '20-39', '40-64', '65-79',\n",
       "       '80+'], dtype=object)"
      ]
     },
     "execution_count": 18,
     "metadata": {},
     "output_type": "execute_result"
    }
   ],
   "source": [
    "# 'Regionalt_DB\\\\18_fnkt_alder_uge_testede_positive_nyindlagte'\n",
    "newfilename = \"C:\\\\Users\\\\rakrpe\\\\Documents\\\\PandemiX\\\\GithubRepos\\\\PandemiX\\\\DanskeData\\\\ssi_dashboard\\\\SSI_dashboard_2021-10-04\\\\Regionalt_DB\\\\18_fnkt_alder_uge_testede_positive_nyindlagte.csv\"\n",
    "\n",
    "testdf = pd.read_csv(newfilename,delimiter = ';',dtype=str)\n",
    "testdf['Testede pr. 100.000 borgere']  = pd.to_numeric(testdf['Testede pr. 100.000 borgere'])\n",
    "\n",
    "testdf.Aldersgruppe.unique()"
   ]
  },
  {
   "cell_type": "code",
   "execution_count": null,
   "metadata": {},
   "outputs": [
    {
     "data": {
      "application/vnd.jupyter.widget-view+json": {
       "model_id": "fc087e3695294734b250b24a7d336806",
       "version_major": 2,
       "version_minor": 0
      },
      "text/plain": [
       "Canvas(toolbar=Toolbar(toolitems=[('Home', 'Reset original view', 'home', 'home'), ('Back', 'Back to previous …"
      ]
     },
     "metadata": {},
     "output_type": "display_data"
    },
    {
     "data": {
      "text/plain": [
       "(0.0, 31587.4)"
      ]
     },
     "execution_count": 19,
     "metadata": {},
     "output_type": "execute_result"
    }
   ],
   "source": [
    "\n",
    "\n",
    "fig,ax1 = plt.subplots()\n",
    "\n",
    "curAgeString = '12-15'\n",
    "curagedf = testdf[testdf.Aldersgruppe == curAgeString].iloc[-20:]\n",
    "ax1.plot(curagedf.Uge.str[-2:],curagedf['Testede pr. 100.000 borgere'],label=curAgeString)\n",
    "curAgeString = '16-19'\n",
    "curagedf = testdf[testdf.Aldersgruppe == curAgeString].iloc[-20:]\n",
    "ax1.plot(curagedf.Uge.str[-2:],curagedf['Testede pr. 100.000 borgere'],label=curAgeString)\n",
    "curAgeString = '20-39'\n",
    "curagedf = testdf[testdf.Aldersgruppe == curAgeString].iloc[-20:]\n",
    "ax1.plot(curagedf.Uge.str[-2:],curagedf['Testede pr. 100.000 borgere'],label=curAgeString)\n",
    "curAgeString = '40-64'\n",
    "curagedf = testdf[testdf.Aldersgruppe == curAgeString].iloc[-20:]\n",
    "ax1.plot(curagedf.Uge.str[-2:],curagedf['Testede pr. 100.000 borgere'],label=curAgeString)\n",
    "\n",
    "ax1.legend()\n",
    "\n",
    "ax1.set_ylim(bottom=0)\n",
    "# curagedf.Uge.str[-2:]"
   ]
  },
  {
   "cell_type": "code",
   "execution_count": null,
   "metadata": {},
   "outputs": [],
   "source": []
  }
 ],
 "metadata": {
  "interpreter": {
   "hash": "c72cdf52cb3d31f207bca538e9396da8706c0ecf4a3038fb1c2b317934170431"
  },
  "kernelspec": {
   "display_name": "Python 3.8.5 64-bit ('main': conda)",
   "name": "python3"
  },
  "language_info": {
   "codemirror_mode": {
    "name": "ipython",
    "version": 3
   },
   "file_extension": ".py",
   "mimetype": "text/x-python",
   "name": "python",
   "nbconvert_exporter": "python",
   "pygments_lexer": "ipython3",
   "version": "3.8.5"
  }
 },
 "nbformat": 4,
 "nbformat_minor": 2
}
