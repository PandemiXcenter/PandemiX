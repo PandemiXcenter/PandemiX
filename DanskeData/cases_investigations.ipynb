{
 "cells": [
  {
   "cell_type": "code",
   "execution_count": 1,
   "source": [
    "# Main notebook for playing around looking at different things in data\r\n",
    "import numpy as np\r\n",
    "import pandas as pd\r\n",
    "pd.set_option('display.max_rows', 500)\r\n",
    "pd.set_option('display.min_rows', 50)\r\n",
    "import seaborn as sns\r\n",
    "\r\n",
    "\r\n",
    "import matplotlib.pyplot as plt\r\n",
    "%matplotlib widget\r\n",
    "plt.rcParams['figure.figsize'] = (12,8)\r\n",
    "# plt.rcParams[\"image.cmap\"] = \"Dark2\"\r\n",
    "# plt.rcParams['axes.prop_cycle'] = plt.cycler(color=plt.cm.Dark2.colors)\r\n",
    "plt.rcParams[\"image.cmap\"] = \"tab10\"\r\n",
    "plt.rcParams['axes.prop_cycle'] = plt.cycler(color=plt.cm.tab10.colors)\r\n",
    "fs_label = 16\r\n",
    "parameters = {\r\n",
    "                'axes.labelsize': fs_label,\r\n",
    "                'axes.titlesize': fs_label+4,\r\n",
    "                'xtick.labelsize': fs_label,\r\n",
    "                'ytick.labelsize': fs_label, \r\n",
    "                'legend.fontsize': fs_label, \r\n",
    "                'lines.markersize': 10,\r\n",
    "                'lines.linewidth': 3\r\n",
    "             }\r\n",
    "plt.rcParams.update(parameters)\r\n",
    "%matplotlib widget  \r\n",
    "# plt.style.use('ggplot')\r\n",
    "import matplotlib.colors as colors\r\n",
    "# cmap = plt.cm.get_cmap('Dark2',len(ageGroups))\r\n",
    "from matplotlib import cm # Colormaps\r\n",
    "\r\n",
    "import locale\r\n",
    "import matplotlib.dates as mdates\r\n",
    "locale.setlocale(locale.LC_TIME,\"Danish\")\r\n",
    "# ax = plt.gca()\r\n",
    "# ax1.xaxis.set_major_formatter(mdates.DateFormatter('%b\\n%Y'))\r\n",
    "# # ax.xaxis.set_major_formatter(mdates.DateFormatter('%Y \\n %B'))\r\n",
    "\r\n",
    "import os\r\n",
    "# import csv\r\n",
    "import math\r\n",
    "\r\n",
    "\r\n",
    "from datetime import date\r\n",
    "\r\n",
    "\r\n",
    "saveFigures = True\r\n",
    "# saveFigures = False\r\n",
    "print('saveFigures is set to: '+str(saveFigures))\r\n",
    "\r\n",
    "print('Done loading packages')\r\n",
    "\r\n",
    "def rnMean(data,meanWidth):\r\n",
    "    return np.convolve(data, np.ones(meanWidth)/meanWidth, mode='valid')\r\n",
    "def rnTime(t,meanWidth):\r\n",
    "    return t[math.floor(meanWidth/2):-math.ceil(meanWidth/2)+1]"
   ],
   "outputs": [
    {
     "output_type": "stream",
     "name": "stdout",
     "text": [
      "saveFigures is set to: True\n",
      "Done loading packages\n"
     ]
    }
   ],
   "metadata": {}
  },
  {
   "cell_type": "code",
   "execution_count": 2,
   "source": [
    "ssidatapath = \"ssi_data\"\r\n",
    "rootdir = os.getcwd() +\"/\" + ssidatapath"
   ],
   "outputs": [],
   "metadata": {}
  },
  {
   "cell_type": "code",
   "execution_count": 3,
   "source": [
    "dfAdm = pd.read_excel('Admitted\\Admitted.xlsx')\r\n",
    "dfAdm = dfAdm.transpose()\r\n",
    "dfAdm.columns = dfAdm.iloc[0]\r\n",
    "dfAdm = dfAdm.drop(['Aldersgruppe']) \r\n",
    "curDates =  pd.to_datetime(dfAdm.index,format='%d_%m_%Y')"
   ],
   "outputs": [],
   "metadata": {}
  },
  {
   "cell_type": "code",
   "execution_count": 4,
   "source": [
    "dfAdmDiff = dfAdm.diff().iloc[1:]\r\n",
    "plotDates = curDates[1:]"
   ],
   "outputs": [],
   "metadata": {}
  },
  {
   "cell_type": "code",
   "execution_count": 5,
   "source": [
    "dfCase = pd.DataFrame(columns=dfAdm.columns)\r\n",
    "dfTest = pd.DataFrame(columns=dfAdm.columns)\r\n",
    "dfPosP = pd.DataFrame(columns=dfAdm.columns)"
   ],
   "outputs": [],
   "metadata": {}
  },
  {
   "cell_type": "code",
   "execution_count": 6,
   "source": [
    "# Collect the cases, tests and positive percentage from all the \"cases by age\" files\r\n",
    "\r\n",
    "ssidatapath = \"ssi_data\"\r\n",
    "rootdir = os.getcwd() +\"/\" + ssidatapath\r\n",
    "\r\n",
    "for subdir, dirs, files in os.walk(rootdir):\r\n",
    "    if not len(files) == 0:\r\n",
    "        latestdir = subdir\r\n",
    "        latestDate = pd.to_datetime(subdir[-10:])\r\n",
    "        curdf = pd.read_csv(latestdir+'/Cases_by_age.csv',delimiter = ';',dtype=str)\r\n",
    "        \r\n",
    "        curdf['Antal_bekræftede_COVID-19'] = pd.to_numeric(curdf['Antal_bekræftede_COVID-19'].astype(str).apply(lambda x: x.replace('.','')))\r\n",
    "        curdf['Antal_testede'] = pd.to_numeric(curdf['Antal_testede'].astype(str).apply(lambda x: x.replace('.','')))\r\n",
    "        curdf['Procent_positive'] = pd.to_numeric(curdf['Procent_positive'].astype(str).apply(lambda x: x.replace(',','.')))\r\n",
    "        \r\n",
    "        \r\n",
    "        dfCase.loc[latestDate] = curdf['Antal_bekræftede_COVID-19'].values\r\n",
    "        dfTest.loc[latestDate] = curdf['Antal_testede'].values\r\n",
    "        dfPosP.loc[latestDate] = curdf['Procent_positive'].values\r\n",
    "\r\n",
    "allDates = dfCase.index\r\n"
   ],
   "outputs": [],
   "metadata": {}
  },
  {
   "cell_type": "code",
   "execution_count": 7,
   "source": [
    "# dfCaseDiff.tail()\r\n",
    "# dfCase"
   ],
   "outputs": [],
   "metadata": {}
  },
  {
   "cell_type": "code",
   "execution_count": 8,
   "source": [
    "dfCaseDiff = dfCase.diff().iloc[1:]\r\n",
    "dfTestDiff = dfTest.diff().iloc[1:]\r\n",
    "dfPosPDiff = dfPosP.diff().iloc[1:]\r\n",
    "plotDatesCase = allDates[1:]"
   ],
   "outputs": [],
   "metadata": {}
  },
  {
   "cell_type": "code",
   "execution_count": 9,
   "source": [
    "fig,ax1 = plt.subplots(1,1)\r\n",
    "\r\n",
    "howManyToUse = len(dfCaseDiff.columns)-4\r\n",
    "cmap = plt.cm.get_cmap('Dark2',howManyToUse)\r\n",
    "for k in range(0,howManyToUse):\r\n",
    "    curColName = dfCaseDiff.columns[k]\r\n",
    "    ax1.plot(plotDatesCase,dfCaseDiff[curColName],'.-',linewidth=0.4,label=curColName,color=cmap(k))\r\n",
    "    # meanWidth = 7\r\n",
    "    # ax1.plot(rnTime(plotDatesCase,meanWidth),rnMean(dfCaseDiff[curColName],meanWidth),label=curColName,color=cmap(k))\r\n",
    "\r\n",
    "\r\n",
    "# testMonday = np.datetime64('2021-05-17')\r\n",
    "testMonday = np.datetime64('2021-03-01')\r\n",
    "numMondays = 30\r\n",
    "for m in range(0,numMondays):\r\n",
    "    ax1.bar(testMonday+np.timedelta64(m*7,'D'),1000,color='grey')\r\n",
    "\r\n",
    "ax1.legend()\r\n",
    "\r\n",
    "ax1.set_ylim(bottom=0,top=1000)\r\n",
    "# ax1.set_xlim([np.datetime64('2021-03-01'),np.datetime64('2021-05-05')])\r\n",
    "ax1.set_xlim(left=np.datetime64('2021-05-01'))\r\n",
    "ax1.set_xlim(right=np.datetime64(date.today()))\r\n",
    "\r\n",
    "plt.tight_layout()"
   ],
   "outputs": [
    {
     "output_type": "display_data",
     "data": {
      "application/vnd.jupyter.widget-view+json": {
       "version_major": 2,
       "version_minor": 0,
       "model_id": "8cd5db806cd84933b9a80b696ea0d7a8"
      },
      "text/plain": [
       "Canvas(toolbar=Toolbar(toolitems=[('Home', 'Reset original view', 'home', 'home'), ('Back', 'Back to previous …"
      ]
     },
     "metadata": {}
    }
   ],
   "metadata": {}
  },
  {
   "cell_type": "code",
   "execution_count": 10,
   "source": [
    "# Compare years\r\n",
    "allDatesDiff = allDates[1:]\r\n",
    "\r\n",
    "fig,ax1 = plt.subplots(1,1)\r\n",
    "prevYearIndex = (allDatesDiff < np.datetime64('2021-01-01'))\r\n",
    "prevYearDates = allDatesDiff[prevYearIndex]\r\n",
    "prevYearSum = dfCaseDiff[prevYearIndex]['I alt']\r\n",
    "\r\n",
    "thisYearIndex = (allDatesDiff >= np.datetime64('2021-01-01'))\r\n",
    "thisYearDates = allDatesDiff[thisYearIndex]\r\n",
    "thisYearSum = dfCaseDiff[thisYearIndex]['I alt']\r\n",
    "\r\n",
    "ax1.plot(prevYearDates+np.timedelta64(365,'D'),prevYearSum)\r\n",
    "ax1.plot(thisYearDates,thisYearSum)\r\n",
    "\r\n",
    "ax1.xaxis.set_major_formatter(mdates.DateFormatter('%b\\n%Y'))"
   ],
   "outputs": [
    {
     "output_type": "display_data",
     "data": {
      "application/vnd.jupyter.widget-view+json": {
       "version_major": 2,
       "version_minor": 0,
       "model_id": "b93653221a8b46179ae99495c3d9649a"
      },
      "text/plain": [
       "Canvas(toolbar=Toolbar(toolitems=[('Home', 'Reset original view', 'home', 'home'), ('Back', 'Back to previous …"
      ]
     },
     "metadata": {}
    }
   ],
   "metadata": {}
  },
  {
   "cell_type": "code",
   "execution_count": 11,
   "source": [
    "\r\n",
    "curdf = pd.read_csv(latestdir+'/Test_pos_over_time.csv',delimiter = ';',dtype=str)\r\n",
    "# curdf"
   ],
   "outputs": [],
   "metadata": {}
  },
  {
   "cell_type": "code",
   "execution_count": 12,
   "source": [
    "curdf = curdf.iloc[:-2]\r\n",
    "# curdf['NewPositive'] = pd.to_numeric(curdf['NewPositive'])\r\n",
    "curdf['NewPositive'] = pd.to_numeric(curdf['NewPositive'].astype(str).apply(lambda x: x.replace('.','')))\r\n",
    "curdf['Tested'] = pd.to_numeric(curdf['Tested'].astype(str).apply(lambda x: x.replace('.','')))\r\n",
    "curdf['PosPct'] = pd.to_numeric(curdf['PosPct'].astype(str).apply(lambda x: x.replace(',','.')))\r\n",
    "\r\n",
    "testDates =  pd.to_datetime(curdf.Date,format='%Y-%m-%d')\r\n",
    "# curdf"
   ],
   "outputs": [],
   "metadata": {}
  },
  {
   "cell_type": "code",
   "execution_count": 22,
   "source": [
    "# plt.figure()\r\n",
    "# curdf"
   ],
   "outputs": [],
   "metadata": {}
  },
  {
   "cell_type": "code",
   "execution_count": 18,
   "source": [
    "\r\n",
    "fig,ax1 = plt.subplots(1,1)\r\n",
    "prevYearIndex = (testDates < np.datetime64('2021-01-01'))\r\n",
    "prevYearDates = testDates[prevYearIndex]\r\n",
    "prevYearSum = curdf[prevYearIndex]['NewPositive']\r\n",
    "\r\n",
    "thisYearIndex = (testDates >= np.datetime64('2021-01-01'))\r\n",
    "thisYearDates = testDates[thisYearIndex]\r\n",
    "thisYearSum = curdf[thisYearIndex]['NewPositive']\r\n",
    "\r\n",
    "ax1.plot(prevYearDates+np.timedelta64(365,'D'),prevYearSum,label='2020')\r\n",
    "ax1.plot(thisYearDates.values[:-1],thisYearSum.values[:-1],label='2021')\r\n",
    "# ax1.plot(thisYearDates,thisYearSum,label='2021')\r\n",
    "\r\n",
    "ax1.legend()\r\n",
    "ax1.grid()\r\n",
    "ax1.set_ylabel('Antal tilfælde')\r\n",
    "ax1.set_ylim(bottom=0)\r\n",
    "ax1.set_xlim([np.datetime64('2021-01-01'),np.datetime64('2022-01-01')])\r\n",
    "ax1.xaxis.set_major_formatter(mdates.DateFormatter('%B'))\r\n",
    "\r\n",
    "plt.tight_layout()\r\n",
    "plt.savefig('figs/Compare2020and2021')\r\n",
    "\r\n",
    "\r\n",
    "ax1.set_ylim(top=1500)\r\n",
    "ax1.set_xlim([np.datetime64('2021-03-01'),np.datetime64('2021-11-01')])\r\n",
    "ax1.xaxis.set_major_formatter(mdates.DateFormatter('%d\\n%B'))\r\n",
    "plt.tight_layout()\r\n",
    "plt.savefig('figs/Compare2020and2021Zoom')"
   ],
   "outputs": [
    {
     "output_type": "display_data",
     "data": {
      "application/vnd.jupyter.widget-view+json": {
       "version_major": 2,
       "version_minor": 0,
       "model_id": "d80ca76fce8440f5801ddc3683271144"
      },
      "text/plain": [
       "Canvas(toolbar=Toolbar(toolitems=[('Home', 'Reset original view', 'home', 'home'), ('Back', 'Back to previous …"
      ]
     },
     "metadata": {}
    }
   ],
   "metadata": {}
  },
  {
   "cell_type": "code",
   "execution_count": 20,
   "source": [
    "\r\n",
    "# fig,ax1 = plt.subplots(1,1)\r\n",
    "fig,(ax1,ax2,ax3) = plt.subplots(3,1,sharex=True,figsize=(14,20))\r\n",
    "prevYearIndex = (testDates < np.datetime64('2021-01-01'))\r\n",
    "prevYearDates = testDates[prevYearIndex]\r\n",
    "prevYearSum = curdf[prevYearIndex]['NewPositive']\r\n",
    "prevYearTest = curdf[prevYearIndex]['Tested']\r\n",
    "# prevYearPos = curdf[prevYearIndex]['PosPct']\r\n",
    "prevYearPos = 100 * np.divide(prevYearSum,prevYearTest)\r\n",
    "\r\n",
    "thisYearIndex = (testDates >= np.datetime64('2021-01-01'))\r\n",
    "thisYearDates = testDates[thisYearIndex]\r\n",
    "thisYearSum = curdf[thisYearIndex]['NewPositive']\r\n",
    "thisYearTest = curdf[thisYearIndex]['Tested']\r\n",
    "# thisYearPos = curdf[thisYearIndex]['PosPct']\r\n",
    "thisYearPos = 100 * np.divide(thisYearSum,thisYearTest)\r\n",
    "\r\n",
    "meanWidth=7\r\n",
    "\r\n",
    "ax1.plot(prevYearDates+np.timedelta64(365,'D'),prevYearSum,'b.:',linewidth=0.5,markersize=4)\r\n",
    "ax1.plot(rnTime(prevYearDates+np.timedelta64(365,'D'),meanWidth),rnMean(prevYearSum,meanWidth),'b',label='2020')\r\n",
    "ax1.plot(thisYearDates.values[:-1],thisYearSum.values[:-1],'r.:',linewidth=0.5,markersize=4)\r\n",
    "ax1.plot(rnTime(thisYearDates.values[:-1],meanWidth),rnMean(thisYearSum.values[:-1],meanWidth),'r',label='2021')\r\n",
    "\r\n",
    "\r\n",
    "ax2.plot(prevYearDates+np.timedelta64(365,'D'),prevYearTest,'b.:',linewidth=0.5,markersize=4)\r\n",
    "ax2.plot(thisYearDates.values[:-1],thisYearTest.values[:-1],'r.:',linewidth=0.5,markersize=4)\r\n",
    "ax2.plot(rnTime(prevYearDates+np.timedelta64(365,'D'),meanWidth),rnMean(prevYearTest,meanWidth),'b',label='2020')\r\n",
    "ax2.plot(rnTime(thisYearDates.values[:-1],meanWidth),rnMean(thisYearTest.values[:-1],meanWidth),'r',label='2021')\r\n",
    "\r\n",
    "\r\n",
    "ax3.plot(prevYearDates+np.timedelta64(365,'D'),prevYearPos,'b.:',linewidth=0.5,markersize=4)\r\n",
    "ax3.plot(thisYearDates.values[:-1],thisYearPos.values[:-1],'r.:',linewidth=0.5,markersize=4)\r\n",
    "ax3.plot(rnTime(prevYearDates+np.timedelta64(365,'D'),meanWidth),rnMean(prevYearPos,meanWidth),'b',label='2020')\r\n",
    "ax3.plot(rnTime(thisYearDates.values[:-1],meanWidth),rnMean(thisYearPos.values[:-1],meanWidth),'r',label='2021')\r\n",
    "\r\n",
    "\r\n",
    "xTicks = np.arange(np.datetime64('2021-01'),np.datetime64('2022-01'))\r\n",
    "ax1.set_xticks(xTicks)\r\n",
    "# plt.xticks(rotation=90)\r\n",
    "\r\n",
    "ax1.legend()\r\n",
    "ax1.grid()\r\n",
    "ax2.grid()\r\n",
    "ax3.grid()\r\n",
    "ax1.set_ylabel('Antal tilfælde')\r\n",
    "ax2.set_ylabel('Antal test')\r\n",
    "ax3.set_ylabel('Positiv procent [%]')\r\n",
    "ax1.set_ylim(bottom=0)\r\n",
    "ax2.set_ylim(bottom=0)\r\n",
    "ax3.set_ylim(bottom=0)\r\n",
    "ax1.set_xlim([np.datetime64('2021-01-01'),np.datetime64('2022-01-01')])\r\n",
    "ax1.xaxis.set_major_formatter(mdates.DateFormatter('%b'))\r\n",
    "\r\n",
    "plt.tight_layout()\r\n",
    "plt.savefig('figs/Compare2020and2021_All')\r\n",
    "\r\n",
    "xTicks = np.arange(np.datetime64('2021-01-04'),np.datetime64('2022-01-11'),np.timedelta64(14,'D'))\r\n",
    "ax1.set_xticks(xTicks)\r\n",
    "\r\n",
    "ax3.set_ylim(top=2.1)\r\n",
    "\r\n",
    "ax1.set_ylim(top=1600)\r\n",
    "ax1.set_xlim([np.datetime64('2021-04-01'),np.datetime64('2021-11-01')])\r\n",
    "ax1.xaxis.set_major_formatter(mdates.DateFormatter('%d\\n%B'))\r\n",
    "plt.tight_layout()\r\n",
    "plt.savefig('figs/Compare2020and2021_All_Zoom')\r\n",
    "\r\n",
    "# xTicks = np.arange(np.datetime64('2021-01-04'),np.datetime64('2022-01-08'),np.timedelta64(14,'D'))\r\n",
    "# ax1.set_xticks(xTicks)\r\n",
    "\r\n",
    "# ax3.set_ylim(top=1)\r\n",
    "\r\n",
    "# ax1.set_ylim(top=1200)\r\n",
    "ax1.set_xlim([np.datetime64('2021-06-01'),np.datetime64('2021-11-01')])\r\n",
    "ax1.xaxis.set_major_formatter(mdates.DateFormatter('%d\\n%B'))\r\n",
    "plt.tight_layout()\r\n",
    "plt.savefig('figs/Compare2020and2021_All_Zoom_Zoom')"
   ],
   "outputs": [
    {
     "output_type": "display_data",
     "data": {
      "application/vnd.jupyter.widget-view+json": {
       "version_major": 2,
       "version_minor": 0,
       "model_id": "081ef294c8da49eeb0c5032b53e00f6e"
      },
      "text/plain": [
       "Canvas(toolbar=Toolbar(toolitems=[('Home', 'Reset original view', 'home', 'home'), ('Back', 'Back to previous …"
      ]
     },
     "metadata": {}
    }
   ],
   "metadata": {}
  },
  {
   "cell_type": "code",
   "execution_count": 16,
   "source": [
    "# import datetime\r\n",
    "# d = \"2021-W22\"\r\n",
    "# r = datetime.datetime.strptime(d + '-1', \"%Y-W%W-%w\")\r\n",
    "# print(np.datetime64(r))"
   ],
   "outputs": [],
   "metadata": {}
  },
  {
   "cell_type": "code",
   "execution_count": 17,
   "source": [
    "fig,ax1 = plt.subplots(1,1)\r\n",
    "meanWidth=7\r\n",
    "\r\n",
    "allCase = curdf['NewPositive']\r\n",
    "meanDates = rnTime(testDates,meanWidth)\r\n",
    "allCaseMean = rnMean(allCase,meanWidth)\r\n",
    "\r\n",
    "# ax1.plot(testDates,np.log(allCase),'k.:',linewidth=0.5,markersize=3)\r\n",
    "# ax1.plot(rnTime(testDates,meanWidth),rnMean(np.log(allCase),meanWidth),'k')\r\n",
    "\r\n",
    "\r\n",
    "\r\n",
    "# numPred = 30\r\n",
    "# curT = np.arange(0,numPred)\r\n",
    "# predDays = meanDates[-numPred:]\r\n",
    "# curI0 = allCaseMean[-numPred]\r\n",
    "iniPred = 60\r\n",
    "endPred = iniPred - 14\r\n",
    "curT = np.arange(0,iniPred-endPred)\r\n",
    "predDays = meanDates[-iniPred:-endPred]\r\n",
    "curI0 = allCaseMean[-iniPred]\r\n",
    "# predDays = testDates[-numPred:]\r\n",
    "# curI0 = allCase.values[-numPred]\r\n",
    "\r\n",
    "\r\n",
    "\r\n",
    "# allRts = np.arange(9,12,0.25)/10\r\n",
    "allRts = np.arange(10,13,0.5)/10\r\n",
    "\r\n",
    "# curRt = 1\r\n",
    "for curRt in allRts:\r\n",
    "    curModel = ( (curRt - 1) * curT / 4.7 ) + np.log(curI0)\r\n",
    "    ax1.plot(predDays,curModel,'--',label=str(curRt))\r\n",
    "\r\n",
    "\r\n",
    "\r\n",
    "ax1.plot(testDates,np.log(allCase),'k.:',linewidth=0.5,markersize=3)\r\n",
    "ax1.plot(rnTime(testDates,meanWidth),rnMean(np.log(allCase),meanWidth),'k')\r\n",
    "\r\n",
    "\r\n",
    "ax1.xaxis.set_major_formatter(mdates.DateFormatter('%d\\n%B'))\r\n",
    "\r\n",
    "# ax1.set_xlim(left=np.datetime64('2020-12-01'))\r\n",
    "# ax1.set_ylim(bottom=5)\r\n",
    "\r\n",
    "\r\n",
    "ax1.set_xlim(left=np.datetime64('2021-04-01'))\r\n",
    "ax1.set_ylim(bottom=4,top=7.5)\r\n",
    "\r\n",
    "ax1.legend()\r\n",
    "# ax1.plot(prevYearDates+np.timedelta64(365,'D'),prevYearSum,'b.:',linewidth=0.5,markersize=4)\r\n",
    "# ax1.plot(rnTime(prevYearDates+np.timedelta64(365,'D'),meanWidth),rnMean(prevYearSum,meanWidth),'b',label='2020')\r\n",
    "# ax1.plot(thisYearDates.values[:-1],thisYearSum.values[:-1],'r.:',linewidth=0.5,markersize=4)\r\n",
    "# ax1.plot(rnTime(thisYearDates.values[:-1],meanWidth),rnMean(thisYearSum.values[:-1],meanWidth),'r',label='2021')"
   ],
   "outputs": [
    {
     "output_type": "display_data",
     "data": {
      "application/vnd.jupyter.widget-view+json": {
       "version_major": 2,
       "version_minor": 0,
       "model_id": "7582cab996994c56a16875ff5b88a665"
      },
      "text/plain": [
       "Canvas(toolbar=Toolbar(toolitems=[('Home', 'Reset original view', 'home', 'home'), ('Back', 'Back to previous …"
      ]
     },
     "metadata": {}
    },
    {
     "output_type": "stream",
     "name": "stderr",
     "text": [
      "C:\\Users\\rakrpe\\Anaconda3\\envs\\main\\lib\\site-packages\\pandas\\core\\arraylike.py:358: RuntimeWarning: divide by zero encountered in log\n",
      "  result = getattr(ufunc, method)(*inputs, **kwargs)\n",
      "C:\\Users\\rakrpe\\Anaconda3\\envs\\main\\lib\\site-packages\\pandas\\core\\arraylike.py:358: RuntimeWarning: divide by zero encountered in log\n",
      "  result = getattr(ufunc, method)(*inputs, **kwargs)\n"
     ]
    },
    {
     "output_type": "execute_result",
     "data": {
      "text/plain": [
       "<matplotlib.legend.Legend at 0x1fe870a8a30>"
      ]
     },
     "metadata": {},
     "execution_count": 17
    }
   ],
   "metadata": {}
  },
  {
   "cell_type": "code",
   "execution_count": 39,
   "source": [
    "# 'Regionalt_DB\\\\18_fnkt_alder_uge_testede_positive_nyindlagte'\r\n",
    "newfilename = \"C:\\\\Users\\\\rakrpe\\\\Documents\\\\PandemiX\\\\GithubRepos\\\\PandemiX\\\\DanskeData\\\\ssi_dashboard\\\\SSI_dashboard_2021-10-04\\\\Regionalt_DB\\\\18_fnkt_alder_uge_testede_positive_nyindlagte.csv\"\r\n",
    "\r\n",
    "testdf = pd.read_csv(newfilename,delimiter = ';',dtype=str)\r\n",
    "testdf['Testede pr. 100.000 borgere']  = pd.to_numeric(testdf['Testede pr. 100.000 borgere'])\r\n",
    "\r\n",
    "testdf.Aldersgruppe.unique()"
   ],
   "outputs": [
    {
     "output_type": "execute_result",
     "data": {
      "text/plain": [
       "array(['0-2', '3-5', '6-11', '12-15', '16-19', '20-39', '40-64', '65-79',\n",
       "       '80+'], dtype=object)"
      ]
     },
     "metadata": {},
     "execution_count": 39
    }
   ],
   "metadata": {}
  },
  {
   "cell_type": "code",
   "execution_count": 46,
   "source": [
    "\r\n",
    "\r\n",
    "fig,ax1 = plt.subplots()\r\n",
    "\r\n",
    "curAgeString = '12-15'\r\n",
    "curagedf = testdf[testdf.Aldersgruppe == curAgeString].iloc[-20:]\r\n",
    "ax1.plot(curagedf.Uge.str[-2:],curagedf['Testede pr. 100.000 borgere'],label=curAgeString)\r\n",
    "curAgeString = '16-19'\r\n",
    "curagedf = testdf[testdf.Aldersgruppe == curAgeString].iloc[-20:]\r\n",
    "ax1.plot(curagedf.Uge.str[-2:],curagedf['Testede pr. 100.000 borgere'],label=curAgeString)\r\n",
    "curAgeString = '20-39'\r\n",
    "curagedf = testdf[testdf.Aldersgruppe == curAgeString].iloc[-20:]\r\n",
    "ax1.plot(curagedf.Uge.str[-2:],curagedf['Testede pr. 100.000 borgere'],label=curAgeString)\r\n",
    "curAgeString = '40-64'\r\n",
    "curagedf = testdf[testdf.Aldersgruppe == curAgeString].iloc[-20:]\r\n",
    "ax1.plot(curagedf.Uge.str[-2:],curagedf['Testede pr. 100.000 borgere'],label=curAgeString)\r\n",
    "\r\n",
    "ax1.legend()\r\n",
    "\r\n",
    "ax1.set_ylim(bottom=0)\r\n",
    "# curagedf.Uge.str[-2:]"
   ],
   "outputs": [
    {
     "output_type": "display_data",
     "data": {
      "application/vnd.jupyter.widget-view+json": {
       "version_major": 2,
       "version_minor": 0,
       "model_id": "da9462f0352a4b90b43fcf2718476e56"
      },
      "text/plain": [
       "Canvas(toolbar=Toolbar(toolitems=[('Home', 'Reset original view', 'home', 'home'), ('Back', 'Back to previous …"
      ]
     },
     "metadata": {}
    },
    {
     "output_type": "execute_result",
     "data": {
      "text/plain": [
       "(0.0, 31587.4)"
      ]
     },
     "metadata": {},
     "execution_count": 46
    }
   ],
   "metadata": {}
  },
  {
   "cell_type": "code",
   "execution_count": null,
   "source": [],
   "outputs": [],
   "metadata": {}
  }
 ],
 "metadata": {
  "interpreter": {
   "hash": "c72cdf52cb3d31f207bca538e9396da8706c0ecf4a3038fb1c2b317934170431"
  },
  "kernelspec": {
   "name": "python3",
   "display_name": "Python 3.8.5 64-bit ('main': conda)"
  },
  "language_info": {
   "codemirror_mode": {
    "name": "ipython",
    "version": 3
   },
   "file_extension": ".py",
   "mimetype": "text/x-python",
   "name": "python",
   "nbconvert_exporter": "python",
   "pygments_lexer": "ipython3",
   "version": "3.8.5"
  }
 },
 "nbformat": 4,
 "nbformat_minor": 2
}