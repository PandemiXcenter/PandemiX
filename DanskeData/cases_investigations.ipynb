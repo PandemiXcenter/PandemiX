{
 "cells": [
  {
   "cell_type": "code",
   "execution_count": 1,
   "metadata": {},
   "outputs": [
    {
     "name": "stdout",
     "output_type": "stream",
     "text": [
      "saveFigures is set to: True\n",
      "Done loading packages\n"
     ]
    }
   ],
   "source": [
    "# Main notebook for playing around looking at different things in data\n",
    "import numpy as np\n",
    "import pandas as pd\n",
    "pd.set_option('display.max_rows', 500)\n",
    "pd.set_option('display.min_rows', 50)\n",
    "import seaborn as sns\n",
    "\n",
    "\n",
    "import matplotlib.pyplot as plt\n",
    "%matplotlib widget\n",
    "plt.rcParams['figure.figsize'] = (12,8)\n",
    "# plt.rcParams[\"image.cmap\"] = \"Dark2\"\n",
    "# plt.rcParams['axes.prop_cycle'] = plt.cycler(color=plt.cm.Dark2.colors)\n",
    "plt.rcParams[\"image.cmap\"] = \"tab10\"\n",
    "plt.rcParams['axes.prop_cycle'] = plt.cycler(color=plt.cm.tab10.colors)\n",
    "fs_label = 16\n",
    "parameters = {\n",
    "                'axes.labelsize': fs_label,\n",
    "                'axes.titlesize': fs_label+4,\n",
    "                'xtick.labelsize': fs_label,\n",
    "                'ytick.labelsize': fs_label, \n",
    "                'legend.fontsize': fs_label, \n",
    "                'lines.markersize': 10,\n",
    "                'lines.linewidth': 3\n",
    "             }\n",
    "plt.rcParams.update(parameters)\n",
    "%matplotlib widget  \n",
    "# plt.style.use('ggplot')\n",
    "import matplotlib.colors as colors\n",
    "# cmap = plt.cm.get_cmap('Dark2',len(ageGroups))\n",
    "from matplotlib import cm # Colormaps\n",
    "\n",
    "import locale\n",
    "import matplotlib.dates as mdates\n",
    "locale.setlocale(locale.LC_TIME,\"Danish\")\n",
    "# ax = plt.gca()\n",
    "# ax1.xaxis.set_major_formatter(mdates.DateFormatter('%b\\n%Y'))\n",
    "# # ax.xaxis.set_major_formatter(mdates.DateFormatter('%Y \\n %B'))\n",
    "\n",
    "import os\n",
    "# import csv\n",
    "import math\n",
    "\n",
    "\n",
    "from datetime import date\n",
    "\n",
    "\n",
    "saveFigures = True\n",
    "# saveFigures = False\n",
    "print('saveFigures is set to: '+str(saveFigures))\n",
    "\n",
    "print('Done loading packages')\n",
    "\n",
    "def rnMean(data,meanWidth):\n",
    "    return np.convolve(data, np.ones(meanWidth)/meanWidth, mode='valid')\n",
    "def rnTime(t,meanWidth):\n",
    "    return t[math.floor(meanWidth/2):-math.ceil(meanWidth/2)+1]"
   ]
  },
  {
   "cell_type": "code",
   "execution_count": 2,
   "metadata": {},
   "outputs": [],
   "source": [
    "ssidatapath = \"ssi_data\"\n",
    "rootdir = os.getcwd() +\"/\" + ssidatapath"
   ]
  },
  {
   "cell_type": "code",
   "execution_count": 3,
   "metadata": {},
   "outputs": [],
   "source": [
    "dfAdm = pd.read_excel('Admitted\\Admitted.xlsx')\n",
    "dfAdm = dfAdm.transpose()\n",
    "dfAdm.columns = dfAdm.iloc[0]\n",
    "dfAdm = dfAdm.drop(['Aldersgruppe']) \n",
    "curDates =  pd.to_datetime(dfAdm.index,format='%d_%m_%Y')"
   ]
  },
  {
   "cell_type": "code",
   "execution_count": 4,
   "metadata": {},
   "outputs": [],
   "source": [
    "dfAdmDiff = dfAdm.diff().iloc[1:]\n",
    "plotDates = curDates[1:]"
   ]
  },
  {
   "cell_type": "code",
   "execution_count": 5,
   "metadata": {},
   "outputs": [],
   "source": [
    "dfCase = pd.DataFrame(columns=dfAdm.columns)\n",
    "dfTest = pd.DataFrame(columns=dfAdm.columns)\n",
    "dfPosP = pd.DataFrame(columns=dfAdm.columns)"
   ]
  },
  {
   "cell_type": "code",
   "execution_count": 6,
   "metadata": {},
   "outputs": [],
   "source": [
    "# Collect the cases, tests and positive percentage from all the \"cases by age\" files\n",
    "\n",
    "ssidatapath = \"ssi_data\"\n",
    "rootdir = os.getcwd() +\"/\" + ssidatapath\n",
    "\n",
    "for subdir, dirs, files in os.walk(rootdir):\n",
    "    if not len(files) == 0:\n",
    "        latestdir = subdir\n",
    "        latestDate = pd.to_datetime(subdir[-10:])\n",
    "        curdf = pd.read_csv(latestdir+'/Cases_by_age.csv',delimiter = ';',dtype=str)\n",
    "        \n",
    "        curdf['Antal_bekræftede_COVID-19'] = pd.to_numeric(curdf['Antal_bekræftede_COVID-19'].astype(str).apply(lambda x: x.replace('.','')))\n",
    "        curdf['Antal_testede'] = pd.to_numeric(curdf['Antal_testede'].astype(str).apply(lambda x: x.replace('.','')))\n",
    "        curdf['Procent_positive'] = pd.to_numeric(curdf['Procent_positive'].astype(str).apply(lambda x: x.replace(',','.')))\n",
    "        \n",
    "        \n",
    "        dfCase.loc[latestDate] = curdf['Antal_bekræftede_COVID-19'].values\n",
    "        dfTest.loc[latestDate] = curdf['Antal_testede'].values\n",
    "        dfPosP.loc[latestDate] = curdf['Procent_positive'].values\n",
    "\n",
    "allDates = dfCase.index\n"
   ]
  },
  {
   "cell_type": "code",
   "execution_count": 7,
   "metadata": {},
   "outputs": [],
   "source": [
    "# dfCaseDiff.tail()\r\n",
    "# dfCase"
   ]
  },
  {
   "cell_type": "code",
   "execution_count": 8,
   "metadata": {},
   "outputs": [],
   "source": [
    "dfCaseDiff = dfCase.diff().iloc[1:]\n",
    "dfTestDiff = dfTest.diff().iloc[1:]\n",
    "dfPosPDiff = dfPosP.diff().iloc[1:]\n",
    "plotDatesCase = allDates[1:]"
   ]
  },
  {
   "cell_type": "code",
   "execution_count": 9,
   "metadata": {},
   "outputs": [
    {
     "data": {
      "application/vnd.jupyter.widget-view+json": {
       "model_id": "aa8b5c2f32f5481d92ae3ab381c6923b",
       "version_major": 2,
       "version_minor": 0
      },
      "text/plain": [
       "Canvas(toolbar=Toolbar(toolitems=[('Home', 'Reset original view', 'home', 'home'), ('Back', 'Back to previous …"
      ]
     },
     "metadata": {},
     "output_type": "display_data"
    }
   ],
   "source": [
    "fig,ax1 = plt.subplots(1,1)\n",
    "\n",
    "howManyToUse = len(dfCaseDiff.columns)-4\n",
    "cmap = plt.cm.get_cmap('Dark2',howManyToUse)\n",
    "for k in range(0,howManyToUse):\n",
    "    curColName = dfCaseDiff.columns[k]\n",
    "    ax1.plot(plotDatesCase,dfCaseDiff[curColName],'.-',linewidth=0.4,label=curColName,color=cmap(k))\n",
    "    # meanWidth = 7\n",
    "    # ax1.plot(rnTime(plotDatesCase,meanWidth),rnMean(dfCaseDiff[curColName],meanWidth),label=curColName,color=cmap(k))\n",
    "\n",
    "\n",
    "# testMonday = np.datetime64('2021-05-17')\n",
    "testMonday = np.datetime64('2021-03-01')\n",
    "numMondays = 30\n",
    "for m in range(0,numMondays):\n",
    "    ax1.bar(testMonday+np.timedelta64(m*7,'D'),1000,color='grey')\n",
    "\n",
    "ax1.legend()\n",
    "\n",
    "ax1.set_ylim(bottom=0,top=1000)\n",
    "# ax1.set_xlim([np.datetime64('2021-03-01'),np.datetime64('2021-05-05')])\n",
    "ax1.set_xlim(left=np.datetime64('2021-03-01'))\n",
    "ax1.set_xlim(right=np.datetime64(date.today()))\n",
    "\n",
    "plt.tight_layout()"
   ]
  },
  {
   "cell_type": "code",
   "execution_count": 10,
   "metadata": {},
   "outputs": [
    {
     "data": {
      "application/vnd.jupyter.widget-view+json": {
       "model_id": "381a5acbba3c41acb962529ce6fe6742",
       "version_major": 2,
       "version_minor": 0
      },
      "text/plain": [
       "Canvas(toolbar=Toolbar(toolitems=[('Home', 'Reset original view', 'home', 'home'), ('Back', 'Back to previous …"
      ]
     },
     "metadata": {},
     "output_type": "display_data"
    }
   ],
   "source": [
    "# Compare years\n",
    "allDatesDiff = allDates[1:]\n",
    "\n",
    "fig,ax1 = plt.subplots(1,1)\n",
    "prevYearIndex = (allDatesDiff < np.datetime64('2021-01-01'))\n",
    "prevYearDates = allDatesDiff[prevYearIndex]\n",
    "prevYearSum = dfCaseDiff[prevYearIndex]['I alt']\n",
    "\n",
    "thisYearIndex = (allDatesDiff >= np.datetime64('2021-01-01'))\n",
    "thisYearDates = allDatesDiff[thisYearIndex]\n",
    "thisYearSum = dfCaseDiff[thisYearIndex]['I alt']\n",
    "\n",
    "ax1.plot(prevYearDates+np.timedelta64(365,'D'),prevYearSum)\n",
    "ax1.plot(thisYearDates,thisYearSum)\n",
    "\n",
    "ax1.xaxis.set_major_formatter(mdates.DateFormatter('%b\\n%Y'))"
   ]
  },
  {
   "cell_type": "code",
   "execution_count": 11,
   "metadata": {},
   "outputs": [],
   "source": [
    "\n",
    "curdf = pd.read_csv(latestdir+'/Test_pos_over_time.csv',delimiter = ';',dtype=str)\n",
    "# curdf"
   ]
  },
  {
   "cell_type": "code",
   "execution_count": 12,
   "metadata": {},
   "outputs": [],
   "source": [
    "curdf = curdf.iloc[:-2]\n",
    "# curdf['NewPositive'] = pd.to_numeric(curdf['NewPositive'])\n",
    "curdf['NewPositive'] = pd.to_numeric(curdf['NewPositive'].astype(str).apply(lambda x: x.replace('.','')))\n",
    "curdf['Tested'] = pd.to_numeric(curdf['Tested'].astype(str).apply(lambda x: x.replace('.','')))\n",
    "curdf['PosPct'] = pd.to_numeric(curdf['PosPct'].astype(str).apply(lambda x: x.replace(',','.')))\n",
    "\n",
    "testDates =  pd.to_datetime(curdf.Date,format='%Y-%m-%d')\n",
    "# curdf"
   ]
  },
  {
   "cell_type": "code",
   "execution_count": 13,
   "metadata": {},
   "outputs": [],
   "source": [
    "# plt.figure()\n",
    "# curdf"
   ]
  },
  {
   "cell_type": "code",
   "execution_count": 14,
   "metadata": {},
   "outputs": [
    {
     "data": {
      "application/vnd.jupyter.widget-view+json": {
       "model_id": "6d989c04bcbd4a9ea9160cd58acb7d6c",
       "version_major": 2,
       "version_minor": 0
      },
      "text/plain": [
       "Canvas(toolbar=Toolbar(toolitems=[('Home', 'Reset original view', 'home', 'home'), ('Back', 'Back to previous …"
      ]
     },
     "metadata": {},
     "output_type": "display_data"
    }
   ],
   "source": [
    "\n",
    "fig,ax1 = plt.subplots(1,1)\n",
    "prevYearIndex = (testDates < np.datetime64('2021-01-01'))\n",
    "prevYearDates = testDates[prevYearIndex]\n",
    "prevYearSum = curdf[prevYearIndex]['NewPositive']\n",
    "\n",
    "thisYearIndex = (testDates >= np.datetime64('2021-01-01'))\n",
    "thisYearDates = testDates[thisYearIndex]\n",
    "thisYearSum = curdf[thisYearIndex]['NewPositive']\n",
    "\n",
    "ax1.plot(prevYearDates+np.timedelta64(365,'D'),prevYearSum,label='2020')\n",
    "ax1.plot(thisYearDates.values[:-1],thisYearSum.values[:-1],label='2021')\n",
    "# ax1.plot(thisYearDates,thisYearSum,label='2021')\n",
    "\n",
    "ax1.legend()\n",
    "ax1.grid()\n",
    "ax1.set_ylabel('Antal tilfælde')\n",
    "ax1.set_ylim(bottom=0)\n",
    "ax1.set_xlim([np.datetime64('2021-01-01'),np.datetime64('2022-01-01')])\n",
    "ax1.xaxis.set_major_formatter(mdates.DateFormatter('%B'))\n",
    "\n",
    "plt.tight_layout()\n",
    "plt.savefig('figs/Compare2020and2021')\n",
    "\n",
    "\n",
    "ax1.set_ylim(top=1500)\n",
    "ax1.set_xlim([np.datetime64('2021-03-01'),np.datetime64('2021-07-01')])\n",
    "ax1.xaxis.set_major_formatter(mdates.DateFormatter('%d\\n%B'))\n",
    "plt.tight_layout()\n",
    "plt.savefig('figs/Compare2020and2021Zoom')"
   ]
  },
  {
   "cell_type": "code",
   "execution_count": 15,
   "metadata": {},
   "outputs": [
    {
     "data": {
      "application/vnd.jupyter.widget-view+json": {
       "model_id": "cc6feaf146014b189fd261ec0cb8cf7c",
       "version_major": 2,
       "version_minor": 0
      },
      "text/plain": [
       "Canvas(toolbar=Toolbar(toolitems=[('Home', 'Reset original view', 'home', 'home'), ('Back', 'Back to previous …"
      ]
     },
     "metadata": {},
     "output_type": "display_data"
    }
   ],
   "source": [
    "\r\n",
    "# fig,ax1 = plt.subplots(1,1)\r\n",
    "fig,(ax1,ax2,ax3) = plt.subplots(3,1,sharex=True,figsize=(14,20))\r\n",
    "prevYearIndex = (testDates < np.datetime64('2021-01-01'))\r\n",
    "prevYearDates = testDates[prevYearIndex]\r\n",
    "prevYearSum = curdf[prevYearIndex]['NewPositive']\r\n",
    "prevYearTest = curdf[prevYearIndex]['Tested']\r\n",
    "# prevYearPos = curdf[prevYearIndex]['PosPct']\r\n",
    "prevYearPos = 100 * np.divide(prevYearSum,prevYearTest)\r\n",
    "\r\n",
    "thisYearIndex = (testDates >= np.datetime64('2021-01-01'))\r\n",
    "thisYearDates = testDates[thisYearIndex]\r\n",
    "thisYearSum = curdf[thisYearIndex]['NewPositive']\r\n",
    "thisYearTest = curdf[thisYearIndex]['Tested']\r\n",
    "# thisYearPos = curdf[thisYearIndex]['PosPct']\r\n",
    "thisYearPos = 100 * np.divide(thisYearSum,thisYearTest)\r\n",
    "\r\n",
    "meanWidth=7\r\n",
    "\r\n",
    "ax1.plot(prevYearDates+np.timedelta64(365,'D'),prevYearSum,'b.:',linewidth=0.5,markersize=4)\r\n",
    "ax1.plot(rnTime(prevYearDates+np.timedelta64(365,'D'),meanWidth),rnMean(prevYearSum,meanWidth),'b',label='2020')\r\n",
    "ax1.plot(thisYearDates.values[:-1],thisYearSum.values[:-1],'r.:',linewidth=0.5,markersize=4)\r\n",
    "ax1.plot(rnTime(thisYearDates.values[:-1],meanWidth),rnMean(thisYearSum.values[:-1],meanWidth),'r',label='2021')\r\n",
    "\r\n",
    "\r\n",
    "ax2.plot(prevYearDates+np.timedelta64(365,'D'),prevYearTest,'b.:',linewidth=0.5,markersize=4)\r\n",
    "ax2.plot(thisYearDates.values[:-1],thisYearTest.values[:-1],'r.:',linewidth=0.5,markersize=4)\r\n",
    "ax2.plot(rnTime(prevYearDates+np.timedelta64(365,'D'),meanWidth),rnMean(prevYearTest,meanWidth),'b',label='2020')\r\n",
    "ax2.plot(rnTime(thisYearDates.values[:-1],meanWidth),rnMean(thisYearTest.values[:-1],meanWidth),'r',label='2021')\r\n",
    "\r\n",
    "\r\n",
    "ax3.plot(prevYearDates+np.timedelta64(365,'D'),prevYearPos,'b.:',linewidth=0.5,markersize=4)\r\n",
    "ax3.plot(thisYearDates.values[:-1],thisYearPos.values[:-1],'r.:',linewidth=0.5,markersize=4)\r\n",
    "ax3.plot(rnTime(prevYearDates+np.timedelta64(365,'D'),meanWidth),rnMean(prevYearPos,meanWidth),'b',label='2020')\r\n",
    "ax3.plot(rnTime(thisYearDates.values[:-1],meanWidth),rnMean(thisYearPos.values[:-1],meanWidth),'r',label='2021')\r\n",
    "\r\n",
    "\r\n",
    "xTicks = np.arange(np.datetime64('2021-01'),np.datetime64('2022-01'))\r\n",
    "ax1.set_xticks(xTicks)\r\n",
    "# plt.xticks(rotation=90)\r\n",
    "\r\n",
    "ax1.legend()\r\n",
    "ax1.grid()\r\n",
    "ax2.grid()\r\n",
    "ax3.grid()\r\n",
    "ax1.set_ylabel('Antal tilfælde')\r\n",
    "ax2.set_ylabel('Antal test')\r\n",
    "ax3.set_ylabel('Positiv procent [%]')\r\n",
    "ax1.set_ylim(bottom=0)\r\n",
    "ax2.set_ylim(bottom=0)\r\n",
    "ax3.set_ylim(bottom=0)\r\n",
    "ax1.set_xlim([np.datetime64('2021-01-01'),np.datetime64('2022-01-01')])\r\n",
    "ax1.xaxis.set_major_formatter(mdates.DateFormatter('%b'))\r\n",
    "\r\n",
    "plt.tight_layout()\r\n",
    "plt.savefig('figs/Compare2020and2021_All')\r\n",
    "\r\n",
    "xTicks = np.arange(np.datetime64('2021-01-04'),np.datetime64('2022-01-08'),np.timedelta64(14,'D'))\r\n",
    "ax1.set_xticks(xTicks)\r\n",
    "\r\n",
    "ax3.set_ylim(top=1.5)\r\n",
    "\r\n",
    "ax1.set_ylim(top=1400)\r\n",
    "ax1.set_xlim([np.datetime64('2021-04-01'),np.datetime64('2021-08-01')])\r\n",
    "ax1.xaxis.set_major_formatter(mdates.DateFormatter('%d\\n%B'))\r\n",
    "plt.tight_layout()\r\n",
    "plt.savefig('figs/Compare2020and2021_All_Zoom')\r\n",
    "\r\n",
    "xTicks = np.arange(np.datetime64('2021-01-04'),np.datetime64('2022-01-08'),np.timedelta64(14,'D'))\r\n",
    "ax1.set_xticks(xTicks)\r\n",
    "\r\n",
    "ax3.set_ylim(top=1)\r\n",
    "\r\n",
    "ax1.set_ylim(top=1200)\r\n",
    "ax1.set_xlim([np.datetime64('2021-06-01'),np.datetime64('2021-08-01')])\r\n",
    "ax1.xaxis.set_major_formatter(mdates.DateFormatter('%d\\n%B'))\r\n",
    "plt.tight_layout()\r\n",
    "plt.savefig('figs/Compare2020and2021_All_Zoom_Zoom')"
   ]
  },
  {
   "cell_type": "code",
   "execution_count": 16,
   "metadata": {},
   "outputs": [],
   "source": [
    "# import datetime\n",
    "# d = \"2021-W22\"\n",
    "# r = datetime.datetime.strptime(d + '-1', \"%Y-W%W-%w\")\n",
    "# print(np.datetime64(r))"
   ]
  },
  {
   "cell_type": "code",
   "execution_count": 17,
   "metadata": {},
   "outputs": [
    {
     "data": {
      "application/vnd.jupyter.widget-view+json": {
       "model_id": "dc12c92deca642499c2efba26e841ebe",
       "version_major": 2,
       "version_minor": 0
      },
      "text/plain": [
       "Canvas(toolbar=Toolbar(toolitems=[('Home', 'Reset original view', 'home', 'home'), ('Back', 'Back to previous …"
      ]
     },
     "metadata": {},
     "output_type": "display_data"
    },
    {
     "name": "stderr",
     "output_type": "stream",
     "text": [
      "C:\\ProgramData\\Anaconda3\\envs\\main\\lib\\site-packages\\pandas\\core\\arraylike.py:358: RuntimeWarning: divide by zero encountered in log\n",
      "  result = getattr(ufunc, method)(*inputs, **kwargs)\n",
      "C:\\ProgramData\\Anaconda3\\envs\\main\\lib\\site-packages\\pandas\\core\\arraylike.py:358: RuntimeWarning: divide by zero encountered in log\n",
      "  result = getattr(ufunc, method)(*inputs, **kwargs)\n"
     ]
    },
    {
     "data": {
      "text/plain": [
       "<matplotlib.legend.Legend at 0x173e19335e0>"
      ]
     },
     "execution_count": 17,
     "metadata": {},
     "output_type": "execute_result"
    }
   ],
   "source": [
    "fig,ax1 = plt.subplots(1,1)\r\n",
    "meanWidth=7\r\n",
    "\r\n",
    "allCase = curdf['NewPositive']\r\n",
    "meanDates = rnTime(testDates,meanWidth)\r\n",
    "allCaseMean = rnMean(allCase,meanWidth)\r\n",
    "\r\n",
    "# ax1.plot(testDates,np.log(allCase),'k.:',linewidth=0.5,markersize=3)\r\n",
    "# ax1.plot(rnTime(testDates,meanWidth),rnMean(np.log(allCase),meanWidth),'k')\r\n",
    "\r\n",
    "\r\n",
    "\r\n",
    "# numPred = 30\r\n",
    "# curT = np.arange(0,numPred)\r\n",
    "# predDays = meanDates[-numPred:]\r\n",
    "# curI0 = allCaseMean[-numPred]\r\n",
    "iniPred = 60\r\n",
    "endPred = iniPred - 14\r\n",
    "curT = np.arange(0,iniPred-endPred)\r\n",
    "predDays = meanDates[-iniPred:-endPred]\r\n",
    "curI0 = allCaseMean[-iniPred]\r\n",
    "# predDays = testDates[-numPred:]\r\n",
    "# curI0 = allCase.values[-numPred]\r\n",
    "\r\n",
    "\r\n",
    "\r\n",
    "# allRts = np.arange(9,12,0.25)/10\r\n",
    "allRts = np.arange(10,13,0.5)/10\r\n",
    "\r\n",
    "# curRt = 1\r\n",
    "for curRt in allRts:\r\n",
    "    curModel = ( (curRt - 1) * curT / 4.7 ) + np.log(curI0)\r\n",
    "    ax1.plot(predDays,curModel,'--',label=str(curRt))\r\n",
    "\r\n",
    "\r\n",
    "\r\n",
    "ax1.plot(testDates,np.log(allCase),'k.:',linewidth=0.5,markersize=3)\r\n",
    "ax1.plot(rnTime(testDates,meanWidth),rnMean(np.log(allCase),meanWidth),'k')\r\n",
    "\r\n",
    "\r\n",
    "ax1.xaxis.set_major_formatter(mdates.DateFormatter('%d\\n%B'))\r\n",
    "\r\n",
    "# ax1.set_xlim(left=np.datetime64('2020-12-01'))\r\n",
    "# ax1.set_ylim(bottom=5)\r\n",
    "\r\n",
    "\r\n",
    "ax1.set_xlim(left=np.datetime64('2021-04-01'))\r\n",
    "ax1.set_ylim(bottom=4,top=7.5)\r\n",
    "\r\n",
    "ax1.legend()\r\n",
    "# ax1.plot(prevYearDates+np.timedelta64(365,'D'),prevYearSum,'b.:',linewidth=0.5,markersize=4)\r\n",
    "# ax1.plot(rnTime(prevYearDates+np.timedelta64(365,'D'),meanWidth),rnMean(prevYearSum,meanWidth),'b',label='2020')\r\n",
    "# ax1.plot(thisYearDates.values[:-1],thisYearSum.values[:-1],'r.:',linewidth=0.5,markersize=4)\r\n",
    "# ax1.plot(rnTime(thisYearDates.values[:-1],meanWidth),rnMean(thisYearSum.values[:-1],meanWidth),'r',label='2021')"
   ]
  },
  {
   "cell_type": "code",
   "execution_count": null,
   "metadata": {},
   "outputs": [],
   "source": []
  }
 ],
 "metadata": {
  "interpreter": {
   "hash": "c031fd63bd977d199cd6020c30a19695eacbb638d100e0b8a5ea53080ed74a9a"
  },
  "kernelspec": {
   "display_name": "Python 3.8.8 64-bit ('main': conda)",
   "name": "python3"
  },
  "language_info": {
   "codemirror_mode": {
    "name": "ipython",
    "version": 3
   },
   "file_extension": ".py",
   "mimetype": "text/x-python",
   "name": "python",
   "nbconvert_exporter": "python",
   "pygments_lexer": "ipython3",
   "version": "3.8.8"
  },
  "orig_nbformat": 2
 },
 "nbformat": 4,
 "nbformat_minor": 2
}