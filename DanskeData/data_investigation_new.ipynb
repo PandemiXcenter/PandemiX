{
 "metadata": {
  "language_info": {
   "codemirror_mode": {
    "name": "ipython",
    "version": 3
   },
   "file_extension": ".py",
   "mimetype": "text/x-python",
   "name": "python",
   "nbconvert_exporter": "python",
   "pygments_lexer": "ipython3",
   "version": "3.8.5"
  },
  "orig_nbformat": 2,
  "kernelspec": {
   "name": "python385jvsc74a57bd0c72cdf52cb3d31f207bca538e9396da8706c0ecf4a3038fb1c2b317934170431",
   "display_name": "Python 3.8.5 64-bit ('main': conda)"
  }
 },
 "nbformat": 4,
 "nbformat_minor": 2,
 "cells": [
  {
   "cell_type": "code",
   "execution_count": 1,
   "metadata": {},
   "outputs": [
    {
     "output_type": "stream",
     "name": "stdout",
     "text": [
      "saveFigures is set to: True\nDone loading packages\n"
     ]
    }
   ],
   "source": [
    "# Notebook for more data investigation\n",
    "import numpy as np\n",
    "import pandas as pd\n",
    "pd.set_option('display.max_rows', 500)\n",
    "pd.set_option('display.min_rows', 50)\n",
    "\n",
    "\n",
    "import matplotlib.pyplot as plt\n",
    "%matplotlib widget\n",
    "plt.rcParams['figure.figsize'] = (12,8)\n",
    "# plt.rcParams[\"image.cmap\"] = \"Dark2\"\n",
    "# plt.rcParams['axes.prop_cycle'] = plt.cycler(color=plt.cm.Dark2.colors)\n",
    "plt.rcParams[\"image.cmap\"] = \"tab10\"\n",
    "plt.rcParams['axes.prop_cycle'] = plt.cycler(color=plt.cm.tab10.colors)\n",
    "plt.rcParams['lines.markersize'] = 10\n",
    "plt.rcParams['lines.linewidth'] = 3\n",
    "%matplotlib widget\n",
    "# plt.style.use('ggplot')\n",
    "import matplotlib.colors as colors\n",
    "# cmap = plt.cm.get_cmap('Dark2',len(ageGroups))\n",
    "from matplotlib import cm # Colormaps\n",
    "\n",
    "import locale\n",
    "import matplotlib.dates as mdates\n",
    "locale.setlocale(locale.LC_TIME,\"Danish\")\n",
    "# ax = plt.gca()\n",
    "# ax1.xaxis.set_major_formatter(mdates.DateFormatter('%b\\n%Y'))\n",
    "# # ax.xaxis.set_major_formatter(mdates.DateFormatter('%Y \\n %B'))\n",
    "\n",
    "import os\n",
    "# import csv\n",
    "import math\n",
    "\n",
    "\n",
    "from datetime import date\n",
    "\n",
    "\n",
    "saveFigures = True\n",
    "print('saveFigures is set to: '+str(saveFigures))\n",
    "\n",
    "print('Done loading packages')\n",
    "\n",
    "def rnMean(data,meanWidth):\n",
    "    return np.convolve(data, np.ones(meanWidth)/meanWidth, mode='valid')\n",
    "def rnTime(t,meanWidth):\n",
    "    return t[math.floor(meanWidth/2):-math.ceil(meanWidth/2)+1]\n"
   ]
  },
  {
   "cell_type": "code",
   "execution_count": 2,
   "metadata": {},
   "outputs": [
    {
     "output_type": "stream",
     "name": "stdout",
     "text": [
      "c:\\Users\\rakrpe\\Documents\\PandemiX\\GithubRepos\\PandemiX\\DanskeData/ssi_data\\SSI_data_2021-05-12\n2021-05-12 00:00:00\n"
     ]
    }
   ],
   "source": [
    "ssidatapath = \"ssi_data\"\n",
    "rootdir = os.getcwd() +\"/\" + ssidatapath\n",
    "\n",
    "\n",
    "for subdir, dirs, files in os.walk(rootdir):\n",
    "    if not len(files) == 0:\n",
    "        latestdir = subdir\n",
    "        latestDate = pd.to_datetime(subdir[-10:])\n",
    "\n",
    "print(latestdir)\n",
    "print(latestDate)\n",
    "\n",
    "# latestdir = rootdir+ '/SSI_data_2021-04-29'\n",
    "# latestDate = pd.to_datetime(latestdir[-10:])\n",
    "\n",
    "# print(latestdir)\n",
    "# print(latestDate)"
   ]
  },
  {
   "cell_type": "code",
   "execution_count": 3,
   "metadata": {},
   "outputs": [],
   "source": [
    "# Load the data\n",
    "fulldfPCR = pd.read_csv(latestdir+'/Test_pos_over_time.csv',delimiter = ';',dtype=str)\n",
    "fulldfAG = pd.read_csv(latestdir+'/Test_pos_over_time_antigen.csv',delimiter = ';',dtype=str)\n",
    "\n",
    "# # Cut out the last two rows of summary numbers\n",
    "dfPCR = fulldfPCR.iloc[:-2,:].copy()\n",
    "dfAG = fulldfAG.iloc[:-2,:].copy()"
   ]
  },
  {
   "cell_type": "code",
   "execution_count": 4,
   "metadata": {},
   "outputs": [],
   "source": [
    "dfPCR[\"PosPct\"] = pd.to_numeric(dfPCR[\"PosPct\"].astype(str).apply(lambda x: x.replace(',','.')))\n",
    "dfPCR[\"Date\"] = dfPCR[\"Date\"].astype('datetime64[D]')\n",
    "dfAG[\"PosPct\"] = pd.to_numeric(dfAG[\"PosPct\"].astype(str).apply(lambda x: x.replace(',','.')))\n",
    "dfAG[\"Date\"] = dfAG[\"Date\"].astype('datetime64[D]')\n",
    "\n",
    "rows_to_fix_period_in = [\"NewPositive\",\"NotPrevPos\",\"PrevPos\",\"Tested\",\"Tested_kumulativ\"]\n",
    "for name in rows_to_fix_period_in:\n",
    "    dfAG[name] = pd.to_numeric(dfAG[name].astype(str).apply(lambda x: x.replace('.','')))\n",
    "    dfPCR[name] = pd.to_numeric(dfPCR[name].astype(str).apply(lambda x: x.replace('.','')))\n"
   ]
  },
  {
   "cell_type": "code",
   "execution_count": 5,
   "metadata": {},
   "outputs": [],
   "source": [
    "# Load the data\n",
    "\n",
    "dfAG2 = pd.read_csv(latestdir+'/Antigentests_pr_dag.csv',delimiter = ';')\n",
    "\n",
    "dfAG2[\"Dato\"] = dfAG2[\"Dato\"].astype('datetime64[D]')"
   ]
  },
  {
   "cell_type": "code",
   "execution_count": 6,
   "metadata": {},
   "outputs": [],
   "source": [
    "# Cut off early data in pcr dataframe\n",
    "dfPCR = dfPCR[dfPCR.Date >= dfAG.iloc[0].Date]"
   ]
  },
  {
   "cell_type": "code",
   "execution_count": 7,
   "metadata": {},
   "outputs": [],
   "source": [
    "# dfPCR.tail()\n",
    "# dfAG\n",
    "firstDate = np.datetime64('2021-01-01')\n",
    "dfPCR = dfPCR[dfPCR.Date >= firstDate]\n",
    "dfAG = dfAG[dfAG.Date >= firstDate]"
   ]
  },
  {
   "cell_type": "code",
   "execution_count": 8,
   "metadata": {},
   "outputs": [],
   "source": [
    "dfPCR = dfPCR.iloc[:-1]\n",
    "dfAG = dfAG.iloc[:-1]"
   ]
  },
  {
   "cell_type": "code",
   "execution_count": 15,
   "metadata": {},
   "outputs": [
    {
     "output_type": "execute_result",
     "data": {
      "text/plain": [
       "         Dato  AG_testede  AG_pos  AGpos_PCRkonf Andel_AGpos_PCRkonf_pct  \\\n",
       "92 2021-05-04      287871     372            348        93,5483870967742   \n",
       "93 2021-05-05      325099     346            317        91,6184971098266   \n",
       "94 2021-05-06      444671     353            326        92,3512747875354   \n",
       "95 2021-05-07      403927     387            355        91,7312661498708   \n",
       "96 2021-05-08      240086     264            248        93,9393939393939   \n",
       "\n",
       "    AGpos_minusPCRkonf Andel_AGminusPCRkonf_pct  AGpos_PCRpos  AGposPCRneg  \\\n",
       "92                  24         6,45161290322581           243           99   \n",
       "93                  29         8,38150289017341           201          109   \n",
       "94                  27         7,64872521246459           203          119   \n",
       "95                  32          8,2687338501292           190          156   \n",
       "96                  16         6,06060606060606           160           83   \n",
       "\n",
       "    AGnegPCRpos  AGnegPCRneg  \n",
       "92          298        16485  \n",
       "93          270        20023  \n",
       "94          264        24198  \n",
       "95          223        21700  \n",
       "96          189        15431  "
      ],
      "text/html": "<div>\n<style scoped>\n    .dataframe tbody tr th:only-of-type {\n        vertical-align: middle;\n    }\n\n    .dataframe tbody tr th {\n        vertical-align: top;\n    }\n\n    .dataframe thead th {\n        text-align: right;\n    }\n</style>\n<table border=\"1\" class=\"dataframe\">\n  <thead>\n    <tr style=\"text-align: right;\">\n      <th></th>\n      <th>Dato</th>\n      <th>AG_testede</th>\n      <th>AG_pos</th>\n      <th>AGpos_PCRkonf</th>\n      <th>Andel_AGpos_PCRkonf_pct</th>\n      <th>AGpos_minusPCRkonf</th>\n      <th>Andel_AGminusPCRkonf_pct</th>\n      <th>AGpos_PCRpos</th>\n      <th>AGposPCRneg</th>\n      <th>AGnegPCRpos</th>\n      <th>AGnegPCRneg</th>\n    </tr>\n  </thead>\n  <tbody>\n    <tr>\n      <th>92</th>\n      <td>2021-05-04</td>\n      <td>287871</td>\n      <td>372</td>\n      <td>348</td>\n      <td>93,5483870967742</td>\n      <td>24</td>\n      <td>6,45161290322581</td>\n      <td>243</td>\n      <td>99</td>\n      <td>298</td>\n      <td>16485</td>\n    </tr>\n    <tr>\n      <th>93</th>\n      <td>2021-05-05</td>\n      <td>325099</td>\n      <td>346</td>\n      <td>317</td>\n      <td>91,6184971098266</td>\n      <td>29</td>\n      <td>8,38150289017341</td>\n      <td>201</td>\n      <td>109</td>\n      <td>270</td>\n      <td>20023</td>\n    </tr>\n    <tr>\n      <th>94</th>\n      <td>2021-05-06</td>\n      <td>444671</td>\n      <td>353</td>\n      <td>326</td>\n      <td>92,3512747875354</td>\n      <td>27</td>\n      <td>7,64872521246459</td>\n      <td>203</td>\n      <td>119</td>\n      <td>264</td>\n      <td>24198</td>\n    </tr>\n    <tr>\n      <th>95</th>\n      <td>2021-05-07</td>\n      <td>403927</td>\n      <td>387</td>\n      <td>355</td>\n      <td>91,7312661498708</td>\n      <td>32</td>\n      <td>8,2687338501292</td>\n      <td>190</td>\n      <td>156</td>\n      <td>223</td>\n      <td>21700</td>\n    </tr>\n    <tr>\n      <th>96</th>\n      <td>2021-05-08</td>\n      <td>240086</td>\n      <td>264</td>\n      <td>248</td>\n      <td>93,9393939393939</td>\n      <td>16</td>\n      <td>6,06060606060606</td>\n      <td>160</td>\n      <td>83</td>\n      <td>189</td>\n      <td>15431</td>\n    </tr>\n  </tbody>\n</table>\n</div>"
     },
     "metadata": {},
     "execution_count": 15
    }
   ],
   "source": [
    "dfAG2.tail()"
   ]
  },
  {
   "cell_type": "code",
   "execution_count": 10,
   "metadata": {},
   "outputs": [
    {
     "output_type": "display_data",
     "data": {
      "text/plain": "Canvas(toolbar=Toolbar(toolitems=[('Home', 'Reset original view', 'home', 'home'), ('Back', 'Back to previous …",
      "application/vnd.jupyter.widget-view+json": {
       "version_major": 2,
       "version_minor": 0,
       "model_id": "1af7d261ad2f434fa213184ebef7e941"
      }
     },
     "metadata": {}
    }
   ],
   "source": [
    "curDates = dfPCR.Date\n",
    "\n",
    "fig,ax1 = plt.subplots(1,1)\n",
    "\n",
    "PCRpos = dfPCR.NewPositive\n",
    "AGpos = dfAG.NewPositive\n",
    "ax1.plot(curDates,PCRpos)\n",
    "ax1.plot(curDates,AGpos)\n",
    "\n",
    "plt.tight_layout()"
   ]
  },
  {
   "cell_type": "code",
   "execution_count": 11,
   "metadata": {},
   "outputs": [
    {
     "output_type": "display_data",
     "data": {
      "text/plain": "Canvas(toolbar=Toolbar(toolitems=[('Home', 'Reset original view', 'home', 'home'), ('Back', 'Back to previous …",
      "application/vnd.jupyter.widget-view+json": {
       "version_major": 2,
       "version_minor": 0,
       "model_id": "285b2b2830b146bc9f6c5239aedb96c8"
      }
     },
     "metadata": {}
    },
    {
     "output_type": "execute_result",
     "data": {
      "text/plain": [
       "[<matplotlib.lines.Line2D at 0x152653add30>]"
      ]
     },
     "metadata": {},
     "execution_count": 11
    }
   ],
   "source": [
    "fig,ax1 = plt.subplots(1,1)\n",
    "\n",
    "# ax1.plot(dfAG2.Dato,dfAG2.AG_testede) \n",
    "ax1.plot(dfAG2.Dato,np.divide(dfAG2.AGpos_PCRpos,dfAG2.AG_pos),'.-')\n",
    "ax1.plot(rnTime(dfAG2.Dato,7),rnMean(np.divide(dfAG2.AGpos_PCRpos,dfAG2.AG_pos),7),'--')\n",
    "\n",
    "truePosRate = np.divide(dfAG2.AGpos_PCRpos,dfAG2.AG_pos)\n",
    "avgTruePosRate = np.mean(truePosRate[-30:])\n",
    "\n",
    "ax1.plot(dfAG2.Dato,avgTruePosRate * np.ones(dfAG2.Dato.shape),'k:')\n"
   ]
  },
  {
   "cell_type": "code",
   "execution_count": 12,
   "metadata": {},
   "outputs": [
    {
     "output_type": "display_data",
     "data": {
      "text/plain": "Canvas(toolbar=Toolbar(toolitems=[('Home', 'Reset original view', 'home', 'home'), ('Back', 'Back to previous …",
      "application/vnd.jupyter.widget-view+json": {
       "version_major": 2,
       "version_minor": 0,
       "model_id": "a015ed7538064c01a8d505e2ad1d6065"
      }
     },
     "metadata": {}
    }
   ],
   "source": [
    "\n",
    "fig,ax1 = plt.subplots(1,1)\n",
    "\n",
    "# PCRpos = dfPCR.NewPositive\n",
    "# AGpos = dfAG.NewPositive\n",
    "# ax1.plot(curDates,PCRpos)\n",
    "ax1.plot(curDates,AGpos,label='AG+')\n",
    "ax1.plot(curDates,AGpos*avgTruePosRate,label='AG+, times true-positive rate')\n",
    "ax1.plot(dfAG2.Dato,dfAG2['AGpos_PCRpos'],label='AG+, PCR+ confirmed')\n",
    "\n",
    "ax1.legend()\n",
    "ax1.grid()\n",
    "ax1.set_ylim(bottom=0)\n",
    "ax1.set_xlim(left=np.datetime64('2021-03-01'))\n",
    "plt.tight_layout()"
   ]
  },
  {
   "cell_type": "code",
   "execution_count": 13,
   "metadata": {},
   "outputs": [
    {
     "output_type": "execute_result",
     "data": {
      "text/plain": [
       "          Date  NewPositive  NotPrevPos  PosPct  PrevPos  Tested  \\\n",
       "465 2021-05-06          881      226459     0.4     8393  234852   \n",
       "466 2021-05-07          899      193771     0.5     6524  200295   \n",
       "467 2021-05-08          847      140625     0.6     4311  144936   \n",
       "468 2021-05-09          798      158178     0.5     4678  162856   \n",
       "469 2021-05-10         1126      201737     0.6     7242  208979   \n",
       "\n",
       "     Tested_kumulativ  \n",
       "465          28274826  \n",
       "466          28475121  \n",
       "467          28620057  \n",
       "468          28782913  \n",
       "469          28991892  "
      ],
      "text/html": "<div>\n<style scoped>\n    .dataframe tbody tr th:only-of-type {\n        vertical-align: middle;\n    }\n\n    .dataframe tbody tr th {\n        vertical-align: top;\n    }\n\n    .dataframe thead th {\n        text-align: right;\n    }\n</style>\n<table border=\"1\" class=\"dataframe\">\n  <thead>\n    <tr style=\"text-align: right;\">\n      <th></th>\n      <th>Date</th>\n      <th>NewPositive</th>\n      <th>NotPrevPos</th>\n      <th>PosPct</th>\n      <th>PrevPos</th>\n      <th>Tested</th>\n      <th>Tested_kumulativ</th>\n    </tr>\n  </thead>\n  <tbody>\n    <tr>\n      <th>465</th>\n      <td>2021-05-06</td>\n      <td>881</td>\n      <td>226459</td>\n      <td>0.4</td>\n      <td>8393</td>\n      <td>234852</td>\n      <td>28274826</td>\n    </tr>\n    <tr>\n      <th>466</th>\n      <td>2021-05-07</td>\n      <td>899</td>\n      <td>193771</td>\n      <td>0.5</td>\n      <td>6524</td>\n      <td>200295</td>\n      <td>28475121</td>\n    </tr>\n    <tr>\n      <th>467</th>\n      <td>2021-05-08</td>\n      <td>847</td>\n      <td>140625</td>\n      <td>0.6</td>\n      <td>4311</td>\n      <td>144936</td>\n      <td>28620057</td>\n    </tr>\n    <tr>\n      <th>468</th>\n      <td>2021-05-09</td>\n      <td>798</td>\n      <td>158178</td>\n      <td>0.5</td>\n      <td>4678</td>\n      <td>162856</td>\n      <td>28782913</td>\n    </tr>\n    <tr>\n      <th>469</th>\n      <td>2021-05-10</td>\n      <td>1126</td>\n      <td>201737</td>\n      <td>0.6</td>\n      <td>7242</td>\n      <td>208979</td>\n      <td>28991892</td>\n    </tr>\n  </tbody>\n</table>\n</div>"
     },
     "metadata": {},
     "execution_count": 13
    }
   ],
   "source": [
    "dfPCR.tail()"
   ]
  },
  {
   "cell_type": "code",
   "execution_count": 14,
   "metadata": {},
   "outputs": [
    {
     "output_type": "display_data",
     "data": {
      "text/plain": "Canvas(toolbar=Toolbar(toolitems=[('Home', 'Reset original view', 'home', 'home'), ('Back', 'Back to previous …",
      "application/vnd.jupyter.widget-view+json": {
       "version_major": 2,
       "version_minor": 0,
       "model_id": "5e4c704385cb4d399692a39b500529f8"
      }
     },
     "metadata": {}
    }
   ],
   "source": [
    "\n",
    "fig,ax1 = plt.subplots(1,1)\n",
    "\n",
    "PCRpos_nonAG = PCRpos.values -(AGpos.values*avgTruePosRate)\n",
    "\n",
    "normFactor = (np.divide(100000,dfPCR['Tested']))**0.7\n",
    "\n",
    "PCRpos_nonAG_corr = PCRpos_nonAG*normFactor\n",
    "\n",
    "ax1.plot(curDates,PCRpos,'b.-',linewidth=0.5,markersize=2)\n",
    "ax1.plot(curDates,PCRpos_nonAG,'m.-',linewidth=0.5,markersize=2)\n",
    "ax1.plot(curDates,PCRpos_nonAG_corr,'g.-',linewidth=0.5,markersize=2)\n",
    "meanWidth = 7\n",
    "ax1.plot(rnTime(curDates,meanWidth),rnMean(PCRpos,meanWidth),'b',label='PCR positiv')\n",
    "ax1.plot(rnTime(curDates,meanWidth),rnMean(PCRpos_nonAG,meanWidth),'m',label='PCR positiv, uden AG konf.')\n",
    "ax1.plot(rnTime(curDates,meanWidth),rnMean(PCRpos_nonAG_corr,meanWidth),'g',label='PCR positiv, uden AG konf., korrigeret')\n",
    "# ax1.plot(curDates,AGpos,label='AG+')\n",
    "# ax1.plot(curDates,AGpos*avgTruePosRate,label='AG+, times true-positive rate')\n",
    "# ax1.plot(dfAG2.Dato,dfAG2['AGpos_PCRpos'],label='AG+, PCR+ confirmed')\n",
    "\n",
    "curFont = 18\n",
    "ax1.legend(fontsize=curFont)\n",
    "ax1.grid()\n",
    "ax1.set_ylim(bottom=0,top=1200)\n",
    "ax1.set_xlim(left=np.datetime64('2021-03-01'))\n",
    "\n",
    "ax1.xaxis.set_major_formatter(mdates.DateFormatter('%d\\n%b'))\n",
    "\n",
    "# plt.xticks(fontsize=curFont,rotation=90)\n",
    "plt.xticks(fontsize=curFont)\n",
    "plt.yticks(fontsize=curFont)\n",
    "ax1.set_ylabel('Antal',fontsize=curFont)\n",
    "plt.tight_layout()\n",
    "\n",
    "if saveFigures:\n",
    "    plt.savefig('figs/PCRKorrigering')"
   ]
  }
 ]
}