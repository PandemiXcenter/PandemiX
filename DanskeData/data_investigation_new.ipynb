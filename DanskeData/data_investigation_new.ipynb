{
 "metadata": {
  "language_info": {
   "codemirror_mode": {
    "name": "ipython",
    "version": 3
   },
   "file_extension": ".py",
   "mimetype": "text/x-python",
   "name": "python",
   "nbconvert_exporter": "python",
   "pygments_lexer": "ipython3",
   "version": "3.8.5"
  },
  "orig_nbformat": 2,
  "kernelspec": {
   "name": "python385jvsc74a57bd0c72cdf52cb3d31f207bca538e9396da8706c0ecf4a3038fb1c2b317934170431",
   "display_name": "Python 3.8.5 64-bit ('main': conda)"
  }
 },
 "nbformat": 4,
 "nbformat_minor": 2,
 "cells": [
  {
   "cell_type": "code",
   "execution_count": 85,
   "metadata": {},
   "outputs": [
    {
     "output_type": "error",
     "ename": "KeyError",
     "evalue": "'axes.fontsize is not a valid rc parameter (see rcParams.keys() for a list of valid parameters)'",
     "traceback": [
      "\u001b[1;31m---------------------------------------------------------------------------\u001b[0m",
      "\u001b[1;31mKeyError\u001b[0m                                  Traceback (most recent call last)",
      "\u001b[1;32m~\\Anaconda3\\envs\\main\\lib\\site-packages\\matplotlib\\__init__.py\u001b[0m in \u001b[0;36m__setitem__\u001b[1;34m(self, key, val)\u001b[0m\n\u001b[0;32m    676\u001b[0m             \u001b[1;32mtry\u001b[0m\u001b[1;33m:\u001b[0m\u001b[1;33m\u001b[0m\u001b[1;33m\u001b[0m\u001b[0m\n\u001b[1;32m--> 677\u001b[1;33m                 \u001b[0mcval\u001b[0m \u001b[1;33m=\u001b[0m \u001b[0mself\u001b[0m\u001b[1;33m.\u001b[0m\u001b[0mvalidate\u001b[0m\u001b[1;33m[\u001b[0m\u001b[0mkey\u001b[0m\u001b[1;33m]\u001b[0m\u001b[1;33m(\u001b[0m\u001b[0mval\u001b[0m\u001b[1;33m)\u001b[0m\u001b[1;33m\u001b[0m\u001b[1;33m\u001b[0m\u001b[0m\n\u001b[0m\u001b[0;32m    678\u001b[0m             \u001b[1;32mexcept\u001b[0m \u001b[0mValueError\u001b[0m \u001b[1;32mas\u001b[0m \u001b[0mve\u001b[0m\u001b[1;33m:\u001b[0m\u001b[1;33m\u001b[0m\u001b[1;33m\u001b[0m\u001b[0m\n",
      "\u001b[1;31mKeyError\u001b[0m: 'axes.fontsize'",
      "\nThe above exception was the direct cause of the following exception:\n",
      "\u001b[1;31mKeyError\u001b[0m                                  Traceback (most recent call last)",
      "\u001b[1;32m<ipython-input-85-6d5ba5e01f3e>\u001b[0m in \u001b[0;36m<module>\u001b[1;34m\u001b[0m\n\u001b[0;32m     15\u001b[0m \u001b[0mplt\u001b[0m\u001b[1;33m.\u001b[0m\u001b[0mrcParams\u001b[0m\u001b[1;33m[\u001b[0m\u001b[1;34m'lines.markersize'\u001b[0m\u001b[1;33m]\u001b[0m \u001b[1;33m=\u001b[0m \u001b[1;36m10\u001b[0m\u001b[1;33m\u001b[0m\u001b[1;33m\u001b[0m\u001b[0m\n\u001b[0;32m     16\u001b[0m \u001b[0mplt\u001b[0m\u001b[1;33m.\u001b[0m\u001b[0mrcParams\u001b[0m\u001b[1;33m[\u001b[0m\u001b[1;34m'lines.linewidth'\u001b[0m\u001b[1;33m]\u001b[0m \u001b[1;33m=\u001b[0m \u001b[1;36m3\u001b[0m\u001b[1;33m\u001b[0m\u001b[1;33m\u001b[0m\u001b[0m\n\u001b[1;32m---> 17\u001b[1;33m \u001b[0mplt\u001b[0m\u001b[1;33m.\u001b[0m\u001b[0mrcParams\u001b[0m\u001b[1;33m[\u001b[0m\u001b[1;34m'axes.fontsize'\u001b[0m\u001b[1;33m]\u001b[0m \u001b[1;33m=\u001b[0m \u001b[1;36m3\u001b[0m\u001b[1;33m\u001b[0m\u001b[1;33m\u001b[0m\u001b[0m\n\u001b[0m\u001b[0;32m     18\u001b[0m \u001b[0mget_ipython\u001b[0m\u001b[1;33m(\u001b[0m\u001b[1;33m)\u001b[0m\u001b[1;33m.\u001b[0m\u001b[0mrun_line_magic\u001b[0m\u001b[1;33m(\u001b[0m\u001b[1;34m'matplotlib'\u001b[0m\u001b[1;33m,\u001b[0m \u001b[1;34m'widget'\u001b[0m\u001b[1;33m)\u001b[0m\u001b[1;33m\u001b[0m\u001b[1;33m\u001b[0m\u001b[0m\n\u001b[0;32m     19\u001b[0m \u001b[1;31m# plt.style.use('ggplot')\u001b[0m\u001b[1;33m\u001b[0m\u001b[1;33m\u001b[0m\u001b[1;33m\u001b[0m\u001b[0m\n",
      "\u001b[1;32m~\\Anaconda3\\envs\\main\\lib\\site-packages\\matplotlib\\__init__.py\u001b[0m in \u001b[0;36m__setitem__\u001b[1;34m(self, key, val)\u001b[0m\n\u001b[0;32m    680\u001b[0m             \u001b[0mdict\u001b[0m\u001b[1;33m.\u001b[0m\u001b[0m__setitem__\u001b[0m\u001b[1;33m(\u001b[0m\u001b[0mself\u001b[0m\u001b[1;33m,\u001b[0m \u001b[0mkey\u001b[0m\u001b[1;33m,\u001b[0m \u001b[0mcval\u001b[0m\u001b[1;33m)\u001b[0m\u001b[1;33m\u001b[0m\u001b[1;33m\u001b[0m\u001b[0m\n\u001b[0;32m    681\u001b[0m         \u001b[1;32mexcept\u001b[0m \u001b[0mKeyError\u001b[0m \u001b[1;32mas\u001b[0m \u001b[0merr\u001b[0m\u001b[1;33m:\u001b[0m\u001b[1;33m\u001b[0m\u001b[1;33m\u001b[0m\u001b[0m\n\u001b[1;32m--> 682\u001b[1;33m             raise KeyError(\n\u001b[0m\u001b[0;32m    683\u001b[0m                 \u001b[1;34mf\"{key} is not a valid rc parameter (see rcParams.keys() for \"\u001b[0m\u001b[1;33m\u001b[0m\u001b[1;33m\u001b[0m\u001b[0m\n\u001b[0;32m    684\u001b[0m                 f\"a list of valid parameters)\") from err\n",
      "\u001b[1;31mKeyError\u001b[0m: 'axes.fontsize is not a valid rc parameter (see rcParams.keys() for a list of valid parameters)'"
     ]
    }
   ],
   "source": [
    "# Notebook for more data investigation\n",
    "import numpy as np\n",
    "import pandas as pd\n",
    "pd.set_option('display.max_rows', 500)\n",
    "pd.set_option('display.min_rows', 50)\n",
    "\n",
    "\n",
    "import matplotlib.pyplot as plt\n",
    "%matplotlib widget\n",
    "plt.rcParams['figure.figsize'] = (12,8)\n",
    "# plt.rcParams[\"image.cmap\"] = \"Dark2\"\n",
    "# plt.rcParams['axes.prop_cycle'] = plt.cycler(color=plt.cm.Dark2.colors)\n",
    "plt.rcParams[\"image.cmap\"] = \"tab10\"\n",
    "plt.rcParams['axes.prop_cycle'] = plt.cycler(color=plt.cm.tab10.colors)\n",
    "plt.rcParams['lines.markersize'] = 10\n",
    "plt.rcParams['lines.linewidth'] = 3\n",
    "%matplotlib widget\n",
    "# plt.style.use('ggplot')\n",
    "import matplotlib.colors as colors\n",
    "# cmap = plt.cm.get_cmap('Dark2',len(ageGroups))\n",
    "from matplotlib import cm # Colormaps\n",
    "\n",
    "import locale\n",
    "import matplotlib.dates as mdates\n",
    "locale.setlocale(locale.LC_TIME,\"Danish\")\n",
    "# ax = plt.gca()\n",
    "# ax1.xaxis.set_major_formatter(mdates.DateFormatter('%b\\n%Y'))\n",
    "# # ax.xaxis.set_major_formatter(mdates.DateFormatter('%Y \\n %B'))\n",
    "\n",
    "import os\n",
    "# import csv\n",
    "import math\n",
    "\n",
    "\n",
    "from datetime import date\n",
    "\n",
    "\n",
    "saveFigures = True\n",
    "print('saveFigures is set to: '+str(saveFigures))\n",
    "\n",
    "print('Done loading packages')\n",
    "\n",
    "def rnMean(data,meanWidth):\n",
    "    return np.convolve(data, np.ones(meanWidth)/meanWidth, mode='valid')\n",
    "def rnTime(t,meanWidth):\n",
    "    return t[math.floor(meanWidth/2):-math.ceil(meanWidth/2)+1]\n"
   ]
  },
  {
   "cell_type": "code",
   "execution_count": 2,
   "metadata": {},
   "outputs": [
    {
     "output_type": "stream",
     "name": "stdout",
     "text": [
      "c:\\Users\\rakrpe\\Documents\\PandemiX\\GithubRepos\\PandemiX\\DanskeData/ssi_data\\SSI_data_2021-05-06\n2021-05-06 00:00:00\n"
     ]
    }
   ],
   "source": [
    "ssidatapath = \"ssi_data\"\n",
    "rootdir = os.getcwd() +\"/\" + ssidatapath\n",
    "\n",
    "\n",
    "for subdir, dirs, files in os.walk(rootdir):\n",
    "    if not len(files) == 0:\n",
    "        latestdir = subdir\n",
    "        latestDate = pd.to_datetime(subdir[-10:])\n",
    "\n",
    "print(latestdir)\n",
    "print(latestDate)\n",
    "\n",
    "# latestdir = rootdir+ '/SSI_data_2021-04-29'\n",
    "# latestDate = pd.to_datetime(latestdir[-10:])\n",
    "\n",
    "# print(latestdir)\n",
    "# print(latestDate)"
   ]
  },
  {
   "cell_type": "code",
   "execution_count": 3,
   "metadata": {},
   "outputs": [],
   "source": [
    "# Load the data\n",
    "fulldfPCR = pd.read_csv(latestdir+'/Test_pos_over_time.csv',delimiter = ';',dtype=str)\n",
    "fulldfAG = pd.read_csv(latestdir+'/Test_pos_over_time_antigen.csv',delimiter = ';',dtype=str)\n",
    "\n",
    "# # Cut out the last two rows of summary numbers\n",
    "dfPCR = fulldfPCR.iloc[:-2,:].copy()\n",
    "dfAG = fulldfAG.iloc[:-2,:].copy()"
   ]
  },
  {
   "cell_type": "code",
   "execution_count": 4,
   "metadata": {},
   "outputs": [],
   "source": [
    "dfPCR[\"PosPct\"] = pd.to_numeric(dfPCR[\"PosPct\"].astype(str).apply(lambda x: x.replace(',','.')))\n",
    "dfPCR[\"Date\"] = dfPCR[\"Date\"].astype('datetime64[D]')\n",
    "dfAG[\"PosPct\"] = pd.to_numeric(dfAG[\"PosPct\"].astype(str).apply(lambda x: x.replace(',','.')))\n",
    "dfAG[\"Date\"] = dfAG[\"Date\"].astype('datetime64[D]')\n",
    "\n",
    "rows_to_fix_period_in = [\"NewPositive\",\"NotPrevPos\",\"PrevPos\",\"Tested\",\"Tested_kumulativ\"]\n",
    "for name in rows_to_fix_period_in:\n",
    "    dfAG[name] = pd.to_numeric(dfAG[name].astype(str).apply(lambda x: x.replace('.','')))\n",
    "    dfPCR[name] = pd.to_numeric(dfPCR[name].astype(str).apply(lambda x: x.replace('.','')))\n"
   ]
  },
  {
   "cell_type": "code",
   "execution_count": 32,
   "metadata": {},
   "outputs": [],
   "source": [
    "# Load the data\n",
    "\n",
    "dfAG2 = pd.read_csv(latestdir+'/Antigentests_pr_dag.csv',delimiter = ';')\n",
    "\n",
    "dfAG2[\"Dato\"] = dfAG2[\"Dato\"].astype('datetime64[D]')"
   ]
  },
  {
   "cell_type": "code",
   "execution_count": 17,
   "metadata": {},
   "outputs": [
    {
     "output_type": "execute_result",
     "data": {
      "text/plain": [
       "         Date  NewPositive  NotPrevPos  PosPct  PrevPos  Tested  \\\n",
       "72 2020-04-08          301        5553     5.4       55    5608   \n",
       "73 2020-04-09          140        2486     5.6       36    2522   \n",
       "74 2020-04-10          142        2273     6.2       30    2303   \n",
       "75 2020-04-11          140        2164     6.5       46    2210   \n",
       "76 2020-04-12          157        2083     7.5       35    2118   \n",
       "\n",
       "    Tested_kumulativ  \n",
       "72             70188  \n",
       "73             72710  \n",
       "74             75013  \n",
       "75             77223  \n",
       "76             79341  "
      ],
      "text/html": "<div>\n<style scoped>\n    .dataframe tbody tr th:only-of-type {\n        vertical-align: middle;\n    }\n\n    .dataframe tbody tr th {\n        vertical-align: top;\n    }\n\n    .dataframe thead th {\n        text-align: right;\n    }\n</style>\n<table border=\"1\" class=\"dataframe\">\n  <thead>\n    <tr style=\"text-align: right;\">\n      <th></th>\n      <th>Date</th>\n      <th>NewPositive</th>\n      <th>NotPrevPos</th>\n      <th>PosPct</th>\n      <th>PrevPos</th>\n      <th>Tested</th>\n      <th>Tested_kumulativ</th>\n    </tr>\n  </thead>\n  <tbody>\n    <tr>\n      <th>72</th>\n      <td>2020-04-08</td>\n      <td>301</td>\n      <td>5553</td>\n      <td>5.4</td>\n      <td>55</td>\n      <td>5608</td>\n      <td>70188</td>\n    </tr>\n    <tr>\n      <th>73</th>\n      <td>2020-04-09</td>\n      <td>140</td>\n      <td>2486</td>\n      <td>5.6</td>\n      <td>36</td>\n      <td>2522</td>\n      <td>72710</td>\n    </tr>\n    <tr>\n      <th>74</th>\n      <td>2020-04-10</td>\n      <td>142</td>\n      <td>2273</td>\n      <td>6.2</td>\n      <td>30</td>\n      <td>2303</td>\n      <td>75013</td>\n    </tr>\n    <tr>\n      <th>75</th>\n      <td>2020-04-11</td>\n      <td>140</td>\n      <td>2164</td>\n      <td>6.5</td>\n      <td>46</td>\n      <td>2210</td>\n      <td>77223</td>\n    </tr>\n    <tr>\n      <th>76</th>\n      <td>2020-04-12</td>\n      <td>157</td>\n      <td>2083</td>\n      <td>7.5</td>\n      <td>35</td>\n      <td>2118</td>\n      <td>79341</td>\n    </tr>\n  </tbody>\n</table>\n</div>"
     },
     "metadata": {},
     "execution_count": 17
    }
   ],
   "source": [
    "# Cut off early data in pcr dataframe\n",
    "dfPCR = dfPCR[dfPCR.Date >= dfAG.iloc[0].Date]"
   ]
  },
  {
   "cell_type": "code",
   "execution_count": 26,
   "metadata": {},
   "outputs": [],
   "source": [
    "# dfPCR.tail()\n",
    "# dfAG\n",
    "firstDate = np.datetime64('2021-01-01')\n",
    "dfPCR = dfPCR[dfPCR.Date >= firstDate]\n",
    "dfAG = dfAG[dfAG.Date >= firstDate]"
   ]
  },
  {
   "cell_type": "code",
   "execution_count": 65,
   "metadata": {},
   "outputs": [],
   "source": [
    "dfPCR = dfPCR.iloc[:-1]\n",
    "dfAG = dfAG.iloc[:-1]"
   ]
  },
  {
   "cell_type": "code",
   "execution_count": 67,
   "metadata": {},
   "outputs": [
    {
     "output_type": "execute_result",
     "data": {
      "text/plain": [
       "          Date  NewPositive  NotPrevPos  PosPct  PrevPos  Tested  \\\n",
       "459 2021-04-30          761      131794     0.6     4403  136197   \n",
       "460 2021-05-01          693      126842     0.5     4026  130868   \n",
       "461 2021-05-02          713      147055     0.5     4331  151386   \n",
       "462 2021-05-03         1020      183429     0.6     6980  190409   \n",
       "463 2021-05-04          969      170228     0.6     5961  176189   \n",
       "\n",
       "     Tested_kumulativ  \n",
       "459          27192618  \n",
       "460          27323486  \n",
       "461          27474872  \n",
       "462          27665281  \n",
       "463          27841470  "
      ],
      "text/html": "<div>\n<style scoped>\n    .dataframe tbody tr th:only-of-type {\n        vertical-align: middle;\n    }\n\n    .dataframe tbody tr th {\n        vertical-align: top;\n    }\n\n    .dataframe thead th {\n        text-align: right;\n    }\n</style>\n<table border=\"1\" class=\"dataframe\">\n  <thead>\n    <tr style=\"text-align: right;\">\n      <th></th>\n      <th>Date</th>\n      <th>NewPositive</th>\n      <th>NotPrevPos</th>\n      <th>PosPct</th>\n      <th>PrevPos</th>\n      <th>Tested</th>\n      <th>Tested_kumulativ</th>\n    </tr>\n  </thead>\n  <tbody>\n    <tr>\n      <th>459</th>\n      <td>2021-04-30</td>\n      <td>761</td>\n      <td>131794</td>\n      <td>0.6</td>\n      <td>4403</td>\n      <td>136197</td>\n      <td>27192618</td>\n    </tr>\n    <tr>\n      <th>460</th>\n      <td>2021-05-01</td>\n      <td>693</td>\n      <td>126842</td>\n      <td>0.5</td>\n      <td>4026</td>\n      <td>130868</td>\n      <td>27323486</td>\n    </tr>\n    <tr>\n      <th>461</th>\n      <td>2021-05-02</td>\n      <td>713</td>\n      <td>147055</td>\n      <td>0.5</td>\n      <td>4331</td>\n      <td>151386</td>\n      <td>27474872</td>\n    </tr>\n    <tr>\n      <th>462</th>\n      <td>2021-05-03</td>\n      <td>1020</td>\n      <td>183429</td>\n      <td>0.6</td>\n      <td>6980</td>\n      <td>190409</td>\n      <td>27665281</td>\n    </tr>\n    <tr>\n      <th>463</th>\n      <td>2021-05-04</td>\n      <td>969</td>\n      <td>170228</td>\n      <td>0.6</td>\n      <td>5961</td>\n      <td>176189</td>\n      <td>27841470</td>\n    </tr>\n  </tbody>\n</table>\n</div>"
     },
     "metadata": {},
     "execution_count": 67
    }
   ],
   "source": [
    "dfPCR.tail()"
   ]
  },
  {
   "cell_type": "code",
   "execution_count": 68,
   "metadata": {},
   "outputs": [
    {
     "output_type": "display_data",
     "data": {
      "text/plain": "Canvas(toolbar=Toolbar(toolitems=[('Home', 'Reset original view', 'home', 'home'), ('Back', 'Back to previous …",
      "application/vnd.jupyter.widget-view+json": {
       "version_major": 2,
       "version_minor": 0,
       "model_id": "bec33eff8ff14797ac4022ac98879a38"
      }
     },
     "metadata": {}
    }
   ],
   "source": [
    "curDates = dfPCR.Date\n",
    "\n",
    "fig,ax1 = plt.subplots(1,1)\n",
    "\n",
    "PCRpos = dfPCR.NewPositive\n",
    "AGpos = dfAG.NewPositive\n",
    "ax1.plot(curDates,PCRpos)\n",
    "ax1.plot(curDates,AGpos)\n",
    "\n",
    "plt.tight_layout()"
   ]
  },
  {
   "cell_type": "code",
   "execution_count": 69,
   "metadata": {},
   "outputs": [
    {
     "output_type": "display_data",
     "data": {
      "text/plain": "Canvas(toolbar=Toolbar(toolitems=[('Home', 'Reset original view', 'home', 'home'), ('Back', 'Back to previous …",
      "application/vnd.jupyter.widget-view+json": {
       "version_major": 2,
       "version_minor": 0,
       "model_id": "a8969fd4067b452c9fdd46ac031e16df"
      }
     },
     "metadata": {}
    },
    {
     "output_type": "execute_result",
     "data": {
      "text/plain": [
       "[<matplotlib.lines.Line2D at 0x14fb3134580>]"
      ]
     },
     "metadata": {},
     "execution_count": 69
    }
   ],
   "source": [
    "fig,ax1 = plt.subplots(1,1)\n",
    "\n",
    "# ax1.plot(dfAG2.Dato,dfAG2.AG_testede) \n",
    "ax1.plot(dfAG2.Dato,np.divide(dfAG2.AGpos_PCRpos,dfAG2.AG_pos),'.-')\n",
    "ax1.plot(rnTime(dfAG2.Dato,7),rnMean(np.divide(dfAG2.AGpos_PCRpos,dfAG2.AG_pos),7),'--')\n",
    "\n",
    "truePosRate = np.divide(dfAG2.AGpos_PCRpos,dfAG2.AG_pos)\n",
    "avgTruePosRate = np.mean(truePosRate[-30:])\n",
    "\n",
    "ax1.plot(dfAG2.Dato,avgTruePosRate * np.ones(dfAG2.Dato.shape),'k:')\n"
   ]
  },
  {
   "cell_type": "code",
   "execution_count": 70,
   "metadata": {},
   "outputs": [
    {
     "output_type": "display_data",
     "data": {
      "text/plain": "Canvas(toolbar=Toolbar(toolitems=[('Home', 'Reset original view', 'home', 'home'), ('Back', 'Back to previous …",
      "application/vnd.jupyter.widget-view+json": {
       "version_major": 2,
       "version_minor": 0,
       "model_id": "d86e056f977f4d3e8f48b1ce4b40c92b"
      }
     },
     "metadata": {}
    }
   ],
   "source": [
    "\n",
    "fig,ax1 = plt.subplots(1,1)\n",
    "\n",
    "# PCRpos = dfPCR.NewPositive\n",
    "# AGpos = dfAG.NewPositive\n",
    "# ax1.plot(curDates,PCRpos)\n",
    "ax1.plot(curDates,AGpos,label='AG+')\n",
    "ax1.plot(curDates,AGpos*avgTruePosRate,label='AG+, times true-positive rate')\n",
    "ax1.plot(dfAG2.Dato,dfAG2['AGpos_PCRpos'],label='AG+, PCR+ confirmed')\n",
    "\n",
    "ax1.legend()\n",
    "ax1.grid()\n",
    "ax1.set_ylim(bottom=0)\n",
    "ax1.set_xlim(left=np.datetime64('2021-03-01'))\n",
    "plt.tight_layout()"
   ]
  },
  {
   "cell_type": "code",
   "execution_count": 74,
   "metadata": {},
   "outputs": [
    {
     "output_type": "execute_result",
     "data": {
      "text/plain": [
       "          Date  NewPositive  NotPrevPos  PosPct  PrevPos  Tested  \\\n",
       "459 2021-04-30          761      131794     0.6     4403  136197   \n",
       "460 2021-05-01          693      126842     0.5     4026  130868   \n",
       "461 2021-05-02          713      147055     0.5     4331  151386   \n",
       "462 2021-05-03         1020      183429     0.6     6980  190409   \n",
       "463 2021-05-04          969      170228     0.6     5961  176189   \n",
       "\n",
       "     Tested_kumulativ  \n",
       "459          27192618  \n",
       "460          27323486  \n",
       "461          27474872  \n",
       "462          27665281  \n",
       "463          27841470  "
      ],
      "text/html": "<div>\n<style scoped>\n    .dataframe tbody tr th:only-of-type {\n        vertical-align: middle;\n    }\n\n    .dataframe tbody tr th {\n        vertical-align: top;\n    }\n\n    .dataframe thead th {\n        text-align: right;\n    }\n</style>\n<table border=\"1\" class=\"dataframe\">\n  <thead>\n    <tr style=\"text-align: right;\">\n      <th></th>\n      <th>Date</th>\n      <th>NewPositive</th>\n      <th>NotPrevPos</th>\n      <th>PosPct</th>\n      <th>PrevPos</th>\n      <th>Tested</th>\n      <th>Tested_kumulativ</th>\n    </tr>\n  </thead>\n  <tbody>\n    <tr>\n      <th>459</th>\n      <td>2021-04-30</td>\n      <td>761</td>\n      <td>131794</td>\n      <td>0.6</td>\n      <td>4403</td>\n      <td>136197</td>\n      <td>27192618</td>\n    </tr>\n    <tr>\n      <th>460</th>\n      <td>2021-05-01</td>\n      <td>693</td>\n      <td>126842</td>\n      <td>0.5</td>\n      <td>4026</td>\n      <td>130868</td>\n      <td>27323486</td>\n    </tr>\n    <tr>\n      <th>461</th>\n      <td>2021-05-02</td>\n      <td>713</td>\n      <td>147055</td>\n      <td>0.5</td>\n      <td>4331</td>\n      <td>151386</td>\n      <td>27474872</td>\n    </tr>\n    <tr>\n      <th>462</th>\n      <td>2021-05-03</td>\n      <td>1020</td>\n      <td>183429</td>\n      <td>0.6</td>\n      <td>6980</td>\n      <td>190409</td>\n      <td>27665281</td>\n    </tr>\n    <tr>\n      <th>463</th>\n      <td>2021-05-04</td>\n      <td>969</td>\n      <td>170228</td>\n      <td>0.6</td>\n      <td>5961</td>\n      <td>176189</td>\n      <td>27841470</td>\n    </tr>\n  </tbody>\n</table>\n</div>"
     },
     "metadata": {},
     "execution_count": 74
    }
   ],
   "source": [
    "dfPCR.tail()"
   ]
  },
  {
   "cell_type": "code",
   "execution_count": 97,
   "metadata": {},
   "outputs": [
    {
     "output_type": "display_data",
     "data": {
      "text/plain": "Canvas(toolbar=Toolbar(toolitems=[('Home', 'Reset original view', 'home', 'home'), ('Back', 'Back to previous …",
      "application/vnd.jupyter.widget-view+json": {
       "version_major": 2,
       "version_minor": 0,
       "model_id": "18de2e794d1a4cc99e85d9f957ee2183"
      }
     },
     "metadata": {}
    }
   ],
   "source": [
    "\n",
    "fig,ax1 = plt.subplots(1,1)\n",
    "\n",
    "PCRpos_nonAG = PCRpos.values -(AGpos.values*avgTruePosRate)\n",
    "\n",
    "normFactor = (np.divide(100000,dfPCR['Tested']))**0.7\n",
    "\n",
    "PCRpos_nonAG_corr = PCRpos_nonAG*normFactor\n",
    "\n",
    "ax1.plot(curDates,PCRpos,'b.-',linewidth=0.5,markersize=2)\n",
    "ax1.plot(curDates,PCRpos_nonAG,'m.-',linewidth=0.5,markersize=2)\n",
    "ax1.plot(curDates,PCRpos_nonAG_corr,'g.-',linewidth=0.5,markersize=2)\n",
    "meanWidth = 7\n",
    "ax1.plot(rnTime(curDates,meanWidth),rnMean(PCRpos,meanWidth),'b',label='PCR positiv')\n",
    "ax1.plot(rnTime(curDates,meanWidth),rnMean(PCRpos_nonAG,meanWidth),'m',label='PCR positiv, uden AG konf.')\n",
    "ax1.plot(rnTime(curDates,meanWidth),rnMean(PCRpos_nonAG_corr,meanWidth),'g',label='PCR positiv, uden AG konf., korrigeret')\n",
    "# ax1.plot(curDates,AGpos,label='AG+')\n",
    "# ax1.plot(curDates,AGpos*avgTruePosRate,label='AG+, times true-positive rate')\n",
    "# ax1.plot(dfAG2.Dato,dfAG2['AGpos_PCRpos'],label='AG+, PCR+ confirmed')\n",
    "\n",
    "curFont = 18\n",
    "ax1.legend(fontsize=curFont)\n",
    "ax1.grid()\n",
    "ax1.set_ylim(bottom=0,top=1200)\n",
    "ax1.set_xlim(left=np.datetime64('2021-03-01'))\n",
    "\n",
    "ax1.xaxis.set_major_formatter(mdates.DateFormatter('%d\\n%b'))\n",
    "\n",
    "# plt.xticks(fontsize=curFont,rotation=90)\n",
    "plt.xticks(fontsize=curFont)\n",
    "plt.yticks(fontsize=curFont)\n",
    "ax1.set_ylabel('Antal',fontsize=curFont)\n",
    "plt.tight_layout()\n",
    "\n",
    "if saveFigures:\n",
    "    plt.savefig('figs/PCRKorrigering')"
   ]
  }
 ]
}