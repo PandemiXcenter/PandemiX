{
 "metadata": {
  "language_info": {
   "codemirror_mode": {
    "name": "ipython",
    "version": 3
   },
   "file_extension": ".py",
   "mimetype": "text/x-python",
   "name": "python",
   "nbconvert_exporter": "python",
   "pygments_lexer": "ipython3",
   "version": "3.8.5"
  },
  "orig_nbformat": 2,
  "kernelspec": {
   "name": "python385jvsc74a57bd0c72cdf52cb3d31f207bca538e9396da8706c0ecf4a3038fb1c2b317934170431",
   "display_name": "Python 3.8.5 64-bit ('main': conda)"
  }
 },
 "nbformat": 4,
 "nbformat_minor": 2,
 "cells": [
  {
   "cell_type": "code",
   "execution_count": 1,
   "metadata": {},
   "outputs": [
    {
     "output_type": "stream",
     "name": "stdout",
     "text": [
      "saveFigures is set to: True\nDone loading packages\n"
     ]
    }
   ],
   "source": [
    "# Notebook for estimating a case-hospitalization rate, per age\n",
    "import numpy as np\n",
    "import pandas as pd\n",
    "pd.set_option('display.max_rows', 500)\n",
    "pd.set_option('display.min_rows', 50)\n",
    "\n",
    "\n",
    "import matplotlib.pyplot as plt\n",
    "%matplotlib widget\n",
    "plt.rcParams['figure.figsize'] = (14,10)\n",
    "# plt.rcParams[\"image.cmap\"] = \"Dark2\"\n",
    "# plt.rcParams['axes.prop_cycle'] = plt.cycler(color=plt.cm.Dark2.colors)\n",
    "plt.rcParams[\"image.cmap\"] = \"tab10\"\n",
    "plt.rcParams['axes.prop_cycle'] = plt.cycler(color=plt.cm.tab10.colors)\n",
    "plt.rcParams['lines.markersize'] = 10\n",
    "plt.rcParams['lines.linewidth'] = 3\n",
    "%matplotlib widget\n",
    "# plt.style.use('ggplot')\n",
    "import matplotlib.colors as colors\n",
    "# cmap = plt.cm.get_cmap('Dark2',len(ageGroups))\n",
    "from matplotlib import cm # Colormaps\n",
    "\n",
    "import locale\n",
    "import matplotlib.dates as mdates\n",
    "locale.setlocale(locale.LC_TIME,\"Danish\")\n",
    "locale.setlocale(locale.LC_ALL,\"Danish\")\n",
    "# ax = plt.gca()\n",
    "# ax1.xaxis.set_major_formatter(mdates.DateFormatter('%b\\n%Y'))\n",
    "# ax1.xaxis.set_major_formatter(mdates.DateFormatter('%d\\n%b'))\n",
    "\n",
    "import os\n",
    "# import csv\n",
    "import math\n",
    "\n",
    "\n",
    "from datetime import date\n",
    "\n",
    "\n",
    "saveFigures = True\n",
    "print('saveFigures is set to: '+str(saveFigures))\n",
    "\n",
    "print('Done loading packages')\n",
    "\n",
    "def rnMean(data,meanWidth):\n",
    "    return np.convolve(data, np.ones(meanWidth)/meanWidth, mode='valid')\n",
    "def rnTime(t,meanWidth):\n",
    "    return t[math.floor(meanWidth/2):-math.ceil(meanWidth/2)+1]"
   ]
  },
  {
   "cell_type": "code",
   "execution_count": 2,
   "metadata": {},
   "outputs": [],
   "source": [
    "#Settings for plotting\n",
    "fs_label = 14\n",
    "\n",
    "parameters = {\n",
    "                'axes.labelsize': fs_label,\n",
    "                'axes.titlesize': fs_label+4,\n",
    "                'xtick.labelsize': fs_label,\n",
    "                'ytick.labelsize': fs_label, \n",
    "                'legend.fontsize': fs_label\n",
    "             }\n",
    "\n",
    "plt.rcParams.update(parameters)\n",
    "\n",
    "#locale.setlocale(locale.LC_TIME, \"Danish\") "
   ]
  },
  {
   "cell_type": "code",
   "execution_count": 3,
   "metadata": {},
   "outputs": [],
   "source": [
    "ssidatapath = \"ssi_data\"\n",
    "rootdir = os.getcwd() +\"/\" + ssidatapath"
   ]
  },
  {
   "cell_type": "code",
   "execution_count": 4,
   "metadata": {},
   "outputs": [],
   "source": [
    "dfAdm = pd.read_excel('Admitted\\Admitted.xlsx')\n",
    "dfAdm = dfAdm.transpose()\n",
    "dfAdm.columns = dfAdm.iloc[0]\n",
    "dfAdm = dfAdm.drop(['Aldersgruppe']) \n",
    "curDates =  pd.to_datetime(dfAdm.index,format='%d_%m_%Y')"
   ]
  },
  {
   "cell_type": "code",
   "execution_count": 5,
   "metadata": {},
   "outputs": [],
   "source": [
    "# dfCase = pd.read_csv(latestdir+'\\\\Cases_by_age.csv',delimiter=';')\n",
    "dfCase = pd.DataFrame(columns=dfAdm.columns)\n",
    "dfTest = pd.DataFrame(columns=dfAdm.columns)\n",
    "dfPosP = pd.DataFrame(columns=dfAdm.columns)"
   ]
  },
  {
   "cell_type": "code",
   "execution_count": 6,
   "metadata": {},
   "outputs": [],
   "source": [
    "# for d in curDates:\n",
    "for k in range(0,len(curDates)):\n",
    "    d = curDates[k]\n",
    "    curIndex = dfAdm.index[k]\n",
    "\n",
    "    thisDateStr = d.strftime('%Y-%m-%d')\n",
    "    curDir = rootdir + '/SSI_data_' + thisDateStr \n",
    "    curFilePath = curDir + '/Cases_by_age.csv'\n",
    "    curdf = pd.read_csv(curFilePath,delimiter=';',dtype=str)\n",
    "\n",
    "\n",
    "    curdf['Antal_bekræftede_COVID-19'] = pd.to_numeric(curdf['Antal_bekræftede_COVID-19'].astype(str).apply(lambda x: x.replace('.','')))\n",
    "    curdf['Antal_testede'] = pd.to_numeric(curdf['Antal_testede'].astype(str).apply(lambda x: x.replace('.','')))\n",
    "    curdf['Procent_positive'] = pd.to_numeric(curdf['Procent_positive'].astype(str).apply(lambda x: x.replace(',','.')))\n",
    "\n",
    "    dfCase.loc[curIndex] = curdf['Antal_bekræftede_COVID-19'].values\n",
    "    dfTest.loc[curIndex] = curdf['Antal_testede'].values\n",
    "    dfPosP.loc[curIndex] = curdf['Procent_positive'].values\n",
    "\n"
   ]
  },
  {
   "cell_type": "code",
   "execution_count": 50,
   "metadata": {},
   "outputs": [
    {
     "output_type": "execute_result",
     "data": {
      "text/plain": [
       "Aldersgruppe   0-9 10-19 20-29 30-39 40-49 50-59 60-69 70-79 80-89  90+  I alt\n",
       "17_11_2020     502  1376  1476  1009  1150  1110   550   275   113   32   7593\n",
       "24_11_2020     550  1607  1545  1137  1235  1208   640   341   165   42   8470\n",
       "01_12_2020     579  1739  1668  1167  1309  1228   641   396   158   43   8928\n",
       "08_12_2020     757  2712  2523  1655  1917  1735   781   511   195   64  12850\n",
       "15_12_2020    1279  3836  4569  2915  3085  2925  1491   746   337  105  21288\n",
       "22_12_2020    1801  3902  4655  3218  3463  3399  1868  1179   464  139  24088\n",
       "29_12_2020    1665  2358  3055  2519  2692  2670  1481  1024   604  204  18272\n",
       "05_01_2021     981  1754  2515  1984  1913  2078  1362   946   603  196  14332\n",
       "12_01_2021     773  1372  1997  1407  1426  1660  1000   689   510  188  11022\n",
       "19_01_2021     498   719  1055   910   994  1058   623   427   379  155   6818\n",
       "26_01_2021     423   534   863   770   780   807   530   308   249   65   5329\n",
       "02_02_2021     314   380   519   491   503   479   320   212   131   60   3409\n",
       "09_02_2021     265   334   545   434   438   440   272   200    93   39   3060\n",
       "16_02_2021     275   376   473   405   416   385   251   116    49   20   2766\n",
       "23_02_2021     440   470   576   534   461   466   241   126    52    7   3373\n",
       "02_03_2021     442   522   621   602   558   436   258   147    69   13   3668\n",
       "09_03_2021     476   554   610   543   495   473   238   115    51   12   3567\n",
       "15_03_2021     425   808   986   803   814   710   431   227    74    2   5280\n",
       "23_03_2021     647  1078  1101   894   874   748   373   189    50    6   5960\n",
       "30_03_2021     611   352   494   428   454   426    87     4     3   12   2871\n",
       "06_04_2021     420   739   806   700   699   577   275   148    44    7   4415\n",
       "13_04_2021     396   857   939   662   638   575   271   162    45    7   4552\n",
       "20_04_2021     582   988   982   785   746   644   301   137    21   10   5196\n",
       "27_04_2021     520   906   889   724   755   656   289   112    30    4   4885\n",
       "04_05_2021     477   975  1204   836   827   699   372   120    16    6   5532\n",
       "11_05_2021     503  1347  1416   942   926   786   377   107    26    1   6431"
      ],
      "text/html": "<div>\n<style scoped>\n    .dataframe tbody tr th:only-of-type {\n        vertical-align: middle;\n    }\n\n    .dataframe tbody tr th {\n        vertical-align: top;\n    }\n\n    .dataframe thead th {\n        text-align: right;\n    }\n</style>\n<table border=\"1\" class=\"dataframe\">\n  <thead>\n    <tr style=\"text-align: right;\">\n      <th>Aldersgruppe</th>\n      <th>0-9</th>\n      <th>10-19</th>\n      <th>20-29</th>\n      <th>30-39</th>\n      <th>40-49</th>\n      <th>50-59</th>\n      <th>60-69</th>\n      <th>70-79</th>\n      <th>80-89</th>\n      <th>90+</th>\n      <th>I alt</th>\n    </tr>\n  </thead>\n  <tbody>\n    <tr>\n      <th>17_11_2020</th>\n      <td>502</td>\n      <td>1376</td>\n      <td>1476</td>\n      <td>1009</td>\n      <td>1150</td>\n      <td>1110</td>\n      <td>550</td>\n      <td>275</td>\n      <td>113</td>\n      <td>32</td>\n      <td>7593</td>\n    </tr>\n    <tr>\n      <th>24_11_2020</th>\n      <td>550</td>\n      <td>1607</td>\n      <td>1545</td>\n      <td>1137</td>\n      <td>1235</td>\n      <td>1208</td>\n      <td>640</td>\n      <td>341</td>\n      <td>165</td>\n      <td>42</td>\n      <td>8470</td>\n    </tr>\n    <tr>\n      <th>01_12_2020</th>\n      <td>579</td>\n      <td>1739</td>\n      <td>1668</td>\n      <td>1167</td>\n      <td>1309</td>\n      <td>1228</td>\n      <td>641</td>\n      <td>396</td>\n      <td>158</td>\n      <td>43</td>\n      <td>8928</td>\n    </tr>\n    <tr>\n      <th>08_12_2020</th>\n      <td>757</td>\n      <td>2712</td>\n      <td>2523</td>\n      <td>1655</td>\n      <td>1917</td>\n      <td>1735</td>\n      <td>781</td>\n      <td>511</td>\n      <td>195</td>\n      <td>64</td>\n      <td>12850</td>\n    </tr>\n    <tr>\n      <th>15_12_2020</th>\n      <td>1279</td>\n      <td>3836</td>\n      <td>4569</td>\n      <td>2915</td>\n      <td>3085</td>\n      <td>2925</td>\n      <td>1491</td>\n      <td>746</td>\n      <td>337</td>\n      <td>105</td>\n      <td>21288</td>\n    </tr>\n    <tr>\n      <th>22_12_2020</th>\n      <td>1801</td>\n      <td>3902</td>\n      <td>4655</td>\n      <td>3218</td>\n      <td>3463</td>\n      <td>3399</td>\n      <td>1868</td>\n      <td>1179</td>\n      <td>464</td>\n      <td>139</td>\n      <td>24088</td>\n    </tr>\n    <tr>\n      <th>29_12_2020</th>\n      <td>1665</td>\n      <td>2358</td>\n      <td>3055</td>\n      <td>2519</td>\n      <td>2692</td>\n      <td>2670</td>\n      <td>1481</td>\n      <td>1024</td>\n      <td>604</td>\n      <td>204</td>\n      <td>18272</td>\n    </tr>\n    <tr>\n      <th>05_01_2021</th>\n      <td>981</td>\n      <td>1754</td>\n      <td>2515</td>\n      <td>1984</td>\n      <td>1913</td>\n      <td>2078</td>\n      <td>1362</td>\n      <td>946</td>\n      <td>603</td>\n      <td>196</td>\n      <td>14332</td>\n    </tr>\n    <tr>\n      <th>12_01_2021</th>\n      <td>773</td>\n      <td>1372</td>\n      <td>1997</td>\n      <td>1407</td>\n      <td>1426</td>\n      <td>1660</td>\n      <td>1000</td>\n      <td>689</td>\n      <td>510</td>\n      <td>188</td>\n      <td>11022</td>\n    </tr>\n    <tr>\n      <th>19_01_2021</th>\n      <td>498</td>\n      <td>719</td>\n      <td>1055</td>\n      <td>910</td>\n      <td>994</td>\n      <td>1058</td>\n      <td>623</td>\n      <td>427</td>\n      <td>379</td>\n      <td>155</td>\n      <td>6818</td>\n    </tr>\n    <tr>\n      <th>26_01_2021</th>\n      <td>423</td>\n      <td>534</td>\n      <td>863</td>\n      <td>770</td>\n      <td>780</td>\n      <td>807</td>\n      <td>530</td>\n      <td>308</td>\n      <td>249</td>\n      <td>65</td>\n      <td>5329</td>\n    </tr>\n    <tr>\n      <th>02_02_2021</th>\n      <td>314</td>\n      <td>380</td>\n      <td>519</td>\n      <td>491</td>\n      <td>503</td>\n      <td>479</td>\n      <td>320</td>\n      <td>212</td>\n      <td>131</td>\n      <td>60</td>\n      <td>3409</td>\n    </tr>\n    <tr>\n      <th>09_02_2021</th>\n      <td>265</td>\n      <td>334</td>\n      <td>545</td>\n      <td>434</td>\n      <td>438</td>\n      <td>440</td>\n      <td>272</td>\n      <td>200</td>\n      <td>93</td>\n      <td>39</td>\n      <td>3060</td>\n    </tr>\n    <tr>\n      <th>16_02_2021</th>\n      <td>275</td>\n      <td>376</td>\n      <td>473</td>\n      <td>405</td>\n      <td>416</td>\n      <td>385</td>\n      <td>251</td>\n      <td>116</td>\n      <td>49</td>\n      <td>20</td>\n      <td>2766</td>\n    </tr>\n    <tr>\n      <th>23_02_2021</th>\n      <td>440</td>\n      <td>470</td>\n      <td>576</td>\n      <td>534</td>\n      <td>461</td>\n      <td>466</td>\n      <td>241</td>\n      <td>126</td>\n      <td>52</td>\n      <td>7</td>\n      <td>3373</td>\n    </tr>\n    <tr>\n      <th>02_03_2021</th>\n      <td>442</td>\n      <td>522</td>\n      <td>621</td>\n      <td>602</td>\n      <td>558</td>\n      <td>436</td>\n      <td>258</td>\n      <td>147</td>\n      <td>69</td>\n      <td>13</td>\n      <td>3668</td>\n    </tr>\n    <tr>\n      <th>09_03_2021</th>\n      <td>476</td>\n      <td>554</td>\n      <td>610</td>\n      <td>543</td>\n      <td>495</td>\n      <td>473</td>\n      <td>238</td>\n      <td>115</td>\n      <td>51</td>\n      <td>12</td>\n      <td>3567</td>\n    </tr>\n    <tr>\n      <th>15_03_2021</th>\n      <td>425</td>\n      <td>808</td>\n      <td>986</td>\n      <td>803</td>\n      <td>814</td>\n      <td>710</td>\n      <td>431</td>\n      <td>227</td>\n      <td>74</td>\n      <td>2</td>\n      <td>5280</td>\n    </tr>\n    <tr>\n      <th>23_03_2021</th>\n      <td>647</td>\n      <td>1078</td>\n      <td>1101</td>\n      <td>894</td>\n      <td>874</td>\n      <td>748</td>\n      <td>373</td>\n      <td>189</td>\n      <td>50</td>\n      <td>6</td>\n      <td>5960</td>\n    </tr>\n    <tr>\n      <th>30_03_2021</th>\n      <td>611</td>\n      <td>352</td>\n      <td>494</td>\n      <td>428</td>\n      <td>454</td>\n      <td>426</td>\n      <td>87</td>\n      <td>4</td>\n      <td>3</td>\n      <td>12</td>\n      <td>2871</td>\n    </tr>\n    <tr>\n      <th>06_04_2021</th>\n      <td>420</td>\n      <td>739</td>\n      <td>806</td>\n      <td>700</td>\n      <td>699</td>\n      <td>577</td>\n      <td>275</td>\n      <td>148</td>\n      <td>44</td>\n      <td>7</td>\n      <td>4415</td>\n    </tr>\n    <tr>\n      <th>13_04_2021</th>\n      <td>396</td>\n      <td>857</td>\n      <td>939</td>\n      <td>662</td>\n      <td>638</td>\n      <td>575</td>\n      <td>271</td>\n      <td>162</td>\n      <td>45</td>\n      <td>7</td>\n      <td>4552</td>\n    </tr>\n    <tr>\n      <th>20_04_2021</th>\n      <td>582</td>\n      <td>988</td>\n      <td>982</td>\n      <td>785</td>\n      <td>746</td>\n      <td>644</td>\n      <td>301</td>\n      <td>137</td>\n      <td>21</td>\n      <td>10</td>\n      <td>5196</td>\n    </tr>\n    <tr>\n      <th>27_04_2021</th>\n      <td>520</td>\n      <td>906</td>\n      <td>889</td>\n      <td>724</td>\n      <td>755</td>\n      <td>656</td>\n      <td>289</td>\n      <td>112</td>\n      <td>30</td>\n      <td>4</td>\n      <td>4885</td>\n    </tr>\n    <tr>\n      <th>04_05_2021</th>\n      <td>477</td>\n      <td>975</td>\n      <td>1204</td>\n      <td>836</td>\n      <td>827</td>\n      <td>699</td>\n      <td>372</td>\n      <td>120</td>\n      <td>16</td>\n      <td>6</td>\n      <td>5532</td>\n    </tr>\n    <tr>\n      <th>11_05_2021</th>\n      <td>503</td>\n      <td>1347</td>\n      <td>1416</td>\n      <td>942</td>\n      <td>926</td>\n      <td>786</td>\n      <td>377</td>\n      <td>107</td>\n      <td>26</td>\n      <td>1</td>\n      <td>6431</td>\n    </tr>\n  </tbody>\n</table>\n</div>"
     },
     "metadata": {},
     "execution_count": 50
    }
   ],
   "source": [
    "dfCaseDiff = dfCase.diff().iloc[1:]\n",
    "dfAdmDiff = dfAdm.diff().iloc[1:]\n",
    "dfCaseDiff\n",
    "# dfAdmDiff"
   ]
  },
  {
   "cell_type": "code",
   "execution_count": 8,
   "metadata": {},
   "outputs": [],
   "source": [
    "caseAdmRate = np.divide(dfAdmDiff.iloc[1:].values,dfCaseDiff[:-1])\n",
    "# caseAdmRate = np.divide(dfAdmDiff.iloc[2:].values,dfCaseDiff[:-2])\n",
    "# dfCaseDiff.iloc[:-1]\n",
    "# dfAdmDiff.iloc[1:]"
   ]
  },
  {
   "cell_type": "code",
   "execution_count": 9,
   "metadata": {},
   "outputs": [
    {
     "output_type": "display_data",
     "data": {
      "text/plain": "Canvas(toolbar=Toolbar(toolitems=[('Home', 'Reset original view', 'home', 'home'), ('Back', 'Back to previous …",
      "application/vnd.jupyter.widget-view+json": {
       "version_major": 2,
       "version_minor": 0,
       "model_id": "9cae468419634a329c0feea089154d34"
      }
     },
     "metadata": {}
    }
   ],
   "source": [
    "# caseAdmRate.mean()\n",
    "\n",
    "# allCols = caseAdmRate.columns[:-1]\n",
    "allCols = caseAdmRate.columns\n",
    "\n",
    "plotDates = curDates[2:]\n",
    "# plotDates = curDates[3:]\n",
    "\n",
    "fig,ax1 = plt.subplots()\n",
    "\n",
    "finalEstimates = []\n",
    "\n",
    "numToShow = len(allCols)-1\n",
    "numToShow = len(allCols)-4\n",
    "cmap = plt.cm.get_cmap('Dark2',numToShow)\n",
    "for k in range(0,numToShow):\n",
    "    curCol = allCols[k]\n",
    "\n",
    "    ax1.plot(plotDates,100*caseAdmRate[curCol],'.:',markersize=3,linewidth=0.75,color=cmap(k))\n",
    "    meanWidth = 4\n",
    "    ax1.plot(rnTime(plotDates,meanWidth),rnMean(100*caseAdmRate[curCol],meanWidth),color=cmap(k),label=curCol)\n",
    "\n",
    "    # Collect the final mean values\n",
    "    curFinalMean = rnMean(100*caseAdmRate[curCol],meanWidth)[-1]\n",
    "    finalEstimates.append(curFinalMean)\n",
    "\n",
    "ax1.legend()\n",
    "ax1.set_ylim([0,20])\n",
    "# ax1.set_ylim([0,100])\n",
    "# ax1.set_ylim(bottom=0)\n",
    "ax1.set_xlim([plotDates[0],plotDates[-1]])\n",
    "\n",
    "ax1.xaxis.set_major_formatter(mdates.DateFormatter('%b'))\n",
    "\n",
    "curFont = 18\n",
    "ax1.set_ylabel('Indlæggelser per tilfælde ugen før [%]',fontsize=curFont)\n",
    "plt.xticks(fontsize=curFont)\n",
    "plt.yticks(fontsize=curFont)\n",
    "plt.grid()\n",
    "\n",
    "plt.tight_layout()\n",
    "\n",
    "if saveFigures:\n",
    "    plt.savefig('figs/case_hospitalization_per_time')"
   ]
  },
  {
   "cell_type": "code",
   "execution_count": 10,
   "metadata": {},
   "outputs": [],
   "source": [
    "# caseAdmRate.mean()\n",
    "\n",
    "# allCols = caseAdmRate.columns[:-1]\n",
    "allCols = caseAdmRate.columns\n",
    "\n",
    "plotDates = curDates[2:]\n",
    "# plotDates = curDates[3:]\n",
    "\n",
    "# fig,ax1 = plt.subplots()\n",
    "\n",
    "finalEstimates = []\n",
    "\n",
    "numToShow = len(allCols)-1\n",
    "# numToShow = len(allCols)-4\n",
    "cmap = plt.cm.get_cmap('Dark2',numToShow)\n",
    "for k in range(0,numToShow):\n",
    "    curCol = allCols[k]\n",
    "\n",
    "    # ax1.plot(plotDates,100*caseAdmRate[curCol],'.:',markersize=3,linewidth=0.75,color=cmap(k))\n",
    "    meanWidth = 4\n",
    "    # ax1.plot(rnTime(plotDates,meanWidth),rnMean(100*caseAdmRate[curCol],meanWidth),color=cmap(k),label=curCol)\n",
    "\n",
    "    # Collect the final mean values\n",
    "    curFinalMean = rnMean(100*caseAdmRate[curCol],meanWidth)[-1]\n",
    "    finalEstimates.append(curFinalMean)\n",
    "\n",
    "# ax1.legend()\n",
    "# ax1.set_ylim([0,20])\n",
    "# # ax1.set_ylim([0,100])\n",
    "# # ax1.set_ylim(bottom=0)\n",
    "# ax1.set_xlim([plotDates[0],plotDates[-1]])\n",
    "\n",
    "# ax1.xaxis.set_major_formatter(mdates.DateFormatter('%b'))\n",
    "\n",
    "# curFont = 18\n",
    "# ax1.set_ylabel('Indlæggelser per tilfælde ugen før [%]',fontsize=curFont)\n",
    "# plt.xticks(fontsize=curFont)\n",
    "# plt.yticks(fontsize=curFont)\n",
    "# plt.grid()\n",
    "\n",
    "# plt.tight_layout()\n",
    "\n",
    "# if saveFigures:\n",
    "#     plt.savefig('figs/case_hospitalization_per_time')"
   ]
  },
  {
   "cell_type": "code",
   "execution_count": 11,
   "metadata": {},
   "outputs": [
    {
     "output_type": "stream",
     "name": "stdout",
     "text": [
      "Alderstrin:   0-9: 1.3 %\nAlderstrin: 10-19: 0.6 %\nAlderstrin: 20-29: 2.0 %\nAlderstrin: 30-39: 4.5 %\nAlderstrin: 40-49: 5.0 %\nAlderstrin: 50-59: 8.1 %\nAlderstrin: 60-69: 13.1 %\nAlderstrin: 70-79: 19.9 %\nAlderstrin: 80-89: 42.0 %\nAlderstrin: 90+: 39.2 %\n"
     ]
    }
   ],
   "source": [
    "# print(allCols.values[:numToShow])\n",
    "# print(finalEstimates)\n",
    "print(f'Alderstrin:   {allCols.values[0]}: {finalEstimates[0]:.1f} %')\n",
    "for k in range(1,numToShow):\n",
    "    print(f'Alderstrin: {allCols.values[k]}: {finalEstimates[k]:.1f} %')"
   ]
  },
  {
   "cell_type": "code",
   "execution_count": 12,
   "metadata": {},
   "outputs": [
    {
     "output_type": "display_data",
     "data": {
      "text/plain": "Canvas(toolbar=Toolbar(toolitems=[('Home', 'Reset original view', 'home', 'home'), ('Back', 'Back to previous …",
      "application/vnd.jupyter.widget-view+json": {
       "version_major": 2,
       "version_minor": 0,
       "model_id": "4809af9f8364494381dadc00d4e301e6"
      }
     },
     "metadata": {}
    }
   ],
   "source": [
    "plt.figure()\n",
    "plt.bar(range(0,numToShow),finalEstimates,color='k')\n",
    "\n",
    "for i,v in enumerate(finalEstimates):\n",
    "    plt.text(i,v+0.5,f'{v:.1f} %',fontsize=14,va='center',ha='center')\n",
    "\n",
    "curFont = 18\n",
    "plt.yticks(fontsize=curFont-2)\n",
    "plt.xticks(range(0,numToShow),labels=allCols.values[:-1],fontsize=curFont-2)\n",
    "plt.ylabel('Indlæggelser per tilfælde ugen før [%]',fontsize=curFont)\n",
    "plt.xlabel('Alderstrin',fontsize=curFont)\n",
    "\n",
    "plt.title('4 ugers gennemsnit op til '+plotDates[-1].strftime('%d. %b'))\n",
    "plt.tight_layout()\n",
    "\n",
    "if saveFigures:\n",
    "    plt.savefig('figs/HospitalizationPerAge')"
   ]
  },
  {
   "cell_type": "code",
   "execution_count": 13,
   "metadata": {},
   "outputs": [],
   "source": [
    "# Calculation of size of age-group\n",
    "dfAges = pd.read_excel('DKfolketal2021clean.xlsx')"
   ]
  },
  {
   "cell_type": "code",
   "execution_count": 14,
   "metadata": {},
   "outputs": [
    {
     "output_type": "execute_result",
     "data": {
      "text/plain": [
       "array([610210, 680040, 778740, 696679, 748824, 801166, 667583, 574697,\n",
       "       236648,  45458], dtype=int64)"
      ]
     },
     "metadata": {},
     "execution_count": 14
    }
   ],
   "source": [
    "DK_age = []\n",
    "DK_age.append(dfAges.iloc[0:10].Antal.sum())\n",
    "DK_age.append(dfAges.iloc[10:20].Antal.sum())\n",
    "DK_age.append(dfAges.iloc[20:30].Antal.sum())\n",
    "DK_age.append(dfAges.iloc[30:40].Antal.sum())\n",
    "DK_age.append(dfAges.iloc[40:50].Antal.sum())\n",
    "DK_age.append(dfAges.iloc[50:60].Antal.sum())\n",
    "DK_age.append(dfAges.iloc[60:70].Antal.sum())\n",
    "DK_age.append(dfAges.iloc[70:80].Antal.sum())\n",
    "DK_age.append(dfAges.iloc[80:90].Antal.sum())\n",
    "DK_age.append(dfAges.iloc[90:].Antal.sum())\n",
    "DK_age = np.array(DK_age)\n",
    "DK_age"
   ]
  },
  {
   "cell_type": "code",
   "execution_count": 15,
   "metadata": {},
   "outputs": [
    {
     "output_type": "stream",
     "name": "stdout",
     "text": [
      "0.09176470588235293\n[55995.74117647 62403.67058824 71460.84705882 63930.54352941\n 68715.61411765 73518.76235294 61260.55764706 52736.90117647\n 21715.93411765  4171.44      ]\n"
     ]
    },
    {
     "output_type": "execute_result",
     "data": {
      "text/plain": [
       "array([55995.74117647, 62403.67058824, 71460.84705882, 63930.54352941,\n",
       "       68715.61411765, 73518.76235294, 61260.55764706, 52736.90117647,\n",
       "       21715.93411765,  4171.44      ])"
      ]
     },
     "metadata": {},
     "execution_count": 15
    }
   ],
   "source": [
    "# R0 = 2.5\n",
    "# R0 = 2.5 * 1.5\n",
    "R0 = 1.7\n",
    "herdImmunityThreshold = 1-(1/R0)\n",
    "\n",
    "vaccPerc = 0.010\n",
    "immuPerc = 0.08\n",
    "vaccPerc = 0.24\n",
    "immuPerc = 0.08\n",
    "\n",
    "vaccPercList = [0,0.008,0.10,0.131,0.18,0.21,0.52,0.93,0.95,0.94]\n",
    "# herdImmunityThresholdList = np.\n",
    "\n",
    "missingToInfectPerc = herdImmunityThreshold - vaccPerc - immuPerc\n",
    "print(missingToInfectPerc)\n",
    "missingToInfect = np.multiply(missingToInfectPerc,DK_age)\n",
    "print(missingToInfect)\n",
    "\n",
    "missingToInfect\n",
    "\n"
   ]
  },
  {
   "cell_type": "code",
   "execution_count": 16,
   "metadata": {},
   "outputs": [
    {
     "output_type": "stream",
     "name": "stdout",
     "text": [
      "['0-9' '10-19' '20-29' '30-39' '40-49' '50-59' '60-69' '70-79' '80-89'\n '90+']\n[  729.   398.  1442.  2874.  3423.  5934.  8030. 10502.  9113.  1636.]\n"
     ]
    },
    {
     "output_type": "execute_result",
     "data": {
      "text/plain": [
       "14800.0"
      ]
     },
     "metadata": {},
     "execution_count": 16
    }
   ],
   "source": [
    "toAdm = np.round(np.multiply(missingToInfect,np.multiply(finalEstimates,0.01)))\n",
    "print(allCols.values[:-1])\n",
    "print(toAdm)\n",
    "toAdm[0:6].sum()"
   ]
  },
  {
   "source": [
    "# Load vaccine data\n"
   ],
   "cell_type": "markdown",
   "metadata": {}
  },
  {
   "cell_type": "code",
   "execution_count": 17,
   "metadata": {},
   "outputs": [],
   "source": [
    "ssivaccpath = \"ssi_vacc\"\n",
    "rootdirvacc = os.getcwd() +\"/\" + ssivaccpath "
   ]
  },
  {
   "cell_type": "code",
   "execution_count": 18,
   "metadata": {},
   "outputs": [
    {
     "output_type": "stream",
     "name": "stdout",
     "text": [
      "c:\\Users\\rakrpe\\Documents\\PandemiX\\GithubRepos\\PandemiX\\DanskeData/ssi_vacc\\SSI_vacc_2021-05-11\\Vaccine_DB\n2021-05-11 00:00:00\n"
     ]
    }
   ],
   "source": [
    "for subdir, dirs, files in os.walk(rootdirvacc):\n",
    "    if not len(files) == 0:\n",
    "        latestdir = subdir \n",
    "        # latestDate = pd.to_datetime(subdir[-10:])\n",
    "\n",
    "print(latestdir)\n",
    "latestDate = pd.to_datetime(latestdir[-21:-11]) # Assuming everything is in a \"\\Vaccine_DB\" subdir\n",
    "print(latestDate)\n",
    "\n",
    "\n",
    "# # thisDateStr = d.strftime('%Y-%m-%d')\n",
    "# # curDir = rootdir + '/SSI_data_' + thisDateStr \n",
    "# # curFilePath = curDir + '/Cases_by_age.csv'\n",
    "# # curdf = pd.read_csv(curFilePath,delimiter=';',dtype=str)"
   ]
  },
  {
   "cell_type": "code",
   "execution_count": 19,
   "metadata": {},
   "outputs": [
    {
     "output_type": "execute_result",
     "data": {
      "text/plain": [
       "Index(['Regionsnavn', 'Aldersgruppe', 'sex', 'Antal f�rste vacc.',\n",
       "       'Antal faerdigvacc.'],\n",
       "      dtype='object')"
      ]
     },
     "metadata": {},
     "execution_count": 19
    }
   ],
   "source": [
    "curFilePath = latestdir + '\\\\Vaccinationer_region_aldgrp_koen.csv'\n",
    "dfVac = pd.read_csv(curFilePath,delimiter=',')\n",
    "dfVac.columns"
   ]
  },
  {
   "cell_type": "code",
   "execution_count": 20,
   "metadata": {},
   "outputs": [],
   "source": [
    "# dfVac"
   ]
  },
  {
   "cell_type": "code",
   "execution_count": 21,
   "metadata": {},
   "outputs": [
    {
     "output_type": "execute_result",
     "data": {
      "text/plain": [
       "  Aldersgruppe Foerste Faerdig\n",
       "0          0-9       5       3\n",
       "1        10-19    4200    2543\n",
       "2        20-29   54684   29761\n",
       "3        30-39   65120   39357\n",
       "4        40-49   92753   57452\n",
       "5        50-59  120776   77310\n",
       "6        60-69  382995   97208\n",
       "7        70-79  539696  339065\n",
       "8        80-89  228327  218641\n",
       "9          90+   42780   41590"
      ],
      "text/html": "<div>\n<style scoped>\n    .dataframe tbody tr th:only-of-type {\n        vertical-align: middle;\n    }\n\n    .dataframe tbody tr th {\n        vertical-align: top;\n    }\n\n    .dataframe thead th {\n        text-align: right;\n    }\n</style>\n<table border=\"1\" class=\"dataframe\">\n  <thead>\n    <tr style=\"text-align: right;\">\n      <th></th>\n      <th>Aldersgruppe</th>\n      <th>Foerste</th>\n      <th>Faerdig</th>\n    </tr>\n  </thead>\n  <tbody>\n    <tr>\n      <th>0</th>\n      <td>0-9</td>\n      <td>5</td>\n      <td>3</td>\n    </tr>\n    <tr>\n      <th>1</th>\n      <td>10-19</td>\n      <td>4200</td>\n      <td>2543</td>\n    </tr>\n    <tr>\n      <th>2</th>\n      <td>20-29</td>\n      <td>54684</td>\n      <td>29761</td>\n    </tr>\n    <tr>\n      <th>3</th>\n      <td>30-39</td>\n      <td>65120</td>\n      <td>39357</td>\n    </tr>\n    <tr>\n      <th>4</th>\n      <td>40-49</td>\n      <td>92753</td>\n      <td>57452</td>\n    </tr>\n    <tr>\n      <th>5</th>\n      <td>50-59</td>\n      <td>120776</td>\n      <td>77310</td>\n    </tr>\n    <tr>\n      <th>6</th>\n      <td>60-69</td>\n      <td>382995</td>\n      <td>97208</td>\n    </tr>\n    <tr>\n      <th>7</th>\n      <td>70-79</td>\n      <td>539696</td>\n      <td>339065</td>\n    </tr>\n    <tr>\n      <th>8</th>\n      <td>80-89</td>\n      <td>228327</td>\n      <td>218641</td>\n    </tr>\n    <tr>\n      <th>9</th>\n      <td>90+</td>\n      <td>42780</td>\n      <td>41590</td>\n    </tr>\n  </tbody>\n</table>\n</div>"
     },
     "metadata": {},
     "execution_count": 21
    }
   ],
   "source": [
    "dfVacSum = pd.DataFrame(columns=['Aldersgruppe','Foerste','Faerdig'])\n",
    "\n",
    "# for curAge in allCols[:-1]:\n",
    "for i in range(0,len(allCols)-1):\n",
    "    curAge = allCols[i]\n",
    "\n",
    "    # print(curAge)\n",
    "\n",
    "    # curAge = '70-79'\n",
    "    # dfVac[dfVac.Aldersgruppe == curAge]\n",
    "    \n",
    "    curFirst = dfVac[dfVac.Aldersgruppe == curAge]['Antal f�rste vacc.'].sum()\n",
    "    curBoth  = dfVac[dfVac.Aldersgruppe == curAge]['Antal faerdigvacc.'].sum()\n",
    "\n",
    "    dfVacSum.loc[i] = [curAge,curFirst,curBoth]\n",
    "dfVacSum"
   ]
  },
  {
   "cell_type": "code",
   "execution_count": 22,
   "metadata": {},
   "outputs": [],
   "source": [
    "doneVacc = dfVacSum.Faerdig.values\n",
    "doneVacc = dfVacSum.Foerste.values"
   ]
  },
  {
   "cell_type": "code",
   "execution_count": 23,
   "metadata": {},
   "outputs": [],
   "source": [
    "## Vaccinated\n",
    "vaccCount = dfVacSum.Foerste.values\n",
    "vaccRatio = np.divide(vaccCount,DK_age)\n",
    "vaccFullCount = dfVacSum.Faerdig.values\n",
    "vaccFullRatio = np.divide(vaccFullCount,DK_age)\n",
    "\n",
    "## Natural immunization\n",
    "# Seroprevalence, bloddonerer, uge 16:\n",
    "# 17-29: 9,6%\n",
    "# 30-49: 6,3%\n",
    "# 50-69: 5,0%\n",
    "# I alt: 6,7%\n",
    "# imm0_29 = 0.1\n",
    "# imm30_49 = 0.075\n",
    "# imm50_69 = 0.06\n",
    "imm0_29 = 0.1\n",
    "imm30_49 = 0.065\n",
    "imm50_69 = 0.06\n",
    "immuRatio = [imm0_29,imm0_29,imm0_29,imm30_49,imm30_49,imm50_69,imm50_69,imm50_69,imm50_69,imm50_69]\n",
    "immuCount = np.multiply(immuRatio,DK_age)\n",
    "\n",
    "## Total immune\n",
    "allImmuRatio = vaccRatio + immuRatio - np.multiply(vaccRatio,immuRatio)\n",
    "allImmuCount = np.multiply(allImmuRatio,DK_age)\n",
    "allImmuFullRatio = vaccFullRatio + immuRatio - np.multiply(vaccFullRatio,immuRatio)\n",
    "allImmuFullCount = np.multiply(allImmuFullRatio,DK_age)\n",
    "\n",
    "## Herd immunity threshold\n",
    "# R0 = 2.5\n",
    "# R0 = 2.5 * 1.5\n",
    "R0 = 1.7\n",
    "herdImmunityThreshold = 1-(1/R0)\n",
    "herdRatio = herdImmunityThreshold * np.ones(DK_age.shape)\n",
    "herdCount = herdImmunityThreshold * DK_age\n",
    "\n",
    "\n",
    "## Missing immunization before herd immunity is reached\n",
    "missImmuRatio = herdRatio - allImmuRatio\n",
    "missImmuFullRatio = herdRatio - allImmuFullRatio\n",
    "# If below zero, set to zero\n",
    "missImmuRatio[missImmuRatio < 0] = 0\n",
    "missImmuFullRatio[missImmuFullRatio < 0] = 0\n",
    "missImmuFullCount = np.multiply(missImmuFullRatio,DK_age)\n",
    "missImmuCount = np.multiply(missImmuRatio,DK_age)\n",
    "# missImmuCount = herdCount - allImmuCount\n",
    "\n",
    "# Calculate the herd immunity numbers, but for a higher R0 (corresponding to B117 in the winter)\n",
    "R0_winter = 2.5 * 1.5\n",
    "herdImmunityThreshold_winter = 1-(1/R0_winter)\n",
    "herdRatio_winter = herdImmunityThreshold_winter * np.ones(DK_age.shape)\n",
    "herdCount_winter = herdImmunityThreshold_winter * DK_age\n",
    "\n",
    "missImmuRatio_winter = herdRatio_winter - allImmuRatio\n",
    "missImmuFullRatio_winter = herdRatio_winter - allImmuFullRatio\n",
    "missImmuRatio_winter[missImmuRatio_winter < 0] = 0\n",
    "missImmuFullRatio_winter[missImmuFullRatio_winter < 0] = 0\n",
    "missImmuFullCount_winter = np.multiply(missImmuFullRatio_winter,DK_age)\n",
    "missImmuCount_winter = np.multiply(missImmuRatio_winter,DK_age)"
   ]
  },
  {
   "cell_type": "code",
   "execution_count": 24,
   "metadata": {},
   "outputs": [],
   "source": [
    "fullPop = DK_age.sum()\n",
    "fullImmu = allImmuCount.sum()\n",
    "fullVacc = vaccCount.sum()\n",
    "fullVaccFull = vaccFullCount.sum()\n",
    "fullMissImmu = missImmuCount.sum()\n",
    "fullMissImmuFull = missImmuFullCount.sum()\n",
    "fullMissImmu_winter = missImmuCount_winter.sum()\n",
    "fullMissImmuFull_winter = missImmuFullCount_winter.sum()"
   ]
  },
  {
   "cell_type": "code",
   "execution_count": 25,
   "metadata": {},
   "outputs": [
    {
     "output_type": "display_data",
     "data": {
      "text/plain": "Canvas(toolbar=Toolbar(toolitems=[('Home', 'Reset original view', 'home', 'home'), ('Back', 'Back to previous …",
      "application/vnd.jupyter.widget-view+json": {
       "version_major": 2,
       "version_minor": 0,
       "model_id": "b65362718e254241897863b6c4057551"
      }
     },
     "metadata": {}
    }
   ],
   "source": [
    "fig,(ax1,ax2) = plt.subplots(2,1,sharex=True)\n",
    "\n",
    "xVals = range(0,10)\n",
    "\n",
    "curWidth = 0.75\n",
    "\n",
    "ax1.bar(xVals,DK_age,label='Modtagelige',color='mediumblue')\n",
    "# ax1.bar(range(0,10),np.multiply(herdImmuList,DK_age),edgecolor='k',label='Grænse for flokimmunitet')\n",
    "for k in range(0,10):\n",
    "    ax1.plot([k-curWidth/2,k+curWidth/2],[herdCount[k],herdCount[k]],'k')\n",
    "    ax1.plot([k-curWidth/2,k+curWidth/2],[herdCount_winter[k],herdCount_winter[k]],'darkgrey')\n",
    "\n",
    "# Plot an extra, for legend label\n",
    "ax1.plot([k-curWidth/2,k+curWidth/2],[herdCount[k],herdCount[k]],'k',label=f'Grænse for flokimmunitet \\n(R0={R0:1.2f})')\n",
    "ax1.plot([k-curWidth/2,k+curWidth/2],[herdCount_winter[k],herdCount_winter[k]],'darkgrey',label=f'Grænse for flokimmunitet \\n(R0={R0_winter:1.2f})')\n",
    "\n",
    "ax1.bar(xVals,allImmuCount,color='m',label='Naturlig immunitet')\n",
    "ax1.bar(xVals,vaccCount,color='g',label='Vaccineret (første dosis)')\n",
    "ax1.bar(xVals,vaccFullCount,color='xkcd:darkgreen',label='Vaccineret (færdig)')\n",
    "\n",
    "\n",
    "# ax1.bar(10,fullPop,color='mediumblue')\n",
    "# ax1.bar(10,fullImmu,color='m')\n",
    "# ax1.bar(10,fullVacc,color='g')\n",
    "# ax1.bar(10,fullVaccFull,color='xkcd:darkgreen')\n",
    "\n",
    "\n",
    "ax2.bar(xVals,100 * np.ones(DK_age.shape),color='mediumblue',label='Modtagelige')\n",
    "ax2.plot([-2,11],100 * herdImmunityThreshold*np.ones((2,)),'k',label=f'Grænse for flokimmunitet (R0={R0:1.2f})')\n",
    "ax2.plot([-2,11],100 * herdImmunityThreshold_winter*np.ones((2,)),'darkgrey',label=f'Grænse for flokimmunitet (R0={R0_winter:1.2f})')\n",
    "\n",
    "ax2.bar(xVals,100 * allImmuRatio,color='m',label='Naturlig immunitet')\n",
    "ax2.bar(xVals,100 * vaccRatio,color='g',label='Vaccineret (Første dosis')\n",
    "ax2.bar(xVals,100 * vaccFullRatio,color='xkcd:darkgreen',label='Vaccineret (færdig)')\n",
    "\n",
    "ax1.set_xticks(xVals)\n",
    "ax1.set_xticklabels(allCols[:-1])\n",
    "\n",
    "ax2.bar(10,100 * np.divide(fullPop,fullPop),color='mediumblue')\n",
    "ax2.bar(10,100 * np.divide(fullImmu,fullPop),color='m')\n",
    "ax2.bar(10,100 * np.divide(fullVacc,fullPop),color='g')\n",
    "ax2.bar(10,100 * np.divide(fullVaccFull,fullPop),color='xkcd:darkgreen')\n",
    "\n",
    "\n",
    "\n",
    "\n",
    "curTicks = np.append(xVals,10)\n",
    "curTickLabels = np.append(allCols[:-1],'Total')\n",
    "ax1.set_xticks(curTicks)\n",
    "ax1.set_xticklabels(curTickLabels)\n",
    "\n",
    "ax1.set_xlim([-0.5,10.5])\n",
    "\n",
    "\n",
    "ax1.legend(loc='center left',bbox_to_anchor = (1.0, 0.5))\n",
    "ax2.set_ylim([0,100])\n",
    "\n",
    "# Period as thousands separator\n",
    "ax1.get_yaxis().set_major_formatter(\n",
    "    plt.matplotlib.ticker.FuncFormatter(lambda x, p: format(int(x), ',').replace(',','.'))\n",
    ")\n",
    "\n",
    "\n",
    "ax1.set_ylabel('Antal personer')\n",
    "ax2.set_ylabel('Andel [%]')\n",
    "\n",
    "# ax2.legend()\n",
    "plt.tight_layout()\n",
    "if saveFigures:\n",
    "    plt.savefig('figs/BefolkningFlokImmunitetOgVaccineret')"
   ]
  },
  {
   "source": [
    "# Show how many can potentially be infected"
   ],
   "cell_type": "markdown",
   "metadata": {}
  },
  {
   "cell_type": "code",
   "execution_count": 26,
   "metadata": {},
   "outputs": [
    {
     "output_type": "display_data",
     "data": {
      "text/plain": "Canvas(toolbar=Toolbar(toolitems=[('Home', 'Reset original view', 'home', 'home'), ('Back', 'Back to previous …",
      "application/vnd.jupyter.widget-view+json": {
       "version_major": 2,
       "version_minor": 0,
       "model_id": "c006a71481274b5ea42afa9d7d662edc"
      }
     },
     "metadata": {}
    }
   ],
   "source": [
    "fig,(ax1,ax2) = plt.subplots(2,1,sharex=True)\n",
    "\n",
    "xVals = np.arange(0,10)\n",
    "\n",
    "curWidth = 0.75\n",
    "\n",
    "ax1.bar(xVals,DK_age,label='Modtagelige',color='mediumblue')\n",
    "# ax1.bar(range(0,10),np.multiply(herdImmuList,DK_age),edgecolor='k',label='Grænse for flokimmunitet')\n",
    "for k in range(0,10):\n",
    "    ax1.plot([k-curWidth/2,k+curWidth/2],[herdCount[k],herdCount[k]],'k')\n",
    "    # ax1.plot([k-curWidth/2,k+curWidth/2],[herdCount_winter[k],herdCount_winter[k]],'darkgrey')\n",
    "\n",
    "# Plot an extra, for legend label\n",
    "ax1.plot([k-curWidth/2,k+curWidth/2],[herdCount[k],herdCount[k]],'k',label=f'Grænse for \\nflokimmunitet \\n(R0={R0:1.2f})')\n",
    "# ax1.plot([k-curWidth/2,k+curWidth/2],[herdCount_winter[k],herdCount_winter[k]],'darkgrey',label=f'Grænse for flokimmunitet \\n(R0={R0_winter:1.2f})')\n",
    "\n",
    "\n",
    "ax1.bar(xVals,missImmuCount+allImmuCount,color='darkred',label='Potentielle \\nsmittetilfælde')\n",
    "ax1.bar(xVals,allImmuCount,color='m',label='Naturlig \\nimmunitet')\n",
    "ax1.bar(xVals,vaccCount,color='g',label='Vaccineret \\n(første dosis)')\n",
    "\n",
    "# ax1.bar(xVals,missImmuFullCount+allImmuFullCount,color='darkred',label='Potentielle smittetilfælde')\n",
    "# ax1.bar(xVals,allImmuFullCount,color='m',label='Naturlig immunitet')\n",
    "ax1.bar(xVals,vaccFullCount,color='xkcd:darkgreen',label='Vaccineret \\n(færdig)')\n",
    "\n",
    "\n",
    "# curWidth = 0.4\n",
    "# ax2.bar(xVals-curWidth/2,missImmuCount,width=curWidth,color='darkred',label='Ved immunitet efter først dosis')\n",
    "# ax2.bar(xVals+curWidth/2,missImmuFullCount,width=curWidth,color='red',label='Ved immunitet efter anden dosis')\n",
    "ax2.bar(xVals,missImmuFullCount,width=curWidth,color='peru',label=f'Med første dosis \\nTotal: {fullMissImmu:,.0f}'.replace(',','.'))\n",
    "ax2.bar(xVals,missImmuCount,width=curWidth,color='darkred',label=f'Uden første dosis \\nTotal: {fullMissImmuFull:,.0f}'.replace(',','.'))\n",
    "# ax2.bar(10,fullMissImmu,color='darkred')\n",
    "\n",
    "ax1.set_xticks(xVals)\n",
    "ax1.set_xticklabels(allCols[:-1])\n",
    "\n",
    "\n",
    "# curTicks = np.append(xVals,10)\n",
    "# curTickLabels = np.append(allCols[:-1],'Total')\n",
    "# ax1.set_xticks(curTicks)\n",
    "# ax1.set_xticklabels(curTickLabels)\n",
    "\n",
    "ax1.set_xlim([-0.5,9.5])\n",
    "\n",
    "\n",
    "# ax1.legend(loc='center left',bbox_to_anchor = (1.0, 0.5))\n",
    "# ax2.legend(loc='center left',bbox_to_anchor = (1.0, 0.5))\n",
    "ax1.legend(loc='upper right')\n",
    "ax2.legend()\n",
    "\n",
    "# Period as thousands separator\n",
    "ax1.get_yaxis().set_major_formatter(\n",
    "    plt.matplotlib.ticker.FuncFormatter(lambda x, p: format(int(x), ',').replace(',','.'))\n",
    ")\n",
    "ax2.get_yaxis().set_major_formatter(\n",
    "    plt.matplotlib.ticker.FuncFormatter(lambda x, p: format(int(x), ',').replace(',','.'))\n",
    ")\n",
    "\n",
    "\n",
    "ax1.set_ylabel('Antal personer')\n",
    "ax2.set_ylabel('Potentielle smittetilfælde')\n",
    "\n",
    "\n",
    "\n",
    "plt.tight_layout()\n",
    "if saveFigures:\n",
    "    plt.savefig('figs/BefolkningModtagelige')"
   ]
  },
  {
   "cell_type": "code",
   "execution_count": 27,
   "metadata": {},
   "outputs": [
    {
     "output_type": "display_data",
     "data": {
      "text/plain": "Canvas(toolbar=Toolbar(toolitems=[('Home', 'Reset original view', 'home', 'home'), ('Back', 'Back to previous …",
      "application/vnd.jupyter.widget-view+json": {
       "version_major": 2,
       "version_minor": 0,
       "model_id": "cd603ad85a2d47b09fa1c7d360ca5f2c"
      }
     },
     "metadata": {}
    }
   ],
   "source": [
    "# Number of potential infections that will result in hospitalization\n",
    "fig,ax1 = plt.subplots(1,1,figsize=(16,8))\n",
    "\n",
    "xVals = np.arange(0,10)\n",
    "\n",
    "ratioHosp = np.multiply(finalEstimates,0.01)\n",
    "\n",
    "poteOneDose = np.multiply(missImmuFullCount,ratioHosp)\n",
    "poteNoDose = np.multiply(missImmuCount,ratioHosp)\n",
    "\n",
    "poteOneDoseTot = poteOneDose.sum()\n",
    "poteNoDoseTot = poteNoDose.sum()\n",
    "\n",
    "# ax1.bar(xVals,missImmuFullCount,width=curWidth,color='peru',label='Med første dosis')\n",
    "# ax1.bar(xVals,missImmuCount,width=curWidth,color='darkred',label='Uden første dosis')\n",
    "ax1.bar(xVals,poteOneDose,color='y',label=f'Modtaget første dosis \\nTotal: {poteOneDoseTot:,.0f}'.replace(',','.'))\n",
    "ax1.bar(xVals,poteNoDose,color='k',label=f'Uden første dosis \\nTotal: {poteNoDoseTot:,.0f}'.replace(',','.'))\n",
    "\n",
    "ax1.set_xticks(xVals)\n",
    "ax1.set_xticklabels(allCols[:-1])\n",
    "\n",
    "ax1.set_xlim([-0.5,9.5])\n",
    "\n",
    "\n",
    "# ax1.legend(loc='center left',bbox_to_anchor = (1.0, 0.5))\n",
    "ax1.legend()\n",
    "# Period as thousands separator\n",
    "ax1.get_yaxis().set_major_formatter(\n",
    "    plt.matplotlib.ticker.FuncFormatter(lambda x, p: format(int(x), ',').replace(',','.'))\n",
    ")\n",
    "\n",
    "\n",
    "ax1.set_ylabel('Potentielle hospitalindlæggelser')\n",
    "# ax2.set_ylabel('Potentielle smittetilfælde')\n",
    "\n",
    "\n",
    "\n",
    "plt.tight_layout()\n",
    "if saveFigures:\n",
    "    plt.savefig('figs/BefolkningHospitalisering')"
   ]
  },
  {
   "source": [
    "# Same as the two figures above, but for the winter threshold"
   ],
   "cell_type": "markdown",
   "metadata": {}
  },
  {
   "cell_type": "code",
   "execution_count": 28,
   "metadata": {},
   "outputs": [
    {
     "output_type": "display_data",
     "data": {
      "text/plain": "Canvas(toolbar=Toolbar(toolitems=[('Home', 'Reset original view', 'home', 'home'), ('Back', 'Back to previous …",
      "application/vnd.jupyter.widget-view+json": {
       "version_major": 2,
       "version_minor": 0,
       "model_id": "4903d865c7ca475fb098e0ca3eaf407d"
      }
     },
     "metadata": {}
    }
   ],
   "source": [
    "fig,(ax1,ax2) = plt.subplots(2,1,sharex=True)\n",
    "\n",
    "xVals = np.arange(0,10)\n",
    "\n",
    "curWidth = 0.75\n",
    "\n",
    "ax1.bar(xVals,DK_age,label='Modtagelige',color='mediumblue')\n",
    "# ax1.bar(range(0,10),np.multiply(herdImmuList,DK_age),edgecolor='k',label='Grænse for flokimmunitet')\n",
    "for k in range(0,10):\n",
    "    # ax1.plot([k-curWidth/2,k+curWidth/2],[herdCount[k],herdCount[k]],'k')\n",
    "    ax1.plot([k-curWidth/2,k+curWidth/2],[herdCount_winter[k],herdCount_winter[k]],'darkgrey')\n",
    "\n",
    "# Plot an extra, for legend label\n",
    "# ax1.plot([k-curWidth/2,k+curWidth/2],[herdCount[k],herdCount[k]],'k',label=f'Grænse for \\nflokimmunitet \\n(R0={R0:1.2f})')\n",
    "ax1.plot([k-curWidth/2,k+curWidth/2],[herdCount_winter[k],herdCount_winter[k]],'darkgrey',label=f'Grænse for \\nflokimmunitet \\n(R0={R0_winter:1.2f})')\n",
    "\n",
    "\n",
    "ax1.bar(xVals,missImmuCount_winter+allImmuCount,color='darkred',label='Potentielle \\nsmittetilfælde')\n",
    "ax1.bar(xVals,allImmuCount,color='m',label='Naturlig \\nimmunitet')\n",
    "ax1.bar(xVals,vaccCount,color='g',label='Vaccineret \\n(første dosis)')\n",
    "\n",
    "# ax1.bar(xVals,missImmuFullCount+allImmuFullCount,color='darkred',label='Potentielle smittetilfælde')\n",
    "# ax1.bar(xVals,allImmuFullCount,color='m',label='Naturlig immunitet')\n",
    "ax1.bar(xVals,vaccFullCount,color='xkcd:darkgreen',label='Vaccineret \\n(færdig)')\n",
    "\n",
    "\n",
    "# curWidth = 0.4\n",
    "# ax2.bar(xVals-curWidth/2,missImmuCount,width=curWidth,color='darkred',label='Ved immunitet efter først dosis')\n",
    "# ax2.bar(xVals+curWidth/2,missImmuFullCount,width=curWidth,color='red',label='Ved immunitet efter anden dosis')\n",
    "# ax2.bar(xVals,missImmuFullCount_winter,width=curWidth,color='peru',label='Med første dosis')\n",
    "# ax2.bar(xVals,missImmuCount_winter,width=curWidth,color='darkred',label='Uden første dosis')\n",
    "ax2.bar(xVals,missImmuFullCount_winter,width=curWidth,color='peru',label=f'Med første dosis \\nTotal: {fullMissImmu_winter:,.0f}'.replace(',','.'))\n",
    "ax2.bar(xVals,missImmuCount_winter,width=curWidth,color='darkred',label=f'Uden første dosis \\nTotal: {fullMissImmuFull_winter:,.0f}'.replace(',','.'))\n",
    "# ax2.bar(10,fullMissImmu,color='darkred')\n",
    "\n",
    "ax1.set_xticks(xVals)\n",
    "ax1.set_xticklabels(allCols[:-1])\n",
    "\n",
    "\n",
    "# curTicks = np.append(xVals,10)\n",
    "# curTickLabels = np.append(allCols[:-1],'Total')\n",
    "# ax1.set_xticks(curTicks)\n",
    "# ax1.set_xticklabels(curTickLabels)\n",
    "\n",
    "ax1.set_xlim([-0.5,9.5])\n",
    "\n",
    "\n",
    "# ax1.legend(loc='center left',bbox_to_anchor = (1.0, 0.5))\n",
    "# ax2.legend(loc='center left',bbox_to_anchor = (1.0, 0.5))\n",
    "ax1.legend(loc='upper right')\n",
    "ax2.legend()\n",
    "\n",
    "# Period as thousands separator\n",
    "ax1.get_yaxis().set_major_formatter(\n",
    "    plt.matplotlib.ticker.FuncFormatter(lambda x, p: format(int(x), ',').replace(',','.'))\n",
    ")\n",
    "ax2.get_yaxis().set_major_formatter(\n",
    "    plt.matplotlib.ticker.FuncFormatter(lambda x, p: format(int(x), ',').replace(',','.'))\n",
    ")\n",
    "\n",
    "\n",
    "ax1.set_ylabel('Antal personer')\n",
    "ax2.set_ylabel('Potentielle smittetilfælde')\n",
    "\n",
    "\n",
    "\n",
    "plt.tight_layout()\n",
    "if saveFigures:\n",
    "    plt.savefig('figs/BefolkningModtagelige_winter')"
   ]
  },
  {
   "cell_type": "code",
   "execution_count": 29,
   "metadata": {},
   "outputs": [
    {
     "output_type": "display_data",
     "data": {
      "text/plain": "Canvas(toolbar=Toolbar(toolitems=[('Home', 'Reset original view', 'home', 'home'), ('Back', 'Back to previous …",
      "application/vnd.jupyter.widget-view+json": {
       "version_major": 2,
       "version_minor": 0,
       "model_id": "7ca7198e35734687afe72f0ed4a5e205"
      }
     },
     "metadata": {}
    }
   ],
   "source": [
    "# Number of potential infections that will result in hospitalization\n",
    "fig,ax1 = plt.subplots(1,1,figsize=(16,8))\n",
    "\n",
    "xVals = np.arange(0,10)\n",
    "\n",
    "ratioHosp = np.multiply(finalEstimates,0.01)\n",
    "\n",
    "poteOneDose_winter = np.multiply(missImmuFullCount_winter,ratioHosp)\n",
    "poteNoDose_winter = np.multiply(missImmuCount_winter,ratioHosp)\n",
    "\n",
    "poteOneDoseTot_winter = poteOneDose_winter.sum()\n",
    "poteNoDoseTot_winter = poteNoDose_winter.sum()\n",
    "\n",
    "\n",
    "# ax1.bar(xVals,missImmuFullCount_winter,color='peru',label='Med første dosis')\n",
    "# ax1.bar(xVals,missImmuCount_winter,color='darkred',label='Uden første dosis')\n",
    "ax1.bar(xVals,poteOneDose_winter,color='y',label=f'Modtaget første dosis \\nTotal: {poteOneDoseTot_winter:,.0f}'.replace(',','.'))\n",
    "ax1.bar(xVals,poteNoDose_winter,color='k',label=f'Uden første dosis \\nTotal: {poteNoDoseTot_winter:,.0f}'.replace(',','.'))\n",
    "\n",
    "ax1.set_xticks(xVals)\n",
    "ax1.set_xticklabels(allCols[:-1])\n",
    "\n",
    "ax1.set_xlim([-0.5,9.5])\n",
    "\n",
    "\n",
    "# ax1.legend(loc='center left',bbox_to_anchor = (1.0, 0.5))\n",
    "ax1.legend()\n",
    "# Period as thousands separator\n",
    "ax1.get_yaxis().set_major_formatter(\n",
    "    plt.matplotlib.ticker.FuncFormatter(lambda x, p: format(int(x), ',').replace(',','.'))\n",
    ")\n",
    "\n",
    "ax1.set_ylabel('Potentielle hospitalindlæggelser')\n",
    "\n",
    "\n",
    "plt.tight_layout()\n",
    "if saveFigures:\n",
    "    plt.savefig('figs/BefolkningHospitalisering_winter')"
   ]
  },
  {
   "source": [
    "# Total antal indlæggelser indtil nu"
   ],
   "cell_type": "markdown",
   "metadata": {}
  },
  {
   "cell_type": "code",
   "execution_count": 30,
   "metadata": {},
   "outputs": [
    {
     "output_type": "execute_result",
     "data": {
      "text/plain": [
       "Aldersgruppe  0-9 10-19 20-29 30-39 40-49 50-59 60-69 70-79 80-89  90+  I alt\n",
       "13_04_2021    182   185   593   899  1336  2112  2170  3099  2519  695  13790\n",
       "20_04_2021    191   189   616   931  1373  2156  2209  3142  2531  697  14035\n",
       "27_04_2021    196   194   634   961  1405  2202  2243  3166  2540  699  14240\n",
       "04_05_2021    197   199   647   993  1440  2252  2283  3190  2547  702  14450\n",
       "11_05_2021    206   209   675  1034  1483  2321  2331  3207  2559  704  14729"
      ],
      "text/html": "<div>\n<style scoped>\n    .dataframe tbody tr th:only-of-type {\n        vertical-align: middle;\n    }\n\n    .dataframe tbody tr th {\n        vertical-align: top;\n    }\n\n    .dataframe thead th {\n        text-align: right;\n    }\n</style>\n<table border=\"1\" class=\"dataframe\">\n  <thead>\n    <tr style=\"text-align: right;\">\n      <th>Aldersgruppe</th>\n      <th>0-9</th>\n      <th>10-19</th>\n      <th>20-29</th>\n      <th>30-39</th>\n      <th>40-49</th>\n      <th>50-59</th>\n      <th>60-69</th>\n      <th>70-79</th>\n      <th>80-89</th>\n      <th>90+</th>\n      <th>I alt</th>\n    </tr>\n  </thead>\n  <tbody>\n    <tr>\n      <th>13_04_2021</th>\n      <td>182</td>\n      <td>185</td>\n      <td>593</td>\n      <td>899</td>\n      <td>1336</td>\n      <td>2112</td>\n      <td>2170</td>\n      <td>3099</td>\n      <td>2519</td>\n      <td>695</td>\n      <td>13790</td>\n    </tr>\n    <tr>\n      <th>20_04_2021</th>\n      <td>191</td>\n      <td>189</td>\n      <td>616</td>\n      <td>931</td>\n      <td>1373</td>\n      <td>2156</td>\n      <td>2209</td>\n      <td>3142</td>\n      <td>2531</td>\n      <td>697</td>\n      <td>14035</td>\n    </tr>\n    <tr>\n      <th>27_04_2021</th>\n      <td>196</td>\n      <td>194</td>\n      <td>634</td>\n      <td>961</td>\n      <td>1405</td>\n      <td>2202</td>\n      <td>2243</td>\n      <td>3166</td>\n      <td>2540</td>\n      <td>699</td>\n      <td>14240</td>\n    </tr>\n    <tr>\n      <th>04_05_2021</th>\n      <td>197</td>\n      <td>199</td>\n      <td>647</td>\n      <td>993</td>\n      <td>1440</td>\n      <td>2252</td>\n      <td>2283</td>\n      <td>3190</td>\n      <td>2547</td>\n      <td>702</td>\n      <td>14450</td>\n    </tr>\n    <tr>\n      <th>11_05_2021</th>\n      <td>206</td>\n      <td>209</td>\n      <td>675</td>\n      <td>1034</td>\n      <td>1483</td>\n      <td>2321</td>\n      <td>2331</td>\n      <td>3207</td>\n      <td>2559</td>\n      <td>704</td>\n      <td>14729</td>\n    </tr>\n  </tbody>\n</table>\n</div>"
     },
     "metadata": {},
     "execution_count": 30
    }
   ],
   "source": [
    "dfAdm.tail()"
   ]
  },
  {
   "cell_type": "code",
   "execution_count": 31,
   "metadata": {},
   "outputs": [
    {
     "output_type": "display_data",
     "data": {
      "text/plain": "Canvas(toolbar=Toolbar(toolitems=[('Home', 'Reset original view', 'home', 'home'), ('Back', 'Back to previous …",
      "application/vnd.jupyter.widget-view+json": {
       "version_major": 2,
       "version_minor": 0,
       "model_id": "b7f97b3f426d44eebfe6cbfc6609fae8"
      }
     },
     "metadata": {}
    }
   ],
   "source": [
    "# Number of potential infections that will result in hospitalization\n",
    "fig,ax1 = plt.subplots(1,1,figsize=(16,8))\n",
    "\n",
    "xVals = np.arange(0,10)\n",
    "\n",
    "ratioHosp = np.multiply(finalEstimates,0.01)\n",
    "\n",
    "poteOneDose = np.multiply(missImmuFullCount,ratioHosp)\n",
    "poteNoDose = np.multiply(missImmuCount,ratioHosp)\n",
    "\n",
    "poteOneDoseTot = poteOneDose.sum()\n",
    "poteNoDoseTot = poteNoDose.sum()\n",
    "\n",
    "# ax1.bar(xVals,missImmuFullCount,width=curWidth,color='peru',label='Med første dosis')\n",
    "# ax1.bar(xVals,missImmuCount,width=curWidth,color='darkred',label='Uden første dosis')\n",
    "\n",
    "curWidth = 0.3\n",
    "ax1.bar(xVals,poteOneDose,width=curWidth,color='y',label=f'Modtaget første dosis \\nTotal: {poteOneDoseTot:,.0f}'.replace(',','.'))\n",
    "ax1.bar(xVals+curWidth,poteNoDose,width=curWidth,color='k',label=f'Uden første dosis \\nTotal: {poteNoDoseTot:,.0f}'.replace(',','.'))\n",
    "\n",
    "admSoFar = dfAdm.iloc[-1,:-1]\n",
    "admSoFarTotal = admSoFar.sum()\n",
    "curDateToShow = curDates[-1].strftime('%d. %b')\n",
    "ax1.bar(xVals-curWidth,admSoFar,width=curWidth,color='darkblue',label=f'Sum af indlæggelser per {curDateToShow}\\nTotal: {admSoFarTotal:,.0f}'.replace(',','.'))\n",
    "\n",
    "ax1.set_xticks(xVals)\n",
    "ax1.set_xticklabels(allCols[:-1])\n",
    "\n",
    "ax1.set_xlim([-0.5,9.5])\n",
    "\n",
    "\n",
    "# ax1.legend(loc='center left',bbox_to_anchor = (1.0, 0.5))\n",
    "ax1.legend()\n",
    "# Period as thousands separator\n",
    "ax1.get_yaxis().set_major_formatter(\n",
    "    plt.matplotlib.ticker.FuncFormatter(lambda x, p: format(int(x), ',').replace(',','.'))\n",
    ")\n",
    "\n",
    "\n",
    "ax1.set_ylabel('Potentielle hospitalindlæggelser')\n",
    "# ax2.set_ylabel('Potentielle smittetilfælde')\n",
    "\n",
    "\n",
    "\n",
    "plt.tight_layout()\n",
    "if saveFigures:\n",
    "    plt.savefig('figs/BefolkningHospitalisering_MedFaktiskeTal')"
   ]
  },
  {
   "cell_type": "code",
   "execution_count": 32,
   "metadata": {},
   "outputs": [
    {
     "output_type": "display_data",
     "data": {
      "text/plain": "Canvas(toolbar=Toolbar(toolitems=[('Home', 'Reset original view', 'home', 'home'), ('Back', 'Back to previous …",
      "application/vnd.jupyter.widget-view+json": {
       "version_major": 2,
       "version_minor": 0,
       "model_id": "eaa8595bd64a4b219a64d53e38f38f39"
      }
     },
     "metadata": {}
    }
   ],
   "source": [
    "# Positiv vinkel: Hvor mange smittede/indlæggelser ville ren flokimmunitet have krævet, og hvor mange har vi undgået takket være vaccination (og nedlukning mens vi ventede på vaccinerne)\n",
    "fig,(ax1,ax2) = plt.subplots(2,1,sharex=True)\n",
    "\n",
    "totAdmission = np.multiply(herdCount,ratioHosp)\n",
    "totCase = dfCase.iloc[-1,:-1]\n",
    "\n",
    "curWidth = 0.4\n",
    "\n",
    "ax1.bar(xVals-curWidth/2,herdCount,width=curWidth,color='k',label='Smittetilfælde for flokimmunitet')\n",
    "ax1.bar(xVals-curWidth/2,totAdmission,width=curWidth,color='m',label='Heraf indlæggelser')\n",
    "ax1.bar(xVals+curWidth/2,herdCount,width=curWidth,color='grey',label='Potentielle smittetilfælde')\n",
    "ax1.bar(xVals+curWidth/2,vaccCount,width=curWidth,color='green',label='Vaccinerede (første dosis)')\n",
    "ax1.bar(xVals+curWidth/2,vaccFullCount,width=curWidth,color='darkgreen',label='Vaccinerede (færdig)')\n",
    "ax1.bar(xVals+curWidth/2,totCase,width=curWidth,color='darkred',label='Smittetilfælde, faktiske')\n",
    "ax1.bar(xVals+curWidth/2,admSoFar,width=curWidth,color='darkblue',label='Heraf indlæggelser, faktiske')\n",
    "#,label=f'Sum af indlæggelser per {curDateToShow}\\nTotal: {admSoFarTotal:,.0f}'.replace(',','.'))\n",
    "# ax2.bar(xVals,herdRatio)\n",
    "\n",
    "ax2.bar(xVals-curWidth/2,np.divide(herdCount,herdCount),width=curWidth,color='k',label='Smittetilfælde, flokimmunitet')\n",
    "ax2.bar(xVals-curWidth/2,np.divide(totAdmission,herdCount),width=curWidth,color='m',label='Heraf indlæggelser, flokimmunitet')\n",
    "ax2.bar(xVals+curWidth/2,np.divide(herdCount,herdCount),width=curWidth,color='grey',label='Potentielle smittetilfælde')\n",
    "ax2.bar(xVals+curWidth/2,np.divide(vaccCount,herdCount),width=curWidth,color='green',label='Vaccinerede (første dosis)')\n",
    "ax2.bar(xVals+curWidth/2,np.divide(vaccFullCount,herdCount),width=curWidth,color='darkgreen',label='Vaccinerede (færdig)')\n",
    "ax2.bar(xVals+curWidth/2,np.divide(totCase,herdCount),width=curWidth,color='darkred',label='Smittetilfælde, faktiske')\n",
    "ax2.bar(xVals+curWidth/2,np.divide(admSoFar,herdCount),width=curWidth,color='darkblue',label='Heraf indlæggelser, faktiske')\n",
    "\n",
    "# ax1.set_xlim([-0.5,9.5])\n",
    "\n",
    "ax2.set_ylim([0,1])\n",
    "\n",
    "ax1.legend(loc='center left',bbox_to_anchor = (1.0, 0.5))\n",
    "ax2.legend(loc='center left',bbox_to_anchor = (1.0, 0.5))\n",
    "# ax1.legend(loc='upper right')\n",
    "# ax2.legend()\n",
    "\n",
    "ax1.set_xticks(xVals)\n",
    "ax1.set_xticklabels(allCols[:-1])\n",
    "\n",
    "\n",
    "# Period as thousands separator\n",
    "ax1.get_yaxis().set_major_formatter(\n",
    "    plt.matplotlib.ticker.FuncFormatter(lambda x, p: format(int(x), ',').replace(',','.'))\n",
    ")\n",
    "# ax2.get_yaxis().set_major_formatter(\n",
    "#     plt.matplotlib.ticker.FuncFormatter(lambda x, p: format(int(x), ',').replace(',','.'))\n",
    "# )\n",
    "\n",
    "\n",
    "# ax1.set_ylabel('Antal personer')\n",
    "# ax2.set_ylabel('Potentielle smittetilfælde')\n",
    "\n",
    "plt.tight_layout()\n",
    "# if saveFigures:\n",
    "#     plt.savefig('figs/BefolkningModtagelige')"
   ]
  },
  {
   "cell_type": "code",
   "execution_count": 33,
   "metadata": {},
   "outputs": [
    {
     "output_type": "display_data",
     "data": {
      "text/plain": "Canvas(toolbar=Toolbar(toolitems=[('Home', 'Reset original view', 'home', 'home'), ('Back', 'Back to previous …",
      "application/vnd.jupyter.widget-view+json": {
       "version_major": 2,
       "version_minor": 0,
       "model_id": "cc3c96edc425438e871210f2283cf5df"
      }
     },
     "metadata": {}
    }
   ],
   "source": [
    "# Positiv vinkel: Hvor mange smittede/indlæggelser ville ren flokimmunitet have krævet, og hvor mange har vi undgået takket være vaccination (og nedlukning mens vi ventede på vaccinerne)\n",
    "fig,(ax1,ax2) = plt.subplots(2,1,sharex=True)\n",
    "\n",
    "totAdmission = np.multiply(herdCount,ratioHosp)\n",
    "totCase = dfCase.iloc[-1,:-1]\n",
    "\n",
    "caseAvoid = allImmuCount\n",
    "caseLeft = herdCount - caseAvoid\n",
    "\n",
    "curWidth = 0.4\n",
    "\n",
    "# ax1.bar(xVals,missImmuCount+allImmuCount,color='darkred',label='Potentielle \\nsmittetilfælde')\n",
    "# ax1.bar(xVals,allImmuCount,color='m',label='Naturlig \\nimmunitet')\n",
    "# ax1.bar(xVals,vaccCount,color='g',label='Vaccineret \\n(første dosis)')\n",
    "# ax1.bar(xVals,vaccFullCount,color='xkcd:darkgreen',label='Vaccineret \\n(færdig)')\n",
    "\n",
    "\n",
    "ax1.bar(xVals-curWidth/2,herdCount,width=curWidth,color='k',label='Smittetilfælde, flokimmunitet')\n",
    "# ax1.bar(xVals-curWidth/2,totAdmission,width=curWidth,color='r',label='Heraf indlæggelser')\n",
    "ax1.bar(xVals-curWidth/2,immuCount,width=curWidth,color='m',label='Smittetilfælde, fra bloddonor')\n",
    "ax1.bar(xVals-curWidth/2,totCase,width=curWidth,color='darkred',label='Smittetilfælde, bekræftede')\n",
    "ax1.bar(xVals+curWidth/2,herdCount,width=curWidth,color='grey',label='Potentielle smittetilfælde',zorder=-1)\n",
    "ax1.bar(xVals+curWidth/2,allImmuCount,width=curWidth,color='darkblue',label='Naturlig immunitet')\n",
    "ax1.bar(xVals+curWidth/2,vaccCount,width=curWidth,color='green',label='Vaccinerede (første dosis)')\n",
    "ax1.bar(xVals+curWidth/2,vaccFullCount,width=curWidth,color='darkgreen',label='Vaccinerede (færdig)')\n",
    "# ax1.bar(xVals+curWidth/2,admSoFar,width=curWidth,color='darkblue',label='Indlæggelser, faktiske')\n",
    "\n",
    "# ax1.bar(xVals-curWidth/2,totAdmission,width=curWidth,color='m',label='Heraf indlæggelser')\n",
    "# ax1.bar(xVals+curWidth/2,herdCount,width=curWidth,color='grey',label='Potentielle smittetilfælde')\n",
    "# ax1.bar(xVals+curWidth/2,vaccCount,width=curWidth,color='green',label='Vaccinerede (første dosis)')\n",
    "# ax1.bar(xVals+curWidth/2,vaccFullCount,width=curWidth,color='darkgreen',label='Vaccinerede (færdig)')\n",
    "# ax1.bar(xVals+curWidth/2,admSoFar,width=curWidth,color='darkblue',label='Heraf indlæggelser, faktiske')\n",
    "#,label=f'Sum af indlæggelser per {curDateToShow}\\nTotal: {admSoFarTotal:,.0f}'.replace(',','.'))\n",
    "# ax2.bar(xVals,herdRatio)\n",
    "\n",
    "\n",
    "ax2.bar(xVals-curWidth/2,100 * np.divide(herdCount,herdCount),width=curWidth,color='k',label='Smittetilfælde, flokimmunitet')\n",
    "ax2.bar(xVals-curWidth/2,100 * np.divide(immuCount,herdCount),width=curWidth,color='m',label='Smittetilfælde, fra bloddonor')\n",
    "ax2.bar(xVals-curWidth/2,100 * np.divide(totCase,herdCount),width=curWidth,color='darkred',label='Smittetilfælde, bekræftede')\n",
    "ax2.bar(xVals+curWidth/2,100 * np.divide(herdCount,herdCount),width=curWidth,color='grey',label='Potentielle smittetilfælde',zorder=-1)\n",
    "ax2.bar(xVals+curWidth/2,100 * np.divide(allImmuCount,herdCount),width=curWidth,color='darkblue',label='Naturlig immunitet')\n",
    "ax2.bar(xVals+curWidth/2,100 * np.divide(vaccCount,herdCount),width=curWidth,color='green',label='Vaccinerede (første dosis)')\n",
    "ax2.bar(xVals+curWidth/2,100 * np.divide(vaccFullCount,herdCount),width=curWidth,color='darkgreen',label='Vaccinerede (færdig)')\n",
    "\n",
    "# ax2.bar(xVals-curWidth/2,np.divide(herdCount,herdCount),width=curWidth,color='k',label='Smittetilfælde, flokimmunitet')\n",
    "# ax2.bar(xVals-curWidth/2,np.divide(totCase,herdCount),width=curWidth,color='darkred',label='Smittetilfælde, faktiske')\n",
    "# # ax2.bar(xVals-curWidth/2,np.divide(totAdmission,herdCount),width=curWidth,color='m',label='Heraf indlæggelser, flokimmunitet')\n",
    "# ax2.bar(xVals+curWidth/2,np.divide(herdCount,herdCount),width=curWidth,color='grey',label='Potentielle smittetilfælde')\n",
    "# ax2.bar(xVals+curWidth/2,np.divide(vaccCount,herdCount),width=curWidth,color='green',label='Vaccinerede (første dosis)')\n",
    "# ax2.bar(xVals+curWidth/2,np.divide(vaccFullCount,herdCount),width=curWidth,color='darkgreen',label='Vaccinerede (færdig)')\n",
    "# # ax2.bar(xVals+curWidth/2,np.divide(admSoFar,herdCount),width=curWidth,color='darkblue',label='Heraf indlæggelser, faktiske')\n",
    "\n",
    "# ax1.set_xlim([-0.5,9.5])\n",
    "\n",
    " \n",
    "for k in xVals:\n",
    "    curLeft = caseLeft[k]\n",
    "    if curLeft > 0:\n",
    "        curStr = f'{curLeft:,.0f}'.replace(',','.')\n",
    "        # print(curStr)\n",
    "        ax1.text(k+curWidth/2,herdCount[k]+10000,curStr,va='bottom',ha='center',rotation=90,color='grey')\n",
    "\n",
    "\n",
    "ax2.set_ylim([0,100])\n",
    "\n",
    "ax1.legend(loc='center left',bbox_to_anchor = (1.0, 0.5))\n",
    "ax2.legend(loc='center left',bbox_to_anchor = (1.0, 0.5))\n",
    "# ax1.legend(loc='upper right')\n",
    "# ax2.legend()\n",
    "\n",
    "ax1.set_xticks(xVals)\n",
    "ax1.set_xticklabels(allCols[:-1])\n",
    "\n",
    "\n",
    "# Period as thousands separator\n",
    "ax1.get_yaxis().set_major_formatter(\n",
    "    plt.matplotlib.ticker.FuncFormatter(lambda x, p: format(int(x), ',').replace(',','.'))\n",
    ")\n",
    "# ax2.get_yaxis().set_major_formatter(\n",
    "#     plt.matplotlib.ticker.FuncFormatter(lambda x, p: format(int(x), ',').replace(',','.'))\n",
    "# )\n",
    "\n",
    "\n",
    "ax1.set_ylabel('Antal personer')\n",
    "ax2.set_ylabel('Ud af smittetilfælde \\nforventet for flokimmunitet [%]')\n",
    "\n",
    "plt.tight_layout()\n",
    "if saveFigures:\n",
    "    plt.savefig('figs/BefolkningAvoidedCases')"
   ]
  },
  {
   "cell_type": "code",
   "execution_count": 34,
   "metadata": {},
   "outputs": [
    {
     "output_type": "display_data",
     "data": {
      "text/plain": "Canvas(toolbar=Toolbar(toolitems=[('Home', 'Reset original view', 'home', 'home'), ('Back', 'Back to previous …",
      "application/vnd.jupyter.widget-view+json": {
       "version_major": 2,
       "version_minor": 0,
       "model_id": "5ffcb931ccf44cd09af3ec731e2ab31d"
      }
     },
     "metadata": {}
    }
   ],
   "source": [
    "# Positiv vinkel: Hvor mange indlæggelser ville ren flokimmunitet have krævet, og hvor mange har vi undgået takket være vaccination (og nedlukning mens vi ventede på vaccinerne)\n",
    "fig,(ax1,ax2) = plt.subplots(2,1,sharex=True)\n",
    "\n",
    "totAdmission = np.multiply(herdCount,ratioHosp)\n",
    "totCase = dfCase.iloc[-1,:-1]\n",
    "\n",
    "admAvoid = np.multiply(allImmuCount,ratioHosp)\n",
    "admLeft = totAdmission - admAvoid\n",
    "\n",
    "curWidth = 0.4\n",
    "\n",
    "\n",
    "ax1.bar(xVals-curWidth/2,totAdmission,width=curWidth,color='k',label='Indlæggelser, flokimmunitet')\n",
    "ax1.bar(xVals-curWidth/2,admSoFar,width=curWidth,color='darkred',label='Indlæggelser, faktiske')\n",
    "ax1.bar(xVals+curWidth/2,np.multiply(allImmuCount,ratioHosp),width=curWidth,color='darkblue',label='Naturlig immunitet')\n",
    "ax1.bar(xVals+curWidth/2,np.multiply(vaccCount,ratioHosp),width=curWidth,color='green',label='Vaccinerede (første dosis)')\n",
    "ax1.bar(xVals+curWidth/2,np.multiply(vaccFullCount,ratioHosp),width=curWidth,color='darkgreen',label='Vaccinerede (færdig)')\n",
    "ax1.bar(xVals+curWidth/2,totAdmission,width=curWidth,color='grey',label='Potentielle indlæggelser',zorder=-1)\n",
    "\n",
    "\n",
    "for k in xVals:\n",
    "    curLeft = admLeft[k]\n",
    "    if curLeft > 0:\n",
    "        curStr = f'{curLeft:,.0f}'.replace(',','.')\n",
    "        # print(curStr)\n",
    "        ax1.text(k+curWidth/2,totAdmission[k]+1000,curStr,va='bottom',ha='center',rotation=90,color='grey')\n",
    "\n",
    "\n",
    "ax2.bar(xVals-curWidth/2,100 * np.divide(totAdmission,totAdmission),width=curWidth,color='k',label='Indlæggelser, flokimmunitet')\n",
    "ax2.bar(xVals-curWidth/2,100 * np.divide(admSoFar,totAdmission),width=curWidth,color='darkred',label='Indlæggelser, faktiske')\n",
    "ax2.bar(xVals+curWidth/2,100 * np.divide(np.multiply(allImmuCount,ratioHosp),totAdmission),width=curWidth,color='darkblue',label='Naturlig immunitet')\n",
    "ax2.bar(xVals+curWidth/2,100 * np.divide(np.multiply(vaccCount,ratioHosp),totAdmission),width=curWidth,color='green',label='Vaccinerede (første dosis)')\n",
    "ax2.bar(xVals+curWidth/2,100 * np.divide(np.multiply(vaccFullCount,ratioHosp),totAdmission),width=curWidth,color='darkgreen',label='Vaccinerede (færdig)')\n",
    "ax2.bar(xVals+curWidth/2,100 * np.divide(totAdmission,totAdmission),width=curWidth,color='grey',label='Potentielle indlæggelser',zorder=-1)\n",
    "\n",
    "\n",
    "\n",
    "ax1.set_ylim(top=max(totAdmission)*1.1)\n",
    "ax2.set_ylim([0,100])\n",
    "\n",
    "ax1.legend(loc='center left',bbox_to_anchor = (1.0, 0.5))\n",
    "ax2.legend(loc='center left',bbox_to_anchor = (1.0, 0.5))\n",
    "\n",
    "ax1.set_xticks(xVals)\n",
    "ax1.set_xticklabels(allCols[:-1])\n",
    "\n",
    "\n",
    "# Period as thousands separator\n",
    "ax1.get_yaxis().set_major_formatter(\n",
    "    plt.matplotlib.ticker.FuncFormatter(lambda x, p: format(int(x), ',').replace(',','.'))\n",
    ")\n",
    "\n",
    "\n",
    "ax1.set_ylabel('Antal personer')\n",
    "ax2.set_ylabel('Ud af indlæggelser \\nforventet for flokimmunitet [%]')\n",
    "\n",
    "plt.tight_layout()\n",
    "if saveFigures:\n",
    "    plt.savefig('figs/BefolkningAvoidedAdmissions')"
   ]
  },
  {
   "cell_type": "code",
   "execution_count": 49,
   "metadata": {},
   "outputs": [
    {
     "output_type": "stream",
     "name": "stderr",
     "text": [
      "<ipython-input-49-945da099a0a5>:41: RuntimeWarning: More than 20 figures have been opened. Figures created through the pyplot interface (`matplotlib.pyplot.figure`) are retained until explicitly closed and may consume too much memory. (To control this warning, see the rcParam `figure.max_open_warning`).\n  fig,ax2 = plt.subplots(1,1,figsize=(16,8))\n"
     ]
    },
    {
     "output_type": "display_data",
     "data": {
      "text/plain": "Canvas(toolbar=Toolbar(toolitems=[('Home', 'Reset original view', 'home', 'home'), ('Back', 'Back to previous …",
      "application/vnd.jupyter.widget-view+json": {
       "version_major": 2,
       "version_minor": 0,
       "model_id": "9ddbe3acb7d34ee48a75a13bf6977c61"
      }
     },
     "metadata": {}
    }
   ],
   "source": [
    "vaccOnceCount = vaccCount - vaccFullCount\n",
    "vaccOnceCount\n",
    "\n",
    "# Calculate how many have not been vaccinated fully\n",
    "nonVaccFull = herdCount - vaccFullCount\n",
    "nonVaccFull[nonVaccFull < 0] = 0\n",
    "\n",
    "vaccFullShow = herdCount - nonVaccFull \n",
    "\n",
    "# Calculate how many have not been vaccinated at all\n",
    "nonVaccOnce = nonVaccFull - vaccOnceCount\n",
    "nonVaccOnce[nonVaccOnce < 0] = 0\n",
    "\n",
    "vaccOnceShow = herdCount - vaccFullShow - nonVaccOnce\n",
    "\n",
    "# Calculate how many have neither been vaccinated or naturally immunized\n",
    "natImmuCount = allImmuCount - vaccCount\n",
    "nonImmu = nonVaccOnce - natImmuCount\n",
    "nonImmu[nonImmu < 0] = 0\n",
    "\n",
    "natImmuShow = herdCount - vaccFullShow - vaccOnceShow - nonImmu\n",
    "\n",
    "# Calculate how many are left\n",
    "missShow = herdCount - vaccFullShow - vaccOnceShow - natImmuShow\n",
    "\n",
    "\n",
    "# fig,ax1 = plt.subplots(1,1)\n",
    "# fig,(ax1,ax2) = plt.subplots(2,1,sharex=True)\n",
    "\n",
    "# ax1.bar(xVals,vaccFullShow,color='darkgreen')\n",
    "# ax1.bar(xVals,vaccOnceShow,bottom=vaccFullShow,color='green')\n",
    "# ax1.bar(xVals,natImmuShow,bottom=(vaccFullShow+vaccOnceShow),color='m')\n",
    "# ax1.bar(xVals,missShow,bottom=(vaccFullShow+vaccOnceShow+natImmuShow),color='grey')\n",
    "# ax1.bar(xVals,herdCount,color='none',edgecolor='k')\n",
    "\n",
    "# ax2.bar(xVals,100 * np.divide(vaccFullShow,herdCount),color='darkgreen')\n",
    "# ax2.bar(xVals,100 * np.divide(vaccOnceShow,herdCount),bottom=100 * np.divide(vaccFullShow,herdCount),color='green')\n",
    "# ax2.bar(xVals,100 * np.divide(natImmuShow,herdCount),bottom=100 * np.divide((vaccFullShow+vaccOnceShow),herdCount),color='m')\n",
    "# ax2.bar(xVals,100 * np.divide(missShow,herdCount),bottom=100 * np.divide((vaccFullShow+vaccOnceShow+natImmuShow),herdCount),color='grey')\n",
    "\n",
    "fig,ax2 = plt.subplots(1,1,figsize=(16,8))\n",
    "\n",
    "ax2.bar(xVals,100 * np.divide(vaccFullShow,herdCount),color='darkgreen',label='Vaccineret (færdig)')\n",
    "ax2.bar(xVals,100 * np.divide(vaccOnceShow,herdCount),bottom=100 * np.divide(vaccFullShow,herdCount),color='green',label='Vaccineret (første dosis)')\n",
    "ax2.bar(xVals,100 * np.divide(natImmuShow,herdCount),bottom=100 * np.divide((vaccFullShow+vaccOnceShow),herdCount),color='m',label='Naturlig immunitet')\n",
    "ax2.bar(xVals,100 * np.divide(missShow,herdCount),bottom=100 * np.divide((vaccFullShow+vaccOnceShow+natImmuShow),herdCount),color='grey',label='Flokimmunitet')\n",
    "\n",
    "ax2.legend(loc='center left',bbox_to_anchor = (1.0, 0.5))\n",
    "\n",
    "\n",
    "ax2.set_xticks(xVals)\n",
    "ax2.set_xticklabels(allCols[:-1])\n",
    "\n",
    "ax2.set_ylabel('Potentielle smittetilfælde \\nfør flokimmunitet opnåes [%] ')\n",
    "\n",
    "plt.tight_layout()"
   ]
  },
  {
   "cell_type": "code",
   "execution_count": 36,
   "metadata": {},
   "outputs": [
    {
     "output_type": "display_data",
     "data": {
      "text/plain": "Canvas(toolbar=Toolbar(toolitems=[('Home', 'Reset original view', 'home', 'home'), ('Back', 'Back to previous …",
      "application/vnd.jupyter.widget-view+json": {
       "version_major": 2,
       "version_minor": 0,
       "model_id": "2c31b14a2aa148b698cb5e1074e9822a"
      }
     },
     "metadata": {}
    },
    {
     "output_type": "stream",
     "name": "stderr",
     "text": [
      "<ipython-input-36-f55dc804d11c>:17: MatplotlibDeprecationWarning: normalize=None does not normalize if the sum is less than 1 but this behavior is deprecated since 3.3 until two minor releases later. After the deprecation period the default value will be normalize=True. To prevent normalization pass normalize=False \n  curAx.pie([])\n"
     ]
    }
   ],
   "source": [
    "# Pie chart\n",
    "# fig,allAxes = plt.subplots(5,2)\n",
    "fig,allAxes = plt.subplots(4,3)\n",
    "# fig,allAxes = plt.subplots(10,1)\n",
    "\n",
    "\n",
    "# plt.figure()\n",
    "\n",
    "k = 0\n",
    "# for k in range(0,len(allAxes)):\n",
    "    # curAx = allAxes[k]\n",
    "\n",
    "curLabels = ['Vaccineret (færdig)','Vaccineret (første dosis)','Naturlig immunitet','Potentielle smittetilfælde']\n",
    "    \n",
    "for curAx in allAxes.flatten():\n",
    "    if (k >= 10):\n",
    "        curAx.pie([])\n",
    "        continue\n",
    "\n",
    "    curVals = [vaccFullShow[k],vaccOnceShow[k],natImmuShow[k],missShow[k]]\n",
    "    # curVals = np.divide([vaccFullShow[k],vaccOnceShow[k],natImmuShow[k],missShow[k]],herdCount[k])\n",
    "    # curVals[curVals == 0] = np.nan\n",
    "    # curVals = [np.nan if x==0 else x for x in curVals]\n",
    "    # curAx.pie(curVals,colors=['darkgreen','green','m','grey'],labels=curLabels, autopct='%1.1f%%')\n",
    "    curAx.pie(curVals,colors=['darkgreen','green','blue','grey'], explode = (0.1,0.1,0.1,0.1),autopct='%1.0f%%',shadow=True,textprops={'fontsize':16,'color':'white'})\n",
    "\n",
    "    curAx.set_title(allCols[k])\n",
    "\n",
    "    k += 1\n",
    "\n",
    "allAxes.flatten()[-3].legend(['Vaccineret (færdigt)','Vaccineret (første dosis)','Naturlig immunitet','Potentielle smittetilfælde'],loc='center left',bbox_to_anchor = (1.0, 0.5))\n",
    "\n",
    "plt.tight_layout()\n",
    "# k = 4\n",
    "# curVals = [vaccFullShow[k],vaccOnceShow[k],natImmuShow[k],missShow[k]]\n",
    "# plt.pie(curVals)\n",
    "# plt.show()\n",
    "\n",
    "if saveFigures:\n",
    "    plt.savefig('figs/BefolkningPieChart')"
   ]
  },
  {
   "source": [
    "# OLD"
   ],
   "cell_type": "markdown",
   "metadata": {}
  },
  {
   "cell_type": "code",
   "execution_count": 37,
   "metadata": {},
   "outputs": [],
   "source": [
    "# # Pie chart\n",
    "# fig,ax1 = plt.subplots(1,1)\n",
    "\n",
    "# caseLeft = herdCount - allImmuCount\n",
    "# caseLeft[caseLeft < 0] = 0\n",
    "\n",
    "# natImmu = allImmuCount - vaccCount\n",
    "# vaccOnce = vaccCount - vaccFullCount\n",
    "\n",
    "# vaccFullShow = vaccFullCount.copy()\n",
    "# for k in xVals:\n",
    "#     if vaccFullShow[k] > herdCount[k]:\n",
    "#         vaccFullShow[k] = herdCount[k]\n",
    "        \n",
    "# vaccShow = vaccCount.copy()\n",
    "# for k in xVals:\n",
    "#     if vaccShow[k] > herdCount[k]:\n",
    "#         vaccShow[k] = herdCount[k]\n",
    "\n",
    "# vaccOnceShow = vaccShow - vaccFullShow\n",
    "\n",
    "\n",
    "\n",
    "# # vaccFullShow = vaccFullCount\n",
    "# # vaccFullShow[vaccFullShow > herdCount] = herdCount[vaccFullShow > herdCount]\n",
    "\n",
    "\n",
    "# ax1.bar(xVals,herdCount,color='k')\n",
    "# # ax1.bar(xVals,vaccFullCount,color='darkgreen')\n",
    "# ax1.bar(xVals,vaccShow,color='grey')\n",
    "# ax1.bar(xVals,vaccFullShow,color='darkblue')\n",
    "# ax1.bar(xVals,vaccOnceShow,bottom=vaccFullShow,color='blue')\n",
    "# ax1.bar(xVals,natImmu,bottom=vaccOnceShow+vaccFullShow,color='m')\n",
    "# ax1.bar(xVals,herdCount,color='none',edgecolor='red')\n",
    "\n",
    "\n",
    "# # ax1.bar(xVals,np.divide(herdCount,herdCount),color='k')\n",
    "# # ax1.bar(xVals,np.divide(vaccFullCount,herdCount),color='darkgreen')\n",
    "# # ax1.bar(xVals,np.divide(vaccShow,herdCount),color='grey')\n",
    "# # ax1.bar(xVals,np.divide(vaccFullShow,herdCount),color='darkblue')\n",
    "# # ax1.bar(xVals,caseLeft)\n",
    "# # ax1.bar(xVals,natImmu,bottom=caseLeft)\n",
    "# # ax1.bar(xVals,vaccOnce,bottom=natImmu+caseLeft)\n",
    "# # ax1.bar(xVals,immuCount)\n",
    "# # ax1.bar(xVals,vaccFullCount)"
   ]
  },
  {
   "cell_type": "code",
   "execution_count": 38,
   "metadata": {},
   "outputs": [],
   "source": [
    "# fig,ax1 = plt.subplots(1,1)\n",
    "\n",
    "# for k in xVals:\n",
    "#     curOut = [0,0,0,0] # VaccDone, VaccOnce, NatImmu, Missing\n",
    "\n",
    "#     curVaccOnce = vaccCount[k] - vaccFullCount[k]\n",
    "#     curVaccFull = vaccFullCount[k]\n",
    "#     curNatImmu = allImmuCount[k] - vaccCount[k]\n",
    "#     curHerd = herdCount[k]\n",
    "\n",
    "#     herdLeft = curHerd\n",
    "\n",
    "#     # If all are fully vaccinated\n",
    "#     if (curVaccFull > curHerd):\n",
    "#         curOut[0] = curHerd \n",
    "#     else:\n",
    "#         curOut[0] = curVaccFull\n",
    "#         herdLeft -= curVaccFull\n",
    "        \n",
    "#     if (curVaccOnce > herdLeft):\n",
    "#         curOut[1] = herdLeft\n",
    "#     else:\n",
    "#         curOut[1] = curVaccOnce\n",
    "#         herdLeft -= curVaccOnce\n",
    "        \n",
    "#     if (curNatImmu > herdLeft):\n",
    "#         curOut[2] = herdLeft\n",
    "#     else:\n",
    "#         curOut[2] = curNatImmu\n",
    "#         herdLeft -= curNatImmu\n",
    "\n",
    "#     curOut[3] = herdLeft\n",
    "\n",
    "#     ax1.bar(k,curOut[0],color='darkgreen')\n",
    "#     ax1.bar(k,curOut[1],bottom=curOut[0],color='green')\n",
    "#     ax1.bar(k,curOut[2],bottom=curOut[0]+curOut[1],color='m')\n",
    "#     ax1.bar(k,curOut[3],bottom=curOut[0]+curOut[1]+curOut[2],color='gray')  \n",
    "\n",
    "# ax1.bar(xVals,herdCount,color='none',edgecolor='k')"
   ]
  },
  {
   "cell_type": "code",
   "execution_count": 39,
   "metadata": {},
   "outputs": [],
   "source": [
    "# ratioVacc = np.divide(doneVacc,DK_age)\n",
    "\n",
    "# allImmuRate = 0.08 # Assuming same natural immunity rate for everyone\n",
    "# ratioImmu = allImmuRate * np.ones(DK_age.shape)\n",
    "# # Seroprevalence, bloddonerer, uge 16:\n",
    "# # 17-29: 9,6%\n",
    "# # 30-49: 6,3%\n",
    "# # 50-69: 5,0%\n",
    "# # I alt: 6,7%\n",
    "# imm0_29 = 0.1\n",
    "# imm30_49 = 0.075\n",
    "# imm50_69 = 0.06\n",
    "# ratioImmu = [imm0_29,imm0_29,imm0_29,imm30_49,imm30_49,imm50_69,imm50_69,imm50_69,imm50_69,imm50_69]\n",
    "\n",
    "# # R0 = 2.5\n",
    "# R0 = 2.5 * 1.5\n",
    "# # R0 = 1.7\n",
    "# herdImmunityThreshold = 1-(1/R0)\n",
    "# herdImmuList = herdImmunityThreshold * np.ones(DK_age.shape)\n",
    "\n",
    "# curImmu = ratioVacc + ratioImmu - np.multiply(ratioVacc,ratioImmu)\n",
    "\n",
    "# missingToInfectRatio = herdImmuList - curImmu \n",
    "# # - ratioVacc - ratioImmu + np.multiply(ratioVacc,ratioImmu)\n",
    "\n",
    "# print(ratioVacc)\n",
    "# print(ratioImmu)\n",
    "# print(herdImmuList)\n",
    "# print(missingToInfectRatio)\n",
    "\n",
    "# # If below zero, set to zero\n",
    "# missingToInfectRatio[missingToInfectRatio < 0] = 0\n",
    "\n",
    "# print(missingToInfectRatio)\n",
    "\n",
    "# missingToInfectCount = np.multiply(missingToInfectRatio,DK_age)\n",
    "# # print(missingToInfectCount)\n"
   ]
  },
  {
   "cell_type": "code",
   "execution_count": 40,
   "metadata": {},
   "outputs": [],
   "source": [
    "# np.multiply(herdImmuList,DK_age)"
   ]
  },
  {
   "cell_type": "code",
   "execution_count": 41,
   "metadata": {},
   "outputs": [],
   "source": [
    "\n",
    "# fig,(ax1,ax2) = plt.subplots(2,1,sharex=True)\n",
    "\n",
    "# curWidth = 0.7\n",
    "\n",
    "# ax1.bar(range(0,10),DK_age,label='Modtagelige',color='b')\n",
    "# # ax1.bar(range(0,10),missingToInfectCount)\n",
    "# # ax1.bar(range(0,10),np.multiply(herdImmuList,DK_age),label='Grænse for flokimmunitet')\n",
    "# ax1.bar(range(0,10),np.multiply(herdImmuList,DK_age),edgecolor='k',label='Grænse for flokimmunitet')\n",
    "# for k in range(0,10):\n",
    "#     ax1.plot(k+[-curWidth,curWidth],[np.multiply(herdImmuList,DK_age)[k],np.multiply(herdImmuList,DK_age)[k]],'k')\n",
    "\n",
    "# # ax1.bar(range(0,10),doneVacc+np.multiply(ratioImmu,DK_age))\n",
    "# # ax1.bar(range(0,10),np.multiply(ratioImmu,DK_age))\n",
    "# ax1.bar(range(0,10),np.multiply(curImmu,DK_age),color='m',label='Naturlig immunitet')\n",
    "# ax1.bar(range(0,10),doneVacc,color='g',label='Vaccineret')\n",
    "\n",
    "# ax2.bar(range(0,10),np.ones(DK_age.shape),color='b',label='Modtagelige')\n",
    "# # ax2.bar(range(0,10),herdImmuList)\n",
    "# ax2.plot([0,10],herdImmunityThreshold*np.ones((2,)),'k',label='Grænse for flokimmunitet')\n",
    "# ax2.bar(range(0,10),curImmu,label='Naturlig immunitet')\n",
    "# ax2.bar(range(0,10),ratioVacc,label='Vaccineret')\n",
    "\n",
    "# ax1.legend()\n",
    "# ax2.legend()\n",
    "# plt.tight_layout()"
   ]
  },
  {
   "cell_type": "code",
   "execution_count": null,
   "metadata": {},
   "outputs": [],
   "source": []
  }
 ]
}