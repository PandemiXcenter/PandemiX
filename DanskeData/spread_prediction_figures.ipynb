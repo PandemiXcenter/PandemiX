{
 "metadata": {
  "language_info": {
   "codemirror_mode": {
    "name": "ipython",
    "version": 3
   },
   "file_extension": ".py",
   "mimetype": "text/x-python",
   "name": "python",
   "nbconvert_exporter": "python",
   "pygments_lexer": "ipython3",
   "version": "3.8.8"
  },
  "orig_nbformat": 2,
  "kernelspec": {
   "name": "python388jvsc74a57bd0c031fd63bd977d199cd6020c30a19695eacbb638d100e0b8a5ea53080ed74a9a",
   "display_name": "Python 3.8.8 64-bit ('main': conda)"
  }
 },
 "nbformat": 4,
 "nbformat_minor": 2,
 "cells": [
  {
   "cell_type": "code",
   "execution_count": 1,
   "metadata": {},
   "outputs": [
    {
     "output_type": "stream",
     "name": "stdout",
     "text": [
      "saveFigures is set to: True\nDone loading packages\n"
     ]
    }
   ],
   "source": [
    "# Notebook til statiske figurer af covid fremskrivning\n",
    "import numpy as np\n",
    "import pandas as pd\n",
    "pd.set_option('display.max_rows', 500)\n",
    "pd.set_option('display.min_rows', 50)\n",
    "\n",
    "\n",
    "import matplotlib.pyplot as plt\n",
    "%matplotlib widget\n",
    "plt.rcParams['figure.figsize'] = (12,8)\n",
    "plt.rcParams[\"image.cmap\"] = \"tab10\"\n",
    "plt.rcParams['axes.prop_cycle'] = plt.cycler(color=plt.cm.tab10.colors)\n",
    "fs_label = 16\n",
    "parameters = {\n",
    "                'axes.labelsize': fs_label,\n",
    "                'axes.titlesize': fs_label+4,\n",
    "                'xtick.labelsize': fs_label,\n",
    "                'ytick.labelsize': fs_label, \n",
    "                'legend.fontsize': fs_label, \n",
    "                'lines.markersize': 10,\n",
    "                'lines.linewidth': 3\n",
    "             }\n",
    "plt.rcParams.update(parameters)\n",
    "%matplotlib widget\n",
    "import matplotlib.colors as colors\n",
    "from matplotlib import cm # Colormaps\n",
    "\n",
    "cmap = cm.get_cmap('Dark2',7)\n",
    "\n",
    "import locale\n",
    "import matplotlib.dates as mdates\n",
    "locale.setlocale(locale.LC_TIME,\"Danish\")\n",
    "\n",
    "import os\n",
    "import math\n",
    "\n",
    "from datetime import date\n",
    "\n",
    "\n",
    "saveFigures = True\n",
    "print('saveFigures is set to: '+str(saveFigures))\n",
    "print('Done loading packages')\n",
    "\n",
    "def rnMean(data,meanWidth):\n",
    "    return np.convolve(data, np.ones(meanWidth)/meanWidth, mode='valid')\n",
    "def rnTime(t,meanWidth):\n",
    "    return t[math.floor(meanWidth/2):-math.ceil(meanWidth/2)+1]\n",
    "def rnTime2(t,meanWidth):\n",
    "    return t[meanWidth-1:]\n"
   ]
  },
  {
   "source": [
    "# Load real data"
   ],
   "cell_type": "markdown",
   "metadata": {}
  },
  {
   "cell_type": "code",
   "execution_count": 2,
   "metadata": {},
   "outputs": [],
   "source": [
    "ssidatapath = \"ssi_data\"\n",
    "rootdir = os.getcwd() + '/' + ssidatapath\n",
    "dfAdm = pd.read_excel('Admitted\\Admitted.xlsx')\n",
    "dfAdm = dfAdm.transpose()\n",
    "dfAdm.columns = dfAdm.iloc[0]\n",
    "dfAdm = dfAdm.drop(['Aldersgruppe']) \n",
    "curDates =  pd.to_datetime(dfAdm.index,format='%d_%m_%Y')\n",
    "diffDates = curDates[1:]\n",
    "dfCase = pd.DataFrame(columns=dfAdm.columns)\n",
    "\n",
    "for k in range(0,len(curDates)):\n",
    "    d = curDates[k]\n",
    "    curIndex = dfAdm.index[k]\n",
    "\n",
    "    thisDateStr = d.strftime('%Y-%m-%d')\n",
    "    curDir = rootdir + '/SSI_data_' + thisDateStr \n",
    "    curFilePath = curDir + '/Cases_by_age.csv'\n",
    "    casedatadf = pd.read_csv(curFilePath,delimiter=';',dtype=str)\n",
    "\n",
    "    casedatadf['Antal_bekræftede_COVID-19'] = pd.to_numeric(casedatadf['Antal_bekræftede_COVID-19'].astype(str).apply(lambda x: x.replace('.','')))\n",
    "\n",
    "    dfCase.loc[curIndex] = casedatadf['Antal_bekræftede_COVID-19'].values"
   ]
  },
  {
   "cell_type": "code",
   "execution_count": 3,
   "metadata": {},
   "outputs": [],
   "source": [
    "# Same things, but with cases\n",
    "dfCaseDiff = dfCase.diff().iloc[1:]\n",
    "dfCaseDiff['Dato'] = curDates[1:]\n",
    "# Bad hack to ignore 10-15 year olds!\n",
    "dfCaseDiff['10-19'] = np.multiply(dfCaseDiff['10-19'],0.4)\n",
    "dfCaseDiffSum = dfCaseDiff.iloc[:,1:-2].cumsum(axis=1)\n",
    "dfCaseDiffSum['Dato'] = curDates[1:]\n",
    "\n",
    "# dfCaseDiff = dfCaseDiff.iloc[:-1]\n",
    "# dfCaseDiffSum = dfCaseDiffSum.iloc[:-1]\n",
    "\n",
    "dfCaseDiffSum['I alt'] = dfCaseDiffSum['90+']\n",
    "\n",
    "\n",
    "dfAdmDiff = dfAdm.diff().iloc[1:]\n",
    "dfAdmDiff['Dato'] = curDates[1:]\n",
    "dfAdmDiffSum = dfAdmDiff.iloc[:,1:-2].cumsum(axis=1)\n",
    "dfAdmDiffSum['Dato'] = curDates[1:]\n",
    "\n",
    "# dfAdmDiff = dfAdmDiff.iloc[:-1]\n",
    "# dfAdmDiffSum = dfAdmDiffSum.iloc[:-1]\n",
    "dfAdmDiffSum['I alt'] = dfAdmDiffSum['90+']\n"
   ]
  },
  {
   "source": [
    "# Load model data"
   ],
   "cell_type": "markdown",
   "metadata": {}
  },
  {
   "cell_type": "code",
   "execution_count": 4,
   "metadata": {},
   "outputs": [],
   "source": [
    "datafilename = 'model_results_spread_prediction_var_vacc.csv'\n",
    "df = pd.read_csv(datafilename)\n",
    "df.End =  pd.to_datetime(df.End,format='%Y-%m-%d')\n",
    "df.Start =  pd.to_datetime(df.Start,format='%Y-%m-%d')\n",
    "df['RT2'] = np.round(np.multiply(df.RT,10)).astype(int)\n",
    "df['Hosp'] = np.multiply(df.Count,df.CaseHospRate)\n",
    "\n",
    "datafilenameD = 'model_results_spread_prediction_var_vacc_delayed.csv'\n",
    "dfD = pd.read_csv(datafilenameD)\n",
    "dfD.End =  pd.to_datetime(dfD.End,format='%Y-%m-%d')\n",
    "dfD.Start =  pd.to_datetime(dfD.Start,format='%Y-%m-%d')\n",
    "dfD['RT2'] = np.round(np.multiply(dfD.RT,10)).astype(int)\n",
    "dfD['Hosp'] = np.multiply(dfD.Count,dfD.CaseHospRate)"
   ]
  },
  {
   "cell_type": "code",
   "execution_count": 5,
   "metadata": {},
   "outputs": [],
   "source": [
    "vaccToUse = 0.75\n",
    "df = df[df.vacc1 == vaccToUse]\n",
    "dfD = dfD[dfD.vacc1 == vaccToUse]"
   ]
  },
  {
   "cell_type": "code",
   "execution_count": 6,
   "metadata": {},
   "outputs": [],
   "source": [
    "RT2_to_use = 13\n",
    "dfRT = df[df.RT2 == RT2_to_use]\n",
    "dfRTD = dfD[dfD.RT2 == RT2_to_use]"
   ]
  },
  {
   "cell_type": "code",
   "execution_count": 7,
   "metadata": {},
   "outputs": [],
   "source": [
    "# # Calculate totals\n",
    "# allDays = df.End.unique()\n",
    "\n",
    "# totCount = []\n",
    "# totHosp = []\n",
    "\n",
    "# for curDay in allDays:\n",
    "#     totCount.append(df[df.End == curDay].Count.sum())\n",
    "#     totHosp.append(df[df.End == curDay].Hosp.sum())\n",
    "    \n",
    "# allDaysD = dfD.End.unique()\n",
    "\n",
    "# totCountD = []\n",
    "# totHospD = []\n",
    "\n",
    "# for curDay in allDaysD:\n",
    "#     totCountD.append(dfD[dfD.End == curDay].Count.sum())\n",
    "#     totHospD.append(dfD[dfD.End == curDay].Hosp.sum())\n"
   ]
  },
  {
   "cell_type": "code",
   "execution_count": 8,
   "metadata": {},
   "outputs": [],
   "source": [
    "# dfCaseDiff.tail()"
   ]
  },
  {
   "cell_type": "code",
   "execution_count": 9,
   "metadata": {},
   "outputs": [
    {
     "output_type": "display_data",
     "data": {
      "text/plain": "Canvas(toolbar=Toolbar(toolitems=[('Home', 'Reset original view', 'home', 'home'), ('Back', 'Back to previous …",
      "application/vnd.jupyter.widget-view+json": {
       "version_major": 2,
       "version_minor": 0,
       "model_id": "8ea48c9c632a4494b85a80f9c761e19c"
      }
     },
     "metadata": {}
    },
    {
     "output_type": "display_data",
     "data": {
      "text/plain": "Canvas(toolbar=Toolbar(toolitems=[('Home', 'Reset original view', 'home', 'home'), ('Back', 'Back to previous …",
      "application/vnd.jupyter.widget-view+json": {
       "version_major": 2,
       "version_minor": 0,
       "model_id": "d22d8ee916ce41259a397b5600d19736"
      }
     },
     "metadata": {}
    },
    {
     "output_type": "display_data",
     "data": {
      "text/plain": "Canvas(toolbar=Toolbar(toolitems=[('Home', 'Reset original view', 'home', 'home'), ('Back', 'Back to previous …",
      "application/vnd.jupyter.widget-view+json": {
       "version_major": 2,
       "version_minor": 0,
       "model_id": "0fd53ead307a403ba475bdb53d3bb1cf"
      }
     },
     "metadata": {}
    },
    {
     "output_type": "display_data",
     "data": {
      "text/plain": "Canvas(toolbar=Toolbar(toolitems=[('Home', 'Reset original view', 'home', 'home'), ('Back', 'Back to previous …",
      "application/vnd.jupyter.widget-view+json": {
       "version_major": 2,
       "version_minor": 0,
       "model_id": "7365ff2433044d64b4ef9db75ca0b02b"
      }
     },
     "metadata": {}
    },
    {
     "output_type": "display_data",
     "data": {
      "text/plain": "Canvas(toolbar=Toolbar(toolitems=[('Home', 'Reset original view', 'home', 'home'), ('Back', 'Back to previous …",
      "application/vnd.jupyter.widget-view+json": {
       "version_major": 2,
       "version_minor": 0,
       "model_id": "f37ef0f42e17408a9cd36bfae90cfb6b"
      }
     },
     "metadata": {}
    },
    {
     "output_type": "display_data",
     "data": {
      "text/plain": "Canvas(toolbar=Toolbar(toolitems=[('Home', 'Reset original view', 'home', 'home'), ('Back', 'Back to previous …",
      "application/vnd.jupyter.widget-view+json": {
       "version_major": 2,
       "version_minor": 0,
       "model_id": "5b7525d5351542969ad6c84653632f5b"
      }
     },
     "metadata": {}
    },
    {
     "output_type": "display_data",
     "data": {
      "text/plain": "Canvas(toolbar=Toolbar(toolitems=[('Home', 'Reset original view', 'home', 'home'), ('Back', 'Back to previous …",
      "application/vnd.jupyter.widget-view+json": {
       "version_major": 2,
       "version_minor": 0,
       "model_id": "8fb6fcaee7ee49a083e3f089336a5231"
      }
     },
     "metadata": {}
    },
    {
     "output_type": "display_data",
     "data": {
      "text/plain": "Canvas(toolbar=Toolbar(toolitems=[('Home', 'Reset original view', 'home', 'home'), ('Back', 'Back to previous …",
      "application/vnd.jupyter.widget-view+json": {
       "version_major": 2,
       "version_minor": 0,
       "model_id": "5cf1687f598a499bb725f9fca4d68f32"
      }
     },
     "metadata": {}
    },
    {
     "output_type": "display_data",
     "data": {
      "text/plain": "Canvas(toolbar=Toolbar(toolitems=[('Home', 'Reset original view', 'home', 'home'), ('Back', 'Back to previous …",
      "application/vnd.jupyter.widget-view+json": {
       "version_major": 2,
       "version_minor": 0,
       "model_id": "aa506179d732451782c8f36cceac1d36"
      }
     },
     "metadata": {}
    }
   ],
   "source": [
    "# Plot\n",
    "\n",
    " \n",
    "allRTsToUse = np.arange(9,18,1)\n",
    "\n",
    "# RT2_to_use = 13\n",
    "for RT2_to_use in allRTsToUse:\n",
    "    dfRT = df[df.RT2 == RT2_to_use]\n",
    "    dfRTD = dfD[dfD.RT2 == RT2_to_use]\n",
    "\n",
    "    fig,(ax1,ax2) = plt.subplots(2,1,sharex=True,figsize=(12,12))\n",
    "\n",
    "    allAges = df.Age.unique()\n",
    "    cmap = plt.cm.get_cmap('terrain',len(allAges)+1)\n",
    "\n",
    "\n",
    "\n",
    "\n",
    "    # # Data\n",
    "    # curCountData = np.zeros(dfCaseDiff['10-19'].values.shape)\n",
    "    # prevCountData = np.zeros(dfCaseDiff['10-19'].values.shape)\n",
    "\n",
    "    # for k in range(0,len(allAges)):\n",
    "    #     curAge = allAges[k]\n",
    "    #     curColor = cmap(k)\n",
    "\n",
    "    #     # curCountData = np.add(dfCaseDiff[curAge].values,curCountData)\n",
    "    #     # ax1.plot(diffDates,curCountData,'*-',color=curColor,linewidth=0.5)\n",
    "    #     # prevCountData = curCountData\n",
    "\n",
    "        \n",
    "    #     # curCountData = np.add(dfCaseDiff[curAge].values,curCountData)\n",
    "    #     # ax2.plot(diffDates,curCountData,'*-',color=curColor,linewidth=0.5)\n",
    "    #     # prevCountData = curCountData\n",
    "\n",
    "\n",
    "    # # ax1.plot(diffDates,curCountData,'k*-',linewidth=0.5)\n",
    "    # # ax2.plot(diffDates,curCountData,'k*-',linewidth=0.5)\n",
    "\n",
    "\n",
    "\n",
    "    ### Starting at last data point\n",
    "    testdfRT = dfRT[dfRT.Age == '10-19']\n",
    "    curDays = testdfRT.End\n",
    "    prevCount = np.zeros(testdfRT.Count.shape)\n",
    "    curCount = np.zeros(testdfRT.Count.shape)\n",
    "    curCountData = np.zeros(dfCaseDiff['10-19'].values.shape)\n",
    "    prevCountData = np.zeros(dfCaseDiff['10-19'].values.shape)\n",
    "\n",
    "        \n",
    "    # for k in range(0,len(allAges)):\n",
    "    for k in range(0,len(allAges)-3):\n",
    "        curAge = allAges[k]\n",
    "        curColor = cmap(k)\n",
    "\n",
    "        curCount = np.add(dfRT[dfRT.Age == curAge].Count.values,curCount)\n",
    "\n",
    "        ax1.fill_between(curDays,curCount,prevCount,color=curColor,label=curAge)\n",
    "\n",
    "\n",
    "        prevCount = curCount\n",
    "\n",
    "        curCountData = np.add(dfCaseDiff[curAge].values,curCountData)\n",
    "        ax1.plot(diffDates,curCountData,'*-',color=curColor,linewidth=0.5)\n",
    "        prevCountData = curCountData\n",
    "    \n",
    "    nowTot = curCount[1:].sum()\n",
    "\n",
    "    ax1.plot(curDays,curCount,'k',label='Total: '+str(int(np.round(nowTot))))\n",
    "    ax1.plot(diffDates,curCountData,'k*-',linewidth=0.5,label='Data')\n",
    "\n",
    "    ### Delayed\n",
    "    testdfRTD = dfRTD[dfRTD.Age == '10-19']\n",
    "    curDaysD = testdfRTD.End\n",
    "    prevCountD = np.zeros(testdfRTD.Count.shape)\n",
    "    curCountD = np.zeros(testdfRTD.Count.shape)\n",
    "    curCountData = np.zeros(dfCaseDiff['10-19'].values.shape)\n",
    "    prevCountData = np.zeros(dfCaseDiff['10-19'].values.shape)\n",
    "\n",
    "        \n",
    "    # for k in range(0,len(allAges)):\n",
    "    for k in range(0,len(allAges)-3):\n",
    "        curAge = allAges[k]\n",
    "        curColor = cmap(k)\n",
    "\n",
    "        curCountD = np.add(dfRTD[dfRTD.Age == curAge].Count.values,curCountD)\n",
    "\n",
    "        ax2.fill_between(curDaysD,curCountD,prevCountD,color=curColor,label=curAge)\n",
    "\n",
    "        prevCountD = curCountD\n",
    "\n",
    "        # Plot data\n",
    "        curCountData = np.add(dfCaseDiff[curAge].values,curCountData)\n",
    "        ax2.plot(diffDates,curCountData,'*-',color=curColor,linewidth=0.5)\n",
    "        prevCountData = curCountData\n",
    "\n",
    "        # Also connect last data-point to first model-point\n",
    "        ax2.plot([diffDates[-1],curDaysD.values[0]],[curCountData[-1],curCountData[-1]],':',color=curColor,linewidth=3)\n",
    "        \n",
    "\n",
    "    # Calculate the total, assuming data repeated twice\n",
    "    delayTot = curCountD[1:].sum() + curCountData[-1] + curCountData[-1]\n",
    "\n",
    "    ax2.plot(curDaysD,curCountD,'k',label='Total: '+str(int(np.round(delayTot))))\n",
    "    ax2.plot(curDays,curCount,'--',label='Total,\\nsom ovenfor',color='grey')\n",
    "    ax2.plot(diffDates,curCountData,'k*-',linewidth=0.5,label='Data')\n",
    "\n",
    "    ax2.plot([diffDates[-1],curDaysD.values[0]],[curCountData[-1],curCountData[-1]],'k:',linewidth=3)\n",
    "\n",
    "\n",
    "    # for curAge in allAges:\n",
    "        # agedfRTD = df[df.Age == curAge]\n",
    "        # ax1.plot(agedf.End,agedf.Count)\n",
    "\n",
    "    # ax1.plot(allDays,totCount,'k')\n",
    "    # ax1.plot(allDaysD,totCountD)\n",
    "\n",
    "\n",
    "    # Make figure nice\n",
    "    curTop = ax1.get_ylim()[1]\n",
    "\n",
    "    ax1.set_ylim(bottom=0,top=curTop)\n",
    "    ax2.set_ylim(bottom=0,top=curTop)\n",
    "\n",
    "    ax1.set_ylabel('Ugentlige nye smittetilfælde')\n",
    "    ax2.set_ylabel('Ugentlige nye smittetilfælde')\n",
    "\n",
    "\n",
    "    ax1.grid()\n",
    "    ax2.grid()\n",
    "\n",
    "    # ax1.legend()\n",
    "    # ax2.legend(loc='upper right')\n",
    "    \n",
    "    ax1.legend(loc='center left',bbox_to_anchor = (1.0, 0.5))\n",
    "    ax2.legend(loc='center left',bbox_to_anchor = (1.0, 0.5))\n",
    "\n",
    "    ax1.set_title('Effektivt kontakttal: '+str(RT2_to_use/10).replace('.',','))\n",
    "\n",
    "    ax1.xaxis.set_major_formatter(mdates.DateFormatter('%d.\\n%B'))\n",
    "\n",
    "    lastDate = np.datetime64('2021-09-01')\n",
    "    firstDate = curDays.values[0] - np.timedelta64(21,'D')\n",
    "    ax1.set_xlim([firstDate,lastDate])\n",
    "\n",
    "    plt.tight_layout()\n",
    "    if saveFigures:\n",
    "        plt.savefig('figs/ForsinketFremskrivningRT'+str(RT2_to_use))"
   ]
  },
  {
   "cell_type": "code",
   "execution_count": 10,
   "metadata": {},
   "outputs": [
    {
     "output_type": "execute_result",
     "data": {
      "text/plain": [
       "258545.49664983136"
      ]
     },
     "metadata": {},
     "execution_count": 10
    }
   ],
   "source": [
    "curCount.sum()\n",
    "curCountD.sum()"
   ]
  },
  {
   "source": [
    "# Ugentlige forsinkelser"
   ],
   "cell_type": "markdown",
   "metadata": {}
  },
  {
   "cell_type": "code",
   "execution_count": 11,
   "metadata": {},
   "outputs": [],
   "source": [
    "datafilenameD2 = 'compare_model_results.csv'\n",
    "dfD2 = pd.read_csv(datafilenameD2)\n",
    "dfD2.End =  pd.to_datetime(dfD2.End,format='%Y-%m-%d')\n",
    "dfD2.Start =  pd.to_datetime(dfD2.Start,format='%Y-%m-%d')\n",
    "dfD2['RT2'] = np.round(np.multiply(dfD2.RT,10)).astype(int)\n",
    "# dfD['Hosp'] = np.multiply(dfD.Count,dfD.CaseHospRate)"
   ]
  },
  {
   "cell_type": "code",
   "execution_count": 12,
   "metadata": {},
   "outputs": [
    {
     "output_type": "display_data",
     "data": {
      "text/plain": "Canvas(toolbar=Toolbar(toolitems=[('Home', 'Reset original view', 'home', 'home'), ('Back', 'Back to previous …",
      "application/vnd.jupyter.widget-view+json": {
       "version_major": 2,
       "version_minor": 0,
       "model_id": "e4c10543ab014b06a492254a861dadfe"
      }
     },
     "metadata": {}
    }
   ],
   "source": [
    "fig,ax1 = plt.subplots()\n",
    "\n",
    "curdf = dfD2[dfD2.RT2 == 13]\n",
    "\n",
    "\n",
    "allStart = curdf.Start.unique()\n",
    "\n",
    "cmap = cm.get_cmap('inferno',len(allStart)+1)\n",
    "\n",
    "# for curStart in allStart:\n",
    "for k in range(len(allStart)):\n",
    "    curStart = allStart[k]\n",
    "    thisdf = curdf[curdf.Start == curStart]\n",
    "    \n",
    "    curLabel = 'Fra '+pd.to_datetime(curStart).strftime('%d. %B')\n",
    "    ax1.plot(thisdf.End,thisdf.Count,color=cmap(k),label = curLabel)\n",
    "\n",
    "\n",
    "\n",
    "ax1.plot(diffDates,curCountData,'*-',linewidth=2,label='Data',color='xkcd:dark grey')\n",
    "\n",
    "\n",
    "numToShow = len(allStart)\n",
    "\n",
    "projDates = np.arange(diffDates[-1],diffDates[-1] + np.timedelta64(7*numToShow,'D'),np.timedelta64(7,'D'))\n",
    "\n",
    "projData = curCountData[-1]*np.ones((numToShow,))\n",
    "# projData = [curCountData[-1],curCountData[-1],curCountData[-1],curCountData[-1]]\n",
    "ax1.plot(projDates,projData,'o:',linewidth=1,markersize=5,label='Data (forlænget)',color='xkcd:dark grey')\n",
    "\n",
    "# ax1.plot(curdf.End,curdf.Count)\n",
    "ax1.set_ylim(bottom=0)\n",
    "\n",
    "ax1.set_ylabel('Ugentlige nye smittetilfælde')\n",
    "\n",
    "\n",
    "ax1.grid()\n",
    "\n",
    "# ax1.legend(loc='center left',bbox_to_anchor = (1.0, 0.5))\n",
    "ax1.legend(loc='upper right')\n",
    "# ax1.set_title('Effektivt kontakttal: '+str(RT2_to_use/10).replace('.',','))\n",
    "\n",
    "ax1.xaxis.set_major_formatter(mdates.DateFormatter('%d.\\n%B'))\n",
    "\n",
    "lastDate = np.datetime64('2021-09-01')\n",
    "firstDate = curDays.values[0] - np.timedelta64(35,'D')\n",
    "ax1.set_xlim([firstDate,lastDate])\n",
    "\n",
    "\n",
    "plt.tight_layout()\n",
    "\n",
    "if saveFigures:\n",
    "    plt.savefig('figs/ForsinketFremskrivningSammenlignet')"
   ]
  },
  {
   "cell_type": "code",
   "execution_count": 13,
   "metadata": {},
   "outputs": [
    {
     "output_type": "execute_result",
     "data": {
      "text/plain": [
       "     Unnamed: 0      Start        End   RT        Count   CountCumul  \\\n",
       "679         679 2021-07-13 2021-07-13  1.3  5591.000000     0.000000   \n",
       "688         688 2021-07-13 2021-07-20  1.3  2667.181305  2667.181305   \n",
       "697         697 2021-07-13 2021-07-27  1.3  1636.140906  4303.322211   \n",
       "706         706 2021-07-13 2021-08-03  1.3   849.503296  5152.825507   \n",
       "715         715 2021-07-13 2021-08-10  1.3   344.534226  5497.359733   \n",
       "724         724 2021-07-13 2021-08-17  1.3    96.180918  5593.540651   \n",
       "733         733 2021-07-13 2021-08-24  1.3    15.526534  5609.067185   \n",
       "742         742 2021-07-13 2021-08-31  1.3     1.523163  5610.590348   \n",
       "751         751 2021-07-13 2021-09-07  1.3     0.069211  5610.659559   \n",
       "\n",
       "      HospCumul  RT2  \n",
       "679    0.000000   13  \n",
       "688   68.467651   13  \n",
       "697  112.848021   13  \n",
       "706  138.477366   13  \n",
       "715  149.687676   13  \n",
       "724  152.907217   13  \n",
       "733  153.432366   13  \n",
       "742  153.484164   13  \n",
       "751  153.486523   13  "
      ],
      "text/html": "<div>\n<style scoped>\n    .dataframe tbody tr th:only-of-type {\n        vertical-align: middle;\n    }\n\n    .dataframe tbody tr th {\n        vertical-align: top;\n    }\n\n    .dataframe thead th {\n        text-align: right;\n    }\n</style>\n<table border=\"1\" class=\"dataframe\">\n  <thead>\n    <tr style=\"text-align: right;\">\n      <th></th>\n      <th>Unnamed: 0</th>\n      <th>Start</th>\n      <th>End</th>\n      <th>RT</th>\n      <th>Count</th>\n      <th>CountCumul</th>\n      <th>HospCumul</th>\n      <th>RT2</th>\n    </tr>\n  </thead>\n  <tbody>\n    <tr>\n      <th>679</th>\n      <td>679</td>\n      <td>2021-07-13</td>\n      <td>2021-07-13</td>\n      <td>1.3</td>\n      <td>5591.000000</td>\n      <td>0.000000</td>\n      <td>0.000000</td>\n      <td>13</td>\n    </tr>\n    <tr>\n      <th>688</th>\n      <td>688</td>\n      <td>2021-07-13</td>\n      <td>2021-07-20</td>\n      <td>1.3</td>\n      <td>2667.181305</td>\n      <td>2667.181305</td>\n      <td>68.467651</td>\n      <td>13</td>\n    </tr>\n    <tr>\n      <th>697</th>\n      <td>697</td>\n      <td>2021-07-13</td>\n      <td>2021-07-27</td>\n      <td>1.3</td>\n      <td>1636.140906</td>\n      <td>4303.322211</td>\n      <td>112.848021</td>\n      <td>13</td>\n    </tr>\n    <tr>\n      <th>706</th>\n      <td>706</td>\n      <td>2021-07-13</td>\n      <td>2021-08-03</td>\n      <td>1.3</td>\n      <td>849.503296</td>\n      <td>5152.825507</td>\n      <td>138.477366</td>\n      <td>13</td>\n    </tr>\n    <tr>\n      <th>715</th>\n      <td>715</td>\n      <td>2021-07-13</td>\n      <td>2021-08-10</td>\n      <td>1.3</td>\n      <td>344.534226</td>\n      <td>5497.359733</td>\n      <td>149.687676</td>\n      <td>13</td>\n    </tr>\n    <tr>\n      <th>724</th>\n      <td>724</td>\n      <td>2021-07-13</td>\n      <td>2021-08-17</td>\n      <td>1.3</td>\n      <td>96.180918</td>\n      <td>5593.540651</td>\n      <td>152.907217</td>\n      <td>13</td>\n    </tr>\n    <tr>\n      <th>733</th>\n      <td>733</td>\n      <td>2021-07-13</td>\n      <td>2021-08-24</td>\n      <td>1.3</td>\n      <td>15.526534</td>\n      <td>5609.067185</td>\n      <td>153.432366</td>\n      <td>13</td>\n    </tr>\n    <tr>\n      <th>742</th>\n      <td>742</td>\n      <td>2021-07-13</td>\n      <td>2021-08-31</td>\n      <td>1.3</td>\n      <td>1.523163</td>\n      <td>5610.590348</td>\n      <td>153.484164</td>\n      <td>13</td>\n    </tr>\n    <tr>\n      <th>751</th>\n      <td>751</td>\n      <td>2021-07-13</td>\n      <td>2021-09-07</td>\n      <td>1.3</td>\n      <td>0.069211</td>\n      <td>5610.659559</td>\n      <td>153.486523</td>\n      <td>13</td>\n    </tr>\n  </tbody>\n</table>\n</div>"
     },
     "metadata": {},
     "execution_count": 13
    }
   ],
   "source": [
    "thisdf"
   ]
  },
  {
   "cell_type": "code",
   "execution_count": null,
   "metadata": {},
   "outputs": [],
   "source": []
  },
  {
   "cell_type": "code",
   "execution_count": null,
   "metadata": {},
   "outputs": [],
   "source": []
  }
 ]
}