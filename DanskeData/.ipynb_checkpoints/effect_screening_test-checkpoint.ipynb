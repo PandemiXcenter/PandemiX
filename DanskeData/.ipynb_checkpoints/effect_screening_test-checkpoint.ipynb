{
 "cells": [
  {
   "cell_type": "code",
   "execution_count": 3,
   "metadata": {},
   "outputs": [],
   "source": [
    "import numpy as np\n",
    "import matplotlib.pyplot as plt \n",
    "import pandas as pd\n",
    "\n"
   ]
  },
  {
   "cell_type": "code",
   "execution_count": null,
   "metadata": {},
   "outputs": [],
   "source": []
  },
  {
   "cell_type": "code",
   "execution_count": 5,
   "metadata": {},
   "outputs": [],
   "source": [
    "def test_correct(actual_cases, actual_tests, pr_num_tests):\n",
    "    return actual_cases*(pr_num_tests/actual_tests)**0.7"
   ]
  },
  {
   "cell_type": "code",
   "execution_count": null,
   "metadata": {},
   "outputs": [],
   "source": [
    "def hosp_case_rate(hosp, case, screen):\n",
    "    return hosp/(case - screen)\n",
    "\n",
    "def screen(c1, c2):\n",
    "    hosp1, case1, screen1 = c1*\n",
    "    #hosp2, case2, screen2 = c2*\n",
    "    return = case1 - hosp1/hosp_case_rate(*c2)"
   ]
  },
  {
   "cell_type": "markdown",
   "metadata": {},
   "source": [
    "Antag at forskelle i tilsyneladende indlæggelsesrate \n",
    "(indlæggelse pr. case) alene skyldes forskelle i mørketal. \n",
    "Cases fundet udover dem, der skal til for at give samme \n",
    "indlæggelsesrate som Norge (?) må da skyldes øget testning."
   ]
  },
  {
   "cell_type": "code",
   "execution_count": null,
   "metadata": {},
   "outputs": [],
   "source": []
  },
  {
   "cell_type": "code",
   "execution_count": null,
   "metadata": {},
   "outputs": [],
   "source": []
  },
  {
   "cell_type": "code",
   "execution_count": null,
   "metadata": {},
   "outputs": [],
   "source": []
  }
 ],
 "metadata": {
  "kernelspec": {
   "display_name": "Python 3",
   "language": "python",
   "name": "python3"
  },
  "language_info": {
   "codemirror_mode": {
    "name": "ipython",
    "version": 3
   },
   "file_extension": ".py",
   "mimetype": "text/x-python",
   "name": "python",
   "nbconvert_exporter": "python",
   "pygments_lexer": "ipython3",
   "version": "3.7.3"
  }
 },
 "nbformat": 4,
 "nbformat_minor": 4
}
