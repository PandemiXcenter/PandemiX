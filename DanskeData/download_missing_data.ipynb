{
 "metadata": {
  "language_info": {
   "codemirror_mode": {
    "name": "ipython",
    "version": 3
   },
   "file_extension": ".py",
   "mimetype": "text/x-python",
   "name": "python",
   "nbconvert_exporter": "python",
   "pygments_lexer": "ipython3",
   "version": "3.8.8"
  },
  "orig_nbformat": 2,
  "kernelspec": {
   "name": "python388jvsc74a57bd0c031fd63bd977d199cd6020c30a19695eacbb638d100e0b8a5ea53080ed74a9a",
   "display_name": "Python 3.8.8 64-bit ('main': conda)"
  }
 },
 "nbformat": 4,
 "nbformat_minor": 2,
 "cells": [
  {
   "cell_type": "code",
   "execution_count": 1,
   "metadata": {},
   "outputs": [],
   "source": [
    "# The link to some datafiles where formatted differently. This notebook downloads the missing files\n",
    "\n",
    "import matplotlib.pyplot as plt\n",
    "import matplotlib.dates as mdates\n",
    "import pandas as pd\n",
    "from pandas import ExcelWriter\n",
    "from pandas import ExcelFile\n",
    "import numpy as np\n",
    "import requests\n",
    "from bs4 import BeautifulSoup \n",
    "#import urllib.request\n",
    "import zipfile\n",
    "import io\n",
    "import os\n",
    "import datetime as dt\n",
    "# import pycountry as pc\n",
    "import math\n"
   ]
  },
  {
   "cell_type": "code",
   "execution_count": 2,
   "metadata": {},
   "outputs": [],
   "source": [
    "get_data = True\n",
    "ssidatapath = \"ssi_data\"\n",
    "rootdir = os.getcwd() +\"/\" + ssidatapath\n",
    "\n",
    "def download_url(url, save_path, chunk_size=128):\n",
    "    r = requests.get(url, stream=True)\n",
    "    with open(save_path, 'wb') as fd:\n",
    "        for chunk in r.iter_content(chunk_size=chunk_size):\n",
    "            fd.write(chunk)\n",
    "\n",
    "def get_all_data():\n",
    "    url = \"https://covid19.ssi.dk/overvagningsdata/download-fil-med-overvaagningdata\"\n",
    "    #url = \"http://www.ssi.dk/covid19/overvagning/data/data-epidemiologisk(e)-rapport-\"\n",
    "    #old link#url = \"https://www.ssi.dk/sygdomme-beredskab-og-forskning/sygdomsovervaagning/c/covid19-overvaagning/arkiv-med-overvaagningsdata-for-covid19\"\n",
    "    page = requests.get(url)\n",
    "    soup = BeautifulSoup(page.content, 'html.parser')\n",
    "    links = soup.find_all(\"a\", string=lambda text: \"data\" in str(text).lower())\n",
    "    #print(links.index(\"<a href=\\\"http://www.ssi.dk/covid19data\\\" target=\\\"_blank\\\">www.ssi.dk/covid19data</a>\"))\n",
    "    #print(links)\n",
    "    check_str = \"<a href=\\\"https://files.ssi\"\n",
    "    for link in links[3:]: \n",
    "        #print(link)\n",
    "        if str(link)[:len(check_str)]!=check_str:\n",
    "            print(\"not a file; continues...\")\n",
    "            continue\n",
    "        #print(link)\n",
    "        file = link[\"href\"]\n",
    "        old_date = str(file).split(\"-\")[-2]\n",
    "        if len(old_date)!=8:\n",
    "            print(\"not a date; continues...\")\n",
    "            continue\n",
    "        new_date = old_date[4:] + \"-\" + old_date[2:4] + \"-\" + old_date[0:2]\n",
    "        filename = \"SSI_data_\" + new_date\n",
    "        zipped_save_path = ssidatapath + \"_zipped/\" + filename + \".zip\"\n",
    "        extracted_save_path = ssidatapath + \"/\" + filename\n",
    "        \n",
    "        try:\n",
    "            download_url(file, zipped_save_path)\n",
    "            with zipfile.ZipFile(zipped_save_path, 'r') as zipObj:\n",
    "                zipObj.extractall(extracted_save_path)\n",
    "        except: \n",
    "            print(file)\n",
    "def daterange(start_date, end_date):\n",
    "    for n in range(int ((end_date - start_date).days)+1):\n",
    "        yield start_date + pd.DateOffset(days=n)"
   ]
  },
  {
   "cell_type": "code",
   "execution_count": 3,
   "metadata": {},
   "outputs": [
    {
     "output_type": "stream",
     "name": "stdout",
     "text": [
      "not a file; continues...\n",
      "not a file; continues...\n",
      "not a date; continues...\n",
      "not a date; continues...\n",
      "not a date; continues...\n",
      "not a date; continues...\n"
     ]
    }
   ],
   "source": [
    "get_all_data()"
   ]
  },
  {
   "cell_type": "code",
   "execution_count": 3,
   "metadata": {
    "tags": []
   },
   "outputs": [
    {
     "output_type": "stream",
     "name": "stdout",
     "text": [
      "not a file; continues...\n",
      "not a file; continues...\n",
      "not a date; continues...\n",
      "<a href=\"https://files.ssi.dk/covid19/overvagning/data/data-epidemiologiske-rapport-24032021-h3s0-v2\" target=\"_blank\">\n",
      "        COVID-19 Overvågningsdata 24032021 (zip)\n",
      "    </a>\n",
      "not a date; continues...\n",
      "<a href=\"https://files.ssi.dk/covid19/overvagning/data/data-epidemiologiske-rapport-03032021-0vi2-v2\" target=\"_blank\">\n",
      "        COVID-19 Overvågningsdata 03032021 (zip)\n",
      "    </a>\n",
      "not a date; continues...\n",
      "<a href=\"https://files.ssi.dk/covid19/overvagning/data/data-epidemiologiske-rapport-04022021-h1k6-v2\" target=\"_blank\">\n",
      "        COVID-19 Overvågningsdata 04022021 (zip)\n",
      "    </a>\n",
      "not a date; continues...\n",
      "<a href=\"https://files.ssi.dk/covid19/overvagning/data/data-epidemiologiske-rapport-17112020-v2-26xa\" target=\"_blank\">\n",
      "        COVID-19 Overvågningsdata 17112020 (zip)\n",
      "    </a>\n",
      "not a date; continues...\n",
      "<a href=\"https://files.ssi.dk/covid19/overvagning/data/data-epidemiologiske-rapport-07072020-2-bh75\" target=\"_blank\">\n",
      "        COVID-19 Overvågningsdata 07072020 (zip)\n",
      "    </a>\n",
      "not a file; continues...\n",
      "not a file; continues...\n",
      "not a file; continues...\n"
     ]
    }
   ],
   "source": [
    " url = \"https://covid19.ssi.dk/overvagningsdata/download-fil-med-overvaagningdata\"\n",
    "#url = \"http://www.ssi.dk/covid19/overvagning/data/data-epidemiologisk(e)-rapport-\"\n",
    "#old link#url = \"https://www.ssi.dk/sygdomme-beredskab-og-forskning/sygdomsovervaagning/c/covid19-overvaagning/arkiv-med-overvaagningsdata-for-covid19\"\n",
    "page = requests.get(url)\n",
    "soup = BeautifulSoup(page.content, 'html.parser')\n",
    "links = soup.find_all(\"a\", string=lambda text: \"data\" in str(text).lower())\n",
    "#print(links.index(\"<a href=\\\"http://www.ssi.dk/covid19data\\\" target=\\\"_blank\\\">www.ssi.dk/covid19data</a>\"))\n",
    "#print(links)\n",
    "check_str = \"<a href=\\\"https://files.ssi\"\n",
    "for link in links[3:]: \n",
    "    \n",
    "    if str(link)[:len(check_str)]!=check_str:\n",
    "        print(\"not a file; continues...\")\n",
    "        continue\n",
    "    \n",
    "    file = link[\"href\"]\n",
    "    old_date = str(file).split(\"-\")[-2]\n",
    "    if len(old_date)!=8:\n",
    "        print(\"not a date; continues...\")\n",
    "        badLink = link\n",
    "\n",
    "\n",
    "        whereRapport = str(badLink).find('rapport')\n",
    "        curDateString = str(badLink)[whereRapport+8:whereRapport+16]\n",
    "\n",
    "        new_date = curDateString[-4:] + \"-\" + curDateString[2:4] + \"-\" + curDateString[0:2]\n",
    "        filename = \"SSI_data_\" + new_date\n",
    "        zipped_save_path = ssidatapath + \"_zipped/\" + filename + \".zip\"\n",
    "        extracted_save_path = ssidatapath + \"/\" + filename\n",
    "\n",
    "        try:\n",
    "            download_url(file, zipped_save_path)\n",
    "            with zipfile.ZipFile(zipped_save_path, 'r') as zipObj:\n",
    "                zipObj.extractall(extracted_save_path)\n",
    "        except: \n",
    "            print(file)\n",
    "        print(link)\n",
    "        continue\n",
    "    \n",
    "    # new_date = old_date[4:] + \"-\" + old_date[2:4] + \"-\" + old_date[0:2]\n",
    "    # filename = \"SSI_data_\" + new_date\n",
    "    # zipped_save_path = ssidatapath + \"_zipped/\" + filename + \".zip\"\n",
    "    # extracted_save_path = ssidatapath + \"/\" + filename\n",
    "    \n",
    "    # try:\n",
    "    #     download_url(file, zipped_save_path)\n",
    "    #     with zipfile.ZipFile(zipped_save_path, 'r') as zipObj:\n",
    "    #         zipObj.extractall(extracted_save_path)\n",
    "    # except: \n",
    "    #     print(file)"
   ]
  },
  {
   "cell_type": "code",
   "execution_count": 24,
   "metadata": {},
   "outputs": [
    {
     "output_type": "stream",
     "name": "stdout",
     "text": [
      "2020-07-07\n"
     ]
    }
   ],
   "source": [
    "# whereRapport = str(badLink).find('rapport')\n",
    "# curDateString = str(badLink)[whereRapport+8:whereRapport+16]\n",
    "\n",
    "\n",
    "\n",
    "# new_date = curDateString[-4:] + \"-\" + curDateString[2:4] + \"-\" + curDateString[0:2]\n",
    "# filename = \"SSI_data_\" + new_date\n",
    "# zipped_save_path = ssidatapath + \"_zipped/\" + filename + \".zip\"\n",
    "# extracted_save_path = ssidatapath + \"/\" + filename\n",
    "\n",
    "# try:\n",
    "#     download_url(file, zipped_save_path)\n",
    "#     with zipfile.ZipFile(zipped_save_path, 'r') as zipObj:\n",
    "#         zipObj.extractall(extracted_save_path)\n",
    "# except: \n",
    "#     print(file)"
   ]
  }
 ]
}