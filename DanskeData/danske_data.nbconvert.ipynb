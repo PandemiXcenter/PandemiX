{
 "cells": [
  {
   "cell_type": "code",
   "execution_count": 1,
   "metadata": {},
   "outputs": [],
   "source": [
    "import matplotlib.pyplot as plt\n",
    "import matplotlib.dates as mdates\n",
    "import pandas as pd\n",
    "from pandas import ExcelWriter\n",
    "from pandas import ExcelFile\n",
    "import numpy as np\n",
    "import requests\n",
    "from bs4 import BeautifulSoup \n",
    "#import urllib.request\n",
    "import zipfile\n",
    "import io\n",
    "import os\n",
    "import datetime as dt\n",
    "import pycountry as pc\n",
    "import math\n",
    "\n",
    "#from pandas.plotting import register_matplotlib_converters\n",
    "#register_matplotlib_converters()\n"
   ]
  },
  {
   "cell_type": "code",
   "execution_count": 2,
   "metadata": {},
   "outputs": [],
   "source": [
    "#Settings for plotting\n",
    "\n",
    "fs_label = 16\n",
    "\n",
    "parameters = {\n",
    "                'axes.labelsize': fs_label,\n",
    "                'axes.titlesize': fs_label+4,\n",
    "                'xtick.labelsize': fs_label,\n",
    "                'ytick.labelsize': fs_label, \n",
    "                'legend.fontsize': fs_label\n",
    "             }\n",
    "\n",
    "plt.rcParams.update(parameters)\n",
    "\n",
    "#locale.setlocale(locale.LC_TIME, \"Danish\") "
   ]
  },
  {
   "cell_type": "code",
   "execution_count": 3,
   "metadata": {},
   "outputs": [],
   "source": [
    "# Danish regional data:\n",
    "\n",
    "get_data = True\n",
    "ssidatapath = \"ssi_data\"\n",
    "rootdir = os.getcwd() +\"/\" + ssidatapath\n",
    "\n",
    "\n",
    "def download_url(url, save_path, chunk_size=128):\n",
    "    r = requests.get(url, stream=True)\n",
    "    with open(save_path, 'wb') as fd:\n",
    "        for chunk in r.iter_content(chunk_size=chunk_size):\n",
    "            fd.write(chunk)\n",
    "\n",
    "def get_all_data():\n",
    "    url = \"https://covid19.ssi.dk/overvagningsdata/download-fil-med-overvaagningdata\"\n",
    "    #url = \"http://www.ssi.dk/covid19/overvagning/data/data-epidemiologisk(e)-rapport-\"\n",
    "    #old link#url = \"https://www.ssi.dk/sygdomme-beredskab-og-forskning/sygdomsovervaagning/c/covid19-overvaagning/arkiv-med-overvaagningsdata-for-covid19\"\n",
    "    page = requests.get(url)\n",
    "    soup = BeautifulSoup(page.content, 'html.parser')\n",
    "    links = soup.find_all(\"a\", string=lambda text: \"data\" in str(text).lower())\n",
    "    #print(links.index(\"<a href=\\\"http://www.ssi.dk/covid19data\\\" target=\\\"_blank\\\">www.ssi.dk/covid19data</a>\"))\n",
    "    #print(links)\n",
    "    check_str = \"<a href=\\\"https://files.ssi\"\n",
    "    for link in links[3:]: \n",
    "        #print(link)\n",
    "        if str(link)[:len(check_str)]!=check_str:\n",
    "            print(\"not a file; continues...\")\n",
    "            continue\n",
    "        #print(link)\n",
    "        file = link[\"href\"]\n",
    "        old_date = str(file).split(\"-\")[-2]\n",
    "        if len(old_date)!=8:\n",
    "            print(\"not a date; continues...\")\n",
    "            continue\n",
    "        new_date = old_date[4:] + \"-\" + old_date[2:4] + \"-\" + old_date[0:2]\n",
    "        filename = \"SSI_data_\" + new_date\n",
    "        zipped_save_path = ssidatapath + \"_zipped/\" + filename + \".zip\"\n",
    "        extracted_save_path = ssidatapath + \"/\" + filename\n",
    "        \n",
    "        download_url(file, zipped_save_path)\n",
    "        with zipfile.ZipFile(zipped_save_path, 'r') as zipObj:\n",
    "            zipObj.extractall(extracted_save_path)\n",
    "\n",
    "def daterange(start_date, end_date):\n",
    "    for n in range(int ((end_date - start_date).days)+1):\n",
    "        yield start_date + pd.DateOffset(days=n)"
   ]
  },
  {
   "cell_type": "code",
   "execution_count": 4,
   "metadata": {},
   "outputs": [
    {
     "name": "stdout",
     "output_type": "stream",
     "text": [
      "not a file; continues...\n",
      "not a file; continues...\n"
     ]
    },
    {
     "ename": "BadZipFile",
     "evalue": "File is not a zip file",
     "output_type": "error",
     "traceback": [
      "\u001b[0;31m---------------------------------------------------------------------------\u001b[0m",
      "\u001b[0;31mBadZipFile\u001b[0m                                Traceback (most recent call last)",
      "\u001b[0;32m<ipython-input-4-d235fe9e9545>\u001b[0m in \u001b[0;36m<module>\u001b[0;34m\u001b[0m\n\u001b[1;32m     12\u001b[0m     \u001b[0mos\u001b[0m\u001b[0;34m.\u001b[0m\u001b[0msystem\u001b[0m\u001b[0;34m(\u001b[0m\u001b[0;34m\"mkdir ssi_data_zipped\"\u001b[0m\u001b[0;34m)\u001b[0m\u001b[0;34m\u001b[0m\u001b[0;34m\u001b[0m\u001b[0m\n\u001b[1;32m     13\u001b[0m     \u001b[0mos\u001b[0m\u001b[0;34m.\u001b[0m\u001b[0msystem\u001b[0m\u001b[0;34m(\u001b[0m\u001b[0;34m\"mkdir ssi_data\"\u001b[0m\u001b[0;34m)\u001b[0m\u001b[0;34m\u001b[0m\u001b[0;34m\u001b[0m\u001b[0m\n\u001b[0;32m---> 14\u001b[0;31m     \u001b[0mget_all_data\u001b[0m\u001b[0;34m(\u001b[0m\u001b[0;34m)\u001b[0m\u001b[0;34m\u001b[0m\u001b[0;34m\u001b[0m\u001b[0m\n\u001b[0m\u001b[1;32m     15\u001b[0m \u001b[0;34m\u001b[0m\u001b[0m\n\u001b[1;32m     16\u001b[0m \u001b[0mdk_cases_by_age_df\u001b[0m \u001b[0;34m=\u001b[0m \u001b[0mpd\u001b[0m\u001b[0;34m.\u001b[0m\u001b[0mDataFrame\u001b[0m\u001b[0;34m(\u001b[0m\u001b[0;34m)\u001b[0m\u001b[0;34m\u001b[0m\u001b[0;34m\u001b[0m\u001b[0m\n",
      "\u001b[0;32m<ipython-input-3-0408df0bcfbe>\u001b[0m in \u001b[0;36mget_all_data\u001b[0;34m()\u001b[0m\n\u001b[1;32m     39\u001b[0m \u001b[0;34m\u001b[0m\u001b[0m\n\u001b[1;32m     40\u001b[0m         \u001b[0mdownload_url\u001b[0m\u001b[0;34m(\u001b[0m\u001b[0mfile\u001b[0m\u001b[0;34m,\u001b[0m \u001b[0mzipped_save_path\u001b[0m\u001b[0;34m)\u001b[0m\u001b[0;34m\u001b[0m\u001b[0;34m\u001b[0m\u001b[0m\n\u001b[0;32m---> 41\u001b[0;31m         \u001b[0;32mwith\u001b[0m \u001b[0mzipfile\u001b[0m\u001b[0;34m.\u001b[0m\u001b[0mZipFile\u001b[0m\u001b[0;34m(\u001b[0m\u001b[0mzipped_save_path\u001b[0m\u001b[0;34m,\u001b[0m \u001b[0;34m'r'\u001b[0m\u001b[0;34m)\u001b[0m \u001b[0;32mas\u001b[0m \u001b[0mzipObj\u001b[0m\u001b[0;34m:\u001b[0m\u001b[0;34m\u001b[0m\u001b[0;34m\u001b[0m\u001b[0m\n\u001b[0m\u001b[1;32m     42\u001b[0m             \u001b[0mzipObj\u001b[0m\u001b[0;34m.\u001b[0m\u001b[0mextractall\u001b[0m\u001b[0;34m(\u001b[0m\u001b[0mextracted_save_path\u001b[0m\u001b[0;34m)\u001b[0m\u001b[0;34m\u001b[0m\u001b[0;34m\u001b[0m\u001b[0m\n\u001b[1;32m     43\u001b[0m \u001b[0;34m\u001b[0m\u001b[0m\n",
      "\u001b[0;32m/usr/lib/python3.7/zipfile.py\u001b[0m in \u001b[0;36m__init__\u001b[0;34m(self, file, mode, compression, allowZip64, compresslevel)\u001b[0m\n\u001b[1;32m   1220\u001b[0m         \u001b[0;32mtry\u001b[0m\u001b[0;34m:\u001b[0m\u001b[0;34m\u001b[0m\u001b[0;34m\u001b[0m\u001b[0m\n\u001b[1;32m   1221\u001b[0m             \u001b[0;32mif\u001b[0m \u001b[0mmode\u001b[0m \u001b[0;34m==\u001b[0m \u001b[0;34m'r'\u001b[0m\u001b[0;34m:\u001b[0m\u001b[0;34m\u001b[0m\u001b[0;34m\u001b[0m\u001b[0m\n\u001b[0;32m-> 1222\u001b[0;31m                 \u001b[0mself\u001b[0m\u001b[0;34m.\u001b[0m\u001b[0m_RealGetContents\u001b[0m\u001b[0;34m(\u001b[0m\u001b[0;34m)\u001b[0m\u001b[0;34m\u001b[0m\u001b[0;34m\u001b[0m\u001b[0m\n\u001b[0m\u001b[1;32m   1223\u001b[0m             \u001b[0;32melif\u001b[0m \u001b[0mmode\u001b[0m \u001b[0;32min\u001b[0m \u001b[0;34m(\u001b[0m\u001b[0;34m'w'\u001b[0m\u001b[0;34m,\u001b[0m \u001b[0;34m'x'\u001b[0m\u001b[0;34m)\u001b[0m\u001b[0;34m:\u001b[0m\u001b[0;34m\u001b[0m\u001b[0;34m\u001b[0m\u001b[0m\n\u001b[1;32m   1224\u001b[0m                 \u001b[0;31m# set the modified flag so central directory gets written\u001b[0m\u001b[0;34m\u001b[0m\u001b[0;34m\u001b[0m\u001b[0;34m\u001b[0m\u001b[0m\n",
      "\u001b[0;32m/usr/lib/python3.7/zipfile.py\u001b[0m in \u001b[0;36m_RealGetContents\u001b[0;34m(self)\u001b[0m\n\u001b[1;32m   1287\u001b[0m             \u001b[0;32mraise\u001b[0m \u001b[0mBadZipFile\u001b[0m\u001b[0;34m(\u001b[0m\u001b[0;34m\"File is not a zip file\"\u001b[0m\u001b[0;34m)\u001b[0m\u001b[0;34m\u001b[0m\u001b[0;34m\u001b[0m\u001b[0m\n\u001b[1;32m   1288\u001b[0m         \u001b[0;32mif\u001b[0m \u001b[0;32mnot\u001b[0m \u001b[0mendrec\u001b[0m\u001b[0;34m:\u001b[0m\u001b[0;34m\u001b[0m\u001b[0;34m\u001b[0m\u001b[0m\n\u001b[0;32m-> 1289\u001b[0;31m             \u001b[0;32mraise\u001b[0m \u001b[0mBadZipFile\u001b[0m\u001b[0;34m(\u001b[0m\u001b[0;34m\"File is not a zip file\"\u001b[0m\u001b[0;34m)\u001b[0m\u001b[0;34m\u001b[0m\u001b[0;34m\u001b[0m\u001b[0m\n\u001b[0m\u001b[1;32m   1290\u001b[0m         \u001b[0;32mif\u001b[0m \u001b[0mself\u001b[0m\u001b[0;34m.\u001b[0m\u001b[0mdebug\u001b[0m \u001b[0;34m>\u001b[0m \u001b[0;36m1\u001b[0m\u001b[0;34m:\u001b[0m\u001b[0;34m\u001b[0m\u001b[0;34m\u001b[0m\u001b[0m\n\u001b[1;32m   1291\u001b[0m             \u001b[0mprint\u001b[0m\u001b[0;34m(\u001b[0m\u001b[0mendrec\u001b[0m\u001b[0;34m)\u001b[0m\u001b[0;34m\u001b[0m\u001b[0;34m\u001b[0m\u001b[0m\n",
      "\u001b[0;31mBadZipFile\u001b[0m: File is not a zip file"
     ]
    }
   ],
   "source": [
    "# start_dt = pd.to_datetime(\"2020-03-01\")\n",
    "# end_dt = pd.to_datetime(\"2020-05-01\")\n",
    "\n",
    "#for date in daterange(start_dt, end_dt):\n",
    "    #print(date)\n",
    "#    print(dt.strftime(\"%Y-%m-%d\"))\n",
    "\n",
    "if not os.path.exists('figs'):\n",
    "    os.makedirs('figs')\n",
    "\n",
    "if get_data:\n",
    "    os.system(\"mkdir ssi_data_zipped\")\n",
    "    os.system(\"mkdir ssi_data\")\n",
    "    get_all_data()\n",
    "\n",
    "dk_cases_by_age_df = pd.DataFrame()\n",
    "for subdir, dirs, files in os.walk(rootdir):\n",
    "    if not len(files) == 0:\n",
    "        date = pd.to_datetime(subdir[-10:])\n",
    "        for file in files:\n",
    "            if file.lower() == \"cases_by_age.csv\":\n",
    "                cases_age = pd.read_csv(subdir + \"/\" + file, sep=\";\", decimal=\",\")\n",
    "                cases_age[\"Dato\"] = date\n",
    "                cases_age[\"Antal_bekræftede_COVID-19\"] = pd.to_numeric(cases_age[\"Antal_bekræftede_COVID-19\"].astype(str).apply(lambda x: x.replace('.','')))\n",
    "                cases_age[\"Antal_testede\"] = pd.to_numeric(cases_age[\"Antal_testede\"].astype(str).apply(lambda x: x.replace('.','')))\n",
    "                dk_cases_by_age_df = dk_cases_by_age_df.append(cases_age, ignore_index=True)\n",
    "dk_cases_by_age_df = dk_cases_by_age_df.sort_values(by=['Dato', \"Aldersgruppe\"]).reset_index(drop=True)\n",
    "dk_cases_by_age_df#.columns\n",
    "testede_alder = dk_cases_by_age_df.groupby([\"Dato\", \"Aldersgruppe\"]).sum()[\"Antal_testede\"].unstack()\n",
    "bekr_alder = dk_cases_by_age_df.groupby([\"Dato\", \"Aldersgruppe\"]).sum()[\"Antal_bekræftede_COVID-19\"].unstack()\n",
    "\n",
    "# uncomment for daily data:\n",
    "testede_alder = testede_alder.diff()\n",
    "bekr_alder = bekr_alder.diff()\n",
    "\n",
    "if get_data:\n",
    "    print(\"Data is loaded\")"
   ]
  },
  {
   "cell_type": "code",
   "execution_count": 5,
   "metadata": {},
   "outputs": [
    {
     "ename": "NameError",
     "evalue": "name 'testede_alder' is not defined",
     "output_type": "error",
     "traceback": [
      "\u001b[0;31m---------------------------------------------------------------------------\u001b[0m",
      "\u001b[0;31mNameError\u001b[0m                                 Traceback (most recent call last)",
      "\u001b[0;32m<ipython-input-5-4058b5222689>\u001b[0m in \u001b[0;36m<module>\u001b[0;34m\u001b[0m\n\u001b[1;32m      1\u001b[0m \u001b[0mscale\u001b[0m \u001b[0;34m=\u001b[0m \u001b[0;34m\"log\"\u001b[0m\u001b[0;34m\u001b[0m\u001b[0;34m\u001b[0m\u001b[0m\n\u001b[1;32m      2\u001b[0m \u001b[0mnum_cols\u001b[0m \u001b[0;34m=\u001b[0m \u001b[0;36m2\u001b[0m\u001b[0;34m\u001b[0m\u001b[0;34m\u001b[0m\u001b[0m\n\u001b[0;32m----> 3\u001b[0;31m \u001b[0mage_groups\u001b[0m \u001b[0;34m=\u001b[0m \u001b[0mtestede_alder\u001b[0m\u001b[0;34m.\u001b[0m\u001b[0mdrop\u001b[0m\u001b[0;34m(\u001b[0m\u001b[0mcolumns\u001b[0m\u001b[0;34m=\u001b[0m\u001b[0;34m\"I alt\"\u001b[0m\u001b[0;34m)\u001b[0m\u001b[0;34m.\u001b[0m\u001b[0mcolumns\u001b[0m\u001b[0;34m\u001b[0m\u001b[0;34m\u001b[0m\u001b[0m\n\u001b[0m\u001b[1;32m      4\u001b[0m \u001b[0mfig\u001b[0m\u001b[0;34m,\u001b[0m \u001b[0maxs\u001b[0m \u001b[0;34m=\u001b[0m \u001b[0mplt\u001b[0m\u001b[0;34m.\u001b[0m\u001b[0msubplots\u001b[0m\u001b[0;34m(\u001b[0m\u001b[0mint\u001b[0m\u001b[0;34m(\u001b[0m\u001b[0mlen\u001b[0m\u001b[0;34m(\u001b[0m\u001b[0mage_groups\u001b[0m\u001b[0;34m)\u001b[0m\u001b[0;34m/\u001b[0m\u001b[0mnum_cols\u001b[0m\u001b[0;34m)\u001b[0m\u001b[0;34m,\u001b[0m \u001b[0mnum_cols\u001b[0m\u001b[0;34m,\u001b[0m \u001b[0mfigsize\u001b[0m\u001b[0;34m=\u001b[0m\u001b[0;34m(\u001b[0m\u001b[0;36m16\u001b[0m\u001b[0;34m,\u001b[0m\u001b[0;36m24\u001b[0m\u001b[0;34m)\u001b[0m\u001b[0;34m)\u001b[0m\u001b[0;34m\u001b[0m\u001b[0;34m\u001b[0m\u001b[0m\n\u001b[1;32m      5\u001b[0m \u001b[0;32mfor\u001b[0m \u001b[0mi\u001b[0m \u001b[0;32min\u001b[0m \u001b[0mrange\u001b[0m\u001b[0;34m(\u001b[0m\u001b[0mlen\u001b[0m\u001b[0;34m(\u001b[0m\u001b[0mage_groups\u001b[0m\u001b[0;34m)\u001b[0m\u001b[0;34m)\u001b[0m\u001b[0;34m:\u001b[0m\u001b[0;34m\u001b[0m\u001b[0;34m\u001b[0m\u001b[0m\n",
      "\u001b[0;31mNameError\u001b[0m: name 'testede_alder' is not defined"
     ]
    }
   ],
   "source": [
    "scale = \"log\"\n",
    "num_cols = 2\n",
    "age_groups = testede_alder.drop(columns=\"I alt\").columns\n",
    "fig, axs = plt.subplots(int(len(age_groups)/num_cols), num_cols, figsize=(16,24))\n",
    "for i in range(len(age_groups)):\n",
    "    col = age_groups[i]\n",
    "    ax_row = int(i/num_cols)\n",
    "    ax_col = int(i%num_cols)\n",
    "    ax = axs[ax_row, ax_col]\n",
    "    #axs.plot(testede_alder.index, testede_alder[col].diff(), label=col)\n",
    "    ax.set_title(f\"Aldersgruppe: {col}\")\n",
    "    ax.set_xlabel(\"Dato\")\n",
    "    #ax.set_ylabel(\"Dato\")\n",
    "    ax.plot(testede_alder.index, testede_alder[col].div(testede_alder[\"I alt\"]), label=f\"Test Ratio ({col})\")\n",
    "    ax.plot(bekr_alder.index, bekr_alder[col].div(testede_alder[col]), label=f\"Pos. Ratio ({col})\")\n",
    "    ax.plot(bekr_alder.index, bekr_alder[\"I alt\"].div(testede_alder[\"I alt\"]), label=f\"Total Pos. Ratio\")\n",
    "    #ticks_loc = ax.get_xticklabels()#.tolist()\n",
    "    #print(ticks_loc)\n",
    "    #ax.set_xticklabels(ax.get_xticklabels(), rotation=45, ha='right')\n",
    "    plt.setp(ax.get_xticklabels(), rotation=45, ha='right')\n",
    "    ax.legend()\n",
    "plt.tight_layout()\n",
    "#plt.set_xticklabels(ticks_loc, rotation=45, ha='right')\n",
    "\n",
    "plt.savefig(\"figs/regional_dk_testdata.pdf\")\n",
    "plt.savefig(\"figs/regional_dk_testdata.png\")\n"
   ]
  },
  {
   "cell_type": "code",
   "execution_count": null,
   "metadata": {},
   "outputs": [],
   "source": []
  },
  {
   "cell_type": "code",
   "execution_count": null,
   "metadata": {},
   "outputs": [],
   "source": []
  },
  {
   "cell_type": "code",
   "execution_count": null,
   "metadata": {},
   "outputs": [],
   "source": []
  }
 ],
 "metadata": {
  "kernelspec": {
   "display_name": "Python 3",
   "language": "python",
   "name": "python3"
  },
  "language_info": {
   "codemirror_mode": {
    "name": "ipython",
    "version": 3
   },
   "file_extension": ".py",
   "mimetype": "text/x-python",
   "name": "python",
   "nbconvert_exporter": "python",
   "pygments_lexer": "ipython3",
   "version": "3.7.3"
  }
 },
 "nbformat": 4,
 "nbformat_minor": 4
}
