{
 "metadata": {
  "language_info": {
   "codemirror_mode": {
    "name": "ipython",
    "version": 3
   },
   "file_extension": ".py",
   "mimetype": "text/x-python",
   "name": "python",
   "nbconvert_exporter": "python",
   "pygments_lexer": "ipython3",
   "version": "3.8.5"
  },
  "orig_nbformat": 2,
  "kernelspec": {
   "name": "python385jvsc74a57bd0c72cdf52cb3d31f207bca538e9396da8706c0ecf4a3038fb1c2b317934170431",
   "display_name": "Python 3.8.5 64-bit ('main': conda)"
  }
 },
 "nbformat": 4,
 "nbformat_minor": 2,
 "cells": [
  {
   "cell_type": "code",
   "execution_count": 1,
   "metadata": {},
   "outputs": [
    {
     "output_type": "stream",
     "name": "stdout",
     "text": [
      "saveFigures is set to: True\nDone loading packages\n"
     ]
    }
   ],
   "source": [
    "# Notebook for estimating a case-hospitalization rate, per age\n",
    "import numpy as np\n",
    "import pandas as pd\n",
    "pd.set_option('display.max_rows', 500)\n",
    "pd.set_option('display.min_rows', 50)\n",
    "\n",
    "\n",
    "import matplotlib.pyplot as plt\n",
    "%matplotlib widget\n",
    "plt.rcParams['figure.figsize'] = (12,8)\n",
    "# plt.rcParams[\"image.cmap\"] = \"Dark2\"\n",
    "# plt.rcParams['axes.prop_cycle'] = plt.cycler(color=plt.cm.Dark2.colors)\n",
    "plt.rcParams[\"image.cmap\"] = \"tab10\"\n",
    "plt.rcParams['axes.prop_cycle'] = plt.cycler(color=plt.cm.tab10.colors)\n",
    "plt.rcParams['lines.markersize'] = 10\n",
    "plt.rcParams['lines.linewidth'] = 3\n",
    "%matplotlib widget\n",
    "# plt.style.use('ggplot')\n",
    "import matplotlib.colors as colors\n",
    "# cmap = plt.cm.get_cmap('Dark2',len(ageGroups))\n",
    "from matplotlib import cm # Colormaps\n",
    "\n",
    "import locale\n",
    "import matplotlib.dates as mdates\n",
    "locale.setlocale(locale.LC_TIME,\"Danish\")\n",
    "# ax = plt.gca()\n",
    "# ax1.xaxis.set_major_formatter(mdates.DateFormatter('%b\\n%Y'))\n",
    "# ax1.xaxis.set_major_formatter(mdates.DateFormatter('%d\\n%b'))\n",
    "\n",
    "import os\n",
    "# import csv\n",
    "import math\n",
    "\n",
    "\n",
    "from datetime import date\n",
    "\n",
    "\n",
    "saveFigures = True\n",
    "print('saveFigures is set to: '+str(saveFigures))\n",
    "\n",
    "print('Done loading packages')\n",
    "\n",
    "def rnMean(data,meanWidth):\n",
    "    return np.convolve(data, np.ones(meanWidth)/meanWidth, mode='valid')\n",
    "def rnTime(t,meanWidth):\n",
    "    return t[math.floor(meanWidth/2):-math.ceil(meanWidth/2)+1]"
   ]
  },
  {
   "cell_type": "code",
   "execution_count": 2,
   "metadata": {},
   "outputs": [],
   "source": [
    "ssidatapath = \"ssi_data\"\n",
    "rootdir = os.getcwd() +\"/\" + ssidatapath"
   ]
  },
  {
   "cell_type": "code",
   "execution_count": 3,
   "metadata": {},
   "outputs": [],
   "source": [
    "dfAdm = pd.read_excel('Admitted\\Admitted.xlsx')\n",
    "dfAdm = dfAdm.transpose()\n",
    "dfAdm.columns = dfAdm.iloc[0]\n",
    "dfAdm = dfAdm.drop(['Aldersgruppe']) \n",
    "curDates =  pd.to_datetime(dfAdm.index,format='%d_%m_%Y')"
   ]
  },
  {
   "cell_type": "code",
   "execution_count": 6,
   "metadata": {},
   "outputs": [],
   "source": [
    "# dfCase = pd.read_csv(latestdir+'\\\\Cases_by_age.csv',delimiter=';')\n",
    "dfCase = pd.DataFrame(columns=dfAdm.columns)\n",
    "dfTest = pd.DataFrame(columns=dfAdm.columns)\n",
    "dfPosP = pd.DataFrame(columns=dfAdm.columns)"
   ]
  },
  {
   "cell_type": "code",
   "execution_count": 8,
   "metadata": {},
   "outputs": [],
   "source": [
    "# for d in curDates:\n",
    "for k in range(0,len(curDates)):\n",
    "    d = curDates[k]\n",
    "    curIndex = dfAdm.index[k]\n",
    "\n",
    "    thisDateStr = d.strftime('%Y-%m-%d')\n",
    "    curDir = rootdir + '/SSI_data_' + thisDateStr \n",
    "    curFilePath = curDir + '/Cases_by_age.csv'\n",
    "    curdf = pd.read_csv(curFilePath,delimiter=';',dtype=str)\n",
    "\n",
    "\n",
    "    curdf['Antal_bekræftede_COVID-19'] = pd.to_numeric(curdf['Antal_bekræftede_COVID-19'].astype(str).apply(lambda x: x.replace('.','')))\n",
    "    curdf['Antal_testede'] = pd.to_numeric(curdf['Antal_testede'].astype(str).apply(lambda x: x.replace('.','')))\n",
    "    curdf['Procent_positive'] = pd.to_numeric(curdf['Procent_positive'].astype(str).apply(lambda x: x.replace(',','.')))\n",
    "\n",
    "    dfCase.loc[curIndex] = curdf['Antal_bekræftede_COVID-19'].values\n",
    "    dfTest.loc[curIndex] = curdf['Antal_testede'].values\n",
    "    dfPosP.loc[curIndex] = curdf['Procent_positive'].values\n",
    "\n"
   ]
  },
  {
   "cell_type": "code",
   "execution_count": 14,
   "metadata": {},
   "outputs": [
    {
     "output_type": "execute_result",
     "data": {
      "text/plain": [
       "Aldersgruppe 0-9 10-19 20-29 30-39 40-49 50-59 60-69 70-79 80-89 90+ I alt\n",
       "17_11_2020     2     4    13    18    26    49    55    63    42  14   286\n",
       "24_11_2020     8     1    16    19    28    49    50    59    70  11   311\n",
       "01_12_2020     4     1     7    12    32    45    33    63    59  15   271\n",
       "08_12_2020     6     7    23    32    41    61    67   110    80  21   448\n",
       "15_12_2020    12    14    27    48    59   102   116   120   103  36   637\n",
       "22_12_2020    22    15    42    70    95   143   152   236   185  54  1014\n",
       "29_12_2020    15    12    48    50    98   148   170   285   212  61  1099\n",
       "05_01_2021     5    14    37    58    72   121   161   211   224  73   976\n",
       "12_01_2021    12     6    33    37    49   108   116   206   211  58   836\n",
       "19_01_2021    12     3    15    32    46    87    97   167   152  57   668\n",
       "26_01_2021     4     5    13    27    53    59    78   116   141  21   517\n",
       "02_02_2021     3     4    14    28    32    30    50    85    67  30   343\n",
       "09_02_2021     5     3    12    12    19    25    39    59    35  14   223\n",
       "16_02_2021     7     4     8    17    19    33    28    48    29   8   201\n",
       "23_02_2021     7     3    11    14    16    29    31    26    37   5   179\n",
       "02_03_2021     3     5    11    23    22    38    30    27    21   9   189\n",
       "09_03_2021     1     5    11    21    33    30    38    38    24   3   204\n",
       "15_03_2021     2     4    15    18    25    45    28    31    15   1   184\n",
       "23_03_2021     3     4    10    17    30    51    33    34    19   3   204\n",
       "30_03_2021     5     4    24    24    32    53    35    51    17   2   247\n",
       "06_04_2021     4     3    12    26    47    51    29    39    17   1   229\n",
       "13_04_2021     1     5    19    26    35    51    30    35    13   2   217\n",
       "20_04_2021     9     4    23    32    37    44    39    43    12   2   245\n",
       "27_04_2021     5     5    18    30    32    46    34    24     9   2   205\n",
       "04_05_2021     1     5    13    32    35    50    40    24     7   3   210"
      ],
      "text/html": "<div>\n<style scoped>\n    .dataframe tbody tr th:only-of-type {\n        vertical-align: middle;\n    }\n\n    .dataframe tbody tr th {\n        vertical-align: top;\n    }\n\n    .dataframe thead th {\n        text-align: right;\n    }\n</style>\n<table border=\"1\" class=\"dataframe\">\n  <thead>\n    <tr style=\"text-align: right;\">\n      <th>Aldersgruppe</th>\n      <th>0-9</th>\n      <th>10-19</th>\n      <th>20-29</th>\n      <th>30-39</th>\n      <th>40-49</th>\n      <th>50-59</th>\n      <th>60-69</th>\n      <th>70-79</th>\n      <th>80-89</th>\n      <th>90+</th>\n      <th>I alt</th>\n    </tr>\n  </thead>\n  <tbody>\n    <tr>\n      <th>17_11_2020</th>\n      <td>2</td>\n      <td>4</td>\n      <td>13</td>\n      <td>18</td>\n      <td>26</td>\n      <td>49</td>\n      <td>55</td>\n      <td>63</td>\n      <td>42</td>\n      <td>14</td>\n      <td>286</td>\n    </tr>\n    <tr>\n      <th>24_11_2020</th>\n      <td>8</td>\n      <td>1</td>\n      <td>16</td>\n      <td>19</td>\n      <td>28</td>\n      <td>49</td>\n      <td>50</td>\n      <td>59</td>\n      <td>70</td>\n      <td>11</td>\n      <td>311</td>\n    </tr>\n    <tr>\n      <th>01_12_2020</th>\n      <td>4</td>\n      <td>1</td>\n      <td>7</td>\n      <td>12</td>\n      <td>32</td>\n      <td>45</td>\n      <td>33</td>\n      <td>63</td>\n      <td>59</td>\n      <td>15</td>\n      <td>271</td>\n    </tr>\n    <tr>\n      <th>08_12_2020</th>\n      <td>6</td>\n      <td>7</td>\n      <td>23</td>\n      <td>32</td>\n      <td>41</td>\n      <td>61</td>\n      <td>67</td>\n      <td>110</td>\n      <td>80</td>\n      <td>21</td>\n      <td>448</td>\n    </tr>\n    <tr>\n      <th>15_12_2020</th>\n      <td>12</td>\n      <td>14</td>\n      <td>27</td>\n      <td>48</td>\n      <td>59</td>\n      <td>102</td>\n      <td>116</td>\n      <td>120</td>\n      <td>103</td>\n      <td>36</td>\n      <td>637</td>\n    </tr>\n    <tr>\n      <th>22_12_2020</th>\n      <td>22</td>\n      <td>15</td>\n      <td>42</td>\n      <td>70</td>\n      <td>95</td>\n      <td>143</td>\n      <td>152</td>\n      <td>236</td>\n      <td>185</td>\n      <td>54</td>\n      <td>1014</td>\n    </tr>\n    <tr>\n      <th>29_12_2020</th>\n      <td>15</td>\n      <td>12</td>\n      <td>48</td>\n      <td>50</td>\n      <td>98</td>\n      <td>148</td>\n      <td>170</td>\n      <td>285</td>\n      <td>212</td>\n      <td>61</td>\n      <td>1099</td>\n    </tr>\n    <tr>\n      <th>05_01_2021</th>\n      <td>5</td>\n      <td>14</td>\n      <td>37</td>\n      <td>58</td>\n      <td>72</td>\n      <td>121</td>\n      <td>161</td>\n      <td>211</td>\n      <td>224</td>\n      <td>73</td>\n      <td>976</td>\n    </tr>\n    <tr>\n      <th>12_01_2021</th>\n      <td>12</td>\n      <td>6</td>\n      <td>33</td>\n      <td>37</td>\n      <td>49</td>\n      <td>108</td>\n      <td>116</td>\n      <td>206</td>\n      <td>211</td>\n      <td>58</td>\n      <td>836</td>\n    </tr>\n    <tr>\n      <th>19_01_2021</th>\n      <td>12</td>\n      <td>3</td>\n      <td>15</td>\n      <td>32</td>\n      <td>46</td>\n      <td>87</td>\n      <td>97</td>\n      <td>167</td>\n      <td>152</td>\n      <td>57</td>\n      <td>668</td>\n    </tr>\n    <tr>\n      <th>26_01_2021</th>\n      <td>4</td>\n      <td>5</td>\n      <td>13</td>\n      <td>27</td>\n      <td>53</td>\n      <td>59</td>\n      <td>78</td>\n      <td>116</td>\n      <td>141</td>\n      <td>21</td>\n      <td>517</td>\n    </tr>\n    <tr>\n      <th>02_02_2021</th>\n      <td>3</td>\n      <td>4</td>\n      <td>14</td>\n      <td>28</td>\n      <td>32</td>\n      <td>30</td>\n      <td>50</td>\n      <td>85</td>\n      <td>67</td>\n      <td>30</td>\n      <td>343</td>\n    </tr>\n    <tr>\n      <th>09_02_2021</th>\n      <td>5</td>\n      <td>3</td>\n      <td>12</td>\n      <td>12</td>\n      <td>19</td>\n      <td>25</td>\n      <td>39</td>\n      <td>59</td>\n      <td>35</td>\n      <td>14</td>\n      <td>223</td>\n    </tr>\n    <tr>\n      <th>16_02_2021</th>\n      <td>7</td>\n      <td>4</td>\n      <td>8</td>\n      <td>17</td>\n      <td>19</td>\n      <td>33</td>\n      <td>28</td>\n      <td>48</td>\n      <td>29</td>\n      <td>8</td>\n      <td>201</td>\n    </tr>\n    <tr>\n      <th>23_02_2021</th>\n      <td>7</td>\n      <td>3</td>\n      <td>11</td>\n      <td>14</td>\n      <td>16</td>\n      <td>29</td>\n      <td>31</td>\n      <td>26</td>\n      <td>37</td>\n      <td>5</td>\n      <td>179</td>\n    </tr>\n    <tr>\n      <th>02_03_2021</th>\n      <td>3</td>\n      <td>5</td>\n      <td>11</td>\n      <td>23</td>\n      <td>22</td>\n      <td>38</td>\n      <td>30</td>\n      <td>27</td>\n      <td>21</td>\n      <td>9</td>\n      <td>189</td>\n    </tr>\n    <tr>\n      <th>09_03_2021</th>\n      <td>1</td>\n      <td>5</td>\n      <td>11</td>\n      <td>21</td>\n      <td>33</td>\n      <td>30</td>\n      <td>38</td>\n      <td>38</td>\n      <td>24</td>\n      <td>3</td>\n      <td>204</td>\n    </tr>\n    <tr>\n      <th>15_03_2021</th>\n      <td>2</td>\n      <td>4</td>\n      <td>15</td>\n      <td>18</td>\n      <td>25</td>\n      <td>45</td>\n      <td>28</td>\n      <td>31</td>\n      <td>15</td>\n      <td>1</td>\n      <td>184</td>\n    </tr>\n    <tr>\n      <th>23_03_2021</th>\n      <td>3</td>\n      <td>4</td>\n      <td>10</td>\n      <td>17</td>\n      <td>30</td>\n      <td>51</td>\n      <td>33</td>\n      <td>34</td>\n      <td>19</td>\n      <td>3</td>\n      <td>204</td>\n    </tr>\n    <tr>\n      <th>30_03_2021</th>\n      <td>5</td>\n      <td>4</td>\n      <td>24</td>\n      <td>24</td>\n      <td>32</td>\n      <td>53</td>\n      <td>35</td>\n      <td>51</td>\n      <td>17</td>\n      <td>2</td>\n      <td>247</td>\n    </tr>\n    <tr>\n      <th>06_04_2021</th>\n      <td>4</td>\n      <td>3</td>\n      <td>12</td>\n      <td>26</td>\n      <td>47</td>\n      <td>51</td>\n      <td>29</td>\n      <td>39</td>\n      <td>17</td>\n      <td>1</td>\n      <td>229</td>\n    </tr>\n    <tr>\n      <th>13_04_2021</th>\n      <td>1</td>\n      <td>5</td>\n      <td>19</td>\n      <td>26</td>\n      <td>35</td>\n      <td>51</td>\n      <td>30</td>\n      <td>35</td>\n      <td>13</td>\n      <td>2</td>\n      <td>217</td>\n    </tr>\n    <tr>\n      <th>20_04_2021</th>\n      <td>9</td>\n      <td>4</td>\n      <td>23</td>\n      <td>32</td>\n      <td>37</td>\n      <td>44</td>\n      <td>39</td>\n      <td>43</td>\n      <td>12</td>\n      <td>2</td>\n      <td>245</td>\n    </tr>\n    <tr>\n      <th>27_04_2021</th>\n      <td>5</td>\n      <td>5</td>\n      <td>18</td>\n      <td>30</td>\n      <td>32</td>\n      <td>46</td>\n      <td>34</td>\n      <td>24</td>\n      <td>9</td>\n      <td>2</td>\n      <td>205</td>\n    </tr>\n    <tr>\n      <th>04_05_2021</th>\n      <td>1</td>\n      <td>5</td>\n      <td>13</td>\n      <td>32</td>\n      <td>35</td>\n      <td>50</td>\n      <td>40</td>\n      <td>24</td>\n      <td>7</td>\n      <td>3</td>\n      <td>210</td>\n    </tr>\n  </tbody>\n</table>\n</div>"
     },
     "metadata": {},
     "execution_count": 14
    }
   ],
   "source": [
    "dfCaseDiff = dfCase.diff().iloc[1:]\n",
    "dfAdmDiff = dfAdm.diff().iloc[1:]\n",
    "dfCaseDiff\n",
    "dfAdmDiff"
   ]
  },
  {
   "cell_type": "code",
   "execution_count": 62,
   "metadata": {},
   "outputs": [],
   "source": [
    "caseAdmRate = np.divide(dfAdmDiff.iloc[1:].values,dfCaseDiff[:-1])\n",
    "# caseAdmRate = np.divide(dfAdmDiff.iloc[2:].values,dfCaseDiff[:-2])\n",
    "# dfCaseDiff.iloc[:-1]\n",
    "# dfAdmDiff.iloc[1:]"
   ]
  },
  {
   "cell_type": "code",
   "execution_count": 142,
   "metadata": {},
   "outputs": [
    {
     "output_type": "display_data",
     "data": {
      "text/plain": "Canvas(toolbar=Toolbar(toolitems=[('Home', 'Reset original view', 'home', 'home'), ('Back', 'Back to previous …",
      "application/vnd.jupyter.widget-view+json": {
       "version_major": 2,
       "version_minor": 0,
       "model_id": "416e5c8a7afd4151930da721c1b24ef6"
      }
     },
     "metadata": {}
    }
   ],
   "source": [
    "# caseAdmRate.mean()\n",
    "\n",
    "# allCols = caseAdmRate.columns[:-1]\n",
    "allCols = caseAdmRate.columns\n",
    "\n",
    "plotDates = curDates[2:]\n",
    "# plotDates = curDates[3:]\n",
    "\n",
    "fig,ax1 = plt.subplots()\n",
    "\n",
    "finalEstimates = []\n",
    "\n",
    "numToShow = len(allCols)-1\n",
    "numToShow = len(allCols)-4\n",
    "cmap = plt.cm.get_cmap('Dark2',numToShow)\n",
    "for k in range(0,numToShow):\n",
    "    curCol = allCols[k]\n",
    "\n",
    "    ax1.plot(plotDates,100*caseAdmRate[curCol],'.:',markersize=3,linewidth=0.75,color=cmap(k))\n",
    "    meanWidth = 4\n",
    "    ax1.plot(rnTime(plotDates,meanWidth),rnMean(100*caseAdmRate[curCol],meanWidth),color=cmap(k),label=curCol)\n",
    "\n",
    "    # Collect the final mean values\n",
    "    curFinalMean = rnMean(100*caseAdmRate[curCol],meanWidth)[-1]\n",
    "    finalEstimates.append(curFinalMean)\n",
    "\n",
    "ax1.legend()\n",
    "ax1.set_ylim([0,20])\n",
    "# ax1.set_ylim([0,100])\n",
    "# ax1.set_ylim(bottom=0)\n",
    "ax1.set_xlim([plotDates[0],plotDates[-1]])\n",
    "\n",
    "ax1.xaxis.set_major_formatter(mdates.DateFormatter('%b'))\n",
    "\n",
    "curFont = 18\n",
    "ax1.set_ylabel('Indlæggelser per tilfælde ugen før [%]',fontsize=curFont)\n",
    "plt.xticks(fontsize=curFont)\n",
    "plt.yticks(fontsize=curFont)\n",
    "plt.grid()\n",
    "\n",
    "plt.tight_layout()\n",
    "\n",
    "if saveFigures:\n",
    "    plt.savefig('figs/case_hospitalization_per_time')"
   ]
  },
  {
   "cell_type": "code",
   "execution_count": 144,
   "metadata": {},
   "outputs": [],
   "source": [
    "# caseAdmRate.mean()\n",
    "\n",
    "# allCols = caseAdmRate.columns[:-1]\n",
    "allCols = caseAdmRate.columns\n",
    "\n",
    "plotDates = curDates[2:]\n",
    "# plotDates = curDates[3:]\n",
    "\n",
    "# fig,ax1 = plt.subplots()\n",
    "\n",
    "finalEstimates = []\n",
    "\n",
    "numToShow = len(allCols)-1\n",
    "# numToShow = len(allCols)-4\n",
    "cmap = plt.cm.get_cmap('Dark2',numToShow)\n",
    "for k in range(0,numToShow):\n",
    "    curCol = allCols[k]\n",
    "\n",
    "    # ax1.plot(plotDates,100*caseAdmRate[curCol],'.:',markersize=3,linewidth=0.75,color=cmap(k))\n",
    "    meanWidth = 4\n",
    "    # ax1.plot(rnTime(plotDates,meanWidth),rnMean(100*caseAdmRate[curCol],meanWidth),color=cmap(k),label=curCol)\n",
    "\n",
    "    # Collect the final mean values\n",
    "    curFinalMean = rnMean(100*caseAdmRate[curCol],meanWidth)[-1]\n",
    "    finalEstimates.append(curFinalMean)\n",
    "\n",
    "# ax1.legend()\n",
    "# ax1.set_ylim([0,20])\n",
    "# # ax1.set_ylim([0,100])\n",
    "# # ax1.set_ylim(bottom=0)\n",
    "# ax1.set_xlim([plotDates[0],plotDates[-1]])\n",
    "\n",
    "# ax1.xaxis.set_major_formatter(mdates.DateFormatter('%b'))\n",
    "\n",
    "# curFont = 18\n",
    "# ax1.set_ylabel('Indlæggelser per tilfælde ugen før [%]',fontsize=curFont)\n",
    "# plt.xticks(fontsize=curFont)\n",
    "# plt.yticks(fontsize=curFont)\n",
    "# plt.grid()\n",
    "\n",
    "# plt.tight_layout()\n",
    "\n",
    "# if saveFigures:\n",
    "#     plt.savefig('figs/case_hospitalization_per_time')"
   ]
  },
  {
   "cell_type": "code",
   "execution_count": 145,
   "metadata": {},
   "outputs": [
    {
     "output_type": "stream",
     "name": "stdout",
     "text": [
      "Alderstrin:   0-9: 0.9 %\nAlderstrin: 10-19: 0.6 %\nAlderstrin: 20-29: 2.0 %\nAlderstrin: 30-39: 4.2 %\nAlderstrin: 40-49: 4.9 %\nAlderstrin: 50-59: 7.8 %\nAlderstrin: 60-69: 12.6 %\nAlderstrin: 70-79: 22.3 %\nAlderstrin: 80-89: 30.6 %\nAlderstrin: 90+: 38.0 %\n"
     ]
    }
   ],
   "source": [
    "# print(allCols.values[:numToShow])\n",
    "# print(finalEstimates)\n",
    "print(f'Alderstrin:   {allCols.values[0]}: {finalEstimates[0]:.1f} %')\n",
    "for k in range(1,numToShow):\n",
    "    print(f'Alderstrin: {allCols.values[k]}: {finalEstimates[k]:.1f} %')"
   ]
  },
  {
   "cell_type": "code",
   "execution_count": 146,
   "metadata": {},
   "outputs": [
    {
     "output_type": "display_data",
     "data": {
      "text/plain": "Canvas(toolbar=Toolbar(toolitems=[('Home', 'Reset original view', 'home', 'home'), ('Back', 'Back to previous …",
      "application/vnd.jupyter.widget-view+json": {
       "version_major": 2,
       "version_minor": 0,
       "model_id": "1396a974541f44ba9f8e16781dd62ae5"
      }
     },
     "metadata": {}
    }
   ],
   "source": [
    "plt.figure()\n",
    "plt.bar(range(0,numToShow),finalEstimates,color='k')\n",
    "\n",
    "for i,v in enumerate(finalEstimates):\n",
    "    plt.text(i,v+0.5,f'{v:.1f} %',fontsize=14,va='center',ha='center')\n",
    "\n",
    "curFont = 18\n",
    "plt.yticks(fontsize=curFont-2)\n",
    "plt.xticks(range(0,numToShow),labels=allCols.values[:-1],fontsize=curFont-2)\n",
    "plt.ylabel('Indlæggelser per tilfælde ugen før [%]',fontsize=curFont)\n",
    "plt.xlabel('Alderstrin',fontsize=curFont)\n",
    "\n",
    "plt.title('4 ugers gennemsnit op til '+plotDates[-1].strftime('%d. %b'))\n",
    "plt.tight_layout()\n",
    "\n",
    "if saveFigures:\n",
    "    plt.savefig('figs/HospitalizationPerAge')"
   ]
  },
  {
   "cell_type": "code",
   "execution_count": 129,
   "metadata": {},
   "outputs": [],
   "source": [
    "# Calculation of size of age-group\n",
    "dfAges = pd.read_excel('DKfolketal2021clean.xlsx')"
   ]
  },
  {
   "cell_type": "code",
   "execution_count": 158,
   "metadata": {},
   "outputs": [
    {
     "output_type": "execute_result",
     "data": {
      "text/plain": [
       "array([610210, 680040, 778740, 696679, 748824, 801166, 667583, 574697,\n",
       "       236648,  45458], dtype=int64)"
      ]
     },
     "metadata": {},
     "execution_count": 158
    }
   ],
   "source": [
    "DK_age = []\n",
    "DK_age.append(dfAges.iloc[0:10].Antal.sum())\n",
    "DK_age.append(dfAges.iloc[10:20].Antal.sum())\n",
    "DK_age.append(dfAges.iloc[20:30].Antal.sum())\n",
    "DK_age.append(dfAges.iloc[30:40].Antal.sum())\n",
    "DK_age.append(dfAges.iloc[40:50].Antal.sum())\n",
    "DK_age.append(dfAges.iloc[50:60].Antal.sum())\n",
    "DK_age.append(dfAges.iloc[60:70].Antal.sum())\n",
    "DK_age.append(dfAges.iloc[70:80].Antal.sum())\n",
    "DK_age.append(dfAges.iloc[80:90].Antal.sum())\n",
    "DK_age.append(dfAges.iloc[90:].Antal.sum())\n",
    "DK_age = np.array(DK_age)\n",
    "DK_age"
   ]
  },
  {
   "cell_type": "code",
   "execution_count": 187,
   "metadata": {},
   "outputs": [
    {
     "output_type": "stream",
     "name": "stdout",
     "text": [
      "0.09176470588235293\n[55995.74117647 62403.67058824 71460.84705882 63930.54352941\n 68715.61411765 73518.76235294 61260.55764706 52736.90117647\n 21715.93411765  4171.44      ]\n"
     ]
    }
   ],
   "source": [
    "# R0 = 2.5\n",
    "# R0 = 2.5 * 1.5\n",
    "R0 = 1.7\n",
    "herdImmunityThreshold = 1-(1/R0)\n",
    "\n",
    "vaccPerc = 0.010\n",
    "immuPerc = 0.08\n",
    "vaccPerc = 0.24\n",
    "immuPerc = 0.08\n",
    "\n",
    "vaccPercList = [0,0.008,0.10,0.131,0.18,0.21,0.52,0.93,0.95,0.94]\n",
    "herdImmunityThresholdList = np.\n",
    "\n",
    "missingToInfectPerc = herdImmunityThreshold - vaccPerc - immuPerc\n",
    "print(missingToInfectPerc)\n",
    "missingToInfect = np.multiply(missingToInfectPerc,DK_age)\n",
    "print(missingToInfect)\n",
    "\n",
    "missingToInfect\n",
    "\n"
   ]
  },
  {
   "cell_type": "code",
   "execution_count": 188,
   "metadata": {},
   "outputs": [
    {
     "output_type": "stream",
     "name": "stdout",
     "text": [
      "['0-9' '10-19' '20-29' '30-39' '40-49' '50-59' '60-69' '70-79' '80-89'\n '90+']\n[  499.   343.  1447.  2683.  3390.  5745.  7724. 11752.  6645.  1587.]\n"
     ]
    },
    {
     "output_type": "execute_result",
     "data": {
      "text/plain": [
       "14107.0"
      ]
     },
     "metadata": {},
     "execution_count": 188
    }
   ],
   "source": [
    "toAdm = np.round(np.multiply(missingToInfect,np.multiply(finalEstimates,0.01)))\n",
    "print(allCols.values[:-1])\n",
    "print(toAdm)\n",
    "toAdm[0:6].sum()"
   ]
  }
 ]
}