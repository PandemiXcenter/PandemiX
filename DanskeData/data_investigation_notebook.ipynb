{
 "metadata": {
  "language_info": {
   "codemirror_mode": {
    "name": "ipython",
    "version": 3
   },
   "file_extension": ".py",
   "mimetype": "text/x-python",
   "name": "python",
   "nbconvert_exporter": "python",
   "pygments_lexer": "ipython3",
   "version": "3.8.5"
  },
  "orig_nbformat": 2,
  "kernelspec": {
   "name": "python385jvsc74a57bd0c72cdf52cb3d31f207bca538e9396da8706c0ecf4a3038fb1c2b317934170431",
   "display_name": "Python 3.8.5 64-bit ('main': conda)"
  }
 },
 "nbformat": 4,
 "nbformat_minor": 2,
 "cells": [
  {
   "cell_type": "code",
   "execution_count": 1,
   "metadata": {},
   "outputs": [
    {
     "output_type": "stream",
     "name": "stdout",
     "text": [
      "saveFigures is set to: True\nDone loading packages\n"
     ]
    }
   ],
   "source": [
    "# Main notebook for playing around looking at different things in data\n",
    "import numpy as np\n",
    "import pandas as pd\n",
    "pd.set_option('display.max_rows', 500)\n",
    "pd.set_option('display.min_rows', 50)\n",
    "\n",
    "\n",
    "import matplotlib.pyplot as plt\n",
    "%matplotlib widget\n",
    "plt.rcParams['figure.figsize'] = (12,8)\n",
    "# plt.rcParams[\"image.cmap\"] = \"Dark2\"\n",
    "# plt.rcParams['axes.prop_cycle'] = plt.cycler(color=plt.cm.Dark2.colors)\n",
    "plt.rcParams[\"image.cmap\"] = \"tab10\"\n",
    "plt.rcParams['axes.prop_cycle'] = plt.cycler(color=plt.cm.tab10.colors)\n",
    "plt.rcParams['lines.markersize'] = 10\n",
    "plt.rcParams['lines.linewidth'] = 3\n",
    "%matplotlib widget\n",
    "# plt.style.use('ggplot')\n",
    "import matplotlib.colors as colors\n",
    "# cmap = plt.cm.get_cmap('Dark2',len(ageGroups))\n",
    "from matplotlib import cm # Colormaps\n",
    "\n",
    "import locale\n",
    "import matplotlib.dates as mdates\n",
    "locale.setlocale(locale.LC_TIME,\"Danish\")\n",
    "# ax = plt.gca()\n",
    "# ax1.xaxis.set_major_formatter(mdates.DateFormatter('%b\\n%Y'))\n",
    "# # ax.xaxis.set_major_formatter(mdates.DateFormatter('%Y \\n %B'))\n",
    "\n",
    "import os\n",
    "# import csv\n",
    "import math\n",
    "\n",
    "\n",
    "from datetime import date\n",
    "\n",
    "\n",
    "saveFigures = True\n",
    "print('saveFigures is set to: '+str(saveFigures))\n",
    "\n",
    "print('Done loading packages')\n",
    "\n",
    "def rnMean(data,meanWidth):\n",
    "    return np.convolve(data, np.ones(meanWidth)/meanWidth, mode='valid')\n",
    "def rnTime(t,meanWidth):\n",
    "    return t[math.floor(meanWidth/2):-math.ceil(meanWidth/2)+1]\n"
   ]
  },
  {
   "cell_type": "code",
   "execution_count": 2,
   "metadata": {},
   "outputs": [
    {
     "output_type": "stream",
     "name": "stdout",
     "text": [
      "c:\\Users\\rakrpe\\Documents\\PandemiX\\GithubRepos\\PandemiX\\DanskeData/ssi_data\\SSI_data_2021-05-06\n2021-05-06 00:00:00\n"
     ]
    }
   ],
   "source": [
    "ssidatapath = \"ssi_data\"\n",
    "rootdir = os.getcwd() +\"/\" + ssidatapath\n",
    "\n",
    "\n",
    "for subdir, dirs, files in os.walk(rootdir):\n",
    "    if not len(files) == 0:\n",
    "        latestdir = subdir\n",
    "        latestDate = pd.to_datetime(subdir[-10:])\n",
    "\n",
    "print(latestdir)\n",
    "print(latestDate)\n",
    "\n",
    "# latestdir = rootdir+ '/SSI_data_2021-04-29'\n",
    "# latestDate = pd.to_datetime(latestdir[-10:])\n",
    "\n",
    "# print(latestdir)\n",
    "# print(latestDate)"
   ]
  },
  {
   "cell_type": "code",
   "execution_count": 3,
   "metadata": {},
   "outputs": [],
   "source": [
    "# Load the data\n",
    "fulldfPCR = pd.read_csv(latestdir+'/Test_pos_over_time.csv',delimiter = ';',dtype=str)\n",
    "fulldf = pd.read_csv(latestdir+'/Test_pos_over_time_antigen.csv',delimiter = ';',dtype=str)\n",
    "\n",
    "# # Cut out the last two rows of summary numbers\n",
    "dfPCR = fulldfPCR.iloc[:-2,:].copy()\n",
    "df = fulldf.iloc[:-2,:].copy()"
   ]
  },
  {
   "cell_type": "code",
   "execution_count": 4,
   "metadata": {},
   "outputs": [],
   "source": [
    "dfPCR[\"PosPct\"] = pd.to_numeric(dfPCR[\"PosPct\"].astype(str).apply(lambda x: x.replace(',','.')))\n",
    "dfPCR[\"Date\"] = dfPCR[\"Date\"].astype('datetime64[D]')\n",
    "df[\"PosPct\"] = pd.to_numeric(df[\"PosPct\"].astype(str).apply(lambda x: x.replace(',','.')))\n",
    "df[\"Date\"] = df[\"Date\"].astype('datetime64[D]')\n",
    "\n",
    "rows_to_fix_period_in = [\"NewPositive\",\"NotPrevPos\",\"PrevPos\",\"Tested\",\"Tested_kumulativ\"]\n",
    "for name in rows_to_fix_period_in:\n",
    "    df[name] = pd.to_numeric(df[name].astype(str).apply(lambda x: x.replace('.','')))\n",
    "    dfPCR[name] = pd.to_numeric(dfPCR[name].astype(str).apply(lambda x: x.replace('.','')))\n"
   ]
  },
  {
   "cell_type": "code",
   "execution_count": 5,
   "metadata": {},
   "outputs": [],
   "source": [
    "# Load the data\n",
    "\n",
    "df2 = pd.read_csv(latestdir+'/Antigentests_pr_dag.csv',delimiter = ';')\n",
    "\n",
    "# # Remove the first two rows which are from april 2020\n",
    "# df2 = df2.iloc[2:,:].copy()"
   ]
  },
  {
   "cell_type": "code",
   "execution_count": 6,
   "metadata": {},
   "outputs": [],
   "source": [
    "# df2"
   ]
  },
  {
   "cell_type": "code",
   "execution_count": 7,
   "metadata": {},
   "outputs": [],
   "source": [
    "df2[\"Dato\"] = df2[\"Dato\"].astype('datetime64[D]')\n",
    "df2[\"Andel_AGpos_PCRkonf_pct\"] = pd.to_numeric(df2[\"Andel_AGpos_PCRkonf_pct\"].astype(str).apply(lambda x: x.replace(',','.')))\n",
    "df2[\"Andel_AGminusPCRkonf_pct\"] = pd.to_numeric(df2[\"Andel_AGminusPCRkonf_pct\"].astype(str).apply(lambda x: x.replace(',','.')))"
   ]
  },
  {
   "cell_type": "code",
   "execution_count": 8,
   "metadata": {},
   "outputs": [],
   "source": [
    "# print(df2.columns.values)\n",
    "# df2.tail()\n",
    "# df2"
   ]
  },
  {
   "cell_type": "code",
   "execution_count": 9,
   "metadata": {},
   "outputs": [],
   "source": [
    "# plt.figure()\n",
    "# # plt.plot(df2.Dato,df2.AG_testede)\n",
    "# # plt.plot(df2.Dato,df2.Andel_AGpos_PCRkonf_pct)\n",
    "# plt.plot(df2.Dato,df2.AG_pos)\n",
    "# # plt.plot(df2.Dato,df2.AGpos_PCRkonf)\n",
    "# plt.plot(df2.Dato,df2.AGpos_PCRkonf+df2.AGpos_minusPCRkonf)\n",
    "# # plt.plot(df2.Dato,df2.AGpos_PCRpos)\n",
    "# # plt.plot(df2.Dato,df2.AGposPCRneg)\n",
    "# # plt.plot(df2.Dato,df2.AGpos_PCRpos+df2.AGposPCRneg)\n",
    "# plt.show()"
   ]
  },
  {
   "cell_type": "code",
   "execution_count": 10,
   "metadata": {},
   "outputs": [
    {
     "output_type": "display_data",
     "data": {
      "text/plain": "Canvas(toolbar=Toolbar(toolitems=[('Home', 'Reset original view', 'home', 'home'), ('Back', 'Back to previous …",
      "application/vnd.jupyter.widget-view+json": {
       "version_major": 2,
       "version_minor": 0,
       "model_id": "56e11183e55649a6a35525429222e7c2"
      }
     },
     "metadata": {}
    }
   ],
   "source": [
    "# fig,(ax1,ax2) = plt.subplots(2,1)\n",
    "fig,(ax1,ax2,ax3) = plt.subplots(3,1,sharex=True)\n",
    "\n",
    "ax1.fill_between(df2.Dato,df2.AG_pos,color='blue',label='AG pos, PCR testet')\n",
    "ax1.fill_between(df2.Dato,df2.AGpos_minusPCRkonf,color='grey',label='AG pos, afventer PCR')\n",
    "\n",
    "ax2.fill_between(df2.Dato,100*np.ones(df2.Dato.shape),color='xkcd:mint',label='AG pos, PCR neg')\n",
    "ax2.fill_between(df2.Dato,100*np.divide(df2.AGpos_PCRpos,df2.AGpos_PCRkonf),color='g',label='AG pos, PCR pos')\n",
    "\n",
    "numAGnegKonf = df2.AGnegPCRpos + df2.AGnegPCRneg\n",
    "\n",
    "ax3.fill_between(df2.Dato,100*np.ones(df2.Dato.shape),color='xkcd:mint',label='AG neg, PCR neg')\n",
    "ax3.fill_between(df2.Dato,100*np.divide(df2.AGnegPCRpos,numAGnegKonf),color='g',label='AG neg, PCR pos')\n",
    "\n",
    "ax1.legend(loc='center left',bbox_to_anchor = (1.0, 0.5))\n",
    "ax2.legend(loc='center left',bbox_to_anchor = (1.0, 0.5))\n",
    "ax3.legend(loc='center left',bbox_to_anchor = (1.0, 0.5))\n",
    "\n",
    "ax1.set_ylim(bottom=0)\n",
    "ax2.set_ylim(bottom=0,top=100)\n",
    "ax3.set_ylim(bottom=0,top=3)\n",
    "ax1.set_xlim([df2.Dato[0],df2.iloc[-1,0]])\n",
    "plt.tight_layout()"
   ]
  },
  {
   "cell_type": "code",
   "execution_count": 11,
   "metadata": {},
   "outputs": [
    {
     "output_type": "execute_result",
     "data": {
      "text/plain": [
       "          Date  NewPositive  NotPrevPos  PosPct  PrevPos  Tested  \\\n",
       "388 2021-05-01          217      183984     0.1      524  184508   \n",
       "389 2021-05-02          253      228247     0.1      710  228957   \n",
       "390 2021-05-03          336      361708     0.1     1108  362816   \n",
       "391 2021-05-04          334      285775     0.1      777  286552   \n",
       "392 2021-05-05          282      320715     0.1      862  321577   \n",
       "\n",
       "     Tested_kumulativ  \n",
       "388           9559879  \n",
       "389           9788836  \n",
       "390          10151652  \n",
       "391          10438204  \n",
       "392          10759781  "
      ],
      "text/html": "<div>\n<style scoped>\n    .dataframe tbody tr th:only-of-type {\n        vertical-align: middle;\n    }\n\n    .dataframe tbody tr th {\n        vertical-align: top;\n    }\n\n    .dataframe thead th {\n        text-align: right;\n    }\n</style>\n<table border=\"1\" class=\"dataframe\">\n  <thead>\n    <tr style=\"text-align: right;\">\n      <th></th>\n      <th>Date</th>\n      <th>NewPositive</th>\n      <th>NotPrevPos</th>\n      <th>PosPct</th>\n      <th>PrevPos</th>\n      <th>Tested</th>\n      <th>Tested_kumulativ</th>\n    </tr>\n  </thead>\n  <tbody>\n    <tr>\n      <th>388</th>\n      <td>2021-05-01</td>\n      <td>217</td>\n      <td>183984</td>\n      <td>0.1</td>\n      <td>524</td>\n      <td>184508</td>\n      <td>9559879</td>\n    </tr>\n    <tr>\n      <th>389</th>\n      <td>2021-05-02</td>\n      <td>253</td>\n      <td>228247</td>\n      <td>0.1</td>\n      <td>710</td>\n      <td>228957</td>\n      <td>9788836</td>\n    </tr>\n    <tr>\n      <th>390</th>\n      <td>2021-05-03</td>\n      <td>336</td>\n      <td>361708</td>\n      <td>0.1</td>\n      <td>1108</td>\n      <td>362816</td>\n      <td>10151652</td>\n    </tr>\n    <tr>\n      <th>391</th>\n      <td>2021-05-04</td>\n      <td>334</td>\n      <td>285775</td>\n      <td>0.1</td>\n      <td>777</td>\n      <td>286552</td>\n      <td>10438204</td>\n    </tr>\n    <tr>\n      <th>392</th>\n      <td>2021-05-05</td>\n      <td>282</td>\n      <td>320715</td>\n      <td>0.1</td>\n      <td>862</td>\n      <td>321577</td>\n      <td>10759781</td>\n    </tr>\n  </tbody>\n</table>\n</div>"
     },
     "metadata": {},
     "execution_count": 11
    }
   ],
   "source": [
    "df.tail()"
   ]
  },
  {
   "cell_type": "code",
   "execution_count": 12,
   "metadata": {},
   "outputs": [
    {
     "output_type": "execute_result",
     "data": {
      "text/plain": [
       "          Date  NewPositive  NotPrevPos  PosPct  PrevPos  Tested  \\\n",
       "460 2021-05-01          693      126842     0.5     4026  130868   \n",
       "461 2021-05-02          713      147055     0.5     4331  151386   \n",
       "462 2021-05-03         1020      183429     0.6     6980  190409   \n",
       "463 2021-05-04          969      170228     0.6     5961  176189   \n",
       "464 2021-05-05          255       36700     0.7     1601   38301   \n",
       "\n",
       "     Tested_kumulativ  \n",
       "460          27323486  \n",
       "461          27474872  \n",
       "462          27665281  \n",
       "463          27841470  \n",
       "464          27879771  "
      ],
      "text/html": "<div>\n<style scoped>\n    .dataframe tbody tr th:only-of-type {\n        vertical-align: middle;\n    }\n\n    .dataframe tbody tr th {\n        vertical-align: top;\n    }\n\n    .dataframe thead th {\n        text-align: right;\n    }\n</style>\n<table border=\"1\" class=\"dataframe\">\n  <thead>\n    <tr style=\"text-align: right;\">\n      <th></th>\n      <th>Date</th>\n      <th>NewPositive</th>\n      <th>NotPrevPos</th>\n      <th>PosPct</th>\n      <th>PrevPos</th>\n      <th>Tested</th>\n      <th>Tested_kumulativ</th>\n    </tr>\n  </thead>\n  <tbody>\n    <tr>\n      <th>460</th>\n      <td>2021-05-01</td>\n      <td>693</td>\n      <td>126842</td>\n      <td>0.5</td>\n      <td>4026</td>\n      <td>130868</td>\n      <td>27323486</td>\n    </tr>\n    <tr>\n      <th>461</th>\n      <td>2021-05-02</td>\n      <td>713</td>\n      <td>147055</td>\n      <td>0.5</td>\n      <td>4331</td>\n      <td>151386</td>\n      <td>27474872</td>\n    </tr>\n    <tr>\n      <th>462</th>\n      <td>2021-05-03</td>\n      <td>1020</td>\n      <td>183429</td>\n      <td>0.6</td>\n      <td>6980</td>\n      <td>190409</td>\n      <td>27665281</td>\n    </tr>\n    <tr>\n      <th>463</th>\n      <td>2021-05-04</td>\n      <td>969</td>\n      <td>170228</td>\n      <td>0.6</td>\n      <td>5961</td>\n      <td>176189</td>\n      <td>27841470</td>\n    </tr>\n    <tr>\n      <th>464</th>\n      <td>2021-05-05</td>\n      <td>255</td>\n      <td>36700</td>\n      <td>0.7</td>\n      <td>1601</td>\n      <td>38301</td>\n      <td>27879771</td>\n    </tr>\n  </tbody>\n</table>\n</div>"
     },
     "metadata": {},
     "execution_count": 12
    }
   ],
   "source": [
    "dfPCR.tail()"
   ]
  },
  {
   "cell_type": "code",
   "execution_count": 13,
   "metadata": {},
   "outputs": [
    {
     "output_type": "execute_result",
     "data": {
      "text/plain": [
       "         Dato  AG_testede  AG_pos  AGpos_PCRkonf  Andel_AGpos_PCRkonf_pct  \\\n",
       "86 2021-04-28      291529     312            287                91.987179   \n",
       "87 2021-04-29      407115     384            346                90.104167   \n",
       "88 2021-04-30      224377     258            231                89.534884   \n",
       "89 2021-05-01      184584     235            215                91.489362   \n",
       "90 2021-05-02      229058     267            245                91.760300   \n",
       "\n",
       "    AGpos_minusPCRkonf  Andel_AGminusPCRkonf_pct  AGpos_PCRpos  AGposPCRneg  \\\n",
       "86                  25                  8.012821           173          112   \n",
       "87                  38                  9.895833           206          135   \n",
       "88                  27                 10.465116           123          104   \n",
       "89                  20                  8.510638           132           80   \n",
       "90                  22                  8.239700           168           71   \n",
       "\n",
       "    AGnegPCRpos  AGnegPCRneg  \n",
       "86          193        15831  \n",
       "87          220        20211  \n",
       "88          154        12019  \n",
       "89          170        10771  \n",
       "90          266        13091  "
      ],
      "text/html": "<div>\n<style scoped>\n    .dataframe tbody tr th:only-of-type {\n        vertical-align: middle;\n    }\n\n    .dataframe tbody tr th {\n        vertical-align: top;\n    }\n\n    .dataframe thead th {\n        text-align: right;\n    }\n</style>\n<table border=\"1\" class=\"dataframe\">\n  <thead>\n    <tr style=\"text-align: right;\">\n      <th></th>\n      <th>Dato</th>\n      <th>AG_testede</th>\n      <th>AG_pos</th>\n      <th>AGpos_PCRkonf</th>\n      <th>Andel_AGpos_PCRkonf_pct</th>\n      <th>AGpos_minusPCRkonf</th>\n      <th>Andel_AGminusPCRkonf_pct</th>\n      <th>AGpos_PCRpos</th>\n      <th>AGposPCRneg</th>\n      <th>AGnegPCRpos</th>\n      <th>AGnegPCRneg</th>\n    </tr>\n  </thead>\n  <tbody>\n    <tr>\n      <th>86</th>\n      <td>2021-04-28</td>\n      <td>291529</td>\n      <td>312</td>\n      <td>287</td>\n      <td>91.987179</td>\n      <td>25</td>\n      <td>8.012821</td>\n      <td>173</td>\n      <td>112</td>\n      <td>193</td>\n      <td>15831</td>\n    </tr>\n    <tr>\n      <th>87</th>\n      <td>2021-04-29</td>\n      <td>407115</td>\n      <td>384</td>\n      <td>346</td>\n      <td>90.104167</td>\n      <td>38</td>\n      <td>9.895833</td>\n      <td>206</td>\n      <td>135</td>\n      <td>220</td>\n      <td>20211</td>\n    </tr>\n    <tr>\n      <th>88</th>\n      <td>2021-04-30</td>\n      <td>224377</td>\n      <td>258</td>\n      <td>231</td>\n      <td>89.534884</td>\n      <td>27</td>\n      <td>10.465116</td>\n      <td>123</td>\n      <td>104</td>\n      <td>154</td>\n      <td>12019</td>\n    </tr>\n    <tr>\n      <th>89</th>\n      <td>2021-05-01</td>\n      <td>184584</td>\n      <td>235</td>\n      <td>215</td>\n      <td>91.489362</td>\n      <td>20</td>\n      <td>8.510638</td>\n      <td>132</td>\n      <td>80</td>\n      <td>170</td>\n      <td>10771</td>\n    </tr>\n    <tr>\n      <th>90</th>\n      <td>2021-05-02</td>\n      <td>229058</td>\n      <td>267</td>\n      <td>245</td>\n      <td>91.760300</td>\n      <td>22</td>\n      <td>8.239700</td>\n      <td>168</td>\n      <td>71</td>\n      <td>266</td>\n      <td>13091</td>\n    </tr>\n  </tbody>\n</table>\n</div>"
     },
     "metadata": {},
     "execution_count": 13
    }
   ],
   "source": [
    "df2.tail()"
   ]
  },
  {
   "cell_type": "code",
   "execution_count": 14,
   "metadata": {},
   "outputs": [
    {
     "output_type": "display_data",
     "data": {
      "text/plain": "Canvas(toolbar=Toolbar(toolitems=[('Home', 'Reset original view', 'home', 'home'), ('Back', 'Back to previous …",
      "application/vnd.jupyter.widget-view+json": {
       "version_major": 2,
       "version_minor": 0,
       "model_id": "34e4be7394b74f5383ae49fe0ecb8542"
      }
     },
     "metadata": {}
    }
   ],
   "source": [
    "fig,ax1 = plt.subplots(1,1)\n",
    "ax1.plot(df.Date,100*df.Tested/5800000)\n",
    "meanWidth=7\n",
    "ax1.plot(rnTime(df.Date,meanWidth),100*rnMean(df.Tested,meanWidth)/5800000,'k:')\n",
    "\n",
    "ax1.set_xlim([np.datetime64('2021-02-01'),df.iloc[-1,0]])\n",
    "plt.show()"
   ]
  },
  {
   "cell_type": "code",
   "execution_count": 25,
   "metadata": {},
   "outputs": [
    {
     "output_type": "display_data",
     "data": {
      "text/plain": "Canvas(toolbar=Toolbar(toolitems=[('Home', 'Reset original view', 'home', 'home'), ('Back', 'Back to previous …",
      "application/vnd.jupyter.widget-view+json": {
       "version_major": 2,
       "version_minor": 0,
       "model_id": "616d5e050c2f45859e0b7bd5bfef784e"
      }
     },
     "metadata": {}
    }
   ],
   "source": [
    "# fig,ax1 = plt.subplots(1,1)\n",
    "fig,(ax1,ax2) = plt.subplots(2,1,sharex=True)\n",
    "\n",
    "ax1.plot(df.Date,df.Tested,label='Antal AG tests')\n",
    "ax1.plot(dfPCR.Date,dfPCR.Tested,label='Antal PCR tests')\n",
    "ax1.plot(rnTime(dfPCR.Date,7),rnMean(dfPCR.Tested,7),label='Antal PCR tests')\n",
    "\n",
    "# ax2.plot(df.Date,df.PosPct,label='Positiv procent, AG')\n",
    "# ax2.plot(dfPCR.Date,dfPCR.PosPct,label='Positive procent, PCR')\n",
    "ax2.plot(df.Date,100*np.divide(df.NewPositive,df.Tested),label='Positiv procent, AG')\n",
    "ax2.plot(dfPCR.Date,100*np.divide(dfPCR.NewPositive,dfPCR.Tested),label='Positiv procent, PCR')\n",
    "\n",
    "\n",
    "ax1.legend(loc='center left',bbox_to_anchor = (1.0, 0.5))\n",
    "ax2.legend(loc='center left',bbox_to_anchor = (1.0, 0.5))\n",
    "\n",
    "ax1.grid()\n",
    "ax2.grid()\n",
    "\n",
    "ax1.set_ylim(bottom=0)\n",
    "ax2.set_ylim(bottom=0,top=0.6)\n",
    "\n",
    "ax1.set_xlim(left=np.datetime64('2021-02-01'),right=date.today())\n",
    "ax1.xaxis.set_major_formatter(mdates.DateFormatter('%d %b\\n%Y'))\n",
    "\n",
    "plt.tight_layout()\n",
    "\n",
    "# if saveFigures:\n",
    "#     plt.savefig('figs/AntalTestOgPosPct')"
   ]
  },
  {
   "cell_type": "code",
   "execution_count": 30,
   "metadata": {},
   "outputs": [
    {
     "output_type": "display_data",
     "data": {
      "text/plain": "Canvas(toolbar=Toolbar(toolitems=[('Home', 'Reset original view', 'home', 'home'), ('Back', 'Back to previous …",
      "application/vnd.jupyter.widget-view+json": {
       "version_major": 2,
       "version_minor": 0,
       "model_id": "fd30a4639fa94b9d958f5e07d17d88c1"
      }
     },
     "metadata": {}
    }
   ],
   "source": [
    "firstDate = np.datetime64('2021-02-01')\n",
    "# lastDate = np.datetime64('2021-04-24')\n",
    "lastDate = np.datetime64('2021-05-02')\n",
    "\n",
    "curDates = np.arange(firstDate,lastDate)\n",
    "\n",
    "# posAG  = df[df.Date.isin(curDates)].NewPositive \n",
    "PCRpos = dfPCR[dfPCR.Date.isin(curDates)].NewPositive.values\n",
    "numPCR = dfPCR[dfPCR.Date.isin(curDates)].Tested.values\n",
    "AGpos = df[df.Date.isin(curDates)].NewPositive.values\n",
    "numAG = df[df.Date.isin(curDates)].Tested.values\n",
    "AGposPCRpos = df2[df2.Dato.isin(curDates)].AGpos_PCRpos.values\n",
    "# PCRposPct = dfPCR[dfPCR.Date.isin(curDates)].PosPct.values\n",
    "PCRposPct = np.divide(PCRpos,numPCR)\n",
    "AGposPct = np.divide(AGpos,numAG)\n",
    "\n",
    "# Positive PCR-tests, excluding those that only got tested because of a positive AG-test\n",
    "PCRpos_nonAG = PCRpos-AGposPCRpos\n",
    "\n",
    "# Factor used for scaling with respect to number of tests\n",
    "scaleFactor = 0.7\n",
    "\n",
    "# Screening-ratio (Guess about how many tests would have been carried out in the absence of wide screening)\n",
    "screenRatio = 1/6\n",
    "\n",
    "\n",
    "scaleScreenRatio = screenRatio**scaleFactor\n",
    "\n",
    "# \n",
    "multFactor = (1-screenRatio**scaleFactor)\n",
    "\n",
    "\n",
    "fig,(ax1,ax2) = plt.subplots(2,1,sharex=True)\n",
    "\n",
    "ax1.plot(curDates,AGposPCRpos,label='AG positive, PCR confirmed')\n",
    "ax1.plot(curDates,PCRpos,label='PCR positive, total')\n",
    "ax1.plot(curDates,PCRpos_nonAG,label='PCR positive, non-AG')\n",
    "ax1.plot(curDates,np.multiply(PCRpos_nonAG,scaleScreenRatio),label='PCR positive, non-AG\\nAssumed due to symptoms')\n",
    "ax1.plot(curDates,np.multiply(PCRpos_nonAG,multFactor),label='PCR positive, non-AG\\nAssumed due to screening')\n",
    "ax1.plot(curDates,AGposPCRpos + np.multiply(PCRpos_nonAG,multFactor),label='PCR positive, non-AG, screening,\\nand AG confirmatory tests')\n",
    "\n",
    "meanWidth = 7\n",
    "ax1.plot(rnTime(curDates,meanWidth),rnMean(AGposPCRpos + np.multiply(PCRpos_nonAG,multFactor),meanWidth),'k:',label='PCR positive, non-AG, screening,\\nand AG confirmatory tests, 7 day mean')\n",
    "# ax1.plot(curDates,PCRpos - (AGposPCRpos + np.multiply(PCRpos_nonAG,multFactor)),label='PCR positive, as neighbours')\n",
    "\n",
    "foundThroughScreening = AGposPCRpos + np.multiply(PCRpos_nonAG,multFactor)\n",
    "foundThroughPCRScreening = np.multiply(PCRpos_nonAG,multFactor)\n",
    "\n",
    "\n",
    "ax2.plot(curDates,100*PCRposPct,'b.-',linewidth=0.5,markersize=2,label='PCR, total')\n",
    "ax2.plot(rnTime(curDates,meanWidth),100*rnMean(PCRposPct,meanWidth),'b',label='PCR, total, '+str(meanWidth)+' day mean')\n",
    "ax2.plot(curDates,100*AGposPct,'.-',color='xkcd:dark red',label='AG',linewidth=0.5,markersize=2)\n",
    "ax2.plot(rnTime(curDates,meanWidth),100*rnMean(AGposPct,meanWidth),color='xkcd:dark red',label='AG, '+str(meanWidth)+' day mean')\n",
    "ax2.plot(curDates,2*100*AGposPct,'.-',color='xkcd:red',label='AG, multiplied by 2',linewidth=0.5,markersize=2)\n",
    "ax2.plot(rnTime(curDates,meanWidth),2*100*rnMean(AGposPct,meanWidth),color='xkcd:red',label='AG, multiplied by 2, '+str(meanWidth)+' day mean')\n",
    "\n",
    "ax2.plot(curDates,100*np.divide(foundThroughPCRScreening,numPCR*(1-screenRatio)),'.-',linewidth=0.5,markersize=2,color='xkcd:green',label='PCR, screening')\n",
    "ax2.plot(rnTime(curDates,meanWidth),rnMean(100*np.divide(foundThroughPCRScreening,numPCR*(1-screenRatio)),meanWidth),color='xkcd:green',label='PCR, screening, '+str(meanWidth)+' day mean')\n",
    "# ax2.plot(curDates,6*100*np.divide(PCRpos - (AGposPCRpos + np.multiply(PCRpos_nonAG,multFactor)),numPCR),label='PCR positive, as neighbours')\n",
    "\n",
    "# ax2.plot(rnTime(curDates,meanWidth),100*rnMean(PCRposPct,meanWidth),'b')\n",
    "# ax2.plot(rnTime(curDates,meanWidth),rnMean(6*100*np.divide(PCRpos - (AGposPCRpos + np.multiply(PCRpos_nonAG,multFactor)),numPCR),7),':')\n",
    "\n",
    "ax1.legend(loc='center left',bbox_to_anchor = (1.0, 0.5))\n",
    "ax2.legend(loc='center left',bbox_to_anchor = (1.0, 0.5))\n",
    "ax1.grid()\n",
    "ax2.grid()\n",
    "ax1.set_ylim(bottom=0)\n",
    "ax2.set_ylim(bottom=0)\n",
    "plt.tight_layout()\n",
    "\n",
    "if saveFigures:\n",
    "    plt.savefig('figs/EstimateOfEffectOfScreening')"
   ]
  },
  {
   "cell_type": "code",
   "execution_count": 31,
   "metadata": {},
   "outputs": [
    {
     "output_type": "display_data",
     "data": {
      "text/plain": "Canvas(toolbar=Toolbar(toolitems=[('Home', 'Reset original view', 'home', 'home'), ('Back', 'Back to previous …",
      "application/vnd.jupyter.widget-view+json": {
       "version_major": 2,
       "version_minor": 0,
       "model_id": "5eefa2af71e242439ceb6918f4f28c27"
      }
     },
     "metadata": {}
    }
   ],
   "source": [
    "fig,(ax1,ax2,ax3) = plt.subplots(3,1,sharex=True)\n",
    "\n",
    "meanWidth = 7\n",
    "\n",
    "ax1.plot(curDates,AGposPCRpos,'.-',color='xkcd:hot pink',linewidth=0.5,markersize=2,label='AG positive, PCR confirmed')\n",
    "ax1.plot(rnTime(curDates,meanWidth),rnMean(AGposPCRpos,meanWidth),color='xkcd:hot pink',label=str(meanWidth)+' day running mean')\n",
    "ax1.plot(curDates,PCRpos,'.-',color='xkcd:rust',linewidth=0.5,markersize=2,label='PCR positive, total')\n",
    "ax1.plot(rnTime(curDates,meanWidth),rnMean(PCRpos,meanWidth),color='xkcd:rust',label=str(meanWidth)+' day running mean')\n",
    "ax1.plot(curDates,PCRpos_nonAG,'g.-',linewidth=0.5,markersize=2,label='PCR positive,\\nexcluding tests to confirm AG-tests')\n",
    "ax1.plot(rnTime(curDates,meanWidth),rnMean(PCRpos_nonAG,meanWidth),'g',label=str(meanWidth)+' day running mean')\n",
    "\n",
    "\n",
    "ax2.fill_between(curDates,np.multiply(PCRpos_nonAG,multFactor),PCRpos_nonAG,color='g',label='PCR positive,\\nexcluding tests to confirm AG-tests')\n",
    "ax2.fill_between(curDates,np.multiply(PCRpos_nonAG,multFactor),color='xkcd:royal blue',label=f'PCR positive, non-AG\\nAssumed due to screening\\n({100*multFactor:.2f} %)')\n",
    "\n",
    "# ax1.plot(curDates,np.multiply(PCRpos_nonAG,scaleScreenRatio),label='PCR positive, non-AG\\nAssumed due to symptoms')\n",
    "# ax1.plot(curDates,np.multiply(PCRpos_nonAG,multFactor),label='PCR positive, non-AG\\nAssumed due to screening')\n",
    "ax3.plot(curDates,np.multiply(PCRpos_nonAG,multFactor),'.-',linewidth=0.5,markersize=2,color='xkcd:royal blue',label=f'PCR positive, non-AG\\nAssumed due to screening\\n({100*multFactor:.2f} %)')\n",
    "ax3.plot(rnTime(curDates,meanWidth),rnMean(np.multiply(PCRpos_nonAG,multFactor),meanWidth),'xkcd:royal blue',label=str(meanWidth)+' day running mean')\n",
    "\n",
    "ax3.plot(curDates,AGposPCRpos + np.multiply(PCRpos_nonAG,multFactor),'m.-',linewidth=0.5,markersize=2,label='PCR positive, non-AG, screening,\\nand AG confirmatory tests')\n",
    "\n",
    "ax3.plot(rnTime(curDates,meanWidth),rnMean(AGposPCRpos + np.multiply(PCRpos_nonAG,multFactor),meanWidth),'m',label=str(meanWidth)+' day running mean')\n",
    "\n",
    "ax1.legend(loc='center left',bbox_to_anchor = (1.0, 0.5))\n",
    "ax2.legend(loc='center left',bbox_to_anchor = (1.0, 0.5))\n",
    "ax3.legend(loc='center left',bbox_to_anchor = (1.0, 0.5))\n",
    "ax1.grid()\n",
    "ax3.grid()\n",
    "ax1.set_ylim(bottom=0)\n",
    "ax2.set_ylim(bottom=0)\n",
    "ax3.set_ylim(bottom=0)\n",
    "\n",
    "\n",
    "\n",
    "ax1.set_xlim([firstDate,lastDate-np.timedelta64(1,'D')])\n",
    "plt.tight_layout()\n",
    "\n",
    "\n",
    "if saveFigures:\n",
    "    plt.savefig('figs/EstimateOfEffectOfScreeningNew')"
   ]
  },
  {
   "cell_type": "code",
   "execution_count": 32,
   "metadata": {},
   "outputs": [
    {
     "output_type": "display_data",
     "data": {
      "text/plain": "Canvas(toolbar=Toolbar(toolitems=[('Home', 'Reset original view', 'home', 'home'), ('Back', 'Back to previous …",
      "application/vnd.jupyter.widget-view+json": {
       "version_major": 2,
       "version_minor": 0,
       "model_id": "fdb85eccda6848578112da53addcc7fb"
      }
     },
     "metadata": {}
    }
   ],
   "source": [
    "# fig,(ax1,ax2,ax3) = plt.subplots(3,1,sharex=True)\n",
    "fig,ax1 = plt.subplots(1,1,sharex=True)\n",
    "\n",
    "meanWidth = 7\n",
    "\n",
    "ax1.plot(curDates,PCRpos,'.-',color='xkcd:rust',linewidth=0.5,markersize=2,label='PCR positive, total')\n",
    "ax1.plot(rnTime(curDates,meanWidth),rnMean(PCRpos,meanWidth),color='xkcd:rust')\n",
    "ax1.plot(curDates,PCRpos_nonAG,'g.-',linewidth=0.5,markersize=2,label='PCR positive, due to only PCR')\n",
    "ax1.plot(rnTime(curDates,meanWidth),rnMean(PCRpos_nonAG,meanWidth),'g')\n",
    "ax1.plot(curDates,AGposPCRpos,'.-',color='xkcd:hot pink',linewidth=0.5,markersize=2,label='PCR positive, due to AG')\n",
    "ax1.plot(rnTime(curDates,meanWidth),rnMean(AGposPCRpos,meanWidth),color='xkcd:hot pink')\n",
    "\n",
    "\n",
    "# ax2.fill_between(curDates,np.multiply(PCRpos_nonAG,multFactor),PCRpos_nonAG,color='g',label='PCR positive,\\nexcluding tests to confirm AG-tests')\n",
    "# ax2.fill_between(curDates,np.multiply(PCRpos_nonAG,multFactor),color='xkcd:royal blue',label=f'PCR positive, non-AG\\nAssumed due to screening\\n({100*multFactor:.2f} %)')\n",
    "\n",
    "# # ax1.plot(curDates,np.multiply(PCRpos_nonAG,scaleScreenRatio),label='PCR positive, non-AG\\nAssumed due to symptoms')\n",
    "# # ax1.plot(curDates,np.multiply(PCRpos_nonAG,multFactor),label='PCR positive, non-AG\\nAssumed due to screening')\n",
    "# ax3.plot(curDates,np.multiply(PCRpos_nonAG,multFactor),'.-',linewidth=0.5,markersize=2,color='xkcd:royal blue',label=f'PCR positive, non-AG\\nAssumed due to screening\\n({100*multFactor:.2f} %)')\n",
    "# ax3.plot(rnTime(curDates,meanWidth),rnMean(np.multiply(PCRpos_nonAG,multFactor),meanWidth),'xkcd:royal blue',label=str(meanWidth)+' day running mean')\n",
    "\n",
    "# ax3.plot(curDates,AGposPCRpos + np.multiply(PCRpos_nonAG,multFactor),'m.-',linewidth=0.5,markersize=2,label='PCR positive, non-AG, screening,\\nand AG confirmatory tests')\n",
    "\n",
    "# ax3.plot(rnTime(curDates,meanWidth),rnMean(AGposPCRpos + np.multiply(PCRpos_nonAG,multFactor),meanWidth),'m',label=str(meanWidth)+' day running mean')\n",
    "\n",
    "# ax1.legend(loc='center center',bbox_to_anchor = (0.5, 1.0))\n",
    "ax1.legend(loc='upper left')\n",
    "# ax2.legend(loc='center left',bbox_to_anchor = (1.0, 0.5))\n",
    "# ax3.legend(loc='center left',bbox_to_anchor = (1.0, 0.5))\n",
    "ax1.grid()\n",
    "# ax3.grid()\n",
    "ax1.set_ylim(bottom=0,top=900)\n",
    "# ax2.set_ylim(bottom=0)\n",
    "# ax3.set_ylim(bottom=0)\n",
    "\n",
    "ax1.set_ylabel('Count')\n",
    "\n",
    "\n",
    "ax1.set_xlim([firstDate,lastDate-np.timedelta64(1,'D')])\n",
    "plt.tight_layout()\n",
    "\n",
    "\n",
    "if saveFigures:\n",
    "    plt.savefig('figs/Viggo_Screening')"
   ]
  },
  {
   "cell_type": "code",
   "execution_count": 33,
   "metadata": {},
   "outputs": [
    {
     "output_type": "display_data",
     "data": {
      "text/plain": "Canvas(toolbar=Toolbar(toolitems=[('Home', 'Reset original view', 'home', 'home'), ('Back', 'Back to previous …",
      "application/vnd.jupyter.widget-view+json": {
       "version_major": 2,
       "version_minor": 0,
       "model_id": "937c338b155b4026bd913334eb773dfb"
      }
     },
     "metadata": {}
    }
   ],
   "source": [
    "# fig,(ax1,ax2,ax3) = plt.subplots(3,1,sharex=True)\n",
    "fig,ax1 = plt.subplots(1,1,sharex=True)\n",
    "\n",
    "meanWidth = 7\n",
    "\n",
    "ax1.plot(curDates,PCRpos_nonAG,'g.-',linewidth=0.5,markersize=2,label='PCR positive, due to only PCR (all)')\n",
    "ax1.plot(rnTime(curDates,meanWidth),rnMean(PCRpos_nonAG,meanWidth),'g')\n",
    "\n",
    "\n",
    "# ax2.fill_between(curDates,np.multiply(PCRpos_nonAG,multFactor),PCRpos_nonAG,color='g',label='PCR positive,\\nexcluding tests to confirm AG-tests')\n",
    "ax1.plot(curDates,np.multiply(PCRpos_nonAG,multFactor),'.-',linewidth=0.5,markersize=2,color='xkcd:royal blue',label=f'PCR positive, due to only PCR (screening, {100*multFactor:.2f} %)')\n",
    "ax1.plot(rnTime(curDates,meanWidth),rnMean(np.multiply(PCRpos_nonAG,multFactor),meanWidth),color='xkcd:royal blue')\n",
    "\n",
    "# # ax1.plot(curDates,np.multiply(PCRpos_nonAG,scaleScreenRatio),label='PCR positive, non-AG\\nAssumed due to symptoms')\n",
    "# # ax1.plot(curDates,np.multiply(PCRpos_nonAG,multFactor),label='PCR positive, non-AG\\nAssumed due to screening')\n",
    "# ax3.plot(curDates,np.multiply(PCRpos_nonAG,multFactor),'.-',linewidth=0.5,markersize=2,color='xkcd:royal blue',label=f'PCR positive, non-AG\\nAssumed due to screening\\n({100*multFactor:.2f} %)')\n",
    "# ax3.plot(rnTime(curDates,meanWidth),rnMean(np.multiply(PCRpos_nonAG,multFactor),meanWidth),'xkcd:royal blue',label=str(meanWidth)+' day running mean')\n",
    "\n",
    "# ax3.plot(curDates,AGposPCRpos + np.multiply(PCRpos_nonAG,multFactor),'m.-',linewidth=0.5,markersize=2,label='PCR positive, non-AG, screening,\\nand AG confirmatory tests')\n",
    "\n",
    "# ax3.plot(rnTime(curDates,meanWidth),rnMean(AGposPCRpos + np.multiply(PCRpos_nonAG,multFactor),meanWidth),'m',label=str(meanWidth)+' day running mean')\n",
    "\n",
    "# ax1.legend(loc='center center',bbox_to_anchor = (0.5, 1.0))\n",
    "# ax1.legend()\n",
    "ax1.legend(loc='upper left')\n",
    "# ax2.legend(loc='center left',bbox_to_anchor = (1.0, 0.5))\n",
    "# ax3.legend(loc='center left',bbox_to_anchor = (1.0, 0.5))\n",
    "ax1.grid()\n",
    "# ax3.grid()\n",
    "ax1.set_ylim(bottom=0,top=900)\n",
    "# ax2.set_ylim(bottom=0)\n",
    "# ax3.set_ylim(bottom=0)\n",
    "\n",
    "ax1.set_ylabel('Count')\n",
    "\n",
    "\n",
    "ax1.set_xlim([firstDate,lastDate-np.timedelta64(1,'D')])\n",
    "plt.tight_layout()\n",
    "\n",
    "\n",
    "if saveFigures:\n",
    "    plt.savefig('figs/Viggo_Screening2')"
   ]
  },
  {
   "cell_type": "code",
   "execution_count": 34,
   "metadata": {},
   "outputs": [
    {
     "output_type": "display_data",
     "data": {
      "text/plain": "Canvas(toolbar=Toolbar(toolitems=[('Home', 'Reset original view', 'home', 'home'), ('Back', 'Back to previous …",
      "application/vnd.jupyter.widget-view+json": {
       "version_major": 2,
       "version_minor": 0,
       "model_id": "b92d8d58061a458dbb3b9c697f8b6fb2"
      }
     },
     "metadata": {}
    }
   ],
   "source": [
    "# fig,(ax1,ax2,ax3) = plt.subplots(3,1,sharex=True)\n",
    "fig,ax1 = plt.subplots(1,1,sharex=True)\n",
    "\n",
    "meanWidth = 7\n",
    "\n",
    "# ax1.plot(curDates,PCRpos_nonAG,'g.-',linewidth=0.5,markersize=2,label='PCR positive, due to only PCR (all)')\n",
    "# ax1.plot(rnTime(curDates,meanWidth),rnMean(PCRpos_nonAG,meanWidth),'g')\n",
    "\n",
    "\n",
    "# ax2.fill_between(curDates,np.multiply(PCRpos_nonAG,multFactor),PCRpos_nonAG,color='g',label='PCR positive,\\nexcluding tests to confirm AG-tests')\n",
    "ax1.plot(curDates,np.multiply(PCRpos_nonAG,multFactor),'.-',linewidth=0.5,markersize=2,color='xkcd:royal blue',label=f'PCR positive, due to only PCR (screening, {100*multFactor:.2f} %)')\n",
    "ax1.plot(rnTime(curDates,meanWidth),rnMean(np.multiply(PCRpos_nonAG,multFactor),meanWidth),color='xkcd:royal blue')\n",
    "\n",
    "ax1.plot(curDates,AGposPCRpos + np.multiply(PCRpos_nonAG,multFactor),'m.-',linewidth=0.5,markersize=2,label=f'PCR positive, due to only PCR (screening, {100*multFactor:.2f} %) + AG confirmatory tests')\n",
    "\n",
    "ax1.plot(rnTime(curDates,meanWidth),rnMean(AGposPCRpos + np.multiply(PCRpos_nonAG,multFactor),meanWidth),'m')\n",
    "\n",
    "\n",
    "# # ax1.plot(curDates,np.multiply(PCRpos_nonAG,scaleScreenRatio),label='PCR positive, non-AG\\nAssumed due to symptoms')\n",
    "# # ax1.plot(curDates,np.multiply(PCRpos_nonAG,multFactor),label='PCR positive, non-AG\\nAssumed due to screening')\n",
    "# ax3.plot(curDates,np.multiply(PCRpos_nonAG,multFactor),'.-',linewidth=0.5,markersize=2,color='xkcd:royal blue',label=f'PCR positive, non-AG\\nAssumed due to screening\\n({100*multFactor:.2f} %)')\n",
    "# ax3.plot(rnTime(curDates,meanWidth),rnMean(np.multiply(PCRpos_nonAG,multFactor),meanWidth),'xkcd:royal blue',label=str(meanWidth)+' day running mean')\n",
    "\n",
    "# ax3.plot(curDates,AGposPCRpos + np.multiply(PCRpos_nonAG,multFactor),'m.-',linewidth=0.5,markersize=2,label='PCR positive, non-AG, screening,\\nand AG confirmatory tests')\n",
    "\n",
    "# ax3.plot(rnTime(curDates,meanWidth),rnMean(AGposPCRpos + np.multiply(PCRpos_nonAG,multFactor),meanWidth),'m',label=str(meanWidth)+' day running mean')\n",
    "\n",
    "# ax1.legend(loc='center center',bbox_to_anchor = (0.5, 1.0))\n",
    "# ax1.legend()\n",
    "ax1.legend(loc='upper left')\n",
    "# ax2.legend(loc='center left',bbox_to_anchor = (1.0, 0.5))\n",
    "# ax3.legend(loc='center left',bbox_to_anchor = (1.0, 0.5))\n",
    "ax1.grid()\n",
    "# ax3.grid()\n",
    "ax1.set_ylim(bottom=0,top=900)\n",
    "# ax2.set_ylim(bottom=0)\n",
    "# ax3.set_ylim(bottom=0)\n",
    "\n",
    "ax1.set_ylabel('Count')\n",
    "\n",
    "\n",
    "ax1.set_xlim([firstDate,lastDate-np.timedelta64(1,'D')])\n",
    "plt.tight_layout()\n",
    "\n",
    "\n",
    "if saveFigures:\n",
    "    plt.savefig('figs/Viggo_Screening3')"
   ]
  },
  {
   "cell_type": "code",
   "execution_count": 38,
   "metadata": {},
   "outputs": [
    {
     "output_type": "display_data",
     "data": {
      "text/plain": "Canvas(toolbar=Toolbar(toolitems=[('Home', 'Reset original view', 'home', 'home'), ('Back', 'Back to previous …",
      "application/vnd.jupyter.widget-view+json": {
       "version_major": 2,
       "version_minor": 0,
       "model_id": "f7b3d631009d4d8e868af7747209a1d9"
      }
     },
     "metadata": {}
    }
   ],
   "source": [
    "# firstDate = np.datetime64('2021-02-01')\n",
    "# lastDate = np.datetime64('2021-04-24')\n",
    "\n",
    "# curDates = np.arange(firstDate,lastDate)\n",
    "\n",
    "# posAG  = df[df.Date.isin(curDates)].NewPositive \n",
    "PCRpos = dfPCR[dfPCR.Date.isin(curDates)].NewPositive.values\n",
    "numPCR = dfPCR[dfPCR.Date.isin(curDates)].Tested.values\n",
    "AGpos = df[df.Date.isin(curDates)].NewPositive.values\n",
    "numAG = df[df.Date.isin(curDates)].Tested.values\n",
    "AGposPCRpos = df2[df2.Dato.isin(curDates)].AGpos_PCRpos.values\n",
    "# PCRposPct = dfPCR[dfPCR.Date.isin(curDates)].PosPct.values\n",
    "PCRposPct = np.divide(PCRpos,numPCR)\n",
    "AGposPct = np.divide(AGpos,numAG)\n",
    "\n",
    "# Positive PCR-tests, excluding those that only got tested because of a positive AG-test\n",
    "PCRpos_nonAG = PCRpos-AGposPCRpos\n",
    "\n",
    "# Factor used for scaling with respect to number of tests\n",
    "scaleFactor = 0.7\n",
    "\n",
    "# Screening-ratio (Guess about how many tests would have been carried out in the absence of wide screening)\n",
    "screenRatio = 1/6\n",
    "\n",
    "\n",
    "scaleScreenRatio = screenRatio**scaleFactor\n",
    "\n",
    "# \n",
    "multFactor = (1-screenRatio**scaleFactor)\n",
    "\n",
    "\n",
    "fig,ax2 = plt.subplots(1,1,sharex=True)\n",
    "\n",
    "# ax1.plot(curDates,AGposPCRpos,label='AG positive, PCR confirmed')\n",
    "# ax1.plot(curDates,PCRpos,label='PCR positive, total')\n",
    "# ax1.plot(curDates,PCRpos_nonAG,label='PCR positive, non-AG')\n",
    "# ax1.plot(curDates,np.multiply(PCRpos_nonAG,scaleScreenRatio),label='PCR positive, non-AG\\nAssumed due to symptoms')\n",
    "# ax1.plot(curDates,np.multiply(PCRpos_nonAG,multFactor),label='PCR positive, non-AG\\nAssumed due to screening')\n",
    "# ax1.plot(curDates,AGposPCRpos + np.multiply(PCRpos_nonAG,multFactor),label='PCR positive, non-AG, screening,\\nand AG confirmatory tests')\n",
    "\n",
    "meanWidth = 7\n",
    "# ax1.plot(rnTime(curDates,meanWidth),rnMean(AGposPCRpos + np.multiply(PCRpos_nonAG,multFactor),meanWidth),'k:',label='PCR positive, non-AG, screening,\\nand AG confirmatory tests, 7 day mean')\n",
    "# ax1.plot(curDates,PCRpos - (AGposPCRpos + np.multiply(PCRpos_nonAG,multFactor)),label='PCR positive, as neighbours')\n",
    "\n",
    "foundThroughScreening = AGposPCRpos + np.multiply(PCRpos_nonAG,multFactor)\n",
    "foundThroughPCRScreening = np.multiply(PCRpos_nonAG,multFactor)\n",
    "\n",
    "\n",
    "# ax2.plot(curDates,100*PCRposPct,'b.-',linewidth=0.5,markersize=2,label='PCR, total')\n",
    "ax2.plot(rnTime(curDates,meanWidth),100*rnMean(PCRposPct,meanWidth),'b',label='PCR, total')\n",
    "# ax2.plot(curDates,100*AGposPct,'.-',color='xkcd:dark red',label='AG',linewidth=0.5,markersize=2)\n",
    "ax2.plot(rnTime(curDates,meanWidth),100*rnMean(AGposPct,meanWidth),color='xkcd:dark red',label='AG')\n",
    "# ax2.plot(curDates,2*100*AGposPct,'.-',color='xkcd:red',label='AG, multiplied by 2',linewidth=0.5,markersize=2)\n",
    "ax2.plot(rnTime(curDates,meanWidth),2*100*rnMean(AGposPct,meanWidth),'--',color='xkcd:red',label='AG, multiplied by 2')\n",
    "\n",
    "# ax2.plot(curDates,100*np.divide(foundThroughPCRScreening,numPCR*(1-screenRatio)),'.-',linewidth=0.5,markersize=2,color='xkcd:green',label='PCR, screening')\n",
    "ax2.plot(rnTime(curDates,meanWidth),rnMean(100*np.divide(foundThroughPCRScreening,numPCR*(1-screenRatio)),meanWidth),color='xkcd:green',label='PCR, screening')\n",
    "# ax2.plot(curDates,6*100*np.divide(PCRpos - (AGposPCRpos + np.multiply(PCRpos_nonAG,multFactor)),numPCR),label='PCR positive, as neighbours')\n",
    "\n",
    "# ax2.plot(rnTime(curDates,meanWidth),100*rnMean(PCRposPct,meanWidth),'b')\n",
    "# ax2.plot(rnTime(curDates,meanWidth),rnMean(6*100*np.divide(PCRpos - (AGposPCRpos + np.multiply(PCRpos_nonAG,multFactor)),numPCR),7),':')\n",
    "\n",
    "ax2.set_ylabel('Positive percentage [%]')\n",
    "# ax1.legend(loc='center left',bbox_to_anchor = (1.0, 0.5))\n",
    "ax2.legend(loc='upper right')\n",
    "# ax1.grid()\n",
    "ax2.grid()\n",
    "# ax1.set_ylim(bottom=0)\n",
    "ax2.set_ylim(bottom=0,top=0.8)\n",
    "ax2.set_xlim([firstDate,lastDate-np.timedelta64(1,'D')])\n",
    "plt.tight_layout()\n",
    "\n",
    "if saveFigures:\n",
    "    plt.savefig('figs/Viggo_pospct')"
   ]
  },
  {
   "cell_type": "code",
   "execution_count": 36,
   "metadata": {},
   "outputs": [
    {
     "output_type": "display_data",
     "data": {
      "text/plain": "Canvas(toolbar=Toolbar(toolitems=[('Home', 'Reset original view', 'home', 'home'), ('Back', 'Back to previous …",
      "application/vnd.jupyter.widget-view+json": {
       "version_major": 2,
       "version_minor": 0,
       "model_id": "256ee949095042bbb11e51713be5e387"
      }
     },
     "metadata": {}
    }
   ],
   "source": [
    "# firstDate = np.datetime64('2021-02-01')\n",
    "# lastDate = np.datetime64('2021-04-24')\n",
    "\n",
    "# curDates = np.arange(firstDate,lastDate)\n",
    "\n",
    "# posAG  = df[df.Date.isin(curDates)].NewPositive \n",
    "PCRpos = dfPCR[dfPCR.Date.isin(curDates)].NewPositive.values\n",
    "numPCR = dfPCR[dfPCR.Date.isin(curDates)].Tested.values\n",
    "AGpos = df[df.Date.isin(curDates)].NewPositive.values\n",
    "numAG = df[df.Date.isin(curDates)].Tested.values\n",
    "AGposPCRpos = df2[df2.Dato.isin(curDates)].AGpos_PCRpos.values\n",
    "# PCRposPct = dfPCR[dfPCR.Date.isin(curDates)].PosPct.values\n",
    "PCRposPct = np.divide(PCRpos,numPCR)\n",
    "AGposPct = np.divide(AGpos,numAG)\n",
    "\n",
    "# Positive PCR-tests, excluding those that only got tested because of a positive AG-test\n",
    "PCRpos_nonAG = PCRpos-AGposPCRpos\n",
    "\n",
    "# Factor used for scaling with respect to number of tests\n",
    "scaleFactor = 0.7\n",
    "\n",
    "# Screening-ratio (Guess about how many tests would have been carried out in the absence of wide screening)\n",
    "screenRatio = 1/6\n",
    "\n",
    "\n",
    "scaleScreenRatio = screenRatio**scaleFactor\n",
    "\n",
    "# \n",
    "multFactor = (1-screenRatio**scaleFactor)\n",
    "\n",
    "\n",
    "fig,ax2 = plt.subplots(1,1,sharex=True)\n",
    "\n",
    "\n",
    "meanWidth = 7\n",
    "\n",
    "foundThroughScreening = AGposPCRpos + np.multiply(PCRpos_nonAG,multFactor)\n",
    "foundThroughPCRScreening = np.multiply(PCRpos_nonAG,multFactor)\n",
    "\n",
    "\n",
    "# # ax2.plot(curDates,100*PCRposPct,'b.-',linewidth=0.5,markersize=2,label='PCR, total')\n",
    "# ax2.plot(rnTime(curDates,meanWidth),100*rnMean(PCRposPct,meanWidth),'b',label='PCR, total')\n",
    "# # ax2.plot(curDates,100*AGposPct,'.-',color='xkcd:dark red',label='AG',linewidth=0.5,markersize=2)\n",
    "# ax2.plot(rnTime(curDates,meanWidth),100*rnMean(AGposPct,meanWidth),color='xkcd:dark red',label='AG')\n",
    "# # ax2.plot(curDates,2*100*AGposPct,'.-',color='xkcd:red',label='AG, multiplied by 2',linewidth=0.5,markersize=2)\n",
    "# ax2.plot(rnTime(curDates,meanWidth),2*100*rnMean(AGposPct,meanWidth),'--',color='xkcd:red',label='AG, multiplied by 2')\n",
    "\n",
    "# ax2.plot(curDates,100*np.divide(foundThroughPCRScreening,numPCR*(1-screenRatio)),'.-',linewidth=0.5,markersize=2,color='xkcd:green',label='PCR, screening')\n",
    "ax2.plot(rnTime(curDates,meanWidth),5800000*rnMean(np.divide(foundThroughPCRScreening,numPCR*(1-screenRatio)),meanWidth),color='xkcd:green',label='PCR, screening')\n",
    "# ax2.plot(curDates,6*100*np.divide(PCRpos - (AGposPCRpos + np.multiply(PCRpos_nonAG,multFactor)),numPCR),label='PCR positive, as neighbours')\n",
    "\n",
    "# ax1.legend(loc='center left',bbox_to_anchor = (1.0, 0.5))\n",
    "ax2.legend(loc='upper right')\n",
    "# ax1.grid()\n",
    "ax2.grid()\n",
    "# ax2.set_ylim(bottom=0)\n",
    "# ax2.set_ylim(bottom=0,top=0.8)\n",
    "ax2.set_xlim([firstDate,lastDate-np.timedelta64(1,'D')])\n",
    "plt.tight_layout()\n",
    "\n",
    "if saveFigures:\n",
    "    plt.savefig('figs/Viggo_pospct2')"
   ]
  },
  {
   "cell_type": "code",
   "execution_count": 23,
   "metadata": {},
   "outputs": [],
   "source": [
    "# Positiv percentage of estimate\n",
    "# First show false negative rate\n",
    "# fig,(ax1,ax2) = plt.subplots(2,1,sharex=True)\n",
    "\n",
    "# ax2.plot(curDates,100*PCRposPct,'b.-',linewidth=0.5,markersize=2,label='PCR, total')\n",
    "# ax2.plot(rnTime(curDates,meanWidth),100*rnMean(PCRposPct,meanWidth),'b',label='PCR, total, '+str(meanWidth)+' day mean')\n",
    "# ax2.plot(curDates,100*AGposPct,'.-',color='xkcd:dark red',label='AG',linewidth=0.5,markersize=2)\n",
    "# ax2.plot(rnTime(curDates,meanWidth),100*rnMean(AGposPct,meanWidth),color='xkcd:dark red',label='AG, '+str(meanWidth)+' day mean')\n",
    "# ax2.plot(curDates,2*100*AGposPct,'.-',color='xkcd:red',label='AG, multiplied by 2',linewidth=0.5,markersize=2)\n",
    "# ax2.plot(rnTime(curDates,meanWidth),2*100*rnMean(AGposPct,meanWidth),color='xkcd:red',label='AG, multiplied by 2, '+str(meanWidth)+' day mean')\n",
    "\n",
    "# ax2.plot(curDates,100*np.divide(foundThroughPCRScreening,numPCR*(1-screenRatio)),'.-',linewidth=0.5,markersize=2,color='xkcd:green',label='PCR, screening')\n",
    "# ax2.plot(rnTime(curDates,meanWidth),rnMean(100*np.divide(foundThroughPCRScreening,numPCR*(1-screenRatio)),meanWidth),color='xkcd:green',label='PCR, screening, '+str(meanWidth)+' day mean')\n",
    "# ax2.plot(curDates,6*100*np.divide(PCRpos - (AGposPCRpos + np.multiply(PCRpos_nonAG,multFactor)),numPCR),label='PCR positive, as neighbours')\n",
    "\n",
    "# ax2.plot(rnTime(curDates,meanWidth),100*rnMean(PCRposPct,meanWidth),'b')\n",
    "# ax2.plot(rnTime(curDates,meanWidth),rnMean(6*100*np.divide(PCRpos - (AGposPCRpos + np.multiply(PCRpos_nonAG,multFactor)),numPCR),7),':')\n"
   ]
  },
  {
   "cell_type": "code",
   "execution_count": 50,
   "metadata": {},
   "outputs": [],
   "source": [
    "dfPCR.tail() \n",
    "curTested = dfPCR[dfPCR.Date.isin(curDates)].Tested\n",
    "# curTested"
   ]
  },
  {
   "cell_type": "code",
   "execution_count": 55,
   "metadata": {},
   "outputs": [
    {
     "output_type": "display_data",
     "data": {
      "text/plain": "Canvas(toolbar=Toolbar(toolitems=[('Home', 'Reset original view', 'home', 'home'), ('Back', 'Back to previous …",
      "application/vnd.jupyter.widget-view+json": {
       "version_major": 2,
       "version_minor": 0,
       "model_id": "10050ec3f0164670a6c732977cd83cd3"
      }
     },
     "metadata": {}
    }
   ],
   "source": [
    "# fig,(ax1,ax2,ax3) = plt.subplots(3,1,sharex=True)\n",
    "fig,ax1 = plt.subplots(1,1,sharex=True)\n",
    "\n",
    "meanWidth = 7\n",
    "\n",
    "# ax1.plot(curDates,PCRpos,'.-',color='xkcd:rust',linewidth=0.5,markersize=2,label='PCR positive, total')\n",
    "# ax1.plot(rnTime(curDates,meanWidth),rnMean(PCRpos,meanWidth),color='xkcd:rust')\n",
    "# ax1.plot(curDates,PCRpos_nonAG,'g.-',linewidth=0.5,markersize=2,label='PCR positive, due to only PCR')\n",
    "# ax1.plot(rnTime(curDates,meanWidth),rnMean(PCRpos_nonAG,meanWidth),'g')\n",
    "\n",
    "# perTest = np.divide(PCRpos_nonAG,curTested)\n",
    "normFactor = (100000/curTested)**(0.7)\n",
    "posNorm = np.divide(PCRpos_nonAG,normFactor)\n",
    "# ax1.plot(curDates,perTest,'.-',linewidth=0.5,markersize=2,label='PCR positive, due to only PCR, per test')\n",
    "ax1.plot(curDates,posNorm,'b.-',linewidth=0.5,markersize=2,label='PCR positive, due to only PCR, normalized')\n",
    "ax1.plot(rnTime(curDates,meanWidth),rnMean(posNorm,meanWidth),'b')\n",
    "\n",
    "\n",
    "# ax1.plot(curDates,AGposPCRpos,'.-',color='xkcd:hot pink',linewidth=0.5,markersize=2,label='PCR positive, due to AG')\n",
    "# ax1.plot(rnTime(curDates,meanWidth),rnMean(AGposPCRpos,meanWidth),color='xkcd:hot pink')\n",
    "\n",
    "# ax1.legend(loc='center center',bbox_to_anchor = (0.5, 1.0))\n",
    "ax1.legend(loc='upper left')\n",
    "# ax2.legend(loc='center left',bbox_to_anchor = (1.0, 0.5))\n",
    "# ax3.legend(loc='center left',bbox_to_anchor = (1.0, 0.5))\n",
    "ax1.grid()\n",
    "# ax3.grid()\n",
    "# ax1.set_ylim(bottom=0,top=900)\n",
    "# ax2.set_ylim(bottom=0)\n",
    "# ax3.set_ylim(bottom=0)\n",
    "\n",
    "ax1.set_ylabel('Count')\n",
    "\n",
    "\n",
    "ax1.set_xlim([firstDate,lastDate-np.timedelta64(1,'D')])\n",
    "plt.tight_layout()\n",
    "\n",
    "\n",
    "# if saveFigures:\n",
    "#     plt.savefig('figs/Viggo_Screening')"
   ]
  },
  {
   "cell_type": "code",
   "execution_count": 76,
   "metadata": {},
   "outputs": [
    {
     "output_type": "execute_result",
     "data": {
      "text/plain": [
       "          Date  NewPositive  NotPrevPos  PosPct  PrevPos  Tested  \\\n",
       "388 2021-05-01          217      183984     0.1      524  184508   \n",
       "389 2021-05-02          253      228247     0.1      710  228957   \n",
       "390 2021-05-03          336      361708     0.1     1108  362816   \n",
       "391 2021-05-04          334      285775     0.1      777  286552   \n",
       "392 2021-05-05          282      320715     0.1      862  321577   \n",
       "\n",
       "     Tested_kumulativ  \n",
       "388           9559879  \n",
       "389           9788836  \n",
       "390          10151652  \n",
       "391          10438204  \n",
       "392          10759781  "
      ],
      "text/html": "<div>\n<style scoped>\n    .dataframe tbody tr th:only-of-type {\n        vertical-align: middle;\n    }\n\n    .dataframe tbody tr th {\n        vertical-align: top;\n    }\n\n    .dataframe thead th {\n        text-align: right;\n    }\n</style>\n<table border=\"1\" class=\"dataframe\">\n  <thead>\n    <tr style=\"text-align: right;\">\n      <th></th>\n      <th>Date</th>\n      <th>NewPositive</th>\n      <th>NotPrevPos</th>\n      <th>PosPct</th>\n      <th>PrevPos</th>\n      <th>Tested</th>\n      <th>Tested_kumulativ</th>\n    </tr>\n  </thead>\n  <tbody>\n    <tr>\n      <th>388</th>\n      <td>2021-05-01</td>\n      <td>217</td>\n      <td>183984</td>\n      <td>0.1</td>\n      <td>524</td>\n      <td>184508</td>\n      <td>9559879</td>\n    </tr>\n    <tr>\n      <th>389</th>\n      <td>2021-05-02</td>\n      <td>253</td>\n      <td>228247</td>\n      <td>0.1</td>\n      <td>710</td>\n      <td>228957</td>\n      <td>9788836</td>\n    </tr>\n    <tr>\n      <th>390</th>\n      <td>2021-05-03</td>\n      <td>336</td>\n      <td>361708</td>\n      <td>0.1</td>\n      <td>1108</td>\n      <td>362816</td>\n      <td>10151652</td>\n    </tr>\n    <tr>\n      <th>391</th>\n      <td>2021-05-04</td>\n      <td>334</td>\n      <td>285775</td>\n      <td>0.1</td>\n      <td>777</td>\n      <td>286552</td>\n      <td>10438204</td>\n    </tr>\n    <tr>\n      <th>392</th>\n      <td>2021-05-05</td>\n      <td>282</td>\n      <td>320715</td>\n      <td>0.1</td>\n      <td>862</td>\n      <td>321577</td>\n      <td>10759781</td>\n    </tr>\n  </tbody>\n</table>\n</div>"
     },
     "metadata": {},
     "execution_count": 76
    }
   ],
   "source": [
    "df.tail()"
   ]
  },
  {
   "cell_type": "code",
   "execution_count": 75,
   "metadata": {},
   "outputs": [
    {
     "output_type": "stream",
     "name": "stderr",
     "text": [
      "<ipython-input-75-73cfafaa182d>:2: RuntimeWarning: More than 20 figures have been opened. Figures created through the pyplot interface (`matplotlib.pyplot.figure`) are retained until explicitly closed and may consume too much memory. (To control this warning, see the rcParam `figure.max_open_warning`).\n  plt.figure(figsize=(10,10))\n"
     ]
    },
    {
     "output_type": "display_data",
     "data": {
      "text/plain": "Canvas(toolbar=Toolbar(toolitems=[('Home', 'Reset original view', 'home', 'home'), ('Back', 'Back to previous …",
      "application/vnd.jupyter.widget-view+json": {
       "version_major": 2,
       "version_minor": 0,
       "model_id": "17411bb759314b18bcd863f7b1267d32"
      }
     },
     "metadata": {}
    }
   ],
   "source": [
    "df2.columns\n",
    "plt.figure(figsize=(10,10))\n",
    "# curdf = df2[df2.Dato >= np.datetime64('2021-03-01')]\n",
    "# plt.plot(curdf['AG_testede'],curdf['AGpos_PCRpos'],'*')\n",
    "# curdf = df2[df2.Dato >= np.datetime64('2021-04-01')]\n",
    "# plt.plot(curdf['AG_testede'],curdf['AGpos_PCRpos'],'.')\n",
    "curdf = df2[df2.Dato >= np.datetime64('2021-03-01')]\n",
    "plt.plot(curdf['AG_pos'],curdf['AGpos_PCRpos'],'*')\n",
    "curdf = df2[df2.Dato >= np.datetime64('2021-04-01')]\n",
    "plt.plot(curdf['AG_pos'],curdf['AGpos_PCRpos'],'.')\n",
    "plt.ylim(bottom=0)\n",
    "plt.xlim(left=0)\n",
    "plt.grid()"
   ]
  },
  {
   "source": [
    "# Plejehjem"
   ],
   "cell_type": "markdown",
   "metadata": {}
  },
  {
   "cell_type": "code",
   "execution_count": 24,
   "metadata": {},
   "outputs": [
    {
     "output_type": "error",
     "ename": "FileNotFoundError",
     "evalue": "[Errno 2] No such file or directory: 'c:\\\\Users\\\\rakrpe\\\\Documents\\\\PandemiX\\\\GithubRepos\\\\PandemiX\\\\DanskeData/ssi_data\\\\SSI_data_2021-05-06/plejehjem_ugeoversigt.csv'",
     "traceback": [
      "\u001b[1;31m---------------------------------------------------------------------------\u001b[0m",
      "\u001b[1;31mFileNotFoundError\u001b[0m                         Traceback (most recent call last)",
      "\u001b[1;32m<ipython-input-24-7f4a601e24d8>\u001b[0m in \u001b[0;36m<module>\u001b[1;34m\u001b[0m\n\u001b[1;32m----> 1\u001b[1;33m \u001b[0mdfPle\u001b[0m \u001b[1;33m=\u001b[0m \u001b[0mpd\u001b[0m\u001b[1;33m.\u001b[0m\u001b[0mread_csv\u001b[0m\u001b[1;33m(\u001b[0m\u001b[0mlatestdir\u001b[0m\u001b[1;33m+\u001b[0m\u001b[1;34m'/plejehjem_ugeoversigt.csv'\u001b[0m\u001b[1;33m,\u001b[0m\u001b[0mdelimiter\u001b[0m \u001b[1;33m=\u001b[0m \u001b[1;34m';'\u001b[0m\u001b[1;33m,\u001b[0m\u001b[0mdtype\u001b[0m\u001b[1;33m=\u001b[0m\u001b[0mstr\u001b[0m\u001b[1;33m)\u001b[0m\u001b[1;33m\u001b[0m\u001b[1;33m\u001b[0m\u001b[0m\n\u001b[0m\u001b[0;32m      2\u001b[0m \u001b[0mdfPle\u001b[0m \u001b[1;33m=\u001b[0m \u001b[0mdfPle\u001b[0m\u001b[1;33m.\u001b[0m\u001b[0miloc\u001b[0m\u001b[1;33m[\u001b[0m\u001b[1;33m:\u001b[0m\u001b[1;33m-\u001b[0m\u001b[1;36m1\u001b[0m\u001b[1;33m]\u001b[0m \u001b[1;31m# Remove sum in last row\u001b[0m\u001b[1;33m\u001b[0m\u001b[1;33m\u001b[0m\u001b[0m\n\u001b[0;32m      3\u001b[0m \u001b[1;32mfor\u001b[0m \u001b[0mname\u001b[0m \u001b[1;32min\u001b[0m \u001b[0mdfPle\u001b[0m\u001b[1;33m.\u001b[0m\u001b[0mcolumns\u001b[0m\u001b[1;33m:\u001b[0m\u001b[1;33m\u001b[0m\u001b[1;33m\u001b[0m\u001b[0m\n\u001b[0;32m      4\u001b[0m     \u001b[0mdfPle\u001b[0m\u001b[1;33m[\u001b[0m\u001b[0mname\u001b[0m\u001b[1;33m]\u001b[0m \u001b[1;33m=\u001b[0m \u001b[0mpd\u001b[0m\u001b[1;33m.\u001b[0m\u001b[0mto_numeric\u001b[0m\u001b[1;33m(\u001b[0m\u001b[0mdfPle\u001b[0m\u001b[1;33m[\u001b[0m\u001b[0mname\u001b[0m\u001b[1;33m]\u001b[0m\u001b[1;33m.\u001b[0m\u001b[0mastype\u001b[0m\u001b[1;33m(\u001b[0m\u001b[0mstr\u001b[0m\u001b[1;33m)\u001b[0m\u001b[1;33m.\u001b[0m\u001b[0mapply\u001b[0m\u001b[1;33m(\u001b[0m\u001b[1;32mlambda\u001b[0m \u001b[0mx\u001b[0m\u001b[1;33m:\u001b[0m \u001b[0mx\u001b[0m\u001b[1;33m.\u001b[0m\u001b[0mreplace\u001b[0m\u001b[1;33m(\u001b[0m\u001b[1;34m'.'\u001b[0m\u001b[1;33m,\u001b[0m\u001b[1;34m''\u001b[0m\u001b[1;33m)\u001b[0m\u001b[1;33m)\u001b[0m\u001b[1;33m)\u001b[0m\u001b[1;33m\u001b[0m\u001b[1;33m\u001b[0m\u001b[0m\n",
      "\u001b[1;32m~\\Anaconda3\\envs\\main\\lib\\site-packages\\pandas\\io\\parsers.py\u001b[0m in \u001b[0;36mread_csv\u001b[1;34m(filepath_or_buffer, sep, delimiter, header, names, index_col, usecols, squeeze, prefix, mangle_dupe_cols, dtype, engine, converters, true_values, false_values, skipinitialspace, skiprows, skipfooter, nrows, na_values, keep_default_na, na_filter, verbose, skip_blank_lines, parse_dates, infer_datetime_format, keep_date_col, date_parser, dayfirst, cache_dates, iterator, chunksize, compression, thousands, decimal, lineterminator, quotechar, quoting, doublequote, escapechar, comment, encoding, dialect, error_bad_lines, warn_bad_lines, delim_whitespace, low_memory, memory_map, float_precision, storage_options)\u001b[0m\n\u001b[0;32m    608\u001b[0m     \u001b[0mkwds\u001b[0m\u001b[1;33m.\u001b[0m\u001b[0mupdate\u001b[0m\u001b[1;33m(\u001b[0m\u001b[0mkwds_defaults\u001b[0m\u001b[1;33m)\u001b[0m\u001b[1;33m\u001b[0m\u001b[1;33m\u001b[0m\u001b[0m\n\u001b[0;32m    609\u001b[0m \u001b[1;33m\u001b[0m\u001b[0m\n\u001b[1;32m--> 610\u001b[1;33m     \u001b[1;32mreturn\u001b[0m \u001b[0m_read\u001b[0m\u001b[1;33m(\u001b[0m\u001b[0mfilepath_or_buffer\u001b[0m\u001b[1;33m,\u001b[0m \u001b[0mkwds\u001b[0m\u001b[1;33m)\u001b[0m\u001b[1;33m\u001b[0m\u001b[1;33m\u001b[0m\u001b[0m\n\u001b[0m\u001b[0;32m    611\u001b[0m \u001b[1;33m\u001b[0m\u001b[0m\n\u001b[0;32m    612\u001b[0m \u001b[1;33m\u001b[0m\u001b[0m\n",
      "\u001b[1;32m~\\Anaconda3\\envs\\main\\lib\\site-packages\\pandas\\io\\parsers.py\u001b[0m in \u001b[0;36m_read\u001b[1;34m(filepath_or_buffer, kwds)\u001b[0m\n\u001b[0;32m    460\u001b[0m \u001b[1;33m\u001b[0m\u001b[0m\n\u001b[0;32m    461\u001b[0m     \u001b[1;31m# Create the parser.\u001b[0m\u001b[1;33m\u001b[0m\u001b[1;33m\u001b[0m\u001b[1;33m\u001b[0m\u001b[0m\n\u001b[1;32m--> 462\u001b[1;33m     \u001b[0mparser\u001b[0m \u001b[1;33m=\u001b[0m \u001b[0mTextFileReader\u001b[0m\u001b[1;33m(\u001b[0m\u001b[0mfilepath_or_buffer\u001b[0m\u001b[1;33m,\u001b[0m \u001b[1;33m**\u001b[0m\u001b[0mkwds\u001b[0m\u001b[1;33m)\u001b[0m\u001b[1;33m\u001b[0m\u001b[1;33m\u001b[0m\u001b[0m\n\u001b[0m\u001b[0;32m    463\u001b[0m \u001b[1;33m\u001b[0m\u001b[0m\n\u001b[0;32m    464\u001b[0m     \u001b[1;32mif\u001b[0m \u001b[0mchunksize\u001b[0m \u001b[1;32mor\u001b[0m \u001b[0miterator\u001b[0m\u001b[1;33m:\u001b[0m\u001b[1;33m\u001b[0m\u001b[1;33m\u001b[0m\u001b[0m\n",
      "\u001b[1;32m~\\Anaconda3\\envs\\main\\lib\\site-packages\\pandas\\io\\parsers.py\u001b[0m in \u001b[0;36m__init__\u001b[1;34m(self, f, engine, **kwds)\u001b[0m\n\u001b[0;32m    817\u001b[0m             \u001b[0mself\u001b[0m\u001b[1;33m.\u001b[0m\u001b[0moptions\u001b[0m\u001b[1;33m[\u001b[0m\u001b[1;34m\"has_index_names\"\u001b[0m\u001b[1;33m]\u001b[0m \u001b[1;33m=\u001b[0m \u001b[0mkwds\u001b[0m\u001b[1;33m[\u001b[0m\u001b[1;34m\"has_index_names\"\u001b[0m\u001b[1;33m]\u001b[0m\u001b[1;33m\u001b[0m\u001b[1;33m\u001b[0m\u001b[0m\n\u001b[0;32m    818\u001b[0m \u001b[1;33m\u001b[0m\u001b[0m\n\u001b[1;32m--> 819\u001b[1;33m         \u001b[0mself\u001b[0m\u001b[1;33m.\u001b[0m\u001b[0m_engine\u001b[0m \u001b[1;33m=\u001b[0m \u001b[0mself\u001b[0m\u001b[1;33m.\u001b[0m\u001b[0m_make_engine\u001b[0m\u001b[1;33m(\u001b[0m\u001b[0mself\u001b[0m\u001b[1;33m.\u001b[0m\u001b[0mengine\u001b[0m\u001b[1;33m)\u001b[0m\u001b[1;33m\u001b[0m\u001b[1;33m\u001b[0m\u001b[0m\n\u001b[0m\u001b[0;32m    820\u001b[0m \u001b[1;33m\u001b[0m\u001b[0m\n\u001b[0;32m    821\u001b[0m     \u001b[1;32mdef\u001b[0m \u001b[0mclose\u001b[0m\u001b[1;33m(\u001b[0m\u001b[0mself\u001b[0m\u001b[1;33m)\u001b[0m\u001b[1;33m:\u001b[0m\u001b[1;33m\u001b[0m\u001b[1;33m\u001b[0m\u001b[0m\n",
      "\u001b[1;32m~\\Anaconda3\\envs\\main\\lib\\site-packages\\pandas\\io\\parsers.py\u001b[0m in \u001b[0;36m_make_engine\u001b[1;34m(self, engine)\u001b[0m\n\u001b[0;32m   1048\u001b[0m             )\n\u001b[0;32m   1049\u001b[0m         \u001b[1;31m# error: Too many arguments for \"ParserBase\"\u001b[0m\u001b[1;33m\u001b[0m\u001b[1;33m\u001b[0m\u001b[1;33m\u001b[0m\u001b[0m\n\u001b[1;32m-> 1050\u001b[1;33m         \u001b[1;32mreturn\u001b[0m \u001b[0mmapping\u001b[0m\u001b[1;33m[\u001b[0m\u001b[0mengine\u001b[0m\u001b[1;33m]\u001b[0m\u001b[1;33m(\u001b[0m\u001b[0mself\u001b[0m\u001b[1;33m.\u001b[0m\u001b[0mf\u001b[0m\u001b[1;33m,\u001b[0m \u001b[1;33m**\u001b[0m\u001b[0mself\u001b[0m\u001b[1;33m.\u001b[0m\u001b[0moptions\u001b[0m\u001b[1;33m)\u001b[0m  \u001b[1;31m# type: ignore[call-arg]\u001b[0m\u001b[1;33m\u001b[0m\u001b[1;33m\u001b[0m\u001b[0m\n\u001b[0m\u001b[0;32m   1051\u001b[0m \u001b[1;33m\u001b[0m\u001b[0m\n\u001b[0;32m   1052\u001b[0m     \u001b[1;32mdef\u001b[0m \u001b[0m_failover_to_python\u001b[0m\u001b[1;33m(\u001b[0m\u001b[0mself\u001b[0m\u001b[1;33m)\u001b[0m\u001b[1;33m:\u001b[0m\u001b[1;33m\u001b[0m\u001b[1;33m\u001b[0m\u001b[0m\n",
      "\u001b[1;32m~\\Anaconda3\\envs\\main\\lib\\site-packages\\pandas\\io\\parsers.py\u001b[0m in \u001b[0;36m__init__\u001b[1;34m(self, src, **kwds)\u001b[0m\n\u001b[0;32m   1865\u001b[0m \u001b[1;33m\u001b[0m\u001b[0m\n\u001b[0;32m   1866\u001b[0m         \u001b[1;31m# open handles\u001b[0m\u001b[1;33m\u001b[0m\u001b[1;33m\u001b[0m\u001b[1;33m\u001b[0m\u001b[0m\n\u001b[1;32m-> 1867\u001b[1;33m         \u001b[0mself\u001b[0m\u001b[1;33m.\u001b[0m\u001b[0m_open_handles\u001b[0m\u001b[1;33m(\u001b[0m\u001b[0msrc\u001b[0m\u001b[1;33m,\u001b[0m \u001b[0mkwds\u001b[0m\u001b[1;33m)\u001b[0m\u001b[1;33m\u001b[0m\u001b[1;33m\u001b[0m\u001b[0m\n\u001b[0m\u001b[0;32m   1868\u001b[0m         \u001b[1;32massert\u001b[0m \u001b[0mself\u001b[0m\u001b[1;33m.\u001b[0m\u001b[0mhandles\u001b[0m \u001b[1;32mis\u001b[0m \u001b[1;32mnot\u001b[0m \u001b[1;32mNone\u001b[0m\u001b[1;33m\u001b[0m\u001b[1;33m\u001b[0m\u001b[0m\n\u001b[0;32m   1869\u001b[0m         \u001b[1;32mfor\u001b[0m \u001b[0mkey\u001b[0m \u001b[1;32min\u001b[0m \u001b[1;33m(\u001b[0m\u001b[1;34m\"storage_options\"\u001b[0m\u001b[1;33m,\u001b[0m \u001b[1;34m\"encoding\"\u001b[0m\u001b[1;33m,\u001b[0m \u001b[1;34m\"memory_map\"\u001b[0m\u001b[1;33m,\u001b[0m \u001b[1;34m\"compression\"\u001b[0m\u001b[1;33m)\u001b[0m\u001b[1;33m:\u001b[0m\u001b[1;33m\u001b[0m\u001b[1;33m\u001b[0m\u001b[0m\n",
      "\u001b[1;32m~\\Anaconda3\\envs\\main\\lib\\site-packages\\pandas\\io\\parsers.py\u001b[0m in \u001b[0;36m_open_handles\u001b[1;34m(self, src, kwds)\u001b[0m\n\u001b[0;32m   1360\u001b[0m         \u001b[0mLet\u001b[0m \u001b[0mthe\u001b[0m \u001b[0mreaders\u001b[0m \u001b[0mopen\u001b[0m \u001b[0mIOHanldes\u001b[0m \u001b[0mafter\u001b[0m \u001b[0mthey\u001b[0m \u001b[0mare\u001b[0m \u001b[0mdone\u001b[0m \u001b[1;32mwith\u001b[0m \u001b[0mtheir\u001b[0m \u001b[0mpotential\u001b[0m \u001b[0mraises\u001b[0m\u001b[1;33m.\u001b[0m\u001b[1;33m\u001b[0m\u001b[1;33m\u001b[0m\u001b[0m\n\u001b[0;32m   1361\u001b[0m         \"\"\"\n\u001b[1;32m-> 1362\u001b[1;33m         self.handles = get_handle(\n\u001b[0m\u001b[0;32m   1363\u001b[0m             \u001b[0msrc\u001b[0m\u001b[1;33m,\u001b[0m\u001b[1;33m\u001b[0m\u001b[1;33m\u001b[0m\u001b[0m\n\u001b[0;32m   1364\u001b[0m             \u001b[1;34m\"r\"\u001b[0m\u001b[1;33m,\u001b[0m\u001b[1;33m\u001b[0m\u001b[1;33m\u001b[0m\u001b[0m\n",
      "\u001b[1;32m~\\Anaconda3\\envs\\main\\lib\\site-packages\\pandas\\io\\common.py\u001b[0m in \u001b[0;36mget_handle\u001b[1;34m(path_or_buf, mode, encoding, compression, memory_map, is_text, errors, storage_options)\u001b[0m\n\u001b[0;32m    640\u001b[0m                 \u001b[0merrors\u001b[0m \u001b[1;33m=\u001b[0m \u001b[1;34m\"replace\"\u001b[0m\u001b[1;33m\u001b[0m\u001b[1;33m\u001b[0m\u001b[0m\n\u001b[0;32m    641\u001b[0m             \u001b[1;31m# Encoding\u001b[0m\u001b[1;33m\u001b[0m\u001b[1;33m\u001b[0m\u001b[1;33m\u001b[0m\u001b[0m\n\u001b[1;32m--> 642\u001b[1;33m             handle = open(\n\u001b[0m\u001b[0;32m    643\u001b[0m                 \u001b[0mhandle\u001b[0m\u001b[1;33m,\u001b[0m\u001b[1;33m\u001b[0m\u001b[1;33m\u001b[0m\u001b[0m\n\u001b[0;32m    644\u001b[0m                 \u001b[0mioargs\u001b[0m\u001b[1;33m.\u001b[0m\u001b[0mmode\u001b[0m\u001b[1;33m,\u001b[0m\u001b[1;33m\u001b[0m\u001b[1;33m\u001b[0m\u001b[0m\n",
      "\u001b[1;31mFileNotFoundError\u001b[0m: [Errno 2] No such file or directory: 'c:\\\\Users\\\\rakrpe\\\\Documents\\\\PandemiX\\\\GithubRepos\\\\PandemiX\\\\DanskeData/ssi_data\\\\SSI_data_2021-05-06/plejehjem_ugeoversigt.csv'"
     ]
    }
   ],
   "source": [
    "dfPle = pd.read_csv(latestdir+'/plejehjem_ugeoversigt.csv',delimiter = ';',dtype=str)\n",
    "dfPle = dfPle.iloc[:-1] # Remove sum in last row\n",
    "for name in dfPle.columns:\n",
    "    dfPle[name] = pd.to_numeric(dfPle[name].astype(str).apply(lambda x: x.replace('.','')))"
   ]
  },
  {
   "cell_type": "code",
   "execution_count": 1,
   "metadata": {},
   "outputs": [
    {
     "output_type": "error",
     "ename": "NameError",
     "evalue": "name 'dfPle' is not defined",
     "traceback": [
      "\u001b[1;31m---------------------------------------------------------------------------\u001b[0m",
      "\u001b[1;31mNameError\u001b[0m                                 Traceback (most recent call last)",
      "\u001b[1;32m<ipython-input-1-9e32c80d4fc6>\u001b[0m in \u001b[0;36m<module>\u001b[1;34m\u001b[0m\n\u001b[1;32m----> 1\u001b[1;33m \u001b[0mdfPle\u001b[0m\u001b[1;33m.\u001b[0m\u001b[0mtail\u001b[0m\u001b[1;33m(\u001b[0m\u001b[1;33m)\u001b[0m\u001b[1;33m\u001b[0m\u001b[1;33m\u001b[0m\u001b[0m\n\u001b[0m",
      "\u001b[1;31mNameError\u001b[0m: name 'dfPle' is not defined"
     ]
    }
   ],
   "source": [
    "dfPle.tail()"
   ]
  },
  {
   "cell_type": "code",
   "execution_count": 61,
   "metadata": {},
   "outputs": [
    {
     "output_type": "execute_result",
     "data": {
      "text/plain": [
       "Index(['År', 'Uge', 'Bekæftede tilfælde beboere',\n",
       "       'Dødsfald blandt bekæftede beboere', 'Plejehjem med bekæftede tilfælde',\n",
       "       'Testede beboere', 'Plejehjem med testede beboere'],\n",
       "      dtype='object')"
      ]
     },
     "metadata": {},
     "execution_count": 61
    }
   ],
   "source": [
    "pleCols = dfPle.columns\n",
    "pleCols"
   ]
  },
  {
   "cell_type": "code",
   "execution_count": 64,
   "metadata": {},
   "outputs": [],
   "source": [
    "pleDates = dfPle['År'].astype(str) +'-'+ dfPle['Uge'].astype(str)"
   ]
  },
  {
   "cell_type": "code",
   "execution_count": 83,
   "metadata": {},
   "outputs": [
    {
     "output_type": "display_data",
     "data": {
      "text/plain": "Canvas(toolbar=Toolbar(toolitems=[('Home', 'Reset original view', 'home', 'home'), ('Back', 'Back to previous …",
      "application/vnd.jupyter.widget-view+json": {
       "version_major": 2,
       "version_minor": 0,
       "model_id": "3203249d6de24b5582ef062f9b79bfe9"
      }
     },
     "metadata": {}
    }
   ],
   "source": [
    "# fig,ax1 = plt.subplots(1,1)\n",
    "# fig,(ax1,ax2,ax3,ax4,ax5) = plt.subplots(5,1,sharex=True)\n",
    "fig,allAxes = plt.subplots(5,1,sharex=True,figsize=(16,14))\n",
    "\n",
    "for k in range(0,len(pleCols)-2):\n",
    "    curAx = allAxes[k]\n",
    "    \n",
    "    curAx.plot(pleDates,dfPle[pleCols[k+2]],'k')\n",
    "    curAx.set_title(pleCols[k+2])\n",
    "    \n",
    "    curAx.set_ylim(bottom=0)\n",
    "    \n",
    "    curAx.grid()\n",
    "\n",
    "# ax1.plot(pleDates,dfPle[pleCols[2]])\n",
    "# ax2.plot(pleDates,dfPle[pleCols[3]])\n",
    "# ax3.plot(pleDates,dfPle[pleCols[4]])\n",
    "# ax4.plot(pleDates,dfPle[pleCols[5]])\n",
    "# ax5.plot(pleDates,dfPle[pleCols[6]])\n",
    "# ax5.set_ylabel()\n",
    "\n",
    "# ax1.set_ylim(bottom=0)\n",
    "# ax2.set_ylim(bottom=0)\n",
    "# ax3.set_ylim(bottom=0)\n",
    "# ax4.set_ylim(bottom=0)\n",
    "# ax5.set_ylim(bottom=0)\n",
    "# ax1.grid()\n",
    "# ax2.grid()\n",
    "# ax3.grid()\n",
    "# ax4.grid()\n",
    "# ax5.grid()\n",
    "\n",
    "# ax1.set_xticks(pleDates[::2])\n",
    "# # ax1.set_xticklabels(rotation=90)\n",
    "# plt.xticks(rotation=90)\n",
    "\n",
    "curAx.set_xticks(pleDates[::2])\n",
    "plt.xticks(rotation=90)\n",
    "\n",
    "plt.tight_layout()\n",
    "\n",
    "if saveFigures:\n",
    "    plt.savefig('figs/Plejehjem')"
   ]
  },
  {
   "source": [
    "# Age stuff"
   ],
   "cell_type": "markdown",
   "metadata": {}
  },
  {
   "cell_type": "code",
   "execution_count": 26,
   "metadata": {},
   "outputs": [],
   "source": [
    "dfAge = pd.read_csv(latestdir+'/Cases_by_age.csv',delimiter = ';',dtype=str)"
   ]
  },
  {
   "cell_type": "code",
   "execution_count": 27,
   "metadata": {
    "tags": []
   },
   "outputs": [],
   "source": [
    "ssidatapath = \"ssi_data\"\n",
    "rootdir = os.getcwd() +\"/\" + ssidatapath\n",
    "\n",
    "\n",
    "conf = []\n",
    "test = []\n",
    "posp = []\n",
    "\n",
    "for subdir, dirs, files in os.walk(rootdir):\n",
    "    if not len(files) == 0:\n",
    "        latestdir = subdir\n",
    "        latestDate = pd.to_datetime(subdir[-10:])\n",
    "        curdf = pd.read_csv(latestdir+'/Cases_by_age.csv',delimiter = ';',dtype=str)\n",
    "        conf.append(curdf.iloc[9,1])\n",
    "        test.append(curdf.iloc[9,2])\n",
    "        posp.append(curdf.iloc[9,3])\n",
    "        # print(curdf)"
   ]
  },
  {
   "cell_type": "code",
   "execution_count": 28,
   "metadata": {},
   "outputs": [],
   "source": [
    "# dfAge = pd.read_csv''/Cases_by_age.csv',delimiter = ';',dtype=str)\n",
    "latestdir\n",
    "\n",
    "dfAge = pd.read_csv('ssi_data\\\\SSI_data_2021-04-06\\\\Cases_by_age.csv',delimiter = ';',dtype=str)"
   ]
  },
  {
   "cell_type": "code",
   "execution_count": 29,
   "metadata": {},
   "outputs": [
    {
     "output_type": "execute_result",
     "data": {
      "text/plain": [
       "   Aldersgruppe Antal_bekræftede_COVID-19 Antal_testede Procent_positive\n",
       "0           0-9                    17.004       411.910              4,1\n",
       "1         10-19                    36.065       608.757              5,9\n",
       "2         20-29                    43.793       679.566              6,4\n",
       "3         30-39                    32.409       596.068              5,4\n",
       "4         40-49                    34.396       637.766              5,4\n",
       "5         50-59                    33.504       651.292              5,1\n",
       "6         60-69                    18.247       487.720              3,7\n",
       "7         70-79                    11.219       369.509              3,0\n",
       "8         80-89                     5.850       140.967              4,1\n",
       "9           90+                     1.830        29.111              6,3\n",
       "10        I alt                   234.317     4.612.666              5,1"
      ],
      "text/html": "<div>\n<style scoped>\n    .dataframe tbody tr th:only-of-type {\n        vertical-align: middle;\n    }\n\n    .dataframe tbody tr th {\n        vertical-align: top;\n    }\n\n    .dataframe thead th {\n        text-align: right;\n    }\n</style>\n<table border=\"1\" class=\"dataframe\">\n  <thead>\n    <tr style=\"text-align: right;\">\n      <th></th>\n      <th>Aldersgruppe</th>\n      <th>Antal_bekræftede_COVID-19</th>\n      <th>Antal_testede</th>\n      <th>Procent_positive</th>\n    </tr>\n  </thead>\n  <tbody>\n    <tr>\n      <th>0</th>\n      <td>0-9</td>\n      <td>17.004</td>\n      <td>411.910</td>\n      <td>4,1</td>\n    </tr>\n    <tr>\n      <th>1</th>\n      <td>10-19</td>\n      <td>36.065</td>\n      <td>608.757</td>\n      <td>5,9</td>\n    </tr>\n    <tr>\n      <th>2</th>\n      <td>20-29</td>\n      <td>43.793</td>\n      <td>679.566</td>\n      <td>6,4</td>\n    </tr>\n    <tr>\n      <th>3</th>\n      <td>30-39</td>\n      <td>32.409</td>\n      <td>596.068</td>\n      <td>5,4</td>\n    </tr>\n    <tr>\n      <th>4</th>\n      <td>40-49</td>\n      <td>34.396</td>\n      <td>637.766</td>\n      <td>5,4</td>\n    </tr>\n    <tr>\n      <th>5</th>\n      <td>50-59</td>\n      <td>33.504</td>\n      <td>651.292</td>\n      <td>5,1</td>\n    </tr>\n    <tr>\n      <th>6</th>\n      <td>60-69</td>\n      <td>18.247</td>\n      <td>487.720</td>\n      <td>3,7</td>\n    </tr>\n    <tr>\n      <th>7</th>\n      <td>70-79</td>\n      <td>11.219</td>\n      <td>369.509</td>\n      <td>3,0</td>\n    </tr>\n    <tr>\n      <th>8</th>\n      <td>80-89</td>\n      <td>5.850</td>\n      <td>140.967</td>\n      <td>4,1</td>\n    </tr>\n    <tr>\n      <th>9</th>\n      <td>90+</td>\n      <td>1.830</td>\n      <td>29.111</td>\n      <td>6,3</td>\n    </tr>\n    <tr>\n      <th>10</th>\n      <td>I alt</td>\n      <td>234.317</td>\n      <td>4.612.666</td>\n      <td>5,1</td>\n    </tr>\n  </tbody>\n</table>\n</div>"
     },
     "metadata": {},
     "execution_count": 29
    }
   ],
   "source": [
    "dfAge"
   ]
  },
  {
   "cell_type": "code",
   "execution_count": 30,
   "metadata": {},
   "outputs": [],
   "source": [
    "# dfDeaths = pd.read_excel(\"C://Users//rakrpe//Documents//PandemiX//GithubRepos//PandemiX//DanskeData//DeathsAgeDK//Deaths.xlsx\")"
   ]
  },
  {
   "cell_type": "code",
   "execution_count": 31,
   "metadata": {},
   "outputs": [],
   "source": [
    "dfDeaths = pd.read_excel('DeathsAgeDK/Deaths.xlsx')"
   ]
  },
  {
   "cell_type": "code",
   "execution_count": 32,
   "metadata": {},
   "outputs": [],
   "source": [
    "dfDeaths = dfDeaths.transpose()"
   ]
  },
  {
   "cell_type": "code",
   "execution_count": 33,
   "metadata": {},
   "outputs": [],
   "source": [
    "dfDeaths.columns = dfDeaths.iloc[0]"
   ]
  },
  {
   "cell_type": "code",
   "execution_count": 34,
   "metadata": {},
   "outputs": [],
   "source": [
    "dfDeaths = dfDeaths.drop(['Aldersgruppe']) "
   ]
  },
  {
   "cell_type": "code",
   "execution_count": 35,
   "metadata": {},
   "outputs": [],
   "source": [
    "# plt.figure()\n",
    "# plt.plot(dfDeaths)\n",
    "\n",
    "\n",
    "curDates =  pd.to_datetime(dfDeaths.index,format='%d_%m_%Y')"
   ]
  },
  {
   "cell_type": "code",
   "execution_count": 36,
   "metadata": {},
   "outputs": [
    {
     "output_type": "display_data",
     "data": {
      "text/plain": "Canvas(toolbar=Toolbar(toolitems=[('Home', 'Reset original view', 'home', 'home'), ('Back', 'Back to previous …",
      "application/vnd.jupyter.widget-view+json": {
       "version_major": 2,
       "version_minor": 0,
       "model_id": "a920da9d0dbf488e9b1441a4d394f4fe"
      }
     },
     "metadata": {}
    }
   ],
   "source": [
    "# plt.figure()\n",
    "# fig,(ax1,ax2) = plt.subplots(2,1,sharex=True)\n",
    "fig,(ax1,ax2,ax3) = plt.subplots(3,1,sharex=True)\n",
    "\n",
    "# for colNames in dfDeaths.columns[:-1]:\n",
    "for colNames in dfDeaths.columns:\n",
    "    # plt.plot(curDates,dfDeaths['0-9'])\n",
    "    ax1.plot(curDates,dfDeaths[colNames],label=colNames)\n",
    "    ax2.plot(curDates[0:-1],np.diff(dfDeaths[colNames]),label=colNames)\n",
    "    ax3.plot(curDates[0:-1],np.diff(dfDeaths[colNames]),label=colNames)\n",
    "\n",
    "ax2.legend(loc='center left',bbox_to_anchor = (1.0, 0.5))\n",
    "ax1.grid()\n",
    "ax2.grid()\n",
    "ax3.grid()\n",
    "\n",
    "ax1.set_ylim(bottom=0)\n",
    "ax2.set_ylim(bottom=0)\n",
    "ax3.set_ylim(bottom=0,top=10)\n",
    "\n",
    "# ax1.set_xlim(left=curDates[0],right=date.today())\n",
    "ax1.set_xlim(right=date.today())\n",
    "ax1.xaxis.set_major_formatter(mdates.DateFormatter('%d %b\\n%Y'))\n",
    "\n",
    "ax1.set_ylabel('Kumulative dødsfald')\n",
    "ax2.set_ylabel('Dødsfald')\n",
    "ax3.set_ylabel('Dødsfald')\n",
    "\n",
    "plt.tight_layout()\n",
    "\n",
    "if saveFigures:\n",
    "    fig.savefig('figs/DeathsByAge')"
   ]
  },
  {
   "cell_type": "code",
   "execution_count": 37,
   "metadata": {},
   "outputs": [
    {
     "output_type": "display_data",
     "data": {
      "text/plain": "Canvas(toolbar=Toolbar(toolitems=[('Home', 'Reset original view', 'home', 'home'), ('Back', 'Back to previous …",
      "application/vnd.jupyter.widget-view+json": {
       "version_major": 2,
       "version_minor": 0,
       "model_id": "7d1aa6e247004cc2b0c0b01eb1cb8e9d"
      }
     },
     "metadata": {}
    },
    {
     "output_type": "error",
     "ename": "TypeError",
     "evalue": "ufunc 'add' output (typecode 'O') could not be coerced to provided output parameter (typecode 'd') according to the casting rule ''same_kind''",
     "traceback": [
      "\u001b[1;31m---------------------------------------------------------------------------\u001b[0m",
      "\u001b[1;31mTypeError\u001b[0m                                 Traceback (most recent call last)",
      "\u001b[1;32m<ipython-input-37-4dc8c831790a>\u001b[0m in \u001b[0;36m<module>\u001b[1;34m\u001b[0m\n\u001b[0;32m      6\u001b[0m \u001b[1;32mfor\u001b[0m \u001b[0mcolNames\u001b[0m \u001b[1;32min\u001b[0m \u001b[0mdfDeaths\u001b[0m\u001b[1;33m.\u001b[0m\u001b[0mcolumns\u001b[0m\u001b[1;33m:\u001b[0m\u001b[1;33m\u001b[0m\u001b[1;33m\u001b[0m\u001b[0m\n\u001b[0;32m      7\u001b[0m \u001b[1;33m\u001b[0m\u001b[0m\n\u001b[1;32m----> 8\u001b[1;33m     \u001b[0mcurVals\u001b[0m \u001b[1;33m+=\u001b[0m \u001b[0mnp\u001b[0m\u001b[1;33m.\u001b[0m\u001b[0mdiff\u001b[0m\u001b[1;33m(\u001b[0m\u001b[0mdfDeaths\u001b[0m\u001b[1;33m[\u001b[0m\u001b[0mcolNames\u001b[0m\u001b[1;33m]\u001b[0m\u001b[1;33m)\u001b[0m\u001b[1;33m\u001b[0m\u001b[1;33m\u001b[0m\u001b[0m\n\u001b[0m\u001b[0;32m      9\u001b[0m     \u001b[0max1\u001b[0m\u001b[1;33m.\u001b[0m\u001b[0mplot\u001b[0m\u001b[1;33m(\u001b[0m\u001b[0mcurDates\u001b[0m\u001b[1;33m[\u001b[0m\u001b[1;36m0\u001b[0m\u001b[1;33m:\u001b[0m\u001b[1;33m-\u001b[0m\u001b[1;36m1\u001b[0m\u001b[1;33m]\u001b[0m\u001b[1;33m,\u001b[0m\u001b[0mcurVals\u001b[0m\u001b[1;33m)\u001b[0m\u001b[1;33m\u001b[0m\u001b[1;33m\u001b[0m\u001b[0m\n\u001b[0;32m     10\u001b[0m \u001b[1;33m\u001b[0m\u001b[0m\n",
      "\u001b[1;31mTypeError\u001b[0m: ufunc 'add' output (typecode 'O') could not be coerced to provided output parameter (typecode 'd') according to the casting rule ''same_kind''"
     ]
    }
   ],
   "source": [
    "# plt.figure()\n",
    "# fig,(ax1,ax2) = plt.subplots(2,1,sharex=True)\n",
    "fig,ax1 = plt.subplots(1,1,sharex=True)\n",
    "\n",
    "curVals = np.zeros(curDates[0:-1].shape)\n",
    "for colNames in dfDeaths.columns:\n",
    "\n",
    "    curVals += np.diff(dfDeaths[colNames])\n",
    "    ax1.plot(curDates[0:-1],curVals)\n",
    "\n",
    "    # plt.plot(curDates,dfDeaths['0-9'])\n",
    "    # ax1.plot(curDates,dfDeaths[colNames],label=colNames)\n",
    "\n",
    "    # ax2.plot(curDates[0:-1],np.diff(dfDeaths[colNames]),label=colNames)\n",
    "    # ax3.plot(curDates[0:-1],np.diff(dfDeaths[colNames]),label=colNames)\n",
    "\n",
    "ax1.legend(loc='center left',bbox_to_anchor = (1.0, 0.5))\n",
    "ax1.grid()\n",
    "\n",
    "ax1.set_ylim(bottom=0)\n",
    "\n",
    "# ax1.set_xlim(left=curDates[0],right=date.today())\n",
    "ax1.set_xlim(right=date.today())\n",
    "ax1.xaxis.set_major_formatter(mdates.DateFormatter('%d %b\\n%Y'))\n",
    "\n",
    "ax1.set_ylabel('Kumulative dødsfald')\n",
    "# ax2.set_ylabel('Dødsfald')\n",
    "# ax3.set_ylabel('Dødsfald')\n",
    "\n",
    "plt.tight_layout()\n",
    "\n",
    "# if saveFigures:\n",
    "#     fig.savefig('figs/DeathsByAge')"
   ]
  },
  {
   "cell_type": "code",
   "execution_count": null,
   "metadata": {},
   "outputs": [],
   "source": [
    "# np.diff(dfDeaths[colNames])\n",
    "# curVals\n",
    "dfDeaths"
   ]
  },
  {
   "cell_type": "code",
   "execution_count": null,
   "metadata": {},
   "outputs": [],
   "source": [
    "dfAge"
   ]
  },
  {
   "cell_type": "code",
   "execution_count": null,
   "metadata": {},
   "outputs": [],
   "source": [
    "fig,(ax1,ax2) = plt.subplots(2,1,sharex=True)\n",
    "\n",
    "\n",
    "ax1.plot(curDates,dfDeaths['60-69'])\n",
    "\n",
    "plt.tight_layout()"
   ]
  },
  {
   "cell_type": "code",
   "execution_count": null,
   "metadata": {},
   "outputs": [],
   "source": [
    "curDates"
   ]
  }
 ]
}