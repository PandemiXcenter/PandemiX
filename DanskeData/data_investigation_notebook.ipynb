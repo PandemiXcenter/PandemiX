{
 "metadata": {
  "language_info": {
   "codemirror_mode": {
    "name": "ipython",
    "version": 3
   },
   "file_extension": ".py",
   "mimetype": "text/x-python",
   "name": "python",
   "nbconvert_exporter": "python",
   "pygments_lexer": "ipython3",
   "version": "3.8.8"
  },
  "orig_nbformat": 2,
  "kernelspec": {
   "name": "python388jvsc74a57bd0c031fd63bd977d199cd6020c30a19695eacbb638d100e0b8a5ea53080ed74a9a",
   "display_name": "Python 3.8.8 64-bit ('main': conda)"
  }
 },
 "nbformat": 4,
 "nbformat_minor": 2,
 "cells": [
  {
   "cell_type": "code",
   "execution_count": 4,
   "metadata": {},
   "outputs": [
    {
     "output_type": "stream",
     "name": "stdout",
     "text": [
      "saveFigures is set to: True\nDone loading packages\n"
     ]
    }
   ],
   "source": [
    "# Main notebook for playing around looking at different things in data\n",
    "import numpy as np\n",
    "import pandas as pd\n",
    "pd.set_option('display.max_rows', 500)\n",
    "pd.set_option('display.min_rows', 50)\n",
    "\n",
    "\n",
    "import matplotlib.pyplot as plt\n",
    "%matplotlib widget\n",
    "plt.rcParams['figure.figsize'] = (12,8)\n",
    "plt.rcParams[\"image.cmap\"] = \"Dark2\"\n",
    "plt.rcParams['axes.prop_cycle'] = plt.cycler(color=plt.cm.Dark2.colors)\n",
    "plt.rcParams['lines.markersize'] = 10\n",
    "%matplotlib widget\n",
    "# plt.style.use('ggplot')\n",
    "import matplotlib.colors as colors\n",
    "# cmap = plt.cm.get_cmap('Dark2',len(ageGroups))\n",
    "from matplotlib import cm # Colormaps\n",
    "\n",
    "import locale\n",
    "import matplotlib.dates as mdates\n",
    "locale.setlocale(locale.LC_TIME,\"Danish\")\n",
    "# ax = plt.gca()\n",
    "# ax1.xaxis.set_major_formatter(mdates.DateFormatter('%b\\n%Y'))\n",
    "# # ax.xaxis.set_major_formatter(mdates.DateFormatter('%Y \\n %B'))\n",
    "\n",
    "import os\n",
    "# import csv\n",
    "import math\n",
    "\n",
    "\n",
    "from datetime import date\n",
    "\n",
    "\n",
    "saveFigures = True\n",
    "print('saveFigures is set to: '+str(saveFigures))\n",
    "\n",
    "print('Done loading packages')\n",
    "\n",
    "def rnMean(data,meanWidth):\n",
    "    return np.convolve(data, np.ones(meanWidth)/meanWidth, mode='valid')\n",
    "def rnTime(t,meanWidth):\n",
    "    return t[math.floor(meanWidth/2):-math.ceil(meanWidth/2)+1]\n"
   ]
  },
  {
   "cell_type": "code",
   "execution_count": 5,
   "metadata": {},
   "outputs": [
    {
     "output_type": "stream",
     "name": "stdout",
     "text": [
      "d:\\Pandemix\\Github\\DanskeData/ssi_data\\SSI_data_2021-04-26\n2021-04-26 00:00:00\n"
     ]
    }
   ],
   "source": [
    "ssidatapath = \"ssi_data\"\n",
    "rootdir = os.getcwd() +\"/\" + ssidatapath\n",
    "\n",
    "\n",
    "for subdir, dirs, files in os.walk(rootdir):\n",
    "    if not len(files) == 0:\n",
    "        latestdir = subdir\n",
    "        latestDate = pd.to_datetime(subdir[-10:])\n",
    "\n",
    "print(latestdir)\n",
    "print(latestDate)"
   ]
  },
  {
   "cell_type": "code",
   "execution_count": 6,
   "metadata": {},
   "outputs": [],
   "source": [
    "# Load the data\n",
    "fulldfPCR = pd.read_csv(latestdir+'/Test_pos_over_time.csv',delimiter = ';',dtype=str)\n",
    "fulldf = pd.read_csv(latestdir+'/Test_pos_over_time_antigen.csv',delimiter = ';',dtype=str)\n",
    "\n",
    "# Cut out the last two rows of summary numbers\n",
    "dfPCR = fulldfPCR.iloc[:-2,:].copy()\n",
    "df = fulldf.iloc[:-2,:].copy()"
   ]
  },
  {
   "cell_type": "code",
   "execution_count": 9,
   "metadata": {},
   "outputs": [],
   "source": [
    "dfPCR[\"PosPct\"] = pd.to_numeric(dfPCR[\"PosPct\"].astype(str).apply(lambda x: x.replace(',','.')))\n",
    "dfPCR[\"Date\"] = dfPCR[\"Date\"].astype('datetime64[D]')\n",
    "df[\"PosPct\"] = pd.to_numeric(df[\"PosPct\"].astype(str).apply(lambda x: x.replace(',','.')))\n",
    "df[\"Date\"] = df[\"Date\"].astype('datetime64[D]')\n",
    "\n",
    "rows_to_fix_period_in = [\"NewPositive\",\"NotPrevPos\",\"PrevPos\",\"Tested\",\"Tested_kumulativ\"]\n",
    "for name in rows_to_fix_period_in:\n",
    "    df[name] = pd.to_numeric(df[name].astype(str).apply(lambda x: x.replace('.','')))\n",
    "    dfPCR[name] = pd.to_numeric(dfPCR[name].astype(str).apply(lambda x: x.replace('.','')))\n"
   ]
  },
  {
   "cell_type": "code",
   "execution_count": 7,
   "metadata": {},
   "outputs": [],
   "source": [
    "# Load the data\n",
    "df2 = pd.read_csv(latestdir+'/Antigentests_pr_dag.csv',delimiter = ';')\n",
    "\n",
    "# # Remove the first two rows which are from april 2020\n",
    "# df2 = df2.iloc[2:,:].copy()"
   ]
  },
  {
   "cell_type": "code",
   "execution_count": 10,
   "metadata": {},
   "outputs": [],
   "source": [
    "df2[\"Dato\"] = df2[\"Dato\"].astype('datetime64[D]')\n",
    "df2[\"Andel_AGpos_PCRkonf_pct\"] = pd.to_numeric(df2[\"Andel_AGpos_PCRkonf_pct\"].astype(str).apply(lambda x: x.replace(',','.')))\n",
    "df2[\"Andel_AGminusPCRkonf_pct\"] = pd.to_numeric(df2[\"Andel_AGminusPCRkonf_pct\"].astype(str).apply(lambda x: x.replace(',','.')))"
   ]
  },
  {
   "cell_type": "code",
   "execution_count": 20,
   "metadata": {},
   "outputs": [
    {
     "output_type": "execute_result",
     "data": {
      "text/plain": [
       "         Dato  AG_testede  AG_pos  AGpos_PCRkonf  Andel_AGpos_PCRkonf_pct  \\\n",
       "76 2021-04-18      145624     265            247                93.207547   \n",
       "77 2021-04-19      278449     312            276                88.461538   \n",
       "78 2021-04-20      249677     292            262                89.726027   \n",
       "79 2021-04-21      265130     281            257                91.459075   \n",
       "80 2021-04-22      331566     261            239                91.570881   \n",
       "\n",
       "    AGpos_minusPCRkonf  Andel_AGminusPCRkonf_pct  AGpos_PCRpos  AGposPCRneg  \\\n",
       "76                  18                  6.792453           155           89   \n",
       "77                  36                 11.538462           151          122   \n",
       "78                  30                 10.273973           147          110   \n",
       "79                  24                  8.540925           136          119   \n",
       "80                  22                  8.429119           114          123   \n",
       "\n",
       "    AGnegPCRpos  AGnegPCRneg  \n",
       "76          152         7942  \n",
       "77          166        12092  \n",
       "78          144        11779  \n",
       "79          150        14042  \n",
       "80          125        16152  "
      ],
      "text/html": "<div>\n<style scoped>\n    .dataframe tbody tr th:only-of-type {\n        vertical-align: middle;\n    }\n\n    .dataframe tbody tr th {\n        vertical-align: top;\n    }\n\n    .dataframe thead th {\n        text-align: right;\n    }\n</style>\n<table border=\"1\" class=\"dataframe\">\n  <thead>\n    <tr style=\"text-align: right;\">\n      <th></th>\n      <th>Dato</th>\n      <th>AG_testede</th>\n      <th>AG_pos</th>\n      <th>AGpos_PCRkonf</th>\n      <th>Andel_AGpos_PCRkonf_pct</th>\n      <th>AGpos_minusPCRkonf</th>\n      <th>Andel_AGminusPCRkonf_pct</th>\n      <th>AGpos_PCRpos</th>\n      <th>AGposPCRneg</th>\n      <th>AGnegPCRpos</th>\n      <th>AGnegPCRneg</th>\n    </tr>\n  </thead>\n  <tbody>\n    <tr>\n      <th>76</th>\n      <td>2021-04-18</td>\n      <td>145624</td>\n      <td>265</td>\n      <td>247</td>\n      <td>93.207547</td>\n      <td>18</td>\n      <td>6.792453</td>\n      <td>155</td>\n      <td>89</td>\n      <td>152</td>\n      <td>7942</td>\n    </tr>\n    <tr>\n      <th>77</th>\n      <td>2021-04-19</td>\n      <td>278449</td>\n      <td>312</td>\n      <td>276</td>\n      <td>88.461538</td>\n      <td>36</td>\n      <td>11.538462</td>\n      <td>151</td>\n      <td>122</td>\n      <td>166</td>\n      <td>12092</td>\n    </tr>\n    <tr>\n      <th>78</th>\n      <td>2021-04-20</td>\n      <td>249677</td>\n      <td>292</td>\n      <td>262</td>\n      <td>89.726027</td>\n      <td>30</td>\n      <td>10.273973</td>\n      <td>147</td>\n      <td>110</td>\n      <td>144</td>\n      <td>11779</td>\n    </tr>\n    <tr>\n      <th>79</th>\n      <td>2021-04-21</td>\n      <td>265130</td>\n      <td>281</td>\n      <td>257</td>\n      <td>91.459075</td>\n      <td>24</td>\n      <td>8.540925</td>\n      <td>136</td>\n      <td>119</td>\n      <td>150</td>\n      <td>14042</td>\n    </tr>\n    <tr>\n      <th>80</th>\n      <td>2021-04-22</td>\n      <td>331566</td>\n      <td>261</td>\n      <td>239</td>\n      <td>91.570881</td>\n      <td>22</td>\n      <td>8.429119</td>\n      <td>114</td>\n      <td>123</td>\n      <td>125</td>\n      <td>16152</td>\n    </tr>\n  </tbody>\n</table>\n</div>"
     },
     "metadata": {},
     "execution_count": 20
    }
   ],
   "source": [
    "# print(df2.columns.values)\n",
    "df2.tail()"
   ]
  },
  {
   "cell_type": "code",
   "execution_count": 42,
   "metadata": {},
   "outputs": [],
   "source": [
    "# plt.figure()\n",
    "# # plt.plot(df2.Dato,df2.AG_testede)\n",
    "# # plt.plot(df2.Dato,df2.Andel_AGpos_PCRkonf_pct)\n",
    "# plt.plot(df2.Dato,df2.AG_pos)\n",
    "# # plt.plot(df2.Dato,df2.AGpos_PCRkonf)\n",
    "# plt.plot(df2.Dato,df2.AGpos_PCRkonf+df2.AGpos_minusPCRkonf)\n",
    "# # plt.plot(df2.Dato,df2.AGpos_PCRpos)\n",
    "# # plt.plot(df2.Dato,df2.AGposPCRneg)\n",
    "# # plt.plot(df2.Dato,df2.AGpos_PCRpos+df2.AGposPCRneg)\n",
    "# plt.show()"
   ]
  },
  {
   "cell_type": "code",
   "execution_count": 86,
   "metadata": {},
   "outputs": [
    {
     "output_type": "display_data",
     "data": {
      "text/plain": "Canvas(toolbar=Toolbar(toolitems=[('Home', 'Reset original view', 'home', 'home'), ('Back', 'Back to previous …",
      "application/vnd.jupyter.widget-view+json": {
       "version_major": 2,
       "version_minor": 0,
       "model_id": "43916436d5a74bca9d07c4987ad1a046"
      }
     },
     "metadata": {}
    }
   ],
   "source": [
    "# fig,(ax1,ax2) = plt.subplots(2,1)\n",
    "fig,(ax1,ax2,ax3) = plt.subplots(3,1,sharex=True)\n",
    "\n",
    "ax1.fill_between(df2.Dato,df2.AG_pos,color='blue',label='AG pos, PCR testet')\n",
    "ax1.fill_between(df2.Dato,df2.AGpos_minusPCRkonf,color='grey',label='AG pos, afventer PCR')\n",
    "\n",
    "ax2.fill_between(df2.Dato,100*np.ones(df2.Dato.shape),color='xkcd:mint',label='AG pos, PCR neg')\n",
    "ax2.fill_between(df2.Dato,100*np.divide(df2.AGpos_PCRpos,df2.AGpos_PCRkonf),color='g',label='AG pos, PCR pos')\n",
    "\n",
    "numAGnegKonf = df2.AGnegPCRpos + df2.AGnegPCRneg\n",
    "\n",
    "ax3.fill_between(df2.Dato,100*np.ones(df2.Dato.shape),color='xkcd:mint',label='AG neg, PCR neg')\n",
    "ax3.fill_between(df2.Dato,100*np.divide(df2.AGnegPCRpos,numAGnegKonf),color='g',label='AG neg, PCR pos')\n",
    "\n",
    "ax1.legend(loc='center left',bbox_to_anchor = (1.0, 0.5))\n",
    "ax2.legend(loc='center left',bbox_to_anchor = (1.0, 0.5))\n",
    "ax3.legend(loc='center left',bbox_to_anchor = (1.0, 0.5))\n",
    "\n",
    "ax1.set_ylim(bottom=0)\n",
    "ax2.set_ylim(bottom=0,top=100)\n",
    "ax3.set_ylim(bottom=0,top=3)\n",
    "ax1.set_xlim([df2.Dato[0],df2.iloc[-1,0]])\n",
    "plt.tight_layout()"
   ]
  },
  {
   "cell_type": "code",
   "execution_count": 66,
   "metadata": {},
   "outputs": [
    {
     "output_type": "execute_result",
     "data": {
      "text/plain": [
       "Timestamp('2021-04-22 00:00:00')"
      ]
     },
     "metadata": {},
     "execution_count": 66
    }
   ],
   "source": []
  }
 ]
}