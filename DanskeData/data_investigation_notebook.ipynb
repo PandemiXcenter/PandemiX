{
 "metadata": {
  "language_info": {
   "codemirror_mode": {
    "name": "ipython",
    "version": 3
   },
   "file_extension": ".py",
   "mimetype": "text/x-python",
   "name": "python",
   "nbconvert_exporter": "python",
   "pygments_lexer": "ipython3",
   "version": "3.8.8"
  },
  "orig_nbformat": 2,
  "kernelspec": {
   "name": "python388jvsc74a57bd0c031fd63bd977d199cd6020c30a19695eacbb638d100e0b8a5ea53080ed74a9a",
   "display_name": "Python 3.8.8 64-bit ('main': conda)"
  }
 },
 "nbformat": 4,
 "nbformat_minor": 2,
 "cells": [
  {
   "cell_type": "code",
   "execution_count": 1,
   "metadata": {},
   "outputs": [
    {
     "output_type": "stream",
     "name": "stdout",
     "text": [
      "saveFigures is set to: True\nDone loading packages\n"
     ]
    }
   ],
   "source": [
    "# Main notebook for playing around looking at different things in data\n",
    "import numpy as np\n",
    "import pandas as pd\n",
    "pd.set_option('display.max_rows', 500)\n",
    "pd.set_option('display.min_rows', 50)\n",
    "\n",
    "\n",
    "import matplotlib.pyplot as plt\n",
    "%matplotlib widget\n",
    "plt.rcParams['figure.figsize'] = (12,8)\n",
    "# plt.rcParams[\"image.cmap\"] = \"Dark2\"\n",
    "# plt.rcParams['axes.prop_cycle'] = plt.cycler(color=plt.cm.Dark2.colors)\n",
    "plt.rcParams[\"image.cmap\"] = \"tab20\"\n",
    "plt.rcParams['axes.prop_cycle'] = plt.cycler(color=plt.cm.tab20.colors)\n",
    "plt.rcParams['lines.markersize'] = 10\n",
    "%matplotlib widget\n",
    "# plt.style.use('ggplot')\n",
    "import matplotlib.colors as colors\n",
    "# cmap = plt.cm.get_cmap('Dark2',len(ageGroups))\n",
    "from matplotlib import cm # Colormaps\n",
    "\n",
    "import locale\n",
    "import matplotlib.dates as mdates\n",
    "locale.setlocale(locale.LC_TIME,\"Danish\")\n",
    "# ax = plt.gca()\n",
    "# ax1.xaxis.set_major_formatter(mdates.DateFormatter('%b\\n%Y'))\n",
    "# # ax.xaxis.set_major_formatter(mdates.DateFormatter('%Y \\n %B'))\n",
    "\n",
    "import os\n",
    "# import csv\n",
    "import math\n",
    "\n",
    "\n",
    "from datetime import date\n",
    "\n",
    "\n",
    "saveFigures = True\n",
    "print('saveFigures is set to: '+str(saveFigures))\n",
    "\n",
    "print('Done loading packages')\n",
    "\n",
    "def rnMean(data,meanWidth):\n",
    "    return np.convolve(data, np.ones(meanWidth)/meanWidth, mode='valid')\n",
    "def rnTime(t,meanWidth):\n",
    "    return t[math.floor(meanWidth/2):-math.ceil(meanWidth/2)+1]\n"
   ]
  },
  {
   "cell_type": "code",
   "execution_count": 2,
   "metadata": {},
   "outputs": [
    {
     "output_type": "stream",
     "name": "stdout",
     "text": [
      "d:\\Pandemix\\Github\\DanskeData/ssi_data\\SSI_data_2021-04-27\n2021-04-27 00:00:00\n"
     ]
    }
   ],
   "source": [
    "ssidatapath = \"ssi_data\"\n",
    "rootdir = os.getcwd() +\"/\" + ssidatapath\n",
    "\n",
    "\n",
    "for subdir, dirs, files in os.walk(rootdir):\n",
    "    if not len(files) == 0:\n",
    "        latestdir = subdir\n",
    "        latestDate = pd.to_datetime(subdir[-10:])\n",
    "\n",
    "print(latestdir)\n",
    "print(latestDate)"
   ]
  },
  {
   "cell_type": "code",
   "execution_count": 3,
   "metadata": {},
   "outputs": [],
   "source": [
    "# Load the data\n",
    "fulldfPCR = pd.read_csv(latestdir+'/Test_pos_over_time.csv',delimiter = ';',dtype=str)\n",
    "fulldf = pd.read_csv(latestdir+'/Test_pos_over_time_antigen.csv',delimiter = ';',dtype=str)\n",
    "\n",
    "# Cut out the last two rows of summary numbers\n",
    "dfPCR = fulldfPCR.iloc[:-2,:].copy()\n",
    "df = fulldf.iloc[:-2,:].copy()"
   ]
  },
  {
   "cell_type": "code",
   "execution_count": 4,
   "metadata": {},
   "outputs": [],
   "source": [
    "dfPCR[\"PosPct\"] = pd.to_numeric(dfPCR[\"PosPct\"].astype(str).apply(lambda x: x.replace(',','.')))\n",
    "dfPCR[\"Date\"] = dfPCR[\"Date\"].astype('datetime64[D]')\n",
    "df[\"PosPct\"] = pd.to_numeric(df[\"PosPct\"].astype(str).apply(lambda x: x.replace(',','.')))\n",
    "df[\"Date\"] = df[\"Date\"].astype('datetime64[D]')\n",
    "\n",
    "rows_to_fix_period_in = [\"NewPositive\",\"NotPrevPos\",\"PrevPos\",\"Tested\",\"Tested_kumulativ\"]\n",
    "for name in rows_to_fix_period_in:\n",
    "    df[name] = pd.to_numeric(df[name].astype(str).apply(lambda x: x.replace('.','')))\n",
    "    dfPCR[name] = pd.to_numeric(dfPCR[name].astype(str).apply(lambda x: x.replace('.','')))\n"
   ]
  },
  {
   "cell_type": "code",
   "execution_count": 5,
   "metadata": {},
   "outputs": [],
   "source": [
    "# Load the data\n",
    "df2 = pd.read_csv(latestdir+'/Antigentests_pr_dag.csv',delimiter = ';')\n",
    "\n",
    "# # Remove the first two rows which are from april 2020\n",
    "# df2 = df2.iloc[2:,:].copy()"
   ]
  },
  {
   "cell_type": "code",
   "execution_count": 6,
   "metadata": {},
   "outputs": [],
   "source": [
    "df2[\"Dato\"] = df2[\"Dato\"].astype('datetime64[D]')\n",
    "df2[\"Andel_AGpos_PCRkonf_pct\"] = pd.to_numeric(df2[\"Andel_AGpos_PCRkonf_pct\"].astype(str).apply(lambda x: x.replace(',','.')))\n",
    "df2[\"Andel_AGminusPCRkonf_pct\"] = pd.to_numeric(df2[\"Andel_AGminusPCRkonf_pct\"].astype(str).apply(lambda x: x.replace(',','.')))"
   ]
  },
  {
   "cell_type": "code",
   "execution_count": 7,
   "metadata": {},
   "outputs": [
    {
     "output_type": "execute_result",
     "data": {
      "text/plain": [
       "         Dato  AG_testede  AG_pos  AGpos_PCRkonf  Andel_AGpos_PCRkonf_pct  \\\n",
       "77 2021-04-19      278583     312            276                88.461538   \n",
       "78 2021-04-20      249830     292            262                89.726027   \n",
       "79 2021-04-21      265316     281            257                91.459075   \n",
       "80 2021-04-22      331885     261            239                91.570881   \n",
       "81 2021-04-23      293584     235            212                90.212766   \n",
       "\n",
       "    AGpos_minusPCRkonf  Andel_AGminusPCRkonf_pct  AGpos_PCRpos  AGposPCRneg  \\\n",
       "77                  36                 11.538462           151          122   \n",
       "78                  30                 10.273973           147          110   \n",
       "79                  24                  8.540925           136          119   \n",
       "80                  22                  8.429119           114          123   \n",
       "81                  23                  9.787234           109          101   \n",
       "\n",
       "    AGnegPCRpos  AGnegPCRneg  \n",
       "77          166        12094  \n",
       "78          144        11780  \n",
       "79          150        14048  \n",
       "80          125        16173  \n",
       "81          113        13647  "
      ],
      "text/html": "<div>\n<style scoped>\n    .dataframe tbody tr th:only-of-type {\n        vertical-align: middle;\n    }\n\n    .dataframe tbody tr th {\n        vertical-align: top;\n    }\n\n    .dataframe thead th {\n        text-align: right;\n    }\n</style>\n<table border=\"1\" class=\"dataframe\">\n  <thead>\n    <tr style=\"text-align: right;\">\n      <th></th>\n      <th>Dato</th>\n      <th>AG_testede</th>\n      <th>AG_pos</th>\n      <th>AGpos_PCRkonf</th>\n      <th>Andel_AGpos_PCRkonf_pct</th>\n      <th>AGpos_minusPCRkonf</th>\n      <th>Andel_AGminusPCRkonf_pct</th>\n      <th>AGpos_PCRpos</th>\n      <th>AGposPCRneg</th>\n      <th>AGnegPCRpos</th>\n      <th>AGnegPCRneg</th>\n    </tr>\n  </thead>\n  <tbody>\n    <tr>\n      <th>77</th>\n      <td>2021-04-19</td>\n      <td>278583</td>\n      <td>312</td>\n      <td>276</td>\n      <td>88.461538</td>\n      <td>36</td>\n      <td>11.538462</td>\n      <td>151</td>\n      <td>122</td>\n      <td>166</td>\n      <td>12094</td>\n    </tr>\n    <tr>\n      <th>78</th>\n      <td>2021-04-20</td>\n      <td>249830</td>\n      <td>292</td>\n      <td>262</td>\n      <td>89.726027</td>\n      <td>30</td>\n      <td>10.273973</td>\n      <td>147</td>\n      <td>110</td>\n      <td>144</td>\n      <td>11780</td>\n    </tr>\n    <tr>\n      <th>79</th>\n      <td>2021-04-21</td>\n      <td>265316</td>\n      <td>281</td>\n      <td>257</td>\n      <td>91.459075</td>\n      <td>24</td>\n      <td>8.540925</td>\n      <td>136</td>\n      <td>119</td>\n      <td>150</td>\n      <td>14048</td>\n    </tr>\n    <tr>\n      <th>80</th>\n      <td>2021-04-22</td>\n      <td>331885</td>\n      <td>261</td>\n      <td>239</td>\n      <td>91.570881</td>\n      <td>22</td>\n      <td>8.429119</td>\n      <td>114</td>\n      <td>123</td>\n      <td>125</td>\n      <td>16173</td>\n    </tr>\n    <tr>\n      <th>81</th>\n      <td>2021-04-23</td>\n      <td>293584</td>\n      <td>235</td>\n      <td>212</td>\n      <td>90.212766</td>\n      <td>23</td>\n      <td>9.787234</td>\n      <td>109</td>\n      <td>101</td>\n      <td>113</td>\n      <td>13647</td>\n    </tr>\n  </tbody>\n</table>\n</div>"
     },
     "metadata": {},
     "execution_count": 7
    }
   ],
   "source": [
    "# print(df2.columns.values)\n",
    "df2.tail()"
   ]
  },
  {
   "cell_type": "code",
   "execution_count": 8,
   "metadata": {},
   "outputs": [],
   "source": [
    "# plt.figure()\n",
    "# # plt.plot(df2.Dato,df2.AG_testede)\n",
    "# # plt.plot(df2.Dato,df2.Andel_AGpos_PCRkonf_pct)\n",
    "# plt.plot(df2.Dato,df2.AG_pos)\n",
    "# # plt.plot(df2.Dato,df2.AGpos_PCRkonf)\n",
    "# plt.plot(df2.Dato,df2.AGpos_PCRkonf+df2.AGpos_minusPCRkonf)\n",
    "# # plt.plot(df2.Dato,df2.AGpos_PCRpos)\n",
    "# # plt.plot(df2.Dato,df2.AGposPCRneg)\n",
    "# # plt.plot(df2.Dato,df2.AGpos_PCRpos+df2.AGposPCRneg)\n",
    "# plt.show()"
   ]
  },
  {
   "cell_type": "code",
   "execution_count": 9,
   "metadata": {},
   "outputs": [
    {
     "output_type": "display_data",
     "data": {
      "text/plain": "Canvas(toolbar=Toolbar(toolitems=[('Home', 'Reset original view', 'home', 'home'), ('Back', 'Back to previous …",
      "application/vnd.jupyter.widget-view+json": {
       "version_major": 2,
       "version_minor": 0,
       "model_id": "5b534c4ef1e44d00b455c52f243b21db"
      }
     },
     "metadata": {}
    }
   ],
   "source": [
    "# fig,(ax1,ax2) = plt.subplots(2,1)\n",
    "fig,(ax1,ax2,ax3) = plt.subplots(3,1,sharex=True)\n",
    "\n",
    "ax1.fill_between(df2.Dato,df2.AG_pos,color='blue',label='AG pos, PCR testet')\n",
    "ax1.fill_between(df2.Dato,df2.AGpos_minusPCRkonf,color='grey',label='AG pos, afventer PCR')\n",
    "\n",
    "ax2.fill_between(df2.Dato,100*np.ones(df2.Dato.shape),color='xkcd:mint',label='AG pos, PCR neg')\n",
    "ax2.fill_between(df2.Dato,100*np.divide(df2.AGpos_PCRpos,df2.AGpos_PCRkonf),color='g',label='AG pos, PCR pos')\n",
    "\n",
    "numAGnegKonf = df2.AGnegPCRpos + df2.AGnegPCRneg\n",
    "\n",
    "ax3.fill_between(df2.Dato,100*np.ones(df2.Dato.shape),color='xkcd:mint',label='AG neg, PCR neg')\n",
    "ax3.fill_between(df2.Dato,100*np.divide(df2.AGnegPCRpos,numAGnegKonf),color='g',label='AG neg, PCR pos')\n",
    "\n",
    "ax1.legend(loc='center left',bbox_to_anchor = (1.0, 0.5))\n",
    "ax2.legend(loc='center left',bbox_to_anchor = (1.0, 0.5))\n",
    "ax3.legend(loc='center left',bbox_to_anchor = (1.0, 0.5))\n",
    "\n",
    "ax1.set_ylim(bottom=0)\n",
    "ax2.set_ylim(bottom=0,top=100)\n",
    "ax3.set_ylim(bottom=0,top=3)\n",
    "ax1.set_xlim([df2.Dato[0],df2.iloc[-1,0]])\n",
    "plt.tight_layout()"
   ]
  },
  {
   "cell_type": "code",
   "execution_count": 10,
   "metadata": {},
   "outputs": [
    {
     "output_type": "execute_result",
     "data": {
      "text/plain": [
       "          Date  NewPositive  NotPrevPos  PosPct  PrevPos  Tested  \\\n",
       "379 2021-04-22          241      331120     0.1      585  331705   \n",
       "380 2021-04-23          216      292954     0.1      486  293440   \n",
       "381 2021-04-24          175      162156     0.1      319  162475   \n",
       "382 2021-04-25          185      197222     0.1      396  197618   \n",
       "383 2021-04-26          316      357856     0.1      752  358608   \n",
       "\n",
       "     Tested_kumulativ  \n",
       "379           7109694  \n",
       "380           7403134  \n",
       "381           7565609  \n",
       "382           7763227  \n",
       "383           8121835  "
      ],
      "text/html": "<div>\n<style scoped>\n    .dataframe tbody tr th:only-of-type {\n        vertical-align: middle;\n    }\n\n    .dataframe tbody tr th {\n        vertical-align: top;\n    }\n\n    .dataframe thead th {\n        text-align: right;\n    }\n</style>\n<table border=\"1\" class=\"dataframe\">\n  <thead>\n    <tr style=\"text-align: right;\">\n      <th></th>\n      <th>Date</th>\n      <th>NewPositive</th>\n      <th>NotPrevPos</th>\n      <th>PosPct</th>\n      <th>PrevPos</th>\n      <th>Tested</th>\n      <th>Tested_kumulativ</th>\n    </tr>\n  </thead>\n  <tbody>\n    <tr>\n      <th>379</th>\n      <td>2021-04-22</td>\n      <td>241</td>\n      <td>331120</td>\n      <td>0.1</td>\n      <td>585</td>\n      <td>331705</td>\n      <td>7109694</td>\n    </tr>\n    <tr>\n      <th>380</th>\n      <td>2021-04-23</td>\n      <td>216</td>\n      <td>292954</td>\n      <td>0.1</td>\n      <td>486</td>\n      <td>293440</td>\n      <td>7403134</td>\n    </tr>\n    <tr>\n      <th>381</th>\n      <td>2021-04-24</td>\n      <td>175</td>\n      <td>162156</td>\n      <td>0.1</td>\n      <td>319</td>\n      <td>162475</td>\n      <td>7565609</td>\n    </tr>\n    <tr>\n      <th>382</th>\n      <td>2021-04-25</td>\n      <td>185</td>\n      <td>197222</td>\n      <td>0.1</td>\n      <td>396</td>\n      <td>197618</td>\n      <td>7763227</td>\n    </tr>\n    <tr>\n      <th>383</th>\n      <td>2021-04-26</td>\n      <td>316</td>\n      <td>357856</td>\n      <td>0.1</td>\n      <td>752</td>\n      <td>358608</td>\n      <td>8121835</td>\n    </tr>\n  </tbody>\n</table>\n</div>"
     },
     "metadata": {},
     "execution_count": 10
    }
   ],
   "source": [
    "df.tail()"
   ]
  },
  {
   "cell_type": "code",
   "execution_count": 11,
   "metadata": {},
   "outputs": [
    {
     "output_type": "execute_result",
     "data": {
      "text/plain": [
       "          Date  NewPositive  NotPrevPos  PosPct  PrevPos  Tested  \\\n",
       "451 2021-04-22          639      215357     0.3     9103  224460   \n",
       "452 2021-04-23          623      174071     0.4     6449  180520   \n",
       "453 2021-04-24          568      135100     0.4     4463  139563   \n",
       "454 2021-04-25          599      146891     0.4     4553  151444   \n",
       "455 2021-04-26          279       59476     0.5     2271   61747   \n",
       "\n",
       "     Tested_kumulativ  \n",
       "451          25798470  \n",
       "452          25978990  \n",
       "453          26118553  \n",
       "454          26269997  \n",
       "455          26331744  "
      ],
      "text/html": "<div>\n<style scoped>\n    .dataframe tbody tr th:only-of-type {\n        vertical-align: middle;\n    }\n\n    .dataframe tbody tr th {\n        vertical-align: top;\n    }\n\n    .dataframe thead th {\n        text-align: right;\n    }\n</style>\n<table border=\"1\" class=\"dataframe\">\n  <thead>\n    <tr style=\"text-align: right;\">\n      <th></th>\n      <th>Date</th>\n      <th>NewPositive</th>\n      <th>NotPrevPos</th>\n      <th>PosPct</th>\n      <th>PrevPos</th>\n      <th>Tested</th>\n      <th>Tested_kumulativ</th>\n    </tr>\n  </thead>\n  <tbody>\n    <tr>\n      <th>451</th>\n      <td>2021-04-22</td>\n      <td>639</td>\n      <td>215357</td>\n      <td>0.3</td>\n      <td>9103</td>\n      <td>224460</td>\n      <td>25798470</td>\n    </tr>\n    <tr>\n      <th>452</th>\n      <td>2021-04-23</td>\n      <td>623</td>\n      <td>174071</td>\n      <td>0.4</td>\n      <td>6449</td>\n      <td>180520</td>\n      <td>25978990</td>\n    </tr>\n    <tr>\n      <th>453</th>\n      <td>2021-04-24</td>\n      <td>568</td>\n      <td>135100</td>\n      <td>0.4</td>\n      <td>4463</td>\n      <td>139563</td>\n      <td>26118553</td>\n    </tr>\n    <tr>\n      <th>454</th>\n      <td>2021-04-25</td>\n      <td>599</td>\n      <td>146891</td>\n      <td>0.4</td>\n      <td>4553</td>\n      <td>151444</td>\n      <td>26269997</td>\n    </tr>\n    <tr>\n      <th>455</th>\n      <td>2021-04-26</td>\n      <td>279</td>\n      <td>59476</td>\n      <td>0.5</td>\n      <td>2271</td>\n      <td>61747</td>\n      <td>26331744</td>\n    </tr>\n  </tbody>\n</table>\n</div>"
     },
     "metadata": {},
     "execution_count": 11
    }
   ],
   "source": [
    "dfPCR.tail()"
   ]
  },
  {
   "cell_type": "code",
   "execution_count": 12,
   "metadata": {},
   "outputs": [
    {
     "output_type": "display_data",
     "data": {
      "text/plain": "Canvas(toolbar=Toolbar(toolitems=[('Home', 'Reset original view', 'home', 'home'), ('Back', 'Back to previous …",
      "application/vnd.jupyter.widget-view+json": {
       "version_major": 2,
       "version_minor": 0,
       "model_id": "34ba90b2880144149e4b6763aa134355"
      }
     },
     "metadata": {}
    }
   ],
   "source": [
    "# fig,ax1 = plt.subplots(1,1)\n",
    "fig,(ax1,ax2) = plt.subplots(2,1,sharex=True)\n",
    "\n",
    "ax1.plot(df.Date,df.Tested,label='Antal AG tests')\n",
    "ax1.plot(dfPCR.Date,dfPCR.Tested,label='Antal PCR tests')\n",
    "\n",
    "# ax2.plot(df.Date,df.PosPct,label='Positiv procent, AG')\n",
    "# ax2.plot(dfPCR.Date,dfPCR.PosPct,label='Positive procent, PCR')\n",
    "ax2.plot(df.Date,100*np.divide(df.NewPositive,df.Tested),label='Positiv procent, AG')\n",
    "ax2.plot(dfPCR.Date,100*np.divide(dfPCR.NewPositive,dfPCR.Tested),label='Positiv procent, PCR')\n",
    "\n",
    "\n",
    "ax1.legend(loc='center left',bbox_to_anchor = (1.0, 0.5))\n",
    "ax2.legend(loc='center left',bbox_to_anchor = (1.0, 0.5))\n",
    "\n",
    "ax1.set_ylim(bottom=0)\n",
    "ax2.set_ylim(bottom=0,top=1)\n",
    "\n",
    "ax1.set_xlim(left=np.datetime64('2021-02-01'),right=date.today())\n",
    "ax1.xaxis.set_major_formatter(mdates.DateFormatter('%d %b\\n%Y'))\n",
    "\n",
    "plt.tight_layout()"
   ]
  },
  {
   "source": [
    "# Age stuff"
   ],
   "cell_type": "markdown",
   "metadata": {}
  },
  {
   "cell_type": "code",
   "execution_count": 13,
   "metadata": {},
   "outputs": [],
   "source": [
    "dfAge = pd.read_csv(latestdir+'/Cases_by_age.csv',delimiter = ';',dtype=str)"
   ]
  },
  {
   "cell_type": "code",
   "execution_count": 15,
   "metadata": {
    "tags": []
   },
   "outputs": [],
   "source": [
    "ssidatapath = \"ssi_data\"\n",
    "rootdir = os.getcwd() +\"/\" + ssidatapath\n",
    "\n",
    "\n",
    "conf = []\n",
    "test = []\n",
    "posp = []\n",
    "\n",
    "for subdir, dirs, files in os.walk(rootdir):\n",
    "    if not len(files) == 0:\n",
    "        latestdir = subdir\n",
    "        latestDate = pd.to_datetime(subdir[-10:])\n",
    "        curdf = pd.read_csv(latestdir+'/Cases_by_age.csv',delimiter = ';',dtype=str)\n",
    "        conf.append(curdf.iloc[9,1])\n",
    "        test.append(curdf.iloc[9,2])\n",
    "        posp.append(curdf.iloc[9,3])\n",
    "        # print(curdf)"
   ]
  },
  {
   "cell_type": "code",
   "execution_count": 21,
   "metadata": {},
   "outputs": [],
   "source": [
    "# dfAge = pd.read_csv''/Cases_by_age.csv',delimiter = ';',dtype=str)\n",
    "latestdir\n",
    "\n",
    "dfAge = pd.read_csv('ssi_data\\\\SSI_data_2021-04-27\\\\Cases_by_age.csv',delimiter = ';',dtype=str)"
   ]
  },
  {
   "cell_type": "code",
   "execution_count": 23,
   "metadata": {},
   "outputs": [
    {
     "output_type": "execute_result",
     "data": {
      "text/plain": [
       "   Aldersgruppe Antal_bekræftede_COVID-19 Antal_testede Procent_positive\n",
       "0           0-9                    18.502       423.370              4,4\n",
       "1         10-19                    38.816       616.346              6,3\n",
       "2         20-29                    46.603       692.665              6,7\n",
       "3         30-39                    34.580       609.079              5,7\n",
       "4         40-49                    36.535       651.658              5,6\n",
       "5         50-59                    35.379       668.782              5,3\n",
       "6         60-69                    19.108       507.972              3,8\n",
       "7         70-79                    11.630       389.290              3,0\n",
       "8         80-89                     5.946       145.861              4,1\n",
       "9           90+                     1.851        29.872              6,2\n",
       "10        I alt                   248.950     4.734.895              5,3"
      ],
      "text/html": "<div>\n<style scoped>\n    .dataframe tbody tr th:only-of-type {\n        vertical-align: middle;\n    }\n\n    .dataframe tbody tr th {\n        vertical-align: top;\n    }\n\n    .dataframe thead th {\n        text-align: right;\n    }\n</style>\n<table border=\"1\" class=\"dataframe\">\n  <thead>\n    <tr style=\"text-align: right;\">\n      <th></th>\n      <th>Aldersgruppe</th>\n      <th>Antal_bekræftede_COVID-19</th>\n      <th>Antal_testede</th>\n      <th>Procent_positive</th>\n    </tr>\n  </thead>\n  <tbody>\n    <tr>\n      <th>0</th>\n      <td>0-9</td>\n      <td>18.502</td>\n      <td>423.370</td>\n      <td>4,4</td>\n    </tr>\n    <tr>\n      <th>1</th>\n      <td>10-19</td>\n      <td>38.816</td>\n      <td>616.346</td>\n      <td>6,3</td>\n    </tr>\n    <tr>\n      <th>2</th>\n      <td>20-29</td>\n      <td>46.603</td>\n      <td>692.665</td>\n      <td>6,7</td>\n    </tr>\n    <tr>\n      <th>3</th>\n      <td>30-39</td>\n      <td>34.580</td>\n      <td>609.079</td>\n      <td>5,7</td>\n    </tr>\n    <tr>\n      <th>4</th>\n      <td>40-49</td>\n      <td>36.535</td>\n      <td>651.658</td>\n      <td>5,6</td>\n    </tr>\n    <tr>\n      <th>5</th>\n      <td>50-59</td>\n      <td>35.379</td>\n      <td>668.782</td>\n      <td>5,3</td>\n    </tr>\n    <tr>\n      <th>6</th>\n      <td>60-69</td>\n      <td>19.108</td>\n      <td>507.972</td>\n      <td>3,8</td>\n    </tr>\n    <tr>\n      <th>7</th>\n      <td>70-79</td>\n      <td>11.630</td>\n      <td>389.290</td>\n      <td>3,0</td>\n    </tr>\n    <tr>\n      <th>8</th>\n      <td>80-89</td>\n      <td>5.946</td>\n      <td>145.861</td>\n      <td>4,1</td>\n    </tr>\n    <tr>\n      <th>9</th>\n      <td>90+</td>\n      <td>1.851</td>\n      <td>29.872</td>\n      <td>6,2</td>\n    </tr>\n    <tr>\n      <th>10</th>\n      <td>I alt</td>\n      <td>248.950</td>\n      <td>4.734.895</td>\n      <td>5,3</td>\n    </tr>\n  </tbody>\n</table>\n</div>"
     },
     "metadata": {},
     "execution_count": 23
    }
   ],
   "source": [
    "dfAge"
   ]
  },
  {
   "cell_type": "code",
   "execution_count": 24,
   "metadata": {},
   "outputs": [],
   "source": [
    "# dfDeaths = pd.read_excel(\"C://Users//rakrpe//Documents//PandemiX//GithubRepos//PandemiX//DanskeData//DeathsAgeDK//Deaths.xlsx\")"
   ]
  },
  {
   "cell_type": "code",
   "execution_count": 25,
   "metadata": {},
   "outputs": [],
   "source": [
    "dfDeaths = pd.read_excel('DeathsAgeDK/Deaths.xlsx')"
   ]
  },
  {
   "cell_type": "code",
   "execution_count": 26,
   "metadata": {},
   "outputs": [],
   "source": [
    "dfDeaths = dfDeaths.transpose()"
   ]
  },
  {
   "cell_type": "code",
   "execution_count": 27,
   "metadata": {},
   "outputs": [],
   "source": [
    "dfDeaths.columns = dfDeaths.iloc[0]"
   ]
  },
  {
   "cell_type": "code",
   "execution_count": 28,
   "metadata": {},
   "outputs": [],
   "source": [
    "dfDeaths = dfDeaths.drop(['Aldersgruppe']) "
   ]
  },
  {
   "cell_type": "code",
   "execution_count": 29,
   "metadata": {},
   "outputs": [],
   "source": [
    "# plt.figure()\n",
    "# plt.plot(dfDeaths)\n",
    "\n",
    "\n",
    "curDates =  pd.to_datetime(dfDeaths.index,format='%d_%m_%Y')"
   ]
  },
  {
   "cell_type": "code",
   "execution_count": 31,
   "metadata": {},
   "outputs": [
    {
     "output_type": "display_data",
     "data": {
      "text/plain": "Canvas(toolbar=Toolbar(toolitems=[('Home', 'Reset original view', 'home', 'home'), ('Back', 'Back to previous …",
      "application/vnd.jupyter.widget-view+json": {
       "version_major": 2,
       "version_minor": 0,
       "model_id": "cdb392390f4248649bd5c45123761b80"
      }
     },
     "metadata": {}
    }
   ],
   "source": [
    "# plt.figure()\n",
    "# fig,(ax1,ax2) = plt.subplots(2,1,sharex=True)\n",
    "fig,(ax1,ax2,ax3) = plt.subplots(3,1,sharex=True)\n",
    "\n",
    "# for colNames in dfDeaths.columns[:-1]:\n",
    "for colNames in dfDeaths.columns:\n",
    "    # plt.plot(curDates,dfDeaths['0-9'])\n",
    "    ax1.plot(curDates,dfDeaths[colNames],label=colNames)\n",
    "    ax2.plot(curDates[0:-1],np.diff(dfDeaths[colNames]),label=colNames)\n",
    "    ax3.plot(curDates[0:-1],np.diff(dfDeaths[colNames]),label=colNames)\n",
    "\n",
    "ax2.legend(loc='center left',bbox_to_anchor = (1.0, 0.5))\n",
    "ax1.grid()\n",
    "ax2.grid()\n",
    "ax3.grid()\n",
    "\n",
    "ax1.set_ylim(bottom=0)\n",
    "ax2.set_ylim(bottom=0)\n",
    "ax3.set_ylim(bottom=0,top=10)\n",
    "\n",
    "# ax1.set_xlim(left=curDates[0],right=date.today())\n",
    "ax1.set_xlim(right=date.today())\n",
    "ax1.xaxis.set_major_formatter(mdates.DateFormatter('%d %b\\n%Y'))\n",
    "\n",
    "ax1.set_ylabel('Kumulative dødsfald')\n",
    "ax2.set_ylabel('Dødsfald')\n",
    "ax3.set_ylabel('Dødsfald')\n",
    "\n",
    "plt.tight_layout()\n",
    "\n",
    "if saveFigures:\n",
    "    fig.savefig('figs/DeathsByAge')"
   ]
  },
  {
   "cell_type": "code",
   "execution_count": 36,
   "metadata": {},
   "outputs": [
    {
     "output_type": "display_data",
     "data": {
      "text/plain": "Canvas(toolbar=Toolbar(toolitems=[('Home', 'Reset original view', 'home', 'home'), ('Back', 'Back to previous …",
      "application/vnd.jupyter.widget-view+json": {
       "version_major": 2,
       "version_minor": 0,
       "model_id": "1eeb3373b3064378a72cc88ef5ec5df4"
      }
     },
     "metadata": {}
    },
    {
     "output_type": "error",
     "ename": "TypeError",
     "evalue": "ufunc 'add' output (typecode 'O') could not be coerced to provided output parameter (typecode 'd') according to the casting rule ''same_kind''",
     "traceback": [
      "\u001b[1;31m---------------------------------------------------------------------------\u001b[0m",
      "\u001b[1;31mTypeError\u001b[0m                                 Traceback (most recent call last)",
      "\u001b[1;32m<ipython-input-36-4dc8c831790a>\u001b[0m in \u001b[0;36m<module>\u001b[1;34m\u001b[0m\n\u001b[0;32m      6\u001b[0m \u001b[1;32mfor\u001b[0m \u001b[0mcolNames\u001b[0m \u001b[1;32min\u001b[0m \u001b[0mdfDeaths\u001b[0m\u001b[1;33m.\u001b[0m\u001b[0mcolumns\u001b[0m\u001b[1;33m:\u001b[0m\u001b[1;33m\u001b[0m\u001b[1;33m\u001b[0m\u001b[0m\n\u001b[0;32m      7\u001b[0m \u001b[1;33m\u001b[0m\u001b[0m\n\u001b[1;32m----> 8\u001b[1;33m     \u001b[0mcurVals\u001b[0m \u001b[1;33m+=\u001b[0m \u001b[0mnp\u001b[0m\u001b[1;33m.\u001b[0m\u001b[0mdiff\u001b[0m\u001b[1;33m(\u001b[0m\u001b[0mdfDeaths\u001b[0m\u001b[1;33m[\u001b[0m\u001b[0mcolNames\u001b[0m\u001b[1;33m]\u001b[0m\u001b[1;33m)\u001b[0m\u001b[1;33m\u001b[0m\u001b[1;33m\u001b[0m\u001b[0m\n\u001b[0m\u001b[0;32m      9\u001b[0m     \u001b[0max1\u001b[0m\u001b[1;33m.\u001b[0m\u001b[0mplot\u001b[0m\u001b[1;33m(\u001b[0m\u001b[0mcurDates\u001b[0m\u001b[1;33m[\u001b[0m\u001b[1;36m0\u001b[0m\u001b[1;33m:\u001b[0m\u001b[1;33m-\u001b[0m\u001b[1;36m1\u001b[0m\u001b[1;33m]\u001b[0m\u001b[1;33m,\u001b[0m\u001b[0mcurVals\u001b[0m\u001b[1;33m)\u001b[0m\u001b[1;33m\u001b[0m\u001b[1;33m\u001b[0m\u001b[0m\n\u001b[0;32m     10\u001b[0m \u001b[1;33m\u001b[0m\u001b[0m\n",
      "\u001b[1;31mTypeError\u001b[0m: ufunc 'add' output (typecode 'O') could not be coerced to provided output parameter (typecode 'd') according to the casting rule ''same_kind''"
     ]
    }
   ],
   "source": [
    "# plt.figure()\n",
    "# fig,(ax1,ax2) = plt.subplots(2,1,sharex=True)\n",
    "fig,ax1 = plt.subplots(1,1,sharex=True)\n",
    "\n",
    "curVals = np.zeros(curDates[0:-1].shape)\n",
    "for colNames in dfDeaths.columns:\n",
    "\n",
    "    curVals += np.diff(dfDeaths[colNames])\n",
    "    ax1.plot(curDates[0:-1],curVals)\n",
    "\n",
    "    # plt.plot(curDates,dfDeaths['0-9'])\n",
    "    # ax1.plot(curDates,dfDeaths[colNames],label=colNames)\n",
    "\n",
    "    # ax2.plot(curDates[0:-1],np.diff(dfDeaths[colNames]),label=colNames)\n",
    "    # ax3.plot(curDates[0:-1],np.diff(dfDeaths[colNames]),label=colNames)\n",
    "\n",
    "ax1.legend(loc='center left',bbox_to_anchor = (1.0, 0.5))\n",
    "ax1.grid()\n",
    "\n",
    "ax1.set_ylim(bottom=0)\n",
    "\n",
    "# ax1.set_xlim(left=curDates[0],right=date.today())\n",
    "ax1.set_xlim(right=date.today())\n",
    "ax1.xaxis.set_major_formatter(mdates.DateFormatter('%d %b\\n%Y'))\n",
    "\n",
    "ax1.set_ylabel('Kumulative dødsfald')\n",
    "# ax2.set_ylabel('Dødsfald')\n",
    "# ax3.set_ylabel('Dødsfald')\n",
    "\n",
    "plt.tight_layout()\n",
    "\n",
    "# if saveFigures:\n",
    "#     fig.savefig('figs/DeathsByAge')"
   ]
  },
  {
   "cell_type": "code",
   "execution_count": 39,
   "metadata": {},
   "outputs": [
    {
     "output_type": "execute_result",
     "data": {
      "text/plain": [
       "array([0., 0., 0., 0., 0., 0., 0., 0., 0., 0., 0., 0., 0., 0., 0., 0., 0.,\n",
       "       0., 0., 0., 0., 0., 0., 0.])"
      ]
     },
     "metadata": {},
     "execution_count": 39
    }
   ],
   "source": [
    "np.diff(dfDeaths[colNames])\n",
    "curVals"
   ]
  }
 ]
}