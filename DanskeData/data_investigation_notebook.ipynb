{
 "metadata": {
  "language_info": {
   "codemirror_mode": {
    "name": "ipython",
    "version": 3
   },
   "file_extension": ".py",
   "mimetype": "text/x-python",
   "name": "python",
   "nbconvert_exporter": "python",
   "pygments_lexer": "ipython3",
   "version": "3.8.5"
  },
  "orig_nbformat": 2,
  "kernelspec": {
   "name": "python385jvsc74a57bd0c72cdf52cb3d31f207bca538e9396da8706c0ecf4a3038fb1c2b317934170431",
   "display_name": "Python 3.8.5 64-bit ('main': conda)"
  }
 },
 "nbformat": 4,
 "nbformat_minor": 2,
 "cells": [
  {
   "cell_type": "code",
   "execution_count": 1,
   "metadata": {},
   "outputs": [
    {
     "output_type": "stream",
     "name": "stdout",
     "text": [
      "saveFigures is set to: True\nDone loading packages\n"
     ]
    }
   ],
   "source": [
    "# Main notebook for playing around looking at different things in data\n",
    "import numpy as np\n",
    "import pandas as pd\n",
    "pd.set_option('display.max_rows', 500)\n",
    "pd.set_option('display.min_rows', 50)\n",
    "\n",
    "\n",
    "import matplotlib.pyplot as plt\n",
    "%matplotlib widget\n",
    "plt.rcParams['figure.figsize'] = (12,8)\n",
    "# plt.rcParams[\"image.cmap\"] = \"Dark2\"\n",
    "# plt.rcParams['axes.prop_cycle'] = plt.cycler(color=plt.cm.Dark2.colors)\n",
    "plt.rcParams[\"image.cmap\"] = \"tab10\"\n",
    "plt.rcParams['axes.prop_cycle'] = plt.cycler(color=plt.cm.tab10.colors)\n",
    "plt.rcParams['lines.markersize'] = 10\n",
    "plt.rcParams['lines.linewidth'] = 3\n",
    "%matplotlib widget\n",
    "# plt.style.use('ggplot')\n",
    "import matplotlib.colors as colors\n",
    "# cmap = plt.cm.get_cmap('Dark2',len(ageGroups))\n",
    "from matplotlib import cm # Colormaps\n",
    "\n",
    "import locale\n",
    "import matplotlib.dates as mdates\n",
    "locale.setlocale(locale.LC_TIME,\"Danish\")\n",
    "# ax = plt.gca()\n",
    "# ax1.xaxis.set_major_formatter(mdates.DateFormatter('%b\\n%Y'))\n",
    "# # ax.xaxis.set_major_formatter(mdates.DateFormatter('%Y \\n %B'))\n",
    "\n",
    "import os\n",
    "# import csv\n",
    "import math\n",
    "\n",
    "\n",
    "from datetime import date\n",
    "\n",
    "\n",
    "saveFigures = True\n",
    "print('saveFigures is set to: '+str(saveFigures))\n",
    "\n",
    "print('Done loading packages')\n",
    "\n",
    "def rnMean(data,meanWidth):\n",
    "    return np.convolve(data, np.ones(meanWidth)/meanWidth, mode='valid')\n",
    "def rnTime(t,meanWidth):\n",
    "    return t[math.floor(meanWidth/2):-math.ceil(meanWidth/2)+1]\n"
   ]
  },
  {
   "cell_type": "code",
   "execution_count": 2,
   "metadata": {},
   "outputs": [
    {
     "output_type": "stream",
     "name": "stdout",
     "text": [
      "c:\\Users\\rakrpe\\Documents\\PandemiX\\GithubRepos\\PandemiX\\DanskeData/ssi_data/SSI_data_2021-04-29\n2021-04-29 00:00:00\n"
     ]
    }
   ],
   "source": [
    "ssidatapath = \"ssi_data\"\n",
    "rootdir = os.getcwd() +\"/\" + ssidatapath\n",
    "\n",
    "\n",
    "# for subdir, dirs, files in os.walk(rootdir):\n",
    "#     if not len(files) == 0:\n",
    "#         latestdir = subdir\n",
    "#         latestDate = pd.to_datetime(subdir[-10:])\n",
    "\n",
    "# print(latestdir)\n",
    "# print(latestDate)\n",
    "\n",
    "latestdir = rootdir+ '/SSI_data_2021-04-29'\n",
    "latestDate = pd.to_datetime(latestdir[-10:])\n",
    "\n",
    "print(latestdir)\n",
    "print(latestDate)"
   ]
  },
  {
   "cell_type": "code",
   "execution_count": 3,
   "metadata": {},
   "outputs": [],
   "source": [
    "# Load the data\n",
    "fulldfPCR = pd.read_csv(latestdir+'/Test_pos_over_time.csv',delimiter = ';',dtype=str)\n",
    "fulldf = pd.read_csv(latestdir+'/Test_pos_over_time_antigen.csv',delimiter = ';',dtype=str)\n",
    "\n",
    "# # Cut out the last two rows of summary numbers\n",
    "dfPCR = fulldfPCR.iloc[:-2,:].copy()\n",
    "df = fulldf.iloc[:-2,:].copy()"
   ]
  },
  {
   "cell_type": "code",
   "execution_count": 4,
   "metadata": {},
   "outputs": [],
   "source": [
    "dfPCR[\"PosPct\"] = pd.to_numeric(dfPCR[\"PosPct\"].astype(str).apply(lambda x: x.replace(',','.')))\n",
    "dfPCR[\"Date\"] = dfPCR[\"Date\"].astype('datetime64[D]')\n",
    "df[\"PosPct\"] = pd.to_numeric(df[\"PosPct\"].astype(str).apply(lambda x: x.replace(',','.')))\n",
    "df[\"Date\"] = df[\"Date\"].astype('datetime64[D]')\n",
    "\n",
    "rows_to_fix_period_in = [\"NewPositive\",\"NotPrevPos\",\"PrevPos\",\"Tested\",\"Tested_kumulativ\"]\n",
    "for name in rows_to_fix_period_in:\n",
    "    df[name] = pd.to_numeric(df[name].astype(str).apply(lambda x: x.replace('.','')))\n",
    "    dfPCR[name] = pd.to_numeric(dfPCR[name].astype(str).apply(lambda x: x.replace('.','')))\n"
   ]
  },
  {
   "cell_type": "code",
   "execution_count": 5,
   "metadata": {},
   "outputs": [],
   "source": [
    "# Load the data\n",
    "\n",
    "df2 = pd.read_csv(latestdir+'/Antigentests_pr_dag.csv',delimiter = ';')\n",
    "\n",
    "# # Remove the first two rows which are from april 2020\n",
    "# df2 = df2.iloc[2:,:].copy()"
   ]
  },
  {
   "cell_type": "code",
   "execution_count": 6,
   "metadata": {},
   "outputs": [],
   "source": [
    "# df2"
   ]
  },
  {
   "cell_type": "code",
   "execution_count": 7,
   "metadata": {},
   "outputs": [],
   "source": [
    "df2[\"Dato\"] = df2[\"Dato\"].astype('datetime64[D]')\n",
    "df2[\"Andel_AGpos_PCRkonf_pct\"] = pd.to_numeric(df2[\"Andel_AGpos_PCRkonf_pct\"].astype(str).apply(lambda x: x.replace(',','.')))\n",
    "df2[\"Andel_AGminusPCRkonf_pct\"] = pd.to_numeric(df2[\"Andel_AGminusPCRkonf_pct\"].astype(str).apply(lambda x: x.replace(',','.')))"
   ]
  },
  {
   "cell_type": "code",
   "execution_count": 8,
   "metadata": {},
   "outputs": [
    {
     "output_type": "execute_result",
     "data": {
      "text/plain": [
       "         Dato  AG_testede  AG_pos  AGpos_PCRkonf  Andel_AGpos_PCRkonf_pct  \\\n",
       "0  2021-02-01        4827       8              4                50.000000   \n",
       "1  2021-02-02        4640       9              5                55.555556   \n",
       "2  2021-02-03        4869      10              6                60.000000   \n",
       "3  2021-02-04        4494       6              3                50.000000   \n",
       "4  2021-02-05        4360       7              5                71.428571   \n",
       "5  2021-02-06        2586      10              6                60.000000   \n",
       "6  2021-02-07        3020      14              7                50.000000   \n",
       "7  2021-02-08        6979      13              7                53.846154   \n",
       "8  2021-02-09        6086       6              4                66.666667   \n",
       "9  2021-02-10        7070      13              5                38.461538   \n",
       "10 2021-02-11        9125      13              7                53.846154   \n",
       "11 2021-02-12        9170       9              4                44.444444   \n",
       "12 2021-02-13        4834      15              8                53.333333   \n",
       "13 2021-02-14        4794      19             10                52.631579   \n",
       "14 2021-02-15       17138      48             24                50.000000   \n",
       "15 2021-02-16       16905      59             44                74.576271   \n",
       "16 2021-02-17       26124      85             52                61.176471   \n",
       "17 2021-02-18       30048      51             40                78.431373   \n",
       "18 2021-02-19       34146      86             54                62.790698   \n",
       "19 2021-02-20       21627      62             41                66.129032   \n",
       "20 2021-02-21       20240      94             66                70.212766   \n",
       "21 2021-02-22       25720     100             75                75.000000   \n",
       "22 2021-02-23       29551     100             70                70.000000   \n",
       "23 2021-02-24       29785      91             57                62.637363   \n",
       "24 2021-02-25       28385      85             53                62.352941   \n",
       "25 2021-02-26       36270     111             70                63.063063   \n",
       "26 2021-02-27       22501      92             68                73.913043   \n",
       "27 2021-02-28       24343     111             83                74.774775   \n",
       "28 2021-03-01       35361      95             72                75.789474   \n",
       "29 2021-03-02       38283     111             88                79.279279   \n",
       "30 2021-03-03       44032     105             73                69.523810   \n",
       "31 2021-03-04       56254     178            147                82.584270   \n",
       "32 2021-03-05       64514     168            133                79.166667   \n",
       "33 2021-03-06       38499     132            102                77.272727   \n",
       "34 2021-03-07       40356     204            167                81.862745   \n",
       "35 2021-03-08       64314     233            200                85.836910   \n",
       "36 2021-03-09       62946     190            169                88.947368   \n",
       "37 2021-03-10       58088     236            199                84.322034   \n",
       "38 2021-03-11       59203     170            148                87.058824   \n",
       "39 2021-03-12       60468     168            130                77.380952   \n",
       "40 2021-03-13       55929     152            119                78.289474   \n",
       "41 2021-03-14       72903     177            146                82.485876   \n",
       "42 2021-03-15      110938     262            226                86.259542   \n",
       "43 2021-03-16      116928     268            225                83.955224   \n",
       "44 2021-03-17      103652     197            155                78.680203   \n",
       "45 2021-03-18      124497     223            178                79.820628   \n",
       "46 2021-03-19       91830     148            125                84.459459   \n",
       "47 2021-03-20       57249     136            116                85.294118   \n",
       "48 2021-03-21       89881     209            174                83.253589   \n",
       "49 2021-03-22      133451     236            194                82.203390   \n",
       "50 2021-03-23      138374     200            174                87.000000   \n",
       "51 2021-03-24      120407     197            160                81.218274   \n",
       "52 2021-03-25      145032     234            178                76.068376   \n",
       "53 2021-03-26      131379     178            145                81.460674   \n",
       "54 2021-03-27       65511     161            136                84.472050   \n",
       "55 2021-03-28       63532     159            132                83.018868   \n",
       "56 2021-03-29      104941     256            226                88.281250   \n",
       "57 2021-03-30      113775     243            202                83.127572   \n",
       "58 2021-03-31       92933     146            129                88.356164   \n",
       "59 2021-04-01      101590     205            179                87.317073   \n",
       "60 2021-04-02       95139     200            172                86.000000   \n",
       "61 2021-04-03       82234     191            165                86.387435   \n",
       "62 2021-04-04       97380     167            149                89.221557   \n",
       "63 2021-04-05      192014     284            252                88.732394   \n",
       "64 2021-04-06      209546     286            253                88.461538   \n",
       "65 2021-04-07      186822     264            232                87.878788   \n",
       "66 2021-04-08      230087     264            223                84.469697   \n",
       "67 2021-04-09      186902     207            180                86.956522   \n",
       "68 2021-04-10       90851     155            133                85.806452   \n",
       "69 2021-04-11      159278     212            191                90.094340   \n",
       "70 2021-04-12      270828     306            272                88.888889   \n",
       "71 2021-04-13      220860     253            225                88.932806   \n",
       "72 2021-04-14      206140     248            209                84.274194   \n",
       "73 2021-04-15      249343     319            267                83.699060   \n",
       "74 2021-04-16      198858     248            200                80.645161   \n",
       "75 2021-04-17       75555     156            131                83.974359   \n",
       "76 2021-04-18      145845     265            247                93.207547   \n",
       "77 2021-04-19      279104     312            276                88.461538   \n",
       "78 2021-04-20      250074     293            262                89.419795   \n",
       "79 2021-04-21      265624     281            257                91.459075   \n",
       "80 2021-04-22      332245     261            239                91.570881   \n",
       "81 2021-04-23      293871     235            212                90.212766   \n",
       "82 2021-04-24      162736     196            168                85.714286   \n",
       "83 2021-04-25      197950     215            196                91.162791   \n",
       "\n",
       "    AGpos_minusPCRkonf  Andel_AGminusPCRkonf_pct  AGpos_PCRpos  AGposPCRneg  \\\n",
       "0                    4                 50.000000             2            2   \n",
       "1                    4                 44.444444             5            0   \n",
       "2                    4                 40.000000             6            0   \n",
       "3                    3                 50.000000             3            0   \n",
       "4                    2                 28.571429             4            1   \n",
       "5                    4                 40.000000             6            0   \n",
       "6                    7                 50.000000             7            0   \n",
       "7                    6                 46.153846             6            1   \n",
       "8                    2                 33.333333             4            0   \n",
       "9                    8                 61.538462             4            1   \n",
       "10                   6                 46.153846             6            1   \n",
       "11                   5                 55.555556             3            1   \n",
       "12                   7                 46.666667             7            1   \n",
       "13                   9                 47.368421             7            3   \n",
       "14                  24                 50.000000            17            7   \n",
       "15                  15                 25.423729            33           10   \n",
       "16                  33                 38.823529            43            9   \n",
       "17                  11                 21.568627            33            4   \n",
       "18                  32                 37.209302            42           12   \n",
       "19                  21                 33.870968            33            8   \n",
       "20                  28                 29.787234            59            4   \n",
       "21                  25                 25.000000            54           19   \n",
       "22                  30                 30.000000            58           10   \n",
       "23                  34                 37.362637            43           12   \n",
       "24                  32                 37.647059            44            9   \n",
       "25                  41                 36.936937            54           16   \n",
       "26                  24                 26.086957            58            9   \n",
       "27                  28                 25.225225            65           18   \n",
       "28                  23                 24.210526            51           19   \n",
       "29                  23                 20.720721            61           25   \n",
       "30                  32                 30.476190            36           37   \n",
       "31                  31                 17.415730            48           95   \n",
       "32                  35                 20.833333            44           88   \n",
       "33                  30                 22.727273            51           51   \n",
       "34                  37                 18.137255            58          105   \n",
       "35                  33                 14.163090            79          121   \n",
       "36                  21                 11.052632            62          106   \n",
       "37                  37                 15.677966            78          121   \n",
       "38                  22                 12.941176            51           97   \n",
       "39                  38                 22.619048            34           96   \n",
       "40                  33                 21.710526            56           60   \n",
       "41                  31                 17.514124            50           95   \n",
       "42                  36                 13.740458           107          114   \n",
       "43                  43                 16.044776           107          118   \n",
       "44                  42                 21.319797            83           66   \n",
       "45                  45                 20.179372           120           56   \n",
       "46                  23                 15.540541            77           45   \n",
       "47                  20                 14.705882            81           33   \n",
       "48                  35                 16.746411           120           53   \n",
       "49                  42                 17.796610           121           69   \n",
       "50                  26                 13.000000           113           59   \n",
       "51                  37                 18.781726           111           46   \n",
       "52                  56                 23.931624           124           51   \n",
       "53                  33                 18.539326            98           44   \n",
       "54                  25                 15.527950           103           32   \n",
       "55                  27                 16.981132            97           33   \n",
       "56                  30                 11.718750           153           72   \n",
       "57                  41                 16.872428           142           57   \n",
       "58                  17                 11.643836            89           39   \n",
       "59                  26                 12.682927           120           55   \n",
       "60                  28                 14.000000           109           58   \n",
       "61                  26                 13.612565            99           60   \n",
       "62                  18                 10.778443            93           53   \n",
       "63                  32                 11.267606           135          111   \n",
       "64                  33                 11.538462           145          103   \n",
       "65                  32                 12.121212           128          102   \n",
       "66                  41                 15.530303           145           73   \n",
       "67                  27                 13.043478           113           65   \n",
       "68                  22                 14.193548            87           45   \n",
       "69                  21                  9.905660           112           77   \n",
       "70                  34                 11.111111           151          118   \n",
       "71                  28                 11.067194           123          101   \n",
       "72                  39                 15.725806           130           78   \n",
       "73                  52                 16.300940           157          104   \n",
       "74                  48                 19.354839           110           88   \n",
       "75                  25                 16.025641            93           38   \n",
       "76                  18                  6.792453           155           89   \n",
       "77                  36                 11.538462           151          122   \n",
       "78                  31                 10.580205           147          110   \n",
       "79                  24                  8.540925           136          119   \n",
       "80                  22                  8.429119           114          123   \n",
       "81                  23                  9.787234           109          101   \n",
       "82                  28                 14.285714            90           77   \n",
       "83                  19                  8.837209           112           83   \n",
       "\n",
       "    AGnegPCRpos  AGnegPCRneg  \n",
       "0             2          293  \n",
       "1             5          308  \n",
       "2             6          343  \n",
       "3             5          322  \n",
       "4             6          280  \n",
       "5             3          262  \n",
       "6             6          326  \n",
       "7             5          439  \n",
       "8             5          390  \n",
       "9             1          498  \n",
       "10            3          537  \n",
       "11            4          477  \n",
       "12            6          339  \n",
       "13            9          435  \n",
       "14           25         1155  \n",
       "15           19         1340  \n",
       "16           20         2014  \n",
       "17           30         1803  \n",
       "18           37         1829  \n",
       "19           36         1624  \n",
       "20           41         1693  \n",
       "21           27         1899  \n",
       "22           34         2047  \n",
       "23           33         2122  \n",
       "24           20         1630  \n",
       "25           41         1826  \n",
       "26           17         1560  \n",
       "27           29         1974  \n",
       "28           17         2206  \n",
       "29           25         2082  \n",
       "30           43         3336  \n",
       "31           31         3609  \n",
       "32           55         4107  \n",
       "33           59         3055  \n",
       "34           61         3522  \n",
       "35           79         3929  \n",
       "36           65         3416  \n",
       "37           66         3848  \n",
       "38           43         3532  \n",
       "39           31         2975  \n",
       "40           64         3355  \n",
       "41           83         4151  \n",
       "42          105         5679  \n",
       "43          107         5324  \n",
       "44          105         5789  \n",
       "45          103         6219  \n",
       "46           71         4214  \n",
       "47           94         3628  \n",
       "48          126         5425  \n",
       "49          135         6696  \n",
       "50          135         6497  \n",
       "51          140         6398  \n",
       "52          143         7158  \n",
       "53          125         6159  \n",
       "54           91         4332  \n",
       "55          106         4677  \n",
       "56          149         6730  \n",
       "57          126         6305  \n",
       "58           65         4680  \n",
       "59          127         6198  \n",
       "60           84         6576  \n",
       "61           78         5867  \n",
       "62          107         6538  \n",
       "63          116        11798  \n",
       "64          122        11231  \n",
       "65          145         9928  \n",
       "66          158        11977  \n",
       "67           83         9763  \n",
       "68           94         5273  \n",
       "69          104         8786  \n",
       "70          170        13510  \n",
       "71          151        10591  \n",
       "72          154        10353  \n",
       "73          144        13356  \n",
       "74          135        10593  \n",
       "75           97         4665  \n",
       "76          152         7942  \n",
       "77          166        12103  \n",
       "78          144        11783  \n",
       "79          150        14051  \n",
       "80          124        16175  \n",
       "81          113        13702  \n",
       "82          119         8807  \n",
       "83          159        10324  "
      ],
      "text/html": "<div>\n<style scoped>\n    .dataframe tbody tr th:only-of-type {\n        vertical-align: middle;\n    }\n\n    .dataframe tbody tr th {\n        vertical-align: top;\n    }\n\n    .dataframe thead th {\n        text-align: right;\n    }\n</style>\n<table border=\"1\" class=\"dataframe\">\n  <thead>\n    <tr style=\"text-align: right;\">\n      <th></th>\n      <th>Dato</th>\n      <th>AG_testede</th>\n      <th>AG_pos</th>\n      <th>AGpos_PCRkonf</th>\n      <th>Andel_AGpos_PCRkonf_pct</th>\n      <th>AGpos_minusPCRkonf</th>\n      <th>Andel_AGminusPCRkonf_pct</th>\n      <th>AGpos_PCRpos</th>\n      <th>AGposPCRneg</th>\n      <th>AGnegPCRpos</th>\n      <th>AGnegPCRneg</th>\n    </tr>\n  </thead>\n  <tbody>\n    <tr>\n      <th>0</th>\n      <td>2021-02-01</td>\n      <td>4827</td>\n      <td>8</td>\n      <td>4</td>\n      <td>50.000000</td>\n      <td>4</td>\n      <td>50.000000</td>\n      <td>2</td>\n      <td>2</td>\n      <td>2</td>\n      <td>293</td>\n    </tr>\n    <tr>\n      <th>1</th>\n      <td>2021-02-02</td>\n      <td>4640</td>\n      <td>9</td>\n      <td>5</td>\n      <td>55.555556</td>\n      <td>4</td>\n      <td>44.444444</td>\n      <td>5</td>\n      <td>0</td>\n      <td>5</td>\n      <td>308</td>\n    </tr>\n    <tr>\n      <th>2</th>\n      <td>2021-02-03</td>\n      <td>4869</td>\n      <td>10</td>\n      <td>6</td>\n      <td>60.000000</td>\n      <td>4</td>\n      <td>40.000000</td>\n      <td>6</td>\n      <td>0</td>\n      <td>6</td>\n      <td>343</td>\n    </tr>\n    <tr>\n      <th>3</th>\n      <td>2021-02-04</td>\n      <td>4494</td>\n      <td>6</td>\n      <td>3</td>\n      <td>50.000000</td>\n      <td>3</td>\n      <td>50.000000</td>\n      <td>3</td>\n      <td>0</td>\n      <td>5</td>\n      <td>322</td>\n    </tr>\n    <tr>\n      <th>4</th>\n      <td>2021-02-05</td>\n      <td>4360</td>\n      <td>7</td>\n      <td>5</td>\n      <td>71.428571</td>\n      <td>2</td>\n      <td>28.571429</td>\n      <td>4</td>\n      <td>1</td>\n      <td>6</td>\n      <td>280</td>\n    </tr>\n    <tr>\n      <th>5</th>\n      <td>2021-02-06</td>\n      <td>2586</td>\n      <td>10</td>\n      <td>6</td>\n      <td>60.000000</td>\n      <td>4</td>\n      <td>40.000000</td>\n      <td>6</td>\n      <td>0</td>\n      <td>3</td>\n      <td>262</td>\n    </tr>\n    <tr>\n      <th>6</th>\n      <td>2021-02-07</td>\n      <td>3020</td>\n      <td>14</td>\n      <td>7</td>\n      <td>50.000000</td>\n      <td>7</td>\n      <td>50.000000</td>\n      <td>7</td>\n      <td>0</td>\n      <td>6</td>\n      <td>326</td>\n    </tr>\n    <tr>\n      <th>7</th>\n      <td>2021-02-08</td>\n      <td>6979</td>\n      <td>13</td>\n      <td>7</td>\n      <td>53.846154</td>\n      <td>6</td>\n      <td>46.153846</td>\n      <td>6</td>\n      <td>1</td>\n      <td>5</td>\n      <td>439</td>\n    </tr>\n    <tr>\n      <th>8</th>\n      <td>2021-02-09</td>\n      <td>6086</td>\n      <td>6</td>\n      <td>4</td>\n      <td>66.666667</td>\n      <td>2</td>\n      <td>33.333333</td>\n      <td>4</td>\n      <td>0</td>\n      <td>5</td>\n      <td>390</td>\n    </tr>\n    <tr>\n      <th>9</th>\n      <td>2021-02-10</td>\n      <td>7070</td>\n      <td>13</td>\n      <td>5</td>\n      <td>38.461538</td>\n      <td>8</td>\n      <td>61.538462</td>\n      <td>4</td>\n      <td>1</td>\n      <td>1</td>\n      <td>498</td>\n    </tr>\n    <tr>\n      <th>10</th>\n      <td>2021-02-11</td>\n      <td>9125</td>\n      <td>13</td>\n      <td>7</td>\n      <td>53.846154</td>\n      <td>6</td>\n      <td>46.153846</td>\n      <td>6</td>\n      <td>1</td>\n      <td>3</td>\n      <td>537</td>\n    </tr>\n    <tr>\n      <th>11</th>\n      <td>2021-02-12</td>\n      <td>9170</td>\n      <td>9</td>\n      <td>4</td>\n      <td>44.444444</td>\n      <td>5</td>\n      <td>55.555556</td>\n      <td>3</td>\n      <td>1</td>\n      <td>4</td>\n      <td>477</td>\n    </tr>\n    <tr>\n      <th>12</th>\n      <td>2021-02-13</td>\n      <td>4834</td>\n      <td>15</td>\n      <td>8</td>\n      <td>53.333333</td>\n      <td>7</td>\n      <td>46.666667</td>\n      <td>7</td>\n      <td>1</td>\n      <td>6</td>\n      <td>339</td>\n    </tr>\n    <tr>\n      <th>13</th>\n      <td>2021-02-14</td>\n      <td>4794</td>\n      <td>19</td>\n      <td>10</td>\n      <td>52.631579</td>\n      <td>9</td>\n      <td>47.368421</td>\n      <td>7</td>\n      <td>3</td>\n      <td>9</td>\n      <td>435</td>\n    </tr>\n    <tr>\n      <th>14</th>\n      <td>2021-02-15</td>\n      <td>17138</td>\n      <td>48</td>\n      <td>24</td>\n      <td>50.000000</td>\n      <td>24</td>\n      <td>50.000000</td>\n      <td>17</td>\n      <td>7</td>\n      <td>25</td>\n      <td>1155</td>\n    </tr>\n    <tr>\n      <th>15</th>\n      <td>2021-02-16</td>\n      <td>16905</td>\n      <td>59</td>\n      <td>44</td>\n      <td>74.576271</td>\n      <td>15</td>\n      <td>25.423729</td>\n      <td>33</td>\n      <td>10</td>\n      <td>19</td>\n      <td>1340</td>\n    </tr>\n    <tr>\n      <th>16</th>\n      <td>2021-02-17</td>\n      <td>26124</td>\n      <td>85</td>\n      <td>52</td>\n      <td>61.176471</td>\n      <td>33</td>\n      <td>38.823529</td>\n      <td>43</td>\n      <td>9</td>\n      <td>20</td>\n      <td>2014</td>\n    </tr>\n    <tr>\n      <th>17</th>\n      <td>2021-02-18</td>\n      <td>30048</td>\n      <td>51</td>\n      <td>40</td>\n      <td>78.431373</td>\n      <td>11</td>\n      <td>21.568627</td>\n      <td>33</td>\n      <td>4</td>\n      <td>30</td>\n      <td>1803</td>\n    </tr>\n    <tr>\n      <th>18</th>\n      <td>2021-02-19</td>\n      <td>34146</td>\n      <td>86</td>\n      <td>54</td>\n      <td>62.790698</td>\n      <td>32</td>\n      <td>37.209302</td>\n      <td>42</td>\n      <td>12</td>\n      <td>37</td>\n      <td>1829</td>\n    </tr>\n    <tr>\n      <th>19</th>\n      <td>2021-02-20</td>\n      <td>21627</td>\n      <td>62</td>\n      <td>41</td>\n      <td>66.129032</td>\n      <td>21</td>\n      <td>33.870968</td>\n      <td>33</td>\n      <td>8</td>\n      <td>36</td>\n      <td>1624</td>\n    </tr>\n    <tr>\n      <th>20</th>\n      <td>2021-02-21</td>\n      <td>20240</td>\n      <td>94</td>\n      <td>66</td>\n      <td>70.212766</td>\n      <td>28</td>\n      <td>29.787234</td>\n      <td>59</td>\n      <td>4</td>\n      <td>41</td>\n      <td>1693</td>\n    </tr>\n    <tr>\n      <th>21</th>\n      <td>2021-02-22</td>\n      <td>25720</td>\n      <td>100</td>\n      <td>75</td>\n      <td>75.000000</td>\n      <td>25</td>\n      <td>25.000000</td>\n      <td>54</td>\n      <td>19</td>\n      <td>27</td>\n      <td>1899</td>\n    </tr>\n    <tr>\n      <th>22</th>\n      <td>2021-02-23</td>\n      <td>29551</td>\n      <td>100</td>\n      <td>70</td>\n      <td>70.000000</td>\n      <td>30</td>\n      <td>30.000000</td>\n      <td>58</td>\n      <td>10</td>\n      <td>34</td>\n      <td>2047</td>\n    </tr>\n    <tr>\n      <th>23</th>\n      <td>2021-02-24</td>\n      <td>29785</td>\n      <td>91</td>\n      <td>57</td>\n      <td>62.637363</td>\n      <td>34</td>\n      <td>37.362637</td>\n      <td>43</td>\n      <td>12</td>\n      <td>33</td>\n      <td>2122</td>\n    </tr>\n    <tr>\n      <th>24</th>\n      <td>2021-02-25</td>\n      <td>28385</td>\n      <td>85</td>\n      <td>53</td>\n      <td>62.352941</td>\n      <td>32</td>\n      <td>37.647059</td>\n      <td>44</td>\n      <td>9</td>\n      <td>20</td>\n      <td>1630</td>\n    </tr>\n    <tr>\n      <th>25</th>\n      <td>2021-02-26</td>\n      <td>36270</td>\n      <td>111</td>\n      <td>70</td>\n      <td>63.063063</td>\n      <td>41</td>\n      <td>36.936937</td>\n      <td>54</td>\n      <td>16</td>\n      <td>41</td>\n      <td>1826</td>\n    </tr>\n    <tr>\n      <th>26</th>\n      <td>2021-02-27</td>\n      <td>22501</td>\n      <td>92</td>\n      <td>68</td>\n      <td>73.913043</td>\n      <td>24</td>\n      <td>26.086957</td>\n      <td>58</td>\n      <td>9</td>\n      <td>17</td>\n      <td>1560</td>\n    </tr>\n    <tr>\n      <th>27</th>\n      <td>2021-02-28</td>\n      <td>24343</td>\n      <td>111</td>\n      <td>83</td>\n      <td>74.774775</td>\n      <td>28</td>\n      <td>25.225225</td>\n      <td>65</td>\n      <td>18</td>\n      <td>29</td>\n      <td>1974</td>\n    </tr>\n    <tr>\n      <th>28</th>\n      <td>2021-03-01</td>\n      <td>35361</td>\n      <td>95</td>\n      <td>72</td>\n      <td>75.789474</td>\n      <td>23</td>\n      <td>24.210526</td>\n      <td>51</td>\n      <td>19</td>\n      <td>17</td>\n      <td>2206</td>\n    </tr>\n    <tr>\n      <th>29</th>\n      <td>2021-03-02</td>\n      <td>38283</td>\n      <td>111</td>\n      <td>88</td>\n      <td>79.279279</td>\n      <td>23</td>\n      <td>20.720721</td>\n      <td>61</td>\n      <td>25</td>\n      <td>25</td>\n      <td>2082</td>\n    </tr>\n    <tr>\n      <th>30</th>\n      <td>2021-03-03</td>\n      <td>44032</td>\n      <td>105</td>\n      <td>73</td>\n      <td>69.523810</td>\n      <td>32</td>\n      <td>30.476190</td>\n      <td>36</td>\n      <td>37</td>\n      <td>43</td>\n      <td>3336</td>\n    </tr>\n    <tr>\n      <th>31</th>\n      <td>2021-03-04</td>\n      <td>56254</td>\n      <td>178</td>\n      <td>147</td>\n      <td>82.584270</td>\n      <td>31</td>\n      <td>17.415730</td>\n      <td>48</td>\n      <td>95</td>\n      <td>31</td>\n      <td>3609</td>\n    </tr>\n    <tr>\n      <th>32</th>\n      <td>2021-03-05</td>\n      <td>64514</td>\n      <td>168</td>\n      <td>133</td>\n      <td>79.166667</td>\n      <td>35</td>\n      <td>20.833333</td>\n      <td>44</td>\n      <td>88</td>\n      <td>55</td>\n      <td>4107</td>\n    </tr>\n    <tr>\n      <th>33</th>\n      <td>2021-03-06</td>\n      <td>38499</td>\n      <td>132</td>\n      <td>102</td>\n      <td>77.272727</td>\n      <td>30</td>\n      <td>22.727273</td>\n      <td>51</td>\n      <td>51</td>\n      <td>59</td>\n      <td>3055</td>\n    </tr>\n    <tr>\n      <th>34</th>\n      <td>2021-03-07</td>\n      <td>40356</td>\n      <td>204</td>\n      <td>167</td>\n      <td>81.862745</td>\n      <td>37</td>\n      <td>18.137255</td>\n      <td>58</td>\n      <td>105</td>\n      <td>61</td>\n      <td>3522</td>\n    </tr>\n    <tr>\n      <th>35</th>\n      <td>2021-03-08</td>\n      <td>64314</td>\n      <td>233</td>\n      <td>200</td>\n      <td>85.836910</td>\n      <td>33</td>\n      <td>14.163090</td>\n      <td>79</td>\n      <td>121</td>\n      <td>79</td>\n      <td>3929</td>\n    </tr>\n    <tr>\n      <th>36</th>\n      <td>2021-03-09</td>\n      <td>62946</td>\n      <td>190</td>\n      <td>169</td>\n      <td>88.947368</td>\n      <td>21</td>\n      <td>11.052632</td>\n      <td>62</td>\n      <td>106</td>\n      <td>65</td>\n      <td>3416</td>\n    </tr>\n    <tr>\n      <th>37</th>\n      <td>2021-03-10</td>\n      <td>58088</td>\n      <td>236</td>\n      <td>199</td>\n      <td>84.322034</td>\n      <td>37</td>\n      <td>15.677966</td>\n      <td>78</td>\n      <td>121</td>\n      <td>66</td>\n      <td>3848</td>\n    </tr>\n    <tr>\n      <th>38</th>\n      <td>2021-03-11</td>\n      <td>59203</td>\n      <td>170</td>\n      <td>148</td>\n      <td>87.058824</td>\n      <td>22</td>\n      <td>12.941176</td>\n      <td>51</td>\n      <td>97</td>\n      <td>43</td>\n      <td>3532</td>\n    </tr>\n    <tr>\n      <th>39</th>\n      <td>2021-03-12</td>\n      <td>60468</td>\n      <td>168</td>\n      <td>130</td>\n      <td>77.380952</td>\n      <td>38</td>\n      <td>22.619048</td>\n      <td>34</td>\n      <td>96</td>\n      <td>31</td>\n      <td>2975</td>\n    </tr>\n    <tr>\n      <th>40</th>\n      <td>2021-03-13</td>\n      <td>55929</td>\n      <td>152</td>\n      <td>119</td>\n      <td>78.289474</td>\n      <td>33</td>\n      <td>21.710526</td>\n      <td>56</td>\n      <td>60</td>\n      <td>64</td>\n      <td>3355</td>\n    </tr>\n    <tr>\n      <th>41</th>\n      <td>2021-03-14</td>\n      <td>72903</td>\n      <td>177</td>\n      <td>146</td>\n      <td>82.485876</td>\n      <td>31</td>\n      <td>17.514124</td>\n      <td>50</td>\n      <td>95</td>\n      <td>83</td>\n      <td>4151</td>\n    </tr>\n    <tr>\n      <th>42</th>\n      <td>2021-03-15</td>\n      <td>110938</td>\n      <td>262</td>\n      <td>226</td>\n      <td>86.259542</td>\n      <td>36</td>\n      <td>13.740458</td>\n      <td>107</td>\n      <td>114</td>\n      <td>105</td>\n      <td>5679</td>\n    </tr>\n    <tr>\n      <th>43</th>\n      <td>2021-03-16</td>\n      <td>116928</td>\n      <td>268</td>\n      <td>225</td>\n      <td>83.955224</td>\n      <td>43</td>\n      <td>16.044776</td>\n      <td>107</td>\n      <td>118</td>\n      <td>107</td>\n      <td>5324</td>\n    </tr>\n    <tr>\n      <th>44</th>\n      <td>2021-03-17</td>\n      <td>103652</td>\n      <td>197</td>\n      <td>155</td>\n      <td>78.680203</td>\n      <td>42</td>\n      <td>21.319797</td>\n      <td>83</td>\n      <td>66</td>\n      <td>105</td>\n      <td>5789</td>\n    </tr>\n    <tr>\n      <th>45</th>\n      <td>2021-03-18</td>\n      <td>124497</td>\n      <td>223</td>\n      <td>178</td>\n      <td>79.820628</td>\n      <td>45</td>\n      <td>20.179372</td>\n      <td>120</td>\n      <td>56</td>\n      <td>103</td>\n      <td>6219</td>\n    </tr>\n    <tr>\n      <th>46</th>\n      <td>2021-03-19</td>\n      <td>91830</td>\n      <td>148</td>\n      <td>125</td>\n      <td>84.459459</td>\n      <td>23</td>\n      <td>15.540541</td>\n      <td>77</td>\n      <td>45</td>\n      <td>71</td>\n      <td>4214</td>\n    </tr>\n    <tr>\n      <th>47</th>\n      <td>2021-03-20</td>\n      <td>57249</td>\n      <td>136</td>\n      <td>116</td>\n      <td>85.294118</td>\n      <td>20</td>\n      <td>14.705882</td>\n      <td>81</td>\n      <td>33</td>\n      <td>94</td>\n      <td>3628</td>\n    </tr>\n    <tr>\n      <th>48</th>\n      <td>2021-03-21</td>\n      <td>89881</td>\n      <td>209</td>\n      <td>174</td>\n      <td>83.253589</td>\n      <td>35</td>\n      <td>16.746411</td>\n      <td>120</td>\n      <td>53</td>\n      <td>126</td>\n      <td>5425</td>\n    </tr>\n    <tr>\n      <th>49</th>\n      <td>2021-03-22</td>\n      <td>133451</td>\n      <td>236</td>\n      <td>194</td>\n      <td>82.203390</td>\n      <td>42</td>\n      <td>17.796610</td>\n      <td>121</td>\n      <td>69</td>\n      <td>135</td>\n      <td>6696</td>\n    </tr>\n    <tr>\n      <th>50</th>\n      <td>2021-03-23</td>\n      <td>138374</td>\n      <td>200</td>\n      <td>174</td>\n      <td>87.000000</td>\n      <td>26</td>\n      <td>13.000000</td>\n      <td>113</td>\n      <td>59</td>\n      <td>135</td>\n      <td>6497</td>\n    </tr>\n    <tr>\n      <th>51</th>\n      <td>2021-03-24</td>\n      <td>120407</td>\n      <td>197</td>\n      <td>160</td>\n      <td>81.218274</td>\n      <td>37</td>\n      <td>18.781726</td>\n      <td>111</td>\n      <td>46</td>\n      <td>140</td>\n      <td>6398</td>\n    </tr>\n    <tr>\n      <th>52</th>\n      <td>2021-03-25</td>\n      <td>145032</td>\n      <td>234</td>\n      <td>178</td>\n      <td>76.068376</td>\n      <td>56</td>\n      <td>23.931624</td>\n      <td>124</td>\n      <td>51</td>\n      <td>143</td>\n      <td>7158</td>\n    </tr>\n    <tr>\n      <th>53</th>\n      <td>2021-03-26</td>\n      <td>131379</td>\n      <td>178</td>\n      <td>145</td>\n      <td>81.460674</td>\n      <td>33</td>\n      <td>18.539326</td>\n      <td>98</td>\n      <td>44</td>\n      <td>125</td>\n      <td>6159</td>\n    </tr>\n    <tr>\n      <th>54</th>\n      <td>2021-03-27</td>\n      <td>65511</td>\n      <td>161</td>\n      <td>136</td>\n      <td>84.472050</td>\n      <td>25</td>\n      <td>15.527950</td>\n      <td>103</td>\n      <td>32</td>\n      <td>91</td>\n      <td>4332</td>\n    </tr>\n    <tr>\n      <th>55</th>\n      <td>2021-03-28</td>\n      <td>63532</td>\n      <td>159</td>\n      <td>132</td>\n      <td>83.018868</td>\n      <td>27</td>\n      <td>16.981132</td>\n      <td>97</td>\n      <td>33</td>\n      <td>106</td>\n      <td>4677</td>\n    </tr>\n    <tr>\n      <th>56</th>\n      <td>2021-03-29</td>\n      <td>104941</td>\n      <td>256</td>\n      <td>226</td>\n      <td>88.281250</td>\n      <td>30</td>\n      <td>11.718750</td>\n      <td>153</td>\n      <td>72</td>\n      <td>149</td>\n      <td>6730</td>\n    </tr>\n    <tr>\n      <th>57</th>\n      <td>2021-03-30</td>\n      <td>113775</td>\n      <td>243</td>\n      <td>202</td>\n      <td>83.127572</td>\n      <td>41</td>\n      <td>16.872428</td>\n      <td>142</td>\n      <td>57</td>\n      <td>126</td>\n      <td>6305</td>\n    </tr>\n    <tr>\n      <th>58</th>\n      <td>2021-03-31</td>\n      <td>92933</td>\n      <td>146</td>\n      <td>129</td>\n      <td>88.356164</td>\n      <td>17</td>\n      <td>11.643836</td>\n      <td>89</td>\n      <td>39</td>\n      <td>65</td>\n      <td>4680</td>\n    </tr>\n    <tr>\n      <th>59</th>\n      <td>2021-04-01</td>\n      <td>101590</td>\n      <td>205</td>\n      <td>179</td>\n      <td>87.317073</td>\n      <td>26</td>\n      <td>12.682927</td>\n      <td>120</td>\n      <td>55</td>\n      <td>127</td>\n      <td>6198</td>\n    </tr>\n    <tr>\n      <th>60</th>\n      <td>2021-04-02</td>\n      <td>95139</td>\n      <td>200</td>\n      <td>172</td>\n      <td>86.000000</td>\n      <td>28</td>\n      <td>14.000000</td>\n      <td>109</td>\n      <td>58</td>\n      <td>84</td>\n      <td>6576</td>\n    </tr>\n    <tr>\n      <th>61</th>\n      <td>2021-04-03</td>\n      <td>82234</td>\n      <td>191</td>\n      <td>165</td>\n      <td>86.387435</td>\n      <td>26</td>\n      <td>13.612565</td>\n      <td>99</td>\n      <td>60</td>\n      <td>78</td>\n      <td>5867</td>\n    </tr>\n    <tr>\n      <th>62</th>\n      <td>2021-04-04</td>\n      <td>97380</td>\n      <td>167</td>\n      <td>149</td>\n      <td>89.221557</td>\n      <td>18</td>\n      <td>10.778443</td>\n      <td>93</td>\n      <td>53</td>\n      <td>107</td>\n      <td>6538</td>\n    </tr>\n    <tr>\n      <th>63</th>\n      <td>2021-04-05</td>\n      <td>192014</td>\n      <td>284</td>\n      <td>252</td>\n      <td>88.732394</td>\n      <td>32</td>\n      <td>11.267606</td>\n      <td>135</td>\n      <td>111</td>\n      <td>116</td>\n      <td>11798</td>\n    </tr>\n    <tr>\n      <th>64</th>\n      <td>2021-04-06</td>\n      <td>209546</td>\n      <td>286</td>\n      <td>253</td>\n      <td>88.461538</td>\n      <td>33</td>\n      <td>11.538462</td>\n      <td>145</td>\n      <td>103</td>\n      <td>122</td>\n      <td>11231</td>\n    </tr>\n    <tr>\n      <th>65</th>\n      <td>2021-04-07</td>\n      <td>186822</td>\n      <td>264</td>\n      <td>232</td>\n      <td>87.878788</td>\n      <td>32</td>\n      <td>12.121212</td>\n      <td>128</td>\n      <td>102</td>\n      <td>145</td>\n      <td>9928</td>\n    </tr>\n    <tr>\n      <th>66</th>\n      <td>2021-04-08</td>\n      <td>230087</td>\n      <td>264</td>\n      <td>223</td>\n      <td>84.469697</td>\n      <td>41</td>\n      <td>15.530303</td>\n      <td>145</td>\n      <td>73</td>\n      <td>158</td>\n      <td>11977</td>\n    </tr>\n    <tr>\n      <th>67</th>\n      <td>2021-04-09</td>\n      <td>186902</td>\n      <td>207</td>\n      <td>180</td>\n      <td>86.956522</td>\n      <td>27</td>\n      <td>13.043478</td>\n      <td>113</td>\n      <td>65</td>\n      <td>83</td>\n      <td>9763</td>\n    </tr>\n    <tr>\n      <th>68</th>\n      <td>2021-04-10</td>\n      <td>90851</td>\n      <td>155</td>\n      <td>133</td>\n      <td>85.806452</td>\n      <td>22</td>\n      <td>14.193548</td>\n      <td>87</td>\n      <td>45</td>\n      <td>94</td>\n      <td>5273</td>\n    </tr>\n    <tr>\n      <th>69</th>\n      <td>2021-04-11</td>\n      <td>159278</td>\n      <td>212</td>\n      <td>191</td>\n      <td>90.094340</td>\n      <td>21</td>\n      <td>9.905660</td>\n      <td>112</td>\n      <td>77</td>\n      <td>104</td>\n      <td>8786</td>\n    </tr>\n    <tr>\n      <th>70</th>\n      <td>2021-04-12</td>\n      <td>270828</td>\n      <td>306</td>\n      <td>272</td>\n      <td>88.888889</td>\n      <td>34</td>\n      <td>11.111111</td>\n      <td>151</td>\n      <td>118</td>\n      <td>170</td>\n      <td>13510</td>\n    </tr>\n    <tr>\n      <th>71</th>\n      <td>2021-04-13</td>\n      <td>220860</td>\n      <td>253</td>\n      <td>225</td>\n      <td>88.932806</td>\n      <td>28</td>\n      <td>11.067194</td>\n      <td>123</td>\n      <td>101</td>\n      <td>151</td>\n      <td>10591</td>\n    </tr>\n    <tr>\n      <th>72</th>\n      <td>2021-04-14</td>\n      <td>206140</td>\n      <td>248</td>\n      <td>209</td>\n      <td>84.274194</td>\n      <td>39</td>\n      <td>15.725806</td>\n      <td>130</td>\n      <td>78</td>\n      <td>154</td>\n      <td>10353</td>\n    </tr>\n    <tr>\n      <th>73</th>\n      <td>2021-04-15</td>\n      <td>249343</td>\n      <td>319</td>\n      <td>267</td>\n      <td>83.699060</td>\n      <td>52</td>\n      <td>16.300940</td>\n      <td>157</td>\n      <td>104</td>\n      <td>144</td>\n      <td>13356</td>\n    </tr>\n    <tr>\n      <th>74</th>\n      <td>2021-04-16</td>\n      <td>198858</td>\n      <td>248</td>\n      <td>200</td>\n      <td>80.645161</td>\n      <td>48</td>\n      <td>19.354839</td>\n      <td>110</td>\n      <td>88</td>\n      <td>135</td>\n      <td>10593</td>\n    </tr>\n    <tr>\n      <th>75</th>\n      <td>2021-04-17</td>\n      <td>75555</td>\n      <td>156</td>\n      <td>131</td>\n      <td>83.974359</td>\n      <td>25</td>\n      <td>16.025641</td>\n      <td>93</td>\n      <td>38</td>\n      <td>97</td>\n      <td>4665</td>\n    </tr>\n    <tr>\n      <th>76</th>\n      <td>2021-04-18</td>\n      <td>145845</td>\n      <td>265</td>\n      <td>247</td>\n      <td>93.207547</td>\n      <td>18</td>\n      <td>6.792453</td>\n      <td>155</td>\n      <td>89</td>\n      <td>152</td>\n      <td>7942</td>\n    </tr>\n    <tr>\n      <th>77</th>\n      <td>2021-04-19</td>\n      <td>279104</td>\n      <td>312</td>\n      <td>276</td>\n      <td>88.461538</td>\n      <td>36</td>\n      <td>11.538462</td>\n      <td>151</td>\n      <td>122</td>\n      <td>166</td>\n      <td>12103</td>\n    </tr>\n    <tr>\n      <th>78</th>\n      <td>2021-04-20</td>\n      <td>250074</td>\n      <td>293</td>\n      <td>262</td>\n      <td>89.419795</td>\n      <td>31</td>\n      <td>10.580205</td>\n      <td>147</td>\n      <td>110</td>\n      <td>144</td>\n      <td>11783</td>\n    </tr>\n    <tr>\n      <th>79</th>\n      <td>2021-04-21</td>\n      <td>265624</td>\n      <td>281</td>\n      <td>257</td>\n      <td>91.459075</td>\n      <td>24</td>\n      <td>8.540925</td>\n      <td>136</td>\n      <td>119</td>\n      <td>150</td>\n      <td>14051</td>\n    </tr>\n    <tr>\n      <th>80</th>\n      <td>2021-04-22</td>\n      <td>332245</td>\n      <td>261</td>\n      <td>239</td>\n      <td>91.570881</td>\n      <td>22</td>\n      <td>8.429119</td>\n      <td>114</td>\n      <td>123</td>\n      <td>124</td>\n      <td>16175</td>\n    </tr>\n    <tr>\n      <th>81</th>\n      <td>2021-04-23</td>\n      <td>293871</td>\n      <td>235</td>\n      <td>212</td>\n      <td>90.212766</td>\n      <td>23</td>\n      <td>9.787234</td>\n      <td>109</td>\n      <td>101</td>\n      <td>113</td>\n      <td>13702</td>\n    </tr>\n    <tr>\n      <th>82</th>\n      <td>2021-04-24</td>\n      <td>162736</td>\n      <td>196</td>\n      <td>168</td>\n      <td>85.714286</td>\n      <td>28</td>\n      <td>14.285714</td>\n      <td>90</td>\n      <td>77</td>\n      <td>119</td>\n      <td>8807</td>\n    </tr>\n    <tr>\n      <th>83</th>\n      <td>2021-04-25</td>\n      <td>197950</td>\n      <td>215</td>\n      <td>196</td>\n      <td>91.162791</td>\n      <td>19</td>\n      <td>8.837209</td>\n      <td>112</td>\n      <td>83</td>\n      <td>159</td>\n      <td>10324</td>\n    </tr>\n  </tbody>\n</table>\n</div>"
     },
     "metadata": {},
     "execution_count": 8
    }
   ],
   "source": [
    "# print(df2.columns.values)\n",
    "# df2.tail()\n",
    "df2"
   ]
  },
  {
   "cell_type": "code",
   "execution_count": 9,
   "metadata": {},
   "outputs": [],
   "source": [
    "# plt.figure()\n",
    "# # plt.plot(df2.Dato,df2.AG_testede)\n",
    "# # plt.plot(df2.Dato,df2.Andel_AGpos_PCRkonf_pct)\n",
    "# plt.plot(df2.Dato,df2.AG_pos)\n",
    "# # plt.plot(df2.Dato,df2.AGpos_PCRkonf)\n",
    "# plt.plot(df2.Dato,df2.AGpos_PCRkonf+df2.AGpos_minusPCRkonf)\n",
    "# # plt.plot(df2.Dato,df2.AGpos_PCRpos)\n",
    "# # plt.plot(df2.Dato,df2.AGposPCRneg)\n",
    "# # plt.plot(df2.Dato,df2.AGpos_PCRpos+df2.AGposPCRneg)\n",
    "# plt.show()"
   ]
  },
  {
   "cell_type": "code",
   "execution_count": 10,
   "metadata": {},
   "outputs": [
    {
     "output_type": "display_data",
     "data": {
      "text/plain": "Canvas(toolbar=Toolbar(toolitems=[('Home', 'Reset original view', 'home', 'home'), ('Back', 'Back to previous …",
      "application/vnd.jupyter.widget-view+json": {
       "version_major": 2,
       "version_minor": 0,
       "model_id": "cc7123d98da34b3a86fe5cf8ed4a7d23"
      }
     },
     "metadata": {}
    }
   ],
   "source": [
    "# fig,(ax1,ax2) = plt.subplots(2,1)\n",
    "fig,(ax1,ax2,ax3) = plt.subplots(3,1,sharex=True)\n",
    "\n",
    "ax1.fill_between(df2.Dato,df2.AG_pos,color='blue',label='AG pos, PCR testet')\n",
    "ax1.fill_between(df2.Dato,df2.AGpos_minusPCRkonf,color='grey',label='AG pos, afventer PCR')\n",
    "\n",
    "ax2.fill_between(df2.Dato,100*np.ones(df2.Dato.shape),color='xkcd:mint',label='AG pos, PCR neg')\n",
    "ax2.fill_between(df2.Dato,100*np.divide(df2.AGpos_PCRpos,df2.AGpos_PCRkonf),color='g',label='AG pos, PCR pos')\n",
    "\n",
    "numAGnegKonf = df2.AGnegPCRpos + df2.AGnegPCRneg\n",
    "\n",
    "ax3.fill_between(df2.Dato,100*np.ones(df2.Dato.shape),color='xkcd:mint',label='AG neg, PCR neg')\n",
    "ax3.fill_between(df2.Dato,100*np.divide(df2.AGnegPCRpos,numAGnegKonf),color='g',label='AG neg, PCR pos')\n",
    "\n",
    "ax1.legend(loc='center left',bbox_to_anchor = (1.0, 0.5))\n",
    "ax2.legend(loc='center left',bbox_to_anchor = (1.0, 0.5))\n",
    "ax3.legend(loc='center left',bbox_to_anchor = (1.0, 0.5))\n",
    "\n",
    "ax1.set_ylim(bottom=0)\n",
    "ax2.set_ylim(bottom=0,top=100)\n",
    "ax3.set_ylim(bottom=0,top=3)\n",
    "ax1.set_xlim([df2.Dato[0],df2.iloc[-1,0]])\n",
    "plt.tight_layout()"
   ]
  },
  {
   "cell_type": "code",
   "execution_count": 11,
   "metadata": {},
   "outputs": [
    {
     "output_type": "execute_result",
     "data": {
      "text/plain": [
       "          Date  NewPositive  NotPrevPos  PosPct  PrevPos  Tested  \\\n",
       "381 2021-04-24          176      162216     0.1      447  162663   \n",
       "382 2021-04-25          192      197290     0.1      576  197866   \n",
       "383 2021-04-26          351      362111     0.1     1008  363119   \n",
       "384 2021-04-27          294      287417     0.1      720  288137   \n",
       "385 2021-04-28          234      244103     0.1      673  244776   \n",
       "\n",
       "     Tested_kumulativ  \n",
       "381           7575404  \n",
       "382           7773270  \n",
       "383           8136389  \n",
       "384           8424526  \n",
       "385           8669302  "
      ],
      "text/html": "<div>\n<style scoped>\n    .dataframe tbody tr th:only-of-type {\n        vertical-align: middle;\n    }\n\n    .dataframe tbody tr th {\n        vertical-align: top;\n    }\n\n    .dataframe thead th {\n        text-align: right;\n    }\n</style>\n<table border=\"1\" class=\"dataframe\">\n  <thead>\n    <tr style=\"text-align: right;\">\n      <th></th>\n      <th>Date</th>\n      <th>NewPositive</th>\n      <th>NotPrevPos</th>\n      <th>PosPct</th>\n      <th>PrevPos</th>\n      <th>Tested</th>\n      <th>Tested_kumulativ</th>\n    </tr>\n  </thead>\n  <tbody>\n    <tr>\n      <th>381</th>\n      <td>2021-04-24</td>\n      <td>176</td>\n      <td>162216</td>\n      <td>0.1</td>\n      <td>447</td>\n      <td>162663</td>\n      <td>7575404</td>\n    </tr>\n    <tr>\n      <th>382</th>\n      <td>2021-04-25</td>\n      <td>192</td>\n      <td>197290</td>\n      <td>0.1</td>\n      <td>576</td>\n      <td>197866</td>\n      <td>7773270</td>\n    </tr>\n    <tr>\n      <th>383</th>\n      <td>2021-04-26</td>\n      <td>351</td>\n      <td>362111</td>\n      <td>0.1</td>\n      <td>1008</td>\n      <td>363119</td>\n      <td>8136389</td>\n    </tr>\n    <tr>\n      <th>384</th>\n      <td>2021-04-27</td>\n      <td>294</td>\n      <td>287417</td>\n      <td>0.1</td>\n      <td>720</td>\n      <td>288137</td>\n      <td>8424526</td>\n    </tr>\n    <tr>\n      <th>385</th>\n      <td>2021-04-28</td>\n      <td>234</td>\n      <td>244103</td>\n      <td>0.1</td>\n      <td>673</td>\n      <td>244776</td>\n      <td>8669302</td>\n    </tr>\n  </tbody>\n</table>\n</div>"
     },
     "metadata": {},
     "execution_count": 11
    }
   ],
   "source": [
    "df.tail()"
   ]
  },
  {
   "cell_type": "code",
   "execution_count": 12,
   "metadata": {},
   "outputs": [
    {
     "output_type": "execute_result",
     "data": {
      "text/plain": [
       "          Date  NewPositive  NotPrevPos  PosPct  PrevPos  Tested  \\\n",
       "453 2021-04-24          568      135092     0.4     4488  139580   \n",
       "454 2021-04-25          600      148021     0.4     4612  152633   \n",
       "455 2021-04-26          778      186135     0.4     7355  193490   \n",
       "456 2021-04-27          890      169291     0.5     6231  175522   \n",
       "457 2021-04-28          123       25979     0.5     1174   27153   \n",
       "\n",
       "     Tested_kumulativ  \n",
       "453          26118778  \n",
       "454          26271411  \n",
       "455          26464901  \n",
       "456          26640423  \n",
       "457          26667576  "
      ],
      "text/html": "<div>\n<style scoped>\n    .dataframe tbody tr th:only-of-type {\n        vertical-align: middle;\n    }\n\n    .dataframe tbody tr th {\n        vertical-align: top;\n    }\n\n    .dataframe thead th {\n        text-align: right;\n    }\n</style>\n<table border=\"1\" class=\"dataframe\">\n  <thead>\n    <tr style=\"text-align: right;\">\n      <th></th>\n      <th>Date</th>\n      <th>NewPositive</th>\n      <th>NotPrevPos</th>\n      <th>PosPct</th>\n      <th>PrevPos</th>\n      <th>Tested</th>\n      <th>Tested_kumulativ</th>\n    </tr>\n  </thead>\n  <tbody>\n    <tr>\n      <th>453</th>\n      <td>2021-04-24</td>\n      <td>568</td>\n      <td>135092</td>\n      <td>0.4</td>\n      <td>4488</td>\n      <td>139580</td>\n      <td>26118778</td>\n    </tr>\n    <tr>\n      <th>454</th>\n      <td>2021-04-25</td>\n      <td>600</td>\n      <td>148021</td>\n      <td>0.4</td>\n      <td>4612</td>\n      <td>152633</td>\n      <td>26271411</td>\n    </tr>\n    <tr>\n      <th>455</th>\n      <td>2021-04-26</td>\n      <td>778</td>\n      <td>186135</td>\n      <td>0.4</td>\n      <td>7355</td>\n      <td>193490</td>\n      <td>26464901</td>\n    </tr>\n    <tr>\n      <th>456</th>\n      <td>2021-04-27</td>\n      <td>890</td>\n      <td>169291</td>\n      <td>0.5</td>\n      <td>6231</td>\n      <td>175522</td>\n      <td>26640423</td>\n    </tr>\n    <tr>\n      <th>457</th>\n      <td>2021-04-28</td>\n      <td>123</td>\n      <td>25979</td>\n      <td>0.5</td>\n      <td>1174</td>\n      <td>27153</td>\n      <td>26667576</td>\n    </tr>\n  </tbody>\n</table>\n</div>"
     },
     "metadata": {},
     "execution_count": 12
    }
   ],
   "source": [
    "dfPCR.tail()"
   ]
  },
  {
   "cell_type": "code",
   "execution_count": 13,
   "metadata": {},
   "outputs": [
    {
     "output_type": "execute_result",
     "data": {
      "text/plain": [
       "         Dato  AG_testede  AG_pos  AGpos_PCRkonf  Andel_AGpos_PCRkonf_pct  \\\n",
       "79 2021-04-21      265624     281            257                91.459075   \n",
       "80 2021-04-22      332245     261            239                91.570881   \n",
       "81 2021-04-23      293871     235            212                90.212766   \n",
       "82 2021-04-24      162736     196            168                85.714286   \n",
       "83 2021-04-25      197950     215            196                91.162791   \n",
       "\n",
       "    AGpos_minusPCRkonf  Andel_AGminusPCRkonf_pct  AGpos_PCRpos  AGposPCRneg  \\\n",
       "79                  24                  8.540925           136          119   \n",
       "80                  22                  8.429119           114          123   \n",
       "81                  23                  9.787234           109          101   \n",
       "82                  28                 14.285714            90           77   \n",
       "83                  19                  8.837209           112           83   \n",
       "\n",
       "    AGnegPCRpos  AGnegPCRneg  \n",
       "79          150        14051  \n",
       "80          124        16175  \n",
       "81          113        13702  \n",
       "82          119         8807  \n",
       "83          159        10324  "
      ],
      "text/html": "<div>\n<style scoped>\n    .dataframe tbody tr th:only-of-type {\n        vertical-align: middle;\n    }\n\n    .dataframe tbody tr th {\n        vertical-align: top;\n    }\n\n    .dataframe thead th {\n        text-align: right;\n    }\n</style>\n<table border=\"1\" class=\"dataframe\">\n  <thead>\n    <tr style=\"text-align: right;\">\n      <th></th>\n      <th>Dato</th>\n      <th>AG_testede</th>\n      <th>AG_pos</th>\n      <th>AGpos_PCRkonf</th>\n      <th>Andel_AGpos_PCRkonf_pct</th>\n      <th>AGpos_minusPCRkonf</th>\n      <th>Andel_AGminusPCRkonf_pct</th>\n      <th>AGpos_PCRpos</th>\n      <th>AGposPCRneg</th>\n      <th>AGnegPCRpos</th>\n      <th>AGnegPCRneg</th>\n    </tr>\n  </thead>\n  <tbody>\n    <tr>\n      <th>79</th>\n      <td>2021-04-21</td>\n      <td>265624</td>\n      <td>281</td>\n      <td>257</td>\n      <td>91.459075</td>\n      <td>24</td>\n      <td>8.540925</td>\n      <td>136</td>\n      <td>119</td>\n      <td>150</td>\n      <td>14051</td>\n    </tr>\n    <tr>\n      <th>80</th>\n      <td>2021-04-22</td>\n      <td>332245</td>\n      <td>261</td>\n      <td>239</td>\n      <td>91.570881</td>\n      <td>22</td>\n      <td>8.429119</td>\n      <td>114</td>\n      <td>123</td>\n      <td>124</td>\n      <td>16175</td>\n    </tr>\n    <tr>\n      <th>81</th>\n      <td>2021-04-23</td>\n      <td>293871</td>\n      <td>235</td>\n      <td>212</td>\n      <td>90.212766</td>\n      <td>23</td>\n      <td>9.787234</td>\n      <td>109</td>\n      <td>101</td>\n      <td>113</td>\n      <td>13702</td>\n    </tr>\n    <tr>\n      <th>82</th>\n      <td>2021-04-24</td>\n      <td>162736</td>\n      <td>196</td>\n      <td>168</td>\n      <td>85.714286</td>\n      <td>28</td>\n      <td>14.285714</td>\n      <td>90</td>\n      <td>77</td>\n      <td>119</td>\n      <td>8807</td>\n    </tr>\n    <tr>\n      <th>83</th>\n      <td>2021-04-25</td>\n      <td>197950</td>\n      <td>215</td>\n      <td>196</td>\n      <td>91.162791</td>\n      <td>19</td>\n      <td>8.837209</td>\n      <td>112</td>\n      <td>83</td>\n      <td>159</td>\n      <td>10324</td>\n    </tr>\n  </tbody>\n</table>\n</div>"
     },
     "metadata": {},
     "execution_count": 13
    }
   ],
   "source": [
    "df2.tail()"
   ]
  },
  {
   "cell_type": "code",
   "execution_count": 14,
   "metadata": {},
   "outputs": [
    {
     "output_type": "display_data",
     "data": {
      "text/plain": "Canvas(toolbar=Toolbar(toolitems=[('Home', 'Reset original view', 'home', 'home'), ('Back', 'Back to previous …",
      "application/vnd.jupyter.widget-view+json": {
       "version_major": 2,
       "version_minor": 0,
       "model_id": "adef162597ad44dcb0a785a01b5fa884"
      }
     },
     "metadata": {}
    }
   ],
   "source": [
    "fig,ax1 = plt.subplots(1,1)\n",
    "ax1.plot(df.Date,100*df.Tested/5800000)\n",
    "meanWidth=7\n",
    "ax1.plot(rnTime(df.Date,meanWidth),100*rnMean(df.Tested,meanWidth)/5800000,'k:')\n",
    "\n",
    "ax1.set_xlim([np.datetime64('2021-02-01'),df.iloc[-1,0]])\n",
    "plt.show()"
   ]
  },
  {
   "cell_type": "code",
   "execution_count": 15,
   "metadata": {},
   "outputs": [
    {
     "output_type": "display_data",
     "data": {
      "text/plain": "Canvas(toolbar=Toolbar(toolitems=[('Home', 'Reset original view', 'home', 'home'), ('Back', 'Back to previous …",
      "application/vnd.jupyter.widget-view+json": {
       "version_major": 2,
       "version_minor": 0,
       "model_id": "36210593c89e45d7b6deadb02fe2ae7b"
      }
     },
     "metadata": {}
    }
   ],
   "source": [
    "# fig,ax1 = plt.subplots(1,1)\n",
    "fig,(ax1,ax2) = plt.subplots(2,1,sharex=True)\n",
    "\n",
    "ax1.plot(df.Date,df.Tested,label='Antal AG tests')\n",
    "ax1.plot(dfPCR.Date,dfPCR.Tested,label='Antal PCR tests')\n",
    "ax1.plot(rnTime(dfPCR.Date,7),rnMean(dfPCR.Tested,7),label='Antal PCR tests')\n",
    "\n",
    "# ax2.plot(df.Date,df.PosPct,label='Positiv procent, AG')\n",
    "# ax2.plot(dfPCR.Date,dfPCR.PosPct,label='Positive procent, PCR')\n",
    "ax2.plot(df.Date,100*np.divide(df.NewPositive,df.Tested),label='Positiv procent, AG')\n",
    "ax2.plot(dfPCR.Date,100*np.divide(dfPCR.NewPositive,dfPCR.Tested),label='Positiv procent, PCR')\n",
    "\n",
    "\n",
    "ax1.legend(loc='center left',bbox_to_anchor = (1.0, 0.5))\n",
    "ax2.legend(loc='center left',bbox_to_anchor = (1.0, 0.5))\n",
    "\n",
    "ax1.grid()\n",
    "ax2.grid()\n",
    "\n",
    "ax1.set_ylim(bottom=0)\n",
    "ax2.set_ylim(bottom=0,top=0.6)\n",
    "\n",
    "ax1.set_xlim(left=np.datetime64('2020-02-01'),right=date.today())\n",
    "ax1.xaxis.set_major_formatter(mdates.DateFormatter('%d %b\\n%Y'))\n",
    "\n",
    "plt.tight_layout()\n",
    "\n",
    "# if saveFigures:\n",
    "#     plt.savefig('figs/AntalTestOgPosPct')"
   ]
  },
  {
   "cell_type": "code",
   "execution_count": 17,
   "metadata": {},
   "outputs": [
    {
     "output_type": "display_data",
     "data": {
      "text/plain": "Canvas(toolbar=Toolbar(toolitems=[('Home', 'Reset original view', 'home', 'home'), ('Back', 'Back to previous …",
      "application/vnd.jupyter.widget-view+json": {
       "version_major": 2,
       "version_minor": 0,
       "model_id": "c4014724193d40749f6d0baeb53a0ed3"
      }
     },
     "metadata": {}
    }
   ],
   "source": [
    "firstDate = np.datetime64('2021-02-01')\n",
    "lastDate = np.datetime64('2021-04-24')\n",
    "\n",
    "curDates = np.arange(firstDate,lastDate)\n",
    "\n",
    "# posAG  = df[df.Date.isin(curDates)].NewPositive \n",
    "PCRpos = dfPCR[dfPCR.Date.isin(curDates)].NewPositive.values\n",
    "numPCR = dfPCR[dfPCR.Date.isin(curDates)].Tested.values\n",
    "AGpos = df[df.Date.isin(curDates)].NewPositive.values\n",
    "numAG = df[df.Date.isin(curDates)].Tested.values\n",
    "AGposPCRpos = df2[df2.Dato.isin(curDates)].AGpos_PCRpos.values\n",
    "# PCRposPct = dfPCR[dfPCR.Date.isin(curDates)].PosPct.values\n",
    "PCRposPct = np.divide(PCRpos,numPCR)\n",
    "AGposPct = np.divide(AGpos,numAG)\n",
    "\n",
    "# Positive PCR-tests, excluding those that only got tested because of a positive AG-test\n",
    "PCRpos_nonAG = PCRpos-AGposPCRpos\n",
    "\n",
    "# Factor used for scaling with respect to number of tests\n",
    "scaleFactor = 0.7\n",
    "\n",
    "# Screening-ratio (Guess about how many tests would have been carried out in the absence of wide screening)\n",
    "screenRatio = 1/6\n",
    "\n",
    "\n",
    "scaleScreenRatio = screenRatio**scaleFactor\n",
    "\n",
    "# \n",
    "multFactor = (1-screenRatio**scaleFactor)\n",
    "\n",
    "\n",
    "fig,(ax1,ax2) = plt.subplots(2,1,sharex=True)\n",
    "\n",
    "ax1.plot(curDates,AGposPCRpos,label='AG positive, PCR confirmed')\n",
    "ax1.plot(curDates,PCRpos,label='PCR positive, total')\n",
    "ax1.plot(curDates,PCRpos_nonAG,label='PCR positive, non-AG')\n",
    "ax1.plot(curDates,np.multiply(PCRpos_nonAG,scaleScreenRatio),label='PCR positive, non-AG\\nAssumed due to symptoms')\n",
    "ax1.plot(curDates,np.multiply(PCRpos_nonAG,multFactor),label='PCR positive, non-AG\\nAssumed due to screening')\n",
    "ax1.plot(curDates,AGposPCRpos + np.multiply(PCRpos_nonAG,multFactor),label='PCR positive, non-AG, screening,\\nand AG confirmatory tests')\n",
    "\n",
    "meanWidth = 7\n",
    "ax1.plot(rnTime(curDates,meanWidth),rnMean(AGposPCRpos + np.multiply(PCRpos_nonAG,multFactor),meanWidth),'k:',label='PCR positive, non-AG, screening,\\nand AG confirmatory tests, 7 day mean')\n",
    "# ax1.plot(curDates,PCRpos - (AGposPCRpos + np.multiply(PCRpos_nonAG,multFactor)),label='PCR positive, as neighbours')\n",
    "\n",
    "foundThroughScreening = AGposPCRpos + np.multiply(PCRpos_nonAG,multFactor)\n",
    "foundThroughPCRScreening = np.multiply(PCRpos_nonAG,multFactor)\n",
    "\n",
    "\n",
    "ax2.plot(curDates,100*PCRposPct,'b.-',linewidth=0.5,markersize=2,label='PCR, total')\n",
    "ax2.plot(rnTime(curDates,meanWidth),100*rnMean(PCRposPct,meanWidth),'b',label='PCR, total, '+str(meanWidth)+' day mean')\n",
    "ax2.plot(curDates,100*AGposPct,'.-',color='xkcd:dark red',label='AG',linewidth=0.5,markersize=2)\n",
    "ax2.plot(rnTime(curDates,meanWidth),100*rnMean(AGposPct,meanWidth),color='xkcd:dark red',label='AG, '+str(meanWidth)+' day mean')\n",
    "ax2.plot(curDates,2*100*AGposPct,'.-',color='xkcd:red',label='AG, multiplied by 2',linewidth=0.5,markersize=2)\n",
    "ax2.plot(rnTime(curDates,meanWidth),2*100*rnMean(AGposPct,meanWidth),color='xkcd:red',label='AG, multiplied by 2, '+str(meanWidth)+' day mean')\n",
    "\n",
    "ax2.plot(curDates,100*np.divide(foundThroughPCRScreening,numPCR*(1-screenRatio)),'.-',linewidth=0.5,markersize=2,color='xkcd:green',label='PCR, screening')\n",
    "ax2.plot(rnTime(curDates,meanWidth),rnMean(100*np.divide(foundThroughPCRScreening,numPCR*(1-screenRatio)),meanWidth),color='xkcd:green',label='PCR, screening, '+str(meanWidth)+' day mean')\n",
    "# ax2.plot(curDates,6*100*np.divide(PCRpos - (AGposPCRpos + np.multiply(PCRpos_nonAG,multFactor)),numPCR),label='PCR positive, as neighbours')\n",
    "\n",
    "# ax2.plot(rnTime(curDates,meanWidth),100*rnMean(PCRposPct,meanWidth),'b')\n",
    "# ax2.plot(rnTime(curDates,meanWidth),rnMean(6*100*np.divide(PCRpos - (AGposPCRpos + np.multiply(PCRpos_nonAG,multFactor)),numPCR),7),':')\n",
    "\n",
    "ax1.legend(loc='center left',bbox_to_anchor = (1.0, 0.5))\n",
    "ax2.legend(loc='center left',bbox_to_anchor = (1.0, 0.5))\n",
    "ax1.grid()\n",
    "ax2.grid()\n",
    "ax1.set_ylim(bottom=0)\n",
    "ax2.set_ylim(bottom=0)\n",
    "plt.tight_layout()\n",
    "\n",
    "if saveFigures:\n",
    "    plt.savefig('figs/EstimateOfEffectOfScreening')"
   ]
  },
  {
   "cell_type": "code",
   "execution_count": 18,
   "metadata": {},
   "outputs": [
    {
     "output_type": "display_data",
     "data": {
      "text/plain": "Canvas(toolbar=Toolbar(toolitems=[('Home', 'Reset original view', 'home', 'home'), ('Back', 'Back to previous …",
      "application/vnd.jupyter.widget-view+json": {
       "version_major": 2,
       "version_minor": 0,
       "model_id": "f8b82633a3d840a8bcd1f39c283a6ae3"
      }
     },
     "metadata": {}
    }
   ],
   "source": [
    "fig,(ax1,ax2,ax3) = plt.subplots(3,1,sharex=True)\n",
    "\n",
    "meanWidth = 7\n",
    "\n",
    "ax1.plot(curDates,AGposPCRpos,'.-',color='xkcd:hot pink',linewidth=0.5,markersize=2,label='AG positive, PCR confirmed')\n",
    "ax1.plot(rnTime(curDates,meanWidth),rnMean(AGposPCRpos,meanWidth),color='xkcd:hot pink',label=str(meanWidth)+' day running mean')\n",
    "ax1.plot(curDates,PCRpos,'.-',color='xkcd:rust',linewidth=0.5,markersize=2,label='PCR positive, total')\n",
    "ax1.plot(rnTime(curDates,meanWidth),rnMean(PCRpos,meanWidth),color='xkcd:rust',label=str(meanWidth)+' day running mean')\n",
    "ax1.plot(curDates,PCRpos_nonAG,'g.-',linewidth=0.5,markersize=2,label='PCR positive,\\nexcluding tests to confirm AG-tests')\n",
    "ax1.plot(rnTime(curDates,meanWidth),rnMean(PCRpos_nonAG,meanWidth),'g',label=str(meanWidth)+' day running mean')\n",
    "\n",
    "\n",
    "ax2.fill_between(curDates,np.multiply(PCRpos_nonAG,multFactor),PCRpos_nonAG,color='g',label='PCR positive,\\nexcluding tests to confirm AG-tests')\n",
    "ax2.fill_between(curDates,np.multiply(PCRpos_nonAG,multFactor),color='xkcd:royal blue',label=f'PCR positive, non-AG\\nAssumed due to screening\\n({100*multFactor:.2f} %)')\n",
    "\n",
    "# ax1.plot(curDates,np.multiply(PCRpos_nonAG,scaleScreenRatio),label='PCR positive, non-AG\\nAssumed due to symptoms')\n",
    "# ax1.plot(curDates,np.multiply(PCRpos_nonAG,multFactor),label='PCR positive, non-AG\\nAssumed due to screening')\n",
    "ax3.plot(curDates,np.multiply(PCRpos_nonAG,multFactor),'.-',linewidth=0.5,markersize=2,color='xkcd:royal blue',label=f'PCR positive, non-AG\\nAssumed due to screening\\n({100*multFactor:.2f} %)')\n",
    "ax3.plot(rnTime(curDates,meanWidth),rnMean(np.multiply(PCRpos_nonAG,multFactor),meanWidth),'xkcd:royal blue',label=str(meanWidth)+' day running mean')\n",
    "\n",
    "ax3.plot(curDates,AGposPCRpos + np.multiply(PCRpos_nonAG,multFactor),'m.-',linewidth=0.5,markersize=2,label='PCR positive, non-AG, screening,\\nand AG confirmatory tests')\n",
    "\n",
    "ax3.plot(rnTime(curDates,meanWidth),rnMean(AGposPCRpos + np.multiply(PCRpos_nonAG,multFactor),meanWidth),'m',label=str(meanWidth)+' day running mean')\n",
    "\n",
    "ax1.legend(loc='center left',bbox_to_anchor = (1.0, 0.5))\n",
    "ax2.legend(loc='center left',bbox_to_anchor = (1.0, 0.5))\n",
    "ax3.legend(loc='center left',bbox_to_anchor = (1.0, 0.5))\n",
    "ax1.grid()\n",
    "ax3.grid()\n",
    "ax1.set_ylim(bottom=0)\n",
    "ax2.set_ylim(bottom=0)\n",
    "ax3.set_ylim(bottom=0)\n",
    "\n",
    "\n",
    "\n",
    "ax1.set_xlim([firstDate,lastDate-np.timedelta64(1,'D')])\n",
    "plt.tight_layout()\n",
    "\n",
    "\n",
    "if saveFigures:\n",
    "    plt.savefig('figs/EstimateOfEffectOfScreeningNew')"
   ]
  },
  {
   "cell_type": "code",
   "execution_count": 19,
   "metadata": {},
   "outputs": [
    {
     "output_type": "display_data",
     "data": {
      "text/plain": "Canvas(toolbar=Toolbar(toolitems=[('Home', 'Reset original view', 'home', 'home'), ('Back', 'Back to previous …",
      "application/vnd.jupyter.widget-view+json": {
       "version_major": 2,
       "version_minor": 0,
       "model_id": "a3f1650264844dc8920be3fa28f4ed60"
      }
     },
     "metadata": {}
    }
   ],
   "source": [
    "# fig,(ax1,ax2,ax3) = plt.subplots(3,1,sharex=True)\n",
    "fig,ax1 = plt.subplots(1,1,sharex=True)\n",
    "\n",
    "meanWidth = 7\n",
    "\n",
    "ax1.plot(curDates,PCRpos,'.-',color='xkcd:rust',linewidth=0.5,markersize=2,label='PCR positive, total')\n",
    "ax1.plot(rnTime(curDates,meanWidth),rnMean(PCRpos,meanWidth),color='xkcd:rust')\n",
    "ax1.plot(curDates,PCRpos_nonAG,'g.-',linewidth=0.5,markersize=2,label='PCR positive, due to only PCR')\n",
    "ax1.plot(rnTime(curDates,meanWidth),rnMean(PCRpos_nonAG,meanWidth),'g')\n",
    "ax1.plot(curDates,AGposPCRpos,'.-',color='xkcd:hot pink',linewidth=0.5,markersize=2,label='PCR positive, due to AG')\n",
    "ax1.plot(rnTime(curDates,meanWidth),rnMean(AGposPCRpos,meanWidth),color='xkcd:hot pink')\n",
    "\n",
    "\n",
    "# ax2.fill_between(curDates,np.multiply(PCRpos_nonAG,multFactor),PCRpos_nonAG,color='g',label='PCR positive,\\nexcluding tests to confirm AG-tests')\n",
    "# ax2.fill_between(curDates,np.multiply(PCRpos_nonAG,multFactor),color='xkcd:royal blue',label=f'PCR positive, non-AG\\nAssumed due to screening\\n({100*multFactor:.2f} %)')\n",
    "\n",
    "# # ax1.plot(curDates,np.multiply(PCRpos_nonAG,scaleScreenRatio),label='PCR positive, non-AG\\nAssumed due to symptoms')\n",
    "# # ax1.plot(curDates,np.multiply(PCRpos_nonAG,multFactor),label='PCR positive, non-AG\\nAssumed due to screening')\n",
    "# ax3.plot(curDates,np.multiply(PCRpos_nonAG,multFactor),'.-',linewidth=0.5,markersize=2,color='xkcd:royal blue',label=f'PCR positive, non-AG\\nAssumed due to screening\\n({100*multFactor:.2f} %)')\n",
    "# ax3.plot(rnTime(curDates,meanWidth),rnMean(np.multiply(PCRpos_nonAG,multFactor),meanWidth),'xkcd:royal blue',label=str(meanWidth)+' day running mean')\n",
    "\n",
    "# ax3.plot(curDates,AGposPCRpos + np.multiply(PCRpos_nonAG,multFactor),'m.-',linewidth=0.5,markersize=2,label='PCR positive, non-AG, screening,\\nand AG confirmatory tests')\n",
    "\n",
    "# ax3.plot(rnTime(curDates,meanWidth),rnMean(AGposPCRpos + np.multiply(PCRpos_nonAG,multFactor),meanWidth),'m',label=str(meanWidth)+' day running mean')\n",
    "\n",
    "# ax1.legend(loc='center center',bbox_to_anchor = (0.5, 1.0))\n",
    "ax1.legend(loc='upper left')\n",
    "# ax2.legend(loc='center left',bbox_to_anchor = (1.0, 0.5))\n",
    "# ax3.legend(loc='center left',bbox_to_anchor = (1.0, 0.5))\n",
    "ax1.grid()\n",
    "# ax3.grid()\n",
    "ax1.set_ylim(bottom=0,top=900)\n",
    "# ax2.set_ylim(bottom=0)\n",
    "# ax3.set_ylim(bottom=0)\n",
    "\n",
    "ax1.set_ylabel('Count')\n",
    "\n",
    "\n",
    "ax1.set_xlim([firstDate,lastDate-np.timedelta64(1,'D')])\n",
    "plt.tight_layout()\n",
    "\n",
    "\n",
    "if saveFigures:\n",
    "    plt.savefig('Viggo_Screening')"
   ]
  },
  {
   "cell_type": "code",
   "execution_count": 20,
   "metadata": {},
   "outputs": [
    {
     "output_type": "display_data",
     "data": {
      "text/plain": "Canvas(toolbar=Toolbar(toolitems=[('Home', 'Reset original view', 'home', 'home'), ('Back', 'Back to previous …",
      "application/vnd.jupyter.widget-view+json": {
       "version_major": 2,
       "version_minor": 0,
       "model_id": "a390be379e5d4ca8b698f4f5208c876d"
      }
     },
     "metadata": {}
    }
   ],
   "source": [
    "# fig,(ax1,ax2,ax3) = plt.subplots(3,1,sharex=True)\n",
    "fig,ax1 = plt.subplots(1,1,sharex=True)\n",
    "\n",
    "meanWidth = 7\n",
    "\n",
    "ax1.plot(curDates,PCRpos_nonAG,'g.-',linewidth=0.5,markersize=2,label='PCR positive, due to only PCR (all)')\n",
    "ax1.plot(rnTime(curDates,meanWidth),rnMean(PCRpos_nonAG,meanWidth),'g')\n",
    "\n",
    "\n",
    "# ax2.fill_between(curDates,np.multiply(PCRpos_nonAG,multFactor),PCRpos_nonAG,color='g',label='PCR positive,\\nexcluding tests to confirm AG-tests')\n",
    "ax1.plot(curDates,np.multiply(PCRpos_nonAG,multFactor),'.-',linewidth=0.5,markersize=2,color='xkcd:royal blue',label=f'PCR positive, due to only PCR (screening, {100*multFactor:.2f} %)')\n",
    "ax1.plot(rnTime(curDates,meanWidth),rnMean(np.multiply(PCRpos_nonAG,multFactor),meanWidth),color='xkcd:royal blue')\n",
    "\n",
    "# # ax1.plot(curDates,np.multiply(PCRpos_nonAG,scaleScreenRatio),label='PCR positive, non-AG\\nAssumed due to symptoms')\n",
    "# # ax1.plot(curDates,np.multiply(PCRpos_nonAG,multFactor),label='PCR positive, non-AG\\nAssumed due to screening')\n",
    "# ax3.plot(curDates,np.multiply(PCRpos_nonAG,multFactor),'.-',linewidth=0.5,markersize=2,color='xkcd:royal blue',label=f'PCR positive, non-AG\\nAssumed due to screening\\n({100*multFactor:.2f} %)')\n",
    "# ax3.plot(rnTime(curDates,meanWidth),rnMean(np.multiply(PCRpos_nonAG,multFactor),meanWidth),'xkcd:royal blue',label=str(meanWidth)+' day running mean')\n",
    "\n",
    "# ax3.plot(curDates,AGposPCRpos + np.multiply(PCRpos_nonAG,multFactor),'m.-',linewidth=0.5,markersize=2,label='PCR positive, non-AG, screening,\\nand AG confirmatory tests')\n",
    "\n",
    "# ax3.plot(rnTime(curDates,meanWidth),rnMean(AGposPCRpos + np.multiply(PCRpos_nonAG,multFactor),meanWidth),'m',label=str(meanWidth)+' day running mean')\n",
    "\n",
    "# ax1.legend(loc='center center',bbox_to_anchor = (0.5, 1.0))\n",
    "# ax1.legend()\n",
    "ax1.legend(loc='upper left')\n",
    "# ax2.legend(loc='center left',bbox_to_anchor = (1.0, 0.5))\n",
    "# ax3.legend(loc='center left',bbox_to_anchor = (1.0, 0.5))\n",
    "ax1.grid()\n",
    "# ax3.grid()\n",
    "ax1.set_ylim(bottom=0,top=900)\n",
    "# ax2.set_ylim(bottom=0)\n",
    "# ax3.set_ylim(bottom=0)\n",
    "\n",
    "ax1.set_ylabel('Count')\n",
    "\n",
    "\n",
    "ax1.set_xlim([firstDate,lastDate-np.timedelta64(1,'D')])\n",
    "plt.tight_layout()\n",
    "\n",
    "\n",
    "if saveFigures:\n",
    "    plt.savefig('Viggo_Screening2')"
   ]
  },
  {
   "cell_type": "code",
   "execution_count": 21,
   "metadata": {},
   "outputs": [
    {
     "output_type": "display_data",
     "data": {
      "text/plain": "Canvas(toolbar=Toolbar(toolitems=[('Home', 'Reset original view', 'home', 'home'), ('Back', 'Back to previous …",
      "application/vnd.jupyter.widget-view+json": {
       "version_major": 2,
       "version_minor": 0,
       "model_id": "766d7c0a48884272af98ac0278bc1c83"
      }
     },
     "metadata": {}
    }
   ],
   "source": [
    "# fig,(ax1,ax2,ax3) = plt.subplots(3,1,sharex=True)\n",
    "fig,ax1 = plt.subplots(1,1,sharex=True)\n",
    "\n",
    "meanWidth = 7\n",
    "\n",
    "# ax1.plot(curDates,PCRpos_nonAG,'g.-',linewidth=0.5,markersize=2,label='PCR positive, due to only PCR (all)')\n",
    "# ax1.plot(rnTime(curDates,meanWidth),rnMean(PCRpos_nonAG,meanWidth),'g')\n",
    "\n",
    "\n",
    "# ax2.fill_between(curDates,np.multiply(PCRpos_nonAG,multFactor),PCRpos_nonAG,color='g',label='PCR positive,\\nexcluding tests to confirm AG-tests')\n",
    "ax1.plot(curDates,np.multiply(PCRpos_nonAG,multFactor),'.-',linewidth=0.5,markersize=2,color='xkcd:royal blue',label=f'PCR positive, due to only PCR (screening, {100*multFactor:.2f} %)')\n",
    "ax1.plot(rnTime(curDates,meanWidth),rnMean(np.multiply(PCRpos_nonAG,multFactor),meanWidth),color='xkcd:royal blue')\n",
    "\n",
    "ax1.plot(curDates,AGposPCRpos + np.multiply(PCRpos_nonAG,multFactor),'m.-',linewidth=0.5,markersize=2,label=f'PCR positive, due to only PCR (screening, {100*multFactor:.2f} %) + AG confirmatory tests')\n",
    "\n",
    "ax1.plot(rnTime(curDates,meanWidth),rnMean(AGposPCRpos + np.multiply(PCRpos_nonAG,multFactor),meanWidth),'m')\n",
    "\n",
    "\n",
    "# # ax1.plot(curDates,np.multiply(PCRpos_nonAG,scaleScreenRatio),label='PCR positive, non-AG\\nAssumed due to symptoms')\n",
    "# # ax1.plot(curDates,np.multiply(PCRpos_nonAG,multFactor),label='PCR positive, non-AG\\nAssumed due to screening')\n",
    "# ax3.plot(curDates,np.multiply(PCRpos_nonAG,multFactor),'.-',linewidth=0.5,markersize=2,color='xkcd:royal blue',label=f'PCR positive, non-AG\\nAssumed due to screening\\n({100*multFactor:.2f} %)')\n",
    "# ax3.plot(rnTime(curDates,meanWidth),rnMean(np.multiply(PCRpos_nonAG,multFactor),meanWidth),'xkcd:royal blue',label=str(meanWidth)+' day running mean')\n",
    "\n",
    "# ax3.plot(curDates,AGposPCRpos + np.multiply(PCRpos_nonAG,multFactor),'m.-',linewidth=0.5,markersize=2,label='PCR positive, non-AG, screening,\\nand AG confirmatory tests')\n",
    "\n",
    "# ax3.plot(rnTime(curDates,meanWidth),rnMean(AGposPCRpos + np.multiply(PCRpos_nonAG,multFactor),meanWidth),'m',label=str(meanWidth)+' day running mean')\n",
    "\n",
    "# ax1.legend(loc='center center',bbox_to_anchor = (0.5, 1.0))\n",
    "# ax1.legend()\n",
    "ax1.legend(loc='upper left')\n",
    "# ax2.legend(loc='center left',bbox_to_anchor = (1.0, 0.5))\n",
    "# ax3.legend(loc='center left',bbox_to_anchor = (1.0, 0.5))\n",
    "ax1.grid()\n",
    "# ax3.grid()\n",
    "ax1.set_ylim(bottom=0,top=900)\n",
    "# ax2.set_ylim(bottom=0)\n",
    "# ax3.set_ylim(bottom=0)\n",
    "\n",
    "ax1.set_ylabel('Count')\n",
    "\n",
    "\n",
    "ax1.set_xlim([firstDate,lastDate-np.timedelta64(1,'D')])\n",
    "plt.tight_layout()\n",
    "\n",
    "\n",
    "if saveFigures:\n",
    "    plt.savefig('Viggo_Screening3')"
   ]
  },
  {
   "cell_type": "code",
   "execution_count": 22,
   "metadata": {},
   "outputs": [
    {
     "output_type": "display_data",
     "data": {
      "text/plain": "Canvas(toolbar=Toolbar(toolitems=[('Home', 'Reset original view', 'home', 'home'), ('Back', 'Back to previous …",
      "application/vnd.jupyter.widget-view+json": {
       "version_major": 2,
       "version_minor": 0,
       "model_id": "08f14bd4180141499f8433e3a37c28dd"
      }
     },
     "metadata": {}
    }
   ],
   "source": [
    "# firstDate = np.datetime64('2021-02-01')\n",
    "# lastDate = np.datetime64('2021-04-24')\n",
    "\n",
    "# curDates = np.arange(firstDate,lastDate)\n",
    "\n",
    "# posAG  = df[df.Date.isin(curDates)].NewPositive \n",
    "PCRpos = dfPCR[dfPCR.Date.isin(curDates)].NewPositive.values\n",
    "numPCR = dfPCR[dfPCR.Date.isin(curDates)].Tested.values\n",
    "AGpos = df[df.Date.isin(curDates)].NewPositive.values\n",
    "numAG = df[df.Date.isin(curDates)].Tested.values\n",
    "AGposPCRpos = df2[df2.Dato.isin(curDates)].AGpos_PCRpos.values\n",
    "# PCRposPct = dfPCR[dfPCR.Date.isin(curDates)].PosPct.values\n",
    "PCRposPct = np.divide(PCRpos,numPCR)\n",
    "AGposPct = np.divide(AGpos,numAG)\n",
    "\n",
    "# Positive PCR-tests, excluding those that only got tested because of a positive AG-test\n",
    "PCRpos_nonAG = PCRpos-AGposPCRpos\n",
    "\n",
    "# Factor used for scaling with respect to number of tests\n",
    "scaleFactor = 0.7\n",
    "\n",
    "# Screening-ratio (Guess about how many tests would have been carried out in the absence of wide screening)\n",
    "screenRatio = 1/6\n",
    "\n",
    "\n",
    "scaleScreenRatio = screenRatio**scaleFactor\n",
    "\n",
    "# \n",
    "multFactor = (1-screenRatio**scaleFactor)\n",
    "\n",
    "\n",
    "fig,ax2 = plt.subplots(1,1,sharex=True)\n",
    "\n",
    "# ax1.plot(curDates,AGposPCRpos,label='AG positive, PCR confirmed')\n",
    "# ax1.plot(curDates,PCRpos,label='PCR positive, total')\n",
    "# ax1.plot(curDates,PCRpos_nonAG,label='PCR positive, non-AG')\n",
    "# ax1.plot(curDates,np.multiply(PCRpos_nonAG,scaleScreenRatio),label='PCR positive, non-AG\\nAssumed due to symptoms')\n",
    "# ax1.plot(curDates,np.multiply(PCRpos_nonAG,multFactor),label='PCR positive, non-AG\\nAssumed due to screening')\n",
    "# ax1.plot(curDates,AGposPCRpos + np.multiply(PCRpos_nonAG,multFactor),label='PCR positive, non-AG, screening,\\nand AG confirmatory tests')\n",
    "\n",
    "meanWidth = 7\n",
    "# ax1.plot(rnTime(curDates,meanWidth),rnMean(AGposPCRpos + np.multiply(PCRpos_nonAG,multFactor),meanWidth),'k:',label='PCR positive, non-AG, screening,\\nand AG confirmatory tests, 7 day mean')\n",
    "# ax1.plot(curDates,PCRpos - (AGposPCRpos + np.multiply(PCRpos_nonAG,multFactor)),label='PCR positive, as neighbours')\n",
    "\n",
    "foundThroughScreening = AGposPCRpos + np.multiply(PCRpos_nonAG,multFactor)\n",
    "foundThroughPCRScreening = np.multiply(PCRpos_nonAG,multFactor)\n",
    "\n",
    "\n",
    "# ax2.plot(curDates,100*PCRposPct,'b.-',linewidth=0.5,markersize=2,label='PCR, total')\n",
    "ax2.plot(rnTime(curDates,meanWidth),100*rnMean(PCRposPct,meanWidth),'b',label='PCR, total')\n",
    "# ax2.plot(curDates,100*AGposPct,'.-',color='xkcd:dark red',label='AG',linewidth=0.5,markersize=2)\n",
    "ax2.plot(rnTime(curDates,meanWidth),100*rnMean(AGposPct,meanWidth),color='xkcd:dark red',label='AG')\n",
    "# ax2.plot(curDates,2*100*AGposPct,'.-',color='xkcd:red',label='AG, multiplied by 2',linewidth=0.5,markersize=2)\n",
    "ax2.plot(rnTime(curDates,meanWidth),2*100*rnMean(AGposPct,meanWidth),'--',color='xkcd:red',label='AG, multiplied by 2')\n",
    "\n",
    "# ax2.plot(curDates,100*np.divide(foundThroughPCRScreening,numPCR*(1-screenRatio)),'.-',linewidth=0.5,markersize=2,color='xkcd:green',label='PCR, screening')\n",
    "ax2.plot(rnTime(curDates,meanWidth),rnMean(100*np.divide(foundThroughPCRScreening,numPCR*(1-screenRatio)),meanWidth),color='xkcd:green',label='PCR, screening')\n",
    "# ax2.plot(curDates,6*100*np.divide(PCRpos - (AGposPCRpos + np.multiply(PCRpos_nonAG,multFactor)),numPCR),label='PCR positive, as neighbours')\n",
    "\n",
    "# ax2.plot(rnTime(curDates,meanWidth),100*rnMean(PCRposPct,meanWidth),'b')\n",
    "# ax2.plot(rnTime(curDates,meanWidth),rnMean(6*100*np.divide(PCRpos - (AGposPCRpos + np.multiply(PCRpos_nonAG,multFactor)),numPCR),7),':')\n",
    "\n",
    "ax2.set_ylabel('Positive percentage [%]')\n",
    "# ax1.legend(loc='center left',bbox_to_anchor = (1.0, 0.5))\n",
    "ax2.legend(loc='upper right')\n",
    "# ax1.grid()\n",
    "ax2.grid()\n",
    "# ax1.set_ylim(bottom=0)\n",
    "ax2.set_ylim(bottom=0,top=0.8)\n",
    "ax2.set_xlim([firstDate,lastDate-np.timedelta64(1,'D')])\n",
    "plt.tight_layout()\n",
    "\n",
    "if saveFigures:\n",
    "    plt.savefig('figs/Viggo_pospct')"
   ]
  },
  {
   "cell_type": "code",
   "execution_count": 23,
   "metadata": {},
   "outputs": [
    {
     "output_type": "display_data",
     "data": {
      "text/plain": "Canvas(toolbar=Toolbar(toolitems=[('Home', 'Reset original view', 'home', 'home'), ('Back', 'Back to previous …",
      "application/vnd.jupyter.widget-view+json": {
       "version_major": 2,
       "version_minor": 0,
       "model_id": "f9ae8fd92e8a49b99eeb7fb93b3b448b"
      }
     },
     "metadata": {}
    }
   ],
   "source": [
    "# firstDate = np.datetime64('2021-02-01')\n",
    "# lastDate = np.datetime64('2021-04-24')\n",
    "\n",
    "# curDates = np.arange(firstDate,lastDate)\n",
    "\n",
    "# posAG  = df[df.Date.isin(curDates)].NewPositive \n",
    "PCRpos = dfPCR[dfPCR.Date.isin(curDates)].NewPositive.values\n",
    "numPCR = dfPCR[dfPCR.Date.isin(curDates)].Tested.values\n",
    "AGpos = df[df.Date.isin(curDates)].NewPositive.values\n",
    "numAG = df[df.Date.isin(curDates)].Tested.values\n",
    "AGposPCRpos = df2[df2.Dato.isin(curDates)].AGpos_PCRpos.values\n",
    "# PCRposPct = dfPCR[dfPCR.Date.isin(curDates)].PosPct.values\n",
    "PCRposPct = np.divide(PCRpos,numPCR)\n",
    "AGposPct = np.divide(AGpos,numAG)\n",
    "\n",
    "# Positive PCR-tests, excluding those that only got tested because of a positive AG-test\n",
    "PCRpos_nonAG = PCRpos-AGposPCRpos\n",
    "\n",
    "# Factor used for scaling with respect to number of tests\n",
    "scaleFactor = 0.7\n",
    "\n",
    "# Screening-ratio (Guess about how many tests would have been carried out in the absence of wide screening)\n",
    "screenRatio = 1/6\n",
    "\n",
    "\n",
    "scaleScreenRatio = screenRatio**scaleFactor\n",
    "\n",
    "# \n",
    "multFactor = (1-screenRatio**scaleFactor)\n",
    "\n",
    "\n",
    "fig,ax2 = plt.subplots(1,1,sharex=True)\n",
    "\n",
    "\n",
    "meanWidth = 7\n",
    "\n",
    "foundThroughScreening = AGposPCRpos + np.multiply(PCRpos_nonAG,multFactor)\n",
    "foundThroughPCRScreening = np.multiply(PCRpos_nonAG,multFactor)\n",
    "\n",
    "\n",
    "# # ax2.plot(curDates,100*PCRposPct,'b.-',linewidth=0.5,markersize=2,label='PCR, total')\n",
    "# ax2.plot(rnTime(curDates,meanWidth),100*rnMean(PCRposPct,meanWidth),'b',label='PCR, total')\n",
    "# # ax2.plot(curDates,100*AGposPct,'.-',color='xkcd:dark red',label='AG',linewidth=0.5,markersize=2)\n",
    "# ax2.plot(rnTime(curDates,meanWidth),100*rnMean(AGposPct,meanWidth),color='xkcd:dark red',label='AG')\n",
    "# # ax2.plot(curDates,2*100*AGposPct,'.-',color='xkcd:red',label='AG, multiplied by 2',linewidth=0.5,markersize=2)\n",
    "# ax2.plot(rnTime(curDates,meanWidth),2*100*rnMean(AGposPct,meanWidth),'--',color='xkcd:red',label='AG, multiplied by 2')\n",
    "\n",
    "# ax2.plot(curDates,100*np.divide(foundThroughPCRScreening,numPCR*(1-screenRatio)),'.-',linewidth=0.5,markersize=2,color='xkcd:green',label='PCR, screening')\n",
    "ax2.plot(rnTime(curDates,meanWidth),5800000*rnMean(np.divide(foundThroughPCRScreening,numPCR*(1-screenRatio)),meanWidth),color='xkcd:green',label='PCR, screening')\n",
    "# ax2.plot(curDates,6*100*np.divide(PCRpos - (AGposPCRpos + np.multiply(PCRpos_nonAG,multFactor)),numPCR),label='PCR positive, as neighbours')\n",
    "\n",
    "# ax1.legend(loc='center left',bbox_to_anchor = (1.0, 0.5))\n",
    "ax2.legend(loc='upper right')\n",
    "# ax1.grid()\n",
    "ax2.grid()\n",
    "# ax2.set_ylim(bottom=0)\n",
    "# ax2.set_ylim(bottom=0,top=0.8)\n",
    "ax2.set_xlim([firstDate,lastDate-np.timedelta64(1,'D')])\n",
    "plt.tight_layout()\n",
    "\n",
    "if saveFigures:\n",
    "    plt.savefig('figs/Viggo_pospct2')"
   ]
  },
  {
   "cell_type": "code",
   "execution_count": null,
   "metadata": {},
   "outputs": [],
   "source": []
  },
  {
   "cell_type": "code",
   "execution_count": 24,
   "metadata": {},
   "outputs": [
    {
     "output_type": "display_data",
     "data": {
      "text/plain": "Canvas(toolbar=Toolbar(toolitems=[('Home', 'Reset original view', 'home', 'home'), ('Back', 'Back to previous …",
      "application/vnd.jupyter.widget-view+json": {
       "version_major": 2,
       "version_minor": 0,
       "model_id": "b68b942791764b3bb382455361663217"
      }
     },
     "metadata": {}
    }
   ],
   "source": [
    "# Positiv percentage of estimate\n",
    "# First show false negative rate\n",
    "fig,(ax1,ax2) = plt.subplots(2,1,sharex=True)\n",
    "\n",
    "# ax2.plot(curDates,100*PCRposPct,'b.-',linewidth=0.5,markersize=2,label='PCR, total')\n",
    "# ax2.plot(rnTime(curDates,meanWidth),100*rnMean(PCRposPct,meanWidth),'b',label='PCR, total, '+str(meanWidth)+' day mean')\n",
    "# ax2.plot(curDates,100*AGposPct,'.-',color='xkcd:dark red',label='AG',linewidth=0.5,markersize=2)\n",
    "# ax2.plot(rnTime(curDates,meanWidth),100*rnMean(AGposPct,meanWidth),color='xkcd:dark red',label='AG, '+str(meanWidth)+' day mean')\n",
    "# ax2.plot(curDates,2*100*AGposPct,'.-',color='xkcd:red',label='AG, multiplied by 2',linewidth=0.5,markersize=2)\n",
    "# ax2.plot(rnTime(curDates,meanWidth),2*100*rnMean(AGposPct,meanWidth),color='xkcd:red',label='AG, multiplied by 2, '+str(meanWidth)+' day mean')\n",
    "\n",
    "# ax2.plot(curDates,100*np.divide(foundThroughPCRScreening,numPCR*(1-screenRatio)),'.-',linewidth=0.5,markersize=2,color='xkcd:green',label='PCR, screening')\n",
    "# ax2.plot(rnTime(curDates,meanWidth),rnMean(100*np.divide(foundThroughPCRScreening,numPCR*(1-screenRatio)),meanWidth),color='xkcd:green',label='PCR, screening, '+str(meanWidth)+' day mean')\n",
    "# ax2.plot(curDates,6*100*np.divide(PCRpos - (AGposPCRpos + np.multiply(PCRpos_nonAG,multFactor)),numPCR),label='PCR positive, as neighbours')\n",
    "\n",
    "# ax2.plot(rnTime(curDates,meanWidth),100*rnMean(PCRposPct,meanWidth),'b')\n",
    "# ax2.plot(rnTime(curDates,meanWidth),rnMean(6*100*np.divide(PCRpos - (AGposPCRpos + np.multiply(PCRpos_nonAG,multFactor)),numPCR),7),':')\n"
   ]
  },
  {
   "source": [
    "# Age stuff"
   ],
   "cell_type": "markdown",
   "metadata": {}
  },
  {
   "cell_type": "code",
   "execution_count": 25,
   "metadata": {},
   "outputs": [],
   "source": [
    "dfAge = pd.read_csv(latestdir+'/Cases_by_age.csv',delimiter = ';',dtype=str)"
   ]
  },
  {
   "cell_type": "code",
   "execution_count": 26,
   "metadata": {
    "tags": []
   },
   "outputs": [],
   "source": [
    "ssidatapath = \"ssi_data\"\n",
    "rootdir = os.getcwd() +\"/\" + ssidatapath\n",
    "\n",
    "\n",
    "conf = []\n",
    "test = []\n",
    "posp = []\n",
    "\n",
    "for subdir, dirs, files in os.walk(rootdir):\n",
    "    if not len(files) == 0:\n",
    "        latestdir = subdir\n",
    "        latestDate = pd.to_datetime(subdir[-10:])\n",
    "        curdf = pd.read_csv(latestdir+'/Cases_by_age.csv',delimiter = ';',dtype=str)\n",
    "        conf.append(curdf.iloc[9,1])\n",
    "        test.append(curdf.iloc[9,2])\n",
    "        posp.append(curdf.iloc[9,3])\n",
    "        # print(curdf)"
   ]
  },
  {
   "cell_type": "code",
   "execution_count": 27,
   "metadata": {},
   "outputs": [],
   "source": [
    "# dfAge = pd.read_csv''/Cases_by_age.csv',delimiter = ';',dtype=str)\n",
    "latestdir\n",
    "\n",
    "dfAge = pd.read_csv('ssi_data\\\\SSI_data_2021-04-06\\\\Cases_by_age.csv',delimiter = ';',dtype=str)"
   ]
  },
  {
   "cell_type": "code",
   "execution_count": 28,
   "metadata": {},
   "outputs": [
    {
     "output_type": "execute_result",
     "data": {
      "text/plain": [
       "   Aldersgruppe Antal_bekræftede_COVID-19 Antal_testede Procent_positive\n",
       "0           0-9                    17.004       411.910              4,1\n",
       "1         10-19                    36.065       608.757              5,9\n",
       "2         20-29                    43.793       679.566              6,4\n",
       "3         30-39                    32.409       596.068              5,4\n",
       "4         40-49                    34.396       637.766              5,4\n",
       "5         50-59                    33.504       651.292              5,1\n",
       "6         60-69                    18.247       487.720              3,7\n",
       "7         70-79                    11.219       369.509              3,0\n",
       "8         80-89                     5.850       140.967              4,1\n",
       "9           90+                     1.830        29.111              6,3\n",
       "10        I alt                   234.317     4.612.666              5,1"
      ],
      "text/html": "<div>\n<style scoped>\n    .dataframe tbody tr th:only-of-type {\n        vertical-align: middle;\n    }\n\n    .dataframe tbody tr th {\n        vertical-align: top;\n    }\n\n    .dataframe thead th {\n        text-align: right;\n    }\n</style>\n<table border=\"1\" class=\"dataframe\">\n  <thead>\n    <tr style=\"text-align: right;\">\n      <th></th>\n      <th>Aldersgruppe</th>\n      <th>Antal_bekræftede_COVID-19</th>\n      <th>Antal_testede</th>\n      <th>Procent_positive</th>\n    </tr>\n  </thead>\n  <tbody>\n    <tr>\n      <th>0</th>\n      <td>0-9</td>\n      <td>17.004</td>\n      <td>411.910</td>\n      <td>4,1</td>\n    </tr>\n    <tr>\n      <th>1</th>\n      <td>10-19</td>\n      <td>36.065</td>\n      <td>608.757</td>\n      <td>5,9</td>\n    </tr>\n    <tr>\n      <th>2</th>\n      <td>20-29</td>\n      <td>43.793</td>\n      <td>679.566</td>\n      <td>6,4</td>\n    </tr>\n    <tr>\n      <th>3</th>\n      <td>30-39</td>\n      <td>32.409</td>\n      <td>596.068</td>\n      <td>5,4</td>\n    </tr>\n    <tr>\n      <th>4</th>\n      <td>40-49</td>\n      <td>34.396</td>\n      <td>637.766</td>\n      <td>5,4</td>\n    </tr>\n    <tr>\n      <th>5</th>\n      <td>50-59</td>\n      <td>33.504</td>\n      <td>651.292</td>\n      <td>5,1</td>\n    </tr>\n    <tr>\n      <th>6</th>\n      <td>60-69</td>\n      <td>18.247</td>\n      <td>487.720</td>\n      <td>3,7</td>\n    </tr>\n    <tr>\n      <th>7</th>\n      <td>70-79</td>\n      <td>11.219</td>\n      <td>369.509</td>\n      <td>3,0</td>\n    </tr>\n    <tr>\n      <th>8</th>\n      <td>80-89</td>\n      <td>5.850</td>\n      <td>140.967</td>\n      <td>4,1</td>\n    </tr>\n    <tr>\n      <th>9</th>\n      <td>90+</td>\n      <td>1.830</td>\n      <td>29.111</td>\n      <td>6,3</td>\n    </tr>\n    <tr>\n      <th>10</th>\n      <td>I alt</td>\n      <td>234.317</td>\n      <td>4.612.666</td>\n      <td>5,1</td>\n    </tr>\n  </tbody>\n</table>\n</div>"
     },
     "metadata": {},
     "execution_count": 28
    }
   ],
   "source": [
    "dfAge"
   ]
  },
  {
   "cell_type": "code",
   "execution_count": 29,
   "metadata": {},
   "outputs": [],
   "source": [
    "# dfDeaths = pd.read_excel(\"C://Users//rakrpe//Documents//PandemiX//GithubRepos//PandemiX//DanskeData//DeathsAgeDK//Deaths.xlsx\")"
   ]
  },
  {
   "cell_type": "code",
   "execution_count": 30,
   "metadata": {},
   "outputs": [],
   "source": [
    "dfDeaths = pd.read_excel('DeathsAgeDK/Deaths.xlsx')"
   ]
  },
  {
   "cell_type": "code",
   "execution_count": 31,
   "metadata": {},
   "outputs": [],
   "source": [
    "dfDeaths = dfDeaths.transpose()"
   ]
  },
  {
   "cell_type": "code",
   "execution_count": 32,
   "metadata": {},
   "outputs": [],
   "source": [
    "dfDeaths.columns = dfDeaths.iloc[0]"
   ]
  },
  {
   "cell_type": "code",
   "execution_count": 33,
   "metadata": {},
   "outputs": [],
   "source": [
    "dfDeaths = dfDeaths.drop(['Aldersgruppe']) "
   ]
  },
  {
   "cell_type": "code",
   "execution_count": 34,
   "metadata": {},
   "outputs": [],
   "source": [
    "# plt.figure()\n",
    "# plt.plot(dfDeaths)\n",
    "\n",
    "\n",
    "curDates =  pd.to_datetime(dfDeaths.index,format='%d_%m_%Y')"
   ]
  },
  {
   "cell_type": "code",
   "execution_count": 35,
   "metadata": {},
   "outputs": [
    {
     "output_type": "display_data",
     "data": {
      "text/plain": "Canvas(toolbar=Toolbar(toolitems=[('Home', 'Reset original view', 'home', 'home'), ('Back', 'Back to previous …",
      "application/vnd.jupyter.widget-view+json": {
       "version_major": 2,
       "version_minor": 0,
       "model_id": "f0ddb9832c2c4007ae1574f9e921a65a"
      }
     },
     "metadata": {}
    }
   ],
   "source": [
    "# plt.figure()\n",
    "# fig,(ax1,ax2) = plt.subplots(2,1,sharex=True)\n",
    "fig,(ax1,ax2,ax3) = plt.subplots(3,1,sharex=True)\n",
    "\n",
    "# for colNames in dfDeaths.columns[:-1]:\n",
    "for colNames in dfDeaths.columns:\n",
    "    # plt.plot(curDates,dfDeaths['0-9'])\n",
    "    ax1.plot(curDates,dfDeaths[colNames],label=colNames)\n",
    "    ax2.plot(curDates[0:-1],np.diff(dfDeaths[colNames]),label=colNames)\n",
    "    ax3.plot(curDates[0:-1],np.diff(dfDeaths[colNames]),label=colNames)\n",
    "\n",
    "ax2.legend(loc='center left',bbox_to_anchor = (1.0, 0.5))\n",
    "ax1.grid()\n",
    "ax2.grid()\n",
    "ax3.grid()\n",
    "\n",
    "ax1.set_ylim(bottom=0)\n",
    "ax2.set_ylim(bottom=0)\n",
    "ax3.set_ylim(bottom=0,top=10)\n",
    "\n",
    "# ax1.set_xlim(left=curDates[0],right=date.today())\n",
    "ax1.set_xlim(right=date.today())\n",
    "ax1.xaxis.set_major_formatter(mdates.DateFormatter('%d %b\\n%Y'))\n",
    "\n",
    "ax1.set_ylabel('Kumulative dødsfald')\n",
    "ax2.set_ylabel('Dødsfald')\n",
    "ax3.set_ylabel('Dødsfald')\n",
    "\n",
    "plt.tight_layout()\n",
    "\n",
    "if saveFigures:\n",
    "    fig.savefig('figs/DeathsByAge')"
   ]
  },
  {
   "cell_type": "code",
   "execution_count": 36,
   "metadata": {},
   "outputs": [
    {
     "output_type": "display_data",
     "data": {
      "text/plain": "Canvas(toolbar=Toolbar(toolitems=[('Home', 'Reset original view', 'home', 'home'), ('Back', 'Back to previous …",
      "application/vnd.jupyter.widget-view+json": {
       "version_major": 2,
       "version_minor": 0,
       "model_id": "69b56ace449f4549b035819cae45ff06"
      }
     },
     "metadata": {}
    },
    {
     "output_type": "error",
     "ename": "TypeError",
     "evalue": "ufunc 'add' output (typecode 'O') could not be coerced to provided output parameter (typecode 'd') according to the casting rule ''same_kind''",
     "traceback": [
      "\u001b[1;31m---------------------------------------------------------------------------\u001b[0m",
      "\u001b[1;31mTypeError\u001b[0m                                 Traceback (most recent call last)",
      "\u001b[1;32m<ipython-input-36-4dc8c831790a>\u001b[0m in \u001b[0;36m<module>\u001b[1;34m\u001b[0m\n\u001b[0;32m      6\u001b[0m \u001b[1;32mfor\u001b[0m \u001b[0mcolNames\u001b[0m \u001b[1;32min\u001b[0m \u001b[0mdfDeaths\u001b[0m\u001b[1;33m.\u001b[0m\u001b[0mcolumns\u001b[0m\u001b[1;33m:\u001b[0m\u001b[1;33m\u001b[0m\u001b[1;33m\u001b[0m\u001b[0m\n\u001b[0;32m      7\u001b[0m \u001b[1;33m\u001b[0m\u001b[0m\n\u001b[1;32m----> 8\u001b[1;33m     \u001b[0mcurVals\u001b[0m \u001b[1;33m+=\u001b[0m \u001b[0mnp\u001b[0m\u001b[1;33m.\u001b[0m\u001b[0mdiff\u001b[0m\u001b[1;33m(\u001b[0m\u001b[0mdfDeaths\u001b[0m\u001b[1;33m[\u001b[0m\u001b[0mcolNames\u001b[0m\u001b[1;33m]\u001b[0m\u001b[1;33m)\u001b[0m\u001b[1;33m\u001b[0m\u001b[1;33m\u001b[0m\u001b[0m\n\u001b[0m\u001b[0;32m      9\u001b[0m     \u001b[0max1\u001b[0m\u001b[1;33m.\u001b[0m\u001b[0mplot\u001b[0m\u001b[1;33m(\u001b[0m\u001b[0mcurDates\u001b[0m\u001b[1;33m[\u001b[0m\u001b[1;36m0\u001b[0m\u001b[1;33m:\u001b[0m\u001b[1;33m-\u001b[0m\u001b[1;36m1\u001b[0m\u001b[1;33m]\u001b[0m\u001b[1;33m,\u001b[0m\u001b[0mcurVals\u001b[0m\u001b[1;33m)\u001b[0m\u001b[1;33m\u001b[0m\u001b[1;33m\u001b[0m\u001b[0m\n\u001b[0;32m     10\u001b[0m \u001b[1;33m\u001b[0m\u001b[0m\n",
      "\u001b[1;31mTypeError\u001b[0m: ufunc 'add' output (typecode 'O') could not be coerced to provided output parameter (typecode 'd') according to the casting rule ''same_kind''"
     ]
    }
   ],
   "source": [
    "# plt.figure()\n",
    "# fig,(ax1,ax2) = plt.subplots(2,1,sharex=True)\n",
    "fig,ax1 = plt.subplots(1,1,sharex=True)\n",
    "\n",
    "curVals = np.zeros(curDates[0:-1].shape)\n",
    "for colNames in dfDeaths.columns:\n",
    "\n",
    "    curVals += np.diff(dfDeaths[colNames])\n",
    "    ax1.plot(curDates[0:-1],curVals)\n",
    "\n",
    "    # plt.plot(curDates,dfDeaths['0-9'])\n",
    "    # ax1.plot(curDates,dfDeaths[colNames],label=colNames)\n",
    "\n",
    "    # ax2.plot(curDates[0:-1],np.diff(dfDeaths[colNames]),label=colNames)\n",
    "    # ax3.plot(curDates[0:-1],np.diff(dfDeaths[colNames]),label=colNames)\n",
    "\n",
    "ax1.legend(loc='center left',bbox_to_anchor = (1.0, 0.5))\n",
    "ax1.grid()\n",
    "\n",
    "ax1.set_ylim(bottom=0)\n",
    "\n",
    "# ax1.set_xlim(left=curDates[0],right=date.today())\n",
    "ax1.set_xlim(right=date.today())\n",
    "ax1.xaxis.set_major_formatter(mdates.DateFormatter('%d %b\\n%Y'))\n",
    "\n",
    "ax1.set_ylabel('Kumulative dødsfald')\n",
    "# ax2.set_ylabel('Dødsfald')\n",
    "# ax3.set_ylabel('Dødsfald')\n",
    "\n",
    "plt.tight_layout()\n",
    "\n",
    "# if saveFigures:\n",
    "#     fig.savefig('figs/DeathsByAge')"
   ]
  },
  {
   "cell_type": "code",
   "execution_count": null,
   "metadata": {},
   "outputs": [],
   "source": [
    "# np.diff(dfDeaths[colNames])\n",
    "# curVals\n",
    "dfDeaths"
   ]
  },
  {
   "cell_type": "code",
   "execution_count": null,
   "metadata": {},
   "outputs": [],
   "source": [
    "dfAge"
   ]
  },
  {
   "cell_type": "code",
   "execution_count": null,
   "metadata": {},
   "outputs": [],
   "source": [
    "fig,(ax1,ax2) = plt.subplots(2,1,sharex=True)\n",
    "\n",
    "\n",
    "ax1.plot(curDates,dfDeaths['60-69'])\n",
    "\n",
    "plt.tight_layout()"
   ]
  },
  {
   "cell_type": "code",
   "execution_count": null,
   "metadata": {},
   "outputs": [],
   "source": [
    "curDates"
   ]
  }
 ]
}