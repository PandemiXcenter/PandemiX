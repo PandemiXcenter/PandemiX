{
 "metadata": {
  "language_info": {
   "codemirror_mode": {
    "name": "ipython",
    "version": 3
   },
   "file_extension": ".py",
   "mimetype": "text/x-python",
   "name": "python",
   "nbconvert_exporter": "python",
   "pygments_lexer": "ipython3",
   "version": "3.8.5"
  },
  "orig_nbformat": 2,
  "kernelspec": {
   "name": "python385jvsc74a57bd0c72cdf52cb3d31f207bca538e9396da8706c0ecf4a3038fb1c2b317934170431",
   "display_name": "Python 3.8.5 64-bit ('main': conda)"
  }
 },
 "nbformat": 4,
 "nbformat_minor": 2,
 "cells": [
  {
   "cell_type": "code",
   "execution_count": 1,
   "metadata": {},
   "outputs": [
    {
     "output_type": "stream",
     "name": "stdout",
     "text": [
      "saveFigures is set to: True\nDone loading packages\n"
     ]
    }
   ],
   "source": [
    "# Main notebook for playing around looking at different things in data\n",
    "import numpy as np\n",
    "import pandas as pd\n",
    "pd.set_option('display.max_rows', 500)\n",
    "pd.set_option('display.min_rows', 50)\n",
    "\n",
    "\n",
    "import matplotlib.pyplot as plt\n",
    "%matplotlib widget\n",
    "plt.rcParams['figure.figsize'] = (12,8)\n",
    "# plt.rcParams[\"image.cmap\"] = \"Dark2\"\n",
    "# plt.rcParams['axes.prop_cycle'] = plt.cycler(color=plt.cm.Dark2.colors)\n",
    "plt.rcParams[\"image.cmap\"] = \"tab10\"\n",
    "plt.rcParams['axes.prop_cycle'] = plt.cycler(color=plt.cm.tab10.colors)\n",
    "plt.rcParams['lines.markersize'] = 10\n",
    "plt.rcParams['lines.linewidth'] = 3\n",
    "%matplotlib widget\n",
    "# plt.style.use('ggplot')\n",
    "import matplotlib.colors as colors\n",
    "# cmap = plt.cm.get_cmap('Dark2',len(ageGroups))\n",
    "from matplotlib import cm # Colormaps\n",
    "\n",
    "import locale\n",
    "import matplotlib.dates as mdates\n",
    "locale.setlocale(locale.LC_TIME,\"Danish\")\n",
    "# ax = plt.gca()\n",
    "# ax1.xaxis.set_major_formatter(mdates.DateFormatter('%b\\n%Y'))\n",
    "# # ax.xaxis.set_major_formatter(mdates.DateFormatter('%Y \\n %B'))\n",
    "\n",
    "import os\n",
    "# import csv\n",
    "import math\n",
    "\n",
    "\n",
    "from datetime import date\n",
    "\n",
    "\n",
    "saveFigures = True\n",
    "print('saveFigures is set to: '+str(saveFigures))\n",
    "\n",
    "print('Done loading packages')\n",
    "\n",
    "def rnMean(data,meanWidth):\n",
    "    return np.convolve(data, np.ones(meanWidth)/meanWidth, mode='valid')\n",
    "def rnTime(t,meanWidth):\n",
    "    return t[math.floor(meanWidth/2):-math.ceil(meanWidth/2)+1]\n"
   ]
  },
  {
   "cell_type": "code",
   "execution_count": 2,
   "metadata": {},
   "outputs": [
    {
     "output_type": "stream",
     "name": "stdout",
     "text": [
      "c:\\Users\\rakrpe\\Documents\\PandemiX\\GithubRepos\\PandemiX\\DanskeData/ssi_data\\SSI_data_2021-04-28\n2021-04-28 00:00:00\n"
     ]
    }
   ],
   "source": [
    "ssidatapath = \"ssi_data\"\n",
    "rootdir = os.getcwd() +\"/\" + ssidatapath\n",
    "\n",
    "\n",
    "for subdir, dirs, files in os.walk(rootdir):\n",
    "    if not len(files) == 0:\n",
    "        latestdir = subdir\n",
    "        latestDate = pd.to_datetime(subdir[-10:])\n",
    "\n",
    "print(latestdir)\n",
    "print(latestDate)"
   ]
  },
  {
   "cell_type": "code",
   "execution_count": null,
   "metadata": {},
   "outputs": [],
   "source": []
  },
  {
   "cell_type": "code",
   "execution_count": 13,
   "metadata": {},
   "outputs": [],
   "source": [
    "# Load the data\n",
    "fulldfPCR = pd.read_csv(latestdir+'/Test_pos_over_time.csv',delimiter = ';',dtype=str)\n",
    "fulldf = pd.read_csv(latestdir+'/Test_pos_over_time_antigen.csv',delimiter = ';',dtype=str)\n",
    "\n",
    "# # Cut out the last two rows of summary numbers\n",
    "dfPCR = fulldfPCR.iloc[:-2,:].copy()\n",
    "df = fulldf.iloc[:-2,:].copy()"
   ]
  },
  {
   "cell_type": "code",
   "execution_count": 14,
   "metadata": {},
   "outputs": [],
   "source": [
    "dfPCR[\"PosPct\"] = pd.to_numeric(dfPCR[\"PosPct\"].astype(str).apply(lambda x: x.replace(',','.')))\n",
    "dfPCR[\"Date\"] = dfPCR[\"Date\"].astype('datetime64[D]')\n",
    "df[\"PosPct\"] = pd.to_numeric(df[\"PosPct\"].astype(str).apply(lambda x: x.replace(',','.')))\n",
    "df[\"Date\"] = df[\"Date\"].astype('datetime64[D]')\n",
    "\n",
    "rows_to_fix_period_in = [\"NewPositive\",\"NotPrevPos\",\"PrevPos\",\"Tested\",\"Tested_kumulativ\"]\n",
    "for name in rows_to_fix_period_in:\n",
    "    df[name] = pd.to_numeric(df[name].astype(str).apply(lambda x: x.replace('.','')))\n",
    "    dfPCR[name] = pd.to_numeric(dfPCR[name].astype(str).apply(lambda x: x.replace('.','')))\n"
   ]
  },
  {
   "cell_type": "code",
   "execution_count": 15,
   "metadata": {},
   "outputs": [],
   "source": [
    "# Load the data\n",
    "df2 = pd.read_csv(latestdir+'/Antigentests_pr_dag.csv',delimiter = ';')\n",
    "\n",
    "# # Remove the first two rows which are from april 2020\n",
    "# df2 = df2.iloc[2:,:].copy()"
   ]
  },
  {
   "cell_type": "code",
   "execution_count": 16,
   "metadata": {},
   "outputs": [],
   "source": [
    "# df2"
   ]
  },
  {
   "cell_type": "code",
   "execution_count": 17,
   "metadata": {},
   "outputs": [],
   "source": [
    "df2[\"Dato\"] = df2[\"Dato\"].astype('datetime64[D]')\n",
    "df2[\"Andel_AGpos_PCRkonf_pct\"] = pd.to_numeric(df2[\"Andel_AGpos_PCRkonf_pct\"].astype(str).apply(lambda x: x.replace(',','.')))\n",
    "df2[\"Andel_AGminusPCRkonf_pct\"] = pd.to_numeric(df2[\"Andel_AGminusPCRkonf_pct\"].astype(str).apply(lambda x: x.replace(',','.')))"
   ]
  },
  {
   "cell_type": "code",
   "execution_count": 18,
   "metadata": {},
   "outputs": [
    {
     "output_type": "execute_result",
     "data": {
      "text/plain": [
       "         Dato  AG_testede  AG_pos  AGpos_PCRkonf  Andel_AGpos_PCRkonf_pct  \\\n",
       "0  2021-02-01        4823       8              4                50.000000   \n",
       "1  2021-02-02        4639       9              5                55.555556   \n",
       "2  2021-02-03        4865      10              6                60.000000   \n",
       "3  2021-02-04        4490       6              3                50.000000   \n",
       "4  2021-02-05        4357       7              5                71.428571   \n",
       "5  2021-02-06        2585      10              6                60.000000   \n",
       "6  2021-02-07        3019      14              7                50.000000   \n",
       "7  2021-02-08        6976      13              7                53.846154   \n",
       "8  2021-02-09        6080       6              4                66.666667   \n",
       "9  2021-02-10        7067      13              5                38.461538   \n",
       "10 2021-02-11        9115      13              7                53.846154   \n",
       "11 2021-02-12        9168       9              4                44.444444   \n",
       "12 2021-02-13        4832      15              8                53.333333   \n",
       "13 2021-02-14        4793      19             10                52.631579   \n",
       "14 2021-02-15       17129      48             24                50.000000   \n",
       "15 2021-02-16       16898      59             44                74.576271   \n",
       "16 2021-02-17       26115      85             52                61.176471   \n",
       "17 2021-02-18       30041      51             40                78.431373   \n",
       "18 2021-02-19       34134      86             54                62.790698   \n",
       "19 2021-02-20       21621      62             41                66.129032   \n",
       "20 2021-02-21       20232      94             66                70.212766   \n",
       "21 2021-02-22       25710     100             75                75.000000   \n",
       "22 2021-02-23       29540     100             70                70.000000   \n",
       "23 2021-02-24       29773      91             57                62.637363   \n",
       "24 2021-02-25       28376      85             53                62.352941   \n",
       "25 2021-02-26       36254     111             70                63.063063   \n",
       "26 2021-02-27       22492      92             68                73.913043   \n",
       "27 2021-02-28       24337     111             83                74.774775   \n",
       "28 2021-03-01       35345      95             72                75.789474   \n",
       "29 2021-03-02       38268     111             88                79.279279   \n",
       "30 2021-03-03       44006     105             73                69.523810   \n",
       "31 2021-03-04       56230     178            147                82.584270   \n",
       "32 2021-03-05       64484     168            133                79.166667   \n",
       "33 2021-03-06       38483     132            102                77.272727   \n",
       "34 2021-03-07       40340     204            167                81.862745   \n",
       "35 2021-03-08       64259     233            200                85.836910   \n",
       "36 2021-03-09       62931     190            169                88.947368   \n",
       "37 2021-03-10       58057     236            199                84.322034   \n",
       "38 2021-03-11       59186     170            148                87.058824   \n",
       "39 2021-03-12       60444     168            130                77.380952   \n",
       "40 2021-03-13       55909     152            119                78.289474   \n",
       "41 2021-03-14       72875     177            146                82.485876   \n",
       "42 2021-03-15      110886     262            226                86.259542   \n",
       "43 2021-03-16      116888     268            225                83.955224   \n",
       "44 2021-03-17      103615     197            155                78.680203   \n",
       "45 2021-03-18      124451     223            178                79.820628   \n",
       "46 2021-03-19       91802     148            125                84.459459   \n",
       "47 2021-03-20       57225     136            116                85.294118   \n",
       "48 2021-03-21       89851     209            174                83.253589   \n",
       "49 2021-03-22      133405     236            194                82.203390   \n",
       "50 2021-03-23      138341     200            174                87.000000   \n",
       "51 2021-03-24      120365     197            160                81.218274   \n",
       "52 2021-03-25      144975     234            178                76.068376   \n",
       "53 2021-03-26      131338     178            145                81.460674   \n",
       "54 2021-03-27       65487     161            136                84.472050   \n",
       "55 2021-03-28       63504     159            132                83.018868   \n",
       "56 2021-03-29      104893     256            226                88.281250   \n",
       "57 2021-03-30      113741     243            202                83.127572   \n",
       "58 2021-03-31       92901     146            129                88.356164   \n",
       "59 2021-04-01      101554     205            180                87.804878   \n",
       "60 2021-04-02       95112     200            172                86.000000   \n",
       "61 2021-04-03       82205     191            165                86.387435   \n",
       "62 2021-04-04       97350     167            149                89.221557   \n",
       "63 2021-04-05      191949     284            252                88.732394   \n",
       "64 2021-04-06      209469     286            253                88.461538   \n",
       "65 2021-04-07      186753     264            232                87.878788   \n",
       "66 2021-04-08      229994     264            223                84.469697   \n",
       "67 2021-04-09      186844     207            180                86.956522   \n",
       "68 2021-04-10       90793     155            133                85.806452   \n",
       "69 2021-04-11      159231     212            191                90.094340   \n",
       "70 2021-04-12      270726     306            272                88.888889   \n",
       "71 2021-04-13      220797     253            225                88.932806   \n",
       "72 2021-04-14      206056     248            209                84.274194   \n",
       "73 2021-04-15      249276     319            267                83.699060   \n",
       "74 2021-04-16      198787     248            200                80.645161   \n",
       "75 2021-04-17       75519     156            131                83.974359   \n",
       "76 2021-04-18      145775     265            247                93.207547   \n",
       "77 2021-04-19      278720     312            276                88.461538   \n",
       "78 2021-04-20      249982     292            262                89.726027   \n",
       "79 2021-04-21      265492     281            257                91.459075   \n",
       "80 2021-04-22      332097     261            239                91.570881   \n",
       "81 2021-04-23      293726     235            212                90.212766   \n",
       "82 2021-04-24      162656     196            168                85.714286   \n",
       "\n",
       "    AGpos_minusPCRkonf  Andel_AGminusPCRkonf_pct  AGpos_PCRpos  AGposPCRneg  \\\n",
       "0                    4                 50.000000             2            2   \n",
       "1                    4                 44.444444             5            0   \n",
       "2                    4                 40.000000             6            0   \n",
       "3                    3                 50.000000             3            0   \n",
       "4                    2                 28.571429             4            1   \n",
       "5                    4                 40.000000             6            0   \n",
       "6                    7                 50.000000             7            0   \n",
       "7                    6                 46.153846             6            1   \n",
       "8                    2                 33.333333             4            0   \n",
       "9                    8                 61.538462             4            1   \n",
       "10                   6                 46.153846             6            1   \n",
       "11                   5                 55.555556             3            1   \n",
       "12                   7                 46.666667             7            1   \n",
       "13                   9                 47.368421             7            3   \n",
       "14                  24                 50.000000            17            7   \n",
       "15                  15                 25.423729            33           10   \n",
       "16                  33                 38.823529            43            9   \n",
       "17                  11                 21.568627            33            4   \n",
       "18                  32                 37.209302            42           12   \n",
       "19                  21                 33.870968            33            8   \n",
       "20                  28                 29.787234            59            4   \n",
       "21                  25                 25.000000            54           19   \n",
       "22                  30                 30.000000            58           10   \n",
       "23                  34                 37.362637            43           12   \n",
       "24                  32                 37.647059            44            9   \n",
       "25                  41                 36.936937            54           16   \n",
       "26                  24                 26.086957            58            9   \n",
       "27                  28                 25.225225            65           18   \n",
       "28                  23                 24.210526            51           19   \n",
       "29                  23                 20.720721            61           25   \n",
       "30                  32                 30.476190            36           37   \n",
       "31                  31                 17.415730            48           95   \n",
       "32                  35                 20.833333            44           88   \n",
       "33                  30                 22.727273            51           51   \n",
       "34                  37                 18.137255            58          105   \n",
       "35                  33                 14.163090            79          121   \n",
       "36                  21                 11.052632            62          106   \n",
       "37                  37                 15.677966            78          121   \n",
       "38                  22                 12.941176            51           97   \n",
       "39                  38                 22.619048            34           96   \n",
       "40                  33                 21.710526            56           60   \n",
       "41                  31                 17.514124            50           95   \n",
       "42                  36                 13.740458           107          114   \n",
       "43                  43                 16.044776           107          118   \n",
       "44                  42                 21.319797            83           66   \n",
       "45                  45                 20.179372           120           56   \n",
       "46                  23                 15.540541            77           45   \n",
       "47                  20                 14.705882            81           33   \n",
       "48                  35                 16.746411           120           53   \n",
       "49                  42                 17.796610           121           69   \n",
       "50                  26                 13.000000           113           59   \n",
       "51                  37                 18.781726           111           46   \n",
       "52                  56                 23.931624           124           51   \n",
       "53                  33                 18.539326            98           44   \n",
       "54                  25                 15.527950           103           32   \n",
       "55                  27                 16.981132            97           33   \n",
       "56                  30                 11.718750           153           72   \n",
       "57                  41                 16.872428           142           57   \n",
       "58                  17                 11.643836            89           39   \n",
       "59                  25                 12.195122           120           55   \n",
       "60                  28                 14.000000           109           58   \n",
       "61                  26                 13.612565            99           60   \n",
       "62                  18                 10.778443            93           53   \n",
       "63                  32                 11.267606           135          111   \n",
       "64                  33                 11.538462           145          103   \n",
       "65                  32                 12.121212           128          102   \n",
       "66                  41                 15.530303           145           73   \n",
       "67                  27                 13.043478           113           65   \n",
       "68                  22                 14.193548            87           45   \n",
       "69                  21                  9.905660           112           77   \n",
       "70                  34                 11.111111           151          118   \n",
       "71                  28                 11.067194           123          101   \n",
       "72                  39                 15.725806           130           78   \n",
       "73                  52                 16.300940           157          104   \n",
       "74                  48                 19.354839           110           88   \n",
       "75                  25                 16.025641            93           38   \n",
       "76                  18                  6.792453           155           89   \n",
       "77                  36                 11.538462           151          122   \n",
       "78                  30                 10.273973           147          110   \n",
       "79                  24                  8.540925           136          119   \n",
       "80                  22                  8.429119           114          123   \n",
       "81                  23                  9.787234           109          101   \n",
       "82                  28                 14.285714            90           77   \n",
       "\n",
       "    AGnegPCRpos  AGnegPCRneg  \n",
       "0             2          293  \n",
       "1             5          308  \n",
       "2             6          343  \n",
       "3             5          322  \n",
       "4             6          280  \n",
       "5             3          262  \n",
       "6             6          326  \n",
       "7             5          439  \n",
       "8             5          390  \n",
       "9             1          498  \n",
       "10            3          537  \n",
       "11            4          477  \n",
       "12            6          339  \n",
       "13            9          435  \n",
       "14           25         1155  \n",
       "15           19         1340  \n",
       "16           20         2014  \n",
       "17           30         1803  \n",
       "18           37         1829  \n",
       "19           36         1624  \n",
       "20           41         1693  \n",
       "21           27         1899  \n",
       "22           34         2047  \n",
       "23           33         2122  \n",
       "24           20         1630  \n",
       "25           41         1826  \n",
       "26           17         1560  \n",
       "27           29         1974  \n",
       "28           17         2206  \n",
       "29           25         2082  \n",
       "30           43         3336  \n",
       "31           31         3609  \n",
       "32           55         4107  \n",
       "33           59         3055  \n",
       "34           61         3522  \n",
       "35           79         3929  \n",
       "36           65         3416  \n",
       "37           66         3847  \n",
       "38           43         3532  \n",
       "39           31         2975  \n",
       "40           64         3355  \n",
       "41           83         4151  \n",
       "42          105         5679  \n",
       "43          107         5324  \n",
       "44          105         5788  \n",
       "45          103         6219  \n",
       "46           71         4214  \n",
       "47           94         3628  \n",
       "48          126         5425  \n",
       "49          135         6696  \n",
       "50          135         6497  \n",
       "51          140         6398  \n",
       "52          143         7158  \n",
       "53          125         6159  \n",
       "54           91         4332  \n",
       "55          106         4677  \n",
       "56          149         6730  \n",
       "57          126         6305  \n",
       "58           65         4678  \n",
       "59          127         6198  \n",
       "60           84         6576  \n",
       "61           78         5867  \n",
       "62          107         6538  \n",
       "63          116        11798  \n",
       "64          122        11231  \n",
       "65          145         9928  \n",
       "66          158        11977  \n",
       "67           83         9763  \n",
       "68           94         5266  \n",
       "69          104         8786  \n",
       "70          170        13508  \n",
       "71          151        10585  \n",
       "72          154        10353  \n",
       "73          144        13356  \n",
       "74          135        10593  \n",
       "75           97         4665  \n",
       "76          152         7942  \n",
       "77          166        12095  \n",
       "78          144        11783  \n",
       "79          150        14049  \n",
       "80          126        16175  \n",
       "81          113        13702  \n",
       "82          116         8671  "
      ],
      "text/html": "<div>\n<style scoped>\n    .dataframe tbody tr th:only-of-type {\n        vertical-align: middle;\n    }\n\n    .dataframe tbody tr th {\n        vertical-align: top;\n    }\n\n    .dataframe thead th {\n        text-align: right;\n    }\n</style>\n<table border=\"1\" class=\"dataframe\">\n  <thead>\n    <tr style=\"text-align: right;\">\n      <th></th>\n      <th>Dato</th>\n      <th>AG_testede</th>\n      <th>AG_pos</th>\n      <th>AGpos_PCRkonf</th>\n      <th>Andel_AGpos_PCRkonf_pct</th>\n      <th>AGpos_minusPCRkonf</th>\n      <th>Andel_AGminusPCRkonf_pct</th>\n      <th>AGpos_PCRpos</th>\n      <th>AGposPCRneg</th>\n      <th>AGnegPCRpos</th>\n      <th>AGnegPCRneg</th>\n    </tr>\n  </thead>\n  <tbody>\n    <tr>\n      <th>0</th>\n      <td>2021-02-01</td>\n      <td>4823</td>\n      <td>8</td>\n      <td>4</td>\n      <td>50.000000</td>\n      <td>4</td>\n      <td>50.000000</td>\n      <td>2</td>\n      <td>2</td>\n      <td>2</td>\n      <td>293</td>\n    </tr>\n    <tr>\n      <th>1</th>\n      <td>2021-02-02</td>\n      <td>4639</td>\n      <td>9</td>\n      <td>5</td>\n      <td>55.555556</td>\n      <td>4</td>\n      <td>44.444444</td>\n      <td>5</td>\n      <td>0</td>\n      <td>5</td>\n      <td>308</td>\n    </tr>\n    <tr>\n      <th>2</th>\n      <td>2021-02-03</td>\n      <td>4865</td>\n      <td>10</td>\n      <td>6</td>\n      <td>60.000000</td>\n      <td>4</td>\n      <td>40.000000</td>\n      <td>6</td>\n      <td>0</td>\n      <td>6</td>\n      <td>343</td>\n    </tr>\n    <tr>\n      <th>3</th>\n      <td>2021-02-04</td>\n      <td>4490</td>\n      <td>6</td>\n      <td>3</td>\n      <td>50.000000</td>\n      <td>3</td>\n      <td>50.000000</td>\n      <td>3</td>\n      <td>0</td>\n      <td>5</td>\n      <td>322</td>\n    </tr>\n    <tr>\n      <th>4</th>\n      <td>2021-02-05</td>\n      <td>4357</td>\n      <td>7</td>\n      <td>5</td>\n      <td>71.428571</td>\n      <td>2</td>\n      <td>28.571429</td>\n      <td>4</td>\n      <td>1</td>\n      <td>6</td>\n      <td>280</td>\n    </tr>\n    <tr>\n      <th>5</th>\n      <td>2021-02-06</td>\n      <td>2585</td>\n      <td>10</td>\n      <td>6</td>\n      <td>60.000000</td>\n      <td>4</td>\n      <td>40.000000</td>\n      <td>6</td>\n      <td>0</td>\n      <td>3</td>\n      <td>262</td>\n    </tr>\n    <tr>\n      <th>6</th>\n      <td>2021-02-07</td>\n      <td>3019</td>\n      <td>14</td>\n      <td>7</td>\n      <td>50.000000</td>\n      <td>7</td>\n      <td>50.000000</td>\n      <td>7</td>\n      <td>0</td>\n      <td>6</td>\n      <td>326</td>\n    </tr>\n    <tr>\n      <th>7</th>\n      <td>2021-02-08</td>\n      <td>6976</td>\n      <td>13</td>\n      <td>7</td>\n      <td>53.846154</td>\n      <td>6</td>\n      <td>46.153846</td>\n      <td>6</td>\n      <td>1</td>\n      <td>5</td>\n      <td>439</td>\n    </tr>\n    <tr>\n      <th>8</th>\n      <td>2021-02-09</td>\n      <td>6080</td>\n      <td>6</td>\n      <td>4</td>\n      <td>66.666667</td>\n      <td>2</td>\n      <td>33.333333</td>\n      <td>4</td>\n      <td>0</td>\n      <td>5</td>\n      <td>390</td>\n    </tr>\n    <tr>\n      <th>9</th>\n      <td>2021-02-10</td>\n      <td>7067</td>\n      <td>13</td>\n      <td>5</td>\n      <td>38.461538</td>\n      <td>8</td>\n      <td>61.538462</td>\n      <td>4</td>\n      <td>1</td>\n      <td>1</td>\n      <td>498</td>\n    </tr>\n    <tr>\n      <th>10</th>\n      <td>2021-02-11</td>\n      <td>9115</td>\n      <td>13</td>\n      <td>7</td>\n      <td>53.846154</td>\n      <td>6</td>\n      <td>46.153846</td>\n      <td>6</td>\n      <td>1</td>\n      <td>3</td>\n      <td>537</td>\n    </tr>\n    <tr>\n      <th>11</th>\n      <td>2021-02-12</td>\n      <td>9168</td>\n      <td>9</td>\n      <td>4</td>\n      <td>44.444444</td>\n      <td>5</td>\n      <td>55.555556</td>\n      <td>3</td>\n      <td>1</td>\n      <td>4</td>\n      <td>477</td>\n    </tr>\n    <tr>\n      <th>12</th>\n      <td>2021-02-13</td>\n      <td>4832</td>\n      <td>15</td>\n      <td>8</td>\n      <td>53.333333</td>\n      <td>7</td>\n      <td>46.666667</td>\n      <td>7</td>\n      <td>1</td>\n      <td>6</td>\n      <td>339</td>\n    </tr>\n    <tr>\n      <th>13</th>\n      <td>2021-02-14</td>\n      <td>4793</td>\n      <td>19</td>\n      <td>10</td>\n      <td>52.631579</td>\n      <td>9</td>\n      <td>47.368421</td>\n      <td>7</td>\n      <td>3</td>\n      <td>9</td>\n      <td>435</td>\n    </tr>\n    <tr>\n      <th>14</th>\n      <td>2021-02-15</td>\n      <td>17129</td>\n      <td>48</td>\n      <td>24</td>\n      <td>50.000000</td>\n      <td>24</td>\n      <td>50.000000</td>\n      <td>17</td>\n      <td>7</td>\n      <td>25</td>\n      <td>1155</td>\n    </tr>\n    <tr>\n      <th>15</th>\n      <td>2021-02-16</td>\n      <td>16898</td>\n      <td>59</td>\n      <td>44</td>\n      <td>74.576271</td>\n      <td>15</td>\n      <td>25.423729</td>\n      <td>33</td>\n      <td>10</td>\n      <td>19</td>\n      <td>1340</td>\n    </tr>\n    <tr>\n      <th>16</th>\n      <td>2021-02-17</td>\n      <td>26115</td>\n      <td>85</td>\n      <td>52</td>\n      <td>61.176471</td>\n      <td>33</td>\n      <td>38.823529</td>\n      <td>43</td>\n      <td>9</td>\n      <td>20</td>\n      <td>2014</td>\n    </tr>\n    <tr>\n      <th>17</th>\n      <td>2021-02-18</td>\n      <td>30041</td>\n      <td>51</td>\n      <td>40</td>\n      <td>78.431373</td>\n      <td>11</td>\n      <td>21.568627</td>\n      <td>33</td>\n      <td>4</td>\n      <td>30</td>\n      <td>1803</td>\n    </tr>\n    <tr>\n      <th>18</th>\n      <td>2021-02-19</td>\n      <td>34134</td>\n      <td>86</td>\n      <td>54</td>\n      <td>62.790698</td>\n      <td>32</td>\n      <td>37.209302</td>\n      <td>42</td>\n      <td>12</td>\n      <td>37</td>\n      <td>1829</td>\n    </tr>\n    <tr>\n      <th>19</th>\n      <td>2021-02-20</td>\n      <td>21621</td>\n      <td>62</td>\n      <td>41</td>\n      <td>66.129032</td>\n      <td>21</td>\n      <td>33.870968</td>\n      <td>33</td>\n      <td>8</td>\n      <td>36</td>\n      <td>1624</td>\n    </tr>\n    <tr>\n      <th>20</th>\n      <td>2021-02-21</td>\n      <td>20232</td>\n      <td>94</td>\n      <td>66</td>\n      <td>70.212766</td>\n      <td>28</td>\n      <td>29.787234</td>\n      <td>59</td>\n      <td>4</td>\n      <td>41</td>\n      <td>1693</td>\n    </tr>\n    <tr>\n      <th>21</th>\n      <td>2021-02-22</td>\n      <td>25710</td>\n      <td>100</td>\n      <td>75</td>\n      <td>75.000000</td>\n      <td>25</td>\n      <td>25.000000</td>\n      <td>54</td>\n      <td>19</td>\n      <td>27</td>\n      <td>1899</td>\n    </tr>\n    <tr>\n      <th>22</th>\n      <td>2021-02-23</td>\n      <td>29540</td>\n      <td>100</td>\n      <td>70</td>\n      <td>70.000000</td>\n      <td>30</td>\n      <td>30.000000</td>\n      <td>58</td>\n      <td>10</td>\n      <td>34</td>\n      <td>2047</td>\n    </tr>\n    <tr>\n      <th>23</th>\n      <td>2021-02-24</td>\n      <td>29773</td>\n      <td>91</td>\n      <td>57</td>\n      <td>62.637363</td>\n      <td>34</td>\n      <td>37.362637</td>\n      <td>43</td>\n      <td>12</td>\n      <td>33</td>\n      <td>2122</td>\n    </tr>\n    <tr>\n      <th>24</th>\n      <td>2021-02-25</td>\n      <td>28376</td>\n      <td>85</td>\n      <td>53</td>\n      <td>62.352941</td>\n      <td>32</td>\n      <td>37.647059</td>\n      <td>44</td>\n      <td>9</td>\n      <td>20</td>\n      <td>1630</td>\n    </tr>\n    <tr>\n      <th>25</th>\n      <td>2021-02-26</td>\n      <td>36254</td>\n      <td>111</td>\n      <td>70</td>\n      <td>63.063063</td>\n      <td>41</td>\n      <td>36.936937</td>\n      <td>54</td>\n      <td>16</td>\n      <td>41</td>\n      <td>1826</td>\n    </tr>\n    <tr>\n      <th>26</th>\n      <td>2021-02-27</td>\n      <td>22492</td>\n      <td>92</td>\n      <td>68</td>\n      <td>73.913043</td>\n      <td>24</td>\n      <td>26.086957</td>\n      <td>58</td>\n      <td>9</td>\n      <td>17</td>\n      <td>1560</td>\n    </tr>\n    <tr>\n      <th>27</th>\n      <td>2021-02-28</td>\n      <td>24337</td>\n      <td>111</td>\n      <td>83</td>\n      <td>74.774775</td>\n      <td>28</td>\n      <td>25.225225</td>\n      <td>65</td>\n      <td>18</td>\n      <td>29</td>\n      <td>1974</td>\n    </tr>\n    <tr>\n      <th>28</th>\n      <td>2021-03-01</td>\n      <td>35345</td>\n      <td>95</td>\n      <td>72</td>\n      <td>75.789474</td>\n      <td>23</td>\n      <td>24.210526</td>\n      <td>51</td>\n      <td>19</td>\n      <td>17</td>\n      <td>2206</td>\n    </tr>\n    <tr>\n      <th>29</th>\n      <td>2021-03-02</td>\n      <td>38268</td>\n      <td>111</td>\n      <td>88</td>\n      <td>79.279279</td>\n      <td>23</td>\n      <td>20.720721</td>\n      <td>61</td>\n      <td>25</td>\n      <td>25</td>\n      <td>2082</td>\n    </tr>\n    <tr>\n      <th>30</th>\n      <td>2021-03-03</td>\n      <td>44006</td>\n      <td>105</td>\n      <td>73</td>\n      <td>69.523810</td>\n      <td>32</td>\n      <td>30.476190</td>\n      <td>36</td>\n      <td>37</td>\n      <td>43</td>\n      <td>3336</td>\n    </tr>\n    <tr>\n      <th>31</th>\n      <td>2021-03-04</td>\n      <td>56230</td>\n      <td>178</td>\n      <td>147</td>\n      <td>82.584270</td>\n      <td>31</td>\n      <td>17.415730</td>\n      <td>48</td>\n      <td>95</td>\n      <td>31</td>\n      <td>3609</td>\n    </tr>\n    <tr>\n      <th>32</th>\n      <td>2021-03-05</td>\n      <td>64484</td>\n      <td>168</td>\n      <td>133</td>\n      <td>79.166667</td>\n      <td>35</td>\n      <td>20.833333</td>\n      <td>44</td>\n      <td>88</td>\n      <td>55</td>\n      <td>4107</td>\n    </tr>\n    <tr>\n      <th>33</th>\n      <td>2021-03-06</td>\n      <td>38483</td>\n      <td>132</td>\n      <td>102</td>\n      <td>77.272727</td>\n      <td>30</td>\n      <td>22.727273</td>\n      <td>51</td>\n      <td>51</td>\n      <td>59</td>\n      <td>3055</td>\n    </tr>\n    <tr>\n      <th>34</th>\n      <td>2021-03-07</td>\n      <td>40340</td>\n      <td>204</td>\n      <td>167</td>\n      <td>81.862745</td>\n      <td>37</td>\n      <td>18.137255</td>\n      <td>58</td>\n      <td>105</td>\n      <td>61</td>\n      <td>3522</td>\n    </tr>\n    <tr>\n      <th>35</th>\n      <td>2021-03-08</td>\n      <td>64259</td>\n      <td>233</td>\n      <td>200</td>\n      <td>85.836910</td>\n      <td>33</td>\n      <td>14.163090</td>\n      <td>79</td>\n      <td>121</td>\n      <td>79</td>\n      <td>3929</td>\n    </tr>\n    <tr>\n      <th>36</th>\n      <td>2021-03-09</td>\n      <td>62931</td>\n      <td>190</td>\n      <td>169</td>\n      <td>88.947368</td>\n      <td>21</td>\n      <td>11.052632</td>\n      <td>62</td>\n      <td>106</td>\n      <td>65</td>\n      <td>3416</td>\n    </tr>\n    <tr>\n      <th>37</th>\n      <td>2021-03-10</td>\n      <td>58057</td>\n      <td>236</td>\n      <td>199</td>\n      <td>84.322034</td>\n      <td>37</td>\n      <td>15.677966</td>\n      <td>78</td>\n      <td>121</td>\n      <td>66</td>\n      <td>3847</td>\n    </tr>\n    <tr>\n      <th>38</th>\n      <td>2021-03-11</td>\n      <td>59186</td>\n      <td>170</td>\n      <td>148</td>\n      <td>87.058824</td>\n      <td>22</td>\n      <td>12.941176</td>\n      <td>51</td>\n      <td>97</td>\n      <td>43</td>\n      <td>3532</td>\n    </tr>\n    <tr>\n      <th>39</th>\n      <td>2021-03-12</td>\n      <td>60444</td>\n      <td>168</td>\n      <td>130</td>\n      <td>77.380952</td>\n      <td>38</td>\n      <td>22.619048</td>\n      <td>34</td>\n      <td>96</td>\n      <td>31</td>\n      <td>2975</td>\n    </tr>\n    <tr>\n      <th>40</th>\n      <td>2021-03-13</td>\n      <td>55909</td>\n      <td>152</td>\n      <td>119</td>\n      <td>78.289474</td>\n      <td>33</td>\n      <td>21.710526</td>\n      <td>56</td>\n      <td>60</td>\n      <td>64</td>\n      <td>3355</td>\n    </tr>\n    <tr>\n      <th>41</th>\n      <td>2021-03-14</td>\n      <td>72875</td>\n      <td>177</td>\n      <td>146</td>\n      <td>82.485876</td>\n      <td>31</td>\n      <td>17.514124</td>\n      <td>50</td>\n      <td>95</td>\n      <td>83</td>\n      <td>4151</td>\n    </tr>\n    <tr>\n      <th>42</th>\n      <td>2021-03-15</td>\n      <td>110886</td>\n      <td>262</td>\n      <td>226</td>\n      <td>86.259542</td>\n      <td>36</td>\n      <td>13.740458</td>\n      <td>107</td>\n      <td>114</td>\n      <td>105</td>\n      <td>5679</td>\n    </tr>\n    <tr>\n      <th>43</th>\n      <td>2021-03-16</td>\n      <td>116888</td>\n      <td>268</td>\n      <td>225</td>\n      <td>83.955224</td>\n      <td>43</td>\n      <td>16.044776</td>\n      <td>107</td>\n      <td>118</td>\n      <td>107</td>\n      <td>5324</td>\n    </tr>\n    <tr>\n      <th>44</th>\n      <td>2021-03-17</td>\n      <td>103615</td>\n      <td>197</td>\n      <td>155</td>\n      <td>78.680203</td>\n      <td>42</td>\n      <td>21.319797</td>\n      <td>83</td>\n      <td>66</td>\n      <td>105</td>\n      <td>5788</td>\n    </tr>\n    <tr>\n      <th>45</th>\n      <td>2021-03-18</td>\n      <td>124451</td>\n      <td>223</td>\n      <td>178</td>\n      <td>79.820628</td>\n      <td>45</td>\n      <td>20.179372</td>\n      <td>120</td>\n      <td>56</td>\n      <td>103</td>\n      <td>6219</td>\n    </tr>\n    <tr>\n      <th>46</th>\n      <td>2021-03-19</td>\n      <td>91802</td>\n      <td>148</td>\n      <td>125</td>\n      <td>84.459459</td>\n      <td>23</td>\n      <td>15.540541</td>\n      <td>77</td>\n      <td>45</td>\n      <td>71</td>\n      <td>4214</td>\n    </tr>\n    <tr>\n      <th>47</th>\n      <td>2021-03-20</td>\n      <td>57225</td>\n      <td>136</td>\n      <td>116</td>\n      <td>85.294118</td>\n      <td>20</td>\n      <td>14.705882</td>\n      <td>81</td>\n      <td>33</td>\n      <td>94</td>\n      <td>3628</td>\n    </tr>\n    <tr>\n      <th>48</th>\n      <td>2021-03-21</td>\n      <td>89851</td>\n      <td>209</td>\n      <td>174</td>\n      <td>83.253589</td>\n      <td>35</td>\n      <td>16.746411</td>\n      <td>120</td>\n      <td>53</td>\n      <td>126</td>\n      <td>5425</td>\n    </tr>\n    <tr>\n      <th>49</th>\n      <td>2021-03-22</td>\n      <td>133405</td>\n      <td>236</td>\n      <td>194</td>\n      <td>82.203390</td>\n      <td>42</td>\n      <td>17.796610</td>\n      <td>121</td>\n      <td>69</td>\n      <td>135</td>\n      <td>6696</td>\n    </tr>\n    <tr>\n      <th>50</th>\n      <td>2021-03-23</td>\n      <td>138341</td>\n      <td>200</td>\n      <td>174</td>\n      <td>87.000000</td>\n      <td>26</td>\n      <td>13.000000</td>\n      <td>113</td>\n      <td>59</td>\n      <td>135</td>\n      <td>6497</td>\n    </tr>\n    <tr>\n      <th>51</th>\n      <td>2021-03-24</td>\n      <td>120365</td>\n      <td>197</td>\n      <td>160</td>\n      <td>81.218274</td>\n      <td>37</td>\n      <td>18.781726</td>\n      <td>111</td>\n      <td>46</td>\n      <td>140</td>\n      <td>6398</td>\n    </tr>\n    <tr>\n      <th>52</th>\n      <td>2021-03-25</td>\n      <td>144975</td>\n      <td>234</td>\n      <td>178</td>\n      <td>76.068376</td>\n      <td>56</td>\n      <td>23.931624</td>\n      <td>124</td>\n      <td>51</td>\n      <td>143</td>\n      <td>7158</td>\n    </tr>\n    <tr>\n      <th>53</th>\n      <td>2021-03-26</td>\n      <td>131338</td>\n      <td>178</td>\n      <td>145</td>\n      <td>81.460674</td>\n      <td>33</td>\n      <td>18.539326</td>\n      <td>98</td>\n      <td>44</td>\n      <td>125</td>\n      <td>6159</td>\n    </tr>\n    <tr>\n      <th>54</th>\n      <td>2021-03-27</td>\n      <td>65487</td>\n      <td>161</td>\n      <td>136</td>\n      <td>84.472050</td>\n      <td>25</td>\n      <td>15.527950</td>\n      <td>103</td>\n      <td>32</td>\n      <td>91</td>\n      <td>4332</td>\n    </tr>\n    <tr>\n      <th>55</th>\n      <td>2021-03-28</td>\n      <td>63504</td>\n      <td>159</td>\n      <td>132</td>\n      <td>83.018868</td>\n      <td>27</td>\n      <td>16.981132</td>\n      <td>97</td>\n      <td>33</td>\n      <td>106</td>\n      <td>4677</td>\n    </tr>\n    <tr>\n      <th>56</th>\n      <td>2021-03-29</td>\n      <td>104893</td>\n      <td>256</td>\n      <td>226</td>\n      <td>88.281250</td>\n      <td>30</td>\n      <td>11.718750</td>\n      <td>153</td>\n      <td>72</td>\n      <td>149</td>\n      <td>6730</td>\n    </tr>\n    <tr>\n      <th>57</th>\n      <td>2021-03-30</td>\n      <td>113741</td>\n      <td>243</td>\n      <td>202</td>\n      <td>83.127572</td>\n      <td>41</td>\n      <td>16.872428</td>\n      <td>142</td>\n      <td>57</td>\n      <td>126</td>\n      <td>6305</td>\n    </tr>\n    <tr>\n      <th>58</th>\n      <td>2021-03-31</td>\n      <td>92901</td>\n      <td>146</td>\n      <td>129</td>\n      <td>88.356164</td>\n      <td>17</td>\n      <td>11.643836</td>\n      <td>89</td>\n      <td>39</td>\n      <td>65</td>\n      <td>4678</td>\n    </tr>\n    <tr>\n      <th>59</th>\n      <td>2021-04-01</td>\n      <td>101554</td>\n      <td>205</td>\n      <td>180</td>\n      <td>87.804878</td>\n      <td>25</td>\n      <td>12.195122</td>\n      <td>120</td>\n      <td>55</td>\n      <td>127</td>\n      <td>6198</td>\n    </tr>\n    <tr>\n      <th>60</th>\n      <td>2021-04-02</td>\n      <td>95112</td>\n      <td>200</td>\n      <td>172</td>\n      <td>86.000000</td>\n      <td>28</td>\n      <td>14.000000</td>\n      <td>109</td>\n      <td>58</td>\n      <td>84</td>\n      <td>6576</td>\n    </tr>\n    <tr>\n      <th>61</th>\n      <td>2021-04-03</td>\n      <td>82205</td>\n      <td>191</td>\n      <td>165</td>\n      <td>86.387435</td>\n      <td>26</td>\n      <td>13.612565</td>\n      <td>99</td>\n      <td>60</td>\n      <td>78</td>\n      <td>5867</td>\n    </tr>\n    <tr>\n      <th>62</th>\n      <td>2021-04-04</td>\n      <td>97350</td>\n      <td>167</td>\n      <td>149</td>\n      <td>89.221557</td>\n      <td>18</td>\n      <td>10.778443</td>\n      <td>93</td>\n      <td>53</td>\n      <td>107</td>\n      <td>6538</td>\n    </tr>\n    <tr>\n      <th>63</th>\n      <td>2021-04-05</td>\n      <td>191949</td>\n      <td>284</td>\n      <td>252</td>\n      <td>88.732394</td>\n      <td>32</td>\n      <td>11.267606</td>\n      <td>135</td>\n      <td>111</td>\n      <td>116</td>\n      <td>11798</td>\n    </tr>\n    <tr>\n      <th>64</th>\n      <td>2021-04-06</td>\n      <td>209469</td>\n      <td>286</td>\n      <td>253</td>\n      <td>88.461538</td>\n      <td>33</td>\n      <td>11.538462</td>\n      <td>145</td>\n      <td>103</td>\n      <td>122</td>\n      <td>11231</td>\n    </tr>\n    <tr>\n      <th>65</th>\n      <td>2021-04-07</td>\n      <td>186753</td>\n      <td>264</td>\n      <td>232</td>\n      <td>87.878788</td>\n      <td>32</td>\n      <td>12.121212</td>\n      <td>128</td>\n      <td>102</td>\n      <td>145</td>\n      <td>9928</td>\n    </tr>\n    <tr>\n      <th>66</th>\n      <td>2021-04-08</td>\n      <td>229994</td>\n      <td>264</td>\n      <td>223</td>\n      <td>84.469697</td>\n      <td>41</td>\n      <td>15.530303</td>\n      <td>145</td>\n      <td>73</td>\n      <td>158</td>\n      <td>11977</td>\n    </tr>\n    <tr>\n      <th>67</th>\n      <td>2021-04-09</td>\n      <td>186844</td>\n      <td>207</td>\n      <td>180</td>\n      <td>86.956522</td>\n      <td>27</td>\n      <td>13.043478</td>\n      <td>113</td>\n      <td>65</td>\n      <td>83</td>\n      <td>9763</td>\n    </tr>\n    <tr>\n      <th>68</th>\n      <td>2021-04-10</td>\n      <td>90793</td>\n      <td>155</td>\n      <td>133</td>\n      <td>85.806452</td>\n      <td>22</td>\n      <td>14.193548</td>\n      <td>87</td>\n      <td>45</td>\n      <td>94</td>\n      <td>5266</td>\n    </tr>\n    <tr>\n      <th>69</th>\n      <td>2021-04-11</td>\n      <td>159231</td>\n      <td>212</td>\n      <td>191</td>\n      <td>90.094340</td>\n      <td>21</td>\n      <td>9.905660</td>\n      <td>112</td>\n      <td>77</td>\n      <td>104</td>\n      <td>8786</td>\n    </tr>\n    <tr>\n      <th>70</th>\n      <td>2021-04-12</td>\n      <td>270726</td>\n      <td>306</td>\n      <td>272</td>\n      <td>88.888889</td>\n      <td>34</td>\n      <td>11.111111</td>\n      <td>151</td>\n      <td>118</td>\n      <td>170</td>\n      <td>13508</td>\n    </tr>\n    <tr>\n      <th>71</th>\n      <td>2021-04-13</td>\n      <td>220797</td>\n      <td>253</td>\n      <td>225</td>\n      <td>88.932806</td>\n      <td>28</td>\n      <td>11.067194</td>\n      <td>123</td>\n      <td>101</td>\n      <td>151</td>\n      <td>10585</td>\n    </tr>\n    <tr>\n      <th>72</th>\n      <td>2021-04-14</td>\n      <td>206056</td>\n      <td>248</td>\n      <td>209</td>\n      <td>84.274194</td>\n      <td>39</td>\n      <td>15.725806</td>\n      <td>130</td>\n      <td>78</td>\n      <td>154</td>\n      <td>10353</td>\n    </tr>\n    <tr>\n      <th>73</th>\n      <td>2021-04-15</td>\n      <td>249276</td>\n      <td>319</td>\n      <td>267</td>\n      <td>83.699060</td>\n      <td>52</td>\n      <td>16.300940</td>\n      <td>157</td>\n      <td>104</td>\n      <td>144</td>\n      <td>13356</td>\n    </tr>\n    <tr>\n      <th>74</th>\n      <td>2021-04-16</td>\n      <td>198787</td>\n      <td>248</td>\n      <td>200</td>\n      <td>80.645161</td>\n      <td>48</td>\n      <td>19.354839</td>\n      <td>110</td>\n      <td>88</td>\n      <td>135</td>\n      <td>10593</td>\n    </tr>\n    <tr>\n      <th>75</th>\n      <td>2021-04-17</td>\n      <td>75519</td>\n      <td>156</td>\n      <td>131</td>\n      <td>83.974359</td>\n      <td>25</td>\n      <td>16.025641</td>\n      <td>93</td>\n      <td>38</td>\n      <td>97</td>\n      <td>4665</td>\n    </tr>\n    <tr>\n      <th>76</th>\n      <td>2021-04-18</td>\n      <td>145775</td>\n      <td>265</td>\n      <td>247</td>\n      <td>93.207547</td>\n      <td>18</td>\n      <td>6.792453</td>\n      <td>155</td>\n      <td>89</td>\n      <td>152</td>\n      <td>7942</td>\n    </tr>\n    <tr>\n      <th>77</th>\n      <td>2021-04-19</td>\n      <td>278720</td>\n      <td>312</td>\n      <td>276</td>\n      <td>88.461538</td>\n      <td>36</td>\n      <td>11.538462</td>\n      <td>151</td>\n      <td>122</td>\n      <td>166</td>\n      <td>12095</td>\n    </tr>\n    <tr>\n      <th>78</th>\n      <td>2021-04-20</td>\n      <td>249982</td>\n      <td>292</td>\n      <td>262</td>\n      <td>89.726027</td>\n      <td>30</td>\n      <td>10.273973</td>\n      <td>147</td>\n      <td>110</td>\n      <td>144</td>\n      <td>11783</td>\n    </tr>\n    <tr>\n      <th>79</th>\n      <td>2021-04-21</td>\n      <td>265492</td>\n      <td>281</td>\n      <td>257</td>\n      <td>91.459075</td>\n      <td>24</td>\n      <td>8.540925</td>\n      <td>136</td>\n      <td>119</td>\n      <td>150</td>\n      <td>14049</td>\n    </tr>\n    <tr>\n      <th>80</th>\n      <td>2021-04-22</td>\n      <td>332097</td>\n      <td>261</td>\n      <td>239</td>\n      <td>91.570881</td>\n      <td>22</td>\n      <td>8.429119</td>\n      <td>114</td>\n      <td>123</td>\n      <td>126</td>\n      <td>16175</td>\n    </tr>\n    <tr>\n      <th>81</th>\n      <td>2021-04-23</td>\n      <td>293726</td>\n      <td>235</td>\n      <td>212</td>\n      <td>90.212766</td>\n      <td>23</td>\n      <td>9.787234</td>\n      <td>109</td>\n      <td>101</td>\n      <td>113</td>\n      <td>13702</td>\n    </tr>\n    <tr>\n      <th>82</th>\n      <td>2021-04-24</td>\n      <td>162656</td>\n      <td>196</td>\n      <td>168</td>\n      <td>85.714286</td>\n      <td>28</td>\n      <td>14.285714</td>\n      <td>90</td>\n      <td>77</td>\n      <td>116</td>\n      <td>8671</td>\n    </tr>\n  </tbody>\n</table>\n</div>"
     },
     "metadata": {},
     "execution_count": 18
    }
   ],
   "source": [
    "# print(df2.columns.values)\n",
    "# df2.tail()\n",
    "df2"
   ]
  },
  {
   "cell_type": "code",
   "execution_count": 19,
   "metadata": {},
   "outputs": [],
   "source": [
    "# plt.figure()\n",
    "# # plt.plot(df2.Dato,df2.AG_testede)\n",
    "# # plt.plot(df2.Dato,df2.Andel_AGpos_PCRkonf_pct)\n",
    "# plt.plot(df2.Dato,df2.AG_pos)\n",
    "# # plt.plot(df2.Dato,df2.AGpos_PCRkonf)\n",
    "# plt.plot(df2.Dato,df2.AGpos_PCRkonf+df2.AGpos_minusPCRkonf)\n",
    "# # plt.plot(df2.Dato,df2.AGpos_PCRpos)\n",
    "# # plt.plot(df2.Dato,df2.AGposPCRneg)\n",
    "# # plt.plot(df2.Dato,df2.AGpos_PCRpos+df2.AGposPCRneg)\n",
    "# plt.show()"
   ]
  },
  {
   "cell_type": "code",
   "execution_count": 20,
   "metadata": {},
   "outputs": [
    {
     "output_type": "display_data",
     "data": {
      "text/plain": "Canvas(toolbar=Toolbar(toolitems=[('Home', 'Reset original view', 'home', 'home'), ('Back', 'Back to previous …",
      "application/vnd.jupyter.widget-view+json": {
       "version_major": 2,
       "version_minor": 0,
       "model_id": "d1ba2a865435438f98236035b60cbeb8"
      }
     },
     "metadata": {}
    }
   ],
   "source": [
    "# fig,(ax1,ax2) = plt.subplots(2,1)\n",
    "fig,(ax1,ax2,ax3) = plt.subplots(3,1,sharex=True)\n",
    "\n",
    "ax1.fill_between(df2.Dato,df2.AG_pos,color='blue',label='AG pos, PCR testet')\n",
    "ax1.fill_between(df2.Dato,df2.AGpos_minusPCRkonf,color='grey',label='AG pos, afventer PCR')\n",
    "\n",
    "ax2.fill_between(df2.Dato,100*np.ones(df2.Dato.shape),color='xkcd:mint',label='AG pos, PCR neg')\n",
    "ax2.fill_between(df2.Dato,100*np.divide(df2.AGpos_PCRpos,df2.AGpos_PCRkonf),color='g',label='AG pos, PCR pos')\n",
    "\n",
    "numAGnegKonf = df2.AGnegPCRpos + df2.AGnegPCRneg\n",
    "\n",
    "ax3.fill_between(df2.Dato,100*np.ones(df2.Dato.shape),color='xkcd:mint',label='AG neg, PCR neg')\n",
    "ax3.fill_between(df2.Dato,100*np.divide(df2.AGnegPCRpos,numAGnegKonf),color='g',label='AG neg, PCR pos')\n",
    "\n",
    "ax1.legend(loc='center left',bbox_to_anchor = (1.0, 0.5))\n",
    "ax2.legend(loc='center left',bbox_to_anchor = (1.0, 0.5))\n",
    "ax3.legend(loc='center left',bbox_to_anchor = (1.0, 0.5))\n",
    "\n",
    "ax1.set_ylim(bottom=0)\n",
    "ax2.set_ylim(bottom=0,top=100)\n",
    "ax3.set_ylim(bottom=0,top=3)\n",
    "ax1.set_xlim([df2.Dato[0],df2.iloc[-1,0]])\n",
    "plt.tight_layout()"
   ]
  },
  {
   "cell_type": "code",
   "execution_count": 21,
   "metadata": {},
   "outputs": [
    {
     "output_type": "execute_result",
     "data": {
      "text/plain": [
       "          Date  NewPositive  NotPrevPos  PosPct  PrevPos  Tested  \\\n",
       "380 2021-04-23          215      292881     0.1      701  293582   \n",
       "381 2021-04-24          176      162136     0.1      447  162583   \n",
       "382 2021-04-25          191      197183     0.1      575  197758   \n",
       "383 2021-04-26          337      361825     0.1     1007  362832   \n",
       "384 2021-04-27          265      283882     0.1      712  284594   \n",
       "\n",
       "     Tested_kumulativ  \n",
       "380           7409494  \n",
       "381           7572077  \n",
       "382           7769835  \n",
       "383           8132667  \n",
       "384           8417261  "
      ],
      "text/html": "<div>\n<style scoped>\n    .dataframe tbody tr th:only-of-type {\n        vertical-align: middle;\n    }\n\n    .dataframe tbody tr th {\n        vertical-align: top;\n    }\n\n    .dataframe thead th {\n        text-align: right;\n    }\n</style>\n<table border=\"1\" class=\"dataframe\">\n  <thead>\n    <tr style=\"text-align: right;\">\n      <th></th>\n      <th>Date</th>\n      <th>NewPositive</th>\n      <th>NotPrevPos</th>\n      <th>PosPct</th>\n      <th>PrevPos</th>\n      <th>Tested</th>\n      <th>Tested_kumulativ</th>\n    </tr>\n  </thead>\n  <tbody>\n    <tr>\n      <th>380</th>\n      <td>2021-04-23</td>\n      <td>215</td>\n      <td>292881</td>\n      <td>0.1</td>\n      <td>701</td>\n      <td>293582</td>\n      <td>7409494</td>\n    </tr>\n    <tr>\n      <th>381</th>\n      <td>2021-04-24</td>\n      <td>176</td>\n      <td>162136</td>\n      <td>0.1</td>\n      <td>447</td>\n      <td>162583</td>\n      <td>7572077</td>\n    </tr>\n    <tr>\n      <th>382</th>\n      <td>2021-04-25</td>\n      <td>191</td>\n      <td>197183</td>\n      <td>0.1</td>\n      <td>575</td>\n      <td>197758</td>\n      <td>7769835</td>\n    </tr>\n    <tr>\n      <th>383</th>\n      <td>2021-04-26</td>\n      <td>337</td>\n      <td>361825</td>\n      <td>0.1</td>\n      <td>1007</td>\n      <td>362832</td>\n      <td>8132667</td>\n    </tr>\n    <tr>\n      <th>384</th>\n      <td>2021-04-27</td>\n      <td>265</td>\n      <td>283882</td>\n      <td>0.1</td>\n      <td>712</td>\n      <td>284594</td>\n      <td>8417261</td>\n    </tr>\n  </tbody>\n</table>\n</div>"
     },
     "metadata": {},
     "execution_count": 21
    }
   ],
   "source": [
    "df.tail()"
   ]
  },
  {
   "cell_type": "code",
   "execution_count": 22,
   "metadata": {},
   "outputs": [
    {
     "output_type": "execute_result",
     "data": {
      "text/plain": [
       "          Date  NewPositive  NotPrevPos  PosPct  PrevPos  Tested  \\\n",
       "452 2021-04-23          626      174079     0.4     6465  180544   \n",
       "453 2021-04-24          568      135091     0.4     4490  139581   \n",
       "454 2021-04-25          600      148021     0.4     4612  152633   \n",
       "455 2021-04-26          757      179369     0.4     7037  186406   \n",
       "456 2021-04-27          266       43847     0.6     1640   45487   \n",
       "\n",
       "     Tested_kumulativ  \n",
       "452          25979185  \n",
       "453          26118766  \n",
       "454          26271399  \n",
       "455          26457805  \n",
       "456          26503292  "
      ],
      "text/html": "<div>\n<style scoped>\n    .dataframe tbody tr th:only-of-type {\n        vertical-align: middle;\n    }\n\n    .dataframe tbody tr th {\n        vertical-align: top;\n    }\n\n    .dataframe thead th {\n        text-align: right;\n    }\n</style>\n<table border=\"1\" class=\"dataframe\">\n  <thead>\n    <tr style=\"text-align: right;\">\n      <th></th>\n      <th>Date</th>\n      <th>NewPositive</th>\n      <th>NotPrevPos</th>\n      <th>PosPct</th>\n      <th>PrevPos</th>\n      <th>Tested</th>\n      <th>Tested_kumulativ</th>\n    </tr>\n  </thead>\n  <tbody>\n    <tr>\n      <th>452</th>\n      <td>2021-04-23</td>\n      <td>626</td>\n      <td>174079</td>\n      <td>0.4</td>\n      <td>6465</td>\n      <td>180544</td>\n      <td>25979185</td>\n    </tr>\n    <tr>\n      <th>453</th>\n      <td>2021-04-24</td>\n      <td>568</td>\n      <td>135091</td>\n      <td>0.4</td>\n      <td>4490</td>\n      <td>139581</td>\n      <td>26118766</td>\n    </tr>\n    <tr>\n      <th>454</th>\n      <td>2021-04-25</td>\n      <td>600</td>\n      <td>148021</td>\n      <td>0.4</td>\n      <td>4612</td>\n      <td>152633</td>\n      <td>26271399</td>\n    </tr>\n    <tr>\n      <th>455</th>\n      <td>2021-04-26</td>\n      <td>757</td>\n      <td>179369</td>\n      <td>0.4</td>\n      <td>7037</td>\n      <td>186406</td>\n      <td>26457805</td>\n    </tr>\n    <tr>\n      <th>456</th>\n      <td>2021-04-27</td>\n      <td>266</td>\n      <td>43847</td>\n      <td>0.6</td>\n      <td>1640</td>\n      <td>45487</td>\n      <td>26503292</td>\n    </tr>\n  </tbody>\n</table>\n</div>"
     },
     "metadata": {},
     "execution_count": 22
    }
   ],
   "source": [
    "dfPCR.tail()"
   ]
  },
  {
   "cell_type": "code",
   "execution_count": 23,
   "metadata": {},
   "outputs": [
    {
     "output_type": "execute_result",
     "data": {
      "text/plain": [
       "         Dato  AG_testede  AG_pos  AGpos_PCRkonf  Andel_AGpos_PCRkonf_pct  \\\n",
       "78 2021-04-20      249982     292            262                89.726027   \n",
       "79 2021-04-21      265492     281            257                91.459075   \n",
       "80 2021-04-22      332097     261            239                91.570881   \n",
       "81 2021-04-23      293726     235            212                90.212766   \n",
       "82 2021-04-24      162656     196            168                85.714286   \n",
       "\n",
       "    AGpos_minusPCRkonf  Andel_AGminusPCRkonf_pct  AGpos_PCRpos  AGposPCRneg  \\\n",
       "78                  30                 10.273973           147          110   \n",
       "79                  24                  8.540925           136          119   \n",
       "80                  22                  8.429119           114          123   \n",
       "81                  23                  9.787234           109          101   \n",
       "82                  28                 14.285714            90           77   \n",
       "\n",
       "    AGnegPCRpos  AGnegPCRneg  \n",
       "78          144        11783  \n",
       "79          150        14049  \n",
       "80          126        16175  \n",
       "81          113        13702  \n",
       "82          116         8671  "
      ],
      "text/html": "<div>\n<style scoped>\n    .dataframe tbody tr th:only-of-type {\n        vertical-align: middle;\n    }\n\n    .dataframe tbody tr th {\n        vertical-align: top;\n    }\n\n    .dataframe thead th {\n        text-align: right;\n    }\n</style>\n<table border=\"1\" class=\"dataframe\">\n  <thead>\n    <tr style=\"text-align: right;\">\n      <th></th>\n      <th>Dato</th>\n      <th>AG_testede</th>\n      <th>AG_pos</th>\n      <th>AGpos_PCRkonf</th>\n      <th>Andel_AGpos_PCRkonf_pct</th>\n      <th>AGpos_minusPCRkonf</th>\n      <th>Andel_AGminusPCRkonf_pct</th>\n      <th>AGpos_PCRpos</th>\n      <th>AGposPCRneg</th>\n      <th>AGnegPCRpos</th>\n      <th>AGnegPCRneg</th>\n    </tr>\n  </thead>\n  <tbody>\n    <tr>\n      <th>78</th>\n      <td>2021-04-20</td>\n      <td>249982</td>\n      <td>292</td>\n      <td>262</td>\n      <td>89.726027</td>\n      <td>30</td>\n      <td>10.273973</td>\n      <td>147</td>\n      <td>110</td>\n      <td>144</td>\n      <td>11783</td>\n    </tr>\n    <tr>\n      <th>79</th>\n      <td>2021-04-21</td>\n      <td>265492</td>\n      <td>281</td>\n      <td>257</td>\n      <td>91.459075</td>\n      <td>24</td>\n      <td>8.540925</td>\n      <td>136</td>\n      <td>119</td>\n      <td>150</td>\n      <td>14049</td>\n    </tr>\n    <tr>\n      <th>80</th>\n      <td>2021-04-22</td>\n      <td>332097</td>\n      <td>261</td>\n      <td>239</td>\n      <td>91.570881</td>\n      <td>22</td>\n      <td>8.429119</td>\n      <td>114</td>\n      <td>123</td>\n      <td>126</td>\n      <td>16175</td>\n    </tr>\n    <tr>\n      <th>81</th>\n      <td>2021-04-23</td>\n      <td>293726</td>\n      <td>235</td>\n      <td>212</td>\n      <td>90.212766</td>\n      <td>23</td>\n      <td>9.787234</td>\n      <td>109</td>\n      <td>101</td>\n      <td>113</td>\n      <td>13702</td>\n    </tr>\n    <tr>\n      <th>82</th>\n      <td>2021-04-24</td>\n      <td>162656</td>\n      <td>196</td>\n      <td>168</td>\n      <td>85.714286</td>\n      <td>28</td>\n      <td>14.285714</td>\n      <td>90</td>\n      <td>77</td>\n      <td>116</td>\n      <td>8671</td>\n    </tr>\n  </tbody>\n</table>\n</div>"
     },
     "metadata": {},
     "execution_count": 23
    }
   ],
   "source": [
    "df2.tail()"
   ]
  },
  {
   "cell_type": "code",
   "execution_count": 24,
   "metadata": {},
   "outputs": [
    {
     "output_type": "display_data",
     "data": {
      "text/plain": "Canvas(toolbar=Toolbar(toolitems=[('Home', 'Reset original view', 'home', 'home'), ('Back', 'Back to previous …",
      "application/vnd.jupyter.widget-view+json": {
       "version_major": 2,
       "version_minor": 0,
       "model_id": "29ecdd18e15b415a84db413b5e22bb5c"
      }
     },
     "metadata": {}
    }
   ],
   "source": [
    "fig,ax1 = plt.subplots(1,1)\n",
    "ax1.plot(df.Date,100*df.Tested/5800000)\n",
    "meanWidth=7\n",
    "ax1.plot(rnTime(df.Date,meanWidth),100*rnMean(df.Tested,meanWidth)/5800000,'k:')\n",
    "\n",
    "ax1.set_xlim([np.datetime64('2021-02-01'),df.iloc[-1,0]])\n",
    "plt.show()"
   ]
  },
  {
   "cell_type": "code",
   "execution_count": 25,
   "metadata": {},
   "outputs": [
    {
     "output_type": "display_data",
     "data": {
      "text/plain": "Canvas(toolbar=Toolbar(toolitems=[('Home', 'Reset original view', 'home', 'home'), ('Back', 'Back to previous …",
      "application/vnd.jupyter.widget-view+json": {
       "version_major": 2,
       "version_minor": 0,
       "model_id": "720458e9933e458ca41ad1629328a80f"
      }
     },
     "metadata": {}
    }
   ],
   "source": [
    "# fig,ax1 = plt.subplots(1,1)\n",
    "fig,(ax1,ax2) = plt.subplots(2,1,sharex=True)\n",
    "\n",
    "ax1.plot(df.Date,df.Tested,label='Antal AG tests')\n",
    "ax1.plot(dfPCR.Date,dfPCR.Tested,label='Antal PCR tests')\n",
    "ax1.plot(rnTime(dfPCR.Date,7),rnMean(dfPCR.Tested,7),label='Antal PCR tests')\n",
    "\n",
    "# ax2.plot(df.Date,df.PosPct,label='Positiv procent, AG')\n",
    "# ax2.plot(dfPCR.Date,dfPCR.PosPct,label='Positive procent, PCR')\n",
    "ax2.plot(df.Date,100*np.divide(df.NewPositive,df.Tested),label='Positiv procent, AG')\n",
    "ax2.plot(dfPCR.Date,100*np.divide(dfPCR.NewPositive,dfPCR.Tested),label='Positiv procent, PCR')\n",
    "\n",
    "\n",
    "ax1.legend(loc='center left',bbox_to_anchor = (1.0, 0.5))\n",
    "ax2.legend(loc='center left',bbox_to_anchor = (1.0, 0.5))\n",
    "\n",
    "ax1.grid()\n",
    "ax2.grid()\n",
    "\n",
    "ax1.set_ylim(bottom=0)\n",
    "ax2.set_ylim(bottom=0,top=0.6)\n",
    "\n",
    "ax1.set_xlim(left=np.datetime64('2020-02-01'),right=date.today())\n",
    "ax1.xaxis.set_major_formatter(mdates.DateFormatter('%d %b\\n%Y'))\n",
    "\n",
    "plt.tight_layout()\n",
    "\n",
    "# if saveFigures:\n",
    "#     plt.savefig('figs/AntalTestOgPosPct')"
   ]
  },
  {
   "cell_type": "code",
   "execution_count": 26,
   "metadata": {},
   "outputs": [
    {
     "output_type": "error",
     "ename": "NameError",
     "evalue": "name 'd' is not defined",
     "traceback": [
      "\u001b[1;31m---------------------------------------------------------------------------\u001b[0m",
      "\u001b[1;31mNameError\u001b[0m                                 Traceback (most recent call last)",
      "\u001b[1;32m<ipython-input-26-e983f374794d>\u001b[0m in \u001b[0;36m<module>\u001b[1;34m\u001b[0m\n\u001b[1;32m----> 1\u001b[1;33m \u001b[0md\u001b[0m\u001b[1;33m\u001b[0m\u001b[1;33m\u001b[0m\u001b[0m\n\u001b[0m",
      "\u001b[1;31mNameError\u001b[0m: name 'd' is not defined"
     ]
    }
   ],
   "source": [
    "d"
   ]
  },
  {
   "cell_type": "code",
   "execution_count": 27,
   "metadata": {},
   "outputs": [
    {
     "output_type": "display_data",
     "data": {
      "text/plain": "Canvas(toolbar=Toolbar(toolitems=[('Home', 'Reset original view', 'home', 'home'), ('Back', 'Back to previous …",
      "application/vnd.jupyter.widget-view+json": {
       "version_major": 2,
       "version_minor": 0,
       "model_id": "be64b385efd04c49aa7143870377d382"
      }
     },
     "metadata": {}
    }
   ],
   "source": [
    "firstDate = np.datetime64('2021-02-01')\n",
    "lastDate = np.datetime64('2021-04-24')\n",
    "\n",
    "curDates = np.arange(firstDate,lastDate)\n",
    "\n",
    "# posAG  = df[df.Date.isin(curDates)].NewPositive \n",
    "PCRpos = dfPCR[dfPCR.Date.isin(curDates)].NewPositive.values\n",
    "numPCR = dfPCR[dfPCR.Date.isin(curDates)].Tested.values\n",
    "AGpos = df[df.Date.isin(curDates)].NewPositive.values\n",
    "numAG = df[df.Date.isin(curDates)].Tested.values\n",
    "AGposPCRpos = df2[df2.Dato.isin(curDates)].AGpos_PCRpos.values\n",
    "# PCRposPct = dfPCR[dfPCR.Date.isin(curDates)].PosPct.values\n",
    "PCRposPct = np.divide(PCRpos,numPCR)\n",
    "AGposPct = np.divide(AGpos,numAG)\n",
    "\n",
    "# Positive PCR-tests, excluding those that only got tested because of a positive AG-test\n",
    "PCRpos_nonAG = PCRpos-AGposPCRpos\n",
    "\n",
    "# Factor used for scaling with respect to number of tests\n",
    "scaleFactor = 0.7\n",
    "\n",
    "# Screening-ratio (Guess about how many tests would have been carried out in the absence of wide screening)\n",
    "screenRatio = 1/6\n",
    "\n",
    "\n",
    "scaleScreenRatio = screenRatio**scaleFactor\n",
    "\n",
    "# \n",
    "multFactor = (1-screenRatio**scaleFactor)\n",
    "\n",
    "\n",
    "fig,(ax1,ax2) = plt.subplots(2,1,sharex=True)\n",
    "\n",
    "ax1.plot(curDates,AGposPCRpos,label='AG positive, PCR confirmed')\n",
    "ax1.plot(curDates,PCRpos,label='PCR positive, total')\n",
    "ax1.plot(curDates,PCRpos_nonAG,label='PCR positive, non-AG')\n",
    "ax1.plot(curDates,np.multiply(PCRpos_nonAG,scaleScreenRatio),label='PCR positive, non-AG\\nAssumed due to symptoms')\n",
    "ax1.plot(curDates,np.multiply(PCRpos_nonAG,multFactor),label='PCR positive, non-AG\\nAssumed due to screening')\n",
    "ax1.plot(curDates,AGposPCRpos + np.multiply(PCRpos_nonAG,multFactor),label='PCR positive, non-AG, screening,\\nand AG confirmatory tests')\n",
    "\n",
    "meanWidth = 7\n",
    "ax1.plot(rnTime(curDates,meanWidth),rnMean(AGposPCRpos + np.multiply(PCRpos_nonAG,multFactor),meanWidth),'k:',label='PCR positive, non-AG, screening,\\nand AG confirmatory tests, 7 day mean')\n",
    "# ax1.plot(curDates,PCRpos - (AGposPCRpos + np.multiply(PCRpos_nonAG,multFactor)),label='PCR positive, as neighbours')\n",
    "\n",
    "foundThroughScreening = AGposPCRpos + np.multiply(PCRpos_nonAG,multFactor)\n",
    "foundThroughPCRScreening = np.multiply(PCRpos_nonAG,multFactor)\n",
    "\n",
    "\n",
    "ax2.plot(curDates,100*PCRposPct,'b.-',linewidth=0.5,markersize=2,label='PCR, total')\n",
    "ax2.plot(rnTime(curDates,meanWidth),100*rnMean(PCRposPct,meanWidth),'b',label='PCR, total, '+str(meanWidth)+' day mean')\n",
    "ax2.plot(curDates,100*AGposPct,'.-',color='xkcd:dark red',label='AG',linewidth=0.5,markersize=2)\n",
    "ax2.plot(rnTime(curDates,meanWidth),100*rnMean(AGposPct,meanWidth),color='xkcd:dark red',label='AG, '+str(meanWidth)+' day mean')\n",
    "ax2.plot(curDates,2*100*AGposPct,'.-',color='xkcd:red',label='AG, multiplied by 2',linewidth=0.5,markersize=2)\n",
    "ax2.plot(rnTime(curDates,meanWidth),2*100*rnMean(AGposPct,meanWidth),color='xkcd:red',label='AG, multiplied by 2, '+str(meanWidth)+' day mean')\n",
    "\n",
    "ax2.plot(curDates,100*np.divide(foundThroughPCRScreening,numPCR*(1-screenRatio)),'.-',linewidth=0.5,markersize=2,color='xkcd:green',label='PCR, screening')\n",
    "ax2.plot(rnTime(curDates,meanWidth),rnMean(100*np.divide(foundThroughPCRScreening,numPCR*(1-screenRatio)),meanWidth),color='xkcd:green',label='PCR, screening, '+str(meanWidth)+' day mean')\n",
    "# ax2.plot(curDates,6*100*np.divide(PCRpos - (AGposPCRpos + np.multiply(PCRpos_nonAG,multFactor)),numPCR),label='PCR positive, as neighbours')\n",
    "\n",
    "# ax2.plot(rnTime(curDates,meanWidth),100*rnMean(PCRposPct,meanWidth),'b')\n",
    "# ax2.plot(rnTime(curDates,meanWidth),rnMean(6*100*np.divide(PCRpos - (AGposPCRpos + np.multiply(PCRpos_nonAG,multFactor)),numPCR),7),':')\n",
    "\n",
    "ax1.legend(loc='center left',bbox_to_anchor = (1.0, 0.5))\n",
    "ax2.legend(loc='center left',bbox_to_anchor = (1.0, 0.5))\n",
    "ax1.grid()\n",
    "ax2.grid()\n",
    "ax1.set_ylim(bottom=0)\n",
    "ax2.set_ylim(bottom=0)\n",
    "plt.tight_layout()\n",
    "\n",
    "if saveFigures:\n",
    "    plt.savefig('figs/EstimateOfEffectOfScreening')"
   ]
  },
  {
   "cell_type": "code",
   "execution_count": 30,
   "metadata": {},
   "outputs": [
    {
     "output_type": "display_data",
     "data": {
      "text/plain": "Canvas(toolbar=Toolbar(toolitems=[('Home', 'Reset original view', 'home', 'home'), ('Back', 'Back to previous …",
      "application/vnd.jupyter.widget-view+json": {
       "version_major": 2,
       "version_minor": 0,
       "model_id": "4ab917918379469682c50fc8347f20f1"
      }
     },
     "metadata": {}
    }
   ],
   "source": [
    "fig,(ax1,ax2,ax3) = plt.subplots(3,1,sharex=True)\n",
    "\n",
    "meanWidth = 7\n",
    "\n",
    "ax1.plot(curDates,AGposPCRpos,'.-',color='xkcd:hot pink',linewidth=0.5,markersize=2,label='AG positive, PCR confirmed')\n",
    "ax1.plot(rnTime(curDates,meanWidth),rnMean(AGposPCRpos,meanWidth),color='xkcd:hot pink',label=str(meanWidth)+' day running mean')\n",
    "ax1.plot(curDates,PCRpos,'.-',color='xkcd:rust',linewidth=0.5,markersize=2,label='PCR positive, total')\n",
    "ax1.plot(rnTime(curDates,meanWidth),rnMean(PCRpos,meanWidth),color='xkcd:rust',label=str(meanWidth)+' day running mean')\n",
    "ax1.plot(curDates,PCRpos_nonAG,'g.-',linewidth=0.5,markersize=2,label='PCR positive,\\nexcluding tests to confirm AG-tests')\n",
    "ax1.plot(rnTime(curDates,meanWidth),rnMean(PCRpos_nonAG,meanWidth),'g',label=str(meanWidth)+' day running mean')\n",
    "\n",
    "\n",
    "ax2.fill_between(curDates,np.multiply(PCRpos_nonAG,multFactor),PCRpos_nonAG,color='g',label='PCR positive,\\nexcluding tests to confirm AG-tests')\n",
    "ax2.fill_between(curDates,np.multiply(PCRpos_nonAG,multFactor),color='xkcd:royal blue',label=f'PCR positive, non-AG\\nAssumed due to screening\\n({100*multFactor:.2f} %)')\n",
    "\n",
    "# ax1.plot(curDates,np.multiply(PCRpos_nonAG,scaleScreenRatio),label='PCR positive, non-AG\\nAssumed due to symptoms')\n",
    "# ax1.plot(curDates,np.multiply(PCRpos_nonAG,multFactor),label='PCR positive, non-AG\\nAssumed due to screening')\n",
    "ax3.plot(curDates,np.multiply(PCRpos_nonAG,multFactor),'.-',linewidth=0.5,markersize=2,color='xkcd:royal blue',label=f'PCR positive, non-AG\\nAssumed due to screening\\n({100*multFactor:.2f} %)')\n",
    "ax3.plot(rnTime(curDates,meanWidth),rnMean(np.multiply(PCRpos_nonAG,multFactor),meanWidth),'xkcd:royal blue',label=str(meanWidth)+' day running mean')\n",
    "\n",
    "ax3.plot(curDates,AGposPCRpos + np.multiply(PCRpos_nonAG,multFactor),'m.-',linewidth=0.5,markersize=2,label='PCR positive, non-AG, screening,\\nand AG confirmatory tests')\n",
    "\n",
    "ax3.plot(rnTime(curDates,meanWidth),rnMean(AGposPCRpos + np.multiply(PCRpos_nonAG,multFactor),meanWidth),'m',label=str(meanWidth)+' day running mean')\n",
    "\n",
    "ax1.legend(loc='center left',bbox_to_anchor = (1.0, 0.5))\n",
    "ax2.legend(loc='center left',bbox_to_anchor = (1.0, 0.5))\n",
    "ax3.legend(loc='center left',bbox_to_anchor = (1.0, 0.5))\n",
    "ax1.grid()\n",
    "ax3.grid()\n",
    "ax1.set_ylim(bottom=0)\n",
    "ax2.set_ylim(bottom=0)\n",
    "ax3.set_ylim(bottom=0)\n",
    "\n",
    "\n",
    "\n",
    "ax1.set_xlim([firstDate,lastDate-np.timedelta64(1,'D')])\n",
    "plt.tight_layout()\n",
    "\n",
    "\n",
    "if saveFigures:\n",
    "    plt.savefig('figs/EstimateOfEffectOfScreeningNew')"
   ]
  },
  {
   "cell_type": "code",
   "execution_count": 52,
   "metadata": {},
   "outputs": [
    {
     "output_type": "display_data",
     "data": {
      "text/plain": "Canvas(toolbar=Toolbar(toolitems=[('Home', 'Reset original view', 'home', 'home'), ('Back', 'Back to previous …",
      "application/vnd.jupyter.widget-view+json": {
       "version_major": 2,
       "version_minor": 0,
       "model_id": "6844f42e2681487ca11d12aafd52c422"
      }
     },
     "metadata": {}
    }
   ],
   "source": [
    "# fig,(ax1,ax2,ax3) = plt.subplots(3,1,sharex=True)\n",
    "fig,ax1 = plt.subplots(1,1,sharex=True)\n",
    "\n",
    "meanWidth = 7\n",
    "\n",
    "ax1.plot(curDates,PCRpos,'.-',color='xkcd:rust',linewidth=0.5,markersize=2,label='PCR positive, total')\n",
    "ax1.plot(rnTime(curDates,meanWidth),rnMean(PCRpos,meanWidth),color='xkcd:rust')\n",
    "ax1.plot(curDates,PCRpos_nonAG,'g.-',linewidth=0.5,markersize=2,label='PCR positive, due to only PCR')\n",
    "ax1.plot(rnTime(curDates,meanWidth),rnMean(PCRpos_nonAG,meanWidth),'g')\n",
    "ax1.plot(curDates,AGposPCRpos,'.-',color='xkcd:hot pink',linewidth=0.5,markersize=2,label='PCR positive, due to AG')\n",
    "ax1.plot(rnTime(curDates,meanWidth),rnMean(AGposPCRpos,meanWidth),color='xkcd:hot pink')\n",
    "\n",
    "\n",
    "# ax2.fill_between(curDates,np.multiply(PCRpos_nonAG,multFactor),PCRpos_nonAG,color='g',label='PCR positive,\\nexcluding tests to confirm AG-tests')\n",
    "# ax2.fill_between(curDates,np.multiply(PCRpos_nonAG,multFactor),color='xkcd:royal blue',label=f'PCR positive, non-AG\\nAssumed due to screening\\n({100*multFactor:.2f} %)')\n",
    "\n",
    "# # ax1.plot(curDates,np.multiply(PCRpos_nonAG,scaleScreenRatio),label='PCR positive, non-AG\\nAssumed due to symptoms')\n",
    "# # ax1.plot(curDates,np.multiply(PCRpos_nonAG,multFactor),label='PCR positive, non-AG\\nAssumed due to screening')\n",
    "# ax3.plot(curDates,np.multiply(PCRpos_nonAG,multFactor),'.-',linewidth=0.5,markersize=2,color='xkcd:royal blue',label=f'PCR positive, non-AG\\nAssumed due to screening\\n({100*multFactor:.2f} %)')\n",
    "# ax3.plot(rnTime(curDates,meanWidth),rnMean(np.multiply(PCRpos_nonAG,multFactor),meanWidth),'xkcd:royal blue',label=str(meanWidth)+' day running mean')\n",
    "\n",
    "# ax3.plot(curDates,AGposPCRpos + np.multiply(PCRpos_nonAG,multFactor),'m.-',linewidth=0.5,markersize=2,label='PCR positive, non-AG, screening,\\nand AG confirmatory tests')\n",
    "\n",
    "# ax3.plot(rnTime(curDates,meanWidth),rnMean(AGposPCRpos + np.multiply(PCRpos_nonAG,multFactor),meanWidth),'m',label=str(meanWidth)+' day running mean')\n",
    "\n",
    "# ax1.legend(loc='center center',bbox_to_anchor = (0.5, 1.0))\n",
    "ax1.legend(loc='upper left')\n",
    "# ax2.legend(loc='center left',bbox_to_anchor = (1.0, 0.5))\n",
    "# ax3.legend(loc='center left',bbox_to_anchor = (1.0, 0.5))\n",
    "ax1.grid()\n",
    "# ax3.grid()\n",
    "ax1.set_ylim(bottom=0,top=900)\n",
    "# ax2.set_ylim(bottom=0)\n",
    "# ax3.set_ylim(bottom=0)\n",
    "\n",
    "ax1.set_ylabel('Count')\n",
    "\n",
    "\n",
    "ax1.set_xlim([firstDate,lastDate-np.timedelta64(1,'D')])\n",
    "plt.tight_layout()\n",
    "\n",
    "\n",
    "if saveFigures:\n",
    "    plt.savefig('Viggo_Screening')"
   ]
  },
  {
   "cell_type": "code",
   "execution_count": 54,
   "metadata": {},
   "outputs": [
    {
     "output_type": "display_data",
     "data": {
      "text/plain": "Canvas(toolbar=Toolbar(toolitems=[('Home', 'Reset original view', 'home', 'home'), ('Back', 'Back to previous …",
      "application/vnd.jupyter.widget-view+json": {
       "version_major": 2,
       "version_minor": 0,
       "model_id": "28e12cdc7efc46d39997624632808bf3"
      }
     },
     "metadata": {}
    }
   ],
   "source": [
    "# fig,(ax1,ax2,ax3) = plt.subplots(3,1,sharex=True)\n",
    "fig,ax1 = plt.subplots(1,1,sharex=True)\n",
    "\n",
    "meanWidth = 7\n",
    "\n",
    "ax1.plot(curDates,PCRpos_nonAG,'g.-',linewidth=0.5,markersize=2,label='PCR positive, due to only PCR (all)')\n",
    "ax1.plot(rnTime(curDates,meanWidth),rnMean(PCRpos_nonAG,meanWidth),'g')\n",
    "\n",
    "\n",
    "# ax2.fill_between(curDates,np.multiply(PCRpos_nonAG,multFactor),PCRpos_nonAG,color='g',label='PCR positive,\\nexcluding tests to confirm AG-tests')\n",
    "ax1.plot(curDates,np.multiply(PCRpos_nonAG,multFactor),'.-',linewidth=0.5,markersize=2,color='xkcd:royal blue',label=f'PCR positive, due to only PCR (screening, {100*multFactor:.2f} %)')\n",
    "ax1.plot(rnTime(curDates,meanWidth),rnMean(np.multiply(PCRpos_nonAG,multFactor),meanWidth),color='xkcd:royal blue')\n",
    "\n",
    "# # ax1.plot(curDates,np.multiply(PCRpos_nonAG,scaleScreenRatio),label='PCR positive, non-AG\\nAssumed due to symptoms')\n",
    "# # ax1.plot(curDates,np.multiply(PCRpos_nonAG,multFactor),label='PCR positive, non-AG\\nAssumed due to screening')\n",
    "# ax3.plot(curDates,np.multiply(PCRpos_nonAG,multFactor),'.-',linewidth=0.5,markersize=2,color='xkcd:royal blue',label=f'PCR positive, non-AG\\nAssumed due to screening\\n({100*multFactor:.2f} %)')\n",
    "# ax3.plot(rnTime(curDates,meanWidth),rnMean(np.multiply(PCRpos_nonAG,multFactor),meanWidth),'xkcd:royal blue',label=str(meanWidth)+' day running mean')\n",
    "\n",
    "# ax3.plot(curDates,AGposPCRpos + np.multiply(PCRpos_nonAG,multFactor),'m.-',linewidth=0.5,markersize=2,label='PCR positive, non-AG, screening,\\nand AG confirmatory tests')\n",
    "\n",
    "# ax3.plot(rnTime(curDates,meanWidth),rnMean(AGposPCRpos + np.multiply(PCRpos_nonAG,multFactor),meanWidth),'m',label=str(meanWidth)+' day running mean')\n",
    "\n",
    "# ax1.legend(loc='center center',bbox_to_anchor = (0.5, 1.0))\n",
    "# ax1.legend()\n",
    "ax1.legend(loc='upper left')\n",
    "# ax2.legend(loc='center left',bbox_to_anchor = (1.0, 0.5))\n",
    "# ax3.legend(loc='center left',bbox_to_anchor = (1.0, 0.5))\n",
    "ax1.grid()\n",
    "# ax3.grid()\n",
    "ax1.set_ylim(bottom=0,top=900)\n",
    "# ax2.set_ylim(bottom=0)\n",
    "# ax3.set_ylim(bottom=0)\n",
    "\n",
    "ax1.set_ylabel('Count')\n",
    "\n",
    "\n",
    "ax1.set_xlim([firstDate,lastDate-np.timedelta64(1,'D')])\n",
    "plt.tight_layout()\n",
    "\n",
    "\n",
    "if saveFigures:\n",
    "    plt.savefig('Viggo_Screening2')"
   ]
  },
  {
   "cell_type": "code",
   "execution_count": 56,
   "metadata": {},
   "outputs": [
    {
     "output_type": "display_data",
     "data": {
      "text/plain": "Canvas(toolbar=Toolbar(toolitems=[('Home', 'Reset original view', 'home', 'home'), ('Back', 'Back to previous …",
      "application/vnd.jupyter.widget-view+json": {
       "version_major": 2,
       "version_minor": 0,
       "model_id": "cd4be4def3064179972d64ae56c91dd5"
      }
     },
     "metadata": {}
    }
   ],
   "source": [
    "# fig,(ax1,ax2,ax3) = plt.subplots(3,1,sharex=True)\n",
    "fig,ax1 = plt.subplots(1,1,sharex=True)\n",
    "\n",
    "meanWidth = 7\n",
    "\n",
    "# ax1.plot(curDates,PCRpos_nonAG,'g.-',linewidth=0.5,markersize=2,label='PCR positive, due to only PCR (all)')\n",
    "# ax1.plot(rnTime(curDates,meanWidth),rnMean(PCRpos_nonAG,meanWidth),'g')\n",
    "\n",
    "\n",
    "# ax2.fill_between(curDates,np.multiply(PCRpos_nonAG,multFactor),PCRpos_nonAG,color='g',label='PCR positive,\\nexcluding tests to confirm AG-tests')\n",
    "ax1.plot(curDates,np.multiply(PCRpos_nonAG,multFactor),'.-',linewidth=0.5,markersize=2,color='xkcd:royal blue',label=f'PCR positive, due to only PCR (screening, {100*multFactor:.2f} %)')\n",
    "ax1.plot(rnTime(curDates,meanWidth),rnMean(np.multiply(PCRpos_nonAG,multFactor),meanWidth),color='xkcd:royal blue')\n",
    "\n",
    "ax1.plot(curDates,AGposPCRpos + np.multiply(PCRpos_nonAG,multFactor),'m.-',linewidth=0.5,markersize=2,label=f'PCR positive, due to only PCR (screening, {100*multFactor:.2f} %) + AG confirmatory tests')\n",
    "\n",
    "ax1.plot(rnTime(curDates,meanWidth),rnMean(AGposPCRpos + np.multiply(PCRpos_nonAG,multFactor),meanWidth),'m')\n",
    "\n",
    "\n",
    "# # ax1.plot(curDates,np.multiply(PCRpos_nonAG,scaleScreenRatio),label='PCR positive, non-AG\\nAssumed due to symptoms')\n",
    "# # ax1.plot(curDates,np.multiply(PCRpos_nonAG,multFactor),label='PCR positive, non-AG\\nAssumed due to screening')\n",
    "# ax3.plot(curDates,np.multiply(PCRpos_nonAG,multFactor),'.-',linewidth=0.5,markersize=2,color='xkcd:royal blue',label=f'PCR positive, non-AG\\nAssumed due to screening\\n({100*multFactor:.2f} %)')\n",
    "# ax3.plot(rnTime(curDates,meanWidth),rnMean(np.multiply(PCRpos_nonAG,multFactor),meanWidth),'xkcd:royal blue',label=str(meanWidth)+' day running mean')\n",
    "\n",
    "# ax3.plot(curDates,AGposPCRpos + np.multiply(PCRpos_nonAG,multFactor),'m.-',linewidth=0.5,markersize=2,label='PCR positive, non-AG, screening,\\nand AG confirmatory tests')\n",
    "\n",
    "# ax3.plot(rnTime(curDates,meanWidth),rnMean(AGposPCRpos + np.multiply(PCRpos_nonAG,multFactor),meanWidth),'m',label=str(meanWidth)+' day running mean')\n",
    "\n",
    "# ax1.legend(loc='center center',bbox_to_anchor = (0.5, 1.0))\n",
    "# ax1.legend()\n",
    "ax1.legend(loc='upper left')\n",
    "# ax2.legend(loc='center left',bbox_to_anchor = (1.0, 0.5))\n",
    "# ax3.legend(loc='center left',bbox_to_anchor = (1.0, 0.5))\n",
    "ax1.grid()\n",
    "# ax3.grid()\n",
    "ax1.set_ylim(bottom=0,top=900)\n",
    "# ax2.set_ylim(bottom=0)\n",
    "# ax3.set_ylim(bottom=0)\n",
    "\n",
    "ax1.set_ylabel('Count')\n",
    "\n",
    "\n",
    "ax1.set_xlim([firstDate,lastDate-np.timedelta64(1,'D')])\n",
    "plt.tight_layout()\n",
    "\n",
    "\n",
    "if saveFigures:\n",
    "    plt.savefig('Viggo_Screening3')"
   ]
  },
  {
   "cell_type": "code",
   "execution_count": 68,
   "metadata": {},
   "outputs": [
    {
     "output_type": "display_data",
     "data": {
      "text/plain": "Canvas(toolbar=Toolbar(toolitems=[('Home', 'Reset original view', 'home', 'home'), ('Back', 'Back to previous …",
      "application/vnd.jupyter.widget-view+json": {
       "version_major": 2,
       "version_minor": 0,
       "model_id": "e5604ea8ecae4c1187814d947635a1a2"
      }
     },
     "metadata": {}
    }
   ],
   "source": [
    "# firstDate = np.datetime64('2021-02-01')\n",
    "# lastDate = np.datetime64('2021-04-24')\n",
    "\n",
    "# curDates = np.arange(firstDate,lastDate)\n",
    "\n",
    "# posAG  = df[df.Date.isin(curDates)].NewPositive \n",
    "PCRpos = dfPCR[dfPCR.Date.isin(curDates)].NewPositive.values\n",
    "numPCR = dfPCR[dfPCR.Date.isin(curDates)].Tested.values\n",
    "AGpos = df[df.Date.isin(curDates)].NewPositive.values\n",
    "numAG = df[df.Date.isin(curDates)].Tested.values\n",
    "AGposPCRpos = df2[df2.Dato.isin(curDates)].AGpos_PCRpos.values\n",
    "# PCRposPct = dfPCR[dfPCR.Date.isin(curDates)].PosPct.values\n",
    "PCRposPct = np.divide(PCRpos,numPCR)\n",
    "AGposPct = np.divide(AGpos,numAG)\n",
    "\n",
    "# Positive PCR-tests, excluding those that only got tested because of a positive AG-test\n",
    "PCRpos_nonAG = PCRpos-AGposPCRpos\n",
    "\n",
    "# Factor used for scaling with respect to number of tests\n",
    "scaleFactor = 0.7\n",
    "\n",
    "# Screening-ratio (Guess about how many tests would have been carried out in the absence of wide screening)\n",
    "screenRatio = 1/6\n",
    "\n",
    "\n",
    "scaleScreenRatio = screenRatio**scaleFactor\n",
    "\n",
    "# \n",
    "multFactor = (1-screenRatio**scaleFactor)\n",
    "\n",
    "\n",
    "fig,ax2 = plt.subplots(1,1,sharex=True)\n",
    "\n",
    "# ax1.plot(curDates,AGposPCRpos,label='AG positive, PCR confirmed')\n",
    "# ax1.plot(curDates,PCRpos,label='PCR positive, total')\n",
    "# ax1.plot(curDates,PCRpos_nonAG,label='PCR positive, non-AG')\n",
    "# ax1.plot(curDates,np.multiply(PCRpos_nonAG,scaleScreenRatio),label='PCR positive, non-AG\\nAssumed due to symptoms')\n",
    "# ax1.plot(curDates,np.multiply(PCRpos_nonAG,multFactor),label='PCR positive, non-AG\\nAssumed due to screening')\n",
    "# ax1.plot(curDates,AGposPCRpos + np.multiply(PCRpos_nonAG,multFactor),label='PCR positive, non-AG, screening,\\nand AG confirmatory tests')\n",
    "\n",
    "meanWidth = 7\n",
    "# ax1.plot(rnTime(curDates,meanWidth),rnMean(AGposPCRpos + np.multiply(PCRpos_nonAG,multFactor),meanWidth),'k:',label='PCR positive, non-AG, screening,\\nand AG confirmatory tests, 7 day mean')\n",
    "# ax1.plot(curDates,PCRpos - (AGposPCRpos + np.multiply(PCRpos_nonAG,multFactor)),label='PCR positive, as neighbours')\n",
    "\n",
    "foundThroughScreening = AGposPCRpos + np.multiply(PCRpos_nonAG,multFactor)\n",
    "foundThroughPCRScreening = np.multiply(PCRpos_nonAG,multFactor)\n",
    "\n",
    "\n",
    "# ax2.plot(curDates,100*PCRposPct,'b.-',linewidth=0.5,markersize=2,label='PCR, total')\n",
    "ax2.plot(rnTime(curDates,meanWidth),100*rnMean(PCRposPct,meanWidth),'b',label='PCR, total')\n",
    "# ax2.plot(curDates,100*AGposPct,'.-',color='xkcd:dark red',label='AG',linewidth=0.5,markersize=2)\n",
    "ax2.plot(rnTime(curDates,meanWidth),100*rnMean(AGposPct,meanWidth),color='xkcd:dark red',label='AG')\n",
    "# ax2.plot(curDates,2*100*AGposPct,'.-',color='xkcd:red',label='AG, multiplied by 2',linewidth=0.5,markersize=2)\n",
    "ax2.plot(rnTime(curDates,meanWidth),2*100*rnMean(AGposPct,meanWidth),'--',color='xkcd:red',label='AG, multiplied by 2')\n",
    "\n",
    "# ax2.plot(curDates,100*np.divide(foundThroughPCRScreening,numPCR*(1-screenRatio)),'.-',linewidth=0.5,markersize=2,color='xkcd:green',label='PCR, screening')\n",
    "ax2.plot(rnTime(curDates,meanWidth),rnMean(100*np.divide(foundThroughPCRScreening,numPCR*(1-screenRatio)),meanWidth),color='xkcd:green',label='PCR, screening')\n",
    "# ax2.plot(curDates,6*100*np.divide(PCRpos - (AGposPCRpos + np.multiply(PCRpos_nonAG,multFactor)),numPCR),label='PCR positive, as neighbours')\n",
    "\n",
    "# ax2.plot(rnTime(curDates,meanWidth),100*rnMean(PCRposPct,meanWidth),'b')\n",
    "# ax2.plot(rnTime(curDates,meanWidth),rnMean(6*100*np.divide(PCRpos - (AGposPCRpos + np.multiply(PCRpos_nonAG,multFactor)),numPCR),7),':')\n",
    "\n",
    "ax2.set_ylabel('Positive percentage [%]')\n",
    "# ax1.legend(loc='center left',bbox_to_anchor = (1.0, 0.5))\n",
    "ax2.legend(loc='upper right')\n",
    "# ax1.grid()\n",
    "ax2.grid()\n",
    "# ax1.set_ylim(bottom=0)\n",
    "ax2.set_ylim(bottom=0,top=0.8)\n",
    "ax2.set_xlim([firstDate,lastDate-np.timedelta64(1,'D')])\n",
    "plt.tight_layout()\n",
    "\n",
    "if saveFigures:\n",
    "    plt.savefig('figs/Viggo_pospct')"
   ]
  },
  {
   "cell_type": "code",
   "execution_count": 69,
   "metadata": {},
   "outputs": [
    {
     "output_type": "display_data",
     "data": {
      "text/plain": "Canvas(toolbar=Toolbar(toolitems=[('Home', 'Reset original view', 'home', 'home'), ('Back', 'Back to previous …",
      "application/vnd.jupyter.widget-view+json": {
       "version_major": 2,
       "version_minor": 0,
       "model_id": "c6320bbc8ad84317bacf1d67b7f367a2"
      }
     },
     "metadata": {}
    }
   ],
   "source": [
    "# firstDate = np.datetime64('2021-02-01')\n",
    "# lastDate = np.datetime64('2021-04-24')\n",
    "\n",
    "# curDates = np.arange(firstDate,lastDate)\n",
    "\n",
    "# posAG  = df[df.Date.isin(curDates)].NewPositive \n",
    "PCRpos = dfPCR[dfPCR.Date.isin(curDates)].NewPositive.values\n",
    "numPCR = dfPCR[dfPCR.Date.isin(curDates)].Tested.values\n",
    "AGpos = df[df.Date.isin(curDates)].NewPositive.values\n",
    "numAG = df[df.Date.isin(curDates)].Tested.values\n",
    "AGposPCRpos = df2[df2.Dato.isin(curDates)].AGpos_PCRpos.values\n",
    "# PCRposPct = dfPCR[dfPCR.Date.isin(curDates)].PosPct.values\n",
    "PCRposPct = np.divide(PCRpos,numPCR)\n",
    "AGposPct = np.divide(AGpos,numAG)\n",
    "\n",
    "# Positive PCR-tests, excluding those that only got tested because of a positive AG-test\n",
    "PCRpos_nonAG = PCRpos-AGposPCRpos\n",
    "\n",
    "# Factor used for scaling with respect to number of tests\n",
    "scaleFactor = 0.7\n",
    "\n",
    "# Screening-ratio (Guess about how many tests would have been carried out in the absence of wide screening)\n",
    "screenRatio = 1/6\n",
    "\n",
    "\n",
    "scaleScreenRatio = screenRatio**scaleFactor\n",
    "\n",
    "# \n",
    "multFactor = (1-screenRatio**scaleFactor)\n",
    "\n",
    "\n",
    "fig,ax2 = plt.subplots(1,1,sharex=True)\n",
    "\n",
    "\n",
    "meanWidth = 7\n",
    "\n",
    "foundThroughScreening = AGposPCRpos + np.multiply(PCRpos_nonAG,multFactor)\n",
    "foundThroughPCRScreening = np.multiply(PCRpos_nonAG,multFactor)\n",
    "\n",
    "\n",
    "# # ax2.plot(curDates,100*PCRposPct,'b.-',linewidth=0.5,markersize=2,label='PCR, total')\n",
    "# ax2.plot(rnTime(curDates,meanWidth),100*rnMean(PCRposPct,meanWidth),'b',label='PCR, total')\n",
    "# # ax2.plot(curDates,100*AGposPct,'.-',color='xkcd:dark red',label='AG',linewidth=0.5,markersize=2)\n",
    "# ax2.plot(rnTime(curDates,meanWidth),100*rnMean(AGposPct,meanWidth),color='xkcd:dark red',label='AG')\n",
    "# # ax2.plot(curDates,2*100*AGposPct,'.-',color='xkcd:red',label='AG, multiplied by 2',linewidth=0.5,markersize=2)\n",
    "# ax2.plot(rnTime(curDates,meanWidth),2*100*rnMean(AGposPct,meanWidth),'--',color='xkcd:red',label='AG, multiplied by 2')\n",
    "\n",
    "# ax2.plot(curDates,100*np.divide(foundThroughPCRScreening,numPCR*(1-screenRatio)),'.-',linewidth=0.5,markersize=2,color='xkcd:green',label='PCR, screening')\n",
    "ax2.plot(rnTime(curDates,meanWidth),5800000*rnMean(np.divide(foundThroughPCRScreening,numPCR*(1-screenRatio)),meanWidth),color='xkcd:green',label='PCR, screening')\n",
    "# ax2.plot(curDates,6*100*np.divide(PCRpos - (AGposPCRpos + np.multiply(PCRpos_nonAG,multFactor)),numPCR),label='PCR positive, as neighbours')\n",
    "\n",
    "# ax1.legend(loc='center left',bbox_to_anchor = (1.0, 0.5))\n",
    "ax2.legend(loc='upper right')\n",
    "# ax1.grid()\n",
    "ax2.grid()\n",
    "# ax2.set_ylim(bottom=0)\n",
    "# ax2.set_ylim(bottom=0,top=0.8)\n",
    "ax2.set_xlim([firstDate,lastDate-np.timedelta64(1,'D')])\n",
    "plt.tight_layout()\n",
    "\n",
    "if saveFigures:\n",
    "    plt.savefig('figs/Viggo_pospct2')"
   ]
  },
  {
   "cell_type": "code",
   "execution_count": null,
   "metadata": {},
   "outputs": [],
   "source": []
  },
  {
   "cell_type": "code",
   "execution_count": 29,
   "metadata": {},
   "outputs": [
    {
     "output_type": "display_data",
     "data": {
      "text/plain": "Canvas(toolbar=Toolbar(toolitems=[('Home', 'Reset original view', 'home', 'home'), ('Back', 'Back to previous …",
      "application/vnd.jupyter.widget-view+json": {
       "version_major": 2,
       "version_minor": 0,
       "model_id": "86a8047ea6db476ab544162f7c1479c2"
      }
     },
     "metadata": {}
    }
   ],
   "source": [
    "# Positiv percentage of estimate\n",
    "# First show false negative rate\n",
    "fig,(ax1,ax2) = plt.subplots(2,1,sharex=True)\n",
    "\n",
    "# ax2.plot(curDates,100*PCRposPct,'b.-',linewidth=0.5,markersize=2,label='PCR, total')\n",
    "# ax2.plot(rnTime(curDates,meanWidth),100*rnMean(PCRposPct,meanWidth),'b',label='PCR, total, '+str(meanWidth)+' day mean')\n",
    "# ax2.plot(curDates,100*AGposPct,'.-',color='xkcd:dark red',label='AG',linewidth=0.5,markersize=2)\n",
    "# ax2.plot(rnTime(curDates,meanWidth),100*rnMean(AGposPct,meanWidth),color='xkcd:dark red',label='AG, '+str(meanWidth)+' day mean')\n",
    "# ax2.plot(curDates,2*100*AGposPct,'.-',color='xkcd:red',label='AG, multiplied by 2',linewidth=0.5,markersize=2)\n",
    "# ax2.plot(rnTime(curDates,meanWidth),2*100*rnMean(AGposPct,meanWidth),color='xkcd:red',label='AG, multiplied by 2, '+str(meanWidth)+' day mean')\n",
    "\n",
    "# ax2.plot(curDates,100*np.divide(foundThroughPCRScreening,numPCR*(1-screenRatio)),'.-',linewidth=0.5,markersize=2,color='xkcd:green',label='PCR, screening')\n",
    "# ax2.plot(rnTime(curDates,meanWidth),rnMean(100*np.divide(foundThroughPCRScreening,numPCR*(1-screenRatio)),meanWidth),color='xkcd:green',label='PCR, screening, '+str(meanWidth)+' day mean')\n",
    "# ax2.plot(curDates,6*100*np.divide(PCRpos - (AGposPCRpos + np.multiply(PCRpos_nonAG,multFactor)),numPCR),label='PCR positive, as neighbours')\n",
    "\n",
    "# ax2.plot(rnTime(curDates,meanWidth),100*rnMean(PCRposPct,meanWidth),'b')\n",
    "# ax2.plot(rnTime(curDates,meanWidth),rnMean(6*100*np.divide(PCRpos - (AGposPCRpos + np.multiply(PCRpos_nonAG,multFactor)),numPCR),7),':')\n"
   ]
  },
  {
   "source": [
    "# Age stuff"
   ],
   "cell_type": "markdown",
   "metadata": {}
  },
  {
   "cell_type": "code",
   "execution_count": 13,
   "metadata": {},
   "outputs": [],
   "source": [
    "dfAge = pd.read_csv(latestdir+'/Cases_by_age.csv',delimiter = ';',dtype=str)"
   ]
  },
  {
   "cell_type": "code",
   "execution_count": 15,
   "metadata": {
    "tags": []
   },
   "outputs": [],
   "source": [
    "ssidatapath = \"ssi_data\"\n",
    "rootdir = os.getcwd() +\"/\" + ssidatapath\n",
    "\n",
    "\n",
    "conf = []\n",
    "test = []\n",
    "posp = []\n",
    "\n",
    "for subdir, dirs, files in os.walk(rootdir):\n",
    "    if not len(files) == 0:\n",
    "        latestdir = subdir\n",
    "        latestDate = pd.to_datetime(subdir[-10:])\n",
    "        curdf = pd.read_csv(latestdir+'/Cases_by_age.csv',delimiter = ';',dtype=str)\n",
    "        conf.append(curdf.iloc[9,1])\n",
    "        test.append(curdf.iloc[9,2])\n",
    "        posp.append(curdf.iloc[9,3])\n",
    "        # print(curdf)"
   ]
  },
  {
   "cell_type": "code",
   "execution_count": 14,
   "metadata": {},
   "outputs": [],
   "source": [
    "# dfAge = pd.read_csv''/Cases_by_age.csv',delimiter = ';',dtype=str)\n",
    "latestdir\n",
    "\n",
    "dfAge = pd.read_csv('ssi_data\\\\SSI_data_2021-04-06\\\\Cases_by_age.csv',delimiter = ';',dtype=str)"
   ]
  },
  {
   "cell_type": "code",
   "execution_count": 15,
   "metadata": {},
   "outputs": [
    {
     "output_type": "execute_result",
     "data": {
      "text/plain": [
       "   Aldersgruppe Antal_bekræftede_COVID-19 Antal_testede Procent_positive\n",
       "0           0-9                    17.004       411.910              4,1\n",
       "1         10-19                    36.065       608.757              5,9\n",
       "2         20-29                    43.793       679.566              6,4\n",
       "3         30-39                    32.409       596.068              5,4\n",
       "4         40-49                    34.396       637.766              5,4\n",
       "5         50-59                    33.504       651.292              5,1\n",
       "6         60-69                    18.247       487.720              3,7\n",
       "7         70-79                    11.219       369.509              3,0\n",
       "8         80-89                     5.850       140.967              4,1\n",
       "9           90+                     1.830        29.111              6,3\n",
       "10        I alt                   234.317     4.612.666              5,1"
      ],
      "text/html": "<div>\n<style scoped>\n    .dataframe tbody tr th:only-of-type {\n        vertical-align: middle;\n    }\n\n    .dataframe tbody tr th {\n        vertical-align: top;\n    }\n\n    .dataframe thead th {\n        text-align: right;\n    }\n</style>\n<table border=\"1\" class=\"dataframe\">\n  <thead>\n    <tr style=\"text-align: right;\">\n      <th></th>\n      <th>Aldersgruppe</th>\n      <th>Antal_bekræftede_COVID-19</th>\n      <th>Antal_testede</th>\n      <th>Procent_positive</th>\n    </tr>\n  </thead>\n  <tbody>\n    <tr>\n      <th>0</th>\n      <td>0-9</td>\n      <td>17.004</td>\n      <td>411.910</td>\n      <td>4,1</td>\n    </tr>\n    <tr>\n      <th>1</th>\n      <td>10-19</td>\n      <td>36.065</td>\n      <td>608.757</td>\n      <td>5,9</td>\n    </tr>\n    <tr>\n      <th>2</th>\n      <td>20-29</td>\n      <td>43.793</td>\n      <td>679.566</td>\n      <td>6,4</td>\n    </tr>\n    <tr>\n      <th>3</th>\n      <td>30-39</td>\n      <td>32.409</td>\n      <td>596.068</td>\n      <td>5,4</td>\n    </tr>\n    <tr>\n      <th>4</th>\n      <td>40-49</td>\n      <td>34.396</td>\n      <td>637.766</td>\n      <td>5,4</td>\n    </tr>\n    <tr>\n      <th>5</th>\n      <td>50-59</td>\n      <td>33.504</td>\n      <td>651.292</td>\n      <td>5,1</td>\n    </tr>\n    <tr>\n      <th>6</th>\n      <td>60-69</td>\n      <td>18.247</td>\n      <td>487.720</td>\n      <td>3,7</td>\n    </tr>\n    <tr>\n      <th>7</th>\n      <td>70-79</td>\n      <td>11.219</td>\n      <td>369.509</td>\n      <td>3,0</td>\n    </tr>\n    <tr>\n      <th>8</th>\n      <td>80-89</td>\n      <td>5.850</td>\n      <td>140.967</td>\n      <td>4,1</td>\n    </tr>\n    <tr>\n      <th>9</th>\n      <td>90+</td>\n      <td>1.830</td>\n      <td>29.111</td>\n      <td>6,3</td>\n    </tr>\n    <tr>\n      <th>10</th>\n      <td>I alt</td>\n      <td>234.317</td>\n      <td>4.612.666</td>\n      <td>5,1</td>\n    </tr>\n  </tbody>\n</table>\n</div>"
     },
     "metadata": {},
     "execution_count": 15
    }
   ],
   "source": [
    "dfAge"
   ]
  },
  {
   "cell_type": "code",
   "execution_count": 16,
   "metadata": {},
   "outputs": [],
   "source": [
    "# dfDeaths = pd.read_excel(\"C://Users//rakrpe//Documents//PandemiX//GithubRepos//PandemiX//DanskeData//DeathsAgeDK//Deaths.xlsx\")"
   ]
  },
  {
   "cell_type": "code",
   "execution_count": 17,
   "metadata": {},
   "outputs": [],
   "source": [
    "dfDeaths = pd.read_excel('DeathsAgeDK/Deaths.xlsx')"
   ]
  },
  {
   "cell_type": "code",
   "execution_count": 18,
   "metadata": {},
   "outputs": [],
   "source": [
    "dfDeaths = dfDeaths.transpose()"
   ]
  },
  {
   "cell_type": "code",
   "execution_count": 19,
   "metadata": {},
   "outputs": [],
   "source": [
    "dfDeaths.columns = dfDeaths.iloc[0]"
   ]
  },
  {
   "cell_type": "code",
   "execution_count": 20,
   "metadata": {},
   "outputs": [],
   "source": [
    "dfDeaths = dfDeaths.drop(['Aldersgruppe']) "
   ]
  },
  {
   "cell_type": "code",
   "execution_count": 21,
   "metadata": {},
   "outputs": [],
   "source": [
    "# plt.figure()\n",
    "# plt.plot(dfDeaths)\n",
    "\n",
    "\n",
    "curDates =  pd.to_datetime(dfDeaths.index,format='%d_%m_%Y')"
   ]
  },
  {
   "cell_type": "code",
   "execution_count": 22,
   "metadata": {},
   "outputs": [
    {
     "output_type": "display_data",
     "data": {
      "text/plain": "Canvas(toolbar=Toolbar(toolitems=[('Home', 'Reset original view', 'home', 'home'), ('Back', 'Back to previous …",
      "application/vnd.jupyter.widget-view+json": {
       "version_major": 2,
       "version_minor": 0,
       "model_id": "275f7150c55b43b7b2b87bdc326d9866"
      }
     },
     "metadata": {}
    }
   ],
   "source": [
    "# plt.figure()\n",
    "# fig,(ax1,ax2) = plt.subplots(2,1,sharex=True)\n",
    "fig,(ax1,ax2,ax3) = plt.subplots(3,1,sharex=True)\n",
    "\n",
    "# for colNames in dfDeaths.columns[:-1]:\n",
    "for colNames in dfDeaths.columns:\n",
    "    # plt.plot(curDates,dfDeaths['0-9'])\n",
    "    ax1.plot(curDates,dfDeaths[colNames],label=colNames)\n",
    "    ax2.plot(curDates[0:-1],np.diff(dfDeaths[colNames]),label=colNames)\n",
    "    ax3.plot(curDates[0:-1],np.diff(dfDeaths[colNames]),label=colNames)\n",
    "\n",
    "ax2.legend(loc='center left',bbox_to_anchor = (1.0, 0.5))\n",
    "ax1.grid()\n",
    "ax2.grid()\n",
    "ax3.grid()\n",
    "\n",
    "ax1.set_ylim(bottom=0)\n",
    "ax2.set_ylim(bottom=0)\n",
    "ax3.set_ylim(bottom=0,top=10)\n",
    "\n",
    "# ax1.set_xlim(left=curDates[0],right=date.today())\n",
    "ax1.set_xlim(right=date.today())\n",
    "ax1.xaxis.set_major_formatter(mdates.DateFormatter('%d %b\\n%Y'))\n",
    "\n",
    "ax1.set_ylabel('Kumulative dødsfald')\n",
    "ax2.set_ylabel('Dødsfald')\n",
    "ax3.set_ylabel('Dødsfald')\n",
    "\n",
    "plt.tight_layout()\n",
    "\n",
    "if saveFigures:\n",
    "    fig.savefig('figs/DeathsByAge')"
   ]
  },
  {
   "cell_type": "code",
   "execution_count": 36,
   "metadata": {},
   "outputs": [
    {
     "output_type": "display_data",
     "data": {
      "text/plain": "Canvas(toolbar=Toolbar(toolitems=[('Home', 'Reset original view', 'home', 'home'), ('Back', 'Back to previous …",
      "application/vnd.jupyter.widget-view+json": {
       "version_major": 2,
       "version_minor": 0,
       "model_id": "1eeb3373b3064378a72cc88ef5ec5df4"
      }
     },
     "metadata": {}
    },
    {
     "output_type": "error",
     "ename": "TypeError",
     "evalue": "ufunc 'add' output (typecode 'O') could not be coerced to provided output parameter (typecode 'd') according to the casting rule ''same_kind''",
     "traceback": [
      "\u001b[1;31m---------------------------------------------------------------------------\u001b[0m",
      "\u001b[1;31mTypeError\u001b[0m                                 Traceback (most recent call last)",
      "\u001b[1;32m<ipython-input-36-4dc8c831790a>\u001b[0m in \u001b[0;36m<module>\u001b[1;34m\u001b[0m\n\u001b[0;32m      6\u001b[0m \u001b[1;32mfor\u001b[0m \u001b[0mcolNames\u001b[0m \u001b[1;32min\u001b[0m \u001b[0mdfDeaths\u001b[0m\u001b[1;33m.\u001b[0m\u001b[0mcolumns\u001b[0m\u001b[1;33m:\u001b[0m\u001b[1;33m\u001b[0m\u001b[1;33m\u001b[0m\u001b[0m\n\u001b[0;32m      7\u001b[0m \u001b[1;33m\u001b[0m\u001b[0m\n\u001b[1;32m----> 8\u001b[1;33m     \u001b[0mcurVals\u001b[0m \u001b[1;33m+=\u001b[0m \u001b[0mnp\u001b[0m\u001b[1;33m.\u001b[0m\u001b[0mdiff\u001b[0m\u001b[1;33m(\u001b[0m\u001b[0mdfDeaths\u001b[0m\u001b[1;33m[\u001b[0m\u001b[0mcolNames\u001b[0m\u001b[1;33m]\u001b[0m\u001b[1;33m)\u001b[0m\u001b[1;33m\u001b[0m\u001b[1;33m\u001b[0m\u001b[0m\n\u001b[0m\u001b[0;32m      9\u001b[0m     \u001b[0max1\u001b[0m\u001b[1;33m.\u001b[0m\u001b[0mplot\u001b[0m\u001b[1;33m(\u001b[0m\u001b[0mcurDates\u001b[0m\u001b[1;33m[\u001b[0m\u001b[1;36m0\u001b[0m\u001b[1;33m:\u001b[0m\u001b[1;33m-\u001b[0m\u001b[1;36m1\u001b[0m\u001b[1;33m]\u001b[0m\u001b[1;33m,\u001b[0m\u001b[0mcurVals\u001b[0m\u001b[1;33m)\u001b[0m\u001b[1;33m\u001b[0m\u001b[1;33m\u001b[0m\u001b[0m\n\u001b[0;32m     10\u001b[0m \u001b[1;33m\u001b[0m\u001b[0m\n",
      "\u001b[1;31mTypeError\u001b[0m: ufunc 'add' output (typecode 'O') could not be coerced to provided output parameter (typecode 'd') according to the casting rule ''same_kind''"
     ]
    }
   ],
   "source": [
    "# plt.figure()\n",
    "# fig,(ax1,ax2) = plt.subplots(2,1,sharex=True)\n",
    "fig,ax1 = plt.subplots(1,1,sharex=True)\n",
    "\n",
    "curVals = np.zeros(curDates[0:-1].shape)\n",
    "for colNames in dfDeaths.columns:\n",
    "\n",
    "    curVals += np.diff(dfDeaths[colNames])\n",
    "    ax1.plot(curDates[0:-1],curVals)\n",
    "\n",
    "    # plt.plot(curDates,dfDeaths['0-9'])\n",
    "    # ax1.plot(curDates,dfDeaths[colNames],label=colNames)\n",
    "\n",
    "    # ax2.plot(curDates[0:-1],np.diff(dfDeaths[colNames]),label=colNames)\n",
    "    # ax3.plot(curDates[0:-1],np.diff(dfDeaths[colNames]),label=colNames)\n",
    "\n",
    "ax1.legend(loc='center left',bbox_to_anchor = (1.0, 0.5))\n",
    "ax1.grid()\n",
    "\n",
    "ax1.set_ylim(bottom=0)\n",
    "\n",
    "# ax1.set_xlim(left=curDates[0],right=date.today())\n",
    "ax1.set_xlim(right=date.today())\n",
    "ax1.xaxis.set_major_formatter(mdates.DateFormatter('%d %b\\n%Y'))\n",
    "\n",
    "ax1.set_ylabel('Kumulative dødsfald')\n",
    "# ax2.set_ylabel('Dødsfald')\n",
    "# ax3.set_ylabel('Dødsfald')\n",
    "\n",
    "plt.tight_layout()\n",
    "\n",
    "# if saveFigures:\n",
    "#     fig.savefig('figs/DeathsByAge')"
   ]
  },
  {
   "cell_type": "code",
   "execution_count": 31,
   "metadata": {},
   "outputs": [
    {
     "output_type": "execute_result",
     "data": {
      "text/plain": [
       "Aldersgruppe 0-9 10-19 20-29 30-39 40-49 50-59 60-69 70-79 80-89  90+ I alt\n",
       "10_11_2020     0     0     0     1     0    20    68   211   292  158   750\n",
       "17_11_2020     0     0     0     1     0    20    73   216   295  163   768\n",
       "24_11_2020     0     0     0     1     0    22    75   225   303  171   797\n",
       "01_12_2020     0     0     0     2     0    26    76   240   320  182   846\n",
       "08_12_2020     0     0     0     3     0    26    81   254   346  191   901\n",
       "15_12_2020     0     0     0     3     0    29    83   267   372  207   961\n",
       "22_12_2020     0     0     0     3     0    33    87   292   420  235  1070\n",
       "29_12_2020     0     0     0     3     0    34   106   329   480  274  1226\n",
       "05_01_2021     0     0     0     3     2    37   128   378   549  323  1420\n",
       "12_01_2021     0     0     0     5     4    41   145   432   628  368  1623\n",
       "19_01_2021     0     0     0     5     4    43   160   486   716  423  1837\n",
       "26_01_2021     0     0     0     5     4    46   171   528   809  467  2030\n",
       "02_02_2021     1     0     0     5     4    48   177   556   874  495  2160\n",
       "09_02_2021     1     0     0     5     5    48   185   580   906  514  2244\n",
       "16_02_2021     1     0     0     5     6    49   188   597   936  526  2308\n",
       "23_02_2021     1     0     0     6     6    51   192   609   945  533  2343\n",
       "02_03_2021     1     0     0     6     6    51   192   616   953  542  2367\n",
       "09_03_2021     1     0     0     6     6    53   195   619   958  543  2381\n",
       "15_03_2021     1     0     0     6     7    53   195   624   964  545  2395\n",
       "23_03_2021     1     0     0     6     7    53   197   628   965  546  2403\n",
       "30_03_2021     1     0     0     6     7    54   198   633   969  549  2417\n",
       "06_04_2021     1     0     0     6     7    54   201   637   976  550  2432\n",
       "13_04_2021     1     0     0     6     8    57   203   642   978  551  2446\n",
       "20_04_2021     1     0     0     6     7    59   205   647   984  554  2463\n",
       "27_04_2021     1     0     0     7     8    60   207   651   988  557  2479"
      ],
      "text/html": "<div>\n<style scoped>\n    .dataframe tbody tr th:only-of-type {\n        vertical-align: middle;\n    }\n\n    .dataframe tbody tr th {\n        vertical-align: top;\n    }\n\n    .dataframe thead th {\n        text-align: right;\n    }\n</style>\n<table border=\"1\" class=\"dataframe\">\n  <thead>\n    <tr style=\"text-align: right;\">\n      <th>Aldersgruppe</th>\n      <th>0-9</th>\n      <th>10-19</th>\n      <th>20-29</th>\n      <th>30-39</th>\n      <th>40-49</th>\n      <th>50-59</th>\n      <th>60-69</th>\n      <th>70-79</th>\n      <th>80-89</th>\n      <th>90+</th>\n      <th>I alt</th>\n    </tr>\n  </thead>\n  <tbody>\n    <tr>\n      <th>10_11_2020</th>\n      <td>0</td>\n      <td>0</td>\n      <td>0</td>\n      <td>1</td>\n      <td>0</td>\n      <td>20</td>\n      <td>68</td>\n      <td>211</td>\n      <td>292</td>\n      <td>158</td>\n      <td>750</td>\n    </tr>\n    <tr>\n      <th>17_11_2020</th>\n      <td>0</td>\n      <td>0</td>\n      <td>0</td>\n      <td>1</td>\n      <td>0</td>\n      <td>20</td>\n      <td>73</td>\n      <td>216</td>\n      <td>295</td>\n      <td>163</td>\n      <td>768</td>\n    </tr>\n    <tr>\n      <th>24_11_2020</th>\n      <td>0</td>\n      <td>0</td>\n      <td>0</td>\n      <td>1</td>\n      <td>0</td>\n      <td>22</td>\n      <td>75</td>\n      <td>225</td>\n      <td>303</td>\n      <td>171</td>\n      <td>797</td>\n    </tr>\n    <tr>\n      <th>01_12_2020</th>\n      <td>0</td>\n      <td>0</td>\n      <td>0</td>\n      <td>2</td>\n      <td>0</td>\n      <td>26</td>\n      <td>76</td>\n      <td>240</td>\n      <td>320</td>\n      <td>182</td>\n      <td>846</td>\n    </tr>\n    <tr>\n      <th>08_12_2020</th>\n      <td>0</td>\n      <td>0</td>\n      <td>0</td>\n      <td>3</td>\n      <td>0</td>\n      <td>26</td>\n      <td>81</td>\n      <td>254</td>\n      <td>346</td>\n      <td>191</td>\n      <td>901</td>\n    </tr>\n    <tr>\n      <th>15_12_2020</th>\n      <td>0</td>\n      <td>0</td>\n      <td>0</td>\n      <td>3</td>\n      <td>0</td>\n      <td>29</td>\n      <td>83</td>\n      <td>267</td>\n      <td>372</td>\n      <td>207</td>\n      <td>961</td>\n    </tr>\n    <tr>\n      <th>22_12_2020</th>\n      <td>0</td>\n      <td>0</td>\n      <td>0</td>\n      <td>3</td>\n      <td>0</td>\n      <td>33</td>\n      <td>87</td>\n      <td>292</td>\n      <td>420</td>\n      <td>235</td>\n      <td>1070</td>\n    </tr>\n    <tr>\n      <th>29_12_2020</th>\n      <td>0</td>\n      <td>0</td>\n      <td>0</td>\n      <td>3</td>\n      <td>0</td>\n      <td>34</td>\n      <td>106</td>\n      <td>329</td>\n      <td>480</td>\n      <td>274</td>\n      <td>1226</td>\n    </tr>\n    <tr>\n      <th>05_01_2021</th>\n      <td>0</td>\n      <td>0</td>\n      <td>0</td>\n      <td>3</td>\n      <td>2</td>\n      <td>37</td>\n      <td>128</td>\n      <td>378</td>\n      <td>549</td>\n      <td>323</td>\n      <td>1420</td>\n    </tr>\n    <tr>\n      <th>12_01_2021</th>\n      <td>0</td>\n      <td>0</td>\n      <td>0</td>\n      <td>5</td>\n      <td>4</td>\n      <td>41</td>\n      <td>145</td>\n      <td>432</td>\n      <td>628</td>\n      <td>368</td>\n      <td>1623</td>\n    </tr>\n    <tr>\n      <th>19_01_2021</th>\n      <td>0</td>\n      <td>0</td>\n      <td>0</td>\n      <td>5</td>\n      <td>4</td>\n      <td>43</td>\n      <td>160</td>\n      <td>486</td>\n      <td>716</td>\n      <td>423</td>\n      <td>1837</td>\n    </tr>\n    <tr>\n      <th>26_01_2021</th>\n      <td>0</td>\n      <td>0</td>\n      <td>0</td>\n      <td>5</td>\n      <td>4</td>\n      <td>46</td>\n      <td>171</td>\n      <td>528</td>\n      <td>809</td>\n      <td>467</td>\n      <td>2030</td>\n    </tr>\n    <tr>\n      <th>02_02_2021</th>\n      <td>1</td>\n      <td>0</td>\n      <td>0</td>\n      <td>5</td>\n      <td>4</td>\n      <td>48</td>\n      <td>177</td>\n      <td>556</td>\n      <td>874</td>\n      <td>495</td>\n      <td>2160</td>\n    </tr>\n    <tr>\n      <th>09_02_2021</th>\n      <td>1</td>\n      <td>0</td>\n      <td>0</td>\n      <td>5</td>\n      <td>5</td>\n      <td>48</td>\n      <td>185</td>\n      <td>580</td>\n      <td>906</td>\n      <td>514</td>\n      <td>2244</td>\n    </tr>\n    <tr>\n      <th>16_02_2021</th>\n      <td>1</td>\n      <td>0</td>\n      <td>0</td>\n      <td>5</td>\n      <td>6</td>\n      <td>49</td>\n      <td>188</td>\n      <td>597</td>\n      <td>936</td>\n      <td>526</td>\n      <td>2308</td>\n    </tr>\n    <tr>\n      <th>23_02_2021</th>\n      <td>1</td>\n      <td>0</td>\n      <td>0</td>\n      <td>6</td>\n      <td>6</td>\n      <td>51</td>\n      <td>192</td>\n      <td>609</td>\n      <td>945</td>\n      <td>533</td>\n      <td>2343</td>\n    </tr>\n    <tr>\n      <th>02_03_2021</th>\n      <td>1</td>\n      <td>0</td>\n      <td>0</td>\n      <td>6</td>\n      <td>6</td>\n      <td>51</td>\n      <td>192</td>\n      <td>616</td>\n      <td>953</td>\n      <td>542</td>\n      <td>2367</td>\n    </tr>\n    <tr>\n      <th>09_03_2021</th>\n      <td>1</td>\n      <td>0</td>\n      <td>0</td>\n      <td>6</td>\n      <td>6</td>\n      <td>53</td>\n      <td>195</td>\n      <td>619</td>\n      <td>958</td>\n      <td>543</td>\n      <td>2381</td>\n    </tr>\n    <tr>\n      <th>15_03_2021</th>\n      <td>1</td>\n      <td>0</td>\n      <td>0</td>\n      <td>6</td>\n      <td>7</td>\n      <td>53</td>\n      <td>195</td>\n      <td>624</td>\n      <td>964</td>\n      <td>545</td>\n      <td>2395</td>\n    </tr>\n    <tr>\n      <th>23_03_2021</th>\n      <td>1</td>\n      <td>0</td>\n      <td>0</td>\n      <td>6</td>\n      <td>7</td>\n      <td>53</td>\n      <td>197</td>\n      <td>628</td>\n      <td>965</td>\n      <td>546</td>\n      <td>2403</td>\n    </tr>\n    <tr>\n      <th>30_03_2021</th>\n      <td>1</td>\n      <td>0</td>\n      <td>0</td>\n      <td>6</td>\n      <td>7</td>\n      <td>54</td>\n      <td>198</td>\n      <td>633</td>\n      <td>969</td>\n      <td>549</td>\n      <td>2417</td>\n    </tr>\n    <tr>\n      <th>06_04_2021</th>\n      <td>1</td>\n      <td>0</td>\n      <td>0</td>\n      <td>6</td>\n      <td>7</td>\n      <td>54</td>\n      <td>201</td>\n      <td>637</td>\n      <td>976</td>\n      <td>550</td>\n      <td>2432</td>\n    </tr>\n    <tr>\n      <th>13_04_2021</th>\n      <td>1</td>\n      <td>0</td>\n      <td>0</td>\n      <td>6</td>\n      <td>8</td>\n      <td>57</td>\n      <td>203</td>\n      <td>642</td>\n      <td>978</td>\n      <td>551</td>\n      <td>2446</td>\n    </tr>\n    <tr>\n      <th>20_04_2021</th>\n      <td>1</td>\n      <td>0</td>\n      <td>0</td>\n      <td>6</td>\n      <td>7</td>\n      <td>59</td>\n      <td>205</td>\n      <td>647</td>\n      <td>984</td>\n      <td>554</td>\n      <td>2463</td>\n    </tr>\n    <tr>\n      <th>27_04_2021</th>\n      <td>1</td>\n      <td>0</td>\n      <td>0</td>\n      <td>7</td>\n      <td>8</td>\n      <td>60</td>\n      <td>207</td>\n      <td>651</td>\n      <td>988</td>\n      <td>557</td>\n      <td>2479</td>\n    </tr>\n  </tbody>\n</table>\n</div>"
     },
     "metadata": {},
     "execution_count": 31
    }
   ],
   "source": [
    "# np.diff(dfDeaths[colNames])\n",
    "# curVals\n",
    "dfDeaths"
   ]
  },
  {
   "cell_type": "code",
   "execution_count": 30,
   "metadata": {},
   "outputs": [
    {
     "output_type": "execute_result",
     "data": {
      "text/plain": [
       "   Aldersgruppe Antal_bekræftede_COVID-19 Antal_testede Procent_positive\n",
       "0           0-9                    17.004       411.910              4,1\n",
       "1         10-19                    36.065       608.757              5,9\n",
       "2         20-29                    43.793       679.566              6,4\n",
       "3         30-39                    32.409       596.068              5,4\n",
       "4         40-49                    34.396       637.766              5,4\n",
       "5         50-59                    33.504       651.292              5,1\n",
       "6         60-69                    18.247       487.720              3,7\n",
       "7         70-79                    11.219       369.509              3,0\n",
       "8         80-89                     5.850       140.967              4,1\n",
       "9           90+                     1.830        29.111              6,3\n",
       "10        I alt                   234.317     4.612.666              5,1"
      ],
      "text/html": "<div>\n<style scoped>\n    .dataframe tbody tr th:only-of-type {\n        vertical-align: middle;\n    }\n\n    .dataframe tbody tr th {\n        vertical-align: top;\n    }\n\n    .dataframe thead th {\n        text-align: right;\n    }\n</style>\n<table border=\"1\" class=\"dataframe\">\n  <thead>\n    <tr style=\"text-align: right;\">\n      <th></th>\n      <th>Aldersgruppe</th>\n      <th>Antal_bekræftede_COVID-19</th>\n      <th>Antal_testede</th>\n      <th>Procent_positive</th>\n    </tr>\n  </thead>\n  <tbody>\n    <tr>\n      <th>0</th>\n      <td>0-9</td>\n      <td>17.004</td>\n      <td>411.910</td>\n      <td>4,1</td>\n    </tr>\n    <tr>\n      <th>1</th>\n      <td>10-19</td>\n      <td>36.065</td>\n      <td>608.757</td>\n      <td>5,9</td>\n    </tr>\n    <tr>\n      <th>2</th>\n      <td>20-29</td>\n      <td>43.793</td>\n      <td>679.566</td>\n      <td>6,4</td>\n    </tr>\n    <tr>\n      <th>3</th>\n      <td>30-39</td>\n      <td>32.409</td>\n      <td>596.068</td>\n      <td>5,4</td>\n    </tr>\n    <tr>\n      <th>4</th>\n      <td>40-49</td>\n      <td>34.396</td>\n      <td>637.766</td>\n      <td>5,4</td>\n    </tr>\n    <tr>\n      <th>5</th>\n      <td>50-59</td>\n      <td>33.504</td>\n      <td>651.292</td>\n      <td>5,1</td>\n    </tr>\n    <tr>\n      <th>6</th>\n      <td>60-69</td>\n      <td>18.247</td>\n      <td>487.720</td>\n      <td>3,7</td>\n    </tr>\n    <tr>\n      <th>7</th>\n      <td>70-79</td>\n      <td>11.219</td>\n      <td>369.509</td>\n      <td>3,0</td>\n    </tr>\n    <tr>\n      <th>8</th>\n      <td>80-89</td>\n      <td>5.850</td>\n      <td>140.967</td>\n      <td>4,1</td>\n    </tr>\n    <tr>\n      <th>9</th>\n      <td>90+</td>\n      <td>1.830</td>\n      <td>29.111</td>\n      <td>6,3</td>\n    </tr>\n    <tr>\n      <th>10</th>\n      <td>I alt</td>\n      <td>234.317</td>\n      <td>4.612.666</td>\n      <td>5,1</td>\n    </tr>\n  </tbody>\n</table>\n</div>"
     },
     "metadata": {},
     "execution_count": 30
    }
   ],
   "source": [
    "dfAge"
   ]
  },
  {
   "cell_type": "code",
   "execution_count": 29,
   "metadata": {},
   "outputs": [
    {
     "output_type": "display_data",
     "data": {
      "text/plain": "Canvas(toolbar=Toolbar(toolitems=[('Home', 'Reset original view', 'home', 'home'), ('Back', 'Back to previous …",
      "application/vnd.jupyter.widget-view+json": {
       "version_major": 2,
       "version_minor": 0,
       "model_id": "313a893706044db190bf61e58a7b13d4"
      }
     },
     "metadata": {}
    }
   ],
   "source": [
    "fig,(ax1,ax2) = plt.subplots(2,1,sharex=True)\n",
    "\n",
    "\n",
    "ax1.plot(curDates,dfDeaths['60-69'])\n",
    "\n",
    "plt.tight_layout()"
   ]
  },
  {
   "cell_type": "code",
   "execution_count": 33,
   "metadata": {},
   "outputs": [
    {
     "output_type": "execute_result",
     "data": {
      "text/plain": [
       "DatetimeIndex(['2020-11-10', '2020-11-17', '2020-11-24', '2020-12-01',\n",
       "               '2020-12-08', '2020-12-15', '2020-12-22', '2020-12-29',\n",
       "               '2021-01-05', '2021-01-12', '2021-01-19', '2021-01-26',\n",
       "               '2021-02-02', '2021-02-09', '2021-02-16', '2021-02-23',\n",
       "               '2021-03-02', '2021-03-09', '2021-03-15', '2021-03-23',\n",
       "               '2021-03-30', '2021-04-06', '2021-04-13', '2021-04-20',\n",
       "               '2021-04-27'],\n",
       "              dtype='datetime64[ns]', freq=None)"
      ]
     },
     "metadata": {},
     "execution_count": 33
    }
   ],
   "source": [
    "curDates"
   ]
  }
 ]
}