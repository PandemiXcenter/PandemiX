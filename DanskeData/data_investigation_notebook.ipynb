{
 "metadata": {
  "language_info": {
   "codemirror_mode": {
    "name": "ipython",
    "version": 3
   },
   "file_extension": ".py",
   "mimetype": "text/x-python",
   "name": "python",
   "nbconvert_exporter": "python",
   "pygments_lexer": "ipython3",
   "version": "3.8.8"
  },
  "orig_nbformat": 2,
  "kernelspec": {
   "name": "python388jvsc74a57bd0c031fd63bd977d199cd6020c30a19695eacbb638d100e0b8a5ea53080ed74a9a",
   "display_name": "Python 3.8.8 64-bit ('main': conda)"
  }
 },
 "nbformat": 4,
 "nbformat_minor": 2,
 "cells": [
  {
   "cell_type": "code",
   "execution_count": 4,
   "metadata": {},
   "outputs": [
    {
     "output_type": "stream",
     "name": "stdout",
     "text": [
      "saveFigures is set to: True\nDone loading packages\n"
     ]
    }
   ],
   "source": [
    "# Main notebook for playing around looking at different things in data\n",
    "import numpy as np\n",
    "import pandas as pd\n",
    "pd.set_option('display.max_rows', 500)\n",
    "pd.set_option('display.min_rows', 50)\n",
    "\n",
    "\n",
    "import matplotlib.pyplot as plt\n",
    "%matplotlib widget\n",
    "plt.rcParams['figure.figsize'] = (12,8)\n",
    "plt.rcParams[\"image.cmap\"] = \"Dark2\"\n",
    "plt.rcParams['axes.prop_cycle'] = plt.cycler(color=plt.cm.Dark2.colors)\n",
    "plt.rcParams['lines.markersize'] = 10\n",
    "%matplotlib widget\n",
    "# plt.style.use('ggplot')\n",
    "import matplotlib.colors as colors\n",
    "# cmap = plt.cm.get_cmap('Dark2',len(ageGroups))\n",
    "from matplotlib import cm # Colormaps\n",
    "\n",
    "import locale\n",
    "import matplotlib.dates as mdates\n",
    "locale.setlocale(locale.LC_TIME,\"Danish\")\n",
    "# ax = plt.gca()\n",
    "# ax1.xaxis.set_major_formatter(mdates.DateFormatter('%b\\n%Y'))\n",
    "# # ax.xaxis.set_major_formatter(mdates.DateFormatter('%Y \\n %B'))\n",
    "\n",
    "import os\n",
    "# import csv\n",
    "import math\n",
    "\n",
    "\n",
    "from datetime import date\n",
    "\n",
    "\n",
    "saveFigures = True\n",
    "print('saveFigures is set to: '+str(saveFigures))\n",
    "\n",
    "print('Done loading packages')\n",
    "\n",
    "def rnMean(data,meanWidth):\n",
    "    return np.convolve(data, np.ones(meanWidth)/meanWidth, mode='valid')\n",
    "def rnTime(t,meanWidth):\n",
    "    return t[math.floor(meanWidth/2):-math.ceil(meanWidth/2)+1]\n"
   ]
  },
  {
   "cell_type": "code",
   "execution_count": 5,
   "metadata": {},
   "outputs": [
    {
     "output_type": "stream",
     "name": "stdout",
     "text": [
      "d:\\Pandemix\\Github\\DanskeData/ssi_data\\SSI_data_2021-04-26\n2021-04-26 00:00:00\n"
     ]
    }
   ],
   "source": [
    "ssidatapath = \"ssi_data\"\n",
    "rootdir = os.getcwd() +\"/\" + ssidatapath\n",
    "\n",
    "\n",
    "for subdir, dirs, files in os.walk(rootdir):\n",
    "    if not len(files) == 0:\n",
    "        latestdir = subdir\n",
    "        latestDate = pd.to_datetime(subdir[-10:])\n",
    "\n",
    "print(latestdir)\n",
    "print(latestDate)"
   ]
  },
  {
   "cell_type": "code",
   "execution_count": 6,
   "metadata": {},
   "outputs": [],
   "source": [
    "# Load the data\n",
    "fulldfPCR = pd.read_csv(latestdir+'/Test_pos_over_time.csv',delimiter = ';',dtype=str)\n",
    "fulldf = pd.read_csv(latestdir+'/Test_pos_over_time_antigen.csv',delimiter = ';',dtype=str)\n",
    "\n",
    "# Cut out the last two rows of summary numbers\n",
    "dfPCR = fulldfPCR.iloc[:-2,:].copy()\n",
    "df = fulldf.iloc[:-2,:].copy()"
   ]
  },
  {
   "cell_type": "code",
   "execution_count": 9,
   "metadata": {},
   "outputs": [],
   "source": [
    "dfPCR[\"PosPct\"] = pd.to_numeric(dfPCR[\"PosPct\"].astype(str).apply(lambda x: x.replace(',','.')))\n",
    "dfPCR[\"Date\"] = dfPCR[\"Date\"].astype('datetime64[D]')\n",
    "df[\"PosPct\"] = pd.to_numeric(df[\"PosPct\"].astype(str).apply(lambda x: x.replace(',','.')))\n",
    "df[\"Date\"] = df[\"Date\"].astype('datetime64[D]')\n",
    "\n",
    "rows_to_fix_period_in = [\"NewPositive\",\"NotPrevPos\",\"PrevPos\",\"Tested\",\"Tested_kumulativ\"]\n",
    "for name in rows_to_fix_period_in:\n",
    "    df[name] = pd.to_numeric(df[name].astype(str).apply(lambda x: x.replace('.','')))\n",
    "    dfPCR[name] = pd.to_numeric(dfPCR[name].astype(str).apply(lambda x: x.replace('.','')))\n"
   ]
  },
  {
   "cell_type": "code",
   "execution_count": 7,
   "metadata": {},
   "outputs": [],
   "source": [
    "# Load the data\n",
    "df2 = pd.read_csv(latestdir+'/Antigentests_pr_dag.csv',delimiter = ';')\n",
    "\n",
    "# # Remove the first two rows which are from april 2020\n",
    "# df2 = df2.iloc[2:,:].copy()"
   ]
  },
  {
   "cell_type": "code",
   "execution_count": 10,
   "metadata": {},
   "outputs": [],
   "source": [
    "df2[\"Dato\"] = df2[\"Dato\"].astype('datetime64[D]')\n",
    "df2[\"Andel_AGpos_PCRkonf_pct\"] = pd.to_numeric(df2[\"Andel_AGpos_PCRkonf_pct\"].astype(str).apply(lambda x: x.replace(',','.')))\n",
    "df2[\"Andel_AGminusPCRkonf_pct\"] = pd.to_numeric(df2[\"Andel_AGminusPCRkonf_pct\"].astype(str).apply(lambda x: x.replace(',','.')))"
   ]
  },
  {
   "cell_type": "code",
   "execution_count": 20,
   "metadata": {},
   "outputs": [
    {
     "output_type": "execute_result",
     "data": {
      "text/plain": [
       "         Dato  AG_testede  AG_pos  AGpos_PCRkonf  Andel_AGpos_PCRkonf_pct  \\\n",
       "76 2021-04-18      145624     265            247                93.207547   \n",
       "77 2021-04-19      278449     312            276                88.461538   \n",
       "78 2021-04-20      249677     292            262                89.726027   \n",
       "79 2021-04-21      265130     281            257                91.459075   \n",
       "80 2021-04-22      331566     261            239                91.570881   \n",
       "\n",
       "    AGpos_minusPCRkonf  Andel_AGminusPCRkonf_pct  AGpos_PCRpos  AGposPCRneg  \\\n",
       "76                  18                  6.792453           155           89   \n",
       "77                  36                 11.538462           151          122   \n",
       "78                  30                 10.273973           147          110   \n",
       "79                  24                  8.540925           136          119   \n",
       "80                  22                  8.429119           114          123   \n",
       "\n",
       "    AGnegPCRpos  AGnegPCRneg  \n",
       "76          152         7942  \n",
       "77          166        12092  \n",
       "78          144        11779  \n",
       "79          150        14042  \n",
       "80          125        16152  "
      ],
      "text/html": "<div>\n<style scoped>\n    .dataframe tbody tr th:only-of-type {\n        vertical-align: middle;\n    }\n\n    .dataframe tbody tr th {\n        vertical-align: top;\n    }\n\n    .dataframe thead th {\n        text-align: right;\n    }\n</style>\n<table border=\"1\" class=\"dataframe\">\n  <thead>\n    <tr style=\"text-align: right;\">\n      <th></th>\n      <th>Dato</th>\n      <th>AG_testede</th>\n      <th>AG_pos</th>\n      <th>AGpos_PCRkonf</th>\n      <th>Andel_AGpos_PCRkonf_pct</th>\n      <th>AGpos_minusPCRkonf</th>\n      <th>Andel_AGminusPCRkonf_pct</th>\n      <th>AGpos_PCRpos</th>\n      <th>AGposPCRneg</th>\n      <th>AGnegPCRpos</th>\n      <th>AGnegPCRneg</th>\n    </tr>\n  </thead>\n  <tbody>\n    <tr>\n      <th>76</th>\n      <td>2021-04-18</td>\n      <td>145624</td>\n      <td>265</td>\n      <td>247</td>\n      <td>93.207547</td>\n      <td>18</td>\n      <td>6.792453</td>\n      <td>155</td>\n      <td>89</td>\n      <td>152</td>\n      <td>7942</td>\n    </tr>\n    <tr>\n      <th>77</th>\n      <td>2021-04-19</td>\n      <td>278449</td>\n      <td>312</td>\n      <td>276</td>\n      <td>88.461538</td>\n      <td>36</td>\n      <td>11.538462</td>\n      <td>151</td>\n      <td>122</td>\n      <td>166</td>\n      <td>12092</td>\n    </tr>\n    <tr>\n      <th>78</th>\n      <td>2021-04-20</td>\n      <td>249677</td>\n      <td>292</td>\n      <td>262</td>\n      <td>89.726027</td>\n      <td>30</td>\n      <td>10.273973</td>\n      <td>147</td>\n      <td>110</td>\n      <td>144</td>\n      <td>11779</td>\n    </tr>\n    <tr>\n      <th>79</th>\n      <td>2021-04-21</td>\n      <td>265130</td>\n      <td>281</td>\n      <td>257</td>\n      <td>91.459075</td>\n      <td>24</td>\n      <td>8.540925</td>\n      <td>136</td>\n      <td>119</td>\n      <td>150</td>\n      <td>14042</td>\n    </tr>\n    <tr>\n      <th>80</th>\n      <td>2021-04-22</td>\n      <td>331566</td>\n      <td>261</td>\n      <td>239</td>\n      <td>91.570881</td>\n      <td>22</td>\n      <td>8.429119</td>\n      <td>114</td>\n      <td>123</td>\n      <td>125</td>\n      <td>16152</td>\n    </tr>\n  </tbody>\n</table>\n</div>"
     },
     "metadata": {},
     "execution_count": 20
    }
   ],
   "source": [
    "# print(df2.columns.values)\n",
    "df2.tail()"
   ]
  },
  {
   "cell_type": "code",
   "execution_count": 42,
   "metadata": {},
   "outputs": [],
   "source": [
    "# plt.figure()\n",
    "# # plt.plot(df2.Dato,df2.AG_testede)\n",
    "# # plt.plot(df2.Dato,df2.Andel_AGpos_PCRkonf_pct)\n",
    "# plt.plot(df2.Dato,df2.AG_pos)\n",
    "# # plt.plot(df2.Dato,df2.AGpos_PCRkonf)\n",
    "# plt.plot(df2.Dato,df2.AGpos_PCRkonf+df2.AGpos_minusPCRkonf)\n",
    "# # plt.plot(df2.Dato,df2.AGpos_PCRpos)\n",
    "# # plt.plot(df2.Dato,df2.AGposPCRneg)\n",
    "# # plt.plot(df2.Dato,df2.AGpos_PCRpos+df2.AGposPCRneg)\n",
    "# plt.show()"
   ]
  },
  {
   "cell_type": "code",
   "execution_count": 86,
   "metadata": {},
   "outputs": [
    {
     "output_type": "display_data",
     "data": {
      "text/plain": "Canvas(toolbar=Toolbar(toolitems=[('Home', 'Reset original view', 'home', 'home'), ('Back', 'Back to previous …",
      "application/vnd.jupyter.widget-view+json": {
       "version_major": 2,
       "version_minor": 0,
       "model_id": "43916436d5a74bca9d07c4987ad1a046"
      }
     },
     "metadata": {}
    }
   ],
   "source": [
    "# fig,(ax1,ax2) = plt.subplots(2,1)\n",
    "fig,(ax1,ax2,ax3) = plt.subplots(3,1,sharex=True)\n",
    "\n",
    "ax1.fill_between(df2.Dato,df2.AG_pos,color='blue',label='AG pos, PCR testet')\n",
    "ax1.fill_between(df2.Dato,df2.AGpos_minusPCRkonf,color='grey',label='AG pos, afventer PCR')\n",
    "\n",
    "ax2.fill_between(df2.Dato,100*np.ones(df2.Dato.shape),color='xkcd:mint',label='AG pos, PCR neg')\n",
    "ax2.fill_between(df2.Dato,100*np.divide(df2.AGpos_PCRpos,df2.AGpos_PCRkonf),color='g',label='AG pos, PCR pos')\n",
    "\n",
    "numAGnegKonf = df2.AGnegPCRpos + df2.AGnegPCRneg\n",
    "\n",
    "ax3.fill_between(df2.Dato,100*np.ones(df2.Dato.shape),color='xkcd:mint',label='AG neg, PCR neg')\n",
    "ax3.fill_between(df2.Dato,100*np.divide(df2.AGnegPCRpos,numAGnegKonf),color='g',label='AG neg, PCR pos')\n",
    "\n",
    "ax1.legend(loc='center left',bbox_to_anchor = (1.0, 0.5))\n",
    "ax2.legend(loc='center left',bbox_to_anchor = (1.0, 0.5))\n",
    "ax3.legend(loc='center left',bbox_to_anchor = (1.0, 0.5))\n",
    "\n",
    "ax1.set_ylim(bottom=0)\n",
    "ax2.set_ylim(bottom=0,top=100)\n",
    "ax3.set_ylim(bottom=0,top=3)\n",
    "ax1.set_xlim([df2.Dato[0],df2.iloc[-1,0]])\n",
    "plt.tight_layout()"
   ]
  },
  {
   "cell_type": "code",
   "execution_count": 93,
   "metadata": {},
   "outputs": [
    {
     "output_type": "execute_result",
     "data": {
      "text/plain": [
       "          Date  NewPositive  NotPrevPos  PosPct  PrevPos  Tested  \\\n",
       "378 2021-04-21          262      264448     0.1      491  264939   \n",
       "379 2021-04-22          241      330801     0.1      585  331386   \n",
       "380 2021-04-23          215      291630     0.1      483  292113   \n",
       "381 2021-04-24          172      162045     0.1      319  162364   \n",
       "382 2021-04-25          142      167904     0.1      306  168210   \n",
       "\n",
       "     Tested_kumulativ  \n",
       "378           6773545  \n",
       "379           7104931  \n",
       "380           7397044  \n",
       "381           7559408  \n",
       "382           7727618  "
      ],
      "text/html": "<div>\n<style scoped>\n    .dataframe tbody tr th:only-of-type {\n        vertical-align: middle;\n    }\n\n    .dataframe tbody tr th {\n        vertical-align: top;\n    }\n\n    .dataframe thead th {\n        text-align: right;\n    }\n</style>\n<table border=\"1\" class=\"dataframe\">\n  <thead>\n    <tr style=\"text-align: right;\">\n      <th></th>\n      <th>Date</th>\n      <th>NewPositive</th>\n      <th>NotPrevPos</th>\n      <th>PosPct</th>\n      <th>PrevPos</th>\n      <th>Tested</th>\n      <th>Tested_kumulativ</th>\n    </tr>\n  </thead>\n  <tbody>\n    <tr>\n      <th>378</th>\n      <td>2021-04-21</td>\n      <td>262</td>\n      <td>264448</td>\n      <td>0.1</td>\n      <td>491</td>\n      <td>264939</td>\n      <td>6773545</td>\n    </tr>\n    <tr>\n      <th>379</th>\n      <td>2021-04-22</td>\n      <td>241</td>\n      <td>330801</td>\n      <td>0.1</td>\n      <td>585</td>\n      <td>331386</td>\n      <td>7104931</td>\n    </tr>\n    <tr>\n      <th>380</th>\n      <td>2021-04-23</td>\n      <td>215</td>\n      <td>291630</td>\n      <td>0.1</td>\n      <td>483</td>\n      <td>292113</td>\n      <td>7397044</td>\n    </tr>\n    <tr>\n      <th>381</th>\n      <td>2021-04-24</td>\n      <td>172</td>\n      <td>162045</td>\n      <td>0.1</td>\n      <td>319</td>\n      <td>162364</td>\n      <td>7559408</td>\n    </tr>\n    <tr>\n      <th>382</th>\n      <td>2021-04-25</td>\n      <td>142</td>\n      <td>167904</td>\n      <td>0.1</td>\n      <td>306</td>\n      <td>168210</td>\n      <td>7727618</td>\n    </tr>\n  </tbody>\n</table>\n</div>"
     },
     "metadata": {},
     "execution_count": 93
    }
   ],
   "source": [
    "df.tail()"
   ]
  },
  {
   "cell_type": "code",
   "execution_count": 94,
   "metadata": {},
   "outputs": [
    {
     "output_type": "execute_result",
     "data": {
      "text/plain": [
       "          Date  NewPositive  NotPrevPos  PosPct  PrevPos  Tested  \\\n",
       "450 2021-04-21          697      180617     0.4     6769  187386   \n",
       "451 2021-04-22          639      215339     0.3     9101  224440   \n",
       "452 2021-04-23          623      173829     0.4     6443  180272   \n",
       "453 2021-04-24          565      134819     0.4     4454  139273   \n",
       "454 2021-04-25          263       51650     0.5     1778   53428   \n",
       "\n",
       "     Tested_kumulativ  \n",
       "450          25573985  \n",
       "451          25798425  \n",
       "452          25978697  \n",
       "453          26117970  \n",
       "454          26171398  "
      ],
      "text/html": "<div>\n<style scoped>\n    .dataframe tbody tr th:only-of-type {\n        vertical-align: middle;\n    }\n\n    .dataframe tbody tr th {\n        vertical-align: top;\n    }\n\n    .dataframe thead th {\n        text-align: right;\n    }\n</style>\n<table border=\"1\" class=\"dataframe\">\n  <thead>\n    <tr style=\"text-align: right;\">\n      <th></th>\n      <th>Date</th>\n      <th>NewPositive</th>\n      <th>NotPrevPos</th>\n      <th>PosPct</th>\n      <th>PrevPos</th>\n      <th>Tested</th>\n      <th>Tested_kumulativ</th>\n    </tr>\n  </thead>\n  <tbody>\n    <tr>\n      <th>450</th>\n      <td>2021-04-21</td>\n      <td>697</td>\n      <td>180617</td>\n      <td>0.4</td>\n      <td>6769</td>\n      <td>187386</td>\n      <td>25573985</td>\n    </tr>\n    <tr>\n      <th>451</th>\n      <td>2021-04-22</td>\n      <td>639</td>\n      <td>215339</td>\n      <td>0.3</td>\n      <td>9101</td>\n      <td>224440</td>\n      <td>25798425</td>\n    </tr>\n    <tr>\n      <th>452</th>\n      <td>2021-04-23</td>\n      <td>623</td>\n      <td>173829</td>\n      <td>0.4</td>\n      <td>6443</td>\n      <td>180272</td>\n      <td>25978697</td>\n    </tr>\n    <tr>\n      <th>453</th>\n      <td>2021-04-24</td>\n      <td>565</td>\n      <td>134819</td>\n      <td>0.4</td>\n      <td>4454</td>\n      <td>139273</td>\n      <td>26117970</td>\n    </tr>\n    <tr>\n      <th>454</th>\n      <td>2021-04-25</td>\n      <td>263</td>\n      <td>51650</td>\n      <td>0.5</td>\n      <td>1778</td>\n      <td>53428</td>\n      <td>26171398</td>\n    </tr>\n  </tbody>\n</table>\n</div>"
     },
     "metadata": {},
     "execution_count": 94
    }
   ],
   "source": [
    "dfPCR.tail()"
   ]
  },
  {
   "cell_type": "code",
   "execution_count": 111,
   "metadata": {},
   "outputs": [
    {
     "output_type": "display_data",
     "data": {
      "text/plain": "Canvas(toolbar=Toolbar(toolitems=[('Home', 'Reset original view', 'home', 'home'), ('Back', 'Back to previous …",
      "application/vnd.jupyter.widget-view+json": {
       "version_major": 2,
       "version_minor": 0,
       "model_id": "3d4ddc425d1343ba98e59755365d3b95"
      }
     },
     "metadata": {}
    }
   ],
   "source": [
    "# fig,ax1 = plt.subplots(1,1)\n",
    "fig,(ax1,ax2) = plt.subplots(2,1,sharex=True)\n",
    "\n",
    "ax1.plot(df.Date,df.Tested,label='Antal AG tests')\n",
    "ax1.plot(dfPCR.Date,dfPCR.Tested,label='Antal PCR tests')\n",
    "\n",
    "# ax2.plot(df.Date,df.PosPct,label='Positiv procent, AG')\n",
    "# ax2.plot(dfPCR.Date,dfPCR.PosPct,label='Positive procent, PCR')\n",
    "ax2.plot(df.Date,100*np.divide(df.NewPositive,df.Tested),label='Positiv procent, AG')\n",
    "ax2.plot(dfPCR.Date,100*np.divide(dfPCR.NewPositive,dfPCR.Tested),label='Positiv procent, PCR')\n",
    "\n",
    "\n",
    "ax1.legend(loc='center left',bbox_to_anchor = (1.0, 0.5))\n",
    "ax2.legend(loc='center left',bbox_to_anchor = (1.0, 0.5))\n",
    "\n",
    "ax1.set_ylim(bottom=0)\n",
    "ax2.set_ylim(bottom=0,top=1)\n",
    "\n",
    "ax1.set_xlim(left=np.datetime64('2021-02-01'),right=date.today())\n",
    "ax1.xaxis.set_major_formatter(mdates.DateFormatter('%d %b\\n%Y'))\n",
    "\n",
    "plt.tight_layout()"
   ]
  },
  {
   "source": [
    "# Age stuff"
   ],
   "cell_type": "markdown",
   "metadata": {}
  },
  {
   "cell_type": "code",
   "execution_count": 112,
   "metadata": {},
   "outputs": [],
   "source": [
    "dfAge = pd.read_csv(latestdir+'/Cases_by_age.csv',delimiter = ';',dtype=str)"
   ]
  },
  {
   "cell_type": "code",
   "execution_count": 116,
   "metadata": {
    "tags": [
     "outputPrepend"
    ]
   },
   "outputs": [
    {
     "output_type": "stream",
     "name": "stdout",
     "text": [
      "        10-19                    34.472       619.294              5,6\n",
      "2         20-29                    41.979       693.203              6,1\n",
      "3         30-39                    30.867       608.454              5,1\n",
      "4         40-49                    32.823       651.457              5,0\n",
      "5         50-59                    32.153       665.258              4,8\n",
      "6         60-69                    17.705       495.730              3,6\n",
      "7         70-79                    10.979       375.070              2,9\n",
      "8         80-89                     5.783       141.928              4,1\n",
      "9           90+                     1.808        28.832              6,3\n",
      "10        I alt                   224.258     4.677.405              4,8\n",
      "   Aldersgruppe Antal_bekræftede_COVID-19 Antal_testede Procent_positive\n",
      "0           0-9                    15.904       400.760              4,0\n",
      "1         10-19                    34.840       624.667              5,6\n",
      "2         20-29                    42.354       697.677              6,1\n",
      "3         30-39                    31.170       612.541              5,1\n",
      "4         40-49                    33.132       655.843              5,1\n",
      "5         50-59                    32.397       669.669              4,8\n",
      "6         60-69                    17.829       499.371              3,6\n",
      "7         70-79                    11.042       378.242              2,9\n",
      "8         80-89                     5.799       142.780              4,1\n",
      "9           90+                     1.810        28.986              6,2\n",
      "10        I alt                   226.277     4.710.536              4,8\n",
      "   Aldersgruppe Antal_bekræftede_COVID-19 Antal_testede Procent_positive\n",
      "0           0-9                    15.973       401.747              4,0\n",
      "1         10-19                    34.974       626.605              5,6\n",
      "2         20-29                    42.493       699.099              6,1\n",
      "3         30-39                    31.281       613.914              5,1\n",
      "4         40-49                    33.243       657.322              5,1\n",
      "5         50-59                    32.501       671.081              4,8\n",
      "6         60-69                    17.885       500.564              3,6\n",
      "7         70-79                    11.067       379.422              2,9\n",
      "8         80-89                     5.803       143.096              4,1\n",
      "9           90+                     1.811        29.053              6,2\n",
      "10        I alt                   227.031     4.721.903              4,8\n",
      "   Aldersgruppe Antal_bekræftede_COVID-19 Antal_testede Procent_positive\n",
      "0           0-9                    16.150       403.404              4,0\n",
      "1         10-19                    34.775       602.085              5,8\n",
      "2         20-29                    42.228       671.233              6,3\n",
      "3         30-39                    31.082       587.155              5,3\n",
      "4         40-49                    33.067       627.903              5,3\n",
      "5         50-59                    32.323       640.550              5,0\n",
      "6         60-69                    17.688       477.278              3,7\n",
      "7         70-79                    10.947       359.611              3,0\n",
      "8         80-89                     5.771       138.527              4,2\n",
      "9           90+                     1.813        28.548              6,4\n",
      "10        I alt                   225.844     4.536.294              5,0\n",
      "   Aldersgruppe Antal_bekræftede_COVID-19 Antal_testede Procent_positive\n",
      "0           0-9                    16.243       404.174              4,0\n",
      "1         10-19                    34.895       602.811              5,8\n",
      "2         20-29                    42.372       672.017              6,3\n",
      "3         30-39                    31.196       587.957              5,3\n",
      "4         40-49                    33.180       628.802              5,3\n",
      "5         50-59                    32.430       641.416              5,1\n",
      "6         60-69                    17.747       477.994              3,7\n",
      "7         70-79                    10.972       360.248              3,0\n",
      "8         80-89                     5.783       138.692              4,2\n",
      "9           90+                     1.815        28.581              6,4\n",
      "10        I alt                   226.633     4.542.692              5,0\n",
      "   Aldersgruppe Antal_bekræftede_COVID-19 Antal_testede Procent_positive\n",
      "0           0-9                    16.477       406.647              4,1\n",
      "1         10-19                    35.208       604.350              5,8\n",
      "2         20-29                    42.763       673.685              6,3\n",
      "3         30-39                    31.516       589.910              5,3\n",
      "4         40-49                    33.487       630.824              5,3\n",
      "5         50-59                    32.697       643.536              5,1\n",
      "6         60-69                    17.887       479.951              3,7\n",
      "7         70-79                    11.040       362.122              3,0\n",
      "8         80-89                     5.799       139.241              4,2\n",
      "9           90+                     1.818        28.690              6,3\n",
      "10        I alt                   228.692     4.558.956              5,0\n",
      "   Aldersgruppe Antal_bekræftede_COVID-19 Antal_testede Procent_positive\n",
      "0           0-9                    16.584       407.567              4,1\n",
      "1         10-19                    35.326       604.939              5,8\n",
      "2         20-29                    42.987       674.631              6,4\n",
      "3         30-39                    31.709       590.985              5,4\n",
      "4         40-49                    33.697       632.038              5,3\n",
      "5         50-59                    32.927       644.771              5,1\n",
      "6         60-69                    17.972       480.756              3,7\n",
      "7         70-79                    11.071       362.871              3,1\n",
      "8         80-89                     5.806       139.416              4,2\n",
      "9           90+                     1.823        28.796              6,3\n",
      "10        I alt                   229.902     4.566.770              5,0\n",
      "   Aldersgruppe Antal_bekræftede_COVID-19 Antal_testede Procent_positive\n",
      "0           0-9                    16.652       408.492              4,1\n",
      "1         10-19                    35.408       605.469              5,8\n",
      "2         20-29                    43.120       675.310              6,4\n",
      "3         30-39                    31.824       591.743              5,4\n",
      "4         40-49                    33.810       632.844              5,3\n",
      "5         50-59                    33.023       645.537              5,1\n",
      "6         60-69                    18.023       481.661              3,7\n",
      "7         70-79                    11.103       363.726              3,1\n",
      "8         80-89                     5.816       139.625              4,2\n",
      "9           90+                     1.824        28.845              6,3\n",
      "10        I alt                   230.603     4.573.252              5,0\n",
      "   Aldersgruppe Antal_bekræftede_COVID-19 Antal_testede Procent_positive\n",
      "0           0-9                    16.855       410.698              4,1\n",
      "1         10-19                    35.761       606.991              5,9\n",
      "2         20-29                    43.518       677.666              6,4\n",
      "3         30-39                    32.168       594.286              5,4\n",
      "4         40-49                    34.137       635.510              5,4\n",
      "5         50-59                    33.282       648.350              5,1\n",
      "6         60-69                    18.157       484.280              3,7\n",
      "7         70-79                    11.177       366.165              3,1\n",
      "8         80-89                     5.837       140.181              4,2\n",
      "9           90+                     1.826        28.963              6,3\n",
      "10        I alt                   232.718     4.593.090              5,1\n",
      "   Aldersgruppe Antal_bekræftede_COVID-19 Antal_testede Procent_positive\n",
      "0           0-9                    17.004       411.910              4,1\n",
      "1         10-19                    36.065       608.757              5,9\n",
      "2         20-29                    43.793       679.566              6,4\n",
      "3         30-39                    32.409       596.068              5,4\n",
      "4         40-49                    34.396       637.766              5,4\n",
      "5         50-59                    33.504       651.292              5,1\n",
      "6         60-69                    18.247       487.720              3,7\n",
      "7         70-79                    11.219       369.509              3,0\n",
      "8         80-89                     5.850       140.967              4,1\n",
      "9           90+                     1.830        29.111              6,3\n",
      "10        I alt                   234.317     4.612.666              5,1\n",
      "   Aldersgruppe Antal_bekræftede_COVID-19 Antal_testede Procent_positive\n",
      "0           0-9                    17.065       412.338              4,1\n",
      "1         10-19                    36.189       609.301              5,9\n",
      "2         20-29                    43.894       680.339              6,5\n",
      "3         30-39                    32.495       596.822              5,4\n",
      "4         40-49                    34.496       638.733              5,4\n",
      "5         50-59                    33.571       652.633              5,1\n",
      "6         60-69                    18.292       489.421              3,7\n",
      "7         70-79                    11.243       371.328              3,0\n",
      "8         80-89                     5.856       141.332              4,1\n",
      "9           90+                     1.830        29.135              6,3\n",
      "10        I alt                   234.931     4.621.382              5,1\n",
      "   Aldersgruppe Antal_bekræftede_COVID-19 Antal_testede Procent_positive\n",
      "0           0-9                    17.106       412.735              4,1\n",
      "1         10-19                    36.349       609.647              6,0\n",
      "2         20-29                    44.032       681.159              6,5\n",
      "3         30-39                    32.612       597.647              5,5\n",
      "4         40-49                    34.590       639.663              5,4\n",
      "5         50-59                    33.653       653.998              5,1\n",
      "6         60-69                    18.341       491.451              3,7\n",
      "7         70-79                    11.272       373.622              3,0\n",
      "8         80-89                     5.862       141.801              4,1\n",
      "9           90+                     1.831        29.183              6,3\n",
      "10        I alt                   235.648     4.630.906              5,1\n",
      "   Aldersgruppe Antal_bekræftede_COVID-19 Antal_testede Procent_positive\n",
      "0           0-9                    17.156       413.049              4,2\n",
      "1         10-19                    36.480       609.943              6,0\n",
      "2         20-29                    44.185       681.861              6,5\n",
      "3         30-39                    32.714       598.307              5,5\n",
      "4         40-49                    34.681       640.445              5,4\n",
      "5         50-59                    33.756       655.143              5,2\n",
      "6         60-69                    18.385       492.729              3,7\n",
      "7         70-79                    11.289       374.806              3,0\n",
      "8         80-89                     5.868       142.116              4,1\n",
      "9           90+                     1.832        29.216              6,3\n",
      "10        I alt                   236.346     4.637.615              5,1\n",
      "   Aldersgruppe Antal_bekræftede_COVID-19 Antal_testede Procent_positive\n",
      "0           0-9                    17.333       414.111              4,2\n",
      "1         10-19                    36.829       611.366              6,0\n",
      "2         20-29                    44.614       683.729              6,5\n",
      "3         30-39                    32.994       600.077              5,5\n",
      "4         40-49                    34.957       642.399              5,4\n",
      "5         50-59                    34.012       657.528              5,2\n",
      "6         60-69                    18.479       495.439              3,7\n",
      "7         70-79                    11.359       377.755              3,0\n",
      "8         80-89                     5.893       142.844              4,1\n",
      "9           90+                     1.836        29.322              6,3\n",
      "10        I alt                   238.306     4.654.570              5,1\n",
      "   Aldersgruppe Antal_bekræftede_COVID-19 Antal_testede Procent_positive\n",
      "0           0-9                    17.400       414.617              4,2\n",
      "1         10-19                    36.922       611.781              6,0\n",
      "2         20-29                    44.732       684.296              6,5\n",
      "3         30-39                    33.071       600.654              5,5\n",
      "4         40-49                    35.034       642.998              5,4\n",
      "5         50-59                    34.079       658.351              5,2\n",
      "6         60-69                    18.518       496.461              3,7\n",
      "7         70-79                    11.381       378.886              3,0\n",
      "8         80-89                     5.895       143.106              4,1\n",
      "9           90+                     1.837        29.364              6,3\n",
      "10        I alt                   238.869     4.660.514              5,1\n",
      "   Aldersgruppe Antal_bekræftede_COVID-19 Antal_testede Procent_positive\n",
      "0           0-9                    17.479       415.243              4,2\n",
      "1         10-19                    37.036       612.096              6,1\n",
      "2         20-29                    44.880       684.949              6,6\n",
      "3         30-39                    33.176       601.295              5,5\n",
      "4         40-49                    35.117       643.689              5,5\n",
      "5         50-59                    34.155       659.261              5,2\n",
      "6         60-69                    18.555       497.714              3,7\n",
      "7         70-79                    11.394       380.208              3,0\n",
      "8         80-89                     5.899       143.405              4,1\n",
      "9           90+                     1.841        29.408              6,3\n",
      "10        I alt                   239.532     4.667.268              5,1\n",
      "   Aldersgruppe Antal_bekræftede_COVID-19 Antal_testede Procent_positive\n",
      "0           0-9                    17.567       415.927              4,2\n",
      "1         10-19                    37.179       612.471              6,1\n",
      "2         20-29                    45.038       685.658              6,6\n",
      "3         30-39                    33.293       602.032              5,5\n",
      "4         40-49                    35.232       644.519              5,5\n",
      "5         50-59                    34.254       660.275              5,2\n",
      "6         60-69                    18.608       499.039              3,7\n",
      "7         70-79                    11.417       381.548              3,0\n",
      "8         80-89                     5.901       143.690              4,1\n",
      "9           90+                     1.841        29.443              6,3\n",
      "10        I alt                   240.330     4.674.602              5,1\n",
      "   Aldersgruppe Antal_bekræftede_COVID-19 Antal_testede Procent_positive\n",
      "0           0-9                    17.636       416.418              4,2\n",
      "1         10-19                    37.305       612.777              6,1\n",
      "2         20-29                    45.152       686.346              6,6\n",
      "3         30-39                    33.400       602.715              5,5\n",
      "4         40-49                    35.347       645.215              5,5\n",
      "5         50-59                    34.334       661.204              5,2\n",
      "6         60-69                    18.649       499.967              3,7\n",
      "7         70-79                    11.440       382.335              3,0\n",
      "8         80-89                     5.901       143.897              4,1\n",
      "9           90+                     1.843        29.478              6,3\n",
      "10        I alt                   241.007     4.680.352              5,1\n",
      "   Aldersgruppe Antal_bekræftede_COVID-19 Antal_testede Procent_positive\n",
      "0           0-9                    17.905       418.233              4,3\n",
      "1         10-19                    37.788       613.839              6,2\n",
      "2         20-29                    45.600       688.185              6,6\n",
      "3         30-39                    33.762       604.590              5,6\n",
      "4         40-49                    35.670       646.886              5,5\n",
      "5         50-59                    34.621       663.188              5,2\n",
      "6         60-69                    18.765       501.931              3,7\n",
      "7         70-79                    11.503       384.193              3,0\n",
      "8         80-89                     5.913       144.437              4,1\n",
      "9           90+                     1.847        29.578              6,2\n",
      "10        I alt                   243.374     4.695.060              5,2\n",
      "   Aldersgruppe Antal_bekræftede_COVID-19 Antal_testede Procent_positive\n",
      "0           0-9                    17.982       418.843              4,3\n",
      "1         10-19                    37.910       614.152              6,2\n",
      "2         20-29                    45.714       688.638              6,6\n",
      "3         30-39                    33.856       605.050              5,6\n",
      "4         40-49                    35.780       647.407              5,5\n",
      "5         50-59                    34.723       663.821              5,2\n",
      "6         60-69                    18.819       502.752              3,7\n",
      "7         70-79                    11.518       384.944              3,0\n",
      "8         80-89                     5.916       144.615              4,1\n",
      "9           90+                     1.847        29.607              6,2\n",
      "10        I alt                   244.065     4.699.829              5,2\n",
      "   Aldersgruppe Antal_bekræftede_COVID-19 Antal_testede Procent_positive\n",
      "0           0-9                    18.187       420.521              4,3\n",
      "1         10-19                    38.214       614.886              6,2\n",
      "2         20-29                    46.030       689.970              6,7\n",
      "3         30-39                    34.112       606.452              5,6\n",
      "4         40-49                    36.025       648.842              5,6\n",
      "5         50-59                    34.946       665.546              5,3\n",
      "6         60-69                    18.918       504.782              3,7\n",
      "7         70-79                    11.553       386.727              3,0\n",
      "8         80-89                     5.925       145.087              4,1\n",
      "9           90+                     1.851        29.700              6,2\n",
      "10        I alt                   245.761     4.712.513              5,2\n",
      "   Aldersgruppe Antal_bekræftede_COVID-19 Antal_testede Procent_positive\n",
      "0           0-9                    18.252       421.112              4,3\n",
      "1         10-19                    38.346       615.190              6,2\n",
      "2         20-29                    46.165       690.636              6,7\n",
      "3         30-39                    34.231       607.097              5,6\n",
      "4         40-49                    36.121       649.559              5,6\n",
      "5         50-59                    35.034       666.365              5,3\n",
      "6         60-69                    18.959       505.564              3,8\n",
      "7         70-79                    11.574       387.261              3,0\n",
      "8         80-89                     5.930       145.227              4,1\n",
      "9           90+                     1.851        29.741              6,2\n",
      "10        I alt                   246.463     4.717.752              5,2\n",
      "   Aldersgruppe Antal_bekræftede_COVID-19 Antal_testede Procent_positive\n",
      "0           0-9                    18.445       422.751              4,4\n",
      "1         10-19                    38.708       616.047              6,3\n",
      "2         20-29                    46.484       692.212              6,7\n",
      "3         30-39                    34.491       608.625              5,7\n",
      "4         40-49                    36.425       651.154              5,6\n",
      "5         50-59                    35.287       668.182              5,3\n",
      "6         60-69                    19.070       507.264              3,8\n",
      "7         70-79                    11.619       388.705              3,0\n",
      "8         80-89                     5.946       145.669              4,1\n",
      "9           90+                     1.851        29.836              6,2\n",
      "10        I alt                   248.326     4.730.445              5,2\n"
     ]
    }
   ],
   "source": [
    "ssidatapath = \"ssi_data\"\n",
    "rootdir = os.getcwd() +\"/\" + ssidatapath\n",
    "\n",
    "\n",
    "conf = []\n",
    "test = []\n",
    "posp = []\n",
    "\n",
    "for subdir, dirs, files in os.walk(rootdir):\n",
    "    if not len(files) == 0:\n",
    "        latestdir = subdir\n",
    "        latestDate = pd.to_datetime(subdir[-10:])\n",
    "        curdf = pd.read_csv(latestdir+'/Cases_by_age.csv',delimiter = ';',dtype=str)\n",
    "        conf.append(curdf.iloc[9,1])\n",
    "        test.append(curdf.iloc[9,2])\n",
    "        posp.append(curdf.iloc[9,3])\n",
    "        print(curdf)"
   ]
  },
  {
   "cell_type": "code",
   "execution_count": 120,
   "metadata": {},
   "outputs": [
    {
     "output_type": "execute_result",
     "data": {
      "text/plain": [
       "'1.851'"
      ]
     },
     "metadata": {},
     "execution_count": 120
    }
   ],
   "source": [
    "curdf.iloc[9,1]"
   ]
  }
 ]
}