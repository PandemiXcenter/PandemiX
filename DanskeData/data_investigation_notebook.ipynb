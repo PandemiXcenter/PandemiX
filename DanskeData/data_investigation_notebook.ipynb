{
 "metadata": {
  "language_info": {
   "codemirror_mode": {
    "name": "ipython",
    "version": 3
   },
   "file_extension": ".py",
   "mimetype": "text/x-python",
   "name": "python",
   "nbconvert_exporter": "python",
   "pygments_lexer": "ipython3",
   "version": "3.8.8"
  },
  "orig_nbformat": 2,
  "kernelspec": {
   "name": "python388jvsc74a57bd0c031fd63bd977d199cd6020c30a19695eacbb638d100e0b8a5ea53080ed74a9a",
   "display_name": "Python 3.8.8 64-bit ('main': conda)"
  }
 },
 "nbformat": 4,
 "nbformat_minor": 2,
 "cells": [
  {
   "cell_type": "code",
   "execution_count": 1,
   "metadata": {},
   "outputs": [
    {
     "output_type": "stream",
     "name": "stdout",
     "text": [
      "saveFigures is set to: True\nDone loading packages\n"
     ]
    }
   ],
   "source": [
    "# Main notebook for playing around looking at different things in data\n",
    "import numpy as np\n",
    "import pandas as pd\n",
    "pd.set_option('display.max_rows', 500)\n",
    "pd.set_option('display.min_rows', 50)\n",
    "\n",
    "\n",
    "import matplotlib.pyplot as plt\n",
    "%matplotlib widget\n",
    "plt.rcParams['figure.figsize'] = (12,8)\n",
    "# plt.rcParams[\"image.cmap\"] = \"Dark2\"\n",
    "# plt.rcParams['axes.prop_cycle'] = plt.cycler(color=plt.cm.Dark2.colors)\n",
    "plt.rcParams[\"image.cmap\"] = \"tab10\"\n",
    "plt.rcParams['axes.prop_cycle'] = plt.cycler(color=plt.cm.tab10.colors)\n",
    "plt.rcParams['lines.markersize'] = 10\n",
    "plt.rcParams['lines.linewidth'] = 3\n",
    "%matplotlib widget\n",
    "# plt.style.use('ggplot')\n",
    "import matplotlib.colors as colors\n",
    "# cmap = plt.cm.get_cmap('Dark2',len(ageGroups))\n",
    "from matplotlib import cm # Colormaps\n",
    "\n",
    "import locale\n",
    "import matplotlib.dates as mdates\n",
    "locale.setlocale(locale.LC_TIME,\"Danish\")\n",
    "# ax = plt.gca()\n",
    "# ax1.xaxis.set_major_formatter(mdates.DateFormatter('%b\\n%Y'))\n",
    "# # ax.xaxis.set_major_formatter(mdates.DateFormatter('%Y \\n %B'))\n",
    "\n",
    "import os\n",
    "# import csv\n",
    "import math\n",
    "\n",
    "\n",
    "from datetime import date\n",
    "\n",
    "\n",
    "saveFigures = True\n",
    "print('saveFigures is set to: '+str(saveFigures))\n",
    "\n",
    "print('Done loading packages')\n",
    "\n",
    "def rnMean(data,meanWidth):\n",
    "    return np.convolve(data, np.ones(meanWidth)/meanWidth, mode='valid')\n",
    "def rnTime(t,meanWidth):\n",
    "    return t[math.floor(meanWidth/2):-math.ceil(meanWidth/2)+1]\n"
   ]
  },
  {
   "cell_type": "code",
   "execution_count": 2,
   "metadata": {},
   "outputs": [
    {
     "output_type": "stream",
     "name": "stdout",
     "text": [
      "d:\\Pandemix\\Github\\DanskeData/ssi_data\\SSI_data_2021-05-20\n2021-05-20 00:00:00\n"
     ]
    }
   ],
   "source": [
    "ssidatapath = \"ssi_data\"\n",
    "rootdir = os.getcwd() +\"/\" + ssidatapath\n",
    "\n",
    "\n",
    "for subdir, dirs, files in os.walk(rootdir):\n",
    "    if not len(files) == 0:\n",
    "        latestdir = subdir\n",
    "        latestDate = pd.to_datetime(subdir[-10:])\n",
    "\n",
    "print(latestdir)\n",
    "print(latestDate)\n",
    "\n",
    "# latestdir = rootdir+ '/SSI_data_2021-04-29'\n",
    "# latestDate = pd.to_datetime(latestdir[-10:])\n",
    "\n",
    "# print(latestdir)\n",
    "# print(latestDate)"
   ]
  },
  {
   "cell_type": "code",
   "execution_count": 3,
   "metadata": {},
   "outputs": [],
   "source": [
    "# Load the data\n",
    "fulldfPCR = pd.read_csv(latestdir+'/Test_pos_over_time.csv',delimiter = ';',dtype=str)\n",
    "fulldf = pd.read_csv(latestdir+'/Test_pos_over_time_antigen.csv',delimiter = ';',dtype=str)\n",
    "\n",
    "# # Cut out the last two rows of summary numbers\n",
    "dfPCR = fulldfPCR.iloc[:-2,:].copy()\n",
    "df = fulldf.iloc[:-2,:].copy()"
   ]
  },
  {
   "cell_type": "code",
   "execution_count": 4,
   "metadata": {},
   "outputs": [
    {
     "output_type": "execute_result",
     "data": {
      "text/plain": [
       "               Date  NewPositive   NotPrevPos PosPct      PrevPos  \\\n",
       "476      2021-05-17        1.147      196.331    0,6        6.585   \n",
       "477      2021-05-18        1.160      173.022    0,7        5.687   \n",
       "478      2021-05-19          220       34.896    0,6        1.107   \n",
       "479           I alt      270.557   29.755.505    0,9      728.519   \n",
       "480  Antal personer      270.557    4.827.154    5,6      157.812   \n",
       "\n",
       "          Tested Tested_kumulativ  \n",
       "476      202.916       30.269.312  \n",
       "477      178.709       30.448.021  \n",
       "478       36.003       30.484.024  \n",
       "479   30.484.024       30.484.024  \n",
       "480    4.827.154        4.827.154  "
      ],
      "text/html": "<div>\n<style scoped>\n    .dataframe tbody tr th:only-of-type {\n        vertical-align: middle;\n    }\n\n    .dataframe tbody tr th {\n        vertical-align: top;\n    }\n\n    .dataframe thead th {\n        text-align: right;\n    }\n</style>\n<table border=\"1\" class=\"dataframe\">\n  <thead>\n    <tr style=\"text-align: right;\">\n      <th></th>\n      <th>Date</th>\n      <th>NewPositive</th>\n      <th>NotPrevPos</th>\n      <th>PosPct</th>\n      <th>PrevPos</th>\n      <th>Tested</th>\n      <th>Tested_kumulativ</th>\n    </tr>\n  </thead>\n  <tbody>\n    <tr>\n      <th>476</th>\n      <td>2021-05-17</td>\n      <td>1.147</td>\n      <td>196.331</td>\n      <td>0,6</td>\n      <td>6.585</td>\n      <td>202.916</td>\n      <td>30.269.312</td>\n    </tr>\n    <tr>\n      <th>477</th>\n      <td>2021-05-18</td>\n      <td>1.160</td>\n      <td>173.022</td>\n      <td>0,7</td>\n      <td>5.687</td>\n      <td>178.709</td>\n      <td>30.448.021</td>\n    </tr>\n    <tr>\n      <th>478</th>\n      <td>2021-05-19</td>\n      <td>220</td>\n      <td>34.896</td>\n      <td>0,6</td>\n      <td>1.107</td>\n      <td>36.003</td>\n      <td>30.484.024</td>\n    </tr>\n    <tr>\n      <th>479</th>\n      <td>I alt</td>\n      <td>270.557</td>\n      <td>29.755.505</td>\n      <td>0,9</td>\n      <td>728.519</td>\n      <td>30.484.024</td>\n      <td>30.484.024</td>\n    </tr>\n    <tr>\n      <th>480</th>\n      <td>Antal personer</td>\n      <td>270.557</td>\n      <td>4.827.154</td>\n      <td>5,6</td>\n      <td>157.812</td>\n      <td>4.827.154</td>\n      <td>4.827.154</td>\n    </tr>\n  </tbody>\n</table>\n</div>"
     },
     "metadata": {},
     "execution_count": 4
    }
   ],
   "source": [
    "fulldfPCR.tail()"
   ]
  },
  {
   "cell_type": "code",
   "execution_count": 5,
   "metadata": {},
   "outputs": [],
   "source": [
    "dfPCR[\"PosPct\"] = pd.to_numeric(dfPCR[\"PosPct\"].astype(str).apply(lambda x: x.replace(',','.')))\n",
    "dfPCR[\"Date\"] = dfPCR[\"Date\"].astype('datetime64[D]')\n",
    "df[\"PosPct\"] = pd.to_numeric(df[\"PosPct\"].astype(str).apply(lambda x: x.replace(',','.')))\n",
    "df[\"Date\"] = df[\"Date\"].astype('datetime64[D]')\n",
    "\n",
    "rows_to_fix_period_in = [\"NewPositive\",\"NotPrevPos\",\"PrevPos\",\"Tested\",\"Tested_kumulativ\"]\n",
    "for name in rows_to_fix_period_in:\n",
    "    df[name] = pd.to_numeric(df[name].astype(str).apply(lambda x: x.replace('.','')))\n",
    "    dfPCR[name] = pd.to_numeric(dfPCR[name].astype(str).apply(lambda x: x.replace('.','')))\n"
   ]
  },
  {
   "cell_type": "code",
   "execution_count": 6,
   "metadata": {},
   "outputs": [],
   "source": [
    "# Load the data\n",
    "\n",
    "df2 = pd.read_csv(latestdir+'/Antigentests_pr_dag.csv',delimiter = ';')\n",
    "\n",
    "# # Remove the first two rows which are from april 2020\n",
    "# df2 = df2.iloc[2:,:].copy()"
   ]
  },
  {
   "cell_type": "code",
   "execution_count": 7,
   "metadata": {},
   "outputs": [],
   "source": [
    "df2[\"Dato\"] = df2[\"Dato\"].astype('datetime64[D]')\n",
    "df2[\"Andel_AGpos_PCRkonf_pct\"] = pd.to_numeric(df2[\"Andel_AGpos_PCRkonf_pct\"].astype(str).apply(lambda x: x.replace(',','.')))\n",
    "df2[\"Andel_AGminusPCRkonf_pct\"] = pd.to_numeric(df2[\"Andel_AGminusPCRkonf_pct\"].astype(str).apply(lambda x: x.replace(',','.')))"
   ]
  },
  {
   "cell_type": "code",
   "execution_count": 8,
   "metadata": {},
   "outputs": [],
   "source": [
    "# print(df2.columns.values)\n",
    "# df2.tail()\n",
    "# df2"
   ]
  },
  {
   "cell_type": "code",
   "execution_count": 9,
   "metadata": {},
   "outputs": [],
   "source": [
    "# plt.figure()\n",
    "# # plt.plot(df2.Dato,df2.AG_testede)\n",
    "# # plt.plot(df2.Dato,df2.Andel_AGpos_PCRkonf_pct)\n",
    "# plt.plot(df2.Dato,df2.AG_pos)\n",
    "# # plt.plot(df2.Dato,df2.AGpos_PCRkonf)\n",
    "# plt.plot(df2.Dato,df2.AGpos_PCRkonf+df2.AGpos_minusPCRkonf)\n",
    "# # plt.plot(df2.Dato,df2.AGpos_PCRpos)\n",
    "# # plt.plot(df2.Dato,df2.AGposPCRneg)\n",
    "# # plt.plot(df2.Dato,df2.AGpos_PCRpos+df2.AGposPCRneg)\n",
    "# plt.show()"
   ]
  },
  {
   "cell_type": "code",
   "execution_count": 10,
   "metadata": {},
   "outputs": [
    {
     "output_type": "display_data",
     "data": {
      "text/plain": "Canvas(toolbar=Toolbar(toolitems=[('Home', 'Reset original view', 'home', 'home'), ('Back', 'Back to previous …",
      "application/vnd.jupyter.widget-view+json": {
       "version_major": 2,
       "version_minor": 0,
       "model_id": "9c007c7d54814661ac9c8dd880a660b0"
      }
     },
     "metadata": {}
    }
   ],
   "source": [
    "# fig,(ax1,ax2) = plt.subplots(2,1)\n",
    "fig,(ax1,ax2,ax3) = plt.subplots(3,1,sharex=True)\n",
    "\n",
    "ax1.fill_between(df2.Dato,df2.AG_pos,color='blue',label='AG pos, PCR testet')\n",
    "ax1.fill_between(df2.Dato,df2.AGpos_minusPCRkonf,color='grey',label='AG pos, afventer PCR')\n",
    "\n",
    "ax2.fill_between(df2.Dato,100*np.ones(df2.Dato.shape),color='xkcd:mint',label='AG pos, PCR neg')\n",
    "ax2.fill_between(df2.Dato,100*np.divide(df2.AGpos_PCRpos,df2.AGpos_PCRkonf),color='g',label='AG pos, PCR pos')\n",
    "\n",
    "numAGnegKonf = df2.AGnegPCRpos + df2.AGnegPCRneg\n",
    "\n",
    "ax3.fill_between(df2.Dato,100*np.ones(df2.Dato.shape),color='xkcd:mint',label='AG neg, PCR neg')\n",
    "ax3.fill_between(df2.Dato,100*np.divide(df2.AGnegPCRpos,numAGnegKonf),color='g',label='AG neg, PCR pos')\n",
    "\n",
    "ax1.legend(loc='center left',bbox_to_anchor = (1.0, 0.5))\n",
    "ax2.legend(loc='center left',bbox_to_anchor = (1.0, 0.5))\n",
    "ax3.legend(loc='center left',bbox_to_anchor = (1.0, 0.5))\n",
    "\n",
    "ax1.set_ylim(bottom=0)\n",
    "ax2.set_ylim(bottom=0,top=100)\n",
    "ax3.set_ylim(bottom=0,top=3)\n",
    "ax1.set_xlim([df2.Dato[0],df2.iloc[-1,0]])\n",
    "plt.tight_layout()"
   ]
  },
  {
   "cell_type": "code",
   "execution_count": 11,
   "metadata": {},
   "outputs": [
    {
     "output_type": "execute_result",
     "data": {
      "text/plain": [
       "          Date  NewPositive  NotPrevPos  PosPct  PrevPos  Tested  \\\n",
       "402 2021-05-15          309      262739     0.1      789  263528   \n",
       "403 2021-05-16          377      304313     0.1      908  305221   \n",
       "404 2021-05-17          452      492876     0.1     1502  494378   \n",
       "405 2021-05-18          371      390962     0.1     1153  392115   \n",
       "406 2021-05-19          333      387340     0.1     1153  388493   \n",
       "\n",
       "     Tested_kumulativ  \n",
       "402          14394980  \n",
       "403          14700201  \n",
       "404          15194579  \n",
       "405          15586694  \n",
       "406          15975187  "
      ],
      "text/html": "<div>\n<style scoped>\n    .dataframe tbody tr th:only-of-type {\n        vertical-align: middle;\n    }\n\n    .dataframe tbody tr th {\n        vertical-align: top;\n    }\n\n    .dataframe thead th {\n        text-align: right;\n    }\n</style>\n<table border=\"1\" class=\"dataframe\">\n  <thead>\n    <tr style=\"text-align: right;\">\n      <th></th>\n      <th>Date</th>\n      <th>NewPositive</th>\n      <th>NotPrevPos</th>\n      <th>PosPct</th>\n      <th>PrevPos</th>\n      <th>Tested</th>\n      <th>Tested_kumulativ</th>\n    </tr>\n  </thead>\n  <tbody>\n    <tr>\n      <th>402</th>\n      <td>2021-05-15</td>\n      <td>309</td>\n      <td>262739</td>\n      <td>0.1</td>\n      <td>789</td>\n      <td>263528</td>\n      <td>14394980</td>\n    </tr>\n    <tr>\n      <th>403</th>\n      <td>2021-05-16</td>\n      <td>377</td>\n      <td>304313</td>\n      <td>0.1</td>\n      <td>908</td>\n      <td>305221</td>\n      <td>14700201</td>\n    </tr>\n    <tr>\n      <th>404</th>\n      <td>2021-05-17</td>\n      <td>452</td>\n      <td>492876</td>\n      <td>0.1</td>\n      <td>1502</td>\n      <td>494378</td>\n      <td>15194579</td>\n    </tr>\n    <tr>\n      <th>405</th>\n      <td>2021-05-18</td>\n      <td>371</td>\n      <td>390962</td>\n      <td>0.1</td>\n      <td>1153</td>\n      <td>392115</td>\n      <td>15586694</td>\n    </tr>\n    <tr>\n      <th>406</th>\n      <td>2021-05-19</td>\n      <td>333</td>\n      <td>387340</td>\n      <td>0.1</td>\n      <td>1153</td>\n      <td>388493</td>\n      <td>15975187</td>\n    </tr>\n  </tbody>\n</table>\n</div>"
     },
     "metadata": {},
     "execution_count": 11
    }
   ],
   "source": [
    "df.tail()"
   ]
  },
  {
   "cell_type": "code",
   "execution_count": 12,
   "metadata": {},
   "outputs": [
    {
     "output_type": "execute_result",
     "data": {
      "text/plain": [
       "          Date  NewPositive  NotPrevPos  PosPct  PrevPos  Tested  \\\n",
       "474 2021-05-15          941      135868     0.7     3983  139851   \n",
       "475 2021-05-16          922      163930     0.6     4366  168296   \n",
       "476 2021-05-17         1147      196331     0.6     6585  202916   \n",
       "477 2021-05-18         1160      173022     0.7     5687  178709   \n",
       "478 2021-05-19          220       34896     0.6     1107   36003   \n",
       "\n",
       "     Tested_kumulativ  \n",
       "474          29898100  \n",
       "475          30066396  \n",
       "476          30269312  \n",
       "477          30448021  \n",
       "478          30484024  "
      ],
      "text/html": "<div>\n<style scoped>\n    .dataframe tbody tr th:only-of-type {\n        vertical-align: middle;\n    }\n\n    .dataframe tbody tr th {\n        vertical-align: top;\n    }\n\n    .dataframe thead th {\n        text-align: right;\n    }\n</style>\n<table border=\"1\" class=\"dataframe\">\n  <thead>\n    <tr style=\"text-align: right;\">\n      <th></th>\n      <th>Date</th>\n      <th>NewPositive</th>\n      <th>NotPrevPos</th>\n      <th>PosPct</th>\n      <th>PrevPos</th>\n      <th>Tested</th>\n      <th>Tested_kumulativ</th>\n    </tr>\n  </thead>\n  <tbody>\n    <tr>\n      <th>474</th>\n      <td>2021-05-15</td>\n      <td>941</td>\n      <td>135868</td>\n      <td>0.7</td>\n      <td>3983</td>\n      <td>139851</td>\n      <td>29898100</td>\n    </tr>\n    <tr>\n      <th>475</th>\n      <td>2021-05-16</td>\n      <td>922</td>\n      <td>163930</td>\n      <td>0.6</td>\n      <td>4366</td>\n      <td>168296</td>\n      <td>30066396</td>\n    </tr>\n    <tr>\n      <th>476</th>\n      <td>2021-05-17</td>\n      <td>1147</td>\n      <td>196331</td>\n      <td>0.6</td>\n      <td>6585</td>\n      <td>202916</td>\n      <td>30269312</td>\n    </tr>\n    <tr>\n      <th>477</th>\n      <td>2021-05-18</td>\n      <td>1160</td>\n      <td>173022</td>\n      <td>0.7</td>\n      <td>5687</td>\n      <td>178709</td>\n      <td>30448021</td>\n    </tr>\n    <tr>\n      <th>478</th>\n      <td>2021-05-19</td>\n      <td>220</td>\n      <td>34896</td>\n      <td>0.6</td>\n      <td>1107</td>\n      <td>36003</td>\n      <td>30484024</td>\n    </tr>\n  </tbody>\n</table>\n</div>"
     },
     "metadata": {},
     "execution_count": 12
    }
   ],
   "source": [
    "dfPCR.tail()"
   ]
  },
  {
   "cell_type": "code",
   "execution_count": 13,
   "metadata": {},
   "outputs": [
    {
     "output_type": "execute_result",
     "data": {
      "text/plain": [
       "          Dato  AG_testede  AG_pos  AGpos_PCRkonf  Andel_AGpos_PCRkonf_pct  \\\n",
       "100 2021-05-12      424347     526            492                93.536122   \n",
       "101 2021-05-13      294921     399            364                91.228070   \n",
       "102 2021-05-14      323243     405            371                91.604938   \n",
       "103 2021-05-15      263618     346            305                88.150289   \n",
       "104 2021-05-16      305346     419            383                91.408115   \n",
       "\n",
       "     AGpos_minusPCRkonf  Andel_AGminusPCRkonf_pct  AGpos_PCRpos  AGposPCRneg  \\\n",
       "100                  34                  6.463878           308          175   \n",
       "101                  35                  8.771930           210          147   \n",
       "102                  34                  8.395062           219          148   \n",
       "103                  41                 11.849711           187          115   \n",
       "104                  36                  8.591885           262          115   \n",
       "\n",
       "     AGnegPCRpos  AGnegPCRneg  \n",
       "100          284        27924  \n",
       "101          189        17231  \n",
       "102          244        18794  \n",
       "103          232        18258  \n",
       "104          276        19933  "
      ],
      "text/html": "<div>\n<style scoped>\n    .dataframe tbody tr th:only-of-type {\n        vertical-align: middle;\n    }\n\n    .dataframe tbody tr th {\n        vertical-align: top;\n    }\n\n    .dataframe thead th {\n        text-align: right;\n    }\n</style>\n<table border=\"1\" class=\"dataframe\">\n  <thead>\n    <tr style=\"text-align: right;\">\n      <th></th>\n      <th>Dato</th>\n      <th>AG_testede</th>\n      <th>AG_pos</th>\n      <th>AGpos_PCRkonf</th>\n      <th>Andel_AGpos_PCRkonf_pct</th>\n      <th>AGpos_minusPCRkonf</th>\n      <th>Andel_AGminusPCRkonf_pct</th>\n      <th>AGpos_PCRpos</th>\n      <th>AGposPCRneg</th>\n      <th>AGnegPCRpos</th>\n      <th>AGnegPCRneg</th>\n    </tr>\n  </thead>\n  <tbody>\n    <tr>\n      <th>100</th>\n      <td>2021-05-12</td>\n      <td>424347</td>\n      <td>526</td>\n      <td>492</td>\n      <td>93.536122</td>\n      <td>34</td>\n      <td>6.463878</td>\n      <td>308</td>\n      <td>175</td>\n      <td>284</td>\n      <td>27924</td>\n    </tr>\n    <tr>\n      <th>101</th>\n      <td>2021-05-13</td>\n      <td>294921</td>\n      <td>399</td>\n      <td>364</td>\n      <td>91.228070</td>\n      <td>35</td>\n      <td>8.771930</td>\n      <td>210</td>\n      <td>147</td>\n      <td>189</td>\n      <td>17231</td>\n    </tr>\n    <tr>\n      <th>102</th>\n      <td>2021-05-14</td>\n      <td>323243</td>\n      <td>405</td>\n      <td>371</td>\n      <td>91.604938</td>\n      <td>34</td>\n      <td>8.395062</td>\n      <td>219</td>\n      <td>148</td>\n      <td>244</td>\n      <td>18794</td>\n    </tr>\n    <tr>\n      <th>103</th>\n      <td>2021-05-15</td>\n      <td>263618</td>\n      <td>346</td>\n      <td>305</td>\n      <td>88.150289</td>\n      <td>41</td>\n      <td>11.849711</td>\n      <td>187</td>\n      <td>115</td>\n      <td>232</td>\n      <td>18258</td>\n    </tr>\n    <tr>\n      <th>104</th>\n      <td>2021-05-16</td>\n      <td>305346</td>\n      <td>419</td>\n      <td>383</td>\n      <td>91.408115</td>\n      <td>36</td>\n      <td>8.591885</td>\n      <td>262</td>\n      <td>115</td>\n      <td>276</td>\n      <td>19933</td>\n    </tr>\n  </tbody>\n</table>\n</div>"
     },
     "metadata": {},
     "execution_count": 13
    }
   ],
   "source": [
    "df2.tail()"
   ]
  },
  {
   "cell_type": "code",
   "execution_count": 14,
   "metadata": {},
   "outputs": [
    {
     "output_type": "execute_result",
     "data": {
      "text/plain": [
       "100    0.077598\n",
       "101    0.078052\n",
       "102    0.073960\n",
       "103    0.080472\n",
       "104    0.093869\n",
       "dtype: float64"
      ]
     },
     "metadata": {},
     "execution_count": 14
    }
   ],
   "source": [
    "np.divide(np.divide(df2['AGpos_PCRpos'],df2['AG_testede']),0.01*df2['Andel_AGpos_PCRkonf_pct']).tail()*100"
   ]
  },
  {
   "cell_type": "code",
   "execution_count": 15,
   "metadata": {},
   "outputs": [
    {
     "output_type": "execute_result",
     "data": {
      "text/plain": [
       "469    224.344533\n",
       "470    210.865067\n",
       "471    236.040533\n",
       "472    190.436267\n",
       "473    178.572800\n",
       "474    149.174400\n",
       "475    179.515733\n",
       "476    216.443733\n",
       "477    190.622933\n",
       "478     38.403200\n",
       "Name: Tested, dtype: float64"
      ]
     },
     "metadata": {},
     "execution_count": 15
    }
   ],
   "source": [
    "(dfPCR['Tested']*0.8*0.0008*(10/6))[-10:]"
   ]
  },
  {
   "cell_type": "code",
   "execution_count": 16,
   "metadata": {},
   "outputs": [
    {
     "output_type": "execute_result",
     "data": {
      "text/plain": [
       "          Date  NewPositive  NotPrevPos  PosPct  PrevPos  Tested  \\\n",
       "469 2021-05-10         1132      203037     0.6     7286  210323   \n",
       "470 2021-05-11         1294      190893     0.7     6793  197686   \n",
       "471 2021-05-12         1156      214486     0.5     6802  221288   \n",
       "472 2021-05-13          902      173645     0.5     4889  178534   \n",
       "473 2021-05-14          872      162528     0.5     4884  167412   \n",
       "474 2021-05-15          941      135868     0.7     3983  139851   \n",
       "475 2021-05-16          922      163930     0.6     4366  168296   \n",
       "476 2021-05-17         1147      196331     0.6     6585  202916   \n",
       "477 2021-05-18         1160      173022     0.7     5687  178709   \n",
       "478 2021-05-19          220       34896     0.6     1107   36003   \n",
       "\n",
       "     Tested_kumulativ  \n",
       "469          28993329  \n",
       "470          29191015  \n",
       "471          29412303  \n",
       "472          29590837  \n",
       "473          29758249  \n",
       "474          29898100  \n",
       "475          30066396  \n",
       "476          30269312  \n",
       "477          30448021  \n",
       "478          30484024  "
      ],
      "text/html": "<div>\n<style scoped>\n    .dataframe tbody tr th:only-of-type {\n        vertical-align: middle;\n    }\n\n    .dataframe tbody tr th {\n        vertical-align: top;\n    }\n\n    .dataframe thead th {\n        text-align: right;\n    }\n</style>\n<table border=\"1\" class=\"dataframe\">\n  <thead>\n    <tr style=\"text-align: right;\">\n      <th></th>\n      <th>Date</th>\n      <th>NewPositive</th>\n      <th>NotPrevPos</th>\n      <th>PosPct</th>\n      <th>PrevPos</th>\n      <th>Tested</th>\n      <th>Tested_kumulativ</th>\n    </tr>\n  </thead>\n  <tbody>\n    <tr>\n      <th>469</th>\n      <td>2021-05-10</td>\n      <td>1132</td>\n      <td>203037</td>\n      <td>0.6</td>\n      <td>7286</td>\n      <td>210323</td>\n      <td>28993329</td>\n    </tr>\n    <tr>\n      <th>470</th>\n      <td>2021-05-11</td>\n      <td>1294</td>\n      <td>190893</td>\n      <td>0.7</td>\n      <td>6793</td>\n      <td>197686</td>\n      <td>29191015</td>\n    </tr>\n    <tr>\n      <th>471</th>\n      <td>2021-05-12</td>\n      <td>1156</td>\n      <td>214486</td>\n      <td>0.5</td>\n      <td>6802</td>\n      <td>221288</td>\n      <td>29412303</td>\n    </tr>\n    <tr>\n      <th>472</th>\n      <td>2021-05-13</td>\n      <td>902</td>\n      <td>173645</td>\n      <td>0.5</td>\n      <td>4889</td>\n      <td>178534</td>\n      <td>29590837</td>\n    </tr>\n    <tr>\n      <th>473</th>\n      <td>2021-05-14</td>\n      <td>872</td>\n      <td>162528</td>\n      <td>0.5</td>\n      <td>4884</td>\n      <td>167412</td>\n      <td>29758249</td>\n    </tr>\n    <tr>\n      <th>474</th>\n      <td>2021-05-15</td>\n      <td>941</td>\n      <td>135868</td>\n      <td>0.7</td>\n      <td>3983</td>\n      <td>139851</td>\n      <td>29898100</td>\n    </tr>\n    <tr>\n      <th>475</th>\n      <td>2021-05-16</td>\n      <td>922</td>\n      <td>163930</td>\n      <td>0.6</td>\n      <td>4366</td>\n      <td>168296</td>\n      <td>30066396</td>\n    </tr>\n    <tr>\n      <th>476</th>\n      <td>2021-05-17</td>\n      <td>1147</td>\n      <td>196331</td>\n      <td>0.6</td>\n      <td>6585</td>\n      <td>202916</td>\n      <td>30269312</td>\n    </tr>\n    <tr>\n      <th>477</th>\n      <td>2021-05-18</td>\n      <td>1160</td>\n      <td>173022</td>\n      <td>0.7</td>\n      <td>5687</td>\n      <td>178709</td>\n      <td>30448021</td>\n    </tr>\n    <tr>\n      <th>478</th>\n      <td>2021-05-19</td>\n      <td>220</td>\n      <td>34896</td>\n      <td>0.6</td>\n      <td>1107</td>\n      <td>36003</td>\n      <td>30484024</td>\n    </tr>\n  </tbody>\n</table>\n</div>"
     },
     "metadata": {},
     "execution_count": 16
    }
   ],
   "source": [
    "dfPCR.iloc[-10:]"
   ]
  },
  {
   "cell_type": "code",
   "execution_count": 17,
   "metadata": {},
   "outputs": [
    {
     "output_type": "display_data",
     "data": {
      "text/plain": "Canvas(toolbar=Toolbar(toolitems=[('Home', 'Reset original view', 'home', 'home'), ('Back', 'Back to previous …",
      "application/vnd.jupyter.widget-view+json": {
       "version_major": 2,
       "version_minor": 0,
       "model_id": "eae550abbfcc4e2084a75eb6f2e52f59"
      }
     },
     "metadata": {}
    }
   ],
   "source": [
    "fig,ax1 = plt.subplots(1,1)\n",
    "ax1.plot(df.Date,100*df.Tested/5800000)\n",
    "meanWidth=7\n",
    "ax1.plot(rnTime(df.Date,meanWidth),100*rnMean(df.Tested,meanWidth)/5800000,'k:')\n",
    "\n",
    "ax1.set_xlim([np.datetime64('2021-02-01'),df.iloc[-1,0]])\n",
    "plt.show()"
   ]
  },
  {
   "cell_type": "code",
   "execution_count": 18,
   "metadata": {},
   "outputs": [
    {
     "output_type": "display_data",
     "data": {
      "text/plain": "Canvas(toolbar=Toolbar(toolitems=[('Home', 'Reset original view', 'home', 'home'), ('Back', 'Back to previous …",
      "application/vnd.jupyter.widget-view+json": {
       "version_major": 2,
       "version_minor": 0,
       "model_id": "5dabed7407ae443c80e15ef120f39b3b"
      }
     },
     "metadata": {}
    }
   ],
   "source": [
    "# fig,ax1 = plt.subplots(1,1)\n",
    "fig,(ax1,ax2) = plt.subplots(2,1,sharex=True)\n",
    "\n",
    "ax1.plot(df.Date,df.Tested,label='Antal AG tests')\n",
    "ax1.plot(dfPCR.Date,dfPCR.Tested,'k*:',label='Antal PCR tests')\n",
    "ax1.plot(rnTime(dfPCR.Date,7),rnMean(dfPCR.Tested,7),'k',label='Antal PCR tests, 7 dages gennemsnit')\n",
    "\n",
    "# ax2.plot(df.Date,df.PosPct,label='Positiv procent, AG')\n",
    "# ax2.plot(dfPCR.Date,dfPCR.PosPct,label='Positive procent, PCR')\n",
    "ax2.plot(df.Date,100*np.divide(df.NewPositive,df.Tested),label='Positiv procent, AG')\n",
    "ax2.plot(dfPCR.Date,100*np.divide(dfPCR.NewPositive,dfPCR.Tested),'k',label='Positiv procent, PCR')\n",
    "\n",
    "\n",
    "ax1.legend(loc='center left',bbox_to_anchor = (1.0, 0.5))\n",
    "ax2.legend(loc='center left',bbox_to_anchor = (1.0, 0.5))\n",
    "\n",
    "ax1.grid()\n",
    "ax2.grid()\n",
    "\n",
    "ax1.set_ylim(bottom=0)\n",
    "ax2.set_ylim(bottom=0,top=0.7)\n",
    "\n",
    "ax1.set_xlim(left=np.datetime64('2021-02-01'),right=date.today())\n",
    "ax1.xaxis.set_major_formatter(mdates.DateFormatter('%d %b\\n%Y'))\n",
    "\n",
    "plt.tight_layout()\n",
    "\n",
    "# if saveFigures:\n",
    "#     plt.savefig('figs/AntalTestOgPosPct')"
   ]
  },
  {
   "cell_type": "code",
   "execution_count": 19,
   "metadata": {},
   "outputs": [
    {
     "output_type": "display_data",
     "data": {
      "text/plain": "Canvas(toolbar=Toolbar(toolitems=[('Home', 'Reset original view', 'home', 'home'), ('Back', 'Back to previous …",
      "application/vnd.jupyter.widget-view+json": {
       "version_major": 2,
       "version_minor": 0,
       "model_id": "2bcd85b191224d69ad8633627865be01"
      }
     },
     "metadata": {}
    }
   ],
   "source": [
    "firstDate = np.datetime64('2021-02-01')\n",
    "# lastDate = np.datetime64('2021-04-24')\n",
    "# lastDate = np.datetime64('2021-05-02')\n",
    "# lastDate = np.datetime64(date.today()) - np.timedelta64(6,'D')\n",
    "# lastDate = np.datetime64('2021-05-15')\n",
    "lastDate = np.datetime64(df2.iloc[-1,0],'D') + np.timedelta64(1,'D')\n",
    "\n",
    "curDates = np.arange(firstDate,lastDate)\n",
    "\n",
    "# posAG  = df[df.Date.isin(curDates)].NewPositive \n",
    "PCRpos = dfPCR[dfPCR.Date.isin(curDates)].NewPositive.values\n",
    "numPCR = dfPCR[dfPCR.Date.isin(curDates)].Tested.values\n",
    "AGpos = df[df.Date.isin(curDates)].NewPositive.values\n",
    "numAG = df[df.Date.isin(curDates)].Tested.values\n",
    "AGposPCRpos = df2[df2.Dato.isin(curDates)].AGpos_PCRpos.values\n",
    "# PCRposPct = dfPCR[dfPCR.Date.isin(curDates)].PosPct.values\n",
    "PCRposPct = np.divide(PCRpos,numPCR)\n",
    "AGposPct = np.divide(AGpos,numAG)\n",
    "\n",
    "# Positive PCR-tests, excluding those that only got tested because of a positive AG-test\n",
    "PCRpos_nonAG = PCRpos-AGposPCRpos\n",
    "\n",
    "# Factor used for scaling with respect to number of tests\n",
    "scaleFactor = 0.7\n",
    "\n",
    "# Screening-ratio (Guess about how many tests would have been carried out in the absence of wide screening)\n",
    "screenRatio = 1/6\n",
    "\n",
    "\n",
    "scaleScreenRatio = screenRatio**scaleFactor\n",
    "\n",
    "# \n",
    "multFactor = (1-screenRatio**scaleFactor)\n",
    "\n",
    "\n",
    "fig,(ax1,ax2) = plt.subplots(2,1,sharex=True)\n",
    "\n",
    "ax1.plot(curDates,AGposPCRpos,label='AG positive, PCR confirmed')\n",
    "ax1.plot(curDates,PCRpos,label='PCR positive, total')\n",
    "ax1.plot(curDates,PCRpos_nonAG,label='PCR positive, non-AG')\n",
    "ax1.plot(curDates,np.multiply(PCRpos_nonAG,scaleScreenRatio),label='PCR positive, non-AG\\nAssumed due to symptoms')\n",
    "ax1.plot(curDates,np.multiply(PCRpos_nonAG,multFactor),label='PCR positive, non-AG\\nAssumed due to screening')\n",
    "ax1.plot(curDates,AGposPCRpos + np.multiply(PCRpos_nonAG,multFactor),label='PCR positive, non-AG, screening,\\nand AG confirmatory tests')\n",
    "\n",
    "meanWidth = 7\n",
    "ax1.plot(rnTime(curDates,meanWidth),rnMean(AGposPCRpos + np.multiply(PCRpos_nonAG,multFactor),meanWidth),'k:',label='PCR positive, non-AG, screening,\\nand AG confirmatory tests, 7 day mean')\n",
    "# ax1.plot(curDates,PCRpos - (AGposPCRpos + np.multiply(PCRpos_nonAG,multFactor)),label='PCR positive, as neighbours')\n",
    "\n",
    "foundThroughScreening = AGposPCRpos + np.multiply(PCRpos_nonAG,multFactor)\n",
    "foundThroughPCRScreening = np.multiply(PCRpos_nonAG,multFactor)\n",
    "\n",
    "\n",
    "ax2.plot(curDates,100*PCRposPct,'b.-',linewidth=0.5,markersize=2,label='PCR, total')\n",
    "ax2.plot(rnTime(curDates,meanWidth),100*rnMean(PCRposPct,meanWidth),'b',label='PCR, total, '+str(meanWidth)+' day mean')\n",
    "ax2.plot(curDates,100*AGposPct,'.-',color='xkcd:dark red',label='AG',linewidth=0.5,markersize=2)\n",
    "ax2.plot(rnTime(curDates,meanWidth),100*rnMean(AGposPct,meanWidth),color='xkcd:dark red',label='AG, '+str(meanWidth)+' day mean')\n",
    "ax2.plot(curDates,2*100*AGposPct,'.-',color='xkcd:red',label='AG, multiplied by 2',linewidth=0.5,markersize=2)\n",
    "ax2.plot(rnTime(curDates,meanWidth),2*100*rnMean(AGposPct,meanWidth),color='xkcd:red',label='AG, multiplied by 2, '+str(meanWidth)+' day mean')\n",
    "\n",
    "ax2.plot(curDates,100*np.divide(foundThroughPCRScreening,numPCR*(1-screenRatio)),'.-',linewidth=0.5,markersize=2,color='xkcd:green',label='PCR, screening')\n",
    "ax2.plot(rnTime(curDates,meanWidth),rnMean(100*np.divide(foundThroughPCRScreening,numPCR*(1-screenRatio)),meanWidth),color='xkcd:green',label='PCR, screening, '+str(meanWidth)+' day mean')\n",
    "# ax2.plot(curDates,6*100*np.divide(PCRpos - (AGposPCRpos + np.multiply(PCRpos_nonAG,multFactor)),numPCR),label='PCR positive, as neighbours')\n",
    "\n",
    "# ax2.plot(rnTime(curDates,meanWidth),100*rnMean(PCRposPct,meanWidth),'b')\n",
    "# ax2.plot(rnTime(curDates,meanWidth),rnMean(6*100*np.divide(PCRpos - (AGposPCRpos + np.multiply(PCRpos_nonAG,multFactor)),numPCR),7),':')\n",
    "\n",
    "ax1.legend(loc='center left',bbox_to_anchor = (1.0, 0.5))\n",
    "ax2.legend(loc='center left',bbox_to_anchor = (1.0, 0.5))\n",
    "ax1.grid()\n",
    "ax2.grid()\n",
    "ax1.set_ylim(bottom=0)\n",
    "ax2.set_ylim(bottom=0)\n",
    "plt.tight_layout()\n",
    "\n",
    "if saveFigures:\n",
    "    plt.savefig('figs/EstimateOfEffectOfScreening')"
   ]
  },
  {
   "cell_type": "code",
   "execution_count": 20,
   "metadata": {},
   "outputs": [
    {
     "output_type": "display_data",
     "data": {
      "text/plain": "Canvas(toolbar=Toolbar(toolitems=[('Home', 'Reset original view', 'home', 'home'), ('Back', 'Back to previous …",
      "application/vnd.jupyter.widget-view+json": {
       "version_major": 2,
       "version_minor": 0,
       "model_id": "ea7b86149a594706ad0a534935c717bf"
      }
     },
     "metadata": {}
    }
   ],
   "source": [
    "fig,(ax1,ax2,ax3) = plt.subplots(3,1,sharex=True)\n",
    "\n",
    "meanWidth = 7\n",
    "\n",
    "ax1.plot(curDates,AGposPCRpos,'.-',color='xkcd:hot pink',linewidth=0.5,markersize=2,label='AG positive, PCR confirmed')\n",
    "ax1.plot(rnTime(curDates,meanWidth),rnMean(AGposPCRpos,meanWidth),color='xkcd:hot pink',label=str(meanWidth)+' day running mean')\n",
    "ax1.plot(curDates,PCRpos,'.-',color='xkcd:rust',linewidth=0.5,markersize=2,label='PCR positive, total')\n",
    "ax1.plot(rnTime(curDates,meanWidth),rnMean(PCRpos,meanWidth),color='xkcd:rust',label=str(meanWidth)+' day running mean')\n",
    "ax1.plot(curDates,PCRpos_nonAG,'g.-',linewidth=0.5,markersize=2,label='PCR positive,\\nexcluding tests to confirm AG-tests')\n",
    "ax1.plot(rnTime(curDates,meanWidth),rnMean(PCRpos_nonAG,meanWidth),'g',label=str(meanWidth)+' day running mean')\n",
    "\n",
    "\n",
    "ax2.fill_between(curDates,np.multiply(PCRpos_nonAG,multFactor),PCRpos_nonAG,color='g',label='PCR positive,\\nexcluding tests to confirm AG-tests')\n",
    "ax2.fill_between(curDates,np.multiply(PCRpos_nonAG,multFactor),color='xkcd:royal blue',label=f'PCR positive, non-AG\\nAssumed due to screening\\n({100*multFactor:.2f} %)')\n",
    "\n",
    "# ax1.plot(curDates,np.multiply(PCRpos_nonAG,scaleScreenRatio),label='PCR positive, non-AG\\nAssumed due to symptoms')\n",
    "# ax1.plot(curDates,np.multiply(PCRpos_nonAG,multFactor),label='PCR positive, non-AG\\nAssumed due to screening')\n",
    "ax3.plot(curDates,np.multiply(PCRpos_nonAG,multFactor),'.-',linewidth=0.5,markersize=2,color='xkcd:royal blue',label=f'PCR positive, non-AG\\nAssumed due to screening\\n({100*multFactor:.2f} %)')\n",
    "ax3.plot(rnTime(curDates,meanWidth),rnMean(np.multiply(PCRpos_nonAG,multFactor),meanWidth),'xkcd:royal blue',label=str(meanWidth)+' day running mean')\n",
    "\n",
    "ax3.plot(curDates,AGposPCRpos + np.multiply(PCRpos_nonAG,multFactor),'m.-',linewidth=0.5,markersize=2,label='PCR positive, non-AG, screening,\\nand AG confirmatory tests')\n",
    "\n",
    "ax3.plot(rnTime(curDates,meanWidth),rnMean(AGposPCRpos + np.multiply(PCRpos_nonAG,multFactor),meanWidth),'m',label=str(meanWidth)+' day running mean')\n",
    "\n",
    "ax1.legend(loc='center left',bbox_to_anchor = (1.0, 0.5))\n",
    "ax2.legend(loc='center left',bbox_to_anchor = (1.0, 0.5))\n",
    "ax3.legend(loc='center left',bbox_to_anchor = (1.0, 0.5))\n",
    "ax1.grid()\n",
    "ax3.grid()\n",
    "ax1.set_ylim(bottom=0)\n",
    "ax2.set_ylim(bottom=0)\n",
    "ax3.set_ylim(bottom=0)\n",
    "\n",
    "\n",
    "\n",
    "ax1.set_xlim([firstDate,lastDate-np.timedelta64(1,'D')])\n",
    "plt.tight_layout()\n",
    "\n",
    "\n",
    "if saveFigures:\n",
    "    plt.savefig('figs/EstimateOfEffectOfScreeningNew')"
   ]
  },
  {
   "cell_type": "code",
   "execution_count": 21,
   "metadata": {},
   "outputs": [
    {
     "output_type": "display_data",
     "data": {
      "text/plain": "Canvas(toolbar=Toolbar(toolitems=[('Home', 'Reset original view', 'home', 'home'), ('Back', 'Back to previous …",
      "application/vnd.jupyter.widget-view+json": {
       "version_major": 2,
       "version_minor": 0,
       "model_id": "c518034d92f14d04ace82fdcfa270d25"
      }
     },
     "metadata": {}
    }
   ],
   "source": [
    "# fig,(ax1,ax2,ax3) = plt.subplots(3,1,sharex=True)\n",
    "fig,ax1 = plt.subplots(1,1,sharex=True)\n",
    "\n",
    "meanWidth = 7\n",
    "\n",
    "ax1.plot(curDates,PCRpos,'.-',color='xkcd:rust',linewidth=0.5,markersize=2,label='PCR positive, total')\n",
    "ax1.plot(rnTime(curDates,meanWidth),rnMean(PCRpos,meanWidth),color='xkcd:rust')\n",
    "ax1.plot(curDates,PCRpos_nonAG,'g.-',linewidth=0.5,markersize=2,label='PCR positive, due to only PCR')\n",
    "ax1.plot(rnTime(curDates,meanWidth),rnMean(PCRpos_nonAG,meanWidth),'g')\n",
    "ax1.plot(curDates,AGposPCRpos,'.-',color='xkcd:hot pink',linewidth=0.5,markersize=2,label='PCR positive, due to AG')\n",
    "ax1.plot(rnTime(curDates,meanWidth),rnMean(AGposPCRpos,meanWidth),color='xkcd:hot pink')\n",
    "\n",
    "\n",
    "# ax2.fill_between(curDates,np.multiply(PCRpos_nonAG,multFactor),PCRpos_nonAG,color='g',label='PCR positive,\\nexcluding tests to confirm AG-tests')\n",
    "# ax2.fill_between(curDates,np.multiply(PCRpos_nonAG,multFactor),color='xkcd:royal blue',label=f'PCR positive, non-AG\\nAssumed due to screening\\n({100*multFactor:.2f} %)')\n",
    "\n",
    "# # ax1.plot(curDates,np.multiply(PCRpos_nonAG,scaleScreenRatio),label='PCR positive, non-AG\\nAssumed due to symptoms')\n",
    "# # ax1.plot(curDates,np.multiply(PCRpos_nonAG,multFactor),label='PCR positive, non-AG\\nAssumed due to screening')\n",
    "# ax3.plot(curDates,np.multiply(PCRpos_nonAG,multFactor),'.-',linewidth=0.5,markersize=2,color='xkcd:royal blue',label=f'PCR positive, non-AG\\nAssumed due to screening\\n({100*multFactor:.2f} %)')\n",
    "# ax3.plot(rnTime(curDates,meanWidth),rnMean(np.multiply(PCRpos_nonAG,multFactor),meanWidth),'xkcd:royal blue',label=str(meanWidth)+' day running mean')\n",
    "\n",
    "# ax3.plot(curDates,AGposPCRpos + np.multiply(PCRpos_nonAG,multFactor),'m.-',linewidth=0.5,markersize=2,label='PCR positive, non-AG, screening,\\nand AG confirmatory tests')\n",
    "\n",
    "# ax3.plot(rnTime(curDates,meanWidth),rnMean(AGposPCRpos + np.multiply(PCRpos_nonAG,multFactor),meanWidth),'m',label=str(meanWidth)+' day running mean')\n",
    "\n",
    "# ax1.legend(loc='center center',bbox_to_anchor = (0.5, 1.0))\n",
    "ax1.legend(loc='upper left')\n",
    "# ax2.legend(loc='center left',bbox_to_anchor = (1.0, 0.5))\n",
    "# ax3.legend(loc='center left',bbox_to_anchor = (1.0, 0.5))\n",
    "ax1.grid()\n",
    "# ax3.grid()\n",
    "ax1.set_ylim(bottom=0,top=1300)\n",
    "# ax2.set_ylim(bottom=0)\n",
    "# ax3.set_ylim(bottom=0)\n",
    "\n",
    "ax1.set_ylabel('Count')\n",
    "\n",
    "\n",
    "ax1.set_xlim([firstDate,lastDate-np.timedelta64(1,'D')])\n",
    "plt.tight_layout()\n",
    "\n",
    "\n",
    "if saveFigures:\n",
    "    plt.savefig('figs/Viggo_Screening')"
   ]
  },
  {
   "cell_type": "code",
   "execution_count": 22,
   "metadata": {},
   "outputs": [
    {
     "output_type": "display_data",
     "data": {
      "text/plain": "Canvas(toolbar=Toolbar(toolitems=[('Home', 'Reset original view', 'home', 'home'), ('Back', 'Back to previous …",
      "application/vnd.jupyter.widget-view+json": {
       "version_major": 2,
       "version_minor": 0,
       "model_id": "c12131b8bbf341eda7253d469c192b74"
      }
     },
     "metadata": {}
    }
   ],
   "source": [
    "# fig,(ax1,ax2,ax3) = plt.subplots(3,1,sharex=True)\n",
    "fig,ax1 = plt.subplots(1,1,sharex=True)\n",
    "\n",
    "meanWidth = 7\n",
    "\n",
    "ax1.plot(curDates,PCRpos_nonAG,'g.-',linewidth=0.5,markersize=2,label='PCR positive, due to only PCR (all)')\n",
    "ax1.plot(rnTime(curDates,meanWidth),rnMean(PCRpos_nonAG,meanWidth),'g')\n",
    "\n",
    "\n",
    "# ax2.fill_between(curDates,np.multiply(PCRpos_nonAG,multFactor),PCRpos_nonAG,color='g',label='PCR positive,\\nexcluding tests to confirm AG-tests')\n",
    "ax1.plot(curDates,np.multiply(PCRpos_nonAG,multFactor),'.-',linewidth=0.5,markersize=2,color='xkcd:royal blue',label=f'PCR positive, due to only PCR (screening, {100*multFactor:.2f} %)')\n",
    "ax1.plot(rnTime(curDates,meanWidth),rnMean(np.multiply(PCRpos_nonAG,multFactor),meanWidth),color='xkcd:royal blue')\n",
    "\n",
    "# # ax1.plot(curDates,np.multiply(PCRpos_nonAG,scaleScreenRatio),label='PCR positive, non-AG\\nAssumed due to symptoms')\n",
    "# # ax1.plot(curDates,np.multiply(PCRpos_nonAG,multFactor),label='PCR positive, non-AG\\nAssumed due to screening')\n",
    "# ax3.plot(curDates,np.multiply(PCRpos_nonAG,multFactor),'.-',linewidth=0.5,markersize=2,color='xkcd:royal blue',label=f'PCR positive, non-AG\\nAssumed due to screening\\n({100*multFactor:.2f} %)')\n",
    "# ax3.plot(rnTime(curDates,meanWidth),rnMean(np.multiply(PCRpos_nonAG,multFactor),meanWidth),'xkcd:royal blue',label=str(meanWidth)+' day running mean')\n",
    "\n",
    "# ax3.plot(curDates,AGposPCRpos + np.multiply(PCRpos_nonAG,multFactor),'m.-',linewidth=0.5,markersize=2,label='PCR positive, non-AG, screening,\\nand AG confirmatory tests')\n",
    "\n",
    "# ax3.plot(rnTime(curDates,meanWidth),rnMean(AGposPCRpos + np.multiply(PCRpos_nonAG,multFactor),meanWidth),'m',label=str(meanWidth)+' day running mean')\n",
    "\n",
    "# ax1.legend(loc='center center',bbox_to_anchor = (0.5, 1.0))\n",
    "# ax1.legend()\n",
    "ax1.legend(loc='upper left')\n",
    "# ax2.legend(loc='center left',bbox_to_anchor = (1.0, 0.5))\n",
    "# ax3.legend(loc='center left',bbox_to_anchor = (1.0, 0.5))\n",
    "ax1.grid()\n",
    "# ax3.grid()\n",
    "ax1.set_ylim(bottom=0,top=1300)\n",
    "# ax2.set_ylim(bottom=0)\n",
    "# ax3.set_ylim(bottom=0)\n",
    "\n",
    "ax1.set_ylabel('Count')\n",
    "\n",
    "\n",
    "ax1.set_xlim([firstDate,lastDate-np.timedelta64(1,'D')])\n",
    "plt.tight_layout()\n",
    "\n",
    "\n",
    "if saveFigures:\n",
    "    plt.savefig('figs/Viggo_Screening2')"
   ]
  },
  {
   "cell_type": "code",
   "execution_count": 23,
   "metadata": {},
   "outputs": [
    {
     "output_type": "display_data",
     "data": {
      "text/plain": "Canvas(toolbar=Toolbar(toolitems=[('Home', 'Reset original view', 'home', 'home'), ('Back', 'Back to previous …",
      "application/vnd.jupyter.widget-view+json": {
       "version_major": 2,
       "version_minor": 0,
       "model_id": "0a8b0f18a32743439ca7d5f1f8b9534e"
      }
     },
     "metadata": {}
    }
   ],
   "source": [
    "# fig,(ax1,ax2,ax3) = plt.subplots(3,1,sharex=True)\n",
    "fig,ax1 = plt.subplots(1,1,sharex=True)\n",
    "\n",
    "meanWidth = 7\n",
    "\n",
    "# ax1.plot(curDates,PCRpos_nonAG,'g.-',linewidth=0.5,markersize=2,label='PCR positive, due to only PCR (all)')\n",
    "# ax1.plot(rnTime(curDates,meanWidth),rnMean(PCRpos_nonAG,meanWidth),'g')\n",
    "\n",
    "\n",
    "# ax2.fill_between(curDates,np.multiply(PCRpos_nonAG,multFactor),PCRpos_nonAG,color='g',label='PCR positive,\\nexcluding tests to confirm AG-tests')\n",
    "ax1.plot(curDates,np.multiply(PCRpos_nonAG,multFactor),'.-',linewidth=0.5,markersize=2,color='xkcd:royal blue',label=f'PCR positive, due to only PCR (screening, {100*multFactor:.2f} %)')\n",
    "ax1.plot(rnTime(curDates,meanWidth),rnMean(np.multiply(PCRpos_nonAG,multFactor),meanWidth),color='xkcd:royal blue')\n",
    "\n",
    "ax1.plot(curDates,AGposPCRpos + np.multiply(PCRpos_nonAG,multFactor),'m.-',linewidth=0.5,markersize=2,label=f'PCR positive, due to only PCR (screening, {100*multFactor:.2f} %) + AG confirmatory tests')\n",
    "\n",
    "ax1.plot(rnTime(curDates,meanWidth),rnMean(AGposPCRpos + np.multiply(PCRpos_nonAG,multFactor),meanWidth),'m')\n",
    "\n",
    "\n",
    "# # ax1.plot(curDates,np.multiply(PCRpos_nonAG,scaleScreenRatio),label='PCR positive, non-AG\\nAssumed due to symptoms')\n",
    "# # ax1.plot(curDates,np.multiply(PCRpos_nonAG,multFactor),label='PCR positive, non-AG\\nAssumed due to screening')\n",
    "# ax3.plot(curDates,np.multiply(PCRpos_nonAG,multFactor),'.-',linewidth=0.5,markersize=2,color='xkcd:royal blue',label=f'PCR positive, non-AG\\nAssumed due to screening\\n({100*multFactor:.2f} %)')\n",
    "# ax3.plot(rnTime(curDates,meanWidth),rnMean(np.multiply(PCRpos_nonAG,multFactor),meanWidth),'xkcd:royal blue',label=str(meanWidth)+' day running mean')\n",
    "\n",
    "# ax3.plot(curDates,AGposPCRpos + np.multiply(PCRpos_nonAG,multFactor),'m.-',linewidth=0.5,markersize=2,label='PCR positive, non-AG, screening,\\nand AG confirmatory tests')\n",
    "\n",
    "# ax3.plot(rnTime(curDates,meanWidth),rnMean(AGposPCRpos + np.multiply(PCRpos_nonAG,multFactor),meanWidth),'m',label=str(meanWidth)+' day running mean')\n",
    "\n",
    "# ax1.legend(loc='center center',bbox_to_anchor = (0.5, 1.0))\n",
    "# ax1.legend()\n",
    "ax1.legend(loc='upper left')\n",
    "# ax2.legend(loc='center left',bbox_to_anchor = (1.0, 0.5))\n",
    "# ax3.legend(loc='center left',bbox_to_anchor = (1.0, 0.5))\n",
    "ax1.grid()\n",
    "# ax3.grid()\n",
    "ax1.set_ylim(bottom=0,top=1300)\n",
    "# ax2.set_ylim(bottom=0)\n",
    "# ax3.set_ylim(bottom=0)\n",
    "\n",
    "ax1.set_ylabel('Count')\n",
    "\n",
    "\n",
    "ax1.set_xlim([firstDate,lastDate-np.timedelta64(1,'D')])\n",
    "plt.tight_layout()\n",
    "\n",
    "\n",
    "if saveFigures:\n",
    "    plt.savefig('figs/Viggo_Screening3')"
   ]
  },
  {
   "cell_type": "code",
   "execution_count": 24,
   "metadata": {},
   "outputs": [
    {
     "output_type": "display_data",
     "data": {
      "text/plain": "Canvas(toolbar=Toolbar(toolitems=[('Home', 'Reset original view', 'home', 'home'), ('Back', 'Back to previous …",
      "application/vnd.jupyter.widget-view+json": {
       "version_major": 2,
       "version_minor": 0,
       "model_id": "ba10d44299d2439aa91558e4ac8d15b6"
      }
     },
     "metadata": {}
    }
   ],
   "source": [
    "# firstDate = np.datetime64('2021-02-01')\n",
    "# lastDate = np.datetime64('2021-04-24')\n",
    "\n",
    "# curDates = np.arange(firstDate,lastDate)\n",
    "\n",
    "# posAG  = df[df.Date.isin(curDates)].NewPositive \n",
    "PCRpos = dfPCR[dfPCR.Date.isin(curDates)].NewPositive.values\n",
    "numPCR = dfPCR[dfPCR.Date.isin(curDates)].Tested.values\n",
    "AGpos = df[df.Date.isin(curDates)].NewPositive.values\n",
    "numAG = df[df.Date.isin(curDates)].Tested.values\n",
    "AGposPCRpos = df2[df2.Dato.isin(curDates)].AGpos_PCRpos.values\n",
    "# PCRposPct = dfPCR[dfPCR.Date.isin(curDates)].PosPct.values\n",
    "PCRposPct = np.divide(PCRpos,numPCR)\n",
    "AGposPct = np.divide(AGpos,numAG)\n",
    "\n",
    "# Positive PCR-tests, excluding those that only got tested because of a positive AG-test\n",
    "PCRpos_nonAG = PCRpos-AGposPCRpos\n",
    "\n",
    "# Factor used for scaling with respect to number of tests\n",
    "scaleFactor = 0.7\n",
    "\n",
    "# Screening-ratio (Guess about how many tests would have been carried out in the absence of wide screening)\n",
    "screenRatio = 1/6\n",
    "\n",
    "\n",
    "scaleScreenRatio = screenRatio**scaleFactor\n",
    "\n",
    "# \n",
    "multFactor = (1-screenRatio**scaleFactor)\n",
    "\n",
    "\n",
    "fig,ax2 = plt.subplots(1,1,sharex=True)\n",
    "\n",
    "# ax1.plot(curDates,AGposPCRpos,label='AG positive, PCR confirmed')\n",
    "# ax1.plot(curDates,PCRpos,label='PCR positive, total')\n",
    "# ax1.plot(curDates,PCRpos_nonAG,label='PCR positive, non-AG')\n",
    "# ax1.plot(curDates,np.multiply(PCRpos_nonAG,scaleScreenRatio),label='PCR positive, non-AG\\nAssumed due to symptoms')\n",
    "# ax1.plot(curDates,np.multiply(PCRpos_nonAG,multFactor),label='PCR positive, non-AG\\nAssumed due to screening')\n",
    "# ax1.plot(curDates,AGposPCRpos + np.multiply(PCRpos_nonAG,multFactor),label='PCR positive, non-AG, screening,\\nand AG confirmatory tests')\n",
    "\n",
    "meanWidth = 7\n",
    "# ax1.plot(rnTime(curDates,meanWidth),rnMean(AGposPCRpos + np.multiply(PCRpos_nonAG,multFactor),meanWidth),'k:',label='PCR positive, non-AG, screening,\\nand AG confirmatory tests, 7 day mean')\n",
    "# ax1.plot(curDates,PCRpos - (AGposPCRpos + np.multiply(PCRpos_nonAG,multFactor)),label='PCR positive, as neighbours')\n",
    "\n",
    "foundThroughScreening = AGposPCRpos + np.multiply(PCRpos_nonAG,multFactor)\n",
    "foundThroughPCRScreening = np.multiply(PCRpos_nonAG,multFactor)\n",
    "\n",
    "\n",
    "# ax2.plot(curDates,100*PCRposPct,'b.-',linewidth=0.5,markersize=2,label='PCR, total')\n",
    "ax2.plot(rnTime(curDates,meanWidth),100*rnMean(PCRposPct,meanWidth),'b',label='PCR, total')\n",
    "# ax2.plot(curDates,100*AGposPct,'.-',color='xkcd:dark red',label='AG',linewidth=0.5,markersize=2)\n",
    "ax2.plot(rnTime(curDates,meanWidth),100*rnMean(AGposPct,meanWidth),color='xkcd:dark red',label='AG')\n",
    "# ax2.plot(curDates,2*100*AGposPct,'.-',color='xkcd:red',label='AG, multiplied by 2',linewidth=0.5,markersize=2)\n",
    "ax2.plot(rnTime(curDates,meanWidth),2*100*rnMean(AGposPct,meanWidth),'--',color='xkcd:red',label='AG, multiplied by 2')\n",
    "\n",
    "# ax2.plot(curDates,100*np.divide(foundThroughPCRScreening,numPCR*(1-screenRatio)),'.-',linewidth=0.5,markersize=2,color='xkcd:green',label='PCR, screening')\n",
    "ax2.plot(rnTime(curDates,meanWidth),rnMean(100*np.divide(foundThroughPCRScreening,numPCR*(1-screenRatio)),meanWidth),color='xkcd:green',label='PCR, screening')\n",
    "# ax2.plot(curDates,6*100*np.divide(PCRpos - (AGposPCRpos + np.multiply(PCRpos_nonAG,multFactor)),numPCR),label='PCR positive, as neighbours')\n",
    "\n",
    "# ax2.plot(rnTime(curDates,meanWidth),100*rnMean(PCRposPct,meanWidth),'b')\n",
    "# ax2.plot(rnTime(curDates,meanWidth),rnMean(6*100*np.divide(PCRpos - (AGposPCRpos + np.multiply(PCRpos_nonAG,multFactor)),numPCR),7),':')\n",
    "\n",
    "ax2.set_ylabel('Positive percentage [%]')\n",
    "# ax1.legend(loc='center left',bbox_to_anchor = (1.0, 0.5))\n",
    "ax2.legend(loc='upper right')\n",
    "# ax1.grid()\n",
    "ax2.grid()\n",
    "# ax1.set_ylim(bottom=0)\n",
    "ax2.set_ylim(bottom=0,top=0.8)\n",
    "ax2.set_xlim([firstDate,lastDate-np.timedelta64(1,'D')])\n",
    "plt.tight_layout()\n",
    "\n",
    "if saveFigures:\n",
    "    plt.savefig('figs/Viggo_pospct')"
   ]
  },
  {
   "cell_type": "code",
   "execution_count": 25,
   "metadata": {},
   "outputs": [
    {
     "output_type": "display_data",
     "data": {
      "text/plain": "Canvas(toolbar=Toolbar(toolitems=[('Home', 'Reset original view', 'home', 'home'), ('Back', 'Back to previous …",
      "application/vnd.jupyter.widget-view+json": {
       "version_major": 2,
       "version_minor": 0,
       "model_id": "8bc37077484247d795ba002ba905f566"
      }
     },
     "metadata": {}
    }
   ],
   "source": [
    "# firstDate = np.datetime64('2021-02-01')\n",
    "# lastDate = np.datetime64('2021-04-24')\n",
    "\n",
    "# curDates = np.arange(firstDate,lastDate)\n",
    "\n",
    "# posAG  = df[df.Date.isin(curDates)].NewPositive \n",
    "PCRpos = dfPCR[dfPCR.Date.isin(curDates)].NewPositive.values\n",
    "numPCR = dfPCR[dfPCR.Date.isin(curDates)].Tested.values\n",
    "AGpos = df[df.Date.isin(curDates)].NewPositive.values\n",
    "numAG = df[df.Date.isin(curDates)].Tested.values\n",
    "AGposPCRpos = df2[df2.Dato.isin(curDates)].AGpos_PCRpos.values\n",
    "# PCRposPct = dfPCR[dfPCR.Date.isin(curDates)].PosPct.values\n",
    "PCRposPct = np.divide(PCRpos,numPCR)\n",
    "AGposPct = np.divide(AGpos,numAG)\n",
    "\n",
    "# Positive PCR-tests, excluding those that only got tested because of a positive AG-test\n",
    "PCRpos_nonAG = PCRpos-AGposPCRpos\n",
    "\n",
    "# Factor used for scaling with respect to number of tests\n",
    "scaleFactor = 0.7\n",
    "\n",
    "# Screening-ratio (Guess about how many tests would have been carried out in the absence of wide screening)\n",
    "screenRatio = 1/6\n",
    "\n",
    "\n",
    "scaleScreenRatio = screenRatio**scaleFactor\n",
    "\n",
    "# \n",
    "multFactor = (1-screenRatio**scaleFactor)\n",
    "\n",
    "\n",
    "fig,ax2 = plt.subplots(1,1,sharex=True)\n",
    "\n",
    "\n",
    "meanWidth = 7\n",
    "\n",
    "foundThroughScreening = AGposPCRpos + np.multiply(PCRpos_nonAG,multFactor)\n",
    "foundThroughPCRScreening = np.multiply(PCRpos_nonAG,multFactor)\n",
    "\n",
    "\n",
    "# # ax2.plot(curDates,100*PCRposPct,'b.-',linewidth=0.5,markersize=2,label='PCR, total')\n",
    "# ax2.plot(rnTime(curDates,meanWidth),100*rnMean(PCRposPct,meanWidth),'b',label='PCR, total')\n",
    "# # ax2.plot(curDates,100*AGposPct,'.-',color='xkcd:dark red',label='AG',linewidth=0.5,markersize=2)\n",
    "# ax2.plot(rnTime(curDates,meanWidth),100*rnMean(AGposPct,meanWidth),color='xkcd:dark red',label='AG')\n",
    "# # ax2.plot(curDates,2*100*AGposPct,'.-',color='xkcd:red',label='AG, multiplied by 2',linewidth=0.5,markersize=2)\n",
    "# ax2.plot(rnTime(curDates,meanWidth),2*100*rnMean(AGposPct,meanWidth),'--',color='xkcd:red',label='AG, multiplied by 2')\n",
    "\n",
    "# ax2.plot(curDates,100*np.divide(foundThroughPCRScreening,numPCR*(1-screenRatio)),'.-',linewidth=0.5,markersize=2,color='xkcd:green',label='PCR, screening')\n",
    "ax2.plot(rnTime(curDates,meanWidth),5800000*rnMean(np.divide(foundThroughPCRScreening,numPCR*(1-screenRatio)),meanWidth),color='xkcd:green',label='PCR, screening')\n",
    "# ax2.plot(curDates,6*100*np.divide(PCRpos - (AGposPCRpos + np.multiply(PCRpos_nonAG,multFactor)),numPCR),label='PCR positive, as neighbours')\n",
    "\n",
    "# ax1.legend(loc='center left',bbox_to_anchor = (1.0, 0.5))\n",
    "ax2.legend(loc='upper right')\n",
    "# ax1.grid()\n",
    "ax2.grid()\n",
    "# ax2.set_ylim(bottom=0)\n",
    "# ax2.set_ylim(bottom=0,top=0.8)\n",
    "ax2.set_xlim([firstDate,lastDate-np.timedelta64(1,'D')])\n",
    "plt.tight_layout()\n",
    "\n",
    "if saveFigures:\n",
    "    plt.savefig('figs/Viggo_pospct2')"
   ]
  },
  {
   "cell_type": "code",
   "execution_count": 26,
   "metadata": {},
   "outputs": [],
   "source": [
    "# Positiv percentage of estimate\n",
    "# First show false negative rate\n",
    "# fig,(ax1,ax2) = plt.subplots(2,1,sharex=True)\n",
    "\n",
    "# ax2.plot(curDates,100*PCRposPct,'b.-',linewidth=0.5,markersize=2,label='PCR, total')\n",
    "# ax2.plot(rnTime(curDates,meanWidth),100*rnMean(PCRposPct,meanWidth),'b',label='PCR, total, '+str(meanWidth)+' day mean')\n",
    "# ax2.plot(curDates,100*AGposPct,'.-',color='xkcd:dark red',label='AG',linewidth=0.5,markersize=2)\n",
    "# ax2.plot(rnTime(curDates,meanWidth),100*rnMean(AGposPct,meanWidth),color='xkcd:dark red',label='AG, '+str(meanWidth)+' day mean')\n",
    "# ax2.plot(curDates,2*100*AGposPct,'.-',color='xkcd:red',label='AG, multiplied by 2',linewidth=0.5,markersize=2)\n",
    "# ax2.plot(rnTime(curDates,meanWidth),2*100*rnMean(AGposPct,meanWidth),color='xkcd:red',label='AG, multiplied by 2, '+str(meanWidth)+' day mean')\n",
    "\n",
    "# ax2.plot(curDates,100*np.divide(foundThroughPCRScreening,numPCR*(1-screenRatio)),'.-',linewidth=0.5,markersize=2,color='xkcd:green',label='PCR, screening')\n",
    "# ax2.plot(rnTime(curDates,meanWidth),rnMean(100*np.divide(foundThroughPCRScreening,numPCR*(1-screenRatio)),meanWidth),color='xkcd:green',label='PCR, screening, '+str(meanWidth)+' day mean')\n",
    "# ax2.plot(curDates,6*100*np.divide(PCRpos - (AGposPCRpos + np.multiply(PCRpos_nonAG,multFactor)),numPCR),label='PCR positive, as neighbours')\n",
    "\n",
    "# ax2.plot(rnTime(curDates,meanWidth),100*rnMean(PCRposPct,meanWidth),'b')\n",
    "# ax2.plot(rnTime(curDates,meanWidth),rnMean(6*100*np.divide(PCRpos - (AGposPCRpos + np.multiply(PCRpos_nonAG,multFactor)),numPCR),7),':')\n"
   ]
  },
  {
   "cell_type": "code",
   "execution_count": 27,
   "metadata": {},
   "outputs": [],
   "source": [
    "dfPCR.tail() \n",
    "curTested = dfPCR[dfPCR.Date.isin(curDates)].Tested\n",
    "# curTested"
   ]
  },
  {
   "cell_type": "code",
   "execution_count": 28,
   "metadata": {},
   "outputs": [
    {
     "output_type": "display_data",
     "data": {
      "text/plain": "Canvas(toolbar=Toolbar(toolitems=[('Home', 'Reset original view', 'home', 'home'), ('Back', 'Back to previous …",
      "application/vnd.jupyter.widget-view+json": {
       "version_major": 2,
       "version_minor": 0,
       "model_id": "7145f44709a949a7a8f53ad053ef9c4d"
      }
     },
     "metadata": {}
    }
   ],
   "source": [
    "# fig,(ax1,ax2,ax3) = plt.subplots(3,1,sharex=True)\n",
    "fig,ax1 = plt.subplots(1,1,sharex=True)\n",
    "\n",
    "meanWidth = 7\n",
    "\n",
    "# ax1.plot(curDates,PCRpos,'.-',color='xkcd:rust',linewidth=0.5,markersize=2,label='PCR positive, total')\n",
    "# ax1.plot(rnTime(curDates,meanWidth),rnMean(PCRpos,meanWidth),color='xkcd:rust')\n",
    "# ax1.plot(curDates,PCRpos_nonAG,'g.-',linewidth=0.5,markersize=2,label='PCR positive, due to only PCR')\n",
    "# ax1.plot(rnTime(curDates,meanWidth),rnMean(PCRpos_nonAG,meanWidth),'g')\n",
    "\n",
    "# perTest = np.divide(PCRpos_nonAG,curTested)\n",
    "normFactor = (100000/curTested)**(0.7)\n",
    "posNorm = np.divide(PCRpos_nonAG,normFactor)\n",
    "# ax1.plot(curDates,perTest,'.-',linewidth=0.5,markersize=2,label='PCR positive, due to only PCR, per test')\n",
    "ax1.plot(curDates,posNorm,'b.-',linewidth=0.5,markersize=2,label='PCR positive, due to only PCR, normalized')\n",
    "ax1.plot(rnTime(curDates,meanWidth),rnMean(posNorm,meanWidth),'b')\n",
    "\n",
    "\n",
    "# ax1.plot(curDates,AGposPCRpos,'.-',color='xkcd:hot pink',linewidth=0.5,markersize=2,label='PCR positive, due to AG')\n",
    "# ax1.plot(rnTime(curDates,meanWidth),rnMean(AGposPCRpos,meanWidth),color='xkcd:hot pink')\n",
    "\n",
    "# ax1.legend(loc='center center',bbox_to_anchor = (0.5, 1.0))\n",
    "ax1.legend(loc='upper left')\n",
    "# ax2.legend(loc='center left',bbox_to_anchor = (1.0, 0.5))\n",
    "# ax3.legend(loc='center left',bbox_to_anchor = (1.0, 0.5))\n",
    "ax1.grid()\n",
    "# ax3.grid()\n",
    "# ax1.set_ylim(bottom=0,top=900)\n",
    "# ax2.set_ylim(bottom=0)\n",
    "# ax3.set_ylim(bottom=0)\n",
    "\n",
    "ax1.set_ylabel('Count')\n",
    "\n",
    "\n",
    "ax1.set_xlim([firstDate,lastDate-np.timedelta64(1,'D')])\n",
    "plt.tight_layout()\n",
    "\n",
    "\n",
    "# if saveFigures:\n",
    "#     plt.savefig('figs/Viggo_Screening')"
   ]
  },
  {
   "cell_type": "code",
   "execution_count": 29,
   "metadata": {},
   "outputs": [
    {
     "output_type": "execute_result",
     "data": {
      "text/plain": [
       "          Date  NewPositive  NotPrevPos  PosPct  PrevPos  Tested  \\\n",
       "402 2021-05-15          309      262739     0.1      789  263528   \n",
       "403 2021-05-16          377      304313     0.1      908  305221   \n",
       "404 2021-05-17          452      492876     0.1     1502  494378   \n",
       "405 2021-05-18          371      390962     0.1     1153  392115   \n",
       "406 2021-05-19          333      387340     0.1     1153  388493   \n",
       "\n",
       "     Tested_kumulativ  \n",
       "402          14394980  \n",
       "403          14700201  \n",
       "404          15194579  \n",
       "405          15586694  \n",
       "406          15975187  "
      ],
      "text/html": "<div>\n<style scoped>\n    .dataframe tbody tr th:only-of-type {\n        vertical-align: middle;\n    }\n\n    .dataframe tbody tr th {\n        vertical-align: top;\n    }\n\n    .dataframe thead th {\n        text-align: right;\n    }\n</style>\n<table border=\"1\" class=\"dataframe\">\n  <thead>\n    <tr style=\"text-align: right;\">\n      <th></th>\n      <th>Date</th>\n      <th>NewPositive</th>\n      <th>NotPrevPos</th>\n      <th>PosPct</th>\n      <th>PrevPos</th>\n      <th>Tested</th>\n      <th>Tested_kumulativ</th>\n    </tr>\n  </thead>\n  <tbody>\n    <tr>\n      <th>402</th>\n      <td>2021-05-15</td>\n      <td>309</td>\n      <td>262739</td>\n      <td>0.1</td>\n      <td>789</td>\n      <td>263528</td>\n      <td>14394980</td>\n    </tr>\n    <tr>\n      <th>403</th>\n      <td>2021-05-16</td>\n      <td>377</td>\n      <td>304313</td>\n      <td>0.1</td>\n      <td>908</td>\n      <td>305221</td>\n      <td>14700201</td>\n    </tr>\n    <tr>\n      <th>404</th>\n      <td>2021-05-17</td>\n      <td>452</td>\n      <td>492876</td>\n      <td>0.1</td>\n      <td>1502</td>\n      <td>494378</td>\n      <td>15194579</td>\n    </tr>\n    <tr>\n      <th>405</th>\n      <td>2021-05-18</td>\n      <td>371</td>\n      <td>390962</td>\n      <td>0.1</td>\n      <td>1153</td>\n      <td>392115</td>\n      <td>15586694</td>\n    </tr>\n    <tr>\n      <th>406</th>\n      <td>2021-05-19</td>\n      <td>333</td>\n      <td>387340</td>\n      <td>0.1</td>\n      <td>1153</td>\n      <td>388493</td>\n      <td>15975187</td>\n    </tr>\n  </tbody>\n</table>\n</div>"
     },
     "metadata": {},
     "execution_count": 29
    }
   ],
   "source": [
    "df.tail()"
   ]
  },
  {
   "cell_type": "code",
   "execution_count": 30,
   "metadata": {},
   "outputs": [
    {
     "output_type": "display_data",
     "data": {
      "text/plain": "Canvas(toolbar=Toolbar(toolitems=[('Home', 'Reset original view', 'home', 'home'), ('Back', 'Back to previous …",
      "application/vnd.jupyter.widget-view+json": {
       "version_major": 2,
       "version_minor": 0,
       "model_id": "f1dda1fc5e424c7cbebc526d63122a2b"
      }
     },
     "metadata": {}
    }
   ],
   "source": [
    "df2.columns\n",
    "plt.figure(figsize=(10,10))\n",
    "# curdf = df2[df2.Dato >= np.datetime64('2021-03-01')]\n",
    "# plt.plot(curdf['AG_testede'],curdf['AGpos_PCRpos'],'*')\n",
    "# curdf = df2[df2.Dato >= np.datetime64('2021-04-01')]\n",
    "# plt.plot(curdf['AG_testede'],curdf['AGpos_PCRpos'],'.')\n",
    "curdf = df2[df2.Dato >= np.datetime64('2021-03-01')]\n",
    "plt.plot(curdf['AG_pos'],curdf['AGpos_PCRpos'],'*')\n",
    "curdf = df2[df2.Dato >= np.datetime64('2021-04-01')]\n",
    "plt.plot(curdf['AG_pos'],curdf['AGpos_PCRpos'],'.')\n",
    "plt.ylim(bottom=0)\n",
    "plt.xlim(left=0)\n",
    "plt.grid()"
   ]
  },
  {
   "source": [
    "# Plejehjem"
   ],
   "cell_type": "markdown",
   "metadata": {}
  },
  {
   "cell_type": "code",
   "execution_count": 31,
   "metadata": {},
   "outputs": [],
   "source": [
    "# dfPle = pd.read_csv(latestdir+'/plejehjem_ugeoversigt.csv',delimiter = ';',dtype=str)\n",
    "# dfPle = dfPle.iloc[:-1] # Remove sum in last row\n",
    "# for name in dfPle.columns:\n",
    "#     dfPle[name] = pd.to_numeric(dfPle[name].astype(str).apply(lambda x: x.replace('.','')))"
   ]
  },
  {
   "cell_type": "code",
   "execution_count": 32,
   "metadata": {},
   "outputs": [],
   "source": [
    "# dfPle.tail()"
   ]
  },
  {
   "cell_type": "code",
   "execution_count": 33,
   "metadata": {},
   "outputs": [],
   "source": [
    "# pleCols = dfPle.columns\n",
    "# pleCols"
   ]
  },
  {
   "cell_type": "code",
   "execution_count": 34,
   "metadata": {},
   "outputs": [],
   "source": [
    "# pleDates = dfPle['År'].astype(str) +'-'+ dfPle['Uge'].astype(str)"
   ]
  },
  {
   "cell_type": "code",
   "execution_count": 35,
   "metadata": {},
   "outputs": [],
   "source": [
    "# # fig,ax1 = plt.subplots(1,1)\n",
    "# # fig,(ax1,ax2,ax3,ax4,ax5) = plt.subplots(5,1,sharex=True)\n",
    "# fig,allAxes = plt.subplots(5,1,sharex=True,figsize=(16,14))\n",
    "\n",
    "# for k in range(0,len(pleCols)-2):\n",
    "#     curAx = allAxes[k]\n",
    "    \n",
    "#     curAx.plot(pleDates,dfPle[pleCols[k+2]],'k')\n",
    "#     curAx.set_title(pleCols[k+2])\n",
    "    \n",
    "#     curAx.set_ylim(bottom=0)\n",
    "    \n",
    "#     curAx.grid()\n",
    "\n",
    "# # ax1.plot(pleDates,dfPle[pleCols[2]])\n",
    "# # ax2.plot(pleDates,dfPle[pleCols[3]])\n",
    "# # ax3.plot(pleDates,dfPle[pleCols[4]])\n",
    "# # ax4.plot(pleDates,dfPle[pleCols[5]])\n",
    "# # ax5.plot(pleDates,dfPle[pleCols[6]])\n",
    "# # ax5.set_ylabel()\n",
    "\n",
    "# # ax1.set_ylim(bottom=0)\n",
    "# # ax2.set_ylim(bottom=0)\n",
    "# # ax3.set_ylim(bottom=0)\n",
    "# # ax4.set_ylim(bottom=0)\n",
    "# # ax5.set_ylim(bottom=0)\n",
    "# # ax1.grid()\n",
    "# # ax2.grid()\n",
    "# # ax3.grid()\n",
    "# # ax4.grid()\n",
    "# # ax5.grid()\n",
    "\n",
    "# # ax1.set_xticks(pleDates[::2])\n",
    "# # # ax1.set_xticklabels(rotation=90)\n",
    "# # plt.xticks(rotation=90)\n",
    "\n",
    "# curAx.set_xticks(pleDates[::2])\n",
    "# plt.xticks(rotation=90)\n",
    "\n",
    "# plt.tight_layout()\n",
    "\n",
    "# if saveFigures:\n",
    "#     plt.savefig('figs/Plejehjem')"
   ]
  },
  {
   "source": [
    "# Age stuff"
   ],
   "cell_type": "markdown",
   "metadata": {}
  },
  {
   "cell_type": "code",
   "execution_count": 36,
   "metadata": {},
   "outputs": [],
   "source": [
    "dfAge = pd.read_csv(latestdir+'/Cases_by_age.csv',delimiter = ';',dtype=str)"
   ]
  },
  {
   "cell_type": "code",
   "execution_count": 37,
   "metadata": {
    "tags": []
   },
   "outputs": [],
   "source": [
    "ssidatapath = \"ssi_data\"\n",
    "rootdir = os.getcwd() +\"/\" + ssidatapath\n",
    "\n",
    "\n",
    "conf = []\n",
    "test = []\n",
    "posp = []\n",
    "\n",
    "for subdir, dirs, files in os.walk(rootdir):\n",
    "    if not len(files) == 0:\n",
    "        latestdir = subdir\n",
    "        latestDate = pd.to_datetime(subdir[-10:])\n",
    "        curdf = pd.read_csv(latestdir+'/Cases_by_age.csv',delimiter = ';',dtype=str)\n",
    "        conf.append(curdf.iloc[9,1])\n",
    "        test.append(curdf.iloc[9,2])\n",
    "        posp.append(curdf.iloc[9,3])\n",
    "        # print(curdf)"
   ]
  },
  {
   "cell_type": "code",
   "execution_count": 38,
   "metadata": {},
   "outputs": [],
   "source": [
    "# dfAge = pd.read_csv''/Cases_by_age.csv',delimiter = ';',dtype=str)\n",
    "latestdir\n",
    "\n",
    "dfAge = pd.read_csv('ssi_data\\\\SSI_data_2021-04-06\\\\Cases_by_age.csv',delimiter = ';',dtype=str)"
   ]
  },
  {
   "cell_type": "code",
   "execution_count": 39,
   "metadata": {},
   "outputs": [
    {
     "output_type": "execute_result",
     "data": {
      "text/plain": [
       "   Aldersgruppe Antal_bekræftede_COVID-19 Antal_testede Procent_positive\n",
       "0           0-9                    17.004       411.910              4,1\n",
       "1         10-19                    36.065       608.757              5,9\n",
       "2         20-29                    43.793       679.566              6,4\n",
       "3         30-39                    32.409       596.068              5,4\n",
       "4         40-49                    34.396       637.766              5,4\n",
       "5         50-59                    33.504       651.292              5,1\n",
       "6         60-69                    18.247       487.720              3,7\n",
       "7         70-79                    11.219       369.509              3,0\n",
       "8         80-89                     5.850       140.967              4,1\n",
       "9           90+                     1.830        29.111              6,3\n",
       "10        I alt                   234.317     4.612.666              5,1"
      ],
      "text/html": "<div>\n<style scoped>\n    .dataframe tbody tr th:only-of-type {\n        vertical-align: middle;\n    }\n\n    .dataframe tbody tr th {\n        vertical-align: top;\n    }\n\n    .dataframe thead th {\n        text-align: right;\n    }\n</style>\n<table border=\"1\" class=\"dataframe\">\n  <thead>\n    <tr style=\"text-align: right;\">\n      <th></th>\n      <th>Aldersgruppe</th>\n      <th>Antal_bekræftede_COVID-19</th>\n      <th>Antal_testede</th>\n      <th>Procent_positive</th>\n    </tr>\n  </thead>\n  <tbody>\n    <tr>\n      <th>0</th>\n      <td>0-9</td>\n      <td>17.004</td>\n      <td>411.910</td>\n      <td>4,1</td>\n    </tr>\n    <tr>\n      <th>1</th>\n      <td>10-19</td>\n      <td>36.065</td>\n      <td>608.757</td>\n      <td>5,9</td>\n    </tr>\n    <tr>\n      <th>2</th>\n      <td>20-29</td>\n      <td>43.793</td>\n      <td>679.566</td>\n      <td>6,4</td>\n    </tr>\n    <tr>\n      <th>3</th>\n      <td>30-39</td>\n      <td>32.409</td>\n      <td>596.068</td>\n      <td>5,4</td>\n    </tr>\n    <tr>\n      <th>4</th>\n      <td>40-49</td>\n      <td>34.396</td>\n      <td>637.766</td>\n      <td>5,4</td>\n    </tr>\n    <tr>\n      <th>5</th>\n      <td>50-59</td>\n      <td>33.504</td>\n      <td>651.292</td>\n      <td>5,1</td>\n    </tr>\n    <tr>\n      <th>6</th>\n      <td>60-69</td>\n      <td>18.247</td>\n      <td>487.720</td>\n      <td>3,7</td>\n    </tr>\n    <tr>\n      <th>7</th>\n      <td>70-79</td>\n      <td>11.219</td>\n      <td>369.509</td>\n      <td>3,0</td>\n    </tr>\n    <tr>\n      <th>8</th>\n      <td>80-89</td>\n      <td>5.850</td>\n      <td>140.967</td>\n      <td>4,1</td>\n    </tr>\n    <tr>\n      <th>9</th>\n      <td>90+</td>\n      <td>1.830</td>\n      <td>29.111</td>\n      <td>6,3</td>\n    </tr>\n    <tr>\n      <th>10</th>\n      <td>I alt</td>\n      <td>234.317</td>\n      <td>4.612.666</td>\n      <td>5,1</td>\n    </tr>\n  </tbody>\n</table>\n</div>"
     },
     "metadata": {},
     "execution_count": 39
    }
   ],
   "source": [
    "dfAge"
   ]
  },
  {
   "cell_type": "code",
   "execution_count": 40,
   "metadata": {},
   "outputs": [],
   "source": [
    "# dfDeaths = pd.read_excel(\"C://Users//rakrpe//Documents//PandemiX//GithubRepos//PandemiX//DanskeData//DeathsAgeDK//Deaths.xlsx\")"
   ]
  },
  {
   "cell_type": "code",
   "execution_count": 41,
   "metadata": {},
   "outputs": [],
   "source": [
    "dfDeaths = pd.read_excel('DeathsAgeDK/Deaths.xlsx')"
   ]
  },
  {
   "cell_type": "code",
   "execution_count": 42,
   "metadata": {},
   "outputs": [],
   "source": [
    "dfDeaths = dfDeaths.transpose()"
   ]
  },
  {
   "cell_type": "code",
   "execution_count": 43,
   "metadata": {},
   "outputs": [],
   "source": [
    "dfDeaths.columns = dfDeaths.iloc[0]"
   ]
  },
  {
   "cell_type": "code",
   "execution_count": 44,
   "metadata": {},
   "outputs": [],
   "source": [
    "dfDeaths = dfDeaths.drop(['Aldersgruppe']) "
   ]
  },
  {
   "cell_type": "code",
   "execution_count": 45,
   "metadata": {},
   "outputs": [],
   "source": [
    "# plt.figure()\n",
    "# plt.plot(dfDeaths)\n",
    "\n",
    "\n",
    "curDates =  pd.to_datetime(dfDeaths.index,format='%d_%m_%Y')"
   ]
  },
  {
   "cell_type": "code",
   "execution_count": 46,
   "metadata": {},
   "outputs": [
    {
     "output_type": "display_data",
     "data": {
      "text/plain": "Canvas(toolbar=Toolbar(toolitems=[('Home', 'Reset original view', 'home', 'home'), ('Back', 'Back to previous …",
      "application/vnd.jupyter.widget-view+json": {
       "version_major": 2,
       "version_minor": 0,
       "model_id": "eb9042026a1f411c8cec328c6b87d875"
      }
     },
     "metadata": {}
    }
   ],
   "source": [
    "# plt.figure()\n",
    "# fig,(ax1,ax2) = plt.subplots(2,1,sharex=True)\n",
    "fig,(ax1,ax2,ax3) = plt.subplots(3,1,sharex=True)\n",
    "\n",
    "# for colNames in dfDeaths.columns[:-1]:\n",
    "for colNames in dfDeaths.columns:\n",
    "    # plt.plot(curDates,dfDeaths['0-9'])\n",
    "    ax1.plot(curDates,dfDeaths[colNames],label=colNames)\n",
    "    ax2.plot(curDates[0:-1],np.diff(dfDeaths[colNames]),label=colNames)\n",
    "    ax3.plot(curDates[0:-1],np.diff(dfDeaths[colNames]),label=colNames)\n",
    "\n",
    "ax2.legend(loc='center left',bbox_to_anchor = (1.0, 0.5))\n",
    "ax1.grid()\n",
    "ax2.grid()\n",
    "ax3.grid()\n",
    "\n",
    "ax1.set_ylim(bottom=0)\n",
    "ax2.set_ylim(bottom=0)\n",
    "ax3.set_ylim(bottom=0,top=10)\n",
    "\n",
    "# ax1.set_xlim(left=curDates[0],right=date.today())\n",
    "ax1.set_xlim(right=date.today())\n",
    "ax1.xaxis.set_major_formatter(mdates.DateFormatter('%d %b\\n%Y'))\n",
    "\n",
    "ax1.set_ylabel('Kumulative dødsfald')\n",
    "ax2.set_ylabel('Dødsfald')\n",
    "ax3.set_ylabel('Dødsfald')\n",
    "\n",
    "plt.tight_layout()\n",
    "\n",
    "# if saveFigures:\n",
    "#     fig.savefig('figs/DeathsByAge')"
   ]
  },
  {
   "cell_type": "code",
   "execution_count": 47,
   "metadata": {},
   "outputs": [
    {
     "output_type": "display_data",
     "data": {
      "text/plain": "Canvas(toolbar=Toolbar(toolitems=[('Home', 'Reset original view', 'home', 'home'), ('Back', 'Back to previous …",
      "application/vnd.jupyter.widget-view+json": {
       "version_major": 2,
       "version_minor": 0,
       "model_id": "bb8fecedaff34328b51bf855f3a6cbf6"
      }
     },
     "metadata": {}
    },
    {
     "output_type": "error",
     "ename": "TypeError",
     "evalue": "ufunc 'add' output (typecode 'O') could not be coerced to provided output parameter (typecode 'd') according to the casting rule ''same_kind''",
     "traceback": [
      "\u001b[1;31m---------------------------------------------------------------------------\u001b[0m",
      "\u001b[1;31mTypeError\u001b[0m                                 Traceback (most recent call last)",
      "\u001b[1;32m<ipython-input-47-4dc8c831790a>\u001b[0m in \u001b[0;36m<module>\u001b[1;34m\u001b[0m\n\u001b[0;32m      6\u001b[0m \u001b[1;32mfor\u001b[0m \u001b[0mcolNames\u001b[0m \u001b[1;32min\u001b[0m \u001b[0mdfDeaths\u001b[0m\u001b[1;33m.\u001b[0m\u001b[0mcolumns\u001b[0m\u001b[1;33m:\u001b[0m\u001b[1;33m\u001b[0m\u001b[1;33m\u001b[0m\u001b[0m\n\u001b[0;32m      7\u001b[0m \u001b[1;33m\u001b[0m\u001b[0m\n\u001b[1;32m----> 8\u001b[1;33m     \u001b[0mcurVals\u001b[0m \u001b[1;33m+=\u001b[0m \u001b[0mnp\u001b[0m\u001b[1;33m.\u001b[0m\u001b[0mdiff\u001b[0m\u001b[1;33m(\u001b[0m\u001b[0mdfDeaths\u001b[0m\u001b[1;33m[\u001b[0m\u001b[0mcolNames\u001b[0m\u001b[1;33m]\u001b[0m\u001b[1;33m)\u001b[0m\u001b[1;33m\u001b[0m\u001b[1;33m\u001b[0m\u001b[0m\n\u001b[0m\u001b[0;32m      9\u001b[0m     \u001b[0max1\u001b[0m\u001b[1;33m.\u001b[0m\u001b[0mplot\u001b[0m\u001b[1;33m(\u001b[0m\u001b[0mcurDates\u001b[0m\u001b[1;33m[\u001b[0m\u001b[1;36m0\u001b[0m\u001b[1;33m:\u001b[0m\u001b[1;33m-\u001b[0m\u001b[1;36m1\u001b[0m\u001b[1;33m]\u001b[0m\u001b[1;33m,\u001b[0m\u001b[0mcurVals\u001b[0m\u001b[1;33m)\u001b[0m\u001b[1;33m\u001b[0m\u001b[1;33m\u001b[0m\u001b[0m\n\u001b[0;32m     10\u001b[0m \u001b[1;33m\u001b[0m\u001b[0m\n",
      "\u001b[1;31mTypeError\u001b[0m: ufunc 'add' output (typecode 'O') could not be coerced to provided output parameter (typecode 'd') according to the casting rule ''same_kind''"
     ]
    }
   ],
   "source": [
    "# plt.figure()\n",
    "# fig,(ax1,ax2) = plt.subplots(2,1,sharex=True)\n",
    "fig,ax1 = plt.subplots(1,1,sharex=True)\n",
    "\n",
    "curVals = np.zeros(curDates[0:-1].shape)\n",
    "for colNames in dfDeaths.columns:\n",
    "\n",
    "    curVals += np.diff(dfDeaths[colNames])\n",
    "    ax1.plot(curDates[0:-1],curVals)\n",
    "\n",
    "    # plt.plot(curDates,dfDeaths['0-9'])\n",
    "    # ax1.plot(curDates,dfDeaths[colNames],label=colNames)\n",
    "\n",
    "    # ax2.plot(curDates[0:-1],np.diff(dfDeaths[colNames]),label=colNames)\n",
    "    # ax3.plot(curDates[0:-1],np.diff(dfDeaths[colNames]),label=colNames)\n",
    "\n",
    "ax1.legend(loc='center left',bbox_to_anchor = (1.0, 0.5))\n",
    "ax1.grid()\n",
    "\n",
    "ax1.set_ylim(bottom=0)\n",
    "\n",
    "# ax1.set_xlim(left=curDates[0],right=date.today())\n",
    "ax1.set_xlim(right=date.today())\n",
    "ax1.xaxis.set_major_formatter(mdates.DateFormatter('%d %b\\n%Y'))\n",
    "\n",
    "ax1.set_ylabel('Kumulative dødsfald')\n",
    "# ax2.set_ylabel('Dødsfald')\n",
    "# ax3.set_ylabel('Dødsfald')\n",
    "\n",
    "plt.tight_layout()\n",
    "\n",
    "# if saveFigures:\n",
    "#     fig.savefig('figs/DeathsByAge')"
   ]
  },
  {
   "cell_type": "code",
   "execution_count": null,
   "metadata": {},
   "outputs": [],
   "source": [
    "# np.diff(dfDeaths[colNames])\n",
    "# curVals\n",
    "dfDeaths"
   ]
  },
  {
   "cell_type": "code",
   "execution_count": null,
   "metadata": {},
   "outputs": [],
   "source": [
    "dfAge"
   ]
  },
  {
   "cell_type": "code",
   "execution_count": null,
   "metadata": {},
   "outputs": [],
   "source": [
    "fig,(ax1,ax2) = plt.subplots(2,1,sharex=True)\n",
    "\n",
    "\n",
    "ax1.plot(curDates,dfDeaths['60-69'])\n",
    "\n",
    "plt.tight_layout()"
   ]
  },
  {
   "cell_type": "code",
   "execution_count": null,
   "metadata": {},
   "outputs": [],
   "source": [
    "curDates"
   ]
  }
 ]
}