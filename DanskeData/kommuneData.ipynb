{
 "cells": [
  {
   "cell_type": "code",
   "execution_count": 44,
   "metadata": {},
   "outputs": [
    {
     "name": "stdout",
     "output_type": "stream",
     "text": [
      "saveFigures is set to: True\n",
      "Done loading packages\n"
     ]
    }
   ],
   "source": [
    "# Main notebook for looking at kommune-data\n",
    "import numpy as np\n",
    "import pandas as pd\n",
    "pd.set_option('display.max_rows', 500)\n",
    "pd.set_option('display.min_rows', 50)\n",
    "import seaborn as sns\n",
    "\n",
    "\n",
    "import matplotlib.pyplot as plt\n",
    "%matplotlib widget\n",
    "plt.rcParams['figure.figsize'] = (12,8)\n",
    "# plt.rcParams[\"image.cmap\"] = \"Dark2\"\n",
    "# plt.rcParams['axes.prop_cycle'] = plt.cycler(color=plt.cm.Dark2.colors)\n",
    "plt.rcParams[\"image.cmap\"] = \"tab10\"\n",
    "plt.rcParams['axes.prop_cycle'] = plt.cycler(color=plt.cm.tab10.colors)\n",
    "fs_label = 16\n",
    "parameters = {\n",
    "                'axes.labelsize': fs_label,\n",
    "                'axes.titlesize': fs_label+4,\n",
    "                'xtick.labelsize': fs_label,\n",
    "                'ytick.labelsize': fs_label, \n",
    "                'legend.fontsize': fs_label, \n",
    "                'lines.markersize': 10,\n",
    "                'lines.linewidth': 3\n",
    "             }\n",
    "plt.rcParams.update(parameters)\n",
    "%matplotlib widget\n",
    "# plt.style.use('ggplot')\n",
    "import matplotlib.colors as colors\n",
    "# cmap = plt.cm.get_cmap('Dark2',len(ageGroups))\n",
    "from matplotlib import cm # Colormaps\n",
    "\n",
    "from matplotlib.colors import LinearSegmentedColormap\n",
    "\n",
    "import locale\n",
    "import matplotlib.dates as mdates\n",
    "locale.setlocale(locale.LC_TIME,\"Danish\")\n",
    "# ax = plt.gca()\n",
    "# ax1.xaxis.set_major_formatter(mdates.DateFormatter('%b\\n%Y'))\n",
    "# # ax.xaxis.set_major_formatter(mdates.DateFormatter('%Y \\n %B'))\n",
    "\n",
    "import os\n",
    "# import csv\n",
    "import math\n",
    "\n",
    "\n",
    "from datetime import date\n",
    "\n",
    "\n",
    "saveFigures = True\n",
    "# saveFigures = False\n",
    "print('saveFigures is set to: '+str(saveFigures))\n",
    "\n",
    "print('Done loading packages')\n",
    "\n",
    "def rnMean(data,meanWidth):\n",
    "    return np.convolve(data, np.ones(meanWidth)/meanWidth, mode='valid')\n",
    "def rnTime(t,meanWidth):\n",
    "    return t[math.floor(meanWidth/2):-math.ceil(meanWidth/2)+1]"
   ]
  },
  {
   "cell_type": "code",
   "execution_count": 45,
   "metadata": {},
   "outputs": [],
   "source": [
    "ssidatapath = \"ssi_data\"\n",
    "rootdir = os.getcwd() +\"\\\\\" + ssidatapath\n",
    "\n",
    "\n",
    "for subdir, dirs, files in os.walk(rootdir):\n",
    "    if not len(files) == 0:\n",
    "        latestdir = subdir\n",
    "        latestDate = pd.to_datetime(subdir[-10:])\n",
    "        # curdf = pd.read_csv(latestdir+'\\\\Cases_by_age.csv',delimiter = ';',dtype=str)\n",
    "        \n",
    "latestDash = os.getcwd() + f'\\\\ssi_dashboard\\\\SSI_dashboard_{latestDate:%Y-%m-%d}\\\\'\n",
    "latestVacc = os.getcwd() + f'\\\\ssi_vacc\\\\SSI_vacc_{latestDate:%Y-%m-%d}\\\\'\n",
    "kortdf = pd.read_csv(latestDash+'Kommunalt_DB\\\\11_kort_pr_kommune.csv',delimiter = ';',dtype=str,encoding='latin1')\n",
    "countdf = pd.read_csv(latestDash+'Kommunalt_DB\\\\17_tilfaelde_fnkt_alder_kommuner.csv',delimiter = ';',dtype=str,encoding='latin1')\n",
    "\n",
    "vaccdf = pd.read_csv(latestVacc+'Vaccine_DB\\\\Vaccinationsdaekning_kommune.csv',delimiter = ';',dtype=str,encoding='latin1')\n",
    "\n",
    "countdf['Bekræftede tilfælde'] = pd.to_numeric(countdf['Bekræftede tilfælde'])\n",
    "\n",
    "vaccdf['Antal faerdigvacc.'] = pd.to_numeric(vaccdf['Antal faerdigvacc.'])\n",
    "vaccdf['Vacc.dækning faerdigvacc. (%)'] = pd.to_numeric(vaccdf['Vacc.dækning faerdigvacc. (%)'])\n",
    "vaccdf['Antal borgere'] = pd.to_numeric(vaccdf['Antal borgere'])\n",
    "\n",
    "# latestdir\n",
    "# subdir\n",
    "# curdf"
   ]
  },
  {
   "cell_type": "code",
   "execution_count": 46,
   "metadata": {},
   "outputs": [],
   "source": [
    "# komToShow = ['København','Ishøj','Brøndby','Ballerup','Århus','Langeland','Høje Tåstrup','Frederiksberg']\n",
    "komToShow = kortdf.Kommunenavn.unique()\n",
    "\n",
    "\n",
    "kortdf_slice = kortdf[kortdf.Kommunenavn.isin(komToShow)]\n",
    "idsToShow = kortdf_slice.Kommune.values\n",
    "countdf_slice = countdf[countdf.Kommune.isin(idsToShow)]\n",
    "vaccdf_slice = vaccdf[vaccdf.Kommunenavn.isin(komToShow)]\n",
    "komNames = kortdf_slice.Kommunenavn.values\n",
    "\n",
    "numInf = countdf_slice.groupby('Kommune')['Bekræftede tilfælde'].sum().values\n",
    "ratioVacc = (vaccdf_slice['Vacc.dækning faerdigvacc. (%)']/100).values\n",
    "popSize = vaccdf_slice['Antal borgere'].values"
   ]
  },
  {
   "cell_type": "code",
   "execution_count": 47,
   "metadata": {},
   "outputs": [
    {
     "data": {
      "application/vnd.jupyter.widget-view+json": {
       "model_id": "91259041fe274d02bb2ceeef83a1e534",
       "version_major": 2,
       "version_minor": 0
      },
      "text/plain": [
       "Canvas(toolbar=Toolbar(toolitems=[('Home', 'Reset original view', 'home', 'home'), ('Back', 'Back to previous …"
      ]
     },
     "metadata": {},
     "output_type": "display_data"
    },
    {
     "data": {
      "text/plain": [
       "Text(0, 0.5, 'Kommuleret incidens')"
      ]
     },
     "execution_count": 47,
     "metadata": {},
     "output_type": "execute_result"
    }
   ],
   "source": [
    "fig,ax1 = plt.subplots(figsize=(8,8))\n",
    "\n",
    "ax1.plot(ratioVacc,numInf/popSize,'*')\n",
    "# ax1.set_xlim([0,1])\n",
    "# ax1.set_ylim([0,1])\n",
    "for k in range(len(ratioVacc)):\n",
    "    ax1.text(ratioVacc[k],numInf[k]/popSize[k],komNames[k])\n",
    "    \n",
    "ax1.set_xlabel('Vaccinationsrate')\n",
    "ax1.set_ylabel('Kommuleret incidens')\n"
   ]
  },
  {
   "cell_type": "code",
   "execution_count": 48,
   "metadata": {},
   "outputs": [],
   "source": [
    "# komToShow = ['København','Ishøj','Brøndby','Ballerup','Århus','Langeland','Høje Tåstrup','Glostrup','Frederiksberg']\n",
    "# komToShow = ['Ishøj','Albertslund','Glostrup','Brøndby','Fredensborg','Tårnby','Dragør','Hvidovre','København','Frederiksberg']\n",
    "komToShow = ['Ishøj','Albertslund','Glostrup','Brøndby','Fredensborg','Vesthimmerlands','Struer','Skive','Læsø']\n",
    "# komToShow = kortdf.Kommunenavn.unique()\n",
    "\n",
    "\n",
    "kortdf_slice = kortdf[kortdf.Kommunenavn.isin(komToShow)]\n",
    "idsToShow = kortdf_slice.Kommune.values\n",
    "countdf_slice = countdf[countdf.Kommune.isin(idsToShow)]\n",
    "vaccdf_slice = vaccdf[vaccdf.Kommunenavn.isin(komToShow)]\n",
    "komNames = kortdf_slice.Kommunenavn.values\n",
    "\n",
    "numInf = countdf_slice.groupby('Kommune')['Bekræftede tilfælde'].sum().values\n",
    "ratioVacc = (vaccdf_slice['Vacc.dækning faerdigvacc. (%)']/100).values\n",
    "popSize = vaccdf_slice['Antal borgere'].values"
   ]
  },
  {
   "cell_type": "code",
   "execution_count": 53,
   "metadata": {},
   "outputs": [],
   "source": [
    "# for k in countdf_slice.groupby('Kommune')['Bekræftede tilfælde']:\n",
    "#     print(k)\n",
    "# countdf_slice\n",
    "# countdf\n",
    "\n",
    "# pd.to_numeric(kortdf['Bekræftede tilfælde de seneste 7 dage'])/pd.to_numeric(vaccdf['Antal borgere'])\n",
    "# kortdf['Bekræftede tilfælde de seneste 7 dage']\n",
    "# vaccdf['Antal borgere']\n",
    "# kortdf"
   ]
  },
  {
   "cell_type": "code",
   "execution_count": 50,
   "metadata": {},
   "outputs": [
    {
     "data": {
      "application/vnd.jupyter.widget-view+json": {
       "model_id": "6558ace82fda4fd8bb7848b518b859de",
       "version_major": 2,
       "version_minor": 0
      },
      "text/plain": [
       "Canvas(toolbar=Toolbar(toolitems=[('Home', 'Reset original view', 'home', 'home'), ('Back', 'Back to previous …"
      ]
     },
     "metadata": {},
     "output_type": "display_data"
    }
   ],
   "source": [
    "fig,ax1 = plt.subplots(figsize=(8,8))\n",
    "\n",
    "minX = 0\n",
    "maxX = 1\n",
    "minY = 0\n",
    "maxY = 1\n",
    "\n",
    "minX = 0.5\n",
    "maxX = 0.9\n",
    "minY = 0\n",
    "maxY = 0.6\n",
    "\n",
    "\n",
    "R0 = 4.7\n",
    "# R0 = 6.0\n",
    "\n",
    "S = lambda V, Preval : (1-V)*(1-Preval)\n",
    "Re = lambda R0, V, Preval: R0*S(V, Preval)\n",
    "V = lambda Re, R0, Preval: 1 - (Re/R0)*(1/(1-Preval))\n",
    "P = lambda Re, R0, Vacc: 1 - (Re/R0)*(1/(1-Vacc))\n",
    "\n",
    "# Adjust here, for the visible range in plot:\n",
    "resolution = 100\n",
    "X = vacc_list = np.linspace(minX, maxX, resolution)\n",
    "Y = preval_list = np.linspace(minY,maxY, resolution)\n",
    "Z = np.array([[Re(R0, v, p) for v in vacc_list] for p in preval_list]) # Y=preval, X=vacc\n",
    "\n",
    "\n",
    "\n",
    "# r0 = 4.7\n",
    "# res = np.linspace(0.05,0.95,numAreas)*r0\n",
    "res = np.arange(0,R0,0.25)\n",
    "numAreas = len(res)\n",
    "\n",
    "cmap = LinearSegmentedColormap.from_list('unnamed', \n",
    "                                                    [\n",
    "                                                        (0,1,0),\n",
    "                                                        (1,0.9,0.7),\n",
    "                                                        (1,0,0),\n",
    "                                                        (1,0,0),\n",
    "                                                        (1,0,0),\n",
    "                                                        (1,0,0),\n",
    "                                                    ] \n",
    "                                                    , N=numAreas)\n",
    "\n",
    "#ax.pcolor(X, Y, Z)\n",
    "# ax.contourf(X, Y, Z, 100, cmap=\"viridis\")\n",
    "# ax.contourf(X, Y, Z, numAreas, cmap=cmap)\n",
    "ax1.contourf(X, Y, Z, levels=res,cmap=cmap)\n",
    "\n",
    "\n",
    "for i, re in enumerate([1]):\n",
    "    IsoVac = np.linspace(0,1-(re/R0),100)\n",
    "    ax1.plot(IsoVac, (lambda V: P(re, R0, V))(IsoVac), linewidth = 10,alpha=0.5,zorder=5, color=\"grey\", label=int(i==0)*\"$R_{e} = 1$-Isocline\")\n",
    "\n",
    "CS = ax1.contour(X, Y, Z, levels=res, zorder=6,colors='k') \n",
    "# clab_pos = [(1-np.sqrt(y),1-np.sqrt(y)) for y in res/R0]\n",
    "# clab_pos = [(1-np.sqrt(y),1-np.sqrt(y)) for y in res/R0]\n",
    "numLabelsToShow = 10\n",
    "clab_pos = list(zip(np.linspace(minX,maxX,numLabelsToShow),np.linspace(minY,maxY,numLabelsToShow)))\n",
    "ax1.clabel(CS,fmt='%.2f', inline=True, fontsize=10,manual=clab_pos)\n",
    "# ax.clabel(CS,fmt='%.2f', inline=True, fontsize=10)\n",
    "    \n",
    "\n",
    "# ax1.plot(ratioVacc,numInf/popSize,'*',zorder=19)\n",
    "# ax1.plot(ratioVacc,2*numInf/popSize,'*r',zorder=19)\n",
    "for k in range(len(ratioVacc)):\n",
    "    # ax1.plot(ratioVacc[k],numInf[k]/popSize[k],'*',zorder=19)\n",
    "    ax1.plot([ratioVacc[k],ratioVacc[k]],[numInf[k]/popSize[k],2*numInf[k]/popSize[k]],'.-',zorder=19)\n",
    "    ax1.text(ratioVacc[k],numInf[k]/popSize[k],komNames[k],zorder=20)\n",
    "    \n",
    "    \n",
    "# ax.axis('equal')\n",
    "ax1.set_xlim([minX,maxX])\n",
    "ax1.set_ylim([minY,maxY])\n",
    "\n",
    "plt.savefig('figs/KommuneFigur')"
   ]
  },
  {
   "cell_type": "code",
   "execution_count": 51,
   "metadata": {},
   "outputs": [
    {
     "data": {
      "application/vnd.jupyter.widget-view+json": {
       "model_id": "1398bfa980c144e9a2e8d1f5c45a79e2",
       "version_major": 2,
       "version_minor": 0
      },
      "text/plain": [
       "Canvas(toolbar=Toolbar(toolitems=[('Home', 'Reset original view', 'home', 'home'), ('Back', 'Back to previous …"
      ]
     },
     "metadata": {},
     "output_type": "display_data"
    },
    {
     "data": {
      "text/plain": [
       "(0.0, 1.0)"
      ]
     },
     "execution_count": 51,
     "metadata": {},
     "output_type": "execute_result"
    }
   ],
   "source": [
    "fig,ax1 = plt.subplots(figsize=(8,8))\n",
    "\n",
    "minX = 0\n",
    "maxX = 1\n",
    "minY = 0\n",
    "maxY = 1\n",
    "\n",
    "# minX = 0.5\n",
    "# maxX = 0.9\n",
    "# minY = 0\n",
    "# maxY = 0.6\n",
    "\n",
    "\n",
    "R0 = 4.7\n",
    "\n",
    "S = lambda V, Preval : (1-V)*(1-Preval)\n",
    "Re = lambda R0, V, Preval: R0*S(V, Preval)\n",
    "V = lambda Re, R0, Preval: 1 - (Re/R0)*(1/(1-Preval))\n",
    "P = lambda Re, R0, Vacc: 1 - (Re/R0)*(1/(1-Vacc))\n",
    "\n",
    "# Adjust here, for the visible range in plot:\n",
    "resolution = 100\n",
    "X = vacc_list = np.linspace(minX, maxX, resolution)\n",
    "Y = preval_list = np.linspace(minY,maxY, resolution)\n",
    "Z = np.array([[Re(R0, v, p) for v in vacc_list] for p in preval_list]) # Y=preval, X=vacc\n",
    "\n",
    "\n",
    "\n",
    "r0 = 4.7\n",
    "# res = np.linspace(0.05,0.95,numAreas)*r0\n",
    "res = np.arange(0,5,0.25)\n",
    "numAreas = len(res)\n",
    "\n",
    "cmap = LinearSegmentedColormap.from_list('unnamed', \n",
    "                                                    [\n",
    "                                                        (0,1,0),\n",
    "                                                        (1,0.9,0.7),\n",
    "                                                        (1,0,0),\n",
    "                                                        (1,0,0),\n",
    "                                                        (1,0,0),\n",
    "                                                        (1,0,0),\n",
    "                                                    ] \n",
    "                                                    , N=numAreas)\n",
    "\n",
    "#ax.pcolor(X, Y, Z)\n",
    "# ax.contourf(X, Y, Z, 100, cmap=\"viridis\")\n",
    "# ax.contourf(X, Y, Z, numAreas, cmap=cmap)\n",
    "ax1.contourf(X, Y, Z, levels=res,cmap=cmap)\n",
    "\n",
    "\n",
    "for i, re in enumerate([1]):\n",
    "    IsoVac = np.linspace(0,1-(re/r0),100)\n",
    "    ax1.plot(IsoVac, (lambda V: P(re, r0, V))(IsoVac), linewidth = 10,alpha=0.5,zorder=5, color=\"grey\", label=int(i==0)*\"$R_{e} = 1$-Isocline\")\n",
    "\n",
    "CS = ax1.contour(X, Y, Z, levels=res, zorder=6,colors='k') \n",
    "clab_pos = [(1-np.sqrt(y),1-np.sqrt(y)) for y in res/r0]\n",
    "# numLabelsToShow = 10\n",
    "# clab_pos = list(zip(np.linspace(minX,maxX,numLabelsToShow),np.linspace(minY,maxY,numLabelsToShow)))\n",
    "ax1.clabel(CS,fmt='%.2f', inline=True, fontsize=10,manual=clab_pos)\n",
    "# ax.clabel(CS,fmt='%.2f', inline=True, fontsize=10)\n",
    "    \n",
    "\n",
    "# ax1.plot(ratioVacc,numInf/popSize,'*',zorder=19)\n",
    "# ax1.plot(ratioVacc,2*numInf/popSize,'*r',zorder=19)\n",
    "for k in range(len(ratioVacc)):\n",
    "    # ax1.plot(ratioVacc[k],numInf[k]/popSize[k],'*',zorder=19)\n",
    "    ax1.plot([ratioVacc[k],ratioVacc[k]],[numInf[k]/popSize[k],2*numInf[k]/popSize[k]],'.-',zorder=19)\n",
    "    ax1.text(ratioVacc[k],numInf[k]/popSize[k],komNames[k],zorder=20)\n",
    "    \n",
    "    \n",
    "# ax.axis('equal')\n",
    "ax1.set_xlim([minX,maxX])\n",
    "ax1.set_ylim([minY,maxY])\n",
    "\n"
   ]
  },
  {
   "cell_type": "code",
   "execution_count": null,
   "metadata": {},
   "outputs": [],
   "source": []
  },
  {
   "cell_type": "code",
   "execution_count": 58,
   "metadata": {},
   "outputs": [
    {
     "data": {
      "application/vnd.jupyter.widget-view+json": {
       "model_id": "966bebfa9c5140468b38ed1e7c1bee1d",
       "version_major": 2,
       "version_minor": 0
      },
      "text/plain": [
       "Canvas(toolbar=Toolbar(toolitems=[('Home', 'Reset original view', 'home', 'home'), ('Back', 'Back to previous …"
      ]
     },
     "metadata": {},
     "output_type": "display_data"
    }
   ],
   "source": [
    "# fig,(ax1,ax2) = plt.subplots(2,1,figsize=(8,16))\n",
    "\n",
    "# minX = 0\n",
    "# maxX = 1\n",
    "# minY = 0\n",
    "# maxY = 1\n",
    "\n",
    "# # minX = 1\n",
    "# # maxX = 4\n",
    "# # minY = 1\n",
    "# # maxY = 4\n",
    "\n",
    "\n",
    "# # R0 = 4.7\n",
    "# # # R0 = 6.0\n",
    "\n",
    "# # S = lambda V, Preval : (1-V)*(1-Preval)\n",
    "# # Re = lambda R0, V, Preval: R0*S(V, Preval)\n",
    "# # V = lambda Re, R0, Preval: 1 - (Re/R0)*(1/(1-Preval))\n",
    "# # P = lambda Re, R0, Vacc: 1 - (Re/R0)*(1/(1-Vacc))\n",
    "\n",
    "\n",
    "# R0 = 8\n",
    "# R0_uvacc = R0\n",
    "# vacc_r0_reduction = 1/9\n",
    "# R0_vacc = R0*vacc_r0_reduction\n",
    "# vacc_rate = 0.75\n",
    "# Re_curr =  (R0_uvacc*1*(1-vacc_rate) + R0_vacc*1 * vacc_rate)\n",
    "\n",
    "# # re_calc = lambda redu_uvacc, redu_vacc: (R0_uvacc*redu_uvacc*(1-vacc_rate) + R0_vacc*redu_vacc * vacc_rate)\n",
    "# re_calc = lambda redu_uvacc, redu_vacc: (R0_uvacc*(1-redu_uvacc)*(1-vacc_rate) + R0_vacc*(1-redu_vacc) * vacc_rate)/Re_curr\n",
    "\n",
    "# # Adjust here, for the visible range in plot:\n",
    "# resolution = 20\n",
    "# X = redu_vacc_list = np.linspace(minX, maxX, resolution)\n",
    "# Y = redu_uvacc_list = np.linspace(minY,maxY, resolution)\n",
    "# Z = np.array([[re_calc(p,v) for v in redu_vacc_list] for p in redu_uvacc_list]) # Y=preval, X=vacc\n",
    "\n",
    "# ax1.contourf(100*X,100* Y, Z, levels=resolution,cmap='viridis')\n",
    "# CS = ax1.contour(100*X,100* Y, Z, levels=resolution, zorder=6,colors='k') \n",
    "# # clab_pos = [(1-np.sqrt(y),1-np.sqrt(y)) for y in res/r0]\n",
    "# numLabelsToShow = 10\n",
    "# # clab_pos = list(zip(np.linspace(minX,maxX,numLabelsToShow),np.linspace(minY,maxY,numLabelsToShow)))\n",
    "# clab_pos = list(zip(np.linspace(100*minX,100*maxX,numLabelsToShow),np.linspace(100*minY,100*maxY,numLabelsToShow)))\n",
    "# ax1.clabel(CS,fmt='%.2f', inline=True, fontsize=10,manual=clab_pos)\n",
    "\n",
    "# ax1.set_xlabel('Reduktion, vaccinerede')\n",
    "# ax1.set_ylabel('Reduktion, uvaccinerede')\n",
    "# ax1.set_title(f'Vaccinationsrate: {vacc_rate*100:2.0f}%')\n",
    "\n",
    "\n",
    "# R0 = 8\n",
    "# R0_uvacc = R0\n",
    "# vacc_r0_reduction = 1/9\n",
    "# R0_vacc = R0*vacc_r0_reduction\n",
    "# vacc_rate = 0.80\n",
    "# Re_curr =  (R0_uvacc*1*(1-vacc_rate) + R0_vacc*1 * vacc_rate)\n",
    "\n",
    "# # re_calc = lambda redu_uvacc, redu_vacc: (R0_uvacc*redu_uvacc*(1-vacc_rate) + R0_vacc*redu_vacc * vacc_rate)\n",
    "# re_calc = lambda redu_uvacc, redu_vacc: (R0_uvacc*(1-redu_uvacc)*(1-vacc_rate) + R0_vacc*(1-redu_vacc) * vacc_rate)/Re_curr\n",
    "\n",
    "# # Adjust here, for the visible range in plot:\n",
    "# resolution = 20\n",
    "# X = redu_vacc_list = np.linspace(minX, maxX, resolution)\n",
    "# Y = redu_uvacc_list = np.linspace(minY,maxY, resolution)\n",
    "# Z = np.array([[re_calc(p, v) for v in redu_vacc_list] for p in redu_uvacc_list]) # Y=preval, X=vacc\n",
    "\n",
    "# ax2.contourf(100*X,100* Y, Z, levels=resolution,cmap='viridis')\n",
    "# CS = ax2.contour(100*X,100* Y, Z, levels=resolution, zorder=6,colors='k') \n",
    "# # clab_pos = [(1-np.sqrt(y),1-np.sqrt(y)) for y in res/r0]\n",
    "# numLabelsToShow = 10\n",
    "# # clab_pos = list(zip(np.linspace(minX,maxX,numLabelsToShow),np.linspace(minY,maxY,numLabelsToShow)))\n",
    "# clab_pos = list(zip(np.linspace(100*minX,100*maxX,numLabelsToShow),np.linspace(100*minY,100*maxY,numLabelsToShow)))\n",
    "# ax2.clabel(CS,fmt='%.2f', inline=True, fontsize=10,manual=clab_pos)\n",
    "\n",
    "# ax2.set_xlabel('Reduktion, vaccinerede')\n",
    "# ax2.set_ylabel('Reduktion, uvaccinerede')\n",
    "# ax2.set_title(f'Vaccinationsrate: {vacc_rate*100:2.0f}%')\n",
    "\n",
    "# plt.savefig('figs/ReduktionEffekt')\n"
   ]
  },
  {
   "cell_type": "code",
   "execution_count": null,
   "metadata": {},
   "outputs": [],
   "source": []
  }
 ],
 "metadata": {
  "interpreter": {
   "hash": "c72cdf52cb3d31f207bca538e9396da8706c0ecf4a3038fb1c2b317934170431"
  },
  "kernelspec": {
   "display_name": "Python 3.8.5 64-bit ('main': conda)",
   "name": "python3"
  },
  "language_info": {
   "codemirror_mode": {
    "name": "ipython",
    "version": 3
   },
   "file_extension": ".py",
   "mimetype": "text/x-python",
   "name": "python",
   "nbconvert_exporter": "python",
   "pygments_lexer": "ipython3",
   "version": "3.8.5"
  },
  "orig_nbformat": 4
 },
 "nbformat": 4,
 "nbformat_minor": 2
}
