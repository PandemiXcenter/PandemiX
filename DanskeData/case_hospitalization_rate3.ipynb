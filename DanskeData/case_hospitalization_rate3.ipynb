{
 "metadata": {
  "language_info": {
   "codemirror_mode": {
    "name": "ipython",
    "version": 3
   },
   "file_extension": ".py",
   "mimetype": "text/x-python",
   "name": "python",
   "nbconvert_exporter": "python",
   "pygments_lexer": "ipython3",
   "version": "3.8.5"
  },
  "orig_nbformat": 2,
  "kernelspec": {
   "name": "python385jvsc74a57bd0c72cdf52cb3d31f207bca538e9396da8706c0ecf4a3038fb1c2b317934170431",
   "display_name": "Python 3.8.5 64-bit ('main': conda)"
  }
 },
 "nbformat": 4,
 "nbformat_minor": 2,
 "cells": [
  {
   "cell_type": "code",
   "execution_count": 49,
   "metadata": {},
   "outputs": [
    {
     "output_type": "stream",
     "name": "stdout",
     "text": [
      "saveFigures is set to: True\nDone loading packages\n"
     ]
    }
   ],
   "source": [
    "# Notebook for estimating a case-hospitalization rate, per age\n",
    "import numpy as np\n",
    "import pandas as pd\n",
    "pd.set_option('display.max_rows', 500)\n",
    "pd.set_option('display.min_rows', 50)\n",
    "\n",
    "\n",
    "import matplotlib.pyplot as plt\n",
    "%matplotlib widget\n",
    "plt.rcParams['figure.figsize'] = (14,10)\n",
    "# plt.rcParams[\"image.cmap\"] = \"Dark2\"\n",
    "# plt.rcParams['axes.prop_cycle'] = plt.cycler(color=plt.cm.Dark2.colors)\n",
    "plt.rcParams[\"image.cmap\"] = \"tab10\"\n",
    "plt.rcParams['axes.prop_cycle'] = plt.cycler(color=plt.cm.tab10.colors)\n",
    "plt.rcParams['lines.markersize'] = 10\n",
    "plt.rcParams['lines.linewidth'] = 3\n",
    "%matplotlib widget\n",
    "# plt.style.use('ggplot')\n",
    "import matplotlib.colors as colors\n",
    "# cmap = plt.cm.get_cmap('Dark2',len(ageGroups))\n",
    "from matplotlib import cm # Colormaps\n",
    "\n",
    "import locale\n",
    "import matplotlib.dates as mdates\n",
    "locale.setlocale(locale.LC_TIME,\"Danish\")\n",
    "locale.setlocale(locale.LC_ALL,\"Danish\")\n",
    "# ax = plt.gca()\n",
    "# ax1.xaxis.set_major_formatter(mdates.DateFormatter('%b\\n%Y'))\n",
    "# ax1.xaxis.set_major_formatter(mdates.DateFormatter('%d\\n%b'))\n",
    "\n",
    "import os\n",
    "# import csv\n",
    "import math\n",
    "\n",
    "\n",
    "from datetime import date\n",
    "\n",
    "\n",
    "saveFigures = True\n",
    "print('saveFigures is set to: '+str(saveFigures))\n",
    "\n",
    "print('Done loading packages')\n",
    "\n",
    "def rnMean(data,meanWidth):\n",
    "    return np.convolve(data, np.ones(meanWidth)/meanWidth, mode='valid')\n",
    "def rnTime(t,meanWidth):\n",
    "    return t[math.floor(meanWidth/2):-math.ceil(meanWidth/2)+1]"
   ]
  },
  {
   "cell_type": "code",
   "execution_count": 2,
   "metadata": {},
   "outputs": [],
   "source": [
    "#Settings for plotting\n",
    "fs_label = 14\n",
    "\n",
    "parameters = {\n",
    "                'axes.labelsize': fs_label,\n",
    "                'axes.titlesize': fs_label+4,\n",
    "                'xtick.labelsize': fs_label,\n",
    "                'ytick.labelsize': fs_label, \n",
    "                'legend.fontsize': fs_label\n",
    "             }\n",
    "\n",
    "plt.rcParams.update(parameters)\n",
    "\n",
    "#locale.setlocale(locale.LC_TIME, \"Danish\") "
   ]
  },
  {
   "cell_type": "code",
   "execution_count": 3,
   "metadata": {},
   "outputs": [],
   "source": [
    "ssidatapath = \"ssi_data\"\n",
    "rootdir = os.getcwd() +\"/\" + ssidatapath"
   ]
  },
  {
   "cell_type": "code",
   "execution_count": 4,
   "metadata": {},
   "outputs": [],
   "source": [
    "dfAdm = pd.read_excel('Admitted\\Admitted.xlsx')\n",
    "dfAdm = dfAdm.transpose()\n",
    "dfAdm.columns = dfAdm.iloc[0]\n",
    "dfAdm = dfAdm.drop(['Aldersgruppe']) \n",
    "curDates =  pd.to_datetime(dfAdm.index,format='%d_%m_%Y')"
   ]
  },
  {
   "cell_type": "code",
   "execution_count": 5,
   "metadata": {},
   "outputs": [],
   "source": [
    "# dfCase = pd.read_csv(latestdir+'\\\\Cases_by_age.csv',delimiter=';')\n",
    "dfCase = pd.DataFrame(columns=dfAdm.columns)\n",
    "dfTest = pd.DataFrame(columns=dfAdm.columns)\n",
    "dfPosP = pd.DataFrame(columns=dfAdm.columns)"
   ]
  },
  {
   "cell_type": "code",
   "execution_count": 6,
   "metadata": {},
   "outputs": [],
   "source": [
    "# for d in curDates:\n",
    "for k in range(0,len(curDates)):\n",
    "    d = curDates[k]\n",
    "    curIndex = dfAdm.index[k]\n",
    "\n",
    "    thisDateStr = d.strftime('%Y-%m-%d')\n",
    "    curDir = rootdir + '/SSI_data_' + thisDateStr \n",
    "    curFilePath = curDir + '/Cases_by_age.csv'\n",
    "    curdf = pd.read_csv(curFilePath,delimiter=';',dtype=str)\n",
    "\n",
    "\n",
    "    curdf['Antal_bekræftede_COVID-19'] = pd.to_numeric(curdf['Antal_bekræftede_COVID-19'].astype(str).apply(lambda x: x.replace('.','')))\n",
    "    curdf['Antal_testede'] = pd.to_numeric(curdf['Antal_testede'].astype(str).apply(lambda x: x.replace('.','')))\n",
    "    curdf['Procent_positive'] = pd.to_numeric(curdf['Procent_positive'].astype(str).apply(lambda x: x.replace(',','.')))\n",
    "\n",
    "    dfCase.loc[curIndex] = curdf['Antal_bekræftede_COVID-19'].values\n",
    "    dfTest.loc[curIndex] = curdf['Antal_testede'].values\n",
    "    dfPosP.loc[curIndex] = curdf['Procent_positive'].values\n",
    "\n"
   ]
  },
  {
   "cell_type": "code",
   "execution_count": 7,
   "metadata": {},
   "outputs": [
    {
     "output_type": "execute_result",
     "data": {
      "text/plain": [
       "Aldersgruppe 0-9 10-19 20-29 30-39 40-49 50-59 60-69 70-79 80-89 90+ I alt\n",
       "17_11_2020     2     4    13    18    26    49    55    63    42  14   286\n",
       "24_11_2020     8     1    16    19    28    49    50    59    70  11   311\n",
       "01_12_2020     4     1     7    12    32    45    33    63    59  15   271\n",
       "08_12_2020     6     7    23    32    41    61    67   110    80  21   448\n",
       "15_12_2020    12    14    27    48    59   102   116   120   103  36   637\n",
       "22_12_2020    22    15    42    70    95   143   152   236   185  54  1014\n",
       "29_12_2020    15    12    48    50    98   148   170   285   212  61  1099\n",
       "05_01_2021     5    14    37    58    72   121   161   211   224  73   976\n",
       "12_01_2021    12     6    33    37    49   108   116   206   211  58   836\n",
       "19_01_2021    12     3    15    32    46    87    97   167   152  57   668\n",
       "26_01_2021     4     5    13    27    53    59    78   116   141  21   517\n",
       "02_02_2021     3     4    14    28    32    30    50    85    67  30   343\n",
       "09_02_2021     5     3    12    12    19    25    39    59    35  14   223\n",
       "16_02_2021     7     4     8    17    19    33    28    48    29   8   201\n",
       "23_02_2021     7     3    11    14    16    29    31    26    37   5   179\n",
       "02_03_2021     3     5    11    23    22    38    30    27    21   9   189\n",
       "09_03_2021     1     5    11    21    33    30    38    38    24   3   204\n",
       "15_03_2021     2     4    15    18    25    45    28    31    15   1   184\n",
       "23_03_2021     3     4    10    17    30    51    33    34    19   3   204\n",
       "30_03_2021     5     4    24    24    32    53    35    51    17   2   247\n",
       "06_04_2021     4     3    12    26    47    51    29    39    17   1   229\n",
       "13_04_2021     1     5    19    26    35    51    30    35    13   2   217\n",
       "20_04_2021     9     4    23    32    37    44    39    43    12   2   245\n",
       "27_04_2021     5     5    18    30    32    46    34    24     9   2   205\n",
       "04_05_2021     1     5    13    32    35    50    40    24     7   3   210"
      ],
      "text/html": "<div>\n<style scoped>\n    .dataframe tbody tr th:only-of-type {\n        vertical-align: middle;\n    }\n\n    .dataframe tbody tr th {\n        vertical-align: top;\n    }\n\n    .dataframe thead th {\n        text-align: right;\n    }\n</style>\n<table border=\"1\" class=\"dataframe\">\n  <thead>\n    <tr style=\"text-align: right;\">\n      <th>Aldersgruppe</th>\n      <th>0-9</th>\n      <th>10-19</th>\n      <th>20-29</th>\n      <th>30-39</th>\n      <th>40-49</th>\n      <th>50-59</th>\n      <th>60-69</th>\n      <th>70-79</th>\n      <th>80-89</th>\n      <th>90+</th>\n      <th>I alt</th>\n    </tr>\n  </thead>\n  <tbody>\n    <tr>\n      <th>17_11_2020</th>\n      <td>2</td>\n      <td>4</td>\n      <td>13</td>\n      <td>18</td>\n      <td>26</td>\n      <td>49</td>\n      <td>55</td>\n      <td>63</td>\n      <td>42</td>\n      <td>14</td>\n      <td>286</td>\n    </tr>\n    <tr>\n      <th>24_11_2020</th>\n      <td>8</td>\n      <td>1</td>\n      <td>16</td>\n      <td>19</td>\n      <td>28</td>\n      <td>49</td>\n      <td>50</td>\n      <td>59</td>\n      <td>70</td>\n      <td>11</td>\n      <td>311</td>\n    </tr>\n    <tr>\n      <th>01_12_2020</th>\n      <td>4</td>\n      <td>1</td>\n      <td>7</td>\n      <td>12</td>\n      <td>32</td>\n      <td>45</td>\n      <td>33</td>\n      <td>63</td>\n      <td>59</td>\n      <td>15</td>\n      <td>271</td>\n    </tr>\n    <tr>\n      <th>08_12_2020</th>\n      <td>6</td>\n      <td>7</td>\n      <td>23</td>\n      <td>32</td>\n      <td>41</td>\n      <td>61</td>\n      <td>67</td>\n      <td>110</td>\n      <td>80</td>\n      <td>21</td>\n      <td>448</td>\n    </tr>\n    <tr>\n      <th>15_12_2020</th>\n      <td>12</td>\n      <td>14</td>\n      <td>27</td>\n      <td>48</td>\n      <td>59</td>\n      <td>102</td>\n      <td>116</td>\n      <td>120</td>\n      <td>103</td>\n      <td>36</td>\n      <td>637</td>\n    </tr>\n    <tr>\n      <th>22_12_2020</th>\n      <td>22</td>\n      <td>15</td>\n      <td>42</td>\n      <td>70</td>\n      <td>95</td>\n      <td>143</td>\n      <td>152</td>\n      <td>236</td>\n      <td>185</td>\n      <td>54</td>\n      <td>1014</td>\n    </tr>\n    <tr>\n      <th>29_12_2020</th>\n      <td>15</td>\n      <td>12</td>\n      <td>48</td>\n      <td>50</td>\n      <td>98</td>\n      <td>148</td>\n      <td>170</td>\n      <td>285</td>\n      <td>212</td>\n      <td>61</td>\n      <td>1099</td>\n    </tr>\n    <tr>\n      <th>05_01_2021</th>\n      <td>5</td>\n      <td>14</td>\n      <td>37</td>\n      <td>58</td>\n      <td>72</td>\n      <td>121</td>\n      <td>161</td>\n      <td>211</td>\n      <td>224</td>\n      <td>73</td>\n      <td>976</td>\n    </tr>\n    <tr>\n      <th>12_01_2021</th>\n      <td>12</td>\n      <td>6</td>\n      <td>33</td>\n      <td>37</td>\n      <td>49</td>\n      <td>108</td>\n      <td>116</td>\n      <td>206</td>\n      <td>211</td>\n      <td>58</td>\n      <td>836</td>\n    </tr>\n    <tr>\n      <th>19_01_2021</th>\n      <td>12</td>\n      <td>3</td>\n      <td>15</td>\n      <td>32</td>\n      <td>46</td>\n      <td>87</td>\n      <td>97</td>\n      <td>167</td>\n      <td>152</td>\n      <td>57</td>\n      <td>668</td>\n    </tr>\n    <tr>\n      <th>26_01_2021</th>\n      <td>4</td>\n      <td>5</td>\n      <td>13</td>\n      <td>27</td>\n      <td>53</td>\n      <td>59</td>\n      <td>78</td>\n      <td>116</td>\n      <td>141</td>\n      <td>21</td>\n      <td>517</td>\n    </tr>\n    <tr>\n      <th>02_02_2021</th>\n      <td>3</td>\n      <td>4</td>\n      <td>14</td>\n      <td>28</td>\n      <td>32</td>\n      <td>30</td>\n      <td>50</td>\n      <td>85</td>\n      <td>67</td>\n      <td>30</td>\n      <td>343</td>\n    </tr>\n    <tr>\n      <th>09_02_2021</th>\n      <td>5</td>\n      <td>3</td>\n      <td>12</td>\n      <td>12</td>\n      <td>19</td>\n      <td>25</td>\n      <td>39</td>\n      <td>59</td>\n      <td>35</td>\n      <td>14</td>\n      <td>223</td>\n    </tr>\n    <tr>\n      <th>16_02_2021</th>\n      <td>7</td>\n      <td>4</td>\n      <td>8</td>\n      <td>17</td>\n      <td>19</td>\n      <td>33</td>\n      <td>28</td>\n      <td>48</td>\n      <td>29</td>\n      <td>8</td>\n      <td>201</td>\n    </tr>\n    <tr>\n      <th>23_02_2021</th>\n      <td>7</td>\n      <td>3</td>\n      <td>11</td>\n      <td>14</td>\n      <td>16</td>\n      <td>29</td>\n      <td>31</td>\n      <td>26</td>\n      <td>37</td>\n      <td>5</td>\n      <td>179</td>\n    </tr>\n    <tr>\n      <th>02_03_2021</th>\n      <td>3</td>\n      <td>5</td>\n      <td>11</td>\n      <td>23</td>\n      <td>22</td>\n      <td>38</td>\n      <td>30</td>\n      <td>27</td>\n      <td>21</td>\n      <td>9</td>\n      <td>189</td>\n    </tr>\n    <tr>\n      <th>09_03_2021</th>\n      <td>1</td>\n      <td>5</td>\n      <td>11</td>\n      <td>21</td>\n      <td>33</td>\n      <td>30</td>\n      <td>38</td>\n      <td>38</td>\n      <td>24</td>\n      <td>3</td>\n      <td>204</td>\n    </tr>\n    <tr>\n      <th>15_03_2021</th>\n      <td>2</td>\n      <td>4</td>\n      <td>15</td>\n      <td>18</td>\n      <td>25</td>\n      <td>45</td>\n      <td>28</td>\n      <td>31</td>\n      <td>15</td>\n      <td>1</td>\n      <td>184</td>\n    </tr>\n    <tr>\n      <th>23_03_2021</th>\n      <td>3</td>\n      <td>4</td>\n      <td>10</td>\n      <td>17</td>\n      <td>30</td>\n      <td>51</td>\n      <td>33</td>\n      <td>34</td>\n      <td>19</td>\n      <td>3</td>\n      <td>204</td>\n    </tr>\n    <tr>\n      <th>30_03_2021</th>\n      <td>5</td>\n      <td>4</td>\n      <td>24</td>\n      <td>24</td>\n      <td>32</td>\n      <td>53</td>\n      <td>35</td>\n      <td>51</td>\n      <td>17</td>\n      <td>2</td>\n      <td>247</td>\n    </tr>\n    <tr>\n      <th>06_04_2021</th>\n      <td>4</td>\n      <td>3</td>\n      <td>12</td>\n      <td>26</td>\n      <td>47</td>\n      <td>51</td>\n      <td>29</td>\n      <td>39</td>\n      <td>17</td>\n      <td>1</td>\n      <td>229</td>\n    </tr>\n    <tr>\n      <th>13_04_2021</th>\n      <td>1</td>\n      <td>5</td>\n      <td>19</td>\n      <td>26</td>\n      <td>35</td>\n      <td>51</td>\n      <td>30</td>\n      <td>35</td>\n      <td>13</td>\n      <td>2</td>\n      <td>217</td>\n    </tr>\n    <tr>\n      <th>20_04_2021</th>\n      <td>9</td>\n      <td>4</td>\n      <td>23</td>\n      <td>32</td>\n      <td>37</td>\n      <td>44</td>\n      <td>39</td>\n      <td>43</td>\n      <td>12</td>\n      <td>2</td>\n      <td>245</td>\n    </tr>\n    <tr>\n      <th>27_04_2021</th>\n      <td>5</td>\n      <td>5</td>\n      <td>18</td>\n      <td>30</td>\n      <td>32</td>\n      <td>46</td>\n      <td>34</td>\n      <td>24</td>\n      <td>9</td>\n      <td>2</td>\n      <td>205</td>\n    </tr>\n    <tr>\n      <th>04_05_2021</th>\n      <td>1</td>\n      <td>5</td>\n      <td>13</td>\n      <td>32</td>\n      <td>35</td>\n      <td>50</td>\n      <td>40</td>\n      <td>24</td>\n      <td>7</td>\n      <td>3</td>\n      <td>210</td>\n    </tr>\n  </tbody>\n</table>\n</div>"
     },
     "metadata": {},
     "execution_count": 7
    }
   ],
   "source": [
    "dfCaseDiff = dfCase.diff().iloc[1:]\n",
    "dfAdmDiff = dfAdm.diff().iloc[1:]\n",
    "dfCaseDiff\n",
    "dfAdmDiff"
   ]
  },
  {
   "cell_type": "code",
   "execution_count": 8,
   "metadata": {},
   "outputs": [],
   "source": [
    "caseAdmRate = np.divide(dfAdmDiff.iloc[1:].values,dfCaseDiff[:-1])\n",
    "# caseAdmRate = np.divide(dfAdmDiff.iloc[2:].values,dfCaseDiff[:-2])\n",
    "# dfCaseDiff.iloc[:-1]\n",
    "# dfAdmDiff.iloc[1:]"
   ]
  },
  {
   "cell_type": "code",
   "execution_count": 9,
   "metadata": {},
   "outputs": [
    {
     "output_type": "display_data",
     "data": {
      "text/plain": "Canvas(toolbar=Toolbar(toolitems=[('Home', 'Reset original view', 'home', 'home'), ('Back', 'Back to previous …",
      "application/vnd.jupyter.widget-view+json": {
       "version_major": 2,
       "version_minor": 0,
       "model_id": "1c08ac3894484447a5f6c572c1dc5a70"
      }
     },
     "metadata": {}
    }
   ],
   "source": [
    "# caseAdmRate.mean()\n",
    "\n",
    "# allCols = caseAdmRate.columns[:-1]\n",
    "allCols = caseAdmRate.columns\n",
    "\n",
    "plotDates = curDates[2:]\n",
    "# plotDates = curDates[3:]\n",
    "\n",
    "fig,ax1 = plt.subplots()\n",
    "\n",
    "finalEstimates = []\n",
    "\n",
    "numToShow = len(allCols)-1\n",
    "numToShow = len(allCols)-4\n",
    "cmap = plt.cm.get_cmap('Dark2',numToShow)\n",
    "for k in range(0,numToShow):\n",
    "    curCol = allCols[k]\n",
    "\n",
    "    ax1.plot(plotDates,100*caseAdmRate[curCol],'.:',markersize=3,linewidth=0.75,color=cmap(k))\n",
    "    meanWidth = 4\n",
    "    ax1.plot(rnTime(plotDates,meanWidth),rnMean(100*caseAdmRate[curCol],meanWidth),color=cmap(k),label=curCol)\n",
    "\n",
    "    # Collect the final mean values\n",
    "    curFinalMean = rnMean(100*caseAdmRate[curCol],meanWidth)[-1]\n",
    "    finalEstimates.append(curFinalMean)\n",
    "\n",
    "ax1.legend()\n",
    "ax1.set_ylim([0,20])\n",
    "# ax1.set_ylim([0,100])\n",
    "# ax1.set_ylim(bottom=0)\n",
    "ax1.set_xlim([plotDates[0],plotDates[-1]])\n",
    "\n",
    "ax1.xaxis.set_major_formatter(mdates.DateFormatter('%b'))\n",
    "\n",
    "curFont = 18\n",
    "ax1.set_ylabel('Indlæggelser per tilfælde ugen før [%]',fontsize=curFont)\n",
    "plt.xticks(fontsize=curFont)\n",
    "plt.yticks(fontsize=curFont)\n",
    "plt.grid()\n",
    "\n",
    "plt.tight_layout()\n",
    "\n",
    "if saveFigures:\n",
    "    plt.savefig('figs/case_hospitalization_per_time')"
   ]
  },
  {
   "cell_type": "code",
   "execution_count": 10,
   "metadata": {},
   "outputs": [],
   "source": [
    "# caseAdmRate.mean()\n",
    "\n",
    "# allCols = caseAdmRate.columns[:-1]\n",
    "allCols = caseAdmRate.columns\n",
    "\n",
    "plotDates = curDates[2:]\n",
    "# plotDates = curDates[3:]\n",
    "\n",
    "# fig,ax1 = plt.subplots()\n",
    "\n",
    "finalEstimates = []\n",
    "\n",
    "numToShow = len(allCols)-1\n",
    "# numToShow = len(allCols)-4\n",
    "cmap = plt.cm.get_cmap('Dark2',numToShow)\n",
    "for k in range(0,numToShow):\n",
    "    curCol = allCols[k]\n",
    "\n",
    "    # ax1.plot(plotDates,100*caseAdmRate[curCol],'.:',markersize=3,linewidth=0.75,color=cmap(k))\n",
    "    meanWidth = 4\n",
    "    # ax1.plot(rnTime(plotDates,meanWidth),rnMean(100*caseAdmRate[curCol],meanWidth),color=cmap(k),label=curCol)\n",
    "\n",
    "    # Collect the final mean values\n",
    "    curFinalMean = rnMean(100*caseAdmRate[curCol],meanWidth)[-1]\n",
    "    finalEstimates.append(curFinalMean)\n",
    "\n",
    "# ax1.legend()\n",
    "# ax1.set_ylim([0,20])\n",
    "# # ax1.set_ylim([0,100])\n",
    "# # ax1.set_ylim(bottom=0)\n",
    "# ax1.set_xlim([plotDates[0],plotDates[-1]])\n",
    "\n",
    "# ax1.xaxis.set_major_formatter(mdates.DateFormatter('%b'))\n",
    "\n",
    "# curFont = 18\n",
    "# ax1.set_ylabel('Indlæggelser per tilfælde ugen før [%]',fontsize=curFont)\n",
    "# plt.xticks(fontsize=curFont)\n",
    "# plt.yticks(fontsize=curFont)\n",
    "# plt.grid()\n",
    "\n",
    "# plt.tight_layout()\n",
    "\n",
    "# if saveFigures:\n",
    "#     plt.savefig('figs/case_hospitalization_per_time')"
   ]
  },
  {
   "cell_type": "code",
   "execution_count": 11,
   "metadata": {},
   "outputs": [
    {
     "output_type": "stream",
     "name": "stdout",
     "text": [
      "Alderstrin:   0-9: 0.9 %\nAlderstrin: 10-19: 0.6 %\nAlderstrin: 20-29: 2.0 %\nAlderstrin: 30-39: 4.2 %\nAlderstrin: 40-49: 4.9 %\nAlderstrin: 50-59: 7.8 %\nAlderstrin: 60-69: 12.6 %\nAlderstrin: 70-79: 22.3 %\nAlderstrin: 80-89: 30.6 %\nAlderstrin: 90+: 38.0 %\n"
     ]
    }
   ],
   "source": [
    "# print(allCols.values[:numToShow])\n",
    "# print(finalEstimates)\n",
    "print(f'Alderstrin:   {allCols.values[0]}: {finalEstimates[0]:.1f} %')\n",
    "for k in range(1,numToShow):\n",
    "    print(f'Alderstrin: {allCols.values[k]}: {finalEstimates[k]:.1f} %')"
   ]
  },
  {
   "cell_type": "code",
   "execution_count": 12,
   "metadata": {},
   "outputs": [
    {
     "output_type": "display_data",
     "data": {
      "text/plain": "Canvas(toolbar=Toolbar(toolitems=[('Home', 'Reset original view', 'home', 'home'), ('Back', 'Back to previous …",
      "application/vnd.jupyter.widget-view+json": {
       "version_major": 2,
       "version_minor": 0,
       "model_id": "6dc41aa7ba9d424c9dc0a263530547cc"
      }
     },
     "metadata": {}
    }
   ],
   "source": [
    "plt.figure()\n",
    "plt.bar(range(0,numToShow),finalEstimates,color='k')\n",
    "\n",
    "for i,v in enumerate(finalEstimates):\n",
    "    plt.text(i,v+0.5,f'{v:.1f} %',fontsize=14,va='center',ha='center')\n",
    "\n",
    "curFont = 18\n",
    "plt.yticks(fontsize=curFont-2)\n",
    "plt.xticks(range(0,numToShow),labels=allCols.values[:-1],fontsize=curFont-2)\n",
    "plt.ylabel('Indlæggelser per tilfælde ugen før [%]',fontsize=curFont)\n",
    "plt.xlabel('Alderstrin',fontsize=curFont)\n",
    "\n",
    "plt.title('4 ugers gennemsnit op til '+plotDates[-1].strftime('%d. %b'))\n",
    "plt.tight_layout()\n",
    "\n",
    "if saveFigures:\n",
    "    plt.savefig('figs/HospitalizationPerAge')"
   ]
  },
  {
   "cell_type": "code",
   "execution_count": 13,
   "metadata": {},
   "outputs": [],
   "source": [
    "# Calculation of size of age-group\n",
    "dfAges = pd.read_excel('DKfolketal2021clean.xlsx')"
   ]
  },
  {
   "cell_type": "code",
   "execution_count": 14,
   "metadata": {},
   "outputs": [
    {
     "output_type": "execute_result",
     "data": {
      "text/plain": [
       "array([610210, 680040, 778740, 696679, 748824, 801166, 667583, 574697,\n",
       "       236648,  45458], dtype=int64)"
      ]
     },
     "metadata": {},
     "execution_count": 14
    }
   ],
   "source": [
    "DK_age = []\n",
    "DK_age.append(dfAges.iloc[0:10].Antal.sum())\n",
    "DK_age.append(dfAges.iloc[10:20].Antal.sum())\n",
    "DK_age.append(dfAges.iloc[20:30].Antal.sum())\n",
    "DK_age.append(dfAges.iloc[30:40].Antal.sum())\n",
    "DK_age.append(dfAges.iloc[40:50].Antal.sum())\n",
    "DK_age.append(dfAges.iloc[50:60].Antal.sum())\n",
    "DK_age.append(dfAges.iloc[60:70].Antal.sum())\n",
    "DK_age.append(dfAges.iloc[70:80].Antal.sum())\n",
    "DK_age.append(dfAges.iloc[80:90].Antal.sum())\n",
    "DK_age.append(dfAges.iloc[90:].Antal.sum())\n",
    "DK_age = np.array(DK_age)\n",
    "DK_age"
   ]
  },
  {
   "cell_type": "code",
   "execution_count": 15,
   "metadata": {},
   "outputs": [
    {
     "output_type": "stream",
     "name": "stdout",
     "text": [
      "0.09176470588235293\n[55995.74117647 62403.67058824 71460.84705882 63930.54352941\n 68715.61411765 73518.76235294 61260.55764706 52736.90117647\n 21715.93411765  4171.44      ]\n"
     ]
    },
    {
     "output_type": "execute_result",
     "data": {
      "text/plain": [
       "array([55995.74117647, 62403.67058824, 71460.84705882, 63930.54352941,\n",
       "       68715.61411765, 73518.76235294, 61260.55764706, 52736.90117647,\n",
       "       21715.93411765,  4171.44      ])"
      ]
     },
     "metadata": {},
     "execution_count": 15
    }
   ],
   "source": [
    "# R0 = 2.5\n",
    "# R0 = 2.5 * 1.5\n",
    "R0 = 1.7\n",
    "herdImmunityThreshold = 1-(1/R0)\n",
    "\n",
    "vaccPerc = 0.010\n",
    "immuPerc = 0.08\n",
    "vaccPerc = 0.24\n",
    "immuPerc = 0.08\n",
    "\n",
    "vaccPercList = [0,0.008,0.10,0.131,0.18,0.21,0.52,0.93,0.95,0.94]\n",
    "# herdImmunityThresholdList = np.\n",
    "\n",
    "missingToInfectPerc = herdImmunityThreshold - vaccPerc - immuPerc\n",
    "print(missingToInfectPerc)\n",
    "missingToInfect = np.multiply(missingToInfectPerc,DK_age)\n",
    "print(missingToInfect)\n",
    "\n",
    "missingToInfect\n",
    "\n"
   ]
  },
  {
   "cell_type": "code",
   "execution_count": 16,
   "metadata": {},
   "outputs": [
    {
     "output_type": "stream",
     "name": "stdout",
     "text": [
      "['0-9' '10-19' '20-29' '30-39' '40-49' '50-59' '60-69' '70-79' '80-89'\n '90+']\n[  499.   343.  1447.  2683.  3390.  5745.  7724. 11752.  6645.  1587.]\n"
     ]
    },
    {
     "output_type": "execute_result",
     "data": {
      "text/plain": [
       "14107.0"
      ]
     },
     "metadata": {},
     "execution_count": 16
    }
   ],
   "source": [
    "toAdm = np.round(np.multiply(missingToInfect,np.multiply(finalEstimates,0.01)))\n",
    "print(allCols.values[:-1])\n",
    "print(toAdm)\n",
    "toAdm[0:6].sum()"
   ]
  },
  {
   "source": [
    "# Load vaccine data\n"
   ],
   "cell_type": "markdown",
   "metadata": {}
  },
  {
   "cell_type": "code",
   "execution_count": 17,
   "metadata": {},
   "outputs": [],
   "source": [
    "ssivaccpath = \"ssi_vacc\"\n",
    "rootdirvacc = os.getcwd() +\"/\" + ssivaccpath "
   ]
  },
  {
   "cell_type": "code",
   "execution_count": 18,
   "metadata": {},
   "outputs": [
    {
     "output_type": "stream",
     "name": "stdout",
     "text": [
      "c:\\Users\\rakrpe\\Documents\\PandemiX\\GithubRepos\\PandemiX\\DanskeData/ssi_vacc\\SSI_vacc_2021-05-09\\Vaccine_DB\n2021-05-09 00:00:00\n"
     ]
    }
   ],
   "source": [
    "for subdir, dirs, files in os.walk(rootdirvacc):\n",
    "    if not len(files) == 0:\n",
    "        latestdir = subdir \n",
    "        # latestDate = pd.to_datetime(subdir[-10:])\n",
    "\n",
    "print(latestdir)\n",
    "latestDate = pd.to_datetime(latestdir[-21:-11]) # Assuming everything is in a \"\\Vaccine_DB\" subdir\n",
    "print(latestDate)\n",
    "\n",
    "\n",
    "# # thisDateStr = d.strftime('%Y-%m-%d')\n",
    "# # curDir = rootdir + '/SSI_data_' + thisDateStr \n",
    "# # curFilePath = curDir + '/Cases_by_age.csv'\n",
    "# # curdf = pd.read_csv(curFilePath,delimiter=';',dtype=str)"
   ]
  },
  {
   "cell_type": "code",
   "execution_count": 19,
   "metadata": {},
   "outputs": [
    {
     "output_type": "execute_result",
     "data": {
      "text/plain": [
       "Index(['Regionsnavn', 'Aldersgruppe', 'sex', 'Antal f�rste vacc.',\n",
       "       'Antal faerdigvacc.'],\n",
       "      dtype='object')"
      ]
     },
     "metadata": {},
     "execution_count": 19
    }
   ],
   "source": [
    "curFilePath = latestdir + '\\\\Vaccinationer_region_aldgrp_koen.csv'\n",
    "dfVac = pd.read_csv(curFilePath,delimiter=',')\n",
    "dfVac.columns"
   ]
  },
  {
   "cell_type": "code",
   "execution_count": 20,
   "metadata": {},
   "outputs": [],
   "source": [
    "# dfVac"
   ]
  },
  {
   "cell_type": "code",
   "execution_count": 21,
   "metadata": {},
   "outputs": [
    {
     "output_type": "execute_result",
     "data": {
      "text/plain": [
       "  Aldersgruppe Foerste Faerdig\n",
       "0          0-9       5       3\n",
       "1        10-19    4183    2445\n",
       "2        20-29   54399   28251\n",
       "3        30-39   64776   37581\n",
       "4        40-49   92385   54891\n",
       "5        50-59  118687   74161\n",
       "6        60-69  346967   92928\n",
       "7        70-79  536963  302795\n",
       "8        80-89  228035  215622\n",
       "9          90+   42798   41589"
      ],
      "text/html": "<div>\n<style scoped>\n    .dataframe tbody tr th:only-of-type {\n        vertical-align: middle;\n    }\n\n    .dataframe tbody tr th {\n        vertical-align: top;\n    }\n\n    .dataframe thead th {\n        text-align: right;\n    }\n</style>\n<table border=\"1\" class=\"dataframe\">\n  <thead>\n    <tr style=\"text-align: right;\">\n      <th></th>\n      <th>Aldersgruppe</th>\n      <th>Foerste</th>\n      <th>Faerdig</th>\n    </tr>\n  </thead>\n  <tbody>\n    <tr>\n      <th>0</th>\n      <td>0-9</td>\n      <td>5</td>\n      <td>3</td>\n    </tr>\n    <tr>\n      <th>1</th>\n      <td>10-19</td>\n      <td>4183</td>\n      <td>2445</td>\n    </tr>\n    <tr>\n      <th>2</th>\n      <td>20-29</td>\n      <td>54399</td>\n      <td>28251</td>\n    </tr>\n    <tr>\n      <th>3</th>\n      <td>30-39</td>\n      <td>64776</td>\n      <td>37581</td>\n    </tr>\n    <tr>\n      <th>4</th>\n      <td>40-49</td>\n      <td>92385</td>\n      <td>54891</td>\n    </tr>\n    <tr>\n      <th>5</th>\n      <td>50-59</td>\n      <td>118687</td>\n      <td>74161</td>\n    </tr>\n    <tr>\n      <th>6</th>\n      <td>60-69</td>\n      <td>346967</td>\n      <td>92928</td>\n    </tr>\n    <tr>\n      <th>7</th>\n      <td>70-79</td>\n      <td>536963</td>\n      <td>302795</td>\n    </tr>\n    <tr>\n      <th>8</th>\n      <td>80-89</td>\n      <td>228035</td>\n      <td>215622</td>\n    </tr>\n    <tr>\n      <th>9</th>\n      <td>90+</td>\n      <td>42798</td>\n      <td>41589</td>\n    </tr>\n  </tbody>\n</table>\n</div>"
     },
     "metadata": {},
     "execution_count": 21
    }
   ],
   "source": [
    "dfVacSum = pd.DataFrame(columns=['Aldersgruppe','Foerste','Faerdig'])\n",
    "\n",
    "# for curAge in allCols[:-1]:\n",
    "for i in range(0,len(allCols)-1):\n",
    "    curAge = allCols[i]\n",
    "\n",
    "    # print(curAge)\n",
    "\n",
    "    # curAge = '70-79'\n",
    "    # dfVac[dfVac.Aldersgruppe == curAge]\n",
    "    \n",
    "    curFirst = dfVac[dfVac.Aldersgruppe == curAge]['Antal f�rste vacc.'].sum()\n",
    "    curBoth  = dfVac[dfVac.Aldersgruppe == curAge]['Antal faerdigvacc.'].sum()\n",
    "\n",
    "    dfVacSum.loc[i] = [curAge,curFirst,curBoth]\n",
    "dfVacSum"
   ]
  },
  {
   "cell_type": "code",
   "execution_count": 22,
   "metadata": {},
   "outputs": [],
   "source": [
    "doneVacc = dfVacSum.Faerdig.values\n",
    "doneVacc = dfVacSum.Foerste.values"
   ]
  },
  {
   "cell_type": "code",
   "execution_count": 31,
   "metadata": {},
   "outputs": [],
   "source": [
    "## Vaccinated\n",
    "vaccCount = dfVacSum.Foerste.values\n",
    "vaccRatio = np.divide(vaccCount,DK_age)\n",
    "vaccFullCount = dfVacSum.Faerdig.values\n",
    "vaccFullRatio = np.divide(vaccFullCount,DK_age)\n",
    "\n",
    "## Natural immunization\n",
    "# Seroprevalence, bloddonerer, uge 16:\n",
    "# 17-29: 9,6%\n",
    "# 30-49: 6,3%\n",
    "# 50-69: 5,0%\n",
    "# I alt: 6,7%\n",
    "imm0_29 = 0.1\n",
    "imm30_49 = 0.075\n",
    "imm50_69 = 0.06\n",
    "immuRatio = [imm0_29,imm0_29,imm0_29,imm30_49,imm30_49,imm50_69,imm50_69,imm50_69,imm50_69,imm50_69]\n",
    "immuCount = np.multiply(immuRatio,DK_age)\n",
    "\n",
    "## Total immune\n",
    "allImmuRatio = vaccRatio + immuRatio - np.multiply(vaccRatio,immuRatio)\n",
    "allImmuCount = np.multiply(allImmuRatio,DK_age)\n",
    "allImmuFullRatio = vaccFullRatio + immuRatio - np.multiply(vaccFullRatio,immuRatio)\n",
    "allImmuFullCount = np.multiply(allImmuFullRatio,DK_age)\n",
    "\n",
    "## Herd immunity threshold\n",
    "# R0 = 2.5\n",
    "# R0 = 2.5 * 1.5\n",
    "R0 = 1.7\n",
    "herdImmunityThreshold = 1-(1/R0)\n",
    "herdRatio = herdImmunityThreshold * np.ones(DK_age.shape)\n",
    "herdCount = herdImmunityThreshold * DK_age\n",
    "\n",
    "\n",
    "## Missing immunization before herd immunity is reached\n",
    "missImmuRatio = herdRatio - allImmuRatio\n",
    "missImmuFullRatio = herdRatio - allImmuFullRatio\n",
    "# If below zero, set to zero\n",
    "missImmuRatio[missImmuRatio < 0] = 0\n",
    "missImmuFullRatio[missImmuFullRatio < 0] = 0\n",
    "missImmuFullCount = np.multiply(missImmuFullRatio,DK_age)\n",
    "missImmuCount = np.multiply(missImmuRatio,DK_age)\n",
    "# missImmuCount = herdCount - allImmuCount\n",
    "\n",
    "# Calculate the herd immunity numbers, but for a higher R0 (corresponding to B117 in the winter)\n",
    "R0_winter = 2.5 * 1.5\n",
    "herdImmunityThreshold_winter = 1-(1/R0_winter)\n",
    "herdRatio_winter = herdImmunityThreshold_winter * np.ones(DK_age.shape)\n",
    "herdCount_winter = herdImmunityThreshold_winter * DK_age\n",
    "\n",
    "missImmuRatio_winter = herdRatio_winter - allImmuRatio\n",
    "missImmuFullRatio_winter = herdRatio_winter - allImmuFullRatio\n",
    "missImmuRatio_winter[missImmuRatio_winter < 0] = 0\n",
    "missImmuFullRatio_winter[missImmuFullRatio_winter < 0] = 0\n",
    "missImmuFullCount_winter = np.multiply(missImmuFullRatio_winter,DK_age)\n",
    "missImmuCount_winter = np.multiply(missImmuRatio_winter,DK_age)"
   ]
  },
  {
   "cell_type": "code",
   "execution_count": 46,
   "metadata": {},
   "outputs": [],
   "source": [
    "fullPop = DK_age.sum()\n",
    "fullImmu = allImmuCount.sum()\n",
    "fullVacc = vaccCount.sum()\n",
    "fullVaccFull = vaccFullCount.sum()\n",
    "fullMissImmu = missImmuCount.sum()\n",
    "fullMissImmuFull = missImmuFullCount.sum()\n",
    "fullMissImmu_winter = missImmuCount_winter.sum()\n",
    "fullMissImmuFull_winter = missImmuFullCount_winter.sum()"
   ]
  },
  {
   "cell_type": "code",
   "execution_count": 25,
   "metadata": {},
   "outputs": [
    {
     "output_type": "display_data",
     "data": {
      "text/plain": "Canvas(toolbar=Toolbar(toolitems=[('Home', 'Reset original view', 'home', 'home'), ('Back', 'Back to previous …",
      "application/vnd.jupyter.widget-view+json": {
       "version_major": 2,
       "version_minor": 0,
       "model_id": "d1b8e955d6b047fba14b48a0f6dd35a0"
      }
     },
     "metadata": {}
    }
   ],
   "source": [
    "fig,(ax1,ax2) = plt.subplots(2,1,sharex=True)\n",
    "\n",
    "xVals = range(0,10)\n",
    "\n",
    "curWidth = 0.75\n",
    "\n",
    "ax1.bar(xVals,DK_age,label='Modtagelige',color='mediumblue')\n",
    "# ax1.bar(range(0,10),np.multiply(herdImmuList,DK_age),edgecolor='k',label='Grænse for flokimmunitet')\n",
    "for k in range(0,10):\n",
    "    ax1.plot([k-curWidth/2,k+curWidth/2],[herdCount[k],herdCount[k]],'k')\n",
    "    ax1.plot([k-curWidth/2,k+curWidth/2],[herdCount_winter[k],herdCount_winter[k]],'darkgrey')\n",
    "\n",
    "# Plot an extra, for legend label\n",
    "ax1.plot([k-curWidth/2,k+curWidth/2],[herdCount[k],herdCount[k]],'k',label=f'Grænse for flokimmunitet \\n(R0={R0:1.2f})')\n",
    "ax1.plot([k-curWidth/2,k+curWidth/2],[herdCount_winter[k],herdCount_winter[k]],'darkgrey',label=f'Grænse for flokimmunitet \\n(R0={R0_winter:1.2f})')\n",
    "\n",
    "ax1.bar(xVals,allImmuCount,color='m',label='Naturlig immunitet')\n",
    "ax1.bar(xVals,vaccCount,color='g',label='Vaccineret (første dosis)')\n",
    "ax1.bar(xVals,vaccFullCount,color='xkcd:darkgreen',label='Vaccineret (færdig)')\n",
    "\n",
    "\n",
    "# ax1.bar(10,fullPop,color='mediumblue')\n",
    "# ax1.bar(10,fullImmu,color='m')\n",
    "# ax1.bar(10,fullVacc,color='g')\n",
    "# ax1.bar(10,fullVaccFull,color='xkcd:darkgreen')\n",
    "\n",
    "\n",
    "ax2.bar(xVals,100 * np.ones(DK_age.shape),color='mediumblue',label='Modtagelige')\n",
    "ax2.plot([-2,11],100 * herdImmunityThreshold*np.ones((2,)),'k',label=f'Grænse for flokimmunitet (R0={R0:1.2f})')\n",
    "ax2.plot([-2,11],100 * herdImmunityThreshold_winter*np.ones((2,)),'darkgrey',label=f'Grænse for flokimmunitet (R0={R0_winter:1.2f})')\n",
    "\n",
    "ax2.bar(xVals,100 * allImmuRatio,color='m',label='Naturlig immunitet')\n",
    "ax2.bar(xVals,100 * vaccRatio,color='g',label='Vaccineret (Første dosis')\n",
    "ax2.bar(xVals,100 * vaccFullRatio,color='xkcd:darkgreen',label='Vaccineret (færdig)')\n",
    "\n",
    "ax1.set_xticks(xVals)\n",
    "ax1.set_xticklabels(allCols[:-1])\n",
    "\n",
    "ax2.bar(10,100 * np.divide(fullPop,fullPop),color='mediumblue')\n",
    "ax2.bar(10,100 * np.divide(fullImmu,fullPop),color='m')\n",
    "ax2.bar(10,100 * np.divide(fullVacc,fullPop),color='g')\n",
    "ax2.bar(10,100 * np.divide(fullVaccFull,fullPop),color='xkcd:darkgreen')\n",
    "\n",
    "\n",
    "\n",
    "\n",
    "curTicks = np.append(xVals,10)\n",
    "curTickLabels = np.append(allCols[:-1],'Total')\n",
    "ax1.set_xticks(curTicks)\n",
    "ax1.set_xticklabels(curTickLabels)\n",
    "\n",
    "ax1.set_xlim([-0.5,10.5])\n",
    "\n",
    "\n",
    "ax1.legend(loc='center left',bbox_to_anchor = (1.0, 0.5))\n",
    "ax2.set_ylim([0,100])\n",
    "\n",
    "# Period as thousands separator\n",
    "ax1.get_yaxis().set_major_formatter(\n",
    "    plt.matplotlib.ticker.FuncFormatter(lambda x, p: format(int(x), ',').replace(',','.'))\n",
    ")\n",
    "\n",
    "\n",
    "ax1.set_ylabel('Antal personer')\n",
    "ax2.set_ylabel('Andel [%]')\n",
    "\n",
    "# ax2.legend()\n",
    "plt.tight_layout()\n",
    "if saveFigures:\n",
    "    plt.savefig('figs/BefolkningFlokImmunitetOgVaccineret')"
   ]
  },
  {
   "source": [
    "# Show how many can potentially be infected"
   ],
   "cell_type": "markdown",
   "metadata": {}
  },
  {
   "cell_type": "code",
   "execution_count": 55,
   "metadata": {},
   "outputs": [
    {
     "output_type": "display_data",
     "data": {
      "text/plain": "Canvas(toolbar=Toolbar(toolitems=[('Home', 'Reset original view', 'home', 'home'), ('Back', 'Back to previous …",
      "application/vnd.jupyter.widget-view+json": {
       "version_major": 2,
       "version_minor": 0,
       "model_id": "402ee1695ac84fe4b62958d69c81b943"
      }
     },
     "metadata": {}
    }
   ],
   "source": [
    "fig,(ax1,ax2) = plt.subplots(2,1,sharex=True)\n",
    "\n",
    "xVals = np.arange(0,10)\n",
    "\n",
    "curWidth = 0.75\n",
    "\n",
    "ax1.bar(xVals,DK_age,label='Modtagelige',color='mediumblue')\n",
    "# ax1.bar(range(0,10),np.multiply(herdImmuList,DK_age),edgecolor='k',label='Grænse for flokimmunitet')\n",
    "for k in range(0,10):\n",
    "    ax1.plot([k-curWidth/2,k+curWidth/2],[herdCount[k],herdCount[k]],'k')\n",
    "    # ax1.plot([k-curWidth/2,k+curWidth/2],[herdCount_winter[k],herdCount_winter[k]],'darkgrey')\n",
    "\n",
    "# Plot an extra, for legend label\n",
    "ax1.plot([k-curWidth/2,k+curWidth/2],[herdCount[k],herdCount[k]],'k',label=f'Grænse for \\nflokimmunitet \\n(R0={R0:1.2f})')\n",
    "# ax1.plot([k-curWidth/2,k+curWidth/2],[herdCount_winter[k],herdCount_winter[k]],'darkgrey',label=f'Grænse for flokimmunitet \\n(R0={R0_winter:1.2f})')\n",
    "\n",
    "\n",
    "ax1.bar(xVals,missImmuCount+allImmuCount,color='darkred',label='Potentielle \\nsmittetilfælde')\n",
    "ax1.bar(xVals,allImmuCount,color='m',label='Naturlig \\nimmunitet')\n",
    "ax1.bar(xVals,vaccCount,color='g',label='Vaccineret \\n(første dosis)')\n",
    "\n",
    "# ax1.bar(xVals,missImmuFullCount+allImmuFullCount,color='darkred',label='Potentielle smittetilfælde')\n",
    "# ax1.bar(xVals,allImmuFullCount,color='m',label='Naturlig immunitet')\n",
    "ax1.bar(xVals,vaccFullCount,color='xkcd:darkgreen',label='Vaccineret \\n(færdig)')\n",
    "\n",
    "\n",
    "# curWidth = 0.4\n",
    "# ax2.bar(xVals-curWidth/2,missImmuCount,width=curWidth,color='darkred',label='Ved immunitet efter først dosis')\n",
    "# ax2.bar(xVals+curWidth/2,missImmuFullCount,width=curWidth,color='red',label='Ved immunitet efter anden dosis')\n",
    "ax2.bar(xVals,missImmuFullCount,width=curWidth,color='peru',label=f'Med første dosis \\nTotal: {fullMissImmu:,.0f}'.replace(',','.'))\n",
    "ax2.bar(xVals,missImmuCount,width=curWidth,color='darkred',label=f'Uden første dosis \\nTotal: {fullMissImmuFull:,.0f}'.replace(',','.'))\n",
    "# ax2.bar(10,fullMissImmu,color='darkred')\n",
    "\n",
    "ax1.set_xticks(xVals)\n",
    "ax1.set_xticklabels(allCols[:-1])\n",
    "\n",
    "\n",
    "# curTicks = np.append(xVals,10)\n",
    "# curTickLabels = np.append(allCols[:-1],'Total')\n",
    "# ax1.set_xticks(curTicks)\n",
    "# ax1.set_xticklabels(curTickLabels)\n",
    "\n",
    "ax1.set_xlim([-0.5,9.5])\n",
    "\n",
    "\n",
    "# ax1.legend(loc='center left',bbox_to_anchor = (1.0, 0.5))\n",
    "# ax2.legend(loc='center left',bbox_to_anchor = (1.0, 0.5))\n",
    "ax1.legend(loc='upper right')\n",
    "ax2.legend()\n",
    "\n",
    "# Period as thousands separator\n",
    "ax1.get_yaxis().set_major_formatter(\n",
    "    plt.matplotlib.ticker.FuncFormatter(lambda x, p: format(int(x), ',').replace(',','.'))\n",
    ")\n",
    "ax2.get_yaxis().set_major_formatter(\n",
    "    plt.matplotlib.ticker.FuncFormatter(lambda x, p: format(int(x), ',').replace(',','.'))\n",
    ")\n",
    "\n",
    "\n",
    "ax1.set_ylabel('Antal personer')\n",
    "ax2.set_ylabel('Potentielle smittetilfælde')\n",
    "\n",
    "\n",
    "\n",
    "plt.tight_layout()\n",
    "if saveFigures:\n",
    "    plt.savefig('figs/BefolkningModtagelige')"
   ]
  },
  {
   "cell_type": "code",
   "execution_count": 59,
   "metadata": {},
   "outputs": [
    {
     "output_type": "display_data",
     "data": {
      "text/plain": "Canvas(toolbar=Toolbar(toolitems=[('Home', 'Reset original view', 'home', 'home'), ('Back', 'Back to previous …",
      "application/vnd.jupyter.widget-view+json": {
       "version_major": 2,
       "version_minor": 0,
       "model_id": "ffd1965c4b9e4c68a4fb93dae505f747"
      }
     },
     "metadata": {}
    }
   ],
   "source": [
    "# Number of potential infections that will result in hospitalization\n",
    "fig,ax1 = plt.subplots(1,1,figsize=(16,8))\n",
    "\n",
    "xVals = np.arange(0,10)\n",
    "\n",
    "ratioHosp = np.multiply(finalEstimates,0.01)\n",
    "\n",
    "poteOneDose = np.multiply(missImmuFullCount,ratioHosp)\n",
    "poteNoDose = np.multiply(missImmuCount,ratioHosp)\n",
    "\n",
    "poteOneDoseTot = poteOneDose.sum()\n",
    "poteNoDoseTot = poteNoDose.sum()\n",
    "\n",
    "# ax1.bar(xVals,missImmuFullCount,width=curWidth,color='peru',label='Med første dosis')\n",
    "# ax1.bar(xVals,missImmuCount,width=curWidth,color='darkred',label='Uden første dosis')\n",
    "ax1.bar(xVals,poteOneDose,color='y',label=f'Modtaget første dosis \\nTotal: {poteOneDoseTot:,.0f}'.replace(',','.'))\n",
    "ax1.bar(xVals,poteNoDose,color='k',label=f'Uden første dosis \\nTotal: {poteNoDoseTot:,.0f}'.replace(',','.'))\n",
    "\n",
    "ax1.set_xticks(xVals)\n",
    "ax1.set_xticklabels(allCols[:-1])\n",
    "\n",
    "ax1.set_xlim([-0.5,9.5])\n",
    "\n",
    "\n",
    "# ax1.legend(loc='center left',bbox_to_anchor = (1.0, 0.5))\n",
    "ax1.legend()\n",
    "# Period as thousands separator\n",
    "ax1.get_yaxis().set_major_formatter(\n",
    "    plt.matplotlib.ticker.FuncFormatter(lambda x, p: format(int(x), ',').replace(',','.'))\n",
    ")\n",
    "\n",
    "\n",
    "ax1.set_ylabel('Potentielle hospitalindlæggelser')\n",
    "# ax2.set_ylabel('Potentielle smittetilfælde')\n",
    "\n",
    "\n",
    "\n",
    "plt.tight_layout()\n",
    "if saveFigures:\n",
    "    plt.savefig('figs/BefolkningHospitalisering')"
   ]
  },
  {
   "source": [
    "# Same as the two figures above, but for the winter threshold"
   ],
   "cell_type": "markdown",
   "metadata": {}
  },
  {
   "cell_type": "code",
   "execution_count": 56,
   "metadata": {},
   "outputs": [
    {
     "output_type": "display_data",
     "data": {
      "text/plain": "Canvas(toolbar=Toolbar(toolitems=[('Home', 'Reset original view', 'home', 'home'), ('Back', 'Back to previous …",
      "application/vnd.jupyter.widget-view+json": {
       "version_major": 2,
       "version_minor": 0,
       "model_id": "61cefd6996654c26ac838d45a99d42a0"
      }
     },
     "metadata": {}
    }
   ],
   "source": [
    "fig,(ax1,ax2) = plt.subplots(2,1,sharex=True)\n",
    "\n",
    "xVals = np.arange(0,10)\n",
    "\n",
    "curWidth = 0.75\n",
    "\n",
    "ax1.bar(xVals,DK_age,label='Modtagelige',color='mediumblue')\n",
    "# ax1.bar(range(0,10),np.multiply(herdImmuList,DK_age),edgecolor='k',label='Grænse for flokimmunitet')\n",
    "for k in range(0,10):\n",
    "    # ax1.plot([k-curWidth/2,k+curWidth/2],[herdCount[k],herdCount[k]],'k')\n",
    "    ax1.plot([k-curWidth/2,k+curWidth/2],[herdCount_winter[k],herdCount_winter[k]],'darkgrey')\n",
    "\n",
    "# Plot an extra, for legend label\n",
    "# ax1.plot([k-curWidth/2,k+curWidth/2],[herdCount[k],herdCount[k]],'k',label=f'Grænse for \\nflokimmunitet \\n(R0={R0:1.2f})')\n",
    "ax1.plot([k-curWidth/2,k+curWidth/2],[herdCount_winter[k],herdCount_winter[k]],'darkgrey',label=f'Grænse for \\nflokimmunitet \\n(R0={R0_winter:1.2f})')\n",
    "\n",
    "\n",
    "ax1.bar(xVals,missImmuCount_winter+allImmuCount,color='darkred',label='Potentielle \\nsmittetilfælde')\n",
    "ax1.bar(xVals,allImmuCount,color='m',label='Naturlig \\nimmunitet')\n",
    "ax1.bar(xVals,vaccCount,color='g',label='Vaccineret \\n(første dosis)')\n",
    "\n",
    "# ax1.bar(xVals,missImmuFullCount+allImmuFullCount,color='darkred',label='Potentielle smittetilfælde')\n",
    "# ax1.bar(xVals,allImmuFullCount,color='m',label='Naturlig immunitet')\n",
    "ax1.bar(xVals,vaccFullCount,color='xkcd:darkgreen',label='Vaccineret \\n(færdig)')\n",
    "\n",
    "\n",
    "# curWidth = 0.4\n",
    "# ax2.bar(xVals-curWidth/2,missImmuCount,width=curWidth,color='darkred',label='Ved immunitet efter først dosis')\n",
    "# ax2.bar(xVals+curWidth/2,missImmuFullCount,width=curWidth,color='red',label='Ved immunitet efter anden dosis')\n",
    "# ax2.bar(xVals,missImmuFullCount_winter,width=curWidth,color='peru',label='Med første dosis')\n",
    "# ax2.bar(xVals,missImmuCount_winter,width=curWidth,color='darkred',label='Uden første dosis')\n",
    "ax2.bar(xVals,missImmuFullCount_winter,width=curWidth,color='peru',label=f'Med første dosis \\nTotal: {fullMissImmu_winter:,.0f}'.replace(',','.'))\n",
    "ax2.bar(xVals,missImmuCount_winter,width=curWidth,color='darkred',label=f'Uden første dosis \\nTotal: {fullMissImmuFull_winter:,.0f}'.replace(',','.'))\n",
    "# ax2.bar(10,fullMissImmu,color='darkred')\n",
    "\n",
    "ax1.set_xticks(xVals)\n",
    "ax1.set_xticklabels(allCols[:-1])\n",
    "\n",
    "\n",
    "# curTicks = np.append(xVals,10)\n",
    "# curTickLabels = np.append(allCols[:-1],'Total')\n",
    "# ax1.set_xticks(curTicks)\n",
    "# ax1.set_xticklabels(curTickLabels)\n",
    "\n",
    "ax1.set_xlim([-0.5,9.5])\n",
    "\n",
    "\n",
    "# ax1.legend(loc='center left',bbox_to_anchor = (1.0, 0.5))\n",
    "# ax2.legend(loc='center left',bbox_to_anchor = (1.0, 0.5))\n",
    "ax1.legend(loc='upper right')\n",
    "ax2.legend()\n",
    "\n",
    "# Period as thousands separator\n",
    "ax1.get_yaxis().set_major_formatter(\n",
    "    plt.matplotlib.ticker.FuncFormatter(lambda x, p: format(int(x), ',').replace(',','.'))\n",
    ")\n",
    "ax2.get_yaxis().set_major_formatter(\n",
    "    plt.matplotlib.ticker.FuncFormatter(lambda x, p: format(int(x), ',').replace(',','.'))\n",
    ")\n",
    "\n",
    "\n",
    "ax1.set_ylabel('Antal personer')\n",
    "ax2.set_ylabel('Potentielle smittetilfælde')\n",
    "\n",
    "\n",
    "\n",
    "plt.tight_layout()\n",
    "if saveFigures:\n",
    "    plt.savefig('figs/BefolkningModtagelige_winter')"
   ]
  },
  {
   "cell_type": "code",
   "execution_count": 58,
   "metadata": {},
   "outputs": [
    {
     "output_type": "display_data",
     "data": {
      "text/plain": "Canvas(toolbar=Toolbar(toolitems=[('Home', 'Reset original view', 'home', 'home'), ('Back', 'Back to previous …",
      "application/vnd.jupyter.widget-view+json": {
       "version_major": 2,
       "version_minor": 0,
       "model_id": "950d449ad83943d0bb49ca24277988e8"
      }
     },
     "metadata": {}
    }
   ],
   "source": [
    "# Number of potential infections that will result in hospitalization\n",
    "fig,ax1 = plt.subplots(1,1,figsize=(16,8))\n",
    "\n",
    "xVals = np.arange(0,10)\n",
    "\n",
    "ratioHosp = np.multiply(finalEstimates,0.01)\n",
    "\n",
    "poteOneDose_winter = np.multiply(missImmuFullCount_winter,ratioHosp)\n",
    "poteNoDose_winter = np.multiply(missImmuCount_winter,ratioHosp)\n",
    "\n",
    "poteOneDoseTot_winter = poteOneDose_winter.sum()\n",
    "poteNoDoseTot_winter = poteNoDose_winter.sum()\n",
    "\n",
    "\n",
    "# ax1.bar(xVals,missImmuFullCount_winter,color='peru',label='Med første dosis')\n",
    "# ax1.bar(xVals,missImmuCount_winter,color='darkred',label='Uden første dosis')\n",
    "ax1.bar(xVals,poteOneDose_winter,color='y',label=f'Modtaget første dosis \\nTotal: {poteOneDoseTot_winter:,.0f}'.replace(',','.'))\n",
    "ax1.bar(xVals,poteNoDose_winter,color='k',label=f'Uden første dosis \\nTotal: {poteNoDoseTot_winter:,.0f}'.replace(',','.'))\n",
    "\n",
    "ax1.set_xticks(xVals)\n",
    "ax1.set_xticklabels(allCols[:-1])\n",
    "\n",
    "ax1.set_xlim([-0.5,9.5])\n",
    "\n",
    "\n",
    "# ax1.legend(loc='center left',bbox_to_anchor = (1.0, 0.5))\n",
    "ax1.legend()\n",
    "# Period as thousands separator\n",
    "ax1.get_yaxis().set_major_formatter(\n",
    "    plt.matplotlib.ticker.FuncFormatter(lambda x, p: format(int(x), ',').replace(',','.'))\n",
    ")\n",
    "\n",
    "ax1.set_ylabel('Potentielle hospitalindlæggelser')\n",
    "\n",
    "\n",
    "plt.tight_layout()\n",
    "if saveFigures:\n",
    "    plt.savefig('figs/BefolkningHospitalisering_winter')"
   ]
  },
  {
   "source": [
    "# Total antal indlæggelser indtil nu"
   ],
   "cell_type": "markdown",
   "metadata": {}
  },
  {
   "cell_type": "code",
   "execution_count": 66,
   "metadata": {},
   "outputs": [
    {
     "output_type": "execute_result",
     "data": {
      "text/plain": [
       "Aldersgruppe  0-9 10-19 20-29 30-39 40-49 50-59 60-69 70-79 80-89  90+  I alt\n",
       "06_04_2021    181   180   574   873  1301  2061  2140  3064  2506  693  13573\n",
       "13_04_2021    182   185   593   899  1336  2112  2170  3099  2519  695  13790\n",
       "20_04_2021    191   189   616   931  1373  2156  2209  3142  2531  697  14035\n",
       "27_04_2021    196   194   634   961  1405  2202  2243  3166  2540  699  14240\n",
       "04_05_2021    197   199   647   993  1440  2252  2283  3190  2547  702  14450"
      ],
      "text/html": "<div>\n<style scoped>\n    .dataframe tbody tr th:only-of-type {\n        vertical-align: middle;\n    }\n\n    .dataframe tbody tr th {\n        vertical-align: top;\n    }\n\n    .dataframe thead th {\n        text-align: right;\n    }\n</style>\n<table border=\"1\" class=\"dataframe\">\n  <thead>\n    <tr style=\"text-align: right;\">\n      <th>Aldersgruppe</th>\n      <th>0-9</th>\n      <th>10-19</th>\n      <th>20-29</th>\n      <th>30-39</th>\n      <th>40-49</th>\n      <th>50-59</th>\n      <th>60-69</th>\n      <th>70-79</th>\n      <th>80-89</th>\n      <th>90+</th>\n      <th>I alt</th>\n    </tr>\n  </thead>\n  <tbody>\n    <tr>\n      <th>06_04_2021</th>\n      <td>181</td>\n      <td>180</td>\n      <td>574</td>\n      <td>873</td>\n      <td>1301</td>\n      <td>2061</td>\n      <td>2140</td>\n      <td>3064</td>\n      <td>2506</td>\n      <td>693</td>\n      <td>13573</td>\n    </tr>\n    <tr>\n      <th>13_04_2021</th>\n      <td>182</td>\n      <td>185</td>\n      <td>593</td>\n      <td>899</td>\n      <td>1336</td>\n      <td>2112</td>\n      <td>2170</td>\n      <td>3099</td>\n      <td>2519</td>\n      <td>695</td>\n      <td>13790</td>\n    </tr>\n    <tr>\n      <th>20_04_2021</th>\n      <td>191</td>\n      <td>189</td>\n      <td>616</td>\n      <td>931</td>\n      <td>1373</td>\n      <td>2156</td>\n      <td>2209</td>\n      <td>3142</td>\n      <td>2531</td>\n      <td>697</td>\n      <td>14035</td>\n    </tr>\n    <tr>\n      <th>27_04_2021</th>\n      <td>196</td>\n      <td>194</td>\n      <td>634</td>\n      <td>961</td>\n      <td>1405</td>\n      <td>2202</td>\n      <td>2243</td>\n      <td>3166</td>\n      <td>2540</td>\n      <td>699</td>\n      <td>14240</td>\n    </tr>\n    <tr>\n      <th>04_05_2021</th>\n      <td>197</td>\n      <td>199</td>\n      <td>647</td>\n      <td>993</td>\n      <td>1440</td>\n      <td>2252</td>\n      <td>2283</td>\n      <td>3190</td>\n      <td>2547</td>\n      <td>702</td>\n      <td>14450</td>\n    </tr>\n  </tbody>\n</table>\n</div>"
     },
     "metadata": {},
     "execution_count": 66
    }
   ],
   "source": [
    "dfAdm.tail()"
   ]
  },
  {
   "cell_type": "code",
   "execution_count": 80,
   "metadata": {},
   "outputs": [
    {
     "output_type": "display_data",
     "data": {
      "text/plain": "Canvas(toolbar=Toolbar(toolitems=[('Home', 'Reset original view', 'home', 'home'), ('Back', 'Back to previous …",
      "application/vnd.jupyter.widget-view+json": {
       "version_major": 2,
       "version_minor": 0,
       "model_id": "77a6bdd255b24e71aa1ae161a5613aa5"
      }
     },
     "metadata": {}
    }
   ],
   "source": [
    "# Number of potential infections that will result in hospitalization\n",
    "fig,ax1 = plt.subplots(1,1,figsize=(16,8))\n",
    "\n",
    "xVals = np.arange(0,10)\n",
    "\n",
    "ratioHosp = np.multiply(finalEstimates,0.01)\n",
    "\n",
    "poteOneDose = np.multiply(missImmuFullCount,ratioHosp)\n",
    "poteNoDose = np.multiply(missImmuCount,ratioHosp)\n",
    "\n",
    "poteOneDoseTot = poteOneDose.sum()\n",
    "poteNoDoseTot = poteNoDose.sum()\n",
    "\n",
    "# ax1.bar(xVals,missImmuFullCount,width=curWidth,color='peru',label='Med første dosis')\n",
    "# ax1.bar(xVals,missImmuCount,width=curWidth,color='darkred',label='Uden første dosis')\n",
    "\n",
    "curWidth = 0.3\n",
    "ax1.bar(xVals,poteOneDose,width=curWidth,color='y',label=f'Modtaget første dosis \\nTotal: {poteOneDoseTot:,.0f}'.replace(',','.'))\n",
    "ax1.bar(xVals+curWidth,poteNoDose,width=curWidth,color='k',label=f'Uden første dosis \\nTotal: {poteNoDoseTot:,.0f}'.replace(',','.'))\n",
    "\n",
    "admSoFar = dfAdm.iloc[-1,:-1]\n",
    "admSoFarTotal = admSoFar.sum()\n",
    "curDateToShow = curDates[-1].strftime('%d. %b')\n",
    "ax1.bar(xVals-curWidth,admSoFar,width=curWidth,color='darkblue',label=f'Sum af indlæggelser per {curDateToShow}\\nTotal: {admSoFarTotal:,.0f}'.replace(',','.'))\n",
    "\n",
    "ax1.set_xticks(xVals)\n",
    "ax1.set_xticklabels(allCols[:-1])\n",
    "\n",
    "ax1.set_xlim([-0.5,9.5])\n",
    "\n",
    "\n",
    "# ax1.legend(loc='center left',bbox_to_anchor = (1.0, 0.5))\n",
    "ax1.legend()\n",
    "# Period as thousands separator\n",
    "ax1.get_yaxis().set_major_formatter(\n",
    "    plt.matplotlib.ticker.FuncFormatter(lambda x, p: format(int(x), ',').replace(',','.'))\n",
    ")\n",
    "\n",
    "\n",
    "ax1.set_ylabel('Potentielle hospitalindlæggelser')\n",
    "# ax2.set_ylabel('Potentielle smittetilfælde')\n",
    "\n",
    "\n",
    "\n",
    "plt.tight_layout()\n",
    "if saveFigures:\n",
    "    plt.savefig('figs/BefolkningHospitalisering_MedFaktiskeTal')"
   ]
  },
  {
   "cell_type": "code",
   "execution_count": 124,
   "metadata": {},
   "outputs": [
    {
     "output_type": "display_data",
     "data": {
      "text/plain": "Canvas(toolbar=Toolbar(toolitems=[('Home', 'Reset original view', 'home', 'home'), ('Back', 'Back to previous …",
      "application/vnd.jupyter.widget-view+json": {
       "version_major": 2,
       "version_minor": 0,
       "model_id": "bf0f0bcf803349f1b77cf6990f9284b1"
      }
     },
     "metadata": {}
    }
   ],
   "source": [
    "# Positiv vinkel: Hvor mange smittede/indlæggelser ville ren flokimmunitet have krævet, og hvor mange har vi undgået takket være vaccination (og nedlukning mens vi ventede på vaccinerne)\n",
    "fig,(ax1,ax2) = plt.subplots(2,1,sharex=True)\n",
    "\n",
    "totAdmission = np.multiply(herdCount,ratioHosp)\n",
    "totCase = dfCase.iloc[-1,:-1]\n",
    "\n",
    "curWidth = 0.4\n",
    "\n",
    "ax1.bar(xVals-curWidth/2,herdCount,width=curWidth,color='k',label='Smittetilfælde for flokimmunitet')\n",
    "ax1.bar(xVals-curWidth/2,totAdmission,width=curWidth,color='m',label='Heraf indlæggelser')\n",
    "ax1.bar(xVals+curWidth/2,herdCount,width=curWidth,color='grey',label='Potentielle smittetilfælde')\n",
    "ax1.bar(xVals+curWidth/2,vaccCount,width=curWidth,color='green',label='Vaccinerede (første dosis)')\n",
    "ax1.bar(xVals+curWidth/2,vaccFullCount,width=curWidth,color='darkgreen',label='Vaccinerede (færdig)')\n",
    "ax1.bar(xVals+curWidth/2,totCase,width=curWidth,color='darkred',label='Smittetilfælde, faktiske')\n",
    "ax1.bar(xVals+curWidth/2,admSoFar,width=curWidth,color='darkblue',label='Heraf indlæggelser, faktiske')\n",
    "#,label=f'Sum af indlæggelser per {curDateToShow}\\nTotal: {admSoFarTotal:,.0f}'.replace(',','.'))\n",
    "# ax2.bar(xVals,herdRatio)\n",
    "\n",
    "ax2.bar(xVals-curWidth/2,np.divide(herdCount,herdCount),width=curWidth,color='k',label='Smittetilfælde, flokimmunitet')\n",
    "ax2.bar(xVals-curWidth/2,np.divide(totAdmission,herdCount),width=curWidth,color='m',label='Heraf indlæggelser, flokimmunitet')\n",
    "ax2.bar(xVals+curWidth/2,np.divide(herdCount,herdCount),width=curWidth,color='grey',label='Potentielle smittetilfælde')\n",
    "ax2.bar(xVals+curWidth/2,np.divide(vaccCount,herdCount),width=curWidth,color='green',label='Vaccinerede (første dosis)')\n",
    "ax2.bar(xVals+curWidth/2,np.divide(vaccFullCount,herdCount),width=curWidth,color='darkgreen',label='Vaccinerede (færdig)')\n",
    "ax2.bar(xVals+curWidth/2,np.divide(totCase,herdCount),width=curWidth,color='darkred',label='Smittetilfælde, faktiske')\n",
    "ax2.bar(xVals+curWidth/2,np.divide(admSoFar,herdCount),width=curWidth,color='darkblue',label='Heraf indlæggelser, faktiske')\n",
    "\n",
    "# ax1.set_xlim([-0.5,9.5])\n",
    "\n",
    "ax2.set_ylim([0,1])\n",
    "\n",
    "ax1.legend(loc='center left',bbox_to_anchor = (1.0, 0.5))\n",
    "ax2.legend(loc='center left',bbox_to_anchor = (1.0, 0.5))\n",
    "# ax1.legend(loc='upper right')\n",
    "# ax2.legend()\n",
    "\n",
    "ax1.set_xticks(xVals)\n",
    "ax1.set_xticklabels(allCols[:-1])\n",
    "\n",
    "\n",
    "# Period as thousands separator\n",
    "ax1.get_yaxis().set_major_formatter(\n",
    "    plt.matplotlib.ticker.FuncFormatter(lambda x, p: format(int(x), ',').replace(',','.'))\n",
    ")\n",
    "# ax2.get_yaxis().set_major_formatter(\n",
    "#     plt.matplotlib.ticker.FuncFormatter(lambda x, p: format(int(x), ',').replace(',','.'))\n",
    "# )\n",
    "\n",
    "\n",
    "# ax1.set_ylabel('Antal personer')\n",
    "# ax2.set_ylabel('Potentielle smittetilfælde')\n",
    "\n",
    "plt.tight_layout()\n",
    "# if saveFigures:\n",
    "#     plt.savefig('figs/BefolkningModtagelige')"
   ]
  },
  {
   "cell_type": "code",
   "execution_count": 176,
   "metadata": {},
   "outputs": [
    {
     "output_type": "display_data",
     "data": {
      "text/plain": "Canvas(toolbar=Toolbar(toolitems=[('Home', 'Reset original view', 'home', 'home'), ('Back', 'Back to previous …",
      "application/vnd.jupyter.widget-view+json": {
       "version_major": 2,
       "version_minor": 0,
       "model_id": "286b93645aba4739be88a1985e5a48d4"
      }
     },
     "metadata": {}
    }
   ],
   "source": [
    "# Positiv vinkel: Hvor mange smittede/indlæggelser ville ren flokimmunitet have krævet, og hvor mange har vi undgået takket være vaccination (og nedlukning mens vi ventede på vaccinerne)\n",
    "fig,(ax1,ax2) = plt.subplots(2,1,sharex=True)\n",
    "\n",
    "totAdmission = np.multiply(herdCount,ratioHosp)\n",
    "totCase = dfCase.iloc[-1,:-1]\n",
    "\n",
    "curWidth = 0.4\n",
    "\n",
    "# ax1.bar(xVals,missImmuCount+allImmuCount,color='darkred',label='Potentielle \\nsmittetilfælde')\n",
    "# ax1.bar(xVals,allImmuCount,color='m',label='Naturlig \\nimmunitet')\n",
    "# ax1.bar(xVals,vaccCount,color='g',label='Vaccineret \\n(første dosis)')\n",
    "# ax1.bar(xVals,vaccFullCount,color='xkcd:darkgreen',label='Vaccineret \\n(færdig)')\n",
    "\n",
    "\n",
    "ax1.bar(xVals-curWidth/2,herdCount,width=curWidth,color='k',label='Smittetilfælde, flokimmunitet')\n",
    "# ax1.bar(xVals-curWidth/2,totAdmission,width=curWidth,color='r',label='Heraf indlæggelser')\n",
    "ax1.bar(xVals-curWidth/2,immuCount,width=curWidth,color='m',label='Smittetilfælde, fra bloddonor')\n",
    "ax1.bar(xVals-curWidth/2,totCase,width=curWidth,color='darkred',label='Smittetilfælde, bekræftede')\n",
    "ax1.bar(xVals+curWidth/2,herdCount,width=curWidth,color='grey',label='Potentielle smittetilfælde',zorder=-1)\n",
    "ax1.bar(xVals+curWidth/2,allImmuCount,width=curWidth,color='darkblue',label='Naturlig immunitet')\n",
    "ax1.bar(xVals+curWidth/2,vaccCount,width=curWidth,color='green',label='Vaccinerede (første dosis)')\n",
    "ax1.bar(xVals+curWidth/2,vaccFullCount,width=curWidth,color='darkgreen',label='Vaccinerede (færdig)')\n",
    "# ax1.bar(xVals+curWidth/2,admSoFar,width=curWidth,color='darkblue',label='Indlæggelser, faktiske')\n",
    "\n",
    "# ax1.bar(xVals-curWidth/2,totAdmission,width=curWidth,color='m',label='Heraf indlæggelser')\n",
    "# ax1.bar(xVals+curWidth/2,herdCount,width=curWidth,color='grey',label='Potentielle smittetilfælde')\n",
    "# ax1.bar(xVals+curWidth/2,vaccCount,width=curWidth,color='green',label='Vaccinerede (første dosis)')\n",
    "# ax1.bar(xVals+curWidth/2,vaccFullCount,width=curWidth,color='darkgreen',label='Vaccinerede (færdig)')\n",
    "# ax1.bar(xVals+curWidth/2,admSoFar,width=curWidth,color='darkblue',label='Heraf indlæggelser, faktiske')\n",
    "#,label=f'Sum af indlæggelser per {curDateToShow}\\nTotal: {admSoFarTotal:,.0f}'.replace(',','.'))\n",
    "# ax2.bar(xVals,herdRatio)\n",
    "\n",
    "\n",
    "ax2.bar(xVals-curWidth/2,100 * np.divide(herdCount,herdCount),width=curWidth,color='k',label='Smittetilfælde, flokimmunitet')\n",
    "ax2.bar(xVals-curWidth/2,100 * np.divide(immuCount,herdCount),width=curWidth,color='m',label='Smittetilfælde, fra bloddonor')\n",
    "ax2.bar(xVals-curWidth/2,100 * np.divide(totCase,herdCount),width=curWidth,color='darkred',label='Smittetilfælde, bekræftede')\n",
    "ax2.bar(xVals+curWidth/2,100 * np.divide(herdCount,herdCount),width=curWidth,color='grey',label='Potentielle smittetilfælde',zorder=-1)\n",
    "ax2.bar(xVals+curWidth/2,100 * np.divide(allImmuCount,herdCount),width=curWidth,color='darkblue',label='Naturlig immunitet')\n",
    "ax2.bar(xVals+curWidth/2,100 * np.divide(vaccCount,herdCount),width=curWidth,color='green',label='Vaccinerede (første dosis)')\n",
    "ax2.bar(xVals+curWidth/2,100 * np.divide(vaccFullCount,herdCount),width=curWidth,color='darkgreen',label='Vaccinerede (færdig)')\n",
    "\n",
    "# ax2.bar(xVals-curWidth/2,np.divide(herdCount,herdCount),width=curWidth,color='k',label='Smittetilfælde, flokimmunitet')\n",
    "# ax2.bar(xVals-curWidth/2,np.divide(totCase,herdCount),width=curWidth,color='darkred',label='Smittetilfælde, faktiske')\n",
    "# # ax2.bar(xVals-curWidth/2,np.divide(totAdmission,herdCount),width=curWidth,color='m',label='Heraf indlæggelser, flokimmunitet')\n",
    "# ax2.bar(xVals+curWidth/2,np.divide(herdCount,herdCount),width=curWidth,color='grey',label='Potentielle smittetilfælde')\n",
    "# ax2.bar(xVals+curWidth/2,np.divide(vaccCount,herdCount),width=curWidth,color='green',label='Vaccinerede (første dosis)')\n",
    "# ax2.bar(xVals+curWidth/2,np.divide(vaccFullCount,herdCount),width=curWidth,color='darkgreen',label='Vaccinerede (færdig)')\n",
    "# # ax2.bar(xVals+curWidth/2,np.divide(admSoFar,herdCount),width=curWidth,color='darkblue',label='Heraf indlæggelser, faktiske')\n",
    "\n",
    "# ax1.set_xlim([-0.5,9.5])\n",
    "\n",
    "ax2.set_ylim([0,100])\n",
    "\n",
    "ax1.legend(loc='center left',bbox_to_anchor = (1.0, 0.5))\n",
    "ax2.legend(loc='center left',bbox_to_anchor = (1.0, 0.5))\n",
    "# ax1.legend(loc='upper right')\n",
    "# ax2.legend()\n",
    "\n",
    "ax1.set_xticks(xVals)\n",
    "ax1.set_xticklabels(allCols[:-1])\n",
    "\n",
    "\n",
    "# Period as thousands separator\n",
    "ax1.get_yaxis().set_major_formatter(\n",
    "    plt.matplotlib.ticker.FuncFormatter(lambda x, p: format(int(x), ',').replace(',','.'))\n",
    ")\n",
    "# ax2.get_yaxis().set_major_formatter(\n",
    "#     plt.matplotlib.ticker.FuncFormatter(lambda x, p: format(int(x), ',').replace(',','.'))\n",
    "# )\n",
    "\n",
    "\n",
    "ax1.set_ylabel('Antal personer')\n",
    "ax2.set_ylabel('Ud af smittetilfælde \\nforventet for flokimmunitet [%]')\n",
    "\n",
    "plt.tight_layout()\n",
    "if saveFigures:\n",
    "    plt.savefig('figs/BefolkningAvoidedCases')"
   ]
  },
  {
   "cell_type": "code",
   "execution_count": 177,
   "metadata": {},
   "outputs": [
    {
     "output_type": "display_data",
     "data": {
      "text/plain": "Canvas(toolbar=Toolbar(toolitems=[('Home', 'Reset original view', 'home', 'home'), ('Back', 'Back to previous …",
      "application/vnd.jupyter.widget-view+json": {
       "version_major": 2,
       "version_minor": 0,
       "model_id": "108b5a3c00794b02af272ceb3c98413d"
      }
     },
     "metadata": {}
    }
   ],
   "source": [
    "# Positiv vinkel: Hvor mange indlæggelser ville ren flokimmunitet have krævet, og hvor mange har vi undgået takket være vaccination (og nedlukning mens vi ventede på vaccinerne)\n",
    "fig,(ax1,ax2) = plt.subplots(2,1,sharex=True)\n",
    "\n",
    "totAdmission = np.multiply(herdCount,ratioHosp)\n",
    "totCase = dfCase.iloc[-1,:-1]\n",
    "\n",
    "admAvoid = np.multiply(allImmuCount,ratioHosp)\n",
    "admLeft = totAdmission - admAvoid\n",
    "\n",
    "curWidth = 0.4\n",
    "\n",
    "\n",
    "ax1.bar(xVals-curWidth/2,totAdmission,width=curWidth,color='k',label='Indlæggelser, flokimmunitet')\n",
    "ax1.bar(xVals-curWidth/2,admSoFar,width=curWidth,color='darkred',label='Indlæggelser, faktiske')\n",
    "ax1.bar(xVals+curWidth/2,np.multiply(allImmuCount,ratioHosp),width=curWidth,color='darkblue',label='Naturlig immunitet')\n",
    "ax1.bar(xVals+curWidth/2,np.multiply(vaccCount,ratioHosp),width=curWidth,color='green',label='Vaccinerede (første dosis)')\n",
    "ax1.bar(xVals+curWidth/2,np.multiply(vaccFullCount,ratioHosp),width=curWidth,color='darkgreen',label='Vaccinerede (færdig)')\n",
    "ax1.bar(xVals+curWidth/2,totAdmission,width=curWidth,color='grey',label='Potentielle indlæggelser',zorder=-1)\n",
    "\n",
    "\n",
    "ax2.bar(xVals-curWidth/2,100 * np.divide(totAdmission,totAdmission),width=curWidth,color='k',label='Indlæggelser, flokimmunitet')\n",
    "ax2.bar(xVals-curWidth/2,100 * np.divide(admSoFar,totAdmission),width=curWidth,color='darkred',label='Indlæggelser, faktiske')\n",
    "ax2.bar(xVals+curWidth/2,100 * np.divide(np.multiply(allImmuCount,ratioHosp),totAdmission),width=curWidth,color='darkblue',label='Naturlig immunitet')\n",
    "ax2.bar(xVals+curWidth/2,100 * np.divide(np.multiply(vaccCount,ratioHosp),totAdmission),width=curWidth,color='green',label='Vaccinerede (første dosis)')\n",
    "ax2.bar(xVals+curWidth/2,100 * np.divide(np.multiply(vaccFullCount,ratioHosp),totAdmission),width=curWidth,color='darkgreen',label='Vaccinerede (færdig)')\n",
    "ax2.bar(xVals+curWidth/2,100 * np.divide(totAdmission,totAdmission),width=curWidth,color='grey',label='Potentielle indlæggelser',zorder=-1)\n",
    "\n",
    "\n",
    "\n",
    "ax1.set_ylim(top=max(totAdmission)*1.1)\n",
    "ax2.set_ylim([0,100])\n",
    "\n",
    "ax1.legend(loc='center left',bbox_to_anchor = (1.0, 0.5))\n",
    "ax2.legend(loc='center left',bbox_to_anchor = (1.0, 0.5))\n",
    "\n",
    "ax1.set_xticks(xVals)\n",
    "ax1.set_xticklabels(allCols[:-1])\n",
    "\n",
    "\n",
    "# Period as thousands separator\n",
    "ax1.get_yaxis().set_major_formatter(\n",
    "    plt.matplotlib.ticker.FuncFormatter(lambda x, p: format(int(x), ',').replace(',','.'))\n",
    ")\n",
    "\n",
    "\n",
    "ax1.set_ylabel('Antal personer')\n",
    "ax2.set_ylabel('Ud af indlæggelser \\nforventet for flokimmunitet [%]')\n",
    "\n",
    "plt.tight_layout()\n",
    "if saveFigures:\n",
    "    plt.savefig('figs/BefolkningAvoidedAdmissions')"
   ]
  },
  {
   "source": [
    "# OLD"
   ],
   "cell_type": "markdown",
   "metadata": {}
  },
  {
   "cell_type": "code",
   "execution_count": 28,
   "metadata": {},
   "outputs": [],
   "source": [
    "# ratioVacc = np.divide(doneVacc,DK_age)\n",
    "\n",
    "# allImmuRate = 0.08 # Assuming same natural immunity rate for everyone\n",
    "# ratioImmu = allImmuRate * np.ones(DK_age.shape)\n",
    "# # Seroprevalence, bloddonerer, uge 16:\n",
    "# # 17-29: 9,6%\n",
    "# # 30-49: 6,3%\n",
    "# # 50-69: 5,0%\n",
    "# # I alt: 6,7%\n",
    "# imm0_29 = 0.1\n",
    "# imm30_49 = 0.075\n",
    "# imm50_69 = 0.06\n",
    "# ratioImmu = [imm0_29,imm0_29,imm0_29,imm30_49,imm30_49,imm50_69,imm50_69,imm50_69,imm50_69,imm50_69]\n",
    "\n",
    "# # R0 = 2.5\n",
    "# R0 = 2.5 * 1.5\n",
    "# # R0 = 1.7\n",
    "# herdImmunityThreshold = 1-(1/R0)\n",
    "# herdImmuList = herdImmunityThreshold * np.ones(DK_age.shape)\n",
    "\n",
    "# curImmu = ratioVacc + ratioImmu - np.multiply(ratioVacc,ratioImmu)\n",
    "\n",
    "# missingToInfectRatio = herdImmuList - curImmu \n",
    "# # - ratioVacc - ratioImmu + np.multiply(ratioVacc,ratioImmu)\n",
    "\n",
    "# print(ratioVacc)\n",
    "# print(ratioImmu)\n",
    "# print(herdImmuList)\n",
    "# print(missingToInfectRatio)\n",
    "\n",
    "# # If below zero, set to zero\n",
    "# missingToInfectRatio[missingToInfectRatio < 0] = 0\n",
    "\n",
    "# print(missingToInfectRatio)\n",
    "\n",
    "# missingToInfectCount = np.multiply(missingToInfectRatio,DK_age)\n",
    "# # print(missingToInfectCount)\n"
   ]
  },
  {
   "cell_type": "code",
   "execution_count": 29,
   "metadata": {},
   "outputs": [],
   "source": [
    "# np.multiply(herdImmuList,DK_age)"
   ]
  },
  {
   "cell_type": "code",
   "execution_count": 30,
   "metadata": {},
   "outputs": [],
   "source": [
    "\n",
    "# fig,(ax1,ax2) = plt.subplots(2,1,sharex=True)\n",
    "\n",
    "# curWidth = 0.7\n",
    "\n",
    "# ax1.bar(range(0,10),DK_age,label='Modtagelige',color='b')\n",
    "# # ax1.bar(range(0,10),missingToInfectCount)\n",
    "# # ax1.bar(range(0,10),np.multiply(herdImmuList,DK_age),label='Grænse for flokimmunitet')\n",
    "# ax1.bar(range(0,10),np.multiply(herdImmuList,DK_age),edgecolor='k',label='Grænse for flokimmunitet')\n",
    "# for k in range(0,10):\n",
    "#     ax1.plot(k+[-curWidth,curWidth],[np.multiply(herdImmuList,DK_age)[k],np.multiply(herdImmuList,DK_age)[k]],'k')\n",
    "\n",
    "# # ax1.bar(range(0,10),doneVacc+np.multiply(ratioImmu,DK_age))\n",
    "# # ax1.bar(range(0,10),np.multiply(ratioImmu,DK_age))\n",
    "# ax1.bar(range(0,10),np.multiply(curImmu,DK_age),color='m',label='Naturlig immunitet')\n",
    "# ax1.bar(range(0,10),doneVacc,color='g',label='Vaccineret')\n",
    "\n",
    "# ax2.bar(range(0,10),np.ones(DK_age.shape),color='b',label='Modtagelige')\n",
    "# # ax2.bar(range(0,10),herdImmuList)\n",
    "# ax2.plot([0,10],herdImmunityThreshold*np.ones((2,)),'k',label='Grænse for flokimmunitet')\n",
    "# ax2.bar(range(0,10),curImmu,label='Naturlig immunitet')\n",
    "# ax2.bar(range(0,10),ratioVacc,label='Vaccineret')\n",
    "\n",
    "# ax1.legend()\n",
    "# ax2.legend()\n",
    "# plt.tight_layout()"
   ]
  },
  {
   "cell_type": "code",
   "execution_count": null,
   "metadata": {},
   "outputs": [],
   "source": []
  }
 ]
}