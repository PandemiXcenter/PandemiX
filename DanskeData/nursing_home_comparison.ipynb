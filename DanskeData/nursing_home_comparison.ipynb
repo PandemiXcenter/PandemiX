{
 "metadata": {
  "language_info": {
   "codemirror_mode": {
    "name": "ipython",
    "version": 3
   },
   "file_extension": ".py",
   "mimetype": "text/x-python",
   "name": "python",
   "nbconvert_exporter": "python",
   "pygments_lexer": "ipython3",
   "version": "3.8.5"
  },
  "orig_nbformat": 2,
  "kernelspec": {
   "name": "python385jvsc74a57bd0c72cdf52cb3d31f207bca538e9396da8706c0ecf4a3038fb1c2b317934170431",
   "display_name": "Python 3.8.5 64-bit ('main': conda)"
  }
 },
 "nbformat": 4,
 "nbformat_minor": 2,
 "cells": [
  {
   "cell_type": "code",
   "execution_count": 1,
   "metadata": {},
   "outputs": [
    {
     "output_type": "stream",
     "name": "stdout",
     "text": [
      "saveFigures is set to: True\nDone loading packages\n"
     ]
    }
   ],
   "source": [
    "# Main notebook for looking at the nursing home data, and comparing it to the rest of the country\n",
    "import numpy as np\n",
    "import pandas as pd\n",
    "pd.set_option('display.max_rows', 500)\n",
    "pd.set_option('display.min_rows', 50)\n",
    "import seaborn as sns\n",
    "\n",
    "\n",
    "import matplotlib.pyplot as plt\n",
    "%matplotlib widget\n",
    "plt.rcParams['figure.figsize'] = (12,8)\n",
    "# plt.rcParams[\"image.cmap\"] = \"Dark2\"\n",
    "# plt.rcParams['axes.prop_cycle'] = plt.cycler(color=plt.cm.Dark2.colors)\n",
    "plt.rcParams[\"image.cmap\"] = \"tab10\"\n",
    "plt.rcParams['axes.prop_cycle'] = plt.cycler(color=plt.cm.tab10.colors)\n",
    "plt.rcParams['lines.markersize'] = 10\n",
    "plt.rcParams['lines.linewidth'] = 3\n",
    "%matplotlib widget\n",
    "# plt.style.use('ggplot')\n",
    "import matplotlib.colors as colors\n",
    "# cmap = plt.cm.get_cmap('Dark2',len(ageGroups))\n",
    "from matplotlib import cm # Colormaps\n",
    "\n",
    "import locale\n",
    "import matplotlib.dates as mdates\n",
    "locale.setlocale(locale.LC_TIME,\"Danish\")\n",
    "# ax = plt.gca()\n",
    "# ax1.xaxis.set_major_formatter(mdates.DateFormatter('%b\\n%Y'))\n",
    "# # ax.xaxis.set_major_formatter(mdates.DateFormatter('%Y \\n %B'))\n",
    "\n",
    "import os\n",
    "# import csv\n",
    "import math\n",
    "\n",
    "\n",
    "from datetime import date\n",
    "\n",
    "\n",
    "saveFigures = True\n",
    "# saveFigures = False\n",
    "print('saveFigures is set to: '+str(saveFigures))\n",
    "\n",
    "print('Done loading packages')\n",
    "\n",
    "def rnMean(data,meanWidth):\n",
    "    return np.convolve(data, np.ones(meanWidth)/meanWidth, mode='valid')\n",
    "def rnTime(t,meanWidth):\n",
    "    return t[math.floor(meanWidth/2):-math.ceil(meanWidth/2)+1]\n"
   ]
  },
  {
   "cell_type": "code",
   "execution_count": 7,
   "metadata": {},
   "outputs": [
    {
     "output_type": "stream",
     "name": "stdout",
     "text": [
      "c:\\Users\\rakrpe\\Documents\\PandemiX\\GithubRepos\\PandemiX\\DanskeData/ssi_data\\SSI_data_2021-05-06\n2021-05-06 00:00:00\nc:\\Users\\rakrpe\\Documents\\PandemiX\\GithubRepos\\PandemiX\\DanskeData/ssi_data\\SSI_data_2021-05-04\n2021-05-04 00:00:00\n"
     ]
    }
   ],
   "source": [
    "ssidatapath = \"ssi_data\"\n",
    "rootdir = os.getcwd() +\"/\" + ssidatapath\n",
    "\n",
    "\n",
    "for subdir, dirs, files in os.walk(rootdir):\n",
    "    if not len(files) == 0:\n",
    "        latestdir = subdir\n",
    "        latestDate = pd.to_datetime(subdir[-10:])\n",
    "\n",
    "print(latestdir)\n",
    "print(latestDate)\n",
    "# Last time data was included:\n",
    "latestdir = rootdir + '\\SSI_data_2021-05-04'\n",
    "latestDate = pd.to_datetime(latestdir[-10:])\n",
    "print(latestdir)\n",
    "print(latestDate)"
   ]
  },
  {
   "cell_type": "code",
   "execution_count": 8,
   "metadata": {},
   "outputs": [],
   "source": [
    "dfPle = pd.read_csv(latestdir+'/plejehjem_ugeoversigt.csv',delimiter = ';',dtype=str)\n",
    "dfPle = dfPle.iloc[:-1] # Remove sum in last row\n",
    "for name in dfPle.columns:\n",
    "    dfPle[name] = pd.to_numeric(dfPle[name].astype(str).apply(lambda x: x.replace('.','')))"
   ]
  },
  {
   "cell_type": "code",
   "execution_count": null,
   "metadata": {},
   "outputs": [],
   "source": [
    "dfPle.tail()"
   ]
  },
  {
   "cell_type": "code",
   "execution_count": 5,
   "metadata": {},
   "outputs": [],
   "source": [
    "from datetime import date\n",
    "# date.fromisocalendar(2020,53,1)\n",
    "\n",
    "datesPle = []\n",
    "for k in range(0,len(dfPle)):\n",
    "    newDate = date.fromisocalendar(dfPle['År'].iloc[k],dfPle['Uge'].iloc[k],1)\n",
    "    datesPle.append(np.datetime64(newDate))"
   ]
  },
  {
   "cell_type": "code",
   "execution_count": 6,
   "metadata": {},
   "outputs": [
    {
     "output_type": "display_data",
     "data": {
      "text/plain": "Canvas(toolbar=Toolbar(toolitems=[('Home', 'Reset original view', 'home', 'home'), ('Back', 'Back to previous …",
      "application/vnd.jupyter.widget-view+json": {
       "version_major": 2,
       "version_minor": 0,
       "model_id": "79e28cf762f746e583eaaefcc53aebcd"
      }
     },
     "metadata": {}
    }
   ],
   "source": [
    "plt.figure()\n",
    "plt.plot(datesPle,dfPle['Dødsfald blandt bekæftede beboere'])\n",
    "plt.show()"
   ]
  },
  {
   "cell_type": "code",
   "execution_count": 7,
   "metadata": {},
   "outputs": [],
   "source": [
    "dfDeaths = pd.read_excel('DeathsAgeDK\\Deaths.xlsx')\n",
    "dfDeaths = dfDeaths.transpose()\n",
    "dfDeaths.columns = dfDeaths.iloc[0]\n",
    "dfDeaths = dfDeaths.drop(['Aldersgruppe']) \n",
    "curDates =  pd.to_datetime(dfDeaths.index,format='%d_%m_%Y')"
   ]
  },
  {
   "cell_type": "code",
   "execution_count": 8,
   "metadata": {},
   "outputs": [],
   "source": [
    "plotDates = curDates[1:]\n",
    "dfDeaDiff = dfDeaths.diff().iloc[1:]"
   ]
  },
  {
   "cell_type": "code",
   "execution_count": 9,
   "metadata": {},
   "outputs": [
    {
     "output_type": "display_data",
     "data": {
      "text/plain": "Canvas(toolbar=Toolbar(toolitems=[('Home', 'Reset original view', 'home', 'home'), ('Back', 'Back to previous …",
      "application/vnd.jupyter.widget-view+json": {
       "version_major": 2,
       "version_minor": 0,
       "model_id": "8b44ef07eccb459aab78b782bd6ec6b7"
      }
     },
     "metadata": {}
    }
   ],
   "source": [
    "fig,allAxes = plt.subplots(3,1,sharex=True)\n",
    "\n",
    "allAxes[0].plot(datesPle,dfPle['Dødsfald blandt bekæftede beboere'],'k.-',label='Plejehjem')\n",
    "# allAxes[1].plot(curDates,dfDeaths['90+'])\n",
    "allAxes[1].plot(plotDates,dfDeaDiff['90+'],'.-',label='90+')\n",
    "allAxes[1].plot(plotDates,dfDeaDiff['80-89'],'.-',label='80-89')\n",
    "allAxes[1].plot(plotDates,dfDeaDiff['70-79'],'.-',label='70-79')\n",
    "allAxes[2].plot(plotDates,dfDeaDiff['70-79']+dfDeaDiff['80-89']+dfDeaDiff['90+'],'k.-',label='70+')\n",
    "\n",
    "\n",
    "allAxes[0].set_title('Dødsfald')\n",
    "\n",
    "for ax in allAxes:\n",
    "    # ax.set_yscale('log')\n",
    "    ax.grid()\n",
    "    ax.legend()\n",
    "    ax.set_ylim(bottom=0)\n",
    "\n",
    "allAxes[0].set_xlim([plotDates[0],plotDates[-1]])\n",
    "plt.tight_layout()\n",
    "\n",
    "if saveFigures:\n",
    "    plt.savefig('figs/Plejehjem_DeathsComparison')"
   ]
  },
  {
   "cell_type": "code",
   "execution_count": 10,
   "metadata": {},
   "outputs": [
    {
     "output_type": "display_data",
     "data": {
      "text/plain": "Canvas(toolbar=Toolbar(toolitems=[('Home', 'Reset original view', 'home', 'home'), ('Back', 'Back to previous …",
      "application/vnd.jupyter.widget-view+json": {
       "version_major": 2,
       "version_minor": 0,
       "model_id": "fc317b844ea64a4f98ee4b77378e6a0d"
      }
     },
     "metadata": {}
    }
   ],
   "source": [
    "fig,allAxes = plt.subplots(3,1,sharex=True)\n",
    "\n",
    "# iniDataPle = 47\n",
    "# iniDataDea = 11\n",
    "\n",
    "# allAxes[0].plot(datesPle[iniDataPle:],dfPle['Dødsfald blandt bekæftede beboere'].iloc[iniDataPle:],'k.-',label='Plejehjem')\n",
    "# # allAxes[1].plot(curDates,dfDeaths['90+'])\n",
    "# # allAxes[1].bar(plotDates[iniDataDea:],dfDeaDiff['90+'].iloc[iniDataDea:],label='90+')\n",
    "# # allAxes[1].bar(plotDates[iniDataDea:],dfDeaDiff['80-89'].iloc[iniDataDea:],label='80-89')\n",
    "# allAxes[1].plot(plotDates[iniDataDea:],dfDeaDiff['90+'].iloc[iniDataDea:],'.-',label='90+')\n",
    "# allAxes[1].plot(plotDates[iniDataDea:],dfDeaDiff['80-89'].iloc[iniDataDea:],'.-',label='80-89')\n",
    "# allAxes[1].plot(plotDates[iniDataDea:],dfDeaDiff['70-79'].iloc[iniDataDea:],'.-',label='70-79')\n",
    "# allAxes[2].plot(plotDates[iniDataDea:],dfDeaDiff['70-79'].iloc[iniDataDea:]+dfDeaDiff['80-89'].iloc[iniDataDea:]+dfDeaDiff['90+'].iloc[iniDataDea:],'k.-',label='70+')\n",
    "\n",
    "allAxes[0].plot(datesPle,dfPle['Dødsfald blandt bekæftede beboere'],'k.-',label='Plejehjem')\n",
    "allAxes[1].plot(plotDates,dfDeaDiff['90+'],'.-',label='90+')\n",
    "allAxes[1].plot(plotDates,dfDeaDiff['80-89'],'.-',label='80-89')\n",
    "allAxes[1].plot(plotDates,dfDeaDiff['70-79'],'.-',label='70-79')\n",
    "allAxes[2].plot(plotDates,dfDeaDiff['70-79']+dfDeaDiff['80-89']+dfDeaDiff['90+'],'k.-',label='70+')\n",
    "\n",
    "\n",
    "\n",
    "for ax in allAxes:\n",
    "    # ax.set_yscale('log')\n",
    "    ax.grid()\n",
    "    ax.legend()\n",
    "    ax.set_ylim(bottom=0)\n",
    "\n",
    "allAxes[0].set_ylim(top=20)\n",
    "allAxes[1].set_ylim(top=20)\n",
    "allAxes[2].set_ylim(top=60)\n",
    "\n",
    "allAxes[0].set_title('Dødsfald')\n",
    "\n",
    "\n",
    "# allAxes[0].set_xlim([plotDates[iniDataDea],plotDates[-1]])\n",
    "allAxes[0].set_xlim([np.datetime64('2021-02-01'),plotDates[-1]])\n",
    "plt.tight_layout()\n",
    "if saveFigures:\n",
    "    plt.savefig('figs/Plejehjem_DeathsComparison_Zoom')"
   ]
  },
  {
   "cell_type": "code",
   "execution_count": 11,
   "metadata": {},
   "outputs": [
    {
     "output_type": "execute_result",
     "data": {
      "text/plain": [
       "DatetimeIndex(['2020-11-17', '2020-11-24', '2020-12-01', '2020-12-08',\n",
       "               '2020-12-15', '2020-12-22', '2020-12-29', '2021-01-05',\n",
       "               '2021-01-12', '2021-01-19', '2021-01-26', '2021-02-02',\n",
       "               '2021-02-09', '2021-02-16', '2021-02-23', '2021-03-02',\n",
       "               '2021-03-09', '2021-03-15', '2021-03-23', '2021-03-30',\n",
       "               '2021-04-06', '2021-04-13', '2021-04-20', '2021-04-27',\n",
       "               '2021-05-04'],\n",
       "              dtype='datetime64[ns]', freq=None)"
      ]
     },
     "metadata": {},
     "execution_count": 11
    }
   ],
   "source": [
    "plotDates"
   ]
  },
  {
   "cell_type": "code",
   "execution_count": 12,
   "metadata": {},
   "outputs": [
    {
     "output_type": "display_data",
     "data": {
      "text/plain": "Canvas(toolbar=Toolbar(toolitems=[('Home', 'Reset original view', 'home', 'home'), ('Back', 'Back to previous …",
      "application/vnd.jupyter.widget-view+json": {
       "version_major": 2,
       "version_minor": 0,
       "model_id": "ae0304f185ae4a3f935df0d4cc4de6bd"
      }
     },
     "metadata": {}
    }
   ],
   "source": [
    "fig,allAxes = plt.subplots(1,1,figsize=(18,10))\n",
    "\n",
    "allAxes.bar(datesPle,dfPle['Dødsfald blandt bekæftede beboere'],color='k',label='Plejehjem')\n",
    "allAxes.bar(plotDates+np.timedelta64(0,'D'),dfDeaDiff['90+'],label='90+')\n",
    "allAxes.bar(plotDates+np.timedelta64(1,'D'),dfDeaDiff['80-89'],label='80-89')\n",
    "allAxes.bar(plotDates+np.timedelta64(2,'D'),dfDeaDiff['70-79'],label='70-79')\n",
    "# allAxes[2].plot(plotDates,dfDeaDiff['70-79']+dfDeaDiff['80-89']+dfDeaDiff['90+'],'k.-',label='70+')\n",
    "\n",
    "\n",
    "# for ax in allAxes:\n",
    "#     # ax.set_yscale('log')\n",
    "#     ax.grid()\n",
    "#     ax.legend()\n",
    "#     ax.set_ylim(bottom=0)\n",
    "allAxes.legend()\n",
    "\n",
    "# allAxes[0].set_ylim(top=20)\n",
    "# allAxes[1].set_ylim(top=20)\n",
    "# allAxes[2].set_ylim(top=60)\n",
    "\n",
    "\n",
    "allAxes.set_xlim([plotDates[0],plotDates[-1]])\n",
    "plt.tight_layout()\n",
    "# if saveFigures:\n",
    "#     plt.savefig('figs/Plejehjem_DeathsComparison_Zoom')"
   ]
  },
  {
   "cell_type": "code",
   "execution_count": 13,
   "metadata": {},
   "outputs": [],
   "source": [
    "# dfDeaths = pd.read_csv(latestdir+'/Deaths_over_time.csv',delimiter = ';',dtype=str)\n",
    "# dfCase = pd.read_csv(latestdir+'/Cases_by_age.csv',delimiter = ';',dtype=str)"
   ]
  },
  {
   "cell_type": "code",
   "execution_count": 14,
   "metadata": {},
   "outputs": [],
   "source": [
    "# dfCase\n",
    "dfCase = pd.DataFrame(columns=dfDeaths.columns)\n",
    "dfTest = pd.DataFrame(columns=dfDeaths.columns)\n",
    "dfPosP = pd.DataFrame(columns=dfDeaths.columns)"
   ]
  },
  {
   "cell_type": "code",
   "execution_count": 15,
   "metadata": {},
   "outputs": [],
   "source": [
    "# for d in curDates:\n",
    "for k in range(0,len(curDates)):\n",
    "    d = curDates[k]\n",
    "    curIndex = dfDeaths.index[k]\n",
    "\n",
    "    thisDateStr = d.strftime('%Y-%m-%d')\n",
    "    curDir = rootdir + '/SSI_data_' + thisDateStr \n",
    "    curFilePath = curDir + '/Cases_by_age.csv'\n",
    "    curdf = pd.read_csv(curFilePath,delimiter=';',dtype=str)\n",
    "\n",
    "\n",
    "    curdf['Antal_bekræftede_COVID-19'] = pd.to_numeric(curdf['Antal_bekræftede_COVID-19'].astype(str).apply(lambda x: x.replace('.','')))\n",
    "    curdf['Antal_testede'] = pd.to_numeric(curdf['Antal_testede'].astype(str).apply(lambda x: x.replace('.','')))\n",
    "    curdf['Procent_positive'] = pd.to_numeric(curdf['Procent_positive'].astype(str).apply(lambda x: x.replace(',','.')))\n",
    "\n",
    "    dfCase.loc[curIndex] = curdf['Antal_bekræftede_COVID-19'].values\n",
    "    dfTest.loc[curIndex] = curdf['Antal_testede'].values\n",
    "    dfPosP.loc[curIndex] = curdf['Procent_positive'].values\n",
    "\n"
   ]
  },
  {
   "cell_type": "code",
   "execution_count": 16,
   "metadata": {},
   "outputs": [],
   "source": [
    "dfCaseDiff = dfCase.diff().iloc[1:]"
   ]
  },
  {
   "cell_type": "code",
   "execution_count": 17,
   "metadata": {},
   "outputs": [
    {
     "output_type": "display_data",
     "data": {
      "text/plain": "Canvas(toolbar=Toolbar(toolitems=[('Home', 'Reset original view', 'home', 'home'), ('Back', 'Back to previous …",
      "application/vnd.jupyter.widget-view+json": {
       "version_major": 2,
       "version_minor": 0,
       "model_id": "f996a14bf1484402abf37bf718128668"
      }
     },
     "metadata": {}
    }
   ],
   "source": [
    "fig,allAxes = plt.subplots(3,1,sharex=True)\n",
    "\n",
    "allAxes[0].plot(datesPle,dfPle['Bekæftede tilfælde beboere'],'k.-',label='Plejehjem')\n",
    "\n",
    "allAxes[1].plot(plotDates,dfCaseDiff['90+'],'.-',label='90+')\n",
    "allAxes[1].plot(plotDates,dfCaseDiff['80-89'],'.-',label='80-89')\n",
    "allAxes[1].plot(plotDates,dfCaseDiff['70-79'],'.-',label='70-79')\n",
    "allAxes[2].plot(plotDates,dfCaseDiff['70-79']+dfCaseDiff['80-89']+dfCaseDiff['90+'],'k.-',label='70+')\n",
    "\n",
    "\n",
    "\n",
    "for ax in allAxes:\n",
    "    # ax.set_yscale('log')\n",
    "    ax.grid()\n",
    "    ax.legend()\n",
    "    ax.set_ylim(bottom=0)\n",
    "\n",
    "allAxes[0].set_title('Tilfælde')\n",
    "\n",
    "allAxes[0].set_xlim([plotDates[0],plotDates[-1]])\n",
    "# allAxes[0].set_xlim([np.datetime64('2021-02-01'),plotDates[-1]])\n",
    "plt.tight_layout()\n",
    "\n",
    "if saveFigures:\n",
    "    plt.savefig('figs/Plejehjem_CasesComparison')\n",
    "\n",
    "    \n",
    "allAxes[0].set_xlim([np.datetime64('2021-02-01'),plotDates[-1]])\n",
    "allAxes[0].set_ylim(top=50)\n",
    "allAxes[1].set_ylim(top=250)\n",
    "allAxes[2].set_ylim(top=500)\n",
    "\n",
    "\n",
    "if saveFigures:\n",
    "    plt.savefig('figs/Plejehjem_CasesComparison_Zoom')"
   ]
  },
  {
   "source": [
    "# Subtracting nursing homes from total deaths"
   ],
   "cell_type": "markdown",
   "metadata": {}
  },
  {
   "cell_type": "code",
   "execution_count": 18,
   "metadata": {},
   "outputs": [],
   "source": [
    "dfDeaFull = pd.read_csv(latestdir+'/Deaths_over_time.csv',delimiter = ';',dtype=str)\n",
    "dfDeaFull = dfDeaFull.iloc[:-1]\n",
    "dfDeaFull.Dato = pd.to_datetime(dfDeaFull.Dato)\n",
    "dfDeaFull['Antal_døde'] = pd.to_numeric(dfDeaFull['Antal_døde'])"
   ]
  },
  {
   "cell_type": "code",
   "execution_count": 19,
   "metadata": {},
   "outputs": [
    {
     "output_type": "display_data",
     "data": {
      "text/plain": "Canvas(toolbar=Toolbar(toolitems=[('Home', 'Reset original view', 'home', 'home'), ('Back', 'Back to previous …",
      "application/vnd.jupyter.widget-view+json": {
       "version_major": 2,
       "version_minor": 0,
       "model_id": "248c6ed684374f30b77b6446719cdf11"
      }
     },
     "metadata": {}
    }
   ],
   "source": [
    "fig,ax1 = plt.subplots(1,1)\n",
    "\n",
    "ax1.plot(dfDeaFull.Dato,dfDeaFull['Antal_døde'],label='Hele landet, dagligt')\n",
    "ax1.plot(datesPle,dfPle['Dødsfald blandt bekæftede beboere']/7,'k*-',label='Plejehjem (divideret med 7)')\n",
    "ax1.set_ylim(bottom=0)\n",
    "\n",
    "ax1.legend()\n",
    "\n",
    "plt.show()"
   ]
  },
  {
   "cell_type": "code",
   "execution_count": 20,
   "metadata": {},
   "outputs": [],
   "source": [
    "allDeathDates = []\n",
    "allDeathCounts = []\n",
    "for k in range(1,len(datesPle)):\n",
    "    curDate = datesPle[k-1]\n",
    "    nextDate = datesPle[k]\n",
    "\n",
    "    curInterval = (dfDeaFull.Dato >= curDate) & (dfDeaFull.Dato < nextDate)\n",
    "    # print('---')\n",
    "    # print(curDate)\n",
    "    # print(dfDeaFull.loc[curInterval])\n",
    "    curDeathCount = dfDeaFull['Antal_døde'].loc[curInterval].sum()\n",
    "\n",
    "    allDeathDates.append(curDate)\n",
    "    allDeathCounts.append(curDeathCount)\n",
    "\n",
    "# Add the final week as well\n",
    "curDate = datesPle[k]\n",
    "nextDate = datesPle[k]+np.timedelta64(7,'D')\n",
    "\n",
    "curInterval = (dfDeaFull.Dato >= curDate) & (dfDeaFull.Dato < nextDate)\n",
    "curDeathCount = dfDeaFull['Antal_døde'].loc[curInterval].sum()\n",
    "\n",
    "allDeathDates.append(curDate)\n",
    "allDeathCounts.append(curDeathCount)"
   ]
  },
  {
   "cell_type": "code",
   "execution_count": 21,
   "metadata": {},
   "outputs": [
    {
     "output_type": "display_data",
     "data": {
      "text/plain": "Canvas(toolbar=Toolbar(toolitems=[('Home', 'Reset original view', 'home', 'home'), ('Back', 'Back to previous …",
      "application/vnd.jupyter.widget-view+json": {
       "version_major": 2,
       "version_minor": 0,
       "model_id": "08573a36512749a78ff0541bdb77d1ee"
      }
     },
     "metadata": {}
    }
   ],
   "source": [
    "fig,(ax1,ax2) = plt.subplots(2,1,sharex=True)\n",
    "\n",
    "ax1.plot(allDeathDates,allDeathCounts,'Xb--',linewidth=0.5,label='Samtlige dødsfald')\n",
    "ax1.plot(datesPle,dfPle['Dødsfald blandt bekæftede beboere'],'k.--',linewidth=0.5,label='Plejehjem')\n",
    "\n",
    "ax2.plot(allDeathDates,100*np.divide(dfPle['Dødsfald blandt bekæftede beboere'],allDeathCounts),'k.--',linewidth=0.5,label='Plejehjem')\n",
    "# ax2.fill_between(allDeathDates,100*np.ones((len(allDeathDates),)),color='b',label='Samtlige dødsfald')\n",
    "# ax2.fill_between(allDeathDates,100*np.divide(dfPle['Dødsfald blandt bekæftede beboere'],allDeathCounts),color='k',label='Plejehjem')\n",
    "\n",
    "ax1.set_ylim(bottom=0)\n",
    "ax2.set_ylim([0,100])\n",
    "\n",
    "ax1.set_ylabel('Dødsfald')\n",
    "ax2.set_ylabel('Dødsfald på plejehjem \\nud af alle dødsfald [%]')\n",
    "ax1.legend()\n",
    "ax1.grid()\n",
    "ax2.grid()\n",
    "\n",
    "ax1.set_xlim([datesPle[0]-np.timedelta64(7,'D'),datesPle[-1]+np.timedelta64(7,'D')])\n",
    "ax1.xaxis.set_major_formatter(mdates.DateFormatter('%B\\n%Y'))\n",
    "\n",
    "plt.tight_layout()\n",
    "\n",
    "if saveFigures:\n",
    "    plt.savefig('figs/Plejehjem_AllDeathsCompare')\n",
    "\n",
    "ax1.set_xlim(left=np.datetime64('2021-01-01'))\n",
    "ax1.xaxis.set_major_formatter(mdates.DateFormatter('%d. %B\\n%Y'))\n",
    "    \n",
    "if saveFigures:\n",
    "    plt.savefig('figs/Plejehjem_AllDeathsCompareZoom')"
   ]
  },
  {
   "cell_type": "code",
   "execution_count": 22,
   "metadata": {},
   "outputs": [
    {
     "output_type": "display_data",
     "data": {
      "text/plain": "Canvas(toolbar=Toolbar(toolitems=[('Home', 'Reset original view', 'home', 'home'), ('Back', 'Back to previous …",
      "application/vnd.jupyter.widget-view+json": {
       "version_major": 2,
       "version_minor": 0,
       "model_id": "a1622f89a9114a18a20959d843206ea1"
      }
     },
     "metadata": {}
    }
   ],
   "source": [
    "fig,(ax1,ax2) = plt.subplots(2,1,sharex=True)\n",
    "\n",
    "ax1.plot(allDeathDates,allDeathCounts,'Xk--',linewidth=0.5,label='Samtlige dødsfald')\n",
    "ax1.plot(datesPle,dfPle['Dødsfald blandt bekæftede beboere'],'b.--',linewidth=0.5,label='Plejehjem')\n",
    "nonPleDeaths = np.subtract(allDeathCounts,dfPle['Dødsfald blandt bekæftede beboere'])\n",
    "ax1.plot(allDeathDates,nonPleDeaths,'Pg--',linewidth=0.5,label='Udenfor plejehjem')\n",
    "# ax1.plot(datesPle,dfPle['Dødsfald blandt bekæftede beboere'],'k.--',linewidth=0.5,label='Plejehjem')\n",
    "\n",
    "ax2.plot(allDeathDates,100*np.divide(dfPle['Dødsfald blandt bekæftede beboere'],allDeathCounts),'b.--',linewidth=0.5,label='Plejehjem')\n",
    "# ax2.fill_between(allDeathDates,100*np.ones((len(allDeathDates),)),color='g',label='Udenfor plejehjem')\n",
    "# # ax2.fill_between(allDeathDates,100*np.divide(nonPleDeaths,allDeathCounts),color='r',label='Udenfor plejehjem')\n",
    "# ax2.fill_between(allDeathDates,100*np.divide(dfPle['Dødsfald blandt bekæftede beboere'],allDeathCounts),color='b',label='Plejehjem')\n",
    "\n",
    "ax1.set_ylim(bottom=0)\n",
    "ax2.set_ylim([0,100])\n",
    "\n",
    "ax1.set_ylabel('Dødsfald')\n",
    "ax2.set_ylabel('Dødsfald på plejehjem \\nud af alle dødsfald [%]')\n",
    "ax1.legend()\n",
    "ax1.grid()\n",
    "ax2.grid()\n",
    "\n",
    "ax1.set_xlim([datesPle[0]-np.timedelta64(7,'D'),datesPle[-1]+np.timedelta64(7,'D')])\n",
    "ax1.xaxis.set_major_formatter(mdates.DateFormatter('%B\\n%Y'))\n",
    "\n",
    "plt.tight_layout()\n",
    "\n",
    "if saveFigures:\n",
    "    plt.savefig('figs/Plejehjem_AllDeathsCompare')\n",
    "\n",
    "ax1.set_xlim(left=np.datetime64('2021-01-01'))\n",
    "ax1.xaxis.set_major_formatter(mdates.DateFormatter('%d. %B\\n%Y'))\n",
    "    \n",
    "if saveFigures:\n",
    "    plt.savefig('figs/Plejehjem_AllDeathsCompareZoom')"
   ]
  },
  {
   "cell_type": "code",
   "execution_count": 23,
   "metadata": {},
   "outputs": [
    {
     "output_type": "execute_result",
     "data": {
      "text/plain": [
       "[numpy.datetime64('2021-03-29'),\n",
       " numpy.datetime64('2021-04-05'),\n",
       " numpy.datetime64('2021-04-12'),\n",
       " numpy.datetime64('2021-04-19'),\n",
       " numpy.datetime64('2021-04-26')]"
      ]
     },
     "metadata": {},
     "execution_count": 23
    }
   ],
   "source": [
    "datesPle[-5:]"
   ]
  },
  {
   "cell_type": "code",
   "execution_count": 25,
   "metadata": {},
   "outputs": [
    {
     "output_type": "execute_result",
     "data": {
      "text/plain": [
       "934"
      ]
     },
     "metadata": {},
     "execution_count": 25
    }
   ],
   "source": [
    "dfPle['Dødsfald blandt bekæftede beboere'].sum()"
   ]
  }
 ]
}