{
 "metadata": {
  "language_info": {
   "codemirror_mode": {
    "name": "ipython",
    "version": 3
   },
   "file_extension": ".py",
   "mimetype": "text/x-python",
   "name": "python",
   "nbconvert_exporter": "python",
   "pygments_lexer": "ipython3",
   "version": "3.8.5"
  },
  "orig_nbformat": 2,
  "kernelspec": {
   "name": "python385jvsc74a57bd0c72cdf52cb3d31f207bca538e9396da8706c0ecf4a3038fb1c2b317934170431",
   "display_name": "Python 3.8.5 64-bit"
  }
 },
 "nbformat": 4,
 "nbformat_minor": 2,
 "cells": [
  {
   "cell_type": "code",
   "execution_count": 11,
   "metadata": {},
   "outputs": [
    {
     "output_type": "stream",
     "name": "stdout",
     "text": [
      "saveFigures is set to: True\nDone loading packages\n"
     ]
    }
   ],
   "source": [
    "# Notebook til at se på SSI's data for antigentests\n",
    "import numpy as np\n",
    "import pandas as pd\n",
    "pd.set_option('display.max_rows', 500)\n",
    "pd.set_option('display.min_rows', 50)\n",
    "\n",
    "\n",
    "import matplotlib.pyplot as plt\n",
    "%matplotlib widget\n",
    "plt.rcParams['figure.figsize'] = (12,8)\n",
    "plt.rcParams[\"image.cmap\"] = \"Dark2\"\n",
    "plt.rcParams['axes.prop_cycle'] = plt.cycler(color=plt.cm.Dark2.colors)\n",
    "plt.rcParams['lines.markersize'] = 3\n",
    "plt.rcParams['lines.linewidth'] = 3\n",
    "%matplotlib widget\n",
    "# plt.style.use('ggplot')\n",
    "import matplotlib.colors as colors\n",
    "# cmap = plt.cm.get_cmap('Dark2',len(ageGroups))\n",
    "from matplotlib import cm # Colormaps\n",
    "\n",
    "import locale\n",
    "import matplotlib.dates as mdates\n",
    "# locale.setlocale(locale.LC_TIME,\"Danish\")\n",
    "# ax = plt.gca()\n",
    "# ax1.xaxis.set_major_formatter(mdates.DateFormatter('%b\\n%Y'))\n",
    "# # ax.xaxis.set_major_formatter(mdates.DateFormatter('%Y \\n %B'))\n",
    "\n",
    "import os\n",
    "# import csv\n",
    "import math\n",
    "\n",
    "\n",
    "from datetime import date\n",
    "\n",
    "\n",
    "saveFigures = True\n",
    "print('saveFigures is set to: '+str(saveFigures))\n",
    "\n",
    "print('Done loading packages')\n",
    "\n",
    "def rnMean(data,meanWidth):\n",
    "    return np.convolve(data, np.ones(meanWidth)/meanWidth, mode='valid')\n",
    "def rnTime(t,meanWidth):\n",
    "    return t[math.floor(meanWidth/2):-math.ceil(meanWidth/2)+1]\n"
   ]
  },
  {
   "cell_type": "code",
   "execution_count": 2,
   "metadata": {},
   "outputs": [
    {
     "output_type": "stream",
     "name": "stdout",
     "text": [
      "Make sure to run \"get_data\" first, so the most recent data is used\n"
     ]
    }
   ],
   "source": [
    "print('Make sure to run \"get_data\" first, so the most recent data is used')"
   ]
  },
  {
   "cell_type": "code",
   "execution_count": 3,
   "metadata": {},
   "outputs": [
    {
     "output_type": "stream",
     "name": "stdout",
     "text": [
      "c:\\Users\\rakrpe\\Documents\\PandemiX\\GithubRepos\\PandemiX\\DanskeData/ssi_data\\SSI_data_2021-04-28\n2021-04-28 00:00:00\n"
     ]
    }
   ],
   "source": [
    "ssidatapath = \"ssi_data\"\n",
    "rootdir = os.getcwd() +\"/\" + ssidatapath\n",
    "\n",
    "\n",
    "for subdir, dirs, files in os.walk(rootdir):\n",
    "    if not len(files) == 0:\n",
    "        latestdir = subdir\n",
    "        latestDate = pd.to_datetime(subdir[-10:])\n",
    "\n",
    "print(latestdir)\n",
    "print(latestDate)"
   ]
  },
  {
   "cell_type": "code",
   "execution_count": 4,
   "metadata": {},
   "outputs": [],
   "source": [
    "# Load the data\n",
    "fulldfPCR = pd.read_csv(latestdir+'/Test_pos_over_time.csv',delimiter = ';',dtype=str)\n",
    "fulldf = pd.read_csv(latestdir+'/Test_pos_over_time_antigen.csv',delimiter = ';',dtype=str)\n",
    "\n",
    "# Cut out the last two rows of summary numbers\n",
    "dfPCR = fulldfPCR.iloc[:-2,:].copy()\n",
    "df = fulldf.iloc[:-2,:].copy()\n",
    "\n",
    "dfPCR[\"PosPct\"] = pd.to_numeric(dfPCR[\"PosPct\"].astype(str).apply(lambda x: x.replace(',','.')))\n",
    "dfPCR[\"Date\"] = dfPCR[\"Date\"].astype('datetime64[D]')\n",
    "df[\"PosPct\"] = pd.to_numeric(df[\"PosPct\"].astype(str).apply(lambda x: x.replace(',','.')))\n",
    "df[\"Date\"] = df[\"Date\"].astype('datetime64[D]')\n",
    "\n",
    "rows_to_fix_period_in = [\"NewPositive\",\"NotPrevPos\",\"PrevPos\",\"Tested\",\"Tested_kumulativ\"]\n",
    "for name in rows_to_fix_period_in:\n",
    "    df[name] = pd.to_numeric(df[name].astype(str).apply(lambda x: x.replace('.','')))\n",
    "    dfPCR[name] = pd.to_numeric(dfPCR[name].astype(str).apply(lambda x: x.replace('.','')))\n"
   ]
  },
  {
   "cell_type": "code",
   "execution_count": 5,
   "metadata": {},
   "outputs": [],
   "source": [
    "curDir = latestdir\n",
    "# \"C:\\\\Users\\\\rakrpe\\\\Documents\\\\PandemiX\\\\GithubRepos\\\\PandemiX\\\\DanskeData\\\\ssi_data\\\\SSI_data_2021-04-28\\\\\"\n",
    "# latestdir "
   ]
  },
  {
   "cell_type": "code",
   "execution_count": 6,
   "metadata": {},
   "outputs": [],
   "source": [
    "df2 = pd.read_csv(curDir+'\\\\Antigentests_pr_dag.csv',delimiter = ';')"
   ]
  },
  {
   "cell_type": "code",
   "execution_count": 7,
   "metadata": {},
   "outputs": [],
   "source": [
    "df2[\"Dato\"] = df2[\"Dato\"].astype('datetime64[D]')\n",
    "df2[\"Andel_AGpos_PCRkonf_pct\"] = pd.to_numeric(df2[\"Andel_AGpos_PCRkonf_pct\"].astype(str).apply(lambda x: x.replace(',','.')))\n",
    "df2[\"Andel_AGminusPCRkonf_pct\"] = pd.to_numeric(df2[\"Andel_AGminusPCRkonf_pct\"].astype(str).apply(lambda x: x.replace(',','.')))"
   ]
  },
  {
   "cell_type": "code",
   "execution_count": 36,
   "metadata": {},
   "outputs": [
    {
     "output_type": "display_data",
     "data": {
      "text/plain": "Canvas(toolbar=Toolbar(toolitems=[('Home', 'Reset original view', 'home', 'home'), ('Back', 'Back to previous …",
      "application/vnd.jupyter.widget-view+json": {
       "version_major": 2,
       "version_minor": 0,
       "model_id": "a3f9f3a7fcfa4788bbbab91ab2e28cf4"
      }
     },
     "metadata": {}
    }
   ],
   "source": [
    "# \"Måske skal vi lave to figurer en med de to øverste paneler (antal test af hver type og fordeling af AG pos på confirm + confirm- og ej confirm Og en anden med False Pos  and false neg rates and specificity Viggo\"\n",
    "fig,(ax1,ax2) = plt.subplots(2,1,sharex=True)\n",
    "\n",
    "meanWidth = 7\n",
    "rmDate = rnTime(df2.Dato,meanWidth)\n",
    "# Number of tests\n",
    "ax1.plot(df2.Dato,df2.AG_testede,'k.-',linewidth=0.15,label='AG tests')\n",
    "ax1.plot(rmDate,rnMean(df2.AG_testede,meanWidth),'k',label=f'{meanWidth} day running mean')\n",
    "ax1.plot(dfPCR.Date,dfPCR.Tested,'b.-',linewidth=0.15,label='PCR tests')\n",
    "ax1.plot(rnTime(dfPCR.Date,meanWidth),rnMean(dfPCR.Tested,meanWidth),'b',label=f'{meanWidth} day running mean')\n",
    "\n",
    "\n",
    "unconf = df2['AGpos_minusPCRkonf']\n",
    "unconfAndPos = unconf+df2['AGpos_PCRpos']\n",
    "allAGPos = unconfAndPos+df2['AGposPCRneg']\n",
    "\n",
    "ax2.fill_between(df2.Dato,100 * np.ones(df2.Dato.shape),color='xkcd:olive',label='AG+\\nPCR-')\n",
    "ax2.fill_between(df2.Dato,100 * np.divide(unconfAndPos,allAGPos),color='xkcd:dark green',label='AG+\\nPCR+')\n",
    "ax2.fill_between(df2.Dato,100 * np.divide(unconf,allAGPos),color='gray',label='AG+\\nno PCR yet')\n",
    "\n",
    "# ax2.fill_between(rmDate,100 * np.ones(rmDate.shape),color='xkcd:olive',label='AG+\\nPCR-')\n",
    "# ax2.fill_between(rmDate,100 * rnMean(np.divide(unconfAndPos,allAGPos),meanWidth),color='xkcd:dark green',label='AG+\\nPCR+')\n",
    "# ax2.fill_between(rmDate,100 * rnMean(np.divide(unconf,allAGPos),meanWidth),color='gray',label='AG+\\nno PCR yet')\n",
    "\n",
    "# # ax2.plot(df2.Dato,100 * np.ones(df2.Dato.shape),'.-',linewidth=0.15,label='AG+\\nPCR-')\n",
    "# ax2.plot(df2.Dato,100 * np.divide(unconfAndPos,allAGPos),'k.-',linewidth=0.15,label='AG+\\nPCR+')\n",
    "# ax2.plot(df2.Dato,100 * np.divide(unconf,allAGPos),'k.-',linewidth=0.15,label='AG+\\nno PCR yet')\n",
    "\n",
    "ax1.legend(loc='center left',bbox_to_anchor = (1.0, 0.5))\n",
    "ax2.legend(loc='center left',bbox_to_anchor = (1.0, 0.5))\n",
    "ax1.set_ylim(bottom=0)\n",
    "ax2.set_ylim([0,100])\n",
    "\n",
    "ax1.set_ylabel('Number of tests')\n",
    "ax2.set_ylabel('Percentage of AG tests [%]')\n",
    "\n",
    "ax1.grid()\n",
    "ax2.grid(axis='x')\n",
    "\n",
    "lastDate = df2.iloc[-1].Dato\n",
    "# ax1.set_xlim([np.datetime64('2021-02-01'),today])\n",
    "ax1.set_xlim([np.datetime64('2021-02-01'),lastDate])\n",
    "\n",
    "ax1.xaxis.set_major_formatter(mdates.DateFormatter('%d-%b\\n%Y'))\n",
    "plt.tight_layout()\n",
    "\n",
    "if saveFigures:\n",
    "    plt.savefig('figs/Agtest_PCRtest_confirmation')"
   ]
  },
  {
   "cell_type": "code",
   "execution_count": 21,
   "metadata": {},
   "outputs": [
    {
     "output_type": "display_data",
     "data": {
      "text/plain": "Canvas(toolbar=Toolbar(toolitems=[('Home', 'Reset original view', 'home', 'home'), ('Back', 'Back to previous …",
      "application/vnd.jupyter.widget-view+json": {
       "version_major": 2,
       "version_minor": 0,
       "model_id": "ecf72853e98642e59285105b326c26fa"
      }
     },
     "metadata": {}
    }
   ],
   "source": [
    "fig,(ax1,ax2) = plt.subplots(2,1,sharex=True)\n",
    "\n",
    "sumNeg = df2.AGnegPCRneg.values + df2.AGnegPCRpos.values\n",
    "\n",
    "# meanWidth = 7\n",
    "rmDate = rnTime(df2.Dato,meanWidth)\n",
    "rmNegPos = rnMean(np.divide(df2.AGnegPCRpos,sumNeg),meanWidth)\n",
    "\n",
    "\n",
    "allConf = df2.AGpos_PCRpos + df2.AGposPCRneg\n",
    "ax1.plot(df2.Dato,100 * np.divide(df2.AGposPCRneg,allConf),'k.-',linewidth=0.15,label='AG+, PCR-')\n",
    "ax1.plot(rmDate,100 * rnMean(np.divide(df2.AGposPCRneg,allConf),meanWidth),'k',label=f'{meanWidth} day running mean')\n",
    "\n",
    "ax2.plot(df2.Dato,100 * np.divide(df2.AGnegPCRpos,sumNeg),'k.-',linewidth=0.15,label='AG-, PCR+')\n",
    "ax2.plot(rmDate,100 * rmNegPos,'k',label=f'{meanWidth} day running mean')\n",
    "\n",
    "\n",
    "ax1.legend(loc='center left',bbox_to_anchor = (1.0, 0.5))\n",
    "ax2.legend(loc='center left',bbox_to_anchor = (1.0, 0.5))\n",
    "ax1.set_ylim(bottom=0,top=100)\n",
    "ax2.set_ylim(bottom=0)\n",
    "# ax2.set_ylim([0,100])\n",
    "\n",
    "# ax1.set_ylabel('Number of tests')\n",
    "ax1.set_ylabel('Percentage of positive AG tests [%]')\n",
    "ax2.set_ylabel('Percentage of negative AG tests [%]')\n",
    "\n",
    "ax1.grid()\n",
    "ax2.grid()\n",
    "\n",
    "lastDate = df2.iloc[-1].Dato\n",
    "# ax1.set_xlim([np.datetime64('2021-02-01'),today])\n",
    "ax1.set_xlim([np.datetime64('2021-02-01'),lastDate])\n",
    "\n",
    "ax1.xaxis.set_major_formatter(mdates.DateFormatter('%d-%b\\n%Y'))\n",
    "plt.tight_layout()\n",
    "\n",
    "if saveFigures:\n",
    "    plt.savefig('figs/AG_FalsePos_FalseNeg')"
   ]
  },
  {
   "cell_type": "code",
   "execution_count": null,
   "metadata": {},
   "outputs": [],
   "source": [
    "\n",
    "\n",
    "# # fig,(ax1,ax2,ax3) = plt.subplots(3,1,sharex=True)\n",
    "# fig,(ax1,ax2,ax3,ax4) = plt.subplots(4,1,sharex=True)\n",
    "\n",
    "# ax1.plot(df2.Dato,df2.AG_testede,label='AG tests')\n",
    "# ax1.plot(dfPCR.Date,dfPCR.Tested,label='PCR tests')\n",
    "# # ax1.plot(df2.Dato,df2.AG_pos)\n",
    "# # ax1.plot(df2.Dato,100*np.divide(df2.AG_pos,df2.AG_testede),label='Andel af positive AG tests')\n",
    "\n",
    "# # firstToShow = -75\n",
    "# # ax1.plot(df.Date,posPctAG,label='Positiv procent, antigen')\n",
    "# # ax1.plot(dfPCR.Date[firstToShow:],posPctPCR[firstToShow:],label='Positiv procent, PCR')\n",
    "\n",
    "\n",
    "# unconf = df2['AGpos_minusPCRkonf']\n",
    "# unconfAndPos = unconf+df2['AGpos_PCRpos']\n",
    "# allAGPos = unconfAndPos+df2['AGposPCRneg']\n",
    "\n",
    "# # ax2.plot(df2.Dato,df2['AGpos_minusPCRkonf'])\n",
    "# # ax2.plot(df2.Dato,df2['AGpos_PCRpos'])\n",
    "# # ax2.plot(df2.Dato,df2['AGposPCRneg'])\n",
    "\n",
    "# # ax2.plot(df2.Dato,unconf)\n",
    "# # ax2.plot(df2.Dato,unconfAndPos)\n",
    "# # ax2.plot(df2.Dato,allAGPos)\n",
    "# # ax2.plot(df2.Dato,df2.AG_pos)\n",
    "\n",
    "# # ax2.plot(df2.Dato,np.divide(unconf,allAGPos),label='AG positiv, endnu ikke PCR testet')\n",
    "# # ax2.plot(df2.Dato,np.divide(unconfAndPos,allAGPos),label='AG positiv, PCR positiv')\n",
    "# # ax2.plot(df2.Dato,np.divide(allAGPos,allAGPos),label='AG positiv, PCR negativ')\n",
    "\n",
    "# ax2.fill_between(df2.Dato,100 * np.ones(df2.Dato.shape),label='AG positiv, PCR negativ')\n",
    "# ax2.fill_between(df2.Dato,100 * np.divide(unconfAndPos,allAGPos),label='AG positiv, PCR positiv')\n",
    "# ax2.fill_between(df2.Dato,100 * np.divide(unconf,allAGPos),color='gray',label='AG positiv, endnu ikke PCR testet')\n",
    "\n",
    "# allConf = df2.AGpos_PCRpos + df2.AGposPCRneg\n",
    "# ax3.plot(df2.Dato,100 * np.divide(df2.AGposPCRneg,allConf),label='AG positiv, PCR negativ')\n",
    "# # ax3.plot(df2.Dato,100 * np.divide(df2.AGpos_PCRpos,allConf),label='AG positiv, PCR positiv')\n",
    "\n",
    "\n",
    "# # sumNeg = np.sum(df2.AGnegPCRpos.values,df2.AGnegPCRneg.values)\n",
    "# sumNeg = df2.AGnegPCRneg.values + df2.AGnegPCRpos.values\n",
    "# # ax3.fill_between(df2.Dato,100 * np.ones(df2.Dato.shape),label='AG negativ, PCR positiv')\n",
    "# # ax3.fill_between(df2.Dato,100 * np.divide(df2.AGnegPCRneg,sumNeg),label='AG negativ, PCR negativ')\n",
    "# # ax3.fill_between(df2.Dato,df2.AGnegPCRneg)\n",
    "\n",
    "\n",
    "# # ax3.fill_between(df2.Dato,100 * np.ones(df2.Dato.shape),label='AG negativ, PCR negativ')\n",
    "# # ax3.fill_between(df2.Dato,100 * np.divide(df2.AGnegPCRpos,sumNeg),label='AG negativ, PCR positiv')\n",
    "# ax4.plot(df2.Dato,100 * np.divide(df2.AGnegPCRpos,sumNeg),label='AG negativ, PCR positiv')\n",
    "\n",
    "# meanWidth = 7\n",
    "# rmDate = rnTime(df2.Dato,meanWidth)\n",
    "# rmNegPos = rnMean(np.divide(df2.AGnegPCRpos,sumNeg),meanWidth)\n",
    "# ax4.plot(rmDate,100 * rmNegPos,'k:',label='7 dages løbende gennemsnit')\n",
    "\n",
    "\n",
    "# # ax1.legend(loc='upper left')\n",
    "# # ax2.legend(loc='upper left')\n",
    "# ax1.legend(loc='center left',bbox_to_anchor = (1.0, 0.5))\n",
    "# ax2.legend(loc='center left',bbox_to_anchor = (1.0, 0.5))\n",
    "# ax3.legend(loc='center left',bbox_to_anchor = (1.0, 0.5))\n",
    "# ax4.legend(loc='center left',bbox_to_anchor = (1.0, 0.5))\n",
    "# ax1.set_ylim(bottom=0)\n",
    "# ax2.set_ylim([0,100])\n",
    "# ax3.set_ylim([0,100])\n",
    "# ax4.set_ylim([0,100])\n",
    "# # ax4.set_ylim([95,100])\n",
    "# ax4.set_ylim([0,3])\n",
    "\n",
    "# ax1.set_ylabel('Antal tests')\n",
    "# ax2.set_ylabel('Andel af tests [%]')\n",
    "# ax3.set_ylabel('Andel af PCR-\\nkonfirmede tests [%]')\n",
    "# ax4.set_ylabel('Andel af tests [%]')\n",
    "# # ax1.set_xlim([df2.iloc[0,0],df2.iloc[-1,0]])\n",
    "\n",
    "# ax1.grid()\n",
    "# # ax2.grid()\n",
    "# ax3.grid()\n",
    "# ax4.grid()\n",
    "\n",
    "# lastDate = df2.iloc[-1].Dato\n",
    "# # ax1.set_xlim([np.datetime64('2021-02-01'),today])\n",
    "# ax1.set_xlim([np.datetime64('2021-02-01'),lastDate])\n",
    "\n",
    "# ax1.xaxis.set_major_formatter(mdates.DateFormatter('%d-%b\\n%Y'))\n",
    "# plt.tight_layout()\n",
    "\n",
    "# if saveFigures:\n",
    "#     fig.savefig('figs/AGprDagOpsummering')"
   ]
  }
 ]
}