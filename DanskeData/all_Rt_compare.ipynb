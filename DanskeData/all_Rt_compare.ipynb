{
 "metadata": {
  "language_info": {
   "codemirror_mode": {
    "name": "ipython",
    "version": 3
   },
   "file_extension": ".py",
   "mimetype": "text/x-python",
   "name": "python",
   "nbconvert_exporter": "python",
   "pygments_lexer": "ipython3",
   "version": "3.8.5"
  },
  "orig_nbformat": 2,
  "kernelspec": {
   "name": "python385jvsc74a57bd0c72cdf52cb3d31f207bca538e9396da8706c0ecf4a3038fb1c2b317934170431",
   "display_name": "Python 3.8.5 64-bit ('main': conda)"
  }
 },
 "nbformat": 4,
 "nbformat_minor": 2,
 "cells": [
  {
   "cell_type": "code",
   "execution_count": 1,
   "metadata": {},
   "outputs": [
    {
     "output_type": "stream",
     "name": "stdout",
     "text": [
      "saveFigures is set to: True\nDone loading packages\n"
     ]
    }
   ],
   "source": [
    "# Overview of all RT\n",
    "import numpy as np\n",
    "import pandas as pd\n",
    "pd.set_option('display.max_rows', 500)\n",
    "pd.set_option('display.min_rows', 50)\n",
    "\n",
    "\n",
    "import matplotlib.pyplot as plt\n",
    "%matplotlib widget\n",
    "plt.rcParams['figure.figsize'] = (12,8)\n",
    "plt.rcParams[\"image.cmap\"] = \"Dark2\"\n",
    "plt.rcParams['axes.prop_cycle'] = plt.cycler(color=plt.cm.Dark2.colors)\n",
    "%matplotlib widget\n",
    "# plt.style.use('ggplot')\n",
    "import matplotlib.colors as colors\n",
    "# cmap = plt.cm.get_cmap('Dark2',len(ageGroups))\n",
    "from matplotlib import cm # Colormaps\n",
    "\n",
    "import locale\n",
    "import matplotlib.dates as mdates\n",
    "locale.setlocale(locale.LC_TIME,\"Danish\")\n",
    "# ax = plt.gca()\n",
    "# ax1.xaxis.set_major_formatter(mdates.DateFormatter('%b\\n%Y'))\n",
    "# # ax.xaxis.set_major_formatter(mdates.DateFormatter('%Y \\n %B'))\n",
    "\n",
    "import os\n",
    "# import csv\n",
    "import math\n",
    "\n",
    "\n",
    "from datetime import date\n",
    "\n",
    "\n",
    "saveFigures = True\n",
    "print('saveFigures is set to: '+str(saveFigures))\n",
    "\n",
    "print('Done loading packages')\n",
    "\n",
    "def rnMean(data,meanWidth):\n",
    "    return np.convolve(data, np.ones(meanWidth)/meanWidth, mode='valid')\n",
    "def rnTime(t,meanWidth):\n",
    "    return t[math.floor(meanWidth/2):-math.ceil(meanWidth/2)+1]\n"
   ]
  },
  {
   "cell_type": "code",
   "execution_count": 2,
   "metadata": {},
   "outputs": [],
   "source": [
    "allFiles = os.listdir('Rt/')"
   ]
  },
  {
   "cell_type": "code",
   "execution_count": 3,
   "metadata": {},
   "outputs": [],
   "source": [
    "df = pd.read_csv('Rt/Rt_cases_2020_07_08.csv',delimiter=';')\n",
    "\n",
    "df[\"date_sample\"] = df[\"date_sample\"].astype('datetime64[D]')\n",
    "df['estimate'] = pd.to_numeric(df[\"estimate\"].astype(str).apply(lambda x: x.replace(',','.')))\n",
    "df['uncertainty_lower'] = pd.to_numeric(df[\"uncertainty_lower\"].astype(str).apply(lambda x: x.replace(',','.')))\n",
    "df['uncertainty_upper'] = pd.to_numeric(df[\"uncertainty_upper\"].astype(str).apply(lambda x: x.replace(',','.')))"
   ]
  },
  {
   "cell_type": "code",
   "execution_count": 4,
   "metadata": {},
   "outputs": [
    {
     "output_type": "display_data",
     "data": {
      "text/plain": "Canvas(toolbar=Toolbar(toolitems=[('Home', 'Reset original view', 'home', 'home'), ('Back', 'Back to previous …",
      "application/vnd.jupyter.widget-view+json": {
       "version_major": 2,
       "version_minor": 0,
       "model_id": "6f004799129347ca9c64375afae86437"
      }
     },
     "metadata": {}
    }
   ],
   "source": [
    "plt.figure()\n",
    "\n",
    "for curFile in allFiles:\n",
    "    # print(curFile)\n",
    "    df = pd.read_csv('Rt/'+curFile,delimiter=';')\n",
    "\n",
    "    if (df.columns[0] == 'date_sample'):\n",
    "        df[\"date_sample\"] = df[\"date_sample\"].astype('datetime64[D]')\n",
    "        curDates = df.date_sample\n",
    "    else:\n",
    "        df[\"SampleDate\"] = df[\"SampleDate\"].astype('datetime64[D]')\n",
    "        curDates = df.SampleDate\n",
    "    df['estimate'] = pd.to_numeric(df[\"estimate\"].astype(str).apply(lambda x: x.replace(',','.')))\n",
    "    df['uncertainty_lower'] = pd.to_numeric(df[\"uncertainty_lower\"].astype(str).apply(lambda x: x.replace(',','.')))\n",
    "    df['uncertainty_upper'] = pd.to_numeric(df[\"uncertainty_upper\"].astype(str).apply(lambda x: x.replace(',','.')))\n",
    "    \n",
    "\n",
    "\n",
    "    plt.plot(curDates,np.ones(curDates.shape),'b--')\n",
    "    plt.plot(curDates,df.estimate,color=[0,0,0,0.2])\n",
    "plt.show()"
   ]
  },
  {
   "cell_type": "code",
   "execution_count": 5,
   "metadata": {},
   "outputs": [
    {
     "output_type": "display_data",
     "data": {
      "text/plain": "Canvas(toolbar=Toolbar(toolitems=[('Home', 'Reset original view', 'home', 'home'), ('Back', 'Back to previous …",
      "application/vnd.jupyter.widget-view+json": {
       "version_major": 2,
       "version_minor": 0,
       "model_id": "95ba2022b61145058305a21438913cfd"
      }
     },
     "metadata": {}
    }
   ],
   "source": [
    "# import numpy as np\n",
    "# from matplotlib import pyplot as plt\n",
    "from matplotlib.animation import FuncAnimation\n",
    "# plt.style.use('seaborn-pastel')\n",
    "\n",
    "# for curFile in allFiles:\n",
    "#     # print(curFile)\n",
    "    \n",
    "\n",
    "fig = plt.figure()\n",
    "# ax = plt.axes(xlim=(0, 4), ylim=(-2, 2))\n",
    "firstDate = np.datetime64('2020-03-01')\n",
    "today = date.today()\n",
    "curTicks = np.arange(np.datetime64('2020-03'),np.datetime64('2021-12'))\n",
    "\n",
    "ax = plt.axes(xlim=(firstDate,today),ylim=(0.4,1.6))\n",
    "ax.set_xticks(curTicks)\n",
    "ax.plot([firstDate,today],[1,1],'k--')\n",
    "\n",
    "ax.set_xlim([firstDate,today])\n",
    "ax.xaxis.set_major_formatter(mdates.DateFormatter('%b\\n%Y'))\n",
    "ax.grid()\n",
    "\n",
    "line, = ax.plot([], [],color='b', lw=3)\n",
    "line2, = ax.plot([], [],color='grey', lw=2)\n",
    "line3, = ax.plot([], [],color='grey', lw=2)\n",
    "\n",
    "def init():\n",
    "    line.set_data([], [])\n",
    "    line2.set_data([], [])\n",
    "    line3.set_data([], [])\n",
    "    return line,\n",
    "def animate(i):\n",
    "    x = np.linspace(0, 4, 1000)\n",
    "    y = np.sin(2 * np.pi * (x - 0.01 * i))\n",
    "    # line.set_data(x, y)\n",
    "\n",
    "    df = pd.read_csv('Rt/'+allFiles[i],delimiter=';')\n",
    "\n",
    "    if (df.columns[0] == 'date_sample'):\n",
    "        df[\"date_sample\"] = df[\"date_sample\"].astype('datetime64[D]')\n",
    "        curDates = df.date_sample\n",
    "    else:\n",
    "        df[\"SampleDate\"] = df[\"SampleDate\"].astype('datetime64[D]')\n",
    "        curDates = df.SampleDate\n",
    "    df['estimate'] = pd.to_numeric(df[\"estimate\"].astype(str).apply(lambda x: x.replace(',','.')))\n",
    "    df['uncertainty_lower'] = pd.to_numeric(df[\"uncertainty_lower\"].astype(str).apply(lambda x: x.replace(',','.')))\n",
    "    df['uncertainty_upper'] = pd.to_numeric(df[\"uncertainty_upper\"].astype(str).apply(lambda x: x.replace(',','.')))\n",
    "    \n",
    "\n",
    "    line.set_data(curDates,df.estimate)\n",
    "    line2.set_data(curDates,df.uncertainty_upper)\n",
    "    line3.set_data(curDates,df.uncertainty_lower)\n",
    "    # line.set_data(x,y)\n",
    "    # plt.plot(curDates,np.ones(curDates.shape),'b--')\n",
    "    # plt.plot(curDates,df.estimate,color=[0,0,0,0.2])\n",
    "\n",
    "\n",
    "    return line,\n",
    "\n",
    "anim = FuncAnimation(fig, animate, init_func=init,\n",
    "                               frames=len(allFiles)-1, interval=500, blit=True)\n",
    "\n",
    "\n",
    "anim.save('figs/RtAnimation.gif', writer='ffmpeg')"
   ]
  },
  {
   "cell_type": "code",
   "execution_count": 6,
   "metadata": {},
   "outputs": [],
   "source": [
    "plt.close('all')\n",
    "# line"
   ]
  },
  {
   "cell_type": "code",
   "execution_count": 8,
   "metadata": {},
   "outputs": [
    {
     "output_type": "execute_result",
     "data": {
      "text/plain": [
       "    SampleDate  estimate  uncertainty_lower  uncertainty_upper\n",
       "397 2021-04-27       1.1                0.9                1.2\n",
       "398 2021-04-28       1.1                0.9                1.2\n",
       "399 2021-04-29       1.1                0.9                1.2\n",
       "400 2021-04-30       1.1                0.9                1.3\n",
       "401 2021-05-01       1.1                0.9                1.3"
      ],
      "text/html": "<div>\n<style scoped>\n    .dataframe tbody tr th:only-of-type {\n        vertical-align: middle;\n    }\n\n    .dataframe tbody tr th {\n        vertical-align: top;\n    }\n\n    .dataframe thead th {\n        text-align: right;\n    }\n</style>\n<table border=\"1\" class=\"dataframe\">\n  <thead>\n    <tr style=\"text-align: right;\">\n      <th></th>\n      <th>SampleDate</th>\n      <th>estimate</th>\n      <th>uncertainty_lower</th>\n      <th>uncertainty_upper</th>\n    </tr>\n  </thead>\n  <tbody>\n    <tr>\n      <th>397</th>\n      <td>2021-04-27</td>\n      <td>1.1</td>\n      <td>0.9</td>\n      <td>1.2</td>\n    </tr>\n    <tr>\n      <th>398</th>\n      <td>2021-04-28</td>\n      <td>1.1</td>\n      <td>0.9</td>\n      <td>1.2</td>\n    </tr>\n    <tr>\n      <th>399</th>\n      <td>2021-04-29</td>\n      <td>1.1</td>\n      <td>0.9</td>\n      <td>1.2</td>\n    </tr>\n    <tr>\n      <th>400</th>\n      <td>2021-04-30</td>\n      <td>1.1</td>\n      <td>0.9</td>\n      <td>1.3</td>\n    </tr>\n    <tr>\n      <th>401</th>\n      <td>2021-05-01</td>\n      <td>1.1</td>\n      <td>0.9</td>\n      <td>1.3</td>\n    </tr>\n  </tbody>\n</table>\n</div>"
     },
     "metadata": {},
     "execution_count": 8
    }
   ],
   "source": [
    "df.tail()"
   ]
  }
 ]
}