{
 "metadata": {
  "language_info": {
   "codemirror_mode": {
    "name": "ipython",
    "version": 3
   },
   "file_extension": ".py",
   "mimetype": "text/x-python",
   "name": "python",
   "nbconvert_exporter": "python",
   "pygments_lexer": "ipython3",
   "version": "3.8.8"
  },
  "orig_nbformat": 2,
  "kernelspec": {
   "name": "python388jvsc74a57bd0c031fd63bd977d199cd6020c30a19695eacbb638d100e0b8a5ea53080ed74a9a",
   "display_name": "Python 3.8.8 64-bit ('main': conda)"
  }
 },
 "nbformat": 4,
 "nbformat_minor": 2,
 "cells": [
  {
   "cell_type": "code",
   "execution_count": 1,
   "metadata": {},
   "outputs": [
    {
     "output_type": "stream",
     "name": "stdout",
     "text": [
      "saveFigures is set to: True\nDone loading packages\n"
     ]
    }
   ],
   "source": [
    "# Overview of all RT\n",
    "import numpy as np\n",
    "import pandas as pd\n",
    "pd.set_option('display.max_rows', 500)\n",
    "pd.set_option('display.min_rows', 50)\n",
    "\n",
    "\n",
    "import matplotlib.pyplot as plt\n",
    "%matplotlib widget\n",
    "plt.rcParams['figure.figsize'] = (12,8)\n",
    "plt.rcParams[\"image.cmap\"] = \"Dark2\"\n",
    "plt.rcParams['axes.prop_cycle'] = plt.cycler(color=plt.cm.Dark2.colors)\n",
    "%matplotlib widget\n",
    "# plt.style.use('ggplot')\n",
    "import matplotlib.colors as colors\n",
    "# cmap = plt.cm.get_cmap('Dark2',len(ageGroups))\n",
    "from matplotlib import cm # Colormaps\n",
    "\n",
    "import locale\n",
    "import matplotlib.dates as mdates\n",
    "locale.setlocale(locale.LC_TIME,\"Danish\")\n",
    "# ax = plt.gca()\n",
    "# ax1.xaxis.set_major_formatter(mdates.DateFormatter('%b\\n%Y'))\n",
    "# # ax.xaxis.set_major_formatter(mdates.DateFormatter('%Y \\n %B'))\n",
    "\n",
    "import os\n",
    "# import csv\n",
    "import math\n",
    "\n",
    "\n",
    "from datetime import date\n",
    "\n",
    "\n",
    "saveFigures = True\n",
    "print('saveFigures is set to: '+str(saveFigures))\n",
    "\n",
    "print('Done loading packages')\n",
    "\n",
    "def rnMean(data,meanWidth):\n",
    "    return np.convolve(data, np.ones(meanWidth)/meanWidth, mode='valid')\n",
    "def rnTime(t,meanWidth):\n",
    "    return t[math.floor(meanWidth/2):-math.ceil(meanWidth/2)+1]\n"
   ]
  },
  {
   "cell_type": "code",
   "execution_count": 2,
   "metadata": {},
   "outputs": [],
   "source": [
    "allFiles = os.listdir('Rt/')"
   ]
  },
  {
   "cell_type": "code",
   "execution_count": 3,
   "metadata": {},
   "outputs": [],
   "source": [
    "df = pd.read_csv('Rt/Rt_cases_2020_07_08.csv',delimiter=';')\n",
    "\n",
    "df[\"date_sample\"] = df[\"date_sample\"].astype('datetime64[D]')\n",
    "df['estimate'] = pd.to_numeric(df[\"estimate\"].astype(str).apply(lambda x: x.replace(',','.')))\n",
    "df['uncertainty_lower'] = pd.to_numeric(df[\"uncertainty_lower\"].astype(str).apply(lambda x: x.replace(',','.')))\n",
    "df['uncertainty_upper'] = pd.to_numeric(df[\"uncertainty_upper\"].astype(str).apply(lambda x: x.replace(',','.')))"
   ]
  },
  {
   "cell_type": "code",
   "execution_count": 4,
   "metadata": {},
   "outputs": [
    {
     "output_type": "display_data",
     "data": {
      "text/plain": "Canvas(toolbar=Toolbar(toolitems=[('Home', 'Reset original view', 'home', 'home'), ('Back', 'Back to previous …",
      "application/vnd.jupyter.widget-view+json": {
       "version_major": 2,
       "version_minor": 0,
       "model_id": "26240373b89243b4b7c5bf93c5c54623"
      }
     },
     "metadata": {}
    }
   ],
   "source": [
    "plt.figure()\n",
    "\n",
    "for curFile in allFiles:\n",
    "    # print(curFile)\n",
    "    df = pd.read_csv('Rt/'+curFile,delimiter=';')\n",
    "\n",
    "    if (df.columns[0] == 'date_sample'):\n",
    "        df[\"date_sample\"] = df[\"date_sample\"].astype('datetime64[D]')\n",
    "        curDates = df.date_sample\n",
    "    else:\n",
    "        df[\"SampleDate\"] = df[\"SampleDate\"].astype('datetime64[D]')\n",
    "        curDates = df.SampleDate\n",
    "    df['estimate'] = pd.to_numeric(df[\"estimate\"].astype(str).apply(lambda x: x.replace(',','.')))\n",
    "    df['uncertainty_lower'] = pd.to_numeric(df[\"uncertainty_lower\"].astype(str).apply(lambda x: x.replace(',','.')))\n",
    "    df['uncertainty_upper'] = pd.to_numeric(df[\"uncertainty_upper\"].astype(str).apply(lambda x: x.replace(',','.')))\n",
    "    \n",
    "\n",
    "\n",
    "    plt.plot(curDates,np.ones(curDates.shape),'b--')\n",
    "    plt.plot(curDates,df.estimate,color=[0,0,0,0.2])\n",
    "plt.show()"
   ]
  },
  {
   "cell_type": "code",
   "execution_count": 5,
   "metadata": {},
   "outputs": [
    {
     "output_type": "display_data",
     "data": {
      "text/plain": "Canvas(toolbar=Toolbar(toolitems=[('Home', 'Reset original view', 'home', 'home'), ('Back', 'Back to previous …",
      "application/vnd.jupyter.widget-view+json": {
       "version_major": 2,
       "version_minor": 0,
       "model_id": "be6bc71375b84df59a6d8100745e4e65"
      }
     },
     "metadata": {}
    },
    {
     "output_type": "stream",
     "name": "stderr",
     "text": [
      "MovieWriter ffmpeg unavailable; using Pillow instead.\n"
     ]
    }
   ],
   "source": [
    "# import numpy as np\n",
    "# from matplotlib import pyplot as plt\n",
    "from matplotlib.animation import FuncAnimation\n",
    "# plt.style.use('seaborn-pastel')\n",
    "\n",
    "# for curFile in allFiles:\n",
    "#     # print(curFile)\n",
    "    \n",
    "\n",
    "fig = plt.figure()\n",
    "# ax = plt.axes(xlim=(0, 4), ylim=(-2, 2))\n",
    "firstDate = np.datetime64('2020-03-01')\n",
    "today = date.today()\n",
    "curTicks = np.arange(np.datetime64('2020-03'),np.datetime64('2021-12'))\n",
    "\n",
    "ax = plt.axes(xlim=(firstDate,today),ylim=(0.4,1.6))\n",
    "ax.set_xticks(curTicks)\n",
    "ax.plot([firstDate,today],[1,1],'k--')\n",
    "\n",
    "ax.set_xlim([firstDate,today])\n",
    "ax.xaxis.set_major_formatter(mdates.DateFormatter('%b\\n%Y'))\n",
    "ax.grid()\n",
    "\n",
    "line, = ax.plot([], [],color='b', lw=3)\n",
    "line2, = ax.plot([], [],color='grey', lw=2)\n",
    "line3, = ax.plot([], [],color='grey', lw=2)\n",
    "\n",
    "def init():\n",
    "    line.set_data([], [])\n",
    "    line2.set_data([], [])\n",
    "    line3.set_data([], [])\n",
    "    return line,\n",
    "def animate(i):\n",
    "    x = np.linspace(0, 4, 1000)\n",
    "    y = np.sin(2 * np.pi * (x - 0.01 * i))\n",
    "    # line.set_data(x, y)\n",
    "\n",
    "    df = pd.read_csv('Rt/'+allFiles[i],delimiter=';')\n",
    "\n",
    "    if (df.columns[0] == 'date_sample'):\n",
    "        df[\"date_sample\"] = df[\"date_sample\"].astype('datetime64[D]')\n",
    "        curDates = df.date_sample\n",
    "    else:\n",
    "        df[\"SampleDate\"] = df[\"SampleDate\"].astype('datetime64[D]')\n",
    "        curDates = df.SampleDate\n",
    "    df['estimate'] = pd.to_numeric(df[\"estimate\"].astype(str).apply(lambda x: x.replace(',','.')))\n",
    "    df['uncertainty_lower'] = pd.to_numeric(df[\"uncertainty_lower\"].astype(str).apply(lambda x: x.replace(',','.')))\n",
    "    df['uncertainty_upper'] = pd.to_numeric(df[\"uncertainty_upper\"].astype(str).apply(lambda x: x.replace(',','.')))\n",
    "    \n",
    "\n",
    "    line.set_data(curDates,df.estimate)\n",
    "    line2.set_data(curDates,df.uncertainty_upper)\n",
    "    line3.set_data(curDates,df.uncertainty_lower)\n",
    "    # line.set_data(x,y)\n",
    "    # plt.plot(curDates,np.ones(curDates.shape),'b--')\n",
    "    # plt.plot(curDates,df.estimate,color=[0,0,0,0.2])\n",
    "\n",
    "\n",
    "    return line,\n",
    "\n",
    "anim = FuncAnimation(fig, animate, init_func=init,\n",
    "                               frames=len(allFiles)-1, interval=500, blit=True)\n",
    "\n",
    "\n",
    "anim.save('figs/RtAnimation.gif', writer='ffmpeg')"
   ]
  },
  {
   "cell_type": "code",
   "execution_count": 6,
   "metadata": {},
   "outputs": [],
   "source": [
    "plt.close('all')\n",
    "# line"
   ]
  },
  {
   "cell_type": "code",
   "execution_count": null,
   "metadata": {},
   "outputs": [],
   "source": []
  }
 ]
}