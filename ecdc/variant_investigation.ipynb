{
 "metadata": {
  "language_info": {
   "codemirror_mode": {
    "name": "ipython",
    "version": 3
   },
   "file_extension": ".py",
   "mimetype": "text/x-python",
   "name": "python",
   "nbconvert_exporter": "python",
   "pygments_lexer": "ipython3",
   "version": "3.8.8"
  },
  "orig_nbformat": 4,
  "kernelspec": {
   "name": "python3",
   "display_name": "Python 3.8.8 64-bit ('main': conda)"
  },
  "interpreter": {
   "hash": "c031fd63bd977d199cd6020c30a19695eacbb638d100e0b8a5ea53080ed74a9a"
  }
 },
 "nbformat": 4,
 "nbformat_minor": 2,
 "cells": [
  {
   "cell_type": "code",
   "execution_count": 1,
   "metadata": {},
   "outputs": [
    {
     "output_type": "stream",
     "name": "stdout",
     "text": [
      "saveFigures is set to: True\nDone loading packages\n"
     ]
    }
   ],
   "source": [
    "# Main notebook for playing around and looking at different things in data\n",
    "import numpy as np\n",
    "import pandas as pd\n",
    "pd.set_option('display.max_rows', 500)\n",
    "pd.set_option('display.min_rows', 50)\n",
    "import seaborn as sns\n",
    "\n",
    "\n",
    "import matplotlib.pyplot as plt\n",
    "%matplotlib widget\n",
    "plt.rcParams['figure.figsize'] = (12,8)\n",
    "# plt.rcParams[\"image.cmap\"] = \"Dark2\"\n",
    "# plt.rcParams['axes.prop_cycle'] = plt.cycler(color=plt.cm.Dark2.colors)\n",
    "plt.rcParams[\"image.cmap\"] = \"tab10\"\n",
    "plt.rcParams['axes.prop_cycle'] = plt.cycler(color=plt.cm.tab10.colors)\n",
    "fs_label = 16\n",
    "parameters = {\n",
    "                'axes.labelsize': fs_label,\n",
    "                'axes.titlesize': fs_label+4,\n",
    "                'xtick.labelsize': fs_label,\n",
    "                'ytick.labelsize': fs_label, \n",
    "                'legend.fontsize': fs_label, \n",
    "                'lines.markersize': 10,\n",
    "                'lines.linewidth': 3\n",
    "             }\n",
    "plt.rcParams.update(parameters)\n",
    "%matplotlib widget  \n",
    "# plt.style.use('ggplot')\n",
    "import matplotlib.colors as colors\n",
    "# cmap = plt.cm.get_cmap('Dark2',len(ageGroups))\n",
    "from matplotlib import cm # Colormaps\n",
    "\n",
    "import locale\n",
    "import matplotlib.dates as mdates\n",
    "locale.setlocale(locale.LC_TIME,\"Danish\")\n",
    "# ax = plt.gca()\n",
    "# ax1.xaxis.set_major_formatter(mdates.DateFormatter('%b\\n%Y'))\n",
    "# # ax.xaxis.set_major_formatter(mdates.DateFormatter('%Y \\n %B'))\n",
    "\n",
    "\n",
    "import os\n",
    "# import csv\n",
    "import math\n",
    "\n",
    "\n",
    "from datetime import date,datetime\n",
    "\n",
    "\n",
    "saveFigures = True\n",
    "# saveFigures = False\n",
    "print('saveFigures is set to: '+str(saveFigures))\n",
    "\n",
    "print('Done loading packages')\n",
    "\n",
    "def rnMean(data,meanWidth):\n",
    "    return np.convolve(data, np.ones(meanWidth)/meanWidth, mode='valid')\n",
    "def rnTime(t,meanWidth):\n",
    "    return t[math.floor(meanWidth/2):-math.ceil(meanWidth/2)+1]"
   ]
  },
  {
   "cell_type": "code",
   "execution_count": 2,
   "metadata": {
    "tags": []
   },
   "outputs": [],
   "source": [
    "df = pd.read_csv('variants_data.csv')\n",
    "\n",
    "# Get dates from year+week info.\n",
    "allYears = df.year_week.apply(lambda x: x[:4])\n",
    "allWeeks = df.year_week.apply(lambda x: x[5:])\n",
    "\n",
    "df['Dates'] = df.apply(lambda x: date.fromisocalendar(int(x['year_week'][:4]),int(x['year_week'][5:]),1),axis=1)\n",
    "\n",
    "# # df['Dates'] = pd.to_datetime(df.year_week + '1',format='%Y-%W%w') # For monday\n",
    "# # df['Dates'] = pd.to_datetime(df.year_week + '0',format='%Y-%W%w') # For sunday\n",
    "\n",
    "# # Since datetimes are stupid, week 53 and week 01 are the same, so instead 1 must be subtracted, to have week 52 and 00 \n",
    "\n",
    "# # Nope, easy hack: Subtract 7 days from all 2020 dates:\n",
    "# # df.loc[df['Dates'] < np.datetime64('2021-01-01'),'Dates'] = df[df['Dates'] < np.datetime64('2021-01-01')].Dates - np.timedelta64(7,'D')\n",
    "\n",
    "# # Actually no, since 2020-53 gave a 2021 date. I could hack my way out of it and manually fix it, but... yeah...\n",
    "# # Long way:\n",
    "# allYears = df.year_week.apply(lambda x: x[:5]) \n",
    "# allWeeks = (pd.to_numeric(df.year_week.apply(lambda x: x[5:]))-1).apply(lambda x: '{0:0>2}'.format(x))\n",
    "# fullYearWeek = allYears + allWeeks\n",
    "# # df['Dates']  = pd.to_datetime(fullYearWeek + '1',format='%Y-%W%w')"
   ]
  },
  {
   "cell_type": "code",
   "execution_count": 3,
   "metadata": {},
   "outputs": [
    {
     "output_type": "execute_result",
     "data": {
      "text/plain": [
       "Timestamp('2021-01-04 00:00:00')"
      ]
     },
     "metadata": {},
     "execution_count": 3
    }
   ],
   "source": [
    "pd.to_datetime('2020-53'+ '1',format='%Y-%W%w') \n",
    "\n",
    "# df.year_week.unique()\n",
    "# fullYearWeek.unique()"
   ]
  },
  {
   "cell_type": "code",
   "execution_count": 4,
   "metadata": {},
   "outputs": [
    {
     "output_type": "execute_result",
     "data": {
      "text/plain": [
       "array(['Austria', 'Belgium', 'Bulgaria', 'Croatia', 'Cyprus', 'Czechia',\n",
       "       'Denmark', 'Estonia', 'Finland', 'France', 'Germany', 'Greece',\n",
       "       'Hungary', 'Iceland', 'Ireland', 'Italy', 'Latvia',\n",
       "       'Liechtenstein', 'Lithuania', 'Luxembourg', 'Malta', 'Netherlands',\n",
       "       'Norway', 'Poland', 'Portugal', 'Romania', 'Slovakia', 'Slovenia',\n",
       "       'Spain', 'Sweden'], dtype=object)"
      ]
     },
     "metadata": {},
     "execution_count": 4
    }
   ],
   "source": [
    "df.country.unique()"
   ]
  },
  {
   "cell_type": "code",
   "execution_count": 5,
   "metadata": {},
   "outputs": [
    {
     "output_type": "execute_result",
     "data": {
      "text/plain": [
       "Index(['country', 'country_code', 'year_week', 'source', 'new_cases',\n",
       "       'number_sequenced', 'percent_cases_sequenced', 'valid_denominator',\n",
       "       'variant', 'number_detections_variant', 'percent_variant', 'Dates'],\n",
       "      dtype='object')"
      ]
     },
     "metadata": {},
     "execution_count": 5
    }
   ],
   "source": [
    "curdf = df[df.country == 'Denmark']\n",
    "# curdf = df[df.country == 'Sweden']\n",
    "# curdf.tail()\n",
    "# vardf = curdf[curdf.variant == 'B.1.617.2']\n",
    "vardf = curdf[curdf.variant == 'B.1.1.7']\n",
    "vardf.tail()\n",
    "\n",
    "gisdf = vardf[vardf.source == 'GISAID']\n",
    "tesdf = vardf[vardf.source == 'TESSy']\n",
    "gisdf.columns"
   ]
  },
  {
   "cell_type": "code",
   "execution_count": 6,
   "metadata": {},
   "outputs": [],
   "source": [
    "# vardf[['year_week','Dates']]"
   ]
  },
  {
   "cell_type": "code",
   "execution_count": 7,
   "metadata": {},
   "outputs": [
    {
     "output_type": "display_data",
     "data": {
      "text/plain": "Canvas(toolbar=Toolbar(toolitems=[('Home', 'Reset original view', 'home', 'home'), ('Back', 'Back to previous …",
      "application/vnd.jupyter.widget-view+json": {
       "version_major": 2,
       "version_minor": 0,
       "model_id": "0e5fe8cac7cc469e8e4fc49dc7bdcd5d"
      }
     },
     "metadata": {}
    }
   ],
   "source": [
    "fig,ax1 = plt.subplots()\n",
    "\n",
    "ax1.plot(gisdf.Dates,gisdf.percent_variant,'*-')\n",
    "ax1.plot(tesdf.Dates,tesdf.percent_variant,'*-')\n",
    "ax1.xaxis.set_major_formatter(mdates.DateFormatter('%b\\n%Y'))\n",
    "plt.tight_layout()"
   ]
  },
  {
   "cell_type": "code",
   "execution_count": 50,
   "metadata": {},
   "outputs": [
    {
     "output_type": "display_data",
     "data": {
      "text/plain": "Canvas(toolbar=Toolbar(toolitems=[('Home', 'Reset original view', 'home', 'home'), ('Back', 'Back to previous …",
      "application/vnd.jupyter.widget-view+json": {
       "version_major": 2,
       "version_minor": 0,
       "model_id": "c5c06081d80849129fab1746523dd071"
      }
     },
     "metadata": {}
    },
    {
     "output_type": "stream",
     "name": "stderr",
     "text": [
      "No handles with labels found to put in legend.\n"
     ]
    }
   ],
   "source": [
    "# fig,(ax1,ax2) = plt.subplots(2,1,sharex=True)\n",
    "fig,ax1 = plt.subplots()\n",
    "\n",
    "# ax1.fill_between(gisdf.Dates,gisdf.number_sequenced,gisdf.number_detections_variant,color='k')\n",
    "# ax1.fill_between(gisdf.Dates,gisdf.number_detections_variant,label='B.1.1.7 (GISAID)',alpha=0.5 )\n",
    "# ax1.fill_between(tesdf.Dates,tesdf.number_sequenced,tesdf.number_detections_variant,color='k')\n",
    "# ax1.fill_between(tesdf.Dates,tesdf.number_detections_variant,label='B.1.1.7 (TESSy)',alpha=0.5 )\n",
    "\n",
    "ax1.plot(gisdf.Dates,gisdf.number_detections_variant,'*:')\n",
    "ax1.plot(gisdf.Dates,gisdf.number_sequenced,'-')\n",
    "ax1.plot(tesdf.Dates,tesdf.number_detections_variant,'*:')\n",
    "ax1.plot(tesdf.Dates,tesdf.number_sequenced,'-')\n",
    "ax1.legend(loc='upper left')\n",
    "\n",
    "# ax1.plot(gisdf.Dates,gisdf.number_sequenced,'*-')\n",
    "# ax1.plot(gisdf.Dates,gisdf.number_detections_variant,'*-')\n",
    "# ax1.plot(tesdf.Dates,tesdf.number_detections_variant,'*-')\n",
    "\n",
    "# ax2.plot(gisdf.Dates,gisdf.percent_variant,'*-')\n",
    "# ax2.plot(tesdf.Dates,tesdf.percent_variant,'*-')\n",
    "ax1.xaxis.set_major_formatter(mdates.DateFormatter('%b\\n%Y'))\n",
    "plt.tight_layout()"
   ]
  },
  {
   "source": [
    "# Add counts from GISAID and TESSy\n",
    "NOTE: THIS IS A BAD IDEA! APPARENTLY THE DATA FROM THE TWO SOURCES OVERLAP!"
   ],
   "cell_type": "markdown",
   "metadata": {}
  },
  {
   "cell_type": "code",
   "execution_count": 24,
   "metadata": {},
   "outputs": [],
   "source": [
    "# newdf = pd.DataFrame(columns=df.columns)\n",
    "# newdf"
   ]
  },
  {
   "cell_type": "code",
   "execution_count": 23,
   "metadata": {},
   "outputs": [],
   "source": [
    "# # curCC = 'DK'\n",
    "# # curVar = 'B.1.1.7'\n",
    "# # curDate = df.Dates.iloc[-1]\n",
    "\n",
    "# for curCC in df.country_code.unique():\n",
    "#     for curVar in df.variant.unique():\n",
    "#         for curDate in df.Dates.unique():\n",
    "\n",
    "\n",
    "#             allRows = df[(df.country_code == curCC) & (df.variant == curVar) & (df.Dates == curDate)]\n",
    "\n",
    "#             # print(allRows)\n",
    "#             if len(allRows) > 0:\n",
    "#                 firstRow = allRows.iloc[0]\n",
    "#                 newRow = firstRow.copy()\n",
    "#                 newRow.number_sequenced = allRows.number_sequenced.sum()\n",
    "#                 newRow.number_detections_variant = allRows.number_detections_variant.sum() \n",
    "\n",
    "#                 newRow.percent_cases_sequenced = np.divide(newRow.number_sequenced,newRow.new_cases)\n",
    "#                 newRow.percent_variant = np.divide(newRow.number_detections_variant,newRow.number_sequenced)\n",
    "\n",
    "#                 newdf = newdf.append(newRow,ignore_index=True)"
   ]
  },
  {
   "cell_type": "code",
   "execution_count": 22,
   "metadata": {},
   "outputs": [],
   "source": [
    "# curdf = newdf[newdf.country == 'Denmark']\n",
    "# # curdf = df[df.country == 'Sweden']\n",
    "# # curdf.tail()\n",
    "# # vardf = curdf[curdf.variant == 'B.1.617.2']\n",
    "# vardf = curdf[curdf.variant == 'B.1.1.7']\n",
    "# vardf.tail()\n"
   ]
  },
  {
   "cell_type": "code",
   "execution_count": 21,
   "metadata": {},
   "outputs": [],
   "source": [
    "# fig,(ax1,ax2) = plt.subplots(2,1,sharex=True)\n",
    "\n",
    "# ax1.plot(gisdf.Dates,gisdf.number_detections_variant,'*-')\n",
    "# ax1.plot(tesdf.Dates,tesdf.number_detections_variant,'*-')\n",
    "# # ax1.plot(tesdf.Dates,tesdf.number_detections_variant+gisdf.number_detections_variant,'k')\n",
    "# ax1.plot(vardf.Dates,vardf.number_detections_variant,'*-')\n",
    "\n",
    "# ax2.plot(gisdf.Dates,gisdf.percent_variant,'*-')\n",
    "# ax2.plot(tesdf.Dates,tesdf.percent_variant,'*-')\n",
    "# ax2.plot(vardf.Dates,100*vardf.percent_variant,'*-')\n",
    "# ax2.xaxis.set_major_formatter(mdates.DateFormatter('%b\\n%Y'))\n",
    "# plt.tight_layout()"
   ]
  }
 ]
}