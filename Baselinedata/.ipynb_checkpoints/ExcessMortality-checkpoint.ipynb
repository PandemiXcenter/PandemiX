{
 "cells": [
  {
   "cell_type": "code",
   "execution_count": 1,
   "metadata": {},
   "outputs": [
    {
     "name": "stdout",
     "output_type": "stream",
     "text": [
      "saveFigures is set to: True\n",
      "Done loading packages\n"
     ]
    }
   ],
   "source": [
    "%matplotlib widget\n",
    "# Load packages and settings\n",
    "import numpy as np\n",
    "import pandas as pd\n",
    "pd.set_option('display.max_rows', 500)\n",
    "pd.set_option('display.min_rows', 50)\n",
    "import seaborn as sns\n",
    "\n",
    "\n",
    "import matplotlib.pyplot as plt\n",
    "\n",
    "plt.rcParams['figure.figsize'] = (12,8)\n",
    "plt.rcParams[\"image.cmap\"] = \"tab10\"\n",
    "plt.rcParams['axes.prop_cycle'] = plt.cycler(color=plt.cm.tab10.colors)\n",
    "fs_label = 16\n",
    "parameters = {\n",
    "                'axes.labelsize': fs_label,\n",
    "                'axes.titlesize': fs_label+4,\n",
    "                'xtick.labelsize': fs_label,\n",
    "                'ytick.labelsize': fs_label, \n",
    "                'legend.fontsize': fs_label, \n",
    "                'lines.markersize': 10,\n",
    "                'lines.linewidth': 3\n",
    "             }\n",
    "plt.rcParams.update(parameters)\n",
    "\n",
    "from matplotlib import cm # Colormaps\n",
    "import matplotlib.colors as colors\n",
    "# cmap = plt.cm.get_cmap('Dark2',len(ageGroups))\n",
    "\n",
    "import locale\n",
    "import matplotlib.dates as mdates\n",
    "locale.setlocale(locale.LC_TIME,\"Danish\")\n",
    "# ax1.xaxis.set_major_formatter(mdates.DateFormatter('%b\\n%Y'))\n",
    "# ax1.spines['top'].set_visible(False) \n",
    "\n",
    "import os\n",
    "# import csv\n",
    "import math\n",
    "\n",
    "from datetime import date\n",
    "# import datetime\n",
    "\n",
    "saveFigures = True\n",
    "# saveFigures = False\n",
    "print('saveFigures is set to: '+str(saveFigures))\n",
    "\n",
    "print('Done loading packages')\n",
    "\n",
    "# Define running mean functions\n",
    "def rnMean(data,meanWidth):\n",
    "    return np.convolve(data, np.ones(meanWidth)/meanWidth, mode='valid')\n",
    "def rnTime(t,meanWidth):\n",
    "    return t[math.floor(meanWidth/2):-math.ceil(meanWidth/2)+1]"
   ]
  },
  {
   "cell_type": "code",
   "execution_count": 2,
   "metadata": {},
   "outputs": [],
   "source": [
    "# Define paths\n",
    "# rootdir_data = os.getcwd() +\"\\\\..\\\\DanskeData\\\\\" \n",
    "# rootdir_data = \"D:\\Pandemix\\Github\\DanskeData\\\\\"\n",
    "# rootdir_data = \"C:\\\\Users\\\\rakrpe\\\\OneDrive - Roskilde Universitet\\\\Documents\\\\PandemiX\\\\GithubRepos\\\\PandemiX\\\\DanskeData\\\\\"\n",
    "rootdir_data = \"C:/Users/rakrpe/GithubRepos/PandemiX/DanskeData/\"\n",
    "\n",
    "path_data = rootdir_data + \"ssi_data/\"\n",
    "path_dash = rootdir_data + \"ssi_dashboard/\"\n",
    "path_vacc = rootdir_data + \"ssi_vacc/\"\n",
    "path_figs = os.getcwd() +\"/../Figures/\" "
   ]
  },
  {
   "cell_type": "code",
   "execution_count": 3,
   "metadata": {},
   "outputs": [
    {
     "name": "stdout",
     "output_type": "stream",
     "text": [
      "Index(['YoDi', 'WoDi', 'group', 'nb', 'nbc', 'Pnb', 'country', 'YearWeek',\n",
      "       'Date'],\n",
      "      dtype='object')\n",
      "['00to19' '20to39' '40to49' '50to54' '55to59' '60to64' '65to69' '70to74'\n",
      " '75to79' '80to84' '85to89' '90to94' '95P' 'Total']\n"
     ]
    },
    {
     "data": {
      "text/html": [
       "<div>\n",
       "<style scoped>\n",
       "    .dataframe tbody tr th:only-of-type {\n",
       "        vertical-align: middle;\n",
       "    }\n",
       "\n",
       "    .dataframe tbody tr th {\n",
       "        vertical-align: top;\n",
       "    }\n",
       "\n",
       "    .dataframe thead th {\n",
       "        text-align: right;\n",
       "    }\n",
       "</style>\n",
       "<table border=\"1\" class=\"dataframe\">\n",
       "  <thead>\n",
       "    <tr style=\"text-align: right;\">\n",
       "      <th></th>\n",
       "      <th>YoDi</th>\n",
       "      <th>WoDi</th>\n",
       "      <th>group</th>\n",
       "      <th>nb</th>\n",
       "      <th>nbc</th>\n",
       "      <th>Pnb</th>\n",
       "      <th>country</th>\n",
       "      <th>YearWeek</th>\n",
       "      <th>Date</th>\n",
       "    </tr>\n",
       "  </thead>\n",
       "  <tbody>\n",
       "    <tr>\n",
       "      <th>1591</th>\n",
       "      <td>2022</td>\n",
       "      <td>5</td>\n",
       "      <td>Total</td>\n",
       "      <td>1247</td>\n",
       "      <td>1281.809</td>\n",
       "      <td>1147.558</td>\n",
       "      <td>Denmark</td>\n",
       "      <td>202205</td>\n",
       "      <td>2022-01-31</td>\n",
       "    </tr>\n",
       "    <tr>\n",
       "      <th>1592</th>\n",
       "      <td>2022</td>\n",
       "      <td>6</td>\n",
       "      <td>Total</td>\n",
       "      <td>1309</td>\n",
       "      <td>1358.329</td>\n",
       "      <td>1148.153</td>\n",
       "      <td>Denmark</td>\n",
       "      <td>202206</td>\n",
       "      <td>2022-02-07</td>\n",
       "    </tr>\n",
       "    <tr>\n",
       "      <th>1593</th>\n",
       "      <td>2022</td>\n",
       "      <td>7</td>\n",
       "      <td>Total</td>\n",
       "      <td>1291</td>\n",
       "      <td>1344.299</td>\n",
       "      <td>1148.103</td>\n",
       "      <td>Denmark</td>\n",
       "      <td>202207</td>\n",
       "      <td>2022-02-14</td>\n",
       "    </tr>\n",
       "    <tr>\n",
       "      <th>1594</th>\n",
       "      <td>2022</td>\n",
       "      <td>8</td>\n",
       "      <td>Total</td>\n",
       "      <td>1278</td>\n",
       "      <td>1340.986</td>\n",
       "      <td>1147.413</td>\n",
       "      <td>Denmark</td>\n",
       "      <td>202208</td>\n",
       "      <td>2022-02-21</td>\n",
       "    </tr>\n",
       "    <tr>\n",
       "      <th>1595</th>\n",
       "      <td>2022</td>\n",
       "      <td>9</td>\n",
       "      <td>Total</td>\n",
       "      <td>1117</td>\n",
       "      <td>1216.838</td>\n",
       "      <td>1146.095</td>\n",
       "      <td>Denmark</td>\n",
       "      <td>202209</td>\n",
       "      <td>2022-02-28</td>\n",
       "    </tr>\n",
       "  </tbody>\n",
       "</table>\n",
       "</div>"
      ],
      "text/plain": [
       "      YoDi  WoDi  group    nb       nbc       Pnb  country YearWeek       Date\n",
       "1591  2022     5  Total  1247  1281.809  1147.558  Denmark   202205 2022-01-31\n",
       "1592  2022     6  Total  1309  1358.329  1148.153  Denmark   202206 2022-02-07\n",
       "1593  2022     7  Total  1291  1344.299  1148.103  Denmark   202207 2022-02-14\n",
       "1594  2022     8  Total  1278  1340.986  1147.413  Denmark   202208 2022-02-21\n",
       "1595  2022     9  Total  1117  1216.838  1146.095  Denmark   202209 2022-02-28"
      ]
     },
     "execution_count": 3,
     "metadata": {},
     "output_type": "execute_result"
    }
   ],
   "source": [
    "# Get all cause from MOMO\n",
    "# df_momo = pd.read_csv('MOMOdata_ny.csv',delimiter=';')\n",
    "# df_momo = pd.read_csv('DKMOMO-2022-5.csv',delimiter=';')\n",
    "# df_momo = pd.read_csv('DKMOMO-2022-6.csv',delimiter=';')\n",
    "# df_momo = pd.read_csv('DKMOMO-2022-7.csv',delimiter=';')\n",
    "# df_momo = pd.read_csv('DKMOMO-2022-8.csv',delimiter=';')\n",
    "df_momo = pd.read_csv('DKMOMO-2022-9.csv',delimiter=';')\n",
    "df_momo['nbc'] = pd.to_numeric(df_momo['nbc'].str.replace(',','.'))\n",
    "df_momo['Pnb'] = pd.to_numeric(df_momo['Pnb'].str.replace(',','.'))\n",
    "df_momo['YearWeek'] = df_momo.YoDi.astype(str) + df_momo.WoDi.apply(lambda x: '{0:0>2}'.format(x))\n",
    "df_momo['Date'] = pd.to_datetime(df_momo.YearWeek.astype(str)+'1',format='%G%V%u')\n",
    "print(df_momo.columns)\n",
    "allAges = df_momo.group.unique()\n",
    "print(allAges)\n",
    "df_momo.tail()"
   ]
  },
  {
   "cell_type": "code",
   "execution_count": 4,
   "metadata": {},
   "outputs": [],
   "source": [
    "df_dkstat = pd.read_csv('DK_Stat_Deaths.csv',encoding='latin1',delimiter=';')\n",
    "curYearWeek = df_dkstat.iloc[:-3:3,0]\n",
    "df_dkstat = df_dkstat.iloc[2:-1:3,3:]\n",
    "\n",
    "df_temp = pd.DataFrame()\n",
    "df_temp['Week'] = curYearWeek.values\n",
    "curYears = df_temp['Week'].apply(lambda x: x[:4]).astype(int)\n",
    "curWeeks = df_temp['Week'].apply(lambda x: x[5:]).astype(int)\n",
    "dkstatDates = pd.to_datetime((curYears*100+curWeeks).astype(str)+'1',format='%G%V%u')\n",
    "df_dkstat = df_dkstat.transpose()\n",
    "df_dkstat.columns =list(dkstatDates)\n",
    "df_dkstat = df_dkstat.iloc[1:]\n",
    "# Function for getting all cause mortality in a specific range\n",
    "def getAllCause(minAge=0,maxAge=125):\n",
    "\n",
    "    firstAges = np.array([int(x.split('-')[0]) for x in df_dkstat.index[:-1]])\n",
    "    lastAges = np.array([int(x.split('-')[1].split(' ')[0]) for x in df_dkstat.index[:-1]])\n",
    "\n",
    "    firstIndex = np.where(firstAges == minAge)[0][0]\n",
    "    if (lastAges == maxAge).any():\n",
    "        lastIndex = np.where(lastAges == maxAge)[0][0]\n",
    "    else:\n",
    "        lastIndex = len(df_dkstat)\n",
    "\n",
    "    curSum = df_dkstat.iloc[firstIndex:lastIndex].sum()\n",
    "    curDates = curSum.index\n",
    "    curCount = curSum.values\n",
    "\n",
    "    return curCount,curDates\n",
    "\n",
    "getAllCause(0,5)\n",
    "# getAllCause(4,20)\n",
    "df_dkstat.iloc[0]\n",
    "dkstatTot = df_dkstat.sum()\n",
    "dkstatDates = pd.to_datetime(df_dkstat.columns)"
   ]
  },
  {
   "cell_type": "code",
   "execution_count": 5,
   "metadata": {},
   "outputs": [],
   "source": [
    "df_total = df_momo[df_momo.group=='Total']"
   ]
  },
  {
   "cell_type": "code",
   "execution_count": 6,
   "metadata": {},
   "outputs": [
    {
     "data": {
      "application/vnd.jupyter.widget-view+json": {
       "model_id": "8f0899396a7e47b09444e2c5ee629d3c",
       "version_major": 2,
       "version_minor": 0
      },
      "text/plain": [
       "Canvas(toolbar=Toolbar(toolitems=[('Home', 'Reset original view', 'home', 'home'), ('Back', 'Back to previous …"
      ]
     },
     "metadata": {},
     "output_type": "display_data"
    },
    {
     "data": {
      "text/plain": [
       "(737425.0, 738156.0)"
      ]
     },
     "execution_count": 6,
     "metadata": {},
     "output_type": "execute_result"
    }
   ],
   "source": [
    "fig,(ax1,ax2) = plt.subplots(2,1,sharex=True)\n",
    "\n",
    "ax1.plot(df_total.Date,df_total.nb)\n",
    "ax1.plot(dkstatDates,dkstatTot,':')\n",
    "ax1.plot(df_total.Date,df_total.nbc)\n",
    "ax1.plot(df_total.Date,df_total.Pnb)\n",
    "ax2.plot(df_total.Date,df_total.nbc-df_total.Pnb)\n",
    "ax2.grid()\n",
    "ax2.set_xlim(left=np.datetime64('2020-01'),right=np.datetime64('2022-01'))"
   ]
  },
  {
   "cell_type": "code",
   "execution_count": null,
   "metadata": {},
   "outputs": [],
   "source": []
  },
  {
   "cell_type": "code",
   "execution_count": null,
   "metadata": {},
   "outputs": [],
   "source": []
  }
 ],
 "metadata": {
  "interpreter": {
   "hash": "fa4fd4c171dfff727f57571b9184796cc34ccf93547902650eb89687041f7ee2"
  },
  "kernelspec": {
   "display_name": "Python 3",
   "language": "python",
   "name": "python3"
  },
  "language_info": {
   "codemirror_mode": {
    "name": "ipython",
    "version": 3
   },
   "file_extension": ".py",
   "mimetype": "text/x-python",
   "name": "python",
   "nbconvert_exporter": "python",
   "pygments_lexer": "ipython3",
   "version": "3.8.3"
  }
 },
 "nbformat": 4,
 "nbformat_minor": 2
}
