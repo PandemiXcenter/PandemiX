{
 "cells": [
  {
   "cell_type": "code",
   "execution_count": 2,
   "metadata": {},
   "outputs": [
    {
     "name": "stdout",
     "output_type": "stream",
     "text": [
      "saveFigures is set to: True\n",
      "Done loading packages\n"
     ]
    }
   ],
   "source": [
    "\r\n",
    "import numpy as np\r\n",
    "import pandas as pd\r\n",
    "pd.set_option('display.max_rows', 500)\r\n",
    "pd.set_option('display.min_rows', 50)\r\n",
    "import seaborn as sns\r\n",
    "\r\n",
    "\r\n",
    "import matplotlib.pyplot as plt\r\n",
    "%matplotlib widget\r\n",
    "plt.rcParams['figure.figsize'] = (12,8)\r\n",
    "# plt.rcParams[\"image.cmap\"] = \"Dark2\"\r\n",
    "# plt.rcParams['axes.prop_cycle'] = plt.cycler(color=plt.cm.Dark2.colors)\r\n",
    "plt.rcParams[\"image.cmap\"] = \"tab10\"\r\n",
    "plt.rcParams['axes.prop_cycle'] = plt.cycler(color=plt.cm.tab10.colors)\r\n",
    "fs_label = 16\r\n",
    "parameters = {\r\n",
    "                'axes.labelsize': fs_label,\r\n",
    "                'axes.titlesize': fs_label+4,\r\n",
    "                'xtick.labelsize': fs_label,\r\n",
    "                'ytick.labelsize': fs_label, \r\n",
    "                'legend.fontsize': fs_label, \r\n",
    "                'lines.markersize': 10,\r\n",
    "                'lines.linewidth': 3\r\n",
    "             }\r\n",
    "plt.rcParams.update(parameters)\r\n",
    "%matplotlib widget  \r\n",
    "# plt.style.use('ggplot')\r\n",
    "import matplotlib.colors as colors\r\n",
    "# cmap = plt.cm.get_cmap('Dark2',len(ageGroups))\r\n",
    "from matplotlib import cm # Colormaps\r\n",
    "\r\n",
    "import locale\r\n",
    "import matplotlib.dates as mdates\r\n",
    "locale.setlocale(locale.LC_TIME,\"Danish\")\r\n",
    "# ax = plt.gca()\r\n",
    "# ax1.xaxis.set_major_formatter(mdates.DateFormatter('%b\\n%Y'))\r\n",
    "# # ax.xaxis.set_major_formatter(mdates.DateFormatter('%Y \\n %B'))\r\n",
    "\r\n",
    "\r\n",
    "import os\r\n",
    "# import csv\r\n",
    "import math\r\n",
    "\r\n",
    "\r\n",
    "from datetime import date,datetime\r\n",
    "\r\n",
    "\r\n",
    "saveFigures = True\r\n",
    "# saveFigures = False\r\n",
    "print('saveFigures is set to: '+str(saveFigures))\r\n",
    "\r\n",
    "print('Done loading packages')\r\n",
    "\r\n",
    "def rnMean(data,meanWidth):\r\n",
    "    return np.convolve(data, np.ones(meanWidth)/meanWidth, mode='valid')\r\n",
    "def rnTime(t,meanWidth):\r\n",
    "    return t[math.floor(meanWidth/2):-math.ceil(meanWidth/2)+1]"
   ]
  },
  {
   "cell_type": "code",
   "execution_count": 3,
   "metadata": {},
   "outputs": [],
   "source": [
    "df = pd.read_excel('SSI_delta_2021_07_02.xlsx')"
   ]
  },
  {
   "cell_type": "code",
   "execution_count": 15,
   "metadata": {},
   "outputs": [
    {
     "name": "stdout",
     "output_type": "stream",
     "text": [
      "Index(['Prøvedato',\n",
      "       'Positive PCRtest, hvor der er foretaget Variant-PCR analyse',\n",
      "       'Formodet deltavariant ', 'Inkonklusiv', 'Andre varianter',\n",
      "       'Deltavariant i pct. af Variant-PCR test'],\n",
      "      dtype='object')\n"
     ]
    }
   ],
   "source": [
    "print(df.columns)\r\n",
    "curDates = pd.to_datetime(df.iloc[:,0])\r\n",
    "numTest = df.iloc[:,1]\r\n",
    "numDelta = df.iloc[:,2]\r\n",
    "numInkon = df.iloc[:,3]\r\n",
    "numOther = df.iloc[:,4]\r\n",
    "percDelta = df.iloc[:,5]"
   ]
  },
  {
   "cell_type": "code",
   "execution_count": 60,
   "metadata": {},
   "outputs": [
    {
     "data": {
      "application/vnd.jupyter.widget-view+json": {
       "model_id": "17fdc7b43d064d8c8a858315598b9293",
       "version_major": 2,
       "version_minor": 0
      },
      "text/plain": [
       "Canvas(toolbar=Toolbar(toolitems=[('Home', 'Reset original view', 'home', 'home'), ('Back', 'Back to previous …"
      ]
     },
     "metadata": {},
     "output_type": "display_data"
    }
   ],
   "source": [
    "fig,(ax1,ax2) = plt.subplots(2,1,sharex=True)\r\n",
    "\r\n",
    "# ax1.plot(curDates,numTest,'k',label='Antal test')\r\n",
    "ax1.fill_between(curDates,numDelta,color='orange',label='Delta-variant',hatch=\"//\",edgecolor='red')\r\n",
    "ax1.fill_between(curDates,numDelta+numInkon,numDelta,color='grey',label='Inkonklusiv variant',hatch=\"XX\",edgecolor='black')\r\n",
    "ax1.fill_between(curDates,numOther+numDelta+numInkon,numDelta+numInkon,color='blue',label='Andre varianter',hatch=\"\\\\\\\\\",edgecolor='darkblue')\r\n",
    "\r\n",
    "\r\n",
    "ax2.fill_between(curDates,100*np.divide(numDelta,numTest),color='orange',label='Delta-variant',hatch=\"//\",edgecolor='red')\r\n",
    "ax2.fill_between(curDates,100*np.divide(numDelta+numInkon,numTest),100*np.divide(numDelta,numTest),color='grey',label='Inkonklusiv variant',hatch=\"XX\",edgecolor='black')\r\n",
    "ax2.fill_between(curDates,100*np.divide(numOther+numDelta+numInkon,numTest),100*np.divide(numDelta+numInkon,numTest),color='blue',label='Andre varianter',hatch=\"\\\\\\\\\",edgecolor='darkblue')\r\n",
    "\r\n",
    "# Draw weekends\r\n",
    "firstSunday = np.datetime64('2021-05-30')\r\n",
    "numWeeks = 10\r\n",
    "for k in range(0,numWeeks):\r\n",
    "    curSunday = firstSunday + np.timedelta64(7*k,'D')\r\n",
    "    ax1.axvspan(curSunday-np.timedelta64(1,'D')-np.timedelta64(12,'h'),curSunday+np.timedelta64(12,'h'),facecolor='lightgrey',zorder=-1)\r\n",
    "    ax2.axvspan(curSunday-np.timedelta64(1,'D')-np.timedelta64(12,'h'),curSunday+np.timedelta64(12,'h'),facecolor='lightgrey',zorder=-1)\r\n",
    "ax1.axvspan(curSunday-np.timedelta64(1,'D')-np.timedelta64(12,'h'),curSunday+np.timedelta64(12,'h'),facecolor='lightgrey',label='Weekend')\r\n",
    "\r\n",
    "\r\n",
    "\r\n",
    "ax1.set_ylim(bottom=0)\r\n",
    "ax2.set_ylim(bottom=0,top=100)\r\n",
    "\r\n",
    "ax2.set_yticks([0,25,50,75,100])\r\n",
    "ax2.grid()\r\n",
    "\r\n",
    "ax1.spines[\"right\"].set_visible(False)\r\n",
    "ax1.spines[\"top\"].set_visible(False)\r\n",
    "ax2.spines[\"right\"].set_visible(False)\r\n",
    "ax2.spines[\"top\"].set_visible(False)\r\n",
    "ax1.xaxis.set_major_formatter(mdates.DateFormatter('%d\\n%B'))\r\n",
    "ax1.legend()\r\n",
    "\r\n",
    "# firstDate = curDates.min() -  np.timedelta64(1,'D')\r\n",
    "firstDate = curDates.min() \r\n",
    "# lastDate = np.datetime64(datetime.today()) + np.timedelta64(1,'D')\r\n",
    "lastDate = curDates.max() + np.timedelta64(1,'D')\r\n",
    "\r\n",
    "\r\n",
    "ax1.set_ylabel('Antal')\r\n",
    "ax2.set_ylabel('Af alle variant-undersøgte tests [%]')\r\n",
    "\r\n",
    "ax1.set_xlim([firstDate,lastDate])\r\n",
    "\r\n",
    "plt.tight_layout()"
   ]
  },
  {
   "cell_type": "code",
   "execution_count": 45,
   "metadata": {},
   "outputs": [
    {
     "data": {
      "text/plain": [
       "[<matplotlib.collections.PolyCollection at 0x194ae69e940>,\n",
       " <matplotlib.collections.PolyCollection at 0x194ae700ee0>,\n",
       " <matplotlib.collections.PolyCollection at 0x194ae4d6ee0>,\n",
       " <matplotlib.patches.Polygon at 0x194ae535dc0>,\n",
       " <matplotlib.patches.Polygon at 0x194ae522610>,\n",
       " <matplotlib.patches.Polygon at 0x194ae5229d0>,\n",
       " <matplotlib.patches.Polygon at 0x194ae522d90>,\n",
       " <matplotlib.patches.Polygon at 0x194ae52f190>,\n",
       " <matplotlib.patches.Polygon at 0x194ae52f550>,\n",
       " <matplotlib.patches.Polygon at 0x194ae52f910>,\n",
       " <matplotlib.patches.Polygon at 0x194ae52fcd0>,\n",
       " <matplotlib.patches.Polygon at 0x194ae52ffd0>,\n",
       " <matplotlib.patches.Polygon at 0x194ae539490>,\n",
       " <matplotlib.spines.Spine at 0x194ae4f42e0>,\n",
       " <matplotlib.spines.Spine at 0x194ae4f43d0>,\n",
       " <matplotlib.spines.Spine at 0x194ae4f4490>,\n",
       " <matplotlib.spines.Spine at 0x194ae4f4550>,\n",
       " <matplotlib.axis.XAxis at 0x194ae4d6fd0>,\n",
       " <matplotlib.axis.YAxis at 0x194ae4f48e0>,\n",
       " Text(0.5, 1.0, ''),\n",
       " Text(0.0, 1.0, ''),\n",
       " Text(1.0, 1.0, ''),\n",
       " <matplotlib.patches.Rectangle at 0x194ae4eb040>]"
      ]
     },
     "execution_count": 45,
     "metadata": {},
     "output_type": "execute_result"
    }
   ],
   "source": []
  }
 ],
 "metadata": {
  "interpreter": {
   "hash": "c031fd63bd977d199cd6020c30a19695eacbb638d100e0b8a5ea53080ed74a9a"
  },
  "kernelspec": {
   "display_name": "Python 3.8.8 64-bit ('main': conda)",
   "name": "python3"
  },
  "language_info": {
   "codemirror_mode": {
    "name": "ipython",
    "version": 3
   },
   "file_extension": ".py",
   "mimetype": "text/x-python",
   "name": "python",
   "nbconvert_exporter": "python",
   "pygments_lexer": "ipython3",
   "version": "3.8.8"
  },
  "orig_nbformat": 4
 },
 "nbformat": 4,
 "nbformat_minor": 2
}