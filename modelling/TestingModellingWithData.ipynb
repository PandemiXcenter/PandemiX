{
 "cells": [
  {
   "cell_type": "code",
   "execution_count": 1,
   "metadata": {},
   "outputs": [],
   "source": [
    "# %matplotlib widget\n",
    "\n",
    "import sys\n",
    "sys.path.append(\"./../scripts\")\n",
    "import PandemiXFunctions as pf\n",
    "import PandemiXModelFunctions as pmf\n",
    "\n",
    "import os\n",
    "\n",
    "import numpy as np\n",
    "import pandas as pd\n",
    "\n",
    "import matplotlib.pyplot as plt\n",
    "plt.rcParams['figure.figsize'] = (12,8)\n",
    "plt.rcParams['figure.facecolor'] = (1,1,1,1)\n",
    "plt.rcParams[\"image.cmap\"] = \"tab10\"\n",
    "plt.rcParams['axes.prop_cycle'] = plt.cycler(color=plt.cm.tab10.colors)\n",
    "fs_label = 16\n",
    "parameters = {\n",
    "                'axes.labelsize': fs_label,\n",
    "                'axes.titlesize': fs_label+4,\n",
    "                'xtick.labelsize': fs_label,\n",
    "                'ytick.labelsize': fs_label, \n",
    "                'legend.fontsize': fs_label, \n",
    "                'lines.markersize': 10,\n",
    "                'lines.linewidth': 3\n",
    "             }\n",
    "plt.rcParams.update(parameters)\n",
    "\n",
    "import datetime\n",
    "             \n",
    "from scipy.integrate import cumtrapz\n",
    "# int_I = cumtrapz(np.exp(u_H*ts)*Is,ts, initial=0)\n",
    "# Hs = np.exp(-u_H*ts) * (r_chr*pars_full['gamma']*int_I + k) "
   ]
  },
  {
   "cell_type": "code",
   "execution_count": 2,
   "metadata": {},
   "outputs": [],
   "source": [
    "# Model with explicit symptomatic category and keeping track of whether recovered were found or not\n",
    "modelMeta = ({\n",
    "     'beta * S * (P+A)' : ['S','E1'],\n",
    "     'gamma * E1' : ['E1','E2'],\n",
    "     'gamma * E2' : ['E2','P'],\n",
    "     'gamma * rho * P' : ['P','I'],\n",
    "     'gamma * (1-rho) * P' : ['P','A'],\n",
    "     'nu * A' : ['A',None],\n",
    "     'nu * Q' : ['Q','Rp'],\n",
    "     # 'nu * I' : ['I',None],\n",
    "     'nu * I' : ['I','Rp'], # Assuming that symptomatic cases get tested, but aren't included in Q \n",
    "     'tau * E2' : ['E2','Q'],\n",
    "     'tau * P'  : ['P','Q'],\n",
    "     'tau * A'  : ['A','Q'],\n",
    "     # 'tau * I'  : ['I','Q'], # Testing of symptomatic cases\n",
    "     # 'tauInf * I'  : ['I','Q'], # Testing of symptomatic cases\n",
    "     \n",
    "},\n",
    "['S','E1','E2','P','A','Q','I','Rp'],['beta','gamma','nu','rho','tau'])\n"
   ]
  },
  {
   "cell_type": "code",
   "execution_count": 3,
   "metadata": {},
   "outputs": [],
   "source": [
    "\n",
    "DKpop = 5800000"
   ]
  },
  {
   "cell_type": "code",
   "execution_count": 4,
   "metadata": {},
   "outputs": [],
   "source": [
    "# Define paths\n",
    "rootdir_data = os.getcwd() +\"/../DanskeData/\" \n",
    "\n",
    "path_data = rootdir_data + \"ssi_data/\"\n",
    "path_dash = rootdir_data + \"ssi_dashboard/\"\n",
    "path_vacc = rootdir_data + \"ssi_vacc/\"\n",
    "\n",
    "path_figs = os.getcwd() +\"/../Figures/\" "
   ]
  },
  {
   "cell_type": "code",
   "execution_count": 5,
   "metadata": {},
   "outputs": [],
   "source": [
    "\n",
    "latestsubdir = list(os.walk(path_dash))[0][1][-1]\n",
    "latestdir = path_dash + latestsubdir\n",
    "\n",
    "dfReinfFile = pd.read_csv(latestdir+'/Regionalt_DB/24_reinfektioner_daglig_region.csv',encoding='latin1',delimiter = ';')\n",
    "dfReinfFile['Prøvedato'] = pd.to_datetime(dfReinfFile['Prøvedato'])\n",
    "# groupdf = df.groupby(['Prøvedato').sum()\n",
    "# df_reinf = dfReinfFile[dfReinfFile['Type af tilfælde (reinfektion eller bekræftet tilfælde)'] == '1.Reinfektion'].groupby('Prøvedato').sum()\n",
    "# df_inf = dfReinfFile[dfReinfFile['Type af tilfælde (reinfektion eller bekræftet tilfælde)'] != '1.Reinfektion'].groupby('Prøvedato').sum()\n",
    "df_reinf = dfReinfFile[dfReinfFile['Type af tilfælde (reinfektion eller første infektion)'] == '1.Reinfektion'].groupby('Prøvedato').sum()\n",
    "df_inf = dfReinfFile[dfReinfFile['Type af tilfælde (reinfektion eller første infektion)'] != '1.Reinfektion'].groupby('Prøvedato').sum()\n"
   ]
  },
  {
   "cell_type": "code",
   "execution_count": 6,
   "metadata": {},
   "outputs": [
    {
     "name": "stderr",
     "output_type": "stream",
     "text": [
      "C:\\Users\\Rasmus\\AppData\\Local\\Temp/ipykernel_2568/839705210.py:17: FutureWarning: The default value of regex will change from True to False in a future version. In addition, single character regular expressions will *not* be treated as literal strings when regex=True.\n",
      "  dfTest['Tested_kumulativ'] = pd.to_numeric(dfTest['Tested_kumulativ'].str.replace('.',''))\n",
      "C:\\Users\\Rasmus\\AppData\\Local\\Temp/ipykernel_2568/839705210.py:18: FutureWarning: The default value of regex will change from True to False in a future version. In addition, single character regular expressions will *not* be treated as literal strings when regex=True.\n",
      "  dfTestAG['Tested_kumulativ'] = pd.to_numeric(dfTestAG['Tested_kumulativ'].str.replace('.',''))\n"
     ]
    }
   ],
   "source": [
    "# Although the data is not entirely complete (or trustworthy), Test_pos_over_time.csv and Test_pos_over_time_antigen.csv are deemed to be accurate enough for modelling purposes \n",
    "\n",
    "\n",
    "latestsubdirs_data = np.sort(list(os.walk(path_data))[0][1])[-1]\n",
    "\n",
    "latestdir_data = path_data + latestsubdirs_data\n",
    "dfTest = pd.read_csv(latestdir_data+'/Test_pos_over_time.csv',encoding='latin1',delimiter=';',dtype=str)\n",
    "dfTestAG = pd.read_csv(latestdir_data+'/Test_pos_over_time_antigen.csv',encoding='latin1',delimiter=';',dtype=str)\n",
    "\n",
    "\n",
    "dfTest = dfTest.iloc[:-2]\n",
    "dfTestAG = dfTestAG.iloc[:-2]\n",
    "\n",
    "dfTest['Date'] = pd.to_datetime(dfTest['Date'])\n",
    "dfTestAG['Date'] = pd.to_datetime(dfTestAG['Date'])\n",
    "\n",
    "dfTest['Tested_kumulativ'] = pd.to_numeric(dfTest['Tested_kumulativ'].str.replace('.',''))\n",
    "dfTestAG['Tested_kumulativ'] = pd.to_numeric(dfTestAG['Tested_kumulativ'].str.replace('.',''))"
   ]
  },
  {
   "cell_type": "code",
   "execution_count": 7,
   "metadata": {},
   "outputs": [],
   "source": [
    "firstDate = np.datetime64('2021-11-29')\n",
    "\n",
    "# daysToUse = firstDate + [np.timedelta64(x,'D') for x in np.arange(-10,400)]\n",
    "daysToUse = firstDate + [np.timedelta64(x*7,'D') for x in np.arange(-10,40)]\n",
    "daysToUse\n",
    "\n",
    "dfTestWeek = dfTest[dfTest.Date.isin(daysToUse)]\n",
    "dfTestAGWeek = dfTestAG[dfTestAG.Date.isin(daysToUse)]\n",
    "\n",
    "testPCR = dfTestWeek['Tested_kumulativ'].diff().values\n",
    "testAG = dfTestAGWeek['Tested_kumulativ'].diff().values\n",
    "\n",
    "testTot = testPCR + testAG \n",
    "testTotScaled = testPCR + 0.5*testAG \n",
    "\n"
   ]
  },
  {
   "cell_type": "code",
   "execution_count": 8,
   "metadata": {},
   "outputs": [],
   "source": [
    "# df_inf_week = df_inf[df_inf]\n",
    "totInfDays = df_inf.index \n",
    "totInf = df_inf.infected+df_reinf.infected\n",
    "\n",
    "totInfCumu = totInf.cumsum()\n",
    "totInfWeek = totInfCumu[totInfCumu.index.isin(daysToUse)]\n",
    "\n",
    "infWeek = totInfWeek.diff()\n",
    "\n",
    "# infWeek"
   ]
  },
  {
   "cell_type": "code",
   "execution_count": 9,
   "metadata": {},
   "outputs": [],
   "source": [
    "\n",
    "dataDates = infWeek.index[1:]\n",
    "infWeek = infWeek[1:]\n",
    "testTot = testTot[1:]\n",
    "testTotScaled = testTotScaled[1:]\n",
    "testPCR = testPCR[1:]\n",
    "testAG= testAG[1:]"
   ]
  },
  {
   "cell_type": "code",
   "execution_count": 10,
   "metadata": {},
   "outputs": [],
   "source": [
    "# fig,(ax,ax2) = plt.subplots(2,1)\n",
    "# ax.step(dataDates,testPCR,where='pre')\n",
    "# ax.step(dataDates,testAG,where='pre')\n",
    "# ax.step(dataDates,testTotScaled,where='pre')\n",
    "# ax.step(dataDates,infWeek,where='pre')\n",
    "\n",
    "# ax2.step(dataDates,100*infWeek/testTotScaled,where='pre')\n",
    "\n",
    "# ax.set_ylim(bottom=0)\n",
    "# ax2.set_ylim(bottom=0)"
   ]
  },
  {
   "cell_type": "code",
   "execution_count": 27,
   "metadata": {},
   "outputs": [
    {
     "data": {
      "text/plain": [
       "[<matplotlib.lines.Line2D at 0x25c54895280>]"
      ]
     },
     "execution_count": 27,
     "metadata": {},
     "output_type": "execute_result"
    },
    {
     "data": {
      "image/png": "[encoded data removed]",
      "text/plain": [
       "<Figure size 864x576 with 2 Axes>"
      ]
     },
     "metadata": {},
     "output_type": "display_data"
    }
   ],
   "source": [
    "fig,(ax,ax2) = plt.subplots(2,1)\n",
    "ax.step(dataDates,100*testPCR/(DKpop*7),where='pre')\n",
    "ax.step(dataDates,100*testAG/(DKpop*7),where='pre')\n",
    "ax.step(dataDates,100*testTotScaled/(DKpop*7),where='pre')\n",
    "\n",
    "prevInf = 100*np.cumsum(infWeek)/(DKpop)\n",
    "# ax2.plot(dataDates,prevInf)\n",
    "ax2.plot(dataDates,0.01*(100-prevInf))\n",
    "\n",
    "\n",
    "\n",
    "# ax2.step(dataDates,100*infWeek/testTotScaled,where='pre')\n",
    "\n",
    "# ax.set_ylim(bottom=0)\n",
    "# ax2.set_ylim(bottom=0)\n",
    "\n",
    "# ax.set_ylabel('Average daily share\\nof population [%]')\n",
    "# ax2.set_ylabel('Positive ratio [%]')"
   ]
  },
  {
   "cell_type": "code",
   "execution_count": 21,
   "metadata": {},
   "outputs": [
    {
     "data": {
      "text/plain": [
       "Text(0, 0.5, 'Positive ratio [%]')"
      ]
     },
     "execution_count": 21,
     "metadata": {},
     "output_type": "execute_result"
    },
    {
     "data": {
      "image/png": "[encoded data removed]",
      "text/plain": [
       "<Figure size 864x576 with 2 Axes>"
      ]
     },
     "metadata": {},
     "output_type": "display_data"
    }
   ],
   "source": [
    "fig,(ax,ax2) = plt.subplots(2,1)\n",
    "ax.step(dataDates,100*testPCR/(DKpop*7),where='pre')\n",
    "ax.step(dataDates,100*testAG/(DKpop*7),where='pre')\n",
    "ax.step(dataDates,100*testTotScaled/(DKpop*7),where='pre')\n",
    "ax.step(dataDates,100*infWeek/(DKpop*7),where='pre')\n",
    "ax.step(dataDates,100*(testTotScaled-infWeek)/(DKpop*7),where='pre')\n",
    "\n",
    "ax2.step(dataDates,100*infWeek/testTotScaled,where='pre')\n",
    "\n",
    "ax.set_ylim(bottom=0)\n",
    "ax2.set_ylim(bottom=0)\n",
    "\n",
    "ax.set_ylabel('Average daily share\\nof population [%]')\n",
    "ax2.set_ylabel('Positive ratio [%]')"
   ]
  },
  {
   "cell_type": "code",
   "execution_count": 12,
   "metadata": {},
   "outputs": [
    {
     "data": {
      "text/plain": [
       "array([0.00870855, 0.00867073, 0.00920679, 0.01063398, 0.01364443,\n",
       "       0.01933406, 0.02720972, 0.03751399, 0.04174218, 0.04633073,\n",
       "       0.04995547, 0.05707417, 0.06146192, 0.04873985, 0.04825766,\n",
       "       0.05288802, 0.05662333, 0.06192457, 0.04750181, 0.037712  ,\n",
       "       0.03334395, 0.02374542, 0.01633405, 0.01245789, 0.00886388,\n",
       "       0.00637367, 0.00490649, 0.00385518, 0.00338849])"
      ]
     },
     "execution_count": 12,
     "metadata": {},
     "output_type": "execute_result"
    }
   ],
   "source": [
    "tausToUse = testTotScaled/(DKpop*7)\n",
    "tausToUse"
   ]
  },
  {
   "cell_type": "code",
   "execution_count": 13,
   "metadata": {},
   "outputs": [],
   "source": [
    "numDays = (dataDates[-1] - dataDates[0])/np.timedelta64(1,'D')\n",
    "\n",
    "numWeeksToSim = len(dataDates)"
   ]
  },
  {
   "cell_type": "markdown",
   "metadata": {},
   "source": [
    "# Modelling"
   ]
  },
  {
   "cell_type": "code",
   "execution_count": 14,
   "metadata": {},
   "outputs": [],
   "source": [
    "\n",
    "# allTRes = 100\n",
    "# allTaus = tau * np.ones((allTRes,))\n",
    "# allTaus = np.append(allTaus,tau *  2*np.ones((allTRes,)))"
   ]
  },
  {
   "cell_type": "code",
   "execution_count": 15,
   "metadata": {},
   "outputs": [],
   "source": [
    "# Initialize everything\n",
    "iniExp = 100\n",
    "# iniExp = 1000\n",
    "\n",
    "E1_0 = iniExp/DKpop \n",
    "E2_0 = 0\n",
    "S_0 = 1 - E1_0 \n",
    "\n",
    "init = {'S' : S_0,'E1':E1_0,'E2':0 , 'P':0,'A':0,'Q':0,'I':0,'Rp':0}\n",
    "\n",
    "gamma = 1/3\n",
    "nu = 1/3\n",
    "rho = 0.5\n",
    "beta = 1.65*gamma\n",
    "# beta = 1.4*gamma\n",
    "tau = tausToUse[0]\n",
    "pars = {'beta':beta,'nu':nu,'gamma':gamma,'rho':rho,'tau':tau}\n",
    "\n",
    "\n",
    "tEnd = numDays\n",
    "sch1 = pmf.Scheme(modelMeta,init,pars,0,tEnd,Changes=[])\n",
    "\n",
    "allTRes = 100\n",
    "allTaus = tau * np.ones((allTRes,))\n",
    "\n",
    "for k in range(1,numWeeksToSim-1):\n",
    "    tChange = k * 7\n",
    "    tau = tausToUse[k]\n",
    "    changeTest = pmf.Change(tChange,SetParameters={'tau':tau})\n",
    "    sch1.addChange(changeTest)\n",
    "    \n",
    "    allTaus = np.append(allTaus,tau * np.ones((allTRes,)))\n",
    "\n",
    "\n",
    "sch1.simulate(tRes=allTRes)"
   ]
  },
  {
   "cell_type": "code",
   "execution_count": 16,
   "metadata": {},
   "outputs": [],
   "source": [
    "curSch = sch1 \n",
    "curPop = DKpop\n",
    "ts = curSch.result.t\n",
    "Rp = curSch.result.Rp\n",
    "Rn = 1-curSch.result.y.sum(axis=0)\n",
    "\n",
    "curInf = gamma * rho * curSch.result.P\n",
    "curTest = allTaus * (curSch.result.S + curSch.result.E1+ curSch.result.E2+ curSch.result.P + curSch.result.A )\n",
    "curTestAll = allTaus * (curSch.result.S + curSch.result.E1+ curSch.result.E2+ curSch.result.P + curSch.result.A + Rn)\n",
    "\n",
    "curTestPos = allTaus*( curSch.result.E2+ curSch.result.P + curSch.result.A )\n",
    "\n",
    "posPct = (curTestPos+curInf)/(curTestAll+curInf)"
   ]
  },
  {
   "cell_type": "code",
   "execution_count": 17,
   "metadata": {},
   "outputs": [],
   "source": [
    "\n",
    "# # fig,(ax,ax2,ax3) = plt.subplots(3,1,sharex=True,figsize=(10,15))\n",
    "# fig,(ax,ax2) = plt.subplots(2,1,figsize=(10,15))\n",
    "# # ax.plot(ts,curTest)\n",
    "# ax.plot(ts,curPop*(curTestAll))\n",
    "# ax.plot(ts,curPop*(curTestPos))\n",
    "# ax.plot(ts,curPop*(curTestAll+curInf))\n",
    "# ax.plot(ts,curPop*(curInf+curTestPos))\n",
    "# # ax.plot(ts,curInf*curPop)\n",
    "# ax2.plot(ts,100*posPct)\n",
    "# # ax2.plot(ts,100*(Rp/(Rp+Rn)))"
   ]
  },
  {
   "cell_type": "code",
   "execution_count": 18,
   "metadata": {},
   "outputs": [],
   "source": [
    "# np.interp(dataDates,ts,ts)\n",
    "modelDate = [dataDates[0]+np.timedelta64(int(x*24*60),'m') for x in ts]\n",
    "# np.timedelta64(int(ts[1]*24),'h')"
   ]
  },
  {
   "cell_type": "code",
   "execution_count": 19,
   "metadata": {},
   "outputs": [],
   "source": [
    "# # curRatioInterp = np.interp(np.arange(28),np.arange(2700),curRatio) \n",
    "# len(modelDate)\n",
    "# len(dataDates)"
   ]
  },
  {
   "cell_type": "code",
   "execution_count": 20,
   "metadata": {},
   "outputs": [
    {
     "name": "stderr",
     "output_type": "stream",
     "text": [
      "C:\\Users\\Rasmus\\AppData\\Local\\Temp/ipykernel_2568/110441614.py:2: RuntimeWarning: invalid value encountered in true_divide\n",
      "  curRatio = Rp/(Rp+Rn)\n"
     ]
    },
    {
     "ename": "ValueError",
     "evalue": "fp and xp are not of the same length.",
     "output_type": "error",
     "traceback": [
      "\u001b[1;31m---------------------------------------------------------------------------\u001b[0m",
      "\u001b[1;31mValueError\u001b[0m                                Traceback (most recent call last)",
      "\u001b[1;32m~\\AppData\\Local\\Temp/ipykernel_2568/110441614.py\u001b[0m in \u001b[0;36m<module>\u001b[1;34m\u001b[0m\n\u001b[0;32m      4\u001b[0m \u001b[0max\u001b[0m\u001b[1;33m.\u001b[0m\u001b[0mplot\u001b[0m\u001b[1;33m(\u001b[0m\u001b[0mmodelDate\u001b[0m\u001b[1;33m,\u001b[0m\u001b[0mRp\u001b[0m\u001b[1;33m+\u001b[0m\u001b[0mRn\u001b[0m\u001b[1;33m)\u001b[0m\u001b[1;33m\u001b[0m\u001b[1;33m\u001b[0m\u001b[0m\n\u001b[0;32m      5\u001b[0m \u001b[0max\u001b[0m\u001b[1;33m.\u001b[0m\u001b[0mplot\u001b[0m\u001b[1;33m(\u001b[0m\u001b[0mdataDates\u001b[0m\u001b[1;33m,\u001b[0m\u001b[0mnp\u001b[0m\u001b[1;33m.\u001b[0m\u001b[0mcumsum\u001b[0m\u001b[1;33m(\u001b[0m\u001b[0minfWeek\u001b[0m\u001b[1;33m/\u001b[0m\u001b[1;33m(\u001b[0m\u001b[0mDKpop\u001b[0m\u001b[1;33m)\u001b[0m\u001b[1;33m)\u001b[0m\u001b[1;33m)\u001b[0m\u001b[1;33m\u001b[0m\u001b[1;33m\u001b[0m\u001b[0m\n\u001b[1;32m----> 6\u001b[1;33m \u001b[0mcurRatioInterp\u001b[0m \u001b[1;33m=\u001b[0m \u001b[0mnp\u001b[0m\u001b[1;33m.\u001b[0m\u001b[0minterp\u001b[0m\u001b[1;33m(\u001b[0m\u001b[0mnp\u001b[0m\u001b[1;33m.\u001b[0m\u001b[0marange\u001b[0m\u001b[1;33m(\u001b[0m\u001b[1;36m28\u001b[0m\u001b[1;33m)\u001b[0m\u001b[1;33m,\u001b[0m\u001b[0mnp\u001b[0m\u001b[1;33m.\u001b[0m\u001b[0marange\u001b[0m\u001b[1;33m(\u001b[0m\u001b[1;36m2700\u001b[0m\u001b[1;33m)\u001b[0m\u001b[1;33m,\u001b[0m\u001b[0mcurRatio\u001b[0m\u001b[1;33m)\u001b[0m\u001b[1;33m\u001b[0m\u001b[1;33m\u001b[0m\u001b[0m\n\u001b[0m\u001b[0;32m      7\u001b[0m \u001b[0max\u001b[0m\u001b[1;33m.\u001b[0m\u001b[0mplot\u001b[0m\u001b[1;33m(\u001b[0m\u001b[0mdataDates\u001b[0m\u001b[1;33m,\u001b[0m\u001b[0mnp\u001b[0m\u001b[1;33m.\u001b[0m\u001b[0mcumsum\u001b[0m\u001b[1;33m(\u001b[0m\u001b[0minfWeek\u001b[0m\u001b[1;33m/\u001b[0m\u001b[1;33m(\u001b[0m\u001b[0mDKpop\u001b[0m\u001b[1;33m)\u001b[0m\u001b[1;33m)\u001b[0m\u001b[1;33m/\u001b[0m\u001b[0mcurRatioInterp\u001b[0m\u001b[1;33m,\u001b[0m\u001b[1;34m'r'\u001b[0m\u001b[1;33m)\u001b[0m\u001b[1;33m\u001b[0m\u001b[1;33m\u001b[0m\u001b[0m\n\u001b[0;32m      8\u001b[0m \u001b[0max2\u001b[0m\u001b[1;33m.\u001b[0m\u001b[0mplot\u001b[0m\u001b[1;33m(\u001b[0m\u001b[0mmodelDate\u001b[0m\u001b[1;33m,\u001b[0m\u001b[0mcurRatio\u001b[0m\u001b[1;33m)\u001b[0m\u001b[1;33m\u001b[0m\u001b[1;33m\u001b[0m\u001b[0m\n",
      "\u001b[1;32m<__array_function__ internals>\u001b[0m in \u001b[0;36minterp\u001b[1;34m(*args, **kwargs)\u001b[0m\n",
      "\u001b[1;32mC:\\ProgramData\\Anaconda3\\envs\\main\\lib\\site-packages\\numpy\\lib\\function_base.py\u001b[0m in \u001b[0;36minterp\u001b[1;34m(x, xp, fp, left, right, period)\u001b[0m\n\u001b[0;32m   1437\u001b[0m         \u001b[0mfp\u001b[0m \u001b[1;33m=\u001b[0m \u001b[0mnp\u001b[0m\u001b[1;33m.\u001b[0m\u001b[0mconcatenate\u001b[0m\u001b[1;33m(\u001b[0m\u001b[1;33m(\u001b[0m\u001b[0mfp\u001b[0m\u001b[1;33m[\u001b[0m\u001b[1;33m-\u001b[0m\u001b[1;36m1\u001b[0m\u001b[1;33m:\u001b[0m\u001b[1;33m]\u001b[0m\u001b[1;33m,\u001b[0m \u001b[0mfp\u001b[0m\u001b[1;33m,\u001b[0m \u001b[0mfp\u001b[0m\u001b[1;33m[\u001b[0m\u001b[1;36m0\u001b[0m\u001b[1;33m:\u001b[0m\u001b[1;36m1\u001b[0m\u001b[1;33m]\u001b[0m\u001b[1;33m)\u001b[0m\u001b[1;33m)\u001b[0m\u001b[1;33m\u001b[0m\u001b[1;33m\u001b[0m\u001b[0m\n\u001b[0;32m   1438\u001b[0m \u001b[1;33m\u001b[0m\u001b[0m\n\u001b[1;32m-> 1439\u001b[1;33m     \u001b[1;32mreturn\u001b[0m \u001b[0minterp_func\u001b[0m\u001b[1;33m(\u001b[0m\u001b[0mx\u001b[0m\u001b[1;33m,\u001b[0m \u001b[0mxp\u001b[0m\u001b[1;33m,\u001b[0m \u001b[0mfp\u001b[0m\u001b[1;33m,\u001b[0m \u001b[0mleft\u001b[0m\u001b[1;33m,\u001b[0m \u001b[0mright\u001b[0m\u001b[1;33m)\u001b[0m\u001b[1;33m\u001b[0m\u001b[1;33m\u001b[0m\u001b[0m\n\u001b[0m\u001b[0;32m   1440\u001b[0m \u001b[1;33m\u001b[0m\u001b[0m\n\u001b[0;32m   1441\u001b[0m \u001b[1;33m\u001b[0m\u001b[0m\n",
      "\u001b[1;31mValueError\u001b[0m: fp and xp are not of the same length."
     ]
    },
    {
     "data": {
      "image/png": "[encoded data removed]",
      "text/plain": [
       "<Figure size 864x576 with 2 Axes>"
      ]
     },
     "metadata": {},
     "output_type": "display_data"
    }
   ],
   "source": [
    "fig,(ax,ax2)= plt.subplots(2,1)\n",
    "curRatio = Rp/(Rp+Rn)\n",
    "ax.plot(modelDate,Rp,'k')\n",
    "ax.plot(modelDate,Rp+Rn)\n",
    "ax.plot(dataDates,np.cumsum(infWeek/(DKpop)))\n",
    "curRatioInterp = np.interp(np.arange(28),np.arange(2700),curRatio) \n",
    "ax.plot(dataDates,np.cumsum(infWeek/(DKpop))/curRatioInterp,'r')\n",
    "ax2.plot(modelDate,curRatio)"
   ]
  },
  {
   "cell_type": "code",
   "execution_count": null,
   "metadata": {},
   "outputs": [
    {
     "data": {
      "application/vnd.jupyter.widget-view+json": {
       "model_id": "56fdeece0e394a1c9d1b3400166968fb",
       "version_major": 2,
       "version_minor": 0
      },
      "text/plain": [
       "Canvas(toolbar=Toolbar(toolitems=[('Home', 'Reset original view', 'home', 'home'), ('Back', 'Back to previous …"
      ]
     },
     "metadata": {},
     "output_type": "display_data"
    },
    {
     "data": {
      "text/plain": [
       "Text(0, 0.5, 'Positive ratio [%]')"
      ]
     },
     "execution_count": 454,
     "metadata": {},
     "output_type": "execute_result"
    }
   ],
   "source": [
    "fig,(ax,ax2) = plt.subplots(2,1)\n",
    "# ax.plot(modelDate,100*(curTestAll))\n",
    "# ax.plot(modelDate,100*(curTestPos))\n",
    "ax.plot(modelDate,100*(curTestAll+curInf),'k')\n",
    "ax.plot(modelDate,100*(curInf+curTestPos),'b')\n",
    "# ax.plot(modelDate,curInf*curPop)\n",
    "ax2.plot(modelDate,100*posPct)\n",
    "\n",
    "ax.step(dataDates,100*testPCR/(DKpop*7),where='post')\n",
    "ax.step(dataDates,100*testAG/(DKpop*7),where='post')\n",
    "ax.step(dataDates,100*testTotScaled/(DKpop*7),where='post')\n",
    "ax.step(dataDates,100*infWeek/(DKpop*7),where='post')\n",
    "\n",
    "ax2.step(dataDates,100*infWeek/testTotScaled,where='post')\n",
    "\n",
    "ax.set_ylim(bottom=0)\n",
    "ax2.set_ylim(bottom=0)\n",
    "\n",
    "ax.set_ylabel('Average daily share\\nof population [%]')\n",
    "ax2.set_ylabel('Positive ratio [%]')"
   ]
  },
  {
   "cell_type": "code",
   "execution_count": null,
   "metadata": {},
   "outputs": [
    {
     "data": {
      "application/vnd.jupyter.widget-view+json": {
       "model_id": "aed6c4b426e14a328de7385aa97186a6",
       "version_major": 2,
       "version_minor": 0
      },
      "text/plain": [
       "Canvas(toolbar=Toolbar(toolitems=[('Home', 'Reset original view', 'home', 'home'), ('Back', 'Back to previous …"
      ]
     },
     "metadata": {},
     "output_type": "display_data"
    },
    {
     "data": {
      "text/plain": [
       "[<matplotlib.lines.Line2D at 0x1912b40f4c0>]"
      ]
     },
     "execution_count": 430,
     "metadata": {},
     "output_type": "execute_result"
    }
   ],
   "source": [
    "fig,ax1 = plt.subplots()\n",
    "ts = sch1.result.t\n",
    "ax1.plot(ts,allTaus)\n",
    "ax1.plot(ts,sch1.result.Q)"
   ]
  },
  {
   "cell_type": "code",
   "execution_count": null,
   "metadata": {},
   "outputs": [
    {
     "data": {
      "application/vnd.jupyter.widget-view+json": {
       "model_id": "ab13497c28534f3c88d742d90e76ed06",
       "version_major": 2,
       "version_minor": 0
      },
      "text/plain": [
       "Canvas(toolbar=Toolbar(toolitems=[('Home', 'Reset original view', 'home', 'home'), ('Back', 'Back to previous …"
      ]
     },
     "metadata": {},
     "output_type": "display_data"
    },
    {
     "data": {
      "text/plain": [
       "(0.0, 1.0)"
      ]
     },
     "execution_count": 405,
     "metadata": {},
     "output_type": "execute_result"
    }
   ],
   "source": [
    "\n",
    "# tChange = 150\n",
    "# changeTest = pmf.Change(tChange,SetParameters={'tau':tau2,'beta':beta2})\n",
    "# sch1.addChange(changeTest)\n",
    "sch1.simulate(tRes=allTRes)\n",
    "\n",
    "Rs = 1- sch1.result.y.sum(axis=0)\n",
    "\n",
    "cmap = pf.getColormapFromList(['xkcd:dark blue','xkcd:blue','xkcd:red','xkcd:green','xkcd:dark green'],10)\n",
    "\n",
    "fig,ax1 = plt.subplots()\n",
    "ax1.stackplot(sch1.result.t,\n",
    "        sch1.result.E1,\n",
    "        sch1.result.E2,\n",
    "        sch1.result.P,\n",
    "        sch1.result.Q,\n",
    "        sch1.result.A,\n",
    "        sch1.result.I,\n",
    "        sch1.result.Rp,\n",
    "        Rs,\n",
    "        sch1.result.S, \n",
    "        colors=[cmap(1),cmap(2),cmap(3),cmap(4),cmap(5),cmap(6),cmap(7),cmap(8),cmap(0)],\n",
    "        )\n",
    "\n",
    "ax1.set_ylim([0,1])\n",
    "# # ax1.plot(sch1.result.t,sch1.result.E1)\n",
    "# # ax1.plot(sch1.result.t,sch1.result.Rp)\n",
    "# ax1.plot(sch1.result.t,sch1.result.Rp+Rs)\n",
    "# ax1.plot(sch1.result.t,sch1.result.S)\n",
    "# ax1.plot(sch1.result.t,sch1.result.Q)\n",
    "# ax1.plot(sch1.result.t,sch1.result.Q+sch1.result.A)\n",
    "# ax1.plot(sch1.result.t,sch1.result.Q+sch1.result.A+sch1.result.I)"
   ]
  }
 ],
 "metadata": {
  "interpreter": {
   "hash": "c031fd63bd977d199cd6020c30a19695eacbb638d100e0b8a5ea53080ed74a9a"
  },
  "kernelspec": {
   "display_name": "Python 3.8.12 ('main')",
   "language": "python",
   "name": "python3"
  },
  "language_info": {
   "codemirror_mode": {
    "name": "ipython",
    "version": 3
   },
   "file_extension": ".py",
   "mimetype": "text/x-python",
   "name": "python",
   "nbconvert_exporter": "python",
   "pygments_lexer": "ipython3",
   "version": "3.8.12"
  },
  "orig_nbformat": 4
 },
 "nbformat": 4,
 "nbformat_minor": 2
}
