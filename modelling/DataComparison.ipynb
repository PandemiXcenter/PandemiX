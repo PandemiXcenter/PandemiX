{
 "cells": [
  {
   "cell_type": "markdown",
   "metadata": {},
   "source": [
    "# Script for making some small figures of Delta-wave and Omikron-wave for comparison"
   ]
  },
  {
   "cell_type": "code",
   "execution_count": 69,
   "metadata": {},
   "outputs": [
    {
     "name": "stdout",
     "output_type": "stream",
     "text": [
      "saveFigures is set to: True\n",
      "Done loading packages\n"
     ]
    }
   ],
   "source": [
    "%matplotlib widget\n",
    "# Load packages and settings\n",
    "import numpy as np\n",
    "import pandas as pd\n",
    "\n",
    "import matplotlib.pyplot as plt\n",
    "plt.rcParams['figure.figsize'] = (12,8)\n",
    "plt.rcParams[\"image.cmap\"] = \"tab10\"\n",
    "plt.rcParams['axes.prop_cycle'] = plt.cycler(color=plt.cm.tab10.colors)\n",
    "fs_label = 16\n",
    "parameters = {\n",
    "                'axes.labelsize': fs_label,\n",
    "                'axes.titlesize': fs_label+4,\n",
    "                'xtick.labelsize': fs_label,\n",
    "                'ytick.labelsize': fs_label, \n",
    "                'legend.fontsize': fs_label, \n",
    "                'lines.markersize': 10,\n",
    "                'lines.linewidth': 3\n",
    "             }\n",
    "plt.rcParams.update(parameters)\n",
    "\n",
    "import os\n",
    "import math\n",
    "\n",
    "from datetime import date\n",
    "\n",
    "saveFigures = True\n",
    "# saveFigures = False\n",
    "print('saveFigures is set to: '+str(saveFigures))\n",
    "\n",
    "print('Done loading packages')\n",
    "\n",
    "# Define running mean functions\n",
    "def rnMean(data,meanWidth):\n",
    "    return np.convolve(data, np.ones(meanWidth)/meanWidth, mode='valid')\n",
    "def rnTime(t,meanWidth):\n",
    "    return t[math.floor(meanWidth/2):-math.ceil(meanWidth/2)+1]"
   ]
  },
  {
   "cell_type": "code",
   "execution_count": 70,
   "metadata": {},
   "outputs": [],
   "source": [
    "# Define paths\n",
    "rootdir_data = os.getcwd() +\"\\\\..\\\\DanskeData\\\\\" \n",
    "\n",
    "path_data = rootdir_data + \"ssi_data\\\\\"\n",
    "path_dash = rootdir_data + \"ssi_dashboard\\\\\"\n",
    "path_vacc = rootdir_data + \"ssi_vacc\\\\\"\n",
    "\n",
    "path_figs = os.getcwd() +\"\\\\..\\\\Figures\\\\\" "
   ]
  },
  {
   "cell_type": "code",
   "execution_count": 71,
   "metadata": {},
   "outputs": [],
   "source": [
    "dfOmikron = pd.read_excel(rootdir_data+'Omikron.xlsx')"
   ]
  },
  {
   "cell_type": "code",
   "execution_count": 72,
   "metadata": {},
   "outputs": [],
   "source": [
    "# dfOmikron\n",
    "dfOmikron.Dato = pd.to_datetime(dfOmikron.Dato)\n",
    "# dfOmikron = dfOmikron.iloc[1:] # Remove the first datapoint, since it has very few counts\n",
    "# dfOmikron"
   ]
  },
  {
   "cell_type": "code",
   "execution_count": 73,
   "metadata": {},
   "outputs": [],
   "source": [
    "latestsubdir = list(os.walk(path_dash))[0][1][-1]\n",
    "latestdir = path_dash + latestsubdir\n",
    "\n",
    "df = pd.read_csv(latestdir+'\\\\Regionalt_DB\\\\24_reinfektioner_daglig_region.csv',delimiter=';',encoding='latin1')\n",
    "df['Prøvedato'] =  pd.to_datetime(df['Prøvedato'],format='%Y-%m-%d')\n",
    "dfTot = df.groupby('Prøvedato').sum()\n",
    "\n",
    "# # dfCase = pd.read_csv(latestdir+'/Test_pos_over_time.csv',delimiter = ';',dtype=str)\n",
    "# # dfCase = dfCase.iloc[:-2]\n",
    "# # dfCase['NewPositive'] = pd.to_numeric(dfCase['NewPositive'].astype(str).apply(lambda x: x.replace('.','')))\n",
    "# # dfCase['Tested'] = pd.to_numeric(dfCase['Tested'].astype(str).apply(lambda x: x.replace('.','')))\n",
    "# # dfCase['PosPct'] = pd.to_numeric(dfCase['PosPct'].astype(str).apply(lambda x: x.replace(',','.')))\n",
    "# # dfCase['Date'] =  pd.to_datetime(dfCase.Date,format='%Y-%m-%d')\n",
    "# # testDates = dfCase['Date']"
   ]
  },
  {
   "cell_type": "code",
   "execution_count": 104,
   "metadata": {},
   "outputs": [],
   "source": [
    "dfRe = df[df['Type af tilfælde (reinfektion eller første infektion)'] == '1.Reinfektion'].groupby('Prøvedato').sum()"
   ]
  },
  {
   "cell_type": "code",
   "execution_count": 82,
   "metadata": {},
   "outputs": [],
   "source": [
    "dfOmikron\n",
    "\n",
    "dfOmikronShort = dfOmikron.iloc[1:45]\n",
    "dfOmikronShort\n",
    "oDay = dfOmikronShort.Dato \n",
    "oRate = dfOmikronShort.Ratio/100\n",
    "\n",
    "# Extend in both directions\n",
    "preDay = np.arange(dfTot.index[0],oDay.iloc[0],np.timedelta64(1,'D'))\n",
    "preRate = np.zeros(preDay.shape)\n",
    "\n",
    "postDay = np.arange(oDay.iloc[-1],dfTot.index[-1],np.timedelta64(1,'D'))\n",
    "postRate = np.ones(postDay.shape)\n",
    "\n",
    "# Concatenate arrays\n",
    "oDay = np.concatenate([preDay,oDay,postDay])\n",
    "oRate = np.concatenate([preRate,oRate,postRate])"
   ]
  },
  {
   "cell_type": "code",
   "execution_count": 83,
   "metadata": {},
   "outputs": [
    {
     "name": "stdout",
     "output_type": "stream",
     "text": [
      "410\n",
      "404\n",
      "410\n"
     ]
    }
   ],
   "source": [
    "# Use a running mean on oRate \n",
    "# print(len(oRate))\n",
    "# print(len(rnMean(oRate,7)))\n",
    "oRate = np.concatenate([[0,0,0],rnMean(oRate,7),[1,1,1]])\n",
    "# print(len(oRate))"
   ]
  },
  {
   "cell_type": "code",
   "execution_count": 105,
   "metadata": {},
   "outputs": [
    {
     "data": {
      "application/vnd.jupyter.widget-view+json": {
       "model_id": "7affde42136649d69e410e9d35ef10ac",
       "version_major": 2,
       "version_minor": 0
      },
      "text/plain": [
       "Canvas(toolbar=Toolbar(toolitems=[('Home', 'Reset original view', 'home', 'home'), ('Back', 'Back to previous …"
      ]
     },
     "metadata": {},
     "output_type": "display_data"
    },
    {
     "data": {
      "text/plain": [
       "(18901.0, 19057.45)"
      ]
     },
     "execution_count": 105,
     "metadata": {},
     "output_type": "execute_result"
    }
   ],
   "source": [
    "fig,(ax2,ax1) = plt.subplots(2,1,sharex=True)\n",
    "ax2.plot(oDay,100*oRate,'k',linewidth=4,label='Ratio of Omikron-cases (running mean)')\n",
    "# ax2.plot(rnTime(oDay,7),rnMean(oRate,7))\n",
    "ax2.plot(dfOmikron.Dato,dfOmikron.Ratio,'b*:',linewidth=0.5,label='Daily ratio (data)')\n",
    "\n",
    "ax1_1 = ax1.twinx()\n",
    "DKpop = 5800000\n",
    "ax1_1.plot(dfTot.index,100*dfTot.infected/DKpop,'k:')\n",
    "ax1.plot(dfTot.index,dfTot.infected,'k:',label='Total cases')\n",
    "ax1.plot(dfTot.index,dfTot.infected*oRate,'b',label='Omikron cases')\n",
    "ax1.plot(dfTot.index,dfTot.infected*(1-oRate),'r',label='Delta cases')\n",
    "ax1.plot(dfRe.index,dfRe.infected,'m',label='Reinfections')\n",
    "\n",
    "\n",
    "ax1.set_ylim(bottom=0)\n",
    "ax1_1.set_ylim(bottom=0)\n",
    "ax2.set_ylim(bottom=0,top=100)\n",
    "\n",
    "\n",
    "ax2.set_ylabel('Omikron share of cases [%]')\n",
    "ax1.set_ylabel('PCR-positive cases')\n",
    "ax1_1.set_ylabel('Share of population [%]')\n",
    "\n",
    "ax1.set_xlim(left=np.datetime64('2021-10'))"
   ]
  },
  {
   "cell_type": "code",
   "execution_count": 109,
   "metadata": {},
   "outputs": [
    {
     "data": {
      "application/vnd.jupyter.widget-view+json": {
       "model_id": "5a433edc178248559802acbc57d66e9e",
       "version_major": 2,
       "version_minor": 0
      },
      "text/plain": [
       "Canvas(toolbar=Toolbar(toolitems=[('Home', 'Reset original view', 'home', 'home'), ('Back', 'Back to previous …"
      ]
     },
     "metadata": {},
     "output_type": "display_data"
    }
   ],
   "source": [
    "fig,(ax2,ax1) = plt.subplots(2,1,sharex=True)\n",
    "ax2.plot(oDay,100*oRate,'k',linewidth=4,label='Ratio of Omikron-cases\\n(7-day running mean)')\n",
    "# ax2.plot(rnTime(oDay,7),rnMean(oRate,7))\n",
    "ax2.plot(dfOmikron.Dato,dfOmikron.Ratio,'b*:',linewidth=0.5,label='Daily ratio (data)')\n",
    "\n",
    "ax1_1 = ax1.twinx()\n",
    "DKpop = 5800000\n",
    "ax1_1.plot(rnTime(dfTot.index,7),rnMean(100*dfTot.infected/DKpop,7),'k:')\n",
    "ax1.plot(rnTime(dfTot.index,7),rnMean(dfTot.infected,7),'k:',label='Total cases')\n",
    "ax1.plot(rnTime(dfTot.index,7),rnMean(dfTot.infected*oRate,7),'b',label='Omikron cases')\n",
    "ax1.plot(rnTime(dfTot.index,7),rnMean(dfTot.infected*(1-oRate),7),'r',label='Delta cases')\n",
    "ax1.plot(rnTime(dfRe.index,7),rnMean(dfRe.infected,7),'m',label='Reinfections')\n",
    "\n",
    "\n",
    "ax1.set_ylim(bottom=0)\n",
    "ax1_1.set_ylim(bottom=0)\n",
    "ax2.set_ylim(bottom=0,top=100)\n",
    "\n",
    "ax1.legend(loc='upper left')\n",
    "ax2.legend(loc='upper left')\n",
    "\n",
    "ax2.set_ylabel('Omikron share of cases [%]')\n",
    "ax1.set_ylabel('PCR-positive cases')\n",
    "ax1_1.set_ylabel('Share of population [%]')\n",
    "\n",
    "ax1.set_xlim(left=np.datetime64('2021-10'))\n",
    "\n",
    "if saveFigures:\n",
    "    fig.savefig('Figures/OmikronOverview')"
   ]
  },
  {
   "cell_type": "code",
   "execution_count": 113,
   "metadata": {},
   "outputs": [
    {
     "data": {
      "application/vnd.jupyter.widget-view+json": {
       "model_id": "8c93d7458fd04de18ded06bca8d59542",
       "version_major": 2,
       "version_minor": 0
      },
      "text/plain": [
       "Canvas(toolbar=Toolbar(toolitems=[('Home', 'Reset original view', 'home', 'home'), ('Back', 'Back to previous …"
      ]
     },
     "metadata": {},
     "output_type": "display_data"
    }
   ],
   "source": [
    "fig,(ax1,ax2) = plt.subplots(2,1,sharex=True)\n",
    "# ax2.plot(oDay,100*oRate,'k',linewidth=4,label='Ratio of Omikron-cases\\n(7-day running mean)')\n",
    "# # ax2.plot(rnTime(oDay,7),rnMean(oRate,7))\n",
    "# ax2.plot(dfOmikron.Dato,dfOmikron.Ratio,'b*:',linewidth=0.5,label='Daily ratio (data)')\n",
    "\n",
    "ax1_1 = ax1.twinx()\n",
    "DKpop = 5800000\n",
    "ax1_1.plot(rnTime(dfTot.index,7),rnMean(100*dfTot.infected/DKpop,7),'k:')\n",
    "ax1.plot(rnTime(dfTot.index,7),rnMean(dfTot.infected,7),'k:',label='Total cases')\n",
    "ax1.plot(rnTime(dfTot.index,7),rnMean(dfTot.infected*oRate,7),'b',label='Omikron cases')\n",
    "ax1.plot(rnTime(dfTot.index,7),rnMean(dfTot.infected*(1-oRate),7),'r',label='Delta cases')\n",
    "ax1.plot(rnTime(dfRe.index,7),rnMean(dfRe.infected,7),'m',label='Reinfections')\n",
    "\n",
    "ax2_1 = ax2.twinx()\n",
    "DKpop = 5800000\n",
    "ax2_1.plot(rnTime(dfTot.index,7),rnMean(100*dfTot.infected/DKpop,7),'k:')\n",
    "ax2.plot(rnTime(dfTot.index,7),rnMean(dfTot.infected,7),'k:',label='Total cases')\n",
    "ax2.plot(rnTime(dfTot.index,7),rnMean(dfTot.infected*oRate,7),'b',label='Omikron cases')\n",
    "ax2.plot(rnTime(dfTot.index,7),rnMean(dfTot.infected*(1-oRate),7),'r',label='Delta cases')\n",
    "ax2.plot(rnTime(dfRe.index,7),rnMean(dfRe.infected,7),'m',label='Reinfections')\n",
    "\n",
    "\n",
    "ax1.set_ylim(bottom=0)\n",
    "ax1_1.set_ylim(bottom=0)\n",
    "\n",
    "ax2.set_ylim(bottom=0,top=8000)\n",
    "ax2_1.set_ylim(bottom=0,top=8000/DKpop)\n",
    "# ax2.set_ylim(bottom=0,top=100)\n",
    "\n",
    "ax1.legend(loc='upper left')\n",
    "ax2.legend(loc='upper left')\n",
    "\n",
    "# ax2.set_ylabel('Omikron share of cases [%]')\n",
    "ax1.set_ylabel('PCR-positive cases')\n",
    "ax1_1.set_ylabel('Share of population [%]')\n",
    "\n",
    "ax1.set_xlim(left=np.datetime64('2021-10'))\n",
    "\n",
    "if saveFigures:\n",
    "    fig.savefig('Figures/OmikronOverview2')"
   ]
  },
  {
   "cell_type": "code",
   "execution_count": 137,
   "metadata": {},
   "outputs": [
    {
     "data": {
      "application/vnd.jupyter.widget-view+json": {
       "model_id": "c429391344134c5f8f9cb0ec7548007d",
       "version_major": 2,
       "version_minor": 0
      },
      "text/plain": [
       "Canvas(toolbar=Toolbar(toolitems=[('Home', 'Reset original view', 'home', 'home'), ('Back', 'Back to previous …"
      ]
     },
     "metadata": {},
     "output_type": "display_data"
    }
   ],
   "source": [
    "fig,(ax1,ax2) = plt.subplots(2,1,sharex=True)\n",
    "\n",
    "ax1_1 = ax1.twinx()\n",
    "DKpop = 5800000\n",
    "ax1_1.plot(rnTime(dfTot.index,7),rnMean(100*dfTot.infected/DKpop,7),'k',linewidth=1)\n",
    "# ax1.plot(rnTime(dfTot.index,7),rnMean(dfTot.infected,7),'k:',label='Total cases')\n",
    "ax1.fill_between(rnTime(dfTot.index,7),rnMean(dfTot.infected*(1-oRate),7),linewidth=0,color='r',label='Delta cases')\n",
    "ax1.fill_between(rnTime(dfTot.index,7),rnMean(dfTot.infected,7),rnMean(dfTot.infected*(1-oRate),7),linewidth=0,color='b',label='Omikron cases')\n",
    "ax1.fill_between(rnTime(dfRe.index,7),rnMean(dfTot.infected*(1-oRate),7)+rnMean(dfRe.infected,7),rnMean(dfTot.infected*(1-oRate),7),linewidth=0,color='m',label='Reinfections')\n",
    "\n",
    "\n",
    "ax2_1 = ax2.twinx()\n",
    "DKpop = 5800000\n",
    "ax2_1.plot(rnTime(dfTot.index,7),rnMean(100*dfTot.infected/DKpop,7),'k',linewidth=1)\n",
    "# ax2.plot(rnTime(dfTot.index,7),rnMean(dfTot.infected,7),'k:',label='Total cases')\n",
    "ax2.fill_between(rnTime(dfTot.index,7),rnMean(dfTot.infected*(1-oRate),7),linewidth=0,color='r',label='Delta cases')\n",
    "ax2.fill_between(rnTime(dfTot.index,7),rnMean(dfTot.infected,7),rnMean(dfTot.infected*(1-oRate),7),linewidth=0,color='b',label='Omikron cases')\n",
    "ax2.fill_between(rnTime(dfRe.index,7),rnMean(dfTot.infected*(1-oRate),7)+rnMean(dfRe.infected,7),rnMean(dfTot.infected*(1-oRate),7),linewidth=0,color='m',label='Reinfections')\n",
    "\n",
    "\n",
    "ax1.set_ylim(bottom=0)\n",
    "ax1_1.set_ylim(bottom=0)\n",
    "\n",
    "ax2.set_ylim(bottom=0,top=8000)\n",
    "ax2_1.set_ylim(bottom=0,top=8000/DKpop)\n",
    "# ax2.set_ylim(bottom=0,top=100)\n",
    "\n",
    "ax1.legend(loc='upper left')\n",
    "ax2.legend(loc='upper left')\n",
    "\n",
    "# ax2.set_ylabel('Omikron share of cases [%]')\n",
    "ax1.set_ylabel('PCR-positive cases')\n",
    "ax1_1.set_ylabel('Share of population [%]')\n",
    "ax2.set_ylabel('PCR-positive cases')\n",
    "ax2_1.set_ylabel('Share of population [%]')\n",
    "\n",
    "ax1.set_xlim(left=np.datetime64('2021-10'))\n",
    "\n",
    "if saveFigures:\n",
    "    fig.savefig('Figures/OmikronOverview3')"
   ]
  },
  {
   "cell_type": "code",
   "execution_count": 123,
   "metadata": {},
   "outputs": [],
   "source": [
    "# fig,(ax1,ax2) = plt.subplots(2,1,sharex=True)\n",
    "# # ax2.plot(oDay,100*oRate,'k',linewidth=4,label='Ratio of Omikron-cases\\n(7-day running mean)')\n",
    "# # # ax2.plot(rnTime(oDay,7),rnMean(oRate,7))\n",
    "# # ax2.plot(dfOmikron.Dato,dfOmikron.Ratio,'b*:',linewidth=0.5,label='Daily ratio (data)')\n",
    "\n",
    "# ax1_1 = ax1.twinx()\n",
    "# DKpop = 5800000\n",
    "# ax1_1.plot(rnTime(dfTot.index,7),rnMean(100*dfTot.infected/DKpop,7),'k:')\n",
    "# ax1.plot(rnTime(dfTot.index,7),rnMean(dfTot.infected,7),'k:',label='Total cases')\n",
    "# ax1.plot(rnTime(dfTot.index,7),rnMean(dfTot.infected*oRate,7),'b',label='Omikron cases')\n",
    "# ax1.plot(rnTime(dfTot.index,7),rnMean(dfTot.infected*(1-oRate),7),'r',label='Delta cases')\n",
    "# ax1.plot(rnTime(dfRe.index,7),rnMean(dfRe.infected,7),'m',label='Reinfections')\n",
    "\n",
    "# # ax2_1 = ax2.twinx()\n",
    "# # DKpop = 5800000\n",
    "# # ax2_1.plot(rnTime(dfTot.index,7),rnMean(100*dfTot.infected/DKpop,7),'k:')\n",
    "# # ax2.plot(rnTime(dfTot.index,7),rnMean(dfTot.infected,7),'k:',label='Total cases')\n",
    "# # ax2.plot(rnTime(dfTot.index,7),rnMean(dfTot.infected*oRate,7),'b',label='Omikron cases')\n",
    "# # ax2.plot(rnTime(dfTot.index,7),rnMean(dfTot.infected*(1-oRate),7),'r',label='Delta cases')\n",
    "# # ax2.plot(rnTime(dfRe.index,7),rnMean(dfRe.infected,7),'m',label='Reinfections')\n",
    "\n",
    "\n",
    "# # ax1.set_ylim(bottom=0)\n",
    "# # ax1_1.set_ylim(bottom=0)\n",
    "\n",
    "# # ax2.set_ylim(bottom=0,top=8000)\n",
    "# # ax2_1.set_ylim(bottom=0,top=8000/DKpop)\n",
    "# # # ax2.set_ylim(bottom=0,top=100)\n",
    "\n",
    "# # ax1.legend(loc='upper left')\n",
    "# # ax2.legend(loc='upper left')\n",
    "\n",
    "# # # ax2.set_ylabel('Omikron share of cases [%]')\n",
    "# # ax1.set_ylabel('PCR-positive cases')\n",
    "# # ax1_1.set_ylabel('Share of population [%]')\n",
    "\n",
    "# # ax1.set_xlim(left=np.datetime64('2021-10'))\n",
    "\n",
    "# # if saveFigures:\n",
    "# #     fig.savefig('Figures/OmikronOverview3')"
   ]
  }
 ],
 "metadata": {
  "interpreter": {
   "hash": "c72cdf52cb3d31f207bca538e9396da8706c0ecf4a3038fb1c2b317934170431"
  },
  "kernelspec": {
   "display_name": "Python 3.8.5 64-bit ('main': conda)",
   "language": "python",
   "name": "python3"
  },
  "language_info": {
   "codemirror_mode": {
    "name": "ipython",
    "version": 3
   },
   "file_extension": ".py",
   "mimetype": "text/x-python",
   "name": "python",
   "nbconvert_exporter": "python",
   "pygments_lexer": "ipython3",
   "version": "3.8.5"
  },
  "orig_nbformat": 4
 },
 "nbformat": 4,
 "nbformat_minor": 2
}
