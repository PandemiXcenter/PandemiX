{
 "cells": [
  {
   "cell_type": "markdown",
   "metadata": {},
   "source": [
    "# Notebook for trying to recreate the delta->omikron wave of fall/winter 2021"
   ]
  },
  {
   "cell_type": "code",
   "execution_count": 40,
   "metadata": {},
   "outputs": [],
   "source": [
    "%matplotlib widget\n",
    "\n",
    "import sys\n",
    "sys.path.append(\"./../scripts\")\n",
    "import PandemiXFunctions as pf\n",
    "import PandemiXModelFunctions as pmf\n",
    "\n",
    "import os\n",
    "\n",
    "\n",
    "import numpy as np\n",
    "\n",
    "import matplotlib.pyplot as plt\n",
    "plt.rcParams['figure.figsize'] = (12,8)\n",
    "plt.rcParams[\"image.cmap\"] = \"tab10\"\n",
    "plt.rcParams['axes.prop_cycle'] = plt.cycler(color=plt.cm.tab10.colors)\n",
    "fs_label = 16\n",
    "parameters = {\n",
    "                'axes.labelsize': fs_label,\n",
    "                'axes.titlesize': fs_label+4,\n",
    "                'xtick.labelsize': fs_label,\n",
    "                'ytick.labelsize': fs_label, \n",
    "                'legend.fontsize': fs_label, \n",
    "                'lines.markersize': 10,\n",
    "                'lines.linewidth': 3\n",
    "             }\n",
    "             \n",
    "             \n",
    "from scipy.integrate import cumtrapz\n",
    "# int_I = cumtrapz(np.exp(u_H*ts)*Is,ts, initial=0)\n",
    "# Hs = np.exp(-u_H*ts) * (r_chr*pars_full['gamma']*int_I + k) "
   ]
  },
  {
   "cell_type": "code",
   "execution_count": 41,
   "metadata": {},
   "outputs": [
    {
     "data": {
      "text/plain": [
       "<module 'PandemiXModelFunctions' from 'c:\\\\Users\\\\rakrpe\\\\OneDrive - Roskilde Universitet\\\\Documents\\\\PandemiX\\\\GithubRepos\\\\PandemiX\\\\modelling\\\\PandemiXModelFunctions.py'>"
      ]
     },
     "execution_count": 41,
     "metadata": {},
     "output_type": "execute_result"
    }
   ],
   "source": [
    "# Reload PandemiXModelFunctions, in case changes have been made\n",
    "import importlib \n",
    "importlib.reload(pmf)"
   ]
  },
  {
   "cell_type": "code",
   "execution_count": 42,
   "metadata": {},
   "outputs": [],
   "source": [
    "path_figs = os.getcwd() + '\\\\Figures\\\\'\n",
    "path_figs = path_figs + 'TwoStrainModel_'"
   ]
  },
  {
   "cell_type": "markdown",
   "metadata": {},
   "source": [
    "# Start by just getting the delta growth correct"
   ]
  },
  {
   "cell_type": "code",
   "execution_count": 43,
   "metadata": {},
   "outputs": [],
   "source": [
    "# Initialize everything\n",
    "iniInf = 0.000005\n",
    "iniVacc = 0.8 # Approximately DK's vaccinationsrate at the end of summer 2021\n",
    "iniImmu = 0.05 # Approximation. Should only be \"natural immunity\"\n",
    "iniImmu = iniImmu * (1-iniVacc) # For splitting previous infections between vaccinated and susceptible\n",
    "\n",
    "V_0 = iniVacc \n",
    "IS_0 = 0\n",
    "IV_0 = 0\n",
    "Y_0 = iniInf\n",
    "R01_0 = iniImmu\n",
    "R10_0 = 0\n",
    "I01_0 = 0\n",
    "Y10_0 = 0\n",
    "S_0 = 1 - V_0 - IS_0 - IV_0 - Y_0 - R01_0 - R10_0 - I01_0 - Y10_0 \n",
    "\n",
    "init = {    \n",
    "    'S' : S_0,\n",
    "    'V' : V_0,\n",
    "    'IS' : IS_0,\n",
    "    'IV' : IV_0,\n",
    "    'Y' : Y_0,\n",
    "    'R01' : R01_0,\n",
    "    'R10' : R10_0,\n",
    "    'I01' : I01_0,\n",
    "    'Y10' : Y10_0,\n",
    "}\n",
    "\n",
    "gammas = 1/7\n",
    "beta_Y = 6*gammas # For zero initial immunity\n",
    "beta_Y = 6.5*gammas\n",
    "beta_I = 2*gammas\n",
    "\n",
    "pars = {\n",
    "    'beta_IS_S' : beta_I,\n",
    "    'beta_IV_S' : beta_I,\n",
    "    'beta_I01_S' : beta_I,\n",
    "    'beta_IS_V' : beta_I,\n",
    "    'beta_IV_V' : beta_I,\n",
    "    'beta_I01_V' : beta_I,\n",
    "    'beta_IS_R01' : beta_I,\n",
    "    'beta_IV_R01' : beta_I,\n",
    "    'beta_I01_R01' : beta_I,\n",
    "    'beta_Y_S' : beta_Y,\n",
    "    'beta_Y10_S' : beta_Y,\n",
    "    'beta_Y_R10' : beta_Y,\n",
    "    'beta_Y10_R10' : beta_Y,\n",
    "    'gamma_IS' : gammas,\n",
    "    'gamma_IV' : gammas,\n",
    "    'gamma_Y' : gammas,\n",
    "    'gamma_I01' : gammas,\n",
    "    'gamma_Y10' : gammas,\n",
    "    }\n"
   ]
  },
  {
   "cell_type": "code",
   "execution_count": 44,
   "metadata": {},
   "outputs": [],
   "source": [
    "tEnd = 500\n",
    "sch1 = pmf.Scheme('OmikronDeltaFull',init,pars,0,tEnd,Changes=[])"
   ]
  },
  {
   "cell_type": "code",
   "execution_count": 45,
   "metadata": {},
   "outputs": [],
   "source": [
    "sch1.simulate()"
   ]
  },
  {
   "cell_type": "code",
   "execution_count": 46,
   "metadata": {},
   "outputs": [
    {
     "data": {
      "application/vnd.jupyter.widget-view+json": {
       "model_id": "4f4659c86b44441496248872f9527b53",
       "version_major": 2,
       "version_minor": 0
      },
      "text/plain": [
       "Canvas(toolbar=Toolbar(toolitems=[('Home', 'Reset original view', 'home', 'home'), ('Back', 'Back to previous …"
      ]
     },
     "metadata": {},
     "output_type": "display_data"
    }
   ],
   "source": [
    "curRes = sch1.result \n",
    "RTs = 1 - curRes.y.sum(axis=0)\n",
    "\n",
    "DKpop = 5800000\n",
    "\n",
    "# fig,(ax1,ax2) = plt.subplots(2,1,sharex=True)\n",
    "fig,(ax1,ax2) = plt.subplots(2,1)\n",
    "ax1.fill_between(curRes.t,curRes.Y*DKpop,color='r',label='Delta')\n",
    "ax2.fill_between(curRes.t,curRes.Y*DKpop,color='r',label='Delta')\n",
    "\n",
    "t_width = 30*5\n",
    "t_init = 90 # Approximately 2021-10-01\n",
    "\n",
    "ax1.set_ylim(bottom=0)\n",
    "ax2.set_ylim(bottom=0,top=8000)\n",
    "ax1.set_xlim([curRes.t[0],curRes.t[-1]])\n",
    "ax2.set_xlim([t_init,t_init+t_width])\n",
    "\n",
    "ax1.set_xlabel('t')\n",
    "ax2.set_xlabel('t')\n",
    "\n",
    "ax2.set_title('Total simulated period')\n",
    "ax2.set_title('Zoom on relevant period')\n",
    "\n",
    "# ax1.legend(bbox_to_anchor=(1,0.5,0.25,0.1),loc='center right',mode='expand') \n",
    "# ax1.set_ylim([0,1])\n",
    "# ax1.set_xlim([curRes.t[0],curRes.t[-1]])\n",
    "# ax1.set_xlabel('t')\n",
    "# ax1.set_ylabel('Share of population')\n",
    "fig.tight_layout()\n",
    "\n",
    "# fig.savefig(path_figs+'IthenY')"
   ]
  },
  {
   "cell_type": "code",
   "execution_count": 47,
   "metadata": {},
   "outputs": [
    {
     "data": {
      "application/vnd.jupyter.widget-view+json": {
       "model_id": "cdb8544595414e8c83589f5111d8e618",
       "version_major": 2,
       "version_minor": 0
      },
      "text/plain": [
       "Canvas(toolbar=Toolbar(toolitems=[('Home', 'Reset original view', 'home', 'home'), ('Back', 'Back to previous …"
      ]
     },
     "metadata": {},
     "output_type": "display_data"
    }
   ],
   "source": [
    "curRes = sch1.result \n",
    "RTs = 1 - curRes.y.sum(axis=0)\n",
    "\n",
    "fig,ax1 = plt.subplots()\n",
    "curLabels = [   \n",
    "                r'$I_S$: Infectious'+'\\n(unvaccinated)',\n",
    "                r'$I_V$: Infectious'+'\\n(vaccinated)',\n",
    "                r'$I_{0,1}$: Infectious'+'\\n(previous Y)',\n",
    "                r'$Y$: Infectious',\n",
    "                r'$Y_{1,0}$: Infectious'+'\\n(previous I)',\n",
    "                r'$R_{1,0}$: Recovered, I',\n",
    "                r'$R_{0,1}$: Recovered, Y',\n",
    "                r'$R_{1,1}$: Immune to both',\n",
    "                r'$S$: Susceptible',\n",
    "                r'$V$: Vaccinated'\n",
    "                ]\n",
    "curColors = ['xkcd:orange','xkcd:light orange','xkcd:yellow','xkcd:red','xkcd:light red','xkcd:green','xkcd:light green','xkcd:dark green','xkcd:sky blue','xkcd:grey']\n",
    "ax1.stackplot(curRes.t,\n",
    "                curRes.IS,\n",
    "                curRes.IV,\n",
    "                curRes.I01,\n",
    "                curRes.Y,\n",
    "                curRes.Y10,\n",
    "                curRes.R10,\n",
    "                curRes.R01,\n",
    "                RTs,\n",
    "                curRes.S,\n",
    "                curRes.V,\n",
    "                labels=curLabels,colors=curColors)\n",
    "\n",
    "ax1.legend(bbox_to_anchor=(1,0.5,0.25,0.1),loc='center right',mode='expand') \n",
    "ax1.set_ylim([0,1])\n",
    "ax1.set_ylim([0,0.25])\n",
    "ax1.set_xlim([curRes.t[0],curRes.t[-1]])\n",
    "ax1.set_xlabel('t')\n",
    "ax1.set_ylabel('Share of population')\n",
    "fig.tight_layout()\n",
    "\n",
    "# fig.savefig(path_figs+'IthenY')"
   ]
  },
  {
   "cell_type": "code",
   "execution_count": 48,
   "metadata": {},
   "outputs": [],
   "source": [
    "tChange = t_init + 50\n",
    "tChange = t_init + 40\n",
    "toAdd = iniInf\n",
    "dictToAdd =  {  \n",
    "    'S' : -toAdd,\n",
    "    'V' : 0,\n",
    "    'IS' : toAdd,\n",
    "    'IV' : 0,\n",
    "    'Y' : 0,\n",
    "    'R01' : 0,\n",
    "    'R10' : 0,\n",
    "    'I01' : 0,\n",
    "    'Y10' : 0,\n",
    "}\n",
    "addI = pmf.Change(tChange, AddVariables=dictToAdd)\n",
    "\n",
    "sch2 = sch1.copy()\n",
    "sch2.addChange(addI)\n",
    "sch2.simulate()"
   ]
  },
  {
   "cell_type": "code",
   "execution_count": 49,
   "metadata": {},
   "outputs": [
    {
     "data": {
      "application/vnd.jupyter.widget-view+json": {
       "model_id": "cfdcac76ee7646c08d2c6fbc21f5a76c",
       "version_major": 2,
       "version_minor": 0
      },
      "text/plain": [
       "Canvas(toolbar=Toolbar(toolitems=[('Home', 'Reset original view', 'home', 'home'), ('Back', 'Back to previous …"
      ]
     },
     "metadata": {},
     "output_type": "display_data"
    },
    {
     "data": {
      "text/plain": [
       "(90.0, 240.0)"
      ]
     },
     "execution_count": 49,
     "metadata": {},
     "output_type": "execute_result"
    }
   ],
   "source": [
    "curRes = sch2.result \n",
    "RTs = 1 - curRes.y.sum(axis=0)\n",
    "\n",
    "fig,(ax1,ax2) = plt.subplots(2,1)\n",
    "curLabels = [   \n",
    "                r'$Y$: Infectious',\n",
    "                r'$Y_{1,0}$: Infectious'+'\\n(previous I)',\n",
    "                r'$I_S$: Infectious'+'\\n(unvaccinated)',\n",
    "                r'$I_V$: Infectious'+'\\n(vaccinated)',\n",
    "                r'$I_{0,1}$: Infectious'+'\\n(previous Y)',\n",
    "                ]\n",
    "curColors = ['xkcd:red','xkcd:light red','xkcd:orange','xkcd:light orange','xkcd:yellow']\n",
    "                \n",
    "for ax in (ax1,ax2):\n",
    "    ax.stackplot(curRes.t,\n",
    "                DKpop*curRes.Y,\n",
    "                DKpop*curRes.Y10,\n",
    "                DKpop*curRes.IS,\n",
    "                DKpop*curRes.IV,\n",
    "                DKpop*curRes.I01,\n",
    "                labels=curLabels,colors=curColors)\n",
    "\n",
    "t_width = 30*5\n",
    "t_init = 90\n",
    "\n",
    "ax1.set_ylim(bottom=0)\n",
    "ax2.set_ylim(bottom=0,top=8000)\n",
    "ax1.set_xlim([curRes.t[0],curRes.t[-1]])\n",
    "ax2.set_xlim([t_init,t_init+t_width])"
   ]
  },
  {
   "cell_type": "markdown",
   "metadata": {},
   "source": [
    "# Try with lockdown mid december (-ish) "
   ]
  },
  {
   "cell_type": "code",
   "execution_count": 59,
   "metadata": {},
   "outputs": [],
   "source": [
    "tChange2 = t_init + 75 # Approximately December 15th\n",
    "betaMult = 0.65\n",
    "betaMult_Y = betaMult \n",
    "betaMult_I = betaMult \n",
    "# betaMult = 0.7\n",
    "# betaMult_Y = betaMult *0.8\n",
    "# betaMult_I = betaMult \n",
    "dictToMult = {\n",
    "'beta_IS_S' : betaMult_I,\n",
    "'beta_IV_S' : betaMult_I,\n",
    "'beta_I01_S' : betaMult_I,\n",
    "'beta_IS_V' : betaMult_I,\n",
    "'beta_IV_V' : betaMult_I,\n",
    "'beta_I01_V' : betaMult_I,\n",
    "'beta_IS_R01' : betaMult_I,\n",
    "'beta_IV_R01' : betaMult_I,\n",
    "'beta_I01_R01' : betaMult_I,\n",
    "'beta_Y_S' : betaMult_Y,\n",
    "'beta_Y10_S' : betaMult_Y,\n",
    "'beta_Y_R10' : betaMult_Y,\n",
    "'beta_Y10_R10' : betaMult_Y,\n",
    "'gamma_IS' : 1,\n",
    "'gamma_IV' : 1,\n",
    "'gamma_Y' : 1,\n",
    "'gamma_I01' : 1,\n",
    "'gamma_Y10' : 1,\n",
    "}\n",
    "betaMultChange = pmf.Change(tChange2, MultiplyParameters=dictToMult)\n",
    "\n",
    "sch3 = sch2.copy()\n",
    "sch3.addChange(betaMultChange)\n",
    "sch3.sortChanges()\n",
    "sch3.simulate()"
   ]
  },
  {
   "cell_type": "code",
   "execution_count": 60,
   "metadata": {},
   "outputs": [
    {
     "data": {
      "application/vnd.jupyter.widget-view+json": {
       "model_id": "f98cba6dfa854229b4014299c173f499",
       "version_major": 2,
       "version_minor": 0
      },
      "text/plain": [
       "Canvas(toolbar=Toolbar(toolitems=[('Home', 'Reset original view', 'home', 'home'), ('Back', 'Back to previous …"
      ]
     },
     "metadata": {},
     "output_type": "display_data"
    },
    {
     "data": {
      "text/plain": [
       "(90.0, 240.0)"
      ]
     },
     "execution_count": 60,
     "metadata": {},
     "output_type": "execute_result"
    }
   ],
   "source": [
    "curRes = sch3.result \n",
    "RTs = 1 - curRes.y.sum(axis=0)\n",
    "\n",
    "fig,(ax1,ax2) = plt.subplots(2,1)\n",
    "curLabels = [   \n",
    "                r'$Y$: Infectious',\n",
    "                r'$Y_{1,0}$: Infectious'+'\\n(previous I)',\n",
    "                r'$I_{0,1}$: Infectious'+'\\n(previous Y)',\n",
    "                r'$I_S$: Infectious'+'\\n(unvaccinated)',\n",
    "                r'$I_V$: Infectious'+'\\n(vaccinated)',\n",
    "                ]\n",
    "curColors = ['xkcd:red','xkcd:light red','xkcd:yellow','xkcd:orange','xkcd:light orange']\n",
    "                \n",
    "for ax in (ax1,ax2):\n",
    "    ax.stackplot(curRes.t,\n",
    "                DKpop*curRes.Y,\n",
    "                DKpop*curRes.Y10,\n",
    "                DKpop*curRes.I01,\n",
    "                DKpop*curRes.IS,\n",
    "                DKpop*curRes.IV,\n",
    "                labels=curLabels,colors=curColors)\n",
    "\n",
    "t_width = 30*5\n",
    "t_init = 90\n",
    "\n",
    "ax1.legend()\n",
    "\n",
    "ax1.set_ylim(bottom=0)\n",
    "ax2.set_ylim(bottom=0,top=8000)\n",
    "ax1.set_xlim([curRes.t[0],curRes.t[-1]])\n",
    "ax2.set_xlim([t_init,t_init+t_width])"
   ]
  },
  {
   "cell_type": "markdown",
   "metadata": {},
   "source": [
    "# Try with some partial immunity, reflected by lower betas"
   ]
  },
  {
   "cell_type": "code",
   "execution_count": 73,
   "metadata": {},
   "outputs": [],
   "source": [
    "tChange2 = t_init + 75 # Approximately December 15th\n",
    "betaMult = 1\n",
    "betaMult_Y = betaMult *0.6\n",
    "betaMult_I = betaMult\n",
    "betaMult_I_V = betaMult * 0.6\n",
    "betaMult_I_R = betaMult * 0.6\n",
    "# betaMult = 0.7\n",
    "# betaMult_Y = betaMult *0.8\n",
    "# betaMult_I = betaMult \n",
    "dictToMult = {\n",
    "'beta_IS_S' : betaMult_I,\n",
    "'beta_IV_S' : betaMult_I,\n",
    "'beta_I01_S' : betaMult_I,\n",
    "'beta_IS_V' : betaMult_I_V,\n",
    "'beta_IV_V' : betaMult_I_V,\n",
    "'beta_I01_V' : betaMult_I_V,\n",
    "'beta_IS_R01' : betaMult_I_R,\n",
    "'beta_IV_R01' : betaMult_I_R,\n",
    "'beta_I01_R01' : betaMult_I_R,\n",
    "'beta_Y_S' : betaMult_Y,\n",
    "'beta_Y10_S' : betaMult_Y,\n",
    "'beta_Y_R10' : betaMult_Y,\n",
    "'beta_Y10_R10' : betaMult_Y,\n",
    "'gamma_IS' : 1,\n",
    "'gamma_IV' : 1,\n",
    "'gamma_Y' : 1,\n",
    "'gamma_I01' : 1,\n",
    "'gamma_Y10' : 1,\n",
    "}\n",
    "betaMultChange = pmf.Change(tChange2, MultiplyParameters=dictToMult)\n",
    "\n",
    "sch4 = sch2.copy()\n",
    "sch4.addChange(betaMultChange)\n",
    "sch4.sortChanges()\n",
    "sch4.simulate()"
   ]
  },
  {
   "cell_type": "code",
   "execution_count": 74,
   "metadata": {},
   "outputs": [
    {
     "data": {
      "application/vnd.jupyter.widget-view+json": {
       "model_id": "eebb6f8ffdc74bfa99899052982b71ce",
       "version_major": 2,
       "version_minor": 0
      },
      "text/plain": [
       "Canvas(toolbar=Toolbar(toolitems=[('Home', 'Reset original view', 'home', 'home'), ('Back', 'Back to previous …"
      ]
     },
     "metadata": {},
     "output_type": "display_data"
    },
    {
     "data": {
      "text/plain": [
       "(90.0, 240.0)"
      ]
     },
     "execution_count": 74,
     "metadata": {},
     "output_type": "execute_result"
    }
   ],
   "source": [
    "curRes = sch4.result \n",
    "RTs = 1 - curRes.y.sum(axis=0)\n",
    "\n",
    "fig,(ax1,ax2) = plt.subplots(2,1)\n",
    "curLabels = [   \n",
    "                r'$Y$: Infectious',\n",
    "                r'$Y_{1,0}$: Infectious'+'\\n(previous I)',\n",
    "                r'$I_{0,1}$: Infectious'+'\\n(previous Y)',\n",
    "                r'$I_S$: Infectious'+'\\n(unvaccinated)',\n",
    "                r'$I_V$: Infectious'+'\\n(vaccinated)',\n",
    "                ]\n",
    "curColors = ['xkcd:red','xkcd:light red','xkcd:yellow','xkcd:orange','xkcd:light orange']\n",
    "                \n",
    "for ax in (ax1,ax2):\n",
    "    ax.stackplot(curRes.t,\n",
    "                DKpop*curRes.Y,\n",
    "                DKpop*curRes.Y10,\n",
    "                DKpop*curRes.I01,\n",
    "                DKpop*curRes.IS,\n",
    "                DKpop*curRes.IV,\n",
    "                labels=curLabels,colors=curColors)\n",
    "\n",
    "t_width = 30*5\n",
    "t_init = 90\n",
    "\n",
    "ax1.legend()\n",
    "\n",
    "ax1.set_ylim(bottom=0)\n",
    "ax2.set_ylim(bottom=0,top=8000)\n",
    "ax1.set_xlim([curRes.t[0],curRes.t[-1]])\n",
    "ax2.set_xlim([t_init,t_init+t_width])"
   ]
  },
  {
   "cell_type": "code",
   "execution_count": 75,
   "metadata": {},
   "outputs": [
    {
     "data": {
      "application/vnd.jupyter.widget-view+json": {
       "model_id": "8ab1b8301e06479c934ba63e98f5a6e5",
       "version_major": 2,
       "version_minor": 0
      },
      "text/plain": [
       "Canvas(toolbar=Toolbar(toolitems=[('Home', 'Reset original view', 'home', 'home'), ('Back', 'Back to previous …"
      ]
     },
     "metadata": {},
     "output_type": "display_data"
    }
   ],
   "source": [
    "curRes = sch4.result \n",
    "RTs = 1 - curRes.y.sum(axis=0)\n",
    "\n",
    "fig,ax1 = plt.subplots()\n",
    "curLabels = [   \n",
    "                r'$I_S$: Infectious'+'\\n(unvaccinated)',\n",
    "                r'$I_V$: Infectious'+'\\n(vaccinated)',\n",
    "                r'$I_{0,1}$: Infectious'+'\\n(previous Y)',\n",
    "                r'$Y$: Infectious',\n",
    "                r'$Y_{1,0}$: Infectious'+'\\n(previous I)',\n",
    "                r'$R_{1,0}$: Recovered, I',\n",
    "                r'$R_{0,1}$: Recovered, Y',\n",
    "                r'$R_{1,1}$: Immune to both',\n",
    "                r'$S$: Susceptible',\n",
    "                r'$V$: Vaccinated'\n",
    "                ]\n",
    "curColors = ['xkcd:orange','xkcd:light orange','xkcd:yellow','xkcd:red','xkcd:light red','xkcd:green','xkcd:light green','xkcd:dark green','xkcd:sky blue','xkcd:grey']\n",
    "ax1.stackplot(curRes.t,\n",
    "                curRes.IS,\n",
    "                curRes.IV,\n",
    "                curRes.I01,\n",
    "                curRes.Y,\n",
    "                curRes.Y10,\n",
    "                curRes.R10,\n",
    "                curRes.R01,\n",
    "                RTs,\n",
    "                curRes.S,\n",
    "                curRes.V,\n",
    "                labels=curLabels,colors=curColors)\n",
    "\n",
    "ax1.legend(bbox_to_anchor=(1,0.5,0.25,0.1),loc='center right',mode='expand') \n",
    "ax1.set_ylim([0,1])\n",
    "# ax1.set_ylim([0,0.25])\n",
    "ax1.set_xlim([curRes.t[0],curRes.t[-1]])\n",
    "ax1.set_xlabel('t')\n",
    "ax1.set_ylabel('Share of population')\n",
    "fig.tight_layout()\n",
    "\n",
    "# fig.savefig(path_figs+'IthenY')"
   ]
  },
  {
   "cell_type": "code",
   "execution_count": null,
   "metadata": {},
   "outputs": [],
   "source": []
  }
 ],
 "metadata": {
  "interpreter": {
   "hash": "c72cdf52cb3d31f207bca538e9396da8706c0ecf4a3038fb1c2b317934170431"
  },
  "kernelspec": {
   "display_name": "Python 3.8.5 64-bit ('main': conda)",
   "language": "python",
   "name": "python3"
  },
  "language_info": {
   "codemirror_mode": {
    "name": "ipython",
    "version": 3
   },
   "file_extension": ".py",
   "mimetype": "text/x-python",
   "name": "python",
   "nbconvert_exporter": "python",
   "pygments_lexer": "ipython3",
   "version": "3.8.5"
  },
  "orig_nbformat": 4
 },
 "nbformat": 4,
 "nbformat_minor": 2
}
