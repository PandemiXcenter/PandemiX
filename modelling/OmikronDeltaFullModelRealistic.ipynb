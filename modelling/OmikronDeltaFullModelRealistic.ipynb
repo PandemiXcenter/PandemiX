{
 "cells": [
  {
   "cell_type": "markdown",
   "metadata": {},
   "source": [
    "# Notebook for trying to recreate the delta->omikron wave of fall/winter 2021"
   ]
  },
  {
   "cell_type": "code",
   "execution_count": 1,
   "metadata": {},
   "outputs": [],
   "source": [
    "%matplotlib widget\n",
    "\n",
    "import sys\n",
    "sys.path.append(\"./../scripts\")\n",
    "import PandemiXFunctions as pf\n",
    "import PandemiXModelFunctions as pmf\n",
    "\n",
    "import os\n",
    "\n",
    "import numpy as np\n",
    "import pandas as pd\n",
    "\n",
    "import matplotlib.pyplot as plt\n",
    "plt.rcParams['figure.figsize'] = (12,8)\n",
    "plt.rcParams[\"image.cmap\"] = \"tab10\"\n",
    "plt.rcParams['axes.prop_cycle'] = plt.cycler(color=plt.cm.tab10.colors)\n",
    "fs_label = 16\n",
    "parameters = {\n",
    "                'axes.labelsize': fs_label,\n",
    "                'axes.titlesize': fs_label+4,\n",
    "                'xtick.labelsize': fs_label,\n",
    "                'ytick.labelsize': fs_label, \n",
    "                'legend.fontsize': fs_label, \n",
    "                'lines.markersize': 10,\n",
    "                'lines.linewidth': 3\n",
    "             }\n",
    "             \n",
    "             \n",
    "from scipy.integrate import cumtrapz\n",
    "# int_I = cumtrapz(np.exp(u_H*ts)*Is,ts, initial=0)\n",
    "# Hs = np.exp(-u_H*ts) * (r_chr*pars_full['gamma']*int_I + k) "
   ]
  },
  {
   "cell_type": "code",
   "execution_count": 2,
   "metadata": {},
   "outputs": [
    {
     "data": {
      "text/plain": [
       "<module 'PandemiXModelFunctions' from 'c:\\\\Users\\\\rakrpe\\\\OneDrive - Roskilde Universitet\\\\Documents\\\\PandemiX\\\\GithubRepos\\\\PandemiX\\\\modelling\\\\PandemiXModelFunctions.py'>"
      ]
     },
     "execution_count": 2,
     "metadata": {},
     "output_type": "execute_result"
    }
   ],
   "source": [
    "# Reload PandemiXModelFunctions, in case changes have been made\n",
    "import importlib \n",
    "importlib.reload(pmf)"
   ]
  },
  {
   "cell_type": "code",
   "execution_count": 3,
   "metadata": {},
   "outputs": [],
   "source": [
    "path_figs = os.getcwd() + '\\\\Figures\\\\'\n",
    "path_figs = path_figs + 'TwoStrainModel_'"
   ]
  },
  {
   "cell_type": "markdown",
   "metadata": {},
   "source": [
    "# Start by just getting the delta growth correct"
   ]
  },
  {
   "cell_type": "code",
   "execution_count": 72,
   "metadata": {},
   "outputs": [],
   "source": [
    "# Initialize everything\n",
    "iniInf = 0.000005\n",
    "iniVacc = 0.8 # Approximately DK's vaccinationsrate at the end of summer 2021\n",
    "iniImmu = 0.05 # Approximation. Should only be \"natural immunity\"\n",
    "iniImmu = iniImmu * (1-iniVacc) # For splitting previous infections between vaccinated and susceptible\n",
    "\n",
    "V_0 = iniVacc \n",
    "IS_0 = 0\n",
    "IV_0 = 0\n",
    "Y_0 = iniInf\n",
    "R01_0 = iniImmu\n",
    "R10_0 = 0\n",
    "I01_0 = 0\n",
    "Y10_0 = 0\n",
    "S_0 = 1 - V_0 - IS_0 - IV_0 - Y_0 - R01_0 - R10_0 - I01_0 - Y10_0 \n",
    "\n",
    "init = {    \n",
    "    'S' : S_0,\n",
    "    'V' : V_0,\n",
    "    'IS' : IS_0,\n",
    "    'IV' : IV_0,\n",
    "    'Y' : Y_0,\n",
    "    'R01' : R01_0,\n",
    "    'R10' : R10_0,\n",
    "    'I01' : I01_0,\n",
    "    'Y10' : Y10_0,\n",
    "}\n",
    "\n",
    "gammas = 1/7\n",
    "beta_Y = 6*gammas # For zero initial immunity\n",
    "beta_Y = 6.5*gammas\n",
    "beta_I = 2*gammas\n",
    "\n",
    "pars = {\n",
    "    'beta_IS_S' : beta_I,\n",
    "    'beta_IV_S' : beta_I,\n",
    "    'beta_I01_S' : beta_I,\n",
    "    'beta_IS_V' : beta_I,\n",
    "    'beta_IV_V' : beta_I,\n",
    "    'beta_I01_V' : beta_I,\n",
    "    'beta_IS_R01' : beta_I,\n",
    "    'beta_IV_R01' : beta_I,\n",
    "    'beta_I01_R01' : beta_I,\n",
    "    'beta_Y_S' : beta_Y,\n",
    "    'beta_Y10_S' : beta_Y,\n",
    "    'beta_Y_R10' : beta_Y,\n",
    "    'beta_Y10_R10' : beta_Y,\n",
    "    'gamma_IS' : gammas,\n",
    "    'gamma_IV' : gammas,\n",
    "    'gamma_Y' : gammas,\n",
    "    'gamma_I01' : gammas,\n",
    "    'gamma_Y10' : gammas,\n",
    "    }\n"
   ]
  },
  {
   "cell_type": "code",
   "execution_count": 73,
   "metadata": {},
   "outputs": [],
   "source": [
    "tEnd = 500\n",
    "sch1 = pmf.Scheme('OmikronDeltaFull',init,pars,0,tEnd,Changes=[])"
   ]
  },
  {
   "cell_type": "code",
   "execution_count": 74,
   "metadata": {},
   "outputs": [],
   "source": [
    "sch1.simulate()"
   ]
  },
  {
   "cell_type": "code",
   "execution_count": 75,
   "metadata": {},
   "outputs": [
    {
     "data": {
      "application/vnd.jupyter.widget-view+json": {
       "model_id": "937537d49cc84ca5a3e04dc51e1c33f3",
       "version_major": 2,
       "version_minor": 0
      },
      "text/plain": [
       "Canvas(toolbar=Toolbar(toolitems=[('Home', 'Reset original view', 'home', 'home'), ('Back', 'Back to previous …"
      ]
     },
     "metadata": {},
     "output_type": "display_data"
    }
   ],
   "source": [
    "curRes = sch1.result \n",
    "RTs = 1 - curRes.y.sum(axis=0)\n",
    "\n",
    "DKpop = 5800000\n",
    "\n",
    "# fig,(ax1,ax2) = plt.subplots(2,1,sharex=True)\n",
    "fig,(ax1,ax2) = plt.subplots(2,1)\n",
    "ax1.fill_between(curRes.t,curRes.Y*DKpop,color='r',label='Delta')\n",
    "ax2.fill_between(curRes.t,curRes.Y*DKpop,color='r',label='Delta')\n",
    "\n",
    "t_width = 30*5\n",
    "t_init = 90 # Approximately 2021-10-01\n",
    "\n",
    "ax1.set_ylim(bottom=0)\n",
    "ax2.set_ylim(bottom=0,top=8000)\n",
    "ax1.set_xlim([curRes.t[0],curRes.t[-1]])\n",
    "ax2.set_xlim([t_init,t_init+t_width])\n",
    "\n",
    "ax1.set_xlabel('t')\n",
    "ax2.set_xlabel('t')\n",
    "\n",
    "ax2.set_title('Total simulated period')\n",
    "ax2.set_title('Zoom on relevant period')\n",
    "\n",
    "# ax1.legend(bbox_to_anchor=(1,0.5,0.25,0.1),loc='center right',mode='expand') \n",
    "# ax1.set_ylim([0,1])\n",
    "# ax1.set_xlim([curRes.t[0],curRes.t[-1]])\n",
    "# ax1.set_xlabel('t')\n",
    "# ax1.set_ylabel('Share of population')\n",
    "fig.tight_layout()\n",
    "\n",
    "# fig.savefig(path_figs+'IthenY')"
   ]
  },
  {
   "cell_type": "code",
   "execution_count": 76,
   "metadata": {},
   "outputs": [
    {
     "data": {
      "application/vnd.jupyter.widget-view+json": {
       "model_id": "f433f043b5d640e48dd4213b379a4cd0",
       "version_major": 2,
       "version_minor": 0
      },
      "text/plain": [
       "Canvas(toolbar=Toolbar(toolitems=[('Home', 'Reset original view', 'home', 'home'), ('Back', 'Back to previous …"
      ]
     },
     "metadata": {},
     "output_type": "display_data"
    }
   ],
   "source": [
    "curRes = sch1.result \n",
    "RTs = 1 - curRes.y.sum(axis=0)\n",
    "\n",
    "fig,ax1 = plt.subplots()\n",
    "curLabels = [   \n",
    "                r'$I_S$: Infectious'+'\\n(unvaccinated)',\n",
    "                r'$I_V$: Infectious'+'\\n(vaccinated)',\n",
    "                r'$I_{0,1}$: Infectious'+'\\n(previous Y)',\n",
    "                r'$Y$: Infectious',\n",
    "                r'$Y_{1,0}$: Infectious'+'\\n(previous I)',\n",
    "                r'$R_{1,0}$: Recovered, I',\n",
    "                r'$R_{0,1}$: Recovered, Y',\n",
    "                r'$R_{1,1}$: Immune to both',\n",
    "                r'$S$: Susceptible',\n",
    "                r'$V$: Vaccinated'\n",
    "                ]\n",
    "curColors = ['xkcd:orange','xkcd:light orange','xkcd:yellow','xkcd:red','xkcd:light red','xkcd:green','xkcd:light green','xkcd:dark green','xkcd:sky blue','xkcd:grey']\n",
    "ax1.stackplot(curRes.t,\n",
    "                curRes.IS,\n",
    "                curRes.IV,\n",
    "                curRes.I01,\n",
    "                curRes.Y,\n",
    "                curRes.Y10,\n",
    "                curRes.R10,\n",
    "                curRes.R01,\n",
    "                RTs,\n",
    "                curRes.S,\n",
    "                curRes.V,\n",
    "                labels=curLabels,colors=curColors)\n",
    "\n",
    "ax1.legend(bbox_to_anchor=(1,0.5,0.25,0.1),loc='center right',mode='expand') \n",
    "ax1.set_ylim([0,1])\n",
    "ax1.set_ylim([0,0.25])\n",
    "ax1.set_xlim([curRes.t[0],curRes.t[-1]])\n",
    "ax1.set_xlabel('t')\n",
    "ax1.set_ylabel('Share of population')\n",
    "fig.tight_layout()\n",
    "\n",
    "# fig.savefig(path_figs+'IthenY')"
   ]
  },
  {
   "cell_type": "code",
   "execution_count": 9,
   "metadata": {},
   "outputs": [],
   "source": [
    "tChange = t_init + 50\n",
    "tChange = t_init + 40\n",
    "toAdd = iniInf\n",
    "dictToAdd =  {  \n",
    "    'S' : -toAdd,\n",
    "    'IS' : toAdd,\n",
    "}\n",
    "addI = pmf.Change(tChange, AddVariables=dictToAdd)\n",
    "\n",
    "sch2 = sch1.copy()\n",
    "sch2.addChange(addI)\n",
    "sch2.simulate()"
   ]
  },
  {
   "cell_type": "code",
   "execution_count": 10,
   "metadata": {},
   "outputs": [
    {
     "name": "stdout",
     "output_type": "stream",
     "text": [
      "-------\n",
      "Model: OmikronDeltaFull.\n",
      "Complete simulation running from t=0 until t=500\n",
      "Initial conditions: {'S': 0.18999499999999994, 'V': 0.8, 'IS': 0, 'IV': 0, 'Y': 5e-06, 'R01': 0.009999999999999998, 'R10': 0, 'I01': 0, 'Y10': 0}\n",
      "Parameters: {'beta_IS_S': 0.2857142857142857, 'beta_IV_S': 0.2857142857142857, 'beta_I01_S': 0.2857142857142857, 'beta_IS_V': 0.2857142857142857, 'beta_IV_V': 0.2857142857142857, 'beta_I01_V': 0.2857142857142857, 'beta_IS_R01': 0.2857142857142857, 'beta_IV_R01': 0.2857142857142857, 'beta_I01_R01': 0.2857142857142857, 'beta_Y_S': 0.9285714285714285, 'beta_Y10_S': 0.9285714285714285, 'beta_Y_R10': 0.9285714285714285, 'beta_Y10_R10': 0.9285714285714285, 'gamma_IS': 0.14285714285714285, 'gamma_IV': 0.14285714285714285, 'gamma_Y': 0.14285714285714285, 'gamma_I01': 0.14285714285714285, 'gamma_Y10': 0.14285714285714285}\n",
      "---\n",
      "Changes: \n",
      "Change 0: At time 130, add S: -5e-06, IS: 5e-06 to variables\n",
      "---\n"
     ]
    }
   ],
   "source": [
    "print(sch2)"
   ]
  },
  {
   "cell_type": "code",
   "execution_count": 11,
   "metadata": {},
   "outputs": [
    {
     "data": {
      "application/vnd.jupyter.widget-view+json": {
       "model_id": "14bbf985e6b5414d8de0754df0f5f408",
       "version_major": 2,
       "version_minor": 0
      },
      "text/plain": [
       "Canvas(toolbar=Toolbar(toolitems=[('Home', 'Reset original view', 'home', 'home'), ('Back', 'Back to previous …"
      ]
     },
     "metadata": {},
     "output_type": "display_data"
    },
    {
     "data": {
      "text/plain": [
       "(90.0, 240.0)"
      ]
     },
     "execution_count": 11,
     "metadata": {},
     "output_type": "execute_result"
    }
   ],
   "source": [
    "curRes = sch2.result \n",
    "RTs = 1 - curRes.y.sum(axis=0)\n",
    "\n",
    "fig,(ax1,ax2) = plt.subplots(2,1)\n",
    "curLabels = [   \n",
    "                r'$Y$: Infectious',\n",
    "                r'$Y_{1,0}$: Infectious'+'\\n(previous I)',\n",
    "                r'$I_S$: Infectious'+'\\n(unvaccinated)',\n",
    "                r'$I_V$: Infectious'+'\\n(vaccinated)',\n",
    "                r'$I_{0,1}$: Infectious'+'\\n(previous Y)',\n",
    "                ]\n",
    "curColors = ['xkcd:red','xkcd:light red','xkcd:orange','xkcd:light orange','xkcd:yellow']\n",
    "                \n",
    "for ax in (ax1,ax2):\n",
    "    ax.stackplot(curRes.t,\n",
    "                DKpop*curRes.Y,\n",
    "                DKpop*curRes.Y10,\n",
    "                DKpop*curRes.IS,\n",
    "                DKpop*curRes.IV,\n",
    "                DKpop*curRes.I01,\n",
    "                labels=curLabels,colors=curColors)\n",
    "\n",
    "t_width = 30*5\n",
    "t_init = 90\n",
    "\n",
    "ax1.set_ylim(bottom=0)\n",
    "ax2.set_ylim(bottom=0,top=8000)\n",
    "ax1.set_xlim([curRes.t[0],curRes.t[-1]])\n",
    "ax2.set_xlim([t_init,t_init+t_width])"
   ]
  },
  {
   "cell_type": "markdown",
   "metadata": {},
   "source": [
    "# Try with lockdown mid december (-ish) "
   ]
  },
  {
   "cell_type": "code",
   "execution_count": 12,
   "metadata": {},
   "outputs": [],
   "source": [
    "\n",
    "# dictToMult = {\n",
    "# 'beta_IS_S' : betaMult_I,\n",
    "# 'beta_IV_S' : betaMult_I,\n",
    "# 'beta_I01_S' : betaMult_I,\n",
    "# 'beta_IS_V' : betaMult_I,\n",
    "# 'beta_IV_V' : betaMult_I,\n",
    "# 'beta_I01_V' : betaMult_I,\n",
    "# 'beta_IS_R01' : betaMult_I,\n",
    "# 'beta_IV_R01' : betaMult_I,\n",
    "# 'beta_I01_R01' : betaMult_I,\n",
    "# 'beta_Y_S' : betaMult_Y,\n",
    "# 'beta_Y10_S' : betaMult_Y,\n",
    "# 'beta_Y_R10' : betaMult_Y,\n",
    "# 'beta_Y10_R10' : betaMult_Y,\n",
    "# 'gamma_IS' : 1,\n",
    "# 'gamma_IV' : 1,\n",
    "# 'gamma_Y' : 1,\n",
    "# 'gamma_I01' : 1,\n",
    "# 'gamma_Y10' : 1,\n",
    "# }"
   ]
  },
  {
   "cell_type": "code",
   "execution_count": 13,
   "metadata": {},
   "outputs": [],
   "source": [
    "tChange2 = t_init + 75 # Approximately December 15th\n",
    "betaMult = 0.65\n",
    "betaMult_Y = betaMult \n",
    "betaMult_I = betaMult \n",
    "# betaMult = 0.7\n",
    "# betaMult_Y = betaMult *0.8\n",
    "# betaMult_I = betaMult \n",
    "dictToMult = {\n",
    "'beta_IS_S' : betaMult_I,\n",
    "'beta_IV_S' : betaMult_I,\n",
    "'beta_I01_S' : betaMult_I,\n",
    "'beta_IS_V' : betaMult_I,\n",
    "'beta_IV_V' : betaMult_I,\n",
    "'beta_I01_V' : betaMult_I,\n",
    "'beta_IS_R01' : betaMult_I,\n",
    "'beta_IV_R01' : betaMult_I,\n",
    "'beta_I01_R01' : betaMult_I,\n",
    "'beta_Y_S' : betaMult_Y,\n",
    "'beta_Y10_S' : betaMult_Y,\n",
    "'beta_Y_R10' : betaMult_Y,\n",
    "'beta_Y10_R10' : betaMult_Y,\n",
    "}\n",
    "\n",
    "betaMultChange = pmf.Change(tChange2, MultiplyParameters=dictToMult)\n",
    "\n",
    "sch3 = sch2.copy()\n",
    "sch3.addChange(betaMultChange)\n",
    "sch3.sortChanges()\n",
    "sch3.simulate()"
   ]
  },
  {
   "cell_type": "code",
   "execution_count": 14,
   "metadata": {},
   "outputs": [
    {
     "data": {
      "application/vnd.jupyter.widget-view+json": {
       "model_id": "f8171c65bbd0426a8a7a80650c4d2e85",
       "version_major": 2,
       "version_minor": 0
      },
      "text/plain": [
       "Canvas(toolbar=Toolbar(toolitems=[('Home', 'Reset original view', 'home', 'home'), ('Back', 'Back to previous …"
      ]
     },
     "metadata": {},
     "output_type": "display_data"
    },
    {
     "data": {
      "text/plain": [
       "(90.0, 240.0)"
      ]
     },
     "execution_count": 14,
     "metadata": {},
     "output_type": "execute_result"
    }
   ],
   "source": [
    "curRes = sch3.result \n",
    "RTs = 1 - curRes.y.sum(axis=0)\n",
    "\n",
    "fig,(ax1,ax2) = plt.subplots(2,1)\n",
    "curLabels = [   \n",
    "                r'$Y$: Infectious',\n",
    "                r'$Y_{1,0}$: Infectious'+'\\n(previous I)',\n",
    "                r'$I_{0,1}$: Infectious'+'\\n(previous Y)',\n",
    "                r'$I_S$: Infectious'+'\\n(unvaccinated)',\n",
    "                r'$I_V$: Infectious'+'\\n(vaccinated)',\n",
    "                ]\n",
    "curColors = ['xkcd:red','xkcd:light red','xkcd:yellow','xkcd:orange','xkcd:light orange']\n",
    "                \n",
    "for ax in (ax1,ax2):\n",
    "    ax.stackplot(curRes.t,\n",
    "                DKpop*curRes.Y,\n",
    "                DKpop*curRes.Y10,\n",
    "                DKpop*curRes.I01,\n",
    "                DKpop*curRes.IS,\n",
    "                DKpop*curRes.IV,\n",
    "                labels=curLabels,colors=curColors)\n",
    "\n",
    "t_width = 30*5\n",
    "t_init = 90\n",
    "\n",
    "ax1.legend()\n",
    "\n",
    "ax1.set_ylim(bottom=0)\n",
    "ax2.set_ylim(bottom=0,top=8000)\n",
    "ax1.set_xlim([curRes.t[0],curRes.t[-1]])\n",
    "ax2.set_xlim([t_init,t_init+t_width])"
   ]
  },
  {
   "cell_type": "markdown",
   "metadata": {},
   "source": [
    "# Try with some partial immunity, reflected by lower betas"
   ]
  },
  {
   "cell_type": "code",
   "execution_count": 15,
   "metadata": {},
   "outputs": [],
   "source": [
    "tChange2 = t_init + 75 # Approximately December 15th\n",
    "betaMult = 1\n",
    "betaMult_Y = betaMult *0.6\n",
    "betaMult_I = betaMult\n",
    "betaMult_I_V = betaMult * 0.6\n",
    "betaMult_I_R = betaMult * 0.6\n",
    "# betaMult = 0.7\n",
    "# betaMult_Y = betaMult *0.8\n",
    "# betaMult_I = betaMult \n",
    "dictToMult = {\n",
    "'beta_IS_S' : betaMult_I,\n",
    "'beta_IV_S' : betaMult_I,\n",
    "'beta_I01_S' : betaMult_I,\n",
    "'beta_IS_V' : betaMult_I_V,\n",
    "'beta_IV_V' : betaMult_I_V,\n",
    "'beta_I01_V' : betaMult_I_V,\n",
    "'beta_IS_R01' : betaMult_I_R,\n",
    "'beta_IV_R01' : betaMult_I_R,\n",
    "'beta_I01_R01' : betaMult_I_R,\n",
    "'beta_Y_S' : betaMult_Y,\n",
    "'beta_Y10_S' : betaMult_Y,\n",
    "'beta_Y_R10' : betaMult_Y,\n",
    "'beta_Y10_R10' : betaMult_Y,\n",
    "}\n",
    "betaMultChange = pmf.Change(tChange2, MultiplyParameters=dictToMult)\n",
    "\n",
    "sch4 = sch2.copy()\n",
    "sch4.addChange(betaMultChange)\n",
    "sch4.sortChanges()\n",
    "sch4.simulate()"
   ]
  },
  {
   "cell_type": "code",
   "execution_count": 16,
   "metadata": {},
   "outputs": [
    {
     "data": {
      "application/vnd.jupyter.widget-view+json": {
       "model_id": "0f3216e7db1342079a3246c1bc6c8437",
       "version_major": 2,
       "version_minor": 0
      },
      "text/plain": [
       "Canvas(toolbar=Toolbar(toolitems=[('Home', 'Reset original view', 'home', 'home'), ('Back', 'Back to previous …"
      ]
     },
     "metadata": {},
     "output_type": "display_data"
    },
    {
     "data": {
      "text/plain": [
       "(90.0, 240.0)"
      ]
     },
     "execution_count": 16,
     "metadata": {},
     "output_type": "execute_result"
    }
   ],
   "source": [
    "curRes = sch4.result \n",
    "RTs = 1 - curRes.y.sum(axis=0)\n",
    "\n",
    "fig,(ax1,ax2) = plt.subplots(2,1)\n",
    "curLabels = [   \n",
    "                r'$Y$: Infectious',\n",
    "                r'$Y_{1,0}$: Infectious'+'\\n(previous I)',\n",
    "                r'$I_{0,1}$: Infectious'+'\\n(previous Y)',\n",
    "                r'$I_S$: Infectious'+'\\n(unvaccinated)',\n",
    "                r'$I_V$: Infectious'+'\\n(vaccinated)',\n",
    "                ]\n",
    "curColors = ['xkcd:red','xkcd:light red','xkcd:yellow','xkcd:orange','xkcd:light orange']\n",
    "                \n",
    "for ax in (ax1,ax2):\n",
    "    ax.stackplot(curRes.t,\n",
    "                DKpop*curRes.Y,\n",
    "                DKpop*curRes.Y10,\n",
    "                DKpop*curRes.I01,\n",
    "                DKpop*curRes.IS,\n",
    "                DKpop*curRes.IV,\n",
    "                labels=curLabels,colors=curColors)\n",
    "\n",
    "t_width = 30*5\n",
    "t_init = 90\n",
    "\n",
    "ax1.legend()\n",
    "\n",
    "ax1.set_ylim(bottom=0)\n",
    "ax2.set_ylim(bottom=0,top=8000)\n",
    "ax1.set_xlim([curRes.t[0],curRes.t[-1]])\n",
    "ax2.set_xlim([t_init,t_init+t_width])"
   ]
  },
  {
   "cell_type": "code",
   "execution_count": 17,
   "metadata": {},
   "outputs": [
    {
     "data": {
      "application/vnd.jupyter.widget-view+json": {
       "model_id": "5984496510bd4d6b9a2326e2d43f6b13",
       "version_major": 2,
       "version_minor": 0
      },
      "text/plain": [
       "Canvas(toolbar=Toolbar(toolitems=[('Home', 'Reset original view', 'home', 'home'), ('Back', 'Back to previous …"
      ]
     },
     "metadata": {},
     "output_type": "display_data"
    }
   ],
   "source": [
    "curRes = sch4.result \n",
    "RTs = 1 - curRes.y.sum(axis=0)\n",
    "\n",
    "fig,ax1 = plt.subplots()\n",
    "curLabels = [   \n",
    "                r'$I_S$: Infectious'+'\\n(unvaccinated)',\n",
    "                r'$I_V$: Infectious'+'\\n(vaccinated)',\n",
    "                r'$I_{0,1}$: Infectious'+'\\n(previous Y)',\n",
    "                r'$Y$: Infectious',\n",
    "                r'$Y_{1,0}$: Infectious'+'\\n(previous I)',\n",
    "                r'$R_{1,0}$: Recovered, I',\n",
    "                r'$R_{0,1}$: Recovered, Y',\n",
    "                r'$R_{1,1}$: Immune to both',\n",
    "                r'$S$: Susceptible',\n",
    "                r'$V$: Vaccinated'\n",
    "                ]\n",
    "curColors = ['xkcd:orange','xkcd:light orange','xkcd:yellow','xkcd:red','xkcd:light red','xkcd:green','xkcd:light green','xkcd:dark green','xkcd:sky blue','xkcd:grey']\n",
    "ax1.stackplot(curRes.t,\n",
    "                curRes.IS,\n",
    "                curRes.IV,\n",
    "                curRes.I01,\n",
    "                curRes.Y,\n",
    "                curRes.Y10,\n",
    "                curRes.R10,\n",
    "                curRes.R01,\n",
    "                RTs,\n",
    "                curRes.S,\n",
    "                curRes.V,\n",
    "                labels=curLabels,colors=curColors)\n",
    "\n",
    "ax1.legend(bbox_to_anchor=(1,0.5,0.25,0.1),loc='center right',mode='expand') \n",
    "ax1.set_ylim([0,1])\n",
    "# ax1.set_ylim([0,0.25])\n",
    "ax1.set_xlim([curRes.t[0],curRes.t[-1]])\n",
    "ax1.set_xlabel('t')\n",
    "ax1.set_ylabel('Share of population')\n",
    "fig.tight_layout()\n",
    "\n",
    "# fig.savefig(path_figs+'IthenY')"
   ]
  },
  {
   "cell_type": "markdown",
   "metadata": {},
   "source": [
    "# Make a direct comparison with data"
   ]
  },
  {
   "cell_type": "code",
   "execution_count": 18,
   "metadata": {},
   "outputs": [
    {
     "data": {
      "text/html": [
       "<div>\n",
       "<style scoped>\n",
       "    .dataframe tbody tr th:only-of-type {\n",
       "        vertical-align: middle;\n",
       "    }\n",
       "\n",
       "    .dataframe tbody tr th {\n",
       "        vertical-align: top;\n",
       "    }\n",
       "\n",
       "    .dataframe thead th {\n",
       "        text-align: right;\n",
       "    }\n",
       "</style>\n",
       "<table border=\"1\" class=\"dataframe\">\n",
       "  <thead>\n",
       "    <tr style=\"text-align: right;\">\n",
       "      <th></th>\n",
       "      <th>index</th>\n",
       "      <th>Date</th>\n",
       "      <th>Total</th>\n",
       "      <th>Delta</th>\n",
       "      <th>Omikron</th>\n",
       "      <th>Reinfections</th>\n",
       "    </tr>\n",
       "  </thead>\n",
       "  <tbody>\n",
       "    <tr>\n",
       "      <th>0</th>\n",
       "      <td>273</td>\n",
       "      <td>2021-10-01</td>\n",
       "      <td>401</td>\n",
       "      <td>4.010000e+02</td>\n",
       "      <td>0.0</td>\n",
       "      <td>7</td>\n",
       "    </tr>\n",
       "    <tr>\n",
       "      <th>1</th>\n",
       "      <td>274</td>\n",
       "      <td>2021-10-02</td>\n",
       "      <td>325</td>\n",
       "      <td>3.250000e+02</td>\n",
       "      <td>0.0</td>\n",
       "      <td>2</td>\n",
       "    </tr>\n",
       "    <tr>\n",
       "      <th>2</th>\n",
       "      <td>275</td>\n",
       "      <td>2021-10-03</td>\n",
       "      <td>409</td>\n",
       "      <td>4.090000e+02</td>\n",
       "      <td>0.0</td>\n",
       "      <td>5</td>\n",
       "    </tr>\n",
       "    <tr>\n",
       "      <th>3</th>\n",
       "      <td>276</td>\n",
       "      <td>2021-10-04</td>\n",
       "      <td>552</td>\n",
       "      <td>5.520000e+02</td>\n",
       "      <td>0.0</td>\n",
       "      <td>6</td>\n",
       "    </tr>\n",
       "    <tr>\n",
       "      <th>4</th>\n",
       "      <td>277</td>\n",
       "      <td>2021-10-05</td>\n",
       "      <td>566</td>\n",
       "      <td>5.660000e+02</td>\n",
       "      <td>0.0</td>\n",
       "      <td>8</td>\n",
       "    </tr>\n",
       "    <tr>\n",
       "      <th>...</th>\n",
       "      <td>...</td>\n",
       "      <td>...</td>\n",
       "      <td>...</td>\n",
       "      <td>...</td>\n",
       "      <td>...</td>\n",
       "      <td>...</td>\n",
       "    </tr>\n",
       "    <tr>\n",
       "      <th>134</th>\n",
       "      <td>407</td>\n",
       "      <td>2022-02-12</td>\n",
       "      <td>32624</td>\n",
       "      <td>7.243983e-12</td>\n",
       "      <td>32624.0</td>\n",
       "      <td>1673</td>\n",
       "    </tr>\n",
       "    <tr>\n",
       "      <th>135</th>\n",
       "      <td>408</td>\n",
       "      <td>2022-02-13</td>\n",
       "      <td>35589</td>\n",
       "      <td>7.902345e-12</td>\n",
       "      <td>35589.0</td>\n",
       "      <td>1792</td>\n",
       "    </tr>\n",
       "    <tr>\n",
       "      <th>136</th>\n",
       "      <td>409</td>\n",
       "      <td>2022-02-14</td>\n",
       "      <td>45206</td>\n",
       "      <td>0.000000e+00</td>\n",
       "      <td>45206.0</td>\n",
       "      <td>2362</td>\n",
       "    </tr>\n",
       "    <tr>\n",
       "      <th>137</th>\n",
       "      <td>410</td>\n",
       "      <td>2022-02-15</td>\n",
       "      <td>41982</td>\n",
       "      <td>0.000000e+00</td>\n",
       "      <td>41982.0</td>\n",
       "      <td>2251</td>\n",
       "    </tr>\n",
       "    <tr>\n",
       "      <th>138</th>\n",
       "      <td>411</td>\n",
       "      <td>2022-02-16</td>\n",
       "      <td>18787</td>\n",
       "      <td>0.000000e+00</td>\n",
       "      <td>18787.0</td>\n",
       "      <td>1077</td>\n",
       "    </tr>\n",
       "  </tbody>\n",
       "</table>\n",
       "<p>139 rows × 6 columns</p>\n",
       "</div>"
      ],
      "text/plain": [
       "     index       Date  Total         Delta  Omikron  Reinfections\n",
       "0      273 2021-10-01    401  4.010000e+02      0.0             7\n",
       "1      274 2021-10-02    325  3.250000e+02      0.0             2\n",
       "2      275 2021-10-03    409  4.090000e+02      0.0             5\n",
       "3      276 2021-10-04    552  5.520000e+02      0.0             6\n",
       "4      277 2021-10-05    566  5.660000e+02      0.0             8\n",
       "..     ...        ...    ...           ...      ...           ...\n",
       "134    407 2022-02-12  32624  7.243983e-12  32624.0          1673\n",
       "135    408 2022-02-13  35589  7.902345e-12  35589.0          1792\n",
       "136    409 2022-02-14  45206  0.000000e+00  45206.0          2362\n",
       "137    410 2022-02-15  41982  0.000000e+00  41982.0          2251\n",
       "138    411 2022-02-16  18787  0.000000e+00  18787.0          1077\n",
       "\n",
       "[139 rows x 6 columns]"
      ]
     },
     "execution_count": 18,
     "metadata": {},
     "output_type": "execute_result"
    }
   ],
   "source": [
    "\n",
    "df = pd.read_csv('OmikronDeltaData.csv')\n",
    "df['Date'] = pd.to_datetime(df['Date'])\n",
    "\n",
    "# Cut off everything before 2021-10-01\n",
    "df = df[df.Date >= np.datetime64('2021-10-01')]\n",
    "df = df.reset_index()\n",
    "df"
   ]
  },
  {
   "cell_type": "code",
   "execution_count": 19,
   "metadata": {},
   "outputs": [
    {
     "data": {
      "application/vnd.jupyter.widget-view+json": {
       "model_id": "3f22018396a64e3ebe1a2852ec948549",
       "version_major": 2,
       "version_minor": 0
      },
      "text/plain": [
       "Canvas(toolbar=Toolbar(toolitems=[('Home', 'Reset original view', 'home', 'home'), ('Back', 'Back to previous …"
      ]
     },
     "metadata": {},
     "output_type": "display_data"
    },
    {
     "data": {
      "text/plain": [
       "[<matplotlib.lines.Line2D at 0x1ad8774eaf0>]"
      ]
     },
     "execution_count": 19,
     "metadata": {},
     "output_type": "execute_result"
    }
   ],
   "source": [
    "fig,ax1 = plt.subplots(figsize=(6,3))\n",
    "ax1.plot(pf.rnTime(df.Date,7),pf.rnMean(df.Total,7))\n",
    "ax1.plot(pf.rnTime(df.Date,7),pf.rnMean(df.Delta,7))\n"
   ]
  },
  {
   "cell_type": "code",
   "execution_count": 20,
   "metadata": {},
   "outputs": [],
   "source": [
    "numDaysToSim = len(df.Date)\n",
    "DateRestrictions = np.where(df.Date == np.datetime64('2021-12-15'))[0][0]\n",
    "DateNewYears = np.where(df.Date == np.datetime64('2022-01-01'))[0][0]\n",
    "DateRestrictionsEnd = np.where(df.Date == np.datetime64('2022-01-15'))[0][0]"
   ]
  },
  {
   "cell_type": "code",
   "execution_count": 21,
   "metadata": {},
   "outputs": [],
   "source": [
    "# Initialize everything\n",
    "DarkNumberRatio = 1.3\n",
    "iniInf = DarkNumberRatio * df.Total[0:3].sum()/DKpop\n",
    "iniVacc = 0.8 # Approximately DK's vaccinationsrate at the end of summer 2021\n",
    "iniImmu = 0.05 # Approximation. Should only be \"natural immunity\"\n",
    "iniImmu = iniImmu * (1-iniVacc) # For splitting previous infections between vaccinated and susceptible\n",
    "\n",
    "V_0 = iniVacc \n",
    "IS_0 = 0\n",
    "IV_0 = 0\n",
    "Y_0 = iniInf\n",
    "R01_0 = iniImmu\n",
    "R10_0 = 0\n",
    "I01_0 = 0\n",
    "Y10_0 = 0\n",
    "S_0 = 1 - V_0 - IS_0 - IV_0 - Y_0 - R01_0 - R10_0 - I01_0 - Y10_0 \n",
    "\n",
    "init = {    \n",
    "    'S' : S_0,\n",
    "    'V' : V_0,\n",
    "    'IS' : IS_0,\n",
    "    'IV' : IV_0,\n",
    "    'Y' : Y_0,\n",
    "    'R01' : R01_0,\n",
    "    'R10' : R10_0,\n",
    "    'I01' : I01_0,\n",
    "    'Y10' : Y10_0,\n",
    "}\n",
    "\n",
    "# gammas = 1/7\n",
    "gammas = 1/(4.7)\n",
    "beta_Y = 6.5*gammas\n",
    "beta_I = 2*gammas\n",
    "# beta_I = 1.5*gammas\n",
    "\n",
    "pars = {\n",
    "    'beta_IS_S' : beta_I,\n",
    "    'beta_IV_S' : beta_I,\n",
    "    'beta_I01_S' : beta_I,\n",
    "    'beta_IS_V' : beta_I,\n",
    "    'beta_IV_V' : beta_I,\n",
    "    'beta_I01_V' : beta_I,\n",
    "    'beta_IS_R01' : beta_I,\n",
    "    'beta_IV_R01' : beta_I,\n",
    "    'beta_I01_R01' : beta_I,\n",
    "    'beta_Y_S' : beta_Y,\n",
    "    'beta_Y10_S' : beta_Y,\n",
    "    'beta_Y_R10' : beta_Y,\n",
    "    'beta_Y10_R10' : beta_Y,\n",
    "    'gamma_IS' : gammas,\n",
    "    'gamma_IV' : gammas,\n",
    "    'gamma_Y' : gammas,\n",
    "    'gamma_I01' : gammas,\n",
    "    'gamma_Y10' : gammas,\n",
    "    }\n"
   ]
  },
  {
   "cell_type": "code",
   "execution_count": 22,
   "metadata": {},
   "outputs": [],
   "source": [
    "tLock = DateRestrictions\n",
    "betaMult = 0.5\n",
    "betaMult_Y = betaMult \n",
    "betaMult_I = betaMult \n",
    "# betaMult = 0.7\n",
    "# betaMult_Y = betaMult *0.8\n",
    "# betaMult_I = betaMult \n",
    "dictToMult = {\n",
    "'beta_IS_S' : betaMult_I,\n",
    "'beta_IV_S' : betaMult_I,\n",
    "'beta_I01_S' : betaMult_I,\n",
    "'beta_IS_V' : betaMult_I,\n",
    "'beta_IV_V' : betaMult_I,\n",
    "'beta_I01_V' : betaMult_I,\n",
    "'beta_IS_R01' : betaMult_I,\n",
    "'beta_IV_R01' : betaMult_I,\n",
    "'beta_I01_R01' : betaMult_I,\n",
    "'beta_Y_S' : betaMult_Y,\n",
    "'beta_Y10_S' : betaMult_Y,\n",
    "'beta_Y_R10' : betaMult_Y,\n",
    "'beta_Y10_R10' : betaMult_Y,\n",
    "'gamma_IS' : 1,\n",
    "'gamma_IV' : 1,\n",
    "'gamma_Y' : 1,\n",
    "'gamma_I01' : 1,\n",
    "'gamma_Y10' : 1,\n",
    "}\n",
    "betaMultChange = pmf.Change(tLock, MultiplyParameters=dictToMult)\n",
    "\n",
    "tEnd = numDaysToSim\n",
    "sch1 = pmf.Scheme('OmikronDeltaFull',init,pars,0,tEnd,Changes=[])\n",
    "sch1.addChange(betaMultChange)"
   ]
  },
  {
   "cell_type": "code",
   "execution_count": 23,
   "metadata": {},
   "outputs": [],
   "source": [
    "sch1.simulate(tRes=1000)"
   ]
  },
  {
   "cell_type": "code",
   "execution_count": 24,
   "metadata": {},
   "outputs": [],
   "source": [
    "curT = sch1.result.t\n",
    "curDays = np.datetime64(df.iloc[0].Date)+np.array([np.timedelta64(int(np.round(x)),'D') for x in curT])\n",
    "curDays = np.datetime64(df.iloc[0].Date)+np.array([np.timedelta64(int(np.round(x*24)),'h') for x in curT])\n",
    "# asdf = pd.DataFrame() \n",
    "# asdf['d'] = curDays\n",
    "# curDays = asdf.d.values\n",
    "# np.timedelta64(int(np.round(curT[3])),'D')"
   ]
  },
  {
   "cell_type": "code",
   "execution_count": 25,
   "metadata": {},
   "outputs": [
    {
     "data": {
      "application/vnd.jupyter.widget-view+json": {
       "model_id": "dce70333e7e34db5ac36621a64045257",
       "version_major": 2,
       "version_minor": 0
      },
      "text/plain": [
       "Canvas(toolbar=Toolbar(toolitems=[('Home', 'Reset original view', 'home', 'home'), ('Back', 'Back to previous …"
      ]
     },
     "metadata": {},
     "output_type": "display_data"
    },
    {
     "data": {
      "text/plain": [
       "(0.0, 32000.0)"
      ]
     },
     "execution_count": 25,
     "metadata": {},
     "output_type": "execute_result"
    }
   ],
   "source": [
    "curRes = sch1.result \n",
    "RTs = 1 - curRes.y.sum(axis=0)\n",
    "\n",
    "fig,(ax1,ax2) = plt.subplots(2,1)\n",
    "curLabels = [   \n",
    "                r'$Y$: Infectious',\n",
    "                r'$Y_{1,0}$: Infectious'+'\\n(previous I)',\n",
    "                r'$I_{0,1}$: Infectious'+'\\n(previous Y)',\n",
    "                r'$I_S$: Infectious'+'\\n(unvaccinated)',\n",
    "                r'$I_V$: Infectious'+'\\n(vaccinated)',\n",
    "                ]\n",
    "curColors = ['xkcd:light red','xkcd:light red','xkcd:yellow','xkcd:orange','xkcd:light orange']\n",
    "\n",
    "# for ax in (ax1,ax2):\n",
    "#     ax.stackplot(curDays,\n",
    "#                 DKpop*curRes.Y,\n",
    "#                 # DKpop*curRes.Y10,\n",
    "#                 # DKpop*curRes.I01,\n",
    "#                 # DKpop*curRes.IS,\n",
    "#                 # DKpop*curRes.IV,\n",
    "#                 labels=curLabels,colors=curColors)\n",
    "ax1.stackplot(curDays,\n",
    "            DKpop*curRes.Y,\n",
    "            labels=curLabels,colors=curColors)\n",
    "ax2.stackplot(curDays,\n",
    "            DKpop*curRes.Y,\n",
    "            labels=curLabels,colors=curColors)\n",
    "\n",
    "t_width = 30*5\n",
    "t_init = 30\n",
    "\n",
    "# ax2.plot(pf.rnTime(df.Date,7),pf.rnMean(df.Delta,7)*DarkNumberRatio,'b')\n",
    "appDataY = np.cumsum(df.Delta)[3:].values - np.cumsum(df.Delta)[:-3].values\n",
    "appDataI = np.cumsum(df.Omikron)[3:].values - np.cumsum(df.Omikron)[:-3].values\n",
    "ax2.plot(df.Date[:-3],appDataI+appDataY,color='xkcd:dark blue')\n",
    "ax2.plot(df.Date[:-3],appDataY,color='xkcd:dark red')\n",
    "\n",
    "\n",
    "ax1.legend()\n",
    "\n",
    "ax1.set_ylim(bottom=0)\n",
    "# ax2.set_ylim(bottom=0)\n",
    "ax2.set_ylim(bottom=0,top=8000*4)\n",
    "# ax1.set_xlim([curRes.t[0],curRes.t[-1]])\n",
    "# ax2.set_xlim([t_init,t_init+t_width])"
   ]
  },
  {
   "cell_type": "markdown",
   "metadata": {},
   "source": [
    "# Same, but with Omikron as well"
   ]
  },
  {
   "cell_type": "code",
   "execution_count": 77,
   "metadata": {},
   "outputs": [],
   "source": [
    "# Initialize everything\n",
    "DarkNumberRatio = 1.3\n",
    "iniInf = DarkNumberRatio * df.Total[0:3].sum()/DKpop\n",
    "iniVacc = 0.8 # Approximately DK's vaccinationsrate at the end of summer 2021\n",
    "iniImmu = 0.05 # Approximation. Should only be \"natural immunity\"\n",
    "iniImmu = 0.1 # Approximation. Should only be \"natural immunity\"\n",
    "iniImmu = iniImmu * (1-iniVacc) # For splitting previous infections between vaccinated and susceptible\n",
    "\n",
    "V_0 = iniVacc \n",
    "IS_0 = 0\n",
    "IV_0 = 0\n",
    "Y_0 = iniInf\n",
    "R01_0 = iniImmu\n",
    "R10_0 = 0\n",
    "I01_0 = 0\n",
    "Y10_0 = 0\n",
    "S_0 = 1 - V_0 - IS_0 - IV_0 - Y_0 - R01_0 - R10_0 - I01_0 - Y10_0 \n",
    "\n",
    "init = {'S' : S_0,'V' : V_0,'IS' : IS_0,'IV' : IV_0,'Y' : Y_0,'R01' : R01_0,'R10' : R10_0,'I01' : I01_0,'Y10' : Y10_0}\n",
    "\n",
    "# gammas = 1/7\n",
    "gammas = 1/(4.7)\n",
    "# beta_Y = 6.5*gammas\n",
    "beta_Y = 6.8*gammas\n",
    "beta_I = 1.9*gammas\n",
    "# beta_I = 2.5*gammas\n",
    "# beta_I = 1.5*gammas\n",
    "pars = {'beta_IS_S' : beta_I,'beta_IV_S' : beta_I,'beta_I01_S' : beta_I,'beta_IS_V' : beta_I,'beta_IV_V' : beta_I,'beta_I01_V' : beta_I,'beta_IS_R01' : beta_I,'beta_IV_R01' : beta_I,'beta_I01_R01' : beta_I,'beta_Y_S' : beta_Y,'beta_Y10_S' : beta_Y,'beta_Y_R10' : beta_Y,'beta_Y10_R10' : beta_Y,'gamma_IS' : gammas,'gamma_IV' : gammas,'gamma_Y' : gammas,'gamma_I01' : gammas,'gamma_Y10' : gammas}\n"
   ]
  },
  {
   "cell_type": "code",
   "execution_count": 78,
   "metadata": {},
   "outputs": [],
   "source": [
    "tLock = DateRestrictions \n",
    "betaMult = 0.65\n",
    "# betaMult_Y = betaMult *0.8\n",
    "betaMult_Y = betaMult \n",
    "betaMult_I = betaMult \n",
    "# betaMult = 0.7\n",
    "# betaMult_Y = betaMult *0.8\n",
    "# betaMult_I = betaMult \n",
    "dictToMult = {'beta_IS_S' : betaMult_I,'beta_IV_S' : betaMult_I,'beta_I01_S' : betaMult_I,'beta_IS_V' : betaMult_I,'beta_IV_V' : betaMult_I,'beta_I01_V' : betaMult_I,'beta_IS_R01' : betaMult_I,'beta_IV_R01' : betaMult_I,'beta_I01_R01' : betaMult_I,'beta_Y_S' : betaMult_Y,'beta_Y10_S' : betaMult_Y,'beta_Y_R10' : betaMult_Y,'beta_Y10_R10' : betaMult_Y,'gamma_IS' : 1,'gamma_IV' : 1,'gamma_Y' : 1,'gamma_I01' : 1,'gamma_Y10' : 1,}\n",
    "betaMultChange = pmf.Change(tLock, MultiplyParameters=dictToMult)\n"
   ]
  },
  {
   "cell_type": "code",
   "execution_count": 79,
   "metadata": {},
   "outputs": [],
   "source": [
    "tLockStop = DateNewYears + 4\n",
    "tLockStop = DateNewYears + 50\n",
    "# betaMult_Y = 1/dictToMult['beta_Y_S'] \n",
    "# betaMult_I = 1/dictToMult['beta_IS_S']\n",
    "betaMult_Y = 1/dictToMult['beta_Y_S'] \n",
    "betaMult_I = 1/dictToMult['beta_IS_S']\n",
    "# betaMult_I =0.9* 1/dictToMult['beta_IS_S']\n",
    "dictToMultEnd = {'beta_IS_S' : betaMult_I,'beta_IV_S' : betaMult_I,'beta_I01_S' : betaMult_I,'beta_IS_V' : betaMult_I,'beta_IV_V' : betaMult_I,'beta_I01_V' : betaMult_I,'beta_IS_R01' : betaMult_I,'beta_IV_R01' : betaMult_I,'beta_I01_R01' : betaMult_I,'beta_Y_S' : betaMult_Y,'beta_Y10_S' : betaMult_Y,'beta_Y_R10' : betaMult_Y,'beta_Y10_R10' : betaMult_Y,'gamma_IS' : 1,'gamma_IV' : 1,'gamma_Y' : 1,'gamma_I01' : 1,'gamma_Y10' : 1,}\n",
    "betaMultChangeBack = pmf.Change(tLockStop, MultiplyParameters=dictToMultEnd)"
   ]
  },
  {
   "cell_type": "code",
   "execution_count": 80,
   "metadata": {},
   "outputs": [],
   "source": [
    "tChange = 50\n",
    "# tChange = 52\n",
    "# tChange = 30\n",
    "toAdd = iniInf/10\n",
    "dictToAdd =  {  \n",
    "    'S' : -toAdd,\n",
    "    'IS' : toAdd,\n",
    "}\n",
    "addI = pmf.Change(tChange, AddVariables=dictToAdd)\n",
    "\n",
    "tEnd = numDaysToSim+150\n",
    "sch2 = pmf.Scheme('OmikronDeltaFull',init,pars,0,tEnd,Changes=[])\n",
    "# sch2.addChange(betaMultChange)\n",
    "# sch2.addChange(betaMultChangeBack)\n",
    "\n",
    "# sch2.addChange(addI)\n",
    "# sch2.sortChanges()\n",
    "sch2.simulate()"
   ]
  },
  {
   "cell_type": "code",
   "execution_count": 81,
   "metadata": {},
   "outputs": [
    {
     "data": {
      "text/plain": [
       "1.235"
      ]
     },
     "execution_count": 81,
     "metadata": {},
     "output_type": "execute_result"
    }
   ],
   "source": [
    "0.65 *sch2.Parameters['beta_IS_S']  / gammas\n",
    "# sch2.Changes[1].MultiplyParameters"
   ]
  },
  {
   "cell_type": "code",
   "execution_count": 89,
   "metadata": {},
   "outputs": [
    {
     "data": {
      "application/vnd.jupyter.widget-view+json": {
       "model_id": "6ad7e356d2a34550a421a6d4be2d1f57",
       "version_major": 2,
       "version_minor": 0
      },
      "text/plain": [
       "Canvas(toolbar=Toolbar(toolitems=[('Home', 'Reset original view', 'home', 'home'), ('Back', 'Back to previous …"
      ]
     },
     "metadata": {},
     "output_type": "display_data"
    },
    {
     "data": {
      "text/plain": [
       "[<matplotlib.lines.Line2D at 0x1ad974229d0>]"
      ]
     },
     "execution_count": 89,
     "metadata": {},
     "output_type": "execute_result"
    }
   ],
   "source": [
    "# print(sch2)\n",
    "plt.figure() \n",
    "plt.plot(df.Date,df.Delta)\n",
    "plt.plot(pf.rnTime(df.Date,7),pf.rnMean(df.Delta,7))"
   ]
  },
  {
   "cell_type": "code",
   "execution_count": 84,
   "metadata": {},
   "outputs": [
    {
     "data": {
      "application/vnd.jupyter.widget-view+json": {
       "model_id": "a6b3b590ae174a3b8f8c3e49ebdb441d",
       "version_major": 2,
       "version_minor": 0
      },
      "text/plain": [
       "Canvas(toolbar=Toolbar(toolitems=[('Home', 'Reset original view', 'home', 'home'), ('Back', 'Back to previous …"
      ]
     },
     "metadata": {},
     "output_type": "display_data"
    },
    {
     "data": {
      "text/plain": [
       "(0.0, 40000.0)"
      ]
     },
     "execution_count": 84,
     "metadata": {},
     "output_type": "execute_result"
    }
   ],
   "source": [
    "curRes = sch2.result \n",
    "RTs = 1 - curRes.y.sum(axis=0)\n",
    "\n",
    "curT = sch2.result.t\n",
    "curDays = np.datetime64(df.iloc[0].Date)+np.array([np.timedelta64(int(np.round(x)),'D') for x in curT])\n",
    "curDays = np.datetime64(df.iloc[0].Date)+np.array([np.timedelta64(int(np.round(x*24)),'h') for x in curT])\n",
    "\n",
    "fig,(ax1,ax2) = plt.subplots(2,1,figsize=(15,10))\n",
    "curLabels = [   \n",
    "                r'$Y$: Infectious',\n",
    "                r'$Y_{1,0}$: Infectious'+'\\n(previous I)',\n",
    "                r'$I_{0,1}$: Infectious'+'\\n(previous Y)',\n",
    "                r'$I_S$: Infectious'+'\\n(unvaccinated)',\n",
    "                r'$I_V$: Infectious'+'\\n(vaccinated)',\n",
    "                ]\n",
    "curColors = ['xkcd:red','xkcd:light red','xkcd:yellow','xkcd:orange','xkcd:light orange']\n",
    "\n",
    "for ax in (ax1,ax2):\n",
    "    ax.stackplot(curDays,\n",
    "                DKpop*curRes.Y,\n",
    "                DKpop*curRes.Y10,\n",
    "                DKpop*curRes.I01,\n",
    "                DKpop*curRes.IS,\n",
    "                DKpop*curRes.IV,\n",
    "                labels=curLabels,colors=curColors)\n",
    "\n",
    "t_width = 30*5\n",
    "t_init = 30\n",
    "\n",
    "# # ax2.plot(pf.rnTime(df.Date,7),pf.rnMean(df.Delta,7)*DarkNumberRatio,'b')\n",
    "# appDataDate = df.Date[:-3]\n",
    "# appDataY = np.cumsum(df.Delta)[3:].values - np.cumsum(df.Delta)[:-3].values\n",
    "# appDataI = np.cumsum(df.Omikron)[3:].values - np.cumsum(df.Omikron)[:-3].values\n",
    "# appDataRe = np.cumsum(df.Reinfections)[3:].values - np.cumsum(df.Reinfections)[:-3].values\n",
    "\n",
    "# ax2.plot(appDataDate,appDataI+appDataY,color='xkcd:dark blue',label='3-day sum of new cases, Omikron')\n",
    "# ax2.plot(appDataDate,appDataY,color='xkcd:dark red',label='3-day sum of new cases, Delta')\n",
    "# ax2.plot(appDataDate,appDataY+appDataRe,color='xkcd:purple',label='3-day sum of new cases, Re-infections')\n",
    "\n",
    "# ax1.plot(appDataDate,appDataI+appDataY,color='xkcd:dark blue',label='3-day sum of new cases, Omikron')\n",
    "# ax1.plot(appDataDate,appDataY,color='xkcd:dark red',label='3-day sum of new cases, Delta')\n",
    "# ax1.plot(appDataDate,appDataY+appDataRe,color='xkcd:purple',label='3-day sum of new cases, Re-infections')\n",
    "\n",
    "\n",
    "appDataDate = pf.rnTime(df.Date,7)\n",
    "appDataY = pf.rnMean(df.Delta.values,7)*3\n",
    "appDataI = pf.rnMean(df.Omikron.values,7)*3\n",
    "appDataRe = pf.rnMean(df.Reinfections.values,7)*3\n",
    "\n",
    "ax2.plot(appDataDate,appDataI+appDataY,color='xkcd:dark blue',label='Omikron, approximate data')\n",
    "ax2.plot(appDataDate,appDataY+appDataRe,color='xkcd:purple',label='Re-infections, approximate data')\n",
    "ax2.plot(appDataDate,appDataY,color='xkcd:dark red',label='Delta, approximate data')\n",
    "\n",
    "ax1.plot(appDataDate,appDataI+appDataY,color='xkcd:dark blue',label='Omikron, approximate data')\n",
    "ax1.plot(appDataDate,appDataY+appDataRe,color='xkcd:purple',label='Re-infections, approximate data')\n",
    "ax1.plot(appDataDate,appDataY,color='xkcd:dark red',label='Delta, approximate data')\n",
    "\n",
    "\n",
    "# ax1.axvline(curDays[0]+np.timedelta64(sch2.Changes[0].t,'D'),color='k',linestyle=':',label='Introduction of Omikron')\n",
    "# # ax1.axvline(curDays[0]+np.timedelta64(sch2.Changes[1].t,'D'),color='b',linestyle=':',label='Restrictions')\n",
    "# ax2.axvline(curDays[0]+np.timedelta64(sch2.Changes[0].t,'D'),color='k',linestyle=':')\n",
    "# # ax2.axvline(curDays[0]+np.timedelta64(sch2.Changes[1].t,'D'),color='b',linestyle=':')\n",
    "# # ax1.axvline(curDays[0]+np.timedelta64(sch2.Changes[2].t,'D'),color='g',linestyle=':',label='Restrictions stop')\n",
    "# # ax2.axvline(curDays[0]+np.timedelta64(sch2.Changes[2].t,'D'),color='g',linestyle=':')\n",
    "\n",
    "ax1.legend()\n",
    "\n",
    "ax1.set_ylim(bottom=0)\n",
    "ax2.set_ylim(bottom=0)\n",
    "ax2.set_ylim(bottom=0,top=8000*5)\n",
    "# ax1.set_xlim([curRes.t[0],curRes.t[-1]])\n",
    "# ax2.set_xlim([t_init,t_init+t_width])"
   ]
  },
  {
   "cell_type": "code",
   "execution_count": 70,
   "metadata": {},
   "outputs": [
    {
     "data": {
      "application/vnd.jupyter.widget-view+json": {
       "model_id": "2f6cdc216fab4e1196a7dd98425a9c7b",
       "version_major": 2,
       "version_minor": 0
      },
      "text/plain": [
       "Canvas(toolbar=Toolbar(toolitems=[('Home', 'Reset original view', 'home', 'home'), ('Back', 'Back to previous …"
      ]
     },
     "metadata": {},
     "output_type": "display_data"
    },
    {
     "data": {
      "text/plain": [
       "[<matplotlib.lines.Line2D at 0x1ad90b14700>]"
      ]
     },
     "execution_count": 70,
     "metadata": {},
     "output_type": "execute_result"
    }
   ],
   "source": [
    "fig,ax1 = plt.subplots()\n",
    "ax1.plot(appDataDate,appDataI,color='xkcd:dark blue',label='Omikron, approximate data')\n",
    "ax1.plot(curDays,DKpop*(curRes.IS+curRes.IV))"
   ]
  },
  {
   "cell_type": "code",
   "execution_count": 71,
   "metadata": {},
   "outputs": [
    {
     "data": {
      "application/vnd.jupyter.widget-view+json": {
       "model_id": "133df9970e174ef7a7b9d60d0b075c87",
       "version_major": 2,
       "version_minor": 0
      },
      "text/plain": [
       "Canvas(toolbar=Toolbar(toolitems=[('Home', 'Reset original view', 'home', 'home'), ('Back', 'Back to previous …"
      ]
     },
     "metadata": {},
     "output_type": "display_data"
    }
   ],
   "source": [
    "curRes = sch2.result \n",
    "RTs = 1 - curRes.y.sum(axis=0)\n",
    "\n",
    "fig,ax1 = plt.subplots()\n",
    "curLabels = [   \n",
    "                r'$I_S$: Infectious'+'\\n(unvaccinated)',\n",
    "                r'$I_V$: Infectious'+'\\n(vaccinated)',\n",
    "                r'$I_{0,1}$: Infectious'+'\\n(previous Y)',\n",
    "                r'$Y$: Infectious',\n",
    "                r'$Y_{1,0}$: Infectious'+'\\n(previous I)',\n",
    "                r'$R_{1,0}$: Recovered, I',\n",
    "                r'$R_{0,1}$: Recovered, Y',\n",
    "                r'$R_{1,1}$: Immune to both',\n",
    "                r'$S$: Susceptible',\n",
    "                r'$V$: Vaccinated'\n",
    "                ]\n",
    "curColors = ['xkcd:orange','xkcd:light orange','xkcd:yellow','xkcd:red','xkcd:light red','xkcd:green','xkcd:light green','xkcd:dark green','xkcd:sky blue','xkcd:grey']\n",
    "ax1.stackplot(curDays,\n",
    "                curRes.IS,\n",
    "                curRes.IV,\n",
    "                curRes.I01,\n",
    "                curRes.Y,\n",
    "                curRes.Y10,\n",
    "                curRes.R10,\n",
    "                curRes.R01,\n",
    "                RTs,\n",
    "                curRes.S,\n",
    "                curRes.V,\n",
    "                labels=curLabels,colors=curColors)\n",
    "\n",
    "ax1.legend(bbox_to_anchor=(1,0.5,0.25,0.1),loc='center right',mode='expand') \n",
    "ax1.set_ylim([0,1])\n",
    "# ax1.set_ylim([0,0.25])\n",
    "ax1.set_xlim([curDays[0],curDays[-1]])\n",
    "ax1.set_xlabel('t')\n",
    "ax1.set_ylabel('Share of population')\n",
    "fig.tight_layout()\n"
   ]
  },
  {
   "cell_type": "code",
   "execution_count": 34,
   "metadata": {},
   "outputs": [
    {
     "data": {
      "application/vnd.jupyter.widget-view+json": {
       "model_id": "b706afafb6dc48dfaadd35e3ea8ff82c",
       "version_major": 2,
       "version_minor": 0
      },
      "text/plain": [
       "Canvas(toolbar=Toolbar(toolitems=[('Home', 'Reset original view', 'home', 'home'), ('Back', 'Back to previous …"
      ]
     },
     "metadata": {},
     "output_type": "display_data"
    }
   ],
   "source": [
    "curRes = sch2.result \n",
    "RTs = 1 - curRes.y.sum(axis=0)\n",
    "\n",
    "fig,ax1 = plt.subplots()\n",
    "curLabels = [   \n",
    "                r'$S$: Susceptible',\n",
    "                r'$V$: Vaccinated',\n",
    "                r'$R_{1,1}$: Immune to both',\n",
    "                r'$I_S$: Infectious'+'\\n(unvaccinated)',\n",
    "                r'$I_V$: Infectious'+'\\n(vaccinated)',\n",
    "                r'$I_{0,1}$: Infectious'+'\\n(previous Y)',\n",
    "                r'$Y$: Infectious',\n",
    "                r'$Y_{1,0}$: Infectious'+'\\n(previous I)',\n",
    "                r'$R_{1,0}$: Recovered, I',\n",
    "                r'$R_{0,1}$: Recovered, Y',\n",
    "                ]\n",
    "curColors = ['xkcd:sky blue','xkcd:grey','xkcd:dark green','xkcd:orange','xkcd:light orange','xkcd:yellow','xkcd:red','xkcd:light red','xkcd:green','xkcd:light green']\n",
    "ax1.stackplot(curDays,\n",
    "                curRes.S,\n",
    "                curRes.V,\n",
    "                RTs,\n",
    "                curRes.IS,\n",
    "                curRes.IV,\n",
    "                curRes.I01,\n",
    "                curRes.Y,\n",
    "                curRes.Y10,\n",
    "                curRes.R10,\n",
    "                curRes.R01,\n",
    "                labels=curLabels,colors=curColors)\n",
    "\n",
    "ax1.legend(bbox_to_anchor=(1,0.5,0.25,0.1),loc='center right',mode='expand') \n",
    "ax1.set_ylim([0,1])\n",
    "# ax1.set_ylim([0,0.25])\n",
    "ax1.set_xlim([curDays[0],curDays[-1]])\n",
    "ax1.set_xlabel('t')\n",
    "ax1.set_ylabel('Share of population')\n",
    "fig.tight_layout()\n"
   ]
  },
  {
   "cell_type": "code",
   "execution_count": 35,
   "metadata": {},
   "outputs": [
    {
     "data": {
      "application/vnd.jupyter.widget-view+json": {
       "model_id": "d807f8f5d1c14cb4aa883ac3cfbf0778",
       "version_major": 2,
       "version_minor": 0
      },
      "text/plain": [
       "Canvas(toolbar=Toolbar(toolitems=[('Home', 'Reset original view', 'home', 'home'), ('Back', 'Back to previous …"
      ]
     },
     "metadata": {},
     "output_type": "display_data"
    },
    {
     "data": {
      "text/plain": [
       "<matplotlib.legend.Legend at 0x255ee266ca0>"
      ]
     },
     "execution_count": 35,
     "metadata": {},
     "output_type": "execute_result"
    }
   ],
   "source": [
    "susI = curRes.S[-1] + curRes.V[-1] + curRes.R01[-1]\n",
    "susY = curRes.S[-1] + curRes.R10[-1]\n",
    "susY\n",
    "plt.figure()\n",
    "plt.bar(0,1,color='xkcd:dark blue',label='Immune')\n",
    "plt.bar(1,1,color='xkcd:dark blue')\n",
    "plt.bar(0,curRes.S[-1],color='xkcd:light blue')\n",
    "plt.bar(0,curRes.V[-1],bottom=curRes.S[-1],color='xkcd:grey',label='Vaccinerede')\n",
    "plt.bar(0,curRes.R01[-1],bottom=curRes.S[-1]+curRes.V[-1],color='xkcd:light green',label='Tidligere Omikron smittede')\n",
    "# plt.bar(0,RTs[-1],bottom=curRes.R01[-1]+curRes.S[-1]+curRes.V[-1],color='xkcd:light green')\n",
    "plt.bar(1,curRes.S[-1],color='xkcd:light blue',label='Uvaccinerede')\n",
    "plt.bar(1,curRes.R01[-1],bottom=curRes.S[-1],color='xkcd:green',label='Tidligere Delta-smittede')\n",
    "\n",
    "ax1 = plt.gca()\n",
    "ax1.set_xticks([0,1])\n",
    "ax1.set_xticklabels(['Omikron','Delta-lignende variant'])\n",
    "ax1.legend()"
   ]
  },
  {
   "cell_type": "code",
   "execution_count": 36,
   "metadata": {},
   "outputs": [
    {
     "data": {
      "text/html": [
       "<div>\n",
       "<style scoped>\n",
       "    .dataframe tbody tr th:only-of-type {\n",
       "        vertical-align: middle;\n",
       "    }\n",
       "\n",
       "    .dataframe tbody tr th {\n",
       "        vertical-align: top;\n",
       "    }\n",
       "\n",
       "    .dataframe thead th {\n",
       "        text-align: right;\n",
       "    }\n",
       "</style>\n",
       "<table border=\"1\" class=\"dataframe\">\n",
       "  <thead>\n",
       "    <tr style=\"text-align: right;\">\n",
       "      <th></th>\n",
       "      <th>index</th>\n",
       "      <th>Date</th>\n",
       "      <th>Total</th>\n",
       "      <th>Delta</th>\n",
       "      <th>Omikron</th>\n",
       "      <th>Reinfections</th>\n",
       "    </tr>\n",
       "  </thead>\n",
       "  <tbody>\n",
       "    <tr>\n",
       "      <th>134</th>\n",
       "      <td>407</td>\n",
       "      <td>2022-02-12</td>\n",
       "      <td>32624</td>\n",
       "      <td>7.243983e-12</td>\n",
       "      <td>32624.0</td>\n",
       "      <td>1673</td>\n",
       "    </tr>\n",
       "    <tr>\n",
       "      <th>135</th>\n",
       "      <td>408</td>\n",
       "      <td>2022-02-13</td>\n",
       "      <td>35589</td>\n",
       "      <td>7.902345e-12</td>\n",
       "      <td>35589.0</td>\n",
       "      <td>1792</td>\n",
       "    </tr>\n",
       "    <tr>\n",
       "      <th>136</th>\n",
       "      <td>409</td>\n",
       "      <td>2022-02-14</td>\n",
       "      <td>45206</td>\n",
       "      <td>0.000000e+00</td>\n",
       "      <td>45206.0</td>\n",
       "      <td>2362</td>\n",
       "    </tr>\n",
       "    <tr>\n",
       "      <th>137</th>\n",
       "      <td>410</td>\n",
       "      <td>2022-02-15</td>\n",
       "      <td>41982</td>\n",
       "      <td>0.000000e+00</td>\n",
       "      <td>41982.0</td>\n",
       "      <td>2251</td>\n",
       "    </tr>\n",
       "    <tr>\n",
       "      <th>138</th>\n",
       "      <td>411</td>\n",
       "      <td>2022-02-16</td>\n",
       "      <td>18787</td>\n",
       "      <td>0.000000e+00</td>\n",
       "      <td>18787.0</td>\n",
       "      <td>1077</td>\n",
       "    </tr>\n",
       "  </tbody>\n",
       "</table>\n",
       "</div>"
      ],
      "text/plain": [
       "     index       Date  Total         Delta  Omikron  Reinfections\n",
       "134    407 2022-02-12  32624  7.243983e-12  32624.0          1673\n",
       "135    408 2022-02-13  35589  7.902345e-12  35589.0          1792\n",
       "136    409 2022-02-14  45206  0.000000e+00  45206.0          2362\n",
       "137    410 2022-02-15  41982  0.000000e+00  41982.0          2251\n",
       "138    411 2022-02-16  18787  0.000000e+00  18787.0          1077"
      ]
     },
     "execution_count": 36,
     "metadata": {},
     "output_type": "execute_result"
    }
   ],
   "source": [
    "df.tail()"
   ]
  },
  {
   "cell_type": "code",
   "execution_count": 37,
   "metadata": {},
   "outputs": [
    {
     "data": {
      "application/vnd.jupyter.widget-view+json": {
       "model_id": "8cad3c567b854173aeff286937daa520",
       "version_major": 2,
       "version_minor": 0
      },
      "text/plain": [
       "Canvas(toolbar=Toolbar(toolitems=[('Home', 'Reset original view', 'home', 'home'), ('Back', 'Back to previous …"
      ]
     },
     "metadata": {},
     "output_type": "display_data"
    },
    {
     "data": {
      "text/plain": [
       "(0.0, 0.5)"
      ]
     },
     "execution_count": 37,
     "metadata": {},
     "output_type": "execute_result"
    }
   ],
   "source": [
    "fig,(ax1,ax2) = plt.subplots(2,1,sharex=True)\n",
    "\n",
    "# ax1.fill_between(curDays,curRes.R01+RTs,color='xkcd:light green')\n",
    "# ax1.fill_between(curDays,curRes.R01,color='xkcd:dark green')\n",
    "# ax1.fill_between(curDays,curRes.R10+curRes.R01+RTs,curRes.R01+RTs,color='k')\n",
    "ax1.stackplot(curDays,\n",
    "                curRes.R01,\n",
    "                curRes.R10,\n",
    "                RTs,\n",
    "                colors=['xkcd:light green','g','xkcd:dark green'],\n",
    "                labels=['R01','R10','R11'])\n",
    "ax2.fill_between(df.Date,1.5*(np.cumsum(df.Delta)/DKpop+np.cumsum(df.Omikron)/DKpop),color='xkcd:dark green')\n",
    "ax2.fill_between(df.Date,1.5*(np.cumsum(df.Delta)/DKpop+np.cumsum(df.Reinfections)/DKpop),color='g')\n",
    "ax2.fill_between(df.Date,1.5*(np.cumsum(df.Delta)/DKpop),color='xkcd:light green')\n",
    "\n",
    "# ax1.set_xlim(left=df.Date.iloc[0],right=df.Date.iloc[-1])\n",
    "ax1.set_xlim(left=df.Date.iloc[0])\n",
    "\n",
    "ax1.set_ylim([0,0.5])\n",
    "ax2.set_ylim([0,0.5])"
   ]
  },
  {
   "cell_type": "code",
   "execution_count": 38,
   "metadata": {},
   "outputs": [
    {
     "data": {
      "application/vnd.jupyter.widget-view+json": {
       "model_id": "3c2074e20278406db24042c08dc21b9f",
       "version_major": 2,
       "version_minor": 0
      },
      "text/plain": [
       "Canvas(toolbar=Toolbar(toolitems=[('Home', 'Reset original view', 'home', 'home'), ('Back', 'Back to previous …"
      ]
     },
     "metadata": {},
     "output_type": "display_data"
    },
    {
     "data": {
      "text/plain": [
       "(0.0, 0.6)"
      ]
     },
     "execution_count": 38,
     "metadata": {},
     "output_type": "execute_result"
    }
   ],
   "source": [
    "# fig,(ax1,ax2) = plt.subplots(2,1,sharex=True)\n",
    "fig,ax1 = plt.subplots()\n",
    "\n",
    "ax1.stackplot(curDays,\n",
    "                curRes.R01,\n",
    "                curRes.R10,\n",
    "                RTs,\n",
    "                colors=['xkcd:light green','g','xkcd:dark green'],\n",
    "                labels=['R01','R10','R11'])\n",
    "ax1.plot(df.Date,(np.cumsum(df.Delta)/DKpop+np.cumsum(df.Omikron)/DKpop),color='xkcd:dark red')\n",
    "ax1.plot(df.Date,(np.cumsum(df.Delta)/DKpop+np.cumsum(df.Reinfections)/DKpop),color='r')\n",
    "ax1.plot(df.Date,(np.cumsum(df.Delta)/DKpop),color='xkcd:light red')\n",
    "\n",
    "# ax1.set_xlim(left=df.Date.iloc[0],right=df.Date.iloc[-1])\n",
    "ax1.set_xlim(left=df.Date.iloc[0])\n",
    "\n",
    "ax1.set_ylim([0,0.6])\n",
    "# ax2.set_ylim([0,0.5])"
   ]
  },
  {
   "cell_type": "markdown",
   "metadata": {},
   "source": [
    "# Finally: Is there room for a delta-wave post-omikron?"
   ]
  },
  {
   "cell_type": "code",
   "execution_count": 39,
   "metadata": {},
   "outputs": [],
   "source": [
    "# tLockStop = DateRestrictionsEnd + 90\n",
    "tLockStop = 245\n",
    "betaMult_Y = 1/dictToMult['beta_Y_S'] \n",
    "betaMult_I = 1/dictToMult['beta_IS_S']\n",
    "betaMult_Y = 1.1 * betaMult_Y # A little higher R_0 than original delta\n",
    "dictToMultEnd = {'beta_IS_S' : betaMult_I,'beta_IV_S' : betaMult_I,'beta_I01_S' : betaMult_I,'beta_IS_V' : betaMult_I,'beta_IV_V' : betaMult_I,'beta_I01_V' : betaMult_I,'beta_IS_R01' : betaMult_I,'beta_IV_R01' : betaMult_I,'beta_I01_R01' : betaMult_I,'beta_Y_S' : betaMult_Y,'beta_Y10_S' : betaMult_Y,'beta_Y_R10' : betaMult_Y,'beta_Y10_R10' : betaMult_Y,'gamma_IS' : 1,'gamma_IV' : 1,'gamma_Y' : 1,'gamma_I01' : 1,'gamma_Y10' : 1,}\n",
    "betaMultChangeBack = pmf.Change(tLockStop, MultiplyParameters=dictToMultEnd)\n",
    "\n",
    "tEnd = numDaysToSim+800\n",
    "sch3 = pmf.Scheme('OmikronDeltaFull',init,pars,0,tEnd,Changes=[])\n",
    "sch3.addChange(betaMultChange)\n",
    "sch3.addChange(addI)\n",
    "sch3.addChange(betaMultChangeBack)"
   ]
  },
  {
   "cell_type": "code",
   "execution_count": 40,
   "metadata": {},
   "outputs": [],
   "source": [
    "tChange = 250\n",
    "# tChange = 52\n",
    "# tChange = 30\n",
    "toAdd = iniInf/10\n",
    "dictToAdd =  {  \n",
    "    'S' : -toAdd,\n",
    "    'Y' : toAdd,\n",
    "}\n",
    "addY = pmf.Change(tChange, AddVariables=dictToAdd)\n",
    "\n",
    "tChange2 = tChange-1\n",
    "dictToAdd =  {  \n",
    "    'S' : 1,\n",
    "    'V' : 1,\n",
    "    'IS' : 0,\n",
    "    'IV' : 0,\n",
    "    'Y' : 1,\n",
    "    'R01' : 1,\n",
    "    'R10' : 1,\n",
    "    'I01' : 0,\n",
    "    'Y10' : 1,\n",
    "}\n",
    "setItoZero = pmf.Change(tChange2, MultiplyVariables=dictToAdd)\n",
    "\n",
    "\n",
    "sch3.addChange(setItoZero)\n",
    "sch3.addChange(addY)\n",
    "\n",
    "sch3.sortChanges()\n",
    "sch3.simulate()"
   ]
  },
  {
   "cell_type": "code",
   "execution_count": 41,
   "metadata": {},
   "outputs": [
    {
     "data": {
      "application/vnd.jupyter.widget-view+json": {
       "model_id": "b8726590f1fb4f93a8c9dcb37bb63997",
       "version_major": 2,
       "version_minor": 0
      },
      "text/plain": [
       "Canvas(toolbar=Toolbar(toolitems=[('Home', 'Reset original view', 'home', 'home'), ('Back', 'Back to previous …"
      ]
     },
     "metadata": {},
     "output_type": "display_data"
    },
    {
     "data": {
      "text/plain": [
       "(0.0, 40000.0)"
      ]
     },
     "execution_count": 41,
     "metadata": {},
     "output_type": "execute_result"
    }
   ],
   "source": [
    "curRes = sch3.result \n",
    "RTs = 1 - curRes.y.sum(axis=0)\n",
    "\n",
    "curT = sch3.result.t\n",
    "curDays = np.datetime64(df.iloc[0].Date)+np.array([np.timedelta64(int(np.round(x)),'D') for x in curT])\n",
    "curDays = np.datetime64(df.iloc[0].Date)+np.array([np.timedelta64(int(np.round(x*24)),'h') for x in curT])\n",
    "\n",
    "fig,(ax1,ax2) = plt.subplots(2,1,figsize=(15,10))\n",
    "curLabels = [   \n",
    "                r'$Y$: Infectious',\n",
    "                r'$Y_{1,0}$: Infectious'+'\\n(previous I)',\n",
    "                r'$I_{0,1}$: Infectious'+'\\n(previous Y)',\n",
    "                r'$I_S$: Infectious'+'\\n(unvaccinated)',\n",
    "                r'$I_V$: Infectious'+'\\n(vaccinated)',\n",
    "                ]\n",
    "curColors = ['xkcd:red','xkcd:light red','xkcd:yellow','xkcd:orange','xkcd:light orange']\n",
    "\n",
    "for ax in (ax1,ax2):\n",
    "    ax.stackplot(curDays,\n",
    "                DKpop*curRes.Y,\n",
    "                DKpop*curRes.Y10,\n",
    "                DKpop*curRes.I01,\n",
    "                DKpop*curRes.IS,\n",
    "                DKpop*curRes.IV,\n",
    "                labels=curLabels,colors=curColors)\n",
    "\n",
    "t_width = 30*5\n",
    "t_init = 30\n",
    "\n",
    "# # ax2.plot(pf.rnTime(df.Date,7),pf.rnMean(df.Delta,7)*DarkNumberRatio,'b')\n",
    "# appDataDate = df.Date[:-3]\n",
    "# appDataY = np.cumsum(df.Delta)[3:].values - np.cumsum(df.Delta)[:-3].values\n",
    "# appDataI = np.cumsum(df.Omikron)[3:].values - np.cumsum(df.Omikron)[:-3].values\n",
    "# appDataRe = np.cumsum(df.Reinfections)[3:].values - np.cumsum(df.Reinfections)[:-3].values\n",
    "\n",
    "# ax2.plot(appDataDate,appDataI+appDataY,color='xkcd:dark blue',label='3-day sum of new cases, Omikron')\n",
    "# ax2.plot(appDataDate,appDataY,color='xkcd:dark red',label='3-day sum of new cases, Delta')\n",
    "# ax2.plot(appDataDate,appDataY+appDataRe,color='xkcd:purple',label='3-day sum of new cases, Re-infections')\n",
    "\n",
    "# ax1.plot(appDataDate,appDataI+appDataY,color='xkcd:dark blue',label='3-day sum of new cases, Omikron')\n",
    "# ax1.plot(appDataDate,appDataY,color='xkcd:dark red',label='3-day sum of new cases, Delta')\n",
    "# ax1.plot(appDataDate,appDataY+appDataRe,color='xkcd:purple',label='3-day sum of new cases, Re-infections')\n",
    "\n",
    "\n",
    "appDataDate = pf.rnTime(df.Date,7)\n",
    "appDataY = pf.rnMean(df.Delta.values,7)*3\n",
    "appDataI = pf.rnMean(df.Omikron.values,7)*3\n",
    "appDataRe = pf.rnMean(df.Reinfections.values,7)*3\n",
    "\n",
    "ax2.plot(appDataDate,appDataI+appDataY,color='xkcd:dark blue',label='Omikron, approximate data')\n",
    "ax2.plot(appDataDate,appDataY+appDataRe,color='xkcd:purple',label='Re-infections, approximate data')\n",
    "ax2.plot(appDataDate,appDataY,color='xkcd:dark red',label='Delta, approximate data')\n",
    "\n",
    "ax1.plot(appDataDate,appDataI+appDataY,color='xkcd:dark blue',label='Omikron, approximate data')\n",
    "ax1.plot(appDataDate,appDataY+appDataRe,color='xkcd:purple',label='Re-infections, approximate data')\n",
    "ax1.plot(appDataDate,appDataY,color='xkcd:dark red',label='Delta, approximate data')\n",
    "\n",
    "\n",
    "ax1.axvline(curDays[0]+np.timedelta64(sch2.Changes[0].t,'D'),color='k',linestyle=':',label='Introduction of Omikron')\n",
    "ax1.axvline(curDays[0]+np.timedelta64(sch2.Changes[1].t,'D'),color='b',linestyle=':',label='Restrictions')\n",
    "ax2.axvline(curDays[0]+np.timedelta64(sch2.Changes[0].t,'D'),color='k',linestyle=':')\n",
    "ax2.axvline(curDays[0]+np.timedelta64(sch2.Changes[1].t,'D'),color='b',linestyle=':')\n",
    "# ax1.axvline(curDays[0]+np.timedelta64(sch2.Changes[2].t,'D'),color='g',linestyle=':',label='Restrictions stop')\n",
    "# ax2.axvline(curDays[0]+np.timedelta64(sch2.Changes[2].t,'D'),color='g',linestyle=':')\n",
    "\n",
    "ax1.legend()\n",
    "\n",
    "ax1.set_ylim(bottom=0)\n",
    "ax2.set_ylim(bottom=0)\n",
    "ax2.set_ylim(bottom=0,top=8000*5)\n",
    "# ax1.set_xlim([curRes.t[0],curRes.t[-1]])\n",
    "# ax2.set_xlim([t_init,t_init+t_width])"
   ]
  },
  {
   "cell_type": "code",
   "execution_count": 42,
   "metadata": {},
   "outputs": [],
   "source": [
    "\n",
    "# int_I = cumtrapz(np.exp(u_H*ts)*Is,ts, initial=0)\n",
    "# Hs = np.exp(-u_H*ts) * (r_chr*pars_full['gamma']*int_I + k) "
   ]
  }
 ],
 "metadata": {
  "interpreter": {
   "hash": "c72cdf52cb3d31f207bca538e9396da8706c0ecf4a3038fb1c2b317934170431"
  },
  "kernelspec": {
   "display_name": "Python 3.8.5 64-bit ('main': conda)",
   "language": "python",
   "name": "python3"
  },
  "language_info": {
   "codemirror_mode": {
    "name": "ipython",
    "version": 3
   },
   "file_extension": ".py",
   "mimetype": "text/x-python",
   "name": "python",
   "nbconvert_exporter": "python",
   "pygments_lexer": "ipython3",
   "version": "3.8.5"
  },
  "orig_nbformat": 4
 },
 "nbformat": 4,
 "nbformat_minor": 2
}
