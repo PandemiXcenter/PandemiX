{
 "cells": [
  {
   "cell_type": "markdown",
   "metadata": {},
   "source": [
    "# Short notebook as a check for comparing two models: Classic SIR and SIR with hospitalizations. \n",
    "It should be possible to get an accurate estimate of hospitalizations if they are linear in number of infections and hospitalizations:\n",
    "\n",
    "Given\n",
    "$$\\dot{H} = r_{chr} \\gamma \\cdot I(t) - u \\cdot H(t)$$\n",
    "or \n",
    "$$\\dot{H} + u \\cdot H(t) = r_{chr}  \\gamma \\cdot I(t) $$\n",
    "\n",
    "with $r_{chr}$ is the case-hospitalization rate and $u$ is the rate at which people leave the hospital.\n",
    "\n",
    "The analytical solution can be determined:\n",
    "\n",
    "With integrating factor \n",
    "$\\mu(t) = e^{u t}$\n",
    "\n",
    "So:\n",
    "$e^{ut}H(t) + k = \\int e^{ut} r_{chr}  \\gamma I(t) dt $\n",
    "\n",
    "Or, in other words:\n",
    "$$ H(t) = e^{-ut} \\left( r_{chr} \\gamma \\int e^{ut} I(t) dt - k \\right) $$\n",
    "\n",
    "By calculating $\\int e^{ut} I(t) dt $ numerically using the trapezoidal rule, $H(t)$ can be estimated.\n",
    "\n",
    "<!-- int_I = integrate.cumtrapz(np.exp(u_H*ts)*Is,ts, initial=0)\n",
    "Hs = np.exp(-u_H*ts) * (r_chr*pars_full['gamma']*int_I + k)  -->"
   ]
  },
  {
   "cell_type": "code",
   "execution_count": 1,
   "metadata": {},
   "outputs": [],
   "source": [
    "%matplotlib widget\n",
    "\n",
    "import sys\n",
    "sys.path.append(\"./../scripts\")\n",
    "import PandemiXFunctions as pf\n",
    "import PandemiXModelFunctions as pmf\n",
    "\n",
    "\n",
    "import numpy as np\n",
    "\n",
    "import matplotlib.pyplot as plt\n",
    "plt.rcParams['figure.figsize'] = (12,8)\n",
    "plt.rcParams[\"image.cmap\"] = \"tab10\"\n",
    "plt.rcParams['axes.prop_cycle'] = plt.cycler(color=plt.cm.tab10.colors)\n",
    "fs_label = 16\n",
    "parameters = {\n",
    "                'axes.labelsize': fs_label,\n",
    "                'axes.titlesize': fs_label+4,\n",
    "                'xtick.labelsize': fs_label,\n",
    "                'ytick.labelsize': fs_label, \n",
    "                'legend.fontsize': fs_label, \n",
    "                'lines.markersize': 10,\n",
    "                'lines.linewidth': 3\n",
    "             }\n",
    "             \n",
    "             \n",
    "# from scipy import integrate\n",
    "# int_I = integrate.cumtrapz(np.exp(u_H*ts)*Is,ts, initial=0)\n",
    "# Hs = np.exp(-u_H*ts) * (r_chr*pars_full['gamma']*int_I + k) "
   ]
  },
  {
   "cell_type": "code",
   "execution_count": 2,
   "metadata": {},
   "outputs": [
    {
     "data": {
      "text/plain": [
       "<module 'PandemiXModelFunctions' from 'c:\\\\Users\\\\rakrpe\\\\OneDrive - Roskilde Universitet\\\\Documents\\\\PandemiX\\\\GithubRepos\\\\PandemiX\\\\modelling\\\\PandemiXModelFunctions.py'>"
      ]
     },
     "execution_count": 2,
     "metadata": {},
     "output_type": "execute_result"
    }
   ],
   "source": [
    "import importlib \n",
    "importlib.reload(pmf)"
   ]
  },
  {
   "cell_type": "code",
   "execution_count": 3,
   "metadata": {},
   "outputs": [],
   "source": [
    "# Setup model\n",
    "\n",
    "# Parameters\n",
    "pars = {\n",
    "    'beta' : 1.5/7,\n",
    "    'gamma': 1/7\n",
    "}\n",
    "r_chr = 0.8\n",
    "u_H = 0.25\n",
    "pars_full = {\n",
    "    'beta' : pars['beta'],\n",
    "    'gamma': pars['gamma'],\n",
    "    'r_chr': r_chr,\n",
    "    'u_H': u_H}\n",
    "\n",
    "# Initial conditions\n",
    "I_0 = 0.001\n",
    "R_0 = 0\n",
    "H_0 = 0\n",
    "S_0 = 1 - R_0 - I_0 - H_0 \n",
    "init = {\n",
    "    'S': S_0,\n",
    "    'I': I_0\n",
    "}\n",
    "init_full = {\n",
    "    'S': S_0,\n",
    "    'I': I_0,\n",
    "    'H': H_0\n",
    "}\n",
    "\n",
    "tEnd = 200\n",
    "curScheme = pmf.Scheme('SIR',init,pars,0,tEnd)\n",
    "curScheme_full = pmf.Scheme('SIHR',init_full,pars_full,0,tEnd).copy()\n",
    "\n",
    "\n",
    "d1 = 75\n",
    "betaMultiplier = 2\n",
    "curScheme.addChange(pmf.Change(d1,MultiplyParameters={'beta':betaMultiplier,'gamma':1}))\n",
    "curScheme_full.addChange(pmf.Change(d1,MultiplyParameters={'beta':betaMultiplier,'gamma':1,'r_chr':1,'u_H':1}))"
   ]
  },
  {
   "cell_type": "code",
   "execution_count": 4,
   "metadata": {},
   "outputs": [],
   "source": [
    "curScheme.simulate()\n",
    "# curScheme.plot()\n",
    "# print(curScheme.Changes[0])\n",
    "# print(curScheme.Changes[1])"
   ]
  },
  {
   "cell_type": "code",
   "execution_count": 5,
   "metadata": {},
   "outputs": [],
   "source": [
    "curScheme_full.simulate()\n",
    "# curScheme_full.plot()"
   ]
  },
  {
   "cell_type": "markdown",
   "metadata": {},
   "source": [
    "# Make comparison"
   ]
  },
  {
   "cell_type": "code",
   "execution_count": 6,
   "metadata": {},
   "outputs": [],
   "source": [
    "ts = curScheme.result.t\n",
    "Is = curScheme.result.y[1,:]\n",
    "\n",
    "k = 0\n",
    "# Hs = (r_chr *Is/u_H) + k * np.exp(-u_H*ts)\n",
    "\n",
    "ts2 = curScheme_full.result.t\n",
    "Is2 = curScheme_full.result.y[1,:]\n",
    "Hs2 = curScheme_full.result.y[2,:]\n",
    "\n",
    "# # Numerical integration of I(t) using trapz\n",
    "# int_I =  np.array([np.trapz(np.exp(u_H*ts[:x])*Is[:x],ts[:x]) for x in np.arange(len(ts))])\n",
    "# Hs = np.exp(-u_H*ts) * (r_chr*pars_full['gamma']*int_I + k) \n",
    "\n",
    "\n",
    "from scipy import integrate\n",
    "int_I = integrate.cumtrapz(np.exp(u_H*ts)*Is,ts, initial=0)\n",
    "Hs = np.exp(-u_H*ts) * (r_chr*pars_full['gamma']*int_I + k) "
   ]
  },
  {
   "cell_type": "code",
   "execution_count": 10,
   "metadata": {},
   "outputs": [
    {
     "data": {
      "application/vnd.jupyter.widget-view+json": {
       "model_id": "4fb7d54ccf6a4506a99bdcdc2ed550ce",
       "version_major": 2,
       "version_minor": 0
      },
      "text/plain": [
       "Canvas(toolbar=Toolbar(toolitems=[('Home', 'Reset original view', 'home', 'home'), ('Back', 'Back to previous …"
      ]
     },
     "metadata": {},
     "output_type": "display_data"
    },
    {
     "data": {
      "text/plain": [
       "<matplotlib.legend.Legend at 0x1b48a0afca0>"
      ]
     },
     "execution_count": 10,
     "metadata": {},
     "output_type": "execute_result"
    }
   ],
   "source": [
    "# fig,(ax1,ax2) = plt.subplots(2,1)\n",
    "fig,ax1 = plt.subplots()\n",
    "\n",
    "ax1.plot(ts2,Hs2,label='Calculated during simulation')\n",
    "ax1.plot(ts,Hs,'--',label='Estimated from results after simulation')\n",
    "# ax1.plot(ts,Hs*pars['gamma'],'--')\n",
    "\n",
    "ax1.legend()\n",
    "\n",
    "# ax2.plot(ts2,Hs2/np.max(Hs2))\n",
    "# ax2.plot(ts,Hs/np.max(Hs),'--')\n",
    "\n",
    "\n",
    "# ax2.plot(ts,Hs2/Hs)\n",
    "\n",
    "# ax1.plot(ts2,Is2)\n",
    "# ax1.plot(ts,Is,'--')\n"
   ]
  },
  {
   "cell_type": "markdown",
   "metadata": {},
   "source": [
    "# Old below"
   ]
  },
  {
   "cell_type": "markdown",
   "metadata": {},
   "source": [
    "\n",
    "$$\\dot{H} = r_{chr} \\cdot I(t) - u \\cdot H(t)$$\n",
    "or \n",
    "$$\\dot{H} + u \\cdot H(t) = r_{chr} \\cdot I(t) $$\n",
    "\n",
    "Has solution:\n",
    "\n",
    "$\\mu(t) = e^{u t}$\n",
    "\n",
    "So:\n",
    "$e^{ut}H(t) + k = \\int e^{ut} r_{chr} I(t) dt $\n",
    "\n",
    "Or, in other words:\n",
    "$$ H(t) = e^{-ut} \\left( r_{chr} \\int e^{ut} I(t) dt +k \\right)\n"
   ]
  },
  {
   "cell_type": "markdown",
   "metadata": {},
   "source": [
    "\n",
    "$$ \\int e^{ut} I(t) dt  $$\n",
    "\n",
    "a = e^{ut}\n",
    "b = I(t)\n",
    "int(a) = e^{ut}/u\n",
    "b' = I'(t) but done numerically using np.gradient\n",
    "\n",
    "\n",
    "integration by parts:\n",
    "b * int(a) - int(b' * int(a))\n",
    "I(t) * e^{ut}/u - int(I'(t) * e^{ut}/u)\n",
    "\n",
    "\n",
    "\n",
    "int(b) = \\int I(t) dt solved by numerical integration (trapezoidal rule) \n",
    "a' = -u e^{-ut}\n",
    "\n",
    "integration by parts:\n",
    "a * int(b) - int(-ue^{-ut} ) "
   ]
  },
  {
   "cell_type": "code",
   "execution_count": 8,
   "metadata": {},
   "outputs": [],
   "source": [
    "# asdf = [np.trapz(np.exp(-u_H*ts[:x])*Is[:x],ts[:x]) for x in np.arange(len(ts))]\n",
    "# asdf = [np.trapz(np.exp(u_H*ts[:x])*Is[:x],ts[:x]) for x in np.arange(len(ts))]\n",
    "# # asdf = [np.trapz(Is[:x],ts[:x]) for x in np.arange(len(ts))]\n",
    "# asdf = np.array(asdf)\n",
    "# # Hs = (r_chr *Is/u_H) + k * np.exp(-u_H*ts)\n",
    "# k = 0\n",
    "# Hs = u_H * (r_chr * asdf + k*np.exp(-u_H*ts))\n",
    "# Hs = np.exp(-u_H*ts) * (r_chr * asdf + k)\n",
    "# plt.figure()\n",
    "# plt.plot(ts,Hs)\n",
    "# # plt.plot(ts,asdf)"
   ]
  },
  {
   "cell_type": "markdown",
   "metadata": {},
   "source": [
    "\n",
    "Given\n",
    "$$\\dot{H} = r_{chr} \\cdot I - u \\cdot H(t)$$\n",
    "or \n",
    "$$\\dot{H} + u \\cdot H(t) = r_{chr} \\cdot I $$\n",
    "\n",
    "with $r_{chr}$ is the case-hospitalization rate and $u$ is the rate at which people leave the hospital. (Note that $I$ is actually time-dependent, but here assumed piece-wise constant)\n",
    "\n",
    "The analytical solution can be determined:\n",
    "\n",
    "With integrating factor \n",
    "$\\mu(t) = e^{u t}$\n",
    "then \n",
    "\n",
    "$e^{ut}H(t) + k = \\frac{1}{u} e^{ut} r_{chr} I$\n",
    "\n",
    "Or, put differently:\n",
    "$$ H(t) = \\frac{r_{chr} I}{u} + k e^{-ut}$$\n",
    "\n",
    "\n",
    "$\\mu(t) = e^{u t}$\n",
    "\n",
    "So:\n",
    "$e^{ut}H(t) + k = \\int e^{ut} r_{chr} I(t) dt $\n",
    "\n",
    "Or, in other words:\n",
    "$$ H(t) = e^{-ut} \\left( r_{chr} \\int e^{ut} I(t) dt +k \\right)"
   ]
  },
  {
   "cell_type": "code",
   "execution_count": null,
   "metadata": {},
   "outputs": [],
   "source": []
  }
 ],
 "metadata": {
  "interpreter": {
   "hash": "c72cdf52cb3d31f207bca538e9396da8706c0ecf4a3038fb1c2b317934170431"
  },
  "kernelspec": {
   "display_name": "Python 3.8.5 64-bit ('main': conda)",
   "language": "python",
   "name": "python3"
  },
  "language_info": {
   "codemirror_mode": {
    "name": "ipython",
    "version": 3
   },
   "file_extension": ".py",
   "mimetype": "text/x-python",
   "name": "python",
   "nbconvert_exporter": "python",
   "pygments_lexer": "ipython3",
   "version": "3.8.5"
  },
  "orig_nbformat": 4
 },
 "nbformat": 4,
 "nbformat_minor": 2
}
