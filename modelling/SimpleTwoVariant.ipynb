{
 "cells": [
  {
   "cell_type": "code",
   "execution_count": 1,
   "metadata": {},
   "outputs": [],
   "source": [
    "%matplotlib widget\n",
    "\n",
    "import sys\n",
    "sys.path.append(\"./../scripts\")\n",
    "import PandemiXFunctions as pf\n",
    "import PandemiXModelFunctions as pmf\n",
    "\n",
    "\n",
    "import numpy as np\n",
    "\n",
    "import matplotlib.pyplot as plt\n",
    "plt.rcParams['figure.figsize'] = (12,8)\n",
    "plt.rcParams[\"image.cmap\"] = \"tab10\"\n",
    "plt.rcParams['axes.prop_cycle'] = plt.cycler(color=plt.cm.tab10.colors)\n",
    "fs_label = 16\n",
    "parameters = {\n",
    "                'axes.labelsize': fs_label,\n",
    "                'axes.titlesize': fs_label+4,\n",
    "                'xtick.labelsize': fs_label,\n",
    "                'ytick.labelsize': fs_label, \n",
    "                'legend.fontsize': fs_label, \n",
    "                'lines.markersize': 10,\n",
    "                'lines.linewidth': 3\n",
    "             }"
   ]
  },
  {
   "cell_type": "code",
   "execution_count": 2,
   "metadata": {},
   "outputs": [
    {
     "data": {
      "text/plain": [
       "<module 'PandemiXModelFunctions' from 'c:\\\\Users\\\\rakrpe\\\\OneDrive - Roskilde Universitet\\\\Documents\\\\PandemiX\\\\GithubRepos\\\\PandemiX\\\\modelling\\\\PandemiXModelFunctions.py'>"
      ]
     },
     "execution_count": 2,
     "metadata": {},
     "output_type": "execute_result"
    }
   ],
   "source": [
    "import importlib \n",
    "# importlib.reload(PandemiXModelFunctions)\n",
    "importlib.reload(pmf)"
   ]
  },
  {
   "cell_type": "code",
   "execution_count": 3,
   "metadata": {},
   "outputs": [],
   "source": [
    "# Setup model\n",
    "\n",
    "# Parameters\n",
    "gamma_I = 1/7\n",
    "gamma_Y = gamma_I \n",
    "beta_I = 1.5*gamma_I \n",
    "beta_Y = 3*gamma_Y\n",
    "allPars = [beta_I,gamma_I,beta_Y,gamma_Y]\n",
    "\n",
    "# Initial conditions\n",
    "I_0 = 0.01\n",
    "Y_0 = 0\n",
    "R_0 = 0\n",
    "S_0 = 1 - R_0 - I_0 - Y_0\n",
    "init = [S_0,I_0,Y_0]\n",
    "\n",
    "tEnd = 500\n",
    "curScheme = pmf.Scheme('SIYR',init,allPars,0,tEnd)"
   ]
  },
  {
   "cell_type": "code",
   "execution_count": 4,
   "metadata": {},
   "outputs": [
    {
     "data": {
      "application/vnd.jupyter.widget-view+json": {
       "model_id": "bd4a2df411a1491f8071e1cc412f76ff",
       "version_major": 2,
       "version_minor": 0
      },
      "text/plain": [
       "Canvas(toolbar=Toolbar(toolitems=[('Home', 'Reset original view', 'home', 'home'), ('Back', 'Back to previous …"
      ]
     },
     "metadata": {},
     "output_type": "display_data"
    }
   ],
   "source": [
    "# Base simulation\n",
    "curScheme.simulate(tRes=1000)\n",
    "\n",
    "resBase = curScheme.result \n",
    "ts = resBase.t\n",
    "Ss = resBase.y[0,:]\n",
    "Is = resBase.y[1,:]\n",
    "Ys = resBase.y[2,:]\n",
    "Rs = 1 - Ss - Is - Ys\n",
    "\n",
    "fig,ax1 = plt.subplots()\n",
    "ax1.plot(ts,Ss)\n",
    "ax1.plot(ts,Is)\n",
    "ax1.plot(ts,Ys)\n",
    "ax1.plot(ts,Rs)\n",
    "\n",
    "fig.tight_layout()"
   ]
  },
  {
   "cell_type": "code",
   "execution_count": 5,
   "metadata": {},
   "outputs": [],
   "source": [
    "# Make a scheme with added Y post-epidemic\n",
    "Sch1 = curScheme.copy()\n",
    "testChange = pmf.Change(20,AddVariables = [-0.001,0,0.001])\n",
    "Sch1.addChange(testChange)\n",
    "Sch2 = curScheme.copy()\n",
    "testChange = pmf.Change(160,AddVariables = [-0.001,0,0.001])\n",
    "Sch2.addChange(testChange)\n",
    "\n"
   ]
  },
  {
   "cell_type": "code",
   "execution_count": 6,
   "metadata": {},
   "outputs": [
    {
     "data": {
      "application/vnd.jupyter.widget-view+json": {
       "model_id": "60d31601780b4d09a1d5f311d1ca9f26",
       "version_major": 2,
       "version_minor": 0
      },
      "text/plain": [
       "Canvas(toolbar=Toolbar(toolitems=[('Home', 'Reset original view', 'home', 'home'), ('Back', 'Back to previous …"
      ]
     },
     "metadata": {},
     "output_type": "display_data"
    }
   ],
   "source": [
    "# Run simulation\n",
    "\n",
    "fig,(ax1,ax2) = plt.subplots(2,1,sharex=True)\n",
    "ax1.plot(ts,Ss,color='b')\n",
    "ax1.plot(ts,Rs,color='g')\n",
    "ax2.plot(ts,Is,color='xkcd:orange')\n",
    "ax2.plot(ts,Ys,color='r')\n",
    "ax2.plot(ts,Is+Ys,color='k')\n",
    "\n",
    "Sch1.simulate()\n",
    "\n",
    "resSch1 = Sch1.result \n",
    "ts1 = resSch1.t\n",
    "Ss1 = resSch1.y[0,:]\n",
    "Is1 = resSch1.y[1,:]\n",
    "Ys1 = resSch1.y[2,:]\n",
    "Rs1 = 1 - Ss1 - Is1 - Ys1\n",
    "ax1.plot(ts1,Ss1,':',color='b')\n",
    "ax1.plot(ts1,Rs1,':',color='g')\n",
    "ax2.plot(ts1,Is1,':',color='xkcd:orange')\n",
    "ax2.plot(ts1,Ys1,':',color='r')\n",
    "ax2.plot(ts1,Is1+Ys1,':',color='k')\n",
    "\n",
    "\n",
    "Sch2.simulate()\n",
    "\n",
    "resSch2 = Sch2.result \n",
    "ts2 = resSch2.t\n",
    "Ss2 = resSch2.y[0,:]\n",
    "Is2 = resSch2.y[1,:]\n",
    "Ys2 = resSch2.y[2,:]\n",
    "Rs2 = 1 - Ss2 - Is2 - Ys2\n",
    "ax1.plot(ts2,Ss2,'--',color='b')\n",
    "ax1.plot(ts2,Rs2,'--',color='g')\n",
    "ax2.plot(ts2,Is2,'--',color='xkcd:orange')\n",
    "ax2.plot(ts2,Ys2,'--',color='r')\n",
    "ax2.plot(ts,Is+Ys,color='k')\n",
    "\n",
    "fig.tight_layout()"
   ]
  },
  {
   "cell_type": "code",
   "execution_count": 7,
   "metadata": {},
   "outputs": [],
   "source": [
    "\n",
    "\n",
    "def getFinalDiffAndSumY(t):\n",
    "    \n",
    "    \n",
    "    Sch1 = curScheme.copy()\n",
    "    testChange = pmf.Change(t,AddVariables = [-0.001,0,0.001])\n",
    "    Sch1.addChange(testChange)\n",
    "    # Run simulation\n",
    "    Sch1.simulate()\n",
    "\n",
    "    resSch1 = Sch1.result \n",
    "    ts1 = resSch1.t\n",
    "    Ss1 = resSch1.y[0,:]\n",
    "    Is1 = resSch1.y[1,:]\n",
    "    Ys1 = resSch1.y[2,:]\n",
    "    Rs1 = 1 - Ss1 - Is1 - Ys1\n",
    "        \n",
    "    finalDiff = Rs1[-1] - Rs[-1]\n",
    "    tRange = np.arange(0,ts[-1])\n",
    "    curDailyYs = np.interp(tRange,ts1,Ys1)\n",
    "    \n",
    "    sumY = np.sum(curDailyYs)\n",
    "    \n",
    "    return finalDiff,sumY\n",
    "    \n",
    "\n",
    "# getFinalDiffAndSumY(10)\n",
    "tToTest = np.arange(10,450,20)\n",
    "\n",
    "fds = []\n",
    "sumys = []\n",
    "for curT in tToTest:\n",
    "    this_fd,this_sy = getFinalDiffAndSumY(curT)\n",
    "    \n",
    "    fds.append(this_fd)\n",
    "    sumys.append(this_sy)\n",
    "\n",
    "fds = np.array(fds)\n",
    "sumys = np.array(sumys)"
   ]
  },
  {
   "cell_type": "code",
   "execution_count": 8,
   "metadata": {},
   "outputs": [
    {
     "data": {
      "application/vnd.jupyter.widget-view+json": {
       "model_id": "800b13e794bf4542837a10a6edc114cc",
       "version_major": 2,
       "version_minor": 0
      },
      "text/plain": [
       "Canvas(toolbar=Toolbar(toolitems=[('Home', 'Reset original view', 'home', 'home'), ('Back', 'Back to previous …"
      ]
     },
     "metadata": {},
     "output_type": "display_data"
    },
    {
     "data": {
      "text/plain": [
       "Text(0, 0.5, 'Sum af superior variant')"
      ]
     },
     "execution_count": 8,
     "metadata": {},
     "output_type": "execute_result"
    }
   ],
   "source": [
    "fig,(ax1,ax2) = plt.subplots(2,1)\n",
    "ax1.plot(tToTest,fds)\n",
    "ax2.plot(tToTest,sumys)\n",
    "ax1.set_ylabel('Øgning i andel immune')\n",
    "ax2.set_ylabel('Sum af superior variant')"
   ]
  },
  {
   "cell_type": "code",
   "execution_count": 9,
   "metadata": {},
   "outputs": [],
   "source": [
    "\n",
    "# print(np.sum(Ys1))\n",
    "# print(np.sum(curDaily))\n",
    "\n",
    "# plt.figure()\n",
    "# plt.plot(tRange,curDaily,'.-')\n",
    "# plt.plot(ts1,Ys1,'.-')"
   ]
  },
  {
   "cell_type": "markdown",
   "metadata": {},
   "source": [
    "# Changing restrictions\n",
    "Different scenarios in which a superior variant is introduced at some point in an epidemic, and R_0 for both variants are changed (e.g. due to changing restrictions)\n"
   ]
  },
  {
   "cell_type": "code",
   "execution_count": 10,
   "metadata": {},
   "outputs": [],
   "source": [
    "# Setup base model\n",
    "\n",
    "# Parameters\n",
    "gamma_I = 1/7\n",
    "gamma_Y = gamma_I \n",
    "beta_I = 1.25*gamma_I \n",
    "beta_Y = 1.5*gamma_Y\n",
    "allPars = [beta_I,gamma_I,beta_Y,gamma_Y]\n",
    "\n",
    "# Initial conditions\n",
    "I_0 = 0.001\n",
    "Y_0 = 0\n",
    "R_0 = 0\n",
    "S_0 = 1 - R_0 - I_0 - Y_0\n",
    "init = [S_0,I_0,Y_0]\n",
    "\n",
    "tEnd = 500\n",
    "curScheme = pmf.Scheme('SIYR',init,allPars,0,tEnd,[])\n",
    "\n",
    "betaMultiplier = 1.25\n",
    "RestrictionChange = pmf.Change(200,MultiplyParameters=[betaMultiplier,1,betaMultiplier,1])\n",
    "curScheme.addChange(RestrictionChange)"
   ]
  },
  {
   "cell_type": "code",
   "execution_count": 11,
   "metadata": {},
   "outputs": [],
   "source": [
    "schAdd1 = curScheme.copy()\n",
    "schAdd2 = curScheme.copy()\n",
    "\n",
    "newInf = 0.001\n",
    "Change_Add1 = pmf.Change(150,AddVariables=[-newInf,0,newInf])\n",
    "Change_Add2 = pmf.Change(220,AddVariables=[-newInf,0,newInf])\n",
    "\n",
    "schAdd1.addChange(Change_Add1)\n",
    "schAdd2.addChange(Change_Add2)\n",
    "\n",
    "schAdd1.sortChanges()\n",
    "# schAdd1.sortChanges()"
   ]
  },
  {
   "cell_type": "code",
   "execution_count": 12,
   "metadata": {},
   "outputs": [
    {
     "data": {
      "text/plain": [
       "[<PandemiXModelFunctions.Change at 0x240f79274f0>,\n",
       " <PandemiXModelFunctions.Change at 0x240f639c880>]"
      ]
     },
     "execution_count": 12,
     "metadata": {},
     "output_type": "execute_result"
    }
   ],
   "source": [
    "schAdd1.Changes"
   ]
  },
  {
   "cell_type": "code",
   "execution_count": 13,
   "metadata": {},
   "outputs": [
    {
     "data": {
      "application/vnd.jupyter.widget-view+json": {
       "model_id": "427c5d41270f4a8594a4094aa9d197f9",
       "version_major": 2,
       "version_minor": 0
      },
      "text/plain": [
       "Canvas(toolbar=Toolbar(toolitems=[('Home', 'Reset original view', 'home', 'home'), ('Back', 'Back to previous …"
      ]
     },
     "metadata": {},
     "output_type": "display_data"
    }
   ],
   "source": [
    "# Run simulations\n",
    "curScheme.simulate(tRes=1000)\n",
    "schAdd1.simulate(tRes=1000)\n",
    "schAdd2.simulate(tRes=1000)\n",
    "\n",
    "resBase = curScheme.result \n",
    "ts = resBase.t\n",
    "Ss = resBase.y[0,:]\n",
    "Is = resBase.y[1,:]\n",
    "Ys = resBase.y[2,:]\n",
    "Rs = 1 - Ss - Is - Ys\n",
    "\n",
    "fig,(ax1,ax2) = plt.subplots(2,1,sharex=True)\n",
    "ax1.plot(ts,Ss,color='b')\n",
    "ax1.plot(ts,Rs,color='g')\n",
    "ax2.plot(ts,Is,color='xkcd:orange')\n",
    "ax2.plot(ts,Ys,color='r')\n",
    "\n",
    "ts1 = schAdd1.result.t\n",
    "Ss1 = schAdd1.result.y[0,:]\n",
    "Is1 = schAdd1.result.y[1,:]\n",
    "Ys1 = schAdd1.result.y[2,:]\n",
    "Rs1 = 1 - Ss1 - Is1 - Ys1\n",
    "ax1.plot(ts1,Ss1,':',color='b')\n",
    "ax1.plot(ts1,Rs1,':',color='g')\n",
    "ax2.plot(ts1,Is1,':',color='xkcd:orange')\n",
    "ax2.plot(ts1,Ys1,':',color='r')\n",
    "\n",
    "ts2 = schAdd2.result.t\n",
    "Ss2 = schAdd2.result.y[0,:]\n",
    "Is2 = schAdd2.result.y[1,:]\n",
    "Ys2 = schAdd2.result.y[2,:]\n",
    "Rs2 = 1 - Ss2 - Is2 - Ys2\n",
    "ax1.plot(ts2,Ss2,'--',color='b')\n",
    "ax1.plot(ts2,Rs2,'--',color='g')\n",
    "ax2.plot(ts2,Is2,'--',color='xkcd:orange')\n",
    "ax2.plot(ts2,Ys2,'--',color='r')\n",
    "\n",
    "\n",
    "fig.tight_layout()"
   ]
  },
  {
   "cell_type": "markdown",
   "metadata": {},
   "source": [
    "# Subsequent epidemics, with different timing of loosening restrictions"
   ]
  },
  {
   "cell_type": "code",
   "execution_count": 14,
   "metadata": {},
   "outputs": [],
   "source": [
    "# Setup base model\n",
    "\n",
    "# Parameters\n",
    "gamma_I = 1/7\n",
    "gamma_Y = gamma_I \n",
    "beta_I = 1.25*gamma_I \n",
    "beta_Y = 1.5*gamma_Y\n",
    "allPars = [beta_I,gamma_I,beta_Y,gamma_Y]\n",
    "\n",
    "# Initial conditions\n",
    "I_0 = 0.001\n",
    "Y_0 = 0\n",
    "R_0 = 0\n",
    "S_0 = 1 - R_0 - I_0 - Y_0\n",
    "init = [S_0,I_0,Y_0]\n",
    "\n",
    "tEnd = 500\n",
    "curScheme = pmf.Scheme('SIYR',init,allPars,0,tEnd,[])\n",
    "\n",
    "newInf = I_0\n",
    "Change_Add = pmf.Change(250,AddVariables=[-newInf,0,newInf])\n",
    "\n",
    "curScheme.addChange(Change_Add)"
   ]
  },
  {
   "cell_type": "code",
   "execution_count": 15,
   "metadata": {},
   "outputs": [],
   "source": [
    "schMult1 = curScheme.copy()\n",
    "schMult2 = curScheme.copy()\n",
    "\n",
    "betaMultiplier = 2\n",
    "Change_Mult1 = pmf.Change(200,MultiplyParameters=[betaMultiplier,1,betaMultiplier,1])\n",
    "Change_Mult2 = pmf.Change(300,MultiplyParameters=[betaMultiplier,1,betaMultiplier,1])\n",
    "\n",
    "schMult1.addChange(Change_Mult1)\n",
    "schMult2.addChange(Change_Mult2)\n",
    "\n",
    "schMult1.sortChanges()\n",
    "# schMult1.sortChanges()"
   ]
  },
  {
   "cell_type": "code",
   "execution_count": 16,
   "metadata": {},
   "outputs": [
    {
     "data": {
      "application/vnd.jupyter.widget-view+json": {
       "model_id": "22e11983f41b4721a87e1a8831c21c53",
       "version_major": 2,
       "version_minor": 0
      },
      "text/plain": [
       "Canvas(toolbar=Toolbar(toolitems=[('Home', 'Reset original view', 'home', 'home'), ('Back', 'Back to previous …"
      ]
     },
     "metadata": {},
     "output_type": "display_data"
    }
   ],
   "source": [
    "# Run simulations\n",
    "curScheme.simulate(tRes=1000)\n",
    "schMult1.simulate(tRes=1000)\n",
    "schMult2.simulate(tRes=1000)\n",
    "\n",
    "resBase = curScheme.result \n",
    "ts = resBase.t\n",
    "Ss = resBase.y[0,:]\n",
    "Is = resBase.y[1,:]\n",
    "Ys = resBase.y[2,:]\n",
    "Rs = 1 - Ss - Is - Ys\n",
    "\n",
    "fig,(ax1,ax2) = plt.subplots(2,1,sharex=True)\n",
    "ax1.plot(ts,Ss,color='b')\n",
    "ax1.plot(ts,Rs,color='g')\n",
    "ax2.plot(ts,Is,color='xkcd:orange')\n",
    "ax2.plot(ts,Ys,color='r')\n",
    "\n",
    "\n",
    "ts1 = schMult1.result.t\n",
    "Ss1 = schMult1.result.y[0,:]\n",
    "Is1 = schMult1.result.y[1,:]\n",
    "Ys1 = schMult1.result.y[2,:]\n",
    "Rs1 = 1 - Ss1 - Is1 - Ys1\n",
    "ax1.plot(ts1,Ss1,':',color='b')\n",
    "ax1.plot(ts1,Rs1,':',color='g')\n",
    "ax2.plot(ts1,Is1,':',color='xkcd:orange')\n",
    "ax2.plot(ts1,Ys1,':',color='r')\n",
    "\n",
    "ts2 = schMult2.result.t\n",
    "Ss2 = schMult2.result.y[0,:]\n",
    "Is2 = schMult2.result.y[1,:]\n",
    "Ys2 = schMult2.result.y[2,:]\n",
    "Rs2 = 1 - Ss2 - Is2 - Ys2\n",
    "ax1.plot(ts2,Ss2,'--',color='b')\n",
    "ax1.plot(ts2,Rs2,'--',color='g')\n",
    "ax2.plot(ts2,Is2,'--',color='xkcd:orange')\n",
    "ax2.plot(ts2,Ys2,'--',color='r')\n",
    "\n",
    "fig.tight_layout()"
   ]
  },
  {
   "cell_type": "markdown",
   "metadata": {},
   "source": [
    "\n",
    "$$\\dot{H} = r_{chr} \\cdot I - u \\cdot H(t)$$\n",
    "or \n",
    "$$\\dot{H} + u \\cdot H(t) = r_{chr} \\cdot I $$\n",
    "\n",
    "Has solution:\n",
    "\n",
    "$\\mu(t) = e^{u t}$\n",
    "\n",
    "So:\n",
    "$e^{ut}H(t) + k = \\frac{1}{u} e^{ut} r_{chr} I$\n",
    "\n",
    "Or, in other words:\n",
    "$$ H(t) = \\frac{r_{chr} I}{u} + k e^{-ut}$$"
   ]
  },
  {
   "cell_type": "code",
   "execution_count": 17,
   "metadata": {},
   "outputs": [
    {
     "data": {
      "application/vnd.jupyter.widget-view+json": {
       "model_id": "8358d21126e9420c88463ff87a01d104",
       "version_major": 2,
       "version_minor": 0
      },
      "text/plain": [
       "Canvas(toolbar=Toolbar(toolitems=[('Home', 'Reset original view', 'home', 'home'), ('Back', 'Back to previous …"
      ]
     },
     "metadata": {},
     "output_type": "display_data"
    },
    {
     "data": {
      "text/plain": [
       "[<matplotlib.lines.Line2D at 0x240f7af6dc0>]"
      ]
     },
     "execution_count": 17,
     "metadata": {},
     "output_type": "execute_result"
    }
   ],
   "source": [
    "# Calculate the corresponding hospitalizations\n",
    "\n",
    "CHR1 = 0.1\n",
    "CHR2 = 0.2\n",
    "outH = 0.01\n",
    "k = 0\n",
    "\n",
    "testT = ts\n",
    "testI = Is\n",
    "\n",
    "testH = (CHR1*testI/outH) + k * np.exp(-outH*testT)\n",
    "\n",
    "\n",
    "HI_1 = (CHR1*Is1/outH) + k * np.exp(-outH*ts1)\n",
    "HY_1 = (CHR2*Ys1/outH) + k * np.exp(-outH*ts1)\n",
    "HI_2 = (CHR1*Is2/outH) + k * np.exp(-outH*ts2)\n",
    "HY_2 = (CHR2*Ys2/outH) + k * np.exp(-outH*ts2)\n",
    "\n",
    "plt.figure()\n",
    "plt.plot(testT,testH,'k')\n",
    "plt.plot(ts1,HI_1+HY_1,'b:')\n",
    "plt.plot(ts2,HI_2+HY_2,'m--')\n",
    "# plt.plot(ts1,HY_1,':')\n",
    " "
   ]
  },
  {
   "cell_type": "markdown",
   "metadata": {},
   "source": [
    "\n",
    "$$\\dot{H} = r_{chr} \\cdot I(t) - u \\cdot H(t)$$\n",
    "or \n",
    "$$\\dot{H} - u \\cdot H(t) = r_{chr} \\cdot I(t) $$\n",
    "\n",
    "Has solution:\n",
    "\n",
    "$\\mu(t) = e^{-u t}$\n",
    "\n",
    "So:\n",
    "$e^{-ut}H(t) + k = \\int e^{-ut} r_{chr} I(t) dt $\n",
    "\n",
    "Or, in other words:\n",
    "$$ H(t) = e^{ut} \\left( r_{chr} \\int e^{-ut} I(t) dt +k \\right)"
   ]
  },
  {
   "cell_type": "code",
   "execution_count": null,
   "metadata": {},
   "outputs": [],
   "source": []
  }
 ],
 "metadata": {
  "interpreter": {
   "hash": "c72cdf52cb3d31f207bca538e9396da8706c0ecf4a3038fb1c2b317934170431"
  },
  "kernelspec": {
   "display_name": "Python 3.8.5 64-bit ('main': conda)",
   "language": "python",
   "name": "python3"
  },
  "language_info": {
   "codemirror_mode": {
    "name": "ipython",
    "version": 3
   },
   "file_extension": ".py",
   "mimetype": "text/x-python",
   "name": "python",
   "nbconvert_exporter": "python",
   "pygments_lexer": "ipython3",
   "version": "3.8.5"
  },
  "orig_nbformat": 4
 },
 "nbformat": 4,
 "nbformat_minor": 2
}
