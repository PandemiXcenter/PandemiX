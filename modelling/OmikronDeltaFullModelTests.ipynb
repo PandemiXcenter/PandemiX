{
 "cells": [
  {
   "cell_type": "markdown",
   "metadata": {},
   "source": [
    "# Notebook for testing the OmikronDeltaFullModel implementation\n",
    "Various scenarios to check:\n",
    "* No Omikron infected\n",
    "* No Delta infected\n",
    "* All vaccinated\n",
    "* No Vaccinated"
   ]
  },
  {
   "cell_type": "code",
   "execution_count": 49,
   "metadata": {},
   "outputs": [],
   "source": [
    "%matplotlib widget\n",
    "\n",
    "import sys\n",
    "sys.path.append(\"./../scripts\")\n",
    "import PandemiXFunctions as pf\n",
    "import PandemiXModelFunctions as pmf\n",
    "\n",
    "\n",
    "\n",
    "import numpy as np\n",
    "\n",
    "import matplotlib.pyplot as plt\n",
    "plt.rcParams['figure.figsize'] = (12,8)\n",
    "plt.rcParams[\"image.cmap\"] = \"tab10\"\n",
    "plt.rcParams['axes.prop_cycle'] = plt.cycler(color=plt.cm.tab10.colors)\n",
    "fs_label = 16\n",
    "parameters = {\n",
    "                'axes.labelsize': fs_label,\n",
    "                'axes.titlesize': fs_label+4,\n",
    "                'xtick.labelsize': fs_label,\n",
    "                'ytick.labelsize': fs_label, \n",
    "                'legend.fontsize': fs_label, \n",
    "                'lines.markersize': 10,\n",
    "                'lines.linewidth': 3\n",
    "             }\n",
    "             \n",
    "             \n",
    "from scipy.integrate import cumtrapz\n",
    "# from scipy import integrate\n",
    "# int_I = integrate.cumtrapz(np.exp(u_H*ts)*Is,ts, initial=0)\n",
    "# Hs = np.exp(-u_H*ts) * (r_chr*pars_full['gamma']*int_I + k) "
   ]
  },
  {
   "cell_type": "code",
   "execution_count": 50,
   "metadata": {},
   "outputs": [
    {
     "data": {
      "text/plain": [
       "<module 'PandemiXModelFunctions' from 'c:\\\\Users\\\\rakrpe\\\\OneDrive - Roskilde Universitet\\\\Documents\\\\PandemiX\\\\GithubRepos\\\\PandemiX\\\\modelling\\\\PandemiXModelFunctions.py'>"
      ]
     },
     "execution_count": 50,
     "metadata": {},
     "output_type": "execute_result"
    }
   ],
   "source": [
    "import importlib \n",
    "importlib.reload(pmf)"
   ]
  },
  {
   "cell_type": "code",
   "execution_count": 51,
   "metadata": {},
   "outputs": [],
   "source": [
    "# Initialize everything\n",
    "V_0 = 0\n",
    "IS_0 = 0\n",
    "IV_0 = 0\n",
    "Y_0 = 0\n",
    "R01_0 = 0\n",
    "R10_0 = 0\n",
    "I01_0 = 0\n",
    "Y10_0 = 0\n",
    "S_0 = 1 - V_0 - IS_0 - IV_0 - Y_0 - R01_0 - R10_0 - I01_0 - Y10_0 \n",
    "\n",
    "init = {    \n",
    "    'S' : S_0,\n",
    "    'V' : V_0,\n",
    "    'IS' : IS_0,\n",
    "    'IV' : IV_0,\n",
    "    'Y' : Y_0,\n",
    "    'R01' : R01_0,\n",
    "    'R10' : R10_0,\n",
    "    'I01' : I01_0,\n",
    "    'Y10' : Y10_0,\n",
    "}\n",
    "\n",
    "betas = 2/7\n",
    "gammas = 1/7\n",
    "pars = {\n",
    "    'beta_IS_S' : betas,\n",
    "    'beta_IV_S' : betas,\n",
    "    'beta_I01_S' : betas,\n",
    "    'beta_IS_V' : betas,\n",
    "    'beta_IV_V' : betas,\n",
    "    'beta_I01_V' : betas,\n",
    "    'beta_IS_R01' : betas,\n",
    "    'beta_IV_R01' : betas,\n",
    "    'beta_I01_R01' : betas,\n",
    "    'beta_Y_S' : betas,\n",
    "    'beta_Y10_S' : betas,\n",
    "    'beta_Y_R10' : betas,\n",
    "    'beta_Y10_R10' : betas,\n",
    "    'gamma_IS' : gammas,\n",
    "    'gamma_IV' : gammas,\n",
    "    'gamma_Y' : gammas,\n",
    "    'gamma_I01' : gammas,\n",
    "    'gamma_Y10' : gammas,\n",
    "    }\n"
   ]
  },
  {
   "cell_type": "code",
   "execution_count": 52,
   "metadata": {},
   "outputs": [],
   "source": [
    "tEnd = 200\n",
    "curScheme = pmf.Scheme('OmikronDeltaFull',init,pars,0,tEnd)\n",
    "curScheme.simulate()"
   ]
  },
  {
   "cell_type": "code",
   "execution_count": 17,
   "metadata": {},
   "outputs": [],
   "source": [
    "init1 = init.copy()\n",
    "toAdd = 0.01\n",
    "init1['IS'] = init1['IS'] + toAdd\n",
    "init1['S'] = init1['S'] - toAdd\n",
    "\n",
    "sch1 = pmf.Scheme('OmikronDeltaFull',init1,pars,0,tEnd)\n",
    "sch1.simulate()"
   ]
  },
  {
   "cell_type": "code",
   "execution_count": 412,
   "metadata": {},
   "outputs": [],
   "source": [
    "init2 = init.copy()\n",
    "toAdd = 0.01\n",
    "init2['IS'] = init2['IS'] + toAdd\n",
    "init2['S'] = init2['S'] - toAdd\n",
    "init2['Y'] = init2['Y'] + toAdd\n",
    "init2['S'] = init2['S'] - toAdd\n",
    "\n",
    "sch2 = pmf.Scheme('OmikronDeltaFull',init2,pars,0,tEnd)\n",
    "sch2.simulate()"
   ]
  },
  {
   "cell_type": "code",
   "execution_count": 413,
   "metadata": {},
   "outputs": [],
   "source": [
    "init3 = init.copy()\n",
    "toAdd = 0.005\n",
    "init3['IS'] = init3['IS'] + toAdd\n",
    "init3['S'] = init3['S'] - toAdd\n",
    "init3['Y'] = init3['Y'] + toAdd\n",
    "init3['S'] = init3['S'] - toAdd\n",
    "toVacc = 0.4\n",
    "init3['V'] = init3['V'] + toVacc \n",
    "init3['S'] = init3['S'] - toVacc\n",
    "\n",
    "sch3 = pmf.Scheme('OmikronDeltaFull',init3,pars,0,tEnd)\n",
    "sch3.simulate()"
   ]
  },
  {
   "cell_type": "code",
   "execution_count": 414,
   "metadata": {},
   "outputs": [],
   "source": [
    "init4 = init.copy()\n",
    "toAdd = 0.01\n",
    "init4['Y'] = init4['Y'] + toAdd\n",
    "init4['S'] = init4['S'] - toAdd\n",
    "toVacc = 0.2\n",
    "init4['V'] = init4['V'] + toVacc \n",
    "init4['S'] = init4['S'] - toVacc\n",
    "\n",
    "sch4 = pmf.Scheme('OmikronDeltaFull',init4,pars,0,tEnd)\n",
    "sch4.simulate()"
   ]
  },
  {
   "cell_type": "code",
   "execution_count": 415,
   "metadata": {},
   "outputs": [],
   "source": [
    "init_allVacc = init.copy()\n",
    "init_allVacc['V'] = 1\n",
    "init_allVacc['S'] = 0\n",
    "toAdd = 0.01\n",
    "init_allVacc['Y'] = init_allVacc['Y'] + toAdd\n",
    "init_allVacc['V'] = init_allVacc['V'] - toAdd\n",
    "sch_allVacc = pmf.Scheme('OmikronDeltaFull',init_allVacc,pars,0,tEnd)\n",
    "sch_allVacc.simulate()"
   ]
  },
  {
   "cell_type": "code",
   "execution_count": 416,
   "metadata": {},
   "outputs": [
    {
     "data": {
      "application/vnd.jupyter.widget-view+json": {
       "model_id": "267dcd467608498f98cbd04ffad18bba",
       "version_major": 2,
       "version_minor": 0
      },
      "text/plain": [
       "Canvas(toolbar=Toolbar(toolitems=[('Home', 'Reset original view', 'home', 'home'), ('Back', 'Back to previous …"
      ]
     },
     "metadata": {},
     "output_type": "display_data"
    },
    {
     "data": {
      "text/plain": [
       "(<Figure size 1200x2000 with 9 Axes>,\n",
       " [<AxesSubplot:ylabel='S'>,\n",
       "  <AxesSubplot:ylabel='V'>,\n",
       "  <AxesSubplot:ylabel='IS'>,\n",
       "  <AxesSubplot:ylabel='IV'>,\n",
       "  <AxesSubplot:ylabel='Y'>,\n",
       "  <AxesSubplot:ylabel='R01'>,\n",
       "  <AxesSubplot:ylabel='R10'>,\n",
       "  <AxesSubplot:ylabel='I01'>,\n",
       "  <AxesSubplot:ylabel='Y10'>])"
      ]
     },
     "execution_count": 416,
     "metadata": {},
     "output_type": "execute_result"
    }
   ],
   "source": [
    "fig = plt.figure(figsize=(12,20))\n",
    "curScheme.plot(fig=fig)\n",
    "sch1.plot(fig=fig,color='b')\n",
    "sch2.plot(fig=fig,color='r',linestyle=':')\n",
    "sch3.plot(fig=fig,color='g',linestyle='--')\n",
    "sch4.plot(fig=fig,color='y',linestyle='-.')\n",
    "sch_allVacc.plot(fig=fig,color='m')"
   ]
  },
  {
   "cell_type": "markdown",
   "metadata": {},
   "source": [
    "# Test a scenario with Omikron running in a vaccinated population, followed by introduction of delta"
   ]
  },
  {
   "cell_type": "code",
   "execution_count": 427,
   "metadata": {},
   "outputs": [],
   "source": [
    "\n",
    "V_0 = 0.4\n",
    "V_0 = 0.7\n",
    "IS_0 = 0.001\n",
    "IV_0 = 0\n",
    "Y_0 = 0\n",
    "R01_0 = 0\n",
    "R10_0 = 0\n",
    "I01_0 = 0\n",
    "Y10_0 = 0\n",
    "S_0 = 1 - V_0 - IS_0 - IV_0 - Y_0 - R01_0 - R10_0 - I01_0 - Y10_0 \n",
    "\n",
    "init = {    \n",
    "    'S' : S_0,\n",
    "    'V' : V_0,\n",
    "    'IS' : IS_0,\n",
    "    'IV' : IV_0,\n",
    "    'Y' : Y_0,\n",
    "    'R01' : R01_0,\n",
    "    'R10' : R10_0,\n",
    "    'I01' : I01_0,\n",
    "    'Y10' : Y10_0,\n",
    "}\n",
    "\n",
    "# betas = 2/7\n",
    "gammas = 1/7\n",
    "# betas_omikron = 2*gammas\n",
    "# betas_delta = 3*gammas\n",
    "# betas_omikron = 3*gammas\n",
    "# betas_delta = 2*betas_omikron\n",
    "# betas_omikron = 2*gammas\n",
    "# betas_delta = 3*betas_omikron\n",
    "# betas_omikron = 1.25*gammas\n",
    "betas_omikron = 2*gammas\n",
    "betas_delta = 6*gammas \n",
    "pars = {\n",
    "    'beta_IS_S' : betas_omikron,\n",
    "    'beta_IV_S' : betas_omikron,\n",
    "    'beta_I01_S' : betas_omikron,\n",
    "    'beta_IS_V' : betas_omikron,\n",
    "    'beta_IV_V' : betas_omikron,\n",
    "    'beta_I01_V' : betas_omikron,\n",
    "    'beta_IS_R01' : betas_omikron,\n",
    "    'beta_IV_R01' : betas_omikron,\n",
    "    'beta_I01_R01' : betas_omikron,\n",
    "    'beta_Y_S' : betas_delta,\n",
    "    'beta_Y10_S' : betas_delta,\n",
    "    'beta_Y_R10' : betas_delta,\n",
    "    'beta_Y10_R10' : betas_delta,\n",
    "    'gamma_IS' : gammas,\n",
    "    'gamma_IV' : gammas,\n",
    "    'gamma_Y' : gammas,\n",
    "    'gamma_I01' : gammas,\n",
    "    'gamma_Y10' : gammas,\n",
    "    }\n"
   ]
  },
  {
   "cell_type": "code",
   "execution_count": 440,
   "metadata": {},
   "outputs": [],
   "source": [
    "tEnd = 300\n",
    "curScheme = pmf.Scheme('OmikronDeltaFull',init,pars,0,tEnd,Changes=[]).copy()\n",
    "# curScheme.simulate()"
   ]
  },
  {
   "cell_type": "code",
   "execution_count": 441,
   "metadata": {},
   "outputs": [],
   "source": [
    "numToAdd = 0.0001\n",
    "varsToAdd = {    \n",
    "    'S' : -numToAdd,\n",
    "    'V' : 0,\n",
    "    'IS' : 0,\n",
    "    'IV' : 0,\n",
    "    'Y' : numToAdd/2,\n",
    "    'R01' : 0,\n",
    "    'R10' : 0,\n",
    "    'I01' : 0,\n",
    "    'Y10' : numToAdd/2,\n",
    "}\n",
    "curChange = pmf.Change(100,AddVariables=varsToAdd)\n",
    "curScheme.addChange(curChange)\n",
    "curScheme.simulate()"
   ]
  },
  {
   "cell_type": "code",
   "execution_count": 442,
   "metadata": {},
   "outputs": [],
   "source": [
    "# curScheme.plot()\n",
    "\n",
    "ts = curScheme.result.t\n",
    "\n",
    "Ss = curScheme.result.y[0,:]\n",
    "Vs = curScheme.result.y[1,:]\n",
    "ISs = curScheme.result.y[2,:]\n",
    "IVs = curScheme.result.y[3,:]\n",
    "Ys = curScheme.result.y[4,:]\n",
    "R01s = curScheme.result.y[5,:]\n",
    "R10s = curScheme.result.y[6,:]\n",
    "I01s = curScheme.result.y[7,:]\n",
    "Y10s = curScheme.result.y[8,:]\n",
    "RTs = 1-curScheme.result.y.sum(axis=0)\n"
   ]
  },
  {
   "cell_type": "code",
   "execution_count": 451,
   "metadata": {},
   "outputs": [],
   "source": [
    "\n",
    "# fig,allAxes = plt.subplots(3,1,sharex=True)\n",
    "\n",
    "# ax = allAxes[0]\n",
    "\n",
    "# ax.plot(ts,RTs)\n",
    "# ax.plot(ts,R01s)\n",
    "# ax.plot(ts,R10s)\n",
    "# ax.plot(ts,Ss)\n",
    "# ax.plot(ts,Vs)\n",
    "\n",
    "# ax = allAxes[1]\n",
    "# ax.plot(ts,ISs)\n",
    "# ax.plot(ts,IVs)\n",
    "# ax.plot(ts,I01s)\n",
    "\n",
    "\n",
    "# ax = allAxes[2]\n",
    "# ax.plot(ts,Ys)\n",
    "# ax.plot(ts,Y10s)"
   ]
  },
  {
   "cell_type": "code",
   "execution_count": 447,
   "metadata": {},
   "outputs": [
    {
     "data": {
      "application/vnd.jupyter.widget-view+json": {
       "model_id": "848b0725ef294c53af662bde0c57aac0",
       "version_major": 2,
       "version_minor": 0
      },
      "text/plain": [
       "Canvas(toolbar=Toolbar(toolitems=[('Home', 'Reset original view', 'home', 'home'), ('Back', 'Back to previous …"
      ]
     },
     "metadata": {},
     "output_type": "display_data"
    },
    {
     "data": {
      "text/plain": [
       "<matplotlib.lines.Line2D at 0x27a6e954b50>"
      ]
     },
     "execution_count": 447,
     "metadata": {},
     "output_type": "execute_result"
    }
   ],
   "source": [
    "\n",
    "fig,allAxes = plt.subplots(3,1,sharex=True)\n",
    "\n",
    "ax = allAxes[0]\n",
    "\n",
    "ax.fill_between(ts,Ss,color='b',label='Susceptible')\n",
    "ax.fill_between(ts,Vs+Ss,Ss,color='xkcd:cyan',label='Vaccinated')\n",
    "\n",
    "ax.fill_between(ts,R10s+Vs+Ss,Vs+Ss,color='xkcd:orange',label='Immune to only Omikron')  \n",
    "# ax.fill_between(ts,RTs+R10s+Vs+Ss,R10s+Vs+Ss,color='xkcd:black',label='Immune to both')  \n",
    "# ax.fill_between(ts,R01s+RTs+R10s+Vs+Ss,RTs+R10s+Vs+Ss,linewidth=0,color='xkcd:red',label='Immune to only Delta')  \n",
    "ax.fill_between(ts,R01s+R10s+Vs+Ss,R10s+Vs+Ss,linewidth=0,color='xkcd:yellow',label='Immune to only Delta')  \n",
    "ax.fill_between(ts,RTs+R01s+R10s+Vs+Ss,R01s+R10s+Vs+Ss,linewidth=0,color='xkcd:green',label='Immune to both')  \n",
    "ax.fill_between(ts,np.ones(ts.shape),hatch='//',facecolor='xkcd:light grey',zorder=-2,label='(Currently infectious)')\n",
    "\n",
    "ax.legend()\n",
    "ax.set_ylim([0,1])\n",
    "\n",
    "ax = allAxes[1]\n",
    "ax.fill_between(ts,ISs,linewidth=0,color='r',label='Omikron infected (Unvaccinated)')\n",
    "ax.fill_between(ts,IVs+ISs,ISs,linewidth=0,color='xkcd:violet',label='Omikron infected (Vaccinated)')\n",
    "# ax.fill_between(ts,IVs+ISs+I01s,IVs+ISs,linewidth=0,color='xkcd:pink',label='Omikron infected (Previous Delta-infection)')\n",
    "ax.legend()\n",
    "ax.set_ylim(bottom=0)\n",
    "ax.axvline(curScheme.Changes[0].t,color='k',linestyle=':',label='Introduction of Delta')\n",
    "\n",
    "# ax.fill_between(ts,I01s+IVs+ISs,ISs+IVs)\n",
    "ax = allAxes[2]\n",
    "ax.fill_between(ts,Ys,color='xkcd:grey',label='Delta infected (Unvaccinated)')\n",
    "ax.fill_between(ts,Y10s+Ys,Ys,color='xkcd:black',label='Delta infected (Unvaccinated, previous Omikron-infection)')\n",
    "\n",
    "ax.legend()\n",
    "ax.set_ylim(bottom=0)\n",
    "\n",
    "ax.set_xlim(left=ts[0],right=ts[-1])\n",
    "\n",
    "\n",
    "ax.axvline(curScheme.Changes[0].t,color='k',linestyle=':',label='Introduction of Delta')"
   ]
  },
  {
   "cell_type": "code",
   "execution_count": 448,
   "metadata": {},
   "outputs": [],
   "source": [
    "# Try to estimate hospitalizations from the above calculations\n",
    "\n",
    "chr_O_unva = 0.01\n",
    "chr_O_vacc = chr_O_unva / 5\n",
    "chr_O_preD = chr_O_unva / 2\n",
    "chr_D_unva = 0.05 \n",
    "chr_D_preO = chr_D_unva\n",
    "\n",
    "u_H = 0.2\n",
    "\n",
    "int_ISs = cumtrapz(np.exp(u_H*ts)*ISs,ts, initial=0)\n",
    "int_IVs = cumtrapz(np.exp(u_H*ts)*IVs,ts, initial=0)\n",
    "int_I01s = cumtrapz(np.exp(u_H*ts)*I01s,ts, initial=0)\n",
    "int_Ys = cumtrapz(np.exp(u_H*ts)*Ys,ts, initial=0)\n",
    "int_Y10s = cumtrapz(np.exp(u_H*ts)*Y10s,ts, initial=0)\n",
    "\n",
    "k = 0\n",
    "H_ISs = np.exp(-u_H*ts) * (chr_O_unva*pars['gamma_IS']*int_ISs + k) \n",
    "H_IVs = np.exp(-u_H*ts) * (chr_O_vacc*pars['gamma_IV']*int_IVs + k) \n",
    "H_I01s = np.exp(-u_H*ts) * (chr_O_vacc*pars['gamma_I01']*int_I01s + k) \n",
    "H_Ys = np.exp(-u_H*ts) * (chr_D_unva*pars['gamma_Y']*int_Ys + k) \n",
    "H_Y10s = np.exp(-u_H*ts) * (chr_D_preO*pars['gamma_Y10']*int_Y10s + k) "
   ]
  },
  {
   "cell_type": "code",
   "execution_count": 449,
   "metadata": {},
   "outputs": [
    {
     "data": {
      "application/vnd.jupyter.widget-view+json": {
       "model_id": "997d33ece851420a8c534e400f89e94f",
       "version_major": 2,
       "version_minor": 0
      },
      "text/plain": [
       "Canvas(toolbar=Toolbar(toolitems=[('Home', 'Reset original view', 'home', 'home'), ('Back', 'Back to previous …"
      ]
     },
     "metadata": {},
     "output_type": "display_data"
    }
   ],
   "source": [
    "fig,ax = plt.subplots()\n",
    "\n",
    "dkPop = 5800000\n",
    "# ax1.fill_between(ts,dkPop * H_IVs,label='Hospital admitted, vaccinated')\n",
    "# ax1.fill_between(ts,dkPop * (H_ISs + H_IVs),dkPop * H_IVs,label='Hospital admitted, unvaccinated')\n",
    "ax.fill_between(ts,dkPop*H_ISs,linewidth=0,color='r',label='Hospital admitted due to Omikron (Unvaccinated)')\n",
    "ax.fill_between(ts,dkPop*(H_IVs+H_ISs),dkPop*H_ISs,linewidth=0,color='xkcd:violet',label='Hospital admitted due to Omikron (Vaccinated)')\n",
    "# ax.fill_between(ts,dkPop*(H_IVs+H_ISs+H_I01s),dkPop*(H_ISs+H_IVs),linewidth=0,color='xkcd:pink',label='Hospital admitted due to Omikron (Unvaccinated, previous Delta-infection)')\n",
    "ax.fill_between(ts,dkPop*(H_IVs+H_ISs+H_I01s + H_Ys),dkPop*(H_IVs+H_ISs+H_I01s),linewidth=0,color='xkcd:grey',label='Hospital admitted due to Delta (Unvaccinated)')\n",
    "ax.fill_between(ts,dkPop*(H_IVs+H_ISs+H_I01s + H_Ys+H_Y10s),dkPop*( H_Ys+ H_IVs+H_ISs+H_I01s),linewidth=0,color='xkcd:black',label='Hospital admitted due to Delta (Unvaccinated, previous Omikron)')\n",
    "\n",
    "ax.axvline(curScheme.Changes[0].t,color='k',linestyle=':',label='Introduction of Delta')\n",
    "\n",
    "ax.legend()\n",
    "ax.set_ylim(bottom=0)\n",
    "ax.set_xlim([ts[0],ts[-1]])\n",
    "# ax1.plot(ts,dkPop * H_ISs)\n",
    "# ax1.plot(ts,dkPop * H_IVs)\n",
    "# ax1.plot(ts,dkPop * H_Ys)\n",
    "# ax1.plot(ts,dkPop * H_Y10s)\n",
    "\n",
    "ax.set_ylabel('Currently admitted to hospital')\n",
    "fig.tight_layout()"
   ]
  },
  {
   "cell_type": "markdown",
   "metadata": {},
   "source": [
    "# Attempt at demonstrating Omikrons takeover"
   ]
  },
  {
   "cell_type": "code",
   "execution_count": 505,
   "metadata": {},
   "outputs": [],
   "source": [
    "\n",
    "V_0 = 0.6\n",
    "IS_0 = 0\n",
    "IV_0 = 0\n",
    "Y_0 = 0.001\n",
    "R01_0 = 0\n",
    "R10_0 = 0\n",
    "I01_0 = 0\n",
    "Y10_0 = 0\n",
    "S_0 = 1 - V_0 - IS_0 - IV_0 - Y_0 - R01_0 - R10_0 - I01_0 - Y10_0 \n",
    "\n",
    "init = {    \n",
    "    'S' : S_0,\n",
    "    'V' : V_0,\n",
    "    'IS' : IS_0,\n",
    "    'IV' : IV_0,\n",
    "    'Y' : Y_0,\n",
    "    'R01' : R01_0,\n",
    "    'R10' : R10_0,\n",
    "    'I01' : I01_0,\n",
    "    'Y10' : Y10_0,\n",
    "}\n",
    "\n",
    "gammas = 1/7\n",
    "gammas = 1/4\n",
    "# betas_omikron = 2*gammas\n",
    "# betas_delta = 6*gammas \n",
    "betas_omikron = 1.75*gammas\n",
    "betas_delta = 3*gammas \n",
    "pars = {\n",
    "    'beta_IS_S' : betas_omikron,\n",
    "    'beta_IV_S' : betas_omikron,\n",
    "    'beta_I01_S' : betas_omikron,\n",
    "    'beta_IS_V' : betas_omikron,\n",
    "    'beta_IV_V' : betas_omikron,\n",
    "    'beta_I01_V' : betas_omikron,\n",
    "    'beta_IS_R01' : betas_omikron,\n",
    "    'beta_IV_R01' : betas_omikron,\n",
    "    'beta_I01_R01' : betas_omikron,\n",
    "    'beta_Y_S' : betas_delta,\n",
    "    'beta_Y10_S' : betas_delta,\n",
    "    'beta_Y_R10' : betas_delta,\n",
    "    'beta_Y10_R10' : betas_delta,\n",
    "    'gamma_IS' : gammas,\n",
    "    'gamma_IV' : gammas,\n",
    "    'gamma_Y' : gammas,\n",
    "    'gamma_I01' : gammas,\n",
    "    'gamma_Y10' : gammas,\n",
    "    }\n"
   ]
  },
  {
   "cell_type": "code",
   "execution_count": 506,
   "metadata": {},
   "outputs": [],
   "source": [
    "tEnd = 400\n",
    "curScheme = pmf.Scheme('OmikronDeltaFull',init,pars,0,tEnd,Changes=[]).copy()\n",
    "# curScheme.simulate()\n",
    "numToAdd = 0.0001\n",
    "varsToAdd = {    \n",
    "    'S' : -numToAdd,\n",
    "    'V' : 0,\n",
    "    'IS' : numToAdd,\n",
    "    'IV' : 0,\n",
    "    'Y' : 0,\n",
    "    'R01' : 0,\n",
    "    'R10' : 0,\n",
    "    'I01' : 0,\n",
    "    'Y10' : 0,\n",
    "}\n",
    "curChange = pmf.Change(50,AddVariables=varsToAdd)\n",
    "curScheme.addChange(curChange)\n",
    "curScheme.simulate()"
   ]
  },
  {
   "cell_type": "code",
   "execution_count": 507,
   "metadata": {},
   "outputs": [],
   "source": [
    "# curScheme.plot()\n",
    "\n",
    "ts = curScheme.result.t\n",
    "\n",
    "Ss = curScheme.result.y[0,:]\n",
    "Vs = curScheme.result.y[1,:]\n",
    "ISs = curScheme.result.y[2,:]\n",
    "IVs = curScheme.result.y[3,:]\n",
    "Ys = curScheme.result.y[4,:]\n",
    "R01s = curScheme.result.y[5,:]\n",
    "R10s = curScheme.result.y[6,:]\n",
    "I01s = curScheme.result.y[7,:]\n",
    "Y10s = curScheme.result.y[8,:]\n",
    "RTs = 1-curScheme.result.y.sum(axis=0)\n"
   ]
  },
  {
   "cell_type": "code",
   "execution_count": 508,
   "metadata": {},
   "outputs": [
    {
     "data": {
      "application/vnd.jupyter.widget-view+json": {
       "model_id": "94c1f975f0cd41428a35ab3f8a93a641",
       "version_major": 2,
       "version_minor": 0
      },
      "text/plain": [
       "Canvas(toolbar=Toolbar(toolitems=[('Home', 'Reset original view', 'home', 'home'), ('Back', 'Back to previous …"
      ]
     },
     "metadata": {},
     "output_type": "display_data"
    },
    {
     "data": {
      "text/plain": [
       "<matplotlib.lines.Line2D at 0x27a8ce7beb0>"
      ]
     },
     "execution_count": 508,
     "metadata": {},
     "output_type": "execute_result"
    }
   ],
   "source": [
    "\n",
    "fig,allAxes = plt.subplots(3,1,sharex=True)\n",
    "\n",
    "ax = allAxes[0]\n",
    "\n",
    "ax.fill_between(ts,Ss,color='b',label='Susceptible')\n",
    "ax.fill_between(ts,Vs+Ss,Ss,color='xkcd:cyan',label='Vaccinated')\n",
    "\n",
    "ax.fill_between(ts,R10s+Vs+Ss,Vs+Ss,linewidth=0,color='xkcd:orange',label='Immune to only Omikron')  \n",
    "# ax.fill_between(ts,RTs+R10s+Vs+Ss,R10s+Vs+Ss,color='xkcd:black',label='Immune to both')  \n",
    "# ax.fill_between(ts,R01s+RTs+R10s+Vs+Ss,RTs+R10s+Vs+Ss,linewidth=0,color='xkcd:red',label='Immune to only Delta')  \n",
    "ax.fill_between(ts,R01s+R10s+Vs+Ss,R10s+Vs+Ss,linewidth=0,color='xkcd:yellow',label='Immune to only Delta')  \n",
    "ax.fill_between(ts,RTs+R01s+R10s+Vs+Ss,R01s+R10s+Vs+Ss,linewidth=0,color='xkcd:green',label='Immune to both')  \n",
    "ax.fill_between(ts,np.ones(ts.shape),hatch='//',facecolor='xkcd:light grey',zorder=-2,label='(Currently infectious)')\n",
    "\n",
    "ax.legend()\n",
    "ax.set_ylim([0,1])\n",
    "\n",
    "ax = allAxes[1]\n",
    "ax.fill_between(ts,ISs,linewidth=0,color='r',label='Omikron infected (Unvaccinated)')\n",
    "ax.fill_between(ts,IVs+ISs,ISs,linewidth=0,color='xkcd:violet',label='Omikron infected (Vaccinated)')\n",
    "ax.fill_between(ts,IVs+ISs+I01s,IVs+ISs,linewidth=0,color='xkcd:pink',label='Omikron infected (Previous Delta-infection)')\n",
    "ax.legend()\n",
    "ax.set_ylim(bottom=0)\n",
    "ax.axvline(curScheme.Changes[0].t,color='k',linestyle=':',label='Introduction of Delta')\n",
    "\n",
    "# ax.fill_between(ts,I01s+IVs+ISs,ISs+IVs)\n",
    "ax = allAxes[2]\n",
    "ax.fill_between(ts,Ys,linewidth=0,color='xkcd:grey',label='Delta infected (Unvaccinated)')\n",
    "ax.fill_between(ts,Y10s+Ys,Ys,linewidth=0,color='xkcd:black',label='Delta infected (Unvaccinated, previous Omikron-infection)')\n",
    "\n",
    "ax.legend()\n",
    "ax.set_ylim(bottom=0)\n",
    "\n",
    "ax.set_xlim(left=ts[0],right=ts[-1])\n",
    "\n",
    "\n",
    "ax.axvline(curScheme.Changes[0].t,color='k',linestyle=':',label='Introduction of Omikron')"
   ]
  },
  {
   "cell_type": "code",
   "execution_count": 509,
   "metadata": {},
   "outputs": [
    {
     "data": {
      "application/vnd.jupyter.widget-view+json": {
       "model_id": "58ab80b106d8445ea2cb03e168fdc361",
       "version_major": 2,
       "version_minor": 0
      },
      "text/plain": [
       "Canvas(toolbar=Toolbar(toolitems=[('Home', 'Reset original view', 'home', 'home'), ('Back', 'Back to previous …"
      ]
     },
     "metadata": {},
     "output_type": "display_data"
    },
    {
     "data": {
      "text/plain": [
       "[<matplotlib.lines.Line2D at 0x27a8d757820>]"
      ]
     },
     "execution_count": 509,
     "metadata": {},
     "output_type": "execute_result"
    }
   ],
   "source": [
    "# Figure of Omikron vs Delta cases\n",
    "fig,(ax1,ax2) = plt.subplots(2,1,sharex=True) \n",
    "tot_Y = Y10s+Ys \n",
    "tot_I = ISs + IVs + I01s \n",
    "ax1.plot(ts,tot_Y)\n",
    "ax1.plot(ts,tot_I)\n",
    "ax2.plot(ts,tot_I/(tot_Y+tot_I))"
   ]
  },
  {
   "cell_type": "code",
   "execution_count": 510,
   "metadata": {},
   "outputs": [],
   "source": [
    "# Try to estimate hospitalizations from the above calculations\n",
    "\n",
    "chr_O_unva = 0.01\n",
    "chr_O_vacc = chr_O_unva / 5\n",
    "chr_O_preD = chr_O_unva / 2\n",
    "chr_D_unva = 0.05 \n",
    "chr_D_preO = chr_D_unva\n",
    "\n",
    "u_H = 0.2\n",
    "\n",
    "int_ISs = cumtrapz(np.exp(u_H*ts)*ISs,ts, initial=0)\n",
    "int_IVs = cumtrapz(np.exp(u_H*ts)*IVs,ts, initial=0)\n",
    "int_I01s = cumtrapz(np.exp(u_H*ts)*I01s,ts, initial=0)\n",
    "int_Ys = cumtrapz(np.exp(u_H*ts)*Ys,ts, initial=0)\n",
    "int_Y10s = cumtrapz(np.exp(u_H*ts)*Y10s,ts, initial=0)\n",
    "\n",
    "k = 0\n",
    "H_ISs = np.exp(-u_H*ts) * (chr_O_unva*pars['gamma_IS']*int_ISs + k) \n",
    "H_IVs = np.exp(-u_H*ts) * (chr_O_vacc*pars['gamma_IV']*int_IVs + k) \n",
    "H_I01s = np.exp(-u_H*ts) * (chr_O_vacc*pars['gamma_I01']*int_I01s + k) \n",
    "H_Ys = np.exp(-u_H*ts) * (chr_D_unva*pars['gamma_Y']*int_Ys + k) \n",
    "H_Y10s = np.exp(-u_H*ts) * (chr_D_preO*pars['gamma_Y10']*int_Y10s + k) "
   ]
  },
  {
   "cell_type": "code",
   "execution_count": 511,
   "metadata": {},
   "outputs": [
    {
     "data": {
      "application/vnd.jupyter.widget-view+json": {
       "model_id": "161505bb17844d5980cf3e4b9fb89b89",
       "version_major": 2,
       "version_minor": 0
      },
      "text/plain": [
       "Canvas(toolbar=Toolbar(toolitems=[('Home', 'Reset original view', 'home', 'home'), ('Back', 'Back to previous …"
      ]
     },
     "metadata": {},
     "output_type": "display_data"
    }
   ],
   "source": [
    "fig,ax = plt.subplots()\n",
    "\n",
    "dkPop = 5800000\n",
    "# ax1.fill_between(ts,dkPop * H_IVs,label='Hospital admitted, vaccinated')\n",
    "# ax1.fill_between(ts,dkPop * (H_ISs + H_IVs),dkPop * H_IVs,label='Hospital admitted, unvaccinated')\n",
    "ax.fill_between(ts,dkPop*H_ISs,linewidth=0,color='r',label='Hospital admitted due to Omikron (Unvaccinated)')\n",
    "ax.fill_between(ts,dkPop*(H_IVs+H_ISs),dkPop*H_ISs,linewidth=0,color='xkcd:violet',label='Hospital admitted due to Omikron (Vaccinated)')\n",
    "ax.fill_between(ts,dkPop*(H_IVs+H_ISs+H_I01s),dkPop*(H_ISs+H_IVs),linewidth=0,color='xkcd:pink',label='Hospital admitted due to Omikron (Unvaccinated, previous Delta-infection)')\n",
    "ax.fill_between(ts,dkPop*(H_IVs+H_ISs+H_I01s + H_Ys),dkPop*(H_IVs+H_ISs+H_I01s),linewidth=0,color='xkcd:grey',label='Hospital admitted due to Delta (Unvaccinated)')\n",
    "ax.fill_between(ts,dkPop*(H_IVs+H_ISs+H_I01s + H_Ys+H_Y10s),dkPop*( H_Ys+ H_IVs+H_ISs+H_I01s),linewidth=0,color='xkcd:black',label='Hospital admitted due to Delta (Unvaccinated, previous Omikron)')\n",
    "\n",
    "ax.axvline(curScheme.Changes[0].t,color='k',linestyle=':',label='Introduction of Delta')\n",
    "\n",
    "ax.legend()\n",
    "ax.set_ylim(bottom=0)\n",
    "ax.set_xlim([ts[0],ts[-1]])\n",
    "# ax1.plot(ts,dkPop * H_ISs)\n",
    "# ax1.plot(ts,dkPop * H_IVs)\n",
    "# ax1.plot(ts,dkPop * H_Ys)\n",
    "# ax1.plot(ts,dkPop * H_Y10s)\n",
    "\n",
    "ax.set_ylabel('Currently admitted to hospital')\n",
    "fig.tight_layout()"
   ]
  },
  {
   "cell_type": "code",
   "execution_count": 514,
   "metadata": {},
   "outputs": [
    {
     "data": {
      "application/vnd.jupyter.widget-view+json": {
       "model_id": "cde69c89c8f044e181a9407d771cbeb0",
       "version_major": 2,
       "version_minor": 0
      },
      "text/plain": [
       "Canvas(toolbar=Toolbar(toolitems=[('Home', 'Reset original view', 'home', 'home'), ('Back', 'Back to previous …"
      ]
     },
     "metadata": {},
     "output_type": "display_data"
    },
    {
     "name": "stderr",
     "output_type": "stream",
     "text": [
      "<ipython-input-514-663658eabd49>:7: RuntimeWarning: invalid value encountered in true_divide\n",
      "  ax2.plot(ts,H_tot_I/(H_tot_Y+H_tot_I))\n"
     ]
    },
    {
     "data": {
      "text/plain": [
       "(0.0, 200.0)"
      ]
     },
     "execution_count": 514,
     "metadata": {},
     "output_type": "execute_result"
    }
   ],
   "source": [
    "# Figure of Omikron vs Delta cases, hospitalizations\n",
    "fig,(ax1,ax2) = plt.subplots(2,1,sharex=True) \n",
    "H_tot_Y = H_Y10s+H_Ys \n",
    "H_tot_I = H_ISs + H_IVs + H_I01s \n",
    "ax1.plot(ts,H_tot_Y)\n",
    "ax1.plot(ts,H_tot_I)\n",
    "ax2.plot(ts,H_tot_I/(H_tot_Y+H_tot_I))\n",
    "ax2.set_ylim([0,1])\n",
    "\n",
    "ax1.set_xlim([0,200])"
   ]
  }
 ],
 "metadata": {
  "interpreter": {
   "hash": "c72cdf52cb3d31f207bca538e9396da8706c0ecf4a3038fb1c2b317934170431"
  },
  "kernelspec": {
   "display_name": "Python 3.8.5 64-bit ('main': conda)",
   "language": "python",
   "name": "python3"
  },
  "language_info": {
   "codemirror_mode": {
    "name": "ipython",
    "version": 3
   },
   "file_extension": ".py",
   "mimetype": "text/x-python",
   "name": "python",
   "nbconvert_exporter": "python",
   "pygments_lexer": "ipython3",
   "version": "3.8.5"
  },
  "orig_nbformat": 4
 },
 "nbformat": 4,
 "nbformat_minor": 2
}
