{
 "cells": [
  {
   "cell_type": "code",
   "execution_count": 32,
   "metadata": {},
   "outputs": [],
   "source": [
    "%matplotlib widget\n",
    "\n",
    "import sys\n",
    "sys.path.append(\"./../scripts\")\n",
    "import PandemiXFunctions as pf\n",
    "import PandemiXModelFunctions as pmf\n",
    "\n",
    "\n",
    "import numpy as np\n",
    "\n",
    "import matplotlib.pyplot as plt\n",
    "plt.rcParams['figure.figsize'] = (12,8)\n",
    "plt.rcParams[\"image.cmap\"] = \"tab10\"\n",
    "plt.rcParams['axes.prop_cycle'] = plt.cycler(color=plt.cm.tab10.colors)\n",
    "fs_label = 16\n",
    "parameters = {\n",
    "                'axes.labelsize': fs_label,\n",
    "                'axes.titlesize': fs_label+4,\n",
    "                'xtick.labelsize': fs_label,\n",
    "                'ytick.labelsize': fs_label, \n",
    "                'legend.fontsize': fs_label, \n",
    "                'lines.markersize': 10,\n",
    "                'lines.linewidth': 3\n",
    "             }\n",
    "             \n",
    "             \n",
    "# from scipy import integrate\n",
    "# int_I = integrate.cumtrapz(np.exp(u_H*ts)*Is,ts, initial=0)\n",
    "# Hs = np.exp(-u_H*ts) * (r_chr*pars_full['gamma']*int_I + k) "
   ]
  },
  {
   "cell_type": "code",
   "execution_count": 33,
   "metadata": {},
   "outputs": [
    {
     "data": {
      "text/plain": [
       "<module 'PandemiXModelFunctions' from 'c:\\\\Users\\\\rakrpe\\\\OneDrive - Roskilde Universitet\\\\Documents\\\\PandemiX\\\\GithubRepos\\\\PandemiX\\\\modelling\\\\PandemiXModelFunctions.py'>"
      ]
     },
     "execution_count": 33,
     "metadata": {},
     "output_type": "execute_result"
    }
   ],
   "source": [
    "import importlib \n",
    "importlib.reload(pmf)"
   ]
  },
  {
   "cell_type": "code",
   "execution_count": 34,
   "metadata": {},
   "outputs": [],
   "source": [
    "# Setup model\n",
    "pars = {\n",
    "    'beta_I': 2/7,\n",
    "    'gamma_I': 1/7,\n",
    "    'beta_YS': 2/7,\n",
    "    'beta_YV': 2/7,\n",
    "    'beta_YR': 2/7,\n",
    "    'gamma_Y': 1/7,\n",
    "}\n",
    "V_0 = 0.2\n",
    "I_0 = 0.001\n",
    "Y_0 = 0\n",
    "RI_0 = 0\n",
    "S_0 = 1 - V_0 - I_0 - Y_0 - RI_0 \n",
    "init = {'S': S_0,\n",
    "    'V': V_0,\n",
    "    'I': I_0,\n",
    "    'Y': Y_0,\n",
    "    'R_I': RI_0,\n",
    "}\n",
    "\n",
    "tEnd = 200\n",
    "curScheme = pmf.Scheme('SVIYRR',init,pars,0,tEnd)\n",
    "sch1 = curScheme.copy()\n",
    "toAdd = 0.0001\n",
    "sch1.addChange(pmf.Change(75,AddVariables={'S':toAdd,'V':0,'I':0,'Y':toAdd,'R_I':0}))"
   ]
  },
  {
   "cell_type": "code",
   "execution_count": 35,
   "metadata": {},
   "outputs": [],
   "source": [
    "curScheme.simulate()\n",
    "# curScheme.plot()"
   ]
  },
  {
   "cell_type": "code",
   "execution_count": 36,
   "metadata": {},
   "outputs": [
    {
     "data": {
      "application/vnd.jupyter.widget-view+json": {
       "model_id": "e29f7878f79b4b788d7063a307591ade",
       "version_major": 2,
       "version_minor": 0
      },
      "text/plain": [
       "Canvas(toolbar=Toolbar(toolitems=[('Home', 'Reset original view', 'home', 'home'), ('Back', 'Back to previous …"
      ]
     },
     "metadata": {},
     "output_type": "display_data"
    },
    {
     "data": {
      "text/plain": [
       "(<Figure size 1200x800 with 5 Axes>,\n",
       " array([<AxesSubplot:ylabel='S'>, <AxesSubplot:ylabel='V'>,\n",
       "        <AxesSubplot:ylabel='I'>, <AxesSubplot:ylabel='Y'>,\n",
       "        <AxesSubplot:ylabel='R_I'>], dtype=object))"
      ]
     },
     "execution_count": 36,
     "metadata": {},
     "output_type": "execute_result"
    }
   ],
   "source": [
    "sch1.simulate()\n",
    "sch1.plot()"
   ]
  },
  {
   "cell_type": "code",
   "execution_count": 37,
   "metadata": {},
   "outputs": [
    {
     "data": {
      "application/vnd.jupyter.widget-view+json": {
       "model_id": "de270b3c2e654c699c9c0056967ceefd",
       "version_major": 2,
       "version_minor": 0
      },
      "text/plain": [
       "Canvas(toolbar=Toolbar(toolitems=[('Home', 'Reset original view', 'home', 'home'), ('Back', 'Back to previous …"
      ]
     },
     "metadata": {},
     "output_type": "display_data"
    },
    {
     "data": {
      "text/plain": [
       "[<matplotlib.lines.Line2D at 0x20b2aa4f0a0>]"
      ]
     },
     "execution_count": 37,
     "metadata": {},
     "output_type": "execute_result"
    }
   ],
   "source": [
    "ts = sch1.result.t\n",
    "Is = sch1.result.y[2,:]\n",
    "Ys = sch1.result.y[3,:]\n",
    "\n",
    "fig,(ax1,ax2) = plt.subplots(2,1)\n",
    "ax1.plot(ts,Is)\n",
    "ax1.plot(ts,Ys)\n",
    "ax1.plot(ts,Is+Ys,'k:')\n",
    "\n",
    "ax2.plot(ts,Ys/(Is+Ys))"
   ]
  }
 ],
 "metadata": {
  "interpreter": {
   "hash": "c72cdf52cb3d31f207bca538e9396da8706c0ecf4a3038fb1c2b317934170431"
  },
  "kernelspec": {
   "display_name": "Python 3.8.5 64-bit ('main': conda)",
   "language": "python",
   "name": "python3"
  },
  "language_info": {
   "codemirror_mode": {
    "name": "ipython",
    "version": 3
   },
   "file_extension": ".py",
   "mimetype": "text/x-python",
   "name": "python",
   "nbconvert_exporter": "python",
   "pygments_lexer": "ipython3",
   "version": "3.8.5"
  },
  "orig_nbformat": 4
 },
 "nbformat": 4,
 "nbformat_minor": 2
}
