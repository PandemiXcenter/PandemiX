{
 "cells": [
  {
   "cell_type": "markdown",
   "metadata": {},
   "source": [
    "# Notebook for making example illustrations of the \"OmikronDeltaFullModel\" model"
   ]
  },
  {
   "cell_type": "code",
   "execution_count": 40,
   "metadata": {},
   "outputs": [],
   "source": [
    "%matplotlib widget\n",
    "\n",
    "import sys\n",
    "sys.path.append(\"./../scripts\")\n",
    "import PandemiXFunctions as pf\n",
    "import PandemiXModelFunctions as pmf\n",
    "\n",
    "import os\n",
    "\n",
    "\n",
    "import numpy as np\n",
    "\n",
    "import matplotlib.pyplot as plt\n",
    "plt.rcParams['figure.figsize'] = (12,8)\n",
    "plt.rcParams[\"image.cmap\"] = \"tab10\"\n",
    "plt.rcParams['axes.prop_cycle'] = plt.cycler(color=plt.cm.tab10.colors)\n",
    "fs_label = 16\n",
    "parameters = {\n",
    "                'axes.labelsize': fs_label,\n",
    "                'axes.titlesize': fs_label+4,\n",
    "                'xtick.labelsize': fs_label,\n",
    "                'ytick.labelsize': fs_label, \n",
    "                'legend.fontsize': fs_label, \n",
    "                'lines.markersize': 10,\n",
    "                'lines.linewidth': 3\n",
    "             }\n",
    "             \n",
    "             \n",
    "from scipy.integrate import cumtrapz\n",
    "# int_I = cumtrapz(np.exp(u_H*ts)*Is,ts, initial=0)\n",
    "# Hs = np.exp(-u_H*ts) * (r_chr*pars_full['gamma']*int_I + k) "
   ]
  },
  {
   "cell_type": "code",
   "execution_count": 41,
   "metadata": {},
   "outputs": [],
   "source": [
    "path_figs = os.getcwd() + '\\\\Figures\\\\'\n",
    "path_figs = path_figs + 'TwoStrainModel_'"
   ]
  },
  {
   "cell_type": "code",
   "execution_count": 42,
   "metadata": {},
   "outputs": [
    {
     "data": {
      "text/plain": [
       "<module 'PandemiXModelFunctions' from 'c:\\\\Users\\\\rakrpe\\\\OneDrive - Roskilde Universitet\\\\Documents\\\\PandemiX\\\\GithubRepos\\\\PandemiX\\\\modelling\\\\PandemiXModelFunctions.py'>"
      ]
     },
     "execution_count": 42,
     "metadata": {},
     "output_type": "execute_result"
    }
   ],
   "source": [
    "# Reload PandemiXModelFunctions, in case changes have been made\n",
    "import importlib \n",
    "importlib.reload(pmf)"
   ]
  },
  {
   "cell_type": "markdown",
   "metadata": {},
   "source": [
    "# First, each strain by itself, with and without vaccinations"
   ]
  },
  {
   "cell_type": "code",
   "execution_count": 43,
   "metadata": {},
   "outputs": [],
   "source": [
    "# Initialize everything\n",
    "V_0 = 0\n",
    "IS_0 = 0\n",
    "IV_0 = 0\n",
    "Y_0 = 0\n",
    "R01_0 = 0\n",
    "R10_0 = 0\n",
    "I01_0 = 0\n",
    "Y10_0 = 0\n",
    "S_0 = 1 - V_0 - IS_0 - IV_0 - Y_0 - R01_0 - R10_0 - I01_0 - Y10_0 \n",
    "\n",
    "init = {    \n",
    "    'S' : S_0,\n",
    "    'V' : V_0,\n",
    "    'IS' : IS_0,\n",
    "    'IV' : IV_0,\n",
    "    'Y' : Y_0,\n",
    "    'R01' : R01_0,\n",
    "    'R10' : R10_0,\n",
    "    'I01' : I01_0,\n",
    "    'Y10' : Y10_0,\n",
    "}\n",
    "\n",
    "betas = 2/7\n",
    "gammas = 1/7\n",
    "pars = {\n",
    "    'beta_IS_S' : betas,\n",
    "    'beta_IV_S' : betas,\n",
    "    'beta_I01_S' : betas,\n",
    "    'beta_IS_V' : betas,\n",
    "    'beta_IV_V' : betas,\n",
    "    'beta_I01_V' : betas,\n",
    "    'beta_IS_R01' : betas,\n",
    "    'beta_IV_R01' : betas,\n",
    "    'beta_I01_R01' : betas,\n",
    "    'beta_Y_S' : betas,\n",
    "    'beta_Y10_S' : betas,\n",
    "    'beta_Y_R10' : betas,\n",
    "    'beta_Y10_R10' : betas,\n",
    "    'gamma_IS' : gammas,\n",
    "    'gamma_IV' : gammas,\n",
    "    'gamma_Y' : gammas,\n",
    "    'gamma_I01' : gammas,\n",
    "    'gamma_Y10' : gammas,\n",
    "    }\n"
   ]
  },
  {
   "cell_type": "code",
   "execution_count": 44,
   "metadata": {},
   "outputs": [],
   "source": [
    "iniInf = 0.0001\n",
    "\n",
    "init_onlyI = init.copy()\n",
    "init_onlyI['S'] -= iniInf \n",
    "init_onlyI['IS'] += iniInf \n",
    "\n",
    "init_onlyY = init.copy()\n",
    "init_onlyY['S'] -= iniInf \n",
    "init_onlyY['Y'] += iniInf \n",
    "\n",
    "iniVacc = 0.3\n",
    "init_onlyI_vacc = init_onlyI.copy()\n",
    "init_onlyI_vacc['S'] -= iniVacc\n",
    "init_onlyI_vacc['V'] += iniVacc\n",
    "\n",
    "init_onlyY_vacc = init_onlyY.copy()\n",
    "init_onlyY_vacc['S'] -= iniVacc\n",
    "init_onlyY_vacc['V'] += iniVacc\n"
   ]
  },
  {
   "cell_type": "code",
   "execution_count": 45,
   "metadata": {},
   "outputs": [],
   "source": [
    "tEnd = 200\n",
    "sch_onlyI = pmf.Scheme('OmikronDeltaFull',init_onlyI,pars,0,tEnd,Changes=[])\n",
    "sch_onlyY = pmf.Scheme('OmikronDeltaFull',init_onlyY,pars,0,tEnd,Changes=[])\n",
    "sch_onlyI_vacc = pmf.Scheme('OmikronDeltaFull',init_onlyI_vacc,pars,0,tEnd,Changes=[])\n",
    "sch_onlyY_vacc = pmf.Scheme('OmikronDeltaFull',init_onlyY_vacc,pars,0,tEnd,Changes=[])\n",
    "\n",
    "sch_onlyI.simulate()\n",
    "sch_onlyY.simulate()\n",
    "sch_onlyI_vacc.simulate()\n",
    "sch_onlyY_vacc.simulate()\n",
    "\n",
    "r_oI = sch_onlyI.result \n",
    "r_oY = sch_onlyY.result \n",
    "r_oIv = sch_onlyI_vacc.result \n",
    "r_oYv = sch_onlyY_vacc.result "
   ]
  },
  {
   "cell_type": "code",
   "execution_count": 46,
   "metadata": {},
   "outputs": [
    {
     "data": {
      "application/vnd.jupyter.widget-view+json": {
       "model_id": "156871099f2b4113837a068a1d462582",
       "version_major": 2,
       "version_minor": 0
      },
      "text/plain": [
       "Canvas(toolbar=Toolbar(toolitems=[('Home', 'Reset original view', 'home', 'home'), ('Back', 'Back to previous …"
      ]
     },
     "metadata": {},
     "output_type": "display_data"
    }
   ],
   "source": [
    "fig,ax1 = plt.subplots()\n",
    "curLabels = [r'$I_S$: Infectious',r'$R_{1,0}$: Recovered',r'$S$: Susceptible']\n",
    "curColors = ['xkcd:orange','xkcd:green','xkcd:sky blue']\n",
    "ax1.stackplot(r_oI.t,r_oI.IS,r_oI.R10,r_oI.S,labels=curLabels,colors=curColors)\n",
    "# ax1.legend(bbox_to_anchor=(1,0.5),loc='center left') \n",
    "ax1.legend(bbox_to_anchor=(1,0.5,0.25,0.1),loc='center right',mode='expand') \n",
    "ax1.set_ylim([0,1])\n",
    "ax1.set_xlim([r_oI.t[0],r_oI.t[-1]])\n",
    "ax1.set_xlabel('t')\n",
    "ax1.set_ylabel('Share of population')\n",
    "fig.tight_layout()\n",
    "\n",
    "fig.savefig(path_figs+'OnlyI')"
   ]
  },
  {
   "cell_type": "code",
   "execution_count": 47,
   "metadata": {},
   "outputs": [
    {
     "data": {
      "application/vnd.jupyter.widget-view+json": {
       "model_id": "ca9b4091eda74b988d12435638f93184",
       "version_major": 2,
       "version_minor": 0
      },
      "text/plain": [
       "Canvas(toolbar=Toolbar(toolitems=[('Home', 'Reset original view', 'home', 'home'), ('Back', 'Back to previous …"
      ]
     },
     "metadata": {},
     "output_type": "display_data"
    }
   ],
   "source": [
    "fig,ax1 = plt.subplots()\n",
    "RTs = 1 - r_oIv.IS-r_oIv.IV-r_oIv.R10-r_oIv.S-r_oIv.V\n",
    "# curLabels = [r'$I_S$: Infectious',r'$R_{1,0}$: Recovered',r'$R_{1,1}$: Immune to both',r'$S$: Susceptible',r'$V$: Vaccinated']\n",
    "# curColors = ['xkcd:orange','xkcd:green','xkcd:dark green','xkcd:sky blue','xkcd:grey']\n",
    "# ax1.stackplot(r_oIv.t,r_oIv.IS,r_oIv.R10,RTs,r_oIv.S,r_oIv.V,labels=curLabels,colors=curColors)\n",
    "# curLabels = [r'$I_S$: Infectious',r'$R_{1,0}$: Recovered',r'$S$: Susceptible',r'$R_{1,1}$: Immune to both',r'$V$: Vaccinated']\n",
    "# curColors = ['xkcd:orange','xkcd:green','xkcd:sky blue','xkcd:dark green','xkcd:grey']\n",
    "# ax1.stackplot(r_oIv.t,r_oIv.IS,r_oIv.R10,r_oIv.S,RTs,r_oIv.V,labels=curLabels,colors=curColors)\n",
    "                \n",
    "curLabels = [   \n",
    "                r'$I_S$: Infectious'+'\\n(unvaccinated)',\n",
    "                r'$I_V$: Infectious'+'\\n(vaccinated)',\n",
    "                r'$R_{1,0}$: Recovered',\n",
    "                r'$R_{1,1}$: Immune to both',\n",
    "                r'$S$: Susceptible',\n",
    "                r'$V$: Vaccinated'\n",
    "                ]\n",
    "curColors = ['xkcd:orange','xkcd:light orange','xkcd:green','xkcd:dark green','xkcd:sky blue','xkcd:grey']\n",
    "ax1.stackplot(r_oIv.t,\n",
    "                r_oIv.IS,\n",
    "                r_oIv.IV,\n",
    "                r_oIv.R10,\n",
    "                RTs,\n",
    "                r_oIv.S,\n",
    "                r_oIv.V,\n",
    "                labels=curLabels,colors=curColors)\n",
    "\n",
    "# ax1.legend(bbox_to_anchor=(1,0.5),loc='center left') \n",
    "ax1.legend(bbox_to_anchor=(1,0.5,0.25,0.1),loc='center right',mode='expand') \n",
    "ax1.set_ylim([0,1])\n",
    "ax1.set_xlim([r_oIv.t[0],r_oIv.t[-1]])\n",
    "ax1.set_xlabel('t')\n",
    "ax1.set_ylabel('Share of population')\n",
    "fig.tight_layout()\n",
    "\n",
    "fig.savefig(path_figs+'OnlyI_Vacc')"
   ]
  },
  {
   "cell_type": "code",
   "execution_count": 48,
   "metadata": {},
   "outputs": [
    {
     "data": {
      "application/vnd.jupyter.widget-view+json": {
       "model_id": "abc7074156a145f292084ffc51fa7671",
       "version_major": 2,
       "version_minor": 0
      },
      "text/plain": [
       "Canvas(toolbar=Toolbar(toolitems=[('Home', 'Reset original view', 'home', 'home'), ('Back', 'Back to previous …"
      ]
     },
     "metadata": {},
     "output_type": "display_data"
    }
   ],
   "source": [
    "fig,ax1 = plt.subplots()\n",
    "curLabels = [r'$Y$: Infectious',r'$R_{0,1}$: Recovered',r'$S$: Susceptible']\n",
    "curColors = ['xkcd:red','xkcd:light green','xkcd:sky blue']\n",
    "ax1.stackplot(r_oY.t,r_oY.Y,r_oY.R01,r_oY.S,labels=curLabels,colors=curColors)\n",
    "# ax1.legend(bbox_to_anchor=(1,0.5),loc='center left') \n",
    "ax1.legend(bbox_to_anchor=(1,0.5,0.25,0.1),loc='center right',mode='expand') \n",
    "ax1.set_ylim([0,1])\n",
    "ax1.set_xlim([r_oY.t[0],r_oY.t[-1]])\n",
    "ax1.set_xlabel('t')\n",
    "ax1.set_ylabel('Share of population')\n",
    "fig.tight_layout()\n",
    "\n",
    "fig.savefig(path_figs+'OnlyY')"
   ]
  },
  {
   "cell_type": "code",
   "execution_count": 49,
   "metadata": {},
   "outputs": [
    {
     "data": {
      "application/vnd.jupyter.widget-view+json": {
       "model_id": "3e6b2440513947da84b1d1ea7e15c04a",
       "version_major": 2,
       "version_minor": 0
      },
      "text/plain": [
       "Canvas(toolbar=Toolbar(toolitems=[('Home', 'Reset original view', 'home', 'home'), ('Back', 'Back to previous …"
      ]
     },
     "metadata": {},
     "output_type": "display_data"
    }
   ],
   "source": [
    "fig,ax1 = plt.subplots()\n",
    "curLabels = [r'$Y$: Infectious',r'$R_{0,1}$: Recovered',r'$S$: Susceptible',r'$V$: Vaccinated']\n",
    "curColors = ['xkcd:red','xkcd:light green','xkcd:sky blue','xkcd:gray']\n",
    "ax1.stackplot(r_oYv.t,r_oYv.Y,r_oYv.R01,r_oYv.S,r_oYv.V,labels=curLabels,colors=curColors)\n",
    "# ax1.legend(bbox_to_anchor=(1,0.5),loc='center left') \n",
    "ax1.legend(bbox_to_anchor=(1,0.5,0.25,0.1),loc='center right',mode='expand') \n",
    "ax1.set_ylim([0,1])\n",
    "ax1.set_xlim([r_oYv.t[0],r_oYv.t[-1]])\n",
    "ax1.set_xlabel('t')\n",
    "ax1.set_ylabel('Share of population')\n",
    "fig.tight_layout()\n",
    "\n",
    "fig.savefig(path_figs+'OnlyY_vacc')"
   ]
  },
  {
   "cell_type": "markdown",
   "metadata": {},
   "source": [
    "# Subsequent epidemics"
   ]
  },
  {
   "cell_type": "code",
   "execution_count": 50,
   "metadata": {},
   "outputs": [],
   "source": [
    "tEnd = 350\n",
    "sch_IthenY = pmf.Scheme('OmikronDeltaFull',init_onlyI,pars,0,tEnd,Changes=[])\n",
    "sch_YthenI = pmf.Scheme('OmikronDeltaFull',init_onlyY,pars,0,tEnd,Changes=[])\n",
    "\n",
    "tChange = 150\n",
    "toAdd = iniInf\n",
    "dictToAdd =  {  \n",
    "    'S' : -toAdd,\n",
    "    'V' : 0,\n",
    "    'IS' : 0,\n",
    "    'IV' : 0,\n",
    "    'Y' : toAdd,\n",
    "    'R01' : 0,\n",
    "    'R10' : 0,\n",
    "    'I01' : 0,\n",
    "    'Y10' : 0,\n",
    "}\n",
    "addY = pmf.Change(tChange, AddVariables=dictToAdd)\n",
    "dictToAdd =  {  \n",
    "    'S' : -toAdd,\n",
    "    'V' : 0,\n",
    "    'IS' : toAdd,\n",
    "    'IV' : 0,\n",
    "    'Y' : 0,\n",
    "    'R01' : 0,\n",
    "    'R10' : 0,\n",
    "    'I01' : 0,\n",
    "    'Y10' : 0,\n",
    "}\n",
    "addI = pmf.Change(tChange, AddVariables=dictToAdd)\n",
    "\n",
    "sch_IthenY.addChange(addY)\n",
    "sch_IthenY.simulate()\n",
    "sch_YthenI.addChange(addI)\n",
    "sch_YthenI.simulate()\n",
    "# sch_onlyY = pmf.Scheme('OmikronDeltaFull',init_onlyY,pars,0,tEnd,Changes=[])"
   ]
  },
  {
   "cell_type": "code",
   "execution_count": 51,
   "metadata": {},
   "outputs": [
    {
     "data": {
      "application/vnd.jupyter.widget-view+json": {
       "model_id": "e227b0a2e963438cba68a3284cd0c99f",
       "version_major": 2,
       "version_minor": 0
      },
      "text/plain": [
       "Canvas(toolbar=Toolbar(toolitems=[('Home', 'Reset original view', 'home', 'home'), ('Back', 'Back to previous …"
      ]
     },
     "metadata": {},
     "output_type": "display_data"
    }
   ],
   "source": [
    "curRes = sch_IthenY.result \n",
    "RTs = 1 - curRes.y.sum(axis=0)\n",
    "\n",
    "fig,ax1 = plt.subplots()\n",
    "curLabels = [   \n",
    "                r'$I_S$: Infectious'+'\\n(unvaccinated)',\n",
    "                r'$I_V$: Infectious'+'\\n(vaccinated)',\n",
    "                r'$I_{0,1}$: Infectious'+'\\n(previous Y)',\n",
    "                r'$Y$: Infectious',\n",
    "                r'$Y_{1,0}$: Infectious'+'\\n(previous I)',\n",
    "                r'$R_{1,0}$: Recovered, I',\n",
    "                r'$R_{0,1}$: Recovered, Y',\n",
    "                r'$R_{1,1}$: Immune to both',\n",
    "                r'$S$: Susceptible',\n",
    "                r'$V$: Vaccinated'\n",
    "                ]\n",
    "curColors = ['xkcd:orange','xkcd:light orange','xkcd:yellow','xkcd:red','xkcd:light red','xkcd:green','xkcd:light green','xkcd:dark green','xkcd:sky blue','xkcd:grey']\n",
    "ax1.stackplot(curRes.t,\n",
    "                curRes.IS,\n",
    "                curRes.IV,\n",
    "                curRes.I01,\n",
    "                curRes.Y,\n",
    "                curRes.Y10,\n",
    "                curRes.R10,\n",
    "                curRes.R01,\n",
    "                RTs,\n",
    "                curRes.S,\n",
    "                curRes.V,\n",
    "                labels=curLabels,colors=curColors)\n",
    "\n",
    "ax1.legend(bbox_to_anchor=(1,0.5,0.25,0.1),loc='center right',mode='expand') \n",
    "ax1.set_ylim([0,1])\n",
    "ax1.set_xlim([curRes.t[0],curRes.t[-1]])\n",
    "ax1.set_xlabel('t')\n",
    "ax1.set_ylabel('Share of population')\n",
    "fig.tight_layout()\n",
    "\n",
    "fig.savefig(path_figs+'IthenY')"
   ]
  },
  {
   "cell_type": "code",
   "execution_count": 52,
   "metadata": {},
   "outputs": [
    {
     "data": {
      "application/vnd.jupyter.widget-view+json": {
       "model_id": "af1cd724e32c42b4a60176637c604acf",
       "version_major": 2,
       "version_minor": 0
      },
      "text/plain": [
       "Canvas(toolbar=Toolbar(toolitems=[('Home', 'Reset original view', 'home', 'home'), ('Back', 'Back to previous …"
      ]
     },
     "metadata": {},
     "output_type": "display_data"
    }
   ],
   "source": [
    "curRes = sch_YthenI.result \n",
    "RTs = 1 - curRes.y.sum(axis=0)\n",
    "\n",
    "fig,ax1 = plt.subplots()\n",
    "curLabels = [   \n",
    "                r'$I_S$: Infectious'+'\\n(unvaccinated)',\n",
    "                r'$I_V$: Infectious'+'\\n(vaccinated)',\n",
    "                r'$I_{0,1}$: Infectious'+'\\n(previous Y)',\n",
    "                r'$Y$: Infectious',\n",
    "                r'$Y_{1,0}$: Infectious'+'\\n(previous I)',\n",
    "                r'$R_{1,0}$: Recovered, I',\n",
    "                r'$R_{0,1}$: Recovered, Y',\n",
    "                r'$R_{1,1}$: Immune to both',\n",
    "                r'$S$: Susceptible',\n",
    "                r'$V$: Vaccinated'\n",
    "                ]\n",
    "curColors = ['xkcd:orange','xkcd:light orange','xkcd:yellow','xkcd:red','xkcd:light red','xkcd:green','xkcd:light green','xkcd:dark green','xkcd:sky blue','xkcd:grey']\n",
    "ax1.stackplot(curRes.t,\n",
    "                curRes.IS,\n",
    "                curRes.IV,\n",
    "                curRes.I01,\n",
    "                curRes.Y,\n",
    "                curRes.Y10,\n",
    "                curRes.R10,\n",
    "                curRes.R01,\n",
    "                RTs,\n",
    "                curRes.S,\n",
    "                curRes.V,\n",
    "                labels=curLabels,colors=curColors)\n",
    "\n",
    "ax1.legend(bbox_to_anchor=(1,0.5,0.25,0.1),loc='center right',mode='expand') \n",
    "ax1.set_ylim([0,1])\n",
    "ax1.set_xlim([curRes.t[0],curRes.t[-1]])\n",
    "ax1.set_xlabel('t')\n",
    "ax1.set_ylabel('Share of population')\n",
    "fig.tight_layout()\n",
    "\n",
    "fig.savefig(path_figs+'YthenI')"
   ]
  },
  {
   "cell_type": "code",
   "execution_count": 53,
   "metadata": {},
   "outputs": [],
   "source": [
    "sch_IthenY_vacc = pmf.Scheme('OmikronDeltaFull',init_onlyI_vacc,pars,0,tEnd,Changes=[])\n",
    "sch_YthenI_vacc = pmf.Scheme('OmikronDeltaFull',init_onlyY_vacc,pars,0,tEnd,Changes=[])\n",
    "\n",
    "sch_IthenY_vacc.addChange(addY)\n",
    "sch_IthenY_vacc.simulate()\n",
    "sch_YthenI_vacc.addChange(addI)\n",
    "sch_YthenI_vacc.simulate()"
   ]
  },
  {
   "cell_type": "code",
   "execution_count": 54,
   "metadata": {},
   "outputs": [
    {
     "data": {
      "application/vnd.jupyter.widget-view+json": {
       "model_id": "48c3535ed2cf432ea6b7422d5945f432",
       "version_major": 2,
       "version_minor": 0
      },
      "text/plain": [
       "Canvas(toolbar=Toolbar(toolitems=[('Home', 'Reset original view', 'home', 'home'), ('Back', 'Back to previous …"
      ]
     },
     "metadata": {},
     "output_type": "display_data"
    }
   ],
   "source": [
    "curRes = sch_IthenY_vacc.result \n",
    "RTs = 1 - curRes.y.sum(axis=0)\n",
    "\n",
    "fig,ax1 = plt.subplots()\n",
    "curLabels = [   \n",
    "                r'$I_S$: Infectious'+'\\n(unvaccinated)',\n",
    "                r'$I_V$: Infectious'+'\\n(vaccinated)',\n",
    "                r'$I_{0,1}$: Infectious'+'\\n(previous Y)',\n",
    "                r'$Y$: Infectious',\n",
    "                r'$Y_{1,0}$: Infectious'+'\\n(previous I)',\n",
    "                r'$R_{1,0}$: Recovered, I',\n",
    "                r'$R_{0,1}$: Recovered, Y',\n",
    "                r'$R_{1,1}$: Immune to both',\n",
    "                r'$S$: Susceptible',\n",
    "                r'$V$: Vaccinated'\n",
    "                ]\n",
    "curColors = ['xkcd:orange','xkcd:light orange','xkcd:yellow','xkcd:red','xkcd:light red','xkcd:green','xkcd:light green','xkcd:dark green','xkcd:sky blue','xkcd:grey']\n",
    "ax1.stackplot(curRes.t,\n",
    "                curRes.IS,\n",
    "                curRes.IV,\n",
    "                curRes.I01,\n",
    "                curRes.Y,\n",
    "                curRes.Y10,\n",
    "                curRes.R10,\n",
    "                curRes.R01,\n",
    "                RTs,\n",
    "                curRes.S,\n",
    "                curRes.V,\n",
    "                labels=curLabels,colors=curColors)\n",
    "\n",
    "ax1.legend(bbox_to_anchor=(1,0.5,0.25,0.1),loc='center right',mode='expand') \n",
    "ax1.set_ylim([0,1])\n",
    "ax1.set_xlim([curRes.t[0],curRes.t[-1]])\n",
    "ax1.set_xlabel('t')\n",
    "ax1.set_ylabel('Share of population')\n",
    "fig.tight_layout()\n",
    "\n",
    "fig.savefig(path_figs+'IthenY_Vacc')"
   ]
  },
  {
   "cell_type": "code",
   "execution_count": 55,
   "metadata": {},
   "outputs": [
    {
     "data": {
      "application/vnd.jupyter.widget-view+json": {
       "model_id": "c3b3de8c4c164816aaf59b3a7c8286e3",
       "version_major": 2,
       "version_minor": 0
      },
      "text/plain": [
       "Canvas(toolbar=Toolbar(toolitems=[('Home', 'Reset original view', 'home', 'home'), ('Back', 'Back to previous …"
      ]
     },
     "metadata": {},
     "output_type": "display_data"
    }
   ],
   "source": [
    "curRes = sch_YthenI_vacc.result \n",
    "RTs = 1 - curRes.y.sum(axis=0)\n",
    "\n",
    "fig,ax1 = plt.subplots()\n",
    "curLabels = [   \n",
    "                r'$I_S$: Infectious'+'\\n(unvaccinated)',\n",
    "                r'$I_V$: Infectious'+'\\n(vaccinated)',\n",
    "                r'$I_{0,1}$: Infectious'+'\\n(previous Y)',\n",
    "                r'$Y$: Infectious',\n",
    "                r'$Y_{1,0}$: Infectious'+'\\n(previous I)',\n",
    "                r'$R_{1,0}$: Recovered, I',\n",
    "                r'$R_{0,1}$: Recovered, Y',\n",
    "                r'$R_{1,1}$: Immune to both',\n",
    "                r'$S$: Susceptible',\n",
    "                r'$V$: Vaccinated'\n",
    "                ]\n",
    "curColors = ['xkcd:orange','xkcd:light orange','xkcd:yellow','xkcd:red','xkcd:light red','xkcd:green','xkcd:light green','xkcd:dark green','xkcd:sky blue','xkcd:grey']\n",
    "ax1.stackplot(curRes.t,\n",
    "                curRes.IS,\n",
    "                curRes.IV,\n",
    "                curRes.I01,\n",
    "                curRes.Y,\n",
    "                curRes.Y10,\n",
    "                curRes.R10,\n",
    "                curRes.R01,\n",
    "                RTs,\n",
    "                curRes.S,\n",
    "                curRes.V,\n",
    "                labels=curLabels,colors=curColors)\n",
    "\n",
    "ax1.legend(bbox_to_anchor=(1,0.5,0.25,0.1),loc='center right',mode='expand') \n",
    "ax1.set_ylim([0,1])\n",
    "ax1.set_xlim([curRes.t[0],curRes.t[-1]])\n",
    "ax1.set_xlabel('t')\n",
    "ax1.set_ylabel('Share of population')\n",
    "fig.tight_layout()\n",
    "\n",
    "fig.savefig(path_figs+'YthenI_Vacc')"
   ]
  },
  {
   "cell_type": "markdown",
   "metadata": {},
   "source": [
    "# From here, I'll move to another document to simulate various relevant scenarios"
   ]
  },
  {
   "cell_type": "markdown",
   "metadata": {},
   "source": [
    "# Old stuff below"
   ]
  },
  {
   "cell_type": "code",
   "execution_count": 56,
   "metadata": {},
   "outputs": [],
   "source": [
    "# ts = sch_onlyI.result.t\n",
    "\n",
    "# Ss = curScheme.result.y[0,:]\n",
    "# Vs = curScheme.result.y[1,:]\n",
    "# ISs = curScheme.result.y[2,:]\n",
    "# IVs = curScheme.result.y[3,:]\n",
    "# Ys = curScheme.result.y[4,:]\n",
    "# R01s = curScheme.result.y[5,:]\n",
    "# R10s = curScheme.result.y[6,:]\n",
    "# I01s = curScheme.result.y[7,:]\n",
    "# Y10s = curScheme.result.y[8,:]\n",
    "# RTs = 1-curScheme.result.y.sum(axis=0)"
   ]
  },
  {
   "cell_type": "code",
   "execution_count": 57,
   "metadata": {},
   "outputs": [],
   "source": [
    "# fig,ax1 = plt.subplots()\n",
    "# # ax1.stackplot(ts,Ss,ISs,R10s)\n",
    "# # ax1.stackplot(ts,ISs,R10s,Ss,labels=[r'$I_S$: Infectious',r'$R_{1,0}$: Recovered',r'$S$: Susceptible'],colors=['xkcd:orange','xkcd:green','xkcd:sky blue'])\n",
    "# # ax1.stackplot(ts,ISs,Ys,I01s,Y10s,R10s,R01s,RTs,Ss,colors=['r','r','r','r','g','g','g','b'])\n",
    "# # ax1.stackplot(ts,ISs,Ys,I01s,Y10s,R10s,R01s,RTs,Ss)\n",
    "# ax1.stackplot(r_oI.t,r_oI.IS,r_oI.R10,r_oI.S,labels=[r'$I_S$: Infectious',r'$R_{1,0}$: Recovered',r'$S$: Susceptible'],colors=['xkcd:orange','xkcd:green','xkcd:sky blue'])\n",
    "# ax1.legend(bbox_to_anchor=(1,0.5),loc='center left') \n",
    "# ax1.set_ylim([0,1])\n",
    "# ax1.set_xlim([ts[0],ts[-1]])\n",
    "# ax1.set_xlabel('t')\n",
    "# ax1.set_ylabel('Share of population')\n",
    "# fig.tight_layout()"
   ]
  },
  {
   "cell_type": "code",
   "execution_count": null,
   "metadata": {},
   "outputs": [],
   "source": []
  }
 ],
 "metadata": {
  "interpreter": {
   "hash": "c72cdf52cb3d31f207bca538e9396da8706c0ecf4a3038fb1c2b317934170431"
  },
  "kernelspec": {
   "display_name": "Python 3.8.5 64-bit ('main': conda)",
   "language": "python",
   "name": "python3"
  },
  "language_info": {
   "codemirror_mode": {
    "name": "ipython",
    "version": 3
   },
   "file_extension": ".py",
   "mimetype": "text/x-python",
   "name": "python",
   "nbconvert_exporter": "python",
   "pygments_lexer": "ipython3",
   "version": "3.8.5"
  },
  "orig_nbformat": 4
 },
 "nbformat": 4,
 "nbformat_minor": 2
}
