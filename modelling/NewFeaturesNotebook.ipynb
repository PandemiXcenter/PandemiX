{
 "cells": [
  {
   "cell_type": "code",
   "execution_count": 1,
   "metadata": {},
   "outputs": [],
   "source": [
    "import numpy as np\n"
   ]
  },
  {
   "cell_type": "code",
   "execution_count": 2,
   "metadata": {},
   "outputs": [],
   "source": [
    "# # Define the model to use for tests, basic SIR\n",
    "\n",
    "# modelFlows = {\n",
    "#     'beta * S * I' : ['S','I'],\n",
    "#     'gamma * I' : ['I',None]\n",
    "# }\n",
    "\n",
    "# varsMeta = ['S','I']\n",
    "# parsMeta = ['beta','gamma']\n",
    "\n"
   ]
  },
  {
   "cell_type": "code",
   "execution_count": 3,
   "metadata": {},
   "outputs": [],
   "source": [
    "# x = np.array([0.9,0.1])\n",
    "# p1 = 2/7\n",
    "# p2 = 1.5/7\n",
    "# ps = [p1,p2]\n",
    "\n",
    "# def testFunc(t,x,beta,gamma):\n",
    "\n",
    "#     S,I = x \n",
    "\n",
    "#     dS = - beta * S * I \n",
    "#     dI = + beta * S * I - gamma * I \n",
    "\n",
    "#     return [dS,dI]\n",
    "\n",
    "# testFunc(0,x,p1,p2)"
   ]
  },
  {
   "cell_type": "code",
   "execution_count": 4,
   "metadata": {},
   "outputs": [],
   "source": [
    "# dxdt = np.zeros(x.shape)\n",
    "\n",
    "# for i in range(len(varsMeta)):\n",
    "#     vName = varsMeta[i]\n",
    "#     exec(vName+' = x['+str(i)+']')\n",
    "    \n",
    "# for i in range(len(parsMeta)):\n",
    "#     pName = parsMeta[i]\n",
    "#     exec(pName+' = ps['+str(i)+']')\n",
    "\n",
    "\n",
    "# allFlows = np.zeros(len(modelFlows))\n",
    "# i = 0\n",
    "# for key in modelFlows:\n",
    "#     # curFlowVal = eval(key)\n",
    "#     # print(f'{key}: {curFlowVal}')\n",
    "#     allFlows[i] = eval(key)\n",
    "#     i = i + 1\n",
    "\n",
    "# for i in range(len(varsMeta)):\n",
    "#     curVal = 0\n",
    "#     curVarName = varsMeta[i]\n",
    "#     for j in range(len(modelFlows)):\n",
    "#         curFlow = list(modelFlows.items())[j]\n",
    "#         curOut = curFlow[1][0]\n",
    "#         curIn = curFlow[1][1]\n",
    "#         if (curOut == curVarName):\n",
    "#             curVal -= allFlows[j]\n",
    "#         if (curIn == curVarName):\n",
    "#             curVal += allFlows[j]\n",
    "#     dxdt[i] = curVal\n",
    "\n",
    "# dxdt\n"
   ]
  },
  {
   "cell_type": "code",
   "execution_count": 5,
   "metadata": {},
   "outputs": [],
   "source": [
    "def curFunc(t,x,ps,modelFlows,varsMeta,parsMeta):\n",
    "\n",
    "    # Go through variable names and get inputs\n",
    "    for i in range(len(varsMeta)):\n",
    "        vName = varsMeta[i]\n",
    "        exec(vName+' = x['+str(i)+']')\n",
    "        \n",
    "    # Go through parameter names and save\n",
    "    for i in range(len(parsMeta)):\n",
    "        pName = parsMeta[i]\n",
    "        exec(pName+' = ps['+str(i)+']')\n",
    "\n",
    "    # Calculate the value of each current flow\n",
    "    allFlows = np.zeros(len(modelFlows))\n",
    "    i = 0\n",
    "    for key in modelFlows:\n",
    "        allFlows[i] = eval(key)\n",
    "        i = i + 1\n",
    "\n",
    "    # Initialize outputs as zero\n",
    "    # dxdt = np.zeros(x.shape)\n",
    "    dxdt = np.zeros(len(x))\n",
    "    # Go through each variable\n",
    "    for i in range(len(varsMeta)):\n",
    "        # # Make sure the current output is zero\n",
    "        # dxdt[i] = 0\n",
    "        # Get the name of the current variable\n",
    "        curVarName = varsMeta[i]\n",
    "        # Go through each flow\n",
    "        for j in range(len(modelFlows)):\n",
    "            # Get the current flow\n",
    "            curFlow = list(modelFlows.items())[j]\n",
    "            # Identify inputs and outputs\n",
    "            curOut = curFlow[1][0]\n",
    "            curIn = curFlow[1][1]\n",
    "            # If the flow is an output of the current variable, subtract the flow-value\n",
    "            if (curOut == curVarName):\n",
    "                dxdt[i] -= allFlows[j]\n",
    "            # If the flow is an input of the current variable, add the flow-value\n",
    "            if (curIn == curVarName):\n",
    "                dxdt[i] += allFlows[j]\n",
    "\n",
    "    return dxdt\n",
    "\n",
    "# Make a shorter function call for use in solve_ivp\n",
    "def ModelCallToReturn(t,x,*args,ModelMeta):\n",
    "    modelFlows,varsMeta,parsMeta = ModelMeta\n",
    "    return curFunc(t,x,args,modelFlows,varsMeta,parsMeta)\n"
   ]
  },
  {
   "cell_type": "code",
   "execution_count": 6,
   "metadata": {},
   "outputs": [
    {
     "data": {
      "text/plain": [
       "array([-0.01285714, -0.01571429])"
      ]
     },
     "execution_count": 6,
     "metadata": {},
     "output_type": "execute_result"
    }
   ],
   "source": [
    "# ModelCallToReturn(0,x,p1,p2,p3,p4,p5)\n",
    "# modelFlows = {\n",
    "#     'beta * S * I' : ['S','I'],\n",
    "#     'gamma * I' : ['I',None]\n",
    "# }\n",
    "\n",
    "# varsMeta = ['S','I']\n",
    "# parsMeta = ['beta','gamma']\n",
    "\n",
    "curFunc(0,\n",
    "    [0.9,0.1],[1/7,2/7],{\n",
    "     'beta * S * I' : ['S','I'],\n",
    "     'gamma * I' : ['I',None]\n",
    "},\n",
    "['S','I'],['beta','gamma'])\n",
    "# modelFlows,varsMeta,parsMeta = ModelMeta\n",
    "\n",
    "ModelCallToReturn(0,[0.9,0.1],1/7,2/7,ModelMeta=({\n",
    "     'beta * S * I' : ['S','I'],\n",
    "     'gamma * I' : ['I',None]\n",
    "},\n",
    "['S','I'],['beta','gamma']))"
   ]
  },
  {
   "cell_type": "code",
   "execution_count": 7,
   "metadata": {},
   "outputs": [],
   "source": [
    "# Testing:\n",
    "\n",
    "from scipy.integrate import solve_ivp\n",
    "\n",
    "t0 = 0\n",
    "tEnd = 100\n",
    "TimeRange = np.arange(t0,tEnd) \n",
    "InitArray = [0.99,0.01]\n",
    "# ParsArray = (p1,p2)\n",
    "ParsArray = (2/7,1/7)\n",
    "\n",
    "\n",
    "def testFunc(t,x,beta,gamma):\n",
    "\n",
    "    S,I = x \n",
    "\n",
    "    dS = - beta * S * I \n",
    "    dI = + beta * S * I - gamma * I \n",
    "\n",
    "    return [dS,dI]\n",
    "\n",
    "sol = solve_ivp(testFunc,[t0,tEnd],InitArray,t_eval=TimeRange,args=ParsArray)\n",
    "# sol2 = solve_ivp(ModelCallToReturn,[t0,tEnd],InitArray,t_eval=TimeRange,args=ParsArray)\n",
    "currentModel = type('Model', (), {})()\n",
    "currentModel.ModelMeta = ({\n",
    "     'beta * S * I' : ['S','I'],\n",
    "     'gamma * I' : ['I',None]\n",
    "},\n",
    "['S','I'],['beta','gamma'])\n",
    "\n",
    "testMeta = ({\n",
    "     'beta * S * I' : ['S','I'],\n",
    "     'gamma * I' : ['I',None]\n",
    "},\n",
    "['S','I'],['beta','gamma'])\n",
    "\n",
    "\n",
    "sol2 = solve_ivp(lambda t,x,*args: ModelCallToReturn(t,x,*args,ModelMeta=testMeta),[t0,tEnd],InitArray,t_eval=TimeRange,args=ParsArray)\n"
   ]
  },
  {
   "cell_type": "code",
   "execution_count": 8,
   "metadata": {},
   "outputs": [
    {
     "data": {
      "text/plain": [
       "[<matplotlib.lines.Line2D at 0x16901c4a0b0>]"
      ]
     },
     "execution_count": 8,
     "metadata": {},
     "output_type": "execute_result"
    },
    {
     "data": {
      "image/png": "[encoded data removed]",
      "text/plain": [
       "<Figure size 432x288 with 1 Axes>"
      ]
     },
     "metadata": {
      "needs_background": "light"
     },
     "output_type": "display_data"
    }
   ],
   "source": [
    "import matplotlib.pyplot as plt \n",
    "\n",
    "plt.figure() \n",
    "plt.plot(sol.t,sol.y[0,:])\n",
    "plt.plot(sol.t,sol.y[1,:])\n",
    "plt.plot(sol2.t,sol2.y[0,:],'--')\n",
    "plt.plot(sol2.t,sol2.y[1,:],'--')"
   ]
  },
  {
   "cell_type": "markdown",
   "metadata": {},
   "source": [
    "# Test some arbitrary models"
   ]
  },
  {
   "cell_type": "code",
   "execution_count": 9,
   "metadata": {},
   "outputs": [],
   "source": [
    "# modelFlows = {\n",
    "#     'alpha * X' : [None,'X'],\n",
    "#     'beta * X * Y' : ['X',None],\n",
    "#     'delta * X * Y' : [None,'Y'],\n",
    "#     'gamma * Y' : ['Y',None],\n",
    "#     # 'gamma * X * X' : ['X',None],\n",
    "# }\n",
    "\n",
    "# varsMeta = ['X','Y']\n",
    "# parsMeta = ['alpha','beta','delta','gamma']\n",
    "\n"
   ]
  },
  {
   "cell_type": "code",
   "execution_count": 10,
   "metadata": {},
   "outputs": [],
   "source": [
    "# t0 = 0\n",
    "# tEnd = 500\n",
    "# TimeRange = np.arange(t0,tEnd) \n",
    "# InitArray = [0.99,0.01]\n",
    "# ParsArray = [0.1,0.2,0.4,0.1]\n",
    "\n",
    "\n",
    "# curSol = solve_ivp(ModelCallToReturn,[t0,tEnd],InitArray,t_eval=TimeRange,args=ParsArray)\n",
    "\n",
    "# plt.figure() \n",
    "# plt.plot(curSol.t,curSol.y[0,:],'--')\n",
    "# plt.plot(curSol.t,curSol.y[1,:],'--')"
   ]
  },
  {
   "cell_type": "code",
   "execution_count": 11,
   "metadata": {},
   "outputs": [
    {
     "data": {
      "text/plain": [
       "(3.6871075803952035e-07, [19999, 1001])"
      ]
     },
     "execution_count": 11,
     "metadata": {},
     "output_type": "execute_result"
    }
   ],
   "source": [
    "\n",
    "## Arbitrary function definitions\n",
    "def ArbitraryGillespieCall(t,x,ps,modelFlows,varsMeta,parsMeta):\n",
    "\n",
    "    # Calculate sum of population\n",
    "    N = np.sum(x)\n",
    "\n",
    "    # Go through variable names and get inputs\n",
    "    for i in range(len(varsMeta)):\n",
    "        vName = varsMeta[i]\n",
    "        exec(vName+' = x['+str(i)+']')\n",
    "        # exec(vName+' = xNorm['+str(i)+']')\n",
    "        \n",
    "    # Go through parameter names and save\n",
    "    for i in range(len(parsMeta)):\n",
    "        pName = parsMeta[i]\n",
    "        exec(pName+' = ps['+str(i)+']')\n",
    "\n",
    "    # Calculate the value of each current flow\n",
    "    allFlows = np.zeros(len(modelFlows))\n",
    "    i = 0\n",
    "    for key in modelFlows:\n",
    "        allFlows[i] = eval(key)\n",
    "        i = i + 1\n",
    "\n",
    "    flowTot = allFlows.sum()\n",
    "    \n",
    "    if (flowTot == None):\n",
    "        return 0,x \n",
    "\n",
    "    # print(f'flowTot: {flowTot}, x:{x}')\n",
    "\n",
    "    r1 = np.random.rand()\n",
    "    r2 = np.random.rand()\n",
    "    \n",
    "    timeStep = np.log(1/r1) / flowTot \n",
    "\n",
    "    # print(allFlows)\n",
    "    # print(allFlows/flowTot)\n",
    "    # print(np.cumsum(allFlows/flowTot))\n",
    "    # curBounds = np.append(0,np.cumsum(allFlows/flowTot))\n",
    "    curBounds = np.cumsum(allFlows/flowTot)\n",
    "    # print(curBounds)\n",
    "\n",
    "    xOut = x.copy()\n",
    "    curReaction = None\n",
    "    i = 0\n",
    "    while (i < len(curBounds)):\n",
    "        if (r2 < curBounds[i]):\n",
    "            curReaction = i \n",
    "            i = len(curBounds)\n",
    "        i += 1\n",
    "    \n",
    "    if (curReaction == None):\n",
    "        return 0,x \n",
    "\n",
    "    reactionFlow = list(modelFlows)[curReaction]\n",
    "    # print(reactionFlow)\n",
    "    curToChange = modelFlows[reactionFlow]\n",
    "    # print(curToChange)\n",
    "    if (curToChange[0] != None):\n",
    "        curOut = np.where(curToChange[0] == np.array(varsMeta))[0][0]\n",
    "        xOut[curOut] -= 1\n",
    "    if (curToChange[1] != None):\n",
    "        curIn = np.where(curToChange[1] == np.array(varsMeta))[0][0]\n",
    "        xOut[curIn] += 1\n",
    "\n",
    "    return timeStep,xOut\n",
    "\n",
    "    \n",
    "testMeta = ({\n",
    "     'beta * S * I' : ['S','I'],\n",
    "     'gamma * I' : ['I',None]\n",
    "},\n",
    "['S','I'],['beta','gamma'])\n",
    "\n",
    "\n",
    "# ArbitraryGillespieCall(0,[0.99,0.01],(2/7,1/7),*testMeta)\n",
    "# curInit =100* np.array([0.99,0.01])\n",
    "testInit = [20000,1000]\n",
    "ArbitraryGillespieCall(0,testInit,(2/7,1/7),*testMeta)\n",
    "\n"
   ]
  },
  {
   "cell_type": "code",
   "execution_count": 12,
   "metadata": {},
   "outputs": [],
   "source": [
    "def multiGillespie(tInit,tEnd,xInit,pars,ModelMeta):\n",
    "    \n",
    "    allTs = [tInit]\n",
    "    allXs = xInit \n",
    "\n",
    "    # popSum = np.sum(xInit) \n",
    "\n",
    "    curInit = xInit \n",
    "    curT = tInit \n",
    "    # for k in range(1000):\n",
    "    while (curT < tEnd):\n",
    "        \n",
    "        # if (curInit[1] == 0):\n",
    "        #     curT = tEnd\n",
    "        # else:\n",
    "        #     dt,curInit = ArbitraryGillespieCall(curT,curInit,pars,*ModelMeta)\n",
    "        #     curT += dt\n",
    "\n",
    "        #     allTs.append(curT) \n",
    "        #     allXs = np.vstack([allXs,curInit])\n",
    "            \n",
    "        # if (dt == 0):\n",
    "        #     curT = tEnd\n",
    "        # else: \n",
    "            \n",
    "        #     dt,curInit = ArbitraryGillespieCall(curT,curInit,pars,*ModelMeta)\n",
    "        #     curT += dt\n",
    "\n",
    "        #     allTs.append(curT) \n",
    "        #     allXs = np.vstack([allXs,curInit])\n",
    "            \n",
    "        dt,curInit = ArbitraryGillespieCall(curT,curInit,pars,*ModelMeta)\n",
    "        curT += dt\n",
    "\n",
    "        allTs.append(curT) \n",
    "        allXs = np.vstack([allXs,curInit])\n",
    "        \n",
    "        if (dt == 0):\n",
    "            curT = tEnd\n",
    "    return allTs,np.array(allXs)\n",
    "\n",
    "ts,xs = multiGillespie(0,10,[99,10],(1/70,1/7),testMeta)"
   ]
  },
  {
   "cell_type": "code",
   "execution_count": 13,
   "metadata": {},
   "outputs": [
    {
     "name": "stderr",
     "output_type": "stream",
     "text": [
      "C:\\Users\\rakrpe\\AppData\\Local\\Temp\\ipykernel_41016\\3809830222.py:35: RuntimeWarning: divide by zero encountered in double_scalars\n",
      "  timeStep = np.log(1/r1) / flowTot\n",
      "C:\\Users\\rakrpe\\AppData\\Local\\Temp\\ipykernel_41016\\3809830222.py:41: RuntimeWarning: invalid value encountered in true_divide\n",
      "  curBounds = np.cumsum(allFlows/flowTot)\n"
     ]
    }
   ],
   "source": [
    "\n",
    "testInit = [999,10]\n",
    "N = np.sum(testInit)\n",
    "\n",
    "allXs = [] \n",
    "allTs = []\n",
    "\n",
    "for k in range(20):\n",
    "    # ts,xs = multiGillespie(0,10,testInit,(0.01*2/7,1/7),testMeta)\n",
    "    ts,xs = multiGillespie(0,100,testInit,((1/N)*2/7,1/7),testMeta)\n",
    "\n",
    "    allTs.append(ts)\n",
    "    allXs.append(xs)\n",
    "\n",
    "odeInit = testInit/N\n",
    "\n",
    "TimeRange=np.linspace(0,100)\n",
    "# sol2 = solve_ivp(lambda t,x,*args: ModelCallToReturn(t,x,*args,ModelMeta=testMeta),[0,10],testInit,t_eval=TimeRange,args=ParsArray)\n",
    "sol2 = solve_ivp(lambda t,x,*args: ModelCallToReturn(t,x,*args,ModelMeta=testMeta),[TimeRange[0],TimeRange[-1]],odeInit,t_eval=TimeRange,args=(2/7,1/7))"
   ]
  },
  {
   "cell_type": "code",
   "execution_count": 14,
   "metadata": {},
   "outputs": [],
   "source": [
    "tRange = np.arange(TimeRange[0],TimeRange[-1],0.1)\n",
    "\n",
    "IsInterp = [] \n",
    "for k in range(len(allTs)):\n",
    "    curI = allXs[k][:,1]\n",
    "\n",
    "    curInterp = np.interp(tRange,allTs[k],curI)\n",
    "\n",
    "    IsInterp.append(curInterp)\n"
   ]
  },
  {
   "cell_type": "code",
   "execution_count": 15,
   "metadata": {},
   "outputs": [
    {
     "data": {
      "text/plain": [
       "[<matplotlib.lines.Line2D at 0x16901ea5150>]"
      ]
     },
     "execution_count": 15,
     "metadata": {},
     "output_type": "execute_result"
    },
    {
     "data": {
      "image/png": "[encoded data removed]",
      "text/plain": [
       "<Figure size 432x288 with 1 Axes>"
      ]
     },
     "metadata": {
      "needs_background": "light"
     },
     "output_type": "display_data"
    }
   ],
   "source": [
    "\n",
    "plt.figure()\n",
    "for k in range(len(allTs)):\n",
    "    ts = allTs[k]\n",
    "    xs = allXs[k]\n",
    "    # plt.plot(ts,xs[:,1],'k',linewidth=1,alpha=0.3)\n",
    "    curInterp = IsInterp[k]\n",
    "    plt.plot(tRange,curInterp,'k',linewidth=1,alpha=0.3)\n",
    "plt.plot(TimeRange,N*sol2.y[1,:],linewidth=4)"
   ]
  },
  {
   "cell_type": "code",
   "execution_count": 16,
   "metadata": {},
   "outputs": [],
   "source": [
    "# odeInit = testInit/N\n",
    "\n",
    "# TimeRange=np.linspace(0,100)\n",
    "# # sol2 = solve_ivp(lambda t,x,*args: ModelCallToReturn(t,x,*args,ModelMeta=testMeta),[0,10],testInit,t_eval=TimeRange,args=ParsArray)\n",
    "# sol2 = solve_ivp(lambda t,x,*args: ModelCallToReturn(t,x,*args,ModelMeta=testMeta),[TimeRange[0],TimeRange[-1]],odeInit,t_eval=TimeRange,args=(2/7,1/7))\n",
    "\n",
    "# plt.figure()\n",
    "# plt.plot(TimeRange,sol2.y[1,:])"
   ]
  },
  {
   "cell_type": "code",
   "execution_count": 17,
   "metadata": {},
   "outputs": [],
   "source": [
    "modelFlows = {\n",
    "    'alpha * X' : [None,'X'],\n",
    "    'beta * X * Y' : ['X',None],\n",
    "    'delta * X * Y' : [None,'Y'],\n",
    "    'gamma * Y' : ['Y',None],\n",
    "}\n",
    "\n",
    "varsMeta = ['X','Y']\n",
    "parsMeta = ['alpha','beta','delta','gamma']\n",
    "\n",
    "testMeta = (modelFlows,varsMeta,parsMeta)\n",
    "\n",
    "testInit = [999,10]\n",
    "N = np.sum(testInit)\n",
    "testPars = [0.1,0.1/N,0.1/N,0.1]\n",
    "testPars_ode = np.array([0.1,0.1,0.1,0.1])\n",
    "N = np.sum(testInit)\n",
    "\n",
    "allXs = [] \n",
    "allTs = []\n",
    "\n",
    "for k in range(20):\n",
    "    # ts,xs = multiGillespie(0,10,testInit,(0.01*2/7,1/7),testMeta)\n",
    "    ts,xs = multiGillespie(0,100,testInit,testPars,testMeta)\n",
    "\n",
    "    allTs.append(ts)\n",
    "    allXs.append(xs)\n",
    "\n",
    "odeInit = testInit/N\n",
    "\n",
    "TimeRange=np.linspace(0,100)\n",
    "# sol2 = solve_ivp(lambda t,x,*args: ModelCallToReturn(t,x,*args,ModelMeta=testMeta),[0,10],testInit,t_eval=TimeRange,args=ParsArray)\n",
    "# sol2 = solve_ivp(lambda t,x,*args: ModelCallToReturn(t,x,*args,ModelMeta=testMeta),[TimeRange[0],TimeRange[-1]],odeInit,t_eval=TimeRange,args=testPars)"
   ]
  },
  {
   "cell_type": "code",
   "execution_count": 18,
   "metadata": {},
   "outputs": [
    {
     "data": {
      "image/png": "[encoded data removed]",
      "text/plain": [
       "<Figure size 432x288 with 1 Axes>"
      ]
     },
     "metadata": {
      "needs_background": "light"
     },
     "output_type": "display_data"
    }
   ],
   "source": [
    "\n",
    "plt.figure()\n",
    "for k in range(len(allTs)):\n",
    "    ts = allTs[k]\n",
    "    xs = allXs[k]\n",
    "    plt.plot(ts,xs[:,1],'k',linewidth=1,alpha=0.3)\n",
    "    # curInterp = IsInterp[k]\n",
    "    # plt.plot(tRange,curInterp,'k',linewidth=1,alpha=0.3)\n",
    "# plt.plot(TimeRange,N*sol2.y[1,:],linewidth=4)"
   ]
  },
  {
   "cell_type": "code",
   "execution_count": null,
   "metadata": {},
   "outputs": [],
   "source": []
  }
 ],
 "metadata": {
  "interpreter": {
   "hash": "fa4fd4c171dfff727f57571b9184796cc34ccf93547902650eb89687041f7ee2"
  },
  "kernelspec": {
   "display_name": "Python 3.10.0 ('main')",
   "language": "python",
   "name": "python3"
  },
  "language_info": {
   "codemirror_mode": {
    "name": "ipython",
    "version": 3
   },
   "file_extension": ".py",
   "mimetype": "text/x-python",
   "name": "python",
   "nbconvert_exporter": "python",
   "pygments_lexer": "ipython3",
   "version": "3.10.0"
  },
  "orig_nbformat": 4
 },
 "nbformat": 4,
 "nbformat_minor": 2
}
