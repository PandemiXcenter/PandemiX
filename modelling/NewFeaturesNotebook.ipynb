{
 "cells": [
  {
   "cell_type": "code",
   "execution_count": 104,
   "metadata": {},
   "outputs": [],
   "source": [
    "import numpy as np\n"
   ]
  },
  {
   "cell_type": "code",
   "execution_count": 105,
   "metadata": {},
   "outputs": [],
   "source": [
    "# Define the model to use for tests, basic SIR\n",
    "\n",
    "modelFlows = {\n",
    "    'beta * S * I' : ['S','I'],\n",
    "    'gamma * I' : ['I',None]\n",
    "}\n",
    "\n",
    "varsMeta = ['S','I']\n",
    "parsMeta = ['beta','gamma']\n",
    "\n"
   ]
  },
  {
   "cell_type": "code",
   "execution_count": 106,
   "metadata": {},
   "outputs": [
    {
     "data": {
      "text/plain": [
       "[-0.025714285714285714, 0.004285714285714285]"
      ]
     },
     "execution_count": 106,
     "metadata": {},
     "output_type": "execute_result"
    }
   ],
   "source": [
    "x = np.array([0.9,0.1])\n",
    "p1 = 2/7\n",
    "p2 = 1.5/7\n",
    "ps = [p1,p2]\n",
    "\n",
    "def testFunc(t,x,beta,gamma):\n",
    "\n",
    "    S,I = x \n",
    "\n",
    "    dS = - beta * S * I \n",
    "    dI = + beta * S * I - gamma * I \n",
    "\n",
    "    return [dS,dI]\n",
    "\n",
    "testFunc(0,x,p1,p2)"
   ]
  },
  {
   "cell_type": "code",
   "execution_count": 107,
   "metadata": {},
   "outputs": [],
   "source": [
    "# dxdt = np.zeros(x.shape)\n",
    "\n",
    "# for i in range(len(varsMeta)):\n",
    "#     vName = varsMeta[i]\n",
    "#     exec(vName+' = x['+str(i)+']')\n",
    "    \n",
    "# for i in range(len(parsMeta)):\n",
    "#     pName = parsMeta[i]\n",
    "#     exec(pName+' = ps['+str(i)+']')\n",
    "\n",
    "\n",
    "# allFlows = np.zeros(len(modelFlows))\n",
    "# i = 0\n",
    "# for key in modelFlows:\n",
    "#     # curFlowVal = eval(key)\n",
    "#     # print(f'{key}: {curFlowVal}')\n",
    "#     allFlows[i] = eval(key)\n",
    "#     i = i + 1\n",
    "\n",
    "# for i in range(len(varsMeta)):\n",
    "#     curVal = 0\n",
    "#     curVarName = varsMeta[i]\n",
    "#     for j in range(len(modelFlows)):\n",
    "#         curFlow = list(modelFlows.items())[j]\n",
    "#         curOut = curFlow[1][0]\n",
    "#         curIn = curFlow[1][1]\n",
    "#         if (curOut == curVarName):\n",
    "#             curVal -= allFlows[j]\n",
    "#         if (curIn == curVarName):\n",
    "#             curVal += allFlows[j]\n",
    "#     dxdt[i] = curVal\n",
    "\n",
    "# dxdt"
   ]
  },
  {
   "cell_type": "code",
   "execution_count": 108,
   "metadata": {},
   "outputs": [
    {
     "data": {
      "text/plain": [
       "array([-0.02571429,  0.00428571])"
      ]
     },
     "execution_count": 108,
     "metadata": {},
     "output_type": "execute_result"
    }
   ],
   "source": [
    "def curFunc(t,x,ps,varsMeta,parsMeta):\n",
    "\n",
    "    # Go through variable names and get inputs\n",
    "    for i in range(len(varsMeta)):\n",
    "        vName = varsMeta[i]\n",
    "        exec(vName+' = x['+str(i)+']')\n",
    "        \n",
    "    # Go through parameter names and save\n",
    "    for i in range(len(parsMeta)):\n",
    "        pName = parsMeta[i]\n",
    "        exec(pName+' = ps['+str(i)+']')\n",
    "\n",
    "    # Calculate the value of each current flow\n",
    "    allFlows = np.zeros(len(modelFlows))\n",
    "    i = 0\n",
    "    for key in modelFlows:\n",
    "        allFlows[i] = eval(key)\n",
    "        i = i + 1\n",
    "\n",
    "    # Initialize outputs as zero\n",
    "    dxdt = np.zeros(x.shape)\n",
    "    # Go through each variable\n",
    "    for i in range(len(varsMeta)):\n",
    "        # # Make sure the current output is zero\n",
    "        # dxdt[i] = 0\n",
    "        # Get the name of the current variable\n",
    "        curVarName = varsMeta[i]\n",
    "        # Go through each flow\n",
    "        for j in range(len(modelFlows)):\n",
    "            # Get the current flow\n",
    "            curFlow = list(modelFlows.items())[j]\n",
    "            # Identify inputs and outputs\n",
    "            curOut = curFlow[1][0]\n",
    "            curIn = curFlow[1][1]\n",
    "            # If the flow is an output of the current variable, subtract the flow-value\n",
    "            if (curOut == curVarName):\n",
    "                dxdt[i] -= allFlows[j]\n",
    "            # If the flow is an input of the current variable, add the flow-value\n",
    "            if (curIn == curVarName):\n",
    "                dxdt[i] += allFlows[j]\n",
    "\n",
    "    return dxdt\n",
    "\n",
    "curFunc(0,x,ps,varsMeta,parsMeta)\n",
    "\n",
    "# Make a shorter function call for use in solve_ivp\n",
    "def ModelCallToReturn(t,x,*args):\n",
    "    return curFunc(t,x,args,varsMeta,parsMeta)\n",
    "\n",
    "ModelCallToReturn(0,x,p1,p2)"
   ]
  },
  {
   "cell_type": "code",
   "execution_count": null,
   "metadata": {},
   "outputs": [],
   "source": []
  },
  {
   "cell_type": "code",
   "execution_count": 109,
   "metadata": {},
   "outputs": [],
   "source": [
    "# Testing:\n",
    "\n",
    "from scipy.integrate import solve_ivp\n",
    "\n",
    "t0 = 0\n",
    "tEnd = 100\n",
    "TimeRange = np.arange(t0,tEnd) \n",
    "InitArray = [0.99,0.01]\n",
    "ParsArray = (p1,p2)\n",
    "\n",
    "\n",
    "sol = solve_ivp(testFunc,[t0,tEnd],InitArray,t_eval=TimeRange,args=ParsArray)\n",
    "sol2 = solve_ivp(ModelCallToReturn,[t0,tEnd],InitArray,t_eval=TimeRange,args=ParsArray)\n"
   ]
  },
  {
   "cell_type": "code",
   "execution_count": 110,
   "metadata": {},
   "outputs": [
    {
     "data": {
      "text/plain": [
       "[<matplotlib.lines.Line2D at 0x1dc9481cb50>]"
      ]
     },
     "execution_count": 110,
     "metadata": {},
     "output_type": "execute_result"
    },
    {
     "data": {
      "image/png": "[encoded data removed]",
      "text/plain": [
       "<Figure size 432x288 with 1 Axes>"
      ]
     },
     "metadata": {
      "needs_background": "light"
     },
     "output_type": "display_data"
    }
   ],
   "source": [
    "import matplotlib.pyplot as plt \n",
    "\n",
    "plt.figure() \n",
    "plt.plot(sol.t,sol.y[0,:])\n",
    "plt.plot(sol.t,sol.y[1,:])\n",
    "plt.plot(sol2.t,sol2.y[0,:],'--')\n",
    "plt.plot(sol2.t,sol2.y[1,:],'--')"
   ]
  },
  {
   "cell_type": "markdown",
   "metadata": {},
   "source": [
    "# Test some arbitrary models"
   ]
  },
  {
   "cell_type": "code",
   "execution_count": 123,
   "metadata": {},
   "outputs": [],
   "source": [
    "modelFlows = {\n",
    "    'alpha * X' : [None,'X'],\n",
    "    'beta * X * Y' : ['X',None],\n",
    "    'delta * X * Y' : [None,'Y'],\n",
    "    'gamma * Y' : ['Y',None],\n",
    "    'gamma * X * X' : ['X',None],\n",
    "}\n",
    "\n",
    "varsMeta = ['X','Y']\n",
    "parsMeta = ['alpha','beta','delta','gamma']\n",
    "\n"
   ]
  },
  {
   "cell_type": "code",
   "execution_count": 124,
   "metadata": {},
   "outputs": [
    {
     "data": {
      "text/plain": [
       "[<matplotlib.lines.Line2D at 0x1dc94f43ac0>]"
      ]
     },
     "execution_count": 124,
     "metadata": {},
     "output_type": "execute_result"
    },
    {
     "data": {
      "image/png": "[encoded data removed]",
      "text/plain": [
       "<Figure size 432x288 with 1 Axes>"
      ]
     },
     "metadata": {
      "needs_background": "light"
     },
     "output_type": "display_data"
    }
   ],
   "source": [
    "t0 = 0\n",
    "tEnd = 500\n",
    "TimeRange = np.arange(t0,tEnd) \n",
    "InitArray = [0.99,0.01]\n",
    "ParsArray = [0.1,0.2,0.4,0.1]\n",
    "\n",
    "\n",
    "curSol = solve_ivp(ModelCallToReturn,[t0,tEnd],InitArray,t_eval=TimeRange,args=ParsArray)\n",
    "\n",
    "plt.figure() \n",
    "plt.plot(curSol.t,curSol.y[0,:],'--')\n",
    "plt.plot(curSol.t,curSol.y[1,:],'--')"
   ]
  },
  {
   "cell_type": "code",
   "execution_count": null,
   "metadata": {},
   "outputs": [],
   "source": []
  }
 ],
 "metadata": {
  "interpreter": {
   "hash": "fa4fd4c171dfff727f57571b9184796cc34ccf93547902650eb89687041f7ee2"
  },
  "kernelspec": {
   "display_name": "Python 3.10.0 ('main')",
   "language": "python",
   "name": "python3"
  },
  "language_info": {
   "codemirror_mode": {
    "name": "ipython",
    "version": 3
   },
   "file_extension": ".py",
   "mimetype": "text/x-python",
   "name": "python",
   "nbconvert_exporter": "python",
   "pygments_lexer": "ipython3",
   "version": "3.10.0"
  },
  "orig_nbformat": 4
 },
 "nbformat": 4,
 "nbformat_minor": 2
}
