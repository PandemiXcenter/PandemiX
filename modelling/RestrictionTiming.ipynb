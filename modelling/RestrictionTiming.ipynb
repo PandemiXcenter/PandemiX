{
 "cells": [
  {
   "cell_type": "code",
   "execution_count": 478,
   "metadata": {},
   "outputs": [],
   "source": [
    "%matplotlib widget\n",
    "\n",
    "import sys\n",
    "sys.path.append(\"./../scripts\")\n",
    "import PandemiXFunctions as pf\n",
    "import PandemiXModelFunctions as pmf\n",
    "\n",
    "\n",
    "import numpy as np\n",
    "\n",
    "import matplotlib.pyplot as plt\n",
    "plt.rcParams['figure.figsize'] = (12,8)\n",
    "plt.rcParams[\"image.cmap\"] = \"tab10\"\n",
    "plt.rcParams['axes.prop_cycle'] = plt.cycler(color=plt.cm.tab10.colors)\n",
    "fs_label = 16\n",
    "parameters = {\n",
    "                'axes.labelsize': fs_label,\n",
    "                'axes.titlesize': fs_label+4,\n",
    "                'xtick.labelsize': fs_label,\n",
    "                'ytick.labelsize': fs_label, \n",
    "                'legend.fontsize': fs_label, \n",
    "                'lines.markersize': 10,\n",
    "                'lines.linewidth': 3\n",
    "             }"
   ]
  },
  {
   "cell_type": "code",
   "execution_count": 479,
   "metadata": {},
   "outputs": [
    {
     "data": {
      "text/plain": [
       "<module 'PandemiXModelFunctions' from 'c:\\\\Users\\\\rakrpe\\\\OneDrive - Roskilde Universitet\\\\Documents\\\\PandemiX\\\\GithubRepos\\\\PandemiX\\\\modelling\\\\PandemiXModelFunctions.py'>"
      ]
     },
     "execution_count": 479,
     "metadata": {},
     "output_type": "execute_result"
    }
   ],
   "source": [
    "import importlib \n",
    "importlib.reload(pmf)"
   ]
  },
  {
   "cell_type": "code",
   "execution_count": 480,
   "metadata": {},
   "outputs": [],
   "source": [
    "# Setup model\n",
    "\n",
    "# Parameters\n",
    "gamma_I = 1/7\n",
    "gamma_Y = gamma_I \n",
    "beta_I = 1.5*gamma_I \n",
    "# beta_I = 1.25*gamma_I \n",
    "beta_Y = 3*gamma_Y\n",
    "allPars = [beta_I,gamma_I,beta_Y,gamma_Y]\n",
    "\n",
    "# Initial conditions\n",
    "I_0 = 0.001\n",
    "Y_0 = 0\n",
    "R_0 = 0\n",
    "S_0 = 1 - R_0 - I_0 - Y_0\n",
    "init = [S_0,I_0,Y_0]\n",
    "\n",
    "tEnd = 1000\n",
    "curScheme = pmf.Scheme('SIYR',init,allPars,0,tEnd)"
   ]
  },
  {
   "cell_type": "code",
   "execution_count": 481,
   "metadata": {},
   "outputs": [],
   "source": [
    "\n",
    "# d1 = 150\n",
    "# d2 = 220\n",
    "d1 = 90\n",
    "d2 = 130\n",
    "d3 = 500\n",
    "newInf = 0.001\n",
    "# Change_Add1 = pmf.Change(d3,AddVariables=[-newInf,0,newInf])\n",
    "curAdd = {'S':-newInf,'I':0,'Y':newInf}\n",
    "Change_Add1 = pmf.Change(d3,AddVariables=curAdd)\n",
    "curScheme.addChange(Change_Add1)"
   ]
  },
  {
   "cell_type": "code",
   "execution_count": 482,
   "metadata": {},
   "outputs": [
    {
     "name": "stdout",
     "output_type": "stream",
     "text": [
      "-------\n",
      "Model: SIYR.\n",
      "Complete simulation running from t=0 until t=1000\n",
      "Initial conditions: [0.999, 0.001, 0]\n",
      "Parameters: [0.21428571428571427, 0.14285714285714285, 0.42857142857142855, 0.14285714285714285]\n",
      "---\n",
      "Changes: \n",
      "Change 0: At time 500, add S: -0.001, I: 0, Y: 0.001 to variables\n",
      "---\n"
     ]
    }
   ],
   "source": [
    "print(curScheme)"
   ]
  },
  {
   "cell_type": "code",
   "execution_count": 483,
   "metadata": {},
   "outputs": [
    {
     "data": {
      "text/plain": [
       "3"
      ]
     },
     "execution_count": 483,
     "metadata": {},
     "output_type": "execute_result"
    }
   ],
   "source": [
    "# curScheme.ModelMeta\n",
    "len(curAdd)"
   ]
  },
  {
   "cell_type": "code",
   "execution_count": 484,
   "metadata": {},
   "outputs": [],
   "source": [
    "# Base simulation\n",
    "curScheme.simulate(tRes=1000)\n",
    "\n",
    "resBase = curScheme.result \n",
    "ts = resBase.t\n",
    "Ss = resBase.y[0,:]\n",
    "Is = resBase.y[1,:]\n",
    "Ys = resBase.y[2,:]\n",
    "Rs = 1 - Ss - Is - Ys"
   ]
  },
  {
   "cell_type": "code",
   "execution_count": 485,
   "metadata": {},
   "outputs": [],
   "source": [
    "sch1 = curScheme.copy()\n",
    "\n",
    "\n",
    "\n",
    "# betaMultiplier = 1.25\n",
    "betaMultiplier = 2\n",
    "RestrictionChange = pmf.Change(d1,MultiplyParameters=[betaMultiplier,1,betaMultiplier,1])\n",
    "sch1.addChange(RestrictionChange)\n",
    "\n",
    "sch2 = curScheme.copy()\n",
    "RestrictionChange = pmf.Change(d2,MultiplyParameters=[betaMultiplier,1,betaMultiplier,1])\n",
    "sch2.addChange(RestrictionChange)\n",
    "\n",
    "sch1.sortChanges()\n",
    "sch2.sortChanges()\n",
    "\n",
    "sch1.simulate(tRes=1000)\n",
    "sch2.simulate(tRes=1000)\n",
    "\n",
    "\n",
    "ts1 = sch1.result.t\n",
    "Ss1 = sch1.result.y[0,:]\n",
    "Is1 = sch1.result.y[1,:]\n",
    "Ys1 = sch1.result.y[2,:]\n",
    "Rs1 = 1 - Ss1 - Is1 - Ys1\n",
    "\n",
    "ts2 = sch2.result.t\n",
    "Ss2 = sch2.result.y[0,:]\n",
    "Is2 = sch2.result.y[1,:]\n",
    "Ys2 = sch2.result.y[2,:]\n",
    "Rs2 = 1 - Ss2 - Is2 - Ys2"
   ]
  },
  {
   "cell_type": "code",
   "execution_count": 486,
   "metadata": {},
   "outputs": [
    {
     "data": {
      "application/vnd.jupyter.widget-view+json": {
       "model_id": "c055d20f797846e7bac75b4f8b3f69c1",
       "version_major": 2,
       "version_minor": 0
      },
      "text/plain": [
       "Canvas(toolbar=Toolbar(toolitems=[('Home', 'Reset original view', 'home', 'home'), ('Back', 'Back to previous …"
      ]
     },
     "metadata": {},
     "output_type": "display_data"
    },
    {
     "data": {
      "text/plain": [
       "Text(0, 0.5, 'Variant 2 (Y)')"
      ]
     },
     "execution_count": 486,
     "metadata": {},
     "output_type": "execute_result"
    }
   ],
   "source": [
    "\n",
    "\n",
    "fig,(ax1,ax2,ax3) = plt.subplots(3,1)\n",
    "\n",
    "ax1.plot(ts,Rs)\n",
    "ax1.plot(ts1,Rs1,'--')\n",
    "ax1.plot(ts2,Rs2,':')\n",
    "\n",
    "ax2.plot(ts,Is)\n",
    "ax2.plot(ts1,Is1,'--')\n",
    "ax2.plot(ts2,Is2,':')\n",
    "\n",
    "ax3.plot(ts,Ys)\n",
    "ax3.plot(ts1,Ys1,'--')\n",
    "ax3.plot(ts2,Ys2,':')\n",
    "\n",
    "ax1.axvline(d1,color='k',linestyle=':')\n",
    "ax1.axvline(d2,color='k',linestyle=':')\n",
    "ax1.axvline(d3,color='k',linestyle=':')\n",
    "ax2.axvline(d1,color='k',linestyle=':')\n",
    "ax2.axvline(d2,color='k',linestyle=':')\n",
    "ax2.axvline(d3,color='k',linestyle=':')\n",
    "ax3.axvline(d1,color='k',linestyle=':')\n",
    "ax3.axvline(d2,color='k',linestyle=':')\n",
    "ax3.axvline(d3,color='k',linestyle=':')\n",
    "\n",
    "\n",
    "ax1.set_ylim(bottom=0)\n",
    "ax2.set_ylim(bottom=0)\n",
    "ax3.set_ylim(bottom=0)\n",
    "\n",
    "ax1.set_ylabel('Immune (R)')\n",
    "ax2.set_ylabel('Variant 1 (I)')\n",
    "ax3.set_ylabel('Variant 2 (Y)')"
   ]
  },
  {
   "cell_type": "code",
   "execution_count": 487,
   "metadata": {},
   "outputs": [],
   "source": [
    "# fig = plt.figure()\n",
    "# (fig.get_size_inches()*fig.dpi)[1]\n",
    "# len(fig.get_axes())"
   ]
  },
  {
   "cell_type": "code",
   "execution_count": 488,
   "metadata": {},
   "outputs": [
    {
     "data": {
      "application/vnd.jupyter.widget-view+json": {
       "model_id": "d139301817b1415fad78773e14d6b598",
       "version_major": 2,
       "version_minor": 0
      },
      "text/plain": [
       "Canvas(toolbar=Toolbar(toolitems=[('Home', 'Reset original view', 'home', 'home'), ('Back', 'Back to previous …"
      ]
     },
     "metadata": {},
     "output_type": "display_data"
    }
   ],
   "source": [
    "# repr(betaMultiplier* beta_I/gamma_I)\n",
    "# betaMultiplier* beta_I/gamma_I\n",
    "fig,allAxes = curScheme.plot(describeChanges=False)\n",
    "fig,allAxes = sch1.plot(fig,color='b',linestyle=':',describeChanges=False)\n",
    "fig,allAxes = sch2.plot(fig,color='m',linestyle='--',describeChanges=False)\n",
    "\n",
    "for ax in allAxes:\n",
    "    ax.set_ylim(bottom=0)"
   ]
  }
 ],
 "metadata": {
  "interpreter": {
   "hash": "c72cdf52cb3d31f207bca538e9396da8706c0ecf4a3038fb1c2b317934170431"
  },
  "kernelspec": {
   "display_name": "Python 3.8.5 64-bit ('main': conda)",
   "language": "python",
   "name": "python3"
  },
  "language_info": {
   "codemirror_mode": {
    "name": "ipython",
    "version": 3
   },
   "file_extension": ".py",
   "mimetype": "text/x-python",
   "name": "python",
   "nbconvert_exporter": "python",
   "pygments_lexer": "ipython3",
   "version": "3.8.5"
  },
  "orig_nbformat": 4
 },
 "nbformat": 4,
 "nbformat_minor": 2
}
