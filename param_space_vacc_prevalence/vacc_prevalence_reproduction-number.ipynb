{
 "cells": [
  {
   "cell_type": "code",
   "execution_count": 1,
   "id": "spread-border",
   "metadata": {},
   "outputs": [
    {
     "name": "stdout",
     "output_type": "stream",
     "text": [
      "saveFigures is set to: True\n",
      "Done loading packages\n"
     ]
    }
   ],
   "source": [
    "import numpy as np\n",
    "import pandas as pd\n",
    "pd.set_option('display.max_rows', 500)\n",
    "pd.set_option('display.min_rows', 50)\n",
    "import seaborn as sns\n",
    "\n",
    "\n",
    "import matplotlib.pyplot as plt\n",
    "%matplotlib widget\n",
    "plt.rcParams['figure.figsize'] = (12,8)\n",
    "plt.rcParams[\"image.cmap\"] = \"Dark2\"\n",
    "plt.rcParams['axes.prop_cycle'] = plt.cycler(color=plt.cm.Dark2.colors)\n",
    "# plt.rcParams[\"image.cmap\"] = \"tab10\"\n",
    "# plt.rcParams['axes.prop_cycle'] = plt.cycler(color=plt.cm.tab10.colors)\n",
    "fs_label = 16\n",
    "parameters = {\n",
    "    'axes.labelsize': fs_label,\n",
    "    'axes.titlesize': fs_label+4,\n",
    "    'xtick.labelsize': fs_label,\n",
    "    'ytick.labelsize': fs_label, \n",
    "    'legend.fontsize': fs_label, \n",
    "    'lines.markersize': 10,\n",
    "    'lines.linewidth': 3\n",
    "}\n",
    "plt.rcParams.update(parameters)\n",
    "%matplotlib widget  \n",
    "# plt.style.use('ggplot')\n",
    "import matplotlib.colors as colors\n",
    "# cmap = plt.cm.get_cmap('Dark2',len(ageGroups))\n",
    "from matplotlib import cm # Colormaps\n",
    "\n",
    "import locale\n",
    "import matplotlib.dates as mdates\n",
    "locale.setlocale(locale.LC_TIME,\"Danish\")\n",
    "# ax = plt.gca()\n",
    "# ax1.xaxis.set_major_formatter(mdates.DateFormatter('%b\\n%Y'))\n",
    "# # ax.xaxis.set_major_formatter(mdates.DateFormatter('%Y \\n %B'))\n",
    "\n",
    "import os\n",
    "# import csv\n",
    "import math\n",
    "\n",
    "\n",
    "from datetime import date\n",
    "\n",
    "\n",
    "saveFigures = True\n",
    "# saveFigures = False\n",
    "print('saveFigures is set to: '+str(saveFigures))\n",
    "\n",
    "print('Done loading packages')\n",
    "\n",
    "def rnMean(data,meanWidth):\n",
    "    return np.convolve(data, np.ones(meanWidth)/meanWidth, mode='valid')\n",
    "def rnTime(t,meanWidth):\n",
    "    return t[math.floor(meanWidth/2):-math.ceil(meanWidth/2)+1]\n",
    "\n",
    "R0 = 4.7\n",
    "\n",
    "S = lambda V, Preval : (1-V)*(1-Preval)\n",
    "Re = lambda R0, V, Preval: R0*S(V, Preval)\n",
    "V = lambda Re, R0, Preval: 1 - (Re/R0)*(1/(1-Preval))\n",
    "P = lambda Re, R0, Vacc: 1 - (Re/R0)*(1/(1-Vacc))"
   ]
  },
  {
   "cell_type": "code",
   "execution_count": 2,
   "id": "short-integer",
   "metadata": {},
   "outputs": [],
   "source": [
    "data_raw_df = pd.read_csv(\"owid-covid-data.csv\")\n",
    "# data_raw_df.columns"
   ]
  },
  {
   "cell_type": "code",
   "execution_count": 3,
   "id": "waiting-vessel",
   "metadata": {},
   "outputs": [
    {
     "data": {
      "application/vnd.jupyter.widget-view+json": {
       "model_id": "d07b689b9df34e39ace5b67a1d33d0e3",
       "version_major": 2,
       "version_minor": 0
      },
      "text/plain": [
       "Canvas(toolbar=Toolbar(toolitems=[('Home', 'Reset original view', 'home', 'home'), ('Back', 'Back to previous …"
      ]
     },
     "metadata": {},
     "output_type": "display_data"
    },
    {
     "name": "stdout",
     "output_type": "stream",
     "text": [
      "Denmark 0.7565000000000001 0.064025058\n",
      "Estonia 0.5511 0.131631135\n",
      "Georgia 0.2279 0.168490012\n",
      "Latvia 0.5068 0.101086594\n",
      "Lithuania 0.6118 0.138514541\n",
      "Poland 0.5227 0.077917718\n",
      "Romania 0.2974 0.07770188800000001\n",
      "Spain 0.7934 0.106765311\n"
     ]
    },
    {
     "data": {
      "text/html": [
       "<div>\n",
       "<style scoped>\n",
       "    .dataframe tbody tr th:only-of-type {\n",
       "        vertical-align: middle;\n",
       "    }\n",
       "\n",
       "    .dataframe tbody tr th {\n",
       "        vertical-align: top;\n",
       "    }\n",
       "\n",
       "    .dataframe thead th {\n",
       "        text-align: right;\n",
       "    }\n",
       "</style>\n",
       "<table border=\"1\" class=\"dataframe\">\n",
       "  <thead>\n",
       "    <tr style=\"text-align: right;\">\n",
       "      <th></th>\n",
       "      <th>loc</th>\n",
       "      <th>vacc</th>\n",
       "      <th>preval</th>\n",
       "    </tr>\n",
       "  </thead>\n",
       "  <tbody>\n",
       "    <tr>\n",
       "      <th>0</th>\n",
       "      <td>Denmark</td>\n",
       "      <td>0.7565</td>\n",
       "      <td>0.064025</td>\n",
       "    </tr>\n",
       "    <tr>\n",
       "      <th>1</th>\n",
       "      <td>Estonia</td>\n",
       "      <td>0.5511</td>\n",
       "      <td>0.131631</td>\n",
       "    </tr>\n",
       "    <tr>\n",
       "      <th>2</th>\n",
       "      <td>Georgia</td>\n",
       "      <td>0.2279</td>\n",
       "      <td>0.168490</td>\n",
       "    </tr>\n",
       "    <tr>\n",
       "      <th>3</th>\n",
       "      <td>Latvia</td>\n",
       "      <td>0.5068</td>\n",
       "      <td>0.101087</td>\n",
       "    </tr>\n",
       "    <tr>\n",
       "      <th>4</th>\n",
       "      <td>Lithuania</td>\n",
       "      <td>0.6118</td>\n",
       "      <td>0.138515</td>\n",
       "    </tr>\n",
       "    <tr>\n",
       "      <th>5</th>\n",
       "      <td>Poland</td>\n",
       "      <td>0.5227</td>\n",
       "      <td>0.077918</td>\n",
       "    </tr>\n",
       "    <tr>\n",
       "      <th>6</th>\n",
       "      <td>Romania</td>\n",
       "      <td>0.2974</td>\n",
       "      <td>0.077702</td>\n",
       "    </tr>\n",
       "    <tr>\n",
       "      <th>7</th>\n",
       "      <td>Spain</td>\n",
       "      <td>0.7934</td>\n",
       "      <td>0.106765</td>\n",
       "    </tr>\n",
       "  </tbody>\n",
       "</table>\n",
       "</div>"
      ],
      "text/plain": [
       "         loc    vacc    preval\n",
       "0    Denmark  0.7565  0.064025\n",
       "1    Estonia  0.5511  0.131631\n",
       "2    Georgia  0.2279  0.168490\n",
       "3     Latvia  0.5068  0.101087\n",
       "4  Lithuania  0.6118  0.138515\n",
       "5     Poland  0.5227  0.077918\n",
       "6    Romania  0.2974  0.077702\n",
       "7      Spain  0.7934  0.106765"
      ]
     },
     "execution_count": 3,
     "metadata": {},
     "output_type": "execute_result"
    }
   ],
   "source": [
    "all_loc = data_raw_df.location.unique()\n",
    "\n",
    "locs = [\"Denmark\", \"Latvia\", \"Poland\", \"Estonia\", \"Lithuania\", \"Spain\",\"Romania\",\"Georgia\"]\n",
    "\n",
    "loc_filt = data_raw_df.location.isin(locs)\n",
    "\n",
    "data_df = data_raw_df.loc[loc_filt]\n",
    "\n",
    "#fig1, ax1 = plt.subplots()\n",
    "#fig2, ax2 = plt.subplots()\n",
    "fig, ax = plt.subplots(figsize=(12,12))\n",
    "\n",
    "scatterstyle = {\n",
    "    # \"color\":'tab:red', \n",
    "    # \"linestyle\":':', \n",
    "    # \"linewidth\":5, \n",
    "    \"marker\":'o', \n",
    "    # \"markersize\":5, \n",
    "    # \"edgecolors\":'tab:red'\n",
    "    # alpha\":0.6\n",
    "}\n",
    "\n",
    "scatter_df = pd.DataFrame(columns=[\"loc\", \"vacc\", \"preval\"])\n",
    "\n",
    "resolution = 1001\n",
    "\n",
    "xlab = \"Vaccine coverage\"\n",
    "ylab = \"Prevalence (Infections)\"\n",
    "\n",
    "\n",
    "# Adjust here, for the visible range in plot:\n",
    "X = vacc_list = np.linspace(0, 1, resolution)\n",
    "Y = preval_list = np.linspace(0, 1, resolution)\n",
    "Z = np.array([[Re(R0, v, p) for v in vacc_list] for p in preval_list]) # Y=preval, X=vacc\n",
    "\n",
    "\n",
    "r0 = 4.7\n",
    "# res = np.linspace(0.05,0.95,numAreas)*r0\n",
    "res = np.arange(0,r0,0.25)\n",
    "numAreas = len(res)\n",
    "\n",
    "#ax.pcolor(X, Y, Z)\n",
    "# ax.contourf(X, Y, Z, 100, cmap=\"viridis\")\n",
    "ax.contourf(X, Y, Z, numAreas, cmap=\"Greys\")\n",
    "\n",
    "for i, re in enumerate([1]):\n",
    "    IsoVac = np.linspace(0,1-(re/r0),100)\n",
    "    ax.plot(IsoVac, (lambda V: P(re, r0, V))(IsoVac), alpha=0.8, color=\"orange\", label=int(i==0)*\"$R_{e} = 1$-Isocline\")\n",
    "\n",
    "heard_immune_color = lambda r0: int(r0<1)*\"green\" + int(r0>1)*\"red\" + int(r0==1)*\"orange\"\n",
    "hi_colors = [heard_immune_color(r) for r in res]\n",
    "\n",
    "# CS = ax.contour(X, Y, Z, levels=res, colors=hi_colors) # , cmap=\"plasma\") #, label=\"$R_{0}$-isoclines\")\n",
    "CS = ax.contour(X, Y, Z, levels=res, colors=hi_colors) # , cmap=\"plasma\") #, label=\"$R_{0}$-isoclines\")\n",
    "clab_pos = [(1-np.sqrt(y),1-np.sqrt(y)) for y in res/r0]\n",
    "#ax.scatter(*list(zip(*clab_pos)))\n",
    "ax.clabel(CS, inline=True, fontsize=10, manual=clab_pos)\n",
    "\n",
    "for loc, loc_data in data_df.groupby([\"location\"]):\n",
    "    \n",
    "    Prevals = loc_data.total_cases_per_million\n",
    "    Preval = Prevals.dropna().values[-1]/int(1e6)\n",
    "\n",
    "    Vaccs = loc_data.people_fully_vaccinated_per_hundred\n",
    "    Vacc = Vaccs.dropna().values[-1]/100\n",
    "    \n",
    "    # Comment this line to not show history...\n",
    "    ax.plot(Vaccs/100, Prevals/int(1e6), alpha=0.3)\n",
    "    \n",
    "    # present state in this parameter space:\n",
    "    ax.scatter(Vacc, Preval, **scatterstyle)\n",
    "    ax.annotate(loc, (Vacc, Preval))\n",
    "\n",
    "    # Currently not used:\n",
    "    row = {\"loc\":loc, \"vacc\":Vacc, \"preval\":Preval}\n",
    "    scatter_df = scatter_df.append(row, ignore_index=True)\n",
    "    print(loc, Vacc, Preval)\n",
    "    \n",
    "    #ax1.plot(loc_data.date, Prevals, label=loc)\n",
    "    #ax2.plot(loc_data.date, Vaccs, label=loc)\n",
    "    \n",
    "ax.legend()\n",
    "#ax2.legend()\n",
    "#data_df\n",
    "# ax.set_ylim([0,0.3])\n",
    "# ax.scatter(scatter_df.vacc, scatter_df.preval, **scatterstyle)\n",
    "ax.set_xlabel(xlab)\n",
    "ax.set_ylabel(ylab)\n",
    "\n",
    "# plt.savefig(\"figs/parameterspace_vacc_prevalence.png\")\n",
    "# plt.savefig(\"figs/parameterspace_vacc_prevalence.pdf\")\n",
    "scatter_df"
   ]
  },
  {
   "cell_type": "code",
   "execution_count": 4,
   "id": "oriental-commodity",
   "metadata": {},
   "outputs": [],
   "source": [
    "\n",
    "from matplotlib.colors import LinearSegmentedColormap\n",
    "# cmap = LinearSegmentedColormap.from_list('unnamed', \n",
    "#                                                     [\n",
    "#                                                         (0,1,0),\n",
    "#                                                         (1,0.9,0.7),\n",
    "#                                                         (1,0,0),\n",
    "#                                                         (1,0,0),\n",
    "#                                                         (1,0,0),\n",
    "#                                                         (1,0,0),\n",
    "#                                                     ] \n",
    "#                                                     , N=numAreas)"
   ]
  },
  {
   "cell_type": "code",
   "execution_count": 5,
   "metadata": {},
   "outputs": [
    {
     "name": "stderr",
     "output_type": "stream",
     "text": [
      "<ipython-input-5-a1f379aa79a0>:10: SettingWithCopyWarning: \n",
      "A value is trying to be set on a copy of a slice from a DataFrame.\n",
      "Try using .loc[row_indexer,col_indexer] = value instead\n",
      "\n",
      "See the caveats in the documentation: https://pandas.pydata.org/pandas-docs/stable/user_guide/indexing.html#returning-a-view-versus-a-copy\n",
      "  data_df['date'] = pd.to_datetime(data_df.date)\n"
     ]
    },
    {
     "data": {
      "application/vnd.jupyter.widget-view+json": {
       "model_id": "6ec573bc7c7a4fa5ad12a9875c4146e1",
       "version_major": 2,
       "version_minor": 0
      },
      "text/plain": [
       "Canvas(toolbar=Toolbar(toolitems=[('Home', 'Reset original view', 'home', 'home'), ('Back', 'Back to previous …"
      ]
     },
     "metadata": {},
     "output_type": "display_data"
    }
   ],
   "source": [
    "\n",
    "currentDate = np.datetime64('2021-10-26')\n",
    "\n",
    "all_loc = data_raw_df.location.unique()\n",
    "\n",
    "locs = [\"Denmark\", \"Latvia\", \"Poland\", \"Estonia\", \"Lithuania\", \"Spain\",\"Romania\",\"Georgia\",\"Germany\",\"Sweden\",'Netherlands']\n",
    "\n",
    "loc_filt = data_raw_df.location.isin(locs)\n",
    "\n",
    "data_df = data_raw_df.loc[loc_filt]\n",
    "data_df['date'] = pd.to_datetime(data_df.date)\n",
    "\n",
    "toUse = (data_df.date <= currentDate)\n",
    "data_df_period = data_df[toUse]\n",
    "# toUse\n",
    "\n",
    "#fig1, ax1 = plt.subplots()\n",
    "#fig2, ax2 = plt.subplots()\n",
    "fig, ax = plt.subplots(figsize=(12,12))\n",
    "\n",
    "scatterstyle = {\n",
    "    # \"color\":'tab:red', \n",
    "    # \"linestyle\":':', \n",
    "    # \"linewidth\":5, \n",
    "    \"marker\":'o', \n",
    "    # \"markersize\":5, \n",
    "    # \"edgecolors\":'tab:red'\n",
    "    # alpha\":0.6\n",
    "}\n",
    "\n",
    "scatter_df = pd.DataFrame(columns=[\"loc\", \"vacc\", \"preval\"])\n",
    "\n",
    "resolution = 1001\n",
    "\n",
    "xlab = \"Vaccine coverage\"\n",
    "ylab = \"Prevalence (Infections)\"\n",
    "\n",
    "\n",
    "\n",
    "minX = 0\n",
    "maxX = 1\n",
    "minY = 0\n",
    "maxY = 1\n",
    "\n",
    "minX = 0.3\n",
    "maxX = 1\n",
    "minY = 0\n",
    "maxY = 0.4\n",
    "\n",
    "# Adjust here, for the visible range in plot:\n",
    "X = vacc_list = np.linspace(minX, maxX, resolution)\n",
    "Y = preval_list = np.linspace(minY,maxY, resolution)\n",
    "Z = np.array([[Re(R0, v, p) for v in vacc_list] for p in preval_list]) # Y=preval, X=vacc\n",
    "\n",
    "\n",
    "\n",
    "r0 = 4.7\n",
    "# res = np.linspace(0.05,0.95,numAreas)*r0\n",
    "res = np.arange(0,5,0.25)\n",
    "numAreas = len(res)\n",
    "\n",
    "cmap = LinearSegmentedColormap.from_list('unnamed', \n",
    "                                                    [\n",
    "                                                        (0,1,0),\n",
    "                                                        (1,0.9,0.7),\n",
    "                                                        (1,0,0),\n",
    "                                                        (1,0,0),\n",
    "                                                        (1,0,0),\n",
    "                                                        (1,0,0),\n",
    "                                                    ] \n",
    "                                                    , N=numAreas)\n",
    "\n",
    "#ax.pcolor(X, Y, Z)\n",
    "# ax.contourf(X, Y, Z, 100, cmap=\"viridis\")\n",
    "# ax.contourf(X, Y, Z, numAreas, cmap=cmap)\n",
    "ax.contourf(X, Y, Z, levels=res,cmap=cmap)\n",
    "\n",
    "\n",
    "for i, re in enumerate([1]):\n",
    "    IsoVac = np.linspace(0,1-(re/r0),100)\n",
    "    ax.plot(IsoVac, (lambda V: P(re, r0, V))(IsoVac), linewidth = 10,alpha=0.5,zorder=5, color=\"grey\", label=int(i==0)*\"$R_{e} = 1$-Isocline\")\n",
    "\n",
    "# heard_immune_color = lambda r0: int(r0<1)*\"green\" + int(r0>1)*\"red\" + int(r0==1)*\"orange\"\n",
    "# hi_colors = [heard_immune_color(r) for r in res]\n",
    "\n",
    "# CS = ax.contour(X, Y, Z, levels=res, colors=hi_colors) # , cmap=\"plasma\") #, label=\"$R_{0}$-isoclines\")\n",
    "\n",
    "\n",
    "for loc, loc_data in data_df_period.groupby([\"location\"]):\n",
    "    \n",
    "    Prevals = loc_data.total_cases_per_million\n",
    "    Preval = Prevals.dropna().values[-1]/int(1e6)\n",
    "    # Prevals = 2* loc_data.total_cases_per_million\n",
    "    # Preval =  Prevals.dropna().values[-1]/int(1e6)\n",
    "\n",
    "    Vaccs = loc_data.people_fully_vaccinated_per_hundred\n",
    "    try:\n",
    "        Vacc = Vaccs.dropna().values[-1]/100\n",
    "    except:\n",
    "        Vacc = 0\n",
    "    \n",
    "    # Comment this line to not show history...\n",
    "    ax.plot(Vaccs/100, Prevals/int(1e6),'.', alpha=0.3,markersize=4)\n",
    "    \n",
    "    # present state in this parameter space:\n",
    "    ax.scatter(Vacc, Preval, **scatterstyle,zorder=12)\n",
    "    # curOffset = 0.01\n",
    "    # ax.annotate(loc, (Vacc+curOffset, Preval+curOffset),fontsize=16,zorder=11)\n",
    "    ax.annotate(loc, xy=(Vacc, Preval), xytext=(12, 5),textcoords='offset pixels',fontsize=16,zorder=11,bbox=dict(boxstyle=\"round4,pad=0.2\", fc=\"w\",alpha=0.7, ec=\"k\", lw=2))\n",
    "    # ax.annotate(loc, xy=(Vacc, Preval), xytext=(12, 5),textcoords='offset pixels',fontsize=16,zorder=12)\n",
    "    # ax.text(Vacc, Preval,loc ,fontsize=16,zorder=11)\n",
    "\n",
    "    # Currently not used:\n",
    "    row = {\"loc\":loc, \"vacc\":Vacc, \"preval\":Preval}\n",
    "    scatter_df = scatter_df.append(row, ignore_index=True)\n",
    "    \n",
    "CS = ax.contour(X, Y, Z, levels=res, zorder=6,colors='k') \n",
    "# clab_pos = [(1-np.sqrt(y),1-np.sqrt(y)) for y in res/r0]\n",
    "clab_pos = [(1-np.sqrt(y),1-np.sqrt(y)) for y in res/r0]\n",
    "# #ax.scatter(*list(zip(*clab_pos)))\n",
    "# ax.clabel(CS, inline=True, fontsize=10, manual=clab_pos)\n",
    "# clab_pos = [(y,0.025) for y in res/r0]\n",
    "# clab_pos = [(y,0.025) for y in np.linspace(0,1,numAreas)]\n",
    "# numLabelsToShow = numAreas\n",
    "# clab_pos = list(zip(np.linspace(minX,maxX,numLabelsToShow),np.linspace(minY,maxY,numLabelsToShow)))\n",
    "ax.clabel(CS,fmt='%.2f', inline=True, fontsize=10,manual=clab_pos)\n",
    "# ax.clabel(CS,fmt='%.2f', inline=True, fontsize=10)\n",
    "    \n",
    "# ax.axis('equal')\n",
    "ax.set_xlim([minX,maxX])\n",
    "ax.set_ylim([minY,maxY])\n",
    "\n",
    "# ax.legend()\n",
    "#ax2.legend()\n",
    "#data_df\n",
    "# ax.set_ylim([0,0.3])\n",
    "# ax.scatter(scatter_df.vacc, scatter_df.preval, **scatterstyle)\n",
    "ax.set_xlabel(xlab)\n",
    "ax.set_ylabel(ylab)\n",
    "# plt.tight_layout()\n",
    "\n",
    "plt.title(f'{currentDate}')\n",
    "plt.show()\n",
    "\n",
    "# # plt.savefig(f'figs/anim/ParameterSpace_{currentDate}')\n",
    "# plt.savefig(f'figs/anim/frame{counter:1.0f}')\n",
    "# counter = counter+1\n",
    "\n",
    "plt.savefig('figs/ParameterspaceEurope')\n",
    "\n",
    "# plt.close('all')"
   ]
  },
  {
   "cell_type": "code",
   "execution_count": 6,
   "metadata": {},
   "outputs": [
    {
     "name": "stderr",
     "output_type": "stream",
     "text": [
      "<ipython-input-6-487d60f887fd>:16: SettingWithCopyWarning: \n",
      "A value is trying to be set on a copy of a slice from a DataFrame.\n",
      "Try using .loc[row_indexer,col_indexer] = value instead\n",
      "\n",
      "See the caveats in the documentation: https://pandas.pydata.org/pandas-docs/stable/user_guide/indexing.html#returning-a-view-versus-a-copy\n",
      "  data_df['date'] = pd.to_datetime(data_df.date)\n"
     ]
    },
    {
     "data": {
      "application/vnd.jupyter.widget-view+json": {
       "model_id": "9827161645f0412f9aa661d5fc707989",
       "version_major": 2,
       "version_minor": 0
      },
      "text/plain": [
       "Canvas(toolbar=Toolbar(toolitems=[('Home', 'Reset original view', 'home', 'home'), ('Back', 'Back to previous …"
      ]
     },
     "metadata": {},
     "output_type": "display_data"
    },
    {
     "name": "stderr",
     "output_type": "stream",
     "text": [
      "<ipython-input-6-487d60f887fd>:16: SettingWithCopyWarning: \n",
      "A value is trying to be set on a copy of a slice from a DataFrame.\n",
      "Try using .loc[row_indexer,col_indexer] = value instead\n",
      "\n",
      "See the caveats in the documentation: https://pandas.pydata.org/pandas-docs/stable/user_guide/indexing.html#returning-a-view-versus-a-copy\n",
      "  data_df['date'] = pd.to_datetime(data_df.date)\n"
     ]
    },
    {
     "data": {
      "application/vnd.jupyter.widget-view+json": {
       "model_id": "598f9f771be04e2b85545ea4499c47e4",
       "version_major": 2,
       "version_minor": 0
      },
      "text/plain": [
       "Canvas(toolbar=Toolbar(toolitems=[('Home', 'Reset original view', 'home', 'home'), ('Back', 'Back to previous …"
      ]
     },
     "metadata": {},
     "output_type": "display_data"
    },
    {
     "name": "stderr",
     "output_type": "stream",
     "text": [
      "<ipython-input-6-487d60f887fd>:16: SettingWithCopyWarning: \n",
      "A value is trying to be set on a copy of a slice from a DataFrame.\n",
      "Try using .loc[row_indexer,col_indexer] = value instead\n",
      "\n",
      "See the caveats in the documentation: https://pandas.pydata.org/pandas-docs/stable/user_guide/indexing.html#returning-a-view-versus-a-copy\n",
      "  data_df['date'] = pd.to_datetime(data_df.date)\n"
     ]
    },
    {
     "data": {
      "application/vnd.jupyter.widget-view+json": {
       "model_id": "64ad1f3dcc52497ea2eb1c61e219e76d",
       "version_major": 2,
       "version_minor": 0
      },
      "text/plain": [
       "Canvas(toolbar=Toolbar(toolitems=[('Home', 'Reset original view', 'home', 'home'), ('Back', 'Back to previous …"
      ]
     },
     "metadata": {},
     "output_type": "display_data"
    },
    {
     "name": "stderr",
     "output_type": "stream",
     "text": [
      "<ipython-input-6-487d60f887fd>:16: SettingWithCopyWarning: \n",
      "A value is trying to be set on a copy of a slice from a DataFrame.\n",
      "Try using .loc[row_indexer,col_indexer] = value instead\n",
      "\n",
      "See the caveats in the documentation: https://pandas.pydata.org/pandas-docs/stable/user_guide/indexing.html#returning-a-view-versus-a-copy\n",
      "  data_df['date'] = pd.to_datetime(data_df.date)\n"
     ]
    },
    {
     "data": {
      "application/vnd.jupyter.widget-view+json": {
       "model_id": "58b95a535a884775bb623effa7abf195",
       "version_major": 2,
       "version_minor": 0
      },
      "text/plain": [
       "Canvas(toolbar=Toolbar(toolitems=[('Home', 'Reset original view', 'home', 'home'), ('Back', 'Back to previous …"
      ]
     },
     "metadata": {},
     "output_type": "display_data"
    },
    {
     "name": "stderr",
     "output_type": "stream",
     "text": [
      "<ipython-input-6-487d60f887fd>:16: SettingWithCopyWarning: \n",
      "A value is trying to be set on a copy of a slice from a DataFrame.\n",
      "Try using .loc[row_indexer,col_indexer] = value instead\n",
      "\n",
      "See the caveats in the documentation: https://pandas.pydata.org/pandas-docs/stable/user_guide/indexing.html#returning-a-view-versus-a-copy\n",
      "  data_df['date'] = pd.to_datetime(data_df.date)\n"
     ]
    },
    {
     "data": {
      "application/vnd.jupyter.widget-view+json": {
       "model_id": "0737c92b60bb477d931eaac43dbd8714",
       "version_major": 2,
       "version_minor": 0
      },
      "text/plain": [
       "Canvas(toolbar=Toolbar(toolitems=[('Home', 'Reset original view', 'home', 'home'), ('Back', 'Back to previous …"
      ]
     },
     "metadata": {},
     "output_type": "display_data"
    },
    {
     "name": "stderr",
     "output_type": "stream",
     "text": [
      "<ipython-input-6-487d60f887fd>:16: SettingWithCopyWarning: \n",
      "A value is trying to be set on a copy of a slice from a DataFrame.\n",
      "Try using .loc[row_indexer,col_indexer] = value instead\n",
      "\n",
      "See the caveats in the documentation: https://pandas.pydata.org/pandas-docs/stable/user_guide/indexing.html#returning-a-view-versus-a-copy\n",
      "  data_df['date'] = pd.to_datetime(data_df.date)\n"
     ]
    },
    {
     "data": {
      "application/vnd.jupyter.widget-view+json": {
       "model_id": "9101dfc2734a40a7a95f7a1ac8f1a207",
       "version_major": 2,
       "version_minor": 0
      },
      "text/plain": [
       "Canvas(toolbar=Toolbar(toolitems=[('Home', 'Reset original view', 'home', 'home'), ('Back', 'Back to previous …"
      ]
     },
     "metadata": {},
     "output_type": "display_data"
    },
    {
     "name": "stderr",
     "output_type": "stream",
     "text": [
      "<ipython-input-6-487d60f887fd>:16: SettingWithCopyWarning: \n",
      "A value is trying to be set on a copy of a slice from a DataFrame.\n",
      "Try using .loc[row_indexer,col_indexer] = value instead\n",
      "\n",
      "See the caveats in the documentation: https://pandas.pydata.org/pandas-docs/stable/user_guide/indexing.html#returning-a-view-versus-a-copy\n",
      "  data_df['date'] = pd.to_datetime(data_df.date)\n"
     ]
    },
    {
     "data": {
      "application/vnd.jupyter.widget-view+json": {
       "model_id": "3703be5797d049dc8581a6ff79fe6472",
       "version_major": 2,
       "version_minor": 0
      },
      "text/plain": [
       "Canvas(toolbar=Toolbar(toolitems=[('Home', 'Reset original view', 'home', 'home'), ('Back', 'Back to previous …"
      ]
     },
     "metadata": {},
     "output_type": "display_data"
    },
    {
     "name": "stderr",
     "output_type": "stream",
     "text": [
      "<ipython-input-6-487d60f887fd>:16: SettingWithCopyWarning: \n",
      "A value is trying to be set on a copy of a slice from a DataFrame.\n",
      "Try using .loc[row_indexer,col_indexer] = value instead\n",
      "\n",
      "See the caveats in the documentation: https://pandas.pydata.org/pandas-docs/stable/user_guide/indexing.html#returning-a-view-versus-a-copy\n",
      "  data_df['date'] = pd.to_datetime(data_df.date)\n"
     ]
    },
    {
     "data": {
      "application/vnd.jupyter.widget-view+json": {
       "model_id": "d4652a5bd56247888bdd1731568f6882",
       "version_major": 2,
       "version_minor": 0
      },
      "text/plain": [
       "Canvas(toolbar=Toolbar(toolitems=[('Home', 'Reset original view', 'home', 'home'), ('Back', 'Back to previous …"
      ]
     },
     "metadata": {},
     "output_type": "display_data"
    },
    {
     "name": "stderr",
     "output_type": "stream",
     "text": [
      "<ipython-input-6-487d60f887fd>:16: SettingWithCopyWarning: \n",
      "A value is trying to be set on a copy of a slice from a DataFrame.\n",
      "Try using .loc[row_indexer,col_indexer] = value instead\n",
      "\n",
      "See the caveats in the documentation: https://pandas.pydata.org/pandas-docs/stable/user_guide/indexing.html#returning-a-view-versus-a-copy\n",
      "  data_df['date'] = pd.to_datetime(data_df.date)\n"
     ]
    },
    {
     "data": {
      "application/vnd.jupyter.widget-view+json": {
       "model_id": "1dc63fcdcf3b424f83a9e4b09f2e06ba",
       "version_major": 2,
       "version_minor": 0
      },
      "text/plain": [
       "Canvas(toolbar=Toolbar(toolitems=[('Home', 'Reset original view', 'home', 'home'), ('Back', 'Back to previous …"
      ]
     },
     "metadata": {},
     "output_type": "display_data"
    },
    {
     "name": "stderr",
     "output_type": "stream",
     "text": [
      "<ipython-input-6-487d60f887fd>:16: SettingWithCopyWarning: \n",
      "A value is trying to be set on a copy of a slice from a DataFrame.\n",
      "Try using .loc[row_indexer,col_indexer] = value instead\n",
      "\n",
      "See the caveats in the documentation: https://pandas.pydata.org/pandas-docs/stable/user_guide/indexing.html#returning-a-view-versus-a-copy\n",
      "  data_df['date'] = pd.to_datetime(data_df.date)\n"
     ]
    },
    {
     "data": {
      "application/vnd.jupyter.widget-view+json": {
       "model_id": "0888dde9c7c243cc99789cb911438e7a",
       "version_major": 2,
       "version_minor": 0
      },
      "text/plain": [
       "Canvas(toolbar=Toolbar(toolitems=[('Home', 'Reset original view', 'home', 'home'), ('Back', 'Back to previous …"
      ]
     },
     "metadata": {},
     "output_type": "display_data"
    },
    {
     "name": "stderr",
     "output_type": "stream",
     "text": [
      "<ipython-input-6-487d60f887fd>:16: SettingWithCopyWarning: \n",
      "A value is trying to be set on a copy of a slice from a DataFrame.\n",
      "Try using .loc[row_indexer,col_indexer] = value instead\n",
      "\n",
      "See the caveats in the documentation: https://pandas.pydata.org/pandas-docs/stable/user_guide/indexing.html#returning-a-view-versus-a-copy\n",
      "  data_df['date'] = pd.to_datetime(data_df.date)\n"
     ]
    },
    {
     "data": {
      "application/vnd.jupyter.widget-view+json": {
       "model_id": "ef6e0c824d9941d8aa241dd7665cef63",
       "version_major": 2,
       "version_minor": 0
      },
      "text/plain": [
       "Canvas(toolbar=Toolbar(toolitems=[('Home', 'Reset original view', 'home', 'home'), ('Back', 'Back to previous …"
      ]
     },
     "metadata": {},
     "output_type": "display_data"
    },
    {
     "name": "stderr",
     "output_type": "stream",
     "text": [
      "<ipython-input-6-487d60f887fd>:16: SettingWithCopyWarning: \n",
      "A value is trying to be set on a copy of a slice from a DataFrame.\n",
      "Try using .loc[row_indexer,col_indexer] = value instead\n",
      "\n",
      "See the caveats in the documentation: https://pandas.pydata.org/pandas-docs/stable/user_guide/indexing.html#returning-a-view-versus-a-copy\n",
      "  data_df['date'] = pd.to_datetime(data_df.date)\n"
     ]
    },
    {
     "data": {
      "application/vnd.jupyter.widget-view+json": {
       "model_id": "e5f97af991b24e7ba47fbb45eb5375f8",
       "version_major": 2,
       "version_minor": 0
      },
      "text/plain": [
       "Canvas(toolbar=Toolbar(toolitems=[('Home', 'Reset original view', 'home', 'home'), ('Back', 'Back to previous …"
      ]
     },
     "metadata": {},
     "output_type": "display_data"
    },
    {
     "name": "stderr",
     "output_type": "stream",
     "text": [
      "<ipython-input-6-487d60f887fd>:16: SettingWithCopyWarning: \n",
      "A value is trying to be set on a copy of a slice from a DataFrame.\n",
      "Try using .loc[row_indexer,col_indexer] = value instead\n",
      "\n",
      "See the caveats in the documentation: https://pandas.pydata.org/pandas-docs/stable/user_guide/indexing.html#returning-a-view-versus-a-copy\n",
      "  data_df['date'] = pd.to_datetime(data_df.date)\n"
     ]
    },
    {
     "data": {
      "application/vnd.jupyter.widget-view+json": {
       "model_id": "f5f95c887ba94fb594a71afd8af6e2b3",
       "version_major": 2,
       "version_minor": 0
      },
      "text/plain": [
       "Canvas(toolbar=Toolbar(toolitems=[('Home', 'Reset original view', 'home', 'home'), ('Back', 'Back to previous …"
      ]
     },
     "metadata": {},
     "output_type": "display_data"
    },
    {
     "name": "stderr",
     "output_type": "stream",
     "text": [
      "<ipython-input-6-487d60f887fd>:16: SettingWithCopyWarning: \n",
      "A value is trying to be set on a copy of a slice from a DataFrame.\n",
      "Try using .loc[row_indexer,col_indexer] = value instead\n",
      "\n",
      "See the caveats in the documentation: https://pandas.pydata.org/pandas-docs/stable/user_guide/indexing.html#returning-a-view-versus-a-copy\n",
      "  data_df['date'] = pd.to_datetime(data_df.date)\n"
     ]
    },
    {
     "data": {
      "application/vnd.jupyter.widget-view+json": {
       "model_id": "502b1e81ddd84f4ab99764922812c242",
       "version_major": 2,
       "version_minor": 0
      },
      "text/plain": [
       "Canvas(toolbar=Toolbar(toolitems=[('Home', 'Reset original view', 'home', 'home'), ('Back', 'Back to previous …"
      ]
     },
     "metadata": {},
     "output_type": "display_data"
    },
    {
     "name": "stderr",
     "output_type": "stream",
     "text": [
      "<ipython-input-6-487d60f887fd>:16: SettingWithCopyWarning: \n",
      "A value is trying to be set on a copy of a slice from a DataFrame.\n",
      "Try using .loc[row_indexer,col_indexer] = value instead\n",
      "\n",
      "See the caveats in the documentation: https://pandas.pydata.org/pandas-docs/stable/user_guide/indexing.html#returning-a-view-versus-a-copy\n",
      "  data_df['date'] = pd.to_datetime(data_df.date)\n"
     ]
    },
    {
     "data": {
      "application/vnd.jupyter.widget-view+json": {
       "model_id": "a41c69c77394476396bcf96ad0c38059",
       "version_major": 2,
       "version_minor": 0
      },
      "text/plain": [
       "Canvas(toolbar=Toolbar(toolitems=[('Home', 'Reset original view', 'home', 'home'), ('Back', 'Back to previous …"
      ]
     },
     "metadata": {},
     "output_type": "display_data"
    },
    {
     "name": "stderr",
     "output_type": "stream",
     "text": [
      "<ipython-input-6-487d60f887fd>:16: SettingWithCopyWarning: \n",
      "A value is trying to be set on a copy of a slice from a DataFrame.\n",
      "Try using .loc[row_indexer,col_indexer] = value instead\n",
      "\n",
      "See the caveats in the documentation: https://pandas.pydata.org/pandas-docs/stable/user_guide/indexing.html#returning-a-view-versus-a-copy\n",
      "  data_df['date'] = pd.to_datetime(data_df.date)\n"
     ]
    },
    {
     "data": {
      "application/vnd.jupyter.widget-view+json": {
       "model_id": "8981f06ec2ac483a95de38c36142ee5c",
       "version_major": 2,
       "version_minor": 0
      },
      "text/plain": [
       "Canvas(toolbar=Toolbar(toolitems=[('Home', 'Reset original view', 'home', 'home'), ('Back', 'Back to previous …"
      ]
     },
     "metadata": {},
     "output_type": "display_data"
    },
    {
     "name": "stderr",
     "output_type": "stream",
     "text": [
      "<ipython-input-6-487d60f887fd>:16: SettingWithCopyWarning: \n",
      "A value is trying to be set on a copy of a slice from a DataFrame.\n",
      "Try using .loc[row_indexer,col_indexer] = value instead\n",
      "\n",
      "See the caveats in the documentation: https://pandas.pydata.org/pandas-docs/stable/user_guide/indexing.html#returning-a-view-versus-a-copy\n",
      "  data_df['date'] = pd.to_datetime(data_df.date)\n"
     ]
    },
    {
     "data": {
      "application/vnd.jupyter.widget-view+json": {
       "model_id": "b76afea4cf7d438db082869ca4c8acbd",
       "version_major": 2,
       "version_minor": 0
      },
      "text/plain": [
       "Canvas(toolbar=Toolbar(toolitems=[('Home', 'Reset original view', 'home', 'home'), ('Back', 'Back to previous …"
      ]
     },
     "metadata": {},
     "output_type": "display_data"
    },
    {
     "name": "stderr",
     "output_type": "stream",
     "text": [
      "<ipython-input-6-487d60f887fd>:16: SettingWithCopyWarning: \n",
      "A value is trying to be set on a copy of a slice from a DataFrame.\n",
      "Try using .loc[row_indexer,col_indexer] = value instead\n",
      "\n",
      "See the caveats in the documentation: https://pandas.pydata.org/pandas-docs/stable/user_guide/indexing.html#returning-a-view-versus-a-copy\n",
      "  data_df['date'] = pd.to_datetime(data_df.date)\n"
     ]
    },
    {
     "data": {
      "application/vnd.jupyter.widget-view+json": {
       "model_id": "cb57789b48a446f0aed4b5f6065faa73",
       "version_major": 2,
       "version_minor": 0
      },
      "text/plain": [
       "Canvas(toolbar=Toolbar(toolitems=[('Home', 'Reset original view', 'home', 'home'), ('Back', 'Back to previous …"
      ]
     },
     "metadata": {},
     "output_type": "display_data"
    },
    {
     "name": "stderr",
     "output_type": "stream",
     "text": [
      "<ipython-input-6-487d60f887fd>:16: SettingWithCopyWarning: \n",
      "A value is trying to be set on a copy of a slice from a DataFrame.\n",
      "Try using .loc[row_indexer,col_indexer] = value instead\n",
      "\n",
      "See the caveats in the documentation: https://pandas.pydata.org/pandas-docs/stable/user_guide/indexing.html#returning-a-view-versus-a-copy\n",
      "  data_df['date'] = pd.to_datetime(data_df.date)\n"
     ]
    },
    {
     "data": {
      "application/vnd.jupyter.widget-view+json": {
       "model_id": "b58fd2f5c5574f31950c2e7ffcfb7084",
       "version_major": 2,
       "version_minor": 0
      },
      "text/plain": [
       "Canvas(toolbar=Toolbar(toolitems=[('Home', 'Reset original view', 'home', 'home'), ('Back', 'Back to previous …"
      ]
     },
     "metadata": {},
     "output_type": "display_data"
    },
    {
     "name": "stderr",
     "output_type": "stream",
     "text": [
      "<ipython-input-6-487d60f887fd>:16: SettingWithCopyWarning: \n",
      "A value is trying to be set on a copy of a slice from a DataFrame.\n",
      "Try using .loc[row_indexer,col_indexer] = value instead\n",
      "\n",
      "See the caveats in the documentation: https://pandas.pydata.org/pandas-docs/stable/user_guide/indexing.html#returning-a-view-versus-a-copy\n",
      "  data_df['date'] = pd.to_datetime(data_df.date)\n"
     ]
    },
    {
     "data": {
      "application/vnd.jupyter.widget-view+json": {
       "model_id": "0d15950a53ea41c4accf9edb47578456",
       "version_major": 2,
       "version_minor": 0
      },
      "text/plain": [
       "Canvas(toolbar=Toolbar(toolitems=[('Home', 'Reset original view', 'home', 'home'), ('Back', 'Back to previous …"
      ]
     },
     "metadata": {},
     "output_type": "display_data"
    },
    {
     "name": "stderr",
     "output_type": "stream",
     "text": [
      "<ipython-input-6-487d60f887fd>:16: SettingWithCopyWarning: \n",
      "A value is trying to be set on a copy of a slice from a DataFrame.\n",
      "Try using .loc[row_indexer,col_indexer] = value instead\n",
      "\n",
      "See the caveats in the documentation: https://pandas.pydata.org/pandas-docs/stable/user_guide/indexing.html#returning-a-view-versus-a-copy\n",
      "  data_df['date'] = pd.to_datetime(data_df.date)\n"
     ]
    },
    {
     "data": {
      "application/vnd.jupyter.widget-view+json": {
       "model_id": "085cf1c081824b4fb5af7508514c438a",
       "version_major": 2,
       "version_minor": 0
      },
      "text/plain": [
       "Canvas(toolbar=Toolbar(toolitems=[('Home', 'Reset original view', 'home', 'home'), ('Back', 'Back to previous …"
      ]
     },
     "metadata": {},
     "output_type": "display_data"
    },
    {
     "name": "stderr",
     "output_type": "stream",
     "text": [
      "<ipython-input-6-487d60f887fd>:16: SettingWithCopyWarning: \n",
      "A value is trying to be set on a copy of a slice from a DataFrame.\n",
      "Try using .loc[row_indexer,col_indexer] = value instead\n",
      "\n",
      "See the caveats in the documentation: https://pandas.pydata.org/pandas-docs/stable/user_guide/indexing.html#returning-a-view-versus-a-copy\n",
      "  data_df['date'] = pd.to_datetime(data_df.date)\n"
     ]
    },
    {
     "data": {
      "application/vnd.jupyter.widget-view+json": {
       "model_id": "a7f924ce37ee432d8cdea1d4ef30882d",
       "version_major": 2,
       "version_minor": 0
      },
      "text/plain": [
       "Canvas(toolbar=Toolbar(toolitems=[('Home', 'Reset original view', 'home', 'home'), ('Back', 'Back to previous …"
      ]
     },
     "metadata": {},
     "output_type": "display_data"
    },
    {
     "name": "stderr",
     "output_type": "stream",
     "text": [
      "<ipython-input-6-487d60f887fd>:16: SettingWithCopyWarning: \n",
      "A value is trying to be set on a copy of a slice from a DataFrame.\n",
      "Try using .loc[row_indexer,col_indexer] = value instead\n",
      "\n",
      "See the caveats in the documentation: https://pandas.pydata.org/pandas-docs/stable/user_guide/indexing.html#returning-a-view-versus-a-copy\n",
      "  data_df['date'] = pd.to_datetime(data_df.date)\n"
     ]
    },
    {
     "data": {
      "application/vnd.jupyter.widget-view+json": {
       "model_id": "ca94d172c4244ef4906bf521ea4a88d6",
       "version_major": 2,
       "version_minor": 0
      },
      "text/plain": [
       "Canvas(toolbar=Toolbar(toolitems=[('Home', 'Reset original view', 'home', 'home'), ('Back', 'Back to previous …"
      ]
     },
     "metadata": {},
     "output_type": "display_data"
    },
    {
     "name": "stderr",
     "output_type": "stream",
     "text": [
      "<ipython-input-6-487d60f887fd>:16: SettingWithCopyWarning: \n",
      "A value is trying to be set on a copy of a slice from a DataFrame.\n",
      "Try using .loc[row_indexer,col_indexer] = value instead\n",
      "\n",
      "See the caveats in the documentation: https://pandas.pydata.org/pandas-docs/stable/user_guide/indexing.html#returning-a-view-versus-a-copy\n",
      "  data_df['date'] = pd.to_datetime(data_df.date)\n"
     ]
    },
    {
     "data": {
      "application/vnd.jupyter.widget-view+json": {
       "model_id": "0e585f4d70c944639a5425ed1011790c",
       "version_major": 2,
       "version_minor": 0
      },
      "text/plain": [
       "Canvas(toolbar=Toolbar(toolitems=[('Home', 'Reset original view', 'home', 'home'), ('Back', 'Back to previous …"
      ]
     },
     "metadata": {},
     "output_type": "display_data"
    },
    {
     "name": "stderr",
     "output_type": "stream",
     "text": [
      "<ipython-input-6-487d60f887fd>:16: SettingWithCopyWarning: \n",
      "A value is trying to be set on a copy of a slice from a DataFrame.\n",
      "Try using .loc[row_indexer,col_indexer] = value instead\n",
      "\n",
      "See the caveats in the documentation: https://pandas.pydata.org/pandas-docs/stable/user_guide/indexing.html#returning-a-view-versus-a-copy\n",
      "  data_df['date'] = pd.to_datetime(data_df.date)\n"
     ]
    },
    {
     "data": {
      "application/vnd.jupyter.widget-view+json": {
       "model_id": "62a79304bb2a4bcc9e31706bb79ebbd9",
       "version_major": 2,
       "version_minor": 0
      },
      "text/plain": [
       "Canvas(toolbar=Toolbar(toolitems=[('Home', 'Reset original view', 'home', 'home'), ('Back', 'Back to previous …"
      ]
     },
     "metadata": {},
     "output_type": "display_data"
    },
    {
     "name": "stderr",
     "output_type": "stream",
     "text": [
      "<ipython-input-6-487d60f887fd>:16: SettingWithCopyWarning: \n",
      "A value is trying to be set on a copy of a slice from a DataFrame.\n",
      "Try using .loc[row_indexer,col_indexer] = value instead\n",
      "\n",
      "See the caveats in the documentation: https://pandas.pydata.org/pandas-docs/stable/user_guide/indexing.html#returning-a-view-versus-a-copy\n",
      "  data_df['date'] = pd.to_datetime(data_df.date)\n"
     ]
    },
    {
     "data": {
      "application/vnd.jupyter.widget-view+json": {
       "model_id": "71fd25c53ca248caa1a0f5009505d0bd",
       "version_major": 2,
       "version_minor": 0
      },
      "text/plain": [
       "Canvas(toolbar=Toolbar(toolitems=[('Home', 'Reset original view', 'home', 'home'), ('Back', 'Back to previous …"
      ]
     },
     "metadata": {},
     "output_type": "display_data"
    },
    {
     "name": "stderr",
     "output_type": "stream",
     "text": [
      "<ipython-input-6-487d60f887fd>:16: SettingWithCopyWarning: \n",
      "A value is trying to be set on a copy of a slice from a DataFrame.\n",
      "Try using .loc[row_indexer,col_indexer] = value instead\n",
      "\n",
      "See the caveats in the documentation: https://pandas.pydata.org/pandas-docs/stable/user_guide/indexing.html#returning-a-view-versus-a-copy\n",
      "  data_df['date'] = pd.to_datetime(data_df.date)\n"
     ]
    },
    {
     "data": {
      "application/vnd.jupyter.widget-view+json": {
       "model_id": "48734e2e571d4bec818f48b125fcd0c6",
       "version_major": 2,
       "version_minor": 0
      },
      "text/plain": [
       "Canvas(toolbar=Toolbar(toolitems=[('Home', 'Reset original view', 'home', 'home'), ('Back', 'Back to previous …"
      ]
     },
     "metadata": {},
     "output_type": "display_data"
    },
    {
     "name": "stderr",
     "output_type": "stream",
     "text": [
      "<ipython-input-6-487d60f887fd>:16: SettingWithCopyWarning: \n",
      "A value is trying to be set on a copy of a slice from a DataFrame.\n",
      "Try using .loc[row_indexer,col_indexer] = value instead\n",
      "\n",
      "See the caveats in the documentation: https://pandas.pydata.org/pandas-docs/stable/user_guide/indexing.html#returning-a-view-versus-a-copy\n",
      "  data_df['date'] = pd.to_datetime(data_df.date)\n"
     ]
    },
    {
     "data": {
      "application/vnd.jupyter.widget-view+json": {
       "model_id": "cb5c4e4f9c834385b3b9caf5ed527694",
       "version_major": 2,
       "version_minor": 0
      },
      "text/plain": [
       "Canvas(toolbar=Toolbar(toolitems=[('Home', 'Reset original view', 'home', 'home'), ('Back', 'Back to previous …"
      ]
     },
     "metadata": {},
     "output_type": "display_data"
    },
    {
     "name": "stderr",
     "output_type": "stream",
     "text": [
      "<ipython-input-6-487d60f887fd>:16: SettingWithCopyWarning: \n",
      "A value is trying to be set on a copy of a slice from a DataFrame.\n",
      "Try using .loc[row_indexer,col_indexer] = value instead\n",
      "\n",
      "See the caveats in the documentation: https://pandas.pydata.org/pandas-docs/stable/user_guide/indexing.html#returning-a-view-versus-a-copy\n",
      "  data_df['date'] = pd.to_datetime(data_df.date)\n"
     ]
    },
    {
     "data": {
      "application/vnd.jupyter.widget-view+json": {
       "model_id": "a5cd8300df7d42718db7a8d663464bc0",
       "version_major": 2,
       "version_minor": 0
      },
      "text/plain": [
       "Canvas(toolbar=Toolbar(toolitems=[('Home', 'Reset original view', 'home', 'home'), ('Back', 'Back to previous …"
      ]
     },
     "metadata": {},
     "output_type": "display_data"
    },
    {
     "name": "stderr",
     "output_type": "stream",
     "text": [
      "<ipython-input-6-487d60f887fd>:16: SettingWithCopyWarning: \n",
      "A value is trying to be set on a copy of a slice from a DataFrame.\n",
      "Try using .loc[row_indexer,col_indexer] = value instead\n",
      "\n",
      "See the caveats in the documentation: https://pandas.pydata.org/pandas-docs/stable/user_guide/indexing.html#returning-a-view-versus-a-copy\n",
      "  data_df['date'] = pd.to_datetime(data_df.date)\n"
     ]
    },
    {
     "data": {
      "application/vnd.jupyter.widget-view+json": {
       "model_id": "15f260c3cf334c9cbe3d4aff971b8aff",
       "version_major": 2,
       "version_minor": 0
      },
      "text/plain": [
       "Canvas(toolbar=Toolbar(toolitems=[('Home', 'Reset original view', 'home', 'home'), ('Back', 'Back to previous …"
      ]
     },
     "metadata": {},
     "output_type": "display_data"
    },
    {
     "name": "stderr",
     "output_type": "stream",
     "text": [
      "<ipython-input-6-487d60f887fd>:16: SettingWithCopyWarning: \n",
      "A value is trying to be set on a copy of a slice from a DataFrame.\n",
      "Try using .loc[row_indexer,col_indexer] = value instead\n",
      "\n",
      "See the caveats in the documentation: https://pandas.pydata.org/pandas-docs/stable/user_guide/indexing.html#returning-a-view-versus-a-copy\n",
      "  data_df['date'] = pd.to_datetime(data_df.date)\n"
     ]
    },
    {
     "data": {
      "application/vnd.jupyter.widget-view+json": {
       "model_id": "f1895eb121314e55b8035e1dc41b1897",
       "version_major": 2,
       "version_minor": 0
      },
      "text/plain": [
       "Canvas(toolbar=Toolbar(toolitems=[('Home', 'Reset original view', 'home', 'home'), ('Back', 'Back to previous …"
      ]
     },
     "metadata": {},
     "output_type": "display_data"
    },
    {
     "name": "stderr",
     "output_type": "stream",
     "text": [
      "<ipython-input-6-487d60f887fd>:16: SettingWithCopyWarning: \n",
      "A value is trying to be set on a copy of a slice from a DataFrame.\n",
      "Try using .loc[row_indexer,col_indexer] = value instead\n",
      "\n",
      "See the caveats in the documentation: https://pandas.pydata.org/pandas-docs/stable/user_guide/indexing.html#returning-a-view-versus-a-copy\n",
      "  data_df['date'] = pd.to_datetime(data_df.date)\n"
     ]
    },
    {
     "data": {
      "application/vnd.jupyter.widget-view+json": {
       "model_id": "f1728970aab5417884cc2e4f8dfffca8",
       "version_major": 2,
       "version_minor": 0
      },
      "text/plain": [
       "Canvas(toolbar=Toolbar(toolitems=[('Home', 'Reset original view', 'home', 'home'), ('Back', 'Back to previous …"
      ]
     },
     "metadata": {},
     "output_type": "display_data"
    },
    {
     "name": "stderr",
     "output_type": "stream",
     "text": [
      "<ipython-input-6-487d60f887fd>:16: SettingWithCopyWarning: \n",
      "A value is trying to be set on a copy of a slice from a DataFrame.\n",
      "Try using .loc[row_indexer,col_indexer] = value instead\n",
      "\n",
      "See the caveats in the documentation: https://pandas.pydata.org/pandas-docs/stable/user_guide/indexing.html#returning-a-view-versus-a-copy\n",
      "  data_df['date'] = pd.to_datetime(data_df.date)\n"
     ]
    },
    {
     "data": {
      "application/vnd.jupyter.widget-view+json": {
       "model_id": "a09d4ba0783b45c4918464c36e175a83",
       "version_major": 2,
       "version_minor": 0
      },
      "text/plain": [
       "Canvas(toolbar=Toolbar(toolitems=[('Home', 'Reset original view', 'home', 'home'), ('Back', 'Back to previous …"
      ]
     },
     "metadata": {},
     "output_type": "display_data"
    }
   ],
   "source": [
    "\n",
    "# currentDate = np.datetime64('2021-08')\n",
    "\n",
    "counter = 0\n",
    "# for currentDate in np.arange(np.datetime64('2021-01'),np.datetime64('2021-12')):\n",
    "# for currentDate in np.arange(np.datetime64('2021-04-01'),np.datetime64('2021-11-01')):\n",
    "for currentDate in np.arange(np.datetime64('2021-04-01'),np.datetime64('2021-11-15'),np.timedelta64(7,'D')):\n",
    "# for currentDate in np.arange(np.datetime64('2021-04-01'),np.datetime64('2021-11-01'),np.timedelta64(1,'D')):\n",
    "\n",
    "    all_loc = data_raw_df.location.unique()\n",
    "\n",
    "    locs = [\"Denmark\", \"Latvia\", \"Poland\", \"Estonia\", \"Lithuania\", \"Spain\",\"Romania\",\"Georgia\",\"Germany\"]\n",
    "\n",
    "    loc_filt = data_raw_df.location.isin(locs)\n",
    "\n",
    "    data_df = data_raw_df.loc[loc_filt]\n",
    "    data_df['date'] = pd.to_datetime(data_df.date)\n",
    "\n",
    "    toUse = (data_df.date <= currentDate)\n",
    "    data_df_period = data_df[toUse]\n",
    "    # toUse\n",
    "\n",
    "    #fig1, ax1 = plt.subplots()\n",
    "    #fig2, ax2 = plt.subplots()\n",
    "    fig, ax = plt.subplots(figsize=(12,12))\n",
    "\n",
    "    scatterstyle = {\n",
    "        # \"color\":'tab:red', \n",
    "        # \"linestyle\":':', \n",
    "        # \"linewidth\":5, \n",
    "        \"marker\":'o', \n",
    "        # \"markersize\":5, \n",
    "        # \"edgecolors\":'tab:red'\n",
    "        # alpha\":0.6\n",
    "    }\n",
    "\n",
    "    scatter_df = pd.DataFrame(columns=[\"loc\", \"vacc\", \"preval\"])\n",
    "\n",
    "    resolution = 1001\n",
    "\n",
    "    xlab = \"Vaccine coverage\"\n",
    "    ylab = \"Prevalence (Infections)\"\n",
    "\n",
    "\n",
    "\n",
    "    minX = 0\n",
    "    maxX = 1\n",
    "    minY = 0\n",
    "    maxY = 1\n",
    "\n",
    "    # minX = 0.3\n",
    "    # maxX = 1\n",
    "    # minY = 0\n",
    "    # maxY = 0.5\n",
    "\n",
    "    # Adjust here, for the visible range in plot:\n",
    "    X = vacc_list = np.linspace(minX, maxX, resolution)\n",
    "    Y = preval_list = np.linspace(minY,maxY, resolution)\n",
    "    Z = np.array([[Re(R0, v, p) for v in vacc_list] for p in preval_list]) # Y=preval, X=vacc\n",
    "\n",
    "\n",
    "\n",
    "    r0 = 4.7\n",
    "    # res = np.linspace(0.05,0.95,numAreas)*r0\n",
    "    res = np.arange(0,5,0.25)\n",
    "    numAreas = len(res)\n",
    "\n",
    "    cmap = LinearSegmentedColormap.from_list('unnamed', \n",
    "                                                        [\n",
    "                                                            (0,1,0),\n",
    "                                                            (1,0.9,0.7),\n",
    "                                                            (1,0,0),\n",
    "                                                            (1,0,0),\n",
    "                                                            (1,0,0),\n",
    "                                                            (1,0,0),\n",
    "                                                        ] \n",
    "                                                        , N=numAreas)\n",
    "\n",
    "    #ax.pcolor(X, Y, Z)\n",
    "    # ax.contourf(X, Y, Z, 100, cmap=\"viridis\")\n",
    "    # ax.contourf(X, Y, Z, numAreas, cmap=cmap)\n",
    "    ax.contourf(X, Y, Z, levels=res,cmap=cmap)\n",
    "\n",
    "\n",
    "    for i, re in enumerate([1]):\n",
    "        IsoVac = np.linspace(0,1-(re/r0),100)\n",
    "        ax.plot(IsoVac, (lambda V: P(re, r0, V))(IsoVac), linewidth = 10,alpha=0.5,zorder=5, color=\"grey\", label=int(i==0)*\"$R_{e} = 1$-Isocline\")\n",
    "\n",
    "    # heard_immune_color = lambda r0: int(r0<1)*\"green\" + int(r0>1)*\"red\" + int(r0==1)*\"orange\"\n",
    "    # hi_colors = [heard_immune_color(r) for r in res]\n",
    "\n",
    "    # CS = ax.contour(X, Y, Z, levels=res, colors=hi_colors) # , cmap=\"plasma\") #, label=\"$R_{0}$-isoclines\")\n",
    "\n",
    "\n",
    "    for loc, loc_data in data_df_period.groupby([\"location\"]):\n",
    "        \n",
    "        # Prevals = loc_data.total_cases_per_million\n",
    "        # Preval = Prevals.dropna().values[-1]/int(1e6)\n",
    "        Prevals = 2* loc_data.total_cases_per_million\n",
    "        Preval =  Prevals.dropna().values[-1]/int(1e6)\n",
    "\n",
    "        Vaccs = loc_data.people_fully_vaccinated_per_hundred\n",
    "        try:\n",
    "            Vacc = Vaccs.dropna().values[-1]/100\n",
    "        except:\n",
    "            Vacc = 0\n",
    "        \n",
    "        # Comment this line to not show history...\n",
    "        ax.plot(Vaccs/100, Prevals/int(1e6),'.', alpha=0.3,markersize=4)\n",
    "        \n",
    "        # present state in this parameter space:\n",
    "        ax.scatter(Vacc, Preval, **scatterstyle,zorder=12)\n",
    "        # curOffset = 0.01\n",
    "        # ax.annotate(loc, (Vacc+curOffset, Preval+curOffset),fontsize=16,zorder=11)\n",
    "        ax.annotate(loc, xy=(Vacc, Preval), xytext=(12, 5),textcoords='offset pixels',fontsize=16,zorder=11,bbox=dict(boxstyle=\"round4,pad=0.2\", fc=\"w\",alpha=0.7, ec=\"k\", lw=2))\n",
    "        # ax.annotate(loc, xy=(Vacc, Preval), xytext=(12, 5),textcoords='offset pixels',fontsize=16,zorder=12)\n",
    "        # ax.text(Vacc, Preval,loc ,fontsize=16,zorder=11)\n",
    "\n",
    "        # Currently not used:\n",
    "        row = {\"loc\":loc, \"vacc\":Vacc, \"preval\":Preval}\n",
    "        scatter_df = scatter_df.append(row, ignore_index=True)\n",
    "        \n",
    "    CS = ax.contour(X, Y, Z, levels=res, zorder=6,colors='k') \n",
    "    # clab_pos = [(1-np.sqrt(y),1-np.sqrt(y)) for y in res/r0]\n",
    "    clab_pos = [(1-np.sqrt(y),1-np.sqrt(y)) for y in res/r0]\n",
    "    # #ax.scatter(*list(zip(*clab_pos)))\n",
    "    # ax.clabel(CS, inline=True, fontsize=10, manual=clab_pos)\n",
    "    # clab_pos = [(y,0.025) for y in res/r0]\n",
    "    # clab_pos = [(y,0.025) for y in np.linspace(0,1,numAreas)]\n",
    "    # numLabelsToShow = numAreas\n",
    "    # clab_pos = list(zip(np.linspace(minX,maxX,numLabelsToShow),np.linspace(minY,maxY,numLabelsToShow)))\n",
    "    ax.clabel(CS,fmt='%.2f', inline=True, fontsize=10,manual=clab_pos)\n",
    "    # ax.clabel(CS,fmt='%.2f', inline=True, fontsize=10)\n",
    "        \n",
    "    # ax.axis('equal')\n",
    "    ax.set_xlim([minX,maxX])\n",
    "    ax.set_ylim([minY,maxY])\n",
    "\n",
    "    # ax.legend()\n",
    "    #ax2.legend()\n",
    "    #data_df\n",
    "    # ax.set_ylim([0,0.3])\n",
    "    # ax.scatter(scatter_df.vacc, scatter_df.preval, **scatterstyle)\n",
    "    ax.set_xlabel(xlab)\n",
    "    ax.set_ylabel(ylab)\n",
    "    # plt.tight_layout()\n",
    "    \n",
    "    plt.title(f'{currentDate}')\n",
    "    plt.show()\n",
    "    \n",
    "    # plt.savefig(f'figs/anim/ParameterSpace_{currentDate}')\n",
    "    plt.savefig(f'figs/anim/frame{counter:1.0f}')\n",
    "    counter = counter+1\n",
    "    \n",
    "    plt.close('all')"
   ]
  },
  {
   "cell_type": "code",
   "execution_count": null,
   "metadata": {},
   "outputs": [],
   "source": []
  },
  {
   "cell_type": "code",
   "execution_count": 7,
   "metadata": {},
   "outputs": [],
   "source": [
    "# data_df['date'] = pd.to_datetime(data_df.date)\n",
    "\n",
    "# currentDate = np.datetime64('2021-08-01')\n",
    "# toUse = data_df.date <= currentDate\n",
    "# toUse\n",
    "\n",
    "# Vaccs.dropna().values[-1]\n"
   ]
  }
 ],
 "metadata": {
  "interpreter": {
   "hash": "c72cdf52cb3d31f207bca538e9396da8706c0ecf4a3038fb1c2b317934170431"
  },
  "kernelspec": {
   "display_name": "Python 3.8.5 64-bit ('main': conda)",
   "name": "python3"
  },
  "language_info": {
   "codemirror_mode": {
    "name": "ipython",
    "version": 3
   },
   "file_extension": ".py",
   "mimetype": "text/x-python",
   "name": "python",
   "nbconvert_exporter": "python",
   "pygments_lexer": "ipython3",
   "version": "3.8.5"
  }
 },
 "nbformat": 4,
 "nbformat_minor": 5
}
