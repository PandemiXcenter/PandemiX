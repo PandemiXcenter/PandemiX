{
 "cells": [
  {
   "cell_type": "code",
   "execution_count": 10,
   "id": "spread-border",
   "metadata": {},
   "outputs": [
    {
     "name": "stdout",
     "output_type": "stream",
     "text": [
      "saveFigures is set to: True\n",
      "Done loading packages\n"
     ]
    }
   ],
   "source": [
    "# Main notebook for breakthrough infections\n",
    "import numpy as np\n",
    "import pandas as pd\n",
    "pd.set_option('display.max_rows', 500)\n",
    "pd.set_option('display.min_rows', 50)\n",
    "import seaborn as sns\n",
    "\n",
    "\n",
    "import matplotlib.pyplot as plt\n",
    "%matplotlib widget\n",
    "plt.rcParams['figure.figsize'] = (12,8)\n",
    "plt.rcParams[\"image.cmap\"] = \"Dark2\"\n",
    "plt.rcParams['axes.prop_cycle'] = plt.cycler(color=plt.cm.Dark2.colors)\n",
    "# plt.rcParams[\"image.cmap\"] = \"tab10\"\n",
    "# plt.rcParams['axes.prop_cycle'] = plt.cycler(color=plt.cm.tab10.colors)\n",
    "fs_label = 16\n",
    "parameters = {\n",
    "    'axes.labelsize': fs_label,\n",
    "    'axes.titlesize': fs_label+4,\n",
    "    'xtick.labelsize': fs_label,\n",
    "    'ytick.labelsize': fs_label, \n",
    "    'legend.fontsize': fs_label, \n",
    "    'lines.markersize': 10,\n",
    "    'lines.linewidth': 3\n",
    "}\n",
    "plt.rcParams.update(parameters)\n",
    "%matplotlib widget  \n",
    "# plt.style.use('ggplot')\n",
    "import matplotlib.colors as colors\n",
    "# cmap = plt.cm.get_cmap('Dark2',len(ageGroups))\n",
    "from matplotlib import cm # Colormaps\n",
    "\n",
    "import locale\n",
    "import matplotlib.dates as mdates\n",
    "locale.setlocale(locale.LC_TIME,\"Danish\")\n",
    "# ax = plt.gca()\n",
    "# ax1.xaxis.set_major_formatter(mdates.DateFormatter('%b\\n%Y'))\n",
    "# # ax.xaxis.set_major_formatter(mdates.DateFormatter('%Y \\n %B'))\n",
    "\n",
    "import os\n",
    "# import csv\n",
    "import math\n",
    "\n",
    "\n",
    "from datetime import date\n",
    "\n",
    "\n",
    "saveFigures = True\n",
    "# saveFigures = False\n",
    "print('saveFigures is set to: '+str(saveFigures))\n",
    "\n",
    "print('Done loading packages')\n",
    "\n",
    "def rnMean(data,meanWidth):\n",
    "    return np.convolve(data, np.ones(meanWidth)/meanWidth, mode='valid')\n",
    "def rnTime(t,meanWidth):\n",
    "    return t[math.floor(meanWidth/2):-math.ceil(meanWidth/2)+1]\n",
    "\n",
    "R0 = 4.7\n",
    "\n",
    "S = lambda V, Preval : (1-V)*(1-Preval)\n",
    "Re = lambda R0, V, Preval: R0*S(V, Preval)\n",
    "V = lambda Re, R0, Preval: 1 - (Re/R0)*(1/(1-Preval))\n",
    "P = lambda Re, R0, Vacc: 1 - (Re/R0)*(1/(1-Vacc))"
   ]
  },
  {
   "cell_type": "code",
   "execution_count": 11,
   "id": "short-integer",
   "metadata": {},
   "outputs": [],
   "source": [
    "data_raw_df = pd.read_csv(\"owid-covid-data.csv\")\n",
    "# data_raw_df.columns"
   ]
  },
  {
   "cell_type": "code",
   "execution_count": 12,
   "id": "waiting-vessel",
   "metadata": {},
   "outputs": [
    {
     "data": {
      "application/vnd.jupyter.widget-view+json": {
       "model_id": "f1384c390d8c41b6adabc55afbb52871",
       "version_major": 2,
       "version_minor": 0
      },
      "text/plain": [
       "Canvas(toolbar=Toolbar(toolitems=[('Home', 'Reset original view', 'home', 'home'), ('Back', 'Back to previous …"
      ]
     },
     "metadata": {},
     "output_type": "display_data"
    },
    {
     "name": "stdout",
     "output_type": "stream",
     "text": [
      "Denmark 0.7565000000000001 0.064025058\n",
      "Estonia 0.5511 0.131631135\n",
      "Georgia 0.2279 0.168490012\n",
      "Latvia 0.5068 0.101086594\n",
      "Lithuania 0.6118 0.138514541\n",
      "Poland 0.5227 0.077917718\n",
      "Romania 0.2974 0.07770188800000001\n",
      "Spain 0.7934 0.106765311\n"
     ]
    },
    {
     "data": {
      "text/html": [
       "<div>\n",
       "<style scoped>\n",
       "    .dataframe tbody tr th:only-of-type {\n",
       "        vertical-align: middle;\n",
       "    }\n",
       "\n",
       "    .dataframe tbody tr th {\n",
       "        vertical-align: top;\n",
       "    }\n",
       "\n",
       "    .dataframe thead th {\n",
       "        text-align: right;\n",
       "    }\n",
       "</style>\n",
       "<table border=\"1\" class=\"dataframe\">\n",
       "  <thead>\n",
       "    <tr style=\"text-align: right;\">\n",
       "      <th></th>\n",
       "      <th>loc</th>\n",
       "      <th>vacc</th>\n",
       "      <th>preval</th>\n",
       "    </tr>\n",
       "  </thead>\n",
       "  <tbody>\n",
       "    <tr>\n",
       "      <th>0</th>\n",
       "      <td>Denmark</td>\n",
       "      <td>0.7565</td>\n",
       "      <td>0.064025</td>\n",
       "    </tr>\n",
       "    <tr>\n",
       "      <th>1</th>\n",
       "      <td>Estonia</td>\n",
       "      <td>0.5511</td>\n",
       "      <td>0.131631</td>\n",
       "    </tr>\n",
       "    <tr>\n",
       "      <th>2</th>\n",
       "      <td>Georgia</td>\n",
       "      <td>0.2279</td>\n",
       "      <td>0.168490</td>\n",
       "    </tr>\n",
       "    <tr>\n",
       "      <th>3</th>\n",
       "      <td>Latvia</td>\n",
       "      <td>0.5068</td>\n",
       "      <td>0.101087</td>\n",
       "    </tr>\n",
       "    <tr>\n",
       "      <th>4</th>\n",
       "      <td>Lithuania</td>\n",
       "      <td>0.6118</td>\n",
       "      <td>0.138515</td>\n",
       "    </tr>\n",
       "    <tr>\n",
       "      <th>5</th>\n",
       "      <td>Poland</td>\n",
       "      <td>0.5227</td>\n",
       "      <td>0.077918</td>\n",
       "    </tr>\n",
       "    <tr>\n",
       "      <th>6</th>\n",
       "      <td>Romania</td>\n",
       "      <td>0.2974</td>\n",
       "      <td>0.077702</td>\n",
       "    </tr>\n",
       "    <tr>\n",
       "      <th>7</th>\n",
       "      <td>Spain</td>\n",
       "      <td>0.7934</td>\n",
       "      <td>0.106765</td>\n",
       "    </tr>\n",
       "  </tbody>\n",
       "</table>\n",
       "</div>"
      ],
      "text/plain": [
       "         loc    vacc    preval\n",
       "0    Denmark  0.7565  0.064025\n",
       "1    Estonia  0.5511  0.131631\n",
       "2    Georgia  0.2279  0.168490\n",
       "3     Latvia  0.5068  0.101087\n",
       "4  Lithuania  0.6118  0.138515\n",
       "5     Poland  0.5227  0.077918\n",
       "6    Romania  0.2974  0.077702\n",
       "7      Spain  0.7934  0.106765"
      ]
     },
     "execution_count": 12,
     "metadata": {},
     "output_type": "execute_result"
    }
   ],
   "source": [
    "all_loc = data_raw_df.location.unique()\n",
    "\n",
    "locs = [\"Denmark\", \"Latvia\", \"Poland\", \"Estonia\", \"Lithuania\", \"Spain\",\"Romania\",\"Georgia\"]\n",
    "\n",
    "loc_filt = data_raw_df.location.isin(locs)\n",
    "\n",
    "data_df = data_raw_df.loc[loc_filt]\n",
    "\n",
    "#fig1, ax1 = plt.subplots()\n",
    "#fig2, ax2 = plt.subplots()\n",
    "fig, ax = plt.subplots(figsize=(12,12))\n",
    "\n",
    "scatterstyle = {\n",
    "    # \"color\":'tab:red', \n",
    "    # \"linestyle\":':', \n",
    "    # \"linewidth\":5, \n",
    "    \"marker\":'o', \n",
    "    # \"markersize\":5, \n",
    "    # \"edgecolors\":'tab:red'\n",
    "    # alpha\":0.6\n",
    "}\n",
    "\n",
    "scatter_df = pd.DataFrame(columns=[\"loc\", \"vacc\", \"preval\"])\n",
    "\n",
    "resolution = 1001\n",
    "\n",
    "xlab = \"Vaccine coverage\"\n",
    "ylab = \"Prevalence (Infections)\"\n",
    "\n",
    "\n",
    "# Adjust here, for the visible range in plot:\n",
    "X = vacc_list = np.linspace(0, 1, resolution)\n",
    "Y = preval_list = np.linspace(0, 1, resolution)\n",
    "Z = np.array([[Re(R0, v, p) for v in vacc_list] for p in preval_list]) # Y=preval, X=vacc\n",
    "\n",
    "\n",
    "r0 = 4.7\n",
    "# res = np.linspace(0.05,0.95,numAreas)*r0\n",
    "res = np.arange(0,r0,0.25)\n",
    "numAreas = len(res)\n",
    "\n",
    "#ax.pcolor(X, Y, Z)\n",
    "# ax.contourf(X, Y, Z, 100, cmap=\"viridis\")\n",
    "ax.contourf(X, Y, Z, numAreas, cmap=\"Greys\")\n",
    "\n",
    "for i, re in enumerate([1]):\n",
    "    IsoVac = np.linspace(0,1-(re/r0),100)\n",
    "    ax.plot(IsoVac, (lambda V: P(re, r0, V))(IsoVac), alpha=0.8, color=\"orange\", label=int(i==0)*\"$R_{e} = 1$-Isocline\")\n",
    "\n",
    "heard_immune_color = lambda r0: int(r0<1)*\"green\" + int(r0>1)*\"red\" + int(r0==1)*\"orange\"\n",
    "hi_colors = [heard_immune_color(r) for r in res]\n",
    "\n",
    "# CS = ax.contour(X, Y, Z, levels=res, colors=hi_colors) # , cmap=\"plasma\") #, label=\"$R_{0}$-isoclines\")\n",
    "CS = ax.contour(X, Y, Z, levels=res, colors=hi_colors) # , cmap=\"plasma\") #, label=\"$R_{0}$-isoclines\")\n",
    "clab_pos = [(1-np.sqrt(y),1-np.sqrt(y)) for y in res/r0]\n",
    "#ax.scatter(*list(zip(*clab_pos)))\n",
    "ax.clabel(CS, inline=True, fontsize=10, manual=clab_pos)\n",
    "\n",
    "for loc, loc_data in data_df.groupby([\"location\"]):\n",
    "    \n",
    "    Prevals = loc_data.total_cases_per_million\n",
    "    Preval = Prevals.dropna().values[-1]/int(1e6)\n",
    "\n",
    "    Vaccs = loc_data.people_fully_vaccinated_per_hundred\n",
    "    Vacc = Vaccs.dropna().values[-1]/100\n",
    "    \n",
    "    # Comment this line to not show history...\n",
    "    ax.plot(Vaccs/100, Prevals/int(1e6), alpha=0.3)\n",
    "    \n",
    "    # present state in this parameter space:\n",
    "    ax.scatter(Vacc, Preval, **scatterstyle)\n",
    "    ax.annotate(loc, (Vacc, Preval))\n",
    "\n",
    "    # Currently not used:\n",
    "    row = {\"loc\":loc, \"vacc\":Vacc, \"preval\":Preval}\n",
    "    scatter_df = scatter_df.append(row, ignore_index=True)\n",
    "    print(loc, Vacc, Preval)\n",
    "    \n",
    "    #ax1.plot(loc_data.date, Prevals, label=loc)\n",
    "    #ax2.plot(loc_data.date, Vaccs, label=loc)\n",
    "    \n",
    "ax.legend()\n",
    "#ax2.legend()\n",
    "#data_df\n",
    "# ax.set_ylim([0,0.3])\n",
    "# ax.scatter(scatter_df.vacc, scatter_df.preval, **scatterstyle)\n",
    "ax.set_xlabel(xlab)\n",
    "ax.set_ylabel(ylab)\n",
    "\n",
    "# plt.savefig(\"figs/parameterspace_vacc_prevalence.png\")\n",
    "# plt.savefig(\"figs/parameterspace_vacc_prevalence.pdf\")\n",
    "scatter_df"
   ]
  },
  {
   "cell_type": "code",
   "execution_count": 13,
   "id": "oriental-commodity",
   "metadata": {},
   "outputs": [],
   "source": [
    "\n",
    "from matplotlib.colors import LinearSegmentedColormap\n",
    "# cmap = LinearSegmentedColormap.from_list('unnamed', \n",
    "#                                                     [\n",
    "#                                                         (0,1,0),\n",
    "#                                                         (1,0.9,0.7),\n",
    "#                                                         (1,0,0),\n",
    "#                                                         (1,0,0),\n",
    "#                                                         (1,0,0),\n",
    "#                                                         (1,0,0),\n",
    "#                                                     ] \n",
    "#                                                     , N=numAreas)"
   ]
  },
  {
   "cell_type": "code",
   "execution_count": 17,
   "metadata": {},
   "outputs": [
    {
     "name": "stderr",
     "output_type": "stream",
     "text": [
      "<ipython-input-17-c584ee7f4e8d>:10: SettingWithCopyWarning: \n",
      "A value is trying to be set on a copy of a slice from a DataFrame.\n",
      "Try using .loc[row_indexer,col_indexer] = value instead\n",
      "\n",
      "See the caveats in the documentation: https://pandas.pydata.org/pandas-docs/stable/user_guide/indexing.html#returning-a-view-versus-a-copy\n",
      "  data_df['date'] = pd.to_datetime(data_df.date)\n"
     ]
    },
    {
     "data": {
      "application/vnd.jupyter.widget-view+json": {
       "model_id": "543249a690d2471eb6dee9705991dce3",
       "version_major": 2,
       "version_minor": 0
      },
      "text/plain": [
       "Canvas(toolbar=Toolbar(toolitems=[('Home', 'Reset original view', 'home', 'home'), ('Back', 'Back to previous …"
      ]
     },
     "metadata": {},
     "output_type": "display_data"
    }
   ],
   "source": [
    "\n",
    "currentDate = np.datetime64('2021-10-26')\n",
    "\n",
    "all_loc = data_raw_df.location.unique()\n",
    "\n",
    "locs = [\"Denmark\", \"Latvia\", \"Poland\", \"Estonia\", \"Lithuania\", \"Spain\",\"Romania\",\"Georgia\",\"Germany\"]\n",
    "\n",
    "loc_filt = data_raw_df.location.isin(locs)\n",
    "\n",
    "data_df = data_raw_df.loc[loc_filt]\n",
    "data_df['date'] = pd.to_datetime(data_df.date)\n",
    "\n",
    "toUse = (data_df.date <= currentDate)\n",
    "data_df_period = data_df[toUse]\n",
    "# toUse\n",
    "\n",
    "#fig1, ax1 = plt.subplots()\n",
    "#fig2, ax2 = plt.subplots()\n",
    "fig, ax = plt.subplots(figsize=(12,12))\n",
    "\n",
    "scatterstyle = {\n",
    "    # \"color\":'tab:red', \n",
    "    # \"linestyle\":':', \n",
    "    # \"linewidth\":5, \n",
    "    \"marker\":'o', \n",
    "    # \"markersize\":5, \n",
    "    # \"edgecolors\":'tab:red'\n",
    "    # alpha\":0.6\n",
    "}\n",
    "\n",
    "scatter_df = pd.DataFrame(columns=[\"loc\", \"vacc\", \"preval\"])\n",
    "\n",
    "resolution = 1001\n",
    "\n",
    "xlab = \"Vaccine coverage\"\n",
    "ylab = \"Prevalence (Infections)\"\n",
    "\n",
    "\n",
    "\n",
    "minX = 0\n",
    "maxX = 1\n",
    "minY = 0\n",
    "maxY = 1\n",
    "\n",
    "minX = 0.3\n",
    "maxX = 1\n",
    "minY = 0\n",
    "maxY = 0.4\n",
    "\n",
    "# Adjust here, for the visible range in plot:\n",
    "X = vacc_list = np.linspace(minX, maxX, resolution)\n",
    "Y = preval_list = np.linspace(minY,maxY, resolution)\n",
    "Z = np.array([[Re(R0, v, p) for v in vacc_list] for p in preval_list]) # Y=preval, X=vacc\n",
    "\n",
    "\n",
    "\n",
    "r0 = 4.7\n",
    "# res = np.linspace(0.05,0.95,numAreas)*r0\n",
    "res = np.arange(0,5,0.25)\n",
    "numAreas = len(res)\n",
    "\n",
    "cmap = LinearSegmentedColormap.from_list('unnamed', \n",
    "                                                    [\n",
    "                                                        (0,1,0),\n",
    "                                                        (1,0.9,0.7),\n",
    "                                                        (1,0,0),\n",
    "                                                        (1,0,0),\n",
    "                                                        (1,0,0),\n",
    "                                                        (1,0,0),\n",
    "                                                    ] \n",
    "                                                    , N=numAreas)\n",
    "\n",
    "#ax.pcolor(X, Y, Z)\n",
    "# ax.contourf(X, Y, Z, 100, cmap=\"viridis\")\n",
    "# ax.contourf(X, Y, Z, numAreas, cmap=cmap)\n",
    "ax.contourf(X, Y, Z, levels=res,cmap=cmap)\n",
    "\n",
    "\n",
    "for i, re in enumerate([1]):\n",
    "    IsoVac = np.linspace(0,1-(re/r0),100)\n",
    "    ax.plot(IsoVac, (lambda V: P(re, r0, V))(IsoVac), linewidth = 10,alpha=0.5,zorder=5, color=\"grey\", label=int(i==0)*\"$R_{e} = 1$-Isocline\")\n",
    "\n",
    "# heard_immune_color = lambda r0: int(r0<1)*\"green\" + int(r0>1)*\"red\" + int(r0==1)*\"orange\"\n",
    "# hi_colors = [heard_immune_color(r) for r in res]\n",
    "\n",
    "# CS = ax.contour(X, Y, Z, levels=res, colors=hi_colors) # , cmap=\"plasma\") #, label=\"$R_{0}$-isoclines\")\n",
    "\n",
    "\n",
    "for loc, loc_data in data_df_period.groupby([\"location\"]):\n",
    "    \n",
    "    Prevals = loc_data.total_cases_per_million\n",
    "    Preval = Prevals.dropna().values[-1]/int(1e6)\n",
    "    # Prevals = 2* loc_data.total_cases_per_million\n",
    "    # Preval =  Prevals.dropna().values[-1]/int(1e6)\n",
    "\n",
    "    Vaccs = loc_data.people_fully_vaccinated_per_hundred\n",
    "    try:\n",
    "        Vacc = Vaccs.dropna().values[-1]/100\n",
    "    except:\n",
    "        Vacc = 0\n",
    "    \n",
    "    # Comment this line to not show history...\n",
    "    ax.plot(Vaccs/100, Prevals/int(1e6),'.', alpha=0.3,markersize=4)\n",
    "    \n",
    "    # present state in this parameter space:\n",
    "    ax.scatter(Vacc, Preval, **scatterstyle,zorder=12)\n",
    "    # curOffset = 0.01\n",
    "    # ax.annotate(loc, (Vacc+curOffset, Preval+curOffset),fontsize=16,zorder=11)\n",
    "    ax.annotate(loc, xy=(Vacc, Preval), xytext=(12, 5),textcoords='offset pixels',fontsize=16,zorder=11,bbox=dict(boxstyle=\"round4,pad=0.2\", fc=\"w\",alpha=0.7, ec=\"k\", lw=2))\n",
    "    # ax.annotate(loc, xy=(Vacc, Preval), xytext=(12, 5),textcoords='offset pixels',fontsize=16,zorder=12)\n",
    "    # ax.text(Vacc, Preval,loc ,fontsize=16,zorder=11)\n",
    "\n",
    "    # Currently not used:\n",
    "    row = {\"loc\":loc, \"vacc\":Vacc, \"preval\":Preval}\n",
    "    scatter_df = scatter_df.append(row, ignore_index=True)\n",
    "    \n",
    "CS = ax.contour(X, Y, Z, levels=res, zorder=6,colors='k') \n",
    "# clab_pos = [(1-np.sqrt(y),1-np.sqrt(y)) for y in res/r0]\n",
    "clab_pos = [(1-np.sqrt(y),1-np.sqrt(y)) for y in res/r0]\n",
    "# #ax.scatter(*list(zip(*clab_pos)))\n",
    "# ax.clabel(CS, inline=True, fontsize=10, manual=clab_pos)\n",
    "# clab_pos = [(y,0.025) for y in res/r0]\n",
    "# clab_pos = [(y,0.025) for y in np.linspace(0,1,numAreas)]\n",
    "# numLabelsToShow = numAreas\n",
    "# clab_pos = list(zip(np.linspace(minX,maxX,numLabelsToShow),np.linspace(minY,maxY,numLabelsToShow)))\n",
    "ax.clabel(CS,fmt='%.2f', inline=True, fontsize=10,manual=clab_pos)\n",
    "# ax.clabel(CS,fmt='%.2f', inline=True, fontsize=10)\n",
    "    \n",
    "# ax.axis('equal')\n",
    "ax.set_xlim([minX,maxX])\n",
    "ax.set_ylim([minY,maxY])\n",
    "\n",
    "# ax.legend()\n",
    "#ax2.legend()\n",
    "#data_df\n",
    "# ax.set_ylim([0,0.3])\n",
    "# ax.scatter(scatter_df.vacc, scatter_df.preval, **scatterstyle)\n",
    "ax.set_xlabel(xlab)\n",
    "ax.set_ylabel(ylab)\n",
    "# plt.tight_layout()\n",
    "\n",
    "plt.title(f'{currentDate}')\n",
    "plt.show()\n",
    "\n",
    "# # plt.savefig(f'figs/anim/ParameterSpace_{currentDate}')\n",
    "# plt.savefig(f'figs/anim/frame{counter:1.0f}')\n",
    "# counter = counter+1\n",
    "\n",
    "# plt.close('all')"
   ]
  },
  {
   "cell_type": "code",
   "execution_count": null,
   "metadata": {},
   "outputs": [],
   "source": [
    "\n",
    "# currentDate = np.datetime64('2021-08')\n",
    "\n",
    "counter = 0\n",
    "# for currentDate in np.arange(np.datetime64('2021-01'),np.datetime64('2021-12')):\n",
    "# for currentDate in np.arange(np.datetime64('2021-04-01'),np.datetime64('2021-11-01')):\n",
    "# for currentDate in np.arange(np.datetime64('2021-04-01'),np.datetime64('2021-11-15'),np.timedelta64(7,'D')):\n",
    "for currentDate in np.arange(np.datetime64('2021-04-01'),np.datetime64('2021-11-01'),np.timedelta64(1,'D')):\n",
    "\n",
    "    all_loc = data_raw_df.location.unique()\n",
    "\n",
    "    locs = [\"Denmark\", \"Latvia\", \"Poland\", \"Estonia\", \"Lithuania\", \"Spain\",\"Romania\",\"Georgia\",\"Germany\"]\n",
    "\n",
    "    loc_filt = data_raw_df.location.isin(locs)\n",
    "\n",
    "    data_df = data_raw_df.loc[loc_filt]\n",
    "    data_df['date'] = pd.to_datetime(data_df.date)\n",
    "\n",
    "    toUse = (data_df.date <= currentDate)\n",
    "    data_df_period = data_df[toUse]\n",
    "    # toUse\n",
    "\n",
    "    #fig1, ax1 = plt.subplots()\n",
    "    #fig2, ax2 = plt.subplots()\n",
    "    fig, ax = plt.subplots(figsize=(12,12))\n",
    "\n",
    "    scatterstyle = {\n",
    "        # \"color\":'tab:red', \n",
    "        # \"linestyle\":':', \n",
    "        # \"linewidth\":5, \n",
    "        \"marker\":'o', \n",
    "        # \"markersize\":5, \n",
    "        # \"edgecolors\":'tab:red'\n",
    "        # alpha\":0.6\n",
    "    }\n",
    "\n",
    "    scatter_df = pd.DataFrame(columns=[\"loc\", \"vacc\", \"preval\"])\n",
    "\n",
    "    resolution = 1001\n",
    "\n",
    "    xlab = \"Vaccine coverage\"\n",
    "    ylab = \"Prevalence (Infections)\"\n",
    "\n",
    "\n",
    "\n",
    "    minX = 0\n",
    "    maxX = 1\n",
    "    minY = 0\n",
    "    maxY = 1\n",
    "\n",
    "    # minX = 0.3\n",
    "    # maxX = 1\n",
    "    # minY = 0\n",
    "    # maxY = 0.5\n",
    "\n",
    "    # Adjust here, for the visible range in plot:\n",
    "    X = vacc_list = np.linspace(minX, maxX, resolution)\n",
    "    Y = preval_list = np.linspace(minY,maxY, resolution)\n",
    "    Z = np.array([[Re(R0, v, p) for v in vacc_list] for p in preval_list]) # Y=preval, X=vacc\n",
    "\n",
    "\n",
    "\n",
    "    r0 = 4.7\n",
    "    # res = np.linspace(0.05,0.95,numAreas)*r0\n",
    "    res = np.arange(0,5,0.25)\n",
    "    numAreas = len(res)\n",
    "\n",
    "    cmap = LinearSegmentedColormap.from_list('unnamed', \n",
    "                                                        [\n",
    "                                                            (0,1,0),\n",
    "                                                            (1,0.9,0.7),\n",
    "                                                            (1,0,0),\n",
    "                                                            (1,0,0),\n",
    "                                                            (1,0,0),\n",
    "                                                            (1,0,0),\n",
    "                                                        ] \n",
    "                                                        , N=numAreas)\n",
    "\n",
    "    #ax.pcolor(X, Y, Z)\n",
    "    # ax.contourf(X, Y, Z, 100, cmap=\"viridis\")\n",
    "    # ax.contourf(X, Y, Z, numAreas, cmap=cmap)\n",
    "    ax.contourf(X, Y, Z, levels=res,cmap=cmap)\n",
    "\n",
    "\n",
    "    for i, re in enumerate([1]):\n",
    "        IsoVac = np.linspace(0,1-(re/r0),100)\n",
    "        ax.plot(IsoVac, (lambda V: P(re, r0, V))(IsoVac), linewidth = 10,alpha=0.5,zorder=5, color=\"grey\", label=int(i==0)*\"$R_{e} = 1$-Isocline\")\n",
    "\n",
    "    # heard_immune_color = lambda r0: int(r0<1)*\"green\" + int(r0>1)*\"red\" + int(r0==1)*\"orange\"\n",
    "    # hi_colors = [heard_immune_color(r) for r in res]\n",
    "\n",
    "    # CS = ax.contour(X, Y, Z, levels=res, colors=hi_colors) # , cmap=\"plasma\") #, label=\"$R_{0}$-isoclines\")\n",
    "\n",
    "\n",
    "    for loc, loc_data in data_df_period.groupby([\"location\"]):\n",
    "        \n",
    "        # Prevals = loc_data.total_cases_per_million\n",
    "        # Preval = Prevals.dropna().values[-1]/int(1e6)\n",
    "        Prevals = 2* loc_data.total_cases_per_million\n",
    "        Preval =  Prevals.dropna().values[-1]/int(1e6)\n",
    "\n",
    "        Vaccs = loc_data.people_fully_vaccinated_per_hundred\n",
    "        try:\n",
    "            Vacc = Vaccs.dropna().values[-1]/100\n",
    "        except:\n",
    "            Vacc = 0\n",
    "        \n",
    "        # Comment this line to not show history...\n",
    "        ax.plot(Vaccs/100, Prevals/int(1e6),'.', alpha=0.3,markersize=4)\n",
    "        \n",
    "        # present state in this parameter space:\n",
    "        ax.scatter(Vacc, Preval, **scatterstyle,zorder=12)\n",
    "        # curOffset = 0.01\n",
    "        # ax.annotate(loc, (Vacc+curOffset, Preval+curOffset),fontsize=16,zorder=11)\n",
    "        ax.annotate(loc, xy=(Vacc, Preval), xytext=(12, 5),textcoords='offset pixels',fontsize=16,zorder=11,bbox=dict(boxstyle=\"round4,pad=0.2\", fc=\"w\",alpha=0.7, ec=\"k\", lw=2))\n",
    "        # ax.annotate(loc, xy=(Vacc, Preval), xytext=(12, 5),textcoords='offset pixels',fontsize=16,zorder=12)\n",
    "        # ax.text(Vacc, Preval,loc ,fontsize=16,zorder=11)\n",
    "\n",
    "        # Currently not used:\n",
    "        row = {\"loc\":loc, \"vacc\":Vacc, \"preval\":Preval}\n",
    "        scatter_df = scatter_df.append(row, ignore_index=True)\n",
    "        \n",
    "    CS = ax.contour(X, Y, Z, levels=res, zorder=6,colors='k') \n",
    "    # clab_pos = [(1-np.sqrt(y),1-np.sqrt(y)) for y in res/r0]\n",
    "    clab_pos = [(1-np.sqrt(y),1-np.sqrt(y)) for y in res/r0]\n",
    "    # #ax.scatter(*list(zip(*clab_pos)))\n",
    "    # ax.clabel(CS, inline=True, fontsize=10, manual=clab_pos)\n",
    "    # clab_pos = [(y,0.025) for y in res/r0]\n",
    "    # clab_pos = [(y,0.025) for y in np.linspace(0,1,numAreas)]\n",
    "    # numLabelsToShow = numAreas\n",
    "    # clab_pos = list(zip(np.linspace(minX,maxX,numLabelsToShow),np.linspace(minY,maxY,numLabelsToShow)))\n",
    "    ax.clabel(CS,fmt='%.2f', inline=True, fontsize=10,manual=clab_pos)\n",
    "    # ax.clabel(CS,fmt='%.2f', inline=True, fontsize=10)\n",
    "        \n",
    "    # ax.axis('equal')\n",
    "    ax.set_xlim([minX,maxX])\n",
    "    ax.set_ylim([minY,maxY])\n",
    "\n",
    "    # ax.legend()\n",
    "    #ax2.legend()\n",
    "    #data_df\n",
    "    # ax.set_ylim([0,0.3])\n",
    "    # ax.scatter(scatter_df.vacc, scatter_df.preval, **scatterstyle)\n",
    "    ax.set_xlabel(xlab)\n",
    "    ax.set_ylabel(ylab)\n",
    "    # plt.tight_layout()\n",
    "    \n",
    "    plt.title(f'{currentDate}')\n",
    "    plt.show()\n",
    "    \n",
    "    # plt.savefig(f'figs/anim/ParameterSpace_{currentDate}')\n",
    "    plt.savefig(f'figs/anim/frame{counter:1.0f}')\n",
    "    counter = counter+1\n",
    "    \n",
    "    plt.close('all')"
   ]
  },
  {
   "cell_type": "code",
   "execution_count": null,
   "metadata": {},
   "outputs": [
    {
     "name": "stderr",
     "output_type": "stream",
     "text": [
      "<ipython-input-13-7fb31394390a>:15: SettingWithCopyWarning: \n",
      "A value is trying to be set on a copy of a slice from a DataFrame.\n",
      "Try using .loc[row_indexer,col_indexer] = value instead\n",
      "\n",
      "See the caveats in the documentation: https://pandas.pydata.org/pandas-docs/stable/user_guide/indexing.html#returning-a-view-versus-a-copy\n",
      "  data_df['date'] = pd.to_datetime(data_df.date)\n"
     ]
    },
    {
     "data": {
      "application/vnd.jupyter.widget-view+json": {
       "model_id": "2d681a2fe25d459abe84918a1a9146a9",
       "version_major": 2,
       "version_minor": 0
      },
      "text/plain": [
       "Canvas(toolbar=Toolbar(toolitems=[('Home', 'Reset original view', 'home', 'home'), ('Back', 'Back to previous …"
      ]
     },
     "metadata": {},
     "output_type": "display_data"
    },
    {
     "name": "stderr",
     "output_type": "stream",
     "text": [
      "<ipython-input-13-7fb31394390a>:15: SettingWithCopyWarning: \n",
      "A value is trying to be set on a copy of a slice from a DataFrame.\n",
      "Try using .loc[row_indexer,col_indexer] = value instead\n",
      "\n",
      "See the caveats in the documentation: https://pandas.pydata.org/pandas-docs/stable/user_guide/indexing.html#returning-a-view-versus-a-copy\n",
      "  data_df['date'] = pd.to_datetime(data_df.date)\n"
     ]
    },
    {
     "data": {
      "application/vnd.jupyter.widget-view+json": {
       "model_id": "2ee47e01d7c14582aedd6a22b49bb452",
       "version_major": 2,
       "version_minor": 0
      },
      "text/plain": [
       "Canvas(toolbar=Toolbar(toolitems=[('Home', 'Reset original view', 'home', 'home'), ('Back', 'Back to previous …"
      ]
     },
     "metadata": {},
     "output_type": "display_data"
    },
    {
     "name": "stderr",
     "output_type": "stream",
     "text": [
      "<ipython-input-13-7fb31394390a>:15: SettingWithCopyWarning: \n",
      "A value is trying to be set on a copy of a slice from a DataFrame.\n",
      "Try using .loc[row_indexer,col_indexer] = value instead\n",
      "\n",
      "See the caveats in the documentation: https://pandas.pydata.org/pandas-docs/stable/user_guide/indexing.html#returning-a-view-versus-a-copy\n",
      "  data_df['date'] = pd.to_datetime(data_df.date)\n"
     ]
    },
    {
     "data": {
      "application/vnd.jupyter.widget-view+json": {
       "model_id": "52b059788f334a4b9c614d9835c6f24d",
       "version_major": 2,
       "version_minor": 0
      },
      "text/plain": [
       "Canvas(toolbar=Toolbar(toolitems=[('Home', 'Reset original view', 'home', 'home'), ('Back', 'Back to previous …"
      ]
     },
     "metadata": {},
     "output_type": "display_data"
    },
    {
     "name": "stderr",
     "output_type": "stream",
     "text": [
      "<ipython-input-13-7fb31394390a>:15: SettingWithCopyWarning: \n",
      "A value is trying to be set on a copy of a slice from a DataFrame.\n",
      "Try using .loc[row_indexer,col_indexer] = value instead\n",
      "\n",
      "See the caveats in the documentation: https://pandas.pydata.org/pandas-docs/stable/user_guide/indexing.html#returning-a-view-versus-a-copy\n",
      "  data_df['date'] = pd.to_datetime(data_df.date)\n"
     ]
    },
    {
     "data": {
      "application/vnd.jupyter.widget-view+json": {
       "model_id": "f684c96f2fb247f9aff00a43f1243f79",
       "version_major": 2,
       "version_minor": 0
      },
      "text/plain": [
       "Canvas(toolbar=Toolbar(toolitems=[('Home', 'Reset original view', 'home', 'home'), ('Back', 'Back to previous …"
      ]
     },
     "metadata": {},
     "output_type": "display_data"
    },
    {
     "name": "stderr",
     "output_type": "stream",
     "text": [
      "<ipython-input-13-7fb31394390a>:15: SettingWithCopyWarning: \n",
      "A value is trying to be set on a copy of a slice from a DataFrame.\n",
      "Try using .loc[row_indexer,col_indexer] = value instead\n",
      "\n",
      "See the caveats in the documentation: https://pandas.pydata.org/pandas-docs/stable/user_guide/indexing.html#returning-a-view-versus-a-copy\n",
      "  data_df['date'] = pd.to_datetime(data_df.date)\n"
     ]
    },
    {
     "data": {
      "application/vnd.jupyter.widget-view+json": {
       "model_id": "6b7091023ef940f39d2defca131a7be8",
       "version_major": 2,
       "version_minor": 0
      },
      "text/plain": [
       "Canvas(toolbar=Toolbar(toolitems=[('Home', 'Reset original view', 'home', 'home'), ('Back', 'Back to previous …"
      ]
     },
     "metadata": {},
     "output_type": "display_data"
    },
    {
     "name": "stderr",
     "output_type": "stream",
     "text": [
      "<ipython-input-13-7fb31394390a>:15: SettingWithCopyWarning: \n",
      "A value is trying to be set on a copy of a slice from a DataFrame.\n",
      "Try using .loc[row_indexer,col_indexer] = value instead\n",
      "\n",
      "See the caveats in the documentation: https://pandas.pydata.org/pandas-docs/stable/user_guide/indexing.html#returning-a-view-versus-a-copy\n",
      "  data_df['date'] = pd.to_datetime(data_df.date)\n"
     ]
    },
    {
     "data": {
      "application/vnd.jupyter.widget-view+json": {
       "model_id": "b157ee8453da4593b237e889cf3aacee",
       "version_major": 2,
       "version_minor": 0
      },
      "text/plain": [
       "Canvas(toolbar=Toolbar(toolitems=[('Home', 'Reset original view', 'home', 'home'), ('Back', 'Back to previous …"
      ]
     },
     "metadata": {},
     "output_type": "display_data"
    },
    {
     "name": "stderr",
     "output_type": "stream",
     "text": [
      "<ipython-input-13-7fb31394390a>:15: SettingWithCopyWarning: \n",
      "A value is trying to be set on a copy of a slice from a DataFrame.\n",
      "Try using .loc[row_indexer,col_indexer] = value instead\n",
      "\n",
      "See the caveats in the documentation: https://pandas.pydata.org/pandas-docs/stable/user_guide/indexing.html#returning-a-view-versus-a-copy\n",
      "  data_df['date'] = pd.to_datetime(data_df.date)\n"
     ]
    },
    {
     "data": {
      "application/vnd.jupyter.widget-view+json": {
       "model_id": "e2151f99f7fc46ca9d2b6ff1fb584162",
       "version_major": 2,
       "version_minor": 0
      },
      "text/plain": [
       "Canvas(toolbar=Toolbar(toolitems=[('Home', 'Reset original view', 'home', 'home'), ('Back', 'Back to previous …"
      ]
     },
     "metadata": {},
     "output_type": "display_data"
    },
    {
     "name": "stderr",
     "output_type": "stream",
     "text": [
      "<ipython-input-13-7fb31394390a>:15: SettingWithCopyWarning: \n",
      "A value is trying to be set on a copy of a slice from a DataFrame.\n",
      "Try using .loc[row_indexer,col_indexer] = value instead\n",
      "\n",
      "See the caveats in the documentation: https://pandas.pydata.org/pandas-docs/stable/user_guide/indexing.html#returning-a-view-versus-a-copy\n",
      "  data_df['date'] = pd.to_datetime(data_df.date)\n"
     ]
    },
    {
     "data": {
      "application/vnd.jupyter.widget-view+json": {
       "model_id": "c6a5626031504d7f9ff4f7dc8f68b212",
       "version_major": 2,
       "version_minor": 0
      },
      "text/plain": [
       "Canvas(toolbar=Toolbar(toolitems=[('Home', 'Reset original view', 'home', 'home'), ('Back', 'Back to previous …"
      ]
     },
     "metadata": {},
     "output_type": "display_data"
    },
    {
     "name": "stderr",
     "output_type": "stream",
     "text": [
      "<ipython-input-13-7fb31394390a>:15: SettingWithCopyWarning: \n",
      "A value is trying to be set on a copy of a slice from a DataFrame.\n",
      "Try using .loc[row_indexer,col_indexer] = value instead\n",
      "\n",
      "See the caveats in the documentation: https://pandas.pydata.org/pandas-docs/stable/user_guide/indexing.html#returning-a-view-versus-a-copy\n",
      "  data_df['date'] = pd.to_datetime(data_df.date)\n"
     ]
    },
    {
     "data": {
      "application/vnd.jupyter.widget-view+json": {
       "model_id": "dbf2259a0b7045b78394fbbca440a45f",
       "version_major": 2,
       "version_minor": 0
      },
      "text/plain": [
       "Canvas(toolbar=Toolbar(toolitems=[('Home', 'Reset original view', 'home', 'home'), ('Back', 'Back to previous …"
      ]
     },
     "metadata": {},
     "output_type": "display_data"
    },
    {
     "name": "stderr",
     "output_type": "stream",
     "text": [
      "<ipython-input-13-7fb31394390a>:15: SettingWithCopyWarning: \n",
      "A value is trying to be set on a copy of a slice from a DataFrame.\n",
      "Try using .loc[row_indexer,col_indexer] = value instead\n",
      "\n",
      "See the caveats in the documentation: https://pandas.pydata.org/pandas-docs/stable/user_guide/indexing.html#returning-a-view-versus-a-copy\n",
      "  data_df['date'] = pd.to_datetime(data_df.date)\n"
     ]
    },
    {
     "data": {
      "application/vnd.jupyter.widget-view+json": {
       "model_id": "eccf9fc12e8b42dc8952a599e01b2ca4",
       "version_major": 2,
       "version_minor": 0
      },
      "text/plain": [
       "Canvas(toolbar=Toolbar(toolitems=[('Home', 'Reset original view', 'home', 'home'), ('Back', 'Back to previous …"
      ]
     },
     "metadata": {},
     "output_type": "display_data"
    },
    {
     "name": "stderr",
     "output_type": "stream",
     "text": [
      "<ipython-input-13-7fb31394390a>:15: SettingWithCopyWarning: \n",
      "A value is trying to be set on a copy of a slice from a DataFrame.\n",
      "Try using .loc[row_indexer,col_indexer] = value instead\n",
      "\n",
      "See the caveats in the documentation: https://pandas.pydata.org/pandas-docs/stable/user_guide/indexing.html#returning-a-view-versus-a-copy\n",
      "  data_df['date'] = pd.to_datetime(data_df.date)\n"
     ]
    },
    {
     "data": {
      "application/vnd.jupyter.widget-view+json": {
       "model_id": "6d9bc0794f6f4ad9b43d68b1410db70c",
       "version_major": 2,
       "version_minor": 0
      },
      "text/plain": [
       "Canvas(toolbar=Toolbar(toolitems=[('Home', 'Reset original view', 'home', 'home'), ('Back', 'Back to previous …"
      ]
     },
     "metadata": {},
     "output_type": "display_data"
    },
    {
     "name": "stderr",
     "output_type": "stream",
     "text": [
      "<ipython-input-13-7fb31394390a>:15: SettingWithCopyWarning: \n",
      "A value is trying to be set on a copy of a slice from a DataFrame.\n",
      "Try using .loc[row_indexer,col_indexer] = value instead\n",
      "\n",
      "See the caveats in the documentation: https://pandas.pydata.org/pandas-docs/stable/user_guide/indexing.html#returning-a-view-versus-a-copy\n",
      "  data_df['date'] = pd.to_datetime(data_df.date)\n"
     ]
    },
    {
     "data": {
      "application/vnd.jupyter.widget-view+json": {
       "model_id": "26abd4abc3954046b430b20aca8f0021",
       "version_major": 2,
       "version_minor": 0
      },
      "text/plain": [
       "Canvas(toolbar=Toolbar(toolitems=[('Home', 'Reset original view', 'home', 'home'), ('Back', 'Back to previous …"
      ]
     },
     "metadata": {},
     "output_type": "display_data"
    },
    {
     "name": "stderr",
     "output_type": "stream",
     "text": [
      "<ipython-input-13-7fb31394390a>:15: SettingWithCopyWarning: \n",
      "A value is trying to be set on a copy of a slice from a DataFrame.\n",
      "Try using .loc[row_indexer,col_indexer] = value instead\n",
      "\n",
      "See the caveats in the documentation: https://pandas.pydata.org/pandas-docs/stable/user_guide/indexing.html#returning-a-view-versus-a-copy\n",
      "  data_df['date'] = pd.to_datetime(data_df.date)\n"
     ]
    },
    {
     "data": {
      "application/vnd.jupyter.widget-view+json": {
       "model_id": "9085d691bb994d58b75c9aacca723afe",
       "version_major": 2,
       "version_minor": 0
      },
      "text/plain": [
       "Canvas(toolbar=Toolbar(toolitems=[('Home', 'Reset original view', 'home', 'home'), ('Back', 'Back to previous …"
      ]
     },
     "metadata": {},
     "output_type": "display_data"
    },
    {
     "name": "stderr",
     "output_type": "stream",
     "text": [
      "<ipython-input-13-7fb31394390a>:15: SettingWithCopyWarning: \n",
      "A value is trying to be set on a copy of a slice from a DataFrame.\n",
      "Try using .loc[row_indexer,col_indexer] = value instead\n",
      "\n",
      "See the caveats in the documentation: https://pandas.pydata.org/pandas-docs/stable/user_guide/indexing.html#returning-a-view-versus-a-copy\n",
      "  data_df['date'] = pd.to_datetime(data_df.date)\n"
     ]
    },
    {
     "data": {
      "application/vnd.jupyter.widget-view+json": {
       "model_id": "8391203a49ab4c2cab220d346ff19867",
       "version_major": 2,
       "version_minor": 0
      },
      "text/plain": [
       "Canvas(toolbar=Toolbar(toolitems=[('Home', 'Reset original view', 'home', 'home'), ('Back', 'Back to previous …"
      ]
     },
     "metadata": {},
     "output_type": "display_data"
    },
    {
     "name": "stderr",
     "output_type": "stream",
     "text": [
      "<ipython-input-13-7fb31394390a>:15: SettingWithCopyWarning: \n",
      "A value is trying to be set on a copy of a slice from a DataFrame.\n",
      "Try using .loc[row_indexer,col_indexer] = value instead\n",
      "\n",
      "See the caveats in the documentation: https://pandas.pydata.org/pandas-docs/stable/user_guide/indexing.html#returning-a-view-versus-a-copy\n",
      "  data_df['date'] = pd.to_datetime(data_df.date)\n"
     ]
    },
    {
     "data": {
      "application/vnd.jupyter.widget-view+json": {
       "model_id": "f698981ccb0c4fcca2f37f6e1b339a11",
       "version_major": 2,
       "version_minor": 0
      },
      "text/plain": [
       "Canvas(toolbar=Toolbar(toolitems=[('Home', 'Reset original view', 'home', 'home'), ('Back', 'Back to previous …"
      ]
     },
     "metadata": {},
     "output_type": "display_data"
    },
    {
     "name": "stderr",
     "output_type": "stream",
     "text": [
      "<ipython-input-13-7fb31394390a>:15: SettingWithCopyWarning: \n",
      "A value is trying to be set on a copy of a slice from a DataFrame.\n",
      "Try using .loc[row_indexer,col_indexer] = value instead\n",
      "\n",
      "See the caveats in the documentation: https://pandas.pydata.org/pandas-docs/stable/user_guide/indexing.html#returning-a-view-versus-a-copy\n",
      "  data_df['date'] = pd.to_datetime(data_df.date)\n"
     ]
    },
    {
     "data": {
      "application/vnd.jupyter.widget-view+json": {
       "model_id": "75bc497c328048ad8437829b3a89f2ba",
       "version_major": 2,
       "version_minor": 0
      },
      "text/plain": [
       "Canvas(toolbar=Toolbar(toolitems=[('Home', 'Reset original view', 'home', 'home'), ('Back', 'Back to previous …"
      ]
     },
     "metadata": {},
     "output_type": "display_data"
    },
    {
     "name": "stderr",
     "output_type": "stream",
     "text": [
      "<ipython-input-13-7fb31394390a>:15: SettingWithCopyWarning: \n",
      "A value is trying to be set on a copy of a slice from a DataFrame.\n",
      "Try using .loc[row_indexer,col_indexer] = value instead\n",
      "\n",
      "See the caveats in the documentation: https://pandas.pydata.org/pandas-docs/stable/user_guide/indexing.html#returning-a-view-versus-a-copy\n",
      "  data_df['date'] = pd.to_datetime(data_df.date)\n"
     ]
    },
    {
     "data": {
      "application/vnd.jupyter.widget-view+json": {
       "model_id": "c67947a9bf3e4e68b97dd60fd8b4b4c0",
       "version_major": 2,
       "version_minor": 0
      },
      "text/plain": [
       "Canvas(toolbar=Toolbar(toolitems=[('Home', 'Reset original view', 'home', 'home'), ('Back', 'Back to previous …"
      ]
     },
     "metadata": {},
     "output_type": "display_data"
    },
    {
     "name": "stderr",
     "output_type": "stream",
     "text": [
      "<ipython-input-13-7fb31394390a>:15: SettingWithCopyWarning: \n",
      "A value is trying to be set on a copy of a slice from a DataFrame.\n",
      "Try using .loc[row_indexer,col_indexer] = value instead\n",
      "\n",
      "See the caveats in the documentation: https://pandas.pydata.org/pandas-docs/stable/user_guide/indexing.html#returning-a-view-versus-a-copy\n",
      "  data_df['date'] = pd.to_datetime(data_df.date)\n"
     ]
    },
    {
     "data": {
      "application/vnd.jupyter.widget-view+json": {
       "model_id": "e2f43d34feaa47efa24b97be4c2b4f42",
       "version_major": 2,
       "version_minor": 0
      },
      "text/plain": [
       "Canvas(toolbar=Toolbar(toolitems=[('Home', 'Reset original view', 'home', 'home'), ('Back', 'Back to previous …"
      ]
     },
     "metadata": {},
     "output_type": "display_data"
    },
    {
     "name": "stderr",
     "output_type": "stream",
     "text": [
      "<ipython-input-13-7fb31394390a>:15: SettingWithCopyWarning: \n",
      "A value is trying to be set on a copy of a slice from a DataFrame.\n",
      "Try using .loc[row_indexer,col_indexer] = value instead\n",
      "\n",
      "See the caveats in the documentation: https://pandas.pydata.org/pandas-docs/stable/user_guide/indexing.html#returning-a-view-versus-a-copy\n",
      "  data_df['date'] = pd.to_datetime(data_df.date)\n"
     ]
    },
    {
     "data": {
      "application/vnd.jupyter.widget-view+json": {
       "model_id": "0aee2a23cc284ddfb3dd9356d4972ac4",
       "version_major": 2,
       "version_minor": 0
      },
      "text/plain": [
       "Canvas(toolbar=Toolbar(toolitems=[('Home', 'Reset original view', 'home', 'home'), ('Back', 'Back to previous …"
      ]
     },
     "metadata": {},
     "output_type": "display_data"
    },
    {
     "name": "stderr",
     "output_type": "stream",
     "text": [
      "<ipython-input-13-7fb31394390a>:15: SettingWithCopyWarning: \n",
      "A value is trying to be set on a copy of a slice from a DataFrame.\n",
      "Try using .loc[row_indexer,col_indexer] = value instead\n",
      "\n",
      "See the caveats in the documentation: https://pandas.pydata.org/pandas-docs/stable/user_guide/indexing.html#returning-a-view-versus-a-copy\n",
      "  data_df['date'] = pd.to_datetime(data_df.date)\n",
      "<ipython-input-13-7fb31394390a>:23: RuntimeWarning: More than 20 figures have been opened. Figures created through the pyplot interface (`matplotlib.pyplot.figure`) are retained until explicitly closed and may consume too much memory. (To control this warning, see the rcParam `figure.max_open_warning`).\n",
      "  fig, ax = plt.subplots(figsize=(12,12))\n"
     ]
    },
    {
     "data": {
      "application/vnd.jupyter.widget-view+json": {
       "model_id": "9f3e680578f34c12bf7914ba76b5c53a",
       "version_major": 2,
       "version_minor": 0
      },
      "text/plain": [
       "Canvas(toolbar=Toolbar(toolitems=[('Home', 'Reset original view', 'home', 'home'), ('Back', 'Back to previous …"
      ]
     },
     "metadata": {},
     "output_type": "display_data"
    },
    {
     "name": "stderr",
     "output_type": "stream",
     "text": [
      "<ipython-input-13-7fb31394390a>:15: SettingWithCopyWarning: \n",
      "A value is trying to be set on a copy of a slice from a DataFrame.\n",
      "Try using .loc[row_indexer,col_indexer] = value instead\n",
      "\n",
      "See the caveats in the documentation: https://pandas.pydata.org/pandas-docs/stable/user_guide/indexing.html#returning-a-view-versus-a-copy\n",
      "  data_df['date'] = pd.to_datetime(data_df.date)\n"
     ]
    },
    {
     "data": {
      "application/vnd.jupyter.widget-view+json": {
       "model_id": "732e63547b2c45b1848bd03207314afa",
       "version_major": 2,
       "version_minor": 0
      },
      "text/plain": [
       "Canvas(toolbar=Toolbar(toolitems=[('Home', 'Reset original view', 'home', 'home'), ('Back', 'Back to previous …"
      ]
     },
     "metadata": {},
     "output_type": "display_data"
    },
    {
     "name": "stderr",
     "output_type": "stream",
     "text": [
      "<ipython-input-13-7fb31394390a>:15: SettingWithCopyWarning: \n",
      "A value is trying to be set on a copy of a slice from a DataFrame.\n",
      "Try using .loc[row_indexer,col_indexer] = value instead\n",
      "\n",
      "See the caveats in the documentation: https://pandas.pydata.org/pandas-docs/stable/user_guide/indexing.html#returning-a-view-versus-a-copy\n",
      "  data_df['date'] = pd.to_datetime(data_df.date)\n"
     ]
    },
    {
     "data": {
      "application/vnd.jupyter.widget-view+json": {
       "model_id": "5dcff80120064ef796f63ee697b9d45c",
       "version_major": 2,
       "version_minor": 0
      },
      "text/plain": [
       "Canvas(toolbar=Toolbar(toolitems=[('Home', 'Reset original view', 'home', 'home'), ('Back', 'Back to previous …"
      ]
     },
     "metadata": {},
     "output_type": "display_data"
    },
    {
     "name": "stderr",
     "output_type": "stream",
     "text": [
      "<ipython-input-13-7fb31394390a>:15: SettingWithCopyWarning: \n",
      "A value is trying to be set on a copy of a slice from a DataFrame.\n",
      "Try using .loc[row_indexer,col_indexer] = value instead\n",
      "\n",
      "See the caveats in the documentation: https://pandas.pydata.org/pandas-docs/stable/user_guide/indexing.html#returning-a-view-versus-a-copy\n",
      "  data_df['date'] = pd.to_datetime(data_df.date)\n"
     ]
    },
    {
     "data": {
      "application/vnd.jupyter.widget-view+json": {
       "model_id": "6060e71dcdab42e9982602f3aac66225",
       "version_major": 2,
       "version_minor": 0
      },
      "text/plain": [
       "Canvas(toolbar=Toolbar(toolitems=[('Home', 'Reset original view', 'home', 'home'), ('Back', 'Back to previous …"
      ]
     },
     "metadata": {},
     "output_type": "display_data"
    },
    {
     "name": "stderr",
     "output_type": "stream",
     "text": [
      "<ipython-input-13-7fb31394390a>:15: SettingWithCopyWarning: \n",
      "A value is trying to be set on a copy of a slice from a DataFrame.\n",
      "Try using .loc[row_indexer,col_indexer] = value instead\n",
      "\n",
      "See the caveats in the documentation: https://pandas.pydata.org/pandas-docs/stable/user_guide/indexing.html#returning-a-view-versus-a-copy\n",
      "  data_df['date'] = pd.to_datetime(data_df.date)\n"
     ]
    },
    {
     "data": {
      "application/vnd.jupyter.widget-view+json": {
       "model_id": "cc30be7614754838a360b67a1797fe45",
       "version_major": 2,
       "version_minor": 0
      },
      "text/plain": [
       "Canvas(toolbar=Toolbar(toolitems=[('Home', 'Reset original view', 'home', 'home'), ('Back', 'Back to previous …"
      ]
     },
     "metadata": {},
     "output_type": "display_data"
    },
    {
     "name": "stderr",
     "output_type": "stream",
     "text": [
      "<ipython-input-13-7fb31394390a>:15: SettingWithCopyWarning: \n",
      "A value is trying to be set on a copy of a slice from a DataFrame.\n",
      "Try using .loc[row_indexer,col_indexer] = value instead\n",
      "\n",
      "See the caveats in the documentation: https://pandas.pydata.org/pandas-docs/stable/user_guide/indexing.html#returning-a-view-versus-a-copy\n",
      "  data_df['date'] = pd.to_datetime(data_df.date)\n"
     ]
    },
    {
     "data": {
      "application/vnd.jupyter.widget-view+json": {
       "model_id": "e9120219a0e14dab96b6acfd7267c062",
       "version_major": 2,
       "version_minor": 0
      },
      "text/plain": [
       "Canvas(toolbar=Toolbar(toolitems=[('Home', 'Reset original view', 'home', 'home'), ('Back', 'Back to previous …"
      ]
     },
     "metadata": {},
     "output_type": "display_data"
    },
    {
     "name": "stderr",
     "output_type": "stream",
     "text": [
      "<ipython-input-13-7fb31394390a>:15: SettingWithCopyWarning: \n",
      "A value is trying to be set on a copy of a slice from a DataFrame.\n",
      "Try using .loc[row_indexer,col_indexer] = value instead\n",
      "\n",
      "See the caveats in the documentation: https://pandas.pydata.org/pandas-docs/stable/user_guide/indexing.html#returning-a-view-versus-a-copy\n",
      "  data_df['date'] = pd.to_datetime(data_df.date)\n"
     ]
    },
    {
     "data": {
      "application/vnd.jupyter.widget-view+json": {
       "model_id": "66b1952686e04d2fb95881ddf4659401",
       "version_major": 2,
       "version_minor": 0
      },
      "text/plain": [
       "Canvas(toolbar=Toolbar(toolitems=[('Home', 'Reset original view', 'home', 'home'), ('Back', 'Back to previous …"
      ]
     },
     "metadata": {},
     "output_type": "display_data"
    },
    {
     "name": "stderr",
     "output_type": "stream",
     "text": [
      "<ipython-input-13-7fb31394390a>:15: SettingWithCopyWarning: \n",
      "A value is trying to be set on a copy of a slice from a DataFrame.\n",
      "Try using .loc[row_indexer,col_indexer] = value instead\n",
      "\n",
      "See the caveats in the documentation: https://pandas.pydata.org/pandas-docs/stable/user_guide/indexing.html#returning-a-view-versus-a-copy\n",
      "  data_df['date'] = pd.to_datetime(data_df.date)\n"
     ]
    },
    {
     "data": {
      "application/vnd.jupyter.widget-view+json": {
       "model_id": "c2e1bb9b26aa41218fcb82fbcbd5a0c7",
       "version_major": 2,
       "version_minor": 0
      },
      "text/plain": [
       "Canvas(toolbar=Toolbar(toolitems=[('Home', 'Reset original view', 'home', 'home'), ('Back', 'Back to previous …"
      ]
     },
     "metadata": {},
     "output_type": "display_data"
    },
    {
     "name": "stderr",
     "output_type": "stream",
     "text": [
      "<ipython-input-13-7fb31394390a>:15: SettingWithCopyWarning: \n",
      "A value is trying to be set on a copy of a slice from a DataFrame.\n",
      "Try using .loc[row_indexer,col_indexer] = value instead\n",
      "\n",
      "See the caveats in the documentation: https://pandas.pydata.org/pandas-docs/stable/user_guide/indexing.html#returning-a-view-versus-a-copy\n",
      "  data_df['date'] = pd.to_datetime(data_df.date)\n"
     ]
    },
    {
     "data": {
      "application/vnd.jupyter.widget-view+json": {
       "model_id": "0470b8d6f52c4a26b16a499cbe84df0e",
       "version_major": 2,
       "version_minor": 0
      },
      "text/plain": [
       "Canvas(toolbar=Toolbar(toolitems=[('Home', 'Reset original view', 'home', 'home'), ('Back', 'Back to previous …"
      ]
     },
     "metadata": {},
     "output_type": "display_data"
    },
    {
     "name": "stderr",
     "output_type": "stream",
     "text": [
      "<ipython-input-13-7fb31394390a>:15: SettingWithCopyWarning: \n",
      "A value is trying to be set on a copy of a slice from a DataFrame.\n",
      "Try using .loc[row_indexer,col_indexer] = value instead\n",
      "\n",
      "See the caveats in the documentation: https://pandas.pydata.org/pandas-docs/stable/user_guide/indexing.html#returning-a-view-versus-a-copy\n",
      "  data_df['date'] = pd.to_datetime(data_df.date)\n"
     ]
    },
    {
     "data": {
      "application/vnd.jupyter.widget-view+json": {
       "model_id": "bb70623b8f194869af7c5dcd105b49ec",
       "version_major": 2,
       "version_minor": 0
      },
      "text/plain": [
       "Canvas(toolbar=Toolbar(toolitems=[('Home', 'Reset original view', 'home', 'home'), ('Back', 'Back to previous …"
      ]
     },
     "metadata": {},
     "output_type": "display_data"
    },
    {
     "name": "stderr",
     "output_type": "stream",
     "text": [
      "<ipython-input-13-7fb31394390a>:15: SettingWithCopyWarning: \n",
      "A value is trying to be set on a copy of a slice from a DataFrame.\n",
      "Try using .loc[row_indexer,col_indexer] = value instead\n",
      "\n",
      "See the caveats in the documentation: https://pandas.pydata.org/pandas-docs/stable/user_guide/indexing.html#returning-a-view-versus-a-copy\n",
      "  data_df['date'] = pd.to_datetime(data_df.date)\n"
     ]
    },
    {
     "data": {
      "application/vnd.jupyter.widget-view+json": {
       "model_id": "93ce140e2e2b416989f4bb062695049a",
       "version_major": 2,
       "version_minor": 0
      },
      "text/plain": [
       "Canvas(toolbar=Toolbar(toolitems=[('Home', 'Reset original view', 'home', 'home'), ('Back', 'Back to previous …"
      ]
     },
     "metadata": {},
     "output_type": "display_data"
    },
    {
     "name": "stderr",
     "output_type": "stream",
     "text": [
      "<ipython-input-13-7fb31394390a>:15: SettingWithCopyWarning: \n",
      "A value is trying to be set on a copy of a slice from a DataFrame.\n",
      "Try using .loc[row_indexer,col_indexer] = value instead\n",
      "\n",
      "See the caveats in the documentation: https://pandas.pydata.org/pandas-docs/stable/user_guide/indexing.html#returning-a-view-versus-a-copy\n",
      "  data_df['date'] = pd.to_datetime(data_df.date)\n"
     ]
    },
    {
     "data": {
      "application/vnd.jupyter.widget-view+json": {
       "model_id": "8e0fe8adb8744c849965f4f06f2d155b",
       "version_major": 2,
       "version_minor": 0
      },
      "text/plain": [
       "Canvas(toolbar=Toolbar(toolitems=[('Home', 'Reset original view', 'home', 'home'), ('Back', 'Back to previous …"
      ]
     },
     "metadata": {},
     "output_type": "display_data"
    },
    {
     "name": "stderr",
     "output_type": "stream",
     "text": [
      "<ipython-input-13-7fb31394390a>:15: SettingWithCopyWarning: \n",
      "A value is trying to be set on a copy of a slice from a DataFrame.\n",
      "Try using .loc[row_indexer,col_indexer] = value instead\n",
      "\n",
      "See the caveats in the documentation: https://pandas.pydata.org/pandas-docs/stable/user_guide/indexing.html#returning-a-view-versus-a-copy\n",
      "  data_df['date'] = pd.to_datetime(data_df.date)\n"
     ]
    },
    {
     "data": {
      "application/vnd.jupyter.widget-view+json": {
       "model_id": "06fdbf98c2d8468c8fd6b13497ed814a",
       "version_major": 2,
       "version_minor": 0
      },
      "text/plain": [
       "Canvas(toolbar=Toolbar(toolitems=[('Home', 'Reset original view', 'home', 'home'), ('Back', 'Back to previous …"
      ]
     },
     "metadata": {},
     "output_type": "display_data"
    },
    {
     "name": "stderr",
     "output_type": "stream",
     "text": [
      "<ipython-input-13-7fb31394390a>:15: SettingWithCopyWarning: \n",
      "A value is trying to be set on a copy of a slice from a DataFrame.\n",
      "Try using .loc[row_indexer,col_indexer] = value instead\n",
      "\n",
      "See the caveats in the documentation: https://pandas.pydata.org/pandas-docs/stable/user_guide/indexing.html#returning-a-view-versus-a-copy\n",
      "  data_df['date'] = pd.to_datetime(data_df.date)\n"
     ]
    },
    {
     "data": {
      "application/vnd.jupyter.widget-view+json": {
       "model_id": "d7a1bff94aa749d88871bdc6db065ab8",
       "version_major": 2,
       "version_minor": 0
      },
      "text/plain": [
       "Canvas(toolbar=Toolbar(toolitems=[('Home', 'Reset original view', 'home', 'home'), ('Back', 'Back to previous …"
      ]
     },
     "metadata": {},
     "output_type": "display_data"
    }
   ],
   "source": []
  },
  {
   "cell_type": "code",
   "execution_count": null,
   "metadata": {},
   "outputs": [],
   "source": [
    "# data_df['date'] = pd.to_datetime(data_df.date)\n",
    "\n",
    "# currentDate = np.datetime64('2021-08-01')\n",
    "# toUse = data_df.date <= currentDate\n",
    "# toUse\n",
    "\n",
    "# Vaccs.dropna().values[-1]\n"
   ]
  }
 ],
 "metadata": {
  "interpreter": {
   "hash": "c72cdf52cb3d31f207bca538e9396da8706c0ecf4a3038fb1c2b317934170431"
  },
  "kernelspec": {
   "display_name": "Python 3.8.5 64-bit ('main': conda)",
   "name": "python3"
  },
  "language_info": {
   "codemirror_mode": {
    "name": "ipython",
    "version": 3
   },
   "file_extension": ".py",
   "mimetype": "text/x-python",
   "name": "python",
   "nbconvert_exporter": "python",
   "pygments_lexer": "ipython3",
   "version": "3.8.5"
  }
 },
 "nbformat": 4,
 "nbformat_minor": 5
}
