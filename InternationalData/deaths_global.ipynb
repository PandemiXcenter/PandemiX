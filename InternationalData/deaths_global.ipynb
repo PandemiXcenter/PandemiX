{
    "cells": [
        {
            "cell_type": "code",
            "execution_count": 1,
            "source": [
                "# Notebook for looking at global deaths\r\n",
                "import numpy as np\r\n",
                "import pandas as pd\r\n",
                "pd.set_option('display.max_rows', 500)\r\n",
                "pd.set_option('display.min_rows', 50)\r\n",
                "\r\n",
                "import requests\r\n",
                "\r\n",
                "import matplotlib.pyplot as plt\r\n",
                "%matplotlib widget\r\n",
                "plt.rcParams['figure.figsize'] = (12,8)\r\n",
                "plt.rcParams[\"image.cmap\"] = \"tab10\"\r\n",
                "plt.rcParams['axes.prop_cycle'] = plt.cycler(color=plt.cm.tab10.colors)\r\n",
                "fs_label = 16\r\n",
                "parameters = {\r\n",
                "                'axes.labelsize': fs_label,\r\n",
                "                'axes.titlesize': fs_label+4,\r\n",
                "                'xtick.labelsize': fs_label,\r\n",
                "                'ytick.labelsize': fs_label, \r\n",
                "                'legend.fontsize': fs_label, \r\n",
                "                'lines.markersize': 10,\r\n",
                "                'lines.linewidth': 3\r\n",
                "             }\r\n",
                "plt.rcParams.update(parameters)\r\n",
                "%matplotlib widget\r\n",
                "import matplotlib.colors as colors\r\n",
                "from matplotlib import cm # Colormaps\r\n",
                "\r\n",
                "cmap = cm.get_cmap('Dark2',7)\r\n",
                "\r\n",
                "import locale\r\n",
                "import matplotlib.dates as mdates\r\n",
                "# locale.setlocale(locale.LC_TIME,\"Danish\")\r\n",
                "# ax = plt.gca()\r\n",
                "# ax1.xaxis.set_major_formatter(mdates.DateFormatter('%b\\n%Y'))\r\n",
                "# # ax.xaxis.set_major_formatter(mdates.DateFormatter('%Y \\n %B'))\r\n",
                "\r\n",
                "\r\n",
                "import os\r\n",
                "import math\r\n",
                "\r\n",
                "from datetime import date\r\n",
                "import datetime\r\n",
                "\r\n",
                "saveFigures = True\r\n",
                "print('saveFigures is set to: '+str(saveFigures))\r\n",
                "print('Done loading packages')\r\n",
                "\r\n",
                "def rnMean(data,meanWidth):\r\n",
                "    return np.convolve(data, np.ones(meanWidth)/meanWidth, mode='valid')\r\n",
                "def rnTime(t,meanWidth):\r\n",
                "    return t[math.floor(meanWidth/2):-math.ceil(meanWidth/2)+1]\r\n",
                "def rnTime2(t,meanWidth):\r\n",
                "    return t[meanWidth-1:]\r\n",
                "def plotWithMean(ax,x,y,meanWidth):\r\n",
                "    firstLine = ax.plot(x,y,'.:',markersize=2,linewidth=0.5)\r\n",
                "    firstColor = firstLine[0].get_color()\r\n",
                "    ax.plot(rnTime(x,meanWidth),rnMean(y,meanWidth),color=firstColor)"
            ],
            "outputs": [
                {
                    "output_type": "stream",
                    "name": "stdout",
                    "text": [
                        "saveFigures is set to: True\n",
                        "Done loading packages\n"
                    ]
                }
            ],
            "metadata": {}
        },
        {
            "cell_type": "code",
            "execution_count": 8,
            "source": [
                "dataPath = './data/OWID_excess.csv'\r\n",
                "\r\n",
                "df = pd.read_csv(dataPath)\r\n",
                "\r\n",
                "df.date = pd.to_datetime(df.date)\r\n",
                "dkdf = df[df.location == 'Denmark']\r\n",
                "\r\n",
                "# Also load COVID data\r\n",
                "dataPath = './data/OWID_data.csv'\r\n",
                "\r\n",
                "dfData = pd.read_csv(dataPath)\r\n",
                "\r\n",
                "dfData.date = pd.to_datetime(dfData.date)\r\n",
                "dkdfData = dfData[dfData.location == 'Denmark']\r\n",
                "\r\n"
            ],
            "outputs": [],
            "metadata": {}
        },
        {
            "cell_type": "code",
            "execution_count": 14,
            "source": [
                "\r\n",
                "# # curdf\r\n",
                "# count2021 \r\n",
                "# # curdf.tail()\r\n",
                "\r\n",
                "# # dates2021 = curDates[curDates >= np.datetime64('2021-01-01')]\r\n",
                "# # numData2021 =(~curdf.deaths_2021_all_ages.isna()).sum()\r\n",
                "# # dates2021 = dates2021.iloc[:numData2021]\r\n",
                "# allDates,allCount\r\n",
                "# curWidths = np.diff(allDates).astype('timedelta64[D]')\r\n",
                "# len(curWidths)\r\n",
                "# widthToUse\r\n",
                "# # widthToUse = []\r\n",
                "# # for k in range(len(curWidths)):\r\n",
                "# #     widthToUse.append(curWidths[k]/2+curWidths[k+1]/2)\r\n",
                "# # pd.to_datetime(allDates)\r\n",
                "\r\n",
                "\r\n",
                "#     # curWidths = np.diff(allDates).astype('timedelta64[D]')\r\n",
                "#     # ax1.bar(allDates,allCount,color='grey',edgecolor='k',width=[30,curWidths])\r\n",
                "# fig,ax1 = plt.subplots()\r\n",
                "# stepDates = np.append(np.append(allDates[0]-np.timedelta64(curWidth,'D'),allDates),allDates[-1]+np.timedelta64(curWidth,'D'))\r\n",
                "# stepVals = np.append(np.append(avgComp[0],avgComp),avgComp[-1]) \r\n",
                "# ax1.step(stepDates,stepVals,color='k',where='mid')"
            ],
            "outputs": [],
            "metadata": {}
        },
        {
            "cell_type": "code",
            "execution_count": 23,
            "source": [
                "\r\n",
                "\r\n",
                "# Get all possible locations\r\n",
                "posLoc = df.location.unique()\r\n",
                "\r\n",
                "# Loop through them\r\n",
                "# for curLoc in posLoc[:4]:\r\n",
                "for curLoc in posLoc:\r\n",
                "    \r\n",
                "    # Get current location-dataframe\r\n",
                "    curdf = df[df.location == curLoc]\r\n",
                "    curdfData = dfData[dfData.location == curLoc]\r\n",
                "    \r\n",
                "    # Make figure\r\n",
                "    fig,ax1 = plt.subplots()\r\n",
                "\r\n",
                "    # Split the dates\r\n",
                "    curDates = curdf.date\r\n",
                "    dates2021 = curDates[curDates >= np.datetime64('2021-01-01')]\r\n",
                "    dates2020 = curDates[curDates < np.datetime64('2021-01-01')]\r\n",
                "    \r\n",
                "    # Only take days in 2021 for which there is data\r\n",
                "    numData2021 =(~curdf.deaths_2021_all_ages.isna()).sum()\r\n",
                "    dates2021 = dates2021.iloc[:numData2021]\r\n",
                "    numData2020 =(~curdf.deaths_2020_all_ages.isna()).sum()\r\n",
                "    dates2020 = curDates.iloc[:numData2020]\r\n",
                "\r\n",
                "    # Get data, without nan\r\n",
                "    count2021 = curdf.deaths_2021_all_ages.dropna()\r\n",
                "    count2020 = curdf.deaths_2020_all_ages.dropna()\r\n",
                "    \r\n",
                "    # Collect dates and counts in arrays\r\n",
                "    # allDates = np.append(dates2020,dates2021)\r\n",
                "    allCount = np.append(count2020,count2021)\r\n",
                "    allDates = curdf.date.iloc[:len(allCount)].values\r\n",
                "    \r\n",
                "    # Determine the time scale, and decide on bar width\r\n",
                "    curTimeUnit = curdf.time_unit.iloc[0]\r\n",
                "    curWidth = 1\r\n",
                "    if (curTimeUnit == 'monthly'):\r\n",
                "        curWidth = 31\r\n",
                "    if (curTimeUnit == 'weekly'):\r\n",
                "        curWidth = 7\r\n",
                "    \r\n",
                "    ax1.bar(allDates,allCount,color='grey',width=np.timedelta64(curWidth,'D'))\r\n",
                "    # ax1.bar(allDates,allCount,color='grey',edgecolor='k',width=np.timedelta64(curWidth,'D'))\r\n",
                "    \r\n",
                "    \r\n",
                "\r\n",
                "    avgDates = np.append(dates2020,dates2020+np.timedelta64(371,'D'))\r\n",
                "    avgCount = curdf.average_deaths_2015_2019_all_ages.dropna()\r\n",
                "    avgCountFull = np.append(avgCount,avgCount)\r\n",
                "\r\n",
                "    numData = len(allDates)\r\n",
                "    avgComp = avgCountFull[:numData]\r\n",
                "\r\n",
                "\r\n",
                "    allCountPos = allCount * ((allCount - avgComp) > 0  )\r\n",
                "    allCountPos[allCountPos == 0] = np.nan\r\n",
                "\r\n",
                "    allCountNeg = allCount * ((allCount - avgComp) < 0  )\r\n",
                "    allCountNeg[allCountNeg == 0] = np.nan\r\n",
                "\r\n",
                "    allCountNeg = allCount * ((allCount - avgComp) < 0  )\r\n",
                "    curIndex = (allCountNeg == 0)\r\n",
                "    allCountNeg[curIndex]  = avgComp[curIndex]\r\n",
                "    allCountNeg\r\n",
                "\r\n",
                "\r\n",
                "    ax1.bar(allDates,allCount,width=np.timedelta64(curWidth,'D'),color='r',label='Excess')\r\n",
                "    # ax1.bar(allDates,avgComp,width=np.timedelta64(curWidth,'D'),edgecolor='k',linewidth=3)\r\n",
                "    # ax1.step(allDates,avgComp,color='k',where='mid')\r\n",
                "    # stepDates = np.append(np.append(allDates[0],allDates),allDates[-1])\r\n",
                "    stepDates = np.append(np.append(allDates[0]-np.timedelta64(int(curWidth/2),'D'),allDates),allDates[-1]+np.timedelta64(int(curWidth/2),'D'))\r\n",
                "    stepVals = np.append(np.append(avgComp[0],avgComp),avgComp[-1]) \r\n",
                "    ax1.step(stepDates,stepVals,color='k',where='mid',label='Average 2015-2019')\r\n",
                "    ax1.bar(allDates,avgComp,width=np.timedelta64(curWidth,'D'),color='g',label='Negative excess')\r\n",
                "    ax1.bar(allDates,allCountNeg,width=np.timedelta64(curWidth,'D'),color='w')\r\n",
                "\r\n",
                "\r\n",
                "    # ax1.plot(avgDates,avgCountFull,color='k')\r\n",
                "\r\n",
                "    # ax1.plot(avgDates,avgCountFull*np.nan,color='k',label='Average 2015-2019')\r\n",
                "    # ax1.bar(allDates,(allCount-avgComp),bottom=avgComp,width=np.timedelta64(7,'D'),color='r')\r\n",
                "    # ax1.bar(allDates,(avgComp-allCount),bottom=allCount,width=np.timedelta64(7,'D'),color='g')\r\n",
                "\r\n",
                "    ax1.set_ylim([min(allCount)*0.8,max(allCount)*1.1])\r\n",
                "    # ax1.set_xlim([allDates[0],allDates[-1]])\r\n",
                "    # ax1.set_xlim(right=allDates[-1])\r\n",
                "    # ax1.set_xlim(left=np.datetime64('2020-01-01'))\r\n",
                "    # ax1.set_xlim(left=allDates[0]-np.timedelta64(int(curWidth/2),'D'))\r\n",
                "    # ax1.set_xlim(right=allDates[-1]+np.timedelta64(int(curWidth/2),'D'))\r\n",
                "    \r\n",
                "    curXticks = np.arange(np.datetime64('2020-01'),np.datetime64('2021-10'),np.timedelta64(3,'M'))\r\n",
                "    ax1.set_xticks(curXticks)\r\n",
                "    ax1.set_xlim([curXticks[0],np.datetime64('2021-09')])\r\n",
                "\r\n",
                "    ax1.xaxis.set_major_formatter(mdates.DateFormatter('%b\\n%Y'))\r\n",
                "\r\n",
                "    ax1.set_ylabel('Mortality count')\r\n",
                "    ax1.legend()\r\n",
                "    ax1.grid(axis='x',zorder=-1)\r\n",
                "    \r\n",
                "    # numDeaths2020 = dkdf['deaths_2020_all_ages'].sum()\r\n",
                "    # dkdf['average_deaths_2015_2019_all_ages'].sum() \r\n",
                "    \r\n",
                "    \r\n",
                "    \r\n",
                "    excessMort = (allCount-avgComp)\r\n",
                "    totExcess = excessMort.sum()\r\n",
                "    \r\n",
                "    curTitle = curLoc + f', Total excess: {totExcess:.0f}'\r\n",
                "    ax1.set_title(curTitle)\r\n",
                "\r\n",
                "    if saveFigures:\r\n",
                "        plt.savefig('figs/ExcessMortality/'+curLoc)\r\n",
                "        \r\n",
                "    plt.close()\r\n",
                "    \r\n",
                "    try:\r\n",
                "        fig,ax2 = plt.subplots()\r\n",
                "        \r\n",
                "        thisDates = pd.to_datetime(curdfData.date)\r\n",
                "        ax2.plot(allDates,excessMort*0,color='k')\r\n",
                "        ax2.plot(thisDates,curdfData['new_deaths'],'.:b',markersize=2,linewidth=0.5)\r\n",
                "        ax2.plot(rnTime(thisDates,7),rnMean(curdfData['new_deaths'],7),'b')\r\n",
                "        # ax2.plot(allDates,excessMort/curWidth,'.-',color='r')\r\n",
                "        ax2.bar(allDates,excessMort/curWidth,color='r',width=np.timedelta64(curWidth,'D'))\r\n",
                "        # ax2.plot(thisDates,curdfData['excess_mortality'],'*')\r\n",
                "\r\n",
                "        ax2.xaxis.set_major_formatter(mdates.DateFormatter('%b\\n%Y'))\r\n",
                "\r\n",
                "        if saveFigures:\r\n",
                "            plt.savefig('figs/ExcessMortalityCompareCovid/'+curLoc)\r\n",
                "            \r\n",
                "        plt.close()\r\n",
                "    except:\r\n",
                "        print('Could not make second figure for '+curLoc)\r\n",
                "        continue"
            ],
            "outputs": [
                {
                    "output_type": "display_data",
                    "data": {
                        "text/plain": [
                            "Canvas(toolbar=Toolbar(toolitems=[('Home', 'Reset original view', 'home', 'home'), ('Back', 'Back to previous …"
                        ],
                        "application/vnd.jupyter.widget-view+json": {
                            "version_major": 2,
                            "version_minor": 0,
                            "model_id": "f355f65301de493fb7df877e17a6a1c6"
                        }
                    },
                    "metadata": {}
                },
                {
                    "output_type": "display_data",
                    "data": {
                        "text/plain": [
                            "Canvas(toolbar=Toolbar(toolitems=[('Home', 'Reset original view', 'home', 'home'), ('Back', 'Back to previous …"
                        ],
                        "application/vnd.jupyter.widget-view+json": {
                            "version_major": 2,
                            "version_minor": 0,
                            "model_id": "778428cdab90410991030655164cc080"
                        }
                    },
                    "metadata": {}
                },
                {
                    "output_type": "display_data",
                    "data": {
                        "text/plain": [
                            "Canvas(toolbar=Toolbar(toolitems=[('Home', 'Reset original view', 'home', 'home'), ('Back', 'Back to previous …"
                        ],
                        "application/vnd.jupyter.widget-view+json": {
                            "version_major": 2,
                            "version_minor": 0,
                            "model_id": "3640c747f1924d8f937d989e5d13275a"
                        }
                    },
                    "metadata": {}
                },
                {
                    "output_type": "display_data",
                    "data": {
                        "text/plain": [
                            "Canvas(toolbar=Toolbar(toolitems=[('Home', 'Reset original view', 'home', 'home'), ('Back', 'Back to previous …"
                        ],
                        "application/vnd.jupyter.widget-view+json": {
                            "version_major": 2,
                            "version_minor": 0,
                            "model_id": "41df0ac68b064605967a553e53bf25d0"
                        }
                    },
                    "metadata": {}
                },
                {
                    "output_type": "display_data",
                    "data": {
                        "text/plain": [
                            "Canvas(toolbar=Toolbar(toolitems=[('Home', 'Reset original view', 'home', 'home'), ('Back', 'Back to previous …"
                        ],
                        "application/vnd.jupyter.widget-view+json": {
                            "version_major": 2,
                            "version_minor": 0,
                            "model_id": "d3037d69d45e4503ae17c721136fd326"
                        }
                    },
                    "metadata": {}
                },
                {
                    "output_type": "display_data",
                    "data": {
                        "text/plain": [
                            "Canvas(toolbar=Toolbar(toolitems=[('Home', 'Reset original view', 'home', 'home'), ('Back', 'Back to previous …"
                        ],
                        "application/vnd.jupyter.widget-view+json": {
                            "version_major": 2,
                            "version_minor": 0,
                            "model_id": "e9584d6d196d4ba2a2100286b77c02f3"
                        }
                    },
                    "metadata": {}
                },
                {
                    "output_type": "display_data",
                    "data": {
                        "text/plain": [
                            "Canvas(toolbar=Toolbar(toolitems=[('Home', 'Reset original view', 'home', 'home'), ('Back', 'Back to previous …"
                        ],
                        "application/vnd.jupyter.widget-view+json": {
                            "version_major": 2,
                            "version_minor": 0,
                            "model_id": "84e30353d658405eab4cd45af0e10e03"
                        }
                    },
                    "metadata": {}
                },
                {
                    "output_type": "display_data",
                    "data": {
                        "text/plain": [
                            "Canvas(toolbar=Toolbar(toolitems=[('Home', 'Reset original view', 'home', 'home'), ('Back', 'Back to previous …"
                        ],
                        "application/vnd.jupyter.widget-view+json": {
                            "version_major": 2,
                            "version_minor": 0,
                            "model_id": "b54923b9f6d4411dafb7e0ab16784610"
                        }
                    },
                    "metadata": {}
                },
                {
                    "output_type": "display_data",
                    "data": {
                        "text/plain": [
                            "Canvas(toolbar=Toolbar(toolitems=[('Home', 'Reset original view', 'home', 'home'), ('Back', 'Back to previous …"
                        ],
                        "application/vnd.jupyter.widget-view+json": {
                            "version_major": 2,
                            "version_minor": 0,
                            "model_id": "5a841ada0aa24eb6986e748425e4135a"
                        }
                    },
                    "metadata": {}
                },
                {
                    "output_type": "display_data",
                    "data": {
                        "text/plain": [
                            "Canvas(toolbar=Toolbar(toolitems=[('Home', 'Reset original view', 'home', 'home'), ('Back', 'Back to previous …"
                        ],
                        "application/vnd.jupyter.widget-view+json": {
                            "version_major": 2,
                            "version_minor": 0,
                            "model_id": "16902d71062b44bc9157a81ddba6cff4"
                        }
                    },
                    "metadata": {}
                },
                {
                    "output_type": "display_data",
                    "data": {
                        "text/plain": [
                            "Canvas(toolbar=Toolbar(toolitems=[('Home', 'Reset original view', 'home', 'home'), ('Back', 'Back to previous …"
                        ],
                        "application/vnd.jupyter.widget-view+json": {
                            "version_major": 2,
                            "version_minor": 0,
                            "model_id": "a41d0ec3dcd54afb938f240ebe7c8aa0"
                        }
                    },
                    "metadata": {}
                },
                {
                    "output_type": "display_data",
                    "data": {
                        "text/plain": [
                            "Canvas(toolbar=Toolbar(toolitems=[('Home', 'Reset original view', 'home', 'home'), ('Back', 'Back to previous …"
                        ],
                        "application/vnd.jupyter.widget-view+json": {
                            "version_major": 2,
                            "version_minor": 0,
                            "model_id": "f2f8683a40d84f9cb93a454a1069fdfc"
                        }
                    },
                    "metadata": {}
                },
                {
                    "output_type": "display_data",
                    "data": {
                        "text/plain": [
                            "Canvas(toolbar=Toolbar(toolitems=[('Home', 'Reset original view', 'home', 'home'), ('Back', 'Back to previous …"
                        ],
                        "application/vnd.jupyter.widget-view+json": {
                            "version_major": 2,
                            "version_minor": 0,
                            "model_id": "e836f4ad3bbc4c258cf455a345e06dc8"
                        }
                    },
                    "metadata": {}
                },
                {
                    "output_type": "display_data",
                    "data": {
                        "text/plain": [
                            "Canvas(toolbar=Toolbar(toolitems=[('Home', 'Reset original view', 'home', 'home'), ('Back', 'Back to previous …"
                        ],
                        "application/vnd.jupyter.widget-view+json": {
                            "version_major": 2,
                            "version_minor": 0,
                            "model_id": "36fbabdd5e4c4962a567736d3c6a674d"
                        }
                    },
                    "metadata": {}
                },
                {
                    "output_type": "display_data",
                    "data": {
                        "text/plain": [
                            "Canvas(toolbar=Toolbar(toolitems=[('Home', 'Reset original view', 'home', 'home'), ('Back', 'Back to previous …"
                        ],
                        "application/vnd.jupyter.widget-view+json": {
                            "version_major": 2,
                            "version_minor": 0,
                            "model_id": "b55c34b7978d4862bbc83c39ae25c2ff"
                        }
                    },
                    "metadata": {}
                },
                {
                    "output_type": "display_data",
                    "data": {
                        "text/plain": [
                            "Canvas(toolbar=Toolbar(toolitems=[('Home', 'Reset original view', 'home', 'home'), ('Back', 'Back to previous …"
                        ],
                        "application/vnd.jupyter.widget-view+json": {
                            "version_major": 2,
                            "version_minor": 0,
                            "model_id": "6b99ed0e9e094b5280327caa03248534"
                        }
                    },
                    "metadata": {}
                },
                {
                    "output_type": "display_data",
                    "data": {
                        "text/plain": [
                            "Canvas(toolbar=Toolbar(toolitems=[('Home', 'Reset original view', 'home', 'home'), ('Back', 'Back to previous …"
                        ],
                        "application/vnd.jupyter.widget-view+json": {
                            "version_major": 2,
                            "version_minor": 0,
                            "model_id": "a76931b4ac9d438fa4e15c7a2e391a1a"
                        }
                    },
                    "metadata": {}
                },
                {
                    "output_type": "display_data",
                    "data": {
                        "text/plain": [
                            "Canvas(toolbar=Toolbar(toolitems=[('Home', 'Reset original view', 'home', 'home'), ('Back', 'Back to previous …"
                        ],
                        "application/vnd.jupyter.widget-view+json": {
                            "version_major": 2,
                            "version_minor": 0,
                            "model_id": "ad23ac26f0e04d7c93886d431f1af3ab"
                        }
                    },
                    "metadata": {}
                },
                {
                    "output_type": "display_data",
                    "data": {
                        "text/plain": [
                            "Canvas(toolbar=Toolbar(toolitems=[('Home', 'Reset original view', 'home', 'home'), ('Back', 'Back to previous …"
                        ],
                        "application/vnd.jupyter.widget-view+json": {
                            "version_major": 2,
                            "version_minor": 0,
                            "model_id": "1c66cd176f5b4900bccf2bbc6ad90af4"
                        }
                    },
                    "metadata": {}
                },
                {
                    "output_type": "display_data",
                    "data": {
                        "text/plain": [
                            "Canvas(toolbar=Toolbar(toolitems=[('Home', 'Reset original view', 'home', 'home'), ('Back', 'Back to previous …"
                        ],
                        "application/vnd.jupyter.widget-view+json": {
                            "version_major": 2,
                            "version_minor": 0,
                            "model_id": "fc82a335f20742dea61d871a202f531d"
                        }
                    },
                    "metadata": {}
                },
                {
                    "output_type": "display_data",
                    "data": {
                        "text/plain": [
                            "Canvas(toolbar=Toolbar(toolitems=[('Home', 'Reset original view', 'home', 'home'), ('Back', 'Back to previous …"
                        ],
                        "application/vnd.jupyter.widget-view+json": {
                            "version_major": 2,
                            "version_minor": 0,
                            "model_id": "76d65906f07445d28a956ecc3bee65a2"
                        }
                    },
                    "metadata": {}
                },
                {
                    "output_type": "display_data",
                    "data": {
                        "text/plain": [
                            "Canvas(toolbar=Toolbar(toolitems=[('Home', 'Reset original view', 'home', 'home'), ('Back', 'Back to previous …"
                        ],
                        "application/vnd.jupyter.widget-view+json": {
                            "version_major": 2,
                            "version_minor": 0,
                            "model_id": "760e70211353448a9a5f4fb0de639dd5"
                        }
                    },
                    "metadata": {}
                },
                {
                    "output_type": "display_data",
                    "data": {
                        "text/plain": [
                            "Canvas(toolbar=Toolbar(toolitems=[('Home', 'Reset original view', 'home', 'home'), ('Back', 'Back to previous …"
                        ],
                        "application/vnd.jupyter.widget-view+json": {
                            "version_major": 2,
                            "version_minor": 0,
                            "model_id": "54149772ef414edebfc33e8bcd4b60b6"
                        }
                    },
                    "metadata": {}
                },
                {
                    "output_type": "display_data",
                    "data": {
                        "text/plain": [
                            "Canvas(toolbar=Toolbar(toolitems=[('Home', 'Reset original view', 'home', 'home'), ('Back', 'Back to previous …"
                        ],
                        "application/vnd.jupyter.widget-view+json": {
                            "version_major": 2,
                            "version_minor": 0,
                            "model_id": "9a48fc37725c4412864d860be2562fd4"
                        }
                    },
                    "metadata": {}
                },
                {
                    "output_type": "display_data",
                    "data": {
                        "text/plain": [
                            "Canvas(toolbar=Toolbar(toolitems=[('Home', 'Reset original view', 'home', 'home'), ('Back', 'Back to previous …"
                        ],
                        "application/vnd.jupyter.widget-view+json": {
                            "version_major": 2,
                            "version_minor": 0,
                            "model_id": "be434724cf84470c83bea0f1be0d7809"
                        }
                    },
                    "metadata": {}
                },
                {
                    "output_type": "display_data",
                    "data": {
                        "text/plain": [
                            "Canvas(toolbar=Toolbar(toolitems=[('Home', 'Reset original view', 'home', 'home'), ('Back', 'Back to previous …"
                        ],
                        "application/vnd.jupyter.widget-view+json": {
                            "version_major": 2,
                            "version_minor": 0,
                            "model_id": "4e7706e7bc3a4be5a15abd62f537f3e3"
                        }
                    },
                    "metadata": {}
                },
                {
                    "output_type": "display_data",
                    "data": {
                        "text/plain": [
                            "Canvas(toolbar=Toolbar(toolitems=[('Home', 'Reset original view', 'home', 'home'), ('Back', 'Back to previous …"
                        ],
                        "application/vnd.jupyter.widget-view+json": {
                            "version_major": 2,
                            "version_minor": 0,
                            "model_id": "aaeee10f601b4b5da5a2f28dce7e6798"
                        }
                    },
                    "metadata": {}
                },
                {
                    "output_type": "display_data",
                    "data": {
                        "text/plain": [
                            "Canvas(toolbar=Toolbar(toolitems=[('Home', 'Reset original view', 'home', 'home'), ('Back', 'Back to previous …"
                        ],
                        "application/vnd.jupyter.widget-view+json": {
                            "version_major": 2,
                            "version_minor": 0,
                            "model_id": "eb8fd2a1b6884c55855cdab9e160b051"
                        }
                    },
                    "metadata": {}
                },
                {
                    "output_type": "display_data",
                    "data": {
                        "text/plain": [
                            "Canvas(toolbar=Toolbar(toolitems=[('Home', 'Reset original view', 'home', 'home'), ('Back', 'Back to previous …"
                        ],
                        "application/vnd.jupyter.widget-view+json": {
                            "version_major": 2,
                            "version_minor": 0,
                            "model_id": "b2b759f5388d4d46877bf750d388c605"
                        }
                    },
                    "metadata": {}
                },
                {
                    "output_type": "display_data",
                    "data": {
                        "text/plain": [
                            "Canvas(toolbar=Toolbar(toolitems=[('Home', 'Reset original view', 'home', 'home'), ('Back', 'Back to previous …"
                        ],
                        "application/vnd.jupyter.widget-view+json": {
                            "version_major": 2,
                            "version_minor": 0,
                            "model_id": "5163ab423af841b79f1906bd02983d84"
                        }
                    },
                    "metadata": {}
                },
                {
                    "output_type": "display_data",
                    "data": {
                        "text/plain": [
                            "Canvas(toolbar=Toolbar(toolitems=[('Home', 'Reset original view', 'home', 'home'), ('Back', 'Back to previous …"
                        ],
                        "application/vnd.jupyter.widget-view+json": {
                            "version_major": 2,
                            "version_minor": 0,
                            "model_id": "c8c0be8696c3455bb19f9eb6f4d4bbde"
                        }
                    },
                    "metadata": {}
                },
                {
                    "output_type": "display_data",
                    "data": {
                        "text/plain": [
                            "Canvas(toolbar=Toolbar(toolitems=[('Home', 'Reset original view', 'home', 'home'), ('Back', 'Back to previous …"
                        ],
                        "application/vnd.jupyter.widget-view+json": {
                            "version_major": 2,
                            "version_minor": 0,
                            "model_id": "25b496fe6708474698f87dac8e31ee43"
                        }
                    },
                    "metadata": {}
                },
                {
                    "output_type": "display_data",
                    "data": {
                        "text/plain": [
                            "Canvas(toolbar=Toolbar(toolitems=[('Home', 'Reset original view', 'home', 'home'), ('Back', 'Back to previous …"
                        ],
                        "application/vnd.jupyter.widget-view+json": {
                            "version_major": 2,
                            "version_minor": 0,
                            "model_id": "d1df5265dab945e486608e7314554a4d"
                        }
                    },
                    "metadata": {}
                },
                {
                    "output_type": "display_data",
                    "data": {
                        "text/plain": [
                            "Canvas(toolbar=Toolbar(toolitems=[('Home', 'Reset original view', 'home', 'home'), ('Back', 'Back to previous …"
                        ],
                        "application/vnd.jupyter.widget-view+json": {
                            "version_major": 2,
                            "version_minor": 0,
                            "model_id": "b470ff95a93e4973a3c850ac72211a90"
                        }
                    },
                    "metadata": {}
                },
                {
                    "output_type": "display_data",
                    "data": {
                        "text/plain": [
                            "Canvas(toolbar=Toolbar(toolitems=[('Home', 'Reset original view', 'home', 'home'), ('Back', 'Back to previous …"
                        ],
                        "application/vnd.jupyter.widget-view+json": {
                            "version_major": 2,
                            "version_minor": 0,
                            "model_id": "93dfbc8b265949d191389cfc5f7442b2"
                        }
                    },
                    "metadata": {}
                },
                {
                    "output_type": "display_data",
                    "data": {
                        "text/plain": [
                            "Canvas(toolbar=Toolbar(toolitems=[('Home', 'Reset original view', 'home', 'home'), ('Back', 'Back to previous …"
                        ],
                        "application/vnd.jupyter.widget-view+json": {
                            "version_major": 2,
                            "version_minor": 0,
                            "model_id": "e4e0d9825a9940baa54ed6dc096dd5ee"
                        }
                    },
                    "metadata": {}
                },
                {
                    "output_type": "display_data",
                    "data": {
                        "text/plain": [
                            "Canvas(toolbar=Toolbar(toolitems=[('Home', 'Reset original view', 'home', 'home'), ('Back', 'Back to previous …"
                        ],
                        "application/vnd.jupyter.widget-view+json": {
                            "version_major": 2,
                            "version_minor": 0,
                            "model_id": "5c6983c0697b4d8ab55ba4c72618009a"
                        }
                    },
                    "metadata": {}
                },
                {
                    "output_type": "display_data",
                    "data": {
                        "text/plain": [
                            "Canvas(toolbar=Toolbar(toolitems=[('Home', 'Reset original view', 'home', 'home'), ('Back', 'Back to previous …"
                        ],
                        "application/vnd.jupyter.widget-view+json": {
                            "version_major": 2,
                            "version_minor": 0,
                            "model_id": "79fe47dcc57545728aabee90967efe50"
                        }
                    },
                    "metadata": {}
                },
                {
                    "output_type": "display_data",
                    "data": {
                        "text/plain": [
                            "Canvas(toolbar=Toolbar(toolitems=[('Home', 'Reset original view', 'home', 'home'), ('Back', 'Back to previous …"
                        ],
                        "application/vnd.jupyter.widget-view+json": {
                            "version_major": 2,
                            "version_minor": 0,
                            "model_id": "dea490af98644accb6bdaf012ea4bf82"
                        }
                    },
                    "metadata": {}
                },
                {
                    "output_type": "display_data",
                    "data": {
                        "text/plain": [
                            "Canvas(toolbar=Toolbar(toolitems=[('Home', 'Reset original view', 'home', 'home'), ('Back', 'Back to previous …"
                        ],
                        "application/vnd.jupyter.widget-view+json": {
                            "version_major": 2,
                            "version_minor": 0,
                            "model_id": "993df8ccf23644f1a675d9b2c81d5cc8"
                        }
                    },
                    "metadata": {}
                },
                {
                    "output_type": "display_data",
                    "data": {
                        "text/plain": [
                            "Canvas(toolbar=Toolbar(toolitems=[('Home', 'Reset original view', 'home', 'home'), ('Back', 'Back to previous …"
                        ],
                        "application/vnd.jupyter.widget-view+json": {
                            "version_major": 2,
                            "version_minor": 0,
                            "model_id": "cc3d773e0f5749d990bc17a5a589cf93"
                        }
                    },
                    "metadata": {}
                },
                {
                    "output_type": "display_data",
                    "data": {
                        "text/plain": [
                            "Canvas(toolbar=Toolbar(toolitems=[('Home', 'Reset original view', 'home', 'home'), ('Back', 'Back to previous …"
                        ],
                        "application/vnd.jupyter.widget-view+json": {
                            "version_major": 2,
                            "version_minor": 0,
                            "model_id": "3c435196b15e4312a686712be30d8e3e"
                        }
                    },
                    "metadata": {}
                },
                {
                    "output_type": "display_data",
                    "data": {
                        "text/plain": [
                            "Canvas(toolbar=Toolbar(toolitems=[('Home', 'Reset original view', 'home', 'home'), ('Back', 'Back to previous …"
                        ],
                        "application/vnd.jupyter.widget-view+json": {
                            "version_major": 2,
                            "version_minor": 0,
                            "model_id": "06bab948e80e44b991fa59d4309f5c91"
                        }
                    },
                    "metadata": {}
                },
                {
                    "output_type": "display_data",
                    "data": {
                        "text/plain": [
                            "Canvas(toolbar=Toolbar(toolitems=[('Home', 'Reset original view', 'home', 'home'), ('Back', 'Back to previous …"
                        ],
                        "application/vnd.jupyter.widget-view+json": {
                            "version_major": 2,
                            "version_minor": 0,
                            "model_id": "e62ba9e70aa2433ca0ea3e7237098541"
                        }
                    },
                    "metadata": {}
                },
                {
                    "output_type": "display_data",
                    "data": {
                        "text/plain": [
                            "Canvas(toolbar=Toolbar(toolitems=[('Home', 'Reset original view', 'home', 'home'), ('Back', 'Back to previous …"
                        ],
                        "application/vnd.jupyter.widget-view+json": {
                            "version_major": 2,
                            "version_minor": 0,
                            "model_id": "b4272480b7574df1a59530468ccf72af"
                        }
                    },
                    "metadata": {}
                },
                {
                    "output_type": "display_data",
                    "data": {
                        "text/plain": [
                            "Canvas(toolbar=Toolbar(toolitems=[('Home', 'Reset original view', 'home', 'home'), ('Back', 'Back to previous …"
                        ],
                        "application/vnd.jupyter.widget-view+json": {
                            "version_major": 2,
                            "version_minor": 0,
                            "model_id": "72b4fbd169a845e8a0baf7f9638418f5"
                        }
                    },
                    "metadata": {}
                },
                {
                    "output_type": "display_data",
                    "data": {
                        "text/plain": [
                            "Canvas(toolbar=Toolbar(toolitems=[('Home', 'Reset original view', 'home', 'home'), ('Back', 'Back to previous …"
                        ],
                        "application/vnd.jupyter.widget-view+json": {
                            "version_major": 2,
                            "version_minor": 0,
                            "model_id": "04ac975f052a4f50855af5a47011cf25"
                        }
                    },
                    "metadata": {}
                },
                {
                    "output_type": "display_data",
                    "data": {
                        "text/plain": [
                            "Canvas(toolbar=Toolbar(toolitems=[('Home', 'Reset original view', 'home', 'home'), ('Back', 'Back to previous …"
                        ],
                        "application/vnd.jupyter.widget-view+json": {
                            "version_major": 2,
                            "version_minor": 0,
                            "model_id": "1d65a4f1dd1b41ceb4836575e4a9cf20"
                        }
                    },
                    "metadata": {}
                },
                {
                    "output_type": "display_data",
                    "data": {
                        "text/plain": [
                            "Canvas(toolbar=Toolbar(toolitems=[('Home', 'Reset original view', 'home', 'home'), ('Back', 'Back to previous …"
                        ],
                        "application/vnd.jupyter.widget-view+json": {
                            "version_major": 2,
                            "version_minor": 0,
                            "model_id": "bddbd4406d0b4b0b87ca68d3ef934858"
                        }
                    },
                    "metadata": {}
                },
                {
                    "output_type": "display_data",
                    "data": {
                        "text/plain": [
                            "Canvas(toolbar=Toolbar(toolitems=[('Home', 'Reset original view', 'home', 'home'), ('Back', 'Back to previous …"
                        ],
                        "application/vnd.jupyter.widget-view+json": {
                            "version_major": 2,
                            "version_minor": 0,
                            "model_id": "683d1c0008f842b78aa0410cd87e6c8a"
                        }
                    },
                    "metadata": {}
                },
                {
                    "output_type": "display_data",
                    "data": {
                        "text/plain": [
                            "Canvas(toolbar=Toolbar(toolitems=[('Home', 'Reset original view', 'home', 'home'), ('Back', 'Back to previous …"
                        ],
                        "application/vnd.jupyter.widget-view+json": {
                            "version_major": 2,
                            "version_minor": 0,
                            "model_id": "1a279100964b4f59b87b92f99f01a3c7"
                        }
                    },
                    "metadata": {}
                },
                {
                    "output_type": "display_data",
                    "data": {
                        "text/plain": [
                            "Canvas(toolbar=Toolbar(toolitems=[('Home', 'Reset original view', 'home', 'home'), ('Back', 'Back to previous …"
                        ],
                        "application/vnd.jupyter.widget-view+json": {
                            "version_major": 2,
                            "version_minor": 0,
                            "model_id": "9688d36b034342e5bc2834e6db3f39c7"
                        }
                    },
                    "metadata": {}
                },
                {
                    "output_type": "error",
                    "ename": "ValueError",
                    "evalue": "v cannot be empty",
                    "traceback": [
                        "\u001b[1;31m---------------------------------------------------------------------------\u001b[0m",
                        "\u001b[1;31mValueError\u001b[0m                                Traceback (most recent call last)",
                        "\u001b[1;32m<ipython-input-23-7675743bcd2a>\u001b[0m in \u001b[0;36m<module>\u001b[1;34m\u001b[0m\n\u001b[0;32m    120\u001b[0m     \u001b[0max2\u001b[0m\u001b[1;33m.\u001b[0m\u001b[0mplot\u001b[0m\u001b[1;33m(\u001b[0m\u001b[0mallDates\u001b[0m\u001b[1;33m,\u001b[0m\u001b[0mexcessMort\u001b[0m\u001b[1;33m*\u001b[0m\u001b[1;36m0\u001b[0m\u001b[1;33m,\u001b[0m\u001b[0mcolor\u001b[0m\u001b[1;33m=\u001b[0m\u001b[1;34m'k'\u001b[0m\u001b[1;33m)\u001b[0m\u001b[1;33m\u001b[0m\u001b[1;33m\u001b[0m\u001b[0m\n\u001b[0;32m    121\u001b[0m     \u001b[0max2\u001b[0m\u001b[1;33m.\u001b[0m\u001b[0mplot\u001b[0m\u001b[1;33m(\u001b[0m\u001b[0mthisDates\u001b[0m\u001b[1;33m,\u001b[0m\u001b[0mcurdfData\u001b[0m\u001b[1;33m[\u001b[0m\u001b[1;34m'new_deaths'\u001b[0m\u001b[1;33m]\u001b[0m\u001b[1;33m,\u001b[0m\u001b[1;34m'.:b'\u001b[0m\u001b[1;33m,\u001b[0m\u001b[0mmarkersize\u001b[0m\u001b[1;33m=\u001b[0m\u001b[1;36m2\u001b[0m\u001b[1;33m,\u001b[0m\u001b[0mlinewidth\u001b[0m\u001b[1;33m=\u001b[0m\u001b[1;36m0.5\u001b[0m\u001b[1;33m)\u001b[0m\u001b[1;33m\u001b[0m\u001b[1;33m\u001b[0m\u001b[0m\n\u001b[1;32m--> 122\u001b[1;33m     \u001b[0max2\u001b[0m\u001b[1;33m.\u001b[0m\u001b[0mplot\u001b[0m\u001b[1;33m(\u001b[0m\u001b[0mrnTime\u001b[0m\u001b[1;33m(\u001b[0m\u001b[0mthisDates\u001b[0m\u001b[1;33m,\u001b[0m\u001b[1;36m7\u001b[0m\u001b[1;33m)\u001b[0m\u001b[1;33m,\u001b[0m\u001b[0mrnMean\u001b[0m\u001b[1;33m(\u001b[0m\u001b[0mcurdfData\u001b[0m\u001b[1;33m[\u001b[0m\u001b[1;34m'new_deaths'\u001b[0m\u001b[1;33m]\u001b[0m\u001b[1;33m,\u001b[0m\u001b[1;36m7\u001b[0m\u001b[1;33m)\u001b[0m\u001b[1;33m,\u001b[0m\u001b[1;34m'b'\u001b[0m\u001b[1;33m)\u001b[0m\u001b[1;33m\u001b[0m\u001b[1;33m\u001b[0m\u001b[0m\n\u001b[0m\u001b[0;32m    123\u001b[0m     \u001b[1;31m# ax2.plot(allDates,excessMort/curWidth,'.-',color='r')\u001b[0m\u001b[1;33m\u001b[0m\u001b[1;33m\u001b[0m\u001b[1;33m\u001b[0m\u001b[0m\n\u001b[0;32m    124\u001b[0m     \u001b[0max2\u001b[0m\u001b[1;33m.\u001b[0m\u001b[0mbar\u001b[0m\u001b[1;33m(\u001b[0m\u001b[0mallDates\u001b[0m\u001b[1;33m,\u001b[0m\u001b[0mexcessMort\u001b[0m\u001b[1;33m/\u001b[0m\u001b[0mcurWidth\u001b[0m\u001b[1;33m,\u001b[0m\u001b[0mcolor\u001b[0m\u001b[1;33m=\u001b[0m\u001b[1;34m'r'\u001b[0m\u001b[1;33m,\u001b[0m\u001b[0mwidth\u001b[0m\u001b[1;33m=\u001b[0m\u001b[0mnp\u001b[0m\u001b[1;33m.\u001b[0m\u001b[0mtimedelta64\u001b[0m\u001b[1;33m(\u001b[0m\u001b[0mcurWidth\u001b[0m\u001b[1;33m,\u001b[0m\u001b[1;34m'D'\u001b[0m\u001b[1;33m)\u001b[0m\u001b[1;33m)\u001b[0m\u001b[1;33m\u001b[0m\u001b[1;33m\u001b[0m\u001b[0m\n",
                        "\u001b[1;32m<ipython-input-1-151925bdb153>\u001b[0m in \u001b[0;36mrnMean\u001b[1;34m(data, meanWidth)\u001b[0m\n\u001b[0;32m     48\u001b[0m \u001b[1;33m\u001b[0m\u001b[0m\n\u001b[0;32m     49\u001b[0m \u001b[1;32mdef\u001b[0m \u001b[0mrnMean\u001b[0m\u001b[1;33m(\u001b[0m\u001b[0mdata\u001b[0m\u001b[1;33m,\u001b[0m\u001b[0mmeanWidth\u001b[0m\u001b[1;33m)\u001b[0m\u001b[1;33m:\u001b[0m\u001b[1;33m\u001b[0m\u001b[1;33m\u001b[0m\u001b[0m\n\u001b[1;32m---> 50\u001b[1;33m     \u001b[1;32mreturn\u001b[0m \u001b[0mnp\u001b[0m\u001b[1;33m.\u001b[0m\u001b[0mconvolve\u001b[0m\u001b[1;33m(\u001b[0m\u001b[0mdata\u001b[0m\u001b[1;33m,\u001b[0m \u001b[0mnp\u001b[0m\u001b[1;33m.\u001b[0m\u001b[0mones\u001b[0m\u001b[1;33m(\u001b[0m\u001b[0mmeanWidth\u001b[0m\u001b[1;33m)\u001b[0m\u001b[1;33m/\u001b[0m\u001b[0mmeanWidth\u001b[0m\u001b[1;33m,\u001b[0m \u001b[0mmode\u001b[0m\u001b[1;33m=\u001b[0m\u001b[1;34m'valid'\u001b[0m\u001b[1;33m)\u001b[0m\u001b[1;33m\u001b[0m\u001b[1;33m\u001b[0m\u001b[0m\n\u001b[0m\u001b[0;32m     51\u001b[0m \u001b[1;32mdef\u001b[0m \u001b[0mrnTime\u001b[0m\u001b[1;33m(\u001b[0m\u001b[0mt\u001b[0m\u001b[1;33m,\u001b[0m\u001b[0mmeanWidth\u001b[0m\u001b[1;33m)\u001b[0m\u001b[1;33m:\u001b[0m\u001b[1;33m\u001b[0m\u001b[1;33m\u001b[0m\u001b[0m\n\u001b[0;32m     52\u001b[0m     \u001b[1;32mreturn\u001b[0m \u001b[0mt\u001b[0m\u001b[1;33m[\u001b[0m\u001b[0mmath\u001b[0m\u001b[1;33m.\u001b[0m\u001b[0mfloor\u001b[0m\u001b[1;33m(\u001b[0m\u001b[0mmeanWidth\u001b[0m\u001b[1;33m/\u001b[0m\u001b[1;36m2\u001b[0m\u001b[1;33m)\u001b[0m\u001b[1;33m:\u001b[0m\u001b[1;33m-\u001b[0m\u001b[0mmath\u001b[0m\u001b[1;33m.\u001b[0m\u001b[0mceil\u001b[0m\u001b[1;33m(\u001b[0m\u001b[0mmeanWidth\u001b[0m\u001b[1;33m/\u001b[0m\u001b[1;36m2\u001b[0m\u001b[1;33m)\u001b[0m\u001b[1;33m+\u001b[0m\u001b[1;36m1\u001b[0m\u001b[1;33m]\u001b[0m\u001b[1;33m\u001b[0m\u001b[1;33m\u001b[0m\u001b[0m\n",
                        "\u001b[1;32m<__array_function__ internals>\u001b[0m in \u001b[0;36mconvolve\u001b[1;34m(*args, **kwargs)\u001b[0m\n",
                        "\u001b[1;32m~\\Anaconda3\\envs\\main\\lib\\site-packages\\numpy\\core\\numeric.py\u001b[0m in \u001b[0;36mconvolve\u001b[1;34m(a, v, mode)\u001b[0m\n\u001b[0;32m    813\u001b[0m         \u001b[1;32mraise\u001b[0m \u001b[0mValueError\u001b[0m\u001b[1;33m(\u001b[0m\u001b[1;34m'a cannot be empty'\u001b[0m\u001b[1;33m)\u001b[0m\u001b[1;33m\u001b[0m\u001b[1;33m\u001b[0m\u001b[0m\n\u001b[0;32m    814\u001b[0m     \u001b[1;32mif\u001b[0m \u001b[0mlen\u001b[0m\u001b[1;33m(\u001b[0m\u001b[0mv\u001b[0m\u001b[1;33m)\u001b[0m \u001b[1;33m==\u001b[0m \u001b[1;36m0\u001b[0m\u001b[1;33m:\u001b[0m\u001b[1;33m\u001b[0m\u001b[1;33m\u001b[0m\u001b[0m\n\u001b[1;32m--> 815\u001b[1;33m         \u001b[1;32mraise\u001b[0m \u001b[0mValueError\u001b[0m\u001b[1;33m(\u001b[0m\u001b[1;34m'v cannot be empty'\u001b[0m\u001b[1;33m)\u001b[0m\u001b[1;33m\u001b[0m\u001b[1;33m\u001b[0m\u001b[0m\n\u001b[0m\u001b[0;32m    816\u001b[0m     \u001b[0mmode\u001b[0m \u001b[1;33m=\u001b[0m \u001b[0m_mode_from_name\u001b[0m\u001b[1;33m(\u001b[0m\u001b[0mmode\u001b[0m\u001b[1;33m)\u001b[0m\u001b[1;33m\u001b[0m\u001b[1;33m\u001b[0m\u001b[0m\n\u001b[0;32m    817\u001b[0m     \u001b[1;32mreturn\u001b[0m \u001b[0mmultiarray\u001b[0m\u001b[1;33m.\u001b[0m\u001b[0mcorrelate\u001b[0m\u001b[1;33m(\u001b[0m\u001b[0ma\u001b[0m\u001b[1;33m,\u001b[0m \u001b[0mv\u001b[0m\u001b[1;33m[\u001b[0m\u001b[1;33m:\u001b[0m\u001b[1;33m:\u001b[0m\u001b[1;33m-\u001b[0m\u001b[1;36m1\u001b[0m\u001b[1;33m]\u001b[0m\u001b[1;33m,\u001b[0m \u001b[0mmode\u001b[0m\u001b[1;33m)\u001b[0m\u001b[1;33m\u001b[0m\u001b[1;33m\u001b[0m\u001b[0m\n",
                        "\u001b[1;31mValueError\u001b[0m: v cannot be empty"
                    ]
                }
            ],
            "metadata": {}
        },
        {
            "cell_type": "code",
            "execution_count": 32,
            "source": [
                "\r\n",
                "try:\r\n",
                "    ax2.plot(rnTime(thisDates,7),rnMean(curdfData['new_deaths'],7),'b')\r\n",
                "except:\r\n",
                "    2+2"
            ],
            "outputs": [],
            "metadata": {}
        },
        {
            "cell_type": "code",
            "execution_count": null,
            "source": [],
            "outputs": [],
            "metadata": {}
        },
        {
            "cell_type": "code",
            "execution_count": 11,
            "source": [
                "# curdfData['date'] = pd.to_datetime(curdfData['date'])\r\n",
                "\r\n",
                "thisDates = pd.to_datetime(dkdfData.date)\r\n",
                "\r\n",
                "fig,ax1 = plt.subplots()\r\n",
                "\r\n",
                "ax1.plot(allDates,excessMort*0,color='k')\r\n",
                "ax1.plot(thisDates,dkdfData['new_deaths'],'.:b',markersize=2,linewidth=0.5)\r\n",
                "ax1.plot(rnTime(thisDates,7),rnMean(dkdfData['new_deaths'],7),'b')\r\n",
                "# ax1.plot(allDates,excessMort/7,'.-',color='r')\r\n",
                "ax1.bar(allDates,excessMort/7,color='r',width=np.timedelta64(7,'D'))\r\n",
                "# ax1.plot(thisDates,curdfData['excess_mortality'],'*')\r\n",
                "\r\n",
                "ax1.xaxis.set_major_formatter(mdates.DateFormatter('%b\\n%Y'))\r\n",
                "\r\n",
                "# if saveFigures:\r\n",
                "#     plt.savefig('figs/ExcessMortalityCompareWithCOVID_DK')"
            ],
            "outputs": [
                {
                    "output_type": "display_data",
                    "data": {
                        "text/plain": [
                            "Canvas(toolbar=Toolbar(toolitems=[('Home', 'Reset original view', 'home', 'home'), ('Back', 'Back to previous …"
                        ],
                        "application/vnd.jupyter.widget-view+json": {
                            "version_major": 2,
                            "version_minor": 0,
                            "model_id": "8f5944a103a949f1b252e7c2d6718eba"
                        }
                    },
                    "metadata": {}
                }
            ],
            "metadata": {}
        }
    ],
    "metadata": {
        "orig_nbformat": 4,
        "language_info": {
            "name": "python",
            "version": "3.8.5",
            "mimetype": "text/x-python",
            "codemirror_mode": {
                "name": "ipython",
                "version": 3
            },
            "pygments_lexer": "ipython3",
            "nbconvert_exporter": "python",
            "file_extension": ".py"
        },
        "kernelspec": {
            "name": "python3",
            "display_name": "Python 3.8.5 64-bit ('main': conda)"
        },
        "interpreter": {
            "hash": "c72cdf52cb3d31f207bca538e9396da8706c0ecf4a3038fb1c2b317934170431"
        }
    },
    "nbformat": 4,
    "nbformat_minor": 2
}