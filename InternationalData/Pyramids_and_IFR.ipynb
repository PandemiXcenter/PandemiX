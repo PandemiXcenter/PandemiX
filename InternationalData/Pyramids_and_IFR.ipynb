{
    "cells": [
        {
            "cell_type": "code",
            "execution_count": 95,
            "source": [
                "# Looking at population pyramids and IFR\r\n",
                "# Method (and some of the code) based on Marc Bevand's work, see https://github.com/mbevand/covid19-age-stratified-ifr \r\n",
                "\r\n",
                "import numpy as np\r\n",
                "import pandas as pd\r\n",
                "pd.set_option('display.max_rows', 500)\r\n",
                "pd.set_option('display.min_rows', 50)\r\n",
                "\r\n",
                "import requests\r\n",
                "\r\n",
                "import matplotlib.pyplot as plt\r\n",
                "%matplotlib widget\r\n",
                "plt.rcParams['figure.figsize'] = (12,8)\r\n",
                "plt.rcParams[\"image.cmap\"] = \"tab10\"\r\n",
                "plt.rcParams['axes.prop_cycle'] = plt.cycler(color=plt.cm.tab10.colors)\r\n",
                "fs_label = 16\r\n",
                "parameters = {\r\n",
                "                'axes.labelsize': fs_label,\r\n",
                "                'axes.titlesize': fs_label+4,\r\n",
                "                'xtick.labelsize': fs_label,\r\n",
                "                'ytick.labelsize': fs_label, \r\n",
                "                'legend.fontsize': fs_label, \r\n",
                "                'lines.markersize': 10,\r\n",
                "                'lines.linewidth': 3\r\n",
                "             }\r\n",
                "plt.rcParams.update(parameters)\r\n",
                "%matplotlib widget\r\n",
                "import matplotlib.colors as colors\r\n",
                "from matplotlib import cm # Colormaps\r\n",
                "\r\n",
                "cmap = cm.get_cmap('Dark2',7)\r\n",
                "\r\n",
                "import locale\r\n",
                "import matplotlib.dates as mdates\r\n",
                "# locale.setlocale(locale.LC_TIME,\"Danish\")\r\n",
                "# ax = plt.gca()\r\n",
                "# ax1.xaxis.set_major_formatter(mdates.DateFormatter('%b\\n%Y'))\r\n",
                "# # ax.xaxis.set_major_formatter(mdates.DateFormatter('%Y \\n %B'))\r\n",
                "\r\n",
                "\r\n",
                "import os\r\n",
                "import math\r\n",
                "\r\n",
                "from datetime import date\r\n",
                "import datetime\r\n",
                "\r\n",
                "saveFigures = True\r\n",
                "print('saveFigures is set to: '+str(saveFigures))\r\n",
                "print('Done loading packages')\r\n",
                "\r\n",
                "def rnMean(data,meanWidth):\r\n",
                "    return np.convolve(data, np.ones(meanWidth)/meanWidth, mode='valid')\r\n",
                "def rnTime(t,meanWidth):\r\n",
                "    return t[math.floor(meanWidth/2):-math.ceil(meanWidth/2)+1]\r\n",
                "def rnTime2(t,meanWidth):\r\n",
                "    return t[meanWidth-1:]\r\n",
                "def plotWithMean(ax,x,y,meanWidth):\r\n",
                "    firstLine = ax.plot(x,y,'.:',markersize=2,linewidth=0.5)\r\n",
                "    firstColor = firstLine[0].get_color()\r\n",
                "    ax.plot(rnTime(x,meanWidth),rnMean(y,meanWidth),color=firstColor)"
            ],
            "outputs": [
                {
                    "output_type": "stream",
                    "name": "stdout",
                    "text": [
                        "saveFigures is set to: True\n",
                        "Done loading packages\n"
                    ]
                }
            ],
            "metadata": {}
        },
        {
            "cell_type": "code",
            "execution_count": 96,
            "source": [
                "# Pyramid data is from the United Nations: this file is a CSV export of the first sheet\r\n",
                "# of \"Population by Age Groups - Both Sexes\" linked from:\r\n",
                "# https://population.un.org/wpp/Download/Standard/Population/\r\n",
                "# Direct link:\r\n",
                "# https://population.un.org/wpp/Download/Files/1_Indicators%20(Standard)/EXCEL_FILES/1_Population/WPP2019_POP_F07_1_POPULATION_BY_AGE_BOTH_SEXES.xlsx\r\n",
                "file_pyramids = 'data/WPP2019_POP_F07_1_POPULATION_BY_AGE_BOTH_SEXES.csv'\r\n",
                "\r\n",
                "maxage = 100\r\n",
                "# Age groups defined in the CSV file\r\n",
                "age_groups = [(0,4), (5,9), (10,14), (15,19), (20,24), (25,29), (30,34), (35,39), (40,44), (45,49), (50,54), (55,59), (60,64), (65,69), (70,74), (75,79), (80,84), (85,89), (90,94), (95,99), (100,maxage)]\r\n",
                "\r\n",
                "# This will hold parsed pyramid data. Example to get the number of people in the\r\n",
                "# age group 20-24 in France: pyramid['France'][(20,24)]\r\n",
                "pyramid = {}\r\n",
                "\r\n",
                "def ag2str(age_group):\r\n",
                "    if age_group[1] == maxage:\r\n",
                "        return f'{age_group[0]}+'\r\n",
                "    return f'{age_group[0]}-{age_group[1]}'\r\n",
                "\r\n",
                "def parse_pyramids():\r\n",
                "    df = pd.read_csv(file_pyramids)\r\n",
                "    # ignore labels as they don't contain any data\r\n",
                "    df = df[df['Type'] != 'Label/Separator']\r\n",
                "    # only take rows with data as of 2020\r\n",
                "    df = df[df['Reference date (as of 1 July)'] == 2020]\r\n",
                "    # only parse countries, world, and continents\r\n",
                "    df = df[df['Type'].isin(('Country/Area', 'World', 'Region'))]\r\n",
                "    # remove spaces used as thousands separators, and convert cell values to floats\r\n",
                "    columns = [ag2str(x) for x in age_groups]\r\n",
                "    for col in columns:\r\n",
                "        df[col] = df[col].str.replace('\\s+', '').astype(float)\r\n",
                "    regions = list(df['Region, subregion, country or area *'])\r\n",
                "    #regions = ('France',)\r\n",
                "    for region in regions:\r\n",
                "        pyramid[region] = {}\r\n",
                "        df_region = df[df['Region, subregion, country or area *'] == region]\r\n",
                "        for ag in age_groups:\r\n",
                "            # values are in thousands\r\n",
                "            pyramid[region][ag] = 1000 * float(df_region[ag2str(ag)])"
            ],
            "outputs": [],
            "metadata": {}
        },
        {
            "cell_type": "code",
            "execution_count": 97,
            "source": [
                "\r\n",
                "# For a description of cdc_sympt, see the same variable name defined in covid_vs_flu.py\r\n",
                "cdc_sympt = .33\r\n",
                "\r\n",
                "# Various age-stratified IFR estimates\r\n",
                "ifrs = [\r\n",
                "\r\n",
                "        # Calculated from Spanish ENE-COVID study\r\n",
                "        # (see calc_ifr.py)\r\n",
                "        ('ENE-COVID', {\r\n",
                "            (0,9):    0.003,\r\n",
                "            (10,19):  0.004,\r\n",
                "            (20,29):  0.015,\r\n",
                "            (30,39):  0.030,\r\n",
                "            (40,49):  0.064,\r\n",
                "            (50,59):  0.213,\r\n",
                "            (60,69):  0.718,\r\n",
                "            (70,79):  2.384,\r\n",
                "            (80,89):  8.466,\r\n",
                "            (90,maxage): 12.497,\r\n",
                "        }),\r\n",
                "\r\n",
                "        # US CDC estimate as of 19 Mar 2021\r\n",
                "        # https://www.cdc.gov/coronavirus/2019-ncov/hcp/planning-scenarios.html\r\n",
                "        # (table 1)\r\n",
                "        ('COVID: US CDC', {\r\n",
                "            (0,17):   0.002,\r\n",
                "            (18,49):  0.05,\r\n",
                "            (50,64):  0.6,\r\n",
                "            (65,maxage): 9.0,\r\n",
                "        }),\r\n",
                "\r\n",
                "        # Verity et al.\r\n",
                "        # https://www.thelancet.com/journals/laninf/article/PIIS1473-3099(20)30243-7/fulltext\r\n",
                "        # (table 1)\r\n",
                "        ('COVID: Verity', {\r\n",
                "            (0,9):    0.00161,\r\n",
                "            (10,19):  0.00695,\r\n",
                "            (20,29):  0.0309,\r\n",
                "            (30,39):  0.0844,\r\n",
                "            (40,49):  0.161,\r\n",
                "            (50,59):  0.595,\r\n",
                "            (60,69):  1.93,\r\n",
                "            (70,79):  4.28,\r\n",
                "            (80,maxage): 7.80,\r\n",
                "        }),\r\n",
                "\r\n",
                "        # Levin et al.\r\n",
                "        # https://link.springer.com/article/10.1007/s10654-020-00698-1\r\n",
                "        # (table 3)\r\n",
                "        ('COVID: Levin', {\r\n",
                "            (0,34):   0.004,\r\n",
                "            (35,44):  0.068,\r\n",
                "            (45,54):  0.23,\r\n",
                "            (55,64):  0.75,\r\n",
                "            (65,74):  2.5,\r\n",
                "            (75,84):  8.5,\r\n",
                "            (85,maxage): 28.3,\r\n",
                "        }),\r\n",
                "\r\n",
                "        # Brazeau et al.\r\n",
                "        # https://www.imperial.ac.uk/mrc-global-infectious-disease-analysis/covid-19/report-34-ifr/\r\n",
                "        # (table 2, column \"IFR (%) with Seroreversion\")\r\n",
                "        ('COVID: Brazeau', {\r\n",
                "            (0,4):    0.00,\r\n",
                "            (5,9):    0.01,\r\n",
                "            (10,14):  0.01,\r\n",
                "            (15,19):  0.02,\r\n",
                "            (20,24):  0.02,\r\n",
                "            (25,29):  0.04,\r\n",
                "            (30,34):  0.06,\r\n",
                "            (35,39):  0.09,\r\n",
                "            (40,44):  0.15,\r\n",
                "            (45,49):  0.23,\r\n",
                "            (50,54):  0.36,\r\n",
                "            (55,59):  0.57,\r\n",
                "            (60,64):  0.89,\r\n",
                "            (65,69):  1.39,\r\n",
                "            (70,74):  2.17,\r\n",
                "            (75,79):  3.39,\r\n",
                "            (80,84):  5.30,\r\n",
                "            (85,89):  8.28,\r\n",
                "            (90,maxage): 16.19,\r\n",
                "        }),\r\n",
                "\r\n",
                "        # IFR for seasonal influenza\r\n",
                "        # US CDC 2019-2020 influenza burden\r\n",
                "        # https://www.cdc.gov/flu/about/burden/2019-2020.html\r\n",
                "        ('Flu: US CDC', {\r\n",
                "            (0,4):              254/4_291_677 * 100 * cdc_sympt,\r\n",
                "            (5,17):             180/8_214_257 * 100 * cdc_sympt,\r\n",
                "            (18,49):            2_669/15_325_708 * 100 * cdc_sympt,\r\n",
                "            (50,64):            5_133/8_416_702 * 100 * cdc_sympt,\r\n",
                "            (65,maxage):        13_673/1_946_161 * 100 * cdc_sympt,\r\n",
                "        }),\r\n",
                "\r\n",
                "]\r\n"
            ],
            "outputs": [],
            "metadata": {}
        },
        {
            "cell_type": "code",
            "execution_count": 98,
            "source": [
                "parse_pyramids()\r\n",
                "# pyramid"
            ],
            "outputs": [
                {
                    "output_type": "stream",
                    "name": "stderr",
                    "text": [
                        "<ipython-input-96-80e8f36a4a51>:32: FutureWarning: The default value of regex will change from True to False in a future version.\n",
                        "  df[col] = df[col].str.replace('\\s+', '').astype(float)\n"
                    ]
                }
            ],
            "metadata": {}
        },
        {
            "cell_type": "code",
            "execution_count": 99,
            "source": [
                "\r\n",
                "def people_of_age(pyramid_region, age):\r\n",
                "    # Returns the number of people of exact age 'age', given the provided age pyramid\r\n",
                "    for ((a, b), n) in pyramid_region.items():\r\n",
                "        if age in range(a, b + 1):\r\n",
                "            return n / float(b - a + 1)\r\n"
            ],
            "outputs": [],
            "metadata": {}
        },
        {
            "cell_type": "code",
            "execution_count": 100,
            "source": [
                "people_of_age(pyramid['Denmark'],80)"
            ],
            "outputs": [
                {
                    "output_type": "execute_result",
                    "data": {
                        "text/plain": [
                            "29400.0"
                        ]
                    },
                    "metadata": {},
                    "execution_count": 100
                }
            ],
            "metadata": {}
        },
        {
            "cell_type": "code",
            "execution_count": 136,
            "source": [
                "\r\n",
                "def overall_ifr(pyramid_region, ifr_age_stratified):\r\n",
                "    pop = 0\r\n",
                "    deaths = 0\r\n",
                "    for (age_group, ifr) in ifr_age_stratified.items():\r\n",
                "        for age in range(age_group[0], age_group[1] + 1):\r\n",
                "            pop += people_of_age(pyramid_region, age)\r\n",
                "            deaths += people_of_age(pyramid_region, age) * ifr / 100.0\r\n",
                "            \r\n",
                "    # print(pop)\r\n",
                "    # print(sum(pyramid_region.values()))\r\n",
                "    # assert pop == sum(pyramid_region.values())\r\n",
                "    return 100.0 * deaths / pop"
            ],
            "outputs": [],
            "metadata": {}
        },
        {
            "cell_type": "code",
            "execution_count": 137,
            "source": [
                "overall_ifr(pyramid_region=pyramid['Denmark'],ifr_age_stratified=ifrs[0][1])"
            ],
            "outputs": [
                {
                    "output_type": "execute_result",
                    "data": {
                        "text/plain": [
                            "0.7970310827145569"
                        ]
                    },
                    "metadata": {},
                    "execution_count": 137
                }
            ],
            "metadata": {}
        },
        {
            "cell_type": "markdown",
            "source": [
                "# For check of method"
            ],
            "metadata": {}
        },
        {
            "cell_type": "code",
            "execution_count": 226,
            "source": [
                "allDKifrs = []\r\n",
                "for k in range(0,5):\r\n",
                "    allDKifrs.append(overall_ifr(pyramid_region=pyramid['Denmark'],ifr_age_stratified=ifrs[k][1]))\r\n",
                "    \r\n",
                "allDKifrs\r\n",
                "\r\n",
                "# From Marc Bezand's table: | 0.797 | 1.954 | 1.136 | 1.593 | 0.878 |"
            ],
            "outputs": [
                {
                    "output_type": "execute_result",
                    "data": {
                        "text/plain": [
                            "[0.7970310827145569,\n",
                            " 1.9538892764634779,\n",
                            " 1.1364128924192711,\n",
                            " 1.592907269901572,\n",
                            " 0.8775841823519256]"
                        ]
                    },
                    "metadata": {},
                    "execution_count": 226
                }
            ],
            "metadata": {}
        },
        {
            "cell_type": "markdown",
            "source": [
                "# Vaccine-dependent IFR"
            ],
            "metadata": {}
        },
        {
            "cell_type": "code",
            "execution_count": 143,
            "source": [
                "# pyramid['Denmark']\r\n",
                "\r\n",
                "dkDefPyr = pyramid['Denmark']\r\n",
                "print(dkDefPyr)\r\n",
                "fullPop = np.fromiter(dkDefPyr.values(), dtype=float).sum()\r\n",
                "\r\n",
                "# keys = np.array(list(dkDefPyr.keys()))\r\n",
                "# values = np.array(list(dkDefPyr.values()))\r\n",
                "keys = list(dkDefPyr.keys())\r\n",
                "# newPyr = {keys:values}\r\n",
                "\r\n",
                "\r\n",
                "# ratioVacc = 0.99\r\n",
                "\r\n",
                "allVaccRate = np.arange(0,0.99,0.01)\r\n",
                "# allVaccRate = np.arange(0,0.99,0.2)\r\n",
                "allIFRs = []\r\n",
                "\r\n",
                "for ratioVacc in allVaccRate:\r\n",
                "    curPyr = dkDefPyr.copy()\r\n",
                "    toRemoveTot = np.ceil(fullPop * (ratioVacc))\r\n",
                "    toRemove = toRemoveTot\r\n",
                "    for k in range(len(curPyr)-1,-1,-1):\r\n",
                "        thisKey = keys[k]\r\n",
                "        thisCount = curPyr[thisKey]\r\n",
                "        \r\n",
                "        if (toRemove >= thisCount):\r\n",
                "            curPyr[thisKey] = 0\r\n",
                "            toRemove -= thisCount\r\n",
                "        else:\r\n",
                "            curPyr[thisKey] -= toRemove\r\n",
                "            # curPyr[thisKey] = np.floor(curPyr[thisKey] - toRemove)\r\n",
                "            toRemove = 0\r\n",
                "        \r\n",
                "        \r\n",
                "        # print(curPyr[keys[k]])\r\n",
                "    # print(curPyr)\r\n",
                "    # print(overall_ifr(pyramid_region=curPyr,ifr_age_stratified=ifrs[1][1]))\r\n",
                "    curIFR = overall_ifr(pyramid_region=curPyr,ifr_age_stratified=ifrs[0][1])\r\n",
                "    \r\n",
                "    allIFRs.append(curIFR)"
            ],
            "outputs": [
                {
                    "output_type": "stream",
                    "name": "stdout",
                    "text": [
                        "{(0, 4): 309000.0, (5, 9): 297000.0, (10, 14): 337000.0, (15, 19): 339000.0, (20, 24): 374000.0, (25, 29): 402000.0, (30, 34): 355000.0, (35, 39): 317000.0, (40, 44): 361000.0, (45, 49): 377000.0, (50, 54): 422000.0, (55, 59): 388000.0, (60, 64): 346000.0, (65, 69): 309000.0, (70, 74): 351000.0, (75, 79): 235000.0, (80, 84): 147000.0, (85, 89): 78000.0, (90, 94): 36000.0, (95, 99): 10000.0, (100, 100): 1000.0}\n"
                    ]
                }
            ],
            "metadata": {}
        },
        {
            "cell_type": "code",
            "execution_count": 145,
            "source": [
                "fig,ax1 = plt.subplots()\r\n",
                "ax1.plot(allVaccRate,allIFRs) "
            ],
            "outputs": [
                {
                    "output_type": "display_data",
                    "data": {
                        "text/plain": [
                            "Canvas(toolbar=Toolbar(toolitems=[('Home', 'Reset original view', 'home', 'home'), ('Back', 'Back to previous …"
                        ],
                        "application/vnd.jupyter.widget-view+json": {
                            "version_major": 2,
                            "version_minor": 0,
                            "model_id": "829f76a6f0db4767833d0fafabc770bc"
                        }
                    },
                    "metadata": {}
                },
                {
                    "output_type": "execute_result",
                    "data": {
                        "text/plain": [
                            "[<matplotlib.lines.Line2D at 0x1a17c66d820>]"
                        ]
                    },
                    "metadata": {},
                    "execution_count": 145
                }
            ],
            "metadata": {}
        },
        {
            "cell_type": "code",
            "execution_count": 218,
            "source": [
                "fig,ax1 = plt.subplots()\r\n",
                "\r\n",
                "allAllIFRs = []\r\n",
                "\r\n",
                "lstyles = ('solid', 'dashed', 'dotted', 'dashdot')\r\n",
                "lstyles = ('dashed', 'dotted', 'dashdot')\r\n",
                "markers = ('o', 's', 'v', '^', '<', '>', 'P', '*', 'X', 'D', 'p')\r\n",
                "# cmap = plt.cm.twilight()\r\n",
                "def getColor(i):\r\n",
                "    # return plt.cm.twilight((1/5) * i)\r\n",
                "    return plt.cm.bwr((1/10) * i)\r\n",
                "\r\n",
                "counter = 0\r\n",
                "for ifrDatabase in range(0,5):\r\n",
                "\r\n",
                "    allVaccRate = np.arange(0,1.0,0.01)\r\n",
                "    # allVaccRate = np.arange(0,0.99,0.2)\r\n",
                "    allIFRs = []\r\n",
                "\r\n",
                "    for ratioVacc in allVaccRate:\r\n",
                "        curPyr = dkDefPyr.copy()\r\n",
                "        toRemoveTot = np.ceil(fullPop * (ratioVacc))\r\n",
                "        toRemove = toRemoveTot\r\n",
                "        for k in range(len(curPyr)-1,-1,-1):\r\n",
                "            thisKey = keys[k]\r\n",
                "            thisCount = curPyr[thisKey]\r\n",
                "            \r\n",
                "            if (toRemove >= thisCount):\r\n",
                "                curPyr[thisKey] = 0\r\n",
                "                toRemove -= thisCount\r\n",
                "            else:\r\n",
                "                curPyr[thisKey] -= toRemove\r\n",
                "                # curPyr[thisKey] = np.floor(curPyr[thisKey] - toRemove)\r\n",
                "                toRemove = 0\r\n",
                "            \r\n",
                "            \r\n",
                "            # print(curPyr[keys[k]])\r\n",
                "        # print(curPyr)\r\n",
                "        # print(overall_ifr(pyramid_region=curPyr,ifr_age_stratified=ifrs[1][1]))\r\n",
                "        curIFR = overall_ifr(pyramid_region=curPyr,ifr_age_stratified=ifrs[ifrDatabase][1])\r\n",
                "        \r\n",
                "        allIFRs.append(curIFR)\r\n",
                "    ax1.plot(100*allVaccRate,allIFRs,linewidth=3,markersize=7,label=ifrs[ifrDatabase][0],color=getColor(counter),marker=markers[counter % len(markers)],ls=lstyles[counter % len(lstyles)])\r\n",
                "    # ax1.plot(100*allVaccRate,allIFRs,linewidth=4,label=ifrs[ifrDatabase][0],color=getColor(counter),ls=lstyles[counter % len(lstyles)])\r\n",
                "    # Save results\r\n",
                "    allAllIFRs.append(allIFRs)\r\n",
                "    \r\n",
                "    counter += 1\r\n",
                "    \r\n",
                "IFRdf = pd.DataFrame(np.array(allAllIFRs))\r\n",
                "allMean = IFRdf.mean()    \r\n",
                "\r\n",
                "# ax1.plot(100*allVaccRate,allMean,'k*-',label='Average',linewidth=4,markersize=10)\r\n",
                "ax1.plot(100*allVaccRate,allMean,'r*-',label='Average',linewidth=4,markersize=10)\r\n",
                "\r\n",
                "ax1.legend()\r\n",
                "\r\n",
                "\r\n",
                "ax1.set_ylim(bottom=0)\r\n",
                "ax1.set_xlim([0,100])\r\n",
                "\r\n",
                "ax1.set_xlabel('Vaccination rate [%]')\r\n",
                "ax1.set_ylabel('Effective IFR [%]')\r\n",
                "\r\n",
                "plt.tight_layout()\r\n",
                "\r\n",
                "if saveFigures:\r\n",
                "    plt.savefig('figs/VaccinationIFR_DK')\r\n",
                "    \r\n",
                "ax1.set_ylim(top=0.25)\r\n",
                "if saveFigures:\r\n",
                "    plt.savefig('figs/VaccinationIFR_DK_Zoom')\r\n",
                "    \r\n",
                "ax1.set_ylim(top=0.05)\r\n",
                "if saveFigures:\r\n",
                "    plt.savefig('figs/VaccinationIFR_DK_ZoomZoom')\r\n",
                "\r\n",
                "ax1.set_yscale('log') \r\n",
                "ax1.set_ylim(bottom=0.001,top=2)\r\n",
                "if saveFigures:\r\n",
                "    plt.savefig('figs/VaccinationIFR_DK_Log')\r\n",
                "    "
            ],
            "outputs": [
                {
                    "output_type": "display_data",
                    "data": {
                        "text/plain": [
                            "Canvas(toolbar=Toolbar(toolitems=[('Home', 'Reset original view', 'home', 'home'), ('Back', 'Back to previous …"
                        ],
                        "application/vnd.jupyter.widget-view+json": {
                            "version_major": 2,
                            "version_minor": 0,
                            "model_id": "a83f673b619b452da8d289be47d71664"
                        }
                    },
                    "metadata": {}
                }
            ],
            "metadata": {}
        },
        {
            "cell_type": "code",
            "execution_count": 196,
            "source": [
                "# asdf = pd.DataFrame(np.array(allAllIFRs))\r\n",
                "# asdf.mean()\r\n",
                "for i in range(0,5):\r\n",
                "    print(plt.cm.twilight(i*(1/5)))"
            ],
            "outputs": [
                {
                    "output_type": "stream",
                    "name": "stdout",
                    "text": [
                        "(0.8857501584075443, 0.8500092494306783, 0.8879736506427196, 1.0)\n",
                        "(0.42790652284925834, 0.5649543060909209, 0.7513944352191484, 1.0)\n",
                        "(0.3269137124539796, 0.1157873496841953, 0.4865864649569746, 1.0)\n",
                        "(0.39199887556812907, 0.09691583650296684, 0.2959521200550908, 1.0)\n",
                        "(0.7531856636904657, 0.45841199172949604, 0.3686223664223477, 1.0)\n"
                    ]
                }
            ],
            "metadata": {}
        },
        {
            "cell_type": "code",
            "execution_count": 158,
            "source": [
                "\r\n",
                "allVaccRate"
            ],
            "outputs": [
                {
                    "output_type": "execute_result",
                    "data": {
                        "text/plain": [
                            "array([0.  , 0.01, 0.02, 0.03, 0.04, 0.05, 0.06, 0.07, 0.08, 0.09, 0.1 ,\n",
                            "       0.11, 0.12, 0.13, 0.14, 0.15, 0.16, 0.17, 0.18, 0.19, 0.2 , 0.21,\n",
                            "       0.22, 0.23, 0.24, 0.25, 0.26, 0.27, 0.28, 0.29, 0.3 , 0.31, 0.32,\n",
                            "       0.33, 0.34, 0.35, 0.36, 0.37, 0.38, 0.39, 0.4 , 0.41, 0.42, 0.43,\n",
                            "       0.44, 0.45, 0.46, 0.47, 0.48, 0.49, 0.5 , 0.51, 0.52, 0.53, 0.54,\n",
                            "       0.55, 0.56, 0.57, 0.58, 0.59, 0.6 , 0.61, 0.62, 0.63, 0.64, 0.65,\n",
                            "       0.66, 0.67, 0.68, 0.69, 0.7 , 0.71, 0.72, 0.73, 0.74, 0.75, 0.76,\n",
                            "       0.77, 0.78, 0.79, 0.8 , 0.81, 0.82, 0.83, 0.84, 0.85, 0.86, 0.87,\n",
                            "       0.88, 0.89, 0.9 , 0.91, 0.92, 0.93, 0.94, 0.95, 0.96, 0.97, 0.98])"
                        ]
                    },
                    "metadata": {},
                    "execution_count": 158
                }
            ],
            "metadata": {}
        },
        {
            "cell_type": "code",
            "execution_count": 104,
            "source": [
                "pyramid['Denmark'].items()"
            ],
            "outputs": [
                {
                    "output_type": "execute_result",
                    "data": {
                        "text/plain": [
                            "dict_items([((0, 4), 309000.0), ((5, 9), 297000.0), ((10, 14), 337000.0), ((15, 19), 339000.0), ((20, 24), 374000.0), ((25, 29), 402000.0), ((30, 34), 355000.0), ((35, 39), 317000.0), ((40, 44), 361000.0), ((45, 49), 377000.0), ((50, 54), 422000.0), ((55, 59), 388000.0), ((60, 64), 346000.0), ((65, 69), 309000.0), ((70, 74), 351000.0), ((75, 79), 235000.0), ((80, 84), 147000.0), ((85, 89), 78000.0), ((90, 94), 36000.0), ((95, 99), 10000.0), ((100, 100), 1000.0)])"
                        ]
                    },
                    "metadata": {},
                    "execution_count": 104
                }
            ],
            "metadata": {}
        }
    ],
    "metadata": {
        "orig_nbformat": 4,
        "language_info": {
            "name": "python",
            "version": "3.8.5",
            "mimetype": "text/x-python",
            "codemirror_mode": {
                "name": "ipython",
                "version": 3
            },
            "pygments_lexer": "ipython3",
            "nbconvert_exporter": "python",
            "file_extension": ".py"
        },
        "kernelspec": {
            "name": "python3",
            "display_name": "Python 3.8.5 64-bit ('main': conda)"
        },
        "interpreter": {
            "hash": "c72cdf52cb3d31f207bca538e9396da8706c0ecf4a3038fb1c2b317934170431"
        }
    },
    "nbformat": 4,
    "nbformat_minor": 2
}