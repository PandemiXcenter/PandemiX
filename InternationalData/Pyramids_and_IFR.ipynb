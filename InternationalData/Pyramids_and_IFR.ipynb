{
    "cells": [
        {
            "cell_type": "code",
            "execution_count": 40,
            "source": [
                "# Looking at population pyramids and IFR\r\n",
                "# Method (and some of the code) based on Marc Bevand's work, see https://github.com/mbevand/covid19-age-stratified-ifr \r\n",
                "\r\n",
                "import numpy as np\r\n",
                "import pandas as pd\r\n",
                "pd.set_option('display.max_rows', 500)\r\n",
                "pd.set_option('display.min_rows', 50)\r\n",
                "\r\n",
                "import requests\r\n",
                "\r\n",
                "import matplotlib.pyplot as plt\r\n",
                "%matplotlib widget\r\n",
                "plt.rcParams['figure.figsize'] = (12,8)\r\n",
                "plt.rcParams[\"image.cmap\"] = \"tab10\"\r\n",
                "plt.rcParams['axes.prop_cycle'] = plt.cycler(color=plt.cm.tab10.colors)\r\n",
                "fs_label = 16\r\n",
                "parameters = {\r\n",
                "                'axes.labelsize': fs_label,\r\n",
                "                'axes.titlesize': fs_label+4,\r\n",
                "                'xtick.labelsize': fs_label,\r\n",
                "                'ytick.labelsize': fs_label, \r\n",
                "                'legend.fontsize': fs_label, \r\n",
                "                'lines.markersize': 10,\r\n",
                "                'lines.linewidth': 3\r\n",
                "             }\r\n",
                "plt.rcParams.update(parameters)\r\n",
                "%matplotlib widget\r\n",
                "import matplotlib.colors as colors\r\n",
                "from matplotlib import cm # Colormaps\r\n",
                "\r\n",
                "cmap = cm.get_cmap('Dark2',7)\r\n",
                "\r\n",
                "import locale\r\n",
                "import matplotlib.dates as mdates\r\n",
                "# locale.setlocale(locale.LC_TIME,\"Danish\")\r\n",
                "# ax = plt.gca()\r\n",
                "# ax1.xaxis.set_major_formatter(mdates.DateFormatter('%b\\n%Y'))\r\n",
                "# # ax.xaxis.set_major_formatter(mdates.DateFormatter('%Y \\n %B'))\r\n",
                "\r\n",
                "\r\n",
                "import os\r\n",
                "import math\r\n",
                "\r\n",
                "from datetime import date\r\n",
                "import datetime\r\n",
                "\r\n",
                "saveFigures = True\r\n",
                "print('saveFigures is set to: '+str(saveFigures))\r\n",
                "print('Done loading packages')\r\n",
                "\r\n",
                "def rnMean(data,meanWidth):\r\n",
                "    return np.convolve(data, np.ones(meanWidth)/meanWidth, mode='valid')\r\n",
                "def rnTime(t,meanWidth):\r\n",
                "    return t[math.floor(meanWidth/2):-math.ceil(meanWidth/2)+1]\r\n",
                "def rnTime2(t,meanWidth):\r\n",
                "    return t[meanWidth-1:]\r\n",
                "def plotWithMean(ax,x,y,meanWidth):\r\n",
                "    firstLine = ax.plot(x,y,'.:',markersize=2,linewidth=0.5)\r\n",
                "    firstColor = firstLine[0].get_color()\r\n",
                "    ax.plot(rnTime(x,meanWidth),rnMean(y,meanWidth),color=firstColor)"
            ],
            "outputs": [
                {
                    "output_type": "stream",
                    "name": "stdout",
                    "text": [
                        "saveFigures is set to: True\n",
                        "Done loading packages\n"
                    ]
                }
            ],
            "metadata": {}
        },
        {
            "cell_type": "code",
            "execution_count": 41,
            "source": [
                "# Pyramid data is from the United Nations: this file is a CSV export of the first sheet\r\n",
                "# of \"Population by Age Groups - Both Sexes\" linked from:\r\n",
                "# https://population.un.org/wpp/Download/Standard/Population/\r\n",
                "# Direct link:\r\n",
                "# https://population.un.org/wpp/Download/Files/1_Indicators%20(Standard)/EXCEL_FILES/1_Population/WPP2019_POP_F07_1_POPULATION_BY_AGE_BOTH_SEXES.xlsx\r\n",
                "file_pyramids = 'data/WPP2019_POP_F07_1_POPULATION_BY_AGE_BOTH_SEXES.csv'\r\n",
                "\r\n",
                "maxage = 100\r\n",
                "# Age groups defined in the CSV file\r\n",
                "age_groups = [(0,4), (5,9), (10,14), (15,19), (20,24), (25,29), (30,34), (35,39), (40,44), (45,49), (50,54), (55,59), (60,64), (65,69), (70,74), (75,79), (80,84), (85,89), (90,94), (95,99), (100,maxage)]\r\n",
                "\r\n",
                "# This will hold parsed pyramid data. Example to get the number of people in the\r\n",
                "# age group 20-24 in France: pyramid['France'][(20,24)]\r\n",
                "pyramid = {}\r\n",
                "\r\n",
                "def ag2str(age_group):\r\n",
                "    if age_group[1] == maxage:\r\n",
                "        return f'{age_group[0]}+'\r\n",
                "    return f'{age_group[0]}-{age_group[1]}'\r\n",
                "\r\n",
                "def parse_pyramids():\r\n",
                "    df = pd.read_csv(file_pyramids)\r\n",
                "    # ignore labels as they don't contain any data\r\n",
                "    df = df[df['Type'] != 'Label/Separator']\r\n",
                "    # only take rows with data as of 2020\r\n",
                "    df = df[df['Reference date (as of 1 July)'] == 2020]\r\n",
                "    # only parse countries, world, and continents\r\n",
                "    df = df[df['Type'].isin(('Country/Area', 'World', 'Region'))]\r\n",
                "    # remove spaces used as thousands separators, and convert cell values to floats\r\n",
                "    columns = [ag2str(x) for x in age_groups]\r\n",
                "    for col in columns:\r\n",
                "        df[col] = df[col].str.replace('\\s+', '').astype(float)\r\n",
                "    regions = list(df['Region, subregion, country or area *'])\r\n",
                "    #regions = ('France',)\r\n",
                "    for region in regions:\r\n",
                "        pyramid[region] = {}\r\n",
                "        df_region = df[df['Region, subregion, country or area *'] == region]\r\n",
                "        for ag in age_groups:\r\n",
                "            # values are in thousands\r\n",
                "            pyramid[region][ag] = 1000 * float(df_region[ag2str(ag)])"
            ],
            "outputs": [],
            "metadata": {}
        },
        {
            "cell_type": "code",
            "execution_count": 42,
            "source": [
                "\r\n",
                "# For a description of cdc_sympt, see the same variable name defined in covid_vs_flu.py\r\n",
                "cdc_sympt = .33\r\n",
                "\r\n",
                "# Various age-stratified IFR estimates\r\n",
                "ifrs = [\r\n",
                "\r\n",
                "        # Calculated from Spanish ENE-COVID study\r\n",
                "        # (see calc_ifr.py)\r\n",
                "        ('ENE-COVID', {\r\n",
                "            (0,9):    0.003,\r\n",
                "            (10,19):  0.004,\r\n",
                "            (20,29):  0.015,\r\n",
                "            (30,39):  0.030,\r\n",
                "            (40,49):  0.064,\r\n",
                "            (50,59):  0.213,\r\n",
                "            (60,69):  0.718,\r\n",
                "            (70,79):  2.384,\r\n",
                "            (80,89):  8.466,\r\n",
                "            (90,maxage): 12.497,\r\n",
                "        }),\r\n",
                "\r\n",
                "        # US CDC estimate as of 19 Mar 2021\r\n",
                "        # https://www.cdc.gov/coronavirus/2019-ncov/hcp/planning-scenarios.html\r\n",
                "        # (table 1)\r\n",
                "        ('COVID: US CDC', {\r\n",
                "            (0,17):   0.002,\r\n",
                "            (18,49):  0.05,\r\n",
                "            (50,64):  0.6,\r\n",
                "            (65,maxage): 9.0,\r\n",
                "        }),\r\n",
                "\r\n",
                "        # Verity et al.\r\n",
                "        # https://www.thelancet.com/journals/laninf/article/PIIS1473-3099(20)30243-7/fulltext\r\n",
                "        # (table 1)\r\n",
                "        ('COVID: Verity', {\r\n",
                "            (0,9):    0.00161,\r\n",
                "            (10,19):  0.00695,\r\n",
                "            (20,29):  0.0309,\r\n",
                "            (30,39):  0.0844,\r\n",
                "            (40,49):  0.161,\r\n",
                "            (50,59):  0.595,\r\n",
                "            (60,69):  1.93,\r\n",
                "            (70,79):  4.28,\r\n",
                "            (80,maxage): 7.80,\r\n",
                "        }),\r\n",
                "\r\n",
                "        # Levin et al.\r\n",
                "        # https://link.springer.com/article/10.1007/s10654-020-00698-1\r\n",
                "        # (table 3)\r\n",
                "        ('COVID: Levin', {\r\n",
                "            (0,34):   0.004,\r\n",
                "            (35,44):  0.068,\r\n",
                "            (45,54):  0.23,\r\n",
                "            (55,64):  0.75,\r\n",
                "            (65,74):  2.5,\r\n",
                "            (75,84):  8.5,\r\n",
                "            (85,maxage): 28.3,\r\n",
                "        }),\r\n",
                "\r\n",
                "        # Brazeau et al.\r\n",
                "        # https://www.imperial.ac.uk/mrc-global-infectious-disease-analysis/covid-19/report-34-ifr/\r\n",
                "        # (table 2, column \"IFR (%) with Seroreversion\")\r\n",
                "        ('COVID: Brazeau', {\r\n",
                "            (0,4):    0.00,\r\n",
                "            (5,9):    0.01,\r\n",
                "            (10,14):  0.01,\r\n",
                "            (15,19):  0.02,\r\n",
                "            (20,24):  0.02,\r\n",
                "            (25,29):  0.04,\r\n",
                "            (30,34):  0.06,\r\n",
                "            (35,39):  0.09,\r\n",
                "            (40,44):  0.15,\r\n",
                "            (45,49):  0.23,\r\n",
                "            (50,54):  0.36,\r\n",
                "            (55,59):  0.57,\r\n",
                "            (60,64):  0.89,\r\n",
                "            (65,69):  1.39,\r\n",
                "            (70,74):  2.17,\r\n",
                "            (75,79):  3.39,\r\n",
                "            (80,84):  5.30,\r\n",
                "            (85,89):  8.28,\r\n",
                "            (90,maxage): 16.19,\r\n",
                "        }),\r\n",
                "\r\n",
                "        # IFR for seasonal influenza\r\n",
                "        # US CDC 2019-2020 influenza burden\r\n",
                "        # https://www.cdc.gov/flu/about/burden/2019-2020.html\r\n",
                "        ('Flu: US CDC', {\r\n",
                "            (0,4):              254/4_291_677 * 100 * cdc_sympt,\r\n",
                "            (5,17):             180/8_214_257 * 100 * cdc_sympt,\r\n",
                "            (18,49):            2_669/15_325_708 * 100 * cdc_sympt,\r\n",
                "            (50,64):            5_133/8_416_702 * 100 * cdc_sympt,\r\n",
                "            (65,maxage):        13_673/1_946_161 * 100 * cdc_sympt,\r\n",
                "        }),\r\n",
                "\r\n",
                "]\r\n"
            ],
            "outputs": [],
            "metadata": {}
        },
        {
            "cell_type": "code",
            "execution_count": 43,
            "source": [
                "parse_pyramids()\r\n",
                "# pyramid"
            ],
            "outputs": [
                {
                    "output_type": "stream",
                    "name": "stderr",
                    "text": [
                        "<ipython-input-41-80e8f36a4a51>:32: FutureWarning: The default value of regex will change from True to False in a future version.\n",
                        "  df[col] = df[col].str.replace('\\s+', '').astype(float)\n"
                    ]
                }
            ],
            "metadata": {}
        },
        {
            "cell_type": "code",
            "execution_count": 44,
            "source": [
                "\r\n",
                "def people_of_age(pyramid_region, age):\r\n",
                "    # Returns the number of people of exact age 'age', given the provided age pyramid\r\n",
                "    for ((a, b), n) in pyramid_region.items():\r\n",
                "        if age in range(a, b + 1):\r\n",
                "            return n / float(b - a + 1)\r\n"
            ],
            "outputs": [],
            "metadata": {}
        },
        {
            "cell_type": "code",
            "execution_count": 45,
            "source": [
                "people_of_age(pyramid['Denmark'],80)"
            ],
            "outputs": [
                {
                    "output_type": "execute_result",
                    "data": {
                        "text/plain": [
                            "29400.0"
                        ]
                    },
                    "metadata": {},
                    "execution_count": 45
                }
            ],
            "metadata": {}
        },
        {
            "cell_type": "code",
            "execution_count": 46,
            "source": [
                "\r\n",
                "def overall_ifr(pyramid_region, ifr_age_stratified):\r\n",
                "    pop = 0\r\n",
                "    deaths = 0\r\n",
                "    for (age_group, ifr) in ifr_age_stratified.items():\r\n",
                "        for age in range(age_group[0], age_group[1] + 1):\r\n",
                "            pop += people_of_age(pyramid_region, age)\r\n",
                "            deaths += people_of_age(pyramid_region, age) * ifr / 100.0\r\n",
                "    assert pop == sum(pyramid_region.values())\r\n",
                "    return 100.0 * deaths / pop"
            ],
            "outputs": [],
            "metadata": {}
        },
        {
            "cell_type": "code",
            "execution_count": 54,
            "source": [
                "overall_ifr(pyramid_region=pyramid['Denmark'],ifr_age_stratified=ifrs[0][1])"
            ],
            "outputs": [
                {
                    "output_type": "execute_result",
                    "data": {
                        "text/plain": [
                            "0.7970310827145569"
                        ]
                    },
                    "metadata": {},
                    "execution_count": 54
                }
            ],
            "metadata": {}
        },
        {
            "cell_type": "code",
            "execution_count": 57,
            "source": [
                "pyramid['Denmark']"
            ],
            "outputs": [
                {
                    "output_type": "execute_result",
                    "data": {
                        "text/plain": [
                            "{(0, 4): 309000.0,\n",
                            " (5, 9): 297000.0,\n",
                            " (10, 14): 337000.0,\n",
                            " (15, 19): 339000.0,\n",
                            " (20, 24): 374000.0,\n",
                            " (25, 29): 402000.0,\n",
                            " (30, 34): 355000.0,\n",
                            " (35, 39): 317000.0,\n",
                            " (40, 44): 361000.0,\n",
                            " (45, 49): 377000.0,\n",
                            " (50, 54): 422000.0,\n",
                            " (55, 59): 388000.0,\n",
                            " (60, 64): 346000.0,\n",
                            " (65, 69): 309000.0,\n",
                            " (70, 74): 351000.0,\n",
                            " (75, 79): 235000.0,\n",
                            " (80, 84): 147000.0,\n",
                            " (85, 89): 78000.0,\n",
                            " (90, 94): 36000.0,\n",
                            " (95, 99): 10000.0,\n",
                            " (100, 100): 1000.0}"
                        ]
                    },
                    "metadata": {},
                    "execution_count": 57
                }
            ],
            "metadata": {}
        },
        {
            "cell_type": "code",
            "execution_count": null,
            "source": [
                "pyramid['Denmark'].items()"
            ],
            "outputs": [
                {
                    "output_type": "execute_result",
                    "data": {
                        "text/plain": [
                            "dict_items([((0, 4), 309000.0), ((5, 9), 297000.0), ((10, 14), 337000.0), ((15, 19), 339000.0), ((20, 24), 374000.0), ((25, 29), 402000.0), ((30, 34), 355000.0), ((35, 39), 317000.0), ((40, 44), 361000.0), ((45, 49), 377000.0), ((50, 54), 422000.0), ((55, 59), 388000.0), ((60, 64), 346000.0), ((65, 69), 309000.0), ((70, 74), 351000.0), ((75, 79), 235000.0), ((80, 84), 147000.0), ((85, 89), 78000.0), ((90, 94), 36000.0), ((95, 99), 10000.0), ((100, 100), 1000.0)])"
                        ]
                    },
                    "metadata": {},
                    "execution_count": 37
                }
            ],
            "metadata": {}
        }
    ],
    "metadata": {
        "orig_nbformat": 4,
        "language_info": {
            "name": "python",
            "version": "3.8.5",
            "mimetype": "text/x-python",
            "codemirror_mode": {
                "name": "ipython",
                "version": 3
            },
            "pygments_lexer": "ipython3",
            "nbconvert_exporter": "python",
            "file_extension": ".py"
        },
        "kernelspec": {
            "name": "python3",
            "display_name": "Python 3.8.5 64-bit ('main': conda)"
        },
        "interpreter": {
            "hash": "c72cdf52cb3d31f207bca538e9396da8706c0ecf4a3038fb1c2b317934170431"
        }
    },
    "nbformat": 4,
    "nbformat_minor": 2
}