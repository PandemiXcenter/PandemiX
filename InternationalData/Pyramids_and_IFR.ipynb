{
    "cells": [
        {
            "cell_type": "code",
            "execution_count": 1,
            "source": [
                "# Looking at population pyramids and IFR\r\n",
                "# Method (and some of the code) based on Marc Bevand's work, see https://github.com/mbevand/covid19-age-stratified-ifr \r\n",
                "\r\n",
                "import numpy as np\r\n",
                "import pandas as pd\r\n",
                "pd.set_option('display.max_rows', 500)\r\n",
                "pd.set_option('display.min_rows', 50)\r\n",
                "\r\n",
                "import requests\r\n",
                "\r\n",
                "import matplotlib.pyplot as plt\r\n",
                "%matplotlib widget\r\n",
                "plt.rcParams['figure.figsize'] = (12,8)\r\n",
                "plt.rcParams[\"image.cmap\"] = \"tab10\"\r\n",
                "plt.rcParams['axes.prop_cycle'] = plt.cycler(color=plt.cm.tab10.colors)\r\n",
                "fs_label = 16\r\n",
                "parameters = {\r\n",
                "                'axes.labelsize': fs_label,\r\n",
                "                'axes.titlesize': fs_label+4,\r\n",
                "                'xtick.labelsize': fs_label,\r\n",
                "                'ytick.labelsize': fs_label, \r\n",
                "                'legend.fontsize': fs_label, \r\n",
                "                'lines.markersize': 10,\r\n",
                "                'lines.linewidth': 3\r\n",
                "             }\r\n",
                "plt.rcParams.update(parameters)\r\n",
                "%matplotlib widget\r\n",
                "import matplotlib.colors as colors\r\n",
                "from matplotlib import cm # Colormaps\r\n",
                "\r\n",
                "cmap = cm.get_cmap('Dark2',7)\r\n",
                "\r\n",
                "import locale\r\n",
                "import matplotlib.dates as mdates\r\n",
                "# locale.setlocale(locale.LC_TIME,\"Danish\")\r\n",
                "# ax = plt.gca()\r\n",
                "# ax1.xaxis.set_major_formatter(mdates.DateFormatter('%b\\n%Y'))\r\n",
                "# # ax.xaxis.set_major_formatter(mdates.DateFormatter('%Y \\n %B'))\r\n",
                "\r\n",
                "\r\n",
                "import os\r\n",
                "import math\r\n",
                "\r\n",
                "from datetime import date\r\n",
                "import datetime\r\n",
                "\r\n",
                "saveFigures = True\r\n",
                "print('saveFigures is set to: '+str(saveFigures))\r\n",
                "print('Done loading packages')\r\n",
                "\r\n",
                "def rnMean(data,meanWidth):\r\n",
                "    return np.convolve(data, np.ones(meanWidth)/meanWidth, mode='valid')\r\n",
                "def rnTime(t,meanWidth):\r\n",
                "    return t[math.floor(meanWidth/2):-math.ceil(meanWidth/2)+1]\r\n",
                "def rnTime2(t,meanWidth):\r\n",
                "    return t[meanWidth-1:]\r\n",
                "def plotWithMean(ax,x,y,meanWidth):\r\n",
                "    firstLine = ax.plot(x,y,'.:',markersize=2,linewidth=0.5)\r\n",
                "    firstColor = firstLine[0].get_color()\r\n",
                "    ax.plot(rnTime(x,meanWidth),rnMean(y,meanWidth),color=firstColor)"
            ],
            "outputs": [
                {
                    "output_type": "stream",
                    "name": "stdout",
                    "text": [
                        "saveFigures is set to: True\n",
                        "Done loading packages\n"
                    ]
                }
            ],
            "metadata": {}
        },
        {
            "cell_type": "code",
            "execution_count": 2,
            "source": [
                "# Pyramid data is from the United Nations: this file is a CSV export of the first sheet\r\n",
                "# of \"Population by Age Groups - Both Sexes\" linked from:\r\n",
                "# https://population.un.org/wpp/Download/Standard/Population/\r\n",
                "# Direct link:\r\n",
                "# https://population.un.org/wpp/Download/Files/1_Indicators%20(Standard)/EXCEL_FILES/1_Population/WPP2019_POP_F07_1_POPULATION_BY_AGE_BOTH_SEXES.xlsx\r\n",
                "file_pyramids = 'data/WPP2019_POP_F07_1_POPULATION_BY_AGE_BOTH_SEXES.csv'\r\n",
                "\r\n",
                "maxage = 100\r\n",
                "# Age groups defined in the CSV file\r\n",
                "age_groups = [(0,4), (5,9), (10,14), (15,19), (20,24), (25,29), (30,34), (35,39), (40,44), (45,49), (50,54), (55,59), (60,64), (65,69), (70,74), (75,79), (80,84), (85,89), (90,94), (95,99), (100,maxage)]\r\n",
                "\r\n",
                "# This will hold parsed pyramid data. Example to get the number of people in the\r\n",
                "# age group 20-24 in France: pyramid['France'][(20,24)]\r\n",
                "pyramid = {}\r\n",
                "\r\n",
                "def ag2str(age_group):\r\n",
                "    if age_group[1] == maxage:\r\n",
                "        return f'{age_group[0]}+'\r\n",
                "    return f'{age_group[0]}-{age_group[1]}'\r\n",
                "\r\n",
                "def parse_pyramids():\r\n",
                "    df = pd.read_csv(file_pyramids)\r\n",
                "    # ignore labels as they don't contain any data\r\n",
                "    df = df[df['Type'] != 'Label/Separator']\r\n",
                "    # only take rows with data as of 2020\r\n",
                "    df = df[df['Reference date (as of 1 July)'] == 2020]\r\n",
                "    # only parse countries, world, and continents\r\n",
                "    df = df[df['Type'].isin(('Country/Area', 'World', 'Region'))]\r\n",
                "    # remove spaces used as thousands separators, and convert cell values to floats\r\n",
                "    columns = [ag2str(x) for x in age_groups]\r\n",
                "    for col in columns:\r\n",
                "        df[col] = df[col].str.replace('\\s+', '').astype(float)\r\n",
                "    regions = list(df['Region, subregion, country or area *'])\r\n",
                "    #regions = ('France',)\r\n",
                "    for region in regions:\r\n",
                "        pyramid[region] = {}\r\n",
                "        df_region = df[df['Region, subregion, country or area *'] == region]\r\n",
                "        for ag in age_groups:\r\n",
                "            # values are in thousands\r\n",
                "            pyramid[region][ag] = 1000 * float(df_region[ag2str(ag)])"
            ],
            "outputs": [],
            "metadata": {}
        },
        {
            "cell_type": "code",
            "execution_count": 3,
            "source": [
                "\r\n",
                "# For a description of cdc_sympt, see the same variable name defined in covid_vs_flu.py\r\n",
                "cdc_sympt = .33\r\n",
                "\r\n",
                "# Various age-stratified IFR estimates\r\n",
                "ifrs = [\r\n",
                "\r\n",
                "        # Calculated from Spanish ENE-COVID study\r\n",
                "        # (see calc_ifr.py)\r\n",
                "        ('ENE-COVID', {\r\n",
                "            (0,9):    0.003,\r\n",
                "            (10,19):  0.004,\r\n",
                "            (20,29):  0.015,\r\n",
                "            (30,39):  0.030,\r\n",
                "            (40,49):  0.064,\r\n",
                "            (50,59):  0.213,\r\n",
                "            (60,69):  0.718,\r\n",
                "            (70,79):  2.384,\r\n",
                "            (80,89):  8.466,\r\n",
                "            (90,maxage): 12.497,\r\n",
                "        }),\r\n",
                "\r\n",
                "        # US CDC estimate as of 19 Mar 2021\r\n",
                "        # https://www.cdc.gov/coronavirus/2019-ncov/hcp/planning-scenarios.html\r\n",
                "        # (table 1)\r\n",
                "        ('COVID: US CDC', {\r\n",
                "            (0,17):   0.002,\r\n",
                "            (18,49):  0.05,\r\n",
                "            (50,64):  0.6,\r\n",
                "            (65,maxage): 9.0,\r\n",
                "        }),\r\n",
                "\r\n",
                "        # Verity et al.\r\n",
                "        # https://www.thelancet.com/journals/laninf/article/PIIS1473-3099(20)30243-7/fulltext\r\n",
                "        # (table 1)\r\n",
                "        ('COVID: Verity', {\r\n",
                "            (0,9):    0.00161,\r\n",
                "            (10,19):  0.00695,\r\n",
                "            (20,29):  0.0309,\r\n",
                "            (30,39):  0.0844,\r\n",
                "            (40,49):  0.161,\r\n",
                "            (50,59):  0.595,\r\n",
                "            (60,69):  1.93,\r\n",
                "            (70,79):  4.28,\r\n",
                "            (80,maxage): 7.80,\r\n",
                "        }),\r\n",
                "\r\n",
                "        # Levin et al.\r\n",
                "        # https://link.springer.com/article/10.1007/s10654-020-00698-1\r\n",
                "        # (table 3)\r\n",
                "        ('COVID: Levin', {\r\n",
                "            (0,34):   0.004,\r\n",
                "            (35,44):  0.068,\r\n",
                "            (45,54):  0.23,\r\n",
                "            (55,64):  0.75,\r\n",
                "            (65,74):  2.5,\r\n",
                "            (75,84):  8.5,\r\n",
                "            (85,maxage): 28.3,\r\n",
                "        }),\r\n",
                "\r\n",
                "        # Brazeau et al.\r\n",
                "        # https://www.imperial.ac.uk/mrc-global-infectious-disease-analysis/covid-19/report-34-ifr/\r\n",
                "        # (table 2, column \"IFR (%) with Seroreversion\")\r\n",
                "        ('COVID: Brazeau', {\r\n",
                "            (0,4):    0.00,\r\n",
                "            (5,9):    0.01,\r\n",
                "            (10,14):  0.01,\r\n",
                "            (15,19):  0.02,\r\n",
                "            (20,24):  0.02,\r\n",
                "            (25,29):  0.04,\r\n",
                "            (30,34):  0.06,\r\n",
                "            (35,39):  0.09,\r\n",
                "            (40,44):  0.15,\r\n",
                "            (45,49):  0.23,\r\n",
                "            (50,54):  0.36,\r\n",
                "            (55,59):  0.57,\r\n",
                "            (60,64):  0.89,\r\n",
                "            (65,69):  1.39,\r\n",
                "            (70,74):  2.17,\r\n",
                "            (75,79):  3.39,\r\n",
                "            (80,84):  5.30,\r\n",
                "            (85,89):  8.28,\r\n",
                "            (90,maxage): 16.19,\r\n",
                "        }),\r\n",
                "\r\n",
                "        # IFR for seasonal influenza\r\n",
                "        # US CDC 2019-2020 influenza burden\r\n",
                "        # https://www.cdc.gov/flu/about/burden/2019-2020.html\r\n",
                "        ('Flu: US CDC', {\r\n",
                "            (0,4):              254/4_291_677 * 100 * cdc_sympt,\r\n",
                "            (5,17):             180/8_214_257 * 100 * cdc_sympt,\r\n",
                "            (18,49):            2_669/15_325_708 * 100 * cdc_sympt,\r\n",
                "            (50,64):            5_133/8_416_702 * 100 * cdc_sympt,\r\n",
                "            (65,maxage):        13_673/1_946_161 * 100 * cdc_sympt,\r\n",
                "        }),\r\n",
                "\r\n",
                "]\r\n"
            ],
            "outputs": [],
            "metadata": {}
        },
        {
            "cell_type": "code",
            "execution_count": 4,
            "source": [
                "parse_pyramids()\r\n",
                "# pyramid"
            ],
            "outputs": [
                {
                    "output_type": "stream",
                    "name": "stderr",
                    "text": [
                        "<ipython-input-2-80e8f36a4a51>:32: FutureWarning: The default value of regex will change from True to False in a future version.\n",
                        "  df[col] = df[col].str.replace('\\s+', '').astype(float)\n"
                    ]
                }
            ],
            "metadata": {}
        },
        {
            "cell_type": "code",
            "execution_count": 5,
            "source": [
                "\r\n",
                "def people_of_age(pyramid_region, age):\r\n",
                "    # Returns the number of people of exact age 'age', given the provided age pyramid\r\n",
                "    for ((a, b), n) in pyramid_region.items():\r\n",
                "        if age in range(a, b + 1):\r\n",
                "            return n / float(b - a + 1)\r\n"
            ],
            "outputs": [],
            "metadata": {}
        },
        {
            "cell_type": "code",
            "execution_count": 6,
            "source": [
                "people_of_age(pyramid['Denmark'],80) "
            ],
            "outputs": [
                {
                    "output_type": "execute_result",
                    "data": {
                        "text/plain": [
                            "29400.0"
                        ]
                    },
                    "metadata": {},
                    "execution_count": 6
                }
            ],
            "metadata": {}
        },
        {
            "cell_type": "code",
            "execution_count": 7,
            "source": [
                "\r\n",
                "def overall_ifr(pyramid_region, ifr_age_stratified):\r\n",
                "    pop = 0\r\n",
                "    deaths = 0\r\n",
                "    for (age_group, ifr) in ifr_age_stratified.items():\r\n",
                "        for age in range(age_group[0], age_group[1] + 1):\r\n",
                "            pop += people_of_age(pyramid_region, age)\r\n",
                "            deaths += people_of_age(pyramid_region, age) * ifr / 100.0\r\n",
                "            \r\n",
                "    # print(pop)\r\n",
                "    # print(sum(pyramid_region.values()))\r\n",
                "    # assert pop == sum(pyramid_region.values())\r\n",
                "    return 100.0 * deaths / pop"
            ],
            "outputs": [],
            "metadata": {}
        },
        {
            "cell_type": "code",
            "execution_count": 8,
            "source": [
                "overall_ifr(pyramid_region=pyramid['Denmark'],ifr_age_stratified=ifrs[0][1])"
            ],
            "outputs": [
                {
                    "output_type": "execute_result",
                    "data": {
                        "text/plain": [
                            "0.7970310827145569"
                        ]
                    },
                    "metadata": {},
                    "execution_count": 8
                }
            ],
            "metadata": {}
        },
        {
            "cell_type": "markdown",
            "source": [
                "# For check of method"
            ],
            "metadata": {}
        },
        {
            "cell_type": "code",
            "execution_count": 9,
            "source": [
                "allDKifrs = []\r\n",
                "for k in range(0,5):\r\n",
                "    allDKifrs.append(overall_ifr(pyramid_region=pyramid['Denmark'],ifr_age_stratified=ifrs[k][1]))\r\n",
                "    \r\n",
                "allDKifrs\r\n",
                "\r\n",
                "# From Marc Bezand's table: | 0.797 | 1.954 | 1.136 | 1.593 | 0.878 |"
            ],
            "outputs": [
                {
                    "output_type": "execute_result",
                    "data": {
                        "text/plain": [
                            "[0.7970310827145569,\n",
                            " 1.9538892764634779,\n",
                            " 1.1364128924192711,\n",
                            " 1.592907269901572,\n",
                            " 0.8775841823519256]"
                        ]
                    },
                    "metadata": {},
                    "execution_count": 9
                }
            ],
            "metadata": {}
        },
        {
            "cell_type": "code",
            "execution_count": 10,
            "source": [
                "# pyramid"
            ],
            "outputs": [],
            "metadata": {}
        },
        {
            "cell_type": "markdown",
            "source": [
                "# Vaccine-dependent IFR"
            ],
            "metadata": {}
        },
        {
            "cell_type": "code",
            "execution_count": 11,
            "source": [
                "# pyramid['Denmark']\r\n",
                "\r\n",
                "dkDefPyr = pyramid['Denmark']\r\n",
                "# dkDefPyr = pyramid['Peru']\r\n",
                "# dkDefPyr = pyramid['Latin America and the Caribbean']\r\n",
                "print(dkDefPyr)\r\n",
                "fullPop = np.fromiter(dkDefPyr.values(), dtype=float).sum()\r\n",
                "\r\n",
                "# keys = np.array(list(dkDefPyr.keys()))\r\n",
                "# values = np.array(list(dkDefPyr.values()))\r\n",
                "keys = list(dkDefPyr.keys())\r\n",
                "# newPyr = {keys:values}\r\n",
                "\r\n",
                "\r\n",
                "# ratioVacc = 0.99\r\n",
                "\r\n",
                "allVaccRate = np.arange(0,0.99,0.01)\r\n",
                "# allVaccRate = np.arange(0,0.99,0.2)\r\n",
                "allIFRs = []\r\n",
                "\r\n",
                "for ratioVacc in allVaccRate:\r\n",
                "    curPyr = dkDefPyr.copy()\r\n",
                "    toRemoveTot = np.ceil(fullPop * (ratioVacc))\r\n",
                "    toRemove = toRemoveTot\r\n",
                "    for k in range(len(curPyr)-1,-1,-1):\r\n",
                "        thisKey = keys[k]\r\n",
                "        thisCount = curPyr[thisKey]\r\n",
                "        \r\n",
                "        if (toRemove >= thisCount):\r\n",
                "            curPyr[thisKey] = 0\r\n",
                "            toRemove -= thisCount\r\n",
                "        else:\r\n",
                "            curPyr[thisKey] -= toRemove\r\n",
                "            # curPyr[thisKey] = np.floor(curPyr[thisKey] - toRemove)\r\n",
                "            toRemove = 0\r\n",
                "        \r\n",
                "        \r\n",
                "        # print(curPyr[keys[k]])\r\n",
                "    # print(curPyr)\r\n",
                "    # print(overall_ifr(pyramid_region=curPyr,ifr_age_stratified=ifrs[1][1]))\r\n",
                "    curIFR = overall_ifr(pyramid_region=curPyr,ifr_age_stratified=ifrs[0][1])\r\n",
                "    \r\n",
                "    allIFRs.append(curIFR)"
            ],
            "outputs": [
                {
                    "output_type": "stream",
                    "name": "stdout",
                    "text": [
                        "{(0, 4): 309000.0, (5, 9): 297000.0, (10, 14): 337000.0, (15, 19): 339000.0, (20, 24): 374000.0, (25, 29): 402000.0, (30, 34): 355000.0, (35, 39): 317000.0, (40, 44): 361000.0, (45, 49): 377000.0, (50, 54): 422000.0, (55, 59): 388000.0, (60, 64): 346000.0, (65, 69): 309000.0, (70, 74): 351000.0, (75, 79): 235000.0, (80, 84): 147000.0, (85, 89): 78000.0, (90, 94): 36000.0, (95, 99): 10000.0, (100, 100): 1000.0}\n"
                    ]
                }
            ],
            "metadata": {}
        },
        {
            "cell_type": "code",
            "execution_count": 12,
            "source": [
                "fig,ax1 = plt.subplots()\r\n",
                "allAllIFRs = []\r\n",
                "\r\n",
                "lstyles = ('solid', 'dashed', 'dotted', 'dashdot')\r\n",
                "lstyles = ('dashed', 'dotted', 'dashdot')\r\n",
                "markers = ('o', 's', 'v', '^', '<', '>', 'P', '*', 'X', 'D', 'p')\r\n",
                "# cmap = plt.cm.twilight()\r\n",
                "def getColor(i):\r\n",
                "    # return plt.cm.twilight((1/5) * i)\r\n",
                "    return plt.cm.bwr((1/10) * i)\r\n",
                "\r\n",
                "counter = 0\r\n",
                "for ifrDatabase in range(0,5):\r\n",
                "\r\n",
                "    allVaccRate = np.arange(0,1.0,0.01)\r\n",
                "    # allVaccRate = np.arange(0,0.99,0.2)\r\n",
                "    allIFRs = []\r\n",
                "\r\n",
                "    for ratioVacc in allVaccRate:\r\n",
                "        curPyr = dkDefPyr.copy()\r\n",
                "        toRemoveTot = np.ceil(fullPop * (ratioVacc))\r\n",
                "        toRemove = toRemoveTot\r\n",
                "        for k in range(len(curPyr)-1,-1,-1):\r\n",
                "            thisKey = keys[k]\r\n",
                "            thisCount = curPyr[thisKey]\r\n",
                "            \r\n",
                "            if (toRemove >= thisCount):\r\n",
                "                curPyr[thisKey] = 0\r\n",
                "                toRemove -= thisCount\r\n",
                "            else:\r\n",
                "                curPyr[thisKey] -= toRemove\r\n",
                "                # curPyr[thisKey] = np.floor(curPyr[thisKey] - toRemove)\r\n",
                "                toRemove = 0\r\n",
                "            \r\n",
                "            \r\n",
                "            # print(curPyr[keys[k]])\r\n",
                "        # print(curPyr)\r\n",
                "        # print(overall_ifr(pyramid_region=curPyr,ifr_age_stratified=ifrs[1][1]))\r\n",
                "        curIFR = overall_ifr(pyramid_region=curPyr,ifr_age_stratified=ifrs[ifrDatabase][1])\r\n",
                "        \r\n",
                "        allIFRs.append(curIFR)\r\n",
                "    ax1.plot(100*allVaccRate,allIFRs,linewidth=3,markersize=7,label=ifrs[ifrDatabase][0],color=getColor(counter),marker=markers[counter % len(markers)],ls=lstyles[counter % len(lstyles)])\r\n",
                "    # ax1.plot(100*allVaccRate,allIFRs,linewidth=4,label=ifrs[ifrDatabase][0],color=getColor(counter),ls=lstyles[counter % len(lstyles)])\r\n",
                "    # Save results\r\n",
                "    allAllIFRs.append(allIFRs)\r\n",
                "    \r\n",
                "    counter += 1\r\n",
                "    \r\n",
                "IFRdf = pd.DataFrame(np.array(allAllIFRs))\r\n",
                "allMean = IFRdf.mean()    \r\n",
                "\r\n",
                "# ax1.plot(100*allVaccRate,allMean,'k*-',label='Average',linewidth=4,markersize=10)\r\n",
                "ax1.plot(100*allVaccRate,allMean,'r*-',label='Average',linewidth=4,markersize=10)\r\n",
                "\r\n",
                "ax1.legend()\r\n",
                "\r\n",
                "\r\n",
                "ax1.set_ylim(bottom=0)\r\n",
                "ax1.set_xlim([0,100])\r\n",
                "\r\n",
                "ax1.set_xlabel('Vaccination rate [%]')\r\n",
                "ax1.set_ylabel('Effective IFR [%]')\r\n",
                "\r\n",
                "plt.tight_layout()\r\n",
                "\r\n",
                "# if saveFigures:\r\n",
                "#     plt.savefig('figs/VaccinationIFR_DK')\r\n",
                "    \r\n",
                "# ax1.set_ylim(top=0.25)\r\n",
                "# if saveFigures:\r\n",
                "#     plt.savefig('figs/VaccinationIFR_DK_Zoom')\r\n",
                "    \r\n",
                "# ax1.set_ylim(top=0.05)\r\n",
                "# if saveFigures:\r\n",
                "#     plt.savefig('figs/VaccinationIFR_DK_ZoomZoom')\r\n",
                "\r\n",
                "# ax1.set_yscale('log') \r\n",
                "# ax1.set_ylim(bottom=0.001,top=2)\r\n",
                "\r\n",
                "# ax1.grid(which='minor')\r\n",
                "# from matplotlib.ticker import ScalarFormatter\r\n",
                "# for axis in [ax1.xaxis, ax1.yaxis]:\r\n",
                "#     axis.set_major_formatter(ScalarFormatter())\r\n",
                "    \r\n",
                "# if saveFigures:\r\n",
                "#     plt.savefig('figs/VaccinationIFR_DK_Log')\r\n",
                "    "
            ],
            "outputs": [
                {
                    "output_type": "display_data",
                    "data": {
                        "text/plain": [
                            "Canvas(toolbar=Toolbar(toolitems=[('Home', 'Reset original view', 'home', 'home'), ('Back', 'Back to previous …"
                        ],
                        "application/vnd.jupyter.widget-view+json": {
                            "version_major": 2,
                            "version_minor": 0,
                            "model_id": "b96a5a9fbc914fa28593646885e0f949"
                        }
                    },
                    "metadata": {}
                }
            ],
            "metadata": {}
        },
        {
            "cell_type": "markdown",
            "source": [
                "# Different places"
            ],
            "metadata": {}
        },
        {
            "cell_type": "code",
            "execution_count": 13,
            "source": [
                "# Age-stratified IFR estimates for COVID-19, as compiled by Marc Bevand\r\n",
                "ifrs_covid = [\r\n",
                "\r\n",
                "        # Calculated from Spanish ENE-COVID study\r\n",
                "        # (see calc_ifr.py)\r\n",
                "        ('ENE-COVID', {\r\n",
                "            (0,9):    0.003,\r\n",
                "            (10,19):  0.004,\r\n",
                "            (20,29):  0.015,\r\n",
                "            (30,39):  0.030,\r\n",
                "            (40,49):  0.064,\r\n",
                "            (50,59):  0.213,\r\n",
                "            (60,69):  0.718,\r\n",
                "            (70,79):  2.384,\r\n",
                "            (80,89):  8.466,\r\n",
                "            (90,maxage): 12.497,\r\n",
                "        }),\r\n",
                "\r\n",
                "        # US CDC estimate as of 19 Mar 2021\r\n",
                "        # https://www.cdc.gov/coronavirus/2019-ncov/hcp/planning-scenarios.html\r\n",
                "        # (table 1)\r\n",
                "        ('US CDC', {\r\n",
                "            (0,17):   0.002,\r\n",
                "            (18,49):  0.05,\r\n",
                "            (50,64):  0.6,\r\n",
                "            (65,maxage): 9.0,\r\n",
                "        }),\r\n",
                "\r\n",
                "        # Verity et al.\r\n",
                "        # https://www.thelancet.com/journals/laninf/article/PIIS1473-3099(20)30243-7/fulltext\r\n",
                "        # (table 1)\r\n",
                "        ('Verity', {\r\n",
                "            (0,9):    0.00161,\r\n",
                "            (10,19):  0.00695,\r\n",
                "            (20,29):  0.0309,\r\n",
                "            (30,39):  0.0844,\r\n",
                "            (40,49):  0.161,\r\n",
                "            (50,59):  0.595,\r\n",
                "            (60,69):  1.93,\r\n",
                "            (70,79):  4.28,\r\n",
                "            (80,maxage): 7.80,\r\n",
                "        }),\r\n",
                "\r\n",
                "        # Levin et al.\r\n",
                "        # https://link.springer.com/article/10.1007/s10654-020-00698-1\r\n",
                "        # (table 3)\r\n",
                "        ('Levin', {\r\n",
                "            (0,34):   0.004,\r\n",
                "            (35,44):  0.068,\r\n",
                "            (45,54):  0.23,\r\n",
                "            (55,64):  0.75,\r\n",
                "            (65,74):  2.5,\r\n",
                "            (75,84):  8.5,\r\n",
                "            (85,maxage): 28.3,\r\n",
                "        }),\r\n",
                "\r\n",
                "        # Salje et al.: Estimating the burden of SARS-CoV-2 in France\r\n",
                "        # https://science.sciencemag.org/content/369/6500/208\r\n",
                "        # Supplementary Materials:\r\n",
                "        # https://science.sciencemag.org/content/sci/suppl/2020/05/12/science.abc3517.DC1/abc3517_Salje_SM_rev2.pdf\r\n",
                "        # (table S2)\r\n",
                "        ('Salje', {\r\n",
                "            (0,19):   0.001,\r\n",
                "            (20,29):  0.005,\r\n",
                "            (30,39):  0.02,\r\n",
                "            (40,49):  0.05,\r\n",
                "            (50,59):  0.2,\r\n",
                "            (60,69):  0.7,\r\n",
                "            (70,79):  1.9,\r\n",
                "            (80,maxage):  8.3,\r\n",
                "        }),\r\n",
                "\r\n",
                "        # # Perez-Saez et al.\r\n",
                "        # # https://www.thelancet.com/journals/laninf/article/PIIS1473-3099(20)30584-3/fulltext\r\n",
                "        # ('Perez-Saez', {\r\n",
                "        #     (5,9):    0.0016,\r\n",
                "        #     (10,19):  0.00032,\r\n",
                "        #     (20,49):  0.0092,\r\n",
                "        #     (50,64):  0.14,\r\n",
                "        #     (65,maxage): 5.6,\r\n",
                "        # }),\r\n",
                "\r\n",
                "        # # Picon et al.\r\n",
                "        # # https://www.ncbi.nlm.nih.gov/pmc/articles/PMC7493765/\r\n",
                "        # # (table 2)\r\n",
                "        # ('Picon', {\r\n",
                "        #     (20,39):  0.08,\r\n",
                "        #     (40,59):  0.24,\r\n",
                "        #     (60,maxage):  4.63,\r\n",
                "        # }),\r\n",
                "\r\n",
                "        # Poletti et al.\r\n",
                "        # https://www.eurosurveillance.org/content/10.2807/1560-7917.ES.2020.25.31.2001383\r\n",
                "        # (table 1, column \"Any time\")\r\n",
                "        ('Poletti', {\r\n",
                "            (0,19):   0,\r\n",
                "            (20,49):  0,\r\n",
                "            (50,59):  0.46,\r\n",
                "            (60,69):  1.42,\r\n",
                "            (70,79):  6.87,\r\n",
                "            (80,maxage):  18.35,\r\n",
                "        }),\r\n",
                "\r\n",
                "        # # Gudbjartsson et al.: Humoral Immune Response to SARS-CoV-2 in Iceland\r\n",
                "        # # https://www.nejm.org/doi/full/10.1056/NEJMoa2026116\r\n",
                "        # # Supplementary Appendix 1\r\n",
                "        # # https://www.nejm.org/doi/suppl/10.1056/NEJMoa2026116/suppl_file/nejmoa2026116_appendix_1.pdf\r\n",
                "        # # (table S7)\r\n",
                "        # ('Gudbjartsson', {\r\n",
                "        #     (0,70):   0.1,\r\n",
                "        #     (71,80):  2.4,\r\n",
                "        #     (81,maxage): 11.2,\r\n",
                "        # }),\r\n",
                "\r\n",
                "        # Public Health Agency of Sweden\r\n",
                "        # https://www.folkhalsomyndigheten.se/contentassets/53c0dc391be54f5d959ead9131edb771/infection-fatality-rate-covid-19-stockholm-technical-report.pdf\r\n",
                "        # (table B.1)\r\n",
                "        ('PHAS', {\r\n",
                "            (0,49):   0.01,\r\n",
                "            (50,59):  0.27,\r\n",
                "            (60,69):  0.45,\r\n",
                "            (70,79):  1.92,\r\n",
                "            (80,89):  7.20,\r\n",
                "            (90,maxage):  16.21,\r\n",
                "        }),\r\n",
                "\r\n",
                "        # O’Driscoll et al.: Age-specific mortality and immunity patterns of SARS-CoV-2\r\n",
                "        # https://www.nature.com/articles/s41586-020-2918-0\r\n",
                "        # Supplementary information\r\n",
                "        # https://static-content.springer.com/esm/art%3A10.1038%2Fs41586-020-2918-0/MediaObjects/41586_2020_2918_MOESM1_ESM.pdf\r\n",
                "        # (table S3)\r\n",
                "        ('O’Driscoll', {\r\n",
                "            (0,4):   0.003,\r\n",
                "            (5,9):   0.001,\r\n",
                "            (10,14): 0.001,\r\n",
                "            (15,19): 0.003,\r\n",
                "            (20,24): 0.006,\r\n",
                "            (25,29): 0.013,\r\n",
                "            (30,34): 0.024,\r\n",
                "            (35,39): 0.040,\r\n",
                "            (40,44): 0.075,\r\n",
                "            (45,49): 0.121,\r\n",
                "            (50,54): 0.207,\r\n",
                "            (55,59): 0.323,\r\n",
                "            (60,64): 0.456,\r\n",
                "            (65,69): 1.075,\r\n",
                "            (70,74): 1.674,\r\n",
                "            (75,79): 3.203,\r\n",
                "            (80,maxage): 8.292,\r\n",
                "        }),\r\n",
                "\r\n",
                "        # # Ward et al.: Antibody prevalence for SARS-CoV-2 in England following first peak of the pandemic: REACT2 study in 100,000 adults\r\n",
                "        # # https://www.nature.com/articles/s41467-021-21237-w\r\n",
                "        # # (table 2)\r\n",
                "        # ('REACT2', {\r\n",
                "        #     (15,44):  0.03,\r\n",
                "        #     (45,64):  0.52,\r\n",
                "        #     (65,74):  3.13,\r\n",
                "        #     (75,maxage): 11.64,\r\n",
                "        # }),\r\n",
                "\r\n",
                "        # Yang et al.: Estimating the infection fatality risk of COVID-19 in New York City during the spring 2020 pandemic wave\r\n",
                "        # https://www.medrxiv.org/content/10.1101/2020.06.27.20141689v2\r\n",
                "        # (table 1)\r\n",
                "        ('Yang', {\r\n",
                "            (0,24):   0.0097,\r\n",
                "            (25,44):  0.12,\r\n",
                "            (45,64):  0.94,\r\n",
                "            (65,74):  4.87,\r\n",
                "            (75,maxage): 14.17,\r\n",
                "        }),\r\n",
                "\r\n",
                "        # Molenberghs et al.: Belgian Covid-19 Mortality, Excess Deaths, Number of Deaths per Million, and Infection Fatality Rates\r\n",
                "        # https://www.medrxiv.org/content/10.1101/2020.06.20.20136234v1\r\n",
                "        # (table 6)\r\n",
                "        ('Molenberghs', {\r\n",
                "            (0,24):   0.0005,\r\n",
                "            (25,44):  0.017,\r\n",
                "            (45,64):  0.21,\r\n",
                "            (65,74):  2.24,\r\n",
                "            (75,84):  4.29,\r\n",
                "            (85,maxage): 11.77,\r\n",
                "        }),\r\n",
                "\r\n",
                "        # Brazeau et al.\r\n",
                "        # https://www.imperial.ac.uk/mrc-global-infectious-disease-analysis/covid-19/report-34-ifr/\r\n",
                "        # (table 2, column \"IFR (%) with Seroreversion\")\r\n",
                "        ('Brazeau', {\r\n",
                "            (0,4):    0.00,\r\n",
                "            (5,9):    0.01,\r\n",
                "            (10,14):  0.01,\r\n",
                "            (15,19):  0.02,\r\n",
                "            (20,24):  0.02,\r\n",
                "            (25,29):  0.04,\r\n",
                "            (30,34):  0.06,\r\n",
                "            (35,39):  0.09,\r\n",
                "            (40,44):  0.15,\r\n",
                "            (45,49):  0.23,\r\n",
                "            (50,54):  0.36,\r\n",
                "            (55,59):  0.57,\r\n",
                "            (60,64):  0.89,\r\n",
                "            (65,69):  1.39,\r\n",
                "            (70,74):  2.17,\r\n",
                "            (75,79):  3.39,\r\n",
                "            (80,84):  5.30,\r\n",
                "            (85,89):  8.28,\r\n",
                "            (90,maxage): 16.19,\r\n",
                "        }),\r\n",
                "\r\n",
                "]"
            ],
            "outputs": [],
            "metadata": {}
        },
        {
            "cell_type": "code",
            "execution_count": 14,
            "source": [
                "\r\n",
                "\r\n",
                "curDefPyr = pyramid['Denmark']\r\n",
                "fullPop = np.fromiter(curDefPyr.values(), dtype=float).sum()\r\n",
                "\r\n",
                "keys = list(curDefPyr.keys())\r\n",
                "\r\n",
                "# ratioVacc = 0.99\r\n",
                "\r\n",
                "allVaccRate = np.arange(0,0.99,0.01)\r\n",
                "# allVaccRate = np.arange(0,0.99,0.2)\r\n",
                "\r\n",
                "allIFRs = []\r\n",
                "\r\n",
                "for ratioVacc in allVaccRate:\r\n",
                "    curPyr = curDefPyr.copy()\r\n",
                "    toRemoveTot = np.ceil(fullPop * (ratioVacc))\r\n",
                "    toRemove = toRemoveTot\r\n",
                "    for k in range(len(curPyr)-1,-1,-1):\r\n",
                "        thisKey = keys[k]\r\n",
                "        thisCount = curPyr[thisKey]\r\n",
                "        \r\n",
                "        if (toRemove >= thisCount):\r\n",
                "            curPyr[thisKey] = 0\r\n",
                "            toRemove -= thisCount\r\n",
                "        else:\r\n",
                "            curPyr[thisKey] -= toRemove\r\n",
                "            # curPyr[thisKey] = np.floor(curPyr[thisKey] - toRemove)\r\n",
                "            toRemove = 0\r\n",
                "        \r\n",
                "        \r\n",
                "        # print(curPyr[keys[k]])\r\n",
                "    # print(curPyr)\r\n",
                "    # print(overall_ifr(pyramid_region=curPyr,ifr_age_stratified=ifrs[1][1]))\r\n",
                "    curIFR = overall_ifr(pyramid_region=curPyr,ifr_age_stratified=ifrs[0][1])\r\n",
                "    \r\n",
                "    allIFRs.append(curIFR)\r\n",
                "    "
            ],
            "outputs": [],
            "metadata": {}
        },
        {
            "cell_type": "code",
            "execution_count": 15,
            "source": [
                "dkDefPyr.items()\r\n"
            ],
            "outputs": [
                {
                    "output_type": "execute_result",
                    "data": {
                        "text/plain": [
                            "dict_items([((0, 4), 309000.0), ((5, 9), 297000.0), ((10, 14), 337000.0), ((15, 19), 339000.0), ((20, 24), 374000.0), ((25, 29), 402000.0), ((30, 34), 355000.0), ((35, 39), 317000.0), ((40, 44), 361000.0), ((45, 49), 377000.0), ((50, 54), 422000.0), ((55, 59), 388000.0), ((60, 64), 346000.0), ((65, 69), 309000.0), ((70, 74), 351000.0), ((75, 79), 235000.0), ((80, 84), 147000.0), ((85, 89), 78000.0), ((90, 94), 36000.0), ((95, 99), 10000.0), ((100, 100), 1000.0)])"
                        ]
                    },
                    "metadata": {},
                    "execution_count": 15
                }
            ],
            "metadata": {}
        },
        {
            "cell_type": "code",
            "execution_count": null,
            "source": [],
            "outputs": [],
            "metadata": {}
        },
        {
            "cell_type": "code",
            "execution_count": 16,
            "source": [
                "# pyramid\r\n",
                "# 'WORLD','Africa','Asia','Europe','Latin America and the Caribbean','Northern America','Oceania'\r\n",
                "\r\n",
                "\r\n",
                "regionsToShow = ['Denmark','Peru','Brazil','Africa','Asia','Europe','Latin America and the Caribbean','Northern America','Oceania','WORLD']\r\n",
                "\r\n",
                "allVaccRate = np.arange(0,0.99,0.01)\r\n",
                "# allVaccRate = np.arange(0,0.99,0.2)\r\n",
                "\r\n",
                "# Save dataframe with data        \r\n",
                "# newData = {'VaccRate':allVaccRate,'Denmark':allMean}\r\n",
                "newData = {'VaccRate':allVaccRate}\r\n",
                "newdf = pd.DataFrame(data=newData)\r\n",
                "\r\n",
                "for curRegion in regionsToShow:\r\n",
                "    fig,ax1 = plt.subplots()\r\n",
                "    allAllIFRs = []\r\n",
                "\r\n",
                "    # curDefPyr = pyramid['Denmark']\r\n",
                "    curDefPyr = pyramid[curRegion]\r\n",
                "    fullPop = np.fromiter(curDefPyr.values(), dtype=float).sum()\r\n",
                "\r\n",
                "    lstyles = ('solid', 'dashed', 'dotted', 'dashdot')\r\n",
                "    lstyles = ('dashed', 'dotted', 'dashdot')\r\n",
                "    markers = ('o', 's', 'v', '^', '<', '>', 'P', '*', 'X', 'D', 'p')\r\n",
                "\r\n",
                "\r\n",
                "    def getColor(i):\r\n",
                "        return plt.cm.twilight((1/20) * i)\r\n",
                "        # return plt.cm.bwr((1/10) * i)\r\n",
                "        # return plt.cm.bwr((1/20) * i)\r\n",
                "\r\n",
                "    counter = 0\r\n",
                "\r\n",
                "    # All IFRs: ifrs_covid\r\n",
                "    # Only some of them: ifrs\r\n",
                "    # for ifrDatabase in range(0,1):\r\n",
                "    # for ifrDatabase in range(0,len(ifrs)):\r\n",
                "    for ifrDatabase in range(0,len(ifrs_covid)):\r\n",
                "\r\n",
                "        allIFRs = []\r\n",
                "\r\n",
                "        for ratioVacc in allVaccRate:\r\n",
                "            curPyr = curDefPyr.copy()\r\n",
                "            toRemoveTot = np.ceil(fullPop * (ratioVacc))\r\n",
                "            toRemove = toRemoveTot\r\n",
                "            for k in range(len(curPyr)-1,-1,-1):\r\n",
                "                thisKey = keys[k]\r\n",
                "                thisCount = curPyr[thisKey]\r\n",
                "                \r\n",
                "                if (toRemove >= thisCount):\r\n",
                "                    curPyr[thisKey] = 0\r\n",
                "                    toRemove -= thisCount\r\n",
                "                else:\r\n",
                "                    curPyr[thisKey] -= toRemove\r\n",
                "                    toRemove = 0\r\n",
                "                \r\n",
                "            # curIFR = overall_ifr(pyramid_region=curPyr,ifr_age_stratified=ifrs[ifrDatabase][1])\r\n",
                "            curIFR = overall_ifr(pyramid_region=curPyr,ifr_age_stratified=ifrs_covid[ifrDatabase][1])\r\n",
                "            \r\n",
                "            allIFRs.append(curIFR)\r\n",
                "            \r\n",
                "        # # ax1.plot(100*allVaccRate,allIFRs,linewidth=3,markersize=7,label=ifrs[ifrDatabase][0],color=getColor(counter),marker=markers[counter % len(markers)],ls=lstyles[counter % len(lstyles)])\r\n",
                "        ax1.plot(100*allVaccRate,allIFRs,linewidth=3,markersize=7,label=ifrs_covid[ifrDatabase][0],color=getColor(counter),marker=markers[counter % len(markers)],ls=lstyles[counter % len(lstyles)])\r\n",
                "        # # ax1.plot(100*allVaccRate,allIFRs,linewidth=4,label=ifrs[ifrDatabase][0],color=getColor(counter),ls=lstyles[counter % len(lstyles)])\r\n",
                "        \r\n",
                "        # Save results\r\n",
                "        allAllIFRs.append(allIFRs)\r\n",
                "        \r\n",
                "        counter += 1\r\n",
                "        \r\n",
                "    IFRdf = pd.DataFrame(np.array(allAllIFRs))\r\n",
                "    allMean = IFRdf.mean()    \r\n",
                "\r\n",
                "    # ax1.plot(100*allVaccRate,allMean,'k*-',label='Average',linewidth=4,markersize=10)\r\n",
                "    ax1.plot(100*allVaccRate,allMean,'r',label='Average',linewidth=4,markersize=10)\r\n",
                "    \r\n",
                "    # Save results\r\n",
                "    newdf[curRegion] = allMean\r\n",
                "\r\n",
                "    ax1.legend()\r\n",
                "\r\n",
                "\r\n",
                "    ax1.set_ylim(bottom=0)\r\n",
                "    ax1.set_xlim([0,100])\r\n",
                "\r\n",
                "    ax1.set_xlabel('Vaccination rate [%]')\r\n",
                "    ax1.set_ylabel('Effective IFR [%]')\r\n",
                "\r\n",
                "    ax1.set_title(curRegion)\r\n",
                "    ax1.grid()\r\n",
                "    plt.tight_layout()\r\n",
                "\r\n",
                "    if saveFigures:\r\n",
                "        plt.savefig('figs/VaccIFRs/VaccinationIFR_'+curRegion)\r\n",
                "            \r\n",
                "    ax1.set_ylim(top=0.25)\r\n",
                "    if saveFigures:\r\n",
                "        plt.savefig('figs/VaccIFRs/VaccinationIFR_'+curRegion+'_Zoom')\r\n",
                "        \r\n",
                "    ax1.set_ylim(top=0.05)\r\n",
                "    if saveFigures:\r\n",
                "        plt.savefig('figs/VaccIFRs/VaccinationIFR_'+curRegion+'_ZoomZoom')\r\n",
                "\r\n",
                "    ax1.set_yscale('log') \r\n",
                "    ax1.set_ylim(bottom=0.001,top=2)\r\n",
                "\r\n",
                "    ax1.grid(which='minor')\r\n",
                "    from matplotlib.ticker import ScalarFormatter\r\n",
                "    for axis in [ax1.xaxis, ax1.yaxis]:\r\n",
                "        axis.set_major_formatter(ScalarFormatter())        \r\n",
                "    plt.tight_layout()\r\n",
                "        \r\n",
                "    if saveFigures:\r\n",
                "        plt.savefig('figs/VaccIFRs/VaccinationIFR_'+curRegion+'_Log')\r\n",
                "        "
            ],
            "outputs": [
                {
                    "output_type": "display_data",
                    "data": {
                        "text/plain": [
                            "Canvas(toolbar=Toolbar(toolitems=[('Home', 'Reset original view', 'home', 'home'), ('Back', 'Back to previous …"
                        ],
                        "application/vnd.jupyter.widget-view+json": {
                            "version_major": 2,
                            "version_minor": 0,
                            "model_id": "09114492fede422a81bd58c4bd0f01fe"
                        }
                    },
                    "metadata": {}
                },
                {
                    "output_type": "display_data",
                    "data": {
                        "text/plain": [
                            "Canvas(toolbar=Toolbar(toolitems=[('Home', 'Reset original view', 'home', 'home'), ('Back', 'Back to previous …"
                        ],
                        "application/vnd.jupyter.widget-view+json": {
                            "version_major": 2,
                            "version_minor": 0,
                            "model_id": "df723acabf4545a08d815199aea7a2cd"
                        }
                    },
                    "metadata": {}
                },
                {
                    "output_type": "display_data",
                    "data": {
                        "text/plain": [
                            "Canvas(toolbar=Toolbar(toolitems=[('Home', 'Reset original view', 'home', 'home'), ('Back', 'Back to previous …"
                        ],
                        "application/vnd.jupyter.widget-view+json": {
                            "version_major": 2,
                            "version_minor": 0,
                            "model_id": "53c5ab3f29314f8ab9f8c415da4c9ed9"
                        }
                    },
                    "metadata": {}
                },
                {
                    "output_type": "display_data",
                    "data": {
                        "text/plain": [
                            "Canvas(toolbar=Toolbar(toolitems=[('Home', 'Reset original view', 'home', 'home'), ('Back', 'Back to previous …"
                        ],
                        "application/vnd.jupyter.widget-view+json": {
                            "version_major": 2,
                            "version_minor": 0,
                            "model_id": "01d5979e190e4f6e85af8bf86a66dc57"
                        }
                    },
                    "metadata": {}
                },
                {
                    "output_type": "display_data",
                    "data": {
                        "text/plain": [
                            "Canvas(toolbar=Toolbar(toolitems=[('Home', 'Reset original view', 'home', 'home'), ('Back', 'Back to previous …"
                        ],
                        "application/vnd.jupyter.widget-view+json": {
                            "version_major": 2,
                            "version_minor": 0,
                            "model_id": "19834f58cd6142ae8136fe4012237ef6"
                        }
                    },
                    "metadata": {}
                },
                {
                    "output_type": "display_data",
                    "data": {
                        "text/plain": [
                            "Canvas(toolbar=Toolbar(toolitems=[('Home', 'Reset original view', 'home', 'home'), ('Back', 'Back to previous …"
                        ],
                        "application/vnd.jupyter.widget-view+json": {
                            "version_major": 2,
                            "version_minor": 0,
                            "model_id": "97533337360542bc8ef2934f5efbb35f"
                        }
                    },
                    "metadata": {}
                },
                {
                    "output_type": "display_data",
                    "data": {
                        "text/plain": [
                            "Canvas(toolbar=Toolbar(toolitems=[('Home', 'Reset original view', 'home', 'home'), ('Back', 'Back to previous …"
                        ],
                        "application/vnd.jupyter.widget-view+json": {
                            "version_major": 2,
                            "version_minor": 0,
                            "model_id": "80704f80d63e434a97256273b1505f8a"
                        }
                    },
                    "metadata": {}
                },
                {
                    "output_type": "display_data",
                    "data": {
                        "text/plain": [
                            "Canvas(toolbar=Toolbar(toolitems=[('Home', 'Reset original view', 'home', 'home'), ('Back', 'Back to previous …"
                        ],
                        "application/vnd.jupyter.widget-view+json": {
                            "version_major": 2,
                            "version_minor": 0,
                            "model_id": "be3dd3c6070a466d87a0939f7d817e29"
                        }
                    },
                    "metadata": {}
                },
                {
                    "output_type": "display_data",
                    "data": {
                        "text/plain": [
                            "Canvas(toolbar=Toolbar(toolitems=[('Home', 'Reset original view', 'home', 'home'), ('Back', 'Back to previous …"
                        ],
                        "application/vnd.jupyter.widget-view+json": {
                            "version_major": 2,
                            "version_minor": 0,
                            "model_id": "c1228b156ade4e70a5a5d2304f3e03b5"
                        }
                    },
                    "metadata": {}
                },
                {
                    "output_type": "display_data",
                    "data": {
                        "text/plain": [
                            "Canvas(toolbar=Toolbar(toolitems=[('Home', 'Reset original view', 'home', 'home'), ('Back', 'Back to previous …"
                        ],
                        "application/vnd.jupyter.widget-view+json": {
                            "version_major": 2,
                            "version_minor": 0,
                            "model_id": "8cc05654d4634962bbe12000c1b4269a"
                        }
                    },
                    "metadata": {}
                }
            ],
            "metadata": {}
        },
        {
            "cell_type": "code",
            "execution_count": 17,
            "source": [
                "ifrdatafilename = 'IFRofVaccPerRegion.csv'\r\n",
                "newdf.to_csv(ifrdatafilename) "
            ],
            "outputs": [],
            "metadata": {}
        },
        {
            "cell_type": "code",
            "execution_count": 18,
            "source": [
                "# fig,ax1 = plt.subplots()\r\n",
                "\r\n",
                "# regionsToShow = ['Denmark']\r\n",
                "\r\n",
                "# for curRegion in regionsToShow:\r\n",
                "#     allAllIFRs = []\r\n",
                "\r\n",
                "#     # curDefPyr = pyramid['Denmark']\r\n",
                "#     curDefPyr = pyramid[curRegion]\r\n",
                "#     fullPop = np.fromiter(curDefPyr.values(), dtype=float).sum()\r\n",
                "\r\n",
                "#     lstyles = ('solid', 'dashed', 'dotted', 'dashdot')\r\n",
                "#     lstyles = ('dashed', 'dotted', 'dashdot')\r\n",
                "#     markers = ('o', 's', 'v', '^', '<', '>', 'P', '*', 'X', 'D', 'p')\r\n",
                "\r\n",
                "\r\n",
                "#     def getColor(i):\r\n",
                "#         return plt.cm.twilight((1/20) * i)\r\n",
                "#         # return plt.cm.bwr((1/10) * i)\r\n",
                "#         # return plt.cm.bwr((1/20) * i)\r\n",
                "\r\n",
                "#     counter = 0\r\n",
                "\r\n",
                "#     # All IFRs: ifrs_covid\r\n",
                "#     # Only some of them: ifrs\r\n",
                "#     # for ifrDatabase in range(0,1):\r\n",
                "#     # for ifrDatabase in range(0,len(ifrs)):\r\n",
                "#     for ifrDatabase in range(0,len(ifrs_covid)):\r\n",
                "\r\n",
                "#         allVaccRate = np.arange(0,0.99,0.01)\r\n",
                "#         # allVaccRate = np.arange(0,0.99,0.2)\r\n",
                "#         allIFRs = []\r\n",
                "\r\n",
                "#         for ratioVacc in allVaccRate:\r\n",
                "#             curPyr = curDefPyr.copy()\r\n",
                "#             toRemoveTot = np.ceil(fullPop * (ratioVacc))\r\n",
                "#             toRemove = toRemoveTot\r\n",
                "#             for k in range(len(curPyr)-1,-1,-1):\r\n",
                "#                 thisKey = keys[k]\r\n",
                "#                 thisCount = curPyr[thisKey]\r\n",
                "                \r\n",
                "#                 if (toRemove >= thisCount):\r\n",
                "#                     curPyr[thisKey] = 0\r\n",
                "#                     toRemove -= thisCount\r\n",
                "#                 else:\r\n",
                "#                     curPyr[thisKey] -= toRemove\r\n",
                "#                     toRemove = 0\r\n",
                "                \r\n",
                "#             # curIFR = overall_ifr(pyramid_region=curPyr,ifr_age_stratified=ifrs[ifrDatabase][1])\r\n",
                "#             curIFR = overall_ifr(pyramid_region=curPyr,ifr_age_stratified=ifrs_covid[ifrDatabase][1])\r\n",
                "            \r\n",
                "#             allIFRs.append(curIFR)\r\n",
                "            \r\n",
                "#         # # ax1.plot(100*allVaccRate,allIFRs,linewidth=3,markersize=7,label=ifrs[ifrDatabase][0],color=getColor(counter),marker=markers[counter % len(markers)],ls=lstyles[counter % len(lstyles)])\r\n",
                "#         ax1.plot(100*allVaccRate,allIFRs,linewidth=3,markersize=7,label=ifrs_covid[ifrDatabase][0],color=getColor(counter),marker=markers[counter % len(markers)],ls=lstyles[counter % len(lstyles)])\r\n",
                "#         # # ax1.plot(100*allVaccRate,allIFRs,linewidth=4,label=ifrs[ifrDatabase][0],color=getColor(counter),ls=lstyles[counter % len(lstyles)])\r\n",
                "        \r\n",
                "#         # Save results\r\n",
                "#         allAllIFRs.append(allIFRs)\r\n",
                "        \r\n",
                "#         counter += 1\r\n",
                "        \r\n",
                "#     IFRdf = pd.DataFrame(np.array(allAllIFRs))\r\n",
                "#     allMean = IFRdf.mean()    \r\n",
                "\r\n",
                "#     ax1.plot(100*allVaccRate,allMean,'r',label=curRegion,linewidth=4,markersize=10)\r\n",
                "\r\n",
                "# ax1.legend()\r\n",
                "\r\n",
                "\r\n",
                "# ax1.set_ylim(bottom=0)\r\n",
                "# ax1.set_xlim([0,100])\r\n",
                "\r\n",
                "# ax1.set_xlabel('Vaccination rate [%]')\r\n",
                "# ax1.set_ylabel('Effective IFR [%]')\r\n",
                "\r\n",
                "# ax1.set_title('Comparison of world regions')\r\n",
                "# ax1.grid()\r\n",
                "# plt.tight_layout()\r\n",
                "\r\n",
                "    "
            ],
            "outputs": [],
            "metadata": {}
        },
        {
            "cell_type": "code",
            "execution_count": 19,
            "source": [
                "\r\n",
                "\r\n",
                "regionsToShow = ['Denmark','Peru','Brazil','Africa','Asia','Europe','Latin America and the Caribbean','Northern America','Oceania','WORLD']\r\n",
                "\r\n",
                "for curRegion in regionsToShow:\r\n",
                "    fig,ax1 = plt.subplots()\r\n",
                "    allAllIFRs = []\r\n",
                "\r\n",
                "    # curDefPyr = pyramid['Denmark']\r\n",
                "    curDefPyr = pyramid[curRegion]\r\n",
                "    fullPop = np.fromiter(curDefPyr.values(), dtype=float).sum()\r\n",
                "\r\n",
                "    lstyles = ('solid', 'dashed', 'dotted', 'dashdot')\r\n",
                "    lstyles = ('dashed', 'dotted', 'dashdot')\r\n",
                "    markers = ('o', 's', 'v', '^', '<', '>', 'P', '*', 'X', 'D', 'p')\r\n",
                "\r\n",
                "\r\n",
                "    def getColor(i):\r\n",
                "        return plt.cm.twilight((1/20) * i)\r\n",
                "        # return plt.cm.bwr((1/10) * i)\r\n",
                "        # return plt.cm.bwr((1/20) * i)\r\n",
                "\r\n",
                "    counter = 0\r\n",
                "\r\n",
                "    # All IFRs: ifrs_covid\r\n",
                "    # Only some of them: ifrs\r\n",
                "    # for ifrDatabase in range(0,1):\r\n",
                "    # for ifrDatabase in range(0,len(ifrs)):\r\n",
                "    for ifrDatabase in range(0,len(ifrs_covid)):\r\n",
                "\r\n",
                "        allVaccRate = np.arange(0,0.99,0.01)\r\n",
                "        # allVaccRate = np.arange(0,0.99,0.2)\r\n",
                "        allIFRs = []\r\n",
                "\r\n",
                "        for ratioVacc in allVaccRate:\r\n",
                "            curPyr = curDefPyr.copy()\r\n",
                "            toRemoveTot = np.ceil(fullPop * (ratioVacc))\r\n",
                "            toRemove = toRemoveTot\r\n",
                "            for k in range(len(curPyr)-1,-1,-1):\r\n",
                "                thisKey = keys[k]\r\n",
                "                thisCount = curPyr[thisKey]\r\n",
                "                \r\n",
                "                if (toRemove >= thisCount):\r\n",
                "                    curPyr[thisKey] = 0\r\n",
                "                    toRemove -= thisCount\r\n",
                "                else:\r\n",
                "                    curPyr[thisKey] -= toRemove\r\n",
                "                    toRemove = 0\r\n",
                "                \r\n",
                "            # curIFR = overall_ifr(pyramid_region=curPyr,ifr_age_stratified=ifrs[ifrDatabase][1])\r\n",
                "            curIFR = overall_ifr(pyramid_region=curPyr,ifr_age_stratified=ifrs_covid[ifrDatabase][1])\r\n",
                "            \r\n",
                "            allIFRs.append(curIFR)\r\n",
                "            \r\n",
                "        # # ax1.plot(100*allVaccRate,allIFRs,linewidth=3,markersize=7,label=ifrs[ifrDatabase][0],color=getColor(counter),marker=markers[counter % len(markers)],ls=lstyles[counter % len(lstyles)])\r\n",
                "        ax1.plot(100*allVaccRate,allIFRs,linewidth=3,markersize=7,label=ifrs_covid[ifrDatabase][0],color=getColor(counter),marker=markers[counter % len(markers)],ls=lstyles[counter % len(lstyles)])\r\n",
                "        # # ax1.plot(100*allVaccRate,allIFRs,linewidth=4,label=ifrs[ifrDatabase][0],color=getColor(counter),ls=lstyles[counter % len(lstyles)])\r\n",
                "        \r\n",
                "        # Save results\r\n",
                "        allAllIFRs.append(allIFRs)\r\n",
                "        \r\n",
                "        counter += 1\r\n",
                "        \r\n",
                "    IFRdf = pd.DataFrame(np.array(allAllIFRs))\r\n",
                "    allMean = IFRdf.mean()    \r\n",
                "\r\n",
                "    # ax1.plot(100*allVaccRate,allMean,'k*-',label='Average',linewidth=4,markersize=10)\r\n",
                "    ax1.plot(100*allVaccRate,allMean,'r',label='Average',linewidth=4,markersize=10)\r\n",
                "\r\n",
                "    ax1.legend()\r\n",
                "\r\n",
                "\r\n",
                "    ax1.set_ylim(bottom=0)\r\n",
                "    ax1.set_xlim([0,100])\r\n",
                "\r\n",
                "    ax1.set_xlabel('Vaccination rate [%]')\r\n",
                "    ax1.set_ylabel('Effective IFR [%]')\r\n",
                "\r\n",
                "    ax1.set_title(curRegion)\r\n",
                "    ax1.grid()\r\n",
                "    plt.tight_layout()\r\n",
                "\r\n",
                "    if saveFigures:\r\n",
                "        plt.savefig('figs/VaccIFRs/VaccinationIFR_'+curRegion)\r\n",
                "            \r\n",
                "    ax1.set_ylim(top=0.25)\r\n",
                "    if saveFigures:\r\n",
                "        plt.savefig('figs/VaccIFRs/VaccinationIFR_'+curRegion+'_Zoom')\r\n",
                "        \r\n",
                "    ax1.set_ylim(top=0.05)\r\n",
                "    if saveFigures:\r\n",
                "        plt.savefig('figs/VaccIFRs/VaccinationIFR_'+curRegion+'_ZoomZoom')\r\n",
                "\r\n",
                "    ax1.set_yscale('log') \r\n",
                "    ax1.set_ylim(bottom=0.001,top=2)\r\n",
                "\r\n",
                "    ax1.grid(which='minor')\r\n",
                "    from matplotlib.ticker import ScalarFormatter\r\n",
                "    for axis in [ax1.xaxis, ax1.yaxis]:\r\n",
                "        axis.set_major_formatter(ScalarFormatter())        \r\n",
                "    plt.tight_layout()\r\n",
                "        \r\n",
                "    if saveFigures:\r\n",
                "        plt.savefig('figs/VaccIFRs/VaccinationIFR_'+curRegion+'_Log')\r\n",
                "    "
            ],
            "outputs": [
                {
                    "output_type": "display_data",
                    "data": {
                        "text/plain": [
                            "Canvas(toolbar=Toolbar(toolitems=[('Home', 'Reset original view', 'home', 'home'), ('Back', 'Back to previous …"
                        ],
                        "application/vnd.jupyter.widget-view+json": {
                            "version_major": 2,
                            "version_minor": 0,
                            "model_id": "038c7a7d697f43008d010a5c5d663275"
                        }
                    },
                    "metadata": {}
                },
                {
                    "output_type": "display_data",
                    "data": {
                        "text/plain": [
                            "Canvas(toolbar=Toolbar(toolitems=[('Home', 'Reset original view', 'home', 'home'), ('Back', 'Back to previous …"
                        ],
                        "application/vnd.jupyter.widget-view+json": {
                            "version_major": 2,
                            "version_minor": 0,
                            "model_id": "92b6af1b53e94c2c99a12b70ab186a40"
                        }
                    },
                    "metadata": {}
                },
                {
                    "output_type": "display_data",
                    "data": {
                        "text/plain": [
                            "Canvas(toolbar=Toolbar(toolitems=[('Home', 'Reset original view', 'home', 'home'), ('Back', 'Back to previous …"
                        ],
                        "application/vnd.jupyter.widget-view+json": {
                            "version_major": 2,
                            "version_minor": 0,
                            "model_id": "c16d03481d124994b9f482a717578e97"
                        }
                    },
                    "metadata": {}
                },
                {
                    "output_type": "display_data",
                    "data": {
                        "text/plain": [
                            "Canvas(toolbar=Toolbar(toolitems=[('Home', 'Reset original view', 'home', 'home'), ('Back', 'Back to previous …"
                        ],
                        "application/vnd.jupyter.widget-view+json": {
                            "version_major": 2,
                            "version_minor": 0,
                            "model_id": "857cc4f8fba14f8d9a769d65686ae860"
                        }
                    },
                    "metadata": {}
                },
                {
                    "output_type": "display_data",
                    "data": {
                        "text/plain": [
                            "Canvas(toolbar=Toolbar(toolitems=[('Home', 'Reset original view', 'home', 'home'), ('Back', 'Back to previous …"
                        ],
                        "application/vnd.jupyter.widget-view+json": {
                            "version_major": 2,
                            "version_minor": 0,
                            "model_id": "e85cf034cebf48c5b7e7e9a41f7f733c"
                        }
                    },
                    "metadata": {}
                },
                {
                    "output_type": "display_data",
                    "data": {
                        "text/plain": [
                            "Canvas(toolbar=Toolbar(toolitems=[('Home', 'Reset original view', 'home', 'home'), ('Back', 'Back to previous …"
                        ],
                        "application/vnd.jupyter.widget-view+json": {
                            "version_major": 2,
                            "version_minor": 0,
                            "model_id": "6a7bcd133c1a41e0b25c1e5009a6e062"
                        }
                    },
                    "metadata": {}
                },
                {
                    "output_type": "display_data",
                    "data": {
                        "text/plain": [
                            "Canvas(toolbar=Toolbar(toolitems=[('Home', 'Reset original view', 'home', 'home'), ('Back', 'Back to previous …"
                        ],
                        "application/vnd.jupyter.widget-view+json": {
                            "version_major": 2,
                            "version_minor": 0,
                            "model_id": "b92d5ce0577d48538787c006d32d711e"
                        }
                    },
                    "metadata": {}
                },
                {
                    "output_type": "display_data",
                    "data": {
                        "text/plain": [
                            "Canvas(toolbar=Toolbar(toolitems=[('Home', 'Reset original view', 'home', 'home'), ('Back', 'Back to previous …"
                        ],
                        "application/vnd.jupyter.widget-view+json": {
                            "version_major": 2,
                            "version_minor": 0,
                            "model_id": "237559d415f3435d815f932b605531ad"
                        }
                    },
                    "metadata": {}
                },
                {
                    "output_type": "display_data",
                    "data": {
                        "text/plain": [
                            "Canvas(toolbar=Toolbar(toolitems=[('Home', 'Reset original view', 'home', 'home'), ('Back', 'Back to previous …"
                        ],
                        "application/vnd.jupyter.widget-view+json": {
                            "version_major": 2,
                            "version_minor": 0,
                            "model_id": "c76166e99ffa40c0a9705ee37d355d37"
                        }
                    },
                    "metadata": {}
                },
                {
                    "output_type": "stream",
                    "name": "stderr",
                    "text": [
                        "<ipython-input-19-3f35035ccfaf>:4: RuntimeWarning: More than 20 figures have been opened. Figures created through the pyplot interface (`matplotlib.pyplot.figure`) are retained until explicitly closed and may consume too much memory. (To control this warning, see the rcParam `figure.max_open_warning`).\n",
                        "  fig,ax1 = plt.subplots()\n"
                    ]
                },
                {
                    "output_type": "display_data",
                    "data": {
                        "text/plain": [
                            "Canvas(toolbar=Toolbar(toolitems=[('Home', 'Reset original view', 'home', 'home'), ('Back', 'Back to previous …"
                        ],
                        "application/vnd.jupyter.widget-view+json": {
                            "version_major": 2,
                            "version_minor": 0,
                            "model_id": "f30f6c934b874affb120862edabd0b9d"
                        }
                    },
                    "metadata": {}
                }
            ],
            "metadata": {}
        }
    ],
    "metadata": {
        "orig_nbformat": 4,
        "language_info": {
            "name": "python",
            "version": "3.8.8",
            "mimetype": "text/x-python",
            "codemirror_mode": {
                "name": "ipython",
                "version": 3
            },
            "pygments_lexer": "ipython3",
            "nbconvert_exporter": "python",
            "file_extension": ".py"
        },
        "kernelspec": {
            "name": "python3",
            "display_name": "Python 3.8.8 64-bit ('main': conda)"
        },
        "interpreter": {
            "hash": "c031fd63bd977d199cd6020c30a19695eacbb638d100e0b8a5ea53080ed74a9a"
        }
    },
    "nbformat": 4,
    "nbformat_minor": 2
}