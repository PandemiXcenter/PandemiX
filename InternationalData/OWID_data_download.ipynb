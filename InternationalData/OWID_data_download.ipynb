{
    "cells": [
        {
            "cell_type": "code",
            "execution_count": 1,
            "source": [
                "# Notebook for downloading and initial investigation of data from \"Our World In Data\"\r\n",
                "import numpy as np\r\n",
                "import pandas as pd\r\n",
                "pd.set_option('display.max_rows', 500)\r\n",
                "pd.set_option('display.min_rows', 50)\r\n",
                "\r\n",
                "import requests\r\n",
                "\r\n",
                "import matplotlib.pyplot as plt\r\n",
                "%matplotlib widget\r\n",
                "plt.rcParams['figure.figsize'] = (12,8)\r\n",
                "plt.rcParams[\"image.cmap\"] = \"tab10\"\r\n",
                "plt.rcParams['axes.prop_cycle'] = plt.cycler(color=plt.cm.tab10.colors)\r\n",
                "fs_label = 16\r\n",
                "parameters = {\r\n",
                "                'axes.labelsize': fs_label,\r\n",
                "                'axes.titlesize': fs_label+4,\r\n",
                "                'xtick.labelsize': fs_label,\r\n",
                "                'ytick.labelsize': fs_label, \r\n",
                "                'legend.fontsize': fs_label, \r\n",
                "                'lines.markersize': 10,\r\n",
                "                'lines.linewidth': 3\r\n",
                "             }\r\n",
                "plt.rcParams.update(parameters)\r\n",
                "%matplotlib widget\r\n",
                "import matplotlib.colors as colors\r\n",
                "from matplotlib import cm # Colormaps\r\n",
                "\r\n",
                "cmap = cm.get_cmap('Dark2',7)\r\n",
                "\r\n",
                "import locale\r\n",
                "import matplotlib.dates as mdates\r\n",
                "locale.setlocale(locale.LC_TIME,\"Danish\")\r\n",
                "# ax = plt.gca()\r\n",
                "# ax1.xaxis.set_major_formatter(mdates.DateFormatter('%b\\n%Y'))\r\n",
                "# # ax.xaxis.set_major_formatter(mdates.DateFormatter('%Y \\n %B'))\r\n",
                "\r\n",
                "\r\n",
                "import os\r\n",
                "import math\r\n",
                "\r\n",
                "from datetime import date\r\n",
                "import datetime\r\n",
                "\r\n",
                "saveFigures = True\r\n",
                "print('saveFigures is set to: '+str(saveFigures))\r\n",
                "print('Done loading packages')\r\n",
                "\r\n",
                "def rnMean(data,meanWidth):\r\n",
                "    return np.convolve(data, np.ones(meanWidth)/meanWidth, mode='valid')\r\n",
                "def rnTime(t,meanWidth):\r\n",
                "    return t[math.floor(meanWidth/2):-math.ceil(meanWidth/2)+1]\r\n",
                "def rnTime2(t,meanWidth):\r\n",
                "    return t[meanWidth-1:]\r\n"
            ],
            "outputs": [
                {
                    "output_type": "stream",
                    "name": "stdout",
                    "text": [
                        "saveFigures is set to: True\n",
                        "Done loading packages\n"
                    ]
                }
            ],
            "metadata": {}
        },
        {
            "cell_type": "code",
            "execution_count": 2,
            "source": [
                "fileUrl = 'https://raw.githubusercontent.com/owid/covid-19-data/master/public/data/vaccinations/vaccinations.csv'\r\n",
                "r = requests.get(fileUrl)\r\n",
                "open('data/OWID_vaccinations.csv', 'wb').write(r.content)\r\n",
                "\r\n",
                "\r\n",
                "fileUrl = 'https://raw.githubusercontent.com/owid/covid-19-data/master/public/data/owid-covid-data.csv'\r\n",
                "r = requests.get(fileUrl)\r\n",
                "open('data/OWID_data.csv', 'wb').write(r.content)\r\n",
                "\r\n",
                "\r\n",
                "fileUrl = 'https://raw.githubusercontent.com/owid/covid-19-data/master/public/data/excess_mortality/excess_mortality.csv'\r\n",
                "r = requests.get(fileUrl)\r\n",
                "open('data/OWID_excess.csv', 'wb').write(r.content)"
            ],
            "outputs": [
                {
                    "output_type": "execute_result",
                    "data": {
                        "text/plain": [
                            "27937169"
                        ]
                    },
                    "metadata": {},
                    "execution_count": 2
                }
            ],
            "metadata": {}
        },
        {
            "cell_type": "code",
            "execution_count": 4,
            "source": [
                "vaccPath = './data/OWID_vaccinations.csv'\r\n",
                "\r\n",
                "dfVacc = pd.read_csv(vaccPath)\r\n",
                "\r\n",
                "dfVacc.date = pd.to_datetime(dfVacc.date)"
            ],
            "outputs": [],
            "metadata": {}
        },
        {
            "cell_type": "code",
            "execution_count": 5,
            "source": [
                "# Check danish data\r\n",
                "curdf = dfVacc[dfVacc.iso_code == 'DNK']\r\n",
                "# curdf\r\n",
                "curDates = curdf.date\r\n",
                "\r\n",
                "curOnce = curdf['people_vaccinated']\r\n",
                "curFull = curdf['people_fully_vaccinated']\r\n",
                "\r\n",
                "fig,ax1 = plt.subplots()\r\n",
                "\r\n",
                "DKpop =  5843347\r\n",
                "\r\n",
                "ax1.fill_between(curDates,DKpop*np.ones(curOnce.shape),color='xkcd:grey')\r\n",
                "ax1.fill_between(curDates,curOnce,color='xkcd:light green')\r\n",
                "ax1.fill_between(curDates,curFull,color='g')\r\n",
                "\r\n",
                "ax1.set_ylim([0,DKpop])"
            ],
            "outputs": [
                {
                    "output_type": "display_data",
                    "data": {
                        "text/plain": [
                            "Canvas(toolbar=Toolbar(toolitems=[('Home', 'Reset original view', 'home', 'home'), ('Back', 'Back to previous …"
                        ],
                        "application/vnd.jupyter.widget-view+json": {
                            "version_major": 2,
                            "version_minor": 0,
                            "model_id": "e90815f6e8494b0baba865a9250b3266"
                        }
                    },
                    "metadata": {}
                },
                {
                    "output_type": "execute_result",
                    "data": {
                        "text/plain": [
                            "(0.0, 5843347.0)"
                        ]
                    },
                    "metadata": {},
                    "execution_count": 5
                }
            ],
            "metadata": {}
        },
        {
            "cell_type": "code",
            "execution_count": 10,
            "source": [
                "dataPath = './data/OWID_data.csv'\r\n",
                "\r\n",
                "df = pd.read_csv(dataPath)\r\n",
                "\r\n",
                "df.date = pd.to_datetime(df.date)"
            ],
            "outputs": [],
            "metadata": {}
        },
        {
            "cell_type": "code",
            "execution_count": 15,
            "source": [
                "# Check danish data\r\n",
                "curdf = df[df.iso_code == 'DNK']\r\n",
                "# curdf\r\n",
                "curDates = curdf.date\r\n",
                "\r\n",
                "dkCase = curdf['new_cases']\r\n",
                "\r\n",
                "fig,ax1 = plt.subplots()\r\n",
                "\r\n",
                "\r\n",
                "ax1.plot(curDates,dkCase,'.:',markersize=2,linewidth=0.5,color='k')\r\n",
                "ax1.plot(rnTime(curDates,7),rnMean(dkCase,7),color='k')\r\n",
                "\r\n",
                "# DKpop =  5843347\r\n",
                "# ax1.set_ylim([0,DKpop])"
            ],
            "outputs": [
                {
                    "output_type": "display_data",
                    "data": {
                        "text/plain": [
                            "Canvas(toolbar=Toolbar(toolitems=[('Home', 'Reset original view', 'home', 'home'), ('Back', 'Back to previous …"
                        ],
                        "application/vnd.jupyter.widget-view+json": {
                            "version_major": 2,
                            "version_minor": 0,
                            "model_id": "f87b5e1f9e6b483999aba3a9ebfc17b8"
                        }
                    },
                    "metadata": {}
                },
                {
                    "output_type": "execute_result",
                    "data": {
                        "text/plain": [
                            "[<matplotlib.lines.Line2D at 0x2f01e68b4c0>]"
                        ]
                    },
                    "metadata": {},
                    "execution_count": 15
                }
            ],
            "metadata": {}
        }
    ],
    "metadata": {
        "orig_nbformat": 4,
        "language_info": {
            "name": "python",
            "version": "3.8.8",
            "mimetype": "text/x-python",
            "codemirror_mode": {
                "name": "ipython",
                "version": 3
            },
            "pygments_lexer": "ipython3",
            "nbconvert_exporter": "python",
            "file_extension": ".py"
        },
        "kernelspec": {
            "name": "python3",
            "display_name": "Python 3.8.8 64-bit ('main': conda)"
        },
        "interpreter": {
            "hash": "c031fd63bd977d199cd6020c30a19695eacbb638d100e0b8a5ea53080ed74a9a"
        }
    },
    "nbformat": 4,
    "nbformat_minor": 2
}