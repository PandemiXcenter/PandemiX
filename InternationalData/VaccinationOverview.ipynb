{
 "cells": [
  {
   "cell_type": "code",
   "execution_count": 1,
   "source": [
    "import numpy as np\r\n",
    "import pandas as pd\r\n",
    "pd.set_option('display.max_rows', 500)\r\n",
    "pd.set_option('display.min_rows', 50)\r\n",
    "\r\n",
    "import matplotlib.pyplot as plt\r\n",
    "%matplotlib widget\r\n",
    "plt.rcParams['figure.figsize'] = (12,8)\r\n",
    "plt.rcParams[\"image.cmap\"] = \"tab10\"\r\n",
    "plt.rcParams['axes.prop_cycle'] = plt.cycler(color=plt.cm.tab10.colors)\r\n",
    "fs_label = 16\r\n",
    "parameters = {\r\n",
    "                'axes.labelsize': fs_label,\r\n",
    "                'axes.titlesize': fs_label+4,\r\n",
    "                'xtick.labelsize': fs_label,\r\n",
    "                'ytick.labelsize': fs_label, \r\n",
    "                'lines.markersize': 10,\r\n",
    "                'lines.linewidth': 3\r\n",
    "             }\r\n",
    "plt.rcParams.update(parameters)\r\n",
    "%matplotlib widget\r\n",
    "import matplotlib.colors as colors\r\n",
    "from matplotlib import cm # Colormaps\r\n",
    "\r\n",
    "cmap = cm.get_cmap('Dark2',7)\r\n",
    "\r\n",
    "import locale\r\n",
    "import matplotlib.dates as mdates\r\n",
    "# locale.setlocale(locale.LC_TIME,\"Danish\")\r\n",
    "# ax = plt.gca()\r\n",
    "# ax1.xaxis.set_major_formatter(mdates.DateFormatter('%b\\n%Y'))\r\n",
    "# # ax.xaxis.set_major_formatter(mdates.DateFormatter('%Y \\n %B'))\r\n",
    "\r\n",
    "\r\n",
    "import os\r\n",
    "import math\r\n",
    "\r\n",
    "from datetime import date\r\n",
    "import datetime\r\n",
    "\r\n",
    "saveFigures = True\r\n",
    "print('saveFigures is set to: '+str(saveFigures))\r\n",
    "print('Done loading packages')\r\n",
    "\r\n",
    "def rnMean(data,meanWidth):\r\n",
    "    return np.convolve(data, np.ones(meanWidth)/meanWidth, mode='valid')\r\n",
    "def rnTime(t,meanWidth):\r\n",
    "    return t[math.floor(meanWidth/2):-math.ceil(meanWidth/2)+1]\r\n",
    "def rnTime2(t,meanWidth):\r\n",
    "    return t[meanWidth-1:]\r\n",
    "def plotWithMean(ax,x,y,meanWidth):\r\n",
    "    firstLine = ax.plot(x,y,'.:',markersize=2,linewidth=0.5)\r\n",
    "    firstColor = firstLine[0].get_color()\r\n",
    "    ax.plot(rnTime(x,meanWidth),rnMean(y,meanWidth),color=firstColor)"
   ],
   "outputs": [
    {
     "output_type": "stream",
     "name": "stdout",
     "text": [
      "saveFigures is set to: True\n",
      "Done loading packages\n"
     ]
    }
   ],
   "metadata": {}
  },
  {
   "cell_type": "code",
   "execution_count": 2,
   "source": [
    "dataPath = './data/OWID_vaccinations.csv'\r\n",
    "\r\n",
    "df = pd.read_csv(dataPath)\r\n",
    "\r\n",
    "df.date = pd.to_datetime(df.date)\r\n",
    "dkdf = df[df.location == 'Denmark']"
   ],
   "outputs": [],
   "metadata": {}
  },
  {
   "cell_type": "code",
   "execution_count": 3,
   "source": [
    "dkdf.columns"
   ],
   "outputs": [
    {
     "output_type": "execute_result",
     "data": {
      "text/plain": [
       "Index(['location', 'iso_code', 'date', 'total_vaccinations',\n",
       "       'people_vaccinated', 'people_fully_vaccinated', 'total_boosters',\n",
       "       'daily_vaccinations_raw', 'daily_vaccinations',\n",
       "       'total_vaccinations_per_hundred', 'people_vaccinated_per_hundred',\n",
       "       'people_fully_vaccinated_per_hundred', 'total_boosters_per_hundred',\n",
       "       'daily_vaccinations_per_million'],\n",
       "      dtype='object')"
      ]
     },
     "metadata": {},
     "execution_count": 3
    }
   ],
   "metadata": {}
  },
  {
   "cell_type": "code",
   "execution_count": 4,
   "source": [
    "fig,ax1 = plt.subplots()\r\n",
    "\r\n",
    "ax1.plot(dkdf.date,dkdf.people_vaccinated_per_hundred)\r\n",
    "ax1.plot(dkdf.date,dkdf.people_fully_vaccinated_per_hundred)\r\n",
    "plt.tight_layout()"
   ],
   "outputs": [
    {
     "output_type": "display_data",
     "data": {
      "text/plain": [
       "Canvas(toolbar=Toolbar(toolitems=[('Home', 'Reset original view', 'home', 'home'), ('Back', 'Back to previous …"
      ],
      "application/vnd.jupyter.widget-view+json": {
       "version_major": 2,
       "version_minor": 0,
       "model_id": "edfc4c0f14134e72bc305c4dac4d9458"
      }
     },
     "metadata": {}
    }
   ],
   "metadata": {}
  },
  {
   "cell_type": "code",
   "execution_count": 5,
   "source": [
    "ifrVaccDF = pd.read_csv('IFRofVaccPerRegion.csv')\r\n",
    "\r\n"
   ],
   "outputs": [],
   "metadata": {}
  },
  {
   "cell_type": "code",
   "execution_count": 6,
   "source": [
    "curDates = dkdf.date.values.astype('datetime64[D]')\r\n",
    "\r\n",
    "dkVacc = dkdf.people_vaccinated_per_hundred\r\n",
    "dkVacc[dkVacc.isna()] = 0\r\n",
    "\r\n",
    "dkVacc = dkVacc.astype(int)\r\n",
    "# dkVacc = (dkVacc/100)\r\n",
    "\r\n",
    "dkVacc = dkVacc.values\r\n",
    "\r\n",
    "# dkVacc"
   ],
   "outputs": [
    {
     "output_type": "stream",
     "name": "stderr",
     "text": [
      "<ipython-input-6-85f2937a5009>:4: SettingWithCopyWarning: \n",
      "A value is trying to be set on a copy of a slice from a DataFrame\n",
      "\n",
      "See the caveats in the documentation: https://pandas.pydata.org/pandas-docs/stable/user_guide/indexing.html#returning-a-view-versus-a-copy\n",
      "  dkVacc[dkVacc.isna()] = 0\n",
      "C:\\ProgramData\\Anaconda3\\envs\\main\\lib\\site-packages\\pandas\\core\\series.py:992: SettingWithCopyWarning: \n",
      "A value is trying to be set on a copy of a slice from a DataFrame\n",
      "\n",
      "See the caveats in the documentation: https://pandas.pydata.org/pandas-docs/stable/user_guide/indexing.html#returning-a-view-versus-a-copy\n",
      "  self._where(~key, value, inplace=True)\n"
     ]
    }
   ],
   "metadata": {}
  },
  {
   "cell_type": "code",
   "execution_count": 7,
   "source": [
    "# ifrVaccDF['Denmark']\r\n",
    "# dkVacc.isin(ifrVaccDF['VaccRate'])\r\n",
    "# dkVacc\r\n",
    "\r\n",
    "ifrpertime = []\r\n",
    "\r\n",
    "for k in range(0,len(dkVacc)):\r\n",
    "    curVacc = dkVacc[k]\r\n",
    "    curIndex = np.where(np.round((ifrVaccDF['VaccRate']*100)).astype(int) == curVacc)[0]\r\n",
    "    curIFR = ifrVaccDF['Denmark'].iloc[curIndex].values[0]\r\n",
    "    ifrpertime.append(curIFR)\r\n",
    "    # print(curIFR)"
   ],
   "outputs": [],
   "metadata": {}
  },
  {
   "cell_type": "code",
   "execution_count": 8,
   "source": [
    "# (ifrVaccDF['VaccRate'] == curVacc).values\r\n",
    "# ifrVaccDF['VaccRate'].values\r\n",
    "# curVacc\r\n",
    "\r\n",
    "vaccDates = curDates + np.timedelta64(14,'D')\r\n",
    "# plt.figure()\r\n",
    "\r\n",
    "fig,(ax1,ax2) = plt.subplots(2,1,sharex=True)\r\n",
    "\r\n",
    "ax1.plot(curDates,dkVacc)\r\n",
    "# ax2.plot(curDates,ifrpertime)\r\n",
    "ax2.plot(vaccDates,ifrpertime)\r\n",
    "\r\n",
    "\r\n",
    "ax1.set_ylim(bottom=0)\r\n",
    "ax2.set_ylim(bottom=0)\r\n",
    "\r\n",
    "plt.tight_layout()\r\n",
    "\r\n",
    "# ax1.xaxis.set_major_formatter(mdates.DateFormatter('%b\\n%Y'))\r\n",
    "\r\n",
    "# ifrpertime\r\n",
    "# np.where((ifrVaccDF['VaccRate']*100).astype(int) == 30)\r\n",
    "# np.round((ifrVaccDF['VaccRate']*100)).astype(int).iloc[29]"
   ],
   "outputs": [
    {
     "output_type": "display_data",
     "data": {
      "text/plain": [
       "Canvas(toolbar=Toolbar(toolitems=[('Home', 'Reset original view', 'home', 'home'), ('Back', 'Back to previous …"
      ],
      "application/vnd.jupyter.widget-view+json": {
       "version_major": 2,
       "version_minor": 0,
       "model_id": "d8c70fbb37b5460ea6daaadfb67d514f"
      }
     },
     "metadata": {}
    }
   ],
   "metadata": {}
  },
  {
   "cell_type": "code",
   "execution_count": 9,
   "source": [
    "dataPath = './data/OWID_data.csv'\r\n",
    "\r\n",
    "dfData = pd.read_csv(dataPath)\r\n",
    "\r\n",
    "# print(dfData.columns)\r\n",
    "\r\n",
    "dfData.date = pd.to_datetime(dfData.date)\r\n",
    "curdfData = dfData[dfData.location == 'Denmark']\r\n"
   ],
   "outputs": [],
   "metadata": {}
  },
  {
   "cell_type": "code",
   "execution_count": 10,
   "source": [
    "# fig,ax1 = plt.subplots()\r\n",
    "\r\n",
    "# ax1.plot(curdfData.date,curdfData.new_deaths)\r\n",
    "# ax1.plot(rnTime(curdfData.date,7),rnMean(curdfData.new_deaths,7))\r\n"
   ],
   "outputs": [],
   "metadata": {}
  },
  {
   "cell_type": "code",
   "execution_count": 11,
   "source": [
    "dataDates = curdfData.date.values.astype('datetime64[D]')\r\n",
    "dataDates\r\n",
    "curDates\r\n",
    "\r\n",
    "missingDates = np.arange(dataDates[0],curDates[0])\r\n",
    "missingDates\r\n",
    "\r\n",
    "allDates = np.append(missingDates,curDates)\r\n",
    "allDkVacc = np.append(np.zeros((len(missingDates),)),dkVacc)\r\n",
    "\r\n",
    "\r\n",
    "ifrpertime = []\r\n",
    "\r\n",
    "for k in range(0,len(allDkVacc)):\r\n",
    "    curVacc = allDkVacc[k]\r\n",
    "    curIndex = np.where(np.round((ifrVaccDF['VaccRate']*100)).astype(int) == curVacc)[0]\r\n",
    "    curIFR = ifrVaccDF['Denmark'].iloc[curIndex].values[0]\r\n",
    "    ifrpertime.append(curIFR)\r\n",
    "    # print(curIFR)\r\n",
    "\r\n",
    "fig,ax1 = plt.subplots()\r\n",
    "\r\n",
    "# ax1.plot(allDates,allDkVacc)\r\n",
    "ax1.plot(allDates,ifrpertime)\r\n",
    "# ax1.plot(curDates,np.zeros((len(missingDates),)))"
   ],
   "outputs": [
    {
     "output_type": "display_data",
     "data": {
      "text/plain": [
       "Canvas(toolbar=Toolbar(toolitems=[('Home', 'Reset original view', 'home', 'home'), ('Back', 'Back to previous …"
      ],
      "application/vnd.jupyter.widget-view+json": {
       "version_major": 2,
       "version_minor": 0,
       "model_id": "a03c25d8f0184363ad1f6c9985f3b7e5"
      }
     },
     "metadata": {}
    },
    {
     "output_type": "execute_result",
     "data": {
      "text/plain": [
       "[<matplotlib.lines.Line2D at 0x143aabe26a0>]"
      ]
     },
     "metadata": {},
     "execution_count": 11
    }
   ],
   "metadata": {}
  },
  {
   "cell_type": "code",
   "execution_count": 12,
   "source": [
    "curdfData.columns"
   ],
   "outputs": [
    {
     "output_type": "execute_result",
     "data": {
      "text/plain": [
       "Index(['iso_code', 'continent', 'location', 'date', 'total_cases', 'new_cases',\n",
       "       'new_cases_smoothed', 'total_deaths', 'new_deaths',\n",
       "       'new_deaths_smoothed', 'total_cases_per_million',\n",
       "       'new_cases_per_million', 'new_cases_smoothed_per_million',\n",
       "       'total_deaths_per_million', 'new_deaths_per_million',\n",
       "       'new_deaths_smoothed_per_million', 'reproduction_rate', 'icu_patients',\n",
       "       'icu_patients_per_million', 'hosp_patients',\n",
       "       'hosp_patients_per_million', 'weekly_icu_admissions',\n",
       "       'weekly_icu_admissions_per_million', 'weekly_hosp_admissions',\n",
       "       'weekly_hosp_admissions_per_million', 'new_tests', 'total_tests',\n",
       "       'total_tests_per_thousand', 'new_tests_per_thousand',\n",
       "       'new_tests_smoothed', 'new_tests_smoothed_per_thousand',\n",
       "       'positive_rate', 'tests_per_case', 'tests_units', 'total_vaccinations',\n",
       "       'people_vaccinated', 'people_fully_vaccinated', 'total_boosters',\n",
       "       'new_vaccinations', 'new_vaccinations_smoothed',\n",
       "       'total_vaccinations_per_hundred', 'people_vaccinated_per_hundred',\n",
       "       'people_fully_vaccinated_per_hundred', 'total_boosters_per_hundred',\n",
       "       'new_vaccinations_smoothed_per_million', 'stringency_index',\n",
       "       'population', 'population_density', 'median_age', 'aged_65_older',\n",
       "       'aged_70_older', 'gdp_per_capita', 'extreme_poverty',\n",
       "       'cardiovasc_death_rate', 'diabetes_prevalence', 'female_smokers',\n",
       "       'male_smokers', 'handwashing_facilities', 'hospital_beds_per_thousand',\n",
       "       'life_expectancy', 'human_development_index', 'excess_mortality'],\n",
       "      dtype='object')"
      ]
     },
     "metadata": {},
     "execution_count": 12
    }
   ],
   "metadata": {}
  },
  {
   "cell_type": "code",
   "execution_count": 13,
   "source": [
    "# allDates[-1]\r\n",
    "# len(allDates)\r\n",
    "# len(curdfData.date.values)\r\n",
    "fig,(ax1,ax2) = plt.subplots(2,1,sharex=True,figsize=(14,14))\r\n",
    "\r\n",
    "ax1.plot(curdfData.date,curdfData.new_deaths,'k*:',markersize=2,linewidth=0.5)\r\n",
    "ax1.plot(rnTime(curdfData.date,7),rnMean(curdfData.new_deaths,7),'k')\r\n",
    "\r\n",
    "# ax1.plot(curDates,dkVacc,'k')\r\n",
    "\r\n",
    "deathsToUse = curdfData.new_deaths.values[:-1]\r\n",
    "curCase = deathsToUse/(np.divide(ifrpertime,100))\r\n",
    "curCaseMean = deathsToUse/(ifrpertime[0]/100)\r\n",
    "\r\n",
    "\r\n",
    "DatesToPlot = allDates - np.timedelta64(21,'D')\r\n",
    "\r\n",
    "\r\n",
    "# ax2.plot(DatesToPlot,curCaseMean,'g*:',markersize=2,linewidth=0.5)\r\n",
    "ax2.plot(rnTime(DatesToPlot,7),rnMean(curCaseMean,7),'g:',label='Fra konstant IFR')\r\n",
    "# ax2.plot(DatesToPlot,curCase,'b*:',markersize=2,linewidth=0.5)\r\n",
    "ax2.plot(rnTime(DatesToPlot,7),rnMean(curCase,7),'b--',label='Fra IFR som funktion af vaccination')\r\n",
    "# ax2.plot(curdfData.date,curdfData.new_cases,'k*:',markersize=2,linewidth=0.5)\r\n",
    "ax2.plot(rnTime(curdfData.date,7),rnMean(curdfData.new_cases,7),'k',label='Officielle tal')\r\n",
    "\r\n",
    "\r\n",
    "ax1.set_ylim(bottom=0)\r\n",
    "ax2.set_ylim(bottom=0)\r\n",
    "\r\n",
    "# ax2.set_xlim(left=np.datetime64('2021-02-01'))\r\n",
    "# ax2.set_xlim(right=np.datetime64('2021-06-01'))\r\n",
    "# ax2.set_ylim(top=1500)\r\n",
    "\r\n",
    "ax2.legend()\r\n",
    "\r\n",
    "ax1.set_ylabel('Dødsfald')\r\n",
    "ax2.set_ylabel('Bekræftede tilfælde')\r\n",
    "\r\n",
    "plt.tight_layout()\r\n",
    "\r\n",
    "if saveFigures:\r\n",
    "    plt.savefig('figs/CasesFromVaccIFR_DK_old')\r\n",
    "    \r\n",
    "ax2.set_xlim(left=np.datetime64('2021-01-01'))\r\n",
    "ax2.set_xlim(right=np.datetime64('2021-06-01'))\r\n",
    "ax2.set_ylim(top=2000)\r\n",
    "\r\n",
    "if saveFigures:\r\n",
    "    plt.savefig('figs/CasesFromVaccIFRZoom_DK_old')"
   ],
   "outputs": [
    {
     "output_type": "display_data",
     "data": {
      "text/plain": [
       "Canvas(toolbar=Toolbar(toolitems=[('Home', 'Reset original view', 'home', 'home'), ('Back', 'Back to previous …"
      ],
      "application/vnd.jupyter.widget-view+json": {
       "version_major": 2,
       "version_minor": 0,
       "model_id": "141e3514b143433a9ec69034e2014824"
      }
     },
     "metadata": {}
    }
   ],
   "metadata": {}
  },
  {
   "cell_type": "code",
   "execution_count": 24,
   "source": [
    "# allDates[-1]\r\n",
    "# len(allDates)\r\n",
    "# len(curdfData.date.values)\r\n",
    "fig,(ax1,ax2) = plt.subplots(2,1,sharex=True,figsize=(14,14),gridspec_kw={'height_ratios': [3, 1]})\r\n",
    "\r\n",
    "meanWidth = 14\r\n",
    "\r\n",
    "deathsToUse = curdfData.new_deaths.values[:-1]\r\n",
    "curCase = deathsToUse/(np.divide(ifrpertime,100))\r\n",
    "curCaseMean = deathsToUse/(ifrpertime[0]/100)\r\n",
    "\r\n",
    "\r\n",
    "DatesToPlot = allDates - np.timedelta64(21,'D')\r\n",
    "\r\n",
    "\r\n",
    "# ax1.plot(curdfData.date,curdfData.new_cases,'k*:',markersize=2,linewidth=0.5)\r\n",
    "ax1.plot(rnTime(curdfData.date,meanWidth),rnMean(curdfData.new_cases,meanWidth),'k',label='Confirmed cases')\r\n",
    "# ax1.plot(DatesToPlot,curCaseMean,'g*:',markersize=2,linewidth=0.5)\r\n",
    "ax1.plot(rnTime(DatesToPlot,meanWidth),rnMean(curCaseMean,meanWidth),'g:',label='From constant IFR')\r\n",
    "# ax1.plot(DatesToPlot,curCase,'b*:',markersize=2,linewidth=0.5)\r\n",
    "ax1.plot(rnTime(DatesToPlot,meanWidth),rnMean(curCase,meanWidth),'b--',label='From IFR as a function of vaccination')\r\n",
    "\r\n",
    "\r\n",
    "ax2.plot(allDates,ifrpertime,'b--')\r\n",
    "ax2.plot(allDates,np.ones(np.array(ifrpertime).shape)*ifrpertime[0],'g:')\r\n",
    "\r\n",
    "ax2_2 = ax2.twinx()\r\n",
    "clrTwin = 'm'\r\n",
    "ax2_2.plot(curDates,dkVacc,'k',color=clrTwin)\r\n",
    "ax2_2.set_ylabel('Vaccination rate [%]',color=clrTwin)\r\n",
    "ax2_2.tick_params(axis='y', labelcolor=clrTwin)\r\n",
    "\r\n",
    "ax1.set_ylim(bottom=0)\r\n",
    "ax2.set_ylim(bottom=0)\r\n",
    "ax2_2.set_ylim(bottom=0,top=100)\r\n",
    "\r\n",
    "\r\n",
    "ax1.legend(fontsize=16)\r\n",
    "\r\n",
    "ax2.set_ylabel('Effective IFR [%]')\r\n",
    "ax1.set_ylabel('Cases')\r\n",
    "\r\n",
    "ax1.xaxis.set_major_formatter(mdates.DateFormatter('%b\\n%Y'))\r\n",
    "ax1.set_title('Denmark')\r\n",
    "\r\n",
    "plt.tight_layout()\r\n",
    "\r\n",
    "if saveFigures:\r\n",
    "    plt.savefig('figs/CasesFromVaccIFR_DK')\r\n",
    "    \r\n",
    "ax1.set_xlim(left=np.datetime64('2021-01-01'))\r\n",
    "ax1.set_xlim(right=np.datetime64('2021-07-01'))\r\n",
    "ax1.set_ylim(top=2000)\r\n",
    "\r\n",
    "if saveFigures:\r\n",
    "    plt.savefig('figs/CasesFromVaccIFRZoom_DK')"
   ],
   "outputs": [
    {
     "output_type": "display_data",
     "data": {
      "text/plain": [
       "Canvas(toolbar=Toolbar(toolitems=[('Home', 'Reset original view', 'home', 'home'), ('Back', 'Back to previous …"
      ],
      "application/vnd.jupyter.widget-view+json": {
       "version_major": 2,
       "version_minor": 0,
       "model_id": "0508bf8b4527414bb0e91a99f8977110"
      }
     },
     "metadata": {}
    }
   ],
   "metadata": {}
  },
  {
   "cell_type": "code",
   "execution_count": 25,
   "source": [
    "# allDates[-1]\r\n",
    "# len(allDates)\r\n",
    "# len(curdfData.date.values)\r\n",
    "fig,ax1 = plt.subplots(1,1,sharex=True,figsize=(14,14))\r\n",
    "\r\n",
    "# ax1.plot(curdfData.date,curdfData.new_deaths,'k*:',markersize=2,linewidth=0.5)\r\n",
    "# ax1.plot(rnTime(curdfData.date,7),rnMean(curdfData.new_deaths,7),'k')\r\n",
    "\r\n",
    "\r\n",
    "DatesToPlot = curdfData.date - np.timedelta64(21,'D')\r\n",
    "\r\n",
    "\r\n",
    "# ax2.plot(curdfData.date,curdfData.new_cases,'k*:',markersize=2,linewidth=0.5)\r\n",
    "\r\n",
    "curDeaths = rnMean(curdfData.new_deaths,7)\r\n",
    "curCase = rnMean(curdfData.new_cases,7)\r\n",
    "ax1.plot(rnTime(DatesToPlot,7),np.divide(curDeaths,40),'b')\r\n",
    "ax1.plot(rnTime(curdfData.date,7),np.divide(curCase,4000),'k',label='Officielle tal')\r\n",
    "\r\n",
    "\r\n",
    "# ax1.set_ylim(bottom=0)\r\n",
    "\r\n",
    "# ax1.set_ylabel('Dødsfald')\r\n",
    "# ax2.set_ylabel('Bekræftede tilfælde')\r\n",
    "\r\n",
    "plt.tight_layout()"
   ],
   "outputs": [
    {
     "output_type": "display_data",
     "data": {
      "text/plain": [
       "Canvas(toolbar=Toolbar(toolitems=[('Home', 'Reset original view', 'home', 'home'), ('Back', 'Back to previous …"
      ],
      "application/vnd.jupyter.widget-view+json": {
       "version_major": 2,
       "version_minor": 0,
       "model_id": "c287c0657ada472d966429404c7dc94a"
      }
     },
     "metadata": {}
    }
   ],
   "metadata": {}
  },
  {
   "cell_type": "code",
   "execution_count": null,
   "source": [
    "# curdf = dfData[dfData.location == 'Peru']\r\n",
    "# curdf.columns\r\n",
    "\r\n",
    "# plt.figure()\r\n",
    "\r\n",
    "# plt.plot(curdf.date,curdf.weekly_hosp_admissions,'*')\r\n",
    "# # curdf.weekly_hosp_admissions"
   ],
   "outputs": [],
   "metadata": {}
  }
 ],
 "metadata": {
  "orig_nbformat": 4,
  "language_info": {
   "name": "python",
   "version": "3.8.8",
   "mimetype": "text/x-python",
   "codemirror_mode": {
    "name": "ipython",
    "version": 3
   },
   "pygments_lexer": "ipython3",
   "nbconvert_exporter": "python",
   "file_extension": ".py"
  },
  "kernelspec": {
   "name": "python3",
   "display_name": "Python 3.8.8 64-bit ('main': conda)"
  },
  "interpreter": {
   "hash": "c031fd63bd977d199cd6020c30a19695eacbb638d100e0b8a5ea53080ed74a9a"
  }
 },
 "nbformat": 4,
 "nbformat_minor": 2
}